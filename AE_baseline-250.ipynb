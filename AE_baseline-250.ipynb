{
 "cells": [
  {
   "cell_type": "markdown",
   "id": "ca813a76-47b7-458b-a3d2-1e4f49079a08",
   "metadata": {},
   "source": [
    "  # Autoencoder - Baseline mode - Copy 1"
   ]
  },
  {
   "cell_type": "markdown",
   "id": "41638752-2456-4f2e-9e7e-e4039fe926a2",
   "metadata": {},
   "source": [
    "# Setup"
   ]
  },
  {
   "cell_type": "code",
   "execution_count": 1,
   "id": "11ad0ae2",
   "metadata": {
    "ExecuteTime": {
     "end_time": "2023-04-12T10:29:15.566596Z",
     "start_time": "2023-04-12T10:29:15.550232Z"
    },
    "execution": {
     "iopub.execute_input": "2024-06-13T10:26:13.721154Z",
     "iopub.status.busy": "2024-06-13T10:26:13.720572Z",
     "iopub.status.idle": "2024-06-13T10:26:13.747041Z",
     "shell.execute_reply": "2024-06-13T10:26:13.746343Z",
     "shell.execute_reply.started": "2024-06-13T10:26:13.721100Z"
    }
   },
   "outputs": [
    {
     "data": {
      "text/html": [
       "<style>.container { width:98% !important; }</style>"
      ],
      "text/plain": [
       "<IPython.core.display.HTML object>"
      ]
     },
     "metadata": {},
     "output_type": "display_data"
    }
   ],
   "source": [
    "from IPython.display import display, HTML\n",
    "display(HTML(\"<style>.container { width:98% !important; }</style>\"))\n",
    "%load_ext autoreload  \n",
    "%autoreload 2\n",
    "from IPython.core.interactiveshell import InteractiveShell\n",
    "InteractiveShell.ast_node_interactivity = \"all\""
   ]
  },
  {
   "cell_type": "code",
   "execution_count": 2,
   "id": "9ba59711",
   "metadata": {
    "ExecuteTime": {
     "end_time": "2023-04-12T10:29:16.111588Z",
     "start_time": "2023-04-12T10:29:15.764305Z"
    },
    "execution": {
     "iopub.execute_input": "2024-06-13T10:26:14.350436Z",
     "iopub.status.busy": "2024-06-13T10:26:14.350030Z",
     "iopub.status.idle": "2024-06-13T10:26:18.177440Z",
     "shell.execute_reply": "2024-06-13T10:26:18.176652Z",
     "shell.execute_reply.started": "2024-06-13T10:26:14.350410Z"
    }
   },
   "outputs": [
    {
     "name": "stdout",
     "output_type": "stream",
     "text": [
      "insert ./src\n",
      "insert ../..\n",
      "['../..', './src', '/home/kevin/miniforge3/envs/ptsnnl/lib/python311.zip', '/home/kevin/miniforge3/envs/ptsnnl/lib/python3.11', '/home/kevin/miniforge3/envs/ptsnnl/lib/python3.11/lib-dynload', '', '/home/kevin/miniforge3/envs/ptsnnl/lib/python3.11/site-packages']\n",
      "2.2.1+cu118\n",
      "Timestamp:  2024_06_13_12:26:18\n"
     ]
    }
   ],
   "source": [
    "import os\n",
    "import sys\n",
    "import csv\n",
    "import json\n",
    "import time\n",
    "import types, copy, pprint\n",
    "import logging \n",
    "from datetime import datetime\n",
    "for p in ['./src','../..']:\n",
    "    if p not in sys.path:\n",
    "        print(f\"insert {p}\")\n",
    "        sys.path.insert(0, p)\n",
    "print(sys.path)\n",
    "import shutil\n",
    "import getpass\n",
    "import yaml\n",
    "\n",
    "from matplotlib import pyplot as plt\n",
    "from typing import Dict, List, Tuple\n",
    "from scipy.sparse import csr_matrix\n",
    "from tqdm import tqdm\n",
    "\n",
    "import numpy as np\n",
    "import pandas as pd\n",
    "\n",
    "import torch\n",
    "import torch.nn.functional as F\n",
    "from torchinfo import summary\n",
    "\n",
    "torch.set_printoptions(precision=None, threshold=None, edgeitems=None, linewidth=150, profile=None, sci_mode=None)\n",
    "print(torch.__version__)\n",
    "\n",
    "pp = pprint.PrettyPrinter(indent=4)\n",
    "pd.options.display.width = 132\n",
    "torch.set_printoptions(precision=None, threshold=None, edgeitems=None, linewidth=150, profile=None, sci_mode=None)\n",
    "np.set_printoptions(edgeitems=3, infstr='inf', linewidth=150, nanstr='nan')\n",
    "\n",
    "os.environ[\"WANDB_NOTEBOOK_NAME\"] = \"Autoencoder_dev.ipynb\"\n",
    "# os.environ[\"CUDA_LAUNCH_BLOCKING\"] = \"1\"\n",
    "# os.environ[\"CUDA_VISIBLE_DEVICES\"] = \"1\"\n",
    "import wandb\n",
    "from KevinsRoutines.utils.utils_wandb  import  init_wandb, wandb_log_metrics,wandb_watch\n",
    "from KevinsRoutines.utils.utils_general  import  list_namespace \n",
    "\n",
    "timestamp = datetime.now().strftime('%Y_%m_%d_%H:%M:%S')\n",
    "print('Timestamp: ',timestamp)"
   ]
  },
  {
   "cell_type": "code",
   "execution_count": 3,
   "id": "9c3ba93c-cf59-4e11-9229-53a2fe3b3dde",
   "metadata": {
    "execution": {
     "iopub.execute_input": "2024-06-13T10:26:37.968935Z",
     "iopub.status.busy": "2024-06-13T10:26:37.968268Z",
     "iopub.status.idle": "2024-06-13T10:26:39.692785Z",
     "shell.execute_reply": "2024-06-13T10:26:39.692023Z",
     "shell.execute_reply.started": "2024-06-13T10:26:37.968898Z"
    }
   },
   "outputs": [
    {
     "data": {
      "text/plain": [
       "'Sample module for using DNN classifier with SNNL'"
      ]
     },
     "execution_count": 3,
     "metadata": {},
     "output_type": "execute_result"
    }
   ],
   "source": [
    "# Soft Nearest Neighbor Loss\n",
    "# Copyright (C) 2020  Abien Fred Agarap\n",
    "__author__ = \"Abien Fred Agarap\"\n",
    "__version__ = \"1.0.0\"\n",
    "\"\"\"Sample module for using DNN classifier with SNNL\"\"\"\n",
    "\n",
    "from snnl.utils import parse_args, get_hyperparameters, set_global_seed, get_device, set_device\n",
    "from snnl.utils import load_model, save_model, import_results, export_results, save_checkpoint, load_checkpoint \n",
    "from snnl.utils import plot_model_parms, plot_train_history, plot_classification_metrics, plot_regression_metrics\n",
    "from snnl.utils import display_epoch_metrics, display_cellpainting_batch\n",
    "from snnl.utils import CellpaintingDataset, InfiniteDataLoader, custom_collate_fn\n",
    "from snnl.utils import display_model_summary, define_autoencoder_model\n",
    "from snnl.utils import save_checkpoint_v2, load_checkpoint_v2\n",
    "\n",
    "from snnl.models import Model\n",
    "from snnl.models import DNN \n",
    "from snnl.models import Autoencoder\n",
    "from snnl.losses import SNNLoss"
   ]
  },
  {
   "cell_type": "code",
   "execution_count": 5,
   "id": "40373393-9cbf-4448-a3ad-dbd7861fb8ae",
   "metadata": {
    "execution": {
     "iopub.execute_input": "2024-06-13T10:26:47.990184Z",
     "iopub.status.busy": "2024-06-13T10:26:47.989541Z",
     "iopub.status.idle": "2024-06-13T10:26:48.041571Z",
     "shell.execute_reply": "2024-06-13T10:26:48.040980Z",
     "shell.execute_reply.started": "2024-06-13T10:26:47.990120Z"
    }
   },
   "outputs": [
    {
     "name": "stderr",
     "output_type": "stream",
     "text": [
      "2024-06-13 12:26:48,036 - __main__ - INFO: -  Excution started : 2024_06_13_12:26:18 \n",
      "2024-06-13 12:26:48,037 - __main__ - INFO: -  Pytorch version  : 2.2.1+cu118\n"
     ]
    }
   ],
   "source": [
    "logger = logging.getLogger(__name__) \n",
    "logLevel = os.environ.get('LOG_LEVEL', 'INFO').upper()\n",
    "FORMAT = '%(asctime)s - %(name)s - %(levelname)s: - %(message)s'\n",
    "logging.basicConfig(level=\"INFO\", format= FORMAT)\n",
    "\n",
    "logger.info(f\" Excution started : {timestamp} \")\n",
    "logger.info(f\" Pytorch version  : {torch.__version__}\")\n",
    "# logger.info(f\" Search path      : {sys.path}\")\n"
   ]
  },
  {
   "cell_type": "markdown",
   "id": "1be5e789-3446-482f-a3ca-fdd19b2a845e",
   "metadata": {},
   "source": [
    "### main(args)"
   ]
  },
  {
   "cell_type": "code",
   "execution_count": 6,
   "id": "8a540f64-c33b-4ced-bf1d-77f7de1785d4",
   "metadata": {
    "execution": {
     "iopub.execute_input": "2024-06-13T10:26:52.581272Z",
     "iopub.status.busy": "2024-06-13T10:26:52.580654Z",
     "iopub.status.idle": "2024-06-13T10:26:52.638721Z",
     "shell.execute_reply": "2024-06-13T10:26:52.638030Z",
     "shell.execute_reply.started": "2024-06-13T10:26:52.581217Z"
    }
   },
   "outputs": [
    {
     "data": {
      "text/plain": [
       "Namespace(seed=1234, runmode='baseline', configuration='hyperparameters/ae_cp_250_512.yaml', wandb=True, run_id='ynyo0ho9', ckpt='AE_baseline_20240612_snglOpt-250Ltnt_512_ep_175.pt', epochs=50, gpu_id=0)"
      ]
     },
     "execution_count": 6,
     "metadata": {},
     "output_type": "execute_result"
    }
   ],
   "source": [
    "# if __name__ == \"__main__\":\n",
    "input_args = f\" --runmode            baseline\" \\\n",
    "             f\" --configuration      hyperparameters/ae_cp_250_512.yaml\" \\\n",
    "             f\" --wandb              \"\\\n",
    "             f\" --gpu_id             0 \"\\\n",
    "             f\" --epochs             50 \" \\\n",
    "             f\" --run_id             ynyo0ho9 \" \\\n",
    "             f\" --ckpt               AE_baseline_20240612_snglOpt-250Ltnt_512_ep_175.pt \"  \n",
    "             # f\" --runmode            snnl\" \\\n",
    "args = parse_args(input_args.split())\n",
    "args\n",
    "\n",
    "with open(args.configuration) as f:\n",
    "    args = types.SimpleNamespace(**yaml.safe_load(f), **(vars(args)))\n",
    "args.batch_size = args.cellpainting_args['batch_size']\n",
    "args.compounds_per_batch = args.cellpainting_args['compounds_per_batch']\n",
    "set_global_seed(args.seed)\n"
   ]
  },
  {
   "cell_type": "code",
   "execution_count": 7,
   "id": "d855b17f-b7f5-4fed-9146-c4c06154ffff",
   "metadata": {
    "execution": {
     "iopub.execute_input": "2024-06-13T10:26:54.718981Z",
     "iopub.status.busy": "2024-06-13T10:26:54.717913Z",
     "iopub.status.idle": "2024-06-13T10:26:55.825099Z",
     "shell.execute_reply": "2024-06-13T10:26:55.824349Z",
     "shell.execute_reply.started": "2024-06-13T10:26:54.718890Z"
    }
   },
   "outputs": [
    {
     "name": "stderr",
     "output_type": "stream",
     "text": [
      "2024-06-13 12:26:55,815 - snnl.utils.utils - INFO: -  Current CUDA Device is:  cuda:0 - Quadro GV100\n",
      "2024-06-13 12:26:55,817 - snnl.utils.utils - INFO: -  Switched to: Quadro GV100 - 0\n",
      "2024-06-13 12:26:55,817 - snnl.utils.utils - INFO: -  Current CUDA Device is:  cuda:0 - Quadro GV100\n"
     ]
    }
   ],
   "source": [
    "if args.gpu_id is not None:\n",
    "    _ = get_device()\n",
    "    # print(f\"Current device is : {current_device}\")    \n",
    "    current_device = set_device(args.gpu_id)\n",
    "    current_device = get_device()\n"
   ]
  },
  {
   "cell_type": "markdown",
   "id": "7e2871b9-ea54-4869-9fa3-5ade2e1416cd",
   "metadata": {},
   "source": [
    "## Define dataset and dataloaders"
   ]
  },
  {
   "cell_type": "code",
   "execution_count": null,
   "id": "06244afe-95e6-4322-a803-e01ed8babe5f",
   "metadata": {
    "execution": {
     "iopub.execute_input": "2024-06-13T10:27:37.832389Z",
     "iopub.status.busy": "2024-06-13T10:27:37.831840Z",
     "iopub.status.idle": "2024-06-13T10:27:37.883056Z",
     "shell.execute_reply": "2024-06-13T10:27:37.882289Z",
     "shell.execute_reply.started": "2024-06-13T10:27:37.832346Z"
    }
   },
   "outputs": [],
   "source": [
    "#### Load CellPainting Dataset\n",
    "logging.info(f\" load {args.dataset}\")\n",
    "train_dataset = CellpaintingDataset(type='train',    **args.cellpainting_args)\n",
    "train_loader = InfiniteDataLoader(dataset=train_dataset, batch_size = args.batch_size, shuffle = False, num_workers = 0, collate_fn = custom_collate_fn)\n",
    "val_dataset = CellpaintingDataset(type='val',    **args.cellpainting_args)\n",
    "val_loader = InfiniteDataLoader(dataset=val_dataset, batch_size = args.batch_size, shuffle = False, num_workers = 0, collate_fn = custom_collate_fn)"
   ]
  },
  {
   "cell_type": "code",
   "execution_count": 8,
   "id": "e85d6a4d-1603-43ab-b4ff-9c12ae228c51",
   "metadata": {
    "execution": {
     "iopub.execute_input": "2024-06-13T10:27:19.399213Z",
     "iopub.status.busy": "2024-06-13T10:27:19.398610Z",
     "iopub.status.idle": "2024-06-13T10:27:19.458680Z",
     "shell.execute_reply": "2024-06-13T10:27:19.457896Z",
     "shell.execute_reply.started": "2024-06-13T10:27:19.399159Z"
    }
   },
   "outputs": [
    {
     "name": "stdout",
     "output_type": "stream",
     "text": [
      " - Each mini-batch contains 100.0 compounds with 3 samples per each compound : total 300 rows\n",
      " - Number of 300 row full size batches per epoch: 800\n",
      " - Rows covered by 800 full size batches (300 rows) per epoch:  240000\n",
      " - Last partial batch contains : 0 rows\n",
      "\n",
      " - Each mini-batch contains 100.0 compounds with 3 samples per each compound : total 300 rows\n",
      " - Number of 300 row full size batches per epoch: 80\n",
      " - Rows covered by 80 full size batches (300 rows) per epoch:  24000\n",
      " - Last partial batch contains : 0 rows\n",
      "\n"
     ]
    }
   ],
   "source": [
    "# trn_file_sz = args.cellpainting_args['train_end'] - args.cellpainting_args['train_start']\n",
    "# val_file_sz = args.cellpainting_args['val_end'] - args.cellpainting_args['val_start']\n",
    "# smp_sz = args.cellpainting_args['sample_size']\n",
    "# buf_sz = args.cellpainting_args['compounds_per_batch']\n",
    "# bth_sz = args.cellpainting_args['batch_size']\n",
    "# recs_per_batch = smp_sz * bth_sz * buf_sz\n",
    "\n",
    "# for file_sz in [trn_file_sz, val_file_sz]:\n",
    "#     bth_per_epoch = file_sz // recs_per_batch\n",
    "#     print(f\" - Each mini-batch contains {recs_per_batch/smp_sz} compounds with {smp_sz} samples per each compound : total {recs_per_batch} rows\")\n",
    "#     print(f\" - Number of {recs_per_batch} row full size batches per epoch: {bth_per_epoch}\")\n",
    "#     print(f\" - Rows covered by {bth_per_epoch} full size batches ({recs_per_batch} rows) per epoch:  {(file_sz // recs_per_batch) * recs_per_batch}\")\n",
    "#     print(f\" - Last partial batch contains : {file_sz % recs_per_batch} rows\")\n",
    "#     print() "
   ]
  },
  {
   "cell_type": "code",
   "execution_count": null,
   "id": "31c5fdb2-42b3-42bd-b70c-5c8ced7c0041",
   "metadata": {
    "execution": {
     "iopub.execute_input": "2024-06-13T10:27:37.832389Z",
     "iopub.status.busy": "2024-06-13T10:27:37.831840Z",
     "iopub.status.idle": "2024-06-13T10:27:37.883056Z",
     "shell.execute_reply": "2024-06-13T10:27:37.882289Z",
     "shell.execute_reply.started": "2024-06-13T10:27:37.832346Z"
    }
   },
   "outputs": [
    {
     "name": "stderr",
     "output_type": "stream",
     "text": [
      "2024-06-13 12:27:37,877 - root - INFO: -  load cellpainting\n"
     ]
    },
    {
     "name": "stdout",
     "output_type": "stream",
     "text": [
      " Building CellPantingDataset from NOTEBOOK\n",
      "    _init()_    -- filename:          /home/kevin/WSL-shared/Cellpainting/cj-datasets/output_11102023/3_sample_profiles/3sample_profiles_1482_HashOrder.csv\n",
      "    _init()_    -- type :             train\n",
      "    _init()_    -- start :            0\n",
      "    _init()_    -- end :              240000\n",
      "    _init()_    -- numrows :          240000\n",
      " Building CellPantingDataset from NOTEBOOK\n",
      "    _init()_    -- filename:          /home/kevin/WSL-shared/Cellpainting/cj-datasets/output_11102023/3_sample_profiles/3sample_profiles_1482_HashOrder_test.csv\n",
      "    _init()_    -- type :             val\n",
      "    _init()_    -- start :            0\n",
      "    _init()_    -- end :              24000\n",
      "    _init()_    -- numrows :          24000\n"
     ]
    }
   ],
   "source": [
    "# for idx, batch in enumerate(train_loader):\n",
    "#     print(f\"{idx:4d}, {batch[0].shape}, {batch[1].shape},{batch[2].shape},{batch[3].shape},{batch[4].shape}, {batch[3][:3]}, {batch[3][-3:]}\")\n",
    "#     display_cellpainting_batch(idx, batch)\n",
    "#     if idx >= 0:\n",
    "#         break"
   ]
  },
  {
   "cell_type": "code",
   "execution_count": 10,
   "id": "e1276600-fb27-47ce-b6d2-1add97110713",
   "metadata": {
    "execution": {
     "iopub.execute_input": "2024-06-13T10:27:51.036316Z",
     "iopub.status.busy": "2024-06-13T10:27:51.035987Z",
     "iopub.status.idle": "2024-06-13T10:27:51.078303Z",
     "shell.execute_reply": "2024-06-13T10:27:51.077771Z",
     "shell.execute_reply.started": "2024-06-13T10:27:51.036293Z"
    }
   },
   "outputs": [
    {
     "data": {
      "text/plain": [
       "'ynyo0ho9'"
      ]
     },
     "execution_count": 10,
     "metadata": {},
     "output_type": "execute_result"
    },
    {
     "data": {
      "text/plain": [
       "'Autoencoder Training in Baseline mode - SnglOpt, 250 dim latent, 512 Midlayer'"
      ]
     },
     "execution_count": 10,
     "metadata": {},
     "output_type": "execute_result"
    }
   ],
   "source": [
    "args.run_id\n",
    "args.exp_description"
   ]
  },
  {
   "cell_type": "code",
   "execution_count": null,
   "id": "0de22f95-3d6e-4038-b62f-f9caa58c847b",
   "metadata": {
    "execution": {
     "iopub.execute_input": "2024-06-13T10:27:52.719309Z",
     "iopub.status.busy": "2024-06-13T10:27:52.718957Z",
     "iopub.status.idle": "2024-06-13T10:27:52.760285Z",
     "shell.execute_reply": "2024-06-13T10:27:52.759587Z",
     "shell.execute_reply.started": "2024-06-13T10:27:52.719285Z"
    }
   },
   "outputs": [],
   "source": [
    "# args.project_name = 'CellPainting_Profiles'\n",
    "# args.exp_title = f\"snglOpt-{args.code_units}Ltnt\"\n",
    "# args.exp_desc = f\"Autoencoder Training in Baseline mode - Single Optimizer, {args.code_units} dim latent layer\"\n",
    "# args.exp_description = \"Autoencoder Training in Baseline mode - SnglOpt, 250 dim latent, 512 Midlayer\"\n",
    "## --- for restarts\n",
    "# args.exp_id   = '0g8w13h6'\n",
    "# args.exp_name = 'AE_0516_1104'\n",
    "# args.exp_date = '20240516'\n",
    "## --- \n",
    "## WandB initialization \n",
    "WANDB_ACTIVE = args.wandb\n",
    "print(args.project_name)\n",
    "print(args.exp_title)\n",
    "print(args.exp_description)\n"
   ]
  },
  {
   "cell_type": "code",
   "execution_count": 14,
   "id": "820e0a49-26f6-4cbb-b7bd-956ae8cc4f3c",
   "metadata": {
    "execution": {
     "iopub.execute_input": "2024-06-13T10:29:09.134590Z",
     "iopub.status.busy": "2024-06-13T10:29:09.133993Z",
     "iopub.status.idle": "2024-06-13T10:29:09.181304Z",
     "shell.execute_reply": "2024-06-13T10:29:09.180695Z",
     "shell.execute_reply.started": "2024-06-13T10:29:09.134484Z"
    }
   },
   "outputs": [
    {
     "name": "stdout",
     "output_type": "stream",
     "text": [
      "Resume\n"
     ]
    }
   ],
   "source": [
    "args.exp_id   = args.run_id\n",
    "if args.exp_id is not None:\n",
    "    print(\"Resume\")\n",
    "    resume_wandb = True\n",
    "else:\n",
    "    print(\"Initialize\")\n",
    "    resume_wandb = False\n",
    "    args.exp_name = 'AE_'+datetime.now().strftime('%m%d_%H%M')\n",
    "    args.exp_date = datetime.now().strftime('%Y%m%d')"
   ]
  },
  {
   "cell_type": "code",
   "execution_count": 15,
   "id": "851a17f6-6822-4a03-b081-fc05918b0c7d",
   "metadata": {
    "execution": {
     "iopub.execute_input": "2024-06-13T10:31:28.617553Z",
     "iopub.status.busy": "2024-06-13T10:31:28.617004Z",
     "iopub.status.idle": "2024-06-13T10:31:30.664238Z",
     "shell.execute_reply": "2024-06-13T10:31:30.663130Z",
     "shell.execute_reply.started": "2024-06-13T10:31:28.617506Z"
    }
   },
   "outputs": [
    {
     "name": "stderr",
     "output_type": "stream",
     "text": [
      "\u001b[34m\u001b[1mwandb\u001b[0m: \u001b[33mWARNING\u001b[0m WANDB_NOTEBOOK_NAME should be a path to a notebook file, couldn't find Autoencoder_dev.ipynb.\n"
     ]
    },
    {
     "name": "stdout",
     "output_type": "stream",
     "text": [
      " Initiate new W&B job run\n"
     ]
    },
    {
     "name": "stderr",
     "output_type": "stream",
     "text": [
      "\u001b[34m\u001b[1mwandb\u001b[0m: Currently logged in as: \u001b[33mkbardool\u001b[0m. Use \u001b[1m`wandb login --relogin`\u001b[0m to force relogin\n"
     ]
    },
    {
     "data": {
      "text/html": [
       "wandb version 0.17.1 is available!  To upgrade, please run:\n",
       " $ pip install wandb --upgrade"
      ],
      "text/plain": [
       "<IPython.core.display.HTML object>"
      ]
     },
     "metadata": {},
     "output_type": "display_data"
    },
    {
     "data": {
      "text/html": [
       "Tracking run with wandb version 0.16.6"
      ],
      "text/plain": [
       "<IPython.core.display.HTML object>"
      ]
     },
     "metadata": {},
     "output_type": "display_data"
    },
    {
     "data": {
      "text/html": [
       "Run data is saved locally in <code>/home/kevin/WSL-shared/Cellpainting/pt-snnl/wandb/run-20240613_123129-ynyo0ho9</code>"
      ],
      "text/plain": [
       "<IPython.core.display.HTML object>"
      ]
     },
     "metadata": {},
     "output_type": "display_data"
    },
    {
     "data": {
      "text/html": [
       "Resuming run <strong><a href='https://wandb.ai/kbardool/CellPainting_Profiles/runs/ynyo0ho9' target=\"_blank\">AE_0612_1749</a></strong> to <a href='https://wandb.ai/kbardool/CellPainting_Profiles' target=\"_blank\">Weights & Biases</a> (<a href='https://wandb.me/run' target=\"_blank\">docs</a>)<br/>"
      ],
      "text/plain": [
       "<IPython.core.display.HTML object>"
      ]
     },
     "metadata": {},
     "output_type": "display_data"
    },
    {
     "data": {
      "text/html": [
       " View project at <a href='https://wandb.ai/kbardool/CellPainting_Profiles' target=\"_blank\">https://wandb.ai/kbardool/CellPainting_Profiles</a>"
      ],
      "text/plain": [
       "<IPython.core.display.HTML object>"
      ]
     },
     "metadata": {},
     "output_type": "display_data"
    },
    {
     "data": {
      "text/html": [
       " View run at <a href='https://wandb.ai/kbardool/CellPainting_Profiles/runs/ynyo0ho9' target=\"_blank\">https://wandb.ai/kbardool/CellPainting_Profiles/runs/ynyo0ho9</a>"
      ],
      "text/plain": [
       "<IPython.core.display.HTML object>"
      ]
     },
     "metadata": {},
     "output_type": "display_data"
    },
    {
     "name": "stderr",
     "output_type": "stream",
     "text": [
      "2024-06-13 12:31:30,653 - __main__ - INFO: -  WandB tracking started \n",
      "2024-06-13 12:31:30,655 - __main__ - INFO: -  Experiment Run id: ynyo0ho9   / ynyo0ho9\n",
      "2024-06-13 12:31:30,656 - __main__ - INFO: -  Experiment Name  : AE_0612_1749 / AE_0612_1749 \n",
      "2024-06-13 12:31:30,657 - __main__ - INFO: -  Experiment Notes : Autoencoder Training in Baseline mode - SnglOpt, 250 dim latent, 512 Midlayer / Autoencoder Training in Baseline mode - SnglOpt, 250 dim latent, 512 Midlayer \n"
     ]
    },
    {
     "name": "stdout",
     "output_type": "stream",
     "text": [
      " WandB Initialization -----------------------------------------------------------\n",
      " PROJECT NAME: CellPainting_Profiles\n",
      " RUN ID      : ynyo0ho9 \n",
      " RUN NAME    : AE_0612_1749\n",
      " RUN NOTES   : Autoencoder Training in Baseline mode - SnglOpt, 250 dim latent, 512 Midlayer\n",
      " --------------------------------------------------------------------------------\n"
     ]
    }
   ],
   "source": [
    "if WANDB_ACTIVE:\n",
    "    wandb_run = init_wandb(args)\n",
    "    logger.info(f\" WandB tracking started \")\n",
    "    logger.info(f\" Experiment Run id: {args.exp_id}   / {wandb_run.id}\")\n",
    "    logger.info(f\" Experiment Name  : {args.exp_name} / {wandb_run.name} \")\n",
    "    logger.info(f\" Experiment Notes : {args.exp_description} / {wandb_run.notes} \")\n",
    "else: \n",
    "    logger.info(f\" *** W&&B Logging is INACTIVE *** \")"
   ]
  },
  {
   "cell_type": "code",
   "execution_count": 16,
   "id": "285375d9-5e9e-4262-9cdb-c032f2c9a357",
   "metadata": {
    "execution": {
     "iopub.execute_input": "2024-06-13T10:32:05.656674Z",
     "iopub.status.busy": "2024-06-13T10:32:05.656126Z",
     "iopub.status.idle": "2024-06-13T10:32:05.703382Z",
     "shell.execute_reply": "2024-06-13T10:32:05.702302Z",
     "shell.execute_reply.started": "2024-06-13T10:32:05.656631Z"
    }
   },
   "outputs": [],
   "source": [
    "if args.run_id is not None:\n",
    "    args.exp_id   = args.run_id\n",
    "    args.exp_date = '2024'+args.exp_name[3:7]"
   ]
  },
  {
   "cell_type": "code",
   "execution_count": 17,
   "id": "25af0a4c-8ff7-4196-be19-7b7a67285f03",
   "metadata": {
    "execution": {
     "iopub.execute_input": "2024-06-13T10:32:36.334475Z",
     "iopub.status.busy": "2024-06-13T10:32:36.333827Z",
     "iopub.status.idle": "2024-06-13T10:32:36.386567Z",
     "shell.execute_reply": "2024-06-13T10:32:36.385699Z",
     "shell.execute_reply.started": "2024-06-13T10:32:36.334432Z"
    }
   },
   "outputs": [
    {
     "name": "stderr",
     "output_type": "stream",
     "text": [
      "2024-06-13 12:32:36,375 - __main__ - INFO: -  WandB tracking started\n",
      "2024-06-13 12:32:36,376 - __main__ - INFO: -  Experiment run id:  ynyo0ho9\n",
      "2024-06-13 12:32:36,378 - __main__ - INFO: -  Experiment Name  :  AE_0612_1749 \n",
      "2024-06-13 12:32:36,379 - __main__ - INFO: -  Experiment Date  :  20240612 \n",
      "2024-06-13 12:32:36,380 - __main__ - INFO: -  Experiment Title :  snglOpt-250Ltnt_512 \n",
      "2024-06-13 12:32:36,381 - __main__ - INFO: -  Experiment Notes :  Autoencoder Training in Baseline mode - SnglOpt, 250 dim latent, 512 Midlayer\n"
     ]
    }
   ],
   "source": [
    "logger.info(f\" WandB tracking started\")\n",
    "logger.info(f\" Experiment run id:  {args.exp_id}\")\n",
    "logger.info(f\" Experiment Name  :  {args.exp_name} \")\n",
    "logger.info(f\" Experiment Date  :  {args.exp_date} \")\n",
    "logger.info(f\" Experiment Title :  {args.exp_title} \")\n",
    "logger.info(f\" Experiment Notes :  {args.exp_description}\")"
   ]
  },
  {
   "cell_type": "markdown",
   "id": "19b32e21-67d2-45af-a45f-841b6dca43ff",
   "metadata": {},
   "source": [
    "# Define autoencoder model"
   ]
  },
  {
   "cell_type": "markdown",
   "id": "cf383487-ecbf-49da-bb01-5a5f22932278",
   "metadata": {},
   "source": [
    "## Override arguments"
   ]
  },
  {
   "cell_type": "code",
   "execution_count": 18,
   "id": "2fdc1998-5141-40c0-82d8-b505d4f19ecd",
   "metadata": {
    "execution": {
     "iopub.execute_input": "2024-06-13T10:32:48.670243Z",
     "iopub.status.busy": "2024-06-13T10:32:48.669678Z",
     "iopub.status.idle": "2024-06-13T10:32:48.719248Z",
     "shell.execute_reply": "2024-06-13T10:32:48.718200Z",
     "shell.execute_reply.started": "2024-06-13T10:32:48.670200Z"
    }
   },
   "outputs": [
    {
     "name": "stdout",
     "output_type": "stream",
     "text": [
      "   Latent dim        250\n",
      "   loss_factor       2.0\n",
      "   snnl_factor       0.25\n",
      "   temperature       2.0\n",
      "   learning_rate     0.001\n",
      "   temperatureLR:    0.0001\n"
     ]
    }
   ],
   "source": [
    "# args.learning_rate = 1.0e-03    ## 0.001\n",
    "# args.temperatureLR = 0.0e-04    ## 1e-4\n",
    "print(f\"   Latent dim        {args.code_units}\")\n",
    "print(f\"   loss_factor       {args.loss_factor}\")\n",
    "print(f\"   snnl_factor       {args.snnl_factor}\")\n",
    "print(f\"   temperature       {args.temperature}\")\n",
    "print(f\"   learning_rate     {args.learning_rate}\")\n",
    "print(f\"   temperatureLR:    {args.temperatureLR}\")"
   ]
  },
  {
   "cell_type": "markdown",
   "id": "69b97558-4c5d-4a2d-9d1f-78d8923b1eb7",
   "metadata": {},
   "source": [
    "## Define Model"
   ]
  },
  {
   "cell_type": "code",
   "execution_count": 19,
   "id": "5c4a4bba-76ef-4fa9-9ea5-ba3c55aecfe9",
   "metadata": {
    "execution": {
     "iopub.execute_input": "2024-06-13T10:32:52.254097Z",
     "iopub.status.busy": "2024-06-13T10:32:52.253590Z",
     "iopub.status.idle": "2024-06-13T10:32:52.441005Z",
     "shell.execute_reply": "2024-06-13T10:32:52.440336Z",
     "shell.execute_reply.started": "2024-06-13T10:32:52.254055Z"
    }
   },
   "outputs": [
    {
     "name": "stdout",
     "output_type": "stream",
     "text": [
      "Defining model in baseline mode\n",
      "    Model_init()_    -- AE - support for unsupervised in autoencoding mode is True\n",
      "    layer pair:    0  type:linear           input:   1471  output:   1024    weights: [1024, 1471]   \n",
      "    layer pair:    1  type:relu             input:      0  output:      0    weights: [0, 0]   \n",
      "    layer pair:    2  type:linear           input:   1024  output:    512    weights: [512, 1024]   \n",
      "    layer pair:    3  type:relu             input:      0  output:      0    weights: [0, 0]   \n",
      "    layer pair:    4  type:linear           input:    512  output:    250    weights: [250, 512]   \n",
      "    layer pair:    5  type:linear           input:    250  output:    512    weights: [512, 250]   \n",
      "    layer pair:    6  type:relu             input:      0  output:      0    weights: [0, 0]   \n",
      "    layer pair:    7  type:linear           input:    512  output:   1024    weights: [1024, 512]   \n",
      "    layer pair:    8  type:relu             input:      0  output:      0    weights: [0, 0]   \n",
      "    layer pair:    9  type:linear           input:   1024  output:   1471    weights: [1471, 1024]   \n"
     ]
    },
    {
     "name": "stderr",
     "output_type": "stream",
     "text": [
      "/home/kevin/miniforge3/envs/ptsnnl/lib/python3.11/site-packages/torch/optim/lr_scheduler.py:28: UserWarning: The verbose parameter is deprecated. Please use get_last_lr() to access the learning rate.\n",
      "  warnings.warn(\"The verbose parameter is deprecated. Please use get_last_lr() \"\n"
     ]
    },
    {
     "data": {
      "text/plain": [
       "'cuda:0'"
      ]
     },
     "execution_count": 19,
     "metadata": {},
     "output_type": "execute_result"
    }
   ],
   "source": [
    "model = define_autoencoder_model(args, embedding_layer = 4, device = current_device)\n",
    "model.device"
   ]
  },
  {
   "cell_type": "code",
   "execution_count": 20,
   "id": "acb11365-5fa8-4a94-ba70-bfe9bc16df18",
   "metadata": {
    "execution": {
     "iopub.execute_input": "2024-06-13T10:32:56.392636Z",
     "iopub.status.busy": "2024-06-13T10:32:56.392096Z",
     "iopub.status.idle": "2024-06-13T10:32:56.443111Z",
     "shell.execute_reply": "2024-06-13T10:32:56.442283Z",
     "shell.execute_reply.started": "2024-06-13T10:32:56.392592Z"
    },
    "scrolled": true
   },
   "outputs": [
    {
     "name": "stdout",
     "output_type": "stream",
     "text": [
      "\n",
      "command line parms : \n",
      "-----------------------\n",
      "SGD_weight_decay.........  0\n",
      "activations..............  ['relu', 'relu', 'sigmoid', 'relu', 'relu', 'relu']\n",
      "adam_weight_decay........  0\n",
      "batch_size...............  1\n",
      "\n",
      "    cellpainting_args   (dict)\n",
      "    ----------------------------\n",
      "    batch_size...............  1\n",
      "    chunksize................  None\n",
      "    compounds_per_batch......  100\n",
      "    conversions..............  None\n",
      "    iterator.................  True\n",
      "    sample_size..............  3\n",
      "    test_end.................  33600\n",
      "    test_path................  /home/kevin/WSL-shared/Cellpainting/cj-datasets/output_11102023/3_sample_profiles/3sample_profiles_1482_HashOrder_test.csv\n",
      "    test_start...............  30000\n",
      "    train_end................  240000\n",
      "    train_start..............  0\n",
      "    training_path............  /home/kevin/WSL-shared/Cellpainting/cj-datasets/output_11102023/3_sample_profiles/3sample_profiles_1482_HashOrder.csv\n",
      "    val_end..................  24000\n",
      "    val_start................  0\n",
      "    validation_path..........  /home/kevin/WSL-shared/Cellpainting/cj-datasets/output_11102023/3_sample_profiles/3sample_profiles_1482_HashOrder_test.csv\n",
      "\n",
      "ckpt.....................  AE_baseline_20240612_snglOpt-250Ltnt_512_ep_175.pt\n",
      "code_units...............  250\n",
      "compounds_per_batch......  100\n",
      "config...................  None\n",
      "configuration............  hyperparameters/ae_cp_250_512.yaml\n",
      "dataset..................  cellpainting\n",
      "epochs...................  50\n",
      "exp_date.................  20240612\n",
      "exp_description..........  Autoencoder Training in Baseline mode - SnglOpt, 250 dim latent, 512 Midlayer\n",
      "exp_folder...............  None\n",
      "exp_id...................  ynyo0ho9\n",
      "exp_name.................  AE_0612_1749\n",
      "exp_name_pfx.............  None\n",
      "exp_title................  snglOpt-250Ltnt_512\n",
      "folder_sfx...............  None\n",
      "gpu_id...................  0\n",
      "input_shape..............  1471\n",
      "learning_rate............  0.001\n",
      "loss_factor..............  2.0\n",
      "\n",
      "    paths   (dict)\n",
      "    ----------------\n",
      "    checkpoint_dir...........  ./ckpt\n",
      "    log_dir..................  ./logs\n",
      "    result_dir...............  ./results\n",
      "\n",
      "project_name.............  CellPainting_Profiles\n",
      "random_seed..............  1234\n",
      "run_id...................  ynyo0ho9\n",
      "runmode..................  baseline\n",
      "save_every...............  25\n",
      "seed.....................  1234\n",
      "seed_list................  None\n",
      "show_every...............  1\n",
      "snnl_factor..............  0.25\n",
      "temperature..............  2.0\n",
      "temperatureLR............  0.0001\n",
      "units....................  [['linear', 1471, 1024], ['relu', 0, 0], ['linear', 1024, 512], ['relu', 0, 0], ['linear', 512, 250], ['linear', 250, 512], ['relu', 0, 0], ['linear', 512, 1024], ['relu', 0, 0], ['linear', 1024, 1471]]\n",
      "wandb....................  True\n",
      "\n"
     ]
    }
   ],
   "source": [
    "list_namespace(args)"
   ]
  },
  {
   "cell_type": "code",
   "execution_count": 21,
   "id": "a980870b-38de-4608-af68-56cba1468eab",
   "metadata": {
    "execution": {
     "iopub.execute_input": "2024-06-13T10:32:57.750694Z",
     "iopub.status.busy": "2024-06-13T10:32:57.750098Z",
     "iopub.status.idle": "2024-06-13T10:32:57.797701Z",
     "shell.execute_reply": "2024-06-13T10:32:57.796990Z",
     "shell.execute_reply.started": "2024-06-13T10:32:57.750653Z"
    },
    "scrolled": true
   },
   "outputs": [
    {
     "name": "stderr",
     "output_type": "stream",
     "text": [
      "\u001b[34m\u001b[1mwandb\u001b[0m: logging graph, to disable use `wandb.watch(log_graph=False)`\n"
     ]
    }
   ],
   "source": [
    "if WANDB_ACTIVE:\n",
    "    wandb_watch(item = model, criterion=None, log = 'all', log_freq = 1000, log_graph = True)"
   ]
  },
  {
   "cell_type": "markdown",
   "id": "94aeaa82-14c5-465c-ae6e-bb792ba8a973",
   "metadata": {},
   "source": [
    "# Load model checkpoint "
   ]
  },
  {
   "cell_type": "code",
   "execution_count": 22,
   "id": "8eb1a094-ab9e-47be-b5b7-78e933a091fd",
   "metadata": {
    "execution": {
     "iopub.execute_input": "2024-06-13T10:33:58.622985Z",
     "iopub.status.busy": "2024-06-13T10:33:58.622400Z",
     "iopub.status.idle": "2024-06-13T10:33:58.827270Z",
     "shell.execute_reply": "2024-06-13T10:33:58.826571Z",
     "shell.execute_reply.started": "2024-06-13T10:33:58.622944Z"
    }
   },
   "outputs": [
    {
     "name": "stderr",
     "output_type": "stream",
     "text": [
      "2024-06-13 12:33:58,665 - root - INFO: -  Load model checkpoint from  AE_baseline_20240612_snglOpt-250Ltnt_512_ep_175.pt\n",
      "2024-06-13 12:33:58,814 - snnl.utils.utils - INFO: -  ==> Loaded from checkpoint AE_baseline_20240612_snglOpt-250Ltnt_512_ep_175.pt successfully. last epoch on checkpoint: 175\n",
      "\n"
     ]
    },
    {
     "name": "stdout",
     "output_type": "stream",
     "text": [
      "\n"
     ]
    },
    {
     "data": {
      "text/plain": [
       "Autoencoder(\n",
       "  (primary_criterion): MSELoss()\n",
       "  (layers): ModuleList(\n",
       "    (0): Linear(in_features=1471, out_features=1024, bias=True)\n",
       "    (1): ReLU()\n",
       "    (2): Linear(in_features=1024, out_features=512, bias=True)\n",
       "    (3): ReLU()\n",
       "    (4): Linear(in_features=512, out_features=250, bias=True)\n",
       "    (5): Linear(in_features=250, out_features=512, bias=True)\n",
       "    (6): ReLU()\n",
       "    (7): Linear(in_features=512, out_features=1024, bias=True)\n",
       "    (8): ReLU()\n",
       "    (9): Linear(in_features=1024, out_features=1471, bias=True)\n",
       "  )\n",
       ")"
      ]
     },
     "execution_count": 22,
     "metadata": {},
     "output_type": "execute_result"
    },
    {
     "name": "stderr",
     "output_type": "stream",
     "text": [
      "2024-06-13 12:33:58,818 - root - INFO: -  Loaded Model device cuda:0 -  Last completed epoch : 175\n",
      "2024-06-13 12:33:58,819 - root - INFO: -  Run epochs 176 to 225 \n"
     ]
    }
   ],
   "source": [
    "if args.ckpt is not None:\n",
    "    resume_training = True\n",
    "    mdl , last_epoch = load_checkpoint_v2(model, args.ckpt)  \n",
    "    model.train()\n",
    "    model.device = current_device\n",
    "    model = model.cuda(device=current_device)\n",
    "    logging.info(f\" Loaded Model device {model.device} -  Last completed epoch : {last_epoch}\")\n",
    "    starting_epoch = last_epoch\n",
    "    epochs = last_epoch + args.epochs\n",
    "    \n",
    "else:\n",
    "    resume_training = False\n",
    "    starting_epoch = 0\n",
    "    epochs = args.epochs\n",
    "logging.info(f\" Run epochs {starting_epoch+1} to {epochs} \")"
   ]
  },
  {
   "cell_type": "markdown",
   "id": "9f9c2718-be35-460a-b4ba-e17e4925f6d2",
   "metadata": {},
   "source": [
    "# Autoencoder `fit(data_loader = train_loader, epochs = epochs)` "
   ]
  },
  {
   "cell_type": "code",
   "execution_count": 23,
   "id": "19f3e5dc-347c-49f4-b6a3-14697602a062",
   "metadata": {
    "execution": {
     "iopub.execute_input": "2024-06-13T10:34:38.496744Z",
     "iopub.status.busy": "2024-06-13T10:34:38.496238Z",
     "iopub.status.idle": "2024-06-13T10:34:38.546166Z",
     "shell.execute_reply": "2024-06-13T10:34:38.545450Z",
     "shell.execute_reply.started": "2024-06-13T10:34:38.496702Z"
    }
   },
   "outputs": [
    {
     "data": {
      "text/plain": [
       "'cuda:0'"
      ]
     },
     "execution_count": 23,
     "metadata": {},
     "output_type": "execute_result"
    }
   ],
   "source": [
    "model.device"
   ]
  },
  {
   "cell_type": "code",
   "execution_count": 27,
   "id": "0fdedf1b-984e-4a23-a168-fee3cdfc1b6d",
   "metadata": {
    "execution": {
     "iopub.execute_input": "2024-06-13T10:37:39.658060Z",
     "iopub.status.busy": "2024-06-13T10:37:39.657420Z",
     "iopub.status.idle": "2024-06-13T10:37:39.725061Z",
     "shell.execute_reply": "2024-06-13T10:37:39.724001Z",
     "shell.execute_reply.started": "2024-06-13T10:37:39.658016Z"
    }
   },
   "outputs": [
    {
     "name": "stdout",
     "output_type": "stream",
     "text": [
      "\n",
      " Current device      : cuda:0\n",
      " Model device        : cuda:0\n",
      " SNNL temperature    : 0\n",
      " Learning rate       : 0.001\n",
      " snnl_factor         : 0.0\n",
      " loss_factor         : 2.0\n",
      " monitor_grads_layer : None\n",
      " Use Scheduler       : True\n",
      " Use snnl            : False\n",
      "\n",
      " trn_time             : 00:43:25  \n",
      " trn_ttl_loss         : 0.349909 \n",
      " trn_prim_loss        : 0.349909 \n",
      " trn_snn_loss         : 0.000000 \n",
      " trn_R2_score         : 0.659449 \n",
      " trn_lr               : 0.001000 \n",
      "\n",
      " val_time             : 00:43:36  \n",
      " val_ttl_loss         : 0.345635 \n",
      " val_prim_loss        : 0.345635 \n",
      " val_snn_loss         : 0.000000 \n",
      " val_R2_score         : 0.624771 \n",
      "\n",
      " 20240613_123739  epoch  176 of  225\n"
     ]
    }
   ],
   "source": [
    "print()\n",
    "print(f\" Current device      : {current_device}\")\n",
    "print(f\" Model device        : {model.device}\")\n",
    "print(f\" SNNL temperature    : {model.temperature}\")\n",
    "print(f\" Learning rate       : {model.optimizer.param_groups[0]['lr']}\") \n",
    "print(f\" snnl_factor         : {model.snnl_factor}\")\n",
    "print(f\" loss_factor         : {model.loss_factor}\")\n",
    "print(f\" monitor_grads_layer : {model.monitor_grads_layer}\")\n",
    "print(f\" Use Scheduler       : {model.use_scheduler}\") \n",
    "print(f\" Use snnl            : {model.use_snnl}\") \n",
    "if model.use_snnl:\n",
    "    print(f\" Temperature         : {model.temperature.item()}\")\n",
    "    print(f\" Temperature LR      : {model.optimizer.param_groups[1]['lr']}\") \n",
    "    print(f\" Use Temp Scheduler  : {model.use_temp_scheduler}\") \n",
    "    if model.temp_scheduler:\n",
    "        print(f\" Temp Scheduler      : {model.temp_scheduler}\") \n",
    "    if model.temp_optimizer:\n",
    "        print(f\" Temperature LR      : {model.temp_optimizer.param_groups[0]['lr']}\") \n",
    "print()\n",
    "if resume_training:    \n",
    "    for th_key in ['trn', 'val']:\n",
    "        for k,v in model.training_history[th_key].items():\n",
    "            if isinstance(v[-1],str):\n",
    "                print(f\" {k:20s} : {v[-1]:s}  \")\n",
    "            else:\n",
    "                print(f\" {k:20s} : {v[-1]:6f} \")\n",
    "        print()    \n",
    "print(f\" {datetime.now().strftime('%Y%m%d_%H%M%S')}  epoch {starting_epoch+1:4d} of {epochs:4d}\")"
   ]
  },
  {
   "cell_type": "code",
   "execution_count": 28,
   "id": "c4c361b6-68dc-4020-a9b0-68f0c51e6457",
   "metadata": {
    "execution": {
     "iopub.execute_input": "2024-06-13T10:38:18.098789Z",
     "iopub.status.busy": "2024-06-13T10:38:18.098149Z",
     "iopub.status.idle": "2024-06-13T10:38:18.143741Z",
     "shell.execute_reply": "2024-06-13T10:38:18.142434Z",
     "shell.execute_reply.started": "2024-06-13T10:38:18.098747Z"
    }
   },
   "outputs": [],
   "source": [
    "# print(f\" loss_factor         : {model.loss_factor}\")\n",
    "# print(f\" snnl_factor         : {model.snnl_factor}\")\n",
    "# print(f\" model.monitor_grads_layer: {model.monitor_grads_layer}\")\n",
    "# print(f\" model.temperature : {model.temperature}\")\n",
    "# print(f\" Learning rate     : {model.optimizer.param_groups[0]['lr']}\") \n",
    "# print(f\" Temperature LR    : {model.temperatureLR}\") \n",
    "# model.temperature = 40.0\n",
    "# model.snnl_factor = 0.5\n",
    "# model.loss_factor = 0.1\n",
    "# model.temperatureLR = 1e-4\n",
    "# model.optimizer.param_groups[0]['lr'] = 0.001\n",
    "# model.temp_optimizer.param_groups[0]['lr'] = 0.000005\n",
    "# model.monitor_grads_layer = -2\n",
    "# if model.use_snnl:\n",
    "    # print(f\" Use snnl            : {model.use_snnl}\") \n",
    "    # print(f\" snnl_factor         : {model.snnl_factor}\")\n",
    "    # print(f\" Temperature LR      : {model.temp_optimizer.param_groups[0]['lr']}\") \n",
    "    # print(f\" Temp Scheduler      : {model.temp_scheduler}\") \n"
   ]
  },
  {
   "cell_type": "code",
   "execution_count": 29,
   "id": "b8e31e2e-3ea3-41dc-a66b-d9194fc15741",
   "metadata": {
    "execution": {
     "iopub.execute_input": "2024-06-13T10:38:22.169798Z",
     "iopub.status.busy": "2024-06-13T10:38:22.169228Z",
     "iopub.status.idle": "2024-06-13T10:38:22.215685Z",
     "shell.execute_reply": "2024-06-13T10:38:22.214918Z",
     "shell.execute_reply.started": "2024-06-13T10:38:22.169750Z"
    }
   },
   "outputs": [],
   "source": [
    "if WANDB_ACTIVE:\n",
    "    wandb.config.update(args)"
   ]
  },
  {
   "cell_type": "code",
   "execution_count": null,
   "id": "5d979f75-0782-428f-844d-8231f46546d3",
   "metadata": {
    "execution": {
     "iopub.execute_input": "2024-06-13T10:38:30.698442Z",
     "iopub.status.busy": "2024-06-13T10:38:30.697871Z"
    }
   },
   "outputs": [
    {
     "name": "stdout",
     "output_type": "stream",
     "text": [
      "20240613_123830  epoch  176 of  225\n",
      "                     |   Trn_loss    PrimLoss      SNNL   |    temp*        grad     |   R2                     |   Vld_loss    PrimLoss      SNNL   |   R2                     |    LR       temp LR   |\n",
      "---------------------+------------------------------------+--------------------------+--------------------------+------------------------------------+--------------------------|-----------------------|\n",
      "12:40:50 ep 176 /225 |   0.343550    0.343550    0.000000 |   0.000000    0.0000e+00 |   0.6622                 |   0.344913    0.344913    0.000000 |   0.6302                 |   0.001000   0.000000 |\n",
      "12:43:13 ep 177 /225 |   0.340423    0.340423    0.000000 |   0.000000    0.0000e+00 |   0.6657                 |   0.344427    0.344427    0.000000 |   0.5148                 |   0.001000   0.000000 |\n",
      "12:45:35 ep 178 /225 |   0.340956    0.340956    0.000000 |   0.000000    0.0000e+00 |   0.6657                 |   0.343854    0.343854    0.000000 |   0.6859                 |   0.001000   0.000000 |\n",
      "12:47:59 ep 179 /225 |   0.342560    0.342560    0.000000 |   0.000000    0.0000e+00 |   0.6656                 |   0.354080    0.354080    0.000000 |   0.4856                 |   0.001000   0.000000 |\n",
      "12:50:25 ep 180 /225 |   0.341599    0.341599    0.000000 |   0.000000    0.0000e+00 |   0.6657                 |   0.351215    0.351215    0.000000 |   0.6573                 |   0.001000   0.000000 |\n",
      "12:52:50 ep 181 /225 |   0.341761    0.341761    0.000000 |   0.000000    0.0000e+00 |   0.6637                 |   0.346412    0.346412    0.000000 |   0.6198                 |   0.001000   0.000000 |\n",
      "12:55:17 ep 182 /225 |   0.341848    0.341848    0.000000 |   0.000000    0.0000e+00 |   0.6615                 |   0.340676    0.340676    0.000000 |   0.6295                 |   0.001000   0.000000 |\n",
      "12:57:44 ep 183 /225 |   0.341672    0.341672    0.000000 |   0.000000    0.0000e+00 |   0.6682                 |   0.356313    0.356313    0.000000 |   0.6156                 |   0.001000   0.000000 |\n",
      "13:00:09 ep 184 /225 |   0.340372    0.340372    0.000000 |   0.000000    0.0000e+00 |   0.6666                 |   0.352044    0.352044    0.000000 |   0.5913                 |   0.001000   0.000000 |\n",
      "13:02:36 ep 185 /225 |   0.346086    0.346086    0.000000 |   0.000000    0.0000e+00 |   0.6632                 |   0.345580    0.345580    0.000000 |   0.6838                 |   0.001000   0.000000 |\n",
      "13:05:03 ep 186 /225 |   0.339640    0.339640    0.000000 |   0.000000    0.0000e+00 |   0.6664                 |   0.341636    0.341636    0.000000 |   0.5734                 |   0.001000   0.000000 |\n",
      "13:07:29 ep 187 /225 |   0.342524    0.342524    0.000000 |   0.000000    0.0000e+00 |   0.6649                 |   0.344788    0.344788    0.000000 |   0.6565                 |   0.001000   0.000000 |\n"
     ]
    }
   ],
   "source": [
    "print(f\"{datetime.now().strftime('%Y%m%d_%H%M%S')}  epoch {starting_epoch+1:4d} of {epochs:4d}\")\n",
    "header = True\n",
    "\n",
    "for epoch in range(starting_epoch,epochs):\n",
    "    train_loss = model.epoch_train(train_loader, epoch)\n",
    "    val_loss = model.epoch_validate(val_loader, epoch)\n",
    "    \n",
    "    display_epoch_metrics(model, epoch, epochs, header)\n",
    "    header = False\n",
    "    model.scheduling_step(val_loss)\n",
    "    \n",
    "    if WANDB_ACTIVE:\n",
    "        epoch_metrics = {x:y[-1] for x,y in model.training_history['val'].items()} | \\\n",
    "                        {x:y[-1] for x,y in model.training_history['trn'].items()} \n",
    "        wandb_log_metrics( data = epoch_metrics, step = epoch)\n",
    "    \n",
    "    if (epoch + 1) % args.save_every == 0:\n",
    "        filename = f\"{model.name}_{args.runmode}_{args.exp_date}_{args.exp_title}_ep_{epoch+1:03d}\"\n",
    "        save_checkpoint_v2(epochs, model, filename, update_latest=False, update_best=False)    "
   ]
  },
  {
   "cell_type": "code",
   "execution_count": 33,
   "id": "5f576bea-1aa7-4e6b-903d-397d2a10d496",
   "metadata": {
    "execution": {
     "iopub.execute_input": "2024-06-12T18:59:56.705351Z",
     "iopub.status.busy": "2024-06-12T18:59:56.704796Z",
     "iopub.status.idle": "2024-06-12T18:59:56.765116Z",
     "shell.execute_reply": "2024-06-12T18:59:56.764086Z",
     "shell.execute_reply.started": "2024-06-12T18:59:56.705306Z"
    }
   },
   "outputs": [
    {
     "name": "stdout",
     "output_type": "stream",
     "text": [
      " run epochs 76 to 175 \n"
     ]
    }
   ],
   "source": [
    "# starting_epoch = 10\n",
    "# epochs = 50\n",
    "starting_epoch = epochs\n",
    "epochs += 100\n",
    "print(f\" run epochs {starting_epoch+1} to {epochs} \")"
   ]
  },
  {
   "cell_type": "code",
   "execution_count": 1,
   "id": "d116ac2b-6dd6-4b5c-b112-48c8dfadbfaf",
   "metadata": {
    "execution": {
     "iopub.execute_input": "2024-06-13T10:09:58.622396Z",
     "iopub.status.busy": "2024-06-13T10:09:58.622030Z",
     "iopub.status.idle": "2024-06-13T10:09:58.820788Z",
     "shell.execute_reply": "2024-06-13T10:09:58.819901Z",
     "shell.execute_reply.started": "2024-06-13T10:09:58.622363Z"
    },
    "scrolled": true
   },
   "outputs": [
    {
     "ename": "NameError",
     "evalue": "name 'epochs' is not defined",
     "output_type": "error",
     "traceback": [
      "\u001b[0;31m---------------------------------------------------------------------------\u001b[0m",
      "\u001b[0;31mNameError\u001b[0m                                 Traceback (most recent call last)",
      "Cell \u001b[0;32mIn[1], line 1\u001b[0m\n\u001b[0;32m----> 1\u001b[0m \u001b[38;5;28;01mfor\u001b[39;00m epoch \u001b[38;5;129;01min\u001b[39;00m \u001b[38;5;28mrange\u001b[39m(\u001b[43mepochs\u001b[49m):\n\u001b[1;32m      2\u001b[0m     display_epoch_metrics(model, epoch)\n",
      "\u001b[0;31mNameError\u001b[0m: name 'epochs' is not defined"
     ]
    }
   ],
   "source": [
    "for epoch in range(epochs):\n",
    "    display_epoch_metrics(model, epoch)"
   ]
  },
  {
   "cell_type": "code",
   "execution_count": 38,
   "id": "868e46e6-f18d-410b-a376-7f26433447af",
   "metadata": {
    "execution": {
     "iopub.execute_input": "2024-06-13T10:25:50.591202Z",
     "iopub.status.busy": "2024-06-13T10:25:50.590678Z",
     "iopub.status.idle": "2024-06-13T10:25:57.360707Z",
     "shell.execute_reply": "2024-06-13T10:25:57.359871Z",
     "shell.execute_reply.started": "2024-06-13T10:25:50.591161Z"
    }
   },
   "outputs": [
    {
     "data": {
      "text/html": [
       "<style>\n",
       "    table.wandb td:nth-child(1) { padding: 0 10px; text-align: left ; width: auto;} td:nth-child(2) {text-align: left ; width: 100%}\n",
       "    .wandb-row { display: flex; flex-direction: row; flex-wrap: wrap; justify-content: flex-start; width: 100% }\n",
       "    .wandb-col { display: flex; flex-direction: column; flex-basis: 100%; flex: 1; padding: 10px; }\n",
       "    </style>\n",
       "<div class=\"wandb-row\"><div class=\"wandb-col\"><h3>Run summary:</h3><br/><table class=\"wandb\"><tr><td>trn_R2_score</td><td>0.65945</td></tr><tr><td>trn_lr</td><td>0.001</td></tr><tr><td>trn_prim_loss</td><td>0.34991</td></tr><tr><td>trn_snn_loss</td><td>0</td></tr><tr><td>trn_time</td><td>00:43:25</td></tr><tr><td>trn_ttl_loss</td><td>0.34991</td></tr><tr><td>val_R2_score</td><td>0.62477</td></tr><tr><td>val_prim_loss</td><td>0.34564</td></tr><tr><td>val_snn_loss</td><td>0</td></tr><tr><td>val_time</td><td>00:43:36</td></tr><tr><td>val_ttl_loss</td><td>0.34564</td></tr></table><br/></div></div>"
      ],
      "text/plain": [
       "<IPython.core.display.HTML object>"
      ]
     },
     "metadata": {},
     "output_type": "display_data"
    },
    {
     "data": {
      "text/html": [
       " View run <strong style=\"color:#cdcd00\">AE_0612_1749</strong> at: <a href='https://wandb.ai/kbardool/CellPainting_Profiles/runs/ynyo0ho9' target=\"_blank\">https://wandb.ai/kbardool/CellPainting_Profiles/runs/ynyo0ho9</a><br/> View project at: <a href='https://wandb.ai/kbardool/CellPainting_Profiles' target=\"_blank\">https://wandb.ai/kbardool/CellPainting_Profiles</a><br/>Synced 4 W&B file(s), 0 media file(s), 0 artifact file(s) and 0 other file(s)"
      ],
      "text/plain": [
       "<IPython.core.display.HTML object>"
      ]
     },
     "metadata": {},
     "output_type": "display_data"
    },
    {
     "data": {
      "text/html": [
       "Find logs at: <code>./wandb/run-20240613_121657-ynyo0ho9/logs</code>"
      ],
      "text/plain": [
       "<IPython.core.display.HTML object>"
      ]
     },
     "metadata": {},
     "output_type": "display_data"
    }
   ],
   "source": [
    "if WANDB_ACTIVE:\n",
    "    wandb_run.finish()\n",
    "    WANDB_ACTIVE = False"
   ]
  },
  {
   "cell_type": "markdown",
   "id": "9d7f6ece-b0e4-4e64-bc35-928a3c3f961d",
   "metadata": {},
   "source": [
    "# Plot losses, weights, biases and gradients"
   ]
  },
  {
   "cell_type": "code",
   "execution_count": null,
   "id": "abc9b289-e042-4243-a2b4-c76751589ac3",
   "metadata": {},
   "outputs": [],
   "source": [
    "# if 0:\n",
    "#     model_attributes = model.__dict__\n",
    "#     model.training_history['train'].keys()\n",
    "#     for key, value in model.training_history['train'].items():\n",
    "#         if isinstance(value, List) or key in [\"test_accuracy\", \"test_f1\"]:\n",
    "#             print(f\"{key:25s} {type(value)}  {len(value):7d}  {value[-5:]}\")\n",
    "#     print()\n",
    "#     for key, value in model.training_history['val'].items():\n",
    "#         if isinstance(value, List) or key in [\"test_accuracy\", \"test_f1\"]:\n",
    "#             print(f\"{key:25s} {type(value)}  {len(value):7d}  {value[-5:]}\")        "
   ]
  },
  {
   "cell_type": "code",
   "execution_count": null,
   "id": "fbb441d8-ba3d-4540-abcc-e40aaaa3dd2e",
   "metadata": {},
   "outputs": [],
   "source": [
    "# tmp = np.array(model.training_history['train']['temp_grads'])\n",
    "# for st in range(0,len(tmp), 1000):\n",
    "#     end = st + 1000\n",
    "#     print(f\" {st:5d} - {end:5d}  min: {tmp[st:end].min():9e}   max: {tmp[st:end].max():9e}    avg: {tmp[st:end].mean():9e}   std: {tmp[st:end].std():9e}\")"
   ]
  },
  {
   "cell_type": "code",
   "execution_count": 40,
   "id": "2bc8de25-ddde-4d2c-b97f-1da1d375c991",
   "metadata": {
    "execution": {
     "iopub.execute_input": "2024-06-13T07:06:34.387085Z",
     "iopub.status.busy": "2024-06-13T07:06:34.386753Z",
     "iopub.status.idle": "2024-06-13T07:06:35.151351Z",
     "shell.execute_reply": "2024-06-13T07:06:35.150691Z",
     "shell.execute_reply.started": "2024-06-13T07:06:34.387054Z"
    },
    "scrolled": true
   },
   "outputs": [
    {
     "data": {
      "image/png": "[encoded data removed]",
      "text/plain": [
       "<Figure size 2000x400 with 5 Axes>"
      ]
     },
     "metadata": {},
     "output_type": "display_data"
    }
   ],
   "source": [
    "plot_train_history(model, start= 0, n_bins = 25)"
   ]
  },
  {
   "cell_type": "code",
   "execution_count": null,
   "id": "533b465a-6b4a-4696-a014-793b8f7df079",
   "metadata": {
    "scrolled": true
   },
   "outputs": [],
   "source": [
    "plot_train_history(model, start= 0, n_bins = 25)"
   ]
  },
  {
   "cell_type": "code",
   "execution_count": null,
   "id": "85774d06-9f14-4b02-b0c6-b8c60ba92ffa",
   "metadata": {
    "scrolled": true
   },
   "outputs": [],
   "source": [
    "plot_train_history(model, start= 0, n_bins = 25)"
   ]
  },
  {
   "cell_type": "code",
   "execution_count": null,
   "id": "f6b91b33-81bd-47e8-aa8e-bda1bd4d4583",
   "metadata": {
    "scrolled": true
   },
   "outputs": [],
   "source": [
    "plot_train_history(model, start= 100, n_bins = 25)"
   ]
  },
  {
   "cell_type": "code",
   "execution_count": null,
   "id": "5d4eae70-3b13-4893-b485-f8ad87b4cd68",
   "metadata": {
    "scrolled": true
   },
   "outputs": [],
   "source": [
    "plot_train_history(model, start= 10, n_bins = 25)"
   ]
  },
  {
   "cell_type": "code",
   "execution_count": null,
   "id": "7f50fdb6-0457-4cd3-b958-65bb44e4216d",
   "metadata": {},
   "outputs": [],
   "source": [
    "plot_model_parms(model, epochs= epochs, n_bins = 15)"
   ]
  },
  {
   "cell_type": "code",
   "execution_count": 41,
   "id": "f992e4e5-ea68-4617-8c16-01dfc22f6b94",
   "metadata": {
    "execution": {
     "iopub.execute_input": "2024-06-13T07:06:42.018325Z",
     "iopub.status.busy": "2024-06-13T07:06:42.017830Z",
     "iopub.status.idle": "2024-06-13T07:06:42.294064Z",
     "shell.execute_reply": "2024-06-13T07:06:42.293398Z",
     "shell.execute_reply.started": "2024-06-13T07:06:42.018283Z"
    },
    "scrolled": true
   },
   "outputs": [
    {
     "data": {
      "image/png": "[encoded data removed]",
      "text/plain": [
       "<Figure size 400x400 with 1 Axes>"
      ]
     },
     "metadata": {},
     "output_type": "display_data"
    }
   ],
   "source": [
    "from snnl.utils import plot_regression_metrics\n",
    "# plot_train_metrics(model, n_bins = 25)\n",
    "plot_regression_metrics(model, n_bins = 25)"
   ]
  },
  {
   "cell_type": "markdown",
   "id": "21726628-2b16-477a-bfe7-0a0ac53130eb",
   "metadata": {
    "jp-MarkdownHeadingCollapsed": true
   },
   "source": [
    "# Save model results and model"
   ]
  },
  {
   "cell_type": "code",
   "execution_count": null,
   "id": "a4bb9a8d-9d90-40e8-90d1-9e970497568b",
   "metadata": {},
   "outputs": [],
   "source": [
    "# import datetime.timezone\n",
    "# datetime.timetz()\n",
    "compounds_per_batch = cellpainting_args['compounds_per_batch']\n",
    "title=\"autoencoder\"\n",
    "epochs_num = epochs\n",
    "timestamp = datetime.now().strftime('%Y%m%d')\n",
    "filename = f\"AE_{args.model.lower()}_{timestamp}_{title}_{epochs_num:03d}_cpb_{compounds_per_batch}_factor_{int(snnl_factor):d}\"\n",
    "print(f\"saved to {filename}\")"
   ]
  },
  {
   "cell_type": "code",
   "execution_count": null,
   "id": "8364b7ba-8d33-41ac-b30f-0c39759a9772",
   "metadata": {},
   "outputs": [],
   "source": [
    "# save_model(model, filename)\n",
    "# export_results(model=model, filename=filename)\n",
    "# save_checkpoint(epochs, model, filename, update_latest=False, update_best=False)"
   ]
  },
  {
   "cell_type": "code",
   "execution_count": null,
   "id": "5738408d-29ca-46b4-8c79-6f184958acf0",
   "metadata": {},
   "outputs": [],
   "source": [
    "model.name\n",
    "args.runmode\n",
    "ex_timestamp\n",
    "ex_title\n",
    "epoch\n",
    "args.compounds_per_batch\n",
    "model.snnl_factor"
   ]
  },
  {
   "cell_type": "code",
   "execution_count": null,
   "id": "393af8c8-cf02-455f-a810-b68a7637c07e",
   "metadata": {},
   "outputs": [],
   "source": [
    "filename = f\"{model.name}_{args.runmode}_{args.exp_date}_{args.exp_title}_ep_{epoch+1:03d}\"\n",
    "print(filename)"
   ]
  },
  {
   "cell_type": "code",
   "execution_count": null,
   "id": "38e9d094-6432-4eb7-9ce7-f07b01a01a87",
   "metadata": {},
   "outputs": [],
   "source": [
    "filename = f\"{model.name}_{args.model.lower()}_{ex_timestamp}_{ex_title}_{epoch+1:03d}_cpb_{args.compounds_per_batch}_copy\"\n",
    "print(filename)\n",
    "    # export_results(model=model, filename=filename)\n",
    "save_checkpoint_2(epochs, model, filename, update_latest=False, update_best=False)  "
   ]
  },
  {
   "cell_type": "markdown",
   "id": "75fb4184-7640-4cc5-bf19-249ebb9fc072",
   "metadata": {
    "execution": {
     "iopub.execute_input": "2024-04-01T00:58:52.961399Z",
     "iopub.status.busy": "2024-04-01T00:58:52.960920Z"
    },
    "jp-MarkdownHeadingCollapsed": true
   },
   "source": [
    "# Load model"
   ]
  },
  {
   "cell_type": "code",
   "execution_count": 79,
   "id": "c914b200-c783-4477-9ca7-3370a23ec595",
   "metadata": {
    "execution": {
     "iopub.execute_input": "2024-06-12T07:12:26.811594Z",
     "iopub.status.busy": "2024-06-12T07:12:26.811163Z",
     "iopub.status.idle": "2024-06-12T07:12:26.844320Z",
     "shell.execute_reply": "2024-06-12T07:12:26.843804Z",
     "shell.execute_reply.started": "2024-06-12T07:12:26.811554Z"
    }
   },
   "outputs": [],
   "source": [
    "# ex_epochs = 200\n",
    "# ex_mode = 'snnl'\n",
    "ex_runmode = 'baseline'\n",
    "ex_date = \"20240605\"\n",
    "ex_title=\"snglOpt-50Ltnt\"\n",
    "# ex_title=\"secondTry\"\n",
    "# ex_title=\"dropout04\"\n",
    "# title=\"autoencoder\"\n",
    "# title='Xentropy'"
   ]
  },
  {
   "cell_type": "code",
   "execution_count": 80,
   "id": "28725c74-24ac-4b2c-b2fe-4314aaf6a77a",
   "metadata": {
    "execution": {
     "iopub.execute_input": "2024-06-12T07:12:27.365606Z",
     "iopub.status.busy": "2024-06-12T07:12:27.365187Z",
     "iopub.status.idle": "2024-06-12T07:12:27.409172Z",
     "shell.execute_reply": "2024-06-12T07:12:27.408462Z",
     "shell.execute_reply.started": "2024-06-12T07:12:27.365567Z"
    }
   },
   "outputs": [
    {
     "name": "stdout",
     "output_type": "stream",
     "text": [
      "AE_baseline_20240605_snglOpt-50Ltnt_300.pt\n",
      "AE_baseline_20240605_snglOpt-50Ltnt_ep_*.pt\n"
     ]
    }
   ],
   "source": [
    "# filename = f\"{model.name}_{ex_runmode}_{ex_date}_{ex_title}_{epochs:03d}_cpb_{ex_cpb}_factor_{ex_factor:d}.pt\"\n",
    "# file_pattern = f\"{model.name}_{ex_runmode}_{ex_date}_{ex_title}_*_cpb_{ex_cpb}_factor_{ex_factor:d}.pt\"\n",
    "filename = f\"{model.name}_{ex_runmode}_{ex_date}_{ex_title}_{epochs:03d}.pt\"\n",
    "print(filename)\n",
    "file_pattern = f\"{model.name}_{ex_runmode}_{ex_date}_{ex_title}_ep_*.pt\"\n",
    "print(file_pattern)"
   ]
  },
  {
   "cell_type": "code",
   "execution_count": 81,
   "id": "4d96660a-46a2-4d46-bcb8-a3fb2d9a74d9",
   "metadata": {
    "execution": {
     "iopub.execute_input": "2024-06-12T07:12:28.721285Z",
     "iopub.status.busy": "2024-06-12T07:12:28.720854Z",
     "iopub.status.idle": "2024-06-12T07:12:28.764606Z",
     "shell.execute_reply": "2024-06-12T07:12:28.763919Z",
     "shell.execute_reply.started": "2024-06-12T07:12:28.721242Z"
    }
   },
   "outputs": [
    {
     "data": {
      "text/plain": [
       "['AE_baseline_20240605_snglOpt-50Ltnt_ep_025.pt',\n",
       " 'AE_baseline_20240605_snglOpt-50Ltnt_ep_050.pt',\n",
       " 'AE_baseline_20240605_snglOpt-50Ltnt_ep_075.pt',\n",
       " 'AE_baseline_20240605_snglOpt-50Ltnt_ep_100.pt',\n",
       " 'AE_baseline_20240605_snglOpt-50Ltnt_ep_125.pt',\n",
       " 'AE_baseline_20240605_snglOpt-50Ltnt_ep_150.pt',\n",
       " 'AE_baseline_20240605_snglOpt-50Ltnt_ep_175.pt',\n",
       " 'AE_baseline_20240605_snglOpt-50Ltnt_ep_200.pt']"
      ]
     },
     "execution_count": 81,
     "metadata": {},
     "output_type": "execute_result"
    },
    {
     "data": {
      "text/plain": [
       "[25, 50, 75, 100, 125, 150, 175, 200]"
      ]
     },
     "execution_count": 81,
     "metadata": {},
     "output_type": "execute_result"
    }
   ],
   "source": [
    "import glob\n",
    "filelist = glob.glob(file_pattern,root_dir = './ckpts')\n",
    "filelist = sorted(filelist)\n",
    "filelist\n",
    "epochlist =sorted([int(x[-6:-3]) for x in filelist])\n",
    "epochlist\n",
    " "
   ]
  },
  {
   "cell_type": "code",
   "execution_count": 82,
   "id": "9e492e3f-f194-4759-b8a6-8a949743d022",
   "metadata": {
    "execution": {
     "iopub.execute_input": "2024-06-12T07:12:29.709121Z",
     "iopub.status.busy": "2024-06-12T07:12:29.708697Z",
     "iopub.status.idle": "2024-06-12T07:12:29.744933Z",
     "shell.execute_reply": "2024-06-12T07:12:29.744439Z",
     "shell.execute_reply.started": "2024-06-12T07:12:29.709081Z"
    }
   },
   "outputs": [],
   "source": [
    "# runmode = 'snnl'\n",
    "# ex_date = '20240516'\n",
    "# ex_title = args.exp_title\n",
    "ex_epoch = 200"
   ]
  },
  {
   "cell_type": "code",
   "execution_count": 83,
   "id": "a71ca7cd-8258-49ca-b2d6-16268bd34dc7",
   "metadata": {
    "execution": {
     "iopub.execute_input": "2024-06-12T07:12:33.798415Z",
     "iopub.status.busy": "2024-06-12T07:12:33.797989Z",
     "iopub.status.idle": "2024-06-12T07:12:33.835425Z",
     "shell.execute_reply": "2024-06-12T07:12:33.834662Z",
     "shell.execute_reply.started": "2024-06-12T07:12:33.798374Z"
    }
   },
   "outputs": [
    {
     "name": "stdout",
     "output_type": "stream",
     "text": [
      "AE_baseline_20240605_snglOpt-50Ltnt_ep_200.pt\n",
      "\n",
      " *** Checkpoint EXISTS *** \n",
      "\n"
     ]
    }
   ],
   "source": [
    "filename = f\"{model.name}_{args.runmode}_{ex_date}_{ex_title}_ep_{ex_epoch:03d}\"   \n",
    "if filename[-3:] != '.pt':\n",
    "    filename+='.pt'\n",
    "print(filename)\n",
    "\n",
    "if os.path.exists(os.path.join('ckpts', filename)):\n",
    "    print(f\"\\n *** Checkpoint EXISTS *** \\n\")\n",
    "else:\n",
    "    print(f\"\\n *** Checkpoint DOESNT EXIST *** \\n\")"
   ]
  },
  {
   "cell_type": "code",
   "execution_count": 84,
   "id": "2d6a57df-2a6c-4ca5-8bc0-0672d1c03901",
   "metadata": {
    "execution": {
     "iopub.execute_input": "2024-06-12T07:12:34.834981Z",
     "iopub.status.busy": "2024-06-12T07:12:34.834752Z",
     "iopub.status.idle": "2024-06-12T07:12:34.944900Z",
     "shell.execute_reply": "2024-06-12T07:12:34.944229Z",
     "shell.execute_reply.started": "2024-06-12T07:12:34.834962Z"
    }
   },
   "outputs": [
    {
     "name": "stdout",
     "output_type": "stream",
     "text": [
      "--> AE_baseline_20240605_snglOpt-50Ltnt_ep_200.pt\n",
      "epoch                                   , <class 'int'>                                                 -- model attr set\n",
      "state_dict                              , <class 'collections.OrderedDict'>                             -- model attr set\n",
      "optimizer                               , <class 'torch.optim.adam.Adam'>                               -- model attr set\n",
      "temp_optimizer                          , <class 'NoneType'>                                            -- model attr set\n",
      "optimizer_state_dict                    , <class 'dict'>                                                -- model attr set\n",
      "temp_optimizer_state_dict               , <class 'NoneType'>                                            -- model attr set\n",
      "scheduler                               , <class 'torch.optim.lr_scheduler.ReduceLROnPlateau'>          -- model attr set\n",
      "temp_scheduler                          , <class 'NoneType'>                                            -- model attr set\n",
      "scheduler_state_dict                    , <class 'dict'>                                                -- model attr set\n",
      "temp_scheduler_state_dict               , <class 'NoneType'>                                            -- model attr set\n",
      "params                                  , <class 'dict'>                                                -- model attr set\n",
      "\n",
      "name                                    , <class 'str'>                                                 -- model attr set\n",
      "layer_types                             , <class 'list'>                                                -- model attr set\n",
      "layer_activations                       , <class 'list'>                                                -- model attr set\n",
      "use_scheduler                           , <class 'bool'>                                                -- model attr set\n",
      "use_temp_scheduler                      , <class 'bool'>                                                -- model attr set\n",
      "monitor_grads_layer                     , <class 'NoneType'>                                            -- model attr set\n",
      "learning_rate                           , <class 'float'>                                               -- model attr set\n",
      "adam_weight_decay                       , <class 'int'>                                                 -- model attr set\n",
      "training                                , <class 'bool'>                                                -- model attr set\n",
      "mode                                    , <class 'str'>                                                 -- model attr set\n",
      "device                                  , <class 'torch.device'>                                        -- model attr set\n",
      "train_loss                              , <class 'list'>                                                -- model attr set\n",
      "use_snnl                                , <class 'bool'>                                                -- model attr set\n",
      "loss_factor                             , <class 'float'>                                               -- model attr set\n",
      "snnl_factor                             , <class 'float'>                                               -- model attr set\n",
      "code_units                              , <class 'int'>                                                 -- model attr set\n",
      "embedding_layer                         , <class 'int'>                                                 -- model attr set\n",
      "stability_epsilon                       , <class 'float'>                                               -- model attr set\n",
      "verbose                                 , <class 'bool'>                                                -- model attr set\n",
      "sample_size                             , <class 'int'>                                                 -- model attr set\n",
      "temperatureLR                           , <class 'float'>                                               -- model attr set\n",
      "training_history                        , <class 'dict'>                                                -- model attr set\n",
      "unsupervised                            , <class 'bool'>                                                -- model attr set\n",
      "snnl_criterion                          , <class 'NoneType'>                                            -- model attr set\n",
      "temperature                             , <class 'int'>                                                 -- model attr set\n",
      "batch_count                             , <class 'int'>                                                 -- model attr set\n",
      "name                                    , <class 'str'>                                                 -- model attr set\n",
      "layer_types                             , <class 'list'>                                                -- model attr set\n",
      "layer_activations                       , <class 'list'>                                                -- model attr set\n",
      "use_scheduler                           , <class 'bool'>                                                -- model attr set\n",
      "use_temp_scheduler                      , <class 'bool'>                                                -- model attr set\n",
      "monitor_grads_layer                     , <class 'NoneType'>                                            -- model attr set\n",
      "learning_rate                           , <class 'float'>                                               -- model attr set\n",
      "adam_weight_decay                       , <class 'int'>                                                 -- model attr set\n",
      "training                                , <class 'bool'>                                                -- model attr set\n",
      "mode                                    , <class 'str'>                                                 -- model attr set\n",
      "device                                  , <class 'torch.device'>                                        -- model attr set\n",
      "train_loss                              , <class 'list'>                                                -- model attr set\n",
      "use_snnl                                , <class 'bool'>                                                -- model attr set\n",
      "loss_factor                             , <class 'float'>                                               -- model attr set\n",
      "snnl_factor                             , <class 'float'>                                               -- model attr set\n",
      "code_units                              , <class 'int'>                                                 -- model attr set\n",
      "embedding_layer                         , <class 'int'>                                                 -- model attr set\n",
      "stability_epsilon                       , <class 'float'>                                               -- model attr set\n",
      "verbose                                 , <class 'bool'>                                                -- model attr set\n",
      "sample_size                             , <class 'int'>                                                 -- model attr set\n",
      "temperatureLR                           , <class 'float'>                                               -- model attr set\n",
      "training_history                        , <class 'dict'>                                                -- model attr set\n",
      "unsupervised                            , <class 'bool'>                                                -- model attr set\n",
      "snnl_criterion                          , <class 'NoneType'>                                            -- model attr set\n",
      "temperature                             , <class 'int'>                                                 -- model attr set\n",
      "batch_count                             , <class 'int'>                                                 -- model attr set\n",
      "\n",
      " ==> Loaded from checkpoint AE_baseline_20240605_snglOpt-50Ltnt_ep_200.pt successfully. last epoch on checkpoint: 200\n",
      "\n",
      " last epoch : 200\n"
     ]
    }
   ],
   "source": [
    "mdl , last_epoch = load_checkpoint_v2(model, filename)  \n",
    "print(f\" last epoch : {last_epoch}\")"
   ]
  },
  {
   "cell_type": "code",
   "execution_count": 87,
   "id": "72568b6c-66b5-458e-8cdb-11fd70a6d161",
   "metadata": {
    "execution": {
     "iopub.execute_input": "2024-06-12T07:13:14.654574Z",
     "iopub.status.busy": "2024-06-12T07:13:14.654131Z",
     "iopub.status.idle": "2024-06-12T07:13:14.691236Z",
     "shell.execute_reply": "2024-06-12T07:13:14.690692Z",
     "shell.execute_reply.started": "2024-06-12T07:13:14.654532Z"
    }
   },
   "outputs": [
    {
     "name": "stdout",
     "output_type": "stream",
     "text": [
      "cuda:1\n",
      "cuda:0\n",
      "cuda:1\n"
     ]
    }
   ],
   "source": [
    "print(current_device)\n",
    "print(model.device)\n",
    "model.device = current_device\n",
    "print(model.device)"
   ]
  },
  {
   "cell_type": "code",
   "execution_count": 88,
   "id": "00c841d7-6d85-438c-a7da-e8026fb4f644",
   "metadata": {
    "execution": {
     "iopub.execute_input": "2024-06-12T07:13:29.929118Z",
     "iopub.status.busy": "2024-06-12T07:13:29.928696Z",
     "iopub.status.idle": "2024-06-12T07:13:29.970587Z",
     "shell.execute_reply": "2024-06-12T07:13:29.970030Z",
     "shell.execute_reply.started": "2024-06-12T07:13:29.929079Z"
    }
   },
   "outputs": [
    {
     "name": "stdout",
     "output_type": "stream",
     "text": [
      "cuda:1\n"
     ]
    },
    {
     "data": {
      "text/plain": [
       "Autoencoder(\n",
       "  (primary_criterion): MSELoss()\n",
       "  (layers): ModuleList(\n",
       "    (0): Linear(in_features=1471, out_features=1024, bias=True)\n",
       "    (1): ReLU()\n",
       "    (2): Linear(in_features=1024, out_features=128, bias=True)\n",
       "    (3): ReLU()\n",
       "    (4): Linear(in_features=128, out_features=50, bias=True)\n",
       "    (5): Linear(in_features=50, out_features=128, bias=True)\n",
       "    (6): ReLU()\n",
       "    (7): Linear(in_features=128, out_features=1024, bias=True)\n",
       "    (8): ReLU()\n",
       "    (9): Linear(in_features=1024, out_features=1471, bias=True)\n",
       "  )\n",
       ")"
      ]
     },
     "execution_count": 88,
     "metadata": {},
     "output_type": "execute_result"
    },
    {
     "name": "stdout",
     "output_type": "stream",
     "text": [
      "cuda:1\n"
     ]
    }
   ],
   "source": [
    "print(current_device)\n",
    "model.train()\n",
    "model = model.cuda(device=current_device)\n",
    "print(model.device)"
   ]
  },
  {
   "cell_type": "code",
   "execution_count": 89,
   "id": "25b03053-b090-4116-898a-acbfb8add271",
   "metadata": {
    "execution": {
     "iopub.execute_input": "2024-06-12T07:13:32.442713Z",
     "iopub.status.busy": "2024-06-12T07:13:32.442266Z",
     "iopub.status.idle": "2024-06-12T07:13:32.478663Z",
     "shell.execute_reply": "2024-06-12T07:13:32.478099Z",
     "shell.execute_reply.started": "2024-06-12T07:13:32.442671Z"
    }
   },
   "outputs": [
    {
     "name": "stdout",
     "output_type": "stream",
     "text": [
      " last epoch  200\n"
     ]
    }
   ],
   "source": [
    "print(f\" last epoch  {last_epoch}\")"
   ]
  },
  {
   "cell_type": "code",
   "execution_count": 90,
   "id": "eb1241f9-4ad1-425f-8526-43c5cd89859c",
   "metadata": {
    "execution": {
     "iopub.execute_input": "2024-06-12T07:13:33.559192Z",
     "iopub.status.busy": "2024-06-12T07:13:33.558761Z",
     "iopub.status.idle": "2024-06-12T07:13:33.595006Z",
     "shell.execute_reply": "2024-06-12T07:13:33.594323Z",
     "shell.execute_reply.started": "2024-06-12T07:13:33.559152Z"
    }
   },
   "outputs": [
    {
     "name": "stdout",
     "output_type": "stream",
     "text": [
      " run epochs 201 to 300 \n"
     ]
    }
   ],
   "source": [
    "# starting_epoch = 20\n",
    "starting_epoch = last_epoch\n",
    "epochs = last_epoch + 100\n",
    "# starting_epoch = epoch + 1\n",
    "print(f\" run epochs {starting_epoch+1} to {epochs} \")"
   ]
  },
  {
   "cell_type": "code",
   "execution_count": 91,
   "id": "361a2ba1-0bac-4ff8-aa08-950fe7fe2302",
   "metadata": {
    "execution": {
     "iopub.execute_input": "2024-06-12T07:13:35.420453Z",
     "iopub.status.busy": "2024-06-12T07:13:35.419955Z",
     "iopub.status.idle": "2024-06-12T07:13:35.457924Z",
     "shell.execute_reply": "2024-06-12T07:13:35.457376Z",
     "shell.execute_reply.started": "2024-06-12T07:13:35.420413Z"
    }
   },
   "outputs": [
    {
     "name": "stdout",
     "output_type": "stream",
     "text": [
      "\n",
      " model device         : cuda:1\n",
      " model temperature    : 0\n",
      "\n",
      " loss_factor          : 1.0\n",
      " monitor_grads_layer  : None\n",
      " Learning rate        : 0.001\n",
      " snnl_factor          : 0.0\n",
      "\n",
      " trn_time             : 17:35:13  \n",
      " trn_ttl_loss         : 0.270604 \n",
      " trn_prim_loss        : 0.270604 \n",
      " trn_snn_loss         : 0.000000 \n",
      " trn_R2_score         : 0.614610 \n",
      " trn_lr               : 0.001000 \n",
      "\n",
      " val_time             : 17:35:24  \n",
      " val_ttl_loss         : 0.314858 \n",
      " val_prim_loss        : 0.314858 \n",
      " val_snn_loss         : 0.000000 \n",
      " val_R2_score         : 0.482821 \n",
      "\n"
     ]
    }
   ],
   "source": [
    "print()\n",
    "print(f\" model device         : {model.device}\")\n",
    "print(f\" model temperature    : {model.temperature}\")\n",
    "print() \n",
    "print(f\" loss_factor          : {model.loss_factor}\")\n",
    "print(f\" monitor_grads_layer  : {model.monitor_grads_layer}\")\n",
    "print(f\" Learning rate        : {model.optimizer.param_groups[0]['lr']}\") \n",
    "print(f\" snnl_factor          : {model.snnl_factor}\")\n",
    "if model.use_snnl:\n",
    "    print(f\" temperature          : {model.temperature.item()}\")\n",
    "if model.temp_optimizer is not None:\n",
    "    print(f\" Temperature LR       : {model.temp_optimizer.param_groups[0]['lr']}\") \n",
    "print()\n",
    "\n",
    "for th_key in ['trn', 'val']:\n",
    "    for k,v in model.training_history[th_key].items():\n",
    "        if isinstance(v[-1],str):\n",
    "            print(f\" {k:20s} : {v[-1]:s}  \")\n",
    "        else:\n",
    "            print(f\" {k:20s} : {v[-1]:6f} \")\n",
    "    print()\n"
   ]
  },
  {
   "cell_type": "code",
   "execution_count": null,
   "id": "6a4b320a-e40a-47b2-886f-6130c314afb8",
   "metadata": {
    "scrolled": true
   },
   "outputs": [],
   "source": [
    "model.optimizer.__dict__\n",
    "print()"
   ]
  },
  {
   "cell_type": "code",
   "execution_count": null,
   "id": "903b5c7a-4271-4659-857d-29ee395daedc",
   "metadata": {},
   "outputs": [],
   "source": [
    "model.scheduler.__dict__"
   ]
  },
  {
   "cell_type": "markdown",
   "id": "551fbd83-4eb8-48e4-8914-51603639f0f8",
   "metadata": {},
   "source": [
    "# Misc code"
   ]
  },
  {
   "cell_type": "code",
   "execution_count": null,
   "id": "5a96d9f7-7647-43c4-9a2d-6d3337ff768a",
   "metadata": {},
   "outputs": [],
   "source": [
    "# loaded_data = import_results(filename)\n",
    "\n",
    "# for k in loaded_data.keys():\n",
    "#     print(k, type(loaded_data[k]), len(loaded_data[k]))\n",
    "# print(\"\\nTraining History\")\n",
    "# results = loaded_data['training_history']\n",
    "# for k,v in results.items():\n",
    "#     print(' ',k , len(v))\n",
    "#     for kk,vv in results[k].items():\n",
    "#         print( f\"   {kk:20s} {len(vv)}\")\n",
    "# print(\"\\nModel Parameters\")\n",
    "# model_parameters = loaded_data['params']\n",
    "# for k,v in model_parameters.items():\n",
    "#     print(f\"   {k:25s} {v}\" )\n",
    " "
   ]
  },
  {
   "cell_type": "code",
   "execution_count": null,
   "id": "cc884bcb-58de-427c-979a-c6cc15ed0aa2",
   "metadata": {},
   "outputs": [],
   "source": [
    "# model_attributes = model.__dict__\n",
    "# from collections import defaultdict\n",
    "# output = defaultdict(dict)\n",
    "\n",
    "# for key, value in model_attributes.items():\n",
    "#         if key[0] == \"_\" or type(value) in [torch.device, torch.optim.Adam , torch.optim.SGD]:\n",
    "#             continue\n",
    "#         if key == 'training_history':\n",
    "#             output[key] = value\n",
    "#         else:\n",
    "#             output['params'][key] = value\n",
    "#             print(f\" {key:30s}    {type(value)}   \")\n",
    "\n",
    "# output.keys()\n",
    "# output['params']\n",
    "# output['training_history'].keys()"
   ]
  },
  {
   "cell_type": "code",
   "execution_count": null,
   "id": "41a232e9-2360-4f04-811a-73533f0b5817",
   "metadata": {},
   "outputs": [],
   "source": [
    "# for k in results.keys():\n",
    "#     print(f\" key: {k:30s}  length of - loaded results: {len(results[k])}  existing model: {len(model.__dict__[k])}\" )\n",
    "#     model.__dict__[k] = results[k]"
   ]
  },
  {
   "cell_type": "code",
   "execution_count": 37,
   "id": "45bd5440-ade0-4ada-b00d-98e7f6f47dd0",
   "metadata": {
    "execution": {
     "iopub.execute_input": "2024-06-04T13:23:38.806204Z",
     "iopub.status.busy": "2024-06-04T13:23:38.805696Z",
     "iopub.status.idle": "2024-06-04T13:23:39.162355Z",
     "shell.execute_reply": "2024-06-04T13:23:39.161596Z",
     "shell.execute_reply.started": "2024-06-04T13:23:38.806162Z"
    }
   },
   "outputs": [],
   "source": [
    "# for key in ['trn', 'val']:\n",
    "#     del_keys = []\n",
    "#     for k,v in model.training_history[key].items():\n",
    "#         print(k, len(v))\n",
    "#         if len(v) == 0 :\n",
    "#             del_keys.append(k)\n",
    "#     del_keys\n",
    "#     for k in del_keys:    \n",
    "#         del  model.training_history[key][k]\n",
    "#     print('-----------------------')\n",
    "\n",
    "# model.training_history['val'].keys()\n",
    "# np.argmin(model.training_history['trn']['trn_ttl_loss']), np.min(model.training_history['trn']['trn_ttl_loss'] )\n",
    "# np.argmin(model.training_history['trn']['trn_prim_loss']),np.min(model.training_history['trn']['trn_prim_loss']), np.min(model.training_history['trn']['trn_prim_loss'])  / model.loss_factor\n",
    "# np.argmin(model.training_history['trn']['trn_snn_loss']), np.min(model.training_history['trn']['trn_snn_loss'] ),  np.min(model.training_history['trn']['trn_snn_loss'] ) / model.snnl_factor\n",
    "# print()\n",
    "# np.argmin(model.training_history['val']['val_ttl_loss']) , np.min(model.training_history['val']['val_ttl_loss'] )\n",
    "# np.argmin(model.training_history['val']['val_prim_loss']), np.min(model.training_history['val']['val_prim_loss']), np.min(model.training_history['val']['val_prim_loss']) / model.loss_factor\n",
    "# np.argmin(model.training_history['val']['val_snn_loss']) , np.min(model.training_history['val']['val_snn_loss'] ), np.min(model.training_history['val']['val_snn_loss'] ) / model.snnl_factor\n",
    "\n",
    "# model.optimizer\n",
    "# model.optimizer.state_dict()\n",
    "# model.optimizer.param_groups[0]['lr'], model.optimizer.param_groups[1]['lr']\n",
    "# model.scheduler.__dict__\n",
    "\n",
    "# model.optimizer = torch.optim.Adam(params = network_params, lr=0.001, weight_decay = 0.1)\n",
    "# # if self.use_snnl:\n",
    "# #     self.optimizer.add_param_group({'params': temp_params, 'lr': temperatureLR, 'weight_decay': adam_weight_decay})\n",
    "\n",
    "# if model.use_scheduler:\n",
    "#     model.scheduler = model._ReduceLROnPlateau(model.optimizer, mode='min', factor=0.5, patience=40, threshold=0.000001, \n",
    "#                                              threshold_mode='rel', cooldown=10, min_lr=0, eps=1e-08, verbose =True) "
   ]
  }
 ],
 "metadata": {
  "kernelspec": {
   "display_name": "Python [conda env:ptsnnl]",
   "language": "python",
   "name": "conda-env-ptsnnl-py"
  },
  "language_info": {
   "codemirror_mode": {
    "name": "ipython",
    "version": 3
   },
   "file_extension": ".py",
   "mimetype": "text/x-python",
   "name": "python",
   "nbconvert_exporter": "python",
   "pygments_lexer": "ipython3",
   "version": "3.11.0"
  },
  "toc": {
   "base_numbering": 1,
   "nav_menu": {},
   "number_sections": true,
   "sideBar": true,
   "skip_h1_title": false,
   "title_cell": "Table of Contents",
   "title_sidebar": "Contents",
   "toc_cell": false,
   "toc_position": {},
   "toc_section_display": true,
   "toc_window_display": false
  }
 },
 "nbformat": 4,
 "nbformat_minor": 5
}
