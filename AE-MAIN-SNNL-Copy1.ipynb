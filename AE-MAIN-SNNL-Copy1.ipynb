{
 "cells": [
  {
   "cell_type": "markdown",
   "id": "01e25dfa-859b-40a5-9bd7-e23d6e0a0557",
   "metadata": {},
   "source": [
    "  # Autoencoder - SNNL Dev"
   ]
  },
  {
   "cell_type": "markdown",
   "id": "dc83491e-628a-4bc0-806c-5d41b997dd98",
   "metadata": {},
   "source": [
    "# Setup"
   ]
  },
  {
   "cell_type": "code",
   "execution_count": 1,
   "id": "11ad0ae2",
   "metadata": {
    "ExecuteTime": {
     "end_time": "2023-04-12T10:29:15.566596Z",
     "start_time": "2023-04-12T10:29:15.550232Z"
    },
    "execution": {
     "iopub.execute_input": "2024-07-08T20:16:57.858003Z",
     "iopub.status.busy": "2024-07-08T20:16:57.857451Z",
     "iopub.status.idle": "2024-07-08T20:16:57.884404Z",
     "shell.execute_reply": "2024-07-08T20:16:57.883762Z",
     "shell.execute_reply.started": "2024-07-08T20:16:57.857952Z"
    }
   },
   "outputs": [
    {
     "data": {
      "text/html": [
       "<style>.container { width:98% !important; }</style>"
      ],
      "text/plain": [
       "<IPython.core.display.HTML object>"
      ]
     },
     "metadata": {},
     "output_type": "display_data"
    }
   ],
   "source": [
    "# %pwd\n",
    "# %cd ~/WSL-shared/Cellpainting/pt-snnl/\n",
    "from IPython.display import display, HTML\n",
    "display(HTML(\"<style>.container { width:98% !important; }</style>\"))\n",
    "%load_ext autoreload  \n",
    "%autoreload 2\n",
    "from IPython.core.interactiveshell import InteractiveShell\n",
    "InteractiveShell.ast_node_interactivity = \"all\""
   ]
  },
  {
   "cell_type": "code",
   "execution_count": 2,
   "id": "651de463-2e37-42ed-808d-2f16dff6b3d5",
   "metadata": {
    "ExecuteTime": {
     "end_time": "2023-04-12T10:29:16.111588Z",
     "start_time": "2023-04-12T10:29:15.764305Z"
    },
    "execution": {
     "iopub.execute_input": "2024-07-08T20:16:59.032951Z",
     "iopub.status.busy": "2024-07-08T20:16:59.032203Z",
     "iopub.status.idle": "2024-07-08T20:17:02.018460Z",
     "shell.execute_reply": "2024-07-08T20:17:02.017461Z",
     "shell.execute_reply.started": "2024-07-08T20:16:59.032871Z"
    }
   },
   "outputs": [
    {
     "name": "stdout",
     "output_type": "stream",
     "text": [
      "insert ./src\n",
      "insert ../..\n",
      "['../..', './src', '/home/kevin/miniforge3/envs/ptsnnl/lib/python311.zip', '/home/kevin/miniforge3/envs/ptsnnl/lib/python3.11', '/home/kevin/miniforge3/envs/ptsnnl/lib/python3.11/lib-dynload', '', '/home/kevin/miniforge3/envs/ptsnnl/lib/python3.11/site-packages', '/home/kevin/miniforge3/envs/ptsnnl/lib/python3.11/site-packages/cytominer_eval-0.1-py3.11.egg']\n"
     ]
    }
   ],
   "source": [
    "import os\n",
    "import sys\n",
    "import csv\n",
    "import json\n",
    "import time\n",
    "import types, copy, pprint\n",
    "import logging \n",
    "from datetime import datetime\n",
    "for p in ['./src','../..']:\n",
    "    if p not in sys.path:\n",
    "        print(f\"insert {p}\")\n",
    "        sys.path.insert(0, p)\n",
    "print(sys.path)\n",
    "# import shutil\n",
    "# import getpass\n",
    "import yaml\n",
    "\n",
    "import hydra \n",
    "from hydra import initialize, initialize_config_module, initialize_config_dir, compose\n",
    "from omegaconf import OmegaConf\n",
    "\n",
    "\n",
    "from matplotlib import pyplot as plt\n",
    "from typing import Dict, List, Tuple\n",
    "from scipy.sparse import csr_matrix\n",
    "from tqdm import tqdm\n",
    "\n",
    "import numpy as np\n",
    "import pandas as pd\n",
    "import scipy  \n",
    "import torch\n",
    "import torch.nn.functional as F\n",
    "from torchinfo import summary\n",
    "import wandb\n",
    "\n",
    "torch.set_printoptions(precision=None, threshold=None, edgeitems=None, linewidth=150, profile=None, sci_mode=None)\n",
    " \n",
    "\n",
    "pp = pprint.PrettyPrinter(indent=4)\n",
    "pd.options.display.width = 132\n",
    "torch.set_printoptions(precision=None, threshold=None, edgeitems=None, linewidth=150, profile=None, sci_mode=None)\n",
    "np.set_printoptions(edgeitems=3, infstr='inf', linewidth=150, nanstr='nan')\n",
    "\n",
    "os.environ[\"WANDB_NOTEBOOK_NAME\"] = \"AE-MAIN-SNNL.ipynb\"\n",
    "# os.environ[\"CUDA_LAUNCH_BLOCKING\"] = \"1\"\n",
    "# os.environ[\"CUDA_VISIBLE_DEVICES\"] = \"2\""
   ]
  },
  {
   "cell_type": "code",
   "execution_count": 3,
   "id": "61e84582-bc2f-4bdd-8410-33f267519657",
   "metadata": {
    "ExecuteTime": {
     "end_time": "2023-04-12T10:29:16.111588Z",
     "start_time": "2023-04-12T10:29:15.764305Z"
    },
    "execution": {
     "iopub.execute_input": "2024-07-08T20:17:02.020163Z",
     "iopub.status.busy": "2024-07-08T20:17:02.019904Z",
     "iopub.status.idle": "2024-07-08T20:17:05.277559Z",
     "shell.execute_reply": "2024-07-08T20:17:05.276693Z",
     "shell.execute_reply.started": "2024-07-08T20:17:02.020141Z"
    }
   },
   "outputs": [],
   "source": [
    "from KevinsRoutines.utils.utils_wandb  import  init_wandb, wandb_log_metrics,wandb_watch\n",
    "from KevinsRoutines.utils.utils_general  import  list_namespace, print_heading, print_underline \n",
    "from snnl.utils import parse_args, load_configuration, set_global_seed, get_device, set_device\n",
    "from snnl.utils import load_model, save_model, import_results, export_results \n",
    "from snnl.utils import plot_model_parms, plot_train_history, plot_classification_metrics, plot_regression_metrics\n",
    "from snnl.utils import display_epoch_metrics, display_cellpainting_batch, display_model_parameters\n",
    "from snnl.utils import CellpaintingDataset, InfiniteDataLoader, custom_collate_fn\n",
    "from snnl.utils import display_model_summary, define_autoencoder_model\n",
    "from snnl.utils import save_checkpoint_v2, load_checkpoint_v4, save_checkpoint_v3, save_checkpoint_v4"
   ]
  },
  {
   "cell_type": "code",
   "execution_count": 4,
   "id": "5e43c4ff-f371-4f9d-8785-1faeebe2330b",
   "metadata": {
    "ExecuteTime": {
     "end_time": "2023-04-12T10:29:16.111588Z",
     "start_time": "2023-04-12T10:29:15.764305Z"
    },
    "execution": {
     "iopub.execute_input": "2024-07-08T20:17:05.279820Z",
     "iopub.status.busy": "2024-07-08T20:17:05.279406Z",
     "iopub.status.idle": "2024-07-08T20:17:05.329923Z",
     "shell.execute_reply": "2024-07-08T20:17:05.328897Z",
     "shell.execute_reply.started": "2024-07-08T20:17:05.279796Z"
    },
    "scrolled": true
   },
   "outputs": [
    {
     "name": "stderr",
     "output_type": "stream",
     "text": [
      "2024-07-08 22:17:05,321 - __main__ - INFO: -  Excution started : 2024_07_08_22:17:05 \n",
      "2024-07-08 22:17:05,323 - __main__ - INFO: -  Pytorch version  : 2.2.1+cu118\n",
      "2024-07-08 22:17:05,323 - __main__ - INFO: -  Scipy version    : 1.12.0  \t\t Numpy version : 1.26.4\n",
      "2024-07-08 22:17:05,324 - __main__ - INFO: -  WandB version    : 0.17.2  \t\t Pandas version: 2.2.1  \n"
     ]
    }
   ],
   "source": [
    "timestamp = datetime.now().strftime('%Y_%m_%d_%H:%M:%S')\n",
    "logger = logging.getLogger(__name__) \n",
    "logLevel = os.environ.get('LOG_LEVEL', 'INFO').upper()\n",
    "FORMAT = '%(asctime)s - %(name)s - %(levelname)s: - %(message)s'\n",
    "logging.basicConfig(level=\"INFO\", format= FORMAT)\n",
    "\n",
    "logger.info(f\" Excution started : {timestamp} \")\n",
    "logger.info(f\" Pytorch version  : {torch.__version__}\")\n",
    "logger.info(f\" Scipy version    : {scipy.__version__}  \\t\\t Numpy version : {np.__version__}\")\n",
    "logger.info(f\" WandB version    : {wandb.__version__}  \\t\\t Pandas version: {pd.__version__}  \")\n",
    "# logger.info(f\" Search path      : {sys.path}\")"
   ]
  },
  {
   "cell_type": "markdown",
   "id": "789b0fbb-e6b5-4faf-95d0-385819cf246c",
   "metadata": {},
   "source": [
    "### Hydra"
   ]
  },
  {
   "cell_type": "code",
   "execution_count": 5,
   "id": "835f339d-01c8-41f9-be27-ecbd2ca672f8",
   "metadata": {
    "execution": {
     "iopub.execute_input": "2024-07-08T20:17:05.331911Z",
     "iopub.status.busy": "2024-07-08T20:17:05.331442Z",
     "iopub.status.idle": "2024-07-08T20:17:05.380109Z",
     "shell.execute_reply": "2024-07-08T20:17:05.379411Z",
     "shell.execute_reply.started": "2024-07-08T20:17:05.331869Z"
    }
   },
   "outputs": [],
   "source": [
    "# hydra.core.global_hydra.GlobalHydra.instance().clear()\n",
    "\n",
    "# abs_config_dir=os.path.abspath(\"hyperparameters\")\n",
    "# abs_config_dir\n",
    "# # GlobalHydra.instance().clear() \n",
    "# initialize_config_dir(version_base=None, config_dir=abs_config_dir)\n",
    "# # initialize(version_base=None, config_path=\"hyperparameters\")\n",
    "\n",
    "# cfg=compose(config_name=\"AE_Base.yaml\")\n",
    "# type(cfg)\n",
    "# print(cfg)\n",
    "# cfgyaml = OmegaConf.to_yaml(cfg)\n",
    "# type(cfgyaml)\n",
    "# print(cfgyaml)"
   ]
  },
  {
   "cell_type": "markdown",
   "id": "44ea8eff-3a7f-41f0-abd3-2ac4d6c33cd9",
   "metadata": {},
   "source": [
    "### main(args)"
   ]
  },
  {
   "cell_type": "code",
   "execution_count": 6,
   "id": "cb592ef6-ef85-4773-a042-69bd43ff89b7",
   "metadata": {
    "execution": {
     "iopub.execute_input": "2024-07-08T20:17:27.205103Z",
     "iopub.status.busy": "2024-07-08T20:17:27.204356Z",
     "iopub.status.idle": "2024-07-08T20:17:27.272681Z",
     "shell.execute_reply": "2024-07-08T20:17:27.271945Z",
     "shell.execute_reply.started": "2024-07-08T20:17:27.205035Z"
    }
   },
   "outputs": [
    {
     "data": {
      "text/plain": [
       "'AE_snnl_dcpb200_150Ltnt_512_yymmdd-hhmm_LAST_ep_200.pt'"
      ]
     },
     "execution_count": 6,
     "metadata": {},
     "output_type": "execute_result"
    }
   ],
   "source": [
    "WANDB_ACTIVE  = False\n",
    "LATENT_DIM    = 150\n",
    "HIDDEN_1      = 512\n",
    "# HIDDEN_2    = '_256'\n",
    "HIDDEN_2      = ''\n",
    "DATE          = 'yymmdd-hhmm'\n",
    "LOAD_EPOCH    = 200\n",
    "EPOCHS        = 10\n",
    "COMPOUNDS_PER_BATCH = 200\n",
    "LEARNING_RATE = 1.00e-04\n",
    "TEMP          = 0.05\n",
    "TEMP_LR       = 1.00e-05\n",
    "CHECKPT       = f\"AE_snnl_dcpb{COMPOUNDS_PER_BATCH}_{LATENT_DIM}Ltnt_{HIDDEN_1}{HIDDEN_2}_{DATE}_LAST_ep_{LOAD_EPOCH:03d}.pt\"\n",
    "CHECKPT"
   ]
  },
  {
   "cell_type": "code",
   "execution_count": 8,
   "id": "c80ed726-59ba-4038-9d28-f12a4f97d194",
   "metadata": {
    "execution": {
     "iopub.execute_input": "2024-07-08T20:18:29.124341Z",
     "iopub.status.busy": "2024-07-08T20:18:29.123698Z",
     "iopub.status.idle": "2024-07-08T20:18:29.195959Z",
     "shell.execute_reply": "2024-07-08T20:18:29.195312Z",
     "shell.execute_reply.started": "2024-07-08T20:18:29.124286Z"
    }
   },
   "outputs": [
    {
     "data": {
      "text/plain": [
       "Namespace(configuration='./hyperparameters/ae_sn_150_512_cpb.yaml', ckpt='AE_snnl_dcpb200_150Ltnt_512_20240708_0539_LAST_ep_400.pt', cpb=200, exp_title=None, epochs=10, gpu_id=0, learning_rate=0.0001, exp_id='z742d8ok', runmode='snnl', random_seed=4321, use_prim_optimizer=True, use_temp_optimizer=False, use_annealing=True, use_single_loss=False, temperature=0.05, temperatureLR=1e-05, wandb=True)"
      ]
     },
     "execution_count": 8,
     "metadata": {},
     "output_type": "execute_result"
    },
    {
     "name": "stderr",
     "output_type": "stream",
     "text": [
      "2024-07-08 22:18:29,178 - snnl.utils.utils - INFO: -  command line param configuration             : [./hyperparameters/ae_sn_150_512_cpb.yaml]\n",
      "2024-07-08 22:18:29,179 - snnl.utils.utils - INFO: -  command line param ckpt                      : [AE_snnl_dcpb200_150Ltnt_512_20240708_0539_LAST_ep_400.pt]\n",
      "2024-07-08 22:18:29,180 - snnl.utils.utils - INFO: -  command line param cpb                       : [200]\n",
      "2024-07-08 22:18:29,181 - snnl.utils.utils - INFO: -  command line param exp_title                 : [None]\n",
      "2024-07-08 22:18:29,181 - snnl.utils.utils - INFO: -  command line param epochs                    : [10]\n",
      "2024-07-08 22:18:29,182 - snnl.utils.utils - INFO: -  command line param gpu_id                    : [0]\n",
      "2024-07-08 22:18:29,183 - snnl.utils.utils - INFO: -  command line param learning_rate             : [0.0001]\n",
      "2024-07-08 22:18:29,183 - snnl.utils.utils - INFO: -  command line param exp_id                    : [z742d8ok]\n",
      "2024-07-08 22:18:29,184 - snnl.utils.utils - INFO: -  command line param runmode                   : [snnl]\n",
      "2024-07-08 22:18:29,184 - snnl.utils.utils - INFO: -  command line param random_seed               : [4321]\n",
      "2024-07-08 22:18:29,185 - snnl.utils.utils - INFO: -  command line param use_prim_optimizer        : [True]\n",
      "2024-07-08 22:18:29,185 - snnl.utils.utils - INFO: -  command line param use_temp_optimizer        : [False]\n",
      "2024-07-08 22:18:29,186 - snnl.utils.utils - INFO: -  command line param use_annealing             : [True]\n",
      "2024-07-08 22:18:29,187 - snnl.utils.utils - INFO: -  command line param use_single_loss           : [False]\n",
      "2024-07-08 22:18:29,187 - snnl.utils.utils - INFO: -  command line param temperature               : [0.05]\n",
      "2024-07-08 22:18:29,188 - snnl.utils.utils - INFO: -  command line param temperatureLR             : [1e-05]\n",
      "2024-07-08 22:18:29,188 - snnl.utils.utils - INFO: -  command line param wandb                     : [True]\n",
      "2024-07-08 22:18:29,189 - snnl.utils.utils - INFO: -  command line param exp_title                 : [dcpb200_150Ltnt_512]\n"
     ]
    },
    {
     "data": {
      "text/plain": [
       "'AE_snnl_dcpb200_150Ltnt_512_20240708_0539_LAST_ep_400.pt'"
      ]
     },
     "execution_count": 8,
     "metadata": {},
     "output_type": "execute_result"
    }
   ],
   "source": [
    "# if __name__ == \"__main__\":\n",
    "cli_args =   f\" --runmode            snnl \" \\\n",
    "             f\" --configuration      ./hyperparameters/ae_sn_150_512_cpb.yaml\" \\\n",
    "             f\" --epochs             {EPOCHS} \" \\\n",
    "             f\" --prim_opt           \"\\\n",
    "             f\" --lr                 {LEARNING_RATE} \"\\\n",
    "             f\" --temp_lr            {TEMP_LR}\"\\\n",
    "             f\" --temp               {TEMP} \"\\\n",
    "             f\" --temp_annealing     \"\\\n",
    "             f\" --cpb                {COMPOUNDS_PER_BATCH}\" \\\n",
    "\t         f\" --seed               4321\"\\\n",
    "             f\" --wandb              \"\\\n",
    "             f\" --gpu_id             0  \"  \\\n",
    "             f\" --run_id             z742d8ok \" \\\n",
    "             f\" --ckpt               AE_snnl_dcpb200_150Ltnt_512_20240708_0539_LAST_ep_400.pt \" \\\n",
    "             f\" \"\n",
    "             # f\" --temp_opt \" \\\n",
    "             # f\" --ckpt               AE_snnl_dcpb200_{LATENT_DIM}Ltnt_{HIDDEN_1}{HIDDEN_2}_{DATE}_LAST_ep_{LOAD_EPOCH:03d}.pt \" \\\n",
    "             # f\" --ckpt               AE_baseline_{DATE}_snglOpt-{LATENT_DIM}Ltnt{HIDDEN_1}{HIDDEN_2}_ep_{LOAD_EPOCH}.pt \" \\\n",
    "             # f\" --configuration      hyperparameters/ae_sn_{LATENT_DIM:03d}{HIDDEN_1}{HIDDEN_2}_cpb.yaml\" \\\n",
    "             # f\" --exp_title           snglOpt-050Ltnt_512_sig \"\n",
    "             # f\" --runmode            snnl\" \\\n",
    "cli_args = parse_args(cli_args.split())\n",
    "cli_args\n",
    "\n",
    "args = load_configuration(cli_args)\n",
    "args.ckpt\n"
   ]
  },
  {
   "cell_type": "code",
   "execution_count": 8,
   "id": "973eda2d-5816-4b88-84f8-881c86ac2353",
   "metadata": {
    "execution": {
     "iopub.execute_input": "2024-07-07T15:28:03.543876Z",
     "iopub.status.busy": "2024-07-07T15:28:03.543521Z",
     "iopub.status.idle": "2024-07-07T15:28:03.580026Z",
     "shell.execute_reply": "2024-07-07T15:28:03.579372Z",
     "shell.execute_reply.started": "2024-07-07T15:28:03.543845Z"
    },
    "scrolled": true
   },
   "outputs": [
    {
     "data": {
      "text/plain": [
       "namespace(project_name='CellPainting_Profiles',\n",
       "          exp_id=None,\n",
       "          exp_name_pfx=None,\n",
       "          exp_name=None,\n",
       "          exp_date=None,\n",
       "          exp_title='dcpb200_150Ltnt_512',\n",
       "          exp_description='AE snnl - DualOpt, 150 dim latent, 512 Midlayer, 200 cpb',\n",
       "          exp_folder=None,\n",
       "          folder_sfx=None,\n",
       "          random_seed=4321,\n",
       "          units=[['linear', 1471, 1024],\n",
       "                 ['relu', 0, 0],\n",
       "                 ['linear', 1024, 512],\n",
       "                 ['relu', 0, 0],\n",
       "                 ['linear', 512, 150],\n",
       "                 ['linear', 150, 512],\n",
       "                 ['relu', 0, 0],\n",
       "                 ['linear', 512, 1024],\n",
       "                 ['relu', 0, 0],\n",
       "                 ['linear', 1024, 1471]],\n",
       "          input_shape=1471,\n",
       "          code_units=150,\n",
       "          embedding_layer=4,\n",
       "          show_every=1,\n",
       "          save_every=25,\n",
       "          learning_rate=0.0001,\n",
       "          loss_factor=1.0,\n",
       "          adam_weight_decay=0,\n",
       "          snnl_factor=0.5,\n",
       "          temperature=0.05,\n",
       "          use_temp_optimizer=False,\n",
       "          use_temp_scheduler=False,\n",
       "          temperatureLR=1e-05,\n",
       "          SGD_weight_decay=0,\n",
       "          dataset='cellpainting',\n",
       "          cellpainting_args={'sample_size': 3,\n",
       "                             'batch_size': 1,\n",
       "                             'compounds_per_batch': 200,\n",
       "                             'training_path': '/home/kevin/WSL-shared/Cellpainting/cj-datasets/output_11102023/3_sample_profiles/3sample_profiles_1482_HashOrder.csv',\n",
       "                             'validation_path': '/home/kevin/WSL-shared/Cellpainting/cj-datasets/output_11102023/3_sample_profiles/3sample_profiles_1482_HashOrder_test.csv',\n",
       "                             'test_path': '/home/kevin/WSL-shared/Cellpainting/cj-datasets/output_11102023/3_sample_profiles/3sample_profiles_1482_HashOrder_test.csv',\n",
       "                             'train_start': 0,\n",
       "                             'train_end': 240000,\n",
       "                             'val_start': 0,\n",
       "                             'val_end': 24000,\n",
       "                             'test_start': 30000,\n",
       "                             'test_end': 33600,\n",
       "                             'chunksize': None,\n",
       "                             'conversions': None,\n",
       "                             'iterator': True},\n",
       "          paths={'log_dir': './logs',\n",
       "                 'result_dir': './results',\n",
       "                 'checkpoint_dir': './ckpt'},\n",
       "          configuration='./hyperparameters/ae_sn_150_512_cpb.yaml',\n",
       "          cpb=200,\n",
       "          epochs=10,\n",
       "          gpu_id=0,\n",
       "          runmode='snnl',\n",
       "          use_prim_optimizer=True,\n",
       "          use_annealing=True,\n",
       "          use_single_loss=False,\n",
       "          wandb=True,\n",
       "          ckpt=None,\n",
       "          batch_size=1,\n",
       "          use_prim_scheduler=True,\n",
       "          use_sum=False,\n",
       "          SGD_momentum=0)"
      ]
     },
     "execution_count": 8,
     "metadata": {},
     "output_type": "execute_result"
    }
   ],
   "source": [
    "args"
   ]
  },
  {
   "cell_type": "code",
   "execution_count": 9,
   "id": "94193666-319a-4bfa-8182-1aba148812c1",
   "metadata": {
    "execution": {
     "iopub.execute_input": "2024-07-08T20:18:38.892222Z",
     "iopub.status.busy": "2024-07-08T20:18:38.891711Z",
     "iopub.status.idle": "2024-07-08T20:18:39.691216Z",
     "shell.execute_reply": "2024-07-08T20:18:39.690479Z",
     "shell.execute_reply.started": "2024-07-08T20:18:38.892184Z"
    }
   },
   "outputs": [
    {
     "name": "stderr",
     "output_type": "stream",
     "text": [
      "2024-07-08 22:18:38,943 - __main__ - INFO: -  Checkpoint AE_snnl_dcpb200_150Ltnt_512_20240708_0539_LAST_ep_400.pt found\n",
      "2024-07-08 22:18:38,944 - __main__ - INFO: -  Resuming training using checkpoint: AE_snnl_dcpb200_150Ltnt_512_20240708_0539_LAST_ep_400.pt\n",
      "2024-07-08 22:18:39,682 - snnl.utils.utils - INFO: -  Current CUDA Device is:  cuda:0 - Quadro GV100\n",
      "2024-07-08 22:18:39,684 - snnl.utils.utils - INFO: -  Switched to: Quadro GV100 - 0\n",
      "2024-07-08 22:18:39,685 - snnl.utils.utils - INFO: -  Current CUDA Device is:  cuda:0 - Quadro GV100\n"
     ]
    }
   ],
   "source": [
    "set_global_seed(args.random_seed)\n",
    "if args.ckpt is not None:\n",
    "    if os.path.exists(os.path.join('ckpts', args.ckpt)):\n",
    "        logger.info(f\" Checkpoint {args.ckpt} found\")\n",
    "        logger.info(f\" Resuming training using checkpoint: {args.ckpt}\")\n",
    "    else:\n",
    "        logger.error(f\" *** Checkpoint {args.ckpt} not found *** \\n\")\n",
    "        raise ValueError(f\"\\n *** Checkpoint DOESNT EXIST *** \\n\")\n",
    "\n",
    "if args.gpu_id is not None:\n",
    "    _ = get_device()\n",
    "    # print(f\"Current device is : {current_device}\")    \n",
    "    current_device = set_device(args.gpu_id)\n",
    "    current_device = get_device()\n"
   ]
  },
  {
   "cell_type": "markdown",
   "id": "7e2871b9-ea54-4869-9fa3-5ade2e1416cd",
   "metadata": {},
   "source": [
    "#### Define dataset and dataloaders"
   ]
  },
  {
   "cell_type": "code",
   "execution_count": 10,
   "id": "b37affb2-a82e-49d5-9e58-88e3c98f8fa3",
   "metadata": {
    "execution": {
     "iopub.execute_input": "2024-07-08T20:18:44.475078Z",
     "iopub.status.busy": "2024-07-08T20:18:44.474342Z",
     "iopub.status.idle": "2024-07-08T20:18:44.542706Z",
     "shell.execute_reply": "2024-07-08T20:18:44.542058Z",
     "shell.execute_reply.started": "2024-07-08T20:18:44.475035Z"
    }
   },
   "outputs": [
    {
     "name": "stderr",
     "output_type": "stream",
     "text": [
      "2024-07-08 22:18:44,523 - root - INFO: -  load cellpainting\n",
      "2024-07-08 22:18:44,524 - snnl.utils.dataloader - INFO: -  Building CellPantingDataset for train\n",
      "2024-07-08 22:18:44,525 - snnl.utils.dataloader - INFO: -  filename:  /home/kevin/WSL-shared/Cellpainting/cj-datasets/output_11102023/3_sample_profiles/3sample_profiles_1482_HashOrder.csv\n",
      "2024-07-08 22:18:44,526 - snnl.utils.dataloader - INFO: -  type    :  train\n",
      "2024-07-08 22:18:44,526 - snnl.utils.dataloader - INFO: -  start   :  0\n",
      "2024-07-08 22:18:44,527 - snnl.utils.dataloader - INFO: -  end     :  240000\n",
      "2024-07-08 22:18:44,527 - snnl.utils.dataloader - INFO: -  numrows :  240000\n",
      "2024-07-08 22:18:44,528 - snnl.utils.dataloader - INFO: -  Each mini-batch contains 200.0 compounds with 3 samples per compound : total 600 rows\n",
      "2024-07-08 22:18:44,529 - snnl.utils.dataloader - INFO: -  Number of 600 row full size batches per epoch: 400\n",
      "2024-07-08 22:18:44,529 - snnl.utils.dataloader - INFO: -  Rows covered by 400 full size batches (600 rows) per epoch:  240000\n",
      "2024-07-08 22:18:44,530 - snnl.utils.dataloader - INFO: -  Last partial batch contains : 0 rows\n",
      "2024-07-08 22:18:44,530 - snnl.utils.dataloader - INFO: -  \n",
      "2024-07-08 22:18:44,531 - snnl.utils.dataloader - INFO: -  Building CellPantingDataset for val\n",
      "2024-07-08 22:18:44,532 - snnl.utils.dataloader - INFO: -  filename:  /home/kevin/WSL-shared/Cellpainting/cj-datasets/output_11102023/3_sample_profiles/3sample_profiles_1482_HashOrder_test.csv\n",
      "2024-07-08 22:18:44,532 - snnl.utils.dataloader - INFO: -  type    :  val\n",
      "2024-07-08 22:18:44,533 - snnl.utils.dataloader - INFO: -  start   :  0\n",
      "2024-07-08 22:18:44,534 - snnl.utils.dataloader - INFO: -  end     :  24000\n",
      "2024-07-08 22:18:44,534 - snnl.utils.dataloader - INFO: -  numrows :  24000\n",
      "2024-07-08 22:18:44,535 - snnl.utils.dataloader - INFO: -  Each mini-batch contains 200.0 compounds with 3 samples per compound : total 600 rows\n",
      "2024-07-08 22:18:44,535 - snnl.utils.dataloader - INFO: -  Number of 600 row full size batches per epoch: 40\n",
      "2024-07-08 22:18:44,536 - snnl.utils.dataloader - INFO: -  Rows covered by 40 full size batches (600 rows) per epoch:  24000\n",
      "2024-07-08 22:18:44,536 - snnl.utils.dataloader - INFO: -  Last partial batch contains : 0 rows\n",
      "2024-07-08 22:18:44,537 - snnl.utils.dataloader - INFO: -  \n"
     ]
    }
   ],
   "source": [
    "#### Load CellPainting Dataset\n",
    "logging.info(f\" load {args.dataset}\")\n",
    "train_dataset = CellpaintingDataset(type='train',    **args.cellpainting_args)\n",
    "train_loader = InfiniteDataLoader(dataset=train_dataset, batch_size = args.batch_size, shuffle = False, num_workers = 0, collate_fn = custom_collate_fn)\n",
    "val_dataset = CellpaintingDataset(type='val',    **args.cellpainting_args)\n",
    "val_loader = InfiniteDataLoader(dataset=val_dataset, batch_size = args.batch_size, shuffle = False, num_workers = 0, collate_fn = custom_collate_fn)"
   ]
  },
  {
   "cell_type": "markdown",
   "id": "47e2418f-1b68-43b8-b530-9ffb72141121",
   "metadata": {},
   "source": [
    "#### WandB Setup"
   ]
  },
  {
   "cell_type": "code",
   "execution_count": 12,
   "id": "5dd597f5-f212-4261-b8a9-cd9cf558cb68",
   "metadata": {
    "execution": {
     "iopub.execute_input": "2024-07-08T20:19:09.569445Z",
     "iopub.status.busy": "2024-07-08T20:19:09.569083Z",
     "iopub.status.idle": "2024-07-08T20:19:09.620754Z",
     "shell.execute_reply": "2024-07-08T20:19:09.619789Z",
     "shell.execute_reply.started": "2024-07-08T20:19:09.569424Z"
    }
   },
   "outputs": [
    {
     "name": "stderr",
     "output_type": "stream",
     "text": [
      "2024-07-08 22:19:09,609 - __main__ - INFO: -  args.wandb       : True\n",
      "2024-07-08 22:19:09,610 - __main__ - INFO: -  Project Name     : CellPainting_Profiles\n",
      "2024-07-08 22:19:09,611 - __main__ - INFO: -  Experiment Id    : z742d8ok\n",
      "2024-07-08 22:19:09,613 - __main__ - INFO: -  Experiment Name  : AE_240708_2218\n",
      "2024-07-08 22:19:09,614 - __main__ - INFO: -  Experiment Date  : 240708_2218\n",
      "2024-07-08 22:19:09,615 - __main__ - INFO: -  Experiment Title : dcpb200_150Ltnt_512\n",
      "2024-07-08 22:19:09,616 - __main__ - INFO: -  Experiment Notes : AE snnl - DualOpt, 150 dim latent, 512 Midlayer, 200 cpb\n"
     ]
    }
   ],
   "source": [
    "# args.exp_id   = None\n",
    "# args.exp_name = 'AE_'+datetime.now().strftime('%m%d_%H%M')\n",
    "# args.exp_date = datetime.now().strftime('%Y%m%d')\n",
    "\n",
    "## --- for restarts\n",
    "# args.exp_id   = None \n",
    "# args.exp_name = 'AE_0516_1104'\n",
    "# args.exp_date = '20240516'\n",
    "##-----------------\n",
    "logger.info(f\" args.wandb       : {args.wandb}\")\n",
    "logger.info(f\" Project Name     : {args.project_name}\")\n",
    "logger.info(f\" Experiment Id    : {args.exp_id}\")\n",
    "logger.info(f\" Experiment Name  : {args.exp_name}\")\n",
    "logger.info(f\" Experiment Date  : {args.exp_date}\")\n",
    "logger.info(f\" Experiment Title : {args.exp_title}\")\n",
    "logger.info(f\" Experiment Notes : {args.exp_description}\")"
   ]
  },
  {
   "cell_type": "code",
   "execution_count": 13,
   "id": "1c2cd59a-dec4-4d6c-b911-d70dc4d4e09e",
   "metadata": {
    "execution": {
     "iopub.execute_input": "2024-07-08T20:19:11.730297Z",
     "iopub.status.busy": "2024-07-08T20:19:11.729827Z",
     "iopub.status.idle": "2024-07-08T20:19:14.702045Z",
     "shell.execute_reply": "2024-07-08T20:19:14.701330Z",
     "shell.execute_reply.started": "2024-07-08T20:19:11.730267Z"
    }
   },
   "outputs": [
    {
     "name": "stderr",
     "output_type": "stream",
     "text": [
      "2024-07-08 22:19:11,780 - __main__ - INFO: -  Experiment Name  : AE_240708_2219\n",
      "2024-07-08 22:19:11,782 - __main__ - INFO: -  Experiment Date  : 240708_2219\n"
     ]
    },
    {
     "name": "stdout",
     "output_type": "stream",
     "text": [
      "Resume\n"
     ]
    },
    {
     "name": "stderr",
     "output_type": "stream",
     "text": [
      "\u001b[34m\u001b[1mwandb\u001b[0m: Currently logged in as: \u001b[33mkbardool\u001b[0m. Use \u001b[1m`wandb login --relogin`\u001b[0m to force relogin\n"
     ]
    },
    {
     "data": {
      "text/html": [
       "wandb version 0.17.4 is available!  To upgrade, please run:\n",
       " $ pip install wandb --upgrade"
      ],
      "text/plain": [
       "<IPython.core.display.HTML object>"
      ]
     },
     "metadata": {},
     "output_type": "display_data"
    },
    {
     "data": {
      "text/html": [
       "Tracking run with wandb version 0.17.2"
      ],
      "text/plain": [
       "<IPython.core.display.HTML object>"
      ]
     },
     "metadata": {},
     "output_type": "display_data"
    },
    {
     "data": {
      "text/html": [
       "Run data is saved locally in <code>/home/kevin/WSL-shared/Cellpainting/pt-snnl/wandb/run-20240708_221912-z742d8ok</code>"
      ],
      "text/plain": [
       "<IPython.core.display.HTML object>"
      ]
     },
     "metadata": {},
     "output_type": "display_data"
    },
    {
     "data": {
      "text/html": [
       "Resuming run <strong><a href='https://wandb.ai/kbardool/CellPainting_Profiles/runs/z742d8ok' target=\"_blank\">AE_20240708_0539</a></strong> to <a href='https://wandb.ai/kbardool/CellPainting_Profiles' target=\"_blank\">Weights & Biases</a> (<a href='https://wandb.me/run' target=\"_blank\">docs</a>)<br/>"
      ],
      "text/plain": [
       "<IPython.core.display.HTML object>"
      ]
     },
     "metadata": {},
     "output_type": "display_data"
    },
    {
     "data": {
      "text/html": [
       " View project at <a href='https://wandb.ai/kbardool/CellPainting_Profiles' target=\"_blank\">https://wandb.ai/kbardool/CellPainting_Profiles</a>"
      ],
      "text/plain": [
       "<IPython.core.display.HTML object>"
      ]
     },
     "metadata": {},
     "output_type": "display_data"
    },
    {
     "data": {
      "text/html": [
       " View run at <a href='https://wandb.ai/kbardool/CellPainting_Profiles/runs/z742d8ok' target=\"_blank\">https://wandb.ai/kbardool/CellPainting_Profiles/runs/z742d8ok</a>"
      ],
      "text/plain": [
       "<IPython.core.display.HTML object>"
      ]
     },
     "metadata": {},
     "output_type": "display_data"
    },
    {
     "name": "stderr",
     "output_type": "stream",
     "text": [
      "2024-07-08 22:19:14,690 - __main__ - INFO: -   ***** W&&B Tracking Started ***** \n",
      "2024-07-08 22:19:14,692 - __main__ - INFO: -  Project Name     : CellPainting_Profiles\n",
      "2024-07-08 22:19:14,693 - __main__ - INFO: -  Experiment Id    : z742d8ok\n",
      "2024-07-08 22:19:14,694 - __main__ - INFO: -  Experiment Name  : AE_20240708_0539\n",
      "2024-07-08 22:19:14,695 - __main__ - INFO: -  Experiment Date  : 240708_2219\n",
      "2024-07-08 22:19:14,696 - __main__ - INFO: -  Experiment Title : dcpb200_150Ltnt_512\n",
      "2024-07-08 22:19:14,697 - __main__ - INFO: -  Experiment Notes : AE snnl - DualOpt, 150 dim latent, 512 Midlayer, 200 cpb\n"
     ]
    }
   ],
   "source": [
    "WANDB_ACTIVE = args.wandb\n",
    "\n",
    "EXP_DATE = datetime.now().strftime('%y%m%d_%H%M')\n",
    "args.exp_name = f\"AE_{EXP_DATE}\"\n",
    "args.exp_date = EXP_DATE\n",
    "logger.info(f\" Experiment Name  : {args.exp_name}\")\n",
    "logger.info(f\" Experiment Date  : {args.exp_date}\")\n",
    "\n",
    "if WANDB_ACTIVE:\n",
    "    if args.exp_id is not None:\n",
    "        print(\" *******  Resume W&B Tracking ******* \")\n",
    "        resume_wandb = True\n",
    "    else:\n",
    "        print(\" *****  Initialize W&B Tracking ***** \")\n",
    "        resume_wandb = False\n",
    "        args.exp_name = f\"AE_{EXP_DATE}\"\n",
    "        \n",
    "    wandb_run = init_wandb(args)\n",
    "    args.exp_id = wandb_run.id\n",
    "    wandb_status = \" ***** W&B Tracking Started ***** \"\n",
    "else: \n",
    "    wandb_status = \" ***** W&B Logging INACTIVE ***** \"\n",
    "    args.exp_name = 'AE_'+datetime.now().strftime('%y%m%d_%H%M')\n",
    "    args.exp_date = datetime.now().strftime('%y%m%d_%H%M')    \n",
    "\n",
    "\n",
    "logger.info(f\" {wandb_status}\")\n",
    "logger.info(f\" Project Name     : {args.project_name}\")\n",
    "logger.info(f\" Experiment Id    : {args.exp_id}\")\n",
    "logger.info(f\" Experiment Name  : {args.exp_name}\")\n",
    "logger.info(f\" Experiment Date  : {args.exp_date}\")\n",
    "logger.info(f\" Experiment Title : {args.exp_title}\")\n",
    "logger.info(f\" Experiment Notes : {args.exp_description}\")"
   ]
  },
  {
   "cell_type": "markdown",
   "id": "19b32e21-67d2-45af-a45f-841b6dca43ff",
   "metadata": {},
   "source": [
    "# Define autoencoder model"
   ]
  },
  {
   "cell_type": "markdown",
   "id": "cf383487-ecbf-49da-bb01-5a5f22932278",
   "metadata": {},
   "source": [
    "### Override arguments"
   ]
  },
  {
   "cell_type": "code",
   "execution_count": 13,
   "id": "2fdc1998-5141-40c0-82d8-b505d4f19ecd",
   "metadata": {
    "execution": {
     "iopub.execute_input": "2024-07-07T15:28:14.344899Z",
     "iopub.status.busy": "2024-07-07T15:28:14.344428Z",
     "iopub.status.idle": "2024-07-07T15:28:14.389474Z",
     "shell.execute_reply": "2024-07-07T15:28:14.388776Z",
     "shell.execute_reply.started": "2024-07-07T15:28:14.344858Z"
    }
   },
   "outputs": [],
   "source": [
    "# args.temperature   = 0.8\n",
    "# args.loss_factor   = 2.0        ## 2.0e+00\n",
    "# args.snnl_factor   = 0.5       ## 1.0e+00\n",
    "# args.learning_rate = 1.0e-03    ## 0.001\n",
    "# args.temperatureLR = 1.0e-04    ## 1e-4\n",
    "# print(f\"   Latent dim        {args.code_units}  \\t\\t  loss_factor       {args.loss_factor}  \\t\\t   snnl_factor       {args.snnl_factor}\")\n",
    "# print(f\"   temperature       {args.temperature} \\t\\t  learning_rate     {args.learning_rate} \\t\\t   temperatureLR:    {args.temperatureLR}\")"
   ]
  },
  {
   "cell_type": "code",
   "execution_count": 14,
   "id": "acb11365-5fa8-4a94-ba70-bfe9bc16df18",
   "metadata": {
    "execution": {
     "iopub.execute_input": "2024-07-07T15:28:15.008466Z",
     "iopub.status.busy": "2024-07-07T15:28:15.008033Z",
     "iopub.status.idle": "2024-07-07T15:28:15.052009Z",
     "shell.execute_reply": "2024-07-07T15:28:15.051407Z",
     "shell.execute_reply.started": "2024-07-07T15:28:15.008427Z"
    },
    "scrolled": true
   },
   "outputs": [],
   "source": [
    "# list_namespace(args)"
   ]
  },
  {
   "cell_type": "markdown",
   "id": "69b97558-4c5d-4a2d-9d1f-78d8923b1eb7",
   "metadata": {},
   "source": [
    "## Define Model"
   ]
  },
  {
   "cell_type": "code",
   "execution_count": 14,
   "id": "d7d429c0-2275-4f1a-ac88-169d8ddcf37a",
   "metadata": {
    "execution": {
     "iopub.execute_input": "2024-07-08T20:19:19.332382Z",
     "iopub.status.busy": "2024-07-08T20:19:19.331777Z",
     "iopub.status.idle": "2024-07-08T20:19:19.543628Z",
     "shell.execute_reply": "2024-07-08T20:19:19.542761Z",
     "shell.execute_reply.started": "2024-07-08T20:19:19.332351Z"
    }
   },
   "outputs": [
    {
     "name": "stderr",
     "output_type": "stream",
     "text": [
      "2024-07-08 22:19:19,396 - snnl.utils.utils - INFO: - Defining model in SNNL mode \n",
      "2024-07-08 22:19:19,398 - snnl.models.autoencoder - INFO: -     layer pair:    0  type:linear           input:   1471  output:   1024    weights: [1024, 1471]   \n",
      "2024-07-08 22:19:19,434 - snnl.models.autoencoder - INFO: -     layer pair:    1  type:relu             input:      0  output:      0    weights: [0, 0]   \n",
      "2024-07-08 22:19:19,435 - snnl.models.autoencoder - INFO: -     layer pair:    2  type:linear           input:   1024  output:    512    weights: [512, 1024]   \n",
      "2024-07-08 22:19:19,442 - snnl.models.autoencoder - INFO: -     layer pair:    3  type:relu             input:      0  output:      0    weights: [0, 0]   \n",
      "2024-07-08 22:19:19,443 - snnl.models.autoencoder - INFO: -     layer pair:    4  type:linear           input:    512  output:    150    weights: [150, 512]   \n",
      "2024-07-08 22:19:19,445 - snnl.models.autoencoder - INFO: -     layer pair:    5  type:linear           input:    150  output:    512    weights: [512, 150]   \n",
      "2024-07-08 22:19:19,447 - snnl.models.autoencoder - INFO: -     layer pair:    6  type:relu             input:      0  output:      0    weights: [0, 0]   \n",
      "2024-07-08 22:19:19,448 - snnl.models.autoencoder - INFO: -     layer pair:    7  type:linear           input:    512  output:   1024    weights: [1024, 512]   \n",
      "2024-07-08 22:19:19,454 - snnl.models.autoencoder - INFO: -     layer pair:    8  type:relu             input:      0  output:      0    weights: [0, 0]   \n",
      "2024-07-08 22:19:19,455 - snnl.models.autoencoder - INFO: -     layer pair:    9  type:linear           input:   1024  output:   1471    weights: [1471, 1024]   \n"
     ]
    },
    {
     "name": "stdout",
     "output_type": "stream",
     "text": [
      " EMBEDDING LAYER: 4\n"
     ]
    }
   ],
   "source": [
    "model = define_autoencoder_model(args,device = current_device)\n",
    "\n",
    "if WANDB_ACTIVE:\n",
    "    wandb_watch(item = model, criterion=None, log = 'all', log_freq = 1000, log_graph = False)"
   ]
  },
  {
   "cell_type": "markdown",
   "id": "789809c5-6d84-497a-b345-9f144f37c4b6",
   "metadata": {},
   "source": [
    "### Load model checkpoint "
   ]
  },
  {
   "cell_type": "code",
   "execution_count": 15,
   "id": "60584bca-6c0a-4770-8e78-7f1b5ef10e0a",
   "metadata": {
    "execution": {
     "iopub.execute_input": "2024-07-08T20:19:22.304669Z",
     "iopub.status.busy": "2024-07-08T20:19:22.304171Z",
     "iopub.status.idle": "2024-07-08T20:19:22.791622Z",
     "shell.execute_reply": "2024-07-08T20:19:22.790623Z",
     "shell.execute_reply.started": "2024-07-08T20:19:22.304627Z"
    }
   },
   "outputs": [
    {
     "name": "stderr",
     "output_type": "stream",
     "text": [
      "2024-07-08 22:19:22,353 - root - INFO: -  Load model checkpoint from  AE_snnl_dcpb200_150Ltnt_512_20240708_0539_LAST_ep_400.pt\n"
     ]
    },
    {
     "name": "stdout",
     "output_type": "stream",
     "text": [
      "Other Exception\n",
      "(<class 'RuntimeError'>, RuntimeError('PytorchStreamReader failed locating file data.pkl: file not found'), <traceback object at 0x7f1b5482a240>)\n"
     ]
    },
    {
     "ename": "UnboundLocalError",
     "evalue": "cannot access local variable 'checkpoint' where it is not associated with a value",
     "output_type": "error",
     "traceback": [
      "\u001b[0;31m---------------------------------------------------------------------------\u001b[0m",
      "\u001b[0;31mUnboundLocalError\u001b[0m                         Traceback (most recent call last)",
      "Cell \u001b[0;32mIn[15], line 3\u001b[0m\n\u001b[1;32m      1\u001b[0m \u001b[38;5;28;01mif\u001b[39;00m args\u001b[38;5;241m.\u001b[39mckpt \u001b[38;5;129;01mis\u001b[39;00m \u001b[38;5;129;01mnot\u001b[39;00m \u001b[38;5;28;01mNone\u001b[39;00m:\n\u001b[1;32m      2\u001b[0m     model\u001b[38;5;241m.\u001b[39mresume_training \u001b[38;5;241m=\u001b[39m \u001b[38;5;28;01mTrue\u001b[39;00m\n\u001b[0;32m----> 3\u001b[0m     model , last_epoch \u001b[38;5;241m=\u001b[39m \u001b[43mload_checkpoint_v4\u001b[49m\u001b[43m(\u001b[49m\u001b[43mmodel\u001b[49m\u001b[43m,\u001b[49m\u001b[43m \u001b[49m\u001b[43margs\u001b[49m\u001b[38;5;241;43m.\u001b[39;49m\u001b[43mckpt\u001b[49m\u001b[43m,\u001b[49m\u001b[43m \u001b[49m\u001b[43mverbose\u001b[49m\u001b[43m \u001b[49m\u001b[38;5;241;43m=\u001b[39;49m\u001b[43m \u001b[49m\u001b[38;5;28;43;01mTrue\u001b[39;49;00m\u001b[43m \u001b[49m\u001b[43m)\u001b[49m  \n\u001b[1;32m      4\u001b[0m     model\u001b[38;5;241m.\u001b[39mtrain()\n\u001b[1;32m      5\u001b[0m     model\u001b[38;5;241m.\u001b[39mdevice \u001b[38;5;241m=\u001b[39m current_device\n",
      "File \u001b[0;32m~/WSL-shared/Cellpainting/pt-snnl/snnl/utils/utils.py:1342\u001b[0m, in \u001b[0;36mload_checkpoint_v4\u001b[0;34m(model, filename, dryrun, verbose)\u001b[0m\n\u001b[1;32m   1339\u001b[0m     \u001b[38;5;28mprint\u001b[39m(\u001b[38;5;124m\"\u001b[39m\u001b[38;5;124mOther Exception\u001b[39m\u001b[38;5;124m\"\u001b[39m)\n\u001b[1;32m   1340\u001b[0m     \u001b[38;5;28mprint\u001b[39m(sys\u001b[38;5;241m.\u001b[39mexc_info())\n\u001b[0;32m-> 1342\u001b[0m \u001b[38;5;28;01mfor\u001b[39;00m key, value \u001b[38;5;129;01min\u001b[39;00m \u001b[43mcheckpoint\u001b[49m\u001b[38;5;241m.\u001b[39mitems():\n\u001b[1;32m   1343\u001b[0m     logging\u001b[38;5;241m.\u001b[39mdebug(\u001b[38;5;124mf\u001b[39m\u001b[38;5;124m\"\u001b[39m\u001b[38;5;132;01m{\u001b[39;00mkey\u001b[38;5;132;01m:\u001b[39;00m\u001b[38;5;124m40s\u001b[39m\u001b[38;5;132;01m}\u001b[39;00m\u001b[38;5;124m, \u001b[39m\u001b[38;5;132;01m{\u001b[39;00m\u001b[38;5;28mstr\u001b[39m(\u001b[38;5;28mtype\u001b[39m(value))\u001b[38;5;132;01m:\u001b[39;00m\u001b[38;5;124m60s\u001b[39m\u001b[38;5;132;01m}\u001b[39;00m\u001b[38;5;124m  -- model attr set\u001b[39m\u001b[38;5;124m\"\u001b[39m)\n\u001b[1;32m   1345\u001b[0m \u001b[38;5;28;01mif\u001b[39;00m \u001b[38;5;129;01mnot\u001b[39;00m dryrun:\n",
      "\u001b[0;31mUnboundLocalError\u001b[0m: cannot access local variable 'checkpoint' where it is not associated with a value"
     ]
    }
   ],
   "source": [
    "if args.ckpt is not None:\n",
    "    model.resume_training = True\n",
    "    model , last_epoch = load_checkpoint_v4(model, args.ckpt, verbose = True )  \n",
    "    model.train()\n",
    "    model.device = current_device\n",
    "    model = model.cuda(device=current_device)\n",
    "    logging.info(f\" Loaded Model device {model.device} -  Last completed epoch : {last_epoch}\")\n",
    "    model.starting_epoch = last_epoch\n",
    "    model.ending_epoch = last_epoch + args.epochs\n",
    "    logging.info(f\" RESUME TRAINING - Run {args.epochs} epochs: epoch {model.starting_epoch+1} to {model.ending_epoch} \")\n",
    "\n",
    "    if 'gen' not in model.training_history:\n",
    "        print(f\" Define self.training_history['gen'] \")\n",
    "        model.training_history['gen'] = {'trn_best_metric' : 0, 'trn_best_metric_ep' : 0, 'trn_best_loss': np.inf, 'trn_best_loss_ep' : 0 ,\n",
    "                                        'val_best_metric' : 0, 'val_best_metric_ep' : 0, 'val_best_loss': np.inf, 'val_best_loss_ep' : 0 }        \n",
    "    \n",
    "        for key in ['trn', 'val']:\n",
    "            tmp = np.argmin(model.training_history[key][f'{key}_ttl_loss'])\n",
    "            model.training_history['gen'][f'{key}_best_loss_ep'] = tmp\n",
    "            model.training_history['gen'][f'{key}_best_loss']    = model.training_history[key][f'{key}_ttl_loss'][tmp]\n",
    "            \n",
    "            tmp1 = np.argmax(model.training_history[key][f'{key}_R2_score'])\n",
    "            model.training_history['gen'][f'{key}_best_metric_ep'] = tmp1\n",
    "            model.training_history['gen'][f'{key}_best_metric'] = model.training_history[key][f'{key}_R2_score'][tmp1]\n",
    "    \n",
    "else:\n",
    "    model.resume_training = False\n",
    "    model.starting_epoch = 0\n",
    "    model.ending_epoch = args.epochs\n",
    "    logging.info(f\" INITIALIZE TRAINING - Run {args.epochs} epochs: epoch {model.starting_epoch+1} to {model.ending_epoch} \")\n",
    "\n",
    "model.best_metric = model.training_history['gen'][f'val_best_metric']  \n",
    "model.best_epoch  = model.training_history['gen'][f'val_best_metric_ep']  "
   ]
  },
  {
   "cell_type": "code",
   "execution_count": 17,
   "id": "878ad32d-4dc3-44a8-a5b8-483fe86db9e9",
   "metadata": {
    "execution": {
     "iopub.execute_input": "2024-07-07T15:28:24.190653Z",
     "iopub.status.busy": "2024-07-07T15:28:24.190140Z",
     "iopub.status.idle": "2024-07-07T15:28:24.321382Z",
     "shell.execute_reply": "2024-07-07T15:28:24.320622Z",
     "shell.execute_reply.started": "2024-07-07T15:28:24.190611Z"
    }
   },
   "outputs": [
    {
     "name": "stdout",
     "output_type": "stream",
     "text": [
      " Model device           : cuda:0\n",
      " Model embedding_layer  : 4\n",
      " loss_factor            : 1.0\n",
      " monitor_grads_layer    : None\n",
      " Use Single Loss        : False\n",
      " Use Prim Optimizer     : True\n",
      " Use Prim Scheduler     : True\n",
      " Main Optimizer Params  : Adam (\n",
      "Parameter Group 0\n",
      "    amsgrad: False\n",
      "    betas: (0.9, 0.999)\n",
      "    capturable: False\n",
      "    differentiable: False\n",
      "    eps: 1e-08\n",
      "    foreach: None\n",
      "    fused: None\n",
      "    lr: 0.0001\n",
      "    maximize: False\n",
      "    weight_decay: 0\n",
      ")\n",
      " Scheduler              : <torch.optim.lr_scheduler.ReduceLROnPlateau object at 0x7fea5e725850> \n",
      "    factor: 0.5  \n",
      "    min_lrs: [0]  \n",
      "    patience: 50  \n",
      "    verbose: False  \n",
      "    cooldown: 10  \n",
      "    cooldown_counter: 0  \n",
      "    mode: min  \n",
      "    threshold: 1e-06  \n",
      "    threshold_mode: rel  \n",
      "    best: inf  \n",
      "    num_bad_epochs: 0  \n",
      "    mode_worse: inf  \n",
      "    eps: 1e-08  \n",
      "    last_epoch: 0  \n",
      "\n",
      " Use snnl               : True\n",
      " SNNL factor            : 0.5\n",
      " SNNL temperature       : Parameter containing:\n",
      "tensor([1.], device='cuda:0', requires_grad=True)\n",
      " SNNL Temperature       : 1.0\n",
      "\n",
      " Use Temp Optimizer     : False\n",
      " Use Temp Scheduler     : False\n",
      " \n",
      " Best training loss     : inf      - epoch: -1\n",
      " Best training metric   : -inf     - epoch: -1\n",
      " \n",
      " Best validation loss   : inf      - epoch: -1\n",
      " Best validation metric : -inf     - epoch: -1\n",
      " \n",
      " Model best metric      : -inf     - epoch: -1\n"
     ]
    }
   ],
   "source": [
    "display_model_parameters(model)\n",
    "\n",
    "if WANDB_ACTIVE:\n",
    "    wandb.config.update(args)"
   ]
  },
  {
   "cell_type": "markdown",
   "id": "94aeaa82-14c5-465c-ae6e-bb792ba8a973",
   "metadata": {},
   "source": [
    "# Autoencoder Fit "
   ]
  },
  {
   "cell_type": "code",
   "execution_count": 18,
   "id": "20ae20b9-b471-4a4b-80fd-b47b8f2ee25f",
   "metadata": {
    "execution": {
     "iopub.execute_input": "2024-07-07T15:28:29.594800Z",
     "iopub.status.busy": "2024-07-07T15:28:29.594313Z",
     "iopub.status.idle": "2024-07-07T15:28:29.641696Z",
     "shell.execute_reply": "2024-07-07T15:28:29.641058Z",
     "shell.execute_reply.started": "2024-07-07T15:28:29.594760Z"
    }
   },
   "outputs": [
    {
     "data": {
      "text/plain": [
       "(0, 10)"
      ]
     },
     "execution_count": 18,
     "metadata": {},
     "output_type": "execute_result"
    },
    {
     "name": "stdout",
     "output_type": "stream",
     "text": [
      " 2024-07-07 17:28:29  epoch    1 of   10\n"
     ]
    }
   ],
   "source": [
    "model.starting_epoch, model.ending_epoch = 0, 10\n",
    "model.starting_epoch, model.ending_epoch\n",
    "\n",
    "print(f\" {datetime.now().strftime('%Y-%m-%d %H:%M:%S')}  epoch {model.starting_epoch+1:4d} of {model.ending_epoch:4d}\")"
   ]
  },
  {
   "cell_type": "code",
   "execution_count": null,
   "id": "90c74527-0c16-477c-b53a-9fcbdbb5e68b",
   "metadata": {
    "execution": {
     "iopub.execute_input": "2024-07-08T17:09:56.158426Z",
     "iopub.status.busy": "2024-07-08T17:09:56.157915Z"
    },
    "scrolled": true
   },
   "outputs": [
    {
     "name": "stdout",
     "output_type": "stream",
     "text": [
      " 2024-07-08 19:09:56  epoch  101 of  200\n",
      " 100 - anneal temp  -  counter: 4    before:   0.466516     new_temp:   0.412635 \n",
      "  time   ep / eps |  Trn_loss   Primary      SNNL  |   temp*         grad    |   R2      BestEp         |  Vld_loss   Primary      SNNL  |   R2       BestEp          |   LR        temp LR    |\n",
      "------------------+--------------------------------+-------------------------+--------------------------+--------------------------------+----------------------------|------------------------|\n",
      "19:12:29 101/200  |   2.9638     0.1208     2.8430 |   0.412635   0.0000e+00 |   0.6758    50           |   2.9676     0.1252     2.8424 |   0.6080   101             |  1.000e-04   0.000e+00 |\n"
     ]
    },
    {
     "name": "stderr",
     "output_type": "stream",
     "text": [
      "2024-07-08 19:12:30,124 - snnl.utils.utils - INFO: -  Model exported to ckpts/AE_snnl_dcpb200_150Ltnt_512_240707_1728_BEST.pt - epoch: 101\n"
     ]
    },
    {
     "name": "stdout",
     "output_type": "stream",
     "text": [
      "19:14:58 102/200  |   2.9627     0.1205     2.8421 |   0.412635   0.0000e+00 |   0.6765    50           |   2.9673     0.1249     2.8424 |   0.5477   101             |  1.000e-04   0.000e+00 |\n",
      "19:17:30 103/200  |   2.9624     0.1203     2.8421 |   0.412635   0.0000e+00 |   0.6784    50           |   2.9672     0.1249     2.8423 |   0.5916   101             |  1.000e-04   0.000e+00 |\n",
      "19:20:02 104/200  |   2.9622     0.1201     2.8421 |   0.412635   0.0000e+00 |   0.6782    50           |   2.9672     0.1249     2.8423 |   0.5581   101             |  1.000e-04   0.000e+00 |\n",
      "19:22:32 105/200  |   2.9620     0.1199     2.8421 |   0.412635   0.0000e+00 |   0.6770    50           |   2.9670     0.1246     2.8423 |   0.6044   101             |  1.000e-04   0.000e+00 |\n",
      "19:25:02 106/200  |   2.9618     0.1197     2.8421 |   0.412635   0.0000e+00 |   0.6785    50           |   2.9665     0.1242     2.8423 |   0.5797   101             |  1.000e-04   0.000e+00 |\n",
      "19:27:33 107/200  |   2.9616     0.1195     2.8421 |   0.412635   0.0000e+00 |   0.6779    50           |   2.9664     0.1242     2.8423 |   0.6095   107             |  1.000e-04   0.000e+00 |\n"
     ]
    },
    {
     "name": "stderr",
     "output_type": "stream",
     "text": [
      "2024-07-08 19:27:34,375 - snnl.utils.utils - INFO: -  Model exported to ckpts/AE_snnl_dcpb200_150Ltnt_512_240707_1728_BEST.pt - epoch: 107\n"
     ]
    },
    {
     "name": "stdout",
     "output_type": "stream",
     "text": [
      "19:30:04 108/200  |   2.9613     0.1193     2.8420 |   0.412635   0.0000e+00 |   0.6805    50           |   2.9662     0.1239     2.8422 |   0.5818   107             |  1.000e-04   0.000e+00 |\n",
      "19:32:32 109/200  |   2.9611     0.1190     2.8420 |   0.412635   0.0000e+00 |   0.6784    50           |   2.9662     0.1240     2.8422 |   0.5994   107             |  1.000e-04   0.000e+00 |\n",
      "19:35:01 110/200  |   2.9609     0.1189     2.8420 |   0.412635   0.0000e+00 |   0.6785    50           |   2.9657     0.1236     2.8422 |   0.5902   107             |  1.000e-04   0.000e+00 |\n",
      "19:37:30 111/200  |   2.9607     0.1187     2.8419 |   0.412635   0.0000e+00 |   0.6821    50           |   2.9657     0.1235     2.8422 |   0.5912   107             |  1.000e-04   0.000e+00 |\n",
      " 111 - anneal temp  -  counter: 5    before:   0.412635     new_temp:   0.373265 \n",
      "19:40:01 112/200  |   2.9605     0.1185     2.8419 |   0.373265   0.0000e+00 |   0.6819    50           |   2.9644     0.1230     2.8414 |   0.5886   107             |  1.000e-04   0.000e+00 |\n",
      "19:42:30 113/200  |   2.9594     0.1182     2.8412 |   0.373265   0.0000e+00 |   0.6801    50           |   2.9643     0.1229     2.8414 |   0.6085   107             |  1.000e-04   0.000e+00 |\n",
      "19:45:00 114/200  |   2.9592     0.1180     2.8411 |   0.373265   0.0000e+00 |   0.6838    50           |   2.9645     0.1232     2.8413 |   0.6148   114             |  1.000e-04   0.000e+00 |\n"
     ]
    },
    {
     "name": "stderr",
     "output_type": "stream",
     "text": [
      "2024-07-08 19:45:00,587 - snnl.utils.utils - INFO: -  Model exported to ckpts/AE_snnl_dcpb200_150Ltnt_512_240707_1728_BEST.pt - epoch: 114\n"
     ]
    },
    {
     "name": "stdout",
     "output_type": "stream",
     "text": [
      "19:47:32 115/200  |   2.9590     0.1179     2.8411 |   0.373265   0.0000e+00 |   0.6762    50           |   2.9640     0.1227     2.8413 |   0.5833   114             |  1.000e-04   0.000e+00 |\n",
      "19:50:04 116/200  |   2.9587     0.1177     2.8411 |   0.373265   0.0000e+00 |   0.6836    50           |   2.9638     0.1225     2.8413 |   0.6116   114             |  1.000e-04   0.000e+00 |\n",
      "19:52:34 117/200  |   2.9585     0.1174     2.8411 |   0.373265   0.0000e+00 |   0.6787    50           |   2.9635     0.1222     2.8413 |   0.5943   114             |  1.000e-04   0.000e+00 |\n",
      "19:55:05 118/200  |   2.9582     0.1172     2.8411 |   0.373265   0.0000e+00 |   0.6815    50           |   2.9638     0.1225     2.8413 |   0.6019   114             |  1.000e-04   0.000e+00 |\n",
      "19:57:36 119/200  |   2.9580     0.1170     2.8410 |   0.373265   0.0000e+00 |   0.6832    50           |   2.9636     0.1224     2.8413 |   0.5878   114             |  1.000e-04   0.000e+00 |\n",
      "20:00:06 120/200  |   2.9579     0.1169     2.8410 |   0.373265   0.0000e+00 |   0.6769    50           |   2.9634     0.1222     2.8412 |   0.6047   114             |  1.000e-04   0.000e+00 |\n",
      "20:02:36 121/200  |   2.9577     0.1168     2.8409 |   0.373265   0.0000e+00 |   0.6799    50           |   2.9627     0.1216     2.8412 |   0.6130   114             |  1.000e-04   0.000e+00 |\n",
      "20:05:06 122/200  |   2.9573     0.1164     2.8409 |   0.373265   0.0000e+00 |   0.6855    50           |   2.9625     0.1214     2.8411 |   0.6032   114             |  1.000e-04   0.000e+00 |\n",
      " 122 - anneal temp  -  counter: 6    before:   0.373265     new_temp:   0.342923 \n",
      "20:07:37 123/200  |   2.9571     0.1162     2.8409 |   0.342923   0.0000e+00 |   0.6808    50           |   2.9617     0.1212     2.8404 |   0.6030   114             |  1.000e-04   0.000e+00 |\n",
      "20:10:09 124/200  |   2.9561     0.1160     2.8402 |   0.342923   0.0000e+00 |   0.6830    50           |   2.9614     0.1209     2.8404 |   0.6272   124             |  1.000e-04   0.000e+00 |\n"
     ]
    },
    {
     "name": "stderr",
     "output_type": "stream",
     "text": [
      "2024-07-08 20:10:10,031 - snnl.utils.utils - INFO: -  Model exported to ckpts/AE_snnl_dcpb200_150Ltnt_512_240707_1728_BEST.pt - epoch: 124\n",
      "2024-07-08 20:12:41,075 - snnl.utils.utils - INFO: -  Model exported to ckpts/AE_snnl_dcpb200_150Ltnt_512_240707_1728_ep_125.pt - epoch: 125\n"
     ]
    },
    {
     "name": "stdout",
     "output_type": "stream",
     "text": [
      "20:12:40 125/200  |   2.9558     0.1157     2.8402 |   0.342923   0.0000e+00 |   0.6850    50           |   2.9613     0.1208     2.8404 |   0.5909   124             |  1.000e-04   0.000e+00 |\n",
      "20:15:12 126/200  |   2.9557     0.1156     2.8401 |   0.342923   0.0000e+00 |   0.6838    50           |   2.9608     0.1205     2.8404 |   0.5915   124             |  1.000e-04   0.000e+00 |\n",
      "20:17:43 127/200  |   2.9555     0.1154     2.8401 |   0.342923   0.0000e+00 |   0.6874    50           |   2.9608     0.1205     2.8404 |   0.6389   127             |  1.000e-04   0.000e+00 |\n"
     ]
    },
    {
     "name": "stderr",
     "output_type": "stream",
     "text": [
      "2024-07-08 20:17:43,965 - snnl.utils.utils - INFO: -  Model exported to ckpts/AE_snnl_dcpb200_150Ltnt_512_240707_1728_BEST.pt - epoch: 127\n"
     ]
    },
    {
     "name": "stdout",
     "output_type": "stream",
     "text": [
      "20:20:13 128/200  |   2.9553     0.1152     2.8401 |   0.342923   0.0000e+00 |   0.6907    50           |   2.9608     0.1205     2.8403 |   0.5891   127             |  1.000e-04   0.000e+00 |\n",
      "20:22:44 129/200  |   2.9551     0.1150     2.8400 |   0.342923   0.0000e+00 |   0.6864    50           |   2.9605     0.1202     2.8403 |   0.6300   127             |  1.000e-04   0.000e+00 |\n",
      "20:25:14 130/200  |   2.9549     0.1149     2.8400 |   0.342923   0.0000e+00 |   0.6923   130           |   2.9603     0.1200     2.8403 |   0.6319   127             |  1.000e-04   0.000e+00 |\n",
      "20:27:45 131/200  |   2.9546     0.1147     2.8400 |   0.342923   0.0000e+00 |   0.6904   130           |   2.9602     0.1200     2.8402 |   0.5971   127             |  1.000e-04   0.000e+00 |\n",
      "20:30:13 132/200  |   2.9544     0.1145     2.8400 |   0.342923   0.0000e+00 |   0.6949   132           |   2.9600     0.1198     2.8402 |   0.6155   127             |  1.000e-04   0.000e+00 |\n",
      "20:32:42 133/200  |   2.9543     0.1144     2.8399 |   0.342923   0.0000e+00 |   0.6946   132           |   2.9598     0.1196     2.8401 |   0.6346   127             |  1.000e-04   0.000e+00 |\n",
      "20:35:13 134/200  |   2.9544     0.1146     2.8398 |   0.342923   0.0000e+00 |   0.6972   134           |   2.9597     0.1196     2.8401 |   0.6109   127             |  1.000e-04   0.000e+00 |\n",
      "20:37:43 135/200  |   2.9540     0.1143     2.8398 |   0.342923   0.0000e+00 |   0.6942   134           |   2.9593     0.1193     2.8400 |   0.6121   127             |  1.000e-04   0.000e+00 |\n",
      "20:40:13 136/200  |   2.9537     0.1139     2.8398 |   0.342923   0.0000e+00 |   0.6975   136           |   2.9595     0.1194     2.8401 |   0.6317   127             |  1.000e-04   0.000e+00 |\n",
      "20:42:44 137/200  |   2.9536     0.1138     2.8398 |   0.342923   0.0000e+00 |   0.6977   137           |   2.9592     0.1191     2.8400 |   0.6300   127             |  1.000e-04   0.000e+00 |\n",
      "20:45:14 138/200  |   2.9535     0.1137     2.8398 |   0.342923   0.0000e+00 |   0.6967   137           |   2.9593     0.1192     2.8401 |   0.6280   127             |  1.000e-04   0.000e+00 |\n",
      "20:47:44 139/200  |   2.9534     0.1136     2.8397 |   0.342923   0.0000e+00 |   0.6985   139           |   2.9592     0.1192     2.8400 |   0.6379   127             |  1.000e-04   0.000e+00 |\n",
      " 139 - anneal temp  -  counter: 7    before:   0.342923     new_temp:   0.318640 \n",
      "20:50:13 140/200  |   2.9533     0.1136     2.8397 |   0.318640   0.0000e+00 |   0.6956   139           |   2.9582     0.1190     2.8392 |   0.6219   127             |  1.000e-04   0.000e+00 |\n",
      "20:52:43 141/200  |   2.9524     0.1135     2.8389 |   0.318640   0.0000e+00 |   0.6976   139           |   2.9581     0.1190     2.8392 |   0.6294   127             |  1.000e-04   0.000e+00 |\n",
      "20:55:13 142/200  |   2.9522     0.1133     2.8388 |   0.318640   0.0000e+00 |   0.6985   139           |   2.9578     0.1188     2.8391 |   0.6077   127             |  1.000e-04   0.000e+00 |\n",
      "20:57:43 143/200  |   2.9519     0.1131     2.8388 |   0.318640   0.0000e+00 |   0.6974   139           |   2.9580     0.1189     2.8391 |   0.6447   143             |  1.000e-04   0.000e+00 |\n"
     ]
    },
    {
     "name": "stderr",
     "output_type": "stream",
     "text": [
      "2024-07-08 20:57:43,567 - snnl.utils.utils - INFO: -  Model exported to ckpts/AE_snnl_dcpb200_150Ltnt_512_240707_1728_BEST.pt - epoch: 143\n"
     ]
    },
    {
     "name": "stdout",
     "output_type": "stream",
     "text": [
      "21:00:12 144/200  |   2.9518     0.1130     2.8388 |   0.318640   0.0000e+00 |   0.7000   144           |   2.9579     0.1189     2.8390 |   0.6165   143             |  1.000e-04   0.000e+00 |\n",
      "21:02:43 145/200  |   2.9517     0.1130     2.8387 |   0.318640   0.0000e+00 |   0.6983   144           |   2.9573     0.1182     2.8390 |   0.6534   145             |  1.000e-04   0.000e+00 |\n"
     ]
    },
    {
     "name": "stderr",
     "output_type": "stream",
     "text": [
      "2024-07-08 21:02:43,392 - snnl.utils.utils - INFO: -  Model exported to ckpts/AE_snnl_dcpb200_150Ltnt_512_240707_1728_BEST.pt - epoch: 145\n"
     ]
    },
    {
     "name": "stdout",
     "output_type": "stream",
     "text": [
      "21:05:13 146/200  |   2.9515     0.1128     2.8387 |   0.318640   0.0000e+00 |   0.7006   146           |   2.9573     0.1184     2.8389 |   0.6319   145             |  1.000e-04   0.000e+00 |\n",
      "21:07:41 147/200  |   2.9515     0.1129     2.8386 |   0.318640   0.0000e+00 |   0.6997   146           |   2.9571     0.1182     2.8389 |   0.6600   147             |  1.000e-04   0.000e+00 |\n"
     ]
    },
    {
     "name": "stderr",
     "output_type": "stream",
     "text": [
      "2024-07-08 21:07:42,304 - snnl.utils.utils - INFO: -  Model exported to ckpts/AE_snnl_dcpb200_150Ltnt_512_240707_1728_BEST.pt - epoch: 147\n"
     ]
    },
    {
     "name": "stdout",
     "output_type": "stream",
     "text": [
      "21:10:11 148/200  |   2.9513     0.1127     2.8386 |   0.318640   0.0000e+00 |   0.7003   146           |   2.9568     0.1180     2.8388 |   0.6099   147             |  1.000e-04   0.000e+00 |\n",
      "21:12:42 149/200  |   2.9510     0.1124     2.8385 |   0.318640   0.0000e+00 |   0.6976   146           |   2.9568     0.1179     2.8389 |   0.6524   147             |  1.000e-04   0.000e+00 |\n"
     ]
    },
    {
     "name": "stderr",
     "output_type": "stream",
     "text": [
      "2024-07-08 21:15:11,784 - snnl.utils.utils - INFO: -  Model exported to ckpts/AE_snnl_dcpb200_150Ltnt_512_240707_1728_ep_150.pt - epoch: 150\n"
     ]
    },
    {
     "name": "stdout",
     "output_type": "stream",
     "text": [
      "21:15:11 150/200  |   2.9507     0.1122     2.8385 |   0.318640   0.0000e+00 |   0.6996   146           |   2.9565     0.1178     2.8388 |   0.6329   147             |  1.000e-04   0.000e+00 |\n",
      "21:17:41 151/200  |   2.9505     0.1120     2.8385 |   0.318640   0.0000e+00 |   0.6974   146           |   2.9565     0.1178     2.8387 |   0.6384   147             |  1.000e-04   0.000e+00 |\n",
      "21:20:12 152/200  |   2.9504     0.1120     2.8384 |   0.318640   0.0000e+00 |   0.6953   146           |   2.9564     0.1178     2.8386 |   0.6608   152             |  1.000e-04   0.000e+00 |\n"
     ]
    },
    {
     "name": "stderr",
     "output_type": "stream",
     "text": [
      "2024-07-08 21:20:13,043 - snnl.utils.utils - INFO: -  Model exported to ckpts/AE_snnl_dcpb200_150Ltnt_512_240707_1728_BEST.pt - epoch: 152\n"
     ]
    },
    {
     "name": "stdout",
     "output_type": "stream",
     "text": [
      " 152 - anneal temp  -  counter: 8    before:   0.318640     new_temp:   0.298653 \n",
      "21:22:45 153/200  |   2.9502     0.1119     2.8383 |   0.298653   0.0000e+00 |   0.6966   146           |   2.9552     0.1174     2.8379 |   0.6353   152             |  1.000e-04   0.000e+00 |\n",
      "21:25:13 154/200  |   2.9492     0.1116     2.8375 |   0.298653   0.0000e+00 |   0.6960   146           |   2.9553     0.1175     2.8378 |   0.6436   152             |  1.000e-04   0.000e+00 |\n",
      "21:27:42 155/200  |   2.9490     0.1115     2.8375 |   0.298653   0.0000e+00 |   0.6964   146           |   2.9549     0.1171     2.8378 |   0.6364   152             |  1.000e-04   0.000e+00 |\n",
      "21:30:11 156/200  |   2.9487     0.1112     2.8375 |   0.298653   0.0000e+00 |   0.7001   146           |   2.9548     0.1170     2.8377 |   0.6618   156             |  1.000e-04   0.000e+00 |\n"
     ]
    },
    {
     "name": "stderr",
     "output_type": "stream",
     "text": [
      "2024-07-08 21:30:11,549 - snnl.utils.utils - INFO: -  Model exported to ckpts/AE_snnl_dcpb200_150Ltnt_512_240707_1728_BEST.pt - epoch: 156\n"
     ]
    },
    {
     "name": "stdout",
     "output_type": "stream",
     "text": [
      "21:32:42 157/200  |   2.9486     0.1111     2.8374 |   0.298653   0.0000e+00 |   0.6991   146           |   2.9545     0.1168     2.8377 |   0.6398   156             |  1.000e-04   0.000e+00 |\n",
      "21:35:11 158/200  |   2.9484     0.1111     2.8373 |   0.298653   0.0000e+00 |   0.7009   158           |   2.9542     0.1166     2.8376 |   0.6611   156             |  1.000e-04   0.000e+00 |\n",
      "21:37:41 159/200  |   2.9482     0.1109     2.8373 |   0.298653   0.0000e+00 |   0.7031   159           |   2.9546     0.1170     2.8376 |   0.6565   156             |  1.000e-04   0.000e+00 |\n",
      "21:40:02 160/200  |   2.9481     0.1110     2.8371 |   0.298653   0.0000e+00 |   0.7044   160           |   2.9539     0.1166     2.8374 |   0.6720   160             |  1.000e-04   0.000e+00 |\n"
     ]
    },
    {
     "name": "stderr",
     "output_type": "stream",
     "text": [
      "2024-07-08 21:40:03,338 - snnl.utils.utils - INFO: -  Model exported to ckpts/AE_snnl_dcpb200_150Ltnt_512_240707_1728_BEST.pt - epoch: 160\n"
     ]
    },
    {
     "name": "stdout",
     "output_type": "stream",
     "text": [
      "21:42:22 161/200  |   2.9478     0.1108     2.8371 |   0.298653   0.0000e+00 |   0.7049   161           |   2.9538     0.1164     2.8374 |   0.6563   160             |  1.000e-04   0.000e+00 |\n",
      "21:44:41 162/200  |   2.9475     0.1104     2.8370 |   0.298653   0.0000e+00 |   0.7077   162           |   2.9537     0.1164     2.8373 |   0.6373   160             |  1.000e-04   0.000e+00 |\n",
      "21:47:04 163/200  |   2.9472     0.1102     2.8370 |   0.298653   0.0000e+00 |   0.7076   162           |   2.9539     0.1165     2.8374 |   0.6631   160             |  1.000e-04   0.000e+00 |\n",
      "21:49:26 164/200  |   2.9471     0.1100     2.8370 |   0.298653   0.0000e+00 |   0.7079   164           |   2.9531     0.1158     2.8373 |   0.6571   160             |  1.000e-04   0.000e+00 |\n",
      "21:51:46 165/200  |   2.9470     0.1100     2.8370 |   0.298653   0.0000e+00 |   0.7057   164           |   2.9531     0.1158     2.8373 |   0.6596   160             |  1.000e-04   0.000e+00 |\n",
      "21:54:07 166/200  |   2.9468     0.1099     2.8369 |   0.298653   0.0000e+00 |   0.7071   164           |   2.9529     0.1157     2.8372 |   0.6560   160             |  1.000e-04   0.000e+00 |\n",
      "21:56:29 167/200  |   2.9466     0.1098     2.8368 |   0.298653   0.0000e+00 |   0.7058   164           |   2.9527     0.1156     2.8371 |   0.6736   167             |  1.000e-04   0.000e+00 |\n"
     ]
    },
    {
     "name": "stderr",
     "output_type": "stream",
     "text": [
      "2024-07-08 21:56:30,165 - snnl.utils.utils - INFO: -  Model exported to ckpts/AE_snnl_dcpb200_150Ltnt_512_240707_1728_BEST.pt - epoch: 167\n"
     ]
    },
    {
     "name": "stdout",
     "output_type": "stream",
     "text": [
      "21:58:52 168/200  |   2.9464     0.1096     2.8368 |   0.298653   0.0000e+00 |   0.7066   164           |   2.9524     0.1153     2.8371 |   0.6557   167             |  1.000e-04   0.000e+00 |\n",
      "22:01:13 169/200  |   2.9462     0.1096     2.8367 |   0.298653   0.0000e+00 |   0.7068   164           |   2.9522     0.1153     2.8369 |   0.6340   167             |  1.000e-04   0.000e+00 |\n",
      " 169 - anneal temp  -  counter: 9    before:   0.298653     new_temp:   0.281838 \n",
      "22:03:37 170/200  |   2.9459     0.1092     2.8367 |   0.281838   0.0000e+00 |   0.7063   164           |   2.9515     0.1152     2.8363 |   0.6891   170             |  1.000e-04   0.000e+00 |\n"
     ]
    },
    {
     "name": "stderr",
     "output_type": "stream",
     "text": [
      "2024-07-08 22:03:37,384 - snnl.utils.utils - INFO: -  Model exported to ckpts/AE_snnl_dcpb200_150Ltnt_512_240707_1728_BEST.pt - epoch: 170\n"
     ]
    },
    {
     "name": "stdout",
     "output_type": "stream",
     "text": [
      "22:06:01 171/200  |   2.9450     0.1091     2.8359 |   0.281838   0.0000e+00 |   0.7115   171           |   2.9511     0.1149     2.8362 |   0.6469   170             |  1.000e-04   0.000e+00 |\n",
      "22:08:28 172/200  |   2.9448     0.1089     2.8359 |   0.281838   0.0000e+00 |   0.7076   171           |   2.9509     0.1147     2.8362 |   0.6542   170             |  1.000e-04   0.000e+00 |\n",
      "22:10:52 173/200  |   2.9446     0.1087     2.8359 |   0.281838   0.0000e+00 |   0.7065   171           |   2.9509     0.1149     2.8360 |   0.6509   170             |  1.000e-04   0.000e+00 |\n",
      "22:13:13 174/200  |   2.9443     0.1084     2.8359 |   0.281838   0.0000e+00 |   0.7109   171           |   2.9507     0.1145     2.8362 |   0.6737   170             |  1.000e-04   0.000e+00 |\n"
     ]
    }
   ],
   "source": [
    "print(f\" {datetime.now().strftime('%Y-%m-%d %H:%M:%S')}  epoch {model.starting_epoch+1:4d} of {model.ending_epoch:4d}\")\n",
    "header = True\n",
    "\n",
    "for epoch in range(model.starting_epoch, model.ending_epoch):\n",
    "    train_loss = model.epoch_train(train_loader, epoch, DEBUG_COUNT = 3)\n",
    "    val_loss = model.epoch_validate(val_loader, epoch)\n",
    "    \n",
    "    display_epoch_metrics(model, epoch, model.ending_epoch, header)\n",
    "    header = False\n",
    "    model.scheduling_step(val_loss)\n",
    "    \n",
    "    if WANDB_ACTIVE:\n",
    "        epoch_metrics = {x:y     for x,y in model.training_history['gen'].items()} | \\\n",
    "                        {x:y[-1] for x,y in model.training_history['val'].items()} | \\\n",
    "                        {x:y[-1] for x,y in model.training_history['trn'].items()} \n",
    "        wandb_log_metrics( data = epoch_metrics, step = epoch)\n",
    "    \n",
    "    if model.new_val_best:\n",
    "        if WANDB_ACTIVE:\n",
    "            wandb.unwatch(model)\n",
    "            save_checkpoint_v4(epoch+1, model, args, update_best=True)  \n",
    "            wandb_watch(item = model, criterion=None, log = 'all', log_freq = 1000, log_graph = False)\n",
    "        else:\n",
    "            save_checkpoint_v4(epoch+1, model, args, update_best=True)  \n",
    "        \n",
    "    if (epoch + 1) % args.save_every == 0:\n",
    "        if WANDB_ACTIVE:\n",
    "            wandb.unwatch(model)\n",
    "            save_checkpoint_v4(epoch+1, model, args)    \n",
    "            wandb_watch(item = model, criterion=None, log = 'all', log_freq = 1000, log_graph = False)\n",
    "        else:\n",
    "            save_checkpoint_v4(epoch+1, model, args)    \n",
    "            \n",
    "print(f\"Last Epoch {epoch+1}\")\n",
    "if WANDB_ACTIVE:\n",
    "    wandb.unwatch(model)\n",
    "    save_checkpoint_v4(epoch+1, model, args, update_latest=True)          \n",
    "else:\n",
    "    save_checkpoint_v4(epoch+1, model, args)    \n"
   ]
  },
  {
   "cell_type": "markdown",
   "id": "0db40148-a95e-4895-8868-bd27050a3c9f",
   "metadata": {},
   "source": [
    "### Close WandB Logging"
   ]
  },
  {
   "cell_type": "code",
   "execution_count": 24,
   "id": "1251c457-bbae-4bfc-a786-92fbc8d2ddb6",
   "metadata": {
    "execution": {
     "iopub.execute_input": "2024-07-08T20:26:54.412075Z",
     "iopub.status.busy": "2024-07-08T20:26:54.411659Z",
     "iopub.status.idle": "2024-07-08T20:27:02.422190Z",
     "shell.execute_reply": "2024-07-08T20:27:02.420961Z",
     "shell.execute_reply.started": "2024-07-08T20:26:54.412043Z"
    },
    "scrolled": true
   },
   "outputs": [
    {
     "data": {
      "text/html": [
       "<style>\n",
       "    table.wandb td:nth-child(1) { padding: 0 10px; text-align: left ; width: auto;} td:nth-child(2) {text-align: left ; width: 100%}\n",
       "    .wandb-row { display: flex; flex-direction: row; flex-wrap: wrap; justify-content: flex-start; width: 100% }\n",
       "    .wandb-col { display: flex; flex-direction: column; flex-basis: 100%; flex: 1; padding: 10px; }\n",
       "    </style>\n",
       "<div class=\"wandb-row\"><div class=\"wandb-col\"><h3>Run summary:</h3><br/><table class=\"wandb\"><tr><td>temp_grad_hist</td><td>0</td></tr><tr><td>temp_hist</td><td>0.17027</td></tr><tr><td>temp_lr</td><td>0</td></tr><tr><td>trn_R2_score</td><td>0.77354</td></tr><tr><td>trn_R2_score_tev</td><td>0</td></tr><tr><td>trn_best_loss</td><td>2.89471</td></tr><tr><td>trn_best_loss_ep</td><td>399</td></tr><tr><td>trn_best_metric</td><td>0.77354</td></tr><tr><td>trn_best_metric_ep</td><td>399</td></tr><tr><td>trn_lr</td><td>0.0001</td></tr><tr><td>trn_prim_loss</td><td>0.08697</td></tr><tr><td>trn_snn_loss</td><td>2.80773</td></tr><tr><td>trn_time</td><td>21:28:27</td></tr><tr><td>trn_ttl_loss</td><td>2.89471</td></tr><tr><td>val_R2_score</td><td>0.77556</td></tr><tr><td>val_R2_score_tev</td><td>0</td></tr><tr><td>val_best_loss</td><td>2.90336</td></tr><tr><td>val_best_loss_ep</td><td>398</td></tr><tr><td>val_best_metric</td><td>0.77556</td></tr><tr><td>val_best_metric_ep</td><td>399</td></tr><tr><td>val_prim_loss</td><td>0.09533</td></tr><tr><td>val_snn_loss</td><td>2.80871</td></tr><tr><td>val_time</td><td>21:28:41</td></tr><tr><td>val_ttl_loss</td><td>2.90403</td></tr></table><br/></div></div>"
      ],
      "text/plain": [
       "<IPython.core.display.HTML object>"
      ]
     },
     "metadata": {},
     "output_type": "display_data"
    },
    {
     "data": {
      "text/html": [
       " View run <strong style=\"color:#cdcd00\">AE_20240708_0539</strong> at: <a href='https://wandb.ai/kbardool/CellPainting_Profiles/runs/z742d8ok' target=\"_blank\">https://wandb.ai/kbardool/CellPainting_Profiles/runs/z742d8ok</a><br/> View project at: <a href='https://wandb.ai/kbardool/CellPainting_Profiles' target=\"_blank\">https://wandb.ai/kbardool/CellPainting_Profiles</a><br/>Synced 4 W&B file(s), 0 media file(s), 0 artifact file(s) and 0 other file(s)"
      ],
      "text/plain": [
       "<IPython.core.display.HTML object>"
      ]
     },
     "metadata": {},
     "output_type": "display_data"
    },
    {
     "data": {
      "text/html": [
       "Find logs at: <code>./wandb/run-20240708_221912-z742d8ok/logs</code>"
      ],
      "text/plain": [
       "<IPython.core.display.HTML object>"
      ]
     },
     "metadata": {},
     "output_type": "display_data"
    },
    {
     "data": {
      "text/html": [
       "The new W&B backend becomes opt-out in version 0.18.0; try it out with `wandb.require(\"core\")`! See https://wandb.me/wandb-core for more information."
      ],
      "text/plain": [
       "<IPython.core.display.HTML object>"
      ]
     },
     "metadata": {},
     "output_type": "display_data"
    }
   ],
   "source": [
    "if WANDB_ACTIVE:\n",
    "    wandb_run.finish()\n",
    "    WANDB_ACTIVE = False"
   ]
  },
  {
   "cell_type": "code",
   "execution_count": null,
   "id": "0927be49-85f5-4c34-a8e1-717016168df1",
   "metadata": {},
   "outputs": [],
   "source": [
    "epoch, model.starting_epoch, model.ending_epoch"
   ]
  },
  {
   "cell_type": "code",
   "execution_count": null,
   "id": "c990cd60-d495-4961-8ad4-5b14daab3828",
   "metadata": {},
   "outputs": [],
   "source": []
  },
  {
   "cell_type": "code",
   "execution_count": 25,
   "id": "45810b9a-9d1e-4913-bc64-71c12181b3b6",
   "metadata": {
    "execution": {
     "iopub.execute_input": "2024-07-08T17:07:13.964916Z",
     "iopub.status.busy": "2024-07-08T17:07:13.963534Z",
     "iopub.status.idle": "2024-07-08T17:07:14.184890Z",
     "shell.execute_reply": "2024-07-08T17:07:14.184273Z",
     "shell.execute_reply.started": "2024-07-08T17:07:13.964859Z"
    },
    "scrolled": true
   },
   "outputs": [
    {
     "name": "stdout",
     "output_type": "stream",
     "text": [
      "  time   ep / eps |  Trn_loss   Primary      SNNL  |   temp*         grad    |   R2      BestEp         |  Vld_loss   Primary      SNNL  |   R2       BestEp          |   LR        temp LR    |\n",
      "------------------+--------------------------------+-------------------------+--------------------------+--------------------------------+----------------------------|------------------------|\n",
      "17:30:36  1 /100  |   3.6449     0.8119     2.8330 |   1.000000   0.0000e+00 | -11.8533    50           |   3.3535     0.5182     2.8353 |  -4.5372    93             |  1.000e-04   0.000e+00 |\n",
      "17:32:43  2 /100  |   3.2799     0.4421     2.8378 |   1.000000   0.0000e+00 |  -3.1303    50           |   3.2152     0.3743     2.8409 |  -1.8841    93             |  1.000e-04   0.000e+00 |\n",
      "17:34:50  3 /100  |   3.1859     0.3438     2.8421 |   1.000000   0.0000e+00 |  -1.3209    50           |   3.1548     0.3114     2.8434 |  -0.7997    93             |  1.000e-04   0.000e+00 |\n",
      "17:36:58  4 /100  |   3.1386     0.2948     2.8438 |   1.000000   0.0000e+00 |  -0.5227    50           |   3.1196     0.2752     2.8444 |  -0.3165    93             |  1.000e-04   0.000e+00 |\n",
      "17:39:05  5 /100  |   3.1096     0.2650     2.8446 |   1.000000   0.0000e+00 |  -0.1958    50           |   3.0965     0.2516     2.8450 |  -0.2437    93             |  1.000e-04   0.000e+00 |\n",
      "17:41:13  6 /100  |   3.0899     0.2449     2.8451 |   1.000000   0.0000e+00 |  -0.0371    50           |   3.0803     0.2349     2.8454 |  -0.0510    93             |  1.000e-04   0.000e+00 |\n",
      "17:43:19  7 /100  |   3.0754     0.2299     2.8454 |   1.000000   0.0000e+00 |   0.0505    50           |   3.0680     0.2223     2.8457 |   0.0766    93             |  1.000e-04   0.000e+00 |\n",
      "17:45:27  8 /100  |   3.0642     0.2185     2.8457 |   1.000000   0.0000e+00 |   0.1099    50           |   3.0581     0.2123     2.8459 |   0.0986    93             |  1.000e-04   0.000e+00 |\n",
      "17:47:33  9 /100  |   3.0553     0.2093     2.8459 |   1.000000   0.0000e+00 |   0.1707    50           |   3.0504     0.2044     2.8461 |   0.1784    93             |  1.000e-04   0.000e+00 |\n",
      "17:49:42 10 /100  |   3.0483     0.2023     2.8461 |   1.000000   0.0000e+00 |   0.2267    50           |   3.0434     0.1972     2.8462 |   0.2517    93             |  1.000e-04   0.000e+00 |\n",
      "18:43:24 11 /100  |   3.0413     0.1951     2.8462 |   1.000000   0.0000e+00 |   0.2883    50           |   3.0376     0.1913     2.8463 |   0.2665    93             |  1.000e-04   0.000e+00 |\n",
      "18:45:33 12 /100  |   3.0357     0.1893     2.8463 |   1.000000   0.0000e+00 |   0.3389    50           |   3.0326     0.1861     2.8465 |   0.2998    93             |  1.000e-04   0.000e+00 |\n",
      "18:47:41 13 /100  |   3.0307     0.1843     2.8464 |   1.000000   0.0000e+00 |   0.3776    50           |   3.0282     0.1817     2.8466 |   0.3095    93             |  1.000e-04   0.000e+00 |\n",
      "18:49:48 14 /100  |   3.0264     0.1799     2.8465 |   1.000000   0.0000e+00 |   0.4086    50           |   3.0241     0.1774     2.8466 |   0.3397    93             |  1.000e-04   0.000e+00 |\n",
      "18:51:55 15 /100  |   3.0227     0.1761     2.8466 |   1.000000   0.0000e+00 |   0.4284    50           |   3.0204     0.1737     2.8467 |   0.3534    93             |  1.000e-04   0.000e+00 |\n",
      "18:54:02 16 /100  |   3.0191     0.1724     2.8466 |   1.000000   0.0000e+00 |   0.4549    50           |   3.0173     0.1706     2.8467 |   0.4001    93             |  1.000e-04   0.000e+00 |\n",
      "18:56:08 17 /100  |   3.0161     0.1694     2.8467 |   1.000000   0.0000e+00 |   0.4651    50           |   3.0146     0.1678     2.8468 |   0.3302    93             |  1.000e-04   0.000e+00 |\n",
      "18:58:15 18 /100  |   3.0131     0.1663     2.8467 |   1.000000   0.0000e+00 |   0.4795    50           |   3.0120     0.1652     2.8468 |   0.4048    93             |  1.000e-04   0.000e+00 |\n",
      "19:00:23 19 /100  |   3.0104     0.1636     2.8468 |   1.000000   0.0000e+00 |   0.4933    50           |   3.0097     0.1628     2.8469 |   0.3708    93             |  1.000e-04   0.000e+00 |\n",
      "19:02:30 20 /100  |   3.0080     0.1611     2.8468 |   1.000000   0.0000e+00 |   0.5059    50           |   3.0075     0.1606     2.8469 |   0.2926    93             |  1.000e-04   0.000e+00 |\n",
      "19:04:38 21 /100  |   3.0058     0.1590     2.8469 |   1.000000   0.0000e+00 |   0.5075    50           |   3.0058     0.1588     2.8470 |   0.3629    93             |  1.000e-04   0.000e+00 |\n",
      "19:06:44 22 /100  |   3.0040     0.1571     2.8469 |   1.000000   0.0000e+00 |   0.5139    50           |   3.0040     0.1570     2.8470 |   0.3307    93             |  1.000e-04   0.000e+00 |\n",
      "19:08:52 23 /100  |   3.0021     0.1551     2.8469 |   1.000000   0.0000e+00 |   0.5176    50           |   3.0021     0.1550     2.8470 |   0.3737    93             |  1.000e-04   0.000e+00 |\n",
      "19:10:57 24 /100  |   3.0002     0.1533     2.8470 |   1.000000   0.0000e+00 |   0.5133    50           |   3.0003     0.1533     2.8470 |   0.3817    93             |  1.000e-04   0.000e+00 |\n",
      "19:13:04 25 /100  |   2.9986     0.1516     2.8470 |   1.000000   0.0000e+00 |   0.5203    50           |   2.9992     0.1522     2.8471 |   0.3660    93             |  1.000e-04   0.000e+00 |\n",
      "19:15:11 26 /100  |   2.9971     0.1501     2.8470 |   1.000000   0.0000e+00 |   0.5238    50           |   2.9977     0.1506     2.8471 |   0.3675    93             |  1.000e-04   0.000e+00 |\n",
      "19:17:18 27 /100  |   2.9957     0.1487     2.8470 |   1.000000   0.0000e+00 |   0.5316    50           |   2.9966     0.1496     2.8471 |   0.3186    93             |  1.000e-04   0.000e+00 |\n",
      "19:19:25 28 /100  |   2.9944     0.1474     2.8470 |   1.000000   0.0000e+00 |   0.5458    50           |   2.9951     0.1480     2.8471 |   0.4015    93             |  1.000e-04   0.000e+00 |\n",
      "19:21:31 29 /100  |   2.9929     0.1459     2.8471 |   1.000000   0.0000e+00 |   0.5640    50           |   2.9939     0.1468     2.8471 |   0.3617    93             |  1.000e-04   0.000e+00 |\n",
      "19:23:37 30 /100  |   2.9917     0.1447     2.8471 |   1.000000   0.0000e+00 |   0.5807    50           |   2.9930     0.1459     2.8471 |   0.3819    93             |  1.000e-04   0.000e+00 |\n",
      "19:25:43 31 /100  |   2.9908     0.1437     2.8471 |   1.000000   0.0000e+00 |   0.5997    50           |   2.9922     0.1450     2.8471 |   0.4252    93             |  1.000e-04   0.000e+00 |\n",
      "19:27:50 32 /100  |   2.9901     0.1430     2.8471 |   1.000000   0.0000e+00 |   0.6109    50           |   2.9914     0.1443     2.8471 |   0.4332    93             |  1.000e-04   0.000e+00 |\n",
      "19:29:58 33 /100  |   2.9890     0.1419     2.8470 |   1.000000   0.0000e+00 |   0.6236    50           |   2.9903     0.1432     2.8471 |   0.4305    93             |  1.000e-04   0.000e+00 |\n",
      "19:32:05 34 /100  |   2.9879     0.1409     2.8471 |   1.000000   0.0000e+00 |   0.6371    50           |   2.9895     0.1424     2.8471 |   0.4730    93             |  1.000e-04   0.000e+00 |\n",
      "19:34:12 35 /100  |   2.9871     0.1400     2.8471 |   1.000000   0.0000e+00 |   0.6506    50           |   2.9888     0.1416     2.8471 |   0.4833    93             |  1.000e-04   0.000e+00 |\n",
      "19:36:20 36 /100  |   2.9864     0.1393     2.8471 |   1.000000   0.0000e+00 |   0.6546    50           |   2.9883     0.1411     2.8471 |   0.4550    93             |  1.000e-04   0.000e+00 |\n",
      "19:38:27 37 /100  |   2.9857     0.1386     2.8471 |   1.000000   0.0000e+00 |   0.6663    50           |   2.9876     0.1405     2.8471 |   0.5245    93             |  1.000e-04   0.000e+00 |\n",
      "19:40:35 38 /100  |   2.9851     0.1380     2.8471 |   1.000000   0.0000e+00 |   0.6743    50           |   2.9876     0.1405     2.8471 |   0.4989    93             |  1.000e-04   0.000e+00 |\n",
      "19:42:42 39 /100  |   2.9845     0.1374     2.8470 |   1.000000   0.0000e+00 |   0.6756    50           |   2.9866     0.1395     2.8471 |   0.4915    93             |  1.000e-04   0.000e+00 |\n",
      "19:44:49 40 /100  |   2.9839     0.1368     2.8470 |   1.000000   0.0000e+00 |   0.6792    50           |   2.9860     0.1389     2.8471 |   0.5132    93             |  1.000e-04   0.000e+00 |\n",
      "19:46:55 41 /100  |   2.9833     0.1363     2.8470 |   1.000000   0.0000e+00 |   0.6818    50           |   2.9855     0.1384     2.8471 |   0.5231    93             |  1.000e-04   0.000e+00 |\n",
      "19:49:03 42 /100  |   2.9828     0.1357     2.8470 |   1.000000   0.0000e+00 |   0.6865    50           |   2.9851     0.1379     2.8471 |   0.4743    93             |  1.000e-04   0.000e+00 |\n",
      "19:51:09 43 /100  |   2.9821     0.1351     2.8470 |   1.000000   0.0000e+00 |   0.6845    50           |   2.9845     0.1374     2.8471 |   0.5258    93             |  1.000e-04   0.000e+00 |\n",
      "19:53:17 44 /100  |   2.9819     0.1349     2.8470 |   1.000000   0.0000e+00 |   0.6853    50           |   2.9842     0.1371     2.8471 |   0.5201    93             |  1.000e-04   0.000e+00 |\n",
      "19:55:24 45 /100  |   2.9816     0.1346     2.8470 |   1.000000   0.0000e+00 |   0.6882    50           |   2.9839     0.1368     2.8471 |   0.5321    93             |  1.000e-04   0.000e+00 |\n",
      "19:57:31 46 /100  |   2.9810     0.1340     2.8470 |   1.000000   0.0000e+00 |   0.6895    50           |   2.9834     0.1363     2.8471 |   0.5522    93             |  1.000e-04   0.000e+00 |\n",
      "19:59:39 47 /100  |   2.9805     0.1335     2.8470 |   1.000000   0.0000e+00 |   0.6908    50           |   2.9830     0.1359     2.8471 |   0.5272    93             |  1.000e-04   0.000e+00 |\n",
      "20:01:45 48 /100  |   2.9801     0.1331     2.8470 |   1.000000   0.0000e+00 |   0.6895    50           |   2.9828     0.1357     2.8471 |   0.5323    93             |  1.000e-04   0.000e+00 |\n",
      "20:03:52 49 /100  |   2.9798     0.1328     2.8470 |   1.000000   0.0000e+00 |   0.6914    50           |   2.9824     0.1354     2.8471 |   0.5230    93             |  1.000e-04   0.000e+00 |\n",
      "20:05:59 50 /100  |   2.9795     0.1325     2.8470 |   1.000000   0.0000e+00 |   0.6917    50           |   2.9820     0.1349     2.8471 |   0.5371    93             |  1.000e-04   0.000e+00 |\n",
      "05:09:03 51 /100  |   2.9793     0.1323     2.8470 |   1.000000   0.0000e+00 |   0.6901    50           |   2.9821     0.1351     2.8470 |   0.4699    93             |  1.000e-04   0.000e+00 |\n",
      "05:11:11 52 /100  |   2.9790     0.1320     2.8470 |   1.000000   0.0000e+00 |   0.6876    50           |   2.9820     0.1350     2.8470 |   0.5243    93             |  1.000e-04   0.000e+00 |\n",
      "05:13:20 53 /100  |   2.9787     0.1318     2.8470 |   1.000000   0.0000e+00 |   0.6886    50           |   2.9815     0.1344     2.8470 |   0.5046    93             |  1.000e-04   0.000e+00 |\n",
      "05:15:28 54 /100  |   2.9784     0.1314     2.8469 |   1.000000   0.0000e+00 |   0.6852    50           |   2.9813     0.1343     2.8470 |   0.5154    93             |  1.000e-04   0.000e+00 |\n",
      "05:17:35 55 /100  |   2.9782     0.1313     2.8469 |   1.000000   0.0000e+00 |   0.6824    50           |   2.9810     0.1340     2.8470 |   0.5663    93             |  1.000e-04   0.000e+00 |\n",
      "05:19:44 56 /100  |   2.9779     0.1310     2.8469 |   1.000000   0.0000e+00 |   0.6815    50           |   2.9811     0.1341     2.8470 |   0.5273    93             |  1.000e-04   0.000e+00 |\n",
      "05:21:55 57 /100  |   2.9776     0.1307     2.8469 |   1.000000   0.0000e+00 |   0.6816    50           |   2.9808     0.1338     2.8470 |   0.5671    93             |  1.000e-04   0.000e+00 |\n",
      "05:24:08 58 /100  |   2.9772     0.1303     2.8469 |   1.000000   0.0000e+00 |   0.6762    50           |   2.9808     0.1338     2.8470 |   0.5529    93             |  1.000e-04   0.000e+00 |\n",
      "05:26:20 59 /100  |   2.9771     0.1302     2.8469 |   1.000000   0.0000e+00 |   0.6754    50           |   2.9800     0.1330     2.8470 |   0.5109    93             |  1.000e-04   0.000e+00 |\n",
      "05:28:27 60 /100  |   2.9769     0.1300     2.8469 |   1.000000   0.0000e+00 |   0.6729    50           |   2.9805     0.1336     2.8470 |   0.5506    93             |  1.000e-04   0.000e+00 |\n",
      "05:30:38 61 /100  |   2.9767     0.1298     2.8469 |   1.000000   0.0000e+00 |   0.6692    50           |   2.9798     0.1328     2.8470 |   0.4918    93             |  1.000e-04   0.000e+00 |\n",
      "05:32:49 62 /100  |   2.9765     0.1296     2.8469 |   1.000000   0.0000e+00 |   0.6721    50           |   2.9802     0.1332     2.8469 |   0.5395    93             |  1.000e-04   0.000e+00 |\n",
      "05:34:59 63 /100  |   2.9762     0.1294     2.8469 |   1.000000   0.0000e+00 |   0.6674    50           |   2.9795     0.1326     2.8469 |   0.5058    93             |  1.000e-04   0.000e+00 |\n",
      "05:37:06 64 /100  |   2.9760     0.1291     2.8469 |   1.000000   0.0000e+00 |   0.6670    50           |   2.9794     0.1325     2.8469 |   0.4485    93             |  1.000e-04   0.000e+00 |\n",
      "05:39:16 65 /100  |   2.9759     0.1290     2.8468 |   1.000000   0.0000e+00 |   0.6644    50           |   2.9794     0.1325     2.8469 |   0.5231    93             |  1.000e-04   0.000e+00 |\n",
      "05:41:27 66 /100  |   2.9759     0.1291     2.8468 |   1.000000   0.0000e+00 |   0.6666    50           |   2.9795     0.1326     2.8469 |   0.5242    93             |  1.000e-04   0.000e+00 |\n",
      "05:43:39 67 /100  |   2.9756     0.1288     2.8468 |   1.000000   0.0000e+00 |   0.6659    50           |   2.9794     0.1325     2.8469 |   0.5229    93             |  1.000e-04   0.000e+00 |\n",
      "05:45:50 68 /100  |   2.9753     0.1285     2.8468 |   0.683020   0.0000e+00 |   0.6646    50           |   2.9778     0.1322     2.8456 |   0.5333    93             |  1.000e-04   0.000e+00 |\n",
      "05:48:02 69 /100  |   2.9738     0.1283     2.8455 |   0.683020   0.0000e+00 |   0.6657    50           |   2.9777     0.1321     2.8456 |   0.5373    93             |  1.000e-04   0.000e+00 |\n",
      "05:50:13 70 /100  |   2.9737     0.1283     2.8455 |   0.683020   0.0000e+00 |   0.6619    50           |   2.9776     0.1321     2.8456 |   0.4902    93             |  1.000e-04   0.000e+00 |\n",
      "05:52:27 71 /100  |   2.9734     0.1280     2.8455 |   0.683020   0.0000e+00 |   0.6653    50           |   2.9773     0.1318     2.8455 |   0.5262    93             |  1.000e-04   0.000e+00 |\n",
      "05:54:48 72 /100  |   2.9733     0.1278     2.8454 |   0.683020   0.0000e+00 |   0.6610    50           |   2.9770     0.1314     2.8455 |   0.5346    93             |  1.000e-04   0.000e+00 |\n",
      "05:57:07 73 /100  |   2.9731     0.1277     2.8454 |   0.683020   0.0000e+00 |   0.6635    50           |   2.9768     0.1313     2.8455 |   0.5310    93             |  1.000e-04   0.000e+00 |\n",
      "05:59:28 74 /100  |   2.9729     0.1275     2.8454 |   0.683020   0.0000e+00 |   0.6598    50           |   2.9767     0.1313     2.8455 |   0.5283    93             |  1.000e-04   0.000e+00 |\n",
      "06:01:49 75 /100  |   2.9728     0.1275     2.8454 |   0.683020   0.0000e+00 |   0.6574    50           |   2.9766     0.1311     2.8455 |   0.5521    93             |  1.000e-04   0.000e+00 |\n",
      "06:04:10 76 /100  |   2.9725     0.1272     2.8453 |   0.683020   0.0000e+00 |   0.6599    50           |   2.9764     0.1310     2.8454 |   0.5133    93             |  1.000e-04   0.000e+00 |\n",
      "06:06:31 77 /100  |   2.9722     0.1268     2.8453 |   0.683020   0.0000e+00 |   0.6516    50           |   2.9760     0.1305     2.8455 |   0.5382    93             |  1.000e-04   0.000e+00 |\n",
      "06:08:53 78 /100  |   2.9719     0.1266     2.8453 |   0.683020   0.0000e+00 |   0.6457    50           |   2.9760     0.1306     2.8454 |   0.5242    93             |  1.000e-04   0.000e+00 |\n",
      "06:11:16 79 /100  |   2.9719     0.1265     2.8453 |   0.546491   0.0000e+00 |   0.6372    50           |   2.9747     0.1303     2.8444 |   0.5617    93             |  1.000e-04   0.000e+00 |\n",
      "06:13:45 80 /100  |   2.9705     0.1263     2.8442 |   0.546491   0.0000e+00 |   0.6302    50           |   2.9747     0.1303     2.8444 |   0.5202    93             |  1.000e-04   0.000e+00 |\n",
      "06:16:16 81 /100  |   2.9701     0.1259     2.8442 |   0.546491   0.0000e+00 |   0.6222    50           |   2.9741     0.1297     2.8443 |   0.5579    93             |  1.000e-04   0.000e+00 |\n",
      "06:18:48 82 /100  |   2.9697     0.1255     2.8442 |   0.546491   0.0000e+00 |   0.6236    50           |   2.9739     0.1295     2.8444 |   0.5680    93             |  1.000e-04   0.000e+00 |\n",
      "06:21:21 83 /100  |   2.9695     0.1253     2.8442 |   0.546491   0.0000e+00 |   0.6227    50           |   2.9735     0.1292     2.8443 |   0.4907    93             |  1.000e-04   0.000e+00 |\n",
      "06:23:52 84 /100  |   2.9694     0.1252     2.8442 |   0.546491   0.0000e+00 |   0.6232    50           |   2.9735     0.1292     2.8443 |   0.5424    93             |  1.000e-04   0.000e+00 |\n",
      "06:26:22 85 /100  |   2.9690     0.1249     2.8442 |   0.546491   0.0000e+00 |   0.6260    50           |   2.9728     0.1285     2.8443 |   0.5106    93             |  1.000e-04   0.000e+00 |\n",
      "06:28:52 86 /100  |   2.9685     0.1243     2.8442 |   0.546491   0.0000e+00 |   0.6343    50           |   2.9724     0.1281     2.8443 |   0.5329    93             |  1.000e-04   0.000e+00 |\n",
      "06:31:24 87 /100  |   2.9682     0.1241     2.8442 |   0.546491   0.0000e+00 |   0.6356    50           |   2.9723     0.1280     2.8443 |   0.5373    93             |  1.000e-04   0.000e+00 |\n",
      "06:33:55 88 /100  |   2.9680     0.1239     2.8441 |   0.546491   0.0000e+00 |   0.6455    50           |   2.9724     0.1282     2.8443 |   0.5363    93             |  1.000e-04   0.000e+00 |\n",
      "06:36:26 89 /100  |   2.9677     0.1236     2.8441 |   0.546491   0.0000e+00 |   0.6475    50           |   2.9717     0.1274     2.8443 |   0.5160    93             |  1.000e-04   0.000e+00 |\n",
      "06:38:58 90 /100  |   2.9675     0.1234     2.8441 |   0.466516   0.0000e+00 |   0.6558    50           |   2.9710     0.1277     2.8433 |   0.5721    93             |  1.000e-04   0.000e+00 |\n",
      "06:41:29 91 /100  |   2.9662     0.1231     2.8432 |   0.466516   0.0000e+00 |   0.6596    50           |   2.9704     0.1270     2.8434 |   0.5337    93             |  1.000e-04   0.000e+00 |\n",
      "06:43:59 92 /100  |   2.9658     0.1226     2.8432 |   0.466516   0.0000e+00 |   0.6645    50           |   2.9702     0.1268     2.8434 |   0.5484    93             |  1.000e-04   0.000e+00 |\n",
      "06:46:31 93 /100  |   2.9655     0.1224     2.8432 |   0.466516   0.0000e+00 |   0.6692    50           |   2.9700     0.1267     2.8433 |   0.6036    93             |  1.000e-04   0.000e+00 |\n",
      "06:49:05 94 /100  |   2.9653     0.1222     2.8432 |   0.466516   0.0000e+00 |   0.6707    50           |   2.9699     0.1265     2.8433 |   0.5489    93             |  1.000e-04   0.000e+00 |\n",
      "06:51:35 95 /100  |   2.9651     0.1220     2.8432 |   0.466516   0.0000e+00 |   0.6692    50           |   2.9699     0.1266     2.8433 |   0.5547    93             |  1.000e-04   0.000e+00 |\n",
      "06:54:04 96 /100  |   2.9650     0.1219     2.8431 |   0.466516   0.0000e+00 |   0.6734    50           |   2.9692     0.1259     2.8433 |   0.5347    93             |  1.000e-04   0.000e+00 |\n",
      "06:56:35 97 /100  |   2.9647     0.1215     2.8431 |   0.466516   0.0000e+00 |   0.6737    50           |   2.9694     0.1262     2.8433 |   0.5691    93             |  1.000e-04   0.000e+00 |\n",
      "06:59:04 98 /100  |   2.9645     0.1214     2.8431 |   0.466516   0.0000e+00 |   0.6748    50           |   2.9690     0.1257     2.8433 |   0.5296    93             |  1.000e-04   0.000e+00 |\n",
      "07:01:34 99 /100  |   2.9643     0.1212     2.8431 |   0.466516   0.0000e+00 |   0.6769    50           |   2.9689     0.1257     2.8432 |   0.5939    93             |  1.000e-04   0.000e+00 |\n",
      "07:04:03 100/100  |   2.9640     0.1210     2.8430 |   0.466516   0.0000e+00 |   0.6726    50           |   2.9686     0.1254     2.8432 |   0.4830    93             |  1.000e-04   0.000e+00 |\n"
     ]
    }
   ],
   "source": [
    "for epoch in range(model.ending_epoch):\n",
    "    display_epoch_metrics(model, epoch)"
   ]
  },
  {
   "cell_type": "code",
   "execution_count": 28,
   "id": "03e71f2a-4b3c-4554-8cb8-e4a25d56db61",
   "metadata": {
    "execution": {
     "iopub.execute_input": "2024-07-08T17:09:47.947526Z",
     "iopub.status.busy": "2024-07-08T17:09:47.946353Z",
     "iopub.status.idle": "2024-07-08T17:09:48.019115Z",
     "shell.execute_reply": "2024-07-08T17:09:48.017902Z",
     "shell.execute_reply.started": "2024-07-08T17:09:47.947472Z"
    }
   },
   "outputs": [
    {
     "name": "stdout",
     "output_type": "stream",
     "text": [
      " 20240708_190948  epoch  101 of  200\n"
     ]
    }
   ],
   "source": [
    "# model.starting_epoch = 59\n",
    "# epochs = 100\n",
    "# model.ending_epoch = 100\n",
    "model.starting_epoch = model.ending_epoch\n",
    "model.ending_epoch += 100\n",
    "\n",
    "print(f\" {datetime.now().strftime('%Y%m%d_%H%M%S')}  epoch {model.starting_epoch+1:4d} of {model.ending_epoch:4d}\")"
   ]
  },
  {
   "cell_type": "markdown",
   "id": "d989aa94-f3ce-4ece-8467-75d6028f66cc",
   "metadata": {
    "jp-MarkdownHeadingCollapsed": true
   },
   "source": [
    "## Misc stuff"
   ]
  },
  {
   "cell_type": "code",
   "execution_count": null,
   "id": "7b508dd5-2754-4906-9e1e-72c755e90592",
   "metadata": {},
   "outputs": [],
   "source": [
    "# save_checkpoint_v3(1, model, args, update_latest=True)  "
   ]
  },
  {
   "cell_type": "code",
   "execution_count": null,
   "id": "7f79f504-b6a9-49c6-96a8-95dedace8b88",
   "metadata": {},
   "outputs": [],
   "source": [
    "# model.temperature.data\n",
    "# model.snnl_criterion.temperature\n",
    "display_epoch_metrics(model, epoch, model.ending_epoch, header = True)"
   ]
  },
  {
   "cell_type": "code",
   "execution_count": null,
   "id": "fec14ff8-91aa-409d-b381-8e6344c7e385",
   "metadata": {},
   "outputs": [],
   "source": [
    "# model.starting_epoch, model.ending_epoch = 0, 2\n",
    "# epoch = 1\n",
    "# model.temperature = torch.abs(model.temperature)\n",
    "# model.temperature = torch.nn.Parameter(torch.clip(model.temperature, 0.001, None))\n",
    "# model.snnl_criterion.temperature= torch.nn.Parameter(torch.clip(model.snnl_criterion.temperature, 0.001, None))"
   ]
  },
  {
   "cell_type": "code",
   "execution_count": null,
   "id": "da9d2e60-6a22-4959-9cd1-c58ec2ac987a",
   "metadata": {},
   "outputs": [],
   "source": [
    "# model.temperature.data\n",
    "# model.snnl_criterion.temperature"
   ]
  },
  {
   "cell_type": "code",
   "execution_count": null,
   "id": "4cb33f46-7cda-4178-b435-9a9bcd9f52f0",
   "metadata": {},
   "outputs": [],
   "source": [
    "# model.starting_epoch, model.ending_epoch = 0, 2\n",
    "# epoch = 1\n",
    "# model.temperature = torch.abs(model.temperature)\n",
    "# model.temperature = torch.nn.Parameter(torch.clip(model.temperature, 0.001, None))\n",
    "# model.snnl_criterion.temperature= torch.nn.Parameter(torch.clip(model.snnl_criterion.temperature, 0.001, None))"
   ]
  },
  {
   "cell_type": "code",
   "execution_count": null,
   "id": "fbe95719-d1e2-46fd-984c-51c47775609c",
   "metadata": {},
   "outputs": [],
   "source": [
    "model.state_dict().keys()\n",
    "# for k in ['temperature', 'snnl_criterion.temperature'\n",
    "for k in ['temperature', 'snnl_criterion.temperature','layers.0.weight', 'layers.0.bias','layers.2.weight','layers.4.weight','layers.4.bias','layers.5.weight','layers.5.bias','layers.7.weight','layers.9.weight','layers.9.bias',]:\n",
    "    if model.state_dict()[k].ndim > 1:\n",
    "        print(f\" {k+' - '+str(model.state_dict()[k].shape):45s} - {model.state_dict()[k][:3,:3].reshape((-1)).data}\")\n",
    "    else:\n",
    "        print(f\" {k+' - '+str(model.state_dict()[k].shape):45s} - {model.state_dict()[k][:9].data}\")\n"
   ]
  },
  {
   "cell_type": "code",
   "execution_count": null,
   "id": "f21452ed-9eb6-42f7-bc00-8e3a3ce7d9b6",
   "metadata": {},
   "outputs": [],
   "source": []
  },
  {
   "cell_type": "code",
   "execution_count": null,
   "id": "8ce2e264-519c-45f5-b5f1-ad8fe822e26e",
   "metadata": {},
   "outputs": [],
   "source": []
  },
  {
   "cell_type": "markdown",
   "id": "9d7f6ece-b0e4-4e64-bc35-928a3c3f961d",
   "metadata": {
    "jp-MarkdownHeadingCollapsed": true
   },
   "source": [
    "# Plot losses, weights, biases and gradients"
   ]
  },
  {
   "cell_type": "code",
   "execution_count": null,
   "id": "abc9b289-e042-4243-a2b4-c76751589ac3",
   "metadata": {},
   "outputs": [],
   "source": [
    "# if 0:\n",
    "#     model_attributes = model.__dict__\n",
    "#     model.training_history['train'].keys()\n",
    "#     for key, value in model.training_history['train'].items():\n",
    "#         if isinstance(value, List) or key in [\"test_accuracy\", \"test_f1\"]:\n",
    "#             print(f\"{key:25s} {type(value)}  {len(value):7d}  {value[-5:]}\")\n",
    "#     print()\n",
    "#     for key, value in model.training_history['val'].items():\n",
    "#         if isinstance(value, List) or key in [\"test_accuracy\", \"test_f1\"]:\n",
    "#             print(f\"{key:25s} {type(value)}  {len(value):7d}  {value[-5:]}\")        "
   ]
  },
  {
   "cell_type": "code",
   "execution_count": null,
   "id": "fbb441d8-ba3d-4540-abcc-e40aaaa3dd2e",
   "metadata": {},
   "outputs": [],
   "source": [
    "# tmp = np.array(model.training_history['train']['temp_grads'])\n",
    "# for st in range(0,len(tmp), 1000):\n",
    "#     end = st + 1000\n",
    "#     print(f\" {st:5d} - {end:5d}  min: {tmp[st:end].min():9e}   max: {tmp[st:end].max():9e}    avg: {tmp[st:end].mean():9e}   std: {tmp[st:end].std():9e}\")"
   ]
  },
  {
   "cell_type": "code",
   "execution_count": 26,
   "id": "2bc8de25-ddde-4d2c-b97f-1da1d375c991",
   "metadata": {
    "execution": {
     "iopub.execute_input": "2024-07-08T17:07:20.424247Z",
     "iopub.status.busy": "2024-07-08T17:07:20.423735Z",
     "iopub.status.idle": "2024-07-08T17:07:21.415852Z",
     "shell.execute_reply": "2024-07-08T17:07:21.414805Z",
     "shell.execute_reply.started": "2024-07-08T17:07:20.424213Z"
    },
    "scrolled": true
   },
   "outputs": [
    {
     "data": {
      "image/png": "[encoded data removed]",
      "text/plain": [
       "<Figure size 2000x400 with 5 Axes>"
      ]
     },
     "metadata": {},
     "output_type": "display_data"
    }
   ],
   "source": [
    "plot_train_history(model, start= 0, n_bins = 25)"
   ]
  },
  {
   "cell_type": "code",
   "execution_count": null,
   "id": "533b465a-6b4a-4696-a014-793b8f7df079",
   "metadata": {
    "scrolled": true
   },
   "outputs": [],
   "source": [
    "plot_train_history(model, start= 0, n_bins = 25)"
   ]
  },
  {
   "cell_type": "code",
   "execution_count": null,
   "id": "85774d06-9f14-4b02-b0c6-b8c60ba92ffa",
   "metadata": {
    "jupyter": {
     "source_hidden": true
    },
    "scrolled": true
   },
   "outputs": [],
   "source": [
    "plot_train_history(model, start= 0, n_bins = 25)"
   ]
  },
  {
   "cell_type": "code",
   "execution_count": null,
   "id": "f6b91b33-81bd-47e8-aa8e-bda1bd4d4583",
   "metadata": {
    "scrolled": true
   },
   "outputs": [],
   "source": [
    "plot_train_history(model, start= 100, n_bins = 25)"
   ]
  },
  {
   "cell_type": "code",
   "execution_count": null,
   "id": "5d4eae70-3b13-4893-b485-f8ad87b4cd68",
   "metadata": {
    "scrolled": true
   },
   "outputs": [],
   "source": [
    "plot_train_history(model, start= 10, n_bins = 25)"
   ]
  },
  {
   "cell_type": "code",
   "execution_count": null,
   "id": "bc760f53-8449-4d3a-a274-f11108ed4784",
   "metadata": {
    "scrolled": true
   },
   "outputs": [],
   "source": [
    "plot_train_history(model, start= 10, n_bins = 25)"
   ]
  },
  {
   "cell_type": "code",
   "execution_count": null,
   "id": "7f50fdb6-0457-4cd3-b958-65bb44e4216d",
   "metadata": {},
   "outputs": [],
   "source": [
    "plot_model_parms(model, epochs= epochs, n_bins = 15)"
   ]
  },
  {
   "cell_type": "code",
   "execution_count": 27,
   "id": "f992e4e5-ea68-4617-8c16-01dfc22f6b94",
   "metadata": {
    "execution": {
     "iopub.execute_input": "2024-07-08T17:07:44.017823Z",
     "iopub.status.busy": "2024-07-08T17:07:44.017307Z",
     "iopub.status.idle": "2024-07-08T17:07:44.365675Z",
     "shell.execute_reply": "2024-07-08T17:07:44.364834Z",
     "shell.execute_reply.started": "2024-07-08T17:07:44.017782Z"
    },
    "scrolled": true
   },
   "outputs": [
    {
     "data": {
      "image/png": "[encoded data removed]",
      "text/plain": [
       "<Figure size 400x400 with 1 Axes>"
      ]
     },
     "metadata": {},
     "output_type": "display_data"
    }
   ],
   "source": [
    "from snnl.utils import plot_regression_metrics\n",
    "# plot_train_metrics(model, n_bins = 25)\n",
    "plot_regression_metrics(model, n_bins = 25)"
   ]
  },
  {
   "cell_type": "markdown",
   "id": "21726628-2b16-477a-bfe7-0a0ac53130eb",
   "metadata": {
    "jp-MarkdownHeadingCollapsed": true
   },
   "source": [
    "# Save model results and model"
   ]
  },
  {
   "cell_type": "code",
   "execution_count": null,
   "id": "a4bb9a8d-9d90-40e8-90d1-9e970497568b",
   "metadata": {},
   "outputs": [],
   "source": [
    "# import datetime.timezone\n",
    "# datetime.timetz()\n",
    "compounds_per_batch = cellpainting_args['compounds_per_batch']\n",
    "title=\"autoencoder\"\n",
    "epochs_num = epochs\n",
    "timestamp = datetime.now().strftime('%Y%m%d')\n",
    "filename = f\"AE_{args.model.lower()}_{timestamp}_{title}_{epochs_num:03d}_cpb_{compounds_per_batch}_factor_{int(snnl_factor):d}\"\n",
    "print(f\"saved to {filename}\")"
   ]
  },
  {
   "cell_type": "code",
   "execution_count": null,
   "id": "8364b7ba-8d33-41ac-b30f-0c39759a9772",
   "metadata": {},
   "outputs": [],
   "source": [
    "# save_model(model, filename)\n",
    "# export_results(model=model, filename=filename)\n",
    "# save_checkpoint(epochs, model, filename, update_latest=False, update_best=False)"
   ]
  },
  {
   "cell_type": "code",
   "execution_count": null,
   "id": "5738408d-29ca-46b4-8c79-6f184958acf0",
   "metadata": {},
   "outputs": [],
   "source": [
    "model.name\n",
    "args.runmode\n",
    "ex_timestamp\n",
    "ex_title\n",
    "epoch\n",
    "args.compounds_per_batch\n",
    "model.snnl_factor"
   ]
  },
  {
   "cell_type": "code",
   "execution_count": null,
   "id": "393af8c8-cf02-455f-a810-b68a7637c07e",
   "metadata": {},
   "outputs": [],
   "source": [
    "filename = f\"{model.name}_{args.runmode}_{args.exp_date}_{args.exp_title}_ep_{epoch+1:03d}\"\n",
    "print(filename)"
   ]
  },
  {
   "cell_type": "code",
   "execution_count": null,
   "id": "38e9d094-6432-4eb7-9ce7-f07b01a01a87",
   "metadata": {},
   "outputs": [],
   "source": [
    "filename = f\"{model.name}_{args.model.lower()}_{ex_timestamp}_{ex_title}_{epoch+1:03d}_cpb_{args.compounds_per_batch}_copy\"\n",
    "print(filename)\n",
    "    # export_results(model=model, filename=filename)\n",
    "save_checkpoint_2(epochs, model, filename, update_latest=False, update_best=False)  "
   ]
  },
  {
   "cell_type": "markdown",
   "id": "75fb4184-7640-4cc5-bf19-249ebb9fc072",
   "metadata": {
    "execution": {
     "iopub.execute_input": "2024-04-01T00:58:52.961399Z",
     "iopub.status.busy": "2024-04-01T00:58:52.960920Z"
    },
    "jp-MarkdownHeadingCollapsed": true
   },
   "source": [
    "# Load model"
   ]
  },
  {
   "cell_type": "code",
   "execution_count": null,
   "id": "c914b200-c783-4477-9ca7-3370a23ec595",
   "metadata": {},
   "outputs": [],
   "source": [
    "ex_epoch = 50\n",
    "ex_runmode = 'snnl'\n",
    "ex_date = '20240509'\n",
    "ex_title = args.exp_title\n",
    "compounds_per_batch = args.compounds_per_batch\n"
   ]
  },
  {
   "cell_type": "code",
   "execution_count": null,
   "id": "4e833db8-a709-4f76-9346-fd582b95ab70",
   "metadata": {},
   "outputs": [],
   "source": [
    "# filename = f\"{model.name}_{ex_runmode}_{ex_date}_{ex_title}_{epochs:03d}_cpb_{ex_cpb}_factor_{ex_factor:d}.pt\"\n",
    "# file_pattern = f\"{model.name}_{ex_runmode}_{ex_date}_{ex_title}_*_cpb_{ex_cpb}_factor_{ex_factor:d}.pt\"\n",
    "filename = f\"{model.name}_{ex_runmode}_{ex_date}_{ex_title}_{epochs:03d}.pt\"\n",
    "print(filename)\n",
    "file_pattern = f\"{model.name}_{ex_runmode}_{ex_date}_{ex_title}_ep_*.pt\"\n",
    "print(file_pattern)"
   ]
  },
  {
   "cell_type": "code",
   "execution_count": null,
   "id": "52e8f566-6c23-496e-a8ec-08d0e2e2a51b",
   "metadata": {},
   "outputs": [],
   "source": [
    "import glob\n",
    "filelist = glob.glob(file_pattern,root_dir = './ckpts')\n",
    "filelist = sorted(filelist)\n",
    "filelist\n",
    "epochlist =sorted([int(x[-6:-3]) for x in filelist])\n",
    "epochlist\n",
    " "
   ]
  },
  {
   "cell_type": "code",
   "execution_count": null,
   "id": "a14169e7-a006-4582-9a6c-586a58b590b4",
   "metadata": {},
   "outputs": [],
   "source": [
    "# runmode = 'snnl'\n",
    "# ex_date = '20240516'\n",
    "# ex_title = args.exp_title\n",
    "ex_epoch = 200"
   ]
  },
  {
   "cell_type": "code",
   "execution_count": null,
   "id": "a71ca7cd-8258-49ca-b2d6-16268bd34dc7",
   "metadata": {},
   "outputs": [],
   "source": [
    "filename = f\"{model.name}_{args.runmode}_{exp_date}_{exp_title}_ep_{exp_epoch:03d}\"   \n",
    "if filename[-3:] != '.pt':\n",
    "    filename+='.pt'\n",
    "print(filename)\n",
    "\n",
    "if os.path.exists(os.path.join('ckpts', filename)):\n",
    "    print(f\"\\n *** Checkpoint EXISTS *** \\n\")\n",
    "else:\n",
    "    print(f\"\\n *** Checkpoint DOESNT EXIST *** \\n\")"
   ]
  },
  {
   "cell_type": "code",
   "execution_count": null,
   "id": "2d6a57df-2a6c-4ca5-8bc0-0672d1c03901",
   "metadata": {
    "scrolled": true
   },
   "outputs": [],
   "source": [
    "mdl , last_epoch = load_checkpoint_v2(model, filename)  \n",
    "print(f\" last epoch : {last_epoch}\")"
   ]
  },
  {
   "cell_type": "code",
   "execution_count": null,
   "id": "e2d9ae15-ccde-43b4-b7ae-75c3c2ffe377",
   "metadata": {},
   "outputs": [],
   "source": [
    "print(current_device)\n",
    "print(model.device)\n",
    "model.device = current_device\n",
    "print(model.device)"
   ]
  },
  {
   "cell_type": "code",
   "execution_count": null,
   "id": "00c841d7-6d85-438c-a7da-e8026fb4f644",
   "metadata": {},
   "outputs": [],
   "source": [
    "print(current_device)\n",
    "model.train()\n",
    "model = model.cuda(device=current_device)"
   ]
  },
  {
   "cell_type": "code",
   "execution_count": null,
   "id": "a2ddb4f9-b6fa-4c44-8cef-ccdaa99ce49b",
   "metadata": {},
   "outputs": [],
   "source": [
    "starting_epoch, epochs, "
   ]
  },
  {
   "cell_type": "code",
   "execution_count": null,
   "id": "25b03053-b090-4116-898a-acbfb8add271",
   "metadata": {},
   "outputs": [],
   "source": [
    "print(f\" last epoch  {last_epoch}\")"
   ]
  },
  {
   "cell_type": "code",
   "execution_count": null,
   "id": "eb1241f9-4ad1-425f-8526-43c5cd89859c",
   "metadata": {},
   "outputs": [],
   "source": [
    "# starting_epoch = 20\n",
    "starting_epoch = last_epoch\n",
    "epochs = last_epoch + 100\n",
    "# starting_epoch = epoch + 1\n",
    "print(f\" run epochs {starting_epoch+1} to {epochs} \")"
   ]
  },
  {
   "cell_type": "code",
   "execution_count": null,
   "id": "361a2ba1-0bac-4ff8-aa08-950fe7fe2302",
   "metadata": {},
   "outputs": [],
   "source": [
    "print()\n",
    "print(f\" model device         : {model.device}\")\n",
    "print(f\" model temperature    : {model.temperature}\")\n",
    "print() \n",
    "print(f\" loss_factor          : {model.loss_factor}\")\n",
    "print(f\" monitor_grads_layer  : {model.monitor_grads_layer}\")\n",
    "print(f\" Learning rate        : {model.optimizer.param_groups[0]['lr']}\") \n",
    "print(f\" snnl_factor          : {model.snnl_factor}\")\n",
    "if model.use_snnl:\n",
    "    print(f\" temperature          : {model.temperature.item()}\")\n",
    "if model.temp_optimizer is not None:\n",
    "    print(f\" Temperature LR       : {model.temp_optimizer.param_groups[0]['lr']}\") \n",
    "print()\n",
    "\n",
    "for th_key in ['trn', 'val']:\n",
    "    for k,v in model.training_history[th_key].items():\n",
    "        if isinstance(v[-1],str):\n",
    "            print(f\" {k:20s} : {v[-1]:s}  \")\n",
    "        else:\n",
    "            print(f\" {k:20s} : {v[-1]:6f} \")\n",
    "    print()\n"
   ]
  },
  {
   "cell_type": "code",
   "execution_count": null,
   "id": "6a4b320a-e40a-47b2-886f-6130c314afb8",
   "metadata": {
    "scrolled": true
   },
   "outputs": [],
   "source": [
    "model.optimizer.__dict__\n",
    "print()"
   ]
  },
  {
   "cell_type": "code",
   "execution_count": null,
   "id": "903b5c7a-4271-4659-857d-29ee395daedc",
   "metadata": {},
   "outputs": [],
   "source": [
    "model.scheduler.__dict__"
   ]
  },
  {
   "cell_type": "code",
   "execution_count": null,
   "id": "35c66518-e1f1-4c19-9aa0-27bb21a0c68d",
   "metadata": {
    "scrolled": true
   },
   "outputs": [],
   "source": [
    "model.temp_optimizer.__dict__\n",
    "print()"
   ]
  },
  {
   "cell_type": "code",
   "execution_count": null,
   "id": "5cbf6a8e-28bd-461e-ac24-0f9ba13858b1",
   "metadata": {
    "scrolled": true
   },
   "outputs": [],
   "source": [
    "model.temp_scheduler.__dict__"
   ]
  },
  {
   "cell_type": "markdown",
   "id": "e3e262c8-1ce5-44b8-9068-35c71d7123ab",
   "metadata": {},
   "source": [
    "# Misc code"
   ]
  },
  {
   "cell_type": "code",
   "execution_count": null,
   "id": "cc884bcb-58de-427c-979a-c6cc15ed0aa2",
   "metadata": {},
   "outputs": [],
   "source": [
    "if # model_attributes = model.__dict__\n",
    "# from collections import defaultdict\n",
    "# output = defaultdict(dict)\n",
    "\n",
    "# for key, value in model_attributes.items():\n",
    "#         if key[0] == \"_\" or type(value) in [torch.device, torch.optim.Adam , torch.optim.SGD]:\n",
    "#             continue\n",
    "#         if key == 'training_history':\n",
    "#             output[key] = value\n",
    "#         else:\n",
    "#             output['params'][key] = value\n",
    "#             print(f\" {key:30s}    {type(value)}   \")\n",
    "\n",
    "# output.keys()\n",
    "# output['params']\n",
    "# output['training_history'].keys()"
   ]
  },
  {
   "cell_type": "code",
   "execution_count": null,
   "id": "41a232e9-2360-4f04-811a-73533f0b5817",
   "metadata": {},
   "outputs": [],
   "source": [
    "# for k in results.keys():\n",
    "#     print(f\" key: {k:30s}  length of - loaded results: {len(results[k])}  existing model: {len(model.__dict__[k])}\" )\n",
    "#     model.__dict__[k] = results[k]"
   ]
  },
  {
   "cell_type": "code",
   "execution_count": null,
   "id": "49bbef6c-e864-4f37-be75-c0a71b40ca6b",
   "metadata": {},
   "outputs": [],
   "source": [
    "# for key in ['trn', 'val']:\n",
    "#     del_keys = []\n",
    "#     for k,v in model.training_history[key].items():\n",
    "#         print(k, len(v))\n",
    "#         if len(v) == 0 :\n",
    "#             del_keys.append(k)\n",
    "#     del_keys\n",
    "#     for k in del_keys:    \n",
    "#         del  model.training_history[key][k]\n",
    "#     print('-----------------------')\n",
    "\n",
    "# model.training_history['val'].keys()\n",
    "# np.argmin(model.training_history['trn']['trn_ttl_loss']), np.min(model.training_history['trn']['trn_ttl_loss'] )\n",
    "# np.argmin(model.training_history['trn']['trn_prim_loss']),np.min(model.training_history['trn']['trn_prim_loss']), np.min(model.training_history['trn']['trn_prim_loss'])  / model.loss_factor\n",
    "# np.argmin(model.training_history['trn']['trn_snn_loss']), np.min(model.training_history['trn']['trn_snn_loss'] ),  np.min(model.training_history['trn']['trn_snn_loss'] ) / model.snnl_factor\n",
    "# print()\n",
    "# np.argmin(model.training_history['val']['val_ttl_loss']) , np.min(model.training_history['val']['val_ttl_loss'] )\n",
    "# np.argmin(model.training_history['val']['val_prim_loss']), np.min(model.training_history['val']['val_prim_loss']), np.min(model.training_history['val']['val_prim_loss']) / model.loss_factor\n",
    "# np.argmin(model.training_history['val']['val_snn_loss']) , np.min(model.training_history['val']['val_snn_loss'] ), np.min(model.training_history['val']['val_snn_loss'] ) / model.snnl_factor\n",
    "\n",
    "# model.optimizer\n",
    "# model.optimizer.state_dict()\n",
    "# model.optimizer.param_groups[0]['lr'], model.optimizer.param_groups[1]['lr']\n",
    "# model.scheduler.__dict__\n",
    "\n",
    "# model.temp_optimizer\n",
    "# model.temp_scheduler.__dict__\n",
    "# model.temp_scheduler = model._ReduceLROnPlateau(model.temp_optimizer, mode='min', factor=0.75, patience=35, \n",
    "                                              # threshold=1.0e-7, threshold_mode='rel', \n",
    "                                              # cooldown=15, min_lr=0, eps=1e-08, verbose =True)  \n",
    "# model.temp_scheduler['patience'] = 35"
   ]
  },
  {
   "cell_type": "code",
   "execution_count": null,
   "id": "73b1ca58-74c2-440b-8482-f7b634cdab4e",
   "metadata": {},
   "outputs": [],
   "source": [
    "# temp_params = [p for name, p in model.named_parameters() if 'temperature' in name]\n",
    "# network_params = [p for name, p in model.named_parameters() if 'temperature' not in name]\n",
    "# for t in temp_params:\n",
    "#     t.requires_grad = False "
   ]
  },
  {
   "cell_type": "code",
   "execution_count": null,
   "id": "47d38f37-c7f0-4be6-a762-202604f167dd",
   "metadata": {},
   "outputs": [],
   "source": [
    "# model.optimizer = torch.optim.Adam(params = network_params, lr=0.001, weight_decay = 0.1)\n",
    "# # if self.use_snnl:\n",
    "# #     self.optimizer.add_param_group({'params': temp_params, 'lr': temperatureLR, 'weight_decay': adam_weight_decay})\n",
    "\n",
    "# if model.use_scheduler:\n",
    "#     model.scheduler = model._ReduceLROnPlateau(model.optimizer, mode='min', factor=0.5, patience=40, threshold=0.000001, \n",
    "#                                              threshold_mode='rel', cooldown=10, min_lr=0, eps=1e-08, verbose =True) "
   ]
  },
  {
   "cell_type": "code",
   "execution_count": 16,
   "id": "1e3d29f1-9655-4127-a8ea-b7dad4a0247e",
   "metadata": {
    "execution": {
     "iopub.execute_input": "2024-07-08T20:20:54.524622Z",
     "iopub.status.busy": "2024-07-08T20:20:54.523681Z",
     "iopub.status.idle": "2024-07-08T20:20:54.571178Z",
     "shell.execute_reply": "2024-07-08T20:20:54.570250Z",
     "shell.execute_reply.started": "2024-07-08T20:20:54.524581Z"
    }
   },
   "outputs": [],
   "source": [
    "\n",
    "# if self.use_annealing andd self.best_metric - self.training_history[key][f\"{key}_R2_score\"][-1] < 1.0e-05:\n",
    "#     self.R2_improvment_counter += 1\n",
    "#     if self.R2_improvement_counter > 10:\n",
    "#         with torch.no_grad():\n",
    "#             self.temperature.copy_(1.0 / ((1.0 + self.temp_decay_counter) ** 0.55))\n",
    "#         self.temp_decay_counter += 1\n",
    "#         self.R2_improvement_counter = 0\n",
    "#         # print(f\" {epoch} - anneal temp  -  before: {temp_before:10.6f}     new_temp: {self.temperature.item():10.6f} \")\n",
    " "
   ]
  },
  {
   "cell_type": "code",
   "execution_count": 22,
   "id": "e7a7e66d-b69a-452c-9495-b8d4538d8b4d",
   "metadata": {
    "execution": {
     "iopub.execute_input": "2024-07-08T20:25:58.347195Z",
     "iopub.status.busy": "2024-07-08T20:25:58.346478Z",
     "iopub.status.idle": "2024-07-08T20:25:58.404901Z",
     "shell.execute_reply": "2024-07-08T20:25:58.404158Z",
     "shell.execute_reply.started": "2024-07-08T20:25:58.347153Z"
    }
   },
   "outputs": [],
   "source": [
    "def load_checkpoint_v4(model, filename, dryrun = False,verbose=False):\n",
    "    epoch = -1\n",
    "    if filename[-3:] != '.pt':\n",
    "        filename+='.pt'\n",
    "    logging.info(f\" Load model checkpoint from  {filename}\")    \n",
    "    ckpt_file = os.path.join(\"ckpts\", filename)\n",
    "    print(ckpt_file)\n",
    "    try:\n",
    "        checkpoint = torch.load(ckpt_file)\n",
    "    except FileNotFoundError:\n",
    "        Exception(\"Previous state checkpoint not found.\")\n",
    "        print(\"FileNotFound Exception\")\n",
    "    except :\n",
    "        print(\"Other Exception\")\n",
    "        print(sys.exc_info())\n",
    "        \n",
    "    print(checkpoint.keys())\n",
    "    for key, value in checkpoint.items():\n",
    "        logging.debug(f\"{key:40s}, {str(type(value)):60s}  -- model attr set\")\n",
    "    \n",
    "    if not dryrun:\n",
    "        model.load_state_dict(checkpoint['state_dict'])\n",
    "        if verbose:\n",
    "            print(f\"model state dict:\\n {checkpoint['state_dict'].keys()}\")\n",
    "            print(f\"   temperature  :   {checkpoint['state_dict']['temperature'].item()}\")\n",
    "            print(f\"   snnl_criterion.temperature: {checkpoint['state_dict']['snnl_criterion.temperature'].item()}\")\n",
    "\n",
    "        for key, value in checkpoint['params'].items():\n",
    "            logging.debug(f\"{key:40s}, {str(type(value)):60s}  -- model attr set\")\n",
    "            model.__dict__[key] = value\n",
    "            \n",
    "        model.optimizers = {k:v for k,v in checkpoint['optimizers'].items()}\n",
    "        model.schedulers = {k:v for k,v in checkpoint['schedulers'].items()}\n",
    "        \n",
    "        for k,v in checkpoint['optimizers_state_dict'].items():\n",
    "            model.optimizers[k].load_state_dict(v)\n",
    "        for k,v in checkpoint['schedulers_state_dict'].items():\n",
    "            model.schedulers[k].load_state_dict(v)\n",
    "\n",
    "        # if model.optimizer is not None:\n",
    "        #     model.optimizer.load_state_dict(checkpoint['optimizer_state_dict'])\n",
    "        #     if verbose:\n",
    "        #         print(f\"optimizer state dict:\\n {checkpoint['optimizer_state_dict']['param_groups']}\")\n",
    "\n",
    "        # if model.scheduler is not None:\n",
    "        #     model.scheduler.load_state_dict(checkpoint['scheduler_state_dict'])\n",
    "        #     if verbose:\n",
    "        #         print(f\"scheduler state dict:\\n  {checkpoint['scheduler_state_dict']}\")           \n",
    "        \n",
    "        # if model.temp_optimizer is not None:\n",
    "        #     model.temp_optimizer.load_state_dict(checkpoint['temp_optimizer_state_dict'])\n",
    "        #     if verbose:\n",
    "        #         print(f\"temp optimizer state dict:\\n  {checkpoint['temp_optimizer_state_dict']['param_groups']}\")\n",
    "            \n",
    "        # if model.temp_scheduler is not None:\n",
    "        #     model.temp_scheduler.load_state_dict(checkpoint['temp_scheduler_state_dict'])\n",
    "        #     if verbose:\n",
    "        #         print(f\"temp scheduler state dict:\\n  {checkpoint['temp_scheduler_state_dict']}\")\n",
    "    else:\n",
    "        for key, value in checkpoint['params'].items():\n",
    "            logging.debug(f\"{key:40s}, {str(type(value)):60s}  -- model attr set\")\n",
    "\n",
    "    epoch = checkpoint.get('epoch',-1)\n",
    "    logger.info(f\" ==> Loaded from checkpoint {filename} successfully. last epoch on checkpoint: {epoch}\")\n",
    "    logger.info(f\"     Model best metric      : {model.best_metric:6f} - epoch: {model.best_epoch}\") \n",
    "\n",
    "    if 'gen' not in model.training_history:\n",
    "        print(f\" Define self.training_history['gen'] \")\n",
    "        model.training_history['gen'] = {'trn_best_metric' : 0, 'trn_best_metric_ep' : 0, 'trn_best_loss': np.inf, 'trn_best_loss_ep' : 0 ,\n",
    "                                        'val_best_metric' : 0, 'val_best_metric_ep' : 0, 'val_best_loss': np.inf, 'val_best_loss_ep' : 0 }        \n",
    "    \n",
    "        for key in ['trn', 'val']:\n",
    "            tmp = np.argmin(model.training_history[key][f'{key}_ttl_loss'])\n",
    "            model.training_history['gen'][f'{key}_best_loss_ep'] = tmp\n",
    "            model.training_history['gen'][f'{key}_best_loss']    = model.training_history[key][f'{key}_ttl_loss'][tmp]\n",
    "            \n",
    "            tmp1 = np.argmax(model.training_history[key][f'{key}_R2_score'])\n",
    "            model.training_history['gen'][f'{key}_best_metric_ep'] = tmp1\n",
    "            model.training_history['gen'][f'{key}_best_metric'] = model.training_history[key][f'{key}_R2_score'][tmp1]\n",
    "            \n",
    "        model.best_metric = model.training_history['gen'][f'val_best_metric']  \n",
    "        model.best_epoch  = model.training_history['gen'][f'val_best_metric_ep']              \n",
    "        \n",
    "    return model, epoch\n"
   ]
  },
  {
   "cell_type": "code",
   "execution_count": 23,
   "id": "8fb58526-f543-4c6b-912c-6f02cc57b3da",
   "metadata": {
    "execution": {
     "iopub.execute_input": "2024-07-08T20:25:59.106089Z",
     "iopub.status.busy": "2024-07-08T20:25:59.105547Z",
     "iopub.status.idle": "2024-07-08T20:25:59.217611Z",
     "shell.execute_reply": "2024-07-08T20:25:59.216337Z",
     "shell.execute_reply.started": "2024-07-08T20:25:59.106048Z"
    }
   },
   "outputs": [
    {
     "name": "stderr",
     "output_type": "stream",
     "text": [
      "2024-07-08 22:25:59,154 - root - INFO: -  Load model checkpoint from  AE_snnl_dcpb200_150Ltnt_512_20240708_0539_LAST_ep_400.pt\n"
     ]
    },
    {
     "name": "stdout",
     "output_type": "stream",
     "text": [
      "ckpts/AE_snnl_dcpb200_150Ltnt_512_20240708_0539_LAST_ep_400.pt\n",
      "Other Exception\n",
      "(<class 'RuntimeError'>, RuntimeError('PytorchStreamReader failed locating file data.pkl: file not found'), <traceback object at 0x7f1b34689880>)\n"
     ]
    },
    {
     "ename": "UnboundLocalError",
     "evalue": "cannot access local variable 'checkpoint' where it is not associated with a value",
     "output_type": "error",
     "traceback": [
      "\u001b[0;31m---------------------------------------------------------------------------\u001b[0m",
      "\u001b[0;31mUnboundLocalError\u001b[0m                         Traceback (most recent call last)",
      "Cell \u001b[0;32mIn[23], line 1\u001b[0m\n\u001b[0;32m----> 1\u001b[0m model , last_epoch \u001b[38;5;241m=\u001b[39m \u001b[43mload_checkpoint_v4\u001b[49m\u001b[43m(\u001b[49m\u001b[43mmodel\u001b[49m\u001b[43m,\u001b[49m\u001b[43m \u001b[49m\u001b[43margs\u001b[49m\u001b[38;5;241;43m.\u001b[39;49m\u001b[43mckpt\u001b[49m\u001b[43m,\u001b[49m\u001b[43m \u001b[49m\u001b[43mverbose\u001b[49m\u001b[43m \u001b[49m\u001b[38;5;241;43m=\u001b[39;49m\u001b[43m \u001b[49m\u001b[38;5;28;43;01mTrue\u001b[39;49;00m\u001b[43m \u001b[49m\u001b[43m)\u001b[49m  \n",
      "Cell \u001b[0;32mIn[22], line 17\u001b[0m, in \u001b[0;36mload_checkpoint_v4\u001b[0;34m(model, filename, dryrun, verbose)\u001b[0m\n\u001b[1;32m     14\u001b[0m     \u001b[38;5;28mprint\u001b[39m(\u001b[38;5;124m\"\u001b[39m\u001b[38;5;124mOther Exception\u001b[39m\u001b[38;5;124m\"\u001b[39m)\n\u001b[1;32m     15\u001b[0m     \u001b[38;5;28mprint\u001b[39m(sys\u001b[38;5;241m.\u001b[39mexc_info())\n\u001b[0;32m---> 17\u001b[0m \u001b[38;5;28mprint\u001b[39m(\u001b[43mcheckpoint\u001b[49m\u001b[38;5;241m.\u001b[39mkeys())\n\u001b[1;32m     18\u001b[0m \u001b[38;5;28;01mfor\u001b[39;00m key, value \u001b[38;5;129;01min\u001b[39;00m checkpoint\u001b[38;5;241m.\u001b[39mitems():\n\u001b[1;32m     19\u001b[0m     logging\u001b[38;5;241m.\u001b[39mdebug(\u001b[38;5;124mf\u001b[39m\u001b[38;5;124m\"\u001b[39m\u001b[38;5;132;01m{\u001b[39;00mkey\u001b[38;5;132;01m:\u001b[39;00m\u001b[38;5;124m40s\u001b[39m\u001b[38;5;132;01m}\u001b[39;00m\u001b[38;5;124m, \u001b[39m\u001b[38;5;132;01m{\u001b[39;00m\u001b[38;5;28mstr\u001b[39m(\u001b[38;5;28mtype\u001b[39m(value))\u001b[38;5;132;01m:\u001b[39;00m\u001b[38;5;124m60s\u001b[39m\u001b[38;5;132;01m}\u001b[39;00m\u001b[38;5;124m  -- model attr set\u001b[39m\u001b[38;5;124m\"\u001b[39m)\n",
      "\u001b[0;31mUnboundLocalError\u001b[0m: cannot access local variable 'checkpoint' where it is not associated with a value"
     ]
    }
   ],
   "source": [
    "model , last_epoch = load_checkpoint_v4(model, args.ckpt, verbose = True )  "
   ]
  },
  {
   "cell_type": "code",
   "execution_count": null,
   "id": "fa581428-8238-41da-83a9-532855fc9a19",
   "metadata": {},
   "outputs": [],
   "source": []
  }
 ],
 "metadata": {
  "kernelspec": {
   "display_name": "Python [conda env:ptsnnl]",
   "language": "python",
   "name": "conda-env-ptsnnl-py"
  },
  "language_info": {
   "codemirror_mode": {
    "name": "ipython",
    "version": 3
   },
   "file_extension": ".py",
   "mimetype": "text/x-python",
   "name": "python",
   "nbconvert_exporter": "python",
   "pygments_lexer": "ipython3",
   "version": "3.11.0"
  },
  "toc": {
   "base_numbering": 1,
   "nav_menu": {},
   "number_sections": true,
   "sideBar": true,
   "skip_h1_title": false,
   "title_cell": "Table of Contents",
   "title_sidebar": "Contents",
   "toc_cell": false,
   "toc_position": {},
   "toc_section_display": true,
   "toc_window_display": false
  }
 },
 "nbformat": 4,
 "nbformat_minor": 5
}
