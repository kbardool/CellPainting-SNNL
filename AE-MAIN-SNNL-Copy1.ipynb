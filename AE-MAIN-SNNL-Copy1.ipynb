{
 "cells": [
  {
   "cell_type": "markdown",
   "id": "01e25dfa-859b-40a5-9bd7-e23d6e0a0557",
   "metadata": {},
   "source": [
    "  # Autoencoder - SNNL Dev"
   ]
  },
  {
   "cell_type": "markdown",
   "id": "dc83491e-628a-4bc0-806c-5d41b997dd98",
   "metadata": {},
   "source": [
    "# Setup"
   ]
  },
  {
   "cell_type": "code",
   "execution_count": 1,
   "id": "11ad0ae2",
   "metadata": {
    "ExecuteTime": {
     "end_time": "2023-04-12T10:29:15.566596Z",
     "start_time": "2023-04-12T10:29:15.550232Z"
    },
    "execution": {
     "iopub.execute_input": "2024-07-03T23:44:51.082634Z",
     "iopub.status.busy": "2024-07-03T23:44:51.082074Z",
     "iopub.status.idle": "2024-07-03T23:44:51.108633Z",
     "shell.execute_reply": "2024-07-03T23:44:51.108015Z",
     "shell.execute_reply.started": "2024-07-03T23:44:51.082587Z"
    }
   },
   "outputs": [
    {
     "data": {
      "text/html": [
       "<style>.container { width:98% !important; }</style>"
      ],
      "text/plain": [
       "<IPython.core.display.HTML object>"
      ]
     },
     "metadata": {},
     "output_type": "display_data"
    }
   ],
   "source": [
    "# %pwd\n",
    "# %cd ~/WSL-shared/Cellpainting/pt-snnl/\n",
    "from IPython.display import display, HTML\n",
    "display(HTML(\"<style>.container { width:98% !important; }</style>\"))\n",
    "%load_ext autoreload  \n",
    "%autoreload 2\n",
    "from IPython.core.interactiveshell import InteractiveShell\n",
    "InteractiveShell.ast_node_interactivity = \"all\""
   ]
  },
  {
   "cell_type": "code",
   "execution_count": 2,
   "id": "651de463-2e37-42ed-808d-2f16dff6b3d5",
   "metadata": {
    "ExecuteTime": {
     "end_time": "2023-04-12T10:29:16.111588Z",
     "start_time": "2023-04-12T10:29:15.764305Z"
    },
    "execution": {
     "iopub.execute_input": "2024-07-03T23:44:51.868886Z",
     "iopub.status.busy": "2024-07-03T23:44:51.868461Z",
     "iopub.status.idle": "2024-07-03T23:44:54.665215Z",
     "shell.execute_reply": "2024-07-03T23:44:54.664521Z",
     "shell.execute_reply.started": "2024-07-03T23:44:51.868844Z"
    }
   },
   "outputs": [
    {
     "name": "stdout",
     "output_type": "stream",
     "text": [
      "insert ./src\n",
      "insert ../..\n",
      "['../..', './src', '/home/kevin/miniforge3/envs/ptsnnl/lib/python311.zip', '/home/kevin/miniforge3/envs/ptsnnl/lib/python3.11', '/home/kevin/miniforge3/envs/ptsnnl/lib/python3.11/lib-dynload', '', '/home/kevin/miniforge3/envs/ptsnnl/lib/python3.11/site-packages', '/home/kevin/miniforge3/envs/ptsnnl/lib/python3.11/site-packages/cytominer_eval-0.1-py3.11.egg']\n",
      "2.2.1+cu118\n"
     ]
    }
   ],
   "source": [
    "import os\n",
    "import sys\n",
    "import csv\n",
    "import json\n",
    "import time\n",
    "import types, copy, pprint\n",
    "import logging \n",
    "from datetime import datetime\n",
    "for p in ['./src','../..']:\n",
    "    if p not in sys.path:\n",
    "        print(f\"insert {p}\")\n",
    "        sys.path.insert(0, p)\n",
    "print(sys.path)\n",
    "# import shutil\n",
    "# import getpass\n",
    "import yaml\n",
    "\n",
    "import hydra \n",
    "from hydra import initialize, initialize_config_module, initialize_config_dir, compose\n",
    "from omegaconf import OmegaConf\n",
    "\n",
    "\n",
    "from matplotlib import pyplot as plt\n",
    "from typing import Dict, List, Tuple\n",
    "from scipy.sparse import csr_matrix\n",
    "from tqdm import tqdm\n",
    "\n",
    "import numpy as np\n",
    "import pandas as pd\n",
    "\n",
    "import torch\n",
    "import torch.nn.functional as F\n",
    "from torchinfo import summary\n",
    "import wandb\n",
    "\n",
    "torch.set_printoptions(precision=None, threshold=None, edgeitems=None, linewidth=150, profile=None, sci_mode=None)\n",
    "print(torch.__version__)\n",
    "\n",
    "pp = pprint.PrettyPrinter(indent=4)\n",
    "pd.options.display.width = 132\n",
    "torch.set_printoptions(precision=None, threshold=None, edgeitems=None, linewidth=150, profile=None, sci_mode=None)\n",
    "np.set_printoptions(edgeitems=3, infstr='inf', linewidth=150, nanstr='nan')\n",
    "\n",
    "os.environ[\"WANDB_NOTEBOOK_NAME\"] = \"AE-MAIN-SNNL.ipynb\"\n",
    "# os.environ[\"CUDA_LAUNCH_BLOCKING\"] = \"1\"\n",
    "# os.environ[\"CUDA_VISIBLE_DEVICES\"] = \"2\""
   ]
  },
  {
   "cell_type": "code",
   "execution_count": 3,
   "id": "61e84582-bc2f-4bdd-8410-33f267519657",
   "metadata": {
    "ExecuteTime": {
     "end_time": "2023-04-12T10:29:16.111588Z",
     "start_time": "2023-04-12T10:29:15.764305Z"
    },
    "execution": {
     "iopub.execute_input": "2024-07-03T23:44:54.666756Z",
     "iopub.status.busy": "2024-07-03T23:44:54.666394Z",
     "iopub.status.idle": "2024-07-03T23:44:57.844524Z",
     "shell.execute_reply": "2024-07-03T23:44:57.843373Z",
     "shell.execute_reply.started": "2024-07-03T23:44:54.666733Z"
    }
   },
   "outputs": [],
   "source": [
    "from KevinsRoutines.utils.utils_wandb  import  init_wandb, wandb_log_metrics,wandb_watch\n",
    "from KevinsRoutines.utils.utils_general  import  list_namespace, print_heading, print_underline \n",
    "from snnl.utils import parse_args, load_configuration, set_global_seed, get_device, set_device\n",
    "from snnl.utils import load_model, save_model, import_results, export_results, save_checkpoint, load_checkpoint \n",
    "from snnl.utils import plot_model_parms, plot_train_history, plot_classification_metrics, plot_regression_metrics\n",
    "from snnl.utils import display_epoch_metrics, display_cellpainting_batch, display_model_parameters\n",
    "from snnl.utils import CellpaintingDataset, InfiniteDataLoader, custom_collate_fn\n",
    "from snnl.utils import display_model_summary, define_autoencoder_model\n",
    "from snnl.utils import save_checkpoint_v2, load_checkpoint_v4, save_checkpoint_v3, save_checkpoint_v4"
   ]
  },
  {
   "cell_type": "code",
   "execution_count": 4,
   "id": "5e43c4ff-f371-4f9d-8785-1faeebe2330b",
   "metadata": {
    "ExecuteTime": {
     "end_time": "2023-04-12T10:29:16.111588Z",
     "start_time": "2023-04-12T10:29:15.764305Z"
    },
    "execution": {
     "iopub.execute_input": "2024-07-03T23:44:57.845846Z",
     "iopub.status.busy": "2024-07-03T23:44:57.845466Z",
     "iopub.status.idle": "2024-07-03T23:44:57.883818Z",
     "shell.execute_reply": "2024-07-03T23:44:57.883029Z",
     "shell.execute_reply.started": "2024-07-03T23:44:57.845823Z"
    },
    "scrolled": true
   },
   "outputs": [
    {
     "name": "stderr",
     "output_type": "stream",
     "text": [
      "2024-07-04 01:44:57,879 - __main__ - INFO: -  Excution started : 2024_07_04_01:44:57 \n",
      "2024-07-04 01:44:57,880 - __main__ - INFO: -  Pytorch version  : 2.2.1+cu118\n"
     ]
    }
   ],
   "source": [
    "timestamp = datetime.now().strftime('%Y_%m_%d_%H:%M:%S')\n",
    "logger = logging.getLogger(__name__) \n",
    "logLevel = os.environ.get('LOG_LEVEL', 'INFO').upper()\n",
    "FORMAT = '%(asctime)s - %(name)s - %(levelname)s: - %(message)s'\n",
    "logging.basicConfig(level=\"INFO\", format= FORMAT)\n",
    "\n",
    "logger.info(f\" Excution started : {timestamp} \")\n",
    "logger.info(f\" Pytorch version  : {torch.__version__}\")\n",
    "# logger.info(f\" Search path      : {sys.path}\")"
   ]
  },
  {
   "cell_type": "markdown",
   "id": "789b0fbb-e6b5-4faf-95d0-385819cf246c",
   "metadata": {},
   "source": [
    "### Hydra"
   ]
  },
  {
   "cell_type": "code",
   "execution_count": 5,
   "id": "835f339d-01c8-41f9-be27-ecbd2ca672f8",
   "metadata": {
    "execution": {
     "iopub.execute_input": "2024-07-03T23:44:57.885109Z",
     "iopub.status.busy": "2024-07-03T23:44:57.884894Z",
     "iopub.status.idle": "2024-07-03T23:44:57.932123Z",
     "shell.execute_reply": "2024-07-03T23:44:57.931368Z",
     "shell.execute_reply.started": "2024-07-03T23:44:57.885091Z"
    }
   },
   "outputs": [],
   "source": [
    "# hydra.core.global_hydra.GlobalHydra.instance().clear()\n",
    "\n",
    "# abs_config_dir=os.path.abspath(\"hyperparameters\")\n",
    "# abs_config_dir\n",
    "# # GlobalHydra.instance().clear() \n",
    "# initialize_config_dir(version_base=None, config_dir=abs_config_dir)\n",
    "# # initialize(version_base=None, config_path=\"hyperparameters\")\n",
    "\n",
    "# cfg=compose(config_name=\"AE_Base.yaml\")\n",
    "# type(cfg)\n",
    "# print(cfg)\n",
    "# cfgyaml = OmegaConf.to_yaml(cfg)\n",
    "# type(cfgyaml)\n",
    "# print(cfgyaml)"
   ]
  },
  {
   "cell_type": "markdown",
   "id": "44ea8eff-3a7f-41f0-abd3-2ac4d6c33cd9",
   "metadata": {},
   "source": [
    "### main(args)"
   ]
  },
  {
   "cell_type": "code",
   "execution_count": 6,
   "id": "cb592ef6-ef85-4773-a042-69bd43ff89b7",
   "metadata": {
    "execution": {
     "iopub.execute_input": "2024-07-03T23:45:01.960927Z",
     "iopub.status.busy": "2024-07-03T23:45:01.960398Z",
     "iopub.status.idle": "2024-07-03T23:45:02.007916Z",
     "shell.execute_reply": "2024-07-03T23:45:02.007263Z",
     "shell.execute_reply.started": "2024-07-03T23:45:01.960881Z"
    }
   },
   "outputs": [
    {
     "data": {
      "text/plain": [
       "'AE_snnl_dcpb200_150Ltnt_512_yymmdd-hhmm_LAST_ep_200.pt'"
      ]
     },
     "execution_count": 6,
     "metadata": {},
     "output_type": "execute_result"
    }
   ],
   "source": [
    "WANDB_ACTIVE  = False\n",
    "LATENT_DIM    = 150\n",
    "HIDDEN_1      = 512\n",
    "# HIDDEN_2    = '_256'\n",
    "HIDDEN_2      = ''\n",
    "DATE          = 'yymmdd-hhmm'\n",
    "LOAD_EPOCH    = 200\n",
    "EPOCHS        = 20\n",
    "COMPOUNDS_PER_BATCH = 200\n",
    "LEARNING_RATE = 1.00e-04\n",
    "TEMP          = 0.05\n",
    "TEMP_LR       = 1.00e-05\n",
    "CHECKPT       = f\"AE_snnl_dcpb{COMPOUNDS_PER_BATCH}_{LATENT_DIM}Ltnt_{HIDDEN_1}{HIDDEN_2}_{DATE}_LAST_ep_{LOAD_EPOCH:03d}.pt\"\n",
    "CHECKPT"
   ]
  },
  {
   "cell_type": "code",
   "execution_count": 7,
   "id": "c80ed726-59ba-4038-9d28-f12a4f97d194",
   "metadata": {
    "execution": {
     "iopub.execute_input": "2024-07-03T23:45:03.066918Z",
     "iopub.status.busy": "2024-07-03T23:45:03.066354Z",
     "iopub.status.idle": "2024-07-03T23:45:03.169123Z",
     "shell.execute_reply": "2024-07-03T23:45:03.168255Z",
     "shell.execute_reply.started": "2024-07-03T23:45:03.066877Z"
    }
   },
   "outputs": [
    {
     "data": {
      "text/plain": [
       "Namespace(configuration='hyperparameters/ae_sn_150_512_cpb.yaml', ckpt=None, cpb=200, exp_title=None, epochs=20, gpu_id=0, learning_rate=0.0001, exp_id=None, runmode='snnl', random_seed=4321, use_prim_optimizer=True, use_temp_optimizer=False, use_annealing=True, use_single_loss=False, temperature=0.05, temperatureLR=1e-05, wandb=False)"
      ]
     },
     "execution_count": 7,
     "metadata": {},
     "output_type": "execute_result"
    },
    {
     "name": "stderr",
     "output_type": "stream",
     "text": [
      "2024-07-04 01:45:03,147 - snnl.utils.utils - INFO: -  command line param configuration             : [hyperparameters/ae_sn_150_512_cpb.yaml]\n",
      "2024-07-04 01:45:03,148 - snnl.utils.utils - INFO: -  command line param ckpt                      : [None]\n",
      "2024-07-04 01:45:03,149 - snnl.utils.utils - INFO: -  command line param cpb                       : [200]\n",
      "2024-07-04 01:45:03,150 - snnl.utils.utils - INFO: -  command line param exp_title                 : [None]\n",
      "2024-07-04 01:45:03,151 - snnl.utils.utils - INFO: -  command line param epochs                    : [20]\n",
      "2024-07-04 01:45:03,152 - snnl.utils.utils - INFO: -  command line param gpu_id                    : [0]\n",
      "2024-07-04 01:45:03,153 - snnl.utils.utils - INFO: -  command line param learning_rate             : [0.0001]\n",
      "2024-07-04 01:45:03,154 - snnl.utils.utils - INFO: -  command line param exp_id                    : [None]\n",
      "2024-07-04 01:45:03,155 - snnl.utils.utils - INFO: -  command line param runmode                   : [snnl]\n",
      "2024-07-04 01:45:03,156 - snnl.utils.utils - INFO: -  command line param random_seed               : [4321]\n",
      "2024-07-04 01:45:03,156 - snnl.utils.utils - INFO: -  command line param use_prim_optimizer        : [True]\n",
      "2024-07-04 01:45:03,157 - snnl.utils.utils - INFO: -  command line param use_temp_optimizer        : [False]\n",
      "2024-07-04 01:45:03,160 - snnl.utils.utils - INFO: -  command line param use_annealing             : [True]\n",
      "2024-07-04 01:45:03,161 - snnl.utils.utils - INFO: -  command line param use_single_loss           : [False]\n",
      "2024-07-04 01:45:03,162 - snnl.utils.utils - INFO: -  command line param temperature               : [0.05]\n",
      "2024-07-04 01:45:03,162 - snnl.utils.utils - INFO: -  command line param temperatureLR             : [1e-05]\n",
      "2024-07-04 01:45:03,164 - snnl.utils.utils - INFO: -  command line param wandb                     : [False]\n",
      "2024-07-04 01:45:03,164 - snnl.utils.utils - INFO: -  command line param exp_title                 : [dcpb200_150Ltnt_512]\n"
     ]
    }
   ],
   "source": [
    "# if __name__ == \"__main__\":\n",
    "cli_args =   f\" --runmode            snnl \" \\\n",
    "             f\" --configuration      hyperparameters/ae_sn_150_512_cpb.yaml\" \\\n",
    "             f\" --lr                 {LEARNING_RATE} \"\\\n",
    "             f\" --prim_opt           \" \\\n",
    "             f\" --temp               {TEMP} \"\\\n",
    "             f\" --temp_lr            {TEMP_LR}\"\\\n",
    "             f\" --temp_annealing \"\\\n",
    "             f\" --epochs             {EPOCHS} \" \\\n",
    "             f\" --cpb                {COMPOUNDS_PER_BATCH}\" \\\n",
    "\t         f\" --seed   4321    --gpu_id  0  \"\\\n",
    "             f\" \"\n",
    "            # f\" --wandb\"\\\n",
    "             # f\" --ckpt               AE_snnl_dcpb200_{LATENT_DIM}Ltnt_{HIDDEN_1}{HIDDEN_2}_{DATE}_LAST_ep_{LOAD_EPOCH:03d}.pt \" \\\n",
    "            #  f\" --ckpt               AE_baseline_{DATE}_snglOpt-{LATENT_DIM}Ltnt{HIDDEN_1}{HIDDEN_2}_ep_{LOAD_EPOCH}.pt \" \\\n",
    "             # f\" --configuration      hyperparameters/ae_sn_{LATENT_DIM:03d}{HIDDEN_1}{HIDDEN_2}_cpb.yaml\" \\\n",
    "             # f\" --run_id              \" \\\n",
    "             # f\" --exp_title           snglOpt-050Ltnt_512_sig \"\n",
    "             # f\" --runmode            snnl\" \\\n",
    "cli_args = parse_args(cli_args.split())\n",
    "cli_args\n",
    "\n",
    "args = load_configuration(cli_args)\n",
    "args.ckpt\n"
   ]
  },
  {
   "cell_type": "code",
   "execution_count": 8,
   "id": "973eda2d-5816-4b88-84f8-881c86ac2353",
   "metadata": {
    "execution": {
     "iopub.execute_input": "2024-07-03T23:45:04.510564Z",
     "iopub.status.busy": "2024-07-03T23:45:04.510085Z",
     "iopub.status.idle": "2024-07-03T23:45:04.558115Z",
     "shell.execute_reply": "2024-07-03T23:45:04.556945Z",
     "shell.execute_reply.started": "2024-07-03T23:45:04.510492Z"
    },
    "scrolled": true
   },
   "outputs": [
    {
     "data": {
      "text/plain": [
       "namespace(project_name='CellPainting_Profiles',\n",
       "          exp_id=None,\n",
       "          exp_name_pfx=None,\n",
       "          exp_name=None,\n",
       "          exp_date=None,\n",
       "          exp_title='dcpb200_150Ltnt_512',\n",
       "          exp_description='AE snnl - DualOpt, 150 dim latent, 512 Midlayer, 200 cpb',\n",
       "          exp_folder=None,\n",
       "          folder_sfx=None,\n",
       "          random_seed=4321,\n",
       "          units=[['linear', 1471, 1024],\n",
       "                 ['relu', 0, 0],\n",
       "                 ['linear', 1024, 512],\n",
       "                 ['relu', 0, 0],\n",
       "                 ['linear', 512, 150],\n",
       "                 ['linear', 150, 512],\n",
       "                 ['relu', 0, 0],\n",
       "                 ['linear', 512, 1024],\n",
       "                 ['relu', 0, 0],\n",
       "                 ['linear', 1024, 1471]],\n",
       "          input_shape=1471,\n",
       "          code_units=150,\n",
       "          embedding_layer=4,\n",
       "          show_every=1,\n",
       "          save_every=25,\n",
       "          learning_rate=0.0001,\n",
       "          loss_factor=1.0,\n",
       "          adam_weight_decay=0,\n",
       "          snnl_factor=0.5,\n",
       "          temperature=0.05,\n",
       "          use_temp_optimizer=False,\n",
       "          use_temp_scheduler=False,\n",
       "          temperatureLR=1e-05,\n",
       "          SGD_weight_decay=0,\n",
       "          dataset='cellpainting',\n",
       "          cellpainting_args={'sample_size': 3,\n",
       "                             'batch_size': 1,\n",
       "                             'compounds_per_batch': 200,\n",
       "                             'training_path': '/home/kevin/WSL-shared/Cellpainting/cj-datasets/output_11102023/3_sample_profiles/3sample_profiles_1482_HashOrder.csv',\n",
       "                             'validation_path': '/home/kevin/WSL-shared/Cellpainting/cj-datasets/output_11102023/3_sample_profiles/3sample_profiles_1482_HashOrder_test.csv',\n",
       "                             'test_path': '/home/kevin/WSL-shared/Cellpainting/cj-datasets/output_11102023/3_sample_profiles/3sample_profiles_1482_HashOrder_test.csv',\n",
       "                             'train_start': 0,\n",
       "                             'train_end': 240000,\n",
       "                             'val_start': 0,\n",
       "                             'val_end': 24000,\n",
       "                             'test_start': 30000,\n",
       "                             'test_end': 33600,\n",
       "                             'chunksize': None,\n",
       "                             'conversions': None,\n",
       "                             'iterator': True},\n",
       "          paths={'log_dir': './logs',\n",
       "                 'result_dir': './results',\n",
       "                 'checkpoint_dir': './ckpt'},\n",
       "          configuration='hyperparameters/ae_sn_150_512_cpb.yaml',\n",
       "          cpb=200,\n",
       "          epochs=20,\n",
       "          gpu_id=0,\n",
       "          runmode='snnl',\n",
       "          use_prim_optimizer=True,\n",
       "          use_annealing=True,\n",
       "          use_single_loss=False,\n",
       "          wandb=False,\n",
       "          ckpt=None,\n",
       "          batch_size=1,\n",
       "          use_prim_scheduler=True,\n",
       "          use_sum=False,\n",
       "          SGD_momentum=0)"
      ]
     },
     "execution_count": 8,
     "metadata": {},
     "output_type": "execute_result"
    }
   ],
   "source": [
    "args"
   ]
  },
  {
   "cell_type": "code",
   "execution_count": 9,
   "id": "94193666-319a-4bfa-8182-1aba148812c1",
   "metadata": {
    "execution": {
     "iopub.execute_input": "2024-07-03T23:45:06.504935Z",
     "iopub.status.busy": "2024-07-03T23:45:06.504414Z",
     "iopub.status.idle": "2024-07-03T23:45:07.306360Z",
     "shell.execute_reply": "2024-07-03T23:45:07.305257Z",
     "shell.execute_reply.started": "2024-07-03T23:45:06.504892Z"
    }
   },
   "outputs": [
    {
     "name": "stderr",
     "output_type": "stream",
     "text": [
      "2024-07-04 01:45:07,292 - snnl.utils.utils - INFO: -  Current CUDA Device is:  cuda:0 - Quadro GV100\n",
      "2024-07-04 01:45:07,295 - snnl.utils.utils - INFO: -  Switched to: Quadro GV100 - 0\n",
      "2024-07-04 01:45:07,297 - snnl.utils.utils - INFO: -  Current CUDA Device is:  cuda:0 - Quadro GV100\n"
     ]
    }
   ],
   "source": [
    "set_global_seed(args.random_seed)\n",
    "if args.ckpt is not None:\n",
    "    if os.path.exists(os.path.join('ckpts', args.ckpt)):\n",
    "        logger.info(f\" Checkpoint {args.ckpt} found\")\n",
    "        logger.info(f\" Resuming training using checkpoint: {args.ckpt}\")\n",
    "    else:\n",
    "        logger.error(f\" *** Checkpoint {args.ckpt} not found *** \\n\")\n",
    "        raise ValueError(f\"\\n *** Checkpoint DOESNT EXIST *** \\n\")\n",
    "\n",
    "if args.gpu_id is not None:\n",
    "    _ = get_device()\n",
    "    # print(f\"Current device is : {current_device}\")    \n",
    "    current_device = set_device(args.gpu_id)\n",
    "    current_device = get_device()\n"
   ]
  },
  {
   "cell_type": "markdown",
   "id": "7e2871b9-ea54-4869-9fa3-5ade2e1416cd",
   "metadata": {},
   "source": [
    "#### Define dataset and dataloaders"
   ]
  },
  {
   "cell_type": "code",
   "execution_count": 10,
   "id": "b37affb2-a82e-49d5-9e58-88e3c98f8fa3",
   "metadata": {
    "execution": {
     "iopub.execute_input": "2024-07-03T23:45:09.118091Z",
     "iopub.status.busy": "2024-07-03T23:45:09.117452Z",
     "iopub.status.idle": "2024-07-03T23:45:09.189197Z",
     "shell.execute_reply": "2024-07-03T23:45:09.188415Z",
     "shell.execute_reply.started": "2024-07-03T23:45:09.118048Z"
    }
   },
   "outputs": [
    {
     "name": "stderr",
     "output_type": "stream",
     "text": [
      "2024-07-04 01:45:09,169 - root - INFO: -  load cellpainting\n",
      "2024-07-04 01:45:09,170 - snnl.utils.dataloader - INFO: -  Building CellPantingDataset for train\n",
      "2024-07-04 01:45:09,171 - snnl.utils.dataloader - INFO: -  filename:  /home/kevin/WSL-shared/Cellpainting/cj-datasets/output_11102023/3_sample_profiles/3sample_profiles_1482_HashOrder.csv\n",
      "2024-07-04 01:45:09,172 - snnl.utils.dataloader - INFO: -  type    :  train\n",
      "2024-07-04 01:45:09,173 - snnl.utils.dataloader - INFO: -  start   :  0\n",
      "2024-07-04 01:45:09,173 - snnl.utils.dataloader - INFO: -  end     :  240000\n",
      "2024-07-04 01:45:09,174 - snnl.utils.dataloader - INFO: -  numrows :  240000\n",
      "2024-07-04 01:45:09,175 - snnl.utils.dataloader - INFO: -  Each mini-batch contains 200.0 compounds with 3 samples per compound : total 600 rows\n",
      "2024-07-04 01:45:09,176 - snnl.utils.dataloader - INFO: -  Number of 600 row full size batches per epoch: 400\n",
      "2024-07-04 01:45:09,176 - snnl.utils.dataloader - INFO: -  Rows covered by 400 full size batches (600 rows) per epoch:  240000\n",
      "2024-07-04 01:45:09,177 - snnl.utils.dataloader - INFO: -  Last partial batch contains : 0 rows\n",
      "2024-07-04 01:45:09,178 - snnl.utils.dataloader - INFO: -  \n",
      "2024-07-04 01:45:09,179 - snnl.utils.dataloader - INFO: -  Building CellPantingDataset for val\n",
      "2024-07-04 01:45:09,179 - snnl.utils.dataloader - INFO: -  filename:  /home/kevin/WSL-shared/Cellpainting/cj-datasets/output_11102023/3_sample_profiles/3sample_profiles_1482_HashOrder_test.csv\n",
      "2024-07-04 01:45:09,180 - snnl.utils.dataloader - INFO: -  type    :  val\n",
      "2024-07-04 01:45:09,180 - snnl.utils.dataloader - INFO: -  start   :  0\n",
      "2024-07-04 01:45:09,181 - snnl.utils.dataloader - INFO: -  end     :  24000\n",
      "2024-07-04 01:45:09,181 - snnl.utils.dataloader - INFO: -  numrows :  24000\n",
      "2024-07-04 01:45:09,182 - snnl.utils.dataloader - INFO: -  Each mini-batch contains 200.0 compounds with 3 samples per compound : total 600 rows\n",
      "2024-07-04 01:45:09,182 - snnl.utils.dataloader - INFO: -  Number of 600 row full size batches per epoch: 40\n",
      "2024-07-04 01:45:09,182 - snnl.utils.dataloader - INFO: -  Rows covered by 40 full size batches (600 rows) per epoch:  24000\n",
      "2024-07-04 01:45:09,183 - snnl.utils.dataloader - INFO: -  Last partial batch contains : 0 rows\n",
      "2024-07-04 01:45:09,183 - snnl.utils.dataloader - INFO: -  \n"
     ]
    }
   ],
   "source": [
    "#### Load CellPainting Dataset\n",
    "logging.info(f\" load {args.dataset}\")\n",
    "train_dataset = CellpaintingDataset(type='train',    **args.cellpainting_args)\n",
    "train_loader = InfiniteDataLoader(dataset=train_dataset, batch_size = args.batch_size, shuffle = False, num_workers = 0, collate_fn = custom_collate_fn)\n",
    "val_dataset = CellpaintingDataset(type='val',    **args.cellpainting_args)\n",
    "val_loader = InfiniteDataLoader(dataset=val_dataset, batch_size = args.batch_size, shuffle = False, num_workers = 0, collate_fn = custom_collate_fn)"
   ]
  },
  {
   "cell_type": "markdown",
   "id": "47e2418f-1b68-43b8-b530-9ffb72141121",
   "metadata": {},
   "source": [
    "#### WandB Setup"
   ]
  },
  {
   "cell_type": "code",
   "execution_count": 11,
   "id": "5dd597f5-f212-4261-b8a9-cd9cf558cb68",
   "metadata": {
    "execution": {
     "iopub.execute_input": "2024-07-03T23:45:10.493081Z",
     "iopub.status.busy": "2024-07-03T23:45:10.492595Z",
     "iopub.status.idle": "2024-07-03T23:45:10.546524Z",
     "shell.execute_reply": "2024-07-03T23:45:10.545757Z",
     "shell.execute_reply.started": "2024-07-03T23:45:10.493041Z"
    }
   },
   "outputs": [
    {
     "name": "stderr",
     "output_type": "stream",
     "text": [
      "2024-07-04 01:45:10,534 - __main__ - INFO: -  args.wandb       : False\n",
      "2024-07-04 01:45:10,535 - __main__ - INFO: -  Project Name     : CellPainting_Profiles\n",
      "2024-07-04 01:45:10,536 - __main__ - INFO: -  Experiment Id    : None\n",
      "2024-07-04 01:45:10,537 - __main__ - INFO: -  Experiment Name  : None\n",
      "2024-07-04 01:45:10,538 - __main__ - INFO: -  Experiment Date  : None\n",
      "2024-07-04 01:45:10,539 - __main__ - INFO: -  Experiment Title : dcpb200_150Ltnt_512\n",
      "2024-07-04 01:45:10,540 - __main__ - INFO: -  Experiment Notes : AE snnl - DualOpt, 150 dim latent, 512 Midlayer, 200 cpb\n",
      "2024-07-04 01:45:10,540 - __main__ - INFO: -  Experiment Name  : AE_240704_0145\n",
      "2024-07-04 01:45:10,541 - __main__ - INFO: -  Experiment Date  : 240704_0145\n"
     ]
    }
   ],
   "source": [
    "# args.exp_id   = None\n",
    "# args.exp_name = 'AE_'+datetime.now().strftime('%m%d_%H%M')\n",
    "# args.exp_date = datetime.now().strftime('%Y%m%d')\n",
    "\n",
    "## --- for restarts\n",
    "# args.exp_id   = '0g8w13h6'\n",
    "# args.exp_name = 'AE_0516_1104'\n",
    "# args.exp_date = '20240516'\n",
    "##-----------------\n",
    "logger.info(f\" args.wandb       : {args.wandb}\")\n",
    "logger.info(f\" Project Name     : {args.project_name}\")\n",
    "logger.info(f\" Experiment Id    : {args.exp_id}\")\n",
    "logger.info(f\" Experiment Name  : {args.exp_name}\")\n",
    "logger.info(f\" Experiment Date  : {args.exp_date}\")\n",
    "logger.info(f\" Experiment Title : {args.exp_title}\")\n",
    "logger.info(f\" Experiment Notes : {args.exp_description}\")\n",
    "EXP_DATE = datetime.now().strftime('%y%m%d_%H%M')\n",
    "args.exp_name = f\"AE_{EXP_DATE}\"\n",
    "args.exp_date = EXP_DATE\n",
    "logger.info(f\" Experiment Name  : {args.exp_name}\")\n",
    "logger.info(f\" Experiment Date  : {args.exp_date}\")"
   ]
  },
  {
   "cell_type": "code",
   "execution_count": 12,
   "id": "1c2cd59a-dec4-4d6c-b911-d70dc4d4e09e",
   "metadata": {
    "execution": {
     "iopub.execute_input": "2024-07-03T23:45:11.584700Z",
     "iopub.status.busy": "2024-07-03T23:45:11.584321Z",
     "iopub.status.idle": "2024-07-03T23:45:11.636394Z",
     "shell.execute_reply": "2024-07-03T23:45:11.635598Z",
     "shell.execute_reply.started": "2024-07-03T23:45:11.584664Z"
    }
   },
   "outputs": [
    {
     "name": "stderr",
     "output_type": "stream",
     "text": [
      "2024-07-04 01:45:11,624 - __main__ - INFO: -  *** W&&B Logging is INACTIVE *** \n",
      "2024-07-04 01:45:11,625 - __main__ - INFO: -  Experiment run id:  None\n",
      "2024-07-04 01:45:11,627 - __main__ - INFO: -  Experiment Name  :  AE_240704_0145 \n",
      "2024-07-04 01:45:11,628 - __main__ - INFO: -  Experiment Date  :  240704_0145 \n",
      "2024-07-04 01:45:11,629 - __main__ - INFO: -  Experiment Title :  dcpb200_150Ltnt_512 \n",
      "2024-07-04 01:45:11,630 - __main__ - INFO: -  Experiment Notes :  AE snnl - DualOpt, 150 dim latent, 512 Midlayer, 200 cpb\n"
     ]
    }
   ],
   "source": [
    "WANDB_ACTIVE = args.wandb\n",
    "\n",
    "EXP_DATE = datetime.now().strftime('%y%m%d_%H%M')\n",
    "args.exp_name = f\"AE_{EXP_DATE}\"\n",
    "args.exp_date = EXP_DATE\n",
    "\n",
    "if WANDB_ACTIVE:\n",
    "    if args.exp_id is not None:\n",
    "        print(\"Resume\")\n",
    "        resume_wandb = True\n",
    "    else:\n",
    "        print(\"Initialize\")\n",
    "        resume_wandb = False\n",
    "        args.exp_name = f\"AE_{EXP_DATE}\"\n",
    "    \n",
    "    wandb_run = init_wandb(args)\n",
    "    \n",
    "    args.exp_id = wandb_run.id\n",
    "    \n",
    "    logger.info(f\" WandB tracking started \")\n",
    "    logger.info(f\" Project  : {args.project_name}\")    \n",
    "    logger.info(f\" Run id   :  {args.exp_id}   / {wandb_run.id}\")\n",
    "    logger.info(f\" Name     :  {args.exp_name} / {wandb_run.name} \")\n",
    "    logger.info(f\" Title    :  {args.exp_title}\")    \n",
    "    logger.info(f\" Date     :  {args.exp_date}  \")\n",
    "    logger.info(f\" Notes    :  {args.exp_description} / {wandb_run.notes} \")\n",
    "else: \n",
    "    logger.info(f\" *** W&&B Logging is INACTIVE *** \")\n",
    "    args.exp_name = 'AE_'+datetime.now().strftime('%y%m%d_%H%M')\n",
    "    args.exp_date = datetime.now().strftime('%y%m%d_%H%M')    \n",
    "\n",
    "logger.info(f\" Experiment run id:  {args.exp_id}\")\n",
    "logger.info(f\" Experiment Name  :  {args.exp_name} \")\n",
    "logger.info(f\" Experiment Date  :  {args.exp_date} \")\n",
    "logger.info(f\" Experiment Title :  {args.exp_title} \")\n",
    "logger.info(f\" Experiment Notes :  {args.exp_description}\")"
   ]
  },
  {
   "cell_type": "markdown",
   "id": "19b32e21-67d2-45af-a45f-841b6dca43ff",
   "metadata": {},
   "source": [
    "# Define autoencoder model"
   ]
  },
  {
   "cell_type": "markdown",
   "id": "cf383487-ecbf-49da-bb01-5a5f22932278",
   "metadata": {},
   "source": [
    "### Override arguments"
   ]
  },
  {
   "cell_type": "code",
   "execution_count": 13,
   "id": "2fdc1998-5141-40c0-82d8-b505d4f19ecd",
   "metadata": {
    "execution": {
     "iopub.execute_input": "2024-07-03T23:45:14.766963Z",
     "iopub.status.busy": "2024-07-03T23:45:14.766347Z",
     "iopub.status.idle": "2024-07-03T23:45:14.811445Z",
     "shell.execute_reply": "2024-07-03T23:45:14.810499Z",
     "shell.execute_reply.started": "2024-07-03T23:45:14.766921Z"
    }
   },
   "outputs": [],
   "source": [
    "# args.temperature   = 0.8\n",
    "# args.loss_factor   = 2.0        ## 2.0e+00\n",
    "# args.snnl_factor   = 0.5       ## 1.0e+00\n",
    "# args.learning_rate = 1.0e-03    ## 0.001\n",
    "# args.temperatureLR = 1.0e-04    ## 1e-4\n",
    "# print(f\"   Latent dim        {args.code_units}  \\t\\t  loss_factor       {args.loss_factor}  \\t\\t   snnl_factor       {args.snnl_factor}\")\n",
    "# print(f\"   temperature       {args.temperature} \\t\\t  learning_rate     {args.learning_rate} \\t\\t   temperatureLR:    {args.temperatureLR}\")"
   ]
  },
  {
   "cell_type": "code",
   "execution_count": 14,
   "id": "acb11365-5fa8-4a94-ba70-bfe9bc16df18",
   "metadata": {
    "execution": {
     "iopub.execute_input": "2024-07-03T23:45:15.044106Z",
     "iopub.status.busy": "2024-07-03T23:45:15.043797Z",
     "iopub.status.idle": "2024-07-03T23:45:15.082694Z",
     "shell.execute_reply": "2024-07-03T23:45:15.081707Z",
     "shell.execute_reply.started": "2024-07-03T23:45:15.044079Z"
    },
    "scrolled": true
   },
   "outputs": [],
   "source": [
    "# list_namespace(args)"
   ]
  },
  {
   "cell_type": "markdown",
   "id": "69b97558-4c5d-4a2d-9d1f-78d8923b1eb7",
   "metadata": {},
   "source": [
    "## Define Model"
   ]
  },
  {
   "cell_type": "code",
   "execution_count": 15,
   "id": "d7d429c0-2275-4f1a-ac88-169d8ddcf37a",
   "metadata": {
    "execution": {
     "iopub.execute_input": "2024-07-03T23:45:15.567864Z",
     "iopub.status.busy": "2024-07-03T23:45:15.567500Z",
     "iopub.status.idle": "2024-07-03T23:45:15.727396Z",
     "shell.execute_reply": "2024-07-03T23:45:15.726560Z",
     "shell.execute_reply.started": "2024-07-03T23:45:15.567832Z"
    }
   },
   "outputs": [
    {
     "name": "stderr",
     "output_type": "stream",
     "text": [
      "2024-07-04 01:45:15,601 - snnl.utils.utils - INFO: - Defining model in SNNL mode \n",
      "2024-07-04 01:45:15,603 - snnl.models.autoencoder - INFO: -     layer pair:    0  type:linear           input:   1471  output:   1024    weights: [1024, 1471]   \n",
      "2024-07-04 01:45:15,644 - snnl.models.autoencoder - INFO: -     layer pair:    1  type:relu             input:      0  output:      0    weights: [0, 0]   \n",
      "2024-07-04 01:45:15,645 - snnl.models.autoencoder - INFO: -     layer pair:    2  type:linear           input:   1024  output:    512    weights: [512, 1024]   \n",
      "2024-07-04 01:45:15,650 - snnl.models.autoencoder - INFO: -     layer pair:    3  type:relu             input:      0  output:      0    weights: [0, 0]   \n",
      "2024-07-04 01:45:15,651 - snnl.models.autoencoder - INFO: -     layer pair:    4  type:linear           input:    512  output:    150    weights: [150, 512]   \n",
      "2024-07-04 01:45:15,653 - snnl.models.autoencoder - INFO: -     layer pair:    5  type:linear           input:    150  output:    512    weights: [512, 150]   \n",
      "2024-07-04 01:45:15,655 - snnl.models.autoencoder - INFO: -     layer pair:    6  type:relu             input:      0  output:      0    weights: [0, 0]   \n",
      "2024-07-04 01:45:15,656 - snnl.models.autoencoder - INFO: -     layer pair:    7  type:linear           input:    512  output:   1024    weights: [1024, 512]   \n",
      "2024-07-04 01:45:15,661 - snnl.models.autoencoder - INFO: -     layer pair:    8  type:relu             input:      0  output:      0    weights: [0, 0]   \n",
      "2024-07-04 01:45:15,662 - snnl.models.autoencoder - INFO: -     layer pair:    9  type:linear           input:   1024  output:   1471    weights: [1471, 1024]   \n"
     ]
    },
    {
     "name": "stdout",
     "output_type": "stream",
     "text": [
      " EMBEDDING LAYER: 4\n"
     ]
    }
   ],
   "source": [
    "model = define_autoencoder_model(args,device = current_device)\n",
    "\n",
    "if WANDB_ACTIVE:\n",
    "    wandb_watch(item = model, criterion=None, log = 'all', log_freq = 1000, log_graph = True)"
   ]
  },
  {
   "cell_type": "markdown",
   "id": "789809c5-6d84-497a-b345-9f144f37c4b6",
   "metadata": {},
   "source": [
    "### Load model checkpoint "
   ]
  },
  {
   "cell_type": "code",
   "execution_count": 16,
   "id": "60584bca-6c0a-4770-8e78-7f1b5ef10e0a",
   "metadata": {
    "execution": {
     "iopub.execute_input": "2024-07-03T23:45:18.351395Z",
     "iopub.status.busy": "2024-07-03T23:45:18.350820Z",
     "iopub.status.idle": "2024-07-03T23:45:18.404888Z",
     "shell.execute_reply": "2024-07-03T23:45:18.404183Z",
     "shell.execute_reply.started": "2024-07-03T23:45:18.351354Z"
    }
   },
   "outputs": [
    {
     "name": "stderr",
     "output_type": "stream",
     "text": [
      "2024-07-04 01:45:18,401 - root - INFO: -  INITIALIZE TRAINING - Run 20 epochs: epoch 1 to 20 \n"
     ]
    }
   ],
   "source": [
    "if args.ckpt is not None:\n",
    "    model.resume_training = True\n",
    "    model , last_epoch = load_checkpoint_v2(model, args.ckpt, verbose = True )  \n",
    "    model.train()\n",
    "    model.device = current_device\n",
    "    model = model.cuda(device=current_device)\n",
    "    logging.info(f\" Loaded Model device {model.device} -  Last completed epoch : {last_epoch}\")\n",
    "    model.starting_epoch = last_epoch\n",
    "    model.ending_epoch = last_epoch + args.epochs\n",
    "    logging.info(f\" RESUME TRAINING - Run {args.epochs} epochs: epoch {model.starting_epoch+1} to {model.ending_epoch} \")\n",
    "\n",
    "    if 'gen' not in model.training_history:\n",
    "        print(f\" Define self.training_history['gen'] \")\n",
    "        model.training_history['gen'] = {'trn_best_metric' : 0, 'trn_best_metric_ep' : 0, 'trn_best_loss': np.inf, 'trn_best_loss_ep' : 0 ,\n",
    "                                        'val_best_metric' : 0, 'val_best_metric_ep' : 0, 'val_best_loss': np.inf, 'val_best_loss_ep' : 0 }        \n",
    "    \n",
    "        for key in ['trn', 'val']:\n",
    "            tmp = np.argmin(model.training_history[key][f'{key}_ttl_loss'])\n",
    "            model.training_history['gen'][f'{key}_best_loss_ep'] = tmp\n",
    "            model.training_history['gen'][f'{key}_best_loss']    = model.training_history[key][f'{key}_ttl_loss'][tmp]\n",
    "            \n",
    "            tmp1 = np.argmax(model.training_history[key][f'{key}_R2_score'])\n",
    "            model.training_history['gen'][f'{key}_best_metric_ep'] = tmp1\n",
    "            model.training_history['gen'][f'{key}_best_metric'] = model.training_history[key][f'{key}_R2_score'][tmp1]\n",
    "    \n",
    "else:\n",
    "    model.resume_training = False\n",
    "    model.starting_epoch = 0\n",
    "    model.ending_epoch = args.epochs\n",
    "    logging.info(f\" INITIALIZE TRAINING - Run {args.epochs} epochs: epoch {model.starting_epoch+1} to {model.ending_epoch} \")\n",
    "\n",
    "model.best_metric = model.training_history['gen'][f'val_best_metric']  \n",
    "model.best_epoch  = model.training_history['gen'][f'val_best_metric_ep']  "
   ]
  },
  {
   "cell_type": "code",
   "execution_count": 17,
   "id": "c3c9b87b-9292-47e1-a838-578244097999",
   "metadata": {
    "execution": {
     "iopub.execute_input": "2024-07-03T23:45:20.294612Z",
     "iopub.status.busy": "2024-07-03T23:45:20.294080Z",
     "iopub.status.idle": "2024-07-03T23:45:20.417348Z",
     "shell.execute_reply": "2024-07-03T23:45:20.416538Z",
     "shell.execute_reply.started": "2024-07-03T23:45:20.294568Z"
    }
   },
   "outputs": [
    {
     "name": "stdout",
     "output_type": "stream",
     "text": [
      " Model device           : cuda:0\n",
      " Model embedding_layer  : 4\n",
      " loss_factor            : 1.0\n",
      " monitor_grads_layer    : None\n",
      " Use Single Loss        : False\n",
      " Use Prim Optimizer     : True\n",
      " Use Prim Scheduler     : True\n",
      " Main Optimizer Params  : Adam (\n",
      "Parameter Group 0\n",
      "    amsgrad: False\n",
      "    betas: (0.9, 0.999)\n",
      "    capturable: False\n",
      "    differentiable: False\n",
      "    eps: 1e-08\n",
      "    foreach: None\n",
      "    fused: None\n",
      "    lr: 0.0001\n",
      "    maximize: False\n",
      "    weight_decay: 0\n",
      ")\n",
      " Scheduler              : <torch.optim.lr_scheduler.ReduceLROnPlateau object at 0x7f6e5085fd10> \n",
      "    factor: 0.5  \n",
      "    min_lrs: [0]  \n",
      "    patience: 50  \n",
      "    verbose: False  \n",
      "    cooldown: 10  \n",
      "    cooldown_counter: 0  \n",
      "    mode: min  \n",
      "    threshold: 1e-06  \n",
      "    threshold_mode: rel  \n",
      "    best: inf  \n",
      "    num_bad_epochs: 0  \n",
      "    mode_worse: inf  \n",
      "    eps: 1e-08  \n",
      "    last_epoch: 0  \n",
      "\n",
      " Use snnl               : True\n",
      " SNNL factor            : 0.5\n",
      " SNNL temperature       : Parameter containing:\n",
      "tensor([0.0500], device='cuda:0', requires_grad=True)\n",
      " SNNL Temperature       : 0.05000000074505806\n",
      "\n",
      " Use Temp Optimizer     : False\n",
      " Use Temp Scheduler     : False\n",
      " \n",
      " Best training loss     : inf      - epoch: 0\n",
      " Best training metric   : 0.000000 - epoch: 0\n",
      " \n",
      " Best validation loss   : inf      - epoch: 0\n",
      " Best validation metric : 0.000000 - epoch: 0\n",
      " \n",
      " Model best metric      : 0.000000 - epoch: 0\n"
     ]
    }
   ],
   "source": [
    "display_model_parameters(model)\n",
    "\n",
    "if WANDB_ACTIVE:\n",
    "    wandb.config.update(args)"
   ]
  },
  {
   "cell_type": "markdown",
   "id": "94aeaa82-14c5-465c-ae6e-bb792ba8a973",
   "metadata": {},
   "source": [
    "# Autoencoder `fit(data_loader = train_loader, epochs = epochs)` "
   ]
  },
  {
   "cell_type": "code",
   "execution_count": 18,
   "id": "52c04658-cc30-44b3-9539-395aacbbbd03",
   "metadata": {
    "execution": {
     "iopub.execute_input": "2024-07-03T23:45:24.971397Z",
     "iopub.status.busy": "2024-07-03T23:45:24.970856Z",
     "iopub.status.idle": "2024-07-03T23:45:25.028065Z",
     "shell.execute_reply": "2024-07-03T23:45:25.026941Z",
     "shell.execute_reply.started": "2024-07-03T23:45:24.971355Z"
    }
   },
   "outputs": [
    {
     "data": {
      "text/plain": [
       "(0, 20)"
      ]
     },
     "execution_count": 18,
     "metadata": {},
     "output_type": "execute_result"
    },
    {
     "name": "stdout",
     "output_type": "stream",
     "text": [
      " 2024-07-04 01:45:25  epoch    1 of   20\n"
     ]
    }
   ],
   "source": [
    "# model.starting_epoch, model.ending_epoch = 0, 2\n",
    "model.starting_epoch, model.ending_epoch\n",
    "\n",
    "print(f\" {datetime.now().strftime('%Y-%m-%d %H:%M:%S')}  epoch {model.starting_epoch+1:4d} of {model.ending_epoch:4d}\")"
   ]
  },
  {
   "cell_type": "code",
   "execution_count": null,
   "id": "90c74527-0c16-477c-b53a-9fcbdbb5e68b",
   "metadata": {
    "execution": {
     "iopub.execute_input": "2024-07-03T23:45:33.766959Z",
     "iopub.status.busy": "2024-07-03T23:45:33.766439Z"
    }
   },
   "outputs": [
    {
     "name": "stdout",
     "output_type": "stream",
     "text": [
      " 2024-07-04 01:45:33  epoch    1 of   20\n",
      " 0 - anneal temp  -  before:   0.050000     new_temp:   1.000000 \n",
      "0\n",
      "  time   ep / eps |  Trn_loss   Primary      SNNL  |   temp*         grad    |   R2      BestEp         |  Vld_loss   Primary      SNNL  |   R2       BestEp          |   LR        temp LR    |\n",
      "------------------+--------------------------------+-------------------------+--------------------------+--------------------------------+----------------------------|------------------------|\n",
      "01:47:44  1 / 20  |   3.6449     0.8119     2.8330 |   1.000000   0.0000e+00 | -11.8533     1           |   3.3535     0.5182     2.8353 |  -4.5372     1             |  1.000e-04   0.000e+00 |\n",
      " 1 - anneal temp  -  before:   1.000000     new_temp:   0.683020 \n",
      "1\n",
      "01:49:57  2 / 20  |   3.2747     0.4421     2.8326 |   0.683020   0.0000e+00 |  -3.1303     1           |   3.2113     0.3743     2.8371 |  -1.8841     1             |  1.000e-04   0.000e+00 |\n",
      " 2 - anneal temp  -  before:   0.683020     new_temp:   0.546491 \n"
     ]
    }
   ],
   "source": [
    "print(f\" {datetime.now().strftime('%Y-%m-%d %H:%M:%S')}  epoch {model.starting_epoch+1:4d} of {model.ending_epoch:4d}\")\n",
    "header = True\n",
    "\n",
    "for epoch in range(model.starting_epoch, model.ending_epoch):\n",
    "    train_loss = model.epoch_train(train_loader, epoch, DEBUG_COUNT = 3)\n",
    "    val_loss = model.epoch_validate(val_loader, epoch)\n",
    "    \n",
    "    display_epoch_metrics(model, epoch, model.ending_epoch, header)\n",
    "    header = False\n",
    "    model.scheduling_step(val_loss)\n",
    "    \n",
    "    if WANDB_ACTIVE:\n",
    "        epoch_metrics = {x:y     for x,y in model.training_history['gen'].items()} | \\\n",
    "                        {x:y[-1] for x,y in model.training_history['val'].items()} | \\\n",
    "                        {x:y[-1] for x,y in model.training_history['trn'].items()} \n",
    "        wandb_log_metrics( data = epoch_metrics, step = epoch)\n",
    "    \n",
    "    if model.new_best:\n",
    "        save_checkpoint_v4(epoch+1, model, args, update_best=True)  \n",
    "    if (epoch + 1) % args.save_every == 0:\n",
    "        save_checkpoint_v4(epoch+1, model, args)    \n",
    "        \n",
    "print(f\"Last Epoch {epoch+1}\")\n",
    "save_checkpoint_v4(epoch+1, model, args, update_latest=True)       "
   ]
  },
  {
   "cell_type": "markdown",
   "id": "0db40148-a95e-4895-8868-bd27050a3c9f",
   "metadata": {},
   "source": [
    "## Close WandB Logging"
   ]
  },
  {
   "cell_type": "code",
   "execution_count": null,
   "id": "1251c457-bbae-4bfc-a786-92fbc8d2ddb6",
   "metadata": {},
   "outputs": [],
   "source": [
    "if WANDB_ACTIVE:\n",
    "    wandb_run.finish()\n",
    "    WANDB_ACTIVE = False"
   ]
  },
  {
   "cell_type": "code",
   "execution_count": 49,
   "id": "0927be49-85f5-4c34-a8e1-717016168df1",
   "metadata": {
    "execution": {
     "iopub.execute_input": "2024-07-03T23:33:03.091705Z",
     "iopub.status.busy": "2024-07-03T23:33:03.091235Z",
     "iopub.status.idle": "2024-07-03T23:33:03.099518Z",
     "shell.execute_reply": "2024-07-03T23:33:03.098557Z",
     "shell.execute_reply.started": "2024-07-03T23:33:03.091662Z"
    }
   },
   "outputs": [
    {
     "data": {
      "text/plain": [
       "(9, 2, 10)"
      ]
     },
     "execution_count": 49,
     "metadata": {},
     "output_type": "execute_result"
    }
   ],
   "source": [
    "epoch, model.starting_epoch, model.ending_epoch"
   ]
  },
  {
   "cell_type": "code",
   "execution_count": 50,
   "id": "03e71f2a-4b3c-4554-8cb8-e4a25d56db61",
   "metadata": {
    "execution": {
     "iopub.execute_input": "2024-07-03T23:33:11.959552Z",
     "iopub.status.busy": "2024-07-03T23:33:11.959086Z",
     "iopub.status.idle": "2024-07-03T23:33:11.966251Z",
     "shell.execute_reply": "2024-07-03T23:33:11.965261Z",
     "shell.execute_reply.started": "2024-07-03T23:33:11.959511Z"
    }
   },
   "outputs": [
    {
     "name": "stdout",
     "output_type": "stream",
     "text": [
      " 20240704_013311  epoch   11 of   20\n"
     ]
    }
   ],
   "source": [
    "# model.starting_epoch = 1\n",
    "# epochs = 100\n",
    "# model.ending_epoch = 5\n",
    "model.starting_epoch = model.ending_epoch\n",
    "model.ending_epoch += 10\n",
    "print(f\" {datetime.now().strftime('%Y%m%d_%H%M%S')}  epoch {model.starting_epoch+1:4d} of {model.ending_epoch:4d}\")"
   ]
  },
  {
   "cell_type": "code",
   "execution_count": 48,
   "id": "45810b9a-9d1e-4913-bc64-71c12181b3b6",
   "metadata": {
    "execution": {
     "iopub.execute_input": "2024-07-03T23:32:46.151219Z",
     "iopub.status.busy": "2024-07-03T23:32:46.150702Z",
     "iopub.status.idle": "2024-07-03T23:32:46.158796Z",
     "shell.execute_reply": "2024-07-03T23:32:46.157654Z",
     "shell.execute_reply.started": "2024-07-03T23:32:46.151177Z"
    },
    "scrolled": true
   },
   "outputs": [
    {
     "name": "stdout",
     "output_type": "stream",
     "text": [
      "  time   ep / eps |  Trn_loss   Primary      SNNL  |   temp*         grad    |   R2      BestEp         |  Vld_loss   Primary      SNNL  |   R2       BestEp          |   LR        temp LR    |\n",
      "------------------+--------------------------------+-------------------------+--------------------------+--------------------------------+----------------------------|------------------------|\n",
      "00:49:23  1 / 13  |   3.6281     0.7964     2.8317 |   1.000000   0.0000e+00 | -15.7769    10           |   3.3428     0.5098     2.8330 |  -3.7402    10             |  1.000e-04   0.000e+00 |\n",
      "00:51:36  2 / 13  |   3.2682     0.4379     2.8302 |   0.683020   0.0000e+00 |  -2.8139    10           |   3.2064     0.3708     2.8355 |  -1.6786    10             |  1.000e-04   0.000e+00 |\n",
      "00:55:42  3 / 13  |   3.1755     0.3406     2.8348 |   0.546491   0.0000e+00 |  -1.3782    10           |   3.1464     0.3087     2.8377 |  -0.7500    10             |  1.000e-04   0.000e+00 |\n",
      "00:57:52  4 / 13  |   3.1288     0.2919     2.8369 |   0.466516   0.0000e+00 |  -0.5823    10           |   3.1107     0.2722     2.8385 |  -0.1438    10             |  1.000e-04   0.000e+00 |\n",
      "01:00:03  5 / 13  |   3.0998     0.2622     2.8376 |   0.412635   0.0000e+00 |  -0.1617    10           |   3.0882     0.2496     2.8386 |   0.0923    10             |  1.000e-04   0.000e+00 |\n",
      "01:04:49  6 / 13  |   3.0846     0.2432     2.8414 |   0.546491   0.0000e+00 |  -0.0077    10           |   3.0759     0.2339     2.8420 |   0.1818    10             |  1.000e-04   0.000e+00 |\n",
      "01:07:01  7 / 13  |   3.0701     0.2294     2.8407 |   0.466516   0.0000e+00 |   0.0751    10           |   3.0634     0.2222     2.8412 |   0.2203    10             |  1.000e-04   0.000e+00 |\n",
      "01:09:11  8 / 13  |   3.0592     0.2190     2.8401 |   0.412635   0.0000e+00 |   0.1504    10           |   3.0536     0.2129     2.8406 |   0.2520    10             |  1.000e-04   0.000e+00 |\n",
      "01:11:23  9 / 13  |   3.0507     0.2111     2.8396 |   0.373265   0.0000e+00 |   0.2176    10           |   3.0462     0.2061     2.8401 |   0.3097    10             |  1.000e-04   0.000e+00 |\n",
      "01:13:36 10 / 13  |   3.0436     0.2045     2.8391 |   0.342923   0.0000e+00 |   0.2667    10           |   3.0399     0.2003     2.8396 |   0.3285    10             |  1.000e-04   0.000e+00 |\n"
     ]
    }
   ],
   "source": [
    "for epoch in range(model.ending_epoch):\n",
    "    display_epoch_metrics(model, epoch)"
   ]
  },
  {
   "cell_type": "markdown",
   "id": "f2e32a38-b342-435d-8b38-306b90f0c481",
   "metadata": {},
   "source": [
    "## Misc stuff"
   ]
  },
  {
   "cell_type": "code",
   "execution_count": 46,
   "id": "0b3f4d52-9e0a-43e5-98ed-0db1b20f3beb",
   "metadata": {
    "execution": {
     "iopub.execute_input": "2024-07-03T23:02:24.354676Z",
     "iopub.status.busy": "2024-07-03T23:02:24.354146Z",
     "iopub.status.idle": "2024-07-03T23:02:24.445190Z",
     "shell.execute_reply": "2024-07-03T23:02:24.444621Z",
     "shell.execute_reply.started": "2024-07-03T23:02:24.354633Z"
    }
   },
   "outputs": [
    {
     "name": "stderr",
     "output_type": "stream",
     "text": [
      "2024-07-04 01:02:24,442 - snnl.utils.utils - INFO: -  Model exported to ckpts/AE_snnl_dcpb200_150Ltnt_512_240704_0020_BEST.pt - epoch: 5\n"
     ]
    }
   ],
   "source": [
    "# save_checkpoint_v3(1, model, args, update_latest=True)  \n",
    "# save_checkpoint_v4(epoch+1, model, args, update_latest=True)\n",
    "save_checkpoint_v4(epoch+1, model, args, update_best=True)  "
   ]
  },
  {
   "cell_type": "code",
   "execution_count": 43,
   "id": "da9d2e60-6a22-4959-9cd1-c58ec2ac987a",
   "metadata": {
    "execution": {
     "iopub.execute_input": "2024-07-03T22:53:24.507515Z",
     "iopub.status.busy": "2024-07-03T22:53:24.507010Z",
     "iopub.status.idle": "2024-07-03T22:53:24.512715Z",
     "shell.execute_reply": "2024-07-03T22:53:24.511722Z",
     "shell.execute_reply.started": "2024-07-03T22:53:24.507472Z"
    }
   },
   "outputs": [],
   "source": [
    "# model.temperature.data\n",
    "# model.snnl_criterion.temperature\n",
    "display_epoch_metrics(model, epoch)\n",
    "# display_epoch_metrics(model, epoch = 0,epochs = 5, header = True)"
   ]
  },
  {
   "cell_type": "code",
   "execution_count": null,
   "id": "4cb33f46-7cda-4178-b435-9a9bcd9f52f0",
   "metadata": {},
   "outputs": [],
   "source": [
    "# model.starting_epoch, model.ending_epoch = 0, 2\n",
    "# epoch = 1\n",
    "# model.temperature = torch.abs(model.temperature)\n",
    "# model.temperature = torch.nn.Parameter(torch.clip(model.temperature, 0.001, None))\n",
    "# model.snnl_criterion.temperature= torch.nn.Parameter(torch.clip(model.snnl_criterion.temperature, 0.001, None))"
   ]
  },
  {
   "cell_type": "code",
   "execution_count": null,
   "id": "868e46e6-f18d-410b-a376-7f26433447af",
   "metadata": {},
   "outputs": [],
   "source": [
    "# if WANDB_ACTIVE:\n",
    "#     wandb_run.finish()\n",
    "#     WANDB_ACTIVE = False"
   ]
  },
  {
   "cell_type": "code",
   "execution_count": null,
   "id": "eae74c56-9c3b-495e-a520-5e995c264506",
   "metadata": {},
   "outputs": [],
   "source": []
  },
  {
   "cell_type": "code",
   "execution_count": null,
   "id": "fbe95719-d1e2-46fd-984c-51c47775609c",
   "metadata": {},
   "outputs": [],
   "source": [
    "model.state_dict().keys()\n",
    "# for k in ['temperature', 'snnl_criterion.temperature'\n",
    "for k in ['temperature', 'snnl_criterion.temperature','layers.0.weight', 'layers.0.bias','layers.2.weight','layers.4.weight','layers.4.bias','layers.5.weight','layers.5.bias','layers.7.weight','layers.9.weight','layers.9.bias',]:\n",
    "    if model.state_dict()[k].ndim > 1:\n",
    "        print(f\" {k+' - '+str(model.state_dict()[k].shape):45s} - {model.state_dict()[k][:3,:3].reshape((-1)).data}\")\n",
    "    else:\n",
    "        print(f\" {k+' - '+str(model.state_dict()[k].shape):45s} - {model.state_dict()[k][:9].data}\")\n"
   ]
  },
  {
   "cell_type": "code",
   "execution_count": null,
   "id": "f21452ed-9eb6-42f7-bc00-8e3a3ce7d9b6",
   "metadata": {},
   "outputs": [],
   "source": []
  },
  {
   "cell_type": "code",
   "execution_count": null,
   "id": "cdf66a33-bac4-49cb-b404-c7a80e995b43",
   "metadata": {},
   "outputs": [],
   "source": [
    "x = np.arange(200)\n",
    "y = 1.0 / ((1.0 + x) ** 0.55)"
   ]
  },
  {
   "cell_type": "code",
   "execution_count": null,
   "id": "8ce2e264-519c-45f5-b5f1-ad8fe822e26e",
   "metadata": {},
   "outputs": [],
   "source": []
  },
  {
   "cell_type": "markdown",
   "id": "9d7f6ece-b0e4-4e64-bc35-928a3c3f961d",
   "metadata": {
    "jp-MarkdownHeadingCollapsed": true
   },
   "source": [
    "# Plot losses, weights, biases and gradients"
   ]
  },
  {
   "cell_type": "code",
   "execution_count": null,
   "id": "abc9b289-e042-4243-a2b4-c76751589ac3",
   "metadata": {},
   "outputs": [],
   "source": [
    "# if 0:\n",
    "#     model_attributes = model.__dict__\n",
    "#     model.training_history['train'].keys()\n",
    "#     for key, value in model.training_history['train'].items():\n",
    "#         if isinstance(value, List) or key in [\"test_accuracy\", \"test_f1\"]:\n",
    "#             print(f\"{key:25s} {type(value)}  {len(value):7d}  {value[-5:]}\")\n",
    "#     print()\n",
    "#     for key, value in model.training_history['val'].items():\n",
    "#         if isinstance(value, List) or key in [\"test_accuracy\", \"test_f1\"]:\n",
    "#             print(f\"{key:25s} {type(value)}  {len(value):7d}  {value[-5:]}\")        "
   ]
  },
  {
   "cell_type": "code",
   "execution_count": null,
   "id": "fbb441d8-ba3d-4540-abcc-e40aaaa3dd2e",
   "metadata": {},
   "outputs": [],
   "source": [
    "# tmp = np.array(model.training_history['train']['temp_grads'])\n",
    "# for st in range(0,len(tmp), 1000):\n",
    "#     end = st + 1000\n",
    "#     print(f\" {st:5d} - {end:5d}  min: {tmp[st:end].min():9e}   max: {tmp[st:end].max():9e}    avg: {tmp[st:end].mean():9e}   std: {tmp[st:end].std():9e}\")"
   ]
  },
  {
   "cell_type": "code",
   "execution_count": null,
   "id": "2bc8de25-ddde-4d2c-b97f-1da1d375c991",
   "metadata": {
    "scrolled": true
   },
   "outputs": [],
   "source": [
    "plot_train_history(model, start= 0, n_bins = 25)"
   ]
  },
  {
   "cell_type": "code",
   "execution_count": null,
   "id": "533b465a-6b4a-4696-a014-793b8f7df079",
   "metadata": {
    "scrolled": true
   },
   "outputs": [],
   "source": [
    "plot_train_history(model, start= 0, n_bins = 25)"
   ]
  },
  {
   "cell_type": "code",
   "execution_count": null,
   "id": "85774d06-9f14-4b02-b0c6-b8c60ba92ffa",
   "metadata": {
    "jupyter": {
     "source_hidden": true
    },
    "scrolled": true
   },
   "outputs": [],
   "source": [
    "plot_train_history(model, start= 0, n_bins = 25)"
   ]
  },
  {
   "cell_type": "code",
   "execution_count": null,
   "id": "f6b91b33-81bd-47e8-aa8e-bda1bd4d4583",
   "metadata": {
    "scrolled": true
   },
   "outputs": [],
   "source": [
    "plot_train_history(model, start= 100, n_bins = 25)"
   ]
  },
  {
   "cell_type": "code",
   "execution_count": null,
   "id": "5d4eae70-3b13-4893-b485-f8ad87b4cd68",
   "metadata": {
    "scrolled": true
   },
   "outputs": [],
   "source": [
    "plot_train_history(model, start= 10, n_bins = 25)"
   ]
  },
  {
   "cell_type": "code",
   "execution_count": null,
   "id": "bc760f53-8449-4d3a-a274-f11108ed4784",
   "metadata": {
    "scrolled": true
   },
   "outputs": [],
   "source": [
    "plot_train_history(model, start= 10, n_bins = 25)"
   ]
  },
  {
   "cell_type": "code",
   "execution_count": null,
   "id": "7f50fdb6-0457-4cd3-b958-65bb44e4216d",
   "metadata": {},
   "outputs": [],
   "source": [
    "plot_model_parms(model, epochs= epochs, n_bins = 15)"
   ]
  },
  {
   "cell_type": "code",
   "execution_count": null,
   "id": "f992e4e5-ea68-4617-8c16-01dfc22f6b94",
   "metadata": {
    "scrolled": true
   },
   "outputs": [],
   "source": [
    "from snnl.utils import plot_regression_metrics\n",
    "# plot_train_metrics(model, n_bins = 25)\n",
    "plot_regression_metrics(model, n_bins = 25)"
   ]
  },
  {
   "cell_type": "markdown",
   "id": "21726628-2b16-477a-bfe7-0a0ac53130eb",
   "metadata": {
    "jp-MarkdownHeadingCollapsed": true
   },
   "source": [
    "# Save model results and model"
   ]
  },
  {
   "cell_type": "code",
   "execution_count": null,
   "id": "a4bb9a8d-9d90-40e8-90d1-9e970497568b",
   "metadata": {},
   "outputs": [],
   "source": [
    "# import datetime.timezone\n",
    "# datetime.timetz()\n",
    "compounds_per_batch = cellpainting_args['compounds_per_batch']\n",
    "title=\"autoencoder\"\n",
    "epochs_num = epochs\n",
    "timestamp = datetime.now().strftime('%Y%m%d')\n",
    "filename = f\"AE_{args.model.lower()}_{timestamp}_{title}_{epochs_num:03d}_cpb_{compounds_per_batch}_factor_{int(snnl_factor):d}\"\n",
    "print(f\"saved to {filename}\")"
   ]
  },
  {
   "cell_type": "code",
   "execution_count": null,
   "id": "8364b7ba-8d33-41ac-b30f-0c39759a9772",
   "metadata": {},
   "outputs": [],
   "source": [
    "# save_model(model, filename)\n",
    "# export_results(model=model, filename=filename)\n",
    "# save_checkpoint(epochs, model, filename, update_latest=False, update_best=False)"
   ]
  },
  {
   "cell_type": "code",
   "execution_count": null,
   "id": "5738408d-29ca-46b4-8c79-6f184958acf0",
   "metadata": {},
   "outputs": [],
   "source": [
    "model.name\n",
    "args.runmode\n",
    "ex_timestamp\n",
    "ex_title\n",
    "epoch\n",
    "args.compounds_per_batch\n",
    "model.snnl_factor"
   ]
  },
  {
   "cell_type": "code",
   "execution_count": null,
   "id": "393af8c8-cf02-455f-a810-b68a7637c07e",
   "metadata": {},
   "outputs": [],
   "source": [
    "filename = f\"{model.name}_{args.runmode}_{args.exp_date}_{args.exp_title}_ep_{epoch+1:03d}\"\n",
    "print(filename)"
   ]
  },
  {
   "cell_type": "code",
   "execution_count": null,
   "id": "38e9d094-6432-4eb7-9ce7-f07b01a01a87",
   "metadata": {},
   "outputs": [],
   "source": [
    "filename = f\"{model.name}_{args.model.lower()}_{ex_timestamp}_{ex_title}_{epoch+1:03d}_cpb_{args.compounds_per_batch}_copy\"\n",
    "print(filename)\n",
    "    # export_results(model=model, filename=filename)\n",
    "save_checkpoint_2(epochs, model, filename, update_latest=False, update_best=False)  "
   ]
  },
  {
   "cell_type": "markdown",
   "id": "75fb4184-7640-4cc5-bf19-249ebb9fc072",
   "metadata": {
    "execution": {
     "iopub.execute_input": "2024-04-01T00:58:52.961399Z",
     "iopub.status.busy": "2024-04-01T00:58:52.960920Z"
    },
    "jp-MarkdownHeadingCollapsed": true
   },
   "source": [
    "# Load model"
   ]
  },
  {
   "cell_type": "code",
   "execution_count": null,
   "id": "c914b200-c783-4477-9ca7-3370a23ec595",
   "metadata": {},
   "outputs": [],
   "source": [
    "ex_epoch = 50\n",
    "ex_runmode = 'snnl'\n",
    "ex_date = '20240509'\n",
    "ex_title = args.exp_title\n",
    "compounds_per_batch = args.compounds_per_batch\n"
   ]
  },
  {
   "cell_type": "code",
   "execution_count": null,
   "id": "4e833db8-a709-4f76-9346-fd582b95ab70",
   "metadata": {},
   "outputs": [],
   "source": [
    "# filename = f\"{model.name}_{ex_runmode}_{ex_date}_{ex_title}_{epochs:03d}_cpb_{ex_cpb}_factor_{ex_factor:d}.pt\"\n",
    "# file_pattern = f\"{model.name}_{ex_runmode}_{ex_date}_{ex_title}_*_cpb_{ex_cpb}_factor_{ex_factor:d}.pt\"\n",
    "filename = f\"{model.name}_{ex_runmode}_{ex_date}_{ex_title}_{epochs:03d}.pt\"\n",
    "print(filename)\n",
    "file_pattern = f\"{model.name}_{ex_runmode}_{ex_date}_{ex_title}_ep_*.pt\"\n",
    "print(file_pattern)"
   ]
  },
  {
   "cell_type": "code",
   "execution_count": null,
   "id": "52e8f566-6c23-496e-a8ec-08d0e2e2a51b",
   "metadata": {},
   "outputs": [],
   "source": [
    "import glob\n",
    "filelist = glob.glob(file_pattern,root_dir = './ckpts')\n",
    "filelist = sorted(filelist)\n",
    "filelist\n",
    "epochlist =sorted([int(x[-6:-3]) for x in filelist])\n",
    "epochlist\n",
    " "
   ]
  },
  {
   "cell_type": "code",
   "execution_count": null,
   "id": "a14169e7-a006-4582-9a6c-586a58b590b4",
   "metadata": {},
   "outputs": [],
   "source": [
    "# runmode = 'snnl'\n",
    "# ex_date = '20240516'\n",
    "# ex_title = args.exp_title\n",
    "ex_epoch = 200"
   ]
  },
  {
   "cell_type": "code",
   "execution_count": null,
   "id": "a71ca7cd-8258-49ca-b2d6-16268bd34dc7",
   "metadata": {},
   "outputs": [],
   "source": [
    "filename = f\"{model.name}_{args.runmode}_{exp_date}_{exp_title}_ep_{exp_epoch:03d}\"   \n",
    "if filename[-3:] != '.pt':\n",
    "    filename+='.pt'\n",
    "print(filename)\n",
    "\n",
    "if os.path.exists(os.path.join('ckpts', filename)):\n",
    "    print(f\"\\n *** Checkpoint EXISTS *** \\n\")\n",
    "else:\n",
    "    print(f\"\\n *** Checkpoint DOESNT EXIST *** \\n\")"
   ]
  },
  {
   "cell_type": "code",
   "execution_count": null,
   "id": "2d6a57df-2a6c-4ca5-8bc0-0672d1c03901",
   "metadata": {
    "scrolled": true
   },
   "outputs": [],
   "source": [
    "mdl , last_epoch = load_checkpoint_v2(model, filename)  \n",
    "print(f\" last epoch : {last_epoch}\")"
   ]
  },
  {
   "cell_type": "code",
   "execution_count": null,
   "id": "e2d9ae15-ccde-43b4-b7ae-75c3c2ffe377",
   "metadata": {},
   "outputs": [],
   "source": [
    "print(current_device)\n",
    "print(model.device)\n",
    "model.device = current_device\n",
    "print(model.device)"
   ]
  },
  {
   "cell_type": "code",
   "execution_count": null,
   "id": "00c841d7-6d85-438c-a7da-e8026fb4f644",
   "metadata": {},
   "outputs": [],
   "source": [
    "print(current_device)\n",
    "model.train()\n",
    "model = model.cuda(device=current_device)"
   ]
  },
  {
   "cell_type": "code",
   "execution_count": null,
   "id": "a2ddb4f9-b6fa-4c44-8cef-ccdaa99ce49b",
   "metadata": {},
   "outputs": [],
   "source": [
    "starting_epoch, epochs, "
   ]
  },
  {
   "cell_type": "code",
   "execution_count": null,
   "id": "25b03053-b090-4116-898a-acbfb8add271",
   "metadata": {},
   "outputs": [],
   "source": [
    "print(f\" last epoch  {last_epoch}\")"
   ]
  },
  {
   "cell_type": "code",
   "execution_count": null,
   "id": "eb1241f9-4ad1-425f-8526-43c5cd89859c",
   "metadata": {},
   "outputs": [],
   "source": [
    "# starting_epoch = 20\n",
    "starting_epoch = last_epoch\n",
    "epochs = last_epoch + 100\n",
    "# starting_epoch = epoch + 1\n",
    "print(f\" run epochs {starting_epoch+1} to {epochs} \")"
   ]
  },
  {
   "cell_type": "code",
   "execution_count": null,
   "id": "361a2ba1-0bac-4ff8-aa08-950fe7fe2302",
   "metadata": {},
   "outputs": [],
   "source": [
    "print()\n",
    "print(f\" model device         : {model.device}\")\n",
    "print(f\" model temperature    : {model.temperature}\")\n",
    "print() \n",
    "print(f\" loss_factor          : {model.loss_factor}\")\n",
    "print(f\" monitor_grads_layer  : {model.monitor_grads_layer}\")\n",
    "print(f\" Learning rate        : {model.optimizer.param_groups[0]['lr']}\") \n",
    "print(f\" snnl_factor          : {model.snnl_factor}\")\n",
    "if model.use_snnl:\n",
    "    print(f\" temperature          : {model.temperature.item()}\")\n",
    "if model.temp_optimizer is not None:\n",
    "    print(f\" Temperature LR       : {model.temp_optimizer.param_groups[0]['lr']}\") \n",
    "print()\n",
    "\n",
    "for th_key in ['trn', 'val']:\n",
    "    for k,v in model.training_history[th_key].items():\n",
    "        if isinstance(v[-1],str):\n",
    "            print(f\" {k:20s} : {v[-1]:s}  \")\n",
    "        else:\n",
    "            print(f\" {k:20s} : {v[-1]:6f} \")\n",
    "    print()\n"
   ]
  },
  {
   "cell_type": "code",
   "execution_count": null,
   "id": "6a4b320a-e40a-47b2-886f-6130c314afb8",
   "metadata": {
    "scrolled": true
   },
   "outputs": [],
   "source": [
    "model.optimizer.__dict__\n",
    "print()"
   ]
  },
  {
   "cell_type": "code",
   "execution_count": null,
   "id": "903b5c7a-4271-4659-857d-29ee395daedc",
   "metadata": {},
   "outputs": [],
   "source": [
    "model.scheduler.__dict__"
   ]
  },
  {
   "cell_type": "code",
   "execution_count": null,
   "id": "35c66518-e1f1-4c19-9aa0-27bb21a0c68d",
   "metadata": {
    "scrolled": true
   },
   "outputs": [],
   "source": [
    "model.temp_optimizer.__dict__\n",
    "print()"
   ]
  },
  {
   "cell_type": "code",
   "execution_count": null,
   "id": "5cbf6a8e-28bd-461e-ac24-0f9ba13858b1",
   "metadata": {
    "scrolled": true
   },
   "outputs": [],
   "source": [
    "model.temp_scheduler.__dict__"
   ]
  },
  {
   "cell_type": "markdown",
   "id": "e3e262c8-1ce5-44b8-9068-35c71d7123ab",
   "metadata": {
    "jp-MarkdownHeadingCollapsed": true
   },
   "source": [
    "# Misc code"
   ]
  },
  {
   "cell_type": "code",
   "execution_count": null,
   "id": "5a96d9f7-7647-43c4-9a2d-6d3337ff768a",
   "metadata": {},
   "outputs": [],
   "source": [
    "# loaded_data = import_results(filename)\n",
    "\n",
    "# for k in loaded_data.keys():\n",
    "#     print(k, type(loaded_data[k]), len(loaded_data[k]))\n",
    "# print(\"\\nTraining History\")\n",
    "# results = loaded_data['training_history']\n",
    "# for k,v in results.items():\n",
    "#     print(' ',k , len(v))\n",
    "#     for kk,vv in results[k].items():\n",
    "#         print( f\"   {kk:20s} {len(vv)}\")\n",
    "# print(\"\\nModel Parameters\")\n",
    "# model_parameters = loaded_data['params']\n",
    "# for k,v in model_parameters.items():\n",
    "#     print(f\"   {k:25s} {v}\" )\n",
    " "
   ]
  },
  {
   "cell_type": "code",
   "execution_count": null,
   "id": "cc884bcb-58de-427c-979a-c6cc15ed0aa2",
   "metadata": {},
   "outputs": [],
   "source": [
    "# model_attributes = model.__dict__\n",
    "# from collections import defaultdict\n",
    "# output = defaultdict(dict)\n",
    "\n",
    "# for key, value in model_attributes.items():\n",
    "#         if key[0] == \"_\" or type(value) in [torch.device, torch.optim.Adam , torch.optim.SGD]:\n",
    "#             continue\n",
    "#         if key == 'training_history':\n",
    "#             output[key] = value\n",
    "#         else:\n",
    "#             output['params'][key] = value\n",
    "#             print(f\" {key:30s}    {type(value)}   \")\n",
    "\n",
    "# output.keys()\n",
    "# output['params']\n",
    "# output['training_history'].keys()"
   ]
  },
  {
   "cell_type": "code",
   "execution_count": null,
   "id": "41a232e9-2360-4f04-811a-73533f0b5817",
   "metadata": {},
   "outputs": [],
   "source": [
    "# for k in results.keys():\n",
    "#     print(f\" key: {k:30s}  length of - loaded results: {len(results[k])}  existing model: {len(model.__dict__[k])}\" )\n",
    "#     model.__dict__[k] = results[k]"
   ]
  },
  {
   "cell_type": "code",
   "execution_count": null,
   "id": "49bbef6c-e864-4f37-be75-c0a71b40ca6b",
   "metadata": {},
   "outputs": [],
   "source": [
    "# for key in ['trn', 'val']:\n",
    "#     del_keys = []\n",
    "#     for k,v in model.training_history[key].items():\n",
    "#         print(k, len(v))\n",
    "#         if len(v) == 0 :\n",
    "#             del_keys.append(k)\n",
    "#     del_keys\n",
    "#     for k in del_keys:    \n",
    "#         del  model.training_history[key][k]\n",
    "#     print('-----------------------')\n",
    "\n",
    "# model.training_history['val'].keys()\n",
    "# np.argmin(model.training_history['trn']['trn_ttl_loss']), np.min(model.training_history['trn']['trn_ttl_loss'] )\n",
    "# np.argmin(model.training_history['trn']['trn_prim_loss']),np.min(model.training_history['trn']['trn_prim_loss']), np.min(model.training_history['trn']['trn_prim_loss'])  / model.loss_factor\n",
    "# np.argmin(model.training_history['trn']['trn_snn_loss']), np.min(model.training_history['trn']['trn_snn_loss'] ),  np.min(model.training_history['trn']['trn_snn_loss'] ) / model.snnl_factor\n",
    "# print()\n",
    "# np.argmin(model.training_history['val']['val_ttl_loss']) , np.min(model.training_history['val']['val_ttl_loss'] )\n",
    "# np.argmin(model.training_history['val']['val_prim_loss']), np.min(model.training_history['val']['val_prim_loss']), np.min(model.training_history['val']['val_prim_loss']) / model.loss_factor\n",
    "# np.argmin(model.training_history['val']['val_snn_loss']) , np.min(model.training_history['val']['val_snn_loss'] ), np.min(model.training_history['val']['val_snn_loss'] ) / model.snnl_factor\n",
    "\n",
    "# model.optimizer\n",
    "# model.optimizer.state_dict()\n",
    "# model.optimizer.param_groups[0]['lr'], model.optimizer.param_groups[1]['lr']\n",
    "# model.scheduler.__dict__\n",
    "\n",
    "# model.temp_optimizer\n",
    "# model.temp_scheduler.__dict__\n",
    "# model.temp_scheduler = model._ReduceLROnPlateau(model.temp_optimizer, mode='min', factor=0.75, patience=35, \n",
    "                                              # threshold=1.0e-7, threshold_mode='rel', \n",
    "                                              # cooldown=15, min_lr=0, eps=1e-08, verbose =True)  \n",
    "# model.temp_scheduler['patience'] = 35"
   ]
  },
  {
   "cell_type": "code",
   "execution_count": null,
   "id": "73b1ca58-74c2-440b-8482-f7b634cdab4e",
   "metadata": {},
   "outputs": [],
   "source": [
    "# temp_params = [p for name, p in model.named_parameters() if 'temperature' in name]\n",
    "# network_params = [p for name, p in model.named_parameters() if 'temperature' not in name]\n",
    "# for t in temp_params:\n",
    "#     t.requires_grad = False "
   ]
  },
  {
   "cell_type": "code",
   "execution_count": null,
   "id": "47d38f37-c7f0-4be6-a762-202604f167dd",
   "metadata": {},
   "outputs": [],
   "source": [
    "# model.optimizer = torch.optim.Adam(params = network_params, lr=0.001, weight_decay = 0.1)\n",
    "# # if self.use_snnl:\n",
    "# #     self.optimizer.add_param_group({'params': temp_params, 'lr': temperatureLR, 'weight_decay': adam_weight_decay})\n",
    "\n",
    "# if model.use_scheduler:\n",
    "#     model.scheduler = model._ReduceLROnPlateau(model.optimizer, mode='min', factor=0.5, patience=40, threshold=0.000001, \n",
    "#                                              threshold_mode='rel', cooldown=10, min_lr=0, eps=1e-08, verbose =True) "
   ]
  }
 ],
 "metadata": {
  "kernelspec": {
   "display_name": "Python [conda env:ptsnnl]",
   "language": "python",
   "name": "conda-env-ptsnnl-py"
  },
  "language_info": {
   "codemirror_mode": {
    "name": "ipython",
    "version": 3
   },
   "file_extension": ".py",
   "mimetype": "text/x-python",
   "name": "python",
   "nbconvert_exporter": "python",
   "pygments_lexer": "ipython3",
   "version": "3.11.0"
  },
  "toc": {
   "base_numbering": 1,
   "nav_menu": {},
   "number_sections": true,
   "sideBar": true,
   "skip_h1_title": false,
   "title_cell": "Table of Contents",
   "title_sidebar": "Contents",
   "toc_cell": false,
   "toc_position": {},
   "toc_section_display": true,
   "toc_window_display": false
  }
 },
 "nbformat": 4,
 "nbformat_minor": 5
}
