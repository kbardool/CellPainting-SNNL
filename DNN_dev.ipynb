{
 "cells": [
  {
   "cell_type": "markdown",
   "id": "8352411c-1789-479d-bae0-dc9b5664be49",
   "metadata": {},
   "source": [
    "# Setup"
   ]
  },
  {
   "cell_type": "code",
   "execution_count": 1,
   "id": "b1543eaa-61c1-4b00-9745-9db4239b5b15",
   "metadata": {
    "ExecuteTime": {
     "end_time": "2023-04-12T10:29:16.111588Z",
     "start_time": "2023-04-12T10:29:15.764305Z"
    },
    "execution": {
     "iopub.execute_input": "2024-05-01T14:44:22.051868Z",
     "iopub.status.busy": "2024-05-01T14:44:22.051315Z",
     "iopub.status.idle": "2024-05-01T14:44:22.077573Z",
     "shell.execute_reply": "2024-05-01T14:44:22.076941Z",
     "shell.execute_reply.started": "2024-05-01T14:44:22.051822Z"
    }
   },
   "outputs": [
    {
     "data": {
      "text/html": [
       "<style>.container { width:98% !important; }</style>"
      ],
      "text/plain": [
       "<IPython.core.display.HTML object>"
      ]
     },
     "metadata": {},
     "output_type": "display_data"
    }
   ],
   "source": [
    "from IPython.display import display, HTML\n",
    "display(HTML(\"<style>.container { width:98% !important; }</style>\"))\n",
    "%load_ext autoreload  \n",
    "%autoreload 2\n",
    "from IPython.core.interactiveshell import InteractiveShell\n",
    "InteractiveShell.ast_node_interactivity = \"all\""
   ]
  },
  {
   "cell_type": "code",
   "execution_count": 2,
   "id": "6ccba311-11f9-491c-86d8-1bd8b3c1803e",
   "metadata": {
    "ExecuteTime": {
     "end_time": "2023-04-12T10:29:16.111588Z",
     "start_time": "2023-04-12T10:29:15.764305Z"
    },
    "execution": {
     "iopub.execute_input": "2024-05-01T14:44:22.601531Z",
     "iopub.status.busy": "2024-05-01T14:44:22.600961Z",
     "iopub.status.idle": "2024-05-01T14:44:24.690326Z",
     "shell.execute_reply": "2024-05-01T14:44:24.689394Z",
     "shell.execute_reply.started": "2024-05-01T14:44:22.601476Z"
    }
   },
   "outputs": [
    {
     "name": "stdout",
     "output_type": "stream",
     "text": [
      "insert ./src\n",
      "['./src', '/home/kevin/miniforge3/envs/ptsnnl/lib/python311.zip', '/home/kevin/miniforge3/envs/ptsnnl/lib/python3.11', '/home/kevin/miniforge3/envs/ptsnnl/lib/python3.11/lib-dynload', '', '/home/kevin/miniforge3/envs/ptsnnl/lib/python3.11/site-packages']\n",
      "2.2.1+cu118\n",
      "Timestamp:  2024_05_01_16:44:24\n"
     ]
    }
   ],
   "source": [
    "import os\n",
    "import sys\n",
    "import csv\n",
    "import json\n",
    "import time\n",
    "import types, copy, pprint\n",
    "import logging \n",
    "from datetime import datetime\n",
    "if './src' not in sys.path:\n",
    "    print(f\"insert ./src\")\n",
    "    sys.path.insert(0, './src')\n",
    "print(sys.path)\n",
    "\n",
    "import numpy as np\n",
    "import pandas as pd\n",
    "from matplotlib import pyplot as plt\n",
    "from typing import Dict, List, Tuple\n",
    "from scipy.sparse import csr_matrix\n",
    "import shutil\n",
    "import getpass\n",
    "from tqdm import tqdm\n",
    "\n",
    "import torch\n",
    "import torch.nn.functional as F\n",
    "from torchinfo import summary\n",
    "print(torch.__version__)\n",
    "\n",
    "pp = pprint.PrettyPrinter(indent=4)\n",
    "\n",
    "pd.options.display.width = 132\n",
    "torch.set_printoptions(precision=None, threshold=None, edgeitems=None, linewidth=150, profile=None, sci_mode=None)\n",
    "np.set_printoptions(edgeitems=3, infstr='inf', linewidth=150, nanstr='nan')\n",
    "\n",
    "os.environ[\"WANDB_NOTEBOOK_NAME\"] = \"Adashare_Train.ipynb\"\n",
    "os.environ[\"CUDA_LAUNCH_BLOCKING\"] = \"1\"\n",
    "\n",
    "# print(\"7- '%Y_%m_%d_%H:%M:%S'   : \",datetime.now().strftime('%Y%m%d_%H%M%S'))\n",
    "timestamp = datetime.now().strftime('%Y_%m_%d_%H:%M:%S')\n",
    "print('Timestamp: ',timestamp)\n",
    "logLevel = os.environ.get('LOG_LEVEL', 'INFO').upper()\n",
    "FORMAT = '%(asctime)s - %(levelname)s: - %(message)s'\n",
    "logging.basicConfig(level=\"INFO\", format= FORMAT)"
   ]
  },
  {
   "cell_type": "code",
   "execution_count": 3,
   "id": "aeebc964-9e2e-4473-803d-8613da5345e5",
   "metadata": {
    "execution": {
     "iopub.execute_input": "2024-05-01T14:44:24.692499Z",
     "iopub.status.busy": "2024-05-01T14:44:24.692120Z",
     "iopub.status.idle": "2024-05-01T14:44:27.277579Z",
     "shell.execute_reply": "2024-05-01T14:44:27.276780Z",
     "shell.execute_reply.started": "2024-05-01T14:44:24.692470Z"
    }
   },
   "outputs": [
    {
     "data": {
      "text/plain": [
       "'Sample module for using DNN classifier with SNNL'"
      ]
     },
     "execution_count": 3,
     "metadata": {},
     "output_type": "execute_result"
    }
   ],
   "source": [
    "# Soft Nearest Neighbor Loss\n",
    "# Copyright (C) 2020  Abien Fred Agarap\n",
    "#\n",
    "# This program is free software: you can redistribute it and/or modify\n",
    "# it under the terms of the GNU Affero General Public License as published\n",
    "# by the Free Software Foundation, either version 3 of the License, or\n",
    "# (at your option) any later version.\n",
    "#\n",
    "# This program is distributed in the hope that it will be useful,\n",
    "# but WITHOUT ANY WARRANTY; without even the implied warranty of\n",
    "# MERCHANTABILITY or FITNESS FOR A PARTICULAR PURPOSE.  See the\n",
    "# GNU Affero General Public License for more details.\n",
    "#\n",
    "# You should have received a copy of the GNU Affero General Public License\n",
    "# along with this program.  If not, see <https://www.gnu.org/licenses/>.\n",
    "__author__ = \"Abien Fred Agarap\"\n",
    "__version__ = \"1.0.0\"\n",
    "\"\"\"Sample module for using DNN classifier with SNNL\"\"\"\n",
    "\n",
    "# import argparse\n",
    "# import torch\n",
    "# from pt_datasets import create_dataloader, load_dataset\n",
    "# from pt_datasets import display_cellpainting_batch\n",
    "# from snnl.models import DNN\n",
    "from snnl.utils import export_results, get_hyperparameters, set_global_seed, get_device, set_device\n",
    "from snnl.utils import accuracy, load_model, save_model, import_results, export_results, save_checkpoint, load_checkpoint \n",
    "from snnl.utils import plot_model_parms, plot_train_history, display_epoch_metrics, display_model_history\n",
    "from snnl.utils import plot_train_metrics, parse_args, display_cellpainting_batch\n",
    "from snnl.utils import CellpaintingDataset, InfiniteDataLoader, custom_collate_fn\n",
    "\n",
    "from dev_base import Model\n",
    "from dev_dnn import DNN \n",
    "from dev_autoencoder import Autoencoder\n",
    "from dev_snnloss import SNNLoss"
   ]
  },
  {
   "cell_type": "code",
   "execution_count": 4,
   "id": "8059a7a6",
   "metadata": {
    "execution": {
     "iopub.execute_input": "2024-05-01T14:44:27.279113Z",
     "iopub.status.busy": "2024-05-01T14:44:27.278647Z",
     "iopub.status.idle": "2024-05-01T14:44:28.060850Z",
     "shell.execute_reply": "2024-05-01T14:44:28.059548Z",
     "shell.execute_reply.started": "2024-05-01T14:44:27.279060Z"
    }
   },
   "outputs": [
    {
     "name": "stdout",
     "output_type": "stream",
     "text": [
      " device: 0   Quadro GV100                   :  free: 22,659,268,608 B   (21.10 GB)    total: 34,069,872,640 B   (31.73 GB)\n",
      " device: 1   Quadro GV100                   :  free: 29,946,871,808 B   (27.89 GB)    total: 34,069,872,640 B   (31.73 GB)\n",
      " device: 2   NVIDIA TITAN Xp                :  free: 12,464,029,696 B   (11.61 GB)    total: 12,774,539,264 B   (11.90 GB)\n",
      " Current CUDA Device is: cuda:0 Quadro GV100 0\n",
      " Current device is : cuda:0\n"
     ]
    }
   ],
   "source": [
    "current_device = get_device()\n",
    "print(f\" Current device is : {current_device}\")"
   ]
  },
  {
   "cell_type": "code",
   "execution_count": 5,
   "id": "fe3917a5-6d96-4eeb-b606-953ff359f6a9",
   "metadata": {
    "execution": {
     "iopub.execute_input": "2024-05-01T14:44:28.063560Z",
     "iopub.status.busy": "2024-05-01T14:44:28.063128Z",
     "iopub.status.idle": "2024-05-01T14:44:28.105342Z",
     "shell.execute_reply": "2024-05-01T14:44:28.104582Z",
     "shell.execute_reply.started": "2024-05-01T14:44:28.063517Z"
    }
   },
   "outputs": [
    {
     "name": "stdout",
     "output_type": "stream",
     "text": [
      " Running on: Quadro GV100 0\n",
      " Switch to cuda:2 \n",
      " Running on: NVIDIA TITAN Xp 2\n"
     ]
    }
   ],
   "source": [
    "current_device = set_device(2)"
   ]
  },
  {
   "cell_type": "markdown",
   "id": "1be5e789-3446-482f-a3ca-fdd19b2a845e",
   "metadata": {},
   "source": [
    "### main(args)"
   ]
  },
  {
   "cell_type": "code",
   "execution_count": 6,
   "id": "48a88e1c-e888-49de-90f1-ff9ba9bf8b1c",
   "metadata": {
    "execution": {
     "iopub.execute_input": "2024-05-01T14:44:29.227121Z",
     "iopub.status.busy": "2024-05-01T14:44:29.226471Z",
     "iopub.status.idle": "2024-05-01T14:44:29.266822Z",
     "shell.execute_reply": "2024-05-01T14:44:29.266068Z",
     "shell.execute_reply.started": "2024-05-01T14:44:29.227068Z"
    }
   },
   "outputs": [
    {
     "data": {
      "text/plain": [
       "Namespace(seed=1234, model='snnl', configuration='hyperparameters/dnn_cellpainting_classifier_03.json')"
      ]
     },
     "execution_count": 6,
     "metadata": {},
     "output_type": "execute_result"
    },
    {
     "name": "stdout",
     "output_type": "stream",
     "text": [
      "common cellpainting hyperparameters\n",
      "loading dnn hyperparameters\n",
      "loading dnn cellpainting hyperparameters\n"
     ]
    }
   ],
   "source": [
    "# if __name__ == \"__main__\":\n",
    "input_args = f\" --seed              1234 \" \\\n",
    "             f\" --model             snnl\" \\\n",
    "             f\" --configuration       hyperparameters/dnn_cellpainting_classifier_03.json\"\n",
    "             # f\" --configuration     hyperparameters/dnn_cellpainting_classifier_dropout.json\"\n",
    "             # f\" --configuration     hyperparameters/dnn_cellpainting_classifier_02.json\"\n",
    "             # f\" --configuration     hyperparameters/dnn_cellpainting_classifier_01.json\"\n",
    "             # f\" --configuration     hyperparameters/dnn_cellpainting_unsupervised.json\"\n",
    "             # f\" --configuration     hyperparameters/dnn_mnist.json\"\n",
    "             # f\" --model             baseline\" \\\n",
    "args = parse_args(input_args.split())\n",
    "args\n",
    "set_global_seed(args.seed)\n",
    "\n",
    "# DNN\n",
    "(   dataset,\n",
    "    batch_size,\n",
    "    epochs,\n",
    "    learning_rate,\n",
    "    units,\n",
    "    activations,\n",
    "    snnl_factor,\n",
    "    temperature,\n",
    "    cellpainting_args\n",
    " ) = get_hyperparameters(args.configuration)\n"
   ]
  },
  {
   "cell_type": "code",
   "execution_count": 7,
   "id": "3eb5af3a-5c2c-482e-b133-eff26ad0b812",
   "metadata": {
    "execution": {
     "iopub.execute_input": "2024-05-01T14:44:29.551404Z",
     "iopub.status.busy": "2024-05-01T14:44:29.550887Z",
     "iopub.status.idle": "2024-05-01T14:44:29.589641Z",
     "shell.execute_reply": "2024-05-01T14:44:29.588930Z",
     "shell.execute_reply.started": "2024-05-01T14:44:29.551359Z"
    }
   },
   "outputs": [],
   "source": [
    "# batch_size = 1\n",
    "# compounds_per_batch = 100\n",
    "\n",
    "if dataset == \"cellpainting\": \n",
    "    # cellpainting_args['batch_size']   = batch_size\n",
    "    # cellpainting_args['compounds_per_batch'] = compounds_per_batch\n",
    "    # cellpainting_args['training_path'] = '/home/kevin/WSL-shared/Cellpainting/cj-datasets/output_11102023/3_sample_profiles/3sample_profiles_1482_HashOrder.csv'\n",
    "    # cellpainting_args['validation_path'] = '/home/kevin/WSL-shared/Cellpainting/cj-datasets/output_11102023/3_sample_profiles/3sample_profiles_1482_HashOrder_test.csv'\n",
    "    # cellpainting_args['train_start']  = 0\n",
    "    # cellpainting_args['train_end']    = 240_000\n",
    "    # cellpainting_args['val_start']    = 0\n",
    "    # cellpainting_args['val_end']      = 24_000\n",
    "    # cellpainting_args['sample_size'] = 3\n",
    "    pass\n"
   ]
  },
  {
   "cell_type": "code",
   "execution_count": 8,
   "id": "7124dbc9-5413-42f2-a16b-4566eec4d3d7",
   "metadata": {
    "execution": {
     "iopub.execute_input": "2024-05-01T14:44:29.784898Z",
     "iopub.status.busy": "2024-05-01T14:44:29.784585Z",
     "iopub.status.idle": "2024-05-01T14:44:29.823522Z",
     "shell.execute_reply": "2024-05-01T14:44:29.822698Z",
     "shell.execute_reply.started": "2024-05-01T14:44:29.784874Z"
    }
   },
   "outputs": [
    {
     "name": "stdout",
     "output_type": "stream",
     "text": [
      " - Each mini-batch contains 1000.0 compounds with 3 samples per each compound : total 3000 rows\n",
      " - Number of 3000 row full size batches per epoch: 80\n",
      " - Rows covered by 80 full size batches (3000 rows) per epoch:  240000\n",
      " - Last partial batch contains : 0 rows\n",
      "\n",
      " - Each mini-batch contains 1000.0 compounds with 3 samples per each compound : total 3000 rows\n",
      " - Number of 3000 row full size batches per epoch: 8\n",
      " - Rows covered by 8 full size batches (3000 rows) per epoch:  24000\n",
      " - Last partial batch contains : 0 rows\n",
      "\n"
     ]
    }
   ],
   "source": [
    "trn_file_sz = cellpainting_args['train_end'] - cellpainting_args['train_start']\n",
    "val_file_sz = cellpainting_args['val_end'] - cellpainting_args['val_start']\n",
    "smp_sz = cellpainting_args['sample_size']\n",
    "buf_sz = cellpainting_args['compounds_per_batch']\n",
    "bth_sz = batch_size\n",
    "recs_per_batch = smp_sz * bth_sz * buf_sz\n",
    "\n",
    "for file_sz in [trn_file_sz, val_file_sz]:\n",
    "    bth_per_epoch = file_sz // recs_per_batch\n",
    "    print(f\" - Each mini-batch contains {recs_per_batch/smp_sz} compounds with {smp_sz} samples per each compound : total {recs_per_batch} rows\")\n",
    "    print(f\" - Number of {recs_per_batch} row full size batches per epoch: {bth_per_epoch}\")\n",
    "    print(f\" - Rows covered by {bth_per_epoch} full size batches ({recs_per_batch} rows) per epoch:  {(file_sz // recs_per_batch) * recs_per_batch}\")\n",
    "    print(f\" - Last partial batch contains : {file_sz % recs_per_batch} rows\")\n",
    "    print() "
   ]
  },
  {
   "cell_type": "code",
   "execution_count": 9,
   "id": "1e4f9df4-ca74-4916-8d76-be4bed339b6c",
   "metadata": {
    "execution": {
     "iopub.execute_input": "2024-05-01T14:44:29.959825Z",
     "iopub.status.busy": "2024-05-01T14:44:29.959497Z",
     "iopub.status.idle": "2024-05-01T14:44:30.000869Z",
     "shell.execute_reply": "2024-05-01T14:44:30.000097Z",
     "shell.execute_reply.started": "2024-05-01T14:44:29.959787Z"
    }
   },
   "outputs": [
    {
     "name": "stdout",
     "output_type": "stream",
     "text": [
      "   dataset           cellpainting\n",
      "   batch_size        10\n",
      "   epochs            10\n",
      "   learning_rate     0.0001\n",
      "   layers            [['linear', 1471, 512], ['linear', 512, 128], ['linear', 128, 1]]\n",
      "   activations       ['relu', 'relu', 'sigmoid']\n",
      "   snnl_factor       10.0\n",
      "   temperature       50.0\n",
      "\n",
      "{   'batch_size': 1,\n",
      "    'chunksize': None,\n",
      "    'compounds_per_batch': 100,\n",
      "    'conversions': None,\n",
      "    'iterator': True,\n",
      "    'sample_size': 3,\n",
      "    'test_end': 33600,\n",
      "    'test_start': 30000,\n",
      "    'train_end': 240000,\n",
      "    'train_start': 0,\n",
      "    'training_path': '/home/kevin/WSL-shared/Cellpainting/cj-datasets/output_11102023/3_sample_profiles/3sample_profiles_1482_HashOrder.csv',\n",
      "    'val_end': 24000,\n",
      "    'val_start': 0,\n",
      "    'validation_path': '/home/kevin/WSL-shared/Cellpainting/cj-datasets/output_11102023/3_sample_profiles/3sample_profiles_1482_HashOrder_test.csv'}\n"
     ]
    }
   ],
   "source": [
    "print(f\"   dataset           {dataset}\")\n",
    "print(f\"   batch_size        {batch_size}\")\n",
    "print(f\"   epochs            {epochs}\")\n",
    "print(f\"   learning_rate     {learning_rate}\")\n",
    "print(f\"   layers            {units}\")\n",
    "print(f\"   activations       {activations}\")\n",
    "print(f\"   snnl_factor       {snnl_factor}\")\n",
    "print(f\"   temperature       {temperature}\")\n",
    "print()\n",
    " \n",
    "if dataset == \"cellpainting\": \n",
    "    pp.pprint(cellpainting_args)"
   ]
  },
  {
   "cell_type": "markdown",
   "id": "d59e7f37-316c-4cce-a0b3-06bba0c9bc27",
   "metadata": {},
   "source": [
    "## Define dataset and dataloaders"
   ]
  },
  {
   "cell_type": "code",
   "execution_count": 10,
   "id": "cea08d81-f0c7-4942-8436-b6ad83e9fae3",
   "metadata": {
    "execution": {
     "iopub.execute_input": "2024-05-01T14:44:30.822301Z",
     "iopub.status.busy": "2024-05-01T14:44:30.821705Z",
     "iopub.status.idle": "2024-05-01T14:44:30.865354Z",
     "shell.execute_reply": "2024-05-01T14:44:30.864618Z",
     "shell.execute_reply.started": "2024-05-01T14:44:30.822240Z"
    }
   },
   "outputs": [
    {
     "name": "stdout",
     "output_type": "stream",
     "text": [
      " load cellpainting\n",
      " Building CellPantingDataset from NOTEBOOK\n",
      "    _init()_    -- filename:          /home/kevin/WSL-shared/Cellpainting/cj-datasets/output_11102023/3_sample_profiles/3sample_profiles_1482_HashOrder.csv\n",
      "    _init()_    -- type :             train\n",
      "    _init()_    -- start :            0\n",
      "    _init()_    -- end :              240000\n",
      "    _init()_    -- numrows :          240000\n",
      " Building CellPantingDataset from NOTEBOOK\n",
      "    _init()_    -- filename:          /home/kevin/WSL-shared/Cellpainting/cj-datasets/output_11102023/3_sample_profiles/3sample_profiles_1482_HashOrder_test.csv\n",
      "    _init()_    -- type :             val\n",
      "    _init()_    -- start :            0\n",
      "    _init()_    -- end :              24000\n",
      "    _init()_    -- numrows :          24000\n"
     ]
    }
   ],
   "source": [
    "#### Load CellPainting Dataset\n",
    "if dataset == 'cellpainting':\n",
    "    print(f\" load {dataset}\")\n",
    "    train_dataset = CellpaintingDataset(type='train',    **cellpainting_args)\n",
    "    train_loader = InfiniteDataLoader(dataset=train_dataset, batch_size = batch_size, shuffle = False, num_workers = 0, collate_fn = custom_collate_fn)\n",
    "    val_dataset = CellpaintingDataset(type='val',    **cellpainting_args)\n",
    "    val_loader = InfiniteDataLoader(dataset=val_dataset, batch_size = batch_size, shuffle = False, num_workers = 0, collate_fn = custom_collate_fn)\n",
    "\n",
    "# train_dataset, test_dataset = load_dataset(name='cellpainting', cellpainting_args = cellpainting_args)\n",
    "# test_loader = create_dataloader(dataset=test_dataset, batch_size=batch_size, shuffle = False, num_workers = 0 , collate_fn = custom_collate_fn)\n",
    "# train_dataloader = DataLoader(dataset = train_dataset, batch_size=10, num_workers = 0, collate_fn=custom_collate, worker_init_fn = worker_init_fn, shuffle= False)\n",
    "# test_dataloader  = DataLoader(dataset = test_dataset , batch_size=12, num_workers = 0, collate_fn=custom_collate, worker_init_fn = worker_init_fn, shuffle= False)"
   ]
  },
  {
   "cell_type": "code",
   "execution_count": 11,
   "id": "39b0ed2b-a2e3-4588-b4a4-e2e6def24ed7",
   "metadata": {
    "execution": {
     "iopub.execute_input": "2024-05-01T14:44:31.646767Z",
     "iopub.status.busy": "2024-05-01T14:44:31.646333Z",
     "iopub.status.idle": "2024-05-01T14:44:31.684493Z",
     "shell.execute_reply": "2024-05-01T14:44:31.683759Z",
     "shell.execute_reply.started": "2024-05-01T14:44:31.646732Z"
    }
   },
   "outputs": [],
   "source": [
    "# for idx, batch in enumerate(train_loader):\n",
    "#     print(f\"{idx:4d}, {batch[0].shape}, {batch[1].shape},{batch[2].shape},{batch[3].shape},{batch[4].shape}, {batch[3][:3]}, {batch[3][-3:]}\")\n",
    "#     display_cellpainting_batch(idx, batch)\n",
    "#     if idx >= 0:\n",
    "#         break"
   ]
  },
  {
   "cell_type": "markdown",
   "id": "607c48ed-c31d-4a58-bde2-36df402aa7b8",
   "metadata": {},
   "source": [
    "# define DNN model"
   ]
  },
  {
   "cell_type": "markdown",
   "id": "7ec0b52c-b45f-47da-a5a5-6559ab8da421",
   "metadata": {},
   "source": [
    "## Define Model"
   ]
  },
  {
   "cell_type": "code",
   "execution_count": 20,
   "id": "143921e5-1a57-4da6-bf1b-4a46dc5c9059",
   "metadata": {
    "execution": {
     "iopub.execute_input": "2024-05-01T14:58:14.772673Z",
     "iopub.status.busy": "2024-05-01T14:58:14.772249Z",
     "iopub.status.idle": "2024-05-01T14:58:14.814282Z",
     "shell.execute_reply": "2024-05-01T14:58:14.813432Z",
     "shell.execute_reply.started": "2024-05-01T14:58:14.772638Z"
    }
   },
   "outputs": [
    {
     "name": "stdout",
     "output_type": "stream",
     "text": [
      "   units             [['linear', 1471, 512], ['linear', 512, 128], ['linear', 128, 1]]\n",
      "   loss_factor       10.0\n",
      "   snnl_factor       1.0\n",
      "   temperature       15.0\n",
      "   learning_rate     0.001\n",
      "   temperatureLR:    0.01\n"
     ]
    }
   ],
   "source": [
    "loss_factor   = 10.0\n",
    "snnl_factor   = 1.0\n",
    "learning_rate = 1e-03    ## 0.001\n",
    "temperature   = 15.00\n",
    "temperatureLR = 1e-02     ## 1e-4\n",
    "print(f\"   units             {units}\")\n",
    "print(f\"   loss_factor       {loss_factor}\")\n",
    "print(f\"   snnl_factor       {snnl_factor}\")\n",
    "print(f\"   temperature       {temperature}\")\n",
    "print(f\"   learning_rate     {learning_rate}\")\n",
    "print(f\"   temperatureLR:    {temperatureLR}\")"
   ]
  },
  {
   "cell_type": "code",
   "execution_count": 21,
   "id": "b8f7c51c-a2be-4ac8-836a-039ca78084d8",
   "metadata": {
    "execution": {
     "iopub.execute_input": "2024-05-01T14:58:15.446162Z",
     "iopub.status.busy": "2024-05-01T14:58:15.445659Z",
     "iopub.status.idle": "2024-05-01T14:58:15.503723Z",
     "shell.execute_reply": "2024-05-01T14:58:15.502752Z",
     "shell.execute_reply.started": "2024-05-01T14:58:15.446121Z"
    }
   },
   "outputs": [
    {
     "name": "stdout",
     "output_type": "stream",
     "text": [
      " snnl model\n",
      "\n",
      "------------------------------------------------------------\n",
      " Building Base Model from NOTEBOOK\n",
      "------------------------------------------------------------\n",
      "    Model_init()_    -- mode:              classifier\n",
      "    Model_init()_    -- unsupervised :     False\n",
      "    Model_init()_    -- Criterion:         BCELoss()\n",
      "    Model_init()_    -- use_snnl :         True\n",
      "    Model_init()_    -- temperature :      15.0\n",
      "    Model_init()_    -- temperature LR:    0.01\n",
      "\n",
      "------------------------------------------------------------\n",
      " Build SNNLoss from NOTEBOOK\n",
      "------------------------------------------------------------\n",
      "    SNNLoss _init()_    -- mode: classifier was found in SNNLoss._supported_modes --   is unsupervised: True\n",
      "    SNNLoss _init()_    -- unsupervised :     False\n",
      "    SNNLoss _init()_    -- use_annealing :    False\n",
      "    SNNLoss _init()_    -- sample_size :      3\n",
      "    SNNLoss _init()_    -- embedding_layer :  None\n",
      "    SNNLoss _init()_    -- temperature :      15.0\n",
      " Building DNN from NOTEBOOK\n",
      " layer_types      : ['linear', 'linear', 'linear']\n",
      " layer_activations: ['relu', 'relu', 'sigmoid']\n",
      "    DNN _init()_    -- mode:              classifier\n",
      "    DNN _init()_    -- unsupervised :     False\n",
      "    DNN _init()_    -- use_snnl :         True\n",
      "    DNN _init()_    -- Crtierion  :       SNNLoss()\n",
      "    DNN _init()_    -- temperature :      15.0\n",
      "    DNN _init()_    -- temperature LR:    0.01\n"
     ]
    }
   ],
   "source": [
    "try: \n",
    "    del model\n",
    "except: \n",
    "    print(\" model doesnt exist\" )\n",
    "if args.model.lower() == \"baseline\":\n",
    "    print(f\" baseline model\")\n",
    "    model = DNN(units=units, learning_rate=learning_rate)\n",
    "elif args.model.lower() == \"snnl\":\n",
    "    print(f\" snnl model\")\n",
    "    model = DNN(\n",
    "        mode=\"classifier\",\n",
    "        units=units,\n",
    "        activations=activations,\n",
    "        criterion=torch.nn.BCELoss(),\n",
    "        use_snnl=True,\n",
    "        loss_factor=loss_factor,\n",
    "        snnl_factor=snnl_factor,\n",
    "        temperature= temperature,\n",
    "        learning_rate= learning_rate,\n",
    "        temperatureLR= temperatureLR,\n",
    "        adam_weight_decay = 0,\n",
    "        SGD_weight_decay= 0,\n",
    "        use_annealing= False,\n",
    "        unsupervised = False,\n",
    "        sample_size = cellpainting_args['sample_size']\n",
    "    )\n",
    "else:\n",
    "    raise ValueError(\"Choose between [baseline] and [snnl] only.\")\n",
    "\n",
    "# model.scheduler = torch.optim.lr_scheduler.ReduceLROnPlateau(model.optimizer, mode='min', factor=0.5, patience=30, \n",
    "#                                                              threshold=0.00001, threshold_mode='rel', cooldown=5, \n",
    "#                                                              min_lr=0, eps=1e-08)"
   ]
  },
  {
   "cell_type": "code",
   "execution_count": 22,
   "id": "4e00495e-1282-427d-9a09-9a068ae7001c",
   "metadata": {
    "execution": {
     "iopub.execute_input": "2024-05-01T14:58:16.731951Z",
     "iopub.status.busy": "2024-05-01T14:58:16.731442Z",
     "iopub.status.idle": "2024-05-01T14:58:16.772206Z",
     "shell.execute_reply": "2024-05-01T14:58:16.771429Z",
     "shell.execute_reply.started": "2024-05-01T14:58:16.731909Z"
    }
   },
   "outputs": [],
   "source": [
    " ## display_model_summary(model)"
   ]
  },
  {
   "cell_type": "markdown",
   "id": "1cae6562-a768-4b1f-8792-f26d117e1b0d",
   "metadata": {},
   "source": [
    "## `model.fit(data_loader=train_loader, epochs=epochs)`"
   ]
  },
  {
   "cell_type": "code",
   "execution_count": 23,
   "id": "0d156075-9414-4c34-a7cb-12cae55f9d2b",
   "metadata": {
    "execution": {
     "iopub.execute_input": "2024-05-01T14:58:17.124599Z",
     "iopub.status.busy": "2024-05-01T14:58:17.124311Z",
     "iopub.status.idle": "2024-05-01T14:58:17.160386Z",
     "shell.execute_reply": "2024-05-01T14:58:17.159840Z",
     "shell.execute_reply.started": "2024-05-01T14:58:17.124576Z"
    }
   },
   "outputs": [
    {
     "data": {
      "text/plain": [
       "(0, 0, 10)"
      ]
     },
     "execution_count": 23,
     "metadata": {},
     "output_type": "execute_result"
    }
   ],
   "source": [
    "starting_epoch, epoch , epochs = 0,0,10\n",
    "starting_epoch, epoch , epochs"
   ]
  },
  {
   "cell_type": "code",
   "execution_count": 24,
   "id": "5d0b1a36-3997-403f-88b7-d19e7b84837d",
   "metadata": {
    "execution": {
     "iopub.execute_input": "2024-05-01T14:58:17.676282Z",
     "iopub.status.busy": "2024-05-01T14:58:17.675910Z",
     "iopub.status.idle": "2024-05-01T14:58:17.720289Z",
     "shell.execute_reply": "2024-05-01T14:58:17.719491Z",
     "shell.execute_reply.started": "2024-05-01T14:58:17.676253Z"
    }
   },
   "outputs": [
    {
     "name": "stdout",
     "output_type": "stream",
     "text": [
      " loss_factor      : 10.0\n",
      " snnl_factor      : 1.0\n",
      " model.temperature: Parameter containing:\n",
      "tensor([15.], device='cuda:0', requires_grad=True)\n",
      " temperature.grad : None\n",
      " Learning rate    : 0.001\n",
      " Temperature LR   : 0.01\n",
      "\n",
      " loss_factor      : 10.0\n",
      " snnl_factor      : 1.0\n",
      " model.temperature: Parameter containing:\n",
      "tensor([15.], device='cuda:0', requires_grad=True)\n",
      " temperature grad : None\n",
      " Learning rate    : 0.001\n",
      " Temperature LR   : 0.01\n",
      " run epochs 1 to 10 \n"
     ]
    }
   ],
   "source": [
    "# snnl_factor = 1.0\n",
    "print(f\" loss_factor      : {loss_factor}\")\n",
    "print(f\" snnl_factor      : {snnl_factor}\")\n",
    "print(f\" model.temperature: {model.temperature}\")\n",
    "print(f\" temperature.grad : {model.temperature.grad}\")\n",
    "print(f\" Learning rate    : {model.optimizer.param_groups[0]['lr']}\") \n",
    "print(f\" Temperature LR   : {model.temperatureLR}\") \n",
    "# model.temperature = 40.0\n",
    "# snnl_factor = 10.0\n",
    "# model.temperatureLR = 1e-5\n",
    "# model.optimizer.param_groups[0]['lr'] = 0.001\n",
    "print()\n",
    "print(f\" loss_factor      : {loss_factor}\")\n",
    "print(f\" snnl_factor      : {snnl_factor}\")\n",
    "print(f\" model.temperature: {model.temperature}\")\n",
    "print(f\" temperature grad : {model.temperature.grad}\")\n",
    "print(f\" Learning rate    : {model.optimizer.param_groups[0]['lr']}\") \n",
    "print(f\" Temperature LR   : {model.temperatureLR}\") \n",
    "print(f\" run epochs {starting_epoch+1} to {epochs} \")"
   ]
  },
  {
   "cell_type": "code",
   "execution_count": null,
   "id": "7663755f-0943-4ff9-8175-4921580130dd",
   "metadata": {
    "editable": true,
    "execution": {
     "iopub.execute_input": "2024-05-01T14:58:18.846452Z",
     "iopub.status.busy": "2024-05-01T14:58:18.845968Z"
    },
    "slideshow": {
     "slide_type": ""
    },
    "tags": []
   },
   "outputs": [
    {
     "name": "stdout",
     "output_type": "stream",
     "text": [
      "20240501_165818  epoch    1 of   10\n",
      "                     |  Trn_loss     CEntropy      SNNL   |    temp        grad     |   ACC       F1     ROCAuc |   Vld_loss    CEntropy      SNNL   |    ACC      F1     ROCAuc |\n",
      "---------------------+------------------------------------+-------------------------+---------------------------+------------------------------------+---------------------------|\n",
      "17:00:28 ep   1 / 10 |  13.398725    7.004521    6.394204 |  14.998758    1.4186e-04 |  0.7683   0.0971   0.5120 |  10.630497    4.235936    6.394560 |  0.8630   0.0433   0.5225 |\n",
      "17:02:37 ep   2 / 10 |  10.278479    3.883941    6.394538 |  14.997541    1.3293e-04 |  0.8766   0.0151   0.5277 |  10.182244    3.787554    6.394690 |  0.8815   0.0106   0.5314 |\n",
      "17:04:42 ep   3 / 10 |  10.172855    3.778223    6.394632 |  14.996393    1.3088e-04 |  0.8782   0.0093   0.5367 |  10.119101    3.724346    6.394755 |  0.8812   0.0113   0.5350 |\n",
      "17:06:40 ep   4 / 10 |  10.145957    3.751278    6.394679 |  14.995251    1.2934e-04 |  0.8785   0.0095   0.5414 |  10.087650    3.692860    6.394790 |  0.8812   0.0079   0.5359 |\n"
     ]
    }
   ],
   "source": [
    "print(f\"{datetime.now().strftime('%Y%m%d_%H%M%S')}  epoch {starting_epoch+1:4d} of {epochs:4d}\")\n",
    "show_every = 1\n",
    "header = True\n",
    "for epoch in range(starting_epoch,epochs):\n",
    "    \n",
    "    train_loss  = model.epoch_train( train_loader, epoch, verbose = False)\n",
    "    model.model_history('train', train_loss )\n",
    "\n",
    "    val_loss  =  model.epoch_validate( val_loader, epoch, verbose = False)\n",
    "    model.model_history('val', val_loss )\n",
    "\n",
    "    display_epoch_metrics(model, epoch, epochs, header)\n",
    "    header = False\n",
    "    \n",
    "    # model.scheduler.step(model.train_loss[-1])"
   ]
  },
  {
   "cell_type": "code",
   "execution_count": 51,
   "id": "4680fb7f-3f17-4af7-8844-ef7958de441f",
   "metadata": {
    "execution": {
     "iopub.execute_input": "2024-04-30T16:30:29.149485Z",
     "iopub.status.busy": "2024-04-30T16:30:29.149066Z",
     "iopub.status.idle": "2024-04-30T16:30:29.452783Z",
     "shell.execute_reply": "2024-04-30T16:30:29.452237Z",
     "shell.execute_reply.started": "2024-04-30T16:30:29.149450Z"
    }
   },
   "outputs": [
    {
     "data": {
      "text/plain": [
       "(30, 100, 99)"
      ]
     },
     "execution_count": 51,
     "metadata": {},
     "output_type": "execute_result"
    }
   ],
   "source": [
    "starting_epoch, epochs, epoch"
   ]
  },
  {
   "cell_type": "code",
   "execution_count": 45,
   "id": "55b50be1-048b-4b10-8532-ee467891c006",
   "metadata": {
    "execution": {
     "iopub.execute_input": "2024-04-30T12:15:13.941426Z",
     "iopub.status.busy": "2024-04-30T12:15:13.940945Z",
     "iopub.status.idle": "2024-04-30T12:15:13.979935Z",
     "shell.execute_reply": "2024-04-30T12:15:13.979425Z",
     "shell.execute_reply.started": "2024-04-30T12:15:13.941386Z"
    }
   },
   "outputs": [
    {
     "name": "stdout",
     "output_type": "stream",
     "text": [
      " run epochs 31 to 100 \n"
     ]
    }
   ],
   "source": [
    "# starting_epoch = 225\n",
    "# starting_epoch, epoch , epochs = 22, 0,23\n",
    "starting_epoch = epochs\n",
    "epochs += 70\n",
    "# epochs = epochs + 5\n",
    "# starting_epoch = epoch + 1\n",
    "print(f\" run epochs {starting_epoch+1} to {epochs} \")"
   ]
  },
  {
   "cell_type": "markdown",
   "id": "3d48c90f-7fe4-4a1e-8b16-72de35fbdadd",
   "metadata": {},
   "source": [
    "## Plot losses"
   ]
  },
  {
   "cell_type": "code",
   "execution_count": 53,
   "id": "e125c057-c0d8-435a-bcac-d3d8b831e79b",
   "metadata": {
    "execution": {
     "iopub.execute_input": "2024-04-30T16:31:14.133080Z",
     "iopub.status.busy": "2024-04-30T16:31:14.132601Z",
     "iopub.status.idle": "2024-04-30T16:31:14.236141Z",
     "shell.execute_reply": "2024-04-30T16:31:14.235188Z",
     "shell.execute_reply.started": "2024-04-30T16:31:14.133038Z"
    }
   },
   "outputs": [
    {
     "name": "stdout",
     "output_type": "stream",
     "text": [
      "                     |  Trn_loss   CEntropy     SNNL   |    temp        grad     |   ACC       F1     ROCAuc |   Vld_loss   CEntropy     SNNL   |    ACC      F1     ROCAuc |\n",
      "---------------------+---------------------------------+-------------------------+---------------------------+----------------------------------+---------------------------|\n"
     ]
    },
    {
     "ename": "IndexError",
     "evalue": "list index out of range",
     "output_type": "error",
     "traceback": [
      "\u001b[0;31m---------------------------------------------------------------------------\u001b[0m",
      "\u001b[0;31mIndexError\u001b[0m                                Traceback (most recent call last)",
      "Cell \u001b[0;32mIn[53], line 2\u001b[0m\n\u001b[1;32m      1\u001b[0m \u001b[38;5;28;01mfor\u001b[39;00m epoch \u001b[38;5;129;01min\u001b[39;00m \u001b[38;5;28mrange\u001b[39m(epochs):\n\u001b[0;32m----> 2\u001b[0m     \u001b[43mdisplay_epoch_metrics\u001b[49m\u001b[43m(\u001b[49m\u001b[43mmodel\u001b[49m\u001b[43m,\u001b[49m\u001b[43m \u001b[49m\u001b[43mepoch\u001b[49m\u001b[43m,\u001b[49m\u001b[43m \u001b[49m\u001b[43mepochs\u001b[49m\u001b[43m)\u001b[49m\n",
      "File \u001b[0;32m~/WSL-shared/Cellpainting/pt-snnl/snnl/utils/utils.py:618\u001b[0m, in \u001b[0;36mdisplay_epoch_metrics\u001b[0;34m(model, epoch, epochs, header)\u001b[0m\n\u001b[1;32m    615\u001b[0m     \u001b[38;5;28mprint\u001b[39m(\u001b[38;5;124mf\u001b[39m\u001b[38;5;124m\"\u001b[39m\u001b[38;5;124m---------------------+---------------------------------+-------------------------+---------------------------+----------------------------------+---------------------------|\u001b[39m\u001b[38;5;124m\"\u001b[39m)\n\u001b[1;32m    616\u001b[0m     \u001b[38;5;66;03m# print(f\"                     |                                 |                         |                           |                                 |                           |\")\u001b[39;00m\n\u001b[1;32m    617\u001b[0m     \u001b[38;5;66;03m# print(f\"16:56:32 ep   1 /  1 |  6.800226   1.946095   4.854132 |  14.996496   1.0246e-03 |  0.8787   0.0075   0.5552 |  6.740790   1.891861   4.848929 |  0.8768   0.0277   0.5737 |\")\u001b[39;00m\n\u001b[0;32m--> 618\u001b[0m \u001b[38;5;28mprint\u001b[39m(\u001b[38;5;124mf\u001b[39m\u001b[38;5;124m\"\u001b[39m\u001b[38;5;132;01m{\u001b[39;00m\u001b[43mmodel\u001b[49m\u001b[38;5;241;43m.\u001b[39;49m\u001b[43mtraining_history\u001b[49m\u001b[43m[\u001b[49m\u001b[43mkey2\u001b[49m\u001b[43m]\u001b[49m\u001b[43m[\u001b[49m\u001b[38;5;124;43m'\u001b[39;49m\u001b[38;5;124;43mtime\u001b[39;49m\u001b[38;5;124;43m'\u001b[39;49m\u001b[43m]\u001b[49m\u001b[43m[\u001b[49m\u001b[43midx\u001b[49m\u001b[43m]\u001b[49m\u001b[38;5;132;01m}\u001b[39;00m\u001b[38;5;124m ep \u001b[39m\u001b[38;5;132;01m{\u001b[39;00mepoch\u001b[38;5;250m \u001b[39m\u001b[38;5;241m+\u001b[39m\u001b[38;5;250m \u001b[39m\u001b[38;5;241m1\u001b[39m\u001b[38;5;132;01m:\u001b[39;00m\u001b[38;5;124m3d\u001b[39m\u001b[38;5;132;01m}\u001b[39;00m\u001b[38;5;124m /\u001b[39m\u001b[38;5;132;01m{\u001b[39;00mepochs\u001b[38;5;132;01m:\u001b[39;00m\u001b[38;5;124m3d\u001b[39m\u001b[38;5;132;01m}\u001b[39;00m\u001b[38;5;124m |\u001b[39m\u001b[38;5;124m\"\u001b[39m\n\u001b[1;32m    619\u001b[0m       \u001b[38;5;124mf\u001b[39m\u001b[38;5;124m\"\u001b[39m\u001b[38;5;124m  \u001b[39m\u001b[38;5;132;01m{\u001b[39;00mmodel\u001b[38;5;241m.\u001b[39mtraining_history[key1][\u001b[38;5;124m'\u001b[39m\u001b[38;5;124mloss\u001b[39m\u001b[38;5;124m'\u001b[39m][idx]\u001b[38;5;132;01m:\u001b[39;00m\u001b[38;5;124m9.6f\u001b[39m\u001b[38;5;132;01m}\u001b[39;00m\u001b[38;5;124m   \u001b[39m\u001b[38;5;132;01m{\u001b[39;00mmodel\u001b[38;5;241m.\u001b[39mtraining_history[key1][\u001b[38;5;124m'\u001b[39m\u001b[38;5;124mxent_loss\u001b[39m\u001b[38;5;124m'\u001b[39m][idx]\u001b[38;5;132;01m:\u001b[39;00m\u001b[38;5;124m9.6f\u001b[39m\u001b[38;5;132;01m}\u001b[39;00m\u001b[38;5;124m   \u001b[39m\u001b[38;5;132;01m{\u001b[39;00mmodel\u001b[38;5;241m.\u001b[39mtraining_history[key1][\u001b[38;5;124m'\u001b[39m\u001b[38;5;124msnn_loss\u001b[39m\u001b[38;5;124m'\u001b[39m][idx]\u001b[38;5;132;01m:\u001b[39;00m\u001b[38;5;124m.6f\u001b[39m\u001b[38;5;132;01m}\u001b[39;00m\u001b[38;5;124m |\u001b[39m\u001b[38;5;124m\"\u001b[39m\n\u001b[1;32m    620\u001b[0m       \u001b[38;5;124mf\u001b[39m\u001b[38;5;124m\"\u001b[39m\u001b[38;5;124m  \u001b[39m\u001b[38;5;132;01m{\u001b[39;00mmodel\u001b[38;5;241m.\u001b[39mtraining_history[key1][\u001b[38;5;124m'\u001b[39m\u001b[38;5;124mtemp_hist\u001b[39m\u001b[38;5;124m'\u001b[39m][idx]\u001b[38;5;132;01m:\u001b[39;00m\u001b[38;5;124m.6f\u001b[39m\u001b[38;5;132;01m}\u001b[39;00m\u001b[38;5;124m   \u001b[39m\u001b[38;5;132;01m{\u001b[39;00mmodel\u001b[38;5;241m.\u001b[39mtraining_history[key1][\u001b[38;5;124m'\u001b[39m\u001b[38;5;124mtemp_grad_hist\u001b[39m\u001b[38;5;124m'\u001b[39m][idx]\u001b[38;5;132;01m:\u001b[39;00m\u001b[38;5;124m.4e\u001b[39m\u001b[38;5;132;01m}\u001b[39;00m\u001b[38;5;124m |\u001b[39m\u001b[38;5;124m\"\u001b[39m\n\u001b[1;32m    621\u001b[0m       \u001b[38;5;124mf\u001b[39m\u001b[38;5;124m\"\u001b[39m\u001b[38;5;124m  \u001b[39m\u001b[38;5;132;01m{\u001b[39;00mmodel\u001b[38;5;241m.\u001b[39mtraining_history[key1][\u001b[38;5;124m'\u001b[39m\u001b[38;5;124maccuracy\u001b[39m\u001b[38;5;124m'\u001b[39m][idx]\u001b[38;5;132;01m:\u001b[39;00m\u001b[38;5;124m.4f\u001b[39m\u001b[38;5;132;01m}\u001b[39;00m\u001b[38;5;124m   \u001b[39m\u001b[38;5;132;01m{\u001b[39;00mmodel\u001b[38;5;241m.\u001b[39mtraining_history[key1][\u001b[38;5;124m'\u001b[39m\u001b[38;5;124mf1\u001b[39m\u001b[38;5;124m'\u001b[39m][idx]\u001b[38;5;132;01m:\u001b[39;00m\u001b[38;5;124m.4f\u001b[39m\u001b[38;5;132;01m}\u001b[39;00m\u001b[38;5;124m   \u001b[39m\u001b[38;5;132;01m{\u001b[39;00mmodel\u001b[38;5;241m.\u001b[39mtraining_history[key1][\u001b[38;5;124m'\u001b[39m\u001b[38;5;124mroc_auc\u001b[39m\u001b[38;5;124m'\u001b[39m][idx]\u001b[38;5;132;01m:\u001b[39;00m\u001b[38;5;124m.4f\u001b[39m\u001b[38;5;132;01m}\u001b[39;00m\u001b[38;5;124m |\u001b[39m\u001b[38;5;124m\"\u001b[39m\n\u001b[1;32m    622\u001b[0m       \u001b[38;5;124mf\u001b[39m\u001b[38;5;124m\"\u001b[39m\u001b[38;5;124m  \u001b[39m\u001b[38;5;132;01m{\u001b[39;00mmodel\u001b[38;5;241m.\u001b[39mtraining_history[key2][\u001b[38;5;124m'\u001b[39m\u001b[38;5;124mloss\u001b[39m\u001b[38;5;124m'\u001b[39m][idx]\u001b[38;5;132;01m:\u001b[39;00m\u001b[38;5;124m9.6f\u001b[39m\u001b[38;5;132;01m}\u001b[39;00m\u001b[38;5;124m   \u001b[39m\u001b[38;5;132;01m{\u001b[39;00mmodel\u001b[38;5;241m.\u001b[39mtraining_history[key2][\u001b[38;5;124m'\u001b[39m\u001b[38;5;124mxent_loss\u001b[39m\u001b[38;5;124m'\u001b[39m][idx]\u001b[38;5;132;01m:\u001b[39;00m\u001b[38;5;124m9.6f\u001b[39m\u001b[38;5;132;01m}\u001b[39;00m\u001b[38;5;124m   \u001b[39m\u001b[38;5;132;01m{\u001b[39;00mmodel\u001b[38;5;241m.\u001b[39mtraining_history[key2][\u001b[38;5;124m'\u001b[39m\u001b[38;5;124msnn_loss\u001b[39m\u001b[38;5;124m'\u001b[39m][idx]\u001b[38;5;132;01m:\u001b[39;00m\u001b[38;5;124m.6f\u001b[39m\u001b[38;5;132;01m}\u001b[39;00m\u001b[38;5;124m |\u001b[39m\u001b[38;5;124m\"\u001b[39m\n\u001b[1;32m    623\u001b[0m       \u001b[38;5;124mf\u001b[39m\u001b[38;5;124m\"\u001b[39m\u001b[38;5;124m  \u001b[39m\u001b[38;5;132;01m{\u001b[39;00mmodel\u001b[38;5;241m.\u001b[39mtraining_history[key2][\u001b[38;5;124m'\u001b[39m\u001b[38;5;124maccuracy\u001b[39m\u001b[38;5;124m'\u001b[39m][idx]\u001b[38;5;132;01m:\u001b[39;00m\u001b[38;5;124m.4f\u001b[39m\u001b[38;5;132;01m}\u001b[39;00m\u001b[38;5;124m   \u001b[39m\u001b[38;5;132;01m{\u001b[39;00mmodel\u001b[38;5;241m.\u001b[39mtraining_history[key2][\u001b[38;5;124m'\u001b[39m\u001b[38;5;124mf1\u001b[39m\u001b[38;5;124m'\u001b[39m][idx]\u001b[38;5;132;01m:\u001b[39;00m\u001b[38;5;124m.4f\u001b[39m\u001b[38;5;132;01m}\u001b[39;00m\u001b[38;5;124m   \u001b[39m\u001b[38;5;132;01m{\u001b[39;00mmodel\u001b[38;5;241m.\u001b[39mtraining_history[key2][\u001b[38;5;124m'\u001b[39m\u001b[38;5;124mroc_auc\u001b[39m\u001b[38;5;124m'\u001b[39m][idx]\u001b[38;5;132;01m:\u001b[39;00m\u001b[38;5;124m.4f\u001b[39m\u001b[38;5;132;01m}\u001b[39;00m\u001b[38;5;124m |\u001b[39m\u001b[38;5;124m\"\u001b[39m)\n",
      "\u001b[0;31mIndexError\u001b[0m: list index out of range"
     ]
    }
   ],
   "source": [
    "for epoch in range(epochs):\n",
    "    display_epoch_metrics(model, epoch, epochs)"
   ]
  },
  {
   "cell_type": "code",
   "execution_count": 22,
   "id": "7e2e761a-a327-4781-bafb-ede5ea433193",
   "metadata": {
    "execution": {
     "iopub.execute_input": "2024-04-30T07:33:20.352732Z",
     "iopub.status.busy": "2024-04-30T07:33:20.352313Z",
     "iopub.status.idle": "2024-04-30T07:33:20.388164Z",
     "shell.execute_reply": "2024-04-30T07:33:20.387635Z",
     "shell.execute_reply.started": "2024-04-30T07:33:20.352692Z"
    }
   },
   "outputs": [
    {
     "name": "stdout",
     "output_type": "stream",
     "text": [
      "temp_grads                <class 'list'>     8000  [0.0022874297574162483, 0.001763233682140708, 0.0018921808805316687, 0.0019037878373637795, 0.0015498986467719078]\n",
      "temp_hist                 <class 'list'>       10  [14.922959327697754, 14.908600807189941, 14.894163131713867, 14.87964916229248, 14.865022659301758]\n",
      "temp_grad_hist            <class 'list'>       10  [0.0014729624381288886, 0.0015592616982758045, 0.0015518881846219301, 0.0015158513560891151, 0.0015498986467719078]\n",
      "accuracy                  <class 'list'>       10  [0.8801166666666653, 0.8801666666666651, 0.8804208333333314, 0.8809374999999983, 0.8817583333333313]\n",
      "f1                        <class 'list'>       10  [0.01166802111035633, 0.015973744275706726, 0.02540383192413067, 0.038240446968371124, 0.06382312685893304]\n",
      "precision                 <class 'list'>       10  [0.12274999999999998, 0.16231249999999997, 0.23139682539682538, 0.344592757936508, 0.47571130952380963]\n",
      "recall                    <class 'list'>       10  [0.006245919265704478, 0.008567927867124837, 0.013874653697409119, 0.0208634945617821, 0.03551834777279831]\n",
      "fbeta                     <class 'list'>       10  [0.01166802111035633, 0.015973744275706726, 0.02540383192413067, 0.038240446968371124, 0.06382312685893304]\n",
      "roc_auc                   <class 'list'>       10  [0.6712681852631632, 0.6896027110979142, 0.7075722152633223, 0.7311105080392675, 0.7564101893431431]\n",
      "loss                      <class 'list'>       10  [6.578544870018959, 6.553647103905678, 6.5285393971204755, 6.489817642569542, 6.441939867734909]\n",
      "snn_loss                  <class 'list'>       10  [4.840785148143769, 4.84053468465805, 4.840362093448639, 4.840223801136017, 4.8400378459692]\n",
      "xent_loss                 <class 'list'>       10  [1.7377597180753945, 1.7131124120950698, 1.688177298605442, 1.6495938327908517, 1.601902017146349]\n"
     ]
    }
   ],
   "source": [
    "model_attributes = model.__dict__\n",
    "for key, value in model.training_history['train'].items():\n",
    "    if isinstance(value, List) or key in [\"test_accuracy\", \"test_f1\"]:\n",
    "        print(f\"{key:25s} {type(value)}  {len(value):7d}  {value[-5:]}\")"
   ]
  },
  {
   "cell_type": "code",
   "execution_count": null,
   "id": "3bb528be-02f9-4cb5-98da-fa6135e29460",
   "metadata": {
    "execution": {
     "iopub.status.busy": "2024-04-28T20:41:00.115053Z",
     "iopub.status.idle": "2024-04-28T20:41:00.115333Z",
     "shell.execute_reply": "2024-04-28T20:41:00.115190Z",
     "shell.execute_reply.started": "2024-04-28T20:41:00.115177Z"
    }
   },
   "outputs": [],
   "source": [
    "# tmp = np.array(model.training_history['train']['temp_grads'])\n",
    "# for st in range(0,len(tmp), 1000):\n",
    "#     end = st + 1000\n",
    "#     print(f\" {st:5d} - {end:5d}  min: {tmp[st:end].min():9e}   max: {tmp[st:end].max():9e}    avg: {tmp[st:end].mean():9e}   std: {tmp[st:end].std():9e}\")"
   ]
  },
  {
   "cell_type": "code",
   "execution_count": 39,
   "id": "350f6250-3151-4646-b3c0-5706045c23f3",
   "metadata": {
    "execution": {
     "iopub.execute_input": "2024-04-30T11:28:41.966505Z",
     "iopub.status.busy": "2024-04-30T11:28:41.966023Z",
     "iopub.status.idle": "2024-04-30T11:28:42.004089Z",
     "shell.execute_reply": "2024-04-30T11:28:42.003418Z",
     "shell.execute_reply.started": "2024-04-30T11:28:41.966464Z"
    }
   },
   "outputs": [],
   "source": [
    "# model\n",
    "# layer3_grad = model.layers[3].weight.grad.sum().item()+model.layers[3].bias.grad.item()\n",
    "# temp_grad = model.temperature.grad\n",
    "# print(layer3_grad, temp_grad)"
   ]
  },
  {
   "cell_type": "markdown",
   "id": "9f0ae6cb-ab1a-4c39-99ab-dda9609e9e3a",
   "metadata": {},
   "source": [
    "## Plot weights, biases and gradients"
   ]
  },
  {
   "cell_type": "code",
   "execution_count": 54,
   "id": "cc83e025-4221-4e18-9808-958ce4bdf07d",
   "metadata": {
    "execution": {
     "iopub.execute_input": "2024-04-30T16:31:23.997886Z",
     "iopub.status.busy": "2024-04-30T16:31:23.997410Z",
     "iopub.status.idle": "2024-04-30T16:31:24.909014Z",
     "shell.execute_reply": "2024-04-30T16:31:24.908099Z",
     "shell.execute_reply.started": "2024-04-30T16:31:23.997844Z"
    },
    "scrolled": true
   },
   "outputs": [
    {
     "data": {
      "image/png": "[encoded data removed]",
      "text/plain": [
       "<Figure size 2000x400 with 5 Axes>"
      ]
     },
     "metadata": {},
     "output_type": "display_data"
    }
   ],
   "source": [
    "plot_train_history(model, n_bins = 25)"
   ]
  },
  {
   "cell_type": "code",
   "execution_count": 55,
   "id": "9a721541-eda0-4bed-bbde-97f4a8bbd024",
   "metadata": {
    "execution": {
     "iopub.execute_input": "2024-04-30T16:31:33.541367Z",
     "iopub.status.busy": "2024-04-30T16:31:33.540886Z",
     "iopub.status.idle": "2024-04-30T16:31:34.541518Z",
     "shell.execute_reply": "2024-04-30T16:31:34.540849Z",
     "shell.execute_reply.started": "2024-04-30T16:31:33.541326Z"
    },
    "scrolled": true
   },
   "outputs": [
    {
     "data": {
      "image/png": "[encoded data removed]",
      "text/plain": [
       "<Figure size 2000x400 with 5 Axes>"
      ]
     },
     "metadata": {},
     "output_type": "display_data"
    }
   ],
   "source": [
    "plot_train_metrics(model, n_bins = 25)"
   ]
  },
  {
   "cell_type": "code",
   "execution_count": 44,
   "id": "7aee135c-99f5-42c3-a1c3-16a499c05f6d",
   "metadata": {
    "execution": {
     "iopub.execute_input": "2024-04-30T12:14:50.950832Z",
     "iopub.status.busy": "2024-04-30T12:14:50.950315Z",
     "iopub.status.idle": "2024-04-30T12:14:52.739600Z",
     "shell.execute_reply": "2024-04-30T12:14:52.739069Z",
     "shell.execute_reply.started": "2024-04-30T12:14:50.950791Z"
    }
   },
   "outputs": [
    {
     "name": "stdout",
     "output_type": "stream",
     "text": [
      "       | Weights:                                           |  Biases:                                  |   Gradients:                       |\n",
      " layer |                      min         max        stdev  |             min         max        stdev  |      min        max         stdev  |\n",
      "    0  | (512, 1471)      -1.385925    1.428584    0.090263 |    512  -0.477919    0.565174    0.170684 |  -0.003019    0.002732    0.000199 |\n",
      "    1  | (128, 512)       -1.961576    1.566233    0.042737 |    128  -2.472799    0.908998    0.488167 |  -0.007796    0.007370    0.000738 |\n",
      "    2  | (1, 128)         -0.011310    0.015623    0.004380 |      1  -2.125040   -2.125040    0.000000 |  -6.629296    1.212227    0.650139 |\n"
     ]
    },
    {
     "data": {
      "image/png": "[encoded data removed]",
      "text/plain": [
       "<Figure size 1200x1300 with 9 Axes>"
      ]
     },
     "metadata": {},
     "output_type": "display_data"
    }
   ],
   "source": [
    "plot_model_parms(model, epochs= epochs, n_bins = 15)"
   ]
  },
  {
   "cell_type": "markdown",
   "id": "3fdc69d9-6e1b-4f48-bdae-13de25ea3c6f",
   "metadata": {
    "jp-MarkdownHeadingCollapsed": true
   },
   "source": [
    "## Other Misc Plots"
   ]
  },
  {
   "cell_type": "code",
   "execution_count": null,
   "id": "d428c349-06fc-43b4-b280-e4baefa18a0b",
   "metadata": {
    "execution": {
     "iopub.status.busy": "2024-04-28T20:41:00.120890Z",
     "iopub.status.idle": "2024-04-28T20:41:00.121389Z",
     "shell.execute_reply": "2024-04-28T20:41:00.121251Z",
     "shell.execute_reply.started": "2024-04-28T20:41:00.121237Z"
    }
   },
   "outputs": [],
   "source": [
    "for name, parm in model.named_parameters():\n",
    "    print(f'{name} parameter ---- {parm.data.shape}')\n",
    "    # print(parm.data)\n",
    "    print(f' {name} gradient ---- {parm.grad.data.shape}')\n",
    "    print(parm.grad.data)\n",
    "    print('\\n\\n')\n",
    "    # print(name, parm.weight.shape, parm.grad.shape)"
   ]
  },
  {
   "cell_type": "code",
   "execution_count": null,
   "id": "ddbf94df-8df1-4bd7-8dad-c20b24b7d643",
   "metadata": {
    "execution": {
     "iopub.status.busy": "2024-04-28T20:41:00.122650Z",
     "iopub.status.idle": "2024-04-28T20:41:00.123008Z",
     "shell.execute_reply": "2024-04-28T20:41:00.122890Z",
     "shell.execute_reply.started": "2024-04-28T20:41:00.122878Z"
    },
    "scrolled": true
   },
   "outputs": [],
   "source": [
    "plt.plot(model.train_temp_grad_hist[:38])\n",
    "plt.title(f'train_temperature_gradient_hist')\n",
    "plt.show()\n",
    "plt.plot(model.train_temp_grad_hist[38:42])\n",
    "plt.title(f'train_temperature_gradient_hist')\n",
    "plt.show()\n",
    "plt.plot(model.train_temp_grad_hist[42:])\n",
    "plt.title(f'train_temperature_gradient_hist')\n",
    "plt.show()"
   ]
  },
  {
   "cell_type": "code",
   "execution_count": null,
   "id": "12f5b0ee-8af2-49da-8a6a-0d15e635de8e",
   "metadata": {
    "execution": {
     "iopub.status.busy": "2024-04-28T20:41:00.125584Z",
     "iopub.status.idle": "2024-04-28T20:41:00.125923Z",
     "shell.execute_reply": "2024-04-28T20:41:00.125782Z",
     "shell.execute_reply.started": "2024-04-28T20:41:00.125770Z"
    }
   },
   "outputs": [],
   "source": [
    "plt.plot(model.temperature_gradients)\n",
    "plt.show()\n",
    "plt.plot(model.temperature_gradients[:23600])\n",
    "plt.show()\n",
    "plt.plot(model.temperature_gradients[:43600])\n",
    "plt.show()\n",
    "plt.plot(model.temperature_gradients[55000:57000])\n",
    "plt.show()\n",
    "plt.plot(model.temperature_gradients[250000:])"
   ]
  },
  {
   "cell_type": "markdown",
   "id": "363250e6-c044-4383-af1d-6bf40e1a0a7b",
   "metadata": {},
   "source": [
    "## Save model results and model"
   ]
  },
  {
   "cell_type": "code",
   "execution_count": 48,
   "id": "a5ddefad-a4e6-480c-85a3-acf398d10e2f",
   "metadata": {
    "execution": {
     "iopub.execute_input": "2024-04-30T12:15:51.022422Z",
     "iopub.status.busy": "2024-04-30T12:15:51.021923Z",
     "iopub.status.idle": "2024-04-30T12:15:51.061308Z",
     "shell.execute_reply": "2024-04-30T12:15:51.060666Z",
     "shell.execute_reply.started": "2024-04-30T12:15:51.022383Z"
    }
   },
   "outputs": [
    {
     "name": "stdout",
     "output_type": "stream",
     "text": [
      "saved to DNN_snnl_20240430_dnnconfig03_100_cpb_100_factor_1\n"
     ]
    }
   ],
   "source": [
    "# import datetime.timezone\n",
    "# datetime.timetz()\n",
    "epochs_num = epochs\n",
    "timestamp = datetime.now().strftime('%Y%m%d')\n",
    "title=\"dnnconfig03\"\n",
    "filename = f\"DNN_{args.model.lower()}_{timestamp}_{title}_{epochs_num:03d}_cpb_{compounds_per_batch}_factor_{int(snnl_factor):d}\"\n",
    "print(f\"saved to {filename}\")"
   ]
  },
  {
   "cell_type": "code",
   "execution_count": 47,
   "id": "96a4317a-5573-4d22-9df1-5faee3406e15",
   "metadata": {
    "execution": {
     "iopub.execute_input": "2024-04-30T12:15:44.793553Z",
     "iopub.status.busy": "2024-04-30T12:15:44.793127Z",
     "iopub.status.idle": "2024-04-30T12:15:44.857470Z",
     "shell.execute_reply": "2024-04-30T12:15:44.856612Z",
     "shell.execute_reply.started": "2024-04-30T12:15:44.793517Z"
    }
   },
   "outputs": [
    {
     "name": "stdout",
     "output_type": "stream",
     "text": [
      "[INFO] Model Results exported to results/DNN_snnl_20240430_dnnconfig03_030_cpb_100_factor_1.json.\n",
      "[INFO] Model exported to ckpts/DNN_snnl_20240430_dnnconfig03_030_cpb_100_factor_1.pt.\n"
     ]
    }
   ],
   "source": [
    "# save_model(model, filename)\n",
    "export_results(model=model, filename=filename)\n",
    "save_checkpoint(epochs, model, filename, update_latest=False, update_best=False)"
   ]
  },
  {
   "cell_type": "markdown",
   "id": "aacc82f9-60eb-4c9e-9e69-9e66dff29ea4",
   "metadata": {
    "jp-MarkdownHeadingCollapsed": true
   },
   "source": [
    "## SNNL Outputs"
   ]
  },
  {
   "cell_type": "code",
   "execution_count": null,
   "id": "f3926ff5-b3ed-4eea-bcb6-746640817bc9",
   "metadata": {
    "execution": {
     "iopub.status.busy": "2024-04-28T20:41:00.131401Z",
     "iopub.status.idle": "2024-04-28T20:41:00.131933Z",
     "shell.execute_reply": "2024-04-28T20:41:00.131791Z",
     "shell.execute_reply.started": "2024-04-28T20:41:00.131778Z"
    }
   },
   "outputs": [],
   "source": [
    "model.snnl_criterion.layers_snnl\n",
    "# model.snnl_criterion.snnl_loss"
   ]
  },
  {
   "cell_type": "code",
   "execution_count": null,
   "id": "281f2cf1-ed28-47ad-aacc-ab9a4ac0661c",
   "metadata": {
    "execution": {
     "iopub.status.busy": "2024-04-28T20:41:00.132760Z",
     "iopub.status.idle": "2024-04-28T20:41:00.133025Z",
     "shell.execute_reply": "2024-04-28T20:41:00.132893Z",
     "shell.execute_reply.started": "2024-04-28T20:41:00.132882Z"
    }
   },
   "outputs": [],
   "source": [
    "model.snnl_criterion.pairwise_distance_matrix[:9,:9]"
   ]
  },
  {
   "cell_type": "code",
   "execution_count": null,
   "id": "004c5575-cf98-433c-bcb5-6be9720125fe",
   "metadata": {
    "execution": {
     "iopub.status.busy": "2024-04-28T20:41:00.134091Z",
     "iopub.status.idle": "2024-04-28T20:41:00.134455Z",
     "shell.execute_reply": "2024-04-28T20:41:00.134333Z",
     "shell.execute_reply.started": "2024-04-28T20:41:00.134321Z"
    }
   },
   "outputs": [],
   "source": [
    "model.snnl_criterion.sampling_probability[:9,:9]"
   ]
  },
  {
   "cell_type": "code",
   "execution_count": null,
   "id": "bc050b2d-b5de-4b02-92be-8131ace2312d",
   "metadata": {
    "execution": {
     "iopub.status.busy": "2024-04-28T20:41:00.135368Z",
     "iopub.status.idle": "2024-04-28T20:41:00.135656Z",
     "shell.execute_reply": "2024-04-28T20:41:00.135517Z",
     "shell.execute_reply.started": "2024-04-28T20:41:00.135505Z"
    }
   },
   "outputs": [],
   "source": [
    "model.snnl_criterion.masked_pick_probability[:9,:9]\n",
    "9.4345e-04+  6.9088e-04+  2.6218e-05"
   ]
  },
  {
   "cell_type": "code",
   "execution_count": null,
   "id": "bb24f44e-0cf6-4879-ba34-b38af40df10b",
   "metadata": {
    "execution": {
     "iopub.status.busy": "2024-04-28T20:41:00.136598Z",
     "iopub.status.idle": "2024-04-28T20:41:00.137018Z",
     "shell.execute_reply": "2024-04-28T20:41:00.136892Z",
     "shell.execute_reply.started": "2024-04-28T20:41:00.136879Z"
    }
   },
   "outputs": [],
   "source": [
    "model.snnl_criterion.summed_masked_pick_probability"
   ]
  },
  {
   "cell_type": "code",
   "execution_count": null,
   "id": "a30ae0fc-1d45-4e30-87d8-dc54d9434fb3",
   "metadata": {
    "execution": {
     "iopub.status.busy": "2024-04-28T20:41:00.138214Z",
     "iopub.status.idle": "2024-04-28T20:41:00.138540Z",
     "shell.execute_reply": "2024-04-28T20:41:00.138382Z",
     "shell.execute_reply.started": "2024-04-28T20:41:00.138353Z"
    }
   },
   "outputs": [],
   "source": [
    "torch.mean( -torch.log(model.snnl_criterion.stability_epsilon + model.snnl_criterion.summed_masked_pick_probability))"
   ]
  },
  {
   "cell_type": "code",
   "execution_count": null,
   "id": "361fbe4e-0ca6-492f-9ced-0ff8b60d17bf",
   "metadata": {
    "execution": {
     "iopub.status.busy": "2024-04-28T20:41:00.139499Z",
     "iopub.status.idle": "2024-04-28T20:41:00.139792Z",
     "shell.execute_reply": "2024-04-28T20:41:00.139668Z",
     "shell.execute_reply.started": "2024-04-28T20:41:00.139655Z"
    }
   },
   "outputs": [],
   "source": [
    "# from sklearn.preprocessing import .normalize(\n",
    "# a = torch.Tensor([[2],[1],[2],[3],[2],[9]]) \n",
    "# a.shape \n",
    "# # b = torch.Tensor([[3],[4],[2],[4],[5],[5]])\n",
    "# a = torch.Tensor([2,1,2,3,2,9])\n",
    "# b = torch.Tensor([3,4,2,4,5,5])\n",
    "# product = torch.matmul(a, b)\n",
    "# product\n",
    "# normalized_a = torch.nn.functional.normalize(a, dim=0, p=2)\n",
    "# normalized_b = torch.nn.functional.normalize(b, dim=0, p=2)\n",
    "# normalized_a\n",
    "# normalized_b\n",
    "# normalized_b = torch.conj(normalized_b).T\n",
    "# normalized_b\n",
    "# product = torch.matmul(normalized_a, normalized_b)\n",
    "# product\n",
    "# distance_matrix = torch.sub(torch.tensor(1.0), product)\n",
    "# distance_matrix"
   ]
  },
  {
   "cell_type": "code",
   "execution_count": null,
   "id": "dc73a3b2-b5ac-475c-ad51-bebeb5f898c1",
   "metadata": {
    "execution": {
     "iopub.status.busy": "2024-04-28T20:41:00.140958Z",
     "iopub.status.idle": "2024-04-28T20:41:00.141424Z",
     "shell.execute_reply": "2024-04-28T20:41:00.141288Z",
     "shell.execute_reply.started": "2024-04-28T20:41:00.141274Z"
    }
   },
   "outputs": [],
   "source": [
    "a = torch.tensor([[0.9041,  0.0196], [-0.3108, -2.4423], [-0.4821,  1.059]])\n",
    "a.shape\n",
    "torch.cdist(a, a, p=2)"
   ]
  },
  {
   "cell_type": "code",
   "execution_count": null,
   "id": "6034160c-c7bc-4f97-a86b-18ce420ed593",
   "metadata": {},
   "outputs": [],
   "source": []
  },
  {
   "cell_type": "markdown",
   "id": "8e6d1ff9-0543-4933-ab47-ff2abb2efc2a",
   "metadata": {},
   "source": [
    "# Model Inference"
   ]
  },
  {
   "cell_type": "markdown",
   "id": "a129f797-8c07-4d45-be1b-9ddb19af3576",
   "metadata": {
    "execution": {
     "iopub.execute_input": "2024-04-01T00:58:52.961399Z",
     "iopub.status.busy": "2024-04-01T00:58:52.960920Z"
    }
   },
   "source": [
    "## Load model"
   ]
  },
  {
   "cell_type": "code",
   "execution_count": null,
   "id": "30af85e9-b420-4ac9-9ec0-6928c9604d4d",
   "metadata": {
    "execution": {
     "iopub.status.busy": "2024-04-28T20:41:00.142647Z",
     "iopub.status.idle": "2024-04-28T20:41:00.143179Z",
     "shell.execute_reply": "2024-04-28T20:41:00.143056Z",
     "shell.execute_reply.started": "2024-04-28T20:41:00.143044Z"
    }
   },
   "outputs": [],
   "source": [
    "fn = \"DNN_snnl_withstatictemp_epoch400_2024_04_01_073006.pt\"\n",
    "fn = \"DNN_snnl_withlearning_temp_epoch250_2024_04_02_173536_model_epoch_250.pth\"\n",
    "factor=1\n",
    "epoch = 175\n",
    "fn = f\"DNN_snnl_20240422_temp0grad_{epoch:03d}_cpb_100_factor_{factor:d}.pt\"\n",
    "print(fn)"
   ]
  },
  {
   "cell_type": "code",
   "execution_count": null,
   "id": "db9b10a8-3edd-4367-9598-9ae0fe868aea",
   "metadata": {
    "execution": {
     "iopub.status.busy": "2024-04-28T20:41:00.144315Z",
     "iopub.status.idle": "2024-04-28T20:41:00.144581Z",
     "shell.execute_reply": "2024-04-28T20:41:00.144448Z",
     "shell.execute_reply.started": "2024-04-28T20:41:00.144436Z"
    }
   },
   "outputs": [],
   "source": [
    "# model, last_epoch = load_checkpoint(model, fn)"
   ]
  },
  {
   "cell_type": "code",
   "execution_count": null,
   "id": "f30c6dfe-3d42-4dd2-999c-8c74b61ab2dc",
   "metadata": {
    "execution": {
     "iopub.status.busy": "2024-04-28T20:41:00.145510Z",
     "iopub.status.idle": "2024-04-28T20:41:00.145777Z",
     "shell.execute_reply": "2024-04-28T20:41:00.145658Z",
     "shell.execute_reply.started": "2024-04-28T20:41:00.145630Z"
    }
   },
   "outputs": [],
   "source": [
    "model.eval()\n",
    "\n",
    "model = model.cuda(device=current_device)"
   ]
  },
  {
   "cell_type": "code",
   "execution_count": null,
   "id": "693ac99b-1fcf-43f4-9e83-ae59f36c2294",
   "metadata": {
    "execution": {
     "iopub.status.busy": "2024-04-28T20:41:00.146860Z",
     "iopub.status.idle": "2024-04-28T20:41:00.147412Z",
     "shell.execute_reply": "2024-04-28T20:41:00.147279Z",
     "shell.execute_reply.started": "2024-04-28T20:41:00.147266Z"
    }
   },
   "outputs": [],
   "source": [
    "# model_clone = load_model(fn)\n",
    "# model_clone"
   ]
  },
  {
   "cell_type": "code",
   "execution_count": null,
   "id": "904f0194-7e76-4eab-a2c0-6432e51cb03e",
   "metadata": {
    "execution": {
     "iopub.status.busy": "2024-04-28T20:41:00.149737Z",
     "iopub.status.idle": "2024-04-28T20:41:00.150013Z",
     "shell.execute_reply": "2024-04-28T20:41:00.149879Z",
     "shell.execute_reply.started": "2024-04-28T20:41:00.149867Z"
    }
   },
   "outputs": [],
   "source": [
    "last_epoch\n",
    "\n",
    "\n",
    "epochs = last_epoch\n",
    "epoch = last_epoch \n",
    "starting_epoch = last_epoch\n",
    "\n",
    "starting_epoch, epoch , epochs"
   ]
  },
  {
   "cell_type": "code",
   "execution_count": null,
   "id": "105c0942-8986-4fcb-ab69-56c9bdd71ed0",
   "metadata": {
    "execution": {
     "iopub.status.busy": "2024-04-28T20:41:00.151094Z",
     "iopub.status.idle": "2024-04-28T20:41:00.151558Z",
     "shell.execute_reply": "2024-04-28T20:41:00.151440Z",
     "shell.execute_reply.started": "2024-04-28T20:41:00.151428Z"
    }
   },
   "outputs": [],
   "source": [
    "# epochs = 40 \n",
    "# starting_epoch = 20\n",
    "epochs = epochs + 10\n",
    "# starting_epoch = epoch + 1\n",
    "print(f\" run epochs {starting_epoch+1} to {epochs}  -- {epoch}\")"
   ]
  },
  {
   "cell_type": "markdown",
   "id": "24333255-b53a-4780-b7db-50bdb92c5a4a",
   "metadata": {
    "execution": {
     "iopub.execute_input": "2024-04-01T00:58:52.961399Z",
     "iopub.status.busy": "2024-04-01T00:58:52.960920Z"
    }
   },
   "source": [
    "#### Load model results"
   ]
  },
  {
   "cell_type": "code",
   "execution_count": null,
   "id": "51e680cf-0ce7-403e-838f-59eabc5e2727",
   "metadata": {
    "execution": {
     "iopub.status.busy": "2024-04-28T20:41:00.153474Z",
     "iopub.status.idle": "2024-04-28T20:41:00.153804Z",
     "shell.execute_reply": "2024-04-28T20:41:00.153662Z",
     "shell.execute_reply.started": "2024-04-28T20:41:00.153650Z"
    }
   },
   "outputs": [],
   "source": [
    "# fn = \"DNN_snnl_withstatictemp_epoch400_2024_04_01_073006.pt\"\n",
    "fn = \"DNN_snnl_withlearning_temp_epoch250_2024_04_02_173536.json\"\n",
    "fn = f\"DNN_snnl_20240422_temp0grad_{epoch:03d}_cpb_100_factor_{factor:d}.json\"\n",
    "print(fn)"
   ]
  },
  {
   "cell_type": "code",
   "execution_count": null,
   "id": "d783abbb-dbff-4aa5-a36e-efec3c09b735",
   "metadata": {
    "execution": {
     "iopub.status.busy": "2024-04-28T20:41:00.155009Z",
     "iopub.status.idle": "2024-04-28T20:41:00.155333Z",
     "shell.execute_reply": "2024-04-28T20:41:00.155211Z",
     "shell.execute_reply.started": "2024-04-28T20:41:00.155199Z"
    }
   },
   "outputs": [],
   "source": [
    "results = import_results(fn)"
   ]
  },
  {
   "cell_type": "code",
   "execution_count": null,
   "id": "6a53d1e2-3b4d-4eca-9f14-eacbb7c3c50e",
   "metadata": {
    "execution": {
     "iopub.status.busy": "2024-04-28T20:41:00.156499Z",
     "iopub.status.idle": "2024-04-28T20:41:00.156810Z",
     "shell.execute_reply": "2024-04-28T20:41:00.156672Z",
     "shell.execute_reply.started": "2024-04-28T20:41:00.156660Z"
    }
   },
   "outputs": [],
   "source": [
    "results.keys()"
   ]
  },
  {
   "cell_type": "code",
   "execution_count": null,
   "id": "6196228c-9a3e-46ce-b3d0-56f89ee00943",
   "metadata": {
    "execution": {
     "iopub.status.busy": "2024-04-28T20:41:00.157922Z",
     "iopub.status.idle": "2024-04-28T20:41:00.158287Z",
     "shell.execute_reply": "2024-04-28T20:41:00.158144Z",
     "shell.execute_reply.started": "2024-04-28T20:41:00.158131Z"
    }
   },
   "outputs": [],
   "source": [
    "for k in results.keys():\n",
    "    print(f\" key: {k:30s}  length of - loaded results: {len(results[k])}  existing model: {len(model.__dict__[k])}\" )\n",
    "    model.__dict__[k] = results[k]"
   ]
  },
  {
   "cell_type": "code",
   "execution_count": null,
   "id": "19e1259d-e423-4894-81fd-4372a60dc85c",
   "metadata": {
    "execution": {
     "iopub.status.busy": "2024-04-28T20:41:00.159329Z",
     "iopub.status.idle": "2024-04-28T20:41:00.159583Z",
     "shell.execute_reply": "2024-04-28T20:41:00.159463Z",
     "shell.execute_reply.started": "2024-04-28T20:41:00.159451Z"
    }
   },
   "outputs": [],
   "source": [
    "# for k in results.keys():\n",
    "#     print(f\" key: {k:30s}  length of - loaded results: {len(results[k])}  existing model: {len(model.__dict__[k])}\" )"
   ]
  },
  {
   "cell_type": "markdown",
   "id": "f284c33e-8448-4c0a-a403-8dc1d8cc536d",
   "metadata": {},
   "source": [
    "## Predict"
   ]
  },
  {
   "cell_type": "code",
   "execution_count": null,
   "id": "54cdb486-c206-4a1c-b259-3a53fae9455c",
   "metadata": {
    "execution": {
     "iopub.status.busy": "2024-04-28T20:41:00.160460Z",
     "iopub.status.idle": "2024-04-28T20:41:00.160875Z",
     "shell.execute_reply": "2024-04-28T20:41:00.160745Z",
     "shell.execute_reply.started": "2024-04-28T20:41:00.160731Z"
    }
   },
   "outputs": [],
   "source": [
    "if dataset == 'cellpainting':\n",
    "    print(f\" load {dataset}\")\n",
    "    test_dataset = CellpaintingDataset(test = True, **cellpainting_args)\n",
    "    test_loader = InfiniteDataLoader(dataset=test_dataset, batch_size=batch_size, shuffle = False, num_workers = 0, collate_fn = train_dataset.custom_collate_fn)\n",
    "    "
   ]
  },
  {
   "cell_type": "code",
   "execution_count": null,
   "id": "16ebac12-779c-4da2-995c-b4ecaed34828",
   "metadata": {
    "execution": {
     "iopub.status.busy": "2024-04-28T20:41:00.164759Z",
     "iopub.status.idle": "2024-04-28T20:41:00.165248Z",
     "shell.execute_reply": "2024-04-28T20:41:00.165124Z",
     "shell.execute_reply.started": "2024-04-28T20:41:00.165112Z"
    }
   },
   "outputs": [],
   "source": [
    "model.eval()\n",
    "model = model.cpu()"
   ]
  },
  {
   "cell_type": "code",
   "execution_count": null,
   "id": "9355846c-65e3-45cc-9544-cb54f3385ff0",
   "metadata": {},
   "outputs": [],
   "source": [
    "for batch_count, (batch_features, batch_labels, _, _, _) in enumerate(train_loader): \n",
    "    batch_features = batch_features.to(self.device)\n",
    "    batch_labels = batch_labels.to(self.device)\n",
    "    output, predictions = model.predict(test_features)"
   ]
  },
  {
   "cell_type": "code",
   "execution_count": null,
   "id": "a2f91dca-5f0d-4ff9-9f8e-1707db9b833b",
   "metadata": {
    "execution": {
     "iopub.status.busy": "2024-04-28T20:41:00.161891Z",
     "iopub.status.idle": "2024-04-28T20:41:00.162207Z",
     "shell.execute_reply": "2024-04-28T20:41:00.162069Z",
     "shell.execute_reply.started": "2024-04-28T20:41:00.162056Z"
    }
   },
   "outputs": [],
   "source": [
    "for idx, batch in enumerate(val_loader):\n",
    "    print(idx, batch[0].shape, batch[1].shape,batch[2].shape,batch[3].shape,batch[4].shape)\n",
    "    # test_features = batch[0].reshape(-1, 784)\n",
    "    # print(batch[1])\n",
    "    # display_cellpainting_batch(idx, batch)\n",
    "    # train_batch_id +=1\n",
    "    # if train_batch_id ==3 :\n",
    "        # break\n",
    "    # if idx >= 24:\n",
    "        # break\n",
    "    break"
   ]
  },
  {
   "cell_type": "code",
   "execution_count": null,
   "id": "0ce36c0b-6fd4-4454-8ceb-214284dd6abc",
   "metadata": {
    "execution": {
     "iopub.status.busy": "2024-04-28T20:41:00.163336Z",
     "iopub.status.idle": "2024-04-28T20:41:00.163613Z",
     "shell.execute_reply": "2024-04-28T20:41:00.163492Z",
     "shell.execute_reply.started": "2024-04-28T20:41:00.163464Z"
    }
   },
   "outputs": [],
   "source": [
    "# test_features = test_dataset.dataa.reshape(-1, 784) / 255.0\n",
    "test_features = batch[0] "
   ]
  },
  {
   "cell_type": "code",
   "execution_count": null,
   "id": "b2d51865-d440-4488-b690-45bdf8a91c82",
   "metadata": {
    "execution": {
     "iopub.status.busy": "2024-04-28T20:41:00.166321Z",
     "iopub.status.idle": "2024-04-28T20:41:00.166599Z",
     "shell.execute_reply": "2024-04-28T20:41:00.166453Z",
     "shell.execute_reply.started": "2024-04-28T20:41:00.166441Z"
    }
   },
   "outputs": [],
   "source": [
    "for \n",
    "output, predictions = model.predict(test_features)\n",
    "model.test_accuracy = accuracy(y_true=test_dataset.targets, y_pred=predictions)"
   ]
  },
  {
   "cell_type": "code",
   "execution_count": null,
   "id": "33c72a58-de2e-43d9-ad00-725552a38ff5",
   "metadata": {
    "execution": {
     "iopub.status.busy": "2024-04-28T20:41:00.167774Z",
     "iopub.status.idle": "2024-04-28T20:41:00.168067Z",
     "shell.execute_reply": "2024-04-28T20:41:00.167930Z",
     "shell.execute_reply.started": "2024-04-28T20:41:00.167918Z"
    }
   },
   "outputs": [],
   "source": [
    "print(f\"accuracy: {model.test_accuracy}%\")"
   ]
  },
  {
   "cell_type": "code",
   "execution_count": null,
   "id": "d9d7cd53-2ef8-4c46-a509-e3443f1eae20",
   "metadata": {
    "execution": {
     "iopub.status.busy": "2024-04-28T20:41:00.168997Z",
     "iopub.status.idle": "2024-04-28T20:41:00.169331Z",
     "shell.execute_reply": "2024-04-28T20:41:00.169208Z",
     "shell.execute_reply.started": "2024-04-28T20:41:00.169196Z"
    }
   },
   "outputs": [],
   "source": [
    "print(f\"accuracy: {model.test_accuracy}%\")"
   ]
  },
  {
   "cell_type": "code",
   "execution_count": null,
   "id": "1e80b138-e509-48bc-853f-297f1a55a8e8",
   "metadata": {
    "execution": {
     "iopub.status.busy": "2024-04-28T20:41:00.170835Z",
     "iopub.status.idle": "2024-04-28T20:41:00.171199Z",
     "shell.execute_reply": "2024-04-28T20:41:00.171078Z",
     "shell.execute_reply.started": "2024-04-28T20:41:00.171066Z"
    }
   },
   "outputs": [],
   "source": [
    "print(f\"accuracy: {model.test_accuracy}%\")"
   ]
  },
  {
   "cell_type": "code",
   "execution_count": null,
   "id": "f2b8338a-e430-44e7-b82d-96c3fa70cf9c",
   "metadata": {
    "execution": {
     "iopub.status.busy": "2024-04-28T20:41:00.172185Z",
     "iopub.status.idle": "2024-04-28T20:41:00.172452Z",
     "shell.execute_reply": "2024-04-28T20:41:00.172336Z",
     "shell.execute_reply.started": "2024-04-28T20:41:00.172323Z"
    }
   },
   "outputs": [],
   "source": [
    "filename = f\"DNN-{args.model.lower()}-{args.seed}.json\"\n",
    "export_results(model=model, filename=filename)"
   ]
  },
  {
   "cell_type": "code",
   "execution_count": null,
   "id": "b616fdcb-52ea-4743-ace6-201a48fc68ee",
   "metadata": {},
   "outputs": [],
   "source": []
  },
  {
   "attachments": {},
   "cell_type": "markdown",
   "id": "333adcfa-4e1a-4e84-b837-14dd762ba6a8",
   "metadata": {
    "jp-MarkdownHeadingCollapsed": true
   },
   "source": [
    "# `epoch_train(self, data_loader, epoch)` - STEP BY STEP\n",
    "\n",
    "    def epoch_train(self, data_loader: torch.utils.data.DataLoader, epoch: int = None) -> Tuple:"
   ]
  },
  {
   "cell_type": "code",
   "execution_count": null,
   "id": "d47ca19d-bcba-4275-a6e3-c51f703af1e0",
   "metadata": {
    "execution": {
     "iopub.status.busy": "2024-04-28T20:41:00.173546Z",
     "iopub.status.idle": "2024-04-28T20:41:00.174057Z",
     "shell.execute_reply": "2024-04-28T20:41:00.173917Z",
     "shell.execute_reply.started": "2024-04-28T20:41:00.173904Z"
    }
   },
   "outputs": [],
   "source": [
    "model.snnl_criterion = SNNLoss(\n",
    "        mode=model.mode,\n",
    "        criterion=model.primary_criterion,\n",
    "        factor=model.factor,\n",
    "        temperature=model.temperature,\n",
    "        use_annealing=model.use_annealing,\n",
    "        use_sum=model.use_sum,\n",
    "        # unsupervised=model.unsupervised,\n",
    "        unsupervised=True,\n",
    "        code_units=model.code_units,\n",
    "        sample_size = model.sample_size,\n",
    "        stability_epsilon=model.stability_epsilon,\n",
    ")\n",
    "model.unsupervised"
   ]
  },
  {
   "cell_type": "code",
   "execution_count": null,
   "id": "04d69ccd-3c4d-425a-9e2e-f1df7c3b3908",
   "metadata": {
    "execution": {
     "iopub.status.busy": "2024-04-28T20:41:00.175110Z",
     "iopub.status.idle": "2024-04-28T20:41:00.175424Z",
     "shell.execute_reply": "2024-04-28T20:41:00.175300Z",
     "shell.execute_reply.started": "2024-04-28T20:41:00.175287Z"
    }
   },
   "outputs": [],
   "source": [
    "# if model.use_snnl:\n",
    "# if model.name == \"DNN\" or model.name == \"CNN\":\n",
    "epoch_loss = 0\n",
    "epoch_ttl_loss = 0\n",
    "epoch_primary_loss = 0\n",
    "epoch_snn_loss = 0\n",
    "epoch_accuracy = 0\n",
    "\n",
    "# model.snnl_criterion.factor \n",
    "# model.snnl_criterion.factor = 2\n",
    "# model.snnl_criterion.factor "
   ]
  },
  {
   "cell_type": "markdown",
   "id": "5109187f-0dce-4eda-8ba7-214f353ac877",
   "metadata": {},
   "source": [
    "### Loop through data"
   ]
  },
  {
   "cell_type": "code",
   "execution_count": null,
   "id": "a7f0194b-ea0c-4c3a-ae30-3664c00099da",
   "metadata": {
    "execution": {
     "iopub.status.busy": "2024-04-28T20:41:00.176475Z",
     "iopub.status.idle": "2024-04-28T20:41:00.176765Z",
     "shell.execute_reply": "2024-04-28T20:41:00.176628Z",
     "shell.execute_reply.started": "2024-04-28T20:41:00.176616Z"
    },
    "scrolled": true
   },
   "outputs": [],
   "source": [
    "for batch_count, (batch_features, batch_labels, _, _, _) in enumerate(train_loader):\n",
    "    if batch_count  == 71:\n",
    "        break\n",
    "    # ,_,_,batch_features, batch_labels = next(iter(data_loader))\n",
    "    # batch_features, batch_labels = next(iter(data_loader))\n",
    "\n",
    "    # if model.name in [\"Autoencoder\", \"DNN\"]:\n",
    "        # batch_features = batch_features.view(batch_features.shape[0], -1)"
   ]
  },
  {
   "cell_type": "code",
   "execution_count": null,
   "id": "59f478fd-792a-496a-93b3-b9439d30869e",
   "metadata": {
    "execution": {
     "iopub.status.busy": "2024-04-28T20:41:00.177887Z",
     "iopub.status.idle": "2024-04-28T20:41:00.178219Z",
     "shell.execute_reply": "2024-04-28T20:41:00.178093Z",
     "shell.execute_reply.started": "2024-04-28T20:41:00.178080Z"
    }
   },
   "outputs": [],
   "source": [
    "batch_count"
   ]
  },
  {
   "cell_type": "code",
   "execution_count": null,
   "id": "d18a511f-51f4-4d81-8041-029f70d7654f",
   "metadata": {
    "execution": {
     "iopub.status.busy": "2024-04-28T20:41:00.179546Z",
     "iopub.status.idle": "2024-04-28T20:41:00.179862Z",
     "shell.execute_reply": "2024-04-28T20:41:00.179741Z",
     "shell.execute_reply.started": "2024-04-28T20:41:00.179729Z"
    },
    "scrolled": true
   },
   "outputs": [],
   "source": [
    "    \n",
    "batch_features = batch_features.to(model.device)\n",
    "batch_labels = batch_labels.to(model.device)\n",
    "    \n",
    "model.optimizer.zero_grad()\n",
    "    \n",
    "outputs = model.forward(features=batch_features)\n",
    "    # break"
   ]
  },
  {
   "cell_type": "code",
   "execution_count": null,
   "id": "906a7016-15af-4fdb-b3f2-7ec7f8dabac4",
   "metadata": {
    "execution": {
     "iopub.status.busy": "2024-04-28T20:41:00.180965Z",
     "iopub.status.idle": "2024-04-28T20:41:00.181269Z",
     "shell.execute_reply": "2024-04-28T20:41:00.181150Z",
     "shell.execute_reply.started": "2024-04-28T20:41:00.181137Z"
    }
   },
   "outputs": [],
   "source": [
    "# outputs"
   ]
  },
  {
   "cell_type": "code",
   "execution_count": null,
   "id": "5c472c4f-a10c-472c-9f64-09aea53440be",
   "metadata": {
    "execution": {
     "iopub.status.busy": "2024-04-28T20:41:00.182309Z",
     "iopub.status.idle": "2024-04-28T20:41:00.182592Z",
     "shell.execute_reply": "2024-04-28T20:41:00.182441Z",
     "shell.execute_reply.started": "2024-04-28T20:41:00.182429Z"
    },
    "scrolled": true
   },
   "outputs": [],
   "source": [
    "    if model.use_snnl:\n",
    "        train_loss, primary_loss, snn_loss = model.snnl_criterion(\n",
    "            model=model,\n",
    "            outputs=outputs,\n",
    "            features=batch_features,\n",
    "            labels=batch_labels,\n",
    "            epoch=epoch,\n",
    "        )\n",
    "        epoch_loss += train_loss.item()\n",
    "        epoch_snn_loss += snn_loss.item()\n",
    "        epoch_primary_loss += primary_loss.item()\n",
    "    else:\n",
    "        # if not model.use_snnl:\n",
    "        print(f\"Model not using SNNL\")\n",
    "        train_loss = model.criterion(outputs, batch_labels if model.name == \"DNN\" or model.name == \"CNN\"  else batch_features,)\n",
    "        epoch_loss += train_loss.item()"
   ]
  },
  {
   "cell_type": "code",
   "execution_count": null,
   "id": "2f295bda-c719-4fff-b7ca-51ae611ccacd",
   "metadata": {
    "execution": {
     "iopub.status.busy": "2024-04-28T20:41:00.183731Z",
     "iopub.status.idle": "2024-04-28T20:41:00.184013Z",
     "shell.execute_reply": "2024-04-28T20:41:00.183880Z",
     "shell.execute_reply.started": "2024-04-28T20:41:00.183868Z"
    },
    "scrolled": true
   },
   "outputs": [],
   "source": [
    " \n",
    "    if model.name == \"DNN\" or model.name == \"CNN\":\n",
    "        train_accuracy = (outputs.argmax(1) == batch_labels).sum().item() / len(batch_labels)\n",
    "        epoch_accuracy += train_accuracy\n",
    "    else:\n",
    "        train_accuracy =  0\n",
    "        epoch_accuracy += train_accuracy\n",
    "    \n",
    "    train_loss.backward()\n",
    "    model.optimizer.step()\n",
    "    \n",
    "    if model.use_snnl and model.temperature is not None:\n",
    "        model.optimize_temperature()\n",
    "    \n",
    "    # print(outputs.shape)\n",
    "    # print(batch_labels.shape)\n",
    "    print(f\" batch:{batch_count} - train : loss    {train_loss:10.6f}   primary loss: {primary_loss:10.6f}    SNN loss: {snn_loss*model.snnl_criterion.factor:10.6f}   (loss: {snn_loss:10.6f} * factor: {model.snnl_criterion.factor})  \"\n",
    "          f\"  temp: {model.temperature.data} snnl_temp: {model.snnl_criterion.temperature.data}\")    \n",
    "    # print(f\" epoch : loss    {epoch_loss:10.6f}   primary_loss: {epoch_primary_loss:10.6f}    SNN loss: {epoch_snn_loss:10.6f}   factor: {model.factor}\")\n",
    "    # print(f\" batch_accuracy         {train_accuracy}   epoch_accuracy         {epoch_accuracy}\")\n",
    "    break\n",
    "#### End of dataloader loop"
   ]
  },
  {
   "cell_type": "code",
   "execution_count": null,
   "id": "b110abcf-252c-4480-bd36-00e1346ca24a",
   "metadata": {
    "execution": {
     "iopub.status.busy": "2024-04-28T20:41:00.185186Z",
     "iopub.status.idle": "2024-04-28T20:41:00.185515Z",
     "shell.execute_reply": "2024-04-28T20:41:00.185376Z",
     "shell.execute_reply.started": "2024-04-28T20:41:00.185363Z"
    },
    "scrolled": true
   },
   "outputs": [],
   "source": [
    "print(f\" loop ended - batch_count: {batch_count}\")"
   ]
  },
  {
   "cell_type": "code",
   "execution_count": null,
   "id": "57076e3e-ecd7-4981-b6b6-10dd73b8bc5c",
   "metadata": {
    "execution": {
     "iopub.status.busy": "2024-04-28T20:41:00.186701Z",
     "iopub.status.idle": "2024-04-28T20:41:00.187057Z",
     "shell.execute_reply": "2024-04-28T20:41:00.186908Z",
     "shell.execute_reply.started": "2024-04-28T20:41:00.186895Z"
    }
   },
   "outputs": [],
   "source": [
    "primary_loss\n",
    "primary_loss.shape, primary_loss.size(), primary_loss.data, primary_loss.ndim"
   ]
  },
  {
   "cell_type": "code",
   "execution_count": null,
   "id": "9e928131-adf6-4100-a66b-548e12544e99",
   "metadata": {
    "execution": {
     "iopub.status.busy": "2024-04-28T20:41:00.188202Z",
     "iopub.status.idle": "2024-04-28T20:41:00.188514Z",
     "shell.execute_reply": "2024-04-28T20:41:00.188376Z",
     "shell.execute_reply.started": "2024-04-28T20:41:00.188364Z"
    }
   },
   "outputs": [],
   "source": [
    "pp = torch.zeros(0,requires_grad = True, dtype=torch.float32)\n",
    "p1 = torch.tensor(0,requires_grad = True, dtype=torch.float32, device = model.device)\n",
    "pp.shape, pp.size(), pp.data, pp.ndim\n",
    "p1.shape, p1.size(), p1.data, p1.ndim"
   ]
  },
  {
   "cell_type": "code",
   "execution_count": null,
   "id": "baae028f-8b82-4635-b110-a294788ed55a",
   "metadata": {
    "execution": {
     "iopub.status.busy": "2024-04-28T20:41:00.189428Z",
     "iopub.status.idle": "2024-04-28T20:41:00.189702Z",
     "shell.execute_reply": "2024-04-28T20:41:00.189581Z",
     "shell.execute_reply.started": "2024-04-28T20:41:00.189569Z"
    }
   },
   "outputs": [],
   "source": [
    "len_data_loader = batch_count"
   ]
  },
  {
   "cell_type": "code",
   "execution_count": null,
   "id": "5b840a1c-78b7-4c85-bd79-1f445323449b",
   "metadata": {
    "execution": {
     "iopub.status.busy": "2024-04-28T20:41:00.190987Z",
     "iopub.status.idle": "2024-04-28T20:41:00.191285Z",
     "shell.execute_reply": "2024-04-28T20:41:00.191164Z",
     "shell.execute_reply.started": "2024-04-28T20:41:00.191152Z"
    }
   },
   "outputs": [],
   "source": [
    "len_data_loader\n",
    "epoch_loss, epoch_loss/len_data_loader\n",
    "epoch_snn_loss * model.snnl_criterion.factor, (epoch_snn_loss * model.snnl_criterion.factor)/len_data_loader, epoch_snn_loss\n",
    "epoch_primary_loss, epoch_primary_loss/len_data_loader\n",
    "epoch_accuracy / len_data_loader"
   ]
  },
  {
   "cell_type": "markdown",
   "id": "be62eb13-604d-41fd-b6a7-31fa2c3f7056",
   "metadata": {
    "jp-MarkdownHeadingCollapsed": true
   },
   "source": [
    "# SNNL Loss"
   ]
  },
  {
   "cell_type": "code",
   "execution_count": null,
   "id": "62d3d1ff-7509-47b7-b986-3f6b232ff165",
   "metadata": {
    "execution": {
     "iopub.status.busy": "2024-04-28T20:41:00.192755Z",
     "iopub.status.idle": "2024-04-28T20:41:00.193066Z",
     "shell.execute_reply": "2024-04-28T20:41:00.192942Z",
     "shell.execute_reply.started": "2024-04-28T20:41:00.192930Z"
    }
   },
   "outputs": [],
   "source": [
    "# input1 = torch.randn(100, 128)\n",
    "# input2 = torch.randn(100, 128)\n",
    "# cos = torch.nn.CosineSimilarity(dim=1, eps=1e-6)\n",
    "# tmp1 = cos(input1, input2)\n",
    "# tmp1.shape\n",
    "# # tmp1\n",
    "\n",
    "# value.shape\n",
    "\n",
    "# tmp1 = torch.cdist(value, value, p=2)\n",
    "# cosim = torch.nn.CosineSimilarity(dim=1, eps=1e-6)\n",
    "# tmp1 = cosim(value, value.T)\n",
    "# tmp1.shape\n",
    "# tmp1\n",
    "# tmp1.min(), tmp1.argmin()"
   ]
  },
  {
   "cell_type": "code",
   "execution_count": null,
   "id": "ce1a3869-13ee-4537-8e80-91b0a6a873b5",
   "metadata": {
    "execution": {
     "iopub.status.busy": "2024-04-28T20:41:00.194146Z",
     "iopub.status.idle": "2024-04-28T20:41:00.194435Z",
     "shell.execute_reply": "2024-04-28T20:41:00.194302Z",
     "shell.execute_reply.started": "2024-04-28T20:41:00.194290Z"
    }
   },
   "outputs": [],
   "source": [
    "batch_count  = 0\n",
    "iter_loader = iter(train_loader)"
   ]
  },
  {
   "cell_type": "code",
   "execution_count": null,
   "id": "61c895fe-dd9f-41d1-b9bf-4870db47d50d",
   "metadata": {
    "execution": {
     "iopub.status.busy": "2024-04-28T20:41:00.195451Z",
     "iopub.status.idle": "2024-04-28T20:41:00.195906Z",
     "shell.execute_reply": "2024-04-28T20:41:00.195788Z",
     "shell.execute_reply.started": "2024-04-28T20:41:00.195776Z"
    }
   },
   "outputs": [],
   "source": [
    "(batch_features, batch_labels, _, _, _) = next(iter_loader)"
   ]
  },
  {
   "cell_type": "code",
   "execution_count": null,
   "id": "af29afe6-2783-4f00-bbca-56f0bea3bb83",
   "metadata": {
    "execution": {
     "iopub.status.busy": "2024-04-28T20:41:00.197208Z",
     "iopub.status.idle": "2024-04-28T20:41:00.197545Z",
     "shell.execute_reply": "2024-04-28T20:41:00.197407Z",
     "shell.execute_reply.started": "2024-04-28T20:41:00.197395Z"
    }
   },
   "outputs": [],
   "source": [
    "    \n",
    "batch_features = batch_features.to(model.device)\n",
    "batch_labels = batch_labels.to(model.device)\n",
    "    \n",
    "model.optimizer.zero_grad()\n",
    "    \n",
    "outputs = model.forward(features=batch_features)\n",
    "    # break"
   ]
  },
  {
   "cell_type": "code",
   "execution_count": null,
   "id": "95f8ec81-aa40-42e2-b8b5-24bf959cafc7",
   "metadata": {
    "execution": {
     "iopub.status.busy": "2024-04-28T20:41:00.198706Z",
     "iopub.status.idle": "2024-04-28T20:41:00.199015Z",
     "shell.execute_reply": "2024-04-28T20:41:00.198870Z",
     "shell.execute_reply.started": "2024-04-28T20:41:00.198857Z"
    }
   },
   "outputs": [],
   "source": [
    "def pairwise_cosine_distance(features: torch.Tensor) -> torch.Tensor:\n",
    "    \"\"\"\n",
    "    Returns the pairwise cosine distance between two copies\n",
    "    of the features matrix.\n",
    "\n",
    "    Parameter\n",
    "    ---------\n",
    "    features: torch.Tensor\n",
    "        The input features.\n",
    "\n",
    "    Returns\n",
    "    -------\n",
    "    distance_matrix: torch.Tensor\n",
    "        The pairwise cosine distance matrix.\n",
    "\n",
    "    Example\n",
    "    -------\n",
    "    >>> import torch\n",
    "    >>> from snnl import SNNLoss\n",
    "    >>> _ = torch.manual_seed(42)\n",
    "    >>> a = torch.rand((4, 2))\n",
    "    >>> snnl = SNNLoss(temperature=1.0)\n",
    "    >>> snnl.pairwise_cosine_distance(a)\n",
    "    tensor([[1.1921e-07, 7.4125e-02, 1.8179e-02, 1.0152e-01],\n",
    "            [7.4125e-02, 1.1921e-07, 1.9241e-02, 2.2473e-03],\n",
    "            [1.8179e-02, 1.9241e-02, 1.1921e-07, 3.4526e-02],\n",
    "            [1.0152e-01, 2.2473e-03, 3.4526e-02, 0.0000e+00]])\n",
    "    \"\"\"\n",
    "    a, b = features.clone(), features.clone()\n",
    "    normalized_a = torch.nn.functional.normalize(a, dim=1, p=2)\n",
    "    normalized_b = torch.nn.functional.normalize(b, dim=1, p=2)\n",
    "    # normalized_b = torch.conj(normalized_b).T\n",
    "    product = torch.matmul(normalized_a, normalized_b.T)\n",
    "    distance_matrix = torch.sub(torch.tensor(1.0), product)\n",
    "    return distance_matrix\n",
    "\n",
    "def normalize_distance_matrix(\n",
    "    self,\n",
    "    features: torch.Tensor,\n",
    "    distance_matrix: torch.Tensor,\n",
    "    device: torch.device = torch.device(\"cuda:0\" if torch.cuda.is_available() else \"cpu\"),\n",
    ") -> torch.Tensor:\n",
    "\n",
    "    pairwise_distance_matrix = torch.exp( -(distance_matrix * self.temperature)) - torch.eye(features.shape[0]).to(device)\n",
    "    \n",
    "    return pairwise_distance_matrix\n",
    "\n",
    "def pairwise_cos_distance(A, B):\n",
    "    \n",
    "    \"\"\"Pairwise cosine distance between two matrices.\n",
    "    :param A: a matrix.\n",
    "    :param B: a matrix.\n",
    "    :returns: A tensor for the pairwise cosine between A and B.\n",
    "    \"\"\"\n",
    "    normalized_A = torch.nn.functional.normalize(A, dim=1)\n",
    "    normalized_B = torch.nn.functional.normalize(B, dim=1)\n",
    "    prod = torch.matmul(normalized_A, normalized_B.transpose(-2, -1).conj())\n",
    "    return 1 - prod"
   ]
  },
  {
   "cell_type": "code",
   "execution_count": null,
   "id": "46b317a9-4d55-4556-ba2f-db26ce7d8dbf",
   "metadata": {
    "execution": {
     "iopub.status.busy": "2024-04-28T20:41:00.200169Z",
     "iopub.status.idle": "2024-04-28T20:41:00.200459Z",
     "shell.execute_reply": "2024-04-28T20:41:00.200323Z",
     "shell.execute_reply.started": "2024-04-28T20:41:00.200310Z"
    }
   },
   "outputs": [],
   "source": [
    "print('\\n'+'-'*80)\n",
    "print('1 - pairwise_cos_distance')\n",
    "print('-'*80)\n",
    "tmp1 =  pairwise_cosine_distance(value)\n",
    "tmp1.shape\n",
    "tmp1\n",
    "tmp1.sum()\n",
    "tmp1.min(), tmp1.argmin()\n",
    "\n",
    "print('\\n'+'-'*80)\n",
    "print('2 - torch.exp(-(distance_matrix / temp))')\n",
    "print('-'*80)\n",
    "tmp2 = torch.exp(-(tmp1 / snnl.temperature)) \n",
    "tmp2.shape\n",
    "tmp2\n",
    "tmp2.sum()\n",
    "tmp2.min(), tmp2.argmin()\n",
    "\n",
    "\n",
    "print('\\n'+'-'*80)\n",
    "print('3 - pairwise_distance_matrix')\n",
    "print('-'*80)\n",
    "tmp3 = torch.exp(-(tmp1 / snnl.temperature)) - torch.eye(batch_features.shape[0]).to(model.device) \n",
    "tmp3.shape\n",
    "tmp3\n",
    "tmp3.sum()\n",
    "tmp3.min(), tmp3.argmin()"
   ]
  },
  {
   "cell_type": "markdown",
   "id": "afc3bfb3-cc9f-4555-b3c6-24029d1eccc3",
   "metadata": {},
   "source": [
    "### V1 Code"
   ]
  },
  {
   "cell_type": "code",
   "execution_count": null,
   "id": "44576fab-55ef-4741-a5bb-d3b620759b6c",
   "metadata": {
    "execution": {
     "iopub.status.busy": "2024-04-28T20:41:00.201546Z",
     "iopub.status.idle": "2024-04-28T20:41:00.202011Z",
     "shell.execute_reply": "2024-04-28T20:41:00.201892Z",
     "shell.execute_reply.started": "2024-04-28T20:41:00.201880Z"
    }
   },
   "outputs": [],
   "source": [
    "from dev_code import SNNLoss"
   ]
  },
  {
   "cell_type": "code",
   "execution_count": null,
   "id": "5c8294a6-0992-44c9-adf3-c4dbec0ba543",
   "metadata": {
    "execution": {
     "iopub.status.busy": "2024-04-28T20:41:00.203188Z",
     "iopub.status.idle": "2024-04-28T20:41:00.203488Z",
     "shell.execute_reply": "2024-04-28T20:41:00.203369Z",
     "shell.execute_reply.started": "2024-04-28T20:41:00.203357Z"
    }
   },
   "outputs": [],
   "source": [
    "model.temperature\n",
    "snnl.temperature"
   ]
  },
  {
   "cell_type": "code",
   "execution_count": null,
   "id": "23b2d86d-149c-4c52-9bc8-bf6f4440e3ff",
   "metadata": {
    "execution": {
     "iopub.status.busy": "2024-04-28T20:41:00.204489Z",
     "iopub.status.idle": "2024-04-28T20:41:00.204753Z",
     "shell.execute_reply": "2024-04-28T20:41:00.204638Z",
     "shell.execute_reply.started": "2024-04-28T20:41:00.204626Z"
    }
   },
   "outputs": [],
   "source": [
    "snnl =SNNLoss(\n",
    "                mode=model.mode,\n",
    "                criterion=model.primary_criterion,\n",
    "                factor=model.factor,\n",
    "                temperature=model.temperature,\n",
    "                use_annealing=model.use_annealing,\n",
    "                use_sum=model.use_sum,\n",
    "                code_units=model.code_units,\n",
    "                sample_size = model.sample_size,\n",
    "                stability_epsilon=model.stability_epsilon,\n",
    "                unsupervised=model.unsupervised,\n",
    "            )"
   ]
  },
  {
   "cell_type": "code",
   "execution_count": null,
   "id": "c66820d3-3a55-4ca1-8b2b-d1954d48d6be",
   "metadata": {
    "execution": {
     "iopub.status.busy": "2024-04-28T20:41:00.205873Z",
     "iopub.status.idle": "2024-04-28T20:41:00.206426Z",
     "shell.execute_reply": "2024-04-28T20:41:00.206277Z",
     "shell.execute_reply.started": "2024-04-28T20:41:00.206263Z"
    }
   },
   "outputs": [],
   "source": [
    "snnl.temperature"
   ]
  },
  {
   "cell_type": "code",
   "execution_count": null,
   "id": "7031d50b-56b8-4cf2-a0ff-124f064b8e8e",
   "metadata": {
    "execution": {
     "iopub.status.busy": "2024-04-28T20:41:00.207448Z",
     "iopub.status.idle": "2024-04-28T20:41:00.207742Z",
     "shell.execute_reply": "2024-04-28T20:41:00.207588Z",
     "shell.execute_reply.started": "2024-04-28T20:41:00.207576Z"
    }
   },
   "outputs": [],
   "source": [
    "# snnl.temperature = 8.762743\n",
    "train_loss,primary_loss,snnl_loss = train_loss, primary_loss, snn_loss = snnl(\n",
    "                    model=model,\n",
    "                    outputs=outputs,\n",
    "                    features=batch_features,\n",
    "                    labels=batch_labels,\n",
    "                    epoch=1,\n",
    "                )\n",
    "train_loss,primary_loss,snnl_loss"
   ]
  },
  {
   "cell_type": "code",
   "execution_count": null,
   "id": "a650b00e-2250-4c7d-8013-60bb2097b923",
   "metadata": {
    "execution": {
     "iopub.status.busy": "2024-04-28T20:41:00.208972Z",
     "iopub.status.idle": "2024-04-28T20:41:00.209270Z",
     "shell.execute_reply": "2024-04-28T20:41:00.209149Z",
     "shell.execute_reply.started": "2024-04-28T20:41:00.209138Z"
    }
   },
   "outputs": [],
   "source": [
    "snnl.layers_snnl"
   ]
  },
  {
   "cell_type": "code",
   "execution_count": null,
   "id": "01e06e96-bbc6-4479-9c18-1fa87f997058",
   "metadata": {
    "execution": {
     "iopub.status.busy": "2024-04-28T20:41:00.210252Z",
     "iopub.status.idle": "2024-04-28T20:41:00.210655Z",
     "shell.execute_reply": "2024-04-28T20:41:00.210502Z",
     "shell.execute_reply.started": "2024-04-28T20:41:00.210491Z"
    }
   },
   "outputs": [],
   "source": [
    "activations = snnl.compute_activations(model=model, features=batch_features)"
   ]
  },
  {
   "cell_type": "code",
   "execution_count": null,
   "id": "ebb1ae97-fe84-4ef3-b9fb-0c43c309ed0e",
   "metadata": {
    "execution": {
     "iopub.status.busy": "2024-04-28T20:41:00.211761Z",
     "iopub.status.idle": "2024-04-28T20:41:00.212009Z",
     "shell.execute_reply": "2024-04-28T20:41:00.211892Z",
     "shell.execute_reply.started": "2024-04-28T20:41:00.211880Z"
    }
   },
   "outputs": [],
   "source": [
    "for k,v in activations.items():\n",
    "    print(k, v.shape, v.sum().item())\n"
   ]
  },
  {
   "cell_type": "code",
   "execution_count": null,
   "id": "860bf60c-bb11-4584-82dc-09c56b4f54e5",
   "metadata": {
    "execution": {
     "iopub.status.busy": "2024-04-28T20:41:00.213394Z",
     "iopub.status.idle": "2024-04-28T20:41:00.213705Z",
     "shell.execute_reply": "2024-04-28T20:41:00.213565Z",
     "shell.execute_reply.started": "2024-04-28T20:41:00.213552Z"
    }
   },
   "outputs": [],
   "source": [
    "def snnlV1_fixed_debug( inp_values = None, inp_labels = None):\n",
    "    print('-'*80)\n",
    "    print('1 - pairwise_cos_distance')\n",
    "    print('-'*80)\n",
    "    snnl.distance_matrix = snnl.pairwise_cosine_distance(features = inp_values)\n",
    "    print(snnl.distance_matrix.shape)\n",
    "    # print(snnl.distance_matrix)\n",
    "    print(snnl.distance_matrix.sum())\n",
    "    print(snnl.distance_matrix.min(), snnl.distance_matrix.argmin())\n",
    "    \n",
    "    print('-'*80)\n",
    "    print('2 - torch.exp(-(distance_matrix / temp))')\n",
    "    print('-'*80)\n",
    "    tmp2 = torch.exp(-(snnl.distance_matrix / snnl.temperature)) \n",
    "    print(tmp2.shape)\n",
    "    # print(tmp2)\n",
    "    print(tmp2.sum())\n",
    "    print(tmp2.min(), tmp2.argmin())\n",
    "    \n",
    "    print('-'*80)\n",
    "    print('2 - pairwise_distance_matrix')\n",
    "    print('-'*80)\n",
    "    snnl.pairwise_distance_matrix = snnl.normalize_distance_matrix(features = inp_values, distance_matrix = snnl.distance_matrix, device = 'cuda:0')\n",
    "    print(snnl.pairwise_distance_matrix.shape   )\n",
    "    # print(snnl.pairwise_distance_matrix)\n",
    "    print(snnl.pairwise_distance_matrix.sum())\n",
    "    print(snnl.pairwise_distance_matrix.min(), snnl.pairwise_distance_matrix.argmin()   )\n",
    "    \n",
    "    print('-'*80)\n",
    "    print('3 - pick probability')\n",
    "    print('-'*80)\n",
    "    snnl.pick_probability = snnl.compute_sampling_probability(snnl.pairwise_distance_matrix)\n",
    "    snnl.pick_probability = torch.clamp(snnl.pick_probability,0,None)\n",
    "    print(snnl.pick_probability.shape)\n",
    "    # print(snnl.pick_probability)\n",
    "    print(snnl.pick_probability.sum())\n",
    "    print(snnl.pick_probability.min(), snnl.pick_probability.argmin()   )\n",
    "\n",
    "    snnl.summed_masked_pick_probability = snnl.mask_sampling_probability(labels = inp_labels, sampling_probability = snnl.pick_probability, device = 'cuda:0')\n",
    "    \n",
    "    print('-'*80)\n",
    "    print('4 - masked pick probability')\n",
    "    print('-'*80)\n",
    "    print(snnl.masked_pick_probability.shape)\n",
    "    # print(snnl.masked_pick_probability)\n",
    "    print(snnl.masked_pick_probability.sum())\n",
    "    print(snnl.masked_pick_probability.min(), snnl.masked_pick_probability.argmin())\n",
    "        \n",
    "    print('-'*80)\n",
    "    print('5 - summed masked pick probability')\n",
    "    print('-'*80)\n",
    "    # snnl.summed_masked_pick_probability = snnl.mask_sampling_probability(labels = inp_labels, sampling_probability = snnl.pick_probability, device = 'cuda:0')\n",
    "    print(snnl.summed_masked_pick_probability.shape)\n",
    "    # print(snnl.summed_masked_pick_probability)\n",
    "    print(snnl.summed_masked_pick_probability.sum(0))\n",
    "    print(snnl.summed_masked_pick_probability.min(), snnl.summed_masked_pick_probability.argmin())\n",
    "    \n",
    "    print('-'*80)\n",
    "    print('6 - Log summed masked pick probability')\n",
    "    print('-'*80)\n",
    "    snnl_loss = torch.mean( -torch.log(snnl.stability_epsilon + snnl.summed_masked_pick_probability))\n",
    "    print(snnl_loss)"
   ]
  },
  {
   "cell_type": "code",
   "execution_count": null,
   "id": "71a0d25a-3ca3-459d-a241-1c5e7b0192ad",
   "metadata": {
    "execution": {
     "iopub.status.busy": "2024-04-28T20:41:00.214952Z",
     "iopub.status.idle": "2024-04-28T20:41:00.215257Z",
     "shell.execute_reply": "2024-04-28T20:41:00.215123Z",
     "shell.execute_reply.started": "2024-04-28T20:41:00.215111Z"
    }
   },
   "outputs": [],
   "source": [
    "def snnlV1_debug( inp_values = None, inp_labels = None, verbose = False):\n",
    "    print('-'*80)\n",
    "    print('1 - pairwise_cos_distance')\n",
    "    print('-'*80)\n",
    "    snnl.distance_matrix = snnl.pairwise_cosine_distance(features = inp_values)\n",
    "    print(snnl.distance_matrix.shape)\n",
    "    if verbose:\n",
    "        print(snnl.distance_matrix)\n",
    "    print(snnl.distance_matrix.sum())\n",
    "    print(snnl.distance_matrix.min(), snnl.distance_matrix.argmin())\n",
    "    \n",
    "    print('-'*80)\n",
    "    print('2 - torch.exp(-(distance_matrix / temp))')\n",
    "    print('-'*80)\n",
    "    tmp2 = torch.exp(-(snnl.distance_matrix / snnl.temperature)) \n",
    "    print(tmp2.shape)\n",
    "    if verbose:\n",
    "        print(tmp2)\n",
    "    print(tmp2.sum())\n",
    "    print(tmp2.min(), tmp2.argmin())\n",
    "    \n",
    "    \n",
    "    print('-'*80)\n",
    "    print('2 - pairwise_distance_matrix')\n",
    "    print('-'*80)\n",
    "    snnl.pairwise_distance_matrix = snnl.normalize_distance_matrix(features = inp_values, distance_matrix = snnl.distance_matrix, device = 'cuda:0')\n",
    "    print(snnl.pairwise_distance_matrix.shape   )\n",
    "    if verbose:\n",
    "        print(snnl.pairwise_distance_matrix)\n",
    "    print(snnl.pairwise_distance_matrix.sum())\n",
    "    print(snnl.pairwise_distance_matrix.min(), snnl.pairwise_distance_matrix.argmin()   )\n",
    "    \n",
    "    print('-'*80)\n",
    "    print('3.A - pick probability unclamped')\n",
    "    print('-'*80)\n",
    "    tmp3 = snnl.pairwise_distance_matrix / (snnl.stability_epsilon + snnl.pairwise_distance_matrix.sum(1).unsqueeze(1))\n",
    "    print(tmp3.shape)\n",
    "    if verbose:\n",
    "        print(tmp3)\n",
    "    print(tmp3.sum())\n",
    "    print(tmp3.min(), tmp3.argmin()   )\n",
    "\n",
    "    print('-'*80)\n",
    "    print('3 - pick probability')\n",
    "    print('-'*80)\n",
    "    snnl.pick_probability = snnl.compute_sampling_probability(snnl.pairwise_distance_matrix)\n",
    "    print(snnl.pick_probability.shape)\n",
    "    if verbose:\n",
    "        print(snnl.pick_probability)\n",
    "    print(snnl.pick_probability.sum())\n",
    "    print(snnl.pick_probability.min(), snnl.pick_probability.argmin()   )\n",
    "    \n",
    "    snnl.summed_masked_pick_probability = snnl.mask_sampling_probability(labels = inp_labels, sampling_probability = snnl.pick_probability, device = 'cuda:0')\n",
    "    \n",
    "    print('-'*80)\n",
    "    print('4 - masked pick probability')\n",
    "    print('-'*80)\n",
    "    print(snnl.masked_pick_probability.shape)\n",
    "    if verbose:\n",
    "        print(snnl.masked_pick_probability)\n",
    "    print(snnl.masked_pick_probability.sum())\n",
    "    print(snnl.masked_pick_probability.min(), snnl.masked_pick_probability.argmin())\n",
    "        \n",
    "    print('-'*80)\n",
    "    print('5 - summed masked pick probability')\n",
    "    print('-'*80)\n",
    "    # snnl.summed_masked_pick_probability = snnl.mask_sampling_probability(labels = inp_labels, sampling_probability = snnl.pick_probability, device = 'cuda:0')\n",
    "    print(snnl.summed_masked_pick_probability.shape)\n",
    "    if verbose:\n",
    "        print(snnl.summed_masked_pick_probability)\n",
    "    print(snnl.summed_masked_pick_probability.sum(0))\n",
    "    print(snnl.summed_masked_pick_probability.min(), snnl.summed_masked_pick_probability.argmin())\n",
    "    \n",
    "    print('-'*80)\n",
    "    print('6 - Log summed masked pick probability')\n",
    "    print('-'*80)\n",
    "    snnl_loss = torch.mean( -torch.log(snnl.stability_epsilon + snnl.summed_masked_pick_probability))\n",
    "    print(snnl_loss)"
   ]
  },
  {
   "cell_type": "markdown",
   "id": "b13792c0-4585-4a33-9c30-92478f6a745c",
   "metadata": {
    "jp-MarkdownHeadingCollapsed": true
   },
   "source": [
    "### V2 Code"
   ]
  },
  {
   "cell_type": "code",
   "execution_count": null,
   "id": "894ced5b-a476-414d-979d-65aae5f0811e",
   "metadata": {
    "execution": {
     "iopub.status.busy": "2024-04-28T20:41:00.216321Z",
     "iopub.status.idle": "2024-04-28T20:41:00.216667Z",
     "shell.execute_reply": "2024-04-28T20:41:00.216548Z",
     "shell.execute_reply.started": "2024-04-28T20:41:00.216536Z"
    }
   },
   "outputs": [],
   "source": [
    "from snnl.losses import SNNLCrossEntropy"
   ]
  },
  {
   "cell_type": "code",
   "execution_count": null,
   "id": "2a6e7d57-6eae-451a-818f-012f5afcbb13",
   "metadata": {
    "execution": {
     "iopub.status.busy": "2024-04-28T20:41:00.217802Z",
     "iopub.status.idle": "2024-04-28T20:41:00.218071Z",
     "shell.execute_reply": "2024-04-28T20:41:00.217952Z",
     "shell.execute_reply.started": "2024-04-28T20:41:00.217940Z"
    }
   },
   "outputs": [],
   "source": [
    "snnlV2device ='cuda:0'\n",
    "snnlV2device ='cpu'\n",
    "snnlV2 = SNNLCrossEntropy(model,\n",
    "                         temperature=snnl.temperature.to('cpu'),\n",
    "                         layer_names=[0,1,2,3,4],\n",
    "                         factor=-10.,\n",
    "                         optimize_temperature=True,\n",
    "                         cos_distance=True)\n",
    "\n",
    "snnlV2"
   ]
  },
  {
   "cell_type": "code",
   "execution_count": null,
   "id": "10066960-6446-4072-b97e-eebaf3597c7f",
   "metadata": {
    "execution": {
     "iopub.status.busy": "2024-04-28T20:41:00.219155Z",
     "iopub.status.idle": "2024-04-28T20:41:00.219458Z",
     "shell.execute_reply": "2024-04-28T20:41:00.219340Z",
     "shell.execute_reply.started": "2024-04-28T20:41:00.219328Z"
    }
   },
   "outputs": [],
   "source": [
    "snnl.temperature\n",
    "snnlV2.temperature"
   ]
  },
  {
   "cell_type": "code",
   "execution_count": null,
   "id": "e5c6182e-4811-48af-b3dd-545f5f835e51",
   "metadata": {
    "execution": {
     "iopub.status.busy": "2024-04-28T20:41:00.220683Z",
     "iopub.status.idle": "2024-04-28T20:41:00.220998Z",
     "shell.execute_reply": "2024-04-28T20:41:00.220869Z",
     "shell.execute_reply.started": "2024-04-28T20:41:00.220856Z"
    }
   },
   "outputs": [],
   "source": [
    "temp = snnl.temperature.to(snnlV2device)\n",
    "temp\n",
    "sample_labels = snnl.sample_labels.to(snnlV2device) \n",
    "# sample_labels"
   ]
  },
  {
   "cell_type": "code",
   "execution_count": null,
   "id": "0c036e01-b545-4f1f-8c95-daedb6284564",
   "metadata": {
    "execution": {
     "iopub.status.busy": "2024-04-28T20:41:00.221998Z",
     "iopub.status.idle": "2024-04-28T20:41:00.222310Z",
     "shell.execute_reply": "2024-04-28T20:41:00.222157Z",
     "shell.execute_reply.started": "2024-04-28T20:41:00.222145Z"
    }
   },
   "outputs": [],
   "source": [
    "for k,v in activations.items():\n",
    "    tmp1 = snnlV2.SNNL(x = v.to(snnlV2device) ,  y = snnl.sample_labels.to(snnlV2device), temp = temp.to(snnlV2device) ) \n",
    "    print(f\"layer {k}  snnlV2 loss: {tmp1}\")\n",
    "# torch.arange(batch_labels.shape[0]).to('cuda:0') // snnl.sample_size"
   ]
  },
  {
   "cell_type": "code",
   "execution_count": null,
   "id": "3a18ee91-e926-4daa-861d-050b5e757178",
   "metadata": {
    "execution": {
     "iopub.status.busy": "2024-04-28T20:41:00.223601Z",
     "iopub.status.idle": "2024-04-28T20:41:00.223893Z",
     "shell.execute_reply": "2024-04-28T20:41:00.223775Z",
     "shell.execute_reply.started": "2024-04-28T20:41:00.223763Z"
    }
   },
   "outputs": [],
   "source": [
    "def snnlV2_fixed_debug( inp_values = None, inp_labels = None , temp = temp):\n",
    "    print('-'*80)\n",
    "    print('1 - pairwise_cos_distance')\n",
    "    print('-'*80)\n",
    "    tmp1 = snnlV2.pairwise_cos_distance(inp_values, inp_values)\n",
    "    print(tmp1.shape)\n",
    "    # print(tmp1)\n",
    "    print(tmp1.sum())\n",
    "    print(tmp1.min(), tmp1.argmin())\n",
    "    \n",
    "    print('-'*80)\n",
    "    print('2 - torch.exp(-(distance_matrix / temp))')\n",
    "    print('-'*80)\n",
    "    tmp2 = torch.exp(-(tmp1 / temp))\n",
    "    print(tmp2.shape)\n",
    "    # print(tmp2)\n",
    "    print(tmp2.sum())\n",
    "    print(tmp2.min(), tmp2.argmin())\n",
    "    \n",
    "    print('-'*80)\n",
    "    print('3 - torch.exp(-(distance_matrix / temp)) - torch.eye(value.shape[0] ')\n",
    "    print('-'*80)\n",
    "    tmp3 = tmp2 - torch.eye(inp_values.shape[0]) \n",
    "    print(tmp3.shape)\n",
    "    # print(tmp3)\n",
    "    print(tmp3.sum())\n",
    "    print(tmp3.min(), tmp3.argmin())\n",
    "    \n",
    "    print('-'*80)\n",
    "    print('4 - PickProbability --- tmp4 / (SNNLCrossEntropy.STABILITY_EPS + tmp4.sum(axis=1).unsqueeze(1))')\n",
    "    print('-'*80) \n",
    "    tmp4 = tmp3 / (SNNLCrossEntropy.STABILITY_EPS + tmp3.sum(axis=1).unsqueeze(1))\n",
    "    tmp4 = torch.clamp(tmp4,0,None)\n",
    "    print(tmp4.shape)\n",
    "    # print(tmp4)\n",
    "    print(tmp4.sum())\n",
    "    print(tmp4.min(), tmp4.argmin())\n",
    "    \n",
    "    print('-'*80)\n",
    "    print('5 - MaskedPickProbability ')\n",
    "    print('-'*80) \n",
    "    tmp5 = tmp4.to('cpu') * snnlV2.same_label_mask(inp_labels, inp_labels )\n",
    "    print(tmp5.shape)\n",
    "    # print(tmp5)\n",
    "    print(tmp5.sum())\n",
    "    print(tmp5.min(), tmp5.argmin())\n",
    "    \n",
    "    print('-'*80)\n",
    "    print('6 -  SummedMaskedPickProbability ')\n",
    "    print('-'*80) \n",
    "    tmp6 = tmp5.sum(axis=1)    \n",
    "    print(tmp6.shape)\n",
    "    # print(tmp6)\n",
    "    print(tmp6.sum(0))\n",
    "    print(tmp6.min(), tmp6.argmin())\n",
    "    \n",
    "    print('-'*80)\n",
    "    print('7 - SummedMaskedPickProbability ')\n",
    "    print('-'*80) \n",
    "    tmp7 =  -torch.log(SNNLCrossEntropy.STABILITY_EPS + tmp6).mean()\n",
    "    print(tmp7.shape)\n",
    "    print(tmp7)\n",
    "    \n",
    "    # summed_masked_pick_prob = SNNLCrossEntropy.masked_pick_probability(x, y, temp, cos_distance).sum(axis=1)\n",
    "    # snnlV2.same_label_mask(sample_labels, sample_labels)"
   ]
  },
  {
   "cell_type": "code",
   "execution_count": null,
   "id": "c0d4a081-01f2-4122-bd02-9acf13276b05",
   "metadata": {
    "execution": {
     "iopub.status.busy": "2024-04-28T20:41:00.225025Z",
     "iopub.status.idle": "2024-04-28T20:41:00.225272Z",
     "shell.execute_reply": "2024-04-28T20:41:00.225156Z",
     "shell.execute_reply.started": "2024-04-28T20:41:00.225145Z"
    }
   },
   "outputs": [],
   "source": [
    "def snnlV2_debug( inp_values = None, inp_labels = None , temp = temp):\n",
    "    print('-'*80)\n",
    "    print('1 - pairwise_cos_distance')\n",
    "    print('-'*80)\n",
    "    tmp1 = snnlV2.pairwise_cos_distance(inp_values, inp_values)\n",
    "    print(tmp1.shape)\n",
    "    # print(tmp1)\n",
    "    print(tmp1.sum())\n",
    "    print(tmp1.min(), tmp1.argmin())\n",
    "    \n",
    "    print('-'*80)\n",
    "    print('2 - torch.exp(-(distance_matrix / temp))')\n",
    "    print('-'*80)\n",
    "    tmp2 = torch.exp(-(tmp1 / temp))\n",
    "    print(tmp2.shape)\n",
    "    # print(tmp2)\n",
    "    print(tmp2.sum())\n",
    "    print(tmp2.min(), tmp2.argmin())\n",
    "    \n",
    "    print('-'*80)\n",
    "    print('3 - torch.exp(-(distance_matrix / temp)) - torch.eye(value.shape[0] ')\n",
    "    print('-'*80)\n",
    "    tmp3 = tmp2 - torch.eye(inp_values.shape[0]) \n",
    "    print(tmp3.shape)\n",
    "    # print(tmp3)\n",
    "    print(tmp3.sum())\n",
    "    print(tmp3.min(), tmp3.argmin())\n",
    "    \n",
    "    print('-'*80)\n",
    "    print('4 - PickProbability --- tmp4 / (SNNLCrossEntropy.STABILITY_EPS + tmp4.sum(axis=1).unsqueeze(1))')\n",
    "    print('-'*80) \n",
    "    tmp4 = tmp3 / (SNNLCrossEntropy.STABILITY_EPS + tmp3.sum(axis=1).unsqueeze(1))\n",
    "    print(tmp4.shape)\n",
    "    # print(tmp4)\n",
    "    print(tmp4.sum())\n",
    "    print(tmp4.min(), tmp4.argmin())\n",
    "    \n",
    "    print('-'*80)\n",
    "    print('5 - MaskedPickProbability ')\n",
    "    print('-'*80) \n",
    "    tmp5 = tmp4.to('cpu') * snnlV2.same_label_mask(inp_labels, inp_labels )\n",
    "    print(tmp5.shape)\n",
    "    # print(tmp5)\n",
    "    print(tmp5.sum())\n",
    "    print(tmp5.min(), tmp5.argmin())\n",
    "    \n",
    "    print('-'*80)\n",
    "    print('6 -  SummedMaskedPickProbability ')\n",
    "    print('-'*80) \n",
    "    tmp6 = tmp5.sum(axis=1)\n",
    "    print(tmp6.shape)\n",
    "    # print(tmp6)\n",
    "    print(tmp6.sum(0))\n",
    "    print(tmp6.min(), tmp6.argmin())\n",
    "    \n",
    "    \n",
    "    print('-'*80)\n",
    "    print('7 - SummedMaskedPickProbability ')\n",
    "    print('-'*80) \n",
    "    tmp7 =  -torch.log(SNNLCrossEntropy.STABILITY_EPS + tmp6).mean()\n",
    "    print(tmp7.shape)\n",
    "    print(tmp7)\n",
    "    \n",
    "    # summed_masked_pick_prob = SNNLCrossEntropy.masked_pick_probability(x, y, temp, cos_distance).sum(axis=1)\n",
    "    # snnlV2.same_label_mask(sample_labels, sample_labels)"
   ]
  },
  {
   "cell_type": "markdown",
   "id": "31f65ced-7a65-4ee9-8c4b-a04c3c503869",
   "metadata": {},
   "source": [
    "### Debug"
   ]
  },
  {
   "cell_type": "code",
   "execution_count": null,
   "id": "2bc8fee1-67d4-40d2-abc7-ad2d36d230ce",
   "metadata": {
    "execution": {
     "iopub.status.busy": "2024-04-28T20:41:00.226422Z",
     "iopub.status.idle": "2024-04-28T20:41:00.226775Z",
     "shell.execute_reply": "2024-04-28T20:41:00.226647Z",
     "shell.execute_reply.started": "2024-04-28T20:41:00.226634Z"
    }
   },
   "outputs": [],
   "source": [
    "layer_id = 0"
   ]
  },
  {
   "cell_type": "code",
   "execution_count": null,
   "id": "287e2406-db2e-400e-88b6-19d2cb69657d",
   "metadata": {
    "execution": {
     "iopub.status.busy": "2024-04-28T20:41:00.227964Z",
     "iopub.status.idle": "2024-04-28T20:41:00.228232Z",
     "shell.execute_reply": "2024-04-28T20:41:00.228111Z",
     "shell.execute_reply.started": "2024-04-28T20:41:00.228099Z"
    }
   },
   "outputs": [],
   "source": [
    "snnlV1_debug(inp_values = activations[layer_id], inp_labels = batch_labels, verbose = True)"
   ]
  },
  {
   "cell_type": "code",
   "execution_count": null,
   "id": "866ac5e3-1794-4189-814f-e1b07c6b4dc4",
   "metadata": {
    "execution": {
     "iopub.status.busy": "2024-04-28T20:41:00.229376Z",
     "iopub.status.idle": "2024-04-28T20:41:00.229673Z",
     "shell.execute_reply": "2024-04-28T20:41:00.229531Z",
     "shell.execute_reply.started": "2024-04-28T20:41:00.229519Z"
    }
   },
   "outputs": [],
   "source": [
    "snnlV1_fixed_debug(inp_values = activations[layer_id], inp_labels = batch_labels)"
   ]
  },
  {
   "cell_type": "code",
   "execution_count": null,
   "id": "2a18a087-1c85-4c7d-a53e-2a6ee6aabcac",
   "metadata": {
    "execution": {
     "iopub.status.busy": "2024-04-28T20:41:00.230701Z",
     "iopub.status.idle": "2024-04-28T20:41:00.231019Z",
     "shell.execute_reply": "2024-04-28T20:41:00.230884Z",
     "shell.execute_reply.started": "2024-04-28T20:41:00.230871Z"
    }
   },
   "outputs": [],
   "source": [
    "snnlV2_debug( inp_values = activations[layer_id].to('cpu'), inp_labels = sample_labels.to('cpu'), temp = temp)"
   ]
  },
  {
   "cell_type": "code",
   "execution_count": null,
   "id": "fd0ecc7c-d23b-4c25-8bea-fc40d4e59b57",
   "metadata": {
    "execution": {
     "iopub.status.busy": "2024-04-28T20:41:00.231954Z",
     "iopub.status.idle": "2024-04-28T20:41:00.232248Z",
     "shell.execute_reply": "2024-04-28T20:41:00.232109Z",
     "shell.execute_reply.started": "2024-04-28T20:41:00.232097Z"
    }
   },
   "outputs": [],
   "source": [
    "snnlV2_fixed_debug( inp_values = activations[layer_id].to('cpu'), inp_labels = sample_labels.to('cpu'), temp = temp)"
   ]
  },
  {
   "cell_type": "code",
   "execution_count": null,
   "id": "1d948f9f-13de-48a9-8fe1-650857b1951b",
   "metadata": {},
   "outputs": [],
   "source": []
  },
  {
   "cell_type": "code",
   "execution_count": null,
   "id": "d0022e2b-70fa-47ee-85c1-8d9a1ba4cbde",
   "metadata": {
    "execution": {
     "iopub.status.busy": "2024-04-28T20:41:00.233471Z",
     "iopub.status.idle": "2024-04-28T20:41:00.233818Z",
     "shell.execute_reply": "2024-04-28T20:41:00.233682Z",
     "shell.execute_reply.started": "2024-04-28T20:41:00.233669Z"
    }
   },
   "outputs": [],
   "source": [
    "print('\\n'+'-'*80)\n",
    "print('1 - pairwise_cos_distance')\n",
    "print('-'*80)\n",
    "tmp1 = snnlV2.pairwise_cos_distance(value, value)\n",
    "# tmp1 = torch.clamp(tmp1,0,None)\n",
    "tmp1.shape\n",
    "tmp1\n",
    "tmp1.sum()\n",
    "tmp1.min(), tmp1.argmin()\n",
    "\n",
    "print('\\n'+'-'*80)\n",
    "print('2 - torch.exp(-(distance_matrix / temp))')\n",
    "print('-'*80)\n",
    "tmp2 = torch.exp(-(tmp1 / temp))\n",
    "# tmp2 = torch.clamp(tmp2,0,None)\n",
    "tmp2.shape\n",
    "tmp2\n",
    "tmp2.sum()\n",
    "tmp2.min(), tmp2.argmin()\n",
    "\n",
    "print('\\n'+'-'*80)\n",
    "print('3 - torch.exp(-(distance_matrix / temp)) - torch.eye(value.shape[0] ')\n",
    "print('-'*80)\n",
    "tmp3 = tmp2 - torch.eye(value.shape[0]).to('cuda')\n",
    "tmp3 = torch.clamp(tmp3,0,None)\n",
    "tmp3.shape\n",
    "tmp3\n",
    "tmp3.sum()\n",
    "tmp3.min(), tmp3.argmin()\n",
    "\n",
    "print('\\n'+'-'*80)\n",
    "print('4 - PickProbability --- tmp4 / (SNNLCrossEntropy.STABILITY_EPS + tmp4.sum(axis=1).unsqueeze(1))')\n",
    "print('-'*80) \n",
    "tmp4 = tmp3 / (SNNLCrossEntropy.STABILITY_EPS + tmp3.sum(axis=1).unsqueeze(1))\n",
    "tmp4.shape\n",
    "# tmp4[:10,:10]\n",
    "tmp4\n",
    "tmp4.sum()\n",
    "tmp4.min(), tmp4.argmin()\n",
    "\n",
    "print('\\n'+'-'*80)\n",
    "print('5 - MaskedPickProbability ')\n",
    "print('-'*80) \n",
    "tmp5 = tmp4.to('cpu') * snnlV2.same_label_mask(sample_labels, sample_labels )\n",
    "tmp5.shape\n",
    "tmp5\n",
    "tmp5.sum()\n",
    "tmp5.min(), tmp5.argmin()\n",
    "\n",
    "print('\\n'+'-'*80)\n",
    "print('6 -  SummedMaskedPickProbability ')\n",
    "print('-'*80) \n",
    "tmp6 = tmp5.sum(axis=1)\n",
    "tmp6.shape\n",
    "tmp6\n",
    "tmp6.sum(0)\n",
    "tmp6.min(), tmp6.argmin()\n",
    "\n",
    "\n",
    "print('\\n'+'-'*80)\n",
    "print('7 - SummedMaskedPickProbability ')\n",
    "print('-'*80) \n",
    "tmp7 =  -torch.log(SNNLCrossEntropy.STABILITY_EPS + tmp6).mean()\n",
    "tmp7.shape\n",
    "tmp7\n",
    "\n",
    "# summed_masked_pick_prob = SNNLCrossEntropy.masked_pick_probability(x, y, temp, cos_distance).sum(axis=1)\n",
    "# snnlV2.same_label_mask(sample_labels, sample_labels)"
   ]
  },
  {
   "cell_type": "markdown",
   "id": "6a4c6d52-8be3-4480-9406-c3ad08546cbd",
   "metadata": {},
   "source": [
    " #### Print values used in snnl loss"
   ]
  },
  {
   "cell_type": "code",
   "execution_count": null,
   "id": "6902d042-5784-4ed6-a702-6ece9e389de0",
   "metadata": {
    "execution": {
     "iopub.status.busy": "2024-04-28T20:41:00.235014Z",
     "iopub.status.idle": "2024-04-28T20:41:00.235259Z",
     "shell.execute_reply": "2024-04-28T20:41:00.235145Z",
     "shell.execute_reply.started": "2024-04-28T20:41:00.235134Z"
    }
   },
   "outputs": [],
   "source": [
    "# outputs.shape\n",
    "# outputs[0].data\n",
    "# outputs.argmax(1)\n",
    "batch_labels\n",
    "\n",
    "# batch_labels[1]\n",
    "# train_accuracy"
   ]
  },
  {
   "cell_type": "code",
   "execution_count": null,
   "id": "be601564-e342-4e36-b98e-cb4b84fdd3e5",
   "metadata": {
    "execution": {
     "iopub.status.busy": "2024-04-28T20:41:00.236413Z",
     "iopub.status.idle": "2024-04-28T20:41:00.236677Z",
     "shell.execute_reply": "2024-04-28T20:41:00.236543Z",
     "shell.execute_reply.started": "2024-04-28T20:41:00.236531Z"
    }
   },
   "outputs": [],
   "source": [
    "# torch.set_printoptions(linewidth=180)\n",
    "\n",
    "# model.snnl_criterion.distance_matrix[:10,:10]\n",
    "\n",
    "# model.snnl_criterion.distance_matrix[:10,:10]\n",
    "\n",
    "# model.snnl_criterion.pairwise_distance_matrix[:10,:10]\n",
    "\n",
    "# model.snnl_criterion.pick_probability[:10,:10]\n",
    "\n",
    "# model.snnl_criterion.masking_matrix[:10,:10]\n",
    "\n",
    "# model.snnl_criterion.masked_pick_probability[:10,:10]\n",
    "\n",
    "# model.snnl_criterion.summed_masked_pick_probability[:10]\n",
    "\n",
    "# tmp1 = torch.eq(model.snnl_criterion.sample_labels, model.snnl_criterion.sample_labels.unsqueeze(1)).float()\n",
    "# tmp1.shape\n",
    "# tmp1[:12,:12]"
   ]
  },
  {
   "cell_type": "code",
   "execution_count": null,
   "id": "c80a17e9-06b2-4f44-8d57-4861900feb1b",
   "metadata": {
    "execution": {
     "iopub.status.busy": "2024-04-28T20:41:00.237632Z",
     "iopub.status.idle": "2024-04-28T20:41:00.238103Z",
     "shell.execute_reply": "2024-04-28T20:41:00.237977Z",
     "shell.execute_reply.started": "2024-04-28T20:41:00.237964Z"
    }
   },
   "outputs": [],
   "source": [
    "# (outputs.argmax(1) == batch_labels).sum().item()\n",
    "# len(batch_labels)\n",
    "# len(data_loader)\n",
    "\n",
    "# activations = dict()\n",
    "# layers = model.layers\n",
    "# for index, layer in enumerate(layers):\n",
    "#     if index == 0:\n",
    "#         activations[index] = layer(batch_features)\n",
    "#     else:\n",
    "#         activations[index] = layer(activations[index - 1])\n",
    "# for i in activations:\n",
    "#     print(activations[i].shape)"
   ]
  },
  {
   "cell_type": "code",
   "execution_count": null,
   "id": "db57c906-31f5-4f9c-af5d-7e6d64565593",
   "metadata": {
    "execution": {
     "iopub.status.busy": "2024-04-28T20:41:00.238995Z",
     "iopub.status.idle": "2024-04-28T20:41:00.239271Z",
     "shell.execute_reply": "2024-04-28T20:41:00.239134Z",
     "shell.execute_reply.started": "2024-04-28T20:41:00.239122Z"
    }
   },
   "outputs": [],
   "source": [
    "# len_data_loader = batch_count -1\n",
    "epoch_loss /= len_data_loader\n",
    "\n",
    "if model.name in [\"DNN\", \"CNN\"]:\n",
    "    epoch_accuracy /= len_data_loader ## len(data_loader)\n",
    "\n",
    "if model.use_snnl:\n",
    "    epoch_snn_loss = epoch_snn_loss * model.snnl_criterion.factor / len_data_loader ## len(data_loader)\n",
    "    epoch_primary_loss /=  len_data_loader  ##  len(data_loader)\n",
    "    \n",
    "    if model.name == \"DNN\" or model.name == \"CNN\":\n",
    "        print(f\" epoch_loss: {epoch_loss},  epoch_snn_loss: {epoch_snn_loss}, epoch_primaey_loss: {epoch_primary_loss}, accuracy: {epoch_accuracy} \")\n",
    "        a,b = (epoch_loss, epoch_snn_loss, epoch_primary_loss), epoch_accuracy\n",
    "    else:\n",
    "        print(f\" epoch_loss: {epoch_loss},  epoch_snn_loss: {epoch_snn_loss}, epoch_primary_loss: {epoch_primary_loss} \")\n",
    "        a =  (epoch_loss, epoch_snn_loss, epoch_primary_loss)\n",
    "else:\n",
    "    if model.name == \"DNN\" or model.name == \"CNN\":\n",
    "        print(f\" epoch_loss: {epoch_loss}, accuracy: {epoch_accuracy} \")\n",
    "        a , b = epoch_loss, epoch_accuracy\n",
    "    else:\n",
    "        print(f\" epoch_loss: {epoch_loss},\")\n",
    "        a =  epoch_loss"
   ]
  }
 ],
 "metadata": {
  "kernelspec": {
   "display_name": "Python [conda env:ptsnnl]",
   "language": "python",
   "name": "conda-env-ptsnnl-py"
  },
  "language_info": {
   "codemirror_mode": {
    "name": "ipython",
    "version": 3
   },
   "file_extension": ".py",
   "mimetype": "text/x-python",
   "name": "python",
   "nbconvert_exporter": "python",
   "pygments_lexer": "ipython3",
   "version": "3.11.0"
  },
  "toc": {
   "base_numbering": 1,
   "nav_menu": {},
   "number_sections": true,
   "sideBar": true,
   "skip_h1_title": false,
   "title_cell": "Table of Contents",
   "title_sidebar": "Contents",
   "toc_cell": false,
   "toc_position": {},
   "toc_section_display": true,
   "toc_window_display": false
  }
 },
 "nbformat": 4,
 "nbformat_minor": 5
}
