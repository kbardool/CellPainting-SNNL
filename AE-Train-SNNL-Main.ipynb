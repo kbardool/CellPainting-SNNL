{
 "cells": [
  {
   "cell_type": "markdown",
   "id": "01e25dfa-859b-40a5-9bd7-e23d6e0a0557",
   "metadata": {},
   "source": [
    "  # Autoencoder - SNNL Dev"
   ]
  },
  {
   "cell_type": "markdown",
   "id": "dc83491e-628a-4bc0-806c-5d41b997dd98",
   "metadata": {},
   "source": [
    "# Setup"
   ]
  },
  {
   "cell_type": "code",
   "execution_count": 1,
   "id": "11ad0ae2",
   "metadata": {
    "ExecuteTime": {
     "end_time": "2023-04-12T10:29:15.566596Z",
     "start_time": "2023-04-12T10:29:15.550232Z"
    },
    "execution": {
     "iopub.execute_input": "2024-09-06T15:44:53.749118Z",
     "iopub.status.busy": "2024-09-06T15:44:53.748536Z",
     "iopub.status.idle": "2024-09-06T15:44:53.772686Z",
     "shell.execute_reply": "2024-09-06T15:44:53.772049Z",
     "shell.execute_reply.started": "2024-09-06T15:44:53.749063Z"
    }
   },
   "outputs": [
    {
     "data": {
      "text/html": [
       "<style>.container { width:98% !important; }</style>"
      ],
      "text/plain": [
       "<IPython.core.display.HTML object>"
      ]
     },
     "metadata": {},
     "output_type": "display_data"
    }
   ],
   "source": [
    "# %pwd\n",
    "# %cd ~/WSL-shared/Cellpainting/pt-snnl/\n",
    "from IPython.display import display, HTML\n",
    "display(HTML(\"<style>.container { width:98% !important; }</style>\"))\n",
    "%load_ext autoreload  \n",
    "%autoreload 2\n",
    "from IPython.core.interactiveshell import InteractiveShell\n",
    "InteractiveShell.ast_node_interactivity = \"all\""
   ]
  },
  {
   "cell_type": "code",
   "execution_count": 2,
   "id": "651de463-2e37-42ed-808d-2f16dff6b3d5",
   "metadata": {
    "ExecuteTime": {
     "end_time": "2023-04-12T10:29:16.111588Z",
     "start_time": "2023-04-12T10:29:15.764305Z"
    },
    "execution": {
     "iopub.execute_input": "2024-09-06T15:44:54.150666Z",
     "iopub.status.busy": "2024-09-06T15:44:54.150114Z",
     "iopub.status.idle": "2024-09-06T15:44:57.575388Z",
     "shell.execute_reply": "2024-09-06T15:44:57.574602Z",
     "shell.execute_reply.started": "2024-09-06T15:44:54.150622Z"
    }
   },
   "outputs": [
    {
     "name": "stdout",
     "output_type": "stream",
     "text": [
      "insert ./src\n",
      "insert ../..\n",
      "['../..', './src', '/home/kevin/miniforge3/envs/ptsnnl/lib/python311.zip', '/home/kevin/miniforge3/envs/ptsnnl/lib/python3.11', '/home/kevin/miniforge3/envs/ptsnnl/lib/python3.11/lib-dynload', '', '/home/kevin/miniforge3/envs/ptsnnl/lib/python3.11/site-packages', '/home/kevin/miniforge3/envs/ptsnnl/lib/python3.11/site-packages/cytominer_eval-0.1-py3.11.egg']\n"
     ]
    },
    {
     "data": {
      "text/plain": [
       "4"
      ]
     },
     "execution_count": 2,
     "metadata": {},
     "output_type": "execute_result"
    }
   ],
   "source": [
    "import os\n",
    "import sys\n",
    "import csv\n",
    "import time\n",
    "import types\n",
    "import copy\n",
    "import pprint\n",
    "import logging\n",
    "from datetime import datetime\n",
    "for p in ['./src','../..']:\n",
    "    if p not in sys.path:\n",
    "        print(f\"insert {p}\")\n",
    "        sys.path.insert(0, p)\n",
    "print(sys.path)\n",
    "from typing import Dict, List, Tuple\n",
    "\n",
    "\n",
    "from matplotlib import pyplot as plt\n",
    "import numpy as np\n",
    "import pandas as pd\n",
    "import scipy\n",
    "from scipy.sparse import csr_matrix\n",
    "import torch\n",
    "from tqdm import tqdm\n",
    "import torch.nn.functional as F\n",
    "from torchinfo import summary\n",
    "import wandb\n",
    "\n",
    "pp = pprint.PrettyPrinter(indent=4)\n",
    "pd.options.display.width = 132\n",
    "torch.set_printoptions(precision=None, threshold=None, edgeitems=None, linewidth=150, profile=None, sci_mode=None)\n",
    "np.set_printoptions(edgeitems=3, infstr='inf', linewidth=150, nanstr='nan')\n",
    "\n",
    "os.environ[\"WANDB_NOTEBOOK_NAME\"] = \"AE-SNNL-MAIN.ipynb\"\n",
    "# os.environ[\"CUDA_LAUNCH_BLOCKING\"] = \"1\"\n",
    "# os.environ[\"CUDA_VISIBLE_DEVICES\"] = \"2\"\n",
    "torch.set_num_threads(4)  ## <--- limit to ~ 2 CPUs\n",
    "torch.get_num_threads()"
   ]
  },
  {
   "cell_type": "code",
   "execution_count": 3,
   "id": "61e84582-bc2f-4bdd-8410-33f267519657",
   "metadata": {
    "ExecuteTime": {
     "end_time": "2023-04-12T10:29:16.111588Z",
     "start_time": "2023-04-12T10:29:15.764305Z"
    },
    "execution": {
     "iopub.execute_input": "2024-09-06T15:44:57.577084Z",
     "iopub.status.busy": "2024-09-06T15:44:57.576832Z",
     "iopub.status.idle": "2024-09-06T15:45:00.712734Z",
     "shell.execute_reply": "2024-09-06T15:45:00.711599Z",
     "shell.execute_reply.started": "2024-09-06T15:44:57.577062Z"
    },
    "scrolled": true
   },
   "outputs": [],
   "source": [
    "from KevinsRoutines.utils.utils_wandb import init_wandb, wandb_log_metrics,wandb_watch\n",
    "from KevinsRoutines.utils.utils_general import list_namespace, print_heading, print_underline\n",
    "\n",
    "import snnl.utils as utils\n",
    "from snnl.utils import parse_args, load_configuration, set_global_seed, get_device, set_device\n",
    "from snnl.utils import plot_model_parms, plot_train_history, plot_regression_metrics\n",
    "from snnl.utils import display_model_summary, display_model_hyperparameters, display_model_gradients, display_model_parameters\n",
    "from snnl.utils import display_epoch_metrics, display_cellpainting_batch, display_model_state_dict\n",
    "from snnl.utils import define_autoencoder_model, init_resume_training"
   ]
  },
  {
   "cell_type": "code",
   "execution_count": 4,
   "id": "5e43c4ff-f371-4f9d-8785-1faeebe2330b",
   "metadata": {
    "ExecuteTime": {
     "end_time": "2023-04-12T10:29:16.111588Z",
     "start_time": "2023-04-12T10:29:15.764305Z"
    },
    "execution": {
     "iopub.execute_input": "2024-09-06T15:45:00.714949Z",
     "iopub.status.busy": "2024-09-06T15:45:00.714369Z",
     "iopub.status.idle": "2024-09-06T15:45:00.763551Z",
     "shell.execute_reply": "2024-09-06T15:45:00.762980Z",
     "shell.execute_reply.started": "2024-09-06T15:45:00.714926Z"
    },
    "scrolled": true
   },
   "outputs": [
    {
     "name": "stderr",
     "output_type": "stream",
     "text": [
      "2024-09-06 17:45:00,757 - __main__ - INFO: -  Excution started : 2024_09_06_17:45:00 \n",
      "2024-09-06 17:45:00,758 - __main__ - INFO: -  Pytorch version  : 2.2.2  \t\t Number of threads: 4\n",
      "2024-09-06 17:45:00,759 - __main__ - INFO: -  Scipy version    : 1.12.0  \t\t Numpy version : 1.26.4\n",
      "2024-09-06 17:45:00,760 - __main__ - INFO: -  WandB version    : 0.17.4  \t\t Pandas version: 2.2.1  \n"
     ]
    }
   ],
   "source": [
    "timestamp = datetime.now().strftime('%Y_%m_%d_%H:%M:%S')\n",
    "logger = logging.getLogger(__name__) \n",
    "logLevel = os.environ.get('LOG_LEVEL', 'INFO').upper()\n",
    "FORMAT = '%(asctime)s - %(name)s - %(levelname)s: - %(message)s'\n",
    "logging.basicConfig(level=\"INFO\", format= FORMAT)\n",
    "\n",
    "logger.info(f\" Excution started : {timestamp} \")\n",
    "logger.info(f\" Pytorch version  : {torch.__version__}  \\t\\t Number of threads: {torch.get_num_threads()}\")\n",
    "logger.info(f\" Scipy version    : {scipy.__version__}  \\t\\t Numpy version : {np.__version__}\")\n",
    "logger.info(f\" WandB version    : {wandb.__version__}  \\t\\t Pandas version: {pd.__version__}  \")\n",
    "# logger.info(f\" Search path      : {sys.path}\")"
   ]
  },
  {
   "cell_type": "markdown",
   "id": "44ea8eff-3a7f-41f0-abd3-2ac4d6c33cd9",
   "metadata": {},
   "source": [
    "### main(args)"
   ]
  },
  {
   "cell_type": "code",
   "execution_count": 5,
   "id": "cb592ef6-ef85-4773-a042-69bd43ff89b7",
   "metadata": {
    "execution": {
     "iopub.execute_input": "2024-09-06T15:45:00.764786Z",
     "iopub.status.busy": "2024-09-06T15:45:00.764564Z",
     "iopub.status.idle": "2024-09-06T15:45:00.857292Z",
     "shell.execute_reply": "2024-09-06T15:45:00.856122Z",
     "shell.execute_reply.started": "2024-09-06T15:45:00.764765Z"
    }
   },
   "outputs": [],
   "source": [
    "GPU_ID = 0\n",
    "LATENT_DIM    = 150\n",
    "HIDDEN_1      = 512\n",
    "EPOCHS        = 600\n",
    "COMPOUNDS_PER_BATCH = 200\n",
    "LEARNING_RATE = 1.00e-04\n",
    "TEMP          = 1.00\n",
    "TEMP_LR       = 0.00   ##1.0e-05\n",
    "ADAM_WEIGHT_DECAY = 0.001\n",
    "SNNL_FACTOR   = 3.0\n",
    "# LOSS_FACTOR   = 134.0\n",
    "# CHECKPT       = f\"AE_snnl_dcpb{COMPOUNDS_PER_BATCH}_{LATENT_DIM}Ltnt_{HIDDEN_1}{HIDDEN_2}_{DATE}_LAST_ep_{LOAD_EPOCH:03d}.pt\"\n",
    "# CHECKPT       = \"AE_snnl_dcpb200_150Ltnt_512_20240709_2235_LAST_ep_700.pt\"\n",
    "# RUN_ID        = \"jzt6ecjz\"\n",
    "# print(CHECKPT)"
   ]
  },
  {
   "cell_type": "code",
   "execution_count": 6,
   "id": "c80ed726-59ba-4038-9d28-f12a4f97d194",
   "metadata": {
    "execution": {
     "iopub.execute_input": "2024-09-06T15:45:07.380467Z",
     "iopub.status.busy": "2024-09-06T15:45:07.379883Z",
     "iopub.status.idle": "2024-09-06T15:45:07.458905Z",
     "shell.execute_reply": "2024-09-06T15:45:07.457841Z",
     "shell.execute_reply.started": "2024-09-06T15:45:07.380422Z"
    }
   },
   "outputs": [
    {
     "data": {
      "text/plain": [
       "Namespace(configuration='./hyperparameters/ae_snglopt_150_512_cpb.yaml', ckpt=None, cpb=200, exp_title=None, epochs=600, gpu_id=0, learning_rate=0.0001, exp_id=None, runmode='snnl', random_seed=4321, use_prim_optimizer=True, use_temp_optimizer=False, use_annealing=True, anneal_patience=30, use_single_loss=True, temperature=1.0, adam_weight_decay=0.001, loss_factor=None, snnl_factor=3.0, temperatureLR=0.0, WANDB_ACTIVE=True)"
      ]
     },
     "execution_count": 6,
     "metadata": {},
     "output_type": "execute_result"
    },
    {
     "name": "stderr",
     "output_type": "stream",
     "text": [
      "2024-09-06 17:45:07,438 - snnl.utils.utils_ptsnnl - INFO: -  command line param configuration             : [./hyperparameters/ae_snglopt_150_512_cpb.yaml]\n",
      "2024-09-06 17:45:07,439 - snnl.utils.utils_ptsnnl - INFO: -  command line param ckpt                      : [None]\n",
      "2024-09-06 17:45:07,440 - snnl.utils.utils_ptsnnl - INFO: -  command line param cpb                       : [200]\n",
      "2024-09-06 17:45:07,440 - snnl.utils.utils_ptsnnl - INFO: -  command line param exp_title                 : [None]\n",
      "2024-09-06 17:45:07,441 - snnl.utils.utils_ptsnnl - INFO: -  command line param epochs                    : [600]\n",
      "2024-09-06 17:45:07,442 - snnl.utils.utils_ptsnnl - INFO: -  command line param gpu_id                    : [0]\n",
      "2024-09-06 17:45:07,442 - snnl.utils.utils_ptsnnl - INFO: -  command line param learning_rate             : [0.0001]\n",
      "2024-09-06 17:45:07,443 - snnl.utils.utils_ptsnnl - INFO: -  command line param exp_id                    : [None]\n",
      "2024-09-06 17:45:07,444 - snnl.utils.utils_ptsnnl - INFO: -  command line param runmode                   : [snnl]\n",
      "2024-09-06 17:45:07,444 - snnl.utils.utils_ptsnnl - INFO: -  command line param random_seed               : [4321]\n",
      "2024-09-06 17:45:07,445 - snnl.utils.utils_ptsnnl - INFO: -  command line param use_prim_optimizer        : [True]\n",
      "2024-09-06 17:45:07,446 - snnl.utils.utils_ptsnnl - INFO: -  command line param use_temp_optimizer        : [False]\n",
      "2024-09-06 17:45:07,446 - snnl.utils.utils_ptsnnl - INFO: -  command line param use_annealing             : [True]\n",
      "2024-09-06 17:45:07,447 - snnl.utils.utils_ptsnnl - INFO: -  command line param anneal_patience           : [30]\n",
      "2024-09-06 17:45:07,448 - snnl.utils.utils_ptsnnl - INFO: -  command line param use_single_loss           : [True]\n",
      "2024-09-06 17:45:07,448 - snnl.utils.utils_ptsnnl - INFO: -  command line param temperature               : [1.0]\n",
      "2024-09-06 17:45:07,449 - snnl.utils.utils_ptsnnl - INFO: -  command line param adam_weight_decay         : [0.001]\n",
      "2024-09-06 17:45:07,449 - snnl.utils.utils_ptsnnl - INFO: -  command line param loss_factor               : [None]\n",
      "2024-09-06 17:45:07,450 - snnl.utils.utils_ptsnnl - INFO: -  command line param snnl_factor               : [3.0]\n",
      "2024-09-06 17:45:07,450 - snnl.utils.utils_ptsnnl - INFO: -  command line param temperatureLR             : [0.0]\n",
      "2024-09-06 17:45:07,451 - snnl.utils.utils_ptsnnl - INFO: -  command line param WANDB_ACTIVE              : [True]\n",
      "2024-09-06 17:45:07,451 - snnl.utils.utils_ptsnnl - INFO: -  command line param exp_title                 : [dcpb200_150Ltnt_512]\n"
     ]
    }
   ],
   "source": [
    "# if __name__ == \"__main__\":\n",
    "cli_args = f\" --runmode             snnl \"\\\n",
    "            f\" --configuration      ./hyperparameters/ae_snglopt_150_512_cpb.yaml\" \\\n",
    "            f\" --epochs             {EPOCHS} \" \\\n",
    "            f\" --single_loss        \"\\\n",
    "            f\" --prim_opt           \"\\\n",
    "            f\" --temp_annealing     \"\\\n",
    "            f\" --anneal_patience    30\"\\\n",
    "            f\" --adam_wd            {ADAM_WEIGHT_DECAY}\"\\\n",
    "            f\" --lr                 {LEARNING_RATE} \"\\\n",
    "            f\" --temp               {TEMP} \"\\\n",
    "            f\" --snnl_factor        {SNNL_FACTOR}\"\\\n",
    "            f\" --temp_lr            {TEMP_LR}\"\\\n",
    "            f\" --cpb                {COMPOUNDS_PER_BATCH}\"\\\n",
    "            f\" --seed               4321\"\\\n",
    "            f\" --gpu_id             {GPU_ID} \"  \\\n",
    "            f\" --wandb              \"\\\n",
    "            f\" \"\n",
    "\n",
    "# f\" --loss_factor        {LOSS_FACTOR}\"\\\n",
    "# f\" --run_id             {RUN_ID} \"\\\n",
    "# f\" --ckpt               {CHECKPT} \" \\\n",
    "# f\" --temp_opt \" \\\n",
    "# f\" --ckpt               AE_snnl_dcpb200_{LATENT_DIM}Ltnt_{HIDDEN_1}{HIDDEN_2}_{DATE}_LAST_ep_{LOAD_EPOCH:03d}.pt \" \\\n",
    "# f\" --ckpt               AE_baseline_{DATE}_snglOpt-{LATENT_DIM}Ltnt{HIDDEN_1}{HIDDEN_2}_ep_{LOAD_EPOCH}.pt \" \\\n",
    "# f\" --configuration      hyperparameters/ae_sn_{LATENT_DIM:03d}{HIDDEN_1}{HIDDEN_2}_cpb.yaml\" \\\n",
    "# f\" --exp_title           snglOpt-050Ltnt_512_sig \"\n",
    "# f\" --runmode            snnl\" \\\n",
    "cli_args = utils.parse_args(cli_args.split())\n",
    "cli_args\n",
    "\n",
    "args = utils.load_configuration(cli_args)\n",
    "args.ckpt"
   ]
  },
  {
   "cell_type": "code",
   "execution_count": 7,
   "id": "39d0a0c6-a0e1-44e9-9ff7-a31c4a8b0b39",
   "metadata": {
    "execution": {
     "iopub.execute_input": "2024-09-06T15:45:08.572103Z",
     "iopub.status.busy": "2024-09-06T15:45:08.571693Z",
     "iopub.status.idle": "2024-09-06T15:45:08.638297Z",
     "shell.execute_reply": "2024-09-06T15:45:08.637460Z",
     "shell.execute_reply.started": "2024-09-06T15:45:08.572070Z"
    }
   },
   "outputs": [
    {
     "name": "stdout",
     "output_type": "stream",
     "text": [
      "\n",
      "command line parms : \n",
      "-----------------------\n",
      "SGD_momentum.............  0\n",
      "SGD_weight_decay.........  0\n",
      "WANDB_ACTIVE.............  True\n",
      "adam_weight_decay........  0.001\n",
      "anneal_patience..........  30\n",
      "batch_size...............  1\n",
      "\n",
      "    cellpainting_args   (dict)\n",
      "    ----------------------------\n",
      "    batch_size...............  1\n",
      "    chunksize................  None\n",
      "    compounds_per_batch......  200\n",
      "    conversions..............  None\n",
      "    iterator.................  True\n",
      "    sample_size..............  3\n",
      "    test_end.................  33600\n",
      "    test_path................  /home/kevin/WSL-shared/cellpainting/cj-datasets/output_11102023/3_sample_profiles/3sample_profiles_1482_HashOrder_test.csv\n",
      "    test_start...............  30000\n",
      "    train_end................  240000\n",
      "    train_start..............  0\n",
      "    training_path............  /home/kevin/WSL-shared/cellpainting/cj-datasets/output_11102023/3_sample_profiles/3sample_profiles_1482_HashOrder.csv\n",
      "    val_end..................  24000\n",
      "    val_start................  0\n",
      "    validation_path..........  /home/kevin/WSL-shared/cellpainting/cj-datasets/output_11102023/3_sample_profiles/3sample_profiles_1482_HashOrder_test.csv\n",
      "\n",
      "ckpt.....................  None\n",
      "code_units...............  150\n",
      "configuration............  ./hyperparameters/ae_snglopt_150_512_cpb.yaml\n",
      "cpb......................  200\n",
      "dataset..................  cellpainting\n",
      "embedding_layer..........  4\n",
      "epochs...................  600\n",
      "exp_date.................  20240906_1745\n",
      "exp_description..........  AE snnl - DualOpt, 150 dim latent, 512 Midlayer, 200 cpb\n",
      "exp_folder...............  None\n",
      "exp_id...................  None\n",
      "exp_name.................  AE_20240906_1745\n",
      "exp_name_pfx.............  None\n",
      "exp_title................  dcpb200_150Ltnt_512\n",
      "folder_sfx...............  None\n",
      "gpu_id...................  0\n",
      "input_shape..............  1471\n",
      "learning_rate............  0.0001\n",
      "loss_factor..............  1.0\n",
      "\n",
      "    paths   (dict)\n",
      "    ----------------\n",
      "    checkpoint_dir...........  ./ckpt\n",
      "    log_dir..................  ./logs\n",
      "    result_dir...............  ./results\n",
      "\n",
      "project_name.............  CellPainting_Profiles\n",
      "random_seed..............  4321\n",
      "runmode..................  snnl\n",
      "save_every...............  100\n",
      "show_every...............  1\n",
      "snnl_factor..............  3.0\n",
      "temperature..............  1.0\n",
      "temperatureLR............  0.0\n",
      "units....................  [['linear', 1471, 1024], ['relu', 0, 0], ['linear', 1024, 512], ['relu', 0, 0], ['linear', 512, 150], ['linear', 150, 512], ['relu', 0, 0], ['linear', 512, 1024], ['relu', 0, 0], ['linear', 1024, 1471]]\n",
      "use_annealing............  True\n",
      "use_prim_optimizer.......  True\n",
      "use_prim_scheduler.......  True\n",
      "use_single_loss..........  True\n",
      "use_sum..................  False\n",
      "use_temp_optimizer.......  False\n",
      "use_temp_scheduler.......  False\n",
      "\n"
     ]
    }
   ],
   "source": [
    "list_namespace(args)"
   ]
  },
  {
   "cell_type": "code",
   "execution_count": 8,
   "id": "4496f46c-7e02-4f11-b92d-1defdf872940",
   "metadata": {
    "execution": {
     "iopub.execute_input": "2024-09-06T15:45:09.902804Z",
     "iopub.status.busy": "2024-09-06T15:45:09.902377Z",
     "iopub.status.idle": "2024-09-06T15:45:10.797860Z",
     "shell.execute_reply": "2024-09-06T15:45:10.797130Z",
     "shell.execute_reply.started": "2024-09-06T15:45:09.902774Z"
    }
   },
   "outputs": [
    {
     "name": "stdout",
     "output_type": "stream",
     "text": [
      " device: 0   Quadro GV100                   :  free: 33,744,814,080 B   (31.43 GB)    total: 34,069,872,640 B   (31.73 GB)\n",
      " device: 1   Quadro GV100                   :  free: 33,744,814,080 B   (31.43 GB)    total: 34,069,872,640 B   (31.73 GB)\n"
     ]
    },
    {
     "name": "stderr",
     "output_type": "stream",
     "text": [
      "2024-09-06 17:45:10,791 - snnl.utils.utils_ptsnnl - INFO: -  Current CUDA Device is:  cuda:0 - Quadro GV100\n",
      "2024-09-06 17:45:10,792 - snnl.utils.utils_ptsnnl - INFO: -  Switched to: Quadro GV100 - 0\n"
     ]
    },
    {
     "name": "stdout",
     "output_type": "stream",
     "text": [
      " device: 2   NVIDIA TITAN Xp                :  free: 12,193,497,088 B   (11.36 GB)    total: 12,774,539,264 B   (11.90 GB)\n",
      " args.current_device is : cuda:0\n"
     ]
    }
   ],
   "source": [
    "### Set random seed and gpu device\n",
    "set_global_seed(args.random_seed)\n",
    "if args.ckpt is not None:\n",
    "    if os.path.exists(os.path.join('ckpts', args.ckpt)):\n",
    "        logger.info(f\"Checkpoint {args.ckpt} found\")\n",
    "        logger.info(f\"Resuming training using checkpoint: {args.ckpt}\")\n",
    "    else:\n",
    "        logger.error(f\"*** Checkpoint {args.ckpt} not found *** \\n\")\n",
    "        raise ValueError(f\"\\n *** Checkpoint DOESNT EXIST *** \\n\")\n",
    "\n",
    "if args.gpu_id is not None:\n",
    "    _ = get_device(verbose=True)\n",
    "    args.current_device = set_device(args.gpu_id)\n",
    "    print(f\" args.current_device is : {args.current_device}\")"
   ]
  },
  {
   "cell_type": "markdown",
   "id": "e83710b8-4811-4091-aeb7-54e63a480550",
   "metadata": {},
   "source": [
    "  ### WandB Setup"
   ]
  },
  {
   "cell_type": "code",
   "execution_count": 9,
   "id": "2967d0a2-1ef5-4dbb-926a-3991665c9bc4",
   "metadata": {
    "execution": {
     "iopub.execute_input": "2024-09-06T15:45:12.010576Z",
     "iopub.status.busy": "2024-09-06T15:45:12.009972Z",
     "iopub.status.idle": "2024-09-06T15:45:19.241322Z",
     "shell.execute_reply": "2024-09-06T15:45:19.240267Z",
     "shell.execute_reply.started": "2024-09-06T15:45:12.010509Z"
    }
   },
   "outputs": [
    {
     "name": "stderr",
     "output_type": "stream",
     "text": [
      "2024-09-06 17:45:12,057 - snnl.utils.utils_notebook - INFO: - ***** Initialize NEW  W&B Run *****\n"
     ]
    },
    {
     "name": "stdout",
     "output_type": "stream",
     "text": [
      "None, AE_20240906_1745, CellPainting_Profiles\n"
     ]
    },
    {
     "name": "stderr",
     "output_type": "stream",
     "text": [
      "\u001b[34m\u001b[1mwandb\u001b[0m: Currently logged in as: \u001b[33mkbardool\u001b[0m. Use \u001b[1m`wandb login --relogin`\u001b[0m to force relogin\n"
     ]
    },
    {
     "data": {
      "text/html": [
       "wandb version 0.17.9 is available!  To upgrade, please run:\n",
       " $ pip install wandb --upgrade"
      ],
      "text/plain": [
       "<IPython.core.display.HTML object>"
      ]
     },
     "metadata": {},
     "output_type": "display_data"
    },
    {
     "data": {
      "text/html": [
       "Tracking run with wandb version 0.17.4"
      ],
      "text/plain": [
       "<IPython.core.display.HTML object>"
      ]
     },
     "metadata": {},
     "output_type": "display_data"
    },
    {
     "data": {
      "text/html": [
       "Run data is saved locally in <code>/home/kevin/WSL-shared/cellpainting/pt-snnl/wandb/run-20240906_174513-28f3bwe5</code>"
      ],
      "text/plain": [
       "<IPython.core.display.HTML object>"
      ]
     },
     "metadata": {},
     "output_type": "display_data"
    },
    {
     "data": {
      "text/html": [
       "Syncing run <strong><a href='https://wandb.ai/kbardool/CellPainting_Profiles/runs/28f3bwe5' target=\"_blank\">AE_20240906_1745</a></strong> to <a href='https://wandb.ai/kbardool/CellPainting_Profiles' target=\"_blank\">Weights & Biases</a> (<a href='https://wandb.me/run' target=\"_blank\">docs</a>)<br/>"
      ],
      "text/plain": [
       "<IPython.core.display.HTML object>"
      ]
     },
     "metadata": {},
     "output_type": "display_data"
    },
    {
     "data": {
      "text/html": [
       " View project at <a href='https://wandb.ai/kbardool/CellPainting_Profiles' target=\"_blank\">https://wandb.ai/kbardool/CellPainting_Profiles</a>"
      ],
      "text/plain": [
       "<IPython.core.display.HTML object>"
      ]
     },
     "metadata": {},
     "output_type": "display_data"
    },
    {
     "data": {
      "text/html": [
       " View run at <a href='https://wandb.ai/kbardool/CellPainting_Profiles/runs/28f3bwe5' target=\"_blank\">https://wandb.ai/kbardool/CellPainting_Profiles/runs/28f3bwe5</a>"
      ],
      "text/plain": [
       "<IPython.core.display.HTML object>"
      ]
     },
     "metadata": {},
     "output_type": "display_data"
    },
    {
     "name": "stderr",
     "output_type": "stream",
     "text": [
      "2024-09-06 17:45:19,224 - snnl.utils.utils_notebook - INFO: -  Experiment Name  : AE_20240906_1745\n",
      "2024-09-06 17:45:19,226 - snnl.utils.utils_notebook - INFO: -  Experiment Date  : 20240906_1745\n",
      "2024-09-06 17:45:19,228 - snnl.utils.utils_notebook - INFO: - ***** Initialize NEW  W&B Run *****\n",
      "2024-09-06 17:45:19,229 - snnl.utils.utils_notebook - INFO: - WANDB_ACTIVE     : True\n",
      "2024-09-06 17:45:19,230 - snnl.utils.utils_notebook - INFO: - Project Name     : CellPainting_Profiles\n",
      "2024-09-06 17:45:19,231 - snnl.utils.utils_notebook - INFO: - Experiment Id    : 28f3bwe5\n",
      "2024-09-06 17:45:19,233 - snnl.utils.utils_notebook - INFO: - Experiment Name  : AE_20240906_1745\n",
      "2024-09-06 17:45:19,233 - snnl.utils.utils_notebook - INFO: - Experiment Date  : 20240906_1745\n",
      "2024-09-06 17:45:19,234 - snnl.utils.utils_notebook - INFO: - Experiment Title : dcpb200_150Ltnt_512\n",
      "2024-09-06 17:45:19,235 - snnl.utils.utils_notebook - INFO: - Experiment Notes : AE snnl - DualOpt, 150 dim latent, 512 Midlayer, 200 cpb\n"
     ]
    }
   ],
   "source": [
    "wandb_run = utils.setup_wandb(args)"
   ]
  },
  {
   "cell_type": "code",
   "execution_count": 10,
   "id": "1fd0dea3-280e-48d8-ad0c-404c5e79f857",
   "metadata": {
    "execution": {
     "iopub.execute_input": "2024-09-06T15:45:19.243863Z",
     "iopub.status.busy": "2024-09-06T15:45:19.243400Z",
     "iopub.status.idle": "2024-09-06T15:45:19.320608Z",
     "shell.execute_reply": "2024-09-06T15:45:19.319713Z",
     "shell.execute_reply.started": "2024-09-06T15:45:19.243819Z"
    }
   },
   "outputs": [],
   "source": [
    "# if args.WANDB_ACTIVE:\n",
    "#     wandb_run.finish()\n",
    "#     WANDB_ACTIVE = False"
   ]
  },
  {
   "cell_type": "markdown",
   "id": "7e2871b9-ea54-4869-9fa3-5ade2e1416cd",
   "metadata": {},
   "source": [
    "  ### Define dataset and dataloaders"
   ]
  },
  {
   "cell_type": "code",
   "execution_count": 11,
   "id": "d8bf9fa1-cdcd-40e7-8751-25d6357e0d1b",
   "metadata": {
    "execution": {
     "iopub.execute_input": "2024-09-06T15:45:19.322319Z",
     "iopub.status.busy": "2024-09-06T15:45:19.321725Z",
     "iopub.status.idle": "2024-09-06T15:45:19.424640Z",
     "shell.execute_reply": "2024-09-06T15:45:19.423887Z",
     "shell.execute_reply.started": "2024-09-06T15:45:19.322292Z"
    }
   },
   "outputs": [
    {
     "name": "stderr",
     "output_type": "stream",
     "text": [
      "2024-09-06 17:45:19,384 - root - INFO: -  load cellpainting\n",
      "2024-09-06 17:45:19,387 - snnl.utils.dataloader - INFO: -  Building CellPantingDataset for train\n",
      "2024-09-06 17:45:19,388 - snnl.utils.dataloader - INFO: -  filename:  /home/kevin/WSL-shared/cellpainting/cj-datasets/output_11102023/3_sample_profiles/3sample_profiles_1482_HashOrder.csv\n",
      "2024-09-06 17:45:19,389 - snnl.utils.dataloader - INFO: -  type    :  train\n",
      "2024-09-06 17:45:19,390 - snnl.utils.dataloader - INFO: -  start   :  0\n",
      "2024-09-06 17:45:19,391 - snnl.utils.dataloader - INFO: -  end     :  240000\n",
      "2024-09-06 17:45:19,392 - snnl.utils.dataloader - INFO: -  numrows :  240000\n",
      "2024-09-06 17:45:19,393 - snnl.utils.dataloader - INFO: -  names   :  None     usecols :  None\n",
      "2024-09-06 17:45:19,395 - snnl.utils.dataloader - INFO: -  batch_size  :  1\n",
      "2024-09-06 17:45:19,396 - snnl.utils.dataloader - INFO: -  sample_size :  3\n",
      "2024-09-06 17:45:19,396 - snnl.utils.dataloader - INFO: -  compounds_per_batch :  200\n",
      "2024-09-06 17:45:19,397 - snnl.utils.dataloader - INFO: -  chunksize  (rows per minibatch) :  600\n",
      "2024-09-06 17:45:19,398 - snnl.utils.dataloader - INFO: -  Each mini-batch contains 200.0 compounds with 3 samples per compound : total 600 rows\n",
      "2024-09-06 17:45:19,399 - snnl.utils.dataloader - INFO: -  Number of 600 row full size batches per epoch: 400\n",
      "2024-09-06 17:45:19,399 - snnl.utils.dataloader - INFO: -  Rows covered by 400 full size batches (600 rows) per epoch:  240000\n",
      "2024-09-06 17:45:19,400 - snnl.utils.dataloader - INFO: -  Last partial batch contains : 0 rows\n",
      "2024-09-06 17:45:19,401 - snnl.utils.dataloader - INFO: -  \n",
      "2024-09-06 17:45:19,403 - snnl.utils.dataloader - INFO: -  Building CellPantingDataset for val\n",
      "2024-09-06 17:45:19,403 - snnl.utils.dataloader - INFO: -  filename:  /home/kevin/WSL-shared/cellpainting/cj-datasets/output_11102023/3_sample_profiles/3sample_profiles_1482_HashOrder_test.csv\n",
      "2024-09-06 17:45:19,404 - snnl.utils.dataloader - INFO: -  type    :  val\n",
      "2024-09-06 17:45:19,405 - snnl.utils.dataloader - INFO: -  start   :  0\n",
      "2024-09-06 17:45:19,406 - snnl.utils.dataloader - INFO: -  end     :  24000\n",
      "2024-09-06 17:45:19,406 - snnl.utils.dataloader - INFO: -  numrows :  24000\n",
      "2024-09-06 17:45:19,407 - snnl.utils.dataloader - INFO: -  names   :  None     usecols :  None\n",
      "2024-09-06 17:45:19,408 - snnl.utils.dataloader - INFO: -  batch_size  :  1\n",
      "2024-09-06 17:45:19,410 - snnl.utils.dataloader - INFO: -  sample_size :  3\n",
      "2024-09-06 17:45:19,411 - snnl.utils.dataloader - INFO: -  compounds_per_batch :  200\n",
      "2024-09-06 17:45:19,412 - snnl.utils.dataloader - INFO: -  chunksize  (rows per minibatch) :  600\n",
      "2024-09-06 17:45:19,413 - snnl.utils.dataloader - INFO: -  Each mini-batch contains 200.0 compounds with 3 samples per compound : total 600 rows\n",
      "2024-09-06 17:45:19,414 - snnl.utils.dataloader - INFO: -  Number of 600 row full size batches per epoch: 40\n",
      "2024-09-06 17:45:19,414 - snnl.utils.dataloader - INFO: -  Rows covered by 40 full size batches (600 rows) per epoch:  24000\n",
      "2024-09-06 17:45:19,416 - snnl.utils.dataloader - INFO: -  Last partial batch contains : 0 rows\n",
      "2024-09-06 17:45:19,417 - snnl.utils.dataloader - INFO: -  \n"
     ]
    },
    {
     "name": "stdout",
     "output_type": "stream",
     "text": [
      " load cellpainting\n",
      " Dataset size: 240000   rows per batch: 600\n",
      " Dataset size: 24000   rows per batch: 600\n"
     ]
    },
    {
     "data": {
      "text/plain": [
       "(240000, 24000)"
      ]
     },
     "execution_count": 11,
     "metadata": {},
     "output_type": "execute_result"
    }
   ],
   "source": [
    "# args.cellpainting_args\n",
    "\n",
    "#### Load CellPainting Dataset\n",
    "data_loaders = utils.build_dataloaders(args, data = ['train', 'val'])\n",
    "len(data_loaders['train']),len(data_loaders['val'])"
   ]
  },
  {
   "cell_type": "markdown",
   "id": "19b32e21-67d2-45af-a45f-841b6dca43ff",
   "metadata": {},
   "source": [
    "# Define autoencoder model"
   ]
  },
  {
   "cell_type": "markdown",
   "id": "cf383487-ecbf-49da-bb01-5a5f22932278",
   "metadata": {},
   "source": [
    "### Override arguments"
   ]
  },
  {
   "cell_type": "code",
   "execution_count": 12,
   "id": "b8a2f3dc-b7ce-4118-a40a-4b5c67a3dd23",
   "metadata": {
    "execution": {
     "iopub.execute_input": "2024-09-06T15:46:52.012882Z",
     "iopub.status.busy": "2024-09-06T15:46:52.012393Z",
     "iopub.status.idle": "2024-09-06T15:46:52.091927Z",
     "shell.execute_reply": "2024-09-06T15:46:52.091046Z",
     "shell.execute_reply.started": "2024-09-06T15:46:52.012839Z"
    }
   },
   "outputs": [
    {
     "name": "stdout",
     "output_type": "stream",
     "text": [
      "   runmode               : snnl\n",
      "   embedding_layer       : 4\n",
      "   Latent dim            : 150\n",
      "   loss_factor           : 1.0\n",
      "   snnl_factor           : 3.0\n",
      "   temperature           : 1.0\n",
      "   learning_rate         : 0.0001\n",
      "   temperatureLR:        : 0.0\n",
      "   use_annealing:        : True\n",
      "   anneal_patience:      : 30\n",
      "   use Primary Optimizer : True\n",
      "   use Primary Scheduler : True\n"
     ]
    }
   ],
   "source": [
    "# args.temperature   = 1.0\n",
    "# args.loss_factor   = 1.0       ## 1.0e+00\n",
    "# args.learning_rate = 1.0e-03    ## 0.001\n",
    "# args.temperatureLR = 0.0e-04    ## 1e-4\n",
    "print(f\"   runmode               : {args.runmode}\")\n",
    "print(f\"   embedding_layer       : {args.embedding_layer}\")\n",
    "print(f\"   Latent dim            : {args.code_units}\")\n",
    "print(f\"   loss_factor           : {args.loss_factor}\")\n",
    "print(f\"   snnl_factor           : {args.snnl_factor}\")\n",
    "print(f\"   temperature           : {args.temperature}\")\n",
    "print(f\"   learning_rate         : {args.learning_rate}\")\n",
    "print(f\"   temperatureLR:        : {args.temperatureLR}\")\n",
    "print(f\"   use_annealing:        : {args.use_annealing}\")\n",
    "print(f\"   anneal_patience:      : {args.anneal_patience}\")\n",
    "print(f\"   use Primary Optimizer : {args.use_prim_optimizer}\")\n",
    "print(f\"   use Primary Scheduler : {args.use_prim_scheduler}\")\n"
   ]
  },
  {
   "cell_type": "code",
   "execution_count": 13,
   "id": "730975ab-c52f-4268-99d5-e06362cce8d2",
   "metadata": {
    "execution": {
     "iopub.execute_input": "2024-09-06T15:46:55.635174Z",
     "iopub.status.busy": "2024-09-06T15:46:55.634630Z",
     "iopub.status.idle": "2024-09-06T15:46:55.715012Z",
     "shell.execute_reply": "2024-09-06T15:46:55.714179Z",
     "shell.execute_reply.started": "2024-09-06T15:46:55.635135Z"
    }
   },
   "outputs": [
    {
     "name": "stdout",
     "output_type": "stream",
     "text": [
      "\n",
      "command line parms : \n",
      "-----------------------\n",
      "SGD_momentum.............  0\n",
      "SGD_weight_decay.........  0\n",
      "WANDB_ACTIVE.............  True\n",
      "adam_weight_decay........  0.001\n",
      "anneal_patience..........  30\n",
      "batch_size...............  1\n",
      "\n",
      "    cellpainting_args   (dict)\n",
      "    ----------------------------\n",
      "    batch_size...............  1\n",
      "    chunksize................  None\n",
      "    compounds_per_batch......  200\n",
      "    conversions..............  None\n",
      "    iterator.................  True\n",
      "    sample_size..............  3\n",
      "    test_end.................  33600\n",
      "    test_path................  /home/kevin/WSL-shared/cellpainting/cj-datasets/output_11102023/3_sample_profiles/3sample_profiles_1482_HashOrder_test.csv\n",
      "    test_start...............  30000\n",
      "    train_end................  240000\n",
      "    train_start..............  0\n",
      "    training_path............  /home/kevin/WSL-shared/cellpainting/cj-datasets/output_11102023/3_sample_profiles/3sample_profiles_1482_HashOrder.csv\n",
      "    val_end..................  24000\n",
      "    val_start................  0\n",
      "    validation_path..........  /home/kevin/WSL-shared/cellpainting/cj-datasets/output_11102023/3_sample_profiles/3sample_profiles_1482_HashOrder_test.csv\n",
      "\n",
      "ckpt.....................  None\n",
      "code_units...............  150\n",
      "configuration............  ./hyperparameters/ae_snglopt_150_512_cpb.yaml\n",
      "cpb......................  200\n",
      "current_device...........  cuda:0\n",
      "dataset..................  cellpainting\n",
      "embedding_layer..........  4\n",
      "epochs...................  600\n",
      "exp_date.................  20240906_1745\n",
      "exp_description..........  AE snnl - DualOpt, 150 dim latent, 512 Midlayer, 200 cpb\n",
      "exp_folder...............  None\n",
      "exp_id...................  28f3bwe5\n",
      "exp_name.................  AE_20240906_1745\n",
      "exp_name_pfx.............  None\n",
      "exp_title................  dcpb200_150Ltnt_512\n",
      "folder_sfx...............  None\n",
      "gpu_id...................  0\n",
      "input_shape..............  1471\n",
      "learning_rate............  0.0001\n",
      "loss_factor..............  1.0\n",
      "\n",
      "    paths   (dict)\n",
      "    ----------------\n",
      "    checkpoint_dir...........  ./ckpt\n",
      "    log_dir..................  ./logs\n",
      "    result_dir...............  ./results\n",
      "\n",
      "project_name.............  CellPainting_Profiles\n",
      "random_seed..............  4321\n",
      "runmode..................  snnl\n",
      "save_every...............  100\n",
      "show_every...............  1\n",
      "snnl_factor..............  3.0\n",
      "temperature..............  1.0\n",
      "temperatureLR............  0.0\n",
      "units....................  [['linear', 1471, 1024], ['relu', 0, 0], ['linear', 1024, 512], ['relu', 0, 0], ['linear', 512, 150], ['linear', 150, 512], ['relu', 0, 0], ['linear', 512, 1024], ['relu', 0, 0], ['linear', 1024, 1471]]\n",
      "use_annealing............  True\n",
      "use_prim_optimizer.......  True\n",
      "use_prim_scheduler.......  True\n",
      "use_single_loss..........  True\n",
      "use_sum..................  False\n",
      "use_temp_optimizer.......  False\n",
      "use_temp_scheduler.......  False\n",
      "\n"
     ]
    }
   ],
   "source": [
    "list_namespace(args)"
   ]
  },
  {
   "cell_type": "code",
   "execution_count": 14,
   "id": "73170034-8d3c-466c-a6ed-2b9afdf62f5c",
   "metadata": {
    "execution": {
     "iopub.execute_input": "2024-09-06T15:48:23.932415Z",
     "iopub.status.busy": "2024-09-06T15:48:23.932086Z",
     "iopub.status.idle": "2024-09-06T15:48:24.368899Z",
     "shell.execute_reply": "2024-09-06T15:48:24.368029Z",
     "shell.execute_reply.started": "2024-09-06T15:48:23.932392Z"
    },
    "scrolled": true
   },
   "outputs": [
    {
     "data": {
      "text/plain": [
       "'snnl'"
      ]
     },
     "execution_count": 14,
     "metadata": {},
     "output_type": "execute_result"
    },
    {
     "name": "stderr",
     "output_type": "stream",
     "text": [
      "2024-09-06 17:48:23,985 - snnl.utils.utils_notebook - INFO: - Defining model in SNNL mode \n",
      "2024-09-06 17:48:23,991 - snnl.models.autoencoder - INFO: -     layer pair:    0  type:linear           input:   1471  output:   1024    weights: [1024, 1471]   \n",
      "2024-09-06 17:48:24,008 - snnl.models.autoencoder - INFO: -     layer pair:    1  type:relu             input:      0  output:      0    weights: [0, 0]   \n",
      "2024-09-06 17:48:24,009 - snnl.models.autoencoder - INFO: -     layer pair:    2  type:linear           input:   1024  output:    512    weights: [512, 1024]   \n",
      "2024-09-06 17:48:24,016 - snnl.models.autoencoder - INFO: -     layer pair:    3  type:relu             input:      0  output:      0    weights: [0, 0]   \n",
      "2024-09-06 17:48:24,017 - snnl.models.autoencoder - INFO: -     layer pair:    4  type:linear           input:    512  output:    150    weights: [150, 512]   \n",
      "2024-09-06 17:48:24,019 - snnl.models.autoencoder - INFO: -     layer pair:    5  type:linear           input:    150  output:    512    weights: [512, 150]   \n",
      "2024-09-06 17:48:24,021 - snnl.models.autoencoder - INFO: -     layer pair:    6  type:relu             input:      0  output:      0    weights: [0, 0]   \n",
      "2024-09-06 17:48:24,022 - snnl.models.autoencoder - INFO: -     layer pair:    7  type:linear           input:    512  output:   1024    weights: [1024, 512]   \n",
      "2024-09-06 17:48:24,029 - snnl.models.autoencoder - INFO: -     layer pair:    8  type:relu             input:      0  output:      0    weights: [0, 0]   \n",
      "2024-09-06 17:48:24,030 - snnl.models.autoencoder - INFO: -     layer pair:    9  type:linear           input:   1024  output:   1471    weights: [1471, 1024]   \n"
     ]
    },
    {
     "name": "stdout",
     "output_type": "stream",
     "text": [
      " EMBEDDING LAYER: 4\n",
      " Device cuda:0 will be used\n",
      "\n",
      "------------------------------------------------------------\n",
      " Building Base Model from NOTEBOOK\n",
      "------------------------------------------------------------\n",
      "    Model_init()_    -- mode:              latent_code\n",
      "    Model_init()_    -- Unsupervised :     True\n",
      "    Model_init()_    -- Support for unsupervised training  in 'latent_code' mode is True\n",
      "    Model_init()_    -- Criterion:         MSELoss()\n",
      "    Model_init()_    -- use_snnl :         True\n",
      "    Model_init()_    -- temperature :      Parameter containing:\n",
      "tensor([1.])\n",
      "    Model_init()_    -- temperature LR:    0.0\n",
      "\n",
      "------------------------------------------------------------\n",
      " Building Autoencoder from NOTEBOOK\n",
      "------------------------------------------------------------\n",
      "setup_prim_optimizer()\n",
      "    AE init() -- mode               : latent_code\n",
      "    AE init() -- unsupervised       : True\n",
      "    AE init() -- layer_types        : ['linear', 'relu', 'linear', 'relu', 'linear', 'linear', 'relu', 'linear', 'relu', 'linear']\n",
      "    AE init() -- non linearities    : ['relu', 'relu', 'relu', 'relu']\n",
      "    AE init() -- Primary Crtierion  : MSELoss()\n",
      "    AE init() -- monitor_grads_layer: None\n",
      "    AE init() -- Primary optimizer  : True\n",
      "    AE init() -- Primary scheduler  : True\n",
      "    AE init() -- use_snnl           : True\n",
      "    AE init() -- SNNL Crtierion     : SNNLoss()\n",
      "    AE init() -- temperature        : Parameter containing:\n",
      "tensor([1.], device='cuda:0')\n",
      "    AE init() -- temperature LR     : 0.0\n",
      "    AE init() -- Temperature optmzr : False\n",
      "    AE init() -- Temperature schdlr : False\n"
     ]
    }
   ],
   "source": [
    "### Define Model\n",
    "args.runmode\n",
    "model = define_autoencoder_model(args, verbose = True)"
   ]
  },
  {
   "cell_type": "markdown",
   "id": "789809c5-6d84-497a-b345-9f144f37c4b6",
   "metadata": {},
   "source": [
    "## Resume from model checkpoint (if args.ckpt is not None)"
   ]
  },
  {
   "cell_type": "code",
   "execution_count": 15,
   "id": "412b00f3-f312-49ed-888c-350f4948f33c",
   "metadata": {
    "execution": {
     "iopub.execute_input": "2024-09-06T15:48:28.388661Z",
     "iopub.status.busy": "2024-09-06T15:48:28.388288Z",
     "iopub.status.idle": "2024-09-06T15:48:28.472598Z",
     "shell.execute_reply": "2024-09-06T15:48:28.471686Z",
     "shell.execute_reply.started": "2024-09-06T15:48:28.388637Z"
    }
   },
   "outputs": [
    {
     "name": "stderr",
     "output_type": "stream",
     "text": [
      "2024-09-06 17:48:28,463 - root - INFO: -  INITIALIZE TRAINING - Run 600 epochs: epoch 1 to 600 \n"
     ]
    }
   ],
   "source": [
    "args.load_checkpoint = utils.load_checkpoint_v5\n",
    "args.save_checkpoint = utils.save_checkpoint_v5\n",
    "# print(f\" Checkpoint File :  {args.ckpt}\")\n",
    "\n",
    "model = init_resume_training(model, args)\n",
    "\n",
    "if args.WANDB_ACTIVE:\n",
    "    wandb_watch(item = model, criterion=None, log = 'all', log_freq = 1000, log_graph = False)\n",
    "    wandb.config.update(args)"
   ]
  },
  {
   "cell_type": "code",
   "execution_count": 16,
   "id": "8fcc1ce9-acfe-4ca0-b23f-500124427794",
   "metadata": {
    "execution": {
     "iopub.execute_input": "2024-09-06T15:48:32.860632Z",
     "iopub.status.busy": "2024-09-06T15:48:32.860169Z",
     "iopub.status.idle": "2024-09-06T15:48:32.911962Z",
     "shell.execute_reply": "2024-09-06T15:48:32.911135Z",
     "shell.execute_reply.started": "2024-09-06T15:48:32.860599Z"
    }
   },
   "outputs": [],
   "source": [
    "# display_model_state_dict(model, 'test')\n",
    "# display_model_parameters(model, 'title')\n",
    "# display_model_gradients(model, 'test')\n",
    "# display_model_hyperparameters(model)\n",
    "\n",
    "# for k,v in model.__dict__.items():\n",
    "#     if k == 'training_history':\n",
    "#         print(f\" {k:30}  type: {str(type(v)):25s}   values: {v.keys()} \")\n",
    "#     else:\n",
    "#         print(f\" {k:30}  type: {str(type(v)):25s}   values: {v} \")\n",
    "\n",
    "# display_model_hyperparameters(model)\n",
    "\n",
    "# model.optimizers['prim'].state_dict()\n",
    "# model.schedulers['prim'].state_dict()\n",
    "\n",
    "# print(f\" Optimizer ParamGroup[0]   : {model.optimizers['prim'].param_groups[0]}\")\n",
    "# for k,v in model.optimizers.items():\n",
    "#     print(k, v)\n",
    "\n",
    "# for k,v in enumerate(model.optimizers['prim'].param_groups[0]['params']):\n",
    "#     print(f\" {k}, {v.shape}\")\n",
    "\n",
    "# model.display_values('test')\n",
    "# model.display_gradients('test')\n",
    "# model.optimizers['prim'].state_dict()"
   ]
  },
  {
   "cell_type": "markdown",
   "id": "94aeaa82-14c5-465c-ae6e-bb792ba8a973",
   "metadata": {},
   "source": [
    "# Autoencoder Fit "
   ]
  },
  {
   "cell_type": "code",
   "execution_count": 17,
   "id": "20ae20b9-b471-4a4b-80fd-b47b8f2ee25f",
   "metadata": {
    "execution": {
     "iopub.execute_input": "2024-09-06T15:48:40.008662Z",
     "iopub.status.busy": "2024-09-06T15:48:40.008183Z",
     "iopub.status.idle": "2024-09-06T15:48:40.062411Z",
     "shell.execute_reply": "2024-09-06T15:48:40.061505Z",
     "shell.execute_reply.started": "2024-09-06T15:48:40.008622Z"
    }
   },
   "outputs": [
    {
     "data": {
      "text/plain": [
       "(0, 400)"
      ]
     },
     "execution_count": 17,
     "metadata": {},
     "output_type": "execute_result"
    },
    {
     "name": "stdout",
     "output_type": "stream",
     "text": [
      " 2024-09-06 17:48:40  epoch    1 of  400\n"
     ]
    }
   ],
   "source": [
    "# model.starting_epoch = 0\n",
    "model.ending_epoch = 400\n",
    "# model.starting_epoch, model.ending_epoch = 700, 705\n",
    "model.starting_epoch, model.ending_epoch\n",
    "\n",
    "print(f\" {datetime.now().strftime('%Y-%m-%d %H:%M:%S')}  epoch {model.starting_epoch+1:4d} of {model.ending_epoch:4d}\")"
   ]
  },
  {
   "cell_type": "code",
   "execution_count": null,
   "id": "05ac335e-26e4-4c1c-898b-43abeb34f383",
   "metadata": {
    "execution": {
     "iopub.execute_input": "2024-09-06T15:49:18.242040Z",
     "iopub.status.busy": "2024-09-06T15:49:18.241618Z"
    }
   },
   "outputs": [
    {
     "name": "stdout",
     "output_type": "stream",
     "text": [
      " 2024-09-06 17:49:18  Start: epoch    1 of  400\n",
      "                                                                                                                                                                                                              "
     ]
    },
    {
     "name": "stderr",
     "output_type": "stream",
     "text": [
      "2024-09-06 17:52:10,023 - snnl.utils.utils_ptsnnl - INFO: -  Model exported to ckpts/AE_snnl_dcpb200_150Ltnt_512_20240906_1745_BEST.pt - epoch: 1\n"
     ]
    },
    {
     "name": "stdout",
     "output_type": "stream",
     "text": [
      "  time   ep / eps |  Trn_loss   Primary      SNNL  |   temp*         grad    |   R2      BestEp         |  Vld_loss   Primary      SNNL  |   R2       BestEp          |   LR        temp LR    |\n",
      "------------------+--------------------------------+-------------------------+--------------------------+--------------------------------+----------------------------|------------------------|\n",
      "17:52:09  1 /400  |  17.2008     0.8441    16.3567 |   1.000000   0.0000e+00 | -12.5555     1           |  16.5235     0.5711    15.9524 |  -3.3140     1             |  1.000e-04   0.000e+00 |\n",
      "17:55:02  2 /400  |  16.1772     0.5046    15.6726 |   1.000000   0.0000e+00 |  -1.8010     2           |  16.0057     0.4415    15.5642 |  -0.5388     2             |  1.000e-04   0.000e+00 |              \n"
     ]
    },
    {
     "name": "stderr",
     "output_type": "stream",
     "text": [
      "2024-09-06 17:55:02,700 - snnl.utils.utils_ptsnnl - INFO: -  Model exported to ckpts/AE_snnl_dcpb200_150Ltnt_512_20240906_1745_BEST.pt - epoch: 2\n"
     ]
    },
    {
     "name": "stdout",
     "output_type": "stream",
     "text": [
      "17:57:53  3 /400  |  15.8851     0.4171    15.4680 |   1.000000   0.0000e+00 |  -0.2239     3           |  15.8440     0.3863    15.4576 |   0.1213     3             |  1.000e-04   0.000e+00 |              \n"
     ]
    },
    {
     "name": "stderr",
     "output_type": "stream",
     "text": [
      "2024-09-06 17:57:53,897 - snnl.utils.utils_ptsnnl - INFO: -  Model exported to ckpts/AE_snnl_dcpb200_150Ltnt_512_20240906_1745_BEST.pt - epoch: 3\n"
     ]
    },
    {
     "name": "stdout",
     "output_type": "stream",
     "text": [
      "18:00:45  4 /400  |  15.7549     0.3758    15.3790 |   1.000000   0.0000e+00 |   0.2707     4           |  15.7637     0.3588    15.4049 |   0.3820     4             |  1.000e-04   0.000e+00 |              \n"
     ]
    },
    {
     "name": "stderr",
     "output_type": "stream",
     "text": [
      "2024-09-06 18:00:46,410 - snnl.utils.utils_ptsnnl - INFO: -  Model exported to ckpts/AE_snnl_dcpb200_150Ltnt_512_20240906_1745_BEST.pt - epoch: 4\n"
     ]
    },
    {
     "name": "stdout",
     "output_type": "stream",
     "text": [
      "18:03:36  5 /400  |  15.6789     0.3542    15.3248 |   1.000000   0.0000e+00 |   0.4666     5           |  15.7135     0.3426    15.3708 |   0.5029     5             |  1.000e-04   0.000e+00 |              \n"
     ]
    },
    {
     "name": "stderr",
     "output_type": "stream",
     "text": [
      "2024-09-06 18:03:37,354 - snnl.utils.utils_ptsnnl - INFO: -  Model exported to ckpts/AE_snnl_dcpb200_150Ltnt_512_20240906_1745_BEST.pt - epoch: 5\n"
     ]
    },
    {
     "name": "stdout",
     "output_type": "stream",
     "text": [
      "18:06:27  6 /400  |  15.6253     0.3410    15.2842 |   1.000000   0.0000e+00 |   0.5485     6           |  15.6779     0.3326    15.3453 |   0.5564     6             |  1.000e-04   0.000e+00 |              \n"
     ]
    },
    {
     "name": "stderr",
     "output_type": "stream",
     "text": [
      "2024-09-06 18:06:27,803 - snnl.utils.utils_ptsnnl - INFO: -  Model exported to ckpts/AE_snnl_dcpb200_150Ltnt_512_20240906_1745_BEST.pt - epoch: 6\n"
     ]
    },
    {
     "name": "stdout",
     "output_type": "stream",
     "text": [
      "18:09:20  7 /400  |  15.5829     0.3326    15.2503 |   1.000000   0.0000e+00 |   0.5857     7           |  15.6507     0.3263    15.3244 |   0.5802     7             |  1.000e-04   0.000e+00 |              \n"
     ]
    },
    {
     "name": "stderr",
     "output_type": "stream",
     "text": [
      "2024-09-06 18:09:20,641 - snnl.utils.utils_ptsnnl - INFO: -  Model exported to ckpts/AE_snnl_dcpb200_150Ltnt_512_20240906_1745_BEST.pt - epoch: 7\n"
     ]
    },
    {
     "name": "stdout",
     "output_type": "stream",
     "text": [
      "18:12:12  8 /400  |  15.5462     0.3270    15.2192 |   1.000000   0.0000e+00 |   0.6047     8           |  15.6255     0.3217    15.3038 |   0.5907     8             |  1.000e-04   0.000e+00 |              \n"
     ]
    },
    {
     "name": "stderr",
     "output_type": "stream",
     "text": [
      "2024-09-06 18:12:12,868 - snnl.utils.utils_ptsnnl - INFO: -  Model exported to ckpts/AE_snnl_dcpb200_150Ltnt_512_20240906_1745_BEST.pt - epoch: 8\n"
     ]
    },
    {
     "name": "stdout",
     "output_type": "stream",
     "text": [
      "18:15:03  9 /400  |  15.5128     0.3233    15.1896 |   1.000000   0.0000e+00 |   0.6118     9           |  15.6030     0.3183    15.2847 |   0.5934     9             |  1.000e-04   0.000e+00 |              \n"
     ]
    },
    {
     "name": "stderr",
     "output_type": "stream",
     "text": [
      "2024-09-06 18:15:03,398 - snnl.utils.utils_ptsnnl - INFO: -  Model exported to ckpts/AE_snnl_dcpb200_150Ltnt_512_20240906_1745_BEST.pt - epoch: 9\n"
     ]
    },
    {
     "name": "stdout",
     "output_type": "stream",
     "text": [
      "18:17:53 10 /400  |  15.4822     0.3207    15.1616 |   1.000000   0.0000e+00 |   0.6140    10           |  15.5858     0.3163    15.2695 |   0.5936    10             |  1.000e-04   0.000e+00 |              \n"
     ]
    },
    {
     "name": "stderr",
     "output_type": "stream",
     "text": [
      "2024-09-06 18:17:53,690 - snnl.utils.utils_ptsnnl - INFO: -  Model exported to ckpts/AE_snnl_dcpb200_150Ltnt_512_20240906_1745_BEST.pt - epoch: 10\n"
     ]
    },
    {
     "name": "stdout",
     "output_type": "stream",
     "text": [
      "18:20:45 11 /400  |  15.4543     0.3190    15.1353 |   1.000000   0.0000e+00 |   0.6144    11           |  15.5718     0.3150    15.2569 |   0.5914    10             |  1.000e-04   0.000e+00 |              \n",
      "18:23:35 12 /400  |  15.4294     0.3182    15.1112 |   1.000000   0.0000e+00 |   0.6146    12           |  15.5606     0.3145    15.2460 |   0.5932    10             |  1.000e-04   0.000e+00 |              \n",
      "18:26:22 13 /400  |  15.4066     0.3177    15.0889 |   1.000000   0.0000e+00 |   0.6143    12           |  15.5520     0.3143    15.2377 |   0.5951    13             |  1.000e-04   0.000e+00 |              \n"
     ]
    },
    {
     "name": "stderr",
     "output_type": "stream",
     "text": [
      "2024-09-06 18:26:23,214 - snnl.utils.utils_ptsnnl - INFO: -  Model exported to ckpts/AE_snnl_dcpb200_150Ltnt_512_20240906_1745_BEST.pt - epoch: 13\n"
     ]
    },
    {
     "name": "stdout",
     "output_type": "stream",
     "text": [
      "18:29:14 14 /400  |  15.3857     0.3176    15.0681 |   1.000000   0.0000e+00 |   0.6145    12           |  15.5447     0.3141    15.2306 |   0.5956    14             |  1.000e-04   0.000e+00 |              \n"
     ]
    },
    {
     "name": "stderr",
     "output_type": "stream",
     "text": [
      "2024-09-06 18:29:14,853 - snnl.utils.utils_ptsnnl - INFO: -  Model exported to ckpts/AE_snnl_dcpb200_150Ltnt_512_20240906_1745_BEST.pt - epoch: 14\n"
     ]
    },
    {
     "name": "stdout",
     "output_type": "stream",
     "text": [
      "18:32:07 15 /400  |  15.3666     0.3178    15.0488 |   1.000000   0.0000e+00 |   0.6140    12           |  15.5400     0.3143    15.2257 |   0.5959    15             |  1.000e-04   0.000e+00 |              \n"
     ]
    },
    {
     "name": "stderr",
     "output_type": "stream",
     "text": [
      "2024-09-06 18:32:07,881 - snnl.utils.utils_ptsnnl - INFO: -  Model exported to ckpts/AE_snnl_dcpb200_150Ltnt_512_20240906_1745_BEST.pt - epoch: 15\n"
     ]
    },
    {
     "name": "stdout",
     "output_type": "stream",
     "text": [
      " Trn 16/400:  10%|███████████                                                                                                         | 38/400 [00:16<02:25,  2.49it/s, Losses - Recon=0.28692, SNNL=15.04265]"
     ]
    }
   ],
   "source": [
    "print(f\" {datetime.now().strftime('%Y-%m-%d %H:%M:%S')}  Start: epoch {model.starting_epoch+1:4d} of {model.ending_epoch:4d}\")\n",
    "model.fit(args, data_loaders)\n",
    "print(f\" {datetime.now().strftime('%Y-%m-%d %H:%M:%S')}  End: epoch {model.epoch + 1:4d} of {model.ending_epoch:4d}\")\n"
   ]
  },
  {
   "cell_type": "code",
   "execution_count": null,
   "id": "77834949-ec11-4d1e-976e-65f5c47eaf64",
   "metadata": {},
   "outputs": [],
   "source": [
    "print(f\" {datetime.now().strftime('%Y-%m-%d %H:%M:%S')}  Start: epoch {model.starting_epoch+1:4d} of {model.ending_epoch:4d}\")\n",
    "model.fit(args, data_loaders)\n",
    "print(f\" {datetime.now().strftime('%Y-%m-%d %H:%M:%S')}  End: epoch {model.epoch + 1:4d} of {model.ending_epoch:4d}\")\n"
   ]
  },
  {
   "cell_type": "code",
   "execution_count": null,
   "id": "71a78e3c-f780-430d-81fe-589bceea900a",
   "metadata": {},
   "outputs": [],
   "source": [
    "# model.use_temp_optimizer\n",
    "# take_checkpoint(model, args, epoch=306, update_best = True)\n",
    "# model.use_temp_optimizer\n",
    "# model.temp_params\n",
    "# model.anneal_patience = 30\n",
    "# model.optimizers['prim'].param_groups[0]\n",
    "# torch.get_num_threads()\n",
    "# torch.set_num_threads(3)"
   ]
  },
  {
   "cell_type": "code",
   "execution_count": null,
   "id": "0927be49-85f5-4c34-a8e1-717016168df1",
   "metadata": {},
   "outputs": [],
   "source": [
    "model.epoch, model.starting_epoch, model.ending_epoch"
   ]
  },
  {
   "cell_type": "code",
   "execution_count": null,
   "id": "45810b9a-9d1e-4913-bc64-71c12181b3b6",
   "metadata": {
    "scrolled": true
   },
   "outputs": [],
   "source": [
    "for epoch in range(model.ending_epoch):\n",
    "    display_epoch_metrics(model, epoch)"
   ]
  },
  {
   "cell_type": "code",
   "execution_count": null,
   "id": "03e71f2a-4b3c-4554-8cb8-e4a25d56db61",
   "metadata": {},
   "outputs": [],
   "source": [
    "# model.starting_epoch = 100\n",
    "# model.ending_epoch = 200\n",
    "# model.starting_epoch = 503\n",
    "model.starting_epoch = model.ending_epoch\n",
    "model.ending_epoch += 200\n",
    "\n",
    "print(f\" {datetime.now().strftime('%Y%m%d_%H%M%S')}  epoch {model.starting_epoch+1:4d} of {model.ending_epoch:4d}\")"
   ]
  },
  {
   "cell_type": "markdown",
   "id": "0db40148-a95e-4895-8868-bd27050a3c9f",
   "metadata": {},
   "source": [
    "### Close WandB Logging"
   ]
  },
  {
   "cell_type": "code",
   "execution_count": null,
   "id": "1251c457-bbae-4bfc-a786-92fbc8d2ddb6",
   "metadata": {
    "scrolled": true
   },
   "outputs": [],
   "source": [
    "if args.WANDB_ACTIVE:\n",
    "    wandb_run.finish()\n",
    "    args.WANDB_ACTIVE = False"
   ]
  },
  {
   "cell_type": "markdown",
   "id": "d989aa94-f3ce-4ece-8467-75d6028f66cc",
   "metadata": {
    "jp-MarkdownHeadingCollapsed": true
   },
   "source": [
    "## Misc stuff"
   ]
  },
  {
   "cell_type": "code",
   "execution_count": null,
   "id": "04b975cc-ffe8-49c3-adb0-8f5cd7dc9204",
   "metadata": {},
   "outputs": [],
   "source": [
    "# for p in model.layers:\n",
    "#     if hasattr(p, 'weight'):\n",
    "#         p.weight.shape, p.bias.shape\n",
    "# model.training_history['trn'].keys()\n",
    "# # model.training_history['trn']['L04_W_grad']\n",
    "# model.optimizers['prim']\n",
    "# model.state_dict()['layers.0.weight']\n",
    "# model.optimizers['prim'].zero_grad()\n",
    "# layers.0.weight\n",
    "# display_model_gradients(model, 'test')\n",
    "# model.state_dict()['layers.0.weight'].requires_grad\n",
    "# model.temperature.data\n",
    "# model.snnl_criterion.temperature"
   ]
  },
  {
   "cell_type": "code",
   "execution_count": null,
   "id": "7f79f504-b6a9-49c6-96a8-95dedace8b88",
   "metadata": {},
   "outputs": [],
   "source": [
    "# display_epoch_metrics(model, model.epoch, model.ending_epoch, header = True)"
   ]
  },
  {
   "cell_type": "code",
   "execution_count": null,
   "id": "4cb33f46-7cda-4178-b435-9a9bcd9f52f0",
   "metadata": {},
   "outputs": [],
   "source": [
    "# model.starting_epoch, model.ending_epoch = 0, 2\n",
    "# epoch = 1\n",
    "# model.temperature = torch.abs(model.temperature)\n",
    "# model.temperature = torch.nn.Parameter(torch.clip(model.temperature, 0.001, None))\n",
    "# model.snnl_criterion.temperature= torch.nn.Parameter(torch.clip(model.snnl_criterion.temperature, 0.001, None))"
   ]
  },
  {
   "cell_type": "code",
   "execution_count": null,
   "id": "fbe95719-d1e2-46fd-984c-51c47775609c",
   "metadata": {},
   "outputs": [],
   "source": [
    "# model.state_dict().keys()\n",
    "# # for k in ['temperature', 'snnl_criterion.temperature'\n",
    "# for k in ['temperature', 'snnl_criterion.temperature','layers.0.weight', 'layers.0.bias','layers.2.weight','layers.4.weight','layers.4.bias','layers.5.weight','layers.5.bias','layers.7.weight','layers.9.weight','layers.9.bias',]:\n",
    "#     if model.state_dict()[k].ndim > 1:\n",
    "#         print(f\" {k+' - '+str(model.state_dict()[k].shape):45s} - {model.state_dict()[k][:3,:3].reshape((-1)).data}\")\n",
    "#     else:\n",
    "#         print(f\" {k+' - '+str(model.state_dict()[k].shape):45s} - {model.state_dict()[k][:9].data}\")\n"
   ]
  },
  {
   "cell_type": "markdown",
   "id": "9d7f6ece-b0e4-4e64-bc35-928a3c3f961d",
   "metadata": {},
   "source": [
    "# Plot losses, weights, biases and gradients"
   ]
  },
  {
   "cell_type": "code",
   "execution_count": null,
   "id": "1f0299df-2c74-4751-9d64-00bf7670954f",
   "metadata": {},
   "outputs": [],
   "source": [
    "# if 0:\n",
    "#     model_attributes = model.__dict__\n",
    "#     model.training_history['train'].keys()\n",
    "#     for key, value in model.training_history['train'].items():\n",
    "#         if isinstance(value, List) or key in [\"test_accuracy\", \"test_f1\"]:\n",
    "#             print(f\"{key:25s} {type(value)}  {len(value):7d}  {value[-5:]}\")\n",
    "#     print()\n",
    "#     for key, value in model.training_history['val'].items():\n",
    "#         if isinstance(value, List) or key in [\"test_accuracy\", \"test_f1\"]:\n",
    "#             print(f\"{key:25s} {type(value)}  {len(value):7d}  {value[-5:]}\")        \n",
    "\n",
    "# tmp = np.array(model.training_history['train']['temp_grads'])\n",
    "# for st in range(0,len(tmp), 1000):\n",
    "#     end = st + 1000\n",
    "#     print(f\" {st:5d} - {end:5d}  min: {tmp[st:end].min():9e}   max: {tmp[st:end].max():9e}    avg: {tmp[st:end].mean():9e}   std: {tmp[st:end].std():9e}\")"
   ]
  },
  {
   "cell_type": "code",
   "execution_count": null,
   "id": "035c3999-7bf1-4d09-b91d-fd634d1f85b2",
   "metadata": {
    "scrolled": true
   },
   "outputs": [],
   "source": [
    "plot_train_history(model, start=0, n_bins = 25)"
   ]
  },
  {
   "cell_type": "code",
   "execution_count": null,
   "id": "00a3e1ef-861f-4323-86c0-0a07fdb97157",
   "metadata": {
    "scrolled": true
   },
   "outputs": [],
   "source": [
    "plot_regression_metrics(model,start = 4, n_bins = 25)"
   ]
  },
  {
   "cell_type": "code",
   "execution_count": null,
   "id": "f654fd1b-0782-4a14-a92e-8ff68a70523f",
   "metadata": {
    "scrolled": true
   },
   "outputs": [],
   "source": [
    "# plot_train_metrics(model, n_bins = 25)\n",
    "# plot_regression_metrics(model,start = 4, n_bins = 25)"
   ]
  },
  {
   "cell_type": "code",
   "execution_count": null,
   "id": "533b465a-6b4a-4696-a014-793b8f7df079",
   "metadata": {
    "scrolled": true
   },
   "outputs": [],
   "source": [
    "plot_train_history(model, start= 0, n_bins = 25)"
   ]
  },
  {
   "cell_type": "code",
   "execution_count": null,
   "id": "85774d06-9f14-4b02-b0c6-b8c60ba92ffa",
   "metadata": {
    "jupyter": {
     "source_hidden": true
    },
    "scrolled": true
   },
   "outputs": [],
   "source": [
    "plot_train_history(model, start= 0, n_bins = 25)"
   ]
  },
  {
   "cell_type": "code",
   "execution_count": null,
   "id": "f6b91b33-81bd-47e8-aa8e-bda1bd4d4583",
   "metadata": {
    "scrolled": true
   },
   "outputs": [],
   "source": [
    "plot_train_history(model, start= 100, n_bins = 25)"
   ]
  },
  {
   "cell_type": "code",
   "execution_count": null,
   "id": "5d4eae70-3b13-4893-b485-f8ad87b4cd68",
   "metadata": {
    "scrolled": true
   },
   "outputs": [],
   "source": [
    "plot_train_history(model, start= 10, n_bins = 25)"
   ]
  },
  {
   "cell_type": "code",
   "execution_count": null,
   "id": "bc760f53-8449-4d3a-a274-f11108ed4784",
   "metadata": {
    "scrolled": true
   },
   "outputs": [],
   "source": [
    "plot_train_history(model, start= 10, n_bins = 25)"
   ]
  },
  {
   "cell_type": "code",
   "execution_count": null,
   "id": "7f50fdb6-0457-4cd3-b958-65bb44e4216d",
   "metadata": {},
   "outputs": [],
   "source": [
    "plot_model_parms(model, epochs= model.epoch, n_bins = 15)"
   ]
  },
  {
   "cell_type": "code",
   "execution_count": null,
   "id": "5bedbd23-8bc7-4173-9046-5db23a073ca0",
   "metadata": {},
   "outputs": [],
   "source": []
  },
  {
   "cell_type": "markdown",
   "id": "75fb4184-7640-4cc5-bf19-249ebb9fc072",
   "metadata": {
    "execution": {
     "iopub.execute_input": "2024-04-01T00:58:52.961399Z",
     "iopub.status.busy": "2024-04-01T00:58:52.960920Z"
    },
    "jp-MarkdownHeadingCollapsed": true
   },
   "source": [
    "# Load model"
   ]
  },
  {
   "cell_type": "code",
   "execution_count": null,
   "id": "c914b200-c783-4477-9ca7-3370a23ec595",
   "metadata": {},
   "outputs": [],
   "source": [
    "ex_name = 'AE'\n",
    "ex_epoch = 50\n",
    "ex_runmode = 'snnl'\n",
    "ex_date = '20240718'\n",
    "ex_time = '1956'\n",
    "ex_title = args.exp_title\n",
    "compounds_per_batch = args.cpb\n",
    "print(args.exp_title)\n",
    "# runmode = 'snnl'\n",
    "# ex_date = '20240516'\n",
    "# ex_title = args.exp_title\n",
    "# ex_epoch = 200"
   ]
  },
  {
   "cell_type": "code",
   "execution_count": null,
   "id": "4e833db8-a709-4f76-9346-fd582b95ab70",
   "metadata": {},
   "outputs": [],
   "source": [
    "# filename = f\"{model.name}_{args.runmode}_{exp_date}_{exp_title}_ep_{exp_epoch:03d}\"\n",
    "# filename = f\"{model.name}_{ex_runmode}_{ex_date}_{ex_title}_{epochs:03d}_cpb_{ex_cpb}_factor_{ex_factor:d}.pt\"\n",
    "# file_pattern = f\"{model.name}_{ex_runmode}_{ex_date}_{ex_title}_*_cpb_{ex_cpb}_factor_{ex_factor:d}.pt\"\n",
    "filename = f\"{ex_name}_{ex_runmode}_{ex_title}_{ex_date}_{ex_time}_{ex_epoch:03d}.pt\"\n",
    "print(filename)\n",
    "file_pattern = f\"{ex_name}_{ex_runmode}_{ex_title}_{ex_date}_{ex_time}_BEST*.pt\"\n",
    "# file_pattern = f\"{ex_name}_{ex_runmode}_{ex_title}_{ex_date}_{ex_time}_LAST*.pt\"\n",
    "print(file_pattern)"
   ]
  },
  {
   "cell_type": "code",
   "execution_count": null,
   "id": "52e8f566-6c23-496e-a8ec-08d0e2e2a51b",
   "metadata": {},
   "outputs": [],
   "source": [
    "import glob\n",
    "filelist = glob.glob(file_pattern,root_dir = './ckpts')\n",
    "filelist = sorted(filelist)\n",
    "filelist\n",
    "# epochlist =sorted([int(x[-6:-3]) for x in filelist])\n",
    "# epochlist"
   ]
  },
  {
   "cell_type": "code",
   "execution_count": null,
   "id": "d0861ccd-806e-4e62-9139-b4d73d6e3d67",
   "metadata": {},
   "outputs": [],
   "source": [
    "# runmode = 'snnl'\n",
    "# ex_date = '20240516'\n",
    "# ex_title = args.exp_title\n",
    "ex_epoch = 200\n",
    "\n",
    "filename = f\"{model.name}_{args.runmode}_{exp_date}_{exp_title}_ep_{exp_epoch:03d}\"\n",
    "filename = filelist[0]\n",
    "if filename[-3:] != '.pt':\n",
    "    filename += '.pt'\n",
    "print(filename)\n",
    "\n",
    "if os.path.exists(os.path.join('ckpts', filename)):\n",
    "    print(f\"\\n *** Checkpoint EXISTS *** \\n\")\n",
    "else:\n",
    "    print(f\"\\n *** Checkpoint DOESNT EXIST *** \\n\")"
   ]
  },
  {
   "cell_type": "code",
   "execution_count": null,
   "id": "2d6a57df-2a6c-4ca5-8bc0-0672d1c03901",
   "metadata": {
    "scrolled": true
   },
   "outputs": [],
   "source": [
    "# mdl , last_epoch = load_checkpoint_v2(model, filename)\n",
    "mdl, last_epoch, mdl_ckpt = utils.load_checkpoint_v5(model, filename)\n",
    "print(f\" last epoch : {last_epoch}\")"
   ]
  },
  {
   "cell_type": "code",
   "execution_count": null,
   "id": "8990d905-d098-49fe-bee2-f0f449ba3ac2",
   "metadata": {},
   "outputs": [],
   "source": [
    "print(args.current_device)\n",
    "print(mdl.device)\n",
    "# model.device = current_device\n",
    "print(mdl.device)"
   ]
  },
  {
   "cell_type": "code",
   "execution_count": null,
   "id": "00c841d7-6d85-438c-a7da-e8026fb4f644",
   "metadata": {},
   "outputs": [],
   "source": [
    "print(current_device)\n",
    "model.train()\n",
    "model = model.cuda(device=current_device)"
   ]
  },
  {
   "cell_type": "code",
   "execution_count": null,
   "id": "a2ddb4f9-b6fa-4c44-8cef-ccdaa99ce49b",
   "metadata": {},
   "outputs": [],
   "source": [
    "starting_epoch, epochs,"
   ]
  },
  {
   "cell_type": "code",
   "execution_count": null,
   "id": "25b03053-b090-4116-898a-acbfb8add271",
   "metadata": {},
   "outputs": [],
   "source": [
    "print(f\" last epoch  {last_epoch}\")"
   ]
  },
  {
   "cell_type": "code",
   "execution_count": null,
   "id": "eb1241f9-4ad1-425f-8526-43c5cd89859c",
   "metadata": {},
   "outputs": [],
   "source": [
    "# starting_epoch = 20\n",
    "starting_epoch = last_epoch\n",
    "epochs = last_epoch + 100\n",
    "# starting_epoch = epoch + 1\n",
    "print(f\" run epochs {starting_epoch+1} to {epochs} \")"
   ]
  },
  {
   "cell_type": "code",
   "execution_count": null,
   "id": "361a2ba1-0bac-4ff8-aa08-950fe7fe2302",
   "metadata": {},
   "outputs": [],
   "source": [
    "print()\n",
    "print(f\" model device              : {model.device}\")\n",
    "print(f\" model temperature         : {model.temperature}\")\n",
    "print(f\" model use prim_optimizer  : {model.use_prim_optimizer}\")\n",
    "print(f\" model use prim_scheduler  : {model.use_prim_scheduler}\")\n",
    "print() \n",
    "print(f\" loss_factor               : {model.loss_factor}\")\n",
    "print(f\" monitor_grads_layer       : {model.monitor_grads_layer}\")\n",
    "print(f\" Learning rate             : {model.optimizers['prim'].param_groups[0]['lr']}\") \n",
    "print(f\" Optimizer ParamGroup[0]   : {model.optimizers['prim'].param_groups[0]}\") \n",
    "print() \n",
    "print(f\" Optimizer ParamGroup[0]   : {model.optimizers['prim'].state_dict()}\") \n",
    "\n",
    "print(f\" snnl_factor               : {model.snnl_factor}\")\n",
    "# if model.use_snnl:\n",
    "#     print(f\" temperature          : {model.temperature.item()}\")\n",
    "# if model.temp_optimizer is not None:\n",
    "#     print(f\" Temperature LR       : {model.temp_optimizer.param_groups[0]['lr']}\") \n",
    "# print()\n",
    "\n",
    "# for th_key in ['trn', 'val']:\n",
    "#     for k,v in model.training_history[th_key].items():\n",
    "#         if isinstance(v[-1],str):\n",
    "#             print(f\" {k:20s} : {v[-1]:s}  \")\n",
    "#         else:\n",
    "#             print(f\" {k:20s} : {v[-1]:6f} \")\n",
    "#     print()\n"
   ]
  },
  {
   "cell_type": "code",
   "execution_count": null,
   "id": "8ac91959-7226-4ca8-a4fa-fd984ce7cd9d",
   "metadata": {},
   "outputs": [],
   "source": [
    "model.optimizers['prim']['params']\n",
    "# model.use_prim_scheduler"
   ]
  },
  {
   "cell_type": "code",
   "execution_count": null,
   "id": "6a4b320a-e40a-47b2-886f-6130c314afb8",
   "metadata": {
    "scrolled": true
   },
   "outputs": [],
   "source": [
    "model.optimizers \n",
    "print()"
   ]
  },
  {
   "cell_type": "code",
   "execution_count": null,
   "id": "903b5c7a-4271-4659-857d-29ee395daedc",
   "metadata": {},
   "outputs": [],
   "source": [
    "model.scheduler.__dict__"
   ]
  },
  {
   "cell_type": "code",
   "execution_count": null,
   "id": "35c66518-e1f1-4c19-9aa0-27bb21a0c68d",
   "metadata": {
    "scrolled": true
   },
   "outputs": [],
   "source": [
    "model.temp_optimizer.__dict__\n",
    "print()"
   ]
  },
  {
   "cell_type": "code",
   "execution_count": null,
   "id": "5cbf6a8e-28bd-461e-ac24-0f9ba13858b1",
   "metadata": {
    "scrolled": true
   },
   "outputs": [],
   "source": [
    "model.temp_scheduler.__dict__"
   ]
  }
 ],
 "metadata": {
  "kernelspec": {
   "display_name": "Python [conda env:ptsnnl]",
   "language": "python",
   "name": "conda-env-ptsnnl-py"
  },
  "language_info": {
   "codemirror_mode": {
    "name": "ipython",
    "version": 3
   },
   "file_extension": ".py",
   "mimetype": "text/x-python",
   "name": "python",
   "nbconvert_exporter": "python",
   "pygments_lexer": "ipython3",
   "version": "3.11.0"
  },
  "toc": {
   "base_numbering": 1,
   "nav_menu": {},
   "number_sections": true,
   "sideBar": true,
   "skip_h1_title": false,
   "title_cell": "Table of Contents",
   "title_sidebar": "Contents",
   "toc_cell": false,
   "toc_position": {},
   "toc_section_display": true,
   "toc_window_display": false
  }
 },
 "nbformat": 4,
 "nbformat_minor": 5
}
