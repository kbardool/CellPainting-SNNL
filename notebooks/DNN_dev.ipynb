{
 "cells": [
  {
   "cell_type": "markdown",
   "id": "8352411c-1789-479d-bae0-dc9b5664be49",
   "metadata": {},
   "source": [
    "# Setup"
   ]
  },
  {
   "cell_type": "code",
   "execution_count": 6,
   "id": "b1543eaa-61c1-4b00-9745-9db4239b5b15",
   "metadata": {
    "ExecuteTime": {
     "end_time": "2023-04-12T10:29:16.111588Z",
     "start_time": "2023-04-12T10:29:15.764305Z"
    },
    "execution": {
     "iopub.execute_input": "2024-05-04T23:01:19.649215Z",
     "iopub.status.busy": "2024-05-04T23:01:19.648729Z",
     "iopub.status.idle": "2024-05-04T23:01:19.696289Z",
     "shell.execute_reply": "2024-05-04T23:01:19.695654Z",
     "shell.execute_reply.started": "2024-05-04T23:01:19.649170Z"
    }
   },
   "outputs": [
    {
     "data": {
      "text/html": [
       "<style>.container { width:98% !important; }</style>"
      ],
      "text/plain": [
       "<IPython.core.display.HTML object>"
      ]
     },
     "metadata": {},
     "output_type": "display_data"
    }
   ],
   "source": [
    "from IPython.display import display, HTML\n",
    "display(HTML(\"<style>.container { width:98% !important; }</style>\"))\n",
    "%load_ext autoreload  \n",
    "%autoreload 2\n",
    "from IPython.core.interactiveshell import InteractiveShell\n",
    "InteractiveShell.ast_node_interactivity = \"all\""
   ]
  },
  {
   "cell_type": "code",
   "execution_count": 7,
   "id": "6ccba311-11f9-491c-86d8-1bd8b3c1803e",
   "metadata": {
    "ExecuteTime": {
     "end_time": "2023-04-12T10:29:16.111588Z",
     "start_time": "2023-04-12T10:29:15.764305Z"
    },
    "execution": {
     "iopub.execute_input": "2024-05-04T23:01:20.901830Z",
     "iopub.status.busy": "2024-05-04T23:01:20.901551Z",
     "iopub.status.idle": "2024-05-04T23:01:21.221988Z",
     "shell.execute_reply": "2024-05-04T23:01:21.221264Z",
     "shell.execute_reply.started": "2024-05-04T23:01:20.901808Z"
    }
   },
   "outputs": [
    {
     "name": "stdout",
     "output_type": "stream",
     "text": [
      "insert ./src\n",
      "insert ../..\n",
      "['../..', './src', '/home/kevin/miniforge3/envs/ptsnnl/lib/python311.zip', '/home/kevin/miniforge3/envs/ptsnnl/lib/python3.11', '/home/kevin/miniforge3/envs/ptsnnl/lib/python3.11/lib-dynload', '', '/home/kevin/miniforge3/envs/ptsnnl/lib/python3.11/site-packages']\n",
      "2.2.1+cu118\n",
      "Timestamp:  2024_05_05_01:01:21\n"
     ]
    }
   ],
   "source": [
    "import os\n",
    "import sys\n",
    "import csv\n",
    "import getpass\n",
    "import json\n",
    "import time\n",
    "import types, copy, pprint\n",
    "import logging \n",
    "import shutil\n",
    "import yaml\n",
    "from datetime import datetime\n",
    "for p in ['./src','../..']:\n",
    "    if p not in sys.path:\n",
    "        print(f\"insert {p}\")\n",
    "        sys.path.insert(0, p)\n",
    "print(sys.path)\n",
    "\n",
    "import numpy as np\n",
    "import pandas as pd\n",
    "from typing import Dict, List, Tuple\n",
    "\n",
    "from matplotlib import pyplot as plt\n",
    "from scipy.sparse import csr_matrix\n",
    "from tqdm import tqdm\n",
    "import torch\n",
    "import torch.nn.functional as F\n",
    "from torchinfo import summary\n",
    "print(torch.__version__)\n",
    "\n",
    "pp = pprint.PrettyPrinter(indent=4)\n",
    "\n",
    "pd.options.display.width = 132\n",
    "torch.set_printoptions(precision=None, threshold=None, edgeitems=None, linewidth=150, profile=None, sci_mode=None)\n",
    "np.set_printoptions(edgeitems=3, infstr='inf', linewidth=150, nanstr='nan')\n",
    "\n",
    "os.environ[\"WANDB_NOTEBOOK_NAME\"] = \"./DNN_dev.ipynb\"\n",
    "os.environ[\"CUDA_LAUNCH_BLOCKING\"] = \"1\"\n",
    "import wandb\n",
    "from KevinsRoutines.utils.utils_wandb  import  init_wandb, wandb_log_metrics,wandb_watch\n",
    "from KevinsRoutines.utils.utils_general  import  list_namespace\n",
    "\n",
    "# print(\"7- '%Y_%m_%d_%H:%M:%S'   : \",datetime.now().strftime('%Y%m%d_%H%M%S'))\n",
    "timestamp = datetime.now().strftime('%Y_%m_%d_%H:%M:%S')\n",
    "print('Timestamp: ',timestamp)\n",
    "logLevel = os.environ.get('LOG_LEVEL', 'INFO').upper()\n",
    "FORMAT = '%(asctime)s - %(levelname)s: - %(message)s'\n",
    "logging.basicConfig(level=\"INFO\", format= FORMAT)"
   ]
  },
  {
   "cell_type": "code",
   "execution_count": 8,
   "id": "aeebc964-9e2e-4473-803d-8613da5345e5",
   "metadata": {
    "execution": {
     "iopub.execute_input": "2024-05-04T23:01:21.565631Z",
     "iopub.status.busy": "2024-05-04T23:01:21.565240Z",
     "iopub.status.idle": "2024-05-04T23:01:21.609171Z",
     "shell.execute_reply": "2024-05-04T23:01:21.608434Z",
     "shell.execute_reply.started": "2024-05-04T23:01:21.565591Z"
    }
   },
   "outputs": [
    {
     "data": {
      "text/plain": [
       "'Sample module for using DNN classifier with SNNL'"
      ]
     },
     "execution_count": 8,
     "metadata": {},
     "output_type": "execute_result"
    }
   ],
   "source": [
    "# Soft Nearest Neighbor Loss\n",
    "# Copyright (C) 2020  Abien Fred Agarap\n",
    "#\n",
    "# This program is free software: you can redistribute it and/or modify\n",
    "# it under the terms of the GNU Affero General Public License as published\n",
    "# by the Free Software Foundation, either version 3 of the License, or\n",
    "# (at your option) any later version.\n",
    "#\n",
    "# This program is distributed in the hope that it will be useful,\n",
    "# but WITHOUT ANY WARRANTY; without even the implied warranty of\n",
    "# MERCHANTABILITY or FITNESS FOR A PARTICULAR PURPOSE.  See the\n",
    "# GNU Affero General Public License for more details.\n",
    "#\n",
    "# You should have received a copy of the GNU Affero General Public License\n",
    "# along with this program.  If not, see <https://www.gnu.org/licenses/>.\n",
    "__author__ = \"Abien Fred Agarap\"\n",
    "__version__ = \"1.0.0\"\n",
    "\"\"\"Sample module for using DNN classifier with SNNL\"\"\"\n",
    "\n",
    "# import argparse\n",
    "# import torch\n",
    "# from pt_datasets import create_dataloader, load_dataset\n",
    "# from pt_datasets import display_cellpainting_batch\n",
    "# from snnl.models import DNN\n",
    "from snnl.utils import export_results, parse_args, get_hyperparameters, set_global_seed, get_device, set_device\n",
    "from snnl.utils import accuracy, load_model, save_model, import_results, export_results, save_checkpoint, load_checkpoint \n",
    "from snnl.utils import plot_model_parms, plot_train_history, plot_train_metrics\n",
    "from snnl.utils import display_cellpainting_batch, display_epoch_metrics, display_model_history, display_model_summary\n",
    "from snnl.utils import CellpaintingDataset, InfiniteDataLoader, custom_collate_fn\n",
    "\n",
    "from dev_base import Model\n",
    "from dev_dnn import DNN \n",
    "from dev_autoencoder import Autoencoder\n",
    "from dev_snnloss import SNNLoss"
   ]
  },
  {
   "cell_type": "code",
   "execution_count": 14,
   "id": "9bbf7f30-a1dc-43fe-b9c5-9b60f62c94db",
   "metadata": {
    "execution": {
     "iopub.execute_input": "2024-05-04T23:01:25.752752Z",
     "iopub.status.busy": "2024-05-04T23:01:25.752380Z",
     "iopub.status.idle": "2024-05-04T23:01:25.790468Z",
     "shell.execute_reply": "2024-05-04T23:01:25.789940Z",
     "shell.execute_reply.started": "2024-05-04T23:01:25.752716Z"
    }
   },
   "outputs": [],
   "source": [
    "import wandb\n",
    "os.environ[\"WANDB_NOTEBOOK_NAME\"] = \"./DNN_dev.ipynb\"\n",
    "from KevinsRoutines.utils.utils_wandb  import  init_wandb, wandb_log_metrics,wandb_watch\n",
    "from KevinsRoutines.utils.utils_general  import  list_namespace"
   ]
  },
  {
   "cell_type": "code",
   "execution_count": 9,
   "id": "8059a7a6",
   "metadata": {
    "execution": {
     "iopub.execute_input": "2024-05-04T23:01:22.001198Z",
     "iopub.status.busy": "2024-05-04T23:01:22.000832Z",
     "iopub.status.idle": "2024-05-04T23:01:22.038404Z",
     "shell.execute_reply": "2024-05-04T23:01:22.037858Z",
     "shell.execute_reply.started": "2024-05-04T23:01:22.001163Z"
    }
   },
   "outputs": [
    {
     "name": "stdout",
     "output_type": "stream",
     "text": [
      " device: 0   Quadro GV100                   :  free: 31,742,033,920 B   (29.56 GB)    total: 34,069,872,640 B   (31.73 GB)\n",
      " device: 1   Quadro GV100                   :  free: 31,685,410,816 B   (29.51 GB)    total: 34,069,872,640 B   (31.73 GB)\n",
      " device: 2   NVIDIA TITAN Xp                :  free: 12,464,029,696 B   (11.61 GB)    total: 12,774,539,264 B   (11.90 GB)\n",
      " Current CUDA Device is: cuda:2 NVIDIA TITAN Xp 2\n",
      " Current device is : cuda:2\n"
     ]
    }
   ],
   "source": [
    "current_device = get_device()\n",
    "print(f\" Current device is : {current_device}\")"
   ]
  },
  {
   "cell_type": "code",
   "execution_count": 10,
   "id": "fe3917a5-6d96-4eeb-b606-953ff359f6a9",
   "metadata": {
    "execution": {
     "iopub.execute_input": "2024-05-04T23:01:22.639830Z",
     "iopub.status.busy": "2024-05-04T23:01:22.639327Z",
     "iopub.status.idle": "2024-05-04T23:01:22.680487Z",
     "shell.execute_reply": "2024-05-04T23:01:22.679660Z",
     "shell.execute_reply.started": "2024-05-04T23:01:22.639787Z"
    }
   },
   "outputs": [
    {
     "name": "stdout",
     "output_type": "stream",
     "text": [
      " Running on: NVIDIA TITAN Xp 2\n",
      " Switch to cuda:2 \n",
      " Running on: NVIDIA TITAN Xp 2\n"
     ]
    }
   ],
   "source": [
    "current_device = set_device(2)"
   ]
  },
  {
   "cell_type": "markdown",
   "id": "1be5e789-3446-482f-a3ca-fdd19b2a845e",
   "metadata": {},
   "source": [
    "### main(args)"
   ]
  },
  {
   "cell_type": "code",
   "execution_count": 11,
   "id": "48a88e1c-e888-49de-90f1-ff9ba9bf8b1c",
   "metadata": {
    "execution": {
     "iopub.execute_input": "2024-05-04T23:01:23.487818Z",
     "iopub.status.busy": "2024-05-04T23:01:23.487491Z",
     "iopub.status.idle": "2024-05-04T23:01:23.533929Z",
     "shell.execute_reply": "2024-05-04T23:01:23.533307Z",
     "shell.execute_reply.started": "2024-05-04T23:01:23.487787Z"
    }
   },
   "outputs": [
    {
     "data": {
      "text/plain": [
       "Namespace(seed=1234, model='baseline', configuration='hyperparameters/dnn_cp_classifier_dropout.yaml')"
      ]
     },
     "execution_count": 11,
     "metadata": {},
     "output_type": "execute_result"
    }
   ],
   "source": [
    "input_args = f\" --seed              1234 \" \\\n",
    "             f\" --model             baseline\" \\\n",
    "             f\" --configuration     hyperparameters/dnn_cp_classifier_dropout.yaml\"\n",
    "             # f\" --configuration       hyperparameters/dnn_cellpainting_classifier_03.json\"\n",
    "             # f\" --configuration     hyperparameters/dnn_cellpainting_unsupervised.json\"\n",
    "             # f\" --configuration     hyperparameters/dnn_mnist.json\"\n",
    "             # f\" --model             baseline\" \\\n",
    "args = parse_args(input_args.split())\n",
    "args\n",
    "\n",
    "with open(args.configuration) as f:\n",
    "    args = types.SimpleNamespace(**yaml.safe_load(f), **(vars(args)))\n",
    "args.batch_size = args.cellpainting_args['batch_size']\n",
    "args.compounds_per_batch = args.cellpainting_args['compounds_per_batch']\n",
    "\n",
    "# # DNN\n",
    "# (   dataset,\n",
    "#     batch_size,\n",
    "#     epochs,\n",
    "#     learning_rate,\n",
    "#     units,\n",
    "#     activations,\n",
    "#     snnl_factor,\n",
    "#     temperature,\n",
    "#     cellpainting_args\n",
    "#  ) = get_hyperparameters(args.configuration)\n",
    " "
   ]
  },
  {
   "cell_type": "code",
   "execution_count": 12,
   "id": "3eb5af3a-5c2c-482e-b133-eff26ad0b812",
   "metadata": {
    "execution": {
     "iopub.execute_input": "2024-05-04T23:01:24.196915Z",
     "iopub.status.busy": "2024-05-04T23:01:24.196593Z",
     "iopub.status.idle": "2024-05-04T23:01:24.232577Z",
     "shell.execute_reply": "2024-05-04T23:01:24.231941Z",
     "shell.execute_reply.started": "2024-05-04T23:01:24.196883Z"
    }
   },
   "outputs": [],
   "source": [
    "# if args.dataset == \"cellpainting\": \n",
    "    # pp.pprint(args.cellpainting_args) \n",
    "    # cellpainting_args['batch_size']   = batch_size\n",
    "    # cellpainting_args['compounds_per_batch'] = compounds_per_batch\n",
    "    # pass"
   ]
  },
  {
   "cell_type": "code",
   "execution_count": 13,
   "id": "7124dbc9-5413-42f2-a16b-4566eec4d3d7",
   "metadata": {
    "execution": {
     "iopub.execute_input": "2024-05-04T23:01:24.831863Z",
     "iopub.status.busy": "2024-05-04T23:01:24.831300Z",
     "iopub.status.idle": "2024-05-04T23:01:24.873740Z",
     "shell.execute_reply": "2024-05-04T23:01:24.873035Z",
     "shell.execute_reply.started": "2024-05-04T23:01:24.831822Z"
    }
   },
   "outputs": [
    {
     "name": "stdout",
     "output_type": "stream",
     "text": [
      " - Each mini-batch contains 100.0 compounds with 3 samples per each compound : total 300 rows\n",
      " - Number of 300 row full size batches per epoch: 800\n",
      " - Rows covered by 800 full size batches (300 rows) per epoch:  240000\n",
      " - Last partial batch contains : 0 rows\n",
      "\n",
      " - Each mini-batch contains 100.0 compounds with 3 samples per each compound : total 300 rows\n",
      " - Number of 300 row full size batches per epoch: 80\n",
      " - Rows covered by 80 full size batches (300 rows) per epoch:  24000\n",
      " - Last partial batch contains : 0 rows\n",
      "\n"
     ]
    }
   ],
   "source": [
    "trn_file_sz = args.cellpainting_args['train_end'] - args.cellpainting_args['train_start']\n",
    "val_file_sz = args.cellpainting_args['val_end']   - args.cellpainting_args['val_start']\n",
    "smp_sz = args.cellpainting_args['sample_size']\n",
    "buf_sz = args.cellpainting_args['compounds_per_batch']\n",
    "bth_sz = args.batch_size\n",
    "recs_per_batch = smp_sz * bth_sz * buf_sz\n",
    "\n",
    "for file_sz in [trn_file_sz, val_file_sz]:\n",
    "    bth_per_epoch = file_sz // recs_per_batch\n",
    "    print(f\" - Each mini-batch contains {recs_per_batch/smp_sz} compounds with {smp_sz} samples per each compound : total {recs_per_batch} rows\")\n",
    "    print(f\" - Number of {recs_per_batch} row full size batches per epoch: {bth_per_epoch}\")\n",
    "    print(f\" - Rows covered by {bth_per_epoch} full size batches ({recs_per_batch} rows) per epoch:  {(file_sz // recs_per_batch) * recs_per_batch}\")\n",
    "    print(f\" - Last partial batch contains : {file_sz % recs_per_batch} rows\")\n",
    "    print() "
   ]
  },
  {
   "cell_type": "code",
   "execution_count": 15,
   "id": "6e980731-cdd7-4954-889e-3f9d3cdbf037",
   "metadata": {
    "execution": {
     "iopub.execute_input": "2024-05-04T23:01:27.514692Z",
     "iopub.status.busy": "2024-05-04T23:01:27.514256Z",
     "iopub.status.idle": "2024-05-04T23:01:27.553967Z",
     "shell.execute_reply": "2024-05-04T23:01:27.553341Z",
     "shell.execute_reply.started": "2024-05-04T23:01:27.514656Z"
    }
   },
   "outputs": [],
   "source": [
    "args.project_name = 'CellPainting_Profiles'\n",
    "args.exp_id   = None\n",
    "args.exp_name = datetime.now().strftime('%m%d_%H%M')\n",
    "args.exp_desc = 'DNN Training in Baseline mode'"
   ]
  },
  {
   "cell_type": "code",
   "execution_count": 16,
   "id": "b5252429-5bbb-4bd3-81e4-72b9c8948ab5",
   "metadata": {
    "execution": {
     "iopub.execute_input": "2024-05-04T23:01:27.981037Z",
     "iopub.status.busy": "2024-05-04T23:01:27.980826Z",
     "iopub.status.idle": "2024-05-04T23:01:33.295522Z",
     "shell.execute_reply": "2024-05-04T23:01:33.294629Z",
     "shell.execute_reply.started": "2024-05-04T23:01:27.981018Z"
    }
   },
   "outputs": [
    {
     "name": "stdout",
     "output_type": "stream",
     "text": [
      " initiate new job run\n"
     ]
    },
    {
     "name": "stderr",
     "output_type": "stream",
     "text": [
      "\u001b[34m\u001b[1mwandb\u001b[0m: Currently logged in as: \u001b[33mkbardool\u001b[0m. Use \u001b[1m`wandb login --relogin`\u001b[0m to force relogin\n"
     ]
    },
    {
     "data": {
      "text/html": [
       "Tracking run with wandb version 0.16.6"
      ],
      "text/plain": [
       "<IPython.core.display.HTML object>"
      ]
     },
     "metadata": {},
     "output_type": "display_data"
    },
    {
     "data": {
      "text/html": [
       "Run data is saved locally in <code>/home/kevin/WSL-shared/Cellpainting/pt-snnl/wandb/run-20240505_010128-xvjy3kr3</code>"
      ],
      "text/plain": [
       "<IPython.core.display.HTML object>"
      ]
     },
     "metadata": {},
     "output_type": "display_data"
    },
    {
     "data": {
      "text/html": [
       "Syncing run <strong><a href='https://wandb.ai/kbardool/CellPainting_Profiles/runs/xvjy3kr3' target=\"_blank\">0505_0101</a></strong> to <a href='https://wandb.ai/kbardool/CellPainting_Profiles' target=\"_blank\">Weights & Biases</a> (<a href='https://wandb.me/run' target=\"_blank\">docs</a>)<br/>"
      ],
      "text/plain": [
       "<IPython.core.display.HTML object>"
      ]
     },
     "metadata": {},
     "output_type": "display_data"
    },
    {
     "data": {
      "text/html": [
       " View project at <a href='https://wandb.ai/kbardool/CellPainting_Profiles' target=\"_blank\">https://wandb.ai/kbardool/CellPainting_Profiles</a>"
      ],
      "text/plain": [
       "<IPython.core.display.HTML object>"
      ]
     },
     "metadata": {},
     "output_type": "display_data"
    },
    {
     "data": {
      "text/html": [
       " View run at <a href='https://wandb.ai/kbardool/CellPainting_Profiles/runs/xvjy3kr3' target=\"_blank\">https://wandb.ai/kbardool/CellPainting_Profiles/runs/xvjy3kr3</a>"
      ],
      "text/plain": [
       "<IPython.core.display.HTML object>"
      ]
     },
     "metadata": {},
     "output_type": "display_data"
    },
    {
     "name": "stdout",
     "output_type": "stream",
     "text": [
      " WandB Initialization -----------------------------------------------------------\n",
      " PROJECT NAME: CellPainting_Profiles\n",
      " RUN ID      : xvjy3kr3 \n",
      " RUN NAME    : 0505_0101\n",
      " RUN NOTES   : brief description\n",
      " --------------------------------------------------------------------------------\n"
     ]
    }
   ],
   "source": [
    "wandb_run = init_wandb(args)"
   ]
  },
  {
   "cell_type": "code",
   "execution_count": 17,
   "id": "525a660c-21d5-408b-ae75-321f99c4758a",
   "metadata": {
    "execution": {
     "iopub.execute_input": "2024-05-04T23:01:33.297273Z",
     "iopub.status.busy": "2024-05-04T23:01:33.297015Z",
     "iopub.status.idle": "2024-05-04T23:01:33.334437Z",
     "shell.execute_reply": "2024-05-04T23:01:33.333820Z",
     "shell.execute_reply.started": "2024-05-04T23:01:33.297252Z"
    },
    "scrolled": true
   },
   "outputs": [
    {
     "name": "stdout",
     "output_type": "stream",
     "text": [
      "\n",
      "command line parms : \n",
      "-----------------------\n",
      "activations..............  ['relu', 'relu', 'none', 'sigmoid']\n",
      "batch_size...............  1\n",
      "\n",
      "    cellpainting_args   (dict)\n",
      "    ----------------------------\n",
      "    batch_size...............  1\n",
      "    chunksize................  None\n",
      "    compounds_per_batch......  100\n",
      "    conversions..............  None\n",
      "    iterator.................  True\n",
      "    sample_size..............  3\n",
      "    test_end.................  33600\n",
      "    test_start...............  30000\n",
      "    train_end................  240000\n",
      "    train_start..............  0\n",
      "    training_path............  /home/kevin/WSL-shared/Cellpainting/cj-datasets/output_11102023/3_sample_profiles/3sample_profiles_1482_HashOrder.csv\n",
      "    val_end..................  24000\n",
      "    val_start................  0\n",
      "    validation_path..........  /home/kevin/WSL-shared/Cellpainting/cj-datasets/output_11102023/3_sample_profiles/3sample_profiles_1482_HashOrder_test.csv\n",
      "\n",
      "compounds_per_batch......  100\n",
      "config...................  None\n",
      "configuration............  hyperparameters/dnn_cp_classifier_dropout.yaml\n",
      "cpu......................  None\n",
      "dataset..................  cellpainting\n",
      "exp_desc.................  DNN Training in Baseline mode\n",
      "exp_description..........  brief description\n",
      "exp_folder...............  None\n",
      "exp_id...................  None\n",
      "exp_name.................  0505_0101\n",
      "exp_name_pfx.............  None\n",
      "folder_sfx...............  None\n",
      "gpu_ids..................  None\n",
      "learning_rate............  0.0001\n",
      "loss_factor..............  2.0\n",
      "model....................  baseline\n",
      "\n",
      "    paths   (dict)\n",
      "    ----------------\n",
      "    checkpoint_dir...........  ./ckpt\n",
      "    log_dir..................  ./logs\n",
      "    result_dir...............  ./results\n",
      "\n",
      "project_name.............  CellPainting_Profiles\n",
      "random_seed..............  1234\n",
      "seed.....................  1234\n",
      "seed_list................  None\n",
      "snnl_factor..............  1.0\n",
      "temperature..............  50.0\n",
      "temperatureLR............  0.01\n",
      "units....................  [['Linear', 1471, 512], ['relu', 0, 0], ['Linear', 512, 128], ['relu', 0, 0], ['dropout', 128, 128], ['Linear', 128, 1], ['sigmoid', 0, 0]]\n",
      "\n"
     ]
    }
   ],
   "source": [
    "list_namespace(args)"
   ]
  },
  {
   "cell_type": "markdown",
   "id": "d59e7f37-316c-4cce-a0b3-06bba0c9bc27",
   "metadata": {},
   "source": [
    "## Define dataset and dataloaders"
   ]
  },
  {
   "cell_type": "code",
   "execution_count": 1,
   "id": "3256fa19-e440-4f24-8230-cb3b6bfd2a1f",
   "metadata": {
    "execution": {
     "iopub.execute_input": "2024-05-15T10:22:18.472479Z",
     "iopub.status.busy": "2024-05-15T10:22:18.471916Z",
     "iopub.status.idle": "2024-05-15T10:22:18.642940Z",
     "shell.execute_reply": "2024-05-15T10:22:18.641974Z",
     "shell.execute_reply.started": "2024-05-15T10:22:18.472435Z"
    }
   },
   "outputs": [
    {
     "ename": "NameError",
     "evalue": "name 'args' is not defined",
     "output_type": "error",
     "traceback": [
      "\u001b[0;31m---------------------------------------------------------------------------\u001b[0m",
      "\u001b[0;31mNameError\u001b[0m                                 Traceback (most recent call last)",
      "Cell \u001b[0;32mIn[1], line 2\u001b[0m\n\u001b[1;32m      1\u001b[0m \u001b[38;5;66;03m#### Load CellPainting Dataset\u001b[39;00m\n\u001b[0;32m----> 2\u001b[0m \u001b[38;5;28;01mif\u001b[39;00m \u001b[43margs\u001b[49m\u001b[38;5;241m.\u001b[39mdataset \u001b[38;5;241m==\u001b[39m \u001b[38;5;124m'\u001b[39m\u001b[38;5;124mcellpainting\u001b[39m\u001b[38;5;124m'\u001b[39m:\n\u001b[1;32m      3\u001b[0m     \u001b[38;5;28mprint\u001b[39m(\u001b[38;5;124mf\u001b[39m\u001b[38;5;124m\"\u001b[39m\u001b[38;5;124m load \u001b[39m\u001b[38;5;132;01m{\u001b[39;00margs\u001b[38;5;241m.\u001b[39mdataset\u001b[38;5;132;01m}\u001b[39;00m\u001b[38;5;124m\"\u001b[39m)\n\u001b[1;32m      4\u001b[0m     train_dataset \u001b[38;5;241m=\u001b[39m CellpaintingDataset(\u001b[38;5;28mtype\u001b[39m\u001b[38;5;241m=\u001b[39m\u001b[38;5;124m'\u001b[39m\u001b[38;5;124mtrain\u001b[39m\u001b[38;5;124m'\u001b[39m,    \u001b[38;5;241m*\u001b[39m\u001b[38;5;241m*\u001b[39margs\u001b[38;5;241m.\u001b[39mcellpainting_args)\n",
      "\u001b[0;31mNameError\u001b[0m: name 'args' is not defined"
     ]
    }
   ],
   "source": [
    "#### Load CellPainting Dataset\n",
    "if args.dataset == 'cellpainting':\n",
    "    print(f\" load {args.dataset}\")\n",
    "    train_dataset = CellpaintingDataset(type='train',    **args.cellpainting_args)\n",
    "    train_loader = InfiniteDataLoader(dataset=train_dataset, batch_size = args.batch_size, shuffle = False, num_workers = 0, collate_fn = custom_collate_fn)\n",
    "    val_dataset = CellpaintingDataset(type='val',    **args.cellpainting_args)\n",
    "    val_loader = InfiniteDataLoader(dataset=val_dataset, batch_size = args.batch_size, shuffle = False, num_workers = 0, collate_fn = custom_collate_fn)\n",
    "    # test_dataset = CellpaintingDataset(type='test', **args.cellpainting_args)\n",
    "    # test_dataloader  = InfiniteDataLoader(dataset = test_dataset , batch_size=args.batch_size, shuffle= False, num_workers = 0, collate_fn=custom_collate)\n",
    "\n",
    "# for idx, batch in enumerate(train_loader):\n",
    "#     print(f\"{idx:4d}, {batch[0].shape}, {batch[1].shape},{batch[2].shape},{batch[3].shape},{batch[4].shape}, {batch[3][:3]}, {batch[3][-3:]}\")\n",
    "#     display_cellpainting_batch(idx, batch)\n",
    "#     if idx >= 0:\n",
    "#         break"
   ]
  },
  {
   "cell_type": "markdown",
   "id": "607c48ed-c31d-4a58-bde2-36df402aa7b8",
   "metadata": {},
   "source": [
    "# define DNN model"
   ]
  },
  {
   "cell_type": "markdown",
   "id": "7ec0b52c-b45f-47da-a5a5-6559ab8da421",
   "metadata": {},
   "source": [
    "## Define Model"
   ]
  },
  {
   "cell_type": "code",
   "execution_count": 41,
   "id": "143921e5-1a57-4da6-bf1b-4a46dc5c9059",
   "metadata": {
    "execution": {
     "iopub.execute_input": "2024-05-04T23:36:56.465781Z",
     "iopub.status.busy": "2024-05-04T23:36:56.465286Z",
     "iopub.status.idle": "2024-05-04T23:36:56.750822Z",
     "shell.execute_reply": "2024-05-04T23:36:56.750034Z",
     "shell.execute_reply.started": "2024-05-04T23:36:56.465738Z"
    }
   },
   "outputs": [
    {
     "name": "stdout",
     "output_type": "stream",
     "text": [
      "   units             [['Linear', 1471, 512], ['relu', 0, 0], ['Linear', 512, 128], ['relu', 0, 0], ['dropout', 128, 128], ['Linear', 128, 1], ['sigmoid', 0, 0]]\n",
      "   loss_factor       2.0\n",
      "   snnl_factor       0.0\n",
      "   temperature       0.0\n",
      "   learning_rate     0.001\n",
      "   temperatureLR:    0.0\n"
     ]
    }
   ],
   "source": [
    "show_every = 1\n",
    "save_every = 25\n",
    "args.loss_factor   = 2.0\n",
    "args.learning_rate = 1.0e-03    ## 0.001\n",
    "args.temperature   = 0.0\n",
    "args.snnl_factor   = 0.0\n",
    "args.temperatureLR = 0.0e-00    ## 1e-4\n",
    "print(f\"   units             {args.units}\")\n",
    "print(f\"   loss_factor       {args.loss_factor}\")\n",
    "print(f\"   snnl_factor       {args.snnl_factor}\")\n",
    "print(f\"   temperature       {args.temperature}\")\n",
    "print(f\"   learning_rate     {args.learning_rate}\")\n",
    "print(f\"   temperatureLR:    {args.temperatureLR}\")"
   ]
  },
  {
   "cell_type": "code",
   "execution_count": 46,
   "id": "b8f7c51c-a2be-4ac8-836a-039ca78084d8",
   "metadata": {
    "execution": {
     "iopub.execute_input": "2024-05-04T23:37:59.048625Z",
     "iopub.status.busy": "2024-05-04T23:37:59.048070Z",
     "iopub.status.idle": "2024-05-04T23:37:59.457003Z",
     "shell.execute_reply": "2024-05-04T23:37:59.456275Z",
     "shell.execute_reply.started": "2024-05-04T23:37:59.048584Z"
    }
   },
   "outputs": [
    {
     "name": "stdout",
     "output_type": "stream",
     "text": [
      " baseline model\n",
      "\n",
      "------------------------------------------------------------\n",
      " Building Base Model from NOTEBOOK\n",
      "------------------------------------------------------------\n",
      "    Model_init()_    -- mode:              classifier\n",
      "    Model_init()_    -- unsupervised :     False\n",
      "    Model_init()_    -- Criterion:         BCELoss()\n",
      "    Model_init()_    -- use_snnl :         False\n",
      "    Model_init()_    -- temperature :      None\n",
      "    Model_init()_    -- temperature LR:    None\n",
      "\n",
      "------------------------------------------------------------\n",
      " Building DNN from NOTEBOOK\n",
      "------------------------------------------------------------\n",
      "    layer:    0  type:linear           input:   1471  output:    512  \n",
      "    layer:    1  type:relu             input:    512  output:    512  \n",
      "    layer:    2  type:linear           input:    512  output:    128  \n",
      "    layer:    3  type:relu             input:    128  output:    128  \n",
      "    layer:    4  type:dropout          input:    128  output:    128  \n",
      "    layer:    5  type:linear           input:    128  output:      1  \n",
      "    layer:    6  type:sigmoid          input:      1  output:      1  \n",
      "\n",
      "    DNN init() -- layer_types        : ['linear', 'relu', 'linear', 'relu', 'dropout', 'linear', 'sigmoid']\n",
      "    DNN init() -- layer_activations  : ['relu', 'relu', 'none', 'sigmoid']\n",
      "    DNN init() -- mode               : classifier\n",
      "    DNN init() -- unsupervised       : False\n",
      "    DNN init() -- Primary Crtierion  : BCELoss()\n",
      "    DNN init() -- monitor_grads_layer: None\n",
      "    DNN init() -- use_snnl           : False\n",
      "    DNN init() -- SNNL Crtierion     : None\n",
      "    DNN init() -- temperature        : 0\n",
      "    DNN init() -- temperature LR     : None\n"
     ]
    },
    {
     "name": "stderr",
     "output_type": "stream",
     "text": [
      "/home/kevin/miniforge3/envs/ptsnnl/lib/python3.11/site-packages/torch/optim/lr_scheduler.py:28: UserWarning: The verbose parameter is deprecated. Please use get_last_lr() to access the learning rate.\n",
      "  warnings.warn(\"The verbose parameter is deprecated. Please use get_last_lr() \"\n"
     ]
    },
    {
     "data": {
      "text/plain": [
       "device(type='cuda', index=0)"
      ]
     },
     "execution_count": 46,
     "metadata": {},
     "output_type": "execute_result"
    }
   ],
   "source": [
    "if args.model.lower() == \"baseline\":\n",
    "    print(f\" baseline model\")\n",
    "    model = DNN(\n",
    "            mode=\"classifier\",\n",
    "            units=args.units, \n",
    "            activations=args.activations,\n",
    "            learning_rate=args.learning_rate,\n",
    "            criterion=torch.nn.BCELoss(),\n",
    "            adam_weight_decay = 0,\n",
    "            use_snnl=False,\n",
    "            dropout_p = 0.4,\n",
    "            unsupervised = False,\n",
    "            sample_size = args.cellpainting_args['sample_size'], \n",
    "            use_scheduler = True\n",
    "           )\n",
    "elif args.model.lower() == \"snnl\":\n",
    "    print(f\" snnl model\")\n",
    "    model = DNN(\n",
    "            mode=\"classifier\",\n",
    "            units=args.units,\n",
    "            activations=args.activations,\n",
    "            criterion=torch.nn.BCELoss(),\n",
    "            loss_factor=args.loss_factor,\n",
    "            snnl_factor=args.snnl_factor,\n",
    "            temperature=args.temperature,\n",
    "            learning_rate= args.learning_rate,\n",
    "            temperatureLR= args.temperatureLR,\n",
    "            adam_weight_decay = 0,\n",
    "            SGD_weight_decay= 0,\n",
    "            use_annealing= False,\n",
    "            unsupervised = False,\n",
    "            sample_size = args.cellpainting_args['sample_size']\n",
    "           )\n",
    "else:\n",
    "    raise ValueError(\"Choose between [baseline] and [snnl] only.\")\n",
    "model.device"
   ]
  },
  {
   "cell_type": "code",
   "execution_count": 43,
   "id": "abba6ba4-3fe2-4af0-b847-0993b6ade261",
   "metadata": {
    "execution": {
     "iopub.execute_input": "2024-05-04T23:36:58.513810Z",
     "iopub.status.busy": "2024-05-04T23:36:58.513377Z",
     "iopub.status.idle": "2024-05-04T23:36:58.555655Z",
     "shell.execute_reply": "2024-05-04T23:36:58.554993Z",
     "shell.execute_reply.started": "2024-05-04T23:36:58.513767Z"
    }
   },
   "outputs": [
    {
     "name": "stderr",
     "output_type": "stream",
     "text": [
      "\u001b[34m\u001b[1mwandb\u001b[0m: logging graph, to disable use `wandb.watch(log_graph=False)`\n"
     ]
    }
   ],
   "source": [
    "wandb_watch(item = model, criterion=None, log = 'all', log_freq = 1000, log_graph = True)"
   ]
  },
  {
   "cell_type": "code",
   "execution_count": 35,
   "id": "4e00495e-1282-427d-9a09-9a068ae7001c",
   "metadata": {
    "execution": {
     "iopub.execute_input": "2024-05-04T23:19:42.626989Z",
     "iopub.status.busy": "2024-05-04T23:19:42.626410Z",
     "iopub.status.idle": "2024-05-04T23:19:42.666092Z",
     "shell.execute_reply": "2024-05-04T23:19:42.665470Z",
     "shell.execute_reply.started": "2024-05-04T23:19:42.626947Z"
    }
   },
   "outputs": [],
   "source": [
    "# display_model_summary(model)"
   ]
  },
  {
   "cell_type": "markdown",
   "id": "1cae6562-a768-4b1f-8792-f26d117e1b0d",
   "metadata": {},
   "source": [
    "## `model.fit(data_loader=train_loader, epochs=epochs)`"
   ]
  },
  {
   "cell_type": "code",
   "execution_count": 47,
   "id": "0d156075-9414-4c34-a7cb-12cae55f9d2b",
   "metadata": {
    "execution": {
     "iopub.execute_input": "2024-05-04T23:38:03.055034Z",
     "iopub.status.busy": "2024-05-04T23:38:03.054445Z",
     "iopub.status.idle": "2024-05-04T23:38:03.097540Z",
     "shell.execute_reply": "2024-05-04T23:38:03.096687Z",
     "shell.execute_reply.started": "2024-05-04T23:38:03.054990Z"
    }
   },
   "outputs": [
    {
     "data": {
      "text/plain": [
       "(0, 0, 1)"
      ]
     },
     "execution_count": 47,
     "metadata": {},
     "output_type": "execute_result"
    }
   ],
   "source": [
    "starting_epoch, epoch , epochs = 0,0,1\n",
    "starting_epoch, epoch , epochs"
   ]
  },
  {
   "cell_type": "code",
   "execution_count": 102,
   "id": "5d0b1a36-3997-403f-88b7-d19e7b84837d",
   "metadata": {
    "execution": {
     "iopub.execute_input": "2024-05-05T12:28:18.823272Z",
     "iopub.status.busy": "2024-05-05T12:28:18.822789Z",
     "iopub.status.idle": "2024-05-05T12:28:18.866947Z",
     "shell.execute_reply": "2024-05-05T12:28:18.866047Z",
     "shell.execute_reply.started": "2024-05-05T12:28:18.823230Z"
    }
   },
   "outputs": [
    {
     "name": "stdout",
     "output_type": "stream",
     "text": [
      "\n",
      " loss_factor         : 2.0\n",
      " snnl_factor         : 0.0\n",
      " Learning rate       : 0.001\n",
      " monitor_grads_layer : None\n",
      "\n",
      " run epochs 101 to 125 \n"
     ]
    }
   ],
   "source": [
    "# print(f\" loss_factor         : {model.loss_factor}\")\n",
    "# print(f\" snnl_factor         : {model.snnl_factor}\")\n",
    "# print(f\" model.monitor_grads_layer: {model.monitor_grads_layer}\")\n",
    "# print(f\" model.temperature : {model.temperature}\")\n",
    "# print(f\" Learning rate     : {model.optimizer.param_groups[0]['lr']}\") \n",
    "# print(f\" Temperature LR    : {model.temperatureLR}\") \n",
    "# model.temperature = 40.0\n",
    "# model.loss_factor = 2.0\n",
    "# model.snnl_factor = 0.0\n",
    "# model.temp_optimizer.param_groups[0]['lr'] = 0.005\n",
    "model.optimizer.param_groups[0]['lr'] = 0.001\n",
    "# model.monitor_grads_layer = -2\n",
    "print()\n",
    "print(f\" loss_factor         : {model.loss_factor}\")\n",
    "print(f\" snnl_factor         : {model.snnl_factor}\")\n",
    "print(f\" Learning rate       : {model.optimizer.param_groups[0]['lr']}\") \n",
    "if model.use_snnl:\n",
    "    print(f\" temperature         : {model.temperature}\")\n",
    "    print(f\" Temperature LR      : {model.temp_optimizer.param_groups[0]['lr']}\") \n",
    "print(f\" monitor_grads_layer : {model.monitor_grads_layer}\")\n",
    "print()\n",
    "print(f\" run epochs {starting_epoch+1} to {epochs} \")"
   ]
  },
  {
   "cell_type": "code",
   "execution_count": null,
   "id": "7663755f-0943-4ff9-8175-4921580130dd",
   "metadata": {
    "editable": true,
    "execution": {
     "iopub.execute_input": "2024-05-05T20:32:57.742891Z",
     "iopub.status.busy": "2024-05-05T20:32:57.742380Z"
    },
    "slideshow": {
     "slide_type": ""
    },
    "tags": []
   },
   "outputs": [
    {
     "name": "stdout",
     "output_type": "stream",
     "text": [
      "20240505_223257  epoch  152 of  200\n",
      "dict_keys(['val_time', 'val_ttl_loss', 'val_prim_loss', 'val_snn_loss', 'val_accuracy', 'val_f1', 'val_precision', 'val_recall', 'val_roc_auc'])\n",
      "                     |  Trn_loss     PrimLoss      SNNL   |    temp         grad     |   ACC       F1     ROCAuc |   Vld_loss    PrimLoss      SNNL   |    ACC      F1     ROCAuc |\n",
      "---------------------+------------------------------------+--------------+-----------+---------------------------+------------------------------------+---------------------------|\n",
      "22:35:01 ep 152 /152 |   0.133593    0.133593    0.000000 |   0.000000    0.0000e+00 |  0.9739   0.8904   0.9934 |   5.266624    5.266624    0.000000 |  0.8322   0.1353   0.5721 |\n",
      "dict_keys(['val_time', 'val_ttl_loss', 'val_prim_loss', 'val_snn_loss', 'val_accuracy', 'val_f1', 'val_precision', 'val_recall', 'val_roc_auc'])\n",
      " Optimizer learning rate reduced to [0.00042187500000000005]\n",
      "dict_keys(['val_time', 'val_ttl_loss', 'val_prim_loss', 'val_snn_loss', 'val_accuracy', 'val_f1', 'val_precision', 'val_recall', 'val_roc_auc'])\n",
      "22:37:05 ep 153 /153 |   0.128829    0.128829    0.000000 |   0.000000    0.0000e+00 |  0.9753   0.8955   0.9937 |   5.469435    5.469435    0.000000 |  0.8410   0.1154   0.5688 |\n",
      "dict_keys(['val_time', 'val_ttl_loss', 'val_prim_loss', 'val_snn_loss', 'val_accuracy', 'val_f1', 'val_precision', 'val_recall', 'val_roc_auc'])\n",
      "dict_keys(['val_time', 'val_ttl_loss', 'val_prim_loss', 'val_snn_loss', 'val_accuracy', 'val_f1', 'val_precision', 'val_recall', 'val_roc_auc'])\n",
      "22:39:09 ep 154 /154 |   0.113090    0.113090    0.000000 |   0.000000    0.0000e+00 |  0.9786   0.9090   0.9951 |   5.515379    5.515379    0.000000 |  0.8393   0.1243   0.5724 |\n",
      "dict_keys(['val_time', 'val_ttl_loss', 'val_prim_loss', 'val_snn_loss', 'val_accuracy', 'val_f1', 'val_precision', 'val_recall', 'val_roc_auc'])\n",
      "dict_keys(['val_time', 'val_ttl_loss', 'val_prim_loss', 'val_snn_loss', 'val_accuracy', 'val_f1', 'val_precision', 'val_recall', 'val_roc_auc'])\n",
      "22:41:13 ep 155 /155 |   0.106807    0.106807    0.000000 |   0.000000    0.0000e+00 |  0.9800   0.9151   0.9956 |   5.760494    5.760494    0.000000 |  0.8403   0.1209   0.5725 |\n",
      "dict_keys(['val_time', 'val_ttl_loss', 'val_prim_loss', 'val_snn_loss', 'val_accuracy', 'val_f1', 'val_precision', 'val_recall', 'val_roc_auc'])\n",
      "dict_keys(['val_time', 'val_ttl_loss', 'val_prim_loss', 'val_snn_loss', 'val_accuracy', 'val_f1', 'val_precision', 'val_recall', 'val_roc_auc'])\n",
      "22:43:17 ep 156 /156 |   0.107144    0.107144    0.000000 |   0.000000    0.0000e+00 |  0.9799   0.9146   0.9955 |   5.595817    5.595817    0.000000 |  0.8368   0.1258   0.5734 |\n",
      "dict_keys(['val_time', 'val_ttl_loss', 'val_prim_loss', 'val_snn_loss', 'val_accuracy', 'val_f1', 'val_precision', 'val_recall', 'val_roc_auc'])\n",
      "dict_keys(['val_time', 'val_ttl_loss', 'val_prim_loss', 'val_snn_loss', 'val_accuracy', 'val_f1', 'val_precision', 'val_recall', 'val_roc_auc'])\n",
      "22:45:20 ep 157 /157 |   0.102372    0.102372    0.000000 |   0.000000    0.0000e+00 |  0.9808   0.9182   0.9959 |   5.930335    5.930335    0.000000 |  0.8371   0.1177   0.5701 |\n",
      "dict_keys(['val_time', 'val_ttl_loss', 'val_prim_loss', 'val_snn_loss', 'val_accuracy', 'val_f1', 'val_precision', 'val_recall', 'val_roc_auc'])\n",
      "dict_keys(['val_time', 'val_ttl_loss', 'val_prim_loss', 'val_snn_loss', 'val_accuracy', 'val_f1', 'val_precision', 'val_recall', 'val_roc_auc'])\n",
      "22:47:25 ep 158 /158 |   0.107288    0.107288    0.000000 |   0.000000    0.0000e+00 |  0.9800   0.9153   0.9955 |   5.715109    5.715109    0.000000 |  0.8372   0.1327   0.5719 |\n",
      "dict_keys(['val_time', 'val_ttl_loss', 'val_prim_loss', 'val_snn_loss', 'val_accuracy', 'val_f1', 'val_precision', 'val_recall', 'val_roc_auc'])\n",
      "dict_keys(['val_time', 'val_ttl_loss', 'val_prim_loss', 'val_snn_loss', 'val_accuracy', 'val_f1', 'val_precision', 'val_recall', 'val_roc_auc'])\n",
      "22:49:29 ep 159 /159 |   0.103661    0.103661    0.000000 |   0.000000    0.0000e+00 |  0.9807   0.9181   0.9958 |   6.022856    6.022856    0.000000 |  0.8396   0.1198   0.5705 |\n",
      "dict_keys(['val_time', 'val_ttl_loss', 'val_prim_loss', 'val_snn_loss', 'val_accuracy', 'val_f1', 'val_precision', 'val_recall', 'val_roc_auc'])\n",
      "dict_keys(['val_time', 'val_ttl_loss', 'val_prim_loss', 'val_snn_loss', 'val_accuracy', 'val_f1', 'val_precision', 'val_recall', 'val_roc_auc'])\n",
      "22:51:35 ep 160 /160 |   0.106877    0.106877    0.000000 |   0.000000    0.0000e+00 |  0.9802   0.9159   0.9956 |   6.129153    6.129153    0.000000 |  0.8393   0.1160   0.5744 |\n",
      "dict_keys(['val_time', 'val_ttl_loss', 'val_prim_loss', 'val_snn_loss', 'val_accuracy', 'val_f1', 'val_precision', 'val_recall', 'val_roc_auc'])\n",
      "dict_keys(['val_time', 'val_ttl_loss', 'val_prim_loss', 'val_snn_loss', 'val_accuracy', 'val_f1', 'val_precision', 'val_recall', 'val_roc_auc'])\n",
      "22:53:41 ep 161 /161 |   0.100375    0.100375    0.000000 |   0.000000    0.0000e+00 |  0.9814   0.9209   0.9960 |   6.229123    6.229123    0.000000 |  0.8355   0.1300   0.5742 |\n",
      "dict_keys(['val_time', 'val_ttl_loss', 'val_prim_loss', 'val_snn_loss', 'val_accuracy', 'val_f1', 'val_precision', 'val_recall', 'val_roc_auc'])\n",
      "dict_keys(['val_time', 'val_ttl_loss', 'val_prim_loss', 'val_snn_loss', 'val_accuracy', 'val_f1', 'val_precision', 'val_recall', 'val_roc_auc'])\n",
      "22:55:45 ep 162 /162 |   0.099053    0.099053    0.000000 |   0.000000    0.0000e+00 |  0.9816   0.9220   0.9962 |   6.235200    6.235200    0.000000 |  0.8405   0.1218   0.5761 |\n",
      "dict_keys(['val_time', 'val_ttl_loss', 'val_prim_loss', 'val_snn_loss', 'val_accuracy', 'val_f1', 'val_precision', 'val_recall', 'val_roc_auc'])\n",
      "dict_keys(['val_time', 'val_ttl_loss', 'val_prim_loss', 'val_snn_loss', 'val_accuracy', 'val_f1', 'val_precision', 'val_recall', 'val_roc_auc'])\n",
      "22:57:50 ep 163 /163 |   0.100815    0.100815    0.000000 |   0.000000    0.0000e+00 |  0.9812   0.9199   0.9960 |   6.078363    6.078363    0.000000 |  0.8327   0.1188   0.5724 |\n",
      "dict_keys(['val_time', 'val_ttl_loss', 'val_prim_loss', 'val_snn_loss', 'val_accuracy', 'val_f1', 'val_precision', 'val_recall', 'val_roc_auc'])\n",
      "dict_keys(['val_time', 'val_ttl_loss', 'val_prim_loss', 'val_snn_loss', 'val_accuracy', 'val_f1', 'val_precision', 'val_recall', 'val_roc_auc'])\n",
      "22:59:56 ep 164 /164 |   0.098512    0.098512    0.000000 |   0.000000    0.0000e+00 |  0.9821   0.9237   0.9962 |   6.481508    6.481508    0.000000 |  0.8409   0.1214   0.5732 |\n",
      "dict_keys(['val_time', 'val_ttl_loss', 'val_prim_loss', 'val_snn_loss', 'val_accuracy', 'val_f1', 'val_precision', 'val_recall', 'val_roc_auc'])\n",
      "dict_keys(['val_time', 'val_ttl_loss', 'val_prim_loss', 'val_snn_loss', 'val_accuracy', 'val_f1', 'val_precision', 'val_recall', 'val_roc_auc'])\n",
      "23:02:00 ep 165 /165 |   0.102093    0.102093    0.000000 |   0.000000    0.0000e+00 |  0.9808   0.9182   0.9959 |   6.385375    6.385375    0.000000 |  0.8412   0.1213   0.5735 |\n",
      "dict_keys(['val_time', 'val_ttl_loss', 'val_prim_loss', 'val_snn_loss', 'val_accuracy', 'val_f1', 'val_precision', 'val_recall', 'val_roc_auc'])\n",
      "dict_keys(['val_time', 'val_ttl_loss', 'val_prim_loss', 'val_snn_loss', 'val_accuracy', 'val_f1', 'val_precision', 'val_recall', 'val_roc_auc'])\n",
      "23:04:05 ep 166 /166 |   0.100286    0.100286    0.000000 |   0.000000    0.0000e+00 |  0.9815   0.9213   0.9961 |   6.563251    6.563251    0.000000 |  0.8409   0.1174   0.5761 |\n",
      "dict_keys(['val_time', 'val_ttl_loss', 'val_prim_loss', 'val_snn_loss', 'val_accuracy', 'val_f1', 'val_precision', 'val_recall', 'val_roc_auc'])\n",
      "dict_keys(['val_time', 'val_ttl_loss', 'val_prim_loss', 'val_snn_loss', 'val_accuracy', 'val_f1', 'val_precision', 'val_recall', 'val_roc_auc'])\n",
      "23:06:10 ep 167 /167 |   0.096548    0.096548    0.000000 |   0.000000    0.0000e+00 |  0.9826   0.9257   0.9963 |   6.079608    6.079608    0.000000 |  0.8349   0.1281   0.5750 |\n",
      "dict_keys(['val_time', 'val_ttl_loss', 'val_prim_loss', 'val_snn_loss', 'val_accuracy', 'val_f1', 'val_precision', 'val_recall', 'val_roc_auc'])\n",
      "dict_keys(['val_time', 'val_ttl_loss', 'val_prim_loss', 'val_snn_loss', 'val_accuracy', 'val_f1', 'val_precision', 'val_recall', 'val_roc_auc'])\n",
      "23:08:14 ep 168 /168 |   0.103015    0.103015    0.000000 |   0.000000    0.0000e+00 |  0.9809   0.9188   0.9959 |   6.345086    6.345086    0.000000 |  0.8419   0.1146   0.5756 |\n",
      "dict_keys(['val_time', 'val_ttl_loss', 'val_prim_loss', 'val_snn_loss', 'val_accuracy', 'val_f1', 'val_precision', 'val_recall', 'val_roc_auc'])\n",
      "dict_keys(['val_time', 'val_ttl_loss', 'val_prim_loss', 'val_snn_loss', 'val_accuracy', 'val_f1', 'val_precision', 'val_recall', 'val_roc_auc'])\n",
      "23:10:20 ep 169 /169 |   0.093671    0.093671    0.000000 |   0.000000    0.0000e+00 |  0.9827   0.9264   0.9965 |   6.375392    6.375392    0.000000 |  0.8370   0.1229   0.5727 |\n",
      "dict_keys(['val_time', 'val_ttl_loss', 'val_prim_loss', 'val_snn_loss', 'val_accuracy', 'val_f1', 'val_precision', 'val_recall', 'val_roc_auc'])\n",
      "dict_keys(['val_time', 'val_ttl_loss', 'val_prim_loss', 'val_snn_loss', 'val_accuracy', 'val_f1', 'val_precision', 'val_recall', 'val_roc_auc'])\n",
      "23:12:25 ep 170 /170 |   0.096548    0.096548    0.000000 |   0.000000    0.0000e+00 |  0.9826   0.9260   0.9963 |   6.395851    6.395851    0.000000 |  0.8370   0.1276   0.5748 |\n",
      "dict_keys(['val_time', 'val_ttl_loss', 'val_prim_loss', 'val_snn_loss', 'val_accuracy', 'val_f1', 'val_precision', 'val_recall', 'val_roc_auc'])\n",
      "dict_keys(['val_time', 'val_ttl_loss', 'val_prim_loss', 'val_snn_loss', 'val_accuracy', 'val_f1', 'val_precision', 'val_recall', 'val_roc_auc'])\n",
      "23:14:29 ep 171 /171 |   0.091741    0.091741    0.000000 |   0.000000    0.0000e+00 |  0.9832   0.9279   0.9966 |   6.552952    6.552952    0.000000 |  0.8377   0.1233   0.5741 |\n",
      "dict_keys(['val_time', 'val_ttl_loss', 'val_prim_loss', 'val_snn_loss', 'val_accuracy', 'val_f1', 'val_precision', 'val_recall', 'val_roc_auc'])\n",
      "dict_keys(['val_time', 'val_ttl_loss', 'val_prim_loss', 'val_snn_loss', 'val_accuracy', 'val_f1', 'val_precision', 'val_recall', 'val_roc_auc'])\n",
      "23:16:34 ep 172 /172 |   0.097600    0.097600    0.000000 |   0.000000    0.0000e+00 |  0.9819   0.9227   0.9962 |   6.182136    6.182136    0.000000 |  0.8326   0.1312   0.5713 |\n",
      "dict_keys(['val_time', 'val_ttl_loss', 'val_prim_loss', 'val_snn_loss', 'val_accuracy', 'val_f1', 'val_precision', 'val_recall', 'val_roc_auc'])\n",
      "dict_keys(['val_time', 'val_ttl_loss', 'val_prim_loss', 'val_snn_loss', 'val_accuracy', 'val_f1', 'val_precision', 'val_recall', 'val_roc_auc'])\n",
      "23:18:39 ep 173 /173 |   0.094795    0.094795    0.000000 |   0.000000    0.0000e+00 |  0.9826   0.9260   0.9965 |   6.271515    6.271515    0.000000 |  0.8341   0.1358   0.5720 |\n",
      "dict_keys(['val_time', 'val_ttl_loss', 'val_prim_loss', 'val_snn_loss', 'val_accuracy', 'val_f1', 'val_precision', 'val_recall', 'val_roc_auc'])\n",
      "dict_keys(['val_time', 'val_ttl_loss', 'val_prim_loss', 'val_snn_loss', 'val_accuracy', 'val_f1', 'val_precision', 'val_recall', 'val_roc_auc'])\n",
      "23:20:44 ep 174 /174 |   0.093431    0.093431    0.000000 |   0.000000    0.0000e+00 |  0.9829   0.9266   0.9966 |   6.477797    6.477797    0.000000 |  0.8382   0.1299   0.5711 |\n",
      "dict_keys(['val_time', 'val_ttl_loss', 'val_prim_loss', 'val_snn_loss', 'val_accuracy', 'val_f1', 'val_precision', 'val_recall', 'val_roc_auc'])\n",
      "dict_keys(['val_time', 'val_ttl_loss', 'val_prim_loss', 'val_snn_loss', 'val_accuracy', 'val_f1', 'val_precision', 'val_recall', 'val_roc_auc'])\n",
      "23:22:48 ep 175 /175 |   0.095439    0.095439    0.000000 |   0.000000    0.0000e+00 |  0.9828   0.9272   0.9965 |   6.521756    6.521756    0.000000 |  0.8396   0.1220   0.5718 |\n",
      "dict_keys(['val_time', 'val_ttl_loss', 'val_prim_loss', 'val_snn_loss', 'val_accuracy', 'val_f1', 'val_precision', 'val_recall', 'val_roc_auc'])\n",
      "[INFO] Model Results exported to results/DNN_baseline_20240505_dropout04_175_cpb_100_factor_0.json.\n",
      "[INFO] Model exported to ckpts/DNN_baseline_20240505_dropout04_175_cpb_100_factor_0.pt.\n",
      "dict_keys(['val_time', 'val_ttl_loss', 'val_prim_loss', 'val_snn_loss', 'val_accuracy', 'val_f1', 'val_precision', 'val_recall', 'val_roc_auc'])\n",
      "23:24:53 ep 176 /176 |   0.091916    0.091916    0.000000 |   0.000000    0.0000e+00 |  0.9831   0.9280   0.9966 |   6.500115    6.500115    0.000000 |  0.8370   0.1243   0.5738 |\n",
      "dict_keys(['val_time', 'val_ttl_loss', 'val_prim_loss', 'val_snn_loss', 'val_accuracy', 'val_f1', 'val_precision', 'val_recall', 'val_roc_auc'])\n",
      "dict_keys(['val_time', 'val_ttl_loss', 'val_prim_loss', 'val_snn_loss', 'val_accuracy', 'val_f1', 'val_precision', 'val_recall', 'val_roc_auc'])\n",
      "23:26:58 ep 177 /177 |   0.090909    0.090909    0.000000 |   0.000000    0.0000e+00 |  0.9837   0.9301   0.9967 |   6.331712    6.331712    0.000000 |  0.8279   0.1336   0.5741 |\n",
      "dict_keys(['val_time', 'val_ttl_loss', 'val_prim_loss', 'val_snn_loss', 'val_accuracy', 'val_f1', 'val_precision', 'val_recall', 'val_roc_auc'])\n",
      "dict_keys(['val_time', 'val_ttl_loss', 'val_prim_loss', 'val_snn_loss', 'val_accuracy', 'val_f1', 'val_precision', 'val_recall', 'val_roc_auc'])\n",
      "23:29:03 ep 178 /178 |   0.089382    0.089382    0.000000 |   0.000000    0.0000e+00 |  0.9838   0.9309   0.9968 |   6.651262    6.651262    0.000000 |  0.8323   0.1320   0.5733 |\n",
      "dict_keys(['val_time', 'val_ttl_loss', 'val_prim_loss', 'val_snn_loss', 'val_accuracy', 'val_f1', 'val_precision', 'val_recall', 'val_roc_auc'])\n",
      " Optimizer learning rate reduced to [0.00031640625000000006]\n",
      "dict_keys(['val_time', 'val_ttl_loss', 'val_prim_loss', 'val_snn_loss', 'val_accuracy', 'val_f1', 'val_precision', 'val_recall', 'val_roc_auc'])\n",
      "23:31:08 ep 179 /179 |   0.092318    0.092318    0.000000 |   0.000000    0.0000e+00 |  0.9835   0.9301   0.9967 |   6.471177    6.471177    0.000000 |  0.8404   0.1249   0.5722 |\n",
      "dict_keys(['val_time', 'val_ttl_loss', 'val_prim_loss', 'val_snn_loss', 'val_accuracy', 'val_f1', 'val_precision', 'val_recall', 'val_roc_auc'])\n",
      "dict_keys(['val_time', 'val_ttl_loss', 'val_prim_loss', 'val_snn_loss', 'val_accuracy', 'val_f1', 'val_precision', 'val_recall', 'val_roc_auc'])\n",
      "23:33:12 ep 180 /180 |   0.082513    0.082513    0.000000 |   0.000000    0.0000e+00 |  0.9855   0.9376   0.9972 |   6.902764    6.902764    0.000000 |  0.8384   0.1245   0.5736 |\n",
      "dict_keys(['val_time', 'val_ttl_loss', 'val_prim_loss', 'val_snn_loss', 'val_accuracy', 'val_f1', 'val_precision', 'val_recall', 'val_roc_auc'])\n"
     ]
    }
   ],
   "source": [
    "print(f\"{datetime.now().strftime('%Y%m%d_%H%M%S')}  epoch {starting_epoch+1:4d} of {epochs:4d}\")\n",
    "header = True\n",
    "\n",
    "for epoch in range(starting_epoch,epochs):\n",
    "    \n",
    "    train_loss   = model.epoch_train( train_loader, epoch, verbose = False)\n",
    "    val_loss =  model.epoch_validate( val_loader, epoch, verbose = False)\n",
    "    \n",
    "    if model.use_scheduler:\n",
    "        model.scheduler.step(val_loss.ttl_loss)\n",
    "        if  model.training_history['trn']['trn_lr'][-1] != model.scheduler._last_lr[-1]:\n",
    "            print(f\" Optimizer learning rate reduced to {model.scheduler._last_lr}\")\n",
    "    print( model.training_history['val'].keys())\n",
    "    display_epoch_metrics(model, epoch, epochs, header)\n",
    "    print( model.training_history['val'].keys())\n",
    "    header = False\n",
    "    epoch_metrics = {x:y[-1] for x,y in model.training_history['val'].items()} | \\\n",
    "                  {x:y[-1] for x,y in model.training_history['trn'].items()} \n",
    "    wandb_log_metrics( data = epoch_metrics, step = epoch)\n",
    "    \n",
    "    if (epoch + 1) % save_every == 0:\n",
    "        title = 'dropout04'\n",
    "        timestamp = datetime.now().strftime('%Y%m%d')\n",
    "        filename = f\"{model.name}_{args.model.lower()}_{timestamp}_{title}_{epoch+1:03d}_cpb_{args.compounds_per_batch}_factor_{int(model.snnl_factor):d}\"\n",
    "        export_results(model=model, filename=filename)\n",
    "        save_checkpoint(epochs, model, filename, update_latest=False, update_best=False)    "
   ]
  },
  {
   "cell_type": "code",
   "execution_count": 143,
   "id": "ab601ebc-f7e2-4ac2-a926-df2780c484f0",
   "metadata": {
    "execution": {
     "iopub.execute_input": "2024-05-05T20:32:01.520895Z",
     "iopub.status.busy": "2024-05-05T20:32:01.520441Z",
     "iopub.status.idle": "2024-05-05T20:32:01.575190Z",
     "shell.execute_reply": "2024-05-05T20:32:01.574559Z",
     "shell.execute_reply.started": "2024-05-05T20:32:01.520853Z"
    }
   },
   "outputs": [
    {
     "name": "stdout",
     "output_type": "stream",
     "text": [
      "trn_time 151\n",
      "trn_ttl_loss 151\n",
      "trn_prim_loss 151\n",
      "trn_snn_loss 151\n",
      "trn_accuracy 151\n",
      "trn_f1 151\n",
      "trn_precision 151\n",
      "trn_recall 151\n",
      "trn_roc_auc 151\n",
      "trn_lr 151\n",
      "temp_hist 0\n"
     ]
    },
    {
     "data": {
      "text/plain": [
       "['temp_hist']"
      ]
     },
     "execution_count": 143,
     "metadata": {},
     "output_type": "execute_result"
    },
    {
     "name": "stdout",
     "output_type": "stream",
     "text": [
      "-----------------------\n",
      "val_time 151\n",
      "val_ttl_loss 151\n",
      "val_prim_loss 151\n",
      "val_snn_loss 151\n",
      "val_accuracy 151\n",
      "val_f1 151\n",
      "val_precision 151\n",
      "val_recall 151\n",
      "val_roc_auc 151\n",
      "temp_hist 0\n"
     ]
    },
    {
     "data": {
      "text/plain": [
       "['temp_hist']"
      ]
     },
     "execution_count": 143,
     "metadata": {},
     "output_type": "execute_result"
    },
    {
     "name": "stdout",
     "output_type": "stream",
     "text": [
      "-----------------------\n"
     ]
    }
   ],
   "source": [
    "# model.scheduler._last_lr[-1]\n",
    "# model.scheduler.__dict__\n",
    "# for key in ['trn', 'val']:\n",
    "#     del_keys = []\n",
    "#     for k,v in model.training_history[key].items():\n",
    "#         print(k, len(v))\n",
    "#         if len(v) == 0 :\n",
    "#             del_keys.append(k)\n",
    "#     del_keys\n",
    "#     for k in del_keys:    \n",
    "#         del  model.training_history[key][k]\n",
    "#     print('-----------------------')\n",
    "\n",
    "\n",
    "# epoch_metrics = {x:y[-1] for x,y in model.training_history['val'].items()} | {x:y[-1] for x,y in model.training_history['trn'].items()} \n",
    "# wandb_log_metrics( data = epoch_metrics, step = epoch)\n",
    "\n",
    "# if (epoch + 1) % save_every == 0:\n",
    "#     title = 'dropout04'\n",
    "#     timestamp = datetime.now().strftime('%Y%m%d')\n",
    "#     filename = f\"{model.name}_{args.model.lower()}_{timestamp}_{title}_{epoch+1:03d}_cpb_{args.compounds_per_batch}_factor_{int(model.snnl_factor):d}\"\n",
    "#     export_results(model=model, filename=filename)\n",
    "#     save_checkpoint(epochs, model, filename, update_latest=False, update_best=False)    \n",
    "# model.optimizer.param_groups[0]['lr']\n",
    "# model.scheduler._last_lr"
   ]
  },
  {
   "cell_type": "code",
   "execution_count": 148,
   "id": "a776ea63-d9a6-4450-8141-d0b1a637f008",
   "metadata": {
    "execution": {
     "iopub.execute_input": "2024-05-05T22:20:14.302659Z",
     "iopub.status.busy": "2024-05-05T22:20:14.302189Z",
     "iopub.status.idle": "2024-05-05T22:20:14.655159Z",
     "shell.execute_reply": "2024-05-05T22:20:14.654321Z",
     "shell.execute_reply.started": "2024-05-05T22:20:14.302614Z"
    }
   },
   "outputs": [
    {
     "data": {
      "text/plain": [
       "(151, 199, 200)"
      ]
     },
     "execution_count": 148,
     "metadata": {},
     "output_type": "execute_result"
    }
   ],
   "source": [
    "starting_epoch, epoch, epochs"
   ]
  },
  {
   "cell_type": "code",
   "execution_count": 146,
   "id": "55b50be1-048b-4b10-8532-ee467891c006",
   "metadata": {
    "execution": {
     "iopub.execute_input": "2024-05-05T20:32:39.381915Z",
     "iopub.status.busy": "2024-05-05T20:32:39.381447Z",
     "iopub.status.idle": "2024-05-05T20:32:39.423884Z",
     "shell.execute_reply": "2024-05-05T20:32:39.423160Z",
     "shell.execute_reply.started": "2024-05-05T20:32:39.381874Z"
    }
   },
   "outputs": [
    {
     "name": "stdout",
     "output_type": "stream",
     "text": [
      " run epochs 152 to 200 \n"
     ]
    }
   ],
   "source": [
    "starting_epoch = 151\n",
    "# epochs = 127\n",
    "# starting_epoch, epoch , epochs = 2, 0,5\n",
    "# starting_epoch = epochs\n",
    "# epochs += 50\n",
    "print(f\" run epochs {starting_epoch+1} to {epochs} \")"
   ]
  },
  {
   "cell_type": "code",
   "execution_count": 152,
   "id": "e125c057-c0d8-435a-bcac-d3d8b831e79b",
   "metadata": {
    "execution": {
     "iopub.execute_input": "2024-05-05T22:20:47.572921Z",
     "iopub.status.busy": "2024-05-05T22:20:47.572462Z",
     "iopub.status.idle": "2024-05-05T22:20:47.643057Z",
     "shell.execute_reply": "2024-05-05T22:20:47.642293Z",
     "shell.execute_reply.started": "2024-05-05T22:20:47.572880Z"
    }
   },
   "outputs": [
    {
     "name": "stdout",
     "output_type": "stream",
     "text": [
      "                     |  Trn_loss     PrimLoss      SNNL   |    temp         grad     |   ACC       F1     ROCAuc |   Vld_loss    PrimLoss      SNNL   |    ACC      F1     ROCAuc |\n",
      "---------------------+------------------------------------+--------------+-----------+---------------------------+------------------------------------+---------------------------|\n",
      "01:40:05 ep   1 /200 |   0.781281    0.781281    0.000000 |   0.000000    0.0000e+00 |  0.8786   0.0060   0.5570 |   0.751044    0.751044    0.000000 |  0.8815   0.0000   0.5784 |\n",
      "01:47:52 ep   2 /200 |   0.738276    0.738276    0.000000 |   0.000000    0.0000e+00 |  0.8799   0.0032   0.5930 |   0.734301    0.734301    0.000000 |  0.8818   0.0069   0.5887 |\n",
      "02:02:40 ep   3 /200 |   0.727079    0.727079    0.000000 |   0.000000    0.0000e+00 |  0.8799   0.0036   0.6109 |   0.732180    0.732180    0.000000 |  0.8816   0.0015   0.5946 |\n",
      "02:04:41 ep   4 /200 |   0.720583    0.720583    0.000000 |   0.000000    0.0000e+00 |  0.8800   0.0038   0.6228 |   0.730963    0.730963    0.000000 |  0.8815   0.0011   0.5962 |\n",
      "02:06:43 ep   5 /200 |   0.714382    0.714382    0.000000 |   0.000000    0.0000e+00 |  0.8801   0.0047   0.6340 |   0.721285    0.721285    0.000000 |  0.8818   0.0067   0.5997 |\n",
      "02:13:09 ep   6 /200 |   0.709795    0.709795    0.000000 |   0.000000    0.0000e+00 |  0.8800   0.0046   0.6457 |   0.724243    0.724243    0.000000 |  0.8815   0.0005   0.5986 |\n",
      "02:15:11 ep   7 /200 |   0.706053    0.706053    0.000000 |   0.000000    0.0000e+00 |  0.8800   0.0057   0.6540 |   0.720879    0.720879    0.000000 |  0.8817   0.0045   0.5999 |\n",
      "02:17:14 ep   8 /200 |   0.701688    0.701688    0.000000 |   0.000000    0.0000e+00 |  0.8801   0.0067   0.6623 |   0.722891    0.722891    0.000000 |  0.8817   0.0041   0.5995 |\n",
      "02:19:17 ep   9 /200 |   0.696888    0.696888    0.000000 |   0.000000    0.0000e+00 |  0.8800   0.0085   0.6729 |   0.724504    0.724504    0.000000 |  0.8815   0.0008   0.6008 |\n",
      "02:21:19 ep  10 /200 |   0.693044    0.693044    0.000000 |   0.000000    0.0000e+00 |  0.8800   0.0119   0.6816 |   0.729696    0.729696    0.000000 |  0.8813   0.0000   0.5982 |\n",
      "02:33:38 ep  11 /200 |   0.686957    0.686957    0.000000 |   0.000000    0.0000e+00 |  0.8802   0.0163   0.6905 |   0.729328    0.729328    0.000000 |  0.8812   0.0088   0.5985 |\n",
      "02:35:41 ep  12 /200 |   0.679903    0.679903    0.000000 |   0.000000    0.0000e+00 |  0.8803   0.0211   0.7028 |   0.739865    0.739865    0.000000 |  0.8814   0.0031   0.5905 |\n",
      "02:37:45 ep  13 /200 |   0.672760    0.672760    0.000000 |   0.000000    0.0000e+00 |  0.8805   0.0264   0.7132 |   0.750675    0.750675    0.000000 |  0.8811   0.0035   0.5970 |\n",
      "02:39:48 ep  14 /200 |   0.664807    0.664807    0.000000 |   0.000000    0.0000e+00 |  0.8808   0.0344   0.7240 |   0.754029    0.754029    0.000000 |  0.8809   0.0072   0.5943 |\n",
      "02:41:52 ep  15 /200 |   0.655344    0.655344    0.000000 |   0.000000    0.0000e+00 |  0.8812   0.0441   0.7372 |   0.770040    0.770040    0.000000 |  0.8805   0.0117   0.5905 |\n",
      "02:43:56 ep  16 /200 |   0.646465    0.646465    0.000000 |   0.000000    0.0000e+00 |  0.8817   0.0543   0.7474 |   0.782298    0.782298    0.000000 |  0.8804   0.0110   0.5904 |\n",
      "02:45:59 ep  17 /200 |   0.636771    0.636771    0.000000 |   0.000000    0.0000e+00 |  0.8824   0.0688   0.7575 |   0.807468    0.807468    0.000000 |  0.8804   0.0177   0.5892 |\n",
      "02:48:03 ep  18 /200 |   0.625357    0.625357    0.000000 |   0.000000    0.0000e+00 |  0.8835   0.0877   0.7699 |   0.825398    0.825398    0.000000 |  0.8772   0.0276   0.5848 |\n",
      "02:50:07 ep  19 /200 |   0.613069    0.613069    0.000000 |   0.000000    0.0000e+00 |  0.8845   0.1043   0.7832 |   0.846564    0.846564    0.000000 |  0.8767   0.0202   0.5829 |\n",
      "02:52:10 ep  20 /200 |   0.606148    0.606148    0.000000 |   0.000000    0.0000e+00 |  0.8849   0.1139   0.7904 |   0.874176    0.874176    0.000000 |  0.8775   0.0233   0.5832 |\n",
      "02:54:13 ep  21 /200 |   0.594069    0.594069    0.000000 |   0.000000    0.0000e+00 |  0.8861   0.1312   0.8005 |   0.894918    0.894918    0.000000 |  0.8763   0.0257   0.5808 |\n",
      "02:56:15 ep  22 /200 |   0.583142    0.583142    0.000000 |   0.000000    0.0000e+00 |  0.8868   0.1428   0.8110 |   0.919444    0.919444    0.000000 |  0.8770   0.0269   0.5792 |\n",
      "02:58:18 ep  23 /200 |   0.575479    0.575479    0.000000 |   0.000000    0.0000e+00 |  0.8879   0.1581   0.8174 |   0.947913    0.947913    0.000000 |  0.8785   0.0234   0.5801 |\n",
      "03:00:21 ep  24 /200 |   0.550044    0.550044    0.000000 |   0.000000    0.0000e+00 |  0.8896   0.1806   0.8379 |   1.015607    1.015607    0.000000 |  0.8758   0.0427   0.5809 |\n",
      "03:02:23 ep  25 /200 |   0.538301    0.538301    0.000000 |   0.000000    0.0000e+00 |  0.8908   0.1989   0.8467 |   1.080943    1.080943    0.000000 |  0.8755   0.0343   0.5805 |\n",
      "11:33:35 ep  26 /200 |   0.524499    0.524499    0.000000 |   0.000000    0.0000e+00 |  0.8920   0.2108   0.8559 |   1.138931    1.138931    0.000000 |  0.8761   0.0367   0.5804 |\n",
      "11:35:43 ep  27 /200 |   0.514166    0.514166    0.000000 |   0.000000    0.0000e+00 |  0.8929   0.2208   0.8636 |   1.143527    1.143527    0.000000 |  0.8728   0.0460   0.5814 |\n",
      "11:37:50 ep  28 /200 |   0.504278    0.504278    0.000000 |   0.000000    0.0000e+00 |  0.8937   0.2293   0.8692 |   1.167816    1.167816    0.000000 |  0.8730   0.0489   0.5776 |\n",
      "11:39:58 ep  29 /200 |   0.498111    0.498111    0.000000 |   0.000000    0.0000e+00 |  0.8942   0.2361   0.8739 |   1.271756    1.271756    0.000000 |  0.8736   0.0538   0.5785 |\n",
      "11:42:07 ep  30 /200 |   0.489476    0.489476    0.000000 |   0.000000    0.0000e+00 |  0.8949   0.2448   0.8792 |   1.268906    1.268906    0.000000 |  0.8722   0.0519   0.5824 |\n",
      "11:44:16 ep  31 /200 |   0.479488    0.479488    0.000000 |   0.000000    0.0000e+00 |  0.8954   0.2510   0.8857 |   1.302142    1.302142    0.000000 |  0.8706   0.0567   0.5809 |\n",
      "11:46:25 ep  32 /200 |   0.470738    0.470738    0.000000 |   0.000000    0.0000e+00 |  0.8964   0.2628   0.8906 |   1.423822    1.423822    0.000000 |  0.8683   0.0673   0.5792 |\n",
      "11:48:34 ep  33 /200 |   0.464692    0.464692    0.000000 |   0.000000    0.0000e+00 |  0.8972   0.2719   0.8939 |   1.445054    1.445054    0.000000 |  0.8705   0.0616   0.5773 |\n",
      "11:50:39 ep  34 /200 |   0.460132    0.460132    0.000000 |   0.000000    0.0000e+00 |  0.8975   0.2754   0.8970 |   1.492909    1.492909    0.000000 |  0.8721   0.0682   0.5770 |\n",
      "11:52:43 ep  35 /200 |   0.453069    0.453069    0.000000 |   0.000000    0.0000e+00 |  0.8974   0.2731   0.9017 |   1.495234    1.495234    0.000000 |  0.8715   0.0632   0.5794 |\n",
      "11:54:46 ep  36 /200 |   0.445096    0.445096    0.000000 |   0.000000    0.0000e+00 |  0.8981   0.2814   0.9054 |   1.560772    1.560772    0.000000 |  0.8715   0.0646   0.5808 |\n",
      "11:56:50 ep  37 /200 |   0.436724    0.436724    0.000000 |   0.000000    0.0000e+00 |  0.8984   0.2846   0.9101 |   1.597256    1.597256    0.000000 |  0.8712   0.0658   0.5768 |\n",
      "11:58:54 ep  38 /200 |   0.432005    0.432005    0.000000 |   0.000000    0.0000e+00 |  0.8989   0.2887   0.9124 |   1.655732    1.655732    0.000000 |  0.8701   0.0721   0.5772 |\n",
      "12:00:59 ep  39 /200 |   0.424422    0.424422    0.000000 |   0.000000    0.0000e+00 |  0.8992   0.2924   0.9166 |   1.755469    1.755469    0.000000 |  0.8717   0.0678   0.5785 |\n",
      "12:03:02 ep  40 /200 |   0.423478    0.423478    0.000000 |   0.000000    0.0000e+00 |  0.8999   0.3015   0.9172 |   1.658958    1.658958    0.000000 |  0.8689   0.0653   0.5752 |\n",
      "12:05:06 ep  41 /200 |   0.414561    0.414561    0.000000 |   0.000000    0.0000e+00 |  0.9003   0.3032   0.9221 |   1.748065    1.748065    0.000000 |  0.8687   0.0661   0.5741 |\n",
      "12:07:10 ep  42 /200 |   0.409499    0.409499    0.000000 |   0.000000    0.0000e+00 |  0.9004   0.3051   0.9245 |   1.872041    1.872041    0.000000 |  0.8719   0.0615   0.5756 |\n",
      "12:09:14 ep  43 /200 |   0.406651    0.406651    0.000000 |   0.000000    0.0000e+00 |  0.9013   0.3134   0.9247 |   1.835353    1.835353    0.000000 |  0.8707   0.0590   0.5743 |\n",
      "12:11:18 ep  44 /200 |   0.398784    0.398784    0.000000 |   0.000000    0.0000e+00 |  0.9008   0.3106   0.9289 |   1.838521    1.838521    0.000000 |  0.8698   0.0681   0.5718 |\n",
      "12:13:21 ep  45 /200 |   0.395439    0.395439    0.000000 |   0.000000    0.0000e+00 |  0.9014   0.3187   0.9303 |   1.919097    1.919097    0.000000 |  0.8727   0.0581   0.5792 |\n",
      "12:15:24 ep  46 /200 |   0.387118    0.387118    0.000000 |   0.000000    0.0000e+00 |  0.9018   0.3212   0.9341 |   1.991030    1.991030    0.000000 |  0.8698   0.0672   0.5769 |\n",
      "12:17:27 ep  47 /200 |   0.385772    0.385772    0.000000 |   0.000000    0.0000e+00 |  0.9023   0.3277   0.9342 |   2.030489    2.030489    0.000000 |  0.8692   0.0799   0.5787 |\n",
      "12:19:30 ep  48 /200 |   0.379882    0.379882    0.000000 |   0.000000    0.0000e+00 |  0.9029   0.3323   0.9367 |   1.980162    1.980162    0.000000 |  0.8682   0.0663   0.5814 |\n",
      "12:21:32 ep  49 /200 |   0.373259    0.373259    0.000000 |   0.000000    0.0000e+00 |  0.9029   0.3344   0.9397 |   2.122646    2.122646    0.000000 |  0.8700   0.0602   0.5741 |\n",
      "12:23:35 ep  50 /200 |   0.348620    0.348620    0.000000 |   0.000000    0.0000e+00 |  0.9083   0.5178   0.9483 |   2.252658    2.252658    0.000000 |  0.8522   0.1162   0.5770 |\n",
      "12:25:38 ep  51 /200 |   0.338013    0.338013    0.000000 |   0.000000    0.0000e+00 |  0.9130   0.5923   0.9516 |   2.443300    2.443300    0.000000 |  0.8528   0.1080   0.5701 |\n",
      "12:27:41 ep  52 /200 |   0.331820    0.331820    0.000000 |   0.000000    0.0000e+00 |  0.9156   0.6141   0.9538 |   2.584520    2.584520    0.000000 |  0.8575   0.1026   0.5765 |\n",
      "12:29:45 ep  53 /200 |   0.328779    0.328779    0.000000 |   0.000000    0.0000e+00 |  0.9163   0.6240   0.9547 |   2.548357    2.548357    0.000000 |  0.8501   0.1161   0.5754 |\n",
      "12:31:48 ep  54 /200 |   0.323242    0.323242    0.000000 |   0.000000    0.0000e+00 |  0.9187   0.6377   0.9568 |   2.668960    2.668960    0.000000 |  0.8499   0.1183   0.5759 |\n",
      "12:33:51 ep  55 /200 |   0.322874    0.322874    0.000000 |   0.000000    0.0000e+00 |  0.9186   0.6421   0.9563 |   2.744908    2.744908    0.000000 |  0.8525   0.1152   0.5727 |\n",
      "12:35:54 ep  56 /200 |   0.314057    0.314057    0.000000 |   0.000000    0.0000e+00 |  0.9214   0.6557   0.9593 |   2.897946    2.897946    0.000000 |  0.8505   0.1171   0.5728 |\n",
      "12:37:56 ep  57 /200 |   0.309785    0.309785    0.000000 |   0.000000    0.0000e+00 |  0.9223   0.6643   0.9604 |   2.688791    2.688791    0.000000 |  0.8483   0.1328   0.5716 |\n",
      "12:39:59 ep  58 /200 |   0.303463    0.303463    0.000000 |   0.000000    0.0000e+00 |  0.9247   0.6755   0.9625 |   2.854614    2.854614    0.000000 |  0.8407   0.1288   0.5753 |\n",
      "12:42:02 ep  59 /200 |   0.303863    0.303863    0.000000 |   0.000000    0.0000e+00 |  0.9255   0.6812   0.9626 |   2.993877    2.993877    0.000000 |  0.8504   0.1246   0.5757 |\n",
      "12:44:04 ep  60 /200 |   0.299341    0.299341    0.000000 |   0.000000    0.0000e+00 |  0.9268   0.6872   0.9637 |   2.955483    2.955483    0.000000 |  0.8484   0.1256   0.5769 |\n",
      "12:46:06 ep  61 /200 |   0.297410    0.297410    0.000000 |   0.000000    0.0000e+00 |  0.9270   0.6900   0.9640 |   2.902123    2.902123    0.000000 |  0.8434   0.1236   0.5763 |\n",
      "12:48:08 ep  62 /200 |   0.290184    0.290184    0.000000 |   0.000000    0.0000e+00 |  0.9288   0.6992   0.9660 |   3.032220    3.032220    0.000000 |  0.8474   0.1284   0.5747 |\n",
      "12:50:11 ep  63 /200 |   0.285543    0.285543    0.000000 |   0.000000    0.0000e+00 |  0.9306   0.7075   0.9672 |   3.199993    3.199993    0.000000 |  0.8479   0.1175   0.5751 |\n",
      "12:52:14 ep  64 /200 |   0.285584    0.285584    0.000000 |   0.000000    0.0000e+00 |  0.9308   0.7087   0.9676 |   3.004113    3.004113    0.000000 |  0.8394   0.1387   0.5772 |\n",
      "12:54:16 ep  65 /200 |   0.283644    0.283644    0.000000 |   0.000000    0.0000e+00 |  0.9316   0.7125   0.9679 |   3.072366    3.072366    0.000000 |  0.8425   0.1305   0.5752 |\n",
      "12:56:18 ep  66 /200 |   0.276371    0.276371    0.000000 |   0.000000    0.0000e+00 |  0.9335   0.7214   0.9696 |   3.126138    3.126138    0.000000 |  0.8456   0.1266   0.5760 |\n",
      "12:58:19 ep  67 /200 |   0.276188    0.276188    0.000000 |   0.000000    0.0000e+00 |  0.9337   0.7220   0.9700 |   3.157228    3.157228    0.000000 |  0.8402   0.1312   0.5781 |\n",
      "13:00:21 ep  68 /200 |   0.264901    0.264901    0.000000 |   0.000000    0.0000e+00 |  0.9369   0.7370   0.9722 |   3.093279    3.093279    0.000000 |  0.8366   0.1355   0.5755 |\n",
      "13:02:23 ep  69 /200 |   0.271293    0.271293    0.000000 |   0.000000    0.0000e+00 |  0.9352   0.7299   0.9709 |   3.248882    3.248882    0.000000 |  0.8391   0.1280   0.5761 |\n",
      "13:04:25 ep  70 /200 |   0.267455    0.267455    0.000000 |   0.000000    0.0000e+00 |  0.9369   0.7364   0.9717 |   3.221218    3.221218    0.000000 |  0.8410   0.1298   0.5782 |\n",
      "13:06:27 ep  71 /200 |   0.264910    0.264910    0.000000 |   0.000000    0.0000e+00 |  0.9377   0.7408   0.9725 |   3.273994    3.273994    0.000000 |  0.8419   0.1209   0.5736 |\n",
      "13:08:29 ep  72 /200 |   0.255955    0.255955    0.000000 |   0.000000    0.0000e+00 |  0.9398   0.7481   0.9743 |   3.391608    3.391608    0.000000 |  0.8344   0.1339   0.5711 |\n",
      "13:10:30 ep  73 /200 |   0.258624    0.258624    0.000000 |   0.000000    0.0000e+00 |  0.9395   0.7480   0.9738 |   3.361175    3.361175    0.000000 |  0.8418   0.1176   0.5734 |\n",
      "13:12:32 ep  74 /200 |   0.254138    0.254138    0.000000 |   0.000000    0.0000e+00 |  0.9405   0.7531   0.9749 |   3.622496    3.622496    0.000000 |  0.8456   0.1185   0.5750 |\n",
      "13:14:34 ep  75 /200 |   0.250004    0.250004    0.000000 |   0.000000    0.0000e+00 |  0.9416   0.7574   0.9757 |   3.418150    3.418150    0.000000 |  0.8431   0.1190   0.5731 |\n",
      "13:16:36 ep  76 /200 |   0.233788    0.233788    0.000000 |   0.000000    0.0000e+00 |  0.9462   0.7760   0.9789 |   3.802691    3.802691    0.000000 |  0.8437   0.1186   0.5731 |\n",
      "13:18:38 ep  77 /200 |   0.226526    0.226526    0.000000 |   0.000000    0.0000e+00 |  0.9487   0.7870   0.9803 |   3.754043    3.754043    0.000000 |  0.8398   0.1284   0.5755 |\n",
      "13:20:40 ep  78 /200 |   0.219722    0.219722    0.000000 |   0.000000    0.0000e+00 |  0.9501   0.7929   0.9812 |   3.951534    3.951534    0.000000 |  0.8378   0.1215   0.5754 |\n",
      "13:22:42 ep  79 /200 |   0.219848    0.219848    0.000000 |   0.000000    0.0000e+00 |  0.9503   0.7947   0.9813 |   4.062707    4.062707    0.000000 |  0.8385   0.1263   0.5753 |\n",
      "13:24:45 ep  80 /200 |   0.217069    0.217069    0.000000 |   0.000000    0.0000e+00 |  0.9510   0.7974   0.9818 |   4.052354    4.052354    0.000000 |  0.8389   0.1262   0.5731 |\n",
      "13:26:46 ep  81 /200 |   0.212252    0.212252    0.000000 |   0.000000    0.0000e+00 |  0.9525   0.8031   0.9825 |   4.077547    4.077547    0.000000 |  0.8394   0.1396   0.5775 |\n",
      "13:28:49 ep  82 /200 |   0.211701    0.211701    0.000000 |   0.000000    0.0000e+00 |  0.9527   0.8053   0.9827 |   4.067911    4.067911    0.000000 |  0.8393   0.1237   0.5762 |\n",
      "13:30:51 ep  83 /200 |   0.211737    0.211737    0.000000 |   0.000000    0.0000e+00 |  0.9526   0.8053   0.9827 |   4.213961    4.213961    0.000000 |  0.8383   0.1268   0.5740 |\n",
      "13:32:53 ep  84 /200 |   0.203828    0.203828    0.000000 |   0.000000    0.0000e+00 |  0.9549   0.8141   0.9839 |   4.346718    4.346718    0.000000 |  0.8418   0.1262   0.5780 |\n",
      "13:34:55 ep  85 /200 |   0.206187    0.206187    0.000000 |   0.000000    0.0000e+00 |  0.9546   0.8129   0.9837 |   4.308540    4.308540    0.000000 |  0.8400   0.1323   0.5784 |\n",
      "13:36:56 ep  86 /200 |   0.203119    0.203119    0.000000 |   0.000000    0.0000e+00 |  0.9556   0.8166   0.9844 |   4.337245    4.337245    0.000000 |  0.8375   0.1269   0.5740 |\n",
      "13:38:58 ep  87 /200 |   0.202971    0.202971    0.000000 |   0.000000    0.0000e+00 |  0.9554   0.8164   0.9842 |   4.573756    4.573756    0.000000 |  0.8456   0.1251   0.5770 |\n",
      "13:41:00 ep  88 /200 |   0.207822    0.207822    0.000000 |   0.000000    0.0000e+00 |  0.9536   0.8096   0.9836 |   4.469925    4.469925    0.000000 |  0.8422   0.1152   0.5785 |\n",
      "13:43:01 ep  89 /200 |   0.199417    0.199417    0.000000 |   0.000000    0.0000e+00 |  0.9562   0.8191   0.9849 |   4.569193    4.569193    0.000000 |  0.8431   0.1203   0.5743 |\n",
      "13:45:03 ep  90 /200 |   0.193588    0.193588    0.000000 |   0.000000    0.0000e+00 |  0.9576   0.8251   0.9856 |   4.689014    4.689014    0.000000 |  0.8414   0.1213   0.5740 |\n",
      "13:47:04 ep  91 /200 |   0.196358    0.196358    0.000000 |   0.000000    0.0000e+00 |  0.9573   0.8236   0.9852 |   4.681610    4.681610    0.000000 |  0.8420   0.1181   0.5733 |\n",
      "13:49:05 ep  92 /200 |   0.196127    0.196127    0.000000 |   0.000000    0.0000e+00 |  0.9579   0.8253   0.9853 |   4.737629    4.737629    0.000000 |  0.8413   0.1196   0.5777 |\n",
      "13:51:06 ep  93 /200 |   0.188051    0.188051    0.000000 |   0.000000    0.0000e+00 |  0.9591   0.8313   0.9865 |   4.839767    4.839767    0.000000 |  0.8406   0.1125   0.5706 |\n",
      "13:53:08 ep  94 /200 |   0.191137    0.191137    0.000000 |   0.000000    0.0000e+00 |  0.9588   0.8301   0.9860 |   4.735787    4.735787    0.000000 |  0.8415   0.1253   0.5754 |\n",
      "13:55:09 ep  95 /200 |   0.186341    0.186341    0.000000 |   0.000000    0.0000e+00 |  0.9598   0.8329   0.9866 |   4.638719    4.638719    0.000000 |  0.8390   0.1278   0.5778 |\n",
      "13:57:10 ep  96 /200 |   0.186244    0.186244    0.000000 |   0.000000    0.0000e+00 |  0.9602   0.8355   0.9867 |   4.663110    4.663110    0.000000 |  0.8392   0.1249   0.5750 |\n",
      "13:59:12 ep  97 /200 |   0.187476    0.187476    0.000000 |   0.000000    0.0000e+00 |  0.9596   0.8335   0.9866 |   4.939459    4.939459    0.000000 |  0.8432   0.1120   0.5766 |\n",
      "14:01:13 ep  98 /200 |   0.177168    0.177168    0.000000 |   0.000000    0.0000e+00 |  0.9627   0.8452   0.9880 |   5.088243    5.088243    0.000000 |  0.8430   0.1184   0.5753 |\n",
      "14:03:15 ep  99 /200 |   0.180827    0.180827    0.000000 |   0.000000    0.0000e+00 |  0.9617   0.8412   0.9876 |   4.920573    4.920573    0.000000 |  0.8385   0.1182   0.5757 |\n",
      "14:05:17 ep 100 /200 |   0.185774    0.185774    0.000000 |   0.000000    0.0000e+00 |  0.9604   0.8365   0.9870 |   4.849080    4.849080    0.000000 |  0.8372   0.1284   0.5763 |\n",
      "14:30:24 ep 101 /200 |   0.327344    0.327344    0.000000 |   0.000000    0.0000e+00 |  0.9281   0.7100   0.9620 |   3.279377    3.279377    0.000000 |  0.8515   0.1069   0.5715 |\n",
      "14:56:47 ep 102 /200 |   0.235965    0.235965    0.000000 |   0.000000    0.0000e+00 |  0.9485   0.7829   0.9791 |   3.385479    3.385479    0.000000 |  0.8422   0.1295   0.5759 |\n",
      "14:58:50 ep 103 /200 |   0.230734    0.230734    0.000000 |   0.000000    0.0000e+00 |  0.9498   0.7896   0.9802 |   3.391172    3.391172    0.000000 |  0.8399   0.1255   0.5751 |\n",
      "15:00:52 ep 104 /200 |   0.236075    0.236075    0.000000 |   0.000000    0.0000e+00 |  0.9484   0.7847   0.9793 |   3.423028    3.423028    0.000000 |  0.8390   0.1249   0.5745 |\n",
      "15:02:55 ep 105 /200 |   0.238114    0.238114    0.000000 |   0.000000    0.0000e+00 |  0.9479   0.7841   0.9788 |   3.340824    3.340824    0.000000 |  0.8389   0.1230   0.5729 |\n",
      "15:04:58 ep 106 /200 |   0.231870    0.231870    0.000000 |   0.000000    0.0000e+00 |  0.9497   0.7913   0.9802 |   3.280962    3.280962    0.000000 |  0.8323   0.1335   0.5758 |\n",
      "15:07:01 ep 107 /200 |   0.231861    0.231861    0.000000 |   0.000000    0.0000e+00 |  0.9495   0.7896   0.9799 |   3.315340    3.315340    0.000000 |  0.8353   0.1321   0.5734 |\n",
      "15:09:04 ep 108 /200 |   0.228401    0.228401    0.000000 |   0.000000    0.0000e+00 |  0.9502   0.7920   0.9804 |   3.388032    3.388032    0.000000 |  0.8399   0.1183   0.5720 |\n",
      "15:11:05 ep 109 /200 |   0.228408    0.228408    0.000000 |   0.000000    0.0000e+00 |  0.9505   0.7935   0.9805 |   3.477543    3.477543    0.000000 |  0.8390   0.1294   0.5718 |\n",
      "15:13:07 ep 110 /200 |   0.218597    0.218597    0.000000 |   0.000000    0.0000e+00 |  0.9532   0.8038   0.9821 |   3.489350    3.489350    0.000000 |  0.8393   0.1207   0.5698 |\n",
      "15:15:10 ep 111 /200 |   0.218337    0.218337    0.000000 |   0.000000    0.0000e+00 |  0.9530   0.8036   0.9822 |   3.419794    3.419794    0.000000 |  0.8356   0.1307   0.5721 |\n",
      "15:17:14 ep 112 /200 |   0.222855    0.222855    0.000000 |   0.000000    0.0000e+00 |  0.9521   0.7999   0.9816 |   3.353089    3.353089    0.000000 |  0.8298   0.1353   0.5762 |\n",
      "15:19:17 ep 113 /200 |   0.221133    0.221133    0.000000 |   0.000000    0.0000e+00 |  0.9534   0.8062   0.9818 |   3.544572    3.544572    0.000000 |  0.8368   0.1343   0.5741 |\n",
      "15:21:21 ep 114 /200 |   0.219346    0.219346    0.000000 |   0.000000    0.0000e+00 |  0.9531   0.8038   0.9821 |   3.609204    3.609204    0.000000 |  0.8317   0.1389   0.5736 |\n",
      "15:23:25 ep 115 /200 |   0.213911    0.213911    0.000000 |   0.000000    0.0000e+00 |  0.9545   0.8100   0.9832 |   3.251975    3.251975    0.000000 |  0.8303   0.1332   0.5720 |\n",
      "15:25:28 ep 116 /200 |   0.210784    0.210784    0.000000 |   0.000000    0.0000e+00 |  0.9551   0.8120   0.9835 |   3.669939    3.669939    0.000000 |  0.8378   0.1228   0.5752 |\n",
      "15:27:33 ep 117 /200 |   0.209011    0.209011    0.000000 |   0.000000    0.0000e+00 |  0.9557   0.8141   0.9837 |   3.538822    3.538822    0.000000 |  0.8312   0.1369   0.5703 |\n",
      "15:29:37 ep 118 /200 |   0.209007    0.209007    0.000000 |   0.000000    0.0000e+00 |  0.9558   0.8156   0.9840 |   3.516039    3.516039    0.000000 |  0.8345   0.1318   0.5757 |\n",
      "15:31:41 ep 119 /200 |   0.206304    0.206304    0.000000 |   0.000000    0.0000e+00 |  0.9567   0.8193   0.9843 |   3.601818    3.601818    0.000000 |  0.8357   0.1328   0.5689 |\n",
      "15:33:45 ep 120 /200 |   0.200795    0.200795    0.000000 |   0.000000    0.0000e+00 |  0.9577   0.8230   0.9851 |   3.695723    3.695723    0.000000 |  0.8333   0.1332   0.5700 |\n",
      "15:35:48 ep 121 /200 |   0.214570    0.214570    0.000000 |   0.000000    0.0000e+00 |  0.9550   0.8124   0.9831 |   3.464088    3.464088    0.000000 |  0.8343   0.1356   0.5736 |\n",
      "15:37:52 ep 122 /200 |   0.197804    0.197804    0.000000 |   0.000000    0.0000e+00 |  0.9581   0.8247   0.9857 |   3.723051    3.723051    0.000000 |  0.8315   0.1318   0.5737 |\n",
      "15:39:57 ep 123 /200 |   0.193034    0.193034    0.000000 |   0.000000    0.0000e+00 |  0.9594   0.8300   0.9863 |   3.585147    3.585147    0.000000 |  0.8355   0.1312   0.5769 |\n",
      "15:41:59 ep 124 /200 |   0.199724    0.199724    0.000000 |   0.000000    0.0000e+00 |  0.9582   0.8259   0.9854 |   3.584635    3.584635    0.000000 |  0.8367   0.1324   0.5750 |\n",
      "15:44:03 ep 125 /200 |   0.196253    0.196253    0.000000 |   0.000000    0.0000e+00 |  0.9587   0.8267   0.9858 |   3.756713    3.756713    0.000000 |  0.8319   0.1403   0.5745 |\n",
      "16:45:33 ep 126 /200 |   0.190644    0.190644    0.000000 |   0.000000    0.0000e+00 |  0.9607   0.8360   0.9867 |   3.812531    3.812531    0.000000 |  0.8362   0.1397   0.5769 |\n",
      "16:53:32 ep 127 /200 |   0.189902    0.189902    0.000000 |   0.000000    0.0000e+00 |  0.9605   0.8350   0.9868 |   3.589548    3.589548    0.000000 |  0.8356   0.1280   0.5745 |\n",
      "16:57:34 ep 128 /200 |   0.163071    0.163071    0.000000 |   0.000000    0.0000e+00 |  0.9669   0.8606   0.9903 |   4.164741    4.164741    0.000000 |  0.8391   0.1228   0.5705 |\n",
      "16:59:39 ep 129 /200 |   0.159682    0.159682    0.000000 |   0.000000    0.0000e+00 |  0.9677   0.8643   0.9906 |   4.294507    4.294507    0.000000 |  0.8390   0.1200   0.5765 |\n",
      "17:01:43 ep 130 /200 |   0.160526    0.160526    0.000000 |   0.000000    0.0000e+00 |  0.9677   0.8642   0.9905 |   4.473246    4.473246    0.000000 |  0.8399   0.1183   0.5746 |\n",
      "17:03:47 ep 131 /200 |   0.156691    0.156691    0.000000 |   0.000000    0.0000e+00 |  0.9683   0.8669   0.9909 |   4.362031    4.362031    0.000000 |  0.8343   0.1348   0.5733 |\n",
      "17:05:52 ep 132 /200 |   0.158729    0.158729    0.000000 |   0.000000    0.0000e+00 |  0.9682   0.8669   0.9907 |   4.756026    4.756026    0.000000 |  0.8420   0.1208   0.5748 |\n",
      "17:07:56 ep 133 /200 |   0.146324    0.146324    0.000000 |   0.000000    0.0000e+00 |  0.9709   0.8773   0.9920 |   4.616622    4.616622    0.000000 |  0.8388   0.1285   0.5690 |\n",
      "17:10:01 ep 134 /200 |   0.146935    0.146935    0.000000 |   0.000000    0.0000e+00 |  0.9708   0.8769   0.9919 |   4.756811    4.756811    0.000000 |  0.8382   0.1275   0.5759 |\n",
      "17:12:06 ep 135 /200 |   0.151139    0.151139    0.000000 |   0.000000    0.0000e+00 |  0.9696   0.8722   0.9917 |   4.739927    4.739927    0.000000 |  0.8349   0.1169   0.5710 |\n",
      "17:14:11 ep 136 /200 |   0.150815    0.150815    0.000000 |   0.000000    0.0000e+00 |  0.9699   0.8726   0.9915 |   4.790319    4.790319    0.000000 |  0.8378   0.1287   0.5708 |\n",
      "17:16:16 ep 137 /200 |   0.141561    0.141561    0.000000 |   0.000000    0.0000e+00 |  0.9720   0.8816   0.9925 |   4.922637    4.922637    0.000000 |  0.8422   0.1217   0.5743 |\n",
      "17:18:21 ep 138 /200 |   0.149929    0.149929    0.000000 |   0.000000    0.0000e+00 |  0.9705   0.8764   0.9917 |   4.652532    4.652532    0.000000 |  0.8343   0.1177   0.5792 |\n",
      "17:20:25 ep 139 /200 |   0.143725    0.143725    0.000000 |   0.000000    0.0000e+00 |  0.9717   0.8813   0.9923 |   4.940782    4.940782    0.000000 |  0.8437   0.1126   0.5744 |\n",
      "17:22:30 ep 140 /200 |   0.143010    0.143010    0.000000 |   0.000000    0.0000e+00 |  0.9722   0.8829   0.9924 |   5.014965    5.014965    0.000000 |  0.8410   0.1204   0.5703 |\n",
      "17:24:34 ep 141 /200 |   0.141149    0.141149    0.000000 |   0.000000    0.0000e+00 |  0.9722   0.8823   0.9925 |   4.779730    4.779730    0.000000 |  0.8389   0.1196   0.5723 |\n",
      "17:26:38 ep 142 /200 |   0.149690    0.149690    0.000000 |   0.000000    0.0000e+00 |  0.9705   0.8764   0.9917 |   4.848458    4.848458    0.000000 |  0.8399   0.1224   0.5717 |\n",
      "17:28:43 ep 143 /200 |   0.133318    0.133318    0.000000 |   0.000000    0.0000e+00 |  0.9739   0.8898   0.9934 |   5.321269    5.321269    0.000000 |  0.8419   0.1210   0.5726 |\n",
      "17:30:48 ep 144 /200 |   0.136233    0.136233    0.000000 |   0.000000    0.0000e+00 |  0.9733   0.8873   0.9931 |   5.099992    5.099992    0.000000 |  0.8369   0.1209   0.5749 |\n",
      "17:32:53 ep 145 /200 |   0.135604    0.135604    0.000000 |   0.000000    0.0000e+00 |  0.9736   0.8886   0.9931 |   5.201853    5.201853    0.000000 |  0.8356   0.1247   0.5693 |\n",
      "17:34:58 ep 146 /200 |   0.131667    0.131667    0.000000 |   0.000000    0.0000e+00 |  0.9742   0.8907   0.9936 |   5.359015    5.359015    0.000000 |  0.8358   0.1101   0.5737 |\n",
      "17:37:03 ep 147 /200 |   0.134290    0.134290    0.000000 |   0.000000    0.0000e+00 |  0.9740   0.8907   0.9933 |   5.120961    5.120961    0.000000 |  0.8373   0.1181   0.5698 |\n",
      "17:39:08 ep 148 /200 |   0.136222    0.136222    0.000000 |   0.000000    0.0000e+00 |  0.9741   0.8908   0.9932 |   4.941048    4.941048    0.000000 |  0.8321   0.1292   0.5730 |\n",
      "17:41:13 ep 149 /200 |   0.133551    0.133551    0.000000 |   0.000000    0.0000e+00 |  0.9742   0.8906   0.9933 |   5.319250    5.319250    0.000000 |  0.8393   0.1148   0.5725 |\n",
      "17:43:18 ep 150 /200 |   0.133239    0.133239    0.000000 |   0.000000    0.0000e+00 |  0.9744   0.8918   0.9933 |   5.054725    5.054725    0.000000 |  0.8349   0.1226   0.5705 |\n",
      "20:58:42 ep 151 /200 |   0.128148    0.128148    0.000000 |   0.000000    0.0000e+00 |  0.9753   0.8960   0.9939 |   5.219064    5.219064    0.000000 |  0.8391   0.1247   0.5711 |\n",
      "22:35:01 ep 152 /200 |   0.133593    0.133593    0.000000 |   0.000000    0.0000e+00 |  0.9739   0.8904   0.9934 |   5.266624    5.266624    0.000000 |  0.8322   0.1353   0.5721 |\n",
      "22:37:05 ep 153 /200 |   0.128829    0.128829    0.000000 |   0.000000    0.0000e+00 |  0.9753   0.8955   0.9937 |   5.469435    5.469435    0.000000 |  0.8410   0.1154   0.5688 |\n",
      "22:39:09 ep 154 /200 |   0.113090    0.113090    0.000000 |   0.000000    0.0000e+00 |  0.9786   0.9090   0.9951 |   5.515379    5.515379    0.000000 |  0.8393   0.1243   0.5724 |\n",
      "22:41:13 ep 155 /200 |   0.106807    0.106807    0.000000 |   0.000000    0.0000e+00 |  0.9800   0.9151   0.9956 |   5.760494    5.760494    0.000000 |  0.8403   0.1209   0.5725 |\n",
      "22:43:17 ep 156 /200 |   0.107144    0.107144    0.000000 |   0.000000    0.0000e+00 |  0.9799   0.9146   0.9955 |   5.595817    5.595817    0.000000 |  0.8368   0.1258   0.5734 |\n",
      "22:45:20 ep 157 /200 |   0.102372    0.102372    0.000000 |   0.000000    0.0000e+00 |  0.9808   0.9182   0.9959 |   5.930335    5.930335    0.000000 |  0.8371   0.1177   0.5701 |\n",
      "22:47:25 ep 158 /200 |   0.107288    0.107288    0.000000 |   0.000000    0.0000e+00 |  0.9800   0.9153   0.9955 |   5.715109    5.715109    0.000000 |  0.8372   0.1327   0.5719 |\n",
      "22:49:29 ep 159 /200 |   0.103661    0.103661    0.000000 |   0.000000    0.0000e+00 |  0.9807   0.9181   0.9958 |   6.022856    6.022856    0.000000 |  0.8396   0.1198   0.5705 |\n",
      "22:51:35 ep 160 /200 |   0.106877    0.106877    0.000000 |   0.000000    0.0000e+00 |  0.9802   0.9159   0.9956 |   6.129153    6.129153    0.000000 |  0.8393   0.1160   0.5744 |\n",
      "22:53:41 ep 161 /200 |   0.100375    0.100375    0.000000 |   0.000000    0.0000e+00 |  0.9814   0.9209   0.9960 |   6.229123    6.229123    0.000000 |  0.8355   0.1300   0.5742 |\n",
      "22:55:45 ep 162 /200 |   0.099053    0.099053    0.000000 |   0.000000    0.0000e+00 |  0.9816   0.9220   0.9962 |   6.235200    6.235200    0.000000 |  0.8405   0.1218   0.5761 |\n",
      "22:57:50 ep 163 /200 |   0.100815    0.100815    0.000000 |   0.000000    0.0000e+00 |  0.9812   0.9199   0.9960 |   6.078363    6.078363    0.000000 |  0.8327   0.1188   0.5724 |\n",
      "22:59:56 ep 164 /200 |   0.098512    0.098512    0.000000 |   0.000000    0.0000e+00 |  0.9821   0.9237   0.9962 |   6.481508    6.481508    0.000000 |  0.8409   0.1214   0.5732 |\n",
      "23:02:00 ep 165 /200 |   0.102093    0.102093    0.000000 |   0.000000    0.0000e+00 |  0.9808   0.9182   0.9959 |   6.385375    6.385375    0.000000 |  0.8412   0.1213   0.5735 |\n",
      "23:04:05 ep 166 /200 |   0.100286    0.100286    0.000000 |   0.000000    0.0000e+00 |  0.9815   0.9213   0.9961 |   6.563251    6.563251    0.000000 |  0.8409   0.1174   0.5761 |\n",
      "23:06:10 ep 167 /200 |   0.096548    0.096548    0.000000 |   0.000000    0.0000e+00 |  0.9826   0.9257   0.9963 |   6.079608    6.079608    0.000000 |  0.8349   0.1281   0.5750 |\n",
      "23:08:14 ep 168 /200 |   0.103015    0.103015    0.000000 |   0.000000    0.0000e+00 |  0.9809   0.9188   0.9959 |   6.345086    6.345086    0.000000 |  0.8419   0.1146   0.5756 |\n",
      "23:10:20 ep 169 /200 |   0.093671    0.093671    0.000000 |   0.000000    0.0000e+00 |  0.9827   0.9264   0.9965 |   6.375392    6.375392    0.000000 |  0.8370   0.1229   0.5727 |\n",
      "23:12:25 ep 170 /200 |   0.096548    0.096548    0.000000 |   0.000000    0.0000e+00 |  0.9826   0.9260   0.9963 |   6.395851    6.395851    0.000000 |  0.8370   0.1276   0.5748 |\n",
      "23:14:29 ep 171 /200 |   0.091741    0.091741    0.000000 |   0.000000    0.0000e+00 |  0.9832   0.9279   0.9966 |   6.552952    6.552952    0.000000 |  0.8377   0.1233   0.5741 |\n",
      "23:16:34 ep 172 /200 |   0.097600    0.097600    0.000000 |   0.000000    0.0000e+00 |  0.9819   0.9227   0.9962 |   6.182136    6.182136    0.000000 |  0.8326   0.1312   0.5713 |\n",
      "23:18:39 ep 173 /200 |   0.094795    0.094795    0.000000 |   0.000000    0.0000e+00 |  0.9826   0.9260   0.9965 |   6.271515    6.271515    0.000000 |  0.8341   0.1358   0.5720 |\n",
      "23:20:44 ep 174 /200 |   0.093431    0.093431    0.000000 |   0.000000    0.0000e+00 |  0.9829   0.9266   0.9966 |   6.477797    6.477797    0.000000 |  0.8382   0.1299   0.5711 |\n",
      "23:22:48 ep 175 /200 |   0.095439    0.095439    0.000000 |   0.000000    0.0000e+00 |  0.9828   0.9272   0.9965 |   6.521756    6.521756    0.000000 |  0.8396   0.1220   0.5718 |\n",
      "23:24:53 ep 176 /200 |   0.091916    0.091916    0.000000 |   0.000000    0.0000e+00 |  0.9831   0.9280   0.9966 |   6.500115    6.500115    0.000000 |  0.8370   0.1243   0.5738 |\n",
      "23:26:58 ep 177 /200 |   0.090909    0.090909    0.000000 |   0.000000    0.0000e+00 |  0.9837   0.9301   0.9967 |   6.331712    6.331712    0.000000 |  0.8279   0.1336   0.5741 |\n",
      "23:29:03 ep 178 /200 |   0.089382    0.089382    0.000000 |   0.000000    0.0000e+00 |  0.9838   0.9309   0.9968 |   6.651262    6.651262    0.000000 |  0.8323   0.1320   0.5733 |\n",
      "23:31:08 ep 179 /200 |   0.092318    0.092318    0.000000 |   0.000000    0.0000e+00 |  0.9835   0.9301   0.9967 |   6.471177    6.471177    0.000000 |  0.8404   0.1249   0.5722 |\n",
      "23:33:12 ep 180 /200 |   0.082513    0.082513    0.000000 |   0.000000    0.0000e+00 |  0.9855   0.9376   0.9972 |   6.902764    6.902764    0.000000 |  0.8384   0.1245   0.5736 |\n",
      "23:35:18 ep 181 /200 |   0.075910    0.075910    0.000000 |   0.000000    0.0000e+00 |  0.9870   0.9441   0.9975 |   6.965334    6.965334    0.000000 |  0.8373   0.1329   0.5749 |\n",
      "23:37:22 ep 182 /200 |   0.079397    0.079397    0.000000 |   0.000000    0.0000e+00 |  0.9865   0.9428   0.9974 |   7.017713    7.017713    0.000000 |  0.8369   0.1214   0.5729 |\n",
      "23:39:28 ep 183 /200 |   0.076721    0.076721    0.000000 |   0.000000    0.0000e+00 |  0.9869   0.9443   0.9976 |   7.114445    7.114445    0.000000 |  0.8346   0.1273   0.5729 |\n",
      "23:41:34 ep 184 /200 |   0.074015    0.074015    0.000000 |   0.000000    0.0000e+00 |  0.9870   0.9447   0.9977 |   7.357180    7.357180    0.000000 |  0.8376   0.1227   0.5712 |\n",
      "23:43:39 ep 185 /200 |   0.075381    0.075381    0.000000 |   0.000000    0.0000e+00 |  0.9867   0.9434   0.9977 |   7.317610    7.317610    0.000000 |  0.8386   0.1247   0.5739 |\n",
      "23:45:45 ep 186 /200 |   0.074514    0.074514    0.000000 |   0.000000    0.0000e+00 |  0.9870   0.9445   0.9977 |   7.481988    7.481988    0.000000 |  0.8380   0.1184   0.5762 |\n",
      "23:47:50 ep 187 /200 |   0.073455    0.073455    0.000000 |   0.000000    0.0000e+00 |  0.9874   0.9459   0.9977 |   7.495768    7.495768    0.000000 |  0.8408   0.1182   0.5750 |\n",
      "23:49:55 ep 188 /200 |   0.073933    0.073933    0.000000 |   0.000000    0.0000e+00 |  0.9871   0.9444   0.9977 |   7.542050    7.542050    0.000000 |  0.8401   0.1127   0.5731 |\n",
      "23:52:00 ep 189 /200 |   0.069780    0.069780    0.000000 |   0.000000    0.0000e+00 |  0.9880   0.9486   0.9979 |   7.716396    7.716396    0.000000 |  0.8411   0.1132   0.5732 |\n",
      "23:54:05 ep 190 /200 |   0.072662    0.072662    0.000000 |   0.000000    0.0000e+00 |  0.9873   0.9452   0.9977 |   7.455442    7.455442    0.000000 |  0.8343   0.1160   0.5743 |\n",
      "23:56:10 ep 191 /200 |   0.069329    0.069329    0.000000 |   0.000000    0.0000e+00 |  0.9879   0.9477   0.9979 |   7.727959    7.727959    0.000000 |  0.8379   0.1239   0.5740 |\n",
      "23:58:15 ep 192 /200 |   0.068872    0.068872    0.000000 |   0.000000    0.0000e+00 |  0.9886   0.9508   0.9979 |   7.555952    7.555952    0.000000 |  0.8393   0.1203   0.5715 |\n",
      "00:00:21 ep 193 /200 |   0.070293    0.070293    0.000000 |   0.000000    0.0000e+00 |  0.9879   0.9472   0.9979 |   8.157053    8.157053    0.000000 |  0.8422   0.1152   0.5698 |\n",
      "00:02:26 ep 194 /200 |   0.068157    0.068157    0.000000 |   0.000000    0.0000e+00 |  0.9884   0.9502   0.9979 |   7.707797    7.707797    0.000000 |  0.8343   0.1374   0.5770 |\n",
      "00:04:32 ep 195 /200 |   0.070671    0.070671    0.000000 |   0.000000    0.0000e+00 |  0.9880   0.9483   0.9979 |   7.942260    7.942260    0.000000 |  0.8402   0.1205   0.5746 |\n",
      "00:06:37 ep 196 /200 |   0.069171    0.069171    0.000000 |   0.000000    0.0000e+00 |  0.9879   0.9487   0.9979 |   7.856983    7.856983    0.000000 |  0.8393   0.1228   0.5740 |\n",
      "00:08:43 ep 197 /200 |   0.065879    0.065879    0.000000 |   0.000000    0.0000e+00 |  0.9885   0.9507   0.9981 |   7.691335    7.691335    0.000000 |  0.8397   0.1239   0.5741 |\n",
      "00:10:49 ep 198 /200 |   0.066820    0.066820    0.000000 |   0.000000    0.0000e+00 |  0.9886   0.9513   0.9980 |   8.016768    8.016768    0.000000 |  0.8391   0.1198   0.5722 |\n",
      "00:12:55 ep 199 /200 |   0.068646    0.068646    0.000000 |   0.000000    0.0000e+00 |  0.9883   0.9497   0.9980 |   7.502502    7.502502    0.000000 |  0.8364   0.1258   0.5739 |\n",
      "00:15:01 ep 200 /200 |   0.065444    0.065444    0.000000 |   0.000000    0.0000e+00 |  0.9887   0.9512   0.9981 |   8.289835    8.289835    0.000000 |  0.8390   0.1133   0.5720 |\n"
     ]
    }
   ],
   "source": [
    "# del display_epoch_metrics\n",
    "# from snnl.utils import display_epoch_metrics\n",
    "for ep in range(epochs):\n",
    "    display_epoch_metrics(model,ep)"
   ]
  },
  {
   "cell_type": "code",
   "execution_count": 139,
   "id": "a3787949-83d0-4145-a531-7f1bd53220c6",
   "metadata": {
    "execution": {
     "iopub.execute_input": "2024-05-04T23:00:18.630896Z",
     "iopub.status.busy": "2024-05-04T23:00:18.630394Z",
     "iopub.status.idle": "2024-05-04T23:00:28.643900Z",
     "shell.execute_reply": "2024-05-04T23:00:28.643003Z",
     "shell.execute_reply.started": "2024-05-04T23:00:18.630853Z"
    }
   },
   "outputs": [
    {
     "data": {
      "text/html": [
       "W&B sync reduced upload amount by 1.7%             "
      ],
      "text/plain": [
       "<IPython.core.display.HTML object>"
      ]
     },
     "metadata": {},
     "output_type": "display_data"
    },
    {
     "data": {
      "text/html": [
       " View run <strong style=\"color:#cdcd00\">0504_1736</strong> at: <a href='https://wandb.ai/kbardool/CellPainting_Profiles/runs/a9jwcick' target=\"_blank\">https://wandb.ai/kbardool/CellPainting_Profiles/runs/a9jwcick</a><br/> View project at: <a href='https://wandb.ai/kbardool/CellPainting_Profiles' target=\"_blank\">https://wandb.ai/kbardool/CellPainting_Profiles</a><br/>Synced 6 W&B file(s), 2 media file(s), 2 artifact file(s) and 0 other file(s)"
      ],
      "text/plain": [
       "<IPython.core.display.HTML object>"
      ]
     },
     "metadata": {},
     "output_type": "display_data"
    },
    {
     "data": {
      "text/html": [
       "Find logs at: <code>./wandb/run-20240504_173635-a9jwcick/logs</code>"
      ],
      "text/plain": [
       "<IPython.core.display.HTML object>"
      ]
     },
     "metadata": {},
     "output_type": "display_data"
    }
   ],
   "source": [
    "wandb_run.finish()"
   ]
  },
  {
   "cell_type": "markdown",
   "id": "3d48c90f-7fe4-4a1e-8b16-72de35fbdadd",
   "metadata": {
    "jp-MarkdownHeadingCollapsed": true
   },
   "source": [
    "## Plot losses"
   ]
  },
  {
   "cell_type": "code",
   "execution_count": null,
   "id": "7e2e761a-a327-4781-bafb-ede5ea433193",
   "metadata": {},
   "outputs": [],
   "source": [
    "if 0:\n",
    "    model_attributes = model.__dict__\n",
    "    model.training_history['train'].keys()\n",
    "    for key, value in model.training_history['train'].items():\n",
    "        if isinstance(value, List) or key in [\"test_accuracy\", \"test_f1\"]:\n",
    "            print(f\"{key:25s} {type(value)}  {len(value):7d}  {value[-5:]}\")\n",
    "    print()\n",
    "    for key, value in model.training_history['val'].items():\n",
    "        if isinstance(value, List) or key in [\"test_accuracy\", \"test_f1\"]:\n",
    "            print(f\"{key:25s} {type(value)}  {len(value):7d}  {value[-5:]}\")    "
   ]
  },
  {
   "cell_type": "code",
   "execution_count": null,
   "id": "3bb528be-02f9-4cb5-98da-fa6135e29460",
   "metadata": {},
   "outputs": [],
   "source": [
    "# tmp = np.array(model.training_history['train']['temp_grads'])\n",
    "# for st in range(0,len(tmp), 1000):\n",
    "#     end = st + 1000\n",
    "#     print(f\" {st:5d} - {end:5d}  min: {tmp[st:end].min():9e}   max: {tmp[st:end].max():9e}    avg: {tmp[st:end].mean():9e}   std: {tmp[st:end].std():9e}\")"
   ]
  },
  {
   "cell_type": "markdown",
   "id": "9f0ae6cb-ab1a-4c39-99ab-dda9609e9e3a",
   "metadata": {},
   "source": [
    "## Plot weights, biases and gradients"
   ]
  },
  {
   "cell_type": "code",
   "execution_count": 149,
   "id": "cc83e025-4221-4e18-9808-958ce4bdf07d",
   "metadata": {
    "execution": {
     "iopub.execute_input": "2024-05-05T22:20:23.702256Z",
     "iopub.status.busy": "2024-05-05T22:20:23.701786Z",
     "iopub.status.idle": "2024-05-05T22:20:24.808805Z",
     "shell.execute_reply": "2024-05-05T22:20:24.808119Z",
     "shell.execute_reply.started": "2024-05-05T22:20:23.702213Z"
    },
    "scrolled": true
   },
   "outputs": [
    {
     "data": {
      "image/png": "[encoded data removed]",
      "text/plain": [
       "<Figure size 2000x400 with 5 Axes>"
      ]
     },
     "metadata": {},
     "output_type": "display_data"
    }
   ],
   "source": [
    "plot_train_history(model, n_bins = 25)"
   ]
  },
  {
   "cell_type": "code",
   "execution_count": 150,
   "id": "9a721541-eda0-4bed-bbde-97f4a8bbd024",
   "metadata": {
    "execution": {
     "iopub.execute_input": "2024-05-05T22:20:31.050280Z",
     "iopub.status.busy": "2024-05-05T22:20:31.049827Z",
     "iopub.status.idle": "2024-05-05T22:20:31.888180Z",
     "shell.execute_reply": "2024-05-05T22:20:31.887177Z",
     "shell.execute_reply.started": "2024-05-05T22:20:31.050239Z"
    },
    "scrolled": true
   },
   "outputs": [
    {
     "data": {
      "image/png": "[encoded data removed]",
      "text/plain": [
       "<Figure size 2000x400 with 5 Axes>"
      ]
     },
     "metadata": {},
     "output_type": "display_data"
    }
   ],
   "source": [
    "plot_train_metrics(model, n_bins = 25)"
   ]
  },
  {
   "cell_type": "code",
   "execution_count": 151,
   "id": "7aee135c-99f5-42c3-a1c3-16a499c05f6d",
   "metadata": {
    "execution": {
     "iopub.execute_input": "2024-05-05T22:20:37.312078Z",
     "iopub.status.busy": "2024-05-05T22:20:37.311599Z",
     "iopub.status.idle": "2024-05-05T22:20:38.904330Z",
     "shell.execute_reply": "2024-05-05T22:20:38.903523Z",
     "shell.execute_reply.started": "2024-05-05T22:20:37.312037Z"
    }
   },
   "outputs": [
    {
     "name": "stdout",
     "output_type": "stream",
     "text": [
      " +------+-------------------------------------------------------+----------------------------------------------+---------------------------------------+\n",
      " |      | Weights:                                              |  Biases:                                     |   Gradients:                          |\n",
      " | layr |                      min           max         stdev  |             min          max          stdev  |      min          max          stdev  |\n",
      " +------+-------------------------------------------------------+----------------------------------------------+---------------------------------------+\n",
      " |    0 | (512, 1471)       -2.992401     2.991106     0.244165 |    512   -3.272990    -0.411289     0.473233 |   -0.001871     0.001594     0.000153 |\n",
      " |    1 | (128, 512)        -1.231325     0.885711     0.215895 |    128   -1.133940     0.976080     0.324708 |   -0.010222     0.013866     0.000508 |\n",
      " |    2 | (1, 128)          -0.555760     1.218278     0.364734 |      1    2.547995     2.547995     0.000000 |   -0.018052     0.050918     0.005626 |\n",
      " +------+-------------------------------------------------------+----------------------------------------------+---------------------------------------+\n",
      "\n",
      "\n",
      "\n"
     ]
    },
    {
     "data": {
      "image/png": "[encoded data removed]",
      "text/plain": [
       "<Figure size 1200x1300 with 9 Axes>"
      ]
     },
     "metadata": {},
     "output_type": "display_data"
    }
   ],
   "source": [
    "plot_model_parms(model, epochs= epochs, n_bins = 15)"
   ]
  },
  {
   "cell_type": "markdown",
   "id": "3fdc69d9-6e1b-4f48-bdae-13de25ea3c6f",
   "metadata": {
    "jp-MarkdownHeadingCollapsed": true
   },
   "source": [
    "## Other Misc Plots"
   ]
  },
  {
   "cell_type": "code",
   "execution_count": null,
   "id": "d428c349-06fc-43b4-b280-e4baefa18a0b",
   "metadata": {},
   "outputs": [],
   "source": [
    "for name, parm in model.named_parameters():\n",
    "    print(f'{name} parameter ---- {parm.data.shape}')\n",
    "    # print(parm.data)\n",
    "    print(f' {name} gradient ---- {parm.grad.data.shape}')\n",
    "    print(parm.grad.data)\n",
    "    print('\\n\\n')\n",
    "    # print(name, parm.weight.shape, parm.grad.shape)"
   ]
  },
  {
   "cell_type": "code",
   "execution_count": null,
   "id": "ddbf94df-8df1-4bd7-8dad-c20b24b7d643",
   "metadata": {
    "scrolled": true
   },
   "outputs": [],
   "source": [
    "plt.plot(model.train_temp_grad_hist[:38])\n",
    "plt.title(f'train_temperature_gradient_hist')\n",
    "plt.show()\n",
    "plt.plot(model.train_temp_grad_hist[38:42])\n",
    "plt.title(f'train_temperature_gradient_hist')\n",
    "plt.show()\n",
    "plt.plot(model.train_temp_grad_hist[42:])\n",
    "plt.title(f'train_temperature_gradient_hist')\n",
    "plt.show()"
   ]
  },
  {
   "cell_type": "code",
   "execution_count": null,
   "id": "12f5b0ee-8af2-49da-8a6a-0d15e635de8e",
   "metadata": {},
   "outputs": [],
   "source": [
    "plt.plot(model.temperature_gradients)\n",
    "plt.show()\n",
    "plt.plot(model.temperature_gradients[:23600])\n",
    "plt.show()\n",
    "plt.plot(model.temperature_gradients[:43600])\n",
    "plt.show()\n",
    "plt.plot(model.temperature_gradients[55000:57000])\n",
    "plt.show()\n",
    "plt.plot(model.temperature_gradients[250000:])"
   ]
  },
  {
   "cell_type": "markdown",
   "id": "363250e6-c044-4383-af1d-6bf40e1a0a7b",
   "metadata": {
    "jp-MarkdownHeadingCollapsed": true
   },
   "source": [
    "## Save model results and model"
   ]
  },
  {
   "cell_type": "code",
   "execution_count": null,
   "id": "a5ddefad-a4e6-480c-85a3-acf398d10e2f",
   "metadata": {},
   "outputs": [],
   "source": [
    "# import datetime.timezone\n",
    "# datetime.timetz()\n",
    "epochs_num = epochs\n",
    "timestamp = datetime.now().strftime('%Y%m%d')\n",
    "title=\"dnnconfig03\"\n",
    "filename = f\"DNN_{args.model.lower()}_{timestamp}_{title}_{epochs_num:03d}_cpb_{compounds_per_batch}_factor_{int(snnl_factor):d}\"\n",
    "print(f\"saved to {filename}\")"
   ]
  },
  {
   "cell_type": "code",
   "execution_count": null,
   "id": "96a4317a-5573-4d22-9df1-5faee3406e15",
   "metadata": {},
   "outputs": [],
   "source": [
    "# save_model(model, filename)\n",
    "export_results(model=model, filename=filename)\n",
    "save_checkpoint(epochs, model, filename, update_latest=False, update_best=False)"
   ]
  },
  {
   "cell_type": "markdown",
   "id": "aacc82f9-60eb-4c9e-9e69-9e66dff29ea4",
   "metadata": {
    "jp-MarkdownHeadingCollapsed": true
   },
   "source": [
    "## SNNL Outputs"
   ]
  },
  {
   "cell_type": "code",
   "execution_count": null,
   "id": "f3926ff5-b3ed-4eea-bcb6-746640817bc9",
   "metadata": {},
   "outputs": [],
   "source": [
    "model.snnl_criterion.layers_snnl\n",
    "# model.snnl_criterion.snnl_loss"
   ]
  },
  {
   "cell_type": "code",
   "execution_count": null,
   "id": "281f2cf1-ed28-47ad-aacc-ab9a4ac0661c",
   "metadata": {},
   "outputs": [],
   "source": [
    "model.snnl_criterion.pairwise_distance_matrix[:9,:9]"
   ]
  },
  {
   "cell_type": "code",
   "execution_count": null,
   "id": "004c5575-cf98-433c-bcb5-6be9720125fe",
   "metadata": {},
   "outputs": [],
   "source": [
    "model.snnl_criterion.sampling_probability[:9,:9]"
   ]
  },
  {
   "cell_type": "code",
   "execution_count": null,
   "id": "bc050b2d-b5de-4b02-92be-8131ace2312d",
   "metadata": {},
   "outputs": [],
   "source": [
    "model.snnl_criterion.masked_pick_probability[:9,:9]\n",
    "9.4345e-04+  6.9088e-04+  2.6218e-05"
   ]
  },
  {
   "cell_type": "code",
   "execution_count": null,
   "id": "bb24f44e-0cf6-4879-ba34-b38af40df10b",
   "metadata": {},
   "outputs": [],
   "source": [
    "model.snnl_criterion.summed_masked_pick_probability"
   ]
  },
  {
   "cell_type": "code",
   "execution_count": null,
   "id": "a30ae0fc-1d45-4e30-87d8-dc54d9434fb3",
   "metadata": {},
   "outputs": [],
   "source": [
    "torch.mean( -torch.log(model.snnl_criterion.stability_epsilon + model.snnl_criterion.summed_masked_pick_probability))"
   ]
  },
  {
   "cell_type": "code",
   "execution_count": null,
   "id": "361fbe4e-0ca6-492f-9ced-0ff8b60d17bf",
   "metadata": {},
   "outputs": [],
   "source": [
    "# from sklearn.preprocessing import .normalize(\n",
    "# a = torch.Tensor([[2],[1],[2],[3],[2],[9]]) \n",
    "# a.shape \n",
    "# # b = torch.Tensor([[3],[4],[2],[4],[5],[5]])\n",
    "# a = torch.Tensor([2,1,2,3,2,9])\n",
    "# b = torch.Tensor([3,4,2,4,5,5])\n",
    "# product = torch.matmul(a, b)\n",
    "# product\n",
    "# normalized_a = torch.nn.functional.normalize(a, dim=0, p=2)\n",
    "# normalized_b = torch.nn.functional.normalize(b, dim=0, p=2)\n",
    "# normalized_a\n",
    "# normalized_b\n",
    "# normalized_b = torch.conj(normalized_b).T\n",
    "# normalized_b\n",
    "# product = torch.matmul(normalized_a, normalized_b)\n",
    "# product\n",
    "# distance_matrix = torch.sub(torch.tensor(1.0), product)\n",
    "# distance_matrix"
   ]
  },
  {
   "cell_type": "code",
   "execution_count": null,
   "id": "dc73a3b2-b5ac-475c-ad51-bebeb5f898c1",
   "metadata": {},
   "outputs": [],
   "source": [
    "a = torch.tensor([[0.9041,  0.0196], [-0.3108, -2.4423], [-0.4821,  1.059]])\n",
    "a.shape\n",
    "torch.cdist(a, a, p=2)"
   ]
  },
  {
   "cell_type": "code",
   "execution_count": null,
   "id": "6034160c-c7bc-4f97-a86b-18ce420ed593",
   "metadata": {},
   "outputs": [],
   "source": []
  },
  {
   "cell_type": "markdown",
   "id": "8e6d1ff9-0543-4933-ab47-ff2abb2efc2a",
   "metadata": {
    "jp-MarkdownHeadingCollapsed": true
   },
   "source": [
    "# Model Inference"
   ]
  },
  {
   "cell_type": "markdown",
   "id": "a129f797-8c07-4d45-be1b-9ddb19af3576",
   "metadata": {
    "execution": {
     "iopub.execute_input": "2024-04-01T00:58:52.961399Z",
     "iopub.status.busy": "2024-04-01T00:58:52.960920Z"
    },
    "jp-MarkdownHeadingCollapsed": true
   },
   "source": [
    "## Load model"
   ]
  },
  {
   "cell_type": "code",
   "execution_count": null,
   "id": "7d55a379-4a2f-4e77-9c6c-909a1f206961",
   "metadata": {},
   "outputs": [],
   "source": []
  },
  {
   "cell_type": "code",
   "execution_count": null,
   "id": "1586e691-bcc1-493e-98ee-acadfcb99b48",
   "metadata": {},
   "outputs": [],
   "source": [
    "output = dict()\n",
    "output['params'] = dict()\n",
    "model_attributes = model.__dict__\n",
    "for key, value in model_attributes.items():\n",
    "        if key[0] == \"_\" or type(value) in [torch.device, torch.optim.Adam , torch.optim.SGD]:\n",
    "            continue\n",
    "        if key == 'training_history':\n",
    "            output[key] = value\n",
    "        else:\n",
    "            output['params'][key] = value"
   ]
  },
  {
   "cell_type": "code",
   "execution_count": null,
   "id": "e0bc5128-e0a3-4389-aa3a-7ac3b5bb0eac",
   "metadata": {},
   "outputs": [],
   "source": [
    "output.keys()\n",
    "output['params']\n",
    "output['training_history'].keys()"
   ]
  },
  {
   "cell_type": "code",
   "execution_count": null,
   "id": "30af85e9-b420-4ac9-9ec0-6928c9604d4d",
   "metadata": {},
   "outputs": [],
   "source": [
    "# fn = \"DNN_snnl_withstatictemp_epoch400_2024_04_01_073006.pt\"\n",
    "# fn = \"DNN_snnl_withlearning_temp_epoch250_2024_04_02_173536_model_epoch_250.pth\"\n",
    "# fn = \"DNN_snnl_withstatictemp_epoch400_2024_04_01_073006.pt\"\n",
    "# fn = \"DNN_snnl_withlearning_temp_epoch250_2024_04_02_173536.json\"\n",
    "# fn = f\"DNN_snnl_20240422_temp0grad_{epoch:03d}_cpb_100_factor_{factor:d}.json\"\n",
    "timestamp = \"20240502\"\n",
    "factor=1\n",
    "title=\"autoencoder\"\n",
    "epoch = 175\n",
    "# filename = f\"DNN_snnl_20240422_temp0grad_{epoch:03d}_cpb_100_factor_{factor:d}.pt\"\n",
    "filename = f\"DNN_{args.model.lower()}_{timestamp}_{title}_{epochs_num:03d}_cpb_{compounds_per_batch}_factor_{int(snnl_factor):d}\"\n",
    "print(filename)"
   ]
  },
  {
   "cell_type": "code",
   "execution_count": null,
   "id": "db9b10a8-3edd-4367-9598-9ae0fe868aea",
   "metadata": {},
   "outputs": [],
   "source": [
    "# model, last_epoch = load_checkpoint(model, filename)\n",
    "# results = import_results(filename)"
   ]
  },
  {
   "cell_type": "code",
   "execution_count": null,
   "id": "f30c6dfe-3d42-4dd2-999c-8c74b61ab2dc",
   "metadata": {},
   "outputs": [],
   "source": [
    "model = model.cuda(device=current_device)"
   ]
  },
  {
   "cell_type": "code",
   "execution_count": null,
   "id": "693ac99b-1fcf-43f4-9e83-ae59f36c2294",
   "metadata": {},
   "outputs": [],
   "source": [
    "# model_clone = load_model(fn)\n",
    "# model_clone"
   ]
  },
  {
   "cell_type": "code",
   "execution_count": null,
   "id": "904f0194-7e76-4eab-a2c0-6432e51cb03e",
   "metadata": {},
   "outputs": [],
   "source": [
    "last_epoch\n",
    "epochs = last_epoch\n",
    "epoch = last_epoch \n",
    "starting_epoch = last_epoch\n",
    "starting_epoch, epoch , epochs"
   ]
  },
  {
   "cell_type": "code",
   "execution_count": null,
   "id": "105c0942-8986-4fcb-ab69-56c9bdd71ed0",
   "metadata": {},
   "outputs": [],
   "source": [
    "# epochs = 40 \n",
    "# starting_epoch = 20\n",
    "epochs = epochs + 10\n",
    "# starting_epoch = epoch + 1\n",
    "print(f\" run epochs {starting_epoch+1} to {epochs}  -- {epoch}\")"
   ]
  },
  {
   "cell_type": "code",
   "execution_count": null,
   "id": "a3393f75-9986-4f14-82aa-bdba30e306b6",
   "metadata": {},
   "outputs": [],
   "source": [
    "# results = import_results(filename)\n",
    "results.keys()\n",
    "for k in results.keys():\n",
    "    print(f\" key: {k:30s}  length of - loaded results: {len(results[k])}  existing model: {len(model.__dict__[k])}\" )\n",
    "    model.__dict__[k] = results[k]"
   ]
  },
  {
   "cell_type": "markdown",
   "id": "f284c33e-8448-4c0a-a403-8dc1d8cc536d",
   "metadata": {
    "jp-MarkdownHeadingCollapsed": true
   },
   "source": [
    "## Predict"
   ]
  },
  {
   "cell_type": "code",
   "execution_count": null,
   "id": "54cdb486-c206-4a1c-b259-3a53fae9455c",
   "metadata": {},
   "outputs": [],
   "source": [
    "if dataset == 'cellpainting':\n",
    "    print(f\" load {dataset}\")\n",
    "    test_dataset = CellpaintingDataset(test = True, **cellpainting_args)\n",
    "    test_loader = InfiniteDataLoader(dataset=test_dataset, batch_size=batch_size, shuffle = False, num_workers = 0, collate_fn = train_dataset.custom_collate_fn)\n",
    "    "
   ]
  },
  {
   "cell_type": "code",
   "execution_count": null,
   "id": "16ebac12-779c-4da2-995c-b4ecaed34828",
   "metadata": {},
   "outputs": [],
   "source": [
    "model.eval()\n",
    "model = model.cpu()"
   ]
  },
  {
   "cell_type": "code",
   "execution_count": null,
   "id": "9355846c-65e3-45cc-9544-cb54f3385ff0",
   "metadata": {},
   "outputs": [],
   "source": [
    "for batch_count, (batch_features, batch_labels, _, _, _) in enumerate(train_loader): \n",
    "    batch_features = batch_features.to(self.device)\n",
    "    batch_labels = batch_labels.to(self.device)\n",
    "    output, predictions = model.predict(test_features)"
   ]
  },
  {
   "cell_type": "code",
   "execution_count": null,
   "id": "a2f91dca-5f0d-4ff9-9f8e-1707db9b833b",
   "metadata": {},
   "outputs": [],
   "source": [
    "for idx, batch in enumerate(val_loader):\n",
    "    print(idx, batch[0].shape, batch[1].shape,batch[2].shape,batch[3].shape,batch[4].shape)\n",
    "    # test_features = batch[0].reshape(-1, 784)\n",
    "    # print(batch[1])\n",
    "    # display_cellpainting_batch(idx, batch)\n",
    "    # train_batch_id +=1\n",
    "    # if train_batch_id ==3 :\n",
    "        # break\n",
    "    # if idx >= 24:\n",
    "        # break\n",
    "    break"
   ]
  },
  {
   "cell_type": "code",
   "execution_count": null,
   "id": "0ce36c0b-6fd4-4454-8ceb-214284dd6abc",
   "metadata": {},
   "outputs": [],
   "source": [
    "# test_features = test_dataset.dataa.reshape(-1, 784) / 255.0\n",
    "test_features = batch[0] "
   ]
  },
  {
   "cell_type": "code",
   "execution_count": null,
   "id": "b2d51865-d440-4488-b690-45bdf8a91c82",
   "metadata": {},
   "outputs": [],
   "source": [
    "for \n",
    "output, predictions = model.predict(test_features)\n",
    "model.test_accuracy = accuracy(y_true=test_dataset.targets, y_pred=predictions)"
   ]
  },
  {
   "cell_type": "code",
   "execution_count": null,
   "id": "33c72a58-de2e-43d9-ad00-725552a38ff5",
   "metadata": {},
   "outputs": [],
   "source": [
    "print(f\"accuracy: {model.test_accuracy}%\")"
   ]
  },
  {
   "cell_type": "code",
   "execution_count": null,
   "id": "d9d7cd53-2ef8-4c46-a509-e3443f1eae20",
   "metadata": {},
   "outputs": [],
   "source": [
    "print(f\"accuracy: {model.test_accuracy}%\")"
   ]
  },
  {
   "cell_type": "code",
   "execution_count": null,
   "id": "1e80b138-e509-48bc-853f-297f1a55a8e8",
   "metadata": {},
   "outputs": [],
   "source": [
    "print(f\"accuracy: {model.test_accuracy}%\")"
   ]
  },
  {
   "cell_type": "code",
   "execution_count": null,
   "id": "f2b8338a-e430-44e7-b82d-96c3fa70cf9c",
   "metadata": {},
   "outputs": [],
   "source": [
    "filename = f\"DNN-{args.model.lower()}-{args.seed}.json\"\n",
    "export_results(model=model, filename=filename)"
   ]
  },
  {
   "cell_type": "code",
   "execution_count": null,
   "id": "b616fdcb-52ea-4743-ace6-201a48fc68ee",
   "metadata": {},
   "outputs": [],
   "source": []
  },
  {
   "attachments": {},
   "cell_type": "markdown",
   "id": "333adcfa-4e1a-4e84-b837-14dd762ba6a8",
   "metadata": {
    "jp-MarkdownHeadingCollapsed": true
   },
   "source": [
    "# `epoch_train(self, data_loader, epoch)` - STEP BY STEP\n",
    "\n",
    "    def epoch_train(self, data_loader: torch.utils.data.DataLoader, epoch: int = None) -> Tuple:"
   ]
  },
  {
   "cell_type": "code",
   "execution_count": null,
   "id": "d47ca19d-bcba-4275-a6e3-c51f703af1e0",
   "metadata": {},
   "outputs": [],
   "source": [
    "model.snnl_criterion = SNNLoss(\n",
    "        mode=model.mode,\n",
    "        criterion=model.primary_criterion,\n",
    "        factor=model.factor,\n",
    "        temperature=model.temperature,\n",
    "        use_annealing=model.use_annealing,\n",
    "        use_sum=model.use_sum,\n",
    "        # unsupervised=model.unsupervised,\n",
    "        unsupervised=True,\n",
    "        code_units=model.code_units,\n",
    "        sample_size = model.sample_size,\n",
    "        stability_epsilon=model.stability_epsilon,\n",
    ")\n",
    "model.unsupervised"
   ]
  },
  {
   "cell_type": "code",
   "execution_count": null,
   "id": "04d69ccd-3c4d-425a-9e2e-f1df7c3b3908",
   "metadata": {},
   "outputs": [],
   "source": [
    "# if model.use_snnl:\n",
    "# if model.name == \"DNN\" or model.name == \"CNN\":\n",
    "epoch_loss = 0\n",
    "epoch_ttl_loss = 0\n",
    "epoch_primary_loss = 0\n",
    "epoch_snn_loss = 0\n",
    "epoch_accuracy = 0\n",
    "\n",
    "# model.snnl_criterion.factor \n",
    "# model.snnl_criterion.factor = 2\n",
    "# model.snnl_criterion.factor "
   ]
  },
  {
   "cell_type": "markdown",
   "id": "5109187f-0dce-4eda-8ba7-214f353ac877",
   "metadata": {},
   "source": [
    "### Loop through data"
   ]
  },
  {
   "cell_type": "code",
   "execution_count": null,
   "id": "a7f0194b-ea0c-4c3a-ae30-3664c00099da",
   "metadata": {
    "scrolled": true
   },
   "outputs": [],
   "source": [
    "for batch_count, (batch_features, batch_labels, _, _, _) in enumerate(train_loader):\n",
    "    if batch_count  == 71:\n",
    "        break\n",
    "    # ,_,_,batch_features, batch_labels = next(iter(data_loader))\n",
    "    # batch_features, batch_labels = next(iter(data_loader))\n",
    "\n",
    "    # if model.name in [\"Autoencoder\", \"DNN\"]:\n",
    "        # batch_features = batch_features.view(batch_features.shape[0], -1)"
   ]
  },
  {
   "cell_type": "code",
   "execution_count": null,
   "id": "59f478fd-792a-496a-93b3-b9439d30869e",
   "metadata": {},
   "outputs": [],
   "source": [
    "batch_count"
   ]
  },
  {
   "cell_type": "code",
   "execution_count": null,
   "id": "d18a511f-51f4-4d81-8041-029f70d7654f",
   "metadata": {
    "scrolled": true
   },
   "outputs": [],
   "source": [
    "    \n",
    "batch_features = batch_features.to(model.device)\n",
    "batch_labels = batch_labels.to(model.device)\n",
    "    \n",
    "model.optimizer.zero_grad()\n",
    "    \n",
    "outputs = model.forward(features=batch_features)\n",
    "    # break"
   ]
  },
  {
   "cell_type": "code",
   "execution_count": null,
   "id": "906a7016-15af-4fdb-b3f2-7ec7f8dabac4",
   "metadata": {},
   "outputs": [],
   "source": [
    "# outputs"
   ]
  },
  {
   "cell_type": "code",
   "execution_count": null,
   "id": "5c472c4f-a10c-472c-9f64-09aea53440be",
   "metadata": {
    "scrolled": true
   },
   "outputs": [],
   "source": [
    "    if model.use_snnl:\n",
    "        train_loss, primary_loss, snn_loss = model.snnl_criterion(\n",
    "            model=model,\n",
    "            outputs=outputs,\n",
    "            features=batch_features,\n",
    "            labels=batch_labels,\n",
    "            epoch=epoch,\n",
    "        )\n",
    "        epoch_loss += train_loss.item()\n",
    "        epoch_snn_loss += snn_loss.item()\n",
    "        epoch_primary_loss += primary_loss.item()\n",
    "    else:\n",
    "        # if not model.use_snnl:\n",
    "        print(f\"Model not using SNNL\")\n",
    "        train_loss = model.criterion(outputs, batch_labels if model.name == \"DNN\" or model.name == \"CNN\"  else batch_features,)\n",
    "        epoch_loss += train_loss.item()"
   ]
  },
  {
   "cell_type": "code",
   "execution_count": null,
   "id": "2f295bda-c719-4fff-b7ca-51ae611ccacd",
   "metadata": {
    "scrolled": true
   },
   "outputs": [],
   "source": [
    " \n",
    "    if model.name == \"DNN\" or model.name == \"CNN\":\n",
    "        train_accuracy = (outputs.argmax(1) == batch_labels).sum().item() / len(batch_labels)\n",
    "        epoch_accuracy += train_accuracy\n",
    "    else:\n",
    "        train_accuracy =  0\n",
    "        epoch_accuracy += train_accuracy\n",
    "    \n",
    "    train_loss.backward()\n",
    "    model.optimizer.step()\n",
    "    \n",
    "    if model.use_snnl and model.temperature is not None:\n",
    "        model.optimize_temperature()\n",
    "    \n",
    "    # print(outputs.shape)\n",
    "    # print(batch_labels.shape)\n",
    "    print(f\" batch:{batch_count} - train : loss    {train_loss:10.6f}   primary loss: {primary_loss:10.6f}    SNN loss: {snn_loss*model.snnl_criterion.factor:10.6f}   (loss: {snn_loss:10.6f} * factor: {model.snnl_criterion.factor})  \"\n",
    "          f\"  temp: {model.temperature.data} snnl_temp: {model.snnl_criterion.temperature.data}\")    \n",
    "    # print(f\" epoch : loss    {epoch_loss:10.6f}   primary_loss: {epoch_primary_loss:10.6f}    SNN loss: {epoch_snn_loss:10.6f}   factor: {model.factor}\")\n",
    "    # print(f\" batch_accuracy         {train_accuracy}   epoch_accuracy         {epoch_accuracy}\")\n",
    "    break\n",
    "#### End of dataloader loop"
   ]
  },
  {
   "cell_type": "code",
   "execution_count": null,
   "id": "b110abcf-252c-4480-bd36-00e1346ca24a",
   "metadata": {
    "scrolled": true
   },
   "outputs": [],
   "source": [
    "print(f\" loop ended - batch_count: {batch_count}\")"
   ]
  },
  {
   "cell_type": "code",
   "execution_count": null,
   "id": "57076e3e-ecd7-4981-b6b6-10dd73b8bc5c",
   "metadata": {},
   "outputs": [],
   "source": [
    "primary_loss\n",
    "primary_loss.shape, primary_loss.size(), primary_loss.data, primary_loss.ndim"
   ]
  },
  {
   "cell_type": "code",
   "execution_count": null,
   "id": "9e928131-adf6-4100-a66b-548e12544e99",
   "metadata": {},
   "outputs": [],
   "source": [
    "pp = torch.zeros(0,requires_grad = True, dtype=torch.float32)\n",
    "p1 = torch.tensor(0,requires_grad = True, dtype=torch.float32, device = model.device)\n",
    "pp.shape, pp.size(), pp.data, pp.ndim\n",
    "p1.shape, p1.size(), p1.data, p1.ndim"
   ]
  },
  {
   "cell_type": "code",
   "execution_count": null,
   "id": "baae028f-8b82-4635-b110-a294788ed55a",
   "metadata": {},
   "outputs": [],
   "source": [
    "len_data_loader = batch_count"
   ]
  },
  {
   "cell_type": "code",
   "execution_count": null,
   "id": "5b840a1c-78b7-4c85-bd79-1f445323449b",
   "metadata": {},
   "outputs": [],
   "source": [
    "len_data_loader\n",
    "epoch_loss, epoch_loss/len_data_loader\n",
    "epoch_snn_loss * model.snnl_criterion.factor, (epoch_snn_loss * model.snnl_criterion.factor)/len_data_loader, epoch_snn_loss\n",
    "epoch_primary_loss, epoch_primary_loss/len_data_loader\n",
    "epoch_accuracy / len_data_loader"
   ]
  },
  {
   "cell_type": "markdown",
   "id": "be62eb13-604d-41fd-b6a7-31fa2c3f7056",
   "metadata": {
    "jp-MarkdownHeadingCollapsed": true
   },
   "source": [
    "# SNNL Loss"
   ]
  },
  {
   "cell_type": "code",
   "execution_count": null,
   "id": "62d3d1ff-7509-47b7-b986-3f6b232ff165",
   "metadata": {},
   "outputs": [],
   "source": [
    "# input1 = torch.randn(100, 128)\n",
    "# input2 = torch.randn(100, 128)\n",
    "# cos = torch.nn.CosineSimilarity(dim=1, eps=1e-6)\n",
    "# tmp1 = cos(input1, input2)\n",
    "# tmp1.shape\n",
    "# # tmp1\n",
    "\n",
    "# value.shape\n",
    "\n",
    "# tmp1 = torch.cdist(value, value, p=2)\n",
    "# cosim = torch.nn.CosineSimilarity(dim=1, eps=1e-6)\n",
    "# tmp1 = cosim(value, value.T)\n",
    "# tmp1.shape\n",
    "# tmp1\n",
    "# tmp1.min(), tmp1.argmin()"
   ]
  },
  {
   "cell_type": "code",
   "execution_count": null,
   "id": "ce1a3869-13ee-4537-8e80-91b0a6a873b5",
   "metadata": {},
   "outputs": [],
   "source": [
    "batch_count  = 0\n",
    "iter_loader = iter(train_loader)"
   ]
  },
  {
   "cell_type": "code",
   "execution_count": null,
   "id": "61c895fe-dd9f-41d1-b9bf-4870db47d50d",
   "metadata": {},
   "outputs": [],
   "source": [
    "(batch_features, batch_labels, _, _, _) = next(iter_loader)"
   ]
  },
  {
   "cell_type": "code",
   "execution_count": null,
   "id": "af29afe6-2783-4f00-bbca-56f0bea3bb83",
   "metadata": {},
   "outputs": [],
   "source": [
    "    \n",
    "batch_features = batch_features.to(model.device)\n",
    "batch_labels = batch_labels.to(model.device)\n",
    "    \n",
    "model.optimizer.zero_grad()\n",
    "    \n",
    "outputs = model.forward(features=batch_features)\n",
    "    # break"
   ]
  },
  {
   "cell_type": "code",
   "execution_count": null,
   "id": "95f8ec81-aa40-42e2-b8b5-24bf959cafc7",
   "metadata": {},
   "outputs": [],
   "source": [
    "def pairwise_cosine_distance(features: torch.Tensor) -> torch.Tensor:\n",
    "    \"\"\"\n",
    "    Returns the pairwise cosine distance between two copies\n",
    "    of the features matrix.\n",
    "\n",
    "    Parameter\n",
    "    ---------\n",
    "    features: torch.Tensor\n",
    "        The input features.\n",
    "\n",
    "    Returns\n",
    "    -------\n",
    "    distance_matrix: torch.Tensor\n",
    "        The pairwise cosine distance matrix.\n",
    "\n",
    "    Example\n",
    "    -------\n",
    "    >>> import torch\n",
    "    >>> from snnl import SNNLoss\n",
    "    >>> _ = torch.manual_seed(42)\n",
    "    >>> a = torch.rand((4, 2))\n",
    "    >>> snnl = SNNLoss(temperature=1.0)\n",
    "    >>> snnl.pairwise_cosine_distance(a)\n",
    "    tensor([[1.1921e-07, 7.4125e-02, 1.8179e-02, 1.0152e-01],\n",
    "            [7.4125e-02, 1.1921e-07, 1.9241e-02, 2.2473e-03],\n",
    "            [1.8179e-02, 1.9241e-02, 1.1921e-07, 3.4526e-02],\n",
    "            [1.0152e-01, 2.2473e-03, 3.4526e-02, 0.0000e+00]])\n",
    "    \"\"\"\n",
    "    a, b = features.clone(), features.clone()\n",
    "    normalized_a = torch.nn.functional.normalize(a, dim=1, p=2)\n",
    "    normalized_b = torch.nn.functional.normalize(b, dim=1, p=2)\n",
    "    # normalized_b = torch.conj(normalized_b).T\n",
    "    product = torch.matmul(normalized_a, normalized_b.T)\n",
    "    distance_matrix = torch.sub(torch.tensor(1.0), product)\n",
    "    return distance_matrix\n",
    "\n",
    "def normalize_distance_matrix(\n",
    "    self,\n",
    "    features: torch.Tensor,\n",
    "    distance_matrix: torch.Tensor,\n",
    "    device: torch.device = torch.device(\"cuda:0\" if torch.cuda.is_available() else \"cpu\"),\n",
    ") -> torch.Tensor:\n",
    "\n",
    "    pairwise_distance_matrix = torch.exp( -(distance_matrix * self.temperature)) - torch.eye(features.shape[0]).to(device)\n",
    "    \n",
    "    return pairwise_distance_matrix\n",
    "\n",
    "def pairwise_cos_distance(A, B):\n",
    "    \n",
    "    \"\"\"Pairwise cosine distance between two matrices.\n",
    "    :param A: a matrix.\n",
    "    :param B: a matrix.\n",
    "    :returns: A tensor for the pairwise cosine between A and B.\n",
    "    \"\"\"\n",
    "    normalized_A = torch.nn.functional.normalize(A, dim=1)\n",
    "    normalized_B = torch.nn.functional.normalize(B, dim=1)\n",
    "    prod = torch.matmul(normalized_A, normalized_B.transpose(-2, -1).conj())\n",
    "    return 1 - prod"
   ]
  },
  {
   "cell_type": "code",
   "execution_count": null,
   "id": "46b317a9-4d55-4556-ba2f-db26ce7d8dbf",
   "metadata": {},
   "outputs": [],
   "source": [
    "print('\\n'+'-'*80)\n",
    "print('1 - pairwise_cos_distance')\n",
    "print('-'*80)\n",
    "tmp1 =  pairwise_cosine_distance(value)\n",
    "tmp1.shape\n",
    "tmp1\n",
    "tmp1.sum()\n",
    "tmp1.min(), tmp1.argmin()\n",
    "\n",
    "print('\\n'+'-'*80)\n",
    "print('2 - torch.exp(-(distance_matrix / temp))')\n",
    "print('-'*80)\n",
    "tmp2 = torch.exp(-(tmp1 / snnl.temperature)) \n",
    "tmp2.shape\n",
    "tmp2\n",
    "tmp2.sum()\n",
    "tmp2.min(), tmp2.argmin()\n",
    "\n",
    "\n",
    "print('\\n'+'-'*80)\n",
    "print('3 - pairwise_distance_matrix')\n",
    "print('-'*80)\n",
    "tmp3 = torch.exp(-(tmp1 / snnl.temperature)) - torch.eye(batch_features.shape[0]).to(model.device) \n",
    "tmp3.shape\n",
    "tmp3\n",
    "tmp3.sum()\n",
    "tmp3.min(), tmp3.argmin()"
   ]
  },
  {
   "cell_type": "markdown",
   "id": "afc3bfb3-cc9f-4555-b3c6-24029d1eccc3",
   "metadata": {},
   "source": [
    "### V1 Code"
   ]
  },
  {
   "cell_type": "code",
   "execution_count": null,
   "id": "44576fab-55ef-4741-a5bb-d3b620759b6c",
   "metadata": {},
   "outputs": [],
   "source": [
    "from dev_code import SNNLoss"
   ]
  },
  {
   "cell_type": "code",
   "execution_count": null,
   "id": "5c8294a6-0992-44c9-adf3-c4dbec0ba543",
   "metadata": {},
   "outputs": [],
   "source": [
    "model.temperature\n",
    "snnl.temperature"
   ]
  },
  {
   "cell_type": "code",
   "execution_count": null,
   "id": "23b2d86d-149c-4c52-9bc8-bf6f4440e3ff",
   "metadata": {},
   "outputs": [],
   "source": [
    "snnl =SNNLoss(\n",
    "                mode=model.mode,\n",
    "                criterion=model.primary_criterion,\n",
    "                factor=model.factor,\n",
    "                temperature=model.temperature,\n",
    "                use_annealing=model.use_annealing,\n",
    "                use_sum=model.use_sum,\n",
    "                code_units=model.code_units,\n",
    "                sample_size = model.sample_size,\n",
    "                stability_epsilon=model.stability_epsilon,\n",
    "                unsupervised=model.unsupervised,\n",
    "            )"
   ]
  },
  {
   "cell_type": "code",
   "execution_count": null,
   "id": "c66820d3-3a55-4ca1-8b2b-d1954d48d6be",
   "metadata": {},
   "outputs": [],
   "source": [
    "snnl.temperature"
   ]
  },
  {
   "cell_type": "code",
   "execution_count": null,
   "id": "7031d50b-56b8-4cf2-a0ff-124f064b8e8e",
   "metadata": {},
   "outputs": [],
   "source": [
    "# snnl.temperature = 8.762743\n",
    "train_loss,primary_loss,snnl_loss = train_loss, primary_loss, snn_loss = snnl(\n",
    "                    model=model,\n",
    "                    outputs=outputs,\n",
    "                    features=batch_features,\n",
    "                    labels=batch_labels,\n",
    "                    epoch=1,\n",
    "                )\n",
    "train_loss,primary_loss,snnl_loss"
   ]
  },
  {
   "cell_type": "code",
   "execution_count": null,
   "id": "a650b00e-2250-4c7d-8013-60bb2097b923",
   "metadata": {},
   "outputs": [],
   "source": [
    "snnl.layers_snnl"
   ]
  },
  {
   "cell_type": "code",
   "execution_count": null,
   "id": "01e06e96-bbc6-4479-9c18-1fa87f997058",
   "metadata": {},
   "outputs": [],
   "source": [
    "activations = snnl.compute_activations(model=model, features=batch_features)"
   ]
  },
  {
   "cell_type": "code",
   "execution_count": null,
   "id": "ebb1ae97-fe84-4ef3-b9fb-0c43c309ed0e",
   "metadata": {},
   "outputs": [],
   "source": [
    "for k,v in activations.items():\n",
    "    print(k, v.shape, v.sum().item())\n"
   ]
  },
  {
   "cell_type": "code",
   "execution_count": null,
   "id": "860bf60c-bb11-4584-82dc-09c56b4f54e5",
   "metadata": {},
   "outputs": [],
   "source": [
    "def snnlV1_fixed_debug( inp_values = None, inp_labels = None):\n",
    "    print('-'*80)\n",
    "    print('1 - pairwise_cos_distance')\n",
    "    print('-'*80)\n",
    "    snnl.distance_matrix = snnl.pairwise_cosine_distance(features = inp_values)\n",
    "    print(snnl.distance_matrix.shape)\n",
    "    # print(snnl.distance_matrix)\n",
    "    print(snnl.distance_matrix.sum())\n",
    "    print(snnl.distance_matrix.min(), snnl.distance_matrix.argmin())\n",
    "    \n",
    "    print('-'*80)\n",
    "    print('2 - torch.exp(-(distance_matrix / temp))')\n",
    "    print('-'*80)\n",
    "    tmp2 = torch.exp(-(snnl.distance_matrix / snnl.temperature)) \n",
    "    print(tmp2.shape)\n",
    "    # print(tmp2)\n",
    "    print(tmp2.sum())\n",
    "    print(tmp2.min(), tmp2.argmin())\n",
    "    \n",
    "    print('-'*80)\n",
    "    print('2 - pairwise_distance_matrix')\n",
    "    print('-'*80)\n",
    "    snnl.pairwise_distance_matrix = snnl.normalize_distance_matrix(features = inp_values, distance_matrix = snnl.distance_matrix, device = 'cuda:0')\n",
    "    print(snnl.pairwise_distance_matrix.shape   )\n",
    "    # print(snnl.pairwise_distance_matrix)\n",
    "    print(snnl.pairwise_distance_matrix.sum())\n",
    "    print(snnl.pairwise_distance_matrix.min(), snnl.pairwise_distance_matrix.argmin()   )\n",
    "    \n",
    "    print('-'*80)\n",
    "    print('3 - pick probability')\n",
    "    print('-'*80)\n",
    "    snnl.pick_probability = snnl.compute_sampling_probability(snnl.pairwise_distance_matrix)\n",
    "    snnl.pick_probability = torch.clamp(snnl.pick_probability,0,None)\n",
    "    print(snnl.pick_probability.shape)\n",
    "    # print(snnl.pick_probability)\n",
    "    print(snnl.pick_probability.sum())\n",
    "    print(snnl.pick_probability.min(), snnl.pick_probability.argmin()   )\n",
    "\n",
    "    snnl.summed_masked_pick_probability = snnl.mask_sampling_probability(labels = inp_labels, sampling_probability = snnl.pick_probability, device = 'cuda:0')\n",
    "    \n",
    "    print('-'*80)\n",
    "    print('4 - masked pick probability')\n",
    "    print('-'*80)\n",
    "    print(snnl.masked_pick_probability.shape)\n",
    "    # print(snnl.masked_pick_probability)\n",
    "    print(snnl.masked_pick_probability.sum())\n",
    "    print(snnl.masked_pick_probability.min(), snnl.masked_pick_probability.argmin())\n",
    "        \n",
    "    print('-'*80)\n",
    "    print('5 - summed masked pick probability')\n",
    "    print('-'*80)\n",
    "    # snnl.summed_masked_pick_probability = snnl.mask_sampling_probability(labels = inp_labels, sampling_probability = snnl.pick_probability, device = 'cuda:0')\n",
    "    print(snnl.summed_masked_pick_probability.shape)\n",
    "    # print(snnl.summed_masked_pick_probability)\n",
    "    print(snnl.summed_masked_pick_probability.sum(0))\n",
    "    print(snnl.summed_masked_pick_probability.min(), snnl.summed_masked_pick_probability.argmin())\n",
    "    \n",
    "    print('-'*80)\n",
    "    print('6 - Log summed masked pick probability')\n",
    "    print('-'*80)\n",
    "    snnl_loss = torch.mean( -torch.log(snnl.stability_epsilon + snnl.summed_masked_pick_probability))\n",
    "    print(snnl_loss)"
   ]
  },
  {
   "cell_type": "code",
   "execution_count": null,
   "id": "71a0d25a-3ca3-459d-a241-1c5e7b0192ad",
   "metadata": {},
   "outputs": [],
   "source": [
    "def snnlV1_debug( inp_values = None, inp_labels = None, verbose = False):\n",
    "    print('-'*80)\n",
    "    print('1 - pairwise_cos_distance')\n",
    "    print('-'*80)\n",
    "    snnl.distance_matrix = snnl.pairwise_cosine_distance(features = inp_values)\n",
    "    print(snnl.distance_matrix.shape)\n",
    "    if verbose:\n",
    "        print(snnl.distance_matrix)\n",
    "    print(snnl.distance_matrix.sum())\n",
    "    print(snnl.distance_matrix.min(), snnl.distance_matrix.argmin())\n",
    "    \n",
    "    print('-'*80)\n",
    "    print('2 - torch.exp(-(distance_matrix / temp))')\n",
    "    print('-'*80)\n",
    "    tmp2 = torch.exp(-(snnl.distance_matrix / snnl.temperature)) \n",
    "    print(tmp2.shape)\n",
    "    if verbose:\n",
    "        print(tmp2)\n",
    "    print(tmp2.sum())\n",
    "    print(tmp2.min(), tmp2.argmin())\n",
    "    \n",
    "    \n",
    "    print('-'*80)\n",
    "    print('2 - pairwise_distance_matrix')\n",
    "    print('-'*80)\n",
    "    snnl.pairwise_distance_matrix = snnl.normalize_distance_matrix(features = inp_values, distance_matrix = snnl.distance_matrix, device = 'cuda:0')\n",
    "    print(snnl.pairwise_distance_matrix.shape   )\n",
    "    if verbose:\n",
    "        print(snnl.pairwise_distance_matrix)\n",
    "    print(snnl.pairwise_distance_matrix.sum())\n",
    "    print(snnl.pairwise_distance_matrix.min(), snnl.pairwise_distance_matrix.argmin()   )\n",
    "    \n",
    "    print('-'*80)\n",
    "    print('3.A - pick probability unclamped')\n",
    "    print('-'*80)\n",
    "    tmp3 = snnl.pairwise_distance_matrix / (snnl.stability_epsilon + snnl.pairwise_distance_matrix.sum(1).unsqueeze(1))\n",
    "    print(tmp3.shape)\n",
    "    if verbose:\n",
    "        print(tmp3)\n",
    "    print(tmp3.sum())\n",
    "    print(tmp3.min(), tmp3.argmin()   )\n",
    "\n",
    "    print('-'*80)\n",
    "    print('3 - pick probability')\n",
    "    print('-'*80)\n",
    "    snnl.pick_probability = snnl.compute_sampling_probability(snnl.pairwise_distance_matrix)\n",
    "    print(snnl.pick_probability.shape)\n",
    "    if verbose:\n",
    "        print(snnl.pick_probability)\n",
    "    print(snnl.pick_probability.sum())\n",
    "    print(snnl.pick_probability.min(), snnl.pick_probability.argmin()   )\n",
    "    \n",
    "    snnl.summed_masked_pick_probability = snnl.mask_sampling_probability(labels = inp_labels, sampling_probability = snnl.pick_probability, device = 'cuda:0')\n",
    "    \n",
    "    print('-'*80)\n",
    "    print('4 - masked pick probability')\n",
    "    print('-'*80)\n",
    "    print(snnl.masked_pick_probability.shape)\n",
    "    if verbose:\n",
    "        print(snnl.masked_pick_probability)\n",
    "    print(snnl.masked_pick_probability.sum())\n",
    "    print(snnl.masked_pick_probability.min(), snnl.masked_pick_probability.argmin())\n",
    "        \n",
    "    print('-'*80)\n",
    "    print('5 - summed masked pick probability')\n",
    "    print('-'*80)\n",
    "    # snnl.summed_masked_pick_probability = snnl.mask_sampling_probability(labels = inp_labels, sampling_probability = snnl.pick_probability, device = 'cuda:0')\n",
    "    print(snnl.summed_masked_pick_probability.shape)\n",
    "    if verbose:\n",
    "        print(snnl.summed_masked_pick_probability)\n",
    "    print(snnl.summed_masked_pick_probability.sum(0))\n",
    "    print(snnl.summed_masked_pick_probability.min(), snnl.summed_masked_pick_probability.argmin())\n",
    "    \n",
    "    print('-'*80)\n",
    "    print('6 - Log summed masked pick probability')\n",
    "    print('-'*80)\n",
    "    snnl_loss = torch.mean( -torch.log(snnl.stability_epsilon + snnl.summed_masked_pick_probability))\n",
    "    print(snnl_loss)"
   ]
  },
  {
   "cell_type": "markdown",
   "id": "b13792c0-4585-4a33-9c30-92478f6a745c",
   "metadata": {
    "jp-MarkdownHeadingCollapsed": true
   },
   "source": [
    "### V2 Code"
   ]
  },
  {
   "cell_type": "code",
   "execution_count": null,
   "id": "894ced5b-a476-414d-979d-65aae5f0811e",
   "metadata": {},
   "outputs": [],
   "source": [
    "from snnl.losses import SNNLCrossEntropy"
   ]
  },
  {
   "cell_type": "code",
   "execution_count": null,
   "id": "2a6e7d57-6eae-451a-818f-012f5afcbb13",
   "metadata": {},
   "outputs": [],
   "source": [
    "snnlV2device ='cuda:0'\n",
    "snnlV2device ='cpu'\n",
    "snnlV2 = SNNLCrossEntropy(model,\n",
    "                         temperature=snnl.temperature.to('cpu'),\n",
    "                         layer_names=[0,1,2,3,4],\n",
    "                         factor=-10.,\n",
    "                         optimize_temperature=True,\n",
    "                         cos_distance=True)\n",
    "\n",
    "snnlV2"
   ]
  },
  {
   "cell_type": "code",
   "execution_count": null,
   "id": "10066960-6446-4072-b97e-eebaf3597c7f",
   "metadata": {},
   "outputs": [],
   "source": [
    "snnl.temperature\n",
    "snnlV2.temperature"
   ]
  },
  {
   "cell_type": "code",
   "execution_count": null,
   "id": "e5c6182e-4811-48af-b3dd-545f5f835e51",
   "metadata": {},
   "outputs": [],
   "source": [
    "temp = snnl.temperature.to(snnlV2device)\n",
    "temp\n",
    "sample_labels = snnl.sample_labels.to(snnlV2device) \n",
    "# sample_labels"
   ]
  },
  {
   "cell_type": "code",
   "execution_count": null,
   "id": "0c036e01-b545-4f1f-8c95-daedb6284564",
   "metadata": {},
   "outputs": [],
   "source": [
    "for k,v in activations.items():\n",
    "    tmp1 = snnlV2.SNNL(x = v.to(snnlV2device) ,  y = snnl.sample_labels.to(snnlV2device), temp = temp.to(snnlV2device) ) \n",
    "    print(f\"layer {k}  snnlV2 loss: {tmp1}\")\n",
    "# torch.arange(batch_labels.shape[0]).to('cuda:0') // snnl.sample_size"
   ]
  },
  {
   "cell_type": "code",
   "execution_count": null,
   "id": "3a18ee91-e926-4daa-861d-050b5e757178",
   "metadata": {},
   "outputs": [],
   "source": [
    "def snnlV2_fixed_debug( inp_values = None, inp_labels = None , temp = temp):\n",
    "    print('-'*80)\n",
    "    print('1 - pairwise_cos_distance')\n",
    "    print('-'*80)\n",
    "    tmp1 = snnlV2.pairwise_cos_distance(inp_values, inp_values)\n",
    "    print(tmp1.shape)\n",
    "    # print(tmp1)\n",
    "    print(tmp1.sum())\n",
    "    print(tmp1.min(), tmp1.argmin())\n",
    "    \n",
    "    print('-'*80)\n",
    "    print('2 - torch.exp(-(distance_matrix / temp))')\n",
    "    print('-'*80)\n",
    "    tmp2 = torch.exp(-(tmp1 / temp))\n",
    "    print(tmp2.shape)\n",
    "    # print(tmp2)\n",
    "    print(tmp2.sum())\n",
    "    print(tmp2.min(), tmp2.argmin())\n",
    "    \n",
    "    print('-'*80)\n",
    "    print('3 - torch.exp(-(distance_matrix / temp)) - torch.eye(value.shape[0] ')\n",
    "    print('-'*80)\n",
    "    tmp3 = tmp2 - torch.eye(inp_values.shape[0]) \n",
    "    print(tmp3.shape)\n",
    "    # print(tmp3)\n",
    "    print(tmp3.sum())\n",
    "    print(tmp3.min(), tmp3.argmin())\n",
    "    \n",
    "    print('-'*80)\n",
    "    print('4 - PickProbability --- tmp4 / (SNNLCrossEntropy.STABILITY_EPS + tmp4.sum(axis=1).unsqueeze(1))')\n",
    "    print('-'*80) \n",
    "    tmp4 = tmp3 / (SNNLCrossEntropy.STABILITY_EPS + tmp3.sum(axis=1).unsqueeze(1))\n",
    "    tmp4 = torch.clamp(tmp4,0,None)\n",
    "    print(tmp4.shape)\n",
    "    # print(tmp4)\n",
    "    print(tmp4.sum())\n",
    "    print(tmp4.min(), tmp4.argmin())\n",
    "    \n",
    "    print('-'*80)\n",
    "    print('5 - MaskedPickProbability ')\n",
    "    print('-'*80) \n",
    "    tmp5 = tmp4.to('cpu') * snnlV2.same_label_mask(inp_labels, inp_labels )\n",
    "    print(tmp5.shape)\n",
    "    # print(tmp5)\n",
    "    print(tmp5.sum())\n",
    "    print(tmp5.min(), tmp5.argmin())\n",
    "    \n",
    "    print('-'*80)\n",
    "    print('6 -  SummedMaskedPickProbability ')\n",
    "    print('-'*80) \n",
    "    tmp6 = tmp5.sum(axis=1)    \n",
    "    print(tmp6.shape)\n",
    "    # print(tmp6)\n",
    "    print(tmp6.sum(0))\n",
    "    print(tmp6.min(), tmp6.argmin())\n",
    "    \n",
    "    print('-'*80)\n",
    "    print('7 - SummedMaskedPickProbability ')\n",
    "    print('-'*80) \n",
    "    tmp7 =  -torch.log(SNNLCrossEntropy.STABILITY_EPS + tmp6).mean()\n",
    "    print(tmp7.shape)\n",
    "    print(tmp7)\n",
    "    \n",
    "    # summed_masked_pick_prob = SNNLCrossEntropy.masked_pick_probability(x, y, temp, cos_distance).sum(axis=1)\n",
    "    # snnlV2.same_label_mask(sample_labels, sample_labels)"
   ]
  },
  {
   "cell_type": "code",
   "execution_count": null,
   "id": "c0d4a081-01f2-4122-bd02-9acf13276b05",
   "metadata": {},
   "outputs": [],
   "source": [
    "def snnlV2_debug( inp_values = None, inp_labels = None , temp = temp):\n",
    "    print('-'*80)\n",
    "    print('1 - pairwise_cos_distance')\n",
    "    print('-'*80)\n",
    "    tmp1 = snnlV2.pairwise_cos_distance(inp_values, inp_values)\n",
    "    print(tmp1.shape)\n",
    "    # print(tmp1)\n",
    "    print(tmp1.sum())\n",
    "    print(tmp1.min(), tmp1.argmin())\n",
    "    \n",
    "    print('-'*80)\n",
    "    print('2 - torch.exp(-(distance_matrix / temp))')\n",
    "    print('-'*80)\n",
    "    tmp2 = torch.exp(-(tmp1 / temp))\n",
    "    print(tmp2.shape)\n",
    "    # print(tmp2)\n",
    "    print(tmp2.sum())\n",
    "    print(tmp2.min(), tmp2.argmin())\n",
    "    \n",
    "    print('-'*80)\n",
    "    print('3 - torch.exp(-(distance_matrix / temp)) - torch.eye(value.shape[0] ')\n",
    "    print('-'*80)\n",
    "    tmp3 = tmp2 - torch.eye(inp_values.shape[0]) \n",
    "    print(tmp3.shape)\n",
    "    # print(tmp3)\n",
    "    print(tmp3.sum())\n",
    "    print(tmp3.min(), tmp3.argmin())\n",
    "    \n",
    "    print('-'*80)\n",
    "    print('4 - PickProbability --- tmp4 / (SNNLCrossEntropy.STABILITY_EPS + tmp4.sum(axis=1).unsqueeze(1))')\n",
    "    print('-'*80) \n",
    "    tmp4 = tmp3 / (SNNLCrossEntropy.STABILITY_EPS + tmp3.sum(axis=1).unsqueeze(1))\n",
    "    print(tmp4.shape)\n",
    "    # print(tmp4)\n",
    "    print(tmp4.sum())\n",
    "    print(tmp4.min(), tmp4.argmin())\n",
    "    \n",
    "    print('-'*80)\n",
    "    print('5 - MaskedPickProbability ')\n",
    "    print('-'*80) \n",
    "    tmp5 = tmp4.to('cpu') * snnlV2.same_label_mask(inp_labels, inp_labels )\n",
    "    print(tmp5.shape)\n",
    "    # print(tmp5)\n",
    "    print(tmp5.sum())\n",
    "    print(tmp5.min(), tmp5.argmin())\n",
    "    \n",
    "    print('-'*80)\n",
    "    print('6 -  SummedMaskedPickProbability ')\n",
    "    print('-'*80) \n",
    "    tmp6 = tmp5.sum(axis=1)\n",
    "    print(tmp6.shape)\n",
    "    # print(tmp6)\n",
    "    print(tmp6.sum(0))\n",
    "    print(tmp6.min(), tmp6.argmin())\n",
    "    \n",
    "    \n",
    "    print('-'*80)\n",
    "    print('7 - SummedMaskedPickProbability ')\n",
    "    print('-'*80) \n",
    "    tmp7 =  -torch.log(SNNLCrossEntropy.STABILITY_EPS + tmp6).mean()\n",
    "    print(tmp7.shape)\n",
    "    print(tmp7)\n",
    "    \n",
    "    # summed_masked_pick_prob = SNNLCrossEntropy.masked_pick_probability(x, y, temp, cos_distance).sum(axis=1)\n",
    "    # snnlV2.same_label_mask(sample_labels, sample_labels)"
   ]
  },
  {
   "cell_type": "markdown",
   "id": "31f65ced-7a65-4ee9-8c4b-a04c3c503869",
   "metadata": {},
   "source": [
    "### Debug"
   ]
  },
  {
   "cell_type": "code",
   "execution_count": null,
   "id": "2bc8fee1-67d4-40d2-abc7-ad2d36d230ce",
   "metadata": {},
   "outputs": [],
   "source": [
    "layer_id = 0"
   ]
  },
  {
   "cell_type": "code",
   "execution_count": null,
   "id": "287e2406-db2e-400e-88b6-19d2cb69657d",
   "metadata": {},
   "outputs": [],
   "source": [
    "snnlV1_debug(inp_values = activations[layer_id], inp_labels = batch_labels, verbose = True)"
   ]
  },
  {
   "cell_type": "code",
   "execution_count": null,
   "id": "866ac5e3-1794-4189-814f-e1b07c6b4dc4",
   "metadata": {},
   "outputs": [],
   "source": [
    "snnlV1_fixed_debug(inp_values = activations[layer_id], inp_labels = batch_labels)"
   ]
  },
  {
   "cell_type": "code",
   "execution_count": null,
   "id": "2a18a087-1c85-4c7d-a53e-2a6ee6aabcac",
   "metadata": {},
   "outputs": [],
   "source": [
    "snnlV2_debug( inp_values = activations[layer_id].to('cpu'), inp_labels = sample_labels.to('cpu'), temp = temp)"
   ]
  },
  {
   "cell_type": "code",
   "execution_count": null,
   "id": "fd0ecc7c-d23b-4c25-8bea-fc40d4e59b57",
   "metadata": {},
   "outputs": [],
   "source": [
    "snnlV2_fixed_debug( inp_values = activations[layer_id].to('cpu'), inp_labels = sample_labels.to('cpu'), temp = temp)"
   ]
  },
  {
   "cell_type": "code",
   "execution_count": null,
   "id": "1d948f9f-13de-48a9-8fe1-650857b1951b",
   "metadata": {},
   "outputs": [],
   "source": []
  },
  {
   "cell_type": "code",
   "execution_count": null,
   "id": "d0022e2b-70fa-47ee-85c1-8d9a1ba4cbde",
   "metadata": {},
   "outputs": [],
   "source": [
    "print('\\n'+'-'*80)\n",
    "print('1 - pairwise_cos_distance')\n",
    "print('-'*80)\n",
    "tmp1 = snnlV2.pairwise_cos_distance(value, value)\n",
    "# tmp1 = torch.clamp(tmp1,0,None)\n",
    "tmp1.shape\n",
    "tmp1\n",
    "tmp1.sum()\n",
    "tmp1.min(), tmp1.argmin()\n",
    "\n",
    "print('\\n'+'-'*80)\n",
    "print('2 - torch.exp(-(distance_matrix / temp))')\n",
    "print('-'*80)\n",
    "tmp2 = torch.exp(-(tmp1 / temp))\n",
    "# tmp2 = torch.clamp(tmp2,0,None)\n",
    "tmp2.shape\n",
    "tmp2\n",
    "tmp2.sum()\n",
    "tmp2.min(), tmp2.argmin()\n",
    "\n",
    "print('\\n'+'-'*80)\n",
    "print('3 - torch.exp(-(distance_matrix / temp)) - torch.eye(value.shape[0] ')\n",
    "print('-'*80)\n",
    "tmp3 = tmp2 - torch.eye(value.shape[0]).to('cuda')\n",
    "tmp3 = torch.clamp(tmp3,0,None)\n",
    "tmp3.shape\n",
    "tmp3\n",
    "tmp3.sum()\n",
    "tmp3.min(), tmp3.argmin()\n",
    "\n",
    "print('\\n'+'-'*80)\n",
    "print('4 - PickProbability --- tmp4 / (SNNLCrossEntropy.STABILITY_EPS + tmp4.sum(axis=1).unsqueeze(1))')\n",
    "print('-'*80) \n",
    "tmp4 = tmp3 / (SNNLCrossEntropy.STABILITY_EPS + tmp3.sum(axis=1).unsqueeze(1))\n",
    "tmp4.shape\n",
    "# tmp4[:10,:10]\n",
    "tmp4\n",
    "tmp4.sum()\n",
    "tmp4.min(), tmp4.argmin()\n",
    "\n",
    "print('\\n'+'-'*80)\n",
    "print('5 - MaskedPickProbability ')\n",
    "print('-'*80) \n",
    "tmp5 = tmp4.to('cpu') * snnlV2.same_label_mask(sample_labels, sample_labels )\n",
    "tmp5.shape\n",
    "tmp5\n",
    "tmp5.sum()\n",
    "tmp5.min(), tmp5.argmin()\n",
    "\n",
    "print('\\n'+'-'*80)\n",
    "print('6 -  SummedMaskedPickProbability ')\n",
    "print('-'*80) \n",
    "tmp6 = tmp5.sum(axis=1)\n",
    "tmp6.shape\n",
    "tmp6\n",
    "tmp6.sum(0)\n",
    "tmp6.min(), tmp6.argmin()\n",
    "\n",
    "\n",
    "print('\\n'+'-'*80)\n",
    "print('7 - SummedMaskedPickProbability ')\n",
    "print('-'*80) \n",
    "tmp7 =  -torch.log(SNNLCrossEntropy.STABILITY_EPS + tmp6).mean()\n",
    "tmp7.shape\n",
    "tmp7\n",
    "\n",
    "# summed_masked_pick_prob = SNNLCrossEntropy.masked_pick_probability(x, y, temp, cos_distance).sum(axis=1)\n",
    "# snnlV2.same_label_mask(sample_labels, sample_labels)"
   ]
  },
  {
   "cell_type": "markdown",
   "id": "6a4c6d52-8be3-4480-9406-c3ad08546cbd",
   "metadata": {},
   "source": [
    " #### Print values used in snnl loss"
   ]
  },
  {
   "cell_type": "code",
   "execution_count": null,
   "id": "6902d042-5784-4ed6-a702-6ece9e389de0",
   "metadata": {},
   "outputs": [],
   "source": [
    "# outputs.shape\n",
    "# outputs[0].data\n",
    "# outputs.argmax(1)\n",
    "batch_labels\n",
    "\n",
    "# batch_labels[1]\n",
    "# train_accuracy"
   ]
  },
  {
   "cell_type": "code",
   "execution_count": null,
   "id": "be601564-e342-4e36-b98e-cb4b84fdd3e5",
   "metadata": {},
   "outputs": [],
   "source": [
    "# torch.set_printoptions(linewidth=180)\n",
    "\n",
    "# model.snnl_criterion.distance_matrix[:10,:10]\n",
    "\n",
    "# model.snnl_criterion.distance_matrix[:10,:10]\n",
    "\n",
    "# model.snnl_criterion.pairwise_distance_matrix[:10,:10]\n",
    "\n",
    "# model.snnl_criterion.pick_probability[:10,:10]\n",
    "\n",
    "# model.snnl_criterion.masking_matrix[:10,:10]\n",
    "\n",
    "# model.snnl_criterion.masked_pick_probability[:10,:10]\n",
    "\n",
    "# model.snnl_criterion.summed_masked_pick_probability[:10]\n",
    "\n",
    "# tmp1 = torch.eq(model.snnl_criterion.sample_labels, model.snnl_criterion.sample_labels.unsqueeze(1)).float()\n",
    "# tmp1.shape\n",
    "# tmp1[:12,:12]"
   ]
  },
  {
   "cell_type": "code",
   "execution_count": null,
   "id": "c80a17e9-06b2-4f44-8d57-4861900feb1b",
   "metadata": {},
   "outputs": [],
   "source": [
    "# (outputs.argmax(1) == batch_labels).sum().item()\n",
    "# len(batch_labels)\n",
    "# len(data_loader)\n",
    "\n",
    "# activations = dict()\n",
    "# layers = model.layers\n",
    "# for index, layer in enumerate(layers):\n",
    "#     if index == 0:\n",
    "#         activations[index] = layer(batch_features)\n",
    "#     else:\n",
    "#         activations[index] = layer(activations[index - 1])\n",
    "# for i in activations:\n",
    "#     print(activations[i].shape)"
   ]
  },
  {
   "cell_type": "code",
   "execution_count": null,
   "id": "db57c906-31f5-4f9c-af5d-7e6d64565593",
   "metadata": {},
   "outputs": [],
   "source": [
    "# len_data_loader = batch_count -1\n",
    "epoch_loss /= len_data_loader\n",
    "\n",
    "if model.name in [\"DNN\", \"CNN\"]:\n",
    "    epoch_accuracy /= len_data_loader ## len(data_loader)\n",
    "\n",
    "if model.use_snnl:\n",
    "    epoch_snn_loss = epoch_snn_loss * model.snnl_criterion.factor / len_data_loader ## len(data_loader)\n",
    "    epoch_primary_loss /=  len_data_loader  ##  len(data_loader)\n",
    "    \n",
    "    if model.name == \"DNN\" or model.name == \"CNN\":\n",
    "        print(f\" epoch_loss: {epoch_loss},  epoch_snn_loss: {epoch_snn_loss}, epoch_primaey_loss: {epoch_primary_loss}, accuracy: {epoch_accuracy} \")\n",
    "        a,b = (epoch_loss, epoch_snn_loss, epoch_primary_loss), epoch_accuracy\n",
    "    else:\n",
    "        print(f\" epoch_loss: {epoch_loss},  epoch_snn_loss: {epoch_snn_loss}, epoch_primary_loss: {epoch_primary_loss} \")\n",
    "        a =  (epoch_loss, epoch_snn_loss, epoch_primary_loss)\n",
    "else:\n",
    "    if model.name == \"DNN\" or model.name == \"CNN\":\n",
    "        print(f\" epoch_loss: {epoch_loss}, accuracy: {epoch_accuracy} \")\n",
    "        a , b = epoch_loss, epoch_accuracy\n",
    "    else:\n",
    "        print(f\" epoch_loss: {epoch_loss},\")\n",
    "        a =  epoch_loss"
   ]
  }
 ],
 "metadata": {
  "kernelspec": {
   "display_name": "Python [conda env:ptsnnl]",
   "language": "python",
   "name": "conda-env-ptsnnl-py"
  },
  "language_info": {
   "codemirror_mode": {
    "name": "ipython",
    "version": 3
   },
   "file_extension": ".py",
   "mimetype": "text/x-python",
   "name": "python",
   "nbconvert_exporter": "python",
   "pygments_lexer": "ipython3",
   "version": "3.11.0"
  },
  "toc": {
   "base_numbering": 1,
   "nav_menu": {},
   "number_sections": true,
   "sideBar": true,
   "skip_h1_title": false,
   "title_cell": "Table of Contents",
   "title_sidebar": "Contents",
   "toc_cell": false,
   "toc_position": {},
   "toc_section_display": true,
   "toc_window_display": false
  }
 },
 "nbformat": 4,
 "nbformat_minor": 5
}
