{
 "cells": [
  {
   "cell_type": "markdown",
   "id": "35734827",
   "metadata": {},
   "source": [
    "# Test Weights and Biases \n",
    "\n",
    "## Import libraries"
   ]
  },
  {
   "cell_type": "code",
   "execution_count": 22,
   "id": "ed00b143-7e27-4150-881b-f7d7d5f8648d",
   "metadata": {
    "ExecuteTime": {
     "end_time": "2023-04-12T10:29:16.111588Z",
     "start_time": "2023-04-12T10:29:15.764305Z"
    },
    "execution": {
     "iopub.execute_input": "2024-05-03T09:54:46.642373Z",
     "iopub.status.busy": "2024-05-03T09:54:46.641939Z",
     "iopub.status.idle": "2024-05-03T09:54:46.686601Z",
     "shell.execute_reply": "2024-05-03T09:54:46.685708Z",
     "shell.execute_reply.started": "2024-05-03T09:54:46.642344Z"
    }
   },
   "outputs": [
    {
     "data": {
      "text/html": [
       "<style>.container { width:98% !important; }</style>"
      ],
      "text/plain": [
       "<IPython.core.display.HTML object>"
      ]
     },
     "metadata": {},
     "output_type": "display_data"
    },
    {
     "name": "stdout",
     "output_type": "stream",
     "text": [
      "The autoreload extension is already loaded. To reload it, use:\n",
      "  %reload_ext autoreload\n"
     ]
    }
   ],
   "source": [
    "from IPython.display import display, HTML\n",
    "display(HTML(\"<style>.container { width:98% !important; }</style>\"))\n",
    "%load_ext autoreload  \n",
    "%autoreload 2\n",
    "from IPython.core.interactiveshell import InteractiveShell\n",
    "InteractiveShell.ast_node_interactivity = \"all\""
   ]
  },
  {
   "cell_type": "code",
   "execution_count": 23,
   "id": "efc3f590",
   "metadata": {
    "execution": {
     "iopub.execute_input": "2024-05-03T09:54:46.950539Z",
     "iopub.status.busy": "2024-05-03T09:54:46.950129Z",
     "iopub.status.idle": "2024-05-03T09:54:46.992508Z",
     "shell.execute_reply": "2024-05-03T09:54:46.991559Z",
     "shell.execute_reply.started": "2024-05-03T09:54:46.950484Z"
    }
   },
   "outputs": [
    {
     "name": "stdout",
     "output_type": "stream",
     "text": [
      "['../..', './src', '/home/kevin/miniforge3/envs/ptsnnl/lib/python311.zip', '/home/kevin/miniforge3/envs/ptsnnl/lib/python3.11', '/home/kevin/miniforge3/envs/ptsnnl/lib/python3.11/lib-dynload', '', '/home/kevin/miniforge3/envs/ptsnnl/lib/python3.11/site-packages']\n",
      "Timestamp:  2024_05_03_11:54:46\n"
     ]
    }
   ],
   "source": [
    "import io\n",
    "import os\n",
    "import sys\n",
    "import csv\n",
    "import copy\n",
    "from datetime import datetime\n",
    "import json\n",
    "import getpass\n",
    "import types \n",
    "import logging \n",
    "import random\n",
    "import shutil\n",
    "import time\n",
    "import yaml\n",
    "from typing import Dict, List, Tuple\n",
    "\n",
    "for p in ['./src','../..']:\n",
    "    if p not in sys.path:\n",
    "        print(f\"insert {p}\")\n",
    "        sys.path.insert(0, p)\n",
    "print(sys.path)\n",
    "\n",
    "import pprint\n",
    "pp = pprint.PrettyPrinter(indent=4)\n",
    "import numpy as np\n",
    "np.set_printoptions(edgeitems=3, infstr='inf', linewidth=150, nanstr='nan')\n",
    "import pandas as pd\n",
    "pd.options.display.width = 132 \n",
    "\n",
    "timestamp = datetime.now().strftime('%Y_%m_%d_%H:%M:%S')\n",
    "print('Timestamp: ',timestamp)\n",
    "# logLevel = os.environ.get('LOG_LEVEL', 'INFO').upper()\n",
    "# FORMAT = '%(asctime)s - %(levelname)s: - %(message)s'\n",
    "# logging.basicConfig(level=\"INFO\", format= FORMAT)"
   ]
  },
  {
   "cell_type": "code",
   "execution_count": 62,
   "id": "b4993708-9b0c-44b5-85dd-bc88e981cdde",
   "metadata": {
    "execution": {
     "iopub.execute_input": "2024-05-03T10:19:32.096417Z",
     "iopub.status.busy": "2024-05-03T10:19:32.096070Z",
     "iopub.status.idle": "2024-05-03T10:19:32.268323Z",
     "shell.execute_reply": "2024-05-03T10:19:32.267401Z",
     "shell.execute_reply.started": "2024-05-03T10:19:32.096394Z"
    }
   },
   "outputs": [],
   "source": [
    "from snnl.utils import export_results, parse_args, get_hyperparameters, set_global_seed, get_device, set_device\n",
    "# from snnl.utils import accuracy, load_model, save_model, import_results, export_results, save_checkpoint, load_checkpoint \n",
    "# from snnl.utils import plot_model_parms, plot_train_history, plot_train_metrics\n",
    "# from snnl.utils import display_cellpainting_batch, display_epoch_metrics, display_model_history, display_model_summary\n",
    "# from snnl.utils import CellpaintingDataset, InfiniteDataLoader, custom_collate_fn\n"
   ]
  },
  {
   "cell_type": "code",
   "execution_count": 42,
   "id": "6e1987a6-cfc0-48d6-b139-a8470a05dec3",
   "metadata": {
    "execution": {
     "iopub.execute_input": "2024-05-03T10:05:37.095812Z",
     "iopub.status.busy": "2024-05-03T10:05:37.095424Z",
     "iopub.status.idle": "2024-05-03T10:05:37.123814Z",
     "shell.execute_reply": "2024-05-03T10:05:37.123134Z",
     "shell.execute_reply.started": "2024-05-03T10:05:37.095781Z"
    }
   },
   "outputs": [],
   "source": [
    "# del arg1, args"
   ]
  },
  {
   "cell_type": "code",
   "execution_count": 43,
   "id": "20b21402-51bb-4917-8d35-845eff747db4",
   "metadata": {
    "execution": {
     "iopub.execute_input": "2024-05-03T10:05:37.649593Z",
     "iopub.status.busy": "2024-05-03T10:05:37.649289Z",
     "iopub.status.idle": "2024-05-03T10:05:37.701906Z",
     "shell.execute_reply": "2024-05-03T10:05:37.700794Z",
     "shell.execute_reply.started": "2024-05-03T10:05:37.649570Z"
    }
   },
   "outputs": [
    {
     "data": {
      "text/plain": [
       "Namespace(seed=1234, model='baseline', configuration='hyperparameters/dnn_cp_classifier_dropout.yaml')"
      ]
     },
     "execution_count": 43,
     "metadata": {},
     "output_type": "execute_result"
    },
    {
     "data": {
      "text/plain": [
       "{'seed': 1234,\n",
       " 'model': 'baseline',\n",
       " 'configuration': 'hyperparameters/dnn_cp_classifier_dropout.yaml'}"
      ]
     },
     "execution_count": 43,
     "metadata": {},
     "output_type": "execute_result"
    }
   ],
   "source": [
    "input_args = f\" --seed              1234 \" \\\n",
    "              \" --model             baseline\" \\\n",
    "              \" --configuration     hyperparameters/dnn_cp_classifier_dropout.yaml\"\n",
    "             # f\" --configuration     hyperparameters/dnn_cellpainting_classifier_03.json\"\n",
    "             # f\" --configuration     hyperparameters/dnn_cellpainting_classifier_02.json\"\n",
    "             # f\" --configuration     hyperparameters/dnn_cellpainting_classifier_01.json\"\n",
    "             # f\" --configuration     hyperparameters/dnn_cellpainting_unsupervised.json\"\n",
    "             # f\" --configuration     hyperparameters/dnn_mnist.json\"\n",
    "             # f\" --model             baseline\" \\\n",
    "arg1 = parse_args(input_args.split())\n",
    "arg1\n",
    "vars(arg1)"
   ]
  },
  {
   "cell_type": "code",
   "execution_count": 44,
   "id": "f7350528-da29-477d-a9a7-5c8bd6b5a62c",
   "metadata": {
    "execution": {
     "iopub.execute_input": "2024-05-03T10:05:38.096591Z",
     "iopub.status.busy": "2024-05-03T10:05:38.096063Z",
     "iopub.status.idle": "2024-05-03T10:05:38.127535Z",
     "shell.execute_reply": "2024-05-03T10:05:38.126756Z",
     "shell.execute_reply.started": "2024-05-03T10:05:38.096544Z"
    }
   },
   "outputs": [],
   "source": [
    "# def read_yaml(args = None, exp_name = None):\n",
    "#     \"\"\" read yaml passing command line arguments \"\"\"\n",
    "#     if args is None:\n",
    "#         args = get_command_line_args()"
   ]
  },
  {
   "cell_type": "code",
   "execution_count": 45,
   "id": "18890fd1-5e1c-4edf-8ec1-1d6e71877f3e",
   "metadata": {
    "execution": {
     "iopub.execute_input": "2024-05-03T10:05:38.520904Z",
     "iopub.status.busy": "2024-05-03T10:05:38.520594Z",
     "iopub.status.idle": "2024-05-03T10:05:38.554961Z",
     "shell.execute_reply": "2024-05-03T10:05:38.554174Z",
     "shell.execute_reply.started": "2024-05-03T10:05:38.520881Z"
    }
   },
   "outputs": [],
   "source": [
    "with open(arg1.configuration) as f:\n",
    "    args = types.SimpleNamespace(**yaml.safe_load(f), **(vars(arg1)))"
   ]
  },
  {
   "cell_type": "code",
   "execution_count": null,
   "id": "8d5cc949-21e4-41e0-bfd0-13acbc1435fa",
   "metadata": {},
   "outputs": [],
   "source": [
    "import wandb\n",
    "os.environ[\"WANDB_NOTEBOOK_NAME\"] = \"./wandb_test.ipynb\"\n",
    "from KevinsRoutines.utils.utils_wandb  import  init_wandb\n",
    "from KevinsRoutines.utils.utils_general  import  list_namespace"
   ]
  },
  {
   "cell_type": "code",
   "execution_count": 55,
   "id": "dd7ff9ec-67ee-40e8-8ac1-5fb1d6af1555",
   "metadata": {
    "execution": {
     "iopub.execute_input": "2024-05-03T10:10:08.081390Z",
     "iopub.status.busy": "2024-05-03T10:10:08.080884Z",
     "iopub.status.idle": "2024-05-03T10:10:08.112089Z",
     "shell.execute_reply": "2024-05-03T10:10:08.111381Z",
     "shell.execute_reply.started": "2024-05-03T10:10:08.081350Z"
    }
   },
   "outputs": [],
   "source": [
    "args.project_name = 'CellPainting_Profiles'\n",
    "args.exp_id   = None\n",
    "args.exp_name = datetime.now().strftime('%m%d_%H%M')\n",
    "args.exp_desc = 'DNN Training in Baseline mode'"
   ]
  },
  {
   "cell_type": "code",
   "execution_count": 83,
   "id": "3fff1c95-c45f-4aae-90d8-3d9a9ab015d5",
   "metadata": {
    "execution": {
     "iopub.execute_input": "2024-05-03T10:40:44.464805Z",
     "iopub.status.busy": "2024-05-03T10:40:44.464107Z",
     "iopub.status.idle": "2024-05-03T10:40:44.906216Z",
     "shell.execute_reply": "2024-05-03T10:40:44.905603Z",
     "shell.execute_reply.started": "2024-05-03T10:40:44.464751Z"
    }
   },
   "outputs": [
    {
     "name": "stdout",
     "output_type": "stream",
     "text": [
      "\n",
      "command line parms : \n",
      "-----------------------\n",
      "activations..............  ['relu', 'relu', 'none', 'sigmoid']\n",
      "batch_size...............  1\n",
      "\n",
      "    cellpainting_args   (dict)\n",
      "    ----------------------------\n",
      "    batch_size...............  1,\n",
      "    chunksize................  null ,\n",
      "    compounds_per_batch......  100,\n",
      "    conversions..............  null ,\n",
      "    iterator.................  True\n",
      "    sample_size..............  3,\n",
      "    test_end.................  33600,\n",
      "    test_start...............  30000,\n",
      "    train_end................  240000,\n",
      "    train_start..............  0,\n",
      "    training_path............  /home/kevin/WSL-shared/Cellpainting/cj-datasets/output_11102023/3_sample_profiles/3sample_profiles_1482_HashOrder.csv\n",
      "    val_end..................  24000,\n",
      "    val_start................  0,\n",
      "    validation_path..........  /home/kevin/WSL-shared/Cellpainting/cj-datasets/output_11102023/3_sample_profiles/3sample_profiles_1482_HashOrder_test.csv\n",
      "\n",
      "config...................  None\n",
      "configuration............  hyperparameters/dnn_cp_classifier_dropout.yaml\n",
      "cpu......................  None\n",
      "dataset..................  cellpainting\n",
      "epochs...................  10\n",
      "exp_desc.................  DNN Training in Baseline mode\n",
      "exp_description..........  brief description\n",
      "exp_folder...............  None\n",
      "exp_id...................  None\n",
      "exp_name.................  0503_1210\n",
      "exp_name_pfx.............  None\n",
      "folder_sfx...............  None\n",
      "gpu_ids..................  None\n",
      "learning_rate............  1e-4\n",
      "model....................  baseline\n",
      "\n",
      "    paths   (dict)\n",
      "    ----------------\n",
      "    checkpoint_dir...........  ./ckpt\n",
      "    log_dir..................  ./logs\n",
      "    result_dir...............  ./results\n",
      "\n",
      "project..................  CellPainting_Profiles\n",
      "project_name.............  CellPainting_Profiles\n",
      "random_seed..............  1234\n",
      "seed.....................  1234\n",
      "seed_list................  None\n",
      "snnl_factor..............  10.0\n",
      "temperature..............  50.0\n",
      "units....................  [['Linear', 1471, 512], ['Linear', 512, 128], ['dropout', 128, 128], ['Linear', 128, 1]]\n",
      "\n"
     ]
    }
   ],
   "source": [
    "list_namespace(args)"
   ]
  },
  {
   "cell_type": "code",
   "execution_count": 58,
   "id": "1796e87f-7519-4bd2-806e-706a724dec59",
   "metadata": {
    "execution": {
     "iopub.execute_input": "2024-05-03T10:11:23.299137Z",
     "iopub.status.busy": "2024-05-03T10:11:23.298450Z",
     "iopub.status.idle": "2024-05-03T10:11:28.340665Z",
     "shell.execute_reply": "2024-05-03T10:11:28.339678Z",
     "shell.execute_reply.started": "2024-05-03T10:11:23.299083Z"
    }
   },
   "outputs": [
    {
     "name": "stdout",
     "output_type": "stream",
     "text": [
      " initiate new job run\n"
     ]
    },
    {
     "data": {
      "text/html": [
       "Changes to your `wandb` environment variables will be ignored because your `wandb` session has already started. For more information on how to modify your settings with `wandb.init()` arguments, please refer to <a href='https://wandb.me/wandb-init' target=\"_blank\">the W&B docs</a>."
      ],
      "text/plain": [
       "<IPython.core.display.HTML object>"
      ]
     },
     "metadata": {},
     "output_type": "display_data"
    },
    {
     "data": {
      "text/html": [
       "Tracking run with wandb version 0.16.6"
      ],
      "text/plain": [
       "<IPython.core.display.HTML object>"
      ]
     },
     "metadata": {},
     "output_type": "display_data"
    },
    {
     "data": {
      "text/html": [
       "Run data is saved locally in <code>/home/kevin/WSL-shared/Cellpainting/pt-snnl/wandb/run-20240503_121123-dm0z4rc0</code>"
      ],
      "text/plain": [
       "<IPython.core.display.HTML object>"
      ]
     },
     "metadata": {},
     "output_type": "display_data"
    },
    {
     "data": {
      "text/html": [
       "Syncing run <strong><a href='https://wandb.ai/kbardool/CellPainting_Profiles/runs/dm0z4rc0' target=\"_blank\">0503_1210</a></strong> to <a href='https://wandb.ai/kbardool/CellPainting_Profiles' target=\"_blank\">Weights & Biases</a> (<a href='https://wandb.me/run' target=\"_blank\">docs</a>)<br/>"
      ],
      "text/plain": [
       "<IPython.core.display.HTML object>"
      ]
     },
     "metadata": {},
     "output_type": "display_data"
    },
    {
     "data": {
      "text/html": [
       " View project at <a href='https://wandb.ai/kbardool/CellPainting_Profiles' target=\"_blank\">https://wandb.ai/kbardool/CellPainting_Profiles</a>"
      ],
      "text/plain": [
       "<IPython.core.display.HTML object>"
      ]
     },
     "metadata": {},
     "output_type": "display_data"
    },
    {
     "data": {
      "text/html": [
       " View run at <a href='https://wandb.ai/kbardool/CellPainting_Profiles/runs/dm0z4rc0' target=\"_blank\">https://wandb.ai/kbardool/CellPainting_Profiles/runs/dm0z4rc0</a>"
      ],
      "text/plain": [
       "<IPython.core.display.HTML object>"
      ]
     },
     "metadata": {},
     "output_type": "display_data"
    },
    {
     "name": "stdout",
     "output_type": "stream",
     "text": [
      " WandB Initialization -----------------------------------------------------------\n",
      " PROJECT NAME: CellPainting_Profiles\n",
      " RUN ID      : dm0z4rc0 \n",
      " RUN NAME    : 0503_1210\n",
      " --------------------------------------------------------------------------------\n"
     ]
    }
   ],
   "source": [
    "wandb_run = init_wandb(args)"
   ]
  },
  {
   "cell_type": "code",
   "execution_count": null,
   "id": "32965563-df88-4ca5-966c-065fc151cd07",
   "metadata": {},
   "outputs": [],
   "source": [
    "wandb_watch(item = None, criterion=None, log = 'all', log_freq = 1000, log_graph = True)"
   ]
  },
  {
   "cell_type": "code",
   "execution_count": 59,
   "id": "2129624a-2baf-40f5-8d6d-a23155ba0ee1",
   "metadata": {
    "execution": {
     "iopub.execute_input": "2024-05-03T10:11:37.539850Z",
     "iopub.status.busy": "2024-05-03T10:11:37.539212Z",
     "iopub.status.idle": "2024-05-03T10:11:41.606493Z",
     "shell.execute_reply": "2024-05-03T10:11:41.605667Z",
     "shell.execute_reply.started": "2024-05-03T10:11:37.539792Z"
    }
   },
   "outputs": [
    {
     "data": {
      "text/html": [
       " View run <strong style=\"color:#cdcd00\">0503_1210</strong> at: <a href='https://wandb.ai/kbardool/CellPainting_Profiles/runs/dm0z4rc0' target=\"_blank\">https://wandb.ai/kbardool/CellPainting_Profiles/runs/dm0z4rc0</a><br/> View project at: <a href='https://wandb.ai/kbardool/CellPainting_Profiles' target=\"_blank\">https://wandb.ai/kbardool/CellPainting_Profiles</a><br/>Synced 6 W&B file(s), 0 media file(s), 0 artifact file(s) and 0 other file(s)"
      ],
      "text/plain": [
       "<IPython.core.display.HTML object>"
      ]
     },
     "metadata": {},
     "output_type": "display_data"
    },
    {
     "data": {
      "text/html": [
       "Find logs at: <code>./wandb/run-20240503_121123-dm0z4rc0/logs</code>"
      ],
      "text/plain": [
       "<IPython.core.display.HTML object>"
      ]
     },
     "metadata": {},
     "output_type": "display_data"
    }
   ],
   "source": [
    "# [optional] finish the wandb run, necessary in notebooks\n",
    "wandb_run.finish()"
   ]
  },
  {
   "cell_type": "code",
   "execution_count": 54,
   "id": "40702a86-ae43-4257-8774-bc3990e20e93",
   "metadata": {
    "execution": {
     "iopub.execute_input": "2024-05-03T10:09:50.914780Z",
     "iopub.status.busy": "2024-05-03T10:09:50.914118Z",
     "iopub.status.idle": "2024-05-03T10:09:50.948434Z",
     "shell.execute_reply": "2024-05-03T10:09:50.947666Z",
     "shell.execute_reply.started": "2024-05-03T10:09:50.914729Z"
    }
   },
   "outputs": [],
   "source": [
    "# start a new wandb run to track this script\n",
    "# wandb.init(\n",
    "#     # set the wandb project where this run will be logged\n",
    "#     project=\"test-project\",\n",
    "#     # track hyperparameters and run metadata\n",
    "#     config={\n",
    "#     \"learning_rate\": 0.02,\n",
    "#     \"architecture\": \"CNN\",\n",
    "#     \"dataset\": \"CIFAR-100\",\n",
    "#     \"epochs\": 10,\n",
    "#     }\n",
    "# )"
   ]
  },
  {
   "cell_type": "code",
   "execution_count": 6,
   "id": "36f3c1f8-2967-41e9-9fae-2d15809962d2",
   "metadata": {
    "execution": {
     "iopub.execute_input": "2024-05-03T05:16:55.144341Z",
     "iopub.status.busy": "2024-05-03T05:16:55.143756Z",
     "iopub.status.idle": "2024-05-03T05:16:55.155102Z",
     "shell.execute_reply": "2024-05-03T05:16:55.153967Z",
     "shell.execute_reply.started": "2024-05-03T05:16:55.144296Z"
    }
   },
   "outputs": [],
   "source": [
    "# # simulate training\n",
    "# epochs = 10\n",
    "# offset = random.random() / 5\n",
    "# for epoch in range(2, epochs):\n",
    "#     acc = 1 - 2 ** -epoch - random.random() / epoch - offset\n",
    "#     loss = 2 ** -epoch + random.random() / epoch + offset\n",
    "\n",
    "#     # log metrics to wandb\n",
    "#     wandb.log({\"acc\": acc, \"loss\": loss})"
   ]
  },
  {
   "cell_type": "code",
   "execution_count": 84,
   "id": "c3aa1189-bf29-422e-924b-74df96ad2f85",
   "metadata": {
    "execution": {
     "iopub.execute_input": "2024-05-04T11:09:16.646716Z",
     "iopub.status.busy": "2024-05-04T11:09:16.646167Z",
     "iopub.status.idle": "2024-05-04T11:09:16.684648Z",
     "shell.execute_reply": "2024-05-04T11:09:16.683875Z",
     "shell.execute_reply.started": "2024-05-04T11:09:16.646670Z"
    }
   },
   "outputs": [],
   "source": [
    "# [optional] finish the wandb run, necessary in notebooks\n",
    "# wandb_run.finish()"
   ]
  },
  {
   "cell_type": "code",
   "execution_count": null,
   "id": "5ef20888-1ca0-4adb-9792-024688f63bde",
   "metadata": {},
   "outputs": [],
   "source": []
  }
 ],
 "metadata": {
  "kernelspec": {
   "display_name": "Python [conda env:ptsnnl]",
   "language": "python",
   "name": "conda-env-ptsnnl-py"
  },
  "language_info": {
   "codemirror_mode": {
    "name": "ipython",
    "version": 3
   },
   "file_extension": ".py",
   "mimetype": "text/x-python",
   "name": "python",
   "nbconvert_exporter": "python",
   "pygments_lexer": "ipython3",
   "version": "3.11.0"
  },
  "vscode": {
   "interpreter": {
    "hash": "99b7565f135174dc0b2b48bf12677acb9f68934ef480bdca979ca8cd3dcbc0b9"
   }
  }
 },
 "nbformat": 4,
 "nbformat_minor": 5
}
