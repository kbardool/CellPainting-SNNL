{
 "cells": [
  {
   "cell_type": "code",
   "execution_count": 1,
   "id": "11ad0ae2",
   "metadata": {
    "ExecuteTime": {
     "end_time": "2023-04-12T10:29:15.566596Z",
     "start_time": "2023-04-12T10:29:15.550232Z"
    },
    "execution": {
     "iopub.execute_input": "2024-03-24T20:12:49.170029Z",
     "iopub.status.busy": "2024-03-24T20:12:49.169536Z",
     "iopub.status.idle": "2024-03-24T20:12:49.195589Z",
     "shell.execute_reply": "2024-03-24T20:12:49.194736Z",
     "shell.execute_reply.started": "2024-03-24T20:12:49.169987Z"
    }
   },
   "outputs": [
    {
     "data": {
      "text/html": [
       "<style>.container { width:98% !important; }</style>"
      ],
      "text/plain": [
       "<IPython.core.display.HTML object>"
      ]
     },
     "metadata": {},
     "output_type": "display_data"
    }
   ],
   "source": [
    "from IPython.display import display, HTML\n",
    "display(HTML(\"<style>.container { width:98% !important; }</style>\"))\n",
    "%load_ext autoreload  \n",
    "%autoreload 2\n",
    "from IPython.core.interactiveshell import InteractiveShell\n",
    "InteractiveShell.ast_node_interactivity = \"all\""
   ]
  },
  {
   "cell_type": "code",
   "execution_count": 2,
   "id": "9ba59711",
   "metadata": {
    "ExecuteTime": {
     "end_time": "2023-04-12T10:29:16.111588Z",
     "start_time": "2023-04-12T10:29:15.764305Z"
    },
    "execution": {
     "iopub.execute_input": "2024-03-24T20:12:49.197149Z",
     "iopub.status.busy": "2024-03-24T20:12:49.196942Z",
     "iopub.status.idle": "2024-03-24T20:12:49.477458Z",
     "shell.execute_reply": "2024-03-24T20:12:49.476430Z",
     "shell.execute_reply.started": "2024-03-24T20:12:49.197129Z"
    }
   },
   "outputs": [
    {
     "name": "stdout",
     "output_type": "stream",
     "text": [
      "insert ./src\n",
      "['./src', '/home/kevin/miniforge3/envs/ptsnnl/lib/python311.zip', '/home/kevin/miniforge3/envs/ptsnnl/lib/python3.11', '/home/kevin/miniforge3/envs/ptsnnl/lib/python3.11/lib-dynload', '', '/home/kevin/miniforge3/envs/ptsnnl/lib/python3.11/site-packages']\n"
     ]
    }
   ],
   "source": [
    "import os\n",
    "import sys\n",
    "import argparse\n",
    "import csv\n",
    "import json\n",
    "import time\n",
    "import types, copy, pprint\n",
    "from datetime import datetime\n",
    "import numpy as np\n",
    "\n",
    "if './src' not in sys.path:\n",
    "    print(f\"insert ./src\")\n",
    "    sys.path.insert(0, './src')\n",
    "print(sys.path)\n",
    "\n",
    "\n",
    "# import pandas as pd\n",
    "# pd.options.display.width = 132\n",
    "from scipy.sparse import csr_matrix\n",
    "\n",
    "pp = pprint.PrettyPrinter(indent=4)\n",
    "np.set_printoptions(edgeitems=3, infstr='inf', linewidth=150, nanstr='nan')\n",
    "\n",
    "os.environ[\"WANDB_NOTEBOOK_NAME\"] = \"Adashare_Train.ipynb\"\n",
    "os.environ[\"CUDA_LAUNCH_BLOCKING\"] = \"1\""
   ]
  },
  {
   "cell_type": "code",
   "execution_count": 3,
   "id": "28b0ff70-8483-49b5-a308-26720cf31118",
   "metadata": {
    "execution": {
     "iopub.execute_input": "2024-03-24T20:12:49.479734Z",
     "iopub.status.busy": "2024-03-24T20:12:49.479129Z",
     "iopub.status.idle": "2024-03-24T20:12:49.496636Z",
     "shell.execute_reply": "2024-03-24T20:12:49.495827Z",
     "shell.execute_reply.started": "2024-03-24T20:12:49.479688Z"
    }
   },
   "outputs": [
    {
     "name": "stdout",
     "output_type": "stream",
     "text": [
      " Timestamp:  ./tmp/sql_cohort_2024_03_24_21:12:49.txt\n"
     ]
    }
   ],
   "source": [
    "# print(\"1- '%x_%X'               : \",time.strftime('%x_%X'))\n",
    "# print(\"2- '%X.%f'               : \",datetime.now().strftime('%X.%f'))\n",
    "# print(\"3- '%X %x %Z'            : \",time.strftime('%X %x %Z'))\n",
    "# print(\"4- '%D-%X.%f'            : \",datetime.now().strftime('%D-%X.%f'))\n",
    "# print(\"5- '%Y-%m-%d %H:%M:%S.%f': \",datetime.now().strftime('%Y-%m-%d %H:%M:%S.%f'))\n",
    "# print(\"6- '%Y%m%d_%H%M%S'       : \",datetime.now().strftime('%Y%m%d_%H%M%S'))\n",
    "# print(\"7- '%Y_%m_%d_%H:%M:%S'   : \",datetime.now().strftime('%Y_%m_%d_%H:%M:%S'))\n",
    "\n",
    "timestamp = datetime.now().strftime('%Y_%m_%d_%H:%M:%S')\n",
    "print(' Timestamp: ','./tmp/sql_cohort'+'_'+timestamp+'.txt')"
   ]
  },
  {
   "cell_type": "code",
   "execution_count": 4,
   "id": "97eb9ce9-3778-444b-8784-63493d1a8619",
   "metadata": {
    "execution": {
     "iopub.execute_input": "2024-03-24T20:12:49.498942Z",
     "iopub.status.busy": "2024-03-24T20:12:49.498546Z",
     "iopub.status.idle": "2024-03-24T20:12:49.529107Z",
     "shell.execute_reply": "2024-03-24T20:12:49.528100Z",
     "shell.execute_reply.started": "2024-03-24T20:12:49.498911Z"
    }
   },
   "outputs": [],
   "source": [
    "import os\n",
    "import logging \n",
    "logLevel = os.environ.get('LOG_LEVEL', 'INFO').upper()\n",
    "FORMAT = '%(asctime)s - %(levelname)s: - %(message)s'\n",
    "logging.basicConfig(level=\"INFO\", format= FORMAT)\n",
    "# logging.getLogger(\"imported_module\").setLevel(logging.CRITICAL)\n",
    "# logging.info(f\" 1/7- engine connected\")\n",
    "# logging.warning(f\" 1/7- engine connected\")\n",
    "# logging.error(f\" 1/7- engine connected\")\n",
    "# logging.critical(f\" 1/7- engine connected\")"
   ]
  },
  {
   "cell_type": "markdown",
   "id": "c9a51595-5eb1-4169-83e1-ab476383de22",
   "metadata": {},
   "source": [
    "# Setup"
   ]
  },
  {
   "cell_type": "code",
   "execution_count": 5,
   "id": "20f55fa0",
   "metadata": {
    "execution": {
     "iopub.execute_input": "2024-03-24T20:12:49.530674Z",
     "iopub.status.busy": "2024-03-24T20:12:49.530297Z",
     "iopub.status.idle": "2024-03-24T20:12:50.775034Z",
     "shell.execute_reply": "2024-03-24T20:12:50.774300Z",
     "shell.execute_reply.started": "2024-03-24T20:12:49.530642Z"
    }
   },
   "outputs": [],
   "source": [
    "import torch\n",
    "import torch.nn.functional as F\n",
    "from torchinfo import summary\n",
    "import os\n",
    "import shutil\n",
    "import sys\n",
    "import getpass\n",
    "from tqdm import tqdm\n",
    "from datetime import datetime\n"
   ]
  },
  {
   "cell_type": "code",
   "execution_count": 6,
   "id": "8059a7a6",
   "metadata": {
    "execution": {
     "iopub.execute_input": "2024-03-24T20:12:50.776226Z",
     "iopub.status.busy": "2024-03-24T20:12:50.775944Z",
     "iopub.status.idle": "2024-03-24T20:12:50.810983Z",
     "shell.execute_reply": "2024-03-24T20:12:50.810207Z",
     "shell.execute_reply.started": "2024-03-24T20:12:50.776205Z"
    }
   },
   "outputs": [
    {
     "name": "stdout",
     "output_type": "stream",
     "text": [
      "Running on: cuda\n"
     ]
    },
    {
     "data": {
      "text/plain": [
       "'cuda'"
      ]
     },
     "execution_count": 6,
     "metadata": {},
     "output_type": "execute_result"
    }
   ],
   "source": [
    "torch.set_printoptions(precision=None, threshold=None, edgeitems=None, linewidth=150, profile=None, sci_mode=None)\n",
    "def _get_device():\n",
    "    device = 'cuda' if torch.cuda.is_available() else 'cpu'\n",
    "    print(\"Running on:\", device)\n",
    "    return device\n",
    "_get_device()"
   ]
  },
  {
   "cell_type": "code",
   "execution_count": 7,
   "id": "bd74b69c-7c4c-42cf-ae66-1dd402d5e341",
   "metadata": {
    "execution": {
     "iopub.execute_input": "2024-03-24T20:12:50.812072Z",
     "iopub.status.busy": "2024-03-24T20:12:50.811874Z",
     "iopub.status.idle": "2024-03-24T20:12:53.282033Z",
     "shell.execute_reply": "2024-03-24T20:12:53.280989Z",
     "shell.execute_reply.started": "2024-03-24T20:12:50.812053Z"
    }
   },
   "outputs": [
    {
     "data": {
      "text/plain": [
       "'Sample module for using DNN classifier with SNNL'"
      ]
     },
     "execution_count": 7,
     "metadata": {},
     "output_type": "execute_result"
    }
   ],
   "source": [
    "# Soft Nearest Neighbor Loss\n",
    "# Copyright (C) 2020  Abien Fred Agarap\n",
    "#\n",
    "# This program is free software: you can redistribute it and/or modify\n",
    "# it under the terms of the GNU Affero General Public License as published\n",
    "# by the Free Software Foundation, either version 3 of the License, or\n",
    "# (at your option) any later version.\n",
    "#\n",
    "# This program is distributed in the hope that it will be useful,\n",
    "# but WITHOUT ANY WARRANTY; without even the implied warranty of\n",
    "# MERCHANTABILITY or FITNESS FOR A PARTICULAR PURPOSE.  See the\n",
    "# GNU Affero General Public License for more details.\n",
    "#\n",
    "# You should have received a copy of the GNU Affero General Public License\n",
    "# along with this program.  If not, see <https://www.gnu.org/licenses/>.\n",
    "\"\"\"Sample module for using DNN classifier with SNNL\"\"\"\n",
    "import argparse\n",
    "\n",
    "import torch\n",
    "from pt_datasets import create_dataloader, load_dataset\n",
    "\n",
    "# from snnl.models import DNN\n",
    "from snnl.utils import export_results, get_hyperparameters, set_global_seed\n",
    "from snnl.utils.metrics import accuracy\n",
    "\n",
    "__author__ = \"Abien Fred Agarap\"\n",
    "__version__ = \"1.0.0\""
   ]
  },
  {
   "cell_type": "code",
   "execution_count": 8,
   "id": "c53e68ae-5323-4691-aacc-b79d5f8ede2e",
   "metadata": {
    "execution": {
     "iopub.execute_input": "2024-03-24T20:12:53.284909Z",
     "iopub.status.busy": "2024-03-24T20:12:53.284170Z",
     "iopub.status.idle": "2024-03-24T20:12:53.323099Z",
     "shell.execute_reply": "2024-03-24T20:12:53.322406Z",
     "shell.execute_reply.started": "2024-03-24T20:12:53.284860Z"
    }
   },
   "outputs": [],
   "source": [
    "from dev_code import Model, DNN, Autoencoder, SNNLoss"
   ]
  },
  {
   "cell_type": "code",
   "execution_count": 9,
   "id": "a71c150d-f217-4176-ac93-7054da809907",
   "metadata": {
    "execution": {
     "iopub.execute_input": "2024-03-24T20:12:53.324300Z",
     "iopub.status.busy": "2024-03-24T20:12:53.324062Z",
     "iopub.status.idle": "2024-03-24T20:12:53.355529Z",
     "shell.execute_reply": "2024-03-24T20:12:53.354759Z",
     "shell.execute_reply.started": "2024-03-24T20:12:53.324279Z"
    }
   },
   "outputs": [],
   "source": [
    "def parse_args(input = None):\n",
    "    parser = argparse.ArgumentParser(description=\"DNN classifier with SNNL\")\n",
    "    group = parser.add_argument_group(\"Parameters\")\n",
    "    group.add_argument(\n",
    "        \"-s\",\n",
    "        \"--seed\",\n",
    "        required=False,\n",
    "        default=1234,\n",
    "        type=int,\n",
    "        help=\"the random seed value to use, default: [1234]\",\n",
    "    )\n",
    "    group.add_argument(\n",
    "        \"-m\",\n",
    "        \"--model\",\n",
    "        required=False,\n",
    "        default=\"baseline\",\n",
    "        type=str,\n",
    "        help=\"the model to use, options: [baseline (default) | snnl]\",\n",
    "    )\n",
    "    group.add_argument(\n",
    "        \"-c\",\n",
    "        \"--configuration\",\n",
    "        required=False,\n",
    "        default=\"examples/hyperparameters/dnn.json\",\n",
    "        type=str,\n",
    "        help=\"the path to the JSON file containing the hyperparameters to use\",\n",
    "    )\n",
    "    arguments = parser.parse_args(input)\n",
    "    return arguments"
   ]
  },
  {
   "cell_type": "code",
   "execution_count": 10,
   "id": "95ff51bb-1eec-4878-ab71-57f6306b6722",
   "metadata": {
    "execution": {
     "iopub.execute_input": "2024-03-24T20:12:53.358146Z",
     "iopub.status.busy": "2024-03-24T20:12:53.357869Z",
     "iopub.status.idle": "2024-03-24T20:12:53.449471Z",
     "shell.execute_reply": "2024-03-24T20:12:53.448495Z",
     "shell.execute_reply.started": "2024-03-24T20:12:53.358126Z"
    }
   },
   "outputs": [
    {
     "data": {
      "text/plain": [
       "Namespace(seed=1234, model='snnl', configuration='examples/hyperparameters/autoencoder_cellpainting.json')"
      ]
     },
     "execution_count": 10,
     "metadata": {},
     "output_type": "execute_result"
    }
   ],
   "source": [
    "# if __name__ == \"__main__\":\n",
    "input_args = f\" --seed              1234 \" \\\n",
    "             f\" --model             snnl\" \\\n",
    "             f\" --configuration     examples/hyperparameters/autoencoder_cellpainting.json\"\n",
    "             # f\" --configuration     examples/hyperparameters/dnn_mnist.json\"\n",
    "             # f\" --model             baseline\" \\\n",
    "args = parse_args(input_args.split())\n",
    "\n",
    "args"
   ]
  },
  {
   "cell_type": "markdown",
   "id": "1be5e789-3446-482f-a3ca-fdd19b2a845e",
   "metadata": {},
   "source": [
    "#### main(args)"
   ]
  },
  {
   "cell_type": "code",
   "execution_count": 11,
   "id": "ed4ddef2-30f2-45c3-b5ff-c7def50ddaaf",
   "metadata": {
    "execution": {
     "iopub.execute_input": "2024-03-24T20:12:53.451411Z",
     "iopub.status.busy": "2024-03-24T20:12:53.450933Z",
     "iopub.status.idle": "2024-03-24T20:12:53.482162Z",
     "shell.execute_reply": "2024-03-24T20:12:53.481459Z",
     "shell.execute_reply.started": "2024-03-24T20:12:53.451373Z"
    }
   },
   "outputs": [
    {
     "name": "stdout",
     "output_type": "stream",
     "text": [
      "hello common cellpainting \n",
      "hello autoencoder\n",
      "hello autoencoder_cellpainting \n"
     ]
    }
   ],
   "source": [
    "## Autoencoder\n",
    "(\n",
    "    dataset,\n",
    "    batch_size,\n",
    "    epochs,\n",
    "    learning_rate,\n",
    "    input_shape,\n",
    "    code_dim,\n",
    "    snnl_factor,\n",
    "    temperature,\n",
    "    cellpainting_args\n",
    ") = get_hyperparameters(args.configuration)\n"
   ]
  },
  {
   "cell_type": "code",
   "execution_count": 12,
   "id": "018a11c8-a00b-4732-a2d3-9c252d7a281d",
   "metadata": {
    "execution": {
     "iopub.execute_input": "2024-03-24T20:12:53.483429Z",
     "iopub.status.busy": "2024-03-24T20:12:53.483216Z",
     "iopub.status.idle": "2024-03-24T20:12:53.530880Z",
     "shell.execute_reply": "2024-03-24T20:12:53.530100Z",
     "shell.execute_reply.started": "2024-03-24T20:12:53.483410Z"
    }
   },
   "outputs": [],
   "source": [
    "# units = [[784, 256], [256, 256], [256, 512], [512,10]]\n",
    "# epochs = 10\n",
    "batch_size = 32"
   ]
  },
  {
   "cell_type": "code",
   "execution_count": 13,
   "id": "64c55d62-0f46-4805-903e-610bf769837f",
   "metadata": {
    "execution": {
     "iopub.execute_input": "2024-03-24T20:12:53.532534Z",
     "iopub.status.busy": "2024-03-24T20:12:53.532157Z",
     "iopub.status.idle": "2024-03-24T20:12:53.564362Z",
     "shell.execute_reply": "2024-03-24T20:12:53.563721Z",
     "shell.execute_reply.started": "2024-03-24T20:12:53.532505Z"
    }
   },
   "outputs": [],
   "source": [
    "if dataset == \"cellpainting\": \n",
    "    cellpainting_args['batch_size']  = batch_size\n",
    "    cellpainting_args['dataset_path'] = '/home/kevin/WSL-shared/Cellpainting/cj-datasets/output_11102023/3_sample_profiles/3sample_profiles_1471_HashOrder.csv'\n",
    "    # cellpainting_ds = dict()\n",
    "    # cellpainting_ds['sample_size'] = 3\n",
    "    # cellpainting_ds['train_start'] = 0\n",
    "    # cellpainting_ds['train_end']   = 66666\n",
    "    # cellpainting_ds['test_start']  = 300000\n",
    "    # cellpainting_ds['test_end']    = cellpainting_ds['test_start'] + 3333  ## 346542\n",
    "    # cellpainting_args['chunksize']   = None\n",
    "    # cellpainting_args['conversions'] = None\n",
    "    # cellpainting_args['iterator'] = True"
   ]
  },
  {
   "cell_type": "code",
   "execution_count": 14,
   "id": "1e4f9df4-ca74-4916-8d76-be4bed339b6c",
   "metadata": {
    "execution": {
     "iopub.execute_input": "2024-03-24T20:12:53.565570Z",
     "iopub.status.busy": "2024-03-24T20:12:53.565353Z",
     "iopub.status.idle": "2024-03-24T20:12:53.624458Z",
     "shell.execute_reply": "2024-03-24T20:12:53.623623Z",
     "shell.execute_reply.started": "2024-03-24T20:12:53.565551Z"
    }
   },
   "outputs": [
    {
     "name": "stdout",
     "output_type": "stream",
     "text": [
      "   dataset           cellpainting\n",
      "   batch_size        32\n",
      "   epochs            40\n",
      "   learning_rate     0.001\n",
      "   code_dim             50\n",
      "   snnl_factor       100.0\n",
      "   temperature       None\n",
      "   cellpainting_args {'sample_size': 3, 'train_start': 0, 'train_end': 66666, 'test_start': 300000, 'test_end': 310000, 'chunksize': None, 'conversions': None, 'iterator': True, 'batch_size': 32, 'dataset_path': '/home/kevin/WSL-shared/Cellpainting/cj-datasets/output_11102023/3_sample_profiles/3sample_profiles_1471_HashOrder.csv'}\n"
     ]
    }
   ],
   "source": [
    "print(f\"   dataset           {dataset}\")\n",
    "print(f\"   batch_size        {batch_size}\")\n",
    "print(f\"   epochs            {epochs}\")\n",
    "print(f\"   learning_rate     {learning_rate}\")\n",
    "print(f\"   code_dim             {code_dim}\")\n",
    "print(f\"   snnl_factor       {snnl_factor}\")\n",
    "print(f\"   temperature       {temperature}\")\n",
    "if dataset == \"cellpainting\": \n",
    "    print(f\"   cellpainting_args {cellpainting_args}\")"
   ]
  },
  {
   "cell_type": "code",
   "execution_count": 15,
   "id": "8ad3eb09-600a-4e3a-9b28-f9491f962624",
   "metadata": {
    "execution": {
     "iopub.execute_input": "2024-03-24T20:12:53.625874Z",
     "iopub.status.busy": "2024-03-24T20:12:53.625437Z",
     "iopub.status.idle": "2024-03-24T20:12:53.652380Z",
     "shell.execute_reply": "2024-03-24T20:12:53.651771Z",
     "shell.execute_reply.started": "2024-03-24T20:12:53.625854Z"
    }
   },
   "outputs": [],
   "source": [
    "set_global_seed(args.seed)"
   ]
  },
  {
   "cell_type": "code",
   "execution_count": 16,
   "id": "b83ca556-604c-4467-846b-df0f4b55d117",
   "metadata": {
    "execution": {
     "iopub.execute_input": "2024-03-24T20:12:53.653885Z",
     "iopub.status.busy": "2024-03-24T20:12:53.653638Z",
     "iopub.status.idle": "2024-03-24T20:13:20.788175Z",
     "shell.execute_reply": "2024-03-24T20:13:20.787012Z",
     "shell.execute_reply.started": "2024-03-24T20:12:53.653865Z"
    }
   },
   "outputs": [
    {
     "name": "stdout",
     "output_type": "stream",
     "text": [
      " load cellpainting\n"
     ]
    }
   ],
   "source": [
    "if dataset in [\"mnist\", \"emnist\"]:\n",
    "    print(f\"load {dataset}\")\n",
    "    train_dataset, test_dataset = load_dataset(name=dataset)\n",
    "    \n",
    "    if dataset == \"emnist\":\n",
    "        print(f\"dataset is emnist\")\n",
    "        train_features = train_dataset.data.numpy().astype(\"float32\") / 255.0\n",
    "        train_features = train_features[:60000]\n",
    "        train_features = torch.from_numpy(train_features)\n",
    "        train_labels = train_dataset.targets\n",
    "        train_labels = train_labels[:60000]\n",
    "        train_dataset = torch.utils.data.TensorDataset(train_features, train_labels)\n",
    "        train_loader = create_dataloader(dataset=train_dataset, batch_size=batch_size)\n",
    "    else:\n",
    "        train_dataset, test_dataset = load_dataset(name=dataset)\n",
    "        train_features = train_dataset.data.numpy().astype(\"float32\") / 255.0\n",
    "        train_features = train_features[:10000]\n",
    "        train_features = torch.from_numpy(train_features)\n",
    "        train_labels = train_dataset.targets\n",
    "        train_labels = train_labels[:10000]\n",
    "        train_dataset = torch.utils.data.TensorDataset(train_features, train_labels)\n",
    "       \n",
    "        train_loader = create_dataloader(dataset=train_dataset, batch_size=batch_size)\n",
    "    #### Load CellPainting Dataset\n",
    "\n",
    "elif dataset == 'cellpainting':\n",
    "    print(f\" load {dataset}\")\n",
    "    train_dataset, test_dataset = load_dataset(name='cellpainting', cellpainting_args = cellpainting_args)\n",
    "    train_loader = create_dataloader(dataset=train_dataset, batch_size=batch_size, shuffle = False, num_workers = 0, collate_fn = train_dataset.custom_collate_fn)\n",
    "    # test_loader = create_dataloader(dataset=test_dataset, batch_size=batch_size, shuffle = False, num_workers = 0 , collate_fn = custom_collate_fn)\n",
    "    # train_dataloader = DataLoader(dataset = train_dataset, batch_size=10, num_workers = 0, collate_fn=custom_collate, worker_init_fn = worker_init_fn, shuffle= False)\n",
    "    # test_dataloader = DataLoader(dataset = test_dataset, batch_size=12, num_workers = 0, collate_fn=custom_collate, worker_init_fn = worker_init_fn, shuffle= False)\n",
    "    test_batch_id = 0\n",
    "    train_batch_id = 0"
   ]
  },
  {
   "cell_type": "markdown",
   "id": "19b32e21-67d2-45af-a45f-841b6dca43ff",
   "metadata": {},
   "source": [
    "#### Define autoencoder model"
   ]
  },
  {
   "cell_type": "code",
   "execution_count": 17,
   "id": "10c525bb-81e5-4c18-9e81-196219bbe999",
   "metadata": {
    "execution": {
     "iopub.execute_input": "2024-03-24T20:13:20.790225Z",
     "iopub.status.busy": "2024-03-24T20:13:20.789992Z",
     "iopub.status.idle": "2024-03-24T20:13:22.498383Z",
     "shell.execute_reply": "2024-03-24T20:13:22.497637Z",
     "shell.execute_reply.started": "2024-03-24T20:13:20.790205Z"
    }
   },
   "outputs": [
    {
     "name": "stdout",
     "output_type": "stream",
     "text": [
      " Building Base Model from NOTEBOOK\n",
      "  Crtierion is : BCELoss()\n",
      "  mode:  latent_code\n",
      " Build SNNLoss dfrom NOTEBOOK\n",
      " SNNLoss _init()_    -- mode: latent_code was found in SNNLoss._supported_modes --   is unsupervised: True\n",
      " SNNLoss _init()_    -- primary_criterion: BCELoss()\n",
      " Building Autoencoder from NOTEBOOK\n"
     ]
    }
   ],
   "source": [
    "if args.model.lower() == \"baseline\":\n",
    "    model = Autoencoder(\n",
    "        input_shape=input_shape, code_dim=code_dim, learning_rate=learning_rate\n",
    "    )\n",
    "elif args.model.lower() == \"snnl\":\n",
    "    model = Autoencoder(\n",
    "        input_shape=input_shape,\n",
    "        code_dim=code_dim,\n",
    "        learning_rate=learning_rate,\n",
    "        use_snnl=True,\n",
    "        factor=snnl_factor,\n",
    "        temperature=temperature,\n",
    "        mode=\"latent_code\",\n",
    "        code_units=30,\n",
    "    )\n",
    "else:\n",
    "    raise ValueError(\"Choose between [baseline] and [snnl] only.\")"
   ]
  },
  {
   "cell_type": "markdown",
   "id": "332b698f-3de7-462c-8e90-ca82e81b18c0",
   "metadata": {},
   "source": [
    "#### Display model summary"
   ]
  },
  {
   "cell_type": "code",
   "execution_count": 18,
   "id": "55c8c0a4-aa7e-4692-8490-e5862aa6849c",
   "metadata": {
    "execution": {
     "iopub.execute_input": "2024-03-24T20:13:22.499828Z",
     "iopub.status.busy": "2024-03-24T20:13:22.499503Z",
     "iopub.status.idle": "2024-03-24T20:13:22.531926Z",
     "shell.execute_reply": "2024-03-24T20:13:22.531314Z",
     "shell.execute_reply.started": "2024-03-24T20:13:22.499809Z"
    }
   },
   "outputs": [
    {
     "name": "stdout",
     "output_type": "stream",
     "text": [
      "50\n",
      "1471\n",
      "1471\n"
     ]
    }
   ],
   "source": [
    "print(code_dim)\n",
    "print(input_shape)\n",
    "# input_shape = 784\n",
    "# input_shape = 1471\n",
    "print(input_shape)"
   ]
  },
  {
   "cell_type": "code",
   "execution_count": 19,
   "id": "6947ebb3-a53d-4936-8f51-22e8deaa7922",
   "metadata": {
    "execution": {
     "iopub.execute_input": "2024-03-24T20:13:22.533204Z",
     "iopub.status.busy": "2024-03-24T20:13:22.532937Z",
     "iopub.status.idle": "2024-03-24T20:13:23.009144Z",
     "shell.execute_reply": "2024-03-24T20:13:23.008472Z",
     "shell.execute_reply.started": "2024-03-24T20:13:22.533185Z"
    }
   },
   "outputs": [
    {
     "name": "stdout",
     "output_type": "stream",
     "text": [
      "(96, 1471)\n"
     ]
    },
    {
     "data": {
      "text/plain": [
       "==============================================================================================================================================================================================\n",
       "Layer (type:depth-idx)                   Input Shape               Output Shape              Param #                   Param %                   Mult-Adds                 Trainable\n",
       "==============================================================================================================================================================================================\n",
       "Autoencoder                              [96, 1471]                [96, 1471]                --                             --                   --                        True\n",
       "├─ModuleList: 1-1                        --                        --                        --                             --                   --                        True\n",
       "│    └─Linear: 2-1                       [96, 1471]                [96, 500]                 736,000                    17.61%                   70,656,000                True\n",
       "│    └─ReLU: 2-2                         [96, 500]                 [96, 500]                 --                             --                   --                        --\n",
       "│    └─Linear: 2-3                       [96, 500]                 [96, 500]                 250,500                     5.99%                   24,048,000                True\n",
       "│    └─ReLU: 2-4                         [96, 500]                 [96, 500]                 --                             --                   --                        --\n",
       "│    └─Linear: 2-5                       [96, 500]                 [96, 2000]                1,002,000                  23.98%                   96,192,000                True\n",
       "│    └─ReLU: 2-6                         [96, 2000]                [96, 2000]                --                             --                   --                        --\n",
       "│    └─Linear: 2-7                       [96, 2000]                [96, 50]                  100,050                     2.39%                   9,604,800                 True\n",
       "│    └─Sigmoid: 2-8                      [96, 50]                  [96, 50]                  --                             --                   --                        --\n",
       "│    └─Linear: 2-9                       [96, 50]                  [96, 2000]                102,000                     2.44%                   9,792,000                 True\n",
       "│    └─ReLU: 2-10                        [96, 2000]                [96, 2000]                --                             --                   --                        --\n",
       "│    └─Linear: 2-11                      [96, 2000]                [96, 500]                 1,000,500                  23.94%                   96,048,000                True\n",
       "│    └─ReLU: 2-12                        [96, 500]                 [96, 500]                 --                             --                   --                        --\n",
       "│    └─Linear: 2-13                      [96, 500]                 [96, 500]                 250,500                     5.99%                   24,048,000                True\n",
       "│    └─ReLU: 2-14                        [96, 500]                 [96, 500]                 --                             --                   --                        --\n",
       "│    └─Linear: 2-15                      [96, 500]                 [96, 1471]                736,971                    17.64%                   70,749,216                True\n",
       "│    └─Sigmoid: 2-16                     [96, 1471]                [96, 1471]                --                             --                   --                        --\n",
       "==============================================================================================================================================================================================\n",
       "Total params: 4,178,521\n",
       "Trainable params: 4,178,521\n",
       "Non-trainable params: 0\n",
       "Total mult-adds (Units.MEGABYTES): 401.14\n",
       "==============================================================================================================================================================================================\n",
       "Input size (MB): 0.56\n",
       "Forward/backward pass size (MB): 5.78\n",
       "Params size (MB): 16.71\n",
       "Estimated Total Size (MB): 23.06\n",
       "=============================================================================================================================================================================================="
      ]
     },
     "execution_count": 19,
     "metadata": {},
     "output_type": "execute_result"
    }
   ],
   "source": [
    "from torchinfo import summary\n",
    "col_names = [ \"input_size\",\n",
    "                \"output_size\",\n",
    "                \"num_params\",\n",
    "                \"params_percent\",\n",
    "                # \"kernel_size\",\n",
    "                \"mult_adds\",\n",
    "                \"trainable\"]\n",
    "\n",
    "if dataset ==\"cellpainting\":\n",
    "    summary_input_size = (batch_size * cellpainting_args['sample_size'], 1471)\n",
    "else:\n",
    "    summary_input_size = (batch_size, 28, 28)\n",
    "\n",
    "print(summary_input_size)\n",
    "summary(model, input_size=summary_input_size, col_names = col_names)\n",
    "# summary(model, input_size=(batch_size, 1, 28, 28), col_names = col_names)"
   ]
  },
  {
   "cell_type": "code",
   "execution_count": 20,
   "id": "cae9c65d-3905-47dc-8f36-56a17d78617a",
   "metadata": {
    "execution": {
     "iopub.execute_input": "2024-03-24T20:13:23.010208Z",
     "iopub.status.busy": "2024-03-24T20:13:23.010010Z",
     "iopub.status.idle": "2024-03-24T20:13:23.041884Z",
     "shell.execute_reply": "2024-03-24T20:13:23.041346Z",
     "shell.execute_reply.started": "2024-03-24T20:13:23.010188Z"
    }
   },
   "outputs": [],
   "source": [
    "# for index, layer in enumerate(model.layers):\n",
    "#     print(f\" {index}:  \")\n",
    "#     print(layer)\n",
    "#     if isinstance(layer, torch.nn.Linear):\n",
    "#         print(layer.weight.shape)"
   ]
  },
  {
   "cell_type": "code",
   "execution_count": 21,
   "id": "00aec5f2-a0b5-4ebc-b26e-887460dae98b",
   "metadata": {
    "execution": {
     "iopub.execute_input": "2024-03-24T20:13:23.043209Z",
     "iopub.status.busy": "2024-03-24T20:13:23.042887Z",
     "iopub.status.idle": "2024-03-24T20:13:23.072068Z",
     "shell.execute_reply": "2024-03-24T20:13:23.071581Z",
     "shell.execute_reply.started": "2024-03-24T20:13:23.043160Z"
    }
   },
   "outputs": [
    {
     "data": {
      "text/plain": [
       "device(type='cuda', index=0)"
      ]
     },
     "execution_count": 21,
     "metadata": {},
     "output_type": "execute_result"
    }
   ],
   "source": [
    "model.device"
   ]
  },
  {
   "cell_type": "markdown",
   "id": "94aeaa82-14c5-465c-ae6e-bb792ba8a973",
   "metadata": {},
   "source": [
    "#### Autoencoder `fit(data_loader = train_loader, epochs = epochs)` "
   ]
  },
  {
   "cell_type": "code",
   "execution_count": 22,
   "id": "7029e502-4b88-4646-a3a3-87d47bf5ea55",
   "metadata": {
    "execution": {
     "iopub.execute_input": "2024-03-24T20:13:23.075207Z",
     "iopub.status.busy": "2024-03-24T20:13:23.074840Z",
     "iopub.status.idle": "2024-03-24T20:13:23.153232Z",
     "shell.execute_reply": "2024-03-24T20:13:23.152610Z",
     "shell.execute_reply.started": "2024-03-24T20:13:23.075173Z"
    }
   },
   "outputs": [],
   "source": [
    "# def fit(\n",
    "#     self, data_loader: torch.utils.data.DataLoader, epochs: int, show_every: int = 2\n",
    "# ) -> None:"
   ]
  },
  {
   "cell_type": "code",
   "execution_count": 23,
   "id": "dee23d84-f749-46e8-a30d-24e540cda247",
   "metadata": {
    "execution": {
     "iopub.execute_input": "2024-03-24T20:13:23.154099Z",
     "iopub.status.busy": "2024-03-24T20:13:23.153926Z",
     "iopub.status.idle": "2024-03-24T20:13:23.178896Z",
     "shell.execute_reply": "2024-03-24T20:13:23.178119Z",
     "shell.execute_reply.started": "2024-03-24T20:13:23.154083Z"
    }
   },
   "outputs": [],
   "source": [
    "if model.use_snnl:\n",
    "    model.train_snn_loss = []\n",
    "    model.train_recon_loss = []\n",
    "data_loader = train_loader\n",
    "epoch =0 "
   ]
  },
  {
   "cell_type": "code",
   "execution_count": 24,
   "id": "3da121c7-2e3f-4ba9-83db-5b7ffcb72f9f",
   "metadata": {
    "execution": {
     "iopub.execute_input": "2024-03-24T20:13:23.180129Z",
     "iopub.status.busy": "2024-03-24T20:13:23.179950Z",
     "iopub.status.idle": "2024-03-24T20:13:23.237276Z",
     "shell.execute_reply": "2024-03-24T20:13:23.236766Z",
     "shell.execute_reply.started": "2024-03-24T20:13:23.180113Z"
    }
   },
   "outputs": [
    {
     "name": "stdout",
     "output_type": "stream",
     "text": [
      " epoch 0  of 40 epochs\n"
     ]
    }
   ],
   "source": [
    "print(f\" epoch {epoch}  of {epochs} epochs\")\n",
    "# for epoch in range(epochs):"
   ]
  },
  {
   "cell_type": "code",
   "execution_count": 25,
   "id": "4ca0caad-e9e1-4af4-9d7e-e308310f4e8e",
   "metadata": {
    "execution": {
     "iopub.execute_input": "2024-03-24T20:13:23.238107Z",
     "iopub.status.busy": "2024-03-24T20:13:23.237936Z",
     "iopub.status.idle": "2024-03-24T20:13:23.262457Z",
     "shell.execute_reply": "2024-03-24T20:13:23.261744Z",
     "shell.execute_reply.started": "2024-03-24T20:13:23.238091Z"
    }
   },
   "outputs": [],
   "source": [
    "# for epoch in range(epochs):"
   ]
  },
  {
   "cell_type": "markdown",
   "id": "55fb19c0-67c4-473b-8d93-7c917d5ff141",
   "metadata": {
    "execution": {
     "iopub.execute_input": "2024-03-16T04:33:55.868082Z",
     "iopub.status.busy": "2024-03-16T04:33:55.867532Z",
     "iopub.status.idle": "2024-03-16T04:33:55.903145Z",
     "shell.execute_reply": "2024-03-16T04:33:55.902250Z",
     "shell.execute_reply.started": "2024-03-16T04:33:55.868040Z"
    }
   },
   "source": [
    "  #### Call epoch_train"
   ]
  },
  {
   "cell_type": "code",
   "execution_count": 45,
   "id": "475c6118-8233-4de9-84f8-988f4682c8a0",
   "metadata": {
    "execution": {
     "iopub.execute_input": "2024-03-07T20:12:52.729397Z",
     "iopub.status.busy": "2024-03-07T20:12:52.728850Z",
     "iopub.status.idle": "2024-03-07T20:12:52.765948Z",
     "shell.execute_reply": "2024-03-07T20:12:52.765320Z",
     "shell.execute_reply.started": "2024-03-07T20:12:52.729348Z"
    }
   },
   "outputs": [],
   "source": [
    "## epoch_loss = self.epoch_train(data_loader, epoch)"
   ]
  },
  {
   "cell_type": "markdown",
   "id": "c8bfe375-f59a-4178-b41e-8635f6bd176c",
   "metadata": {
    "execution": {
     "iopub.execute_input": "2024-03-16T04:34:19.993326Z",
     "iopub.status.busy": "2024-03-16T04:34:19.992830Z",
     "iopub.status.idle": "2024-03-16T04:34:20.027385Z",
     "shell.execute_reply": "2024-03-16T04:34:20.026757Z",
     "shell.execute_reply.started": "2024-03-16T04:34:19.993286Z"
    }
   },
   "source": [
    " #### After return from epoch_train"
   ]
  },
  {
   "cell_type": "code",
   "execution_count": 46,
   "id": "03a9a0f2-6d6b-4073-8716-9a1fbaf277fe",
   "metadata": {
    "execution": {
     "iopub.execute_input": "2024-03-07T20:12:53.661522Z",
     "iopub.status.busy": "2024-03-07T20:12:53.661238Z",
     "iopub.status.idle": "2024-03-07T20:12:53.712027Z",
     "shell.execute_reply": "2024-03-07T20:12:53.710915Z",
     "shell.execute_reply.started": "2024-03-07T20:12:53.661496Z"
    }
   },
   "outputs": [
    {
     "ename": "NameError",
     "evalue": "name 'epoch_loss' is not defined",
     "output_type": "error",
     "traceback": [
      "\u001b[0;31m---------------------------------------------------------------------------\u001b[0m",
      "\u001b[0;31mNameError\u001b[0m                                 Traceback (most recent call last)",
      "Cell \u001b[0;32mIn[46], line 1\u001b[0m\n\u001b[0;32m----> 1\u001b[0m \u001b[38;5;28;01mif\u001b[39;00m \u001b[38;5;28mtype\u001b[39m(\u001b[43mepoch_loss\u001b[49m) \u001b[38;5;129;01mis\u001b[39;00m \u001b[38;5;28mtuple\u001b[39m:\n\u001b[1;32m      2\u001b[0m     \u001b[38;5;28mself\u001b[39m\u001b[38;5;241m.\u001b[39mtrain_loss\u001b[38;5;241m.\u001b[39mappend(epoch_loss[\u001b[38;5;241m0\u001b[39m])\n\u001b[1;32m      3\u001b[0m     \u001b[38;5;28mself\u001b[39m\u001b[38;5;241m.\u001b[39mtrain_snn_loss\u001b[38;5;241m.\u001b[39mappend(epoch_loss[\u001b[38;5;241m1\u001b[39m])\n",
      "\u001b[0;31mNameError\u001b[0m: name 'epoch_loss' is not defined"
     ]
    }
   ],
   "source": [
    "if type(epoch_loss) is tuple:\n",
    "    self.train_loss.append(epoch_loss[0])\n",
    "    self.train_snn_loss.append(epoch_loss[1])\n",
    "    self.train_recon_loss.append(epoch_loss[2])\n",
    "    if (epoch + 1) % show_every == 0:\n",
    "        print(f\"epoch {epoch + 1}/{epochs} : mean loss = {self.train_loss[-1]:.6f}\")\n",
    "        print(f\"\\trecon loss = {self.train_recon_loss[-1]:.6f}\\t|\\tsnn loss = {self.train_snn_loss[-1]:.6f}\")\n",
    "else:\n",
    "    self.train_loss.append(epoch_loss)\n",
    "    if (epoch + 1) % show_every == 0:\n",
    "        print(f\"epoch {epoch + 1}/{epochs} : mean loss = {self.train_loss[-1]:.6f}\")"
   ]
  },
  {
   "cell_type": "code",
   "execution_count": null,
   "id": "103a785f-f36f-40e2-bc02-ff85e962fa8a",
   "metadata": {
    "execution": {
     "iopub.execute_input": "2024-03-06T23:13:24.609584Z",
     "iopub.status.busy": "2024-03-06T23:13:24.608850Z",
     "iopub.status.idle": "2024-03-06T23:13:24.632376Z",
     "shell.execute_reply": "2024-03-06T23:13:24.631137Z",
     "shell.execute_reply.started": "2024-03-06T23:13:24.609525Z"
    }
   },
   "outputs": [],
   "source": [
    "# epoch +=1"
   ]
  },
  {
   "cell_type": "markdown",
   "id": "a269e0d0-0d32-4f1c-a4e7-947f28ac5e38",
   "metadata": {
    "execution": {
     "iopub.execute_input": "2024-03-06T23:10:36.109017Z",
     "iopub.status.busy": "2024-03-06T23:10:36.108417Z",
     "iopub.status.idle": "2024-03-06T23:10:36.122328Z",
     "shell.execute_reply": "2024-03-06T23:10:36.121427Z",
     "shell.execute_reply.started": "2024-03-06T23:10:36.108936Z"
    }
   },
   "source": [
    "####  `epoch_train(model, data_loader, epoch)`"
   ]
  },
  {
   "cell_type": "code",
   "execution_count": 38,
   "id": "9025730e-caaf-440b-96a3-768a1c247425",
   "metadata": {
    "execution": {
     "iopub.execute_input": "2024-03-24T17:56:22.887477Z",
     "iopub.status.busy": "2024-03-24T17:56:22.886908Z",
     "iopub.status.idle": "2024-03-24T17:56:22.922343Z",
     "shell.execute_reply": "2024-03-24T17:56:22.921813Z",
     "shell.execute_reply.started": "2024-03-24T17:56:22.887433Z"
    }
   },
   "outputs": [],
   "source": [
    "    # def epoch_train(\n",
    "    #     self, data_loader: torch.utils.data.DataLoader, epoch: int = None\n",
    "    # ) -> Tuple:"
   ]
  },
  {
   "cell_type": "code",
   "execution_count": 131,
   "id": "fadee55f-4629-41ad-b62a-e18452eb3cdd",
   "metadata": {
    "execution": {
     "iopub.execute_input": "2024-03-24T19:59:31.106190Z",
     "iopub.status.busy": "2024-03-24T19:59:31.105711Z",
     "iopub.status.idle": "2024-03-24T19:59:32.645565Z",
     "shell.execute_reply": "2024-03-24T19:59:32.644830Z",
     "shell.execute_reply.started": "2024-03-24T19:59:31.106148Z"
    }
   },
   "outputs": [
    {
     "name": "stdout",
     "output_type": "stream",
     "text": [
      " Build SNNLoss dfrom NOTEBOOK\n",
      " SNNLoss _init()_    -- mode: latent_code was found in SNNLoss._supported_modes --   is unsupervised: True\n",
      " SNNLoss _init()_    -- primary_criterion: CrossEntropyLoss()\n"
     ]
    }
   ],
   "source": [
    "# model.snnl_criterion = SNNLoss(\n",
    "#     mode=model.mode,\n",
    "#     # criterion=criterion,\n",
    "#     factor=model.factor,\n",
    "#     temperature=model.temperature,\n",
    "#     use_annealing=model.use_annealing,\n",
    "#     use_sum=model.use_sum,\n",
    "#     code_units=model.code_units,\n",
    "#     stability_epsilon=model.stability_epsilon,\n",
    "# )"
   ]
  },
  {
   "cell_type": "code",
   "execution_count": 26,
   "id": "b6dc825c-7e27-4262-85e1-58d001fd9a28",
   "metadata": {
    "execution": {
     "iopub.execute_input": "2024-03-24T20:13:23.263322Z",
     "iopub.status.busy": "2024-03-24T20:13:23.263131Z",
     "iopub.status.idle": "2024-03-24T20:13:23.304141Z",
     "shell.execute_reply": "2024-03-24T20:13:23.303414Z",
     "shell.execute_reply.started": "2024-03-24T20:13:23.263304Z"
    }
   },
   "outputs": [],
   "source": [
    "if model.use_snnl:\n",
    "    epoch_primary_loss = 0\n",
    "    epoch_snn_loss = 0\n",
    "if model.name == \"DNN\" or model.name == \"CNN\":\n",
    "    epoch_accuracy = 0\n",
    "epoch_loss = 0"
   ]
  },
  {
   "cell_type": "markdown",
   "id": "b9972d4d-e4e3-4d42-af9d-78f0398595ca",
   "metadata": {},
   "source": [
    "#### Loop through data"
   ]
  },
  {
   "cell_type": "code",
   "execution_count": 27,
   "id": "d1304a6d-1d31-414e-ac72-365af5a7fa4d",
   "metadata": {
    "execution": {
     "iopub.execute_input": "2024-03-24T20:13:23.305002Z",
     "iopub.status.busy": "2024-03-24T20:13:23.304833Z",
     "iopub.status.idle": "2024-03-24T20:13:24.106516Z",
     "shell.execute_reply": "2024-03-24T20:13:24.105606Z",
     "shell.execute_reply.started": "2024-03-24T20:13:23.304986Z"
    }
   },
   "outputs": [],
   "source": [
    "# for batch_features, batch_labels in data_loader:\n",
    "_,_,_,batch_features_numpy, batch_labels_numpy = next(iter(data_loader))"
   ]
  },
  {
   "cell_type": "code",
   "execution_count": 33,
   "id": "c18ced64-99c6-4f34-a432-d21001c77ae0",
   "metadata": {
    "execution": {
     "iopub.execute_input": "2024-03-24T20:14:51.876207Z",
     "iopub.status.busy": "2024-03-24T20:14:51.875722Z",
     "iopub.status.idle": "2024-03-24T20:14:51.913916Z",
     "shell.execute_reply": "2024-03-24T20:14:51.913366Z",
     "shell.execute_reply.started": "2024-03-24T20:14:51.876166Z"
    }
   },
   "outputs": [
    {
     "name": "stdout",
     "output_type": "stream",
     "text": [
      "[-1.8321388 -1.8294874 -2.6065478 ... -1.2195314 -1.5166183 -1.6990108]\n",
      "[2.4392388 2.4493015 3.0212164 ... 4.4669876 4.4819636 2.9044416]\n"
     ]
    }
   ],
   "source": [
    "print(batch_features_numpy.min(0))\n",
    "print(batch_features_numpy.max(0))"
   ]
  },
  {
   "cell_type": "code",
   "execution_count": 29,
   "id": "e5051a95-9f02-4fe7-93a4-9c6a6e9044ac",
   "metadata": {
    "execution": {
     "iopub.execute_input": "2024-03-24T20:09:48.882137Z",
     "iopub.status.busy": "2024-03-24T20:09:48.881689Z",
     "iopub.status.idle": "2024-03-24T20:09:48.918772Z",
     "shell.execute_reply": "2024-03-24T20:09:48.918199Z",
     "shell.execute_reply.started": "2024-03-24T20:09:48.882096Z"
    }
   },
   "outputs": [
    {
     "name": "stdout",
     "output_type": "stream",
     "text": [
      " batch features <class 'numpy.ndarray'>   shape: (96, 1471)   2\n",
      " batch features <class 'numpy.ndarray'>   shape: (96,)    1\n"
     ]
    }
   ],
   "source": [
    "print(f\" batch features {type(batch_features_numpy)}   shape: {batch_features_numpy.shape}   {batch_features_numpy.ndim}\")\n",
    "print(f\" batch features {type(batch_labels_numpy)}   shape: {batch_labels_numpy.shape}    {batch_labels_numpy.ndim}\")"
   ]
  },
  {
   "cell_type": "code",
   "execution_count": 30,
   "id": "2e898953-1d62-41c7-9341-c0e7531dae0b",
   "metadata": {
    "execution": {
     "iopub.execute_input": "2024-03-24T20:09:51.704094Z",
     "iopub.status.busy": "2024-03-24T20:09:51.703803Z",
     "iopub.status.idle": "2024-03-24T20:09:51.750725Z",
     "shell.execute_reply": "2024-03-24T20:09:51.749964Z",
     "shell.execute_reply.started": "2024-03-24T20:09:51.704073Z"
    }
   },
   "outputs": [
    {
     "name": "stdout",
     "output_type": "stream",
     "text": [
      " batch features <class 'torch.Tensor'>   shape: torch.Size([96, 1471])   device: cuda:0\n",
      " batch features <class 'torch.Tensor'>     shape: torch.Size([96])     device: cuda:0\n",
      "tensor([0, 0, 0, 0, 0, 0, 0, 0, 0, 0, 0, 0, 0, 0, 0, 0, 0, 0, 0, 0, 0, 0, 0, 0, 0, 0, 0, 0, 0, 0, 0, 0, 0, 0, 0, 0, 0, 0, 0, 0, 0, 0, 0, 0, 0, 0, 0,\n",
      "        0, 0, 0, 0, 0, 0, 0, 0, 0, 0, 0, 0, 0, 0, 0, 0, 1, 1, 1, 0, 0, 0, 1, 1, 1, 0, 0, 0, 0, 0, 0, 0, 0, 0, 0, 0, 0, 0, 0, 0, 0, 0, 0, 0, 0, 0, 1,\n",
      "        1, 1], device='cuda:0', dtype=torch.int32)\n"
     ]
    }
   ],
   "source": [
    "batch_features = torch.from_numpy(batch_features_numpy).to(model.device)\n",
    "batch_labels = torch.from_numpy(batch_labels_numpy).to(model.device)\n",
    "\n",
    "print(f\" batch features {type(batch_features)}   shape: {batch_features.shape}   device: {batch_features.device}\")\n",
    "print(f\" batch features {type(batch_labels)}     shape: {batch_labels.shape}     device: {batch_labels.device}\")\n",
    "\n",
    "print(batch_labels)"
   ]
  },
  {
   "cell_type": "code",
   "execution_count": 147,
   "id": "73698501-f2bf-422f-8074-162ca6bda8e1",
   "metadata": {
    "execution": {
     "iopub.execute_input": "2024-03-24T20:07:34.710121Z",
     "iopub.status.busy": "2024-03-24T20:07:34.709643Z",
     "iopub.status.idle": "2024-03-24T20:07:34.745358Z",
     "shell.execute_reply": "2024-03-24T20:07:34.744681Z",
     "shell.execute_reply.started": "2024-03-24T20:07:34.710079Z"
    }
   },
   "outputs": [],
   "source": [
    "# if model.name in [\"Autoencoder\", \"DNN\"]:\n",
    "#     batch_features = batch_features.view(batch_features.shape[0], -1)\n",
    "\n",
    "# batch_labels = torch.tensor([9,5,5,9])\n",
    " "
   ]
  },
  {
   "cell_type": "code",
   "execution_count": 31,
   "id": "a899b96c-82fc-40a0-a17a-a156f918ca2c",
   "metadata": {
    "execution": {
     "iopub.execute_input": "2024-03-24T20:09:55.045723Z",
     "iopub.status.busy": "2024-03-24T20:09:55.045294Z",
     "iopub.status.idle": "2024-03-24T20:09:55.079141Z",
     "shell.execute_reply": "2024-03-24T20:09:55.078564Z",
     "shell.execute_reply.started": "2024-03-24T20:09:55.045682Z"
    }
   },
   "outputs": [],
   "source": [
    "model.optimizer.zero_grad()"
   ]
  },
  {
   "cell_type": "code",
   "execution_count": 32,
   "id": "2e84f4ca-e468-4ae7-b50e-292c1840e1f9",
   "metadata": {
    "execution": {
     "iopub.execute_input": "2024-03-24T20:09:55.894386Z",
     "iopub.status.busy": "2024-03-24T20:09:55.893904Z",
     "iopub.status.idle": "2024-03-24T20:09:55.931211Z",
     "shell.execute_reply": "2024-03-24T20:09:55.930651Z",
     "shell.execute_reply.started": "2024-03-24T20:09:55.894344Z"
    }
   },
   "outputs": [],
   "source": [
    "outputs = model.forward(features=batch_features)"
   ]
  },
  {
   "cell_type": "code",
   "execution_count": 34,
   "id": "1186d140-fcf4-4926-bc48-c9388abc74f5",
   "metadata": {
    "execution": {
     "iopub.execute_input": "2024-03-24T20:11:18.702994Z",
     "iopub.status.busy": "2024-03-24T20:11:18.702476Z",
     "iopub.status.idle": "2024-03-24T20:11:18.740977Z",
     "shell.execute_reply": "2024-03-24T20:11:18.740292Z",
     "shell.execute_reply.started": "2024-03-24T20:11:18.702950Z"
    }
   },
   "outputs": [
    {
     "data": {
      "text/plain": [
       "(torch.Size([96, 1471]), device(type='cuda', index=0))"
      ]
     },
     "execution_count": 34,
     "metadata": {},
     "output_type": "execute_result"
    },
    {
     "data": {
      "text/plain": [
       "(torch.Size([96, 1471]), device(type='cuda', index=0))"
      ]
     },
     "execution_count": 34,
     "metadata": {},
     "output_type": "execute_result"
    }
   ],
   "source": [
    "outputs.shape, outputs.device\n",
    "batch_features.shape, batch_features.device\n"
   ]
  },
  {
   "cell_type": "code",
   "execution_count": 35,
   "id": "6d297c81-001c-4177-a202-7f822d6dd4e9",
   "metadata": {
    "execution": {
     "iopub.execute_input": "2024-03-24T20:11:20.540028Z",
     "iopub.status.busy": "2024-03-24T20:11:20.539541Z",
     "iopub.status.idle": "2024-03-24T20:11:20.705340Z",
     "shell.execute_reply": "2024-03-24T20:11:20.704370Z",
     "shell.execute_reply.started": "2024-03-24T20:11:20.539986Z"
    }
   },
   "outputs": [
    {
     "name": "stdout",
     "output_type": "stream",
     "text": [
      " call  primary_criterion(outputs, features)\n",
      "    outputs:  <class 'torch.Tensor'>  cuda:0  torch.Size([96, 1471])\n",
      "    features: <class 'torch.Tensor'>   cuda:0  torch.Size([96, 1471])\n"
     ]
    },
    {
     "ename": "RuntimeError",
     "evalue": "CUDA error: device-side assert triggered\nCompile with `TORCH_USE_CUDA_DSA` to enable device-side assertions.\n",
     "output_type": "error",
     "traceback": [
      "\u001b[0;31m---------------------------------------------------------------------------\u001b[0m",
      "\u001b[0;31mRuntimeError\u001b[0m                              Traceback (most recent call last)",
      "Cell \u001b[0;32mIn[35], line 2\u001b[0m\n\u001b[1;32m      1\u001b[0m \u001b[38;5;28;01mif\u001b[39;00m model\u001b[38;5;241m.\u001b[39muse_snnl:\n\u001b[0;32m----> 2\u001b[0m     train_loss, primary_loss, snn_loss \u001b[38;5;241m=\u001b[39m \u001b[43mmodel\u001b[49m\u001b[38;5;241;43m.\u001b[39;49m\u001b[43msnnl_criterion\u001b[49m\u001b[43m(\u001b[49m\n\u001b[1;32m      3\u001b[0m \u001b[43m        \u001b[49m\u001b[43mmodel\u001b[49m\u001b[38;5;241;43m=\u001b[39;49m\u001b[43mmodel\u001b[49m\u001b[43m,\u001b[49m\n\u001b[1;32m      4\u001b[0m \u001b[43m        \u001b[49m\u001b[43moutputs\u001b[49m\u001b[38;5;241;43m=\u001b[39;49m\u001b[43moutputs\u001b[49m\u001b[43m,\u001b[49m\n\u001b[1;32m      5\u001b[0m \u001b[43m        \u001b[49m\u001b[43mfeatures\u001b[49m\u001b[38;5;241;43m=\u001b[39;49m\u001b[43mbatch_features\u001b[49m\u001b[43m,\u001b[49m\n\u001b[1;32m      6\u001b[0m \u001b[43m        \u001b[49m\u001b[43mlabels\u001b[49m\u001b[38;5;241;43m=\u001b[39;49m\u001b[43mbatch_labels\u001b[49m\u001b[43m,\u001b[49m\n\u001b[1;32m      7\u001b[0m \u001b[43m        \u001b[49m\u001b[43mepoch\u001b[49m\u001b[38;5;241;43m=\u001b[39;49m\u001b[43mepoch\u001b[49m\u001b[43m,\u001b[49m\n\u001b[1;32m      8\u001b[0m \u001b[43m    \u001b[49m\u001b[43m)\u001b[49m\n",
      "File \u001b[0;32m~/miniforge3/envs/ptsnnl/lib/python3.11/site-packages/torch/nn/modules/module.py:1511\u001b[0m, in \u001b[0;36mModule._wrapped_call_impl\u001b[0;34m(self, *args, **kwargs)\u001b[0m\n\u001b[1;32m   1509\u001b[0m     \u001b[38;5;28;01mreturn\u001b[39;00m \u001b[38;5;28mself\u001b[39m\u001b[38;5;241m.\u001b[39m_compiled_call_impl(\u001b[38;5;241m*\u001b[39margs, \u001b[38;5;241m*\u001b[39m\u001b[38;5;241m*\u001b[39mkwargs)  \u001b[38;5;66;03m# type: ignore[misc]\u001b[39;00m\n\u001b[1;32m   1510\u001b[0m \u001b[38;5;28;01melse\u001b[39;00m:\n\u001b[0;32m-> 1511\u001b[0m     \u001b[38;5;28;01mreturn\u001b[39;00m \u001b[38;5;28;43mself\u001b[39;49m\u001b[38;5;241;43m.\u001b[39;49m\u001b[43m_call_impl\u001b[49m\u001b[43m(\u001b[49m\u001b[38;5;241;43m*\u001b[39;49m\u001b[43margs\u001b[49m\u001b[43m,\u001b[49m\u001b[43m \u001b[49m\u001b[38;5;241;43m*\u001b[39;49m\u001b[38;5;241;43m*\u001b[39;49m\u001b[43mkwargs\u001b[49m\u001b[43m)\u001b[49m\n",
      "File \u001b[0;32m~/miniforge3/envs/ptsnnl/lib/python3.11/site-packages/torch/nn/modules/module.py:1520\u001b[0m, in \u001b[0;36mModule._call_impl\u001b[0;34m(self, *args, **kwargs)\u001b[0m\n\u001b[1;32m   1515\u001b[0m \u001b[38;5;66;03m# If we don't have any hooks, we want to skip the rest of the logic in\u001b[39;00m\n\u001b[1;32m   1516\u001b[0m \u001b[38;5;66;03m# this function, and just call forward.\u001b[39;00m\n\u001b[1;32m   1517\u001b[0m \u001b[38;5;28;01mif\u001b[39;00m \u001b[38;5;129;01mnot\u001b[39;00m (\u001b[38;5;28mself\u001b[39m\u001b[38;5;241m.\u001b[39m_backward_hooks \u001b[38;5;129;01mor\u001b[39;00m \u001b[38;5;28mself\u001b[39m\u001b[38;5;241m.\u001b[39m_backward_pre_hooks \u001b[38;5;129;01mor\u001b[39;00m \u001b[38;5;28mself\u001b[39m\u001b[38;5;241m.\u001b[39m_forward_hooks \u001b[38;5;129;01mor\u001b[39;00m \u001b[38;5;28mself\u001b[39m\u001b[38;5;241m.\u001b[39m_forward_pre_hooks\n\u001b[1;32m   1518\u001b[0m         \u001b[38;5;129;01mor\u001b[39;00m _global_backward_pre_hooks \u001b[38;5;129;01mor\u001b[39;00m _global_backward_hooks\n\u001b[1;32m   1519\u001b[0m         \u001b[38;5;129;01mor\u001b[39;00m _global_forward_hooks \u001b[38;5;129;01mor\u001b[39;00m _global_forward_pre_hooks):\n\u001b[0;32m-> 1520\u001b[0m     \u001b[38;5;28;01mreturn\u001b[39;00m \u001b[43mforward_call\u001b[49m\u001b[43m(\u001b[49m\u001b[38;5;241;43m*\u001b[39;49m\u001b[43margs\u001b[49m\u001b[43m,\u001b[49m\u001b[43m \u001b[49m\u001b[38;5;241;43m*\u001b[39;49m\u001b[38;5;241;43m*\u001b[39;49m\u001b[43mkwargs\u001b[49m\u001b[43m)\u001b[49m\n\u001b[1;32m   1522\u001b[0m \u001b[38;5;28;01mtry\u001b[39;00m:\n\u001b[1;32m   1523\u001b[0m     result \u001b[38;5;241m=\u001b[39m \u001b[38;5;28;01mNone\u001b[39;00m\n",
      "File \u001b[0;32m~/WSL-shared/Cellpainting/pt-snnl/dev_code.py:157\u001b[0m, in \u001b[0;36mSNNLoss.forward\u001b[0;34m(self, model, features, labels, outputs, epoch)\u001b[0m\n\u001b[1;32m    155\u001b[0m     \u001b[38;5;28mprint\u001b[39m(\u001b[38;5;124mf\u001b[39m\u001b[38;5;124m\"\u001b[39m\u001b[38;5;124m    outputs:  \u001b[39m\u001b[38;5;132;01m{\u001b[39;00m\u001b[38;5;28mtype\u001b[39m(outputs)\u001b[38;5;132;01m}\u001b[39;00m\u001b[38;5;124m  \u001b[39m\u001b[38;5;132;01m{\u001b[39;00moutputs\u001b[38;5;241m.\u001b[39mdevice\u001b[38;5;132;01m}\u001b[39;00m\u001b[38;5;124m  \u001b[39m\u001b[38;5;132;01m{\u001b[39;00moutputs\u001b[38;5;241m.\u001b[39mshape\u001b[38;5;132;01m}\u001b[39;00m\u001b[38;5;124m\"\u001b[39m)\n\u001b[1;32m    156\u001b[0m     \u001b[38;5;28mprint\u001b[39m(\u001b[38;5;124mf\u001b[39m\u001b[38;5;124m\"\u001b[39m\u001b[38;5;124m    features: \u001b[39m\u001b[38;5;132;01m{\u001b[39;00m\u001b[38;5;28mtype\u001b[39m(features)\u001b[38;5;132;01m}\u001b[39;00m\u001b[38;5;124m   \u001b[39m\u001b[38;5;132;01m{\u001b[39;00mfeatures\u001b[38;5;241m.\u001b[39mdevice\u001b[38;5;132;01m}\u001b[39;00m\u001b[38;5;124m  \u001b[39m\u001b[38;5;132;01m{\u001b[39;00mfeatures\u001b[38;5;241m.\u001b[39mshape\u001b[38;5;132;01m}\u001b[39;00m\u001b[38;5;124m\"\u001b[39m)\n\u001b[0;32m--> 157\u001b[0m     primary_loss \u001b[38;5;241m=\u001b[39m \u001b[38;5;28;43mself\u001b[39;49m\u001b[38;5;241;43m.\u001b[39;49m\u001b[43mprimary_criterion\u001b[49m\u001b[43m(\u001b[49m\u001b[43moutputs\u001b[49m\u001b[43m,\u001b[49m\u001b[43m \u001b[49m\u001b[43mfeatures\u001b[49m\u001b[43m)\u001b[49m\n\u001b[1;32m    158\u001b[0m \u001b[38;5;28;01melse\u001b[39;00m:\n\u001b[1;32m    159\u001b[0m     \u001b[38;5;28mprint\u001b[39m(\u001b[38;5;124mf\u001b[39m\u001b[38;5;124m\"\u001b[39m\u001b[38;5;124m call  primary_criterion(outputs, labels)\u001b[39m\u001b[38;5;124m\"\u001b[39m)\n",
      "File \u001b[0;32m~/miniforge3/envs/ptsnnl/lib/python3.11/site-packages/torch/nn/modules/module.py:1511\u001b[0m, in \u001b[0;36mModule._wrapped_call_impl\u001b[0;34m(self, *args, **kwargs)\u001b[0m\n\u001b[1;32m   1509\u001b[0m     \u001b[38;5;28;01mreturn\u001b[39;00m \u001b[38;5;28mself\u001b[39m\u001b[38;5;241m.\u001b[39m_compiled_call_impl(\u001b[38;5;241m*\u001b[39margs, \u001b[38;5;241m*\u001b[39m\u001b[38;5;241m*\u001b[39mkwargs)  \u001b[38;5;66;03m# type: ignore[misc]\u001b[39;00m\n\u001b[1;32m   1510\u001b[0m \u001b[38;5;28;01melse\u001b[39;00m:\n\u001b[0;32m-> 1511\u001b[0m     \u001b[38;5;28;01mreturn\u001b[39;00m \u001b[38;5;28;43mself\u001b[39;49m\u001b[38;5;241;43m.\u001b[39;49m\u001b[43m_call_impl\u001b[49m\u001b[43m(\u001b[49m\u001b[38;5;241;43m*\u001b[39;49m\u001b[43margs\u001b[49m\u001b[43m,\u001b[49m\u001b[43m \u001b[49m\u001b[38;5;241;43m*\u001b[39;49m\u001b[38;5;241;43m*\u001b[39;49m\u001b[43mkwargs\u001b[49m\u001b[43m)\u001b[49m\n",
      "File \u001b[0;32m~/miniforge3/envs/ptsnnl/lib/python3.11/site-packages/torch/nn/modules/module.py:1520\u001b[0m, in \u001b[0;36mModule._call_impl\u001b[0;34m(self, *args, **kwargs)\u001b[0m\n\u001b[1;32m   1515\u001b[0m \u001b[38;5;66;03m# If we don't have any hooks, we want to skip the rest of the logic in\u001b[39;00m\n\u001b[1;32m   1516\u001b[0m \u001b[38;5;66;03m# this function, and just call forward.\u001b[39;00m\n\u001b[1;32m   1517\u001b[0m \u001b[38;5;28;01mif\u001b[39;00m \u001b[38;5;129;01mnot\u001b[39;00m (\u001b[38;5;28mself\u001b[39m\u001b[38;5;241m.\u001b[39m_backward_hooks \u001b[38;5;129;01mor\u001b[39;00m \u001b[38;5;28mself\u001b[39m\u001b[38;5;241m.\u001b[39m_backward_pre_hooks \u001b[38;5;129;01mor\u001b[39;00m \u001b[38;5;28mself\u001b[39m\u001b[38;5;241m.\u001b[39m_forward_hooks \u001b[38;5;129;01mor\u001b[39;00m \u001b[38;5;28mself\u001b[39m\u001b[38;5;241m.\u001b[39m_forward_pre_hooks\n\u001b[1;32m   1518\u001b[0m         \u001b[38;5;129;01mor\u001b[39;00m _global_backward_pre_hooks \u001b[38;5;129;01mor\u001b[39;00m _global_backward_hooks\n\u001b[1;32m   1519\u001b[0m         \u001b[38;5;129;01mor\u001b[39;00m _global_forward_hooks \u001b[38;5;129;01mor\u001b[39;00m _global_forward_pre_hooks):\n\u001b[0;32m-> 1520\u001b[0m     \u001b[38;5;28;01mreturn\u001b[39;00m \u001b[43mforward_call\u001b[49m\u001b[43m(\u001b[49m\u001b[38;5;241;43m*\u001b[39;49m\u001b[43margs\u001b[49m\u001b[43m,\u001b[49m\u001b[43m \u001b[49m\u001b[38;5;241;43m*\u001b[39;49m\u001b[38;5;241;43m*\u001b[39;49m\u001b[43mkwargs\u001b[49m\u001b[43m)\u001b[49m\n\u001b[1;32m   1522\u001b[0m \u001b[38;5;28;01mtry\u001b[39;00m:\n\u001b[1;32m   1523\u001b[0m     result \u001b[38;5;241m=\u001b[39m \u001b[38;5;28;01mNone\u001b[39;00m\n",
      "File \u001b[0;32m~/miniforge3/envs/ptsnnl/lib/python3.11/site-packages/torch/nn/modules/loss.py:618\u001b[0m, in \u001b[0;36mBCELoss.forward\u001b[0;34m(self, input, target)\u001b[0m\n\u001b[1;32m    617\u001b[0m \u001b[38;5;28;01mdef\u001b[39;00m \u001b[38;5;21mforward\u001b[39m(\u001b[38;5;28mself\u001b[39m, \u001b[38;5;28minput\u001b[39m: Tensor, target: Tensor) \u001b[38;5;241m-\u001b[39m\u001b[38;5;241m>\u001b[39m Tensor:\n\u001b[0;32m--> 618\u001b[0m     \u001b[38;5;28;01mreturn\u001b[39;00m \u001b[43mF\u001b[49m\u001b[38;5;241;43m.\u001b[39;49m\u001b[43mbinary_cross_entropy\u001b[49m\u001b[43m(\u001b[49m\u001b[38;5;28;43minput\u001b[39;49m\u001b[43m,\u001b[49m\u001b[43m \u001b[49m\u001b[43mtarget\u001b[49m\u001b[43m,\u001b[49m\u001b[43m \u001b[49m\u001b[43mweight\u001b[49m\u001b[38;5;241;43m=\u001b[39;49m\u001b[38;5;28;43mself\u001b[39;49m\u001b[38;5;241;43m.\u001b[39;49m\u001b[43mweight\u001b[49m\u001b[43m,\u001b[49m\u001b[43m \u001b[49m\u001b[43mreduction\u001b[49m\u001b[38;5;241;43m=\u001b[39;49m\u001b[38;5;28;43mself\u001b[39;49m\u001b[38;5;241;43m.\u001b[39;49m\u001b[43mreduction\u001b[49m\u001b[43m)\u001b[49m\n",
      "File \u001b[0;32m~/miniforge3/envs/ptsnnl/lib/python3.11/site-packages/torch/nn/functional.py:3127\u001b[0m, in \u001b[0;36mbinary_cross_entropy\u001b[0;34m(input, target, weight, size_average, reduce, reduction)\u001b[0m\n\u001b[1;32m   3124\u001b[0m     new_size \u001b[38;5;241m=\u001b[39m _infer_size(target\u001b[38;5;241m.\u001b[39msize(), weight\u001b[38;5;241m.\u001b[39msize())\n\u001b[1;32m   3125\u001b[0m     weight \u001b[38;5;241m=\u001b[39m weight\u001b[38;5;241m.\u001b[39mexpand(new_size)\n\u001b[0;32m-> 3127\u001b[0m \u001b[38;5;28;01mreturn\u001b[39;00m \u001b[43mtorch\u001b[49m\u001b[38;5;241;43m.\u001b[39;49m\u001b[43m_C\u001b[49m\u001b[38;5;241;43m.\u001b[39;49m\u001b[43m_nn\u001b[49m\u001b[38;5;241;43m.\u001b[39;49m\u001b[43mbinary_cross_entropy\u001b[49m\u001b[43m(\u001b[49m\u001b[38;5;28;43minput\u001b[39;49m\u001b[43m,\u001b[49m\u001b[43m \u001b[49m\u001b[43mtarget\u001b[49m\u001b[43m,\u001b[49m\u001b[43m \u001b[49m\u001b[43mweight\u001b[49m\u001b[43m,\u001b[49m\u001b[43m \u001b[49m\u001b[43mreduction_enum\u001b[49m\u001b[43m)\u001b[49m\n",
      "\u001b[0;31mRuntimeError\u001b[0m: CUDA error: device-side assert triggered\nCompile with `TORCH_USE_CUDA_DSA` to enable device-side assertions.\n"
     ]
    }
   ],
   "source": [
    "if model.use_snnl:\n",
    "    train_loss, primary_loss, snn_loss = model.snnl_criterion(\n",
    "        model=model,\n",
    "        outputs=outputs,\n",
    "        features=batch_features,\n",
    "        labels=batch_labels,\n",
    "        epoch=epoch,\n",
    "    )"
   ]
  },
  {
   "cell_type": "code",
   "execution_count": null,
   "id": "acd3b7f5-044d-4c0b-afc0-8702f150bb5b",
   "metadata": {
    "execution": {
     "iopub.execute_input": "2024-03-24T19:55:23.967540Z",
     "iopub.status.busy": "2024-03-24T19:55:23.967053Z",
     "iopub.status.idle": "2024-03-24T19:55:25.085132Z",
     "shell.execute_reply": "2024-03-24T19:55:25.084140Z",
     "shell.execute_reply.started": "2024-03-24T19:55:23.967499Z"
    }
   },
   "outputs": [],
   "source": [
    "print(f\" train_loss {train_loss}, primary_loss {primary_loss}, snn_loss {snn_loss}\")\n",
    "epoch_loss += train_loss.item()\n",
    "epoch_snn_loss += snn_loss.item()\n",
    "epoch_primary_loss += primary_loss.item()"
   ]
  },
  {
   "cell_type": "code",
   "execution_count": 127,
   "id": "d52b1651-57ec-46b1-8b9f-336a733939d1",
   "metadata": {
    "execution": {
     "iopub.execute_input": "2024-03-24T19:56:05.859758Z",
     "iopub.status.busy": "2024-03-24T19:56:05.859232Z",
     "iopub.status.idle": "2024-03-24T19:56:05.896639Z",
     "shell.execute_reply": "2024-03-24T19:56:05.895923Z",
     "shell.execute_reply.started": "2024-03-24T19:56:05.859717Z"
    }
   },
   "outputs": [],
   "source": [
    "if not model.use_snnl:\n",
    "    train_loss = model.criterion(outputs, batch_labels if model.name == \"DNN\" or model.name == \"CNN\"  else batch_features,)\n",
    "    epoch_loss += train_loss.item()"
   ]
  },
  {
   "cell_type": "code",
   "execution_count": 35,
   "id": "24f437ef-97c8-41f6-81e6-c2c0b096db53",
   "metadata": {
    "execution": {
     "iopub.execute_input": "2024-03-07T19:44:37.965773Z",
     "iopub.status.busy": "2024-03-07T19:44:37.965187Z",
     "iopub.status.idle": "2024-03-07T19:44:38.039398Z",
     "shell.execute_reply": "2024-03-07T19:44:38.038354Z",
     "shell.execute_reply.started": "2024-03-07T19:44:37.965722Z"
    }
   },
   "outputs": [],
   "source": [
    "if model.name == \"DNN\" or model.name == \"CNN\":\n",
    "    train_accuracy = (outputs.argmax(1) == batch_labels).sum().item() / len(batch_labels)\n",
    "    epoch_accuracy += train_accuracy\n",
    "\n",
    "train_loss.backward()\n",
    "\n",
    "model.optimizer.step()\n",
    "if model.use_snnl and model.temperature is not None:\n",
    "    model.optimize_temperature()\n",
    "\n",
    "    # break"
   ]
  },
  {
   "cell_type": "markdown",
   "id": "27367bde-b9b4-4f0f-b5da-cfe8e28c80e8",
   "metadata": {},
   "source": [
    "#### End of dataloader loop"
   ]
  },
  {
   "cell_type": "code",
   "execution_count": null,
   "id": "930aba05-3892-45c9-a404-f4275dbd9478",
   "metadata": {},
   "outputs": [],
   "source": [
    "epoch_loss /= len(data_loader)\n",
    "\n",
    "if self.name in [\"DNN\", \"CNN\"]:\n",
    "    epoch_accuracy /= len(data_loader)\n",
    "    \n",
    "if self.use_snnl:\n",
    "    epoch_snn_loss /= len(data_loader)\n",
    "    epoch_primary_loss /= len(data_loader)\n",
    "    if self.name == \"DNN\" or self.name == \"CNN\":\n",
    "        print(f\" epoch_loss {epoch_loss}, epoch_snn_loss, {epoch_snn_loss},  epoch_primary_loss, {epoch_primary_loss}, epoch_accuracy,  {epoch_accuracy}\")\n",
    "        return epoch_loss, epoch_snn_loss, epoch_primary_loss, epoch_accuracy\n",
    "    else:\n",
    "        print(f\" epoch_loss {epoch_loss}, epoch_snn_loss, {epoch_snn_loss},  epoch_primary_loss, {epoch_primary_loss}\")\n",
    "        return epoch_loss, epoch_snn_loss, epoch_primary_loss\n",
    "else:\n",
    "    if self.name == \"DNN\" or self.name == \"CNN\":\n",
    "        print(f\" epoch_loss {epoch_loss}, epoch_accuracy,  {epoch_accuracy}\")\n",
    "        return epoch_loss, epoch_accuracy\n",
    "    else:\n",
    "        print(f\" epoch_loss {epoch_loss}\")\n",
    "        return epoch_loss"
   ]
  },
  {
   "cell_type": "code",
   "execution_count": 65,
   "id": "deebba8a-7d14-4905-93f8-1f7e11fa27cc",
   "metadata": {
    "execution": {
     "iopub.execute_input": "2024-03-07T20:20:12.137428Z",
     "iopub.status.busy": "2024-03-07T20:20:12.136822Z",
     "iopub.status.idle": "2024-03-07T20:20:12.187683Z",
     "shell.execute_reply": "2024-03-07T20:20:12.187034Z",
     "shell.execute_reply.started": "2024-03-07T20:20:12.137368Z"
    }
   },
   "outputs": [
    {
     "data": {
      "text/plain": [
       "1152.2025146484375"
      ]
     },
     "execution_count": 65,
     "metadata": {},
     "output_type": "execute_result"
    },
    {
     "data": {
      "text/plain": [
       "torch.Size([4, 784])"
      ]
     },
     "execution_count": 65,
     "metadata": {},
     "output_type": "execute_result"
    },
    {
     "data": {
      "text/plain": [
       "tensor([8, 1, 7, 5], device='cuda:0')"
      ]
     },
     "execution_count": 65,
     "metadata": {},
     "output_type": "execute_result"
    },
    {
     "name": "stdout",
     "output_type": "stream",
     "text": [
      " epoch_primary_loss  0.7071589231491089\n",
      " epoch_snn_loss      11.51495361328125\n",
      " model.snnl_factor   100.0\n",
      " epoch_loss          1152.2025146484375\n"
     ]
    },
    {
     "data": {
      "text/plain": [
       "0"
      ]
     },
     "execution_count": 65,
     "metadata": {},
     "output_type": "execute_result"
    },
    {
     "data": {
      "text/plain": [
       "2500"
      ]
     },
     "execution_count": 65,
     "metadata": {},
     "output_type": "execute_result"
    }
   ],
   "source": [
    "epoch_loss\n",
    "batch_features.shape\n",
    "# outputs[0].data\n",
    "# outputs[1].data\n",
    "batch_labels.data \n",
    "print(f\" epoch_primary_loss  {epoch_primary_loss}\")\n",
    "print(f\" epoch_snn_loss      {epoch_snn_loss}\")\n",
    "print(f\" model.snnl_factor   {model.snnl_criterion.factor}\")\n",
    "print(f\" epoch_loss          {epoch_loss}\")\n",
    "(outputs.argmax(1) == batch_labels).sum().item()\n",
    " \n",
    "# train_accuracy\n",
    "# epoch_accuracy\n",
    "len(data_loader)"
   ]
  },
  {
   "cell_type": "code",
   "execution_count": 76,
   "id": "a551f63d-a2e1-48cf-9409-11e404dda3b0",
   "metadata": {
    "execution": {
     "iopub.execute_input": "2024-03-06T23:42:46.830961Z",
     "iopub.status.busy": "2024-03-06T23:42:46.830335Z",
     "iopub.status.idle": "2024-03-06T23:42:46.877257Z",
     "shell.execute_reply": "2024-03-06T23:42:46.876507Z",
     "shell.execute_reply.started": "2024-03-06T23:42:46.830910Z"
    }
   },
   "outputs": [],
   "source": [
    "activations = dict()\n",
    "layers = model.layers\n",
    "for index, layer in enumerate(layers):\n",
    "    if index == 0:\n",
    "        activations[index] = layer(batch_features)\n",
    "    else:\n",
    "        activations[index] = layer(activations[index - 1])"
   ]
  },
  {
   "cell_type": "code",
   "execution_count": 78,
   "id": "5922060f-cfb9-426d-8aef-f1402909e85d",
   "metadata": {
    "execution": {
     "iopub.execute_input": "2024-03-06T23:43:25.202227Z",
     "iopub.status.busy": "2024-03-06T23:43:25.201649Z",
     "iopub.status.idle": "2024-03-06T23:43:25.237883Z",
     "shell.execute_reply": "2024-03-06T23:43:25.237128Z",
     "shell.execute_reply.started": "2024-03-06T23:43:25.202175Z"
    }
   },
   "outputs": [
    {
     "name": "stdout",
     "output_type": "stream",
     "text": [
      "torch.Size([2, 256])\n",
      "torch.Size([2, 256])\n",
      "torch.Size([2, 512])\n",
      "torch.Size([2, 10])\n"
     ]
    }
   ],
   "source": [
    "for i in activations:\n",
    "    print(activations[i].shape)"
   ]
  },
  {
   "cell_type": "code",
   "execution_count": null,
   "id": "db57c906-31f5-4f9c-af5d-7e6d64565593",
   "metadata": {},
   "outputs": [],
   "source": [
    "epoch_loss /= len(data_loader)\n",
    "\n",
    "if model.name in [\"DNN\", \"CNN\"]:\n",
    "    epoch_accuracy /= len(data_loader)\n",
    "\n",
    "if model.use_snnl:\n",
    "    epoch_snn_loss /= len(data_loader)\n",
    "    epoch_primary_loss /= len(data_loader)\n",
    "    if model.name == \"DNN\" or model.name == \"CNN\":\n",
    "        print(f\" epoch_loss: {epoch_loss},  epoch_snn_loss: {epoch_snn_loss}, epoch_primaey_loss: {epoch_primary_loss}, accuracy: {epoch_accuracy} \")\n",
    "        return epoch_loss, epoch_snn_loss, epoch_primary_loss, epoch_accuracy\n",
    "    else:\n",
    "        print(f\" epoch_loss: {epoch_loss},  epoch_snn_loss: {epoch_snn_loss}, epoch_primary_loss: {epoch_primary_loss} \")\n",
    "        return epoch_loss, epoch_snn_loss, epoch_primary_loss\n",
    "else:\n",
    "    if model.name == \"DNN\" or model.name == \"CNN\":\n",
    "        print(f\" epoch_loss: {epoch_loss}, accuracy: {epoch_accuracy} \")\n",
    "        return epoch_loss, epoch_accuracy\n",
    "    else:\n",
    "        print(f\" epoch_loss: {epoch_loss},\")\n",
    "        return epoch_loss"
   ]
  },
  {
   "cell_type": "code",
   "execution_count": null,
   "id": "d8f0804f-78fd-428b-9241-a9eda27b78d5",
   "metadata": {},
   "outputs": [],
   "source": []
  },
  {
   "cell_type": "code",
   "execution_count": null,
   "id": "c7ab7d4e-648b-4966-85ca-0fd41e9d6103",
   "metadata": {},
   "outputs": [],
   "source": [
    "# def main(args):\n",
    "#     (\n",
    "#         dataset,\n",
    "#         batch_size,\n",
    "#         epochs,\n",
    "#         learning_rate,\n",
    "#         units,\n",
    "#         snnl_factor,\n",
    "#         temperature,\n",
    "#     ) = get_hyperparameters(args.configuration)\n",
    "\n",
    "#     set_global_seed(args.seed)\n",
    "\n",
    "#     train_dataset, test_dataset = load_dataset(name=dataset)\n",
    "#     if dataset == \"emnist\":\n",
    "#         train_features = train_dataset.data.numpy().astype(\"float32\") / 255.0\n",
    "#         train_features = train_features[:60000]\n",
    "#         train_features = torch.from_numpy(train_features)\n",
    "#         train_labels = train_dataset.targets\n",
    "#         train_labels = train_labels[:60000]\n",
    "#         train_dataset = torch.utils.data.TensorDataset(train_features, train_labels)\n",
    "#     train_loader = create_dataloader(dataset=train_dataset, batch_size=batch_size)\n",
    "\n",
    "#     if args.model.lower() == \"baseline\":\n",
    "#         model = DNN(units=units, learning_rate=learning_rate)\n",
    "#     elif args.model.lower() == \"snnl\":\n",
    "#         model = DNN(\n",
    "#             units=units,\n",
    "#             learning_rate=learning_rate,\n",
    "#             use_snnl=True,\n",
    "#             factor=snnl_factor,\n",
    "#             temperature=temperature,\n",
    "#             use_annealing=False,\n",
    "#         )\n",
    "#     else:\n",
    "#         raise ValueError(\"Choose between [baseline] and [snnl] only.\")\n",
    "\n",
    "#     model.fit(data_loader=train_loader, epochs=epochs)\n",
    "\n",
    "#     test_features = test_dataset.data.reshape(-1, 784) / 255.0\n",
    "#     model.eval()\n",
    "#     model = model.cpu()\n",
    "#     predictions = model.predict(test_features)\n",
    "#     model.test_accuracy = accuracy(y_true=test_dataset.targets, y_pred=predictions)\n",
    "#     print(f\"accuracy: {model.test_accuracy}%\")\n",
    "#     filename = f\"DNN-{args.model.lower()}-{args.seed}.json\"\n",
    "#     export_results(model=model, filename=filename)\n",
    "\n"
   ]
  },
  {
   "cell_type": "markdown",
   "id": "0e7af43e-3ca4-4a2f-af42-575813f4cba9",
   "metadata": {},
   "source": [
    "#### SNNL Loss"
   ]
  },
  {
   "cell_type": "code",
   "execution_count": 154,
   "id": "23b2d86d-149c-4c52-9bc8-bf6f4440e3ff",
   "metadata": {
    "execution": {
     "iopub.execute_input": "2024-03-07T16:46:19.715575Z",
     "iopub.status.busy": "2024-03-07T16:46:19.715218Z",
     "iopub.status.idle": "2024-03-07T16:46:19.750086Z",
     "shell.execute_reply": "2024-03-07T16:46:19.749295Z",
     "shell.execute_reply.started": "2024-03-07T16:46:19.715548Z"
    }
   },
   "outputs": [
    {
     "name": "stdout",
     "output_type": "stream",
     "text": [
      " Build SNNLoss dfrom NOTEBOOK\n"
     ]
    }
   ],
   "source": [
    "snnl = SNNLoss(temperature=1.0)"
   ]
  },
  {
   "cell_type": "code",
   "execution_count": 170,
   "id": "5c8294a6-0992-44c9-adf3-c4dbec0ba543",
   "metadata": {
    "execution": {
     "iopub.execute_input": "2024-03-07T17:01:26.782560Z",
     "iopub.status.busy": "2024-03-07T17:01:26.782229Z",
     "iopub.status.idle": "2024-03-07T17:01:26.816878Z",
     "shell.execute_reply": "2024-03-07T17:01:26.816153Z",
     "shell.execute_reply.started": "2024-03-07T17:01:26.782533Z"
    }
   },
   "outputs": [
    {
     "data": {
      "text/plain": [
       "tensor([[0.8823, 0.9150, 0.3829, 0.9593],\n",
       "        [0.3904, 0.6009, 0.2566, 0.7936],\n",
       "        [0.9408, 0.1332, 0.9346, 0.5936],\n",
       "        [0.8694, 0.5677, 0.7411, 0.4294],\n",
       "        [0.8854, 0.5739, 0.2666, 0.6274],\n",
       "        [0.2696, 0.4414, 0.2969, 0.8317]])"
      ]
     },
     "execution_count": 170,
     "metadata": {},
     "output_type": "execute_result"
    }
   ],
   "source": [
    "_ = torch.manual_seed(42)\n",
    "features = torch.rand((6, 4))\n",
    "features"
   ]
  },
  {
   "cell_type": "code",
   "execution_count": 171,
   "id": "9398dd16-f2e6-440f-b1f4-3334c1fb051f",
   "metadata": {
    "execution": {
     "iopub.execute_input": "2024-03-07T17:01:31.246276Z",
     "iopub.status.busy": "2024-03-07T17:01:31.245941Z",
     "iopub.status.idle": "2024-03-07T17:01:31.279795Z",
     "shell.execute_reply": "2024-03-07T17:01:31.279017Z",
     "shell.execute_reply.started": "2024-03-07T17:01:31.246248Z"
    }
   },
   "outputs": [
    {
     "name": "stdout",
     "output_type": "stream",
     "text": [
      "\n"
     ]
    },
    {
     "data": {
      "text/plain": [
       "tensor([[-1.1921e-07,  2.6181e-02,  2.1361e-01,  1.0087e-01,  2.2940e-02,  7.3328e-02],\n",
       "        [ 2.6181e-02,  0.0000e+00,  2.7807e-01,  1.8148e-01,  9.0106e-02,  1.6577e-02],\n",
       "        [ 2.1361e-01,  2.7807e-01,  5.9605e-08,  6.2519e-02,  1.6466e-01,  2.7426e-01],\n",
       "        [ 1.0087e-01,  1.8148e-01,  6.2519e-02,  0.0000e+00,  7.5882e-02,  2.2894e-01],\n",
       "        [ 2.2940e-02,  9.0106e-02,  1.6466e-01,  7.5882e-02,  1.1921e-07,  1.4981e-01],\n",
       "        [ 7.3328e-02,  1.6577e-02,  2.7426e-01,  2.2894e-01,  1.4981e-01,  0.0000e+00]])"
      ]
     },
     "execution_count": 171,
     "metadata": {},
     "output_type": "execute_result"
    }
   ],
   "source": [
    "distance_matrix = snnl.pairwise_cosine_distance(features)\n",
    "distance_matrix"
   ]
  },
  {
   "cell_type": "code",
   "execution_count": 173,
   "id": "c008afbc-b247-47db-bef1-85c5e18859fd",
   "metadata": {
    "execution": {
     "iopub.execute_input": "2024-03-07T17:02:06.228333Z",
     "iopub.status.busy": "2024-03-07T17:02:06.227805Z",
     "iopub.status.idle": "2024-03-07T17:02:06.269832Z",
     "shell.execute_reply": "2024-03-07T17:02:06.269103Z",
     "shell.execute_reply.started": "2024-03-07T17:02:06.228284Z"
    }
   },
   "outputs": [
    {
     "data": {
      "text/plain": [
       "tensor([[1.0000, 0.9742, 0.8077, 0.9041, 0.9773, 0.9293],\n",
       "        [0.9742, 1.0000, 0.7572, 0.8340, 0.9138, 0.9836],\n",
       "        [0.8077, 0.7572, 1.0000, 0.9394, 0.8482, 0.7601],\n",
       "        [0.9041, 0.8340, 0.9394, 1.0000, 0.9269, 0.7954],\n",
       "        [0.9773, 0.9138, 0.8482, 0.9269, 1.0000, 0.8609],\n",
       "        [0.9293, 0.9836, 0.7601, 0.7954, 0.8609, 1.0000]])"
      ]
     },
     "execution_count": 173,
     "metadata": {},
     "output_type": "execute_result"
    },
    {
     "data": {
      "text/plain": [
       "tensor([[ 1.1921e-07,  9.7416e-01,  8.0767e-01,  9.0405e-01,  9.7732e-01,  9.2930e-01],\n",
       "        [ 9.7416e-01,  0.0000e+00,  7.5725e-01,  8.3404e-01,  9.1383e-01,  9.8356e-01],\n",
       "        [ 8.0767e-01,  7.5725e-01, -5.9605e-08,  9.3940e-01,  8.4818e-01,  7.6013e-01],\n",
       "        [ 9.0405e-01,  8.3404e-01,  9.3940e-01,  0.0000e+00,  9.2693e-01,  7.9538e-01],\n",
       "        [ 9.7732e-01,  9.1383e-01,  8.4818e-01,  9.2693e-01, -1.1921e-07,  8.6087e-01],\n",
       "        [ 9.2930e-01,  9.8356e-01,  7.6013e-01,  7.9538e-01,  8.6087e-01,  0.0000e+00]])"
      ]
     },
     "execution_count": 173,
     "metadata": {},
     "output_type": "execute_result"
    }
   ],
   "source": [
    "pairwise_distance_matrix = snnl.normalize_distance_matrix(features, distance_matrix, device = 'cpu')\n",
    "torch.exp(-(distance_matrix / snnl.temperature)) \n",
    "# pairwise_distance_matrix = torch.exp(-(distance_matrix / snnl.temperature)) - torch.eye(features.shape[0])\n",
    "# pairwise_distance_matrix.sum(1)   \n",
    "pairwise_distance_matrix"
   ]
  },
  {
   "cell_type": "code",
   "execution_count": 174,
   "id": "980590ba-c1a6-4ade-9722-7676021f065b",
   "metadata": {
    "execution": {
     "iopub.execute_input": "2024-03-07T17:02:16.718243Z",
     "iopub.status.busy": "2024-03-07T17:02:16.717912Z",
     "iopub.status.idle": "2024-03-07T17:02:16.753529Z",
     "shell.execute_reply": "2024-03-07T17:02:16.752768Z",
     "shell.execute_reply.started": "2024-03-07T17:02:16.718217Z"
    }
   },
   "outputs": [
    {
     "data": {
      "text/plain": [
       "tensor([1.0000, 1.0000, 1.0000, 1.0000, 1.0000, 1.0000])"
      ]
     },
     "execution_count": 174,
     "metadata": {},
     "output_type": "execute_result"
    },
    {
     "data": {
      "text/plain": [
       "tensor([[ 2.5957e-08,  2.1212e-01,  1.7587e-01,  1.9685e-01,  2.1281e-01,  2.0235e-01],\n",
       "        [ 2.1828e-01,  0.0000e+00,  1.6968e-01,  1.8688e-01,  2.0476e-01,  2.2039e-01],\n",
       "        [ 1.9639e-01,  1.8413e-01, -1.4493e-08,  2.2842e-01,  2.0624e-01,  1.8483e-01],\n",
       "        [ 2.0548e-01,  1.8956e-01,  2.1351e-01,  0.0000e+00,  2.1067e-01,  1.8078e-01],\n",
       "        [ 2.1588e-01,  2.0186e-01,  1.8735e-01,  2.0475e-01, -2.6332e-08,  1.9016e-01],\n",
       "        [ 2.1466e-01,  2.2719e-01,  1.7558e-01,  1.8372e-01,  1.9885e-01,  0.0000e+00]])"
      ]
     },
     "execution_count": 174,
     "metadata": {},
     "output_type": "execute_result"
    }
   ],
   "source": [
    "# torch.sum(pairwise_distance_matrix, 1) ##.view(-1, 1)\n",
    "# pairwise_distance_matrix / (1.0e-8 + torch.sum(pairwise_distance_matrix, 1).view(-1, 1))\n",
    "\n",
    "sampling_probability = snnl.compute_sampling_probability(pairwise_distance_matrix)\n",
    "sampling_probability.sum(1)\n",
    "sampling_probability"
   ]
  },
  {
   "cell_type": "code",
   "execution_count": 175,
   "id": "34fa75f5-79b7-48d6-8569-fb070acb3e0d",
   "metadata": {
    "execution": {
     "iopub.execute_input": "2024-03-07T17:02:40.220986Z",
     "iopub.status.busy": "2024-03-07T17:02:40.220406Z",
     "iopub.status.idle": "2024-03-07T17:02:40.265401Z",
     "shell.execute_reply": "2024-03-07T17:02:40.264602Z",
     "shell.execute_reply.started": "2024-03-07T17:02:40.220933Z"
    }
   },
   "outputs": [
    {
     "data": {
      "text/plain": [
       "tensor([0, 0, 1, 1, 2, 2])"
      ]
     },
     "execution_count": 175,
     "metadata": {},
     "output_type": "execute_result"
    },
    {
     "data": {
      "text/plain": [
       "tensor([[0],\n",
       "        [0],\n",
       "        [1],\n",
       "        [1],\n",
       "        [2],\n",
       "        [2]])"
      ]
     },
     "execution_count": 175,
     "metadata": {},
     "output_type": "execute_result"
    },
    {
     "data": {
      "text/plain": [
       "tensor([[ True,  True, False, False, False, False],\n",
       "        [ True,  True, False, False, False, False],\n",
       "        [False, False,  True,  True, False, False],\n",
       "        [False, False,  True,  True, False, False],\n",
       "        [False, False, False, False,  True,  True],\n",
       "        [False, False, False, False,  True,  True]])"
      ]
     },
     "execution_count": 175,
     "metadata": {},
     "output_type": "execute_result"
    }
   ],
   "source": [
    "labels = torch.tensor([0,0,1,1,2,2])\n",
    "# labels +=3\n",
    "labels\n",
    "labels.unsqueeze(1)\n",
    "torch.eq(labels, labels.unsqueeze(1))"
   ]
  },
  {
   "cell_type": "code",
   "execution_count": 176,
   "id": "ee8b00c2-7e99-4ca8-84dd-26582a8e30c9",
   "metadata": {
    "execution": {
     "iopub.execute_input": "2024-03-07T17:03:10.183053Z",
     "iopub.status.busy": "2024-03-07T17:03:10.182436Z",
     "iopub.status.idle": "2024-03-07T17:03:10.223900Z",
     "shell.execute_reply": "2024-03-07T17:03:10.223078Z",
     "shell.execute_reply.started": "2024-03-07T17:03:10.183000Z"
    }
   },
   "outputs": [
    {
     "name": "stdout",
     "output_type": "stream",
     "text": [
      "masking_matrix\n",
      "tensor([[1., 1., 0., 0., 0., 0.],\n",
      "        [1., 1., 0., 0., 0., 0.],\n",
      "        [0., 0., 1., 1., 0., 0.],\n",
      "        [0., 0., 1., 1., 0., 0.],\n",
      "        [0., 0., 0., 0., 1., 1.],\n",
      "        [0., 0., 0., 0., 1., 1.]])\n",
      "masked_pick_probabliltiy\n",
      "tensor([[ 2.5957e-08,  2.1212e-01,  0.0000e+00,  0.0000e+00,  0.0000e+00,  0.0000e+00],\n",
      "        [ 2.1828e-01,  0.0000e+00,  0.0000e+00,  0.0000e+00,  0.0000e+00,  0.0000e+00],\n",
      "        [ 0.0000e+00,  0.0000e+00, -1.4493e-08,  2.2842e-01,  0.0000e+00,  0.0000e+00],\n",
      "        [ 0.0000e+00,  0.0000e+00,  2.1351e-01,  0.0000e+00,  0.0000e+00,  0.0000e+00],\n",
      "        [ 0.0000e+00,  0.0000e+00,  0.0000e+00,  0.0000e+00, -2.6332e-08,  1.9016e-01],\n",
      "        [ 0.0000e+00,  0.0000e+00,  0.0000e+00,  0.0000e+00,  1.9885e-01,  0.0000e+00]])\n"
     ]
    },
    {
     "data": {
      "text/plain": [
       "tensor([0.2121, 0.2183, 0.2284, 0.2135, 0.1902, 0.1988])"
      ]
     },
     "execution_count": 176,
     "metadata": {},
     "output_type": "execute_result"
    }
   ],
   "source": [
    "summed_masked_pick_probability = snnl.mask_sampling_probability(labels, sampling_probability)\n",
    "# summed_masked_pick_probability.sum(0)\n",
    "summed_masked_pick_probability"
   ]
  },
  {
   "cell_type": "markdown",
   "id": "49008051-d83a-4188-8522-f695ab3beaef",
   "metadata": {},
   "source": [
    "#### Base Model"
   ]
  },
  {
   "cell_type": "code",
   "execution_count": 22,
   "id": "34deccb9-2730-47f8-be65-4f14affd1a5f",
   "metadata": {
    "execution": {
     "iopub.execute_input": "2024-03-07T19:43:07.897995Z",
     "iopub.status.busy": "2024-03-07T19:43:07.897401Z",
     "iopub.status.idle": "2024-03-07T19:43:08.107883Z",
     "shell.execute_reply": "2024-03-07T19:43:08.107022Z",
     "shell.execute_reply.started": "2024-03-07T19:43:07.897936Z"
    }
   },
   "outputs": [],
   "source": []
  },
  {
   "cell_type": "markdown",
   "id": "b63d78d0-2adf-4743-8715-66f207cdd62b",
   "metadata": {},
   "source": [
    "#### DNN"
   ]
  },
  {
   "cell_type": "code",
   "execution_count": 23,
   "id": "c8f19550-74ee-458f-956e-ecfeb2e220a4",
   "metadata": {
    "execution": {
     "iopub.execute_input": "2024-03-07T19:43:08.110232Z",
     "iopub.status.busy": "2024-03-07T19:43:08.109945Z",
     "iopub.status.idle": "2024-03-07T19:43:08.211065Z",
     "shell.execute_reply": "2024-03-07T19:43:08.210227Z",
     "shell.execute_reply.started": "2024-03-07T19:43:08.110204Z"
    }
   },
   "outputs": [
    {
     "data": {
      "text/plain": [
       "'Feed-forward Neural Network'"
      ]
     },
     "execution_count": 23,
     "metadata": {},
     "output_type": "execute_result"
    }
   ],
   "source": []
  },
  {
   "cell_type": "markdown",
   "id": "b48dd830-3206-4531-8b07-aa4bf27a88bc",
   "metadata": {},
   "source": [
    "#### Autoencoder"
   ]
  },
  {
   "cell_type": "code",
   "execution_count": 24,
   "id": "bdccd157-4a38-4bc5-9e12-f6a483050df1",
   "metadata": {
    "execution": {
     "iopub.execute_input": "2024-03-07T19:43:08.212968Z",
     "iopub.status.busy": "2024-03-07T19:43:08.212670Z",
     "iopub.status.idle": "2024-03-07T19:43:08.299519Z",
     "shell.execute_reply": "2024-03-07T19:43:08.298736Z",
     "shell.execute_reply.started": "2024-03-07T19:43:08.212942Z"
    }
   },
   "outputs": [],
   "source": []
  },
  {
   "cell_type": "code",
   "execution_count": null,
   "id": "790b8a34-38da-4a11-b48a-de6fc8c11646",
   "metadata": {},
   "outputs": [],
   "source": []
  },
  {
   "cell_type": "markdown",
   "id": "f284c33e-8448-4c0a-a403-8dc1d8cc536d",
   "metadata": {
    "jp-MarkdownHeadingCollapsed": true
   },
   "source": [
    "#### Predict"
   ]
  },
  {
   "cell_type": "code",
   "execution_count": null,
   "id": "0ce36c0b-6fd4-4454-8ceb-214284dd6abc",
   "metadata": {
    "jupyter": {
     "source_hidden": true
    }
   },
   "outputs": [],
   "source": [
    "test_features = test_dataset.data.reshape(-1, 784) / 255.0"
   ]
  },
  {
   "cell_type": "code",
   "execution_count": null,
   "id": "16ebac12-779c-4da2-995c-b4ecaed34828",
   "metadata": {},
   "outputs": [],
   "source": [
    "model.eval()\n",
    "model = model.cpu()"
   ]
  },
  {
   "cell_type": "code",
   "execution_count": null,
   "id": "b2d51865-d440-4488-b690-45bdf8a91c82",
   "metadata": {},
   "outputs": [],
   "source": [
    "predictions = model.predict(test_features)\n",
    "model.test_accuracy = accuracy(y_true=test_dataset.targets, y_pred=predictions)"
   ]
  },
  {
   "cell_type": "code",
   "execution_count": null,
   "id": "33c72a58-de2e-43d9-ad00-725552a38ff5",
   "metadata": {},
   "outputs": [],
   "source": [
    "print(f\"accuracy: {model.test_accuracy}%\")"
   ]
  },
  {
   "cell_type": "code",
   "execution_count": null,
   "id": "d9d7cd53-2ef8-4c46-a509-e3443f1eae20",
   "metadata": {},
   "outputs": [],
   "source": [
    "print(f\"accuracy: {model.test_accuracy}%\")"
   ]
  },
  {
   "cell_type": "code",
   "execution_count": null,
   "id": "1e80b138-e509-48bc-853f-297f1a55a8e8",
   "metadata": {},
   "outputs": [],
   "source": [
    "print(f\"accuracy: {model.test_accuracy}%\")"
   ]
  },
  {
   "cell_type": "code",
   "execution_count": null,
   "id": "f2b8338a-e430-44e7-b82d-96c3fa70cf9c",
   "metadata": {},
   "outputs": [],
   "source": [
    "filename = f\"DNN-{args.model.lower()}-{args.seed}.json\"\n",
    "export_results(model=model, filename=filename)"
   ]
  },
  {
   "cell_type": "code",
   "execution_count": null,
   "id": "b616fdcb-52ea-4743-ace6-201a48fc68ee",
   "metadata": {},
   "outputs": [],
   "source": []
  }
 ],
 "metadata": {
  "kernelspec": {
   "display_name": "Python [conda env:ptsnnl]",
   "language": "python",
   "name": "conda-env-ptsnnl-py"
  },
  "language_info": {
   "codemirror_mode": {
    "name": "ipython",
    "version": 3
   },
   "file_extension": ".py",
   "mimetype": "text/x-python",
   "name": "python",
   "nbconvert_exporter": "python",
   "pygments_lexer": "ipython3",
   "version": "3.11.0"
  },
  "toc": {
   "base_numbering": 1,
   "nav_menu": {},
   "number_sections": true,
   "sideBar": true,
   "skip_h1_title": false,
   "title_cell": "Table of Contents",
   "title_sidebar": "Contents",
   "toc_cell": false,
   "toc_position": {},
   "toc_section_display": true,
   "toc_window_display": false
  }
 },
 "nbformat": 4,
 "nbformat_minor": 5
}
