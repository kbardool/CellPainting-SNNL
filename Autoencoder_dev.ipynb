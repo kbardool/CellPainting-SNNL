{
 "cells": [
  {
   "cell_type": "code",
   "execution_count": 1,
   "id": "11ad0ae2",
   "metadata": {
    "ExecuteTime": {
     "end_time": "2023-04-12T10:29:15.566596Z",
     "start_time": "2023-04-12T10:29:15.550232Z"
    },
    "execution": {
     "iopub.execute_input": "2024-05-01T08:05:06.958160Z",
     "iopub.status.busy": "2024-05-01T08:05:06.957873Z",
     "iopub.status.idle": "2024-05-01T08:05:06.979586Z",
     "shell.execute_reply": "2024-05-01T08:05:06.978956Z",
     "shell.execute_reply.started": "2024-05-01T08:05:06.958129Z"
    }
   },
   "outputs": [
    {
     "data": {
      "text/html": [
       "<style>.container { width:98% !important; }</style>"
      ],
      "text/plain": [
       "<IPython.core.display.HTML object>"
      ]
     },
     "metadata": {},
     "output_type": "display_data"
    }
   ],
   "source": [
    "from IPython.display import display, HTML\n",
    "display(HTML(\"<style>.container { width:98% !important; }</style>\"))\n",
    "%load_ext autoreload  \n",
    "%autoreload 2\n",
    "from IPython.core.interactiveshell import InteractiveShell\n",
    "InteractiveShell.ast_node_interactivity = \"all\""
   ]
  },
  {
   "cell_type": "code",
   "execution_count": 2,
   "id": "9ba59711",
   "metadata": {
    "ExecuteTime": {
     "end_time": "2023-04-12T10:29:16.111588Z",
     "start_time": "2023-04-12T10:29:15.764305Z"
    },
    "execution": {
     "iopub.execute_input": "2024-05-01T08:05:06.980595Z",
     "iopub.status.busy": "2024-05-01T08:05:06.980371Z",
     "iopub.status.idle": "2024-05-01T08:05:08.994743Z",
     "shell.execute_reply": "2024-05-01T08:05:08.993672Z",
     "shell.execute_reply.started": "2024-05-01T08:05:06.980573Z"
    }
   },
   "outputs": [
    {
     "name": "stdout",
     "output_type": "stream",
     "text": [
      "insert ./src\n",
      "['./src', '/home/kevin/miniforge3/envs/ptsnnl/lib/python311.zip', '/home/kevin/miniforge3/envs/ptsnnl/lib/python3.11', '/home/kevin/miniforge3/envs/ptsnnl/lib/python3.11/lib-dynload', '', '/home/kevin/miniforge3/envs/ptsnnl/lib/python3.11/site-packages']\n",
      "2.2.1+cu118\n",
      "Timestamp:  2024_05_01_10:05:08\n"
     ]
    }
   ],
   "source": [
    "import os\n",
    "import sys\n",
    "import csv\n",
    "import json\n",
    "import time\n",
    "import types, copy, pprint\n",
    "import logging \n",
    "from datetime import datetime\n",
    "if './src' not in sys.path:\n",
    "    print(f\"insert ./src\")\n",
    "    sys.path.insert(0, './src')\n",
    "print(sys.path)\n",
    "\n",
    "import numpy as np\n",
    "import pandas as pd\n",
    "from matplotlib import pyplot as plt\n",
    "from typing import Dict, List, Tuple\n",
    "from scipy.sparse import csr_matrix\n",
    "import shutil\n",
    "import getpass\n",
    "from tqdm import tqdm\n",
    "\n",
    "import torch\n",
    "torch.set_printoptions(precision=None, threshold=None, edgeitems=None, linewidth=150, profile=None, sci_mode=None)\n",
    "import torch.nn.functional as F\n",
    "from torchinfo import summary\n",
    "print(torch.__version__)\n",
    "\n",
    "pp = pprint.PrettyPrinter(indent=4)\n",
    "\n",
    "pd.options.display.width = 132\n",
    "torch.set_printoptions(precision=None, threshold=None, edgeitems=None, linewidth=150, profile=None, sci_mode=None)\n",
    "np.set_printoptions(edgeitems=3, infstr='inf', linewidth=150, nanstr='nan')\n",
    "\n",
    "os.environ[\"WANDB_NOTEBOOK_NAME\"] = \"Adashare_Train.ipynb\"\n",
    "os.environ[\"CUDA_LAUNCH_BLOCKING\"] = \"1\"\n",
    "\n",
    "# print(\"7- '%Y_%m_%d_%H:%M:%S'   : \",datetime.now().strftime('%Y%m%d_%H%M%S'))\n",
    "timestamp = datetime.now().strftime('%Y_%m_%d_%H:%M:%S')\n",
    "print('Timestamp: ',timestamp)\n",
    "logLevel = os.environ.get('LOG_LEVEL', 'INFO').upper()\n",
    "FORMAT = '%(asctime)s - %(levelname)s: - %(message)s'\n",
    "logging.basicConfig(level=\"INFO\", format= FORMAT)"
   ]
  },
  {
   "cell_type": "code",
   "execution_count": 3,
   "id": "20f55fa0",
   "metadata": {
    "execution": {
     "iopub.execute_input": "2024-05-01T08:05:08.996245Z",
     "iopub.status.busy": "2024-05-01T08:05:08.995936Z",
     "iopub.status.idle": "2024-05-01T08:05:09.011580Z",
     "shell.execute_reply": "2024-05-01T08:05:09.010750Z",
     "shell.execute_reply.started": "2024-05-01T08:05:08.996224Z"
    }
   },
   "outputs": [],
   "source": [
    "# import shutil\n",
    "# import getpass\n",
    "# from tqdm import tqdm"
   ]
  },
  {
   "cell_type": "markdown",
   "id": "c9a51595-5eb1-4169-83e1-ab476383de22",
   "metadata": {},
   "source": [
    "# Setup"
   ]
  },
  {
   "cell_type": "code",
   "execution_count": 4,
   "id": "9c3ba93c-cf59-4e11-9229-53a2fe3b3dde",
   "metadata": {
    "execution": {
     "iopub.execute_input": "2024-05-01T08:05:09.012656Z",
     "iopub.status.busy": "2024-05-01T08:05:09.012460Z",
     "iopub.status.idle": "2024-05-01T08:05:11.587938Z",
     "shell.execute_reply": "2024-05-01T08:05:11.586775Z",
     "shell.execute_reply.started": "2024-05-01T08:05:09.012637Z"
    }
   },
   "outputs": [
    {
     "data": {
      "text/plain": [
       "'Sample module for using DNN classifier with SNNL'"
      ]
     },
     "execution_count": 4,
     "metadata": {},
     "output_type": "execute_result"
    }
   ],
   "source": [
    "# Soft Nearest Neighbor Loss\n",
    "# Copyright (C) 2020  Abien Fred Agarap\n",
    "#\n",
    "# This program is free software: you can redistribute it and/or modify\n",
    "# it under the terms of the GNU Affero General Public License as published\n",
    "# by the Free Software Foundation, either version 3 of the License, or\n",
    "# (at your option) any later version.\n",
    "#\n",
    "# This program is distributed in the hope that it will be useful,\n",
    "# but WITHOUT ANY WARRANTY; without even the implied warranty of\n",
    "# MERCHANTABILITY or FITNESS FOR A PARTICULAR PURPOSE.  See the\n",
    "# GNU Affero General Public License for more details.\n",
    "#\n",
    "# You should have received a copy of the GNU Affero General Public License\n",
    "# along with this program.  If not, see <https://www.gnu.org/licenses/>.\n",
    "__author__ = \"Abien Fred Agarap\"\n",
    "__version__ = \"1.0.0\"\n",
    "\"\"\"Sample module for using DNN classifier with SNNL\"\"\"\n",
    "\n",
    "# import argparse\n",
    "# import torch\n",
    "# from pt_datasets import create_dataloader, load_dataset\n",
    "# from pt_datasets import display_cellpainting_batch\n",
    "# from snnl.models import DNN\n",
    "from snnl.utils import parse_args, get_hyperparameters, set_global_seed, get_device\n",
    "from snnl.utils import load_model, save_model, import_results, export_results, save_checkpoint, load_checkpoint \n",
    "from snnl.utils import plot_model_parms, plot_train_history, plot_train_metrics\n",
    "from snnl.utils import display_epoch_metrics, display_model_history, display_cellpainting_batch\n",
    "from snnl.utils import CellpaintingDataset, InfiniteDataLoader, custom_collate_fn\n",
    "from snnl.utils import display_model_summary\n",
    "from dev_base import Model\n",
    "from dev_dnn  import DNN \n",
    "from dev_autoencoder import Autoencoder\n",
    "from dev_snnloss import SNNLoss"
   ]
  },
  {
   "cell_type": "code",
   "execution_count": 101,
   "id": "8059a7a6",
   "metadata": {
    "execution": {
     "iopub.execute_input": "2024-05-01T10:35:50.404307Z",
     "iopub.status.busy": "2024-05-01T10:35:50.403880Z",
     "iopub.status.idle": "2024-05-01T10:35:51.006324Z",
     "shell.execute_reply": "2024-05-01T10:35:51.005566Z",
     "shell.execute_reply.started": "2024-05-01T10:35:50.404272Z"
    }
   },
   "outputs": [
    {
     "name": "stdout",
     "output_type": "stream",
     "text": [
      "(22980132864, 34069872640)\n",
      "(30267736064, 34069872640)\n",
      "(12617121792, 12774539264)\n",
      "Running on: cuda:0 Quadro GV100 0\n",
      "Current device is : cuda:0\n"
     ]
    }
   ],
   "source": [
    "current_device = get_device()\n",
    "print(f\"Current device is : {current_device}\")"
   ]
  },
  {
   "cell_type": "markdown",
   "id": "1be5e789-3446-482f-a3ca-fdd19b2a845e",
   "metadata": {},
   "source": [
    "### main(args)"
   ]
  },
  {
   "cell_type": "code",
   "execution_count": 6,
   "id": "698c3598-4a04-4b27-a759-08c4d7d247bb",
   "metadata": {
    "execution": {
     "iopub.execute_input": "2024-05-01T08:05:11.630978Z",
     "iopub.status.busy": "2024-05-01T08:05:11.630773Z",
     "iopub.status.idle": "2024-05-01T08:05:11.665470Z",
     "shell.execute_reply": "2024-05-01T08:05:11.664526Z",
     "shell.execute_reply.started": "2024-05-01T08:05:11.630958Z"
    }
   },
   "outputs": [
    {
     "data": {
      "text/plain": [
       "Namespace(seed=1234, model='snnl', configuration='hyperparameters/autoencoder_cellpainting.json')"
      ]
     },
     "execution_count": 6,
     "metadata": {},
     "output_type": "execute_result"
    },
    {
     "name": "stdout",
     "output_type": "stream",
     "text": [
      "common cellpainting hyperparameters\n",
      "loading autoencoder hyperparameters\n",
      "loading autoencoder_cellpainting hyperparms\n"
     ]
    }
   ],
   "source": [
    "# if __name__ == \"__main__\":\n",
    "input_args = f\" --seed              1234 \" \\\n",
    "             f\" --model             snnl\" \\\n",
    "             f\" --configuration      hyperparameters/autoencoder_cellpainting.json\"\n",
    "             # f\" --configuration    hyperparameters/dnn_mnist.json\"\n",
    "             # f\" --model             baseline\" \\\n",
    "args = parse_args(input_args.split())\n",
    "args\n",
    "set_global_seed(args.seed)\n",
    "## Autoencoder\n",
    "(   dataset,\n",
    "    batch_size,\n",
    "    epochs,\n",
    "    learning_rate,\n",
    "    input_shape,\n",
    "    code_units,\n",
    "    units,\n",
    "    activations,\n",
    "    snnl_factor,\n",
    "    temperature,\n",
    "    cellpainting_args\n",
    ") = get_hyperparameters(args.configuration)\n"
   ]
  },
  {
   "cell_type": "code",
   "execution_count": 7,
   "id": "38d314f7-57f2-485e-b3b9-5f273ba3c4da",
   "metadata": {
    "execution": {
     "iopub.execute_input": "2024-05-01T08:05:11.666451Z",
     "iopub.status.busy": "2024-05-01T08:05:11.666251Z",
     "iopub.status.idle": "2024-05-01T08:05:11.692107Z",
     "shell.execute_reply": "2024-05-01T08:05:11.691224Z",
     "shell.execute_reply.started": "2024-05-01T08:05:11.666432Z"
    }
   },
   "outputs": [],
   "source": [
    "# units = [[1471, 1024], [1024, 1024], [1024, 512], [512,32] ]\n",
    "# batch_size = 1\n",
    "# compounds_per_batch = 100\n",
    "\n",
    " \n",
    "if dataset == \"cellpainting\": \n",
    "    # cellpainting_args['batch_size']   = batch_size\n",
    "    # cellpainting_args['compounds_per_batch'] = compounds_per_batch\n",
    "    # cellpainting_args['train_start']  = 0\n",
    "    # cellpainting_args['train_end']    = 240_000\n",
    "    # cellpainting_args['val_start']    = 0\n",
    "    # cellpainting_args['val_end']      = 24_000\n",
    "    # cellpainting_args['sample_size'] = 3\n",
    "    pass"
   ]
  },
  {
   "cell_type": "code",
   "execution_count": 8,
   "id": "e85d6a4d-1603-43ab-b4ff-9c12ae228c51",
   "metadata": {
    "execution": {
     "iopub.execute_input": "2024-05-01T08:05:11.693028Z",
     "iopub.status.busy": "2024-05-01T08:05:11.692843Z",
     "iopub.status.idle": "2024-05-01T08:05:11.719769Z",
     "shell.execute_reply": "2024-05-01T08:05:11.719096Z",
     "shell.execute_reply.started": "2024-05-01T08:05:11.693009Z"
    }
   },
   "outputs": [
    {
     "name": "stdout",
     "output_type": "stream",
     "text": [
      " - Each mini-batch contains 100.0 compounds with 3 samples per each compound : total 300 rows\n",
      " - Number of 300 row full size batches per epoch: 800\n",
      " - Rows covered by 800 full size batches (300 rows) per epoch:  240000\n",
      " - Last partial batch contains : 0 rows\n",
      "\n",
      " - Each mini-batch contains 100.0 compounds with 3 samples per each compound : total 300 rows\n",
      " - Number of 300 row full size batches per epoch: 80\n",
      " - Rows covered by 80 full size batches (300 rows) per epoch:  24000\n",
      " - Last partial batch contains : 0 rows\n",
      "\n"
     ]
    }
   ],
   "source": [
    "trn_file_sz = cellpainting_args['train_end'] - cellpainting_args['train_start']\n",
    "val_file_sz = cellpainting_args['val_end'] - cellpainting_args['val_start']\n",
    "smp_sz = cellpainting_args['sample_size']\n",
    "buf_sz = cellpainting_args['compounds_per_batch']\n",
    "bth_sz = batch_size\n",
    "recs_per_batch = smp_sz * bth_sz * buf_sz\n",
    "\n",
    "for file_sz in [trn_file_sz, val_file_sz]:\n",
    "    bth_per_epoch = file_sz // recs_per_batch\n",
    "    print(f\" - Each mini-batch contains {recs_per_batch/smp_sz} compounds with {smp_sz} samples per each compound : total {recs_per_batch} rows\")\n",
    "    print(f\" - Number of {recs_per_batch} row full size batches per epoch: {bth_per_epoch}\")\n",
    "    print(f\" - Rows covered by {bth_per_epoch} full size batches ({recs_per_batch} rows) per epoch:  {(file_sz // recs_per_batch) * recs_per_batch}\")\n",
    "    print(f\" - Last partial batch contains : {file_sz % recs_per_batch} rows\")\n",
    "    print() "
   ]
  },
  {
   "cell_type": "code",
   "execution_count": 9,
   "id": "1e4f9df4-ca74-4916-8d76-be4bed339b6c",
   "metadata": {
    "execution": {
     "iopub.execute_input": "2024-05-01T08:05:11.720833Z",
     "iopub.status.busy": "2024-05-01T08:05:11.720573Z",
     "iopub.status.idle": "2024-05-01T08:05:11.747712Z",
     "shell.execute_reply": "2024-05-01T08:05:11.746946Z",
     "shell.execute_reply.started": "2024-05-01T08:05:11.720814Z"
    }
   },
   "outputs": [
    {
     "name": "stdout",
     "output_type": "stream",
     "text": [
      "   dataset           cellpainting\n",
      "   batch_size        1\n",
      "   epochs            40\n",
      "   learning_rate     0.001\n",
      "   code_units        50\n",
      "   units             [['linear', 1471, 1024], ['linear', 1024, 128], ['linear', 128, 50], ['linear', 50, 128], ['linear', 128, 1024], ['linear', 1024, 1471]]\n",
      "   activations       ['relu', 'relu', 'sigmoid', 'relu', 'relu', 'relu']\n",
      "   snnl_factor       100.0\n",
      "   temperature       None\n",
      "\n",
      "{   'batch_size': 1,\n",
      "    'chunksize': None,\n",
      "    'compounds_per_batch': 100,\n",
      "    'conversions': None,\n",
      "    'iterator': True,\n",
      "    'sample_size': 3,\n",
      "    'test_end': 33600,\n",
      "    'test_start': 30000,\n",
      "    'train_end': 240000,\n",
      "    'train_start': 0,\n",
      "    'training_path': '/home/kevin/WSL-shared/Cellpainting/cj-datasets/output_11102023/3_sample_profiles/3sample_profiles_1482_HashOrder.csv',\n",
      "    'val_end': 24000,\n",
      "    'val_start': 0,\n",
      "    'validation_path': '/home/kevin/WSL-shared/Cellpainting/cj-datasets/output_11102023/3_sample_profiles/3sample_profiles_1482_HashOrder_test.csv'}\n"
     ]
    }
   ],
   "source": [
    "print(f\"   dataset           {dataset}\")\n",
    "print(f\"   batch_size        {batch_size}\")\n",
    "print(f\"   epochs            {epochs}\")\n",
    "print(f\"   learning_rate     {learning_rate}\")\n",
    "print(f\"   code_units        {code_units}\")\n",
    "print(f\"   units             {units}\")\n",
    "print(f\"   activations       {activations}\")\n",
    "print(f\"   snnl_factor       {snnl_factor}\")\n",
    "print(f\"   temperature       {temperature}\")\n",
    "print()\n",
    "if dataset == \"cellpainting\": \n",
    "    pp.pprint(cellpainting_args)"
   ]
  },
  {
   "cell_type": "code",
   "execution_count": 10,
   "id": "b83ca556-604c-4467-846b-df0f4b55d117",
   "metadata": {
    "execution": {
     "iopub.execute_input": "2024-05-01T08:05:11.748610Z",
     "iopub.status.busy": "2024-05-01T08:05:11.748418Z",
     "iopub.status.idle": "2024-05-01T08:05:11.847640Z",
     "shell.execute_reply": "2024-05-01T08:05:11.846564Z",
     "shell.execute_reply.started": "2024-05-01T08:05:11.748591Z"
    }
   },
   "outputs": [
    {
     "name": "stdout",
     "output_type": "stream",
     "text": [
      " load cellpainting\n",
      " Building CellPantingDataset from NOTEBOOK\n",
      "    _init()_    -- filename:          /home/kevin/WSL-shared/Cellpainting/cj-datasets/output_11102023/3_sample_profiles/3sample_profiles_1482_HashOrder.csv\n",
      "    _init()_    -- type :             train\n",
      "    _init()_    -- start :            0\n",
      "    _init()_    -- end :              240000\n",
      "    _init()_    -- numrows :          240000\n",
      " Building CellPantingDataset from NOTEBOOK\n",
      "    _init()_    -- filename:          /home/kevin/WSL-shared/Cellpainting/cj-datasets/output_11102023/3_sample_profiles/3sample_profiles_1482_HashOrder_test.csv\n",
      "    _init()_    -- type :             val\n",
      "    _init()_    -- start :            0\n",
      "    _init()_    -- end :              24000\n",
      "    _init()_    -- numrows :          24000\n"
     ]
    }
   ],
   "source": [
    "#### Load CellPainting Dataset\n",
    "if dataset == 'cellpainting':\n",
    "    print(f\" load {dataset}\")\n",
    "    train_dataset = CellpaintingDataset(type='train',    **cellpainting_args)\n",
    "    train_loader = InfiniteDataLoader(dataset=train_dataset, batch_size = batch_size, shuffle = False, num_workers = 0, collate_fn = custom_collate_fn)\n",
    "    val_dataset = CellpaintingDataset(type='val',    **cellpainting_args)\n",
    "    val_loader = InfiniteDataLoader(dataset=val_dataset, batch_size = batch_size, shuffle = False, num_workers = 0, collate_fn = custom_collate_fn)\n",
    "\n",
    "# train_dataset, test_dataset = load_dataset(name='cellpainting', cellpainting_args = cellpainting_args)\n",
    "# test_loader = create_dataloader(dataset=test_dataset, batch_size=batch_size, shuffle = False, num_workers = 0 , collate_fn = custom_collate_fn)\n",
    "# train_dataloader = DataLoader(dataset = train_dataset, batch_size=10, num_workers = 0, collate_fn=custom_collate, worker_init_fn = worker_init_fn, shuffle= False)\n",
    "# test_dataloader  = DataLoader(dataset = test_dataset , batch_size=12, num_workers = 0, collate_fn=custom_collate, worker_init_fn = worker_init_fn, shuffle= False)"
   ]
  },
  {
   "cell_type": "code",
   "execution_count": 11,
   "id": "71bad058-4d03-424b-ba3d-b040b21ef333",
   "metadata": {
    "execution": {
     "iopub.execute_input": "2024-05-01T08:05:11.849221Z",
     "iopub.status.busy": "2024-05-01T08:05:11.848872Z",
     "iopub.status.idle": "2024-05-01T08:05:11.878733Z",
     "shell.execute_reply": "2024-05-01T08:05:11.877867Z",
     "shell.execute_reply.started": "2024-05-01T08:05:11.849186Z"
    }
   },
   "outputs": [],
   "source": [
    "# for idx, batch in enumerate(train_loader):\n",
    "#     print(f\"{idx:4d}, {batch[0].shape}, {batch[1].shape},{batch[2].shape},{batch[3].shape},{batch[4].shape}, {batch[3][:3]}, {batch[3][-3:]}\")\n",
    "#     display_cellpainting_batch(idx, batch)\n",
    "#     if idx >= 0:\n",
    "#         break"
   ]
  },
  {
   "cell_type": "markdown",
   "id": "19b32e21-67d2-45af-a45f-841b6dca43ff",
   "metadata": {},
   "source": [
    "## Define autoencoder model"
   ]
  },
  {
   "cell_type": "code",
   "execution_count": 109,
   "id": "2fdc1998-5141-40c0-82d8-b505d4f19ecd",
   "metadata": {
    "execution": {
     "iopub.execute_input": "2024-05-01T11:02:26.684046Z",
     "iopub.status.busy": "2024-05-01T11:02:26.683547Z",
     "iopub.status.idle": "2024-05-01T11:02:26.724714Z",
     "shell.execute_reply": "2024-05-01T11:02:26.724129Z",
     "shell.execute_reply.started": "2024-05-01T11:02:26.684005Z"
    }
   },
   "outputs": [
    {
     "name": "stdout",
     "output_type": "stream",
     "text": [
      "   Latent dim        50\n",
      "   loss_factor       20.0\n",
      "   snnl_factor       1.0\n",
      "   temperature       15.0\n",
      "   learning_rate     0.0001\n",
      "   temperatureLR:    0.01\n"
     ]
    }
   ],
   "source": [
    "# input_shape = 784\n",
    "# code_units =  20\n",
    "temperature   = 15.00\n",
    "loss_factor   = 20.0\n",
    "snnl_factor   = 1.0e+00\n",
    "learning_rate = 1.0e-04    ## 0.001\n",
    "temperatureLR = 1.0e-02    ## 1e-4\n",
    "# temperatureLR = 1e-03     ## 1e-4\n",
    "print(f\"   Latent dim        {code_units}\")\n",
    "print(f\"   loss_factor       {loss_factor}\")\n",
    "print(f\"   snnl_factor       {snnl_factor}\")\n",
    "print(f\"   temperature       {temperature}\")\n",
    "print(f\"   learning_rate     {learning_rate}\")\n",
    "print(f\"   temperatureLR:    {temperatureLR}\")"
   ]
  },
  {
   "cell_type": "code",
   "execution_count": 105,
   "id": "998657d2-914c-4f06-b310-33b878f40f79",
   "metadata": {
    "execution": {
     "iopub.execute_input": "2024-05-01T11:02:06.739998Z",
     "iopub.status.busy": "2024-05-01T11:02:06.739521Z",
     "iopub.status.idle": "2024-05-01T11:02:06.861125Z",
     "shell.execute_reply": "2024-05-01T11:02:06.860281Z",
     "shell.execute_reply.started": "2024-05-01T11:02:06.739957Z"
    },
    "scrolled": true
   },
   "outputs": [
    {
     "name": "stdout",
     "output_type": "stream",
     "text": [
      "\n",
      "------------------------------------------------------------\n",
      " Building Base Model from NOTEBOOK\n",
      "------------------------------------------------------------\n",
      "    Model_init()_    -- mode:              latent_code\n",
      "    Model_init()_    -- unsupervised :     None\n",
      "    Model_init()_    -- Criterion:         MSELoss()\n",
      "    Model_init()_    -- use_snnl :         True\n",
      "    Model_init()_    -- temperature :      15.0\n",
      "    Model_init()_    -- temperature LR:    0.01\n",
      " for latent_code support for unsupervised is True\n",
      "\n",
      "------------------------------------------------------------\n",
      " Build SNNLoss from NOTEBOOK\n",
      "------------------------------------------------------------\n",
      "    SNNLoss _init()_    -- mode: latent_code was found in SNNLoss._supported_modes --   is unsupervised: True\n",
      "    SNNLoss _init()_    -- unsupervised :     True\n",
      "    SNNLoss _init()_    -- use_annealing :    False\n",
      "    SNNLoss _init()_    -- sample_size :      3\n",
      "    SNNLoss _init()_    -- embedding_layer :  6\n",
      "    SNNLoss _init()_    -- temperature :      15.0\n",
      "\n",
      "------------------------------------------------------------\n",
      " Building Autoencoder from NOTEBOOK\n",
      "------------------------------------------------------------\n",
      "    layer/non_linearity pair:    0  type:linear           input:   1471  output:   1024  non_linearity: relu           \n",
      "    layer/non_linearity pair:    1  type:linear           input:   1024  output:    128  non_linearity: relu           \n",
      "    layer/non_linearity pair:    2  type:linear           input:    128  output:     50  non_linearity: sigmoid        \n",
      "    layer/non_linearity pair:    3  type:linear           input:     50  output:    128  non_linearity: relu           \n",
      "    layer/non_linearity pair:    4  type:linear           input:    128  output:   1024  non_linearity: relu           \n",
      "    layer/non_linearity pair:    5  type:linear           input:   1024  output:   1471  non_linearity: relu           \n",
      "    layer_types      : ['linear', 'relu', 'linear', 'relu', 'linear', 'sigmoid', 'linear', 'relu', 'linear', 'relu', 'linear', 'relu']\n",
      "    layer_activations: ['relu', 'relu', 'sigmoid', 'relu', 'relu', 'relu']\n",
      "    parameter: temperature  torch.Size([1])\n",
      "    parameter: layers.0.weight  torch.Size([1024, 1471])\n",
      "    parameter: layers.0.bias  torch.Size([1024])\n",
      "    parameter: layers.2.weight  torch.Size([128, 1024])\n",
      "    parameter: layers.2.bias  torch.Size([128])\n",
      "    parameter: layers.4.weight  torch.Size([50, 128])\n",
      "    parameter: layers.4.bias  torch.Size([50])\n",
      "    parameter: layers.6.weight  torch.Size([128, 50])\n",
      "    parameter: layers.6.bias  torch.Size([128])\n",
      "    parameter: layers.8.weight  torch.Size([1024, 128])\n",
      "    parameter: layers.8.bias  torch.Size([1024])\n",
      "    parameter: layers.10.weight  torch.Size([1471, 1024])\n",
      "    parameter: layers.10.bias  torch.Size([1471])\n",
      "    AE init() -- mode               : latent_code\n",
      "    AE init() -- unsupervised       : True\n",
      "    AE init() -- use_snnl           : True\n",
      "    AE init() -- Primary Crtierion  : MSELoss()\n",
      "    AE init() -- SNNL Crtierion     : SNNLoss()\n",
      "    AE init() -- temperature        : Parameter containing:\n",
      "tensor([15.], device='cuda:0', requires_grad=True)\n",
      "    AE init() -- temperature LR     : 0.01\n",
      "    AE init() -- monitor_grads_layer: None\n"
     ]
    },
    {
     "data": {
      "text/plain": [
       "device(type='cuda', index=0)"
      ]
     },
     "execution_count": 105,
     "metadata": {},
     "output_type": "execute_result"
    }
   ],
   "source": [
    "if args.model.lower() == \"baseline\":\n",
    "    model = Autoencoder(\n",
    "        input_shape=input_shape, code_units=code_units, learning_rate=learning_rate\n",
    "    )\n",
    "elif args.model.lower() == \"snnl\":\n",
    "    model = Autoencoder(\n",
    "        mode=\"latent_code\",\n",
    "        units=units,\n",
    "        activations = activations,\n",
    "        criterion = torch.nn.MSELoss(reduction='mean'),\n",
    "        use_snnl=True,\n",
    "        loss_factor = loss_factor,\n",
    "        snnl_factor=snnl_factor,\n",
    "        temperature=temperature,\n",
    "        learning_rate=learning_rate,\n",
    "        temperatureLR=temperatureLR,\n",
    "        adam_weight_decay = 0,\n",
    "        SGD_weight_decay= 0,\n",
    "        use_annealing= False,        \n",
    "        input_shape=input_shape,\n",
    "        code_units = code_units,\n",
    "        embedding_layer = 6,\n",
    "        use_sum = False,\n",
    "        sample_size = cellpainting_args['sample_size']\n",
    "    )\n",
    "else:\n",
    "    raise ValueError(\"Choose between [baseline] and [snnl] only.\")\n",
    "\n",
    "model.device"
   ]
  },
  {
   "cell_type": "code",
   "execution_count": 106,
   "id": "6fe0933b-b552-49a6-8a83-c963a3c0b102",
   "metadata": {
    "execution": {
     "iopub.execute_input": "2024-05-01T11:02:08.277977Z",
     "iopub.status.busy": "2024-05-01T11:02:08.277497Z",
     "iopub.status.idle": "2024-05-01T11:02:08.321992Z",
     "shell.execute_reply": "2024-05-01T11:02:08.321189Z",
     "shell.execute_reply.started": "2024-05-01T11:02:08.277935Z"
    }
   },
   "outputs": [
    {
     "name": "stdout",
     "output_type": "stream",
     "text": [
      "==============================================================================================================================================================================================\n",
      "Layer (type:depth-idx)                   Input Shape               Output Shape              Param #                   Param %                   Mult-Adds                 Trainable\n",
      "==============================================================================================================================================================================================\n",
      "Autoencoder                              [300, 1471]               [300, 1024]               1                           0.00%                   --                        True\n",
      "├─ModuleList: 1-1                        --                        --                        --                             --                   --                        True\n",
      "│    └─Linear: 2-1                       [300, 1471]               [300, 1024]               1,507,328                  45.80%                   452,198,400               True\n",
      "│    └─ReLU: 2-2                         [300, 1024]               [300, 1024]               --                             --                   --                        --\n",
      "│    └─Linear: 2-3                       [300, 1024]               [300, 128]                131,200                     3.99%                   39,360,000                True\n",
      "│    └─ReLU: 2-4                         [300, 128]                [300, 128]                --                             --                   --                        --\n",
      "│    └─Linear: 2-5                       [300, 128]                [300, 50]                 6,450                       0.20%                   1,935,000                 True\n",
      "│    └─Sigmoid: 2-6                      [300, 50]                 [300, 50]                 --                             --                   --                        --\n",
      "│    └─Linear: 2-7                       [300, 50]                 [300, 128]                6,528                       0.20%                   1,958,400                 True\n",
      "│    └─ReLU: 2-8                         [300, 128]                [300, 128]                --                             --                   --                        --\n",
      "│    └─Linear: 2-9                       [300, 128]                [300, 1024]               132,096                     4.01%                   39,628,800                True\n",
      "│    └─ReLU: 2-10                        [300, 1024]               [300, 1024]               --                             --                   --                        --\n",
      "│    └─Linear: 2-11                      [300, 1024]               [300, 1471]               1,507,775                  45.81%                   452,332,500               True\n",
      "│    └─ReLU: 2-12                        [300, 1471]               [300, 1471]               --                             --                   --                        --\n",
      "==============================================================================================================================================================================================\n",
      "Total params: 3,291,378\n",
      "Trainable params: 3,291,378\n",
      "Non-trainable params: 0\n",
      "Total mult-adds (Units.MEGABYTES): 987.41\n",
      "==============================================================================================================================================================================================\n",
      "Input size (MB): 1.77\n",
      "Forward/backward pass size (MB): 9.18\n",
      "Params size (MB): 13.17\n",
      "Estimated Total Size (MB): 24.11\n",
      "==============================================================================================================================================================================================\n",
      "\n",
      "   1:  <class 'torch.nn.modules.linear.Linear'>                -- Linear(in_features=1471, out_features=1024, bias=True)\t\t torch.Size([1024, 1471])\n",
      "   2:  <class 'torch.nn.modules.activation.ReLU'>              -- ReLU()\n",
      "   3:  <class 'torch.nn.modules.linear.Linear'>                -- Linear(in_features=1024, out_features=128, bias=True)\t\t torch.Size([128, 1024])\n",
      "   4:  <class 'torch.nn.modules.activation.ReLU'>              -- ReLU()\n",
      "   5:  <class 'torch.nn.modules.linear.Linear'>                -- Linear(in_features=128, out_features=50, bias=True)\t\t torch.Size([50, 128])\n",
      "   6:  <class 'torch.nn.modules.activation.Sigmoid'>           -- Sigmoid()\n",
      "   7:  <class 'torch.nn.modules.linear.Linear'>                -- Linear(in_features=50, out_features=128, bias=True)\t\t torch.Size([128, 50])\n",
      "   8:  <class 'torch.nn.modules.activation.ReLU'>              -- ReLU()\n",
      "   9:  <class 'torch.nn.modules.linear.Linear'>                -- Linear(in_features=128, out_features=1024, bias=True)\t\t torch.Size([1024, 128])\n",
      "  10:  <class 'torch.nn.modules.activation.ReLU'>              -- ReLU()\n",
      "  11:  <class 'torch.nn.modules.linear.Linear'>                -- Linear(in_features=1024, out_features=1471, bias=True)\t\t torch.Size([1471, 1024])\n",
      "  12:  <class 'torch.nn.modules.activation.ReLU'>              -- ReLU()\n"
     ]
    }
   ],
   "source": [
    "display_model_summary(model)"
   ]
  },
  {
   "cell_type": "markdown",
   "id": "94aeaa82-14c5-465c-ae6e-bb792ba8a973",
   "metadata": {},
   "source": [
    "## Autoencoder `fit(data_loader = train_loader, epochs = epochs)` "
   ]
  },
  {
   "cell_type": "code",
   "execution_count": 107,
   "id": "dee23d84-f749-46e8-a30d-24e540cda247",
   "metadata": {
    "execution": {
     "iopub.execute_input": "2024-05-01T11:02:09.969153Z",
     "iopub.status.busy": "2024-05-01T11:02:09.968676Z",
     "iopub.status.idle": "2024-05-01T11:02:10.007682Z",
     "shell.execute_reply": "2024-05-01T11:02:10.007005Z",
     "shell.execute_reply.started": "2024-05-01T11:02:09.969112Z"
    }
   },
   "outputs": [],
   "source": [
    "starting_epoch, epoch , epochs = 0,0,5"
   ]
  },
  {
   "cell_type": "code",
   "execution_count": 155,
   "id": "3da121c7-2e3f-4ba9-83db-5b7ffcb72f9f",
   "metadata": {
    "execution": {
     "iopub.execute_input": "2024-05-01T13:31:58.815035Z",
     "iopub.status.busy": "2024-05-01T13:31:58.814419Z",
     "iopub.status.idle": "2024-05-01T13:31:58.864494Z",
     "shell.execute_reply": "2024-05-01T13:31:58.863803Z",
     "shell.execute_reply.started": "2024-05-01T13:31:58.814992Z"
    }
   },
   "outputs": [
    {
     "name": "stdout",
     "output_type": "stream",
     "text": [
      "\n",
      " loss_factor         : 20.0\n",
      " snnl_factor         : 1.0\n",
      " temperature         : 14.757164001464844\n",
      " Learning rate       : 0.0005\n",
      " Temperature LR      : 0.01\n",
      " monitor_grads_layer : -2\n",
      "\n",
      " run epochs 31 to 40 \n"
     ]
    }
   ],
   "source": [
    "# snnl_factor = 10.0\n",
    "# print(f\" loss_factor      : {loss_factor}\")\n",
    "# print(f\" snnl_factor      : {snnl_factor}\")\n",
    "# print(f\" model.monitor_grads_layer: {model.monitor_grads_layer}\")\n",
    "# print(f\" model.temperature: {model.temperature}\")\n",
    "# print(f\" Learning rate    : {model.optimizer.param_groups[0]['lr']}\") \n",
    "# print(f\" Temperature LR   : {model.temperatureLR}\") \n",
    "# model.temperature = 40.0\n",
    "# snnl_factor = 10.0\n",
    "# model.temperatureLR = 1e-5\n",
    "model.optimizer.param_groups[0]['lr'] = 0.0005\n",
    "model.monitor_grads_layer = -2\n",
    "print()\n",
    "print(f\" loss_factor         : {loss_factor}\")\n",
    "print(f\" snnl_factor         : {snnl_factor}\")\n",
    "print(f\" temperature         : {model.temperature.item()}\")\n",
    "print(f\" Learning rate       : {model.optimizer.param_groups[0]['lr']}\") \n",
    "print(f\" Temperature LR      : {model.temp_optimizer.param_groups[0]['lr']}\") \n",
    "print(f\" monitor_grads_layer : {model.monitor_grads_layer}\")\n",
    "print(f\"\\n run epochs {starting_epoch+1} to {epochs} \")"
   ]
  },
  {
   "cell_type": "code",
   "execution_count": 201,
   "id": "4ca0caad-e9e1-4af4-9d7e-e308310f4e8e",
   "metadata": {
    "execution": {
     "iopub.execute_input": "2024-05-01T20:02:09.029003Z",
     "iopub.status.busy": "2024-05-01T20:02:09.028552Z",
     "iopub.status.idle": "2024-05-01T20:58:08.055674Z",
     "shell.execute_reply": "2024-05-01T20:58:08.054065Z",
     "shell.execute_reply.started": "2024-05-01T20:02:09.028965Z"
    },
    "scrolled": true
   },
   "outputs": [
    {
     "name": "stdout",
     "output_type": "stream",
     "text": [
      "20240501_220209  epoch  151 of  175\n",
      "                     |   Trn_loss    PrimLoss      SNNL   |    temp*        grad     |                          |   Vld_loss    PrimLoss      SNNL   |                          |\n",
      "---------------------+------------------------------------+--------------------------+--------------------------+------------------------------------+--------------------------|\n",
      "22:04:21 ep 151 /175 |  16.431110   11.427451    5.003659 |  13.639456    1.1263e-04 |                          |  16.403922   11.400197    5.003725 |                          |\n",
      "22:06:34 ep 152 /175 |  16.425325   11.421657    5.003667 |  13.626987    1.0599e-04 |                          |  16.423793   11.420017    5.003776 |                          |\n",
      "22:08:49 ep 153 /175 |  16.435088   11.431430    5.003658 |  13.614475    1.1417e-04 |                          |  16.408319   11.404523    5.003796 |                          |\n",
      "22:11:03 ep 154 /175 |  16.439130   11.435491    5.003640 |  13.601829    1.0800e-04 |                          |  16.446240   11.442445    5.003795 |                          |\n",
      "22:13:17 ep 155 /175 |  16.441998   11.438363    5.003635 |  13.589135    1.0699e-04 |                          |  16.448965   11.445132    5.003832 |                          |\n",
      "22:15:30 ep 156 /175 |  16.421684   11.418053    5.003631 |  13.576430    1.0875e-04 |                          |  16.422458   11.418660    5.003797 |                          |\n",
      "22:17:44 ep 157 /175 |  16.429343   11.425724    5.003619 |  13.563619    1.1282e-04 |                          |  16.404191   11.400410    5.003781 |                          |\n",
      "22:19:57 ep 158 /175 |  16.429800   11.426184    5.003616 |  13.550787    1.1590e-04 |                          |  16.400477   11.396769    5.003708 |                          |\n",
      "22:22:10 ep 159 /175 |  16.417544   11.413942    5.003602 |  13.537845    1.1502e-04 |                          |  16.399973   11.396216    5.003757 |                          |\n",
      "22:24:25 ep 160 /175 |  16.422979   11.419382    5.003597 |  13.524867    1.0891e-04 |                          |  16.405450   11.401711    5.003739 |                          |\n",
      "22:26:42 ep 161 /175 |  16.415321   11.411734    5.003587 |  13.511820    1.1466e-04 |                          |  16.406508   11.402778    5.003730 |                          |\n",
      "22:28:59 ep 162 /175 |  16.414474   11.410879    5.003595 |  13.498818    1.1822e-04 |                          |  16.408462   11.404797    5.003665 |                          |\n",
      "22:31:13 ep 163 /175 |  16.417102   11.413524    5.003578 |  13.485710    1.1197e-04 |                          |  16.407982   11.404296    5.003686 |                          |\n",
      "22:33:26 ep 164 /175 |  16.418790   11.415210    5.003580 |  13.472589    1.1054e-04 |                          |  16.421169   11.417265    5.003904 |                          |\n",
      "22:35:40 ep 165 /175 |  16.421735   11.418159    5.003575 |  13.459441    1.2212e-04 |                          |  16.421336   11.417649    5.003687 |                          |\n",
      "22:37:53 ep 166 /175 |  16.411105   11.407541    5.003565 |  13.446209    1.1735e-04 |                          |  16.380556   11.376904    5.003652 |                          |\n",
      "22:40:09 ep 167 /175 |  16.417002   11.413455    5.003547 |  13.432865    1.1413e-04 |                          |  16.422051   11.418337    5.003714 |                          |\n",
      "22:42:25 ep 168 /175 |  16.414932   11.411389    5.003544 |  13.419483    1.1614e-04 |                          |  16.390898   11.387188    5.003710 |                          |\n",
      "22:44:42 ep 169 /175 |  16.405996   11.402463    5.003532 |  13.406010    1.1783e-04 |                          |  16.418643   11.414969    5.003675 |                          |\n",
      "22:46:56 ep 170 /175 |  16.406624   11.403095    5.003529 |  13.392504    1.1704e-04 |                          |  16.424699   11.420997    5.003703 |                          |\n",
      "22:49:11 ep 171 /175 |  16.411345   11.407819    5.003525 |  13.378969    1.1727e-04 |                          |  16.386908   11.383249    5.003660 |                          |\n",
      "22:51:25 ep 172 /175 |  16.405563   11.402054    5.003509 |  13.365326    1.2167e-04 |                          |  16.413057   11.409406    5.003651 |                          |\n",
      "22:53:40 ep 173 /175 |  16.407844   11.404341    5.003502 |  13.351628    1.2065e-04 |                          |  16.397350   11.393681    5.003668 |                          |\n",
      "22:55:55 ep 174 /175 |  16.421254   11.417756    5.003498 |  13.337882    1.2244e-04 |                          |  16.405363   11.401709    5.003654 |                          |\n",
      "22:58:08 ep 175 /175 |  16.404086   11.400594    5.003492 |  13.324089    1.1496e-04 |                          |  16.405050   11.401433    5.003617 |                          |\n"
     ]
    }
   ],
   "source": [
    "print(f\"{datetime.now().strftime('%Y%m%d_%H%M%S')}  epoch {starting_epoch+1:4d} of {epochs:4d}\")\n",
    "show_every = 1\n",
    "header = True\n",
    "\n",
    "for epoch in range(starting_epoch,epochs):\n",
    "    train_loss = model.epoch_train(train_loader, epoch)\n",
    "    model.model_history('train', train_loss)\n",
    "\n",
    "    validation_loss = model.epoch_validate(val_loader, epoch)\n",
    "    model.model_history('val', validation_loss)\n",
    "    \n",
    "    display_epoch_metrics(model, epoch, epochs, header)\n",
    "    header = False    \n",
    " "
   ]
  },
  {
   "cell_type": "code",
   "execution_count": 168,
   "id": "6447ab5b-bafb-4b7d-89f3-cb1c20f804d7",
   "metadata": {
    "execution": {
     "iopub.execute_input": "2024-05-01T13:57:30.671429Z",
     "iopub.status.busy": "2024-05-01T13:57:30.670942Z",
     "iopub.status.idle": "2024-05-01T13:57:30.709707Z",
     "shell.execute_reply": "2024-05-01T13:57:30.709026Z",
     "shell.execute_reply.started": "2024-05-01T13:57:30.671388Z"
    }
   },
   "outputs": [
    {
     "data": {
      "text/plain": [
       "(40, 50)"
      ]
     },
     "execution_count": 168,
     "metadata": {},
     "output_type": "execute_result"
    }
   ],
   "source": [
    "starting_epoch, epochs"
   ]
  },
  {
   "cell_type": "code",
   "execution_count": 200,
   "id": "5f576bea-1aa7-4e6b-903d-397d2a10d496",
   "metadata": {
    "execution": {
     "iopub.execute_input": "2024-05-01T20:02:06.691678Z",
     "iopub.status.busy": "2024-05-01T20:02:06.691178Z",
     "iopub.status.idle": "2024-05-01T20:02:06.731396Z",
     "shell.execute_reply": "2024-05-01T20:02:06.730599Z",
     "shell.execute_reply.started": "2024-05-01T20:02:06.691635Z"
    }
   },
   "outputs": [
    {
     "name": "stdout",
     "output_type": "stream",
     "text": [
      " run epochs 151 to 175 \n"
     ]
    }
   ],
   "source": [
    "# starting_epoch = 40\n",
    "# epochs = 50\n",
    "# starting_epoch, epoch , epochs = 22, 0,23\n",
    "starting_epoch = epochs\n",
    "epochs += 25\n",
    "# epochs = epochs + 5\n",
    "# starting_epoch = epoch + 1\n",
    "print(f\" run epochs {starting_epoch+1} to {epochs} \")"
   ]
  },
  {
   "cell_type": "code",
   "execution_count": 195,
   "id": "8c704527-2019-4d4d-b96e-4608e6271ffa",
   "metadata": {
    "execution": {
     "iopub.execute_input": "2024-05-01T19:57:40.027291Z",
     "iopub.status.busy": "2024-05-01T19:57:40.026806Z",
     "iopub.status.idle": "2024-05-01T19:57:40.068555Z",
     "shell.execute_reply": "2024-05-01T19:57:40.067664Z",
     "shell.execute_reply.started": "2024-05-01T19:57:40.027249Z"
    }
   },
   "outputs": [
    {
     "name": "stdout",
     "output_type": "stream",
     "text": [
      "                     |   Trn_loss    PrimLoss      SNNL   |    temp*        grad     |                          |   Vld_loss    PrimLoss      SNNL   |                          |\n",
      "---------------------+------------------------------------+--------------------------+--------------------------+------------------------------------+--------------------------|\n",
      "13:06:00 ep   1 /150 |  20.810474   15.808267    5.002207 |  14.981135    1.2091e-04 |                          |  19.233466   14.230184    5.003282 |                          |\n",
      "13:08:05 ep   2 /150 |  19.207176   14.203593    5.003583 |  14.969303    7.9256e-05 |                          |  18.733372   13.729473    5.003899 |                          |\n",
      "13:10:10 ep   3 /150 |  18.829934   13.825932    5.004002 |  14.959701    7.1476e-05 |                          |  18.466826   13.462638    5.004187 |                          |\n",
      "13:12:15 ep   4 /150 |  18.595995   13.591770    5.004225 |  14.951297    5.8838e-05 |                          |  18.304511   13.300112    5.004399 |                          |\n",
      "13:14:20 ep   5 /150 |  18.436294   13.431934    5.004360 |  14.943609    5.5651e-05 |                          |  18.167389   13.162923    5.004466 |                          |\n",
      "13:29:14 ep   6 /150 |  18.293057   13.288595    5.004462 |  14.936453    4.9899e-05 |                          |  18.032654   13.028096    5.004558 |                          |\n",
      "13:31:19 ep   7 /150 |  18.185470   13.180941    5.004529 |  14.929660    4.7327e-05 |                          |  17.939555   12.934924    5.004631 |                          |\n",
      "13:33:24 ep   8 /150 |  18.095708   13.091116    5.004592 |  14.923195    4.5869e-05 |                          |  17.879167   12.874513    5.004654 |                          |\n",
      "13:35:29 ep   9 /150 |  18.014628   13.009993    5.004635 |  14.916960    4.6485e-05 |                          |  17.787312   12.782642    5.004670 |                          |\n",
      "13:37:34 ep  10 /150 |  17.930355   12.925684    5.004671 |  14.910906    4.6674e-05 |                          |  17.721850   12.717132    5.004718 |                          |\n",
      "13:46:50 ep  11 /150 |  17.871502   12.866803    5.004700 |  14.905012    4.3969e-05 |                          |  17.667717   12.662954    5.004763 |                          |\n",
      "13:48:55 ep  12 /150 |  17.811916   12.807193    5.004723 |  14.899236    4.4687e-05 |                          |  17.623270   12.618518    5.004752 |                          |\n",
      "13:51:00 ep  13 /150 |  17.761597   12.756852    5.004746 |  14.893583    4.3197e-05 |                          |  17.546384   12.541589    5.004795 |                          |\n",
      "13:53:05 ep  14 /150 |  17.708985   12.704217    5.004768 |  14.888047    4.2215e-05 |                          |  17.520098   12.515296    5.004802 |                          |\n",
      "13:55:09 ep  15 /150 |  17.669660   12.664884    5.004776 |  14.882550    4.2904e-05 |                          |  17.493416   12.488577    5.004839 |                          |\n",
      "13:57:14 ep  16 /150 |  17.619750   12.614961    5.004788 |  14.877119    4.3047e-05 |                          |  17.433552   12.428716    5.004836 |                          |\n",
      "13:59:19 ep  17 /150 |  17.589687   12.584887    5.004800 |  14.871737    4.1315e-05 |                          |  17.410217   12.405359    5.004859 |                          |\n",
      "14:01:24 ep  18 /150 |  17.549486   12.544669    5.004817 |  14.866453    4.1702e-05 |                          |  17.362616   12.357725    5.004891 |                          |\n",
      "14:03:29 ep  19 /150 |  17.514640   12.509809    5.004831 |  14.861253    4.0062e-05 |                          |  17.335148   12.330264    5.004884 |                          |\n",
      "14:05:34 ep  20 /150 |  17.490166   12.485323    5.004843 |  14.856099    4.1364e-05 |                          |  17.317316   12.312409    5.004906 |                          |\n",
      "14:12:38 ep  21 /150 |  17.472179   12.467332    5.004847 |  14.850963    3.8652e-05 |                          |  17.302451   12.297564    5.004887 |                          |\n",
      "14:14:43 ep  22 /150 |  17.443791   12.438936    5.004855 |  14.845875    4.0523e-05 |                          |  17.264775   12.259867    5.004908 |                          |\n",
      "14:16:49 ep  23 /150 |  17.421385   12.416521    5.004864 |  14.840837    3.8034e-05 |                          |  17.236208   12.231310    5.004898 |                          |\n",
      "14:18:54 ep  24 /150 |  17.400785   12.395914    5.004870 |  14.835827    3.9720e-05 |                          |  17.237351   12.232438    5.004913 |                          |\n",
      "14:21:00 ep  25 /150 |  17.383383   12.378514    5.004869 |  14.830804    3.8479e-05 |                          |  17.201865   12.196929    5.004937 |                          |\n",
      "14:23:06 ep  26 /150 |  17.356760   12.351883    5.004877 |  14.825811    3.8541e-05 |                          |  17.193302   12.188382    5.004920 |                          |\n",
      "14:25:11 ep  27 /150 |  17.339568   12.334688    5.004880 |  14.820851    3.8543e-05 |                          |  17.174513   12.169555    5.004958 |                          |\n",
      "14:27:17 ep  28 /150 |  17.323770   12.318887    5.004884 |  14.815901    3.9544e-05 |                          |  17.176148   12.171208    5.004940 |                          |\n",
      "14:29:23 ep  29 /150 |  17.307839   12.302959    5.004880 |  14.810930    3.5910e-05 |                          |  17.147683   12.142734    5.004949 |                          |\n",
      "14:31:29 ep  30 /150 |  17.288519   12.283636    5.004884 |  14.805981    3.9545e-05 |                          |  17.124333   12.119383    5.004950 |                          |\n",
      "15:09:32 ep  31 /150 |  17.276736   12.271845    5.004890 |  14.801074    3.7271e-05 |                          |  17.128478   12.123544    5.004934 |                          |\n",
      "15:11:37 ep  32 /150 |  17.269927   12.265039    5.004888 |  14.796147    3.7533e-05 |                          |  17.089366   12.084419    5.004947 |                          |\n",
      "15:13:43 ep  33 /150 |  17.255884   12.250989    5.004895 |  14.791257    3.8048e-05 |                          |  17.090414   12.085454    5.004960 |                          |\n",
      "15:15:48 ep  34 /150 |  17.247212   12.242316    5.004896 |  14.786365    3.7902e-05 |                          |  17.078356   12.073423    5.004933 |                          |\n",
      "15:17:54 ep  35 /150 |  17.241596   12.236702    5.004894 |  14.781459    3.7944e-05 |                          |  17.084211   12.079266    5.004945 |                          |\n",
      "15:20:01 ep  36 /150 |  17.226606   12.221711    5.004895 |  14.776548    3.7899e-05 |                          |  17.065570   12.060633    5.004937 |                          |\n",
      "15:22:08 ep  37 /150 |  17.217261   12.212361    5.004899 |  14.771671    3.7031e-05 |                          |  17.057100   12.052179    5.004922 |                          |\n",
      "15:24:14 ep  38 /150 |  17.203511   12.198611    5.004900 |  14.766791    3.6650e-05 |                          |  17.041164   12.036200    5.004964 |                          |\n",
      "15:26:20 ep  39 /150 |  17.196060   12.191152    5.004908 |  14.761956    3.8423e-05 |                          |  17.032867   12.027929    5.004938 |                          |\n",
      "15:28:27 ep  40 /150 |  17.186811   12.181899    5.004912 |  14.757164    3.6270e-05 |                          |  17.012706   12.007742    5.004963 |                          |\n",
      "15:35:50 ep  41 /150 |  18.448256   13.444362    5.003895 |  14.746893    7.5464e-05 |                          |  17.645452   12.641386    5.004066 |                          |\n",
      "15:37:56 ep  42 /150 |  17.650557   12.646365    5.004192 |  14.738159    6.8113e-05 |                          |  17.276337   12.272061    5.004276 |                          |\n",
      "15:40:03 ep  43 /150 |  17.373970   12.369631    5.004339 |  14.730227    5.7624e-05 |                          |  17.083706   12.079302    5.004405 |                          |\n",
      "15:42:09 ep  44 /150 |  17.259661   12.255290    5.004372 |  14.722481    6.6353e-05 |                          |  17.080347   12.075989    5.004358 |                          |\n",
      "15:44:17 ep  45 /150 |  17.270081   12.265742    5.004339 |  14.714547    8.0180e-05 |                          |  17.168124   12.163880    5.004244 |                          |\n",
      "15:46:25 ep  46 /150 |  17.229607   12.225276    5.004331 |  14.706575    7.4427e-05 |                          |  17.120115   12.115845    5.004270 |                          |\n",
      "15:48:32 ep  47 /150 |  17.177972   12.173671    5.004301 |  14.698442    7.3049e-05 |                          |  16.985392   11.981097    5.004295 |                          |\n",
      "15:50:40 ep  48 /150 |  17.139213   12.134888    5.004325 |  14.690423    7.8266e-05 |                          |  17.021843   12.017662    5.004182 |                          |\n",
      "15:52:47 ep  49 /150 |  17.109949   12.105641    5.004308 |  14.682307    7.3469e-05 |                          |  16.974080   11.969748    5.004332 |                          |\n",
      "15:54:55 ep  50 /150 |  17.053716   12.049397    5.004319 |  14.674244    7.2654e-05 |                          |  16.991838   11.987461    5.004377 |                          |\n",
      "16:00:02 ep  51 /150 |  17.050516   12.046217    5.004299 |  14.666094    7.9016e-05 |                          |  16.912488   11.908271    5.004217 |                          |\n",
      "16:02:10 ep  52 /150 |  17.006683   12.002377    5.004306 |  14.657952    7.6886e-05 |                          |  16.901315   11.897029    5.004286 |                          |\n",
      "16:04:18 ep  53 /150 |  17.067238   12.063001    5.004237 |  14.649452    7.8571e-05 |                          |  17.210654   12.206549    5.004105 |                          |\n",
      "16:06:25 ep  54 /150 |  17.014735   12.010509    5.004226 |  14.640864    7.1297e-05 |                          |  16.824747   11.820422    5.004325 |                          |\n",
      "16:08:32 ep  55 /150 |  16.945165   11.940884    5.004281 |  14.632583    6.8140e-05 |                          |  16.844643   11.840234    5.004409 |                          |\n",
      "16:10:39 ep  56 /150 |  16.967074   11.962841    5.004233 |  14.624038    8.1679e-05 |                          |  16.928999   11.924777    5.004221 |                          |\n",
      "16:12:46 ep  57 /150 |  16.969201   11.965006    5.004196 |  14.615273    7.7482e-05 |                          |  16.893722   11.889424    5.004298 |                          |\n",
      "16:14:53 ep  58 /150 |  16.993221   11.989051    5.004170 |  14.606377    8.6281e-05 |                          |  17.107102   12.102867    5.004235 |                          |\n",
      "16:17:01 ep  59 /150 |  16.901726   11.897523    5.004203 |  14.597625    7.8524e-05 |                          |  16.830970   11.826698    5.004271 |                          |\n",
      "16:19:08 ep  60 /150 |  16.862828   11.858588    5.004240 |  14.589087    7.6333e-05 |                          |  16.740977   11.736605    5.004372 |                          |\n",
      "16:45:13 ep  61 /150 |  16.860799   11.856567    5.004232 |  14.580526    8.7162e-05 |                          |  16.755893   11.751666    5.004227 |                          |\n",
      "16:47:20 ep  62 /150 |  16.841765   11.837555    5.004210 |  14.571823    7.8260e-05 |                          |  16.792007   11.787765    5.004242 |                          |\n",
      "16:49:28 ep  63 /150 |  16.806982   11.802754    5.004228 |  14.563204    7.8189e-05 |                          |  16.690787   11.686450    5.004337 |                          |\n",
      "16:51:36 ep  64 /150 |  16.821355   11.817135    5.004220 |  14.554558    8.4717e-05 |                          |  16.813316   11.809156    5.004160 |                          |\n",
      "16:53:44 ep  65 /150 |  16.832782   11.828612    5.004170 |  14.545615    7.7119e-05 |                          |  16.712698   11.708414    5.004284 |                          |\n",
      "16:55:52 ep  66 /150 |  16.801958   11.797795    5.004163 |  14.536614    8.6616e-05 |                          |  16.713847   11.709673    5.004174 |                          |\n",
      "16:58:01 ep  67 /150 |  16.771590   11.767410    5.004180 |  14.527723    8.0805e-05 |                          |  16.727048   11.722789    5.004259 |                          |\n",
      "17:00:19 ep  68 /150 |  16.759477   11.755302    5.004175 |  14.518800    8.4768e-05 |                          |  16.653143   11.648876    5.004267 |                          |\n",
      "17:02:28 ep  69 /150 |  16.746277   11.742107    5.004169 |  14.509825    8.1335e-05 |                          |  16.711927   11.707703    5.004225 |                          |\n",
      "17:04:38 ep  70 /150 |  16.756060   11.751900    5.004160 |  14.500798    7.3287e-05 |                          |  16.770252   11.766019    5.004233 |                          |\n",
      "17:11:42 ep  71 /150 |  16.752178   11.748046    5.004132 |  14.491619    8.4911e-05 |                          |  16.655061   11.650861    5.004199 |                          |\n",
      "17:13:50 ep  72 /150 |  16.729329   11.725174    5.004155 |  14.482549    8.2499e-05 |                          |  16.638526   11.634247    5.004278 |                          |\n",
      "17:15:59 ep  73 /150 |  16.702005   11.697837    5.004168 |  14.473559    8.5622e-05 |                          |  16.649843   11.645616    5.004226 |                          |\n",
      "17:18:08 ep  74 /150 |  16.692808   11.688644    5.004164 |  14.464541    8.4496e-05 |                          |  16.613903   11.609752    5.004150 |                          |\n",
      "17:20:16 ep  75 /150 |  16.714000   11.709877    5.004123 |  14.455290    8.4497e-05 |                          |  16.618123   11.613862    5.004261 |                          |\n",
      "17:22:25 ep  76 /150 |  16.684005   11.679868    5.004136 |  14.446088    8.6108e-05 |                          |  16.565859   11.561669    5.004189 |                          |\n",
      "17:24:33 ep  77 /150 |  16.666932   11.662807    5.004125 |  14.436835    8.2930e-05 |                          |  16.575039   11.570892    5.004147 |                          |\n",
      "17:26:42 ep  78 /150 |  16.686835   11.682740    5.004095 |  14.427424    9.2242e-05 |                          |  16.610727   11.606682    5.004045 |                          |\n",
      "17:28:51 ep  79 /150 |  16.649992   11.645886    5.004106 |  14.418042    8.6207e-05 |                          |  16.545385   11.541204    5.004180 |                          |\n",
      "17:31:00 ep  80 /150 |  16.634018   11.629897    5.004121 |  14.408744    8.8136e-05 |                          |  16.604959   11.600805    5.004154 |                          |\n",
      "17:43:29 ep  81 /150 |  16.646118   11.642015    5.004102 |  14.399353    8.7513e-05 |                          |  16.555776   11.551612    5.004164 |                          |\n",
      "17:45:39 ep  82 /150 |  16.643862   11.639758    5.004104 |  14.389949    8.6250e-05 |                          |  16.551272   11.547170    5.004103 |                          |\n",
      "17:47:49 ep  83 /150 |  16.627878   11.623785    5.004093 |  14.380491    8.6884e-05 |                          |  16.587556   11.583455    5.004101 |                          |\n",
      "17:49:58 ep  84 /150 |  16.622252   11.618165    5.004087 |  14.371001    8.5640e-05 |                          |  16.577196   11.572986    5.004210 |                          |\n",
      "17:52:08 ep  85 /150 |  16.602610   11.598523    5.004087 |  14.361487    8.8824e-05 |                          |  16.546594   11.542517    5.004076 |                          |\n",
      "17:54:17 ep  86 /150 |  16.617252   11.613180    5.004072 |  14.351902    8.8771e-05 |                          |  16.520565   11.516429    5.004137 |                          |\n",
      "17:56:26 ep  87 /150 |  16.617640   11.613582    5.004059 |  14.342214    8.8849e-05 |                          |  16.525079   11.520917    5.004161 |                          |\n",
      "17:58:35 ep  88 /150 |  16.604926   11.600869    5.004057 |  14.332510    8.4180e-05 |                          |  16.514758   11.510565    5.004193 |                          |\n",
      "18:00:44 ep  89 /150 |  16.587857   11.583789    5.004068 |  14.322880    8.8092e-05 |                          |  16.533397   11.529259    5.004138 |                          |\n",
      "18:02:53 ep  90 /150 |  16.590330   11.586270    5.004061 |  14.313179    8.7140e-05 |                          |  16.557375   11.553257    5.004118 |                          |\n",
      "18:05:03 ep  91 /150 |  16.581328   11.577279    5.004049 |  14.303417    8.8002e-05 |                          |  16.512496   11.508323    5.004173 |                          |\n",
      "18:07:12 ep  92 /150 |  16.575811   11.571779    5.004032 |  14.293558    9.3384e-05 |                          |  16.560892   11.556810    5.004082 |                          |\n",
      "18:09:21 ep  93 /150 |  16.573072   11.569044    5.004028 |  14.283654    8.9532e-05 |                          |  16.521354   11.517240    5.004113 |                          |\n",
      "18:11:31 ep  94 /150 |  16.572041   11.567997    5.004044 |  14.273837    9.0574e-05 |                          |  16.515640   11.511571    5.004069 |                          |\n",
      "18:13:40 ep  95 /150 |  16.569544   11.565524    5.004020 |  14.263892    8.5906e-05 |                          |  16.514401   11.510233    5.004168 |                          |\n",
      "18:15:49 ep  96 /150 |  16.584689   11.580662    5.004027 |  14.253980    8.6784e-05 |                          |  16.500631   11.496400    5.004231 |                          |\n",
      "18:17:58 ep  97 /150 |  16.561852   11.557842    5.004011 |  14.243973    9.1335e-05 |                          |  16.488073   11.484013    5.004061 |                          |\n",
      "18:20:07 ep  98 /150 |  16.541757   11.537736    5.004021 |  14.234003    9.1189e-05 |                          |  16.515848   11.511748    5.004100 |                          |\n",
      "18:22:16 ep  99 /150 |  16.549555   11.545555    5.004000 |  14.223922    9.0500e-05 |                          |  16.524552   11.520454    5.004098 |                          |\n",
      "18:24:25 ep 100 /150 |  16.546402   11.542414    5.003988 |  14.213772    8.9978e-05 |                          |  16.500415   11.496352    5.004063 |                          |\n",
      "19:52:09 ep 101 /150 |  16.548628   11.544654    5.003974 |  14.203531    8.8152e-05 |                          |  16.521365   11.517213    5.004152 |                          |\n",
      "19:54:19 ep 102 /150 |  16.532093   11.528117    5.003977 |  14.193289    8.8852e-05 |                          |  16.516243   11.512081    5.004163 |                          |\n",
      "19:56:29 ep 103 /150 |  16.535418   11.531439    5.003979 |  14.183063    8.8978e-05 |                          |  16.501602   11.497493    5.004109 |                          |\n",
      "19:58:39 ep 104 /150 |  16.536588   11.532619    5.003968 |  14.172762    8.9336e-05 |                          |  16.491002   11.486939    5.004063 |                          |\n",
      "20:00:50 ep 105 /150 |  16.527087   11.523124    5.003963 |  14.162429    8.7756e-05 |                          |  16.488408   11.484177    5.004232 |                          |\n",
      "20:03:00 ep 106 /150 |  16.528066   11.524111    5.003955 |  14.152051    9.1534e-05 |                          |  16.458675   11.454583    5.004092 |                          |\n",
      "20:05:10 ep 107 /150 |  16.532521   11.528568    5.003954 |  14.141651    9.3875e-05 |                          |  16.476027   11.471930    5.004097 |                          |\n",
      "20:07:20 ep 108 /150 |  16.520297   11.516348    5.003949 |  14.131201    9.0474e-05 |                          |  16.475943   11.471809    5.004134 |                          |\n",
      "20:09:31 ep 109 /150 |  16.515058   11.511123    5.003935 |  14.120676    8.9535e-05 |                          |  16.451762   11.447702    5.004060 |                          |\n",
      "20:11:41 ep 110 /150 |  16.512562   11.508618    5.003943 |  14.110199    9.3372e-05 |                          |  16.473674   11.469594    5.004080 |                          |\n",
      "20:13:52 ep 111 /150 |  16.513642   11.509714    5.003928 |  14.099625    9.4243e-05 |                          |  16.456903   11.452814    5.004089 |                          |\n",
      "20:16:02 ep 112 /150 |  16.511056   11.507126    5.003930 |  14.089045    9.3077e-05 |                          |  16.505402   11.501346    5.004056 |                          |\n",
      "20:18:13 ep 113 /150 |  16.502669   11.498747    5.003922 |  14.078407    9.6111e-05 |                          |  16.459356   11.455316    5.004040 |                          |\n",
      "20:20:23 ep 114 /150 |  16.506622   11.502714    5.003908 |  14.067703    9.8409e-05 |                          |  16.457359   11.453333    5.004026 |                          |\n",
      "20:22:33 ep 115 /150 |  16.505452   11.501561    5.003891 |  14.056871    9.3028e-05 |                          |  16.426339   11.422297    5.004043 |                          |\n",
      "20:24:43 ep 116 /150 |  16.503786   11.499893    5.003894 |  14.046064    9.8360e-05 |                          |  16.497487   11.493520    5.003967 |                          |\n",
      "20:26:54 ep 117 /150 |  16.503786   11.499892    5.003894 |  14.035238    9.3642e-05 |                          |  16.447161   11.443101    5.004060 |                          |\n",
      "20:29:04 ep 118 /150 |  16.490748   11.486864    5.003884 |  14.024353    9.9849e-05 |                          |  16.463731   11.459744    5.003988 |                          |\n",
      "20:31:14 ep 119 /150 |  16.492346   11.488493    5.003853 |  14.013285    9.8826e-05 |                          |  16.432529   11.428599    5.003930 |                          |\n",
      "20:33:24 ep 120 /150 |  16.486546   11.482675    5.003871 |  14.002301    9.5899e-05 |                          |  16.457730   11.453682    5.004048 |                          |\n",
      "20:51:04 ep 121 /150 |  16.480679   11.476815    5.003864 |  13.991269    9.9044e-05 |                          |  16.453781   11.449739    5.004041 |                          |\n",
      "20:53:16 ep 122 /150 |  16.500707   11.496858    5.003850 |  13.980160    1.0035e-04 |                          |  16.464436   11.460433    5.004003 |                          |\n",
      "20:55:26 ep 123 /150 |  16.477430   11.473577    5.003854 |  13.969065    9.7858e-05 |                          |  16.462410   11.458416    5.003994 |                          |\n",
      "20:57:37 ep 124 /150 |  16.475517   11.471669    5.003848 |  13.957922    9.3053e-05 |                          |  16.468838   11.464805    5.004033 |                          |\n",
      "20:59:48 ep 125 /150 |  16.481892   11.478050    5.003843 |  13.946756    1.0023e-04 |                          |  16.448644   11.444620    5.004023 |                          |\n",
      "21:02:00 ep 126 /150 |  16.480079   11.476240    5.003838 |  13.935548    9.8413e-05 |                          |  16.462137   11.458102    5.004035 |                          |\n",
      "21:04:10 ep 127 /150 |  16.471209   11.467373    5.003836 |  13.924301    1.0374e-04 |                          |  16.444721   11.440833    5.003889 |                          |\n",
      "21:06:21 ep 128 /150 |  16.474068   11.470249    5.003819 |  13.912976    9.8554e-05 |                          |  16.419903   11.415964    5.003939 |                          |\n",
      "21:08:32 ep 129 /150 |  16.469394   11.465581    5.003812 |  13.901592    1.0093e-04 |                          |  16.441325   11.437338    5.003987 |                          |\n",
      "21:10:43 ep 130 /150 |  16.466459   11.462656    5.003803 |  13.890132    9.9262e-05 |                          |  16.481099   11.477195    5.003904 |                          |\n",
      "21:12:53 ep 131 /150 |  16.465188   11.461379    5.003810 |  13.878704    1.0081e-04 |                          |  16.459604   11.455701    5.003904 |                          |\n",
      "21:15:04 ep 132 /150 |  16.463388   11.459591    5.003797 |  13.867203    9.8896e-05 |                          |  16.422345   11.418359    5.003985 |                          |\n",
      "21:17:15 ep 133 /150 |  16.462224   11.458436    5.003788 |  13.855640    1.0430e-04 |                          |  16.430561   11.426624    5.003938 |                          |\n",
      "21:19:27 ep 134 /150 |  16.457633   11.453852    5.003781 |  13.844036    9.8423e-05 |                          |  16.438856   11.434932    5.003924 |                          |\n",
      "21:21:39 ep 135 /150 |  16.457694   11.453922    5.003773 |  13.832357    1.0018e-04 |                          |  16.447126   11.443150    5.003975 |                          |\n",
      "21:23:51 ep 136 /150 |  16.459067   11.455284    5.003783 |  13.820739    1.0287e-04 |                          |  16.465213   11.461268    5.003945 |                          |\n",
      "21:26:02 ep 137 /150 |  16.466356   11.462592    5.003765 |  13.808993    1.0655e-04 |                          |  16.432484   11.428618    5.003866 |                          |\n",
      "21:28:14 ep 138 /150 |  16.456613   11.452861    5.003752 |  13.797162    9.9801e-05 |                          |  16.435360   11.431434    5.003927 |                          |\n",
      "21:30:25 ep 139 /150 |  16.443145   11.439388    5.003758 |  13.785355    1.0445e-04 |                          |  16.427148   11.423272    5.003876 |                          |\n",
      "21:32:36 ep 140 /150 |  16.461017   11.457264    5.003753 |  13.773511    9.9103e-05 |                          |  16.433459   11.429498    5.003961 |                          |\n",
      "21:34:48 ep 141 /150 |  16.465235   11.461500    5.003735 |  13.761587    1.0712e-04 |                          |  16.452843   11.449006    5.003837 |                          |\n",
      "21:37:00 ep 142 /150 |  16.437653   11.433923    5.003730 |  13.749595    1.1000e-04 |                          |  16.425471   11.421655    5.003816 |                          |\n",
      "21:39:11 ep 143 /150 |  16.441152   11.437436    5.003717 |  13.737517    1.0574e-04 |                          |  16.408793   11.404922    5.003871 |                          |\n",
      "21:41:23 ep 144 /150 |  16.443323   11.439603    5.003720 |  13.725462    1.0785e-04 |                          |  16.426924   11.423117    5.003807 |                          |\n",
      "21:43:34 ep 145 /150 |  16.444607   11.440896    5.003711 |  13.713329    1.0693e-04 |                          |  16.413333   11.409446    5.003887 |                          |\n",
      "21:45:46 ep 146 /150 |  16.446631   11.442929    5.003702 |  13.701129    1.0354e-04 |                          |  16.435779   11.431934    5.003845 |                          |\n",
      "21:47:57 ep 147 /150 |  16.433822   11.430119    5.003702 |  13.688931    1.0588e-04 |                          |  16.418018   11.414129    5.003889 |                          |\n",
      "21:50:09 ep 148 /150 |  16.433054   11.429365    5.003689 |  13.676651    1.1334e-04 |                          |  16.415926   11.412118    5.003808 |                          |\n",
      "21:52:20 ep 149 /150 |  16.442120   11.438434    5.003686 |  13.664340    1.0678e-04 |                          |  16.412542   11.408773    5.003769 |                          |\n",
      "21:54:31 ep 150 /150 |  16.434763   11.431087    5.003676 |  13.651952    1.0660e-04 |                          |  16.430085   11.426223    5.003862 |                          |\n"
     ]
    }
   ],
   "source": [
    "# del display_epoch_metrics\n",
    "# from snnl.utils import display_epoch_metrics\n",
    "for epoch in range(epochs):\n",
    "    display_epoch_metrics(model, epoch, epochs)"
   ]
  },
  {
   "cell_type": "markdown",
   "id": "ffeb50d2-2bd0-48b4-913d-8b561a66e728",
   "metadata": {},
   "source": [
    "## Plot losses"
   ]
  },
  {
   "cell_type": "code",
   "execution_count": 156,
   "id": "abc9b289-e042-4243-a2b4-c76751589ac3",
   "metadata": {
    "execution": {
     "iopub.execute_input": "2024-05-01T13:32:08.674215Z",
     "iopub.status.busy": "2024-05-01T13:32:08.673625Z",
     "iopub.status.idle": "2024-05-01T13:32:08.713003Z",
     "shell.execute_reply": "2024-05-01T13:32:08.712358Z",
     "shell.execute_reply.started": "2024-05-01T13:32:08.674164Z"
    }
   },
   "outputs": [],
   "source": [
    "if 0:\n",
    "    model_attributes = model.__dict__\n",
    "    model.training_history['train'].keys()\n",
    "    for key, value in model.training_history['train'].items():\n",
    "        if isinstance(value, List) or key in [\"test_accuracy\", \"test_f1\"]:\n",
    "            print(f\"{key:25s} {type(value)}  {len(value):7d}  {value[-5:]}\")\n",
    "    print()\n",
    "    for key, value in model.training_history['val'].items():\n",
    "        if isinstance(value, List) or key in [\"test_accuracy\", \"test_f1\"]:\n",
    "            print(f\"{key:25s} {type(value)}  {len(value):7d}  {value[-5:]}\")        "
   ]
  },
  {
   "cell_type": "code",
   "execution_count": 86,
   "id": "fbb441d8-ba3d-4540-abcc-e40aaaa3dd2e",
   "metadata": {
    "execution": {
     "iopub.execute_input": "2024-05-01T10:05:04.100343Z",
     "iopub.status.busy": "2024-05-01T10:05:04.099863Z",
     "iopub.status.idle": "2024-05-01T10:05:04.136437Z",
     "shell.execute_reply": "2024-05-01T10:05:04.135890Z",
     "shell.execute_reply.started": "2024-05-01T10:05:04.100298Z"
    }
   },
   "outputs": [],
   "source": [
    "# tmp = np.array(model.training_history['train']['temp_grads'])\n",
    "# for st in range(0,len(tmp), 1000):\n",
    "#     end = st + 1000\n",
    "#     print(f\" {st:5d} - {end:5d}  min: {tmp[st:end].min():9e}   max: {tmp[st:end].max():9e}    avg: {tmp[st:end].mean():9e}   std: {tmp[st:end].std():9e}\")"
   ]
  },
  {
   "cell_type": "markdown",
   "id": "58a38419-7637-4e6e-8295-3c07fb5b5c3a",
   "metadata": {},
   "source": [
    "## Plot weights, biases and gradients"
   ]
  },
  {
   "cell_type": "code",
   "execution_count": 194,
   "id": "a853a7a5-3e1e-4561-83ae-933234034a04",
   "metadata": {
    "execution": {
     "iopub.execute_input": "2024-05-01T19:55:31.595085Z",
     "iopub.status.busy": "2024-05-01T19:55:31.594477Z",
     "iopub.status.idle": "2024-05-01T19:55:32.576169Z",
     "shell.execute_reply": "2024-05-01T19:55:32.575504Z",
     "shell.execute_reply.started": "2024-05-01T19:55:31.595043Z"
    },
    "scrolled": true
   },
   "outputs": [
    {
     "data": {
      "image/png": "[encoded data removed]",
      "text/plain": [
       "<Figure size 2000x400 with 5 Axes>"
      ]
     },
     "metadata": {},
     "output_type": "display_data"
    }
   ],
   "source": [
    "plot_train_history(model, n_bins = 25)"
   ]
  },
  {
   "cell_type": "code",
   "execution_count": 196,
   "id": "7f50fdb6-0457-4cd3-b958-65bb44e4216d",
   "metadata": {
    "execution": {
     "iopub.execute_input": "2024-05-01T19:58:03.291156Z",
     "iopub.status.busy": "2024-05-01T19:58:03.290666Z",
     "iopub.status.idle": "2024-05-01T19:58:06.496845Z",
     "shell.execute_reply": "2024-05-01T19:58:06.496004Z",
     "shell.execute_reply.started": "2024-05-01T19:58:03.291116Z"
    }
   },
   "outputs": [
    {
     "name": "stdout",
     "output_type": "stream",
     "text": [
      " +------+----------------------------------------------------+-------------------------------------------+------------------------------------+\n",
      " |      | Weights:                                           |  Biases:                                  |   Gradients:                       |\n",
      " | layr |                      min         max        stdev  |             min         max        stdev  |      min        max         stdev  |\n",
      " +------+----------------------------------------------------+-------------------------------------------+------------------------------------+\n",
      " |    0 | (1024, 1471)     -3.773015    2.005299    0.083236 |   1024  -4.407525    1.681713    0.993077 |  -0.013092    0.013503    0.000506 |\n",
      " |    1 | (128, 1024)      -0.247528    0.233778    0.038587 |    128  -0.454546    1.129462    0.220859 |  -0.263328    0.517531    0.011120 |\n",
      " |    2 | (50, 128)        -0.366935    0.398741    0.083337 |     50  -0.671407    0.491809    0.287755 |  -1.670144    1.463826    0.311838 |\n",
      " |    3 | (128, 50)        -1.398532    0.689082    0.201308 |    128  -0.306589    0.381065    0.142750 |  -0.290856    0.219285    0.055845 |\n",
      " |    4 | (1024, 128)      -1.977185    1.143453    0.211624 |   1024  -0.402618    0.275590    0.110426 |  -0.027301    0.035134    0.002870 |\n",
      " |    5 | (1471, 1024)     -5.410899    2.296318    0.145288 |   1471  -0.339671    0.273318    0.063528 |  -0.003138    0.004374    0.000194 |\n",
      " +------+----------------------------------------------------+-------------------------------------------+------------------------------------+\n",
      "\n",
      "\n",
      "\n"
     ]
    },
    {
     "data": {
      "image/png": "[encoded data removed]",
      "text/plain": [
       "<Figure size 2400x1300 with 18 Axes>"
      ]
     },
     "metadata": {},
     "output_type": "display_data"
    }
   ],
   "source": [
    "plot_model_parms(model, epochs= epochs, n_bins = 15)"
   ]
  },
  {
   "cell_type": "code",
   "execution_count": 89,
   "id": "f992e4e5-ea68-4617-8c16-01dfc22f6b94",
   "metadata": {
    "execution": {
     "iopub.execute_input": "2024-05-01T10:05:37.650058Z",
     "iopub.status.busy": "2024-05-01T10:05:37.649544Z",
     "iopub.status.idle": "2024-05-01T10:05:38.369350Z",
     "shell.execute_reply": "2024-05-01T10:05:38.368615Z",
     "shell.execute_reply.started": "2024-05-01T10:05:37.650015Z"
    },
    "scrolled": true
   },
   "outputs": [
    {
     "data": {
      "image/png": "[encoded data removed]",
      "text/plain": [
       "<Figure size 2000x400 with 5 Axes>"
      ]
     },
     "metadata": {},
     "output_type": "display_data"
    }
   ],
   "source": [
    "plot_train_metrics(model, n_bins = 25)"
   ]
  },
  {
   "cell_type": "markdown",
   "id": "21726628-2b16-477a-bfe7-0a0ac53130eb",
   "metadata": {},
   "source": [
    "## Save model results and model"
   ]
  },
  {
   "cell_type": "code",
   "execution_count": 198,
   "id": "a4bb9a8d-9d90-40e8-90d1-9e970497568b",
   "metadata": {
    "execution": {
     "iopub.execute_input": "2024-05-01T20:01:12.204364Z",
     "iopub.status.busy": "2024-05-01T20:01:12.203885Z",
     "iopub.status.idle": "2024-05-01T20:01:12.244519Z",
     "shell.execute_reply": "2024-05-01T20:01:12.243904Z",
     "shell.execute_reply.started": "2024-05-01T20:01:12.204321Z"
    }
   },
   "outputs": [
    {
     "name": "stdout",
     "output_type": "stream",
     "text": [
      "saved to DNN_snnl_20240501_autoencoder_150_cpb_100_factor_1\n"
     ]
    }
   ],
   "source": [
    "# import datetime.timezone\n",
    "# datetime.timetz()\n",
    "compounds_per_batch = cellpainting_args['compounds_per_batch']\n",
    "epochs_num = epochs\n",
    "timestamp = datetime.now().strftime('%Y%m%d')\n",
    "title=\"autoencoder\"\n",
    "filename = f\"DNN_{args.model.lower()}_{timestamp}_{title}_{epochs_num:03d}_cpb_{compounds_per_batch}_factor_{int(snnl_factor):d}\"\n",
    "print(f\"saved to {filename}\")"
   ]
  },
  {
   "cell_type": "code",
   "execution_count": 199,
   "id": "8364b7ba-8d33-41ac-b30f-0c39759a9772",
   "metadata": {
    "execution": {
     "iopub.execute_input": "2024-05-01T20:01:18.651430Z",
     "iopub.status.busy": "2024-05-01T20:01:18.650923Z",
     "iopub.status.idle": "2024-05-01T20:01:18.763848Z",
     "shell.execute_reply": "2024-05-01T20:01:18.763116Z",
     "shell.execute_reply.started": "2024-05-01T20:01:18.651388Z"
    }
   },
   "outputs": [
    {
     "name": "stdout",
     "output_type": "stream",
     "text": [
      "[INFO] Model Results exported to results/DNN_snnl_20240501_autoencoder_150_cpb_100_factor_1.json.\n",
      "[INFO] Model exported to ckpts/DNN_snnl_20240501_autoencoder_150_cpb_100_factor_1.pt.\n"
     ]
    }
   ],
   "source": [
    "# save_model(model, filename)\n",
    "export_results(model=model, filename=filename)\n",
    "save_checkpoint(epochs, model, filename, update_latest=False, update_best=False)"
   ]
  },
  {
   "cell_type": "markdown",
   "id": "2696fb0e-5bc7-48a4-be97-2ea005845f28",
   "metadata": {},
   "source": [
    "# Step by step"
   ]
  },
  {
   "cell_type": "markdown",
   "id": "a269e0d0-0d32-4f1c-a4e7-947f28ac5e38",
   "metadata": {
    "execution": {
     "iopub.execute_input": "2024-03-06T23:10:36.109017Z",
     "iopub.status.busy": "2024-03-06T23:10:36.108417Z",
     "iopub.status.idle": "2024-03-06T23:10:36.122328Z",
     "shell.execute_reply": "2024-03-06T23:10:36.121427Z",
     "shell.execute_reply.started": "2024-03-06T23:10:36.108936Z"
    },
    "jp-MarkdownHeadingCollapsed": true
   },
   "source": [
    "### `epoch_train(model, data_loader, epoch)`"
   ]
  },
  {
   "cell_type": "code",
   "execution_count": 38,
   "id": "9025730e-caaf-440b-96a3-768a1c247425",
   "metadata": {
    "execution": {
     "iopub.execute_input": "2024-03-24T17:56:22.887477Z",
     "iopub.status.busy": "2024-03-24T17:56:22.886908Z",
     "iopub.status.idle": "2024-03-24T17:56:22.922343Z",
     "shell.execute_reply": "2024-03-24T17:56:22.921813Z",
     "shell.execute_reply.started": "2024-03-24T17:56:22.887433Z"
    }
   },
   "outputs": [],
   "source": [
    "    # def epoch_train(\n",
    "    #     self, data_loader: torch.utils.data.DataLoader, epoch: int = None\n",
    "    # ) -> Tuple:"
   ]
  },
  {
   "cell_type": "code",
   "execution_count": 131,
   "id": "fadee55f-4629-41ad-b62a-e18452eb3cdd",
   "metadata": {
    "execution": {
     "iopub.execute_input": "2024-03-24T19:59:31.106190Z",
     "iopub.status.busy": "2024-03-24T19:59:31.105711Z",
     "iopub.status.idle": "2024-03-24T19:59:32.645565Z",
     "shell.execute_reply": "2024-03-24T19:59:32.644830Z",
     "shell.execute_reply.started": "2024-03-24T19:59:31.106148Z"
    }
   },
   "outputs": [
    {
     "name": "stdout",
     "output_type": "stream",
     "text": [
      " Build SNNLoss dfrom NOTEBOOK\n",
      " SNNLoss _init()_    -- mode: latent_code was found in SNNLoss._supported_modes --   is unsupervised: True\n",
      " SNNLoss _init()_    -- primary_criterion: CrossEntropyLoss()\n"
     ]
    }
   ],
   "source": [
    "# model.snnl_criterion = SNNLoss(\n",
    "#     mode=model.mode,\n",
    "#     # criterion=criterion,\n",
    "#     factor=model.factor,\n",
    "#     temperature=model.temperature,\n",
    "#     use_annealing=model.use_annealing,\n",
    "#     use_sum=model.use_sum,\n",
    "#     code_units=model.code_units,\n",
    "#     stability_epsilon=model.stability_epsilon,\n",
    "# )"
   ]
  },
  {
   "cell_type": "code",
   "execution_count": 26,
   "id": "b6dc825c-7e27-4262-85e1-58d001fd9a28",
   "metadata": {
    "execution": {
     "iopub.execute_input": "2024-03-24T20:13:23.263322Z",
     "iopub.status.busy": "2024-03-24T20:13:23.263131Z",
     "iopub.status.idle": "2024-03-24T20:13:23.304141Z",
     "shell.execute_reply": "2024-03-24T20:13:23.303414Z",
     "shell.execute_reply.started": "2024-03-24T20:13:23.263304Z"
    }
   },
   "outputs": [],
   "source": [
    "if model.use_snnl:\n",
    "    epoch_primary_loss = 0\n",
    "    epoch_snn_loss = 0\n",
    "if model.name == \"DNN\" or model.name == \"CNN\":\n",
    "    epoch_accuracy = 0\n",
    "epoch_loss = 0"
   ]
  },
  {
   "cell_type": "markdown",
   "id": "b9972d4d-e4e3-4d42-af9d-78f0398595ca",
   "metadata": {
    "jp-MarkdownHeadingCollapsed": true
   },
   "source": [
    "### Loop through data"
   ]
  },
  {
   "cell_type": "code",
   "execution_count": 27,
   "id": "d1304a6d-1d31-414e-ac72-365af5a7fa4d",
   "metadata": {
    "execution": {
     "iopub.execute_input": "2024-03-24T20:13:23.305002Z",
     "iopub.status.busy": "2024-03-24T20:13:23.304833Z",
     "iopub.status.idle": "2024-03-24T20:13:24.106516Z",
     "shell.execute_reply": "2024-03-24T20:13:24.105606Z",
     "shell.execute_reply.started": "2024-03-24T20:13:23.304986Z"
    }
   },
   "outputs": [],
   "source": [
    "# for batch_features, batch_labels in data_loader:\n",
    "_,_,_,batch_features_numpy, batch_labels_numpy = next(iter(data_loader))"
   ]
  },
  {
   "cell_type": "code",
   "execution_count": 33,
   "id": "c18ced64-99c6-4f34-a432-d21001c77ae0",
   "metadata": {
    "execution": {
     "iopub.execute_input": "2024-03-24T20:14:51.876207Z",
     "iopub.status.busy": "2024-03-24T20:14:51.875722Z",
     "iopub.status.idle": "2024-03-24T20:14:51.913916Z",
     "shell.execute_reply": "2024-03-24T20:14:51.913366Z",
     "shell.execute_reply.started": "2024-03-24T20:14:51.876166Z"
    }
   },
   "outputs": [
    {
     "name": "stdout",
     "output_type": "stream",
     "text": [
      "[-1.8321388 -1.8294874 -2.6065478 ... -1.2195314 -1.5166183 -1.6990108]\n",
      "[2.4392388 2.4493015 3.0212164 ... 4.4669876 4.4819636 2.9044416]\n"
     ]
    }
   ],
   "source": [
    "print(batch_features_numpy.min(0))\n",
    "print(batch_features_numpy.max(0))"
   ]
  },
  {
   "cell_type": "code",
   "execution_count": 29,
   "id": "e5051a95-9f02-4fe7-93a4-9c6a6e9044ac",
   "metadata": {
    "execution": {
     "iopub.execute_input": "2024-03-24T20:09:48.882137Z",
     "iopub.status.busy": "2024-03-24T20:09:48.881689Z",
     "iopub.status.idle": "2024-03-24T20:09:48.918772Z",
     "shell.execute_reply": "2024-03-24T20:09:48.918199Z",
     "shell.execute_reply.started": "2024-03-24T20:09:48.882096Z"
    }
   },
   "outputs": [
    {
     "name": "stdout",
     "output_type": "stream",
     "text": [
      " batch features <class 'numpy.ndarray'>   shape: (96, 1471)   2\n",
      " batch features <class 'numpy.ndarray'>   shape: (96,)    1\n"
     ]
    }
   ],
   "source": [
    "print(f\" batch features {type(batch_features_numpy)}   shape: {batch_features_numpy.shape}   {batch_features_numpy.ndim}\")\n",
    "print(f\" batch features {type(batch_labels_numpy)}   shape: {batch_labels_numpy.shape}    {batch_labels_numpy.ndim}\")"
   ]
  },
  {
   "cell_type": "code",
   "execution_count": 30,
   "id": "2e898953-1d62-41c7-9341-c0e7531dae0b",
   "metadata": {
    "execution": {
     "iopub.execute_input": "2024-03-24T20:09:51.704094Z",
     "iopub.status.busy": "2024-03-24T20:09:51.703803Z",
     "iopub.status.idle": "2024-03-24T20:09:51.750725Z",
     "shell.execute_reply": "2024-03-24T20:09:51.749964Z",
     "shell.execute_reply.started": "2024-03-24T20:09:51.704073Z"
    }
   },
   "outputs": [
    {
     "name": "stdout",
     "output_type": "stream",
     "text": [
      " batch features <class 'torch.Tensor'>   shape: torch.Size([96, 1471])   device: cuda:0\n",
      " batch features <class 'torch.Tensor'>     shape: torch.Size([96])     device: cuda:0\n",
      "tensor([0, 0, 0, 0, 0, 0, 0, 0, 0, 0, 0, 0, 0, 0, 0, 0, 0, 0, 0, 0, 0, 0, 0, 0, 0, 0, 0, 0, 0, 0, 0, 0, 0, 0, 0, 0, 0, 0, 0, 0, 0, 0, 0, 0, 0, 0, 0,\n",
      "        0, 0, 0, 0, 0, 0, 0, 0, 0, 0, 0, 0, 0, 0, 0, 0, 1, 1, 1, 0, 0, 0, 1, 1, 1, 0, 0, 0, 0, 0, 0, 0, 0, 0, 0, 0, 0, 0, 0, 0, 0, 0, 0, 0, 0, 0, 1,\n",
      "        1, 1], device='cuda:0', dtype=torch.int32)\n"
     ]
    }
   ],
   "source": [
    "batch_features = torch.from_numpy(batch_features_numpy).to(model.device)\n",
    "batch_labels = torch.from_numpy(batch_labels_numpy).to(model.device)\n",
    "\n",
    "print(f\" batch features {type(batch_features)}   shape: {batch_features.shape}   device: {batch_features.device}\")\n",
    "print(f\" batch features {type(batch_labels)}     shape: {batch_labels.shape}     device: {batch_labels.device}\")\n",
    "\n",
    "print(batch_labels)"
   ]
  },
  {
   "cell_type": "code",
   "execution_count": 147,
   "id": "73698501-f2bf-422f-8074-162ca6bda8e1",
   "metadata": {
    "execution": {
     "iopub.execute_input": "2024-03-24T20:07:34.710121Z",
     "iopub.status.busy": "2024-03-24T20:07:34.709643Z",
     "iopub.status.idle": "2024-03-24T20:07:34.745358Z",
     "shell.execute_reply": "2024-03-24T20:07:34.744681Z",
     "shell.execute_reply.started": "2024-03-24T20:07:34.710079Z"
    }
   },
   "outputs": [],
   "source": [
    "# if model.name in [\"Autoencoder\", \"DNN\"]:\n",
    "#     batch_features = batch_features.view(batch_features.shape[0], -1)\n",
    "\n",
    "# batch_labels = torch.tensor([9,5,5,9])\n",
    " "
   ]
  },
  {
   "cell_type": "code",
   "execution_count": 31,
   "id": "a899b96c-82fc-40a0-a17a-a156f918ca2c",
   "metadata": {
    "execution": {
     "iopub.execute_input": "2024-03-24T20:09:55.045723Z",
     "iopub.status.busy": "2024-03-24T20:09:55.045294Z",
     "iopub.status.idle": "2024-03-24T20:09:55.079141Z",
     "shell.execute_reply": "2024-03-24T20:09:55.078564Z",
     "shell.execute_reply.started": "2024-03-24T20:09:55.045682Z"
    }
   },
   "outputs": [],
   "source": [
    "model.optimizer.zero_grad()"
   ]
  },
  {
   "cell_type": "code",
   "execution_count": 32,
   "id": "2e84f4ca-e468-4ae7-b50e-292c1840e1f9",
   "metadata": {
    "execution": {
     "iopub.execute_input": "2024-03-24T20:09:55.894386Z",
     "iopub.status.busy": "2024-03-24T20:09:55.893904Z",
     "iopub.status.idle": "2024-03-24T20:09:55.931211Z",
     "shell.execute_reply": "2024-03-24T20:09:55.930651Z",
     "shell.execute_reply.started": "2024-03-24T20:09:55.894344Z"
    }
   },
   "outputs": [],
   "source": [
    "outputs = model.forward(features=batch_features)"
   ]
  },
  {
   "cell_type": "code",
   "execution_count": 34,
   "id": "1186d140-fcf4-4926-bc48-c9388abc74f5",
   "metadata": {
    "execution": {
     "iopub.execute_input": "2024-03-24T20:11:18.702994Z",
     "iopub.status.busy": "2024-03-24T20:11:18.702476Z",
     "iopub.status.idle": "2024-03-24T20:11:18.740977Z",
     "shell.execute_reply": "2024-03-24T20:11:18.740292Z",
     "shell.execute_reply.started": "2024-03-24T20:11:18.702950Z"
    }
   },
   "outputs": [
    {
     "data": {
      "text/plain": [
       "(torch.Size([96, 1471]), device(type='cuda', index=0))"
      ]
     },
     "execution_count": 34,
     "metadata": {},
     "output_type": "execute_result"
    },
    {
     "data": {
      "text/plain": [
       "(torch.Size([96, 1471]), device(type='cuda', index=0))"
      ]
     },
     "execution_count": 34,
     "metadata": {},
     "output_type": "execute_result"
    }
   ],
   "source": [
    "outputs.shape, outputs.device\n",
    "batch_features.shape, batch_features.device\n"
   ]
  },
  {
   "cell_type": "code",
   "execution_count": 35,
   "id": "6d297c81-001c-4177-a202-7f822d6dd4e9",
   "metadata": {
    "execution": {
     "iopub.execute_input": "2024-03-24T20:11:20.540028Z",
     "iopub.status.busy": "2024-03-24T20:11:20.539541Z",
     "iopub.status.idle": "2024-03-24T20:11:20.705340Z",
     "shell.execute_reply": "2024-03-24T20:11:20.704370Z",
     "shell.execute_reply.started": "2024-03-24T20:11:20.539986Z"
    }
   },
   "outputs": [
    {
     "name": "stdout",
     "output_type": "stream",
     "text": [
      " call  primary_criterion(outputs, features)\n",
      "    outputs:  <class 'torch.Tensor'>  cuda:0  torch.Size([96, 1471])\n",
      "    features: <class 'torch.Tensor'>   cuda:0  torch.Size([96, 1471])\n"
     ]
    },
    {
     "ename": "RuntimeError",
     "evalue": "CUDA error: device-side assert triggered\nCompile with `TORCH_USE_CUDA_DSA` to enable device-side assertions.\n",
     "output_type": "error",
     "traceback": [
      "\u001b[0;31m---------------------------------------------------------------------------\u001b[0m",
      "\u001b[0;31mRuntimeError\u001b[0m                              Traceback (most recent call last)",
      "Cell \u001b[0;32mIn[35], line 2\u001b[0m\n\u001b[1;32m      1\u001b[0m \u001b[38;5;28;01mif\u001b[39;00m model\u001b[38;5;241m.\u001b[39muse_snnl:\n\u001b[0;32m----> 2\u001b[0m     train_loss, primary_loss, snn_loss \u001b[38;5;241m=\u001b[39m \u001b[43mmodel\u001b[49m\u001b[38;5;241;43m.\u001b[39;49m\u001b[43msnnl_criterion\u001b[49m\u001b[43m(\u001b[49m\n\u001b[1;32m      3\u001b[0m \u001b[43m        \u001b[49m\u001b[43mmodel\u001b[49m\u001b[38;5;241;43m=\u001b[39;49m\u001b[43mmodel\u001b[49m\u001b[43m,\u001b[49m\n\u001b[1;32m      4\u001b[0m \u001b[43m        \u001b[49m\u001b[43moutputs\u001b[49m\u001b[38;5;241;43m=\u001b[39;49m\u001b[43moutputs\u001b[49m\u001b[43m,\u001b[49m\n\u001b[1;32m      5\u001b[0m \u001b[43m        \u001b[49m\u001b[43mfeatures\u001b[49m\u001b[38;5;241;43m=\u001b[39;49m\u001b[43mbatch_features\u001b[49m\u001b[43m,\u001b[49m\n\u001b[1;32m      6\u001b[0m \u001b[43m        \u001b[49m\u001b[43mlabels\u001b[49m\u001b[38;5;241;43m=\u001b[39;49m\u001b[43mbatch_labels\u001b[49m\u001b[43m,\u001b[49m\n\u001b[1;32m      7\u001b[0m \u001b[43m        \u001b[49m\u001b[43mepoch\u001b[49m\u001b[38;5;241;43m=\u001b[39;49m\u001b[43mepoch\u001b[49m\u001b[43m,\u001b[49m\n\u001b[1;32m      8\u001b[0m \u001b[43m    \u001b[49m\u001b[43m)\u001b[49m\n",
      "File \u001b[0;32m~/miniforge3/envs/ptsnnl/lib/python3.11/site-packages/torch/nn/modules/module.py:1511\u001b[0m, in \u001b[0;36mModule._wrapped_call_impl\u001b[0;34m(self, *args, **kwargs)\u001b[0m\n\u001b[1;32m   1509\u001b[0m     \u001b[38;5;28;01mreturn\u001b[39;00m \u001b[38;5;28mself\u001b[39m\u001b[38;5;241m.\u001b[39m_compiled_call_impl(\u001b[38;5;241m*\u001b[39margs, \u001b[38;5;241m*\u001b[39m\u001b[38;5;241m*\u001b[39mkwargs)  \u001b[38;5;66;03m# type: ignore[misc]\u001b[39;00m\n\u001b[1;32m   1510\u001b[0m \u001b[38;5;28;01melse\u001b[39;00m:\n\u001b[0;32m-> 1511\u001b[0m     \u001b[38;5;28;01mreturn\u001b[39;00m \u001b[38;5;28;43mself\u001b[39;49m\u001b[38;5;241;43m.\u001b[39;49m\u001b[43m_call_impl\u001b[49m\u001b[43m(\u001b[49m\u001b[38;5;241;43m*\u001b[39;49m\u001b[43margs\u001b[49m\u001b[43m,\u001b[49m\u001b[43m \u001b[49m\u001b[38;5;241;43m*\u001b[39;49m\u001b[38;5;241;43m*\u001b[39;49m\u001b[43mkwargs\u001b[49m\u001b[43m)\u001b[49m\n",
      "File \u001b[0;32m~/miniforge3/envs/ptsnnl/lib/python3.11/site-packages/torch/nn/modules/module.py:1520\u001b[0m, in \u001b[0;36mModule._call_impl\u001b[0;34m(self, *args, **kwargs)\u001b[0m\n\u001b[1;32m   1515\u001b[0m \u001b[38;5;66;03m# If we don't have any hooks, we want to skip the rest of the logic in\u001b[39;00m\n\u001b[1;32m   1516\u001b[0m \u001b[38;5;66;03m# this function, and just call forward.\u001b[39;00m\n\u001b[1;32m   1517\u001b[0m \u001b[38;5;28;01mif\u001b[39;00m \u001b[38;5;129;01mnot\u001b[39;00m (\u001b[38;5;28mself\u001b[39m\u001b[38;5;241m.\u001b[39m_backward_hooks \u001b[38;5;129;01mor\u001b[39;00m \u001b[38;5;28mself\u001b[39m\u001b[38;5;241m.\u001b[39m_backward_pre_hooks \u001b[38;5;129;01mor\u001b[39;00m \u001b[38;5;28mself\u001b[39m\u001b[38;5;241m.\u001b[39m_forward_hooks \u001b[38;5;129;01mor\u001b[39;00m \u001b[38;5;28mself\u001b[39m\u001b[38;5;241m.\u001b[39m_forward_pre_hooks\n\u001b[1;32m   1518\u001b[0m         \u001b[38;5;129;01mor\u001b[39;00m _global_backward_pre_hooks \u001b[38;5;129;01mor\u001b[39;00m _global_backward_hooks\n\u001b[1;32m   1519\u001b[0m         \u001b[38;5;129;01mor\u001b[39;00m _global_forward_hooks \u001b[38;5;129;01mor\u001b[39;00m _global_forward_pre_hooks):\n\u001b[0;32m-> 1520\u001b[0m     \u001b[38;5;28;01mreturn\u001b[39;00m \u001b[43mforward_call\u001b[49m\u001b[43m(\u001b[49m\u001b[38;5;241;43m*\u001b[39;49m\u001b[43margs\u001b[49m\u001b[43m,\u001b[49m\u001b[43m \u001b[49m\u001b[38;5;241;43m*\u001b[39;49m\u001b[38;5;241;43m*\u001b[39;49m\u001b[43mkwargs\u001b[49m\u001b[43m)\u001b[49m\n\u001b[1;32m   1522\u001b[0m \u001b[38;5;28;01mtry\u001b[39;00m:\n\u001b[1;32m   1523\u001b[0m     result \u001b[38;5;241m=\u001b[39m \u001b[38;5;28;01mNone\u001b[39;00m\n",
      "File \u001b[0;32m~/WSL-shared/Cellpainting/pt-snnl/dev_code.py:157\u001b[0m, in \u001b[0;36mSNNLoss.forward\u001b[0;34m(self, model, features, labels, outputs, epoch)\u001b[0m\n\u001b[1;32m    155\u001b[0m     \u001b[38;5;28mprint\u001b[39m(\u001b[38;5;124mf\u001b[39m\u001b[38;5;124m\"\u001b[39m\u001b[38;5;124m    outputs:  \u001b[39m\u001b[38;5;132;01m{\u001b[39;00m\u001b[38;5;28mtype\u001b[39m(outputs)\u001b[38;5;132;01m}\u001b[39;00m\u001b[38;5;124m  \u001b[39m\u001b[38;5;132;01m{\u001b[39;00moutputs\u001b[38;5;241m.\u001b[39mdevice\u001b[38;5;132;01m}\u001b[39;00m\u001b[38;5;124m  \u001b[39m\u001b[38;5;132;01m{\u001b[39;00moutputs\u001b[38;5;241m.\u001b[39mshape\u001b[38;5;132;01m}\u001b[39;00m\u001b[38;5;124m\"\u001b[39m)\n\u001b[1;32m    156\u001b[0m     \u001b[38;5;28mprint\u001b[39m(\u001b[38;5;124mf\u001b[39m\u001b[38;5;124m\"\u001b[39m\u001b[38;5;124m    features: \u001b[39m\u001b[38;5;132;01m{\u001b[39;00m\u001b[38;5;28mtype\u001b[39m(features)\u001b[38;5;132;01m}\u001b[39;00m\u001b[38;5;124m   \u001b[39m\u001b[38;5;132;01m{\u001b[39;00mfeatures\u001b[38;5;241m.\u001b[39mdevice\u001b[38;5;132;01m}\u001b[39;00m\u001b[38;5;124m  \u001b[39m\u001b[38;5;132;01m{\u001b[39;00mfeatures\u001b[38;5;241m.\u001b[39mshape\u001b[38;5;132;01m}\u001b[39;00m\u001b[38;5;124m\"\u001b[39m)\n\u001b[0;32m--> 157\u001b[0m     primary_loss \u001b[38;5;241m=\u001b[39m \u001b[38;5;28;43mself\u001b[39;49m\u001b[38;5;241;43m.\u001b[39;49m\u001b[43mprimary_criterion\u001b[49m\u001b[43m(\u001b[49m\u001b[43moutputs\u001b[49m\u001b[43m,\u001b[49m\u001b[43m \u001b[49m\u001b[43mfeatures\u001b[49m\u001b[43m)\u001b[49m\n\u001b[1;32m    158\u001b[0m \u001b[38;5;28;01melse\u001b[39;00m:\n\u001b[1;32m    159\u001b[0m     \u001b[38;5;28mprint\u001b[39m(\u001b[38;5;124mf\u001b[39m\u001b[38;5;124m\"\u001b[39m\u001b[38;5;124m call  primary_criterion(outputs, labels)\u001b[39m\u001b[38;5;124m\"\u001b[39m)\n",
      "File \u001b[0;32m~/miniforge3/envs/ptsnnl/lib/python3.11/site-packages/torch/nn/modules/module.py:1511\u001b[0m, in \u001b[0;36mModule._wrapped_call_impl\u001b[0;34m(self, *args, **kwargs)\u001b[0m\n\u001b[1;32m   1509\u001b[0m     \u001b[38;5;28;01mreturn\u001b[39;00m \u001b[38;5;28mself\u001b[39m\u001b[38;5;241m.\u001b[39m_compiled_call_impl(\u001b[38;5;241m*\u001b[39margs, \u001b[38;5;241m*\u001b[39m\u001b[38;5;241m*\u001b[39mkwargs)  \u001b[38;5;66;03m# type: ignore[misc]\u001b[39;00m\n\u001b[1;32m   1510\u001b[0m \u001b[38;5;28;01melse\u001b[39;00m:\n\u001b[0;32m-> 1511\u001b[0m     \u001b[38;5;28;01mreturn\u001b[39;00m \u001b[38;5;28;43mself\u001b[39;49m\u001b[38;5;241;43m.\u001b[39;49m\u001b[43m_call_impl\u001b[49m\u001b[43m(\u001b[49m\u001b[38;5;241;43m*\u001b[39;49m\u001b[43margs\u001b[49m\u001b[43m,\u001b[49m\u001b[43m \u001b[49m\u001b[38;5;241;43m*\u001b[39;49m\u001b[38;5;241;43m*\u001b[39;49m\u001b[43mkwargs\u001b[49m\u001b[43m)\u001b[49m\n",
      "File \u001b[0;32m~/miniforge3/envs/ptsnnl/lib/python3.11/site-packages/torch/nn/modules/module.py:1520\u001b[0m, in \u001b[0;36mModule._call_impl\u001b[0;34m(self, *args, **kwargs)\u001b[0m\n\u001b[1;32m   1515\u001b[0m \u001b[38;5;66;03m# If we don't have any hooks, we want to skip the rest of the logic in\u001b[39;00m\n\u001b[1;32m   1516\u001b[0m \u001b[38;5;66;03m# this function, and just call forward.\u001b[39;00m\n\u001b[1;32m   1517\u001b[0m \u001b[38;5;28;01mif\u001b[39;00m \u001b[38;5;129;01mnot\u001b[39;00m (\u001b[38;5;28mself\u001b[39m\u001b[38;5;241m.\u001b[39m_backward_hooks \u001b[38;5;129;01mor\u001b[39;00m \u001b[38;5;28mself\u001b[39m\u001b[38;5;241m.\u001b[39m_backward_pre_hooks \u001b[38;5;129;01mor\u001b[39;00m \u001b[38;5;28mself\u001b[39m\u001b[38;5;241m.\u001b[39m_forward_hooks \u001b[38;5;129;01mor\u001b[39;00m \u001b[38;5;28mself\u001b[39m\u001b[38;5;241m.\u001b[39m_forward_pre_hooks\n\u001b[1;32m   1518\u001b[0m         \u001b[38;5;129;01mor\u001b[39;00m _global_backward_pre_hooks \u001b[38;5;129;01mor\u001b[39;00m _global_backward_hooks\n\u001b[1;32m   1519\u001b[0m         \u001b[38;5;129;01mor\u001b[39;00m _global_forward_hooks \u001b[38;5;129;01mor\u001b[39;00m _global_forward_pre_hooks):\n\u001b[0;32m-> 1520\u001b[0m     \u001b[38;5;28;01mreturn\u001b[39;00m \u001b[43mforward_call\u001b[49m\u001b[43m(\u001b[49m\u001b[38;5;241;43m*\u001b[39;49m\u001b[43margs\u001b[49m\u001b[43m,\u001b[49m\u001b[43m \u001b[49m\u001b[38;5;241;43m*\u001b[39;49m\u001b[38;5;241;43m*\u001b[39;49m\u001b[43mkwargs\u001b[49m\u001b[43m)\u001b[49m\n\u001b[1;32m   1522\u001b[0m \u001b[38;5;28;01mtry\u001b[39;00m:\n\u001b[1;32m   1523\u001b[0m     result \u001b[38;5;241m=\u001b[39m \u001b[38;5;28;01mNone\u001b[39;00m\n",
      "File \u001b[0;32m~/miniforge3/envs/ptsnnl/lib/python3.11/site-packages/torch/nn/modules/loss.py:618\u001b[0m, in \u001b[0;36mBCELoss.forward\u001b[0;34m(self, input, target)\u001b[0m\n\u001b[1;32m    617\u001b[0m \u001b[38;5;28;01mdef\u001b[39;00m \u001b[38;5;21mforward\u001b[39m(\u001b[38;5;28mself\u001b[39m, \u001b[38;5;28minput\u001b[39m: Tensor, target: Tensor) \u001b[38;5;241m-\u001b[39m\u001b[38;5;241m>\u001b[39m Tensor:\n\u001b[0;32m--> 618\u001b[0m     \u001b[38;5;28;01mreturn\u001b[39;00m \u001b[43mF\u001b[49m\u001b[38;5;241;43m.\u001b[39;49m\u001b[43mbinary_cross_entropy\u001b[49m\u001b[43m(\u001b[49m\u001b[38;5;28;43minput\u001b[39;49m\u001b[43m,\u001b[49m\u001b[43m \u001b[49m\u001b[43mtarget\u001b[49m\u001b[43m,\u001b[49m\u001b[43m \u001b[49m\u001b[43mweight\u001b[49m\u001b[38;5;241;43m=\u001b[39;49m\u001b[38;5;28;43mself\u001b[39;49m\u001b[38;5;241;43m.\u001b[39;49m\u001b[43mweight\u001b[49m\u001b[43m,\u001b[49m\u001b[43m \u001b[49m\u001b[43mreduction\u001b[49m\u001b[38;5;241;43m=\u001b[39;49m\u001b[38;5;28;43mself\u001b[39;49m\u001b[38;5;241;43m.\u001b[39;49m\u001b[43mreduction\u001b[49m\u001b[43m)\u001b[49m\n",
      "File \u001b[0;32m~/miniforge3/envs/ptsnnl/lib/python3.11/site-packages/torch/nn/functional.py:3127\u001b[0m, in \u001b[0;36mbinary_cross_entropy\u001b[0;34m(input, target, weight, size_average, reduce, reduction)\u001b[0m\n\u001b[1;32m   3124\u001b[0m     new_size \u001b[38;5;241m=\u001b[39m _infer_size(target\u001b[38;5;241m.\u001b[39msize(), weight\u001b[38;5;241m.\u001b[39msize())\n\u001b[1;32m   3125\u001b[0m     weight \u001b[38;5;241m=\u001b[39m weight\u001b[38;5;241m.\u001b[39mexpand(new_size)\n\u001b[0;32m-> 3127\u001b[0m \u001b[38;5;28;01mreturn\u001b[39;00m \u001b[43mtorch\u001b[49m\u001b[38;5;241;43m.\u001b[39;49m\u001b[43m_C\u001b[49m\u001b[38;5;241;43m.\u001b[39;49m\u001b[43m_nn\u001b[49m\u001b[38;5;241;43m.\u001b[39;49m\u001b[43mbinary_cross_entropy\u001b[49m\u001b[43m(\u001b[49m\u001b[38;5;28;43minput\u001b[39;49m\u001b[43m,\u001b[49m\u001b[43m \u001b[49m\u001b[43mtarget\u001b[49m\u001b[43m,\u001b[49m\u001b[43m \u001b[49m\u001b[43mweight\u001b[49m\u001b[43m,\u001b[49m\u001b[43m \u001b[49m\u001b[43mreduction_enum\u001b[49m\u001b[43m)\u001b[49m\n",
      "\u001b[0;31mRuntimeError\u001b[0m: CUDA error: device-side assert triggered\nCompile with `TORCH_USE_CUDA_DSA` to enable device-side assertions.\n"
     ]
    }
   ],
   "source": [
    "if model.use_snnl:\n",
    "    train_loss, primary_loss, snn_loss = model.snnl_criterion(\n",
    "        model=model,\n",
    "        outputs=outputs,\n",
    "        features=batch_features,\n",
    "        labels=batch_labels,\n",
    "        epoch=epoch,\n",
    "    )"
   ]
  },
  {
   "cell_type": "code",
   "execution_count": null,
   "id": "acd3b7f5-044d-4c0b-afc0-8702f150bb5b",
   "metadata": {
    "execution": {
     "iopub.execute_input": "2024-03-24T19:55:23.967540Z",
     "iopub.status.busy": "2024-03-24T19:55:23.967053Z",
     "iopub.status.idle": "2024-03-24T19:55:25.085132Z",
     "shell.execute_reply": "2024-03-24T19:55:25.084140Z",
     "shell.execute_reply.started": "2024-03-24T19:55:23.967499Z"
    }
   },
   "outputs": [],
   "source": [
    "print(f\" train_loss {train_loss}, primary_loss {primary_loss}, snn_loss {snn_loss}\")\n",
    "epoch_loss += train_loss.item()\n",
    "epoch_snn_loss += snn_loss.item()\n",
    "epoch_primary_loss += primary_loss.item()"
   ]
  },
  {
   "cell_type": "code",
   "execution_count": 127,
   "id": "d52b1651-57ec-46b1-8b9f-336a733939d1",
   "metadata": {
    "execution": {
     "iopub.execute_input": "2024-03-24T19:56:05.859758Z",
     "iopub.status.busy": "2024-03-24T19:56:05.859232Z",
     "iopub.status.idle": "2024-03-24T19:56:05.896639Z",
     "shell.execute_reply": "2024-03-24T19:56:05.895923Z",
     "shell.execute_reply.started": "2024-03-24T19:56:05.859717Z"
    }
   },
   "outputs": [],
   "source": [
    "if not model.use_snnl:\n",
    "    train_loss = model.criterion(outputs, batch_labels if model.name == \"DNN\" or model.name == \"CNN\"  else batch_features,)\n",
    "    epoch_loss += train_loss.item()"
   ]
  },
  {
   "cell_type": "code",
   "execution_count": 35,
   "id": "24f437ef-97c8-41f6-81e6-c2c0b096db53",
   "metadata": {
    "execution": {
     "iopub.execute_input": "2024-03-07T19:44:37.965773Z",
     "iopub.status.busy": "2024-03-07T19:44:37.965187Z",
     "iopub.status.idle": "2024-03-07T19:44:38.039398Z",
     "shell.execute_reply": "2024-03-07T19:44:38.038354Z",
     "shell.execute_reply.started": "2024-03-07T19:44:37.965722Z"
    }
   },
   "outputs": [],
   "source": [
    "if model.name == \"DNN\" or model.name == \"CNN\":\n",
    "    train_accuracy = (outputs.argmax(1) == batch_labels).sum().item() / len(batch_labels)\n",
    "    epoch_accuracy += train_accuracy\n",
    "\n",
    "train_loss.backward()\n",
    "\n",
    "model.optimizer.step()\n",
    "if model.use_snnl and model.temperature is not None:\n",
    "    model.optimize_temperature()\n",
    "\n",
    "    # break"
   ]
  },
  {
   "cell_type": "markdown",
   "id": "27367bde-b9b4-4f0f-b5da-cfe8e28c80e8",
   "metadata": {},
   "source": [
    "### End of dataloader loop"
   ]
  },
  {
   "cell_type": "code",
   "execution_count": null,
   "id": "930aba05-3892-45c9-a404-f4275dbd9478",
   "metadata": {},
   "outputs": [],
   "source": [
    "epoch_loss /= len(data_loader)\n",
    "\n",
    "if self.name in [\"DNN\", \"CNN\"]:\n",
    "    epoch_accuracy /= len(data_loader)\n",
    "    \n",
    "if self.use_snnl:\n",
    "    epoch_snn_loss /= len(data_loader)\n",
    "    epoch_primary_loss /= len(data_loader)\n",
    "    if self.name == \"DNN\" or self.name == \"CNN\":\n",
    "        print(f\" epoch_loss {epoch_loss}, epoch_snn_loss, {epoch_snn_loss},  epoch_primary_loss, {epoch_primary_loss}, epoch_accuracy,  {epoch_accuracy}\")\n",
    "        return epoch_loss, epoch_snn_loss, epoch_primary_loss, epoch_accuracy\n",
    "    else:\n",
    "        print(f\" epoch_loss {epoch_loss}, epoch_snn_loss, {epoch_snn_loss},  epoch_primary_loss, {epoch_primary_loss}\")\n",
    "        return epoch_loss, epoch_snn_loss, epoch_primary_loss\n",
    "else:\n",
    "    if self.name == \"DNN\" or self.name == \"CNN\":\n",
    "        print(f\" epoch_loss {epoch_loss}, epoch_accuracy,  {epoch_accuracy}\")\n",
    "        return epoch_loss, epoch_accuracy\n",
    "    else:\n",
    "        print(f\" epoch_loss {epoch_loss}\")\n",
    "        return epoch_loss"
   ]
  },
  {
   "cell_type": "code",
   "execution_count": 65,
   "id": "deebba8a-7d14-4905-93f8-1f7e11fa27cc",
   "metadata": {
    "execution": {
     "iopub.execute_input": "2024-03-07T20:20:12.137428Z",
     "iopub.status.busy": "2024-03-07T20:20:12.136822Z",
     "iopub.status.idle": "2024-03-07T20:20:12.187683Z",
     "shell.execute_reply": "2024-03-07T20:20:12.187034Z",
     "shell.execute_reply.started": "2024-03-07T20:20:12.137368Z"
    }
   },
   "outputs": [
    {
     "data": {
      "text/plain": [
       "1152.2025146484375"
      ]
     },
     "execution_count": 65,
     "metadata": {},
     "output_type": "execute_result"
    },
    {
     "data": {
      "text/plain": [
       "torch.Size([4, 784])"
      ]
     },
     "execution_count": 65,
     "metadata": {},
     "output_type": "execute_result"
    },
    {
     "data": {
      "text/plain": [
       "tensor([8, 1, 7, 5], device='cuda:0')"
      ]
     },
     "execution_count": 65,
     "metadata": {},
     "output_type": "execute_result"
    },
    {
     "name": "stdout",
     "output_type": "stream",
     "text": [
      " epoch_primary_loss  0.7071589231491089\n",
      " epoch_snn_loss      11.51495361328125\n",
      " model.snnl_factor   100.0\n",
      " epoch_loss          1152.2025146484375\n"
     ]
    },
    {
     "data": {
      "text/plain": [
       "0"
      ]
     },
     "execution_count": 65,
     "metadata": {},
     "output_type": "execute_result"
    },
    {
     "data": {
      "text/plain": [
       "2500"
      ]
     },
     "execution_count": 65,
     "metadata": {},
     "output_type": "execute_result"
    }
   ],
   "source": [
    "epoch_loss\n",
    "batch_features.shape\n",
    "# outputs[0].data\n",
    "# outputs[1].data\n",
    "batch_labels.data \n",
    "print(f\" epoch_primary_loss  {epoch_primary_loss}\")\n",
    "print(f\" epoch_snn_loss      {epoch_snn_loss}\")\n",
    "print(f\" model.snnl_factor   {model.snnl_criterion.factor}\")\n",
    "print(f\" epoch_loss          {epoch_loss}\")\n",
    "(outputs.argmax(1) == batch_labels).sum().item()\n",
    " \n",
    "# train_accuracy\n",
    "# epoch_accuracy\n",
    "len(data_loader)"
   ]
  },
  {
   "cell_type": "code",
   "execution_count": 76,
   "id": "a551f63d-a2e1-48cf-9409-11e404dda3b0",
   "metadata": {
    "execution": {
     "iopub.execute_input": "2024-03-06T23:42:46.830961Z",
     "iopub.status.busy": "2024-03-06T23:42:46.830335Z",
     "iopub.status.idle": "2024-03-06T23:42:46.877257Z",
     "shell.execute_reply": "2024-03-06T23:42:46.876507Z",
     "shell.execute_reply.started": "2024-03-06T23:42:46.830910Z"
    }
   },
   "outputs": [],
   "source": [
    "activations = dict()\n",
    "layers = model.layers\n",
    "for index, layer in enumerate(layers):\n",
    "    if index == 0:\n",
    "        activations[index] = layer(batch_features)\n",
    "    else:\n",
    "        activations[index] = layer(activations[index - 1])"
   ]
  },
  {
   "cell_type": "code",
   "execution_count": 78,
   "id": "5922060f-cfb9-426d-8aef-f1402909e85d",
   "metadata": {
    "execution": {
     "iopub.execute_input": "2024-03-06T23:43:25.202227Z",
     "iopub.status.busy": "2024-03-06T23:43:25.201649Z",
     "iopub.status.idle": "2024-03-06T23:43:25.237883Z",
     "shell.execute_reply": "2024-03-06T23:43:25.237128Z",
     "shell.execute_reply.started": "2024-03-06T23:43:25.202175Z"
    }
   },
   "outputs": [
    {
     "name": "stdout",
     "output_type": "stream",
     "text": [
      "torch.Size([2, 256])\n",
      "torch.Size([2, 256])\n",
      "torch.Size([2, 512])\n",
      "torch.Size([2, 10])\n"
     ]
    }
   ],
   "source": [
    "for i in activations:\n",
    "    print(activations[i].shape)"
   ]
  },
  {
   "cell_type": "code",
   "execution_count": null,
   "id": "db57c906-31f5-4f9c-af5d-7e6d64565593",
   "metadata": {},
   "outputs": [],
   "source": [
    "epoch_loss /= len(data_loader)\n",
    "\n",
    "if model.name in [\"DNN\", \"CNN\"]:\n",
    "    epoch_accuracy /= len(data_loader)\n",
    "\n",
    "if model.use_snnl:\n",
    "    epoch_snn_loss /= len(data_loader)\n",
    "    epoch_primary_loss /= len(data_loader)\n",
    "    if model.name == \"DNN\" or model.name == \"CNN\":\n",
    "        print(f\" epoch_loss: {epoch_loss},  epoch_snn_loss: {epoch_snn_loss}, epoch_primaey_loss: {epoch_primary_loss}, accuracy: {epoch_accuracy} \")\n",
    "        return epoch_loss, epoch_snn_loss, epoch_primary_loss, epoch_accuracy\n",
    "    else:\n",
    "        print(f\" epoch_loss: {epoch_loss},  epoch_snn_loss: {epoch_snn_loss}, epoch_primary_loss: {epoch_primary_loss} \")\n",
    "        return epoch_loss, epoch_snn_loss, epoch_primary_loss\n",
    "else:\n",
    "    if model.name == \"DNN\" or model.name == \"CNN\":\n",
    "        print(f\" epoch_loss: {epoch_loss}, accuracy: {epoch_accuracy} \")\n",
    "        return epoch_loss, epoch_accuracy\n",
    "    else:\n",
    "        print(f\" epoch_loss: {epoch_loss},\")\n",
    "        return epoch_loss"
   ]
  },
  {
   "cell_type": "code",
   "execution_count": null,
   "id": "d8f0804f-78fd-428b-9241-a9eda27b78d5",
   "metadata": {},
   "outputs": [],
   "source": []
  },
  {
   "cell_type": "code",
   "execution_count": null,
   "id": "c7ab7d4e-648b-4966-85ca-0fd41e9d6103",
   "metadata": {},
   "outputs": [],
   "source": [
    "# def main(args):\n",
    "#     (\n",
    "#         dataset,\n",
    "#         batch_size,\n",
    "#         epochs,\n",
    "#         learning_rate,\n",
    "#         units,\n",
    "#         snnl_factor,\n",
    "#         temperature,\n",
    "#     ) = get_hyperparameters(args.configuration)\n",
    "\n",
    "#     set_global_seed(args.seed)\n",
    "\n",
    "#     train_dataset, test_dataset = load_dataset(name=dataset)\n",
    "#     if dataset == \"emnist\":\n",
    "#         train_features = train_dataset.data.numpy().astype(\"float32\") / 255.0\n",
    "#         train_features = train_features[:60000]\n",
    "#         train_features = torch.from_numpy(train_features)\n",
    "#         train_labels = train_dataset.targets\n",
    "#         train_labels = train_labels[:60000]\n",
    "#         train_dataset = torch.utils.data.TensorDataset(train_features, train_labels)\n",
    "#     train_loader = create_dataloader(dataset=train_dataset, batch_size=batch_size)\n",
    "\n",
    "#     if args.model.lower() == \"baseline\":\n",
    "#         model = DNN(units=units, learning_rate=learning_rate)\n",
    "#     elif args.model.lower() == \"snnl\":\n",
    "#         model = DNN(\n",
    "#             units=units,\n",
    "#             learning_rate=learning_rate,\n",
    "#             use_snnl=True,\n",
    "#             factor=snnl_factor,\n",
    "#             temperature=temperature,\n",
    "#             use_annealing=False,\n",
    "#         )\n",
    "#     else:\n",
    "#         raise ValueError(\"Choose between [baseline] and [snnl] only.\")\n",
    "\n",
    "#     model.fit(data_loader=train_loader, epochs=epochs)\n",
    "\n",
    "#     test_features = test_dataset.data.reshape(-1, 784) / 255.0\n",
    "#     model.eval()\n",
    "#     model = model.cpu()\n",
    "#     predictions = model.predict(test_features)\n",
    "#     model.test_accuracy = accuracy(y_true=test_dataset.targets, y_pred=predictions)\n",
    "#     print(f\"accuracy: {model.test_accuracy}%\")\n",
    "#     filename = f\"DNN-{args.model.lower()}-{args.seed}.json\"\n",
    "#     export_results(model=model, filename=filename)\n",
    "\n"
   ]
  },
  {
   "cell_type": "markdown",
   "id": "0e7af43e-3ca4-4a2f-af42-575813f4cba9",
   "metadata": {},
   "source": [
    "### SNNL Loss"
   ]
  },
  {
   "cell_type": "code",
   "execution_count": 154,
   "id": "23b2d86d-149c-4c52-9bc8-bf6f4440e3ff",
   "metadata": {
    "execution": {
     "iopub.execute_input": "2024-03-07T16:46:19.715575Z",
     "iopub.status.busy": "2024-03-07T16:46:19.715218Z",
     "iopub.status.idle": "2024-03-07T16:46:19.750086Z",
     "shell.execute_reply": "2024-03-07T16:46:19.749295Z",
     "shell.execute_reply.started": "2024-03-07T16:46:19.715548Z"
    }
   },
   "outputs": [
    {
     "name": "stdout",
     "output_type": "stream",
     "text": [
      " Build SNNLoss dfrom NOTEBOOK\n"
     ]
    }
   ],
   "source": [
    "snnl = SNNLoss(temperature=1.0)"
   ]
  },
  {
   "cell_type": "code",
   "execution_count": 170,
   "id": "5c8294a6-0992-44c9-adf3-c4dbec0ba543",
   "metadata": {
    "execution": {
     "iopub.execute_input": "2024-03-07T17:01:26.782560Z",
     "iopub.status.busy": "2024-03-07T17:01:26.782229Z",
     "iopub.status.idle": "2024-03-07T17:01:26.816878Z",
     "shell.execute_reply": "2024-03-07T17:01:26.816153Z",
     "shell.execute_reply.started": "2024-03-07T17:01:26.782533Z"
    }
   },
   "outputs": [
    {
     "data": {
      "text/plain": [
       "tensor([[0.8823, 0.9150, 0.3829, 0.9593],\n",
       "        [0.3904, 0.6009, 0.2566, 0.7936],\n",
       "        [0.9408, 0.1332, 0.9346, 0.5936],\n",
       "        [0.8694, 0.5677, 0.7411, 0.4294],\n",
       "        [0.8854, 0.5739, 0.2666, 0.6274],\n",
       "        [0.2696, 0.4414, 0.2969, 0.8317]])"
      ]
     },
     "execution_count": 170,
     "metadata": {},
     "output_type": "execute_result"
    }
   ],
   "source": [
    "_ = torch.manual_seed(42)\n",
    "features = torch.rand((6, 4))\n",
    "features"
   ]
  },
  {
   "cell_type": "code",
   "execution_count": 171,
   "id": "9398dd16-f2e6-440f-b1f4-3334c1fb051f",
   "metadata": {
    "execution": {
     "iopub.execute_input": "2024-03-07T17:01:31.246276Z",
     "iopub.status.busy": "2024-03-07T17:01:31.245941Z",
     "iopub.status.idle": "2024-03-07T17:01:31.279795Z",
     "shell.execute_reply": "2024-03-07T17:01:31.279017Z",
     "shell.execute_reply.started": "2024-03-07T17:01:31.246248Z"
    }
   },
   "outputs": [
    {
     "name": "stdout",
     "output_type": "stream",
     "text": [
      "\n"
     ]
    },
    {
     "data": {
      "text/plain": [
       "tensor([[-1.1921e-07,  2.6181e-02,  2.1361e-01,  1.0087e-01,  2.2940e-02,  7.3328e-02],\n",
       "        [ 2.6181e-02,  0.0000e+00,  2.7807e-01,  1.8148e-01,  9.0106e-02,  1.6577e-02],\n",
       "        [ 2.1361e-01,  2.7807e-01,  5.9605e-08,  6.2519e-02,  1.6466e-01,  2.7426e-01],\n",
       "        [ 1.0087e-01,  1.8148e-01,  6.2519e-02,  0.0000e+00,  7.5882e-02,  2.2894e-01],\n",
       "        [ 2.2940e-02,  9.0106e-02,  1.6466e-01,  7.5882e-02,  1.1921e-07,  1.4981e-01],\n",
       "        [ 7.3328e-02,  1.6577e-02,  2.7426e-01,  2.2894e-01,  1.4981e-01,  0.0000e+00]])"
      ]
     },
     "execution_count": 171,
     "metadata": {},
     "output_type": "execute_result"
    }
   ],
   "source": [
    "distance_matrix = snnl.pairwise_cosine_distance(features)\n",
    "distance_matrix"
   ]
  },
  {
   "cell_type": "code",
   "execution_count": 173,
   "id": "c008afbc-b247-47db-bef1-85c5e18859fd",
   "metadata": {
    "execution": {
     "iopub.execute_input": "2024-03-07T17:02:06.228333Z",
     "iopub.status.busy": "2024-03-07T17:02:06.227805Z",
     "iopub.status.idle": "2024-03-07T17:02:06.269832Z",
     "shell.execute_reply": "2024-03-07T17:02:06.269103Z",
     "shell.execute_reply.started": "2024-03-07T17:02:06.228284Z"
    }
   },
   "outputs": [
    {
     "data": {
      "text/plain": [
       "tensor([[1.0000, 0.9742, 0.8077, 0.9041, 0.9773, 0.9293],\n",
       "        [0.9742, 1.0000, 0.7572, 0.8340, 0.9138, 0.9836],\n",
       "        [0.8077, 0.7572, 1.0000, 0.9394, 0.8482, 0.7601],\n",
       "        [0.9041, 0.8340, 0.9394, 1.0000, 0.9269, 0.7954],\n",
       "        [0.9773, 0.9138, 0.8482, 0.9269, 1.0000, 0.8609],\n",
       "        [0.9293, 0.9836, 0.7601, 0.7954, 0.8609, 1.0000]])"
      ]
     },
     "execution_count": 173,
     "metadata": {},
     "output_type": "execute_result"
    },
    {
     "data": {
      "text/plain": [
       "tensor([[ 1.1921e-07,  9.7416e-01,  8.0767e-01,  9.0405e-01,  9.7732e-01,  9.2930e-01],\n",
       "        [ 9.7416e-01,  0.0000e+00,  7.5725e-01,  8.3404e-01,  9.1383e-01,  9.8356e-01],\n",
       "        [ 8.0767e-01,  7.5725e-01, -5.9605e-08,  9.3940e-01,  8.4818e-01,  7.6013e-01],\n",
       "        [ 9.0405e-01,  8.3404e-01,  9.3940e-01,  0.0000e+00,  9.2693e-01,  7.9538e-01],\n",
       "        [ 9.7732e-01,  9.1383e-01,  8.4818e-01,  9.2693e-01, -1.1921e-07,  8.6087e-01],\n",
       "        [ 9.2930e-01,  9.8356e-01,  7.6013e-01,  7.9538e-01,  8.6087e-01,  0.0000e+00]])"
      ]
     },
     "execution_count": 173,
     "metadata": {},
     "output_type": "execute_result"
    }
   ],
   "source": [
    "pairwise_distance_matrix = snnl.normalize_distance_matrix(features, distance_matrix, device = 'cpu')\n",
    "torch.exp(-(distance_matrix / snnl.temperature)) \n",
    "# pairwise_distance_matrix = torch.exp(-(distance_matrix / snnl.temperature)) - torch.eye(features.shape[0])\n",
    "# pairwise_distance_matrix.sum(1)   \n",
    "pairwise_distance_matrix"
   ]
  },
  {
   "cell_type": "code",
   "execution_count": 174,
   "id": "980590ba-c1a6-4ade-9722-7676021f065b",
   "metadata": {
    "execution": {
     "iopub.execute_input": "2024-03-07T17:02:16.718243Z",
     "iopub.status.busy": "2024-03-07T17:02:16.717912Z",
     "iopub.status.idle": "2024-03-07T17:02:16.753529Z",
     "shell.execute_reply": "2024-03-07T17:02:16.752768Z",
     "shell.execute_reply.started": "2024-03-07T17:02:16.718217Z"
    }
   },
   "outputs": [
    {
     "data": {
      "text/plain": [
       "tensor([1.0000, 1.0000, 1.0000, 1.0000, 1.0000, 1.0000])"
      ]
     },
     "execution_count": 174,
     "metadata": {},
     "output_type": "execute_result"
    },
    {
     "data": {
      "text/plain": [
       "tensor([[ 2.5957e-08,  2.1212e-01,  1.7587e-01,  1.9685e-01,  2.1281e-01,  2.0235e-01],\n",
       "        [ 2.1828e-01,  0.0000e+00,  1.6968e-01,  1.8688e-01,  2.0476e-01,  2.2039e-01],\n",
       "        [ 1.9639e-01,  1.8413e-01, -1.4493e-08,  2.2842e-01,  2.0624e-01,  1.8483e-01],\n",
       "        [ 2.0548e-01,  1.8956e-01,  2.1351e-01,  0.0000e+00,  2.1067e-01,  1.8078e-01],\n",
       "        [ 2.1588e-01,  2.0186e-01,  1.8735e-01,  2.0475e-01, -2.6332e-08,  1.9016e-01],\n",
       "        [ 2.1466e-01,  2.2719e-01,  1.7558e-01,  1.8372e-01,  1.9885e-01,  0.0000e+00]])"
      ]
     },
     "execution_count": 174,
     "metadata": {},
     "output_type": "execute_result"
    }
   ],
   "source": [
    "# torch.sum(pairwise_distance_matrix, 1) ##.view(-1, 1)\n",
    "# pairwise_distance_matrix / (1.0e-8 + torch.sum(pairwise_distance_matrix, 1).view(-1, 1))\n",
    "\n",
    "sampling_probability = snnl.compute_sampling_probability(pairwise_distance_matrix)\n",
    "sampling_probability.sum(1)\n",
    "sampling_probability"
   ]
  },
  {
   "cell_type": "code",
   "execution_count": 175,
   "id": "34fa75f5-79b7-48d6-8569-fb070acb3e0d",
   "metadata": {
    "execution": {
     "iopub.execute_input": "2024-03-07T17:02:40.220986Z",
     "iopub.status.busy": "2024-03-07T17:02:40.220406Z",
     "iopub.status.idle": "2024-03-07T17:02:40.265401Z",
     "shell.execute_reply": "2024-03-07T17:02:40.264602Z",
     "shell.execute_reply.started": "2024-03-07T17:02:40.220933Z"
    }
   },
   "outputs": [
    {
     "data": {
      "text/plain": [
       "tensor([0, 0, 1, 1, 2, 2])"
      ]
     },
     "execution_count": 175,
     "metadata": {},
     "output_type": "execute_result"
    },
    {
     "data": {
      "text/plain": [
       "tensor([[0],\n",
       "        [0],\n",
       "        [1],\n",
       "        [1],\n",
       "        [2],\n",
       "        [2]])"
      ]
     },
     "execution_count": 175,
     "metadata": {},
     "output_type": "execute_result"
    },
    {
     "data": {
      "text/plain": [
       "tensor([[ True,  True, False, False, False, False],\n",
       "        [ True,  True, False, False, False, False],\n",
       "        [False, False,  True,  True, False, False],\n",
       "        [False, False,  True,  True, False, False],\n",
       "        [False, False, False, False,  True,  True],\n",
       "        [False, False, False, False,  True,  True]])"
      ]
     },
     "execution_count": 175,
     "metadata": {},
     "output_type": "execute_result"
    }
   ],
   "source": [
    "labels = torch.tensor([0,0,1,1,2,2])\n",
    "# labels +=3\n",
    "labels\n",
    "labels.unsqueeze(1)\n",
    "torch.eq(labels, labels.unsqueeze(1))"
   ]
  },
  {
   "cell_type": "code",
   "execution_count": 176,
   "id": "ee8b00c2-7e99-4ca8-84dd-26582a8e30c9",
   "metadata": {
    "execution": {
     "iopub.execute_input": "2024-03-07T17:03:10.183053Z",
     "iopub.status.busy": "2024-03-07T17:03:10.182436Z",
     "iopub.status.idle": "2024-03-07T17:03:10.223900Z",
     "shell.execute_reply": "2024-03-07T17:03:10.223078Z",
     "shell.execute_reply.started": "2024-03-07T17:03:10.183000Z"
    }
   },
   "outputs": [
    {
     "name": "stdout",
     "output_type": "stream",
     "text": [
      "masking_matrix\n",
      "tensor([[1., 1., 0., 0., 0., 0.],\n",
      "        [1., 1., 0., 0., 0., 0.],\n",
      "        [0., 0., 1., 1., 0., 0.],\n",
      "        [0., 0., 1., 1., 0., 0.],\n",
      "        [0., 0., 0., 0., 1., 1.],\n",
      "        [0., 0., 0., 0., 1., 1.]])\n",
      "masked_pick_probabliltiy\n",
      "tensor([[ 2.5957e-08,  2.1212e-01,  0.0000e+00,  0.0000e+00,  0.0000e+00,  0.0000e+00],\n",
      "        [ 2.1828e-01,  0.0000e+00,  0.0000e+00,  0.0000e+00,  0.0000e+00,  0.0000e+00],\n",
      "        [ 0.0000e+00,  0.0000e+00, -1.4493e-08,  2.2842e-01,  0.0000e+00,  0.0000e+00],\n",
      "        [ 0.0000e+00,  0.0000e+00,  2.1351e-01,  0.0000e+00,  0.0000e+00,  0.0000e+00],\n",
      "        [ 0.0000e+00,  0.0000e+00,  0.0000e+00,  0.0000e+00, -2.6332e-08,  1.9016e-01],\n",
      "        [ 0.0000e+00,  0.0000e+00,  0.0000e+00,  0.0000e+00,  1.9885e-01,  0.0000e+00]])\n"
     ]
    },
    {
     "data": {
      "text/plain": [
       "tensor([0.2121, 0.2183, 0.2284, 0.2135, 0.1902, 0.1988])"
      ]
     },
     "execution_count": 176,
     "metadata": {},
     "output_type": "execute_result"
    }
   ],
   "source": [
    "summed_masked_pick_probability = snnl.mask_sampling_probability(labels, sampling_probability)\n",
    "# summed_masked_pick_probability.sum(0)\n",
    "summed_masked_pick_probability"
   ]
  },
  {
   "cell_type": "markdown",
   "id": "f284c33e-8448-4c0a-a403-8dc1d8cc536d",
   "metadata": {},
   "source": [
    "### Predict"
   ]
  },
  {
   "cell_type": "code",
   "execution_count": null,
   "id": "0ce36c0b-6fd4-4454-8ceb-214284dd6abc",
   "metadata": {
    "jupyter": {
     "source_hidden": true
    }
   },
   "outputs": [],
   "source": [
    "test_features = test_dataset.data.reshape(-1, 784) / 255.0"
   ]
  },
  {
   "cell_type": "code",
   "execution_count": null,
   "id": "16ebac12-779c-4da2-995c-b4ecaed34828",
   "metadata": {},
   "outputs": [],
   "source": [
    "model.eval()\n",
    "model = model.cpu()"
   ]
  },
  {
   "cell_type": "code",
   "execution_count": null,
   "id": "b2d51865-d440-4488-b690-45bdf8a91c82",
   "metadata": {},
   "outputs": [],
   "source": [
    "predictions = model.predict(test_features)\n",
    "model.test_accuracy = accuracy(y_true=test_dataset.targets, y_pred=predictions)"
   ]
  },
  {
   "cell_type": "code",
   "execution_count": null,
   "id": "33c72a58-de2e-43d9-ad00-725552a38ff5",
   "metadata": {},
   "outputs": [],
   "source": [
    "print(f\"accuracy: {model.test_accuracy}%\")"
   ]
  },
  {
   "cell_type": "code",
   "execution_count": null,
   "id": "d9d7cd53-2ef8-4c46-a509-e3443f1eae20",
   "metadata": {},
   "outputs": [],
   "source": [
    "print(f\"accuracy: {model.test_accuracy}%\")"
   ]
  },
  {
   "cell_type": "code",
   "execution_count": null,
   "id": "1e80b138-e509-48bc-853f-297f1a55a8e8",
   "metadata": {},
   "outputs": [],
   "source": [
    "print(f\"accuracy: {model.test_accuracy}%\")"
   ]
  },
  {
   "cell_type": "code",
   "execution_count": null,
   "id": "f2b8338a-e430-44e7-b82d-96c3fa70cf9c",
   "metadata": {},
   "outputs": [],
   "source": [
    "filename = f\"DNN-{args.model.lower()}-{args.seed}.json\"\n",
    "export_results(model=model, filename=filename)"
   ]
  },
  {
   "cell_type": "code",
   "execution_count": null,
   "id": "b616fdcb-52ea-4743-ace6-201a48fc68ee",
   "metadata": {},
   "outputs": [],
   "source": []
  }
 ],
 "metadata": {
  "kernelspec": {
   "display_name": "Python [conda env:ptsnnl]",
   "language": "python",
   "name": "conda-env-ptsnnl-py"
  },
  "language_info": {
   "codemirror_mode": {
    "name": "ipython",
    "version": 3
   },
   "file_extension": ".py",
   "mimetype": "text/x-python",
   "name": "python",
   "nbconvert_exporter": "python",
   "pygments_lexer": "ipython3",
   "version": "3.11.0"
  },
  "toc": {
   "base_numbering": 1,
   "nav_menu": {},
   "number_sections": true,
   "sideBar": true,
   "skip_h1_title": false,
   "title_cell": "Table of Contents",
   "title_sidebar": "Contents",
   "toc_cell": false,
   "toc_position": {},
   "toc_section_display": true,
   "toc_window_display": false
  }
 },
 "nbformat": 4,
 "nbformat_minor": 5
}
