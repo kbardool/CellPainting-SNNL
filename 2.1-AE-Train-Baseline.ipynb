{
 "cells": [
  {
   "cell_type": "markdown",
   "id": "ca813a76-47b7-458b-a3d2-1e4f49079a08",
   "metadata": {},
   "source": [
    "  # Autoencoder Training - Baseline mode"
   ]
  },
  {
   "cell_type": "markdown",
   "id": "41638752-2456-4f2e-9e7e-e4039fe926a2",
   "metadata": {},
   "source": [
    "# Setup"
   ]
  },
  {
   "cell_type": "code",
   "execution_count": 1,
   "id": "11ad0ae2",
   "metadata": {
    "ExecuteTime": {
     "end_time": "2023-04-12T10:29:15.566596Z",
     "start_time": "2023-04-12T10:29:15.550232Z"
    },
    "execution": {
     "iopub.execute_input": "2024-09-23T17:41:20.832835Z",
     "iopub.status.busy": "2024-09-23T17:41:20.832345Z",
     "iopub.status.idle": "2024-09-23T17:41:20.860648Z",
     "shell.execute_reply": "2024-09-23T17:41:20.860000Z",
     "shell.execute_reply.started": "2024-09-23T17:41:20.832789Z"
    }
   },
   "outputs": [
    {
     "data": {
      "text/html": [
       "<style>.container { width:98% !important; }</style>"
      ],
      "text/plain": [
       "<IPython.core.display.HTML object>"
      ]
     },
     "metadata": {},
     "output_type": "display_data"
    }
   ],
   "source": [
    "# %pwd\n",
    "# %cd ~/WSL-shared/Cellpainting/pt-snnl/\n",
    "from IPython.display import display, HTML\n",
    "display(HTML(\"<style>.container { width:98% !important; }</style>\"))\n",
    "%load_ext autoreload  \n",
    "%autoreload 2\n",
    "from IPython.core.interactiveshell import InteractiveShell\n",
    "InteractiveShell.ast_node_interactivity = \"all\""
   ]
  },
  {
   "cell_type": "code",
   "execution_count": 2,
   "id": "bdc004bb-930c-44d4-96db-3194ba917218",
   "metadata": {
    "ExecuteTime": {
     "end_time": "2023-04-12T10:29:16.111588Z",
     "start_time": "2023-04-12T10:29:15.764305Z"
    },
    "execution": {
     "iopub.execute_input": "2024-09-23T17:41:21.017602Z",
     "iopub.status.busy": "2024-09-23T17:41:21.017237Z",
     "iopub.status.idle": "2024-09-23T17:41:23.541918Z",
     "shell.execute_reply": "2024-09-23T17:41:23.541291Z",
     "shell.execute_reply.started": "2024-09-23T17:41:21.017566Z"
    }
   },
   "outputs": [
    {
     "name": "stdout",
     "output_type": "stream",
     "text": [
      "['../..', './src', '/home/kevin/miniforge3/envs/ptsnnl/lib/python311.zip', '/home/kevin/miniforge3/envs/ptsnnl/lib/python3.11', '/home/kevin/miniforge3/envs/ptsnnl/lib/python3.11/lib-dynload', '', '/home/kevin/miniforge3/envs/ptsnnl/lib/python3.11/site-packages', '/home/kevin/miniforge3/envs/ptsnnl/lib/python3.11/site-packages/cytominer_eval-0.1-py3.11.egg']\n"
     ]
    },
    {
     "data": {
      "text/plain": [
       "4"
      ]
     },
     "execution_count": 2,
     "metadata": {},
     "output_type": "execute_result"
    }
   ],
   "source": [
    "import os\n",
    "import sys\n",
    "import csv\n",
    "import json\n",
    "import time\n",
    "import pprint\n",
    "import logging\n",
    "from datetime import datetime\n",
    "for p in ['./src','../..']:\n",
    "    if p not in sys.path:\n",
    "        # print(f\"insert {p}\")\n",
    "        sys.path.insert(0, p)\n",
    "print(sys.path)\n",
    "from typing import Dict, List, Tuple\n",
    "\n",
    "\n",
    "from matplotlib import pyplot as plt\n",
    "import numpy as np\n",
    "import pandas as pd\n",
    "import scipy\n",
    "from scipy.sparse import csr_matrix\n",
    "import torch\n",
    "from tqdm import tqdm\n",
    "import torch.nn.functional as F\n",
    "from torchinfo import summary\n",
    "import wandb\n",
    "\n",
    "\n",
    "pp = pprint.PrettyPrinter(indent=4)\n",
    "pd.options.display.width = 132\n",
    "torch.set_printoptions(precision=None, threshold=None, edgeitems=None, linewidth=150, profile=None, sci_mode=None)\n",
    "np.set_printoptions(edgeitems=3, infstr='inf', linewidth=150, nanstr='nan')\n",
    "\n",
    "os.environ[\"WANDB_NOTEBOOK_NAME\"] = \"AE-BASE-MAIN.ipynb\"\n",
    "# os.environ[\"CUDA_LAUNCH_BLOCKING\"] = \"1\"\n",
    "# os.environ[\"CUDA_VISIBLE_DEVICES\"] = \"1\"\n",
    "torch.set_num_threads(4)  ## <--- limit to ~ 2 CPUs\n",
    "torch.get_num_threads()"
   ]
  },
  {
   "cell_type": "code",
   "execution_count": 7,
   "id": "7f45acf9-2472-41d7-b393-36df9c4aa72d",
   "metadata": {
    "ExecuteTime": {
     "end_time": "2023-04-12T10:29:16.111588Z",
     "start_time": "2023-04-12T10:29:15.764305Z"
    },
    "execution": {
     "iopub.execute_input": "2024-09-23T17:42:38.081487Z",
     "iopub.status.busy": "2024-09-23T17:42:38.080991Z",
     "iopub.status.idle": "2024-09-23T17:42:38.129367Z",
     "shell.execute_reply": "2024-09-23T17:42:38.128840Z",
     "shell.execute_reply.started": "2024-09-23T17:42:38.081443Z"
    }
   },
   "outputs": [],
   "source": [
    "from KevinsRoutines.utils.utils_wandb import init_wandb, wandb_log_metrics,wandb_watch\n",
    "from KevinsRoutines.utils.utils_general import list_namespace\n",
    "import snnl.utils as utils\n",
    "\n",
    "# from snnl.utils import load_model, save_model, import_results, export_results\n",
    "from snnl.utils import parse_args, load_configuration, set_global_seed, get_device, set_device\n",
    "from snnl.utils import display_model_summary, define_autoencoder_model, init_resume_training\n",
    "from snnl.utils import save_checkpoint_v5, load_checkpoint_v5\n",
    "from snnl.utils import plot_model_parms, plot_train_history, plot_classification_metrics, plot_regression_metrics\n",
    "from snnl.utils import display_model_summary, display_model_hyperparameters, display_model_gradients, display_model_parameters\n",
    "from snnl.utils import display_epoch_metrics, display_cellpainting_batch, display_model_state_dict\n",
    "from snnl.utils import define_autoencoder_model, init_resume_training\n",
    "\n",
    "from snnl.models import Model\n",
    "from snnl.models import DNN \n",
    "from snnl.models import Autoencoder\n",
    "from snnl.losses import SNNLoss"
   ]
  },
  {
   "cell_type": "code",
   "execution_count": 8,
   "id": "368ed77e-7d0b-4b4f-95be-1e133d735833",
   "metadata": {
    "execution": {
     "iopub.execute_input": "2024-09-23T17:42:42.593524Z",
     "iopub.status.busy": "2024-09-23T17:42:42.593010Z",
     "iopub.status.idle": "2024-09-23T17:42:42.639175Z",
     "shell.execute_reply": "2024-09-23T17:42:42.638431Z",
     "shell.execute_reply.started": "2024-09-23T17:42:42.593478Z"
    }
   },
   "outputs": [
    {
     "name": "stderr",
     "output_type": "stream",
     "text": [
      "2024-09-23 19:42:42,633 - __main__ - INFO: -  Excution started : 2024_09_23_19:42:42 \n",
      "2024-09-23 19:42:42,634 - __main__ - INFO: -  Pytorch version  : 2.2.2  \t\t Number of threads: 4\n",
      "2024-09-23 19:42:42,636 - __main__ - INFO: -  WandB version    : 0.17.4  \t\t Pandas version: 2.2.1  \n"
     ]
    }
   ],
   "source": [
    "timestamp = datetime.now().strftime('%Y_%m_%d_%H:%M:%S')\n",
    "logger = logging.getLogger(__name__) \n",
    "logLevel = os.environ.get('LOG_LEVEL', 'INFO').upper()\n",
    "FORMAT = '%(asctime)s - %(name)s - %(levelname)s: - %(message)s'\n",
    "logging.basicConfig(level=\"INFO\", format= FORMAT)\n",
    "\n",
    "logger.info(f\" Excution started : {timestamp} \")\n",
    "logger.info(f\" Pytorch version  : {torch.__version__}  \\t\\t Number of threads: {torch.get_num_threads()}\")\n",
    "# logger.info(f\" Scipy version    : {scipy.__version__}  \\t\\t Numpy version : {np.__version__}\")\n",
    "logger.info(f\" WandB version    : {wandb.__version__}  \\t\\t Pandas version: {pd.__version__}  \")\n",
    "# logger.info(f\" Search path      : {sys.path}\")"
   ]
  },
  {
   "cell_type": "markdown",
   "id": "1be5e789-3446-482f-a3ca-fdd19b2a845e",
   "metadata": {},
   "source": [
    "### main(args)"
   ]
  },
  {
   "cell_type": "code",
   "execution_count": 9,
   "id": "8a7f8563-b6fb-4f00-84a2-5339e5f6b35c",
   "metadata": {
    "execution": {
     "iopub.execute_input": "2024-09-23T17:42:44.357759Z",
     "iopub.status.busy": "2024-09-23T17:42:44.357171Z",
     "iopub.status.idle": "2024-09-23T17:42:44.400423Z",
     "shell.execute_reply": "2024-09-23T17:42:44.399793Z",
     "shell.execute_reply.started": "2024-09-23T17:42:44.357716Z"
    }
   },
   "outputs": [],
   "source": [
    "GPU_ID = 1\n",
    "LATENT_DIM    = 150\n",
    "HIDDEN_1      = 512\n",
    "EPOCHS        = 100\n",
    "LEARNING_RATE = 1.00e-03\n",
    "# TEMP          = 1.00\n",
    "# TEMP_LR       = 0.00   ##1.0e-05\n",
    "# SNNL_FACTOR   = 3.0\n",
    "\n",
    "COMPOUNDS_PER_BATCH = 600\n",
    "ADAM_WEIGHT_DECAY = 0.001\n",
    "\n",
    "# LOAD_EPOCH = 100\n",
    "# RUN_DATETIME = \"20240917_2017\"\n",
    "# CHECKPT = f\"AE_base_scpb{COMPOUNDS_PER_BATCH}_{LATENT_DIM}Ltnt_{HIDDEN_1}_{RUN_DATETIME}_LAST_ep_{LOAD_EPOCH:03d}.pt\"\n",
    "# CHECKPT = \"AE_snnl_dcpb200_150Ltnt_512_20240709_2235_LAST_ep_700.pt\"\n",
    "# RUN_ID        = \"pbx3lu17\"\n",
    "# print(CHECKPT)"
   ]
  },
  {
   "cell_type": "code",
   "execution_count": 11,
   "id": "3fa81fd0-0c99-4cac-89bf-27e538b16c60",
   "metadata": {
    "execution": {
     "iopub.execute_input": "2024-09-23T17:43:57.577803Z",
     "iopub.status.busy": "2024-09-23T17:43:57.577240Z",
     "iopub.status.idle": "2024-09-23T17:43:57.643724Z",
     "shell.execute_reply": "2024-09-23T17:43:57.643054Z",
     "shell.execute_reply.started": "2024-09-23T17:43:57.577760Z"
    }
   },
   "outputs": [
    {
     "data": {
      "text/plain": [
       "Namespace(configuration='hyperparameters/ae_baseline_150_512_cpb.yaml', ckpt=None, cpb=600, exp_title=None, epochs=100, gpu_id=1, learning_rate=0.001, exp_id=None, runmode='baseline', random_seed=4321, use_prim_optimizer=True, use_temp_optimizer=False, use_annealing=False, anneal_patience=15, use_single_loss=True, temperature=None, adam_weight_decay=0.001, loss_factor=None, snnl_factor=None, temperatureLR=None, WANDB_ACTIVE=True)"
      ]
     },
     "execution_count": 11,
     "metadata": {},
     "output_type": "execute_result"
    },
    {
     "name": "stderr",
     "output_type": "stream",
     "text": [
      "2024-09-23 19:43:57,625 - snnl.utils.utils_ptsnnl - INFO: -  command line param configuration             : [hyperparameters/ae_baseline_150_512_cpb.yaml]\n",
      "2024-09-23 19:43:57,626 - snnl.utils.utils_ptsnnl - INFO: -  command line param ckpt                      : [None]\n",
      "2024-09-23 19:43:57,627 - snnl.utils.utils_ptsnnl - INFO: -  command line param cpb                       : [600]\n",
      "2024-09-23 19:43:57,627 - snnl.utils.utils_ptsnnl - INFO: -  command line param exp_title                 : [None]\n",
      "2024-09-23 19:43:57,628 - snnl.utils.utils_ptsnnl - INFO: -  command line param epochs                    : [100]\n",
      "2024-09-23 19:43:57,628 - snnl.utils.utils_ptsnnl - INFO: -  command line param gpu_id                    : [1]\n",
      "2024-09-23 19:43:57,629 - snnl.utils.utils_ptsnnl - INFO: -  command line param learning_rate             : [0.001]\n",
      "2024-09-23 19:43:57,629 - snnl.utils.utils_ptsnnl - INFO: -  command line param exp_id                    : [None]\n",
      "2024-09-23 19:43:57,630 - snnl.utils.utils_ptsnnl - INFO: -  command line param runmode                   : [baseline]\n",
      "2024-09-23 19:43:57,630 - snnl.utils.utils_ptsnnl - INFO: -  command line param random_seed               : [4321]\n",
      "2024-09-23 19:43:57,631 - snnl.utils.utils_ptsnnl - INFO: -  command line param use_prim_optimizer        : [True]\n",
      "2024-09-23 19:43:57,631 - snnl.utils.utils_ptsnnl - INFO: -  command line param use_temp_optimizer        : [False]\n",
      "2024-09-23 19:43:57,632 - snnl.utils.utils_ptsnnl - INFO: -  command line param use_annealing             : [False]\n",
      "2024-09-23 19:43:57,633 - snnl.utils.utils_ptsnnl - INFO: -  command line param anneal_patience           : [15]\n",
      "2024-09-23 19:43:57,633 - snnl.utils.utils_ptsnnl - INFO: -  command line param use_single_loss           : [True]\n",
      "2024-09-23 19:43:57,634 - snnl.utils.utils_ptsnnl - INFO: -  command line param temperature               : [None]\n",
      "2024-09-23 19:43:57,634 - snnl.utils.utils_ptsnnl - INFO: -  command line param adam_weight_decay         : [0.001]\n",
      "2024-09-23 19:43:57,635 - snnl.utils.utils_ptsnnl - INFO: -  command line param loss_factor               : [None]\n",
      "2024-09-23 19:43:57,635 - snnl.utils.utils_ptsnnl - INFO: -  command line param snnl_factor               : [None]\n",
      "2024-09-23 19:43:57,636 - snnl.utils.utils_ptsnnl - INFO: -  command line param temperatureLR             : [None]\n",
      "2024-09-23 19:43:57,636 - snnl.utils.utils_ptsnnl - INFO: -  command line param WANDB_ACTIVE              : [True]\n",
      "2024-09-23 19:43:57,637 - snnl.utils.utils_ptsnnl - INFO: -  command line param exp_title                 : [scpb600_150Ltnt_512]\n",
      "2024-09-23 19:43:57,638 - snnl.utils.utils_ptsnnl - INFO: -  command line param exp_description           : [AE baseline - SnglOpt, latent: 150, hidden_1: 512, cpb: 600]\n"
     ]
    }
   ],
   "source": [
    "# if __name__ == \"__main__\":\n",
    "cli_args = f\" --runmode             baseline\" \\\n",
    "            f\" --configuration      hyperparameters/ae_baseline_{LATENT_DIM:03d}_{HIDDEN_1}_cpb.yaml\" \\\n",
    "            f\" --epochs             {EPOCHS} \" \\\n",
    "            f\" --single_loss        \"\\\n",
    "            f\" --prim_opt           \"\\\n",
    "            f\" --adam_wd            {ADAM_WEIGHT_DECAY}\"\\\n",
    "            f\" --lr                 {LEARNING_RATE} \"\\\n",
    "            f\" --cpb                {COMPOUNDS_PER_BATCH}\"\\\n",
    "            f\" --seed               4321\"\\\n",
    "            f\" --gpu_id             {GPU_ID} \"  \\\n",
    "            f\" --wandb              \"\\\n",
    "            f\" \"\n",
    "            # f\" --run_id             {RUN_ID} \" \\\n",
    "            # f\" --ckpt               {CHECKPT}\" \\\n",
    "# f\" --exp_title           snglOpt-050Ltnt_512_sig \"\n",
    "# f\" --runmode            snnl\" \\\n",
    "\n",
    "cli_args = parse_args(cli_args.split())\n",
    "cli_args \n",
    "\n",
    "args = load_configuration(cli_args)\n",
    "args.ckpt"
   ]
  },
  {
   "cell_type": "code",
   "execution_count": 12,
   "id": "7c84f06b-3f6c-46db-a768-aa1b4504c817",
   "metadata": {
    "execution": {
     "iopub.execute_input": "2024-09-23T17:44:15.269493Z",
     "iopub.status.busy": "2024-09-23T17:44:15.268899Z",
     "iopub.status.idle": "2024-09-23T17:44:15.312398Z",
     "shell.execute_reply": "2024-09-23T17:44:15.311869Z",
     "shell.execute_reply.started": "2024-09-23T17:44:15.269449Z"
    }
   },
   "outputs": [
    {
     "name": "stdout",
     "output_type": "stream",
     "text": [
      "\n",
      "command line parms : \n",
      "-----------------------\n",
      "SGD_momentum.............  0\n",
      "SGD_weight_decay.........  0\n",
      "WANDB_ACTIVE.............  True\n",
      "adam_weight_decay........  0.001\n",
      "anneal_patience..........  15\n",
      "batch_size...............  1\n",
      "\n",
      "    cellpainting_args   (dict)\n",
      "    ----------------------------\n",
      "    batch_size...............  1\n",
      "    chunksize................  None\n",
      "    compounds_per_batch......  600\n",
      "    conversions..............  None\n",
      "    iterator.................  True\n",
      "    sample_size..............  3\n",
      "    test_end.................  33600\n",
      "    test_path................  /home/kevin/WSL-shared/cellpainting/cj-datasets/output_11102023/3_sample_profiles/3sample_profiles_1482_HashOrder_test.csv\n",
      "    test_start...............  30000\n",
      "    train_end................  240000\n",
      "    train_start..............  0\n",
      "    training_path............  /home/kevin/WSL-shared/cellpainting/cj-datasets/output_11102023/3_sample_profiles/3sample_profiles_1482_HashOrder.csv\n",
      "    val_end..................  24000\n",
      "    val_start................  0\n",
      "    validation_path..........  /home/kevin/WSL-shared/cellpainting/cj-datasets/output_11102023/3_sample_profiles/3sample_profiles_1482_HashOrder_test.csv\n",
      "\n",
      "ckpt.....................  None\n",
      "code_units...............  150\n",
      "configuration............  hyperparameters/ae_baseline_150_512_cpb.yaml\n",
      "cpb......................  600\n",
      "dataset..................  cellpainting\n",
      "embedding_layer..........  4\n",
      "epochs...................  100\n",
      "exp_date.................  20240923_1943\n",
      "exp_description..........  AE baseline - SnglOpt, latent: 150, hidden_1: 512, cpb: 600\n",
      "exp_folder...............  None\n",
      "exp_id...................  None\n",
      "exp_name.................  AE_20240923_1943\n",
      "exp_name_pfx.............  None\n",
      "exp_title................  scpb600_150Ltnt_512\n",
      "folder_sfx...............  None\n",
      "gpu_id...................  1\n",
      "hidden_1.................  512\n",
      "input_shape..............  1471\n",
      "learning_rate............  0.001\n",
      "loss_factor..............  1.0\n",
      "\n",
      "    paths   (dict)\n",
      "    ----------------\n",
      "    checkpoint_dir...........  ./ckpt\n",
      "    log_dir..................  ./logs\n",
      "    result_dir...............  ./results\n",
      "\n",
      "project_name.............  CellPainting_Profiles\n",
      "random_seed..............  4321\n",
      "runmode..................  baseline\n",
      "save_every...............  100\n",
      "show_every...............  1\n",
      "snnl_factor..............  0.0\n",
      "temperature..............  0.0\n",
      "temperatureLR............  0.0\n",
      "units....................  [['linear', 1471, 1024], ['relu', 0, 0], ['linear', 1024, 512], ['relu', 0, 0], ['linear', 512, 150], ['linear', 150, 512], ['relu', 0, 0], ['linear', 512, 1024], ['relu', 0, 0], ['linear', 1024, 1471]]\n",
      "use_annealing............  False\n",
      "use_prim_optimizer.......  True\n",
      "use_prim_scheduler.......  True\n",
      "use_single_loss..........  True\n",
      "use_sum..................  False\n",
      "use_temp_optimizer.......  False\n",
      "use_temp_scheduler.......  False\n",
      "\n"
     ]
    }
   ],
   "source": [
    "list_namespace(args)"
   ]
  },
  {
   "cell_type": "code",
   "execution_count": 13,
   "id": "1800e62a",
   "metadata": {
    "execution": {
     "iopub.execute_input": "2024-09-23T17:44:17.326153Z",
     "iopub.status.busy": "2024-09-23T17:44:17.325771Z",
     "iopub.status.idle": "2024-09-23T17:44:17.959467Z",
     "shell.execute_reply": "2024-09-23T17:44:17.958924Z",
     "shell.execute_reply.started": "2024-09-23T17:44:17.326132Z"
    }
   },
   "outputs": [
    {
     "name": "stdout",
     "output_type": "stream",
     "text": [
      " device: 0   Quadro GV100                   :  free: 33,744,814,080 B   (31.43 GB)    total: 34,069,872,640 B   (31.73 GB)\n",
      " device: 1   Quadro GV100                   :  free: 33,266,663,424 B   (30.98 GB)    total: 34,069,872,640 B   (31.73 GB)\n",
      " device: 2   NVIDIA TITAN Xp                :  free: 12,382,240,768 B   (11.53 GB)    total: 12,774,539,264 B   (11.90 GB)\n"
     ]
    },
    {
     "name": "stderr",
     "output_type": "stream",
     "text": [
      "2024-09-23 19:44:17,953 - snnl.utils.utils_ptsnnl - INFO: -  Current CUDA Device is:  cuda:0 - Quadro GV100\n",
      "2024-09-23 19:44:17,954 - snnl.utils.utils_ptsnnl - INFO: -  Switched to: Quadro GV100 - 1\n"
     ]
    },
    {
     "name": "stdout",
     "output_type": "stream",
     "text": [
      " args.current_device is : cuda:1\n"
     ]
    }
   ],
   "source": [
    "### Set random seed and gpu device\n",
    "set_global_seed(args.random_seed)\n",
    "if args.ckpt is not None:\n",
    "    if os.path.exists(os.path.join('ckpts', args.ckpt)):\n",
    "        logger.info(f\"Checkpoint {args.ckpt} found\")\n",
    "        logger.info(f\"Resuming training using checkpoint: {args.ckpt}\")\n",
    "    else:\n",
    "        logger.error(f\"*** Checkpoint {args.ckpt} not found *** \\n\")\n",
    "        raise ValueError(f\"\\n *** Checkpoint DOESNT EXIST *** \\n\")\n",
    "\n",
    "if args.gpu_id is not None:\n",
    "    _ = get_device(verbose=True)\n",
    "    args.current_device = set_device(args.gpu_id)\n",
    "    print(f\" args.current_device is : {args.current_device}\")"
   ]
  },
  {
   "cell_type": "markdown",
   "id": "12b31eff-3eb0-419e-81a8-56419384a1a6",
   "metadata": {},
   "source": [
    " ### WandB Setup"
   ]
  },
  {
   "cell_type": "code",
   "execution_count": 14,
   "id": "e054710a-6ee6-47ab-a2cc-3030fb543be4",
   "metadata": {
    "execution": {
     "iopub.execute_input": "2024-09-23T17:44:20.219468Z",
     "iopub.status.busy": "2024-09-23T17:44:20.219040Z",
     "iopub.status.idle": "2024-09-23T17:44:26.151431Z",
     "shell.execute_reply": "2024-09-23T17:44:26.150352Z",
     "shell.execute_reply.started": "2024-09-23T17:44:20.219432Z"
    }
   },
   "outputs": [
    {
     "name": "stderr",
     "output_type": "stream",
     "text": [
      "2024-09-23 19:44:20,258 - snnl.utils.utils_notebook - INFO: - ***** Initialize NEW  W&B Run *****\n",
      "\u001b[34m\u001b[1mwandb\u001b[0m: \u001b[33mWARNING\u001b[0m WANDB_NOTEBOOK_NAME should be a path to a notebook file, couldn't find AE-BASE-MAIN.ipynb.\n"
     ]
    },
    {
     "name": "stdout",
     "output_type": "stream",
     "text": [
      "None, AE_20240923_1943, CellPainting_Profiles\n"
     ]
    },
    {
     "name": "stderr",
     "output_type": "stream",
     "text": [
      "\u001b[34m\u001b[1mwandb\u001b[0m: Currently logged in as: \u001b[33mkbardool\u001b[0m. Use \u001b[1m`wandb login --relogin`\u001b[0m to force relogin\n"
     ]
    },
    {
     "data": {
      "text/html": [
       "wandb version 0.18.1 is available!  To upgrade, please run:\n",
       " $ pip install wandb --upgrade"
      ],
      "text/plain": [
       "<IPython.core.display.HTML object>"
      ]
     },
     "metadata": {},
     "output_type": "display_data"
    },
    {
     "data": {
      "text/html": [
       "Tracking run with wandb version 0.17.4"
      ],
      "text/plain": [
       "<IPython.core.display.HTML object>"
      ]
     },
     "metadata": {},
     "output_type": "display_data"
    },
    {
     "data": {
      "text/html": [
       "Run data is saved locally in <code>/home/kevin/WSL-shared/cellpainting/pt-snnl/wandb/run-20240923_194421-562ayd0o</code>"
      ],
      "text/plain": [
       "<IPython.core.display.HTML object>"
      ]
     },
     "metadata": {},
     "output_type": "display_data"
    },
    {
     "data": {
      "text/html": [
       "Syncing run <strong><a href='https://wandb.ai/kbardool/CellPainting_Profiles/runs/562ayd0o' target=\"_blank\">AE_20240923_1943</a></strong> to <a href='https://wandb.ai/kbardool/CellPainting_Profiles' target=\"_blank\">Weights & Biases</a> (<a href='https://wandb.me/run' target=\"_blank\">docs</a>)<br/>"
      ],
      "text/plain": [
       "<IPython.core.display.HTML object>"
      ]
     },
     "metadata": {},
     "output_type": "display_data"
    },
    {
     "data": {
      "text/html": [
       " View project at <a href='https://wandb.ai/kbardool/CellPainting_Profiles' target=\"_blank\">https://wandb.ai/kbardool/CellPainting_Profiles</a>"
      ],
      "text/plain": [
       "<IPython.core.display.HTML object>"
      ]
     },
     "metadata": {},
     "output_type": "display_data"
    },
    {
     "data": {
      "text/html": [
       " View run at <a href='https://wandb.ai/kbardool/CellPainting_Profiles/runs/562ayd0o' target=\"_blank\">https://wandb.ai/kbardool/CellPainting_Profiles/runs/562ayd0o</a>"
      ],
      "text/plain": [
       "<IPython.core.display.HTML object>"
      ]
     },
     "metadata": {},
     "output_type": "display_data"
    },
    {
     "name": "stderr",
     "output_type": "stream",
     "text": [
      "2024-09-23 19:44:26,135 - snnl.utils.utils_notebook - INFO: -  Experiment Name  : AE_20240923_1943\n",
      "2024-09-23 19:44:26,136 - snnl.utils.utils_notebook - INFO: -  Experiment Date  : 20240923_1943\n",
      "2024-09-23 19:44:26,137 - snnl.utils.utils_notebook - INFO: - ***** Initialize NEW  W&B Run *****\n",
      "2024-09-23 19:44:26,139 - snnl.utils.utils_notebook - INFO: - WANDB_ACTIVE     : True\n",
      "2024-09-23 19:44:26,139 - snnl.utils.utils_notebook - INFO: - Project Name     : CellPainting_Profiles\n",
      "2024-09-23 19:44:26,140 - snnl.utils.utils_notebook - INFO: - Experiment Id    : 562ayd0o\n",
      "2024-09-23 19:44:26,141 - snnl.utils.utils_notebook - INFO: - Experiment Name  : AE_20240923_1943\n",
      "2024-09-23 19:44:26,142 - snnl.utils.utils_notebook - INFO: - Experiment Date  : 20240923_1943\n",
      "2024-09-23 19:44:26,143 - snnl.utils.utils_notebook - INFO: - Experiment Title : scpb600_150Ltnt_512\n",
      "2024-09-23 19:44:26,144 - snnl.utils.utils_notebook - INFO: - Experiment Notes : AE baseline - SnglOpt, latent: 150, hidden_1: 512, cpb: 600\n"
     ]
    }
   ],
   "source": [
    "wandb_run = utils.setup_wandb(args)"
   ]
  },
  {
   "cell_type": "code",
   "execution_count": 15,
   "id": "0e43cfd4-838e-48cf-95b4-7de2a2e0c010",
   "metadata": {
    "execution": {
     "iopub.execute_input": "2024-09-23T17:45:09.311800Z",
     "iopub.status.busy": "2024-09-23T17:45:09.311307Z",
     "iopub.status.idle": "2024-09-23T17:45:09.353713Z",
     "shell.execute_reply": "2024-09-23T17:45:09.352974Z",
     "shell.execute_reply.started": "2024-09-23T17:45:09.311761Z"
    }
   },
   "outputs": [],
   "source": [
    "# if args.WANDB_ACTIVE:\n",
    "#     wandb_run.finish()\n",
    "#     args.WANDB_ACTIVE = False"
   ]
  },
  {
   "cell_type": "markdown",
   "id": "4dcd0157-5997-45ac-8703-e1c46e2a3378",
   "metadata": {},
   "source": [
    "  ### Define dataset and dataloaders"
   ]
  },
  {
   "cell_type": "code",
   "execution_count": 16,
   "id": "83b17ba6-205d-47c5-9e17-36d53fb1df17",
   "metadata": {
    "execution": {
     "iopub.execute_input": "2024-09-23T17:45:12.489933Z",
     "iopub.status.busy": "2024-09-23T17:45:12.489453Z",
     "iopub.status.idle": "2024-09-23T17:45:12.533840Z",
     "shell.execute_reply": "2024-09-23T17:45:12.533134Z",
     "shell.execute_reply.started": "2024-09-23T17:45:12.489893Z"
    }
   },
   "outputs": [
    {
     "data": {
      "text/plain": [
       "{'sample_size': 3,\n",
       " 'batch_size': 1,\n",
       " 'compounds_per_batch': 600,\n",
       " 'training_path': '/home/kevin/WSL-shared/cellpainting/cj-datasets/output_11102023/3_sample_profiles/3sample_profiles_1482_HashOrder.csv',\n",
       " 'validation_path': '/home/kevin/WSL-shared/cellpainting/cj-datasets/output_11102023/3_sample_profiles/3sample_profiles_1482_HashOrder_test.csv',\n",
       " 'test_path': '/home/kevin/WSL-shared/cellpainting/cj-datasets/output_11102023/3_sample_profiles/3sample_profiles_1482_HashOrder_test.csv',\n",
       " 'train_start': 0,\n",
       " 'train_end': 240000,\n",
       " 'val_start': 0,\n",
       " 'val_end': 24000,\n",
       " 'test_start': 30000,\n",
       " 'test_end': 33600,\n",
       " 'chunksize': None,\n",
       " 'conversions': None,\n",
       " 'iterator': True}"
      ]
     },
     "execution_count": 16,
     "metadata": {},
     "output_type": "execute_result"
    }
   ],
   "source": [
    "args.cellpainting_args"
   ]
  },
  {
   "cell_type": "code",
   "execution_count": 17,
   "id": "14afca33-8db9-45b2-88d4-11770e8fa2fd",
   "metadata": {
    "execution": {
     "iopub.execute_input": "2024-09-23T17:46:05.277651Z",
     "iopub.status.busy": "2024-09-23T17:46:05.277200Z",
     "iopub.status.idle": "2024-09-23T17:46:05.320768Z",
     "shell.execute_reply": "2024-09-23T17:46:05.320034Z",
     "shell.execute_reply.started": "2024-09-23T17:46:05.277611Z"
    }
   },
   "outputs": [],
   "source": [
    "# ## total rows = 346,542\n",
    "# ## Validation :  24,542\n",
    "# ## Train :      312,000 \n",
    "args.cellpainting_args['training_path'] = '/home/kevin/WSL-shared/cellpainting/cj-datasets/output_11102023/3_sample_profiles/3sample_profiles_1482_HashOrder_all.csv'\n",
    "args.cellpainting_args['train_start'] = 0 \n",
    "args.cellpainting_args['train_end'] = 324_000\n",
    "\n",
    "args.cellpainting_args['validation_path'] = '/home/kevin/WSL-shared/cellpainting/cj-datasets/output_11102023/3_sample_profiles/3sample_profiles_1482_HashOrder_all.csv'\n",
    "args.cellpainting_args['val_start'] = 324_000\n",
    "args.cellpainting_args['val_end'] = 346_542"
   ]
  },
  {
   "cell_type": "code",
   "execution_count": 18,
   "id": "5e729bc7-0e10-4bb7-b73a-46cbd82f7355",
   "metadata": {
    "execution": {
     "iopub.execute_input": "2024-09-23T17:46:12.767535Z",
     "iopub.status.busy": "2024-09-23T17:46:12.767111Z",
     "iopub.status.idle": "2024-09-23T17:46:12.835953Z",
     "shell.execute_reply": "2024-09-23T17:46:12.835303Z",
     "shell.execute_reply.started": "2024-09-23T17:46:12.767501Z"
    },
    "scrolled": true
   },
   "outputs": [
    {
     "name": "stderr",
     "output_type": "stream",
     "text": [
      "2024-09-23 19:46:12,805 - root - INFO: -  load cellpainting\n",
      "2024-09-23 19:46:12,807 - snnl.utils.dataloader - INFO: -  Building CellPantingDataset for train\n",
      "2024-09-23 19:46:12,808 - snnl.utils.dataloader - INFO: -  filename:  /home/kevin/WSL-shared/cellpainting/cj-datasets/output_11102023/3_sample_profiles/3sample_profiles_1482_HashOrder_all.csv\n",
      "2024-09-23 19:46:12,809 - snnl.utils.dataloader - INFO: -  type    :  train\n",
      "2024-09-23 19:46:12,809 - snnl.utils.dataloader - INFO: -  start   :  0\n",
      "2024-09-23 19:46:12,810 - snnl.utils.dataloader - INFO: -  end     :  324000\n",
      "2024-09-23 19:46:12,811 - snnl.utils.dataloader - INFO: -  numrows :  324000\n",
      "2024-09-23 19:46:12,812 - snnl.utils.dataloader - INFO: -  names   :  None     usecols :  None\n",
      "2024-09-23 19:46:12,813 - snnl.utils.dataloader - INFO: -  batch_size  :  1\n",
      "2024-09-23 19:46:12,813 - snnl.utils.dataloader - INFO: -  sample_size :  3\n",
      "2024-09-23 19:46:12,814 - snnl.utils.dataloader - INFO: -  compounds_per_batch :  600\n",
      "2024-09-23 19:46:12,815 - snnl.utils.dataloader - INFO: -  chunksize  (rows per minibatch) :  1800\n",
      "2024-09-23 19:46:12,816 - snnl.utils.dataloader - INFO: -  Each mini-batch contains 600.0 compounds with 3 samples per compound : total 1800 rows\n",
      "2024-09-23 19:46:12,817 - snnl.utils.dataloader - INFO: -  Number of 1800 row full size batches per epoch: 180\n",
      "2024-09-23 19:46:12,818 - snnl.utils.dataloader - INFO: -  Rows covered by 180 full size batches (1800 rows) per epoch:  324000\n",
      "2024-09-23 19:46:12,820 - snnl.utils.dataloader - INFO: -  Last partial batch contains : 0 rows\n",
      "2024-09-23 19:46:12,820 - snnl.utils.dataloader - INFO: -  \n",
      "2024-09-23 19:46:12,822 - snnl.utils.dataloader - INFO: -  Building CellPantingDataset for val\n",
      "2024-09-23 19:46:12,822 - snnl.utils.dataloader - INFO: -  filename:  /home/kevin/WSL-shared/cellpainting/cj-datasets/output_11102023/3_sample_profiles/3sample_profiles_1482_HashOrder_all.csv\n",
      "2024-09-23 19:46:12,823 - snnl.utils.dataloader - INFO: -  type    :  val\n",
      "2024-09-23 19:46:12,823 - snnl.utils.dataloader - INFO: -  start   :  324000\n",
      "2024-09-23 19:46:12,824 - snnl.utils.dataloader - INFO: -  end     :  346542\n",
      "2024-09-23 19:46:12,825 - snnl.utils.dataloader - INFO: -  numrows :  22542\n",
      "2024-09-23 19:46:12,825 - snnl.utils.dataloader - INFO: -  names   :  None     usecols :  None\n",
      "2024-09-23 19:46:12,826 - snnl.utils.dataloader - INFO: -  batch_size  :  1\n",
      "2024-09-23 19:46:12,827 - snnl.utils.dataloader - INFO: -  sample_size :  3\n",
      "2024-09-23 19:46:12,827 - snnl.utils.dataloader - INFO: -  compounds_per_batch :  600\n",
      "2024-09-23 19:46:12,828 - snnl.utils.dataloader - INFO: -  chunksize  (rows per minibatch) :  1800\n",
      "2024-09-23 19:46:12,829 - snnl.utils.dataloader - INFO: -  Each mini-batch contains 600.0 compounds with 3 samples per compound : total 1800 rows\n",
      "2024-09-23 19:46:12,829 - snnl.utils.dataloader - INFO: -  Number of 1800 row full size batches per epoch: 12\n",
      "2024-09-23 19:46:12,830 - snnl.utils.dataloader - INFO: -  Rows covered by 12 full size batches (1800 rows) per epoch:  21600\n",
      "2024-09-23 19:46:12,831 - snnl.utils.dataloader - INFO: -  Last partial batch contains : 942 rows\n",
      "2024-09-23 19:46:12,831 - snnl.utils.dataloader - INFO: -  \n"
     ]
    },
    {
     "name": "stdout",
     "output_type": "stream",
     "text": [
      " load cellpainting\n",
      " Dataset size: 324000   rows per batch: 1800\n",
      " Dataset size: 22542   rows per batch: 1800\n"
     ]
    }
   ],
   "source": [
    "#### Load CellPainting Dataset\n",
    "data_loaders = utils.build_dataloaders(args, data = ['train', 'val'])"
   ]
  },
  {
   "cell_type": "code",
   "execution_count": 19,
   "id": "6c381ca4-d301-4c3e-8f52-a20db041ffb9",
   "metadata": {
    "execution": {
     "iopub.execute_input": "2024-09-23T17:46:18.637873Z",
     "iopub.status.busy": "2024-09-23T17:46:18.637409Z",
     "iopub.status.idle": "2024-09-23T17:46:18.682401Z",
     "shell.execute_reply": "2024-09-23T17:46:18.681802Z",
     "shell.execute_reply.started": "2024-09-23T17:46:18.637833Z"
    }
   },
   "outputs": [
    {
     "name": "stdout",
     "output_type": "stream",
     "text": [
      " Minibatch size :   1800\n",
      " len of train data loader:  324000   number of batches:  180    last batch:    0\n",
      " len of valid data loader:   22542   number of batches:   12    last batch:  942\n"
     ]
    }
   ],
   "source": [
    "# -----------------------------------------\n",
    "#  Count pos/neg labels in each dataset\n",
    "# -----------------------------------------  \n",
    "MINIBATCH_SIZE = args.cellpainting_args['sample_size'] * args.cellpainting_args['compounds_per_batch']\n",
    "train_minibatches = len(data_loaders['train']) // MINIBATCH_SIZE\n",
    "val_minibatches = len(data_loaders['val']) // MINIBATCH_SIZE\n",
    "# test_minibatches = len(data_loader['test']) // MINIBATCH_SIZE\n",
    "print(f\" Minibatch size : {MINIBATCH_SIZE:6d}\") \n",
    "print(f\" len of train data loader: {len(data_loaders['train']):7d}   number of batches: {train_minibatches:4d}    last batch: {len(data_loaders['train']) % MINIBATCH_SIZE:4d}\")\n",
    "print(f\" len of valid data loader: {len(data_loaders['val']):7d}   number of batches: {val_minibatches:4d}    last batch: {len(data_loaders['val']) % MINIBATCH_SIZE:4d}\")\n",
    "# print(f\" len of test  data loader: {len(data_loader['test'])}   number of batches: {test_minibatches}\")"
   ]
  },
  {
   "cell_type": "markdown",
   "id": "19b32e21-67d2-45af-a45f-841b6dca43ff",
   "metadata": {},
   "source": [
    "# Define autoencoder model"
   ]
  },
  {
   "cell_type": "markdown",
   "id": "cf383487-ecbf-49da-bb01-5a5f22932278",
   "metadata": {},
   "source": [
    "## Override arguments"
   ]
  },
  {
   "cell_type": "code",
   "execution_count": 20,
   "id": "2fdc1998-5141-40c0-82d8-b505d4f19ecd",
   "metadata": {
    "execution": {
     "iopub.execute_input": "2024-09-23T17:46:37.058018Z",
     "iopub.status.busy": "2024-09-23T17:46:37.057597Z",
     "iopub.status.idle": "2024-09-23T17:46:37.103153Z",
     "shell.execute_reply": "2024-09-23T17:46:37.102436Z",
     "shell.execute_reply.started": "2024-09-23T17:46:37.057982Z"
    }
   },
   "outputs": [
    {
     "name": "stdout",
     "output_type": "stream",
     "text": [
      "   runmode                  baseline\n",
      "   embedding_layer          4\n",
      "   Latent dim               150\n",
      "   loss_factor              1.0\n",
      "   learning_rate            0.001\n",
      "   use Primary Optimizer:   True\n",
      "   temperature              0.0\n",
      "   use Primary Scheduler:   True\n",
      "   snnl_factor              0.0\n",
      "   temperatureLR:           0.0\n",
      "   use_annealing:           False\n",
      "   anneal_patience:         15\n"
     ]
    }
   ],
   "source": [
    "# args.loss_factor   = 1.0        ## 2.0e+00\n",
    "# args.learning_rate = 1.0e-03    ## 0.001\n",
    "print(f\"   runmode                  {args.runmode}\")\n",
    "print(f\"   embedding_layer          {args.embedding_layer}\")\n",
    "print(f\"   Latent dim               {args.code_units}\")\n",
    "print(f\"   loss_factor              {args.loss_factor}\")\n",
    "print(f\"   learning_rate            {args.learning_rate}\")\n",
    "print(f\"   use Primary Optimizer:   {args.use_prim_optimizer}\")\n",
    "print(f\"   temperature              {args.temperature}\")\n",
    "print(f\"   use Primary Scheduler:   {args.use_prim_scheduler}\")\n",
    "print(f\"   snnl_factor              {args.snnl_factor}\")\n",
    "print(f\"   temperatureLR:           {args.temperatureLR}\")\n",
    "print(f\"   use_annealing:           {args.use_annealing}\")\n",
    "print(f\"   anneal_patience:         {args.anneal_patience}\")"
   ]
  },
  {
   "cell_type": "markdown",
   "id": "69b97558-4c5d-4a2d-9d1f-78d8923b1eb7",
   "metadata": {},
   "source": [
    "## Define Model"
   ]
  },
  {
   "cell_type": "code",
   "execution_count": 21,
   "id": "5c4a4bba-76ef-4fa9-9ea5-ba3c55aecfe9",
   "metadata": {
    "execution": {
     "iopub.execute_input": "2024-09-23T17:46:48.523399Z",
     "iopub.status.busy": "2024-09-23T17:46:48.522930Z",
     "iopub.status.idle": "2024-09-23T17:46:48.662932Z",
     "shell.execute_reply": "2024-09-23T17:46:48.661998Z",
     "shell.execute_reply.started": "2024-09-23T17:46:48.523356Z"
    }
   },
   "outputs": [
    {
     "data": {
      "text/plain": [
       "'baseline'"
      ]
     },
     "execution_count": 21,
     "metadata": {},
     "output_type": "execute_result"
    },
    {
     "name": "stderr",
     "output_type": "stream",
     "text": [
      "2024-09-23 19:46:48,563 - snnl.utils.utils_notebook - INFO: - Defining model in baseline mode\n",
      "2024-09-23 19:46:48,566 - snnl.models.autoencoder - INFO: -     layer pair:    0  type:linear           input:   1471  output:   1024    weights: [1024, 1471]   \n",
      "2024-09-23 19:46:48,582 - snnl.models.autoencoder - INFO: -     layer pair:    1  type:relu             input:      0  output:      0    weights: [0, 0]   \n",
      "2024-09-23 19:46:48,582 - snnl.models.autoencoder - INFO: -     layer pair:    2  type:linear           input:   1024  output:    512    weights: [512, 1024]   \n",
      "2024-09-23 19:46:48,588 - snnl.models.autoencoder - INFO: -     layer pair:    3  type:relu             input:      0  output:      0    weights: [0, 0]   \n",
      "2024-09-23 19:46:48,588 - snnl.models.autoencoder - INFO: -     layer pair:    4  type:linear           input:    512  output:    150    weights: [150, 512]   \n",
      "2024-09-23 19:46:48,590 - snnl.models.autoencoder - INFO: -     layer pair:    5  type:linear           input:    150  output:    512    weights: [512, 150]   \n",
      "2024-09-23 19:46:48,591 - snnl.models.autoencoder - INFO: -     layer pair:    6  type:relu             input:      0  output:      0    weights: [0, 0]   \n",
      "2024-09-23 19:46:48,592 - snnl.models.autoencoder - INFO: -     layer pair:    7  type:linear           input:    512  output:   1024    weights: [1024, 512]   \n",
      "2024-09-23 19:46:48,598 - snnl.models.autoencoder - INFO: -     layer pair:    8  type:relu             input:      0  output:      0    weights: [0, 0]   \n",
      "2024-09-23 19:46:48,598 - snnl.models.autoencoder - INFO: -     layer pair:    9  type:linear           input:   1024  output:   1471    weights: [1471, 1024]   \n"
     ]
    },
    {
     "name": "stdout",
     "output_type": "stream",
     "text": [
      " EMBEDDING LAYER: 4\n",
      " Device cuda:1 will be used\n",
      "\n",
      "------------------------------------------------------------\n",
      " Building Base Model from NOTEBOOK\n",
      "------------------------------------------------------------\n",
      "    Model_init()_    -- mode:              autoencoding\n",
      "    Model_init()_    -- Unsupervised :     True\n",
      "    Model_init()_    -- Support for unsupervised training  in 'autoencoding' mode is True\n",
      "    Model_init()_    -- Criterion:         MSELoss()\n",
      "    Model_init()_    -- use_snnl :         False\n",
      "    Model_init()_    -- temperature :      0\n",
      "    Model_init()_    -- temperature LR:    0.0\n",
      "\n",
      "------------------------------------------------------------\n",
      " Building Autoencoder from NOTEBOOK\n",
      "------------------------------------------------------------\n",
      "setup_prim_optimizer()\n",
      "    AE init() -- mode               : autoencoding\n",
      "    AE init() -- unsupervised       : True\n",
      "    AE init() -- layer_types        : ['linear', 'relu', 'linear', 'relu', 'linear', 'linear', 'relu', 'linear', 'relu', 'linear']\n",
      "    AE init() -- non linearities    : ['relu', 'relu', 'relu', 'relu']\n",
      "    AE init() -- Primary Crtierion  : MSELoss()\n",
      "    AE init() -- monitor_grads_layer: None\n",
      "    AE init() -- Primary optimizer  : True\n",
      "    AE init() -- Primary scheduler  : True\n",
      "    AE init() -- use_snnl           : False\n",
      "    AE init() -- SNNL Crtierion     : None\n",
      "    AE init() -- temperature        : 0\n",
      "    AE init() -- temperature LR     : 0.0\n",
      "    AE init() -- Temperature optmzr : False\n",
      "    AE init() -- Temperature schdlr : False\n"
     ]
    },
    {
     "data": {
      "text/plain": [
       "'cuda:1'"
      ]
     },
     "execution_count": 21,
     "metadata": {},
     "output_type": "execute_result"
    }
   ],
   "source": [
    "### Define Model\n",
    "args.runmode\n",
    "model = define_autoencoder_model(args, verbose = True)\n",
    "model.device"
   ]
  },
  {
   "cell_type": "code",
   "execution_count": 22,
   "id": "acb11365-5fa8-4a94-ba70-bfe9bc16df18",
   "metadata": {
    "execution": {
     "iopub.execute_input": "2024-09-23T17:46:53.920882Z",
     "iopub.status.busy": "2024-09-23T17:46:53.920363Z",
     "iopub.status.idle": "2024-09-23T17:46:53.972888Z",
     "shell.execute_reply": "2024-09-23T17:46:53.972185Z",
     "shell.execute_reply.started": "2024-09-23T17:46:53.920842Z"
    },
    "scrolled": true
   },
   "outputs": [
    {
     "name": "stdout",
     "output_type": "stream",
     "text": [
      "\n",
      "command line parms : \n",
      "-----------------------\n",
      "SGD_momentum.............  0\n",
      "SGD_weight_decay.........  0\n",
      "WANDB_ACTIVE.............  True\n",
      "adam_weight_decay........  0.001\n",
      "anneal_patience..........  15\n",
      "batch_size...............  1\n",
      "\n",
      "    cellpainting_args   (dict)\n",
      "    ----------------------------\n",
      "    batch_size...............  1\n",
      "    chunksize................  None\n",
      "    compounds_per_batch......  600\n",
      "    conversions..............  None\n",
      "    iterator.................  True\n",
      "    sample_size..............  3\n",
      "    test_end.................  33600\n",
      "    test_path................  /home/kevin/WSL-shared/cellpainting/cj-datasets/output_11102023/3_sample_profiles/3sample_profiles_1482_HashOrder_test.csv\n",
      "    test_start...............  30000\n",
      "    train_end................  324000\n",
      "    train_start..............  0\n",
      "    training_path............  /home/kevin/WSL-shared/cellpainting/cj-datasets/output_11102023/3_sample_profiles/3sample_profiles_1482_HashOrder_all.csv\n",
      "    val_end..................  346542\n",
      "    val_start................  324000\n",
      "    validation_path..........  /home/kevin/WSL-shared/cellpainting/cj-datasets/output_11102023/3_sample_profiles/3sample_profiles_1482_HashOrder_all.csv\n",
      "\n",
      "ckpt.....................  None\n",
      "code_units...............  150\n",
      "configuration............  hyperparameters/ae_baseline_150_512_cpb.yaml\n",
      "cpb......................  600\n",
      "current_device...........  cuda:1\n",
      "dataset..................  cellpainting\n",
      "embedding_layer..........  4\n",
      "epochs...................  100\n",
      "exp_date.................  20240923_1943\n",
      "exp_description..........  AE baseline - SnglOpt, latent: 150, hidden_1: 512, cpb: 600\n",
      "exp_folder...............  None\n",
      "exp_id...................  562ayd0o\n",
      "exp_name.................  AE_20240923_1943\n",
      "exp_name_pfx.............  None\n",
      "exp_title................  scpb600_150Ltnt_512\n",
      "folder_sfx...............  None\n",
      "gpu_id...................  1\n",
      "hidden_1.................  512\n",
      "input_shape..............  1471\n",
      "learning_rate............  0.001\n",
      "loss_factor..............  1.0\n",
      "\n",
      "    paths   (dict)\n",
      "    ----------------\n",
      "    checkpoint_dir...........  ./ckpt\n",
      "    log_dir..................  ./logs\n",
      "    result_dir...............  ./results\n",
      "\n",
      "project_name.............  CellPainting_Profiles\n",
      "random_seed..............  4321\n",
      "runmode..................  baseline\n",
      "save_every...............  100\n",
      "show_every...............  1\n",
      "snnl_factor..............  0.0\n",
      "temperature..............  0.0\n",
      "temperatureLR............  0.0\n",
      "units....................  [['linear', 1471, 1024], ['relu', 0, 0], ['linear', 1024, 512], ['relu', 0, 0], ['linear', 512, 150], ['linear', 150, 512], ['relu', 0, 0], ['linear', 512, 1024], ['relu', 0, 0], ['linear', 1024, 1471]]\n",
      "use_annealing............  False\n",
      "use_prim_optimizer.......  True\n",
      "use_prim_scheduler.......  True\n",
      "use_single_loss..........  True\n",
      "use_sum..................  False\n",
      "use_temp_optimizer.......  False\n",
      "use_temp_scheduler.......  False\n",
      "\n"
     ]
    }
   ],
   "source": [
    "list_namespace(args)"
   ]
  },
  {
   "cell_type": "markdown",
   "id": "d05597b6-32c1-4598-80b5-04f8399c771a",
   "metadata": {},
   "source": [
    "## Resume from model checkpoint (if args.ckpt is not None)"
   ]
  },
  {
   "cell_type": "code",
   "execution_count": 23,
   "id": "a8e5e1ed-8ecd-4584-b02c-cd6dd71feee8",
   "metadata": {
    "execution": {
     "iopub.execute_input": "2024-09-23T17:46:57.131631Z",
     "iopub.status.busy": "2024-09-23T17:46:57.131188Z",
     "iopub.status.idle": "2024-09-23T17:46:57.178384Z",
     "shell.execute_reply": "2024-09-23T17:46:57.177807Z",
     "shell.execute_reply.started": "2024-09-23T17:46:57.131592Z"
    }
   },
   "outputs": [
    {
     "name": "stderr",
     "output_type": "stream",
     "text": [
      "2024-09-23 19:46:57,171 - root - INFO: -  INITIALIZE TRAINING - Run 100 epochs: epoch 1 to 100 \n"
     ]
    }
   ],
   "source": [
    "args.load_checkpoint = utils.load_checkpoint_v5\n",
    "args.save_checkpoint = utils.save_checkpoint_v5\n",
    "# print(f\" Checkpoint File :  {args.ckpt}\")\n",
    "\n",
    "model = init_resume_training(model, args)\n",
    "\n",
    "if args.WANDB_ACTIVE:\n",
    "    wandb_watch(item = model, criterion=None, log = 'all', log_freq = 1000, log_graph = False)\n",
    "    wandb.config.update(args)"
   ]
  },
  {
   "cell_type": "code",
   "execution_count": 24,
   "id": "2f7fe0d7-922b-47cd-9548-e1688064ea17",
   "metadata": {
    "execution": {
     "iopub.execute_input": "2024-09-23T17:47:01.256874Z",
     "iopub.status.busy": "2024-09-23T17:47:01.256370Z",
     "iopub.status.idle": "2024-09-23T17:47:01.301692Z",
     "shell.execute_reply": "2024-09-23T17:47:01.300948Z",
     "shell.execute_reply.started": "2024-09-23T17:47:01.256829Z"
    }
   },
   "outputs": [
    {
     "name": "stdout",
     "output_type": "stream",
     "text": [
      "Model Hyperparameters\n",
      "----------------------\n",
      " Current device         : cuda:1\n",
      " Model device           : cuda:1\n",
      " Model epoch/batch      : -1 / -1\n",
      " Model embedding_layer  : 4\n",
      " loss_factor            : 1.0\n",
      " monitor_grads_layer    : None\n",
      " Use Single Loss        : True\n",
      " Use Prim Optimizer     : True\n",
      " Use Prim Scheduler     : True\n",
      "\n",
      " Main Optimizer Params  : Adam (\n",
      "Parameter Group 0\n",
      "    amsgrad: False\n",
      "    betas: (0.9, 0.999)\n",
      "    capturable: False\n",
      "    differentiable: False\n",
      "    eps: 1e-08\n",
      "    foreach: None\n",
      "    fused: None\n",
      "    lr: 0.001\n",
      "    maximize: False\n",
      "    weight_decay: 0.001\n",
      ")\n",
      " Scheduler              : <torch.optim.lr_scheduler.ReduceLROnPlateau object at 0x7f8c391d4190> \n",
      "    factor: 0.5  \n",
      "    min_lrs: [0]  \n",
      "    patience: 50  \n",
      "    verbose: False  \n",
      "    cooldown: 10  \n",
      "    cooldown_counter: 0  \n",
      "    mode: min  \n",
      "    threshold: 1e-06  \n",
      "    threshold_mode: rel  \n",
      "    best: inf  \n",
      "    num_bad_epochs: 0  \n",
      "    mode_worse: inf  \n",
      "    eps: 1e-08  \n",
      "    last_epoch: 0  \n",
      "\n",
      " SNN Loss \n",
      "----------\n",
      " Use SNN Loss           : False\n",
      " SNNL factor            : 0.0\n",
      " Use Annealing          : False\n",
      " Use Single Loss        : True\n",
      " SNNL Temperature       : 0 \n",
      "\n",
      " Use Temp Optimizer     : False\n",
      " Temperature LR         : 0.0\n",
      " Use Temp Scheduler     : False\n"
     ]
    }
   ],
   "source": [
    "display_model_hyperparameters(model, args)"
   ]
  },
  {
   "cell_type": "code",
   "execution_count": 17,
   "id": "134e08ad-dd90-438e-bbce-abe259b5a26a",
   "metadata": {
    "execution": {
     "iopub.execute_input": "2024-09-04T21:51:28.399599Z",
     "iopub.status.busy": "2024-09-04T21:51:28.399032Z",
     "iopub.status.idle": "2024-09-04T21:51:28.446766Z",
     "shell.execute_reply": "2024-09-04T21:51:28.445747Z",
     "shell.execute_reply.started": "2024-09-04T21:51:28.399560Z"
    }
   },
   "outputs": [],
   "source": [
    "# display_model_state_dict(model, 'test')\n",
    "# display_model_parameters(model, 'title')\n",
    "# display_model_gradients(model, 'test')\n",
    "# display_model_hyperparameters(model)\n",
    "#\n",
    "# for k,v in model.__dict__.items():\n",
    "#     if k == 'training_history':\n",
    "#         print(f\" {k:30}  type: {str(type(v)):25s}   values: {v.keys()} \")\n",
    "#     else:\n",
    "#         print(f\" {k:30}  type: {str(type(v)):25s}   values: {v} \")\n",
    "#\n",
    "# print(f\" Optimizer ParamGroup[0]   : {model.optimizers['prim'].param_groups[0]}\")\n",
    "# for k,v in model.optimizers.items():\n",
    "#     print(k, v)\n",
    "#\n",
    "# for k,v in enumerate(model.optimizers['prim'].param_groups[0]['params']):\n",
    "#     print(f\" {k}, {v.shape}\")"
   ]
  },
  {
   "cell_type": "markdown",
   "id": "94aeaa82-14c5-465c-ae6e-bb792ba8a973",
   "metadata": {},
   "source": [
    "# Autoencoder Fit"
   ]
  },
  {
   "cell_type": "code",
   "execution_count": 25,
   "id": "55efa948-c9af-46f5-9ce3-c668275bb1a5",
   "metadata": {
    "execution": {
     "iopub.execute_input": "2024-09-23T17:47:08.196231Z",
     "iopub.status.busy": "2024-09-23T17:47:08.195781Z",
     "iopub.status.idle": "2024-09-23T17:47:08.244594Z",
     "shell.execute_reply": "2024-09-23T17:47:08.244029Z",
     "shell.execute_reply.started": "2024-09-23T17:47:08.196191Z"
    }
   },
   "outputs": [
    {
     "name": "stderr",
     "output_type": "stream",
     "text": [
      "2024-09-23 19:47:08,236 - __main__ - INFO: -  Experiment run id:  562ayd0o\n",
      "2024-09-23 19:47:08,238 - __main__ - INFO: -  Experiment Name  :  AE_20240923_1943 \n",
      "2024-09-23 19:47:08,239 - __main__ - INFO: -  Experiment Date  :  20240923_1943 \n",
      "2024-09-23 19:47:08,240 - __main__ - INFO: -  Experiment Title :  scpb600_150Ltnt_512 \n",
      "2024-09-23 19:47:08,240 - __main__ - INFO: -  Experiment Notes :  AE baseline - SnglOpt, latent: 150, hidden_1: 512, cpb: 600\n"
     ]
    }
   ],
   "source": [
    "#\n",
    "#  Running Training Loop\n",
    "#\n",
    "logger.info(f\" Experiment run id:  {args.exp_id}\")\n",
    "logger.info(f\" Experiment Name  :  {args.exp_name} \")\n",
    "logger.info(f\" Experiment Date  :  {args.exp_date} \")\n",
    "logger.info(f\" Experiment Title :  {args.exp_title} \")\n",
    "logger.info(f\" Experiment Notes :  {args.exp_description}\")"
   ]
  },
  {
   "cell_type": "code",
   "execution_count": 28,
   "id": "cb3d8194-e366-4742-9843-b17d7743377b",
   "metadata": {
    "execution": {
     "iopub.execute_input": "2024-09-23T17:47:32.077830Z",
     "iopub.status.busy": "2024-09-23T17:47:32.077256Z",
     "iopub.status.idle": "2024-09-23T17:47:32.120562Z",
     "shell.execute_reply": "2024-09-23T17:47:32.119943Z",
     "shell.execute_reply.started": "2024-09-23T17:47:32.077787Z"
    }
   },
   "outputs": [
    {
     "name": "stdout",
     "output_type": "stream",
     "text": [
      " 2024-09-23 19:47:32  epoch    1 of  200\n"
     ]
    }
   ],
   "source": [
    "# model.starting_epoch = 0\n",
    "# model.ending_epoch = 200\n",
    "# model.starting_epoch, model.ending_epoch = 0, 600\n",
    "# model.starting_epoch, model.ending_epoch\n",
    "\n",
    "print(f\" {datetime.now().strftime('%Y-%m-%d %H:%M:%S')}  epoch {model.starting_epoch+1:4d} of {model.ending_epoch:4d}\")\n"
   ]
  },
  {
   "cell_type": "code",
   "execution_count": 37,
   "id": "91e9127a-8a3f-4eaf-8119-4c917952f3e5",
   "metadata": {
    "execution": {
     "iopub.execute_input": "2024-09-24T17:10:59.633378Z",
     "iopub.status.busy": "2024-09-24T17:10:59.632893Z",
     "iopub.status.idle": "2024-09-25T02:59:37.429442Z",
     "shell.execute_reply": "2024-09-25T02:59:37.428670Z",
     "shell.execute_reply.started": "2024-09-24T17:10:59.633335Z"
    },
    "scrolled": true
   },
   "outputs": [
    {
     "name": "stdout",
     "output_type": "stream",
     "text": [
      " 2024-09-24 19:10:59  Start: epoch  201 of  400\n",
      "  time   ep / eps |  Trn_loss   Primary      SNNL  |   temp*         grad    |   R2      BestEp         |  Vld_loss   Primary      SNNL  |   R2       BestEp          |   LR        temp LR    |              \n",
      "------------------+--------------------------------+-------------------------+--------------------------+--------------------------------+----------------------------|------------------------|\n",
      "19:13:52 201/400  |   0.2573     0.2573     0.0000 |   0.000000   0.0000e+00 |   0.6114   179           |   0.2536     0.2536     0.0000 |   0.6839    94             |  1.000e-03   0.000e+00 |\n",
      "19:16:43 202/400  |   0.2573     0.2573     0.0000 |   0.000000   0.0000e+00 |   0.6195   179           |   0.2540     0.2540     0.0000 |   0.6861    94             |  1.000e-03   0.000e+00 |              \n",
      "19:19:34 203/400  |   0.2573     0.2573     0.0000 |   0.000000   0.0000e+00 |   0.6174   179           |   0.2536     0.2536     0.0000 |   0.6871    94             |  1.000e-03   0.000e+00 |              \n",
      "19:22:25 204/400  |   0.2574     0.2574     0.0000 |   0.000000   0.0000e+00 |   0.6179   179           |   0.2538     0.2538     0.0000 |   0.6867    94             |  1.000e-03   0.000e+00 |              \n",
      "19:25:18 205/400  |   0.2573     0.2573     0.0000 |   0.000000   0.0000e+00 |   0.6183   179           |   0.2538     0.2538     0.0000 |   0.6779    94             |  1.000e-03   0.000e+00 |              \n",
      "19:28:09 206/400  |   0.2575     0.2575     0.0000 |   0.000000   0.0000e+00 |   0.6122   179           |   0.2542     0.2542     0.0000 |   0.6836    94             |  1.000e-03   0.000e+00 |              \n",
      "19:31:02 207/400  |   0.2572     0.2572     0.0000 |   0.000000   0.0000e+00 |   0.6193   179           |   0.2537     0.2537     0.0000 |   0.6866    94             |  1.000e-03   0.000e+00 |              \n",
      "19:34:00 208/400  |   0.2573     0.2573     0.0000 |   0.000000   0.0000e+00 |   0.6150   179           |   0.2538     0.2538     0.0000 |   0.6846    94             |  1.000e-03   0.000e+00 |              \n",
      "19:36:59 209/400  |   0.2573     0.2573     0.0000 |   0.000000   0.0000e+00 |   0.6159   179           |   0.2533     0.2533     0.0000 |   0.6849    94             |  1.000e-03   0.000e+00 |              \n",
      "19:39:57 210/400  |   0.2572     0.2572     0.0000 |   0.000000   0.0000e+00 |   0.6188   179           |   0.2536     0.2536     0.0000 |   0.6842    94             |  1.000e-03   0.000e+00 |              \n",
      "19:42:53 211/400  |   0.2572     0.2572     0.0000 |   0.000000   0.0000e+00 |   0.6142   179           |   0.2536     0.2536     0.0000 |   0.6840    94             |  1.000e-03   0.000e+00 |              \n",
      "19:45:51 212/400  |   0.2573     0.2573     0.0000 |   0.000000   0.0000e+00 |   0.6182   179           |   0.2541     0.2541     0.0000 |   0.6643    94             |  1.000e-03   0.000e+00 |              \n",
      "19:48:49 213/400  |   0.2574     0.2574     0.0000 |   0.000000   0.0000e+00 |   0.6138   179           |   0.2542     0.2542     0.0000 |   0.6640    94             |  1.000e-03   0.000e+00 |              \n",
      "19:51:50 214/400  |   0.2572     0.2572     0.0000 |   0.000000   0.0000e+00 |   0.6198   179           |   0.2535     0.2535     0.0000 |   0.6858    94             |  1.000e-03   0.000e+00 |              \n",
      "19:54:53 215/400  |   0.2572     0.2572     0.0000 |   0.000000   0.0000e+00 |   0.6203   179           |   0.2533     0.2533     0.0000 |   0.6816    94             |  1.000e-03   0.000e+00 |              \n",
      "19:57:57 216/400  |   0.2574     0.2574     0.0000 |   0.000000   0.0000e+00 |   0.6168   179           |   0.2539     0.2539     0.0000 |   0.6821    94             |  1.000e-03   0.000e+00 |              \n",
      "20:01:01 217/400  |   0.2572     0.2572     0.0000 |   0.000000   0.0000e+00 |   0.6175   179           |   0.2536     0.2536     0.0000 |   0.6735    94             |  1.000e-03   0.000e+00 |              \n",
      "20:04:02 218/400  |   0.2572     0.2572     0.0000 |   0.000000   0.0000e+00 |   0.6203   179           |   0.2535     0.2535     0.0000 |   0.6886    94             |  1.000e-03   0.000e+00 |              \n",
      "20:07:05 219/400  |   0.2573     0.2573     0.0000 |   0.000000   0.0000e+00 |   0.6129   179           |   0.2534     0.2534     0.0000 |   0.6888    94             |  1.000e-03   0.000e+00 |              \n",
      "20:10:08 220/400  |   0.2573     0.2573     0.0000 |   0.000000   0.0000e+00 |   0.6171   179           |   0.2537     0.2537     0.0000 |   0.6897    94             |  1.000e-03   0.000e+00 |              \n",
      "20:13:13 221/400  |   0.2572     0.2572     0.0000 |   0.000000   0.0000e+00 |   0.6174   179           |   0.2538     0.2538     0.0000 |   0.6822    94             |  1.000e-03   0.000e+00 |              \n",
      "20:16:15 222/400  |   0.2573     0.2573     0.0000 |   0.000000   0.0000e+00 |   0.6156   179           |   0.2533     0.2533     0.0000 |   0.6808    94             |  1.000e-03   0.000e+00 |              \n",
      "20:19:19 223/400  |   0.2573     0.2573     0.0000 |   0.000000   0.0000e+00 |   0.6076   179           |   0.2541     0.2541     0.0000 |   0.6707    94             |  1.000e-03   0.000e+00 |              \n",
      "20:22:22 224/400  |   0.2572     0.2572     0.0000 |   0.000000   0.0000e+00 |   0.6213   179           |   0.2538     0.2538     0.0000 |   0.6897    94             |  1.000e-03   0.000e+00 |              \n",
      "20:25:24 225/400  |   0.2573     0.2573     0.0000 |   0.000000   0.0000e+00 |   0.6163   179           |   0.2535     0.2535     0.0000 |   0.6846    94             |  1.000e-03   0.000e+00 |              \n",
      "20:28:29 226/400  |   0.2573     0.2573     0.0000 |   0.000000   0.0000e+00 |   0.6239   226           |   0.2539     0.2539     0.0000 |   0.6750    94             |  1.000e-03   0.000e+00 |              \n",
      "20:31:31 227/400  |   0.2572     0.2572     0.0000 |   0.000000   0.0000e+00 |   0.6184   226           |   0.2534     0.2534     0.0000 |   0.6841    94             |  1.000e-03   0.000e+00 |              \n",
      "20:34:35 228/400  |   0.2572     0.2572     0.0000 |   0.000000   0.0000e+00 |   0.6155   226           |   0.2538     0.2538     0.0000 |   0.6814    94             |  1.000e-03   0.000e+00 |              \n",
      "20:37:36 229/400  |   0.2573     0.2573     0.0000 |   0.000000   0.0000e+00 |   0.6187   226           |   0.2541     0.2541     0.0000 |   0.6853    94             |  1.000e-03   0.000e+00 |              \n",
      "20:40:39 230/400  |   0.2573     0.2573     0.0000 |   0.000000   0.0000e+00 |   0.6173   226           |   0.2538     0.2538     0.0000 |   0.6886    94             |  1.000e-03   0.000e+00 |              \n",
      "20:43:41 231/400  |   0.2572     0.2572     0.0000 |   0.000000   0.0000e+00 |   0.6137   226           |   0.2537     0.2537     0.0000 |   0.6872    94             |  1.000e-03   0.000e+00 |              \n",
      "20:46:41 232/400  |   0.2573     0.2573     0.0000 |   0.000000   0.0000e+00 |   0.6165   226           |   0.2541     0.2541     0.0000 |   0.6816    94             |  1.000e-03   0.000e+00 |              \n",
      "20:49:40 233/400  |   0.2572     0.2572     0.0000 |   0.000000   0.0000e+00 |   0.6154   226           |   0.2533     0.2533     0.0000 |   0.6878    94             |  1.000e-03   0.000e+00 |              \n",
      "20:52:40 234/400  |   0.2572     0.2572     0.0000 |   0.000000   0.0000e+00 |   0.6199   226           |   0.2536     0.2536     0.0000 |   0.6830    94             |  1.000e-03   0.000e+00 |              \n",
      "20:55:39 235/400  |   0.2572     0.2572     0.0000 |   0.000000   0.0000e+00 |   0.6177   226           |   0.2538     0.2538     0.0000 |   0.6793    94             |  1.000e-03   0.000e+00 |              \n",
      "20:58:40 236/400  |   0.2575     0.2575     0.0000 |   0.000000   0.0000e+00 |   0.6180   226           |   0.2540     0.2540     0.0000 |   0.6675    94             |  1.000e-03   0.000e+00 |              \n",
      "21:01:39 237/400  |   0.2574     0.2574     0.0000 |   0.000000   0.0000e+00 |   0.6118   226           |   0.2540     0.2540     0.0000 |   0.6706    94             |  1.000e-03   0.000e+00 |              \n",
      "21:04:39 238/400  |   0.2571     0.2571     0.0000 |   0.000000   0.0000e+00 |   0.6193   226           |   0.2537     0.2537     0.0000 |   0.6895    94             |  1.000e-03   0.000e+00 |              \n",
      "21:07:38 239/400  |   0.2572     0.2572     0.0000 |   0.000000   0.0000e+00 |   0.6204   226           |   0.2537     0.2537     0.0000 |   0.6802    94             |  1.000e-03   0.000e+00 |              \n",
      "21:10:37 240/400  |   0.2573     0.2573     0.0000 |   0.000000   0.0000e+00 |   0.6201   226           |   0.2538     0.2538     0.0000 |   0.6762    94             |  1.000e-03   0.000e+00 |              \n",
      "21:13:38 241/400  |   0.2571     0.2571     0.0000 |   0.000000   0.0000e+00 |   0.6173   226           |   0.2533     0.2533     0.0000 |   0.6867    94             |  1.000e-03   0.000e+00 |              \n",
      "21:16:41 242/400  |   0.2573     0.2573     0.0000 |   0.000000   0.0000e+00 |   0.6156   226           |   0.2538     0.2538     0.0000 |   0.6868    94             |  1.000e-03   0.000e+00 |              \n",
      "21:19:42 243/400  |   0.2571     0.2571     0.0000 |   0.000000   0.0000e+00 |   0.6200   226           |   0.2536     0.2536     0.0000 |   0.6863    94             |  1.000e-03   0.000e+00 |              \n",
      "21:22:42 244/400  |   0.2572     0.2572     0.0000 |   0.000000   0.0000e+00 |   0.6091   226           |   0.2534     0.2534     0.0000 |   0.6835    94             |  1.000e-03   0.000e+00 |              \n",
      "21:25:42 245/400  |   0.2572     0.2572     0.0000 |   0.000000   0.0000e+00 |   0.6185   226           |   0.2536     0.2536     0.0000 |   0.6845    94             |  1.000e-03   0.000e+00 |              \n",
      "21:28:41 246/400  |   0.2573     0.2573     0.0000 |   0.000000   0.0000e+00 |   0.6249   246           |   0.2535     0.2535     0.0000 |   0.6786    94             |  1.000e-03   0.000e+00 |              \n",
      "21:31:41 247/400  |   0.2572     0.2572     0.0000 |   0.000000   0.0000e+00 |   0.6150   246           |   0.2541     0.2541     0.0000 |   0.6841    94             |  1.000e-03   0.000e+00 |              \n",
      "21:34:40 248/400  |   0.2572     0.2572     0.0000 |   0.000000   0.0000e+00 |   0.6165   246           |   0.2540     0.2540     0.0000 |   0.6731    94             |  1.000e-03   0.000e+00 |              \n",
      "21:37:38 249/400  |   0.2572     0.2572     0.0000 |   0.000000   0.0000e+00 |   0.6168   246           |   0.2533     0.2533     0.0000 |   0.6821    94             |  1.000e-03   0.000e+00 |              \n",
      "21:40:38 250/400  |   0.2572     0.2572     0.0000 |   0.000000   0.0000e+00 |   0.6182   246           |   0.2532     0.2532     0.0000 |   0.6902    94             |  1.000e-03   0.000e+00 |              \n",
      "21:43:36 251/400  |   0.2571     0.2571     0.0000 |   0.000000   0.0000e+00 |   0.6171   246           |   0.2536     0.2536     0.0000 |   0.6912    94             |  1.000e-03   0.000e+00 |              \n",
      "21:46:35 252/400  |   0.2572     0.2572     0.0000 |   0.000000   0.0000e+00 |   0.6162   246           |   0.2538     0.2538     0.0000 |   0.6829    94             |  1.000e-03   0.000e+00 |              \n",
      "21:49:32 253/400  |   0.2572     0.2572     0.0000 |   0.000000   0.0000e+00 |   0.6190   246           |   0.2537     0.2537     0.0000 |   0.6738    94             |  1.000e-03   0.000e+00 |              \n",
      "21:52:32 254/400  |   0.2572     0.2572     0.0000 |   0.000000   0.0000e+00 |   0.6109   246           |   0.2533     0.2533     0.0000 |   0.6873    94             |  1.000e-03   0.000e+00 |              \n",
      "21:55:30 255/400  |   0.2572     0.2572     0.0000 |   0.000000   0.0000e+00 |   0.6214   246           |   0.2536     0.2536     0.0000 |   0.6922    94             |  1.000e-03   0.000e+00 |              \n",
      "21:58:30 256/400  |   0.2573     0.2573     0.0000 |   0.000000   0.0000e+00 |   0.6185   246           |   0.2536     0.2536     0.0000 |   0.6731    94             |  1.000e-03   0.000e+00 |              \n",
      "22:01:30 257/400  |   0.2572     0.2572     0.0000 |   0.000000   0.0000e+00 |   0.6191   246           |   0.2538     0.2538     0.0000 |   0.6864    94             |  1.000e-03   0.000e+00 |              \n",
      "22:04:29 258/400  |   0.2571     0.2571     0.0000 |   0.000000   0.0000e+00 |   0.6200   246           |   0.2534     0.2534     0.0000 |   0.6797    94             |  1.000e-03   0.000e+00 |              \n",
      "22:07:28 259/400  |   0.2571     0.2571     0.0000 |   0.000000   0.0000e+00 |   0.6174   246           |   0.2536     0.2536     0.0000 |   0.6905    94             |  1.000e-03   0.000e+00 |              \n",
      "22:10:27 260/400  |   0.2572     0.2572     0.0000 |   0.000000   0.0000e+00 |   0.6204   246           |   0.2534     0.2534     0.0000 |   0.6839    94             |  1.000e-03   0.000e+00 |              \n",
      "22:13:27 261/400  |   0.2572     0.2572     0.0000 |   0.000000   0.0000e+00 |   0.6170   246           |   0.2536     0.2536     0.0000 |   0.6837    94             |  1.000e-03   0.000e+00 |              \n",
      "22:16:26 262/400  |   0.2572     0.2572     0.0000 |   0.000000   0.0000e+00 |   0.6164   246           |   0.2538     0.2538     0.0000 |   0.6877    94             |  1.000e-03   0.000e+00 |              \n",
      "22:19:26 263/400  |   0.2571     0.2571     0.0000 |   0.000000   0.0000e+00 |   0.6158   246           |   0.2533     0.2533     0.0000 |   0.6852    94             |  1.000e-03   0.000e+00 |              \n",
      "22:22:26 264/400  |   0.2572     0.2572     0.0000 |   0.000000   0.0000e+00 |   0.6207   246           |   0.2538     0.2538     0.0000 |   0.6845    94             |  1.000e-03   0.000e+00 |              \n",
      "22:25:25 265/400  |   0.2571     0.2571     0.0000 |   0.000000   0.0000e+00 |   0.6192   246           |   0.2534     0.2534     0.0000 |   0.6861    94             |  1.000e-03   0.000e+00 |              \n",
      "22:28:23 266/400  |   0.2570     0.2570     0.0000 |   0.000000   0.0000e+00 |   0.6187   246           |   0.2533     0.2533     0.0000 |   0.6885    94             |  1.000e-03   0.000e+00 |              \n",
      "22:31:22 267/400  |   0.2572     0.2572     0.0000 |   0.000000   0.0000e+00 |   0.6152   246           |   0.2535     0.2535     0.0000 |   0.6872    94             |  1.000e-03   0.000e+00 |              \n",
      "22:34:19 268/400  |   0.2571     0.2571     0.0000 |   0.000000   0.0000e+00 |   0.6184   246           |   0.2537     0.2537     0.0000 |   0.6914    94             |  1.000e-03   0.000e+00 |              \n",
      "22:37:18 269/400  |   0.2571     0.2571     0.0000 |   0.000000   0.0000e+00 |   0.6200   246           |   0.2535     0.2535     0.0000 |   0.6809    94             |  1.000e-03   0.000e+00 |              \n",
      "22:40:17 270/400  |   0.2571     0.2571     0.0000 |   0.000000   0.0000e+00 |   0.6180   246           |   0.2537     0.2537     0.0000 |   0.6793    94             |  1.000e-03   0.000e+00 |              \n",
      "22:43:17 271/400  |   0.2572     0.2572     0.0000 |   0.000000   0.0000e+00 |   0.6155   246           |   0.2537     0.2537     0.0000 |   0.6872    94             |  1.000e-03   0.000e+00 |              \n",
      "22:46:14 272/400  |   0.2571     0.2571     0.0000 |   0.000000   0.0000e+00 |   0.6178   246           |   0.2536     0.2536     0.0000 |   0.6803    94             |  1.000e-03   0.000e+00 |              \n",
      "22:49:13 273/400  |   0.2572     0.2572     0.0000 |   0.000000   0.0000e+00 |   0.6180   246           |   0.2536     0.2536     0.0000 |   0.6740    94             |  1.000e-03   0.000e+00 |              \n",
      "22:52:12 274/400  |   0.2572     0.2572     0.0000 |   0.000000   0.0000e+00 |   0.6155   246           |   0.2537     0.2537     0.0000 |   0.6734    94             |  1.000e-03   0.000e+00 |              \n",
      "22:55:10 275/400  |   0.2571     0.2571     0.0000 |   0.000000   0.0000e+00 |   0.6227   246           |   0.2538     0.2538     0.0000 |   0.6807    94             |  1.000e-03   0.000e+00 |              \n",
      "22:58:08 276/400  |   0.2571     0.2571     0.0000 |   0.000000   0.0000e+00 |   0.6250   276           |   0.2532     0.2532     0.0000 |   0.6866    94             |  1.000e-03   0.000e+00 |              \n",
      "23:01:06 277/400  |   0.2571     0.2571     0.0000 |   0.000000   0.0000e+00 |   0.6098   276           |   0.2535     0.2535     0.0000 |   0.6857    94             |  1.000e-03   0.000e+00 |              \n",
      "23:04:01 278/400  |   0.2571     0.2571     0.0000 |   0.000000   0.0000e+00 |   0.6226   276           |   0.2533     0.2533     0.0000 |   0.6865    94             |  1.000e-03   0.000e+00 |              \n",
      "23:06:55 279/400  |   0.2572     0.2572     0.0000 |   0.000000   0.0000e+00 |   0.6197   276           |   0.2532     0.2532     0.0000 |   0.6868    94             |  1.000e-03   0.000e+00 |              \n",
      "23:09:47 280/400  |   0.2571     0.2571     0.0000 |   0.000000   0.0000e+00 |   0.6213   276           |   0.2535     0.2535     0.0000 |   0.6861    94             |  1.000e-03   0.000e+00 |              \n",
      "23:12:40 281/400  |   0.2571     0.2571     0.0000 |   0.000000   0.0000e+00 |   0.6121   276           |   0.2538     0.2538     0.0000 |   0.6839    94             |  1.000e-03   0.000e+00 |              \n",
      "23:15:34 282/400  |   0.2572     0.2572     0.0000 |   0.000000   0.0000e+00 |   0.6178   276           |   0.2534     0.2534     0.0000 |   0.6625    94             |  1.000e-03   0.000e+00 |              \n",
      "23:18:33 283/400  |   0.2571     0.2571     0.0000 |   0.000000   0.0000e+00 |   0.6168   276           |   0.2537     0.2537     0.0000 |   0.6916    94             |  1.000e-03   0.000e+00 |              \n",
      "23:21:28 284/400  |   0.2571     0.2571     0.0000 |   0.000000   0.0000e+00 |   0.6236   276           |   0.2536     0.2536     0.0000 |   0.6896    94             |  1.000e-03   0.000e+00 |              \n",
      "23:24:19 285/400  |   0.2571     0.2571     0.0000 |   0.000000   0.0000e+00 |   0.6167   276           |   0.2534     0.2534     0.0000 |   0.6803    94             |  1.000e-03   0.000e+00 |              \n",
      "23:27:11 286/400  |   0.2571     0.2571     0.0000 |   0.000000   0.0000e+00 |   0.6193   276           |   0.2534     0.2534     0.0000 |   0.6812    94             |  1.000e-03   0.000e+00 |              \n",
      "23:30:06 287/400  |   0.2571     0.2571     0.0000 |   0.000000   0.0000e+00 |   0.6164   276           |   0.2537     0.2537     0.0000 |   0.6868    94             |  1.000e-03   0.000e+00 |              \n",
      "23:33:01 288/400  |   0.2571     0.2571     0.0000 |   0.000000   0.0000e+00 |   0.6169   276           |   0.2533     0.2533     0.0000 |   0.6882    94             |  1.000e-03   0.000e+00 |              \n",
      "23:35:56 289/400  |   0.2572     0.2572     0.0000 |   0.000000   0.0000e+00 |   0.6215   276           |   0.2537     0.2537     0.0000 |   0.6821    94             |  1.000e-03   0.000e+00 |              \n",
      "23:38:47 290/400  |   0.2570     0.2570     0.0000 |   0.000000   0.0000e+00 |   0.6174   276           |   0.2534     0.2534     0.0000 |   0.6820    94             |  1.000e-03   0.000e+00 |              \n",
      "23:41:42 291/400  |   0.2571     0.2571     0.0000 |   0.000000   0.0000e+00 |   0.6109   276           |   0.2532     0.2532     0.0000 |   0.6755    94             |  1.000e-03   0.000e+00 |              \n",
      "23:44:38 292/400  |   0.2571     0.2571     0.0000 |   0.000000   0.0000e+00 |   0.6124   276           |   0.2534     0.2534     0.0000 |   0.6702    94             |  1.000e-03   0.000e+00 |              \n",
      "23:47:32 293/400  |   0.2572     0.2572     0.0000 |   0.000000   0.0000e+00 |   0.6205   276           |   0.2535     0.2535     0.0000 |   0.6835    94             |  1.000e-03   0.000e+00 |              \n",
      "23:50:29 294/400  |   0.2572     0.2572     0.0000 |   0.000000   0.0000e+00 |   0.6204   276           |   0.2534     0.2534     0.0000 |   0.6796    94             |  1.000e-03   0.000e+00 |              \n",
      "23:53:23 295/400  |   0.2570     0.2570     0.0000 |   0.000000   0.0000e+00 |   0.6159   276           |   0.2535     0.2535     0.0000 |   0.6796    94             |  1.000e-03   0.000e+00 |              \n",
      "23:56:19 296/400  |   0.2571     0.2571     0.0000 |   0.000000   0.0000e+00 |   0.6218   276           |   0.2533     0.2533     0.0000 |   0.6811    94             |  1.000e-03   0.000e+00 |              \n",
      "23:59:13 297/400  |   0.2571     0.2571     0.0000 |   0.000000   0.0000e+00 |   0.6173   276           |   0.2535     0.2535     0.0000 |   0.6622    94             |  1.000e-03   0.000e+00 |              \n",
      "00:02:08 298/400  |   0.2571     0.2571     0.0000 |   0.000000   0.0000e+00 |   0.6194   276           |   0.2536     0.2536     0.0000 |   0.6762    94             |  1.000e-03   0.000e+00 |              \n",
      "00:05:02 299/400  |   0.2571     0.2571     0.0000 |   0.000000   0.0000e+00 |   0.6175   276           |   0.2535     0.2535     0.0000 |   0.6763    94             |  1.000e-03   0.000e+00 |              \n",
      "                                                                                                                                                                                                              "
     ]
    },
    {
     "name": "stderr",
     "output_type": "stream",
     "text": [
      "2024-09-25 00:07:56,127 - snnl.utils.utils_ptsnnl - INFO: -  Model exported to ckpts/AE_base_scpb600_150Ltnt_512_20240923_1943_ep_300.pt - epoch: 300\n"
     ]
    },
    {
     "name": "stdout",
     "output_type": "stream",
     "text": [
      "00:07:56 300/400  |   0.2571     0.2571     0.0000 |   0.000000   0.0000e+00 |   0.6227   276           |   0.2536     0.2536     0.0000 |   0.6827    94             |  1.000e-03   0.000e+00 |\n",
      "00:10:51 301/400  |   0.2571     0.2571     0.0000 |   0.000000   0.0000e+00 |   0.6207   276           |   0.2535     0.2535     0.0000 |   0.6768    94             |  1.000e-03   0.000e+00 |              \n",
      "00:13:45 302/400  |   0.2572     0.2572     0.0000 |   0.000000   0.0000e+00 |   0.6208   276           |   0.2538     0.2538     0.0000 |   0.6840    94             |  1.000e-03   0.000e+00 |              \n",
      "00:16:39 303/400  |   0.2572     0.2572     0.0000 |   0.000000   0.0000e+00 |   0.6120   276           |   0.2530     0.2530     0.0000 |   0.6878    94             |  1.000e-03   0.000e+00 |              \n",
      "00:19:35 304/400  |   0.2570     0.2570     0.0000 |   0.000000   0.0000e+00 |   0.6175   276           |   0.2534     0.2534     0.0000 |   0.6745    94             |  1.000e-03   0.000e+00 |              \n",
      "00:22:32 305/400  |   0.2571     0.2571     0.0000 |   0.000000   0.0000e+00 |   0.6196   276           |   0.2534     0.2534     0.0000 |   0.6696    94             |  1.000e-03   0.000e+00 |              \n",
      "00:25:27 306/400  |   0.2571     0.2571     0.0000 |   0.000000   0.0000e+00 |   0.6183   276           |   0.2535     0.2535     0.0000 |   0.6570    94             |  1.000e-03   0.000e+00 |              \n",
      "00:28:19 307/400  |   0.2572     0.2572     0.0000 |   0.000000   0.0000e+00 |   0.6205   276           |   0.2536     0.2536     0.0000 |   0.6802    94             |  1.000e-03   0.000e+00 |              \n",
      "00:31:14 308/400  |   0.2571     0.2571     0.0000 |   0.000000   0.0000e+00 |   0.6170   276           |   0.2534     0.2534     0.0000 |   0.6795    94             |  1.000e-03   0.000e+00 |              \n",
      "00:34:07 309/400  |   0.2571     0.2571     0.0000 |   0.000000   0.0000e+00 |   0.6188   276           |   0.2531     0.2531     0.0000 |   0.6845    94             |  1.000e-03   0.000e+00 |              \n",
      "00:37:04 310/400  |   0.2572     0.2572     0.0000 |   0.000000   0.0000e+00 |   0.6200   276           |   0.2537     0.2537     0.0000 |   0.6797    94             |  1.000e-03   0.000e+00 |              \n",
      "00:40:00 311/400  |   0.2572     0.2572     0.0000 |   0.000000   0.0000e+00 |   0.6114   276           |   0.2534     0.2534     0.0000 |   0.6610    94             |  1.000e-03   0.000e+00 |              \n",
      "00:42:56 312/400  |   0.2571     0.2571     0.0000 |   0.000000   0.0000e+00 |   0.6208   276           |   0.2536     0.2536     0.0000 |   0.6718    94             |  1.000e-03   0.000e+00 |              \n",
      "00:45:51 313/400  |   0.2571     0.2571     0.0000 |   0.000000   0.0000e+00 |   0.6199   276           |   0.2537     0.2537     0.0000 |   0.6590    94             |  1.000e-03   0.000e+00 |              \n",
      "00:48:49 314/400  |   0.2571     0.2571     0.0000 |   0.000000   0.0000e+00 |   0.6221   276           |   0.2532     0.2532     0.0000 |   0.6781    94             |  1.000e-03   0.000e+00 |              \n",
      "00:51:47 315/400  |   0.2571     0.2571     0.0000 |   0.000000   0.0000e+00 |   0.6179   276           |   0.2533     0.2533     0.0000 |   0.6778    94             |  1.000e-03   0.000e+00 |              \n",
      "00:54:43 316/400  |   0.2571     0.2571     0.0000 |   0.000000   0.0000e+00 |   0.6184   276           |   0.2534     0.2534     0.0000 |   0.6751    94             |  1.000e-03   0.000e+00 |              \n",
      "00:57:39 317/400  |   0.2571     0.2571     0.0000 |   0.000000   0.0000e+00 |   0.6198   276           |   0.2537     0.2537     0.0000 |   0.6718    94             |  1.000e-03   0.000e+00 |              \n",
      "01:00:35 318/400  |   0.2572     0.2572     0.0000 |   0.000000   0.0000e+00 |   0.6174   276           |   0.2533     0.2533     0.0000 |   0.6790    94             |  1.000e-03   0.000e+00 |              \n",
      "01:03:32 319/400  |   0.2573     0.2573     0.0000 |   0.000000   0.0000e+00 |   0.6180   276           |   0.2539     0.2539     0.0000 |   0.6750    94             |  1.000e-03   0.000e+00 |              \n",
      "01:06:28 320/400  |   0.2572     0.2572     0.0000 |   0.000000   0.0000e+00 |   0.6201   276           |   0.2535     0.2535     0.0000 |   0.6836    94             |  1.000e-03   0.000e+00 |              \n",
      "01:09:24 321/400  |   0.2573     0.2573     0.0000 |   0.000000   0.0000e+00 |   0.6167   276           |   0.2538     0.2538     0.0000 |   0.6749    94             |  1.000e-03   0.000e+00 |              \n",
      "01:12:22 322/400  |   0.2571     0.2571     0.0000 |   0.000000   0.0000e+00 |   0.6204   276           |   0.2535     0.2535     0.0000 |   0.6865    94             |  1.000e-03   0.000e+00 |              \n",
      "01:15:19 323/400  |   0.2571     0.2571     0.0000 |   0.000000   0.0000e+00 |   0.6228   276           |   0.2533     0.2533     0.0000 |   0.6844    94             |  1.000e-03   0.000e+00 |              \n",
      "01:18:16 324/400  |   0.2573     0.2573     0.0000 |   0.000000   0.0000e+00 |   0.6212   276           |   0.2536     0.2536     0.0000 |   0.6646    94             |  1.000e-03   0.000e+00 |              \n",
      "01:21:12 325/400  |   0.2570     0.2570     0.0000 |   0.000000   0.0000e+00 |   0.6194   276           |   0.2533     0.2533     0.0000 |   0.6903    94             |  1.000e-03   0.000e+00 |              \n",
      "01:24:07 326/400  |   0.2571     0.2571     0.0000 |   0.000000   0.0000e+00 |   0.6234   276           |   0.2533     0.2533     0.0000 |   0.6806    94             |  1.000e-03   0.000e+00 |              \n",
      "01:27:03 327/400  |   0.2571     0.2571     0.0000 |   0.000000   0.0000e+00 |   0.6203   276           |   0.2535     0.2535     0.0000 |   0.6821    94             |  1.000e-03   0.000e+00 |              \n",
      "01:30:00 328/400  |   0.2571     0.2571     0.0000 |   0.000000   0.0000e+00 |   0.6186   276           |   0.2534     0.2534     0.0000 |   0.6823    94             |  1.000e-03   0.000e+00 |              \n",
      "01:32:57 329/400  |   0.2572     0.2572     0.0000 |   0.000000   0.0000e+00 |   0.6185   276           |   0.2532     0.2532     0.0000 |   0.6856    94             |  1.000e-03   0.000e+00 |              \n",
      "01:35:55 330/400  |   0.2571     0.2571     0.0000 |   0.000000   0.0000e+00 |   0.6186   276           |   0.2535     0.2535     0.0000 |   0.6863    94             |  1.000e-03   0.000e+00 |              \n",
      "01:38:53 331/400  |   0.2571     0.2571     0.0000 |   0.000000   0.0000e+00 |   0.6191   276           |   0.2534     0.2534     0.0000 |   0.6871    94             |  1.000e-03   0.000e+00 |              \n",
      "01:41:49 332/400  |   0.2572     0.2572     0.0000 |   0.000000   0.0000e+00 |   0.6197   276           |   0.2531     0.2531     0.0000 |   0.6902    94             |  1.000e-03   0.000e+00 |              \n",
      "01:44:44 333/400  |   0.2570     0.2570     0.0000 |   0.000000   0.0000e+00 |   0.6157   276           |   0.2535     0.2535     0.0000 |   0.6937    94             |  1.000e-03   0.000e+00 |              \n",
      "01:47:41 334/400  |   0.2572     0.2572     0.0000 |   0.000000   0.0000e+00 |   0.6128   276           |   0.2534     0.2534     0.0000 |   0.6852    94             |  1.000e-03   0.000e+00 |              \n",
      "01:50:36 335/400  |   0.2571     0.2571     0.0000 |   0.000000   0.0000e+00 |   0.6198   276           |   0.2532     0.2532     0.0000 |   0.6767    94             |  1.000e-03   0.000e+00 |              \n",
      "01:53:27 336/400  |   0.2571     0.2571     0.0000 |   0.000000   0.0000e+00 |   0.6181   276           |   0.2533     0.2533     0.0000 |   0.6862    94             |  1.000e-03   0.000e+00 |              \n",
      "01:56:23 337/400  |   0.2572     0.2572     0.0000 |   0.000000   0.0000e+00 |   0.6147   276           |   0.2534     0.2534     0.0000 |   0.6711    94             |  1.000e-03   0.000e+00 |              \n",
      "01:59:18 338/400  |   0.2570     0.2570     0.0000 |   0.000000   0.0000e+00 |   0.6188   276           |   0.2533     0.2533     0.0000 |   0.6815    94             |  1.000e-03   0.000e+00 |              \n",
      "02:02:13 339/400  |   0.2571     0.2571     0.0000 |   0.000000   0.0000e+00 |   0.6230   276           |   0.2532     0.2532     0.0000 |   0.6783    94             |  1.000e-03   0.000e+00 |              \n",
      "02:05:05 340/400  |   0.2571     0.2571     0.0000 |   0.000000   0.0000e+00 |   0.6181   276           |   0.2531     0.2531     0.0000 |   0.6878    94             |  1.000e-03   0.000e+00 |              \n",
      "02:07:56 341/400  |   0.2571     0.2571     0.0000 |   0.000000   0.0000e+00 |   0.6223   276           |   0.2533     0.2533     0.0000 |   0.6847    94             |  1.000e-03   0.000e+00 |              \n",
      "02:10:51 342/400  |   0.2572     0.2572     0.0000 |   0.000000   0.0000e+00 |   0.6141   276           |   0.2531     0.2531     0.0000 |   0.6747    94             |  1.000e-03   0.000e+00 |              \n",
      "02:13:45 343/400  |   0.2570     0.2570     0.0000 |   0.000000   0.0000e+00 |   0.6240   276           |   0.2531     0.2531     0.0000 |   0.6904    94             |  1.000e-03   0.000e+00 |              \n",
      "02:16:40 344/400  |   0.2570     0.2570     0.0000 |   0.000000   0.0000e+00 |   0.6188   276           |   0.2535     0.2535     0.0000 |   0.6878    94             |  1.000e-03   0.000e+00 |              \n",
      "02:19:34 345/400  |   0.2571     0.2571     0.0000 |   0.000000   0.0000e+00 |   0.6233   276           |   0.2530     0.2530     0.0000 |   0.6879    94             |  1.000e-03   0.000e+00 |              \n",
      "02:22:27 346/400  |   0.2571     0.2571     0.0000 |   0.000000   0.0000e+00 |   0.6151   276           |   0.2535     0.2535     0.0000 |   0.6623    94             |  1.000e-03   0.000e+00 |              \n",
      "02:25:19 347/400  |   0.2571     0.2571     0.0000 |   0.000000   0.0000e+00 |   0.6207   276           |   0.2535     0.2535     0.0000 |   0.6816    94             |  1.000e-03   0.000e+00 |              \n",
      "02:28:12 348/400  |   0.2571     0.2571     0.0000 |   0.000000   0.0000e+00 |   0.6207   276           |   0.2532     0.2532     0.0000 |   0.6790    94             |  1.000e-03   0.000e+00 |              \n",
      "02:31:10 349/400  |   0.2572     0.2572     0.0000 |   0.000000   0.0000e+00 |   0.6133   276           |   0.2533     0.2533     0.0000 |   0.6643    94             |  1.000e-03   0.000e+00 |              \n",
      "02:34:07 350/400  |   0.2572     0.2572     0.0000 |   0.000000   0.0000e+00 |   0.6186   276           |   0.2535     0.2535     0.0000 |   0.6778    94             |  1.000e-03   0.000e+00 |              \n",
      "02:36:59 351/400  |   0.2573     0.2573     0.0000 |   0.000000   0.0000e+00 |   0.6163   276           |   0.2533     0.2533     0.0000 |   0.6692    94             |  1.000e-03   0.000e+00 |              \n",
      "02:39:52 352/400  |   0.2571     0.2571     0.0000 |   0.000000   0.0000e+00 |   0.6207   276           |   0.2535     0.2535     0.0000 |   0.6854    94             |  1.000e-03   0.000e+00 |              \n",
      "02:42:51 353/400  |   0.2572     0.2572     0.0000 |   0.000000   0.0000e+00 |   0.6241   276           |   0.2537     0.2537     0.0000 |   0.6879    94             |  1.000e-03   0.000e+00 |              \n",
      "02:45:44 354/400  |   0.2572     0.2572     0.0000 |   0.000000   0.0000e+00 |   0.6220   276           |   0.2535     0.2535     0.0000 |   0.6848    94             |  1.000e-03   0.000e+00 |              \n",
      "02:48:39 355/400  |   0.2573     0.2573     0.0000 |   0.000000   0.0000e+00 |   0.6175   276           |   0.2533     0.2533     0.0000 |   0.6885    94             |  1.000e-03   0.000e+00 |              \n",
      "02:51:35 356/400  |   0.2571     0.2571     0.0000 |   0.000000   0.0000e+00 |   0.6205   276           |   0.2532     0.2532     0.0000 |   0.6874    94             |  1.000e-03   0.000e+00 |              \n",
      "02:54:31 357/400  |   0.2571     0.2571     0.0000 |   0.000000   0.0000e+00 |   0.6245   276           |   0.2534     0.2534     0.0000 |   0.6872    94             |  1.000e-03   0.000e+00 |              \n",
      "02:57:25 358/400  |   0.2571     0.2571     0.0000 |   0.000000   0.0000e+00 |   0.6250   276           |   0.2535     0.2535     0.0000 |   0.6837    94             |  1.000e-03   0.000e+00 |              \n",
      "03:00:18 359/400  |   0.2571     0.2571     0.0000 |   0.000000   0.0000e+00 |   0.6212   276           |   0.2531     0.2531     0.0000 |   0.6923    94             |  1.000e-03   0.000e+00 |              \n",
      "03:03:12 360/400  |   0.2571     0.2571     0.0000 |   0.000000   0.0000e+00 |   0.6216   276           |   0.2534     0.2534     0.0000 |   0.6927    94             |  1.000e-03   0.000e+00 |              \n",
      "03:06:06 361/400  |   0.2570     0.2570     0.0000 |   0.000000   0.0000e+00 |   0.6214   276           |   0.2530     0.2530     0.0000 |   0.6909    94             |  1.000e-03   0.000e+00 |              \n",
      "03:09:02 362/400  |   0.2572     0.2572     0.0000 |   0.000000   0.0000e+00 |   0.6191   276           |   0.2536     0.2536     0.0000 |   0.6787    94             |  1.000e-03   0.000e+00 |              \n",
      "03:11:55 363/400  |   0.2571     0.2571     0.0000 |   0.000000   0.0000e+00 |   0.6208   276           |   0.2535     0.2535     0.0000 |   0.6827    94             |  1.000e-03   0.000e+00 |              \n",
      "03:14:50 364/400  |   0.2571     0.2571     0.0000 |   0.000000   0.0000e+00 |   0.6174   276           |   0.2531     0.2531     0.0000 |   0.6876    94             |  1.000e-03   0.000e+00 |              \n",
      "03:17:46 365/400  |   0.2572     0.2572     0.0000 |   0.000000   0.0000e+00 |   0.6197   276           |   0.2535     0.2535     0.0000 |   0.6783    94             |  1.000e-03   0.000e+00 |              \n",
      "03:20:41 366/400  |   0.2571     0.2571     0.0000 |   0.000000   0.0000e+00 |   0.6215   276           |   0.2532     0.2532     0.0000 |   0.6740    94             |  1.000e-03   0.000e+00 |              \n",
      "03:23:36 367/400  |   0.2571     0.2571     0.0000 |   0.000000   0.0000e+00 |   0.6198   276           |   0.2534     0.2534     0.0000 |   0.6861    94             |  1.000e-03   0.000e+00 |              \n",
      "03:26:29 368/400  |   0.2571     0.2571     0.0000 |   0.000000   0.0000e+00 |   0.6175   276           |   0.2530     0.2530     0.0000 |   0.6795    94             |  1.000e-03   0.000e+00 |              \n",
      "03:29:25 369/400  |   0.2571     0.2571     0.0000 |   0.000000   0.0000e+00 |   0.6244   276           |   0.2536     0.2536     0.0000 |   0.6870    94             |  1.000e-03   0.000e+00 |              \n",
      "03:32:20 370/400  |   0.2571     0.2571     0.0000 |   0.000000   0.0000e+00 |   0.6217   276           |   0.2531     0.2531     0.0000 |   0.6930    94             |  1.000e-03   0.000e+00 |              \n",
      "03:35:14 371/400  |   0.2570     0.2570     0.0000 |   0.000000   0.0000e+00 |   0.6150   276           |   0.2533     0.2533     0.0000 |   0.6867    94             |  1.000e-03   0.000e+00 |              \n",
      "03:38:07 372/400  |   0.2572     0.2572     0.0000 |   0.000000   0.0000e+00 |   0.6115   276           |   0.2541     0.2541     0.0000 |   0.6843    94             |  1.000e-03   0.000e+00 |              \n",
      "03:41:01 373/400  |   0.2572     0.2572     0.0000 |   0.000000   0.0000e+00 |   0.6196   276           |   0.2531     0.2531     0.0000 |   0.6799    94             |  1.000e-03   0.000e+00 |              \n",
      "03:43:58 374/400  |   0.2571     0.2571     0.0000 |   0.000000   0.0000e+00 |   0.6235   276           |   0.2533     0.2533     0.0000 |   0.6735    94             |  1.000e-03   0.000e+00 |              \n",
      "03:46:50 375/400  |   0.2571     0.2571     0.0000 |   0.000000   0.0000e+00 |   0.6204   276           |   0.2533     0.2533     0.0000 |   0.6775    94             |  1.000e-03   0.000e+00 |              \n",
      "03:49:45 376/400  |   0.2572     0.2572     0.0000 |   0.000000   0.0000e+00 |   0.6202   276           |   0.2535     0.2535     0.0000 |   0.6727    94             |  1.000e-03   0.000e+00 |              \n",
      "03:52:39 377/400  |   0.2571     0.2571     0.0000 |   0.000000   0.0000e+00 |   0.6189   276           |   0.2532     0.2532     0.0000 |   0.6776    94             |  1.000e-03   0.000e+00 |              \n",
      "03:55:32 378/400  |   0.2571     0.2571     0.0000 |   0.000000   0.0000e+00 |   0.6199   276           |   0.2535     0.2535     0.0000 |   0.6809    94             |  1.000e-03   0.000e+00 |              \n",
      "03:58:24 379/400  |   0.2571     0.2571     0.0000 |   0.000000   0.0000e+00 |   0.6216   276           |   0.2533     0.2533     0.0000 |   0.6796    94             |  1.000e-03   0.000e+00 |              \n",
      "04:01:18 380/400  |   0.2571     0.2571     0.0000 |   0.000000   0.0000e+00 |   0.6241   276           |   0.2532     0.2532     0.0000 |   0.6938    94             |  1.000e-03   0.000e+00 |              \n",
      "04:04:13 381/400  |   0.2571     0.2571     0.0000 |   0.000000   0.0000e+00 |   0.6235   276           |   0.2534     0.2534     0.0000 |   0.6823    94             |  1.000e-03   0.000e+00 |              \n",
      "04:07:05 382/400  |   0.2570     0.2570     0.0000 |   0.000000   0.0000e+00 |   0.6183   276           |   0.2530     0.2530     0.0000 |   0.6819    94             |  1.000e-03   0.000e+00 |              \n",
      "04:09:59 383/400  |   0.2570     0.2570     0.0000 |   0.000000   0.0000e+00 |   0.6191   276           |   0.2533     0.2533     0.0000 |   0.6686    94             |  1.000e-03   0.000e+00 |              \n",
      "04:12:54 384/400  |   0.2572     0.2572     0.0000 |   0.000000   0.0000e+00 |   0.6214   276           |   0.2535     0.2535     0.0000 |   0.6873    94             |  1.000e-03   0.000e+00 |              \n",
      "04:15:48 385/400  |   0.2571     0.2571     0.0000 |   0.000000   0.0000e+00 |   0.6211   276           |   0.2532     0.2532     0.0000 |   0.6777    94             |  1.000e-03   0.000e+00 |              \n",
      "04:18:46 386/400  |   0.2573     0.2573     0.0000 |   0.000000   0.0000e+00 |   0.6209   276           |   0.2533     0.2533     0.0000 |   0.6758    94             |  1.000e-03   0.000e+00 |              \n",
      "04:21:37 387/400  |   0.2571     0.2571     0.0000 |   0.000000   0.0000e+00 |   0.6164   276           |   0.2533     0.2533     0.0000 |   0.6777    94             |  1.000e-03   0.000e+00 |              \n",
      "04:24:30 388/400  |   0.2572     0.2572     0.0000 |   0.000000   0.0000e+00 |   0.6216   276           |   0.2534     0.2534     0.0000 |   0.6791    94             |  1.000e-03   0.000e+00 |              \n",
      "04:27:22 389/400  |   0.2571     0.2571     0.0000 |   0.000000   0.0000e+00 |   0.6232   276           |   0.2534     0.2534     0.0000 |   0.6811    94             |  1.000e-03   0.000e+00 |              \n",
      "04:30:18 390/400  |   0.2571     0.2571     0.0000 |   0.000000   0.0000e+00 |   0.6242   276           |   0.2533     0.2533     0.0000 |   0.6800    94             |  1.000e-03   0.000e+00 |              \n",
      "04:33:11 391/400  |   0.2572     0.2572     0.0000 |   0.000000   0.0000e+00 |   0.6210   276           |   0.2535     0.2535     0.0000 |   0.6878    94             |  1.000e-03   0.000e+00 |              \n",
      "04:36:08 392/400  |   0.2570     0.2570     0.0000 |   0.000000   0.0000e+00 |   0.6238   276           |   0.2530     0.2530     0.0000 |   0.6933    94             |  1.000e-03   0.000e+00 |              \n",
      "04:39:03 393/400  |   0.2570     0.2570     0.0000 |   0.000000   0.0000e+00 |   0.6195   276           |   0.2532     0.2532     0.0000 |   0.6781    94             |  1.000e-03   0.000e+00 |              \n",
      "04:42:01 394/400  |   0.2571     0.2571     0.0000 |   0.000000   0.0000e+00 |   0.6213   276           |   0.2535     0.2535     0.0000 |   0.6850    94             |  1.000e-03   0.000e+00 |              \n",
      "04:44:57 395/400  |   0.2572     0.2572     0.0000 |   0.000000   0.0000e+00 |   0.6198   276           |   0.2538     0.2538     0.0000 |   0.6645    94             |  1.000e-03   0.000e+00 |              \n",
      "04:47:51 396/400  |   0.2571     0.2571     0.0000 |   0.000000   0.0000e+00 |   0.6218   276           |   0.2532     0.2532     0.0000 |   0.6895    94             |  1.000e-03   0.000e+00 |              \n",
      "04:50:48 397/400  |   0.2570     0.2570     0.0000 |   0.000000   0.0000e+00 |   0.6217   276           |   0.2533     0.2533     0.0000 |   0.6774    94             |  1.000e-03   0.000e+00 |              \n",
      "04:53:44 398/400  |   0.2570     0.2570     0.0000 |   0.000000   0.0000e+00 |   0.6234   276           |   0.2531     0.2531     0.0000 |   0.6808    94             |  1.000e-03   0.000e+00 |              \n",
      "04:56:42 399/400  |   0.2571     0.2571     0.0000 |   0.000000   0.0000e+00 |   0.6212   276           |   0.2536     0.2536     0.0000 |   0.6800    94             |  1.000e-03   0.000e+00 |              \n",
      "                                                                                                                                                                                                              "
     ]
    },
    {
     "name": "stderr",
     "output_type": "stream",
     "text": [
      "2024-09-25 04:59:37,351 - snnl.utils.utils_ptsnnl - INFO: -  Model exported to ckpts/AE_base_scpb600_150Ltnt_512_20240923_1943_ep_400.pt - epoch: 400\n",
      "2024-09-25 04:59:37,419 - snnl.utils.utils_ptsnnl - INFO: -  Model exported to ckpts/AE_base_scpb600_150Ltnt_512_20240923_1943_LAST_ep_400.pt - epoch: 400\n"
     ]
    },
    {
     "name": "stdout",
     "output_type": "stream",
     "text": [
      "04:59:37 400/400  |   0.2572     0.2572     0.0000 |   0.000000   0.0000e+00 |   0.6184   276           |   0.2535     0.2535     0.0000 |   0.6761    94             |  1.000e-03   0.000e+00 |\n",
      "Last Epoch 400\n",
      " 2024-09-25 04:59:37  End: epoch  400 of  400\n"
     ]
    }
   ],
   "source": [
    "print(f\" {datetime.now().strftime('%Y-%m-%d %H:%M:%S')}  Start: epoch {model.starting_epoch+1:4d} of {model.ending_epoch:4d}\")\n",
    "model.fit(args, data_loaders)\n",
    "print(f\" {datetime.now().strftime('%Y-%m-%d %H:%M:%S')}  End: epoch {model.epoch + 1:4d} of {model.ending_epoch:4d}\")"
   ]
  },
  {
   "cell_type": "code",
   "execution_count": 45,
   "id": "13427e94-eac0-4ce0-941e-c98020e5bed4",
   "metadata": {
    "execution": {
     "iopub.execute_input": "2024-09-25T22:54:53.303358Z",
     "iopub.status.busy": "2024-09-25T22:54:53.302874Z",
     "iopub.status.idle": "2024-09-26T03:49:47.064637Z",
     "shell.execute_reply": "2024-09-26T03:49:47.063918Z",
     "shell.execute_reply.started": "2024-09-25T22:54:53.303316Z"
    }
   },
   "outputs": [
    {
     "name": "stdout",
     "output_type": "stream",
     "text": [
      " 2024-09-26 00:54:53  Start: epoch  501 of  600\n",
      "  time   ep / eps |  Trn_loss   Primary      SNNL  |   temp*         grad    |   R2      BestEp         |  Vld_loss   Primary      SNNL  |   R2       BestEp          |   LR        temp LR    |              \n",
      "------------------+--------------------------------+-------------------------+--------------------------+--------------------------------+----------------------------|------------------------|\n",
      "00:57:44 501/600  |   0.2569     0.2569     0.0000 |   0.000000   0.0000e+00 |   0.6204   499           |   0.2527     0.2527     0.0000 |   0.6921    94             |  1.000e-03   0.000e+00 |\n",
      "01:00:40 502/600  |   0.2569     0.2569     0.0000 |   0.000000   0.0000e+00 |   0.6234   499           |   0.2529     0.2529     0.0000 |   0.6915    94             |  1.000e-03   0.000e+00 |              \n",
      "01:03:35 503/600  |   0.2569     0.2569     0.0000 |   0.000000   0.0000e+00 |   0.6219   499           |   0.2530     0.2530     0.0000 |   0.6887    94             |  1.000e-03   0.000e+00 |              \n",
      "01:06:29 504/600  |   0.2570     0.2570     0.0000 |   0.000000   0.0000e+00 |   0.6178   499           |   0.2530     0.2530     0.0000 |   0.6810    94             |  1.000e-03   0.000e+00 |              \n",
      "01:09:22 505/600  |   0.2569     0.2569     0.0000 |   0.000000   0.0000e+00 |   0.6228   499           |   0.2532     0.2532     0.0000 |   0.6842    94             |  1.000e-03   0.000e+00 |              \n",
      "01:12:16 506/600  |   0.2570     0.2570     0.0000 |   0.000000   0.0000e+00 |   0.6165   499           |   0.2532     0.2532     0.0000 |   0.6806    94             |  1.000e-03   0.000e+00 |              \n",
      "01:15:11 507/600  |   0.2569     0.2569     0.0000 |   0.000000   0.0000e+00 |   0.6252   499           |   0.2531     0.2531     0.0000 |   0.6706    94             |  1.000e-03   0.000e+00 |              \n",
      "01:18:04 508/600  |   0.2569     0.2569     0.0000 |   0.000000   0.0000e+00 |   0.6224   499           |   0.2535     0.2535     0.0000 |   0.6811    94             |  1.000e-03   0.000e+00 |              \n",
      "01:21:00 509/600  |   0.2570     0.2570     0.0000 |   0.000000   0.0000e+00 |   0.6200   499           |   0.2529     0.2529     0.0000 |   0.6801    94             |  1.000e-03   0.000e+00 |              \n",
      "01:23:56 510/600  |   0.2570     0.2570     0.0000 |   0.000000   0.0000e+00 |   0.6243   499           |   0.2536     0.2536     0.0000 |   0.6782    94             |  1.000e-03   0.000e+00 |              \n",
      "01:26:51 511/600  |   0.2570     0.2570     0.0000 |   0.000000   0.0000e+00 |   0.6214   499           |   0.2539     0.2539     0.0000 |   0.6790    94             |  1.000e-03   0.000e+00 |              \n",
      "01:29:46 512/600  |   0.2569     0.2569     0.0000 |   0.000000   0.0000e+00 |   0.6199   499           |   0.2532     0.2532     0.0000 |   0.6872    94             |  1.000e-03   0.000e+00 |              \n",
      "01:32:42 513/600  |   0.2571     0.2571     0.0000 |   0.000000   0.0000e+00 |   0.6198   499           |   0.2538     0.2538     0.0000 |   0.6854    94             |  1.000e-03   0.000e+00 |              \n",
      "01:35:41 514/600  |   0.2570     0.2570     0.0000 |   0.000000   0.0000e+00 |   0.6249   499           |   0.2533     0.2533     0.0000 |   0.6911    94             |  1.000e-03   0.000e+00 |              \n",
      "01:38:37 515/600  |   0.2571     0.2571     0.0000 |   0.000000   0.0000e+00 |   0.6202   499           |   0.2532     0.2532     0.0000 |   0.6745    94             |  1.000e-03   0.000e+00 |              \n",
      "01:41:34 516/600  |   0.2570     0.2570     0.0000 |   0.000000   0.0000e+00 |   0.6249   499           |   0.2535     0.2535     0.0000 |   0.6852    94             |  1.000e-03   0.000e+00 |              \n",
      "01:44:32 517/600  |   0.2569     0.2569     0.0000 |   0.000000   0.0000e+00 |   0.6238   499           |   0.2532     0.2532     0.0000 |   0.6764    94             |  1.000e-03   0.000e+00 |              \n",
      "01:47:31 518/600  |   0.2570     0.2570     0.0000 |   0.000000   0.0000e+00 |   0.6227   499           |   0.2534     0.2534     0.0000 |   0.6813    94             |  1.000e-03   0.000e+00 |              \n",
      "01:50:29 519/600  |   0.2569     0.2569     0.0000 |   0.000000   0.0000e+00 |   0.6235   499           |   0.2533     0.2533     0.0000 |   0.6837    94             |  1.000e-03   0.000e+00 |              \n",
      "01:53:25 520/600  |   0.2569     0.2569     0.0000 |   0.000000   0.0000e+00 |   0.6236   499           |   0.2533     0.2533     0.0000 |   0.6885    94             |  1.000e-03   0.000e+00 |              \n",
      "01:56:21 521/600  |   0.2570     0.2570     0.0000 |   0.000000   0.0000e+00 |   0.6224   499           |   0.2530     0.2530     0.0000 |   0.6822    94             |  1.000e-03   0.000e+00 |              \n",
      "01:59:18 522/600  |   0.2569     0.2569     0.0000 |   0.000000   0.0000e+00 |   0.6246   499           |   0.2533     0.2533     0.0000 |   0.6871    94             |  1.000e-03   0.000e+00 |              \n",
      "02:02:14 523/600  |   0.2569     0.2569     0.0000 |   0.000000   0.0000e+00 |   0.6213   499           |   0.2531     0.2531     0.0000 |   0.6808    94             |  1.000e-03   0.000e+00 |              \n",
      "02:05:09 524/600  |   0.2569     0.2569     0.0000 |   0.000000   0.0000e+00 |   0.6249   499           |   0.2537     0.2537     0.0000 |   0.6850    94             |  1.000e-03   0.000e+00 |              \n",
      "02:08:08 525/600  |   0.2569     0.2569     0.0000 |   0.000000   0.0000e+00 |   0.6236   499           |   0.2532     0.2532     0.0000 |   0.6848    94             |  1.000e-03   0.000e+00 |              \n",
      "02:11:05 526/600  |   0.2570     0.2570     0.0000 |   0.000000   0.0000e+00 |   0.6243   499           |   0.2533     0.2533     0.0000 |   0.6884    94             |  1.000e-03   0.000e+00 |              \n",
      "02:14:05 527/600  |   0.2570     0.2570     0.0000 |   0.000000   0.0000e+00 |   0.6270   499           |   0.2539     0.2539     0.0000 |   0.6821    94             |  1.000e-03   0.000e+00 |              \n",
      "02:17:02 528/600  |   0.2570     0.2570     0.0000 |   0.000000   0.0000e+00 |   0.6202   499           |   0.2537     0.2537     0.0000 |   0.6847    94             |  1.000e-03   0.000e+00 |              \n",
      "02:20:02 529/600  |   0.2569     0.2569     0.0000 |   0.000000   0.0000e+00 |   0.6196   499           |   0.2537     0.2537     0.0000 |   0.6877    94             |  1.000e-03   0.000e+00 |              \n",
      "02:22:59 530/600  |   0.2568     0.2568     0.0000 |   0.000000   0.0000e+00 |   0.6202   499           |   0.2528     0.2528     0.0000 |   0.6931    94             |  1.000e-03   0.000e+00 |              \n",
      "02:25:58 531/600  |   0.2569     0.2569     0.0000 |   0.000000   0.0000e+00 |   0.6270   499           |   0.2531     0.2531     0.0000 |   0.6833    94             |  1.000e-03   0.000e+00 |              \n",
      "02:28:54 532/600  |   0.2571     0.2571     0.0000 |   0.000000   0.0000e+00 |   0.6202   499           |   0.2532     0.2532     0.0000 |   0.6733    94             |  1.000e-03   0.000e+00 |              \n",
      "02:31:52 533/600  |   0.2570     0.2570     0.0000 |   0.000000   0.0000e+00 |   0.6253   499           |   0.2532     0.2532     0.0000 |   0.6901    94             |  1.000e-03   0.000e+00 |              \n",
      "02:34:47 534/600  |   0.2569     0.2569     0.0000 |   0.000000   0.0000e+00 |   0.6222   499           |   0.2531     0.2531     0.0000 |   0.6835    94             |  1.000e-03   0.000e+00 |              \n",
      "02:37:43 535/600  |   0.2569     0.2569     0.0000 |   0.000000   0.0000e+00 |   0.6226   499           |   0.2535     0.2535     0.0000 |   0.6912    94             |  1.000e-03   0.000e+00 |              \n",
      "02:40:42 536/600  |   0.2569     0.2569     0.0000 |   0.000000   0.0000e+00 |   0.6211   499           |   0.2533     0.2533     0.0000 |   0.6888    94             |  1.000e-03   0.000e+00 |              \n",
      "02:43:38 537/600  |   0.2569     0.2569     0.0000 |   0.000000   0.0000e+00 |   0.6223   499           |   0.2531     0.2531     0.0000 |   0.6907    94             |  1.000e-03   0.000e+00 |              \n",
      "02:46:35 538/600  |   0.2570     0.2570     0.0000 |   0.000000   0.0000e+00 |   0.6235   499           |   0.2535     0.2535     0.0000 |   0.6872    94             |  1.000e-03   0.000e+00 |              \n",
      "02:49:34 539/600  |   0.2570     0.2570     0.0000 |   0.000000   0.0000e+00 |   0.6216   499           |   0.2534     0.2534     0.0000 |   0.6843    94             |  1.000e-03   0.000e+00 |              \n",
      "02:52:31 540/600  |   0.2569     0.2569     0.0000 |   0.000000   0.0000e+00 |   0.6246   499           |   0.2533     0.2533     0.0000 |   0.6922    94             |  1.000e-03   0.000e+00 |              \n",
      "02:55:29 541/600  |   0.2569     0.2569     0.0000 |   0.000000   0.0000e+00 |   0.6182   499           |   0.2538     0.2538     0.0000 |   0.6829    94             |  1.000e-03   0.000e+00 |              \n",
      "02:58:30 542/600  |   0.2569     0.2569     0.0000 |   0.000000   0.0000e+00 |   0.6211   499           |   0.2534     0.2534     0.0000 |   0.6799    94             |  1.000e-03   0.000e+00 |              \n",
      "03:01:26 543/600  |   0.2570     0.2570     0.0000 |   0.000000   0.0000e+00 |   0.6240   499           |   0.2530     0.2530     0.0000 |   0.6906    94             |  1.000e-03   0.000e+00 |              \n",
      "03:04:22 544/600  |   0.2569     0.2569     0.0000 |   0.000000   0.0000e+00 |   0.6250   499           |   0.2532     0.2532     0.0000 |   0.6767    94             |  1.000e-03   0.000e+00 |              \n",
      "03:07:20 545/600  |   0.2570     0.2570     0.0000 |   0.000000   0.0000e+00 |   0.6230   499           |   0.2536     0.2536     0.0000 |   0.6848    94             |  1.000e-03   0.000e+00 |              \n",
      "03:10:15 546/600  |   0.2569     0.2569     0.0000 |   0.000000   0.0000e+00 |   0.6262   499           |   0.2534     0.2534     0.0000 |   0.6889    94             |  1.000e-03   0.000e+00 |              \n",
      "03:13:11 547/600  |   0.2569     0.2569     0.0000 |   0.000000   0.0000e+00 |   0.6239   499           |   0.2534     0.2534     0.0000 |   0.6893    94             |  1.000e-03   0.000e+00 |              \n",
      "03:16:09 548/600  |   0.2569     0.2569     0.0000 |   0.000000   0.0000e+00 |   0.6234   499           |   0.2536     0.2536     0.0000 |   0.6863    94             |  1.000e-03   0.000e+00 |              \n",
      "03:19:07 549/600  |   0.2570     0.2570     0.0000 |   0.000000   0.0000e+00 |   0.6210   499           |   0.2535     0.2535     0.0000 |   0.6861    94             |  1.000e-03   0.000e+00 |              \n",
      "03:22:04 550/600  |   0.2570     0.2570     0.0000 |   0.000000   0.0000e+00 |   0.6237   499           |   0.2535     0.2535     0.0000 |   0.6723    94             |  1.000e-03   0.000e+00 |              \n",
      "03:25:02 551/600  |   0.2569     0.2569     0.0000 |   0.000000   0.0000e+00 |   0.6249   499           |   0.2536     0.2536     0.0000 |   0.6909    94             |  1.000e-03   0.000e+00 |              \n",
      "                                                                                                                                                                                                              "
     ]
    },
    {
     "name": "stderr",
     "output_type": "stream",
     "text": [
      "2024-09-26 03:27:58,256 - snnl.models.base - INFO: -  Main learning rate reduced to [0.0005]\n"
     ]
    },
    {
     "name": "stdout",
     "output_type": "stream",
     "text": [
      "03:27:58 552/600  |   0.2569     0.2569     0.0000 |   0.000000   0.0000e+00 |   0.6249   499           |   0.2532     0.2532     0.0000 |   0.6823    94             |  1.000e-03   0.000e+00 |\n",
      "03:30:55 553/600  |   0.2536     0.2536     0.0000 |   0.000000   0.0000e+00 |   0.6643   553           |   0.2500     0.2500     0.0000 |   0.6818    94             |  5.000e-04   0.000e+00 |              \n",
      "03:33:50 554/600  |   0.2533     0.2533     0.0000 |   0.000000   0.0000e+00 |   0.6632   553           |   0.2499     0.2499     0.0000 |   0.6677    94             |  5.000e-04   0.000e+00 |              \n",
      "03:36:46 555/600  |   0.2533     0.2533     0.0000 |   0.000000   0.0000e+00 |   0.6629   553           |   0.2499     0.2499     0.0000 |   0.6585    94             |  5.000e-04   0.000e+00 |              \n",
      "03:39:43 556/600  |   0.2533     0.2533     0.0000 |   0.000000   0.0000e+00 |   0.6620   553           |   0.2499     0.2499     0.0000 |   0.6612    94             |  5.000e-04   0.000e+00 |              \n",
      "03:42:40 557/600  |   0.2533     0.2533     0.0000 |   0.000000   0.0000e+00 |   0.6624   553           |   0.2499     0.2499     0.0000 |   0.6718    94             |  5.000e-04   0.000e+00 |              \n",
      "03:45:35 558/600  |   0.2533     0.2533     0.0000 |   0.000000   0.0000e+00 |   0.6627   553           |   0.2498     0.2498     0.0000 |   0.6887    94             |  5.000e-04   0.000e+00 |              \n",
      "03:48:35 559/600  |   0.2532     0.2532     0.0000 |   0.000000   0.0000e+00 |   0.6631   553           |   0.2499     0.2499     0.0000 |   0.6877    94             |  5.000e-04   0.000e+00 |              \n",
      "03:51:35 560/600  |   0.2532     0.2532     0.0000 |   0.000000   0.0000e+00 |   0.6634   553           |   0.2496     0.2496     0.0000 |   0.6937    94             |  5.000e-04   0.000e+00 |              \n",
      "03:54:32 561/600  |   0.2531     0.2531     0.0000 |   0.000000   0.0000e+00 |   0.6631   553           |   0.2498     0.2498     0.0000 |   0.6923    94             |  5.000e-04   0.000e+00 |              \n",
      "03:57:27 562/600  |   0.2531     0.2531     0.0000 |   0.000000   0.0000e+00 |   0.6616   553           |   0.2497     0.2497     0.0000 |   0.6927    94             |  5.000e-04   0.000e+00 |              \n",
      "04:00:23 563/600  |   0.2531     0.2531     0.0000 |   0.000000   0.0000e+00 |   0.6617   553           |   0.2495     0.2495     0.0000 |   0.6949   563             |  5.000e-04   0.000e+00 |              \n"
     ]
    },
    {
     "name": "stderr",
     "output_type": "stream",
     "text": [
      "2024-09-26 04:00:24,171 - snnl.utils.utils_ptsnnl - INFO: -  Model exported to ckpts/AE_base_scpb600_150Ltnt_512_20240923_1943_BEST.pt - epoch: 563\n"
     ]
    },
    {
     "name": "stdout",
     "output_type": "stream",
     "text": [
      "04:03:20 564/600  |   0.2530     0.2530     0.0000 |   0.000000   0.0000e+00 |   0.6603   553           |   0.2495     0.2495     0.0000 |   0.6940   563             |  5.000e-04   0.000e+00 |              \n",
      "04:06:16 565/600  |   0.2530     0.2530     0.0000 |   0.000000   0.0000e+00 |   0.6604   553           |   0.2494     0.2494     0.0000 |   0.6952   565             |  5.000e-04   0.000e+00 |              \n"
     ]
    },
    {
     "name": "stderr",
     "output_type": "stream",
     "text": [
      "2024-09-26 04:06:17,287 - snnl.utils.utils_ptsnnl - INFO: -  Model exported to ckpts/AE_base_scpb600_150Ltnt_512_20240923_1943_BEST.pt - epoch: 565\n"
     ]
    },
    {
     "name": "stdout",
     "output_type": "stream",
     "text": [
      "04:09:14 566/600  |   0.2530     0.2530     0.0000 |   0.000000   0.0000e+00 |   0.6615   553           |   0.2495     0.2495     0.0000 |   0.6953   566             |  5.000e-04   0.000e+00 |              \n"
     ]
    },
    {
     "name": "stderr",
     "output_type": "stream",
     "text": [
      "2024-09-26 04:09:14,837 - snnl.utils.utils_ptsnnl - INFO: -  Model exported to ckpts/AE_base_scpb600_150Ltnt_512_20240923_1943_BEST.pt - epoch: 566\n"
     ]
    },
    {
     "name": "stdout",
     "output_type": "stream",
     "text": [
      "04:12:13 567/600  |   0.2530     0.2530     0.0000 |   0.000000   0.0000e+00 |   0.6618   553           |   0.2494     0.2494     0.0000 |   0.6962   567             |  5.000e-04   0.000e+00 |              \n"
     ]
    },
    {
     "name": "stderr",
     "output_type": "stream",
     "text": [
      "2024-09-26 04:12:13,413 - snnl.utils.utils_ptsnnl - INFO: -  Model exported to ckpts/AE_base_scpb600_150Ltnt_512_20240923_1943_BEST.pt - epoch: 567\n"
     ]
    },
    {
     "name": "stdout",
     "output_type": "stream",
     "text": [
      "04:15:12 568/600  |   0.2530     0.2530     0.0000 |   0.000000   0.0000e+00 |   0.6613   553           |   0.2496     0.2496     0.0000 |   0.6918   567             |  5.000e-04   0.000e+00 |              \n",
      "04:18:09 569/600  |   0.2530     0.2530     0.0000 |   0.000000   0.0000e+00 |   0.6605   553           |   0.2496     0.2496     0.0000 |   0.6944   567             |  5.000e-04   0.000e+00 |              \n",
      "04:21:05 570/600  |   0.2531     0.2531     0.0000 |   0.000000   0.0000e+00 |   0.6618   553           |   0.2495     0.2495     0.0000 |   0.6957   567             |  5.000e-04   0.000e+00 |              \n",
      "04:24:05 571/600  |   0.2531     0.2531     0.0000 |   0.000000   0.0000e+00 |   0.6615   553           |   0.2496     0.2496     0.0000 |   0.6909   567             |  5.000e-04   0.000e+00 |              \n",
      "04:27:01 572/600  |   0.2530     0.2530     0.0000 |   0.000000   0.0000e+00 |   0.6586   553           |   0.2495     0.2495     0.0000 |   0.6945   567             |  5.000e-04   0.000e+00 |              \n",
      "04:30:01 573/600  |   0.2529     0.2529     0.0000 |   0.000000   0.0000e+00 |   0.6626   553           |   0.2496     0.2496     0.0000 |   0.6936   567             |  5.000e-04   0.000e+00 |              \n",
      "04:32:58 574/600  |   0.2530     0.2530     0.0000 |   0.000000   0.0000e+00 |   0.6636   553           |   0.2494     0.2494     0.0000 |   0.6956   567             |  5.000e-04   0.000e+00 |              \n",
      "04:35:55 575/600  |   0.2530     0.2530     0.0000 |   0.000000   0.0000e+00 |   0.6625   553           |   0.2495     0.2495     0.0000 |   0.6942   567             |  5.000e-04   0.000e+00 |              \n",
      "04:38:53 576/600  |   0.2530     0.2530     0.0000 |   0.000000   0.0000e+00 |   0.6613   553           |   0.2494     0.2494     0.0000 |   0.6951   567             |  5.000e-04   0.000e+00 |              \n",
      "04:41:49 577/600  |   0.2530     0.2530     0.0000 |   0.000000   0.0000e+00 |   0.6613   553           |   0.2495     0.2495     0.0000 |   0.6929   567             |  5.000e-04   0.000e+00 |              \n",
      "04:44:44 578/600  |   0.2530     0.2530     0.0000 |   0.000000   0.0000e+00 |   0.6620   553           |   0.2496     0.2496     0.0000 |   0.6935   567             |  5.000e-04   0.000e+00 |              \n",
      "04:47:44 579/600  |   0.2530     0.2530     0.0000 |   0.000000   0.0000e+00 |   0.6611   553           |   0.2496     0.2496     0.0000 |   0.6941   567             |  5.000e-04   0.000e+00 |              \n",
      "04:50:42 580/600  |   0.2530     0.2530     0.0000 |   0.000000   0.0000e+00 |   0.6610   553           |   0.2496     0.2496     0.0000 |   0.6932   567             |  5.000e-04   0.000e+00 |              \n",
      "04:53:40 581/600  |   0.2530     0.2530     0.0000 |   0.000000   0.0000e+00 |   0.6615   553           |   0.2496     0.2496     0.0000 |   0.6938   567             |  5.000e-04   0.000e+00 |              \n",
      "04:56:37 582/600  |   0.2530     0.2530     0.0000 |   0.000000   0.0000e+00 |   0.6615   553           |   0.2495     0.2495     0.0000 |   0.6942   567             |  5.000e-04   0.000e+00 |              \n",
      "04:59:34 583/600  |   0.2530     0.2530     0.0000 |   0.000000   0.0000e+00 |   0.6625   553           |   0.2496     0.2496     0.0000 |   0.6934   567             |  5.000e-04   0.000e+00 |              \n",
      "05:02:30 584/600  |   0.2530     0.2530     0.0000 |   0.000000   0.0000e+00 |   0.6618   553           |   0.2494     0.2494     0.0000 |   0.6953   567             |  5.000e-04   0.000e+00 |              \n",
      "05:05:28 585/600  |   0.2530     0.2530     0.0000 |   0.000000   0.0000e+00 |   0.6623   553           |   0.2496     0.2496     0.0000 |   0.6935   567             |  5.000e-04   0.000e+00 |              \n",
      "05:08:27 586/600  |   0.2530     0.2530     0.0000 |   0.000000   0.0000e+00 |   0.6613   553           |   0.2495     0.2495     0.0000 |   0.6933   567             |  5.000e-04   0.000e+00 |              \n",
      "05:11:22 587/600  |   0.2530     0.2530     0.0000 |   0.000000   0.0000e+00 |   0.6613   553           |   0.2495     0.2495     0.0000 |   0.6930   567             |  5.000e-04   0.000e+00 |              \n",
      "05:14:18 588/600  |   0.2529     0.2529     0.0000 |   0.000000   0.0000e+00 |   0.6633   553           |   0.2496     0.2496     0.0000 |   0.6927   567             |  5.000e-04   0.000e+00 |              \n",
      "05:17:14 589/600  |   0.2530     0.2530     0.0000 |   0.000000   0.0000e+00 |   0.6615   553           |   0.2494     0.2494     0.0000 |   0.6951   567             |  5.000e-04   0.000e+00 |              \n",
      "05:20:11 590/600  |   0.2529     0.2529     0.0000 |   0.000000   0.0000e+00 |   0.6622   553           |   0.2494     0.2494     0.0000 |   0.6957   567             |  5.000e-04   0.000e+00 |              \n",
      "05:23:09 591/600  |   0.2529     0.2529     0.0000 |   0.000000   0.0000e+00 |   0.6617   553           |   0.2495     0.2495     0.0000 |   0.6938   567             |  5.000e-04   0.000e+00 |              \n",
      "05:26:06 592/600  |   0.2529     0.2529     0.0000 |   0.000000   0.0000e+00 |   0.6626   553           |   0.2495     0.2495     0.0000 |   0.6933   567             |  5.000e-04   0.000e+00 |              \n",
      "05:29:04 593/600  |   0.2530     0.2530     0.0000 |   0.000000   0.0000e+00 |   0.6606   553           |   0.2494     0.2494     0.0000 |   0.6939   567             |  5.000e-04   0.000e+00 |              \n",
      "05:32:03 594/600  |   0.2529     0.2529     0.0000 |   0.000000   0.0000e+00 |   0.6616   553           |   0.2494     0.2494     0.0000 |   0.6939   567             |  5.000e-04   0.000e+00 |              \n",
      "05:35:00 595/600  |   0.2529     0.2529     0.0000 |   0.000000   0.0000e+00 |   0.6606   553           |   0.2495     0.2495     0.0000 |   0.6947   567             |  5.000e-04   0.000e+00 |              \n",
      "05:37:58 596/600  |   0.2529     0.2529     0.0000 |   0.000000   0.0000e+00 |   0.6617   553           |   0.2494     0.2494     0.0000 |   0.6945   567             |  5.000e-04   0.000e+00 |              \n",
      "05:40:55 597/600  |   0.2529     0.2529     0.0000 |   0.000000   0.0000e+00 |   0.6617   553           |   0.2495     0.2495     0.0000 |   0.6937   567             |  5.000e-04   0.000e+00 |              \n",
      "05:43:52 598/600  |   0.2529     0.2529     0.0000 |   0.000000   0.0000e+00 |   0.6627   553           |   0.2494     0.2494     0.0000 |   0.6946   567             |  5.000e-04   0.000e+00 |              \n",
      "05:46:48 599/600  |   0.2529     0.2529     0.0000 |   0.000000   0.0000e+00 |   0.6617   553           |   0.2495     0.2495     0.0000 |   0.6944   567             |  5.000e-04   0.000e+00 |              \n",
      "                                                                                                                                                                                                              "
     ]
    },
    {
     "name": "stderr",
     "output_type": "stream",
     "text": [
      "2024-09-26 05:49:46,988 - snnl.utils.utils_ptsnnl - INFO: -  Model exported to ckpts/AE_base_scpb600_150Ltnt_512_20240923_1943_ep_600.pt - epoch: 600\n",
      "2024-09-26 05:49:47,055 - snnl.utils.utils_ptsnnl - INFO: -  Model exported to ckpts/AE_base_scpb600_150Ltnt_512_20240923_1943_LAST_ep_600.pt - epoch: 600\n"
     ]
    },
    {
     "name": "stdout",
     "output_type": "stream",
     "text": [
      "05:49:46 600/600  |   0.2529     0.2529     0.0000 |   0.000000   0.0000e+00 |   0.6619   553           |   0.2494     0.2494     0.0000 |   0.6948   567             |  5.000e-04   0.000e+00 |\n",
      "Last Epoch 600\n",
      " 2024-09-26 05:49:47  End: epoch  600 of  600\n"
     ]
    }
   ],
   "source": [
    "print(f\" {datetime.now().strftime('%Y-%m-%d %H:%M:%S')}  Start: epoch {model.starting_epoch+1:4d} of {model.ending_epoch:4d}\")\n",
    "model.fit(args, data_loaders)\n",
    "print(f\" {datetime.now().strftime('%Y-%m-%d %H:%M:%S')}  End: epoch {model.epoch + 1:4d} of {model.ending_epoch:4d}\")"
   ]
  },
  {
   "cell_type": "code",
   "execution_count": null,
   "id": "1a5d43af-620c-4d17-a340-ce3639725faf",
   "metadata": {},
   "outputs": [],
   "source": [
    "# print(f\" {datetime.now().strftime('%Y-%m-%d %H:%M:%S')}  Start: epoch {model.starting_epoch+1:4d} of {model.ending_epoch:4d}\")\n",
    "# model.fit(args, data_loaders)\n",
    "# print(f\" {datetime.now().strftime('%Y-%m-%d %H:%M:%S')}  End: epoch {model.epoch + 1:4d} of {model.ending_epoch:4d}\")"
   ]
  },
  {
   "cell_type": "code",
   "execution_count": null,
   "id": "ee6dc79c-ac40-439c-8740-de1220c604ee",
   "metadata": {},
   "outputs": [],
   "source": [
    "# model.use_temp_optimizer\n",
    "# take_checkpoint(model, args, epoch=306, update_best = True)\n",
    "# model.use_temp_optimizer\n",
    "# model.temp_params\n",
    "# model.anneal_patience = 30\n",
    "# model.optimizers['prim'].param_groups[0]"
   ]
  },
  {
   "cell_type": "code",
   "execution_count": 32,
   "id": "4283bd5c-f638-42aa-bd96-32dd1688cf07",
   "metadata": {
    "execution": {
     "iopub.execute_input": "2024-09-24T17:09:24.889339Z",
     "iopub.status.busy": "2024-09-24T17:09:24.888789Z",
     "iopub.status.idle": "2024-09-24T17:09:24.948175Z",
     "shell.execute_reply": "2024-09-24T17:09:24.947555Z",
     "shell.execute_reply.started": "2024-09-24T17:09:24.889297Z"
    }
   },
   "outputs": [
    {
     "data": {
      "text/plain": [
       "(199, 0, 200)"
      ]
     },
     "execution_count": 32,
     "metadata": {},
     "output_type": "execute_result"
    }
   ],
   "source": [
    "model.epoch, model.starting_epoch, model.ending_epoch"
   ]
  },
  {
   "cell_type": "code",
   "execution_count": 43,
   "id": "b903fb80-57b0-44d0-bb4a-a84abb989fb0",
   "metadata": {
    "execution": {
     "iopub.execute_input": "2024-09-25T22:54:28.800597Z",
     "iopub.status.busy": "2024-09-25T22:54:28.799448Z",
     "iopub.status.idle": "2024-09-25T22:54:28.910695Z",
     "shell.execute_reply": "2024-09-25T22:54:28.909561Z",
     "shell.execute_reply.started": "2024-09-25T22:54:28.800545Z"
    },
    "scrolled": true
   },
   "outputs": [
    {
     "name": "stdout",
     "output_type": "stream",
     "text": [
      "  time   ep / eps |  Trn_loss   Primary      SNNL  |   temp*         grad    |   R2      BestEp         |  Vld_loss   Primary      SNNL  |   R2       BestEp          |   LR        temp LR    |\n",
      "------------------+--------------------------------+-------------------------+--------------------------+--------------------------------+----------------------------|------------------------|\n",
      "19:50:40  1 /500  |   0.5752     0.5752     0.0000 |   0.000000   0.0000e+00 |  -5.5433   499           |   0.3344     0.3344     0.0000 |   0.3240    94             |  1.000e-03   0.000e+00 |\n",
      "19:53:34  2 /500  |   0.3083     0.3083     0.0000 |   0.000000   0.0000e+00 |   0.2987   499           |   0.2821     0.2821     0.0000 |   0.4608    94             |  1.000e-03   0.000e+00 |\n",
      "19:56:29  3 /500  |   0.2816     0.2816     0.0000 |   0.000000   0.0000e+00 |   0.5123   499           |   0.2709     0.2709     0.0000 |   0.6560    94             |  1.000e-03   0.000e+00 |\n",
      "19:59:26  4 /500  |   0.2752     0.2752     0.0000 |   0.000000   0.0000e+00 |   0.5817   499           |   0.2680     0.2680     0.0000 |   0.6029    94             |  1.000e-03   0.000e+00 |\n",
      "20:02:23  5 /500  |   0.2714     0.2714     0.0000 |   0.000000   0.0000e+00 |   0.5670   499           |   0.2656     0.2656     0.0000 |   0.4621    94             |  1.000e-03   0.000e+00 |\n",
      "20:05:18  6 /500  |   0.2694     0.2694     0.0000 |   0.000000   0.0000e+00 |   0.5423   499           |   0.2667     0.2667     0.0000 |   0.4945    94             |  1.000e-03   0.000e+00 |\n",
      "20:08:14  7 /500  |   0.2692     0.2692     0.0000 |   0.000000   0.0000e+00 |   0.5109   499           |   0.2653     0.2653     0.0000 |   0.3555    94             |  1.000e-03   0.000e+00 |\n",
      "20:11:12  8 /500  |   0.2697     0.2697     0.0000 |   0.000000   0.0000e+00 |   0.5713   499           |   0.2633     0.2633     0.0000 |   0.5369    94             |  1.000e-03   0.000e+00 |\n",
      "20:14:08  9 /500  |   0.2682     0.2682     0.0000 |   0.000000   0.0000e+00 |   0.5660   499           |   0.2639     0.2639     0.0000 |   0.5471    94             |  1.000e-03   0.000e+00 |\n",
      "20:17:04 10 /500  |   0.2678     0.2678     0.0000 |   0.000000   0.0000e+00 |   0.5261   499           |   0.2633     0.2633     0.0000 |   0.2671    94             |  1.000e-03   0.000e+00 |\n",
      "20:20:01 11 /500  |   0.2677     0.2677     0.0000 |   0.000000   0.0000e+00 |   0.5566   499           |   0.2643     0.2643     0.0000 |   0.5829    94             |  1.000e-03   0.000e+00 |\n",
      "20:22:59 12 /500  |   0.2671     0.2671     0.0000 |   0.000000   0.0000e+00 |   0.5619   499           |   0.2621     0.2621     0.0000 |   0.4269    94             |  1.000e-03   0.000e+00 |\n",
      "20:25:55 13 /500  |   0.2662     0.2662     0.0000 |   0.000000   0.0000e+00 |   0.5682   499           |   0.2622     0.2622     0.0000 |   0.4935    94             |  1.000e-03   0.000e+00 |\n",
      "20:28:55 14 /500  |   0.2672     0.2672     0.0000 |   0.000000   0.0000e+00 |   0.5374   499           |   0.2628     0.2628     0.0000 |   0.3966    94             |  1.000e-03   0.000e+00 |\n",
      "20:31:52 15 /500  |   0.2658     0.2658     0.0000 |   0.000000   0.0000e+00 |   0.5646   499           |   0.2612     0.2612     0.0000 |   0.3203    94             |  1.000e-03   0.000e+00 |\n",
      "20:34:51 16 /500  |   0.2661     0.2661     0.0000 |   0.000000   0.0000e+00 |   0.5368   499           |   0.2627     0.2627     0.0000 |   0.2049    94             |  1.000e-03   0.000e+00 |\n",
      "20:37:48 17 /500  |   0.2652     0.2652     0.0000 |   0.000000   0.0000e+00 |   0.5658   499           |   0.2612     0.2612     0.0000 |   0.5465    94             |  1.000e-03   0.000e+00 |\n",
      "20:40:43 18 /500  |   0.2655     0.2655     0.0000 |   0.000000   0.0000e+00 |   0.5713   499           |   0.2603     0.2603     0.0000 |   0.4905    94             |  1.000e-03   0.000e+00 |\n",
      "20:43:39 19 /500  |   0.2650     0.2650     0.0000 |   0.000000   0.0000e+00 |   0.5765   499           |   0.2621     0.2621     0.0000 |   0.2326    94             |  1.000e-03   0.000e+00 |\n",
      "20:46:35 20 /500  |   0.2646     0.2646     0.0000 |   0.000000   0.0000e+00 |   0.5573   499           |   0.2613     0.2613     0.0000 |   0.2717    94             |  1.000e-03   0.000e+00 |\n",
      "20:49:30 21 /500  |   0.2643     0.2643     0.0000 |   0.000000   0.0000e+00 |   0.5551   499           |   0.2597     0.2597     0.0000 |   0.6046    94             |  1.000e-03   0.000e+00 |\n",
      "20:52:26 22 /500  |   0.2645     0.2645     0.0000 |   0.000000   0.0000e+00 |   0.5502   499           |   0.2620     0.2620     0.0000 |   0.3913    94             |  1.000e-03   0.000e+00 |\n",
      "20:55:23 23 /500  |   0.2637     0.2637     0.0000 |   0.000000   0.0000e+00 |   0.5911   499           |   0.2603     0.2603     0.0000 |   0.5573    94             |  1.000e-03   0.000e+00 |\n",
      "20:58:21 24 /500  |   0.2640     0.2640     0.0000 |   0.000000   0.0000e+00 |   0.5695   499           |   0.2587     0.2587     0.0000 |   0.5888    94             |  1.000e-03   0.000e+00 |\n",
      "21:01:18 25 /500  |   0.2638     0.2638     0.0000 |   0.000000   0.0000e+00 |   0.5568   499           |   0.2614     0.2614     0.0000 |   0.5425    94             |  1.000e-03   0.000e+00 |\n",
      "21:04:15 26 /500  |   0.2641     0.2641     0.0000 |   0.000000   0.0000e+00 |   0.5913   499           |   0.2600     0.2600     0.0000 |   0.6092    94             |  1.000e-03   0.000e+00 |\n",
      "21:07:11 27 /500  |   0.2632     0.2632     0.0000 |   0.000000   0.0000e+00 |   0.5857   499           |   0.2596     0.2596     0.0000 |   0.6157    94             |  1.000e-03   0.000e+00 |\n",
      "21:10:07 28 /500  |   0.2634     0.2634     0.0000 |   0.000000   0.0000e+00 |   0.5936   499           |   0.2598     0.2598     0.0000 |   0.6721    94             |  1.000e-03   0.000e+00 |\n",
      "21:13:03 29 /500  |   0.2629     0.2629     0.0000 |   0.000000   0.0000e+00 |   0.5953   499           |   0.2595     0.2595     0.0000 |   0.6130    94             |  1.000e-03   0.000e+00 |\n",
      "21:15:59 30 /500  |   0.2628     0.2628     0.0000 |   0.000000   0.0000e+00 |   0.5761   499           |   0.2585     0.2585     0.0000 |   0.6745    94             |  1.000e-03   0.000e+00 |\n",
      "21:18:54 31 /500  |   0.2629     0.2629     0.0000 |   0.000000   0.0000e+00 |   0.5659   499           |   0.2599     0.2599     0.0000 |   0.4792    94             |  1.000e-03   0.000e+00 |\n",
      "21:21:44 32 /500  |   0.2623     0.2623     0.0000 |   0.000000   0.0000e+00 |   0.5735   499           |   0.2586     0.2586     0.0000 |   0.6693    94             |  1.000e-03   0.000e+00 |\n",
      "21:24:34 33 /500  |   0.2620     0.2620     0.0000 |   0.000000   0.0000e+00 |   0.5829   499           |   0.2584     0.2584     0.0000 |   0.6721    94             |  1.000e-03   0.000e+00 |\n",
      "21:27:23 34 /500  |   0.2619     0.2619     0.0000 |   0.000000   0.0000e+00 |   0.5936   499           |   0.2590     0.2590     0.0000 |   0.6663    94             |  1.000e-03   0.000e+00 |\n",
      "21:30:13 35 /500  |   0.2623     0.2623     0.0000 |   0.000000   0.0000e+00 |   0.5838   499           |   0.2583     0.2583     0.0000 |   0.6770    94             |  1.000e-03   0.000e+00 |\n",
      "21:33:04 36 /500  |   0.2612     0.2612     0.0000 |   0.000000   0.0000e+00 |   0.6035   499           |   0.2574     0.2574     0.0000 |   0.6794    94             |  1.000e-03   0.000e+00 |\n",
      "21:35:54 37 /500  |   0.2610     0.2610     0.0000 |   0.000000   0.0000e+00 |   0.5807   499           |   0.2583     0.2583     0.0000 |   0.6744    94             |  1.000e-03   0.000e+00 |\n",
      "21:38:44 38 /500  |   0.2615     0.2615     0.0000 |   0.000000   0.0000e+00 |   0.5882   499           |   0.2587     0.2587     0.0000 |   0.6819    94             |  1.000e-03   0.000e+00 |\n",
      "21:41:34 39 /500  |   0.2613     0.2613     0.0000 |   0.000000   0.0000e+00 |   0.5741   499           |   0.2574     0.2574     0.0000 |   0.6731    94             |  1.000e-03   0.000e+00 |\n",
      "21:44:24 40 /500  |   0.2612     0.2612     0.0000 |   0.000000   0.0000e+00 |   0.6003   499           |   0.2591     0.2591     0.0000 |   0.6833    94             |  1.000e-03   0.000e+00 |\n",
      "21:47:15 41 /500  |   0.2609     0.2609     0.0000 |   0.000000   0.0000e+00 |   0.6008   499           |   0.2572     0.2572     0.0000 |   0.6828    94             |  1.000e-03   0.000e+00 |\n",
      "21:50:05 42 /500  |   0.2611     0.2611     0.0000 |   0.000000   0.0000e+00 |   0.5943   499           |   0.2568     0.2568     0.0000 |   0.6857    94             |  1.000e-03   0.000e+00 |\n",
      "21:52:57 43 /500  |   0.2614     0.2614     0.0000 |   0.000000   0.0000e+00 |   0.5540   499           |   0.2580     0.2580     0.0000 |   0.6553    94             |  1.000e-03   0.000e+00 |\n",
      "21:55:49 44 /500  |   0.2607     0.2607     0.0000 |   0.000000   0.0000e+00 |   0.6016   499           |   0.2576     0.2576     0.0000 |   0.6628    94             |  1.000e-03   0.000e+00 |\n",
      "21:58:38 45 /500  |   0.2603     0.2603     0.0000 |   0.000000   0.0000e+00 |   0.5902   499           |   0.2564     0.2564     0.0000 |   0.6557    94             |  1.000e-03   0.000e+00 |\n",
      "22:01:27 46 /500  |   0.2602     0.2602     0.0000 |   0.000000   0.0000e+00 |   0.6056   499           |   0.2578     0.2578     0.0000 |   0.6865    94             |  1.000e-03   0.000e+00 |\n",
      "22:04:16 47 /500  |   0.2602     0.2602     0.0000 |   0.000000   0.0000e+00 |   0.5898   499           |   0.2559     0.2559     0.0000 |   0.6837    94             |  1.000e-03   0.000e+00 |\n",
      "22:07:10 48 /500  |   0.2603     0.2603     0.0000 |   0.000000   0.0000e+00 |   0.5861   499           |   0.2575     0.2575     0.0000 |   0.6525    94             |  1.000e-03   0.000e+00 |\n",
      "22:10:04 49 /500  |   0.2601     0.2601     0.0000 |   0.000000   0.0000e+00 |   0.6021   499           |   0.2570     0.2570     0.0000 |   0.6852    94             |  1.000e-03   0.000e+00 |\n",
      "22:12:58 50 /500  |   0.2600     0.2600     0.0000 |   0.000000   0.0000e+00 |   0.6077   499           |   0.2570     0.2570     0.0000 |   0.6718    94             |  1.000e-03   0.000e+00 |\n",
      "22:15:50 51 /500  |   0.2604     0.2604     0.0000 |   0.000000   0.0000e+00 |   0.5914   499           |   0.2577     0.2577     0.0000 |   0.6082    94             |  1.000e-03   0.000e+00 |\n",
      "22:18:43 52 /500  |   0.2600     0.2600     0.0000 |   0.000000   0.0000e+00 |   0.5783   499           |   0.2561     0.2561     0.0000 |   0.6520    94             |  1.000e-03   0.000e+00 |\n",
      "22:21:36 53 /500  |   0.2602     0.2602     0.0000 |   0.000000   0.0000e+00 |   0.6022   499           |   0.2575     0.2575     0.0000 |   0.6865    94             |  1.000e-03   0.000e+00 |\n",
      "22:24:30 54 /500  |   0.2601     0.2601     0.0000 |   0.000000   0.0000e+00 |   0.6038   499           |   0.2566     0.2566     0.0000 |   0.6702    94             |  1.000e-03   0.000e+00 |\n",
      "22:27:24 55 /500  |   0.2596     0.2596     0.0000 |   0.000000   0.0000e+00 |   0.5999   499           |   0.2558     0.2558     0.0000 |   0.6830    94             |  1.000e-03   0.000e+00 |\n",
      "22:30:15 56 /500  |   0.2597     0.2597     0.0000 |   0.000000   0.0000e+00 |   0.6031   499           |   0.2564     0.2564     0.0000 |   0.6887    94             |  1.000e-03   0.000e+00 |\n",
      "22:33:06 57 /500  |   0.2598     0.2598     0.0000 |   0.000000   0.0000e+00 |   0.5960   499           |   0.2571     0.2571     0.0000 |   0.6817    94             |  1.000e-03   0.000e+00 |\n",
      "22:35:55 58 /500  |   0.2596     0.2596     0.0000 |   0.000000   0.0000e+00 |   0.5990   499           |   0.2578     0.2578     0.0000 |   0.6731    94             |  1.000e-03   0.000e+00 |\n",
      "22:38:45 59 /500  |   0.2596     0.2596     0.0000 |   0.000000   0.0000e+00 |   0.6029   499           |   0.2572     0.2572     0.0000 |   0.6879    94             |  1.000e-03   0.000e+00 |\n",
      "22:41:36 60 /500  |   0.2599     0.2599     0.0000 |   0.000000   0.0000e+00 |   0.5848   499           |   0.2566     0.2566     0.0000 |   0.6733    94             |  1.000e-03   0.000e+00 |\n",
      "22:44:27 61 /500  |   0.2590     0.2590     0.0000 |   0.000000   0.0000e+00 |   0.6108   499           |   0.2559     0.2559     0.0000 |   0.6904    94             |  1.000e-03   0.000e+00 |\n",
      "22:47:18 62 /500  |   0.2593     0.2593     0.0000 |   0.000000   0.0000e+00 |   0.6101   499           |   0.2569     0.2569     0.0000 |   0.6911    94             |  1.000e-03   0.000e+00 |\n",
      "22:50:09 63 /500  |   0.2594     0.2594     0.0000 |   0.000000   0.0000e+00 |   0.5996   499           |   0.2564     0.2564     0.0000 |   0.6904    94             |  1.000e-03   0.000e+00 |\n",
      "22:52:57 64 /500  |   0.2598     0.2598     0.0000 |   0.000000   0.0000e+00 |   0.5894   499           |   0.2568     0.2568     0.0000 |   0.6809    94             |  1.000e-03   0.000e+00 |\n",
      "22:55:47 65 /500  |   0.2591     0.2591     0.0000 |   0.000000   0.0000e+00 |   0.6080   499           |   0.2560     0.2560     0.0000 |   0.6908    94             |  1.000e-03   0.000e+00 |\n",
      "22:58:36 66 /500  |   0.2590     0.2590     0.0000 |   0.000000   0.0000e+00 |   0.5980   499           |   0.2562     0.2562     0.0000 |   0.6829    94             |  1.000e-03   0.000e+00 |\n",
      "23:01:26 67 /500  |   0.2591     0.2591     0.0000 |   0.000000   0.0000e+00 |   0.6096   499           |   0.2557     0.2557     0.0000 |   0.6918    94             |  1.000e-03   0.000e+00 |\n",
      "23:04:17 68 /500  |   0.2594     0.2594     0.0000 |   0.000000   0.0000e+00 |   0.6149   499           |   0.2564     0.2564     0.0000 |   0.6898    94             |  1.000e-03   0.000e+00 |\n",
      "23:07:06 69 /500  |   0.2589     0.2589     0.0000 |   0.000000   0.0000e+00 |   0.6053   499           |   0.2567     0.2567     0.0000 |   0.6888    94             |  1.000e-03   0.000e+00 |\n",
      "23:09:54 70 /500  |   0.2588     0.2588     0.0000 |   0.000000   0.0000e+00 |   0.5992   499           |   0.2550     0.2550     0.0000 |   0.6816    94             |  1.000e-03   0.000e+00 |\n",
      "23:12:46 71 /500  |   0.2589     0.2589     0.0000 |   0.000000   0.0000e+00 |   0.6078   499           |   0.2563     0.2563     0.0000 |   0.6914    94             |  1.000e-03   0.000e+00 |\n",
      "23:15:34 72 /500  |   0.2594     0.2594     0.0000 |   0.000000   0.0000e+00 |   0.6108   499           |   0.2559     0.2559     0.0000 |   0.6816    94             |  1.000e-03   0.000e+00 |\n",
      "23:18:24 73 /500  |   0.2587     0.2587     0.0000 |   0.000000   0.0000e+00 |   0.6007   499           |   0.2556     0.2556     0.0000 |   0.6945    94             |  1.000e-03   0.000e+00 |\n",
      "23:21:14 74 /500  |   0.2589     0.2589     0.0000 |   0.000000   0.0000e+00 |   0.6068   499           |   0.2553     0.2553     0.0000 |   0.6880    94             |  1.000e-03   0.000e+00 |\n",
      "23:24:05 75 /500  |   0.2587     0.2587     0.0000 |   0.000000   0.0000e+00 |   0.6004   499           |   0.2569     0.2569     0.0000 |   0.6821    94             |  1.000e-03   0.000e+00 |\n",
      "23:26:54 76 /500  |   0.2587     0.2587     0.0000 |   0.000000   0.0000e+00 |   0.5957   499           |   0.2555     0.2555     0.0000 |   0.6944    94             |  1.000e-03   0.000e+00 |\n",
      "23:29:45 77 /500  |   0.2587     0.2587     0.0000 |   0.000000   0.0000e+00 |   0.6057   499           |   0.2559     0.2559     0.0000 |   0.6793    94             |  1.000e-03   0.000e+00 |\n",
      "23:32:35 78 /500  |   0.2590     0.2590     0.0000 |   0.000000   0.0000e+00 |   0.5998   499           |   0.2557     0.2557     0.0000 |   0.6893    94             |  1.000e-03   0.000e+00 |\n",
      "23:35:26 79 /500  |   0.2586     0.2586     0.0000 |   0.000000   0.0000e+00 |   0.6050   499           |   0.2553     0.2553     0.0000 |   0.6881    94             |  1.000e-03   0.000e+00 |\n",
      "23:38:15 80 /500  |   0.2587     0.2587     0.0000 |   0.000000   0.0000e+00 |   0.6129   499           |   0.2559     0.2559     0.0000 |   0.6924    94             |  1.000e-03   0.000e+00 |\n",
      "23:41:04 81 /500  |   0.2586     0.2586     0.0000 |   0.000000   0.0000e+00 |   0.6118   499           |   0.2551     0.2551     0.0000 |   0.6885    94             |  1.000e-03   0.000e+00 |\n",
      "23:43:54 82 /500  |   0.2586     0.2586     0.0000 |   0.000000   0.0000e+00 |   0.6130   499           |   0.2549     0.2549     0.0000 |   0.6912    94             |  1.000e-03   0.000e+00 |\n",
      "23:46:45 83 /500  |   0.2588     0.2588     0.0000 |   0.000000   0.0000e+00 |   0.5955   499           |   0.2564     0.2564     0.0000 |   0.6633    94             |  1.000e-03   0.000e+00 |\n",
      "23:49:35 84 /500  |   0.2585     0.2585     0.0000 |   0.000000   0.0000e+00 |   0.6106   499           |   0.2554     0.2554     0.0000 |   0.6934    94             |  1.000e-03   0.000e+00 |\n",
      "23:52:26 85 /500  |   0.2588     0.2588     0.0000 |   0.000000   0.0000e+00 |   0.6062   499           |   0.2563     0.2563     0.0000 |   0.6881    94             |  1.000e-03   0.000e+00 |\n",
      "23:55:15 86 /500  |   0.2584     0.2584     0.0000 |   0.000000   0.0000e+00 |   0.6083   499           |   0.2555     0.2555     0.0000 |   0.6924    94             |  1.000e-03   0.000e+00 |\n",
      "23:58:05 87 /500  |   0.2586     0.2586     0.0000 |   0.000000   0.0000e+00 |   0.6075   499           |   0.2553     0.2553     0.0000 |   0.6894    94             |  1.000e-03   0.000e+00 |\n",
      "00:00:57 88 /500  |   0.2584     0.2584     0.0000 |   0.000000   0.0000e+00 |   0.6074   499           |   0.2553     0.2553     0.0000 |   0.6887    94             |  1.000e-03   0.000e+00 |\n",
      "00:03:49 89 /500  |   0.2585     0.2585     0.0000 |   0.000000   0.0000e+00 |   0.6113   499           |   0.2550     0.2550     0.0000 |   0.6876    94             |  1.000e-03   0.000e+00 |\n",
      "00:06:40 90 /500  |   0.2583     0.2583     0.0000 |   0.000000   0.0000e+00 |   0.6119   499           |   0.2557     0.2557     0.0000 |   0.6939    94             |  1.000e-03   0.000e+00 |\n",
      "00:09:29 91 /500  |   0.2585     0.2585     0.0000 |   0.000000   0.0000e+00 |   0.6085   499           |   0.2556     0.2556     0.0000 |   0.6849    94             |  1.000e-03   0.000e+00 |\n",
      "00:12:21 92 /500  |   0.2582     0.2582     0.0000 |   0.000000   0.0000e+00 |   0.6157   499           |   0.2552     0.2552     0.0000 |   0.6905    94             |  1.000e-03   0.000e+00 |\n",
      "00:15:12 93 /500  |   0.2583     0.2583     0.0000 |   0.000000   0.0000e+00 |   0.6028   499           |   0.2546     0.2546     0.0000 |   0.6930    94             |  1.000e-03   0.000e+00 |\n",
      "00:18:06 94 /500  |   0.2582     0.2582     0.0000 |   0.000000   0.0000e+00 |   0.6149   499           |   0.2551     0.2551     0.0000 |   0.6947    94             |  1.000e-03   0.000e+00 |\n",
      "00:21:01 95 /500  |   0.2584     0.2584     0.0000 |   0.000000   0.0000e+00 |   0.6150   499           |   0.2550     0.2550     0.0000 |   0.6943    94             |  1.000e-03   0.000e+00 |\n",
      "00:23:55 96 /500  |   0.2583     0.2583     0.0000 |   0.000000   0.0000e+00 |   0.6043   499           |   0.2552     0.2552     0.0000 |   0.6929    94             |  1.000e-03   0.000e+00 |\n",
      "00:26:47 97 /500  |   0.2582     0.2582     0.0000 |   0.000000   0.0000e+00 |   0.6048   499           |   0.2548     0.2548     0.0000 |   0.6926    94             |  1.000e-03   0.000e+00 |\n",
      "00:29:36 98 /500  |   0.2582     0.2582     0.0000 |   0.000000   0.0000e+00 |   0.6055   499           |   0.2550     0.2550     0.0000 |   0.6941    94             |  1.000e-03   0.000e+00 |\n",
      "00:32:26 99 /500  |   0.2582     0.2582     0.0000 |   0.000000   0.0000e+00 |   0.6017   499           |   0.2545     0.2545     0.0000 |   0.6892    94             |  1.000e-03   0.000e+00 |\n",
      "00:35:15 100/500  |   0.2580     0.2580     0.0000 |   0.000000   0.0000e+00 |   0.6110   499           |   0.2545     0.2545     0.0000 |   0.6924    94             |  1.000e-03   0.000e+00 |\n",
      "00:38:04 101/500  |   0.2584     0.2584     0.0000 |   0.000000   0.0000e+00 |   0.6017   499           |   0.2553     0.2553     0.0000 |   0.6926    94             |  1.000e-03   0.000e+00 |\n",
      "00:40:54 102/500  |   0.2585     0.2585     0.0000 |   0.000000   0.0000e+00 |   0.5993   499           |   0.2554     0.2554     0.0000 |   0.6758    94             |  1.000e-03   0.000e+00 |\n",
      "00:43:43 103/500  |   0.2582     0.2582     0.0000 |   0.000000   0.0000e+00 |   0.6097   499           |   0.2550     0.2550     0.0000 |   0.6709    94             |  1.000e-03   0.000e+00 |\n",
      "00:46:33 104/500  |   0.2580     0.2580     0.0000 |   0.000000   0.0000e+00 |   0.6071   499           |   0.2538     0.2538     0.0000 |   0.6887    94             |  1.000e-03   0.000e+00 |\n",
      "00:49:23 105/500  |   0.2578     0.2578     0.0000 |   0.000000   0.0000e+00 |   0.6120   499           |   0.2545     0.2545     0.0000 |   0.6882    94             |  1.000e-03   0.000e+00 |\n",
      "00:52:13 106/500  |   0.2582     0.2582     0.0000 |   0.000000   0.0000e+00 |   0.6117   499           |   0.2543     0.2543     0.0000 |   0.6879    94             |  1.000e-03   0.000e+00 |\n",
      "00:55:03 107/500  |   0.2583     0.2583     0.0000 |   0.000000   0.0000e+00 |   0.5963   499           |   0.2552     0.2552     0.0000 |   0.6413    94             |  1.000e-03   0.000e+00 |\n",
      "00:57:52 108/500  |   0.2579     0.2579     0.0000 |   0.000000   0.0000e+00 |   0.6121   499           |   0.2545     0.2545     0.0000 |   0.6880    94             |  1.000e-03   0.000e+00 |\n",
      "01:00:43 109/500  |   0.2581     0.2581     0.0000 |   0.000000   0.0000e+00 |   0.6092   499           |   0.2550     0.2550     0.0000 |   0.6516    94             |  1.000e-03   0.000e+00 |\n",
      "01:03:35 110/500  |   0.2580     0.2580     0.0000 |   0.000000   0.0000e+00 |   0.6013   499           |   0.2546     0.2546     0.0000 |   0.6778    94             |  1.000e-03   0.000e+00 |\n",
      "01:06:25 111/500  |   0.2579     0.2579     0.0000 |   0.000000   0.0000e+00 |   0.6094   499           |   0.2548     0.2548     0.0000 |   0.6765    94             |  1.000e-03   0.000e+00 |\n",
      "01:09:16 112/500  |   0.2580     0.2580     0.0000 |   0.000000   0.0000e+00 |   0.5968   499           |   0.2548     0.2548     0.0000 |   0.6711    94             |  1.000e-03   0.000e+00 |\n",
      "01:12:07 113/500  |   0.2579     0.2579     0.0000 |   0.000000   0.0000e+00 |   0.6093   499           |   0.2544     0.2544     0.0000 |   0.6566    94             |  1.000e-03   0.000e+00 |\n",
      "01:14:56 114/500  |   0.2578     0.2578     0.0000 |   0.000000   0.0000e+00 |   0.6092   499           |   0.2553     0.2553     0.0000 |   0.6780    94             |  1.000e-03   0.000e+00 |\n",
      "01:17:47 115/500  |   0.2581     0.2581     0.0000 |   0.000000   0.0000e+00 |   0.6078   499           |   0.2548     0.2548     0.0000 |   0.6609    94             |  1.000e-03   0.000e+00 |\n",
      "01:20:38 116/500  |   0.2581     0.2581     0.0000 |   0.000000   0.0000e+00 |   0.6088   499           |   0.2553     0.2553     0.0000 |   0.6135    94             |  1.000e-03   0.000e+00 |\n",
      "01:23:28 117/500  |   0.2578     0.2578     0.0000 |   0.000000   0.0000e+00 |   0.6132   499           |   0.2548     0.2548     0.0000 |   0.6790    94             |  1.000e-03   0.000e+00 |\n",
      "01:26:20 118/500  |   0.2580     0.2580     0.0000 |   0.000000   0.0000e+00 |   0.6088   499           |   0.2538     0.2538     0.0000 |   0.6895    94             |  1.000e-03   0.000e+00 |\n",
      "01:29:11 119/500  |   0.2578     0.2578     0.0000 |   0.000000   0.0000e+00 |   0.6078   499           |   0.2543     0.2543     0.0000 |   0.6868    94             |  1.000e-03   0.000e+00 |\n",
      "01:32:00 120/500  |   0.2579     0.2579     0.0000 |   0.000000   0.0000e+00 |   0.6141   499           |   0.2544     0.2544     0.0000 |   0.6642    94             |  1.000e-03   0.000e+00 |\n",
      "01:34:51 121/500  |   0.2582     0.2582     0.0000 |   0.000000   0.0000e+00 |   0.6087   499           |   0.2545     0.2545     0.0000 |   0.6554    94             |  1.000e-03   0.000e+00 |\n",
      "01:37:41 122/500  |   0.2577     0.2577     0.0000 |   0.000000   0.0000e+00 |   0.6161   499           |   0.2546     0.2546     0.0000 |   0.6867    94             |  1.000e-03   0.000e+00 |\n",
      "01:40:31 123/500  |   0.2578     0.2578     0.0000 |   0.000000   0.0000e+00 |   0.6053   499           |   0.2546     0.2546     0.0000 |   0.6607    94             |  1.000e-03   0.000e+00 |\n",
      "01:43:20 124/500  |   0.2580     0.2580     0.0000 |   0.000000   0.0000e+00 |   0.6060   499           |   0.2543     0.2543     0.0000 |   0.6713    94             |  1.000e-03   0.000e+00 |\n",
      "01:46:11 125/500  |   0.2578     0.2578     0.0000 |   0.000000   0.0000e+00 |   0.6063   499           |   0.2546     0.2546     0.0000 |   0.6748    94             |  1.000e-03   0.000e+00 |\n",
      "01:49:03 126/500  |   0.2581     0.2581     0.0000 |   0.000000   0.0000e+00 |   0.5982   499           |   0.2545     0.2545     0.0000 |   0.6239    94             |  1.000e-03   0.000e+00 |\n",
      "01:51:53 127/500  |   0.2576     0.2576     0.0000 |   0.000000   0.0000e+00 |   0.6101   499           |   0.2546     0.2546     0.0000 |   0.6628    94             |  1.000e-03   0.000e+00 |\n",
      "01:54:51 128/500  |   0.2578     0.2578     0.0000 |   0.000000   0.0000e+00 |   0.6145   499           |   0.2541     0.2541     0.0000 |   0.6775    94             |  1.000e-03   0.000e+00 |\n",
      "01:57:49 129/500  |   0.2579     0.2579     0.0000 |   0.000000   0.0000e+00 |   0.6074   499           |   0.2555     0.2555     0.0000 |   0.6447    94             |  1.000e-03   0.000e+00 |\n",
      "02:00:47 130/500  |   0.2578     0.2578     0.0000 |   0.000000   0.0000e+00 |   0.6066   499           |   0.2548     0.2548     0.0000 |   0.6746    94             |  1.000e-03   0.000e+00 |\n",
      "02:03:46 131/500  |   0.2578     0.2578     0.0000 |   0.000000   0.0000e+00 |   0.6120   499           |   0.2543     0.2543     0.0000 |   0.6716    94             |  1.000e-03   0.000e+00 |\n",
      "02:06:45 132/500  |   0.2577     0.2577     0.0000 |   0.000000   0.0000e+00 |   0.6183   499           |   0.2539     0.2539     0.0000 |   0.6730    94             |  1.000e-03   0.000e+00 |\n",
      "02:09:44 133/500  |   0.2578     0.2578     0.0000 |   0.000000   0.0000e+00 |   0.6116   499           |   0.2543     0.2543     0.0000 |   0.6542    94             |  1.000e-03   0.000e+00 |\n",
      "02:12:41 134/500  |   0.2576     0.2576     0.0000 |   0.000000   0.0000e+00 |   0.6102   499           |   0.2537     0.2537     0.0000 |   0.6868    94             |  1.000e-03   0.000e+00 |\n",
      "02:15:39 135/500  |   0.2578     0.2578     0.0000 |   0.000000   0.0000e+00 |   0.6086   499           |   0.2539     0.2539     0.0000 |   0.6830    94             |  1.000e-03   0.000e+00 |\n",
      "02:18:36 136/500  |   0.2575     0.2575     0.0000 |   0.000000   0.0000e+00 |   0.6085   499           |   0.2538     0.2538     0.0000 |   0.6796    94             |  1.000e-03   0.000e+00 |\n",
      "02:21:38 137/500  |   0.2578     0.2578     0.0000 |   0.000000   0.0000e+00 |   0.6136   499           |   0.2541     0.2541     0.0000 |   0.6783    94             |  1.000e-03   0.000e+00 |\n",
      "02:24:35 138/500  |   0.2575     0.2575     0.0000 |   0.000000   0.0000e+00 |   0.5970   499           |   0.2539     0.2539     0.0000 |   0.6793    94             |  1.000e-03   0.000e+00 |\n",
      "02:27:34 139/500  |   0.2580     0.2580     0.0000 |   0.000000   0.0000e+00 |   0.6113   499           |   0.2554     0.2554     0.0000 |   0.6530    94             |  1.000e-03   0.000e+00 |\n",
      "02:30:33 140/500  |   0.2577     0.2577     0.0000 |   0.000000   0.0000e+00 |   0.6189   499           |   0.2544     0.2544     0.0000 |   0.6810    94             |  1.000e-03   0.000e+00 |\n",
      "02:33:31 141/500  |   0.2578     0.2578     0.0000 |   0.000000   0.0000e+00 |   0.6133   499           |   0.2542     0.2542     0.0000 |   0.6691    94             |  1.000e-03   0.000e+00 |\n",
      "02:36:29 142/500  |   0.2575     0.2575     0.0000 |   0.000000   0.0000e+00 |   0.6156   499           |   0.2544     0.2544     0.0000 |   0.6895    94             |  1.000e-03   0.000e+00 |\n",
      "02:39:30 143/500  |   0.2579     0.2579     0.0000 |   0.000000   0.0000e+00 |   0.6053   499           |   0.2543     0.2543     0.0000 |   0.6419    94             |  1.000e-03   0.000e+00 |\n",
      "02:42:29 144/500  |   0.2575     0.2575     0.0000 |   0.000000   0.0000e+00 |   0.6151   499           |   0.2543     0.2543     0.0000 |   0.6889    94             |  1.000e-03   0.000e+00 |\n",
      "02:45:28 145/500  |   0.2576     0.2576     0.0000 |   0.000000   0.0000e+00 |   0.6124   499           |   0.2543     0.2543     0.0000 |   0.6864    94             |  1.000e-03   0.000e+00 |\n",
      "02:48:28 146/500  |   0.2578     0.2578     0.0000 |   0.000000   0.0000e+00 |   0.6069   499           |   0.2548     0.2548     0.0000 |   0.6766    94             |  1.000e-03   0.000e+00 |\n",
      "02:51:26 147/500  |   0.2576     0.2576     0.0000 |   0.000000   0.0000e+00 |   0.6127   499           |   0.2545     0.2545     0.0000 |   0.6726    94             |  1.000e-03   0.000e+00 |\n",
      "02:54:23 148/500  |   0.2578     0.2578     0.0000 |   0.000000   0.0000e+00 |   0.6123   499           |   0.2544     0.2544     0.0000 |   0.6472    94             |  1.000e-03   0.000e+00 |\n",
      "02:57:18 149/500  |   0.2575     0.2575     0.0000 |   0.000000   0.0000e+00 |   0.6123   499           |   0.2544     0.2544     0.0000 |   0.6699    94             |  1.000e-03   0.000e+00 |\n",
      "03:00:14 150/500  |   0.2578     0.2578     0.0000 |   0.000000   0.0000e+00 |   0.6156   499           |   0.2551     0.2551     0.0000 |   0.6493    94             |  1.000e-03   0.000e+00 |\n",
      "03:03:10 151/500  |   0.2575     0.2575     0.0000 |   0.000000   0.0000e+00 |   0.6125   499           |   0.2545     0.2545     0.0000 |   0.6922    94             |  1.000e-03   0.000e+00 |\n",
      "03:06:07 152/500  |   0.2577     0.2577     0.0000 |   0.000000   0.0000e+00 |   0.6097   499           |   0.2542     0.2542     0.0000 |   0.6641    94             |  1.000e-03   0.000e+00 |\n",
      "03:09:05 153/500  |   0.2576     0.2576     0.0000 |   0.000000   0.0000e+00 |   0.6054   499           |   0.2541     0.2541     0.0000 |   0.6768    94             |  1.000e-03   0.000e+00 |\n",
      "03:12:02 154/500  |   0.2577     0.2577     0.0000 |   0.000000   0.0000e+00 |   0.6093   499           |   0.2542     0.2542     0.0000 |   0.6744    94             |  1.000e-03   0.000e+00 |\n",
      "03:15:00 155/500  |   0.2575     0.2575     0.0000 |   0.000000   0.0000e+00 |   0.6138   499           |   0.2542     0.2542     0.0000 |   0.6796    94             |  1.000e-03   0.000e+00 |\n",
      "03:17:55 156/500  |   0.2576     0.2576     0.0000 |   0.000000   0.0000e+00 |   0.6178   499           |   0.2542     0.2542     0.0000 |   0.6825    94             |  1.000e-03   0.000e+00 |\n",
      "03:20:53 157/500  |   0.2576     0.2576     0.0000 |   0.000000   0.0000e+00 |   0.6144   499           |   0.2544     0.2544     0.0000 |   0.6874    94             |  1.000e-03   0.000e+00 |\n",
      "03:23:54 158/500  |   0.2576     0.2576     0.0000 |   0.000000   0.0000e+00 |   0.6159   499           |   0.2542     0.2542     0.0000 |   0.6890    94             |  1.000e-03   0.000e+00 |\n",
      "03:26:52 159/500  |   0.2576     0.2576     0.0000 |   0.000000   0.0000e+00 |   0.6119   499           |   0.2546     0.2546     0.0000 |   0.6713    94             |  1.000e-03   0.000e+00 |\n",
      "03:29:51 160/500  |   0.2576     0.2576     0.0000 |   0.000000   0.0000e+00 |   0.6108   499           |   0.2542     0.2542     0.0000 |   0.6918    94             |  1.000e-03   0.000e+00 |\n",
      "03:32:47 161/500  |   0.2575     0.2575     0.0000 |   0.000000   0.0000e+00 |   0.6162   499           |   0.2540     0.2540     0.0000 |   0.6866    94             |  1.000e-03   0.000e+00 |\n",
      "03:35:45 162/500  |   0.2574     0.2574     0.0000 |   0.000000   0.0000e+00 |   0.6132   499           |   0.2539     0.2539     0.0000 |   0.6897    94             |  1.000e-03   0.000e+00 |\n",
      "03:38:41 163/500  |   0.2576     0.2576     0.0000 |   0.000000   0.0000e+00 |   0.6180   499           |   0.2538     0.2538     0.0000 |   0.6917    94             |  1.000e-03   0.000e+00 |\n",
      "03:41:39 164/500  |   0.2576     0.2576     0.0000 |   0.000000   0.0000e+00 |   0.6136   499           |   0.2539     0.2539     0.0000 |   0.6875    94             |  1.000e-03   0.000e+00 |\n",
      "03:44:36 165/500  |   0.2573     0.2573     0.0000 |   0.000000   0.0000e+00 |   0.6153   499           |   0.2545     0.2545     0.0000 |   0.6860    94             |  1.000e-03   0.000e+00 |\n",
      "03:47:32 166/500  |   0.2577     0.2577     0.0000 |   0.000000   0.0000e+00 |   0.6129   499           |   0.2542     0.2542     0.0000 |   0.6858    94             |  1.000e-03   0.000e+00 |\n",
      "03:50:30 167/500  |   0.2575     0.2575     0.0000 |   0.000000   0.0000e+00 |   0.6101   499           |   0.2541     0.2541     0.0000 |   0.6894    94             |  1.000e-03   0.000e+00 |\n",
      "03:53:28 168/500  |   0.2575     0.2575     0.0000 |   0.000000   0.0000e+00 |   0.6160   499           |   0.2534     0.2534     0.0000 |   0.6931    94             |  1.000e-03   0.000e+00 |\n",
      "03:56:26 169/500  |   0.2574     0.2574     0.0000 |   0.000000   0.0000e+00 |   0.6169   499           |   0.2538     0.2538     0.0000 |   0.6901    94             |  1.000e-03   0.000e+00 |\n",
      "03:59:24 170/500  |   0.2575     0.2575     0.0000 |   0.000000   0.0000e+00 |   0.6086   499           |   0.2538     0.2538     0.0000 |   0.6894    94             |  1.000e-03   0.000e+00 |\n",
      "04:02:21 171/500  |   0.2575     0.2575     0.0000 |   0.000000   0.0000e+00 |   0.6206   499           |   0.2538     0.2538     0.0000 |   0.6915    94             |  1.000e-03   0.000e+00 |\n",
      "04:05:20 172/500  |   0.2575     0.2575     0.0000 |   0.000000   0.0000e+00 |   0.6058   499           |   0.2541     0.2541     0.0000 |   0.6860    94             |  1.000e-03   0.000e+00 |\n",
      "04:08:19 173/500  |   0.2576     0.2576     0.0000 |   0.000000   0.0000e+00 |   0.6128   499           |   0.2536     0.2536     0.0000 |   0.6907    94             |  1.000e-03   0.000e+00 |\n",
      "04:11:15 174/500  |   0.2574     0.2574     0.0000 |   0.000000   0.0000e+00 |   0.6194   499           |   0.2534     0.2534     0.0000 |   0.6908    94             |  1.000e-03   0.000e+00 |\n",
      "04:14:11 175/500  |   0.2575     0.2575     0.0000 |   0.000000   0.0000e+00 |   0.6152   499           |   0.2539     0.2539     0.0000 |   0.6886    94             |  1.000e-03   0.000e+00 |\n",
      "04:17:06 176/500  |   0.2574     0.2574     0.0000 |   0.000000   0.0000e+00 |   0.6165   499           |   0.2535     0.2535     0.0000 |   0.6889    94             |  1.000e-03   0.000e+00 |\n",
      "04:20:01 177/500  |   0.2574     0.2574     0.0000 |   0.000000   0.0000e+00 |   0.6163   499           |   0.2539     0.2539     0.0000 |   0.6867    94             |  1.000e-03   0.000e+00 |\n",
      "04:22:57 178/500  |   0.2575     0.2575     0.0000 |   0.000000   0.0000e+00 |   0.6031   499           |   0.2538     0.2538     0.0000 |   0.6829    94             |  1.000e-03   0.000e+00 |\n",
      "04:25:55 179/500  |   0.2575     0.2575     0.0000 |   0.000000   0.0000e+00 |   0.6217   499           |   0.2534     0.2534     0.0000 |   0.6826    94             |  1.000e-03   0.000e+00 |\n",
      "04:28:53 180/500  |   0.2574     0.2574     0.0000 |   0.000000   0.0000e+00 |   0.6136   499           |   0.2535     0.2535     0.0000 |   0.6823    94             |  1.000e-03   0.000e+00 |\n",
      "04:31:52 181/500  |   0.2574     0.2574     0.0000 |   0.000000   0.0000e+00 |   0.6137   499           |   0.2535     0.2535     0.0000 |   0.6905    94             |  1.000e-03   0.000e+00 |\n",
      "04:34:49 182/500  |   0.2574     0.2574     0.0000 |   0.000000   0.0000e+00 |   0.6195   499           |   0.2536     0.2536     0.0000 |   0.6854    94             |  1.000e-03   0.000e+00 |\n",
      "04:37:47 183/500  |   0.2574     0.2574     0.0000 |   0.000000   0.0000e+00 |   0.6134   499           |   0.2536     0.2536     0.0000 |   0.6899    94             |  1.000e-03   0.000e+00 |\n",
      "04:40:46 184/500  |   0.2573     0.2573     0.0000 |   0.000000   0.0000e+00 |   0.6191   499           |   0.2534     0.2534     0.0000 |   0.6875    94             |  1.000e-03   0.000e+00 |\n",
      "04:43:44 185/500  |   0.2574     0.2574     0.0000 |   0.000000   0.0000e+00 |   0.6168   499           |   0.2535     0.2535     0.0000 |   0.6826    94             |  1.000e-03   0.000e+00 |\n",
      "04:46:41 186/500  |   0.2573     0.2573     0.0000 |   0.000000   0.0000e+00 |   0.6174   499           |   0.2539     0.2539     0.0000 |   0.6824    94             |  1.000e-03   0.000e+00 |\n",
      "04:49:37 187/500  |   0.2574     0.2574     0.0000 |   0.000000   0.0000e+00 |   0.6175   499           |   0.2537     0.2537     0.0000 |   0.6889    94             |  1.000e-03   0.000e+00 |\n",
      "04:52:35 188/500  |   0.2574     0.2574     0.0000 |   0.000000   0.0000e+00 |   0.6181   499           |   0.2537     0.2537     0.0000 |   0.6844    94             |  1.000e-03   0.000e+00 |\n",
      "04:55:32 189/500  |   0.2575     0.2575     0.0000 |   0.000000   0.0000e+00 |   0.6157   499           |   0.2539     0.2539     0.0000 |   0.6822    94             |  1.000e-03   0.000e+00 |\n",
      "04:58:29 190/500  |   0.2575     0.2575     0.0000 |   0.000000   0.0000e+00 |   0.6134   499           |   0.2536     0.2536     0.0000 |   0.6832    94             |  1.000e-03   0.000e+00 |\n",
      "05:01:25 191/500  |   0.2574     0.2574     0.0000 |   0.000000   0.0000e+00 |   0.6044   499           |   0.2541     0.2541     0.0000 |   0.6823    94             |  1.000e-03   0.000e+00 |\n",
      "05:04:21 192/500  |   0.2575     0.2575     0.0000 |   0.000000   0.0000e+00 |   0.6201   499           |   0.2538     0.2538     0.0000 |   0.6782    94             |  1.000e-03   0.000e+00 |\n",
      "05:07:19 193/500  |   0.2573     0.2573     0.0000 |   0.000000   0.0000e+00 |   0.6182   499           |   0.2539     0.2539     0.0000 |   0.6813    94             |  1.000e-03   0.000e+00 |\n",
      "05:10:16 194/500  |   0.2574     0.2574     0.0000 |   0.000000   0.0000e+00 |   0.6171   499           |   0.2539     0.2539     0.0000 |   0.6904    94             |  1.000e-03   0.000e+00 |\n",
      "05:13:14 195/500  |   0.2573     0.2573     0.0000 |   0.000000   0.0000e+00 |   0.6174   499           |   0.2536     0.2536     0.0000 |   0.6917    94             |  1.000e-03   0.000e+00 |\n",
      "05:16:09 196/500  |   0.2573     0.2573     0.0000 |   0.000000   0.0000e+00 |   0.6105   499           |   0.2539     0.2539     0.0000 |   0.6872    94             |  1.000e-03   0.000e+00 |\n",
      "05:19:04 197/500  |   0.2573     0.2573     0.0000 |   0.000000   0.0000e+00 |   0.6166   499           |   0.2535     0.2535     0.0000 |   0.6866    94             |  1.000e-03   0.000e+00 |\n",
      "05:21:57 198/500  |   0.2573     0.2573     0.0000 |   0.000000   0.0000e+00 |   0.6139   499           |   0.2537     0.2537     0.0000 |   0.6885    94             |  1.000e-03   0.000e+00 |\n",
      "05:24:48 199/500  |   0.2574     0.2574     0.0000 |   0.000000   0.0000e+00 |   0.6119   499           |   0.2538     0.2538     0.0000 |   0.6798    94             |  1.000e-03   0.000e+00 |\n",
      "05:27:42 200/500  |   0.2574     0.2574     0.0000 |   0.000000   0.0000e+00 |   0.6090   499           |   0.2542     0.2542     0.0000 |   0.6769    94             |  1.000e-03   0.000e+00 |\n",
      "19:13:52 201/500  |   0.2573     0.2573     0.0000 |   0.000000   0.0000e+00 |   0.6114   499           |   0.2536     0.2536     0.0000 |   0.6839    94             |  1.000e-03   0.000e+00 |\n",
      "19:16:43 202/500  |   0.2573     0.2573     0.0000 |   0.000000   0.0000e+00 |   0.6195   499           |   0.2540     0.2540     0.0000 |   0.6861    94             |  1.000e-03   0.000e+00 |\n",
      "19:19:34 203/500  |   0.2573     0.2573     0.0000 |   0.000000   0.0000e+00 |   0.6174   499           |   0.2536     0.2536     0.0000 |   0.6871    94             |  1.000e-03   0.000e+00 |\n",
      "19:22:25 204/500  |   0.2574     0.2574     0.0000 |   0.000000   0.0000e+00 |   0.6179   499           |   0.2538     0.2538     0.0000 |   0.6867    94             |  1.000e-03   0.000e+00 |\n",
      "19:25:18 205/500  |   0.2573     0.2573     0.0000 |   0.000000   0.0000e+00 |   0.6183   499           |   0.2538     0.2538     0.0000 |   0.6779    94             |  1.000e-03   0.000e+00 |\n",
      "19:28:09 206/500  |   0.2575     0.2575     0.0000 |   0.000000   0.0000e+00 |   0.6122   499           |   0.2542     0.2542     0.0000 |   0.6836    94             |  1.000e-03   0.000e+00 |\n",
      "19:31:02 207/500  |   0.2572     0.2572     0.0000 |   0.000000   0.0000e+00 |   0.6193   499           |   0.2537     0.2537     0.0000 |   0.6866    94             |  1.000e-03   0.000e+00 |\n",
      "19:34:00 208/500  |   0.2573     0.2573     0.0000 |   0.000000   0.0000e+00 |   0.6150   499           |   0.2538     0.2538     0.0000 |   0.6846    94             |  1.000e-03   0.000e+00 |\n",
      "19:36:59 209/500  |   0.2573     0.2573     0.0000 |   0.000000   0.0000e+00 |   0.6159   499           |   0.2533     0.2533     0.0000 |   0.6849    94             |  1.000e-03   0.000e+00 |\n",
      "19:39:57 210/500  |   0.2572     0.2572     0.0000 |   0.000000   0.0000e+00 |   0.6188   499           |   0.2536     0.2536     0.0000 |   0.6842    94             |  1.000e-03   0.000e+00 |\n",
      "19:42:53 211/500  |   0.2572     0.2572     0.0000 |   0.000000   0.0000e+00 |   0.6142   499           |   0.2536     0.2536     0.0000 |   0.6840    94             |  1.000e-03   0.000e+00 |\n",
      "19:45:51 212/500  |   0.2573     0.2573     0.0000 |   0.000000   0.0000e+00 |   0.6182   499           |   0.2541     0.2541     0.0000 |   0.6643    94             |  1.000e-03   0.000e+00 |\n",
      "19:48:49 213/500  |   0.2574     0.2574     0.0000 |   0.000000   0.0000e+00 |   0.6138   499           |   0.2542     0.2542     0.0000 |   0.6640    94             |  1.000e-03   0.000e+00 |\n",
      "19:51:50 214/500  |   0.2572     0.2572     0.0000 |   0.000000   0.0000e+00 |   0.6198   499           |   0.2535     0.2535     0.0000 |   0.6858    94             |  1.000e-03   0.000e+00 |\n",
      "19:54:53 215/500  |   0.2572     0.2572     0.0000 |   0.000000   0.0000e+00 |   0.6203   499           |   0.2533     0.2533     0.0000 |   0.6816    94             |  1.000e-03   0.000e+00 |\n",
      "19:57:57 216/500  |   0.2574     0.2574     0.0000 |   0.000000   0.0000e+00 |   0.6168   499           |   0.2539     0.2539     0.0000 |   0.6821    94             |  1.000e-03   0.000e+00 |\n",
      "20:01:01 217/500  |   0.2572     0.2572     0.0000 |   0.000000   0.0000e+00 |   0.6175   499           |   0.2536     0.2536     0.0000 |   0.6735    94             |  1.000e-03   0.000e+00 |\n",
      "20:04:02 218/500  |   0.2572     0.2572     0.0000 |   0.000000   0.0000e+00 |   0.6203   499           |   0.2535     0.2535     0.0000 |   0.6886    94             |  1.000e-03   0.000e+00 |\n",
      "20:07:05 219/500  |   0.2573     0.2573     0.0000 |   0.000000   0.0000e+00 |   0.6129   499           |   0.2534     0.2534     0.0000 |   0.6888    94             |  1.000e-03   0.000e+00 |\n",
      "20:10:08 220/500  |   0.2573     0.2573     0.0000 |   0.000000   0.0000e+00 |   0.6171   499           |   0.2537     0.2537     0.0000 |   0.6897    94             |  1.000e-03   0.000e+00 |\n",
      "20:13:13 221/500  |   0.2572     0.2572     0.0000 |   0.000000   0.0000e+00 |   0.6174   499           |   0.2538     0.2538     0.0000 |   0.6822    94             |  1.000e-03   0.000e+00 |\n",
      "20:16:15 222/500  |   0.2573     0.2573     0.0000 |   0.000000   0.0000e+00 |   0.6156   499           |   0.2533     0.2533     0.0000 |   0.6808    94             |  1.000e-03   0.000e+00 |\n",
      "20:19:19 223/500  |   0.2573     0.2573     0.0000 |   0.000000   0.0000e+00 |   0.6076   499           |   0.2541     0.2541     0.0000 |   0.6707    94             |  1.000e-03   0.000e+00 |\n",
      "20:22:22 224/500  |   0.2572     0.2572     0.0000 |   0.000000   0.0000e+00 |   0.6213   499           |   0.2538     0.2538     0.0000 |   0.6897    94             |  1.000e-03   0.000e+00 |\n",
      "20:25:24 225/500  |   0.2573     0.2573     0.0000 |   0.000000   0.0000e+00 |   0.6163   499           |   0.2535     0.2535     0.0000 |   0.6846    94             |  1.000e-03   0.000e+00 |\n",
      "20:28:29 226/500  |   0.2573     0.2573     0.0000 |   0.000000   0.0000e+00 |   0.6239   499           |   0.2539     0.2539     0.0000 |   0.6750    94             |  1.000e-03   0.000e+00 |\n",
      "20:31:31 227/500  |   0.2572     0.2572     0.0000 |   0.000000   0.0000e+00 |   0.6184   499           |   0.2534     0.2534     0.0000 |   0.6841    94             |  1.000e-03   0.000e+00 |\n",
      "20:34:35 228/500  |   0.2572     0.2572     0.0000 |   0.000000   0.0000e+00 |   0.6155   499           |   0.2538     0.2538     0.0000 |   0.6814    94             |  1.000e-03   0.000e+00 |\n",
      "20:37:36 229/500  |   0.2573     0.2573     0.0000 |   0.000000   0.0000e+00 |   0.6187   499           |   0.2541     0.2541     0.0000 |   0.6853    94             |  1.000e-03   0.000e+00 |\n",
      "20:40:39 230/500  |   0.2573     0.2573     0.0000 |   0.000000   0.0000e+00 |   0.6173   499           |   0.2538     0.2538     0.0000 |   0.6886    94             |  1.000e-03   0.000e+00 |\n",
      "20:43:41 231/500  |   0.2572     0.2572     0.0000 |   0.000000   0.0000e+00 |   0.6137   499           |   0.2537     0.2537     0.0000 |   0.6872    94             |  1.000e-03   0.000e+00 |\n",
      "20:46:41 232/500  |   0.2573     0.2573     0.0000 |   0.000000   0.0000e+00 |   0.6165   499           |   0.2541     0.2541     0.0000 |   0.6816    94             |  1.000e-03   0.000e+00 |\n",
      "20:49:40 233/500  |   0.2572     0.2572     0.0000 |   0.000000   0.0000e+00 |   0.6154   499           |   0.2533     0.2533     0.0000 |   0.6878    94             |  1.000e-03   0.000e+00 |\n",
      "20:52:40 234/500  |   0.2572     0.2572     0.0000 |   0.000000   0.0000e+00 |   0.6199   499           |   0.2536     0.2536     0.0000 |   0.6830    94             |  1.000e-03   0.000e+00 |\n",
      "20:55:39 235/500  |   0.2572     0.2572     0.0000 |   0.000000   0.0000e+00 |   0.6177   499           |   0.2538     0.2538     0.0000 |   0.6793    94             |  1.000e-03   0.000e+00 |\n",
      "20:58:40 236/500  |   0.2575     0.2575     0.0000 |   0.000000   0.0000e+00 |   0.6180   499           |   0.2540     0.2540     0.0000 |   0.6675    94             |  1.000e-03   0.000e+00 |\n",
      "21:01:39 237/500  |   0.2574     0.2574     0.0000 |   0.000000   0.0000e+00 |   0.6118   499           |   0.2540     0.2540     0.0000 |   0.6706    94             |  1.000e-03   0.000e+00 |\n",
      "21:04:39 238/500  |   0.2571     0.2571     0.0000 |   0.000000   0.0000e+00 |   0.6193   499           |   0.2537     0.2537     0.0000 |   0.6895    94             |  1.000e-03   0.000e+00 |\n",
      "21:07:38 239/500  |   0.2572     0.2572     0.0000 |   0.000000   0.0000e+00 |   0.6204   499           |   0.2537     0.2537     0.0000 |   0.6802    94             |  1.000e-03   0.000e+00 |\n",
      "21:10:37 240/500  |   0.2573     0.2573     0.0000 |   0.000000   0.0000e+00 |   0.6201   499           |   0.2538     0.2538     0.0000 |   0.6762    94             |  1.000e-03   0.000e+00 |\n",
      "21:13:38 241/500  |   0.2571     0.2571     0.0000 |   0.000000   0.0000e+00 |   0.6173   499           |   0.2533     0.2533     0.0000 |   0.6867    94             |  1.000e-03   0.000e+00 |\n",
      "21:16:41 242/500  |   0.2573     0.2573     0.0000 |   0.000000   0.0000e+00 |   0.6156   499           |   0.2538     0.2538     0.0000 |   0.6868    94             |  1.000e-03   0.000e+00 |\n",
      "21:19:42 243/500  |   0.2571     0.2571     0.0000 |   0.000000   0.0000e+00 |   0.6200   499           |   0.2536     0.2536     0.0000 |   0.6863    94             |  1.000e-03   0.000e+00 |\n",
      "21:22:42 244/500  |   0.2572     0.2572     0.0000 |   0.000000   0.0000e+00 |   0.6091   499           |   0.2534     0.2534     0.0000 |   0.6835    94             |  1.000e-03   0.000e+00 |\n",
      "21:25:42 245/500  |   0.2572     0.2572     0.0000 |   0.000000   0.0000e+00 |   0.6185   499           |   0.2536     0.2536     0.0000 |   0.6845    94             |  1.000e-03   0.000e+00 |\n",
      "21:28:41 246/500  |   0.2573     0.2573     0.0000 |   0.000000   0.0000e+00 |   0.6249   499           |   0.2535     0.2535     0.0000 |   0.6786    94             |  1.000e-03   0.000e+00 |\n",
      "21:31:41 247/500  |   0.2572     0.2572     0.0000 |   0.000000   0.0000e+00 |   0.6150   499           |   0.2541     0.2541     0.0000 |   0.6841    94             |  1.000e-03   0.000e+00 |\n",
      "21:34:40 248/500  |   0.2572     0.2572     0.0000 |   0.000000   0.0000e+00 |   0.6165   499           |   0.2540     0.2540     0.0000 |   0.6731    94             |  1.000e-03   0.000e+00 |\n",
      "21:37:38 249/500  |   0.2572     0.2572     0.0000 |   0.000000   0.0000e+00 |   0.6168   499           |   0.2533     0.2533     0.0000 |   0.6821    94             |  1.000e-03   0.000e+00 |\n",
      "21:40:38 250/500  |   0.2572     0.2572     0.0000 |   0.000000   0.0000e+00 |   0.6182   499           |   0.2532     0.2532     0.0000 |   0.6902    94             |  1.000e-03   0.000e+00 |\n",
      "21:43:36 251/500  |   0.2571     0.2571     0.0000 |   0.000000   0.0000e+00 |   0.6171   499           |   0.2536     0.2536     0.0000 |   0.6912    94             |  1.000e-03   0.000e+00 |\n",
      "21:46:35 252/500  |   0.2572     0.2572     0.0000 |   0.000000   0.0000e+00 |   0.6162   499           |   0.2538     0.2538     0.0000 |   0.6829    94             |  1.000e-03   0.000e+00 |\n",
      "21:49:32 253/500  |   0.2572     0.2572     0.0000 |   0.000000   0.0000e+00 |   0.6190   499           |   0.2537     0.2537     0.0000 |   0.6738    94             |  1.000e-03   0.000e+00 |\n",
      "21:52:32 254/500  |   0.2572     0.2572     0.0000 |   0.000000   0.0000e+00 |   0.6109   499           |   0.2533     0.2533     0.0000 |   0.6873    94             |  1.000e-03   0.000e+00 |\n",
      "21:55:30 255/500  |   0.2572     0.2572     0.0000 |   0.000000   0.0000e+00 |   0.6214   499           |   0.2536     0.2536     0.0000 |   0.6922    94             |  1.000e-03   0.000e+00 |\n",
      "21:58:30 256/500  |   0.2573     0.2573     0.0000 |   0.000000   0.0000e+00 |   0.6185   499           |   0.2536     0.2536     0.0000 |   0.6731    94             |  1.000e-03   0.000e+00 |\n",
      "22:01:30 257/500  |   0.2572     0.2572     0.0000 |   0.000000   0.0000e+00 |   0.6191   499           |   0.2538     0.2538     0.0000 |   0.6864    94             |  1.000e-03   0.000e+00 |\n",
      "22:04:29 258/500  |   0.2571     0.2571     0.0000 |   0.000000   0.0000e+00 |   0.6200   499           |   0.2534     0.2534     0.0000 |   0.6797    94             |  1.000e-03   0.000e+00 |\n",
      "22:07:28 259/500  |   0.2571     0.2571     0.0000 |   0.000000   0.0000e+00 |   0.6174   499           |   0.2536     0.2536     0.0000 |   0.6905    94             |  1.000e-03   0.000e+00 |\n",
      "22:10:27 260/500  |   0.2572     0.2572     0.0000 |   0.000000   0.0000e+00 |   0.6204   499           |   0.2534     0.2534     0.0000 |   0.6839    94             |  1.000e-03   0.000e+00 |\n",
      "22:13:27 261/500  |   0.2572     0.2572     0.0000 |   0.000000   0.0000e+00 |   0.6170   499           |   0.2536     0.2536     0.0000 |   0.6837    94             |  1.000e-03   0.000e+00 |\n",
      "22:16:26 262/500  |   0.2572     0.2572     0.0000 |   0.000000   0.0000e+00 |   0.6164   499           |   0.2538     0.2538     0.0000 |   0.6877    94             |  1.000e-03   0.000e+00 |\n",
      "22:19:26 263/500  |   0.2571     0.2571     0.0000 |   0.000000   0.0000e+00 |   0.6158   499           |   0.2533     0.2533     0.0000 |   0.6852    94             |  1.000e-03   0.000e+00 |\n",
      "22:22:26 264/500  |   0.2572     0.2572     0.0000 |   0.000000   0.0000e+00 |   0.6207   499           |   0.2538     0.2538     0.0000 |   0.6845    94             |  1.000e-03   0.000e+00 |\n",
      "22:25:25 265/500  |   0.2571     0.2571     0.0000 |   0.000000   0.0000e+00 |   0.6192   499           |   0.2534     0.2534     0.0000 |   0.6861    94             |  1.000e-03   0.000e+00 |\n",
      "22:28:23 266/500  |   0.2570     0.2570     0.0000 |   0.000000   0.0000e+00 |   0.6187   499           |   0.2533     0.2533     0.0000 |   0.6885    94             |  1.000e-03   0.000e+00 |\n",
      "22:31:22 267/500  |   0.2572     0.2572     0.0000 |   0.000000   0.0000e+00 |   0.6152   499           |   0.2535     0.2535     0.0000 |   0.6872    94             |  1.000e-03   0.000e+00 |\n",
      "22:34:19 268/500  |   0.2571     0.2571     0.0000 |   0.000000   0.0000e+00 |   0.6184   499           |   0.2537     0.2537     0.0000 |   0.6914    94             |  1.000e-03   0.000e+00 |\n",
      "22:37:18 269/500  |   0.2571     0.2571     0.0000 |   0.000000   0.0000e+00 |   0.6200   499           |   0.2535     0.2535     0.0000 |   0.6809    94             |  1.000e-03   0.000e+00 |\n",
      "22:40:17 270/500  |   0.2571     0.2571     0.0000 |   0.000000   0.0000e+00 |   0.6180   499           |   0.2537     0.2537     0.0000 |   0.6793    94             |  1.000e-03   0.000e+00 |\n",
      "22:43:17 271/500  |   0.2572     0.2572     0.0000 |   0.000000   0.0000e+00 |   0.6155   499           |   0.2537     0.2537     0.0000 |   0.6872    94             |  1.000e-03   0.000e+00 |\n",
      "22:46:14 272/500  |   0.2571     0.2571     0.0000 |   0.000000   0.0000e+00 |   0.6178   499           |   0.2536     0.2536     0.0000 |   0.6803    94             |  1.000e-03   0.000e+00 |\n",
      "22:49:13 273/500  |   0.2572     0.2572     0.0000 |   0.000000   0.0000e+00 |   0.6180   499           |   0.2536     0.2536     0.0000 |   0.6740    94             |  1.000e-03   0.000e+00 |\n",
      "22:52:12 274/500  |   0.2572     0.2572     0.0000 |   0.000000   0.0000e+00 |   0.6155   499           |   0.2537     0.2537     0.0000 |   0.6734    94             |  1.000e-03   0.000e+00 |\n",
      "22:55:10 275/500  |   0.2571     0.2571     0.0000 |   0.000000   0.0000e+00 |   0.6227   499           |   0.2538     0.2538     0.0000 |   0.6807    94             |  1.000e-03   0.000e+00 |\n",
      "22:58:08 276/500  |   0.2571     0.2571     0.0000 |   0.000000   0.0000e+00 |   0.6250   499           |   0.2532     0.2532     0.0000 |   0.6866    94             |  1.000e-03   0.000e+00 |\n",
      "23:01:06 277/500  |   0.2571     0.2571     0.0000 |   0.000000   0.0000e+00 |   0.6098   499           |   0.2535     0.2535     0.0000 |   0.6857    94             |  1.000e-03   0.000e+00 |\n",
      "23:04:01 278/500  |   0.2571     0.2571     0.0000 |   0.000000   0.0000e+00 |   0.6226   499           |   0.2533     0.2533     0.0000 |   0.6865    94             |  1.000e-03   0.000e+00 |\n",
      "23:06:55 279/500  |   0.2572     0.2572     0.0000 |   0.000000   0.0000e+00 |   0.6197   499           |   0.2532     0.2532     0.0000 |   0.6868    94             |  1.000e-03   0.000e+00 |\n",
      "23:09:47 280/500  |   0.2571     0.2571     0.0000 |   0.000000   0.0000e+00 |   0.6213   499           |   0.2535     0.2535     0.0000 |   0.6861    94             |  1.000e-03   0.000e+00 |\n",
      "23:12:40 281/500  |   0.2571     0.2571     0.0000 |   0.000000   0.0000e+00 |   0.6121   499           |   0.2538     0.2538     0.0000 |   0.6839    94             |  1.000e-03   0.000e+00 |\n",
      "23:15:34 282/500  |   0.2572     0.2572     0.0000 |   0.000000   0.0000e+00 |   0.6178   499           |   0.2534     0.2534     0.0000 |   0.6625    94             |  1.000e-03   0.000e+00 |\n",
      "23:18:33 283/500  |   0.2571     0.2571     0.0000 |   0.000000   0.0000e+00 |   0.6168   499           |   0.2537     0.2537     0.0000 |   0.6916    94             |  1.000e-03   0.000e+00 |\n",
      "23:21:28 284/500  |   0.2571     0.2571     0.0000 |   0.000000   0.0000e+00 |   0.6236   499           |   0.2536     0.2536     0.0000 |   0.6896    94             |  1.000e-03   0.000e+00 |\n",
      "23:24:19 285/500  |   0.2571     0.2571     0.0000 |   0.000000   0.0000e+00 |   0.6167   499           |   0.2534     0.2534     0.0000 |   0.6803    94             |  1.000e-03   0.000e+00 |\n",
      "23:27:11 286/500  |   0.2571     0.2571     0.0000 |   0.000000   0.0000e+00 |   0.6193   499           |   0.2534     0.2534     0.0000 |   0.6812    94             |  1.000e-03   0.000e+00 |\n",
      "23:30:06 287/500  |   0.2571     0.2571     0.0000 |   0.000000   0.0000e+00 |   0.6164   499           |   0.2537     0.2537     0.0000 |   0.6868    94             |  1.000e-03   0.000e+00 |\n",
      "23:33:01 288/500  |   0.2571     0.2571     0.0000 |   0.000000   0.0000e+00 |   0.6169   499           |   0.2533     0.2533     0.0000 |   0.6882    94             |  1.000e-03   0.000e+00 |\n",
      "23:35:56 289/500  |   0.2572     0.2572     0.0000 |   0.000000   0.0000e+00 |   0.6215   499           |   0.2537     0.2537     0.0000 |   0.6821    94             |  1.000e-03   0.000e+00 |\n",
      "23:38:47 290/500  |   0.2570     0.2570     0.0000 |   0.000000   0.0000e+00 |   0.6174   499           |   0.2534     0.2534     0.0000 |   0.6820    94             |  1.000e-03   0.000e+00 |\n",
      "23:41:42 291/500  |   0.2571     0.2571     0.0000 |   0.000000   0.0000e+00 |   0.6109   499           |   0.2532     0.2532     0.0000 |   0.6755    94             |  1.000e-03   0.000e+00 |\n",
      "23:44:38 292/500  |   0.2571     0.2571     0.0000 |   0.000000   0.0000e+00 |   0.6124   499           |   0.2534     0.2534     0.0000 |   0.6702    94             |  1.000e-03   0.000e+00 |\n",
      "23:47:32 293/500  |   0.2572     0.2572     0.0000 |   0.000000   0.0000e+00 |   0.6205   499           |   0.2535     0.2535     0.0000 |   0.6835    94             |  1.000e-03   0.000e+00 |\n",
      "23:50:29 294/500  |   0.2572     0.2572     0.0000 |   0.000000   0.0000e+00 |   0.6204   499           |   0.2534     0.2534     0.0000 |   0.6796    94             |  1.000e-03   0.000e+00 |\n",
      "23:53:23 295/500  |   0.2570     0.2570     0.0000 |   0.000000   0.0000e+00 |   0.6159   499           |   0.2535     0.2535     0.0000 |   0.6796    94             |  1.000e-03   0.000e+00 |\n",
      "23:56:19 296/500  |   0.2571     0.2571     0.0000 |   0.000000   0.0000e+00 |   0.6218   499           |   0.2533     0.2533     0.0000 |   0.6811    94             |  1.000e-03   0.000e+00 |\n",
      "23:59:13 297/500  |   0.2571     0.2571     0.0000 |   0.000000   0.0000e+00 |   0.6173   499           |   0.2535     0.2535     0.0000 |   0.6622    94             |  1.000e-03   0.000e+00 |\n",
      "00:02:08 298/500  |   0.2571     0.2571     0.0000 |   0.000000   0.0000e+00 |   0.6194   499           |   0.2536     0.2536     0.0000 |   0.6762    94             |  1.000e-03   0.000e+00 |\n",
      "00:05:02 299/500  |   0.2571     0.2571     0.0000 |   0.000000   0.0000e+00 |   0.6175   499           |   0.2535     0.2535     0.0000 |   0.6763    94             |  1.000e-03   0.000e+00 |\n",
      "00:07:56 300/500  |   0.2571     0.2571     0.0000 |   0.000000   0.0000e+00 |   0.6227   499           |   0.2536     0.2536     0.0000 |   0.6827    94             |  1.000e-03   0.000e+00 |\n",
      "00:10:51 301/500  |   0.2571     0.2571     0.0000 |   0.000000   0.0000e+00 |   0.6207   499           |   0.2535     0.2535     0.0000 |   0.6768    94             |  1.000e-03   0.000e+00 |\n",
      "00:13:45 302/500  |   0.2572     0.2572     0.0000 |   0.000000   0.0000e+00 |   0.6208   499           |   0.2538     0.2538     0.0000 |   0.6840    94             |  1.000e-03   0.000e+00 |\n",
      "00:16:39 303/500  |   0.2572     0.2572     0.0000 |   0.000000   0.0000e+00 |   0.6120   499           |   0.2530     0.2530     0.0000 |   0.6878    94             |  1.000e-03   0.000e+00 |\n",
      "00:19:35 304/500  |   0.2570     0.2570     0.0000 |   0.000000   0.0000e+00 |   0.6175   499           |   0.2534     0.2534     0.0000 |   0.6745    94             |  1.000e-03   0.000e+00 |\n",
      "00:22:32 305/500  |   0.2571     0.2571     0.0000 |   0.000000   0.0000e+00 |   0.6196   499           |   0.2534     0.2534     0.0000 |   0.6696    94             |  1.000e-03   0.000e+00 |\n",
      "00:25:27 306/500  |   0.2571     0.2571     0.0000 |   0.000000   0.0000e+00 |   0.6183   499           |   0.2535     0.2535     0.0000 |   0.6570    94             |  1.000e-03   0.000e+00 |\n",
      "00:28:19 307/500  |   0.2572     0.2572     0.0000 |   0.000000   0.0000e+00 |   0.6205   499           |   0.2536     0.2536     0.0000 |   0.6802    94             |  1.000e-03   0.000e+00 |\n",
      "00:31:14 308/500  |   0.2571     0.2571     0.0000 |   0.000000   0.0000e+00 |   0.6170   499           |   0.2534     0.2534     0.0000 |   0.6795    94             |  1.000e-03   0.000e+00 |\n",
      "00:34:07 309/500  |   0.2571     0.2571     0.0000 |   0.000000   0.0000e+00 |   0.6188   499           |   0.2531     0.2531     0.0000 |   0.6845    94             |  1.000e-03   0.000e+00 |\n",
      "00:37:04 310/500  |   0.2572     0.2572     0.0000 |   0.000000   0.0000e+00 |   0.6200   499           |   0.2537     0.2537     0.0000 |   0.6797    94             |  1.000e-03   0.000e+00 |\n",
      "00:40:00 311/500  |   0.2572     0.2572     0.0000 |   0.000000   0.0000e+00 |   0.6114   499           |   0.2534     0.2534     0.0000 |   0.6610    94             |  1.000e-03   0.000e+00 |\n",
      "00:42:56 312/500  |   0.2571     0.2571     0.0000 |   0.000000   0.0000e+00 |   0.6208   499           |   0.2536     0.2536     0.0000 |   0.6718    94             |  1.000e-03   0.000e+00 |\n",
      "00:45:51 313/500  |   0.2571     0.2571     0.0000 |   0.000000   0.0000e+00 |   0.6199   499           |   0.2537     0.2537     0.0000 |   0.6590    94             |  1.000e-03   0.000e+00 |\n",
      "00:48:49 314/500  |   0.2571     0.2571     0.0000 |   0.000000   0.0000e+00 |   0.6221   499           |   0.2532     0.2532     0.0000 |   0.6781    94             |  1.000e-03   0.000e+00 |\n",
      "00:51:47 315/500  |   0.2571     0.2571     0.0000 |   0.000000   0.0000e+00 |   0.6179   499           |   0.2533     0.2533     0.0000 |   0.6778    94             |  1.000e-03   0.000e+00 |\n",
      "00:54:43 316/500  |   0.2571     0.2571     0.0000 |   0.000000   0.0000e+00 |   0.6184   499           |   0.2534     0.2534     0.0000 |   0.6751    94             |  1.000e-03   0.000e+00 |\n",
      "00:57:39 317/500  |   0.2571     0.2571     0.0000 |   0.000000   0.0000e+00 |   0.6198   499           |   0.2537     0.2537     0.0000 |   0.6718    94             |  1.000e-03   0.000e+00 |\n",
      "01:00:35 318/500  |   0.2572     0.2572     0.0000 |   0.000000   0.0000e+00 |   0.6174   499           |   0.2533     0.2533     0.0000 |   0.6790    94             |  1.000e-03   0.000e+00 |\n",
      "01:03:32 319/500  |   0.2573     0.2573     0.0000 |   0.000000   0.0000e+00 |   0.6180   499           |   0.2539     0.2539     0.0000 |   0.6750    94             |  1.000e-03   0.000e+00 |\n",
      "01:06:28 320/500  |   0.2572     0.2572     0.0000 |   0.000000   0.0000e+00 |   0.6201   499           |   0.2535     0.2535     0.0000 |   0.6836    94             |  1.000e-03   0.000e+00 |\n",
      "01:09:24 321/500  |   0.2573     0.2573     0.0000 |   0.000000   0.0000e+00 |   0.6167   499           |   0.2538     0.2538     0.0000 |   0.6749    94             |  1.000e-03   0.000e+00 |\n",
      "01:12:22 322/500  |   0.2571     0.2571     0.0000 |   0.000000   0.0000e+00 |   0.6204   499           |   0.2535     0.2535     0.0000 |   0.6865    94             |  1.000e-03   0.000e+00 |\n",
      "01:15:19 323/500  |   0.2571     0.2571     0.0000 |   0.000000   0.0000e+00 |   0.6228   499           |   0.2533     0.2533     0.0000 |   0.6844    94             |  1.000e-03   0.000e+00 |\n",
      "01:18:16 324/500  |   0.2573     0.2573     0.0000 |   0.000000   0.0000e+00 |   0.6212   499           |   0.2536     0.2536     0.0000 |   0.6646    94             |  1.000e-03   0.000e+00 |\n",
      "01:21:12 325/500  |   0.2570     0.2570     0.0000 |   0.000000   0.0000e+00 |   0.6194   499           |   0.2533     0.2533     0.0000 |   0.6903    94             |  1.000e-03   0.000e+00 |\n",
      "01:24:07 326/500  |   0.2571     0.2571     0.0000 |   0.000000   0.0000e+00 |   0.6234   499           |   0.2533     0.2533     0.0000 |   0.6806    94             |  1.000e-03   0.000e+00 |\n",
      "01:27:03 327/500  |   0.2571     0.2571     0.0000 |   0.000000   0.0000e+00 |   0.6203   499           |   0.2535     0.2535     0.0000 |   0.6821    94             |  1.000e-03   0.000e+00 |\n",
      "01:30:00 328/500  |   0.2571     0.2571     0.0000 |   0.000000   0.0000e+00 |   0.6186   499           |   0.2534     0.2534     0.0000 |   0.6823    94             |  1.000e-03   0.000e+00 |\n",
      "01:32:57 329/500  |   0.2572     0.2572     0.0000 |   0.000000   0.0000e+00 |   0.6185   499           |   0.2532     0.2532     0.0000 |   0.6856    94             |  1.000e-03   0.000e+00 |\n",
      "01:35:55 330/500  |   0.2571     0.2571     0.0000 |   0.000000   0.0000e+00 |   0.6186   499           |   0.2535     0.2535     0.0000 |   0.6863    94             |  1.000e-03   0.000e+00 |\n",
      "01:38:53 331/500  |   0.2571     0.2571     0.0000 |   0.000000   0.0000e+00 |   0.6191   499           |   0.2534     0.2534     0.0000 |   0.6871    94             |  1.000e-03   0.000e+00 |\n",
      "01:41:49 332/500  |   0.2572     0.2572     0.0000 |   0.000000   0.0000e+00 |   0.6197   499           |   0.2531     0.2531     0.0000 |   0.6902    94             |  1.000e-03   0.000e+00 |\n",
      "01:44:44 333/500  |   0.2570     0.2570     0.0000 |   0.000000   0.0000e+00 |   0.6157   499           |   0.2535     0.2535     0.0000 |   0.6937    94             |  1.000e-03   0.000e+00 |\n",
      "01:47:41 334/500  |   0.2572     0.2572     0.0000 |   0.000000   0.0000e+00 |   0.6128   499           |   0.2534     0.2534     0.0000 |   0.6852    94             |  1.000e-03   0.000e+00 |\n",
      "01:50:36 335/500  |   0.2571     0.2571     0.0000 |   0.000000   0.0000e+00 |   0.6198   499           |   0.2532     0.2532     0.0000 |   0.6767    94             |  1.000e-03   0.000e+00 |\n",
      "01:53:27 336/500  |   0.2571     0.2571     0.0000 |   0.000000   0.0000e+00 |   0.6181   499           |   0.2533     0.2533     0.0000 |   0.6862    94             |  1.000e-03   0.000e+00 |\n",
      "01:56:23 337/500  |   0.2572     0.2572     0.0000 |   0.000000   0.0000e+00 |   0.6147   499           |   0.2534     0.2534     0.0000 |   0.6711    94             |  1.000e-03   0.000e+00 |\n",
      "01:59:18 338/500  |   0.2570     0.2570     0.0000 |   0.000000   0.0000e+00 |   0.6188   499           |   0.2533     0.2533     0.0000 |   0.6815    94             |  1.000e-03   0.000e+00 |\n",
      "02:02:13 339/500  |   0.2571     0.2571     0.0000 |   0.000000   0.0000e+00 |   0.6230   499           |   0.2532     0.2532     0.0000 |   0.6783    94             |  1.000e-03   0.000e+00 |\n",
      "02:05:05 340/500  |   0.2571     0.2571     0.0000 |   0.000000   0.0000e+00 |   0.6181   499           |   0.2531     0.2531     0.0000 |   0.6878    94             |  1.000e-03   0.000e+00 |\n",
      "02:07:56 341/500  |   0.2571     0.2571     0.0000 |   0.000000   0.0000e+00 |   0.6223   499           |   0.2533     0.2533     0.0000 |   0.6847    94             |  1.000e-03   0.000e+00 |\n",
      "02:10:51 342/500  |   0.2572     0.2572     0.0000 |   0.000000   0.0000e+00 |   0.6141   499           |   0.2531     0.2531     0.0000 |   0.6747    94             |  1.000e-03   0.000e+00 |\n",
      "02:13:45 343/500  |   0.2570     0.2570     0.0000 |   0.000000   0.0000e+00 |   0.6240   499           |   0.2531     0.2531     0.0000 |   0.6904    94             |  1.000e-03   0.000e+00 |\n",
      "02:16:40 344/500  |   0.2570     0.2570     0.0000 |   0.000000   0.0000e+00 |   0.6188   499           |   0.2535     0.2535     0.0000 |   0.6878    94             |  1.000e-03   0.000e+00 |\n",
      "02:19:34 345/500  |   0.2571     0.2571     0.0000 |   0.000000   0.0000e+00 |   0.6233   499           |   0.2530     0.2530     0.0000 |   0.6879    94             |  1.000e-03   0.000e+00 |\n",
      "02:22:27 346/500  |   0.2571     0.2571     0.0000 |   0.000000   0.0000e+00 |   0.6151   499           |   0.2535     0.2535     0.0000 |   0.6623    94             |  1.000e-03   0.000e+00 |\n",
      "02:25:19 347/500  |   0.2571     0.2571     0.0000 |   0.000000   0.0000e+00 |   0.6207   499           |   0.2535     0.2535     0.0000 |   0.6816    94             |  1.000e-03   0.000e+00 |\n",
      "02:28:12 348/500  |   0.2571     0.2571     0.0000 |   0.000000   0.0000e+00 |   0.6207   499           |   0.2532     0.2532     0.0000 |   0.6790    94             |  1.000e-03   0.000e+00 |\n",
      "02:31:10 349/500  |   0.2572     0.2572     0.0000 |   0.000000   0.0000e+00 |   0.6133   499           |   0.2533     0.2533     0.0000 |   0.6643    94             |  1.000e-03   0.000e+00 |\n",
      "02:34:07 350/500  |   0.2572     0.2572     0.0000 |   0.000000   0.0000e+00 |   0.6186   499           |   0.2535     0.2535     0.0000 |   0.6778    94             |  1.000e-03   0.000e+00 |\n",
      "02:36:59 351/500  |   0.2573     0.2573     0.0000 |   0.000000   0.0000e+00 |   0.6163   499           |   0.2533     0.2533     0.0000 |   0.6692    94             |  1.000e-03   0.000e+00 |\n",
      "02:39:52 352/500  |   0.2571     0.2571     0.0000 |   0.000000   0.0000e+00 |   0.6207   499           |   0.2535     0.2535     0.0000 |   0.6854    94             |  1.000e-03   0.000e+00 |\n",
      "02:42:51 353/500  |   0.2572     0.2572     0.0000 |   0.000000   0.0000e+00 |   0.6241   499           |   0.2537     0.2537     0.0000 |   0.6879    94             |  1.000e-03   0.000e+00 |\n",
      "02:45:44 354/500  |   0.2572     0.2572     0.0000 |   0.000000   0.0000e+00 |   0.6220   499           |   0.2535     0.2535     0.0000 |   0.6848    94             |  1.000e-03   0.000e+00 |\n",
      "02:48:39 355/500  |   0.2573     0.2573     0.0000 |   0.000000   0.0000e+00 |   0.6175   499           |   0.2533     0.2533     0.0000 |   0.6885    94             |  1.000e-03   0.000e+00 |\n",
      "02:51:35 356/500  |   0.2571     0.2571     0.0000 |   0.000000   0.0000e+00 |   0.6205   499           |   0.2532     0.2532     0.0000 |   0.6874    94             |  1.000e-03   0.000e+00 |\n",
      "02:54:31 357/500  |   0.2571     0.2571     0.0000 |   0.000000   0.0000e+00 |   0.6245   499           |   0.2534     0.2534     0.0000 |   0.6872    94             |  1.000e-03   0.000e+00 |\n",
      "02:57:25 358/500  |   0.2571     0.2571     0.0000 |   0.000000   0.0000e+00 |   0.6250   499           |   0.2535     0.2535     0.0000 |   0.6837    94             |  1.000e-03   0.000e+00 |\n",
      "03:00:18 359/500  |   0.2571     0.2571     0.0000 |   0.000000   0.0000e+00 |   0.6212   499           |   0.2531     0.2531     0.0000 |   0.6923    94             |  1.000e-03   0.000e+00 |\n",
      "03:03:12 360/500  |   0.2571     0.2571     0.0000 |   0.000000   0.0000e+00 |   0.6216   499           |   0.2534     0.2534     0.0000 |   0.6927    94             |  1.000e-03   0.000e+00 |\n",
      "03:06:06 361/500  |   0.2570     0.2570     0.0000 |   0.000000   0.0000e+00 |   0.6214   499           |   0.2530     0.2530     0.0000 |   0.6909    94             |  1.000e-03   0.000e+00 |\n",
      "03:09:02 362/500  |   0.2572     0.2572     0.0000 |   0.000000   0.0000e+00 |   0.6191   499           |   0.2536     0.2536     0.0000 |   0.6787    94             |  1.000e-03   0.000e+00 |\n",
      "03:11:55 363/500  |   0.2571     0.2571     0.0000 |   0.000000   0.0000e+00 |   0.6208   499           |   0.2535     0.2535     0.0000 |   0.6827    94             |  1.000e-03   0.000e+00 |\n",
      "03:14:50 364/500  |   0.2571     0.2571     0.0000 |   0.000000   0.0000e+00 |   0.6174   499           |   0.2531     0.2531     0.0000 |   0.6876    94             |  1.000e-03   0.000e+00 |\n",
      "03:17:46 365/500  |   0.2572     0.2572     0.0000 |   0.000000   0.0000e+00 |   0.6197   499           |   0.2535     0.2535     0.0000 |   0.6783    94             |  1.000e-03   0.000e+00 |\n",
      "03:20:41 366/500  |   0.2571     0.2571     0.0000 |   0.000000   0.0000e+00 |   0.6215   499           |   0.2532     0.2532     0.0000 |   0.6740    94             |  1.000e-03   0.000e+00 |\n",
      "03:23:36 367/500  |   0.2571     0.2571     0.0000 |   0.000000   0.0000e+00 |   0.6198   499           |   0.2534     0.2534     0.0000 |   0.6861    94             |  1.000e-03   0.000e+00 |\n",
      "03:26:29 368/500  |   0.2571     0.2571     0.0000 |   0.000000   0.0000e+00 |   0.6175   499           |   0.2530     0.2530     0.0000 |   0.6795    94             |  1.000e-03   0.000e+00 |\n",
      "03:29:25 369/500  |   0.2571     0.2571     0.0000 |   0.000000   0.0000e+00 |   0.6244   499           |   0.2536     0.2536     0.0000 |   0.6870    94             |  1.000e-03   0.000e+00 |\n",
      "03:32:20 370/500  |   0.2571     0.2571     0.0000 |   0.000000   0.0000e+00 |   0.6217   499           |   0.2531     0.2531     0.0000 |   0.6930    94             |  1.000e-03   0.000e+00 |\n",
      "03:35:14 371/500  |   0.2570     0.2570     0.0000 |   0.000000   0.0000e+00 |   0.6150   499           |   0.2533     0.2533     0.0000 |   0.6867    94             |  1.000e-03   0.000e+00 |\n",
      "03:38:07 372/500  |   0.2572     0.2572     0.0000 |   0.000000   0.0000e+00 |   0.6115   499           |   0.2541     0.2541     0.0000 |   0.6843    94             |  1.000e-03   0.000e+00 |\n",
      "03:41:01 373/500  |   0.2572     0.2572     0.0000 |   0.000000   0.0000e+00 |   0.6196   499           |   0.2531     0.2531     0.0000 |   0.6799    94             |  1.000e-03   0.000e+00 |\n",
      "03:43:58 374/500  |   0.2571     0.2571     0.0000 |   0.000000   0.0000e+00 |   0.6235   499           |   0.2533     0.2533     0.0000 |   0.6735    94             |  1.000e-03   0.000e+00 |\n",
      "03:46:50 375/500  |   0.2571     0.2571     0.0000 |   0.000000   0.0000e+00 |   0.6204   499           |   0.2533     0.2533     0.0000 |   0.6775    94             |  1.000e-03   0.000e+00 |\n",
      "03:49:45 376/500  |   0.2572     0.2572     0.0000 |   0.000000   0.0000e+00 |   0.6202   499           |   0.2535     0.2535     0.0000 |   0.6727    94             |  1.000e-03   0.000e+00 |\n",
      "03:52:39 377/500  |   0.2571     0.2571     0.0000 |   0.000000   0.0000e+00 |   0.6189   499           |   0.2532     0.2532     0.0000 |   0.6776    94             |  1.000e-03   0.000e+00 |\n",
      "03:55:32 378/500  |   0.2571     0.2571     0.0000 |   0.000000   0.0000e+00 |   0.6199   499           |   0.2535     0.2535     0.0000 |   0.6809    94             |  1.000e-03   0.000e+00 |\n",
      "03:58:24 379/500  |   0.2571     0.2571     0.0000 |   0.000000   0.0000e+00 |   0.6216   499           |   0.2533     0.2533     0.0000 |   0.6796    94             |  1.000e-03   0.000e+00 |\n",
      "04:01:18 380/500  |   0.2571     0.2571     0.0000 |   0.000000   0.0000e+00 |   0.6241   499           |   0.2532     0.2532     0.0000 |   0.6938    94             |  1.000e-03   0.000e+00 |\n",
      "04:04:13 381/500  |   0.2571     0.2571     0.0000 |   0.000000   0.0000e+00 |   0.6235   499           |   0.2534     0.2534     0.0000 |   0.6823    94             |  1.000e-03   0.000e+00 |\n",
      "04:07:05 382/500  |   0.2570     0.2570     0.0000 |   0.000000   0.0000e+00 |   0.6183   499           |   0.2530     0.2530     0.0000 |   0.6819    94             |  1.000e-03   0.000e+00 |\n",
      "04:09:59 383/500  |   0.2570     0.2570     0.0000 |   0.000000   0.0000e+00 |   0.6191   499           |   0.2533     0.2533     0.0000 |   0.6686    94             |  1.000e-03   0.000e+00 |\n",
      "04:12:54 384/500  |   0.2572     0.2572     0.0000 |   0.000000   0.0000e+00 |   0.6214   499           |   0.2535     0.2535     0.0000 |   0.6873    94             |  1.000e-03   0.000e+00 |\n",
      "04:15:48 385/500  |   0.2571     0.2571     0.0000 |   0.000000   0.0000e+00 |   0.6211   499           |   0.2532     0.2532     0.0000 |   0.6777    94             |  1.000e-03   0.000e+00 |\n",
      "04:18:46 386/500  |   0.2573     0.2573     0.0000 |   0.000000   0.0000e+00 |   0.6209   499           |   0.2533     0.2533     0.0000 |   0.6758    94             |  1.000e-03   0.000e+00 |\n",
      "04:21:37 387/500  |   0.2571     0.2571     0.0000 |   0.000000   0.0000e+00 |   0.6164   499           |   0.2533     0.2533     0.0000 |   0.6777    94             |  1.000e-03   0.000e+00 |\n",
      "04:24:30 388/500  |   0.2572     0.2572     0.0000 |   0.000000   0.0000e+00 |   0.6216   499           |   0.2534     0.2534     0.0000 |   0.6791    94             |  1.000e-03   0.000e+00 |\n",
      "04:27:22 389/500  |   0.2571     0.2571     0.0000 |   0.000000   0.0000e+00 |   0.6232   499           |   0.2534     0.2534     0.0000 |   0.6811    94             |  1.000e-03   0.000e+00 |\n",
      "04:30:18 390/500  |   0.2571     0.2571     0.0000 |   0.000000   0.0000e+00 |   0.6242   499           |   0.2533     0.2533     0.0000 |   0.6800    94             |  1.000e-03   0.000e+00 |\n",
      "04:33:11 391/500  |   0.2572     0.2572     0.0000 |   0.000000   0.0000e+00 |   0.6210   499           |   0.2535     0.2535     0.0000 |   0.6878    94             |  1.000e-03   0.000e+00 |\n",
      "04:36:08 392/500  |   0.2570     0.2570     0.0000 |   0.000000   0.0000e+00 |   0.6238   499           |   0.2530     0.2530     0.0000 |   0.6933    94             |  1.000e-03   0.000e+00 |\n",
      "04:39:03 393/500  |   0.2570     0.2570     0.0000 |   0.000000   0.0000e+00 |   0.6195   499           |   0.2532     0.2532     0.0000 |   0.6781    94             |  1.000e-03   0.000e+00 |\n",
      "04:42:01 394/500  |   0.2571     0.2571     0.0000 |   0.000000   0.0000e+00 |   0.6213   499           |   0.2535     0.2535     0.0000 |   0.6850    94             |  1.000e-03   0.000e+00 |\n",
      "04:44:57 395/500  |   0.2572     0.2572     0.0000 |   0.000000   0.0000e+00 |   0.6198   499           |   0.2538     0.2538     0.0000 |   0.6645    94             |  1.000e-03   0.000e+00 |\n",
      "04:47:51 396/500  |   0.2571     0.2571     0.0000 |   0.000000   0.0000e+00 |   0.6218   499           |   0.2532     0.2532     0.0000 |   0.6895    94             |  1.000e-03   0.000e+00 |\n",
      "04:50:48 397/500  |   0.2570     0.2570     0.0000 |   0.000000   0.0000e+00 |   0.6217   499           |   0.2533     0.2533     0.0000 |   0.6774    94             |  1.000e-03   0.000e+00 |\n",
      "04:53:44 398/500  |   0.2570     0.2570     0.0000 |   0.000000   0.0000e+00 |   0.6234   499           |   0.2531     0.2531     0.0000 |   0.6808    94             |  1.000e-03   0.000e+00 |\n",
      "04:56:42 399/500  |   0.2571     0.2571     0.0000 |   0.000000   0.0000e+00 |   0.6212   499           |   0.2536     0.2536     0.0000 |   0.6800    94             |  1.000e-03   0.000e+00 |\n",
      "04:59:37 400/500  |   0.2572     0.2572     0.0000 |   0.000000   0.0000e+00 |   0.6184   499           |   0.2535     0.2535     0.0000 |   0.6761    94             |  1.000e-03   0.000e+00 |\n",
      "19:57:26 401/500  |   0.2572     0.2572     0.0000 |   0.000000   0.0000e+00 |   0.6206   499           |   0.2532     0.2532     0.0000 |   0.6864    94             |  1.000e-03   0.000e+00 |\n",
      "20:00:19 402/500  |   0.2570     0.2570     0.0000 |   0.000000   0.0000e+00 |   0.6191   499           |   0.2535     0.2535     0.0000 |   0.6885    94             |  1.000e-03   0.000e+00 |\n",
      "20:03:11 403/500  |   0.2571     0.2571     0.0000 |   0.000000   0.0000e+00 |   0.6203   499           |   0.2534     0.2534     0.0000 |   0.6765    94             |  1.000e-03   0.000e+00 |\n",
      "20:06:07 404/500  |   0.2570     0.2570     0.0000 |   0.000000   0.0000e+00 |   0.6199   499           |   0.2532     0.2532     0.0000 |   0.6729    94             |  1.000e-03   0.000e+00 |\n",
      "20:09:00 405/500  |   0.2571     0.2571     0.0000 |   0.000000   0.0000e+00 |   0.6192   499           |   0.2532     0.2532     0.0000 |   0.6782    94             |  1.000e-03   0.000e+00 |\n",
      "20:11:51 406/500  |   0.2570     0.2570     0.0000 |   0.000000   0.0000e+00 |   0.6205   499           |   0.2532     0.2532     0.0000 |   0.6836    94             |  1.000e-03   0.000e+00 |\n",
      "20:14:47 407/500  |   0.2570     0.2570     0.0000 |   0.000000   0.0000e+00 |   0.6212   499           |   0.2532     0.2532     0.0000 |   0.6798    94             |  1.000e-03   0.000e+00 |\n",
      "20:17:41 408/500  |   0.2571     0.2571     0.0000 |   0.000000   0.0000e+00 |   0.6192   499           |   0.2540     0.2540     0.0000 |   0.6816    94             |  1.000e-03   0.000e+00 |\n",
      "20:20:39 409/500  |   0.2570     0.2570     0.0000 |   0.000000   0.0000e+00 |   0.6258   499           |   0.2535     0.2535     0.0000 |   0.6894    94             |  1.000e-03   0.000e+00 |\n",
      "20:23:34 410/500  |   0.2571     0.2571     0.0000 |   0.000000   0.0000e+00 |   0.6162   499           |   0.2532     0.2532     0.0000 |   0.6865    94             |  1.000e-03   0.000e+00 |\n",
      "20:26:30 411/500  |   0.2572     0.2572     0.0000 |   0.000000   0.0000e+00 |   0.6228   499           |   0.2531     0.2531     0.0000 |   0.6734    94             |  1.000e-03   0.000e+00 |\n",
      "20:29:27 412/500  |   0.2571     0.2571     0.0000 |   0.000000   0.0000e+00 |   0.6252   499           |   0.2534     0.2534     0.0000 |   0.6882    94             |  1.000e-03   0.000e+00 |\n",
      "20:32:23 413/500  |   0.2571     0.2571     0.0000 |   0.000000   0.0000e+00 |   0.6180   499           |   0.2533     0.2533     0.0000 |   0.6810    94             |  1.000e-03   0.000e+00 |\n",
      "20:35:18 414/500  |   0.2571     0.2571     0.0000 |   0.000000   0.0000e+00 |   0.6198   499           |   0.2531     0.2531     0.0000 |   0.6784    94             |  1.000e-03   0.000e+00 |\n",
      "20:38:10 415/500  |   0.2571     0.2571     0.0000 |   0.000000   0.0000e+00 |   0.6217   499           |   0.2532     0.2532     0.0000 |   0.6750    94             |  1.000e-03   0.000e+00 |\n",
      "20:41:04 416/500  |   0.2570     0.2570     0.0000 |   0.000000   0.0000e+00 |   0.6193   499           |   0.2529     0.2529     0.0000 |   0.6909    94             |  1.000e-03   0.000e+00 |\n",
      "20:43:58 417/500  |   0.2571     0.2571     0.0000 |   0.000000   0.0000e+00 |   0.6218   499           |   0.2537     0.2537     0.0000 |   0.6771    94             |  1.000e-03   0.000e+00 |\n",
      "20:46:55 418/500  |   0.2572     0.2572     0.0000 |   0.000000   0.0000e+00 |   0.6155   499           |   0.2534     0.2534     0.0000 |   0.6771    94             |  1.000e-03   0.000e+00 |\n",
      "20:49:53 419/500  |   0.2570     0.2570     0.0000 |   0.000000   0.0000e+00 |   0.6202   499           |   0.2532     0.2532     0.0000 |   0.6794    94             |  1.000e-03   0.000e+00 |\n",
      "20:52:48 420/500  |   0.2571     0.2571     0.0000 |   0.000000   0.0000e+00 |   0.6158   499           |   0.2531     0.2531     0.0000 |   0.6624    94             |  1.000e-03   0.000e+00 |\n",
      "20:55:44 421/500  |   0.2571     0.2571     0.0000 |   0.000000   0.0000e+00 |   0.6234   499           |   0.2533     0.2533     0.0000 |   0.6781    94             |  1.000e-03   0.000e+00 |\n",
      "20:58:42 422/500  |   0.2571     0.2571     0.0000 |   0.000000   0.0000e+00 |   0.6197   499           |   0.2530     0.2530     0.0000 |   0.6705    94             |  1.000e-03   0.000e+00 |\n",
      "21:01:37 423/500  |   0.2571     0.2571     0.0000 |   0.000000   0.0000e+00 |   0.6225   499           |   0.2531     0.2531     0.0000 |   0.6795    94             |  1.000e-03   0.000e+00 |\n",
      "21:04:27 424/500  |   0.2571     0.2571     0.0000 |   0.000000   0.0000e+00 |   0.6255   499           |   0.2530     0.2530     0.0000 |   0.6792    94             |  1.000e-03   0.000e+00 |\n",
      "21:07:21 425/500  |   0.2570     0.2570     0.0000 |   0.000000   0.0000e+00 |   0.6236   499           |   0.2533     0.2533     0.0000 |   0.6903    94             |  1.000e-03   0.000e+00 |\n",
      "21:10:15 426/500  |   0.2570     0.2570     0.0000 |   0.000000   0.0000e+00 |   0.6237   499           |   0.2535     0.2535     0.0000 |   0.6907    94             |  1.000e-03   0.000e+00 |\n",
      "21:13:11 427/500  |   0.2571     0.2571     0.0000 |   0.000000   0.0000e+00 |   0.6204   499           |   0.2532     0.2532     0.0000 |   0.6782    94             |  1.000e-03   0.000e+00 |\n",
      "21:16:06 428/500  |   0.2571     0.2571     0.0000 |   0.000000   0.0000e+00 |   0.6215   499           |   0.2532     0.2532     0.0000 |   0.6709    94             |  1.000e-03   0.000e+00 |\n",
      "21:19:00 429/500  |   0.2571     0.2571     0.0000 |   0.000000   0.0000e+00 |   0.6210   499           |   0.2532     0.2532     0.0000 |   0.6834    94             |  1.000e-03   0.000e+00 |\n",
      "21:21:53 430/500  |   0.2570     0.2570     0.0000 |   0.000000   0.0000e+00 |   0.6212   499           |   0.2531     0.2531     0.0000 |   0.6861    94             |  1.000e-03   0.000e+00 |\n",
      "21:24:49 431/500  |   0.2571     0.2571     0.0000 |   0.000000   0.0000e+00 |   0.6251   499           |   0.2534     0.2534     0.0000 |   0.6679    94             |  1.000e-03   0.000e+00 |\n",
      "21:27:45 432/500  |   0.2571     0.2571     0.0000 |   0.000000   0.0000e+00 |   0.6224   499           |   0.2532     0.2532     0.0000 |   0.6794    94             |  1.000e-03   0.000e+00 |\n",
      "21:30:43 433/500  |   0.2570     0.2570     0.0000 |   0.000000   0.0000e+00 |   0.6240   499           |   0.2537     0.2537     0.0000 |   0.6822    94             |  1.000e-03   0.000e+00 |\n",
      "21:33:39 434/500  |   0.2570     0.2570     0.0000 |   0.000000   0.0000e+00 |   0.6215   499           |   0.2534     0.2534     0.0000 |   0.6924    94             |  1.000e-03   0.000e+00 |\n",
      "21:36:32 435/500  |   0.2570     0.2570     0.0000 |   0.000000   0.0000e+00 |   0.6211   499           |   0.2534     0.2534     0.0000 |   0.6807    94             |  1.000e-03   0.000e+00 |\n",
      "21:39:27 436/500  |   0.2571     0.2571     0.0000 |   0.000000   0.0000e+00 |   0.6226   499           |   0.2529     0.2529     0.0000 |   0.6591    94             |  1.000e-03   0.000e+00 |\n",
      "21:42:20 437/500  |   0.2570     0.2570     0.0000 |   0.000000   0.0000e+00 |   0.6253   499           |   0.2529     0.2529     0.0000 |   0.6898    94             |  1.000e-03   0.000e+00 |\n",
      "21:45:18 438/500  |   0.2570     0.2570     0.0000 |   0.000000   0.0000e+00 |   0.6162   499           |   0.2532     0.2532     0.0000 |   0.6857    94             |  1.000e-03   0.000e+00 |\n",
      "21:48:13 439/500  |   0.2571     0.2571     0.0000 |   0.000000   0.0000e+00 |   0.6234   499           |   0.2542     0.2542     0.0000 |   0.6834    94             |  1.000e-03   0.000e+00 |\n",
      "21:51:10 440/500  |   0.2571     0.2571     0.0000 |   0.000000   0.0000e+00 |   0.6218   499           |   0.2532     0.2532     0.0000 |   0.6737    94             |  1.000e-03   0.000e+00 |\n",
      "21:54:01 441/500  |   0.2572     0.2572     0.0000 |   0.000000   0.0000e+00 |   0.6203   499           |   0.2532     0.2532     0.0000 |   0.6854    94             |  1.000e-03   0.000e+00 |\n",
      "21:56:54 442/500  |   0.2569     0.2569     0.0000 |   0.000000   0.0000e+00 |   0.6251   499           |   0.2534     0.2534     0.0000 |   0.6870    94             |  1.000e-03   0.000e+00 |\n",
      "21:59:48 443/500  |   0.2570     0.2570     0.0000 |   0.000000   0.0000e+00 |   0.6263   499           |   0.2533     0.2533     0.0000 |   0.6938    94             |  1.000e-03   0.000e+00 |\n",
      "22:02:39 444/500  |   0.2570     0.2570     0.0000 |   0.000000   0.0000e+00 |   0.6206   499           |   0.2535     0.2535     0.0000 |   0.6896    94             |  1.000e-03   0.000e+00 |\n",
      "22:05:35 445/500  |   0.2569     0.2569     0.0000 |   0.000000   0.0000e+00 |   0.6253   499           |   0.2532     0.2532     0.0000 |   0.6934    94             |  1.000e-03   0.000e+00 |\n",
      "22:08:30 446/500  |   0.2570     0.2570     0.0000 |   0.000000   0.0000e+00 |   0.6243   499           |   0.2535     0.2535     0.0000 |   0.6799    94             |  1.000e-03   0.000e+00 |\n",
      "22:11:26 447/500  |   0.2571     0.2571     0.0000 |   0.000000   0.0000e+00 |   0.6207   499           |   0.2533     0.2533     0.0000 |   0.6867    94             |  1.000e-03   0.000e+00 |\n",
      "22:14:21 448/500  |   0.2571     0.2571     0.0000 |   0.000000   0.0000e+00 |   0.6242   499           |   0.2533     0.2533     0.0000 |   0.6882    94             |  1.000e-03   0.000e+00 |\n",
      "22:17:15 449/500  |   0.2571     0.2571     0.0000 |   0.000000   0.0000e+00 |   0.6218   499           |   0.2533     0.2533     0.0000 |   0.6731    94             |  1.000e-03   0.000e+00 |\n",
      "22:20:10 450/500  |   0.2569     0.2569     0.0000 |   0.000000   0.0000e+00 |   0.6176   499           |   0.2531     0.2531     0.0000 |   0.6906    94             |  1.000e-03   0.000e+00 |\n",
      "22:23:03 451/500  |   0.2570     0.2570     0.0000 |   0.000000   0.0000e+00 |   0.6242   499           |   0.2532     0.2532     0.0000 |   0.6920    94             |  1.000e-03   0.000e+00 |\n",
      "22:25:55 452/500  |   0.2571     0.2571     0.0000 |   0.000000   0.0000e+00 |   0.6204   499           |   0.2535     0.2535     0.0000 |   0.6729    94             |  1.000e-03   0.000e+00 |\n",
      "22:28:52 453/500  |   0.2571     0.2571     0.0000 |   0.000000   0.0000e+00 |   0.6252   499           |   0.2533     0.2533     0.0000 |   0.6863    94             |  1.000e-03   0.000e+00 |\n",
      "22:31:45 454/500  |   0.2571     0.2571     0.0000 |   0.000000   0.0000e+00 |   0.6231   499           |   0.2530     0.2530     0.0000 |   0.6797    94             |  1.000e-03   0.000e+00 |\n",
      "22:34:42 455/500  |   0.2570     0.2570     0.0000 |   0.000000   0.0000e+00 |   0.6194   499           |   0.2538     0.2538     0.0000 |   0.6788    94             |  1.000e-03   0.000e+00 |\n",
      "22:37:35 456/500  |   0.2570     0.2570     0.0000 |   0.000000   0.0000e+00 |   0.6245   499           |   0.2528     0.2528     0.0000 |   0.6942    94             |  1.000e-03   0.000e+00 |\n",
      "22:40:27 457/500  |   0.2570     0.2570     0.0000 |   0.000000   0.0000e+00 |   0.6246   499           |   0.2534     0.2534     0.0000 |   0.6893    94             |  1.000e-03   0.000e+00 |\n",
      "22:43:21 458/500  |   0.2571     0.2571     0.0000 |   0.000000   0.0000e+00 |   0.6213   499           |   0.2532     0.2532     0.0000 |   0.6853    94             |  1.000e-03   0.000e+00 |\n",
      "22:46:17 459/500  |   0.2571     0.2571     0.0000 |   0.000000   0.0000e+00 |   0.6225   499           |   0.2528     0.2528     0.0000 |   0.6886    94             |  1.000e-03   0.000e+00 |\n",
      "22:49:09 460/500  |   0.2570     0.2570     0.0000 |   0.000000   0.0000e+00 |   0.6182   499           |   0.2534     0.2534     0.0000 |   0.6775    94             |  1.000e-03   0.000e+00 |\n",
      "22:52:01 461/500  |   0.2570     0.2570     0.0000 |   0.000000   0.0000e+00 |   0.6171   499           |   0.2535     0.2535     0.0000 |   0.6765    94             |  1.000e-03   0.000e+00 |\n",
      "22:54:54 462/500  |   0.2569     0.2569     0.0000 |   0.000000   0.0000e+00 |   0.6223   499           |   0.2529     0.2529     0.0000 |   0.6917    94             |  1.000e-03   0.000e+00 |\n",
      "22:57:47 463/500  |   0.2570     0.2570     0.0000 |   0.000000   0.0000e+00 |   0.6232   499           |   0.2531     0.2531     0.0000 |   0.6671    94             |  1.000e-03   0.000e+00 |\n",
      "23:00:39 464/500  |   0.2570     0.2570     0.0000 |   0.000000   0.0000e+00 |   0.6238   499           |   0.2533     0.2533     0.0000 |   0.6778    94             |  1.000e-03   0.000e+00 |\n",
      "23:03:32 465/500  |   0.2570     0.2570     0.0000 |   0.000000   0.0000e+00 |   0.6239   499           |   0.2532     0.2532     0.0000 |   0.6857    94             |  1.000e-03   0.000e+00 |\n",
      "23:06:24 466/500  |   0.2570     0.2570     0.0000 |   0.000000   0.0000e+00 |   0.6234   499           |   0.2528     0.2528     0.0000 |   0.6719    94             |  1.000e-03   0.000e+00 |\n",
      "23:09:15 467/500  |   0.2571     0.2571     0.0000 |   0.000000   0.0000e+00 |   0.6164   499           |   0.2540     0.2540     0.0000 |   0.6788    94             |  1.000e-03   0.000e+00 |\n",
      "23:12:09 468/500  |   0.2572     0.2572     0.0000 |   0.000000   0.0000e+00 |   0.6242   499           |   0.2536     0.2536     0.0000 |   0.6876    94             |  1.000e-03   0.000e+00 |\n",
      "23:15:01 469/500  |   0.2570     0.2570     0.0000 |   0.000000   0.0000e+00 |   0.6214   499           |   0.2530     0.2530     0.0000 |   0.6841    94             |  1.000e-03   0.000e+00 |\n",
      "23:17:53 470/500  |   0.2569     0.2569     0.0000 |   0.000000   0.0000e+00 |   0.6249   499           |   0.2533     0.2533     0.0000 |   0.6813    94             |  1.000e-03   0.000e+00 |\n",
      "23:20:48 471/500  |   0.2570     0.2570     0.0000 |   0.000000   0.0000e+00 |   0.6235   499           |   0.2529     0.2529     0.0000 |   0.6913    94             |  1.000e-03   0.000e+00 |\n",
      "23:23:43 472/500  |   0.2569     0.2569     0.0000 |   0.000000   0.0000e+00 |   0.6247   499           |   0.2531     0.2531     0.0000 |   0.6841    94             |  1.000e-03   0.000e+00 |\n",
      "23:26:36 473/500  |   0.2570     0.2570     0.0000 |   0.000000   0.0000e+00 |   0.6172   499           |   0.2532     0.2532     0.0000 |   0.6823    94             |  1.000e-03   0.000e+00 |\n",
      "23:29:30 474/500  |   0.2569     0.2569     0.0000 |   0.000000   0.0000e+00 |   0.6246   499           |   0.2532     0.2532     0.0000 |   0.6801    94             |  1.000e-03   0.000e+00 |\n",
      "23:32:23 475/500  |   0.2570     0.2570     0.0000 |   0.000000   0.0000e+00 |   0.6205   499           |   0.2531     0.2531     0.0000 |   0.6764    94             |  1.000e-03   0.000e+00 |\n",
      "23:35:19 476/500  |   0.2573     0.2573     0.0000 |   0.000000   0.0000e+00 |   0.6160   499           |   0.2546     0.2546     0.0000 |   0.6739    94             |  1.000e-03   0.000e+00 |\n",
      "23:38:11 477/500  |   0.2571     0.2571     0.0000 |   0.000000   0.0000e+00 |   0.6243   499           |   0.2531     0.2531     0.0000 |   0.6856    94             |  1.000e-03   0.000e+00 |\n",
      "23:41:05 478/500  |   0.2570     0.2570     0.0000 |   0.000000   0.0000e+00 |   0.6233   499           |   0.2534     0.2534     0.0000 |   0.6890    94             |  1.000e-03   0.000e+00 |\n",
      "23:44:01 479/500  |   0.2571     0.2571     0.0000 |   0.000000   0.0000e+00 |   0.6211   499           |   0.2532     0.2532     0.0000 |   0.6857    94             |  1.000e-03   0.000e+00 |\n",
      "23:46:52 480/500  |   0.2570     0.2570     0.0000 |   0.000000   0.0000e+00 |   0.6240   499           |   0.2533     0.2533     0.0000 |   0.6885    94             |  1.000e-03   0.000e+00 |\n",
      "23:49:47 481/500  |   0.2570     0.2570     0.0000 |   0.000000   0.0000e+00 |   0.6233   499           |   0.2529     0.2529     0.0000 |   0.6913    94             |  1.000e-03   0.000e+00 |\n",
      "23:52:41 482/500  |   0.2569     0.2569     0.0000 |   0.000000   0.0000e+00 |   0.6272   499           |   0.2535     0.2535     0.0000 |   0.6853    94             |  1.000e-03   0.000e+00 |\n",
      "23:55:35 483/500  |   0.2571     0.2571     0.0000 |   0.000000   0.0000e+00 |   0.6189   499           |   0.2530     0.2530     0.0000 |   0.6741    94             |  1.000e-03   0.000e+00 |\n",
      "23:58:28 484/500  |   0.2570     0.2570     0.0000 |   0.000000   0.0000e+00 |   0.6237   499           |   0.2533     0.2533     0.0000 |   0.6824    94             |  1.000e-03   0.000e+00 |\n",
      "00:01:22 485/500  |   0.2570     0.2570     0.0000 |   0.000000   0.0000e+00 |   0.6246   499           |   0.2529     0.2529     0.0000 |   0.6749    94             |  1.000e-03   0.000e+00 |\n",
      "00:04:18 486/500  |   0.2570     0.2570     0.0000 |   0.000000   0.0000e+00 |   0.6225   499           |   0.2532     0.2532     0.0000 |   0.6850    94             |  1.000e-03   0.000e+00 |\n",
      "00:07:12 487/500  |   0.2570     0.2570     0.0000 |   0.000000   0.0000e+00 |   0.6200   499           |   0.2536     0.2536     0.0000 |   0.6734    94             |  1.000e-03   0.000e+00 |\n",
      "00:10:04 488/500  |   0.2569     0.2569     0.0000 |   0.000000   0.0000e+00 |   0.6260   499           |   0.2533     0.2533     0.0000 |   0.6908    94             |  1.000e-03   0.000e+00 |\n",
      "00:12:57 489/500  |   0.2570     0.2570     0.0000 |   0.000000   0.0000e+00 |   0.6193   499           |   0.2532     0.2532     0.0000 |   0.6827    94             |  1.000e-03   0.000e+00 |\n",
      "00:15:50 490/500  |   0.2570     0.2570     0.0000 |   0.000000   0.0000e+00 |   0.6211   499           |   0.2536     0.2536     0.0000 |   0.6790    94             |  1.000e-03   0.000e+00 |\n",
      "00:18:42 491/500  |   0.2571     0.2571     0.0000 |   0.000000   0.0000e+00 |   0.6229   499           |   0.2532     0.2532     0.0000 |   0.6717    94             |  1.000e-03   0.000e+00 |\n",
      "00:21:35 492/500  |   0.2570     0.2570     0.0000 |   0.000000   0.0000e+00 |   0.6242   499           |   0.2535     0.2535     0.0000 |   0.6886    94             |  1.000e-03   0.000e+00 |\n",
      "00:24:28 493/500  |   0.2570     0.2570     0.0000 |   0.000000   0.0000e+00 |   0.6244   499           |   0.2531     0.2531     0.0000 |   0.6901    94             |  1.000e-03   0.000e+00 |\n",
      "00:27:24 494/500  |   0.2571     0.2571     0.0000 |   0.000000   0.0000e+00 |   0.6201   499           |   0.2534     0.2534     0.0000 |   0.6912    94             |  1.000e-03   0.000e+00 |\n",
      "00:30:20 495/500  |   0.2570     0.2570     0.0000 |   0.000000   0.0000e+00 |   0.6239   499           |   0.2534     0.2534     0.0000 |   0.6885    94             |  1.000e-03   0.000e+00 |\n",
      "00:33:12 496/500  |   0.2570     0.2570     0.0000 |   0.000000   0.0000e+00 |   0.6242   499           |   0.2533     0.2533     0.0000 |   0.6846    94             |  1.000e-03   0.000e+00 |\n",
      "00:36:10 497/500  |   0.2571     0.2571     0.0000 |   0.000000   0.0000e+00 |   0.6255   499           |   0.2536     0.2536     0.0000 |   0.6866    94             |  1.000e-03   0.000e+00 |\n",
      "00:39:05 498/500  |   0.2570     0.2570     0.0000 |   0.000000   0.0000e+00 |   0.6216   499           |   0.2534     0.2534     0.0000 |   0.6845    94             |  1.000e-03   0.000e+00 |\n",
      "00:42:01 499/500  |   0.2570     0.2570     0.0000 |   0.000000   0.0000e+00 |   0.6275   499           |   0.2531     0.2531     0.0000 |   0.6920    94             |  1.000e-03   0.000e+00 |\n",
      "00:44:55 500/500  |   0.2569     0.2569     0.0000 |   0.000000   0.0000e+00 |   0.6241   499           |   0.2533     0.2533     0.0000 |   0.6902    94             |  1.000e-03   0.000e+00 |\n"
     ]
    }
   ],
   "source": [
    "for epoch in range(model.ending_epoch):\n",
    "    display_epoch_metrics(model, epoch)"
   ]
  },
  {
   "cell_type": "code",
   "execution_count": 44,
   "id": "9fcc8b57-78d6-4bcc-b255-9c2639c7dfc4",
   "metadata": {
    "execution": {
     "iopub.execute_input": "2024-09-25T22:54:47.389409Z",
     "iopub.status.busy": "2024-09-25T22:54:47.388902Z",
     "iopub.status.idle": "2024-09-25T22:54:47.436066Z",
     "shell.execute_reply": "2024-09-25T22:54:47.435349Z",
     "shell.execute_reply.started": "2024-09-25T22:54:47.389365Z"
    }
   },
   "outputs": [
    {
     "data": {
      "text/plain": [
       "(500, 600)"
      ]
     },
     "execution_count": 44,
     "metadata": {},
     "output_type": "execute_result"
    },
    {
     "name": "stdout",
     "output_type": "stream",
     "text": [
      " 2024-09-26 00:54:47  epoch  501 of  600\n"
     ]
    }
   ],
   "source": [
    "# model.starting_epoch = 200\n",
    "# model.ending_epoch = 400\n",
    "model.starting_epoch = model.ending_epoch\n",
    "model.ending_epoch += 100\n",
    "\n",
    "model.starting_epoch, model.ending_epoch\n",
    "print(f\" {datetime.now().strftime('%Y-%m-%d %H:%M:%S')}  epoch {model.starting_epoch+1:4d} of {model.ending_epoch:4d}\")"
   ]
  },
  {
   "cell_type": "markdown",
   "id": "9eb9b7b9-c995-41ee-bbb4-fe3d3749a9b6",
   "metadata": {},
   "source": [
    "### Close WandB Logging"
   ]
  },
  {
   "cell_type": "code",
   "execution_count": 48,
   "id": "1251c457-bbae-4bfc-a786-92fbc8d2ddb6",
   "metadata": {
    "execution": {
     "iopub.execute_input": "2024-09-26T13:24:36.539138Z",
     "iopub.status.busy": "2024-09-26T13:24:36.538639Z",
     "iopub.status.idle": "2024-09-26T13:24:43.597352Z",
     "shell.execute_reply": "2024-09-26T13:24:43.596191Z",
     "shell.execute_reply.started": "2024-09-26T13:24:36.539096Z"
    },
    "scrolled": true
   },
   "outputs": [
    {
     "data": {
      "text/html": [
       "<style>\n",
       "    table.wandb td:nth-child(1) { padding: 0 10px; text-align: left ; width: auto;} td:nth-child(2) {text-align: left ; width: 100%}\n",
       "    .wandb-row { display: flex; flex-direction: row; flex-wrap: wrap; justify-content: flex-start; width: 100% }\n",
       "    .wandb-col { display: flex; flex-direction: column; flex-basis: 100%; flex: 1; padding: 10px; }\n",
       "    </style>\n",
       "<div class=\"wandb-row\"><div class=\"wandb-col\"><h3>Run history:</h3><br/><table class=\"wandb\"><tr><td>trn_R2_score</td><td>▃▁▃▄▄▅▅▄▅▅▅▅▆▅▅▅▅▆▆▆▆▆▆▆▆▆▆▆▆▆▆▆▆▆▆▆▆███</td></tr><tr><td>trn_best_loss</td><td>█▇▅▄▄▃▃▃▃▃▃▃▃▃▃▃▃▃▃▃▃▃▃▃▃▃▃▃▃▃▃▃▃▃▃▃▃▁▁▁</td></tr><tr><td>trn_best_loss_ep</td><td>▁▁▁▁▂▂▂▂▂▃▃▃▃▃▃▃▄▄▄▄▄▄▅▅▅▅▆▆▆▆▆▆▇▇▇▇▇███</td></tr><tr><td>trn_best_metric</td><td>▁▁▂▃▃▄▄▄▄▄▄▄▄▄▄▅▅▅▅▅▅▅▅▅▅▅▅▅▅▅▅▅▅▅▅▅▅███</td></tr><tr><td>trn_best_metric_ep</td><td>▁▁▁▂▂▂▂▂▃▃▃▃▃▃▃▄▄▄▄▄▄▄▄▄▄▄▄▆▆▇▇▇▇▇▇▇▇███</td></tr><tr><td>trn_lr</td><td>█████████████████████████████████████▁▁▁</td></tr><tr><td>trn_prim_loss</td><td>█▇▅▄▄▃▃▃▃▃▃▃▃▃▃▃▃▃▃▃▃▃▃▃▃▃▃▃▃▃▃▃▃▃▃▃▃▁▁▁</td></tr><tr><td>trn_snn_loss</td><td>▁▁▁▁▁▁▁▁▁▁▁▁▁▁▁▁▁▁▁▁▁▁▁▁▁▁▁▁▁▁▁▁▁▁▁▁▁▁▁▁</td></tr><tr><td>trn_ttl_loss</td><td>█▇▅▄▄▃▃▃▃▃▃▃▃▃▃▃▃▃▃▃▃▃▃▃▃▃▃▃▃▃▃▃▃▃▃▃▃▁▁▁</td></tr><tr><td>val_R2_score</td><td>▆▁█▇████████████████████████████████████</td></tr><tr><td>val_best_loss</td><td>█▇▆▄▄▄▄▃▃▃▃▃▃▃▃▃▃▃▃▃▃▃▃▃▃▃▃▃▃▃▃▃▃▃▃▃▃▁▁▁</td></tr><tr><td>val_best_loss_ep</td><td>▁▁▁▁▂▂▂▂▂▃▃▃▃▃▃▃▄▄▄▄▅▅▅▅▅▅▅▆▆▆▆▆▆▇▇▇▇███</td></tr><tr><td>val_best_metric</td><td>▁▁▄▆▇███████████████████████████████████</td></tr><tr><td>val_best_metric_ep</td><td>▁▁▁▂▂▂▂▂▂▂▂▂▂▂▂▂▂▂▂▂▂▂▂▂▂▂▂▂▂▂▂▂▂▂▂▂▂███</td></tr><tr><td>val_prim_loss</td><td>██▆▅▅▄▄▄▃▃▃▃▃▃▃▃▃▃▃▃▃▃▃▃▃▃▃▃▃▃▃▃▃▃▃▃▃▁▁▁</td></tr><tr><td>val_snn_loss</td><td>▁▁▁▁▁▁▁▁▁▁▁▁▁▁▁▁▁▁▁▁▁▁▁▁▁▁▁▁▁▁▁▁▁▁▁▁▁▁▁▁</td></tr><tr><td>val_ttl_loss</td><td>██▆▅▅▄▄▄▃▃▃▃▃▃▃▃▃▃▃▃▃▃▃▃▃▃▃▃▃▃▃▃▃▃▃▃▃▁▁▁</td></tr></table><br/></div><div class=\"wandb-col\"><h3>Run summary:</h3><br/><table class=\"wandb\"><tr><td>trn_R2_score</td><td>0.66192</td></tr><tr><td>trn_best_loss</td><td>0.25288</td></tr><tr><td>trn_best_loss_ep</td><td>599</td></tr><tr><td>trn_best_metric</td><td>0.66431</td></tr><tr><td>trn_best_metric_ep</td><td>552</td></tr><tr><td>trn_lr</td><td>0.0005</td></tr><tr><td>trn_prim_loss</td><td>0.25288</td></tr><tr><td>trn_snn_loss</td><td>0.0</td></tr><tr><td>trn_time</td><td>05:49:10</td></tr><tr><td>trn_ttl_loss</td><td>0.25288</td></tr><tr><td>val_R2_score</td><td>0.69479</td></tr><tr><td>val_best_loss</td><td>0.24935</td></tr><tr><td>val_best_loss_ep</td><td>589</td></tr><tr><td>val_best_metric</td><td>0.69622</td></tr><tr><td>val_best_metric_ep</td><td>566</td></tr><tr><td>val_prim_loss</td><td>0.24939</td></tr><tr><td>val_snn_loss</td><td>0.0</td></tr><tr><td>val_time</td><td>05:49:46</td></tr><tr><td>val_ttl_loss</td><td>0.24939</td></tr></table><br/></div></div>"
      ],
      "text/plain": [
       "<IPython.core.display.HTML object>"
      ]
     },
     "metadata": {},
     "output_type": "display_data"
    },
    {
     "data": {
      "text/html": [
       " View run <strong style=\"color:#cdcd00\">AE_20240923_1943</strong> at: <a href='https://wandb.ai/kbardool/CellPainting_Profiles/runs/562ayd0o' target=\"_blank\">https://wandb.ai/kbardool/CellPainting_Profiles/runs/562ayd0o</a><br/> View project at: <a href='https://wandb.ai/kbardool/CellPainting_Profiles' target=\"_blank\">https://wandb.ai/kbardool/CellPainting_Profiles</a><br/>Synced 6 W&B file(s), 0 media file(s), 0 artifact file(s) and 0 other file(s)"
      ],
      "text/plain": [
       "<IPython.core.display.HTML object>"
      ]
     },
     "metadata": {},
     "output_type": "display_data"
    },
    {
     "data": {
      "text/html": [
       "Find logs at: <code>./wandb/run-20240923_194421-562ayd0o/logs</code>"
      ],
      "text/plain": [
       "<IPython.core.display.HTML object>"
      ]
     },
     "metadata": {},
     "output_type": "display_data"
    },
    {
     "data": {
      "text/html": [
       "The new W&B backend becomes opt-out in version 0.18.0; try it out with `wandb.require(\"core\")`! See https://wandb.me/wandb-core for more information."
      ],
      "text/plain": [
       "<IPython.core.display.HTML object>"
      ]
     },
     "metadata": {},
     "output_type": "display_data"
    }
   ],
   "source": [
    "if args.WANDB_ACTIVE:\n",
    "    wandb_run.finish()\n",
    "    args.WANDB_ACTIVE = False"
   ]
  },
  {
   "cell_type": "markdown",
   "id": "2903f1fc-1365-4eac-88c4-9554a834700e",
   "metadata": {
    "jp-MarkdownHeadingCollapsed": true
   },
   "source": [
    "## Misc stuff"
   ]
  },
  {
   "cell_type": "code",
   "execution_count": null,
   "id": "ec18eb70-3ac2-4156-9083-d2ee8519b889",
   "metadata": {},
   "outputs": [],
   "source": [
    "# from snnl.utils import take_checkpoint\n",
    "# take_checkpoint(model, args, model.epoch, update_latest = True)\n",
    "\n",
    "# def take_checkpoint(model, args,epoch, update_best = False, update_latest = False):\n",
    "#     assert not (update_best and update_latest), \"best and last cant both be True\"\n",
    "#     if args.WANDB_ACTIVE:\n",
    "#         wandb.unwatch(model)\n",
    "#         args.save_checkpoint(epoch, model, args, update_best = update_best, update_latest=update_latest)\n",
    "#         wandb_watch(item = model, criterion=None, log = 'all', log_freq = 1000, log_graph = False)\n",
    "#     else:\n",
    "#         args.save_checkpoint(epoch, model, args, update_best = update_best, update_latest=update_latest)\n"
   ]
  },
  {
   "cell_type": "markdown",
   "id": "9d7f6ece-b0e4-4e64-bc35-928a3c3f961d",
   "metadata": {},
   "source": [
    "# Plot losses, weights, biases and gradients"
   ]
  },
  {
   "cell_type": "code",
   "execution_count": null,
   "id": "abc9b289-e042-4243-a2b4-c76751589ac3",
   "metadata": {},
   "outputs": [],
   "source": [
    "# if 0:\n",
    "#     model_attributes = model.__dict__\n",
    "#     model.training_history['train'].keys()\n",
    "#     for key, value in model.training_history['train'].items():\n",
    "#         if isinstance(value, List) or key in [\"test_accuracy\", \"test_f1\"]:\n",
    "#             print(f\"{key:25s} {type(value)}  {len(value):7d}  {value[-5:]}\")\n",
    "#     print()\n",
    "#     for key, value in model.training_history['val'].items():\n",
    "#         if isinstance(value, List) or key in [\"test_accuracy\", \"test_f1\"]:\n",
    "#             print(f\"{key:25s} {type(value)}  {len(value):7d}  {value[-5:]}\")        "
   ]
  },
  {
   "cell_type": "code",
   "execution_count": null,
   "id": "fbb441d8-ba3d-4540-abcc-e40aaaa3dd2e",
   "metadata": {},
   "outputs": [],
   "source": [
    "# tmp = np.array(model.training_history['train']['temp_grads'])\n",
    "# for st in range(0,len(tmp), 1000):\n",
    "#     end = st + 1000\n",
    "#     print(f\" {st:5d} - {end:5d}  min: {tmp[st:end].min():9e}   max: {tmp[st:end].max():9e}    avg: {tmp[st:end].mean():9e}   std: {tmp[st:end].std():9e}\")"
   ]
  },
  {
   "cell_type": "code",
   "execution_count": 46,
   "id": "2bc8de25-ddde-4d2c-b97f-1da1d375c991",
   "metadata": {
    "execution": {
     "iopub.execute_input": "2024-09-26T13:16:18.505130Z",
     "iopub.status.busy": "2024-09-26T13:16:18.504514Z",
     "iopub.status.idle": "2024-09-26T13:16:19.423501Z",
     "shell.execute_reply": "2024-09-26T13:16:19.422928Z",
     "shell.execute_reply.started": "2024-09-26T13:16:18.505080Z"
    },
    "scrolled": true
   },
   "outputs": [
    {
     "data": {
      "image/png": "[encoded data removed]",
      "text/plain": [
       "<Figure size 2000x400 with 5 Axes>"
      ]
     },
     "metadata": {},
     "output_type": "display_data"
    }
   ],
   "source": [
    "plot_train_history(model, start= 0, n_bins = 25)"
   ]
  },
  {
   "cell_type": "code",
   "execution_count": 47,
   "id": "a7003431-1058-4531-905a-a0cfa6cc4f16",
   "metadata": {
    "execution": {
     "iopub.execute_input": "2024-09-26T13:19:28.611393Z",
     "iopub.status.busy": "2024-09-26T13:19:28.610894Z",
     "iopub.status.idle": "2024-09-26T13:19:28.909515Z",
     "shell.execute_reply": "2024-09-26T13:19:28.908829Z",
     "shell.execute_reply.started": "2024-09-26T13:19:28.611350Z"
    }
   },
   "outputs": [
    {
     "data": {
      "image/png": "[encoded data removed]",
      "text/plain": [
       "<Figure size 400x400 with 1 Axes>"
      ]
     },
     "metadata": {},
     "output_type": "display_data"
    }
   ],
   "source": [
    "plot_regression_metrics(model,start = 4, n_bins = 25)"
   ]
  },
  {
   "cell_type": "code",
   "execution_count": null,
   "id": "533b465a-6b4a-4696-a014-793b8f7df079",
   "metadata": {
    "scrolled": true
   },
   "outputs": [],
   "source": [
    "plot_train_history(model, start= 0, n_bins = 25)"
   ]
  },
  {
   "cell_type": "code",
   "execution_count": null,
   "id": "85774d06-9f14-4b02-b0c6-b8c60ba92ffa",
   "metadata": {
    "scrolled": true
   },
   "outputs": [],
   "source": [
    "plot_train_history(model, start= 0, n_bins = 25)"
   ]
  },
  {
   "cell_type": "code",
   "execution_count": null,
   "id": "f6b91b33-81bd-47e8-aa8e-bda1bd4d4583",
   "metadata": {
    "scrolled": true
   },
   "outputs": [],
   "source": [
    "plot_train_history(model, start= 100, n_bins = 25)"
   ]
  },
  {
   "cell_type": "code",
   "execution_count": null,
   "id": "5d4eae70-3b13-4893-b485-f8ad87b4cd68",
   "metadata": {
    "scrolled": true
   },
   "outputs": [],
   "source": [
    "plot_train_history(model, start= 10, n_bins = 25)"
   ]
  },
  {
   "cell_type": "code",
   "execution_count": null,
   "id": "7f50fdb6-0457-4cd3-b958-65bb44e4216d",
   "metadata": {},
   "outputs": [],
   "source": [
    "plot_model_parms(model, epochs= 100, n_bins = 15)"
   ]
  },
  {
   "cell_type": "code",
   "execution_count": null,
   "id": "f992e4e5-ea68-4617-8c16-01dfc22f6b94",
   "metadata": {
    "scrolled": true
   },
   "outputs": [],
   "source": [
    "from snnl.utils import plot_regression_metrics\n",
    "# plot_train_metrics(model, n_bins = 25)\n",
    "plot_regression_metrics(model, n_bins = 25)"
   ]
  },
  {
   "cell_type": "markdown",
   "id": "75fb4184-7640-4cc5-bf19-249ebb9fc072",
   "metadata": {
    "execution": {
     "iopub.execute_input": "2024-04-01T00:58:52.961399Z",
     "iopub.status.busy": "2024-04-01T00:58:52.960920Z"
    },
    "jp-MarkdownHeadingCollapsed": true
   },
   "source": [
    "# Load model"
   ]
  },
  {
   "cell_type": "code",
   "execution_count": null,
   "id": "c914b200-c783-4477-9ca7-3370a23ec595",
   "metadata": {},
   "outputs": [],
   "source": [
    "# ex_epochs = 200\n",
    "# ex_mode = 'snnl'\n",
    "ex_runmode = 'baseline'\n",
    "ex_date = \"20240616\"\n",
    "ex_title=\"snglOpt-025Ltnt\"\n",
    "# ex_title=\"secondTry\"\n",
    "# ex_title=\"dropout04\"\n",
    "# title=\"autoencoder\"\n",
    "# title='Xentropy'"
   ]
  },
  {
   "cell_type": "code",
   "execution_count": null,
   "id": "28725c74-24ac-4b2c-b2fe-4314aaf6a77a",
   "metadata": {},
   "outputs": [],
   "source": [
    "# filename = f\"{model.name}_{ex_runmode}_{ex_date}_{ex_title}_{epochs:03d}_cpb_{ex_cpb}_factor_{ex_factor:d}.pt\"\n",
    "# file_pattern = f\"{model.name}_{ex_runmode}_{ex_date}_{ex_title}_*_cpb_{ex_cpb}_factor_{ex_factor:d}.pt\"\n",
    "filename = f\"{model.name}_{ex_runmode}_{ex_date}_{ex_title}_{epochs:03d}.pt\"\n",
    "print(filename)\n",
    "file_pattern = f\"{model.name}_{ex_runmode}_{ex_date}_{ex_title}_*.pt\"\n",
    "print(file_pattern)"
   ]
  },
  {
   "cell_type": "code",
   "execution_count": null,
   "id": "4d96660a-46a2-4d46-bcb8-a3fb2d9a74d9",
   "metadata": {},
   "outputs": [],
   "source": [
    "import glob\n",
    "filelist = glob.glob(file_pattern,root_dir = './ckpts')\n",
    "filelist = sorted(filelist)\n",
    "filelist\n",
    "epochlist =sorted([int(x[-6:-3]) for x in filelist])\n",
    "epochlist\n",
    " "
   ]
  },
  {
   "cell_type": "code",
   "execution_count": null,
   "id": "9e492e3f-f194-4759-b8a6-8a949743d022",
   "metadata": {},
   "outputs": [],
   "source": [
    "# runmode = 'snnl'\n",
    "# ex_date = '20240516'\n",
    "# ex_title = args.exp_title\n",
    "ex_epoch = 200"
   ]
  },
  {
   "cell_type": "code",
   "execution_count": null,
   "id": "a71ca7cd-8258-49ca-b2d6-16268bd34dc7",
   "metadata": {},
   "outputs": [],
   "source": [
    "filename = f\"{model.name}_{args.runmode}_{ex_date}_{ex_title}_ep_{ex_epoch:03d}\"   \n",
    "filename = filelist[-1]\n",
    "if filename[-3:] != '.pt':\n",
    "    filename+='.pt'\n",
    "print(filename)\n",
    "\n",
    "if os.path.exists(os.path.join('ckpts', filename)):\n",
    "    print(f\"\\n *** Checkpoint EXISTS *** \\n\")\n",
    "else:\n",
    "    print(f\"\\n *** Checkpoint DOESNT EXIST *** \\n\")"
   ]
  },
  {
   "cell_type": "code",
   "execution_count": null,
   "id": "2d6a57df-2a6c-4ca5-8bc0-0672d1c03901",
   "metadata": {},
   "outputs": [],
   "source": [
    "mdl , last_epoch = load_checkpoint_v2(model, filename)  \n",
    "print(f\" last epoch : {last_epoch}\")"
   ]
  },
  {
   "cell_type": "code",
   "execution_count": null,
   "id": "72568b6c-66b5-458e-8cdb-11fd70a6d161",
   "metadata": {},
   "outputs": [],
   "source": [
    "print(current_device)\n",
    "print(model.device)\n",
    "model.device = current_device\n",
    "print(model.device)"
   ]
  },
  {
   "cell_type": "code",
   "execution_count": null,
   "id": "00c841d7-6d85-438c-a7da-e8026fb4f644",
   "metadata": {},
   "outputs": [],
   "source": [
    "print(current_device)\n",
    "model.train()\n",
    "model = model.cuda(device=current_device)\n",
    "print(model.device)"
   ]
  },
  {
   "cell_type": "code",
   "execution_count": null,
   "id": "25b03053-b090-4116-898a-acbfb8add271",
   "metadata": {},
   "outputs": [],
   "source": [
    "print(f\" last epoch  {last_epoch}\")"
   ]
  },
  {
   "cell_type": "code",
   "execution_count": null,
   "id": "eb1241f9-4ad1-425f-8526-43c5cd89859c",
   "metadata": {},
   "outputs": [],
   "source": [
    "# starting_epoch = 20\n",
    "starting_epoch = last_epoch\n",
    "epochs = last_epoch + 100\n",
    "# starting_epoch = epoch + 1\n",
    "print(f\" run epochs {starting_epoch+1} to {epochs} \")"
   ]
  },
  {
   "cell_type": "code",
   "execution_count": null,
   "id": "361a2ba1-0bac-4ff8-aa08-950fe7fe2302",
   "metadata": {},
   "outputs": [],
   "source": [
    "print()\n",
    "print(f\" model device         : {model.device}\")\n",
    "print(f\" model temperature    : {model.temperature}\")\n",
    "print() \n",
    "print(f\" loss_factor          : {model.loss_factor}\")\n",
    "print(f\" monitor_grads_layer  : {model.monitor_grads_layer}\")\n",
    "print(f\" Learning rate        : {model.optimizer.param_groups[0]['lr']}\") \n",
    "print(f\" snnl_factor          : {model.snnl_factor}\")\n",
    "if model.use_snnl:\n",
    "    print(f\" temperature          : {model.temperature.item()}\")\n",
    "if model.temp_optimizer is not None:\n",
    "    print(f\" Temperature LR       : {model.temp_optimizer.param_groups[0]['lr']}\") \n",
    "print()\n",
    "\n",
    "for th_key in ['trn', 'val']:\n",
    "    for k,v in model.training_history[th_key].items():\n",
    "        if isinstance(v[-1],str):\n",
    "            print(f\" {k:20s} : {v[-1]:s}  \")\n",
    "        else:\n",
    "            print(f\" {k:20s} : {v[-1]:6f} \")\n",
    "    print()\n"
   ]
  },
  {
   "cell_type": "code",
   "execution_count": null,
   "id": "6a4b320a-e40a-47b2-886f-6130c314afb8",
   "metadata": {
    "scrolled": true
   },
   "outputs": [],
   "source": [
    "model.optimizer.__dict__\n",
    "print()"
   ]
  },
  {
   "cell_type": "code",
   "execution_count": null,
   "id": "903b5c7a-4271-4659-857d-29ee395daedc",
   "metadata": {},
   "outputs": [],
   "source": [
    "model.scheduler.__dict__"
   ]
  }
 ],
 "metadata": {
  "kernelspec": {
   "display_name": "Python [conda env:ptsnnl]",
   "language": "python",
   "name": "conda-env-ptsnnl-py"
  },
  "language_info": {
   "codemirror_mode": {
    "name": "ipython",
    "version": 3
   },
   "file_extension": ".py",
   "mimetype": "text/x-python",
   "name": "python",
   "nbconvert_exporter": "python",
   "pygments_lexer": "ipython3",
   "version": "3.11.0"
  },
  "toc": {
   "base_numbering": 1,
   "nav_menu": {},
   "number_sections": true,
   "sideBar": true,
   "skip_h1_title": false,
   "title_cell": "Table of Contents",
   "title_sidebar": "Contents",
   "toc_cell": false,
   "toc_position": {},
   "toc_section_display": true,
   "toc_window_display": false
  }
 },
 "nbformat": 4,
 "nbformat_minor": 5
}
