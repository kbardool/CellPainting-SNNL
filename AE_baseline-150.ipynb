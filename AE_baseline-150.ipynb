{
 "cells": [
  {
   "cell_type": "markdown",
   "id": "ca813a76-47b7-458b-a3d2-1e4f49079a08",
   "metadata": {},
   "source": [
    "  # Autoencoder - Baseline mode - Copy 2"
   ]
  },
  {
   "cell_type": "markdown",
   "id": "41638752-2456-4f2e-9e7e-e4039fe926a2",
   "metadata": {},
   "source": [
    "# Setup"
   ]
  },
  {
   "cell_type": "code",
   "execution_count": 1,
   "id": "11ad0ae2",
   "metadata": {
    "ExecuteTime": {
     "end_time": "2023-04-12T10:29:15.566596Z",
     "start_time": "2023-04-12T10:29:15.550232Z"
    },
    "execution": {
     "iopub.execute_input": "2024-06-12T07:46:29.080871Z",
     "iopub.status.busy": "2024-06-12T07:46:29.080382Z",
     "iopub.status.idle": "2024-06-12T07:46:29.114264Z",
     "shell.execute_reply": "2024-06-12T07:46:29.113643Z",
     "shell.execute_reply.started": "2024-06-12T07:46:29.080825Z"
    }
   },
   "outputs": [
    {
     "data": {
      "text/html": [
       "<style>.container { width:98% !important; }</style>"
      ],
      "text/plain": [
       "<IPython.core.display.HTML object>"
      ]
     },
     "metadata": {},
     "output_type": "display_data"
    }
   ],
   "source": [
    "from IPython.display import display, HTML\n",
    "display(HTML(\"<style>.container { width:98% !important; }</style>\"))\n",
    "%load_ext autoreload  \n",
    "%autoreload 2\n",
    "from IPython.core.interactiveshell import InteractiveShell\n",
    "InteractiveShell.ast_node_interactivity = \"all\""
   ]
  },
  {
   "cell_type": "code",
   "execution_count": 2,
   "id": "9ba59711",
   "metadata": {
    "ExecuteTime": {
     "end_time": "2023-04-12T10:29:16.111588Z",
     "start_time": "2023-04-12T10:29:15.764305Z"
    },
    "execution": {
     "iopub.execute_input": "2024-06-12T07:46:30.340748Z",
     "iopub.status.busy": "2024-06-12T07:46:30.340334Z",
     "iopub.status.idle": "2024-06-12T07:46:33.787958Z",
     "shell.execute_reply": "2024-06-12T07:46:33.787282Z",
     "shell.execute_reply.started": "2024-06-12T07:46:30.340708Z"
    }
   },
   "outputs": [
    {
     "name": "stdout",
     "output_type": "stream",
     "text": [
      "insert ./src\n",
      "insert ../..\n",
      "['../..', './src', '/home/kevin/miniforge3/envs/ptsnnl/lib/python311.zip', '/home/kevin/miniforge3/envs/ptsnnl/lib/python3.11', '/home/kevin/miniforge3/envs/ptsnnl/lib/python3.11/lib-dynload', '', '/home/kevin/miniforge3/envs/ptsnnl/lib/python3.11/site-packages']\n",
      "2.2.1+cu118\n",
      "Timestamp:  2024_06_12_09:46:33\n"
     ]
    }
   ],
   "source": [
    "import os\n",
    "import sys\n",
    "import csv\n",
    "import json\n",
    "import time\n",
    "import types, copy, pprint\n",
    "import logging \n",
    "from datetime import datetime\n",
    "for p in ['./src','../..']:\n",
    "    if p not in sys.path:\n",
    "        print(f\"insert {p}\")\n",
    "        sys.path.insert(0, p)\n",
    "print(sys.path)\n",
    "import shutil\n",
    "import getpass\n",
    "import yaml\n",
    "\n",
    "from matplotlib import pyplot as plt\n",
    "from typing import Dict, List, Tuple\n",
    "from scipy.sparse import csr_matrix\n",
    "from tqdm import tqdm\n",
    "\n",
    "import numpy as np\n",
    "import pandas as pd\n",
    "\n",
    "import torch\n",
    "import torch.nn.functional as F\n",
    "from torchinfo import summary\n",
    "\n",
    "torch.set_printoptions(precision=None, threshold=None, edgeitems=None, linewidth=150, profile=None, sci_mode=None)\n",
    "print(torch.__version__)\n",
    "\n",
    "pp = pprint.PrettyPrinter(indent=4)\n",
    "pd.options.display.width = 132\n",
    "torch.set_printoptions(precision=None, threshold=None, edgeitems=None, linewidth=150, profile=None, sci_mode=None)\n",
    "np.set_printoptions(edgeitems=3, infstr='inf', linewidth=150, nanstr='nan')\n",
    "\n",
    "WANDB_ACTIVE = False\n",
    "\n",
    "os.environ[\"WANDB_NOTEBOOK_NAME\"] = \"Autoencoder_dev.ipynb\"\n",
    "# os.environ[\"CUDA_LAUNCH_BLOCKING\"] = \"1\"\n",
    "# os.environ[\"CUDA_VISIBLE_DEVICES\"] = \"1\"\n",
    "import wandb\n",
    "from KevinsRoutines.utils.utils_wandb  import  init_wandb, wandb_log_metrics,wandb_watch\n",
    "from KevinsRoutines.utils.utils_general  import  list_namespace \n",
    "\n",
    "timestamp = datetime.now().strftime('%Y_%m_%d_%H:%M:%S')\n",
    "print('Timestamp: ',timestamp)"
   ]
  },
  {
   "cell_type": "code",
   "execution_count": 3,
   "id": "9c3ba93c-cf59-4e11-9229-53a2fe3b3dde",
   "metadata": {
    "execution": {
     "iopub.execute_input": "2024-06-12T07:46:33.789774Z",
     "iopub.status.busy": "2024-06-12T07:46:33.789409Z",
     "iopub.status.idle": "2024-06-12T07:46:35.255373Z",
     "shell.execute_reply": "2024-06-12T07:46:35.254470Z",
     "shell.execute_reply.started": "2024-06-12T07:46:33.789751Z"
    }
   },
   "outputs": [
    {
     "data": {
      "text/plain": [
       "'Sample module for using DNN classifier with SNNL'"
      ]
     },
     "execution_count": 3,
     "metadata": {},
     "output_type": "execute_result"
    }
   ],
   "source": [
    "# Soft Nearest Neighbor Loss\n",
    "# Copyright (C) 2020  Abien Fred Agarap\n",
    "__author__ = \"Abien Fred Agarap\"\n",
    "__version__ = \"1.0.0\"\n",
    "\"\"\"Sample module for using DNN classifier with SNNL\"\"\"\n",
    "\n",
    "from snnl.utils import parse_args, get_hyperparameters, set_global_seed, get_device, set_device\n",
    "from snnl.utils import load_model, save_model, import_results, export_results, save_checkpoint, load_checkpoint \n",
    "from snnl.utils import plot_model_parms, plot_train_history, plot_classification_metrics, plot_regression_metrics\n",
    "from snnl.utils import display_epoch_metrics, display_cellpainting_batch\n",
    "from snnl.utils import CellpaintingDataset, InfiniteDataLoader, custom_collate_fn\n",
    "from snnl.utils import display_model_summary, define_autoencoder_model\n",
    "from snnl.utils import save_checkpoint_v2, load_checkpoint_v2\n",
    "\n",
    "from snnl.models import Model\n",
    "from snnl.models import DNN \n",
    "from snnl.models import Autoencoder\n",
    "from snnl.losses import SNNLoss"
   ]
  },
  {
   "cell_type": "code",
   "execution_count": 4,
   "id": "d855b17f-b7f5-4fed-9146-c4c06154ffff",
   "metadata": {
    "execution": {
     "iopub.execute_input": "2024-06-12T07:47:20.821951Z",
     "iopub.status.busy": "2024-06-12T07:47:20.821205Z",
     "iopub.status.idle": "2024-06-12T07:47:21.528991Z",
     "shell.execute_reply": "2024-06-12T07:47:21.528357Z",
     "shell.execute_reply.started": "2024-06-12T07:47:20.821902Z"
    }
   },
   "outputs": [
    {
     "name": "stdout",
     "output_type": "stream",
     "text": [
      " device: 0   Quadro GV100                   :  free: 25,523,978,240 B   (23.77 GB)    total: 34,069,872,640 B   (31.73 GB)\n",
      " device: 1   Quadro GV100                   :  free: 33,140,834,304 B   (30.86 GB)    total: 34,069,872,640 B   (31.73 GB)\n",
      " device: 2   NVIDIA TITAN Xp                :  free: 10,975,051,776 B   (10.22 GB)    total: 12,774,539,264 B   (11.90 GB)\n",
      " Current CUDA Device is: cuda:0 Quadro GV100 0\n",
      " Running on: Quadro GV100 0\n",
      " Switch to cuda:0 \n",
      " Running on: Quadro GV100 0\n"
     ]
    }
   ],
   "source": [
    "current_device = get_device()\n",
    "# print(f\"Current device is : {current_device}\")\n",
    "\n",
    "current_device = set_device(0)"
   ]
  },
  {
   "cell_type": "markdown",
   "id": "1be5e789-3446-482f-a3ca-fdd19b2a845e",
   "metadata": {},
   "source": [
    "### main(args)"
   ]
  },
  {
   "cell_type": "code",
   "execution_count": 5,
   "id": "8a540f64-c33b-4ced-bf1d-77f7de1785d4",
   "metadata": {
    "execution": {
     "iopub.execute_input": "2024-06-12T07:47:28.055374Z",
     "iopub.status.busy": "2024-06-12T07:47:28.054879Z",
     "iopub.status.idle": "2024-06-12T07:47:28.110891Z",
     "shell.execute_reply": "2024-06-12T07:47:28.110208Z",
     "shell.execute_reply.started": "2024-06-12T07:47:28.055331Z"
    }
   },
   "outputs": [
    {
     "data": {
      "text/plain": [
       "Namespace(seed=1234, runmode='baseline', configuration='hyperparameters/autoencoder_cellpainting-150.yaml')"
      ]
     },
     "execution_count": 5,
     "metadata": {},
     "output_type": "execute_result"
    }
   ],
   "source": [
    "# if __name__ == \"__main__\":\n",
    "input_args = f\" --seed               1234 \" \\\n",
    "             f\" --runmode            baseline\" \\\n",
    "             f\" --configuration      hyperparameters/autoencoder_cellpainting-150.yaml\"\n",
    "             # f\" --runmode            snnl\" \\\n",
    "             # f\" --configuration    hyperparameters/dnn_mnist.json\"\n",
    "args = parse_args(input_args.split())\n",
    "args\n",
    "\n",
    "with open(args.configuration) as f:\n",
    "    args = types.SimpleNamespace(**yaml.safe_load(f), **(vars(args)))\n",
    "args.batch_size = args.cellpainting_args['batch_size']\n",
    "args.compounds_per_batch = args.cellpainting_args['compounds_per_batch']\n",
    "set_global_seed(args.seed)\n"
   ]
  },
  {
   "cell_type": "markdown",
   "id": "7e2871b9-ea54-4869-9fa3-5ade2e1416cd",
   "metadata": {},
   "source": [
    "## Define dataset and dataloaders"
   ]
  },
  {
   "cell_type": "code",
   "execution_count": 6,
   "id": "e85d6a4d-1603-43ab-b4ff-9c12ae228c51",
   "metadata": {
    "execution": {
     "iopub.execute_input": "2024-06-12T07:47:30.644933Z",
     "iopub.status.busy": "2024-06-12T07:47:30.644449Z",
     "iopub.status.idle": "2024-06-12T07:47:30.693737Z",
     "shell.execute_reply": "2024-06-12T07:47:30.693069Z",
     "shell.execute_reply.started": "2024-06-12T07:47:30.644889Z"
    }
   },
   "outputs": [
    {
     "name": "stdout",
     "output_type": "stream",
     "text": [
      " - Each mini-batch contains 100.0 compounds with 3 samples per each compound : total 300 rows\n",
      " - Number of 300 row full size batches per epoch: 800\n",
      " - Rows covered by 800 full size batches (300 rows) per epoch:  240000\n",
      " - Last partial batch contains : 0 rows\n",
      "\n",
      " - Each mini-batch contains 100.0 compounds with 3 samples per each compound : total 300 rows\n",
      " - Number of 300 row full size batches per epoch: 80\n",
      " - Rows covered by 80 full size batches (300 rows) per epoch:  24000\n",
      " - Last partial batch contains : 0 rows\n",
      "\n"
     ]
    }
   ],
   "source": [
    "trn_file_sz = args.cellpainting_args['train_end'] - args.cellpainting_args['train_start']\n",
    "val_file_sz = args.cellpainting_args['val_end'] - args.cellpainting_args['val_start']\n",
    "smp_sz = args.cellpainting_args['sample_size']\n",
    "buf_sz = args.cellpainting_args['compounds_per_batch']\n",
    "bth_sz = args.cellpainting_args['batch_size']\n",
    "recs_per_batch = smp_sz * bth_sz * buf_sz\n",
    "\n",
    "for file_sz in [trn_file_sz, val_file_sz]:\n",
    "    bth_per_epoch = file_sz // recs_per_batch\n",
    "    print(f\" - Each mini-batch contains {recs_per_batch/smp_sz} compounds with {smp_sz} samples per each compound : total {recs_per_batch} rows\")\n",
    "    print(f\" - Number of {recs_per_batch} row full size batches per epoch: {bth_per_epoch}\")\n",
    "    print(f\" - Rows covered by {bth_per_epoch} full size batches ({recs_per_batch} rows) per epoch:  {(file_sz // recs_per_batch) * recs_per_batch}\")\n",
    "    print(f\" - Last partial batch contains : {file_sz % recs_per_batch} rows\")\n",
    "    print() "
   ]
  },
  {
   "cell_type": "code",
   "execution_count": 7,
   "id": "5dd597f5-f212-4261-b8a9-cd9cf558cb68",
   "metadata": {
    "execution": {
     "iopub.execute_input": "2024-06-12T07:47:31.653476Z",
     "iopub.status.busy": "2024-06-12T07:47:31.653127Z",
     "iopub.status.idle": "2024-06-12T07:47:31.697082Z",
     "shell.execute_reply": "2024-06-12T07:47:31.696255Z",
     "shell.execute_reply.started": "2024-06-12T07:47:31.653441Z"
    }
   },
   "outputs": [
    {
     "name": "stdout",
     "output_type": "stream",
     "text": [
      " load cellpainting\n",
      " Building CellPantingDataset from NOTEBOOK\n",
      "    _init()_    -- filename:          /home/kevin/WSL-shared/Cellpainting/cj-datasets/output_11102023/3_sample_profiles/3sample_profiles_1482_HashOrder.csv\n",
      "    _init()_    -- type :             train\n",
      "    _init()_    -- start :            0\n",
      "    _init()_    -- end :              240000\n",
      "    _init()_    -- numrows :          240000\n",
      " Building CellPantingDataset from NOTEBOOK\n",
      "    _init()_    -- filename:          /home/kevin/WSL-shared/Cellpainting/cj-datasets/output_11102023/3_sample_profiles/3sample_profiles_1482_HashOrder_test.csv\n",
      "    _init()_    -- type :             val\n",
      "    _init()_    -- start :            0\n",
      "    _init()_    -- end :              24000\n",
      "    _init()_    -- numrows :          24000\n"
     ]
    }
   ],
   "source": [
    "#### Load CellPainting Dataset\n",
    "if args.dataset == 'cellpainting':\n",
    "    print(f\" load {args.dataset}\")\n",
    "    train_dataset = CellpaintingDataset(type='train',    **args.cellpainting_args)\n",
    "    train_loader = InfiniteDataLoader(dataset=train_dataset, batch_size = args.batch_size, shuffle = False, num_workers = 0, collate_fn = custom_collate_fn)\n",
    "    val_dataset = CellpaintingDataset(type='val',    **args.cellpainting_args)\n",
    "    val_loader = InfiniteDataLoader(dataset=val_dataset, batch_size = args.batch_size, shuffle = False, num_workers = 0, collate_fn = custom_collate_fn)\n",
    "\n",
    "# for idx, batch in enumerate(train_loader):\n",
    "#     print(f\"{idx:4d}, {batch[0].shape}, {batch[1].shape},{batch[2].shape},{batch[3].shape},{batch[4].shape}, {batch[3][:3]}, {batch[3][-3:]}\")\n",
    "#     display_cellpainting_batch(idx, batch)\n",
    "#     if idx >= 0:\n",
    "#         break"
   ]
  },
  {
   "cell_type": "code",
   "execution_count": 8,
   "id": "11cc9586-9501-46d6-ba49-0f549ee53978",
   "metadata": {
    "execution": {
     "iopub.execute_input": "2024-06-12T07:47:32.411827Z",
     "iopub.status.busy": "2024-06-12T07:47:32.411352Z",
     "iopub.status.idle": "2024-06-12T07:47:32.454030Z",
     "shell.execute_reply": "2024-06-12T07:47:32.453482Z",
     "shell.execute_reply.started": "2024-06-12T07:47:32.411785Z"
    }
   },
   "outputs": [
    {
     "name": "stdout",
     "output_type": "stream",
     "text": [
      " Experiment name AE_0612_0947 - description: Autoencoder Training in Baseline mode - Single Optimizer, 150 dim latent layer - snglOpt-150Ltnt\n"
     ]
    }
   ],
   "source": [
    "# args.project_name = 'CellPainting_Profiles'\n",
    "# args.exp_title = 'snglOpt-150Ltnt_512'\n",
    "# args.exp_desc = 'Autoencoder Training in Baseline mode - SnglOpt, 150 dim latent, 512 Midlayer'\n",
    "\n",
    "args.exp_id   = None\n",
    "args.exp_name = 'AE_'+datetime.now().strftime('%m%d_%H%M')\n",
    "args.exp_date = datetime.now().strftime('%Y%m%d')\n",
    "\n",
    "## --- for restarts\n",
    "# args.exp_id   = '0g8w13h6'\n",
    "# args.exp_name = 'AE_0516_1104'\n",
    "# args.exp_date = '20240516'\n",
    "##-----------------\n",
    "print(f\" Experiment name {args.exp_name} - description: {args.exp_desc}\")"
   ]
  },
  {
   "cell_type": "code",
   "execution_count": 9,
   "id": "25af0a4c-8ff7-4196-be19-7b7a67285f03",
   "metadata": {
    "execution": {
     "iopub.execute_input": "2024-06-12T07:47:35.087217Z",
     "iopub.status.busy": "2024-06-12T07:47:35.086739Z",
     "iopub.status.idle": "2024-06-12T07:47:35.129218Z",
     "shell.execute_reply": "2024-06-12T07:47:35.128436Z",
     "shell.execute_reply.started": "2024-06-12T07:47:35.087174Z"
    }
   },
   "outputs": [],
   "source": [
    "if WANDB_ACTIVE:\n",
    "    wandb_run = init_wandb(args)\n",
    "\n",
    "    args.exp_id = wandb_run.id\n",
    "    print(f\" run id is : {args.exp_id}\")"
   ]
  },
  {
   "cell_type": "markdown",
   "id": "19b32e21-67d2-45af-a45f-841b6dca43ff",
   "metadata": {},
   "source": [
    "# Define autoencoder model"
   ]
  },
  {
   "cell_type": "markdown",
   "id": "cf383487-ecbf-49da-bb01-5a5f22932278",
   "metadata": {},
   "source": [
    "## Override arguments"
   ]
  },
  {
   "cell_type": "code",
   "execution_count": 10,
   "id": "2fdc1998-5141-40c0-82d8-b505d4f19ecd",
   "metadata": {
    "execution": {
     "iopub.execute_input": "2024-06-12T07:47:39.214910Z",
     "iopub.status.busy": "2024-06-12T07:47:39.214323Z",
     "iopub.status.idle": "2024-06-12T07:47:39.259033Z",
     "shell.execute_reply": "2024-06-12T07:47:39.258432Z",
     "shell.execute_reply.started": "2024-06-12T07:47:39.214867Z"
    }
   },
   "outputs": [
    {
     "name": "stdout",
     "output_type": "stream",
     "text": [
      "   Latent dim        150\n",
      "   loss_factor       1.0\n",
      "   snnl_factor       0.0\n",
      "   temperature       0.0\n",
      "   learning_rate     0.001\n",
      "   temperatureLR:    0.0\n"
     ]
    },
    {
     "data": {
      "text/plain": [
       "float"
      ]
     },
     "execution_count": 10,
     "metadata": {},
     "output_type": "execute_result"
    }
   ],
   "source": [
    "args.show_every = 1\n",
    "args.save_every = 25\n",
    "args.temperature   = 0.0\n",
    "args.loss_factor   = 1.0        ## 2.0e+00\n",
    "args.snnl_factor   = 0.0       ## 1.0e+00\n",
    "args.learning_rate = 1.0e-03    ## 0.001\n",
    "args.temperatureLR = 0.0e-04    ## 1e-4\n",
    "print(f\"   Latent dim        {args.code_units}\")\n",
    "print(f\"   loss_factor       {args.loss_factor}\")\n",
    "print(f\"   snnl_factor       {args.snnl_factor}\")\n",
    "print(f\"   temperature       {args.temperature}\")\n",
    "print(f\"   learning_rate     {args.learning_rate}\")\n",
    "print(f\"   temperatureLR:    {args.temperatureLR}\")\n",
    "type(args.learning_rate)"
   ]
  },
  {
   "cell_type": "code",
   "execution_count": 11,
   "id": "acb11365-5fa8-4a94-ba70-bfe9bc16df18",
   "metadata": {
    "execution": {
     "iopub.execute_input": "2024-06-12T07:47:40.716783Z",
     "iopub.status.busy": "2024-06-12T07:47:40.716359Z",
     "iopub.status.idle": "2024-06-12T07:47:40.758770Z",
     "shell.execute_reply": "2024-06-12T07:47:40.758193Z",
     "shell.execute_reply.started": "2024-06-12T07:47:40.716741Z"
    },
    "scrolled": true
   },
   "outputs": [
    {
     "name": "stdout",
     "output_type": "stream",
     "text": [
      "\n",
      "command line parms : \n",
      "-----------------------\n",
      "SGD_weight_decay.........  0\n",
      "activations..............  ['relu', 'relu', 'sigmoid', 'relu', 'relu', 'relu']\n",
      "adam_weight_decay........  0\n",
      "batch_size...............  1\n",
      "\n",
      "    cellpainting_args   (dict)\n",
      "    ----------------------------\n",
      "    batch_size...............  1\n",
      "    chunksize................  None\n",
      "    compounds_per_batch......  100\n",
      "    conversions..............  None\n",
      "    iterator.................  True\n",
      "    sample_size..............  3\n",
      "    test_end.................  33600\n",
      "    test_path................  /home/kevin/WSL-shared/Cellpainting/cj-datasets/output_11102023/3_sample_profiles/3sample_profiles_1482_HashOrder_test.csv\n",
      "    test_start...............  30000\n",
      "    train_end................  240000\n",
      "    train_start..............  0\n",
      "    training_path............  /home/kevin/WSL-shared/Cellpainting/cj-datasets/output_11102023/3_sample_profiles/3sample_profiles_1482_HashOrder.csv\n",
      "    val_end..................  24000\n",
      "    val_start................  0\n",
      "    validation_path..........  /home/kevin/WSL-shared/Cellpainting/cj-datasets/output_11102023/3_sample_profiles/3sample_profiles_1482_HashOrder_test.csv\n",
      "\n",
      "code_units...............  150\n",
      "compounds_per_batch......  100\n",
      "config...................  None\n",
      "configuration............  hyperparameters/autoencoder_cellpainting-150.yaml\n",
      "cpu......................  None\n",
      "dataset..................  cellpainting\n",
      "exp_date.................  20240612\n",
      "exp_desc.................  Autoencoder Training in Baseline mode - Single Optimizer, 150 dim latent layer - snglOpt-150Ltnt\n",
      "exp_description..........  brief description\n",
      "exp_folder...............  None\n",
      "exp_id...................  None\n",
      "exp_name.................  AE_0612_0947\n",
      "exp_name_pfx.............  None\n",
      "exp_title................  snglOpt-150Ltnt\n",
      "folder_sfx...............  None\n",
      "gpu_ids..................  None\n",
      "input_shape..............  1471\n",
      "learning_rate............  0.001\n",
      "loss_factor..............  1.0\n",
      "\n",
      "    paths   (dict)\n",
      "    ----------------\n",
      "    checkpoint_dir...........  ./ckpt\n",
      "    log_dir..................  ./logs\n",
      "    result_dir...............  ./results\n",
      "\n",
      "project_name.............  CellPainting_Profiles\n",
      "random_seed..............  1234\n",
      "runmode..................  baseline\n",
      "save_every...............  25\n",
      "seed.....................  1234\n",
      "seed_list................  None\n",
      "show_every...............  1\n",
      "snnl_factor..............  0.0\n",
      "temperature..............  0.0\n",
      "temperatureLR............  0.0\n",
      "units....................  [['linear', 1471, 1024], ['relu', 0, 0], ['linear', 1024, 128], ['relu', 0, 0], ['linear', 128, 150], ['linear', 150, 128], ['relu', 0, 0], ['linear', 128, 1024], ['relu', 0, 0], ['linear', 1024, 1471]]\n",
      "\n"
     ]
    }
   ],
   "source": [
    "list_namespace(args)"
   ]
  },
  {
   "cell_type": "markdown",
   "id": "69b97558-4c5d-4a2d-9d1f-78d8923b1eb7",
   "metadata": {},
   "source": [
    "## Define Model"
   ]
  },
  {
   "cell_type": "code",
   "execution_count": 12,
   "id": "5c4a4bba-76ef-4fa9-9ea5-ba3c55aecfe9",
   "metadata": {
    "execution": {
     "iopub.execute_input": "2024-06-12T07:48:02.188264Z",
     "iopub.status.busy": "2024-06-12T07:48:02.187879Z",
     "iopub.status.idle": "2024-06-12T07:48:02.379280Z",
     "shell.execute_reply": "2024-06-12T07:48:02.378637Z",
     "shell.execute_reply.started": "2024-06-12T07:48:02.188230Z"
    }
   },
   "outputs": [
    {
     "name": "stdout",
     "output_type": "stream",
     "text": [
      "Defining model in baseline mode\n",
      "    Model_init()_    -- AE - support for unsupervised in autoencoding mode is True\n",
      "    layer pair:    0  type:linear           input:   1471  output:   1024    weights: [1024, 1471]   \n",
      "    layer pair:    1  type:relu             input:      0  output:      0    weights: [0, 0]   \n",
      "    layer pair:    2  type:linear           input:   1024  output:    128    weights: [128, 1024]   \n",
      "    layer pair:    3  type:relu             input:      0  output:      0    weights: [0, 0]   \n",
      "    layer pair:    4  type:linear           input:    128  output:    150    weights: [150, 128]   \n",
      "    layer pair:    5  type:linear           input:    150  output:    128    weights: [128, 150]   \n",
      "    layer pair:    6  type:relu             input:      0  output:      0    weights: [0, 0]   \n",
      "    layer pair:    7  type:linear           input:    128  output:   1024    weights: [1024, 128]   \n",
      "    layer pair:    8  type:relu             input:      0  output:      0    weights: [0, 0]   \n",
      "    layer pair:    9  type:linear           input:   1024  output:   1471    weights: [1471, 1024]   \n"
     ]
    },
    {
     "name": "stderr",
     "output_type": "stream",
     "text": [
      "/home/kevin/miniforge3/envs/ptsnnl/lib/python3.11/site-packages/torch/optim/lr_scheduler.py:28: UserWarning: The verbose parameter is deprecated. Please use get_last_lr() to access the learning rate.\n",
      "  warnings.warn(\"The verbose parameter is deprecated. Please use get_last_lr() \"\n"
     ]
    },
    {
     "data": {
      "text/plain": [
       "'cuda:0'"
      ]
     },
     "execution_count": 12,
     "metadata": {},
     "output_type": "execute_result"
    }
   ],
   "source": [
    "model = define_autoencoder_model(args, embedding_layer = 4, device = current_device)\n",
    "model.device"
   ]
  },
  {
   "cell_type": "code",
   "execution_count": 13,
   "id": "458f30c7-e49a-49df-83e9-19aa3eda5e1b",
   "metadata": {
    "execution": {
     "iopub.execute_input": "2024-06-12T07:48:06.038258Z",
     "iopub.status.busy": "2024-06-12T07:48:06.037786Z",
     "iopub.status.idle": "2024-06-12T07:48:06.080170Z",
     "shell.execute_reply": "2024-06-12T07:48:06.079550Z",
     "shell.execute_reply.started": "2024-06-12T07:48:06.038219Z"
    },
    "scrolled": true
   },
   "outputs": [],
   "source": [
    "# if args.runmode.lower() == \"baseline\":\n",
    "#         mode = \"autoencoding\",\n",
    "#         criterion   = torch.nn.MSELoss(reduction='mean'),\n",
    "#         adam_weight_decay = 0,\n",
    "#         use_scheduler = True,\n",
    "#         use_snnl = False,\n",
    "#         snnl_factor= 0.0,\n",
    "#         use_temp_scheduler = False\n",
    "\n",
    "# elif args.runmode.lower() == \"snnl\":\n",
    "#         mode=\"latent_code\",\n",
    "#         criterion = torch.nn.MSELoss(reduction='mean'),\n",
    "#         adam_weight_decay = 0,\n",
    "#         use_scheduler = True,\n",
    "#         use_snnl=True,\n",
    "#         snnl_factor=args.snnl_factor,\n",
    "#         temperature=args.temperature,\n",
    "#         temperatureLR=args.temperatureLR,\n",
    "#         use_annealing= False,        \n",
    "#         use_sum = False,\n",
    "#         SGD_weight_decay= 0,\n",
    "#         use_temp_scheduler = False\n"
   ]
  },
  {
   "cell_type": "code",
   "execution_count": 14,
   "id": "a980870b-38de-4608-af68-56cba1468eab",
   "metadata": {
    "execution": {
     "iopub.execute_input": "2024-06-05T09:28:48.135640Z",
     "iopub.status.busy": "2024-06-05T09:28:48.135102Z",
     "iopub.status.idle": "2024-06-05T09:28:48.176197Z",
     "shell.execute_reply": "2024-06-05T09:28:48.175591Z",
     "shell.execute_reply.started": "2024-06-05T09:28:48.135599Z"
    },
    "scrolled": true
   },
   "outputs": [],
   "source": [
    "if WANDB_ACTIVE:\n",
    "    wandb_watch(item = model, criterion=None, log = 'all', log_freq = 1000, log_graph = True)"
   ]
  },
  {
   "cell_type": "markdown",
   "id": "94aeaa82-14c5-465c-ae6e-bb792ba8a973",
   "metadata": {},
   "source": [
    "# Autoencoder `fit(data_loader = train_loader, epochs = epochs)` "
   ]
  },
  {
   "cell_type": "code",
   "execution_count": 15,
   "id": "716a0094-cc80-42fb-9d29-9a08861f911b",
   "metadata": {
    "execution": {
     "iopub.execute_input": "2024-06-05T09:28:51.677242Z",
     "iopub.status.busy": "2024-06-05T09:28:51.676737Z",
     "iopub.status.idle": "2024-06-05T09:28:51.719511Z",
     "shell.execute_reply": "2024-06-05T09:28:51.718801Z",
     "shell.execute_reply.started": "2024-06-05T09:28:51.677202Z"
    }
   },
   "outputs": [],
   "source": [
    "# epoch = -1\n",
    "# filename = f\"{model.name}_{args.runmode}_{args.exp_date}_{args.exp_title}_ep_{epoch+1:03d}\"\n",
    "# print(filename)\n",
    "# save_checkpoint_v2(epoch, model, filename) "
   ]
  },
  {
   "cell_type": "code",
   "execution_count": 34,
   "id": "c75918dd-1b7a-4d96-8539-16b035528ec7",
   "metadata": {
    "execution": {
     "iopub.execute_input": "2024-06-12T07:52:17.017872Z",
     "iopub.status.busy": "2024-06-12T07:52:17.017395Z",
     "iopub.status.idle": "2024-06-12T07:52:17.059693Z",
     "shell.execute_reply": "2024-06-12T07:52:17.059023Z",
     "shell.execute_reply.started": "2024-06-12T07:52:17.017830Z"
    }
   },
   "outputs": [
    {
     "name": "stdout",
     "output_type": "stream",
     "text": [
      " run epochs 301 to 400 \n"
     ]
    }
   ],
   "source": [
    "# starting_epoch, epochs = 0, 25\n",
    "# starting_epoch, epochs\n",
    "\n",
    "print(f\" run epochs {starting_epoch+1} to {epochs} \")"
   ]
  },
  {
   "cell_type": "code",
   "execution_count": 35,
   "id": "3da121c7-2e3f-4ba9-83db-5b7ffcb72f9f",
   "metadata": {
    "execution": {
     "iopub.execute_input": "2024-06-12T07:52:20.537938Z",
     "iopub.status.busy": "2024-06-12T07:52:20.537471Z",
     "iopub.status.idle": "2024-06-12T07:52:20.581764Z",
     "shell.execute_reply": "2024-06-12T07:52:20.581242Z",
     "shell.execute_reply.started": "2024-06-12T07:52:20.537898Z"
    }
   },
   "outputs": [
    {
     "name": "stdout",
     "output_type": "stream",
     "text": [
      "\n",
      " loss_factor         : 1.0\n",
      " monitor_grads_layer : None\n",
      " Learning rate       : 0.001\n",
      " Learning rate       : 0.0005\n",
      " Use Scheduler       : True\n",
      "\n",
      " Use snnl            : False\n",
      " snnl_factor         : 0.0\n",
      " run epochs 301 to 400 \n"
     ]
    }
   ],
   "source": [
    "# snnl_factor = 10.0\n",
    "# print(f\" loss_factor         : {model.loss_factor}\")\n",
    "# print(f\" snnl_factor         : {model.snnl_factor}\")\n",
    "# print(f\" model.monitor_grads_layer: {model.monitor_grads_layer}\")\n",
    "# print(f\" model.temperature : {model.temperature}\")\n",
    "# print(f\" Learning rate     : {model.optimizer.param_groups[0]['lr']}\") \n",
    "# print(f\" Temperature LR    : {model.temperatureLR}\") \n",
    "# model.temperature = 40.0\n",
    "# model.snnl_factor = 0.5\n",
    "# model.loss_factor = 0.1\n",
    "# model.temperatureLR = 1e-4\n",
    "# model.optimizer.param_groups[0]['lr'] = 0.001\n",
    "# model.temp_optimizer.param_groups[0]['lr'] = 0.000005\n",
    "# model.monitor_grads_layer = -2\n",
    "print()\n",
    "print(f\" loss_factor         : {model.loss_factor}\")\n",
    "print(f\" monitor_grads_layer : {model.monitor_grads_layer}\")\n",
    "# print(f\" Learning rate       : {model.optimizer.param_groups[0]['lr']}\") \n",
    "print(f\" Learning rate       : {args.learning_rate}\") \n",
    "print(f\" Learning rate       : {model.optimizer.param_groups[0]['lr']}\") \n",
    "print(f\" Use Scheduler       : {model.use_scheduler}\") \n",
    "print()\n",
    "print(f\" Use snnl            : {model.use_snnl}\") \n",
    "print(f\" snnl_factor         : {model.snnl_factor}\")\n",
    "if model.use_snnl:\n",
    "    print(f\" temperature         : {model.temperature.item()}\")\n",
    "    print(f\" Temperature LR      : {model.optimizer.param_groups[1]['lr']}\") \n",
    "    # print(f\" Temperature LR      : {model.temp_optimizer.param_groups[0]['lr']}\") \n",
    "    print(f\" Use Temp Scheduler  : {model.use_temp_scheduler}\") \n",
    "    print(f\" Temp Scheduler      : {model.temp_scheduler}\") \n",
    "print(f\" run epochs {starting_epoch+1} to {epochs} \")\n",
    "# wandb.config.update(args)"
   ]
  },
  {
   "cell_type": "code",
   "execution_count": null,
   "id": "5d979f75-0782-428f-844d-8231f46546d3",
   "metadata": {
    "execution": {
     "iopub.execute_input": "2024-06-12T07:52:28.360533Z",
     "iopub.status.busy": "2024-06-12T07:52:28.360059Z"
    },
    "scrolled": true
   },
   "outputs": [
    {
     "name": "stdout",
     "output_type": "stream",
     "text": [
      "20240612_095228  epoch  301 of  400\n",
      "                     |   Trn_loss    PrimLoss      SNNL   |    temp*        grad     |   R2                     |   Vld_loss    PrimLoss      SNNL   |   R2                     |    LR       temp LR   |\n",
      "---------------------+------------------------------------+--------------------------+--------------------------+------------------------------------+--------------------------|-----------------------|\n",
      "09:54:32 ep 301 /400 |   0.239583    0.239583    0.000000 |   0.000000    0.0000e+00 |   0.6079                 |   0.279919    0.279919    0.000000 |   0.5404                 |   0.000500   0.000000 |\n",
      "09:56:35 ep 302 /400 |   0.239790    0.239790    0.000000 |   0.000000    0.0000e+00 |   0.6127                 |   0.279446    0.279446    0.000000 |   0.5431                 |   0.000500   0.000000 |\n",
      "09:58:39 ep 303 /400 |   0.239667    0.239667    0.000000 |   0.000000    0.0000e+00 |   0.6174                 |   0.280098    0.280098    0.000000 |   0.5240                 |   0.000500   0.000000 |\n",
      "10:00:44 ep 304 /400 |   0.239608    0.239608    0.000000 |   0.000000    0.0000e+00 |   0.6062                 |   0.279935    0.279935    0.000000 |   0.5431                 |   0.000500   0.000000 |\n",
      "10:02:48 ep 305 /400 |   0.239155    0.239155    0.000000 |   0.000000    0.0000e+00 |   0.6144                 |   0.279691    0.279691    0.000000 |   0.5479                 |   0.000500   0.000000 |\n",
      "10:04:53 ep 306 /400 |   0.238972    0.238972    0.000000 |   0.000000    0.0000e+00 |   0.6122                 |   0.280107    0.280107    0.000000 |   0.5506                 |   0.000500   0.000000 |\n",
      "10:06:58 ep 307 /400 |   0.239211    0.239211    0.000000 |   0.000000    0.0000e+00 |   0.6153                 |   0.280304    0.280304    0.000000 |   0.5235                 |   0.000500   0.000000 |\n",
      "10:09:03 ep 308 /400 |   0.239363    0.239363    0.000000 |   0.000000    0.0000e+00 |   0.6066                 |   0.279185    0.279185    0.000000 |   0.5492                 |   0.000500   0.000000 |\n",
      "10:11:09 ep 309 /400 |   0.239167    0.239167    0.000000 |   0.000000    0.0000e+00 |   0.6130                 |   0.280700    0.280700    0.000000 |   0.5539                 |   0.000500   0.000000 |\n",
      "10:13:09 ep 310 /400 |   0.239181    0.239181    0.000000 |   0.000000    0.0000e+00 |   0.6117                 |   0.280225    0.280225    0.000000 |   0.5662                 |   0.000500   0.000000 |\n",
      "10:15:15 ep 311 /400 |   0.239303    0.239303    0.000000 |   0.000000    0.0000e+00 |   0.6116                 |   0.279570    0.279570    0.000000 |   0.5271                 |   0.000500   0.000000 |\n",
      "10:17:20 ep 312 /400 |   0.239014    0.239014    0.000000 |   0.000000    0.0000e+00 |   0.6160                 |   0.279077    0.279077    0.000000 |   0.5386                 |   0.000500   0.000000 |\n",
      "10:19:25 ep 313 /400 |   0.238871    0.238871    0.000000 |   0.000000    0.0000e+00 |   0.6137                 |   0.280300    0.280300    0.000000 |   0.5504                 |   0.000500   0.000000 |\n",
      "10:21:32 ep 314 /400 |   0.238722    0.238722    0.000000 |   0.000000    0.0000e+00 |   0.6157                 |   0.279982    0.279982    0.000000 |   0.5391                 |   0.000500   0.000000 |\n",
      "10:23:38 ep 315 /400 |   0.238545    0.238545    0.000000 |   0.000000    0.0000e+00 |   0.6109                 |   0.279701    0.279701    0.000000 |   0.5567                 |   0.000500   0.000000 |\n",
      "10:25:44 ep 316 /400 |   0.238623    0.238623    0.000000 |   0.000000    0.0000e+00 |   0.6086                 |   0.280281    0.280281    0.000000 |   0.5320                 |   0.000500   0.000000 |\n",
      "10:27:49 ep 317 /400 |   0.238854    0.238854    0.000000 |   0.000000    0.0000e+00 |   0.6130                 |   0.280718    0.280718    0.000000 |   0.5482                 |   0.000500   0.000000 |\n",
      "10:29:54 ep 318 /400 |   0.238657    0.238657    0.000000 |   0.000000    0.0000e+00 |   0.6125                 |   0.279774    0.279774    0.000000 |   0.5476                 |   0.000500   0.000000 |\n",
      "10:31:59 ep 319 /400 |   0.238518    0.238518    0.000000 |   0.000000    0.0000e+00 |   0.6081                 |   0.281037    0.281037    0.000000 |   0.5121                 |   0.000500   0.000000 |\n",
      "10:34:05 ep 320 /400 |   0.238664    0.238664    0.000000 |   0.000000    0.0000e+00 |   0.6132                 |   0.280245    0.280245    0.000000 |   0.5588                 |   0.000500   0.000000 |\n",
      "10:36:11 ep 321 /400 |   0.238618    0.238618    0.000000 |   0.000000    0.0000e+00 |   0.6144                 |   0.279578    0.279578    0.000000 |   0.5175                 |   0.000500   0.000000 |\n",
      "10:38:16 ep 322 /400 |   0.238408    0.238408    0.000000 |   0.000000    0.0000e+00 |   0.6114                 |   0.279493    0.279493    0.000000 |   0.5651                 |   0.000500   0.000000 |\n",
      "10:40:21 ep 323 /400 |   0.238133    0.238133    0.000000 |   0.000000    0.0000e+00 |   0.6157                 |   0.280475    0.280475    0.000000 |   0.5346                 |   0.000500   0.000000 |\n",
      "10:42:27 ep 324 /400 |   0.238517    0.238517    0.000000 |   0.000000    0.0000e+00 |   0.6099                 |   0.280175    0.280175    0.000000 |   0.5309                 |   0.000500   0.000000 |\n",
      "10:44:32 ep 325 /400 |   0.238815    0.238815    0.000000 |   0.000000    0.0000e+00 |   0.6096                 |   0.281369    0.281369    0.000000 |   0.5096                 |   0.000500   0.000000 |\n",
      "ckpts/AE_baseline_20240612_snglOpt-150Ltnt_ep_325.pt\n",
      "[INFO] Model exported to ckpts/AE_baseline_20240612_snglOpt-150Ltnt_ep_325.pt.\n",
      "10:46:37 ep 326 /400 |   0.238297    0.238297    0.000000 |   0.000000    0.0000e+00 |   0.6133                 |   0.279971    0.279971    0.000000 |   0.5856                 |   0.000500   0.000000 |\n",
      "10:48:39 ep 327 /400 |   0.238327    0.238327    0.000000 |   0.000000    0.0000e+00 |   0.6149                 |   0.280285    0.280285    0.000000 |   0.5057                 |   0.000500   0.000000 |\n",
      "10:50:44 ep 328 /400 |   0.238392    0.238392    0.000000 |   0.000000    0.0000e+00 |   0.6108                 |   0.279756    0.279756    0.000000 |   0.5293                 |   0.000500   0.000000 |\n",
      "10:52:50 ep 329 /400 |   0.238142    0.238142    0.000000 |   0.000000    0.0000e+00 |   0.6089                 |   0.280150    0.280150    0.000000 |   0.5081                 |   0.000500   0.000000 |\n",
      "10:54:55 ep 330 /400 |   0.238294    0.238294    0.000000 |   0.000000    0.0000e+00 |   0.6113                 |   0.280307    0.280307    0.000000 |   0.5620                 |   0.000500   0.000000 |\n",
      "10:57:01 ep 331 /400 |   0.238101    0.238101    0.000000 |   0.000000    0.0000e+00 |   0.6166                 |   0.279783    0.279783    0.000000 |   0.4984                 |   0.000500   0.000000 |\n",
      "10:59:06 ep 332 /400 |   0.238209    0.238209    0.000000 |   0.000000    0.0000e+00 |   0.6076                 |   0.280437    0.280437    0.000000 |   0.5531                 |   0.000500   0.000000 |\n",
      "11:01:19 ep 333 /400 |   0.238015    0.238015    0.000000 |   0.000000    0.0000e+00 |   0.6157                 |   0.280969    0.280969    0.000000 |   0.5104                 |   0.000500   0.000000 |\n",
      "11:03:34 ep 334 /400 |   0.238152    0.238152    0.000000 |   0.000000    0.0000e+00 |   0.6110                 |   0.279453    0.279453    0.000000 |   0.5623                 |   0.000500   0.000000 |\n",
      "11:05:43 ep 335 /400 |   0.237949    0.237949    0.000000 |   0.000000    0.0000e+00 |   0.6137                 |   0.280827    0.280827    0.000000 |   0.5441                 |   0.000500   0.000000 |\n",
      "11:07:56 ep 336 /400 |   0.237988    0.237988    0.000000 |   0.000000    0.0000e+00 |   0.6156                 |   0.280248    0.280248    0.000000 |   0.5264                 |   0.000500   0.000000 |\n",
      "11:10:09 ep 337 /400 |   0.238755    0.238755    0.000000 |   0.000000    0.0000e+00 |   0.6121                 |   0.281277    0.281277    0.000000 |   0.5247                 |   0.000500   0.000000 |\n",
      "11:12:21 ep 338 /400 |   0.237928    0.237928    0.000000 |   0.000000    0.0000e+00 |   0.6109                 |   0.279492    0.279492    0.000000 |   0.5331                 |   0.000500   0.000000 |\n",
      "11:14:29 ep 339 /400 |   0.237582    0.237582    0.000000 |   0.000000    0.0000e+00 |   0.6108                 |   0.280507    0.280507    0.000000 |   0.5481                 |   0.000500   0.000000 |\n"
     ]
    }
   ],
   "source": [
    "print(f\"{datetime.now().strftime('%Y%m%d_%H%M%S')}  epoch {starting_epoch+1:4d} of {epochs:4d}\")\n",
    "header = True\n",
    "\n",
    "for epoch in range(starting_epoch,epochs):\n",
    "    train_loss = model.epoch_train(train_loader, epoch)\n",
    "    val_loss = model.epoch_validate(val_loader, epoch)\n",
    "    \n",
    "    display_epoch_metrics(model, epoch, epochs, header)\n",
    "    header = False\n",
    "    model.scheduling_step(val_loss)\n",
    "    \n",
    "    if WANDB_ACTIVE:\n",
    "        epoch_metrics = {x:y[-1] for x,y in model.training_history['val'].items()} | \\\n",
    "                        {x:y[-1] for x,y in model.training_history['trn'].items()} \n",
    "        wandb_log_metrics( data = epoch_metrics, step = epoch)\n",
    "    \n",
    "    if (epoch + 1) % args.save_every == 0:\n",
    "        filename = f\"{model.name}_{args.runmode}_{args.exp_date}_{args.exp_title}_ep_{epoch+1:03d}\"\n",
    "        save_checkpoint_v2(epochs, model, filename, update_latest=False, update_best=False)    "
   ]
  },
  {
   "cell_type": "code",
   "execution_count": 41,
   "id": "d4ce526a-5381-4c3e-97f8-45b547e22b19",
   "metadata": {
    "execution": {
     "iopub.execute_input": "2024-06-12T15:07:18.318695Z",
     "iopub.status.busy": "2024-06-12T15:07:18.317865Z",
     "iopub.status.idle": "2024-06-12T15:07:18.387501Z",
     "shell.execute_reply": "2024-06-12T15:07:18.386679Z",
     "shell.execute_reply.started": "2024-06-12T15:07:18.318642Z"
    }
   },
   "outputs": [
    {
     "data": {
      "text/plain": [
       "(300, 400)"
      ]
     },
     "execution_count": 41,
     "metadata": {},
     "output_type": "execute_result"
    }
   ],
   "source": [
    "starting_epoch, epochs "
   ]
  },
  {
   "cell_type": "code",
   "execution_count": 25,
   "id": "5f576bea-1aa7-4e6b-903d-397d2a10d496",
   "metadata": {
    "execution": {
     "iopub.execute_input": "2024-06-05T13:19:41.255845Z",
     "iopub.status.busy": "2024-06-05T13:19:41.255289Z",
     "iopub.status.idle": "2024-06-05T13:19:41.297743Z",
     "shell.execute_reply": "2024-06-05T13:19:41.297229Z",
     "shell.execute_reply.started": "2024-06-05T13:19:41.255805Z"
    }
   },
   "outputs": [
    {
     "name": "stdout",
     "output_type": "stream",
     "text": [
      " run epochs 101 to 300 \n"
     ]
    }
   ],
   "source": [
    "# starting_epoch = 350\n",
    "# epochs = 35\n",
    "starting_epoch = epochs\n",
    "epochs += 200\n",
    "print(f\" run epochs {starting_epoch+1} to {epochs} \")"
   ]
  },
  {
   "cell_type": "code",
   "execution_count": 38,
   "id": "d116ac2b-6dd6-4b5c-b112-48c8dfadbfaf",
   "metadata": {
    "execution": {
     "iopub.execute_input": "2024-06-12T11:53:39.785628Z",
     "iopub.status.busy": "2024-06-12T11:53:39.785202Z",
     "iopub.status.idle": "2024-06-12T11:53:39.839991Z",
     "shell.execute_reply": "2024-06-12T11:53:39.838768Z",
     "shell.execute_reply.started": "2024-06-12T11:53:39.785598Z"
    },
    "scrolled": true
   },
   "outputs": [
    {
     "name": "stdout",
     "output_type": "stream",
     "text": [
      "                     |   Trn_loss    PrimLoss      SNNL   |    temp*        grad     |   R2                     |   Vld_loss    PrimLoss      SNNL   |   R2                     |    LR       temp LR   |\n",
      "---------------------+------------------------------------+--------------------------+--------------------------+------------------------------------+--------------------------|-----------------------|\n",
      "11:31:37 ep   1 /400 |   0.568568    0.568568    0.000000 |   0.000000    0.0000e+00 |  -0.4173                 |   0.487766    0.487766    0.000000 |   0.2318                 |   0.001000   0.000000 |\n",
      "11:33:45 ep   2 /400 |   0.465842    0.465842    0.000000 |   0.000000    0.0000e+00 |   0.2506                 |   0.440903    0.440903    0.000000 |   0.3068                 |   0.001000   0.000000 |\n",
      "11:35:48 ep   3 /400 |   0.419257    0.419257    0.000000 |   0.000000    0.0000e+00 |   0.3841                 |   0.400125    0.400125    0.000000 |   0.4105                 |   0.001000   0.000000 |\n",
      "11:37:51 ep   4 /400 |   0.398285    0.398285    0.000000 |   0.000000    0.0000e+00 |   0.4105                 |   0.374296    0.374296    0.000000 |   0.4290                 |   0.001000   0.000000 |\n",
      "11:39:54 ep   5 /400 |   0.367779    0.367779    0.000000 |   0.000000    0.0000e+00 |   0.4658                 |   0.364515    0.364515    0.000000 |   0.5002                 |   0.001000   0.000000 |\n",
      "11:41:57 ep   6 /400 |   0.356513    0.356513    0.000000 |   0.000000    0.0000e+00 |   0.4818                 |   0.376021    0.376021    0.000000 |   0.4791                 |   0.001000   0.000000 |\n",
      "11:44:05 ep   7 /400 |   0.351484    0.351484    0.000000 |   0.000000    0.0000e+00 |   0.4936                 |   0.356530    0.356530    0.000000 |   0.5069                 |   0.001000   0.000000 |\n",
      "11:46:15 ep   8 /400 |   0.344653    0.344653    0.000000 |   0.000000    0.0000e+00 |   0.4926                 |   0.348916    0.348916    0.000000 |   0.4416                 |   0.001000   0.000000 |\n",
      "11:48:24 ep   9 /400 |   0.347949    0.347949    0.000000 |   0.000000    0.0000e+00 |   0.4814                 |   0.345653    0.345653    0.000000 |   0.4580                 |   0.001000   0.000000 |\n",
      "11:50:34 ep  10 /400 |   0.336946    0.336946    0.000000 |   0.000000    0.0000e+00 |   0.4929                 |   0.352794    0.352794    0.000000 |   0.4661                 |   0.001000   0.000000 |\n",
      "11:52:48 ep  11 /400 |   0.337059    0.337059    0.000000 |   0.000000    0.0000e+00 |   0.4781                 |   0.341025    0.341025    0.000000 |   0.4956                 |   0.001000   0.000000 |\n",
      "11:55:00 ep  12 /400 |   0.333697    0.333697    0.000000 |   0.000000    0.0000e+00 |   0.4829                 |   0.343268    0.343268    0.000000 |   0.4371                 |   0.001000   0.000000 |\n",
      "11:57:12 ep  13 /400 |   0.332311    0.332311    0.000000 |   0.000000    0.0000e+00 |   0.4739                 |   0.338804    0.338804    0.000000 |   0.4677                 |   0.001000   0.000000 |\n",
      "11:59:24 ep  14 /400 |   0.331541    0.331541    0.000000 |   0.000000    0.0000e+00 |   0.4734                 |   0.347574    0.347574    0.000000 |   0.4749                 |   0.001000   0.000000 |\n",
      "12:01:37 ep  15 /400 |   0.328679    0.328679    0.000000 |   0.000000    0.0000e+00 |   0.4597                 |   0.341109    0.341109    0.000000 |   0.4513                 |   0.001000   0.000000 |\n",
      "12:03:48 ep  16 /400 |   0.326525    0.326525    0.000000 |   0.000000    0.0000e+00 |   0.4805                 |   0.334458    0.334458    0.000000 |   0.4196                 |   0.001000   0.000000 |\n",
      "12:06:02 ep  17 /400 |   0.326503    0.326503    0.000000 |   0.000000    0.0000e+00 |   0.4684                 |   0.341867    0.341867    0.000000 |   0.4503                 |   0.001000   0.000000 |\n",
      "12:08:16 ep  18 /400 |   0.325000    0.325000    0.000000 |   0.000000    0.0000e+00 |   0.4699                 |   0.339352    0.339352    0.000000 |   0.4406                 |   0.001000   0.000000 |\n",
      "12:10:32 ep  19 /400 |   0.323844    0.323844    0.000000 |   0.000000    0.0000e+00 |   0.4716                 |   0.336119    0.336119    0.000000 |   0.4554                 |   0.001000   0.000000 |\n",
      "12:12:50 ep  20 /400 |   0.322245    0.322245    0.000000 |   0.000000    0.0000e+00 |   0.4780                 |   0.347246    0.347246    0.000000 |   0.4583                 |   0.001000   0.000000 |\n",
      "12:15:06 ep  21 /400 |   0.322559    0.322559    0.000000 |   0.000000    0.0000e+00 |   0.4754                 |   0.328759    0.328759    0.000000 |   0.4950                 |   0.001000   0.000000 |\n",
      "12:17:25 ep  22 /400 |   0.318127    0.318127    0.000000 |   0.000000    0.0000e+00 |   0.4808                 |   0.331190    0.331190    0.000000 |   0.4397                 |   0.001000   0.000000 |\n",
      "12:19:39 ep  23 /400 |   0.317330    0.317330    0.000000 |   0.000000    0.0000e+00 |   0.4811                 |   0.328271    0.328271    0.000000 |   0.5385                 |   0.001000   0.000000 |\n",
      "12:21:52 ep  24 /400 |   0.317545    0.317545    0.000000 |   0.000000    0.0000e+00 |   0.4878                 |   0.332998    0.332998    0.000000 |   0.4899                 |   0.001000   0.000000 |\n",
      "12:24:05 ep  25 /400 |   0.318322    0.318322    0.000000 |   0.000000    0.0000e+00 |   0.4822                 |   0.329527    0.329527    0.000000 |   0.4796                 |   0.001000   0.000000 |\n",
      "12:33:55 ep  26 /400 |   0.314730    0.314730    0.000000 |   0.000000    0.0000e+00 |   0.4915                 |   0.326304    0.326304    0.000000 |   0.4569                 |   0.001000   0.000000 |\n",
      "12:36:09 ep  27 /400 |   0.313072    0.313072    0.000000 |   0.000000    0.0000e+00 |   0.4907                 |   0.331375    0.331375    0.000000 |   0.4751                 |   0.001000   0.000000 |\n",
      "12:38:21 ep  28 /400 |   0.314234    0.314234    0.000000 |   0.000000    0.0000e+00 |   0.4901                 |   0.346938    0.346938    0.000000 |   0.4955                 |   0.001000   0.000000 |\n",
      "12:40:34 ep  29 /400 |   0.313659    0.313659    0.000000 |   0.000000    0.0000e+00 |   0.4906                 |   0.322599    0.322599    0.000000 |   0.4752                 |   0.001000   0.000000 |\n",
      "12:42:48 ep  30 /400 |   0.310733    0.310733    0.000000 |   0.000000    0.0000e+00 |   0.4942                 |   0.327946    0.327946    0.000000 |   0.5043                 |   0.001000   0.000000 |\n",
      "12:45:01 ep  31 /400 |   0.311314    0.311314    0.000000 |   0.000000    0.0000e+00 |   0.4959                 |   0.326487    0.326487    0.000000 |   0.4808                 |   0.001000   0.000000 |\n",
      "12:47:14 ep  32 /400 |   0.307768    0.307768    0.000000 |   0.000000    0.0000e+00 |   0.4991                 |   0.319607    0.319607    0.000000 |   0.5217                 |   0.001000   0.000000 |\n",
      "12:49:28 ep  33 /400 |   0.306294    0.306294    0.000000 |   0.000000    0.0000e+00 |   0.5024                 |   0.320659    0.320659    0.000000 |   0.5200                 |   0.001000   0.000000 |\n",
      "12:51:43 ep  34 /400 |   0.308170    0.308170    0.000000 |   0.000000    0.0000e+00 |   0.5006                 |   0.325607    0.325607    0.000000 |   0.4573                 |   0.001000   0.000000 |\n",
      "12:53:58 ep  35 /400 |   0.306455    0.306455    0.000000 |   0.000000    0.0000e+00 |   0.5044                 |   0.315344    0.315344    0.000000 |   0.4804                 |   0.001000   0.000000 |\n",
      "12:56:11 ep  36 /400 |   0.302991    0.302991    0.000000 |   0.000000    0.0000e+00 |   0.5108                 |   0.321572    0.321572    0.000000 |   0.4890                 |   0.001000   0.000000 |\n",
      "12:58:26 ep  37 /400 |   0.301304    0.301304    0.000000 |   0.000000    0.0000e+00 |   0.5068                 |   0.323228    0.323228    0.000000 |   0.4654                 |   0.001000   0.000000 |\n",
      "13:00:41 ep  38 /400 |   0.303584    0.303584    0.000000 |   0.000000    0.0000e+00 |   0.5036                 |   0.320555    0.320555    0.000000 |   0.4779                 |   0.001000   0.000000 |\n",
      "13:02:55 ep  39 /400 |   0.301768    0.301768    0.000000 |   0.000000    0.0000e+00 |   0.5121                 |   0.322668    0.322668    0.000000 |   0.4869                 |   0.001000   0.000000 |\n",
      "13:05:10 ep  40 /400 |   0.302412    0.302412    0.000000 |   0.000000    0.0000e+00 |   0.5094                 |   0.314793    0.314793    0.000000 |   0.5332                 |   0.001000   0.000000 |\n",
      "13:07:23 ep  41 /400 |   0.299186    0.299186    0.000000 |   0.000000    0.0000e+00 |   0.5116                 |   0.315429    0.315429    0.000000 |   0.5155                 |   0.001000   0.000000 |\n",
      "13:09:34 ep  42 /400 |   0.297944    0.297944    0.000000 |   0.000000    0.0000e+00 |   0.5201                 |   0.314653    0.314653    0.000000 |   0.4996                 |   0.001000   0.000000 |\n",
      "13:11:44 ep  43 /400 |   0.297914    0.297914    0.000000 |   0.000000    0.0000e+00 |   0.5189                 |   0.315539    0.315539    0.000000 |   0.5010                 |   0.001000   0.000000 |\n",
      "13:13:58 ep  44 /400 |   0.296775    0.296775    0.000000 |   0.000000    0.0000e+00 |   0.5209                 |   0.315671    0.315671    0.000000 |   0.4824                 |   0.001000   0.000000 |\n",
      "13:16:10 ep  45 /400 |   0.298204    0.298204    0.000000 |   0.000000    0.0000e+00 |   0.5184                 |   0.313444    0.313444    0.000000 |   0.5337                 |   0.001000   0.000000 |\n",
      "13:18:25 ep  46 /400 |   0.295885    0.295885    0.000000 |   0.000000    0.0000e+00 |   0.5170                 |   0.316992    0.316992    0.000000 |   0.5352                 |   0.001000   0.000000 |\n",
      "13:20:36 ep  47 /400 |   0.292813    0.292813    0.000000 |   0.000000    0.0000e+00 |   0.5264                 |   0.309634    0.309634    0.000000 |   0.5050                 |   0.001000   0.000000 |\n",
      "13:22:48 ep  48 /400 |   0.290521    0.290521    0.000000 |   0.000000    0.0000e+00 |   0.5285                 |   0.306680    0.306680    0.000000 |   0.5577                 |   0.001000   0.000000 |\n",
      "13:24:59 ep  49 /400 |   0.289034    0.289034    0.000000 |   0.000000    0.0000e+00 |   0.5306                 |   0.302790    0.302790    0.000000 |   0.5069                 |   0.001000   0.000000 |\n",
      "13:27:10 ep  50 /400 |   0.286092    0.286092    0.000000 |   0.000000    0.0000e+00 |   0.5307                 |   0.306548    0.306548    0.000000 |   0.5310                 |   0.001000   0.000000 |\n",
      "13:29:20 ep  51 /400 |   0.286837    0.286837    0.000000 |   0.000000    0.0000e+00 |   0.5261                 |   0.304102    0.304102    0.000000 |   0.5156                 |   0.001000   0.000000 |\n",
      "13:31:29 ep  52 /400 |   0.284341    0.284341    0.000000 |   0.000000    0.0000e+00 |   0.5394                 |   0.301482    0.301482    0.000000 |   0.5470                 |   0.001000   0.000000 |\n",
      "13:33:37 ep  53 /400 |   0.283436    0.283436    0.000000 |   0.000000    0.0000e+00 |   0.5349                 |   0.301806    0.301806    0.000000 |   0.5367                 |   0.001000   0.000000 |\n",
      "13:35:44 ep  54 /400 |   0.283322    0.283322    0.000000 |   0.000000    0.0000e+00 |   0.5396                 |   0.301770    0.301770    0.000000 |   0.5401                 |   0.001000   0.000000 |\n",
      "13:37:48 ep  55 /400 |   0.281475    0.281475    0.000000 |   0.000000    0.0000e+00 |   0.5325                 |   0.300575    0.300575    0.000000 |   0.5647                 |   0.001000   0.000000 |\n",
      "13:39:51 ep  56 /400 |   0.280637    0.280637    0.000000 |   0.000000    0.0000e+00 |   0.5410                 |   0.303895    0.303895    0.000000 |   0.5087                 |   0.001000   0.000000 |\n",
      "13:41:53 ep  57 /400 |   0.284773    0.284773    0.000000 |   0.000000    0.0000e+00 |   0.5342                 |   0.301115    0.301115    0.000000 |   0.5033                 |   0.001000   0.000000 |\n",
      "13:43:55 ep  58 /400 |   0.281244    0.281244    0.000000 |   0.000000    0.0000e+00 |   0.5404                 |   0.299721    0.299721    0.000000 |   0.5636                 |   0.001000   0.000000 |\n",
      "13:45:58 ep  59 /400 |   0.279014    0.279014    0.000000 |   0.000000    0.0000e+00 |   0.5423                 |   0.296916    0.296916    0.000000 |   0.5437                 |   0.001000   0.000000 |\n",
      "13:48:00 ep  60 /400 |   0.278868    0.278868    0.000000 |   0.000000    0.0000e+00 |   0.5415                 |   0.299310    0.299310    0.000000 |   0.5209                 |   0.001000   0.000000 |\n",
      "13:50:03 ep  61 /400 |   0.277168    0.277168    0.000000 |   0.000000    0.0000e+00 |   0.5481                 |   0.298087    0.298087    0.000000 |   0.5595                 |   0.001000   0.000000 |\n",
      "13:52:05 ep  62 /400 |   0.278713    0.278713    0.000000 |   0.000000    0.0000e+00 |   0.5397                 |   0.304451    0.304451    0.000000 |   0.5457                 |   0.001000   0.000000 |\n",
      "13:54:08 ep  63 /400 |   0.277647    0.277647    0.000000 |   0.000000    0.0000e+00 |   0.5411                 |   0.302041    0.302041    0.000000 |   0.5383                 |   0.001000   0.000000 |\n",
      "13:56:11 ep  64 /400 |   0.277569    0.277569    0.000000 |   0.000000    0.0000e+00 |   0.5499                 |   0.295830    0.295830    0.000000 |   0.5291                 |   0.001000   0.000000 |\n",
      "13:58:14 ep  65 /400 |   0.278050    0.278050    0.000000 |   0.000000    0.0000e+00 |   0.5455                 |   0.296457    0.296457    0.000000 |   0.5411                 |   0.001000   0.000000 |\n",
      "14:00:16 ep  66 /400 |   0.276333    0.276333    0.000000 |   0.000000    0.0000e+00 |   0.5492                 |   0.295764    0.295764    0.000000 |   0.5782                 |   0.001000   0.000000 |\n",
      "14:02:19 ep  67 /400 |   0.275149    0.275149    0.000000 |   0.000000    0.0000e+00 |   0.5480                 |   0.295652    0.295652    0.000000 |   0.5514                 |   0.001000   0.000000 |\n",
      "14:04:21 ep  68 /400 |   0.276281    0.276281    0.000000 |   0.000000    0.0000e+00 |   0.5471                 |   0.306929    0.306929    0.000000 |   0.5328                 |   0.001000   0.000000 |\n",
      "14:06:31 ep  69 /400 |   0.276179    0.276179    0.000000 |   0.000000    0.0000e+00 |   0.5477                 |   0.294343    0.294343    0.000000 |   0.5663                 |   0.001000   0.000000 |\n",
      "14:08:44 ep  70 /400 |   0.272707    0.272707    0.000000 |   0.000000    0.0000e+00 |   0.5528                 |   0.292487    0.292487    0.000000 |   0.5534                 |   0.001000   0.000000 |\n",
      "14:10:57 ep  71 /400 |   0.275018    0.275018    0.000000 |   0.000000    0.0000e+00 |   0.5487                 |   0.292468    0.292468    0.000000 |   0.5471                 |   0.001000   0.000000 |\n",
      "14:13:08 ep  72 /400 |   0.288998    0.288998    0.000000 |   0.000000    0.0000e+00 |   0.5273                 |   0.319137    0.319137    0.000000 |   0.5138                 |   0.001000   0.000000 |\n",
      "14:15:21 ep  73 /400 |   0.282457    0.282457    0.000000 |   0.000000    0.0000e+00 |   0.5343                 |   0.296776    0.296776    0.000000 |   0.5359                 |   0.001000   0.000000 |\n",
      "14:17:33 ep  74 /400 |   0.274772    0.274772    0.000000 |   0.000000    0.0000e+00 |   0.5495                 |   0.303072    0.303072    0.000000 |   0.5255                 |   0.001000   0.000000 |\n",
      "14:19:45 ep  75 /400 |   0.271713    0.271713    0.000000 |   0.000000    0.0000e+00 |   0.5608                 |   0.292188    0.292188    0.000000 |   0.5526                 |   0.001000   0.000000 |\n",
      "14:21:57 ep  76 /400 |   0.272028    0.272028    0.000000 |   0.000000    0.0000e+00 |   0.5585                 |   0.293383    0.293383    0.000000 |   0.5343                 |   0.001000   0.000000 |\n",
      "14:24:11 ep  77 /400 |   0.272418    0.272418    0.000000 |   0.000000    0.0000e+00 |   0.5509                 |   0.296097    0.296097    0.000000 |   0.5042                 |   0.001000   0.000000 |\n",
      "14:26:25 ep  78 /400 |   0.271672    0.271672    0.000000 |   0.000000    0.0000e+00 |   0.5577                 |   0.294136    0.294136    0.000000 |   0.5307                 |   0.001000   0.000000 |\n",
      "14:28:35 ep  79 /400 |   0.271067    0.271067    0.000000 |   0.000000    0.0000e+00 |   0.5600                 |   0.297583    0.297583    0.000000 |   0.5982                 |   0.001000   0.000000 |\n",
      "14:30:46 ep  80 /400 |   0.273180    0.273180    0.000000 |   0.000000    0.0000e+00 |   0.5535                 |   0.294419    0.294419    0.000000 |   0.5437                 |   0.001000   0.000000 |\n",
      "14:32:58 ep  81 /400 |   0.270030    0.270030    0.000000 |   0.000000    0.0000e+00 |   0.5576                 |   0.292343    0.292343    0.000000 |   0.5475                 |   0.001000   0.000000 |\n",
      "14:35:11 ep  82 /400 |   0.270027    0.270027    0.000000 |   0.000000    0.0000e+00 |   0.5553                 |   0.292139    0.292139    0.000000 |   0.5574                 |   0.001000   0.000000 |\n",
      "14:37:24 ep  83 /400 |   0.270937    0.270937    0.000000 |   0.000000    0.0000e+00 |   0.5556                 |   0.293979    0.293979    0.000000 |   0.5292                 |   0.001000   0.000000 |\n",
      "14:39:37 ep  84 /400 |   0.270871    0.270871    0.000000 |   0.000000    0.0000e+00 |   0.5624                 |   0.296771    0.296771    0.000000 |   0.5509                 |   0.001000   0.000000 |\n",
      "14:41:50 ep  85 /400 |   0.268452    0.268452    0.000000 |   0.000000    0.0000e+00 |   0.5589                 |   0.297909    0.297909    0.000000 |   0.5140                 |   0.001000   0.000000 |\n",
      "14:44:02 ep  86 /400 |   0.269407    0.269407    0.000000 |   0.000000    0.0000e+00 |   0.5640                 |   0.291921    0.291921    0.000000 |   0.5345                 |   0.001000   0.000000 |\n",
      "14:46:14 ep  87 /400 |   0.269438    0.269438    0.000000 |   0.000000    0.0000e+00 |   0.5609                 |   0.293570    0.293570    0.000000 |   0.5334                 |   0.001000   0.000000 |\n",
      "14:48:28 ep  88 /400 |   0.268885    0.268885    0.000000 |   0.000000    0.0000e+00 |   0.5589                 |   0.295247    0.295247    0.000000 |   0.5331                 |   0.001000   0.000000 |\n",
      "14:50:43 ep  89 /400 |   0.268309    0.268309    0.000000 |   0.000000    0.0000e+00 |   0.5546                 |   0.292884    0.292884    0.000000 |   0.5535                 |   0.001000   0.000000 |\n",
      "14:52:53 ep  90 /400 |   0.272267    0.272267    0.000000 |   0.000000    0.0000e+00 |   0.5569                 |   0.293586    0.293586    0.000000 |   0.5285                 |   0.001000   0.000000 |\n",
      "14:55:06 ep  91 /400 |   0.266608    0.266608    0.000000 |   0.000000    0.0000e+00 |   0.5641                 |   0.288002    0.288002    0.000000 |   0.5461                 |   0.001000   0.000000 |\n",
      "14:57:20 ep  92 /400 |   0.265912    0.265912    0.000000 |   0.000000    0.0000e+00 |   0.5680                 |   0.289438    0.289438    0.000000 |   0.5514                 |   0.001000   0.000000 |\n",
      "14:59:34 ep  93 /400 |   0.267457    0.267457    0.000000 |   0.000000    0.0000e+00 |   0.5709                 |   0.290911    0.290911    0.000000 |   0.5487                 |   0.001000   0.000000 |\n",
      "15:01:48 ep  94 /400 |   0.269188    0.269188    0.000000 |   0.000000    0.0000e+00 |   0.5538                 |   0.294710    0.294710    0.000000 |   0.5593                 |   0.001000   0.000000 |\n",
      "15:04:01 ep  95 /400 |   0.266549    0.266549    0.000000 |   0.000000    0.0000e+00 |   0.5639                 |   0.287916    0.287916    0.000000 |   0.5593                 |   0.001000   0.000000 |\n",
      "15:06:14 ep  96 /400 |   0.265154    0.265154    0.000000 |   0.000000    0.0000e+00 |   0.5647                 |   0.294876    0.294876    0.000000 |   0.5171                 |   0.001000   0.000000 |\n",
      "15:08:27 ep  97 /400 |   0.266797    0.266797    0.000000 |   0.000000    0.0000e+00 |   0.5621                 |   0.288679    0.288679    0.000000 |   0.5648                 |   0.001000   0.000000 |\n",
      "15:10:41 ep  98 /400 |   0.265399    0.265399    0.000000 |   0.000000    0.0000e+00 |   0.5638                 |   0.289065    0.289065    0.000000 |   0.5332                 |   0.001000   0.000000 |\n",
      "15:12:53 ep  99 /400 |   0.265520    0.265520    0.000000 |   0.000000    0.0000e+00 |   0.5673                 |   0.287806    0.287806    0.000000 |   0.5101                 |   0.001000   0.000000 |\n",
      "15:15:07 ep 100 /400 |   0.266383    0.266383    0.000000 |   0.000000    0.0000e+00 |   0.5676                 |   0.291746    0.291746    0.000000 |   0.5506                 |   0.001000   0.000000 |\n",
      "15:21:57 ep 101 /400 |   0.267018    0.267018    0.000000 |   0.000000    0.0000e+00 |   0.5630                 |   0.291765    0.291765    0.000000 |   0.5413                 |   0.001000   0.000000 |\n",
      "15:24:08 ep 102 /400 |   0.265360    0.265360    0.000000 |   0.000000    0.0000e+00 |   0.5642                 |   0.292555    0.292555    0.000000 |   0.5440                 |   0.001000   0.000000 |\n",
      "15:26:20 ep 103 /400 |   0.266142    0.266142    0.000000 |   0.000000    0.0000e+00 |   0.5625                 |   0.289318    0.289318    0.000000 |   0.5663                 |   0.001000   0.000000 |\n",
      "15:28:35 ep 104 /400 |   0.263947    0.263947    0.000000 |   0.000000    0.0000e+00 |   0.5694                 |   0.287497    0.287497    0.000000 |   0.5565                 |   0.001000   0.000000 |\n",
      "15:30:49 ep 105 /400 |   0.262916    0.262916    0.000000 |   0.000000    0.0000e+00 |   0.5747                 |   0.297751    0.297751    0.000000 |   0.4573                 |   0.001000   0.000000 |\n",
      "15:33:03 ep 106 /400 |   0.266487    0.266487    0.000000 |   0.000000    0.0000e+00 |   0.5623                 |   0.292473    0.292473    0.000000 |   0.5525                 |   0.001000   0.000000 |\n",
      "15:35:18 ep 107 /400 |   0.265351    0.265351    0.000000 |   0.000000    0.0000e+00 |   0.5684                 |   0.294561    0.294561    0.000000 |   0.5238                 |   0.001000   0.000000 |\n",
      "15:37:35 ep 108 /400 |   0.264072    0.264072    0.000000 |   0.000000    0.0000e+00 |   0.5663                 |   0.290598    0.290598    0.000000 |   0.5571                 |   0.001000   0.000000 |\n",
      "15:39:51 ep 109 /400 |   0.263310    0.263310    0.000000 |   0.000000    0.0000e+00 |   0.5696                 |   0.290703    0.290703    0.000000 |   0.5452                 |   0.001000   0.000000 |\n",
      "15:42:04 ep 110 /400 |   0.263747    0.263747    0.000000 |   0.000000    0.0000e+00 |   0.5692                 |   0.291388    0.291388    0.000000 |   0.5236                 |   0.001000   0.000000 |\n",
      "15:44:18 ep 111 /400 |   0.267082    0.267082    0.000000 |   0.000000    0.0000e+00 |   0.5641                 |   0.300129    0.300129    0.000000 |   0.5578                 |   0.001000   0.000000 |\n",
      "15:46:31 ep 112 /400 |   0.263678    0.263678    0.000000 |   0.000000    0.0000e+00 |   0.5724                 |   0.288958    0.288958    0.000000 |   0.4872                 |   0.001000   0.000000 |\n",
      "15:48:45 ep 113 /400 |   0.263619    0.263619    0.000000 |   0.000000    0.0000e+00 |   0.5665                 |   0.296982    0.296982    0.000000 |   0.5028                 |   0.001000   0.000000 |\n",
      "15:50:57 ep 114 /400 |   0.264158    0.264158    0.000000 |   0.000000    0.0000e+00 |   0.5729                 |   0.290078    0.290078    0.000000 |   0.5212                 |   0.001000   0.000000 |\n",
      "15:53:11 ep 115 /400 |   0.262266    0.262266    0.000000 |   0.000000    0.0000e+00 |   0.5676                 |   0.290583    0.290583    0.000000 |   0.5631                 |   0.001000   0.000000 |\n",
      "15:55:23 ep 116 /400 |   0.262362    0.262362    0.000000 |   0.000000    0.0000e+00 |   0.5730                 |   0.290003    0.290003    0.000000 |   0.5698                 |   0.001000   0.000000 |\n",
      "15:57:36 ep 117 /400 |   0.263685    0.263685    0.000000 |   0.000000    0.0000e+00 |   0.5657                 |   0.286471    0.286471    0.000000 |   0.5125                 |   0.001000   0.000000 |\n",
      "15:59:50 ep 118 /400 |   0.265188    0.265188    0.000000 |   0.000000    0.0000e+00 |   0.5680                 |   0.288803    0.288803    0.000000 |   0.5459                 |   0.001000   0.000000 |\n",
      "16:02:04 ep 119 /400 |   0.262852    0.262852    0.000000 |   0.000000    0.0000e+00 |   0.5663                 |   0.289899    0.289899    0.000000 |   0.5291                 |   0.001000   0.000000 |\n",
      "16:04:15 ep 120 /400 |   0.262524    0.262524    0.000000 |   0.000000    0.0000e+00 |   0.5697                 |   0.290251    0.290251    0.000000 |   0.5277                 |   0.001000   0.000000 |\n",
      "16:06:29 ep 121 /400 |   0.259800    0.259800    0.000000 |   0.000000    0.0000e+00 |   0.5716                 |   0.291945    0.291945    0.000000 |   0.5285                 |   0.001000   0.000000 |\n",
      "16:08:40 ep 122 /400 |   0.260950    0.260950    0.000000 |   0.000000    0.0000e+00 |   0.5661                 |   0.290469    0.290469    0.000000 |   0.5454                 |   0.001000   0.000000 |\n",
      "16:10:50 ep 123 /400 |   0.262055    0.262055    0.000000 |   0.000000    0.0000e+00 |   0.5738                 |   0.290589    0.290589    0.000000 |   0.5080                 |   0.001000   0.000000 |\n",
      "16:13:00 ep 124 /400 |   0.261763    0.261763    0.000000 |   0.000000    0.0000e+00 |   0.5748                 |   0.293034    0.293034    0.000000 |   0.5681                 |   0.001000   0.000000 |\n",
      "16:15:10 ep 125 /400 |   0.261715    0.261715    0.000000 |   0.000000    0.0000e+00 |   0.5739                 |   0.294654    0.294654    0.000000 |   0.5093                 |   0.001000   0.000000 |\n",
      "16:17:21 ep 126 /400 |   0.262091    0.262091    0.000000 |   0.000000    0.0000e+00 |   0.5668                 |   0.288801    0.288801    0.000000 |   0.5564                 |   0.001000   0.000000 |\n",
      "16:19:32 ep 127 /400 |   0.262808    0.262808    0.000000 |   0.000000    0.0000e+00 |   0.5641                 |   0.287751    0.287751    0.000000 |   0.5337                 |   0.001000   0.000000 |\n",
      "16:21:42 ep 128 /400 |   0.260107    0.260107    0.000000 |   0.000000    0.0000e+00 |   0.5738                 |   0.290177    0.290177    0.000000 |   0.5436                 |   0.001000   0.000000 |\n",
      "16:23:51 ep 129 /400 |   0.260495    0.260495    0.000000 |   0.000000    0.0000e+00 |   0.5721                 |   0.291888    0.291888    0.000000 |   0.5480                 |   0.001000   0.000000 |\n",
      "16:26:03 ep 130 /400 |   0.262574    0.262574    0.000000 |   0.000000    0.0000e+00 |   0.5657                 |   0.287089    0.287089    0.000000 |   0.5261                 |   0.001000   0.000000 |\n",
      "16:28:16 ep 131 /400 |   0.260230    0.260230    0.000000 |   0.000000    0.0000e+00 |   0.5715                 |   0.287805    0.287805    0.000000 |   0.5478                 |   0.001000   0.000000 |\n",
      "16:30:27 ep 132 /400 |   0.260273    0.260273    0.000000 |   0.000000    0.0000e+00 |   0.5795                 |   0.289238    0.289238    0.000000 |   0.5375                 |   0.001000   0.000000 |\n",
      "16:32:38 ep 133 /400 |   0.261145    0.261145    0.000000 |   0.000000    0.0000e+00 |   0.5766                 |   0.286899    0.286899    0.000000 |   0.5204                 |   0.001000   0.000000 |\n",
      "16:34:49 ep 134 /400 |   0.260371    0.260371    0.000000 |   0.000000    0.0000e+00 |   0.5780                 |   0.286700    0.286700    0.000000 |   0.5117                 |   0.001000   0.000000 |\n",
      "16:37:00 ep 135 /400 |   0.262218    0.262218    0.000000 |   0.000000    0.0000e+00 |   0.5690                 |   0.288278    0.288278    0.000000 |   0.5425                 |   0.001000   0.000000 |\n",
      "16:39:10 ep 136 /400 |   0.258593    0.258593    0.000000 |   0.000000    0.0000e+00 |   0.5779                 |   0.287615    0.287615    0.000000 |   0.5357                 |   0.001000   0.000000 |\n",
      "16:41:25 ep 137 /400 |   0.259587    0.259587    0.000000 |   0.000000    0.0000e+00 |   0.5791                 |   0.286744    0.286744    0.000000 |   0.5329                 |   0.001000   0.000000 |\n",
      "16:43:39 ep 138 /400 |   0.260791    0.260791    0.000000 |   0.000000    0.0000e+00 |   0.5726                 |   0.288203    0.288203    0.000000 |   0.5106                 |   0.001000   0.000000 |\n",
      "16:45:54 ep 139 /400 |   0.260527    0.260527    0.000000 |   0.000000    0.0000e+00 |   0.5764                 |   0.288581    0.288581    0.000000 |   0.5516                 |   0.001000   0.000000 |\n",
      "16:48:08 ep 140 /400 |   0.259500    0.259500    0.000000 |   0.000000    0.0000e+00 |   0.5805                 |   0.293532    0.293532    0.000000 |   0.4561                 |   0.001000   0.000000 |\n",
      "16:50:23 ep 141 /400 |   0.259213    0.259213    0.000000 |   0.000000    0.0000e+00 |   0.5729                 |   0.287506    0.287506    0.000000 |   0.5468                 |   0.001000   0.000000 |\n",
      "16:52:36 ep 142 /400 |   0.259145    0.259145    0.000000 |   0.000000    0.0000e+00 |   0.5834                 |   0.287357    0.287357    0.000000 |   0.5074                 |   0.001000   0.000000 |\n",
      "16:54:49 ep 143 /400 |   0.260171    0.260171    0.000000 |   0.000000    0.0000e+00 |   0.5766                 |   0.294983    0.294983    0.000000 |   0.4934                 |   0.001000   0.000000 |\n",
      "16:57:03 ep 144 /400 |   0.260092    0.260092    0.000000 |   0.000000    0.0000e+00 |   0.5776                 |   0.289420    0.289420    0.000000 |   0.5100                 |   0.001000   0.000000 |\n",
      "16:59:17 ep 145 /400 |   0.259705    0.259705    0.000000 |   0.000000    0.0000e+00 |   0.5712                 |   0.287706    0.287706    0.000000 |   0.5379                 |   0.001000   0.000000 |\n",
      "17:01:31 ep 146 /400 |   0.257772    0.257772    0.000000 |   0.000000    0.0000e+00 |   0.5775                 |   0.287469    0.287469    0.000000 |   0.5317                 |   0.001000   0.000000 |\n",
      "17:03:44 ep 147 /400 |   0.259038    0.259038    0.000000 |   0.000000    0.0000e+00 |   0.5800                 |   0.288660    0.288660    0.000000 |   0.5381                 |   0.001000   0.000000 |\n",
      "17:05:57 ep 148 /400 |   0.259844    0.259844    0.000000 |   0.000000    0.0000e+00 |   0.5832                 |   0.290190    0.290190    0.000000 |   0.4770                 |   0.001000   0.000000 |\n",
      "17:08:10 ep 149 /400 |   0.258056    0.258056    0.000000 |   0.000000    0.0000e+00 |   0.5786                 |   0.292318    0.292318    0.000000 |   0.5346                 |   0.001000   0.000000 |\n",
      "17:10:22 ep 150 /400 |   0.257381    0.257381    0.000000 |   0.000000    0.0000e+00 |   0.5815                 |   0.286671    0.286671    0.000000 |   0.5402                 |   0.001000   0.000000 |\n",
      "17:12:36 ep 151 /400 |   0.258528    0.258528    0.000000 |   0.000000    0.0000e+00 |   0.5841                 |   0.287811    0.287811    0.000000 |   0.5005                 |   0.001000   0.000000 |\n",
      "17:14:47 ep 152 /400 |   0.263828    0.263828    0.000000 |   0.000000    0.0000e+00 |   0.5677                 |   0.290591    0.290591    0.000000 |   0.5451                 |   0.001000   0.000000 |\n",
      "17:17:02 ep 153 /400 |   0.258605    0.258605    0.000000 |   0.000000    0.0000e+00 |   0.5800                 |   0.287471    0.287471    0.000000 |   0.5265                 |   0.001000   0.000000 |\n",
      "17:19:17 ep 154 /400 |   0.256287    0.256287    0.000000 |   0.000000    0.0000e+00 |   0.5848                 |   0.287303    0.287303    0.000000 |   0.4580                 |   0.001000   0.000000 |\n",
      "17:21:33 ep 155 /400 |   0.256702    0.256702    0.000000 |   0.000000    0.0000e+00 |   0.5875                 |   0.286676    0.286676    0.000000 |   0.5484                 |   0.001000   0.000000 |\n",
      "17:23:46 ep 156 /400 |   0.257072    0.257072    0.000000 |   0.000000    0.0000e+00 |   0.5815                 |   0.286382    0.286382    0.000000 |   0.5491                 |   0.001000   0.000000 |\n",
      "17:26:00 ep 157 /400 |   0.256602    0.256602    0.000000 |   0.000000    0.0000e+00 |   0.5836                 |   0.291867    0.291867    0.000000 |   0.4840                 |   0.001000   0.000000 |\n",
      "17:28:15 ep 158 /400 |   0.259841    0.259841    0.000000 |   0.000000    0.0000e+00 |   0.5806                 |   0.295773    0.295773    0.000000 |   0.5405                 |   0.001000   0.000000 |\n",
      "17:30:29 ep 159 /400 |   0.259167    0.259167    0.000000 |   0.000000    0.0000e+00 |   0.5807                 |   0.287875    0.287875    0.000000 |   0.4955                 |   0.001000   0.000000 |\n",
      "17:32:44 ep 160 /400 |   0.257237    0.257237    0.000000 |   0.000000    0.0000e+00 |   0.5737                 |   0.286168    0.286168    0.000000 |   0.5138                 |   0.001000   0.000000 |\n",
      "17:34:59 ep 161 /400 |   0.255167    0.255167    0.000000 |   0.000000    0.0000e+00 |   0.5842                 |   0.286639    0.286639    0.000000 |   0.5179                 |   0.001000   0.000000 |\n",
      "17:37:07 ep 162 /400 |   0.259393    0.259393    0.000000 |   0.000000    0.0000e+00 |   0.5748                 |   0.289825    0.289825    0.000000 |   0.5275                 |   0.001000   0.000000 |\n",
      "17:39:11 ep 163 /400 |   0.261461    0.261461    0.000000 |   0.000000    0.0000e+00 |   0.5793                 |   0.291575    0.291575    0.000000 |   0.4723                 |   0.001000   0.000000 |\n",
      "17:41:15 ep 164 /400 |   0.260840    0.260840    0.000000 |   0.000000    0.0000e+00 |   0.5782                 |   0.286770    0.286770    0.000000 |   0.4903                 |   0.001000   0.000000 |\n",
      "17:43:18 ep 165 /400 |   0.257202    0.257202    0.000000 |   0.000000    0.0000e+00 |   0.5862                 |   0.286034    0.286034    0.000000 |   0.5511                 |   0.001000   0.000000 |\n",
      "17:45:22 ep 166 /400 |   0.256325    0.256325    0.000000 |   0.000000    0.0000e+00 |   0.5836                 |   0.289927    0.289927    0.000000 |   0.5102                 |   0.001000   0.000000 |\n",
      "17:47:26 ep 167 /400 |   0.259504    0.259504    0.000000 |   0.000000    0.0000e+00 |   0.5774                 |   0.287850    0.287850    0.000000 |   0.5384                 |   0.001000   0.000000 |\n",
      "17:49:30 ep 168 /400 |   0.256491    0.256491    0.000000 |   0.000000    0.0000e+00 |   0.5811                 |   0.287423    0.287423    0.000000 |   0.5386                 |   0.001000   0.000000 |\n",
      "17:51:34 ep 169 /400 |   0.258815    0.258815    0.000000 |   0.000000    0.0000e+00 |   0.5766                 |   0.287656    0.287656    0.000000 |   0.5216                 |   0.001000   0.000000 |\n",
      "17:53:38 ep 170 /400 |   0.255476    0.255476    0.000000 |   0.000000    0.0000e+00 |   0.5866                 |   0.284592    0.284592    0.000000 |   0.5310                 |   0.001000   0.000000 |\n",
      "17:55:46 ep 171 /400 |   0.257268    0.257268    0.000000 |   0.000000    0.0000e+00 |   0.5831                 |   0.286464    0.286464    0.000000 |   0.5210                 |   0.001000   0.000000 |\n",
      "17:57:54 ep 172 /400 |   0.258250    0.258250    0.000000 |   0.000000    0.0000e+00 |   0.5756                 |   0.286673    0.286673    0.000000 |   0.4925                 |   0.001000   0.000000 |\n",
      "18:00:00 ep 173 /400 |   0.256496    0.256496    0.000000 |   0.000000    0.0000e+00 |   0.5809                 |   0.289265    0.289265    0.000000 |   0.5661                 |   0.001000   0.000000 |\n",
      "18:02:06 ep 174 /400 |   0.256297    0.256297    0.000000 |   0.000000    0.0000e+00 |   0.5882                 |   0.290864    0.290864    0.000000 |   0.5020                 |   0.001000   0.000000 |\n",
      "18:04:13 ep 175 /400 |   0.254503    0.254503    0.000000 |   0.000000    0.0000e+00 |   0.5851                 |   0.288172    0.288172    0.000000 |   0.4667                 |   0.001000   0.000000 |\n",
      "18:06:18 ep 176 /400 |   0.255602    0.255602    0.000000 |   0.000000    0.0000e+00 |   0.5850                 |   0.285629    0.285629    0.000000 |   0.5338                 |   0.001000   0.000000 |\n",
      "18:08:25 ep 177 /400 |   0.258132    0.258132    0.000000 |   0.000000    0.0000e+00 |   0.5841                 |   0.287987    0.287987    0.000000 |   0.4958                 |   0.001000   0.000000 |\n",
      "18:10:31 ep 178 /400 |   0.257653    0.257653    0.000000 |   0.000000    0.0000e+00 |   0.5810                 |   0.287517    0.287517    0.000000 |   0.4588                 |   0.001000   0.000000 |\n",
      "18:12:37 ep 179 /400 |   0.257672    0.257672    0.000000 |   0.000000    0.0000e+00 |   0.5819                 |   0.291558    0.291558    0.000000 |   0.4941                 |   0.001000   0.000000 |\n",
      "18:14:44 ep 180 /400 |   0.254745    0.254745    0.000000 |   0.000000    0.0000e+00 |   0.5826                 |   0.286633    0.286633    0.000000 |   0.4877                 |   0.001000   0.000000 |\n",
      "18:16:49 ep 181 /400 |   0.253880    0.253880    0.000000 |   0.000000    0.0000e+00 |   0.5834                 |   0.287502    0.287502    0.000000 |   0.5025                 |   0.001000   0.000000 |\n",
      "18:18:53 ep 182 /400 |   0.257792    0.257792    0.000000 |   0.000000    0.0000e+00 |   0.5798                 |   0.291490    0.291490    0.000000 |   0.4650                 |   0.001000   0.000000 |\n",
      "18:20:57 ep 183 /400 |   0.259262    0.259262    0.000000 |   0.000000    0.0000e+00 |   0.5777                 |   0.288188    0.288188    0.000000 |   0.5459                 |   0.001000   0.000000 |\n",
      "18:22:59 ep 184 /400 |   0.254738    0.254738    0.000000 |   0.000000    0.0000e+00 |   0.5875                 |   0.284237    0.284237    0.000000 |   0.5146                 |   0.001000   0.000000 |\n",
      "18:25:03 ep 185 /400 |   0.253688    0.253688    0.000000 |   0.000000    0.0000e+00 |   0.5867                 |   0.286712    0.286712    0.000000 |   0.5154                 |   0.001000   0.000000 |\n",
      "18:27:07 ep 186 /400 |   0.255875    0.255875    0.000000 |   0.000000    0.0000e+00 |   0.5838                 |   0.288589    0.288589    0.000000 |   0.5246                 |   0.001000   0.000000 |\n",
      "18:29:11 ep 187 /400 |   0.257341    0.257341    0.000000 |   0.000000    0.0000e+00 |   0.5841                 |   0.292133    0.292133    0.000000 |   0.5219                 |   0.001000   0.000000 |\n",
      "18:31:14 ep 188 /400 |   0.255487    0.255487    0.000000 |   0.000000    0.0000e+00 |   0.5856                 |   0.287286    0.287286    0.000000 |   0.5205                 |   0.001000   0.000000 |\n",
      "18:33:17 ep 189 /400 |   0.254989    0.254989    0.000000 |   0.000000    0.0000e+00 |   0.5824                 |   0.285982    0.285982    0.000000 |   0.5532                 |   0.001000   0.000000 |\n",
      "18:35:20 ep 190 /400 |   0.254675    0.254675    0.000000 |   0.000000    0.0000e+00 |   0.5788                 |   0.285090    0.285090    0.000000 |   0.5226                 |   0.001000   0.000000 |\n",
      "18:37:23 ep 191 /400 |   0.256388    0.256388    0.000000 |   0.000000    0.0000e+00 |   0.5826                 |   0.294176    0.294176    0.000000 |   0.5173                 |   0.001000   0.000000 |\n",
      "18:39:27 ep 192 /400 |   0.255423    0.255423    0.000000 |   0.000000    0.0000e+00 |   0.5863                 |   0.284463    0.284463    0.000000 |   0.5443                 |   0.001000   0.000000 |\n",
      "18:41:32 ep 193 /400 |   0.253924    0.253924    0.000000 |   0.000000    0.0000e+00 |   0.5881                 |   0.286974    0.286974    0.000000 |   0.5281                 |   0.001000   0.000000 |\n",
      "18:43:35 ep 194 /400 |   0.253804    0.253804    0.000000 |   0.000000    0.0000e+00 |   0.5888                 |   0.288526    0.288526    0.000000 |   0.5707                 |   0.001000   0.000000 |\n",
      "18:45:38 ep 195 /400 |   0.254417    0.254417    0.000000 |   0.000000    0.0000e+00 |   0.5868                 |   0.288136    0.288136    0.000000 |   0.5058                 |   0.001000   0.000000 |\n",
      "18:47:42 ep 196 /400 |   0.256308    0.256308    0.000000 |   0.000000    0.0000e+00 |   0.5825                 |   0.288032    0.288032    0.000000 |   0.5179                 |   0.001000   0.000000 |\n",
      "18:49:45 ep 197 /400 |   0.256316    0.256316    0.000000 |   0.000000    0.0000e+00 |   0.5814                 |   0.286506    0.286506    0.000000 |   0.4997                 |   0.001000   0.000000 |\n",
      "18:51:50 ep 198 /400 |   0.255165    0.255165    0.000000 |   0.000000    0.0000e+00 |   0.5895                 |   0.301567    0.301567    0.000000 |   0.4881                 |   0.001000   0.000000 |\n",
      "18:53:53 ep 199 /400 |   0.260784    0.260784    0.000000 |   0.000000    0.0000e+00 |   0.5776                 |   0.287227    0.287227    0.000000 |   0.5157                 |   0.001000   0.000000 |\n",
      "18:56:00 ep 200 /400 |   0.253090    0.253090    0.000000 |   0.000000    0.0000e+00 |   0.5879                 |   0.283509    0.283509    0.000000 |   0.5437                 |   0.001000   0.000000 |\n",
      "18:58:05 ep 201 /400 |   0.254203    0.254203    0.000000 |   0.000000    0.0000e+00 |   0.5824                 |   0.285872    0.285872    0.000000 |   0.5624                 |   0.001000   0.000000 |\n",
      "19:00:07 ep 202 /400 |   0.256122    0.256122    0.000000 |   0.000000    0.0000e+00 |   0.5834                 |   0.285815    0.285815    0.000000 |   0.5220                 |   0.001000   0.000000 |\n",
      "19:02:10 ep 203 /400 |   0.254631    0.254631    0.000000 |   0.000000    0.0000e+00 |   0.5849                 |   0.287179    0.287179    0.000000 |   0.5333                 |   0.001000   0.000000 |\n",
      "19:04:14 ep 204 /400 |   0.254585    0.254585    0.000000 |   0.000000    0.0000e+00 |   0.5862                 |   0.287152    0.287152    0.000000 |   0.4653                 |   0.001000   0.000000 |\n",
      "19:06:18 ep 205 /400 |   0.252942    0.252942    0.000000 |   0.000000    0.0000e+00 |   0.5891                 |   0.284514    0.284514    0.000000 |   0.5468                 |   0.001000   0.000000 |\n",
      "19:08:21 ep 206 /400 |   0.254120    0.254120    0.000000 |   0.000000    0.0000e+00 |   0.5831                 |   0.283958    0.283958    0.000000 |   0.4968                 |   0.001000   0.000000 |\n",
      "19:10:28 ep 207 /400 |   0.254507    0.254507    0.000000 |   0.000000    0.0000e+00 |   0.5869                 |   0.288504    0.288504    0.000000 |   0.4752                 |   0.001000   0.000000 |\n",
      "19:12:34 ep 208 /400 |   0.253932    0.253932    0.000000 |   0.000000    0.0000e+00 |   0.5815                 |   0.286391    0.286391    0.000000 |   0.5671                 |   0.001000   0.000000 |\n",
      "19:14:38 ep 209 /400 |   0.256469    0.256469    0.000000 |   0.000000    0.0000e+00 |   0.5825                 |   0.287858    0.287858    0.000000 |   0.5084                 |   0.001000   0.000000 |\n",
      "19:16:45 ep 210 /400 |   0.255528    0.255528    0.000000 |   0.000000    0.0000e+00 |   0.5841                 |   0.287701    0.287701    0.000000 |   0.4799                 |   0.001000   0.000000 |\n",
      "19:18:54 ep 211 /400 |   0.253891    0.253891    0.000000 |   0.000000    0.0000e+00 |   0.5848                 |   0.288539    0.288539    0.000000 |   0.5500                 |   0.001000   0.000000 |\n",
      "19:21:03 ep 212 /400 |   0.255941    0.255941    0.000000 |   0.000000    0.0000e+00 |   0.5821                 |   0.285396    0.285396    0.000000 |   0.5428                 |   0.001000   0.000000 |\n",
      "19:23:13 ep 213 /400 |   0.253033    0.253033    0.000000 |   0.000000    0.0000e+00 |   0.5879                 |   0.284676    0.284676    0.000000 |   0.5045                 |   0.001000   0.000000 |\n",
      "19:25:23 ep 214 /400 |   0.253699    0.253699    0.000000 |   0.000000    0.0000e+00 |   0.5864                 |   0.287888    0.287888    0.000000 |   0.5165                 |   0.001000   0.000000 |\n",
      "19:27:31 ep 215 /400 |   0.256145    0.256145    0.000000 |   0.000000    0.0000e+00 |   0.5763                 |   0.293496    0.293496    0.000000 |   0.5267                 |   0.001000   0.000000 |\n",
      "19:29:42 ep 216 /400 |   0.253512    0.253512    0.000000 |   0.000000    0.0000e+00 |   0.5880                 |   0.289294    0.289294    0.000000 |   0.5316                 |   0.001000   0.000000 |\n",
      "19:31:52 ep 217 /400 |   0.253246    0.253246    0.000000 |   0.000000    0.0000e+00 |   0.5870                 |   0.284413    0.284413    0.000000 |   0.5496                 |   0.001000   0.000000 |\n",
      "19:34:01 ep 218 /400 |   0.254840    0.254840    0.000000 |   0.000000    0.0000e+00 |   0.5836                 |   0.287343    0.287343    0.000000 |   0.5618                 |   0.001000   0.000000 |\n",
      "19:36:08 ep 219 /400 |   0.253306    0.253306    0.000000 |   0.000000    0.0000e+00 |   0.5880                 |   0.285122    0.285122    0.000000 |   0.4947                 |   0.001000   0.000000 |\n",
      "19:38:14 ep 220 /400 |   0.253767    0.253767    0.000000 |   0.000000    0.0000e+00 |   0.5825                 |   0.288639    0.288639    0.000000 |   0.5151                 |   0.001000   0.000000 |\n",
      "19:40:21 ep 221 /400 |   0.257170    0.257170    0.000000 |   0.000000    0.0000e+00 |   0.5810                 |   0.291011    0.291011    0.000000 |   0.5316                 |   0.001000   0.000000 |\n",
      "19:42:28 ep 222 /400 |   0.255809    0.255809    0.000000 |   0.000000    0.0000e+00 |   0.5787                 |   0.285544    0.285544    0.000000 |   0.5060                 |   0.001000   0.000000 |\n",
      "19:44:35 ep 223 /400 |   0.251876    0.251876    0.000000 |   0.000000    0.0000e+00 |   0.5913                 |   0.285186    0.285186    0.000000 |   0.4915                 |   0.001000   0.000000 |\n",
      "19:46:43 ep 224 /400 |   0.251082    0.251082    0.000000 |   0.000000    0.0000e+00 |   0.5824                 |   0.289388    0.289388    0.000000 |   0.5502                 |   0.001000   0.000000 |\n",
      "19:48:49 ep 225 /400 |   0.252998    0.252998    0.000000 |   0.000000    0.0000e+00 |   0.5867                 |   0.285601    0.285601    0.000000 |   0.5201                 |   0.001000   0.000000 |\n",
      "19:50:58 ep 226 /400 |   0.253153    0.253153    0.000000 |   0.000000    0.0000e+00 |   0.5899                 |   0.292313    0.292313    0.000000 |   0.5522                 |   0.001000   0.000000 |\n",
      "19:53:05 ep 227 /400 |   0.257731    0.257731    0.000000 |   0.000000    0.0000e+00 |   0.5767                 |   0.289381    0.289381    0.000000 |   0.5071                 |   0.001000   0.000000 |\n",
      "19:55:12 ep 228 /400 |   0.253894    0.253894    0.000000 |   0.000000    0.0000e+00 |   0.5807                 |   0.285096    0.285096    0.000000 |   0.5009                 |   0.001000   0.000000 |\n",
      "19:57:19 ep 229 /400 |   0.253895    0.253895    0.000000 |   0.000000    0.0000e+00 |   0.5833                 |   0.286078    0.286078    0.000000 |   0.5492                 |   0.001000   0.000000 |\n",
      "19:59:27 ep 230 /400 |   0.251489    0.251489    0.000000 |   0.000000    0.0000e+00 |   0.5881                 |   0.283899    0.283899    0.000000 |   0.5456                 |   0.001000   0.000000 |\n",
      "20:01:36 ep 231 /400 |   0.253094    0.253094    0.000000 |   0.000000    0.0000e+00 |   0.5884                 |   0.288967    0.288967    0.000000 |   0.5432                 |   0.001000   0.000000 |\n",
      "20:03:45 ep 232 /400 |   0.253662    0.253662    0.000000 |   0.000000    0.0000e+00 |   0.5846                 |   0.287099    0.287099    0.000000 |   0.5142                 |   0.001000   0.000000 |\n",
      "20:05:53 ep 233 /400 |   0.254110    0.254110    0.000000 |   0.000000    0.0000e+00 |   0.5895                 |   0.282520    0.282520    0.000000 |   0.5325                 |   0.001000   0.000000 |\n",
      "20:08:02 ep 234 /400 |   0.251914    0.251914    0.000000 |   0.000000    0.0000e+00 |   0.5852                 |   0.283813    0.283813    0.000000 |   0.5419                 |   0.001000   0.000000 |\n",
      "20:10:12 ep 235 /400 |   0.255975    0.255975    0.000000 |   0.000000    0.0000e+00 |   0.5803                 |   0.290136    0.290136    0.000000 |   0.5124                 |   0.001000   0.000000 |\n",
      "20:12:19 ep 236 /400 |   0.254640    0.254640    0.000000 |   0.000000    0.0000e+00 |   0.5917                 |   0.290893    0.290893    0.000000 |   0.5540                 |   0.001000   0.000000 |\n",
      "20:14:30 ep 237 /400 |   0.253322    0.253322    0.000000 |   0.000000    0.0000e+00 |   0.5782                 |   0.284988    0.284988    0.000000 |   0.5394                 |   0.001000   0.000000 |\n",
      "20:16:37 ep 238 /400 |   0.251323    0.251323    0.000000 |   0.000000    0.0000e+00 |   0.5946                 |   0.285658    0.285658    0.000000 |   0.5408                 |   0.001000   0.000000 |\n",
      "20:18:42 ep 239 /400 |   0.252029    0.252029    0.000000 |   0.000000    0.0000e+00 |   0.5851                 |   0.285516    0.285516    0.000000 |   0.5430                 |   0.001000   0.000000 |\n",
      "20:20:52 ep 240 /400 |   0.252475    0.252475    0.000000 |   0.000000    0.0000e+00 |   0.5828                 |   0.288982    0.288982    0.000000 |   0.5231                 |   0.001000   0.000000 |\n",
      "20:22:59 ep 241 /400 |   0.256744    0.256744    0.000000 |   0.000000    0.0000e+00 |   0.5841                 |   0.292049    0.292049    0.000000 |   0.5290                 |   0.001000   0.000000 |\n",
      "20:25:06 ep 242 /400 |   0.254884    0.254884    0.000000 |   0.000000    0.0000e+00 |   0.5840                 |   0.288625    0.288625    0.000000 |   0.4661                 |   0.001000   0.000000 |\n",
      "20:27:14 ep 243 /400 |   0.250081    0.250081    0.000000 |   0.000000    0.0000e+00 |   0.5910                 |   0.284519    0.284519    0.000000 |   0.5119                 |   0.001000   0.000000 |\n",
      "20:29:21 ep 244 /400 |   0.251064    0.251064    0.000000 |   0.000000    0.0000e+00 |   0.5908                 |   0.286464    0.286464    0.000000 |   0.5346                 |   0.001000   0.000000 |\n",
      "20:31:29 ep 245 /400 |   0.254129    0.254129    0.000000 |   0.000000    0.0000e+00 |   0.5796                 |   0.291484    0.291484    0.000000 |   0.5159                 |   0.001000   0.000000 |\n",
      "20:33:40 ep 246 /400 |   0.254412    0.254412    0.000000 |   0.000000    0.0000e+00 |   0.5875                 |   0.294108    0.294108    0.000000 |   0.5336                 |   0.001000   0.000000 |\n",
      "20:35:48 ep 247 /400 |   0.251829    0.251829    0.000000 |   0.000000    0.0000e+00 |   0.5843                 |   0.290994    0.290994    0.000000 |   0.5400                 |   0.001000   0.000000 |\n",
      "20:37:54 ep 248 /400 |   0.250793    0.250793    0.000000 |   0.000000    0.0000e+00 |   0.5873                 |   0.287380    0.287380    0.000000 |   0.5401                 |   0.001000   0.000000 |\n",
      "20:40:02 ep 249 /400 |   0.252133    0.252133    0.000000 |   0.000000    0.0000e+00 |   0.5901                 |   0.291150    0.291150    0.000000 |   0.5124                 |   0.001000   0.000000 |\n",
      "20:42:13 ep 250 /400 |   0.254790    0.254790    0.000000 |   0.000000    0.0000e+00 |   0.5849                 |   0.284518    0.284518    0.000000 |   0.5362                 |   0.001000   0.000000 |\n",
      "20:44:20 ep 251 /400 |   0.251431    0.251431    0.000000 |   0.000000    0.0000e+00 |   0.5855                 |   0.285744    0.285744    0.000000 |   0.4836                 |   0.001000   0.000000 |\n",
      "20:46:27 ep 252 /400 |   0.253910    0.253910    0.000000 |   0.000000    0.0000e+00 |   0.5840                 |   0.284779    0.284779    0.000000 |   0.5311                 |   0.001000   0.000000 |\n",
      "20:48:34 ep 253 /400 |   0.252754    0.252754    0.000000 |   0.000000    0.0000e+00 |   0.5914                 |   0.288101    0.288101    0.000000 |   0.5482                 |   0.001000   0.000000 |\n",
      "20:50:42 ep 254 /400 |   0.252844    0.252844    0.000000 |   0.000000    0.0000e+00 |   0.5877                 |   0.284897    0.284897    0.000000 |   0.5316                 |   0.001000   0.000000 |\n",
      "20:52:49 ep 255 /400 |   0.250602    0.250602    0.000000 |   0.000000    0.0000e+00 |   0.5860                 |   0.287312    0.287312    0.000000 |   0.4876                 |   0.001000   0.000000 |\n",
      "20:54:59 ep 256 /400 |   0.251487    0.251487    0.000000 |   0.000000    0.0000e+00 |   0.5933                 |   0.284565    0.284565    0.000000 |   0.4965                 |   0.001000   0.000000 |\n",
      "20:57:11 ep 257 /400 |   0.253257    0.253257    0.000000 |   0.000000    0.0000e+00 |   0.5834                 |   0.289260    0.289260    0.000000 |   0.5059                 |   0.001000   0.000000 |\n",
      "20:59:19 ep 258 /400 |   0.253294    0.253294    0.000000 |   0.000000    0.0000e+00 |   0.5850                 |   0.290099    0.290099    0.000000 |   0.5229                 |   0.001000   0.000000 |\n",
      "21:01:29 ep 259 /400 |   0.252224    0.252224    0.000000 |   0.000000    0.0000e+00 |   0.5869                 |   0.287185    0.287185    0.000000 |   0.5002                 |   0.001000   0.000000 |\n",
      "21:03:38 ep 260 /400 |   0.251166    0.251166    0.000000 |   0.000000    0.0000e+00 |   0.5884                 |   0.289778    0.289778    0.000000 |   0.4967                 |   0.001000   0.000000 |\n",
      "21:05:47 ep 261 /400 |   0.254285    0.254285    0.000000 |   0.000000    0.0000e+00 |   0.5850                 |   0.288573    0.288573    0.000000 |   0.5206                 |   0.001000   0.000000 |\n",
      "21:07:56 ep 262 /400 |   0.252157    0.252157    0.000000 |   0.000000    0.0000e+00 |   0.5895                 |   0.286572    0.286572    0.000000 |   0.5316                 |   0.001000   0.000000 |\n",
      "21:10:05 ep 263 /400 |   0.250936    0.250936    0.000000 |   0.000000    0.0000e+00 |   0.5945                 |   0.284384    0.284384    0.000000 |   0.5188                 |   0.001000   0.000000 |\n",
      "21:12:13 ep 264 /400 |   0.250888    0.250888    0.000000 |   0.000000    0.0000e+00 |   0.5891                 |   0.289064    0.289064    0.000000 |   0.4828                 |   0.001000   0.000000 |\n",
      "21:14:22 ep 265 /400 |   0.252718    0.252718    0.000000 |   0.000000    0.0000e+00 |   0.5903                 |   0.287541    0.287541    0.000000 |   0.5558                 |   0.001000   0.000000 |\n",
      "21:16:28 ep 266 /400 |   0.252690    0.252690    0.000000 |   0.000000    0.0000e+00 |   0.5861                 |   0.293636    0.293636    0.000000 |   0.4617                 |   0.001000   0.000000 |\n",
      "21:18:38 ep 267 /400 |   0.253659    0.253659    0.000000 |   0.000000    0.0000e+00 |   0.5860                 |   0.290271    0.290271    0.000000 |   0.5648                 |   0.001000   0.000000 |\n",
      "21:20:49 ep 268 /400 |   0.252594    0.252594    0.000000 |   0.000000    0.0000e+00 |   0.5786                 |   0.286087    0.286087    0.000000 |   0.5535                 |   0.001000   0.000000 |\n",
      "21:23:00 ep 269 /400 |   0.250780    0.250780    0.000000 |   0.000000    0.0000e+00 |   0.5922                 |   0.287675    0.287675    0.000000 |   0.5255                 |   0.001000   0.000000 |\n",
      "21:25:10 ep 270 /400 |   0.250129    0.250129    0.000000 |   0.000000    0.0000e+00 |   0.5920                 |   0.286266    0.286266    0.000000 |   0.5359                 |   0.001000   0.000000 |\n",
      "21:27:19 ep 271 /400 |   0.250711    0.250711    0.000000 |   0.000000    0.0000e+00 |   0.5895                 |   0.284998    0.284998    0.000000 |   0.5481                 |   0.001000   0.000000 |\n",
      "21:29:29 ep 272 /400 |   0.257433    0.257433    0.000000 |   0.000000    0.0000e+00 |   0.5821                 |   0.290917    0.290917    0.000000 |   0.5239                 |   0.001000   0.000000 |\n",
      "21:31:37 ep 273 /400 |   0.252875    0.252875    0.000000 |   0.000000    0.0000e+00 |   0.5885                 |   0.287283    0.287283    0.000000 |   0.5752                 |   0.001000   0.000000 |\n",
      "21:33:46 ep 274 /400 |   0.250042    0.250042    0.000000 |   0.000000    0.0000e+00 |   0.5879                 |   0.286812    0.286812    0.000000 |   0.5491                 |   0.001000   0.000000 |\n",
      "21:35:55 ep 275 /400 |   0.250178    0.250178    0.000000 |   0.000000    0.0000e+00 |   0.5937                 |   0.284008    0.284008    0.000000 |   0.5008                 |   0.001000   0.000000 |\n",
      "21:38:05 ep 276 /400 |   0.250673    0.250673    0.000000 |   0.000000    0.0000e+00 |   0.5850                 |   0.288285    0.288285    0.000000 |   0.5154                 |   0.001000   0.000000 |\n",
      "21:40:15 ep 277 /400 |   0.256746    0.256746    0.000000 |   0.000000    0.0000e+00 |   0.5853                 |   0.289233    0.289233    0.000000 |   0.5125                 |   0.001000   0.000000 |\n",
      "21:42:23 ep 278 /400 |   0.251051    0.251051    0.000000 |   0.000000    0.0000e+00 |   0.5940                 |   0.284911    0.284911    0.000000 |   0.5047                 |   0.001000   0.000000 |\n",
      "21:44:38 ep 279 /400 |   0.248317    0.248317    0.000000 |   0.000000    0.0000e+00 |   0.5908                 |   0.283942    0.283942    0.000000 |   0.5473                 |   0.001000   0.000000 |\n",
      "21:46:47 ep 280 /400 |   0.250500    0.250500    0.000000 |   0.000000    0.0000e+00 |   0.5871                 |   0.287833    0.287833    0.000000 |   0.5661                 |   0.001000   0.000000 |\n",
      "21:48:55 ep 281 /400 |   0.254696    0.254696    0.000000 |   0.000000    0.0000e+00 |   0.5863                 |   0.289156    0.289156    0.000000 |   0.5362                 |   0.001000   0.000000 |\n",
      "21:51:08 ep 282 /400 |   0.253903    0.253903    0.000000 |   0.000000    0.0000e+00 |   0.5817                 |   0.292334    0.292334    0.000000 |   0.5345                 |   0.001000   0.000000 |\n",
      "21:53:20 ep 283 /400 |   0.252562    0.252562    0.000000 |   0.000000    0.0000e+00 |   0.5817                 |   0.285090    0.285090    0.000000 |   0.5328                 |   0.001000   0.000000 |\n",
      "21:55:30 ep 284 /400 |   0.251404    0.251404    0.000000 |   0.000000    0.0000e+00 |   0.5837                 |   0.285426    0.285426    0.000000 |   0.5324                 |   0.001000   0.000000 |\n",
      "21:57:40 ep 285 /400 |   0.243803    0.243803    0.000000 |   0.000000    0.0000e+00 |   0.6053                 |   0.278830    0.278830    0.000000 |   0.5445                 |   0.000500   0.000000 |\n",
      "21:59:49 ep 286 /400 |   0.240812    0.240812    0.000000 |   0.000000    0.0000e+00 |   0.6109                 |   0.278288    0.278288    0.000000 |   0.5548                 |   0.000500   0.000000 |\n",
      "22:02:02 ep 287 /400 |   0.240208    0.240208    0.000000 |   0.000000    0.0000e+00 |   0.6096                 |   0.279662    0.279662    0.000000 |   0.5440                 |   0.000500   0.000000 |\n",
      "22:04:14 ep 288 /400 |   0.240104    0.240104    0.000000 |   0.000000    0.0000e+00 |   0.6150                 |   0.278568    0.278568    0.000000 |   0.5471                 |   0.000500   0.000000 |\n",
      "22:06:21 ep 289 /400 |   0.240423    0.240423    0.000000 |   0.000000    0.0000e+00 |   0.6066                 |   0.278598    0.278598    0.000000 |   0.5506                 |   0.000500   0.000000 |\n",
      "22:08:33 ep 290 /400 |   0.240507    0.240507    0.000000 |   0.000000    0.0000e+00 |   0.6138                 |   0.278475    0.278475    0.000000 |   0.5428                 |   0.000500   0.000000 |\n",
      "22:10:43 ep 291 /400 |   0.240439    0.240439    0.000000 |   0.000000    0.0000e+00 |   0.6090                 |   0.279263    0.279263    0.000000 |   0.5078                 |   0.000500   0.000000 |\n",
      "22:12:54 ep 292 /400 |   0.240289    0.240289    0.000000 |   0.000000    0.0000e+00 |   0.6115                 |   0.280300    0.280300    0.000000 |   0.5616                 |   0.000500   0.000000 |\n",
      "22:15:04 ep 293 /400 |   0.240328    0.240328    0.000000 |   0.000000    0.0000e+00 |   0.6075                 |   0.278534    0.278534    0.000000 |   0.5453                 |   0.000500   0.000000 |\n",
      "22:17:16 ep 294 /400 |   0.240009    0.240009    0.000000 |   0.000000    0.0000e+00 |   0.6121                 |   0.278802    0.278802    0.000000 |   0.5478                 |   0.000500   0.000000 |\n",
      "22:19:27 ep 295 /400 |   0.239761    0.239761    0.000000 |   0.000000    0.0000e+00 |   0.6098                 |   0.279526    0.279526    0.000000 |   0.5260                 |   0.000500   0.000000 |\n",
      "22:21:37 ep 296 /400 |   0.239826    0.239826    0.000000 |   0.000000    0.0000e+00 |   0.6089                 |   0.278864    0.278864    0.000000 |   0.5517                 |   0.000500   0.000000 |\n",
      "22:23:44 ep 297 /400 |   0.239539    0.239539    0.000000 |   0.000000    0.0000e+00 |   0.6123                 |   0.279546    0.279546    0.000000 |   0.5413                 |   0.000500   0.000000 |\n",
      "22:25:50 ep 298 /400 |   0.239936    0.239936    0.000000 |   0.000000    0.0000e+00 |   0.6134                 |   0.279745    0.279745    0.000000 |   0.5458                 |   0.000500   0.000000 |\n",
      "22:27:55 ep 299 /400 |   0.239663    0.239663    0.000000 |   0.000000    0.0000e+00 |   0.6105                 |   0.279055    0.279055    0.000000 |   0.5636                 |   0.000500   0.000000 |\n",
      "22:30:00 ep 300 /400 |   0.239348    0.239348    0.000000 |   0.000000    0.0000e+00 |   0.6149                 |   0.279226    0.279226    0.000000 |   0.5309                 |   0.000500   0.000000 |\n",
      "09:54:32 ep 301 /400 |   0.239583    0.239583    0.000000 |   0.000000    0.0000e+00 |   0.6079                 |   0.279919    0.279919    0.000000 |   0.5404                 |   0.000500   0.000000 |\n",
      "09:56:35 ep 302 /400 |   0.239790    0.239790    0.000000 |   0.000000    0.0000e+00 |   0.6127                 |   0.279446    0.279446    0.000000 |   0.5431                 |   0.000500   0.000000 |\n",
      "09:58:39 ep 303 /400 |   0.239667    0.239667    0.000000 |   0.000000    0.0000e+00 |   0.6174                 |   0.280098    0.280098    0.000000 |   0.5240                 |   0.000500   0.000000 |\n",
      "10:00:44 ep 304 /400 |   0.239608    0.239608    0.000000 |   0.000000    0.0000e+00 |   0.6062                 |   0.279935    0.279935    0.000000 |   0.5431                 |   0.000500   0.000000 |\n",
      "10:02:48 ep 305 /400 |   0.239155    0.239155    0.000000 |   0.000000    0.0000e+00 |   0.6144                 |   0.279691    0.279691    0.000000 |   0.5479                 |   0.000500   0.000000 |\n",
      "10:04:53 ep 306 /400 |   0.238972    0.238972    0.000000 |   0.000000    0.0000e+00 |   0.6122                 |   0.280107    0.280107    0.000000 |   0.5506                 |   0.000500   0.000000 |\n",
      "10:06:58 ep 307 /400 |   0.239211    0.239211    0.000000 |   0.000000    0.0000e+00 |   0.6153                 |   0.280304    0.280304    0.000000 |   0.5235                 |   0.000500   0.000000 |\n",
      "10:09:03 ep 308 /400 |   0.239363    0.239363    0.000000 |   0.000000    0.0000e+00 |   0.6066                 |   0.279185    0.279185    0.000000 |   0.5492                 |   0.000500   0.000000 |\n",
      "10:11:09 ep 309 /400 |   0.239167    0.239167    0.000000 |   0.000000    0.0000e+00 |   0.6130                 |   0.280700    0.280700    0.000000 |   0.5539                 |   0.000500   0.000000 |\n",
      "10:13:09 ep 310 /400 |   0.239181    0.239181    0.000000 |   0.000000    0.0000e+00 |   0.6117                 |   0.280225    0.280225    0.000000 |   0.5662                 |   0.000500   0.000000 |\n",
      "10:15:15 ep 311 /400 |   0.239303    0.239303    0.000000 |   0.000000    0.0000e+00 |   0.6116                 |   0.279570    0.279570    0.000000 |   0.5271                 |   0.000500   0.000000 |\n",
      "10:17:20 ep 312 /400 |   0.239014    0.239014    0.000000 |   0.000000    0.0000e+00 |   0.6160                 |   0.279077    0.279077    0.000000 |   0.5386                 |   0.000500   0.000000 |\n",
      "10:19:25 ep 313 /400 |   0.238871    0.238871    0.000000 |   0.000000    0.0000e+00 |   0.6137                 |   0.280300    0.280300    0.000000 |   0.5504                 |   0.000500   0.000000 |\n",
      "10:21:32 ep 314 /400 |   0.238722    0.238722    0.000000 |   0.000000    0.0000e+00 |   0.6157                 |   0.279982    0.279982    0.000000 |   0.5391                 |   0.000500   0.000000 |\n",
      "10:23:38 ep 315 /400 |   0.238545    0.238545    0.000000 |   0.000000    0.0000e+00 |   0.6109                 |   0.279701    0.279701    0.000000 |   0.5567                 |   0.000500   0.000000 |\n",
      "10:25:44 ep 316 /400 |   0.238623    0.238623    0.000000 |   0.000000    0.0000e+00 |   0.6086                 |   0.280281    0.280281    0.000000 |   0.5320                 |   0.000500   0.000000 |\n",
      "10:27:49 ep 317 /400 |   0.238854    0.238854    0.000000 |   0.000000    0.0000e+00 |   0.6130                 |   0.280718    0.280718    0.000000 |   0.5482                 |   0.000500   0.000000 |\n",
      "10:29:54 ep 318 /400 |   0.238657    0.238657    0.000000 |   0.000000    0.0000e+00 |   0.6125                 |   0.279774    0.279774    0.000000 |   0.5476                 |   0.000500   0.000000 |\n",
      "10:31:59 ep 319 /400 |   0.238518    0.238518    0.000000 |   0.000000    0.0000e+00 |   0.6081                 |   0.281037    0.281037    0.000000 |   0.5121                 |   0.000500   0.000000 |\n",
      "10:34:05 ep 320 /400 |   0.238664    0.238664    0.000000 |   0.000000    0.0000e+00 |   0.6132                 |   0.280245    0.280245    0.000000 |   0.5588                 |   0.000500   0.000000 |\n",
      "10:36:11 ep 321 /400 |   0.238618    0.238618    0.000000 |   0.000000    0.0000e+00 |   0.6144                 |   0.279578    0.279578    0.000000 |   0.5175                 |   0.000500   0.000000 |\n",
      "10:38:16 ep 322 /400 |   0.238408    0.238408    0.000000 |   0.000000    0.0000e+00 |   0.6114                 |   0.279493    0.279493    0.000000 |   0.5651                 |   0.000500   0.000000 |\n",
      "10:40:21 ep 323 /400 |   0.238133    0.238133    0.000000 |   0.000000    0.0000e+00 |   0.6157                 |   0.280475    0.280475    0.000000 |   0.5346                 |   0.000500   0.000000 |\n",
      "10:42:27 ep 324 /400 |   0.238517    0.238517    0.000000 |   0.000000    0.0000e+00 |   0.6099                 |   0.280175    0.280175    0.000000 |   0.5309                 |   0.000500   0.000000 |\n",
      "10:44:32 ep 325 /400 |   0.238815    0.238815    0.000000 |   0.000000    0.0000e+00 |   0.6096                 |   0.281369    0.281369    0.000000 |   0.5096                 |   0.000500   0.000000 |\n",
      "10:46:37 ep 326 /400 |   0.238297    0.238297    0.000000 |   0.000000    0.0000e+00 |   0.6133                 |   0.279971    0.279971    0.000000 |   0.5856                 |   0.000500   0.000000 |\n",
      "10:48:39 ep 327 /400 |   0.238327    0.238327    0.000000 |   0.000000    0.0000e+00 |   0.6149                 |   0.280285    0.280285    0.000000 |   0.5057                 |   0.000500   0.000000 |\n",
      "10:50:44 ep 328 /400 |   0.238392    0.238392    0.000000 |   0.000000    0.0000e+00 |   0.6108                 |   0.279756    0.279756    0.000000 |   0.5293                 |   0.000500   0.000000 |\n",
      "10:52:50 ep 329 /400 |   0.238142    0.238142    0.000000 |   0.000000    0.0000e+00 |   0.6089                 |   0.280150    0.280150    0.000000 |   0.5081                 |   0.000500   0.000000 |\n",
      "10:54:55 ep 330 /400 |   0.238294    0.238294    0.000000 |   0.000000    0.0000e+00 |   0.6113                 |   0.280307    0.280307    0.000000 |   0.5620                 |   0.000500   0.000000 |\n",
      "10:57:01 ep 331 /400 |   0.238101    0.238101    0.000000 |   0.000000    0.0000e+00 |   0.6166                 |   0.279783    0.279783    0.000000 |   0.4984                 |   0.000500   0.000000 |\n",
      "10:59:06 ep 332 /400 |   0.238209    0.238209    0.000000 |   0.000000    0.0000e+00 |   0.6076                 |   0.280437    0.280437    0.000000 |   0.5531                 |   0.000500   0.000000 |\n",
      "11:01:19 ep 333 /400 |   0.238015    0.238015    0.000000 |   0.000000    0.0000e+00 |   0.6157                 |   0.280969    0.280969    0.000000 |   0.5104                 |   0.000500   0.000000 |\n",
      "11:03:34 ep 334 /400 |   0.238152    0.238152    0.000000 |   0.000000    0.0000e+00 |   0.6110                 |   0.279453    0.279453    0.000000 |   0.5623                 |   0.000500   0.000000 |\n",
      "11:05:43 ep 335 /400 |   0.237949    0.237949    0.000000 |   0.000000    0.0000e+00 |   0.6137                 |   0.280827    0.280827    0.000000 |   0.5441                 |   0.000500   0.000000 |\n",
      "11:07:56 ep 336 /400 |   0.237988    0.237988    0.000000 |   0.000000    0.0000e+00 |   0.6156                 |   0.280248    0.280248    0.000000 |   0.5264                 |   0.000500   0.000000 |\n",
      "11:10:09 ep 337 /400 |   0.238755    0.238755    0.000000 |   0.000000    0.0000e+00 |   0.6121                 |   0.281277    0.281277    0.000000 |   0.5247                 |   0.000500   0.000000 |\n",
      "11:12:21 ep 338 /400 |   0.237928    0.237928    0.000000 |   0.000000    0.0000e+00 |   0.6109                 |   0.279492    0.279492    0.000000 |   0.5331                 |   0.000500   0.000000 |\n",
      "11:14:29 ep 339 /400 |   0.237582    0.237582    0.000000 |   0.000000    0.0000e+00 |   0.6108                 |   0.280507    0.280507    0.000000 |   0.5481                 |   0.000500   0.000000 |\n",
      "11:16:38 ep 340 /400 |   0.238084    0.238084    0.000000 |   0.000000    0.0000e+00 |   0.6148                 |   0.280338    0.280338    0.000000 |   0.5002                 |   0.000500   0.000000 |\n",
      "11:18:49 ep 341 /400 |   0.237939    0.237939    0.000000 |   0.000000    0.0000e+00 |   0.6185                 |   0.280451    0.280451    0.000000 |   0.5449                 |   0.000500   0.000000 |\n",
      "11:20:58 ep 342 /400 |   0.237871    0.237871    0.000000 |   0.000000    0.0000e+00 |   0.6085                 |   0.280438    0.280438    0.000000 |   0.5093                 |   0.000500   0.000000 |\n",
      "11:23:00 ep 343 /400 |   0.237927    0.237927    0.000000 |   0.000000    0.0000e+00 |   0.6120                 |   0.281760    0.281760    0.000000 |   0.5181                 |   0.000500   0.000000 |\n",
      "11:25:05 ep 344 /400 |   0.237626    0.237626    0.000000 |   0.000000    0.0000e+00 |   0.6117                 |   0.280605    0.280605    0.000000 |   0.5286                 |   0.000500   0.000000 |\n",
      "11:27:10 ep 345 /400 |   0.237405    0.237405    0.000000 |   0.000000    0.0000e+00 |   0.6200                 |   0.280348    0.280348    0.000000 |   0.5106                 |   0.000500   0.000000 |\n",
      "11:29:14 ep 346 /400 |   0.235415    0.235415    0.000000 |   0.000000    0.0000e+00 |   0.6185                 |   0.278638    0.278638    0.000000 |   0.5326                 |   0.000250   0.000000 |\n",
      "11:31:18 ep 347 /400 |   0.234217    0.234217    0.000000 |   0.000000    0.0000e+00 |   0.6239                 |   0.278583    0.278583    0.000000 |   0.5245                 |   0.000250   0.000000 |\n",
      "11:33:22 ep 348 /400 |   0.234004    0.234004    0.000000 |   0.000000    0.0000e+00 |   0.6238                 |   0.278700    0.278700    0.000000 |   0.5446                 |   0.000250   0.000000 |\n",
      "11:35:26 ep 349 /400 |   0.233811    0.233811    0.000000 |   0.000000    0.0000e+00 |   0.6230                 |   0.278645    0.278645    0.000000 |   0.5183                 |   0.000250   0.000000 |\n",
      "11:37:30 ep 350 /400 |   0.233733    0.233733    0.000000 |   0.000000    0.0000e+00 |   0.6236                 |   0.279029    0.279029    0.000000 |   0.5256                 |   0.000250   0.000000 |\n",
      "11:39:34 ep 351 /400 |   0.233872    0.233872    0.000000 |   0.000000    0.0000e+00 |   0.6231                 |   0.278906    0.278906    0.000000 |   0.5228                 |   0.000250   0.000000 |\n",
      "11:41:39 ep 352 /400 |   0.233825    0.233825    0.000000 |   0.000000    0.0000e+00 |   0.6236                 |   0.279094    0.279094    0.000000 |   0.5321                 |   0.000250   0.000000 |\n",
      "11:43:43 ep 353 /400 |   0.233810    0.233810    0.000000 |   0.000000    0.0000e+00 |   0.6225                 |   0.279185    0.279185    0.000000 |   0.5202                 |   0.000250   0.000000 |\n",
      "11:45:47 ep 354 /400 |   0.233641    0.233641    0.000000 |   0.000000    0.0000e+00 |   0.6249                 |   0.278957    0.278957    0.000000 |   0.5180                 |   0.000250   0.000000 |\n",
      "11:47:48 ep 355 /400 |   0.233530    0.233530    0.000000 |   0.000000    0.0000e+00 |   0.6227                 |   0.279359    0.279359    0.000000 |   0.5201                 |   0.000250   0.000000 |\n",
      "11:49:49 ep 356 /400 |   0.233531    0.233531    0.000000 |   0.000000    0.0000e+00 |   0.6239                 |   0.279003    0.279003    0.000000 |   0.5463                 |   0.000250   0.000000 |\n",
      "11:51:54 ep 357 /400 |   0.233500    0.233500    0.000000 |   0.000000    0.0000e+00 |   0.6217                 |   0.279320    0.279320    0.000000 |   0.5186                 |   0.000250   0.000000 |\n",
      "11:53:54 ep 358 /400 |   0.233467    0.233467    0.000000 |   0.000000    0.0000e+00 |   0.6241                 |   0.279587    0.279587    0.000000 |   0.5399                 |   0.000250   0.000000 |\n",
      "11:55:59 ep 359 /400 |   0.233469    0.233469    0.000000 |   0.000000    0.0000e+00 |   0.6224                 |   0.279270    0.279270    0.000000 |   0.5022                 |   0.000250   0.000000 |\n",
      "11:58:02 ep 360 /400 |   0.233409    0.233409    0.000000 |   0.000000    0.0000e+00 |   0.6250                 |   0.279670    0.279670    0.000000 |   0.5209                 |   0.000250   0.000000 |\n",
      "12:00:06 ep 361 /400 |   0.233236    0.233236    0.000000 |   0.000000    0.0000e+00 |   0.6202                 |   0.279169    0.279169    0.000000 |   0.5114                 |   0.000250   0.000000 |\n",
      "12:02:11 ep 362 /400 |   0.233230    0.233230    0.000000 |   0.000000    0.0000e+00 |   0.6265                 |   0.279278    0.279278    0.000000 |   0.5045                 |   0.000250   0.000000 |\n",
      "12:04:15 ep 363 /400 |   0.233472    0.233472    0.000000 |   0.000000    0.0000e+00 |   0.6224                 |   0.279180    0.279180    0.000000 |   0.5028                 |   0.000250   0.000000 |\n",
      "12:06:19 ep 364 /400 |   0.233269    0.233269    0.000000 |   0.000000    0.0000e+00 |   0.6238                 |   0.279522    0.279522    0.000000 |   0.5261                 |   0.000250   0.000000 |\n",
      "12:08:23 ep 365 /400 |   0.233113    0.233113    0.000000 |   0.000000    0.0000e+00 |   0.6245                 |   0.279718    0.279718    0.000000 |   0.5059                 |   0.000250   0.000000 |\n",
      "12:10:27 ep 366 /400 |   0.233124    0.233124    0.000000 |   0.000000    0.0000e+00 |   0.6223                 |   0.279228    0.279228    0.000000 |   0.5152                 |   0.000250   0.000000 |\n",
      "12:12:31 ep 367 /400 |   0.233087    0.233087    0.000000 |   0.000000    0.0000e+00 |   0.6228                 |   0.279745    0.279745    0.000000 |   0.5185                 |   0.000250   0.000000 |\n",
      "12:14:31 ep 368 /400 |   0.233212    0.233212    0.000000 |   0.000000    0.0000e+00 |   0.6233                 |   0.279714    0.279714    0.000000 |   0.5133                 |   0.000250   0.000000 |\n",
      "12:16:32 ep 369 /400 |   0.233249    0.233249    0.000000 |   0.000000    0.0000e+00 |   0.6206                 |   0.279251    0.279251    0.000000 |   0.5246                 |   0.000250   0.000000 |\n",
      "12:18:41 ep 370 /400 |   0.232993    0.232993    0.000000 |   0.000000    0.0000e+00 |   0.6265                 |   0.279984    0.279984    0.000000 |   0.5030                 |   0.000250   0.000000 |\n",
      "12:20:49 ep 371 /400 |   0.233010    0.233010    0.000000 |   0.000000    0.0000e+00 |   0.6236                 |   0.279739    0.279739    0.000000 |   0.5070                 |   0.000250   0.000000 |\n",
      "12:22:56 ep 372 /400 |   0.233085    0.233085    0.000000 |   0.000000    0.0000e+00 |   0.6237                 |   0.280054    0.280054    0.000000 |   0.4855                 |   0.000250   0.000000 |\n",
      "12:25:03 ep 373 /400 |   0.232962    0.232962    0.000000 |   0.000000    0.0000e+00 |   0.6224                 |   0.279887    0.279887    0.000000 |   0.5115                 |   0.000250   0.000000 |\n",
      "12:27:09 ep 374 /400 |   0.232876    0.232876    0.000000 |   0.000000    0.0000e+00 |   0.6248                 |   0.279986    0.279986    0.000000 |   0.5113                 |   0.000250   0.000000 |\n",
      "12:29:17 ep 375 /400 |   0.232920    0.232920    0.000000 |   0.000000    0.0000e+00 |   0.6213                 |   0.279659    0.279659    0.000000 |   0.5181                 |   0.000250   0.000000 |\n",
      "12:31:25 ep 376 /400 |   0.232823    0.232823    0.000000 |   0.000000    0.0000e+00 |   0.6226                 |   0.280111    0.280111    0.000000 |   0.4997                 |   0.000250   0.000000 |\n",
      "12:33:35 ep 377 /400 |   0.232795    0.232795    0.000000 |   0.000000    0.0000e+00 |   0.6240                 |   0.280272    0.280272    0.000000 |   0.5017                 |   0.000250   0.000000 |\n",
      "12:35:43 ep 378 /400 |   0.232797    0.232797    0.000000 |   0.000000    0.0000e+00 |   0.6237                 |   0.279598    0.279598    0.000000 |   0.5134                 |   0.000250   0.000000 |\n",
      "12:37:51 ep 379 /400 |   0.232818    0.232818    0.000000 |   0.000000    0.0000e+00 |   0.6197                 |   0.279989    0.279989    0.000000 |   0.5127                 |   0.000250   0.000000 |\n",
      "12:39:57 ep 380 /400 |   0.233032    0.233032    0.000000 |   0.000000    0.0000e+00 |   0.6248                 |   0.280222    0.280222    0.000000 |   0.4964                 |   0.000250   0.000000 |\n",
      "12:42:05 ep 381 /400 |   0.232792    0.232792    0.000000 |   0.000000    0.0000e+00 |   0.6215                 |   0.279935    0.279935    0.000000 |   0.5049                 |   0.000250   0.000000 |\n",
      "12:44:12 ep 382 /400 |   0.232764    0.232764    0.000000 |   0.000000    0.0000e+00 |   0.6240                 |   0.280018    0.280018    0.000000 |   0.5042                 |   0.000250   0.000000 |\n",
      "12:46:21 ep 383 /400 |   0.232763    0.232763    0.000000 |   0.000000    0.0000e+00 |   0.6224                 |   0.279996    0.279996    0.000000 |   0.5239                 |   0.000250   0.000000 |\n",
      "12:48:29 ep 384 /400 |   0.232685    0.232685    0.000000 |   0.000000    0.0000e+00 |   0.6226                 |   0.280594    0.280594    0.000000 |   0.4963                 |   0.000250   0.000000 |\n",
      "12:50:35 ep 385 /400 |   0.232634    0.232634    0.000000 |   0.000000    0.0000e+00 |   0.6221                 |   0.280010    0.280010    0.000000 |   0.5281                 |   0.000250   0.000000 |\n",
      "12:52:50 ep 386 /400 |   0.232667    0.232667    0.000000 |   0.000000    0.0000e+00 |   0.6233                 |   0.280001    0.280001    0.000000 |   0.5161                 |   0.000250   0.000000 |\n",
      "12:55:03 ep 387 /400 |   0.232555    0.232555    0.000000 |   0.000000    0.0000e+00 |   0.6233                 |   0.279910    0.279910    0.000000 |   0.4989                 |   0.000250   0.000000 |\n",
      "12:57:18 ep 388 /400 |   0.232546    0.232546    0.000000 |   0.000000    0.0000e+00 |   0.6228                 |   0.280181    0.280181    0.000000 |   0.5077                 |   0.000250   0.000000 |\n",
      "12:59:33 ep 389 /400 |   0.232550    0.232550    0.000000 |   0.000000    0.0000e+00 |   0.6258                 |   0.280357    0.280357    0.000000 |   0.4880                 |   0.000250   0.000000 |\n",
      "13:01:46 ep 390 /400 |   0.232555    0.232555    0.000000 |   0.000000    0.0000e+00 |   0.6223                 |   0.279992    0.279992    0.000000 |   0.5217                 |   0.000250   0.000000 |\n",
      "13:04:00 ep 391 /400 |   0.232716    0.232716    0.000000 |   0.000000    0.0000e+00 |   0.6228                 |   0.279903    0.279903    0.000000 |   0.5129                 |   0.000250   0.000000 |\n",
      "13:06:14 ep 392 /400 |   0.232535    0.232535    0.000000 |   0.000000    0.0000e+00 |   0.6248                 |   0.280326    0.280326    0.000000 |   0.5277                 |   0.000250   0.000000 |\n",
      "13:08:26 ep 393 /400 |   0.232622    0.232622    0.000000 |   0.000000    0.0000e+00 |   0.6243                 |   0.280566    0.280566    0.000000 |   0.4999                 |   0.000250   0.000000 |\n",
      "13:10:30 ep 394 /400 |   0.232443    0.232443    0.000000 |   0.000000    0.0000e+00 |   0.6215                 |   0.280006    0.280006    0.000000 |   0.4960                 |   0.000250   0.000000 |\n",
      "13:12:38 ep 395 /400 |   0.232382    0.232382    0.000000 |   0.000000    0.0000e+00 |   0.6234                 |   0.280629    0.280629    0.000000 |   0.5232                 |   0.000250   0.000000 |\n",
      "13:14:48 ep 396 /400 |   0.232404    0.232404    0.000000 |   0.000000    0.0000e+00 |   0.6238                 |   0.280281    0.280281    0.000000 |   0.4967                 |   0.000250   0.000000 |\n",
      "13:16:56 ep 397 /400 |   0.232359    0.232359    0.000000 |   0.000000    0.0000e+00 |   0.6223                 |   0.280464    0.280464    0.000000 |   0.5045                 |   0.000250   0.000000 |\n",
      "13:19:02 ep 398 /400 |   0.232359    0.232359    0.000000 |   0.000000    0.0000e+00 |   0.6254                 |   0.280417    0.280417    0.000000 |   0.4828                 |   0.000250   0.000000 |\n",
      "13:21:05 ep 399 /400 |   0.232582    0.232582    0.000000 |   0.000000    0.0000e+00 |   0.6194                 |   0.280516    0.280516    0.000000 |   0.5147                 |   0.000250   0.000000 |\n",
      "13:23:11 ep 400 /400 |   0.232395    0.232395    0.000000 |   0.000000    0.0000e+00 |   0.6263                 |   0.280586    0.280586    0.000000 |   0.4891                 |   0.000250   0.000000 |\n"
     ]
    }
   ],
   "source": [
    "for epoch in range(epochs):\n",
    "    display_epoch_metrics(model, epoch)"
   ]
  },
  {
   "cell_type": "code",
   "execution_count": null,
   "id": "868e46e6-f18d-410b-a376-7f26433447af",
   "metadata": {},
   "outputs": [],
   "source": [
    "if WANDB_ACTIVE:\n",
    "    wandb_run.finish()\n",
    "    WANDB_ACTIVE = False"
   ]
  },
  {
   "cell_type": "markdown",
   "id": "9d7f6ece-b0e4-4e64-bc35-928a3c3f961d",
   "metadata": {},
   "source": [
    "# Plot losses, weights, biases and gradients"
   ]
  },
  {
   "cell_type": "code",
   "execution_count": null,
   "id": "abc9b289-e042-4243-a2b4-c76751589ac3",
   "metadata": {},
   "outputs": [],
   "source": [
    "# if 0:\n",
    "#     model_attributes = model.__dict__\n",
    "#     model.training_history['train'].keys()\n",
    "#     for key, value in model.training_history['train'].items():\n",
    "#         if isinstance(value, List) or key in [\"test_accuracy\", \"test_f1\"]:\n",
    "#             print(f\"{key:25s} {type(value)}  {len(value):7d}  {value[-5:]}\")\n",
    "#     print()\n",
    "#     for key, value in model.training_history['val'].items():\n",
    "#         if isinstance(value, List) or key in [\"test_accuracy\", \"test_f1\"]:\n",
    "#             print(f\"{key:25s} {type(value)}  {len(value):7d}  {value[-5:]}\")        "
   ]
  },
  {
   "cell_type": "code",
   "execution_count": null,
   "id": "fbb441d8-ba3d-4540-abcc-e40aaaa3dd2e",
   "metadata": {},
   "outputs": [],
   "source": [
    "# tmp = np.array(model.training_history['train']['temp_grads'])\n",
    "# for st in range(0,len(tmp), 1000):\n",
    "#     end = st + 1000\n",
    "#     print(f\" {st:5d} - {end:5d}  min: {tmp[st:end].min():9e}   max: {tmp[st:end].max():9e}    avg: {tmp[st:end].mean():9e}   std: {tmp[st:end].std():9e}\")"
   ]
  },
  {
   "cell_type": "code",
   "execution_count": 42,
   "id": "2bc8de25-ddde-4d2c-b97f-1da1d375c991",
   "metadata": {
    "execution": {
     "iopub.execute_input": "2024-06-12T15:08:07.129479Z",
     "iopub.status.busy": "2024-06-12T15:08:07.128959Z",
     "iopub.status.idle": "2024-06-12T15:08:08.141313Z",
     "shell.execute_reply": "2024-06-12T15:08:08.140415Z",
     "shell.execute_reply.started": "2024-06-12T15:08:07.129436Z"
    },
    "scrolled": true
   },
   "outputs": [
    {
     "data": {
      "image/png": "[encoded data removed]",
      "text/plain": [
       "<Figure size 2000x400 with 5 Axes>"
      ]
     },
     "metadata": {},
     "output_type": "display_data"
    }
   ],
   "source": [
    "plot_train_history(model, start= 0, n_bins = 25)"
   ]
  },
  {
   "cell_type": "code",
   "execution_count": null,
   "id": "533b465a-6b4a-4696-a014-793b8f7df079",
   "metadata": {
    "scrolled": true
   },
   "outputs": [],
   "source": [
    "plot_train_history(model, start= 0, n_bins = 25)"
   ]
  },
  {
   "cell_type": "code",
   "execution_count": null,
   "id": "85774d06-9f14-4b02-b0c6-b8c60ba92ffa",
   "metadata": {
    "scrolled": true
   },
   "outputs": [],
   "source": [
    "plot_train_history(model, start= 0, n_bins = 25)"
   ]
  },
  {
   "cell_type": "code",
   "execution_count": null,
   "id": "f6b91b33-81bd-47e8-aa8e-bda1bd4d4583",
   "metadata": {
    "scrolled": true
   },
   "outputs": [],
   "source": [
    "plot_train_history(model, start= 100, n_bins = 25)"
   ]
  },
  {
   "cell_type": "code",
   "execution_count": null,
   "id": "5d4eae70-3b13-4893-b485-f8ad87b4cd68",
   "metadata": {
    "scrolled": true
   },
   "outputs": [],
   "source": [
    "plot_train_history(model, start= 10, n_bins = 25)"
   ]
  },
  {
   "cell_type": "code",
   "execution_count": null,
   "id": "7f50fdb6-0457-4cd3-b958-65bb44e4216d",
   "metadata": {},
   "outputs": [],
   "source": [
    "plot_model_parms(model, epochs= epochs, n_bins = 15)"
   ]
  },
  {
   "cell_type": "code",
   "execution_count": 39,
   "id": "f992e4e5-ea68-4617-8c16-01dfc22f6b94",
   "metadata": {
    "execution": {
     "iopub.execute_input": "2024-06-12T11:53:52.757379Z",
     "iopub.status.busy": "2024-06-12T11:53:52.756828Z",
     "iopub.status.idle": "2024-06-12T11:53:53.067318Z",
     "shell.execute_reply": "2024-06-12T11:53:53.066768Z",
     "shell.execute_reply.started": "2024-06-12T11:53:52.757338Z"
    },
    "scrolled": true
   },
   "outputs": [
    {
     "data": {
      "image/png": "[encoded data removed]",
      "text/plain": [
       "<Figure size 400x400 with 1 Axes>"
      ]
     },
     "metadata": {},
     "output_type": "display_data"
    }
   ],
   "source": [
    "from snnl.utils import plot_regression_metrics\n",
    "# plot_train_metrics(model, n_bins = 25)\n",
    "plot_regression_metrics(model, n_bins = 25)"
   ]
  },
  {
   "cell_type": "markdown",
   "id": "21726628-2b16-477a-bfe7-0a0ac53130eb",
   "metadata": {
    "jp-MarkdownHeadingCollapsed": true
   },
   "source": [
    "# Save model results and model"
   ]
  },
  {
   "cell_type": "code",
   "execution_count": null,
   "id": "a4bb9a8d-9d90-40e8-90d1-9e970497568b",
   "metadata": {},
   "outputs": [],
   "source": [
    "# import datetime.timezone\n",
    "# datetime.timetz()\n",
    "compounds_per_batch = cellpainting_args['compounds_per_batch']\n",
    "title=\"autoencoder\"\n",
    "epochs_num = epochs\n",
    "timestamp = datetime.now().strftime('%Y%m%d')\n",
    "filename = f\"AE_{args.model.lower()}_{timestamp}_{title}_{epochs_num:03d}_cpb_{compounds_per_batch}_factor_{int(snnl_factor):d}\"\n",
    "print(f\"saved to {filename}\")"
   ]
  },
  {
   "cell_type": "code",
   "execution_count": null,
   "id": "8364b7ba-8d33-41ac-b30f-0c39759a9772",
   "metadata": {},
   "outputs": [],
   "source": [
    "# save_model(model, filename)\n",
    "# export_results(model=model, filename=filename)\n",
    "# save_checkpoint(epochs, model, filename, update_latest=False, update_best=False)"
   ]
  },
  {
   "cell_type": "code",
   "execution_count": null,
   "id": "5738408d-29ca-46b4-8c79-6f184958acf0",
   "metadata": {},
   "outputs": [],
   "source": [
    "model.name\n",
    "args.runmode\n",
    "ex_timestamp\n",
    "ex_title\n",
    "epoch\n",
    "args.compounds_per_batch\n",
    "model.snnl_factor"
   ]
  },
  {
   "cell_type": "code",
   "execution_count": null,
   "id": "393af8c8-cf02-455f-a810-b68a7637c07e",
   "metadata": {},
   "outputs": [],
   "source": [
    "filename = f\"{model.name}_{args.runmode}_{args.exp_date}_{args.exp_title}_ep_{epoch+1:03d}\"\n",
    "print(filename)"
   ]
  },
  {
   "cell_type": "code",
   "execution_count": null,
   "id": "38e9d094-6432-4eb7-9ce7-f07b01a01a87",
   "metadata": {},
   "outputs": [],
   "source": [
    "filename = f\"{model.name}_{args.model.lower()}_{ex_timestamp}_{ex_title}_{epoch+1:03d}_cpb_{args.compounds_per_batch}_copy\"\n",
    "print(filename)\n",
    "    # export_results(model=model, filename=filename)\n",
    "save_checkpoint_2(epochs, model, filename, update_latest=False, update_best=False)  "
   ]
  },
  {
   "cell_type": "markdown",
   "id": "75fb4184-7640-4cc5-bf19-249ebb9fc072",
   "metadata": {
    "execution": {
     "iopub.execute_input": "2024-04-01T00:58:52.961399Z",
     "iopub.status.busy": "2024-04-01T00:58:52.960920Z"
    }
   },
   "source": [
    "# Load model"
   ]
  },
  {
   "cell_type": "code",
   "execution_count": 17,
   "id": "c914b200-c783-4477-9ca7-3370a23ec595",
   "metadata": {
    "execution": {
     "iopub.execute_input": "2024-06-12T07:49:18.430074Z",
     "iopub.status.busy": "2024-06-12T07:49:18.429560Z",
     "iopub.status.idle": "2024-06-12T07:49:18.472302Z",
     "shell.execute_reply": "2024-06-12T07:49:18.471622Z",
     "shell.execute_reply.started": "2024-06-12T07:49:18.430031Z"
    }
   },
   "outputs": [],
   "source": [
    "ex_epochs = 200\n",
    "# ex_mode = 'snnl'\n",
    "ex_runmode = 'baseline'\n",
    "ex_date = \"20240605\"\n",
    "ex_title=\"snglOpt-150Ltnt\"\n",
    "# ex_title=\"secondTry\"\n",
    "# ex_title=\"dropout04\"\n",
    "# title=\"autoencoder\"\n",
    "# title='Xentropy'"
   ]
  },
  {
   "cell_type": "code",
   "execution_count": 18,
   "id": "49ad2b47-9bdf-4a5b-9d06-31c8d55e533c",
   "metadata": {
    "execution": {
     "iopub.execute_input": "2024-06-12T07:49:19.589969Z",
     "iopub.status.busy": "2024-06-12T07:49:19.589620Z",
     "iopub.status.idle": "2024-06-12T07:49:19.631285Z",
     "shell.execute_reply": "2024-06-12T07:49:19.630738Z",
     "shell.execute_reply.started": "2024-06-12T07:49:19.589940Z"
    }
   },
   "outputs": [
    {
     "name": "stdout",
     "output_type": "stream",
     "text": [
      "AE_baseline_20240605_snglOpt-150Ltnt_200.pt\n",
      "AE_baseline_20240605_snglOpt-150Ltnt_ep_*.pt\n"
     ]
    }
   ],
   "source": [
    "# filename = f\"{model.name}_{ex_runmode}_{ex_date}_{ex_title}_{epochs:03d}_cpb_{ex_cpb}_factor_{ex_factor:d}.pt\"\n",
    "# file_pattern = f\"{model.name}_{ex_runmode}_{ex_date}_{ex_title}_*_cpb_{ex_cpb}_factor_{ex_factor:d}.pt\"\n",
    "filename = f\"{model.name}_{ex_runmode}_{ex_date}_{ex_title}_{ex_epochs:03d}.pt\"\n",
    "print(filename)\n",
    "file_pattern = f\"{model.name}_{ex_runmode}_{ex_date}_{ex_title}_ep_*.pt\"\n",
    "print(file_pattern)"
   ]
  },
  {
   "cell_type": "code",
   "execution_count": 19,
   "id": "5bb8ae74-601b-40ba-9770-0af48c168a8f",
   "metadata": {
    "execution": {
     "iopub.execute_input": "2024-06-12T07:49:40.625311Z",
     "iopub.status.busy": "2024-06-12T07:49:40.624815Z",
     "iopub.status.idle": "2024-06-12T07:49:40.672017Z",
     "shell.execute_reply": "2024-06-12T07:49:40.671443Z",
     "shell.execute_reply.started": "2024-06-12T07:49:40.625267Z"
    }
   },
   "outputs": [
    {
     "data": {
      "text/plain": [
       "['AE_baseline_20240605_snglOpt-150Ltnt_ep_025.pt',\n",
       " 'AE_baseline_20240605_snglOpt-150Ltnt_ep_050.pt',\n",
       " 'AE_baseline_20240605_snglOpt-150Ltnt_ep_075.pt',\n",
       " 'AE_baseline_20240605_snglOpt-150Ltnt_ep_100.pt',\n",
       " 'AE_baseline_20240605_snglOpt-150Ltnt_ep_125.pt',\n",
       " 'AE_baseline_20240605_snglOpt-150Ltnt_ep_150.pt',\n",
       " 'AE_baseline_20240605_snglOpt-150Ltnt_ep_175.pt',\n",
       " 'AE_baseline_20240605_snglOpt-150Ltnt_ep_200.pt',\n",
       " 'AE_baseline_20240605_snglOpt-150Ltnt_ep_225.pt',\n",
       " 'AE_baseline_20240605_snglOpt-150Ltnt_ep_250.pt',\n",
       " 'AE_baseline_20240605_snglOpt-150Ltnt_ep_275.pt',\n",
       " 'AE_baseline_20240605_snglOpt-150Ltnt_ep_300.pt']"
      ]
     },
     "execution_count": 19,
     "metadata": {},
     "output_type": "execute_result"
    },
    {
     "data": {
      "text/plain": [
       "[25, 50, 75, 100, 125, 150, 175, 200, 225, 250, 275, 300]"
      ]
     },
     "execution_count": 19,
     "metadata": {},
     "output_type": "execute_result"
    }
   ],
   "source": [
    "import glob\n",
    "filelist = glob.glob(file_pattern,root_dir = './ckpts')\n",
    "filelist = sorted(filelist)\n",
    "filelist\n",
    "epochlist =sorted([int(x[-6:-3]) for x in filelist])\n",
    "epochlist"
   ]
  },
  {
   "cell_type": "code",
   "execution_count": 23,
   "id": "9e492e3f-f194-4759-b8a6-8a949743d022",
   "metadata": {
    "execution": {
     "iopub.execute_input": "2024-06-12T07:50:16.516905Z",
     "iopub.status.busy": "2024-06-12T07:50:16.516420Z",
     "iopub.status.idle": "2024-06-12T07:50:16.558241Z",
     "shell.execute_reply": "2024-06-12T07:50:16.557722Z",
     "shell.execute_reply.started": "2024-06-12T07:50:16.516862Z"
    }
   },
   "outputs": [],
   "source": [
    "ex_epoch = 300"
   ]
  },
  {
   "cell_type": "code",
   "execution_count": 24,
   "id": "a71ca7cd-8258-49ca-b2d6-16268bd34dc7",
   "metadata": {
    "execution": {
     "iopub.execute_input": "2024-06-12T07:50:16.689839Z",
     "iopub.status.busy": "2024-06-12T07:50:16.689631Z",
     "iopub.status.idle": "2024-06-12T07:50:16.722814Z",
     "shell.execute_reply": "2024-06-12T07:50:16.722134Z",
     "shell.execute_reply.started": "2024-06-12T07:50:16.689820Z"
    }
   },
   "outputs": [
    {
     "name": "stdout",
     "output_type": "stream",
     "text": [
      "AE_baseline_20240605_snglOpt-150Ltnt_ep_300.pt\n",
      "\n",
      " *** Checkpoint EXISTS *** \n",
      "\n"
     ]
    }
   ],
   "source": [
    "filename = f\"{model.name}_{args.runmode}_{ex_date}_{ex_title}_ep_{ex_epoch:03d}\"   \n",
    "if filename[-3:] != '.pt':\n",
    "    filename+='.pt'\n",
    "print(filename)\n",
    "\n",
    "if os.path.exists(os.path.join('ckpts', filename)):\n",
    "    print(f\"\\n *** Checkpoint EXISTS *** \\n\")\n",
    "else:\n",
    "    print(f\"\\n *** Checkpoint DOESNT EXIST *** \\n\")"
   ]
  },
  {
   "cell_type": "code",
   "execution_count": 25,
   "id": "2d6a57df-2a6c-4ca5-8bc0-0672d1c03901",
   "metadata": {
    "execution": {
     "iopub.execute_input": "2024-06-12T07:50:24.005540Z",
     "iopub.status.busy": "2024-06-12T07:50:24.005028Z",
     "iopub.status.idle": "2024-06-12T07:50:24.104428Z",
     "shell.execute_reply": "2024-06-12T07:50:24.103770Z",
     "shell.execute_reply.started": "2024-06-12T07:50:24.005496Z"
    }
   },
   "outputs": [
    {
     "name": "stdout",
     "output_type": "stream",
     "text": [
      "--> AE_baseline_20240605_snglOpt-150Ltnt_ep_300.pt\n",
      "epoch                                   , <class 'int'>                                                 -- model attr set\n",
      "state_dict                              , <class 'collections.OrderedDict'>                             -- model attr set\n",
      "optimizer                               , <class 'torch.optim.adam.Adam'>                               -- model attr set\n",
      "temp_optimizer                          , <class 'NoneType'>                                            -- model attr set\n",
      "optimizer_state_dict                    , <class 'dict'>                                                -- model attr set\n",
      "temp_optimizer_state_dict               , <class 'NoneType'>                                            -- model attr set\n",
      "scheduler                               , <class 'torch.optim.lr_scheduler.ReduceLROnPlateau'>          -- model attr set\n",
      "temp_scheduler                          , <class 'NoneType'>                                            -- model attr set\n",
      "scheduler_state_dict                    , <class 'dict'>                                                -- model attr set\n",
      "temp_scheduler_state_dict               , <class 'NoneType'>                                            -- model attr set\n",
      "params                                  , <class 'dict'>                                                -- model attr set\n",
      "\n",
      "name                                    , <class 'str'>                                                 -- model attr set\n",
      "layer_types                             , <class 'list'>                                                -- model attr set\n",
      "layer_activations                       , <class 'list'>                                                -- model attr set\n",
      "use_scheduler                           , <class 'bool'>                                                -- model attr set\n",
      "use_temp_scheduler                      , <class 'bool'>                                                -- model attr set\n",
      "monitor_grads_layer                     , <class 'NoneType'>                                            -- model attr set\n",
      "learning_rate                           , <class 'float'>                                               -- model attr set\n",
      "adam_weight_decay                       , <class 'int'>                                                 -- model attr set\n",
      "training                                , <class 'bool'>                                                -- model attr set\n",
      "mode                                    , <class 'str'>                                                 -- model attr set\n",
      "device                                  , <class 'torch.device'>                                        -- model attr set\n",
      "train_loss                              , <class 'list'>                                                -- model attr set\n",
      "use_snnl                                , <class 'bool'>                                                -- model attr set\n",
      "loss_factor                             , <class 'float'>                                               -- model attr set\n",
      "snnl_factor                             , <class 'float'>                                               -- model attr set\n",
      "code_units                              , <class 'int'>                                                 -- model attr set\n",
      "embedding_layer                         , <class 'int'>                                                 -- model attr set\n",
      "stability_epsilon                       , <class 'float'>                                               -- model attr set\n",
      "verbose                                 , <class 'bool'>                                                -- model attr set\n",
      "sample_size                             , <class 'int'>                                                 -- model attr set\n",
      "temperatureLR                           , <class 'float'>                                               -- model attr set\n",
      "training_history                        , <class 'dict'>                                                -- model attr set\n",
      "unsupervised                            , <class 'bool'>                                                -- model attr set\n",
      "snnl_criterion                          , <class 'NoneType'>                                            -- model attr set\n",
      "temperature                             , <class 'int'>                                                 -- model attr set\n",
      "batch_count                             , <class 'int'>                                                 -- model attr set\n",
      "name                                    , <class 'str'>                                                 -- model attr set\n",
      "layer_types                             , <class 'list'>                                                -- model attr set\n",
      "layer_activations                       , <class 'list'>                                                -- model attr set\n",
      "use_scheduler                           , <class 'bool'>                                                -- model attr set\n",
      "use_temp_scheduler                      , <class 'bool'>                                                -- model attr set\n",
      "monitor_grads_layer                     , <class 'NoneType'>                                            -- model attr set\n",
      "learning_rate                           , <class 'float'>                                               -- model attr set\n",
      "adam_weight_decay                       , <class 'int'>                                                 -- model attr set\n",
      "training                                , <class 'bool'>                                                -- model attr set\n",
      "mode                                    , <class 'str'>                                                 -- model attr set\n",
      "device                                  , <class 'torch.device'>                                        -- model attr set\n",
      "train_loss                              , <class 'list'>                                                -- model attr set\n",
      "use_snnl                                , <class 'bool'>                                                -- model attr set\n",
      "loss_factor                             , <class 'float'>                                               -- model attr set\n",
      "snnl_factor                             , <class 'float'>                                               -- model attr set\n",
      "code_units                              , <class 'int'>                                                 -- model attr set\n",
      "embedding_layer                         , <class 'int'>                                                 -- model attr set\n",
      "stability_epsilon                       , <class 'float'>                                               -- model attr set\n",
      "verbose                                 , <class 'bool'>                                                -- model attr set\n",
      "sample_size                             , <class 'int'>                                                 -- model attr set\n",
      "temperatureLR                           , <class 'float'>                                               -- model attr set\n",
      "training_history                        , <class 'dict'>                                                -- model attr set\n",
      "unsupervised                            , <class 'bool'>                                                -- model attr set\n",
      "snnl_criterion                          , <class 'NoneType'>                                            -- model attr set\n",
      "temperature                             , <class 'int'>                                                 -- model attr set\n",
      "batch_count                             , <class 'int'>                                                 -- model attr set\n",
      "\n",
      " ==> Loaded from checkpoint AE_baseline_20240605_snglOpt-150Ltnt_ep_300.pt successfully. last epoch on checkpoint: 300\n",
      "\n",
      " last epoch : 300\n"
     ]
    }
   ],
   "source": [
    "mdl , last_epoch = load_checkpoint_v2(model, filename)  \n",
    "print(f\" last epoch : {last_epoch}\")"
   ]
  },
  {
   "cell_type": "code",
   "execution_count": 27,
   "id": "d998b522-8fd8-44a2-ad5a-23aaabe9c89d",
   "metadata": {
    "execution": {
     "iopub.execute_input": "2024-06-12T07:51:05.878465Z",
     "iopub.status.busy": "2024-06-12T07:51:05.877977Z",
     "iopub.status.idle": "2024-06-12T07:51:05.920579Z",
     "shell.execute_reply": "2024-06-12T07:51:05.920063Z",
     "shell.execute_reply.started": "2024-06-12T07:51:05.878425Z"
    }
   },
   "outputs": [
    {
     "name": "stdout",
     "output_type": "stream",
     "text": [
      "cuda:0\n",
      "cuda:0\n"
     ]
    }
   ],
   "source": [
    "print(current_device)\n",
    "print(model.device)\n",
    "# model.device = current_device\n",
    "# print(model.device)"
   ]
  },
  {
   "cell_type": "code",
   "execution_count": 28,
   "id": "00c841d7-6d85-438c-a7da-e8026fb4f644",
   "metadata": {
    "execution": {
     "iopub.execute_input": "2024-06-12T07:51:07.668602Z",
     "iopub.status.busy": "2024-06-12T07:51:07.668302Z",
     "iopub.status.idle": "2024-06-12T07:51:07.708165Z",
     "shell.execute_reply": "2024-06-12T07:51:07.707594Z",
     "shell.execute_reply.started": "2024-06-12T07:51:07.668575Z"
    }
   },
   "outputs": [
    {
     "data": {
      "text/plain": [
       "Autoencoder(\n",
       "  (primary_criterion): MSELoss()\n",
       "  (layers): ModuleList(\n",
       "    (0): Linear(in_features=1471, out_features=1024, bias=True)\n",
       "    (1): ReLU()\n",
       "    (2): Linear(in_features=1024, out_features=128, bias=True)\n",
       "    (3): ReLU()\n",
       "    (4): Linear(in_features=128, out_features=150, bias=True)\n",
       "    (5): Linear(in_features=150, out_features=128, bias=True)\n",
       "    (6): ReLU()\n",
       "    (7): Linear(in_features=128, out_features=1024, bias=True)\n",
       "    (8): ReLU()\n",
       "    (9): Linear(in_features=1024, out_features=1471, bias=True)\n",
       "  )\n",
       ")"
      ]
     },
     "execution_count": 28,
     "metadata": {},
     "output_type": "execute_result"
    },
    {
     "name": "stdout",
     "output_type": "stream",
     "text": [
      "cuda:0\n"
     ]
    }
   ],
   "source": [
    "model.train()\n",
    "model = model.cuda(device=current_device)\n",
    "print(model.device)"
   ]
  },
  {
   "cell_type": "code",
   "execution_count": 29,
   "id": "25b03053-b090-4116-898a-acbfb8add271",
   "metadata": {
    "execution": {
     "iopub.execute_input": "2024-06-12T07:51:09.494490Z",
     "iopub.status.busy": "2024-06-12T07:51:09.494218Z",
     "iopub.status.idle": "2024-06-12T07:51:09.533878Z",
     "shell.execute_reply": "2024-06-12T07:51:09.533227Z",
     "shell.execute_reply.started": "2024-06-12T07:51:09.494469Z"
    }
   },
   "outputs": [
    {
     "name": "stdout",
     "output_type": "stream",
     "text": [
      " last epoch  300\n"
     ]
    }
   ],
   "source": [
    "print(f\" last epoch  {last_epoch}\")"
   ]
  },
  {
   "cell_type": "code",
   "execution_count": 30,
   "id": "eb1241f9-4ad1-425f-8526-43c5cd89859c",
   "metadata": {
    "execution": {
     "iopub.execute_input": "2024-06-12T07:51:11.860245Z",
     "iopub.status.busy": "2024-06-12T07:51:11.859801Z",
     "iopub.status.idle": "2024-06-12T07:51:11.902714Z",
     "shell.execute_reply": "2024-06-12T07:51:11.902143Z",
     "shell.execute_reply.started": "2024-06-12T07:51:11.860207Z"
    }
   },
   "outputs": [
    {
     "name": "stdout",
     "output_type": "stream",
     "text": [
      " run epochs 301 to 400 \n"
     ]
    }
   ],
   "source": [
    "# starting_epoch = 20\n",
    "starting_epoch = last_epoch\n",
    "epochs = last_epoch + 100\n",
    "# starting_epoch = epoch + 1\n",
    "print(f\" run epochs {starting_epoch+1} to {epochs} \")"
   ]
  },
  {
   "cell_type": "code",
   "execution_count": 32,
   "id": "361a2ba1-0bac-4ff8-aa08-950fe7fe2302",
   "metadata": {
    "execution": {
     "iopub.execute_input": "2024-06-12T07:51:27.169423Z",
     "iopub.status.busy": "2024-06-12T07:51:27.168955Z",
     "iopub.status.idle": "2024-06-12T07:51:27.214805Z",
     "shell.execute_reply": "2024-06-12T07:51:27.213889Z",
     "shell.execute_reply.started": "2024-06-12T07:51:27.169382Z"
    }
   },
   "outputs": [
    {
     "name": "stdout",
     "output_type": "stream",
     "text": [
      "\n",
      " model device         : cuda:0\n",
      " model temperature    : 0\n",
      "\n",
      " loss_factor          : 1.0\n",
      " monitor_grads_layer  : None\n",
      " Learning rate        : 0.0005\n",
      " snnl_factor          : 0.0\n",
      "\n",
      " trn_time             : 22:29:49  \n",
      " trn_ttl_loss         : 0.239348 \n",
      " trn_prim_loss        : 0.239348 \n",
      " trn_snn_loss         : 0.000000 \n",
      " trn_R2_score         : 0.614851 \n",
      " trn_lr               : 0.000500 \n",
      "\n",
      " val_time             : 22:30:00  \n",
      " val_ttl_loss         : 0.279226 \n",
      " val_prim_loss        : 0.279226 \n",
      " val_snn_loss         : 0.000000 \n",
      " val_R2_score         : 0.530867 \n",
      "\n"
     ]
    }
   ],
   "source": [
    "print()\n",
    "print(f\" model device         : {model.device}\")\n",
    "print(f\" model temperature    : {model.temperature}\")\n",
    "print() \n",
    "print(f\" loss_factor          : {model.loss_factor}\")\n",
    "print(f\" monitor_grads_layer  : {model.monitor_grads_layer}\")\n",
    "print(f\" Learning rate        : {model.optimizer.param_groups[0]['lr']}\") \n",
    "print(f\" snnl_factor          : {model.snnl_factor}\")\n",
    "if model.use_snnl:\n",
    "    print(f\" temperature          : {model.temperature.item()}\")\n",
    "if model.temp_optimizer is not None:\n",
    "    print(f\" Temperature LR       : {model.temp_optimizer.param_groups[0]['lr']}\") \n",
    "print()\n",
    "\n",
    "for th_key in ['trn', 'val']:\n",
    "    for k,v in model.training_history[th_key].items():\n",
    "        if isinstance(v[-1],str):\n",
    "            print(f\" {k:20s} : {v[-1]:s}  \")\n",
    "        else:\n",
    "            print(f\" {k:20s} : {v[-1]:6f} \")\n",
    "    print()\n"
   ]
  },
  {
   "cell_type": "code",
   "execution_count": null,
   "id": "6a4b320a-e40a-47b2-886f-6130c314afb8",
   "metadata": {
    "scrolled": true
   },
   "outputs": [],
   "source": [
    "model.optimizer.__dict__\n",
    "print()"
   ]
  },
  {
   "cell_type": "code",
   "execution_count": null,
   "id": "903b5c7a-4271-4659-857d-29ee395daedc",
   "metadata": {},
   "outputs": [],
   "source": [
    "model.scheduler.__dict__"
   ]
  },
  {
   "cell_type": "markdown",
   "id": "551fbd83-4eb8-48e4-8914-51603639f0f8",
   "metadata": {
    "jp-MarkdownHeadingCollapsed": true
   },
   "source": [
    "# Misc code"
   ]
  },
  {
   "cell_type": "code",
   "execution_count": null,
   "id": "5a96d9f7-7647-43c4-9a2d-6d3337ff768a",
   "metadata": {},
   "outputs": [],
   "source": [
    "# loaded_data = import_results(filename)\n",
    "\n",
    "# for k in loaded_data.keys():\n",
    "#     print(k, type(loaded_data[k]), len(loaded_data[k]))\n",
    "# print(\"\\nTraining History\")\n",
    "# results = loaded_data['training_history']\n",
    "# for k,v in results.items():\n",
    "#     print(' ',k , len(v))\n",
    "#     for kk,vv in results[k].items():\n",
    "#         print( f\"   {kk:20s} {len(vv)}\")\n",
    "# print(\"\\nModel Parameters\")\n",
    "# model_parameters = loaded_data['params']\n",
    "# for k,v in model_parameters.items():\n",
    "#     print(f\"   {k:25s} {v}\" )\n",
    " "
   ]
  },
  {
   "cell_type": "code",
   "execution_count": null,
   "id": "cc884bcb-58de-427c-979a-c6cc15ed0aa2",
   "metadata": {},
   "outputs": [],
   "source": [
    "# model_attributes = model.__dict__\n",
    "# from collections import defaultdict\n",
    "# output = defaultdict(dict)\n",
    "\n",
    "# for key, value in model_attributes.items():\n",
    "#         if key[0] == \"_\" or type(value) in [torch.device, torch.optim.Adam , torch.optim.SGD]:\n",
    "#             continue\n",
    "#         if key == 'training_history':\n",
    "#             output[key] = value\n",
    "#         else:\n",
    "#             output['params'][key] = value\n",
    "#             print(f\" {key:30s}    {type(value)}   \")\n",
    "\n",
    "# output.keys()\n",
    "# output['params']\n",
    "# output['training_history'].keys()"
   ]
  },
  {
   "cell_type": "code",
   "execution_count": null,
   "id": "41a232e9-2360-4f04-811a-73533f0b5817",
   "metadata": {},
   "outputs": [],
   "source": [
    "# for k in results.keys():\n",
    "#     print(f\" key: {k:30s}  length of - loaded results: {len(results[k])}  existing model: {len(model.__dict__[k])}\" )\n",
    "#     model.__dict__[k] = results[k]"
   ]
  },
  {
   "cell_type": "code",
   "execution_count": 37,
   "id": "45bd5440-ade0-4ada-b00d-98e7f6f47dd0",
   "metadata": {
    "execution": {
     "iopub.execute_input": "2024-06-04T13:23:38.806204Z",
     "iopub.status.busy": "2024-06-04T13:23:38.805696Z",
     "iopub.status.idle": "2024-06-04T13:23:39.162355Z",
     "shell.execute_reply": "2024-06-04T13:23:39.161596Z",
     "shell.execute_reply.started": "2024-06-04T13:23:38.806162Z"
    }
   },
   "outputs": [],
   "source": [
    "# for key in ['trn', 'val']:\n",
    "#     del_keys = []\n",
    "#     for k,v in model.training_history[key].items():\n",
    "#         print(k, len(v))\n",
    "#         if len(v) == 0 :\n",
    "#             del_keys.append(k)\n",
    "#     del_keys\n",
    "#     for k in del_keys:    \n",
    "#         del  model.training_history[key][k]\n",
    "#     print('-----------------------')\n",
    "\n",
    "# model.training_history['val'].keys()\n",
    "# np.argmin(model.training_history['trn']['trn_ttl_loss']), np.min(model.training_history['trn']['trn_ttl_loss'] )\n",
    "# np.argmin(model.training_history['trn']['trn_prim_loss']),np.min(model.training_history['trn']['trn_prim_loss']), np.min(model.training_history['trn']['trn_prim_loss'])  / model.loss_factor\n",
    "# np.argmin(model.training_history['trn']['trn_snn_loss']), np.min(model.training_history['trn']['trn_snn_loss'] ),  np.min(model.training_history['trn']['trn_snn_loss'] ) / model.snnl_factor\n",
    "# print()\n",
    "# np.argmin(model.training_history['val']['val_ttl_loss']) , np.min(model.training_history['val']['val_ttl_loss'] )\n",
    "# np.argmin(model.training_history['val']['val_prim_loss']), np.min(model.training_history['val']['val_prim_loss']), np.min(model.training_history['val']['val_prim_loss']) / model.loss_factor\n",
    "# np.argmin(model.training_history['val']['val_snn_loss']) , np.min(model.training_history['val']['val_snn_loss'] ), np.min(model.training_history['val']['val_snn_loss'] ) / model.snnl_factor\n",
    "\n",
    "# model.optimizer\n",
    "# model.optimizer.state_dict()\n",
    "# model.optimizer.param_groups[0]['lr'], model.optimizer.param_groups[1]['lr']\n",
    "# model.scheduler.__dict__\n",
    "\n",
    "# model.optimizer = torch.optim.Adam(params = network_params, lr=0.001, weight_decay = 0.1)\n",
    "# # if self.use_snnl:\n",
    "# #     self.optimizer.add_param_group({'params': temp_params, 'lr': temperatureLR, 'weight_decay': adam_weight_decay})\n",
    "\n",
    "# if model.use_scheduler:\n",
    "#     model.scheduler = model._ReduceLROnPlateau(model.optimizer, mode='min', factor=0.5, patience=40, threshold=0.000001, \n",
    "#                                              threshold_mode='rel', cooldown=10, min_lr=0, eps=1e-08, verbose =True) "
   ]
  }
 ],
 "metadata": {
  "kernelspec": {
   "display_name": "Python [conda env:ptsnnl]",
   "language": "python",
   "name": "conda-env-ptsnnl-py"
  },
  "language_info": {
   "codemirror_mode": {
    "name": "ipython",
    "version": 3
   },
   "file_extension": ".py",
   "mimetype": "text/x-python",
   "name": "python",
   "nbconvert_exporter": "python",
   "pygments_lexer": "ipython3",
   "version": "3.11.0"
  },
  "toc": {
   "base_numbering": 1,
   "nav_menu": {},
   "number_sections": true,
   "sideBar": true,
   "skip_h1_title": false,
   "title_cell": "Table of Contents",
   "title_sidebar": "Contents",
   "toc_cell": false,
   "toc_position": {},
   "toc_section_display": true,
   "toc_window_display": false
  }
 },
 "nbformat": 4,
 "nbformat_minor": 5
}
