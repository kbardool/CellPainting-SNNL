{
 "cells": [
  {
   "cell_type": "markdown",
   "id": "ca813a76-47b7-458b-a3d2-1e4f49079a08",
   "metadata": {},
   "source": [
    "  # Autoencoder - Baseline mode - Copy 1"
   ]
  },
  {
   "cell_type": "markdown",
   "id": "41638752-2456-4f2e-9e7e-e4039fe926a2",
   "metadata": {},
   "source": [
    "# Setup"
   ]
  },
  {
   "cell_type": "code",
   "execution_count": 1,
   "id": "11ad0ae2",
   "metadata": {
    "ExecuteTime": {
     "end_time": "2023-04-12T10:29:15.566596Z",
     "start_time": "2023-04-12T10:29:15.550232Z"
    },
    "execution": {
     "iopub.execute_input": "2024-06-15T06:55:41.156298Z",
     "iopub.status.busy": "2024-06-15T06:55:41.155721Z",
     "iopub.status.idle": "2024-06-15T06:55:41.181429Z",
     "shell.execute_reply": "2024-06-15T06:55:41.180778Z",
     "shell.execute_reply.started": "2024-06-15T06:55:41.156243Z"
    }
   },
   "outputs": [
    {
     "data": {
      "text/html": [
       "<style>.container { width:98% !important; }</style>"
      ],
      "text/plain": [
       "<IPython.core.display.HTML object>"
      ]
     },
     "metadata": {},
     "output_type": "display_data"
    }
   ],
   "source": [
    "from IPython.display import display, HTML\n",
    "display(HTML(\"<style>.container { width:98% !important; }</style>\"))\n",
    "%load_ext autoreload  \n",
    "%autoreload 2\n",
    "from IPython.core.interactiveshell import InteractiveShell\n",
    "InteractiveShell.ast_node_interactivity = \"all\""
   ]
  },
  {
   "cell_type": "code",
   "execution_count": 2,
   "id": "58ef1445-5dc0-496d-8627-28c620391492",
   "metadata": {
    "ExecuteTime": {
     "end_time": "2023-04-12T10:29:16.111588Z",
     "start_time": "2023-04-12T10:29:15.764305Z"
    },
    "execution": {
     "iopub.execute_input": "2024-06-15T06:55:41.473545Z",
     "iopub.status.busy": "2024-06-15T06:55:41.473067Z",
     "iopub.status.idle": "2024-06-15T06:55:47.092143Z",
     "shell.execute_reply": "2024-06-15T06:55:47.091318Z",
     "shell.execute_reply.started": "2024-06-15T06:55:41.473509Z"
    }
   },
   "outputs": [
    {
     "name": "stdout",
     "output_type": "stream",
     "text": [
      "insert ./src\n",
      "insert ../..\n",
      "['../..', './src', '/home/kevin/miniforge3/envs/ptsnnl/lib/python311.zip', '/home/kevin/miniforge3/envs/ptsnnl/lib/python3.11', '/home/kevin/miniforge3/envs/ptsnnl/lib/python3.11/lib-dynload', '', '/home/kevin/miniforge3/envs/ptsnnl/lib/python3.11/site-packages']\n",
      "2.2.1+cu118\n"
     ]
    }
   ],
   "source": [
    "import os\n",
    "import sys\n",
    "import csv\n",
    "import json\n",
    "import time\n",
    "# import types\n",
    "# import copy\n",
    "import pprint\n",
    "import logging \n",
    "from datetime import datetime\n",
    "for p in ['./src','../..']:\n",
    "    if p not in sys.path:\n",
    "        print(f\"insert {p}\")\n",
    "        sys.path.insert(0, p)\n",
    "print(sys.path)\n",
    "import shutil\n",
    "import getpass\n",
    "\n",
    "from matplotlib import pyplot as plt\n",
    "from typing import Dict, List, Tuple\n",
    "from scipy.sparse import csr_matrix\n",
    "from tqdm import tqdm\n",
    "\n",
    "import numpy as np\n",
    "import pandas as pd\n",
    "\n",
    "import torch\n",
    "import torch.nn.functional as F\n",
    "from torchinfo import summary\n",
    "\n",
    "torch.set_printoptions(precision=None, threshold=None, edgeitems=None, linewidth=150, profile=None, sci_mode=None)\n",
    "print(torch.__version__)\n",
    "\n",
    "pp = pprint.PrettyPrinter(indent=4)\n",
    "pd.options.display.width = 132\n",
    "torch.set_printoptions(precision=None, threshold=None, edgeitems=None, linewidth=150, profile=None, sci_mode=None)\n",
    "np.set_printoptions(edgeitems=3, infstr='inf', linewidth=150, nanstr='nan')\n",
    "\n",
    "WANDB_ACTIVE = False\n",
    "\n",
    "os.environ[\"WANDB_NOTEBOOK_NAME\"] = \"Autoencoder_dev.ipynb\"\n",
    "# os.environ[\"CUDA_LAUNCH_BLOCKING\"] = \"1\"\n",
    "# os.environ[\"CUDA_VISIBLE_DEVICES\"] = \"1\"\n",
    "import wandb\n",
    "\n",
    "from KevinsRoutines.utils.utils_wandb  import  init_wandb, wandb_log_metrics,wandb_watch\n",
    "from KevinsRoutines.utils.utils_general  import  list_namespace \n",
    "from snnl.utils import parse_args, load_configuration, set_global_seed, get_device, set_device\n",
    "from snnl.utils import load_model, save_model, import_results, export_results, save_checkpoint, load_checkpoint \n",
    "from snnl.utils import plot_model_parms, plot_train_history, plot_classification_metrics, plot_regression_metrics\n",
    "from snnl.utils import display_epoch_metrics, display_cellpainting_batch\n",
    "from snnl.utils import CellpaintingDataset, InfiniteDataLoader, custom_collate_fn\n",
    "from snnl.utils import display_model_summary, define_autoencoder_model\n",
    "from snnl.utils import save_checkpoint_v2, load_checkpoint_v2\n",
    "\n",
    "from snnl.models import Model\n",
    "from snnl.models import DNN \n",
    "from snnl.models import Autoencoder\n",
    "from snnl.losses import SNNLoss"
   ]
  },
  {
   "cell_type": "code",
   "execution_count": 3,
   "id": "368ed77e-7d0b-4b4f-95be-1e133d735833",
   "metadata": {
    "execution": {
     "iopub.execute_input": "2024-06-15T06:55:47.094134Z",
     "iopub.status.busy": "2024-06-15T06:55:47.093702Z",
     "iopub.status.idle": "2024-06-15T06:55:47.137215Z",
     "shell.execute_reply": "2024-06-15T06:55:47.136627Z",
     "shell.execute_reply.started": "2024-06-15T06:55:47.094111Z"
    }
   },
   "outputs": [
    {
     "name": "stderr",
     "output_type": "stream",
     "text": [
      "2024-06-15 08:55:47,131 - __main__ - INFO: -  Excution started : 2024_06_15_08:55:47 \n",
      "2024-06-15 08:55:47,132 - __main__ - INFO: -  Pytorch version  : 2.2.1+cu118\n"
     ]
    },
    {
     "name": "stdout",
     "output_type": "stream",
     "text": [
      "Timestamp:  2024_06_15_08:55:47\n"
     ]
    }
   ],
   "source": [
    "timestamp = datetime.now().strftime('%Y_%m_%d_%H:%M:%S')\n",
    "print('Timestamp: ',timestamp)\n",
    "\n",
    "logger = logging.getLogger(__name__) \n",
    "logLevel = os.environ.get('LOG_LEVEL', 'INFO').upper()\n",
    "FORMAT = '%(asctime)s - %(name)s - %(levelname)s: - %(message)s'\n",
    "logging.basicConfig(level=\"INFO\", format= FORMAT)\n",
    "\n",
    "logger.info(f\" Excution started : {timestamp} \")\n",
    "logger.info(f\" Pytorch version  : {torch.__version__}\")\n",
    "# logger.info(f\" Search path      : {sys.path}\")"
   ]
  },
  {
   "cell_type": "markdown",
   "id": "1be5e789-3446-482f-a3ca-fdd19b2a845e",
   "metadata": {},
   "source": [
    "### main(args)"
   ]
  },
  {
   "cell_type": "code",
   "execution_count": 15,
   "id": "8a7f8563-b6fb-4f00-84a2-5339e5f6b35c",
   "metadata": {
    "execution": {
     "iopub.execute_input": "2024-06-15T07:02:31.669430Z",
     "iopub.status.busy": "2024-06-15T07:02:31.668931Z",
     "iopub.status.idle": "2024-06-15T07:02:31.715582Z",
     "shell.execute_reply": "2024-06-15T07:02:31.714845Z",
     "shell.execute_reply.started": "2024-06-15T07:02:31.669386Z"
    }
   },
   "outputs": [],
   "source": [
    "LATENT_DIM = 150\n",
    "HIDDEN_1 = '_512'\n",
    "HIDDEN_2 = '_256'\n",
    "DATE = '20240615'\n",
    "LOAD_EPOCH = '025'"
   ]
  },
  {
   "cell_type": "code",
   "execution_count": null,
   "id": "0760f2f0-f480-45b7-9734-0f7a255e5204",
   "metadata": {
    "execution": {
     "iopub.execute_input": "2024-06-15T07:03:29.909278Z",
     "iopub.status.busy": "2024-06-15T07:03:29.908630Z",
     "iopub.status.idle": "2024-06-15T07:03:29.963418Z",
     "shell.execute_reply": "2024-06-15T07:03:29.962640Z",
     "shell.execute_reply.started": "2024-06-15T07:03:29.909234Z"
    }
   },
   "outputs": [],
   "source": [
    "# if __name__ == \"__main__\":\n",
    "cli_args =   f\" --runmode            baseline\" \\\n",
    "             f\" --configuration      hyperparameters/ae_cp_{LATENT_DIM}{HIDDEN_1}{HIDDEN_2}.yaml\" \\\n",
    "             f\" --wandb              \" \\\n",
    "             f\" --gpu_id             0 \"\\\n",
    "             f\" --epochs             0 \" \\\n",
    "             f\" --ckpt               AE_baseline_{DATE}_snglOpt-{LATENT_DIM}Ltnt{HIDDEN_1}{HIDDEN_2}_ep_{LOAD_EPOCH}.pt \" \\\n",
    "             f\" \"\n",
    "\n",
    "             # f\" --run_id             jyydyab3 \" \\\n",
    "             # f\" --seed               4321 \" \n",
    "             # f\" --exp_title           snglOpt-050Ltnt_512_sig \"\n",
    "             # f\" --runmode            snnl\" \\\n",
    "cli_args = parse_args(cli_args.split())\n",
    "cli_args\n",
    "\n",
    "args = load_configuration(cli_args)\n",
    "set_global_seed(args.random_seed)\n",
    "args.exp_title\n",
    "args.ckpt\n",
    "\n",
    "if args.ckpt is not None:\n",
    "    if os.path.exists(os.path.join('ckpts', args.ckpt)):\n",
    "        # logging.info(f\" Checkpoint {args.ckpt} found\")\n",
    "        logger.info(f\" Resuming training using checkpoint: {args.ckpt}\")\n",
    "    else:\n",
    "        logger.error(f\" *** Checkpoint {args.ckpt} not found *** \\n\")\n",
    "        raise ValueError(f\"\\n *** Checkpoint DOESNT EXIST *** \\n\")"
   ]
  },
  {
   "cell_type": "code",
   "execution_count": 20,
   "id": "d5f2484a-2610-4e6c-8195-9b89e165ba09",
   "metadata": {
    "execution": {
     "iopub.execute_input": "2024-06-15T07:03:33.438486Z",
     "iopub.status.busy": "2024-06-15T07:03:33.437993Z",
     "iopub.status.idle": "2024-06-15T07:03:33.495382Z",
     "shell.execute_reply": "2024-06-15T07:03:33.494569Z",
     "shell.execute_reply.started": "2024-06-15T07:03:33.438445Z"
    }
   },
   "outputs": [
    {
     "name": "stderr",
     "output_type": "stream",
     "text": [
      "2024-06-15 09:03:33,488 - snnl.utils.utils - INFO: -  Current CUDA Device is:  cuda:0 - Quadro GV100\n",
      "2024-06-15 09:03:33,489 - snnl.utils.utils - INFO: -  Switched to: Quadro GV100 - 0\n",
      "2024-06-15 09:03:33,490 - snnl.utils.utils - INFO: -  Current CUDA Device is:  cuda:0 - Quadro GV100\n"
     ]
    }
   ],
   "source": [
    "if args.gpu_id is not None:\n",
    "    _ = get_device()\n",
    "    # print(f\"Current device is : {current_device}\")    \n",
    "    current_device = set_device(args.gpu_id)\n",
    "    current_device = get_device()\n"
   ]
  },
  {
   "cell_type": "code",
   "execution_count": null,
   "id": "fa5e94fb-9c32-4e66-a4a8-0ee21fb5a8e1",
   "metadata": {},
   "outputs": [],
   "source": [
    "# AE_baseline_20240614_snglOpt-150Ltnt_512_256_ep_300.pt"
   ]
  },
  {
   "cell_type": "markdown",
   "id": "7e2871b9-ea54-4869-9fa3-5ade2e1416cd",
   "metadata": {},
   "source": [
    "## Define dataset and dataloaders"
   ]
  },
  {
   "cell_type": "code",
   "execution_count": 22,
   "id": "e64445ed-d1da-4ff7-886c-1070c553c4c6",
   "metadata": {
    "execution": {
     "iopub.execute_input": "2024-06-15T07:03:37.612295Z",
     "iopub.status.busy": "2024-06-15T07:03:37.611802Z",
     "iopub.status.idle": "2024-06-15T07:03:37.663559Z",
     "shell.execute_reply": "2024-06-15T07:03:37.662709Z",
     "shell.execute_reply.started": "2024-06-15T07:03:37.612254Z"
    }
   },
   "outputs": [
    {
     "name": "stderr",
     "output_type": "stream",
     "text": [
      "2024-06-15 09:03:37,657 - root - INFO: -  load cellpainting\n"
     ]
    },
    {
     "name": "stdout",
     "output_type": "stream",
     "text": [
      " Building CellPantingDataset from NOTEBOOK\n",
      "    _init()_    -- filename:          /home/kevin/WSL-shared/Cellpainting/cj-datasets/output_11102023/3_sample_profiles/3sample_profiles_1482_HashOrder.csv\n",
      "    _init()_    -- type :             train\n",
      "    _init()_    -- start :            0\n",
      "    _init()_    -- end :              240000\n",
      "    _init()_    -- numrows :          240000\n",
      " Building CellPantingDataset from NOTEBOOK\n",
      "    _init()_    -- filename:          /home/kevin/WSL-shared/Cellpainting/cj-datasets/output_11102023/3_sample_profiles/3sample_profiles_1482_HashOrder_test.csv\n",
      "    _init()_    -- type :             val\n",
      "    _init()_    -- start :            0\n",
      "    _init()_    -- end :              24000\n",
      "    _init()_    -- numrows :          24000\n"
     ]
    }
   ],
   "source": [
    "#### Load CellPainting Dataset\n",
    "logging.info(f\" load {args.dataset}\")\n",
    "train_dataset = CellpaintingDataset(type='train',    **args.cellpainting_args)\n",
    "train_loader = InfiniteDataLoader(dataset=train_dataset, batch_size = args.batch_size, shuffle = False, num_workers = 0, collate_fn = custom_collate_fn)\n",
    "val_dataset = CellpaintingDataset(type='val',    **args.cellpainting_args)\n",
    "val_loader = InfiniteDataLoader(dataset=val_dataset, batch_size = args.batch_size, shuffle = False, num_workers = 0, collate_fn = custom_collate_fn)"
   ]
  },
  {
   "cell_type": "code",
   "execution_count": null,
   "id": "f229004e-eb61-4ef8-8965-8aad07056765",
   "metadata": {
    "execution": {
     "iopub.execute_input": "2024-06-15T07:03:39.277795Z",
     "iopub.status.busy": "2024-06-15T07:03:39.277297Z",
     "iopub.status.idle": "2024-06-15T07:03:39.323441Z",
     "shell.execute_reply": "2024-06-15T07:03:39.322706Z",
     "shell.execute_reply.started": "2024-06-15T07:03:39.277754Z"
    }
   },
   "outputs": [],
   "source": [
    "# trn_file_sz = args.cellpainting_args['train_end'] - args.cellpainting_args['train_start']\n",
    "# val_file_sz = args.cellpainting_args['val_end'] - args.cellpainting_args['val_start']\n",
    "# smp_sz = args.cellpainting_args['sample_size']\n",
    "# buf_sz = args.cellpainting_args['compounds_per_batch']\n",
    "# bth_sz = args.cellpainting_args['batch_size']\n",
    "# recs_per_batch = smp_sz * bth_sz * buf_sz\n",
    "\n",
    "# for file_sz in [trn_file_sz, val_file_sz]:\n",
    "#     bth_per_epoch = file_sz // recs_per_batch\n",
    "#     print(f\" - Each mini-batch contains {recs_per_batch/smp_sz} compounds with {smp_sz} samples per each compound : total {recs_per_batch} rows\")\n",
    "#     print(f\" - Number of {recs_per_batch} row full size batches per epoch: {bth_per_epoch}\")\n",
    "#     print(f\" - Rows covered by {bth_per_epoch} full size batches ({recs_per_batch} rows) per epoch:  {(file_sz // recs_per_batch) * recs_per_batch}\")\n",
    "#     print(f\" - Last partial batch contains : {file_sz % recs_per_batch} rows\")\n",
    "#     print() \n",
    "\n",
    "# for idx, batch in enumerate(train_loader):\n",
    "#     print(f\"{idx:4d}, {batch[0].shape}, {batch[1].shape},{batch[2].shape},{batch[3].shape},{batch[4].shape}, {batch[3][:3]}, {batch[3][-3:]}\")\n",
    "#     display_cellpainting_batch(idx, batch)\n",
    "#     if idx >= 0:\n",
    "#         break"
   ]
  },
  {
   "cell_type": "code",
   "execution_count": 28,
   "id": "11cc9586-9501-46d6-ba49-0f549ee53978",
   "metadata": {
    "execution": {
     "iopub.execute_input": "2024-06-15T07:04:22.962078Z",
     "iopub.status.busy": "2024-06-15T07:04:22.961589Z",
     "iopub.status.idle": "2024-06-15T07:04:23.007898Z",
     "shell.execute_reply": "2024-06-15T07:04:23.007052Z",
     "shell.execute_reply.started": "2024-06-15T07:04:22.962039Z"
    }
   },
   "outputs": [
    {
     "name": "stdout",
     "output_type": "stream",
     "text": [
      "jyydyab3\n",
      "CellPainting_Profiles\n",
      "snglOpt-150Ltnt_512_256\n",
      "Autoencoder Training in Baseline mode - SnglOpt, 512-256-150 dim latent\n",
      "None\n"
     ]
    }
   ],
   "source": [
    "# args.project_name = 'CellPainting_Profiles'\n",
    "# args.exp_title = 'snglOpt-50Ltnt'\n",
    "# args.exp_desc = 'Autoencoder Training in Baseline mode - Single Optimizer, 50 dim latent layer'+' - '+args.exp_title\n",
    "\n",
    "# args.exp_id   = None\n",
    "# args.exp_name = 'AE_'+datetime.now().strftime('%m%d_%H%M')\n",
    "# args.exp_date = datetime.now().strftime('%Y%m%d')\n",
    "\n",
    "## --- for restarts\n",
    "# args.exp_id   = '0g8w13h6'\n",
    "# args.exp_name = 'AE_0516_1104'\n",
    "# args.exp_date = '20240516'\n",
    "##-----------------\n",
    "print(args.exp_id)\n",
    "print(args.project_name)\n",
    "print(args.exp_title)\n",
    "print(args.exp_description)\n",
    "print(args.exp_name)\n"
   ]
  },
  {
   "cell_type": "code",
   "execution_count": 29,
   "id": "25af0a4c-8ff7-4196-be19-7b7a67285f03",
   "metadata": {
    "execution": {
     "iopub.execute_input": "2024-06-15T07:04:30.291216Z",
     "iopub.status.busy": "2024-06-15T07:04:30.290676Z",
     "iopub.status.idle": "2024-06-15T07:04:32.500537Z",
     "shell.execute_reply": "2024-06-15T07:04:32.499887Z",
     "shell.execute_reply.started": "2024-06-15T07:04:30.291177Z"
    }
   },
   "outputs": [
    {
     "name": "stderr",
     "output_type": "stream",
     "text": [
      "\u001b[34m\u001b[1mwandb\u001b[0m: \u001b[33mWARNING\u001b[0m WANDB_NOTEBOOK_NAME should be a path to a notebook file, couldn't find Autoencoder_dev.ipynb.\n"
     ]
    },
    {
     "name": "stdout",
     "output_type": "stream",
     "text": [
      "Resume\n"
     ]
    },
    {
     "name": "stderr",
     "output_type": "stream",
     "text": [
      "\u001b[34m\u001b[1mwandb\u001b[0m: Currently logged in as: \u001b[33mkbardool\u001b[0m. Use \u001b[1m`wandb login --relogin`\u001b[0m to force relogin\n"
     ]
    },
    {
     "data": {
      "text/html": [
       "wandb version 0.17.1 is available!  To upgrade, please run:\n",
       " $ pip install wandb --upgrade"
      ],
      "text/plain": [
       "<IPython.core.display.HTML object>"
      ]
     },
     "metadata": {},
     "output_type": "display_data"
    },
    {
     "data": {
      "text/html": [
       "Tracking run with wandb version 0.16.6"
      ],
      "text/plain": [
       "<IPython.core.display.HTML object>"
      ]
     },
     "metadata": {},
     "output_type": "display_data"
    },
    {
     "data": {
      "text/html": [
       "Run data is saved locally in <code>/home/kevin/WSL-shared/Cellpainting/pt-snnl/wandb/run-20240615_090431-jyydyab3</code>"
      ],
      "text/plain": [
       "<IPython.core.display.HTML object>"
      ]
     },
     "metadata": {},
     "output_type": "display_data"
    },
    {
     "data": {
      "text/html": [
       "Resuming run <strong><a href='https://wandb.ai/kbardool/CellPainting_Profiles/runs/jyydyab3' target=\"_blank\">AE_0614_1453</a></strong> to <a href='https://wandb.ai/kbardool/CellPainting_Profiles' target=\"_blank\">Weights & Biases</a> (<a href='https://wandb.me/run' target=\"_blank\">docs</a>)<br/>"
      ],
      "text/plain": [
       "<IPython.core.display.HTML object>"
      ]
     },
     "metadata": {},
     "output_type": "display_data"
    },
    {
     "data": {
      "text/html": [
       " View project at <a href='https://wandb.ai/kbardool/CellPainting_Profiles' target=\"_blank\">https://wandb.ai/kbardool/CellPainting_Profiles</a>"
      ],
      "text/plain": [
       "<IPython.core.display.HTML object>"
      ]
     },
     "metadata": {},
     "output_type": "display_data"
    },
    {
     "data": {
      "text/html": [
       " View run at <a href='https://wandb.ai/kbardool/CellPainting_Profiles/runs/jyydyab3' target=\"_blank\">https://wandb.ai/kbardool/CellPainting_Profiles/runs/jyydyab3</a>"
      ],
      "text/plain": [
       "<IPython.core.display.HTML object>"
      ]
     },
     "metadata": {},
     "output_type": "display_data"
    },
    {
     "name": "stderr",
     "output_type": "stream",
     "text": [
      "2024-06-15 09:04:32,489 - __main__ - INFO: -  WandB tracking started \n",
      "2024-06-15 09:04:32,491 - __main__ - INFO: -  Experiment Run id: jyydyab3   / jyydyab3\n",
      "2024-06-15 09:04:32,492 - __main__ - INFO: -  Experiment Name  : AE_0614_1453 / AE_0614_1453 \n",
      "2024-06-15 09:04:32,493 - __main__ - INFO: -  Experiment Date  : 20240614  \n",
      "2024-06-15 09:04:32,495 - __main__ - INFO: -  Experiment Notes : Autoencoder Training in Baseline mode - SnglOpt, 512-256-150 dim latent / Autoencoder Training in Baseline mode - SnglOpt, 512-256-150 dim latent \n"
     ]
    },
    {
     "name": "stdout",
     "output_type": "stream",
     "text": [
      " WandB Initialization -----------------------------------------------------------\n",
      " PROJECT NAME: CellPainting_Profiles\n",
      " RUN ID      : jyydyab3 \n",
      " RUN NAME    : AE_0614_1453\n",
      " RUN NOTES   : Autoencoder Training in Baseline mode - SnglOpt, 512-256-150 dim latent\n",
      " --------------------------------------------------------------------------------\n"
     ]
    }
   ],
   "source": [
    "WANDB_ACTIVE = args.wandb\n",
    "if WANDB_ACTIVE:\n",
    "    if args.exp_id is not None:\n",
    "        print(\"Resume\")\n",
    "        resume_wandb = True\n",
    "    else:\n",
    "        print(\"Initialize\")\n",
    "        resume_wandb = False\n",
    "        args.exp_name = 'AE_'+datetime.now().strftime('%m%d_%H%M')\n",
    "    \n",
    "    wandb_run = init_wandb(args)\n",
    "    \n",
    "    args.exp_id = wandb_run.id\n",
    "    args.exp_date = '2024'+args.exp_name[3:7]\n",
    "    \n",
    "    logger.info(f\" WandB tracking started \")\n",
    "    logger.info(f\" Experiment Run id: {args.exp_id}   / {wandb_run.id}\")\n",
    "    logger.info(f\" Experiment Name  : {args.exp_name} / {wandb_run.name} \")\n",
    "    logger.info(f\" Experiment Date  : {args.exp_date}  \")\n",
    "    logger.info(f\" Experiment Notes : {args.exp_description} / {wandb_run.notes} \")\n",
    "else: \n",
    "    logger.info(f\" *** W&&B Logging is INACTIVE *** \")\n",
    "    args.exp_name = 'AE_'+datetime.now().strftime('%m%d_%H%M')\n",
    "    args.exp_date = datetime.now().strftime('%Y%m%d')    "
   ]
  },
  {
   "cell_type": "code",
   "execution_count": 30,
   "id": "4e2a35ed-eca4-48a2-8322-051b646ff23b",
   "metadata": {
    "execution": {
     "iopub.execute_input": "2024-06-15T07:04:38.859967Z",
     "iopub.status.busy": "2024-06-15T07:04:38.859454Z",
     "iopub.status.idle": "2024-06-15T07:04:38.914672Z",
     "shell.execute_reply": "2024-06-15T07:04:38.913979Z",
     "shell.execute_reply.started": "2024-06-15T07:04:38.859927Z"
    }
   },
   "outputs": [
    {
     "name": "stderr",
     "output_type": "stream",
     "text": [
      "2024-06-15 09:04:38,903 - __main__ - INFO: -  WandB tracking started\n",
      "2024-06-15 09:04:38,905 - __main__ - INFO: -  Experiment run id:  jyydyab3\n",
      "2024-06-15 09:04:38,907 - __main__ - INFO: -  Experiment Name  :  AE_0614_1453 \n",
      "2024-06-15 09:04:38,908 - __main__ - INFO: -  Experiment Date  :  20240614 \n",
      "2024-06-15 09:04:38,909 - __main__ - INFO: -  Experiment Title :  snglOpt-150Ltnt_512_256 \n",
      "2024-06-15 09:04:38,910 - __main__ - INFO: -  Experiment Notes :  Autoencoder Training in Baseline mode - SnglOpt, 512-256-150 dim latent\n"
     ]
    }
   ],
   "source": [
    "logger.info(f\" WandB tracking started\")\n",
    "logger.info(f\" Experiment run id:  {args.exp_id}\")\n",
    "logger.info(f\" Experiment Name  :  {args.exp_name} \")\n",
    "logger.info(f\" Experiment Date  :  {args.exp_date} \")\n",
    "logger.info(f\" Experiment Title :  {args.exp_title} \")\n",
    "logger.info(f\" Experiment Notes :  {args.exp_description}\")"
   ]
  },
  {
   "cell_type": "markdown",
   "id": "19b32e21-67d2-45af-a45f-841b6dca43ff",
   "metadata": {},
   "source": [
    "# Define autoencoder model"
   ]
  },
  {
   "cell_type": "markdown",
   "id": "cf383487-ecbf-49da-bb01-5a5f22932278",
   "metadata": {},
   "source": [
    "## Override arguments"
   ]
  },
  {
   "cell_type": "code",
   "execution_count": 31,
   "id": "2fdc1998-5141-40c0-82d8-b505d4f19ecd",
   "metadata": {
    "execution": {
     "iopub.execute_input": "2024-06-15T07:04:44.138292Z",
     "iopub.status.busy": "2024-06-15T07:04:44.137785Z",
     "iopub.status.idle": "2024-06-15T07:04:44.185068Z",
     "shell.execute_reply": "2024-06-15T07:04:44.184406Z",
     "shell.execute_reply.started": "2024-06-15T07:04:44.138252Z"
    }
   },
   "outputs": [],
   "source": [
    "# args.temperature   = 0.0\n",
    "# args.loss_factor   = 1.0        ## 2.0e+00\n",
    "# args.snnl_factor   = 0.0       ## 1.0e+00\n",
    "# args.learning_rate = 1.0e-03    ## 0.001\n",
    "# args.temperatureLR = 0.0e-04    ## 1e-4\n",
    "# print(f\"   Latent dim        {args.code_units}\")\n",
    "# print(f\"   loss_factor       {args.loss_factor}\")\n",
    "# print(f\"   snnl_factor       {args.snnl_factor}\")\n",
    "# print(f\"   temperature       {args.temperature}\")\n",
    "# print(f\"   learning_rate     {args.learning_rate}\")\n",
    "# print(f\"   temperatureLR:    {args.temperatureLR}\")\n"
   ]
  },
  {
   "cell_type": "markdown",
   "id": "69b97558-4c5d-4a2d-9d1f-78d8923b1eb7",
   "metadata": {},
   "source": [
    "## Define Model"
   ]
  },
  {
   "cell_type": "code",
   "execution_count": 14,
   "id": "5c4a4bba-76ef-4fa9-9ea5-ba3c55aecfe9",
   "metadata": {
    "execution": {
     "iopub.execute_input": "2024-06-14T14:32:04.222550Z",
     "iopub.status.busy": "2024-06-14T14:32:04.222286Z",
     "iopub.status.idle": "2024-06-14T14:32:04.391249Z",
     "shell.execute_reply": "2024-06-14T14:32:04.390474Z",
     "shell.execute_reply.started": "2024-06-14T14:32:04.222505Z"
    }
   },
   "outputs": [
    {
     "name": "stdout",
     "output_type": "stream",
     "text": [
      "Defining model in baseline mode\n",
      "    Model_init()_    -- AE - support for unsupervised in autoencoding mode is True\n",
      "    layer pair:    0  type:linear           input:   1471  output:   1024    weights: [1024, 1471]   \n",
      "    layer pair:    1  type:relu             input:      0  output:      0    weights: [0, 0]   \n",
      "    layer pair:    2  type:linear           input:   1024  output:    512    weights: [512, 1024]   \n",
      "    layer pair:    3  type:relu             input:      0  output:      0    weights: [0, 0]   \n",
      "    layer pair:    4  type:linear           input:    512  output:     50    weights: [50, 512]   \n",
      "    layer pair:    5  type:sigmoid          input:      0  output:      0    weights: [0, 0]   \n",
      "    layer pair:    6  type:linear           input:     50  output:    512    weights: [512, 50]   \n",
      "    layer pair:    7  type:relu             input:      0  output:      0    weights: [0, 0]   \n",
      "    layer pair:    8  type:linear           input:    512  output:   1024    weights: [1024, 512]   \n",
      "    layer pair:    9  type:relu             input:      0  output:      0    weights: [0, 0]   \n",
      "    layer pair:   10  type:linear           input:   1024  output:   1471    weights: [1471, 1024]   \n"
     ]
    },
    {
     "name": "stderr",
     "output_type": "stream",
     "text": [
      "/home/kevin/miniforge3/envs/ptsnnl/lib/python3.11/site-packages/torch/optim/lr_scheduler.py:28: UserWarning: The verbose parameter is deprecated. Please use get_last_lr() to access the learning rate.\n",
      "  warnings.warn(\"The verbose parameter is deprecated. Please use get_last_lr() \"\n"
     ]
    },
    {
     "data": {
      "text/plain": [
       "'cuda:0'"
      ]
     },
     "execution_count": 14,
     "metadata": {},
     "output_type": "execute_result"
    }
   ],
   "source": [
    "model = define_autoencoder_model(args, embedding_layer = 6, device = current_device)\n",
    "model.device"
   ]
  },
  {
   "cell_type": "code",
   "execution_count": 13,
   "id": "acb11365-5fa8-4a94-ba70-bfe9bc16df18",
   "metadata": {
    "execution": {
     "iopub.execute_input": "2024-06-14T14:32:04.176896Z",
     "iopub.status.busy": "2024-06-14T14:32:04.176632Z",
     "iopub.status.idle": "2024-06-14T14:32:04.221128Z",
     "shell.execute_reply": "2024-06-14T14:32:04.220323Z",
     "shell.execute_reply.started": "2024-06-14T14:32:04.176871Z"
    },
    "scrolled": true
   },
   "outputs": [
    {
     "name": "stdout",
     "output_type": "stream",
     "text": [
      "\n",
      "command line parms : \n",
      "-----------------------\n",
      "SGD_weight_decay.........  0\n",
      "adam_weight_decay........  0\n",
      "batch_size...............  1\n",
      "\n",
      "    cellpainting_args   (dict)\n",
      "    ----------------------------\n",
      "    batch_size...............  1\n",
      "    chunksize................  None\n",
      "    compounds_per_batch......  100\n",
      "    conversions..............  None\n",
      "    iterator.................  True\n",
      "    sample_size..............  3\n",
      "    test_end.................  33600\n",
      "    test_path................  /home/kevin/WSL-shared/Cellpainting/cj-datasets/output_11102023/3_sample_profiles/3sample_profiles_1482_HashOrder_test.csv\n",
      "    test_start...............  30000\n",
      "    train_end................  240000\n",
      "    train_start..............  0\n",
      "    training_path............  /home/kevin/WSL-shared/Cellpainting/cj-datasets/output_11102023/3_sample_profiles/3sample_profiles_1482_HashOrder.csv\n",
      "    val_end..................  24000\n",
      "    val_start................  0\n",
      "    validation_path..........  /home/kevin/WSL-shared/Cellpainting/cj-datasets/output_11102023/3_sample_profiles/3sample_profiles_1482_HashOrder_test.csv\n",
      "\n",
      "ckpt.....................  None\n",
      "code_units...............  50\n",
      "configuration............  hyperparameters/ae_cp_050_512_sig.yaml\n",
      "dataset..................  cellpainting\n",
      "embedding_layer..........  4\n",
      "epochs...................  50\n",
      "exp_date.................  20240614\n",
      "exp_description..........  Autoencoder Training in Baseline mode - SnglOpt, 50 dim latent, 512 Midlayer\n",
      "exp_folder...............  None\n",
      "exp_id...................  6yshh4tr\n",
      "exp_name.................  AE_0614_1631\n",
      "exp_name_pfx.............  None\n",
      "exp_title................  snglOpt-050Ltnt_512_Sig\n",
      "folder_sfx...............  None\n",
      "gpu_id...................  0\n",
      "input_shape..............  1471\n",
      "learning_rate............  0.001\n",
      "loss_factor..............  1.0\n",
      "\n",
      "    paths   (dict)\n",
      "    ----------------\n",
      "    checkpoint_dir...........  ./ckpt\n",
      "    log_dir..................  ./logs\n",
      "    result_dir...............  ./results\n",
      "\n",
      "project_name.............  CellPainting_Profiles\n",
      "random_seed..............  4321\n",
      "runmode..................  baseline\n",
      "save_every...............  25\n",
      "show_every...............  1\n",
      "snnl_factor..............  0.0\n",
      "temperature..............  0.0\n",
      "temperatureLR............  0.0\n",
      "units....................  [['linear', 1471, 1024], ['relu', 0, 0], ['linear', 1024, 512], ['relu', 0, 0], ['linear', 512, 50], ['sigmoid', 0, 0], ['linear', 50, 512], ['relu', 0, 0], ['linear', 512, 1024], ['relu', 0, 0], ['linear', 1024, 1471]]\n",
      "wandb....................  True\n",
      "\n"
     ]
    }
   ],
   "source": [
    "list_namespace(args)"
   ]
  },
  {
   "cell_type": "code",
   "execution_count": 15,
   "id": "a980870b-38de-4608-af68-56cba1468eab",
   "metadata": {
    "execution": {
     "iopub.execute_input": "2024-06-14T14:32:04.393015Z",
     "iopub.status.busy": "2024-06-14T14:32:04.392632Z",
     "iopub.status.idle": "2024-06-14T14:32:04.440739Z",
     "shell.execute_reply": "2024-06-14T14:32:04.440085Z",
     "shell.execute_reply.started": "2024-06-14T14:32:04.392976Z"
    },
    "scrolled": true
   },
   "outputs": [
    {
     "name": "stderr",
     "output_type": "stream",
     "text": [
      "\u001b[34m\u001b[1mwandb\u001b[0m: logging graph, to disable use `wandb.watch(log_graph=False)`\n"
     ]
    }
   ],
   "source": [
    "if WANDB_ACTIVE:\n",
    "    wandb_watch(item = model, criterion=None, log = 'all', log_freq = 1000, log_graph = True)"
   ]
  },
  {
   "cell_type": "markdown",
   "id": "096c7200-90a2-40f2-999b-d91fe8d8c489",
   "metadata": {},
   "source": [
    "# Load model checkpoint "
   ]
  },
  {
   "cell_type": "code",
   "execution_count": 16,
   "id": "d2f6f513-5d78-4067-8321-856fdfec9562",
   "metadata": {
    "execution": {
     "iopub.execute_input": "2024-06-14T14:32:04.442476Z",
     "iopub.status.busy": "2024-06-14T14:32:04.442114Z",
     "iopub.status.idle": "2024-06-14T14:32:04.495693Z",
     "shell.execute_reply": "2024-06-14T14:32:04.494800Z",
     "shell.execute_reply.started": "2024-06-14T14:32:04.442440Z"
    }
   },
   "outputs": [
    {
     "name": "stderr",
     "output_type": "stream",
     "text": [
      "2024-06-14 16:32:04,490 - root - INFO: -  INITIALIZE TRAINING - Run epochs 1 to 50 \n"
     ]
    }
   ],
   "source": [
    "if args.ckpt is not None:\n",
    "    resume_training = True\n",
    "    mdl , last_epoch = load_checkpoint_v2(model, args.ckpt)  \n",
    "    model.train()\n",
    "    model.device = current_device\n",
    "    model = model.cuda(device=current_device)\n",
    "    logging.info(f\" Loaded Model device {model.device} -  Last completed epoch : {last_epoch}\")\n",
    "    starting_epoch = last_epoch\n",
    "    epochs = last_epoch + args.epochs\n",
    "    logging.info(f\" RESUME TRAINING - Run epochs {starting_epoch+1} to {epochs} \")\n",
    "    \n",
    "else:\n",
    "    resume_training = False\n",
    "    starting_epoch = 0\n",
    "    epochs = args.epochs\n",
    "    logging.info(f\" INITIALIZE TRAINING - Run epochs {starting_epoch+1} to {epochs} \")"
   ]
  },
  {
   "cell_type": "markdown",
   "id": "94aeaa82-14c5-465c-ae6e-bb792ba8a973",
   "metadata": {},
   "source": [
    "# Autoencoder `fit(data_loader = train_loader, epochs = epochs)` "
   ]
  },
  {
   "cell_type": "code",
   "execution_count": 17,
   "id": "08eaa729-d6ef-474a-b7fe-3a11a429835f",
   "metadata": {
    "execution": {
     "iopub.execute_input": "2024-06-14T14:32:04.497482Z",
     "iopub.status.busy": "2024-06-14T14:32:04.497049Z",
     "iopub.status.idle": "2024-06-14T14:32:04.548030Z",
     "shell.execute_reply": "2024-06-14T14:32:04.547413Z",
     "shell.execute_reply.started": "2024-06-14T14:32:04.497442Z"
    }
   },
   "outputs": [
    {
     "name": "stdout",
     "output_type": "stream",
     "text": [
      "\n",
      " Current device      : cuda:0\n",
      " Model device        : cuda:0\n",
      " SNNL temperature    : 0\n",
      " Learning rate       : 0.001\n",
      " snnl_factor         : 0.0\n",
      " loss_factor         : 1.0\n",
      " monitor_grads_layer : None\n",
      " Use Scheduler       : True\n",
      " Use snnl            : False\n",
      "\n",
      " 20240614_163204  epoch    1 of   50\n"
     ]
    }
   ],
   "source": [
    "print()\n",
    "print(f\" Current device      : {current_device}\")\n",
    "print(f\" Model device        : {model.device}\")\n",
    "print(f\" SNNL temperature    : {model.temperature}\")\n",
    "print(f\" Learning rate       : {model.optimizer.param_groups[0]['lr']}\") \n",
    "print(f\" snnl_factor         : {model.snnl_factor}\")\n",
    "print(f\" loss_factor         : {model.loss_factor}\")\n",
    "print(f\" monitor_grads_layer : {model.monitor_grads_layer}\")\n",
    "print(f\" Use Scheduler       : {model.use_scheduler}\") \n",
    "print(f\" Use snnl            : {model.use_snnl}\") \n",
    "if model.use_snnl:\n",
    "    print(f\" Temperature         : {model.temperature.item()}\")\n",
    "    print(f\" Temperature LR      : {model.optimizer.param_groups[1]['lr']}\") \n",
    "    print(f\" Use Temp Scheduler  : {model.use_temp_scheduler}\") \n",
    "    if model.temp_scheduler:\n",
    "        print(f\" Temp Scheduler      : {model.temp_scheduler}\") \n",
    "    if model.temp_optimizer:\n",
    "        print(f\" Temperature LR      : {model.temp_optimizer.param_groups[0]['lr']}\") \n",
    "print()\n",
    "\n",
    "if resume_training:    \n",
    "    for th_key in ['trn', 'val']:\n",
    "        for k,v in model.training_history[th_key].items():\n",
    "            if isinstance(v[-1],str):\n",
    "                print(f\" {k:20s} : {v[-1]:s}  \")\n",
    "            else:\n",
    "                print(f\" {k:20s} : {v[-1]:6f} \")\n",
    "        print()    \n",
    "print(f\" {datetime.now().strftime('%Y%m%d_%H%M%S')}  epoch {starting_epoch+1:4d} of {epochs:4d}\")"
   ]
  },
  {
   "cell_type": "code",
   "execution_count": null,
   "id": "3e11ced4-9863-4616-8b09-63e8a8464b48",
   "metadata": {},
   "outputs": [],
   "source": [
    "if 'gen' not in model.training_history:\n",
    "    print(f\" Define self.training_history['gen'] \")\n",
    "    model.training_history['gen'] = {'trn_best_metric' : 0, 'trn_best_metric_ep' : 0, 'trn_best_loss': 0, 'trn_best_loss_ep' : 0 ,\n",
    "                                    'val_best_metric' : 0, 'val_best_metric_ep' : 0, 'val_best_loss': 0, 'val_best_loss_ep' : 0 }        \n",
    "\n",
    "    for key in ['trn', 'val']:\n",
    "        tmp = np.argmin(model.training_history[key][f'{key}_ttl_loss'])\n",
    "        model.training_history['gen'][f'{key}_best_loss_ep'] = tmp\n",
    "        model.training_history['gen'][f'{key}_best_loss']    = model.training_history[key][f'{key}_ttl_loss'][tmp]\n",
    "        \n",
    "        tmp1 = np.argmax(model.training_history[key][f'{key}_R2_score'])\n",
    "        model.training_history['gen'][f'{key}_best_metric_ep'] = tmp1\n",
    "        model.training_history['gen'][f'{key}_best_metric'] = model.training_history[key][f'{key}_R2_score'][tmp1]\n",
    " \n",
    "print(f\" Best training loss     : {model.training_history['gen']['trn_best_loss']:6f} - epoch: {model.training_history['gen']['trn_best_loss_ep']}\") \n",
    "print(f\" Best training metric   : {model.training_history['gen']['trn_best_metric']:6f} - epoch: {model.training_history['gen']['trn_best_metric_ep']}\") \n",
    "print() \n",
    "print(f\" Best validation loss   : {model.training_history['gen']['val_best_loss']:6f} - epoch: {model.training_history['gen']['val_best_loss_ep']}\") \n",
    "print(f\" Best validation metric : {model.training_history['gen']['val_best_metric']:6f} - epoch: {model.training_history['gen']['val_best_metric_ep']}\") \n",
    "print()"
   ]
  },
  {
   "cell_type": "code",
   "execution_count": 18,
   "id": "69a38165-e4cf-48b9-aefc-ed436c34261f",
   "metadata": {
    "execution": {
     "iopub.execute_input": "2024-06-14T14:25:56.599875Z",
     "iopub.status.busy": "2024-06-14T14:25:56.599363Z",
     "iopub.status.idle": "2024-06-14T14:25:56.644424Z",
     "shell.execute_reply": "2024-06-14T14:25:56.643599Z",
     "shell.execute_reply.started": "2024-06-14T14:25:56.599834Z"
    }
   },
   "outputs": [],
   "source": [
    "# model.temperature = 40.0\n",
    "# model.snnl_factor = 0.5\n",
    "# model.loss_factor = 0.1\n",
    "# model.temperatureLR = 1e-4\n",
    "# model.optimizer.param_groups[0]['lr'] = 0.001\n",
    "# model.temp_optimizer.param_groups[0]['lr'] = 0.000005\n",
    "# model.monitor_grads_layer = -2\n",
    "# print()\n",
    "# if model.use_snnl:\n",
    "#     print(f\" Use snnl            : {model.use_snnl}\") \n",
    "#     print(f\" snnl_factor         : {model.snnl_factor}\")\n",
    "#     print(f\" temperature         : {model.temperature.item()}\")\n",
    "#     print(f\" Temperature LR      : {model.optimizer.param_groups[1]['lr']}\") \n",
    "#     # print(f\" Temperature LR      : {model.temp_optimizer.param_groups[0]['lr']}\") \n",
    "#     print(f\" Use Temp Scheduler  : {model.use_temp_scheduler}\") \n",
    "#     print(f\" Temp Scheduler      : {model.temp_scheduler}\") \n",
    "# print(f\"\\n run epochs {starting_epoch+1} to {epochs} \")"
   ]
  },
  {
   "cell_type": "code",
   "execution_count": 18,
   "id": "37b85bf0-7e59-4892-b27c-aa9454919fa7",
   "metadata": {
    "execution": {
     "iopub.execute_input": "2024-06-14T14:32:21.441535Z",
     "iopub.status.busy": "2024-06-14T14:32:21.441039Z",
     "iopub.status.idle": "2024-06-14T14:32:21.487751Z",
     "shell.execute_reply": "2024-06-14T14:32:21.486896Z",
     "shell.execute_reply.started": "2024-06-14T14:32:21.441493Z"
    }
   },
   "outputs": [],
   "source": [
    "if WANDB_ACTIVE:\n",
    "    wandb.config.update(args)"
   ]
  },
  {
   "cell_type": "code",
   "execution_count": null,
   "id": "55efa948-c9af-46f5-9ce3-c668275bb1a5",
   "metadata": {},
   "outputs": [],
   "source": [
    "#\n",
    "#  Running Training Loop\n",
    "#\n",
    "\n",
    "logger.info(f\" Experiment run id:  {args.exp_id}\")\n",
    "logger.info(f\" Experiment Name  :  {args.exp_name} \")\n",
    "logger.info(f\" Experiment Date  :  {args.exp_date} \")\n",
    "logger.info(f\" Experiment Title :  {args.exp_title} \")\n",
    "logger.info(f\" Experiment Notes :  {args.exp_description}\")\n",
    "logger.info(f\" Run epochs {starting_epoch+1:4d} to {epochs:4d}\")"
   ]
  },
  {
   "cell_type": "code",
   "execution_count": 24,
   "id": "5d979f75-0782-428f-844d-8231f46546d3",
   "metadata": {
    "execution": {
     "iopub.execute_input": "2024-06-14T14:54:15.167611Z",
     "iopub.status.busy": "2024-06-14T14:54:15.167078Z",
     "iopub.status.idle": "2024-06-14T16:54:23.316672Z",
     "shell.execute_reply": "2024-06-14T16:54:23.315978Z",
     "shell.execute_reply.started": "2024-06-14T14:54:15.167571Z"
    },
    "scrolled": true
   },
   "outputs": [
    {
     "name": "stdout",
     "output_type": "stream",
     "text": [
      "20240614_165415  epoch    1 of   50\n",
      "                     |   Trn_loss    PrimLoss      SNNL   |    temp*        grad     |   R2                     |   Vld_loss    PrimLoss      SNNL   |   R2                     |    LR       temp LR   |\n",
      "---------------------+------------------------------------+--------------------------+--------------------------+------------------------------------+--------------------------|-----------------------|\n",
      "16:34:41 ep   1 / 50 |   0.552813    0.552813    0.000000 |   0.000000    0.0000e+00 |   0.2643      0          |   0.503736    0.503736    0.000000 |   0.3437      0          |   0.001000   0.000000 |\n",
      "16:41:05 ep   2 / 50 |   0.488549    0.488549    0.000000 |   0.000000    0.0000e+00 |   0.3840      1          |   0.494138    0.494138    0.000000 |   0.4144      1          |   0.001000   0.000000 |\n",
      "16:56:36 ep   3 / 50 |   0.466090    0.466090    0.000000 |   0.000000    0.0000e+00 |   0.4360      2          |   0.439522    0.439522    0.000000 |   0.4628      2          |   0.001000   0.000000 |\n",
      "16:58:59 ep   4 / 50 |   0.432312    0.432312    0.000000 |   0.000000    0.0000e+00 |   0.4727      3          |   0.423311    0.423311    0.000000 |   0.4704      3          |   0.001000   0.000000 |\n",
      "17:01:20 ep   5 / 50 |   0.394352    0.394352    0.000000 |   0.000000    0.0000e+00 |   0.5099      4          |   0.386938    0.386938    0.000000 |   0.5042      4          |   0.001000   0.000000 |\n",
      "17:03:43 ep   6 / 50 |   0.365738    0.365738    0.000000 |   0.000000    0.0000e+00 |   0.5254      5          |   0.358122    0.358122    0.000000 |   0.5301      5          |   0.001000   0.000000 |\n",
      "17:06:06 ep   7 / 50 |   0.346339    0.346339    0.000000 |   0.000000    0.0000e+00 |   0.5462      6          |   0.333526    0.333526    0.000000 |   0.5313      5          |   0.001000   0.000000 |\n",
      "17:08:29 ep   8 / 50 |   0.318843    0.318843    0.000000 |   0.000000    0.0000e+00 |   0.5669      7          |   0.312053    0.312053    0.000000 |   0.5796      5          |   0.001000   0.000000 |\n",
      "17:10:51 ep   9 / 50 |   0.301612    0.301612    0.000000 |   0.000000    0.0000e+00 |   0.5759      8          |   0.300355    0.300355    0.000000 |   0.5761      8          |   0.001000   0.000000 |\n",
      "17:13:14 ep  10 / 50 |   0.292284    0.292284    0.000000 |   0.000000    0.0000e+00 |   0.5881      9          |   0.302667    0.302667    0.000000 |   0.5763      8          |   0.001000   0.000000 |\n",
      "17:15:38 ep  11 / 50 |   0.284804    0.284804    0.000000 |   0.000000    0.0000e+00 |   0.5883     10          |   0.296544    0.296544    0.000000 |   0.5836     10          |   0.001000   0.000000 |\n",
      "17:18:03 ep  12 / 50 |   0.283835    0.283835    0.000000 |   0.000000    0.0000e+00 |   0.5897     11          |   0.285959    0.285959    0.000000 |   0.5764     10          |   0.001000   0.000000 |\n",
      "17:20:30 ep  13 / 50 |   0.281638    0.281638    0.000000 |   0.000000    0.0000e+00 |   0.5906     11          |   0.277580    0.277580    0.000000 |   0.5879     12          |   0.001000   0.000000 |\n",
      "17:22:56 ep  14 / 50 |   0.264753    0.264753    0.000000 |   0.000000    0.0000e+00 |   0.5998     11          |   0.270722    0.270722    0.000000 |   0.5812     12          |   0.001000   0.000000 |\n",
      "17:25:21 ep  15 / 50 |   0.264863    0.264863    0.000000 |   0.000000    0.0000e+00 |   0.5968     14          |   0.276198    0.276198    0.000000 |   0.6134     12          |   0.001000   0.000000 |\n",
      "17:27:47 ep  16 / 50 |   0.262608    0.262608    0.000000 |   0.000000    0.0000e+00 |   0.5977     14          |   0.282732    0.282732    0.000000 |   0.5821     12          |   0.001000   0.000000 |\n",
      "17:30:09 ep  17 / 50 |   0.258299    0.258299    0.000000 |   0.000000    0.0000e+00 |   0.6019     14          |   0.292139    0.292139    0.000000 |   0.5651     12          |   0.001000   0.000000 |\n",
      "17:32:33 ep  18 / 50 |   0.269463    0.269463    0.000000 |   0.000000    0.0000e+00 |   0.5902     17          |   0.270041    0.270041    0.000000 |   0.5991     17          |   0.001000   0.000000 |\n",
      "17:34:58 ep  19 / 50 |   0.253475    0.253475    0.000000 |   0.000000    0.0000e+00 |   0.6015     17          |   0.272432    0.272432    0.000000 |   0.5661     17          |   0.001000   0.000000 |\n",
      "17:37:21 ep  20 / 50 |   0.246980    0.246980    0.000000 |   0.000000    0.0000e+00 |   0.6019     19          |   0.258958    0.258958    0.000000 |   0.6357     17          |   0.001000   0.000000 |\n",
      "17:39:46 ep  21 / 50 |   0.248759    0.248759    0.000000 |   0.000000    0.0000e+00 |   0.5978     19          |   0.261966    0.261966    0.000000 |   0.6127     17          |   0.001000   0.000000 |\n",
      "17:42:11 ep  22 / 50 |   0.243243    0.243243    0.000000 |   0.000000    0.0000e+00 |   0.6027     19          |   0.272501    0.272501    0.000000 |   0.5525     17          |   0.001000   0.000000 |\n",
      "17:44:36 ep  23 / 50 |   0.254666    0.254666    0.000000 |   0.000000    0.0000e+00 |   0.5889     22          |   0.267217    0.267217    0.000000 |   0.5711     17          |   0.001000   0.000000 |\n",
      "17:47:02 ep  24 / 50 |   0.244889    0.244889    0.000000 |   0.000000    0.0000e+00 |   0.5972     22          |   0.255584    0.255584    0.000000 |   0.5857     17          |   0.001000   0.000000 |\n"
     ]
    },
    {
     "name": "stderr",
     "output_type": "stream",
     "text": [
      "2024-06-14 17:54:17,741 - snnl.utils.utils - INFO: -  Model exported to ckpts/AE_baseline_20240614_snglOpt-050Ltnt_512_Sig_ep_025.pt.\n"
     ]
    },
    {
     "name": "stdout",
     "output_type": "stream",
     "text": [
      "17:49:27 ep  25 / 50 |   0.239199    0.239199    0.000000 |   0.000000    0.0000e+00 |   0.6037     22          |   0.271172    0.271172    0.000000 |   0.5945     17          |   0.001000   0.000000 |\n",
      "17:51:51 ep  26 / 50 |   0.246127    0.246127    0.000000 |   0.000000    0.0000e+00 |   0.5921     22          |   0.292393    0.292393    0.000000 |   0.5163     17          |   0.001000   0.000000 |\n",
      "17:54:17 ep  27 / 50 |   0.242274    0.242274    0.000000 |   0.000000    0.0000e+00 |   0.5956     22          |   0.267305    0.267305    0.000000 |   0.6031     17          |   0.001000   0.000000 |\n",
      "17:56:40 ep  28 / 50 |   0.243710    0.243710    0.000000 |   0.000000    0.0000e+00 |   0.5914     27          |   0.265933    0.265933    0.000000 |   0.6171     17          |   0.001000   0.000000 |\n",
      "17:59:03 ep  29 / 50 |   0.237212    0.237212    0.000000 |   0.000000    0.0000e+00 |   0.6032     27          |   0.248292    0.248292    0.000000 |   0.5898     17          |   0.001000   0.000000 |\n",
      "18:01:27 ep  30 / 50 |   0.233121    0.233121    0.000000 |   0.000000    0.0000e+00 |   0.6045     27          |   0.258745    0.258745    0.000000 |   0.5736     17          |   0.001000   0.000000 |\n",
      "18:03:51 ep  31 / 50 |   0.238069    0.238069    0.000000 |   0.000000    0.0000e+00 |   0.5970     30          |   0.255939    0.255939    0.000000 |   0.5538     17          |   0.001000   0.000000 |\n",
      "18:06:15 ep  32 / 50 |   0.237088    0.237088    0.000000 |   0.000000    0.0000e+00 |   0.5980     31          |   0.249125    0.249125    0.000000 |   0.5457     17          |   0.001000   0.000000 |\n",
      "18:08:39 ep  33 / 50 |   0.229809    0.229809    0.000000 |   0.000000    0.0000e+00 |   0.6051     31          |   0.249757    0.249757    0.000000 |   0.5983     17          |   0.001000   0.000000 |\n",
      "18:11:04 ep  34 / 50 |   0.228879    0.228879    0.000000 |   0.000000    0.0000e+00 |   0.6059     31          |   0.244060    0.244060    0.000000 |   0.5785     17          |   0.001000   0.000000 |\n",
      "18:13:30 ep  35 / 50 |   0.227528    0.227528    0.000000 |   0.000000    0.0000e+00 |   0.6039     31          |   0.252849    0.252849    0.000000 |   0.5649     17          |   0.001000   0.000000 |\n",
      "18:15:57 ep  36 / 50 |   0.228207    0.228207    0.000000 |   0.000000    0.0000e+00 |   0.6048     31          |   0.253888    0.253888    0.000000 |   0.5562     17          |   0.001000   0.000000 |\n",
      "18:18:24 ep  37 / 50 |   0.231575    0.231575    0.000000 |   0.000000    0.0000e+00 |   0.6051     31          |   0.246710    0.246710    0.000000 |   0.5958     17          |   0.001000   0.000000 |\n",
      "18:20:50 ep  38 / 50 |   0.232629    0.232629    0.000000 |   0.000000    0.0000e+00 |   0.6005     37          |   0.247715    0.247715    0.000000 |   0.5983     17          |   0.001000   0.000000 |\n",
      "18:23:16 ep  39 / 50 |   0.230763    0.230763    0.000000 |   0.000000    0.0000e+00 |   0.6009     37          |   0.247426    0.247426    0.000000 |   0.5608     17          |   0.001000   0.000000 |\n",
      "18:25:39 ep  40 / 50 |   0.231085    0.231085    0.000000 |   0.000000    0.0000e+00 |   0.6065     39          |   0.254862    0.254862    0.000000 |   0.5652     17          |   0.001000   0.000000 |\n",
      "18:28:04 ep  41 / 50 |   0.225282    0.225282    0.000000 |   0.000000    0.0000e+00 |   0.6046     39          |   0.245079    0.245079    0.000000 |   0.5228     17          |   0.001000   0.000000 |\n",
      "18:30:28 ep  42 / 50 |   0.222588    0.222588    0.000000 |   0.000000    0.0000e+00 |   0.6093     39          |   0.253137    0.253137    0.000000 |   0.6093     17          |   0.001000   0.000000 |\n",
      "18:32:54 ep  43 / 50 |   0.221220    0.221220    0.000000 |   0.000000    0.0000e+00 |   0.6088     39          |   0.244489    0.244489    0.000000 |   0.5272     17          |   0.001000   0.000000 |\n",
      "18:35:16 ep  44 / 50 |   0.237443    0.237443    0.000000 |   0.000000    0.0000e+00 |   0.5940     43          |   0.249888    0.249888    0.000000 |   0.5876     17          |   0.001000   0.000000 |\n",
      "18:37:42 ep  45 / 50 |   0.225405    0.225405    0.000000 |   0.000000    0.0000e+00 |   0.6072     44          |   0.240945    0.240945    0.000000 |   0.5619     17          |   0.001000   0.000000 |\n",
      "18:40:03 ep  46 / 50 |   0.221106    0.221106    0.000000 |   0.000000    0.0000e+00 |   0.6116     44          |   0.249097    0.249097    0.000000 |   0.5794     17          |   0.001000   0.000000 |\n",
      "18:42:25 ep  47 / 50 |   0.222219    0.222219    0.000000 |   0.000000    0.0000e+00 |   0.6129     46          |   0.239196    0.239196    0.000000 |   0.6001     17          |   0.001000   0.000000 |\n",
      "18:44:51 ep  48 / 50 |   0.220331    0.220331    0.000000 |   0.000000    0.0000e+00 |   0.6119     47          |   0.241247    0.241247    0.000000 |   0.5846     17          |   0.001000   0.000000 |\n",
      "18:47:13 ep  49 / 50 |   0.216865    0.216865    0.000000 |   0.000000    0.0000e+00 |   0.6145     48          |   0.238909    0.238909    0.000000 |   0.6071     17          |   0.001000   0.000000 |\n"
     ]
    },
    {
     "name": "stderr",
     "output_type": "stream",
     "text": [
      "2024-06-14 18:54:23,306 - snnl.utils.utils - INFO: -  Model exported to ckpts/AE_baseline_20240614_snglOpt-050Ltnt_512_Sig_ep_050.pt.\n"
     ]
    },
    {
     "name": "stdout",
     "output_type": "stream",
     "text": [
      "18:49:36 ep  50 / 50 |   0.215943    0.215943    0.000000 |   0.000000    0.0000e+00 |   0.6177     48          |   0.231988    0.231988    0.000000 |   0.5694     17          |   0.001000   0.000000 |\n"
     ]
    }
   ],
   "source": [
    "header = True\n",
    "\n",
    "for epoch in range(starting_epoch,epochs):\n",
    "    train_loss = model.epoch_train(train_loader, epoch)\n",
    "    val_loss = model.epoch_validate(val_loader, epoch)\n",
    "    \n",
    "    display_epoch_metrics(model, epoch, epochs, header)\n",
    "    header = False\n",
    "    model.scheduling_step(val_loss)\n",
    "    \n",
    "    if WANDB_ACTIVE:\n",
    "        epoch_metrics = {x:y[-1] for x,y in model.training_history['val'].items()} | \\\n",
    "                        {x:y[-1] for x,y in model.training_history['trn'].items()} \n",
    "        wandb_log_metrics( data = epoch_metrics, step = epoch)\n",
    "    \n",
    "    if (epoch + 1) % args.save_every == 0:\n",
    "        filename = f\"{model.name}_{args.runmode}_{args.exp_date}_{args.exp_title}_ep_{epoch+1:03d}\"\n",
    "        save_checkpoint_v2(epochs, model, filename, update_latest=False, update_best=False)    "
   ]
  },
  {
   "cell_type": "markdown",
   "id": "4db1bb40-263b-4c7a-bbc6-79836d37c938",
   "metadata": {},
   "source": [
    "### Close WandB Logging"
   ]
  },
  {
   "cell_type": "code",
   "execution_count": 32,
   "id": "868e46e6-f18d-410b-a376-7f26433447af",
   "metadata": {
    "execution": {
     "iopub.execute_input": "2024-06-15T07:04:53.302477Z",
     "iopub.status.busy": "2024-06-15T07:04:53.301972Z",
     "iopub.status.idle": "2024-06-15T07:04:58.689570Z",
     "shell.execute_reply": "2024-06-15T07:04:58.688417Z",
     "shell.execute_reply.started": "2024-06-15T07:04:53.302434Z"
    }
   },
   "outputs": [
    {
     "data": {
      "text/html": [
       "<style>\n",
       "    table.wandb td:nth-child(1) { padding: 0 10px; text-align: left ; width: auto;} td:nth-child(2) {text-align: left ; width: 100%}\n",
       "    .wandb-row { display: flex; flex-direction: row; flex-wrap: wrap; justify-content: flex-start; width: 100% }\n",
       "    .wandb-col { display: flex; flex-direction: column; flex-basis: 100%; flex: 1; padding: 10px; }\n",
       "    </style>\n",
       "<div class=\"wandb-row\"><div class=\"wandb-col\"><h3>Run summary:</h3><br/><table class=\"wandb\"><tr><td>trn_R2_score</td><td>0.69929</td></tr><tr><td>trn_lr</td><td>0.00025</td></tr><tr><td>trn_prim_loss</td><td>0.16082</td></tr><tr><td>trn_snn_loss</td><td>0</td></tr><tr><td>trn_time</td><td>02:10:08</td></tr><tr><td>trn_ttl_loss</td><td>0.16082</td></tr><tr><td>val_R2_score</td><td>0.55677</td></tr><tr><td>val_prim_loss</td><td>0.20365</td></tr><tr><td>val_snn_loss</td><td>0</td></tr><tr><td>val_time</td><td>02:10:20</td></tr><tr><td>val_ttl_loss</td><td>0.20365</td></tr></table><br/></div></div>"
      ],
      "text/plain": [
       "<IPython.core.display.HTML object>"
      ]
     },
     "metadata": {},
     "output_type": "display_data"
    },
    {
     "data": {
      "text/html": [
       " View run <strong style=\"color:#cdcd00\">AE_0614_1453</strong> at: <a href='https://wandb.ai/kbardool/CellPainting_Profiles/runs/jyydyab3' target=\"_blank\">https://wandb.ai/kbardool/CellPainting_Profiles/runs/jyydyab3</a><br/> View project at: <a href='https://wandb.ai/kbardool/CellPainting_Profiles' target=\"_blank\">https://wandb.ai/kbardool/CellPainting_Profiles</a><br/>Synced 4 W&B file(s), 0 media file(s), 0 artifact file(s) and 0 other file(s)"
      ],
      "text/plain": [
       "<IPython.core.display.HTML object>"
      ]
     },
     "metadata": {},
     "output_type": "display_data"
    },
    {
     "data": {
      "text/html": [
       "Find logs at: <code>./wandb/run-20240615_090431-jyydyab3/logs</code>"
      ],
      "text/plain": [
       "<IPython.core.display.HTML object>"
      ]
     },
     "metadata": {},
     "output_type": "display_data"
    }
   ],
   "source": [
    "if WANDB_ACTIVE:\n",
    "    wandb_run.finish()\n",
    "    WANDB_ACTIVE = False"
   ]
  },
  {
   "cell_type": "code",
   "execution_count": null,
   "id": "5ee3faf8-36a8-4257-9d90-849b23948273",
   "metadata": {
    "execution": {
     "iopub.execute_input": "2024-06-12T12:08:48.586173Z",
     "iopub.status.busy": "2024-06-12T12:08:48.585878Z",
     "iopub.status.idle": "2024-06-12T12:08:48.628446Z",
     "shell.execute_reply": "2024-06-12T12:08:48.627714Z",
     "shell.execute_reply.started": "2024-06-12T12:08:48.586150Z"
    }
   },
   "outputs": [],
   "source": [
    "starting_epoch, epochs \n",
    "\n",
    "# starting_epoch = 350\n",
    "# epochs = 35\n",
    "# starting_epoch = epochs\n",
    "# epochs += 100\n",
    "print(f\" run epochs {starting_epoch+1} to {epochs} \")"
   ]
  },
  {
   "cell_type": "code",
   "execution_count": 30,
   "id": "d116ac2b-6dd6-4b5c-b112-48c8dfadbfaf",
   "metadata": {
    "execution": {
     "iopub.execute_input": "2024-06-14T12:45:18.946891Z",
     "iopub.status.busy": "2024-06-14T12:45:18.946305Z",
     "iopub.status.idle": "2024-06-14T12:45:19.008039Z",
     "shell.execute_reply": "2024-06-14T12:45:19.006592Z",
     "shell.execute_reply.started": "2024-06-14T12:45:18.946849Z"
    },
    "scrolled": true
   },
   "outputs": [
    {
     "name": "stdout",
     "output_type": "stream",
     "text": [
      "                     |   Trn_loss    PrimLoss      SNNL   |    temp*        grad     |   R2                     |   Vld_loss    PrimLoss      SNNL   |   R2                     |    LR       temp LR   |\n",
      "---------------------+------------------------------------+--------------------------+--------------------------+------------------------------------+--------------------------|-----------------------|\n",
      "11:38:46 ep   1 / 50 |   0.551809    0.551809    0.000000 |   0.000000    0.0000e+00 |   0.2715                 |   0.454971    0.454971    0.000000 |   0.4000                 |   0.001000   0.000000 |\n",
      "11:41:08 ep   2 / 50 |   0.427534    0.427534    0.000000 |   0.000000    0.0000e+00 |   0.4531                 |   0.396159    0.396159    0.000000 |   0.4900                 |   0.001000   0.000000 |\n",
      "11:43:31 ep   3 / 50 |   0.374878    0.374878    0.000000 |   0.000000    0.0000e+00 |   0.4997                 |   0.367353    0.367353    0.000000 |   0.5057                 |   0.001000   0.000000 |\n",
      "11:45:55 ep   4 / 50 |   0.349162    0.349162    0.000000 |   0.000000    0.0000e+00 |   0.5200                 |   0.368487    0.368487    0.000000 |   0.4557                 |   0.001000   0.000000 |\n",
      "11:48:18 ep   5 / 50 |   0.325225    0.325225    0.000000 |   0.000000    0.0000e+00 |   0.5390                 |   0.330565    0.330565    0.000000 |   0.5290                 |   0.001000   0.000000 |\n",
      "11:50:45 ep   6 / 50 |   0.314977    0.314977    0.000000 |   0.000000    0.0000e+00 |   0.5502                 |   0.312213    0.312213    0.000000 |   0.5789                 |   0.001000   0.000000 |\n",
      "11:53:16 ep   7 / 50 |   0.305469    0.305469    0.000000 |   0.000000    0.0000e+00 |   0.5590                 |   0.331550    0.331550    0.000000 |   0.5436                 |   0.001000   0.000000 |\n",
      "11:55:45 ep   8 / 50 |   0.296516    0.296516    0.000000 |   0.000000    0.0000e+00 |   0.5609                 |   0.300443    0.300443    0.000000 |   0.5535                 |   0.001000   0.000000 |\n",
      "11:58:12 ep   9 / 50 |   0.286965    0.286965    0.000000 |   0.000000    0.0000e+00 |   0.5724                 |   0.301199    0.301199    0.000000 |   0.5399                 |   0.001000   0.000000 |\n",
      "12:00:48 ep  10 / 50 |   0.281015    0.281015    0.000000 |   0.000000    0.0000e+00 |   0.5703                 |   0.298516    0.298516    0.000000 |   0.5899                 |   0.001000   0.000000 |\n",
      "12:03:24 ep  11 / 50 |   0.269398    0.269398    0.000000 |   0.000000    0.0000e+00 |   0.5740                 |   0.273620    0.273620    0.000000 |   0.5834                 |   0.001000   0.000000 |\n",
      "12:05:55 ep  12 / 50 |   0.264710    0.264710    0.000000 |   0.000000    0.0000e+00 |   0.5726                 |   0.308374    0.308374    0.000000 |   0.5025                 |   0.001000   0.000000 |\n",
      "12:08:22 ep  13 / 50 |   0.261093    0.261093    0.000000 |   0.000000    0.0000e+00 |   0.5713                 |   0.262162    0.262162    0.000000 |   0.5843                 |   0.001000   0.000000 |\n",
      "12:10:58 ep  14 / 50 |   0.254410    0.254410    0.000000 |   0.000000    0.0000e+00 |   0.5758                 |   0.272802    0.272802    0.000000 |   0.5591                 |   0.001000   0.000000 |\n",
      "12:13:35 ep  15 / 50 |   0.249452    0.249452    0.000000 |   0.000000    0.0000e+00 |   0.5798                 |   0.255603    0.255603    0.000000 |   0.6026                 |   0.001000   0.000000 |\n",
      "12:16:04 ep  16 / 50 |   0.247794    0.247794    0.000000 |   0.000000    0.0000e+00 |   0.5805                 |   0.265712    0.265712    0.000000 |   0.5820                 |   0.001000   0.000000 |\n",
      "12:18:44 ep  17 / 50 |   0.244365    0.244365    0.000000 |   0.000000    0.0000e+00 |   0.5834                 |   0.270669    0.270669    0.000000 |   0.5473                 |   0.001000   0.000000 |\n",
      "12:21:22 ep  18 / 50 |   0.246288    0.246288    0.000000 |   0.000000    0.0000e+00 |   0.5814                 |   0.296000    0.296000    0.000000 |   0.5668                 |   0.001000   0.000000 |\n",
      "12:23:50 ep  19 / 50 |   0.247347    0.247347    0.000000 |   0.000000    0.0000e+00 |   0.5832                 |   0.265412    0.265412    0.000000 |   0.5375                 |   0.001000   0.000000 |\n",
      "12:26:24 ep  20 / 50 |   0.236582    0.236582    0.000000 |   0.000000    0.0000e+00 |   0.5907                 |   0.260889    0.260889    0.000000 |   0.5608                 |   0.001000   0.000000 |\n",
      "12:28:58 ep  21 / 50 |   0.233087    0.233087    0.000000 |   0.000000    0.0000e+00 |   0.5915                 |   0.241332    0.241332    0.000000 |   0.5750                 |   0.001000   0.000000 |\n",
      "12:31:32 ep  22 / 50 |   0.232035    0.232035    0.000000 |   0.000000    0.0000e+00 |   0.5945                 |   0.257026    0.257026    0.000000 |   0.5760                 |   0.001000   0.000000 |\n",
      "12:34:07 ep  23 / 50 |   0.236539    0.236539    0.000000 |   0.000000    0.0000e+00 |   0.5901                 |   0.279285    0.279285    0.000000 |   0.5211                 |   0.001000   0.000000 |\n",
      "12:36:42 ep  24 / 50 |   0.231396    0.231396    0.000000 |   0.000000    0.0000e+00 |   0.5953                 |   0.240344    0.240344    0.000000 |   0.5496                 |   0.001000   0.000000 |\n",
      "12:39:16 ep  25 / 50 |   0.230761    0.230761    0.000000 |   0.000000    0.0000e+00 |   0.5950                 |   0.244439    0.244439    0.000000 |   0.5510                 |   0.001000   0.000000 |\n",
      "12:41:53 ep  26 / 50 |   0.222599    0.222599    0.000000 |   0.000000    0.0000e+00 |   0.6060                 |   0.237431    0.237431    0.000000 |   0.5784                 |   0.001000   0.000000 |\n",
      "12:44:31 ep  27 / 50 |   0.227032    0.227032    0.000000 |   0.000000    0.0000e+00 |   0.5992                 |   0.245133    0.245133    0.000000 |   0.5537                 |   0.001000   0.000000 |\n",
      "12:47:05 ep  28 / 50 |   0.225760    0.225760    0.000000 |   0.000000    0.0000e+00 |   0.6018                 |   0.234897    0.234897    0.000000 |   0.5946                 |   0.001000   0.000000 |\n",
      "12:49:40 ep  29 / 50 |   0.219942    0.219942    0.000000 |   0.000000    0.0000e+00 |   0.6015                 |   0.252383    0.252383    0.000000 |   0.5738                 |   0.001000   0.000000 |\n",
      "12:52:14 ep  30 / 50 |   0.227426    0.227426    0.000000 |   0.000000    0.0000e+00 |   0.6041                 |   0.237832    0.237832    0.000000 |   0.5927                 |   0.001000   0.000000 |\n",
      "12:54:54 ep  31 / 50 |   0.224348    0.224348    0.000000 |   0.000000    0.0000e+00 |   0.5993                 |   0.268854    0.268854    0.000000 |   0.5525                 |   0.001000   0.000000 |\n",
      "12:57:30 ep  32 / 50 |   0.226187    0.226187    0.000000 |   0.000000    0.0000e+00 |   0.5984                 |   0.243274    0.243274    0.000000 |   0.6037                 |   0.001000   0.000000 |\n",
      "13:00:04 ep  33 / 50 |   0.217496    0.217496    0.000000 |   0.000000    0.0000e+00 |   0.6105                 |   0.230973    0.230973    0.000000 |   0.5727                 |   0.001000   0.000000 |\n",
      "13:02:39 ep  34 / 50 |   0.217282    0.217282    0.000000 |   0.000000    0.0000e+00 |   0.6065                 |   0.234151    0.234151    0.000000 |   0.5773                 |   0.001000   0.000000 |\n",
      "13:05:15 ep  35 / 50 |   0.220294    0.220294    0.000000 |   0.000000    0.0000e+00 |   0.6049                 |   0.239523    0.239523    0.000000 |   0.6044                 |   0.001000   0.000000 |\n",
      "13:07:50 ep  36 / 50 |   0.211545    0.211545    0.000000 |   0.000000    0.0000e+00 |   0.6109                 |   0.228823    0.228823    0.000000 |   0.5910                 |   0.001000   0.000000 |\n",
      "13:10:26 ep  37 / 50 |   0.211844    0.211844    0.000000 |   0.000000    0.0000e+00 |   0.6122                 |   0.238252    0.238252    0.000000 |   0.5958                 |   0.001000   0.000000 |\n",
      "13:13:01 ep  38 / 50 |   0.223964    0.223964    0.000000 |   0.000000    0.0000e+00 |   0.6032                 |   0.239667    0.239667    0.000000 |   0.5758                 |   0.001000   0.000000 |\n",
      "13:15:35 ep  39 / 50 |   0.210458    0.210458    0.000000 |   0.000000    0.0000e+00 |   0.6152                 |   0.230960    0.230960    0.000000 |   0.6000                 |   0.001000   0.000000 |\n",
      "13:18:12 ep  40 / 50 |   0.220487    0.220487    0.000000 |   0.000000    0.0000e+00 |   0.6046                 |   0.236019    0.236019    0.000000 |   0.5881                 |   0.001000   0.000000 |\n",
      "13:20:58 ep  41 / 50 |   0.214038    0.214038    0.000000 |   0.000000    0.0000e+00 |   0.6114                 |   0.253214    0.253214    0.000000 |   0.5888                 |   0.001000   0.000000 |\n",
      "13:23:37 ep  42 / 50 |   0.210473    0.210473    0.000000 |   0.000000    0.0000e+00 |   0.6137                 |   0.230649    0.230649    0.000000 |   0.5845                 |   0.001000   0.000000 |\n",
      "13:26:15 ep  43 / 50 |   0.206645    0.206645    0.000000 |   0.000000    0.0000e+00 |   0.6150                 |   0.234328    0.234328    0.000000 |   0.5729                 |   0.001000   0.000000 |\n",
      "13:28:57 ep  44 / 50 |   0.210993    0.210993    0.000000 |   0.000000    0.0000e+00 |   0.6100                 |   0.234564    0.234564    0.000000 |   0.5805                 |   0.001000   0.000000 |\n",
      "13:31:33 ep  45 / 50 |   0.212024    0.212024    0.000000 |   0.000000    0.0000e+00 |   0.6147                 |   0.269614    0.269614    0.000000 |   0.5623                 |   0.001000   0.000000 |\n",
      "13:34:11 ep  46 / 50 |   0.224570    0.224570    0.000000 |   0.000000    0.0000e+00 |   0.6043                 |   0.257170    0.257170    0.000000 |   0.5942                 |   0.001000   0.000000 |\n",
      "13:36:48 ep  47 / 50 |   0.207513    0.207513    0.000000 |   0.000000    0.0000e+00 |   0.6173                 |   0.237692    0.237692    0.000000 |   0.5899                 |   0.001000   0.000000 |\n",
      "13:39:25 ep  48 / 50 |   0.207378    0.207378    0.000000 |   0.000000    0.0000e+00 |   0.6191                 |   0.229324    0.229324    0.000000 |   0.6153                 |   0.001000   0.000000 |\n",
      "13:42:00 ep  49 / 50 |   0.204530    0.204530    0.000000 |   0.000000    0.0000e+00 |   0.6200                 |   0.224580    0.224580    0.000000 |   0.5909                 |   0.001000   0.000000 |\n",
      "13:44:34 ep  50 / 50 |   0.223382    0.223382    0.000000 |   0.000000    0.0000e+00 |   0.6046                 |   0.258660    0.258660    0.000000 |   0.6044                 |   0.001000   0.000000 |\n"
     ]
    }
   ],
   "source": [
    "for epoch in range(epochs):\n",
    "    display_epoch_metrics(model, epoch)"
   ]
  },
  {
   "cell_type": "markdown",
   "id": "9d7f6ece-b0e4-4e64-bc35-928a3c3f961d",
   "metadata": {
    "jp-MarkdownHeadingCollapsed": true
   },
   "source": [
    "# Plot losses, weights, biases and gradients"
   ]
  },
  {
   "cell_type": "code",
   "execution_count": null,
   "id": "abc9b289-e042-4243-a2b4-c76751589ac3",
   "metadata": {},
   "outputs": [],
   "source": [
    "# if 0:\n",
    "#     model_attributes = model.__dict__\n",
    "#     model.training_history['train'].keys()\n",
    "#     for key, value in model.training_history['train'].items():\n",
    "#         if isinstance(value, List) or key in [\"test_accuracy\", \"test_f1\"]:\n",
    "#             print(f\"{key:25s} {type(value)}  {len(value):7d}  {value[-5:]}\")\n",
    "#     print()\n",
    "#     for key, value in model.training_history['val'].items():\n",
    "#         if isinstance(value, List) or key in [\"test_accuracy\", \"test_f1\"]:\n",
    "#             print(f\"{key:25s} {type(value)}  {len(value):7d}  {value[-5:]}\")        "
   ]
  },
  {
   "cell_type": "code",
   "execution_count": null,
   "id": "fbb441d8-ba3d-4540-abcc-e40aaaa3dd2e",
   "metadata": {},
   "outputs": [],
   "source": [
    "# tmp = np.array(model.training_history['train']['temp_grads'])\n",
    "# for st in range(0,len(tmp), 1000):\n",
    "#     end = st + 1000\n",
    "#     print(f\" {st:5d} - {end:5d}  min: {tmp[st:end].min():9e}   max: {tmp[st:end].max():9e}    avg: {tmp[st:end].mean():9e}   std: {tmp[st:end].std():9e}\")"
   ]
  },
  {
   "cell_type": "code",
   "execution_count": 110,
   "id": "2bc8de25-ddde-4d2c-b97f-1da1d375c991",
   "metadata": {
    "execution": {
     "iopub.execute_input": "2024-06-12T15:42:57.098234Z",
     "iopub.status.busy": "2024-06-12T15:42:57.097752Z",
     "iopub.status.idle": "2024-06-12T15:42:57.983613Z",
     "shell.execute_reply": "2024-06-12T15:42:57.982939Z",
     "shell.execute_reply.started": "2024-06-12T15:42:57.098193Z"
    },
    "scrolled": true
   },
   "outputs": [
    {
     "data": {
      "image/png": "[encoded data removed]",
      "text/plain": [
       "<Figure size 2000x400 with 5 Axes>"
      ]
     },
     "metadata": {},
     "output_type": "display_data"
    }
   ],
   "source": [
    "plot_train_history(model, start= 0, n_bins = 25)"
   ]
  },
  {
   "cell_type": "code",
   "execution_count": null,
   "id": "533b465a-6b4a-4696-a014-793b8f7df079",
   "metadata": {
    "scrolled": true
   },
   "outputs": [],
   "source": [
    "plot_train_history(model, start= 0, n_bins = 25)"
   ]
  },
  {
   "cell_type": "code",
   "execution_count": null,
   "id": "85774d06-9f14-4b02-b0c6-b8c60ba92ffa",
   "metadata": {
    "scrolled": true
   },
   "outputs": [],
   "source": [
    "plot_train_history(model, start= 0, n_bins = 25)"
   ]
  },
  {
   "cell_type": "code",
   "execution_count": null,
   "id": "f6b91b33-81bd-47e8-aa8e-bda1bd4d4583",
   "metadata": {
    "scrolled": true
   },
   "outputs": [],
   "source": [
    "plot_train_history(model, start= 100, n_bins = 25)"
   ]
  },
  {
   "cell_type": "code",
   "execution_count": null,
   "id": "5d4eae70-3b13-4893-b485-f8ad87b4cd68",
   "metadata": {
    "scrolled": true
   },
   "outputs": [],
   "source": [
    "plot_train_history(model, start= 10, n_bins = 25)"
   ]
  },
  {
   "cell_type": "code",
   "execution_count": null,
   "id": "7f50fdb6-0457-4cd3-b958-65bb44e4216d",
   "metadata": {},
   "outputs": [],
   "source": [
    "plot_model_parms(model, epochs= epochs, n_bins = 15)"
   ]
  },
  {
   "cell_type": "code",
   "execution_count": 111,
   "id": "f992e4e5-ea68-4617-8c16-01dfc22f6b94",
   "metadata": {
    "execution": {
     "iopub.execute_input": "2024-06-12T15:43:06.294491Z",
     "iopub.status.busy": "2024-06-12T15:43:06.294202Z",
     "iopub.status.idle": "2024-06-12T15:43:06.598770Z",
     "shell.execute_reply": "2024-06-12T15:43:06.598170Z",
     "shell.execute_reply.started": "2024-06-12T15:43:06.294468Z"
    },
    "scrolled": true
   },
   "outputs": [
    {
     "data": {
      "image/png": "[encoded data removed]",
      "text/plain": [
       "<Figure size 400x400 with 1 Axes>"
      ]
     },
     "metadata": {},
     "output_type": "display_data"
    }
   ],
   "source": [
    "from snnl.utils import plot_regression_metrics\n",
    "# plot_train_metrics(model, n_bins = 25)\n",
    "plot_regression_metrics(model, n_bins = 25)"
   ]
  },
  {
   "cell_type": "markdown",
   "id": "21726628-2b16-477a-bfe7-0a0ac53130eb",
   "metadata": {
    "jp-MarkdownHeadingCollapsed": true
   },
   "source": [
    "# Save model results and model"
   ]
  },
  {
   "cell_type": "code",
   "execution_count": null,
   "id": "a4bb9a8d-9d90-40e8-90d1-9e970497568b",
   "metadata": {},
   "outputs": [],
   "source": [
    "# import datetime.timezone\n",
    "# datetime.timetz()\n",
    "compounds_per_batch = cellpainting_args['compounds_per_batch']\n",
    "title=\"autoencoder\"\n",
    "epochs_num = epochs\n",
    "timestamp = datetime.now().strftime('%Y%m%d')\n",
    "filename = f\"AE_{args.model.lower()}_{timestamp}_{title}_{epochs_num:03d}_cpb_{compounds_per_batch}_factor_{int(snnl_factor):d}\"\n",
    "print(f\"saved to {filename}\")"
   ]
  },
  {
   "cell_type": "code",
   "execution_count": null,
   "id": "8364b7ba-8d33-41ac-b30f-0c39759a9772",
   "metadata": {},
   "outputs": [],
   "source": [
    "# save_model(model, filename)\n",
    "# export_results(model=model, filename=filename)\n",
    "# save_checkpoint(epochs, model, filename, update_latest=False, update_best=False)"
   ]
  },
  {
   "cell_type": "code",
   "execution_count": null,
   "id": "5738408d-29ca-46b4-8c79-6f184958acf0",
   "metadata": {},
   "outputs": [],
   "source": [
    "model.name\n",
    "args.runmode\n",
    "ex_timestamp\n",
    "ex_title\n",
    "epoch\n",
    "model.snnl_factor"
   ]
  },
  {
   "cell_type": "code",
   "execution_count": null,
   "id": "393af8c8-cf02-455f-a810-b68a7637c07e",
   "metadata": {},
   "outputs": [],
   "source": [
    "filename = f\"{model.name}_{args.runmode}_{args.exp_date}_{args.exp_title}_ep_{epoch+1:03d}\"\n",
    "print(filename)"
   ]
  },
  {
   "cell_type": "code",
   "execution_count": null,
   "id": "38e9d094-6432-4eb7-9ce7-f07b01a01a87",
   "metadata": {},
   "outputs": [],
   "source": [
    "filename = f\"{model.name}_{args.model.lower()}_{ex_timestamp}_{ex_title}_{epoch+1:03d}_copy\"\n",
    "print(filename)\n",
    "    # export_results(model=model, filename=filename)\n",
    "save_checkpoint_2(epochs, model, filename, update_latest=False, update_best=False)  "
   ]
  },
  {
   "cell_type": "markdown",
   "id": "75fb4184-7640-4cc5-bf19-249ebb9fc072",
   "metadata": {
    "execution": {
     "iopub.execute_input": "2024-04-01T00:58:52.961399Z",
     "iopub.status.busy": "2024-04-01T00:58:52.960920Z"
    },
    "jp-MarkdownHeadingCollapsed": true
   },
   "source": [
    "# Load model"
   ]
  },
  {
   "cell_type": "code",
   "execution_count": 79,
   "id": "c914b200-c783-4477-9ca7-3370a23ec595",
   "metadata": {
    "execution": {
     "iopub.execute_input": "2024-06-12T07:12:26.811594Z",
     "iopub.status.busy": "2024-06-12T07:12:26.811163Z",
     "iopub.status.idle": "2024-06-12T07:12:26.844320Z",
     "shell.execute_reply": "2024-06-12T07:12:26.843804Z",
     "shell.execute_reply.started": "2024-06-12T07:12:26.811554Z"
    }
   },
   "outputs": [],
   "source": [
    "# ex_epochs = 200\n",
    "# ex_mode = 'snnl'\n",
    "ex_runmode = 'baseline'\n",
    "ex_date = \"20240605\"\n",
    "ex_title=\"snglOpt-50Ltnt\"\n",
    "# ex_title=\"secondTry\"\n",
    "# ex_title=\"dropout04\"\n",
    "# title=\"autoencoder\"\n",
    "# title='Xentropy'"
   ]
  },
  {
   "cell_type": "code",
   "execution_count": 80,
   "id": "28725c74-24ac-4b2c-b2fe-4314aaf6a77a",
   "metadata": {
    "execution": {
     "iopub.execute_input": "2024-06-12T07:12:27.365606Z",
     "iopub.status.busy": "2024-06-12T07:12:27.365187Z",
     "iopub.status.idle": "2024-06-12T07:12:27.409172Z",
     "shell.execute_reply": "2024-06-12T07:12:27.408462Z",
     "shell.execute_reply.started": "2024-06-12T07:12:27.365567Z"
    }
   },
   "outputs": [
    {
     "name": "stdout",
     "output_type": "stream",
     "text": [
      "AE_baseline_20240605_snglOpt-50Ltnt_300.pt\n",
      "AE_baseline_20240605_snglOpt-50Ltnt_ep_*.pt\n"
     ]
    }
   ],
   "source": [
    "# filename = f\"{model.name}_{ex_runmode}_{ex_date}_{ex_title}_{epochs:03d}_cpb_{ex_cpb}_factor_{ex_factor:d}.pt\"\n",
    "# file_pattern = f\"{model.name}_{ex_runmode}_{ex_date}_{ex_title}_*_cpb_{ex_cpb}_factor_{ex_factor:d}.pt\"\n",
    "filename = f\"{model.name}_{ex_runmode}_{ex_date}_{ex_title}_{epochs:03d}.pt\"\n",
    "print(filename)\n",
    "file_pattern = f\"{model.name}_{ex_runmode}_{ex_date}_{ex_title}_ep_*.pt\"\n",
    "print(file_pattern)"
   ]
  },
  {
   "cell_type": "code",
   "execution_count": 81,
   "id": "4d96660a-46a2-4d46-bcb8-a3fb2d9a74d9",
   "metadata": {
    "execution": {
     "iopub.execute_input": "2024-06-12T07:12:28.721285Z",
     "iopub.status.busy": "2024-06-12T07:12:28.720854Z",
     "iopub.status.idle": "2024-06-12T07:12:28.764606Z",
     "shell.execute_reply": "2024-06-12T07:12:28.763919Z",
     "shell.execute_reply.started": "2024-06-12T07:12:28.721242Z"
    }
   },
   "outputs": [
    {
     "data": {
      "text/plain": [
       "['AE_baseline_20240605_snglOpt-50Ltnt_ep_025.pt',\n",
       " 'AE_baseline_20240605_snglOpt-50Ltnt_ep_050.pt',\n",
       " 'AE_baseline_20240605_snglOpt-50Ltnt_ep_075.pt',\n",
       " 'AE_baseline_20240605_snglOpt-50Ltnt_ep_100.pt',\n",
       " 'AE_baseline_20240605_snglOpt-50Ltnt_ep_125.pt',\n",
       " 'AE_baseline_20240605_snglOpt-50Ltnt_ep_150.pt',\n",
       " 'AE_baseline_20240605_snglOpt-50Ltnt_ep_175.pt',\n",
       " 'AE_baseline_20240605_snglOpt-50Ltnt_ep_200.pt']"
      ]
     },
     "execution_count": 81,
     "metadata": {},
     "output_type": "execute_result"
    },
    {
     "data": {
      "text/plain": [
       "[25, 50, 75, 100, 125, 150, 175, 200]"
      ]
     },
     "execution_count": 81,
     "metadata": {},
     "output_type": "execute_result"
    }
   ],
   "source": [
    "import glob\n",
    "filelist = glob.glob(file_pattern,root_dir = './ckpts')\n",
    "filelist = sorted(filelist)\n",
    "filelist\n",
    "epochlist =sorted([int(x[-6:-3]) for x in filelist])\n",
    "epochlist\n",
    " "
   ]
  },
  {
   "cell_type": "code",
   "execution_count": 82,
   "id": "9e492e3f-f194-4759-b8a6-8a949743d022",
   "metadata": {
    "execution": {
     "iopub.execute_input": "2024-06-12T07:12:29.709121Z",
     "iopub.status.busy": "2024-06-12T07:12:29.708697Z",
     "iopub.status.idle": "2024-06-12T07:12:29.744933Z",
     "shell.execute_reply": "2024-06-12T07:12:29.744439Z",
     "shell.execute_reply.started": "2024-06-12T07:12:29.709081Z"
    }
   },
   "outputs": [],
   "source": [
    "# runmode = 'snnl'\n",
    "# ex_date = '20240516'\n",
    "# ex_title = args.exp_title\n",
    "ex_epoch = 200"
   ]
  },
  {
   "cell_type": "code",
   "execution_count": 83,
   "id": "a71ca7cd-8258-49ca-b2d6-16268bd34dc7",
   "metadata": {
    "execution": {
     "iopub.execute_input": "2024-06-12T07:12:33.798415Z",
     "iopub.status.busy": "2024-06-12T07:12:33.797989Z",
     "iopub.status.idle": "2024-06-12T07:12:33.835425Z",
     "shell.execute_reply": "2024-06-12T07:12:33.834662Z",
     "shell.execute_reply.started": "2024-06-12T07:12:33.798374Z"
    }
   },
   "outputs": [
    {
     "name": "stdout",
     "output_type": "stream",
     "text": [
      "AE_baseline_20240605_snglOpt-50Ltnt_ep_200.pt\n",
      "\n",
      " *** Checkpoint EXISTS *** \n",
      "\n"
     ]
    }
   ],
   "source": [
    "filename = f\"{model.name}_{args.runmode}_{ex_date}_{ex_title}_ep_{ex_epoch:03d}\"   \n",
    "if filename[-3:] != '.pt':\n",
    "    filename+='.pt'\n",
    "print(filename)\n",
    "\n",
    "if os.path.exists(os.path.join('ckpts', filename)):\n",
    "    print(f\"\\n *** Checkpoint EXISTS *** \\n\")\n",
    "else:\n",
    "    print(f\"\\n *** Checkpoint DOESNT EXIST *** \\n\")"
   ]
  },
  {
   "cell_type": "code",
   "execution_count": 84,
   "id": "2d6a57df-2a6c-4ca5-8bc0-0672d1c03901",
   "metadata": {
    "execution": {
     "iopub.execute_input": "2024-06-12T07:12:34.834981Z",
     "iopub.status.busy": "2024-06-12T07:12:34.834752Z",
     "iopub.status.idle": "2024-06-12T07:12:34.944900Z",
     "shell.execute_reply": "2024-06-12T07:12:34.944229Z",
     "shell.execute_reply.started": "2024-06-12T07:12:34.834962Z"
    }
   },
   "outputs": [
    {
     "name": "stdout",
     "output_type": "stream",
     "text": [
      "--> AE_baseline_20240605_snglOpt-50Ltnt_ep_200.pt\n",
      "epoch                                   , <class 'int'>                                                 -- model attr set\n",
      "state_dict                              , <class 'collections.OrderedDict'>                             -- model attr set\n",
      "optimizer                               , <class 'torch.optim.adam.Adam'>                               -- model attr set\n",
      "temp_optimizer                          , <class 'NoneType'>                                            -- model attr set\n",
      "optimizer_state_dict                    , <class 'dict'>                                                -- model attr set\n",
      "temp_optimizer_state_dict               , <class 'NoneType'>                                            -- model attr set\n",
      "scheduler                               , <class 'torch.optim.lr_scheduler.ReduceLROnPlateau'>          -- model attr set\n",
      "temp_scheduler                          , <class 'NoneType'>                                            -- model attr set\n",
      "scheduler_state_dict                    , <class 'dict'>                                                -- model attr set\n",
      "temp_scheduler_state_dict               , <class 'NoneType'>                                            -- model attr set\n",
      "params                                  , <class 'dict'>                                                -- model attr set\n",
      "\n",
      "name                                    , <class 'str'>                                                 -- model attr set\n",
      "layer_types                             , <class 'list'>                                                -- model attr set\n",
      "layer_activations                       , <class 'list'>                                                -- model attr set\n",
      "use_scheduler                           , <class 'bool'>                                                -- model attr set\n",
      "use_temp_scheduler                      , <class 'bool'>                                                -- model attr set\n",
      "monitor_grads_layer                     , <class 'NoneType'>                                            -- model attr set\n",
      "learning_rate                           , <class 'float'>                                               -- model attr set\n",
      "adam_weight_decay                       , <class 'int'>                                                 -- model attr set\n",
      "training                                , <class 'bool'>                                                -- model attr set\n",
      "mode                                    , <class 'str'>                                                 -- model attr set\n",
      "device                                  , <class 'torch.device'>                                        -- model attr set\n",
      "train_loss                              , <class 'list'>                                                -- model attr set\n",
      "use_snnl                                , <class 'bool'>                                                -- model attr set\n",
      "loss_factor                             , <class 'float'>                                               -- model attr set\n",
      "snnl_factor                             , <class 'float'>                                               -- model attr set\n",
      "code_units                              , <class 'int'>                                                 -- model attr set\n",
      "embedding_layer                         , <class 'int'>                                                 -- model attr set\n",
      "stability_epsilon                       , <class 'float'>                                               -- model attr set\n",
      "verbose                                 , <class 'bool'>                                                -- model attr set\n",
      "sample_size                             , <class 'int'>                                                 -- model attr set\n",
      "temperatureLR                           , <class 'float'>                                               -- model attr set\n",
      "training_history                        , <class 'dict'>                                                -- model attr set\n",
      "unsupervised                            , <class 'bool'>                                                -- model attr set\n",
      "snnl_criterion                          , <class 'NoneType'>                                            -- model attr set\n",
      "temperature                             , <class 'int'>                                                 -- model attr set\n",
      "batch_count                             , <class 'int'>                                                 -- model attr set\n",
      "name                                    , <class 'str'>                                                 -- model attr set\n",
      "layer_types                             , <class 'list'>                                                -- model attr set\n",
      "layer_activations                       , <class 'list'>                                                -- model attr set\n",
      "use_scheduler                           , <class 'bool'>                                                -- model attr set\n",
      "use_temp_scheduler                      , <class 'bool'>                                                -- model attr set\n",
      "monitor_grads_layer                     , <class 'NoneType'>                                            -- model attr set\n",
      "learning_rate                           , <class 'float'>                                               -- model attr set\n",
      "adam_weight_decay                       , <class 'int'>                                                 -- model attr set\n",
      "training                                , <class 'bool'>                                                -- model attr set\n",
      "mode                                    , <class 'str'>                                                 -- model attr set\n",
      "device                                  , <class 'torch.device'>                                        -- model attr set\n",
      "train_loss                              , <class 'list'>                                                -- model attr set\n",
      "use_snnl                                , <class 'bool'>                                                -- model attr set\n",
      "loss_factor                             , <class 'float'>                                               -- model attr set\n",
      "snnl_factor                             , <class 'float'>                                               -- model attr set\n",
      "code_units                              , <class 'int'>                                                 -- model attr set\n",
      "embedding_layer                         , <class 'int'>                                                 -- model attr set\n",
      "stability_epsilon                       , <class 'float'>                                               -- model attr set\n",
      "verbose                                 , <class 'bool'>                                                -- model attr set\n",
      "sample_size                             , <class 'int'>                                                 -- model attr set\n",
      "temperatureLR                           , <class 'float'>                                               -- model attr set\n",
      "training_history                        , <class 'dict'>                                                -- model attr set\n",
      "unsupervised                            , <class 'bool'>                                                -- model attr set\n",
      "snnl_criterion                          , <class 'NoneType'>                                            -- model attr set\n",
      "temperature                             , <class 'int'>                                                 -- model attr set\n",
      "batch_count                             , <class 'int'>                                                 -- model attr set\n",
      "\n",
      " ==> Loaded from checkpoint AE_baseline_20240605_snglOpt-50Ltnt_ep_200.pt successfully. last epoch on checkpoint: 200\n",
      "\n",
      " last epoch : 200\n"
     ]
    }
   ],
   "source": [
    "mdl , last_epoch = load_checkpoint_v2(model, filename)  \n",
    "print(f\" last epoch : {last_epoch}\")"
   ]
  },
  {
   "cell_type": "code",
   "execution_count": 87,
   "id": "72568b6c-66b5-458e-8cdb-11fd70a6d161",
   "metadata": {
    "execution": {
     "iopub.execute_input": "2024-06-12T07:13:14.654574Z",
     "iopub.status.busy": "2024-06-12T07:13:14.654131Z",
     "iopub.status.idle": "2024-06-12T07:13:14.691236Z",
     "shell.execute_reply": "2024-06-12T07:13:14.690692Z",
     "shell.execute_reply.started": "2024-06-12T07:13:14.654532Z"
    }
   },
   "outputs": [
    {
     "name": "stdout",
     "output_type": "stream",
     "text": [
      "cuda:1\n",
      "cuda:0\n",
      "cuda:1\n"
     ]
    }
   ],
   "source": [
    "print(current_device)\n",
    "print(model.device)\n",
    "model.device = current_device\n",
    "print(model.device)"
   ]
  },
  {
   "cell_type": "code",
   "execution_count": 88,
   "id": "00c841d7-6d85-438c-a7da-e8026fb4f644",
   "metadata": {
    "execution": {
     "iopub.execute_input": "2024-06-12T07:13:29.929118Z",
     "iopub.status.busy": "2024-06-12T07:13:29.928696Z",
     "iopub.status.idle": "2024-06-12T07:13:29.970587Z",
     "shell.execute_reply": "2024-06-12T07:13:29.970030Z",
     "shell.execute_reply.started": "2024-06-12T07:13:29.929079Z"
    }
   },
   "outputs": [
    {
     "name": "stdout",
     "output_type": "stream",
     "text": [
      "cuda:1\n"
     ]
    },
    {
     "data": {
      "text/plain": [
       "Autoencoder(\n",
       "  (primary_criterion): MSELoss()\n",
       "  (layers): ModuleList(\n",
       "    (0): Linear(in_features=1471, out_features=1024, bias=True)\n",
       "    (1): ReLU()\n",
       "    (2): Linear(in_features=1024, out_features=128, bias=True)\n",
       "    (3): ReLU()\n",
       "    (4): Linear(in_features=128, out_features=50, bias=True)\n",
       "    (5): Linear(in_features=50, out_features=128, bias=True)\n",
       "    (6): ReLU()\n",
       "    (7): Linear(in_features=128, out_features=1024, bias=True)\n",
       "    (8): ReLU()\n",
       "    (9): Linear(in_features=1024, out_features=1471, bias=True)\n",
       "  )\n",
       ")"
      ]
     },
     "execution_count": 88,
     "metadata": {},
     "output_type": "execute_result"
    },
    {
     "name": "stdout",
     "output_type": "stream",
     "text": [
      "cuda:1\n"
     ]
    }
   ],
   "source": [
    "print(current_device)\n",
    "model.train()\n",
    "model = model.cuda(device=current_device)\n",
    "print(model.device)"
   ]
  },
  {
   "cell_type": "code",
   "execution_count": 89,
   "id": "25b03053-b090-4116-898a-acbfb8add271",
   "metadata": {
    "execution": {
     "iopub.execute_input": "2024-06-12T07:13:32.442713Z",
     "iopub.status.busy": "2024-06-12T07:13:32.442266Z",
     "iopub.status.idle": "2024-06-12T07:13:32.478663Z",
     "shell.execute_reply": "2024-06-12T07:13:32.478099Z",
     "shell.execute_reply.started": "2024-06-12T07:13:32.442671Z"
    }
   },
   "outputs": [
    {
     "name": "stdout",
     "output_type": "stream",
     "text": [
      " last epoch  200\n"
     ]
    }
   ],
   "source": [
    "print(f\" last epoch  {last_epoch}\")"
   ]
  },
  {
   "cell_type": "code",
   "execution_count": 90,
   "id": "eb1241f9-4ad1-425f-8526-43c5cd89859c",
   "metadata": {
    "execution": {
     "iopub.execute_input": "2024-06-12T07:13:33.559192Z",
     "iopub.status.busy": "2024-06-12T07:13:33.558761Z",
     "iopub.status.idle": "2024-06-12T07:13:33.595006Z",
     "shell.execute_reply": "2024-06-12T07:13:33.594323Z",
     "shell.execute_reply.started": "2024-06-12T07:13:33.559152Z"
    }
   },
   "outputs": [
    {
     "name": "stdout",
     "output_type": "stream",
     "text": [
      " run epochs 201 to 300 \n"
     ]
    }
   ],
   "source": [
    "# starting_epoch = 20\n",
    "starting_epoch = last_epoch\n",
    "epochs = last_epoch + 100\n",
    "# starting_epoch = epoch + 1\n",
    "print(f\" run epochs {starting_epoch+1} to {epochs} \")"
   ]
  },
  {
   "cell_type": "code",
   "execution_count": 91,
   "id": "361a2ba1-0bac-4ff8-aa08-950fe7fe2302",
   "metadata": {
    "execution": {
     "iopub.execute_input": "2024-06-12T07:13:35.420453Z",
     "iopub.status.busy": "2024-06-12T07:13:35.419955Z",
     "iopub.status.idle": "2024-06-12T07:13:35.457924Z",
     "shell.execute_reply": "2024-06-12T07:13:35.457376Z",
     "shell.execute_reply.started": "2024-06-12T07:13:35.420413Z"
    }
   },
   "outputs": [
    {
     "name": "stdout",
     "output_type": "stream",
     "text": [
      "\n",
      " model device         : cuda:1\n",
      " model temperature    : 0\n",
      "\n",
      " loss_factor          : 1.0\n",
      " monitor_grads_layer  : None\n",
      " Learning rate        : 0.001\n",
      " snnl_factor          : 0.0\n",
      "\n",
      " trn_time             : 17:35:13  \n",
      " trn_ttl_loss         : 0.270604 \n",
      " trn_prim_loss        : 0.270604 \n",
      " trn_snn_loss         : 0.000000 \n",
      " trn_R2_score         : 0.614610 \n",
      " trn_lr               : 0.001000 \n",
      "\n",
      " val_time             : 17:35:24  \n",
      " val_ttl_loss         : 0.314858 \n",
      " val_prim_loss        : 0.314858 \n",
      " val_snn_loss         : 0.000000 \n",
      " val_R2_score         : 0.482821 \n",
      "\n"
     ]
    }
   ],
   "source": [
    "print()\n",
    "print(f\" model device         : {model.device}\")\n",
    "print(f\" model temperature    : {model.temperature}\")\n",
    "print() \n",
    "print(f\" loss_factor          : {model.loss_factor}\")\n",
    "print(f\" monitor_grads_layer  : {model.monitor_grads_layer}\")\n",
    "print(f\" Learning rate        : {model.optimizer.param_groups[0]['lr']}\") \n",
    "print(f\" snnl_factor          : {model.snnl_factor}\")\n",
    "if model.use_snnl:\n",
    "    print(f\" temperature          : {model.temperature.item()}\")\n",
    "if model.temp_optimizer is not None:\n",
    "    print(f\" Temperature LR       : {model.temp_optimizer.param_groups[0]['lr']}\") \n",
    "print()\n",
    "\n",
    "for th_key in ['trn', 'val']:\n",
    "    for k,v in model.training_history[th_key].items():\n",
    "        if isinstance(v[-1],str):\n",
    "            print(f\" {k:20s} : {v[-1]:s}  \")\n",
    "        else:\n",
    "            print(f\" {k:20s} : {v[-1]:6f} \")\n",
    "    print()\n"
   ]
  },
  {
   "cell_type": "code",
   "execution_count": null,
   "id": "6a4b320a-e40a-47b2-886f-6130c314afb8",
   "metadata": {
    "scrolled": true
   },
   "outputs": [],
   "source": [
    "model.optimizer.__dict__\n",
    "print()"
   ]
  },
  {
   "cell_type": "code",
   "execution_count": null,
   "id": "903b5c7a-4271-4659-857d-29ee395daedc",
   "metadata": {},
   "outputs": [],
   "source": [
    "model.scheduler.__dict__"
   ]
  }
 ],
 "metadata": {
  "kernelspec": {
   "display_name": "Python [conda env:ptsnnl]",
   "language": "python",
   "name": "conda-env-ptsnnl-py"
  },
  "language_info": {
   "codemirror_mode": {
    "name": "ipython",
    "version": 3
   },
   "file_extension": ".py",
   "mimetype": "text/x-python",
   "name": "python",
   "nbconvert_exporter": "python",
   "pygments_lexer": "ipython3",
   "version": "3.11.0"
  },
  "toc": {
   "base_numbering": 1,
   "nav_menu": {},
   "number_sections": true,
   "sideBar": true,
   "skip_h1_title": false,
   "title_cell": "Table of Contents",
   "title_sidebar": "Contents",
   "toc_cell": false,
   "toc_position": {},
   "toc_section_display": true,
   "toc_window_display": false
  }
 },
 "nbformat": 4,
 "nbformat_minor": 5
}
