{
 "cells": [
  {
   "cell_type": "code",
   "execution_count": 1,
   "id": "11ad0ae2",
   "metadata": {
    "ExecuteTime": {
     "end_time": "2023-04-12T10:29:15.566596Z",
     "start_time": "2023-04-12T10:29:15.550232Z"
    },
    "execution": {
     "iopub.execute_input": "2024-03-24T20:27:13.533936Z",
     "iopub.status.busy": "2024-03-24T20:27:13.533530Z",
     "iopub.status.idle": "2024-03-24T20:27:13.560151Z",
     "shell.execute_reply": "2024-03-24T20:27:13.559542Z",
     "shell.execute_reply.started": "2024-03-24T20:27:13.533894Z"
    }
   },
   "outputs": [
    {
     "data": {
      "text/html": [
       "<style>.container { width:98% !important; }</style>"
      ],
      "text/plain": [
       "<IPython.core.display.HTML object>"
      ]
     },
     "metadata": {},
     "output_type": "display_data"
    }
   ],
   "source": [
    "from IPython.display import display, HTML\n",
    "display(HTML(\"<style>.container { width:98% !important; }</style>\"))\n",
    "%load_ext autoreload  \n",
    "%autoreload 2\n",
    "from IPython.core.interactiveshell import InteractiveShell\n",
    "InteractiveShell.ast_node_interactivity = \"all\""
   ]
  },
  {
   "cell_type": "code",
   "execution_count": 2,
   "id": "9ba59711",
   "metadata": {
    "ExecuteTime": {
     "end_time": "2023-04-12T10:29:16.111588Z",
     "start_time": "2023-04-12T10:29:15.764305Z"
    },
    "execution": {
     "iopub.execute_input": "2024-03-24T20:27:13.757396Z",
     "iopub.status.busy": "2024-03-24T20:27:13.757063Z",
     "iopub.status.idle": "2024-03-24T20:27:13.979165Z",
     "shell.execute_reply": "2024-03-24T20:27:13.978249Z",
     "shell.execute_reply.started": "2024-03-24T20:27:13.757363Z"
    }
   },
   "outputs": [
    {
     "name": "stdout",
     "output_type": "stream",
     "text": [
      "insert ./src\n",
      "['./src', '/home/kevin/miniforge3/envs/ptsnnl/lib/python311.zip', '/home/kevin/miniforge3/envs/ptsnnl/lib/python3.11', '/home/kevin/miniforge3/envs/ptsnnl/lib/python3.11/lib-dynload', '', '/home/kevin/miniforge3/envs/ptsnnl/lib/python3.11/site-packages']\n"
     ]
    }
   ],
   "source": [
    "import os\n",
    "import sys\n",
    "import argparse\n",
    "import csv\n",
    "import json\n",
    "import time\n",
    "import types, copy, pprint\n",
    "from datetime import datetime\n",
    "import numpy as np\n",
    "\n",
    "if './src' not in sys.path:\n",
    "    print(f\"insert ./src\")\n",
    "    sys.path.insert(0, './src')\n",
    "print(sys.path)\n",
    "\n",
    "\n",
    "# import pandas as pd\n",
    "# pd.options.display.width = 132\n",
    "from scipy.sparse import csr_matrix\n",
    "\n",
    "pp = pprint.PrettyPrinter(indent=4)\n",
    "np.set_printoptions(edgeitems=3, infstr='inf', linewidth=150, nanstr='nan')\n",
    "\n",
    "os.environ[\"WANDB_NOTEBOOK_NAME\"] = \"Adashare_Train.ipynb\"\n",
    "os.environ[\"CUDA_LAUNCH_BLOCKING\"] = \"1\""
   ]
  },
  {
   "cell_type": "code",
   "execution_count": 3,
   "id": "28b0ff70-8483-49b5-a308-26720cf31118",
   "metadata": {
    "execution": {
     "iopub.execute_input": "2024-03-24T20:27:13.981713Z",
     "iopub.status.busy": "2024-03-24T20:27:13.981138Z",
     "iopub.status.idle": "2024-03-24T20:27:14.004003Z",
     "shell.execute_reply": "2024-03-24T20:27:14.003091Z",
     "shell.execute_reply.started": "2024-03-24T20:27:13.981652Z"
    }
   },
   "outputs": [
    {
     "name": "stdout",
     "output_type": "stream",
     "text": [
      " Timestamp:  ./tmp/sql_cohort_2024_03_24_21:27:14.txt\n"
     ]
    }
   ],
   "source": [
    "# print(\"1- '%x_%X'               : \",time.strftime('%x_%X'))\n",
    "# print(\"2- '%X.%f'               : \",datetime.now().strftime('%X.%f'))\n",
    "# print(\"3- '%X %x %Z'            : \",time.strftime('%X %x %Z'))\n",
    "# print(\"4- '%D-%X.%f'            : \",datetime.now().strftime('%D-%X.%f'))\n",
    "# print(\"5- '%Y-%m-%d %H:%M:%S.%f': \",datetime.now().strftime('%Y-%m-%d %H:%M:%S.%f'))\n",
    "# print(\"6- '%Y%m%d_%H%M%S'       : \",datetime.now().strftime('%Y%m%d_%H%M%S'))\n",
    "# print(\"7- '%Y_%m_%d_%H:%M:%S'   : \",datetime.now().strftime('%Y_%m_%d_%H:%M:%S'))\n",
    "\n",
    "timestamp = datetime.now().strftime('%Y_%m_%d_%H:%M:%S')\n",
    "print(' Timestamp: ','./tmp/sql_cohort'+'_'+timestamp+'.txt')"
   ]
  },
  {
   "cell_type": "code",
   "execution_count": 4,
   "id": "97eb9ce9-3778-444b-8784-63493d1a8619",
   "metadata": {
    "execution": {
     "iopub.execute_input": "2024-03-24T20:27:14.094961Z",
     "iopub.status.busy": "2024-03-24T20:27:14.094722Z",
     "iopub.status.idle": "2024-03-24T20:27:14.104735Z",
     "shell.execute_reply": "2024-03-24T20:27:14.104252Z",
     "shell.execute_reply.started": "2024-03-24T20:27:14.094940Z"
    }
   },
   "outputs": [],
   "source": [
    "import os\n",
    "import logging \n",
    "logLevel = os.environ.get('LOG_LEVEL', 'INFO').upper()\n",
    "FORMAT = '%(asctime)s - %(levelname)s: - %(message)s'\n",
    "logging.basicConfig(level=\"INFO\", format= FORMAT)\n",
    "# logging.getLogger(\"imported_module\").setLevel(logging.CRITICAL)\n",
    "# logging.info(f\" 1/7- engine connected\")\n",
    "# logging.warning(f\" 1/7- engine connected\")\n",
    "# logging.error(f\" 1/7- engine connected\")\n",
    "# logging.critical(f\" 1/7- engine connected\")"
   ]
  },
  {
   "cell_type": "markdown",
   "id": "20e70257-9865-4a0b-a885-2267e5391e2d",
   "metadata": {},
   "source": [
    "#### DB Connection"
   ]
  },
  {
   "cell_type": "code",
   "execution_count": 5,
   "id": "f35157c2",
   "metadata": {
    "ExecuteTime": {
     "end_time": "2023-04-12T10:29:17.530286Z",
     "start_time": "2023-04-12T10:29:17.404320Z"
    },
    "execution": {
     "iopub.execute_input": "2024-03-24T20:27:15.259613Z",
     "iopub.status.busy": "2024-03-24T20:27:15.259291Z",
     "iopub.status.idle": "2024-03-24T20:27:15.272229Z",
     "shell.execute_reply": "2024-03-24T20:27:15.271619Z",
     "shell.execute_reply.started": "2024-03-24T20:27:15.259581Z"
    }
   },
   "outputs": [],
   "source": [
    "## Get ip address of Windows host from resolv.conf\n",
    "# !cat /etc/hosts \n",
    "# !cat /etc/resolv.conf"
   ]
  },
  {
   "cell_type": "code",
   "execution_count": 6,
   "id": "3f3a07cd",
   "metadata": {
    "execution": {
     "iopub.execute_input": "2024-03-24T20:27:15.449657Z",
     "iopub.status.busy": "2024-03-24T20:27:15.449450Z",
     "iopub.status.idle": "2024-03-24T20:27:15.459114Z",
     "shell.execute_reply": "2024-03-24T20:27:15.458510Z",
     "shell.execute_reply.started": "2024-03-24T20:27:15.449637Z"
    }
   },
   "outputs": [],
   "source": [
    "# import psycopg2\n",
    "# from sqlalchemy import create_engine"
   ]
  },
  {
   "cell_type": "code",
   "execution_count": 7,
   "id": "01b542bd",
   "metadata": {
    "ExecuteTime": {
     "end_time": "2023-04-12T10:29:18.138236Z",
     "start_time": "2023-04-12T10:29:18.125604Z"
    },
    "execution": {
     "iopub.execute_input": "2024-03-24T20:27:15.679528Z",
     "iopub.status.busy": "2024-03-24T20:27:15.679265Z",
     "iopub.status.idle": "2024-03-24T20:27:15.690299Z",
     "shell.execute_reply": "2024-03-24T20:27:15.689657Z",
     "shell.execute_reply.started": "2024-03-24T20:27:15.679508Z"
    }
   },
   "outputs": [],
   "source": [
    "# LOCALDBHOST=\"MSI-GS76\"\n",
    "## Point to Host OS (Windows 10)\n",
    "# DBHOST = \"172.30.144.1\"    \n",
    "# DBHOST = \"172.31.208.1\"\n",
    "# DBHOST = \"172.20.240.1\"\n",
    "# DBHOST = \"172.27.0.1\""
   ]
  },
  {
   "cell_type": "code",
   "execution_count": 8,
   "id": "d21e6ab2-d997-44a2-b4d2-09178cb79ade",
   "metadata": {
    "ExecuteTime": {
     "end_time": "2023-04-12T10:29:19.732979Z",
     "start_time": "2023-04-12T10:29:19.678794Z"
    },
    "execution": {
     "iopub.execute_input": "2024-03-24T20:27:15.893555Z",
     "iopub.status.busy": "2024-03-24T20:27:15.893248Z",
     "iopub.status.idle": "2024-03-24T20:27:15.902739Z",
     "shell.execute_reply": "2024-03-24T20:27:15.901979Z",
     "shell.execute_reply.started": "2024-03-24T20:27:15.893534Z"
    }
   },
   "outputs": [],
   "source": [
    "# print(psycopg2.__version__)\n",
    "# engine = create_engine(f\"postgresql://kevin:Ahwaz22@{DBHOST}:5432?dbname=chembl_32\") \n",
    "# conn = engine.connect()"
   ]
  },
  {
   "cell_type": "markdown",
   "id": "c9a51595-5eb1-4169-83e1-ab476383de22",
   "metadata": {},
   "source": [
    "# Setup"
   ]
  },
  {
   "cell_type": "code",
   "execution_count": 9,
   "id": "20f55fa0",
   "metadata": {
    "execution": {
     "iopub.execute_input": "2024-03-24T20:27:16.341412Z",
     "iopub.status.busy": "2024-03-24T20:27:16.341053Z",
     "iopub.status.idle": "2024-03-24T20:27:17.584970Z",
     "shell.execute_reply": "2024-03-24T20:27:17.584146Z",
     "shell.execute_reply.started": "2024-03-24T20:27:16.341377Z"
    }
   },
   "outputs": [],
   "source": [
    "import torch\n",
    "import torch.nn.functional as F\n",
    "from torchinfo import summary\n",
    "import os\n",
    "import shutil\n",
    "import sys\n",
    "import getpass\n",
    "from tqdm import tqdm\n",
    "from datetime import datetime\n"
   ]
  },
  {
   "cell_type": "code",
   "execution_count": 10,
   "id": "8059a7a6",
   "metadata": {
    "execution": {
     "iopub.execute_input": "2024-03-24T20:27:17.586698Z",
     "iopub.status.busy": "2024-03-24T20:27:17.586402Z",
     "iopub.status.idle": "2024-03-24T20:27:17.646289Z",
     "shell.execute_reply": "2024-03-24T20:27:17.645738Z",
     "shell.execute_reply.started": "2024-03-24T20:27:17.586677Z"
    }
   },
   "outputs": [
    {
     "name": "stdout",
     "output_type": "stream",
     "text": [
      "Running on: cuda\n"
     ]
    },
    {
     "data": {
      "text/plain": [
       "'cuda'"
      ]
     },
     "execution_count": 10,
     "metadata": {},
     "output_type": "execute_result"
    }
   ],
   "source": [
    "torch.set_printoptions(precision=None, threshold=None, edgeitems=None, linewidth=150, profile=None, sci_mode=None)\n",
    "def _get_device():\n",
    "    device = 'cuda' if torch.cuda.is_available() else 'cpu'\n",
    "    print(\"Running on:\", device)\n",
    "    return device\n",
    "_get_device()"
   ]
  },
  {
   "cell_type": "code",
   "execution_count": 11,
   "id": "bd74b69c-7c4c-42cf-ae66-1dd402d5e341",
   "metadata": {
    "execution": {
     "iopub.execute_input": "2024-03-24T20:27:17.647384Z",
     "iopub.status.busy": "2024-03-24T20:27:17.647072Z",
     "iopub.status.idle": "2024-03-24T20:27:19.985709Z",
     "shell.execute_reply": "2024-03-24T20:27:19.984963Z",
     "shell.execute_reply.started": "2024-03-24T20:27:17.647365Z"
    }
   },
   "outputs": [
    {
     "data": {
      "text/plain": [
       "'Sample module for using DNN classifier with SNNL'"
      ]
     },
     "execution_count": 11,
     "metadata": {},
     "output_type": "execute_result"
    }
   ],
   "source": [
    "# Soft Nearest Neighbor Loss\n",
    "# Copyright (C) 2020  Abien Fred Agarap\n",
    "#\n",
    "# This program is free software: you can redistribute it and/or modify\n",
    "# it under the terms of the GNU Affero General Public License as published\n",
    "# by the Free Software Foundation, either version 3 of the License, or\n",
    "# (at your option) any later version.\n",
    "#\n",
    "# This program is distributed in the hope that it will be useful,\n",
    "# but WITHOUT ANY WARRANTY; without even the implied warranty of\n",
    "# MERCHANTABILITY or FITNESS FOR A PARTICULAR PURPOSE.  See the\n",
    "# GNU Affero General Public License for more details.\n",
    "#\n",
    "# You should have received a copy of the GNU Affero General Public License\n",
    "# along with this program.  If not, see <https://www.gnu.org/licenses/>.\n",
    "\"\"\"Sample module for using DNN classifier with SNNL\"\"\"\n",
    "import argparse\n",
    "\n",
    "import torch\n",
    "from pt_datasets import create_dataloader, load_dataset\n",
    "\n",
    "# from snnl.models import DNN\n",
    "from snnl.utils import export_results, get_hyperparameters, set_global_seed\n",
    "from snnl.utils.metrics import accuracy\n",
    "\n",
    "__author__ = \"Abien Fred Agarap\"\n",
    "__version__ = \"1.0.0\""
   ]
  },
  {
   "cell_type": "code",
   "execution_count": 12,
   "id": "c53e68ae-5323-4691-aacc-b79d5f8ede2e",
   "metadata": {
    "execution": {
     "iopub.execute_input": "2024-03-24T20:27:19.987899Z",
     "iopub.status.busy": "2024-03-24T20:27:19.987602Z",
     "iopub.status.idle": "2024-03-24T20:27:20.016331Z",
     "shell.execute_reply": "2024-03-24T20:27:20.015718Z",
     "shell.execute_reply.started": "2024-03-24T20:27:19.987876Z"
    }
   },
   "outputs": [],
   "source": [
    "from dev_code import Model, DNN, Autoencoder, SNNLoss"
   ]
  },
  {
   "cell_type": "code",
   "execution_count": 13,
   "id": "a71c150d-f217-4176-ac93-7054da809907",
   "metadata": {
    "execution": {
     "iopub.execute_input": "2024-03-24T20:27:20.017340Z",
     "iopub.status.busy": "2024-03-24T20:27:20.017102Z",
     "iopub.status.idle": "2024-03-24T20:27:20.051548Z",
     "shell.execute_reply": "2024-03-24T20:27:20.050843Z",
     "shell.execute_reply.started": "2024-03-24T20:27:20.017321Z"
    }
   },
   "outputs": [],
   "source": [
    "def parse_args(input = None):\n",
    "    parser = argparse.ArgumentParser(description=\"DNN classifier with SNNL\")\n",
    "    group = parser.add_argument_group(\"Parameters\")\n",
    "    group.add_argument(\n",
    "        \"-s\",\n",
    "        \"--seed\",\n",
    "        required=False,\n",
    "        default=1234,\n",
    "        type=int,\n",
    "        help=\"the random seed value to use, default: [1234]\",\n",
    "    )\n",
    "    group.add_argument(\n",
    "        \"-m\",\n",
    "        \"--model\",\n",
    "        required=False,\n",
    "        default=\"baseline\",\n",
    "        type=str,\n",
    "        help=\"the model to use, options: [baseline (default) | snnl]\",\n",
    "    )\n",
    "    group.add_argument(\n",
    "        \"-c\",\n",
    "        \"--configuration\",\n",
    "        required=False,\n",
    "        default=\"examples/hyperparameters/dnn.json\",\n",
    "        type=str,\n",
    "        help=\"the path to the JSON file containing the hyperparameters to use\",\n",
    "    )\n",
    "    arguments = parser.parse_args(input)\n",
    "    return arguments"
   ]
  },
  {
   "cell_type": "code",
   "execution_count": 14,
   "id": "ffb60054-6b88-4b0f-97db-cae69c92107d",
   "metadata": {
    "execution": {
     "iopub.execute_input": "2024-03-24T20:27:20.052681Z",
     "iopub.status.busy": "2024-03-24T20:27:20.052459Z",
     "iopub.status.idle": "2024-03-24T20:27:20.159538Z",
     "shell.execute_reply": "2024-03-24T20:27:20.158886Z",
     "shell.execute_reply.started": "2024-03-24T20:27:20.052649Z"
    }
   },
   "outputs": [],
   "source": [
    "# if __name__ == \"__main__\":\n",
    "input_args = f\" --seed              1234 \" \\\n",
    "             f\" --model             snnl\" \\\n",
    "             f\" --configuration     examples/hyperparameters/autoencoder.json\"\n",
    "             # f\" --configuration     examples/hyperparameters/dnn_mnist.json\"\n",
    "             # f\" --model             baseline\" \\\n",
    "args = parse_args(input_args.split())"
   ]
  },
  {
   "cell_type": "code",
   "execution_count": 15,
   "id": "96378e48-6e6a-4529-b8d1-812448c588f0",
   "metadata": {
    "execution": {
     "iopub.execute_input": "2024-03-24T20:27:20.160552Z",
     "iopub.status.busy": "2024-03-24T20:27:20.160351Z",
     "iopub.status.idle": "2024-03-24T20:27:20.187112Z",
     "shell.execute_reply": "2024-03-24T20:27:20.186564Z",
     "shell.execute_reply.started": "2024-03-24T20:27:20.160532Z"
    }
   },
   "outputs": [
    {
     "data": {
      "text/plain": [
       "Namespace(seed=1234, model='snnl', configuration='examples/hyperparameters/autoencoder.json')"
      ]
     },
     "execution_count": 15,
     "metadata": {},
     "output_type": "execute_result"
    }
   ],
   "source": [
    "args"
   ]
  },
  {
   "cell_type": "markdown",
   "id": "1be5e789-3446-482f-a3ca-fdd19b2a845e",
   "metadata": {},
   "source": [
    "#### main(args)"
   ]
  },
  {
   "cell_type": "code",
   "execution_count": 16,
   "id": "ed4ddef2-30f2-45c3-b5ff-c7def50ddaaf",
   "metadata": {
    "execution": {
     "iopub.execute_input": "2024-03-24T20:27:20.188385Z",
     "iopub.status.busy": "2024-03-24T20:27:20.188160Z",
     "iopub.status.idle": "2024-03-24T20:27:20.214390Z",
     "shell.execute_reply": "2024-03-24T20:27:20.213750Z",
     "shell.execute_reply.started": "2024-03-24T20:27:20.188351Z"
    }
   },
   "outputs": [
    {
     "name": "stdout",
     "output_type": "stream",
     "text": [
      "hello autoencoder\n",
      "hello C\n"
     ]
    }
   ],
   "source": [
    "## Autoencoder\n",
    "(\n",
    "    dataset,\n",
    "    batch_size,\n",
    "    epochs,\n",
    "    learning_rate,\n",
    "    input_shape,\n",
    "    code_dim,\n",
    "    snnl_factor,\n",
    "    temperature,\n",
    ") = get_hyperparameters(args.configuration)\n"
   ]
  },
  {
   "cell_type": "code",
   "execution_count": 17,
   "id": "018a11c8-a00b-4732-a2d3-9c252d7a281d",
   "metadata": {
    "execution": {
     "iopub.execute_input": "2024-03-24T20:27:20.215658Z",
     "iopub.status.busy": "2024-03-24T20:27:20.215460Z",
     "iopub.status.idle": "2024-03-24T20:27:20.240544Z",
     "shell.execute_reply": "2024-03-24T20:27:20.239914Z",
     "shell.execute_reply.started": "2024-03-24T20:27:20.215639Z"
    }
   },
   "outputs": [],
   "source": [
    "units = [[784, 256], [256, 256], [256, 512], [512,10]]\n",
    "epochs = 10\n",
    "batch_size = 4"
   ]
  },
  {
   "cell_type": "code",
   "execution_count": 18,
   "id": "1e4f9df4-ca74-4916-8d76-be4bed339b6c",
   "metadata": {
    "execution": {
     "iopub.execute_input": "2024-03-24T20:27:20.242800Z",
     "iopub.status.busy": "2024-03-24T20:27:20.242472Z",
     "iopub.status.idle": "2024-03-24T20:27:20.269749Z",
     "shell.execute_reply": "2024-03-24T20:27:20.269098Z",
     "shell.execute_reply.started": "2024-03-24T20:27:20.242780Z"
    }
   },
   "outputs": [
    {
     "name": "stdout",
     "output_type": "stream",
     "text": [
      "   dataset           mnist\n",
      "   batch_size        4\n",
      "   epochs            10\n",
      "   learning_rate     0.001\n",
      "   code_dim             50\n",
      "   snnl_factor       100.0\n",
      "   temperature       None\n"
     ]
    }
   ],
   "source": [
    "print(f\"   dataset           {dataset}\")\n",
    "print(f\"   batch_size        {batch_size}\")\n",
    "print(f\"   epochs            {epochs}\")\n",
    "print(f\"   learning_rate     {learning_rate}\")\n",
    "print(f\"   code_dim             {code_dim}\")\n",
    "# print(f\"   units             {units}\")\n",
    "print(f\"   snnl_factor       {snnl_factor}\")\n",
    "print(f\"   temperature       {temperature}\")"
   ]
  },
  {
   "cell_type": "code",
   "execution_count": 19,
   "id": "8ad3eb09-600a-4e3a-9b28-f9491f962624",
   "metadata": {
    "execution": {
     "iopub.execute_input": "2024-03-24T20:27:20.270960Z",
     "iopub.status.busy": "2024-03-24T20:27:20.270693Z",
     "iopub.status.idle": "2024-03-24T20:27:20.392963Z",
     "shell.execute_reply": "2024-03-24T20:27:20.392240Z",
     "shell.execute_reply.started": "2024-03-24T20:27:20.270938Z"
    }
   },
   "outputs": [],
   "source": [
    "set_global_seed(args.seed)\n",
    "\n",
    "train_dataset, test_dataset = load_dataset(name=dataset)"
   ]
  },
  {
   "cell_type": "code",
   "execution_count": 20,
   "id": "2c2a6883-5c1f-4ab9-9aaa-42e203465cd3",
   "metadata": {
    "execution": {
     "iopub.execute_input": "2024-03-24T20:27:20.394476Z",
     "iopub.status.busy": "2024-03-24T20:27:20.394198Z",
     "iopub.status.idle": "2024-03-24T20:27:20.425503Z",
     "shell.execute_reply": "2024-03-24T20:27:20.424984Z",
     "shell.execute_reply.started": "2024-03-24T20:27:20.394447Z"
    }
   },
   "outputs": [
    {
     "data": {
      "text/plain": [
       "Dataset MNIST\n",
       "    Number of datapoints: 60000\n",
       "    Root location: /home/kevin/datasets\n",
       "    Split: Train\n",
       "    StandardTransform\n",
       "Transform: Compose(\n",
       "               ToTensor()\n",
       "               Normalize(mean=(0.1307,), std=(0.3081,))\n",
       "           )"
      ]
     },
     "execution_count": 20,
     "metadata": {},
     "output_type": "execute_result"
    }
   ],
   "source": [
    "train_dataset"
   ]
  },
  {
   "cell_type": "code",
   "execution_count": 28,
   "id": "b83ca556-604c-4467-846b-df0f4b55d117",
   "metadata": {
    "execution": {
     "iopub.execute_input": "2024-03-24T20:28:08.330027Z",
     "iopub.status.busy": "2024-03-24T20:28:08.329553Z",
     "iopub.status.idle": "2024-03-24T20:28:08.606409Z",
     "shell.execute_reply": "2024-03-24T20:28:08.605718Z",
     "shell.execute_reply.started": "2024-03-24T20:28:08.329986Z"
    }
   },
   "outputs": [
    {
     "name": "stdout",
     "output_type": "stream",
     "text": [
      "load mnist\n"
     ]
    }
   ],
   "source": [
    "if dataset in [\"mnist\", \"emnist\"]:\n",
    "    print(f\"load {dataset}\")\n",
    "    train_dataset, test_dataset = load_dataset(name=dataset)\n",
    "\n",
    "    if dataset == \"emnist\":\n",
    "        print(f\"dataset is emnist\")\n",
    "        train_features = train_dataset.data.numpy().astype(\"float32\") / 255.0\n",
    "        train_features = train_features[:60000]\n",
    "        train_features = torch.from_numpy(train_features)\n",
    "        train_labels = train_dataset.targets\n",
    "        train_labels = train_labels[:60000]\n",
    "        train_dataset = torch.utils.data.TensorDataset(train_features, train_labels)\n",
    "        train_loader = create_dataloader(dataset=train_dataset, batch_size=batch_size)\n",
    "    else:\n",
    "        train_dataset, test_dataset = load_dataset(name=dataset)\n",
    "        train_features = train_dataset.data.numpy().astype(\"float32\") / 255.0\n",
    "        train_features = train_features[:10000]\n",
    "        train_features = torch.from_numpy(train_features)\n",
    "        train_labels = train_dataset.targets\n",
    "        train_labels = train_labels[:10000]\n",
    "        train_dataset = torch.utils.data.TensorDataset(train_features, train_labels)\n",
    "        train_loader = create_dataloader(dataset=train_dataset, batch_size=batch_size, num_workers=1)    \n"
   ]
  },
  {
   "cell_type": "markdown",
   "id": "19b32e21-67d2-45af-a45f-841b6dca43ff",
   "metadata": {},
   "source": [
    "#### Define autoencoder model"
   ]
  },
  {
   "cell_type": "code",
   "execution_count": 22,
   "id": "9404daac-d3d2-4c32-96d1-2d072b4fcf4b",
   "metadata": {
    "execution": {
     "iopub.execute_input": "2024-03-24T20:27:35.263953Z",
     "iopub.status.busy": "2024-03-24T20:27:35.263514Z",
     "iopub.status.idle": "2024-03-24T20:27:35.299052Z",
     "shell.execute_reply": "2024-03-24T20:27:35.298331Z",
     "shell.execute_reply.started": "2024-03-24T20:27:35.263913Z"
    }
   },
   "outputs": [
    {
     "name": "stdout",
     "output_type": "stream",
     "text": [
      "50\n",
      "1740\n",
      "784\n"
     ]
    }
   ],
   "source": [
    "print(code_dim)\n",
    "print(input_shape)\n",
    "input_shape = 784\n",
    "# input_shape = 1740\n",
    "print(input_shape)"
   ]
  },
  {
   "cell_type": "code",
   "execution_count": 23,
   "id": "10c525bb-81e5-4c18-9e81-196219bbe999",
   "metadata": {
    "execution": {
     "iopub.execute_input": "2024-03-24T20:27:35.916972Z",
     "iopub.status.busy": "2024-03-24T20:27:35.916759Z",
     "iopub.status.idle": "2024-03-24T20:27:37.548594Z",
     "shell.execute_reply": "2024-03-24T20:27:37.547686Z",
     "shell.execute_reply.started": "2024-03-24T20:27:35.916952Z"
    }
   },
   "outputs": [
    {
     "name": "stdout",
     "output_type": "stream",
     "text": [
      " Building Base Model from NOTEBOOK\n",
      "  Crtierion is : BCELoss()\n",
      "  mode:  latent_code\n",
      " Build SNNLoss dfrom NOTEBOOK\n",
      " SNNLoss _init()_    -- mode: latent_code was found in SNNLoss._supported_modes --   is unsupervised: True\n",
      " SNNLoss _init()_    -- primary_criterion: BCELoss()\n",
      " Building Autoencoder from NOTEBOOK\n"
     ]
    }
   ],
   "source": [
    "if args.model.lower() == \"baseline\":\n",
    "    model = Autoencoder(\n",
    "        input_shape=input_shape, code_dim=code_dim, learning_rate=learning_rate\n",
    "    )\n",
    "elif args.model.lower() == \"snnl\":\n",
    "    model = Autoencoder(\n",
    "        input_shape=input_shape,\n",
    "        code_dim=code_dim,\n",
    "        learning_rate=learning_rate,\n",
    "        use_snnl=True,\n",
    "        factor=snnl_factor,\n",
    "        temperature=temperature,\n",
    "        mode=\"latent_code\",\n",
    "        code_units=30,\n",
    "    )\n",
    "else:\n",
    "    raise ValueError(\"Choose between [baseline] and [snnl] only.\")"
   ]
  },
  {
   "cell_type": "markdown",
   "id": "332b698f-3de7-462c-8e90-ca82e81b18c0",
   "metadata": {},
   "source": [
    "#### Display model summary"
   ]
  },
  {
   "cell_type": "code",
   "execution_count": 24,
   "id": "6947ebb3-a53d-4936-8f51-22e8deaa7922",
   "metadata": {
    "execution": {
     "iopub.execute_input": "2024-03-24T20:27:37.649227Z",
     "iopub.status.busy": "2024-03-24T20:27:37.648764Z",
     "iopub.status.idle": "2024-03-24T20:27:38.133562Z",
     "shell.execute_reply": "2024-03-24T20:27:38.132829Z",
     "shell.execute_reply.started": "2024-03-24T20:27:37.649186Z"
    }
   },
   "outputs": [
    {
     "data": {
      "text/plain": [
       "==============================================================================================================================================================================================\n",
       "Layer (type:depth-idx)                   Input Shape               Output Shape              Param #                   Param %                   Mult-Adds                 Trainable\n",
       "==============================================================================================================================================================================================\n",
       "Autoencoder                              [4, 1, 28, 28]            [4, 784]                  --                             --                   --                        True\n",
       "├─ModuleList: 1-1                        --                        --                        --                             --                   --                        True\n",
       "│    └─Linear: 2-1                       [4, 784]                  [4, 500]                  392,500                    11.24%                   1,570,000                 True\n",
       "│    └─ReLU: 2-2                         [4, 500]                  [4, 500]                  --                             --                   --                        --\n",
       "│    └─Linear: 2-3                       [4, 500]                  [4, 500]                  250,500                     7.18%                   1,002,000                 True\n",
       "│    └─ReLU: 2-4                         [4, 500]                  [4, 500]                  --                             --                   --                        --\n",
       "│    └─Linear: 2-5                       [4, 500]                  [4, 2000]                 1,002,000                  28.70%                   4,008,000                 True\n",
       "│    └─ReLU: 2-6                         [4, 2000]                 [4, 2000]                 --                             --                   --                        --\n",
       "│    └─Linear: 2-7                       [4, 2000]                 [4, 50]                   100,050                     2.87%                   400,200                   True\n",
       "│    └─Sigmoid: 2-8                      [4, 50]                   [4, 50]                   --                             --                   --                        --\n",
       "│    └─Linear: 2-9                       [4, 50]                   [4, 2000]                 102,000                     2.92%                   408,000                   True\n",
       "│    └─ReLU: 2-10                        [4, 2000]                 [4, 2000]                 --                             --                   --                        --\n",
       "│    └─Linear: 2-11                      [4, 2000]                 [4, 500]                  1,000,500                  28.66%                   4,002,000                 True\n",
       "│    └─ReLU: 2-12                        [4, 500]                  [4, 500]                  --                             --                   --                        --\n",
       "│    └─Linear: 2-13                      [4, 500]                  [4, 500]                  250,500                     7.18%                   1,002,000                 True\n",
       "│    └─ReLU: 2-14                        [4, 500]                  [4, 500]                  --                             --                   --                        --\n",
       "│    └─Linear: 2-15                      [4, 500]                  [4, 784]                  392,784                    11.25%                   1,571,136                 True\n",
       "│    └─Sigmoid: 2-16                     [4, 784]                  [4, 784]                  --                             --                   --                        --\n",
       "==============================================================================================================================================================================================\n",
       "Total params: 3,490,834\n",
       "Trainable params: 3,490,834\n",
       "Non-trainable params: 0\n",
       "Total mult-adds (Units.MEGABYTES): 13.96\n",
       "==============================================================================================================================================================================================\n",
       "Input size (MB): 0.01\n",
       "Forward/backward pass size (MB): 0.22\n",
       "Params size (MB): 13.96\n",
       "Estimated Total Size (MB): 14.19\n",
       "=============================================================================================================================================================================================="
      ]
     },
     "execution_count": 24,
     "metadata": {},
     "output_type": "execute_result"
    }
   ],
   "source": [
    "col_names = [ \"input_size\",\n",
    "                \"output_size\",\n",
    "                \"num_params\",\n",
    "                \"params_percent\",\n",
    "                # \"kernel_size\",\n",
    "                \"mult_adds\",\n",
    "                \"trainable\"]\n",
    "summary(model, input_size=(batch_size, 1, 28, 28), col_names = col_names)"
   ]
  },
  {
   "cell_type": "code",
   "execution_count": 44,
   "id": "cae9c65d-3905-47dc-8f36-56a17d78617a",
   "metadata": {
    "execution": {
     "iopub.execute_input": "2024-03-19T21:26:33.292705Z",
     "iopub.status.busy": "2024-03-19T21:26:33.292494Z",
     "iopub.status.idle": "2024-03-19T21:26:33.318621Z",
     "shell.execute_reply": "2024-03-19T21:26:33.317986Z",
     "shell.execute_reply.started": "2024-03-19T21:26:33.292686Z"
    }
   },
   "outputs": [],
   "source": [
    "# for index, layer in enumerate(model.layers):\n",
    "#     print(f\" {index}:  \")\n",
    "#     print(layer)\n",
    "#     if isinstance(layer, torch.nn.Linear):\n",
    "#         print(layer.weight.shape)"
   ]
  },
  {
   "cell_type": "code",
   "execution_count": 25,
   "id": "00aec5f2-a0b5-4ebc-b26e-887460dae98b",
   "metadata": {
    "execution": {
     "iopub.execute_input": "2024-03-24T20:27:41.403953Z",
     "iopub.status.busy": "2024-03-24T20:27:41.403510Z",
     "iopub.status.idle": "2024-03-24T20:27:41.443133Z",
     "shell.execute_reply": "2024-03-24T20:27:41.442586Z",
     "shell.execute_reply.started": "2024-03-24T20:27:41.403913Z"
    }
   },
   "outputs": [
    {
     "data": {
      "text/plain": [
       "device(type='cuda', index=0)"
      ]
     },
     "execution_count": 25,
     "metadata": {},
     "output_type": "execute_result"
    }
   ],
   "source": [
    "model.device"
   ]
  },
  {
   "cell_type": "markdown",
   "id": "9495952f-7f8b-46ed-8deb-e17c6942cf7a",
   "metadata": {
    "execution": {
     "iopub.execute_input": "2024-03-18T21:36:31.081005Z",
     "iopub.status.busy": "2024-03-18T21:36:31.080534Z",
     "iopub.status.idle": "2024-03-18T21:36:31.087709Z",
     "shell.execute_reply": "2024-03-18T21:36:31.086762Z",
     "shell.execute_reply.started": "2024-03-18T21:36:31.080965Z"
    }
   },
   "source": [
    "### `main()`"
   ]
  },
  {
   "cell_type": "code",
   "execution_count": 51,
   "id": "6c58d09f-8b25-4d08-9112-42f11fc448f8",
   "metadata": {
    "execution": {
     "iopub.execute_input": "2024-03-21T13:45:19.970407Z",
     "iopub.status.busy": "2024-03-21T13:45:19.969881Z",
     "iopub.status.idle": "2024-03-21T13:45:20.024106Z",
     "shell.execute_reply": "2024-03-21T13:45:20.023573Z",
     "shell.execute_reply.started": "2024-03-21T13:45:19.970351Z"
    }
   },
   "outputs": [],
   "source": [
    "epochs = 40"
   ]
  },
  {
   "cell_type": "code",
   "execution_count": 53,
   "id": "96bc2449-e4f0-436b-99b5-9f1e868bdc09",
   "metadata": {
    "execution": {
     "iopub.execute_input": "2024-03-21T14:20:33.396121Z",
     "iopub.status.busy": "2024-03-21T14:20:33.395578Z",
     "iopub.status.idle": "2024-03-21T14:49:35.185113Z",
     "shell.execute_reply": "2024-03-21T14:49:35.184317Z",
     "shell.execute_reply.started": "2024-03-21T14:20:33.396065Z"
    }
   },
   "outputs": [
    {
     "name": "stdout",
     "output_type": "stream",
     "text": [
      "epoch 2/40 : mean loss = 861.149067\n",
      "\trecon loss = 0.262794\t|\tsnn loss = 8.608863\n",
      "epoch 4/40 : mean loss = 870.138482\n",
      "\trecon loss = 0.262799\t|\tsnn loss = 8.698757\n",
      "epoch 6/40 : mean loss = 868.386861\n",
      "\trecon loss = 0.262793\t|\tsnn loss = 8.681241\n",
      "epoch 8/40 : mean loss = 868.658920\n",
      "\trecon loss = 0.262780\t|\tsnn loss = 8.683962\n",
      "epoch 10/40 : mean loss = 863.865247\n",
      "\trecon loss = 0.262790\t|\tsnn loss = 8.636025\n",
      "epoch 12/40 : mean loss = 865.244675\n",
      "\trecon loss = 0.262788\t|\tsnn loss = 8.649819\n",
      "epoch 14/40 : mean loss = 879.991324\n",
      "\trecon loss = 0.262786\t|\tsnn loss = 8.797285\n",
      "epoch 16/40 : mean loss = 875.018653\n",
      "\trecon loss = 0.262784\t|\tsnn loss = 8.747558\n",
      "epoch 18/40 : mean loss = 875.069868\n",
      "\trecon loss = 0.262782\t|\tsnn loss = 8.748071\n",
      "epoch 20/40 : mean loss = 853.323628\n",
      "\trecon loss = 0.262775\t|\tsnn loss = 8.530608\n",
      "epoch 22/40 : mean loss = 865.807732\n",
      "\trecon loss = 0.262781\t|\tsnn loss = 8.655449\n",
      "epoch 24/40 : mean loss = 872.258426\n",
      "\trecon loss = 0.262767\t|\tsnn loss = 8.719957\n",
      "epoch 26/40 : mean loss = 865.954185\n",
      "\trecon loss = 0.262781\t|\tsnn loss = 8.656914\n",
      "epoch 28/40 : mean loss = 873.578855\n",
      "\trecon loss = 0.262782\t|\tsnn loss = 8.733160\n",
      "epoch 30/40 : mean loss = 871.113229\n",
      "\trecon loss = 0.262774\t|\tsnn loss = 8.708504\n",
      "epoch 32/40 : mean loss = 868.642653\n",
      "\trecon loss = 0.262785\t|\tsnn loss = 8.683798\n",
      "epoch 34/40 : mean loss = 865.053899\n",
      "\trecon loss = 0.262772\t|\tsnn loss = 8.647912\n",
      "epoch 36/40 : mean loss = 867.236834\n",
      "\trecon loss = 0.262787\t|\tsnn loss = 8.669741\n",
      "epoch 38/40 : mean loss = 867.440082\n",
      "\trecon loss = 0.262783\t|\tsnn loss = 8.671773\n",
      "epoch 40/40 : mean loss = 867.487339\n",
      "\trecon loss = 0.262786\t|\tsnn loss = 8.672246\n"
     ]
    }
   ],
   "source": [
    "model.fit(data_loader=train_loader, epochs=epochs)"
   ]
  },
  {
   "cell_type": "code",
   "execution_count": 38,
   "id": "5428a6b5-3eae-4df2-a927-8d7c7b7fd14d",
   "metadata": {
    "execution": {
     "iopub.execute_input": "2024-03-18T22:21:47.051067Z",
     "iopub.status.busy": "2024-03-18T22:21:47.050188Z",
     "iopub.status.idle": "2024-03-18T22:21:47.437998Z",
     "shell.execute_reply": "2024-03-18T22:21:47.436850Z",
     "shell.execute_reply.started": "2024-03-18T22:21:47.051013Z"
    }
   },
   "outputs": [
    {
     "data": {
      "text/plain": [
       "DNN(\n",
       "  (snnl_criterion): SNNLoss(\n",
       "    (primary_criterion): CrossEntropyLoss()\n",
       "  )\n",
       "  (layers): ModuleList(\n",
       "    (0): Linear(in_features=784, out_features=500, bias=True)\n",
       "    (1): Linear(in_features=500, out_features=500, bias=True)\n",
       "    (2): Linear(in_features=500, out_features=2000, bias=True)\n",
       "    (3): Linear(in_features=2000, out_features=10, bias=True)\n",
       "  )\n",
       ")"
      ]
     },
     "execution_count": 38,
     "metadata": {},
     "output_type": "execute_result"
    },
    {
     "name": "stdout",
     "output_type": "stream",
     "text": [
      "accuracy: 98.03%\n"
     ]
    }
   ],
   "source": [
    "test_features = test_dataset.data.reshape(-1, 784) / 255.0\n",
    "model.eval()\n",
    "model = model.cpu()\n",
    "predictions = model.predict(test_features)\n",
    "model.test_accuracy = accuracy(y_true=test_dataset.targets, y_pred=predictions)\n",
    "print(f\"accuracy: {model.test_accuracy}%\")\n",
    "# filename = f\"DNN-{args.model.lower()}-{args.seed}.json\"\n",
    "# export_results(model=model, filename=filename)"
   ]
  },
  {
   "cell_type": "markdown",
   "id": "3f89261f-6c68-4b39-a67f-40ba0e8476a8",
   "metadata": {},
   "source": [
    "### Plot losses"
   ]
  },
  {
   "cell_type": "code",
   "execution_count": 44,
   "id": "49bab411-8380-4529-990f-9b298e5bbf41",
   "metadata": {
    "execution": {
     "iopub.execute_input": "2024-03-18T22:26:41.294721Z",
     "iopub.status.busy": "2024-03-18T22:26:41.294099Z",
     "iopub.status.idle": "2024-03-18T22:26:43.317019Z",
     "shell.execute_reply": "2024-03-18T22:26:43.316517Z",
     "shell.execute_reply.started": "2024-03-18T22:26:41.294667Z"
    }
   },
   "outputs": [
    {
     "data": {
      "text/plain": [
       "[23.557433570699487,\n",
       " 23.22307972197837,\n",
       " 23.17047405648739,\n",
       " 23.135906503555624,\n",
       " 23.111685691995824,\n",
       " 23.109949184985872,\n",
       " 23.07896597841953,\n",
       " 23.061786400003637,\n",
       " 23.07139054156364,\n",
       " 23.056032813863553,\n",
       " 23.049738750051944,\n",
       " 23.052576990330472,\n",
       " 23.038166687336375,\n",
       " 23.038574340495657,\n",
       " 23.027512424550157,\n",
       " 23.02489833425968,\n",
       " 23.02663789302745,\n",
       " 23.02926631683999,\n",
       " 23.033775702943192,\n",
       " 23.02313812742842]"
      ]
     },
     "execution_count": 44,
     "metadata": {},
     "output_type": "execute_result"
    },
    {
     "data": {
      "text/plain": [
       "[0.49108011716223776,\n",
       " 0.17844487679131488,\n",
       " 0.12760246721036891,\n",
       " 0.09754291860030052,\n",
       " 0.07894913333052016,\n",
       " 0.06346336329712512,\n",
       " 0.05217743678454389,\n",
       " 0.04229577096139497,\n",
       " 0.03541186782036056,\n",
       " 0.0296313617893673,\n",
       " 0.02414795395303914,\n",
       " 0.02002955710396488,\n",
       " 0.01666371603991757,\n",
       " 0.014435368990327449,\n",
       " 0.010814445992892092,\n",
       " 0.009346916684088238,\n",
       " 0.007567327370510456,\n",
       " 0.0064481989936308656,\n",
       " 0.005928901349134902,\n",
       " 0.004381614105597614]"
      ]
     },
     "execution_count": 44,
     "metadata": {},
     "output_type": "execute_result"
    },
    {
     "data": {
      "text/plain": [
       "[2.3066353371802797,\n",
       " 2.3044634859612647,\n",
       " 2.3042871525947084,\n",
       " 2.3038363608908146,\n",
       " 2.3032736605786264,\n",
       " 2.304648591102438,\n",
       " 2.302678856951125,\n",
       " 2.3019490668114195,\n",
       " 2.30359786520613,\n",
       " 2.3026401469048032,\n",
       " 2.302559077486079,\n",
       " 2.3032547433325585,\n",
       " 2.302150297164917,\n",
       " 2.302413892745972,\n",
       " 2.3016697934333314,\n",
       " 2.3015551394604623,\n",
       " 2.301907053399593,\n",
       " 2.3022818159549794,\n",
       " 2.3027846833492847,\n",
       " 2.301875660267282]"
      ]
     },
     "execution_count": 44,
     "metadata": {},
     "output_type": "execute_result"
    }
   ],
   "source": [
    "model.train_loss\n",
    "model.train_xent_loss\n",
    "model.train_snn_loss"
   ]
  },
  {
   "cell_type": "code",
   "execution_count": 48,
   "id": "761a9f8d-e145-4ab2-a147-503542dc7a19",
   "metadata": {
    "execution": {
     "iopub.execute_input": "2024-03-18T22:30:30.784429Z",
     "iopub.status.busy": "2024-03-18T22:30:30.783936Z",
     "iopub.status.idle": "2024-03-18T22:30:30.972647Z",
     "shell.execute_reply": "2024-03-18T22:30:30.972115Z",
     "shell.execute_reply.started": "2024-03-18T22:30:30.784389Z"
    }
   },
   "outputs": [
    {
     "data": {
      "text/plain": [
       "[<matplotlib.lines.Line2D at 0x7fd28d44ae10>]"
      ]
     },
     "execution_count": 48,
     "metadata": {},
     "output_type": "execute_result"
    },
    {
     "data": {
      "text/plain": [
       "[<matplotlib.lines.Line2D at 0x7fd28d3daa50>]"
      ]
     },
     "execution_count": 48,
     "metadata": {},
     "output_type": "execute_result"
    },
    {
     "data": {
      "image/png": "[encoded data removed]",
      "text/plain": [
       "<Figure size 640x480 with 1 Axes>"
      ]
     },
     "metadata": {},
     "output_type": "display_data"
    }
   ],
   "source": [
    "from matplotlib import pyplot as plt\n",
    "\n",
    "plt.plot(model.train_xent_loss)\n",
    "plt.plot(model.train_snn_loss)"
   ]
  },
  {
   "cell_type": "markdown",
   "id": "94aeaa82-14c5-465c-ae6e-bb792ba8a973",
   "metadata": {},
   "source": [
    "#### Autoencoder `fit(data_loader = train_loader, epochs = epochs)` "
   ]
  },
  {
   "cell_type": "code",
   "execution_count": 29,
   "id": "dee23d84-f749-46e8-a30d-24e540cda247",
   "metadata": {
    "execution": {
     "iopub.execute_input": "2024-03-24T20:28:14.564905Z",
     "iopub.status.busy": "2024-03-24T20:28:14.564641Z",
     "iopub.status.idle": "2024-03-24T20:28:14.595568Z",
     "shell.execute_reply": "2024-03-24T20:28:14.594877Z",
     "shell.execute_reply.started": "2024-03-24T20:28:14.564885Z"
    }
   },
   "outputs": [],
   "source": [
    "epoch =0 \n",
    "data_loader = train_loader\n",
    "if model.use_snnl:\n",
    "    model.train_snn_loss = []\n",
    "    model.train_recon_loss = []"
   ]
  },
  {
   "cell_type": "code",
   "execution_count": 30,
   "id": "3da121c7-2e3f-4ba9-83db-5b7ffcb72f9f",
   "metadata": {
    "execution": {
     "iopub.execute_input": "2024-03-24T20:28:15.789122Z",
     "iopub.status.busy": "2024-03-24T20:28:15.788730Z",
     "iopub.status.idle": "2024-03-24T20:28:15.821543Z",
     "shell.execute_reply": "2024-03-24T20:28:15.820970Z",
     "shell.execute_reply.started": "2024-03-24T20:28:15.789085Z"
    }
   },
   "outputs": [
    {
     "name": "stdout",
     "output_type": "stream",
     "text": [
      " epoch 0  of 10 epochs\n"
     ]
    }
   ],
   "source": [
    "print(f\" epoch {epoch}  of {epochs} epochs\")\n",
    "# for epoch in range(epochs):"
   ]
  },
  {
   "cell_type": "code",
   "execution_count": 31,
   "id": "4ca0caad-e9e1-4af4-9d7e-e308310f4e8e",
   "metadata": {
    "execution": {
     "iopub.execute_input": "2024-03-24T20:28:20.076583Z",
     "iopub.status.busy": "2024-03-24T20:28:20.076331Z",
     "iopub.status.idle": "2024-03-24T20:28:20.105126Z",
     "shell.execute_reply": "2024-03-24T20:28:20.104452Z",
     "shell.execute_reply.started": "2024-03-24T20:28:20.076563Z"
    }
   },
   "outputs": [],
   "source": [
    "# for epoch in range(epochs):"
   ]
  },
  {
   "cell_type": "code",
   "execution_count": 34,
   "id": "475c6118-8233-4de9-84f8-988f4682c8a0",
   "metadata": {
    "execution": {
     "iopub.execute_input": "2024-03-19T21:25:36.428901Z",
     "iopub.status.busy": "2024-03-19T21:25:36.428443Z",
     "iopub.status.idle": "2024-03-19T21:25:36.463524Z",
     "shell.execute_reply": "2024-03-19T21:25:36.462874Z",
     "shell.execute_reply.started": "2024-03-19T21:25:36.428862Z"
    }
   },
   "outputs": [],
   "source": [
    "## epoch_loss = self.epoch_train(data_loader, epoch)"
   ]
  },
  {
   "cell_type": "code",
   "execution_count": 46,
   "id": "03a9a0f2-6d6b-4073-8716-9a1fbaf277fe",
   "metadata": {
    "execution": {
     "iopub.execute_input": "2024-03-07T20:12:53.661522Z",
     "iopub.status.busy": "2024-03-07T20:12:53.661238Z",
     "iopub.status.idle": "2024-03-07T20:12:53.712027Z",
     "shell.execute_reply": "2024-03-07T20:12:53.710915Z",
     "shell.execute_reply.started": "2024-03-07T20:12:53.661496Z"
    }
   },
   "outputs": [
    {
     "ename": "NameError",
     "evalue": "name 'epoch_loss' is not defined",
     "output_type": "error",
     "traceback": [
      "\u001b[0;31m---------------------------------------------------------------------------\u001b[0m",
      "\u001b[0;31mNameError\u001b[0m                                 Traceback (most recent call last)",
      "Cell \u001b[0;32mIn[46], line 1\u001b[0m\n\u001b[0;32m----> 1\u001b[0m \u001b[38;5;28;01mif\u001b[39;00m \u001b[38;5;28mtype\u001b[39m(\u001b[43mepoch_loss\u001b[49m) \u001b[38;5;129;01mis\u001b[39;00m \u001b[38;5;28mtuple\u001b[39m:\n\u001b[1;32m      2\u001b[0m     \u001b[38;5;28mself\u001b[39m\u001b[38;5;241m.\u001b[39mtrain_loss\u001b[38;5;241m.\u001b[39mappend(epoch_loss[\u001b[38;5;241m0\u001b[39m])\n\u001b[1;32m      3\u001b[0m     \u001b[38;5;28mself\u001b[39m\u001b[38;5;241m.\u001b[39mtrain_snn_loss\u001b[38;5;241m.\u001b[39mappend(epoch_loss[\u001b[38;5;241m1\u001b[39m])\n",
      "\u001b[0;31mNameError\u001b[0m: name 'epoch_loss' is not defined"
     ]
    }
   ],
   "source": [
    "if type(epoch_loss) is tuple:\n",
    "    self.train_loss.append(epoch_loss[0])\n",
    "    self.train_snn_loss.append(epoch_loss[1])\n",
    "    self.train_recon_loss.append(epoch_loss[2])\n",
    "    if (epoch + 1) % show_every == 0:\n",
    "        print(f\"epoch {epoch + 1}/{epochs} : mean loss = {self.train_loss[-1]:.6f}\")\n",
    "        print(f\"\\trecon loss = {self.train_recon_loss[-1]:.6f}\\t|\\tsnn loss = {self.train_snn_loss[-1]:.6f}\")\n",
    "else:\n",
    "    self.train_loss.append(epoch_loss)\n",
    "    if (epoch + 1) % show_every == 0:\n",
    "        print(f\"epoch {epoch + 1}/{epochs} : mean loss = {self.train_loss[-1]:.6f}\")"
   ]
  },
  {
   "cell_type": "code",
   "execution_count": null,
   "id": "103a785f-f36f-40e2-bc02-ff85e962fa8a",
   "metadata": {
    "execution": {
     "iopub.execute_input": "2024-03-06T23:13:24.609584Z",
     "iopub.status.busy": "2024-03-06T23:13:24.608850Z",
     "iopub.status.idle": "2024-03-06T23:13:24.632376Z",
     "shell.execute_reply": "2024-03-06T23:13:24.631137Z",
     "shell.execute_reply.started": "2024-03-06T23:13:24.609525Z"
    }
   },
   "outputs": [],
   "source": [
    "# epoch +=1"
   ]
  },
  {
   "cell_type": "markdown",
   "id": "a269e0d0-0d32-4f1c-a4e7-947f28ac5e38",
   "metadata": {
    "execution": {
     "iopub.execute_input": "2024-03-06T23:10:36.109017Z",
     "iopub.status.busy": "2024-03-06T23:10:36.108417Z",
     "iopub.status.idle": "2024-03-06T23:10:36.122328Z",
     "shell.execute_reply": "2024-03-06T23:10:36.121427Z",
     "shell.execute_reply.started": "2024-03-06T23:10:36.108936Z"
    }
   },
   "source": [
    "####  `epoch_train(model, data_loader, epoch)`"
   ]
  },
  {
   "cell_type": "code",
   "execution_count": 32,
   "id": "b6dc825c-7e27-4262-85e1-58d001fd9a28",
   "metadata": {
    "execution": {
     "iopub.execute_input": "2024-03-24T20:28:23.008983Z",
     "iopub.status.busy": "2024-03-24T20:28:23.008754Z",
     "iopub.status.idle": "2024-03-24T20:28:23.038443Z",
     "shell.execute_reply": "2024-03-24T20:28:23.037749Z",
     "shell.execute_reply.started": "2024-03-24T20:28:23.008962Z"
    }
   },
   "outputs": [],
   "source": [
    "if model.use_snnl:\n",
    "    epoch_primary_loss = 0\n",
    "    epoch_snn_loss = 0\n",
    "if model.name == \"DNN\" or model.name == \"CNN\":\n",
    "    epoch_accuracy = 0\n",
    "epoch_loss = 0"
   ]
  },
  {
   "cell_type": "code",
   "execution_count": 34,
   "id": "8f17528e-2af9-405a-86a3-9624e087ef90",
   "metadata": {
    "execution": {
     "iopub.execute_input": "2024-03-24T20:28:40.721459Z",
     "iopub.status.busy": "2024-03-24T20:28:40.721004Z",
     "iopub.status.idle": "2024-03-24T20:28:40.879979Z",
     "shell.execute_reply": "2024-03-24T20:28:40.878562Z",
     "shell.execute_reply.started": "2024-03-24T20:28:40.721417Z"
    }
   },
   "outputs": [],
   "source": [
    "# for batch_features, batch_labels in data_loader:\n",
    "batch_features, batch_labels = next(iter(data_loader))"
   ]
  },
  {
   "cell_type": "code",
   "execution_count": 35,
   "id": "5451441e-110c-48e7-bbd1-d8d545a154d8",
   "metadata": {
    "execution": {
     "iopub.execute_input": "2024-03-24T20:28:46.669934Z",
     "iopub.status.busy": "2024-03-24T20:28:46.669333Z",
     "iopub.status.idle": "2024-03-24T20:28:46.712224Z",
     "shell.execute_reply": "2024-03-24T20:28:46.711521Z",
     "shell.execute_reply.started": "2024-03-24T20:28:46.669878Z"
    }
   },
   "outputs": [
    {
     "name": "stdout",
     "output_type": "stream",
     "text": [
      " batch features torch.Size([4, 28, 28])   batch_labels: torch.Size([4])\n"
     ]
    }
   ],
   "source": [
    "print(f\" batch features {batch_features.shape}   batch_labels: {batch_labels.shape}\")"
   ]
  },
  {
   "cell_type": "code",
   "execution_count": 36,
   "id": "35ca6192-14cc-4093-a63e-4242c9d1552d",
   "metadata": {
    "execution": {
     "iopub.execute_input": "2024-03-24T20:28:52.909314Z",
     "iopub.status.busy": "2024-03-24T20:28:52.908790Z",
     "iopub.status.idle": "2024-03-24T20:28:52.947018Z",
     "shell.execute_reply": "2024-03-24T20:28:52.946113Z",
     "shell.execute_reply.started": "2024-03-24T20:28:52.909274Z"
    }
   },
   "outputs": [
    {
     "name": "stdout",
     "output_type": "stream",
     "text": [
      " batch features torch.Size([4, 784])   batch_labels: torch.Size([4])\n",
      "tensor([8, 2, 8, 6])\n",
      "tensor([9, 5, 5, 9])\n"
     ]
    }
   ],
   "source": [
    "if model.name in [\"Autoencoder\", \"DNN\"]:\n",
    "    batch_features = batch_features.view(batch_features.shape[0], -1)\n",
    "\n",
    "print(f\" batch features {batch_features.shape}   batch_labels: {batch_labels.shape}\") \n",
    "print(batch_labels)\n",
    "batch_labels = torch.tensor([9,5,5,9])\n",
    "print(batch_labels)"
   ]
  },
  {
   "cell_type": "code",
   "execution_count": 40,
   "id": "aa3e470d-0c77-479e-b76a-6007a3c905bf",
   "metadata": {
    "execution": {
     "iopub.execute_input": "2024-03-24T20:30:18.895198Z",
     "iopub.status.busy": "2024-03-24T20:30:18.894589Z",
     "iopub.status.idle": "2024-03-24T20:30:18.943298Z",
     "shell.execute_reply": "2024-03-24T20:30:18.942691Z",
     "shell.execute_reply.started": "2024-03-24T20:30:18.895138Z"
    }
   },
   "outputs": [
    {
     "data": {
      "text/plain": [
       "torch.Size([4, 784])"
      ]
     },
     "execution_count": 40,
     "metadata": {},
     "output_type": "execute_result"
    },
    {
     "data": {
      "text/plain": [
       "torch.return_types.max(\n",
       "values=tensor([1., 1., 1., 1.]),\n",
       "indices=tensor([154, 101, 406, 436]))"
      ]
     },
     "execution_count": 40,
     "metadata": {},
     "output_type": "execute_result"
    },
    {
     "data": {
      "text/plain": [
       "torch.return_types.min(\n",
       "values=tensor([0., 0., 0., 0.]),\n",
       "indices=tensor([0, 0, 0, 0]))"
      ]
     },
     "execution_count": 40,
     "metadata": {},
     "output_type": "execute_result"
    }
   ],
   "source": [
    "batch_features.shape\n",
    "batch_features.max(1)\n",
    "batch_features.min(1)"
   ]
  },
  {
   "cell_type": "code",
   "execution_count": 33,
   "id": "51522a08-41fa-4e69-9f0f-24481bf1c283",
   "metadata": {
    "execution": {
     "iopub.execute_input": "2024-03-24T20:28:25.956852Z",
     "iopub.status.busy": "2024-03-24T20:28:25.956642Z",
     "iopub.status.idle": "2024-03-24T20:28:25.999479Z",
     "shell.execute_reply": "2024-03-24T20:28:25.998593Z",
     "shell.execute_reply.started": "2024-03-24T20:28:25.956833Z"
    }
   },
   "outputs": [
    {
     "ename": "NameError",
     "evalue": "name 'batch_features' is not defined",
     "output_type": "error",
     "traceback": [
      "\u001b[0;31m---------------------------------------------------------------------------\u001b[0m",
      "\u001b[0;31mNameError\u001b[0m                                 Traceback (most recent call last)",
      "Cell \u001b[0;32mIn[33], line 1\u001b[0m\n\u001b[0;32m----> 1\u001b[0m batch_features \u001b[38;5;241m=\u001b[39m \u001b[43mbatch_features\u001b[49m\u001b[38;5;241m.\u001b[39mto(model\u001b[38;5;241m.\u001b[39mdevice)\n\u001b[1;32m      2\u001b[0m batch_labels \u001b[38;5;241m=\u001b[39m batch_labels\u001b[38;5;241m.\u001b[39mto(model\u001b[38;5;241m.\u001b[39mdevice)\n\u001b[1;32m      3\u001b[0m model\u001b[38;5;241m.\u001b[39moptimizer\u001b[38;5;241m.\u001b[39mzero_grad()\n",
      "\u001b[0;31mNameError\u001b[0m: name 'batch_features' is not defined"
     ]
    }
   ],
   "source": [
    "batch_features = batch_features.to(model.device)\n",
    "batch_labels = batch_labels.to(model.device)\n",
    "model.optimizer.zero_grad()"
   ]
  },
  {
   "cell_type": "code",
   "execution_count": 38,
   "id": "2e84f4ca-e468-4ae7-b50e-292c1840e1f9",
   "metadata": {
    "execution": {
     "iopub.execute_input": "2024-03-19T21:25:53.435521Z",
     "iopub.status.busy": "2024-03-19T21:25:53.435106Z",
     "iopub.status.idle": "2024-03-19T21:25:53.469465Z",
     "shell.execute_reply": "2024-03-19T21:25:53.468830Z",
     "shell.execute_reply.started": "2024-03-19T21:25:53.435485Z"
    }
   },
   "outputs": [],
   "source": [
    "outputs = model.forward(features=batch_features)"
   ]
  },
  {
   "cell_type": "code",
   "execution_count": 39,
   "id": "01feafc2-4c71-4412-b195-68abbaae17b0",
   "metadata": {
    "execution": {
     "iopub.execute_input": "2024-03-19T21:25:55.514216Z",
     "iopub.status.busy": "2024-03-19T21:25:55.513800Z",
     "iopub.status.idle": "2024-03-19T21:25:55.559304Z",
     "shell.execute_reply": "2024-03-19T21:25:55.558437Z",
     "shell.execute_reply.started": "2024-03-19T21:25:55.514177Z"
    }
   },
   "outputs": [
    {
     "name": "stdout",
     "output_type": "stream",
     "text": [
      " train_loss 110.60186004638672, primary_loss 0.7075011730194092, snn_loss 1.0989435911178589\n"
     ]
    }
   ],
   "source": [
    "if model.use_snnl:\n",
    "    train_loss, primary_loss, snn_loss = model.snnl_criterion(\n",
    "        model=model,\n",
    "        outputs=outputs,\n",
    "        features=batch_features,\n",
    "        labels=batch_labels,\n",
    "        epoch=epoch,\n",
    "    )\n",
    "    print(f\" train_loss {train_loss}, primary_loss {primary_loss}, snn_loss {snn_loss}\")\n",
    "    epoch_loss += train_loss.item()\n",
    "    epoch_snn_loss += snn_loss.item()\n",
    "    epoch_primary_loss += primary_loss.item()\n",
    "else:\n",
    "    train_loss = model.criterion(outputs, batch_labels if model.name == \"DNN\" or model.name == \"CNN\"  else batch_features,)\n",
    "    epoch_loss += train_loss.item()"
   ]
  },
  {
   "cell_type": "code",
   "execution_count": 40,
   "id": "24f437ef-97c8-41f6-81e6-c2c0b096db53",
   "metadata": {
    "execution": {
     "iopub.execute_input": "2024-03-19T21:26:02.306011Z",
     "iopub.status.busy": "2024-03-19T21:26:02.305536Z",
     "iopub.status.idle": "2024-03-19T21:26:02.354254Z",
     "shell.execute_reply": "2024-03-19T21:26:02.353618Z",
     "shell.execute_reply.started": "2024-03-19T21:26:02.305970Z"
    }
   },
   "outputs": [],
   "source": [
    "if model.name == \"DNN\" or model.name == \"CNN\":\n",
    "    train_accuracy = (outputs.argmax(1) == batch_labels).sum().item() / len(batch_labels)\n",
    "    epoch_accuracy += train_accuracy\n",
    "\n",
    "train_loss.backward()\n",
    "\n",
    "model.optimizer.step()\n",
    "if model.use_snnl and model.temperature is not None:\n",
    "    model.optimize_temperature()\n",
    "\n",
    "    # break"
   ]
  },
  {
   "cell_type": "markdown",
   "id": "27367bde-b9b4-4f0f-b5da-cfe8e28c80e8",
   "metadata": {},
   "source": [
    "#### End of dataloader loop"
   ]
  },
  {
   "cell_type": "code",
   "execution_count": null,
   "id": "930aba05-3892-45c9-a404-f4275dbd9478",
   "metadata": {},
   "outputs": [],
   "source": [
    "epoch_loss /= len(data_loader)\n",
    "\n",
    "if self.name in [\"DNN\", \"CNN\"]:\n",
    "    epoch_accuracy /= len(data_loader)\n",
    "    \n",
    "if self.use_snnl:\n",
    "    epoch_snn_loss /= len(data_loader)\n",
    "    epoch_primary_loss /= len(data_loader)\n",
    "    if self.name == \"DNN\" or self.name == \"CNN\":\n",
    "        print(f\" epoch_loss {epoch_loss}, epoch_snn_loss, {epoch_snn_loss},  epoch_primary_loss, {epoch_primary_loss}, epoch_accuracy,  {epoch_accuracy}\")\n",
    "        return epoch_loss, epoch_snn_loss, epoch_primary_loss, epoch_accuracy\n",
    "    else:\n",
    "        print(f\" epoch_loss {epoch_loss}, epoch_snn_loss, {epoch_snn_loss},  epoch_primary_loss, {epoch_primary_loss}\")\n",
    "        return epoch_loss, epoch_snn_loss, epoch_primary_loss\n",
    "else:\n",
    "    if self.name == \"DNN\" or self.name == \"CNN\":\n",
    "        print(f\" epoch_loss {epoch_loss}, epoch_accuracy,  {epoch_accuracy}\")\n",
    "        return epoch_loss, epoch_accuracy\n",
    "    else:\n",
    "        print(f\" epoch_loss {epoch_loss}\")\n",
    "        return epoch_loss"
   ]
  },
  {
   "cell_type": "code",
   "execution_count": 65,
   "id": "deebba8a-7d14-4905-93f8-1f7e11fa27cc",
   "metadata": {
    "execution": {
     "iopub.execute_input": "2024-03-07T20:20:12.137428Z",
     "iopub.status.busy": "2024-03-07T20:20:12.136822Z",
     "iopub.status.idle": "2024-03-07T20:20:12.187683Z",
     "shell.execute_reply": "2024-03-07T20:20:12.187034Z",
     "shell.execute_reply.started": "2024-03-07T20:20:12.137368Z"
    }
   },
   "outputs": [
    {
     "data": {
      "text/plain": [
       "1152.2025146484375"
      ]
     },
     "execution_count": 65,
     "metadata": {},
     "output_type": "execute_result"
    },
    {
     "data": {
      "text/plain": [
       "torch.Size([4, 784])"
      ]
     },
     "execution_count": 65,
     "metadata": {},
     "output_type": "execute_result"
    },
    {
     "data": {
      "text/plain": [
       "tensor([8, 1, 7, 5], device='cuda:0')"
      ]
     },
     "execution_count": 65,
     "metadata": {},
     "output_type": "execute_result"
    },
    {
     "name": "stdout",
     "output_type": "stream",
     "text": [
      " epoch_primary_loss  0.7071589231491089\n",
      " epoch_snn_loss      11.51495361328125\n",
      " model.snnl_factor   100.0\n",
      " epoch_loss          1152.2025146484375\n"
     ]
    },
    {
     "data": {
      "text/plain": [
       "0"
      ]
     },
     "execution_count": 65,
     "metadata": {},
     "output_type": "execute_result"
    },
    {
     "data": {
      "text/plain": [
       "2500"
      ]
     },
     "execution_count": 65,
     "metadata": {},
     "output_type": "execute_result"
    }
   ],
   "source": [
    "epoch_loss\n",
    "batch_features.shape\n",
    "# outputs[0].data\n",
    "# outputs[1].data\n",
    "batch_labels.data \n",
    "print(f\" epoch_primary_loss  {epoch_primary_loss}\")\n",
    "print(f\" epoch_snn_loss      {epoch_snn_loss}\")\n",
    "print(f\" model.snnl_factor   {model.snnl_criterion.factor}\")\n",
    "print(f\" epoch_loss          {epoch_loss}\")\n",
    "(outputs.argmax(1) == batch_labels).sum().item()\n",
    " \n",
    "# train_accuracy\n",
    "# epoch_accuracy\n",
    "len(data_loader)"
   ]
  },
  {
   "cell_type": "code",
   "execution_count": 76,
   "id": "a551f63d-a2e1-48cf-9409-11e404dda3b0",
   "metadata": {
    "execution": {
     "iopub.execute_input": "2024-03-06T23:42:46.830961Z",
     "iopub.status.busy": "2024-03-06T23:42:46.830335Z",
     "iopub.status.idle": "2024-03-06T23:42:46.877257Z",
     "shell.execute_reply": "2024-03-06T23:42:46.876507Z",
     "shell.execute_reply.started": "2024-03-06T23:42:46.830910Z"
    }
   },
   "outputs": [],
   "source": [
    "activations = dict()\n",
    "layers = model.layers\n",
    "for index, layer in enumerate(layers):\n",
    "    if index == 0:\n",
    "        activations[index] = layer(batch_features)\n",
    "    else:\n",
    "        activations[index] = layer(activations[index - 1])"
   ]
  },
  {
   "cell_type": "code",
   "execution_count": 78,
   "id": "5922060f-cfb9-426d-8aef-f1402909e85d",
   "metadata": {
    "execution": {
     "iopub.execute_input": "2024-03-06T23:43:25.202227Z",
     "iopub.status.busy": "2024-03-06T23:43:25.201649Z",
     "iopub.status.idle": "2024-03-06T23:43:25.237883Z",
     "shell.execute_reply": "2024-03-06T23:43:25.237128Z",
     "shell.execute_reply.started": "2024-03-06T23:43:25.202175Z"
    }
   },
   "outputs": [
    {
     "name": "stdout",
     "output_type": "stream",
     "text": [
      "torch.Size([2, 256])\n",
      "torch.Size([2, 256])\n",
      "torch.Size([2, 512])\n",
      "torch.Size([2, 10])\n"
     ]
    }
   ],
   "source": [
    "for i in activations:\n",
    "    print(activations[i].shape)"
   ]
  },
  {
   "cell_type": "code",
   "execution_count": null,
   "id": "db57c906-31f5-4f9c-af5d-7e6d64565593",
   "metadata": {},
   "outputs": [],
   "source": [
    "epoch_loss /= len(data_loader)\n",
    "\n",
    "if model.name in [\"DNN\", \"CNN\"]:\n",
    "    epoch_accuracy /= len(data_loader)\n",
    "\n",
    "if model.use_snnl:\n",
    "    epoch_snn_loss /= len(data_loader)\n",
    "    epoch_primary_loss /= len(data_loader)\n",
    "    if model.name == \"DNN\" or model.name == \"CNN\":\n",
    "        print(f\" epoch_loss: {epoch_loss},  epoch_snn_loss: {epoch_snn_loss}, epoch_primaey_loss: {epoch_primary_loss}, accuracy: {epoch_accuracy} \")\n",
    "        return epoch_loss, epoch_snn_loss, epoch_primary_loss, epoch_accuracy\n",
    "    else:\n",
    "        print(f\" epoch_loss: {epoch_loss},  epoch_snn_loss: {epoch_snn_loss}, epoch_primary_loss: {epoch_primary_loss} \")\n",
    "        return epoch_loss, epoch_snn_loss, epoch_primary_loss\n",
    "else:\n",
    "    if model.name == \"DNN\" or model.name == \"CNN\":\n",
    "        print(f\" epoch_loss: {epoch_loss}, accuracy: {epoch_accuracy} \")\n",
    "        return epoch_loss, epoch_accuracy\n",
    "    else:\n",
    "        print(f\" epoch_loss: {epoch_loss},\")\n",
    "        return epoch_loss"
   ]
  },
  {
   "cell_type": "code",
   "execution_count": null,
   "id": "d8f0804f-78fd-428b-9241-a9eda27b78d5",
   "metadata": {},
   "outputs": [],
   "source": []
  },
  {
   "cell_type": "code",
   "execution_count": null,
   "id": "c7ab7d4e-648b-4966-85ca-0fd41e9d6103",
   "metadata": {},
   "outputs": [],
   "source": [
    "# def main(args):\n",
    "#     (\n",
    "#         dataset,\n",
    "#         batch_size,\n",
    "#         epochs,\n",
    "#         learning_rate,\n",
    "#         units,\n",
    "#         snnl_factor,\n",
    "#         temperature,\n",
    "#     ) = get_hyperparameters(args.configuration)\n",
    "\n",
    "#     set_global_seed(args.seed)\n",
    "\n",
    "#     train_dataset, test_dataset = load_dataset(name=dataset)\n",
    "#     if dataset == \"emnist\":\n",
    "#         train_features = train_dataset.data.numpy().astype(\"float32\") / 255.0\n",
    "#         train_features = train_features[:60000]\n",
    "#         train_features = torch.from_numpy(train_features)\n",
    "#         train_labels = train_dataset.targets\n",
    "#         train_labels = train_labels[:60000]\n",
    "#         train_dataset = torch.utils.data.TensorDataset(train_features, train_labels)\n",
    "#     train_loader = create_dataloader(dataset=train_dataset, batch_size=batch_size)\n",
    "\n",
    "#     if args.model.lower() == \"baseline\":\n",
    "#         model = DNN(units=units, learning_rate=learning_rate)\n",
    "#     elif args.model.lower() == \"snnl\":\n",
    "#         model = DNN(\n",
    "#             units=units,\n",
    "#             learning_rate=learning_rate,\n",
    "#             use_snnl=True,\n",
    "#             factor=snnl_factor,\n",
    "#             temperature=temperature,\n",
    "#             use_annealing=False,\n",
    "#         )\n",
    "#     else:\n",
    "#         raise ValueError(\"Choose between [baseline] and [snnl] only.\")\n",
    "\n",
    "#     model.fit(data_loader=train_loader, epochs=epochs)\n",
    "\n",
    "#     test_features = test_dataset.data.reshape(-1, 784) / 255.0\n",
    "#     model.eval()\n",
    "#     model = model.cpu()\n",
    "#     predictions = model.predict(test_features)\n",
    "#     model.test_accuracy = accuracy(y_true=test_dataset.targets, y_pred=predictions)\n",
    "#     print(f\"accuracy: {model.test_accuracy}%\")\n",
    "#     filename = f\"DNN-{args.model.lower()}-{args.seed}.json\"\n",
    "#     export_results(model=model, filename=filename)\n",
    "\n"
   ]
  },
  {
   "cell_type": "markdown",
   "id": "0e7af43e-3ca4-4a2f-af42-575813f4cba9",
   "metadata": {},
   "source": [
    "#### SNNL Loss"
   ]
  },
  {
   "cell_type": "code",
   "execution_count": 154,
   "id": "23b2d86d-149c-4c52-9bc8-bf6f4440e3ff",
   "metadata": {
    "execution": {
     "iopub.execute_input": "2024-03-07T16:46:19.715575Z",
     "iopub.status.busy": "2024-03-07T16:46:19.715218Z",
     "iopub.status.idle": "2024-03-07T16:46:19.750086Z",
     "shell.execute_reply": "2024-03-07T16:46:19.749295Z",
     "shell.execute_reply.started": "2024-03-07T16:46:19.715548Z"
    }
   },
   "outputs": [
    {
     "name": "stdout",
     "output_type": "stream",
     "text": [
      " Build SNNLoss dfrom NOTEBOOK\n"
     ]
    }
   ],
   "source": [
    "snnl = SNNLoss(temperature=1.0)"
   ]
  },
  {
   "cell_type": "code",
   "execution_count": 170,
   "id": "5c8294a6-0992-44c9-adf3-c4dbec0ba543",
   "metadata": {
    "execution": {
     "iopub.execute_input": "2024-03-07T17:01:26.782560Z",
     "iopub.status.busy": "2024-03-07T17:01:26.782229Z",
     "iopub.status.idle": "2024-03-07T17:01:26.816878Z",
     "shell.execute_reply": "2024-03-07T17:01:26.816153Z",
     "shell.execute_reply.started": "2024-03-07T17:01:26.782533Z"
    }
   },
   "outputs": [
    {
     "data": {
      "text/plain": [
       "tensor([[0.8823, 0.9150, 0.3829, 0.9593],\n",
       "        [0.3904, 0.6009, 0.2566, 0.7936],\n",
       "        [0.9408, 0.1332, 0.9346, 0.5936],\n",
       "        [0.8694, 0.5677, 0.7411, 0.4294],\n",
       "        [0.8854, 0.5739, 0.2666, 0.6274],\n",
       "        [0.2696, 0.4414, 0.2969, 0.8317]])"
      ]
     },
     "execution_count": 170,
     "metadata": {},
     "output_type": "execute_result"
    }
   ],
   "source": [
    "_ = torch.manual_seed(42)\n",
    "features = torch.rand((6, 4))\n",
    "features"
   ]
  },
  {
   "cell_type": "code",
   "execution_count": 171,
   "id": "9398dd16-f2e6-440f-b1f4-3334c1fb051f",
   "metadata": {
    "execution": {
     "iopub.execute_input": "2024-03-07T17:01:31.246276Z",
     "iopub.status.busy": "2024-03-07T17:01:31.245941Z",
     "iopub.status.idle": "2024-03-07T17:01:31.279795Z",
     "shell.execute_reply": "2024-03-07T17:01:31.279017Z",
     "shell.execute_reply.started": "2024-03-07T17:01:31.246248Z"
    }
   },
   "outputs": [
    {
     "name": "stdout",
     "output_type": "stream",
     "text": [
      "\n"
     ]
    },
    {
     "data": {
      "text/plain": [
       "tensor([[-1.1921e-07,  2.6181e-02,  2.1361e-01,  1.0087e-01,  2.2940e-02,  7.3328e-02],\n",
       "        [ 2.6181e-02,  0.0000e+00,  2.7807e-01,  1.8148e-01,  9.0106e-02,  1.6577e-02],\n",
       "        [ 2.1361e-01,  2.7807e-01,  5.9605e-08,  6.2519e-02,  1.6466e-01,  2.7426e-01],\n",
       "        [ 1.0087e-01,  1.8148e-01,  6.2519e-02,  0.0000e+00,  7.5882e-02,  2.2894e-01],\n",
       "        [ 2.2940e-02,  9.0106e-02,  1.6466e-01,  7.5882e-02,  1.1921e-07,  1.4981e-01],\n",
       "        [ 7.3328e-02,  1.6577e-02,  2.7426e-01,  2.2894e-01,  1.4981e-01,  0.0000e+00]])"
      ]
     },
     "execution_count": 171,
     "metadata": {},
     "output_type": "execute_result"
    }
   ],
   "source": [
    "distance_matrix = snnl.pairwise_cosine_distance(features)\n",
    "distance_matrix"
   ]
  },
  {
   "cell_type": "code",
   "execution_count": 173,
   "id": "c008afbc-b247-47db-bef1-85c5e18859fd",
   "metadata": {
    "execution": {
     "iopub.execute_input": "2024-03-07T17:02:06.228333Z",
     "iopub.status.busy": "2024-03-07T17:02:06.227805Z",
     "iopub.status.idle": "2024-03-07T17:02:06.269832Z",
     "shell.execute_reply": "2024-03-07T17:02:06.269103Z",
     "shell.execute_reply.started": "2024-03-07T17:02:06.228284Z"
    }
   },
   "outputs": [
    {
     "data": {
      "text/plain": [
       "tensor([[1.0000, 0.9742, 0.8077, 0.9041, 0.9773, 0.9293],\n",
       "        [0.9742, 1.0000, 0.7572, 0.8340, 0.9138, 0.9836],\n",
       "        [0.8077, 0.7572, 1.0000, 0.9394, 0.8482, 0.7601],\n",
       "        [0.9041, 0.8340, 0.9394, 1.0000, 0.9269, 0.7954],\n",
       "        [0.9773, 0.9138, 0.8482, 0.9269, 1.0000, 0.8609],\n",
       "        [0.9293, 0.9836, 0.7601, 0.7954, 0.8609, 1.0000]])"
      ]
     },
     "execution_count": 173,
     "metadata": {},
     "output_type": "execute_result"
    },
    {
     "data": {
      "text/plain": [
       "tensor([[ 1.1921e-07,  9.7416e-01,  8.0767e-01,  9.0405e-01,  9.7732e-01,  9.2930e-01],\n",
       "        [ 9.7416e-01,  0.0000e+00,  7.5725e-01,  8.3404e-01,  9.1383e-01,  9.8356e-01],\n",
       "        [ 8.0767e-01,  7.5725e-01, -5.9605e-08,  9.3940e-01,  8.4818e-01,  7.6013e-01],\n",
       "        [ 9.0405e-01,  8.3404e-01,  9.3940e-01,  0.0000e+00,  9.2693e-01,  7.9538e-01],\n",
       "        [ 9.7732e-01,  9.1383e-01,  8.4818e-01,  9.2693e-01, -1.1921e-07,  8.6087e-01],\n",
       "        [ 9.2930e-01,  9.8356e-01,  7.6013e-01,  7.9538e-01,  8.6087e-01,  0.0000e+00]])"
      ]
     },
     "execution_count": 173,
     "metadata": {},
     "output_type": "execute_result"
    }
   ],
   "source": [
    "pairwise_distance_matrix = snnl.normalize_distance_matrix(features, distance_matrix, device = 'cpu')\n",
    "torch.exp(-(distance_matrix / snnl.temperature)) \n",
    "# pairwise_distance_matrix = torch.exp(-(distance_matrix / snnl.temperature)) - torch.eye(features.shape[0])\n",
    "# pairwise_distance_matrix.sum(1)   \n",
    "pairwise_distance_matrix"
   ]
  },
  {
   "cell_type": "code",
   "execution_count": 174,
   "id": "980590ba-c1a6-4ade-9722-7676021f065b",
   "metadata": {
    "execution": {
     "iopub.execute_input": "2024-03-07T17:02:16.718243Z",
     "iopub.status.busy": "2024-03-07T17:02:16.717912Z",
     "iopub.status.idle": "2024-03-07T17:02:16.753529Z",
     "shell.execute_reply": "2024-03-07T17:02:16.752768Z",
     "shell.execute_reply.started": "2024-03-07T17:02:16.718217Z"
    }
   },
   "outputs": [
    {
     "data": {
      "text/plain": [
       "tensor([1.0000, 1.0000, 1.0000, 1.0000, 1.0000, 1.0000])"
      ]
     },
     "execution_count": 174,
     "metadata": {},
     "output_type": "execute_result"
    },
    {
     "data": {
      "text/plain": [
       "tensor([[ 2.5957e-08,  2.1212e-01,  1.7587e-01,  1.9685e-01,  2.1281e-01,  2.0235e-01],\n",
       "        [ 2.1828e-01,  0.0000e+00,  1.6968e-01,  1.8688e-01,  2.0476e-01,  2.2039e-01],\n",
       "        [ 1.9639e-01,  1.8413e-01, -1.4493e-08,  2.2842e-01,  2.0624e-01,  1.8483e-01],\n",
       "        [ 2.0548e-01,  1.8956e-01,  2.1351e-01,  0.0000e+00,  2.1067e-01,  1.8078e-01],\n",
       "        [ 2.1588e-01,  2.0186e-01,  1.8735e-01,  2.0475e-01, -2.6332e-08,  1.9016e-01],\n",
       "        [ 2.1466e-01,  2.2719e-01,  1.7558e-01,  1.8372e-01,  1.9885e-01,  0.0000e+00]])"
      ]
     },
     "execution_count": 174,
     "metadata": {},
     "output_type": "execute_result"
    }
   ],
   "source": [
    "# torch.sum(pairwise_distance_matrix, 1) ##.view(-1, 1)\n",
    "# pairwise_distance_matrix / (1.0e-8 + torch.sum(pairwise_distance_matrix, 1).view(-1, 1))\n",
    "\n",
    "sampling_probability = snnl.compute_sampling_probability(pairwise_distance_matrix)\n",
    "sampling_probability.sum(1)\n",
    "sampling_probability"
   ]
  },
  {
   "cell_type": "code",
   "execution_count": 175,
   "id": "34fa75f5-79b7-48d6-8569-fb070acb3e0d",
   "metadata": {
    "execution": {
     "iopub.execute_input": "2024-03-07T17:02:40.220986Z",
     "iopub.status.busy": "2024-03-07T17:02:40.220406Z",
     "iopub.status.idle": "2024-03-07T17:02:40.265401Z",
     "shell.execute_reply": "2024-03-07T17:02:40.264602Z",
     "shell.execute_reply.started": "2024-03-07T17:02:40.220933Z"
    }
   },
   "outputs": [
    {
     "data": {
      "text/plain": [
       "tensor([0, 0, 1, 1, 2, 2])"
      ]
     },
     "execution_count": 175,
     "metadata": {},
     "output_type": "execute_result"
    },
    {
     "data": {
      "text/plain": [
       "tensor([[0],\n",
       "        [0],\n",
       "        [1],\n",
       "        [1],\n",
       "        [2],\n",
       "        [2]])"
      ]
     },
     "execution_count": 175,
     "metadata": {},
     "output_type": "execute_result"
    },
    {
     "data": {
      "text/plain": [
       "tensor([[ True,  True, False, False, False, False],\n",
       "        [ True,  True, False, False, False, False],\n",
       "        [False, False,  True,  True, False, False],\n",
       "        [False, False,  True,  True, False, False],\n",
       "        [False, False, False, False,  True,  True],\n",
       "        [False, False, False, False,  True,  True]])"
      ]
     },
     "execution_count": 175,
     "metadata": {},
     "output_type": "execute_result"
    }
   ],
   "source": [
    "labels = torch.tensor([0,0,1,1,2,2])\n",
    "# labels +=3\n",
    "labels\n",
    "labels.unsqueeze(1)\n",
    "torch.eq(labels, labels.unsqueeze(1))"
   ]
  },
  {
   "cell_type": "code",
   "execution_count": 176,
   "id": "ee8b00c2-7e99-4ca8-84dd-26582a8e30c9",
   "metadata": {
    "execution": {
     "iopub.execute_input": "2024-03-07T17:03:10.183053Z",
     "iopub.status.busy": "2024-03-07T17:03:10.182436Z",
     "iopub.status.idle": "2024-03-07T17:03:10.223900Z",
     "shell.execute_reply": "2024-03-07T17:03:10.223078Z",
     "shell.execute_reply.started": "2024-03-07T17:03:10.183000Z"
    }
   },
   "outputs": [
    {
     "name": "stdout",
     "output_type": "stream",
     "text": [
      "masking_matrix\n",
      "tensor([[1., 1., 0., 0., 0., 0.],\n",
      "        [1., 1., 0., 0., 0., 0.],\n",
      "        [0., 0., 1., 1., 0., 0.],\n",
      "        [0., 0., 1., 1., 0., 0.],\n",
      "        [0., 0., 0., 0., 1., 1.],\n",
      "        [0., 0., 0., 0., 1., 1.]])\n",
      "masked_pick_probabliltiy\n",
      "tensor([[ 2.5957e-08,  2.1212e-01,  0.0000e+00,  0.0000e+00,  0.0000e+00,  0.0000e+00],\n",
      "        [ 2.1828e-01,  0.0000e+00,  0.0000e+00,  0.0000e+00,  0.0000e+00,  0.0000e+00],\n",
      "        [ 0.0000e+00,  0.0000e+00, -1.4493e-08,  2.2842e-01,  0.0000e+00,  0.0000e+00],\n",
      "        [ 0.0000e+00,  0.0000e+00,  2.1351e-01,  0.0000e+00,  0.0000e+00,  0.0000e+00],\n",
      "        [ 0.0000e+00,  0.0000e+00,  0.0000e+00,  0.0000e+00, -2.6332e-08,  1.9016e-01],\n",
      "        [ 0.0000e+00,  0.0000e+00,  0.0000e+00,  0.0000e+00,  1.9885e-01,  0.0000e+00]])\n"
     ]
    },
    {
     "data": {
      "text/plain": [
       "tensor([0.2121, 0.2183, 0.2284, 0.2135, 0.1902, 0.1988])"
      ]
     },
     "execution_count": 176,
     "metadata": {},
     "output_type": "execute_result"
    }
   ],
   "source": [
    "summed_masked_pick_probability = snnl.mask_sampling_probability(labels, sampling_probability)\n",
    "# summed_masked_pick_probability.sum(0)\n",
    "summed_masked_pick_probability"
   ]
  },
  {
   "cell_type": "markdown",
   "id": "49008051-d83a-4188-8522-f695ab3beaef",
   "metadata": {},
   "source": [
    "#### Base Model"
   ]
  },
  {
   "cell_type": "code",
   "execution_count": 22,
   "id": "34deccb9-2730-47f8-be65-4f14affd1a5f",
   "metadata": {
    "execution": {
     "iopub.execute_input": "2024-03-07T19:43:07.897995Z",
     "iopub.status.busy": "2024-03-07T19:43:07.897401Z",
     "iopub.status.idle": "2024-03-07T19:43:08.107883Z",
     "shell.execute_reply": "2024-03-07T19:43:08.107022Z",
     "shell.execute_reply.started": "2024-03-07T19:43:07.897936Z"
    }
   },
   "outputs": [],
   "source": []
  },
  {
   "cell_type": "markdown",
   "id": "b63d78d0-2adf-4743-8715-66f207cdd62b",
   "metadata": {},
   "source": [
    "#### DNN"
   ]
  },
  {
   "cell_type": "code",
   "execution_count": 23,
   "id": "c8f19550-74ee-458f-956e-ecfeb2e220a4",
   "metadata": {
    "execution": {
     "iopub.execute_input": "2024-03-07T19:43:08.110232Z",
     "iopub.status.busy": "2024-03-07T19:43:08.109945Z",
     "iopub.status.idle": "2024-03-07T19:43:08.211065Z",
     "shell.execute_reply": "2024-03-07T19:43:08.210227Z",
     "shell.execute_reply.started": "2024-03-07T19:43:08.110204Z"
    }
   },
   "outputs": [
    {
     "data": {
      "text/plain": [
       "'Feed-forward Neural Network'"
      ]
     },
     "execution_count": 23,
     "metadata": {},
     "output_type": "execute_result"
    }
   ],
   "source": []
  },
  {
   "cell_type": "markdown",
   "id": "b48dd830-3206-4531-8b07-aa4bf27a88bc",
   "metadata": {},
   "source": [
    "#### Autoencoder"
   ]
  },
  {
   "cell_type": "code",
   "execution_count": 24,
   "id": "bdccd157-4a38-4bc5-9e12-f6a483050df1",
   "metadata": {
    "execution": {
     "iopub.execute_input": "2024-03-07T19:43:08.212968Z",
     "iopub.status.busy": "2024-03-07T19:43:08.212670Z",
     "iopub.status.idle": "2024-03-07T19:43:08.299519Z",
     "shell.execute_reply": "2024-03-07T19:43:08.298736Z",
     "shell.execute_reply.started": "2024-03-07T19:43:08.212942Z"
    }
   },
   "outputs": [],
   "source": []
  },
  {
   "cell_type": "code",
   "execution_count": null,
   "id": "790b8a34-38da-4a11-b48a-de6fc8c11646",
   "metadata": {},
   "outputs": [],
   "source": []
  },
  {
   "cell_type": "markdown",
   "id": "f284c33e-8448-4c0a-a403-8dc1d8cc536d",
   "metadata": {
    "jp-MarkdownHeadingCollapsed": true
   },
   "source": [
    "#### Predict"
   ]
  },
  {
   "cell_type": "code",
   "execution_count": null,
   "id": "0ce36c0b-6fd4-4454-8ceb-214284dd6abc",
   "metadata": {
    "jupyter": {
     "source_hidden": true
    }
   },
   "outputs": [],
   "source": [
    "test_features = test_dataset.data.reshape(-1, 784) / 255.0"
   ]
  },
  {
   "cell_type": "code",
   "execution_count": null,
   "id": "16ebac12-779c-4da2-995c-b4ecaed34828",
   "metadata": {},
   "outputs": [],
   "source": [
    "model.eval()\n",
    "model = model.cpu()"
   ]
  },
  {
   "cell_type": "code",
   "execution_count": null,
   "id": "b2d51865-d440-4488-b690-45bdf8a91c82",
   "metadata": {},
   "outputs": [],
   "source": [
    "predictions = model.predict(test_features)\n",
    "model.test_accuracy = accuracy(y_true=test_dataset.targets, y_pred=predictions)"
   ]
  },
  {
   "cell_type": "code",
   "execution_count": null,
   "id": "33c72a58-de2e-43d9-ad00-725552a38ff5",
   "metadata": {},
   "outputs": [],
   "source": [
    "print(f\"accuracy: {model.test_accuracy}%\")"
   ]
  },
  {
   "cell_type": "code",
   "execution_count": null,
   "id": "d9d7cd53-2ef8-4c46-a509-e3443f1eae20",
   "metadata": {},
   "outputs": [],
   "source": [
    "print(f\"accuracy: {model.test_accuracy}%\")"
   ]
  },
  {
   "cell_type": "code",
   "execution_count": null,
   "id": "1e80b138-e509-48bc-853f-297f1a55a8e8",
   "metadata": {},
   "outputs": [],
   "source": [
    "print(f\"accuracy: {model.test_accuracy}%\")"
   ]
  },
  {
   "cell_type": "code",
   "execution_count": null,
   "id": "f2b8338a-e430-44e7-b82d-96c3fa70cf9c",
   "metadata": {},
   "outputs": [],
   "source": [
    "filename = f\"DNN-{args.model.lower()}-{args.seed}.json\"\n",
    "export_results(model=model, filename=filename)"
   ]
  },
  {
   "cell_type": "code",
   "execution_count": null,
   "id": "b616fdcb-52ea-4743-ace6-201a48fc68ee",
   "metadata": {},
   "outputs": [],
   "source": []
  }
 ],
 "metadata": {
  "kernelspec": {
   "display_name": "Python [conda env:ptsnnl]",
   "language": "python",
   "name": "conda-env-ptsnnl-py"
  },
  "language_info": {
   "codemirror_mode": {
    "name": "ipython",
    "version": 3
   },
   "file_extension": ".py",
   "mimetype": "text/x-python",
   "name": "python",
   "nbconvert_exporter": "python",
   "pygments_lexer": "ipython3",
   "version": "3.11.0"
  },
  "toc": {
   "base_numbering": 1,
   "nav_menu": {},
   "number_sections": true,
   "sideBar": true,
   "skip_h1_title": false,
   "title_cell": "Table of Contents",
   "title_sidebar": "Contents",
   "toc_cell": false,
   "toc_position": {},
   "toc_section_display": true,
   "toc_window_display": false
  }
 },
 "nbformat": 4,
 "nbformat_minor": 5
}
