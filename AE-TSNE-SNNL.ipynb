{
 "cells": [
  {
   "cell_type": "code",
   "execution_count": 1,
   "id": "c207aab7-fadf-41ea-a900-3662978c3a18",
   "metadata": {
    "ExecuteTime": {
     "end_time": "2023-04-12T10:29:16.111588Z",
     "start_time": "2023-04-12T10:29:15.764305Z"
    },
    "execution": {
     "iopub.execute_input": "2024-07-08T18:14:20.344086Z",
     "iopub.status.busy": "2024-07-08T18:14:20.343719Z",
     "iopub.status.idle": "2024-07-08T18:14:20.368952Z",
     "shell.execute_reply": "2024-07-08T18:14:20.368243Z",
     "shell.execute_reply.started": "2024-07-08T18:14:20.344062Z"
    }
   },
   "outputs": [
    {
     "data": {
      "text/html": [
       "<style>.container { width:98% !important; }</style>"
      ],
      "text/plain": [
       "<IPython.core.display.HTML object>"
      ]
     },
     "metadata": {},
     "output_type": "display_data"
    }
   ],
   "source": [
    "from IPython.display import display, HTML, Image\n",
    "display(HTML(\"<style>.container { width:98% !important; }</style>\"))\n",
    "%load_ext autoreload  \n",
    "%autoreload 2\n",
    "from IPython.core.interactiveshell import InteractiveShell\n",
    "InteractiveShell.ast_node_interactivity = \"all\""
   ]
  },
  {
   "cell_type": "code",
   "execution_count": 2,
   "id": "802423f8-62ce-4199-b810-7ad2a9158cc4",
   "metadata": {
    "ExecuteTime": {
     "end_time": "2023-04-12T10:29:16.111588Z",
     "start_time": "2023-04-12T10:29:15.764305Z"
    },
    "execution": {
     "iopub.execute_input": "2024-07-08T18:14:23.479174Z",
     "iopub.status.busy": "2024-07-08T18:14:23.478616Z",
     "iopub.status.idle": "2024-07-08T18:14:26.804868Z",
     "shell.execute_reply": "2024-07-08T18:14:26.804062Z",
     "shell.execute_reply.started": "2024-07-08T18:14:23.479136Z"
    }
   },
   "outputs": [
    {
     "name": "stdout",
     "output_type": "stream",
     "text": [
      "insert ./src\n",
      "insert ../..\n",
      "2.2.1+cu118\n",
      " Timestamp:  ./tmp/sql_cohort_2024_07_08_20:14:26.txt\n"
     ]
    }
   ],
   "source": [
    "import os\n",
    "import sys\n",
    "import argparse\n",
    "import csv\n",
    "import getpass\n",
    "import json\n",
    "import time\n",
    "import types, copy, pprint\n",
    "import logging \n",
    "import re\n",
    "import shutil\n",
    "import yaml\n",
    "from datetime import datetime\n",
    "for p in ['./src','../..']:\n",
    "    if p not in sys.path:\n",
    "        print(f\"insert {p}\")\n",
    "        sys.path.insert(0, p)\n",
    "        \n",
    "import wandb\n",
    "import glob\n",
    "from matplotlib import pyplot as plt\n",
    "from typing import Dict, List, Tuple\n",
    "from scipy.sparse import csr_matrix\n",
    "from tqdm import tqdm\n",
    "\n",
    "import numpy as np\n",
    "import pandas as pd\n",
    "\n",
    "import torch\n",
    "import torch.nn.functional as F\n",
    "from torchinfo import summary\n",
    "\n",
    "torch.set_printoptions(precision=None, threshold=None, edgeitems=None, linewidth=150, profile=None, sci_mode=None)\n",
    "print(torch.__version__)\n",
    "\n",
    "pd.options.display.width = 132\n",
    "pp = pprint.PrettyPrinter(indent=4)\n",
    "np.set_printoptions(edgeitems=3, infstr='inf', linewidth=150, nanstr='nan')\n",
    "torch.set_printoptions(precision=None, threshold=None, edgeitems=None, linewidth=150, profile=None, sci_mode=None)\n",
    "\n",
    "os.environ[\"WANDB_NOTEBOOK_NAME\"] = \"Adashare_Train.ipynb\"\n",
    "os.environ[\"CUDA_LAUNCH_BLOCKING\"] = \"1\"\n",
    " \n",
    "timestamp = datetime.now().strftime('%Y_%m_%d_%H:%M:%S')\n",
    "\n",
    "print(' Timestamp: ','./tmp/sql_cohort'+'_'+timestamp+'.txt')\n",
    "# logLevel = os.environ.get('LOG_LEVEL', 'INFO').upper()\n",
    "# FORMAT = '%(asctime)s - %(levelname)s: - %(message)s'\n",
    "# logging.basicConfig(level=\"INFO\", format= FORMAT)"
   ]
  },
  {
   "cell_type": "code",
   "execution_count": 3,
   "id": "f9d47f03-bd93-4dad-ac1f-d4dd182c9f89",
   "metadata": {
    "execution": {
     "iopub.execute_input": "2024-07-08T18:14:29.011802Z",
     "iopub.status.busy": "2024-07-08T18:14:29.010888Z",
     "iopub.status.idle": "2024-07-08T18:14:32.147605Z",
     "shell.execute_reply": "2024-07-08T18:14:32.145920Z",
     "shell.execute_reply.started": "2024-07-08T18:14:29.011757Z"
    }
   },
   "outputs": [],
   "source": [
    "import snnl.utils as utils\n",
    "from KevinsRoutines.utils.utils_general  import  list_namespace\n",
    "# from KevinsRoutines.utils.utils_wandb  import  init_wandb, wandb_log_metrics,wandb_watch\n",
    "\n",
    "# from snnl.modelsev_base import Model\n",
    "# from snnl.models.dev_dnn import DNN \n",
    "from snnl.models import Autoencoder\n"
   ]
  },
  {
   "cell_type": "code",
   "execution_count": 4,
   "id": "dc2a9f2c-ae1b-495e-bdbb-254740c4941c",
   "metadata": {
    "execution": {
     "iopub.execute_input": "2024-07-08T18:14:32.951616Z",
     "iopub.status.busy": "2024-07-08T18:14:32.950705Z",
     "iopub.status.idle": "2024-07-08T18:14:33.004747Z",
     "shell.execute_reply": "2024-07-08T18:14:33.003997Z",
     "shell.execute_reply.started": "2024-07-08T18:14:32.951569Z"
    }
   },
   "outputs": [],
   "source": [
    "import sklearn.metrics as skm \n",
    "import scipy.stats as sps \n",
    "from sklearn.decomposition import PCA\n",
    "from sklearn.manifold import TSNE\n",
    "from scipy.spatial.distance import pdist, squareform, euclidean\n",
    "import matplotlib.pyplot as plt\n",
    "import seaborn as sb\n",
    "\n",
    "# from sklearn.metrics import accuracy_score, f1_score, roc_curve, roc_auc_score, classification_report, precision_recall_fscore_support\n",
    "# from sklearn.metrics import precision_recall_curve, PrecisionRecallDisplay, roc_curve, RocCurveDisplay\n",
    "# from sklearn.metrics import confusion_matrix, ConfusionMatrixDisplay"
   ]
  },
  {
   "cell_type": "code",
   "execution_count": null,
   "id": "42b84f4f-aef8-4a8d-ad13-5f26bf07b501",
   "metadata": {},
   "outputs": [],
   "source": [
    "current_device = utils.get_device()\n",
    "print(f\"Current device is : {current_device}\")\n",
    "\n",
    "current_device = utils.set_device(2)"
   ]
  },
  {
   "cell_type": "markdown",
   "id": "c9a51595-5eb1-4169-83e1-ab476383de22",
   "metadata": {},
   "source": [
    "# Setup"
   ]
  },
  {
   "cell_type": "markdown",
   "id": "3ac7fb60-0979-4b2f-aa31-478c3059fbbf",
   "metadata": {},
   "source": [
    "#### main(args)"
   ]
  },
  {
   "cell_type": "code",
   "execution_count": null,
   "id": "a87b0846-b635-45e8-ae0f-dbacd39afd0b",
   "metadata": {
    "scrolled": true
   },
   "outputs": [],
   "source": [
    "# if __name__ == \"__main__\":\n",
    "input_args = f\" --seed              1234 \" \\\n",
    "             f\" --runmode           baseline\" \\\n",
    "             f\" --configuration     ./hyperparameters/autoencoder_cellpainting-50.yaml\"\n",
    "             f\" --gpu_id             2 \"\\\n",
    "             f\" --cpb                200\" \n",
    "             # f\" --runmode           snnl\" \\\n",
    "             # f\" --configuration     hyperparameters/dnn_mnist.json\"\n",
    "args = utils.parse_args(input_args.split())\n",
    "args\n",
    "\n",
    "with open(args.configuration) as f:\n",
    "    args = types.SimpleNamespace(**yaml.safe_load(f), **(vars(args)))\n",
    "args.batch_size = args.cellpainting_args['batch_size']\n",
    "args.compounds_per_batch = args.cellpainting_args['compounds_per_batch']\n",
    "\n",
    "utils.set_global_seed(args.seed)"
   ]
  },
  {
   "cell_type": "code",
   "execution_count": null,
   "id": "7124dbc9-5413-42f2-a16b-4566eec4d3d7",
   "metadata": {},
   "outputs": [],
   "source": [
    "trn_file_sz = args.cellpainting_args['train_end'] - args.cellpainting_args['train_start']\n",
    "val_file_sz = args.cellpainting_args['val_end']   - args.cellpainting_args['val_start']\n",
    "tst_file_sz = args.cellpainting_args['test_end']  - args.cellpainting_args['test_start']\n",
    "smp_sz = args.cellpainting_args['sample_size']\n",
    "buf_sz = args.cellpainting_args['compounds_per_batch']\n",
    "bth_sz = args.batch_size\n",
    "recs_per_batch = smp_sz * bth_sz * buf_sz\n",
    "\n",
    "for file_sz in [tst_file_sz]:\n",
    "    bth_per_epoch = file_sz // recs_per_batch\n",
    "    print(f\" - Each mini-batch contains {recs_per_batch/smp_sz} compounds with {smp_sz} samples per each compound : total {recs_per_batch} rows\")\n",
    "    print(f\" - Number of {recs_per_batch} row full size batches per epoch: {bth_per_epoch}\")\n",
    "    print(f\" - Rows covered by {bth_per_epoch} full size batches ({recs_per_batch} rows) per epoch:  {(file_sz // recs_per_batch) * recs_per_batch}\")\n",
    "    print(f\" - Last partial batch contains : {file_sz % recs_per_batch} rows\")\n",
    "    print() "
   ]
  },
  {
   "cell_type": "markdown",
   "id": "5f09684c-e777-4a30-b84a-aaf8d3a6b16e",
   "metadata": {},
   "source": [
    "### Load Cell Painting Dataset"
   ]
  },
  {
   "cell_type": "code",
   "execution_count": null,
   "id": "bf3968a4-59db-4e90-b4bf-334f3f76194f",
   "metadata": {},
   "outputs": [],
   "source": [
    "# args.cellpainting_args['validation_path']\n",
    "args.cellpainting_args['val_start'] = 0\n",
    "args.cellpainting_args['val_end'] = 3600\n",
    "# args.cellpainting_args['training_path'] = '/home/kevin/WSL-shared/Cellpainting/cj-datasets/output_11102023/3_sample_profiles/3sample_profiles_1482_HashOrder_training.csv'\n",
    "# args.cellpainting_args['validation_path'] = '/home/kevin/WSL-shared/Cellpainting/cj-datasets/output_11102023/3_sample_profiles/3sample_profiles_1482_HashOrder.csv'\n",
    "args.cellpainting_args['train_start'] = 24_000\n",
    "args.cellpainting_args['train_end'] = 27_600\n",
    "args.cellpainting_args"
   ]
  },
  {
   "cell_type": "code",
   "execution_count": null,
   "id": "86105dca-05a8-4519-8095-94efe15f163e",
   "metadata": {},
   "outputs": [],
   "source": [
    "data_loader = dict()\n",
    "\n",
    "if args.dataset == 'cellpainting':\n",
    "    print(f\" load {args.dataset}\")\n",
    "    train_dataset = utils.CellpaintingDataset(type = 'train',    **args.cellpainting_args)\n",
    "    data_loader['train'] = utils.InfiniteDataLoader(dataset=train_dataset, batch_size= args.batch_size,shuffle = False, num_workers = 0, collate_fn = utils.custom_collate_fn)\n",
    "    val_dataset = utils.CellpaintingDataset(type = 'val',    **args.cellpainting_args)\n",
    "    data_loader['val'] = utils.InfiniteDataLoader(dataset=val_dataset, batch_size= args.batch_size,shuffle = False, num_workers = 0, collate_fn = utils.custom_collate_fn)\n",
    "    test_dataset = utils.CellpaintingDataset(type = 'test',    **args.cellpainting_args)\n",
    "    data_loader['test'] = utils.InfiniteDataLoader(dataset=test_dataset, batch_size= args.batch_size,shuffle = False, num_workers = 0, collate_fn = utils.custom_collate_fn)\n",
    "\n",
    "# for idx, batch in enumerate(test_loader):\n",
    "#     print(f\"{idx:4d}, {batch[0].shape}, {batch[1].shape},{batch[2].shape},{batch[3].shape},{batch[4].shape}, {batch[3][:3]}, {batch[3][-3:]}\")\n",
    "#     utils.display_cellpainting_batch(idx, batch)\n",
    "#     if idx >= 0:\n",
    "#         break"
   ]
  },
  {
   "cell_type": "code",
   "execution_count": null,
   "id": "2bab9f2e-bc81-4a62-96a1-8086e309e53a",
   "metadata": {},
   "outputs": [],
   "source": [
    "# input_shape = 784\n",
    "# code_units =  20\n",
    "args.temperature   = 0.00\n",
    "args.loss_factor   = 1.0\n",
    "args.snnl_factor   = 0.0e+00\n",
    "args.learning_rate = 0.0e-00    ## 0.001\n",
    "args.temperatureLR = 0.0e-00    ## 1e-4\n",
    "# temperatureLR = 1e-03     ## 1e-4\n",
    "print(f\"   Units             {args.units}\")\n",
    "print(f\"   Activations       {args.activations}\")\n",
    "print(f\"   Latent dim        {args.code_units}\")\n",
    "print(f\"   loss_factor       {args.loss_factor}\")\n",
    "print(f\"   snnl_factor       {args.snnl_factor}\")\n",
    "print(f\"   temperature       {args.temperature}\")\n",
    "print(f\"   learning_rate     {args.learning_rate}\")\n",
    "print(f\"   temperatureLR:    {args.temperatureLR}\")"
   ]
  },
  {
   "cell_type": "code",
   "execution_count": null,
   "id": "f3f813dd-e9bc-4c97-b4b4-33889113267f",
   "metadata": {},
   "outputs": [],
   "source": [
    "list_namespace(args)"
   ]
  },
  {
   "cell_type": "markdown",
   "id": "e24271f0-06fa-4514-ba1a-f19e8ad362eb",
   "metadata": {},
   "source": [
    "# Define Autoencoder Model"
   ]
  },
  {
   "cell_type": "code",
   "execution_count": null,
   "id": "479f09de-e7df-45ea-a720-a0396adc76f5",
   "metadata": {},
   "outputs": [],
   "source": [
    "model = utils.define_autoencoder_model(args, embedding_layer = 4)\n",
    "model.device\n",
    "# if args.runmode.lower() == \"baseline\":\n",
    "#         adam_weight_decay = 0,\n",
    "#         use_scheduler = True,\n",
    "#         use_snnl   = False,\n",
    "#         snnl_factor= 0.0,\n",
    "#         use_temp_scheduler = False\n",
    "# elif args.runmode.lower() == \"snnl\":\n",
    "#         mode=\"latent_code\",\n",
    "#         adam_weight_decay = 0,\n",
    "#         use_snnl=True,\n",
    "#         use_annealing= False,        \n",
    "#         use_sum = False,\n",
    "#         SGD_weight_decay= 0,\n",
    "#         use_temp_scheduler = False\n",
    "# model.device"
   ]
  },
  {
   "cell_type": "code",
   "execution_count": null,
   "id": "bf1e4da3-2a35-4151-81b4-a555d073e09f",
   "metadata": {},
   "outputs": [],
   "source": [
    "# display_model_summary(model)"
   ]
  },
  {
   "cell_type": "markdown",
   "id": "f284c33e-8448-4c0a-a403-8dc1d8cc536d",
   "metadata": {},
   "source": [
    "# Load Model from saved checkpoint - Run data through model"
   ]
  },
  {
   "cell_type": "code",
   "execution_count": null,
   "id": "f43a6227-7763-4326-ae86-41dc4d99eecb",
   "metadata": {},
   "outputs": [],
   "source": [
    "# ex_runmode = 'snnl'\n",
    "ex_runmode = 'baseline'\n",
    "# ex_date = \"20240515\"\n",
    "ex_date = \"20240605\"\n",
    "ex_title=\"snglOpt_50Ltnt\"\n",
    "# ex_date = \"20240516\"\n",
    "# ex_title=\"snglOpt_100Ltnt\"\n",
    "# ex_date = \"20240605\"\n",
    "# ex_title=\"snglOpt_150Ltnt\"\n",
    "\n",
    "# ex_runmode = 'baseline'\n",
    "# ex_title=\"snglOpt_50Ltnt\"\n",
    "# ex_title=\"firstTry\"\n",
    "ex_cpb = args.compounds_per_batch\n",
    "epochs = 50\n",
    "ex_factor = 0\n",
    "# ex_title=\"dropout04\"\n",
    "# ex_title=\"secondTry\"\n",
    "# title=\"autoencoder\"\n",
    "# title='Xentropy'\n",
    "# model.name"
   ]
  },
  {
   "cell_type": "code",
   "execution_count": null,
   "id": "53cc2fd5-6315-4bd1-ab3f-834ab981768f",
   "metadata": {},
   "outputs": [],
   "source": [
    "# filename = f\"{model.name}_{ex_runmode}_{ex_date}_{ex_title}_{epochs:03d}_cpb_{ex_cpb}_factor_{ex_factor:d}.pt\"\n",
    "# file_pattern = f\"{model.name}_{ex_runmode}_{ex_date}_{ex_title}_*_cpb_{ex_cpb}_factor_{ex_factor:d}.pt\"\n",
    "filename = f\"{model.name}_{ex_runmode}_{ex_date}_{ex_title}_{epochs:03d}_cpb_{ex_cpb}_factor_{ex_factor:d}.pt\"\n",
    "file_pattern = f\"{model.name}_{ex_runmode}_{ex_date}_{ex_title}_ep_*.pt\"\n",
    "print(file_pattern)"
   ]
  },
  {
   "cell_type": "code",
   "execution_count": null,
   "id": "777cf896-1fda-4e8f-8eb3-581f98132d2a",
   "metadata": {},
   "outputs": [],
   "source": [
    "# filelist = glob.glob(os.path.join('ckpts',file_pattern))\n",
    "filelist = glob.glob(file_pattern,root_dir = './ckpts')\n",
    "filelist = sorted(filelist)\n",
    "filelist\n",
    "epochlist =sorted([int(x[-6:-3]) for x in filelist])\n",
    "epochlist\n",
    "# epochlist =[int(x[31:34]) for x in filelist]\n",
    "# epochlist =[int(x[26:29]) for x in filelist]\n",
    "# epochlist = [200]\n",
    "# epochlist = [350]"
   ]
  },
  {
   "cell_type": "code",
   "execution_count": null,
   "id": "005dc0fa-417c-4c82-bd61-84568a24b6e2",
   "metadata": {},
   "outputs": [],
   "source": [
    "# = utils.load_model_from_ckpt(model, ex_mode, ex_timestamp, ex_title, epochs, ex_cpb, ex_factor )\n",
    "# mdl_outputs = utils.run_model_on_test_data(model, test_loader, embedding_layer = 4)\n",
    "metric = 'cosine'\n",
    "# metric = 'euclidian'\n",
    "# metric = 'correlation'\n",
    "df_metrics = dict()\n",
    "grp_level_dict = {}\n",
    "for ds in ['train', 'val', 'test']:\n",
    "    df_metrics[ds] = pd.DataFrame()\n",
    "    grp_level_dict[ds] = {}"
   ]
  },
  {
   "cell_type": "code",
   "execution_count": null,
   "id": "2511cc56-0875-45f5-8f9c-656d7ff85bc5",
   "metadata": {
    "scrolled": true
   },
   "outputs": [],
   "source": [
    "for epochs in epochlist :\n",
    "    # for filename in filelist:\n",
    "    filename = f\"{model.name}_{ex_runmode}_{ex_date}_{ex_title}_ep_{epochs:03d}.pt\"\n",
    "    model = utils.load_model_from_ckpt(model, filename = filename, v1=True, verbose = False)\n",
    "    if model is None:\n",
    "        print(f\"model is none\")\n",
    "        break\n",
    "    \n",
    "    for ds in ['train', 'val', 'test']:        \n",
    "        mdl_outputs = utils.run_model_on_test_data(model, data_loader[ds], embedding_layer = 4, verbose = False)\n",
    "        mdl_outputs.epochs = epochs\n",
    "        reg_metrics = utils.compute_regression_metrics(mdl_outputs)\n",
    "        sample_activations = utils.distance_metrics_sample_set(mdl_outputs, num_samples = 10, display = False)\n",
    "        dist_metrics, grp_level_dict[ds][epochs]  = utils.compute_distance_metrics(sample_activations, epochs = epochs, metric = metric,display = False )    \n",
    "        # utils.display_dist_metrics(dist_metrics, epochs, metric)\n",
    "        # utils.display_regr_metrics(reg_metrics)\\\n",
    "        try:\n",
    "            df_metrics[ds] = pd.concat((df_metrics[ds], pd.DataFrame(vars(reg_metrics) | dist_metrics , index = [epochs] )) , verify_integrity=True)\n",
    "        except ValueError:\n",
    "            print(f\" {epochs} already exists - not added\")"
   ]
  },
  {
   "cell_type": "code",
   "execution_count": null,
   "id": "93437963-df3c-4812-ad87-41e4584913e6",
   "metadata": {},
   "outputs": [],
   "source": [
    "df_metrics.keys()\n",
    "mdl_outputs.latent_embedding.shape\n",
    "grp_level_dict.keys()"
   ]
  },
  {
   "cell_type": "code",
   "execution_count": null,
   "id": "38bc78a8-82cd-4f40-bf3e-ab4d38ff62ec",
   "metadata": {},
   "outputs": [],
   "source": [
    "def distance_matrices(grp_level_dict, epochs = [50,150,250,350]):\n",
    "    import seaborn as sns\n",
    "    # plotting the heatmap \n",
    "    # del fig, axs\n",
    "    len_dict = len(grp_level_dict)\n",
    "    ## figsize =(width, height)\n",
    "    cols = 3\n",
    "    rows = len(epochs)\n",
    "    fig, axs = plt.subplots(rows,cols, sharey=False, tight_layout=True, figsize=(cols*5,rows*4) )\n",
    "     \n",
    "    \n",
    "    row_id = 0\n",
    "    col_id = 0\n",
    "    for k in epochs:\n",
    "        hm = sns.heatmap(data=grp_level_dict['test'][k]['inp'][0],annot=True, ax = axs[row_id,0]) \n",
    "        hm = sns.heatmap(data=grp_level_dict['test'][k]['emb'][0],annot=True, ax = axs[row_id,1]) \n",
    "        hm = sns.heatmap(data=grp_level_dict['test'][k]['out'][0],annot=True, ax = axs[row_id,2]) \n",
    "        # if col_id == 3:\n",
    "        #     row_id += 1\n",
    "        #     col_id = 0 \n",
    "        # else:\n",
    "            # col_id += 1\n",
    "        row_id += 1\n",
    "    # displaying the plotted heatmap \n",
    "    plt.show()"
   ]
  },
  {
   "cell_type": "markdown",
   "id": "d25fe66f-4c41-45b9-bb53-ff5139ef6b33",
   "metadata": {},
   "source": [
    "# Display results dataframe"
   ]
  },
  {
   "cell_type": "code",
   "execution_count": null,
   "id": "3330dc63-2859-41da-a7f7-32cf48857e33",
   "metadata": {},
   "outputs": [],
   "source": [
    "metric_cols =  df_metrics['train'].columns.to_list()\n",
    "for key in df_metrics.keys():\n",
    "    df_metrics[key].sort_values('epochs', inplace = True)\n",
    "    # df_metrics[key]\n",
    "# metric_cols\n",
    "\n",
    "\n",
    "pattern1 = re.compile(r\"(inp|emb|out)_(all|same|diff)_(avg)\")\n",
    "pattern2 = re.compile(r\"(CL)_(inp|emb|out)_(all|same|diff)_(avg)\")\n",
    "cols0 = ['epochs', 'R2_score', 'rmse_score', 'mse_score','mae_score']\n",
    "cols0 = ['epochs', 'R2_score', 'rmse_score']\n",
    "cols1 = ['epochs'] +[ col for col in metric_cols if pattern1.match(col) ]\n",
    "cols2 = ['epochs'] +[ col for col in metric_cols if pattern2.match(col) ]\n"
   ]
  },
  {
   "cell_type": "code",
   "execution_count": null,
   "id": "d4f8ad54-03fc-4d95-97ad-46f2c25e750b",
   "metadata": {},
   "outputs": [],
   "source": [
    "# df_metrics['train'][cols0]\n",
    "# df_metrics['val'][cols0]\n",
    "# df_metrics['test'][cols0]"
   ]
  },
  {
   "cell_type": "markdown",
   "id": "776903f6-11c2-4dc9-a110-2a8d3746f9a2",
   "metadata": {
    "jp-MarkdownHeadingCollapsed": true
   },
   "source": [
    "### Autoencoder with SNNL regularization , embedding 50 dim\n"
   ]
  },
  {
   "cell_type": "code",
   "execution_count": null,
   "id": "c98f093b-e7ed-4534-8ce3-46c693cef82c",
   "metadata": {},
   "outputs": [],
   "source": [
    "df_tmp = pd.merge(df_metrics['train'][cols0],df_metrics['test'][cols0], how='inner', left_on = 'epochs', right_on = 'epochs', suffixes=('_train', None), indicator = False)\n",
    "df_merge_metrics = pd.merge(df_tmp, df_metrics['val'][cols0], how='inner', left_on = 'epochs', right_on = 'epochs', copy = True, suffixes=('_test', '_val'), indicator = False)\n",
    "df_merge_metrics[['epochs', 'R2_score_train','R2_score_val','R2_score_test','rmse_score_train','rmse_score_val','rmse_score_test']]"
   ]
  },
  {
   "cell_type": "code",
   "execution_count": null,
   "id": "916ba939-12c2-4a8e-9072-2aec455bef83",
   "metadata": {},
   "outputs": [],
   "source": [
    "df_metrics['train'].plot(x = 'epochs', y=['R2_score','rmse_score'], kind='line', subplots=False)\n",
    "df_metrics['test'].plot(x = 'epochs', y=['R2_score','rmse_score'], kind='line', subplots=False)\n",
    "df_merge_metrics.plot(x = 'epochs', y=['R2_score_train','R2_score_val','R2_score_test',], kind='line', subplots=False, title = 'R2 score for AE with 50 dim embedding layer')\n",
    "# I computed the R2 against the training and test data on the model that uses the SNN regularization, they are very similar (for example training = 0.3580, test= 0.3636) - this is for the latent layer size of 100. The\n",
    "# Now I am running models without any regularization to with different latent layer sizes to see how the latent layer size affects the R2"
   ]
  },
  {
   "cell_type": "markdown",
   "id": "4b9018fb-fa5e-4918-986e-475e3c730be5",
   "metadata": {
    "jp-MarkdownHeadingCollapsed": true
   },
   "source": [
    "### Autoencoder with SNNL regularization , embedding 100 dim\n"
   ]
  },
  {
   "cell_type": "code",
   "execution_count": null,
   "id": "a38efe05-4702-492a-801d-c4d590cadf1f",
   "metadata": {
    "scrolled": true
   },
   "outputs": [],
   "source": [
    "df_tmp = pd.merge(df_metrics['train'][cols0],df_metrics['test'][cols0], how='inner', left_on = 'epochs', right_on = 'epochs', suffixes=('_train', None), indicator = False)\n",
    "df_merge_metrics = pd.merge(df_tmp, df_metrics['val'][cols0], how='inner', left_on = 'epochs', right_on = 'epochs', copy = True, suffixes=('_test', '_val'), indicator = False)\n",
    "df_merge_metrics[['epochs', 'R2_score_train','R2_score_val','R2_score_test','rmse_score_train','rmse_score_val','rmse_score_test']]"
   ]
  },
  {
   "cell_type": "code",
   "execution_count": null,
   "id": "bd38b3b1-277c-4b60-96cd-07b7c8a87ffb",
   "metadata": {},
   "outputs": [],
   "source": [
    "df_merge_metrics.plot(x = 'epochs', y=['R2_score_train','R2_score_val','R2_score_test',], kind='line', subplots=False, title = 'R2 score for AE with 100 dim embedding layer')"
   ]
  },
  {
   "cell_type": "markdown",
   "id": "75335fe8-31f3-4e86-bc0a-94cfa6d3aa5e",
   "metadata": {},
   "source": [
    "### Baseline autoencoder , embedding 150 dim\n"
   ]
  },
  {
   "cell_type": "code",
   "execution_count": null,
   "id": "511ee37f-6166-4d47-b691-4ad6f1d58465",
   "metadata": {
    "scrolled": true
   },
   "outputs": [],
   "source": [
    "df_tmp = pd.merge(df_metrics['train'][cols0],df_metrics['test'][cols0], how='inner', left_on = 'epochs', right_on = 'epochs', suffixes=('_train', None), indicator = False)\n",
    "df_merge_metrics = pd.merge(df_tmp, df_metrics['val'][cols0], how='inner', left_on = 'epochs', right_on = 'epochs', copy = True, suffixes=('_test', '_val'), indicator = False)\n",
    "df_merge_metrics[['epochs', 'R2_score_train','R2_score_val','R2_score_test','rmse_score_train','rmse_score_val','rmse_score_test']]\n",
    "df_merge_metrics.plot(x = 'epochs', y=['R2_score_train','R2_score_val','R2_score_test',], kind='line', subplots=False, title = 'R2 score for AE with 150 dim embedding layer')"
   ]
  },
  {
   "cell_type": "code",
   "execution_count": null,
   "id": "33a7e548-891e-42ab-ad28-52f275429e4b",
   "metadata": {},
   "outputs": [],
   "source": [
    "distance_matrices(grp_level_dict, epochs = [50,100,200,300])"
   ]
  },
  {
   "cell_type": "markdown",
   "id": "97ebd2c0-f4a4-4dc7-9cd8-78a018d10d35",
   "metadata": {},
   "source": [
    "### Baseline autoencoder , embedding 50 dim"
   ]
  },
  {
   "cell_type": "code",
   "execution_count": null,
   "id": "82d1272e-cbf9-4773-a328-29f880188ca6",
   "metadata": {
    "scrolled": true
   },
   "outputs": [],
   "source": [
    "df_tmp = pd.merge(df_metrics['train'][cols0],df_metrics['test'][cols0], how='inner', left_on = 'epochs', right_on = 'epochs', suffixes=('_train', None), indicator = False)\n",
    "df_merge_metrics = pd.merge(df_tmp, df_metrics['val'][cols0], how='inner', left_on = 'epochs', right_on = 'epochs', copy = True, suffixes=('_test', '_val'), indicator = False)\n",
    "df_merge_metrics[['epochs', 'R2_score_train','R2_score_val','R2_score_test','rmse_score_train','rmse_score_val','rmse_score_test']]\n",
    "df_merge_metrics.plot(x = 'epochs', y=['R2_score_train','R2_score_val','R2_score_test',], kind='line', subplots=False, title = 'R2 score for AE with 50 dim embedding layer')"
   ]
  },
  {
   "cell_type": "code",
   "execution_count": null,
   "id": "55a211b0-ae6b-46a4-b67a-d8f3cb266f0a",
   "metadata": {},
   "outputs": [],
   "source": [
    "distance_matrices(grp_level_dict, epochs = [50,100,150,200])"
   ]
  },
  {
   "cell_type": "markdown",
   "id": "379f7ee6-e6b2-4ea5-acfe-c1c68dae886a",
   "metadata": {},
   "source": [
    "## Write to csv and Excel files"
   ]
  },
  {
   "cell_type": "code",
   "execution_count": null,
   "id": "1a6c7fb2-05bb-4ca1-97ea-8f9472bc6a65",
   "metadata": {},
   "outputs": [],
   "source": [
    "timestamp = datetime.now().strftime('%m%d_%H%M%S')\n",
    "csv_filename = f\"{model.name}_{ex_runmode}_{ex_date}_{ex_title}_{metric}_metrics_{timestamp}.csv\"\n",
    "csv_filename = os.path.join('./results', csv_filename)\n",
    "csv_filename\n",
    "\n",
    "excel_filename = f\"{model.name}_{ex_runmode}_{ex_date}_{ex_title}_{metric}_metrics_{timestamp}.xlsx\"\n",
    "excel_filename = os.path.join('./results', excel_filename)\n",
    "excel_filename"
   ]
  },
  {
   "cell_type": "code",
   "execution_count": null,
   "id": "7b111ff4-1e3a-49f7-9d04-4d106eff1799",
   "metadata": {},
   "outputs": [],
   "source": [
    "excel_sheet = f\"{'bl' if ex_runmode == 'baseline' else ex_runmode}_{timestamp}\"\n",
    "excel_sheet"
   ]
  },
  {
   "cell_type": "code",
   "execution_count": null,
   "id": "6a21ddf5-abc1-416e-a05b-dd71943babf7",
   "metadata": {},
   "outputs": [],
   "source": [
    "df_metrics.to_csv(csv_filename, index = False)\n",
    "df_metrics.to_excel(excel_filename, sheet_name=excel_sheet, index_label='id')"
   ]
  },
  {
   "cell_type": "code",
   "execution_count": null,
   "id": "6ea46163-2dbc-47d1-a9fb-210ff4e7149e",
   "metadata": {
    "scrolled": true
   },
   "outputs": [],
   "source": [
    "# mdl_outputs.embeddings[9].sum()\n",
    "# mdl_outputs.y_pred.sum()\n",
    "# mdl_outputs.compounds[:17]\n",
    "df_metrics"
   ]
  },
  {
   "cell_type": "markdown",
   "id": "e0df219c-9310-4688-9063-c95521b2a12b",
   "metadata": {},
   "source": [
    "## Read metrics CSV file"
   ]
  },
  {
   "cell_type": "code",
   "execution_count": null,
   "id": "e85acbe2-6df2-4ed3-9752-58885e32d809",
   "metadata": {},
   "outputs": [],
   "source": [
    "input_file  = './results/AE_snnl_20240516_snglOpt-100Ltnt_euclidean_metrics_0603_130545.csv'\n",
    "input_metrics = pd.read_csv(input_file)\n",
    "input_metrics"
   ]
  },
  {
   "cell_type": "code",
   "execution_count": null,
   "id": "bd11356c-f5dc-4481-b9ca-7b8e3089b197",
   "metadata": {},
   "outputs": [],
   "source": [
    "pattern1 = re.compile(r\"(inp|emb|out)_(all|same|diff)_(avg)\")\n",
    "pattern2 = re.compile(r\"(CL)_(inp|emb|out)_(all|same|diff)_(avg)\")\n",
    "cols1 = ['epochs', 'R2_score', 'rmse_score'] + [ col for col in metric_cols if pattern1.match(col) ]\n",
    "cols2 = ['epochs', 'R2_score', 'rmse_score'] +[ col for col in metric_cols if pattern2.match(col) ]"
   ]
  },
  {
   "cell_type": "code",
   "execution_count": null,
   "id": "5a02d3e4-d413-4421-a46c-ca39b636d8a4",
   "metadata": {},
   "outputs": [],
   "source": [
    "input_metrics[cols1]"
   ]
  },
  {
   "cell_type": "markdown",
   "id": "39bad6c9-b4d4-4d1a-8a62-53453c2a1ff1",
   "metadata": {
    "jp-MarkdownHeadingCollapsed": true
   },
   "source": [
    "# Metrics"
   ]
  },
  {
   "cell_type": "markdown",
   "id": "62304b15-ff5b-4970-8ca5-a5b1d9047a5f",
   "metadata": {
    "jp-MarkdownHeadingCollapsed": true
   },
   "source": [
    "## Distance Metrics"
   ]
  },
  {
   "cell_type": "code",
   "execution_count": null,
   "id": "e3d1f36b-2076-48c2-879d-3e2070f461a9",
   "metadata": {},
   "outputs": [],
   "source": [
    "np.set_printoptions(edgeitems=3, infstr='inf', linewidth=250, nanstr='nan')"
   ]
  },
  {
   "cell_type": "code",
   "execution_count": null,
   "id": "23e3db05-aa98-4dc5-824a-b59d889f5aef",
   "metadata": {},
   "outputs": [],
   "source": [
    "# 1189.5788218820562 + 16009.773130260974 \n",
    "# 2175.389955100794 / 50"
   ]
  },
  {
   "cell_type": "code",
   "execution_count": null,
   "id": "8d897421-ba80-448d-b8e8-21b9c2c5e939",
   "metadata": {
    "scrolled": true
   },
   "outputs": [],
   "source": [
    "dmtrc = compute_distance_metrics(sample_activations, epochs, metric = 'euclid')"
   ]
  },
  {
   "cell_type": "code",
   "execution_count": null,
   "id": "c11ae19a-d0a7-4eb9-a973-46bef0fe7be8",
   "metadata": {
    "scrolled": true
   },
   "outputs": [],
   "source": [
    "# dmtrc.keys()"
   ]
  },
  {
   "cell_type": "code",
   "execution_count": null,
   "id": "1b2a4fe4-2097-4936-98e6-f4c15a711f2c",
   "metadata": {
    "scrolled": true
   },
   "outputs": [],
   "source": [
    "dmtrc = compute_distance_metrics(sample_activations, epochs, metric = 'euclid')"
   ]
  },
  {
   "cell_type": "code",
   "execution_count": null,
   "id": "75e1eb27-11ee-4706-b494-e21a4718b959",
   "metadata": {},
   "outputs": [],
   "source": [
    "dmtrcs = compute_distance_metrics(sample_activations, epochs)"
   ]
  },
  {
   "cell_type": "code",
   "execution_count": null,
   "id": "c5c38627-4731-49fb-afd0-4813c514ff68",
   "metadata": {},
   "outputs": [],
   "source": [
    "display_distance_metrics(dmtrc, epochs)"
   ]
  },
  {
   "cell_type": "code",
   "execution_count": null,
   "id": "db627e57-aa66-4f6c-87f0-32cc0edd89c6",
   "metadata": {
    "scrolled": true
   },
   "outputs": [],
   "source": [
    "# print(f'INPUT features - Euclidean distances - {epochs} epochs')\n",
    "# print('-'*20)\n",
    "# dmtrc = distance_metric_1(inp_euc_distance)\n",
    "\n",
    "# print(f'EMBEDDED features - Euclidean distances - {epochs} epochs')\n",
    "# print('-'*20)\n",
    "# dmtrc = distance_metric_1(emb_euc_distance)\n",
    "\n",
    "# print(f'RECONSTURCTED features -  Euclidean distances - {epochs} epochs')\n",
    "# print('-'*20)\n",
    "# dmtrc = distance_metric_1(out_euc_distance)"
   ]
  },
  {
   "cell_type": "markdown",
   "id": "7742878c-18ba-45b6-a838-f2dfe4f308fa",
   "metadata": {
    "jp-MarkdownHeadingCollapsed": true
   },
   "source": [
    "### Cosine Distance "
   ]
  },
  {
   "cell_type": "code",
   "execution_count": null,
   "id": "d80d4cd9-f9cd-4409-bdd1-631207906bd7",
   "metadata": {},
   "outputs": [],
   "source": [
    "print(f'Input features - Cosine - {epochs} epochs')\n",
    "print('-'*20)\n",
    "grp_level_input = distance_metric_1(inp_cos_distance)\n",
    " \n",
    "print(f'Output features - Cosine - {epochs} epochs')\n",
    "print('-'*20)\n",
    "grp_level_output = distance_metric_1(out_cos_distance)"
   ]
  },
  {
   "cell_type": "code",
   "execution_count": null,
   "id": "5f8aa970-51ab-4fb0-9aa1-f5f4e5a08c1f",
   "metadata": {},
   "outputs": [],
   "source": [
    "# inp_cos_distance[:5,:15]\n",
    "# out_cos_distance[:5,:15]\n",
    "# emb_cos_distance[:5,:15]"
   ]
  },
  {
   "cell_type": "markdown",
   "id": "f422f2b6-c0bd-419f-9b54-512acf5bd9cf",
   "metadata": {
    "jp-MarkdownHeadingCollapsed": true
   },
   "source": [
    "## Classification Metrics "
   ]
  },
  {
   "cell_type": "code",
   "execution_count": null,
   "id": "43cdcc38-97d6-40a9-a1ef-fac26d93b0ab",
   "metadata": {},
   "outputs": [],
   "source": [
    "cls_metrics = compute_classification_metrics(mdl_output)\n",
    "cls_metrics.epochs = epochs\n",
    "display_classification_metrics(cls_metrics)\n",
    "plot_classification_metrics(cls_metrics)"
   ]
  },
  {
   "cell_type": "markdown",
   "id": "5ceb94d6-ea7c-4d4c-be16-b9cc870e70dc",
   "metadata": {},
   "source": [
    "#### "
   ]
  },
  {
   "cell_type": "code",
   "execution_count": null,
   "id": "43530c4f-21eb-46fb-9f8e-f76e39ae63e7",
   "metadata": {},
   "outputs": [],
   "source": [
    "# test_accuracy = binary_accuracy(y_true=labels, y_prob=logits)\n",
    "# test_f1 = binary_f1_score(y_true=labels, y_prob=logits)\n",
    "# print(f\"accuracy: {test_accuracy}%      F1 Score: {test_f1:.4f}\")\n",
    "# cm = confusion_matrix(y_true = labels, y_pred = (logits >= 0.5))\n",
    "# disp = ConfusionMatrixDisplay(cm)\n",
    "# disp.plot()\n"
   ]
  },
  {
   "cell_type": "code",
   "execution_count": null,
   "id": "a3116873-4ded-4d03-8528-eec997a49338",
   "metadata": {},
   "outputs": [],
   "source": [
    "# filename = f\"DNN-{args.model.lower()}-{args.seed}.json\"\n",
    "# export_results(model=model, filename=filename)"
   ]
  },
  {
   "cell_type": "code",
   "execution_count": null,
   "id": "90206f21-9283-4305-aa40-5c7bb93db4d9",
   "metadata": {},
   "outputs": [],
   "source": [
    "# for i in range(len(logits)):\n",
    "#     if labels[i] == 1:\n",
    "#         print(f\" y_pred: {logits[i]:.5e}   {logits[i]>=0.500}  \\t  y_true: {labels[i]}\")"
   ]
  },
  {
   "cell_type": "markdown",
   "id": "c16b827e-3613-4488-bac6-e5c45e8d4998",
   "metadata": {
    "jp-MarkdownHeadingCollapsed": true
   },
   "source": [
    "## Regression Metrics "
   ]
  },
  {
   "cell_type": "code",
   "execution_count": null,
   "id": "8aa93547-dd8a-4820-b0e8-de4916dda3d7",
   "metadata": {},
   "outputs": [],
   "source": [
    "mdl_outputs.epochs = epochs\n",
    "reg_metrics = compute_regression_metrics(mdl_outputs)\n",
    "# reg_metrics\n",
    "print()\n",
    "display_regr_metrics(reg_metrics)\n",
    "df_metrics"
   ]
  },
  {
   "cell_type": "code",
   "execution_count": null,
   "id": "b6352d3d-70b4-4ce2-b7ce-73c2d68b9d51",
   "metadata": {},
   "outputs": [],
   "source": [
    "try:\n",
    "    df_metrics = pd.concat((df_metrics, pd.DataFrame(vars(reg_metrics), index = [epochs] )) , verify_integrity=True)\n",
    "    df_metrics.sort_index(inplace = True)\n",
    "except ValueError:\n",
    "    print(f\" {epochs} already exists - not added\")"
   ]
  },
  {
   "cell_type": "code",
   "execution_count": null,
   "id": "b3d68188-a7d0-4ebf-be17-e00f9e08e9e6",
   "metadata": {
    "scrolled": true
   },
   "outputs": [],
   "source": [
    "df_metrics"
   ]
  },
  {
   "cell_type": "markdown",
   "id": "04a032a7-d241-45f6-a7d7-fc32af67af65",
   "metadata": {},
   "source": [
    "## Results"
   ]
  },
  {
   "cell_type": "markdown",
   "id": "de1e562b-1c8e-4ffb-939d-cca7af796e82",
   "metadata": {},
   "source": [
    "  #### Results `20240505_autoencoder`"
   ]
  },
  {
   "cell_type": "code",
   "execution_count": null,
   "id": "f99dd37e-be9f-4546-814f-6b67a12964f0",
   "metadata": {},
   "outputs": [],
   "source": [
    " metrics as epoch 25     metrics as epoch 50     metrics as epoch 100   metrics as epoch 125   metrics as epoch 150  \n",
    "---------------------- -----------------------  ---------------------- ---------------------- ---------------------- \n",
    "RMSE Score :  0.543655  RMSE Score :  0.539906   RMSE Score : 0.536459  RMSE Score : 0.624126  RMSE Score : 0.624126 \n",
    " MSE Score :  0.317944   MSE Score :  0.314051    MSE Score : 0.310318   MSE Score : 0.408070   MSE Score : 0.408070 \n",
    " MAE Score :  0.378762   MAE Score :  0.373654    MAE Score : 0.371468   MAE Score : 0.434099   MAE Score : 0.434099 \n",
    "  R2 Score :  0.611225    R2 Score :  0.615898     R2 Score : 0.632036    R2 Score : 0.518840    R2 Score : 0.518840 "
   ]
  },
  {
   "cell_type": "markdown",
   "id": "3b63a25a-c502-4f6c-8614-278f29ae43f5",
   "metadata": {},
   "source": [
    "  #### Results ` baseline 20240505_dropout04`"
   ]
  },
  {
   "cell_type": "code",
   "execution_count": null,
   "id": "174178f0-d810-4681-a95e-3714eeccf3db",
   "metadata": {},
   "outputs": [],
   "source": [
    " metrics at epoch  25   metrics at epoch  50   metrics at epoch  75   metrics at epoch 100   metrics at epoch 125   metrics at epoch 150   metrics at epoch 175   metrics at epoch 200   metrics at epoch 225   metrics at epoch 250   metrics at epoch 300   \n",
    "---------------------- ---------------------- ---------------------- ---------------------- ---------------------- ---------------------- ---------------------- ---------------------- ---------------------- ---------------------- ----------------------  \n",
    "RMSE Score :  0.539952 RMSE Score :  0.522212 RMSE Score :  0.516986 RMSE Score :  0.510535 RMSE Score :  0.512396 RMSE Score :  0.507615 RMSE Score :  0.501631 RMSE Score :  0.504048 RMSE Score :  0.505369 RMSE Score :  0.504147 RMSE Score :  0.503990  \n",
    " MSE Score :  0.313584  MSE Score :  0.295068  MSE Score :  0.289945  MSE Score :  0.283578  MSE Score :  0.285415  MSE Score :  0.280749  MSE Score :  0.275116  MSE Score :  0.277431  MSE Score :  0.278716  MSE Score :  0.277734  MSE Score :  0.277629  \n",
    " MAE Score :  0.372594  MAE Score :  0.361990  MAE Score :  0.357078  MAE Score :  0.353107  MAE Score :  0.353546  MAE Score :  0.350261  MAE Score :  0.345679  MAE Score :  0.346366  MAE Score :  0.347385  MAE Score :  0.346365  MAE Score :  0.345845  \n",
    "  R2 Score :  0.610749   R2 Score :  0.630615   R2 Score :  0.648668   R2 Score :  0.661354   R2 Score :  0.658380   R2 Score :  0.622958   R2 Score :  0.670584   R2 Score :  0.674873   R2 Score :  0.670612   R2 Score :  0.670147   R2 Score :  0.670171   "
   ]
  },
  {
   "cell_type": "markdown",
   "id": "a63ed8bb-6ede-4b21-a4e8-cde862fbedd7",
   "metadata": {},
   "source": [
    "  #### Results `snnl 20240507_secondTry`"
   ]
  },
  {
   "cell_type": "code",
   "execution_count": null,
   "id": "c0cd80b7-e27c-429c-b9eb-b747621c3bff",
   "metadata": {},
   "outputs": [],
   "source": [
    "  metrics as epoch  25   metrics as epoch  50    metrics as epoch  75   metrics as epoch 100    metrics as epoch 125    metrics at epoch 150   metrics at epoch 175   metrics at epoch 200         \n",
    "----------------------  ----------------------  ---------------------- ----------------------  ----------------------  ---------------------- ---------------------- ----------------------       \n",
    "RMSE Score : 0.550294   RMSE Score :  0.536259  RMSE Score :  0.516979 RMSE Score :  0.513265  RMSE Score :  0.511261  RMSE Score :  0.506228 RMSE Score :  0.508196 RMSE Score :  0.508642       \n",
    " MSE Score : 0.324991    MSE Score :  0.310259   MSE Score :  0.290345  MSE Score :  0.286497   MSE Score :  0.284502   MSE Score :  0.279736  MSE Score :  0.281590  MSE Score :  0.282127       \n",
    " MAE Score : 0.382500    MAE Score :  0.372185   MAE Score :  0.358323  MAE Score :  0.353431   MAE Score :  0.351594   MAE Score :  0.347926  MAE Score :  0.348469  MAE Score :  0.348470       \n",
    "  R2 Score : 0.588431     R2 Score :  0.625873    R2 Score :  0.652229   R2 Score :  0.657811    R2 Score :  0.656971    R2 Score :  0.667756   R2 Score :  0.665126   R2 Score :  0.661970        "
   ]
  },
  {
   "cell_type": "markdown",
   "id": "7ac5df8e-12a1-46e2-a1bc-bf7a9e9868f2",
   "metadata": {},
   "source": [
    "### metrics per epoc"
   ]
  },
  {
   "cell_type": "markdown",
   "id": "fbe1b98d-0e18-4628-8747-15d59ce8ac57",
   "metadata": {
    "jp-MarkdownHeadingCollapsed": true
   },
   "source": [
    "#### 25 epochs"
   ]
  },
  {
   "cell_type": "code",
   "execution_count": null,
   "id": "86216270-701f-4005-a468-9f3a079c935c",
   "metadata": {
    "scrolled": true
   },
   "outputs": [],
   "source": [
    "display_regr_metrics(reg_metrics)"
   ]
  },
  {
   "cell_type": "markdown",
   "id": "53a84051-dcca-431a-9863-73c0d205a8d2",
   "metadata": {
    "jp-MarkdownHeadingCollapsed": true
   },
   "source": [
    "#### 50 epochs"
   ]
  },
  {
   "cell_type": "code",
   "execution_count": null,
   "id": "f41d71fd-0ba1-4d38-b92f-ca1174d3f07c",
   "metadata": {
    "scrolled": true
   },
   "outputs": [],
   "source": [
    "display_regr_metrics(reg_metrics)"
   ]
  },
  {
   "cell_type": "markdown",
   "id": "2feb9818-4edc-4597-be51-bc3403dae8f7",
   "metadata": {
    "jp-MarkdownHeadingCollapsed": true
   },
   "source": [
    "#### 75 epochs"
   ]
  },
  {
   "cell_type": "code",
   "execution_count": null,
   "id": "ad1d5c03-6456-4eca-b497-c5ba91b7d12c",
   "metadata": {
    "scrolled": true
   },
   "outputs": [],
   "source": [
    "display_regr_metrics(reg_metrics)"
   ]
  },
  {
   "cell_type": "markdown",
   "id": "cfa379c2-facc-40a5-a670-cae5ca965b43",
   "metadata": {
    "jp-MarkdownHeadingCollapsed": true
   },
   "source": [
    "#### 100 epochs"
   ]
  },
  {
   "cell_type": "code",
   "execution_count": null,
   "id": "d46703ad-2ffb-4431-9173-96be03f4210e",
   "metadata": {},
   "outputs": [],
   "source": [
    "display_regr_metrics(reg_metrics)"
   ]
  },
  {
   "cell_type": "markdown",
   "id": "b17415fa-669d-4f89-a2ba-2e04eb8a9592",
   "metadata": {
    "jp-MarkdownHeadingCollapsed": true
   },
   "source": [
    "#### 125 epochs"
   ]
  },
  {
   "cell_type": "code",
   "execution_count": null,
   "id": "9d152251-f388-4bca-ac72-280359e4ac47",
   "metadata": {
    "scrolled": true
   },
   "outputs": [],
   "source": [
    "display_regr_metrics(reg_metrics)"
   ]
  },
  {
   "cell_type": "markdown",
   "id": "ad656e9b-6d50-43ea-ac9e-63270f4f8ee6",
   "metadata": {
    "jp-MarkdownHeadingCollapsed": true
   },
   "source": [
    "#### 150 epochs"
   ]
  },
  {
   "cell_type": "code",
   "execution_count": null,
   "id": "3bf27177-5017-4455-8b74-85fd1fb3df6b",
   "metadata": {
    "scrolled": true
   },
   "outputs": [],
   "source": [
    "display_regr_metrics(reg_metrics)"
   ]
  },
  {
   "cell_type": "markdown",
   "id": "f66b2b4d-f951-47df-841f-161db4de3938",
   "metadata": {
    "jp-MarkdownHeadingCollapsed": true
   },
   "source": [
    "#### 175 epochs"
   ]
  },
  {
   "cell_type": "code",
   "execution_count": null,
   "id": "3efd89b9-b9f7-4095-9caa-ade8cc3e5614",
   "metadata": {},
   "outputs": [],
   "source": [
    "display_regr_metrics(epochs, rm)"
   ]
  },
  {
   "cell_type": "markdown",
   "id": "26058ff9-2c6d-4376-90a4-1e800ce6c8dd",
   "metadata": {},
   "source": [
    "#### 200 epochs"
   ]
  },
  {
   "cell_type": "code",
   "execution_count": null,
   "id": "d5e9bcfb-c991-488b-8cd8-719b63e26aa6",
   "metadata": {},
   "outputs": [],
   "source": [
    "display_regr_metrics(reg_metrics)"
   ]
  },
  {
   "cell_type": "code",
   "execution_count": null,
   "id": "98df2c47-999f-465b-b24b-fb76109d1188",
   "metadata": {},
   "outputs": [],
   "source": []
  },
  {
   "cell_type": "markdown",
   "id": "78b647ef-0244-4804-b654-3038f1f3a7c8",
   "metadata": {
    "jp-MarkdownHeadingCollapsed": true
   },
   "source": [
    "## Apply TSNe"
   ]
  },
  {
   "cell_type": "code",
   "execution_count": null,
   "id": "a271d9e6-d7d9-4625-a4e4-e714bf31f9f6",
   "metadata": {},
   "outputs": [],
   "source": [
    "tsne = TSNE(2)\n",
    "projection = dict()\n",
    "num_layers = len(mdl_outputs.embeddings)\n",
    "for k in range(num_layers):\n",
    "    projection[k] = tsne.fit_transform(mdl_outputs.embeddings[k])\n",
    "    print(f\" layer {k+1} of {num_layers}: projection shape: {projection[k].shape}\")\n",
    "    "
   ]
  },
  {
   "cell_type": "code",
   "execution_count": null,
   "id": "7302a43f-a3d7-4e4e-81da-50e8dccb10a0",
   "metadata": {},
   "outputs": [],
   "source": [
    "# projection_subset = {x: projection[x] for x in range(6)}"
   ]
  },
  {
   "cell_type": "markdown",
   "id": "977c5fef-71b2-4a02-87c0-05031c0ad3c7",
   "metadata": {
    "jp-MarkdownHeadingCollapsed": true
   },
   "source": [
    "# Plot TSNE embeddings"
   ]
  },
  {
   "cell_type": "markdown",
   "id": "db50fe06-4ca3-430a-85f7-9d38022363ff",
   "metadata": {
    "jp-MarkdownHeadingCollapsed": true
   },
   "source": [
    "### 100 Epochs  "
   ]
  },
  {
   "cell_type": "code",
   "execution_count": null,
   "id": "f5d9a56b-e50e-457c-9baf-747bdbb11855",
   "metadata": {},
   "outputs": [],
   "source": [
    "# plot_TSNE(projection, mdl_outputs.labels, mdl_outputs.comp_labels, key='compound', end = 21, epoch = mdl_outputs.epochs)\n",
    "plot_TSNE_2(projection, mdl_outputs.labels, mdl_outputs.comp_labels, key='compound', items = list(range(21)), layers = [0,1,2,3,4], epoch = mdl_outputs.epochs)\n",
    "plot_TSNE_2(projection, mdl_outputs.labels, mdl_outputs.comp_labels, key='compound', items = list(range(21)), layers = [5,6,7,8,9], epoch = mdl_outputs.epochs)\n",
    "print('\\n')\n",
    "plot_TSNE_2(projection, mdl_outputs.labels, mdl_outputs.comp_labels, key='compound', layers = [0,8,9],  items = list(range(9)), epoch = mdl_outputs.epochs, limits=(-50,50))\n",
    "plot_TSNE_2(projection, mdl_outputs.labels, mdl_outputs.comp_labels, key='compound', layers = [0,8,9],  items = [3,4,5], epoch = mdl_outputs.epochs, limits=(-50,50))\n",
    "print('\\n')\n",
    "plot_TSNE_2(projection, mdl_outputs.labels, mdl_outputs.comp_labels, key='tpsa', layers = [0,1,2,3,4],epoch = mdl_outputs.epochs)\n",
    "plot_TSNE_2(projection, mdl_outputs.labels, mdl_outputs.comp_labels, key='tpsa', layers = [5,6,7,8,9],epoch = mdl_outputs.epochs)"
   ]
  },
  {
   "cell_type": "markdown",
   "id": "93ae5404-e822-4247-897c-146a55751b90",
   "metadata": {},
   "source": [
    "### 200 Epochs  "
   ]
  },
  {
   "cell_type": "code",
   "execution_count": null,
   "id": "7ccac6bf-50e5-4ec7-a671-cc7befd417ae",
   "metadata": {
    "scrolled": true
   },
   "outputs": [],
   "source": [
    "# plot_TSNE_2(projection, mdl_outputs.labels, mdl_outputs.comp_labels, key='compound', items = list(range(21)), layers = [0,1,2,3,4], epoch = mdl_outputs.epochs)\n",
    "# plot_TSNE_2(projection, mdl_outputs.labels, mdl_outputs.comp_labels, key='compound', items = list(range(21)), layers = [5,6,7,8,9], epoch = mdl_outputs.epochs)\n",
    "# print('\\n')\n",
    "# plot_TSNE_2(projection, mdl_outputs.labels, mdl_outputs.comp_labels, key='compound', layers = [0,8,9],  items = list(range(9)), epoch = mdl_outputs.epochs, limits=(-50,50))\n",
    "# plot_TSNE_2(projection, mdl_outputs.labels, mdl_outputs.comp_labels, key='compound', layers = [0,8,9],  items = [3,4,5], epoch = mdl_outputs.epochs, limits=(-50,50))\n",
    "\n",
    "print('\\n')\n",
    "fig1 = plot_TSNE_2(projection, mdl_outputs.labels, mdl_outputs.comp_labels, key='tpsa', layers = [0,1,2,3,4],epoch = mdl_outputs.epochs)\n",
    "fig2 = plot_TSNE_2(projection, mdl_outputs.labels, mdl_outputs.comp_labels, key='tpsa', layers = [5,6,7,8,9],epoch = mdl_outputs.epochs)"
   ]
  },
  {
   "cell_type": "code",
   "execution_count": null,
   "id": "82c4a139-9159-4f7c-ace6-abb86b0245ee",
   "metadata": {
    "scrolled": true
   },
   "outputs": [],
   "source": [
    "filename1 = f\"./images/{model.name}_{ex_mode}_{timestamp}_{title}_{epochs:03d}_allcmpds_tpsa_1.jpg\"\n",
    "filename2 = f\"./images/{model.name}_{ex_mode}_{timestamp}_{title}_{epochs:03d}_allcmpds_tpsa_2.jpg\"\n",
    "fig1.savefig(filename1)\n",
    "fig2.savefig(filename2)"
   ]
  },
  {
   "cell_type": "code",
   "execution_count": null,
   "id": "add32bcd-1336-456d-b991-69a8b4ab1b23",
   "metadata": {},
   "outputs": [],
   "source": [
    "Image('test.png')"
   ]
  },
  {
   "cell_type": "markdown",
   "id": "309092e4-2977-443f-b594-c19ebdf24fc2",
   "metadata": {
    "jp-MarkdownHeadingCollapsed": true
   },
   "source": [
    "### 225 Epochs  "
   ]
  },
  {
   "cell_type": "code",
   "execution_count": null,
   "id": "bc163eed-85ee-4708-8cb1-fe064ae7780b",
   "metadata": {},
   "outputs": [],
   "source": [
    "# plot_TSNE(projection, mdl_outputs.labels, mdl_outputs.comp_labels, key='compound', end = 21, epoch = mdl_outputs.epochs)\n",
    "plot_TSNE_2(projection, mdl_outputs.labels, mdl_outputs.comp_labels, key='compound', items = list(range(21)), layers = [0,1,2,3,4], epoch = mdl_outputs.epochs)\n",
    "plot_TSNE_2(projection, mdl_outputs.labels, mdl_outputs.comp_labels, key='compound', items = list(range(21)), layers = [5,6,7,8,9], epoch = mdl_outputs.epochs)"
   ]
  },
  {
   "cell_type": "code",
   "execution_count": null,
   "id": "62711a66-580d-4b97-a132-d4604921b37a",
   "metadata": {},
   "outputs": [],
   "source": [
    "plot_TSNE_2(projection, mdl_outputs.labels, mdl_outputs.comp_labels, key='compound', layers = [0,4,8,9],  items = list(range(9)), epoch = mdl_outputs.epochs, limits=(-50,50))\n",
    "plot_TSNE_2(projection, mdl_outputs.labels, mdl_outputs.comp_labels, key='compound', layers = [0,4,8,9],  items = [3,4,5], epoch = mdl_outputs.epochs, limits=(-50,50))"
   ]
  },
  {
   "cell_type": "code",
   "execution_count": null,
   "id": "4d0cb564-59b8-4784-b958-d08f1fe9e14c",
   "metadata": {},
   "outputs": [],
   "source": [
    "plot_TSNE_2(projection, mdl_outputs.labels, mdl_outputs.comp_labels, key='tpsa', layers = [0,1,2,3,4],epoch = mdl_outputs.epochs)\n",
    "plot_TSNE_2(projection, mdl_outputs.labels, mdl_outputs.comp_labels, key='tpsa', layers = [5,6,7,8,9],epoch = mdl_outputs.epochs)"
   ]
  },
  {
   "cell_type": "markdown",
   "id": "f8ad3512-55a1-4d66-a53b-acede19968de",
   "metadata": {},
   "source": [
    "### 300 Epochs  "
   ]
  },
  {
   "cell_type": "code",
   "execution_count": null,
   "id": "171d7b20-41b8-4e84-9d05-bcebf11e1457",
   "metadata": {},
   "outputs": [],
   "source": [
    "plot_TSNE_2(projection, mdl_outputs.labels, mdl_outputs.comp_labels, key='tpsa', layers = [1,3,4,6,8,9],epoch = mdl_outputs.epochs)"
   ]
  },
  {
   "cell_type": "code",
   "execution_count": null,
   "id": "15dc01f3-4cf9-4c10-a67b-24e11189c93a",
   "metadata": {},
   "outputs": [],
   "source": [
    "plot_TSNE_2(projection, mdl_outputs.labels, mdl_outputs.comp_labels, key='compound', layers = [0,4,9],  items = list(range(9)), epoch = mdl_outputs.epochs)"
   ]
  },
  {
   "cell_type": "markdown",
   "id": "0e1e6336-82bf-4280-a2de-03c69fe30560",
   "metadata": {
    "jp-MarkdownHeadingCollapsed": true
   },
   "source": [
    "# Older plots"
   ]
  },
  {
   "cell_type": "markdown",
   "id": "d0c14d21-7e98-4558-8017-5c6344ac6019",
   "metadata": {
    "jp-MarkdownHeadingCollapsed": true
   },
   "source": [
    "### Based on Compound "
   ]
  },
  {
   "cell_type": "code",
   "execution_count": null,
   "id": "1f354f98-2130-4c1e-930f-474fb4d4fca0",
   "metadata": {},
   "outputs": [],
   "source": [
    "for layer in [0,1,2,3,4]:\n",
    "    end = 15\n",
    "    df = pd.DataFrame(dict(\n",
    "        x=projection[layer][:end,0],\n",
    "        y=projection[layer][:end,1],\n",
    "        label=labels[0:end],\n",
    "        comp_label = comp_labels[0:end]\n",
    "    ))\n",
    "    # _=plt.figure()\n",
    "    lp=sb.lmplot( data=df, x =\"x\", y = \"y\", hue='comp_label', fit_reg=False, palette=\"hls\") #, size=6)\n",
    "    _=lp.fig.suptitle(f'layer {layer}')\n",
    "\n",
    "plt.show()"
   ]
  },
  {
   "cell_type": "markdown",
   "id": "7fa06703-da76-4417-a4f7-870c3d6bf683",
   "metadata": {
    "jp-MarkdownHeadingCollapsed": true
   },
   "source": [
    "### Based on TPSA Indicator "
   ]
  },
  {
   "cell_type": "code",
   "execution_count": null,
   "id": "bc89d60f-4157-4125-adfd-7028a650b821",
   "metadata": {},
   "outputs": [],
   "source": [
    "end = 1200\n",
    "for layer in [0,1,2,3,4]:\n",
    "    df = pd.DataFrame(dict(\n",
    "        x=projection[layer][:end,0],\n",
    "        y=projection[layer][:end,1],\n",
    "        label=labels[0:end]\n",
    "    ))\n",
    "    lp= sb.lmplot( data=df, x =\"x\", y = \"y\", hue='label', fit_reg=False, palette=\"hls\") #, size=6)\n",
    "    _=lp.fig.suptitle(f'layer {layer}')\n",
    "plt.show()"
   ]
  },
  {
   "cell_type": "markdown",
   "id": "ae665dd4-5641-43bc-a919-9bd9645a0820",
   "metadata": {
    "jp-MarkdownHeadingCollapsed": true
   },
   "source": [
    "### 3D ? "
   ]
  },
  {
   "cell_type": "code",
   "execution_count": null,
   "id": "57274fe8-ac15-453f-bccc-51e4cf913109",
   "metadata": {},
   "outputs": [],
   "source": [
    "from matplotlib import cm\n",
    "x=projection[4][:,0]\n",
    "y=projection[4][:,1]\n",
    "# z=projection[4][:,2]\n",
    "label=np.expand_dims(labels,-1)\n",
    "z = np.expand_dims(z,-1)\n",
    "z.shape\n",
    "\n",
    "ax = plt.figure(figsize=(8,8)).add_subplot(projection='3d')\n",
    "# Plot the 3D surface\n",
    "# ax.plot_surface(x, y, z, edgecolor='royalblue', lw=0.5, rstride=8, cstride=8, alpha=0.3)\n",
    "# ax.plot_trisurf(x, y, z, linewidth=0 , )\n",
    "# surf = ax.plot_surface(x, y, label, cmap=cm.coolwarm, linewidth=0, antialiased=False)\n",
    "ax.scatter(x, y, label)\n",
    "\n",
    "ax.set_xlabel('X Label')\n",
    "ax.set_ylabel('Y Label')\n",
    "ax.set_zlabel('Z Label')\n",
    "\n",
    "plt.show()\n",
    "ax.view_init(elev=45.)\n",
    "\n",
    "plt.show()"
   ]
  },
  {
   "cell_type": "markdown",
   "id": "45c4c9c5-4af9-44d4-8bdb-b0920fc7b525",
   "metadata": {
    "jp-MarkdownHeadingCollapsed": true
   },
   "source": [
    "# PCA and TSNE"
   ]
  },
  {
   "cell_type": "markdown",
   "id": "ed83b890-3c8d-4390-9d67-3c3d5849d0cb",
   "metadata": {
    "jp-MarkdownHeadingCollapsed": true
   },
   "source": [
    "## define PCA model"
   ]
  },
  {
   "cell_type": "code",
   "execution_count": null,
   "id": "27f807a8-b0f4-4e8f-aacb-fb90b1cf397e",
   "metadata": {},
   "outputs": [],
   "source": [
    "loader_iter = iter(train_loader)"
   ]
  },
  {
   "cell_type": "code",
   "execution_count": null,
   "id": "185015ce-e868-4dae-ab43-c18241483792",
   "metadata": {},
   "outputs": [],
   "source": [
    "(batch_features, batch_labels, batch_plates, batch_compounds, batch_hash) = next(loader_iter)"
   ]
  },
  {
   "cell_type": "code",
   "execution_count": null,
   "id": "dc3246fd-cf6e-4820-87c9-b8f20c5c6548",
   "metadata": {},
   "outputs": [],
   "source": [
    "type(batch_features), batch_features.shape, batch_labels.numpy().shape"
   ]
  },
  {
   "cell_type": "code",
   "execution_count": null,
   "id": "e72d7490-6b58-4407-87e6-6db13dd63f32",
   "metadata": {},
   "outputs": [],
   "source": [
    "pca = PCA(n_components=200, copy=False, whiten=False, \n",
    "          svd_solver='auto', tol=0.0, iterated_power='auto', \n",
    "          n_oversamples=10, power_iteration_normalizer='auto', random_state=None)"
   ]
  },
  {
   "cell_type": "code",
   "execution_count": null,
   "id": "511305d6-47b5-4420-a1cd-d41ad1cb96b6",
   "metadata": {},
   "outputs": [],
   "source": [
    "pca.fit(batch_features)\n",
    "X = pca.transform(batch_features)"
   ]
  },
  {
   "cell_type": "markdown",
   "id": "e9174ad8-c169-460f-aab9-528157d183d3",
   "metadata": {
    "jp-MarkdownHeadingCollapsed": true
   },
   "source": [
    "## define TSNE "
   ]
  },
  {
   "cell_type": "code",
   "execution_count": null,
   "id": "f5b85a06-0acd-4d09-abae-fe60c655934c",
   "metadata": {},
   "outputs": [],
   "source": [
    "tsne = TSNE()\n",
    "projection = tsne.fit_transform(X)\n",
    "projection.shape"
   ]
  },
  {
   "cell_type": "code",
   "execution_count": null,
   "id": "5710222f-777a-4ea7-bbf4-8ffbfbbb00c8",
   "metadata": {},
   "outputs": [],
   "source": [
    "rows = 1000\n",
    "df = pd.DataFrame(dict(\n",
    "    x=projection[:rows,0],\n",
    "    y=projection[:rows,1],\n",
    "    label=batch_labels.numpy()[:rows]\n",
    "    # moa=pd.concat([treated_wells[\"MOA\"], treatments[\"MOA\"]]),\n",
    "    # batch=pd.concat([treated_wells[\"Plate\"].apply(lambda x: x.split(\"_\")[0]), treatments[\"Batch\"]]),\n",
    "    # compound=pd.concat([treated_wells[\"Compound\"], treatments[\"Compound\"]]),\n",
    "    # correct=pd.concat([treated_wells[\"nsc\"],treatments[\"nsc\"]]),\n",
    "    # level=pd.concat([treated_wells[\"level\"],treatments[\"level\"]])\n",
    "))\n",
    "\n",
    "df.info()\n",
    "df.head()"
   ]
  },
  {
   "cell_type": "code",
   "execution_count": null,
   "id": "6d5d038d-7e31-4652-bcf7-8241f16b2d89",
   "metadata": {},
   "outputs": [],
   "source": [
    "plt.figure()\n",
    "# sb.lmplot('x', 'y', data=df, hue='label', fit_reg=False, palette=\"hls\", size=6)\n",
    "sb.lmplot( data=df, x =\"x\", y = \"y\", hue='label', fit_reg=False, palette=\"hls\") #, size=6)\n"
   ]
  },
  {
   "cell_type": "markdown",
   "id": "5cd9e8ed-4dcf-4c26-ab2a-1c7565f81ef3",
   "metadata": {
    "jp-MarkdownHeadingCollapsed": true
   },
   "source": [
    "## Apply TSNE on embeddings"
   ]
  },
  {
   "cell_type": "code",
   "execution_count": null,
   "id": "5ad84aa9-30d9-44c8-a521-b195c19279bc",
   "metadata": {},
   "outputs": [],
   "source": [
    "tsne = TSNE(2)\n",
    "projection = dict()\n",
    "for k,v in embeddings.items():\n",
    "    projection[k] = tsne.fit_transform(v)\n",
    "    projection[k].shape"
   ]
  },
  {
   "cell_type": "markdown",
   "id": "9ebde2bf-97be-4af2-b4a1-243a2e5a2d35",
   "metadata": {},
   "source": [
    "#### Layer 0 "
   ]
  },
  {
   "cell_type": "code",
   "execution_count": null,
   "id": "e79d363f-15f5-4165-9d00-5a87b2986a60",
   "metadata": {},
   "outputs": [],
   "source": [
    "df = pd.DataFrame(dict(\n",
    "    x=projection[0][:,0],\n",
    "    y=projection[0][:,1],\n",
    "    label=labels\n",
    "))\n",
    "plt.figure()\n",
    "sb.lmplot( data=df, x =\"x\", y = \"y\", hue='label', fit_reg=False, palette=\"hls\") #, size=6)"
   ]
  },
  {
   "cell_type": "markdown",
   "id": "60c8e060-1413-4c73-a1a5-b6c1eb69b8a1",
   "metadata": {},
   "source": [
    "#### Layer 1 "
   ]
  },
  {
   "cell_type": "code",
   "execution_count": null,
   "id": "5c7b4891-ef6f-4b7c-b6b0-71b170881237",
   "metadata": {},
   "outputs": [],
   "source": [
    "df = pd.DataFrame(dict(\n",
    "    x=projection[1][:,0],\n",
    "    y=projection[1][:,1],\n",
    "    label=labels\n",
    "))\n",
    "plt.figure()\n",
    "sb.lmplot( data=df, x =\"x\", y = \"y\",hue='label', fit_reg=False, palette=\"hls\") #, size=6)"
   ]
  },
  {
   "cell_type": "markdown",
   "id": "dd870c15-309a-46c7-8f68-baf399c9a5c2",
   "metadata": {},
   "source": [
    "#### Layer 2 "
   ]
  },
  {
   "cell_type": "code",
   "execution_count": null,
   "id": "a663ed4c-929f-4b8c-8b5b-33c393d2c2d7",
   "metadata": {},
   "outputs": [],
   "source": [
    "df = pd.DataFrame(dict(\n",
    "    x=projection[2][:,0],\n",
    "    y=projection[2][:,1],\n",
    "    label=labels\n",
    "))\n",
    "plt.figure()\n",
    "sb.lmplot( data=df, x =\"x\", y = \"y\",hue='label', fit_reg=False, palette=\"hls\") #, size=6)"
   ]
  },
  {
   "cell_type": "markdown",
   "id": "be917447-2aae-4b5d-8bf6-2aa195ca3fc5",
   "metadata": {},
   "source": [
    "#### Layer 3 "
   ]
  },
  {
   "cell_type": "code",
   "execution_count": null,
   "id": "06b894bc-672c-42fb-a6ca-05edf44f8cda",
   "metadata": {},
   "outputs": [],
   "source": [
    "df = pd.DataFrame(dict(\n",
    "    x=projection[3][:,0],\n",
    "    y=projection[3][:,1],\n",
    "    label=labels\n",
    "))\n",
    "plt.figure()\n",
    "sb.lmplot( data=df, x =\"x\", y = \"y\",hue='label', fit_reg=False, palette=\"hls\") #, size=6)"
   ]
  },
  {
   "cell_type": "markdown",
   "id": "b7364b2a-63e2-45d6-9e0d-23df0551a4e0",
   "metadata": {},
   "source": [
    "#### Layer 4 "
   ]
  },
  {
   "cell_type": "code",
   "execution_count": null,
   "id": "0253f109-a7de-4bd1-806e-31cec29a7d75",
   "metadata": {},
   "outputs": [],
   "source": [
    "df = pd.DataFrame(dict(\n",
    "    x=projection[4][:,0],\n",
    "    y=projection[4][:,1],\n",
    "    label=labels\n",
    "))\n",
    "plt.figure()\n",
    "sb.lmplot( data=df, x =\"x\", y = \"y\",hue='label', fit_reg=False, palette=\"hls\") #, size=6)"
   ]
  },
  {
   "cell_type": "code",
   "execution_count": null,
   "id": "ee51d1d7-b8ff-4048-896b-033952177c1f",
   "metadata": {},
   "outputs": [],
   "source": [
    "np.bincount(labels.astype(np.int64))"
   ]
  },
  {
   "cell_type": "code",
   "execution_count": null,
   "id": "d37f6926-b7a5-47b6-8185-ca24a415353f",
   "metadata": {},
   "outputs": [],
   "source": [
    "from matplotlib import cm\n",
    "x=projection[4][:,0]\n",
    "y=projection[4][:,1]\n",
    "# z=projection[4][:,2]\n",
    "label=np.expand_dims(labels,-1)\n",
    "z = np.expand_dims(z,-1)\n",
    "z.shape\n",
    "\n",
    "ax = plt.figure(figsize=(8,8)).add_subplot(projection='3d')\n",
    "# Plot the 3D surface\n",
    "# ax.plot_surface(x, y, z, edgecolor='royalblue', lw=0.5, rstride=8, cstride=8, alpha=0.3)\n",
    "# ax.plot_trisurf(x, y, z, linewidth=0 , )\n",
    "# surf = ax.plot_surface(x, y, label, cmap=cm.coolwarm, linewidth=0, antialiased=False)\n",
    "ax.scatter(x, y, label)\n",
    "\n",
    "ax.set_xlabel('X Label')\n",
    "ax.set_ylabel('Y Label')\n",
    "ax.set_zlabel('Z Label')\n",
    "\n",
    "plt.show()\n",
    "ax.view_init(elev=45.)\n",
    "\n",
    "plt.show()"
   ]
  }
 ],
 "metadata": {
  "kernelspec": {
   "display_name": "Python [conda env:ptsnnl]",
   "language": "python",
   "name": "conda-env-ptsnnl-py"
  },
  "language_info": {
   "codemirror_mode": {
    "name": "ipython",
    "version": 3
   },
   "file_extension": ".py",
   "mimetype": "text/x-python",
   "name": "python",
   "nbconvert_exporter": "python",
   "pygments_lexer": "ipython3",
   "version": "3.11.0"
  },
  "toc": {
   "base_numbering": 1,
   "nav_menu": {},
   "number_sections": true,
   "sideBar": true,
   "skip_h1_title": false,
   "title_cell": "Table of Contents",
   "title_sidebar": "Contents",
   "toc_cell": false,
   "toc_position": {},
   "toc_section_display": true,
   "toc_window_display": false
  }
 },
 "nbformat": 4,
 "nbformat_minor": 5
}
