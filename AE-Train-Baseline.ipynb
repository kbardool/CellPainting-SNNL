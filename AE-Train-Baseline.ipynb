{
 "cells": [
  {
   "cell_type": "markdown",
   "id": "ca813a76-47b7-458b-a3d2-1e4f49079a08",
   "metadata": {},
   "source": [
    "  # Autoencoder Training - Baseline mode"
   ]
  },
  {
   "cell_type": "markdown",
   "id": "41638752-2456-4f2e-9e7e-e4039fe926a2",
   "metadata": {},
   "source": [
    "# Setup"
   ]
  },
  {
   "cell_type": "code",
   "execution_count": 1,
   "id": "11ad0ae2",
   "metadata": {
    "ExecuteTime": {
     "end_time": "2023-04-12T10:29:15.566596Z",
     "start_time": "2023-04-12T10:29:15.550232Z"
    },
    "execution": {
     "iopub.execute_input": "2024-09-04T21:49:16.880780Z",
     "iopub.status.busy": "2024-09-04T21:49:16.880223Z",
     "iopub.status.idle": "2024-09-04T21:49:16.908709Z",
     "shell.execute_reply": "2024-09-04T21:49:16.908163Z",
     "shell.execute_reply.started": "2024-09-04T21:49:16.880735Z"
    }
   },
   "outputs": [
    {
     "data": {
      "text/html": [
       "<style>.container { width:98% !important; }</style>"
      ],
      "text/plain": [
       "<IPython.core.display.HTML object>"
      ]
     },
     "metadata": {},
     "output_type": "display_data"
    }
   ],
   "source": [
    "# %pwd\n",
    "# %cd ~/WSL-shared/Cellpainting/pt-snnl/\n",
    "from IPython.display import display, HTML\n",
    "display(HTML(\"<style>.container { width:98% !important; }</style>\"))\n",
    "%load_ext autoreload  \n",
    "%autoreload 2\n",
    "from IPython.core.interactiveshell import InteractiveShell\n",
    "InteractiveShell.ast_node_interactivity = \"all\""
   ]
  },
  {
   "cell_type": "code",
   "execution_count": 2,
   "id": "bdc004bb-930c-44d4-96db-3194ba917218",
   "metadata": {
    "ExecuteTime": {
     "end_time": "2023-04-12T10:29:16.111588Z",
     "start_time": "2023-04-12T10:29:15.764305Z"
    },
    "execution": {
     "iopub.execute_input": "2024-09-04T21:49:16.910320Z",
     "iopub.status.busy": "2024-09-04T21:49:16.910064Z",
     "iopub.status.idle": "2024-09-04T21:49:19.783162Z",
     "shell.execute_reply": "2024-09-04T21:49:19.782052Z",
     "shell.execute_reply.started": "2024-09-04T21:49:16.910299Z"
    }
   },
   "outputs": [
    {
     "name": "stdout",
     "output_type": "stream",
     "text": [
      "['../..', './src', '/home/kevin/miniforge3/envs/ptsnnl/lib/python311.zip', '/home/kevin/miniforge3/envs/ptsnnl/lib/python3.11', '/home/kevin/miniforge3/envs/ptsnnl/lib/python3.11/lib-dynload', '', '/home/kevin/miniforge3/envs/ptsnnl/lib/python3.11/site-packages', '/home/kevin/miniforge3/envs/ptsnnl/lib/python3.11/site-packages/cytominer_eval-0.1-py3.11.egg']\n",
      "2.2.2\n"
     ]
    }
   ],
   "source": [
    "import os\n",
    "import sys\n",
    "import csv\n",
    "import json\n",
    "import time\n",
    "import pprint\n",
    "import logging\n",
    "from datetime import datetime\n",
    "for p in ['./src','../..']:\n",
    "    if p not in sys.path:\n",
    "        # print(f\"insert {p}\")\n",
    "        sys.path.insert(0, p)\n",
    "print(sys.path)\n",
    "from typing import Dict, List, Tuple\n",
    "\n",
    "\n",
    "from matplotlib import pyplot as plt\n",
    "import numpy as np\n",
    "import pandas as pd\n",
    "import scipy\n",
    "from scipy.sparse import csr_matrix\n",
    "import torch\n",
    "from tqdm import tqdm\n",
    "import torch.nn.functional as F\n",
    "from torchinfo import summary\n",
    "import wandb\n",
    "\n",
    "\n",
    "pp = pprint.PrettyPrinter(indent=4)\n",
    "pd.options.display.width = 132\n",
    "torch.set_printoptions(precision=None, threshold=None, edgeitems=None, linewidth=150, profile=None, sci_mode=None)\n",
    "np.set_printoptions(edgeitems=3, infstr='inf', linewidth=150, nanstr='nan')\n",
    "\n",
    "os.environ[\"WANDB_NOTEBOOK_NAME\"] = \"AE-BASE-MAIN.ipynb\"\n",
    "# os.environ[\"CUDA_LAUNCH_BLOCKING\"] = \"1\"\n",
    "# os.environ[\"CUDA_VISIBLE_DEVICES\"] = \"1\"\n",
    "torch.set_num_threads(4)  ## <--- limit to ~ 2 CPUs\n",
    "torch.get_num_threads()"
   ]
  },
  {
   "cell_type": "code",
   "execution_count": 3,
   "id": "7f45acf9-2472-41d7-b393-36df9c4aa72d",
   "metadata": {
    "ExecuteTime": {
     "end_time": "2023-04-12T10:29:16.111588Z",
     "start_time": "2023-04-12T10:29:15.764305Z"
    },
    "execution": {
     "iopub.execute_input": "2024-09-04T21:49:19.784308Z",
     "iopub.status.busy": "2024-09-04T21:49:19.784088Z",
     "iopub.status.idle": "2024-09-04T21:49:22.461623Z",
     "shell.execute_reply": "2024-09-04T21:49:22.460631Z",
     "shell.execute_reply.started": "2024-09-04T21:49:19.784286Z"
    }
   },
   "outputs": [],
   "source": [
    "from KevinsRoutines.utils.utils_wandb import init_wandb, wandb_log_metrics,wandb_watch\n",
    "from KevinsRoutines.utils.utils_general import list_namespace\n",
    "import snnl.utils as utils\n",
    "\n",
    "# from snnl.utils import load_model, save_model, import_results, export_results\n",
    "from snnl.utils import parse_args, load_configuration, set_global_seed, get_device, set_device\n",
    "from snnl.utils import display_model_summary, define_autoencoder_model, init_resume_training\n",
    "from snnl.utils import save_checkpoint_v5, load_checkpoint_v5\n",
    "from snnl.utils import plot_model_parms, plot_train_history, plot_classification_metrics, plot_regression_metrics\n",
    "from snnl.utils import display_model_summary, display_model_hyperparameters, display_model_gradients, display_model_parameters\n",
    "from snnl.utils import display_epoch_metrics, display_cellpainting_batch, display_model_state_dict\n",
    "from snnl.utils import define_autoencoder_model, init_resume_training\n",
    "\n",
    "from snnl.models import Model\n",
    "from snnl.models import DNN \n",
    "from snnl.models import Autoencoder\n",
    "from snnl.losses import SNNLoss"
   ]
  },
  {
   "cell_type": "code",
   "execution_count": 4,
   "id": "368ed77e-7d0b-4b4f-95be-1e133d735833",
   "metadata": {
    "execution": {
     "iopub.execute_input": "2024-09-04T21:49:22.463333Z",
     "iopub.status.busy": "2024-09-04T21:49:22.462986Z",
     "iopub.status.idle": "2024-09-04T21:49:22.509896Z",
     "shell.execute_reply": "2024-09-04T21:49:22.509262Z",
     "shell.execute_reply.started": "2024-09-04T21:49:22.463309Z"
    }
   },
   "outputs": [
    {
     "name": "stderr",
     "output_type": "stream",
     "text": [
      "2024-09-04 23:49:22,504 - __main__ - INFO: -  Excution started : 2024_09_04_23:49:22 \n",
      "2024-09-04 23:49:22,505 - __main__ - INFO: -  Pytorch version  : 2.2.2  \t\t Number of threads: 7\n",
      "2024-09-04 23:49:22,506 - __main__ - INFO: -  WandB version    : 0.17.4  \t\t Pandas version: 2.2.1  \n"
     ]
    }
   ],
   "source": [
    "timestamp = datetime.now().strftime('%Y_%m_%d_%H:%M:%S')\n",
    "logger = logging.getLogger(__name__) \n",
    "logLevel = os.environ.get('LOG_LEVEL', 'INFO').upper()\n",
    "FORMAT = '%(asctime)s - %(name)s - %(levelname)s: - %(message)s'\n",
    "logging.basicConfig(level=\"INFO\", format= FORMAT)\n",
    "\n",
    "logger.info(f\" Excution started : {timestamp} \")\n",
    "logger.info(f\" Pytorch version  : {torch.__version__}  \\t\\t Number of threads: {torch.get_num_threads()}\")\n",
    "# logger.info(f\" Scipy version    : {scipy.__version__}  \\t\\t Numpy version : {np.__version__}\")\n",
    "logger.info(f\" WandB version    : {wandb.__version__}  \\t\\t Pandas version: {pd.__version__}  \")\n",
    "# logger.info(f\" Search path      : {sys.path}\")"
   ]
  },
  {
   "cell_type": "markdown",
   "id": "1be5e789-3446-482f-a3ca-fdd19b2a845e",
   "metadata": {},
   "source": [
    "### main(args)"
   ]
  },
  {
   "cell_type": "code",
   "execution_count": 6,
   "id": "8a7f8563-b6fb-4f00-84a2-5339e5f6b35c",
   "metadata": {
    "execution": {
     "iopub.execute_input": "2024-09-04T21:49:25.930881Z",
     "iopub.status.busy": "2024-09-04T21:49:25.930296Z",
     "iopub.status.idle": "2024-09-04T21:49:25.969116Z",
     "shell.execute_reply": "2024-09-04T21:49:25.968464Z",
     "shell.execute_reply.started": "2024-09-04T21:49:25.930817Z"
    }
   },
   "outputs": [],
   "source": [
    "GPU_ID = 1\n",
    "LATENT_DIM    = 150\n",
    "HIDDEN_1      = 512\n",
    "EPOCHS        = 200\n",
    "COMPOUNDS_PER_BATCH = 200\n",
    "LEARNING_RATE = 1.00e-04\n",
    "TEMP          = 1.00\n",
    "TEMP_LR       = 0.00   ##1.0e-05\n",
    "ADAM_WEIGHT_DECAY = 0.001\n",
    "# LOSS_FACTOR   = 134.0\n",
    "SNNL_FACTOR   = 3.0\n",
    "# CHECKPT       = f\"AE_snnl_dcpb{COMPOUNDS_PER_BATCH}_{LATENT_DIM}Ltnt_{HIDDEN_1}{HIDDEN_2}_{DATE}_LAST_ep_{LOAD_EPOCH:03d}.pt\"\n",
    "# CHECKPT       = \"AE_snnl_dcpb200_150Ltnt_512_20240709_2235_LAST_ep_700.pt\"\n",
    "# RUN_ID        = \"jzt6ecjz\"\n",
    "# print(CHECKPT)"
   ]
  },
  {
   "cell_type": "code",
   "execution_count": 7,
   "id": "3fa81fd0-0c99-4cac-89bf-27e538b16c60",
   "metadata": {
    "execution": {
     "iopub.execute_input": "2024-09-04T21:49:26.968518Z",
     "iopub.status.busy": "2024-09-04T21:49:26.968087Z",
     "iopub.status.idle": "2024-09-04T21:49:27.032627Z",
     "shell.execute_reply": "2024-09-04T21:49:27.031907Z",
     "shell.execute_reply.started": "2024-09-04T21:49:26.968490Z"
    }
   },
   "outputs": [
    {
     "data": {
      "text/plain": [
       "Namespace(configuration='hyperparameters/ae_baseline_150_512_cpb.yaml', ckpt=None, cpb=200, exp_title=None, epochs=200, gpu_id=1, learning_rate=0.0001, exp_id=None, runmode='baseline', random_seed=4321, use_prim_optimizer=True, use_temp_optimizer=False, use_annealing=False, anneal_patience=15, use_single_loss=True, temperature=None, adam_weight_decay=0.001, loss_factor=None, snnl_factor=None, temperatureLR=None, WANDB_ACTIVE=True)"
      ]
     },
     "execution_count": 7,
     "metadata": {},
     "output_type": "execute_result"
    },
    {
     "name": "stderr",
     "output_type": "stream",
     "text": [
      "2024-09-04 23:49:27,012 - snnl.utils.utils_ptsnnl - INFO: -  command line param configuration             : [hyperparameters/ae_baseline_150_512_cpb.yaml]\n",
      "2024-09-04 23:49:27,013 - snnl.utils.utils_ptsnnl - INFO: -  command line param ckpt                      : [None]\n",
      "2024-09-04 23:49:27,014 - snnl.utils.utils_ptsnnl - INFO: -  command line param cpb                       : [200]\n",
      "2024-09-04 23:49:27,014 - snnl.utils.utils_ptsnnl - INFO: -  command line param exp_title                 : [None]\n",
      "2024-09-04 23:49:27,015 - snnl.utils.utils_ptsnnl - INFO: -  command line param epochs                    : [200]\n",
      "2024-09-04 23:49:27,016 - snnl.utils.utils_ptsnnl - INFO: -  command line param gpu_id                    : [1]\n",
      "2024-09-04 23:49:27,017 - snnl.utils.utils_ptsnnl - INFO: -  command line param learning_rate             : [0.0001]\n",
      "2024-09-04 23:49:27,017 - snnl.utils.utils_ptsnnl - INFO: -  command line param exp_id                    : [None]\n",
      "2024-09-04 23:49:27,018 - snnl.utils.utils_ptsnnl - INFO: -  command line param runmode                   : [baseline]\n",
      "2024-09-04 23:49:27,019 - snnl.utils.utils_ptsnnl - INFO: -  command line param random_seed               : [4321]\n",
      "2024-09-04 23:49:27,019 - snnl.utils.utils_ptsnnl - INFO: -  command line param use_prim_optimizer        : [True]\n",
      "2024-09-04 23:49:27,020 - snnl.utils.utils_ptsnnl - INFO: -  command line param use_temp_optimizer        : [False]\n",
      "2024-09-04 23:49:27,022 - snnl.utils.utils_ptsnnl - INFO: -  command line param use_annealing             : [False]\n",
      "2024-09-04 23:49:27,022 - snnl.utils.utils_ptsnnl - INFO: -  command line param anneal_patience           : [15]\n",
      "2024-09-04 23:49:27,023 - snnl.utils.utils_ptsnnl - INFO: -  command line param use_single_loss           : [True]\n",
      "2024-09-04 23:49:27,024 - snnl.utils.utils_ptsnnl - INFO: -  command line param temperature               : [None]\n",
      "2024-09-04 23:49:27,024 - snnl.utils.utils_ptsnnl - INFO: -  command line param adam_weight_decay         : [0.001]\n",
      "2024-09-04 23:49:27,025 - snnl.utils.utils_ptsnnl - INFO: -  command line param loss_factor               : [None]\n",
      "2024-09-04 23:49:27,025 - snnl.utils.utils_ptsnnl - INFO: -  command line param snnl_factor               : [None]\n",
      "2024-09-04 23:49:27,026 - snnl.utils.utils_ptsnnl - INFO: -  command line param temperatureLR             : [None]\n",
      "2024-09-04 23:49:27,026 - snnl.utils.utils_ptsnnl - INFO: -  command line param WANDB_ACTIVE              : [True]\n",
      "2024-09-04 23:49:27,027 - snnl.utils.utils_ptsnnl - INFO: -  command line param exp_title                 : [scpb200_150Ltnt_512]\n"
     ]
    }
   ],
   "source": [
    "# if __name__ == \"__main__\":\n",
    "cli_args = f\" --runmode             baseline\" \\\n",
    "            f\" --configuration      hyperparameters/ae_baseline_{LATENT_DIM:03d}_{HIDDEN_1}_cpb.yaml\" \\\n",
    "            f\" --epochs             {EPOCHS} \" \\\n",
    "            f\" --single_loss        \"\\\n",
    "            f\" --prim_opt           \"\\\n",
    "            f\" --adam_wd            {ADAM_WEIGHT_DECAY}\"\\\n",
    "            f\" --lr                 {LEARNING_RATE} \"\\\n",
    "            f\" --cpb                {COMPOUNDS_PER_BATCH}\"\\\n",
    "            f\" --seed               4321\"\\\n",
    "            f\" --wandb              \"\\\n",
    "            f\" --gpu_id             {GPU_ID} \"  \\\n",
    "            f\" \"\n",
    "\n",
    "\n",
    "\n",
    "# f\" --ckpt               AE_base_scpb200_150Ltnt_512_20240830_2302_LAST_ep_600.pt \"\\\n",
    "# f\" --ckpt               AE_baseline_{DATE}_snglOpt-{LATENT_DIM}Ltnt{HIDDEN_1}{HIDDEN_2}_ep_{LOAD_EPOCH}.pt \" \\\n",
    "# f\" --run_id             7jgfgufy \" \\\n",
    "# f\" --seed               4321 \" \n",
    "# f\" --exp_title           snglOpt-050Ltnt_512_sig \"\n",
    "# f\" --runmode            snnl\" \\\n",
    "\n",
    "cli_args = parse_args(cli_args.split())\n",
    "cli_args\n",
    "\n",
    "args = load_configuration(cli_args)\n",
    "args.ckpt"
   ]
  },
  {
   "cell_type": "code",
   "execution_count": 8,
   "id": "7c84f06b-3f6c-46db-a768-aa1b4504c817",
   "metadata": {
    "execution": {
     "iopub.execute_input": "2024-09-04T21:49:28.156935Z",
     "iopub.status.busy": "2024-09-04T21:49:28.156526Z",
     "iopub.status.idle": "2024-09-04T21:49:28.193957Z",
     "shell.execute_reply": "2024-09-04T21:49:28.192981Z",
     "shell.execute_reply.started": "2024-09-04T21:49:28.156894Z"
    }
   },
   "outputs": [
    {
     "name": "stdout",
     "output_type": "stream",
     "text": [
      "\n",
      "command line parms : \n",
      "-----------------------\n",
      "SGD_momentum.............  0\n",
      "SGD_weight_decay.........  0\n",
      "WANDB_ACTIVE.............  True\n",
      "adam_weight_decay........  0.001\n",
      "anneal_patience..........  15\n",
      "batch_size...............  1\n",
      "\n",
      "    cellpainting_args   (dict)\n",
      "    ----------------------------\n",
      "    batch_size...............  1\n",
      "    chunksize................  None\n",
      "    compounds_per_batch......  200\n",
      "    conversions..............  None\n",
      "    iterator.................  True\n",
      "    sample_size..............  3\n",
      "    test_end.................  33600\n",
      "    test_path................  /home/kevin/WSL-shared/cellpainting/cj-datasets/output_11102023/3_sample_profiles/3sample_profiles_1482_HashOrder_test.csv\n",
      "    test_start...............  30000\n",
      "    train_end................  240000\n",
      "    train_start..............  0\n",
      "    training_path............  /home/kevin/WSL-shared/cellpainting/cj-datasets/output_11102023/3_sample_profiles/3sample_profiles_1482_HashOrder.csv\n",
      "    val_end..................  24000\n",
      "    val_start................  0\n",
      "    validation_path..........  /home/kevin/WSL-shared/cellpainting/cj-datasets/output_11102023/3_sample_profiles/3sample_profiles_1482_HashOrder_test.csv\n",
      "\n",
      "ckpt.....................  None\n",
      "code_units...............  150\n",
      "configuration............  hyperparameters/ae_baseline_150_512_cpb.yaml\n",
      "cpb......................  200\n",
      "dataset..................  cellpainting\n",
      "embedding_layer..........  4\n",
      "epochs...................  200\n",
      "exp_date.................  20240904_2349\n",
      "exp_description..........  AE baseline - snglOpt, 150 dim latent, 512 Midlayer, 200 cpb\n",
      "exp_folder...............  None\n",
      "exp_id...................  None\n",
      "exp_name.................  AE_20240904_2349\n",
      "exp_name_pfx.............  None\n",
      "exp_title................  scpb200_150Ltnt_512\n",
      "folder_sfx...............  None\n",
      "gpu_id...................  1\n",
      "input_shape..............  1471\n",
      "learning_rate............  0.0001\n",
      "loss_factor..............  1.0\n",
      "\n",
      "    paths   (dict)\n",
      "    ----------------\n",
      "    checkpoint_dir...........  ./ckpt\n",
      "    log_dir..................  ./logs\n",
      "    result_dir...............  ./results\n",
      "\n",
      "project_name.............  CellPainting_Profiles\n",
      "random_seed..............  4321\n",
      "runmode..................  baseline\n",
      "save_every...............  100\n",
      "show_every...............  1\n",
      "snnl_factor..............  0.0\n",
      "temperature..............  0.0\n",
      "temperatureLR............  0.0\n",
      "units....................  [['linear', 1471, 1024], ['relu', 0, 0], ['linear', 1024, 512], ['relu', 0, 0], ['linear', 512, 150], ['linear', 150, 512], ['relu', 0, 0], ['linear', 512, 1024], ['relu', 0, 0], ['linear', 1024, 1471]]\n",
      "use_annealing............  False\n",
      "use_prim_optimizer.......  True\n",
      "use_prim_scheduler.......  True\n",
      "use_single_loss..........  True\n",
      "use_sum..................  False\n",
      "use_temp_optimizer.......  False\n",
      "use_temp_scheduler.......  False\n",
      "\n"
     ]
    }
   ],
   "source": [
    "list_namespace(args)"
   ]
  },
  {
   "cell_type": "code",
   "execution_count": 9,
   "id": "1800e62a",
   "metadata": {
    "execution": {
     "iopub.execute_input": "2024-09-04T21:49:29.112897Z",
     "iopub.status.busy": "2024-09-04T21:49:29.112320Z",
     "iopub.status.idle": "2024-09-04T21:49:29.885580Z",
     "shell.execute_reply": "2024-09-04T21:49:29.884551Z",
     "shell.execute_reply.started": "2024-09-04T21:49:29.112857Z"
    }
   },
   "outputs": [
    {
     "name": "stdout",
     "output_type": "stream",
     "text": [
      " device: 0   Quadro GV100                   :  free: 33,423,949,824 B   (31.13 GB)    total: 34,069,872,640 B   (31.73 GB)\n",
      " device: 1   Quadro GV100                   :  free: 33,012,908,032 B   (30.75 GB)    total: 34,069,872,640 B   (31.73 GB)\n"
     ]
    },
    {
     "name": "stderr",
     "output_type": "stream",
     "text": [
      "2024-09-04 23:49:29,877 - snnl.utils.utils_ptsnnl - INFO: -  Current CUDA Device is:  cuda:0 - Quadro GV100\n",
      "2024-09-04 23:49:29,878 - snnl.utils.utils_ptsnnl - INFO: -  Switched to: Quadro GV100 - 1\n"
     ]
    },
    {
     "name": "stdout",
     "output_type": "stream",
     "text": [
      " device: 2   NVIDIA TITAN Xp                :  free: 12,252,217,344 B   (11.41 GB)    total: 12,774,539,264 B   (11.90 GB)\n",
      " args.current_device is : cuda:1\n"
     ]
    }
   ],
   "source": [
    "### Set random seed and gpu device\n",
    "\n",
    "set_global_seed(args.random_seed)\n",
    "if args.ckpt is not None:\n",
    "    if os.path.exists(os.path.join('ckpts', args.ckpt)):\n",
    "        logger.info(f\"Checkpoint {args.ckpt} found\")\n",
    "        logger.info(f\"Resuming training using checkpoint: {args.ckpt}\")\n",
    "    else:\n",
    "        logger.error(f\"*** Checkpoint {args.ckpt} not found *** \\n\")\n",
    "        raise ValueError(f\"\\n *** Checkpoint DOESNT EXIST *** \\n\")\n",
    "\n",
    "if args.gpu_id is not None:\n",
    "    _ = get_device(verbose=True)\n",
    "    args.current_device = set_device(args.gpu_id)\n",
    "    print(f\" args.current_device is : {args.current_device}\")"
   ]
  },
  {
   "cell_type": "markdown",
   "id": "12b31eff-3eb0-419e-81a8-56419384a1a6",
   "metadata": {},
   "source": [
    " ### WandB Setup"
   ]
  },
  {
   "cell_type": "code",
   "execution_count": 10,
   "id": "e054710a-6ee6-47ab-a2cc-3030fb543be4",
   "metadata": {
    "execution": {
     "iopub.execute_input": "2024-09-04T21:49:31.965611Z",
     "iopub.status.busy": "2024-09-04T21:49:31.965095Z",
     "iopub.status.idle": "2024-09-04T21:49:40.745605Z",
     "shell.execute_reply": "2024-09-04T21:49:40.744589Z",
     "shell.execute_reply.started": "2024-09-04T21:49:31.965572Z"
    }
   },
   "outputs": [
    {
     "name": "stderr",
     "output_type": "stream",
     "text": [
      "2024-09-04 23:49:32,008 - snnl.utils.utils_notebook - INFO: - ***** Initialize NEW  W&B Run *****\n",
      "\u001b[34m\u001b[1mwandb\u001b[0m: \u001b[33mWARNING\u001b[0m WANDB_NOTEBOOK_NAME should be a path to a notebook file, couldn't find Autoencoder_dev.ipynb.\n"
     ]
    },
    {
     "name": "stdout",
     "output_type": "stream",
     "text": [
      "None, AE_20240904_2349, CellPainting_Profiles\n"
     ]
    },
    {
     "name": "stderr",
     "output_type": "stream",
     "text": [
      "\u001b[34m\u001b[1mwandb\u001b[0m: Currently logged in as: \u001b[33mkbardool\u001b[0m. Use \u001b[1m`wandb login --relogin`\u001b[0m to force relogin\n"
     ]
    },
    {
     "data": {
      "text/html": [
       "wandb version 0.17.8 is available!  To upgrade, please run:\n",
       " $ pip install wandb --upgrade"
      ],
      "text/plain": [
       "<IPython.core.display.HTML object>"
      ]
     },
     "metadata": {},
     "output_type": "display_data"
    },
    {
     "data": {
      "text/html": [
       "Tracking run with wandb version 0.17.4"
      ],
      "text/plain": [
       "<IPython.core.display.HTML object>"
      ]
     },
     "metadata": {},
     "output_type": "display_data"
    },
    {
     "data": {
      "text/html": [
       "Run data is saved locally in <code>/home/kevin/WSL-shared/cellpainting/pt-snnl/wandb/run-20240904_234934-0pvjjh3a</code>"
      ],
      "text/plain": [
       "<IPython.core.display.HTML object>"
      ]
     },
     "metadata": {},
     "output_type": "display_data"
    },
    {
     "data": {
      "text/html": [
       "Syncing run <strong><a href='https://wandb.ai/kbardool/CellPainting_Profiles/runs/0pvjjh3a' target=\"_blank\">AE_20240904_2349</a></strong> to <a href='https://wandb.ai/kbardool/CellPainting_Profiles' target=\"_blank\">Weights & Biases</a> (<a href='https://wandb.me/run' target=\"_blank\">docs</a>)<br/>"
      ],
      "text/plain": [
       "<IPython.core.display.HTML object>"
      ]
     },
     "metadata": {},
     "output_type": "display_data"
    },
    {
     "data": {
      "text/html": [
       " View project at <a href='https://wandb.ai/kbardool/CellPainting_Profiles' target=\"_blank\">https://wandb.ai/kbardool/CellPainting_Profiles</a>"
      ],
      "text/plain": [
       "<IPython.core.display.HTML object>"
      ]
     },
     "metadata": {},
     "output_type": "display_data"
    },
    {
     "data": {
      "text/html": [
       " View run at <a href='https://wandb.ai/kbardool/CellPainting_Profiles/runs/0pvjjh3a' target=\"_blank\">https://wandb.ai/kbardool/CellPainting_Profiles/runs/0pvjjh3a</a>"
      ],
      "text/plain": [
       "<IPython.core.display.HTML object>"
      ]
     },
     "metadata": {},
     "output_type": "display_data"
    },
    {
     "name": "stderr",
     "output_type": "stream",
     "text": [
      "2024-09-04 23:49:40,727 - snnl.utils.utils_notebook - INFO: -  Experiment Name  : AE_20240904_2349\n",
      "2024-09-04 23:49:40,729 - snnl.utils.utils_notebook - INFO: -  Experiment Date  : 20240904_2349\n",
      "2024-09-04 23:49:40,731 - snnl.utils.utils_notebook - INFO: - ***** Initialize NEW  W&B Run *****\n",
      "2024-09-04 23:49:40,733 - snnl.utils.utils_notebook - INFO: - WANDB_ACTIVE     : True\n",
      "2024-09-04 23:49:40,734 - snnl.utils.utils_notebook - INFO: - Project Name     : CellPainting_Profiles\n",
      "2024-09-04 23:49:40,735 - snnl.utils.utils_notebook - INFO: - Experiment Id    : 0pvjjh3a\n",
      "2024-09-04 23:49:40,736 - snnl.utils.utils_notebook - INFO: - Experiment Name  : AE_20240904_2349\n",
      "2024-09-04 23:49:40,738 - snnl.utils.utils_notebook - INFO: - Experiment Date  : 20240904_2349\n",
      "2024-09-04 23:49:40,739 - snnl.utils.utils_notebook - INFO: - Experiment Title : scpb200_150Ltnt_512\n",
      "2024-09-04 23:49:40,740 - snnl.utils.utils_notebook - INFO: - Experiment Notes : AE baseline - snglOpt, 150 dim latent, 512 Midlayer, 200 cpb\n"
     ]
    }
   ],
   "source": [
    "wandb_run = utils.setup_wandb(args)"
   ]
  },
  {
   "cell_type": "code",
   "execution_count": null,
   "id": "0e43cfd4-838e-48cf-95b4-7de2a2e0c010",
   "metadata": {},
   "outputs": [],
   "source": [
    "# if args.WANDB_ACTIVE:\n",
    "#     wandb_run.finish()\n",
    "#     args.WANDB_ACTIVE = False"
   ]
  },
  {
   "cell_type": "markdown",
   "id": "4dcd0157-5997-45ac-8703-e1c46e2a3378",
   "metadata": {},
   "source": [
    "  ### Define dataset and dataloaders"
   ]
  },
  {
   "cell_type": "code",
   "execution_count": 11,
   "id": "5e729bc7-0e10-4bb7-b73a-46cbd82f7355",
   "metadata": {
    "execution": {
     "iopub.execute_input": "2024-09-04T21:51:16.640460Z",
     "iopub.status.busy": "2024-09-04T21:51:16.639771Z",
     "iopub.status.idle": "2024-09-04T21:51:16.730944Z",
     "shell.execute_reply": "2024-09-04T21:51:16.730052Z",
     "shell.execute_reply.started": "2024-09-04T21:51:16.640415Z"
    }
   },
   "outputs": [
    {
     "name": "stderr",
     "output_type": "stream",
     "text": [
      "2024-09-04 23:51:16,693 - root - INFO: -  load cellpainting\n",
      "2024-09-04 23:51:16,695 - snnl.utils.dataloader - INFO: -  Building CellPantingDataset for train\n",
      "2024-09-04 23:51:16,696 - snnl.utils.dataloader - INFO: -  filename:  /home/kevin/WSL-shared/cellpainting/cj-datasets/output_11102023/3_sample_profiles/3sample_profiles_1482_HashOrder.csv\n",
      "2024-09-04 23:51:16,697 - snnl.utils.dataloader - INFO: -  type    :  train\n",
      "2024-09-04 23:51:16,698 - snnl.utils.dataloader - INFO: -  start   :  0\n",
      "2024-09-04 23:51:16,699 - snnl.utils.dataloader - INFO: -  end     :  240000\n",
      "2024-09-04 23:51:16,700 - snnl.utils.dataloader - INFO: -  numrows :  240000\n",
      "2024-09-04 23:51:16,701 - snnl.utils.dataloader - INFO: -  names   :  None     usecols :  None\n",
      "2024-09-04 23:51:16,702 - snnl.utils.dataloader - INFO: -  batch_size  :  1\n",
      "2024-09-04 23:51:16,703 - snnl.utils.dataloader - INFO: -  sample_size :  3\n",
      "2024-09-04 23:51:16,704 - snnl.utils.dataloader - INFO: -  compounds_per_batch :  200\n",
      "2024-09-04 23:51:16,705 - snnl.utils.dataloader - INFO: -  chunksize  (rows per minibatch) :  600\n",
      "2024-09-04 23:51:16,706 - snnl.utils.dataloader - INFO: -  Each mini-batch contains 200.0 compounds with 3 samples per compound : total 600 rows\n",
      "2024-09-04 23:51:16,706 - snnl.utils.dataloader - INFO: -  Number of 600 row full size batches per epoch: 400\n",
      "2024-09-04 23:51:16,707 - snnl.utils.dataloader - INFO: -  Rows covered by 400 full size batches (600 rows) per epoch:  240000\n",
      "2024-09-04 23:51:16,708 - snnl.utils.dataloader - INFO: -  Last partial batch contains : 0 rows\n",
      "2024-09-04 23:51:16,709 - snnl.utils.dataloader - INFO: -  \n",
      "2024-09-04 23:51:16,711 - snnl.utils.dataloader - INFO: -  Building CellPantingDataset for val\n",
      "2024-09-04 23:51:16,711 - snnl.utils.dataloader - INFO: -  filename:  /home/kevin/WSL-shared/cellpainting/cj-datasets/output_11102023/3_sample_profiles/3sample_profiles_1482_HashOrder_test.csv\n",
      "2024-09-04 23:51:16,712 - snnl.utils.dataloader - INFO: -  type    :  val\n",
      "2024-09-04 23:51:16,713 - snnl.utils.dataloader - INFO: -  start   :  0\n",
      "2024-09-04 23:51:16,713 - snnl.utils.dataloader - INFO: -  end     :  24000\n",
      "2024-09-04 23:51:16,714 - snnl.utils.dataloader - INFO: -  numrows :  24000\n",
      "2024-09-04 23:51:16,715 - snnl.utils.dataloader - INFO: -  names   :  None     usecols :  None\n",
      "2024-09-04 23:51:16,715 - snnl.utils.dataloader - INFO: -  batch_size  :  1\n",
      "2024-09-04 23:51:16,716 - snnl.utils.dataloader - INFO: -  sample_size :  3\n",
      "2024-09-04 23:51:16,716 - snnl.utils.dataloader - INFO: -  compounds_per_batch :  200\n",
      "2024-09-04 23:51:16,717 - snnl.utils.dataloader - INFO: -  chunksize  (rows per minibatch) :  600\n",
      "2024-09-04 23:51:16,717 - snnl.utils.dataloader - INFO: -  Each mini-batch contains 200.0 compounds with 3 samples per compound : total 600 rows\n",
      "2024-09-04 23:51:16,718 - snnl.utils.dataloader - INFO: -  Number of 600 row full size batches per epoch: 40\n",
      "2024-09-04 23:51:16,718 - snnl.utils.dataloader - INFO: -  Rows covered by 40 full size batches (600 rows) per epoch:  24000\n",
      "2024-09-04 23:51:16,719 - snnl.utils.dataloader - INFO: -  Last partial batch contains : 0 rows\n",
      "2024-09-04 23:51:16,719 - snnl.utils.dataloader - INFO: -  \n"
     ]
    },
    {
     "name": "stdout",
     "output_type": "stream",
     "text": [
      " load cellpainting\n",
      " Dataset size: 240000   rows per batch: 600\n",
      " Dataset size: 24000   rows per batch: 600\n"
     ]
    }
   ],
   "source": [
    "# args.cellpainting_args['train_start'] = 0\n",
    "# args.cellpainting_args['train_end']   = 240_000\n",
    "# args.cellpainting_args\n",
    "\n",
    "#### Load CellPainting Dataset\n",
    "data_loaders = utils.build_dataloaders(args, data = ['train', 'val'])"
   ]
  },
  {
   "cell_type": "markdown",
   "id": "19b32e21-67d2-45af-a45f-841b6dca43ff",
   "metadata": {},
   "source": [
    "# Define autoencoder model"
   ]
  },
  {
   "cell_type": "markdown",
   "id": "cf383487-ecbf-49da-bb01-5a5f22932278",
   "metadata": {},
   "source": [
    "## Override arguments"
   ]
  },
  {
   "cell_type": "code",
   "execution_count": 12,
   "id": "2fdc1998-5141-40c0-82d8-b505d4f19ecd",
   "metadata": {
    "execution": {
     "iopub.execute_input": "2024-09-04T21:51:19.107546Z",
     "iopub.status.busy": "2024-09-04T21:51:19.106929Z",
     "iopub.status.idle": "2024-09-04T21:51:19.155396Z",
     "shell.execute_reply": "2024-09-04T21:51:19.154344Z",
     "shell.execute_reply.started": "2024-09-04T21:51:19.107503Z"
    }
   },
   "outputs": [
    {
     "name": "stdout",
     "output_type": "stream",
     "text": [
      "   runmode                  baseline\n",
      "   embedding_layer          4\n",
      "   Latent dim               150\n",
      "   loss_factor              1.0\n",
      "   snnl_factor              0.0\n",
      "   temperature              0.0\n",
      "   learning_rate            0.0001\n",
      "   temperatureLR:           0.0\n",
      "   use_annealing:           False\n",
      "   anneal_patience:         15\n",
      "   use Primary Optimizer:   True\n",
      "   use Primary Scheduler:   True\n"
     ]
    }
   ],
   "source": [
    "# args.temperature   = 0.0\n",
    "# args.loss_factor   = 1.0        ## 2.0e+00\n",
    "# args.snnl_factor   = 0.0       ## 1.0e+00\n",
    "# args.learning_rate = 1.0e-03    ## 0.001\n",
    "# args.temperatureLR = 0.0e-04    ## 1e-4\n",
    "print(f\"   runmode                  {args.runmode}\")\n",
    "print(f\"   embedding_layer          {args.embedding_layer}\")\n",
    "print(f\"   Latent dim               {args.code_units}\")\n",
    "print(f\"   loss_factor              {args.loss_factor}\")\n",
    "print(f\"   snnl_factor              {args.snnl_factor}\")\n",
    "print(f\"   temperature              {args.temperature}\")\n",
    "print(f\"   learning_rate            {args.learning_rate}\")\n",
    "print(f\"   temperatureLR:           {args.temperatureLR}\")\n",
    "print(f\"   use_annealing:           {args.use_annealing}\")\n",
    "print(f\"   anneal_patience:         {args.anneal_patience}\")\n",
    "print(f\"   use Primary Optimizer:   {args.use_prim_optimizer}\")\n",
    "print(f\"   use Primary Scheduler:   {args.use_prim_scheduler}\")"
   ]
  },
  {
   "cell_type": "markdown",
   "id": "69b97558-4c5d-4a2d-9d1f-78d8923b1eb7",
   "metadata": {},
   "source": [
    "## Define Model"
   ]
  },
  {
   "cell_type": "code",
   "execution_count": 13,
   "id": "5c4a4bba-76ef-4fa9-9ea5-ba3c55aecfe9",
   "metadata": {
    "execution": {
     "iopub.execute_input": "2024-09-04T21:51:21.459379Z",
     "iopub.status.busy": "2024-09-04T21:51:21.458935Z",
     "iopub.status.idle": "2024-09-04T21:51:21.632664Z",
     "shell.execute_reply": "2024-09-04T21:51:21.631819Z",
     "shell.execute_reply.started": "2024-09-04T21:51:21.459340Z"
    }
   },
   "outputs": [
    {
     "data": {
      "text/plain": [
       "'baseline'"
      ]
     },
     "execution_count": 13,
     "metadata": {},
     "output_type": "execute_result"
    },
    {
     "name": "stderr",
     "output_type": "stream",
     "text": [
      "2024-09-04 23:51:21,498 - snnl.utils.utils_notebook - INFO: - Defining model in baseline mode\n",
      "2024-09-04 23:51:21,501 - snnl.models.autoencoder - INFO: -     layer pair:    0  type:linear           input:   1471  output:   1024    weights: [1024, 1471]   \n",
      "2024-09-04 23:51:21,541 - snnl.models.autoencoder - INFO: -     layer pair:    1  type:relu             input:      0  output:      0    weights: [0, 0]   \n",
      "2024-09-04 23:51:21,542 - snnl.models.autoencoder - INFO: -     layer pair:    2  type:linear           input:   1024  output:    512    weights: [512, 1024]   \n",
      "2024-09-04 23:51:21,549 - snnl.models.autoencoder - INFO: -     layer pair:    3  type:relu             input:      0  output:      0    weights: [0, 0]   \n",
      "2024-09-04 23:51:21,550 - snnl.models.autoencoder - INFO: -     layer pair:    4  type:linear           input:    512  output:    150    weights: [150, 512]   \n",
      "2024-09-04 23:51:21,552 - snnl.models.autoencoder - INFO: -     layer pair:    5  type:linear           input:    150  output:    512    weights: [512, 150]   \n",
      "2024-09-04 23:51:21,554 - snnl.models.autoencoder - INFO: -     layer pair:    6  type:relu             input:      0  output:      0    weights: [0, 0]   \n",
      "2024-09-04 23:51:21,555 - snnl.models.autoencoder - INFO: -     layer pair:    7  type:linear           input:    512  output:   1024    weights: [1024, 512]   \n",
      "2024-09-04 23:51:21,561 - snnl.models.autoencoder - INFO: -     layer pair:    8  type:relu             input:      0  output:      0    weights: [0, 0]   \n",
      "2024-09-04 23:51:21,562 - snnl.models.autoencoder - INFO: -     layer pair:    9  type:linear           input:   1024  output:   1471    weights: [1471, 1024]   \n"
     ]
    },
    {
     "name": "stdout",
     "output_type": "stream",
     "text": [
      " EMBEDDING LAYER: 4\n",
      " Device cuda:1 will be used\n",
      "\n",
      "------------------------------------------------------------\n",
      " Building Base Model from NOTEBOOK\n",
      "------------------------------------------------------------\n",
      "    Model_init()_    -- mode:              autoencoding\n",
      "    Model_init()_    -- Unsupervised :     True\n",
      "    Model_init()_    -- Support for unsupervised training  in 'autoencoding' mode is True\n",
      "    Model_init()_    -- Criterion:         MSELoss()\n",
      "    Model_init()_    -- use_snnl :         False\n",
      "    Model_init()_    -- temperature :      0\n",
      "    Model_init()_    -- temperature LR:    0.0\n",
      "\n",
      "------------------------------------------------------------\n",
      " Building Autoencoder from NOTEBOOK\n",
      "------------------------------------------------------------\n",
      "setup_prim_optimizer()\n",
      "    AE init() -- mode               : autoencoding\n",
      "    AE init() -- unsupervised       : True\n",
      "    AE init() -- layer_types        : ['linear', 'relu', 'linear', 'relu', 'linear', 'linear', 'relu', 'linear', 'relu', 'linear']\n",
      "    AE init() -- non linearities    : ['relu', 'relu', 'relu', 'relu']\n",
      "    AE init() -- Primary Crtierion  : MSELoss()\n",
      "    AE init() -- monitor_grads_layer: None\n",
      "    AE init() -- Primary optimizer  : True\n",
      "    AE init() -- Primary scheduler  : True\n",
      "    AE init() -- use_snnl           : False\n",
      "    AE init() -- SNNL Crtierion     : None\n",
      "    AE init() -- temperature        : 0\n",
      "    AE init() -- temperature LR     : 0.0\n",
      "    AE init() -- Temperature optmzr : False\n",
      "    AE init() -- Temperature schdlr : False\n"
     ]
    },
    {
     "data": {
      "text/plain": [
       "'cuda:1'"
      ]
     },
     "execution_count": 13,
     "metadata": {},
     "output_type": "execute_result"
    }
   ],
   "source": [
    "### Define Model\n",
    "args.runmode\n",
    "model = define_autoencoder_model(args, verbose = True)\n",
    "model.device\n"
   ]
  },
  {
   "cell_type": "code",
   "execution_count": 14,
   "id": "acb11365-5fa8-4a94-ba70-bfe9bc16df18",
   "metadata": {
    "execution": {
     "iopub.execute_input": "2024-09-04T21:51:23.179295Z",
     "iopub.status.busy": "2024-09-04T21:51:23.178671Z",
     "iopub.status.idle": "2024-09-04T21:51:23.229784Z",
     "shell.execute_reply": "2024-09-04T21:51:23.228861Z",
     "shell.execute_reply.started": "2024-09-04T21:51:23.179245Z"
    },
    "scrolled": true
   },
   "outputs": [
    {
     "name": "stdout",
     "output_type": "stream",
     "text": [
      "\n",
      "command line parms : \n",
      "-----------------------\n",
      "SGD_momentum.............  0\n",
      "SGD_weight_decay.........  0\n",
      "WANDB_ACTIVE.............  True\n",
      "adam_weight_decay........  0.001\n",
      "anneal_patience..........  15\n",
      "batch_size...............  1\n",
      "\n",
      "    cellpainting_args   (dict)\n",
      "    ----------------------------\n",
      "    batch_size...............  1\n",
      "    chunksize................  None\n",
      "    compounds_per_batch......  200\n",
      "    conversions..............  None\n",
      "    iterator.................  True\n",
      "    sample_size..............  3\n",
      "    test_end.................  33600\n",
      "    test_path................  /home/kevin/WSL-shared/cellpainting/cj-datasets/output_11102023/3_sample_profiles/3sample_profiles_1482_HashOrder_test.csv\n",
      "    test_start...............  30000\n",
      "    train_end................  240000\n",
      "    train_start..............  0\n",
      "    training_path............  /home/kevin/WSL-shared/cellpainting/cj-datasets/output_11102023/3_sample_profiles/3sample_profiles_1482_HashOrder.csv\n",
      "    val_end..................  24000\n",
      "    val_start................  0\n",
      "    validation_path..........  /home/kevin/WSL-shared/cellpainting/cj-datasets/output_11102023/3_sample_profiles/3sample_profiles_1482_HashOrder_test.csv\n",
      "\n",
      "ckpt.....................  None\n",
      "code_units...............  150\n",
      "configuration............  hyperparameters/ae_baseline_150_512_cpb.yaml\n",
      "cpb......................  200\n",
      "current_device...........  cuda:1\n",
      "dataset..................  cellpainting\n",
      "embedding_layer..........  4\n",
      "epochs...................  200\n",
      "exp_date.................  20240904_2349\n",
      "exp_description..........  AE baseline - snglOpt, 150 dim latent, 512 Midlayer, 200 cpb\n",
      "exp_folder...............  None\n",
      "exp_id...................  0pvjjh3a\n",
      "exp_name.................  AE_20240904_2349\n",
      "exp_name_pfx.............  None\n",
      "exp_title................  scpb200_150Ltnt_512\n",
      "folder_sfx...............  None\n",
      "gpu_id...................  1\n",
      "input_shape..............  1471\n",
      "learning_rate............  0.0001\n",
      "loss_factor..............  1.0\n",
      "\n",
      "    paths   (dict)\n",
      "    ----------------\n",
      "    checkpoint_dir...........  ./ckpt\n",
      "    log_dir..................  ./logs\n",
      "    result_dir...............  ./results\n",
      "\n",
      "project_name.............  CellPainting_Profiles\n",
      "random_seed..............  4321\n",
      "runmode..................  baseline\n",
      "save_every...............  100\n",
      "show_every...............  1\n",
      "snnl_factor..............  0.0\n",
      "temperature..............  0.0\n",
      "temperatureLR............  0.0\n",
      "units....................  [['linear', 1471, 1024], ['relu', 0, 0], ['linear', 1024, 512], ['relu', 0, 0], ['linear', 512, 150], ['linear', 150, 512], ['relu', 0, 0], ['linear', 512, 1024], ['relu', 0, 0], ['linear', 1024, 1471]]\n",
      "use_annealing............  False\n",
      "use_prim_optimizer.......  True\n",
      "use_prim_scheduler.......  True\n",
      "use_single_loss..........  True\n",
      "use_sum..................  False\n",
      "use_temp_optimizer.......  False\n",
      "use_temp_scheduler.......  False\n",
      "\n"
     ]
    }
   ],
   "source": [
    "list_namespace(args)"
   ]
  },
  {
   "cell_type": "markdown",
   "id": "d05597b6-32c1-4598-80b5-04f8399c771a",
   "metadata": {},
   "source": [
    "## Resume from model checkpoint (if args.ckpt is not None)"
   ]
  },
  {
   "cell_type": "code",
   "execution_count": 15,
   "id": "a8e5e1ed-8ecd-4584-b02c-cd6dd71feee8",
   "metadata": {
    "execution": {
     "iopub.execute_input": "2024-09-04T21:51:25.075279Z",
     "iopub.status.busy": "2024-09-04T21:51:25.074702Z",
     "iopub.status.idle": "2024-09-04T21:51:25.123787Z",
     "shell.execute_reply": "2024-09-04T21:51:25.122868Z",
     "shell.execute_reply.started": "2024-09-04T21:51:25.075237Z"
    }
   },
   "outputs": [
    {
     "name": "stderr",
     "output_type": "stream",
     "text": [
      "2024-09-04 23:51:25,115 - root - INFO: -  INITIALIZE TRAINING - Run 200 epochs: epoch 1 to 200 \n"
     ]
    }
   ],
   "source": [
    "args.load_checkpoint = utils.load_checkpoint_v5\n",
    "args.save_checkpoint = utils.save_checkpoint_v5\n",
    "# print(f\" Checkpoint File :  {args.ckpt}\")\n",
    "\n",
    "model = init_resume_training(model, args)\n",
    "\n",
    "if args.WANDB_ACTIVE:\n",
    "    wandb_watch(item = model, criterion=None, log = 'all', log_freq = 1000, log_graph = False)\n",
    "    wandb.config.update(args)"
   ]
  },
  {
   "cell_type": "code",
   "execution_count": 16,
   "id": "2f7fe0d7-922b-47cd-9548-e1688064ea17",
   "metadata": {
    "execution": {
     "iopub.execute_input": "2024-09-04T21:51:27.289456Z",
     "iopub.status.busy": "2024-09-04T21:51:27.288855Z",
     "iopub.status.idle": "2024-09-04T21:51:27.340136Z",
     "shell.execute_reply": "2024-09-04T21:51:27.339110Z",
     "shell.execute_reply.started": "2024-09-04T21:51:27.289406Z"
    }
   },
   "outputs": [
    {
     "name": "stdout",
     "output_type": "stream",
     "text": [
      "Model Hyperparameters\n",
      "----------------------\n",
      " Model device           : cuda:1\n",
      " Model epoch/batch      : -1 / -1\n",
      " Model embedding_layer  : 4\n",
      " loss_factor            : 1.0\n",
      " monitor_grads_layer    : None\n",
      " Use Single Loss        : True\n",
      " Use Prim Optimizer     : True\n",
      " Use Prim Scheduler     : True\n",
      " Main Optimizer Params  : Adam (\n",
      "Parameter Group 0\n",
      "    amsgrad: False\n",
      "    betas: (0.9, 0.999)\n",
      "    capturable: False\n",
      "    differentiable: False\n",
      "    eps: 1e-08\n",
      "    foreach: None\n",
      "    fused: None\n",
      "    lr: 0.0001\n",
      "    maximize: False\n",
      "    weight_decay: 0.001\n",
      ")\n",
      " Scheduler              : <torch.optim.lr_scheduler.ReduceLROnPlateau object at 0x7f35edf8b310> \n",
      "    factor: 0.5  \n",
      "    min_lrs: [0]  \n",
      "    patience: 50  \n",
      "    verbose: False  \n",
      "    cooldown: 10  \n",
      "    cooldown_counter: 0  \n",
      "    mode: min  \n",
      "    threshold: 1e-06  \n",
      "    threshold_mode: rel  \n",
      "    best: inf  \n",
      "    num_bad_epochs: 0  \n",
      "    mode_worse: inf  \n",
      "    eps: 1e-08  \n",
      "    last_epoch: 0  \n",
      "\n",
      " Use snnl               : False\n",
      "\n",
      " Use Temp Optimizer     : False\n",
      " Use Temp Scheduler     : False\n",
      " \n",
      " Best training loss     : inf      - epoch: -1\n",
      " Best training metric   : -inf     - epoch: -1\n",
      " \n",
      " Best validation loss   : inf      - epoch: -1\n",
      " Best validation metric : -inf     - epoch: -1\n",
      " \n",
      " Model best trn metric  : -inf     - epoch: 0\n",
      " Model best val metric  : -inf     - epoch: 0\n"
     ]
    }
   ],
   "source": [
    "display_model_hyperparameters(model)"
   ]
  },
  {
   "cell_type": "code",
   "execution_count": 17,
   "id": "134e08ad-dd90-438e-bbce-abe259b5a26a",
   "metadata": {
    "execution": {
     "iopub.execute_input": "2024-09-04T21:51:28.399599Z",
     "iopub.status.busy": "2024-09-04T21:51:28.399032Z",
     "iopub.status.idle": "2024-09-04T21:51:28.446766Z",
     "shell.execute_reply": "2024-09-04T21:51:28.445747Z",
     "shell.execute_reply.started": "2024-09-04T21:51:28.399560Z"
    }
   },
   "outputs": [],
   "source": [
    "# display_model_state_dict(model, 'test')\n",
    "# display_model_parameters(model, 'title')\n",
    "# display_model_gradients(model, 'test')\n",
    "# display_model_hyperparameters(model)\n",
    "#\n",
    "# for k,v in model.__dict__.items():\n",
    "#     if k == 'training_history':\n",
    "#         print(f\" {k:30}  type: {str(type(v)):25s}   values: {v.keys()} \")\n",
    "#     else:\n",
    "#         print(f\" {k:30}  type: {str(type(v)):25s}   values: {v} \")\n",
    "#\n",
    "# print(f\" Optimizer ParamGroup[0]   : {model.optimizers['prim'].param_groups[0]}\")\n",
    "# for k,v in model.optimizers.items():\n",
    "#     print(k, v)\n",
    "#\n",
    "# for k,v in enumerate(model.optimizers['prim'].param_groups[0]['params']):\n",
    "#     print(f\" {k}, {v.shape}\")\n",
    "#\n",
    "# model.schedulers['prim'].state_dict()\n",
    "# model.optimizers['prim'].state_dict()\n",
    "# model.display_values('test')\n",
    "# model.display_gradients('test')\n",
    "# model.optimizers['prim'].state_dict()"
   ]
  },
  {
   "cell_type": "markdown",
   "id": "94aeaa82-14c5-465c-ae6e-bb792ba8a973",
   "metadata": {},
   "source": [
    "# Autoencoder Fit"
   ]
  },
  {
   "cell_type": "code",
   "execution_count": 18,
   "id": "55efa948-c9af-46f5-9ce3-c668275bb1a5",
   "metadata": {
    "execution": {
     "iopub.execute_input": "2024-09-04T21:51:29.771579Z",
     "iopub.status.busy": "2024-09-04T21:51:29.770922Z",
     "iopub.status.idle": "2024-09-04T21:51:29.819180Z",
     "shell.execute_reply": "2024-09-04T21:51:29.818383Z",
     "shell.execute_reply.started": "2024-09-04T21:51:29.771529Z"
    }
   },
   "outputs": [
    {
     "name": "stderr",
     "output_type": "stream",
     "text": [
      "2024-09-04 23:51:29,810 - __main__ - INFO: -  Experiment run id:  0pvjjh3a\n",
      "2024-09-04 23:51:29,811 - __main__ - INFO: -  Experiment Name  :  AE_20240904_2349 \n",
      "2024-09-04 23:51:29,812 - __main__ - INFO: -  Experiment Date  :  20240904_2349 \n",
      "2024-09-04 23:51:29,813 - __main__ - INFO: -  Experiment Title :  scpb200_150Ltnt_512 \n",
      "2024-09-04 23:51:29,814 - __main__ - INFO: -  Experiment Notes :  AE baseline - snglOpt, 150 dim latent, 512 Midlayer, 200 cpb\n"
     ]
    }
   ],
   "source": [
    "#\n",
    "#  Running Training Loop\n",
    "#\n",
    "logger.info(f\" Experiment run id:  {args.exp_id}\")\n",
    "logger.info(f\" Experiment Name  :  {args.exp_name} \")\n",
    "logger.info(f\" Experiment Date  :  {args.exp_date} \")\n",
    "logger.info(f\" Experiment Title :  {args.exp_title} \")\n",
    "logger.info(f\" Experiment Notes :  {args.exp_description}\")"
   ]
  },
  {
   "cell_type": "code",
   "execution_count": 19,
   "id": "cb3d8194-e366-4742-9843-b17d7743377b",
   "metadata": {
    "execution": {
     "iopub.execute_input": "2024-09-04T21:51:31.399742Z",
     "iopub.status.busy": "2024-09-04T21:51:31.399301Z",
     "iopub.status.idle": "2024-09-04T21:51:31.439727Z",
     "shell.execute_reply": "2024-09-04T21:51:31.439064Z",
     "shell.execute_reply.started": "2024-09-04T21:51:31.399700Z"
    }
   },
   "outputs": [
    {
     "name": "stdout",
     "output_type": "stream",
     "text": [
      " 2024-09-04 23:51:31  epoch    1 of  200\n"
     ]
    }
   ],
   "source": [
    "# model.starting_epoch = 0\n",
    "# model.ending_epoch = 100\n",
    "# model.starting_epoch, model.ending_epoch = 0, 600\n",
    "# model.starting_epoch, model.ending_epoch\n",
    "\n",
    "print(f\" {datetime.now().strftime('%Y-%m-%d %H:%M:%S')}  epoch {model.starting_epoch+1:4d} of {model.ending_epoch:4d}\")\n"
   ]
  },
  {
   "cell_type": "code",
   "execution_count": 20,
   "id": "91e9127a-8a3f-4eaf-8119-4c917952f3e5",
   "metadata": {
    "execution": {
     "iopub.execute_input": "2024-09-04T21:51:33.446247Z",
     "iopub.status.busy": "2024-09-04T21:51:33.445677Z",
     "iopub.status.idle": "2024-09-05T05:48:04.557405Z",
     "shell.execute_reply": "2024-09-05T05:48:04.556690Z",
     "shell.execute_reply.started": "2024-09-04T21:51:33.446206Z"
    }
   },
   "outputs": [
    {
     "name": "stdout",
     "output_type": "stream",
     "text": [
      " 2024-09-04 23:51:33  Start: epoch    1 of  200\n",
      "                                                                                                                                                                           "
     ]
    },
    {
     "name": "stderr",
     "output_type": "stream",
     "text": [
      "2024-09-04 23:53:53,213 - snnl.utils.utils_ptsnnl - INFO: -  Model exported to ckpts/AE_base_scpb200_150Ltnt_512_20240904_2349_BEST.pt - epoch: 1\n"
     ]
    },
    {
     "name": "stdout",
     "output_type": "stream",
     "text": [
      "  time   ep / eps |  Trn_loss   Primary      SNNL  |   temp*         grad    |   R2      BestEp         |  Vld_loss   Primary      SNNL  |   R2       BestEp          |   LR        temp LR    |\n",
      "------------------+--------------------------------+-------------------------+--------------------------+--------------------------------+----------------------------|------------------------|\n",
      "23:53:53  1 /200  |   0.8022     0.8022     0.0000 |   0.000000   0.0000e+00 | -11.2477     1           |   0.4903     0.4903     0.0000 |  -3.2587     1             |  1.000e-04   0.000e+00 |\n",
      "23:56:14  2 /200  |   0.4024     0.4024     0.0000 |   0.000000   0.0000e+00 |  -1.7701     2           |   0.3328     0.3328     0.0000 |  -0.4671     2             |  1.000e-04   0.000e+00 |\n"
     ]
    },
    {
     "name": "stderr",
     "output_type": "stream",
     "text": [
      "2024-09-04 23:56:14,953 - snnl.utils.utils_ptsnnl - INFO: -  Model exported to ckpts/AE_base_scpb200_150Ltnt_512_20240904_2349_BEST.pt - epoch: 2\n"
     ]
    },
    {
     "name": "stdout",
     "output_type": "stream",
     "text": [
      "23:58:46  3 /200  |   0.3052     0.3052     0.0000 |   0.000000   0.0000e+00 |  -0.0475     3           |   0.2759     0.2759     0.0000 |   0.2103     3             |  1.000e-04   0.000e+00 |\n"
     ]
    },
    {
     "name": "stderr",
     "output_type": "stream",
     "text": [
      "2024-09-04 23:58:46,926 - snnl.utils.utils_ptsnnl - INFO: -  Model exported to ckpts/AE_base_scpb200_150Ltnt_512_20240904_2349_BEST.pt - epoch: 3\n"
     ]
    },
    {
     "name": "stdout",
     "output_type": "stream",
     "text": [
      "00:01:23  4 /200  |   0.2650     0.2650     0.0000 |   0.000000   0.0000e+00 |   0.4125     4           |   0.2501     0.2501     0.0000 |   0.4274     4             |  1.000e-04   0.000e+00 |\n"
     ]
    },
    {
     "name": "stderr",
     "output_type": "stream",
     "text": [
      "2024-09-05 00:01:23,701 - snnl.utils.utils_ptsnnl - INFO: -  Model exported to ckpts/AE_base_scpb200_150Ltnt_512_20240904_2349_BEST.pt - epoch: 4\n"
     ]
    },
    {
     "name": "stdout",
     "output_type": "stream",
     "text": [
      "00:03:59  5 /200  |   0.2458     0.2458     0.0000 |   0.000000   0.0000e+00 |   0.5795     5           |   0.2370     0.2370     0.0000 |   0.5170     5             |  1.000e-04   0.000e+00 |\n"
     ]
    },
    {
     "name": "stderr",
     "output_type": "stream",
     "text": [
      "2024-09-05 00:03:59,780 - snnl.utils.utils_ptsnnl - INFO: -  Model exported to ckpts/AE_base_scpb200_150Ltnt_512_20240904_2349_BEST.pt - epoch: 5\n"
     ]
    },
    {
     "name": "stdout",
     "output_type": "stream",
     "text": [
      "00:06:36  6 /200  |   0.2361     0.2361     0.0000 |   0.000000   0.0000e+00 |   0.6332     6           |   0.2304     0.2304     0.0000 |   0.5686     6             |  1.000e-04   0.000e+00 |\n"
     ]
    },
    {
     "name": "stderr",
     "output_type": "stream",
     "text": [
      "2024-09-05 00:06:36,447 - snnl.utils.utils_ptsnnl - INFO: -  Model exported to ckpts/AE_base_scpb200_150Ltnt_512_20240904_2349_BEST.pt - epoch: 6\n"
     ]
    },
    {
     "name": "stdout",
     "output_type": "stream",
     "text": [
      "00:09:10  7 /200  |   0.2307     0.2307     0.0000 |   0.000000   0.0000e+00 |   0.6535     7           |   0.2260     0.2260     0.0000 |   0.5887     7             |  1.000e-04   0.000e+00 |\n"
     ]
    },
    {
     "name": "stderr",
     "output_type": "stream",
     "text": [
      "2024-09-05 00:09:11,184 - snnl.utils.utils_ptsnnl - INFO: -  Model exported to ckpts/AE_base_scpb200_150Ltnt_512_20240904_2349_BEST.pt - epoch: 7\n"
     ]
    },
    {
     "name": "stdout",
     "output_type": "stream",
     "text": [
      "00:11:43  8 /200  |   0.2271     0.2271     0.0000 |   0.000000   0.0000e+00 |   0.6667     8           |   0.2233     0.2233     0.0000 |   0.6049     8             |  1.000e-04   0.000e+00 |\n"
     ]
    },
    {
     "name": "stderr",
     "output_type": "stream",
     "text": [
      "2024-09-05 00:11:43,767 - snnl.utils.utils_ptsnnl - INFO: -  Model exported to ckpts/AE_base_scpb200_150Ltnt_512_20240904_2349_BEST.pt - epoch: 8\n"
     ]
    },
    {
     "name": "stdout",
     "output_type": "stream",
     "text": [
      "00:14:16  9 /200  |   0.2252     0.2252     0.0000 |   0.000000   0.0000e+00 |   0.6722     9           |   0.2219     0.2219     0.0000 |   0.6197     9             |  1.000e-04   0.000e+00 |\n"
     ]
    },
    {
     "name": "stderr",
     "output_type": "stream",
     "text": [
      "2024-09-05 00:14:16,788 - snnl.utils.utils_ptsnnl - INFO: -  Model exported to ckpts/AE_base_scpb200_150Ltnt_512_20240904_2349_BEST.pt - epoch: 9\n"
     ]
    },
    {
     "name": "stdout",
     "output_type": "stream",
     "text": [
      "00:16:48 10 /200  |   0.2242     0.2242     0.0000 |   0.000000   0.0000e+00 |   0.6752    10           |   0.2213     0.2213     0.0000 |   0.6293    10             |  1.000e-04   0.000e+00 |\n"
     ]
    },
    {
     "name": "stderr",
     "output_type": "stream",
     "text": [
      "2024-09-05 00:16:48,511 - snnl.utils.utils_ptsnnl - INFO: -  Model exported to ckpts/AE_base_scpb200_150Ltnt_512_20240904_2349_BEST.pt - epoch: 10\n"
     ]
    },
    {
     "name": "stdout",
     "output_type": "stream",
     "text": [
      "00:19:19 11 /200  |   0.2237     0.2237     0.0000 |   0.000000   0.0000e+00 |   0.6777    11           |   0.2208     0.2208     0.0000 |   0.6366    11             |  1.000e-04   0.000e+00 |\n"
     ]
    },
    {
     "name": "stderr",
     "output_type": "stream",
     "text": [
      "2024-09-05 00:19:19,433 - snnl.utils.utils_ptsnnl - INFO: -  Model exported to ckpts/AE_base_scpb200_150Ltnt_512_20240904_2349_BEST.pt - epoch: 11\n"
     ]
    },
    {
     "name": "stdout",
     "output_type": "stream",
     "text": [
      "00:21:51 12 /200  |   0.2234     0.2234     0.0000 |   0.000000   0.0000e+00 |   0.6789    12           |   0.2206     0.2206     0.0000 |   0.6424    12             |  1.000e-04   0.000e+00 |\n"
     ]
    },
    {
     "name": "stderr",
     "output_type": "stream",
     "text": [
      "2024-09-05 00:21:51,391 - snnl.utils.utils_ptsnnl - INFO: -  Model exported to ckpts/AE_base_scpb200_150Ltnt_512_20240904_2349_BEST.pt - epoch: 12\n"
     ]
    },
    {
     "name": "stdout",
     "output_type": "stream",
     "text": [
      "00:24:20 13 /200  |   0.2231     0.2231     0.0000 |   0.000000   0.0000e+00 |   0.6793    13           |   0.2203     0.2203     0.0000 |   0.6468    13             |  1.000e-04   0.000e+00 |\n"
     ]
    },
    {
     "name": "stderr",
     "output_type": "stream",
     "text": [
      "2024-09-05 00:24:20,924 - snnl.utils.utils_ptsnnl - INFO: -  Model exported to ckpts/AE_base_scpb200_150Ltnt_512_20240904_2349_BEST.pt - epoch: 13\n"
     ]
    },
    {
     "name": "stdout",
     "output_type": "stream",
     "text": [
      "00:26:51 14 /200  |   0.2229     0.2229     0.0000 |   0.000000   0.0000e+00 |   0.6795    14           |   0.2201     0.2201     0.0000 |   0.6494    14             |  1.000e-04   0.000e+00 |\n"
     ]
    },
    {
     "name": "stderr",
     "output_type": "stream",
     "text": [
      "2024-09-05 00:26:51,683 - snnl.utils.utils_ptsnnl - INFO: -  Model exported to ckpts/AE_base_scpb200_150Ltnt_512_20240904_2349_BEST.pt - epoch: 14\n"
     ]
    },
    {
     "name": "stdout",
     "output_type": "stream",
     "text": [
      "00:29:23 15 /200  |   0.2227     0.2227     0.0000 |   0.000000   0.0000e+00 |   0.6795    15           |   0.2199     0.2199     0.0000 |   0.6518    15             |  1.000e-04   0.000e+00 |\n"
     ]
    },
    {
     "name": "stderr",
     "output_type": "stream",
     "text": [
      "2024-09-05 00:29:23,815 - snnl.utils.utils_ptsnnl - INFO: -  Model exported to ckpts/AE_base_scpb200_150Ltnt_512_20240904_2349_BEST.pt - epoch: 15\n"
     ]
    },
    {
     "name": "stdout",
     "output_type": "stream",
     "text": [
      "00:31:55 16 /200  |   0.2225     0.2225     0.0000 |   0.000000   0.0000e+00 |   0.6797    16           |   0.2198     0.2198     0.0000 |   0.6537    16             |  1.000e-04   0.000e+00 |\n"
     ]
    },
    {
     "name": "stderr",
     "output_type": "stream",
     "text": [
      "2024-09-05 00:31:55,450 - snnl.utils.utils_ptsnnl - INFO: -  Model exported to ckpts/AE_base_scpb200_150Ltnt_512_20240904_2349_BEST.pt - epoch: 16\n"
     ]
    },
    {
     "name": "stdout",
     "output_type": "stream",
     "text": [
      "00:34:27 17 /200  |   0.2223     0.2223     0.0000 |   0.000000   0.0000e+00 |   0.6799    17           |   0.2195     0.2195     0.0000 |   0.6544    17             |  1.000e-04   0.000e+00 |\n"
     ]
    },
    {
     "name": "stderr",
     "output_type": "stream",
     "text": [
      "2024-09-05 00:34:28,315 - snnl.utils.utils_ptsnnl - INFO: -  Model exported to ckpts/AE_base_scpb200_150Ltnt_512_20240904_2349_BEST.pt - epoch: 17\n"
     ]
    },
    {
     "name": "stdout",
     "output_type": "stream",
     "text": [
      "00:37:00 18 /200  |   0.2221     0.2221     0.0000 |   0.000000   0.0000e+00 |   0.6801    18           |   0.2194     0.2194     0.0000 |   0.6550    18             |  1.000e-04   0.000e+00 |\n"
     ]
    },
    {
     "name": "stderr",
     "output_type": "stream",
     "text": [
      "2024-09-05 00:37:00,396 - snnl.utils.utils_ptsnnl - INFO: -  Model exported to ckpts/AE_base_scpb200_150Ltnt_512_20240904_2349_BEST.pt - epoch: 18\n"
     ]
    },
    {
     "name": "stdout",
     "output_type": "stream",
     "text": [
      "00:39:32 19 /200  |   0.2220     0.2220     0.0000 |   0.000000   0.0000e+00 |   0.6804    19           |   0.2193     0.2193     0.0000 |   0.6556    19             |  1.000e-04   0.000e+00 |\n"
     ]
    },
    {
     "name": "stderr",
     "output_type": "stream",
     "text": [
      "2024-09-05 00:39:32,905 - snnl.utils.utils_ptsnnl - INFO: -  Model exported to ckpts/AE_base_scpb200_150Ltnt_512_20240904_2349_BEST.pt - epoch: 19\n"
     ]
    },
    {
     "name": "stdout",
     "output_type": "stream",
     "text": [
      "00:42:04 20 /200  |   0.2218     0.2218     0.0000 |   0.000000   0.0000e+00 |   0.6805    20           |   0.2191     0.2191     0.0000 |   0.6564    20             |  1.000e-04   0.000e+00 |\n"
     ]
    },
    {
     "name": "stderr",
     "output_type": "stream",
     "text": [
      "2024-09-05 00:42:04,699 - snnl.utils.utils_ptsnnl - INFO: -  Model exported to ckpts/AE_base_scpb200_150Ltnt_512_20240904_2349_BEST.pt - epoch: 20\n"
     ]
    },
    {
     "name": "stdout",
     "output_type": "stream",
     "text": [
      "00:44:35 21 /200  |   0.2216     0.2216     0.0000 |   0.000000   0.0000e+00 |   0.6807    21           |   0.2190     0.2190     0.0000 |   0.6564    20             |  1.000e-04   0.000e+00 |\n",
      "00:47:05 22 /200  |   0.2214     0.2214     0.0000 |   0.000000   0.0000e+00 |   0.6808    22           |   0.2188     0.2188     0.0000 |   0.6571    22             |  1.000e-04   0.000e+00 |\n"
     ]
    },
    {
     "name": "stderr",
     "output_type": "stream",
     "text": [
      "2024-09-05 00:47:06,204 - snnl.utils.utils_ptsnnl - INFO: -  Model exported to ckpts/AE_base_scpb200_150Ltnt_512_20240904_2349_BEST.pt - epoch: 22\n"
     ]
    },
    {
     "name": "stdout",
     "output_type": "stream",
     "text": [
      "00:49:37 23 /200  |   0.2213     0.2213     0.0000 |   0.000000   0.0000e+00 |   0.6811    23           |   0.2187     0.2187     0.0000 |   0.6575    23             |  1.000e-04   0.000e+00 |\n"
     ]
    },
    {
     "name": "stderr",
     "output_type": "stream",
     "text": [
      "2024-09-05 00:49:37,532 - snnl.utils.utils_ptsnnl - INFO: -  Model exported to ckpts/AE_base_scpb200_150Ltnt_512_20240904_2349_BEST.pt - epoch: 23\n"
     ]
    },
    {
     "name": "stdout",
     "output_type": "stream",
     "text": [
      "00:52:08 24 /200  |   0.2211     0.2211     0.0000 |   0.000000   0.0000e+00 |   0.6813    24           |   0.2186     0.2186     0.0000 |   0.6579    24             |  1.000e-04   0.000e+00 |\n"
     ]
    },
    {
     "name": "stderr",
     "output_type": "stream",
     "text": [
      "2024-09-05 00:52:09,169 - snnl.utils.utils_ptsnnl - INFO: -  Model exported to ckpts/AE_base_scpb200_150Ltnt_512_20240904_2349_BEST.pt - epoch: 24\n"
     ]
    },
    {
     "name": "stdout",
     "output_type": "stream",
     "text": [
      "00:54:39 25 /200  |   0.2210     0.2210     0.0000 |   0.000000   0.0000e+00 |   0.6813    24           |   0.2184     0.2184     0.0000 |   0.6579    25             |  1.000e-04   0.000e+00 |\n"
     ]
    },
    {
     "name": "stderr",
     "output_type": "stream",
     "text": [
      "2024-09-05 00:54:40,132 - snnl.utils.utils_ptsnnl - INFO: -  Model exported to ckpts/AE_base_scpb200_150Ltnt_512_20240904_2349_BEST.pt - epoch: 25\n"
     ]
    },
    {
     "name": "stdout",
     "output_type": "stream",
     "text": [
      "00:57:11 26 /200  |   0.2209     0.2209     0.0000 |   0.000000   0.0000e+00 |   0.6817    26           |   0.2183     0.2183     0.0000 |   0.6588    26             |  1.000e-04   0.000e+00 |\n"
     ]
    },
    {
     "name": "stderr",
     "output_type": "stream",
     "text": [
      "2024-09-05 00:57:11,897 - snnl.utils.utils_ptsnnl - INFO: -  Model exported to ckpts/AE_base_scpb200_150Ltnt_512_20240904_2349_BEST.pt - epoch: 26\n"
     ]
    },
    {
     "name": "stdout",
     "output_type": "stream",
     "text": [
      "00:59:43 27 /200  |   0.2208     0.2208     0.0000 |   0.000000   0.0000e+00 |   0.6813    26           |   0.2182     0.2182     0.0000 |   0.6585    26             |  1.000e-04   0.000e+00 |\n",
      "01:02:15 28 /200  |   0.2206     0.2206     0.0000 |   0.000000   0.0000e+00 |   0.6815    26           |   0.2181     0.2181     0.0000 |   0.6588    28             |  1.000e-04   0.000e+00 |\n"
     ]
    },
    {
     "name": "stderr",
     "output_type": "stream",
     "text": [
      "2024-09-05 01:02:15,956 - snnl.utils.utils_ptsnnl - INFO: -  Model exported to ckpts/AE_base_scpb200_150Ltnt_512_20240904_2349_BEST.pt - epoch: 28\n"
     ]
    },
    {
     "name": "stdout",
     "output_type": "stream",
     "text": [
      "01:04:47 29 /200  |   0.2205     0.2205     0.0000 |   0.000000   0.0000e+00 |   0.6823    29           |   0.2180     0.2180     0.0000 |   0.6590    29             |  1.000e-04   0.000e+00 |\n"
     ]
    },
    {
     "name": "stderr",
     "output_type": "stream",
     "text": [
      "2024-09-05 01:04:47,688 - snnl.utils.utils_ptsnnl - INFO: -  Model exported to ckpts/AE_base_scpb200_150Ltnt_512_20240904_2349_BEST.pt - epoch: 29\n"
     ]
    },
    {
     "name": "stdout",
     "output_type": "stream",
     "text": [
      "01:07:19 30 /200  |   0.2204     0.2204     0.0000 |   0.000000   0.0000e+00 |   0.6818    29           |   0.2179     0.2179     0.0000 |   0.6593    30             |  1.000e-04   0.000e+00 |\n"
     ]
    },
    {
     "name": "stderr",
     "output_type": "stream",
     "text": [
      "2024-09-05 01:07:19,873 - snnl.utils.utils_ptsnnl - INFO: -  Model exported to ckpts/AE_base_scpb200_150Ltnt_512_20240904_2349_BEST.pt - epoch: 30\n"
     ]
    },
    {
     "name": "stdout",
     "output_type": "stream",
     "text": [
      "01:09:50 31 /200  |   0.2203     0.2203     0.0000 |   0.000000   0.0000e+00 |   0.6823    31           |   0.2177     0.2177     0.0000 |   0.6586    30             |  1.000e-04   0.000e+00 |\n",
      "01:12:19 32 /200  |   0.2202     0.2202     0.0000 |   0.000000   0.0000e+00 |   0.6820    31           |   0.2177     0.2177     0.0000 |   0.6588    30             |  1.000e-04   0.000e+00 |\n",
      "01:14:47 33 /200  |   0.2201     0.2201     0.0000 |   0.000000   0.0000e+00 |   0.6818    31           |   0.2176     0.2176     0.0000 |   0.6594    33             |  1.000e-04   0.000e+00 |\n"
     ]
    },
    {
     "name": "stderr",
     "output_type": "stream",
     "text": [
      "2024-09-05 01:14:47,923 - snnl.utils.utils_ptsnnl - INFO: -  Model exported to ckpts/AE_base_scpb200_150Ltnt_512_20240904_2349_BEST.pt - epoch: 33\n"
     ]
    },
    {
     "name": "stdout",
     "output_type": "stream",
     "text": [
      "01:17:15 34 /200  |   0.2200     0.2200     0.0000 |   0.000000   0.0000e+00 |   0.6821    31           |   0.2175     0.2175     0.0000 |   0.6594    33             |  1.000e-04   0.000e+00 |\n",
      "01:19:42 35 /200  |   0.2199     0.2199     0.0000 |   0.000000   0.0000e+00 |   0.6822    31           |   0.2174     0.2174     0.0000 |   0.6577    33             |  1.000e-04   0.000e+00 |\n",
      "01:22:10 36 /200  |   0.2198     0.2198     0.0000 |   0.000000   0.0000e+00 |   0.6822    31           |   0.2173     0.2173     0.0000 |   0.6594    36             |  1.000e-04   0.000e+00 |\n"
     ]
    },
    {
     "name": "stderr",
     "output_type": "stream",
     "text": [
      "2024-09-05 01:22:10,792 - snnl.utils.utils_ptsnnl - INFO: -  Model exported to ckpts/AE_base_scpb200_150Ltnt_512_20240904_2349_BEST.pt - epoch: 36\n"
     ]
    },
    {
     "name": "stdout",
     "output_type": "stream",
     "text": [
      "01:24:37 37 /200  |   0.2197     0.2197     0.0000 |   0.000000   0.0000e+00 |   0.6825    37           |   0.2172     0.2172     0.0000 |   0.6590    36             |  1.000e-04   0.000e+00 |\n",
      "01:27:05 38 /200  |   0.2196     0.2196     0.0000 |   0.000000   0.0000e+00 |   0.6824    37           |   0.2172     0.2172     0.0000 |   0.6605    38             |  1.000e-04   0.000e+00 |\n"
     ]
    },
    {
     "name": "stderr",
     "output_type": "stream",
     "text": [
      "2024-09-05 01:27:05,715 - snnl.utils.utils_ptsnnl - INFO: -  Model exported to ckpts/AE_base_scpb200_150Ltnt_512_20240904_2349_BEST.pt - epoch: 38\n"
     ]
    },
    {
     "name": "stdout",
     "output_type": "stream",
     "text": [
      "01:29:33 39 /200  |   0.2195     0.2195     0.0000 |   0.000000   0.0000e+00 |   0.6829    39           |   0.2171     0.2171     0.0000 |   0.6600    38             |  1.000e-04   0.000e+00 |\n",
      "01:32:01 40 /200  |   0.2194     0.2194     0.0000 |   0.000000   0.0000e+00 |   0.6828    39           |   0.2170     0.2170     0.0000 |   0.6599    38             |  1.000e-04   0.000e+00 |\n",
      "01:34:29 41 /200  |   0.2194     0.2194     0.0000 |   0.000000   0.0000e+00 |   0.6828    39           |   0.2170     0.2170     0.0000 |   0.6614    41             |  1.000e-04   0.000e+00 |\n"
     ]
    },
    {
     "name": "stderr",
     "output_type": "stream",
     "text": [
      "2024-09-05 01:34:29,492 - snnl.utils.utils_ptsnnl - INFO: -  Model exported to ckpts/AE_base_scpb200_150Ltnt_512_20240904_2349_BEST.pt - epoch: 41\n"
     ]
    },
    {
     "name": "stdout",
     "output_type": "stream",
     "text": [
      "01:37:03 42 /200  |   0.2193     0.2193     0.0000 |   0.000000   0.0000e+00 |   0.6828    39           |   0.2168     0.2168     0.0000 |   0.6609    41             |  1.000e-04   0.000e+00 |\n",
      "01:39:35 43 /200  |   0.2192     0.2192     0.0000 |   0.000000   0.0000e+00 |   0.6830    43           |   0.2168     0.2168     0.0000 |   0.6609    41             |  1.000e-04   0.000e+00 |\n",
      "01:42:04 44 /200  |   0.2192     0.2192     0.0000 |   0.000000   0.0000e+00 |   0.6831    44           |   0.2167     0.2167     0.0000 |   0.6601    41             |  1.000e-04   0.000e+00 |\n",
      "01:44:33 45 /200  |   0.2191     0.2191     0.0000 |   0.000000   0.0000e+00 |   0.6833    45           |   0.2167     0.2167     0.0000 |   0.6603    41             |  1.000e-04   0.000e+00 |\n",
      "01:47:02 46 /200  |   0.2190     0.2190     0.0000 |   0.000000   0.0000e+00 |   0.6835    46           |   0.2167     0.2167     0.0000 |   0.6596    41             |  1.000e-04   0.000e+00 |\n",
      "01:49:31 47 /200  |   0.2190     0.2190     0.0000 |   0.000000   0.0000e+00 |   0.6836    47           |   0.2166     0.2166     0.0000 |   0.6599    41             |  1.000e-04   0.000e+00 |              \n",
      "01:52:01 48 /200  |   0.2189     0.2189     0.0000 |   0.000000   0.0000e+00 |   0.6837    48           |   0.2165     0.2165     0.0000 |   0.6606    41             |  1.000e-04   0.000e+00 |              \n",
      "01:54:31 49 /200  |   0.2188     0.2188     0.0000 |   0.000000   0.0000e+00 |   0.6837    49           |   0.2165     0.2165     0.0000 |   0.6603    41             |  1.000e-04   0.000e+00 |              \n",
      "01:57:02 50 /200  |   0.2188     0.2188     0.0000 |   0.000000   0.0000e+00 |   0.6841    50           |   0.2164     0.2164     0.0000 |   0.6595    41             |  1.000e-04   0.000e+00 |              \n",
      "01:59:32 51 /200  |   0.2187     0.2187     0.0000 |   0.000000   0.0000e+00 |   0.6840    50           |   0.2164     0.2164     0.0000 |   0.6585    41             |  1.000e-04   0.000e+00 |              \n",
      "02:02:03 52 /200  |   0.2186     0.2186     0.0000 |   0.000000   0.0000e+00 |   0.6839    50           |   0.2164     0.2164     0.0000 |   0.6608    41             |  1.000e-04   0.000e+00 |              \n",
      "02:04:33 53 /200  |   0.2186     0.2186     0.0000 |   0.000000   0.0000e+00 |   0.6841    53           |   0.2164     0.2164     0.0000 |   0.6615    53             |  1.000e-04   0.000e+00 |              \n"
     ]
    },
    {
     "name": "stderr",
     "output_type": "stream",
     "text": [
      "2024-09-05 02:04:33,379 - snnl.utils.utils_ptsnnl - INFO: -  Model exported to ckpts/AE_base_scpb200_150Ltnt_512_20240904_2349_BEST.pt - epoch: 53\n"
     ]
    },
    {
     "name": "stdout",
     "output_type": "stream",
     "text": [
      "02:07:04 54 /200  |   0.2185     0.2185     0.0000 |   0.000000   0.0000e+00 |   0.6841    54           |   0.2163     0.2163     0.0000 |   0.6610    53             |  1.000e-04   0.000e+00 |              \n",
      "02:09:36 55 /200  |   0.2185     0.2185     0.0000 |   0.000000   0.0000e+00 |   0.6842    55           |   0.2163     0.2163     0.0000 |   0.6594    53             |  1.000e-04   0.000e+00 |              \n",
      "02:12:06 56 /200  |   0.2184     0.2184     0.0000 |   0.000000   0.0000e+00 |   0.6848    56           |   0.2162     0.2162     0.0000 |   0.6584    53             |  1.000e-04   0.000e+00 |              \n",
      "02:14:36 57 /200  |   0.2184     0.2184     0.0000 |   0.000000   0.0000e+00 |   0.6847    56           |   0.2162     0.2162     0.0000 |   0.6620    57             |  1.000e-04   0.000e+00 |              \n"
     ]
    },
    {
     "name": "stderr",
     "output_type": "stream",
     "text": [
      "2024-09-05 02:14:36,593 - snnl.utils.utils_ptsnnl - INFO: -  Model exported to ckpts/AE_base_scpb200_150Ltnt_512_20240904_2349_BEST.pt - epoch: 57\n"
     ]
    },
    {
     "name": "stdout",
     "output_type": "stream",
     "text": [
      "02:17:06 58 /200  |   0.2183     0.2183     0.0000 |   0.000000   0.0000e+00 |   0.6844    56           |   0.2161     0.2161     0.0000 |   0.6614    57             |  1.000e-04   0.000e+00 |              \n",
      "02:19:35 59 /200  |   0.2183     0.2183     0.0000 |   0.000000   0.0000e+00 |   0.6846    56           |   0.2161     0.2161     0.0000 |   0.6615    57             |  1.000e-04   0.000e+00 |              \n",
      "02:22:06 60 /200  |   0.2182     0.2182     0.0000 |   0.000000   0.0000e+00 |   0.6853    60           |   0.2161     0.2161     0.0000 |   0.6609    57             |  1.000e-04   0.000e+00 |              \n",
      "02:24:36 61 /200  |   0.2182     0.2182     0.0000 |   0.000000   0.0000e+00 |   0.6848    60           |   0.2161     0.2161     0.0000 |   0.6599    57             |  1.000e-04   0.000e+00 |              \n",
      "02:27:01 62 /200  |   0.2181     0.2181     0.0000 |   0.000000   0.0000e+00 |   0.6851    60           |   0.2160     0.2160     0.0000 |   0.6600    57             |  1.000e-04   0.000e+00 |              \n",
      "02:29:21 63 /200  |   0.2181     0.2181     0.0000 |   0.000000   0.0000e+00 |   0.6850    60           |   0.2160     0.2160     0.0000 |   0.6621    63             |  1.000e-04   0.000e+00 |              \n"
     ]
    },
    {
     "name": "stderr",
     "output_type": "stream",
     "text": [
      "2024-09-05 02:29:22,065 - snnl.utils.utils_ptsnnl - INFO: -  Model exported to ckpts/AE_base_scpb200_150Ltnt_512_20240904_2349_BEST.pt - epoch: 63\n"
     ]
    },
    {
     "name": "stdout",
     "output_type": "stream",
     "text": [
      "02:31:44 64 /200  |   0.2180     0.2180     0.0000 |   0.000000   0.0000e+00 |   0.6856    64           |   0.2159     0.2159     0.0000 |   0.6598    63             |  1.000e-04   0.000e+00 |              \n",
      "02:34:05 65 /200  |   0.2180     0.2180     0.0000 |   0.000000   0.0000e+00 |   0.6853    64           |   0.2159     0.2159     0.0000 |   0.6632    65             |  1.000e-04   0.000e+00 |              \n"
     ]
    },
    {
     "name": "stderr",
     "output_type": "stream",
     "text": [
      "2024-09-05 02:34:05,977 - snnl.utils.utils_ptsnnl - INFO: -  Model exported to ckpts/AE_base_scpb200_150Ltnt_512_20240904_2349_BEST.pt - epoch: 65\n"
     ]
    },
    {
     "name": "stdout",
     "output_type": "stream",
     "text": [
      "02:36:27 66 /200  |   0.2179     0.2179     0.0000 |   0.000000   0.0000e+00 |   0.6855    64           |   0.2158     0.2158     0.0000 |   0.6616    65             |  1.000e-04   0.000e+00 |              \n",
      "02:38:50 67 /200  |   0.2179     0.2179     0.0000 |   0.000000   0.0000e+00 |   0.6859    67           |   0.2158     0.2158     0.0000 |   0.6625    65             |  1.000e-04   0.000e+00 |              \n",
      "02:41:10 68 /200  |   0.2178     0.2178     0.0000 |   0.000000   0.0000e+00 |   0.6860    68           |   0.2158     0.2158     0.0000 |   0.6635    68             |  1.000e-04   0.000e+00 |              \n"
     ]
    },
    {
     "name": "stderr",
     "output_type": "stream",
     "text": [
      "2024-09-05 02:41:10,942 - snnl.utils.utils_ptsnnl - INFO: -  Model exported to ckpts/AE_base_scpb200_150Ltnt_512_20240904_2349_BEST.pt - epoch: 68\n"
     ]
    },
    {
     "name": "stdout",
     "output_type": "stream",
     "text": [
      "02:43:32 69 /200  |   0.2178     0.2178     0.0000 |   0.000000   0.0000e+00 |   0.6858    68           |   0.2157     0.2157     0.0000 |   0.6619    68             |  1.000e-04   0.000e+00 |              \n",
      "02:45:52 70 /200  |   0.2177     0.2177     0.0000 |   0.000000   0.0000e+00 |   0.6860    68           |   0.2158     0.2158     0.0000 |   0.6623    68             |  1.000e-04   0.000e+00 |              \n",
      "02:48:12 71 /200  |   0.2177     0.2177     0.0000 |   0.000000   0.0000e+00 |   0.6859    68           |   0.2157     0.2157     0.0000 |   0.6617    68             |  1.000e-04   0.000e+00 |              \n",
      "02:50:32 72 /200  |   0.2177     0.2177     0.0000 |   0.000000   0.0000e+00 |   0.6863    72           |   0.2157     0.2157     0.0000 |   0.6625    68             |  1.000e-04   0.000e+00 |              \n",
      "02:52:53 73 /200  |   0.2176     0.2176     0.0000 |   0.000000   0.0000e+00 |   0.6861    72           |   0.2156     0.2156     0.0000 |   0.6624    68             |  1.000e-04   0.000e+00 |              \n",
      "02:55:14 74 /200  |   0.2176     0.2176     0.0000 |   0.000000   0.0000e+00 |   0.6864    74           |   0.2156     0.2156     0.0000 |   0.6616    68             |  1.000e-04   0.000e+00 |              \n",
      "02:57:35 75 /200  |   0.2176     0.2176     0.0000 |   0.000000   0.0000e+00 |   0.6866    75           |   0.2156     0.2156     0.0000 |   0.6639    75             |  1.000e-04   0.000e+00 |              \n"
     ]
    },
    {
     "name": "stderr",
     "output_type": "stream",
     "text": [
      "2024-09-05 02:57:35,444 - snnl.utils.utils_ptsnnl - INFO: -  Model exported to ckpts/AE_base_scpb200_150Ltnt_512_20240904_2349_BEST.pt - epoch: 75\n"
     ]
    },
    {
     "name": "stdout",
     "output_type": "stream",
     "text": [
      "02:59:56 76 /200  |   0.2175     0.2175     0.0000 |   0.000000   0.0000e+00 |   0.6861    75           |   0.2156     0.2156     0.0000 |   0.6647    76             |  1.000e-04   0.000e+00 |              \n"
     ]
    },
    {
     "name": "stderr",
     "output_type": "stream",
     "text": [
      "2024-09-05 02:59:57,089 - snnl.utils.utils_ptsnnl - INFO: -  Model exported to ckpts/AE_base_scpb200_150Ltnt_512_20240904_2349_BEST.pt - epoch: 76\n"
     ]
    },
    {
     "name": "stdout",
     "output_type": "stream",
     "text": [
      "03:02:17 77 /200  |   0.2175     0.2175     0.0000 |   0.000000   0.0000e+00 |   0.6864    75           |   0.2155     0.2155     0.0000 |   0.6653    77             |  1.000e-04   0.000e+00 |              \n"
     ]
    },
    {
     "name": "stderr",
     "output_type": "stream",
     "text": [
      "2024-09-05 03:02:18,187 - snnl.utils.utils_ptsnnl - INFO: -  Model exported to ckpts/AE_base_scpb200_150Ltnt_512_20240904_2349_BEST.pt - epoch: 77\n"
     ]
    },
    {
     "name": "stdout",
     "output_type": "stream",
     "text": [
      "03:04:39 78 /200  |   0.2175     0.2175     0.0000 |   0.000000   0.0000e+00 |   0.6868    78           |   0.2155     0.2155     0.0000 |   0.6641    77             |  1.000e-04   0.000e+00 |              \n",
      "03:07:00 79 /200  |   0.2174     0.2174     0.0000 |   0.000000   0.0000e+00 |   0.6868    79           |   0.2154     0.2154     0.0000 |   0.6644    77             |  1.000e-04   0.000e+00 |              \n",
      "03:09:21 80 /200  |   0.2174     0.2174     0.0000 |   0.000000   0.0000e+00 |   0.6869    80           |   0.2154     0.2154     0.0000 |   0.6667    80             |  1.000e-04   0.000e+00 |              \n"
     ]
    },
    {
     "name": "stderr",
     "output_type": "stream",
     "text": [
      "2024-09-05 03:09:21,896 - snnl.utils.utils_ptsnnl - INFO: -  Model exported to ckpts/AE_base_scpb200_150Ltnt_512_20240904_2349_BEST.pt - epoch: 80\n"
     ]
    },
    {
     "name": "stdout",
     "output_type": "stream",
     "text": [
      "03:11:42 81 /200  |   0.2174     0.2174     0.0000 |   0.000000   0.0000e+00 |   0.6872    81           |   0.2154     0.2154     0.0000 |   0.6664    80             |  1.000e-04   0.000e+00 |              \n",
      "03:14:04 82 /200  |   0.2173     0.2173     0.0000 |   0.000000   0.0000e+00 |   0.6869    81           |   0.2153     0.2153     0.0000 |   0.6643    80             |  1.000e-04   0.000e+00 |              \n",
      "03:16:25 83 /200  |   0.2173     0.2173     0.0000 |   0.000000   0.0000e+00 |   0.6870    81           |   0.2153     0.2153     0.0000 |   0.6660    80             |  1.000e-04   0.000e+00 |              \n",
      "03:18:45 84 /200  |   0.2173     0.2173     0.0000 |   0.000000   0.0000e+00 |   0.6871    81           |   0.2153     0.2153     0.0000 |   0.6659    80             |  1.000e-04   0.000e+00 |              \n",
      "03:21:04 85 /200  |   0.2172     0.2172     0.0000 |   0.000000   0.0000e+00 |   0.6875    85           |   0.2153     0.2153     0.0000 |   0.6665    80             |  1.000e-04   0.000e+00 |              \n",
      "03:23:25 86 /200  |   0.2172     0.2172     0.0000 |   0.000000   0.0000e+00 |   0.6875    85           |   0.2153     0.2153     0.0000 |   0.6676    86             |  1.000e-04   0.000e+00 |              \n"
     ]
    },
    {
     "name": "stderr",
     "output_type": "stream",
     "text": [
      "2024-09-05 03:23:25,559 - snnl.utils.utils_ptsnnl - INFO: -  Model exported to ckpts/AE_base_scpb200_150Ltnt_512_20240904_2349_BEST.pt - epoch: 86\n"
     ]
    },
    {
     "name": "stdout",
     "output_type": "stream",
     "text": [
      "03:25:46 87 /200  |   0.2172     0.2172     0.0000 |   0.000000   0.0000e+00 |   0.6873    85           |   0.2153     0.2153     0.0000 |   0.6652    86             |  1.000e-04   0.000e+00 |              \n",
      "03:28:07 88 /200  |   0.2171     0.2171     0.0000 |   0.000000   0.0000e+00 |   0.6874    85           |   0.2152     0.2152     0.0000 |   0.6675    86             |  1.000e-04   0.000e+00 |              \n",
      "03:30:27 89 /200  |   0.2171     0.2171     0.0000 |   0.000000   0.0000e+00 |   0.6880    89           |   0.2151     0.2151     0.0000 |   0.6673    86             |  1.000e-04   0.000e+00 |              \n",
      "03:32:48 90 /200  |   0.2171     0.2171     0.0000 |   0.000000   0.0000e+00 |   0.6875    89           |   0.2151     0.2151     0.0000 |   0.6665    86             |  1.000e-04   0.000e+00 |              \n",
      "03:35:09 91 /200  |   0.2171     0.2171     0.0000 |   0.000000   0.0000e+00 |   0.6878    89           |   0.2151     0.2151     0.0000 |   0.6678    91             |  1.000e-04   0.000e+00 |              \n"
     ]
    },
    {
     "name": "stderr",
     "output_type": "stream",
     "text": [
      "2024-09-05 03:35:09,967 - snnl.utils.utils_ptsnnl - INFO: -  Model exported to ckpts/AE_base_scpb200_150Ltnt_512_20240904_2349_BEST.pt - epoch: 91\n"
     ]
    },
    {
     "name": "stdout",
     "output_type": "stream",
     "text": [
      "03:37:30 92 /200  |   0.2170     0.2170     0.0000 |   0.000000   0.0000e+00 |   0.6875    89           |   0.2151     0.2151     0.0000 |   0.6676    91             |  1.000e-04   0.000e+00 |              \n",
      "03:39:50 93 /200  |   0.2170     0.2170     0.0000 |   0.000000   0.0000e+00 |   0.6878    89           |   0.2150     0.2150     0.0000 |   0.6682    93             |  1.000e-04   0.000e+00 |              \n"
     ]
    },
    {
     "name": "stderr",
     "output_type": "stream",
     "text": [
      "2024-09-05 03:39:51,163 - snnl.utils.utils_ptsnnl - INFO: -  Model exported to ckpts/AE_base_scpb200_150Ltnt_512_20240904_2349_BEST.pt - epoch: 93\n"
     ]
    },
    {
     "name": "stdout",
     "output_type": "stream",
     "text": [
      "03:42:11 94 /200  |   0.2170     0.2170     0.0000 |   0.000000   0.0000e+00 |   0.6884    94           |   0.2150     0.2150     0.0000 |   0.6660    93             |  1.000e-04   0.000e+00 |              \n",
      "03:44:30 95 /200  |   0.2169     0.2169     0.0000 |   0.000000   0.0000e+00 |   0.6882    94           |   0.2150     0.2150     0.0000 |   0.6680    93             |  1.000e-04   0.000e+00 |              \n",
      "03:46:51 96 /200  |   0.2169     0.2169     0.0000 |   0.000000   0.0000e+00 |   0.6883    94           |   0.2150     0.2150     0.0000 |   0.6669    93             |  1.000e-04   0.000e+00 |              \n",
      "03:49:13 97 /200  |   0.2169     0.2169     0.0000 |   0.000000   0.0000e+00 |   0.6882    94           |   0.2150     0.2150     0.0000 |   0.6671    93             |  1.000e-04   0.000e+00 |              \n",
      "03:51:35 98 /200  |   0.2168     0.2168     0.0000 |   0.000000   0.0000e+00 |   0.6885    98           |   0.2150     0.2150     0.0000 |   0.6700    98             |  1.000e-04   0.000e+00 |              \n"
     ]
    },
    {
     "name": "stderr",
     "output_type": "stream",
     "text": [
      "2024-09-05 03:51:35,788 - snnl.utils.utils_ptsnnl - INFO: -  Model exported to ckpts/AE_base_scpb200_150Ltnt_512_20240904_2349_BEST.pt - epoch: 98\n"
     ]
    },
    {
     "name": "stdout",
     "output_type": "stream",
     "text": [
      "03:53:56 99 /200  |   0.2168     0.2168     0.0000 |   0.000000   0.0000e+00 |   0.6883    98           |   0.2149     0.2149     0.0000 |   0.6672    98             |  1.000e-04   0.000e+00 |              \n",
      "                                                                                                                                                                                                              "
     ]
    },
    {
     "name": "stderr",
     "output_type": "stream",
     "text": [
      "2024-09-05 03:56:17,897 - snnl.utils.utils_ptsnnl - INFO: -  Model exported to ckpts/AE_base_scpb200_150Ltnt_512_20240904_2349_ep_100.pt - epoch: 100\n"
     ]
    },
    {
     "name": "stdout",
     "output_type": "stream",
     "text": [
      "03:56:17 100/200  |   0.2168     0.2168     0.0000 |   0.000000   0.0000e+00 |   0.6883    98           |   0.2149     0.2149     0.0000 |   0.6686    98             |  1.000e-04   0.000e+00 |\n",
      "03:58:38 101/200  |   0.2168     0.2168     0.0000 |   0.000000   0.0000e+00 |   0.6884    98           |   0.2149     0.2149     0.0000 |   0.6692    98             |  1.000e-04   0.000e+00 |              \n",
      "04:00:59 102/200  |   0.2168     0.2168     0.0000 |   0.000000   0.0000e+00 |   0.6884    98           |   0.2149     0.2149     0.0000 |   0.6701   102             |  1.000e-04   0.000e+00 |              \n"
     ]
    },
    {
     "name": "stderr",
     "output_type": "stream",
     "text": [
      "2024-09-05 04:00:59,640 - snnl.utils.utils_ptsnnl - INFO: -  Model exported to ckpts/AE_base_scpb200_150Ltnt_512_20240904_2349_BEST.pt - epoch: 102\n"
     ]
    },
    {
     "name": "stdout",
     "output_type": "stream",
     "text": [
      "04:03:20 103/200  |   0.2167     0.2167     0.0000 |   0.000000   0.0000e+00 |   0.6885    98           |   0.2148     0.2148     0.0000 |   0.6694   102             |  1.000e-04   0.000e+00 |              \n",
      "04:05:41 104/200  |   0.2167     0.2167     0.0000 |   0.000000   0.0000e+00 |   0.6888   104           |   0.2148     0.2148     0.0000 |   0.6672   102             |  1.000e-04   0.000e+00 |              \n",
      "04:08:01 105/200  |   0.2167     0.2167     0.0000 |   0.000000   0.0000e+00 |   0.6889   105           |   0.2148     0.2148     0.0000 |   0.6680   102             |  1.000e-04   0.000e+00 |              \n",
      "04:10:22 106/200  |   0.2167     0.2167     0.0000 |   0.000000   0.0000e+00 |   0.6887   105           |   0.2148     0.2148     0.0000 |   0.6689   102             |  1.000e-04   0.000e+00 |              \n",
      "04:12:42 107/200  |   0.2166     0.2166     0.0000 |   0.000000   0.0000e+00 |   0.6894   107           |   0.2147     0.2147     0.0000 |   0.6673   102             |  1.000e-04   0.000e+00 |              \n",
      "04:15:02 108/200  |   0.2166     0.2166     0.0000 |   0.000000   0.0000e+00 |   0.6888   107           |   0.2147     0.2147     0.0000 |   0.6690   102             |  1.000e-04   0.000e+00 |              \n",
      "04:17:23 109/200  |   0.2166     0.2166     0.0000 |   0.000000   0.0000e+00 |   0.6888   107           |   0.2147     0.2147     0.0000 |   0.6690   102             |  1.000e-04   0.000e+00 |              \n",
      "04:19:44 110/200  |   0.2166     0.2166     0.0000 |   0.000000   0.0000e+00 |   0.6890   107           |   0.2147     0.2147     0.0000 |   0.6705   110             |  1.000e-04   0.000e+00 |              \n"
     ]
    },
    {
     "name": "stderr",
     "output_type": "stream",
     "text": [
      "2024-09-05 04:19:45,007 - snnl.utils.utils_ptsnnl - INFO: -  Model exported to ckpts/AE_base_scpb200_150Ltnt_512_20240904_2349_BEST.pt - epoch: 110\n"
     ]
    },
    {
     "name": "stdout",
     "output_type": "stream",
     "text": [
      "04:22:06 111/200  |   0.2165     0.2165     0.0000 |   0.000000   0.0000e+00 |   0.6893   107           |   0.2147     0.2147     0.0000 |   0.6698   110             |  1.000e-04   0.000e+00 |              \n",
      "04:24:28 112/200  |   0.2165     0.2165     0.0000 |   0.000000   0.0000e+00 |   0.6890   107           |   0.2147     0.2147     0.0000 |   0.6703   110             |  1.000e-04   0.000e+00 |              \n",
      "04:26:48 113/200  |   0.2165     0.2165     0.0000 |   0.000000   0.0000e+00 |   0.6895   113           |   0.2146     0.2146     0.0000 |   0.6694   110             |  1.000e-04   0.000e+00 |              \n",
      "04:29:09 114/200  |   0.2165     0.2165     0.0000 |   0.000000   0.0000e+00 |   0.6894   113           |   0.2146     0.2146     0.0000 |   0.6712   114             |  1.000e-04   0.000e+00 |              \n"
     ]
    },
    {
     "name": "stderr",
     "output_type": "stream",
     "text": [
      "2024-09-05 04:29:10,248 - snnl.utils.utils_ptsnnl - INFO: -  Model exported to ckpts/AE_base_scpb200_150Ltnt_512_20240904_2349_BEST.pt - epoch: 114\n"
     ]
    },
    {
     "name": "stdout",
     "output_type": "stream",
     "text": [
      "04:31:28 115/200  |   0.2165     0.2165     0.0000 |   0.000000   0.0000e+00 |   0.6892   113           |   0.2146     0.2146     0.0000 |   0.6686   114             |  1.000e-04   0.000e+00 |              \n",
      "04:33:46 116/200  |   0.2164     0.2164     0.0000 |   0.000000   0.0000e+00 |   0.6897   116           |   0.2146     0.2146     0.0000 |   0.6708   114             |  1.000e-04   0.000e+00 |              \n",
      "04:36:05 117/200  |   0.2164     0.2164     0.0000 |   0.000000   0.0000e+00 |   0.6897   116           |   0.2145     0.2145     0.0000 |   0.6684   114             |  1.000e-04   0.000e+00 |              \n",
      "04:38:23 118/200  |   0.2164     0.2164     0.0000 |   0.000000   0.0000e+00 |   0.6896   116           |   0.2145     0.2145     0.0000 |   0.6718   118             |  1.000e-04   0.000e+00 |              \n"
     ]
    },
    {
     "name": "stderr",
     "output_type": "stream",
     "text": [
      "2024-09-05 04:38:23,820 - snnl.utils.utils_ptsnnl - INFO: -  Model exported to ckpts/AE_base_scpb200_150Ltnt_512_20240904_2349_BEST.pt - epoch: 118\n"
     ]
    },
    {
     "name": "stdout",
     "output_type": "stream",
     "text": [
      "04:40:42 119/200  |   0.2164     0.2164     0.0000 |   0.000000   0.0000e+00 |   0.6896   116           |   0.2145     0.2145     0.0000 |   0.6703   118             |  1.000e-04   0.000e+00 |              \n",
      "04:43:01 120/200  |   0.2163     0.2163     0.0000 |   0.000000   0.0000e+00 |   0.6895   116           |   0.2144     0.2144     0.0000 |   0.6704   118             |  1.000e-04   0.000e+00 |              \n",
      "04:45:20 121/200  |   0.2163     0.2163     0.0000 |   0.000000   0.0000e+00 |   0.6897   116           |   0.2145     0.2145     0.0000 |   0.6720   121             |  1.000e-04   0.000e+00 |              \n"
     ]
    },
    {
     "name": "stderr",
     "output_type": "stream",
     "text": [
      "2024-09-05 04:45:20,947 - snnl.utils.utils_ptsnnl - INFO: -  Model exported to ckpts/AE_base_scpb200_150Ltnt_512_20240904_2349_BEST.pt - epoch: 121\n"
     ]
    },
    {
     "name": "stdout",
     "output_type": "stream",
     "text": [
      "04:47:40 122/200  |   0.2163     0.2163     0.0000 |   0.000000   0.0000e+00 |   0.6898   122           |   0.2144     0.2144     0.0000 |   0.6718   121             |  1.000e-04   0.000e+00 |              \n",
      "04:49:59 123/200  |   0.2163     0.2163     0.0000 |   0.000000   0.0000e+00 |   0.6899   123           |   0.2144     0.2144     0.0000 |   0.6702   121             |  1.000e-04   0.000e+00 |              \n",
      "04:52:18 124/200  |   0.2163     0.2163     0.0000 |   0.000000   0.0000e+00 |   0.6902   124           |   0.2144     0.2144     0.0000 |   0.6720   124             |  1.000e-04   0.000e+00 |              \n"
     ]
    },
    {
     "name": "stderr",
     "output_type": "stream",
     "text": [
      "2024-09-05 04:52:18,973 - snnl.utils.utils_ptsnnl - INFO: -  Model exported to ckpts/AE_base_scpb200_150Ltnt_512_20240904_2349_BEST.pt - epoch: 124\n"
     ]
    },
    {
     "name": "stdout",
     "output_type": "stream",
     "text": [
      "04:54:37 125/200  |   0.2162     0.2162     0.0000 |   0.000000   0.0000e+00 |   0.6900   124           |   0.2144     0.2144     0.0000 |   0.6696   124             |  1.000e-04   0.000e+00 |              \n",
      "04:56:57 126/200  |   0.2162     0.2162     0.0000 |   0.000000   0.0000e+00 |   0.6902   124           |   0.2144     0.2144     0.0000 |   0.6703   124             |  1.000e-04   0.000e+00 |              \n",
      "04:59:16 127/200  |   0.2162     0.2162     0.0000 |   0.000000   0.0000e+00 |   0.6903   127           |   0.2144     0.2144     0.0000 |   0.6727   127             |  1.000e-04   0.000e+00 |              \n"
     ]
    },
    {
     "name": "stderr",
     "output_type": "stream",
     "text": [
      "2024-09-05 04:59:16,492 - snnl.utils.utils_ptsnnl - INFO: -  Model exported to ckpts/AE_base_scpb200_150Ltnt_512_20240904_2349_BEST.pt - epoch: 127\n"
     ]
    },
    {
     "name": "stdout",
     "output_type": "stream",
     "text": [
      "05:01:35 128/200  |   0.2162     0.2162     0.0000 |   0.000000   0.0000e+00 |   0.6903   127           |   0.2144     0.2144     0.0000 |   0.6723   127             |  1.000e-04   0.000e+00 |              \n",
      "05:03:54 129/200  |   0.2162     0.2162     0.0000 |   0.000000   0.0000e+00 |   0.6904   129           |   0.2143     0.2143     0.0000 |   0.6737   129             |  1.000e-04   0.000e+00 |              \n"
     ]
    },
    {
     "name": "stderr",
     "output_type": "stream",
     "text": [
      "2024-09-05 05:03:54,423 - snnl.utils.utils_ptsnnl - INFO: -  Model exported to ckpts/AE_base_scpb200_150Ltnt_512_20240904_2349_BEST.pt - epoch: 129\n"
     ]
    },
    {
     "name": "stdout",
     "output_type": "stream",
     "text": [
      "05:06:13 130/200  |   0.2162     0.2162     0.0000 |   0.000000   0.0000e+00 |   0.6904   129           |   0.2142     0.2142     0.0000 |   0.6714   129             |  1.000e-04   0.000e+00 |              \n",
      "05:08:32 131/200  |   0.2161     0.2161     0.0000 |   0.000000   0.0000e+00 |   0.6907   131           |   0.2143     0.2143     0.0000 |   0.6715   129             |  1.000e-04   0.000e+00 |              \n",
      "05:10:50 132/200  |   0.2161     0.2161     0.0000 |   0.000000   0.0000e+00 |   0.6905   131           |   0.2143     0.2143     0.0000 |   0.6738   132             |  1.000e-04   0.000e+00 |              \n"
     ]
    },
    {
     "name": "stderr",
     "output_type": "stream",
     "text": [
      "2024-09-05 05:10:50,814 - snnl.utils.utils_ptsnnl - INFO: -  Model exported to ckpts/AE_base_scpb200_150Ltnt_512_20240904_2349_BEST.pt - epoch: 132\n"
     ]
    },
    {
     "name": "stdout",
     "output_type": "stream",
     "text": [
      "05:13:08 133/200  |   0.2161     0.2161     0.0000 |   0.000000   0.0000e+00 |   0.6908   133           |   0.2142     0.2142     0.0000 |   0.6729   132             |  1.000e-04   0.000e+00 |              \n",
      "05:15:26 134/200  |   0.2161     0.2161     0.0000 |   0.000000   0.0000e+00 |   0.6907   133           |   0.2143     0.2143     0.0000 |   0.6730   132             |  1.000e-04   0.000e+00 |              \n",
      "05:17:46 135/200  |   0.2161     0.2161     0.0000 |   0.000000   0.0000e+00 |   0.6909   135           |   0.2142     0.2142     0.0000 |   0.6742   135             |  1.000e-04   0.000e+00 |              \n"
     ]
    },
    {
     "name": "stderr",
     "output_type": "stream",
     "text": [
      "2024-09-05 05:17:46,431 - snnl.utils.utils_ptsnnl - INFO: -  Model exported to ckpts/AE_base_scpb200_150Ltnt_512_20240904_2349_BEST.pt - epoch: 135\n"
     ]
    },
    {
     "name": "stdout",
     "output_type": "stream",
     "text": [
      "05:20:03 136/200  |   0.2160     0.2160     0.0000 |   0.000000   0.0000e+00 |   0.6908   135           |   0.2142     0.2142     0.0000 |   0.6730   135             |  1.000e-04   0.000e+00 |              \n",
      "05:22:22 137/200  |   0.2160     0.2160     0.0000 |   0.000000   0.0000e+00 |   0.6913   137           |   0.2142     0.2142     0.0000 |   0.6735   135             |  1.000e-04   0.000e+00 |              \n",
      "05:24:41 138/200  |   0.2160     0.2160     0.0000 |   0.000000   0.0000e+00 |   0.6909   137           |   0.2142     0.2142     0.0000 |   0.6719   135             |  1.000e-04   0.000e+00 |              \n",
      "05:27:00 139/200  |   0.2160     0.2160     0.0000 |   0.000000   0.0000e+00 |   0.6912   137           |   0.2142     0.2142     0.0000 |   0.6735   135             |  1.000e-04   0.000e+00 |              \n",
      "05:29:20 140/200  |   0.2160     0.2160     0.0000 |   0.000000   0.0000e+00 |   0.6912   137           |   0.2141     0.2141     0.0000 |   0.6746   140             |  1.000e-04   0.000e+00 |              \n"
     ]
    },
    {
     "name": "stderr",
     "output_type": "stream",
     "text": [
      "2024-09-05 05:29:20,426 - snnl.utils.utils_ptsnnl - INFO: -  Model exported to ckpts/AE_base_scpb200_150Ltnt_512_20240904_2349_BEST.pt - epoch: 140\n"
     ]
    },
    {
     "name": "stdout",
     "output_type": "stream",
     "text": [
      "05:31:38 141/200  |   0.2160     0.2160     0.0000 |   0.000000   0.0000e+00 |   0.6914   141           |   0.2141     0.2141     0.0000 |   0.6735   140             |  1.000e-04   0.000e+00 |              \n",
      "05:33:57 142/200  |   0.2160     0.2160     0.0000 |   0.000000   0.0000e+00 |   0.6910   141           |   0.2141     0.2141     0.0000 |   0.6738   140             |  1.000e-04   0.000e+00 |              \n",
      "05:36:15 143/200  |   0.2159     0.2159     0.0000 |   0.000000   0.0000e+00 |   0.6916   143           |   0.2141     0.2141     0.0000 |   0.6733   140             |  1.000e-04   0.000e+00 |              \n",
      "05:38:33 144/200  |   0.2159     0.2159     0.0000 |   0.000000   0.0000e+00 |   0.6915   143           |   0.2141     0.2141     0.0000 |   0.6746   144             |  1.000e-04   0.000e+00 |              \n"
     ]
    },
    {
     "name": "stderr",
     "output_type": "stream",
     "text": [
      "2024-09-05 05:38:33,544 - snnl.utils.utils_ptsnnl - INFO: -  Model exported to ckpts/AE_base_scpb200_150Ltnt_512_20240904_2349_BEST.pt - epoch: 144\n"
     ]
    },
    {
     "name": "stdout",
     "output_type": "stream",
     "text": [
      "05:40:52 145/200  |   0.2159     0.2159     0.0000 |   0.000000   0.0000e+00 |   0.6916   145           |   0.2140     0.2140     0.0000 |   0.6744   144             |  1.000e-04   0.000e+00 |              \n",
      "05:43:09 146/200  |   0.2159     0.2159     0.0000 |   0.000000   0.0000e+00 |   0.6915   145           |   0.2140     0.2140     0.0000 |   0.6719   144             |  1.000e-04   0.000e+00 |              \n",
      "05:45:28 147/200  |   0.2159     0.2159     0.0000 |   0.000000   0.0000e+00 |   0.6918   147           |   0.2141     0.2141     0.0000 |   0.6728   144             |  1.000e-04   0.000e+00 |              \n",
      "05:47:47 148/200  |   0.2159     0.2159     0.0000 |   0.000000   0.0000e+00 |   0.6916   147           |   0.2140     0.2140     0.0000 |   0.6733   144             |  1.000e-04   0.000e+00 |              \n",
      "05:50:07 149/200  |   0.2158     0.2158     0.0000 |   0.000000   0.0000e+00 |   0.6917   147           |   0.2140     0.2140     0.0000 |   0.6737   144             |  1.000e-04   0.000e+00 |              \n",
      "05:52:26 150/200  |   0.2158     0.2158     0.0000 |   0.000000   0.0000e+00 |   0.6919   150           |   0.2140     0.2140     0.0000 |   0.6729   144             |  1.000e-04   0.000e+00 |              \n",
      "05:54:44 151/200  |   0.2158     0.2158     0.0000 |   0.000000   0.0000e+00 |   0.6921   151           |   0.2139     0.2139     0.0000 |   0.6736   144             |  1.000e-04   0.000e+00 |              \n",
      "05:57:03 152/200  |   0.2158     0.2158     0.0000 |   0.000000   0.0000e+00 |   0.6917   151           |   0.2140     0.2140     0.0000 |   0.6744   144             |  1.000e-04   0.000e+00 |              \n",
      "05:59:22 153/200  |   0.2158     0.2158     0.0000 |   0.000000   0.0000e+00 |   0.6920   151           |   0.2139     0.2139     0.0000 |   0.6735   144             |  1.000e-04   0.000e+00 |              \n",
      "06:01:40 154/200  |   0.2158     0.2158     0.0000 |   0.000000   0.0000e+00 |   0.6920   151           |   0.2139     0.2139     0.0000 |   0.6749   154             |  1.000e-04   0.000e+00 |              \n"
     ]
    },
    {
     "name": "stderr",
     "output_type": "stream",
     "text": [
      "2024-09-05 06:01:40,960 - snnl.utils.utils_ptsnnl - INFO: -  Model exported to ckpts/AE_base_scpb200_150Ltnt_512_20240904_2349_BEST.pt - epoch: 154\n"
     ]
    },
    {
     "name": "stdout",
     "output_type": "stream",
     "text": [
      "06:04:00 155/200  |   0.2157     0.2157     0.0000 |   0.000000   0.0000e+00 |   0.6922   155           |   0.2140     0.2140     0.0000 |   0.6745   154             |  1.000e-04   0.000e+00 |              \n",
      "06:06:18 156/200  |   0.2157     0.2157     0.0000 |   0.000000   0.0000e+00 |   0.6920   155           |   0.2139     0.2139     0.0000 |   0.6741   154             |  1.000e-04   0.000e+00 |              \n",
      "06:08:36 157/200  |   0.2157     0.2157     0.0000 |   0.000000   0.0000e+00 |   0.6926   157           |   0.2139     0.2139     0.0000 |   0.6750   157             |  1.000e-04   0.000e+00 |              \n"
     ]
    },
    {
     "name": "stderr",
     "output_type": "stream",
     "text": [
      "2024-09-05 06:08:37,080 - snnl.utils.utils_ptsnnl - INFO: -  Model exported to ckpts/AE_base_scpb200_150Ltnt_512_20240904_2349_BEST.pt - epoch: 157\n"
     ]
    },
    {
     "name": "stdout",
     "output_type": "stream",
     "text": [
      "06:10:55 158/200  |   0.2157     0.2157     0.0000 |   0.000000   0.0000e+00 |   0.6924   157           |   0.2139     0.2139     0.0000 |   0.6764   158             |  1.000e-04   0.000e+00 |              \n"
     ]
    },
    {
     "name": "stderr",
     "output_type": "stream",
     "text": [
      "2024-09-05 06:10:55,769 - snnl.utils.utils_ptsnnl - INFO: -  Model exported to ckpts/AE_base_scpb200_150Ltnt_512_20240904_2349_BEST.pt - epoch: 158\n"
     ]
    },
    {
     "name": "stdout",
     "output_type": "stream",
     "text": [
      "06:13:14 159/200  |   0.2157     0.2157     0.0000 |   0.000000   0.0000e+00 |   0.6921   157           |   0.2139     0.2139     0.0000 |   0.6751   158             |  1.000e-04   0.000e+00 |              \n",
      "06:15:32 160/200  |   0.2157     0.2157     0.0000 |   0.000000   0.0000e+00 |   0.6926   160           |   0.2139     0.2139     0.0000 |   0.6758   158             |  1.000e-04   0.000e+00 |              \n",
      "06:17:49 161/200  |   0.2157     0.2157     0.0000 |   0.000000   0.0000e+00 |   0.6925   160           |   0.2138     0.2138     0.0000 |   0.6775   161             |  1.000e-04   0.000e+00 |              \n"
     ]
    },
    {
     "name": "stderr",
     "output_type": "stream",
     "text": [
      "2024-09-05 06:17:50,023 - snnl.utils.utils_ptsnnl - INFO: -  Model exported to ckpts/AE_base_scpb200_150Ltnt_512_20240904_2349_BEST.pt - epoch: 161\n"
     ]
    },
    {
     "name": "stdout",
     "output_type": "stream",
     "text": [
      "06:20:09 162/200  |   0.2156     0.2156     0.0000 |   0.000000   0.0000e+00 |   0.6930   162           |   0.2139     0.2139     0.0000 |   0.6756   161             |  1.000e-04   0.000e+00 |              \n",
      "06:22:28 163/200  |   0.2156     0.2156     0.0000 |   0.000000   0.0000e+00 |   0.6928   162           |   0.2138     0.2138     0.0000 |   0.6748   161             |  1.000e-04   0.000e+00 |              \n",
      "06:24:46 164/200  |   0.2156     0.2156     0.0000 |   0.000000   0.0000e+00 |   0.6928   162           |   0.2138     0.2138     0.0000 |   0.6753   161             |  1.000e-04   0.000e+00 |              \n",
      "06:27:05 165/200  |   0.2156     0.2156     0.0000 |   0.000000   0.0000e+00 |   0.6929   162           |   0.2138     0.2138     0.0000 |   0.6771   161             |  1.000e-04   0.000e+00 |              \n",
      "06:29:24 166/200  |   0.2156     0.2156     0.0000 |   0.000000   0.0000e+00 |   0.6927   162           |   0.2138     0.2138     0.0000 |   0.6761   161             |  1.000e-04   0.000e+00 |              \n",
      "06:31:42 167/200  |   0.2156     0.2156     0.0000 |   0.000000   0.0000e+00 |   0.6930   167           |   0.2139     0.2139     0.0000 |   0.6765   161             |  1.000e-04   0.000e+00 |              \n",
      "06:34:00 168/200  |   0.2156     0.2156     0.0000 |   0.000000   0.0000e+00 |   0.6928   167           |   0.2138     0.2138     0.0000 |   0.6767   161             |  1.000e-04   0.000e+00 |              \n",
      "06:36:18 169/200  |   0.2155     0.2155     0.0000 |   0.000000   0.0000e+00 |   0.6927   167           |   0.2137     0.2137     0.0000 |   0.6764   161             |  1.000e-04   0.000e+00 |              \n",
      "06:38:37 170/200  |   0.2155     0.2155     0.0000 |   0.000000   0.0000e+00 |   0.6933   170           |   0.2138     0.2138     0.0000 |   0.6766   161             |  1.000e-04   0.000e+00 |              \n",
      "06:40:56 171/200  |   0.2155     0.2155     0.0000 |   0.000000   0.0000e+00 |   0.6929   170           |   0.2137     0.2137     0.0000 |   0.6763   161             |  1.000e-04   0.000e+00 |              \n",
      "06:43:16 172/200  |   0.2155     0.2155     0.0000 |   0.000000   0.0000e+00 |   0.6934   172           |   0.2138     0.2138     0.0000 |   0.6761   161             |  1.000e-04   0.000e+00 |              \n",
      "06:45:36 173/200  |   0.2155     0.2155     0.0000 |   0.000000   0.0000e+00 |   0.6930   172           |   0.2137     0.2137     0.0000 |   0.6763   161             |  1.000e-04   0.000e+00 |              \n",
      "06:47:53 174/200  |   0.2155     0.2155     0.0000 |   0.000000   0.0000e+00 |   0.6933   172           |   0.2137     0.2137     0.0000 |   0.6781   174             |  1.000e-04   0.000e+00 |              \n"
     ]
    },
    {
     "name": "stderr",
     "output_type": "stream",
     "text": [
      "2024-09-05 06:47:53,815 - snnl.utils.utils_ptsnnl - INFO: -  Model exported to ckpts/AE_base_scpb200_150Ltnt_512_20240904_2349_BEST.pt - epoch: 174\n"
     ]
    },
    {
     "name": "stdout",
     "output_type": "stream",
     "text": [
      "06:50:11 175/200  |   0.2155     0.2155     0.0000 |   0.000000   0.0000e+00 |   0.6940   175           |   0.2138     0.2138     0.0000 |   0.6771   174             |  1.000e-04   0.000e+00 |              \n",
      "06:52:30 176/200  |   0.2155     0.2155     0.0000 |   0.000000   0.0000e+00 |   0.6933   175           |   0.2137     0.2137     0.0000 |   0.6766   174             |  1.000e-04   0.000e+00 |              \n",
      "06:54:48 177/200  |   0.2154     0.2154     0.0000 |   0.000000   0.0000e+00 |   0.6936   175           |   0.2137     0.2137     0.0000 |   0.6789   177             |  1.000e-04   0.000e+00 |              \n"
     ]
    },
    {
     "name": "stderr",
     "output_type": "stream",
     "text": [
      "2024-09-05 06:54:48,745 - snnl.utils.utils_ptsnnl - INFO: -  Model exported to ckpts/AE_base_scpb200_150Ltnt_512_20240904_2349_BEST.pt - epoch: 177\n"
     ]
    },
    {
     "name": "stdout",
     "output_type": "stream",
     "text": [
      "06:57:07 178/200  |   0.2154     0.2154     0.0000 |   0.000000   0.0000e+00 |   0.6936   175           |   0.2137     0.2137     0.0000 |   0.6766   177             |  1.000e-04   0.000e+00 |              \n",
      "06:59:25 179/200  |   0.2154     0.2154     0.0000 |   0.000000   0.0000e+00 |   0.6938   175           |   0.2137     0.2137     0.0000 |   0.6767   177             |  1.000e-04   0.000e+00 |              \n",
      "07:01:42 180/200  |   0.2154     0.2154     0.0000 |   0.000000   0.0000e+00 |   0.6937   175           |   0.2137     0.2137     0.0000 |   0.6778   177             |  1.000e-04   0.000e+00 |              \n",
      "07:04:02 181/200  |   0.2154     0.2154     0.0000 |   0.000000   0.0000e+00 |   0.6938   175           |   0.2137     0.2137     0.0000 |   0.6776   177             |  1.000e-04   0.000e+00 |              \n",
      "07:06:21 182/200  |   0.2154     0.2154     0.0000 |   0.000000   0.0000e+00 |   0.6940   175           |   0.2137     0.2137     0.0000 |   0.6784   177             |  1.000e-04   0.000e+00 |              \n",
      "07:08:40 183/200  |   0.2154     0.2154     0.0000 |   0.000000   0.0000e+00 |   0.6937   175           |   0.2136     0.2136     0.0000 |   0.6780   177             |  1.000e-04   0.000e+00 |              \n",
      "07:11:00 184/200  |   0.2154     0.2154     0.0000 |   0.000000   0.0000e+00 |   0.6935   175           |   0.2136     0.2136     0.0000 |   0.6770   177             |  1.000e-04   0.000e+00 |              \n",
      "07:13:19 185/200  |   0.2153     0.2153     0.0000 |   0.000000   0.0000e+00 |   0.6939   175           |   0.2136     0.2136     0.0000 |   0.6785   177             |  1.000e-04   0.000e+00 |              \n",
      "07:15:38 186/200  |   0.2153     0.2153     0.0000 |   0.000000   0.0000e+00 |   0.6934   175           |   0.2136     0.2136     0.0000 |   0.6776   177             |  1.000e-04   0.000e+00 |              \n",
      "07:17:57 187/200  |   0.2153     0.2153     0.0000 |   0.000000   0.0000e+00 |   0.6943   187           |   0.2136     0.2136     0.0000 |   0.6772   177             |  1.000e-04   0.000e+00 |              \n",
      "07:20:15 188/200  |   0.2153     0.2153     0.0000 |   0.000000   0.0000e+00 |   0.6941   187           |   0.2136     0.2136     0.0000 |   0.6794   188             |  1.000e-04   0.000e+00 |              \n"
     ]
    },
    {
     "name": "stderr",
     "output_type": "stream",
     "text": [
      "2024-09-05 07:20:15,564 - snnl.utils.utils_ptsnnl - INFO: -  Model exported to ckpts/AE_base_scpb200_150Ltnt_512_20240904_2349_BEST.pt - epoch: 188\n"
     ]
    },
    {
     "name": "stdout",
     "output_type": "stream",
     "text": [
      "07:22:34 189/200  |   0.2153     0.2153     0.0000 |   0.000000   0.0000e+00 |   0.6935   187           |   0.2136     0.2136     0.0000 |   0.6784   188             |  1.000e-04   0.000e+00 |              \n",
      "07:24:52 190/200  |   0.2153     0.2153     0.0000 |   0.000000   0.0000e+00 |   0.6940   187           |   0.2136     0.2136     0.0000 |   0.6783   188             |  1.000e-04   0.000e+00 |              \n",
      "07:27:11 191/200  |   0.2153     0.2153     0.0000 |   0.000000   0.0000e+00 |   0.6940   187           |   0.2136     0.2136     0.0000 |   0.6791   188             |  1.000e-04   0.000e+00 |              \n",
      "07:29:30 192/200  |   0.2153     0.2153     0.0000 |   0.000000   0.0000e+00 |   0.6945   192           |   0.2135     0.2135     0.0000 |   0.6785   188             |  1.000e-04   0.000e+00 |              \n",
      "07:31:49 193/200  |   0.2153     0.2153     0.0000 |   0.000000   0.0000e+00 |   0.6947   193           |   0.2135     0.2135     0.0000 |   0.6780   188             |  1.000e-04   0.000e+00 |              \n",
      "07:34:08 194/200  |   0.2152     0.2152     0.0000 |   0.000000   0.0000e+00 |   0.6949   194           |   0.2135     0.2135     0.0000 |   0.6787   188             |  1.000e-04   0.000e+00 |              \n",
      "07:36:29 195/200  |   0.2152     0.2152     0.0000 |   0.000000   0.0000e+00 |   0.6940   194           |   0.2135     0.2135     0.0000 |   0.6769   188             |  1.000e-04   0.000e+00 |              \n",
      "07:38:48 196/200  |   0.2152     0.2152     0.0000 |   0.000000   0.0000e+00 |   0.6943   194           |   0.2135     0.2135     0.0000 |   0.6783   188             |  1.000e-04   0.000e+00 |              \n",
      "07:41:07 197/200  |   0.2152     0.2152     0.0000 |   0.000000   0.0000e+00 |   0.6947   194           |   0.2135     0.2135     0.0000 |   0.6783   188             |  1.000e-04   0.000e+00 |              \n",
      "07:43:25 198/200  |   0.2152     0.2152     0.0000 |   0.000000   0.0000e+00 |   0.6940   194           |   0.2135     0.2135     0.0000 |   0.6781   188             |  1.000e-04   0.000e+00 |              \n",
      "07:45:45 199/200  |   0.2152     0.2152     0.0000 |   0.000000   0.0000e+00 |   0.6938   194           |   0.2134     0.2134     0.0000 |   0.6784   188             |  1.000e-04   0.000e+00 |              \n",
      "                                                                                                                                                                                                              "
     ]
    },
    {
     "name": "stderr",
     "output_type": "stream",
     "text": [
      "2024-09-05 07:48:04,472 - snnl.utils.utils_ptsnnl - INFO: -  Model exported to ckpts/AE_base_scpb200_150Ltnt_512_20240904_2349_ep_200.pt - epoch: 200\n",
      "2024-09-05 07:48:04,546 - snnl.utils.utils_ptsnnl - INFO: -  Model exported to ckpts/AE_base_scpb200_150Ltnt_512_20240904_2349_LAST_ep_200.pt - epoch: 200\n"
     ]
    },
    {
     "name": "stdout",
     "output_type": "stream",
     "text": [
      "07:48:04 200/200  |   0.2152     0.2152     0.0000 |   0.000000   0.0000e+00 |   0.6947   194           |   0.2135     0.2135     0.0000 |   0.6788   188             |  1.000e-04   0.000e+00 |\n",
      "Last Epoch 200\n",
      " 2024-09-05 07:48:04  End: epoch  200 of  200\n"
     ]
    }
   ],
   "source": [
    "print(f\" {datetime.now().strftime('%Y-%m-%d %H:%M:%S')}  Start: epoch {model.starting_epoch+1:4d} of {model.ending_epoch:4d}\")\n",
    "model.fit(args, data_loaders)\n",
    "print(f\" {datetime.now().strftime('%Y-%m-%d %H:%M:%S')}  End: epoch {model.epoch + 1:4d} of {model.ending_epoch:4d}\")\n"
   ]
  },
  {
   "cell_type": "code",
   "execution_count": 23,
   "id": "13427e94-eac0-4ce0-941e-c98020e5bed4",
   "metadata": {
    "execution": {
     "iopub.execute_input": "2024-09-05T13:38:34.884825Z",
     "iopub.status.busy": "2024-09-05T13:38:34.884262Z",
     "iopub.status.idle": "2024-09-05T17:37:18.945676Z",
     "shell.execute_reply": "2024-09-05T17:37:18.944951Z",
     "shell.execute_reply.started": "2024-09-05T13:38:34.884784Z"
    }
   },
   "outputs": [
    {
     "name": "stdout",
     "output_type": "stream",
     "text": [
      " 2024-09-05 15:38:34  Start: epoch  201 of  300\n",
      "  time   ep / eps |  Trn_loss   Primary      SNNL  |   temp*         grad    |   R2      BestEp         |  Vld_loss   Primary      SNNL  |   R2       BestEp          |   LR        temp LR    |              \n",
      "------------------+--------------------------------+-------------------------+--------------------------+--------------------------------+----------------------------|------------------------|\n",
      "15:41:04 201/300  |   0.2152     0.2152     0.0000 |   0.000000   0.0000e+00 |   0.6952   201           |   0.2135     0.2135     0.0000 |   0.6793   188             |  1.000e-04   0.000e+00 |\n",
      "15:43:34 202/300  |   0.2152     0.2152     0.0000 |   0.000000   0.0000e+00 |   0.6948   201           |   0.2134     0.2134     0.0000 |   0.6798   202             |  1.000e-04   0.000e+00 |              \n"
     ]
    },
    {
     "name": "stderr",
     "output_type": "stream",
     "text": [
      "2024-09-05 15:43:34,446 - snnl.utils.utils_ptsnnl - INFO: -  Model exported to ckpts/AE_base_scpb200_150Ltnt_512_20240904_2349_BEST.pt - epoch: 202\n"
     ]
    },
    {
     "name": "stdout",
     "output_type": "stream",
     "text": [
      "15:46:03 203/300  |   0.2152     0.2152     0.0000 |   0.000000   0.0000e+00 |   0.6951   201           |   0.2134     0.2134     0.0000 |   0.6784   202             |  1.000e-04   0.000e+00 |              \n",
      "15:48:34 204/300  |   0.2151     0.2151     0.0000 |   0.000000   0.0000e+00 |   0.6950   201           |   0.2135     0.2135     0.0000 |   0.6797   202             |  1.000e-04   0.000e+00 |              \n",
      "15:51:04 205/300  |   0.2151     0.2151     0.0000 |   0.000000   0.0000e+00 |   0.6948   201           |   0.2134     0.2134     0.0000 |   0.6805   205             |  1.000e-04   0.000e+00 |              \n"
     ]
    },
    {
     "name": "stderr",
     "output_type": "stream",
     "text": [
      "2024-09-05 15:51:04,671 - snnl.utils.utils_ptsnnl - INFO: -  Model exported to ckpts/AE_base_scpb200_150Ltnt_512_20240904_2349_BEST.pt - epoch: 205\n"
     ]
    },
    {
     "name": "stdout",
     "output_type": "stream",
     "text": [
      "15:53:35 206/300  |   0.2151     0.2151     0.0000 |   0.000000   0.0000e+00 |   0.6949   201           |   0.2134     0.2134     0.0000 |   0.6791   205             |  1.000e-04   0.000e+00 |              \n",
      "15:56:05 207/300  |   0.2151     0.2151     0.0000 |   0.000000   0.0000e+00 |   0.6951   201           |   0.2134     0.2134     0.0000 |   0.6807   207             |  1.000e-04   0.000e+00 |              \n"
     ]
    },
    {
     "name": "stderr",
     "output_type": "stream",
     "text": [
      "2024-09-05 15:56:05,376 - snnl.utils.utils_ptsnnl - INFO: -  Model exported to ckpts/AE_base_scpb200_150Ltnt_512_20240904_2349_BEST.pt - epoch: 207\n"
     ]
    },
    {
     "name": "stdout",
     "output_type": "stream",
     "text": [
      "15:58:35 208/300  |   0.2151     0.2151     0.0000 |   0.000000   0.0000e+00 |   0.6954   208           |   0.2134     0.2134     0.0000 |   0.6797   207             |  1.000e-04   0.000e+00 |              \n",
      "16:01:05 209/300  |   0.2151     0.2151     0.0000 |   0.000000   0.0000e+00 |   0.6949   208           |   0.2134     0.2134     0.0000 |   0.6791   207             |  1.000e-04   0.000e+00 |              \n",
      "16:03:36 210/300  |   0.2151     0.2151     0.0000 |   0.000000   0.0000e+00 |   0.6949   208           |   0.2134     0.2134     0.0000 |   0.6810   210             |  1.000e-04   0.000e+00 |              \n"
     ]
    },
    {
     "name": "stderr",
     "output_type": "stream",
     "text": [
      "2024-09-05 16:03:36,454 - snnl.utils.utils_ptsnnl - INFO: -  Model exported to ckpts/AE_base_scpb200_150Ltnt_512_20240904_2349_BEST.pt - epoch: 210\n"
     ]
    },
    {
     "name": "stdout",
     "output_type": "stream",
     "text": [
      "16:06:08 211/300  |   0.2151     0.2151     0.0000 |   0.000000   0.0000e+00 |   0.6948   208           |   0.2134     0.2134     0.0000 |   0.6806   210             |  1.000e-04   0.000e+00 |              \n",
      "16:08:40 212/300  |   0.2151     0.2151     0.0000 |   0.000000   0.0000e+00 |   0.6957   212           |   0.2133     0.2133     0.0000 |   0.6798   210             |  1.000e-04   0.000e+00 |              \n",
      "16:11:14 213/300  |   0.2151     0.2151     0.0000 |   0.000000   0.0000e+00 |   0.6954   212           |   0.2134     0.2134     0.0000 |   0.6802   210             |  1.000e-04   0.000e+00 |              \n",
      "16:13:46 214/300  |   0.2151     0.2151     0.0000 |   0.000000   0.0000e+00 |   0.6952   212           |   0.2134     0.2134     0.0000 |   0.6790   210             |  1.000e-04   0.000e+00 |              \n",
      "16:16:15 215/300  |   0.2150     0.2150     0.0000 |   0.000000   0.0000e+00 |   0.6955   212           |   0.2134     0.2134     0.0000 |   0.6808   210             |  1.000e-04   0.000e+00 |              \n",
      "16:18:35 216/300  |   0.2150     0.2150     0.0000 |   0.000000   0.0000e+00 |   0.6958   216           |   0.2133     0.2133     0.0000 |   0.6817   216             |  1.000e-04   0.000e+00 |              \n"
     ]
    },
    {
     "name": "stderr",
     "output_type": "stream",
     "text": [
      "2024-09-05 16:18:35,505 - snnl.utils.utils_ptsnnl - INFO: -  Model exported to ckpts/AE_base_scpb200_150Ltnt_512_20240904_2349_BEST.pt - epoch: 216\n"
     ]
    },
    {
     "name": "stdout",
     "output_type": "stream",
     "text": [
      "16:20:55 217/300  |   0.2150     0.2150     0.0000 |   0.000000   0.0000e+00 |   0.6959   217           |   0.2133     0.2133     0.0000 |   0.6792   216             |  1.000e-04   0.000e+00 |              \n",
      "16:23:15 218/300  |   0.2150     0.2150     0.0000 |   0.000000   0.0000e+00 |   0.6952   217           |   0.2133     0.2133     0.0000 |   0.6806   216             |  1.000e-04   0.000e+00 |              \n",
      "16:25:35 219/300  |   0.2150     0.2150     0.0000 |   0.000000   0.0000e+00 |   0.6957   217           |   0.2133     0.2133     0.0000 |   0.6813   216             |  1.000e-04   0.000e+00 |              \n",
      "16:27:54 220/300  |   0.2150     0.2150     0.0000 |   0.000000   0.0000e+00 |   0.6958   217           |   0.2133     0.2133     0.0000 |   0.6823   220             |  1.000e-04   0.000e+00 |              \n"
     ]
    },
    {
     "name": "stderr",
     "output_type": "stream",
     "text": [
      "2024-09-05 16:27:55,251 - snnl.utils.utils_ptsnnl - INFO: -  Model exported to ckpts/AE_base_scpb200_150Ltnt_512_20240904_2349_BEST.pt - epoch: 220\n"
     ]
    },
    {
     "name": "stdout",
     "output_type": "stream",
     "text": [
      "16:30:15 221/300  |   0.2150     0.2150     0.0000 |   0.000000   0.0000e+00 |   0.6955   217           |   0.2133     0.2133     0.0000 |   0.6838   221             |  1.000e-04   0.000e+00 |              \n"
     ]
    },
    {
     "name": "stderr",
     "output_type": "stream",
     "text": [
      "2024-09-05 16:30:15,562 - snnl.utils.utils_ptsnnl - INFO: -  Model exported to ckpts/AE_base_scpb200_150Ltnt_512_20240904_2349_BEST.pt - epoch: 221\n"
     ]
    },
    {
     "name": "stdout",
     "output_type": "stream",
     "text": [
      "16:32:35 222/300  |   0.2150     0.2150     0.0000 |   0.000000   0.0000e+00 |   0.6959   217           |   0.2133     0.2133     0.0000 |   0.6810   221             |  1.000e-04   0.000e+00 |              \n",
      "16:34:56 223/300  |   0.2150     0.2150     0.0000 |   0.000000   0.0000e+00 |   0.6961   223           |   0.2133     0.2133     0.0000 |   0.6833   221             |  1.000e-04   0.000e+00 |              \n",
      "16:37:16 224/300  |   0.2150     0.2150     0.0000 |   0.000000   0.0000e+00 |   0.6962   224           |   0.2132     0.2132     0.0000 |   0.6836   221             |  1.000e-04   0.000e+00 |              \n",
      "16:39:36 225/300  |   0.2150     0.2150     0.0000 |   0.000000   0.0000e+00 |   0.6960   224           |   0.2132     0.2132     0.0000 |   0.6809   221             |  1.000e-04   0.000e+00 |              \n",
      "16:41:56 226/300  |   0.2150     0.2150     0.0000 |   0.000000   0.0000e+00 |   0.6955   224           |   0.2133     0.2133     0.0000 |   0.6799   221             |  1.000e-04   0.000e+00 |              \n",
      "16:44:16 227/300  |   0.2149     0.2149     0.0000 |   0.000000   0.0000e+00 |   0.6959   224           |   0.2132     0.2132     0.0000 |   0.6813   221             |  1.000e-04   0.000e+00 |              \n",
      "16:46:38 228/300  |   0.2149     0.2149     0.0000 |   0.000000   0.0000e+00 |   0.6957   224           |   0.2132     0.2132     0.0000 |   0.6812   221             |  1.000e-04   0.000e+00 |              \n",
      "16:48:59 229/300  |   0.2149     0.2149     0.0000 |   0.000000   0.0000e+00 |   0.6957   224           |   0.2132     0.2132     0.0000 |   0.6823   221             |  1.000e-04   0.000e+00 |              \n",
      "16:51:19 230/300  |   0.2149     0.2149     0.0000 |   0.000000   0.0000e+00 |   0.6962   224           |   0.2132     0.2132     0.0000 |   0.6831   221             |  1.000e-04   0.000e+00 |              \n",
      "16:53:39 231/300  |   0.2149     0.2149     0.0000 |   0.000000   0.0000e+00 |   0.6961   224           |   0.2131     0.2131     0.0000 |   0.6805   221             |  1.000e-04   0.000e+00 |              \n",
      "16:56:00 232/300  |   0.2149     0.2149     0.0000 |   0.000000   0.0000e+00 |   0.6961   224           |   0.2132     0.2132     0.0000 |   0.6804   221             |  1.000e-04   0.000e+00 |              \n",
      "16:58:22 233/300  |   0.2149     0.2149     0.0000 |   0.000000   0.0000e+00 |   0.6964   233           |   0.2132     0.2132     0.0000 |   0.6816   221             |  1.000e-04   0.000e+00 |              \n",
      "17:00:43 234/300  |   0.2149     0.2149     0.0000 |   0.000000   0.0000e+00 |   0.6963   233           |   0.2132     0.2132     0.0000 |   0.6813   221             |  1.000e-04   0.000e+00 |              \n",
      "17:03:04 235/300  |   0.2149     0.2149     0.0000 |   0.000000   0.0000e+00 |   0.6960   233           |   0.2132     0.2132     0.0000 |   0.6812   221             |  1.000e-04   0.000e+00 |              \n",
      "17:05:26 236/300  |   0.2149     0.2149     0.0000 |   0.000000   0.0000e+00 |   0.6966   236           |   0.2132     0.2132     0.0000 |   0.6808   221             |  1.000e-04   0.000e+00 |              \n",
      "17:07:47 237/300  |   0.2149     0.2149     0.0000 |   0.000000   0.0000e+00 |   0.6966   236           |   0.2131     0.2131     0.0000 |   0.6829   221             |  1.000e-04   0.000e+00 |              \n",
      "17:10:08 238/300  |   0.2149     0.2149     0.0000 |   0.000000   0.0000e+00 |   0.6963   236           |   0.2132     0.2132     0.0000 |   0.6809   221             |  1.000e-04   0.000e+00 |              \n",
      "17:12:29 239/300  |   0.2148     0.2148     0.0000 |   0.000000   0.0000e+00 |   0.6965   236           |   0.2132     0.2132     0.0000 |   0.6845   239             |  1.000e-04   0.000e+00 |              \n"
     ]
    },
    {
     "name": "stderr",
     "output_type": "stream",
     "text": [
      "2024-09-05 17:12:29,743 - snnl.utils.utils_ptsnnl - INFO: -  Model exported to ckpts/AE_base_scpb200_150Ltnt_512_20240904_2349_BEST.pt - epoch: 239\n"
     ]
    },
    {
     "name": "stdout",
     "output_type": "stream",
     "text": [
      "17:14:51 240/300  |   0.2148     0.2148     0.0000 |   0.000000   0.0000e+00 |   0.6963   236           |   0.2131     0.2131     0.0000 |   0.6800   239             |  1.000e-04   0.000e+00 |              \n",
      "17:17:12 241/300  |   0.2148     0.2148     0.0000 |   0.000000   0.0000e+00 |   0.6968   241           |   0.2131     0.2131     0.0000 |   0.6833   239             |  1.000e-04   0.000e+00 |              \n",
      "17:19:33 242/300  |   0.2148     0.2148     0.0000 |   0.000000   0.0000e+00 |   0.6966   241           |   0.2132     0.2132     0.0000 |   0.6820   239             |  1.000e-04   0.000e+00 |              \n",
      "17:21:53 243/300  |   0.2148     0.2148     0.0000 |   0.000000   0.0000e+00 |   0.6965   241           |   0.2131     0.2131     0.0000 |   0.6830   239             |  1.000e-04   0.000e+00 |              \n",
      "17:24:14 244/300  |   0.2148     0.2148     0.0000 |   0.000000   0.0000e+00 |   0.6967   241           |   0.2131     0.2131     0.0000 |   0.6838   239             |  1.000e-04   0.000e+00 |              \n",
      "17:26:35 245/300  |   0.2148     0.2148     0.0000 |   0.000000   0.0000e+00 |   0.6965   241           |   0.2131     0.2131     0.0000 |   0.6819   239             |  1.000e-04   0.000e+00 |              \n",
      "17:28:57 246/300  |   0.2148     0.2148     0.0000 |   0.000000   0.0000e+00 |   0.6970   246           |   0.2131     0.2131     0.0000 |   0.6843   239             |  1.000e-04   0.000e+00 |              \n",
      "17:31:18 247/300  |   0.2148     0.2148     0.0000 |   0.000000   0.0000e+00 |   0.6969   246           |   0.2131     0.2131     0.0000 |   0.6843   239             |  1.000e-04   0.000e+00 |              \n",
      "17:33:40 248/300  |   0.2148     0.2148     0.0000 |   0.000000   0.0000e+00 |   0.6967   246           |   0.2132     0.2132     0.0000 |   0.6836   239             |  1.000e-04   0.000e+00 |              \n",
      "17:36:02 249/300  |   0.2148     0.2148     0.0000 |   0.000000   0.0000e+00 |   0.6970   246           |   0.2131     0.2131     0.0000 |   0.6825   239             |  1.000e-04   0.000e+00 |              \n",
      "17:38:23 250/300  |   0.2148     0.2148     0.0000 |   0.000000   0.0000e+00 |   0.6967   246           |   0.2131     0.2131     0.0000 |   0.6826   239             |  1.000e-04   0.000e+00 |              \n",
      "17:40:45 251/300  |   0.2148     0.2148     0.0000 |   0.000000   0.0000e+00 |   0.6968   246           |   0.2131     0.2131     0.0000 |   0.6846   251             |  1.000e-04   0.000e+00 |              \n"
     ]
    },
    {
     "name": "stderr",
     "output_type": "stream",
     "text": [
      "2024-09-05 17:40:46,250 - snnl.utils.utils_ptsnnl - INFO: -  Model exported to ckpts/AE_base_scpb200_150Ltnt_512_20240904_2349_BEST.pt - epoch: 251\n"
     ]
    },
    {
     "name": "stdout",
     "output_type": "stream",
     "text": [
      "17:43:06 252/300  |   0.2148     0.2148     0.0000 |   0.000000   0.0000e+00 |   0.6969   246           |   0.2131     0.2131     0.0000 |   0.6837   251             |  1.000e-04   0.000e+00 |              \n",
      "17:45:27 253/300  |   0.2148     0.2148     0.0000 |   0.000000   0.0000e+00 |   0.6968   246           |   0.2131     0.2131     0.0000 |   0.6818   251             |  1.000e-04   0.000e+00 |              \n",
      "17:47:49 254/300  |   0.2148     0.2148     0.0000 |   0.000000   0.0000e+00 |   0.6974   254           |   0.2130     0.2130     0.0000 |   0.6832   251             |  1.000e-04   0.000e+00 |              \n",
      "17:50:12 255/300  |   0.2148     0.2148     0.0000 |   0.000000   0.0000e+00 |   0.6965   254           |   0.2131     0.2131     0.0000 |   0.6839   251             |  1.000e-04   0.000e+00 |              \n",
      "17:52:34 256/300  |   0.2147     0.2147     0.0000 |   0.000000   0.0000e+00 |   0.6975   256           |   0.2131     0.2131     0.0000 |   0.6843   251             |  1.000e-04   0.000e+00 |              \n",
      "17:54:55 257/300  |   0.2147     0.2147     0.0000 |   0.000000   0.0000e+00 |   0.6972   256           |   0.2131     0.2131     0.0000 |   0.6837   251             |  1.000e-04   0.000e+00 |              \n",
      "17:57:17 258/300  |   0.2147     0.2147     0.0000 |   0.000000   0.0000e+00 |   0.6969   256           |   0.2131     0.2131     0.0000 |   0.6840   251             |  1.000e-04   0.000e+00 |              \n",
      "17:59:39 259/300  |   0.2147     0.2147     0.0000 |   0.000000   0.0000e+00 |   0.6970   256           |   0.2130     0.2130     0.0000 |   0.6836   251             |  1.000e-04   0.000e+00 |              \n",
      "18:02:02 260/300  |   0.2147     0.2147     0.0000 |   0.000000   0.0000e+00 |   0.6976   260           |   0.2131     0.2131     0.0000 |   0.6820   251             |  1.000e-04   0.000e+00 |              \n",
      "18:04:24 261/300  |   0.2147     0.2147     0.0000 |   0.000000   0.0000e+00 |   0.6967   260           |   0.2130     0.2130     0.0000 |   0.6822   251             |  1.000e-04   0.000e+00 |              \n",
      "18:06:46 262/300  |   0.2147     0.2147     0.0000 |   0.000000   0.0000e+00 |   0.6977   262           |   0.2130     0.2130     0.0000 |   0.6849   262             |  1.000e-04   0.000e+00 |              \n"
     ]
    },
    {
     "name": "stderr",
     "output_type": "stream",
     "text": [
      "2024-09-05 18:06:46,461 - snnl.utils.utils_ptsnnl - INFO: -  Model exported to ckpts/AE_base_scpb200_150Ltnt_512_20240904_2349_BEST.pt - epoch: 262\n"
     ]
    },
    {
     "name": "stdout",
     "output_type": "stream",
     "text": [
      "18:09:07 263/300  |   0.2147     0.2147     0.0000 |   0.000000   0.0000e+00 |   0.6973   262           |   0.2130     0.2130     0.0000 |   0.6848   262             |  1.000e-04   0.000e+00 |              \n",
      "18:11:28 264/300  |   0.2147     0.2147     0.0000 |   0.000000   0.0000e+00 |   0.6972   262           |   0.2130     0.2130     0.0000 |   0.6853   264             |  1.000e-04   0.000e+00 |              \n"
     ]
    },
    {
     "name": "stderr",
     "output_type": "stream",
     "text": [
      "2024-09-05 18:11:28,724 - snnl.utils.utils_ptsnnl - INFO: -  Model exported to ckpts/AE_base_scpb200_150Ltnt_512_20240904_2349_BEST.pt - epoch: 264\n"
     ]
    },
    {
     "name": "stdout",
     "output_type": "stream",
     "text": [
      "18:13:51 265/300  |   0.2147     0.2147     0.0000 |   0.000000   0.0000e+00 |   0.6978   265           |   0.2131     0.2131     0.0000 |   0.6833   264             |  1.000e-04   0.000e+00 |              \n",
      "18:16:13 266/300  |   0.2147     0.2147     0.0000 |   0.000000   0.0000e+00 |   0.6977   265           |   0.2130     0.2130     0.0000 |   0.6845   264             |  1.000e-04   0.000e+00 |              \n",
      "18:18:34 267/300  |   0.2147     0.2147     0.0000 |   0.000000   0.0000e+00 |   0.6974   265           |   0.2130     0.2130     0.0000 |   0.6852   264             |  1.000e-04   0.000e+00 |              \n",
      "18:20:56 268/300  |   0.2147     0.2147     0.0000 |   0.000000   0.0000e+00 |   0.6975   265           |   0.2130     0.2130     0.0000 |   0.6839   264             |  1.000e-04   0.000e+00 |              \n",
      "18:23:18 269/300  |   0.2147     0.2147     0.0000 |   0.000000   0.0000e+00 |   0.6977   265           |   0.2130     0.2130     0.0000 |   0.6832   264             |  1.000e-04   0.000e+00 |              \n",
      "18:25:40 270/300  |   0.2147     0.2147     0.0000 |   0.000000   0.0000e+00 |   0.6976   265           |   0.2130     0.2130     0.0000 |   0.6831   264             |  1.000e-04   0.000e+00 |              \n",
      "18:28:02 271/300  |   0.2147     0.2147     0.0000 |   0.000000   0.0000e+00 |   0.6980   271           |   0.2129     0.2129     0.0000 |   0.6845   264             |  1.000e-04   0.000e+00 |              \n",
      "18:30:25 272/300  |   0.2147     0.2147     0.0000 |   0.000000   0.0000e+00 |   0.6974   271           |   0.2130     0.2130     0.0000 |   0.6873   272             |  1.000e-04   0.000e+00 |              \n"
     ]
    },
    {
     "name": "stderr",
     "output_type": "stream",
     "text": [
      "2024-09-05 18:30:26,105 - snnl.utils.utils_ptsnnl - INFO: -  Model exported to ckpts/AE_base_scpb200_150Ltnt_512_20240904_2349_BEST.pt - epoch: 272\n"
     ]
    },
    {
     "name": "stdout",
     "output_type": "stream",
     "text": [
      "18:32:49 273/300  |   0.2147     0.2147     0.0000 |   0.000000   0.0000e+00 |   0.6980   273           |   0.2130     0.2130     0.0000 |   0.6853   272             |  1.000e-04   0.000e+00 |              \n",
      "18:35:12 274/300  |   0.2147     0.2147     0.0000 |   0.000000   0.0000e+00 |   0.6977   273           |   0.2130     0.2130     0.0000 |   0.6856   272             |  1.000e-04   0.000e+00 |              \n",
      "18:37:34 275/300  |   0.2146     0.2146     0.0000 |   0.000000   0.0000e+00 |   0.6978   273           |   0.2130     0.2130     0.0000 |   0.6849   272             |  1.000e-04   0.000e+00 |              \n",
      "18:39:58 276/300  |   0.2146     0.2146     0.0000 |   0.000000   0.0000e+00 |   0.6977   273           |   0.2130     0.2130     0.0000 |   0.6852   272             |  1.000e-04   0.000e+00 |              \n",
      "18:42:21 277/300  |   0.2146     0.2146     0.0000 |   0.000000   0.0000e+00 |   0.6977   273           |   0.2130     0.2130     0.0000 |   0.6845   272             |  1.000e-04   0.000e+00 |              \n",
      "18:44:44 278/300  |   0.2147     0.2147     0.0000 |   0.000000   0.0000e+00 |   0.6977   273           |   0.2130     0.2130     0.0000 |   0.6841   272             |  1.000e-04   0.000e+00 |              \n",
      "18:47:08 279/300  |   0.2146     0.2146     0.0000 |   0.000000   0.0000e+00 |   0.6979   273           |   0.2130     0.2130     0.0000 |   0.6861   272             |  1.000e-04   0.000e+00 |              \n",
      "18:49:32 280/300  |   0.2146     0.2146     0.0000 |   0.000000   0.0000e+00 |   0.6978   273           |   0.2130     0.2130     0.0000 |   0.6838   272             |  1.000e-04   0.000e+00 |              \n",
      "18:51:55 281/300  |   0.2146     0.2146     0.0000 |   0.000000   0.0000e+00 |   0.6975   273           |   0.2129     0.2129     0.0000 |   0.6864   272             |  1.000e-04   0.000e+00 |              \n",
      "18:54:18 282/300  |   0.2146     0.2146     0.0000 |   0.000000   0.0000e+00 |   0.6981   282           |   0.2130     0.2130     0.0000 |   0.6852   272             |  1.000e-04   0.000e+00 |              \n",
      "18:56:42 283/300  |   0.2146     0.2146     0.0000 |   0.000000   0.0000e+00 |   0.6979   282           |   0.2129     0.2129     0.0000 |   0.6848   272             |  1.000e-04   0.000e+00 |              \n",
      "18:59:05 284/300  |   0.2146     0.2146     0.0000 |   0.000000   0.0000e+00 |   0.6976   282           |   0.2129     0.2129     0.0000 |   0.6850   272             |  1.000e-04   0.000e+00 |              \n",
      "19:01:29 285/300  |   0.2146     0.2146     0.0000 |   0.000000   0.0000e+00 |   0.6975   282           |   0.2130     0.2130     0.0000 |   0.6853   272             |  1.000e-04   0.000e+00 |              \n",
      "19:03:53 286/300  |   0.2146     0.2146     0.0000 |   0.000000   0.0000e+00 |   0.6977   282           |   0.2130     0.2130     0.0000 |   0.6845   272             |  1.000e-04   0.000e+00 |              \n",
      "19:06:16 287/300  |   0.2146     0.2146     0.0000 |   0.000000   0.0000e+00 |   0.6979   282           |   0.2129     0.2129     0.0000 |   0.6862   272             |  1.000e-04   0.000e+00 |              \n",
      "19:08:38 288/300  |   0.2146     0.2146     0.0000 |   0.000000   0.0000e+00 |   0.6983   288           |   0.2129     0.2129     0.0000 |   0.6855   272             |  1.000e-04   0.000e+00 |              \n",
      "19:11:01 289/300  |   0.2146     0.2146     0.0000 |   0.000000   0.0000e+00 |   0.6983   288           |   0.2129     0.2129     0.0000 |   0.6855   272             |  1.000e-04   0.000e+00 |              \n",
      "19:13:24 290/300  |   0.2146     0.2146     0.0000 |   0.000000   0.0000e+00 |   0.6984   290           |   0.2129     0.2129     0.0000 |   0.6856   272             |  1.000e-04   0.000e+00 |              \n",
      "19:15:47 291/300  |   0.2146     0.2146     0.0000 |   0.000000   0.0000e+00 |   0.6982   290           |   0.2129     0.2129     0.0000 |   0.6843   272             |  1.000e-04   0.000e+00 |              \n",
      "19:18:10 292/300  |   0.2146     0.2146     0.0000 |   0.000000   0.0000e+00 |   0.6983   290           |   0.2129     0.2129     0.0000 |   0.6852   272             |  1.000e-04   0.000e+00 |              \n",
      "19:20:32 293/300  |   0.2146     0.2146     0.0000 |   0.000000   0.0000e+00 |   0.6982   290           |   0.2129     0.2129     0.0000 |   0.6873   293             |  1.000e-04   0.000e+00 |              \n"
     ]
    },
    {
     "name": "stderr",
     "output_type": "stream",
     "text": [
      "2024-09-05 19:20:32,922 - snnl.utils.utils_ptsnnl - INFO: -  Model exported to ckpts/AE_base_scpb200_150Ltnt_512_20240904_2349_BEST.pt - epoch: 293\n"
     ]
    },
    {
     "name": "stdout",
     "output_type": "stream",
     "text": [
      "19:22:56 294/300  |   0.2146     0.2146     0.0000 |   0.000000   0.0000e+00 |   0.6983   290           |   0.2129     0.2129     0.0000 |   0.6856   293             |  1.000e-04   0.000e+00 |              \n",
      "19:25:21 295/300  |   0.2146     0.2146     0.0000 |   0.000000   0.0000e+00 |   0.6982   290           |   0.2128     0.2128     0.0000 |   0.6879   295             |  1.000e-04   0.000e+00 |              \n"
     ]
    },
    {
     "name": "stderr",
     "output_type": "stream",
     "text": [
      "2024-09-05 19:25:21,447 - snnl.utils.utils_ptsnnl - INFO: -  Model exported to ckpts/AE_base_scpb200_150Ltnt_512_20240904_2349_BEST.pt - epoch: 295\n"
     ]
    },
    {
     "name": "stdout",
     "output_type": "stream",
     "text": [
      "19:27:44 296/300  |   0.2146     0.2146     0.0000 |   0.000000   0.0000e+00 |   0.6979   290           |   0.2129     0.2129     0.0000 |   0.6849   295             |  1.000e-04   0.000e+00 |              \n",
      "19:30:07 297/300  |   0.2145     0.2145     0.0000 |   0.000000   0.0000e+00 |   0.6985   297           |   0.2129     0.2129     0.0000 |   0.6866   295             |  1.000e-04   0.000e+00 |              \n",
      "19:32:31 298/300  |   0.2145     0.2145     0.0000 |   0.000000   0.0000e+00 |   0.6977   297           |   0.2128     0.2128     0.0000 |   0.6864   295             |  1.000e-04   0.000e+00 |              \n",
      "19:34:54 299/300  |   0.2146     0.2146     0.0000 |   0.000000   0.0000e+00 |   0.6986   299           |   0.2129     0.2129     0.0000 |   0.6855   295             |  1.000e-04   0.000e+00 |              \n",
      "                                                                                                                                                                                                              "
     ]
    },
    {
     "name": "stderr",
     "output_type": "stream",
     "text": [
      "2024-09-05 19:37:18,864 - snnl.utils.utils_ptsnnl - INFO: -  Model exported to ckpts/AE_base_scpb200_150Ltnt_512_20240904_2349_ep_300.pt - epoch: 300\n",
      "2024-09-05 19:37:18,936 - snnl.utils.utils_ptsnnl - INFO: -  Model exported to ckpts/AE_base_scpb200_150Ltnt_512_20240904_2349_LAST_ep_300.pt - epoch: 300\n"
     ]
    },
    {
     "name": "stdout",
     "output_type": "stream",
     "text": [
      "19:37:18 300/300  |   0.2145     0.2145     0.0000 |   0.000000   0.0000e+00 |   0.6986   300           |   0.2128     0.2128     0.0000 |   0.6852   295             |  1.000e-04   0.000e+00 |\n",
      "Last Epoch 300\n",
      " 2024-09-05 19:37:18  End: epoch  300 of  300\n"
     ]
    }
   ],
   "source": [
    "print(f\" {datetime.now().strftime('%Y-%m-%d %H:%M:%S')}  Start: epoch {model.starting_epoch+1:4d} of {model.ending_epoch:4d}\")\n",
    "model.fit(args, data_loaders)\n",
    "print(f\" {datetime.now().strftime('%Y-%m-%d %H:%M:%S')}  End: epoch {model.epoch + 1:4d} of {model.ending_epoch:4d}\")\n"
   ]
  },
  {
   "cell_type": "code",
   "execution_count": null,
   "id": "1a5d43af-620c-4d17-a340-ce3639725faf",
   "metadata": {
    "execution": {
     "iopub.execute_input": "2024-09-05T19:18:26.929853Z",
     "iopub.status.busy": "2024-09-05T19:18:26.929343Z"
    }
   },
   "outputs": [
    {
     "name": "stdout",
     "output_type": "stream",
     "text": [
      " 2024-09-05 21:18:26  Start: epoch  301 of  400\n",
      "  time   ep / eps |  Trn_loss   Primary      SNNL  |   temp*         grad    |   R2      BestEp         |  Vld_loss   Primary      SNNL  |   R2       BestEp          |   LR        temp LR    |              \n",
      "------------------+--------------------------------+-------------------------+--------------------------+--------------------------------+----------------------------|------------------------|\n",
      "21:21:18 301/400  |   0.2146     0.2146     0.0000 |   0.000000   0.0000e+00 |   0.6980   300           |   0.2129     0.2129     0.0000 |   0.6853   295             |  1.000e-04   0.000e+00 |\n",
      "21:24:14 302/400  |   0.2145     0.2145     0.0000 |   0.000000   0.0000e+00 |   0.6987   302           |   0.2129     0.2129     0.0000 |   0.6869   295             |  1.000e-04   0.000e+00 |              \n",
      "21:27:09 303/400  |   0.2145     0.2145     0.0000 |   0.000000   0.0000e+00 |   0.6987   302           |   0.2128     0.2128     0.0000 |   0.6864   295             |  1.000e-04   0.000e+00 |              \n",
      "21:30:08 304/400  |   0.2145     0.2145     0.0000 |   0.000000   0.0000e+00 |   0.6980   302           |   0.2128     0.2128     0.0000 |   0.6855   295             |  1.000e-04   0.000e+00 |              \n",
      "21:33:04 305/400  |   0.2145     0.2145     0.0000 |   0.000000   0.0000e+00 |   0.6985   302           |   0.2128     0.2128     0.0000 |   0.6845   295             |  1.000e-04   0.000e+00 |              \n",
      "21:36:01 306/400  |   0.2145     0.2145     0.0000 |   0.000000   0.0000e+00 |   0.6982   302           |   0.2128     0.2128     0.0000 |   0.6860   295             |  1.000e-04   0.000e+00 |              \n",
      "21:38:54 307/400  |   0.2145     0.2145     0.0000 |   0.000000   0.0000e+00 |   0.6986   302           |   0.2128     0.2128     0.0000 |   0.6862   295             |  1.000e-04   0.000e+00 |              \n",
      "21:41:45 308/400  |   0.2145     0.2145     0.0000 |   0.000000   0.0000e+00 |   0.6984   302           |   0.2128     0.2128     0.0000 |   0.6884   308             |  1.000e-04   0.000e+00 |              \n"
     ]
    },
    {
     "name": "stderr",
     "output_type": "stream",
     "text": [
      "2024-09-05 21:41:45,381 - snnl.utils.utils_ptsnnl - INFO: -  Model exported to ckpts/AE_base_scpb200_150Ltnt_512_20240904_2349_BEST.pt - epoch: 308\n"
     ]
    },
    {
     "name": "stdout",
     "output_type": "stream",
     "text": [
      "21:44:37 309/400  |   0.2145     0.2145     0.0000 |   0.000000   0.0000e+00 |   0.6986   302           |   0.2128     0.2128     0.0000 |   0.6851   308             |  1.000e-04   0.000e+00 |              \n",
      "21:47:27 310/400  |   0.2145     0.2145     0.0000 |   0.000000   0.0000e+00 |   0.6987   302           |   0.2128     0.2128     0.0000 |   0.6874   308             |  1.000e-04   0.000e+00 |              \n",
      "21:50:19 311/400  |   0.2145     0.2145     0.0000 |   0.000000   0.0000e+00 |   0.6989   311           |   0.2128     0.2128     0.0000 |   0.6871   308             |  1.000e-04   0.000e+00 |              \n",
      "21:53:10 312/400  |   0.2145     0.2145     0.0000 |   0.000000   0.0000e+00 |   0.6986   311           |   0.2128     0.2128     0.0000 |   0.6860   308             |  1.000e-04   0.000e+00 |              \n",
      "21:56:00 313/400  |   0.2145     0.2145     0.0000 |   0.000000   0.0000e+00 |   0.6988   311           |   0.2128     0.2128     0.0000 |   0.6858   308             |  1.000e-04   0.000e+00 |              \n",
      "21:58:51 314/400  |   0.2145     0.2145     0.0000 |   0.000000   0.0000e+00 |   0.6985   311           |   0.2128     0.2128     0.0000 |   0.6851   308             |  1.000e-04   0.000e+00 |              \n",
      "22:01:46 315/400  |   0.2145     0.2145     0.0000 |   0.000000   0.0000e+00 |   0.6986   311           |   0.2128     0.2128     0.0000 |   0.6851   308             |  1.000e-04   0.000e+00 |              \n",
      "22:04:39 316/400  |   0.2145     0.2145     0.0000 |   0.000000   0.0000e+00 |   0.6987   311           |   0.2128     0.2128     0.0000 |   0.6868   308             |  1.000e-04   0.000e+00 |              \n",
      "22:07:31 317/400  |   0.2145     0.2145     0.0000 |   0.000000   0.0000e+00 |   0.6990   317           |   0.2128     0.2128     0.0000 |   0.6868   308             |  1.000e-04   0.000e+00 |              \n",
      " Trn 318/400:  42%|████████████████████████████████████████████████▌                                                                  | 169/400 [01:06<01:29,  2.58it/s, Losses - Recon=0.21941, SNNL=0.00000]"
     ]
    }
   ],
   "source": [
    "print(f\" {datetime.now().strftime('%Y-%m-%d %H:%M:%S')}  Start: epoch {model.starting_epoch+1:4d} of {model.ending_epoch:4d}\")\n",
    "model.fit(args, data_loaders)\n",
    "print(f\" {datetime.now().strftime('%Y-%m-%d %H:%M:%S')}  End: epoch {model.epoch + 1:4d} of {model.ending_epoch:4d}\")\n"
   ]
  },
  {
   "cell_type": "code",
   "execution_count": null,
   "id": "ee6dc79c-ac40-439c-8740-de1220c604ee",
   "metadata": {},
   "outputs": [],
   "source": [
    "# model.use_temp_optimizer\n",
    "# take_checkpoint(model, args, epoch=306, update_best = True)\n",
    "# model.use_temp_optimizer\n",
    "# model.temp_params\n",
    "# model.anneal_patience = 30\n",
    "# model.optimizers['prim'].param_groups[0]"
   ]
  },
  {
   "cell_type": "code",
   "execution_count": 27,
   "id": "4283bd5c-f638-42aa-bd96-32dd1688cf07",
   "metadata": {
    "execution": {
     "iopub.execute_input": "2024-09-06T15:36:17.031885Z",
     "iopub.status.busy": "2024-09-06T15:36:17.031371Z",
     "iopub.status.idle": "2024-09-06T15:36:17.098769Z",
     "shell.execute_reply": "2024-09-06T15:36:17.097880Z",
     "shell.execute_reply.started": "2024-09-06T15:36:17.031841Z"
    }
   },
   "outputs": [
    {
     "data": {
      "text/plain": [
       "(399, 300, 400)"
      ]
     },
     "execution_count": 27,
     "metadata": {},
     "output_type": "execute_result"
    }
   ],
   "source": [
    "model.epoch, model.starting_epoch, model.ending_epoch"
   ]
  },
  {
   "cell_type": "code",
   "execution_count": 28,
   "id": "b903fb80-57b0-44d0-bb4a-a84abb989fb0",
   "metadata": {
    "execution": {
     "iopub.execute_input": "2024-09-06T15:36:19.279595Z",
     "iopub.status.busy": "2024-09-06T15:36:19.279089Z",
     "iopub.status.idle": "2024-09-06T15:36:19.384935Z",
     "shell.execute_reply": "2024-09-06T15:36:19.384014Z",
     "shell.execute_reply.started": "2024-09-06T15:36:19.279562Z"
    },
    "scrolled": true
   },
   "outputs": [
    {
     "name": "stdout",
     "output_type": "stream",
     "text": [
      "  time   ep / eps |  Trn_loss   Primary      SNNL  |   temp*         grad    |   R2      BestEp         |  Vld_loss   Primary      SNNL  |   R2       BestEp          |   LR        temp LR    |\n",
      "------------------+--------------------------------+-------------------------+--------------------------+--------------------------------+----------------------------|------------------------|\n",
      "23:53:53  1 /400  |   0.8022     0.8022     0.0000 |   0.000000   0.0000e+00 | -11.2477   395           |   0.4903     0.4903     0.0000 |  -3.2587   398             |  1.000e-04   0.000e+00 |\n",
      "23:56:14  2 /400  |   0.4024     0.4024     0.0000 |   0.000000   0.0000e+00 |  -1.7701   395           |   0.3328     0.3328     0.0000 |  -0.4671   398             |  1.000e-04   0.000e+00 |\n",
      "23:58:46  3 /400  |   0.3052     0.3052     0.0000 |   0.000000   0.0000e+00 |  -0.0475   395           |   0.2759     0.2759     0.0000 |   0.2103   398             |  1.000e-04   0.000e+00 |\n",
      "00:01:23  4 /400  |   0.2650     0.2650     0.0000 |   0.000000   0.0000e+00 |   0.4125   395           |   0.2501     0.2501     0.0000 |   0.4274   398             |  1.000e-04   0.000e+00 |\n",
      "00:03:59  5 /400  |   0.2458     0.2458     0.0000 |   0.000000   0.0000e+00 |   0.5795   395           |   0.2370     0.2370     0.0000 |   0.5170   398             |  1.000e-04   0.000e+00 |\n",
      "00:06:36  6 /400  |   0.2361     0.2361     0.0000 |   0.000000   0.0000e+00 |   0.6332   395           |   0.2304     0.2304     0.0000 |   0.5686   398             |  1.000e-04   0.000e+00 |\n",
      "00:09:10  7 /400  |   0.2307     0.2307     0.0000 |   0.000000   0.0000e+00 |   0.6535   395           |   0.2260     0.2260     0.0000 |   0.5887   398             |  1.000e-04   0.000e+00 |\n",
      "00:11:43  8 /400  |   0.2271     0.2271     0.0000 |   0.000000   0.0000e+00 |   0.6667   395           |   0.2233     0.2233     0.0000 |   0.6049   398             |  1.000e-04   0.000e+00 |\n",
      "00:14:16  9 /400  |   0.2252     0.2252     0.0000 |   0.000000   0.0000e+00 |   0.6722   395           |   0.2219     0.2219     0.0000 |   0.6197   398             |  1.000e-04   0.000e+00 |\n",
      "00:16:48 10 /400  |   0.2242     0.2242     0.0000 |   0.000000   0.0000e+00 |   0.6752   395           |   0.2213     0.2213     0.0000 |   0.6293   398             |  1.000e-04   0.000e+00 |\n",
      "00:19:19 11 /400  |   0.2237     0.2237     0.0000 |   0.000000   0.0000e+00 |   0.6777   395           |   0.2208     0.2208     0.0000 |   0.6366   398             |  1.000e-04   0.000e+00 |\n",
      "00:21:51 12 /400  |   0.2234     0.2234     0.0000 |   0.000000   0.0000e+00 |   0.6789   395           |   0.2206     0.2206     0.0000 |   0.6424   398             |  1.000e-04   0.000e+00 |\n",
      "00:24:20 13 /400  |   0.2231     0.2231     0.0000 |   0.000000   0.0000e+00 |   0.6793   395           |   0.2203     0.2203     0.0000 |   0.6468   398             |  1.000e-04   0.000e+00 |\n",
      "00:26:51 14 /400  |   0.2229     0.2229     0.0000 |   0.000000   0.0000e+00 |   0.6795   395           |   0.2201     0.2201     0.0000 |   0.6494   398             |  1.000e-04   0.000e+00 |\n",
      "00:29:23 15 /400  |   0.2227     0.2227     0.0000 |   0.000000   0.0000e+00 |   0.6795   395           |   0.2199     0.2199     0.0000 |   0.6518   398             |  1.000e-04   0.000e+00 |\n",
      "00:31:55 16 /400  |   0.2225     0.2225     0.0000 |   0.000000   0.0000e+00 |   0.6797   395           |   0.2198     0.2198     0.0000 |   0.6537   398             |  1.000e-04   0.000e+00 |\n",
      "00:34:27 17 /400  |   0.2223     0.2223     0.0000 |   0.000000   0.0000e+00 |   0.6799   395           |   0.2195     0.2195     0.0000 |   0.6544   398             |  1.000e-04   0.000e+00 |\n",
      "00:37:00 18 /400  |   0.2221     0.2221     0.0000 |   0.000000   0.0000e+00 |   0.6801   395           |   0.2194     0.2194     0.0000 |   0.6550   398             |  1.000e-04   0.000e+00 |\n",
      "00:39:32 19 /400  |   0.2220     0.2220     0.0000 |   0.000000   0.0000e+00 |   0.6804   395           |   0.2193     0.2193     0.0000 |   0.6556   398             |  1.000e-04   0.000e+00 |\n",
      "00:42:04 20 /400  |   0.2218     0.2218     0.0000 |   0.000000   0.0000e+00 |   0.6805   395           |   0.2191     0.2191     0.0000 |   0.6564   398             |  1.000e-04   0.000e+00 |\n",
      "00:44:35 21 /400  |   0.2216     0.2216     0.0000 |   0.000000   0.0000e+00 |   0.6807   395           |   0.2190     0.2190     0.0000 |   0.6564   398             |  1.000e-04   0.000e+00 |\n",
      "00:47:05 22 /400  |   0.2214     0.2214     0.0000 |   0.000000   0.0000e+00 |   0.6808   395           |   0.2188     0.2188     0.0000 |   0.6571   398             |  1.000e-04   0.000e+00 |\n",
      "00:49:37 23 /400  |   0.2213     0.2213     0.0000 |   0.000000   0.0000e+00 |   0.6811   395           |   0.2187     0.2187     0.0000 |   0.6575   398             |  1.000e-04   0.000e+00 |\n",
      "00:52:08 24 /400  |   0.2211     0.2211     0.0000 |   0.000000   0.0000e+00 |   0.6813   395           |   0.2186     0.2186     0.0000 |   0.6579   398             |  1.000e-04   0.000e+00 |\n",
      "00:54:39 25 /400  |   0.2210     0.2210     0.0000 |   0.000000   0.0000e+00 |   0.6813   395           |   0.2184     0.2184     0.0000 |   0.6579   398             |  1.000e-04   0.000e+00 |\n",
      "00:57:11 26 /400  |   0.2209     0.2209     0.0000 |   0.000000   0.0000e+00 |   0.6817   395           |   0.2183     0.2183     0.0000 |   0.6588   398             |  1.000e-04   0.000e+00 |\n",
      "00:59:43 27 /400  |   0.2208     0.2208     0.0000 |   0.000000   0.0000e+00 |   0.6813   395           |   0.2182     0.2182     0.0000 |   0.6585   398             |  1.000e-04   0.000e+00 |\n",
      "01:02:15 28 /400  |   0.2206     0.2206     0.0000 |   0.000000   0.0000e+00 |   0.6815   395           |   0.2181     0.2181     0.0000 |   0.6588   398             |  1.000e-04   0.000e+00 |\n",
      "01:04:47 29 /400  |   0.2205     0.2205     0.0000 |   0.000000   0.0000e+00 |   0.6823   395           |   0.2180     0.2180     0.0000 |   0.6590   398             |  1.000e-04   0.000e+00 |\n",
      "01:07:19 30 /400  |   0.2204     0.2204     0.0000 |   0.000000   0.0000e+00 |   0.6818   395           |   0.2179     0.2179     0.0000 |   0.6593   398             |  1.000e-04   0.000e+00 |\n",
      "01:09:50 31 /400  |   0.2203     0.2203     0.0000 |   0.000000   0.0000e+00 |   0.6823   395           |   0.2177     0.2177     0.0000 |   0.6586   398             |  1.000e-04   0.000e+00 |\n",
      "01:12:19 32 /400  |   0.2202     0.2202     0.0000 |   0.000000   0.0000e+00 |   0.6820   395           |   0.2177     0.2177     0.0000 |   0.6588   398             |  1.000e-04   0.000e+00 |\n",
      "01:14:47 33 /400  |   0.2201     0.2201     0.0000 |   0.000000   0.0000e+00 |   0.6818   395           |   0.2176     0.2176     0.0000 |   0.6594   398             |  1.000e-04   0.000e+00 |\n",
      "01:17:15 34 /400  |   0.2200     0.2200     0.0000 |   0.000000   0.0000e+00 |   0.6821   395           |   0.2175     0.2175     0.0000 |   0.6594   398             |  1.000e-04   0.000e+00 |\n",
      "01:19:42 35 /400  |   0.2199     0.2199     0.0000 |   0.000000   0.0000e+00 |   0.6822   395           |   0.2174     0.2174     0.0000 |   0.6577   398             |  1.000e-04   0.000e+00 |\n",
      "01:22:10 36 /400  |   0.2198     0.2198     0.0000 |   0.000000   0.0000e+00 |   0.6822   395           |   0.2173     0.2173     0.0000 |   0.6594   398             |  1.000e-04   0.000e+00 |\n",
      "01:24:37 37 /400  |   0.2197     0.2197     0.0000 |   0.000000   0.0000e+00 |   0.6825   395           |   0.2172     0.2172     0.0000 |   0.6590   398             |  1.000e-04   0.000e+00 |\n",
      "01:27:05 38 /400  |   0.2196     0.2196     0.0000 |   0.000000   0.0000e+00 |   0.6824   395           |   0.2172     0.2172     0.0000 |   0.6605   398             |  1.000e-04   0.000e+00 |\n",
      "01:29:33 39 /400  |   0.2195     0.2195     0.0000 |   0.000000   0.0000e+00 |   0.6829   395           |   0.2171     0.2171     0.0000 |   0.6600   398             |  1.000e-04   0.000e+00 |\n",
      "01:32:01 40 /400  |   0.2194     0.2194     0.0000 |   0.000000   0.0000e+00 |   0.6828   395           |   0.2170     0.2170     0.0000 |   0.6599   398             |  1.000e-04   0.000e+00 |\n",
      "01:34:29 41 /400  |   0.2194     0.2194     0.0000 |   0.000000   0.0000e+00 |   0.6828   395           |   0.2170     0.2170     0.0000 |   0.6614   398             |  1.000e-04   0.000e+00 |\n",
      "01:37:03 42 /400  |   0.2193     0.2193     0.0000 |   0.000000   0.0000e+00 |   0.6828   395           |   0.2168     0.2168     0.0000 |   0.6609   398             |  1.000e-04   0.000e+00 |\n",
      "01:39:35 43 /400  |   0.2192     0.2192     0.0000 |   0.000000   0.0000e+00 |   0.6830   395           |   0.2168     0.2168     0.0000 |   0.6609   398             |  1.000e-04   0.000e+00 |\n",
      "01:42:04 44 /400  |   0.2192     0.2192     0.0000 |   0.000000   0.0000e+00 |   0.6831   395           |   0.2167     0.2167     0.0000 |   0.6601   398             |  1.000e-04   0.000e+00 |\n",
      "01:44:33 45 /400  |   0.2191     0.2191     0.0000 |   0.000000   0.0000e+00 |   0.6833   395           |   0.2167     0.2167     0.0000 |   0.6603   398             |  1.000e-04   0.000e+00 |\n",
      "01:47:02 46 /400  |   0.2190     0.2190     0.0000 |   0.000000   0.0000e+00 |   0.6835   395           |   0.2167     0.2167     0.0000 |   0.6596   398             |  1.000e-04   0.000e+00 |\n",
      "01:49:31 47 /400  |   0.2190     0.2190     0.0000 |   0.000000   0.0000e+00 |   0.6836   395           |   0.2166     0.2166     0.0000 |   0.6599   398             |  1.000e-04   0.000e+00 |\n",
      "01:52:01 48 /400  |   0.2189     0.2189     0.0000 |   0.000000   0.0000e+00 |   0.6837   395           |   0.2165     0.2165     0.0000 |   0.6606   398             |  1.000e-04   0.000e+00 |\n",
      "01:54:31 49 /400  |   0.2188     0.2188     0.0000 |   0.000000   0.0000e+00 |   0.6837   395           |   0.2165     0.2165     0.0000 |   0.6603   398             |  1.000e-04   0.000e+00 |\n",
      "01:57:02 50 /400  |   0.2188     0.2188     0.0000 |   0.000000   0.0000e+00 |   0.6841   395           |   0.2164     0.2164     0.0000 |   0.6595   398             |  1.000e-04   0.000e+00 |\n",
      "01:59:32 51 /400  |   0.2187     0.2187     0.0000 |   0.000000   0.0000e+00 |   0.6840   395           |   0.2164     0.2164     0.0000 |   0.6585   398             |  1.000e-04   0.000e+00 |\n",
      "02:02:03 52 /400  |   0.2186     0.2186     0.0000 |   0.000000   0.0000e+00 |   0.6839   395           |   0.2164     0.2164     0.0000 |   0.6608   398             |  1.000e-04   0.000e+00 |\n",
      "02:04:33 53 /400  |   0.2186     0.2186     0.0000 |   0.000000   0.0000e+00 |   0.6841   395           |   0.2164     0.2164     0.0000 |   0.6615   398             |  1.000e-04   0.000e+00 |\n",
      "02:07:04 54 /400  |   0.2185     0.2185     0.0000 |   0.000000   0.0000e+00 |   0.6841   395           |   0.2163     0.2163     0.0000 |   0.6610   398             |  1.000e-04   0.000e+00 |\n",
      "02:09:36 55 /400  |   0.2185     0.2185     0.0000 |   0.000000   0.0000e+00 |   0.6842   395           |   0.2163     0.2163     0.0000 |   0.6594   398             |  1.000e-04   0.000e+00 |\n",
      "02:12:06 56 /400  |   0.2184     0.2184     0.0000 |   0.000000   0.0000e+00 |   0.6848   395           |   0.2162     0.2162     0.0000 |   0.6584   398             |  1.000e-04   0.000e+00 |\n",
      "02:14:36 57 /400  |   0.2184     0.2184     0.0000 |   0.000000   0.0000e+00 |   0.6847   395           |   0.2162     0.2162     0.0000 |   0.6620   398             |  1.000e-04   0.000e+00 |\n",
      "02:17:06 58 /400  |   0.2183     0.2183     0.0000 |   0.000000   0.0000e+00 |   0.6844   395           |   0.2161     0.2161     0.0000 |   0.6614   398             |  1.000e-04   0.000e+00 |\n",
      "02:19:35 59 /400  |   0.2183     0.2183     0.0000 |   0.000000   0.0000e+00 |   0.6846   395           |   0.2161     0.2161     0.0000 |   0.6615   398             |  1.000e-04   0.000e+00 |\n",
      "02:22:06 60 /400  |   0.2182     0.2182     0.0000 |   0.000000   0.0000e+00 |   0.6853   395           |   0.2161     0.2161     0.0000 |   0.6609   398             |  1.000e-04   0.000e+00 |\n",
      "02:24:36 61 /400  |   0.2182     0.2182     0.0000 |   0.000000   0.0000e+00 |   0.6848   395           |   0.2161     0.2161     0.0000 |   0.6599   398             |  1.000e-04   0.000e+00 |\n",
      "02:27:01 62 /400  |   0.2181     0.2181     0.0000 |   0.000000   0.0000e+00 |   0.6851   395           |   0.2160     0.2160     0.0000 |   0.6600   398             |  1.000e-04   0.000e+00 |\n",
      "02:29:21 63 /400  |   0.2181     0.2181     0.0000 |   0.000000   0.0000e+00 |   0.6850   395           |   0.2160     0.2160     0.0000 |   0.6621   398             |  1.000e-04   0.000e+00 |\n",
      "02:31:44 64 /400  |   0.2180     0.2180     0.0000 |   0.000000   0.0000e+00 |   0.6856   395           |   0.2159     0.2159     0.0000 |   0.6598   398             |  1.000e-04   0.000e+00 |\n",
      "02:34:05 65 /400  |   0.2180     0.2180     0.0000 |   0.000000   0.0000e+00 |   0.6853   395           |   0.2159     0.2159     0.0000 |   0.6632   398             |  1.000e-04   0.000e+00 |\n",
      "02:36:27 66 /400  |   0.2179     0.2179     0.0000 |   0.000000   0.0000e+00 |   0.6855   395           |   0.2158     0.2158     0.0000 |   0.6616   398             |  1.000e-04   0.000e+00 |\n",
      "02:38:50 67 /400  |   0.2179     0.2179     0.0000 |   0.000000   0.0000e+00 |   0.6859   395           |   0.2158     0.2158     0.0000 |   0.6625   398             |  1.000e-04   0.000e+00 |\n",
      "02:41:10 68 /400  |   0.2178     0.2178     0.0000 |   0.000000   0.0000e+00 |   0.6860   395           |   0.2158     0.2158     0.0000 |   0.6635   398             |  1.000e-04   0.000e+00 |\n",
      "02:43:32 69 /400  |   0.2178     0.2178     0.0000 |   0.000000   0.0000e+00 |   0.6858   395           |   0.2157     0.2157     0.0000 |   0.6619   398             |  1.000e-04   0.000e+00 |\n",
      "02:45:52 70 /400  |   0.2177     0.2177     0.0000 |   0.000000   0.0000e+00 |   0.6860   395           |   0.2158     0.2158     0.0000 |   0.6623   398             |  1.000e-04   0.000e+00 |\n",
      "02:48:12 71 /400  |   0.2177     0.2177     0.0000 |   0.000000   0.0000e+00 |   0.6859   395           |   0.2157     0.2157     0.0000 |   0.6617   398             |  1.000e-04   0.000e+00 |\n",
      "02:50:32 72 /400  |   0.2177     0.2177     0.0000 |   0.000000   0.0000e+00 |   0.6863   395           |   0.2157     0.2157     0.0000 |   0.6625   398             |  1.000e-04   0.000e+00 |\n",
      "02:52:53 73 /400  |   0.2176     0.2176     0.0000 |   0.000000   0.0000e+00 |   0.6861   395           |   0.2156     0.2156     0.0000 |   0.6624   398             |  1.000e-04   0.000e+00 |\n",
      "02:55:14 74 /400  |   0.2176     0.2176     0.0000 |   0.000000   0.0000e+00 |   0.6864   395           |   0.2156     0.2156     0.0000 |   0.6616   398             |  1.000e-04   0.000e+00 |\n",
      "02:57:35 75 /400  |   0.2176     0.2176     0.0000 |   0.000000   0.0000e+00 |   0.6866   395           |   0.2156     0.2156     0.0000 |   0.6639   398             |  1.000e-04   0.000e+00 |\n",
      "02:59:56 76 /400  |   0.2175     0.2175     0.0000 |   0.000000   0.0000e+00 |   0.6861   395           |   0.2156     0.2156     0.0000 |   0.6647   398             |  1.000e-04   0.000e+00 |\n",
      "03:02:17 77 /400  |   0.2175     0.2175     0.0000 |   0.000000   0.0000e+00 |   0.6864   395           |   0.2155     0.2155     0.0000 |   0.6653   398             |  1.000e-04   0.000e+00 |\n",
      "03:04:39 78 /400  |   0.2175     0.2175     0.0000 |   0.000000   0.0000e+00 |   0.6868   395           |   0.2155     0.2155     0.0000 |   0.6641   398             |  1.000e-04   0.000e+00 |\n",
      "03:07:00 79 /400  |   0.2174     0.2174     0.0000 |   0.000000   0.0000e+00 |   0.6868   395           |   0.2154     0.2154     0.0000 |   0.6644   398             |  1.000e-04   0.000e+00 |\n",
      "03:09:21 80 /400  |   0.2174     0.2174     0.0000 |   0.000000   0.0000e+00 |   0.6869   395           |   0.2154     0.2154     0.0000 |   0.6667   398             |  1.000e-04   0.000e+00 |\n",
      "03:11:42 81 /400  |   0.2174     0.2174     0.0000 |   0.000000   0.0000e+00 |   0.6872   395           |   0.2154     0.2154     0.0000 |   0.6664   398             |  1.000e-04   0.000e+00 |\n",
      "03:14:04 82 /400  |   0.2173     0.2173     0.0000 |   0.000000   0.0000e+00 |   0.6869   395           |   0.2153     0.2153     0.0000 |   0.6643   398             |  1.000e-04   0.000e+00 |\n",
      "03:16:25 83 /400  |   0.2173     0.2173     0.0000 |   0.000000   0.0000e+00 |   0.6870   395           |   0.2153     0.2153     0.0000 |   0.6660   398             |  1.000e-04   0.000e+00 |\n",
      "03:18:45 84 /400  |   0.2173     0.2173     0.0000 |   0.000000   0.0000e+00 |   0.6871   395           |   0.2153     0.2153     0.0000 |   0.6659   398             |  1.000e-04   0.000e+00 |\n",
      "03:21:04 85 /400  |   0.2172     0.2172     0.0000 |   0.000000   0.0000e+00 |   0.6875   395           |   0.2153     0.2153     0.0000 |   0.6665   398             |  1.000e-04   0.000e+00 |\n",
      "03:23:25 86 /400  |   0.2172     0.2172     0.0000 |   0.000000   0.0000e+00 |   0.6875   395           |   0.2153     0.2153     0.0000 |   0.6676   398             |  1.000e-04   0.000e+00 |\n",
      "03:25:46 87 /400  |   0.2172     0.2172     0.0000 |   0.000000   0.0000e+00 |   0.6873   395           |   0.2153     0.2153     0.0000 |   0.6652   398             |  1.000e-04   0.000e+00 |\n",
      "03:28:07 88 /400  |   0.2171     0.2171     0.0000 |   0.000000   0.0000e+00 |   0.6874   395           |   0.2152     0.2152     0.0000 |   0.6675   398             |  1.000e-04   0.000e+00 |\n",
      "03:30:27 89 /400  |   0.2171     0.2171     0.0000 |   0.000000   0.0000e+00 |   0.6880   395           |   0.2151     0.2151     0.0000 |   0.6673   398             |  1.000e-04   0.000e+00 |\n",
      "03:32:48 90 /400  |   0.2171     0.2171     0.0000 |   0.000000   0.0000e+00 |   0.6875   395           |   0.2151     0.2151     0.0000 |   0.6665   398             |  1.000e-04   0.000e+00 |\n",
      "03:35:09 91 /400  |   0.2171     0.2171     0.0000 |   0.000000   0.0000e+00 |   0.6878   395           |   0.2151     0.2151     0.0000 |   0.6678   398             |  1.000e-04   0.000e+00 |\n",
      "03:37:30 92 /400  |   0.2170     0.2170     0.0000 |   0.000000   0.0000e+00 |   0.6875   395           |   0.2151     0.2151     0.0000 |   0.6676   398             |  1.000e-04   0.000e+00 |\n",
      "03:39:50 93 /400  |   0.2170     0.2170     0.0000 |   0.000000   0.0000e+00 |   0.6878   395           |   0.2150     0.2150     0.0000 |   0.6682   398             |  1.000e-04   0.000e+00 |\n",
      "03:42:11 94 /400  |   0.2170     0.2170     0.0000 |   0.000000   0.0000e+00 |   0.6884   395           |   0.2150     0.2150     0.0000 |   0.6660   398             |  1.000e-04   0.000e+00 |\n",
      "03:44:30 95 /400  |   0.2169     0.2169     0.0000 |   0.000000   0.0000e+00 |   0.6882   395           |   0.2150     0.2150     0.0000 |   0.6680   398             |  1.000e-04   0.000e+00 |\n",
      "03:46:51 96 /400  |   0.2169     0.2169     0.0000 |   0.000000   0.0000e+00 |   0.6883   395           |   0.2150     0.2150     0.0000 |   0.6669   398             |  1.000e-04   0.000e+00 |\n",
      "03:49:13 97 /400  |   0.2169     0.2169     0.0000 |   0.000000   0.0000e+00 |   0.6882   395           |   0.2150     0.2150     0.0000 |   0.6671   398             |  1.000e-04   0.000e+00 |\n",
      "03:51:35 98 /400  |   0.2168     0.2168     0.0000 |   0.000000   0.0000e+00 |   0.6885   395           |   0.2150     0.2150     0.0000 |   0.6700   398             |  1.000e-04   0.000e+00 |\n",
      "03:53:56 99 /400  |   0.2168     0.2168     0.0000 |   0.000000   0.0000e+00 |   0.6883   395           |   0.2149     0.2149     0.0000 |   0.6672   398             |  1.000e-04   0.000e+00 |\n",
      "03:56:17 100/400  |   0.2168     0.2168     0.0000 |   0.000000   0.0000e+00 |   0.6883   395           |   0.2149     0.2149     0.0000 |   0.6686   398             |  1.000e-04   0.000e+00 |\n",
      "03:58:38 101/400  |   0.2168     0.2168     0.0000 |   0.000000   0.0000e+00 |   0.6884   395           |   0.2149     0.2149     0.0000 |   0.6692   398             |  1.000e-04   0.000e+00 |\n",
      "04:00:59 102/400  |   0.2168     0.2168     0.0000 |   0.000000   0.0000e+00 |   0.6884   395           |   0.2149     0.2149     0.0000 |   0.6701   398             |  1.000e-04   0.000e+00 |\n",
      "04:03:20 103/400  |   0.2167     0.2167     0.0000 |   0.000000   0.0000e+00 |   0.6885   395           |   0.2148     0.2148     0.0000 |   0.6694   398             |  1.000e-04   0.000e+00 |\n",
      "04:05:41 104/400  |   0.2167     0.2167     0.0000 |   0.000000   0.0000e+00 |   0.6888   395           |   0.2148     0.2148     0.0000 |   0.6672   398             |  1.000e-04   0.000e+00 |\n",
      "04:08:01 105/400  |   0.2167     0.2167     0.0000 |   0.000000   0.0000e+00 |   0.6889   395           |   0.2148     0.2148     0.0000 |   0.6680   398             |  1.000e-04   0.000e+00 |\n",
      "04:10:22 106/400  |   0.2167     0.2167     0.0000 |   0.000000   0.0000e+00 |   0.6887   395           |   0.2148     0.2148     0.0000 |   0.6689   398             |  1.000e-04   0.000e+00 |\n",
      "04:12:42 107/400  |   0.2166     0.2166     0.0000 |   0.000000   0.0000e+00 |   0.6894   395           |   0.2147     0.2147     0.0000 |   0.6673   398             |  1.000e-04   0.000e+00 |\n",
      "04:15:02 108/400  |   0.2166     0.2166     0.0000 |   0.000000   0.0000e+00 |   0.6888   395           |   0.2147     0.2147     0.0000 |   0.6690   398             |  1.000e-04   0.000e+00 |\n",
      "04:17:23 109/400  |   0.2166     0.2166     0.0000 |   0.000000   0.0000e+00 |   0.6888   395           |   0.2147     0.2147     0.0000 |   0.6690   398             |  1.000e-04   0.000e+00 |\n",
      "04:19:44 110/400  |   0.2166     0.2166     0.0000 |   0.000000   0.0000e+00 |   0.6890   395           |   0.2147     0.2147     0.0000 |   0.6705   398             |  1.000e-04   0.000e+00 |\n",
      "04:22:06 111/400  |   0.2165     0.2165     0.0000 |   0.000000   0.0000e+00 |   0.6893   395           |   0.2147     0.2147     0.0000 |   0.6698   398             |  1.000e-04   0.000e+00 |\n",
      "04:24:28 112/400  |   0.2165     0.2165     0.0000 |   0.000000   0.0000e+00 |   0.6890   395           |   0.2147     0.2147     0.0000 |   0.6703   398             |  1.000e-04   0.000e+00 |\n",
      "04:26:48 113/400  |   0.2165     0.2165     0.0000 |   0.000000   0.0000e+00 |   0.6895   395           |   0.2146     0.2146     0.0000 |   0.6694   398             |  1.000e-04   0.000e+00 |\n",
      "04:29:09 114/400  |   0.2165     0.2165     0.0000 |   0.000000   0.0000e+00 |   0.6894   395           |   0.2146     0.2146     0.0000 |   0.6712   398             |  1.000e-04   0.000e+00 |\n",
      "04:31:28 115/400  |   0.2165     0.2165     0.0000 |   0.000000   0.0000e+00 |   0.6892   395           |   0.2146     0.2146     0.0000 |   0.6686   398             |  1.000e-04   0.000e+00 |\n",
      "04:33:46 116/400  |   0.2164     0.2164     0.0000 |   0.000000   0.0000e+00 |   0.6897   395           |   0.2146     0.2146     0.0000 |   0.6708   398             |  1.000e-04   0.000e+00 |\n",
      "04:36:05 117/400  |   0.2164     0.2164     0.0000 |   0.000000   0.0000e+00 |   0.6897   395           |   0.2145     0.2145     0.0000 |   0.6684   398             |  1.000e-04   0.000e+00 |\n",
      "04:38:23 118/400  |   0.2164     0.2164     0.0000 |   0.000000   0.0000e+00 |   0.6896   395           |   0.2145     0.2145     0.0000 |   0.6718   398             |  1.000e-04   0.000e+00 |\n",
      "04:40:42 119/400  |   0.2164     0.2164     0.0000 |   0.000000   0.0000e+00 |   0.6896   395           |   0.2145     0.2145     0.0000 |   0.6703   398             |  1.000e-04   0.000e+00 |\n",
      "04:43:01 120/400  |   0.2163     0.2163     0.0000 |   0.000000   0.0000e+00 |   0.6895   395           |   0.2144     0.2144     0.0000 |   0.6704   398             |  1.000e-04   0.000e+00 |\n",
      "04:45:20 121/400  |   0.2163     0.2163     0.0000 |   0.000000   0.0000e+00 |   0.6897   395           |   0.2145     0.2145     0.0000 |   0.6720   398             |  1.000e-04   0.000e+00 |\n",
      "04:47:40 122/400  |   0.2163     0.2163     0.0000 |   0.000000   0.0000e+00 |   0.6898   395           |   0.2144     0.2144     0.0000 |   0.6718   398             |  1.000e-04   0.000e+00 |\n",
      "04:49:59 123/400  |   0.2163     0.2163     0.0000 |   0.000000   0.0000e+00 |   0.6899   395           |   0.2144     0.2144     0.0000 |   0.6702   398             |  1.000e-04   0.000e+00 |\n",
      "04:52:18 124/400  |   0.2163     0.2163     0.0000 |   0.000000   0.0000e+00 |   0.6902   395           |   0.2144     0.2144     0.0000 |   0.6720   398             |  1.000e-04   0.000e+00 |\n",
      "04:54:37 125/400  |   0.2162     0.2162     0.0000 |   0.000000   0.0000e+00 |   0.6900   395           |   0.2144     0.2144     0.0000 |   0.6696   398             |  1.000e-04   0.000e+00 |\n",
      "04:56:57 126/400  |   0.2162     0.2162     0.0000 |   0.000000   0.0000e+00 |   0.6902   395           |   0.2144     0.2144     0.0000 |   0.6703   398             |  1.000e-04   0.000e+00 |\n",
      "04:59:16 127/400  |   0.2162     0.2162     0.0000 |   0.000000   0.0000e+00 |   0.6903   395           |   0.2144     0.2144     0.0000 |   0.6727   398             |  1.000e-04   0.000e+00 |\n",
      "05:01:35 128/400  |   0.2162     0.2162     0.0000 |   0.000000   0.0000e+00 |   0.6903   395           |   0.2144     0.2144     0.0000 |   0.6723   398             |  1.000e-04   0.000e+00 |\n",
      "05:03:54 129/400  |   0.2162     0.2162     0.0000 |   0.000000   0.0000e+00 |   0.6904   395           |   0.2143     0.2143     0.0000 |   0.6737   398             |  1.000e-04   0.000e+00 |\n",
      "05:06:13 130/400  |   0.2162     0.2162     0.0000 |   0.000000   0.0000e+00 |   0.6904   395           |   0.2142     0.2142     0.0000 |   0.6714   398             |  1.000e-04   0.000e+00 |\n",
      "05:08:32 131/400  |   0.2161     0.2161     0.0000 |   0.000000   0.0000e+00 |   0.6907   395           |   0.2143     0.2143     0.0000 |   0.6715   398             |  1.000e-04   0.000e+00 |\n",
      "05:10:50 132/400  |   0.2161     0.2161     0.0000 |   0.000000   0.0000e+00 |   0.6905   395           |   0.2143     0.2143     0.0000 |   0.6738   398             |  1.000e-04   0.000e+00 |\n",
      "05:13:08 133/400  |   0.2161     0.2161     0.0000 |   0.000000   0.0000e+00 |   0.6908   395           |   0.2142     0.2142     0.0000 |   0.6729   398             |  1.000e-04   0.000e+00 |\n",
      "05:15:26 134/400  |   0.2161     0.2161     0.0000 |   0.000000   0.0000e+00 |   0.6907   395           |   0.2143     0.2143     0.0000 |   0.6730   398             |  1.000e-04   0.000e+00 |\n",
      "05:17:46 135/400  |   0.2161     0.2161     0.0000 |   0.000000   0.0000e+00 |   0.6909   395           |   0.2142     0.2142     0.0000 |   0.6742   398             |  1.000e-04   0.000e+00 |\n",
      "05:20:03 136/400  |   0.2160     0.2160     0.0000 |   0.000000   0.0000e+00 |   0.6908   395           |   0.2142     0.2142     0.0000 |   0.6730   398             |  1.000e-04   0.000e+00 |\n",
      "05:22:22 137/400  |   0.2160     0.2160     0.0000 |   0.000000   0.0000e+00 |   0.6913   395           |   0.2142     0.2142     0.0000 |   0.6735   398             |  1.000e-04   0.000e+00 |\n",
      "05:24:41 138/400  |   0.2160     0.2160     0.0000 |   0.000000   0.0000e+00 |   0.6909   395           |   0.2142     0.2142     0.0000 |   0.6719   398             |  1.000e-04   0.000e+00 |\n",
      "05:27:00 139/400  |   0.2160     0.2160     0.0000 |   0.000000   0.0000e+00 |   0.6912   395           |   0.2142     0.2142     0.0000 |   0.6735   398             |  1.000e-04   0.000e+00 |\n",
      "05:29:20 140/400  |   0.2160     0.2160     0.0000 |   0.000000   0.0000e+00 |   0.6912   395           |   0.2141     0.2141     0.0000 |   0.6746   398             |  1.000e-04   0.000e+00 |\n",
      "05:31:38 141/400  |   0.2160     0.2160     0.0000 |   0.000000   0.0000e+00 |   0.6914   395           |   0.2141     0.2141     0.0000 |   0.6735   398             |  1.000e-04   0.000e+00 |\n",
      "05:33:57 142/400  |   0.2160     0.2160     0.0000 |   0.000000   0.0000e+00 |   0.6910   395           |   0.2141     0.2141     0.0000 |   0.6738   398             |  1.000e-04   0.000e+00 |\n",
      "05:36:15 143/400  |   0.2159     0.2159     0.0000 |   0.000000   0.0000e+00 |   0.6916   395           |   0.2141     0.2141     0.0000 |   0.6733   398             |  1.000e-04   0.000e+00 |\n",
      "05:38:33 144/400  |   0.2159     0.2159     0.0000 |   0.000000   0.0000e+00 |   0.6915   395           |   0.2141     0.2141     0.0000 |   0.6746   398             |  1.000e-04   0.000e+00 |\n",
      "05:40:52 145/400  |   0.2159     0.2159     0.0000 |   0.000000   0.0000e+00 |   0.6916   395           |   0.2140     0.2140     0.0000 |   0.6744   398             |  1.000e-04   0.000e+00 |\n",
      "05:43:09 146/400  |   0.2159     0.2159     0.0000 |   0.000000   0.0000e+00 |   0.6915   395           |   0.2140     0.2140     0.0000 |   0.6719   398             |  1.000e-04   0.000e+00 |\n",
      "05:45:28 147/400  |   0.2159     0.2159     0.0000 |   0.000000   0.0000e+00 |   0.6918   395           |   0.2141     0.2141     0.0000 |   0.6728   398             |  1.000e-04   0.000e+00 |\n",
      "05:47:47 148/400  |   0.2159     0.2159     0.0000 |   0.000000   0.0000e+00 |   0.6916   395           |   0.2140     0.2140     0.0000 |   0.6733   398             |  1.000e-04   0.000e+00 |\n",
      "05:50:07 149/400  |   0.2158     0.2158     0.0000 |   0.000000   0.0000e+00 |   0.6917   395           |   0.2140     0.2140     0.0000 |   0.6737   398             |  1.000e-04   0.000e+00 |\n",
      "05:52:26 150/400  |   0.2158     0.2158     0.0000 |   0.000000   0.0000e+00 |   0.6919   395           |   0.2140     0.2140     0.0000 |   0.6729   398             |  1.000e-04   0.000e+00 |\n",
      "05:54:44 151/400  |   0.2158     0.2158     0.0000 |   0.000000   0.0000e+00 |   0.6921   395           |   0.2139     0.2139     0.0000 |   0.6736   398             |  1.000e-04   0.000e+00 |\n",
      "05:57:03 152/400  |   0.2158     0.2158     0.0000 |   0.000000   0.0000e+00 |   0.6917   395           |   0.2140     0.2140     0.0000 |   0.6744   398             |  1.000e-04   0.000e+00 |\n",
      "05:59:22 153/400  |   0.2158     0.2158     0.0000 |   0.000000   0.0000e+00 |   0.6920   395           |   0.2139     0.2139     0.0000 |   0.6735   398             |  1.000e-04   0.000e+00 |\n",
      "06:01:40 154/400  |   0.2158     0.2158     0.0000 |   0.000000   0.0000e+00 |   0.6920   395           |   0.2139     0.2139     0.0000 |   0.6749   398             |  1.000e-04   0.000e+00 |\n",
      "06:04:00 155/400  |   0.2157     0.2157     0.0000 |   0.000000   0.0000e+00 |   0.6922   395           |   0.2140     0.2140     0.0000 |   0.6745   398             |  1.000e-04   0.000e+00 |\n",
      "06:06:18 156/400  |   0.2157     0.2157     0.0000 |   0.000000   0.0000e+00 |   0.6920   395           |   0.2139     0.2139     0.0000 |   0.6741   398             |  1.000e-04   0.000e+00 |\n",
      "06:08:36 157/400  |   0.2157     0.2157     0.0000 |   0.000000   0.0000e+00 |   0.6926   395           |   0.2139     0.2139     0.0000 |   0.6750   398             |  1.000e-04   0.000e+00 |\n",
      "06:10:55 158/400  |   0.2157     0.2157     0.0000 |   0.000000   0.0000e+00 |   0.6924   395           |   0.2139     0.2139     0.0000 |   0.6764   398             |  1.000e-04   0.000e+00 |\n",
      "06:13:14 159/400  |   0.2157     0.2157     0.0000 |   0.000000   0.0000e+00 |   0.6921   395           |   0.2139     0.2139     0.0000 |   0.6751   398             |  1.000e-04   0.000e+00 |\n",
      "06:15:32 160/400  |   0.2157     0.2157     0.0000 |   0.000000   0.0000e+00 |   0.6926   395           |   0.2139     0.2139     0.0000 |   0.6758   398             |  1.000e-04   0.000e+00 |\n",
      "06:17:49 161/400  |   0.2157     0.2157     0.0000 |   0.000000   0.0000e+00 |   0.6925   395           |   0.2138     0.2138     0.0000 |   0.6775   398             |  1.000e-04   0.000e+00 |\n",
      "06:20:09 162/400  |   0.2156     0.2156     0.0000 |   0.000000   0.0000e+00 |   0.6930   395           |   0.2139     0.2139     0.0000 |   0.6756   398             |  1.000e-04   0.000e+00 |\n",
      "06:22:28 163/400  |   0.2156     0.2156     0.0000 |   0.000000   0.0000e+00 |   0.6928   395           |   0.2138     0.2138     0.0000 |   0.6748   398             |  1.000e-04   0.000e+00 |\n",
      "06:24:46 164/400  |   0.2156     0.2156     0.0000 |   0.000000   0.0000e+00 |   0.6928   395           |   0.2138     0.2138     0.0000 |   0.6753   398             |  1.000e-04   0.000e+00 |\n",
      "06:27:05 165/400  |   0.2156     0.2156     0.0000 |   0.000000   0.0000e+00 |   0.6929   395           |   0.2138     0.2138     0.0000 |   0.6771   398             |  1.000e-04   0.000e+00 |\n",
      "06:29:24 166/400  |   0.2156     0.2156     0.0000 |   0.000000   0.0000e+00 |   0.6927   395           |   0.2138     0.2138     0.0000 |   0.6761   398             |  1.000e-04   0.000e+00 |\n",
      "06:31:42 167/400  |   0.2156     0.2156     0.0000 |   0.000000   0.0000e+00 |   0.6930   395           |   0.2139     0.2139     0.0000 |   0.6765   398             |  1.000e-04   0.000e+00 |\n",
      "06:34:00 168/400  |   0.2156     0.2156     0.0000 |   0.000000   0.0000e+00 |   0.6928   395           |   0.2138     0.2138     0.0000 |   0.6767   398             |  1.000e-04   0.000e+00 |\n",
      "06:36:18 169/400  |   0.2155     0.2155     0.0000 |   0.000000   0.0000e+00 |   0.6927   395           |   0.2137     0.2137     0.0000 |   0.6764   398             |  1.000e-04   0.000e+00 |\n",
      "06:38:37 170/400  |   0.2155     0.2155     0.0000 |   0.000000   0.0000e+00 |   0.6933   395           |   0.2138     0.2138     0.0000 |   0.6766   398             |  1.000e-04   0.000e+00 |\n",
      "06:40:56 171/400  |   0.2155     0.2155     0.0000 |   0.000000   0.0000e+00 |   0.6929   395           |   0.2137     0.2137     0.0000 |   0.6763   398             |  1.000e-04   0.000e+00 |\n",
      "06:43:16 172/400  |   0.2155     0.2155     0.0000 |   0.000000   0.0000e+00 |   0.6934   395           |   0.2138     0.2138     0.0000 |   0.6761   398             |  1.000e-04   0.000e+00 |\n",
      "06:45:36 173/400  |   0.2155     0.2155     0.0000 |   0.000000   0.0000e+00 |   0.6930   395           |   0.2137     0.2137     0.0000 |   0.6763   398             |  1.000e-04   0.000e+00 |\n",
      "06:47:53 174/400  |   0.2155     0.2155     0.0000 |   0.000000   0.0000e+00 |   0.6933   395           |   0.2137     0.2137     0.0000 |   0.6781   398             |  1.000e-04   0.000e+00 |\n",
      "06:50:11 175/400  |   0.2155     0.2155     0.0000 |   0.000000   0.0000e+00 |   0.6940   395           |   0.2138     0.2138     0.0000 |   0.6771   398             |  1.000e-04   0.000e+00 |\n",
      "06:52:30 176/400  |   0.2155     0.2155     0.0000 |   0.000000   0.0000e+00 |   0.6933   395           |   0.2137     0.2137     0.0000 |   0.6766   398             |  1.000e-04   0.000e+00 |\n",
      "06:54:48 177/400  |   0.2154     0.2154     0.0000 |   0.000000   0.0000e+00 |   0.6936   395           |   0.2137     0.2137     0.0000 |   0.6789   398             |  1.000e-04   0.000e+00 |\n",
      "06:57:07 178/400  |   0.2154     0.2154     0.0000 |   0.000000   0.0000e+00 |   0.6936   395           |   0.2137     0.2137     0.0000 |   0.6766   398             |  1.000e-04   0.000e+00 |\n",
      "06:59:25 179/400  |   0.2154     0.2154     0.0000 |   0.000000   0.0000e+00 |   0.6938   395           |   0.2137     0.2137     0.0000 |   0.6767   398             |  1.000e-04   0.000e+00 |\n",
      "07:01:42 180/400  |   0.2154     0.2154     0.0000 |   0.000000   0.0000e+00 |   0.6937   395           |   0.2137     0.2137     0.0000 |   0.6778   398             |  1.000e-04   0.000e+00 |\n",
      "07:04:02 181/400  |   0.2154     0.2154     0.0000 |   0.000000   0.0000e+00 |   0.6938   395           |   0.2137     0.2137     0.0000 |   0.6776   398             |  1.000e-04   0.000e+00 |\n",
      "07:06:21 182/400  |   0.2154     0.2154     0.0000 |   0.000000   0.0000e+00 |   0.6940   395           |   0.2137     0.2137     0.0000 |   0.6784   398             |  1.000e-04   0.000e+00 |\n",
      "07:08:40 183/400  |   0.2154     0.2154     0.0000 |   0.000000   0.0000e+00 |   0.6937   395           |   0.2136     0.2136     0.0000 |   0.6780   398             |  1.000e-04   0.000e+00 |\n",
      "07:11:00 184/400  |   0.2154     0.2154     0.0000 |   0.000000   0.0000e+00 |   0.6935   395           |   0.2136     0.2136     0.0000 |   0.6770   398             |  1.000e-04   0.000e+00 |\n",
      "07:13:19 185/400  |   0.2153     0.2153     0.0000 |   0.000000   0.0000e+00 |   0.6939   395           |   0.2136     0.2136     0.0000 |   0.6785   398             |  1.000e-04   0.000e+00 |\n",
      "07:15:38 186/400  |   0.2153     0.2153     0.0000 |   0.000000   0.0000e+00 |   0.6934   395           |   0.2136     0.2136     0.0000 |   0.6776   398             |  1.000e-04   0.000e+00 |\n",
      "07:17:57 187/400  |   0.2153     0.2153     0.0000 |   0.000000   0.0000e+00 |   0.6943   395           |   0.2136     0.2136     0.0000 |   0.6772   398             |  1.000e-04   0.000e+00 |\n",
      "07:20:15 188/400  |   0.2153     0.2153     0.0000 |   0.000000   0.0000e+00 |   0.6941   395           |   0.2136     0.2136     0.0000 |   0.6794   398             |  1.000e-04   0.000e+00 |\n",
      "07:22:34 189/400  |   0.2153     0.2153     0.0000 |   0.000000   0.0000e+00 |   0.6935   395           |   0.2136     0.2136     0.0000 |   0.6784   398             |  1.000e-04   0.000e+00 |\n",
      "07:24:52 190/400  |   0.2153     0.2153     0.0000 |   0.000000   0.0000e+00 |   0.6940   395           |   0.2136     0.2136     0.0000 |   0.6783   398             |  1.000e-04   0.000e+00 |\n",
      "07:27:11 191/400  |   0.2153     0.2153     0.0000 |   0.000000   0.0000e+00 |   0.6940   395           |   0.2136     0.2136     0.0000 |   0.6791   398             |  1.000e-04   0.000e+00 |\n",
      "07:29:30 192/400  |   0.2153     0.2153     0.0000 |   0.000000   0.0000e+00 |   0.6945   395           |   0.2135     0.2135     0.0000 |   0.6785   398             |  1.000e-04   0.000e+00 |\n",
      "07:31:49 193/400  |   0.2153     0.2153     0.0000 |   0.000000   0.0000e+00 |   0.6947   395           |   0.2135     0.2135     0.0000 |   0.6780   398             |  1.000e-04   0.000e+00 |\n",
      "07:34:08 194/400  |   0.2152     0.2152     0.0000 |   0.000000   0.0000e+00 |   0.6949   395           |   0.2135     0.2135     0.0000 |   0.6787   398             |  1.000e-04   0.000e+00 |\n",
      "07:36:29 195/400  |   0.2152     0.2152     0.0000 |   0.000000   0.0000e+00 |   0.6940   395           |   0.2135     0.2135     0.0000 |   0.6769   398             |  1.000e-04   0.000e+00 |\n",
      "07:38:48 196/400  |   0.2152     0.2152     0.0000 |   0.000000   0.0000e+00 |   0.6943   395           |   0.2135     0.2135     0.0000 |   0.6783   398             |  1.000e-04   0.000e+00 |\n",
      "07:41:07 197/400  |   0.2152     0.2152     0.0000 |   0.000000   0.0000e+00 |   0.6947   395           |   0.2135     0.2135     0.0000 |   0.6783   398             |  1.000e-04   0.000e+00 |\n",
      "07:43:25 198/400  |   0.2152     0.2152     0.0000 |   0.000000   0.0000e+00 |   0.6940   395           |   0.2135     0.2135     0.0000 |   0.6781   398             |  1.000e-04   0.000e+00 |\n",
      "07:45:45 199/400  |   0.2152     0.2152     0.0000 |   0.000000   0.0000e+00 |   0.6938   395           |   0.2134     0.2134     0.0000 |   0.6784   398             |  1.000e-04   0.000e+00 |\n",
      "07:48:04 200/400  |   0.2152     0.2152     0.0000 |   0.000000   0.0000e+00 |   0.6947   395           |   0.2135     0.2135     0.0000 |   0.6788   398             |  1.000e-04   0.000e+00 |\n",
      "15:41:04 201/400  |   0.2152     0.2152     0.0000 |   0.000000   0.0000e+00 |   0.6952   395           |   0.2135     0.2135     0.0000 |   0.6793   398             |  1.000e-04   0.000e+00 |\n",
      "15:43:34 202/400  |   0.2152     0.2152     0.0000 |   0.000000   0.0000e+00 |   0.6948   395           |   0.2134     0.2134     0.0000 |   0.6798   398             |  1.000e-04   0.000e+00 |\n",
      "15:46:03 203/400  |   0.2152     0.2152     0.0000 |   0.000000   0.0000e+00 |   0.6951   395           |   0.2134     0.2134     0.0000 |   0.6784   398             |  1.000e-04   0.000e+00 |\n",
      "15:48:34 204/400  |   0.2151     0.2151     0.0000 |   0.000000   0.0000e+00 |   0.6950   395           |   0.2135     0.2135     0.0000 |   0.6797   398             |  1.000e-04   0.000e+00 |\n",
      "15:51:04 205/400  |   0.2151     0.2151     0.0000 |   0.000000   0.0000e+00 |   0.6948   395           |   0.2134     0.2134     0.0000 |   0.6805   398             |  1.000e-04   0.000e+00 |\n",
      "15:53:35 206/400  |   0.2151     0.2151     0.0000 |   0.000000   0.0000e+00 |   0.6949   395           |   0.2134     0.2134     0.0000 |   0.6791   398             |  1.000e-04   0.000e+00 |\n",
      "15:56:05 207/400  |   0.2151     0.2151     0.0000 |   0.000000   0.0000e+00 |   0.6951   395           |   0.2134     0.2134     0.0000 |   0.6807   398             |  1.000e-04   0.000e+00 |\n",
      "15:58:35 208/400  |   0.2151     0.2151     0.0000 |   0.000000   0.0000e+00 |   0.6954   395           |   0.2134     0.2134     0.0000 |   0.6797   398             |  1.000e-04   0.000e+00 |\n",
      "16:01:05 209/400  |   0.2151     0.2151     0.0000 |   0.000000   0.0000e+00 |   0.6949   395           |   0.2134     0.2134     0.0000 |   0.6791   398             |  1.000e-04   0.000e+00 |\n",
      "16:03:36 210/400  |   0.2151     0.2151     0.0000 |   0.000000   0.0000e+00 |   0.6949   395           |   0.2134     0.2134     0.0000 |   0.6810   398             |  1.000e-04   0.000e+00 |\n",
      "16:06:08 211/400  |   0.2151     0.2151     0.0000 |   0.000000   0.0000e+00 |   0.6948   395           |   0.2134     0.2134     0.0000 |   0.6806   398             |  1.000e-04   0.000e+00 |\n",
      "16:08:40 212/400  |   0.2151     0.2151     0.0000 |   0.000000   0.0000e+00 |   0.6957   395           |   0.2133     0.2133     0.0000 |   0.6798   398             |  1.000e-04   0.000e+00 |\n",
      "16:11:14 213/400  |   0.2151     0.2151     0.0000 |   0.000000   0.0000e+00 |   0.6954   395           |   0.2134     0.2134     0.0000 |   0.6802   398             |  1.000e-04   0.000e+00 |\n",
      "16:13:46 214/400  |   0.2151     0.2151     0.0000 |   0.000000   0.0000e+00 |   0.6952   395           |   0.2134     0.2134     0.0000 |   0.6790   398             |  1.000e-04   0.000e+00 |\n",
      "16:16:15 215/400  |   0.2150     0.2150     0.0000 |   0.000000   0.0000e+00 |   0.6955   395           |   0.2134     0.2134     0.0000 |   0.6808   398             |  1.000e-04   0.000e+00 |\n",
      "16:18:35 216/400  |   0.2150     0.2150     0.0000 |   0.000000   0.0000e+00 |   0.6958   395           |   0.2133     0.2133     0.0000 |   0.6817   398             |  1.000e-04   0.000e+00 |\n",
      "16:20:55 217/400  |   0.2150     0.2150     0.0000 |   0.000000   0.0000e+00 |   0.6959   395           |   0.2133     0.2133     0.0000 |   0.6792   398             |  1.000e-04   0.000e+00 |\n",
      "16:23:15 218/400  |   0.2150     0.2150     0.0000 |   0.000000   0.0000e+00 |   0.6952   395           |   0.2133     0.2133     0.0000 |   0.6806   398             |  1.000e-04   0.000e+00 |\n",
      "16:25:35 219/400  |   0.2150     0.2150     0.0000 |   0.000000   0.0000e+00 |   0.6957   395           |   0.2133     0.2133     0.0000 |   0.6813   398             |  1.000e-04   0.000e+00 |\n",
      "16:27:54 220/400  |   0.2150     0.2150     0.0000 |   0.000000   0.0000e+00 |   0.6958   395           |   0.2133     0.2133     0.0000 |   0.6823   398             |  1.000e-04   0.000e+00 |\n",
      "16:30:15 221/400  |   0.2150     0.2150     0.0000 |   0.000000   0.0000e+00 |   0.6955   395           |   0.2133     0.2133     0.0000 |   0.6838   398             |  1.000e-04   0.000e+00 |\n",
      "16:32:35 222/400  |   0.2150     0.2150     0.0000 |   0.000000   0.0000e+00 |   0.6959   395           |   0.2133     0.2133     0.0000 |   0.6810   398             |  1.000e-04   0.000e+00 |\n",
      "16:34:56 223/400  |   0.2150     0.2150     0.0000 |   0.000000   0.0000e+00 |   0.6961   395           |   0.2133     0.2133     0.0000 |   0.6833   398             |  1.000e-04   0.000e+00 |\n",
      "16:37:16 224/400  |   0.2150     0.2150     0.0000 |   0.000000   0.0000e+00 |   0.6962   395           |   0.2132     0.2132     0.0000 |   0.6836   398             |  1.000e-04   0.000e+00 |\n",
      "16:39:36 225/400  |   0.2150     0.2150     0.0000 |   0.000000   0.0000e+00 |   0.6960   395           |   0.2132     0.2132     0.0000 |   0.6809   398             |  1.000e-04   0.000e+00 |\n",
      "16:41:56 226/400  |   0.2150     0.2150     0.0000 |   0.000000   0.0000e+00 |   0.6955   395           |   0.2133     0.2133     0.0000 |   0.6799   398             |  1.000e-04   0.000e+00 |\n",
      "16:44:16 227/400  |   0.2149     0.2149     0.0000 |   0.000000   0.0000e+00 |   0.6959   395           |   0.2132     0.2132     0.0000 |   0.6813   398             |  1.000e-04   0.000e+00 |\n",
      "16:46:38 228/400  |   0.2149     0.2149     0.0000 |   0.000000   0.0000e+00 |   0.6957   395           |   0.2132     0.2132     0.0000 |   0.6812   398             |  1.000e-04   0.000e+00 |\n",
      "16:48:59 229/400  |   0.2149     0.2149     0.0000 |   0.000000   0.0000e+00 |   0.6957   395           |   0.2132     0.2132     0.0000 |   0.6823   398             |  1.000e-04   0.000e+00 |\n",
      "16:51:19 230/400  |   0.2149     0.2149     0.0000 |   0.000000   0.0000e+00 |   0.6962   395           |   0.2132     0.2132     0.0000 |   0.6831   398             |  1.000e-04   0.000e+00 |\n",
      "16:53:39 231/400  |   0.2149     0.2149     0.0000 |   0.000000   0.0000e+00 |   0.6961   395           |   0.2131     0.2131     0.0000 |   0.6805   398             |  1.000e-04   0.000e+00 |\n",
      "16:56:00 232/400  |   0.2149     0.2149     0.0000 |   0.000000   0.0000e+00 |   0.6961   395           |   0.2132     0.2132     0.0000 |   0.6804   398             |  1.000e-04   0.000e+00 |\n",
      "16:58:22 233/400  |   0.2149     0.2149     0.0000 |   0.000000   0.0000e+00 |   0.6964   395           |   0.2132     0.2132     0.0000 |   0.6816   398             |  1.000e-04   0.000e+00 |\n",
      "17:00:43 234/400  |   0.2149     0.2149     0.0000 |   0.000000   0.0000e+00 |   0.6963   395           |   0.2132     0.2132     0.0000 |   0.6813   398             |  1.000e-04   0.000e+00 |\n",
      "17:03:04 235/400  |   0.2149     0.2149     0.0000 |   0.000000   0.0000e+00 |   0.6960   395           |   0.2132     0.2132     0.0000 |   0.6812   398             |  1.000e-04   0.000e+00 |\n",
      "17:05:26 236/400  |   0.2149     0.2149     0.0000 |   0.000000   0.0000e+00 |   0.6966   395           |   0.2132     0.2132     0.0000 |   0.6808   398             |  1.000e-04   0.000e+00 |\n",
      "17:07:47 237/400  |   0.2149     0.2149     0.0000 |   0.000000   0.0000e+00 |   0.6966   395           |   0.2131     0.2131     0.0000 |   0.6829   398             |  1.000e-04   0.000e+00 |\n",
      "17:10:08 238/400  |   0.2149     0.2149     0.0000 |   0.000000   0.0000e+00 |   0.6963   395           |   0.2132     0.2132     0.0000 |   0.6809   398             |  1.000e-04   0.000e+00 |\n",
      "17:12:29 239/400  |   0.2148     0.2148     0.0000 |   0.000000   0.0000e+00 |   0.6965   395           |   0.2132     0.2132     0.0000 |   0.6845   398             |  1.000e-04   0.000e+00 |\n",
      "17:14:51 240/400  |   0.2148     0.2148     0.0000 |   0.000000   0.0000e+00 |   0.6963   395           |   0.2131     0.2131     0.0000 |   0.6800   398             |  1.000e-04   0.000e+00 |\n",
      "17:17:12 241/400  |   0.2148     0.2148     0.0000 |   0.000000   0.0000e+00 |   0.6968   395           |   0.2131     0.2131     0.0000 |   0.6833   398             |  1.000e-04   0.000e+00 |\n",
      "17:19:33 242/400  |   0.2148     0.2148     0.0000 |   0.000000   0.0000e+00 |   0.6966   395           |   0.2132     0.2132     0.0000 |   0.6820   398             |  1.000e-04   0.000e+00 |\n",
      "17:21:53 243/400  |   0.2148     0.2148     0.0000 |   0.000000   0.0000e+00 |   0.6965   395           |   0.2131     0.2131     0.0000 |   0.6830   398             |  1.000e-04   0.000e+00 |\n",
      "17:24:14 244/400  |   0.2148     0.2148     0.0000 |   0.000000   0.0000e+00 |   0.6967   395           |   0.2131     0.2131     0.0000 |   0.6838   398             |  1.000e-04   0.000e+00 |\n",
      "17:26:35 245/400  |   0.2148     0.2148     0.0000 |   0.000000   0.0000e+00 |   0.6965   395           |   0.2131     0.2131     0.0000 |   0.6819   398             |  1.000e-04   0.000e+00 |\n",
      "17:28:57 246/400  |   0.2148     0.2148     0.0000 |   0.000000   0.0000e+00 |   0.6970   395           |   0.2131     0.2131     0.0000 |   0.6843   398             |  1.000e-04   0.000e+00 |\n",
      "17:31:18 247/400  |   0.2148     0.2148     0.0000 |   0.000000   0.0000e+00 |   0.6969   395           |   0.2131     0.2131     0.0000 |   0.6843   398             |  1.000e-04   0.000e+00 |\n",
      "17:33:40 248/400  |   0.2148     0.2148     0.0000 |   0.000000   0.0000e+00 |   0.6967   395           |   0.2132     0.2132     0.0000 |   0.6836   398             |  1.000e-04   0.000e+00 |\n",
      "17:36:02 249/400  |   0.2148     0.2148     0.0000 |   0.000000   0.0000e+00 |   0.6970   395           |   0.2131     0.2131     0.0000 |   0.6825   398             |  1.000e-04   0.000e+00 |\n",
      "17:38:23 250/400  |   0.2148     0.2148     0.0000 |   0.000000   0.0000e+00 |   0.6967   395           |   0.2131     0.2131     0.0000 |   0.6826   398             |  1.000e-04   0.000e+00 |\n",
      "17:40:45 251/400  |   0.2148     0.2148     0.0000 |   0.000000   0.0000e+00 |   0.6968   395           |   0.2131     0.2131     0.0000 |   0.6846   398             |  1.000e-04   0.000e+00 |\n",
      "17:43:06 252/400  |   0.2148     0.2148     0.0000 |   0.000000   0.0000e+00 |   0.6969   395           |   0.2131     0.2131     0.0000 |   0.6837   398             |  1.000e-04   0.000e+00 |\n",
      "17:45:27 253/400  |   0.2148     0.2148     0.0000 |   0.000000   0.0000e+00 |   0.6968   395           |   0.2131     0.2131     0.0000 |   0.6818   398             |  1.000e-04   0.000e+00 |\n",
      "17:47:49 254/400  |   0.2148     0.2148     0.0000 |   0.000000   0.0000e+00 |   0.6974   395           |   0.2130     0.2130     0.0000 |   0.6832   398             |  1.000e-04   0.000e+00 |\n",
      "17:50:12 255/400  |   0.2148     0.2148     0.0000 |   0.000000   0.0000e+00 |   0.6965   395           |   0.2131     0.2131     0.0000 |   0.6839   398             |  1.000e-04   0.000e+00 |\n",
      "17:52:34 256/400  |   0.2147     0.2147     0.0000 |   0.000000   0.0000e+00 |   0.6975   395           |   0.2131     0.2131     0.0000 |   0.6843   398             |  1.000e-04   0.000e+00 |\n",
      "17:54:55 257/400  |   0.2147     0.2147     0.0000 |   0.000000   0.0000e+00 |   0.6972   395           |   0.2131     0.2131     0.0000 |   0.6837   398             |  1.000e-04   0.000e+00 |\n",
      "17:57:17 258/400  |   0.2147     0.2147     0.0000 |   0.000000   0.0000e+00 |   0.6969   395           |   0.2131     0.2131     0.0000 |   0.6840   398             |  1.000e-04   0.000e+00 |\n",
      "17:59:39 259/400  |   0.2147     0.2147     0.0000 |   0.000000   0.0000e+00 |   0.6970   395           |   0.2130     0.2130     0.0000 |   0.6836   398             |  1.000e-04   0.000e+00 |\n",
      "18:02:02 260/400  |   0.2147     0.2147     0.0000 |   0.000000   0.0000e+00 |   0.6976   395           |   0.2131     0.2131     0.0000 |   0.6820   398             |  1.000e-04   0.000e+00 |\n",
      "18:04:24 261/400  |   0.2147     0.2147     0.0000 |   0.000000   0.0000e+00 |   0.6967   395           |   0.2130     0.2130     0.0000 |   0.6822   398             |  1.000e-04   0.000e+00 |\n",
      "18:06:46 262/400  |   0.2147     0.2147     0.0000 |   0.000000   0.0000e+00 |   0.6977   395           |   0.2130     0.2130     0.0000 |   0.6849   398             |  1.000e-04   0.000e+00 |\n",
      "18:09:07 263/400  |   0.2147     0.2147     0.0000 |   0.000000   0.0000e+00 |   0.6973   395           |   0.2130     0.2130     0.0000 |   0.6848   398             |  1.000e-04   0.000e+00 |\n",
      "18:11:28 264/400  |   0.2147     0.2147     0.0000 |   0.000000   0.0000e+00 |   0.6972   395           |   0.2130     0.2130     0.0000 |   0.6853   398             |  1.000e-04   0.000e+00 |\n",
      "18:13:51 265/400  |   0.2147     0.2147     0.0000 |   0.000000   0.0000e+00 |   0.6978   395           |   0.2131     0.2131     0.0000 |   0.6833   398             |  1.000e-04   0.000e+00 |\n",
      "18:16:13 266/400  |   0.2147     0.2147     0.0000 |   0.000000   0.0000e+00 |   0.6977   395           |   0.2130     0.2130     0.0000 |   0.6845   398             |  1.000e-04   0.000e+00 |\n",
      "18:18:34 267/400  |   0.2147     0.2147     0.0000 |   0.000000   0.0000e+00 |   0.6974   395           |   0.2130     0.2130     0.0000 |   0.6852   398             |  1.000e-04   0.000e+00 |\n",
      "18:20:56 268/400  |   0.2147     0.2147     0.0000 |   0.000000   0.0000e+00 |   0.6975   395           |   0.2130     0.2130     0.0000 |   0.6839   398             |  1.000e-04   0.000e+00 |\n",
      "18:23:18 269/400  |   0.2147     0.2147     0.0000 |   0.000000   0.0000e+00 |   0.6977   395           |   0.2130     0.2130     0.0000 |   0.6832   398             |  1.000e-04   0.000e+00 |\n",
      "18:25:40 270/400  |   0.2147     0.2147     0.0000 |   0.000000   0.0000e+00 |   0.6976   395           |   0.2130     0.2130     0.0000 |   0.6831   398             |  1.000e-04   0.000e+00 |\n",
      "18:28:02 271/400  |   0.2147     0.2147     0.0000 |   0.000000   0.0000e+00 |   0.6980   395           |   0.2129     0.2129     0.0000 |   0.6845   398             |  1.000e-04   0.000e+00 |\n",
      "18:30:25 272/400  |   0.2147     0.2147     0.0000 |   0.000000   0.0000e+00 |   0.6974   395           |   0.2130     0.2130     0.0000 |   0.6873   398             |  1.000e-04   0.000e+00 |\n",
      "18:32:49 273/400  |   0.2147     0.2147     0.0000 |   0.000000   0.0000e+00 |   0.6980   395           |   0.2130     0.2130     0.0000 |   0.6853   398             |  1.000e-04   0.000e+00 |\n",
      "18:35:12 274/400  |   0.2147     0.2147     0.0000 |   0.000000   0.0000e+00 |   0.6977   395           |   0.2130     0.2130     0.0000 |   0.6856   398             |  1.000e-04   0.000e+00 |\n",
      "18:37:34 275/400  |   0.2146     0.2146     0.0000 |   0.000000   0.0000e+00 |   0.6978   395           |   0.2130     0.2130     0.0000 |   0.6849   398             |  1.000e-04   0.000e+00 |\n",
      "18:39:58 276/400  |   0.2146     0.2146     0.0000 |   0.000000   0.0000e+00 |   0.6977   395           |   0.2130     0.2130     0.0000 |   0.6852   398             |  1.000e-04   0.000e+00 |\n",
      "18:42:21 277/400  |   0.2146     0.2146     0.0000 |   0.000000   0.0000e+00 |   0.6977   395           |   0.2130     0.2130     0.0000 |   0.6845   398             |  1.000e-04   0.000e+00 |\n",
      "18:44:44 278/400  |   0.2147     0.2147     0.0000 |   0.000000   0.0000e+00 |   0.6977   395           |   0.2130     0.2130     0.0000 |   0.6841   398             |  1.000e-04   0.000e+00 |\n",
      "18:47:08 279/400  |   0.2146     0.2146     0.0000 |   0.000000   0.0000e+00 |   0.6979   395           |   0.2130     0.2130     0.0000 |   0.6861   398             |  1.000e-04   0.000e+00 |\n",
      "18:49:32 280/400  |   0.2146     0.2146     0.0000 |   0.000000   0.0000e+00 |   0.6978   395           |   0.2130     0.2130     0.0000 |   0.6838   398             |  1.000e-04   0.000e+00 |\n",
      "18:51:55 281/400  |   0.2146     0.2146     0.0000 |   0.000000   0.0000e+00 |   0.6975   395           |   0.2129     0.2129     0.0000 |   0.6864   398             |  1.000e-04   0.000e+00 |\n",
      "18:54:18 282/400  |   0.2146     0.2146     0.0000 |   0.000000   0.0000e+00 |   0.6981   395           |   0.2130     0.2130     0.0000 |   0.6852   398             |  1.000e-04   0.000e+00 |\n",
      "18:56:42 283/400  |   0.2146     0.2146     0.0000 |   0.000000   0.0000e+00 |   0.6979   395           |   0.2129     0.2129     0.0000 |   0.6848   398             |  1.000e-04   0.000e+00 |\n",
      "18:59:05 284/400  |   0.2146     0.2146     0.0000 |   0.000000   0.0000e+00 |   0.6976   395           |   0.2129     0.2129     0.0000 |   0.6850   398             |  1.000e-04   0.000e+00 |\n",
      "19:01:29 285/400  |   0.2146     0.2146     0.0000 |   0.000000   0.0000e+00 |   0.6975   395           |   0.2130     0.2130     0.0000 |   0.6853   398             |  1.000e-04   0.000e+00 |\n",
      "19:03:53 286/400  |   0.2146     0.2146     0.0000 |   0.000000   0.0000e+00 |   0.6977   395           |   0.2130     0.2130     0.0000 |   0.6845   398             |  1.000e-04   0.000e+00 |\n",
      "19:06:16 287/400  |   0.2146     0.2146     0.0000 |   0.000000   0.0000e+00 |   0.6979   395           |   0.2129     0.2129     0.0000 |   0.6862   398             |  1.000e-04   0.000e+00 |\n",
      "19:08:38 288/400  |   0.2146     0.2146     0.0000 |   0.000000   0.0000e+00 |   0.6983   395           |   0.2129     0.2129     0.0000 |   0.6855   398             |  1.000e-04   0.000e+00 |\n",
      "19:11:01 289/400  |   0.2146     0.2146     0.0000 |   0.000000   0.0000e+00 |   0.6983   395           |   0.2129     0.2129     0.0000 |   0.6855   398             |  1.000e-04   0.000e+00 |\n",
      "19:13:24 290/400  |   0.2146     0.2146     0.0000 |   0.000000   0.0000e+00 |   0.6984   395           |   0.2129     0.2129     0.0000 |   0.6856   398             |  1.000e-04   0.000e+00 |\n",
      "19:15:47 291/400  |   0.2146     0.2146     0.0000 |   0.000000   0.0000e+00 |   0.6982   395           |   0.2129     0.2129     0.0000 |   0.6843   398             |  1.000e-04   0.000e+00 |\n",
      "19:18:10 292/400  |   0.2146     0.2146     0.0000 |   0.000000   0.0000e+00 |   0.6983   395           |   0.2129     0.2129     0.0000 |   0.6852   398             |  1.000e-04   0.000e+00 |\n",
      "19:20:32 293/400  |   0.2146     0.2146     0.0000 |   0.000000   0.0000e+00 |   0.6982   395           |   0.2129     0.2129     0.0000 |   0.6873   398             |  1.000e-04   0.000e+00 |\n",
      "19:22:56 294/400  |   0.2146     0.2146     0.0000 |   0.000000   0.0000e+00 |   0.6983   395           |   0.2129     0.2129     0.0000 |   0.6856   398             |  1.000e-04   0.000e+00 |\n",
      "19:25:21 295/400  |   0.2146     0.2146     0.0000 |   0.000000   0.0000e+00 |   0.6982   395           |   0.2128     0.2128     0.0000 |   0.6879   398             |  1.000e-04   0.000e+00 |\n",
      "19:27:44 296/400  |   0.2146     0.2146     0.0000 |   0.000000   0.0000e+00 |   0.6979   395           |   0.2129     0.2129     0.0000 |   0.6849   398             |  1.000e-04   0.000e+00 |\n",
      "19:30:07 297/400  |   0.2145     0.2145     0.0000 |   0.000000   0.0000e+00 |   0.6985   395           |   0.2129     0.2129     0.0000 |   0.6866   398             |  1.000e-04   0.000e+00 |\n",
      "19:32:31 298/400  |   0.2145     0.2145     0.0000 |   0.000000   0.0000e+00 |   0.6977   395           |   0.2128     0.2128     0.0000 |   0.6864   398             |  1.000e-04   0.000e+00 |\n",
      "19:34:54 299/400  |   0.2146     0.2146     0.0000 |   0.000000   0.0000e+00 |   0.6986   395           |   0.2129     0.2129     0.0000 |   0.6855   398             |  1.000e-04   0.000e+00 |\n",
      "19:37:18 300/400  |   0.2145     0.2145     0.0000 |   0.000000   0.0000e+00 |   0.6986   395           |   0.2128     0.2128     0.0000 |   0.6852   398             |  1.000e-04   0.000e+00 |\n",
      "21:21:18 301/400  |   0.2146     0.2146     0.0000 |   0.000000   0.0000e+00 |   0.6980   395           |   0.2129     0.2129     0.0000 |   0.6853   398             |  1.000e-04   0.000e+00 |\n",
      "21:24:14 302/400  |   0.2145     0.2145     0.0000 |   0.000000   0.0000e+00 |   0.6987   395           |   0.2129     0.2129     0.0000 |   0.6869   398             |  1.000e-04   0.000e+00 |\n",
      "21:27:09 303/400  |   0.2145     0.2145     0.0000 |   0.000000   0.0000e+00 |   0.6987   395           |   0.2128     0.2128     0.0000 |   0.6864   398             |  1.000e-04   0.000e+00 |\n",
      "21:30:08 304/400  |   0.2145     0.2145     0.0000 |   0.000000   0.0000e+00 |   0.6980   395           |   0.2128     0.2128     0.0000 |   0.6855   398             |  1.000e-04   0.000e+00 |\n",
      "21:33:04 305/400  |   0.2145     0.2145     0.0000 |   0.000000   0.0000e+00 |   0.6985   395           |   0.2128     0.2128     0.0000 |   0.6845   398             |  1.000e-04   0.000e+00 |\n",
      "21:36:01 306/400  |   0.2145     0.2145     0.0000 |   0.000000   0.0000e+00 |   0.6982   395           |   0.2128     0.2128     0.0000 |   0.6860   398             |  1.000e-04   0.000e+00 |\n",
      "21:38:54 307/400  |   0.2145     0.2145     0.0000 |   0.000000   0.0000e+00 |   0.6986   395           |   0.2128     0.2128     0.0000 |   0.6862   398             |  1.000e-04   0.000e+00 |\n",
      "21:41:45 308/400  |   0.2145     0.2145     0.0000 |   0.000000   0.0000e+00 |   0.6984   395           |   0.2128     0.2128     0.0000 |   0.6884   398             |  1.000e-04   0.000e+00 |\n",
      "21:44:37 309/400  |   0.2145     0.2145     0.0000 |   0.000000   0.0000e+00 |   0.6986   395           |   0.2128     0.2128     0.0000 |   0.6851   398             |  1.000e-04   0.000e+00 |\n",
      "21:47:27 310/400  |   0.2145     0.2145     0.0000 |   0.000000   0.0000e+00 |   0.6987   395           |   0.2128     0.2128     0.0000 |   0.6874   398             |  1.000e-04   0.000e+00 |\n",
      "21:50:19 311/400  |   0.2145     0.2145     0.0000 |   0.000000   0.0000e+00 |   0.6989   395           |   0.2128     0.2128     0.0000 |   0.6871   398             |  1.000e-04   0.000e+00 |\n",
      "21:53:10 312/400  |   0.2145     0.2145     0.0000 |   0.000000   0.0000e+00 |   0.6986   395           |   0.2128     0.2128     0.0000 |   0.6860   398             |  1.000e-04   0.000e+00 |\n",
      "21:56:00 313/400  |   0.2145     0.2145     0.0000 |   0.000000   0.0000e+00 |   0.6988   395           |   0.2128     0.2128     0.0000 |   0.6858   398             |  1.000e-04   0.000e+00 |\n",
      "21:58:51 314/400  |   0.2145     0.2145     0.0000 |   0.000000   0.0000e+00 |   0.6985   395           |   0.2128     0.2128     0.0000 |   0.6851   398             |  1.000e-04   0.000e+00 |\n",
      "22:01:46 315/400  |   0.2145     0.2145     0.0000 |   0.000000   0.0000e+00 |   0.6986   395           |   0.2128     0.2128     0.0000 |   0.6851   398             |  1.000e-04   0.000e+00 |\n",
      "22:04:39 316/400  |   0.2145     0.2145     0.0000 |   0.000000   0.0000e+00 |   0.6987   395           |   0.2128     0.2128     0.0000 |   0.6868   398             |  1.000e-04   0.000e+00 |\n",
      "22:07:31 317/400  |   0.2145     0.2145     0.0000 |   0.000000   0.0000e+00 |   0.6990   395           |   0.2128     0.2128     0.0000 |   0.6868   398             |  1.000e-04   0.000e+00 |\n",
      "22:10:24 318/400  |   0.2145     0.2145     0.0000 |   0.000000   0.0000e+00 |   0.6987   395           |   0.2128     0.2128     0.0000 |   0.6860   398             |  1.000e-04   0.000e+00 |\n",
      "22:13:15 319/400  |   0.2145     0.2145     0.0000 |   0.000000   0.0000e+00 |   0.6992   395           |   0.2128     0.2128     0.0000 |   0.6842   398             |  1.000e-04   0.000e+00 |\n",
      "22:16:06 320/400  |   0.2145     0.2145     0.0000 |   0.000000   0.0000e+00 |   0.6990   395           |   0.2128     0.2128     0.0000 |   0.6859   398             |  1.000e-04   0.000e+00 |\n",
      "22:18:59 321/400  |   0.2144     0.2144     0.0000 |   0.000000   0.0000e+00 |   0.6984   395           |   0.2128     0.2128     0.0000 |   0.6851   398             |  1.000e-04   0.000e+00 |\n",
      "22:21:53 322/400  |   0.2145     0.2145     0.0000 |   0.000000   0.0000e+00 |   0.6986   395           |   0.2128     0.2128     0.0000 |   0.6870   398             |  1.000e-04   0.000e+00 |\n",
      "22:24:48 323/400  |   0.2144     0.2144     0.0000 |   0.000000   0.0000e+00 |   0.6983   395           |   0.2128     0.2128     0.0000 |   0.6867   398             |  1.000e-04   0.000e+00 |\n",
      "22:27:48 324/400  |   0.2144     0.2144     0.0000 |   0.000000   0.0000e+00 |   0.6992   395           |   0.2128     0.2128     0.0000 |   0.6856   398             |  1.000e-04   0.000e+00 |\n",
      "22:30:47 325/400  |   0.2144     0.2144     0.0000 |   0.000000   0.0000e+00 |   0.6992   395           |   0.2128     0.2128     0.0000 |   0.6863   398             |  1.000e-04   0.000e+00 |\n",
      "22:33:47 326/400  |   0.2144     0.2144     0.0000 |   0.000000   0.0000e+00 |   0.6992   395           |   0.2127     0.2127     0.0000 |   0.6879   398             |  1.000e-04   0.000e+00 |\n",
      "22:36:44 327/400  |   0.2144     0.2144     0.0000 |   0.000000   0.0000e+00 |   0.6991   395           |   0.2127     0.2127     0.0000 |   0.6880   398             |  1.000e-04   0.000e+00 |\n",
      "22:39:41 328/400  |   0.2144     0.2144     0.0000 |   0.000000   0.0000e+00 |   0.6986   395           |   0.2127     0.2127     0.0000 |   0.6849   398             |  1.000e-04   0.000e+00 |\n",
      "22:42:38 329/400  |   0.2144     0.2144     0.0000 |   0.000000   0.0000e+00 |   0.6991   395           |   0.2128     0.2128     0.0000 |   0.6860   398             |  1.000e-04   0.000e+00 |\n",
      "22:45:36 330/400  |   0.2144     0.2144     0.0000 |   0.000000   0.0000e+00 |   0.6995   395           |   0.2128     0.2128     0.0000 |   0.6860   398             |  1.000e-04   0.000e+00 |\n",
      "22:48:34 331/400  |   0.2144     0.2144     0.0000 |   0.000000   0.0000e+00 |   0.6991   395           |   0.2128     0.2128     0.0000 |   0.6870   398             |  1.000e-04   0.000e+00 |\n",
      "22:51:33 332/400  |   0.2144     0.2144     0.0000 |   0.000000   0.0000e+00 |   0.6990   395           |   0.2128     0.2128     0.0000 |   0.6851   398             |  1.000e-04   0.000e+00 |\n",
      "22:54:31 333/400  |   0.2144     0.2144     0.0000 |   0.000000   0.0000e+00 |   0.6991   395           |   0.2128     0.2128     0.0000 |   0.6863   398             |  1.000e-04   0.000e+00 |\n",
      "22:57:33 334/400  |   0.2144     0.2144     0.0000 |   0.000000   0.0000e+00 |   0.6996   395           |   0.2128     0.2128     0.0000 |   0.6868   398             |  1.000e-04   0.000e+00 |\n",
      "23:00:31 335/400  |   0.2144     0.2144     0.0000 |   0.000000   0.0000e+00 |   0.6992   395           |   0.2127     0.2127     0.0000 |   0.6877   398             |  1.000e-04   0.000e+00 |\n",
      "23:03:27 336/400  |   0.2144     0.2144     0.0000 |   0.000000   0.0000e+00 |   0.6993   395           |   0.2128     0.2128     0.0000 |   0.6871   398             |  1.000e-04   0.000e+00 |\n",
      "23:06:25 337/400  |   0.2144     0.2144     0.0000 |   0.000000   0.0000e+00 |   0.6989   395           |   0.2127     0.2127     0.0000 |   0.6865   398             |  1.000e-04   0.000e+00 |\n",
      "23:09:27 338/400  |   0.2144     0.2144     0.0000 |   0.000000   0.0000e+00 |   0.6990   395           |   0.2127     0.2127     0.0000 |   0.6884   398             |  1.000e-04   0.000e+00 |\n",
      "23:12:28 339/400  |   0.2144     0.2144     0.0000 |   0.000000   0.0000e+00 |   0.6998   395           |   0.2128     0.2128     0.0000 |   0.6868   398             |  1.000e-04   0.000e+00 |\n",
      "23:15:31 340/400  |   0.2144     0.2144     0.0000 |   0.000000   0.0000e+00 |   0.6995   395           |   0.2127     0.2127     0.0000 |   0.6867   398             |  1.000e-04   0.000e+00 |\n",
      "23:18:34 341/400  |   0.2144     0.2144     0.0000 |   0.000000   0.0000e+00 |   0.6991   395           |   0.2127     0.2127     0.0000 |   0.6885   398             |  1.000e-04   0.000e+00 |\n",
      "23:21:34 342/400  |   0.2144     0.2144     0.0000 |   0.000000   0.0000e+00 |   0.6986   395           |   0.2127     0.2127     0.0000 |   0.6879   398             |  1.000e-04   0.000e+00 |\n",
      "23:24:32 343/400  |   0.2144     0.2144     0.0000 |   0.000000   0.0000e+00 |   0.6995   395           |   0.2127     0.2127     0.0000 |   0.6868   398             |  1.000e-04   0.000e+00 |\n",
      "23:27:28 344/400  |   0.2144     0.2144     0.0000 |   0.000000   0.0000e+00 |   0.6990   395           |   0.2127     0.2127     0.0000 |   0.6887   398             |  1.000e-04   0.000e+00 |\n",
      "23:30:23 345/400  |   0.2144     0.2144     0.0000 |   0.000000   0.0000e+00 |   0.6996   395           |   0.2127     0.2127     0.0000 |   0.6881   398             |  1.000e-04   0.000e+00 |\n",
      "23:33:19 346/400  |   0.2144     0.2144     0.0000 |   0.000000   0.0000e+00 |   0.6996   395           |   0.2128     0.2128     0.0000 |   0.6891   398             |  1.000e-04   0.000e+00 |\n",
      "23:36:15 347/400  |   0.2144     0.2144     0.0000 |   0.000000   0.0000e+00 |   0.6994   395           |   0.2127     0.2127     0.0000 |   0.6877   398             |  1.000e-04   0.000e+00 |\n",
      "23:39:12 348/400  |   0.2143     0.2143     0.0000 |   0.000000   0.0000e+00 |   0.6996   395           |   0.2127     0.2127     0.0000 |   0.6876   398             |  1.000e-04   0.000e+00 |\n",
      "23:42:07 349/400  |   0.2144     0.2144     0.0000 |   0.000000   0.0000e+00 |   0.6999   395           |   0.2127     0.2127     0.0000 |   0.6888   398             |  1.000e-04   0.000e+00 |\n",
      "23:44:58 350/400  |   0.2144     0.2144     0.0000 |   0.000000   0.0000e+00 |   0.6993   395           |   0.2126     0.2126     0.0000 |   0.6866   398             |  1.000e-04   0.000e+00 |\n",
      "23:47:47 351/400  |   0.2143     0.2143     0.0000 |   0.000000   0.0000e+00 |   0.6996   395           |   0.2128     0.2128     0.0000 |   0.6880   398             |  1.000e-04   0.000e+00 |\n",
      "23:50:40 352/400  |   0.2143     0.2143     0.0000 |   0.000000   0.0000e+00 |   0.6995   395           |   0.2127     0.2127     0.0000 |   0.6886   398             |  1.000e-04   0.000e+00 |\n",
      "23:53:31 353/400  |   0.2143     0.2143     0.0000 |   0.000000   0.0000e+00 |   0.6993   395           |   0.2127     0.2127     0.0000 |   0.6881   398             |  1.000e-04   0.000e+00 |\n",
      "23:56:24 354/400  |   0.2144     0.2144     0.0000 |   0.000000   0.0000e+00 |   0.6998   395           |   0.2127     0.2127     0.0000 |   0.6894   398             |  1.000e-04   0.000e+00 |\n",
      "23:59:17 355/400  |   0.2143     0.2143     0.0000 |   0.000000   0.0000e+00 |   0.6998   395           |   0.2127     0.2127     0.0000 |   0.6864   398             |  1.000e-04   0.000e+00 |\n",
      "00:02:11 356/400  |   0.2143     0.2143     0.0000 |   0.000000   0.0000e+00 |   0.6993   395           |   0.2127     0.2127     0.0000 |   0.6881   398             |  1.000e-04   0.000e+00 |\n",
      "00:05:06 357/400  |   0.2143     0.2143     0.0000 |   0.000000   0.0000e+00 |   0.6997   395           |   0.2126     0.2126     0.0000 |   0.6887   398             |  1.000e-04   0.000e+00 |\n",
      "00:08:00 358/400  |   0.2143     0.2143     0.0000 |   0.000000   0.0000e+00 |   0.6997   395           |   0.2127     0.2127     0.0000 |   0.6862   398             |  1.000e-04   0.000e+00 |\n",
      "00:10:53 359/400  |   0.2143     0.2143     0.0000 |   0.000000   0.0000e+00 |   0.6994   395           |   0.2127     0.2127     0.0000 |   0.6853   398             |  1.000e-04   0.000e+00 |\n",
      "00:13:48 360/400  |   0.2143     0.2143     0.0000 |   0.000000   0.0000e+00 |   0.7001   395           |   0.2127     0.2127     0.0000 |   0.6874   398             |  1.000e-04   0.000e+00 |\n",
      "00:16:43 361/400  |   0.2143     0.2143     0.0000 |   0.000000   0.0000e+00 |   0.6993   395           |   0.2126     0.2126     0.0000 |   0.6884   398             |  1.000e-04   0.000e+00 |\n",
      "00:19:38 362/400  |   0.2143     0.2143     0.0000 |   0.000000   0.0000e+00 |   0.7000   395           |   0.2127     0.2127     0.0000 |   0.6872   398             |  1.000e-04   0.000e+00 |\n",
      "00:22:32 363/400  |   0.2143     0.2143     0.0000 |   0.000000   0.0000e+00 |   0.6998   395           |   0.2127     0.2127     0.0000 |   0.6852   398             |  1.000e-04   0.000e+00 |\n",
      "00:25:28 364/400  |   0.2143     0.2143     0.0000 |   0.000000   0.0000e+00 |   0.6992   395           |   0.2127     0.2127     0.0000 |   0.6872   398             |  1.000e-04   0.000e+00 |\n",
      "00:28:24 365/400  |   0.2143     0.2143     0.0000 |   0.000000   0.0000e+00 |   0.6994   395           |   0.2127     0.2127     0.0000 |   0.6859   398             |  1.000e-04   0.000e+00 |\n",
      "00:31:20 366/400  |   0.2143     0.2143     0.0000 |   0.000000   0.0000e+00 |   0.7000   395           |   0.2127     0.2127     0.0000 |   0.6885   398             |  1.000e-04   0.000e+00 |\n",
      "00:34:17 367/400  |   0.2143     0.2143     0.0000 |   0.000000   0.0000e+00 |   0.7002   395           |   0.2127     0.2127     0.0000 |   0.6862   398             |  1.000e-04   0.000e+00 |\n",
      "00:37:12 368/400  |   0.2143     0.2143     0.0000 |   0.000000   0.0000e+00 |   0.6997   395           |   0.2126     0.2126     0.0000 |   0.6870   398             |  1.000e-04   0.000e+00 |\n",
      "00:40:06 369/400  |   0.2143     0.2143     0.0000 |   0.000000   0.0000e+00 |   0.7003   395           |   0.2126     0.2126     0.0000 |   0.6898   398             |  1.000e-04   0.000e+00 |\n",
      "00:43:00 370/400  |   0.2143     0.2143     0.0000 |   0.000000   0.0000e+00 |   0.7002   395           |   0.2127     0.2127     0.0000 |   0.6881   398             |  1.000e-04   0.000e+00 |\n",
      "00:45:57 371/400  |   0.2143     0.2143     0.0000 |   0.000000   0.0000e+00 |   0.7001   395           |   0.2126     0.2126     0.0000 |   0.6879   398             |  1.000e-04   0.000e+00 |\n",
      "00:48:52 372/400  |   0.2143     0.2143     0.0000 |   0.000000   0.0000e+00 |   0.7002   395           |   0.2126     0.2126     0.0000 |   0.6909   398             |  1.000e-04   0.000e+00 |\n",
      "00:51:46 373/400  |   0.2143     0.2143     0.0000 |   0.000000   0.0000e+00 |   0.7002   395           |   0.2126     0.2126     0.0000 |   0.6897   398             |  1.000e-04   0.000e+00 |\n",
      "00:54:40 374/400  |   0.2143     0.2143     0.0000 |   0.000000   0.0000e+00 |   0.6997   395           |   0.2126     0.2126     0.0000 |   0.6884   398             |  1.000e-04   0.000e+00 |\n",
      "00:57:34 375/400  |   0.2143     0.2143     0.0000 |   0.000000   0.0000e+00 |   0.7004   395           |   0.2127     0.2127     0.0000 |   0.6879   398             |  1.000e-04   0.000e+00 |\n",
      "01:00:30 376/400  |   0.2143     0.2143     0.0000 |   0.000000   0.0000e+00 |   0.7000   395           |   0.2126     0.2126     0.0000 |   0.6890   398             |  1.000e-04   0.000e+00 |\n",
      "01:03:28 377/400  |   0.2143     0.2143     0.0000 |   0.000000   0.0000e+00 |   0.7003   395           |   0.2127     0.2127     0.0000 |   0.6879   398             |  1.000e-04   0.000e+00 |\n",
      "01:06:26 378/400  |   0.2143     0.2143     0.0000 |   0.000000   0.0000e+00 |   0.7000   395           |   0.2126     0.2126     0.0000 |   0.6884   398             |  1.000e-04   0.000e+00 |\n",
      "01:09:23 379/400  |   0.2142     0.2142     0.0000 |   0.000000   0.0000e+00 |   0.7004   395           |   0.2127     0.2127     0.0000 |   0.6875   398             |  1.000e-04   0.000e+00 |\n",
      "01:12:17 380/400  |   0.2143     0.2143     0.0000 |   0.000000   0.0000e+00 |   0.6997   395           |   0.2126     0.2126     0.0000 |   0.6883   398             |  1.000e-04   0.000e+00 |\n",
      "01:15:11 381/400  |   0.2142     0.2142     0.0000 |   0.000000   0.0000e+00 |   0.7000   395           |   0.2126     0.2126     0.0000 |   0.6900   398             |  1.000e-04   0.000e+00 |\n",
      "01:18:05 382/400  |   0.2142     0.2142     0.0000 |   0.000000   0.0000e+00 |   0.7005   395           |   0.2126     0.2126     0.0000 |   0.6893   398             |  1.000e-04   0.000e+00 |\n",
      "01:20:57 383/400  |   0.2142     0.2142     0.0000 |   0.000000   0.0000e+00 |   0.7005   395           |   0.2126     0.2126     0.0000 |   0.6899   398             |  1.000e-04   0.000e+00 |\n",
      "01:23:51 384/400  |   0.2142     0.2142     0.0000 |   0.000000   0.0000e+00 |   0.7002   395           |   0.2126     0.2126     0.0000 |   0.6905   398             |  1.000e-04   0.000e+00 |\n",
      "01:26:46 385/400  |   0.2142     0.2142     0.0000 |   0.000000   0.0000e+00 |   0.7003   395           |   0.2126     0.2126     0.0000 |   0.6871   398             |  1.000e-04   0.000e+00 |\n",
      "01:29:40 386/400  |   0.2142     0.2142     0.0000 |   0.000000   0.0000e+00 |   0.7002   395           |   0.2126     0.2126     0.0000 |   0.6893   398             |  1.000e-04   0.000e+00 |\n",
      "01:32:35 387/400  |   0.2142     0.2142     0.0000 |   0.000000   0.0000e+00 |   0.7007   395           |   0.2126     0.2126     0.0000 |   0.6885   398             |  1.000e-04   0.000e+00 |\n",
      "01:35:30 388/400  |   0.2142     0.2142     0.0000 |   0.000000   0.0000e+00 |   0.7006   395           |   0.2126     0.2126     0.0000 |   0.6869   398             |  1.000e-04   0.000e+00 |\n",
      "01:38:25 389/400  |   0.2142     0.2142     0.0000 |   0.000000   0.0000e+00 |   0.7009   395           |   0.2126     0.2126     0.0000 |   0.6876   398             |  1.000e-04   0.000e+00 |\n",
      "01:41:19 390/400  |   0.2142     0.2142     0.0000 |   0.000000   0.0000e+00 |   0.6997   395           |   0.2126     0.2126     0.0000 |   0.6878   398             |  1.000e-04   0.000e+00 |\n",
      "01:44:14 391/400  |   0.2142     0.2142     0.0000 |   0.000000   0.0000e+00 |   0.7001   395           |   0.2126     0.2126     0.0000 |   0.6882   398             |  1.000e-04   0.000e+00 |\n",
      "01:47:07 392/400  |   0.2142     0.2142     0.0000 |   0.000000   0.0000e+00 |   0.7006   395           |   0.2126     0.2126     0.0000 |   0.6885   398             |  1.000e-04   0.000e+00 |\n",
      "01:50:02 393/400  |   0.2142     0.2142     0.0000 |   0.000000   0.0000e+00 |   0.7007   395           |   0.2126     0.2126     0.0000 |   0.6874   398             |  1.000e-04   0.000e+00 |\n",
      "01:53:00 394/400  |   0.2142     0.2142     0.0000 |   0.000000   0.0000e+00 |   0.7011   395           |   0.2126     0.2126     0.0000 |   0.6890   398             |  1.000e-04   0.000e+00 |\n",
      "01:55:57 395/400  |   0.2142     0.2142     0.0000 |   0.000000   0.0000e+00 |   0.7011   395           |   0.2126     0.2126     0.0000 |   0.6903   398             |  1.000e-04   0.000e+00 |\n",
      "01:58:53 396/400  |   0.2142     0.2142     0.0000 |   0.000000   0.0000e+00 |   0.7002   395           |   0.2126     0.2126     0.0000 |   0.6881   398             |  1.000e-04   0.000e+00 |\n",
      "02:01:45 397/400  |   0.2142     0.2142     0.0000 |   0.000000   0.0000e+00 |   0.7005   395           |   0.2126     0.2126     0.0000 |   0.6904   398             |  1.000e-04   0.000e+00 |\n",
      "02:04:31 398/400  |   0.2142     0.2142     0.0000 |   0.000000   0.0000e+00 |   0.7006   395           |   0.2125     0.2125     0.0000 |   0.6912   398             |  1.000e-04   0.000e+00 |\n",
      "02:07:21 399/400  |   0.2142     0.2142     0.0000 |   0.000000   0.0000e+00 |   0.7006   395           |   0.2126     0.2126     0.0000 |   0.6909   398             |  1.000e-04   0.000e+00 |\n",
      "02:10:10 400/400  |   0.2142     0.2142     0.0000 |   0.000000   0.0000e+00 |   0.7006   395           |   0.2125     0.2125     0.0000 |   0.6890   398             |  1.000e-04   0.000e+00 |\n"
     ]
    }
   ],
   "source": [
    "for epoch in range(model.ending_epoch):\n",
    "    display_epoch_metrics(model, epoch)"
   ]
  },
  {
   "cell_type": "code",
   "execution_count": 24,
   "id": "9fcc8b57-78d6-4bcc-b255-9c2639c7dfc4",
   "metadata": {
    "execution": {
     "iopub.execute_input": "2024-09-05T19:18:06.015407Z",
     "iopub.status.busy": "2024-09-05T19:18:06.015037Z",
     "iopub.status.idle": "2024-09-05T19:18:06.078241Z",
     "shell.execute_reply": "2024-09-05T19:18:06.077620Z",
     "shell.execute_reply.started": "2024-09-05T19:18:06.015385Z"
    }
   },
   "outputs": [
    {
     "data": {
      "text/plain": [
       "(300, 400)"
      ]
     },
     "execution_count": 24,
     "metadata": {},
     "output_type": "execute_result"
    },
    {
     "name": "stdout",
     "output_type": "stream",
     "text": [
      " 2024-09-05 21:18:06  epoch  301 of  400\n"
     ]
    }
   ],
   "source": [
    "# model.starting_epoch = 200\n",
    "# model.ending_epoch = 400\n",
    "model.starting_epoch = model.ending_epoch\n",
    "model.ending_epoch += 100\n",
    "\n",
    "model.starting_epoch, model.ending_epoch\n",
    "print(f\" {datetime.now().strftime('%Y-%m-%d %H:%M:%S')}  epoch {model.starting_epoch+1:4d} of {model.ending_epoch:4d}\")"
   ]
  },
  {
   "cell_type": "markdown",
   "id": "4db1bb40-263b-4c7a-bbc6-79836d37c938",
   "metadata": {},
   "source": [
    "### Close WandB Logging"
   ]
  },
  {
   "cell_type": "code",
   "execution_count": null,
   "id": "868e46e6-f18d-410b-a376-7f26433447af",
   "metadata": {
    "scrolled": true
   },
   "outputs": [],
   "source": [
    "if args.WANDB_ACTIVE:\n",
    "    wandb_run.finish()\n",
    "    args.WANDB_ACTIVE = False"
   ]
  },
  {
   "cell_type": "markdown",
   "id": "3041a401-b23a-430e-830a-9888b60edbcb",
   "metadata": {
    "jp-MarkdownHeadingCollapsed": true
   },
   "source": [
    "## Misc stuff"
   ]
  },
  {
   "cell_type": "code",
   "execution_count": null,
   "id": "ec18eb70-3ac2-4156-9083-d2ee8519b889",
   "metadata": {},
   "outputs": [],
   "source": [
    "from snnl.utils import take_checkpoint\n",
    "take_checkpoint(model, args, model.epoch, update_latest = True)\n",
    "# model.epoch\n",
    "\n",
    "# def take_checkpoint(model, args,epoch, update_best = False, update_latest = False):\n",
    "#     assert not (update_best and update_latest), \"best and last cant both be True\"\n",
    "#     if args.WANDB_ACTIVE:\n",
    "#         wandb.unwatch(model)\n",
    "#         args.save_checkpoint(epoch, model, args, update_best = update_best, update_latest=update_latest)\n",
    "#         wandb_watch(item = model, criterion=None, log = 'all', log_freq = 1000, log_graph = False)\n",
    "#     else:\n",
    "#         args.save_checkpoint(epoch, model, args, update_best = update_best, update_latest=update_latest)\n"
   ]
  },
  {
   "cell_type": "code",
   "execution_count": null,
   "id": "b6e416a3-ec1b-4a93-90ec-51ff2a21a1d9",
   "metadata": {},
   "outputs": [],
   "source": [
    "# for p in model.layers:\n",
    "#     if hasattr(p, 'weight'):\n",
    "#         p.weight.shape, p.bias.shape\n",
    "# model.training_history['trn'].keys()\n",
    "# # model.training_history['trn']['L04_W_grad']\n",
    "# model.optimizers['prim']\n",
    "# model.state_dict()['layers.0.weight']\n",
    "# model.optimizers['prim'].zero_grad()\n",
    "# layers.0.weight\n",
    "# display_model_gradients(model, 'test')\n",
    "# model.state_dict()['layers.0.weight'].requires_grad\n",
    "# model.temperature.data\n",
    "# model.snnl_criterion.temperature"
   ]
  },
  {
   "cell_type": "code",
   "execution_count": null,
   "id": "a7f9c23d-23f3-4dd3-9ad0-a9baadc002ec",
   "metadata": {},
   "outputs": [],
   "source": [
    "# model.starting_epoch, model.ending_epoch = 0, 2\n",
    "# epoch = 1\n",
    "# model.temperature = torch.abs(model.temperature)\n",
    "# model.temperature = torch.nn.Parameter(torch.clip(model.temperature, 0.001, None))\n",
    "# model.snnl_criterion.temperature= torch.nn.Parameter(torch.clip(model.snnl_criterion.temperature, 0.001, None))"
   ]
  },
  {
   "cell_type": "code",
   "execution_count": null,
   "id": "74a60d91-ba07-4ccb-a281-13b3344b23fb",
   "metadata": {},
   "outputs": [],
   "source": [
    "# model.state_dict().keys()\n",
    "# # for k in ['temperature', 'snnl_criterion.temperature'\n",
    "# for k in ['temperature', 'snnl_criterion.temperature','layers.0.weight', 'layers.0.bias','layers.2.weight','layers.4.weight','layers.4.bias','layers.5.weight','layers.5.bias','layers.7.weight','layers.9.weight','layers.9.bias',]:\n",
    "#     if model.state_dict()[k].ndim > 1:\n",
    "#         print(f\" {k+' - '+str(model.state_dict()[k].shape):45s} - {model.state_dict()[k][:3,:3].reshape((-1)).data}\")\n",
    "#     else:\n",
    "#         print(f\" {k+' - '+str(model.state_dict()[k].shape):45s} - {model.state_dict()[k][:9].data}\")\n"
   ]
  },
  {
   "cell_type": "markdown",
   "id": "9d7f6ece-b0e4-4e64-bc35-928a3c3f961d",
   "metadata": {},
   "source": [
    "# Plot losses, weights, biases and gradients"
   ]
  },
  {
   "cell_type": "code",
   "execution_count": null,
   "id": "abc9b289-e042-4243-a2b4-c76751589ac3",
   "metadata": {},
   "outputs": [],
   "source": [
    "# if 0:\n",
    "#     model_attributes = model.__dict__\n",
    "#     model.training_history['train'].keys()\n",
    "#     for key, value in model.training_history['train'].items():\n",
    "#         if isinstance(value, List) or key in [\"test_accuracy\", \"test_f1\"]:\n",
    "#             print(f\"{key:25s} {type(value)}  {len(value):7d}  {value[-5:]}\")\n",
    "#     print()\n",
    "#     for key, value in model.training_history['val'].items():\n",
    "#         if isinstance(value, List) or key in [\"test_accuracy\", \"test_f1\"]:\n",
    "#             print(f\"{key:25s} {type(value)}  {len(value):7d}  {value[-5:]}\")        "
   ]
  },
  {
   "cell_type": "code",
   "execution_count": null,
   "id": "fbb441d8-ba3d-4540-abcc-e40aaaa3dd2e",
   "metadata": {},
   "outputs": [],
   "source": [
    "# tmp = np.array(model.training_history['train']['temp_grads'])\n",
    "# for st in range(0,len(tmp), 1000):\n",
    "#     end = st + 1000\n",
    "#     print(f\" {st:5d} - {end:5d}  min: {tmp[st:end].min():9e}   max: {tmp[st:end].max():9e}    avg: {tmp[st:end].mean():9e}   std: {tmp[st:end].std():9e}\")"
   ]
  },
  {
   "cell_type": "code",
   "execution_count": 29,
   "id": "2bc8de25-ddde-4d2c-b97f-1da1d375c991",
   "metadata": {
    "execution": {
     "iopub.execute_input": "2024-09-06T15:38:37.514454Z",
     "iopub.status.busy": "2024-09-06T15:38:37.514140Z",
     "iopub.status.idle": "2024-09-06T15:38:38.604955Z",
     "shell.execute_reply": "2024-09-06T15:38:38.604265Z",
     "shell.execute_reply.started": "2024-09-06T15:38:37.514432Z"
    },
    "scrolled": true
   },
   "outputs": [
    {
     "data": {
      "image/png": "[encoded data removed]",
      "text/plain": [
       "<Figure size 2000x400 with 5 Axes>"
      ]
     },
     "metadata": {},
     "output_type": "display_data"
    }
   ],
   "source": [
    "plot_train_history(model, start= 0, n_bins = 25)"
   ]
  },
  {
   "cell_type": "code",
   "execution_count": 30,
   "id": "a7003431-1058-4531-905a-a0cfa6cc4f16",
   "metadata": {
    "execution": {
     "iopub.execute_input": "2024-09-06T15:38:56.661819Z",
     "iopub.status.busy": "2024-09-06T15:38:56.661382Z",
     "iopub.status.idle": "2024-09-06T15:38:57.058580Z",
     "shell.execute_reply": "2024-09-06T15:38:57.057914Z",
     "shell.execute_reply.started": "2024-09-06T15:38:56.661785Z"
    }
   },
   "outputs": [
    {
     "data": {
      "image/png": "[encoded data removed]",
      "text/plain": [
       "<Figure size 400x400 with 1 Axes>"
      ]
     },
     "metadata": {},
     "output_type": "display_data"
    }
   ],
   "source": [
    "plot_regression_metrics(model,start = 4, n_bins = 25)"
   ]
  },
  {
   "cell_type": "code",
   "execution_count": null,
   "id": "533b465a-6b4a-4696-a014-793b8f7df079",
   "metadata": {
    "scrolled": true
   },
   "outputs": [],
   "source": [
    "plot_train_history(model, start= 0, n_bins = 25)"
   ]
  },
  {
   "cell_type": "code",
   "execution_count": null,
   "id": "85774d06-9f14-4b02-b0c6-b8c60ba92ffa",
   "metadata": {
    "scrolled": true
   },
   "outputs": [],
   "source": [
    "plot_train_history(model, start= 0, n_bins = 25)"
   ]
  },
  {
   "cell_type": "code",
   "execution_count": null,
   "id": "f6b91b33-81bd-47e8-aa8e-bda1bd4d4583",
   "metadata": {
    "scrolled": true
   },
   "outputs": [],
   "source": [
    "plot_train_history(model, start= 100, n_bins = 25)"
   ]
  },
  {
   "cell_type": "code",
   "execution_count": null,
   "id": "5d4eae70-3b13-4893-b485-f8ad87b4cd68",
   "metadata": {
    "scrolled": true
   },
   "outputs": [],
   "source": [
    "plot_train_history(model, start= 10, n_bins = 25)"
   ]
  },
  {
   "cell_type": "code",
   "execution_count": null,
   "id": "7f50fdb6-0457-4cd3-b958-65bb44e4216d",
   "metadata": {},
   "outputs": [],
   "source": [
    "plot_model_parms(model, epochs= 100, n_bins = 15)"
   ]
  },
  {
   "cell_type": "code",
   "execution_count": null,
   "id": "f992e4e5-ea68-4617-8c16-01dfc22f6b94",
   "metadata": {
    "scrolled": true
   },
   "outputs": [],
   "source": [
    "from snnl.utils import plot_regression_metrics\n",
    "# plot_train_metrics(model, n_bins = 25)\n",
    "plot_regression_metrics(model, n_bins = 25)"
   ]
  },
  {
   "cell_type": "markdown",
   "id": "75fb4184-7640-4cc5-bf19-249ebb9fc072",
   "metadata": {
    "execution": {
     "iopub.execute_input": "2024-04-01T00:58:52.961399Z",
     "iopub.status.busy": "2024-04-01T00:58:52.960920Z"
    },
    "jp-MarkdownHeadingCollapsed": true
   },
   "source": [
    "# Load model"
   ]
  },
  {
   "cell_type": "code",
   "execution_count": null,
   "id": "c914b200-c783-4477-9ca7-3370a23ec595",
   "metadata": {},
   "outputs": [],
   "source": [
    "# ex_epochs = 200\n",
    "# ex_mode = 'snnl'\n",
    "ex_runmode = 'baseline'\n",
    "ex_date = \"20240616\"\n",
    "ex_title=\"snglOpt-025Ltnt\"\n",
    "# ex_title=\"secondTry\"\n",
    "# ex_title=\"dropout04\"\n",
    "# title=\"autoencoder\"\n",
    "# title='Xentropy'"
   ]
  },
  {
   "cell_type": "code",
   "execution_count": null,
   "id": "28725c74-24ac-4b2c-b2fe-4314aaf6a77a",
   "metadata": {},
   "outputs": [],
   "source": [
    "# filename = f\"{model.name}_{ex_runmode}_{ex_date}_{ex_title}_{epochs:03d}_cpb_{ex_cpb}_factor_{ex_factor:d}.pt\"\n",
    "# file_pattern = f\"{model.name}_{ex_runmode}_{ex_date}_{ex_title}_*_cpb_{ex_cpb}_factor_{ex_factor:d}.pt\"\n",
    "filename = f\"{model.name}_{ex_runmode}_{ex_date}_{ex_title}_{epochs:03d}.pt\"\n",
    "print(filename)\n",
    "file_pattern = f\"{model.name}_{ex_runmode}_{ex_date}_{ex_title}_*.pt\"\n",
    "print(file_pattern)"
   ]
  },
  {
   "cell_type": "code",
   "execution_count": null,
   "id": "4d96660a-46a2-4d46-bcb8-a3fb2d9a74d9",
   "metadata": {},
   "outputs": [],
   "source": [
    "import glob\n",
    "filelist = glob.glob(file_pattern,root_dir = './ckpts')\n",
    "filelist = sorted(filelist)\n",
    "filelist\n",
    "epochlist =sorted([int(x[-6:-3]) for x in filelist])\n",
    "epochlist\n",
    " "
   ]
  },
  {
   "cell_type": "code",
   "execution_count": null,
   "id": "9e492e3f-f194-4759-b8a6-8a949743d022",
   "metadata": {},
   "outputs": [],
   "source": [
    "# runmode = 'snnl'\n",
    "# ex_date = '20240516'\n",
    "# ex_title = args.exp_title\n",
    "ex_epoch = 200"
   ]
  },
  {
   "cell_type": "code",
   "execution_count": null,
   "id": "a71ca7cd-8258-49ca-b2d6-16268bd34dc7",
   "metadata": {},
   "outputs": [],
   "source": [
    "filename = f\"{model.name}_{args.runmode}_{ex_date}_{ex_title}_ep_{ex_epoch:03d}\"   \n",
    "filename = filelist[-1]\n",
    "if filename[-3:] != '.pt':\n",
    "    filename+='.pt'\n",
    "print(filename)\n",
    "\n",
    "if os.path.exists(os.path.join('ckpts', filename)):\n",
    "    print(f\"\\n *** Checkpoint EXISTS *** \\n\")\n",
    "else:\n",
    "    print(f\"\\n *** Checkpoint DOESNT EXIST *** \\n\")"
   ]
  },
  {
   "cell_type": "code",
   "execution_count": null,
   "id": "2d6a57df-2a6c-4ca5-8bc0-0672d1c03901",
   "metadata": {},
   "outputs": [],
   "source": [
    "mdl , last_epoch = load_checkpoint_v2(model, filename)  \n",
    "print(f\" last epoch : {last_epoch}\")"
   ]
  },
  {
   "cell_type": "code",
   "execution_count": null,
   "id": "72568b6c-66b5-458e-8cdb-11fd70a6d161",
   "metadata": {},
   "outputs": [],
   "source": [
    "print(current_device)\n",
    "print(model.device)\n",
    "model.device = current_device\n",
    "print(model.device)"
   ]
  },
  {
   "cell_type": "code",
   "execution_count": null,
   "id": "00c841d7-6d85-438c-a7da-e8026fb4f644",
   "metadata": {},
   "outputs": [],
   "source": [
    "print(current_device)\n",
    "model.train()\n",
    "model = model.cuda(device=current_device)\n",
    "print(model.device)"
   ]
  },
  {
   "cell_type": "code",
   "execution_count": null,
   "id": "25b03053-b090-4116-898a-acbfb8add271",
   "metadata": {},
   "outputs": [],
   "source": [
    "print(f\" last epoch  {last_epoch}\")"
   ]
  },
  {
   "cell_type": "code",
   "execution_count": null,
   "id": "eb1241f9-4ad1-425f-8526-43c5cd89859c",
   "metadata": {},
   "outputs": [],
   "source": [
    "# starting_epoch = 20\n",
    "starting_epoch = last_epoch\n",
    "epochs = last_epoch + 100\n",
    "# starting_epoch = epoch + 1\n",
    "print(f\" run epochs {starting_epoch+1} to {epochs} \")"
   ]
  },
  {
   "cell_type": "code",
   "execution_count": null,
   "id": "361a2ba1-0bac-4ff8-aa08-950fe7fe2302",
   "metadata": {},
   "outputs": [],
   "source": [
    "print()\n",
    "print(f\" model device         : {model.device}\")\n",
    "print(f\" model temperature    : {model.temperature}\")\n",
    "print() \n",
    "print(f\" loss_factor          : {model.loss_factor}\")\n",
    "print(f\" monitor_grads_layer  : {model.monitor_grads_layer}\")\n",
    "print(f\" Learning rate        : {model.optimizer.param_groups[0]['lr']}\") \n",
    "print(f\" snnl_factor          : {model.snnl_factor}\")\n",
    "if model.use_snnl:\n",
    "    print(f\" temperature          : {model.temperature.item()}\")\n",
    "if model.temp_optimizer is not None:\n",
    "    print(f\" Temperature LR       : {model.temp_optimizer.param_groups[0]['lr']}\") \n",
    "print()\n",
    "\n",
    "for th_key in ['trn', 'val']:\n",
    "    for k,v in model.training_history[th_key].items():\n",
    "        if isinstance(v[-1],str):\n",
    "            print(f\" {k:20s} : {v[-1]:s}  \")\n",
    "        else:\n",
    "            print(f\" {k:20s} : {v[-1]:6f} \")\n",
    "    print()\n"
   ]
  },
  {
   "cell_type": "code",
   "execution_count": null,
   "id": "6a4b320a-e40a-47b2-886f-6130c314afb8",
   "metadata": {
    "scrolled": true
   },
   "outputs": [],
   "source": [
    "model.optimizer.__dict__\n",
    "print()"
   ]
  },
  {
   "cell_type": "code",
   "execution_count": null,
   "id": "903b5c7a-4271-4659-857d-29ee395daedc",
   "metadata": {},
   "outputs": [],
   "source": [
    "model.scheduler.__dict__"
   ]
  }
 ],
 "metadata": {
  "kernelspec": {
   "display_name": "Python [conda env:ptsnnl]",
   "language": "python",
   "name": "conda-env-ptsnnl-py"
  },
  "language_info": {
   "codemirror_mode": {
    "name": "ipython",
    "version": 3
   },
   "file_extension": ".py",
   "mimetype": "text/x-python",
   "name": "python",
   "nbconvert_exporter": "python",
   "pygments_lexer": "ipython3",
   "version": "3.11.0"
  },
  "toc": {
   "base_numbering": 1,
   "nav_menu": {},
   "number_sections": true,
   "sideBar": true,
   "skip_h1_title": false,
   "title_cell": "Table of Contents",
   "title_sidebar": "Contents",
   "toc_cell": false,
   "toc_position": {},
   "toc_section_display": true,
   "toc_window_display": false
  }
 },
 "nbformat": 4,
 "nbformat_minor": 5
}
