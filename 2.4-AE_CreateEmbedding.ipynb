{
 "cells": [
  {
   "cell_type": "markdown",
   "id": "470bf6d5-02a9-4b96-9ece-1ba20577b6ba",
   "metadata": {},
   "source": [
    "  # Created Profile embeddings using trained autoencoder"
   ]
  },
  {
   "cell_type": "markdown",
   "id": "0bc26bb1-4911-4f93-a23b-9b3a87a064b9",
   "metadata": {
    "jp-MarkdownHeadingCollapsed": true
   },
   "source": [
    "# Setup"
   ]
  },
  {
   "cell_type": "code",
   "execution_count": 1,
   "id": "c207aab7-fadf-41ea-a900-3662978c3a18",
   "metadata": {
    "ExecuteTime": {
     "end_time": "2023-04-12T10:29:16.111588Z",
     "start_time": "2023-04-12T10:29:15.764305Z"
    },
    "execution": {
     "iopub.execute_input": "2024-10-02T15:19:22.029071Z",
     "iopub.status.busy": "2024-10-02T15:19:22.028588Z",
     "iopub.status.idle": "2024-10-02T15:19:22.073852Z",
     "shell.execute_reply": "2024-10-02T15:19:22.073262Z",
     "shell.execute_reply.started": "2024-10-02T15:19:22.029027Z"
    }
   },
   "outputs": [
    {
     "data": {
      "text/html": [
       "<style>.container { width:98% !important; }</style>"
      ],
      "text/plain": [
       "<IPython.core.display.HTML object>"
      ]
     },
     "metadata": {},
     "output_type": "display_data"
    }
   ],
   "source": [
    "from IPython.display import display, HTML, Image\n",
    "display(HTML(\"<style>.container { width:98% !important; }</style>\"))\n",
    "%load_ext autoreload  \n",
    "%autoreload 2\n",
    "from IPython.core.interactiveshell import InteractiveShell\n",
    "InteractiveShell.ast_node_interactivity = \"all\""
   ]
  },
  {
   "cell_type": "code",
   "execution_count": 2,
   "id": "802423f8-62ce-4199-b810-7ad2a9158cc4",
   "metadata": {
    "ExecuteTime": {
     "end_time": "2023-04-12T10:29:16.111588Z",
     "start_time": "2023-04-12T10:29:15.764305Z"
    },
    "execution": {
     "iopub.execute_input": "2024-10-02T15:19:22.688069Z",
     "iopub.status.busy": "2024-10-02T15:19:22.687786Z",
     "iopub.status.idle": "2024-10-02T15:19:48.379503Z",
     "shell.execute_reply": "2024-10-02T15:19:48.378960Z",
     "shell.execute_reply.started": "2024-10-02T15:19:22.688042Z"
    }
   },
   "outputs": [
    {
     "name": "stdout",
     "output_type": "stream",
     "text": [
      "insert ./src\n",
      "insert ../..\n",
      "['../..', './src', '/home/kevin/miniforge3/envs/ptsnnl/lib/python311.zip', '/home/kevin/miniforge3/envs/ptsnnl/lib/python3.11', '/home/kevin/miniforge3/envs/ptsnnl/lib/python3.11/lib-dynload', '', '/home/kevin/miniforge3/envs/ptsnnl/lib/python3.11/site-packages', '/home/kevin/miniforge3/envs/ptsnnl/lib/python3.11/site-packages/cytominer_eval-0.1-py3.11.egg']\n"
     ]
    },
    {
     "data": {
      "text/plain": [
       "3"
      ]
     },
     "execution_count": 2,
     "metadata": {},
     "output_type": "execute_result"
    }
   ],
   "source": [
    "import os\n",
    "import sys\n",
    "import csv\n",
    "import time\n",
    "import types\n",
    "import copy\n",
    "import pprint\n",
    "import logging\n",
    "from datetime import datetime\n",
    "for p in ['./src','../..']:\n",
    "    if p not in sys.path:\n",
    "        print(f\"insert {p}\")\n",
    "        sys.path.insert(0, p)\n",
    "print(sys.path)\n",
    "from typing import Dict, List, Tuple\n",
    "\n",
    "import tqdm\n",
    "from matplotlib import pyplot as plt\n",
    "import numpy as np\n",
    "import pandas as pd\n",
    "import scipy\n",
    "from scipy.sparse import csr_matrix\n",
    "import torch\n",
    "from tqdm import tqdm\n",
    "import torch.nn.functional as F\n",
    "from torchinfo import summary\n",
    "import wandb\n",
    "\n",
    "pp = pprint.PrettyPrinter(indent=4)\n",
    "pd.options.display.width = 132\n",
    "torch.set_printoptions(precision=None, threshold=None, edgeitems=None, linewidth=150, profile=None, sci_mode=None)\n",
    "np.set_printoptions(edgeitems=3, infstr='inf', linewidth=150, nanstr='nan')\n",
    "\n",
    "os.environ[\"WANDB_NOTEBOOK_NAME\"] = \"AE-CreateEmbedding.ipynb\"\n",
    "# os.environ[\"CUDA_LAUNCH_BLOCKING\"] = \"1\"\n",
    "# os.environ[\"CUDA_VISIBLE_DEVICES\"] = \"2\"\n",
    "torch.set_num_threads(3)  ## <--- limit to ~ 2 CPUs\n",
    "torch.get_num_threads()"
   ]
  },
  {
   "cell_type": "code",
   "execution_count": 5,
   "id": "f9d47f03-bd93-4dad-ac1f-d4dd182c9f89",
   "metadata": {
    "execution": {
     "iopub.execute_input": "2024-10-02T15:21:00.023441Z",
     "iopub.status.busy": "2024-10-02T15:21:00.022910Z",
     "iopub.status.idle": "2024-10-02T15:21:00.064448Z",
     "shell.execute_reply": "2024-10-02T15:21:00.063814Z",
     "shell.execute_reply.started": "2024-10-02T15:21:00.023398Z"
    }
   },
   "outputs": [],
   "source": [
    "from KevinsRoutines.utils.utils_general import list_namespace\n",
    "from KevinsRoutines.utils.utils_gpu import get_device, set_device\n",
    "\n",
    "import snnl.utils as utils\n",
    "from snnl.utils import parse_args, load_configuration, set_global_seed\n",
    "from snnl.utils import display_model_summary, define_autoencoder_model\n"
   ]
  },
  {
   "cell_type": "code",
   "execution_count": 6,
   "id": "42b84f4f-aef8-4a8d-ad13-5f26bf07b501",
   "metadata": {
    "execution": {
     "iopub.execute_input": "2024-10-02T15:21:01.166397Z",
     "iopub.status.busy": "2024-10-02T15:21:01.166113Z",
     "iopub.status.idle": "2024-10-02T15:21:01.207243Z",
     "shell.execute_reply": "2024-10-02T15:21:01.206438Z",
     "shell.execute_reply.started": "2024-10-02T15:21:01.166374Z"
    },
    "scrolled": true
   },
   "outputs": [
    {
     "name": "stderr",
     "output_type": "stream",
     "text": [
      "2024-10-02 17:21:01,200 - __main__ - INFO: -  Excution started : 2024_10_02_17:21:01 \n",
      "2024-10-02 17:21:01,201 - __main__ - INFO: -  Pytorch version  : 2.2.2\n",
      "2024-10-02 17:21:01,202 - __main__ - INFO: -  Scipy version    : 1.12.0  \t\t Numpy version : 1.26.4\n",
      "2024-10-02 17:21:01,203 - __main__ - INFO: -  WandB version    : 0.17.4  \t\t Pandas version: 2.2.1  \n"
     ]
    }
   ],
   "source": [
    "timestamp = datetime.now().strftime('%Y_%m_%d_%H:%M:%S')\n",
    "logger = logging.getLogger(__name__) \n",
    "logLevel = os.environ.get('LOG_LEVEL', 'INFO').upper()\n",
    "FORMAT = '%(asctime)s - %(name)s - %(levelname)s: - %(message)s'\n",
    "logging.basicConfig(level=\"INFO\", format= FORMAT)\n",
    "\n",
    "logger.info(f\" Excution started : {timestamp} \")\n",
    "logger.info(f\" Pytorch version  : {torch.__version__}\")\n",
    "logger.info(f\" Scipy version    : {scipy.__version__}  \\t\\t Numpy version : {np.__version__}\")\n",
    "logger.info(f\" WandB version    : {wandb.__version__}  \\t\\t Pandas version: {pd.__version__}  \")\n"
   ]
  },
  {
   "cell_type": "markdown",
   "id": "67400122-8437-4384-b567-56ed309062cf",
   "metadata": {},
   "source": [
    "### main(args)"
   ]
  },
  {
   "cell_type": "code",
   "execution_count": 22,
   "id": "80897adc-6f75-4617-9c41-46a8590d6ab9",
   "metadata": {
    "execution": {
     "iopub.execute_input": "2024-10-02T15:50:37.966688Z",
     "iopub.status.busy": "2024-10-02T15:50:37.966166Z",
     "iopub.status.idle": "2024-10-02T15:50:38.008048Z",
     "shell.execute_reply": "2024-10-02T15:50:38.007413Z",
     "shell.execute_reply.started": "2024-10-02T15:50:37.966645Z"
    }
   },
   "outputs": [],
   "source": [
    "RUNMODE       = \"baseline\"\n",
    "# RUNMODE       = \"snnl\"\n",
    "WANDB_ACTIVE  = False\n",
    "LATENT_DIM    = 150\n",
    "HIDDEN_1      = 512\n",
    "EPOCHS        = 5\n",
    "GPU_ID        = 2\n",
    "COMPOUNDS_PER_BATCH = 600\n",
    "ADAM_WEIGHT_DECAY = 0.001\n",
    "SNNL_FACTOR   = 3.0\n",
    "\n",
    "# CONFIGURATION = \"./hyperparameters/ae_baseline_150_512_cpb.yaml\"\n",
    "# CONFIGURATION   = \"./hyperparameters/ae_sn_150_512_cpb.yaml\""
   ]
  },
  {
   "cell_type": "code",
   "execution_count": 23,
   "id": "04e13f2c-6c8e-4bfb-aece-3fa073decc10",
   "metadata": {
    "execution": {
     "iopub.execute_input": "2024-10-02T15:50:38.567427Z",
     "iopub.status.busy": "2024-10-02T15:50:38.567214Z",
     "iopub.status.idle": "2024-10-02T15:50:38.662379Z",
     "shell.execute_reply": "2024-10-02T15:50:38.661733Z",
     "shell.execute_reply.started": "2024-10-02T15:50:38.567407Z"
    },
    "scrolled": true
   },
   "outputs": [
    {
     "data": {
      "text/plain": [
       "Namespace(configuration='hyperparameters/ae_baseline_150_512_cpb.yaml', ckpt=None, cpb=600, exp_title=None, epochs=5, gpu_id=2, learning_rate=None, exp_id=None, runmode='baseline', random_seed=4321, use_prim_optimizer=True, use_temp_optimizer=False, use_annealing=False, anneal_patience=15, use_single_loss=False, temperature=None, adam_weight_decay=0.001, loss_factor=None, snnl_factor=3.0, temperatureLR=None, WANDB_ACTIVE=False)"
      ]
     },
     "execution_count": 23,
     "metadata": {},
     "output_type": "execute_result"
    },
    {
     "name": "stderr",
     "output_type": "stream",
     "text": [
      "2024-10-02 17:50:38,639 - snnl.utils.utils_ptsnnl - INFO: -  command line param configuration             : [hyperparameters/ae_baseline_150_512_cpb.yaml]\n",
      "2024-10-02 17:50:38,639 - snnl.utils.utils_ptsnnl - INFO: -  command line param ckpt                      : [None]\n",
      "2024-10-02 17:50:38,640 - snnl.utils.utils_ptsnnl - INFO: -  command line param cpb                       : [600]\n",
      "2024-10-02 17:50:38,641 - snnl.utils.utils_ptsnnl - INFO: -  command line param exp_title                 : [None]\n",
      "2024-10-02 17:50:38,642 - snnl.utils.utils_ptsnnl - INFO: -  command line param epochs                    : [5]\n",
      "2024-10-02 17:50:38,642 - snnl.utils.utils_ptsnnl - INFO: -  command line param gpu_id                    : [2]\n",
      "2024-10-02 17:50:38,643 - snnl.utils.utils_ptsnnl - INFO: -  command line param learning_rate             : [None]\n",
      "2024-10-02 17:50:38,644 - snnl.utils.utils_ptsnnl - INFO: -  command line param exp_id                    : [None]\n",
      "2024-10-02 17:50:38,644 - snnl.utils.utils_ptsnnl - INFO: -  command line param runmode                   : [baseline]\n",
      "2024-10-02 17:50:38,645 - snnl.utils.utils_ptsnnl - INFO: -  command line param random_seed               : [4321]\n",
      "2024-10-02 17:50:38,646 - snnl.utils.utils_ptsnnl - INFO: -  command line param use_prim_optimizer        : [True]\n",
      "2024-10-02 17:50:38,646 - snnl.utils.utils_ptsnnl - INFO: -  command line param use_temp_optimizer        : [False]\n",
      "2024-10-02 17:50:38,647 - snnl.utils.utils_ptsnnl - INFO: -  command line param use_annealing             : [False]\n",
      "2024-10-02 17:50:38,648 - snnl.utils.utils_ptsnnl - INFO: -  command line param anneal_patience           : [15]\n",
      "2024-10-02 17:50:38,648 - snnl.utils.utils_ptsnnl - INFO: -  command line param use_single_loss           : [False]\n",
      "2024-10-02 17:50:38,649 - snnl.utils.utils_ptsnnl - INFO: -  command line param temperature               : [None]\n",
      "2024-10-02 17:50:38,650 - snnl.utils.utils_ptsnnl - INFO: -  command line param adam_weight_decay         : [0.001]\n",
      "2024-10-02 17:50:38,650 - snnl.utils.utils_ptsnnl - INFO: -  command line param loss_factor               : [None]\n",
      "2024-10-02 17:50:38,653 - snnl.utils.utils_ptsnnl - INFO: -  command line param snnl_factor               : [3.0]\n",
      "2024-10-02 17:50:38,654 - snnl.utils.utils_ptsnnl - INFO: -  command line param temperatureLR             : [None]\n",
      "2024-10-02 17:50:38,654 - snnl.utils.utils_ptsnnl - INFO: -  command line param WANDB_ACTIVE              : [False]\n",
      "2024-10-02 17:50:38,655 - snnl.utils.utils_ptsnnl - INFO: -  command line param exp_title                 : [scpb600_150Ltnt_512]\n",
      "2024-10-02 17:50:38,655 - snnl.utils.utils_ptsnnl - INFO: -  command line param exp_description           : [AE baseline - SnglOpt, latent: 150, hidden_1: 512, cpb: 600]\n"
     ]
    },
    {
     "data": {
      "text/plain": [
       "namespace(project_name='CellPainting_Profiles',\n",
       "          exp_id=None,\n",
       "          exp_name_pfx=None,\n",
       "          exp_name='AE_20241002_1750',\n",
       "          exp_date='20241002_1750',\n",
       "          exp_title='scpb600_150Ltnt_512',\n",
       "          exp_description='AE baseline - SnglOpt, latent: 150, hidden_1: 512, cpb: 600',\n",
       "          exp_folder=None,\n",
       "          folder_sfx=None,\n",
       "          random_seed=4321,\n",
       "          units=[['linear', 1471, 1024],\n",
       "                 ['relu', 0, 0],\n",
       "                 ['linear', 1024, 512],\n",
       "                 ['relu', 0, 0],\n",
       "                 ['linear', 512, 150],\n",
       "                 ['linear', 150, 512],\n",
       "                 ['relu', 0, 0],\n",
       "                 ['linear', 512, 1024],\n",
       "                 ['relu', 0, 0],\n",
       "                 ['linear', 1024, 1471]],\n",
       "          input_shape=1471,\n",
       "          hidden_1=512,\n",
       "          code_units=150,\n",
       "          embedding_layer=4,\n",
       "          show_every=1,\n",
       "          save_every=100,\n",
       "          use_prim_optimizer=True,\n",
       "          use_prim_scheduler=True,\n",
       "          learning_rate=0.001,\n",
       "          loss_factor=1.0,\n",
       "          adam_weight_decay=0.001,\n",
       "          snnl_factor=3.0,\n",
       "          temperature=0.0,\n",
       "          use_temp_optimizer=False,\n",
       "          use_temp_scheduler=False,\n",
       "          temperatureLR=0.0,\n",
       "          SGD_weight_decay=0,\n",
       "          dataset='cellpainting',\n",
       "          cellpainting_args={'sample_size': 3,\n",
       "                             'batch_size': 1,\n",
       "                             'compounds_per_batch': 600,\n",
       "                             'training_path': '/home/kevin/WSL-shared/cellpainting/cj-datasets/output_11102023/3_sample_profiles/3sample_profiles_1482_HashOrder.csv',\n",
       "                             'validation_path': '/home/kevin/WSL-shared/cellpainting/cj-datasets/output_11102023/3_sample_profiles/3sample_profiles_1482_HashOrder_test.csv',\n",
       "                             'test_path': '/home/kevin/WSL-shared/cellpainting/cj-datasets/output_11102023/3_sample_profiles/3sample_profiles_1482_HashOrder_test.csv',\n",
       "                             'train_start': 0,\n",
       "                             'train_end': 240000,\n",
       "                             'val_start': 0,\n",
       "                             'val_end': 24000,\n",
       "                             'test_start': 30000,\n",
       "                             'test_end': 33600,\n",
       "                             'chunksize': None,\n",
       "                             'conversions': None,\n",
       "                             'iterator': True},\n",
       "          paths={'log_dir': './logs',\n",
       "                 'result_dir': './results',\n",
       "                 'checkpoint_dir': './ckpt'},\n",
       "          configuration='hyperparameters/ae_baseline_150_512_cpb.yaml',\n",
       "          cpb=600,\n",
       "          epochs=5,\n",
       "          gpu_id=2,\n",
       "          runmode='baseline',\n",
       "          use_annealing=False,\n",
       "          anneal_patience=15,\n",
       "          use_single_loss=True,\n",
       "          WANDB_ACTIVE=False,\n",
       "          use_sum=False,\n",
       "          SGD_momentum=0,\n",
       "          ckpt=None,\n",
       "          batch_size=1)"
      ]
     },
     "execution_count": 23,
     "metadata": {},
     "output_type": "execute_result"
    }
   ],
   "source": [
    "cli_args = f\" --runmode            {RUNMODE} \" \\\n",
    "            f\" --configuration      hyperparameters/ae_{RUNMODE}_{LATENT_DIM:03d}_{HIDDEN_1}_cpb.yaml\" \\\n",
    "            f\" --epochs             {EPOCHS} \" \\\n",
    "            f\" --seed               4321\" \\\n",
    "            f\" --cpb                {COMPOUNDS_PER_BATCH}\" \\\n",
    "            f\" --adam_wd            {ADAM_WEIGHT_DECAY}\"\\\n",
    "            f\" --snnl_factor        {SNNL_FACTOR}\"\\\n",
    "            f\" --gpu_id             {GPU_ID}  \"  \\\n",
    "            f\" \"\n",
    "cli_args = utils.parse_args(cli_args.split())\n",
    "cli_args\n",
    "\n",
    "args = utils.load_configuration(cli_args)\n",
    "args\n"
   ]
  },
  {
   "cell_type": "code",
   "execution_count": 24,
   "id": "10a020ed-41ea-4a6a-b0ae-5ab140dfd2a5",
   "metadata": {
    "execution": {
     "iopub.execute_input": "2024-10-02T15:50:38.912680Z",
     "iopub.status.busy": "2024-10-02T15:50:38.912177Z",
     "iopub.status.idle": "2024-10-02T15:50:38.954909Z",
     "shell.execute_reply": "2024-10-02T15:50:38.954237Z",
     "shell.execute_reply.started": "2024-10-02T15:50:38.912642Z"
    }
   },
   "outputs": [
    {
     "name": "stdout",
     "output_type": "stream",
     "text": [
      " Switched to: \"cuda:2\"   Device Name: NVIDIA TITAN Xp               \n"
     ]
    }
   ],
   "source": [
    "set_global_seed(args.random_seed)\n",
    "if args.ckpt is not None:\n",
    "    if os.path.exists(os.path.join('ckpts', args.ckpt)):\n",
    "        logger.info(f\"Checkpoint {args.ckpt} found\")\n",
    "        logger.info(f\"Resuming training using checkpoint: {args.ckpt}\")\n",
    "    else:\n",
    "        logger.error(f\"*** Checkpoint {args.ckpt} not found *** \\n\")\n",
    "        raise ValueError(f\"\\n *** Checkpoint DOESNT EXIST *** \\n\")\n",
    "\n",
    "if args.gpu_id is not None:\n",
    "    # _ = get_device(verbose=True)\n",
    "    # print(f\"Current device is : {current_device}\")\n",
    "    args.current_device = set_device(args.gpu_id)\n"
   ]
  },
  {
   "cell_type": "markdown",
   "id": "642b9623-4e44-4252-aa32-8e6214a14559",
   "metadata": {},
   "source": [
    "# Define Dataloaders"
   ]
  },
  {
   "cell_type": "code",
   "execution_count": 61,
   "id": "0ba3cb1a-dcb4-447d-a1d9-c1882f25fbc8",
   "metadata": {
    "execution": {
     "iopub.execute_input": "2024-10-02T16:58:47.349041Z",
     "iopub.status.busy": "2024-10-02T16:58:47.348561Z",
     "iopub.status.idle": "2024-10-02T16:58:47.399454Z",
     "shell.execute_reply": "2024-10-02T16:58:47.398936Z",
     "shell.execute_reply.started": "2024-10-02T16:58:47.348998Z"
    }
   },
   "outputs": [
    {
     "data": {
      "text/plain": [
       "{'sample_size': 3,\n",
       " 'batch_size': 1,\n",
       " 'compounds_per_batch': 600,\n",
       " 'training_path': '/home/kevin/WSL-shared/cellpainting/cj-datasets/output_11102023/3_sample_profiles/3sample_profiles_1482_HashOrder_all.csv',\n",
       " 'validation_path': '/home/kevin/WSL-shared/cellpainting/cj-datasets/output_11102023/3_sample_profiles/3sample_profiles_1482_HashOrder_training_sub_val.csv',\n",
       " 'test_path': '/home/kevin/WSL-shared/cellpainting/cj-datasets/output_11102023/3_sample_profiles/3sample_profiles_1482_HashOrder_training_sub_test.csv',\n",
       " 'train_start': 0,\n",
       " 'train_end': 312000,\n",
       " 'val_start': 0,\n",
       " 'val_end': 21600,\n",
       " 'test_start': 0,\n",
       " 'test_end': 12600,\n",
       " 'chunksize': None,\n",
       " 'conversions': None,\n",
       " 'iterator': True}"
      ]
     },
     "execution_count": 61,
     "metadata": {},
     "output_type": "execute_result"
    }
   ],
   "source": [
    "# args.cellpainting_args['validation_path']\n",
    "\n",
    "args.cellpainting_args['training_path'] = '/home/kevin/WSL-shared/cellpainting/cj-datasets/output_11102023/3_sample_profiles/3sample_profiles_1482_HashOrder_all.csv'\n",
    "args.cellpainting_args['train_start'] = 0\n",
    "args.cellpainting_args['train_end'] = 312_000    # 346542   # 312,000 + 34,542 = 346542\n",
    "\n",
    "args.cellpainting_args['validation_path'] = '/home/kevin/WSL-shared/cellpainting/cj-datasets/output_11102023/3_sample_profiles/3sample_profiles_1482_HashOrder_training_sub_val.csv'\n",
    "args.cellpainting_args['val_start'] = 0\n",
    "args.cellpainting_args['val_end'] = 21_600\n",
    "\n",
    "args.cellpainting_args['test_path'] = '/home/kevin/WSL-shared/cellpainting/cj-datasets/output_11102023/3_sample_profiles/3sample_profiles_1482_HashOrder_training_sub_test.csv'\n",
    "args.cellpainting_args['test_start'] = 0 \n",
    "args.cellpainting_args['test_end'] = 12_600\n",
    "\n",
    "# args.cellpainting_args['training_path'] = '/home/kevin/WSL-shared/cellpainting/cj-datasets/output_11102023/3_sample_profiles/3sample_profiles_1482_HashOrder_training.csv'\n",
    "# args.cellpainting_args['train_start'] = 0\n",
    "# args.cellpainting_args['train_end'] = 399_000  # 312_000\n",
    "\n",
    "# args.cellpainting_args['test_path'] = '/home/kevin/WSL-shared/cellpainting/cj-datasets/output_11102023/3_sample_profiles/3sample_profiles_1482_HashOrder_test.csv'\n",
    "# args.cellpainting_args['test_start'] = 0 \n",
    "# args.cellpainting_args['test_end'] = 34_542\n",
    "\n",
    "args.cellpainting_args"
   ]
  },
  {
   "cell_type": "code",
   "execution_count": 62,
   "id": "86105dca-05a8-4519-8095-94efe15f163e",
   "metadata": {
    "execution": {
     "iopub.execute_input": "2024-10-02T16:58:47.810982Z",
     "iopub.status.busy": "2024-10-02T16:58:47.810453Z",
     "iopub.status.idle": "2024-10-02T16:58:47.879704Z",
     "shell.execute_reply": "2024-10-02T16:58:47.879182Z",
     "shell.execute_reply.started": "2024-10-02T16:58:47.810940Z"
    },
    "scrolled": true
   },
   "outputs": [
    {
     "name": "stderr",
     "output_type": "stream",
     "text": [
      "2024-10-02 18:58:47,845 - root - INFO: -  load cellpainting\n",
      "2024-10-02 18:58:47,846 - snnl.utils.dataloader - INFO: -  Building CellPantingDataset for train\n",
      "2024-10-02 18:58:47,847 - snnl.utils.dataloader - INFO: -  filename:  /home/kevin/WSL-shared/cellpainting/cj-datasets/output_11102023/3_sample_profiles/3sample_profiles_1482_HashOrder_all.csv\n",
      "2024-10-02 18:58:47,847 - snnl.utils.dataloader - INFO: -  type    :  train\n",
      "2024-10-02 18:58:47,848 - snnl.utils.dataloader - INFO: -  start   :  0\n",
      "2024-10-02 18:58:47,849 - snnl.utils.dataloader - INFO: -  end     :  312000\n",
      "2024-10-02 18:58:47,849 - snnl.utils.dataloader - INFO: -  numrows :  312000\n",
      "2024-10-02 18:58:47,850 - snnl.utils.dataloader - INFO: -  names   :  None     usecols :  None\n",
      "2024-10-02 18:58:47,851 - snnl.utils.dataloader - INFO: -  batch_size  :  1\n",
      "2024-10-02 18:58:47,851 - snnl.utils.dataloader - INFO: -  sample_size :  3\n",
      "2024-10-02 18:58:47,852 - snnl.utils.dataloader - INFO: -  compounds_per_batch :  600\n",
      "2024-10-02 18:58:47,852 - snnl.utils.dataloader - INFO: -  rows per batch (chunksize) :  1800\n",
      "2024-10-02 18:58:47,853 - snnl.utils.dataloader - INFO: -  TPSA threshold :  100\n",
      "2024-10-02 18:58:47,854 - snnl.utils.dataloader - INFO: -  Each mini-batch contains 600.0 compounds with 3 samples per compound : total 1800 rows\n",
      "2024-10-02 18:58:47,855 - snnl.utils.dataloader - INFO: -  Number of 1800 row full size batches per epoch: 173\n",
      "2024-10-02 18:58:47,855 - snnl.utils.dataloader - INFO: -  Rows covered by 173 full size batches (1800 rows) per epoch:  311400\n",
      "2024-10-02 18:58:47,856 - snnl.utils.dataloader - INFO: -  Last partial batch contains : 600 rows\n",
      "2024-10-02 18:58:47,856 - snnl.utils.dataloader - INFO: -  \n",
      "2024-10-02 18:58:47,857 - snnl.utils.dataloader - INFO: -  Building CellPantingDataset for val\n",
      "2024-10-02 18:58:47,858 - snnl.utils.dataloader - INFO: -  filename:  /home/kevin/WSL-shared/cellpainting/cj-datasets/output_11102023/3_sample_profiles/3sample_profiles_1482_HashOrder_training_sub_val.csv\n",
      "2024-10-02 18:58:47,858 - snnl.utils.dataloader - INFO: -  type    :  val\n",
      "2024-10-02 18:58:47,859 - snnl.utils.dataloader - INFO: -  start   :  0\n",
      "2024-10-02 18:58:47,860 - snnl.utils.dataloader - INFO: -  end     :  21600\n",
      "2024-10-02 18:58:47,860 - snnl.utils.dataloader - INFO: -  numrows :  21600\n",
      "2024-10-02 18:58:47,861 - snnl.utils.dataloader - INFO: -  names   :  None     usecols :  None\n",
      "2024-10-02 18:58:47,861 - snnl.utils.dataloader - INFO: -  batch_size  :  1\n",
      "2024-10-02 18:58:47,862 - snnl.utils.dataloader - INFO: -  sample_size :  3\n",
      "2024-10-02 18:58:47,862 - snnl.utils.dataloader - INFO: -  compounds_per_batch :  600\n",
      "2024-10-02 18:58:47,862 - snnl.utils.dataloader - INFO: -  rows per batch (chunksize) :  1800\n",
      "2024-10-02 18:58:47,863 - snnl.utils.dataloader - INFO: -  TPSA threshold :  100\n",
      "2024-10-02 18:58:47,863 - snnl.utils.dataloader - INFO: -  Each mini-batch contains 600.0 compounds with 3 samples per compound : total 1800 rows\n",
      "2024-10-02 18:58:47,863 - snnl.utils.dataloader - INFO: -  Number of 1800 row full size batches per epoch: 12\n",
      "2024-10-02 18:58:47,864 - snnl.utils.dataloader - INFO: -  Rows covered by 12 full size batches (1800 rows) per epoch:  21600\n",
      "2024-10-02 18:58:47,864 - snnl.utils.dataloader - INFO: -  Last partial batch contains : 0 rows\n",
      "2024-10-02 18:58:47,865 - snnl.utils.dataloader - INFO: -  \n",
      "2024-10-02 18:58:47,865 - snnl.utils.dataloader - INFO: -  Building CellPantingDataset for test\n",
      "2024-10-02 18:58:47,865 - snnl.utils.dataloader - INFO: -  filename:  /home/kevin/WSL-shared/cellpainting/cj-datasets/output_11102023/3_sample_profiles/3sample_profiles_1482_HashOrder_training_sub_test.csv\n",
      "2024-10-02 18:58:47,866 - snnl.utils.dataloader - INFO: -  type    :  test\n",
      "2024-10-02 18:58:47,866 - snnl.utils.dataloader - INFO: -  start   :  0\n",
      "2024-10-02 18:58:47,867 - snnl.utils.dataloader - INFO: -  end     :  12600\n",
      "2024-10-02 18:58:47,867 - snnl.utils.dataloader - INFO: -  numrows :  12600\n",
      "2024-10-02 18:58:47,867 - snnl.utils.dataloader - INFO: -  names   :  None     usecols :  None\n",
      "2024-10-02 18:58:47,868 - snnl.utils.dataloader - INFO: -  batch_size  :  1\n",
      "2024-10-02 18:58:47,868 - snnl.utils.dataloader - INFO: -  sample_size :  3\n",
      "2024-10-02 18:58:47,868 - snnl.utils.dataloader - INFO: -  compounds_per_batch :  600\n",
      "2024-10-02 18:58:47,869 - snnl.utils.dataloader - INFO: -  rows per batch (chunksize) :  1800\n",
      "2024-10-02 18:58:47,869 - snnl.utils.dataloader - INFO: -  TPSA threshold :  100\n",
      "2024-10-02 18:58:47,870 - snnl.utils.dataloader - INFO: -  Each mini-batch contains 600.0 compounds with 3 samples per compound : total 1800 rows\n",
      "2024-10-02 18:58:47,870 - snnl.utils.dataloader - INFO: -  Number of 1800 row full size batches per epoch: 7\n",
      "2024-10-02 18:58:47,870 - snnl.utils.dataloader - INFO: -  Rows covered by 7 full size batches (1800 rows) per epoch:  12600\n",
      "2024-10-02 18:58:47,871 - snnl.utils.dataloader - INFO: -  Last partial batch contains : 0 rows\n",
      "2024-10-02 18:58:47,871 - snnl.utils.dataloader - INFO: -  \n"
     ]
    },
    {
     "name": "stdout",
     "output_type": "stream",
     "text": [
      " load cellpainting\n",
      " Dataset size: 312000   rows per batch: 1800  tpsa_threshold: 100\n",
      " Dataset size: 21600   rows per batch: 1800  tpsa_threshold: 100\n",
      " Dataset size: 12600   rows per batch: 1800  tpsa_threshold: 100\n"
     ]
    },
    {
     "data": {
      "text/plain": [
       "dict_keys(['train', 'val', 'test'])"
      ]
     },
     "execution_count": 62,
     "metadata": {},
     "output_type": "execute_result"
    }
   ],
   "source": [
    "data_loader = utils.build_dataloaders(args, data = ['train', 'val', 'test'])\n",
    "data_loader.keys()"
   ]
  },
  {
   "cell_type": "code",
   "execution_count": 63,
   "id": "f6b34615-8522-4c30-aa80-07c5ecbc2225",
   "metadata": {
    "execution": {
     "iopub.execute_input": "2024-10-02T16:58:48.577141Z",
     "iopub.status.busy": "2024-10-02T16:58:48.576720Z",
     "iopub.status.idle": "2024-10-02T16:58:48.615097Z",
     "shell.execute_reply": "2024-10-02T16:58:48.614264Z",
     "shell.execute_reply.started": "2024-10-02T16:58:48.577101Z"
    }
   },
   "outputs": [],
   "source": [
    "# for self.batch_count, (batch_features, batch_labels, _, _, _, _) in enumerate(data_loader):\n",
    "# for idx, batch in enumerate(data_loader['train']):\n",
    "#     print(batch[0].shape[0], batch[1].sum())\n",
    "#     # display_cellpainting_batch(idx, batch)\n",
    "#     if idx == 1:\n",
    "#         break"
   ]
  },
  {
   "cell_type": "code",
   "execution_count": 64,
   "id": "4d152fcf-1bf1-4c62-940d-90ff86cf9be1",
   "metadata": {
    "execution": {
     "iopub.execute_input": "2024-10-02T16:58:48.931820Z",
     "iopub.status.busy": "2024-10-02T16:58:48.931330Z",
     "iopub.status.idle": "2024-10-02T16:58:48.972128Z",
     "shell.execute_reply": "2024-10-02T16:58:48.971632Z",
     "shell.execute_reply.started": "2024-10-02T16:58:48.931778Z"
    }
   },
   "outputs": [],
   "source": [
    "# # -----------------------------------------\n",
    "# #  Count pos/neg labels in each dataset\n",
    "# # -----------------------------------------\n",
    "# MINIBATCH_SIZE = args.cellpainting_args['sample_size'] * args.cellpainting_args['compounds_per_batch']\n",
    "# print(f\" Minibatch size : {MINIBATCH_SIZE} \\n\") \n",
    "\n",
    "# for datatype in ['train', 'val','test']:\n",
    "#     minibatches = len(data_loader[datatype]) // MINIBATCH_SIZE\n",
    "#     ttl_rows = 0\n",
    "#     ttl_pos_labels = 0 \n",
    "#     with tqdm(enumerate(data_loader[datatype]), initial=0, total = minibatches, position=0, file=sys.stdout,\n",
    "#               leave= False, \n",
    "#               desc=f\" Count labels \") as t_warmup:\n",
    "#         for batch_count, (batch_features, batch_labels, _, _, _, _) in t_warmup:\n",
    "#             ttl_rows += batch_labels.shape[0]\n",
    "#             ttl_pos_labels += batch_labels.sum()\n",
    "#     ttl_neg_labels = ttl_rows - ttl_pos_labels\n",
    "#     ttl = f\"\\n Dataset: {datatype} -  len of {datatype} data loader: {len(data_loader[datatype])}   number of batches: {minibatches}\"\n",
    "#     print(ttl)\n",
    "#     print('-'*len(ttl))\n",
    "#     print(f\" total rows     : {ttl_rows:7d}\")\n",
    "#     print(f\" total pos rows : {ttl_pos_labels:7.0f} - {ttl_pos_labels*100.0/ttl_rows:5.2f}%\")\n",
    "#     print(f\" total neg rows : {ttl_neg_labels:7.0f} - {ttl_neg_labels*100.0/ttl_rows:5.2f}%\")\n",
    "#     print()"
   ]
  },
  {
   "cell_type": "markdown",
   "id": "f09d67e6-53b8-4dab-aa80-716e1b942874",
   "metadata": {
    "execution": {
     "iopub.execute_input": "2024-09-26T14:41:02.835559Z",
     "iopub.status.busy": "2024-09-26T14:41:02.835208Z",
     "iopub.status.idle": "2024-09-26T14:41:02.875598Z",
     "shell.execute_reply": "2024-09-26T14:41:02.874701Z",
     "shell.execute_reply.started": "2024-09-26T14:41:02.835525Z"
    }
   },
   "source": [
    "     Minibatch size : 1800 \n",
    "                                                                                                                                                                               \n",
    "     Dataset: train\n",
    "    ------------------------------\n",
    "     total rows     : 312000\n",
    "     total pos rows :   37164 - 11.91%\n",
    "     total neg rows :  274836 - 88.09%\n",
    "\n",
    "     Dataset: val -  len of val data loader: 21600   number of batches: 12\n",
    "    -----------------------------------------------------------------------\n",
    "     total rows     :   21600\n",
    "     total pos rows :    2532 - 11.72%\n",
    "     total neg rows :   19068 - 88.28%\n",
    "    \n",
    "                                                                                                                                                                                                                  \n",
    "     Dataset: test -  len of test data loader: 12600   number of batches: 7\n",
    "    ------------------------------------------------------------------------\n",
    "     total rows     :   12600\n",
    "     total pos rows :    1431 - 11.36%\n",
    "     total neg rows :   11169 - 88.64%     \n"
   ]
  },
  {
   "cell_type": "markdown",
   "id": "e24271f0-06fa-4514-ba1a-f19e8ad362eb",
   "metadata": {
    "jp-MarkdownHeadingCollapsed": true
   },
   "source": [
    "# Define Autoencoder Model"
   ]
  },
  {
   "cell_type": "code",
   "execution_count": 65,
   "id": "927ce759-3f8f-479f-bc6e-d1803406b964",
   "metadata": {
    "execution": {
     "iopub.execute_input": "2024-10-02T16:58:50.217407Z",
     "iopub.status.busy": "2024-10-02T16:58:50.216930Z",
     "iopub.status.idle": "2024-10-02T16:58:50.259381Z",
     "shell.execute_reply": "2024-10-02T16:58:50.258569Z",
     "shell.execute_reply.started": "2024-10-02T16:58:50.217362Z"
    },
    "scrolled": true
   },
   "outputs": [
    {
     "name": "stdout",
     "output_type": "stream",
     "text": [
      "   Units             [['linear', 1471, 1024], ['relu', 0, 0], ['linear', 1024, 512], ['relu', 0, 0], ['linear', 512, 150], ['linear', 150, 512], ['relu', 0, 0], ['linear', 512, 1024], ['relu', 0, 0], ['linear', 1024, 1471]]\n",
      "   Latent dim        150\n",
      "   loss_factor       1.0\n",
      "   snnl_factor       3.0\n",
      "   temperature       0.0\n",
      "   learning_rate     0.001\n",
      "   temperatureLR:    0.0\n"
     ]
    }
   ],
   "source": [
    "print(f\"   Units             {args.units}\")\n",
    "print(f\"   Latent dim        {args.code_units}\")\n",
    "print(f\"   loss_factor       {args.loss_factor}\")\n",
    "print(f\"   snnl_factor       {args.snnl_factor}\")\n",
    "print(f\"   temperature       {args.temperature}\")\n",
    "print(f\"   learning_rate     {args.learning_rate}\")\n",
    "print(f\"   temperatureLR:    {args.temperatureLR}\")\n",
    "\n",
    "# list_namespace(args)"
   ]
  },
  {
   "cell_type": "code",
   "execution_count": 66,
   "id": "479f09de-e7df-45ea-a720-a0396adc76f5",
   "metadata": {
    "execution": {
     "iopub.execute_input": "2024-10-02T16:58:51.139348Z",
     "iopub.status.busy": "2024-10-02T16:58:51.138872Z",
     "iopub.status.idle": "2024-10-02T16:58:51.269818Z",
     "shell.execute_reply": "2024-10-02T16:58:51.269123Z",
     "shell.execute_reply.started": "2024-10-02T16:58:51.139307Z"
    }
   },
   "outputs": [
    {
     "data": {
      "text/plain": [
       "'baseline'"
      ]
     },
     "execution_count": 66,
     "metadata": {},
     "output_type": "execute_result"
    },
    {
     "name": "stderr",
     "output_type": "stream",
     "text": [
      "2024-10-02 18:58:51,176 - snnl.utils.utils_notebook - INFO: - Defining model in baseline mode\n",
      "2024-10-02 18:58:51,177 - snnl.models.autoencoder - INFO: -     layer pair:    0  type:linear           input:   1471  output:   1024    weights: [1024, 1471]   \n",
      "2024-10-02 18:58:51,189 - snnl.models.autoencoder - INFO: -     layer pair:    1  type:relu             input:      0  output:      0    weights: [0, 0]   \n",
      "2024-10-02 18:58:51,190 - snnl.models.autoencoder - INFO: -     layer pair:    2  type:linear           input:   1024  output:    512    weights: [512, 1024]   \n",
      "2024-10-02 18:58:51,195 - snnl.models.autoencoder - INFO: -     layer pair:    3  type:relu             input:      0  output:      0    weights: [0, 0]   \n",
      "2024-10-02 18:58:51,195 - snnl.models.autoencoder - INFO: -     layer pair:    4  type:linear           input:    512  output:    150    weights: [150, 512]   \n",
      "2024-10-02 18:58:51,197 - snnl.models.autoencoder - INFO: -     layer pair:    5  type:linear           input:    150  output:    512    weights: [512, 150]   \n",
      "2024-10-02 18:58:51,199 - snnl.models.autoencoder - INFO: -     layer pair:    6  type:relu             input:      0  output:      0    weights: [0, 0]   \n",
      "2024-10-02 18:58:51,199 - snnl.models.autoencoder - INFO: -     layer pair:    7  type:linear           input:    512  output:   1024    weights: [1024, 512]   \n",
      "2024-10-02 18:58:51,204 - snnl.models.autoencoder - INFO: -     layer pair:    8  type:relu             input:      0  output:      0    weights: [0, 0]   \n",
      "2024-10-02 18:58:51,205 - snnl.models.autoencoder - INFO: -     layer pair:    9  type:linear           input:   1024  output:   1471    weights: [1471, 1024]   \n"
     ]
    },
    {
     "name": "stdout",
     "output_type": "stream",
     "text": [
      " EMBEDDING LAYER: 4\n",
      " Device cuda:2 will be used\n",
      "\n",
      "------------------------------------------------------------\n",
      " Building Base Model from NOTEBOOK\n",
      "------------------------------------------------------------\n",
      "    Model_init()_    -- mode:              autoencoding\n",
      "    Model_init()_    -- Unsupervised :     True\n",
      "    Model_init()_    -- Support for unsupervised training  in 'autoencoding' mode is True\n",
      "    Model_init()_    -- Criterion:         MSELoss()\n",
      "    Model_init()_    -- use_snnl :         False\n",
      "    Model_init()_    -- temperature :      0\n",
      "    Model_init()_    -- temperature LR:    0.0\n",
      "\n",
      "------------------------------------------------------------\n",
      " Building Autoencoder from NOTEBOOK\n",
      "------------------------------------------------------------\n",
      "setup_prim_optimizer()\n",
      "    AE init() -- mode               : autoencoding\n",
      "    AE init() -- unsupervised       : True\n",
      "    AE init() -- layer_types        : ['linear', 'relu', 'linear', 'relu', 'linear', 'linear', 'relu', 'linear', 'relu', 'linear']\n",
      "    AE init() -- non linearities    : ['relu', 'relu', 'relu', 'relu']\n",
      "    AE init() -- Primary Crtierion  : MSELoss()\n",
      "    AE init() -- monitor_grads_layer: None\n",
      "    AE init() -- Primary optimizer  : True\n",
      "    AE init() -- Primary scheduler  : True\n",
      "    AE init() -- use_snnl           : False\n",
      "    AE init() -- SNNL Crtierion     : None\n",
      "    AE init() -- temperature        : 0\n",
      "    AE init() -- temperature LR     : 0.0\n",
      "    AE init() -- Temperature optmzr : False\n",
      "    AE init() -- Temperature schdlr : False\n",
      "cuda:2 cuda:2\n"
     ]
    }
   ],
   "source": [
    "args.runmode\n",
    "model = define_autoencoder_model(args, verbose=True)\n",
    "print(args.current_device, model.device)"
   ]
  },
  {
   "cell_type": "code",
   "execution_count": 67,
   "id": "bfbfd415-769e-46cb-9b41-5847ecfd7935",
   "metadata": {
    "execution": {
     "iopub.execute_input": "2024-10-02T16:58:52.017111Z",
     "iopub.status.busy": "2024-10-02T16:58:52.016636Z",
     "iopub.status.idle": "2024-10-02T16:58:52.055775Z",
     "shell.execute_reply": "2024-10-02T16:58:52.055126Z",
     "shell.execute_reply.started": "2024-10-02T16:58:52.017068Z"
    }
   },
   "outputs": [],
   "source": [
    "# display_model_summary(model)\n",
    "\n",
    "# list_namespace(args)"
   ]
  },
  {
   "cell_type": "markdown",
   "id": "f284c33e-8448-4c0a-a403-8dc1d8cc536d",
   "metadata": {
    "jp-MarkdownHeadingCollapsed": true
   },
   "source": [
    "# Model checkpoint files"
   ]
  },
  {
   "cell_type": "code",
   "execution_count": 68,
   "id": "dd120116-4993-4134-9d5a-6ac4a3347ab3",
   "metadata": {
    "execution": {
     "iopub.execute_input": "2024-10-02T16:58:53.283169Z",
     "iopub.status.busy": "2024-10-02T16:58:53.282640Z",
     "iopub.status.idle": "2024-10-02T16:58:53.324813Z",
     "shell.execute_reply": "2024-10-02T16:58:53.323940Z",
     "shell.execute_reply.started": "2024-10-02T16:58:53.283127Z"
    }
   },
   "outputs": [],
   "source": [
    "args.load_checkpoint = utils.load_checkpoint_v5\n",
    "args.save_checkpoint = utils.save_checkpoint_v5\n",
    "args.ckpt"
   ]
  },
  {
   "cell_type": "code",
   "execution_count": 69,
   "id": "f43a6227-7763-4326-ae86-41dc4d99eecb",
   "metadata": {
    "execution": {
     "iopub.execute_input": "2024-10-02T16:58:54.087409Z",
     "iopub.status.busy": "2024-10-02T16:58:54.086980Z",
     "iopub.status.idle": "2024-10-02T16:58:54.125711Z",
     "shell.execute_reply": "2024-10-02T16:58:54.125070Z",
     "shell.execute_reply.started": "2024-10-02T16:58:54.087367Z"
    }
   },
   "outputs": [],
   "source": [
    "ex_suffix = '*'\n",
    "\n",
    "if args.runmode == 'snnl':\n",
    "    # ex_runmode = 'snnl'\n",
    "    # ex_datetime = \"20240709_2235\"\n",
    "    # ex_datetime = \"20240829_1712\"\n",
    "    # ex_datetime = \"20240906_2201\"   # <-- CPB: 600, Latent 150, WD = 0.001, SNN Factor 3\n",
    "    # ex_datetime = \"20240917_2004\"   # <-- CPB: 600, Latent 250, WD = 0.001, SNN Factor 3\n",
    "    # ex_datetime = \"20240924_0146\"   # <-- CPB: 600, Latent 250, WD = 0.001, SNN Factor 30\n",
    "    ex_indicator = 'd'\n",
    "else:\n",
    "    ex_runmode = 'base'\n",
    "    # ex_datetime = \"20240917_2017\"   # <-- CPB: 600, Latent 250, WD = 0.001\n",
    "    ex_datetime = \"20240923_1943\"   # <-- CPB: 600, Latent 150, WD = 0.001\n",
    "    ex_indicator = 's'\n"
   ]
  },
  {
   "cell_type": "code",
   "execution_count": 70,
   "id": "53cc2fd5-6315-4bd1-ab3f-834ab981768f",
   "metadata": {
    "execution": {
     "iopub.execute_input": "2024-10-02T16:58:55.220651Z",
     "iopub.status.busy": "2024-10-02T16:58:55.220269Z",
     "iopub.status.idle": "2024-10-02T16:58:55.262393Z",
     "shell.execute_reply": "2024-10-02T16:58:55.261873Z",
     "shell.execute_reply.started": "2024-10-02T16:58:55.220619Z"
    }
   },
   "outputs": [
    {
     "name": "stdout",
     "output_type": "stream",
     "text": [
      "AE_base_scpb600_150Ltnt_512_20240923_1943.pt\n",
      "AE_base_scpb600_150Ltnt_512_20240923_1943*.pt\n",
      "None\n"
     ]
    }
   ],
   "source": [
    "# filename = f\"{model.name}_{ex_runmode}_{ex_date}_{ex_title}_{epochs:03d}_cpb_{ex_cpb}_factor_{ex_factor:d}.pt\"\n",
    "# file_pattern = f\"{model.name}_{ex_runmode}_{ex_date}_{ex_title}_*_cpb_{ex_cpb}_factor_{ex_factor:d}.pt\"\n",
    "# filename = f\"{model.name}_{ex_runmode}_{ex_date}_{ex_title}_{epochs:03d}_cpb_{ex_cpb}_factor_{ex_factor:d}.pt\"\n",
    "# file_pattern = f\"{model.name}_{ex_runmode}_{ex_date}_{ex_title}_ep_*.pt\"\n",
    "# print(filename)\n",
    "# print(file_pattern)\n",
    "\n",
    "filename = f\"{model.name}_{ex_runmode}_{ex_indicator}cpb{COMPOUNDS_PER_BATCH}_{LATENT_DIM}Ltnt_{HIDDEN_1}_{ex_datetime}.pt\"\n",
    "file_pattern = f\"{model.name}_{ex_runmode}_{ex_indicator}cpb{COMPOUNDS_PER_BATCH}_{LATENT_DIM}Ltnt_{HIDDEN_1}_{ex_datetime}{ex_suffix}.pt\"\n",
    "print(filename)\n",
    "print(file_pattern)\n",
    "print(args.ckpt)"
   ]
  },
  {
   "cell_type": "code",
   "execution_count": 71,
   "id": "777cf896-1fda-4e8f-8eb3-581f98132d2a",
   "metadata": {
    "execution": {
     "iopub.execute_input": "2024-10-02T16:58:56.669857Z",
     "iopub.status.busy": "2024-10-02T16:58:56.669378Z",
     "iopub.status.idle": "2024-10-02T16:58:56.711412Z",
     "shell.execute_reply": "2024-10-02T16:58:56.710722Z",
     "shell.execute_reply.started": "2024-10-02T16:58:56.669816Z"
    }
   },
   "outputs": [
    {
     "name": "stdout",
     "output_type": "stream",
     "text": [
      "   0 :  AE_base_scpb600_150Ltnt_512_20240923_1943_BEST.pt\n",
      "   1 :  AE_base_scpb600_150Ltnt_512_20240923_1943_LAST_ep_600.pt\n",
      "   2 :  AE_base_scpb600_150Ltnt_512_20240923_1943_ep_100.pt\n",
      "   3 :  AE_base_scpb600_150Ltnt_512_20240923_1943_ep_200.pt\n",
      "   4 :  AE_base_scpb600_150Ltnt_512_20240923_1943_ep_300.pt\n",
      "   5 :  AE_base_scpb600_150Ltnt_512_20240923_1943_ep_400.pt\n",
      "   6 :  AE_base_scpb600_150Ltnt_512_20240923_1943_ep_500.pt\n",
      "   7 :  AE_base_scpb600_150Ltnt_512_20240923_1943_ep_600.pt\n"
     ]
    }
   ],
   "source": [
    "import glob\n",
    "ckpt_filelist = glob.glob(file_pattern,root_dir = './ckpts')\n",
    "ckpt_filelist = sorted(ckpt_filelist)\n",
    "for i, f in enumerate(ckpt_filelist):\n",
    "    print(f\" {i:3d} :  {f}\")\n",
    "# epochlist =sorted([int(x[-6:-3]) for x in ckpt_filelist])\n",
    "# epochlist"
   ]
  },
  {
   "cell_type": "markdown",
   "id": "90e7b0c3-82ca-4d41-98fb-85e88f14cba0",
   "metadata": {},
   "source": [
    "### Test loading a checkpoint"
   ]
  },
  {
   "cell_type": "code",
   "execution_count": 72,
   "id": "cafba2e0-7e71-4e2c-a2ba-8444278d94b6",
   "metadata": {
    "execution": {
     "iopub.execute_input": "2024-10-02T16:58:59.593743Z",
     "iopub.status.busy": "2024-10-02T16:58:59.593181Z",
     "iopub.status.idle": "2024-10-02T16:58:59.635122Z",
     "shell.execute_reply": "2024-10-02T16:58:59.634544Z",
     "shell.execute_reply.started": "2024-10-02T16:58:59.593700Z"
    }
   },
   "outputs": [
    {
     "data": {
      "text/plain": [
       "'AE_base_scpb600_150Ltnt_512_20240923_1943_BEST.pt'"
      ]
     },
     "execution_count": 72,
     "metadata": {},
     "output_type": "execute_result"
    }
   ],
   "source": [
    "ckpt_file = ckpt_filelist[0]\n",
    "ckpt_file"
   ]
  },
  {
   "cell_type": "code",
   "execution_count": 73,
   "id": "40a99706-11f4-4bdf-9ac8-1bd863002ea3",
   "metadata": {
    "execution": {
     "iopub.execute_input": "2024-10-02T16:59:03.395916Z",
     "iopub.status.busy": "2024-10-02T16:59:03.395429Z",
     "iopub.status.idle": "2024-10-02T16:59:03.484988Z",
     "shell.execute_reply": "2024-10-02T16:59:03.484278Z",
     "shell.execute_reply.started": "2024-10-02T16:59:03.395874Z"
    }
   },
   "outputs": [
    {
     "name": "stderr",
     "output_type": "stream",
     "text": [
      "2024-10-02 18:59:03,433 - root - INFO: - Load model checkpoint from  AE_base_scpb600_150Ltnt_512_20240923_1943_BEST.pt\n",
      "2024-10-02 18:59:03,473 - snnl.utils.utils_ptsnnl - INFO: -  Loaded from checkpoint AE_base_scpb600_150Ltnt_512_20240923_1943_BEST.pt successfully. last epoch on checkpoint: 567\n",
      "2024-10-02 18:59:03,474 - snnl.utils.utils_ptsnnl - INFO: -  Model best training metric   : 0.664312 - epoch: 553\n",
      "2024-10-02 18:59:03,475 - snnl.utils.utils_ptsnnl - INFO: -  Model best validation metric : 0.696222 - epoch: 567\n"
     ]
    },
    {
     "data": {
      "text/plain": [
       "Autoencoder(\n",
       "  (primary_criterion): MSELoss()\n",
       "  (layers): ModuleList(\n",
       "    (0): Linear(in_features=1471, out_features=1024, bias=True)\n",
       "    (1): ReLU()\n",
       "    (2): Linear(in_features=1024, out_features=512, bias=True)\n",
       "    (3): ReLU()\n",
       "    (4): Linear(in_features=512, out_features=150, bias=True)\n",
       "    (5): Linear(in_features=150, out_features=512, bias=True)\n",
       "    (6): ReLU()\n",
       "    (7): Linear(in_features=512, out_features=1024, bias=True)\n",
       "    (8): ReLU()\n",
       "    (9): Linear(in_features=1024, out_features=1471, bias=True)\n",
       "  )\n",
       ")"
      ]
     },
     "execution_count": 73,
     "metadata": {},
     "output_type": "execute_result"
    },
    {
     "name": "stderr",
     "output_type": "stream",
     "text": [
      "2024-10-02 18:59:03,479 - root - INFO: -  Loaded Model device cuda:2 -  Last completed epoch : 567\n"
     ]
    },
    {
     "data": {
      "text/plain": [
       "('cuda:2', 'cuda:2', 'cuda:2')"
      ]
     },
     "execution_count": 73,
     "metadata": {},
     "output_type": "execute_result"
    }
   ],
   "source": [
    "model_copy, last_epoch = args.load_checkpoint(model, ckpt_file, verbose = False)\n",
    "model_copy.train()\n",
    "model_copy.device = args.current_device\n",
    "model_copy = model_copy .cuda(device=args.current_device)\n",
    "logging.info(f\" Loaded Model device {model_copy.device} -  Last completed epoch : {last_epoch}\")\n",
    "\n",
    "args.current_device, model.device, model_copy.device\n",
    "del model_copy"
   ]
  },
  {
   "cell_type": "markdown",
   "id": "c82f8fff-faef-4b2d-9a37-e2f670f7c2bb",
   "metadata": {
    "jp-MarkdownHeadingCollapsed": true
   },
   "source": [
    "# Embedding Output file "
   ]
  },
  {
   "cell_type": "code",
   "execution_count": 74,
   "id": "aa7938ad-cef9-46ce-a52c-4c8fdef1c0b4",
   "metadata": {
    "editable": true,
    "execution": {
     "iopub.execute_input": "2024-10-02T16:59:05.395287Z",
     "iopub.status.busy": "2024-10-02T16:59:05.394809Z",
     "iopub.status.idle": "2024-10-02T16:59:05.436471Z",
     "shell.execute_reply": "2024-10-02T16:59:05.435804Z",
     "shell.execute_reply.started": "2024-10-02T16:59:05.395245Z"
    },
    "slideshow": {
     "slide_type": ""
    },
    "tags": []
   },
   "outputs": [
    {
     "name": "stdout",
     "output_type": "stream",
     "text": [
      "161\n"
     ]
    }
   ],
   "source": [
    "embedding_file_cols = ['Metadata_Source', 'Metadata_Batch', 'Metadata_Plate', 'Metadata_Well', 'Metadata_JCP2022', 'Metadata_Hash', 'Metadata_Bin', 'Metadata_TPSA', 'Metadata_lnTPSA', 'Metadata_log10TPSA', 'Metadata_Permiation']\n",
    "embedding_file_cols += [f'Feature_{x:03d}' for x in range(LATENT_DIM)]\n",
    "output_file_cols = len(embedding_file_cols)\n",
    "print(output_file_cols)\n",
    "OUTPUT_PATH = f\"/home/kevin/WSL-shared/cellpainting/cj-datasets/output_11102023/3_sample_embeddings/\""
   ]
  },
  {
   "cell_type": "code",
   "execution_count": 80,
   "id": "666fad48-0c68-47ae-aa9f-42fbffd6ec6c",
   "metadata": {
    "editable": true,
    "execution": {
     "iopub.execute_input": "2024-10-02T17:05:23.686235Z",
     "iopub.status.busy": "2024-10-02T17:05:23.685681Z",
     "iopub.status.idle": "2024-10-02T17:05:23.739973Z",
     "shell.execute_reply": "2024-10-02T17:05:23.739307Z",
     "shell.execute_reply.started": "2024-10-02T17:05:23.686191Z"
    },
    "slideshow": {
     "slide_type": ""
    },
    "tags": []
   },
   "outputs": [],
   "source": [
    "ae_datetime = ex_datetime     # Autoencoder training - WD = 0.001, SNN Factor 3, CPB = 600\n",
    "ae_runmode = ex_runmode\n",
    "# ae_ckpttype = \"LAST\"\n",
    "ae_ckpttype = \"BEST\"\n",
    "# ae_ckpttype = \"ep100\"\n",
    " "
   ]
  },
  {
   "cell_type": "code",
   "execution_count": 81,
   "id": "2761b417-4fde-45aa-a674-5e5431d78f22",
   "metadata": {
    "editable": true,
    "execution": {
     "iopub.execute_input": "2024-10-02T17:05:25.565103Z",
     "iopub.status.busy": "2024-10-02T17:05:25.564623Z",
     "iopub.status.idle": "2024-10-02T17:05:25.607686Z",
     "shell.execute_reply": "2024-10-02T17:05:25.606979Z",
     "shell.execute_reply.started": "2024-10-02T17:05:25.565062Z"
    },
    "slideshow": {
     "slide_type": ""
    },
    "tags": []
   },
   "outputs": [
    {
     "name": "stdout",
     "output_type": "stream",
     "text": [
      " train output file: \t /home/kevin/WSL-shared/cellpainting/cj-datasets/output_11102023/3_sample_embeddings/3smpl_prfl_embedding_161_HashOrder_base_20240923_1943_BEST_train.csv\n",
      " val output file: \t /home/kevin/WSL-shared/cellpainting/cj-datasets/output_11102023/3_sample_embeddings/3smpl_prfl_embedding_161_HashOrder_base_20240923_1943_BEST_val.csv\n",
      " test output file: \t /home/kevin/WSL-shared/cellpainting/cj-datasets/output_11102023/3_sample_embeddings/3smpl_prfl_embedding_161_HashOrder_base_20240923_1943_BEST_test.csv\n"
     ]
    }
   ],
   "source": [
    "OUTPUT_FILE = f\"3smpl_prfl_embedding_{output_file_cols}_HashOrder_{ae_runmode}_{ae_datetime}_{ae_ckpttype}_{{datatype}}.csv\"\n",
    "OUTPUT_FILE = os.path.join(OUTPUT_PATH, OUTPUT_FILE)\n",
    "\n",
    "for data in ['train', 'val', 'test']:\n",
    "    print(f\" {data} output file: \\t {OUTPUT_FILE.format(datatype = data)}\")\n"
   ]
  },
  {
   "cell_type": "markdown",
   "id": "26467ab0-e2b1-46fa-b8d4-731fcdc4c301",
   "metadata": {
    "jp-MarkdownHeadingCollapsed": true
   },
   "source": [
    "# Load specific checkpoint"
   ]
  },
  {
   "cell_type": "code",
   "execution_count": 82,
   "id": "e2d6f724-099a-40ea-88fd-620190a376a9",
   "metadata": {
    "execution": {
     "iopub.execute_input": "2024-10-02T17:05:32.297219Z",
     "iopub.status.busy": "2024-10-02T17:05:32.296720Z",
     "iopub.status.idle": "2024-10-02T17:05:32.340552Z",
     "shell.execute_reply": "2024-10-02T17:05:32.339898Z",
     "shell.execute_reply.started": "2024-10-02T17:05:32.297178Z"
    }
   },
   "outputs": [
    {
     "data": {
      "text/plain": [
       "'AE_base_scpb600_150Ltnt_512_20240923_1943_BEST.pt'"
      ]
     },
     "execution_count": 82,
     "metadata": {},
     "output_type": "execute_result"
    }
   ],
   "source": [
    "ckpt_file = ckpt_filelist[0]\n",
    "ckpt_file"
   ]
  },
  {
   "cell_type": "code",
   "execution_count": 83,
   "id": "fc303497-4c55-4d39-9ada-bff3cb5fe476",
   "metadata": {
    "execution": {
     "iopub.execute_input": "2024-10-02T17:05:33.998809Z",
     "iopub.status.busy": "2024-10-02T17:05:33.998288Z",
     "iopub.status.idle": "2024-10-02T17:05:34.099101Z",
     "shell.execute_reply": "2024-10-02T17:05:34.098384Z",
     "shell.execute_reply.started": "2024-10-02T17:05:33.998765Z"
    },
    "scrolled": true
   },
   "outputs": [
    {
     "name": "stderr",
     "output_type": "stream",
     "text": [
      "2024-10-02 19:05:34,037 - root - INFO: - Load model checkpoint from  AE_base_scpb600_150Ltnt_512_20240923_1943_BEST.pt\n",
      "2024-10-02 19:05:34,077 - snnl.utils.utils_ptsnnl - INFO: -  Loaded from checkpoint AE_base_scpb600_150Ltnt_512_20240923_1943_BEST.pt successfully. last epoch on checkpoint: 567\n",
      "2024-10-02 19:05:34,078 - snnl.utils.utils_ptsnnl - INFO: -  Model best training metric   : 0.664312 - epoch: 553\n",
      "2024-10-02 19:05:34,079 - snnl.utils.utils_ptsnnl - INFO: -  Model best validation metric : 0.696222 - epoch: 567\n",
      "2024-10-02 19:05:34,095 - snnl.utils.utils_ptsnnl - INFO: -  Loaded model device     : cuda:2\n"
     ]
    },
    {
     "name": "stdout",
     "output_type": "stream",
     "text": [
      "model loaded - last epoch is 567\n"
     ]
    }
   ],
   "source": [
    "model, last_epoch = utils.load_model_from_ckpt(model, args, filename = ckpt_file, cuda_device = model.device, verbose = False)\n",
    "if model is None:\n",
    "    print(f\"model is none\")\n",
    "else:\n",
    "    print(f\"model loaded - last epoch is {last_epoch}\")"
   ]
  },
  {
   "cell_type": "markdown",
   "id": "0716ef50-5581-4b06-9860-e70a57a7853d",
   "metadata": {
    "jp-MarkdownHeadingCollapsed": true
   },
   "source": [
    "# Get latent representations of Training and Test data"
   ]
  },
  {
   "cell_type": "code",
   "execution_count": 84,
   "id": "4b4d403a-7a6d-421f-90b9-1ef3635892b0",
   "metadata": {
    "execution": {
     "iopub.execute_input": "2024-10-02T17:05:37.747128Z",
     "iopub.status.busy": "2024-10-02T17:05:37.746644Z",
     "iopub.status.idle": "2024-10-02T17:10:38.773493Z",
     "shell.execute_reply": "2024-10-02T17:10:38.772632Z",
     "shell.execute_reply.started": "2024-10-02T17:05:37.747085Z"
    },
    "scrolled": true
   },
   "outputs": [
    {
     "name": "stdout",
     "output_type": "stream",
     "text": [
      "****************  train - get latent representation ***************\n",
      " embedding layer: 4 - model.layer: in: 512 out: 150\n",
      "(1800, 161) (1800, 161)\n",
      "(1800, 161) (3600, 161)\n",
      "(1800, 161) (5400, 161)\n",
      "(1800, 161) (7200, 161)\n",
      "(1800, 161) (9000, 161)\n",
      "(1800, 161) (10800, 161)\n",
      "(1800, 161) (12600, 161)\n",
      "(1800, 161) (14400, 161)\n",
      "(1800, 161) (16200, 161)\n",
      "(1800, 161) (18000, 161)\n",
      "(1800, 161) (19800, 161)\n",
      "(1800, 161) (21600, 161)\n",
      "(1800, 161) (23400, 161)\n",
      "(1800, 161) (25200, 161)\n",
      "(1800, 161) (27000, 161)\n",
      "(1800, 161) (28800, 161)\n",
      "(1800, 161) (30600, 161)\n",
      "(1800, 161) (32400, 161)\n",
      "(1800, 161) (34200, 161)\n",
      "(1800, 161) (36000, 161)\n",
      "(1800, 161) (37800, 161)\n",
      "(1800, 161) (39600, 161)\n",
      "(1800, 161) (41400, 161)\n",
      "(1800, 161) (43200, 161)\n",
      "(1800, 161) (45000, 161)\n",
      "(1800, 161) (46800, 161)\n",
      "(1800, 161) (48600, 161)\n",
      "(1800, 161) (50400, 161)\n",
      "(1800, 161) (52200, 161)\n",
      "(1800, 161) (54000, 161)\n",
      "(1800, 161) (55800, 161)\n",
      "(1800, 161) (57600, 161)\n",
      "(1800, 161) (59400, 161)\n",
      "(1800, 161) (61200, 161)\n",
      "(1800, 161) (63000, 161)\n",
      "(1800, 161) (64800, 161)\n",
      "(1800, 161) (66600, 161)\n",
      "(1800, 161) (68400, 161)\n",
      "(1800, 161) (70200, 161)\n",
      "(1800, 161) (72000, 161)\n",
      "(1800, 161) (73800, 161)\n",
      "(1800, 161) (75600, 161)\n",
      "(1800, 161) (77400, 161)\n",
      "(1800, 161) (79200, 161)\n",
      "(1800, 161) (81000, 161)\n",
      "(1800, 161) (82800, 161)\n",
      "(1800, 161) (84600, 161)\n",
      "(1800, 161) (86400, 161)\n",
      "(1800, 161) (88200, 161)\n",
      "(1800, 161) (90000, 161)\n",
      "(1800, 161) (91800, 161)\n",
      "(1800, 161) (93600, 161)\n",
      "(1800, 161) (95400, 161)\n",
      "(1800, 161) (97200, 161)\n",
      "(1800, 161) (99000, 161)\n",
      "(1800, 161) (100800, 161)\n",
      "(1800, 161) (102600, 161)\n",
      "(1800, 161) (104400, 161)\n",
      "(1800, 161) (106200, 161)\n",
      "(1800, 161) (108000, 161)\n",
      "(1800, 161) (109800, 161)\n",
      "(1800, 161) (111600, 161)\n",
      "(1800, 161) (113400, 161)\n",
      "(1800, 161) (115200, 161)\n",
      "(1800, 161) (117000, 161)\n",
      "(1800, 161) (118800, 161)\n",
      "(1800, 161) (120600, 161)\n",
      "(1800, 161) (122400, 161)\n",
      "(1800, 161) (124200, 161)\n",
      "(1800, 161) (126000, 161)\n",
      "(1800, 161) (127800, 161)\n",
      "(1800, 161) (129600, 161)\n",
      "(1800, 161) (131400, 161)\n",
      "(1800, 161) (133200, 161)\n",
      "(1800, 161) (135000, 161)\n",
      "(1800, 161) (136800, 161)\n",
      "(1800, 161) (138600, 161)\n",
      "(1800, 161) (140400, 161)\n",
      "(1800, 161) (142200, 161)\n",
      "(1800, 161) (144000, 161)\n",
      "(1800, 161) (145800, 161)\n",
      "(1800, 161) (147600, 161)\n",
      "(1800, 161) (149400, 161)\n",
      "(1800, 161) (151200, 161)\n",
      "(1800, 161) (153000, 161)\n",
      "(1800, 161) (154800, 161)\n",
      "(1800, 161) (156600, 161)\n",
      "(1800, 161) (158400, 161)\n",
      "(1800, 161) (160200, 161)\n",
      "(1800, 161) (162000, 161)\n",
      "(1800, 161) (163800, 161)\n",
      "(1800, 161) (165600, 161)\n",
      "(1800, 161) (167400, 161)\n",
      "(1800, 161) (169200, 161)\n",
      "(1800, 161) (171000, 161)\n",
      "(1800, 161) (172800, 161)\n",
      "(1800, 161) (174600, 161)\n",
      "(1800, 161) (176400, 161)\n",
      "(1800, 161) (178200, 161)\n",
      "(1800, 161) (180000, 161)\n",
      "(1800, 161) (181800, 161)\n",
      "(1800, 161) (183600, 161)\n",
      "(1800, 161) (185400, 161)\n",
      "(1800, 161) (187200, 161)\n",
      "(1800, 161) (189000, 161)\n",
      "(1800, 161) (190800, 161)\n",
      "(1800, 161) (192600, 161)\n",
      "(1800, 161) (194400, 161)\n",
      "(1800, 161) (196200, 161)\n",
      "(1800, 161) (198000, 161)\n",
      "(1800, 161) (199800, 161)\n",
      "(1800, 161) (201600, 161)\n",
      "(1800, 161) (203400, 161)\n",
      "(1800, 161) (205200, 161)\n",
      "(1800, 161) (207000, 161)\n",
      "(1800, 161) (208800, 161)\n",
      "(1800, 161) (210600, 161)\n",
      "(1800, 161) (212400, 161)\n",
      "(1800, 161) (214200, 161)\n",
      "(1800, 161) (216000, 161)\n",
      "(1800, 161) (217800, 161)\n",
      "(1800, 161) (219600, 161)\n",
      "(1800, 161) (221400, 161)\n",
      "(1800, 161) (223200, 161)\n",
      "(1800, 161) (225000, 161)\n",
      "(1800, 161) (226800, 161)\n",
      "(1800, 161) (228600, 161)\n",
      "(1800, 161) (230400, 161)\n",
      "(1800, 161) (232200, 161)\n",
      "(1800, 161) (234000, 161)\n",
      "(1800, 161) (235800, 161)\n",
      "(1800, 161) (237600, 161)\n",
      "(1800, 161) (239400, 161)\n",
      "(1800, 161) (241200, 161)\n",
      "(1800, 161) (243000, 161)\n",
      "(1800, 161) (244800, 161)\n",
      "(1800, 161) (246600, 161)\n",
      "(1800, 161) (248400, 161)\n",
      "(1800, 161) (250200, 161)\n",
      "(1800, 161) (252000, 161)\n",
      "(1800, 161) (253800, 161)\n",
      "(1800, 161) (255600, 161)\n",
      "(1800, 161) (257400, 161)\n",
      "(1800, 161) (259200, 161)\n",
      "(1800, 161) (261000, 161)\n",
      "(1800, 161) (262800, 161)\n",
      "(1800, 161) (264600, 161)\n",
      "(1800, 161) (266400, 161)\n",
      "(1800, 161) (268200, 161)\n",
      "(1800, 161) (270000, 161)\n",
      "(1800, 161) (271800, 161)\n",
      "(1800, 161) (273600, 161)\n",
      "(1800, 161) (275400, 161)\n",
      "(1800, 161) (277200, 161)\n",
      "(1800, 161) (279000, 161)\n",
      "(1800, 161) (280800, 161)\n",
      "(1800, 161) (282600, 161)\n",
      "(1800, 161) (284400, 161)\n",
      "(1800, 161) (286200, 161)\n",
      "(1800, 161) (288000, 161)\n",
      "(1800, 161) (289800, 161)\n",
      "(1800, 161) (291600, 161)\n",
      "(1800, 161) (293400, 161)\n",
      "(1800, 161) (295200, 161)\n",
      "(1800, 161) (297000, 161)\n",
      "(1800, 161) (298800, 161)\n",
      "(1800, 161) (300600, 161)\n",
      "(1800, 161) (302400, 161)\n",
      "(1800, 161) (304200, 161)\n",
      "(1800, 161) (306000, 161)\n",
      "(1800, 161) (307800, 161)\n",
      "(1800, 161) (309600, 161)\n",
      "(1800, 161) (311400, 161)\n",
      "(600, 161) (312000, 161)\n",
      "****************  train - convert to dataframe  ***************\n",
      "****************  train - write to csv file : /home/kevin/WSL-shared/cellpainting/cj-datasets/output_11102023/3_sample_embeddings/3smpl_prfl_embedding_161_HashOrder_base_20240923_1943_BEST_train.csv ***************\n",
      "****************  val - get latent representation ***************\n",
      " embedding layer: 4 - model.layer: in: 512 out: 150\n",
      "(1800, 161) (1800, 161)\n",
      "(1800, 161) (3600, 161)\n",
      "(1800, 161) (5400, 161)\n",
      "(1800, 161) (7200, 161)\n",
      "(1800, 161) (9000, 161)\n",
      "(1800, 161) (10800, 161)\n",
      "(1800, 161) (12600, 161)\n",
      "(1800, 161) (14400, 161)\n",
      "(1800, 161) (16200, 161)\n",
      "(1800, 161) (18000, 161)\n",
      "(1800, 161) (19800, 161)\n",
      "(1800, 161) (21600, 161)\n",
      "****************  val - convert to dataframe  ***************\n",
      "****************  val - write to csv file : /home/kevin/WSL-shared/cellpainting/cj-datasets/output_11102023/3_sample_embeddings/3smpl_prfl_embedding_161_HashOrder_base_20240923_1943_BEST_val.csv ***************\n",
      "****************  test - get latent representation ***************\n",
      " embedding layer: 4 - model.layer: in: 512 out: 150\n",
      "(1800, 161) (1800, 161)\n",
      "(1800, 161) (3600, 161)\n",
      "(1800, 161) (5400, 161)\n",
      "(1800, 161) (7200, 161)\n",
      "(1800, 161) (9000, 161)\n",
      "(1800, 161) (10800, 161)\n",
      "(1800, 161) (12600, 161)\n",
      "****************  test - convert to dataframe  ***************\n",
      "****************  test - write to csv file : /home/kevin/WSL-shared/cellpainting/cj-datasets/output_11102023/3_sample_embeddings/3smpl_prfl_embedding_161_HashOrder_base_20240923_1943_BEST_test.csv ***************\n"
     ]
    }
   ],
   "source": [
    "\n",
    "for datatype, file_suffix in [('train', 'train'), ('val', 'train_sub_val'), ('test', 'train_sub_test')]:\n",
    "    print(f\"****************  {datatype} - get latent representation ***************\")\n",
    "    write_header = True\n",
    "    mdl_outputs = utils.get_latent_representation(model, data_loader[datatype], embedding_layer = 4, verbose = False)\n",
    "\n",
    "    print(f\"****************  {datatype} - convert to dataframe  ***************\")\n",
    "    df_output = pd.DataFrame.from_records(mdl_outputs, columns = embedding_file_cols )\n",
    "\n",
    "    print(f\"****************  {datatype} - write to csv file : {OUTPUT_FILE.format(datatype=datatype)} ***************\")\n",
    "    df_output.to_csv(os.path.join(OUTPUT_PATH, OUTPUT_FILE.format(datatype=file_suffix)), mode = 'a', index = False, header = write_header)\n",
    "    write_header = False\n"
   ]
  },
  {
   "cell_type": "code",
   "execution_count": 4,
   "id": "cc5b7e7d-959d-4ff9-9951-9d0997775c87",
   "metadata": {
    "execution": {
     "iopub.execute_input": "2024-10-02T17:28:35.898543Z",
     "iopub.status.busy": "2024-10-02T17:28:35.898108Z",
     "iopub.status.idle": "2024-10-02T17:28:35.904557Z",
     "shell.execute_reply": "2024-10-02T17:28:35.903612Z",
     "shell.execute_reply.started": "2024-10-02T17:28:35.898483Z"
    }
   },
   "outputs": [
    {
     "name": "stdout",
     "output_type": "stream",
     "text": [
      "train train\n",
      "val train_sub_val\n",
      "test train_sub_test\n"
     ]
    }
   ],
   "source": [
    "for datatype, file_suffix in [('train', 'train'), ('val', 'train_sub_val'), ('test', 'train_sub_test')]:\n",
    "    print(datatype, file_suffix)"
   ]
  },
  {
   "cell_type": "code",
   "execution_count": null,
   "id": "43f881cb-19e9-46c3-a781-64ab806f104e",
   "metadata": {},
   "outputs": [],
   "source": []
  },
  {
   "cell_type": "markdown",
   "id": "e0df219c-9310-4688-9063-c95521b2a12b",
   "metadata": {
    "jp-MarkdownHeadingCollapsed": true
   },
   "source": [
    "# Misc - Read Embedding file just created "
   ]
  },
  {
   "cell_type": "code",
   "execution_count": null,
   "id": "3f558f9a-343b-4065-bc6f-e9a1a64bfb7d",
   "metadata": {
    "execution": {
     "iopub.execute_input": "2024-09-26T15:39:25.544858Z",
     "iopub.status.busy": "2024-09-26T15:39:25.544625Z",
     "iopub.status.idle": "2024-09-26T15:39:29.816384Z",
     "shell.execute_reply": "2024-09-26T15:39:29.815523Z",
     "shell.execute_reply.started": "2024-09-26T15:39:25.544838Z"
    }
   },
   "outputs": [],
   "source": [
    "metadata_cols = ['Metadata_Source', 'Metadata_Batch', 'Metadata_Plate', 'Metadata_Well', 'Metadata_JCP2022','Metadata_Hash','Metadata_Bin', 'Metadata_TPSA', 'Metadata_lnTPSA', 'Metadata_log10TPSA', 'Metadata_Permiation']"
   ]
  },
  {
   "cell_type": "code",
   "execution_count": 85,
   "id": "d71630ca-5703-495e-9635-3f2fbb05e737",
   "metadata": {
    "execution": {
     "iopub.execute_input": "2024-09-26T16:04:49.344498Z",
     "iopub.status.busy": "2024-09-26T16:04:49.344069Z",
     "iopub.status.idle": "2024-09-26T16:04:49.385427Z",
     "shell.execute_reply": "2024-09-26T16:04:49.384922Z",
     "shell.execute_reply.started": "2024-09-26T16:04:49.344459Z"
    }
   },
   "outputs": [
    {
     "data": {
      "text/plain": [
       "'/home/kevin/WSL-shared/cellpainting/cj-datasets/output_11102023/3_sample_embeddings/3smpl_prfl_embedding_161_HashOrder_SNNL_20240829_1712_LAST_train.csv'"
      ]
     },
     "execution_count": 85,
     "metadata": {},
     "output_type": "execute_result"
    }
   ],
   "source": [
    "INPUT_FILE = os.path.join(OUTPUT_PATH, OUTPUT_FILE.format(datatype='train'))\n",
    "# INPUT_FILE = '/home/kevin/WSL-shared/cellpainting/cj-datasets/output_11102023/3_sample_embeddings/3smpl_prfl_embedding_161_HashOrder_SNNL_20240906_2201_LAST_all.csv'\n",
    "# INPUT_FILE = '/home/kevin/WSL-shared/cellpainting/cj-datasets/output_11102023/3_sample_embeddings/3smpl_prfl_embedding_161_HashOrder_SNNL_20240906_2201_LAST_train.csv'\n",
    "INPUT_FILE = '/home/kevin/WSL-shared/cellpainting/cj-datasets/output_11102023/3_sample_embeddings/3smpl_prfl_embedding_161_HashOrder_SNNL_20240829_1712_LAST_train.csv'\n",
    "INPUT_FILE\n"
   ]
  },
  {
   "cell_type": "code",
   "execution_count": 86,
   "id": "02cb1f14-2dd2-4d6e-a685-3b2e54b22c26",
   "metadata": {
    "execution": {
     "iopub.execute_input": "2024-09-26T16:04:52.886869Z",
     "iopub.status.busy": "2024-09-26T16:04:52.886345Z",
     "iopub.status.idle": "2024-09-26T16:04:59.435147Z",
     "shell.execute_reply": "2024-09-26T16:04:59.434434Z",
     "shell.execute_reply.started": "2024-09-26T16:04:52.886829Z"
    }
   },
   "outputs": [],
   "source": [
    "# df_input = pd.read_csv(INPUT_FILE,usecols=['Metadata_Source'])\n",
    "df_train = pd.read_csv(INPUT_FILE,usecols=metadata_cols)"
   ]
  },
  {
   "cell_type": "code",
   "execution_count": 87,
   "id": "8d54a60c-f375-4898-b677-5a29efa2f7ae",
   "metadata": {
    "execution": {
     "iopub.execute_input": "2024-09-26T16:04:59.436794Z",
     "iopub.status.busy": "2024-09-26T16:04:59.436576Z",
     "iopub.status.idle": "2024-09-26T16:04:59.535366Z",
     "shell.execute_reply": "2024-09-26T16:04:59.534677Z",
     "shell.execute_reply.started": "2024-09-26T16:04:59.436774Z"
    }
   },
   "outputs": [
    {
     "data": {
      "text/plain": [
       "(312000, 11)"
      ]
     },
     "execution_count": 87,
     "metadata": {},
     "output_type": "execute_result"
    },
    {
     "name": "stdout",
     "output_type": "stream",
     "text": [
      "<class 'pandas.core.frame.DataFrame'>\n",
      "RangeIndex: 312000 entries, 0 to 311999\n",
      "Data columns (total 11 columns):\n",
      " #   Column               Non-Null Count   Dtype  \n",
      "---  ------               --------------   -----  \n",
      " 0   Metadata_Source      312000 non-null  object \n",
      " 1   Metadata_Batch       312000 non-null  object \n",
      " 2   Metadata_Plate       312000 non-null  object \n",
      " 3   Metadata_Well        312000 non-null  object \n",
      " 4   Metadata_JCP2022     312000 non-null  object \n",
      " 5   Metadata_Hash        312000 non-null  int64  \n",
      " 6   Metadata_Bin         312000 non-null  int64  \n",
      " 7   Metadata_TPSA        312000 non-null  float64\n",
      " 8   Metadata_lnTPSA      312000 non-null  float64\n",
      " 9   Metadata_log10TPSA   312000 non-null  float64\n",
      " 10  Metadata_Permiation  312000 non-null  float64\n",
      "dtypes: float64(4), int64(2), object(5)\n",
      "memory usage: 26.2+ MB\n"
     ]
    }
   ],
   "source": [
    "df_train.shape\n",
    "df_train.info()"
   ]
  },
  {
   "cell_type": "code",
   "execution_count": 88,
   "id": "eb3d18b2-259c-411c-94f7-a2a6b15febf0",
   "metadata": {
    "execution": {
     "iopub.execute_input": "2024-09-26T16:05:10.222308Z",
     "iopub.status.busy": "2024-09-26T16:05:10.221844Z",
     "iopub.status.idle": "2024-09-26T16:05:10.274218Z",
     "shell.execute_reply": "2024-09-26T16:05:10.273361Z",
     "shell.execute_reply.started": "2024-09-26T16:05:10.222266Z"
    }
   },
   "outputs": [
    {
     "data": {
      "text/html": [
       "<div>\n",
       "<style scoped>\n",
       "    .dataframe tbody tr th:only-of-type {\n",
       "        vertical-align: middle;\n",
       "    }\n",
       "\n",
       "    .dataframe tbody tr th {\n",
       "        vertical-align: top;\n",
       "    }\n",
       "\n",
       "    .dataframe thead th {\n",
       "        text-align: right;\n",
       "    }\n",
       "</style>\n",
       "<table border=\"1\" class=\"dataframe\">\n",
       "  <thead>\n",
       "    <tr style=\"text-align: right;\">\n",
       "      <th></th>\n",
       "      <th>Metadata_Source</th>\n",
       "      <th>Metadata_Batch</th>\n",
       "      <th>Metadata_Plate</th>\n",
       "      <th>Metadata_Well</th>\n",
       "      <th>Metadata_JCP2022</th>\n",
       "      <th>Metadata_Hash</th>\n",
       "      <th>Metadata_Bin</th>\n",
       "      <th>Metadata_TPSA</th>\n",
       "      <th>Metadata_lnTPSA</th>\n",
       "      <th>Metadata_log10TPSA</th>\n",
       "      <th>Metadata_Permiation</th>\n",
       "    </tr>\n",
       "  </thead>\n",
       "  <tbody>\n",
       "    <tr>\n",
       "      <th>0</th>\n",
       "      <td>source_1</td>\n",
       "      <td>Batch5_20221030</td>\n",
       "      <td>UL001793</td>\n",
       "      <td>M26</td>\n",
       "      <td>JCP2022_006020</td>\n",
       "      <td>-9223347314827979542</td>\n",
       "      <td>10</td>\n",
       "      <td>71.18</td>\n",
       "      <td>4.265212</td>\n",
       "      <td>1.852358</td>\n",
       "      <td>0.0</td>\n",
       "    </tr>\n",
       "    <tr>\n",
       "      <th>1</th>\n",
       "      <td>source_10</td>\n",
       "      <td>2021_06_22_U2OS_48_hr_run8</td>\n",
       "      <td>Dest210622-143628</td>\n",
       "      <td>M04</td>\n",
       "      <td>JCP2022_006020</td>\n",
       "      <td>-9223347314827979542</td>\n",
       "      <td>10</td>\n",
       "      <td>71.18</td>\n",
       "      <td>4.265212</td>\n",
       "      <td>1.852358</td>\n",
       "      <td>0.0</td>\n",
       "    </tr>\n",
       "    <tr>\n",
       "      <th>2</th>\n",
       "      <td>source_3</td>\n",
       "      <td>CP_31_all_Phenix1</td>\n",
       "      <td>B040603b</td>\n",
       "      <td>G13</td>\n",
       "      <td>JCP2022_006020</td>\n",
       "      <td>-9223347314827979542</td>\n",
       "      <td>10</td>\n",
       "      <td>71.18</td>\n",
       "      <td>4.265212</td>\n",
       "      <td>1.852358</td>\n",
       "      <td>0.0</td>\n",
       "    </tr>\n",
       "    <tr>\n",
       "      <th>3</th>\n",
       "      <td>source_6</td>\n",
       "      <td>p211004CPU2OS48hw384exp031JUMP</td>\n",
       "      <td>110000295562</td>\n",
       "      <td>M08</td>\n",
       "      <td>JCP2022_058905</td>\n",
       "      <td>-9223229703754907651</td>\n",
       "      <td>13</td>\n",
       "      <td>58.65</td>\n",
       "      <td>4.071588</td>\n",
       "      <td>1.768268</td>\n",
       "      <td>0.0</td>\n",
       "    </tr>\n",
       "    <tr>\n",
       "      <th>4</th>\n",
       "      <td>source_3</td>\n",
       "      <td>CP_32_all_Phenix1</td>\n",
       "      <td>B40003aW</td>\n",
       "      <td>M08</td>\n",
       "      <td>JCP2022_058905</td>\n",
       "      <td>-9223229703754907651</td>\n",
       "      <td>13</td>\n",
       "      <td>58.65</td>\n",
       "      <td>4.071588</td>\n",
       "      <td>1.768268</td>\n",
       "      <td>0.0</td>\n",
       "    </tr>\n",
       "    <tr>\n",
       "      <th>...</th>\n",
       "      <td>...</td>\n",
       "      <td>...</td>\n",
       "      <td>...</td>\n",
       "      <td>...</td>\n",
       "      <td>...</td>\n",
       "      <td>...</td>\n",
       "      <td>...</td>\n",
       "      <td>...</td>\n",
       "      <td>...</td>\n",
       "      <td>...</td>\n",
       "      <td>...</td>\n",
       "    </tr>\n",
       "    <tr>\n",
       "      <th>311995</th>\n",
       "      <td>source_6</td>\n",
       "      <td>p211004CPU2OS48hw384exp031JUMP</td>\n",
       "      <td>110000296294</td>\n",
       "      <td>N12</td>\n",
       "      <td>JCP2022_105575</td>\n",
       "      <td>7406061371488308302</td>\n",
       "      <td>14</td>\n",
       "      <td>50.19</td>\n",
       "      <td>3.915816</td>\n",
       "      <td>1.700617</td>\n",
       "      <td>0.0</td>\n",
       "    </tr>\n",
       "    <tr>\n",
       "      <th>311996</th>\n",
       "      <td>source_2</td>\n",
       "      <td>20210823_Batch_10</td>\n",
       "      <td>1086292051</td>\n",
       "      <td>L21</td>\n",
       "      <td>JCP2022_105575</td>\n",
       "      <td>7406061371488308302</td>\n",
       "      <td>14</td>\n",
       "      <td>50.19</td>\n",
       "      <td>3.915816</td>\n",
       "      <td>1.700617</td>\n",
       "      <td>0.0</td>\n",
       "    </tr>\n",
       "    <tr>\n",
       "      <th>311997</th>\n",
       "      <td>source_10</td>\n",
       "      <td>2021_06_22_U2OS_48_hr_run8</td>\n",
       "      <td>Dest210622-143006</td>\n",
       "      <td>A07</td>\n",
       "      <td>JCP2022_095379</td>\n",
       "      <td>7406311667471038063</td>\n",
       "      <td>15</td>\n",
       "      <td>45.98</td>\n",
       "      <td>3.828207</td>\n",
       "      <td>1.662569</td>\n",
       "      <td>0.0</td>\n",
       "    </tr>\n",
       "    <tr>\n",
       "      <th>311998</th>\n",
       "      <td>source_6</td>\n",
       "      <td>p210928CPU2OS48hw384exp030JUMP</td>\n",
       "      <td>110000296370</td>\n",
       "      <td>A15</td>\n",
       "      <td>JCP2022_095379</td>\n",
       "      <td>7406311667471038063</td>\n",
       "      <td>15</td>\n",
       "      <td>45.98</td>\n",
       "      <td>3.828207</td>\n",
       "      <td>1.662569</td>\n",
       "      <td>0.0</td>\n",
       "    </tr>\n",
       "    <tr>\n",
       "      <th>311999</th>\n",
       "      <td>source_3</td>\n",
       "      <td>CP_32_all_Phenix1</td>\n",
       "      <td>B40503aW</td>\n",
       "      <td>A15</td>\n",
       "      <td>JCP2022_095379</td>\n",
       "      <td>7406311667471038063</td>\n",
       "      <td>15</td>\n",
       "      <td>45.98</td>\n",
       "      <td>3.828207</td>\n",
       "      <td>1.662569</td>\n",
       "      <td>0.0</td>\n",
       "    </tr>\n",
       "  </tbody>\n",
       "</table>\n",
       "<p>312000 rows × 11 columns</p>\n",
       "</div>"
      ],
      "text/plain": [
       "       Metadata_Source                  Metadata_Batch     Metadata_Plate Metadata_Well Metadata_JCP2022        Metadata_Hash  \\\n",
       "0             source_1                 Batch5_20221030           UL001793           M26   JCP2022_006020 -9223347314827979542   \n",
       "1            source_10      2021_06_22_U2OS_48_hr_run8  Dest210622-143628           M04   JCP2022_006020 -9223347314827979542   \n",
       "2             source_3               CP_31_all_Phenix1           B040603b           G13   JCP2022_006020 -9223347314827979542   \n",
       "3             source_6  p211004CPU2OS48hw384exp031JUMP       110000295562           M08   JCP2022_058905 -9223229703754907651   \n",
       "4             source_3               CP_32_all_Phenix1           B40003aW           M08   JCP2022_058905 -9223229703754907651   \n",
       "...                ...                             ...                ...           ...              ...                  ...   \n",
       "311995        source_6  p211004CPU2OS48hw384exp031JUMP       110000296294           N12   JCP2022_105575  7406061371488308302   \n",
       "311996        source_2               20210823_Batch_10         1086292051           L21   JCP2022_105575  7406061371488308302   \n",
       "311997       source_10      2021_06_22_U2OS_48_hr_run8  Dest210622-143006           A07   JCP2022_095379  7406311667471038063   \n",
       "311998        source_6  p210928CPU2OS48hw384exp030JUMP       110000296370           A15   JCP2022_095379  7406311667471038063   \n",
       "311999        source_3               CP_32_all_Phenix1           B40503aW           A15   JCP2022_095379  7406311667471038063   \n",
       "\n",
       "        Metadata_Bin  Metadata_TPSA  Metadata_lnTPSA  Metadata_log10TPSA  Metadata_Permiation  \n",
       "0                 10          71.18         4.265212            1.852358                  0.0  \n",
       "1                 10          71.18         4.265212            1.852358                  0.0  \n",
       "2                 10          71.18         4.265212            1.852358                  0.0  \n",
       "3                 13          58.65         4.071588            1.768268                  0.0  \n",
       "4                 13          58.65         4.071588            1.768268                  0.0  \n",
       "...              ...            ...              ...                 ...                  ...  \n",
       "311995            14          50.19         3.915816            1.700617                  0.0  \n",
       "311996            14          50.19         3.915816            1.700617                  0.0  \n",
       "311997            15          45.98         3.828207            1.662569                  0.0  \n",
       "311998            15          45.98         3.828207            1.662569                  0.0  \n",
       "311999            15          45.98         3.828207            1.662569                  0.0  \n",
       "\n",
       "[312000 rows x 11 columns]"
      ]
     },
     "execution_count": 88,
     "metadata": {},
     "output_type": "execute_result"
    }
   ],
   "source": [
    "df_train"
   ]
  },
  {
   "cell_type": "code",
   "execution_count": 71,
   "id": "d589cb14-c940-439c-b9bf-18c5655d5718",
   "metadata": {
    "execution": {
     "iopub.execute_input": "2024-09-09T16:03:15.559664Z",
     "iopub.status.busy": "2024-09-09T16:03:15.559159Z",
     "iopub.status.idle": "2024-09-09T16:03:15.608717Z",
     "shell.execute_reply": "2024-09-09T16:03:15.608174Z",
     "shell.execute_reply.started": "2024-09-09T16:03:15.559621Z"
    }
   },
   "outputs": [
    {
     "data": {
      "text/plain": [
       "array([305214,  41328])"
      ]
     },
     "execution_count": 71,
     "metadata": {},
     "output_type": "execute_result"
    },
    {
     "data": {
      "text/plain": [
       "346542"
      ]
     },
     "execution_count": 71,
     "metadata": {},
     "output_type": "execute_result"
    }
   ],
   "source": [
    "y_label = df_train.Metadata_Permiation.astype(np.int8)\n",
    "bin_cnt = np.bincount(y_label)\n",
    "bin_cnt\n",
    "bin_cnt.sum()"
   ]
  },
  {
   "cell_type": "code",
   "execution_count": 54,
   "id": "07123fda-d6ed-4329-a84b-6308367e3bb9",
   "metadata": {
    "execution": {
     "iopub.execute_input": "2024-07-19T20:27:06.357594Z",
     "iopub.status.busy": "2024-07-19T20:27:06.357087Z",
     "iopub.status.idle": "2024-07-19T20:27:06.405893Z",
     "shell.execute_reply": "2024-07-19T20:27:06.405122Z",
     "shell.execute_reply.started": "2024-07-19T20:27:06.357552Z"
    }
   },
   "outputs": [
    {
     "data": {
      "text/plain": [
       "346542"
      ]
     },
     "execution_count": 54,
     "metadata": {},
     "output_type": "execute_result"
    }
   ],
   "source": [
    "312000+34542"
   ]
  },
  {
   "cell_type": "markdown",
   "id": "422f2d78-f907-404d-9b21-ecd941788ee6",
   "metadata": {
    "jp-MarkdownHeadingCollapsed": true
   },
   "source": [
    "### test file"
   ]
  },
  {
   "cell_type": "code",
   "execution_count": 89,
   "id": "45d202cb-3d80-430f-92e9-5f7ea645b885",
   "metadata": {
    "execution": {
     "iopub.execute_input": "2024-09-26T16:06:06.092820Z",
     "iopub.status.busy": "2024-09-26T16:06:06.092400Z",
     "iopub.status.idle": "2024-09-26T16:06:06.132104Z",
     "shell.execute_reply": "2024-09-26T16:06:06.131579Z",
     "shell.execute_reply.started": "2024-09-26T16:06:06.092780Z"
    }
   },
   "outputs": [
    {
     "data": {
      "text/plain": [
       "'/home/kevin/WSL-shared/cellpainting/cj-datasets/output_11102023/3_sample_embeddings/3smpl_prfl_embedding_161_HashOrder_SNNL_20240829_1712_LAST_test.csv'"
      ]
     },
     "execution_count": 89,
     "metadata": {},
     "output_type": "execute_result"
    }
   ],
   "source": [
    "INPUT_FILE = os.path.join(OUTPUT_PATH, OUTPUT_FILE.format(datatype='test'))\n",
    "# INPUT_FILE = '/home/kevin/WSL-shared/cellpainting/cj-datasets/output_11102023/3_sample_embeddings/3smpl_prfl_embedding_161_HashOrder_SNNL_20240906_2201_LAST_all.csv'\n",
    "# INPUT_FILE = '/home/kevin/WSL-shared/cellpainting/cj-datasets/output_11102023/3_sample_embeddings/3smpl_prfl_embedding_161_HashOrder_SNNL_20240906_2201_LAST_test.csv'\n",
    "INPUT_FILE = '/home/kevin/WSL-shared/cellpainting/cj-datasets/output_11102023/3_sample_embeddings/3smpl_prfl_embedding_161_HashOrder_SNNL_20240829_1712_LAST_test.csv'\n",
    "INPUT_FILE\n"
   ]
  },
  {
   "cell_type": "code",
   "execution_count": 90,
   "id": "fd206f09-d6a4-4aff-a99b-25123eefe11f",
   "metadata": {
    "execution": {
     "iopub.execute_input": "2024-09-26T16:06:08.150053Z",
     "iopub.status.busy": "2024-09-26T16:06:08.149629Z",
     "iopub.status.idle": "2024-09-26T16:06:09.029211Z",
     "shell.execute_reply": "2024-09-26T16:06:09.028502Z",
     "shell.execute_reply.started": "2024-09-26T16:06:08.150015Z"
    }
   },
   "outputs": [],
   "source": [
    "df_test= pd.read_csv(INPUT_FILE,usecols=['Metadata_Source'])\n",
    "# df_test = pd.read_csv(INPUT_FILE,usecols=metadata_cols)\n",
    "# df_test= pd.read_csv(INPUT_FILE,num)"
   ]
  },
  {
   "cell_type": "code",
   "execution_count": 91,
   "id": "a25e923d-faa8-445d-958b-3168c3543f2f",
   "metadata": {
    "execution": {
     "iopub.execute_input": "2024-09-26T16:06:10.210644Z",
     "iopub.status.busy": "2024-09-26T16:06:10.210187Z",
     "iopub.status.idle": "2024-09-26T16:06:10.257341Z",
     "shell.execute_reply": "2024-09-26T16:06:10.256819Z",
     "shell.execute_reply.started": "2024-09-26T16:06:10.210603Z"
    }
   },
   "outputs": [
    {
     "name": "stdout",
     "output_type": "stream",
     "text": [
      "<class 'pandas.core.frame.DataFrame'>\n",
      "RangeIndex: 34542 entries, 0 to 34541\n",
      "Data columns (total 1 columns):\n",
      " #   Column           Non-Null Count  Dtype \n",
      "---  ------           --------------  ----- \n",
      " 0   Metadata_Source  34542 non-null  object\n",
      "dtypes: object(1)\n",
      "memory usage: 270.0+ KB\n"
     ]
    },
    {
     "data": {
      "text/plain": [
       "(34542, 1)"
      ]
     },
     "execution_count": 91,
     "metadata": {},
     "output_type": "execute_result"
    }
   ],
   "source": [
    "df_test.info()\n",
    "df_test.shape"
   ]
  },
  {
   "cell_type": "code",
   "execution_count": 43,
   "id": "91ed5ded-7d21-40d5-beaa-8d594c1781be",
   "metadata": {
    "execution": {
     "iopub.execute_input": "2024-09-06T22:11:11.645160Z",
     "iopub.status.busy": "2024-09-06T22:11:11.644676Z",
     "iopub.status.idle": "2024-09-06T22:11:11.731489Z",
     "shell.execute_reply": "2024-09-06T22:11:11.730648Z",
     "shell.execute_reply.started": "2024-09-06T22:11:11.645122Z"
    }
   },
   "outputs": [
    {
     "data": {
      "text/html": [
       "<div>\n",
       "<style scoped>\n",
       "    .dataframe tbody tr th:only-of-type {\n",
       "        vertical-align: middle;\n",
       "    }\n",
       "\n",
       "    .dataframe tbody tr th {\n",
       "        vertical-align: top;\n",
       "    }\n",
       "\n",
       "    .dataframe thead th {\n",
       "        text-align: right;\n",
       "    }\n",
       "</style>\n",
       "<table border=\"1\" class=\"dataframe\">\n",
       "  <thead>\n",
       "    <tr style=\"text-align: right;\">\n",
       "      <th></th>\n",
       "      <th>Metadata_Source</th>\n",
       "      <th>Metadata_Batch</th>\n",
       "      <th>Metadata_Plate</th>\n",
       "      <th>Metadata_Well</th>\n",
       "      <th>Metadata_JCP2022</th>\n",
       "      <th>Metadata_Hash</th>\n",
       "      <th>Metadata_Bin</th>\n",
       "      <th>Metadata_TPSA</th>\n",
       "      <th>Metadata_lnTPSA</th>\n",
       "      <th>Metadata_log10TPSA</th>\n",
       "      <th>Metadata_Permiation</th>\n",
       "    </tr>\n",
       "  </thead>\n",
       "  <tbody>\n",
       "    <tr>\n",
       "      <th>0</th>\n",
       "      <td>source_11</td>\n",
       "      <td>Batch2</td>\n",
       "      <td>EC000046</td>\n",
       "      <td>K04</td>\n",
       "      <td>JCP2022_009278</td>\n",
       "      <td>7406361908543180200</td>\n",
       "      <td>8</td>\n",
       "      <td>62.78</td>\n",
       "      <td>4.139637</td>\n",
       "      <td>1.797821</td>\n",
       "      <td>0.0</td>\n",
       "    </tr>\n",
       "    <tr>\n",
       "      <th>1</th>\n",
       "      <td>source_11</td>\n",
       "      <td>Batch2</td>\n",
       "      <td>EC000063</td>\n",
       "      <td>K04</td>\n",
       "      <td>JCP2022_009278</td>\n",
       "      <td>7406361908543180200</td>\n",
       "      <td>8</td>\n",
       "      <td>62.78</td>\n",
       "      <td>4.139637</td>\n",
       "      <td>1.797821</td>\n",
       "      <td>0.0</td>\n",
       "    </tr>\n",
       "    <tr>\n",
       "      <th>2</th>\n",
       "      <td>source_9</td>\n",
       "      <td>20211013-Run14</td>\n",
       "      <td>GR00003281</td>\n",
       "      <td>J15</td>\n",
       "      <td>JCP2022_009278</td>\n",
       "      <td>7406361908543180200</td>\n",
       "      <td>8</td>\n",
       "      <td>62.78</td>\n",
       "      <td>4.139637</td>\n",
       "      <td>1.797821</td>\n",
       "      <td>0.0</td>\n",
       "    </tr>\n",
       "    <tr>\n",
       "      <th>3</th>\n",
       "      <td>source_5</td>\n",
       "      <td>JUMPCPE-20210908-Run28_20210909_072022</td>\n",
       "      <td>AETJUM107</td>\n",
       "      <td>J10</td>\n",
       "      <td>JCP2022_045457</td>\n",
       "      <td>7406621140030190348</td>\n",
       "      <td>12</td>\n",
       "      <td>33.20</td>\n",
       "      <td>3.502550</td>\n",
       "      <td>1.521138</td>\n",
       "      <td>0.0</td>\n",
       "    </tr>\n",
       "    <tr>\n",
       "      <th>4</th>\n",
       "      <td>source_11</td>\n",
       "      <td>Batch3</td>\n",
       "      <td>EC000139</td>\n",
       "      <td>G04</td>\n",
       "      <td>JCP2022_045457</td>\n",
       "      <td>7406621140030190348</td>\n",
       "      <td>12</td>\n",
       "      <td>33.20</td>\n",
       "      <td>3.502550</td>\n",
       "      <td>1.521138</td>\n",
       "      <td>0.0</td>\n",
       "    </tr>\n",
       "    <tr>\n",
       "      <th>...</th>\n",
       "      <td>...</td>\n",
       "      <td>...</td>\n",
       "      <td>...</td>\n",
       "      <td>...</td>\n",
       "      <td>...</td>\n",
       "      <td>...</td>\n",
       "      <td>...</td>\n",
       "      <td>...</td>\n",
       "      <td>...</td>\n",
       "      <td>...</td>\n",
       "      <td>...</td>\n",
       "    </tr>\n",
       "    <tr>\n",
       "      <th>34537</th>\n",
       "      <td>source_9</td>\n",
       "      <td>20211103-Run16</td>\n",
       "      <td>GR00004412</td>\n",
       "      <td>B19</td>\n",
       "      <td>JCP2022_040466</td>\n",
       "      <td>9222528730267146426</td>\n",
       "      <td>10</td>\n",
       "      <td>98.00</td>\n",
       "      <td>4.584967</td>\n",
       "      <td>1.991226</td>\n",
       "      <td>0.0</td>\n",
       "    </tr>\n",
       "    <tr>\n",
       "      <th>34538</th>\n",
       "      <td>source_9</td>\n",
       "      <td>20211103-Run16</td>\n",
       "      <td>GR00004410</td>\n",
       "      <td>R43</td>\n",
       "      <td>JCP2022_040466</td>\n",
       "      <td>9222528730267146426</td>\n",
       "      <td>10</td>\n",
       "      <td>98.00</td>\n",
       "      <td>4.584967</td>\n",
       "      <td>1.991226</td>\n",
       "      <td>0.0</td>\n",
       "    </tr>\n",
       "    <tr>\n",
       "      <th>34539</th>\n",
       "      <td>source_6</td>\n",
       "      <td>p211109CPU2OS48hw384exp035JUMP</td>\n",
       "      <td>110000296165</td>\n",
       "      <td>N13</td>\n",
       "      <td>JCP2022_102583</td>\n",
       "      <td>9223213570900537648</td>\n",
       "      <td>0</td>\n",
       "      <td>56.14</td>\n",
       "      <td>4.027849</td>\n",
       "      <td>1.749272</td>\n",
       "      <td>0.0</td>\n",
       "    </tr>\n",
       "    <tr>\n",
       "      <th>34540</th>\n",
       "      <td>source_1</td>\n",
       "      <td>Batch4_20221012</td>\n",
       "      <td>UL000093</td>\n",
       "      <td>AB26</td>\n",
       "      <td>JCP2022_102583</td>\n",
       "      <td>9223213570900537648</td>\n",
       "      <td>0</td>\n",
       "      <td>56.14</td>\n",
       "      <td>4.027849</td>\n",
       "      <td>1.749272</td>\n",
       "      <td>0.0</td>\n",
       "    </tr>\n",
       "    <tr>\n",
       "      <th>34541</th>\n",
       "      <td>source_2</td>\n",
       "      <td>20210712_Batch_5</td>\n",
       "      <td>1053597950</td>\n",
       "      <td>L04</td>\n",
       "      <td>JCP2022_102583</td>\n",
       "      <td>9223213570900537648</td>\n",
       "      <td>0</td>\n",
       "      <td>56.14</td>\n",
       "      <td>4.027849</td>\n",
       "      <td>1.749272</td>\n",
       "      <td>0.0</td>\n",
       "    </tr>\n",
       "  </tbody>\n",
       "</table>\n",
       "<p>34542 rows × 11 columns</p>\n",
       "</div>"
      ],
      "text/plain": [
       "      Metadata_Source                          Metadata_Batch Metadata_Plate Metadata_Well Metadata_JCP2022        Metadata_Hash  \\\n",
       "0           source_11                                  Batch2       EC000046           K04   JCP2022_009278  7406361908543180200   \n",
       "1           source_11                                  Batch2       EC000063           K04   JCP2022_009278  7406361908543180200   \n",
       "2            source_9                          20211013-Run14     GR00003281           J15   JCP2022_009278  7406361908543180200   \n",
       "3            source_5  JUMPCPE-20210908-Run28_20210909_072022      AETJUM107           J10   JCP2022_045457  7406621140030190348   \n",
       "4           source_11                                  Batch3       EC000139           G04   JCP2022_045457  7406621140030190348   \n",
       "...               ...                                     ...            ...           ...              ...                  ...   \n",
       "34537        source_9                          20211103-Run16     GR00004412           B19   JCP2022_040466  9222528730267146426   \n",
       "34538        source_9                          20211103-Run16     GR00004410           R43   JCP2022_040466  9222528730267146426   \n",
       "34539        source_6          p211109CPU2OS48hw384exp035JUMP   110000296165           N13   JCP2022_102583  9223213570900537648   \n",
       "34540        source_1                         Batch4_20221012       UL000093          AB26   JCP2022_102583  9223213570900537648   \n",
       "34541        source_2                        20210712_Batch_5     1053597950           L04   JCP2022_102583  9223213570900537648   \n",
       "\n",
       "       Metadata_Bin  Metadata_TPSA  Metadata_lnTPSA  Metadata_log10TPSA  Metadata_Permiation  \n",
       "0                 8          62.78         4.139637            1.797821                  0.0  \n",
       "1                 8          62.78         4.139637            1.797821                  0.0  \n",
       "2                 8          62.78         4.139637            1.797821                  0.0  \n",
       "3                12          33.20         3.502550            1.521138                  0.0  \n",
       "4                12          33.20         3.502550            1.521138                  0.0  \n",
       "...             ...            ...              ...                 ...                  ...  \n",
       "34537            10          98.00         4.584967            1.991226                  0.0  \n",
       "34538            10          98.00         4.584967            1.991226                  0.0  \n",
       "34539             0          56.14         4.027849            1.749272                  0.0  \n",
       "34540             0          56.14         4.027849            1.749272                  0.0  \n",
       "34541             0          56.14         4.027849            1.749272                  0.0  \n",
       "\n",
       "[34542 rows x 11 columns]"
      ]
     },
     "execution_count": 43,
     "metadata": {},
     "output_type": "execute_result"
    }
   ],
   "source": [
    "df_test"
   ]
  },
  {
   "cell_type": "code",
   "execution_count": 73,
   "id": "5a52ddfd-ccab-48dd-b025-2ba142ecf122",
   "metadata": {
    "execution": {
     "iopub.execute_input": "2024-09-09T16:04:07.335121Z",
     "iopub.status.busy": "2024-09-09T16:04:07.334633Z",
     "iopub.status.idle": "2024-09-09T16:04:07.391118Z",
     "shell.execute_reply": "2024-09-09T16:04:07.390145Z",
     "shell.execute_reply.started": "2024-09-09T16:04:07.335076Z"
    }
   },
   "outputs": [
    {
     "ename": "NameError",
     "evalue": "name 'df_test' is not defined",
     "output_type": "error",
     "traceback": [
      "\u001b[0;31m---------------------------------------------------------------------------\u001b[0m",
      "\u001b[0;31mNameError\u001b[0m                                 Traceback (most recent call last)",
      "Cell \u001b[0;32mIn[73], line 1\u001b[0m\n\u001b[0;32m----> 1\u001b[0m y_label \u001b[38;5;241m=\u001b[39m \u001b[43mdf_test\u001b[49m\u001b[38;5;241m.\u001b[39mMetadata_Permiation\u001b[38;5;241m.\u001b[39mastype(np\u001b[38;5;241m.\u001b[39mint8)\n\u001b[1;32m      2\u001b[0m bin_cnt \u001b[38;5;241m=\u001b[39m np\u001b[38;5;241m.\u001b[39mbincount(y_label)\n\u001b[1;32m      3\u001b[0m bin_cnt\n",
      "\u001b[0;31mNameError\u001b[0m: name 'df_test' is not defined"
     ]
    }
   ],
   "source": [
    "y_label = df_test.Metadata_Permiation.astype(np.int8)\n",
    "bin_cnt = np.bincount(y_label)\n",
    "bin_cnt"
   ]
  },
  {
   "cell_type": "code",
   "execution_count": 66,
   "id": "2e426b6b-e992-435e-b4c1-a279e53d2912",
   "metadata": {
    "execution": {
     "iopub.execute_input": "2024-09-09T16:02:19.757286Z",
     "iopub.status.busy": "2024-09-09T16:02:19.756797Z",
     "iopub.status.idle": "2024-09-09T16:02:19.800969Z",
     "shell.execute_reply": "2024-09-09T16:02:19.800256Z",
     "shell.execute_reply.started": "2024-09-09T16:02:19.757241Z"
    }
   },
   "outputs": [
    {
     "data": {
      "text/plain": [
       "'/home/kevin/WSL-shared/cellpainting/cj-datasets/output_11102023/3_sample_embeddings/3smpl_prfl_embedding_161_HashOrder_SNNL_20240906_2201_LAST_train.csv'"
      ]
     },
     "execution_count": 66,
     "metadata": {},
     "output_type": "execute_result"
    }
   ],
   "source": [
    "INPUT_FILE = os.path.join(OUTPUT_PATH, OUTPUT_FILE.format(datatype='train'))\n",
    "INPUT_FILE"
   ]
  },
  {
   "cell_type": "code",
   "execution_count": 72,
   "id": "8c673c02-e1a6-4598-9626-7c9fab8dcc24",
   "metadata": {
    "execution": {
     "iopub.execute_input": "2024-09-09T16:03:19.343123Z",
     "iopub.status.busy": "2024-09-09T16:03:19.342630Z",
     "iopub.status.idle": "2024-09-09T16:03:19.654340Z",
     "shell.execute_reply": "2024-09-09T16:03:19.653436Z",
     "shell.execute_reply.started": "2024-09-09T16:03:19.343078Z"
    }
   },
   "outputs": [
    {
     "ename": "NameError",
     "evalue": "name 'df_input' is not defined",
     "output_type": "error",
     "traceback": [
      "\u001b[0;31m---------------------------------------------------------------------------\u001b[0m",
      "\u001b[0;31mNameError\u001b[0m                                 Traceback (most recent call last)",
      "Cell \u001b[0;32mIn[72], line 1\u001b[0m\n\u001b[0;32m----> 1\u001b[0m \u001b[38;5;28;01mdel\u001b[39;00m df_train, \u001b[43mdf_input\u001b[49m\n",
      "\u001b[0;31mNameError\u001b[0m: name 'df_input' is not defined"
     ]
    }
   ],
   "source": [
    "del df_train, df_input"
   ]
  },
  {
   "cell_type": "markdown",
   "id": "43965de8-1091-42d3-81fa-08057589da83",
   "metadata": {
    "jp-MarkdownHeadingCollapsed": true
   },
   "source": [
    "### Split training file to sub_val and sub_test"
   ]
  },
  {
   "cell_type": "code",
   "execution_count": 98,
   "id": "83b276cf-deed-4979-a5ad-ce6e55fc07bd",
   "metadata": {
    "execution": {
     "iopub.execute_input": "2024-09-26T16:11:37.577140Z",
     "iopub.status.busy": "2024-09-26T16:11:37.576640Z",
     "iopub.status.idle": "2024-09-26T16:11:37.623239Z",
     "shell.execute_reply": "2024-09-26T16:11:37.622774Z",
     "shell.execute_reply.started": "2024-09-26T16:11:37.577099Z"
    }
   },
   "outputs": [
    {
     "data": {
      "text/plain": [
       "'/home/kevin/WSL-shared/cellpainting/cj-datasets/output_11102023/3_sample_embeddings/3smpl_prfl_embedding_161_HashOrder_SNNL_20240829_1712_LAST_train.csv'"
      ]
     },
     "execution_count": 98,
     "metadata": {},
     "output_type": "execute_result"
    },
    {
     "data": {
      "text/plain": [
       "'/home/kevin/WSL-shared/cellpainting/cj-datasets/output_11102023/3_sample_embeddings/3smpl_prfl_embedding_161_HashOrder_SNNL_20240829_1712_LAST_train_sub_val.csv'"
      ]
     },
     "execution_count": 98,
     "metadata": {},
     "output_type": "execute_result"
    },
    {
     "data": {
      "text/plain": [
       "'/home/kevin/WSL-shared/cellpainting/cj-datasets/output_11102023/3_sample_embeddings/3smpl_prfl_embedding_161_HashOrder_SNNL_20240829_1712_LAST_train_sub_test.csv'"
      ]
     },
     "execution_count": 98,
     "metadata": {},
     "output_type": "execute_result"
    }
   ],
   "source": [
    "INPUT_FILE = '/home/kevin/WSL-shared/cellpainting/cj-datasets/output_11102023/3_sample_embeddings/3smpl_prfl_embedding_161_HashOrder_SNNL_20240829_1712_LAST_train.csv'\n",
    "# INPUT_FILE = '/home/kevin/WSL-shared/cellpainting/cj-datasets/output_11102023/3_sample_embeddings/3smpl_prfl_embedding_161_HashOrder_SNNL_20240906_2201_LAST_train.csv'\n",
    "INPUT_FILE\n",
    "VAL_OUTPUT_FILE = '/home/kevin/WSL-shared/cellpainting/cj-datasets/output_11102023/3_sample_embeddings/3smpl_prfl_embedding_161_HashOrder_SNNL_20240829_1712_LAST_train_sub_val.csv'\n",
    "TEST_OUTPUT_FILE = '/home/kevin/WSL-shared/cellpainting/cj-datasets/output_11102023/3_sample_embeddings/3smpl_prfl_embedding_161_HashOrder_SNNL_20240829_1712_LAST_train_sub_test.csv'\n",
    "# VAL_OUTPUT_FILE = '/home/kevin/WSL-shared/cellpainting/cj-datasets/output_11102023/3_sample_embeddings/3smpl_prfl_embedding_161_HashOrder_SNNL_20240906_2201_LAST_train_sub_val.csv'\n",
    "# TEST_OUTPUT_FILE = '/home/kevin/WSL-shared/cellpainting/cj-datasets/output_11102023/3_sample_embeddings/3smpl_prfl_embedding_161_HashOrder_SNNL_20240906_2201_LAST_train_sub_test.csv'\n",
    "VAL_OUTPUT_FILE\n",
    "TEST_OUTPUT_FILE"
   ]
  },
  {
   "cell_type": "code",
   "execution_count": 99,
   "id": "29713ce3-76d1-4987-abe3-fff3d3169f9e",
   "metadata": {
    "execution": {
     "iopub.execute_input": "2024-09-26T16:11:53.105101Z",
     "iopub.status.busy": "2024-09-26T16:11:53.104624Z",
     "iopub.status.idle": "2024-09-26T16:11:56.653141Z",
     "shell.execute_reply": "2024-09-26T16:11:56.652646Z",
     "shell.execute_reply.started": "2024-09-26T16:11:53.105061Z"
    }
   },
   "outputs": [
    {
     "data": {
      "text/plain": [
       "(21600, 161)"
      ]
     },
     "execution_count": 99,
     "metadata": {},
     "output_type": "execute_result"
    },
    {
     "name": "stdout",
     "output_type": "stream",
     "text": [
      "<class 'pandas.core.frame.DataFrame'>\n",
      "RangeIndex: 21600 entries, 0 to 21599\n",
      "Columns: 161 entries, source_5 to -0.0001686492469161749\n",
      "dtypes: float64(154), int64(2), object(5)\n",
      "memory usage: 26.5+ MB\n"
     ]
    },
    {
     "data": {
      "text/html": [
       "<div>\n",
       "<style scoped>\n",
       "    .dataframe tbody tr th:only-of-type {\n",
       "        vertical-align: middle;\n",
       "    }\n",
       "\n",
       "    .dataframe tbody tr th {\n",
       "        vertical-align: top;\n",
       "    }\n",
       "\n",
       "    .dataframe thead th {\n",
       "        text-align: right;\n",
       "    }\n",
       "</style>\n",
       "<table border=\"1\" class=\"dataframe\">\n",
       "  <thead>\n",
       "    <tr style=\"text-align: right;\">\n",
       "      <th></th>\n",
       "      <th>source_5</th>\n",
       "      <th>JUMPCPE-20210706-Run06_20210706_235916</th>\n",
       "      <th>APTJUM213</th>\n",
       "      <th>I14</th>\n",
       "      <th>JCP2022_100922</th>\n",
       "      <th>5548998150937919747</th>\n",
       "      <th>3</th>\n",
       "      <th>79.96</th>\n",
       "      <th>4.381526509632199</th>\n",
       "      <th>1.90287278544608</th>\n",
       "      <th>...</th>\n",
       "      <th>-0.0010494652669876814</th>\n",
       "      <th>0.0003347290330566466</th>\n",
       "      <th>-0.00024723977549001575</th>\n",
       "      <th>-0.00046131041017360985</th>\n",
       "      <th>0.0009702356182970107</th>\n",
       "      <th>0.0003158403851557523</th>\n",
       "      <th>-7.763417670503259e-06</th>\n",
       "      <th>0.0003491034440230578</th>\n",
       "      <th>0.0011775164166465402</th>\n",
       "      <th>-0.0001686492469161749</th>\n",
       "    </tr>\n",
       "  </thead>\n",
       "  <tbody>\n",
       "    <tr>\n",
       "      <th>0</th>\n",
       "      <td>source_2</td>\n",
       "      <td>20210607_Batch_2</td>\n",
       "      <td>1053601824</td>\n",
       "      <td>N20</td>\n",
       "      <td>JCP2022_101506</td>\n",
       "      <td>5549160564573729245</td>\n",
       "      <td>13</td>\n",
       "      <td>73.85</td>\n",
       "      <td>4.302036</td>\n",
       "      <td>1.868350</td>\n",
       "      <td>...</td>\n",
       "      <td>-0.417622</td>\n",
       "      <td>-0.490450</td>\n",
       "      <td>-0.365111</td>\n",
       "      <td>-0.479673</td>\n",
       "      <td>0.227926</td>\n",
       "      <td>-0.149534</td>\n",
       "      <td>-0.574326</td>\n",
       "      <td>-0.470133</td>\n",
       "      <td>0.031690</td>\n",
       "      <td>0.531656</td>\n",
       "    </tr>\n",
       "    <tr>\n",
       "      <th>1</th>\n",
       "      <td>source_10</td>\n",
       "      <td>2021_06_15_U2OS_48_hr_run6</td>\n",
       "      <td>Dest210615-151512</td>\n",
       "      <td>N20</td>\n",
       "      <td>JCP2022_101506</td>\n",
       "      <td>5549160564573729245</td>\n",
       "      <td>13</td>\n",
       "      <td>73.85</td>\n",
       "      <td>4.302036</td>\n",
       "      <td>1.868350</td>\n",
       "      <td>...</td>\n",
       "      <td>-0.582942</td>\n",
       "      <td>-1.235308</td>\n",
       "      <td>-0.323901</td>\n",
       "      <td>-0.867346</td>\n",
       "      <td>-0.238169</td>\n",
       "      <td>-0.048559</td>\n",
       "      <td>-0.750650</td>\n",
       "      <td>-0.558930</td>\n",
       "      <td>0.352158</td>\n",
       "      <td>0.835471</td>\n",
       "    </tr>\n",
       "    <tr>\n",
       "      <th>2</th>\n",
       "      <td>source_8</td>\n",
       "      <td>J3</td>\n",
       "      <td>A1170508</td>\n",
       "      <td>G11</td>\n",
       "      <td>JCP2022_101506</td>\n",
       "      <td>5549160564573729245</td>\n",
       "      <td>13</td>\n",
       "      <td>73.85</td>\n",
       "      <td>4.302036</td>\n",
       "      <td>1.868350</td>\n",
       "      <td>...</td>\n",
       "      <td>-0.711429</td>\n",
       "      <td>-1.393002</td>\n",
       "      <td>-0.190025</td>\n",
       "      <td>-1.032771</td>\n",
       "      <td>-0.265787</td>\n",
       "      <td>-0.157114</td>\n",
       "      <td>-0.930913</td>\n",
       "      <td>-0.657756</td>\n",
       "      <td>0.221662</td>\n",
       "      <td>1.170505</td>\n",
       "    </tr>\n",
       "    <tr>\n",
       "      <th>3</th>\n",
       "      <td>source_9</td>\n",
       "      <td>20210915-Run10</td>\n",
       "      <td>GR00003318</td>\n",
       "      <td>W40</td>\n",
       "      <td>JCP2022_010664</td>\n",
       "      <td>5549241656037143871</td>\n",
       "      <td>15</td>\n",
       "      <td>74.68</td>\n",
       "      <td>4.313212</td>\n",
       "      <td>1.873204</td>\n",
       "      <td>...</td>\n",
       "      <td>0.000159</td>\n",
       "      <td>-0.000057</td>\n",
       "      <td>0.000103</td>\n",
       "      <td>0.000147</td>\n",
       "      <td>-0.000103</td>\n",
       "      <td>0.000008</td>\n",
       "      <td>-0.000083</td>\n",
       "      <td>-0.000057</td>\n",
       "      <td>0.000030</td>\n",
       "      <td>-0.000029</td>\n",
       "    </tr>\n",
       "    <tr>\n",
       "      <th>4</th>\n",
       "      <td>source_9</td>\n",
       "      <td>20210915-Run10</td>\n",
       "      <td>GR00003316</td>\n",
       "      <td>G16</td>\n",
       "      <td>JCP2022_010664</td>\n",
       "      <td>5549241656037143871</td>\n",
       "      <td>15</td>\n",
       "      <td>74.68</td>\n",
       "      <td>4.313212</td>\n",
       "      <td>1.873204</td>\n",
       "      <td>...</td>\n",
       "      <td>0.000405</td>\n",
       "      <td>-0.000068</td>\n",
       "      <td>0.000208</td>\n",
       "      <td>0.000245</td>\n",
       "      <td>-0.000199</td>\n",
       "      <td>-0.000006</td>\n",
       "      <td>-0.000102</td>\n",
       "      <td>-0.000167</td>\n",
       "      <td>-0.000116</td>\n",
       "      <td>-0.000017</td>\n",
       "    </tr>\n",
       "    <tr>\n",
       "      <th>5</th>\n",
       "      <td>source_5</td>\n",
       "      <td>JUMPCPE-20210730-Run15_20210801_205335</td>\n",
       "      <td>ATSJUM216</td>\n",
       "      <td>G16</td>\n",
       "      <td>JCP2022_010664</td>\n",
       "      <td>5549241656037143871</td>\n",
       "      <td>15</td>\n",
       "      <td>74.68</td>\n",
       "      <td>4.313212</td>\n",
       "      <td>1.873204</td>\n",
       "      <td>...</td>\n",
       "      <td>0.000616</td>\n",
       "      <td>-0.000608</td>\n",
       "      <td>-0.000324</td>\n",
       "      <td>0.000135</td>\n",
       "      <td>-0.001111</td>\n",
       "      <td>-0.000401</td>\n",
       "      <td>0.000298</td>\n",
       "      <td>-0.000094</td>\n",
       "      <td>-0.001228</td>\n",
       "      <td>0.000248</td>\n",
       "    </tr>\n",
       "  </tbody>\n",
       "</table>\n",
       "<p>6 rows × 161 columns</p>\n",
       "</div>"
      ],
      "text/plain": [
       "    source_5  JUMPCPE-20210706-Run06_20210706_235916          APTJUM213  I14  JCP2022_100922  5548998150937919747   3  79.96  \\\n",
       "0   source_2                        20210607_Batch_2         1053601824  N20  JCP2022_101506  5549160564573729245  13  73.85   \n",
       "1  source_10              2021_06_15_U2OS_48_hr_run6  Dest210615-151512  N20  JCP2022_101506  5549160564573729245  13  73.85   \n",
       "2   source_8                                      J3           A1170508  G11  JCP2022_101506  5549160564573729245  13  73.85   \n",
       "3   source_9                          20210915-Run10         GR00003318  W40  JCP2022_010664  5549241656037143871  15  74.68   \n",
       "4   source_9                          20210915-Run10         GR00003316  G16  JCP2022_010664  5549241656037143871  15  74.68   \n",
       "5   source_5  JUMPCPE-20210730-Run15_20210801_205335          ATSJUM216  G16  JCP2022_010664  5549241656037143871  15  74.68   \n",
       "\n",
       "   4.381526509632199  1.90287278544608  ...  -0.0010494652669876814  0.0003347290330566466  -0.00024723977549001575  \\\n",
       "0           4.302036          1.868350  ...               -0.417622              -0.490450                -0.365111   \n",
       "1           4.302036          1.868350  ...               -0.582942              -1.235308                -0.323901   \n",
       "2           4.302036          1.868350  ...               -0.711429              -1.393002                -0.190025   \n",
       "3           4.313212          1.873204  ...                0.000159              -0.000057                 0.000103   \n",
       "4           4.313212          1.873204  ...                0.000405              -0.000068                 0.000208   \n",
       "5           4.313212          1.873204  ...                0.000616              -0.000608                -0.000324   \n",
       "\n",
       "   -0.00046131041017360985  0.0009702356182970107  0.0003158403851557523  -7.763417670503259e-06  0.0003491034440230578  \\\n",
       "0                -0.479673               0.227926              -0.149534               -0.574326              -0.470133   \n",
       "1                -0.867346              -0.238169              -0.048559               -0.750650              -0.558930   \n",
       "2                -1.032771              -0.265787              -0.157114               -0.930913              -0.657756   \n",
       "3                 0.000147              -0.000103               0.000008               -0.000083              -0.000057   \n",
       "4                 0.000245              -0.000199              -0.000006               -0.000102              -0.000167   \n",
       "5                 0.000135              -0.001111              -0.000401                0.000298              -0.000094   \n",
       "\n",
       "   0.0011775164166465402  -0.0001686492469161749  \n",
       "0               0.031690                0.531656  \n",
       "1               0.352158                0.835471  \n",
       "2               0.221662                1.170505  \n",
       "3               0.000030               -0.000029  \n",
       "4              -0.000116               -0.000017  \n",
       "5              -0.001228                0.000248  \n",
       "\n",
       "[6 rows x 161 columns]"
      ]
     },
     "execution_count": 99,
     "metadata": {},
     "output_type": "execute_result"
    },
    {
     "data": {
      "text/html": [
       "<div>\n",
       "<style scoped>\n",
       "    .dataframe tbody tr th:only-of-type {\n",
       "        vertical-align: middle;\n",
       "    }\n",
       "\n",
       "    .dataframe tbody tr th {\n",
       "        vertical-align: top;\n",
       "    }\n",
       "\n",
       "    .dataframe thead th {\n",
       "        text-align: right;\n",
       "    }\n",
       "</style>\n",
       "<table border=\"1\" class=\"dataframe\">\n",
       "  <thead>\n",
       "    <tr style=\"text-align: right;\">\n",
       "      <th></th>\n",
       "      <th>source_5</th>\n",
       "      <th>JUMPCPE-20210706-Run06_20210706_235916</th>\n",
       "      <th>APTJUM213</th>\n",
       "      <th>I14</th>\n",
       "      <th>JCP2022_100922</th>\n",
       "      <th>5548998150937919747</th>\n",
       "      <th>3</th>\n",
       "      <th>79.96</th>\n",
       "      <th>4.381526509632199</th>\n",
       "      <th>1.90287278544608</th>\n",
       "      <th>...</th>\n",
       "      <th>-0.0010494652669876814</th>\n",
       "      <th>0.0003347290330566466</th>\n",
       "      <th>-0.00024723977549001575</th>\n",
       "      <th>-0.00046131041017360985</th>\n",
       "      <th>0.0009702356182970107</th>\n",
       "      <th>0.0003158403851557523</th>\n",
       "      <th>-7.763417670503259e-06</th>\n",
       "      <th>0.0003491034440230578</th>\n",
       "      <th>0.0011775164166465402</th>\n",
       "      <th>-0.0001686492469161749</th>\n",
       "    </tr>\n",
       "  </thead>\n",
       "  <tbody>\n",
       "    <tr>\n",
       "      <th>21594</th>\n",
       "      <td>source_2</td>\n",
       "      <td>20210830_Batch_11</td>\n",
       "      <td>1086290668</td>\n",
       "      <td>N21</td>\n",
       "      <td>JCP2022_094244</td>\n",
       "      <td>6703113441807921775</td>\n",
       "      <td>15</td>\n",
       "      <td>80.04</td>\n",
       "      <td>4.382527</td>\n",
       "      <td>1.903307</td>\n",
       "      <td>...</td>\n",
       "      <td>-2.477005e-05</td>\n",
       "      <td>0.000014</td>\n",
       "      <td>-5.094483e-06</td>\n",
       "      <td>-0.000011</td>\n",
       "      <td>-0.000014</td>\n",
       "      <td>0.000004</td>\n",
       "      <td>-2.806945e-05</td>\n",
       "      <td>2.790424e-05</td>\n",
       "      <td>0.000070</td>\n",
       "      <td>-0.000008</td>\n",
       "    </tr>\n",
       "    <tr>\n",
       "      <th>21595</th>\n",
       "      <td>source_8</td>\n",
       "      <td>J3</td>\n",
       "      <td>A1170495</td>\n",
       "      <td>G22</td>\n",
       "      <td>JCP2022_094244</td>\n",
       "      <td>6703113441807921775</td>\n",
       "      <td>15</td>\n",
       "      <td>80.04</td>\n",
       "      <td>4.382527</td>\n",
       "      <td>1.903307</td>\n",
       "      <td>...</td>\n",
       "      <td>-1.245223e-05</td>\n",
       "      <td>0.000003</td>\n",
       "      <td>1.573494e-05</td>\n",
       "      <td>0.000014</td>\n",
       "      <td>-0.000047</td>\n",
       "      <td>-0.000023</td>\n",
       "      <td>-2.634252e-06</td>\n",
       "      <td>1.623124e-05</td>\n",
       "      <td>0.000069</td>\n",
       "      <td>-0.000015</td>\n",
       "    </tr>\n",
       "    <tr>\n",
       "      <th>21596</th>\n",
       "      <td>source_6</td>\n",
       "      <td>p211109CPU2OS48hw384exp035JUMP</td>\n",
       "      <td>110000295493</td>\n",
       "      <td>G22</td>\n",
       "      <td>JCP2022_094244</td>\n",
       "      <td>6703113441807921775</td>\n",
       "      <td>15</td>\n",
       "      <td>80.04</td>\n",
       "      <td>4.382527</td>\n",
       "      <td>1.903307</td>\n",
       "      <td>...</td>\n",
       "      <td>-4.397180e-05</td>\n",
       "      <td>0.000043</td>\n",
       "      <td>-9.750520e-07</td>\n",
       "      <td>0.000001</td>\n",
       "      <td>-0.000022</td>\n",
       "      <td>0.000018</td>\n",
       "      <td>-2.945206e-05</td>\n",
       "      <td>3.523116e-05</td>\n",
       "      <td>0.000050</td>\n",
       "      <td>-0.000014</td>\n",
       "    </tr>\n",
       "    <tr>\n",
       "      <th>21597</th>\n",
       "      <td>source_9</td>\n",
       "      <td>20211103-Run16</td>\n",
       "      <td>GR00004419</td>\n",
       "      <td>R42</td>\n",
       "      <td>JCP2022_040230</td>\n",
       "      <td>6703257770840297119</td>\n",
       "      <td>15</td>\n",
       "      <td>79.29</td>\n",
       "      <td>4.373112</td>\n",
       "      <td>1.899218</td>\n",
       "      <td>...</td>\n",
       "      <td>4.764544e-06</td>\n",
       "      <td>-0.000010</td>\n",
       "      <td>-7.738217e-06</td>\n",
       "      <td>-0.000003</td>\n",
       "      <td>0.000026</td>\n",
       "      <td>0.000014</td>\n",
       "      <td>2.506154e-06</td>\n",
       "      <td>-1.263259e-05</td>\n",
       "      <td>-0.000016</td>\n",
       "      <td>0.000014</td>\n",
       "    </tr>\n",
       "    <tr>\n",
       "      <th>21598</th>\n",
       "      <td>source_9</td>\n",
       "      <td>20211103-Run16</td>\n",
       "      <td>GR00004418</td>\n",
       "      <td>B42</td>\n",
       "      <td>JCP2022_040230</td>\n",
       "      <td>6703257770840297119</td>\n",
       "      <td>15</td>\n",
       "      <td>79.29</td>\n",
       "      <td>4.373112</td>\n",
       "      <td>1.899218</td>\n",
       "      <td>...</td>\n",
       "      <td>8.294126e-07</td>\n",
       "      <td>-0.000003</td>\n",
       "      <td>-9.144625e-06</td>\n",
       "      <td>-0.000005</td>\n",
       "      <td>0.000027</td>\n",
       "      <td>0.000018</td>\n",
       "      <td>-1.051333e-07</td>\n",
       "      <td>-9.165813e-06</td>\n",
       "      <td>-0.000016</td>\n",
       "      <td>0.000013</td>\n",
       "    </tr>\n",
       "    <tr>\n",
       "      <th>21599</th>\n",
       "      <td>source_9</td>\n",
       "      <td>20211103-Run16</td>\n",
       "      <td>GR00004421</td>\n",
       "      <td>B18</td>\n",
       "      <td>JCP2022_040230</td>\n",
       "      <td>6703257770840297119</td>\n",
       "      <td>15</td>\n",
       "      <td>79.29</td>\n",
       "      <td>4.373112</td>\n",
       "      <td>1.899218</td>\n",
       "      <td>...</td>\n",
       "      <td>-9.426994e-06</td>\n",
       "      <td>0.000002</td>\n",
       "      <td>-7.880708e-06</td>\n",
       "      <td>-0.000004</td>\n",
       "      <td>0.000009</td>\n",
       "      <td>0.000009</td>\n",
       "      <td>4.165263e-07</td>\n",
       "      <td>8.846787e-07</td>\n",
       "      <td>-0.000003</td>\n",
       "      <td>0.000005</td>\n",
       "    </tr>\n",
       "  </tbody>\n",
       "</table>\n",
       "<p>6 rows × 161 columns</p>\n",
       "</div>"
      ],
      "text/plain": [
       "       source_5 JUMPCPE-20210706-Run06_20210706_235916     APTJUM213  I14  JCP2022_100922  5548998150937919747   3  79.96  \\\n",
       "21594  source_2                      20210830_Batch_11    1086290668  N21  JCP2022_094244  6703113441807921775  15  80.04   \n",
       "21595  source_8                                     J3      A1170495  G22  JCP2022_094244  6703113441807921775  15  80.04   \n",
       "21596  source_6         p211109CPU2OS48hw384exp035JUMP  110000295493  G22  JCP2022_094244  6703113441807921775  15  80.04   \n",
       "21597  source_9                         20211103-Run16    GR00004419  R42  JCP2022_040230  6703257770840297119  15  79.29   \n",
       "21598  source_9                         20211103-Run16    GR00004418  B42  JCP2022_040230  6703257770840297119  15  79.29   \n",
       "21599  source_9                         20211103-Run16    GR00004421  B18  JCP2022_040230  6703257770840297119  15  79.29   \n",
       "\n",
       "       4.381526509632199  1.90287278544608  ...  -0.0010494652669876814  0.0003347290330566466  -0.00024723977549001575  \\\n",
       "21594           4.382527          1.903307  ...           -2.477005e-05               0.000014            -5.094483e-06   \n",
       "21595           4.382527          1.903307  ...           -1.245223e-05               0.000003             1.573494e-05   \n",
       "21596           4.382527          1.903307  ...           -4.397180e-05               0.000043            -9.750520e-07   \n",
       "21597           4.373112          1.899218  ...            4.764544e-06              -0.000010            -7.738217e-06   \n",
       "21598           4.373112          1.899218  ...            8.294126e-07              -0.000003            -9.144625e-06   \n",
       "21599           4.373112          1.899218  ...           -9.426994e-06               0.000002            -7.880708e-06   \n",
       "\n",
       "       -0.00046131041017360985  0.0009702356182970107  0.0003158403851557523  -7.763417670503259e-06  0.0003491034440230578  \\\n",
       "21594                -0.000011              -0.000014               0.000004           -2.806945e-05           2.790424e-05   \n",
       "21595                 0.000014              -0.000047              -0.000023           -2.634252e-06           1.623124e-05   \n",
       "21596                 0.000001              -0.000022               0.000018           -2.945206e-05           3.523116e-05   \n",
       "21597                -0.000003               0.000026               0.000014            2.506154e-06          -1.263259e-05   \n",
       "21598                -0.000005               0.000027               0.000018           -1.051333e-07          -9.165813e-06   \n",
       "21599                -0.000004               0.000009               0.000009            4.165263e-07           8.846787e-07   \n",
       "\n",
       "       0.0011775164166465402  -0.0001686492469161749  \n",
       "21594               0.000070               -0.000008  \n",
       "21595               0.000069               -0.000015  \n",
       "21596               0.000050               -0.000014  \n",
       "21597              -0.000016                0.000014  \n",
       "21598              -0.000016                0.000013  \n",
       "21599              -0.000003                0.000005  \n",
       "\n",
       "[6 rows x 161 columns]"
      ]
     },
     "execution_count": 99,
     "metadata": {},
     "output_type": "execute_result"
    }
   ],
   "source": [
    "df_validation = pd.read_csv(INPUT_FILE, header = 0,\n",
    "                            skiprows = 277_200,\n",
    "                            nrows = 21_600,\n",
    "                            )\n",
    "df_validation.shape\n",
    "df_validation.info()\n",
    "df_validation.head(6)\n",
    "df_validation.tail(6)"
   ]
  },
  {
   "cell_type": "code",
   "execution_count": 100,
   "id": "fe4ec4a1-c79b-4734-a286-fbbe7b24ef43",
   "metadata": {
    "execution": {
     "iopub.execute_input": "2024-09-26T16:12:05.162925Z",
     "iopub.status.busy": "2024-09-26T16:12:05.162326Z",
     "iopub.status.idle": "2024-09-26T16:12:05.207384Z",
     "shell.execute_reply": "2024-09-26T16:12:05.206648Z",
     "shell.execute_reply.started": "2024-09-26T16:12:05.162883Z"
    }
   },
   "outputs": [
    {
     "name": "stdout",
     "output_type": "stream",
     "text": [
      " Write to /home/kevin/WSL-shared/cellpainting/cj-datasets/output_11102023/3_sample_embeddings/3smpl_prfl_embedding_161_HashOrder_SNNL_20240829_1712_LAST_train_sub_val.csv\n"
     ]
    }
   ],
   "source": [
    "print(f\" Write to {VAL_OUTPUT_FILE}\")"
   ]
  },
  {
   "cell_type": "code",
   "execution_count": 101,
   "id": "49f206ed-80a9-41a0-b539-a1938ba16202",
   "metadata": {
    "execution": {
     "iopub.execute_input": "2024-09-26T16:12:13.152723Z",
     "iopub.status.busy": "2024-09-26T16:12:13.152248Z",
     "iopub.status.idle": "2024-09-26T16:12:17.796184Z",
     "shell.execute_reply": "2024-09-26T16:12:17.795432Z",
     "shell.execute_reply.started": "2024-09-26T16:12:13.152682Z"
    }
   },
   "outputs": [],
   "source": [
    "df_validation.to_csv(VAL_OUTPUT_FILE, mode = 'w', index = False, header = True, )"
   ]
  },
  {
   "cell_type": "code",
   "execution_count": null,
   "id": "f9330a48-2763-4779-9876-ab1b84486321",
   "metadata": {},
   "outputs": [],
   "source": []
  },
  {
   "cell_type": "code",
   "execution_count": 102,
   "id": "33b81b0c-5255-44f6-b9e2-1d493ae1fd79",
   "metadata": {
    "execution": {
     "iopub.execute_input": "2024-09-26T16:12:45.770742Z",
     "iopub.status.busy": "2024-09-26T16:12:45.770237Z",
     "iopub.status.idle": "2024-09-26T16:12:49.221738Z",
     "shell.execute_reply": "2024-09-26T16:12:49.221258Z",
     "shell.execute_reply.started": "2024-09-26T16:12:45.770698Z"
    }
   },
   "outputs": [
    {
     "data": {
      "text/plain": [
       "(12600, 161)"
      ]
     },
     "execution_count": 102,
     "metadata": {},
     "output_type": "execute_result"
    },
    {
     "name": "stdout",
     "output_type": "stream",
     "text": [
      "<class 'pandas.core.frame.DataFrame'>\n",
      "RangeIndex: 12600 entries, 0 to 12599\n",
      "Columns: 161 entries, source_9 to 4.881385393673554e-06\n",
      "dtypes: float64(154), int64(2), object(5)\n",
      "memory usage: 15.5+ MB\n"
     ]
    },
    {
     "data": {
      "text/html": [
       "<div>\n",
       "<style scoped>\n",
       "    .dataframe tbody tr th:only-of-type {\n",
       "        vertical-align: middle;\n",
       "    }\n",
       "\n",
       "    .dataframe tbody tr th {\n",
       "        vertical-align: top;\n",
       "    }\n",
       "\n",
       "    .dataframe thead th {\n",
       "        text-align: right;\n",
       "    }\n",
       "</style>\n",
       "<table border=\"1\" class=\"dataframe\">\n",
       "  <thead>\n",
       "    <tr style=\"text-align: right;\">\n",
       "      <th></th>\n",
       "      <th>source_9</th>\n",
       "      <th>20211103-Run16</th>\n",
       "      <th>GR00004421</th>\n",
       "      <th>B18</th>\n",
       "      <th>JCP2022_040230</th>\n",
       "      <th>6703257770840297119</th>\n",
       "      <th>15</th>\n",
       "      <th>79.29</th>\n",
       "      <th>4.373112017284307</th>\n",
       "      <th>1.899218417851373</th>\n",
       "      <th>...</th>\n",
       "      <th>-9.42699443839956e-06</th>\n",
       "      <th>2.0636507542803884e-06</th>\n",
       "      <th>-7.880707926233299e-06</th>\n",
       "      <th>-4.2592173485900275e-06</th>\n",
       "      <th>9.276894161303062e-06</th>\n",
       "      <th>8.631814125692472e-06</th>\n",
       "      <th>4.1652626237009827e-07</th>\n",
       "      <th>8.84678684087703e-07</th>\n",
       "      <th>-3.3064643503166735e-06</th>\n",
       "      <th>4.881385393673554e-06</th>\n",
       "    </tr>\n",
       "  </thead>\n",
       "  <tbody>\n",
       "    <tr>\n",
       "      <th>0</th>\n",
       "      <td>source_9</td>\n",
       "      <td>20210914-Run9</td>\n",
       "      <td>GR00003302</td>\n",
       "      <td>H45</td>\n",
       "      <td>JCP2022_004021</td>\n",
       "      <td>6703456398488902534</td>\n",
       "      <td>6</td>\n",
       "      <td>58.04</td>\n",
       "      <td>4.061132</td>\n",
       "      <td>1.763727</td>\n",
       "      <td>...</td>\n",
       "      <td>-0.264010</td>\n",
       "      <td>-0.444511</td>\n",
       "      <td>-0.365870</td>\n",
       "      <td>-0.347954</td>\n",
       "      <td>0.059786</td>\n",
       "      <td>-0.007302</td>\n",
       "      <td>-0.337043</td>\n",
       "      <td>-0.304299</td>\n",
       "      <td>0.211058</td>\n",
       "      <td>0.238631</td>\n",
       "    </tr>\n",
       "    <tr>\n",
       "      <th>1</th>\n",
       "      <td>source_9</td>\n",
       "      <td>20210914-Run9</td>\n",
       "      <td>GR00003301</td>\n",
       "      <td>H21</td>\n",
       "      <td>JCP2022_004021</td>\n",
       "      <td>6703456398488902534</td>\n",
       "      <td>6</td>\n",
       "      <td>58.04</td>\n",
       "      <td>4.061132</td>\n",
       "      <td>1.763727</td>\n",
       "      <td>...</td>\n",
       "      <td>-0.251520</td>\n",
       "      <td>-0.437663</td>\n",
       "      <td>-0.371511</td>\n",
       "      <td>-0.335618</td>\n",
       "      <td>0.050832</td>\n",
       "      <td>0.003978</td>\n",
       "      <td>-0.318630</td>\n",
       "      <td>-0.293298</td>\n",
       "      <td>0.229234</td>\n",
       "      <td>0.212936</td>\n",
       "    </tr>\n",
       "    <tr>\n",
       "      <th>2</th>\n",
       "      <td>source_9</td>\n",
       "      <td>20210914-Run9</td>\n",
       "      <td>GR00003303</td>\n",
       "      <td>X45</td>\n",
       "      <td>JCP2022_004021</td>\n",
       "      <td>6703456398488902534</td>\n",
       "      <td>6</td>\n",
       "      <td>58.04</td>\n",
       "      <td>4.061132</td>\n",
       "      <td>1.763727</td>\n",
       "      <td>...</td>\n",
       "      <td>-0.204195</td>\n",
       "      <td>-0.326992</td>\n",
       "      <td>-0.292524</td>\n",
       "      <td>-0.264372</td>\n",
       "      <td>0.063065</td>\n",
       "      <td>-0.010498</td>\n",
       "      <td>-0.263440</td>\n",
       "      <td>-0.239843</td>\n",
       "      <td>0.161618</td>\n",
       "      <td>0.179531</td>\n",
       "    </tr>\n",
       "    <tr>\n",
       "      <th>3</th>\n",
       "      <td>source_3</td>\n",
       "      <td>CP_32_all_Phenix1</td>\n",
       "      <td>B40803aW</td>\n",
       "      <td>P21</td>\n",
       "      <td>JCP2022_102146</td>\n",
       "      <td>6704177726803547665</td>\n",
       "      <td>1</td>\n",
       "      <td>86.51</td>\n",
       "      <td>4.460260</td>\n",
       "      <td>1.937066</td>\n",
       "      <td>...</td>\n",
       "      <td>-0.000107</td>\n",
       "      <td>-0.001175</td>\n",
       "      <td>0.000746</td>\n",
       "      <td>-0.001319</td>\n",
       "      <td>0.001504</td>\n",
       "      <td>-0.001092</td>\n",
       "      <td>-0.000728</td>\n",
       "      <td>0.000044</td>\n",
       "      <td>-0.001463</td>\n",
       "      <td>-0.001287</td>\n",
       "    </tr>\n",
       "    <tr>\n",
       "      <th>4</th>\n",
       "      <td>source_6</td>\n",
       "      <td>p210928CPU2OS48hw384exp030JUMP</td>\n",
       "      <td>110000296383</td>\n",
       "      <td>P21</td>\n",
       "      <td>JCP2022_102146</td>\n",
       "      <td>6704177726803547665</td>\n",
       "      <td>1</td>\n",
       "      <td>86.51</td>\n",
       "      <td>4.460260</td>\n",
       "      <td>1.937066</td>\n",
       "      <td>...</td>\n",
       "      <td>-0.000194</td>\n",
       "      <td>-0.000748</td>\n",
       "      <td>0.000461</td>\n",
       "      <td>0.000389</td>\n",
       "      <td>0.001526</td>\n",
       "      <td>0.000013</td>\n",
       "      <td>-0.000557</td>\n",
       "      <td>0.000721</td>\n",
       "      <td>-0.000822</td>\n",
       "      <td>-0.000113</td>\n",
       "    </tr>\n",
       "    <tr>\n",
       "      <th>5</th>\n",
       "      <td>source_1</td>\n",
       "      <td>Batch5_20221030</td>\n",
       "      <td>UL001783</td>\n",
       "      <td>AE41</td>\n",
       "      <td>JCP2022_102146</td>\n",
       "      <td>6704177726803547665</td>\n",
       "      <td>1</td>\n",
       "      <td>86.51</td>\n",
       "      <td>4.460260</td>\n",
       "      <td>1.937066</td>\n",
       "      <td>...</td>\n",
       "      <td>0.000390</td>\n",
       "      <td>0.000246</td>\n",
       "      <td>0.001867</td>\n",
       "      <td>0.000457</td>\n",
       "      <td>0.001546</td>\n",
       "      <td>-0.001094</td>\n",
       "      <td>-0.000199</td>\n",
       "      <td>0.000035</td>\n",
       "      <td>-0.001469</td>\n",
       "      <td>0.000583</td>\n",
       "    </tr>\n",
       "  </tbody>\n",
       "</table>\n",
       "<p>6 rows × 161 columns</p>\n",
       "</div>"
      ],
      "text/plain": [
       "   source_9                  20211103-Run16    GR00004421   B18  JCP2022_040230  6703257770840297119  15  79.29  \\\n",
       "0  source_9                   20210914-Run9    GR00003302   H45  JCP2022_004021  6703456398488902534   6  58.04   \n",
       "1  source_9                   20210914-Run9    GR00003301   H21  JCP2022_004021  6703456398488902534   6  58.04   \n",
       "2  source_9                   20210914-Run9    GR00003303   X45  JCP2022_004021  6703456398488902534   6  58.04   \n",
       "3  source_3               CP_32_all_Phenix1      B40803aW   P21  JCP2022_102146  6704177726803547665   1  86.51   \n",
       "4  source_6  p210928CPU2OS48hw384exp030JUMP  110000296383   P21  JCP2022_102146  6704177726803547665   1  86.51   \n",
       "5  source_1                 Batch5_20221030      UL001783  AE41  JCP2022_102146  6704177726803547665   1  86.51   \n",
       "\n",
       "   4.373112017284307  1.899218417851373  ...  -9.42699443839956e-06  2.0636507542803884e-06  -7.880707926233299e-06  \\\n",
       "0           4.061132           1.763727  ...              -0.264010               -0.444511               -0.365870   \n",
       "1           4.061132           1.763727  ...              -0.251520               -0.437663               -0.371511   \n",
       "2           4.061132           1.763727  ...              -0.204195               -0.326992               -0.292524   \n",
       "3           4.460260           1.937066  ...              -0.000107               -0.001175                0.000746   \n",
       "4           4.460260           1.937066  ...              -0.000194               -0.000748                0.000461   \n",
       "5           4.460260           1.937066  ...               0.000390                0.000246                0.001867   \n",
       "\n",
       "   -4.2592173485900275e-06  9.276894161303062e-06  8.631814125692472e-06  4.1652626237009827e-07  8.84678684087703e-07  \\\n",
       "0                -0.347954               0.059786              -0.007302               -0.337043             -0.304299   \n",
       "1                -0.335618               0.050832               0.003978               -0.318630             -0.293298   \n",
       "2                -0.264372               0.063065              -0.010498               -0.263440             -0.239843   \n",
       "3                -0.001319               0.001504              -0.001092               -0.000728              0.000044   \n",
       "4                 0.000389               0.001526               0.000013               -0.000557              0.000721   \n",
       "5                 0.000457               0.001546              -0.001094               -0.000199              0.000035   \n",
       "\n",
       "   -3.3064643503166735e-06  4.881385393673554e-06  \n",
       "0                 0.211058               0.238631  \n",
       "1                 0.229234               0.212936  \n",
       "2                 0.161618               0.179531  \n",
       "3                -0.001463              -0.001287  \n",
       "4                -0.000822              -0.000113  \n",
       "5                -0.001469               0.000583  \n",
       "\n",
       "[6 rows x 161 columns]"
      ]
     },
     "execution_count": 102,
     "metadata": {},
     "output_type": "execute_result"
    },
    {
     "data": {
      "text/html": [
       "<div>\n",
       "<style scoped>\n",
       "    .dataframe tbody tr th:only-of-type {\n",
       "        vertical-align: middle;\n",
       "    }\n",
       "\n",
       "    .dataframe tbody tr th {\n",
       "        vertical-align: top;\n",
       "    }\n",
       "\n",
       "    .dataframe thead th {\n",
       "        text-align: right;\n",
       "    }\n",
       "</style>\n",
       "<table border=\"1\" class=\"dataframe\">\n",
       "  <thead>\n",
       "    <tr style=\"text-align: right;\">\n",
       "      <th></th>\n",
       "      <th>source_9</th>\n",
       "      <th>20211103-Run16</th>\n",
       "      <th>GR00004421</th>\n",
       "      <th>B18</th>\n",
       "      <th>JCP2022_040230</th>\n",
       "      <th>6703257770840297119</th>\n",
       "      <th>15</th>\n",
       "      <th>79.29</th>\n",
       "      <th>4.373112017284307</th>\n",
       "      <th>1.899218417851373</th>\n",
       "      <th>...</th>\n",
       "      <th>-9.42699443839956e-06</th>\n",
       "      <th>2.0636507542803884e-06</th>\n",
       "      <th>-7.880707926233299e-06</th>\n",
       "      <th>-4.2592173485900275e-06</th>\n",
       "      <th>9.276894161303062e-06</th>\n",
       "      <th>8.631814125692472e-06</th>\n",
       "      <th>4.1652626237009827e-07</th>\n",
       "      <th>8.84678684087703e-07</th>\n",
       "      <th>-3.3064643503166735e-06</th>\n",
       "      <th>4.881385393673554e-06</th>\n",
       "    </tr>\n",
       "  </thead>\n",
       "  <tbody>\n",
       "    <tr>\n",
       "      <th>12594</th>\n",
       "      <td>source_10</td>\n",
       "      <td>2021_08_20_U2OS_48_hr_run17</td>\n",
       "      <td>Dest210810-174829</td>\n",
       "      <td>P09</td>\n",
       "      <td>JCP2022_064379</td>\n",
       "      <td>7378624279819671723</td>\n",
       "      <td>11</td>\n",
       "      <td>49.85</td>\n",
       "      <td>3.909018</td>\n",
       "      <td>1.697665</td>\n",
       "      <td>...</td>\n",
       "      <td>0.000251</td>\n",
       "      <td>-0.000404</td>\n",
       "      <td>0.000284</td>\n",
       "      <td>0.000468</td>\n",
       "      <td>-0.000052</td>\n",
       "      <td>-0.000071</td>\n",
       "      <td>0.000475</td>\n",
       "      <td>-0.000520</td>\n",
       "      <td>-0.000103</td>\n",
       "      <td>0.000270</td>\n",
       "    </tr>\n",
       "    <tr>\n",
       "      <th>12595</th>\n",
       "      <td>source_1</td>\n",
       "      <td>Batch5_20221030</td>\n",
       "      <td>UL001791</td>\n",
       "      <td>AF11</td>\n",
       "      <td>JCP2022_064379</td>\n",
       "      <td>7378624279819671723</td>\n",
       "      <td>11</td>\n",
       "      <td>49.85</td>\n",
       "      <td>3.909018</td>\n",
       "      <td>1.697665</td>\n",
       "      <td>...</td>\n",
       "      <td>0.003074</td>\n",
       "      <td>-0.003054</td>\n",
       "      <td>0.002348</td>\n",
       "      <td>0.002050</td>\n",
       "      <td>0.000673</td>\n",
       "      <td>-0.001386</td>\n",
       "      <td>0.001569</td>\n",
       "      <td>-0.002407</td>\n",
       "      <td>0.004988</td>\n",
       "      <td>0.002304</td>\n",
       "    </tr>\n",
       "    <tr>\n",
       "      <th>12596</th>\n",
       "      <td>source_3</td>\n",
       "      <td>CP_32_all_Phenix1</td>\n",
       "      <td>B40703cW</td>\n",
       "      <td>P06</td>\n",
       "      <td>JCP2022_064379</td>\n",
       "      <td>7378624279819671723</td>\n",
       "      <td>11</td>\n",
       "      <td>49.85</td>\n",
       "      <td>3.909018</td>\n",
       "      <td>1.697665</td>\n",
       "      <td>...</td>\n",
       "      <td>0.002918</td>\n",
       "      <td>-0.002243</td>\n",
       "      <td>0.002225</td>\n",
       "      <td>0.002300</td>\n",
       "      <td>0.000392</td>\n",
       "      <td>-0.001115</td>\n",
       "      <td>0.001708</td>\n",
       "      <td>-0.002388</td>\n",
       "      <td>0.004796</td>\n",
       "      <td>0.002558</td>\n",
       "    </tr>\n",
       "    <tr>\n",
       "      <th>12597</th>\n",
       "      <td>source_10</td>\n",
       "      <td>2021_08_17_U2OS_48_hr_run16</td>\n",
       "      <td>Dest210809-141809</td>\n",
       "      <td>L22</td>\n",
       "      <td>JCP2022_012996</td>\n",
       "      <td>7378937281046818562</td>\n",
       "      <td>2</td>\n",
       "      <td>106.40</td>\n",
       "      <td>4.667206</td>\n",
       "      <td>2.026942</td>\n",
       "      <td>...</td>\n",
       "      <td>-0.000216</td>\n",
       "      <td>-0.000080</td>\n",
       "      <td>0.000266</td>\n",
       "      <td>-0.000978</td>\n",
       "      <td>0.000531</td>\n",
       "      <td>-0.000642</td>\n",
       "      <td>-0.000358</td>\n",
       "      <td>-0.000003</td>\n",
       "      <td>-0.001294</td>\n",
       "      <td>-0.000866</td>\n",
       "    </tr>\n",
       "    <tr>\n",
       "      <th>12598</th>\n",
       "      <td>source_1</td>\n",
       "      <td>Batch3_20221010</td>\n",
       "      <td>UL000091</td>\n",
       "      <td>AB44</td>\n",
       "      <td>JCP2022_012996</td>\n",
       "      <td>7378937281046818562</td>\n",
       "      <td>2</td>\n",
       "      <td>106.40</td>\n",
       "      <td>4.667206</td>\n",
       "      <td>2.026942</td>\n",
       "      <td>...</td>\n",
       "      <td>-0.000305</td>\n",
       "      <td>0.000304</td>\n",
       "      <td>-0.000296</td>\n",
       "      <td>0.000014</td>\n",
       "      <td>-0.000210</td>\n",
       "      <td>0.000290</td>\n",
       "      <td>0.000034</td>\n",
       "      <td>0.000128</td>\n",
       "      <td>-0.000470</td>\n",
       "      <td>-0.000141</td>\n",
       "    </tr>\n",
       "    <tr>\n",
       "      <th>12599</th>\n",
       "      <td>source_6</td>\n",
       "      <td>p210906CPU2OS48hw384exp025JUMP</td>\n",
       "      <td>110000294885</td>\n",
       "      <td>N22</td>\n",
       "      <td>JCP2022_012996</td>\n",
       "      <td>7378937281046818562</td>\n",
       "      <td>2</td>\n",
       "      <td>106.40</td>\n",
       "      <td>4.667206</td>\n",
       "      <td>2.026942</td>\n",
       "      <td>...</td>\n",
       "      <td>-0.000563</td>\n",
       "      <td>0.000515</td>\n",
       "      <td>0.000131</td>\n",
       "      <td>-0.000265</td>\n",
       "      <td>0.000556</td>\n",
       "      <td>-0.000432</td>\n",
       "      <td>-0.000587</td>\n",
       "      <td>-0.000313</td>\n",
       "      <td>-0.001424</td>\n",
       "      <td>0.000644</td>\n",
       "    </tr>\n",
       "  </tbody>\n",
       "</table>\n",
       "<p>6 rows × 161 columns</p>\n",
       "</div>"
      ],
      "text/plain": [
       "        source_9                  20211103-Run16         GR00004421   B18  JCP2022_040230  6703257770840297119  15   79.29  \\\n",
       "12594  source_10     2021_08_20_U2OS_48_hr_run17  Dest210810-174829   P09  JCP2022_064379  7378624279819671723  11   49.85   \n",
       "12595   source_1                 Batch5_20221030           UL001791  AF11  JCP2022_064379  7378624279819671723  11   49.85   \n",
       "12596   source_3               CP_32_all_Phenix1           B40703cW   P06  JCP2022_064379  7378624279819671723  11   49.85   \n",
       "12597  source_10     2021_08_17_U2OS_48_hr_run16  Dest210809-141809   L22  JCP2022_012996  7378937281046818562   2  106.40   \n",
       "12598   source_1                 Batch3_20221010           UL000091  AB44  JCP2022_012996  7378937281046818562   2  106.40   \n",
       "12599   source_6  p210906CPU2OS48hw384exp025JUMP       110000294885   N22  JCP2022_012996  7378937281046818562   2  106.40   \n",
       "\n",
       "       4.373112017284307  1.899218417851373  ...  -9.42699443839956e-06  2.0636507542803884e-06  -7.880707926233299e-06  \\\n",
       "12594           3.909018           1.697665  ...               0.000251               -0.000404                0.000284   \n",
       "12595           3.909018           1.697665  ...               0.003074               -0.003054                0.002348   \n",
       "12596           3.909018           1.697665  ...               0.002918               -0.002243                0.002225   \n",
       "12597           4.667206           2.026942  ...              -0.000216               -0.000080                0.000266   \n",
       "12598           4.667206           2.026942  ...              -0.000305                0.000304               -0.000296   \n",
       "12599           4.667206           2.026942  ...              -0.000563                0.000515                0.000131   \n",
       "\n",
       "       -4.2592173485900275e-06  9.276894161303062e-06  8.631814125692472e-06  4.1652626237009827e-07  8.84678684087703e-07  \\\n",
       "12594                 0.000468              -0.000052              -0.000071                0.000475             -0.000520   \n",
       "12595                 0.002050               0.000673              -0.001386                0.001569             -0.002407   \n",
       "12596                 0.002300               0.000392              -0.001115                0.001708             -0.002388   \n",
       "12597                -0.000978               0.000531              -0.000642               -0.000358             -0.000003   \n",
       "12598                 0.000014              -0.000210               0.000290                0.000034              0.000128   \n",
       "12599                -0.000265               0.000556              -0.000432               -0.000587             -0.000313   \n",
       "\n",
       "       -3.3064643503166735e-06  4.881385393673554e-06  \n",
       "12594                -0.000103               0.000270  \n",
       "12595                 0.004988               0.002304  \n",
       "12596                 0.004796               0.002558  \n",
       "12597                -0.001294              -0.000866  \n",
       "12598                -0.000470              -0.000141  \n",
       "12599                -0.001424               0.000644  \n",
       "\n",
       "[6 rows x 161 columns]"
      ]
     },
     "execution_count": 102,
     "metadata": {},
     "output_type": "execute_result"
    }
   ],
   "source": [
    "df_test = pd.read_csv(INPUT_FILE, header = 0,\n",
    "                      skiprows = 298_800,\n",
    "                      nrows = 12_600,\n",
    "                      )\n",
    "df_test.shape\n",
    "df_test.info()\n",
    "df_test.head(6)\n",
    "df_test.tail(6)"
   ]
  },
  {
   "cell_type": "code",
   "execution_count": 103,
   "id": "f28e603d-6a14-429b-838a-0676f0e25d22",
   "metadata": {
    "execution": {
     "iopub.execute_input": "2024-09-26T16:12:56.155147Z",
     "iopub.status.busy": "2024-09-26T16:12:56.154671Z",
     "iopub.status.idle": "2024-09-26T16:12:56.197526Z",
     "shell.execute_reply": "2024-09-26T16:12:56.197014Z",
     "shell.execute_reply.started": "2024-09-26T16:12:56.155107Z"
    }
   },
   "outputs": [
    {
     "name": "stdout",
     "output_type": "stream",
     "text": [
      " Write to /home/kevin/WSL-shared/cellpainting/cj-datasets/output_11102023/3_sample_embeddings/3smpl_prfl_embedding_161_HashOrder_SNNL_20240829_1712_LAST_train_sub_test.csv\n"
     ]
    }
   ],
   "source": [
    "print(f\" Write to {TEST_OUTPUT_FILE}\")"
   ]
  },
  {
   "cell_type": "code",
   "execution_count": 104,
   "id": "b39db040-c7d9-4189-b766-5ed5fc775e0a",
   "metadata": {
    "execution": {
     "iopub.execute_input": "2024-09-26T16:13:02.547035Z",
     "iopub.status.busy": "2024-09-26T16:13:02.546546Z",
     "iopub.status.idle": "2024-09-26T16:13:05.263177Z",
     "shell.execute_reply": "2024-09-26T16:13:05.262441Z",
     "shell.execute_reply.started": "2024-09-26T16:13:02.546994Z"
    }
   },
   "outputs": [],
   "source": [
    "df_test.to_csv(TEST_OUTPUT_FILE, mode = 'w', index = False, header = True, )"
   ]
  },
  {
   "cell_type": "code",
   "execution_count": 105,
   "id": "c81e268d-1500-4e3e-82e1-d14668d2dc25",
   "metadata": {
    "execution": {
     "iopub.execute_input": "2024-09-26T16:13:12.298691Z",
     "iopub.status.busy": "2024-09-26T16:13:12.298185Z",
     "iopub.status.idle": "2024-09-26T16:13:12.341207Z",
     "shell.execute_reply": "2024-09-26T16:13:12.340337Z",
     "shell.execute_reply.started": "2024-09-26T16:13:12.298650Z"
    }
   },
   "outputs": [],
   "source": [
    "del df_validation, df_test"
   ]
  },
  {
   "cell_type": "code",
   "execution_count": null,
   "id": "bd8705a0-6662-4ef5-80fd-7982e372286e",
   "metadata": {},
   "outputs": [],
   "source": []
  }
 ],
 "metadata": {
  "kernelspec": {
   "display_name": "Python [conda env:ptsnnl]",
   "language": "python",
   "name": "conda-env-ptsnnl-py"
  },
  "language_info": {
   "codemirror_mode": {
    "name": "ipython",
    "version": 3
   },
   "file_extension": ".py",
   "mimetype": "text/x-python",
   "name": "python",
   "nbconvert_exporter": "python",
   "pygments_lexer": "ipython3",
   "version": "3.11.0"
  },
  "toc": {
   "base_numbering": 1,
   "nav_menu": {},
   "number_sections": true,
   "sideBar": true,
   "skip_h1_title": false,
   "title_cell": "Table of Contents",
   "title_sidebar": "Contents",
   "toc_cell": false,
   "toc_position": {},
   "toc_section_display": true,
   "toc_window_display": false
  }
 },
 "nbformat": 4,
 "nbformat_minor": 5
}
