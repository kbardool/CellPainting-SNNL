{
 "cells": [
  {
   "cell_type": "code",
   "execution_count": 1,
   "id": "11ad0ae2",
   "metadata": {
    "ExecuteTime": {
     "end_time": "2023-04-12T10:29:15.566596Z",
     "start_time": "2023-04-12T10:29:15.550232Z"
    },
    "execution": {
     "iopub.execute_input": "2024-04-01T15:09:57.639425Z",
     "iopub.status.busy": "2024-04-01T15:09:57.638926Z",
     "iopub.status.idle": "2024-04-01T15:09:57.664177Z",
     "shell.execute_reply": "2024-04-01T15:09:57.663677Z",
     "shell.execute_reply.started": "2024-04-01T15:09:57.639383Z"
    }
   },
   "outputs": [
    {
     "data": {
      "text/html": [
       "<style>.container { width:98% !important; }</style>"
      ],
      "text/plain": [
       "<IPython.core.display.HTML object>"
      ]
     },
     "metadata": {},
     "output_type": "display_data"
    }
   ],
   "source": [
    "from IPython.display import display, HTML\n",
    "display(HTML(\"<style>.container { width:98% !important; }</style>\"))\n",
    "%load_ext autoreload  \n",
    "%autoreload 2\n",
    "from IPython.core.interactiveshell import InteractiveShell\n",
    "InteractiveShell.ast_node_interactivity = \"all\""
   ]
  },
  {
   "cell_type": "code",
   "execution_count": 2,
   "id": "9ba59711",
   "metadata": {
    "ExecuteTime": {
     "end_time": "2023-04-12T10:29:16.111588Z",
     "start_time": "2023-04-12T10:29:15.764305Z"
    },
    "execution": {
     "iopub.execute_input": "2024-04-01T15:09:58.601480Z",
     "iopub.status.busy": "2024-04-01T15:09:58.601066Z",
     "iopub.status.idle": "2024-04-01T15:09:58.798507Z",
     "shell.execute_reply": "2024-04-01T15:09:58.797869Z",
     "shell.execute_reply.started": "2024-04-01T15:09:58.601439Z"
    }
   },
   "outputs": [
    {
     "name": "stdout",
     "output_type": "stream",
     "text": [
      "insert ./src\n",
      "['./src', '/home/kevin/miniforge3/envs/ptsnnl/lib/python311.zip', '/home/kevin/miniforge3/envs/ptsnnl/lib/python3.11', '/home/kevin/miniforge3/envs/ptsnnl/lib/python3.11/lib-dynload', '', '/home/kevin/miniforge3/envs/ptsnnl/lib/python3.11/site-packages']\n"
     ]
    }
   ],
   "source": [
    "import os\n",
    "import sys\n",
    "import argparse\n",
    "import csv\n",
    "import json\n",
    "import time\n",
    "import types, copy, pprint\n",
    "from datetime import datetime\n",
    "import numpy as np\n",
    "\n",
    "if './src' not in sys.path:\n",
    "    print(f\"insert ./src\")\n",
    "    sys.path.insert(0, './src')\n",
    "print(sys.path)\n",
    "\n",
    "# import pandas as pd\n",
    "# pd.options.display.width = 132\n",
    "from scipy.sparse import csr_matrix\n",
    "\n",
    "pp = pprint.PrettyPrinter(indent=4)\n",
    "np.set_printoptions(edgeitems=3, infstr='inf', linewidth=150, nanstr='nan')\n",
    "\n",
    "# os.environ[\"WANDB_NOTEBOOK_NAME\"] = \"Adashare_Train.ipynb\"\n",
    "# os.environ[\"CUDA_LAUNCH_BLOCKING\"] = \"1\""
   ]
  },
  {
   "cell_type": "code",
   "execution_count": 3,
   "id": "28b0ff70-8483-49b5-a308-26720cf31118",
   "metadata": {
    "execution": {
     "iopub.execute_input": "2024-04-01T15:09:58.827043Z",
     "iopub.status.busy": "2024-04-01T15:09:58.826523Z",
     "iopub.status.idle": "2024-04-01T15:09:58.843879Z",
     "shell.execute_reply": "2024-04-01T15:09:58.843331Z",
     "shell.execute_reply.started": "2024-04-01T15:09:58.827003Z"
    }
   },
   "outputs": [
    {
     "name": "stdout",
     "output_type": "stream",
     "text": [
      " Timestamp:  ./tmp/sql_cohort_2024_04_01_17:09:58.txt\n"
     ]
    }
   ],
   "source": [
    "# print(\"1- '%x_%X'               : \",time.strftime('%x_%X'))\n",
    "# print(\"2- '%X.%f'               : \",datetime.now().strftime('%X.%f'))\n",
    "# print(\"3- '%X %x %Z'            : \",time.strftime('%X %x %Z'))\n",
    "# print(\"4- '%D-%X.%f'            : \",datetime.now().strftime('%D-%X.%f'))\n",
    "# print(\"5- '%Y-%m-%d %H:%M:%S.%f': \",datetime.now().strftime('%Y-%m-%d %H:%M:%S.%f'))\n",
    "# print(\"6- '%Y%m%d_%H%M%S'       : \",datetime.now().strftime('%Y%m%d_%H%M%S'))\n",
    "# print(\"7- '%Y_%m_%d_%H:%M:%S'   : \",datetime.now().strftime('%Y_%m_%d_%H:%M:%S'))\n",
    "\n",
    "timestamp = datetime.now().strftime('%Y_%m_%d_%H:%M:%S')\n",
    "print(' Timestamp: ','./tmp/sql_cohort'+'_'+timestamp+'.txt')"
   ]
  },
  {
   "cell_type": "code",
   "execution_count": 4,
   "id": "97eb9ce9-3778-444b-8784-63493d1a8619",
   "metadata": {
    "execution": {
     "iopub.execute_input": "2024-04-01T15:09:59.023140Z",
     "iopub.status.busy": "2024-04-01T15:09:59.022564Z",
     "iopub.status.idle": "2024-04-01T15:09:59.039753Z",
     "shell.execute_reply": "2024-04-01T15:09:59.039071Z",
     "shell.execute_reply.started": "2024-04-01T15:09:59.023097Z"
    }
   },
   "outputs": [],
   "source": [
    "import os\n",
    "import logging \n",
    "logLevel = os.environ.get('LOG_LEVEL', 'INFO').upper()\n",
    "FORMAT = '%(asctime)s - %(levelname)s: - %(message)s'\n",
    "logging.basicConfig(level=\"INFO\", format= FORMAT)\n"
   ]
  },
  {
   "cell_type": "markdown",
   "id": "c9a51595-5eb1-4169-83e1-ab476383de22",
   "metadata": {},
   "source": [
    "# Setup"
   ]
  },
  {
   "cell_type": "code",
   "execution_count": 5,
   "id": "20f55fa0",
   "metadata": {
    "execution": {
     "iopub.execute_input": "2024-04-01T15:09:59.685197Z",
     "iopub.status.busy": "2024-04-01T15:09:59.684722Z",
     "iopub.status.idle": "2024-04-01T15:10:00.957717Z",
     "shell.execute_reply": "2024-04-01T15:10:00.957001Z",
     "shell.execute_reply.started": "2024-04-01T15:09:59.685155Z"
    }
   },
   "outputs": [
    {
     "name": "stdout",
     "output_type": "stream",
     "text": [
      "2.2.1+cu118\n"
     ]
    }
   ],
   "source": [
    "import torch\n",
    "import torch.nn.functional as F\n",
    "from torchinfo import summary\n",
    "import os\n",
    "import shutil\n",
    "import sys\n",
    "import getpass\n",
    "from tqdm import tqdm\n",
    "from datetime import datetime\n",
    "print(torch.__version__)"
   ]
  },
  {
   "cell_type": "code",
   "execution_count": 6,
   "id": "8059a7a6",
   "metadata": {
    "execution": {
     "iopub.execute_input": "2024-04-01T15:10:00.959608Z",
     "iopub.status.busy": "2024-04-01T15:10:00.959314Z",
     "iopub.status.idle": "2024-04-01T15:10:01.015875Z",
     "shell.execute_reply": "2024-04-01T15:10:01.015348Z",
     "shell.execute_reply.started": "2024-04-01T15:10:00.959586Z"
    }
   },
   "outputs": [
    {
     "name": "stdout",
     "output_type": "stream",
     "text": [
      "Running on: cuda\n"
     ]
    },
    {
     "data": {
      "text/plain": [
       "'cuda'"
      ]
     },
     "execution_count": 6,
     "metadata": {},
     "output_type": "execute_result"
    }
   ],
   "source": [
    "torch.set_printoptions(precision=None, threshold=None, edgeitems=None, linewidth=150, profile=None, sci_mode=None)\n",
    "def _get_device():\n",
    "    device = 'cuda' if torch.cuda.is_available() else 'cpu'\n",
    "    print(\"Running on:\", device)\n",
    "    return device\n",
    "_get_device()"
   ]
  },
  {
   "cell_type": "code",
   "execution_count": 36,
   "id": "bd74b69c-7c4c-42cf-ae66-1dd402d5e341",
   "metadata": {
    "execution": {
     "iopub.execute_input": "2024-04-01T15:20:37.466293Z",
     "iopub.status.busy": "2024-04-01T15:20:37.465854Z",
     "iopub.status.idle": "2024-04-01T15:20:37.633414Z",
     "shell.execute_reply": "2024-04-01T15:20:37.632554Z",
     "shell.execute_reply.started": "2024-04-01T15:20:37.466253Z"
    }
   },
   "outputs": [
    {
     "data": {
      "text/plain": [
       "'Sample module for using DNN classifier with SNNL'"
      ]
     },
     "execution_count": 36,
     "metadata": {},
     "output_type": "execute_result"
    }
   ],
   "source": [
    "# Soft Nearest Neighbor Loss\n",
    "# Copyright (C) 2020  Abien Fred Agarap\n",
    "#\n",
    "# This program is free software: you can redistribute it and/or modify\n",
    "# it under the terms of the GNU Affero General Public License as published\n",
    "# by the Free Software Foundation, either version 3 of the License, or\n",
    "# (at your option) any later version.\n",
    "#\n",
    "# This program is distributed in the hope that it will be useful,\n",
    "# but WITHOUT ANY WARRANTY; without even the implied warranty of\n",
    "# MERCHANTABILITY or FITNESS FOR A PARTICULAR PURPOSE.  See the\n",
    "# GNU Affero General Public License for more details.\n",
    "#\n",
    "# You should have received a copy of the GNU Affero General Public License\n",
    "# along with this program.  If not, see <https://www.gnu.org/licenses/>.\n",
    "\"\"\"Sample module for using DNN classifier with SNNL\"\"\"\n",
    "import argparse\n",
    "\n",
    "import torch\n",
    "# from pt_datasets import create_dataloader, load_dataset\n",
    "# from pt_datasets import display_cellpainting_batch\n",
    "# from pt_datasets import custom_collate_fn\n",
    "# from snnl.models import DNN\n",
    "# from dev_code import Model, DNN, Autoencoder, SNNLoss\n",
    "from snnl.models import Model, DNN\n",
    "from snnl.losses import SNNLoss\n",
    "from snnl.utils import export_results, get_hyperparameters, set_global_seed\n",
    "from snnl.utils.metrics import accuracy\n",
    "\n",
    "__author__ = \"Abien Fred Agarap\"\n",
    "__version__ = \"1.0.0\""
   ]
  },
  {
   "cell_type": "code",
   "execution_count": null,
   "id": "c53e68ae-5323-4691-aacc-b79d5f8ede2e",
   "metadata": {},
   "outputs": [],
   "source": []
  },
  {
   "cell_type": "code",
   "execution_count": 24,
   "id": "a71c150d-f217-4176-ac93-7054da809907",
   "metadata": {
    "execution": {
     "iopub.execute_input": "2024-04-01T15:13:02.777152Z",
     "iopub.status.busy": "2024-04-01T15:13:02.776731Z",
     "iopub.status.idle": "2024-04-01T15:13:02.811058Z",
     "shell.execute_reply": "2024-04-01T15:13:02.810533Z",
     "shell.execute_reply.started": "2024-04-01T15:13:02.777110Z"
    }
   },
   "outputs": [],
   "source": [
    "def parse_args(input = None):\n",
    "    parser = argparse.ArgumentParser(description=\"DNN classifier with SNNL\")\n",
    "    group = parser.add_argument_group(\"Parameters\")\n",
    "    group.add_argument(\n",
    "        \"-s\",\n",
    "        \"--seed\",\n",
    "        required=False,\n",
    "        default=1234,\n",
    "        type=int,\n",
    "        help=\"the random seed value to use, default: [1234]\",\n",
    "    )\n",
    "    group.add_argument(\n",
    "        \"-m\",\n",
    "        \"--model\",\n",
    "        required=False,\n",
    "        default=\"baseline\",\n",
    "        type=str,\n",
    "        help=\"the model to use, options: [baseline (default) | snnl]\",\n",
    "    )\n",
    "    group.add_argument(\n",
    "        \"-c\",\n",
    "        \"--configuration\",\n",
    "        required=False,\n",
    "        default=\"examples/hyperparameters/dnn.json\",\n",
    "        type=str,\n",
    "        help=\"the path to the JSON file containing the hyperparameters to use\",\n",
    "    )\n",
    "    arguments = parser.parse_args(input)\n",
    "    return arguments"
   ]
  },
  {
   "cell_type": "code",
   "execution_count": 25,
   "id": "b6c896d7-11c3-4c2c-8871-cecf204657ae",
   "metadata": {
    "execution": {
     "iopub.execute_input": "2024-04-01T15:13:02.962673Z",
     "iopub.status.busy": "2024-04-01T15:13:02.962462Z",
     "iopub.status.idle": "2024-04-01T15:13:02.993560Z",
     "shell.execute_reply": "2024-04-01T15:13:02.992999Z",
     "shell.execute_reply.started": "2024-04-01T15:13:02.962654Z"
    }
   },
   "outputs": [
    {
     "data": {
      "text/plain": [
       "Namespace(seed=1234, model='baseline', configuration='examples/hyperparameters/dnn_mnist.json')"
      ]
     },
     "execution_count": 25,
     "metadata": {},
     "output_type": "execute_result"
    }
   ],
   "source": [
    "# if __name__ == \"__main__\":\n",
    "input_args = f\" --seed              1234 \" \\\n",
    "             f\" --model             baseline\" \\\n",
    "             f\" --configuration     examples/hyperparameters/dnn_mnist.json\"\n",
    "             # f\" --configuration     examples/hyperparameters/dnn_cellpainting.json\"\n",
    "             # f\" --model             snnl\" \\\n",
    "args = parse_args(input_args.split())\n",
    "\n",
    "args"
   ]
  },
  {
   "cell_type": "markdown",
   "id": "1be5e789-3446-482f-a3ca-fdd19b2a845e",
   "metadata": {},
   "source": [
    "#### main(args)"
   ]
  },
  {
   "cell_type": "code",
   "execution_count": 26,
   "id": "885d1cb3-5f5a-4900-8801-36aea8f5cd0c",
   "metadata": {
    "execution": {
     "iopub.execute_input": "2024-04-01T15:13:03.825501Z",
     "iopub.status.busy": "2024-04-01T15:13:03.825196Z",
     "iopub.status.idle": "2024-04-01T15:13:03.856713Z",
     "shell.execute_reply": "2024-04-01T15:13:03.856029Z",
     "shell.execute_reply.started": "2024-04-01T15:13:03.825473Z"
    },
    "scrolled": true
   },
   "outputs": [
    {
     "name": "stdout",
     "output_type": "stream",
     "text": [
      "hello dnn \n",
      "hello C\n"
     ]
    }
   ],
   "source": [
    "# DNN\n",
    "(   dataset,\n",
    "    batch_size,\n",
    "    epochs,\n",
    "    learning_rate,\n",
    "    units,\n",
    "    snnl_factor,\n",
    "    temperature,\n",
    " ) = get_hyperparameters(args.configuration)"
   ]
  },
  {
   "cell_type": "code",
   "execution_count": 27,
   "id": "3a271f9a-32b0-4317-94ec-62ac29b1607f",
   "metadata": {
    "execution": {
     "iopub.execute_input": "2024-04-01T15:13:04.116637Z",
     "iopub.status.busy": "2024-04-01T15:13:04.116428Z",
     "iopub.status.idle": "2024-04-01T15:13:04.145760Z",
     "shell.execute_reply": "2024-04-01T15:13:04.145137Z",
     "shell.execute_reply.started": "2024-04-01T15:13:04.116619Z"
    }
   },
   "outputs": [],
   "source": [
    "# dataset = 'cellpainting'\n",
    "# units = [[1471, 1024], [1024, 1024], [1024, 512], [512,32] ]\n",
    "# epochs = 10\n",
    "# batch_size = 10"
   ]
  },
  {
   "cell_type": "code",
   "execution_count": 28,
   "id": "1e4f9df4-ca74-4916-8d76-be4bed339b6c",
   "metadata": {
    "execution": {
     "iopub.execute_input": "2024-04-01T15:13:04.342396Z",
     "iopub.status.busy": "2024-04-01T15:13:04.342186Z",
     "iopub.status.idle": "2024-04-01T15:13:04.371800Z",
     "shell.execute_reply": "2024-04-01T15:13:04.370897Z",
     "shell.execute_reply.started": "2024-04-01T15:13:04.342377Z"
    }
   },
   "outputs": [
    {
     "name": "stdout",
     "output_type": "stream",
     "text": [
      "   dataset           mnist\n",
      "   batch_size        256\n",
      "   epochs            20\n",
      "   learning_rate     0.0001\n",
      "   units             [[784, 500], [500, 500], [500, 2000], [2000, 10]]\n",
      "   snnl_factor       10.0\n",
      "   temperature       50.0\n"
     ]
    }
   ],
   "source": [
    "print(f\"   dataset           {dataset}\")\n",
    "print(f\"   batch_size        {batch_size}\")\n",
    "print(f\"   epochs            {epochs}\")\n",
    "print(f\"   learning_rate     {learning_rate}\")\n",
    "# print(f\"   code_dim          {code_dim}\")\n",
    "print(f\"   units             {units}\")\n",
    "print(f\"   snnl_factor       {snnl_factor}\")\n",
    "print(f\"   temperature       {temperature}\")\n"
   ]
  },
  {
   "cell_type": "markdown",
   "id": "f18466bd-323b-4b03-b274-a1285dde5307",
   "metadata": {},
   "source": [
    "#### Load mnist dataset"
   ]
  },
  {
   "cell_type": "code",
   "execution_count": 29,
   "id": "8ad3eb09-600a-4e3a-9b28-f9491f962624",
   "metadata": {
    "execution": {
     "iopub.execute_input": "2024-04-01T15:13:05.421351Z",
     "iopub.status.busy": "2024-04-01T15:13:05.420932Z",
     "iopub.status.idle": "2024-04-01T15:13:05.452823Z",
     "shell.execute_reply": "2024-04-01T15:13:05.452347Z",
     "shell.execute_reply.started": "2024-04-01T15:13:05.421314Z"
    }
   },
   "outputs": [],
   "source": [
    "set_global_seed(args.seed)"
   ]
  },
  {
   "cell_type": "code",
   "execution_count": 30,
   "id": "f2587c2b-e962-4c8e-a008-fe4b8146541a",
   "metadata": {
    "execution": {
     "iopub.execute_input": "2024-04-01T15:13:05.909750Z",
     "iopub.status.busy": "2024-04-01T15:13:05.909328Z",
     "iopub.status.idle": "2024-04-01T15:13:06.170611Z",
     "shell.execute_reply": "2024-04-01T15:13:06.169716Z",
     "shell.execute_reply.started": "2024-04-01T15:13:05.909711Z"
    }
   },
   "outputs": [
    {
     "name": "stdout",
     "output_type": "stream",
     "text": [
      "load mnist\n"
     ]
    }
   ],
   "source": [
    "if dataset in [\"mnist\", \"emnist\"]:\n",
    "    print(f\"load {dataset}\")\n",
    "    train_dataset, test_dataset = load_dataset(name=dataset)\n",
    "\n",
    "    if dataset == \"emnist\":\n",
    "        print(f\"dataset is emnist\")\n",
    "        train_features = train_dataset.data.numpy().astype(\"float32\") / 255.0\n",
    "        train_features = train_features[:60000]\n",
    "        train_features = torch.from_numpy(train_features)\n",
    "        train_labels = train_dataset.targets\n",
    "        train_labels = train_labels[:60000]\n",
    "        train_dataset = torch.utils.data.TensorDataset(train_features, train_labels)\n",
    "    else:\n",
    "        train_dataset, test_dataset = load_dataset(name=dataset)\n",
    "        train_features = train_dataset.data.numpy().astype(\"float32\") / 255.0\n",
    "        # train_features = train_features[:10000]\n",
    "        train_features = torch.from_numpy(train_features)\n",
    "        train_labels = train_dataset.targets\n",
    "        # train_labels = train_labels[:10000]\n",
    "        train_dataset = torch.utils.data.TensorDataset(train_features, train_labels)\n",
    "        train_loader = create_dataloader(dataset=train_dataset, batch_size=batch_size, num_workers=1)    \n"
   ]
  },
  {
   "cell_type": "code",
   "execution_count": 31,
   "id": "e1b30260-90ff-44b1-b249-976a8672018d",
   "metadata": {
    "execution": {
     "iopub.execute_input": "2024-04-01T15:13:07.025248Z",
     "iopub.status.busy": "2024-04-01T15:13:07.024848Z",
     "iopub.status.idle": "2024-04-01T15:13:07.062309Z",
     "shell.execute_reply": "2024-04-01T15:13:07.061640Z",
     "shell.execute_reply.started": "2024-04-01T15:13:07.025211Z"
    }
   },
   "outputs": [
    {
     "name": "stdout",
     "output_type": "stream",
     "text": [
      "60000 10000\n"
     ]
    }
   ],
   "source": [
    "print(len(train_dataset), len(test_dataset))"
   ]
  },
  {
   "cell_type": "markdown",
   "id": "607c48ed-c31d-4a58-bde2-36df402aa7b8",
   "metadata": {},
   "source": [
    "#### define DNN model"
   ]
  },
  {
   "cell_type": "code",
   "execution_count": 39,
   "id": "d5bd1291-c95f-4f00-8321-d9a1435b549e",
   "metadata": {
    "execution": {
     "iopub.execute_input": "2024-04-01T15:20:45.942838Z",
     "iopub.status.busy": "2024-04-01T15:20:45.942416Z",
     "iopub.status.idle": "2024-04-01T15:20:45.973254Z",
     "shell.execute_reply": "2024-04-01T15:20:45.972640Z",
     "shell.execute_reply.started": "2024-04-01T15:20:45.942799Z"
    }
   },
   "outputs": [],
   "source": [
    "args.model = \"snnl\""
   ]
  },
  {
   "cell_type": "code",
   "execution_count": 100,
   "id": "161d32a7-c231-4d28-b239-6b995b0d45f8",
   "metadata": {
    "execution": {
     "iopub.execute_input": "2024-04-01T15:54:24.829490Z",
     "iopub.status.busy": "2024-04-01T15:54:24.828949Z",
     "iopub.status.idle": "2024-04-01T15:54:25.428493Z",
     "shell.execute_reply": "2024-04-01T15:54:25.427703Z",
     "shell.execute_reply.started": "2024-04-01T15:54:24.829436Z"
    }
   },
   "outputs": [
    {
     "name": "stdout",
     "output_type": "stream",
     "text": [
      " Build SNNL model\n",
      " Building Base Model from models/base.py\n",
      " Building DNN from models/dnn.py\n"
     ]
    }
   ],
   "source": [
    "if args.model.lower() == \"baseline\":\n",
    "    print(f\" Build BASELINE model\")\n",
    "    model = DNN(units=units, learning_rate=learning_rate)\n",
    "    \n",
    "elif args.model.lower() == \"snnl\":\n",
    "    print(f\" Build SNNL model\")\n",
    "    model = DNN(\n",
    "        units=units,\n",
    "        learning_rate=learning_rate,\n",
    "        use_snnl=True,\n",
    "        factor=snnl_factor,\n",
    "        temperature=temperature,\n",
    "        use_annealing=False,\n",
    "    )\n",
    "else:\n",
    "    raise ValueError(\"Choose between [baseline] and [snnl] only.\")"
   ]
  },
  {
   "cell_type": "code",
   "execution_count": 101,
   "id": "3cdd1e9d-939c-4a0b-aaf6-29a866c37b63",
   "metadata": {
    "execution": {
     "iopub.execute_input": "2024-04-01T15:54:25.454196Z",
     "iopub.status.busy": "2024-04-01T15:54:25.453979Z",
     "iopub.status.idle": "2024-04-01T15:54:25.493306Z",
     "shell.execute_reply": "2024-04-01T15:54:25.492768Z",
     "shell.execute_reply.started": "2024-04-01T15:54:25.454176Z"
    }
   },
   "outputs": [
    {
     "data": {
      "text/plain": [
       "'classifier'"
      ]
     },
     "execution_count": 101,
     "metadata": {},
     "output_type": "execute_result"
    },
    {
     "data": {
      "text/plain": [
       "False"
      ]
     },
     "execution_count": 101,
     "metadata": {},
     "output_type": "execute_result"
    },
    {
     "data": {
      "text/plain": [
       "Parameter containing:\n",
       "tensor([50.], device='cuda:0', requires_grad=True)"
      ]
     },
     "execution_count": 101,
     "metadata": {},
     "output_type": "execute_result"
    },
    {
     "data": {
      "text/plain": [
       "Parameter containing:\n",
       "tensor([50.], device='cuda:0', requires_grad=True)"
      ]
     },
     "execution_count": 101,
     "metadata": {},
     "output_type": "execute_result"
    }
   ],
   "source": [
    "model.mode\n",
    "model.snnl_criterion._supported_modes.get(model.mode)\n",
    "model.temperature\n",
    "model.snnl_criterion.temperature"
   ]
  },
  {
   "cell_type": "markdown",
   "id": "332b698f-3de7-462c-8e90-ca82e81b18c0",
   "metadata": {},
   "source": [
    "#### Display model summary"
   ]
  },
  {
   "cell_type": "code",
   "execution_count": 102,
   "id": "6947ebb3-a53d-4936-8f51-22e8deaa7922",
   "metadata": {
    "execution": {
     "iopub.execute_input": "2024-04-01T15:54:27.020687Z",
     "iopub.status.busy": "2024-04-01T15:54:27.018455Z",
     "iopub.status.idle": "2024-04-01T15:54:27.060636Z",
     "shell.execute_reply": "2024-04-01T15:54:27.060021Z",
     "shell.execute_reply.started": "2024-04-01T15:54:27.020632Z"
    }
   },
   "outputs": [
    {
     "data": {
      "text/plain": [
       "==============================================================================================================================================================================================\n",
       "Layer (type:depth-idx)                   Input Shape               Output Shape              Param #                   Param %                   Mult-Adds                 Trainable\n",
       "==============================================================================================================================================================================================\n",
       "DNN                                      [256, 28, 28]             [256, 10]                 1                           0.00%                   --                        True\n",
       "├─ModuleList: 1-1                        --                        --                        --                             --                   --                        True\n",
       "│    └─Linear: 2-1                       [256, 784]                [256, 500]                392,500                    23.57%                   100,480,000               True\n",
       "│    └─Linear: 2-2                       [256, 500]                [256, 500]                250,500                    15.04%                   64,128,000                True\n",
       "│    └─Linear: 2-3                       [256, 500]                [256, 2000]               1,002,000                  60.18%                   256,512,000               True\n",
       "│    └─Linear: 2-4                       [256, 2000]               [256, 10]                 20,010                      1.20%                   5,122,560                 True\n",
       "==============================================================================================================================================================================================\n",
       "Total params: 1,665,011\n",
       "Trainable params: 1,665,011\n",
       "Non-trainable params: 0\n",
       "Total mult-adds (Units.MEGABYTES): 426.24\n",
       "==============================================================================================================================================================================================\n",
       "Input size (MB): 0.80\n",
       "Forward/backward pass size (MB): 6.16\n",
       "Params size (MB): 6.66\n",
       "Estimated Total Size (MB): 13.63\n",
       "=============================================================================================================================================================================================="
      ]
     },
     "execution_count": 102,
     "metadata": {},
     "output_type": "execute_result"
    }
   ],
   "source": [
    "col_names = [ \"input_size\",\n",
    "                \"output_size\",\n",
    "                \"num_params\",\n",
    "                \"params_percent\",\n",
    "                # \"kernel_size\",\n",
    "                \"mult_adds\",\n",
    "                \"trainable\"]\n",
    "if dataset ==\"cellpainting\":\n",
    "    summary_input_size = (batch_size * cellpainting_args['sample_size'], 1471)\n",
    "else:\n",
    "    summary_input_size = (batch_size, 28, 28)\n",
    "summary(model, input_size=summary_input_size, col_names = col_names)"
   ]
  },
  {
   "cell_type": "code",
   "execution_count": 103,
   "id": "cae9c65d-3905-47dc-8f36-56a17d78617a",
   "metadata": {
    "execution": {
     "iopub.execute_input": "2024-04-01T15:54:27.448848Z",
     "iopub.status.busy": "2024-04-01T15:54:27.448412Z",
     "iopub.status.idle": "2024-04-01T15:54:27.481446Z",
     "shell.execute_reply": "2024-04-01T15:54:27.480816Z",
     "shell.execute_reply.started": "2024-04-01T15:54:27.448809Z"
    }
   },
   "outputs": [],
   "source": [
    "# for index, layer in enumerate(model.layers):\n",
    "#     print(f\" {index}:  \")\n",
    "#     print(layer)\n",
    "#     if isinstance(layer, torch.nn.Linear):\n",
    "#         print(layer.weight.shape)"
   ]
  },
  {
   "cell_type": "markdown",
   "id": "cde204ee-2a9a-489f-8987-24c7f9c415be",
   "metadata": {
    "execution": {
     "iopub.execute_input": "2024-03-18T21:36:31.081005Z",
     "iopub.status.busy": "2024-03-18T21:36:31.080534Z",
     "iopub.status.idle": "2024-03-18T21:36:31.087709Z",
     "shell.execute_reply": "2024-03-18T21:36:31.086762Z",
     "shell.execute_reply.started": "2024-03-18T21:36:31.080965Z"
    }
   },
   "source": [
    "### `main()`"
   ]
  },
  {
   "cell_type": "code",
   "execution_count": 104,
   "id": "57264528-0f74-41e1-a608-4e09b1be9e27",
   "metadata": {
    "execution": {
     "iopub.execute_input": "2024-04-01T15:54:30.984627Z",
     "iopub.status.busy": "2024-04-01T15:54:30.984207Z",
     "iopub.status.idle": "2024-04-01T15:54:31.016867Z",
     "shell.execute_reply": "2024-04-01T15:54:31.016217Z",
     "shell.execute_reply.started": "2024-04-01T15:54:30.984587Z"
    }
   },
   "outputs": [],
   "source": [
    "epochs = 10"
   ]
  },
  {
   "cell_type": "code",
   "execution_count": 105,
   "id": "d588e9b1-d4d5-43c3-8152-4399c2041a11",
   "metadata": {
    "execution": {
     "iopub.execute_input": "2024-04-01T15:54:31.547919Z",
     "iopub.status.busy": "2024-04-01T15:54:31.547494Z",
     "iopub.status.idle": "2024-04-01T15:55:00.869947Z",
     "shell.execute_reply": "2024-04-01T15:55:00.868858Z",
     "shell.execute_reply.started": "2024-04-01T15:54:31.547879Z"
    }
   },
   "outputs": [
    {
     "name": "stdout",
     "output_type": "stream",
     "text": [
      "epoch 1/10  |  mean loss = 23.543876  |  mean acc = 0.871692  |  xent loss = 0.486050  |  snn loss = 2.305783  |  temp = 49.912754  |  temp grad = 0.003163 \n",
      "epoch 2/10  |  mean loss = 23.218951  |  mean acc = 0.949391  |  xent loss = 0.177541  |  snn loss = 2.304141  |  temp = 49.818554  |  temp grad = 0.002887 \n",
      "epoch 3/10  |  mean loss = 23.167129  |  mean acc = 0.963763  |  xent loss = 0.125849  |  snn loss = 2.304128  |  temp = 49.721825  |  temp grad = 0.003254 \n",
      "epoch 4/10  |  mean loss = 23.141419  |  mean acc = 0.973199  |  xent loss = 0.095966  |  snn loss = 2.304545  |  temp = 49.623051  |  temp grad = 0.003117 \n",
      "epoch 5/10  |  mean loss = 23.109316  |  mean acc = 0.978452  |  xent loss = 0.075772  |  snn loss = 2.303354  |  temp = 49.523117  |  temp grad = 0.003098 \n",
      "epoch 6/10  |  mean loss = 23.103162  |  mean acc = 0.983477  |  xent loss = 0.060807  |  snn loss = 2.304235  |  temp = 49.422253  |  temp grad = 0.003745 \n",
      "epoch 7/10  |  mean loss = 23.085966  |  mean acc = 0.985760  |  xent loss = 0.051265  |  snn loss = 2.303470  |  temp = 49.320889  |  temp grad = 0.002976 \n",
      "epoch 8/10  |  mean loss = 23.068193  |  mean acc = 0.988580  |  xent loss = 0.041489  |  snn loss = 2.302670  |  temp = 49.218796  |  temp grad = 0.003761 \n",
      "epoch 9/10  |  mean loss = 23.059574  |  mean acc = 0.991462  |  xent loss = 0.034123  |  snn loss = 2.302545  |  temp = 49.116169  |  temp grad = 0.003305 \n",
      "epoch 10/10  |  mean loss = 23.062452  |  mean acc = 0.993174  |  xent loss = 0.027887  |  snn loss = 2.303457  |  temp = 49.012753  |  temp grad = 0.003303 \n"
     ]
    }
   ],
   "source": [
    "model.fit(data_loader=train_loader, epochs=epochs, show_every =1)"
   ]
  },
  {
   "cell_type": "code",
   "execution_count": 38,
   "id": "63f44741-360d-4da6-963b-61af82c56aa9",
   "metadata": {
    "execution": {
     "iopub.execute_input": "2024-03-18T22:21:47.051067Z",
     "iopub.status.busy": "2024-03-18T22:21:47.050188Z",
     "iopub.status.idle": "2024-03-18T22:21:47.437998Z",
     "shell.execute_reply": "2024-03-18T22:21:47.436850Z",
     "shell.execute_reply.started": "2024-03-18T22:21:47.051013Z"
    }
   },
   "outputs": [
    {
     "data": {
      "text/plain": [
       "DNN(\n",
       "  (snnl_criterion): SNNLoss(\n",
       "    (primary_criterion): CrossEntropyLoss()\n",
       "  )\n",
       "  (layers): ModuleList(\n",
       "    (0): Linear(in_features=784, out_features=500, bias=True)\n",
       "    (1): Linear(in_features=500, out_features=500, bias=True)\n",
       "    (2): Linear(in_features=500, out_features=2000, bias=True)\n",
       "    (3): Linear(in_features=2000, out_features=10, bias=True)\n",
       "  )\n",
       ")"
      ]
     },
     "execution_count": 38,
     "metadata": {},
     "output_type": "execute_result"
    },
    {
     "name": "stdout",
     "output_type": "stream",
     "text": [
      "accuracy: 98.03%\n"
     ]
    }
   ],
   "source": [
    "test_features = test_dataset.data.reshape(-1, 784) / 255.0\n",
    "model.eval()\n",
    "model = model.cpu()\n",
    "predictions = model.predict(test_features)\n",
    "model.test_accuracy = accuracy(y_true=test_dataset.targets, y_pred=predictions)\n",
    "print(f\"accuracy: {model.test_accuracy}%\")\n",
    "# filename = f\"DNN-{args.model.lower()}-{args.seed}.json\"\n",
    "# export_results(model=model, filename=filename)"
   ]
  },
  {
   "cell_type": "markdown",
   "id": "29242534-2b46-4a43-a6cc-5ec5c1c69a0a",
   "metadata": {},
   "source": [
    "### Plot losses"
   ]
  },
  {
   "cell_type": "code",
   "execution_count": 44,
   "id": "7ce3ea2b-fa75-43ee-afdb-f08e37d2474c",
   "metadata": {
    "execution": {
     "iopub.execute_input": "2024-03-18T22:26:41.294721Z",
     "iopub.status.busy": "2024-03-18T22:26:41.294099Z",
     "iopub.status.idle": "2024-03-18T22:26:43.317019Z",
     "shell.execute_reply": "2024-03-18T22:26:43.316517Z",
     "shell.execute_reply.started": "2024-03-18T22:26:41.294667Z"
    }
   },
   "outputs": [
    {
     "data": {
      "text/plain": [
       "[23.557433570699487,\n",
       " 23.22307972197837,\n",
       " 23.17047405648739,\n",
       " 23.135906503555624,\n",
       " 23.111685691995824,\n",
       " 23.109949184985872,\n",
       " 23.07896597841953,\n",
       " 23.061786400003637,\n",
       " 23.07139054156364,\n",
       " 23.056032813863553,\n",
       " 23.049738750051944,\n",
       " 23.052576990330472,\n",
       " 23.038166687336375,\n",
       " 23.038574340495657,\n",
       " 23.027512424550157,\n",
       " 23.02489833425968,\n",
       " 23.02663789302745,\n",
       " 23.02926631683999,\n",
       " 23.033775702943192,\n",
       " 23.02313812742842]"
      ]
     },
     "execution_count": 44,
     "metadata": {},
     "output_type": "execute_result"
    },
    {
     "data": {
      "text/plain": [
       "[0.49108011716223776,\n",
       " 0.17844487679131488,\n",
       " 0.12760246721036891,\n",
       " 0.09754291860030052,\n",
       " 0.07894913333052016,\n",
       " 0.06346336329712512,\n",
       " 0.05217743678454389,\n",
       " 0.04229577096139497,\n",
       " 0.03541186782036056,\n",
       " 0.0296313617893673,\n",
       " 0.02414795395303914,\n",
       " 0.02002955710396488,\n",
       " 0.01666371603991757,\n",
       " 0.014435368990327449,\n",
       " 0.010814445992892092,\n",
       " 0.009346916684088238,\n",
       " 0.007567327370510456,\n",
       " 0.0064481989936308656,\n",
       " 0.005928901349134902,\n",
       " 0.004381614105597614]"
      ]
     },
     "execution_count": 44,
     "metadata": {},
     "output_type": "execute_result"
    },
    {
     "data": {
      "text/plain": [
       "[2.3066353371802797,\n",
       " 2.3044634859612647,\n",
       " 2.3042871525947084,\n",
       " 2.3038363608908146,\n",
       " 2.3032736605786264,\n",
       " 2.304648591102438,\n",
       " 2.302678856951125,\n",
       " 2.3019490668114195,\n",
       " 2.30359786520613,\n",
       " 2.3026401469048032,\n",
       " 2.302559077486079,\n",
       " 2.3032547433325585,\n",
       " 2.302150297164917,\n",
       " 2.302413892745972,\n",
       " 2.3016697934333314,\n",
       " 2.3015551394604623,\n",
       " 2.301907053399593,\n",
       " 2.3022818159549794,\n",
       " 2.3027846833492847,\n",
       " 2.301875660267282]"
      ]
     },
     "execution_count": 44,
     "metadata": {},
     "output_type": "execute_result"
    }
   ],
   "source": [
    "model.train_loss\n",
    "model.train_xent_loss\n",
    "model.train_snn_loss"
   ]
  },
  {
   "cell_type": "code",
   "execution_count": 48,
   "id": "2baed4fe-f34c-4e59-aa27-da92d3eb252a",
   "metadata": {
    "execution": {
     "iopub.execute_input": "2024-03-18T22:30:30.784429Z",
     "iopub.status.busy": "2024-03-18T22:30:30.783936Z",
     "iopub.status.idle": "2024-03-18T22:30:30.972647Z",
     "shell.execute_reply": "2024-03-18T22:30:30.972115Z",
     "shell.execute_reply.started": "2024-03-18T22:30:30.784389Z"
    }
   },
   "outputs": [
    {
     "data": {
      "text/plain": [
       "[<matplotlib.lines.Line2D at 0x7fd28d44ae10>]"
      ]
     },
     "execution_count": 48,
     "metadata": {},
     "output_type": "execute_result"
    },
    {
     "data": {
      "text/plain": [
       "[<matplotlib.lines.Line2D at 0x7fd28d3daa50>]"
      ]
     },
     "execution_count": 48,
     "metadata": {},
     "output_type": "execute_result"
    },
    {
     "data": {
      "image/png": "[encoded data removed]",
      "text/plain": [
       "<Figure size 640x480 with 1 Axes>"
      ]
     },
     "metadata": {},
     "output_type": "display_data"
    }
   ],
   "source": [
    "from matplotlib import pyplot as plt\n",
    "\n",
    "plt.plot(model.train_xent_loss)\n",
    "plt.plot(model.train_snn_loss)"
   ]
  },
  {
   "cell_type": "markdown",
   "id": "535a8bb9-3b3a-4d99-a891-0e607564392f",
   "metadata": {
    "execution": {
     "iopub.execute_input": "2024-03-06T23:13:56.321412Z",
     "iopub.status.busy": "2024-03-06T23:13:56.320828Z",
     "iopub.status.idle": "2024-03-06T23:13:56.357160Z",
     "shell.execute_reply": "2024-03-06T23:13:56.356434Z",
     "shell.execute_reply.started": "2024-03-06T23:13:56.321353Z"
    }
   },
   "source": [
    "### `model.fit(data_loader=train_loader, epochs=epochs)`"
   ]
  },
  {
   "cell_type": "code",
   "execution_count": 21,
   "id": "eea6ef8c-d7fe-4333-9ee6-92ad0cdbaee5",
   "metadata": {
    "execution": {
     "iopub.execute_input": "2024-03-18T21:08:07.089501Z",
     "iopub.status.busy": "2024-03-18T21:08:07.089262Z",
     "iopub.status.idle": "2024-03-18T21:08:07.113718Z",
     "shell.execute_reply": "2024-03-18T21:08:07.113179Z",
     "shell.execute_reply.started": "2024-03-18T21:08:07.089481Z"
    }
   },
   "outputs": [],
   "source": [
    "# def fit(\n",
    "#     self, data_loader: torch.utils.data.DataLoader, epochs: int, show_every: int = 2\n",
    "# ) -> None:"
   ]
  },
  {
   "cell_type": "code",
   "execution_count": 22,
   "id": "cf95687c-bfa3-41a1-a127-fc31ea0aa94e",
   "metadata": {
    "execution": {
     "iopub.execute_input": "2024-03-18T21:08:07.115254Z",
     "iopub.status.busy": "2024-03-18T21:08:07.114802Z",
     "iopub.status.idle": "2024-03-18T21:08:07.139905Z",
     "shell.execute_reply": "2024-03-18T21:08:07.139279Z",
     "shell.execute_reply.started": "2024-03-18T21:08:07.115233Z"
    }
   },
   "outputs": [],
   "source": [
    "if model.use_snnl:\n",
    "    model.train_snn_loss = []\n",
    "    model.train_xent_loss = []\n",
    "epoch = 0"
   ]
  },
  {
   "cell_type": "code",
   "execution_count": 23,
   "id": "ebb54b09-2212-4990-844f-524b2eee3f3b",
   "metadata": {
    "execution": {
     "iopub.execute_input": "2024-03-18T21:08:07.141223Z",
     "iopub.status.busy": "2024-03-18T21:08:07.141010Z",
     "iopub.status.idle": "2024-03-18T21:08:07.175550Z",
     "shell.execute_reply": "2024-03-18T21:08:07.174966Z",
     "shell.execute_reply.started": "2024-03-18T21:08:07.141204Z"
    }
   },
   "outputs": [
    {
     "name": "stdout",
     "output_type": "stream",
     "text": [
      " epoch 0  of 20 epochs\n"
     ]
    }
   ],
   "source": [
    "print(f\" epoch {epoch}  of {epochs} epochs\")\n",
    "# for epoch in range(epochs):\n",
    "# epoch +=1\n",
    "if model.use_snnl:\n",
    "    data_loader = train_loader\n",
    "    "
   ]
  },
  {
   "cell_type": "markdown",
   "id": "6ea41196-b2a4-4602-be5d-8c05fd4d43e7",
   "metadata": {
    "execution": {
     "iopub.execute_input": "2024-03-16T04:33:55.868082Z",
     "iopub.status.busy": "2024-03-16T04:33:55.867532Z",
     "iopub.status.idle": "2024-03-16T04:33:55.903145Z",
     "shell.execute_reply": "2024-03-16T04:33:55.902250Z",
     "shell.execute_reply.started": "2024-03-16T04:33:55.868040Z"
    }
   },
   "source": [
    "  #### Call epoch_train"
   ]
  },
  {
   "cell_type": "code",
   "execution_count": 31,
   "id": "05442df9-2022-47f9-8859-03c96f696902",
   "metadata": {
    "execution": {
     "iopub.execute_input": "2024-03-18T20:54:06.382334Z",
     "iopub.status.busy": "2024-03-18T20:54:06.381792Z",
     "iopub.status.idle": "2024-03-18T20:54:06.417817Z",
     "shell.execute_reply": "2024-03-18T20:54:06.417132Z",
     "shell.execute_reply.started": "2024-03-18T20:54:06.382293Z"
    }
   },
   "outputs": [],
   "source": [
    "# *epoch_loss, epoch_accuracy = self.epoch_train(data_loader, epoch)"
   ]
  },
  {
   "cell_type": "markdown",
   "id": "b47de287-8deb-4a7b-9190-2150302cbdf8",
   "metadata": {
    "execution": {
     "iopub.execute_input": "2024-03-16T04:34:19.993326Z",
     "iopub.status.busy": "2024-03-16T04:34:19.992830Z",
     "iopub.status.idle": "2024-03-16T04:34:20.027385Z",
     "shell.execute_reply": "2024-03-16T04:34:20.026757Z",
     "shell.execute_reply.started": "2024-03-16T04:34:19.993286Z"
    }
   },
   "source": [
    " #### After return from epoch_train"
   ]
  },
  {
   "cell_type": "code",
   "execution_count": 32,
   "id": "f38de6fa-cf53-4891-b8aa-5b947aeff5b2",
   "metadata": {
    "execution": {
     "iopub.execute_input": "2024-03-18T20:54:06.937855Z",
     "iopub.status.busy": "2024-03-18T20:54:06.937319Z",
     "iopub.status.idle": "2024-03-18T20:54:07.356768Z",
     "shell.execute_reply": "2024-03-18T20:54:07.355914Z",
     "shell.execute_reply.started": "2024-03-18T20:54:06.937815Z"
    }
   },
   "outputs": [
    {
     "ename": "NameError",
     "evalue": "name 'epoch_loss' is not defined",
     "output_type": "error",
     "traceback": [
      "\u001b[0;31m---------------------------------------------------------------------------\u001b[0m",
      "\u001b[0;31mNameError\u001b[0m                                 Traceback (most recent call last)",
      "Cell \u001b[0;32mIn[32], line 1\u001b[0m\n\u001b[0;32m----> 1\u001b[0m model\u001b[38;5;241m.\u001b[39mtrain_loss\u001b[38;5;241m.\u001b[39mappend(\u001b[43mepoch_loss\u001b[49m[\u001b[38;5;241m0\u001b[39m])\n\u001b[1;32m      2\u001b[0m model\u001b[38;5;241m.\u001b[39mtrain_snn_loss\u001b[38;5;241m.\u001b[39mappend(epoch_loss[\u001b[38;5;241m1\u001b[39m])\n\u001b[1;32m      3\u001b[0m model\u001b[38;5;241m.\u001b[39mtrain_xent_loss\u001b[38;5;241m.\u001b[39mappend(epoch_loss[\u001b[38;5;241m2\u001b[39m])\n",
      "\u001b[0;31mNameError\u001b[0m: name 'epoch_loss' is not defined"
     ]
    }
   ],
   "source": [
    "model.train_loss.append(epoch_loss[0])\n",
    "model.train_snn_loss.append(epoch_loss[1])\n",
    "model.train_xent_loss.append(epoch_loss[2])\n",
    "model.train_accuracy.append(epoch_accuracy)\n",
    "if (epoch + 1) % show_every == 0:\n",
    "    print(f\"epoch {epoch + 1}/{epochs}\")\n",
    "    print(\n",
    "        f\"\\tmean loss = {model.train_loss[-1]:.6f}\\t|\\tmean acc = {model.train_accuracy[-1]:.6f}\"\n",
    "    )\n",
    "    print(\n",
    "        f\"\\txent loss = {model.train_xent_loss[-1]:.6f}\\t|\\tsnn loss = {model.train_snn_loss[-1]:.6f}\"\n",
    "    )"
   ]
  },
  {
   "cell_type": "code",
   "execution_count": null,
   "id": "c24006ad-d3cc-4f50-92cc-f63f6314f98d",
   "metadata": {
    "execution": {
     "iopub.execute_input": "2024-03-06T23:29:03.748388Z",
     "iopub.status.busy": "2024-03-06T23:29:03.747799Z",
     "iopub.status.idle": "2024-03-06T23:29:03.785235Z",
     "shell.execute_reply": "2024-03-06T23:29:03.784549Z",
     "shell.execute_reply.started": "2024-03-06T23:29:03.748337Z"
    }
   },
   "outputs": [],
   "source": [
    "# if model.use_snnl:\n",
    "#     *epoch_loss, epoch_accuracy = model.epoch_train(data_loader, epoch)\n",
    "#     model.train_loss.append(epoch_loss[0])\n",
    "#     model.train_snn_loss.append(epoch_loss[1])\n",
    "#     model.train_xent_loss.append(epoch_loss[2])\n",
    "#     model.train_accuracy.append(epoch_accuracy)\n",
    "#     if (epoch + 1) % show_every == 0:\n",
    "#         print(f\"epoch {epoch + 1}/{epochs}\")\n",
    "#         print(\n",
    "#             f\"\\tmean loss = {model.train_loss[-1]:.6f}\\t|\\tmean acc = {model.train_accuracy[-1]:.6f}\"\n",
    "#         )\n",
    "#         print(\n",
    "#             f\"\\txent loss = {model.train_xent_loss[-1]:.6f}\\t|\\tsnn loss = {model.train_snn_loss[-1]:.6f}\"\n",
    "#         )\n",
    "# else:\n",
    "#     epoch_loss, epoch_accuracy = model.epoch_train(data_loader)\n",
    "#     model.train_loss.append(epoch_loss)\n",
    "#     model.train_accuracy.append(epoch_accuracy)\n",
    "#     if (epoch + 1) % show_every == 0:\n",
    "#         print(f\"epoch {epoch + 1}/{epochs}\")\n",
    "#         print(\n",
    "#             f\"\\tmean loss = {model.train_loss[-1]:.6f}\\t|\\tmean acc = {model.train_accuracy[-1]:.6f}\"\n",
    "#         )"
   ]
  },
  {
   "cell_type": "code",
   "execution_count": null,
   "id": "03a9a0f2-6d6b-4073-8716-9a1fbaf277fe",
   "metadata": {},
   "outputs": [],
   "source": [
    "if type(epoch_loss) is tuple:\n",
    "    self.train_loss.append(epoch_loss[0])\n",
    "    self.train_snn_loss.append(epoch_loss[1])\n",
    "    self.train_recon_loss.append(epoch_loss[2])\n",
    "    if (epoch + 1) % show_every == 0:\n",
    "        print(f\"epoch {epoch + 1}/{epochs} : mean loss = {self.train_loss[-1]:.6f}\")\n",
    "        print(f\"\\trecon loss = {self.train_recon_loss[-1]:.6f}\\t|\\tsnn loss = {self.train_snn_loss[-1]:.6f}\")\n",
    "else:\n",
    "    self.train_loss.append(epoch_loss)\n",
    "    if (epoch + 1) % show_every == 0:\n",
    "        print(f\"epoch {epoch + 1}/{epochs} : mean loss = {self.train_loss[-1]:.6f}\")"
   ]
  },
  {
   "cell_type": "code",
   "execution_count": null,
   "id": "103a785f-f36f-40e2-bc02-ff85e962fa8a",
   "metadata": {
    "execution": {
     "iopub.execute_input": "2024-03-06T23:13:24.609584Z",
     "iopub.status.busy": "2024-03-06T23:13:24.608850Z",
     "iopub.status.idle": "2024-03-06T23:13:24.632376Z",
     "shell.execute_reply": "2024-03-06T23:13:24.631137Z",
     "shell.execute_reply.started": "2024-03-06T23:13:24.609525Z"
    }
   },
   "outputs": [],
   "source": [
    "# epoch +=1"
   ]
  },
  {
   "cell_type": "markdown",
   "id": "9d468dab-a7c7-489c-80c2-51f0979e91ab",
   "metadata": {},
   "source": [
    "### `epoch_train(self, data_loader, epoch)`"
   ]
  },
  {
   "cell_type": "code",
   "execution_count": 24,
   "id": "1d258276-dd25-4d56-b0d9-52cf5c818b33",
   "metadata": {
    "execution": {
     "iopub.execute_input": "2024-03-18T21:08:28.913224Z",
     "iopub.status.busy": "2024-03-18T21:08:28.912743Z",
     "iopub.status.idle": "2024-03-18T21:08:28.948296Z",
     "shell.execute_reply": "2024-03-18T21:08:28.947651Z",
     "shell.execute_reply.started": "2024-03-18T21:08:28.913184Z"
    }
   },
   "outputs": [],
   "source": [
    "    # def epoch_train(\n",
    "    #     self, data_loader: torch.utils.data.DataLoader, epoch: int = None\n",
    "    # ) -> Tuple:"
   ]
  },
  {
   "cell_type": "code",
   "execution_count": 25,
   "id": "b6dc825c-7e27-4262-85e1-58d001fd9a28",
   "metadata": {
    "execution": {
     "iopub.execute_input": "2024-03-18T21:08:30.105234Z",
     "iopub.status.busy": "2024-03-18T21:08:30.104790Z",
     "iopub.status.idle": "2024-03-18T21:08:30.140186Z",
     "shell.execute_reply": "2024-03-18T21:08:30.139604Z",
     "shell.execute_reply.started": "2024-03-18T21:08:30.105194Z"
    }
   },
   "outputs": [],
   "source": [
    "if model.use_snnl:\n",
    "    epoch_primary_loss = 0\n",
    "    epoch_snn_loss = 0\n",
    "if model.name == \"DNN\" or model.name == \"CNN\":\n",
    "    epoch_accuracy = 0\n",
    "epoch_loss = 0"
   ]
  },
  {
   "cell_type": "code",
   "execution_count": 26,
   "id": "f6a1aa9c-380b-401c-96cb-d59c229c6f35",
   "metadata": {
    "execution": {
     "iopub.execute_input": "2024-03-18T21:08:43.672326Z",
     "iopub.status.busy": "2024-03-18T21:08:43.671850Z",
     "iopub.status.idle": "2024-03-18T21:08:43.857684Z",
     "shell.execute_reply": "2024-03-18T21:08:43.856908Z",
     "shell.execute_reply.started": "2024-03-18T21:08:43.672285Z"
    }
   },
   "outputs": [
    {
     "name": "stdout",
     "output_type": "stream",
     "text": [
      " batch features shape is : torch.Size([10, 784])\n",
      " batch labels shape is : torch.Size([10, 784])\n",
      "tensor([1, 6, 8, 7, 7, 0, 9, 9, 4, 0])\n"
     ]
    },
    {
     "data": {
      "text/plain": [
       "torch.Size([10, 10])"
      ]
     },
     "execution_count": 26,
     "metadata": {},
     "output_type": "execute_result"
    }
   ],
   "source": [
    "# for batch_features, batch_labels in data_loader:\n",
    "\n",
    "# _,_,_,batch_features_numpy, batch_labels_numpy = next(iter(data_loader))\n",
    "batch_features, batch_labels = next(iter(data_loader))\n",
    "\n",
    "## If cellpainting output is numpy \n",
    "if dataset == \"cellpainting\":\n",
    "    batch_features_numpy = np.asarray(batch_features).copy()\n",
    "    batch_labels_numpy = np.asarray(batch_labels).copy()\n",
    "    type(batch_features_numpy), type(batch_labels_numpy)\n",
    "    # batch_labels_numpy = np.array([1, 1, 1, 2, 2, 2, 3, 3, 3, 4, 4, 4], dtype=object)\n",
    "    batch_features = torch.from_numpy(batch_features_numpy)\n",
    "    batch_labels = torch.from_numpy(batch_labels_numpy.astype(np.uint8))\n",
    "    print(f\" batch features {type(batch_features)}  {batch_features.shape}   batch_labels: {type(batch_labels)}{batch_labels.shape}\")\n",
    "\n",
    "if model.name in [\"Autoencoder\", \"DNN\"]:\n",
    "    batch_features = batch_features.view(batch_features.shape[0], -1)\n",
    "    print(f\" batch features shape is : {batch_features.shape}\")\n",
    "\n",
    "print(f\" batch labels shape is : {batch_features.shape}\")    \n",
    "print(batch_labels)\n",
    "\n",
    "batch_features = batch_features.to(model.device)\n",
    "batch_labels = batch_labels.to(model.device)\n",
    "\n",
    "model.optimizer.zero_grad()\n",
    "\n",
    "outputs = model.forward(features=batch_features)\n",
    "\n",
    "outputs.shape"
   ]
  },
  {
   "cell_type": "code",
   "execution_count": 27,
   "id": "d380e942-5010-4be9-a4f2-51153288bcfb",
   "metadata": {
    "execution": {
     "iopub.execute_input": "2024-03-18T21:08:50.368506Z",
     "iopub.status.busy": "2024-03-18T21:08:50.367987Z",
     "iopub.status.idle": "2024-03-18T21:08:50.415721Z",
     "shell.execute_reply": "2024-03-18T21:08:50.415004Z",
     "shell.execute_reply.started": "2024-03-18T21:08:50.368456Z"
    }
   },
   "outputs": [
    {
     "data": {
      "text/plain": [
       "tensor([[-4.3358e-01,  3.9948e-02,  4.7576e-01,  5.4515e-01, -4.6906e-01, -3.3573e-01, -6.0311e-01,  4.0448e-01,  4.1900e-01, -1.3331e-01],\n",
       "        [-8.4064e-01, -3.0611e-01,  4.4865e-01,  4.4642e-01,  2.6245e-01, -1.0823e+00, -7.0714e-01,  8.5428e-01,  1.0879e+00, -4.4256e-01],\n",
       "        [-5.9724e-01, -6.3445e-01,  1.9729e-01,  9.3299e-01, -5.0995e-01, -5.8153e-01, -1.2104e+00,  7.8381e-01,  6.6207e-01, -2.0520e-01],\n",
       "        [-2.7482e-01, -1.0462e-01,  2.1403e-01,  3.8138e-01, -7.5020e-01, -1.2294e-02, -5.0256e-01,  5.8192e-01,  4.4356e-01, -4.3138e-01],\n",
       "        [-1.3463e-01, -8.0503e-02,  2.1400e-01,  3.9957e-01, -6.6884e-01, -2.2355e-01, -8.0680e-02,  1.3588e-02,  1.4350e-01, -5.8696e-01],\n",
       "        [-5.7113e-01, -2.7187e-01,  9.7609e-02,  8.8507e-01,  2.7426e-03, -7.8434e-01, -7.6095e-01,  1.1146e+00,  7.7323e-01, -3.0842e-01],\n",
       "        [-2.1292e-01, -6.3457e-01,  7.6484e-02,  3.8227e-01, -3.6587e-01, -6.3499e-01, -5.8718e-01,  7.8421e-01,  7.0257e-01, -2.1207e-01],\n",
       "        [-2.4233e-01, -4.2884e-01,  5.1005e-01,  5.1558e-01, -2.8270e-01, -4.5080e-01, -7.6821e-01,  9.1093e-01,  8.5459e-01, -2.5977e-01],\n",
       "        [ 1.7182e-01, -2.2896e-01,  1.8934e-01, -1.3508e-04, -1.4862e-01, -4.2194e-01,  2.8149e-02,  3.5727e-01,  6.8087e-01, -1.2210e-02],\n",
       "        [-3.2315e-01, -7.6023e-01,  1.5993e-01,  6.2066e-01,  6.1055e-02, -4.3067e-01, -1.2867e+00,  1.4026e+00,  9.1197e-01, -1.8909e-01]],\n",
       "       device='cuda:0', grad_fn=<SliceBackward0>)"
      ]
     },
     "execution_count": 27,
     "metadata": {},
     "output_type": "execute_result"
    }
   ],
   "source": [
    "outputs[:10,:]"
   ]
  },
  {
   "cell_type": "code",
   "execution_count": 42,
   "id": "61d0a727-f6d6-49b5-9695-1b972e325aff",
   "metadata": {
    "execution": {
     "iopub.execute_input": "2024-03-18T21:29:26.668811Z",
     "iopub.status.busy": "2024-03-18T21:29:26.668288Z",
     "iopub.status.idle": "2024-03-18T21:29:27.210819Z",
     "shell.execute_reply": "2024-03-18T21:29:27.210216Z",
     "shell.execute_reply.started": "2024-03-18T21:29:26.668769Z"
    }
   },
   "outputs": [
    {
     "name": "stdout",
     "output_type": "stream",
     "text": [
      " Build SNNLoss dfrom NOTEBOOK\n"
     ]
    }
   ],
   "source": [
    "model.snnl_criterion = SNNLoss(\n",
    "    mode=model.mode,\n",
    "    # criterion=criterion,\n",
    "    factor=model.factor,\n",
    "    temperature=model.temperature,\n",
    "    use_annealing=model.use_annealing,\n",
    "    use_sum=model.use_sum,\n",
    "    code_units=model.code_units,\n",
    "    stability_epsilon=model.stability_epsilon,\n",
    ")"
   ]
  },
  {
   "cell_type": "code",
   "execution_count": 43,
   "id": "ec8da055-41f4-4dc7-9947-fb2151bc4af6",
   "metadata": {
    "execution": {
     "iopub.execute_input": "2024-03-18T21:29:27.582267Z",
     "iopub.status.busy": "2024-03-18T21:29:27.581837Z",
     "iopub.status.idle": "2024-03-18T21:29:27.621153Z",
     "shell.execute_reply": "2024-03-18T21:29:27.620457Z",
     "shell.execute_reply.started": "2024-03-18T21:29:27.582228Z"
    }
   },
   "outputs": [
    {
     "name": "stdout",
     "output_type": "stream",
     "text": [
      "\n",
      "\n",
      "\n",
      "\n",
      " train_loss 61.71257019042969, primary loss: 2.5271217823028564, SNN loss : 5.918544769287109\n"
     ]
    }
   ],
   "source": [
    "if model.use_snnl:\n",
    "    train_loss, primary_loss, snn_loss = model.snnl_criterion(\n",
    "        model=model,\n",
    "        outputs=outputs,\n",
    "        features=batch_features,\n",
    "        labels=batch_labels,\n",
    "        epoch=epoch,\n",
    "    )\n",
    "    print(f\" train_loss {train_loss}, primary loss: {primary_loss}, SNN loss : {snn_loss}\")\n",
    "    "
   ]
  },
  {
   "cell_type": "code",
   "execution_count": 31,
   "id": "13407f09-4665-4830-88cb-92fb967f2603",
   "metadata": {
    "execution": {
     "iopub.execute_input": "2024-03-18T21:13:26.285578Z",
     "iopub.status.busy": "2024-03-18T21:13:26.285157Z",
     "iopub.status.idle": "2024-03-18T21:13:26.320751Z",
     "shell.execute_reply": "2024-03-18T21:13:26.320091Z",
     "shell.execute_reply.started": "2024-03-18T21:13:26.285538Z"
    }
   },
   "outputs": [],
   "source": [
    "epoch_loss += train_loss.item()\n",
    "epoch_snn_loss += snn_loss.item()\n",
    "epoch_primary_loss += primary_loss.item()"
   ]
  },
  {
   "cell_type": "code",
   "execution_count": 30,
   "id": "7314f5df-edf2-470c-8378-8b642ff0d7b1",
   "metadata": {
    "execution": {
     "iopub.execute_input": "2024-03-18T21:13:14.781090Z",
     "iopub.status.busy": "2024-03-18T21:13:14.780615Z",
     "iopub.status.idle": "2024-03-18T21:13:15.109604Z",
     "shell.execute_reply": "2024-03-18T21:13:15.108707Z",
     "shell.execute_reply.started": "2024-03-18T21:13:14.781049Z"
    }
   },
   "outputs": [],
   "source": [
    "if not model.use_snnl:\n",
    "    train_loss = model.criterion(outputs,\n",
    "                                 batch_labels if model.name == \"DNN\" or model.name == \"CNN\"  else batch_features,)\n",
    "    epoch_loss += train_loss.item()"
   ]
  },
  {
   "cell_type": "code",
   "execution_count": 37,
   "id": "8e8af034-bcc8-4bc9-b83d-2a9055e1c9cb",
   "metadata": {
    "execution": {
     "iopub.execute_input": "2024-03-18T21:20:15.288270Z",
     "iopub.status.busy": "2024-03-18T21:20:15.287795Z",
     "iopub.status.idle": "2024-03-18T21:20:15.322509Z",
     "shell.execute_reply": "2024-03-18T21:20:15.321946Z",
     "shell.execute_reply.started": "2024-03-18T21:20:15.288230Z"
    }
   },
   "outputs": [
    {
     "name": "stdout",
     "output_type": "stream",
     "text": [
      " epoch_loss             61.71257019042969\n",
      " epoch_snn_loss         5.918544769287109   factor: 10.0\n",
      " epoch_primary_loss     2.5271217823028564\n"
     ]
    }
   ],
   "source": [
    "print(f\" epoch_loss             {epoch_loss}\")\n",
    "print(f\" epoch_snn_loss         {epoch_snn_loss}   factor: {model.factor}\")\n",
    "print(f\" epoch_primary_loss     {epoch_primary_loss}\")"
   ]
  },
  {
   "cell_type": "code",
   "execution_count": 173,
   "id": "fba2b9ce-45b3-405f-b698-99fb75642568",
   "metadata": {
    "execution": {
     "iopub.execute_input": "2024-03-16T05:01:58.051438Z",
     "iopub.status.busy": "2024-03-16T05:01:58.051042Z",
     "iopub.status.idle": "2024-03-16T05:01:58.083526Z",
     "shell.execute_reply": "2024-03-16T05:01:58.083024Z",
     "shell.execute_reply.started": "2024-03-16T05:01:58.051398Z"
    }
   },
   "outputs": [],
   "source": [
    "# if model.name == \"DNN\" or model.name == \"CNN\":\n",
    "#     train_accuracy = (outputs.argmax(1) == batch_labels).sum().item() / len(batch_labels)\n",
    "#     epoch_accuracy += train_accuracy"
   ]
  },
  {
   "cell_type": "code",
   "execution_count": 174,
   "id": "bbcca8ba-603d-4082-982c-b1913a4ad127",
   "metadata": {
    "execution": {
     "iopub.execute_input": "2024-03-16T05:01:59.022963Z",
     "iopub.status.busy": "2024-03-16T05:01:59.022719Z",
     "iopub.status.idle": "2024-03-16T05:01:59.063794Z",
     "shell.execute_reply": "2024-03-16T05:01:59.063168Z",
     "shell.execute_reply.started": "2024-03-16T05:01:59.022942Z"
    }
   },
   "outputs": [],
   "source": [
    "train_loss.backward()\n",
    "\n",
    "model.optimizer.step()\n",
    "\n",
    "if model.use_snnl and model.temperature is not None:\n",
    "    model.optimize_temperature()\n",
    "\n",
    "    # break"
   ]
  },
  {
   "cell_type": "code",
   "execution_count": 175,
   "id": "84ca51d7-799a-4f76-8605-c8f70fa0f64f",
   "metadata": {
    "execution": {
     "iopub.execute_input": "2024-03-16T05:01:59.288186Z",
     "iopub.status.busy": "2024-03-16T05:01:59.287697Z",
     "iopub.status.idle": "2024-03-16T05:01:59.320885Z",
     "shell.execute_reply": "2024-03-16T05:01:59.320254Z",
     "shell.execute_reply.started": "2024-03-16T05:01:59.288146Z"
    }
   },
   "outputs": [
    {
     "data": {
      "text/plain": [
       "Parameter containing:\n",
       "tensor([49.9991], device='cuda:0', requires_grad=True)"
      ]
     },
     "execution_count": 175,
     "metadata": {},
     "output_type": "execute_result"
    }
   ],
   "source": [
    "model.temperature"
   ]
  },
  {
   "cell_type": "markdown",
   "id": "27367bde-b9b4-4f0f-b5da-cfe8e28c80e8",
   "metadata": {},
   "source": [
    "#### End of dataloader loop"
   ]
  },
  {
   "cell_type": "code",
   "execution_count": 177,
   "id": "76bbd790-9b79-4cb3-ba8e-dbbaf1e7d668",
   "metadata": {
    "execution": {
     "iopub.execute_input": "2024-03-16T05:02:27.219453Z",
     "iopub.status.busy": "2024-03-16T05:02:27.219028Z",
     "iopub.status.idle": "2024-03-16T05:02:27.279320Z",
     "shell.execute_reply": "2024-03-16T05:02:27.278767Z",
     "shell.execute_reply.started": "2024-03-16T05:02:27.219413Z"
    }
   },
   "outputs": [
    {
     "data": {
      "text/plain": [
       "186.37106275558472"
      ]
     },
     "execution_count": 177,
     "metadata": {},
     "output_type": "execute_result"
    },
    {
     "data": {
      "text/plain": [
       "torch.Size([12, 32])"
      ]
     },
     "execution_count": 177,
     "metadata": {},
     "output_type": "execute_result"
    },
    {
     "data": {
      "text/plain": [
       "tensor(1, device='cuda:0', dtype=torch.uint8)"
      ]
     },
     "execution_count": 177,
     "metadata": {},
     "output_type": "execute_result"
    },
    {
     "data": {
      "text/plain": [
       "tensor(1, device='cuda:0', dtype=torch.uint8)"
      ]
     },
     "execution_count": 177,
     "metadata": {},
     "output_type": "execute_result"
    },
    {
     "data": {
      "text/plain": [
       "186.37106275558472"
      ]
     },
     "execution_count": 177,
     "metadata": {},
     "output_type": "execute_result"
    },
    {
     "data": {
      "text/plain": [
       "15.319163958272838"
      ]
     },
     "execution_count": 177,
     "metadata": {},
     "output_type": "execute_result"
    },
    {
     "data": {
      "text/plain": [
       "33.17942261695862"
      ]
     },
     "execution_count": 177,
     "metadata": {},
     "output_type": "execute_result"
    },
    {
     "data": {
      "text/plain": [
       "5"
      ]
     },
     "execution_count": 177,
     "metadata": {},
     "output_type": "execute_result"
    },
    {
     "name": "stdout",
     "output_type": "stream",
     "text": [
      "torch.Size([12, 1024])\n",
      "torch.Size([12, 1024])\n",
      "torch.Size([12, 512])\n",
      "torch.Size([12, 32])\n"
     ]
    }
   ],
   "source": [
    "epoch_loss\n",
    "outputs.shape\n",
    "# outputs[0].data\n",
    "# outputs[1].data\n",
    "batch_labels[0]\n",
    "batch_labels[1]\n",
    "epoch_loss\n",
    "epoch_snn_loss\n",
    "epoch_primary_loss\n",
    "(outputs.argmax(1) == batch_labels).sum().item()\n",
    "# len(batch_labels)\n",
    "# train_accuracy\n",
    "# epoch_accuracy\n",
    "# len(data_loader)\n",
    "\n",
    "activations = dict()\n",
    "layers = model.layers\n",
    "for index, layer in enumerate(layers):\n",
    "    if index == 0:\n",
    "        activations[index] = layer(batch_features)\n",
    "    else:\n",
    "        activations[index] = layer(activations[index - 1])\n",
    "\n",
    "for i in activations:\n",
    "    print(activations[i].shape)"
   ]
  },
  {
   "cell_type": "code",
   "execution_count": 178,
   "id": "db57c906-31f5-4f9c-af5d-7e6d64565593",
   "metadata": {
    "execution": {
     "iopub.execute_input": "2024-03-16T05:02:34.478029Z",
     "iopub.status.busy": "2024-03-16T05:02:34.477613Z",
     "iopub.status.idle": "2024-03-16T05:02:34.536046Z",
     "shell.execute_reply": "2024-03-16T05:02:34.535048Z",
     "shell.execute_reply.started": "2024-03-16T05:02:34.477990Z"
    }
   },
   "outputs": [
    {
     "ename": "TypeError",
     "evalue": "object of type 'CellpaintingDataset' has no len()",
     "output_type": "error",
     "traceback": [
      "\u001b[0;31m---------------------------------------------------------------------------\u001b[0m",
      "\u001b[0;31mTypeError\u001b[0m                                 Traceback (most recent call last)",
      "Cell \u001b[0;32mIn[178], line 1\u001b[0m\n\u001b[0;32m----> 1\u001b[0m epoch_loss \u001b[38;5;241m/\u001b[39m\u001b[38;5;241m=\u001b[39m \u001b[38;5;28;43mlen\u001b[39;49m\u001b[43m(\u001b[49m\u001b[43mdata_loader\u001b[49m\u001b[43m)\u001b[49m\n\u001b[1;32m      3\u001b[0m \u001b[38;5;28;01mif\u001b[39;00m model\u001b[38;5;241m.\u001b[39mname \u001b[38;5;129;01min\u001b[39;00m [\u001b[38;5;124m\"\u001b[39m\u001b[38;5;124mDNN\u001b[39m\u001b[38;5;124m\"\u001b[39m, \u001b[38;5;124m\"\u001b[39m\u001b[38;5;124mCNN\u001b[39m\u001b[38;5;124m\"\u001b[39m]:\n\u001b[1;32m      4\u001b[0m     epoch_accuracy \u001b[38;5;241m/\u001b[39m\u001b[38;5;241m=\u001b[39m \u001b[38;5;28mlen\u001b[39m(data_loader)\n",
      "File \u001b[0;32m~/miniforge3/envs/ptsnnl/lib/python3.11/site-packages/torch/utils/data/dataloader.py:475\u001b[0m, in \u001b[0;36mDataLoader.__len__\u001b[0;34m(self)\u001b[0m\n\u001b[1;32m    457\u001b[0m \u001b[38;5;28;01mdef\u001b[39;00m \u001b[38;5;21m__len__\u001b[39m(\u001b[38;5;28mself\u001b[39m) \u001b[38;5;241m-\u001b[39m\u001b[38;5;241m>\u001b[39m \u001b[38;5;28mint\u001b[39m:\n\u001b[1;32m    458\u001b[0m     \u001b[38;5;28;01mif\u001b[39;00m \u001b[38;5;28mself\u001b[39m\u001b[38;5;241m.\u001b[39m_dataset_kind \u001b[38;5;241m==\u001b[39m _DatasetKind\u001b[38;5;241m.\u001b[39mIterable:\n\u001b[1;32m    459\u001b[0m         \u001b[38;5;66;03m# NOTE [ IterableDataset and __len__ ]\u001b[39;00m\n\u001b[1;32m    460\u001b[0m         \u001b[38;5;66;03m#\u001b[39;00m\n\u001b[0;32m   (...)\u001b[0m\n\u001b[1;32m    473\u001b[0m \n\u001b[1;32m    474\u001b[0m         \u001b[38;5;66;03m# Cannot statically verify that dataset is Sized\u001b[39;00m\n\u001b[0;32m--> 475\u001b[0m         length \u001b[38;5;241m=\u001b[39m \u001b[38;5;28mself\u001b[39m\u001b[38;5;241m.\u001b[39m_IterableDataset_len_called \u001b[38;5;241m=\u001b[39m \u001b[38;5;28;43mlen\u001b[39;49m\u001b[43m(\u001b[49m\u001b[38;5;28;43mself\u001b[39;49m\u001b[38;5;241;43m.\u001b[39;49m\u001b[43mdataset\u001b[49m\u001b[43m)\u001b[49m  \u001b[38;5;66;03m# type: ignore[assignment, arg-type]\u001b[39;00m\n\u001b[1;32m    476\u001b[0m         \u001b[38;5;28;01mif\u001b[39;00m \u001b[38;5;28mself\u001b[39m\u001b[38;5;241m.\u001b[39mbatch_size \u001b[38;5;129;01mis\u001b[39;00m \u001b[38;5;129;01mnot\u001b[39;00m \u001b[38;5;28;01mNone\u001b[39;00m:  \u001b[38;5;66;03m# IterableDataset doesn't allow custom sampler or batch_sampler\u001b[39;00m\n\u001b[1;32m    477\u001b[0m             \u001b[38;5;28;01mfrom\u001b[39;00m \u001b[38;5;21;01mmath\u001b[39;00m \u001b[38;5;28;01mimport\u001b[39;00m ceil\n",
      "\u001b[0;31mTypeError\u001b[0m: object of type 'CellpaintingDataset' has no len()"
     ]
    }
   ],
   "source": [
    "epoch_loss /= len(data_loader)\n",
    "\n",
    "if model.name in [\"DNN\", \"CNN\"]:\n",
    "    epoch_accuracy /= len(data_loader)\n",
    "\n",
    "if model.use_snnl:\n",
    "    epoch_snn_loss /= len(data_loader)\n",
    "    epoch_primary_loss /= len(data_loader)\n",
    "    if model.name == \"DNN\" or model.name == \"CNN\":\n",
    "        print(f\" epoch_loss: {epoch_loss},  epoch_snn_loss: {epoch_snn_loss}, epoch_primaey_loss: {epoch_primary_loss}, accuracy: {epoch_accuracy} \")\n",
    "        return epoch_loss, epoch_snn_loss, epoch_primary_loss, epoch_accuracy\n",
    "    else:\n",
    "        print(f\" epoch_loss: {epoch_loss},  epoch_snn_loss: {epoch_snn_loss}, epoch_primary_loss: {epoch_primary_loss} \")\n",
    "        return epoch_loss, epoch_snn_loss, epoch_primary_loss\n",
    "else:\n",
    "    if model.name == \"DNN\" or model.name == \"CNN\":\n",
    "        print(f\" epoch_loss: {epoch_loss}, accuracy: {epoch_accuracy} \")\n",
    "        return epoch_loss, epoch_accuracy\n",
    "    else:\n",
    "        print(f\" epoch_loss: {epoch_loss},\")\n",
    "        return epoch_loss"
   ]
  },
  {
   "cell_type": "code",
   "execution_count": null,
   "id": "d8f0804f-78fd-428b-9241-a9eda27b78d5",
   "metadata": {},
   "outputs": [],
   "source": []
  },
  {
   "cell_type": "code",
   "execution_count": null,
   "id": "c7ab7d4e-648b-4966-85ca-0fd41e9d6103",
   "metadata": {},
   "outputs": [],
   "source": [
    "# def main(args):\n",
    "#     (\n",
    "#         dataset,\n",
    "#         batch_size,\n",
    "#         epochs,\n",
    "#         learning_rate,\n",
    "#         units,\n",
    "#         snnl_factor,\n",
    "#         temperature,\n",
    "#     ) = get_hyperparameters(args.configuration)\n",
    "\n",
    "#     set_global_seed(args.seed)\n",
    "\n",
    "#     train_dataset, test_dataset = load_dataset(name=dataset)\n",
    "#     if dataset == \"emnist\":\n",
    "#         train_features = train_dataset.data.numpy().astype(\"float32\") / 255.0\n",
    "#         train_features = train_features[:60000]\n",
    "#         train_features = torch.from_numpy(train_features)\n",
    "#         train_labels = train_dataset.targets\n",
    "#         train_labels = train_labels[:60000]\n",
    "#         train_dataset = torch.utils.data.TensorDataset(train_features, train_labels)\n",
    "#     train_loader = create_dataloader(dataset=train_dataset, batch_size=batch_size)\n",
    "\n",
    "#     if args.model.lower() == \"baseline\":\n",
    "#         model = DNN(units=units, learning_rate=learning_rate)\n",
    "#     elif args.model.lower() == \"snnl\":\n",
    "#         model = DNN(\n",
    "#             units=units,\n",
    "#             learning_rate=learning_rate,\n",
    "#             use_snnl=True,\n",
    "#             factor=snnl_factor,\n",
    "#             temperature=temperature,\n",
    "#             use_annealing=False,\n",
    "#         )\n",
    "#     else:\n",
    "#         raise ValueError(\"Choose between [baseline] and [snnl] only.\")\n",
    "\n",
    "#     model.fit(data_loader=train_loader, epochs=epochs)\n",
    "\n",
    "#     test_features = test_dataset.data.reshape(-1, 784) / 255.0\n",
    "#     model.eval()\n",
    "#     model = model.cpu()\n",
    "#     predictions = model.predict(test_features)\n",
    "#     model.test_accuracy = accuracy(y_true=test_dataset.targets, y_pred=predictions)\n",
    "#     print(f\"accuracy: {model.test_accuracy}%\")\n",
    "#     filename = f\"DNN-{args.model.lower()}-{args.seed}.json\"\n",
    "#     export_results(model=model, filename=filename)\n",
    "\n"
   ]
  },
  {
   "cell_type": "markdown",
   "id": "0e7af43e-3ca4-4a2f-af42-575813f4cba9",
   "metadata": {},
   "source": [
    "#### SNNL Loss"
   ]
  },
  {
   "cell_type": "code",
   "execution_count": 154,
   "id": "23b2d86d-149c-4c52-9bc8-bf6f4440e3ff",
   "metadata": {
    "execution": {
     "iopub.execute_input": "2024-03-07T16:46:19.715575Z",
     "iopub.status.busy": "2024-03-07T16:46:19.715218Z",
     "iopub.status.idle": "2024-03-07T16:46:19.750086Z",
     "shell.execute_reply": "2024-03-07T16:46:19.749295Z",
     "shell.execute_reply.started": "2024-03-07T16:46:19.715548Z"
    }
   },
   "outputs": [
    {
     "name": "stdout",
     "output_type": "stream",
     "text": [
      " Build SNNLoss dfrom NOTEBOOK\n"
     ]
    }
   ],
   "source": [
    "snnl = SNNLoss(temperature=1.0)"
   ]
  },
  {
   "cell_type": "code",
   "execution_count": 170,
   "id": "5c8294a6-0992-44c9-adf3-c4dbec0ba543",
   "metadata": {
    "execution": {
     "iopub.execute_input": "2024-03-07T17:01:26.782560Z",
     "iopub.status.busy": "2024-03-07T17:01:26.782229Z",
     "iopub.status.idle": "2024-03-07T17:01:26.816878Z",
     "shell.execute_reply": "2024-03-07T17:01:26.816153Z",
     "shell.execute_reply.started": "2024-03-07T17:01:26.782533Z"
    }
   },
   "outputs": [
    {
     "data": {
      "text/plain": [
       "tensor([[0.8823, 0.9150, 0.3829, 0.9593],\n",
       "        [0.3904, 0.6009, 0.2566, 0.7936],\n",
       "        [0.9408, 0.1332, 0.9346, 0.5936],\n",
       "        [0.8694, 0.5677, 0.7411, 0.4294],\n",
       "        [0.8854, 0.5739, 0.2666, 0.6274],\n",
       "        [0.2696, 0.4414, 0.2969, 0.8317]])"
      ]
     },
     "execution_count": 170,
     "metadata": {},
     "output_type": "execute_result"
    }
   ],
   "source": [
    "_ = torch.manual_seed(42)\n",
    "features = torch.rand((6, 4))\n",
    "features"
   ]
  },
  {
   "cell_type": "code",
   "execution_count": 171,
   "id": "9398dd16-f2e6-440f-b1f4-3334c1fb051f",
   "metadata": {
    "execution": {
     "iopub.execute_input": "2024-03-07T17:01:31.246276Z",
     "iopub.status.busy": "2024-03-07T17:01:31.245941Z",
     "iopub.status.idle": "2024-03-07T17:01:31.279795Z",
     "shell.execute_reply": "2024-03-07T17:01:31.279017Z",
     "shell.execute_reply.started": "2024-03-07T17:01:31.246248Z"
    }
   },
   "outputs": [
    {
     "name": "stdout",
     "output_type": "stream",
     "text": [
      "\n"
     ]
    },
    {
     "data": {
      "text/plain": [
       "tensor([[-1.1921e-07,  2.6181e-02,  2.1361e-01,  1.0087e-01,  2.2940e-02,  7.3328e-02],\n",
       "        [ 2.6181e-02,  0.0000e+00,  2.7807e-01,  1.8148e-01,  9.0106e-02,  1.6577e-02],\n",
       "        [ 2.1361e-01,  2.7807e-01,  5.9605e-08,  6.2519e-02,  1.6466e-01,  2.7426e-01],\n",
       "        [ 1.0087e-01,  1.8148e-01,  6.2519e-02,  0.0000e+00,  7.5882e-02,  2.2894e-01],\n",
       "        [ 2.2940e-02,  9.0106e-02,  1.6466e-01,  7.5882e-02,  1.1921e-07,  1.4981e-01],\n",
       "        [ 7.3328e-02,  1.6577e-02,  2.7426e-01,  2.2894e-01,  1.4981e-01,  0.0000e+00]])"
      ]
     },
     "execution_count": 171,
     "metadata": {},
     "output_type": "execute_result"
    }
   ],
   "source": [
    "distance_matrix = snnl.pairwise_cosine_distance(features)\n",
    "distance_matrix"
   ]
  },
  {
   "cell_type": "code",
   "execution_count": 173,
   "id": "c008afbc-b247-47db-bef1-85c5e18859fd",
   "metadata": {
    "execution": {
     "iopub.execute_input": "2024-03-07T17:02:06.228333Z",
     "iopub.status.busy": "2024-03-07T17:02:06.227805Z",
     "iopub.status.idle": "2024-03-07T17:02:06.269832Z",
     "shell.execute_reply": "2024-03-07T17:02:06.269103Z",
     "shell.execute_reply.started": "2024-03-07T17:02:06.228284Z"
    }
   },
   "outputs": [
    {
     "data": {
      "text/plain": [
       "tensor([[1.0000, 0.9742, 0.8077, 0.9041, 0.9773, 0.9293],\n",
       "        [0.9742, 1.0000, 0.7572, 0.8340, 0.9138, 0.9836],\n",
       "        [0.8077, 0.7572, 1.0000, 0.9394, 0.8482, 0.7601],\n",
       "        [0.9041, 0.8340, 0.9394, 1.0000, 0.9269, 0.7954],\n",
       "        [0.9773, 0.9138, 0.8482, 0.9269, 1.0000, 0.8609],\n",
       "        [0.9293, 0.9836, 0.7601, 0.7954, 0.8609, 1.0000]])"
      ]
     },
     "execution_count": 173,
     "metadata": {},
     "output_type": "execute_result"
    },
    {
     "data": {
      "text/plain": [
       "tensor([[ 1.1921e-07,  9.7416e-01,  8.0767e-01,  9.0405e-01,  9.7732e-01,  9.2930e-01],\n",
       "        [ 9.7416e-01,  0.0000e+00,  7.5725e-01,  8.3404e-01,  9.1383e-01,  9.8356e-01],\n",
       "        [ 8.0767e-01,  7.5725e-01, -5.9605e-08,  9.3940e-01,  8.4818e-01,  7.6013e-01],\n",
       "        [ 9.0405e-01,  8.3404e-01,  9.3940e-01,  0.0000e+00,  9.2693e-01,  7.9538e-01],\n",
       "        [ 9.7732e-01,  9.1383e-01,  8.4818e-01,  9.2693e-01, -1.1921e-07,  8.6087e-01],\n",
       "        [ 9.2930e-01,  9.8356e-01,  7.6013e-01,  7.9538e-01,  8.6087e-01,  0.0000e+00]])"
      ]
     },
     "execution_count": 173,
     "metadata": {},
     "output_type": "execute_result"
    }
   ],
   "source": [
    "pairwise_distance_matrix = snnl.normalize_distance_matrix(features, distance_matrix, device = 'cpu')\n",
    "torch.exp(-(distance_matrix / snnl.temperature)) \n",
    "# pairwise_distance_matrix = torch.exp(-(distance_matrix / snnl.temperature)) - torch.eye(features.shape[0])\n",
    "# pairwise_distance_matrix.sum(1)   \n",
    "pairwise_distance_matrix"
   ]
  },
  {
   "cell_type": "code",
   "execution_count": 174,
   "id": "980590ba-c1a6-4ade-9722-7676021f065b",
   "metadata": {
    "execution": {
     "iopub.execute_input": "2024-03-07T17:02:16.718243Z",
     "iopub.status.busy": "2024-03-07T17:02:16.717912Z",
     "iopub.status.idle": "2024-03-07T17:02:16.753529Z",
     "shell.execute_reply": "2024-03-07T17:02:16.752768Z",
     "shell.execute_reply.started": "2024-03-07T17:02:16.718217Z"
    }
   },
   "outputs": [
    {
     "data": {
      "text/plain": [
       "tensor([1.0000, 1.0000, 1.0000, 1.0000, 1.0000, 1.0000])"
      ]
     },
     "execution_count": 174,
     "metadata": {},
     "output_type": "execute_result"
    },
    {
     "data": {
      "text/plain": [
       "tensor([[ 2.5957e-08,  2.1212e-01,  1.7587e-01,  1.9685e-01,  2.1281e-01,  2.0235e-01],\n",
       "        [ 2.1828e-01,  0.0000e+00,  1.6968e-01,  1.8688e-01,  2.0476e-01,  2.2039e-01],\n",
       "        [ 1.9639e-01,  1.8413e-01, -1.4493e-08,  2.2842e-01,  2.0624e-01,  1.8483e-01],\n",
       "        [ 2.0548e-01,  1.8956e-01,  2.1351e-01,  0.0000e+00,  2.1067e-01,  1.8078e-01],\n",
       "        [ 2.1588e-01,  2.0186e-01,  1.8735e-01,  2.0475e-01, -2.6332e-08,  1.9016e-01],\n",
       "        [ 2.1466e-01,  2.2719e-01,  1.7558e-01,  1.8372e-01,  1.9885e-01,  0.0000e+00]])"
      ]
     },
     "execution_count": 174,
     "metadata": {},
     "output_type": "execute_result"
    }
   ],
   "source": [
    "# torch.sum(pairwise_distance_matrix, 1) ##.view(-1, 1)\n",
    "# pairwise_distance_matrix / (1.0e-8 + torch.sum(pairwise_distance_matrix, 1).view(-1, 1))\n",
    "\n",
    "sampling_probability = snnl.compute_sampling_probability(pairwise_distance_matrix)\n",
    "sampling_probability.sum(1)\n",
    "sampling_probability"
   ]
  },
  {
   "cell_type": "code",
   "execution_count": 175,
   "id": "34fa75f5-79b7-48d6-8569-fb070acb3e0d",
   "metadata": {
    "execution": {
     "iopub.execute_input": "2024-03-07T17:02:40.220986Z",
     "iopub.status.busy": "2024-03-07T17:02:40.220406Z",
     "iopub.status.idle": "2024-03-07T17:02:40.265401Z",
     "shell.execute_reply": "2024-03-07T17:02:40.264602Z",
     "shell.execute_reply.started": "2024-03-07T17:02:40.220933Z"
    }
   },
   "outputs": [
    {
     "data": {
      "text/plain": [
       "tensor([0, 0, 1, 1, 2, 2])"
      ]
     },
     "execution_count": 175,
     "metadata": {},
     "output_type": "execute_result"
    },
    {
     "data": {
      "text/plain": [
       "tensor([[0],\n",
       "        [0],\n",
       "        [1],\n",
       "        [1],\n",
       "        [2],\n",
       "        [2]])"
      ]
     },
     "execution_count": 175,
     "metadata": {},
     "output_type": "execute_result"
    },
    {
     "data": {
      "text/plain": [
       "tensor([[ True,  True, False, False, False, False],\n",
       "        [ True,  True, False, False, False, False],\n",
       "        [False, False,  True,  True, False, False],\n",
       "        [False, False,  True,  True, False, False],\n",
       "        [False, False, False, False,  True,  True],\n",
       "        [False, False, False, False,  True,  True]])"
      ]
     },
     "execution_count": 175,
     "metadata": {},
     "output_type": "execute_result"
    }
   ],
   "source": [
    "labels = torch.tensor([0,0,1,1,2,2])\n",
    "# labels +=3\n",
    "labels\n",
    "labels.unsqueeze(1)\n",
    "torch.eq(labels, labels.unsqueeze(1))"
   ]
  },
  {
   "cell_type": "code",
   "execution_count": 176,
   "id": "ee8b00c2-7e99-4ca8-84dd-26582a8e30c9",
   "metadata": {
    "execution": {
     "iopub.execute_input": "2024-03-07T17:03:10.183053Z",
     "iopub.status.busy": "2024-03-07T17:03:10.182436Z",
     "iopub.status.idle": "2024-03-07T17:03:10.223900Z",
     "shell.execute_reply": "2024-03-07T17:03:10.223078Z",
     "shell.execute_reply.started": "2024-03-07T17:03:10.183000Z"
    }
   },
   "outputs": [
    {
     "name": "stdout",
     "output_type": "stream",
     "text": [
      "masking_matrix\n",
      "tensor([[1., 1., 0., 0., 0., 0.],\n",
      "        [1., 1., 0., 0., 0., 0.],\n",
      "        [0., 0., 1., 1., 0., 0.],\n",
      "        [0., 0., 1., 1., 0., 0.],\n",
      "        [0., 0., 0., 0., 1., 1.],\n",
      "        [0., 0., 0., 0., 1., 1.]])\n",
      "masked_pick_probabliltiy\n",
      "tensor([[ 2.5957e-08,  2.1212e-01,  0.0000e+00,  0.0000e+00,  0.0000e+00,  0.0000e+00],\n",
      "        [ 2.1828e-01,  0.0000e+00,  0.0000e+00,  0.0000e+00,  0.0000e+00,  0.0000e+00],\n",
      "        [ 0.0000e+00,  0.0000e+00, -1.4493e-08,  2.2842e-01,  0.0000e+00,  0.0000e+00],\n",
      "        [ 0.0000e+00,  0.0000e+00,  2.1351e-01,  0.0000e+00,  0.0000e+00,  0.0000e+00],\n",
      "        [ 0.0000e+00,  0.0000e+00,  0.0000e+00,  0.0000e+00, -2.6332e-08,  1.9016e-01],\n",
      "        [ 0.0000e+00,  0.0000e+00,  0.0000e+00,  0.0000e+00,  1.9885e-01,  0.0000e+00]])\n"
     ]
    },
    {
     "data": {
      "text/plain": [
       "tensor([0.2121, 0.2183, 0.2284, 0.2135, 0.1902, 0.1988])"
      ]
     },
     "execution_count": 176,
     "metadata": {},
     "output_type": "execute_result"
    }
   ],
   "source": [
    "summed_masked_pick_probability = snnl.mask_sampling_probability(labels, sampling_probability)\n",
    "# summed_masked_pick_probability.sum(0)\n",
    "summed_masked_pick_probability"
   ]
  },
  {
   "cell_type": "markdown",
   "id": "49008051-d83a-4188-8522-f695ab3beaef",
   "metadata": {},
   "source": [
    "#### Base Model"
   ]
  },
  {
   "cell_type": "markdown",
   "id": "b63d78d0-2adf-4743-8715-66f207cdd62b",
   "metadata": {},
   "source": [
    "#### DNN"
   ]
  },
  {
   "cell_type": "markdown",
   "id": "b48dd830-3206-4531-8b07-aa4bf27a88bc",
   "metadata": {},
   "source": [
    "#### Autoencoder"
   ]
  },
  {
   "cell_type": "markdown",
   "id": "f284c33e-8448-4c0a-a403-8dc1d8cc536d",
   "metadata": {
    "jp-MarkdownHeadingCollapsed": true
   },
   "source": [
    "#### Predict"
   ]
  },
  {
   "cell_type": "code",
   "execution_count": null,
   "id": "0ce36c0b-6fd4-4454-8ceb-214284dd6abc",
   "metadata": {
    "jupyter": {
     "source_hidden": true
    }
   },
   "outputs": [],
   "source": [
    "test_features = test_dataset.data.reshape(-1, 784) / 255.0"
   ]
  },
  {
   "cell_type": "code",
   "execution_count": null,
   "id": "16ebac12-779c-4da2-995c-b4ecaed34828",
   "metadata": {},
   "outputs": [],
   "source": [
    "model.eval()\n",
    "model = model.cpu()"
   ]
  },
  {
   "cell_type": "code",
   "execution_count": null,
   "id": "b2d51865-d440-4488-b690-45bdf8a91c82",
   "metadata": {},
   "outputs": [],
   "source": [
    "predictions = model.predict(test_features)\n",
    "model.test_accuracy = accuracy(y_true=test_dataset.targets, y_pred=predictions)"
   ]
  },
  {
   "cell_type": "code",
   "execution_count": null,
   "id": "33c72a58-de2e-43d9-ad00-725552a38ff5",
   "metadata": {},
   "outputs": [],
   "source": [
    "print(f\"accuracy: {model.test_accuracy}%\")"
   ]
  },
  {
   "cell_type": "code",
   "execution_count": null,
   "id": "d9d7cd53-2ef8-4c46-a509-e3443f1eae20",
   "metadata": {},
   "outputs": [],
   "source": [
    "print(f\"accuracy: {model.test_accuracy}%\")"
   ]
  },
  {
   "cell_type": "code",
   "execution_count": null,
   "id": "1e80b138-e509-48bc-853f-297f1a55a8e8",
   "metadata": {},
   "outputs": [],
   "source": [
    "print(f\"accuracy: {model.test_accuracy}%\")"
   ]
  },
  {
   "cell_type": "code",
   "execution_count": null,
   "id": "f2b8338a-e430-44e7-b82d-96c3fa70cf9c",
   "metadata": {},
   "outputs": [],
   "source": [
    "filename = f\"DNN-{args.model.lower()}-{args.seed}.json\"\n",
    "export_results(model=model, filename=filename)"
   ]
  },
  {
   "cell_type": "code",
   "execution_count": null,
   "id": "b616fdcb-52ea-4743-ace6-201a48fc68ee",
   "metadata": {},
   "outputs": [],
   "source": []
  }
 ],
 "metadata": {
  "kernelspec": {
   "display_name": "Python [conda env:ptsnnl]",
   "language": "python",
   "name": "conda-env-ptsnnl-py"
  },
  "language_info": {
   "codemirror_mode": {
    "name": "ipython",
    "version": 3
   },
   "file_extension": ".py",
   "mimetype": "text/x-python",
   "name": "python",
   "nbconvert_exporter": "python",
   "pygments_lexer": "ipython3",
   "version": "3.11.0"
  },
  "toc": {
   "base_numbering": 1,
   "nav_menu": {},
   "number_sections": true,
   "sideBar": true,
   "skip_h1_title": false,
   "title_cell": "Table of Contents",
   "title_sidebar": "Contents",
   "toc_cell": false,
   "toc_position": {},
   "toc_section_display": true,
   "toc_window_display": false
  }
 },
 "nbformat": 4,
 "nbformat_minor": 5
}
