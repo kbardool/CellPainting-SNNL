{
 "cells": [
  {
   "cell_type": "markdown",
   "id": "ca813a76-47b7-458b-a3d2-1e4f49079a08",
   "metadata": {},
   "source": [
    "  # Autoencoder - Baseline mode - Copy 1"
   ]
  },
  {
   "cell_type": "markdown",
   "id": "41638752-2456-4f2e-9e7e-e4039fe926a2",
   "metadata": {},
   "source": [
    "# Setup"
   ]
  },
  {
   "cell_type": "code",
   "execution_count": 1,
   "id": "11ad0ae2",
   "metadata": {
    "ExecuteTime": {
     "end_time": "2023-04-12T10:29:15.566596Z",
     "start_time": "2023-04-12T10:29:15.550232Z"
    },
    "execution": {
     "iopub.execute_input": "2024-09-05T16:01:25.171434Z",
     "iopub.status.busy": "2024-09-05T16:01:25.171022Z",
     "iopub.status.idle": "2024-09-05T16:01:25.197165Z",
     "shell.execute_reply": "2024-09-05T16:01:25.196618Z",
     "shell.execute_reply.started": "2024-09-05T16:01:25.171393Z"
    }
   },
   "outputs": [
    {
     "data": {
      "text/html": [
       "<style>.container { width:98% !important; }</style>"
      ],
      "text/plain": [
       "<IPython.core.display.HTML object>"
      ]
     },
     "metadata": {},
     "output_type": "display_data"
    }
   ],
   "source": [
    "from IPython.display import display, HTML\n",
    "display(HTML(\"<style>.container { width:98% !important; }</style>\"))\n",
    "%load_ext autoreload  \n",
    "%autoreload 2\n",
    "from IPython.core.interactiveshell import InteractiveShell\n",
    "InteractiveShell.ast_node_interactivity = \"all\""
   ]
  },
  {
   "cell_type": "code",
   "execution_count": 2,
   "id": "21ae8bcc-1f8d-4cc9-a3ab-788675c6a5d5",
   "metadata": {
    "ExecuteTime": {
     "end_time": "2023-04-12T10:29:16.111588Z",
     "start_time": "2023-04-12T10:29:15.764305Z"
    },
    "execution": {
     "iopub.execute_input": "2024-09-05T16:01:25.198481Z",
     "iopub.status.busy": "2024-09-05T16:01:25.198241Z",
     "iopub.status.idle": "2024-09-05T16:01:28.265464Z",
     "shell.execute_reply": "2024-09-05T16:01:28.264707Z",
     "shell.execute_reply.started": "2024-09-05T16:01:25.198458Z"
    }
   },
   "outputs": [
    {
     "name": "stdout",
     "output_type": "stream",
     "text": [
      "insert ./src\n",
      "insert ../..\n",
      "['../..', './src', '/home/kevin/miniforge3/envs/ptsnnl/lib/python311.zip', '/home/kevin/miniforge3/envs/ptsnnl/lib/python3.11', '/home/kevin/miniforge3/envs/ptsnnl/lib/python3.11/lib-dynload', '', '/home/kevin/miniforge3/envs/ptsnnl/lib/python3.11/site-packages', '/home/kevin/miniforge3/envs/ptsnnl/lib/python3.11/site-packages/cytominer_eval-0.1-py3.11.egg']\n",
      "2.2.2\n"
     ]
    }
   ],
   "source": [
    "import os\n",
    "import sys\n",
    "import csv\n",
    "import glob\n",
    "import json\n",
    "import time\n",
    "import types\n",
    "import copy\n",
    "import pprint\n",
    "import logging \n",
    "from datetime import datetime\n",
    "for p in ['./src','../..']:\n",
    "    if p not in sys.path:\n",
    "        print(f\"insert {p}\")\n",
    "        sys.path.insert(0, p)\n",
    "print(sys.path)\n",
    "import shutil\n",
    "import getpass\n",
    "import yaml\n",
    "\n",
    "from matplotlib import pyplot as plt\n",
    "from typing import Dict, List, Tuple\n",
    "import scipy\n",
    "from scipy.sparse import csr_matrix\n",
    "from tqdm import tqdm\n",
    "\n",
    "import numpy as np\n",
    "\n",
    "import pandas as pd\n",
    "\n",
    "import torch\n",
    "import torch.nn.functional as F\n",
    "from torchinfo import summary\n",
    "\n",
    "torch.set_printoptions(precision=None, threshold=None, edgeitems=None, linewidth=150, profile=None, sci_mode=None)\n",
    "print(torch.__version__)\n",
    "\n",
    "pp = pprint.PrettyPrinter(indent=4)\n",
    "pd.options.display.width = 132\n",
    "torch.set_printoptions(precision=None, threshold=None, edgeitems=None, linewidth=150, profile=None, sci_mode=None)\n",
    "np.set_printoptions(edgeitems=3, infstr='inf', linewidth=150, nanstr='nan')\n",
    "\n",
    "os.environ[\"WANDB_NOTEBOOK_NAME\"] = \"Autoencoder_dev.ipynb\"\n",
    "# os.environ[\"CUDA_LAUNCH_BLOCKING\"] = \"1\"\n",
    "# os.environ[\"CUDA_VISIBLE_DEVICES\"] = \"1\"\n",
    "import wandb"
   ]
  },
  {
   "cell_type": "code",
   "execution_count": 3,
   "id": "e336e358-2bfa-44c4-b725-64e24ca21c89",
   "metadata": {
    "ExecuteTime": {
     "end_time": "2023-04-12T10:29:16.111588Z",
     "start_time": "2023-04-12T10:29:15.764305Z"
    },
    "execution": {
     "iopub.execute_input": "2024-09-05T16:01:58.765061Z",
     "iopub.status.busy": "2024-09-05T16:01:58.764444Z",
     "iopub.status.idle": "2024-09-05T16:02:01.680205Z",
     "shell.execute_reply": "2024-09-05T16:02:01.679387Z",
     "shell.execute_reply.started": "2024-09-05T16:01:58.765007Z"
    }
   },
   "outputs": [],
   "source": [
    "from KevinsRoutines.utils.utils_wandb import init_wandb, wandb_log_metrics,wandb_watch\n",
    "from KevinsRoutines.utils.utils_general import list_namespace\n",
    "import snnl.utils as utils \n",
    "\n",
    "from snnl.utils import parse_args, load_configuration, set_global_seed, get_device, set_device\n",
    "from snnl.utils import define_autoencoder_model, init_resume_training\n",
    "from snnl.utils import save_checkpoint_v5, load_checkpoint_v5\n",
    "from snnl.utils import plot_model_parms, plot_train_history, plot_classification_metrics, plot_regression_metrics\n",
    "from snnl.utils import display_model_summary, display_model_hyperparameters, display_model_gradients, display_model_parameters\n",
    "from snnl.utils import display_epoch_metrics, display_cellpainting_batch, display_model_state_dict"
   ]
  },
  {
   "cell_type": "code",
   "execution_count": 4,
   "id": "40373393-9cbf-4448-a3ad-dbd7861fb8ae",
   "metadata": {
    "execution": {
     "iopub.execute_input": "2024-09-05T16:02:09.388969Z",
     "iopub.status.busy": "2024-09-05T16:02:09.387868Z",
     "iopub.status.idle": "2024-09-05T16:02:09.449233Z",
     "shell.execute_reply": "2024-09-05T16:02:09.448552Z",
     "shell.execute_reply.started": "2024-09-05T16:02:09.388922Z"
    }
   },
   "outputs": [
    {
     "name": "stderr",
     "output_type": "stream",
     "text": [
      "2024-09-05 18:02:09,441 - __main__ - INFO: -  Excution started : 2024_09_05_18:02:09 \n",
      "2024-09-05 18:02:09,442 - __main__ - INFO: -  Pytorch version  : 2.2.2  \t\t Number of threads: 7\n",
      "2024-09-05 18:02:09,443 - __main__ - INFO: -  Scipy version    : 1.12.0  \t\t Numpy version : 1.26.4\n",
      "2024-09-05 18:02:09,445 - __main__ - INFO: -  WandB version    : 0.17.4  \t\t Pandas version: 2.2.1  \n"
     ]
    }
   ],
   "source": [
    "timestamp = datetime.now().strftime('%Y_%m_%d_%H:%M:%S')\n",
    "# print('Timestamp: ',timestamp)\n",
    "logger = logging.getLogger(__name__) \n",
    "logLevel = os.environ.get('LOG_LEVEL', 'INFO').upper()\n",
    "FORMAT = '%(asctime)s - %(name)s - %(levelname)s: - %(message)s'\n",
    "logging.basicConfig(level=\"INFO\", format= FORMAT)\n",
    "\n",
    "logger.info(f\" Excution started : {timestamp} \")\n",
    "logger.info(f\" Pytorch version  : {torch.__version__}  \\t\\t Number of threads: {torch.get_num_threads()}\")\n",
    "logger.info(f\" Scipy version    : {scipy.__version__}  \\t\\t Numpy version : {np.__version__}\")\n",
    "logger.info(f\" WandB version    : {wandb.__version__}  \\t\\t Pandas version: {pd.__version__}  \")\n",
    "# logger.info(f\" Search path      : {sys.path}\")"
   ]
  },
  {
   "cell_type": "markdown",
   "id": "1be5e789-3446-482f-a3ca-fdd19b2a845e",
   "metadata": {},
   "source": [
    "## main(args)"
   ]
  },
  {
   "cell_type": "code",
   "execution_count": 5,
   "id": "3e7989e9-5b0b-49a0-a10f-b5a48e62d6e0",
   "metadata": {
    "execution": {
     "iopub.execute_input": "2024-09-05T16:02:15.328727Z",
     "iopub.status.busy": "2024-09-05T16:02:15.328224Z",
     "iopub.status.idle": "2024-09-05T16:02:15.377075Z",
     "shell.execute_reply": "2024-09-05T16:02:15.376539Z",
     "shell.execute_reply.started": "2024-09-05T16:02:15.328686Z"
    }
   },
   "outputs": [],
   "source": [
    "# RUNMODE = 'baseline'\n",
    "RUNMODE = 'snnl'\n",
    "GPU_ID = 1\n",
    "LATENT_DIM    = 150\n",
    "HIDDEN_1      = 512\n",
    "EPOCHS        = 1\n",
    "COMPOUNDS_PER_BATCH = 200\n",
    "# TEMP          = 1.00\n",
    "# TEMP_LR       = 0.00   ##1.0e-05\n",
    "# ADAM_WEIGHT_DECAY = 0.001\n",
    "# SNNL_FACTOR   = 3.0\n",
    "# TEMP          = 1.00\n",
    "# TEMP_LR       = 0.00   ##1.0e-05\n",
    "# ADAM_WEIGHT_DECAY = 0.1\n",
    "# LOSS_FACTOR   = 134.0\n",
    "# SNNL_FACTOR   = 3.0"
   ]
  },
  {
   "cell_type": "code",
   "execution_count": 6,
   "id": "78b0c1c0-4e93-4992-8c20-db218e43325c",
   "metadata": {
    "execution": {
     "iopub.execute_input": "2024-09-05T16:02:18.440926Z",
     "iopub.status.busy": "2024-09-05T16:02:18.440412Z",
     "iopub.status.idle": "2024-09-05T16:02:18.519867Z",
     "shell.execute_reply": "2024-09-05T16:02:18.519211Z",
     "shell.execute_reply.started": "2024-09-05T16:02:18.440884Z"
    }
   },
   "outputs": [
    {
     "data": {
      "text/plain": [
       "Namespace(configuration='hyperparameters/ae_baseline_150_512_cpb.yaml', ckpt=None, cpb=200, exp_title=None, epochs=1, gpu_id=1, learning_rate=None, exp_id=None, runmode='snnl', random_seed=4321, use_prim_optimizer=True, use_temp_optimizer=False, use_annealing=False, anneal_patience=15, use_single_loss=False, temperature=None, adam_weight_decay=None, loss_factor=None, snnl_factor=None, temperatureLR=None, WANDB_ACTIVE=False)"
      ]
     },
     "execution_count": 6,
     "metadata": {},
     "output_type": "execute_result"
    },
    {
     "name": "stderr",
     "output_type": "stream",
     "text": [
      "2024-09-05 18:02:18,500 - snnl.utils.utils_ptsnnl - INFO: -  command line param configuration             : [hyperparameters/ae_baseline_150_512_cpb.yaml]\n",
      "2024-09-05 18:02:18,500 - snnl.utils.utils_ptsnnl - INFO: -  command line param ckpt                      : [None]\n",
      "2024-09-05 18:02:18,501 - snnl.utils.utils_ptsnnl - INFO: -  command line param cpb                       : [200]\n",
      "2024-09-05 18:02:18,502 - snnl.utils.utils_ptsnnl - INFO: -  command line param exp_title                 : [None]\n",
      "2024-09-05 18:02:18,503 - snnl.utils.utils_ptsnnl - INFO: -  command line param epochs                    : [1]\n",
      "2024-09-05 18:02:18,503 - snnl.utils.utils_ptsnnl - INFO: -  command line param gpu_id                    : [1]\n",
      "2024-09-05 18:02:18,504 - snnl.utils.utils_ptsnnl - INFO: -  command line param learning_rate             : [None]\n",
      "2024-09-05 18:02:18,504 - snnl.utils.utils_ptsnnl - INFO: -  command line param exp_id                    : [None]\n",
      "2024-09-05 18:02:18,505 - snnl.utils.utils_ptsnnl - INFO: -  command line param runmode                   : [snnl]\n",
      "2024-09-05 18:02:18,506 - snnl.utils.utils_ptsnnl - INFO: -  command line param random_seed               : [4321]\n",
      "2024-09-05 18:02:18,506 - snnl.utils.utils_ptsnnl - INFO: -  command line param use_prim_optimizer        : [True]\n",
      "2024-09-05 18:02:18,507 - snnl.utils.utils_ptsnnl - INFO: -  command line param use_temp_optimizer        : [False]\n",
      "2024-09-05 18:02:18,508 - snnl.utils.utils_ptsnnl - INFO: -  command line param use_annealing             : [False]\n",
      "2024-09-05 18:02:18,508 - snnl.utils.utils_ptsnnl - INFO: -  command line param anneal_patience           : [15]\n",
      "2024-09-05 18:02:18,509 - snnl.utils.utils_ptsnnl - INFO: -  command line param use_single_loss           : [False]\n",
      "2024-09-05 18:02:18,510 - snnl.utils.utils_ptsnnl - INFO: -  command line param temperature               : [None]\n",
      "2024-09-05 18:02:18,510 - snnl.utils.utils_ptsnnl - INFO: -  command line param adam_weight_decay         : [None]\n",
      "2024-09-05 18:02:18,511 - snnl.utils.utils_ptsnnl - INFO: -  command line param loss_factor               : [None]\n",
      "2024-09-05 18:02:18,512 - snnl.utils.utils_ptsnnl - INFO: -  command line param snnl_factor               : [None]\n",
      "2024-09-05 18:02:18,512 - snnl.utils.utils_ptsnnl - INFO: -  command line param temperatureLR             : [None]\n",
      "2024-09-05 18:02:18,513 - snnl.utils.utils_ptsnnl - INFO: -  command line param WANDB_ACTIVE              : [False]\n",
      "2024-09-05 18:02:18,513 - snnl.utils.utils_ptsnnl - INFO: -  command line param exp_title                 : [scpb200_150Ltnt_512]\n"
     ]
    }
   ],
   "source": [
    "# if __name__ == \"__main__\":\n",
    "cli_args = f\" --runmode            {RUNMODE}\" \\\n",
    "            f\" --configuration      hyperparameters/ae_baseline_{LATENT_DIM:03d}_{HIDDEN_1}_cpb.yaml\" \\\n",
    "            f\" --gpu_id             {GPU_ID} \" \\\n",
    "            f\" --epochs             {EPOCHS} \" \\\n",
    "            f\" --cpb                {COMPOUNDS_PER_BATCH}\"\\\n",
    "            f\" --seed               4321\"\\\n",
    "            f\" --gpu_id             {GPU_ID} \"  \\\n",
    "            f\" \"\n",
    "# f\" --snnl_factor        {SNNL_FACTOR}\"\\\n",
    "# f\" --configuration      hyperparameters/ae_snglOpt_{LATENT_DIM:03d}_{HIDDEN_1}_cpb.yaml\" \\\n",
    "# f\" --ckpt               AE_baseline_20240614_snglOpt-{LATENT_DIM}Ltnt{HIDDEN_1}{HIDDEN_2}_ep_300.pt \"\n",
    "# f\" --wandb              \"\\\n",
    "\n",
    "cli_args = parse_args(cli_args.split())\n",
    "cli_args\n",
    "\n",
    "args = load_configuration(cli_args)\n",
    "# args.ckpt"
   ]
  },
  {
   "cell_type": "code",
   "execution_count": 7,
   "id": "d4e6e299-b747-4148-9043-fcf49c7a956e",
   "metadata": {
    "execution": {
     "iopub.execute_input": "2024-09-05T16:02:20.019339Z",
     "iopub.status.busy": "2024-09-05T16:02:20.018810Z",
     "iopub.status.idle": "2024-09-05T16:02:20.934254Z",
     "shell.execute_reply": "2024-09-05T16:02:20.933395Z",
     "shell.execute_reply.started": "2024-09-05T16:02:20.019298Z"
    }
   },
   "outputs": [
    {
     "name": "stdout",
     "output_type": "stream",
     "text": [
      " device: 0   Quadro GV100                   :  free: 32,100,646,912 B   (29.90 GB)    total: 34,069,872,640 B   (31.73 GB)\n",
      " device: 1   Quadro GV100                   :  free: 32,549,437,440 B   (30.31 GB)    total: 34,069,872,640 B   (31.73 GB)\n"
     ]
    },
    {
     "name": "stderr",
     "output_type": "stream",
     "text": [
      "2024-09-05 18:02:20,925 - snnl.utils.utils_ptsnnl - INFO: -  Current CUDA Device is:  cuda:0 - Quadro GV100\n",
      "2024-09-05 18:02:20,927 - snnl.utils.utils_ptsnnl - INFO: -  Switched to: Quadro GV100 - 1\n"
     ]
    },
    {
     "name": "stdout",
     "output_type": "stream",
     "text": [
      " device: 2   NVIDIA TITAN Xp                :  free: 11,946,033,152 B   (11.13 GB)    total: 12,774,539,264 B   (11.90 GB)\n",
      " args.current_device is : cuda:1\n"
     ]
    }
   ],
   "source": [
    "### Set random seed and gpu device\n",
    "set_global_seed(args.random_seed)\n",
    "\n",
    "if args.ckpt is not None:\n",
    "    if os.path.exists(os.path.join('ckpts', args.ckpt)):\n",
    "        logger.info(f\"Checkpoint {args.ckpt} found\")\n",
    "        logger.info(f\"Resuming training using checkpoint: {args.ckpt}\")\n",
    "    else:\n",
    "        logger.error(f\"*** Checkpoint {args.ckpt} not found *** \\n\")\n",
    "        raise ValueError(f\"\\n *** Checkpoint DOESNT EXIST *** \\n\")\n",
    " \n",
    "if args.gpu_id is not None:\n",
    "    _ = get_device(verbose=True)\n",
    "    args.current_device = set_device(args.gpu_id)\n",
    "    print(f\" args.current_device is : {args.current_device}\")"
   ]
  },
  {
   "cell_type": "code",
   "execution_count": 8,
   "id": "9ff48233-d8d5-44dd-98f9-25db8c97eac1",
   "metadata": {
    "execution": {
     "iopub.execute_input": "2024-09-05T16:02:23.145504Z",
     "iopub.status.busy": "2024-09-05T16:02:23.144934Z",
     "iopub.status.idle": "2024-09-05T16:02:23.199005Z",
     "shell.execute_reply": "2024-09-05T16:02:23.198283Z",
     "shell.execute_reply.started": "2024-09-05T16:02:23.145459Z"
    }
   },
   "outputs": [],
   "source": [
    "# list_namespace(args)"
   ]
  },
  {
   "cell_type": "markdown",
   "id": "99c80444-f679-429f-a606-7395cf4d5a38",
   "metadata": {
    "execution": {
     "iopub.execute_input": "2024-09-05T16:02:24.447051Z",
     "iopub.status.busy": "2024-09-05T16:02:24.446423Z",
     "iopub.status.idle": "2024-09-05T16:02:24.495645Z",
     "shell.execute_reply": "2024-09-05T16:02:24.495009Z",
     "shell.execute_reply.started": "2024-09-05T16:02:24.447011Z"
    }
   },
   "source": [
    "  ### WandB Setup - not used"
   ]
  },
  {
   "cell_type": "markdown",
   "id": "8b8a1584-fafe-41fd-b8eb-9d85e41e2d2a",
   "metadata": {},
   "source": [
    "  ### Define dataset and dataloaders - not used "
   ]
  },
  {
   "cell_type": "markdown",
   "id": "706f8d09-55e6-439d-b2e7-606273d44d15",
   "metadata": {},
   "source": [
    "  ### Model parameters "
   ]
  },
  {
   "cell_type": "code",
   "execution_count": 13,
   "id": "0012fdd4-036c-47e8-98f3-bf8514ff945c",
   "metadata": {
    "execution": {
     "iopub.execute_input": "2024-09-05T16:04:10.934321Z",
     "iopub.status.busy": "2024-09-05T16:04:10.933837Z",
     "iopub.status.idle": "2024-09-05T16:04:10.986559Z",
     "shell.execute_reply": "2024-09-05T16:04:10.985952Z",
     "shell.execute_reply.started": "2024-09-05T16:04:10.934293Z"
    }
   },
   "outputs": [
    {
     "name": "stdout",
     "output_type": "stream",
     "text": [
      "   runmode                  snnl\n",
      "   Compounds per batch      200\n",
      "   embedding_layer          4\n",
      "   Latent dim               150\n",
      "   loss_factor              1.0\n",
      "   snnl_factor              0.0\n",
      "   temperature              0.0\n",
      "   learning_rate            0.001\n",
      "   temperatureLR:           0.0\n",
      "   use_annealing:           False\n",
      "   anneal_patience:         15\n",
      "   use Primary Optimizer:   True\n",
      "   use Primary Scheduler:   True\n"
     ]
    }
   ],
   "source": [
    "# args.temperature   = 0.0\n",
    "# args.loss_factor   = 1.0        ## 2.0e+00\n",
    "# args.snnl_factor   = 0.0       ## 1.0e+00\n",
    "# args.learning_rate = 1.0e-03    ## 0.001\n",
    "# args.temperatureLR = 0.0e-04    ## 1e-4\n",
    "print(f\"   runmode                  {args.runmode}\")\n",
    "print(f\"   Compounds per batch      {args.cpb}\")\n",
    "print(f\"   embedding_layer          {args.embedding_layer}\")\n",
    "print(f\"   Latent dim               {args.code_units}\")\n",
    "print(f\"   loss_factor              {args.loss_factor}\")\n",
    "print(f\"   snnl_factor              {args.snnl_factor}\")\n",
    "print(f\"   temperature              {args.temperature}\")\n",
    "print(f\"   learning_rate            {args.learning_rate}\")\n",
    "print(f\"   temperatureLR:           {args.temperatureLR}\")\n",
    "print(f\"   use_annealing:           {args.use_annealing}\")\n",
    "print(f\"   anneal_patience:         {args.anneal_patience}\")\n",
    "print(f\"   use Primary Optimizer:   {args.use_prim_optimizer}\")\n",
    "print(f\"   use Primary Scheduler:   {args.use_prim_scheduler}\")"
   ]
  },
  {
   "cell_type": "markdown",
   "id": "80536769-a733-4967-8b38-1e0363c95558",
   "metadata": {},
   "source": [
    "## Define Model"
   ]
  },
  {
   "cell_type": "code",
   "execution_count": 14,
   "id": "1f81ba25-40c1-487a-856c-ba2e89963a9e",
   "metadata": {
    "execution": {
     "iopub.execute_input": "2024-09-05T16:04:15.296305Z",
     "iopub.status.busy": "2024-09-05T16:04:15.295823Z",
     "iopub.status.idle": "2024-09-05T16:04:15.452342Z",
     "shell.execute_reply": "2024-09-05T16:04:15.451625Z",
     "shell.execute_reply.started": "2024-09-05T16:04:15.296264Z"
    }
   },
   "outputs": [
    {
     "data": {
      "text/plain": [
       "'snnl'"
      ]
     },
     "execution_count": 14,
     "metadata": {},
     "output_type": "execute_result"
    },
    {
     "name": "stderr",
     "output_type": "stream",
     "text": [
      "2024-09-05 18:04:15,346 - snnl.utils.utils_notebook - INFO: - Defining model in SNNL mode \n",
      "2024-09-05 18:04:15,349 - snnl.models.autoencoder - INFO: -     layer pair:    0  type:linear           input:   1471  output:   1024    weights: [1024, 1471]   \n",
      "2024-09-05 18:04:15,366 - snnl.models.autoencoder - INFO: -     layer pair:    1  type:relu             input:      0  output:      0    weights: [0, 0]   \n",
      "2024-09-05 18:04:15,367 - snnl.models.autoencoder - INFO: -     layer pair:    2  type:linear           input:   1024  output:    512    weights: [512, 1024]   \n",
      "2024-09-05 18:04:15,373 - snnl.models.autoencoder - INFO: -     layer pair:    3  type:relu             input:      0  output:      0    weights: [0, 0]   \n",
      "2024-09-05 18:04:15,374 - snnl.models.autoencoder - INFO: -     layer pair:    4  type:linear           input:    512  output:    150    weights: [150, 512]   \n",
      "2024-09-05 18:04:15,376 - snnl.models.autoencoder - INFO: -     layer pair:    5  type:linear           input:    150  output:    512    weights: [512, 150]   \n",
      "2024-09-05 18:04:15,378 - snnl.models.autoencoder - INFO: -     layer pair:    6  type:relu             input:      0  output:      0    weights: [0, 0]   \n",
      "2024-09-05 18:04:15,378 - snnl.models.autoencoder - INFO: -     layer pair:    7  type:linear           input:    512  output:   1024    weights: [1024, 512]   \n",
      "2024-09-05 18:04:15,385 - snnl.models.autoencoder - INFO: -     layer pair:    8  type:relu             input:      0  output:      0    weights: [0, 0]   \n",
      "2024-09-05 18:04:15,387 - snnl.models.autoencoder - INFO: -     layer pair:    9  type:linear           input:   1024  output:   1471    weights: [1471, 1024]   \n"
     ]
    },
    {
     "name": "stdout",
     "output_type": "stream",
     "text": [
      " EMBEDDING LAYER: 4\n",
      " Device cuda:1 will be used\n",
      "\n",
      "------------------------------------------------------------\n",
      " Building Base Model from NOTEBOOK\n",
      "------------------------------------------------------------\n",
      "    Model_init()_    -- mode:              latent_code\n",
      "    Model_init()_    -- Unsupervised :     True\n",
      "    Model_init()_    -- Support for unsupervised training  in 'latent_code' mode is True\n",
      "    Model_init()_    -- Criterion:         MSELoss()\n",
      "    Model_init()_    -- use_snnl :         True\n",
      "    Model_init()_    -- temperature :      Parameter containing:\n",
      "tensor([0.], requires_grad=True)\n",
      "    Model_init()_    -- temperature LR:    0.0\n",
      "\n",
      "------------------------------------------------------------\n",
      " Building Autoencoder from NOTEBOOK\n",
      "------------------------------------------------------------\n",
      "setup_prim_optimizer()\n",
      "    AE init() -- mode               : latent_code\n",
      "    AE init() -- unsupervised       : True\n",
      "    AE init() -- layer_types        : ['linear', 'relu', 'linear', 'relu', 'linear', 'linear', 'relu', 'linear', 'relu', 'linear']\n",
      "    AE init() -- non linearities    : ['relu', 'relu', 'relu', 'relu']\n",
      "    AE init() -- Primary Crtierion  : MSELoss()\n",
      "    AE init() -- monitor_grads_layer: None\n",
      "    AE init() -- Primary optimizer  : True\n",
      "    AE init() -- Primary scheduler  : True\n",
      "    AE init() -- use_snnl           : True\n",
      "    AE init() -- SNNL Crtierion     : SNNLoss()\n",
      "    AE init() -- temperature        : Parameter containing:\n",
      "tensor([0.], device='cuda:1', requires_grad=True)\n",
      "    AE init() -- temperature LR     : 0.0\n",
      "    AE init() -- Temperature optmzr : False\n",
      "    AE init() -- Temperature schdlr : False\n"
     ]
    }
   ],
   "source": [
    "### Define Model\n",
    "args.runmode\n",
    "model = define_autoencoder_model(args, verbose = True)"
   ]
  },
  {
   "cell_type": "code",
   "execution_count": 19,
   "id": "c023aa86-8af2-49b1-8357-c449ba02e334",
   "metadata": {
    "execution": {
     "iopub.execute_input": "2024-09-05T16:05:15.610572Z",
     "iopub.status.busy": "2024-09-05T16:05:15.610014Z",
     "iopub.status.idle": "2024-09-05T16:05:15.660988Z",
     "shell.execute_reply": "2024-09-05T16:05:15.660239Z",
     "shell.execute_reply.started": "2024-09-05T16:05:15.610483Z"
    }
   },
   "outputs": [],
   "source": [
    "# list_namespace(args)\n",
    "\n",
    "# display_model_state_dict(model, 'test')\n",
    "# display_model_parameters(model, 'title')\n",
    "# display_model_gradients(model, 'test')\n",
    "# display_model_hyperparameters(model)\n",
    "# model.optimizers['prim'].state_dict()\n",
    "# model.optimizers['prim'].param_groups[0]['weight_decay']\n",
    "# model.schedulers['prim'].state_dict()"
   ]
  },
  {
   "cell_type": "markdown",
   "id": "94aeaa82-14c5-465c-ae6e-bb792ba8a973",
   "metadata": {},
   "source": [
    "# Load model checkpoint "
   ]
  },
  {
   "cell_type": "code",
   "execution_count": 20,
   "id": "08a991e5-a06e-4a93-b9a9-16ad6990b023",
   "metadata": {
    "execution": {
     "iopub.execute_input": "2024-09-05T16:05:17.836351Z",
     "iopub.status.busy": "2024-09-05T16:05:17.835853Z",
     "iopub.status.idle": "2024-09-05T16:05:17.882705Z",
     "shell.execute_reply": "2024-09-05T16:05:17.882058Z",
     "shell.execute_reply.started": "2024-09-05T16:05:17.836313Z"
    }
   },
   "outputs": [],
   "source": [
    "# if args.runmode == 'baseline':\n",
    "#     args.load_checkpoint = utils.load_checkpoint_v4\n",
    "#     args.save_checkpoint = utils.save_checkpoint_v4\n",
    "# else:\n",
    "#     args.load_checkpoint = utils.load_checkpoint_v5\n",
    "#     args.save_checkpoint = utils.save_checkpoint_v5\n",
    "\n",
    "args.load_checkpoint = utils.load_checkpoint_v5\n",
    "args.save_checkpoint = utils.save_checkpoint_v5\n"
   ]
  },
  {
   "cell_type": "code",
   "execution_count": 59,
   "id": "e89afc8a-daa3-46f5-a8bd-00415dfa1f74",
   "metadata": {
    "execution": {
     "iopub.execute_input": "2024-09-05T16:14:22.571908Z",
     "iopub.status.busy": "2024-09-05T16:14:22.571408Z",
     "iopub.status.idle": "2024-09-05T16:14:22.626085Z",
     "shell.execute_reply": "2024-09-05T16:14:22.625281Z",
     "shell.execute_reply.started": "2024-09-05T16:14:22.571869Z"
    }
   },
   "outputs": [
    {
     "name": "stdout",
     "output_type": "stream",
     "text": [
      "snnl\n",
      "snnl\n",
      " file name   : AE_snnl_dcpb200_150Ltnt_512_20240904_2356.pt\n",
      " file pattern: AE_snnl_dcpb200_150Ltnt_512_20240904_2356*.pt\n"
     ]
    }
   ],
   "source": [
    "print(f\"{args.runmode}\")\n",
    "if args.runmode == 'baseline':\n",
    "    indicator = 's'\n",
    "    ex_runmode = 'base'\n",
    "    # ex_datetime = \"20240709_1950\"\n",
    "    # ex_datetime = \"20240830_2302\"      # wd = 0.0\n",
    "    # ex_datetime = \"20240903_1930\"      # wd = 0.1\n",
    "    # ex_datetime = \"20240827_1938\"      # wd = 0.01\n",
    "    ex_datetime = \"20240904_2349\"      # wd = 0.001\n",
    "else:\n",
    "    indicator = 'd'\n",
    "    ex_runmode = 'snnl'\n",
    "    # ex_datetime = \"20240718_1956\"\n",
    "    # ex_datetime = \"20240830_2244\"    # snn factor = 3,   wd=0.0\n",
    "    # ex_datetime = \"20240903_1936\"    # snn factor = 3,   wd=0.1\n",
    "    # ex_datetime = \"20240829_1712\"    # snn factor = 3,   wd=0.01\n",
    "    # ex_datetime = \"20240904_2352\"    # snn factor = 3,   wd=0.001\n",
    "\n",
    "    # ex_datetime = \"20240830_2251\"    # snn factor = 30,  wd=0.0\n",
    "    # ex_datetime = \"20240903_1938\"    # snn factor = 30,  wd=0.1\n",
    "    # ex_datetime = \"20240829_1639\"    # snn factor = 30,  wd=0.01\n",
    "    ex_datetime = \"20240904_2356\"    # snn factor = 30,  wd=0.001\n",
    "    pass\n",
    "\n",
    "print(ex_runmode)\n",
    "\n",
    "#--------------------------\n",
    "# ex_title=f\"snglOpt-{LATENT_DIM}Ltnt{HIDDEN_1}{HIDDEN_2}\"\n",
    "# ex_title=\"snglOpt_100Ltnt\"\n",
    "# ex_title = args.exp_title\n",
    "# ex_datetime = \"20240605\"\n",
    "# ex_cpb = args.cpb\n",
    "# ex_runmode = 'baseline'\n",
    "# ex_epochs = 200\n",
    "\n",
    "# filename = f\"{model.name}_{ex_runmode}_{ex_datetime}_{ex_title}_{epochs:03d}_cpb_{ex_cpb}_factor_{ex_factor:d}.pt\"\n",
    "# filename = f\"{model.name}_{ex_runmode}_{ex_datetime}_{ex_title}_ep_{epochs:03d}.pt\"\n",
    "# file_pattern = f\"{model.name}_{ex_runmode}_{ex_datetime}_{ex_title}_*_cpb_{ex_cpb}_factor_{ex_factor:d}.pt\"\n",
    "\n",
    "filename = f\"{model.name}_{ex_runmode}_{indicator}cpb{COMPOUNDS_PER_BATCH}_{LATENT_DIM}Ltnt_{HIDDEN_1}_{ex_datetime}.pt\"\n",
    "file_pattern = f\"{model.name}_{ex_runmode}_{indicator}cpb{COMPOUNDS_PER_BATCH}_{LATENT_DIM}Ltnt_{HIDDEN_1}_{ex_datetime}*.pt\"\n",
    "print(f\" file name   : {filename}\")\n",
    "print(f\" file pattern: {file_pattern}\")\n",
    "# print(args.ckpt)"
   ]
  },
  {
   "cell_type": "code",
   "execution_count": 60,
   "id": "2a3ae9ed-6152-4e87-a14a-3c937b74f532",
   "metadata": {
    "execution": {
     "iopub.execute_input": "2024-09-05T16:14:22.970024Z",
     "iopub.status.busy": "2024-09-05T16:14:22.969529Z",
     "iopub.status.idle": "2024-09-05T16:14:23.019602Z",
     "shell.execute_reply": "2024-09-05T16:14:23.018839Z",
     "shell.execute_reply.started": "2024-09-05T16:14:22.969984Z"
    }
   },
   "outputs": [
    {
     "name": "stdout",
     "output_type": "stream",
     "text": [
      "   0 :  AE_snnl_dcpb200_150Ltnt_512_20240904_2356_BEST.pt\n",
      "   1 :  AE_snnl_dcpb200_150Ltnt_512_20240904_2356_LAST_ep_400.pt\n",
      "   2 :  AE_snnl_dcpb200_150Ltnt_512_20240904_2356_ep_100.pt\n",
      "   3 :  AE_snnl_dcpb200_150Ltnt_512_20240904_2356_ep_200.pt\n",
      "   4 :  AE_snnl_dcpb200_150Ltnt_512_20240904_2356_ep_300.pt\n",
      "   5 :  AE_snnl_dcpb200_150Ltnt_512_20240904_2356_ep_400.pt\n"
     ]
    }
   ],
   "source": [
    "# filelist = glob.glob(os.path.join('ckpts',file_pattern))\n",
    "filelist = glob.glob(file_pattern,root_dir = './ckpts')\n",
    "filelist = sorted(filelist)\n",
    "for i, f in enumerate(filelist):\n",
    "    print(f\" {i:3d} :  {f}\")\n",
    "# epochlist =sorted([int(x[-6:-3]) for x in filelist])\n",
    "# epochlist\n",
    "# epochlist = [350]"
   ]
  },
  {
   "cell_type": "markdown",
   "id": "2c9637c3-c219-4b0a-87e2-7168fc13e03d",
   "metadata": {
    "execution": {
     "iopub.execute_input": "2024-09-05T15:27:32.118811Z",
     "iopub.status.busy": "2024-09-05T15:27:32.118265Z",
     "iopub.status.idle": "2024-09-05T15:27:32.952542Z",
     "shell.execute_reply": "2024-09-05T15:27:32.951369Z",
     "shell.execute_reply.started": "2024-09-05T15:27:32.118768Z"
    }
   },
   "source": [
    "# Load model checkpoint "
   ]
  },
  {
   "cell_type": "code",
   "execution_count": 61,
   "id": "32e5396e-e13b-4a8d-ac2c-086a8f1cc1e4",
   "metadata": {
    "execution": {
     "iopub.execute_input": "2024-09-05T16:14:27.748007Z",
     "iopub.status.busy": "2024-09-05T16:14:27.747420Z",
     "iopub.status.idle": "2024-09-05T16:14:27.796239Z",
     "shell.execute_reply": "2024-09-05T16:14:27.795464Z",
     "shell.execute_reply.started": "2024-09-05T16:14:27.747945Z"
    }
   },
   "outputs": [
    {
     "name": "stdout",
     "output_type": "stream",
     "text": [
      "AE_snnl_dcpb200_150Ltnt_512_20240904_2356_ep_400.pt\n"
     ]
    }
   ],
   "source": [
    "args.ckpt = filelist[5]\n",
    "print(args.ckpt)"
   ]
  },
  {
   "cell_type": "code",
   "execution_count": 62,
   "id": "638212c7-de9d-4a73-bcbd-39c1db4bb15b",
   "metadata": {
    "execution": {
     "iopub.execute_input": "2024-09-05T16:14:28.784358Z",
     "iopub.status.busy": "2024-09-05T16:14:28.783815Z",
     "iopub.status.idle": "2024-09-05T16:14:28.908432Z",
     "shell.execute_reply": "2024-09-05T16:14:28.907676Z",
     "shell.execute_reply.started": "2024-09-05T16:14:28.784319Z"
    }
   },
   "outputs": [
    {
     "name": "stderr",
     "output_type": "stream",
     "text": [
      "2024-09-05 18:14:28,832 - root - INFO: - Load model checkpoint from  AE_snnl_dcpb200_150Ltnt_512_20240904_2356_ep_400.pt\n",
      "2024-09-05 18:14:28,896 - snnl.utils.utils_ptsnnl - INFO: -  Loaded from checkpoint AE_snnl_dcpb200_150Ltnt_512_20240904_2356_ep_400.pt successfully. last epoch on checkpoint: 400\n",
      "2024-09-05 18:14:28,896 - snnl.utils.utils_ptsnnl - INFO: -  Model best training metric   : 0.477160 - epoch: 11\n",
      "2024-09-05 18:14:28,897 - snnl.utils.utils_ptsnnl - INFO: -  Model best validation metric : 0.475218 - epoch: 12\n",
      "2024-09-05 18:14:28,903 - root - INFO: -  Loaded Model device cuda:1 -  Last completed epoch : 400\n"
     ]
    },
    {
     "name": "stdout",
     "output_type": "stream",
     "text": [
      "1- args.current_device: cuda:1   model.device:cuda:0\n",
      "2- args.current_device: cuda:1   model.device:cuda:1\n"
     ]
    }
   ],
   "source": [
    "if args.ckpt is not None:\n",
    "    model, last_epoch = args.load_checkpoint(model, args.ckpt, verbose = False)\n",
    "    model = model.eval();\n",
    "    print(f\"1- args.current_device: {args.current_device}   model.device:{model.device}\")\n",
    "    model.device = args.current_device\n",
    "    model = model.to(device=args.current_device)\n",
    "    logging.info(f\" Loaded Model device {model.device} -  Last completed epoch : {last_epoch}\")\n",
    "else:\n",
    "    logging.info(f\" ERROR - Checkpoint not found  \")\n",
    "print(f\"2- args.current_device: {args.current_device}   model.device:{model.device}\")"
   ]
  },
  {
   "cell_type": "code",
   "execution_count": 63,
   "id": "8a4463e9-61e0-4b90-948b-e1dfaf0eb14c",
   "metadata": {
    "execution": {
     "iopub.execute_input": "2024-09-05T16:14:30.770423Z",
     "iopub.status.busy": "2024-09-05T16:14:30.769588Z",
     "iopub.status.idle": "2024-09-05T16:14:30.818358Z",
     "shell.execute_reply": "2024-09-05T16:14:30.817642Z",
     "shell.execute_reply.started": "2024-09-05T16:14:30.770380Z"
    },
    "scrolled": true
   },
   "outputs": [
    {
     "data": {
      "text/plain": [
       "0.001"
      ]
     },
     "execution_count": 63,
     "metadata": {},
     "output_type": "execute_result"
    }
   ],
   "source": [
    "# model = model.cuda(device=current_device)\n",
    "# display_model_hyperparameters(model)\n",
    "# display_model_hyperparameters(model,args)\n",
    "model.optimizers['prim'].param_groups[0]['weight_decay']"
   ]
  },
  {
   "cell_type": "code",
   "execution_count": 64,
   "id": "d116ac2b-6dd6-4b5c-b112-48c8dfadbfaf",
   "metadata": {
    "execution": {
     "iopub.execute_input": "2024-09-05T16:14:31.737978Z",
     "iopub.status.busy": "2024-09-05T16:14:31.737438Z",
     "iopub.status.idle": "2024-09-05T16:14:31.798510Z",
     "shell.execute_reply": "2024-09-05T16:14:31.797832Z",
     "shell.execute_reply.started": "2024-09-05T16:14:31.737934Z"
    },
    "scrolled": true
   },
   "outputs": [
    {
     "name": "stdout",
     "output_type": "stream",
     "text": [
      "  time   ep / eps |  Trn_loss   Primary      SNNL  |   temp*         grad    |   R2      BestEp         |  Vld_loss   Primary      SNNL  |   R2       BestEp          |   LR        temp LR    |\n",
      "------------------+--------------------------------+-------------------------+--------------------------+--------------------------------+----------------------------|------------------------|\n",
      "23:59:41  1 /400  | 162.6275     0.9563   161.6712 |   1.000000   0.0000e+00 | -17.0376    11           | 158.0361     0.6735   157.3625 |  -2.6621    12             |  1.000e-04   0.000e+00 |\n",
      "00:02:22  2 /400  | 156.0792     0.6235   155.4557 |   1.000000   0.0000e+00 |  -1.3357    11           | 155.3034     0.5652   154.7382 |  -0.4277    12             |  1.000e-04   0.000e+00 |\n",
      "00:05:06  3 /400  | 154.3656     0.5457   153.8199 |   1.000000   0.0000e+00 |  -0.1403    11           | 154.4167     0.5111   153.9056 |   0.1438    12             |  1.000e-04   0.000e+00 |\n",
      "00:07:49  4 /400  | 153.5239     0.5049   153.0189 |   1.000000   0.0000e+00 |   0.2286    11           | 153.8985     0.4845   153.4140 |   0.3281    12             |  1.000e-04   0.000e+00 |\n",
      "00:10:24  5 /400  | 152.9278     0.4855   152.4423 |   1.000000   0.0000e+00 |   0.3692    11           | 153.5222     0.4722   153.0500 |   0.4014    12             |  1.000e-04   0.000e+00 |\n",
      "00:13:01  6 /400  | 152.4380     0.4751   151.9629 |   1.000000   0.0000e+00 |   0.4287    11           | 153.2432     0.4650   152.7782 |   0.4410    12             |  1.000e-04   0.000e+00 |\n",
      "00:15:35  7 /400  | 152.0075     0.4690   151.5385 |   1.000000   0.0000e+00 |   0.4568    11           | 153.0274     0.4614   152.5660 |   0.4592    12             |  1.000e-04   0.000e+00 |\n",
      "00:18:09  8 /400  | 151.6143     0.4658   151.1485 |   1.000000   0.0000e+00 |   0.4702    11           | 152.8508     0.4592   152.3916 |   0.4680    12             |  1.000e-04   0.000e+00 |\n",
      "00:20:42  9 /400  | 151.2458     0.4644   150.7815 |   1.000000   0.0000e+00 |   0.4751    11           | 152.7126     0.4579   152.2546 |   0.4721    12             |  1.000e-04   0.000e+00 |\n",
      "00:23:17 10 /400  | 150.8982     0.4634   150.4348 |   1.000000   0.0000e+00 |   0.4772    11           | 152.6076     0.4575   152.1501 |   0.4743    12             |  1.000e-04   0.000e+00 |\n",
      "00:25:51 11 /400  | 150.5667     0.4635   150.1032 |   1.000000   0.0000e+00 |   0.4772    11           | 152.5413     0.4581   152.0833 |   0.4742    12             |  1.000e-04   0.000e+00 |\n",
      "00:28:25 12 /400  | 150.2488     0.4638   149.7849 |   1.000000   0.0000e+00 |   0.4765    11           | 152.5032     0.4581   152.0451 |   0.4752    12             |  1.000e-04   0.000e+00 |\n",
      "00:30:59 13 /400  | 149.9378     0.4647   149.4731 |   1.000000   0.0000e+00 |   0.4758    11           | 152.4918     0.4587   152.0330 |   0.4738    12             |  1.000e-04   0.000e+00 |\n",
      "00:33:33 14 /400  | 149.6350     0.4664   149.1686 |   1.000000   0.0000e+00 |   0.4737    11           | 152.4993     0.4606   152.0387 |   0.4722    12             |  1.000e-04   0.000e+00 |\n",
      "00:36:09 15 /400  | 149.3415     0.4689   148.8726 |   1.000000   0.0000e+00 |   0.4709    11           | 152.5101     0.4639   152.0463 |   0.4685    12             |  1.000e-04   0.000e+00 |\n",
      "00:38:43 16 /400  | 149.0589     0.4725   148.5863 |   1.000000   0.0000e+00 |   0.4669    11           | 152.5779     0.4683   152.1097 |   0.4642    12             |  1.000e-04   0.000e+00 |\n",
      "00:41:17 17 /400  | 148.7870     0.4766   148.3103 |   1.000000   0.0000e+00 |   0.4621    11           | 152.6630     0.4715   152.1915 |   0.4606    12             |  1.000e-04   0.000e+00 |\n",
      "00:43:50 18 /400  | 148.5437     0.4814   148.0623 |   1.000000   0.0000e+00 |   0.4575    11           | 152.7207     0.4756   152.2451 |   0.4589    12             |  1.000e-04   0.000e+00 |\n",
      "00:46:22 19 /400  | 148.3314     0.4856   147.8458 |   1.000000   0.0000e+00 |   0.4535    11           | 152.8038     0.4802   152.3237 |   0.4546    12             |  1.000e-04   0.000e+00 |\n",
      "00:48:54 20 /400  | 148.1907     0.4898   147.7009 |   1.000000   0.0000e+00 |   0.4487    11           | 152.9162     0.4843   152.4318 |   0.4513    12             |  1.000e-04   0.000e+00 |\n",
      "00:51:28 21 /400  | 148.2120     0.4925   147.7195 |   1.000000   0.0000e+00 |   0.4464    11           | 152.9288     0.4874   152.4415 |   0.4478    12             |  1.000e-04   0.000e+00 |\n",
      "00:54:00 22 /400  | 148.2551     0.4945   147.7606 |   1.000000   0.0000e+00 |   0.4442    11           | 152.8565     0.4898   152.3666 |   0.4437    12             |  1.000e-04   0.000e+00 |\n",
      "00:56:33 23 /400  | 148.1479     0.4974   147.6504 |   1.000000   0.0000e+00 |   0.4407    11           | 152.8425     0.4938   152.3487 |   0.4429    12             |  1.000e-04   0.000e+00 |\n",
      "00:59:05 24 /400  | 148.0330     0.5005   147.5326 |   1.000000   0.0000e+00 |   0.4383    11           | 152.8513     0.4971   152.3542 |   0.4398    12             |  1.000e-04   0.000e+00 |\n",
      "01:01:39 25 /400  | 147.8875     0.5029   147.3846 |   1.000000   0.0000e+00 |   0.4352    11           | 152.8834     0.4988   152.3846 |   0.4377    12             |  1.000e-04   0.000e+00 |\n",
      "01:04:12 26 /400  | 147.7773     0.5061   147.2712 |   1.000000   0.0000e+00 |   0.4320    11           | 152.8915     0.5015   152.3900 |   0.4355    12             |  1.000e-04   0.000e+00 |\n",
      "01:06:46 27 /400  | 147.7093     0.5093   147.2000 |   1.000000   0.0000e+00 |   0.4286    11           | 152.7889     0.5037   152.2852 |   0.4315    12             |  1.000e-04   0.000e+00 |\n",
      "01:09:19 28 /400  | 147.6623     0.5118   147.1505 |   1.000000   0.0000e+00 |   0.4261    11           | 152.7613     0.5067   152.2545 |   0.4282    12             |  1.000e-04   0.000e+00 |\n",
      "01:11:50 29 /400  | 147.5950     0.5140   147.0811 |   1.000000   0.0000e+00 |   0.4233    11           | 152.7992     0.5079   152.2914 |   0.4281    12             |  1.000e-04   0.000e+00 |\n",
      "01:14:21 30 /400  | 147.5527     0.5159   147.0367 |   1.000000   0.0000e+00 |   0.4223    11           | 152.9689     0.5095   152.4593 |   0.4258    12             |  1.000e-04   0.000e+00 |\n",
      "01:16:51 31 /400  | 147.4684     0.5178   146.9506 |   1.000000   0.0000e+00 |   0.4194    11           | 153.0773     0.5129   152.5644 |   0.4235    12             |  1.000e-04   0.000e+00 |\n",
      "01:19:21 32 /400  | 147.3494     0.5199   146.8295 |   1.000000   0.0000e+00 |   0.4173    11           | 153.0713     0.5156   152.5557 |   0.4220    12             |  1.000e-04   0.000e+00 |\n",
      "01:21:52 33 /400  | 147.2543     0.5224   146.7319 |   1.000000   0.0000e+00 |   0.4154    11           | 152.9850     0.5182   152.4669 |   0.4194    12             |  1.000e-04   0.000e+00 |\n",
      "01:24:21 34 /400  | 147.1834     0.5250   146.6584 |   1.000000   0.0000e+00 |   0.4127    11           | 153.0503     0.5205   152.5297 |   0.4158    12             |  1.000e-04   0.000e+00 |\n",
      "01:26:52 35 /400  | 147.1304     0.5275   146.6028 |   1.000000   0.0000e+00 |   0.4092    11           | 153.2267     0.5227   152.7040 |   0.4138    12             |  1.000e-04   0.000e+00 |\n",
      "01:29:21 36 /400  | 147.1372     0.5297   146.6076 |   1.000000   0.0000e+00 |   0.4075    11           | 153.5376     0.5245   153.0131 |   0.4122    12             |  1.000e-04   0.000e+00 |\n",
      "01:31:53 37 /400  | 147.1672     0.5313   146.6359 |   1.000000   0.0000e+00 |   0.4058    11           | 153.5638     0.5268   153.0370 |   0.4096    12             |  1.000e-04   0.000e+00 |\n",
      "01:34:23 38 /400  | 147.1746     0.5329   146.6416 |   1.000000   0.0000e+00 |   0.4045    11           | 153.2989     0.5254   152.7735 |   0.4095    12             |  1.000e-04   0.000e+00 |\n",
      "01:37:01 39 /400  | 147.1521     0.5344   146.6176 |   1.000000   0.0000e+00 |   0.4034    11           | 153.3658     0.5281   152.8377 |   0.4036    12             |  1.000e-04   0.000e+00 |\n",
      "01:39:36 40 /400  | 147.0822     0.5355   146.5468 |   1.000000   0.0000e+00 |   0.4018    11           | 153.2810     0.5304   152.7505 |   0.4020    12             |  1.000e-04   0.000e+00 |\n",
      "01:42:08 41 /400  | 146.9991     0.5365   146.4626 |   1.000000   0.0000e+00 |   0.4005    11           | 153.2522     0.5323   152.7199 |   0.4018    12             |  1.000e-04   0.000e+00 |\n",
      "01:44:40 42 /400  | 146.9498     0.5381   146.4117 |   1.000000   0.0000e+00 |   0.3983    11           | 153.1915     0.5336   152.6579 |   0.4015    12             |  1.000e-04   0.000e+00 |\n",
      "01:47:13 43 /400  | 146.8977     0.5396   146.3580 |   1.000000   0.0000e+00 |   0.3960    11           | 153.2440     0.5361   152.7079 |   0.3982    12             |  1.000e-04   0.000e+00 |\n",
      "01:49:46 44 /400  | 146.8563     0.5420   146.3143 |   1.000000   0.0000e+00 |   0.3932    11           | 153.2355     0.5365   152.6990 |   0.3981    12             |  1.000e-04   0.000e+00 |\n",
      "01:52:20 45 /400  | 146.8153     0.5436   146.2718 |   1.000000   0.0000e+00 |   0.3922    11           | 153.3065     0.5375   152.7690 |   0.3958    12             |  1.000e-04   0.000e+00 |\n",
      "01:54:53 46 /400  | 146.7864     0.5448   146.2416 |   1.000000   0.0000e+00 |   0.3909    11           | 153.4516     0.5378   152.9138 |   0.3962    12             |  1.000e-04   0.000e+00 |\n",
      "01:57:26 47 /400  | 146.7464     0.5460   146.2004 |   1.000000   0.0000e+00 |   0.3899    11           | 153.5283     0.5389   152.9895 |   0.3950    12             |  1.000e-04   0.000e+00 |\n",
      "02:00:00 48 /400  | 146.7155     0.5478   146.1677 |   1.000000   0.0000e+00 |   0.3881    11           | 153.5246     0.5414   152.9832 |   0.3930    12             |  1.000e-04   0.000e+00 |\n",
      "02:02:35 49 /400  | 146.6815     0.5493   146.1321 |   1.000000   0.0000e+00 |   0.3866    11           | 153.3792     0.5424   152.8368 |   0.3924    12             |  1.000e-04   0.000e+00 |\n",
      "02:05:09 50 /400  | 146.6461     0.5512   146.0949 |   1.000000   0.0000e+00 |   0.3842    11           | 153.3058     0.5433   152.7625 |   0.3924    12             |  1.000e-04   0.000e+00 |\n",
      "02:07:44 51 /400  | 146.6172     0.5526   146.0646 |   1.000000   0.0000e+00 |   0.3838    11           | 153.2776     0.5444   152.7332 |   0.3936    12             |  1.000e-04   0.000e+00 |\n",
      "02:10:18 52 /400  | 146.6117     0.5537   146.0579 |   1.000000   0.0000e+00 |   0.3833    11           | 153.2764     0.5433   152.7330 |   0.3951    12             |  1.000e-04   0.000e+00 |\n",
      "02:12:53 53 /400  | 146.6275     0.5552   146.0723 |   1.000000   0.0000e+00 |   0.3816    11           | 153.2435     0.5474   152.6960 |   0.3905    12             |  1.000e-04   0.000e+00 |\n",
      "02:15:26 54 /400  | 146.6179     0.5561   146.0619 |   1.000000   0.0000e+00 |   0.3806    11           | 153.1988     0.5491   152.6496 |   0.3879    12             |  1.000e-04   0.000e+00 |\n",
      "02:17:59 55 /400  | 146.5944     0.5573   146.0371 |   1.000000   0.0000e+00 |   0.3790    11           | 153.1584     0.5523   152.6060 |   0.3849    12             |  1.000e-04   0.000e+00 |\n",
      "02:20:33 56 /400  | 146.5574     0.5579   145.9995 |   1.000000   0.0000e+00 |   0.3779    11           | 153.1031     0.5538   152.5494 |   0.3832    12             |  1.000e-04   0.000e+00 |\n",
      "02:23:06 57 /400  | 146.4975     0.5587   145.9388 |   1.000000   0.0000e+00 |   0.3772    11           | 153.1808     0.5538   152.6270 |   0.3836    12             |  1.000e-04   0.000e+00 |\n",
      "02:25:40 58 /400  | 146.4528     0.5599   145.8930 |   1.000000   0.0000e+00 |   0.3768    11           | 153.1772     0.5557   152.6215 |   0.3811    12             |  1.000e-04   0.000e+00 |\n",
      "02:28:03 59 /400  | 146.4070     0.5608   145.8462 |   1.000000   0.0000e+00 |   0.3759    11           | 153.1807     0.5562   152.6246 |   0.3803    12             |  1.000e-04   0.000e+00 |\n",
      "02:30:25 60 /400  | 146.3742     0.5620   145.8122 |   1.000000   0.0000e+00 |   0.3737    11           | 153.1469     0.5594   152.5876 |   0.3773    12             |  1.000e-04   0.000e+00 |\n",
      "02:32:43 61 /400  | 146.3689     0.5630   145.8059 |   1.000000   0.0000e+00 |   0.3724    11           | 153.1933     0.5600   152.6333 |   0.3783    12             |  1.000e-04   0.000e+00 |\n",
      "02:34:59 62 /400  | 146.4481     0.5583   145.8898 |   1.000000   0.0000e+00 |   0.3852    11           | 153.0654     0.5523   152.5131 |   0.3898    12             |  5.000e-05   0.000e+00 |\n",
      "02:37:15 63 /400  | 146.2085     0.5581   145.6504 |   1.000000   0.0000e+00 |   0.3850    11           | 153.1119     0.5533   152.5585 |   0.3886    12             |  5.000e-05   0.000e+00 |\n",
      "02:39:31 64 /400  | 146.0791     0.5590   145.5201 |   1.000000   0.0000e+00 |   0.3838    11           | 153.1600     0.5544   152.6055 |   0.3876    12             |  5.000e-05   0.000e+00 |\n",
      "02:41:47 65 /400  | 145.9979     0.5600   145.4379 |   1.000000   0.0000e+00 |   0.3828    11           | 153.2147     0.5555   152.6592 |   0.3865    12             |  5.000e-05   0.000e+00 |\n",
      "02:44:04 66 /400  | 145.9397     0.5611   145.3786 |   1.000000   0.0000e+00 |   0.3818    11           | 153.2415     0.5566   152.6849 |   0.3854    12             |  5.000e-05   0.000e+00 |\n",
      "02:46:21 67 /400  | 145.8959     0.5621   145.3339 |   1.000000   0.0000e+00 |   0.3807    11           | 153.2737     0.5575   152.7163 |   0.3841    12             |  5.000e-05   0.000e+00 |\n",
      "02:48:37 68 /400  | 145.8628     0.5632   145.2995 |   1.000000   0.0000e+00 |   0.3795    11           | 153.2866     0.5587   152.7278 |   0.3829    12             |  5.000e-05   0.000e+00 |\n",
      "02:50:54 69 /400  | 145.8383     0.5643   145.2740 |   1.000000   0.0000e+00 |   0.3785    11           | 153.3433     0.5597   152.7836 |   0.3816    12             |  5.000e-05   0.000e+00 |\n",
      "02:53:11 70 /400  | 145.8246     0.5657   145.2589 |   1.000000   0.0000e+00 |   0.3771    11           | 153.3574     0.5610   152.7964 |   0.3809    12             |  5.000e-05   0.000e+00 |\n",
      "02:55:27 71 /400  | 145.8178     0.5666   145.2513 |   1.000000   0.0000e+00 |   0.3762    11           | 153.3773     0.5621   152.8152 |   0.3795    12             |  5.000e-05   0.000e+00 |\n",
      "02:57:44 72 /400  | 145.8118     0.5677   145.2441 |   1.000000   0.0000e+00 |   0.3752    11           | 153.3951     0.5630   152.8321 |   0.3790    12             |  5.000e-05   0.000e+00 |\n",
      "03:00:01 73 /400  | 145.8059     0.5688   145.2371 |   1.000000   0.0000e+00 |   0.3738    11           | 153.3870     0.5639   152.8231 |   0.3776    12             |  5.000e-05   0.000e+00 |\n",
      "03:02:19 74 /400  | 136.4425     0.5744   135.8681 |   0.683020   0.0000e+00 |   0.3684    11           | 147.2928     0.5703   146.7225 |   0.3720    12             |  5.000e-05   0.000e+00 |\n",
      "03:04:36 75 /400  | 136.4565     0.5762   135.8803 |   0.683020   0.0000e+00 |   0.3661    11           | 147.3048     0.5706   146.7342 |   0.3707    12             |  5.000e-05   0.000e+00 |\n",
      "03:06:53 76 /400  | 136.3238     0.5782   135.7457 |   0.683020   0.0000e+00 |   0.3643    11           | 147.3772     0.5737   146.8035 |   0.3676    12             |  5.000e-05   0.000e+00 |\n",
      "03:09:09 77 /400  | 136.2284     0.5801   135.6483 |   0.683020   0.0000e+00 |   0.3624    11           | 147.3957     0.5760   146.8197 |   0.3654    12             |  5.000e-05   0.000e+00 |\n",
      "03:11:26 78 /400  | 136.1755     0.5820   135.5935 |   0.683020   0.0000e+00 |   0.3605    11           | 147.4638     0.5778   146.8861 |   0.3630    12             |  5.000e-05   0.000e+00 |\n",
      "03:13:42 79 /400  | 136.1525     0.5838   135.5687 |   0.683020   0.0000e+00 |   0.3586    11           | 147.4921     0.5793   146.9128 |   0.3625    12             |  5.000e-05   0.000e+00 |\n",
      "03:15:58 80 /400  | 136.1313     0.5856   135.5457 |   0.683020   0.0000e+00 |   0.3569    11           | 147.5899     0.5810   147.0090 |   0.3608    12             |  5.000e-05   0.000e+00 |\n",
      "03:18:16 81 /400  | 136.1142     0.5873   135.5269 |   0.683020   0.0000e+00 |   0.3553    11           | 147.6186     0.5825   147.0361 |   0.3597    12             |  5.000e-05   0.000e+00 |\n",
      "03:20:33 82 /400  | 136.0955     0.5889   135.5067 |   0.683020   0.0000e+00 |   0.3537    11           | 147.6455     0.5849   147.0607 |   0.3567    12             |  5.000e-05   0.000e+00 |\n",
      "03:22:49 83 /400  | 136.0825     0.5909   135.4917 |   0.683020   0.0000e+00 |   0.3514    11           | 147.5906     0.5856   147.0050 |   0.3555    12             |  5.000e-05   0.000e+00 |\n",
      "03:25:05 84 /400  | 136.0634     0.5924   135.4710 |   0.683020   0.0000e+00 |   0.3498    11           | 147.6405     0.5864   147.0541 |   0.3551    12             |  5.000e-05   0.000e+00 |\n",
      "03:27:20 85 /400  | 136.0476     0.5941   135.4535 |   0.683020   0.0000e+00 |   0.3478    11           | 147.7475     0.5882   147.1593 |   0.3537    12             |  5.000e-05   0.000e+00 |\n",
      "03:29:37 86 /400  | 136.0325     0.5955   135.4370 |   0.683020   0.0000e+00 |   0.3465    11           | 147.8003     0.5909   147.2094 |   0.3508    12             |  5.000e-05   0.000e+00 |\n",
      "03:31:54 87 /400  | 136.0275     0.5972   135.4303 |   0.683020   0.0000e+00 |   0.3447    11           | 147.8343     0.5925   147.2417 |   0.3482    12             |  5.000e-05   0.000e+00 |\n",
      "03:34:11 88 /400  | 136.0260     0.5986   135.4274 |   0.683020   0.0000e+00 |   0.3429    11           | 147.9566     0.5937   147.3628 |   0.3470    12             |  5.000e-05   0.000e+00 |\n",
      "03:36:27 89 /400  | 136.0190     0.6001   135.4189 |   0.683020   0.0000e+00 |   0.3415    11           | 148.1125     0.5961   147.5165 |   0.3453    12             |  5.000e-05   0.000e+00 |\n",
      "03:38:44 90 /400  | 136.0014     0.6016   135.3998 |   0.683020   0.0000e+00 |   0.3405    11           | 148.0740     0.5960   147.4780 |   0.3458    12             |  5.000e-05   0.000e+00 |\n",
      "03:41:01 91 /400  | 135.9706     0.6031   135.3675 |   0.683020   0.0000e+00 |   0.3388    11           | 148.0069     0.5965   147.4104 |   0.3460    12             |  5.000e-05   0.000e+00 |\n",
      "03:43:16 92 /400  | 135.9422     0.6043   135.3379 |   0.683020   0.0000e+00 |   0.3377    11           | 147.9775     0.5966   147.3809 |   0.3455    12             |  5.000e-05   0.000e+00 |\n",
      "03:45:33 93 /400  | 135.9010     0.6054   135.2956 |   0.683020   0.0000e+00 |   0.3365    11           | 147.9954     0.5978   147.3976 |   0.3449    12             |  5.000e-05   0.000e+00 |\n",
      "03:47:50 94 /400  | 135.8670     0.6066   135.2604 |   0.683020   0.0000e+00 |   0.3348    11           | 148.0102     0.5998   147.4103 |   0.3432    12             |  5.000e-05   0.000e+00 |\n",
      "03:50:08 95 /400  | 135.8224     0.6077   135.2147 |   0.683020   0.0000e+00 |   0.3334    11           | 148.0780     0.6020   147.4760 |   0.3410    12             |  5.000e-05   0.000e+00 |\n",
      "03:52:25 96 /400  | 135.7765     0.6088   135.1678 |   0.683020   0.0000e+00 |   0.3324    11           | 148.1266     0.6044   147.5222 |   0.3389    12             |  5.000e-05   0.000e+00 |\n",
      "03:54:41 97 /400  | 135.7342     0.6100   135.1243 |   0.683020   0.0000e+00 |   0.3316    11           | 148.1937     0.6067   147.5870 |   0.3369    12             |  5.000e-05   0.000e+00 |\n",
      "03:56:57 98 /400  | 135.6837     0.6113   135.0724 |   0.683020   0.0000e+00 |   0.3304    11           | 148.2496     0.6092   147.6403 |   0.3343    12             |  5.000e-05   0.000e+00 |\n",
      "03:59:12 99 /400  | 135.6483     0.6125   135.0358 |   0.683020   0.0000e+00 |   0.3295    11           | 148.2376     0.6106   147.6270 |   0.3329    12             |  5.000e-05   0.000e+00 |\n",
      "04:01:29 100/400  | 135.6101     0.6136   134.9965 |   0.683020   0.0000e+00 |   0.3282    11           | 148.2590     0.6112   147.6478 |   0.3326    12             |  5.000e-05   0.000e+00 |\n",
      "04:03:46 101/400  | 135.5804     0.6148   134.9656 |   0.683020   0.0000e+00 |   0.3275    11           | 148.2915     0.6122   147.6793 |   0.3316    12             |  5.000e-05   0.000e+00 |\n",
      "04:06:02 102/400  | 135.5489     0.6160   134.9329 |   0.683020   0.0000e+00 |   0.3261    11           | 148.2782     0.6134   147.6647 |   0.3300    12             |  5.000e-05   0.000e+00 |\n",
      "04:08:19 103/400  | 135.5226     0.6172   134.9054 |   0.683020   0.0000e+00 |   0.3247    11           | 148.3331     0.6141   147.7190 |   0.3295    12             |  5.000e-05   0.000e+00 |\n",
      "04:10:37 104/400  | 135.4941     0.6184   134.8757 |   0.683020   0.0000e+00 |   0.3235    11           | 148.3354     0.6153   147.7201 |   0.3283    12             |  5.000e-05   0.000e+00 |\n",
      "04:12:53 105/400  | 128.6248     0.6210   128.0038 |   0.546491   0.0000e+00 |   0.3209    11           | 144.5625     0.6186   143.9439 |   0.3247    12             |  5.000e-05   0.000e+00 |\n",
      "04:15:10 106/400  | 128.6659     0.6227   128.0432 |   0.546491   0.0000e+00 |   0.3189    11           | 144.6757     0.6179   144.0577 |   0.3254    12             |  5.000e-05   0.000e+00 |\n",
      "04:17:26 107/400  | 128.6289     0.6240   128.0049 |   0.546491   0.0000e+00 |   0.3180    11           | 144.8145     0.6191   144.1953 |   0.3230    12             |  5.000e-05   0.000e+00 |\n",
      "04:19:43 108/400  | 128.5904     0.6255   127.9650 |   0.546491   0.0000e+00 |   0.3158    11           | 144.8872     0.6202   144.2670 |   0.3220    12             |  5.000e-05   0.000e+00 |\n",
      "04:22:01 109/400  | 128.5785     0.6267   127.9518 |   0.546491   0.0000e+00 |   0.3152    11           | 144.9812     0.6204   144.3607 |   0.3215    12             |  5.000e-05   0.000e+00 |\n",
      "04:24:17 110/400  | 128.5912     0.6277   127.9636 |   0.546491   0.0000e+00 |   0.3139    11           | 144.9599     0.6207   144.3392 |   0.3212    12             |  5.000e-05   0.000e+00 |\n",
      "04:26:33 111/400  | 128.6149     0.6284   127.9865 |   0.546491   0.0000e+00 |   0.3136    11           | 145.0174     0.6237   144.3938 |   0.3186    12             |  5.000e-05   0.000e+00 |\n",
      "04:28:53 112/400  | 128.5923     0.6289   127.9634 |   0.546491   0.0000e+00 |   0.3127    11           | 145.0375     0.6242   144.4133 |   0.3183    12             |  5.000e-05   0.000e+00 |\n",
      "04:31:10 113/400  | 128.4974     0.6300   127.8674 |   0.546491   0.0000e+00 |   0.3115    11           | 145.0182     0.6246   144.3935 |   0.3171    12             |  5.000e-05   0.000e+00 |\n",
      "04:33:28 114/400  | 128.3923     0.6310   127.7612 |   0.546491   0.0000e+00 |   0.3107    11           | 145.0591     0.6239   144.4352 |   0.3172    12             |  5.000e-05   0.000e+00 |\n",
      "04:35:44 115/400  | 128.3016     0.6323   127.6693 |   0.546491   0.0000e+00 |   0.3095    11           | 145.1297     0.6250   144.5047 |   0.3161    12             |  5.000e-05   0.000e+00 |\n",
      "04:38:01 116/400  | 128.2324     0.6333   127.5991 |   0.546491   0.0000e+00 |   0.3086    11           | 145.1754     0.6252   144.5501 |   0.3156    12             |  5.000e-05   0.000e+00 |\n",
      "04:40:19 117/400  | 128.1671     0.6344   127.5328 |   0.546491   0.0000e+00 |   0.3077    11           | 145.3640     0.6274   144.7365 |   0.3131    12             |  5.000e-05   0.000e+00 |\n",
      "04:42:35 118/400  | 128.1145     0.6355   127.4790 |   0.546491   0.0000e+00 |   0.3063    11           | 145.4150     0.6281   144.7869 |   0.3128    12             |  5.000e-05   0.000e+00 |\n",
      "04:44:53 119/400  | 128.0740     0.6367   127.4373 |   0.546491   0.0000e+00 |   0.3054    11           | 145.5085     0.6301   144.8784 |   0.3108    12             |  5.000e-05   0.000e+00 |\n",
      "04:47:10 120/400  | 128.0590     0.6377   127.4213 |   0.546491   0.0000e+00 |   0.3037    11           | 145.5669     0.6296   144.9373 |   0.3108    12             |  5.000e-05   0.000e+00 |\n",
      "04:49:27 121/400  | 128.0378     0.6385   127.3992 |   0.546491   0.0000e+00 |   0.3030    11           | 145.7425     0.6317   145.1108 |   0.3092    12             |  5.000e-05   0.000e+00 |\n",
      "04:51:43 122/400  | 128.0252     0.6395   127.3857 |   0.546491   0.0000e+00 |   0.3020    11           | 145.8408     0.6307   145.2102 |   0.3095    12             |  5.000e-05   0.000e+00 |\n",
      "04:54:00 123/400  | 128.3606     0.6372   127.7234 |   0.546491   0.0000e+00 |   0.3086    11           | 145.2257     0.6264   144.5993 |   0.3152    12             |  2.500e-05   0.000e+00 |\n",
      "04:56:16 124/400  | 128.1397     0.6373   127.5023 |   0.546491   0.0000e+00 |   0.3080    11           | 145.2586     0.6270   144.6316 |   0.3144    12             |  2.500e-05   0.000e+00 |\n",
      "04:58:32 125/400  | 127.9630     0.6379   127.3251 |   0.546491   0.0000e+00 |   0.3073    11           | 145.3615     0.6274   144.7341 |   0.3139    12             |  2.500e-05   0.000e+00 |\n",
      "05:00:49 126/400  | 127.8373     0.6386   127.1987 |   0.546491   0.0000e+00 |   0.3064    11           | 145.4859     0.6282   144.8577 |   0.3131    12             |  2.500e-05   0.000e+00 |\n",
      "05:03:06 127/400  | 127.7385     0.6394   127.0991 |   0.546491   0.0000e+00 |   0.3055    11           | 145.5652     0.6292   144.9360 |   0.3122    12             |  2.500e-05   0.000e+00 |\n",
      "05:05:22 128/400  | 127.6574     0.6403   127.0171 |   0.546491   0.0000e+00 |   0.3046    11           | 145.6831     0.6296   145.0535 |   0.3117    12             |  2.500e-05   0.000e+00 |\n",
      "05:07:39 129/400  | 127.5910     0.6412   126.9499 |   0.546491   0.0000e+00 |   0.3037    11           | 145.7615     0.6305   145.1310 |   0.3108    12             |  2.500e-05   0.000e+00 |\n",
      "05:09:56 130/400  | 127.5384     0.6420   126.8965 |   0.546491   0.0000e+00 |   0.3029    11           | 145.8463     0.6313   145.2150 |   0.3099    12             |  2.500e-05   0.000e+00 |\n",
      "05:12:13 131/400  | 127.4981     0.6427   126.8554 |   0.546491   0.0000e+00 |   0.3021    11           | 145.9347     0.6320   145.3027 |   0.3093    12             |  2.500e-05   0.000e+00 |\n",
      "05:14:29 132/400  | 127.4585     0.6435   126.8150 |   0.546491   0.0000e+00 |   0.3012    11           | 145.9740     0.6329   145.3411 |   0.3083    12             |  2.500e-05   0.000e+00 |\n",
      "05:16:48 133/400  | 127.4223     0.6443   126.7780 |   0.546491   0.0000e+00 |   0.3004    11           | 146.0624     0.6334   145.4290 |   0.3077    12             |  2.500e-05   0.000e+00 |\n",
      "05:19:07 134/400  | 127.3979     0.6450   126.7528 |   0.546491   0.0000e+00 |   0.2996    11           | 146.1025     0.6343   145.4681 |   0.3068    12             |  2.500e-05   0.000e+00 |\n",
      "05:21:24 135/400  | 127.3764     0.6457   126.7307 |   0.546491   0.0000e+00 |   0.2990    11           | 146.1341     0.6350   145.4991 |   0.3061    12             |  2.500e-05   0.000e+00 |\n",
      "05:23:40 136/400  | 121.8564     0.6468   121.2096 |   0.466516   0.0000e+00 |   0.2977    11           | 143.7030     0.6361   143.0669 |   0.3051    12             |  2.500e-05   0.000e+00 |\n",
      "05:25:58 137/400  | 121.8627     0.6477   121.2150 |   0.466516   0.0000e+00 |   0.2969    11           | 143.7375     0.6370   143.1005 |   0.3039    12             |  2.500e-05   0.000e+00 |\n",
      "05:28:15 138/400  | 121.8336     0.6483   121.1853 |   0.466516   0.0000e+00 |   0.2960    11           | 143.7932     0.6373   143.1559 |   0.3035    12             |  2.500e-05   0.000e+00 |\n",
      "05:30:33 139/400  | 121.8084     0.6491   121.1593 |   0.466516   0.0000e+00 |   0.2954    11           | 143.8730     0.6390   143.2340 |   0.3020    12             |  2.500e-05   0.000e+00 |\n",
      "05:32:51 140/400  | 121.7849     0.6498   121.1350 |   0.466516   0.0000e+00 |   0.2944    11           | 143.9564     0.6397   143.3168 |   0.3012    12             |  2.500e-05   0.000e+00 |\n",
      "05:35:07 141/400  | 121.8000     0.6504   121.1496 |   0.466516   0.0000e+00 |   0.2938    11           | 144.0195     0.6397   143.3798 |   0.3010    12             |  2.500e-05   0.000e+00 |\n",
      "05:37:25 142/400  | 121.8816     0.6506   121.2310 |   0.466516   0.0000e+00 |   0.2936    11           | 143.8553     0.6411   143.2142 |   0.3000    12             |  2.500e-05   0.000e+00 |\n",
      "05:39:42 143/400  | 121.9237     0.6508   121.2728 |   0.466516   0.0000e+00 |   0.2931    11           | 143.8717     0.6418   143.2299 |   0.2992    12             |  2.500e-05   0.000e+00 |\n",
      "05:41:59 144/400  | 121.9846     0.6509   121.3337 |   0.466516   0.0000e+00 |   0.2932    11           | 143.8854     0.6417   143.2437 |   0.2994    12             |  2.500e-05   0.000e+00 |\n",
      "05:44:17 145/400  | 121.9866     0.6510   121.3356 |   0.466516   0.0000e+00 |   0.2930    11           | 143.8451     0.6412   143.2039 |   0.2997    12             |  2.500e-05   0.000e+00 |\n",
      "05:46:35 146/400  | 121.8978     0.6516   121.2462 |   0.466516   0.0000e+00 |   0.2923    11           | 143.9054     0.6427   143.2628 |   0.2981    12             |  2.500e-05   0.000e+00 |\n",
      "05:48:51 147/400  | 121.8362     0.6523   121.1839 |   0.466516   0.0000e+00 |   0.2916    11           | 143.9671     0.6431   143.3240 |   0.2975    12             |  2.500e-05   0.000e+00 |\n",
      "05:51:09 148/400  | 121.7964     0.6531   121.1433 |   0.466516   0.0000e+00 |   0.2909    11           | 144.0831     0.6445   143.4386 |   0.2960    12             |  2.500e-05   0.000e+00 |\n",
      "05:53:26 149/400  | 121.7590     0.6538   121.1052 |   0.466516   0.0000e+00 |   0.2901    11           | 144.1838     0.6453   143.5385 |   0.2953    12             |  2.500e-05   0.000e+00 |\n",
      "05:55:43 150/400  | 121.7313     0.6545   121.0768 |   0.466516   0.0000e+00 |   0.2895    11           | 144.2455     0.6464   143.5990 |   0.2940    12             |  2.500e-05   0.000e+00 |\n",
      "05:58:00 151/400  | 121.7111     0.6552   121.0559 |   0.466516   0.0000e+00 |   0.2886    11           | 144.3037     0.6474   143.6563 |   0.2931    12             |  2.500e-05   0.000e+00 |\n",
      "06:00:18 152/400  | 121.7058     0.6558   121.0500 |   0.466516   0.0000e+00 |   0.2880    11           | 144.2506     0.6476   143.6030 |   0.2928    12             |  2.500e-05   0.000e+00 |\n",
      "06:02:35 153/400  | 121.6860     0.6564   121.0295 |   0.466516   0.0000e+00 |   0.2874    11           | 144.3606     0.6495   143.7111 |   0.2910    12             |  2.500e-05   0.000e+00 |\n",
      "06:04:52 154/400  | 121.7011     0.6569   121.0442 |   0.466516   0.0000e+00 |   0.2869    11           | 144.3117     0.6493   143.6624 |   0.2911    12             |  2.500e-05   0.000e+00 |\n",
      "06:07:09 155/400  | 121.7058     0.6574   121.0484 |   0.466516   0.0000e+00 |   0.2862    11           | 144.3330     0.6498   143.6832 |   0.2907    12             |  2.500e-05   0.000e+00 |\n",
      "06:09:26 156/400  | 121.6999     0.6579   121.0420 |   0.466516   0.0000e+00 |   0.2858    11           | 144.2864     0.6502   143.6362 |   0.2903    12             |  2.500e-05   0.000e+00 |\n",
      "06:11:44 157/400  | 121.7484     0.6584   121.0900 |   0.466516   0.0000e+00 |   0.2853    11           | 144.1743     0.6501   143.5242 |   0.2905    12             |  2.500e-05   0.000e+00 |\n",
      "06:14:00 158/400  | 121.8059     0.6586   121.1473 |   0.466516   0.0000e+00 |   0.2852    11           | 144.0007     0.6495   143.3513 |   0.2913    12             |  2.500e-05   0.000e+00 |\n",
      "06:16:18 159/400  | 121.8298     0.6587   121.1711 |   0.466516   0.0000e+00 |   0.2849    11           | 144.1812     0.6500   143.5312 |   0.2906    12             |  2.500e-05   0.000e+00 |\n",
      "06:18:35 160/400  | 121.7716     0.6588   121.1128 |   0.466516   0.0000e+00 |   0.2849    11           | 144.4028     0.6507   143.7521 |   0.2900    12             |  2.500e-05   0.000e+00 |\n",
      "06:20:51 161/400  | 121.6678     0.6595   121.0084 |   0.466516   0.0000e+00 |   0.2841    11           | 144.5217     0.6521   143.8696 |   0.2886    12             |  2.500e-05   0.000e+00 |\n",
      "06:23:08 162/400  | 121.5771     0.6603   120.9168 |   0.466516   0.0000e+00 |   0.2833    11           | 144.5727     0.6524   143.9202 |   0.2881    12             |  2.500e-05   0.000e+00 |\n",
      "06:25:25 163/400  | 121.5124     0.6612   120.8512 |   0.466516   0.0000e+00 |   0.2822    11           | 144.5709     0.6534   143.9175 |   0.2871    12             |  2.500e-05   0.000e+00 |\n",
      "06:27:42 164/400  | 121.4685     0.6621   120.8064 |   0.466516   0.0000e+00 |   0.2814    11           | 144.6641     0.6535   144.0107 |   0.2870    12             |  2.500e-05   0.000e+00 |\n",
      "06:30:00 165/400  | 121.4312     0.6628   120.7684 |   0.466516   0.0000e+00 |   0.2806    11           | 144.6725     0.6541   144.0184 |   0.2862    12             |  2.500e-05   0.000e+00 |\n",
      "06:32:17 166/400  | 121.4149     0.6636   120.7513 |   0.466516   0.0000e+00 |   0.2799    11           | 144.6951     0.6544   144.0407 |   0.2859    12             |  2.500e-05   0.000e+00 |\n",
      "06:34:34 167/400  | 116.8700     0.6645   116.2055 |   0.412635   0.0000e+00 |   0.2792    11           | 142.9706     0.6557   142.3149 |   0.2849    12             |  2.500e-05   0.000e+00 |\n",
      "06:36:51 168/400  | 116.8855     0.6653   116.2202 |   0.412635   0.0000e+00 |   0.2782    11           | 142.9207     0.6559   142.2647 |   0.2846    12             |  2.500e-05   0.000e+00 |\n",
      "06:39:09 169/400  | 116.8872     0.6661   116.2211 |   0.412635   0.0000e+00 |   0.2775    11           | 142.9538     0.6573   142.2965 |   0.2833    12             |  2.500e-05   0.000e+00 |\n",
      "06:41:25 170/400  | 116.8098     0.6668   116.1430 |   0.412635   0.0000e+00 |   0.2768    11           | 142.9247     0.6579   142.2668 |   0.2828    12             |  2.500e-05   0.000e+00 |\n",
      "06:43:42 171/400  | 116.7764     0.6675   116.1089 |   0.412635   0.0000e+00 |   0.2759    11           | 143.0174     0.6590   142.3584 |   0.2816    12             |  2.500e-05   0.000e+00 |\n",
      "06:46:01 172/400  | 116.7682     0.6681   116.1000 |   0.412635   0.0000e+00 |   0.2755    11           | 143.0859     0.6590   142.4269 |   0.2815    12             |  2.500e-05   0.000e+00 |\n",
      "06:48:19 173/400  | 116.7630     0.6688   116.0942 |   0.412635   0.0000e+00 |   0.2746    11           | 143.1155     0.6599   142.4556 |   0.2806    12             |  2.500e-05   0.000e+00 |\n",
      "06:50:37 174/400  | 116.7665     0.6694   116.0971 |   0.412635   0.0000e+00 |   0.2741    11           | 143.0700     0.6603   142.4097 |   0.2802    12             |  2.500e-05   0.000e+00 |\n",
      "06:52:54 175/400  | 116.7859     0.6699   116.1161 |   0.412635   0.0000e+00 |   0.2736    11           | 143.1278     0.6604   142.4674 |   0.2801    12             |  2.500e-05   0.000e+00 |\n",
      "06:55:11 176/400  | 116.7916     0.6701   116.1214 |   0.412635   0.0000e+00 |   0.2734    11           | 143.1092     0.6609   142.4483 |   0.2797    12             |  2.500e-05   0.000e+00 |\n",
      "06:57:28 177/400  | 116.8202     0.6707   116.1495 |   0.412635   0.0000e+00 |   0.2729    11           | 143.1750     0.6613   142.5137 |   0.2793    12             |  2.500e-05   0.000e+00 |\n",
      "06:59:45 178/400  | 116.8934     0.6709   116.2226 |   0.412635   0.0000e+00 |   0.2726    11           | 143.1754     0.6613   142.5141 |   0.2792    12             |  2.500e-05   0.000e+00 |\n",
      "07:02:03 179/400  | 116.9803     0.6708   116.3095 |   0.412635   0.0000e+00 |   0.2729    11           | 143.2028     0.6618   142.5410 |   0.2793    12             |  2.500e-05   0.000e+00 |\n",
      "07:04:21 180/400  | 117.0592     0.6707   116.3885 |   0.412635   0.0000e+00 |   0.2731    11           | 143.2109     0.6613   142.5496 |   0.2796    12             |  2.500e-05   0.000e+00 |\n",
      "07:06:39 181/400  | 117.0245     0.6709   116.3536 |   0.412635   0.0000e+00 |   0.2727    11           | 143.2331     0.6606   142.5725 |   0.2803    12             |  2.500e-05   0.000e+00 |\n",
      "07:08:56 182/400  | 116.9208     0.6715   116.2493 |   0.412635   0.0000e+00 |   0.2721    11           | 143.1936     0.6607   142.5328 |   0.2800    12             |  2.500e-05   0.000e+00 |\n",
      "07:11:12 183/400  | 116.8169     0.6720   116.1449 |   0.412635   0.0000e+00 |   0.2714    11           | 143.2342     0.6608   142.5734 |   0.2800    12             |  2.500e-05   0.000e+00 |\n",
      "07:13:29 184/400  | 116.9219     0.6713   116.2507 |   0.412635   0.0000e+00 |   0.2739    11           | 142.5419     0.6596   141.8823 |   0.2810    12             |  1.250e-05   0.000e+00 |\n",
      "07:15:47 185/400  | 116.6954     0.6715   116.0238 |   0.412635   0.0000e+00 |   0.2734    11           | 142.7631     0.6604   142.1027 |   0.2800    12             |  1.250e-05   0.000e+00 |\n",
      "07:18:05 186/400  | 116.5674     0.6721   115.8953 |   0.412635   0.0000e+00 |   0.2727    11           | 142.8951     0.6608   142.2342 |   0.2795    12             |  1.250e-05   0.000e+00 |\n",
      "07:20:23 187/400  | 116.4844     0.6726   115.8118 |   0.412635   0.0000e+00 |   0.2720    11           | 143.0630     0.6616   142.4014 |   0.2788    12             |  1.250e-05   0.000e+00 |\n",
      "07:22:39 188/400  | 116.4176     0.6732   115.7444 |   0.412635   0.0000e+00 |   0.2714    11           | 143.1299     0.6619   142.4681 |   0.2783    12             |  1.250e-05   0.000e+00 |\n",
      "07:24:57 189/400  | 116.3811     0.6737   115.7074 |   0.412635   0.0000e+00 |   0.2708    11           | 143.2482     0.6628   142.5854 |   0.2775    12             |  1.250e-05   0.000e+00 |\n",
      "07:27:13 190/400  | 116.3476     0.6743   115.6733 |   0.412635   0.0000e+00 |   0.2702    11           | 143.2161     0.6629   142.5531 |   0.2773    12             |  1.250e-05   0.000e+00 |\n",
      "07:29:30 191/400  | 116.3357     0.6747   115.6610 |   0.412635   0.0000e+00 |   0.2697    11           | 143.2926     0.6635   142.6291 |   0.2767    12             |  1.250e-05   0.000e+00 |\n",
      "07:31:49 192/400  | 116.2945     0.6752   115.6193 |   0.412635   0.0000e+00 |   0.2692    11           | 143.3297     0.6636   142.6661 |   0.2764    12             |  1.250e-05   0.000e+00 |\n",
      "07:34:08 193/400  | 116.2808     0.6757   115.6051 |   0.412635   0.0000e+00 |   0.2687    11           | 143.3800     0.6643   142.7157 |   0.2758    12             |  1.250e-05   0.000e+00 |\n",
      "07:36:25 194/400  | 116.2492     0.6760   115.5732 |   0.412635   0.0000e+00 |   0.2683    11           | 143.3737     0.6646   142.7091 |   0.2753    12             |  1.250e-05   0.000e+00 |\n",
      "07:38:42 195/400  | 116.2348     0.6765   115.5584 |   0.412635   0.0000e+00 |   0.2679    11           | 143.4104     0.6650   142.7454 |   0.2750    12             |  1.250e-05   0.000e+00 |\n",
      "07:41:01 196/400  | 116.2060     0.6768   115.5292 |   0.412635   0.0000e+00 |   0.2675    11           | 143.4708     0.6656   142.8053 |   0.2744    12             |  1.250e-05   0.000e+00 |\n",
      "07:43:19 197/400  | 116.1927     0.6772   115.5155 |   0.412635   0.0000e+00 |   0.2670    11           | 143.4543     0.6654   142.7889 |   0.2745    12             |  1.250e-05   0.000e+00 |\n",
      "07:45:39 198/400  | 112.2875     0.6775   111.6100 |   0.373265   0.0000e+00 |   0.2668    11           | 142.1961     0.6661   141.5300 |   0.2739    12             |  1.250e-05   0.000e+00 |\n",
      "07:47:58 199/400  | 112.3076     0.6777   111.6298 |   0.373265   0.0000e+00 |   0.2665    11           | 142.2274     0.6661   141.5613 |   0.2738    12             |  1.250e-05   0.000e+00 |\n",
      "07:50:15 200/400  | 112.2780     0.6782   111.5998 |   0.373265   0.0000e+00 |   0.2660    11           | 142.2034     0.6664   141.5370 |   0.2735    12             |  1.250e-05   0.000e+00 |\n",
      "07:52:31 201/400  | 112.2404     0.6786   111.5619 |   0.373265   0.0000e+00 |   0.2656    11           | 142.2778     0.6672   141.6106 |   0.2726    12             |  1.250e-05   0.000e+00 |\n",
      "07:54:48 202/400  | 112.2094     0.6789   111.5306 |   0.373265   0.0000e+00 |   0.2653    11           | 142.3232     0.6673   141.6559 |   0.2726    12             |  1.250e-05   0.000e+00 |\n",
      "07:57:05 203/400  | 112.1951     0.6794   111.5157 |   0.373265   0.0000e+00 |   0.2648    11           | 142.3619     0.6679   141.6940 |   0.2719    12             |  1.250e-05   0.000e+00 |\n",
      "07:59:22 204/400  | 112.1863     0.6797   111.5066 |   0.373265   0.0000e+00 |   0.2644    11           | 142.3718     0.6683   141.7035 |   0.2715    12             |  1.250e-05   0.000e+00 |\n",
      "08:01:39 205/400  | 112.1641     0.6801   111.4840 |   0.373265   0.0000e+00 |   0.2640    11           | 142.3653     0.6687   141.6966 |   0.2711    12             |  1.250e-05   0.000e+00 |\n",
      "08:03:58 206/400  | 112.1562     0.6805   111.4757 |   0.373265   0.0000e+00 |   0.2636    11           | 142.4030     0.6691   141.7339 |   0.2707    12             |  1.250e-05   0.000e+00 |\n",
      "08:06:19 207/400  | 112.1358     0.6809   111.4549 |   0.373265   0.0000e+00 |   0.2632    11           | 142.4323     0.6695   141.7628 |   0.2702    12             |  1.250e-05   0.000e+00 |\n",
      "08:08:37 208/400  | 112.1256     0.6811   111.4444 |   0.373265   0.0000e+00 |   0.2630    11           | 142.4994     0.6698   141.8297 |   0.2700    12             |  1.250e-05   0.000e+00 |\n",
      "08:10:54 209/400  | 112.1033     0.6815   111.4219 |   0.373265   0.0000e+00 |   0.2626    11           | 142.4582     0.6703   141.7879 |   0.2694    12             |  1.250e-05   0.000e+00 |\n",
      "08:13:12 210/400  | 112.0921     0.6818   111.4102 |   0.373265   0.0000e+00 |   0.2623    11           | 142.5687     0.6709   141.8977 |   0.2689    12             |  1.250e-05   0.000e+00 |\n",
      "08:15:29 211/400  | 112.0723     0.6822   111.3901 |   0.373265   0.0000e+00 |   0.2620    11           | 142.5071     0.6710   141.8361 |   0.2686    12             |  1.250e-05   0.000e+00 |\n",
      "08:17:46 212/400  | 112.0530     0.6826   111.3704 |   0.373265   0.0000e+00 |   0.2615    11           | 142.6485     0.6715   141.9769 |   0.2682    12             |  1.250e-05   0.000e+00 |\n",
      "08:20:02 213/400  | 112.0368     0.6829   111.3539 |   0.373265   0.0000e+00 |   0.2612    11           | 142.6069     0.6722   141.9347 |   0.2675    12             |  1.250e-05   0.000e+00 |\n",
      "08:22:19 214/400  | 112.0256     0.6832   111.3424 |   0.373265   0.0000e+00 |   0.2608    11           | 142.6486     0.6724   141.9761 |   0.2673    12             |  1.250e-05   0.000e+00 |\n",
      "08:24:37 215/400  | 112.0177     0.6834   111.3343 |   0.373265   0.0000e+00 |   0.2606    11           | 142.6172     0.6727   141.9445 |   0.2670    12             |  1.250e-05   0.000e+00 |\n",
      "08:26:54 216/400  | 111.9994     0.6839   111.3155 |   0.373265   0.0000e+00 |   0.2602    11           | 142.6593     0.6729   141.9864 |   0.2668    12             |  1.250e-05   0.000e+00 |\n",
      "08:29:14 217/400  | 111.9843     0.6842   111.3001 |   0.373265   0.0000e+00 |   0.2599    11           | 142.6836     0.6736   142.0100 |   0.2661    12             |  1.250e-05   0.000e+00 |\n",
      "08:31:33 218/400  | 111.9693     0.6845   111.2848 |   0.373265   0.0000e+00 |   0.2595    11           | 142.7366     0.6738   142.0628 |   0.2659    12             |  1.250e-05   0.000e+00 |\n",
      "08:33:51 219/400  | 111.9630     0.6849   111.2781 |   0.373265   0.0000e+00 |   0.2591    11           | 142.7724     0.6744   142.0980 |   0.2652    12             |  1.250e-05   0.000e+00 |\n",
      "08:36:08 220/400  | 111.9456     0.6852   111.2604 |   0.373265   0.0000e+00 |   0.2588    11           | 142.7513     0.6743   142.0770 |   0.2653    12             |  1.250e-05   0.000e+00 |\n",
      "08:38:26 221/400  | 111.9354     0.6855   111.2500 |   0.373265   0.0000e+00 |   0.2586    11           | 142.8121     0.6747   142.1374 |   0.2648    12             |  1.250e-05   0.000e+00 |\n",
      "08:40:44 222/400  | 111.9241     0.6857   111.2384 |   0.373265   0.0000e+00 |   0.2582    11           | 142.8452     0.6756   142.1697 |   0.2639    12             |  1.250e-05   0.000e+00 |\n",
      "08:43:02 223/400  | 111.9206     0.6861   111.2345 |   0.373265   0.0000e+00 |   0.2578    11           | 142.8064     0.6759   142.1305 |   0.2637    12             |  1.250e-05   0.000e+00 |\n",
      "08:45:19 224/400  | 111.9021     0.6864   111.2157 |   0.373265   0.0000e+00 |   0.2576    11           | 142.8386     0.6754   142.1632 |   0.2642    12             |  1.250e-05   0.000e+00 |\n",
      "08:47:36 225/400  | 111.8948     0.6868   111.2079 |   0.373265   0.0000e+00 |   0.2571    11           | 142.8160     0.6764   142.1395 |   0.2630    12             |  1.250e-05   0.000e+00 |\n",
      "08:49:53 226/400  | 111.8857     0.6871   111.1986 |   0.373265   0.0000e+00 |   0.2569    11           | 142.8119     0.6761   142.1359 |   0.2634    12             |  1.250e-05   0.000e+00 |\n",
      "08:52:35 227/400  | 111.8856     0.6873   111.1982 |   0.373265   0.0000e+00 |   0.2566    11           | 142.8049     0.6769   142.1280 |   0.2626    12             |  1.250e-05   0.000e+00 |\n",
      "08:54:55 228/400  | 111.8731     0.6876   111.1854 |   0.373265   0.0000e+00 |   0.2563    11           | 142.8105     0.6765   142.1340 |   0.2628    12             |  1.250e-05   0.000e+00 |\n",
      "08:57:13 229/400  | 108.4778     0.6879   107.7899 |   0.342923   0.0000e+00 |   0.2560    11           | 141.9281     0.6774   141.2507 |   0.2621    12             |  1.250e-05   0.000e+00 |\n",
      "08:59:31 230/400  | 108.4967     0.6882   107.8085 |   0.342923   0.0000e+00 |   0.2558    11           | 141.9024     0.6776   141.2248 |   0.2618    12             |  1.250e-05   0.000e+00 |\n",
      "09:01:48 231/400  | 108.4704     0.6886   107.7818 |   0.342923   0.0000e+00 |   0.2554    11           | 141.9286     0.6781   141.2505 |   0.2614    12             |  1.250e-05   0.000e+00 |\n",
      "09:04:06 232/400  | 108.4683     0.6888   107.7795 |   0.342923   0.0000e+00 |   0.2551    11           | 142.0482     0.6781   141.3701 |   0.2614    12             |  1.250e-05   0.000e+00 |\n",
      "09:06:24 233/400  | 108.4496     0.6891   107.7605 |   0.342923   0.0000e+00 |   0.2549    11           | 142.0654     0.6788   141.3866 |   0.2606    12             |  1.250e-05   0.000e+00 |\n",
      "09:08:42 234/400  | 108.4415     0.6895   107.7520 |   0.342923   0.0000e+00 |   0.2544    11           | 142.0621     0.6786   141.3834 |   0.2609    12             |  1.250e-05   0.000e+00 |\n",
      "09:11:00 235/400  | 108.4253     0.6896   107.7357 |   0.342923   0.0000e+00 |   0.2543    11           | 142.1372     0.6795   141.4577 |   0.2599    12             |  1.250e-05   0.000e+00 |\n",
      "09:13:16 236/400  | 108.4206     0.6900   107.7306 |   0.342923   0.0000e+00 |   0.2538    11           | 142.0979     0.6792   141.4187 |   0.2603    12             |  1.250e-05   0.000e+00 |\n",
      "09:15:33 237/400  | 108.3916     0.6902   107.7014 |   0.342923   0.0000e+00 |   0.2537    11           | 142.1591     0.6804   141.4787 |   0.2593    12             |  1.250e-05   0.000e+00 |\n",
      "09:17:50 238/400  | 108.3706     0.6906   107.6800 |   0.342923   0.0000e+00 |   0.2532    11           | 142.1419     0.6801   141.4618 |   0.2595    12             |  1.250e-05   0.000e+00 |\n",
      "09:20:07 239/400  | 108.3276     0.6909   107.6367 |   0.342923   0.0000e+00 |   0.2529    11           | 142.1652     0.6807   141.4844 |   0.2588    12             |  1.250e-05   0.000e+00 |\n",
      "09:22:27 240/400  | 108.3029     0.6912   107.6117 |   0.342923   0.0000e+00 |   0.2526    11           | 142.0746     0.6806   141.3940 |   0.2590    12             |  1.250e-05   0.000e+00 |\n",
      "09:24:44 241/400  | 108.2763     0.6916   107.5848 |   0.342923   0.0000e+00 |   0.2523    11           | 142.1494     0.6809   141.4684 |   0.2586    12             |  1.250e-05   0.000e+00 |\n",
      "09:27:02 242/400  | 108.2396     0.6919   107.5477 |   0.342923   0.0000e+00 |   0.2520    11           | 142.2048     0.6815   141.5233 |   0.2580    12             |  1.250e-05   0.000e+00 |\n",
      "09:29:19 243/400  | 108.1985     0.6922   107.5062 |   0.342923   0.0000e+00 |   0.2516    11           | 142.2234     0.6818   141.5416 |   0.2577    12             |  1.250e-05   0.000e+00 |\n",
      "09:31:38 244/400  | 108.1692     0.6926   107.4766 |   0.342923   0.0000e+00 |   0.2512    11           | 142.2214     0.6820   141.5394 |   0.2575    12             |  1.250e-05   0.000e+00 |\n",
      "09:33:56 245/400  | 108.2617     0.6925   107.5692 |   0.342923   0.0000e+00 |   0.2524    11           | 142.1828     0.6817   141.5011 |   0.2575    12             |  6.250e-06   0.000e+00 |\n",
      "09:36:13 246/400  | 108.1150     0.6928   107.4222 |   0.342923   0.0000e+00 |   0.2520    11           | 142.4148     0.6820   141.7328 |   0.2570    12             |  6.250e-06   0.000e+00 |\n",
      "09:38:32 247/400  | 108.0475     0.6930   107.3545 |   0.342923   0.0000e+00 |   0.2516    11           | 142.4916     0.6822   141.8094 |   0.2569    12             |  6.250e-06   0.000e+00 |\n",
      "09:41:01 248/400  | 108.0074     0.6932   107.3142 |   0.342923   0.0000e+00 |   0.2513    11           | 142.5624     0.6825   141.8799 |   0.2566    12             |  6.250e-06   0.000e+00 |\n",
      "09:43:38 249/400  | 107.9863     0.6935   107.2928 |   0.342923   0.0000e+00 |   0.2511    11           | 142.5471     0.6831   141.8640 |   0.2559    12             |  6.250e-06   0.000e+00 |\n",
      "09:46:15 250/400  | 107.9884     0.6937   107.2946 |   0.342923   0.0000e+00 |   0.2508    11           | 142.5556     0.6828   141.8728 |   0.2561    12             |  6.250e-06   0.000e+00 |\n",
      "09:48:51 251/400  | 107.9777     0.6938   107.2839 |   0.342923   0.0000e+00 |   0.2506    11           | 142.5499     0.6833   141.8666 |   0.2556    12             |  6.250e-06   0.000e+00 |\n",
      "09:51:29 252/400  | 107.9658     0.6941   107.2717 |   0.342923   0.0000e+00 |   0.2504    11           | 142.5805     0.6834   141.8972 |   0.2555    12             |  6.250e-06   0.000e+00 |\n",
      "09:54:09 253/400  | 107.9460     0.6943   107.2517 |   0.342923   0.0000e+00 |   0.2501    11           | 142.5699     0.6839   141.8861 |   0.2551    12             |  6.250e-06   0.000e+00 |\n",
      "09:56:53 254/400  | 107.9385     0.6945   107.2440 |   0.342923   0.0000e+00 |   0.2499    11           | 142.6306     0.6837   141.9469 |   0.2552    12             |  6.250e-06   0.000e+00 |\n",
      "09:59:31 255/400  | 107.9177     0.6947   107.2230 |   0.342923   0.0000e+00 |   0.2497    11           | 142.5901     0.6841   141.9060 |   0.2548    12             |  6.250e-06   0.000e+00 |\n",
      "10:02:09 256/400  | 107.9014     0.6949   107.2065 |   0.342923   0.0000e+00 |   0.2495    11           | 142.6589     0.6844   141.9745 |   0.2545    12             |  6.250e-06   0.000e+00 |\n",
      "10:04:46 257/400  | 107.8861     0.6951   107.1910 |   0.342923   0.0000e+00 |   0.2493    11           | 142.6402     0.6844   141.9557 |   0.2545    12             |  6.250e-06   0.000e+00 |\n",
      "10:07:26 258/400  | 107.8815     0.6954   107.1862 |   0.342923   0.0000e+00 |   0.2491    11           | 142.6734     0.6847   141.9887 |   0.2541    12             |  6.250e-06   0.000e+00 |\n",
      "10:10:03 259/400  | 107.8664     0.6955   107.1710 |   0.342923   0.0000e+00 |   0.2489    11           | 142.6484     0.6848   141.9636 |   0.2541    12             |  6.250e-06   0.000e+00 |\n",
      "10:12:41 260/400  | 104.8477     0.6957   104.1520 |   0.318640   0.0000e+00 |   0.2488    11           | 141.9852     0.6851   141.3001 |   0.2538    12             |  6.250e-06   0.000e+00 |\n",
      "10:15:20 261/400  | 104.8497     0.6958   104.1539 |   0.318640   0.0000e+00 |   0.2486    11           | 141.9391     0.6851   141.2540 |   0.2538    12             |  6.250e-06   0.000e+00 |\n",
      "10:17:57 262/400  | 104.8501     0.6960   104.1542 |   0.318640   0.0000e+00 |   0.2484    11           | 142.0176     0.6854   141.3322 |   0.2535    12             |  6.250e-06   0.000e+00 |\n",
      "10:20:35 263/400  | 104.7971     0.6961   104.1010 |   0.318640   0.0000e+00 |   0.2482    11           | 142.0332     0.6856   141.3476 |   0.2533    12             |  6.250e-06   0.000e+00 |\n",
      "10:23:13 264/400  | 104.7814     0.6963   104.0851 |   0.318640   0.0000e+00 |   0.2480    11           | 142.0781     0.6857   141.3924 |   0.2531    12             |  6.250e-06   0.000e+00 |\n",
      "10:25:52 265/400  | 104.7672     0.6964   104.0707 |   0.318640   0.0000e+00 |   0.2479    11           | 142.0747     0.6858   141.3889 |   0.2530    12             |  6.250e-06   0.000e+00 |\n",
      "10:28:32 266/400  | 104.7663     0.6967   104.0696 |   0.318640   0.0000e+00 |   0.2477    11           | 142.1403     0.6860   141.4543 |   0.2528    12             |  6.250e-06   0.000e+00 |\n",
      "10:31:10 267/400  | 104.7543     0.6968   104.0575 |   0.318640   0.0000e+00 |   0.2475    11           | 142.0938     0.6864   141.4074 |   0.2524    12             |  6.250e-06   0.000e+00 |\n",
      "10:33:48 268/400  | 104.7351     0.6970   104.0381 |   0.318640   0.0000e+00 |   0.2474    11           | 142.1464     0.6864   141.4600 |   0.2524    12             |  6.250e-06   0.000e+00 |\n",
      "10:36:26 269/400  | 104.7264     0.6971   104.0293 |   0.318640   0.0000e+00 |   0.2472    11           | 142.1485     0.6866   141.4619 |   0.2523    12             |  6.250e-06   0.000e+00 |\n",
      "10:39:04 270/400  | 104.7111     0.6974   104.0137 |   0.318640   0.0000e+00 |   0.2470    11           | 142.1611     0.6868   141.4743 |   0.2520    12             |  6.250e-06   0.000e+00 |\n",
      "10:41:41 271/400  | 104.6981     0.6975   104.0005 |   0.318640   0.0000e+00 |   0.2468    11           | 142.1673     0.6868   141.4805 |   0.2520    12             |  6.250e-06   0.000e+00 |\n",
      "10:44:18 272/400  | 104.6799     0.6977   103.9822 |   0.318640   0.0000e+00 |   0.2466    11           | 142.2223     0.6872   141.5351 |   0.2516    12             |  6.250e-06   0.000e+00 |\n",
      "10:46:54 273/400  | 104.6683     0.6979   103.9704 |   0.318640   0.0000e+00 |   0.2464    11           | 142.2218     0.6874   141.5344 |   0.2514    12             |  6.250e-06   0.000e+00 |\n",
      "10:49:32 274/400  | 104.6545     0.6980   103.9564 |   0.318640   0.0000e+00 |   0.2463    11           | 142.2387     0.6873   141.5514 |   0.2514    12             |  6.250e-06   0.000e+00 |\n",
      "10:52:05 275/400  | 104.6442     0.6982   103.9460 |   0.318640   0.0000e+00 |   0.2461    11           | 142.2648     0.6877   141.5771 |   0.2511    12             |  6.250e-06   0.000e+00 |\n",
      "10:54:37 276/400  | 104.6289     0.6984   103.9305 |   0.318640   0.0000e+00 |   0.2459    11           | 142.2558     0.6877   141.5680 |   0.2510    12             |  6.250e-06   0.000e+00 |\n",
      "10:57:08 277/400  | 104.6172     0.6985   103.9186 |   0.318640   0.0000e+00 |   0.2458    11           | 142.2819     0.6882   141.5937 |   0.2507    12             |  6.250e-06   0.000e+00 |\n",
      "10:59:40 278/400  | 104.6032     0.6987   103.9045 |   0.318640   0.0000e+00 |   0.2456    11           | 142.3019     0.6881   141.6138 |   0.2507    12             |  6.250e-06   0.000e+00 |\n",
      "11:02:13 279/400  | 104.5936     0.6989   103.8948 |   0.318640   0.0000e+00 |   0.2454    11           | 142.3460     0.6883   141.6577 |   0.2504    12             |  6.250e-06   0.000e+00 |\n",
      "11:04:45 280/400  | 104.5796     0.6991   103.8806 |   0.318640   0.0000e+00 |   0.2452    11           | 142.3461     0.6883   141.6578 |   0.2505    12             |  6.250e-06   0.000e+00 |\n",
      "11:07:16 281/400  | 104.5650     0.6992   103.8658 |   0.318640   0.0000e+00 |   0.2451    11           | 142.3541     0.6888   141.6653 |   0.2500    12             |  6.250e-06   0.000e+00 |\n",
      "11:09:48 282/400  | 104.5538     0.6994   103.8544 |   0.318640   0.0000e+00 |   0.2449    11           | 142.3833     0.6885   141.6947 |   0.2502    12             |  6.250e-06   0.000e+00 |\n",
      "11:12:20 283/400  | 104.5389     0.6995   103.8394 |   0.318640   0.0000e+00 |   0.2447    11           | 142.4079     0.6891   141.7188 |   0.2496    12             |  6.250e-06   0.000e+00 |\n",
      "11:14:51 284/400  | 104.5299     0.6997   103.8302 |   0.318640   0.0000e+00 |   0.2445    11           | 142.4370     0.6889   141.7480 |   0.2498    12             |  6.250e-06   0.000e+00 |\n",
      "11:17:22 285/400  | 104.5147     0.6999   103.8148 |   0.318640   0.0000e+00 |   0.2444    11           | 142.4120     0.6894   141.7226 |   0.2493    12             |  6.250e-06   0.000e+00 |\n",
      "11:19:53 286/400  | 104.5049     0.7000   103.8049 |   0.318640   0.0000e+00 |   0.2442    11           | 142.4931     0.6892   141.8038 |   0.2494    12             |  6.250e-06   0.000e+00 |\n",
      "11:22:26 287/400  | 104.4837     0.7002   103.7835 |   0.318640   0.0000e+00 |   0.2441    11           | 142.4394     0.6898   141.7496 |   0.2490    12             |  6.250e-06   0.000e+00 |\n",
      "11:25:00 288/400  | 104.4761     0.7004   103.7758 |   0.318640   0.0000e+00 |   0.2439    11           | 142.5099     0.6896   141.8204 |   0.2491    12             |  6.250e-06   0.000e+00 |\n",
      "11:27:31 289/400  | 104.4651     0.7005   103.7646 |   0.318640   0.0000e+00 |   0.2437    11           | 142.5026     0.6900   141.8126 |   0.2487    12             |  6.250e-06   0.000e+00 |\n",
      "11:30:03 290/400  | 104.4535     0.7007   103.7527 |   0.318640   0.0000e+00 |   0.2435    11           | 142.5047     0.6901   141.8147 |   0.2486    12             |  6.250e-06   0.000e+00 |\n",
      "11:32:36 291/400  | 101.7545     0.7009   101.0537 |   0.298653   0.0000e+00 |   0.2434    11           | 142.0440     0.6904   141.3536 |   0.2484    12             |  6.250e-06   0.000e+00 |\n",
      "11:35:07 292/400  | 101.7546     0.7009   101.0537 |   0.298653   0.0000e+00 |   0.2433    11           | 142.0649     0.6902   141.3746 |   0.2485    12             |  6.250e-06   0.000e+00 |\n",
      "11:37:40 293/400  | 101.7270     0.7012   101.0259 |   0.298653   0.0000e+00 |   0.2431    11           | 142.0483     0.6906   141.3577 |   0.2482    12             |  6.250e-06   0.000e+00 |\n",
      "11:40:12 294/400  | 101.7031     0.7013   101.0018 |   0.298653   0.0000e+00 |   0.2430    11           | 142.1077     0.6906   141.4171 |   0.2481    12             |  6.250e-06   0.000e+00 |\n",
      "11:42:44 295/400  | 101.6840     0.7014   100.9826 |   0.298653   0.0000e+00 |   0.2428    11           | 142.1124     0.6910   141.4214 |   0.2478    12             |  6.250e-06   0.000e+00 |\n",
      "11:45:16 296/400  | 101.6776     0.7016   100.9760 |   0.298653   0.0000e+00 |   0.2427    11           | 142.1341     0.6909   141.4432 |   0.2477    12             |  6.250e-06   0.000e+00 |\n",
      "11:47:48 297/400  | 101.6619     0.7017   100.9602 |   0.298653   0.0000e+00 |   0.2425    11           | 142.1932     0.6913   141.5019 |   0.2474    12             |  6.250e-06   0.000e+00 |\n",
      "11:50:24 298/400  | 101.6454     0.7019   100.9435 |   0.298653   0.0000e+00 |   0.2423    11           | 142.1684     0.6912   141.4772 |   0.2474    12             |  6.250e-06   0.000e+00 |\n",
      "11:52:58 299/400  | 101.6308     0.7020   100.9288 |   0.298653   0.0000e+00 |   0.2422    11           | 142.2006     0.6913   141.5093 |   0.2474    12             |  6.250e-06   0.000e+00 |\n",
      "11:55:32 300/400  | 101.6124     0.7022   100.9101 |   0.298653   0.0000e+00 |   0.2420    11           | 142.2311     0.6917   141.5394 |   0.2470    12             |  6.250e-06   0.000e+00 |\n",
      "11:58:05 301/400  | 101.6003     0.7023   100.8980 |   0.298653   0.0000e+00 |   0.2418    11           | 142.2266     0.6917   141.5349 |   0.2470    12             |  6.250e-06   0.000e+00 |\n",
      "12:00:45 302/400  | 101.5924     0.7025   100.8899 |   0.298653   0.0000e+00 |   0.2417    11           | 142.2441     0.6918   141.5523 |   0.2468    12             |  6.250e-06   0.000e+00 |\n",
      "12:03:24 303/400  | 101.5817     0.7026   100.8790 |   0.298653   0.0000e+00 |   0.2416    11           | 142.2411     0.6919   141.5492 |   0.2467    12             |  6.250e-06   0.000e+00 |\n",
      "12:06:03 304/400  | 101.5584     0.7028   100.8556 |   0.298653   0.0000e+00 |   0.2414    11           | 142.2563     0.6920   141.5643 |   0.2466    12             |  6.250e-06   0.000e+00 |\n",
      "12:08:44 305/400  | 101.5424     0.7029   100.8396 |   0.298653   0.0000e+00 |   0.2413    11           | 142.2883     0.6921   141.5962 |   0.2465    12             |  6.250e-06   0.000e+00 |\n",
      "12:11:25 306/400  | 101.5828     0.7029   100.8799 |   0.298653   0.0000e+00 |   0.2420    11           | 142.2945     0.6923   141.6022 |   0.2462    12             |  3.125e-06   0.000e+00 |\n",
      "12:14:05 307/400  | 101.5103     0.7030   100.8073 |   0.298653   0.0000e+00 |   0.2419    11           | 142.3752     0.6924   141.6828 |   0.2460    12             |  3.125e-06   0.000e+00 |\n",
      "12:16:43 308/400  | 101.4828     0.7031   100.7797 |   0.298653   0.0000e+00 |   0.2417    11           | 142.4021     0.6925   141.7096 |   0.2458    12             |  3.125e-06   0.000e+00 |\n",
      "12:19:21 309/400  | 101.4539     0.7032   100.7507 |   0.298653   0.0000e+00 |   0.2415    11           | 142.4305     0.6926   141.7379 |   0.2457    12             |  3.125e-06   0.000e+00 |\n",
      "12:21:59 310/400  | 101.4371     0.7033   100.7338 |   0.298653   0.0000e+00 |   0.2414    11           | 142.4419     0.6927   141.7492 |   0.2456    12             |  3.125e-06   0.000e+00 |\n",
      "12:24:40 311/400  | 101.4212     0.7034   100.7178 |   0.298653   0.0000e+00 |   0.2413    11           | 142.4669     0.6928   141.7741 |   0.2454    12             |  3.125e-06   0.000e+00 |\n",
      "12:27:17 312/400  | 101.4187     0.7035   100.7152 |   0.298653   0.0000e+00 |   0.2412    11           | 142.4702     0.6929   141.7773 |   0.2454    12             |  3.125e-06   0.000e+00 |\n",
      "12:29:54 313/400  | 101.4130     0.7036   100.7094 |   0.298653   0.0000e+00 |   0.2411    11           | 142.4694     0.6930   141.7764 |   0.2453    12             |  3.125e-06   0.000e+00 |\n",
      "12:32:31 314/400  | 101.4006     0.7037   100.6969 |   0.298653   0.0000e+00 |   0.2410    11           | 142.5115     0.6930   141.8185 |   0.2452    12             |  3.125e-06   0.000e+00 |\n",
      "12:35:00 315/400  | 101.3875     0.7038   100.6837 |   0.298653   0.0000e+00 |   0.2409    11           | 142.4922     0.6931   141.7991 |   0.2451    12             |  3.125e-06   0.000e+00 |\n",
      "12:37:32 316/400  | 101.3753     0.7039   100.6714 |   0.298653   0.0000e+00 |   0.2408    11           | 142.5303     0.6931   141.8371 |   0.2450    12             |  3.125e-06   0.000e+00 |\n",
      "12:40:13 317/400  | 101.3668     0.7040   100.6628 |   0.298653   0.0000e+00 |   0.2407    11           | 142.5297     0.6933   141.8363 |   0.2449    12             |  3.125e-06   0.000e+00 |\n",
      "12:42:52 318/400  | 101.3558     0.7041   100.6517 |   0.298653   0.0000e+00 |   0.2406    11           | 142.5367     0.6932   141.8434 |   0.2449    12             |  3.125e-06   0.000e+00 |\n",
      "12:45:26 319/400  | 101.3431     0.7041   100.6390 |   0.298653   0.0000e+00 |   0.2406    11           | 142.5607     0.6935   141.8672 |   0.2447    12             |  3.125e-06   0.000e+00 |\n",
      "12:47:54 320/400  | 101.3290     0.7042   100.6247 |   0.298653   0.0000e+00 |   0.2405    11           | 142.5794     0.6935   141.8859 |   0.2447    12             |  3.125e-06   0.000e+00 |\n",
      "12:50:31 321/400  | 101.3194     0.7043   100.6151 |   0.298653   0.0000e+00 |   0.2404    11           | 142.6016     0.6936   141.9080 |   0.2446    12             |  3.125e-06   0.000e+00 |\n",
      "12:53:14 322/400  |  98.8836     0.7044    98.1792 |   0.281838   0.0000e+00 |   0.2403    11           | 142.2499     0.6937   141.5562 |   0.2445    12             |  3.125e-06   0.000e+00 |\n",
      "12:55:57 323/400  |  98.8789     0.7044    98.1745 |   0.281838   0.0000e+00 |   0.2402    11           | 142.3051     0.6939   141.6112 |   0.2443    12             |  3.125e-06   0.000e+00 |\n",
      "12:58:36 324/400  |  98.8681     0.7046    98.1635 |   0.281838   0.0000e+00 |   0.2401    11           | 142.2842     0.6937   141.5904 |   0.2444    12             |  3.125e-06   0.000e+00 |\n",
      "13:01:13 325/400  |  98.8513     0.7046    98.1467 |   0.281838   0.0000e+00 |   0.2401    11           | 142.3296     0.6940   141.6357 |   0.2442    12             |  3.125e-06   0.000e+00 |\n",
      "13:03:53 326/400  |  98.8360     0.7047    98.1313 |   0.281838   0.0000e+00 |   0.2400    11           | 142.3288     0.6939   141.6349 |   0.2442    12             |  3.125e-06   0.000e+00 |\n",
      "13:06:30 327/400  |  98.8249     0.7048    98.1201 |   0.281838   0.0000e+00 |   0.2399    11           | 142.3448     0.6941   141.6507 |   0.2441    12             |  3.125e-06   0.000e+00 |\n",
      "13:09:07 328/400  |  98.8210     0.7048    98.1162 |   0.281838   0.0000e+00 |   0.2398    11           | 142.3358     0.6941   141.6416 |   0.2440    12             |  3.125e-06   0.000e+00 |\n",
      "13:11:46 329/400  |  98.8045     0.7049    98.0996 |   0.281838   0.0000e+00 |   0.2398    11           | 142.3778     0.6942   141.6836 |   0.2439    12             |  3.125e-06   0.000e+00 |\n",
      "13:14:24 330/400  |  98.7967     0.7050    98.0917 |   0.281838   0.0000e+00 |   0.2397    11           | 142.3615     0.6942   141.6673 |   0.2440    12             |  3.125e-06   0.000e+00 |\n",
      "13:17:01 331/400  |  98.7827     0.7051    98.0776 |   0.281838   0.0000e+00 |   0.2396    11           | 142.4177     0.6944   141.7233 |   0.2438    12             |  3.125e-06   0.000e+00 |\n",
      "13:19:37 332/400  |  98.7745     0.7051    98.0693 |   0.281838   0.0000e+00 |   0.2395    11           | 142.3743     0.6944   141.6800 |   0.2438    12             |  3.125e-06   0.000e+00 |\n",
      "13:22:15 333/400  |  98.7643     0.7052    98.0591 |   0.281838   0.0000e+00 |   0.2394    11           | 142.4227     0.6944   141.7283 |   0.2437    12             |  3.125e-06   0.000e+00 |\n",
      "13:24:52 334/400  |  98.7508     0.7053    98.0455 |   0.281838   0.0000e+00 |   0.2394    11           | 142.4348     0.6945   141.7403 |   0.2436    12             |  3.125e-06   0.000e+00 |\n",
      "13:27:29 335/400  |  98.7400     0.7054    98.0346 |   0.281838   0.0000e+00 |   0.2393    11           | 142.4628     0.6947   141.7681 |   0.2434    12             |  3.125e-06   0.000e+00 |\n",
      "13:30:08 336/400  |  98.7281     0.7055    98.0226 |   0.281838   0.0000e+00 |   0.2392    11           | 142.4383     0.6946   141.7437 |   0.2435    12             |  3.125e-06   0.000e+00 |\n",
      "13:32:45 337/400  |  98.7221     0.7055    98.0166 |   0.281838   0.0000e+00 |   0.2391    11           | 142.4839     0.6949   141.7891 |   0.2433    12             |  3.125e-06   0.000e+00 |\n",
      "13:35:23 338/400  |  98.7138     0.7056    98.0082 |   0.281838   0.0000e+00 |   0.2391    11           | 142.4266     0.6948   141.7318 |   0.2433    12             |  3.125e-06   0.000e+00 |\n",
      "13:38:02 339/400  |  98.7060     0.7057    98.0004 |   0.281838   0.0000e+00 |   0.2390    11           | 142.4822     0.6947   141.7875 |   0.2433    12             |  3.125e-06   0.000e+00 |\n",
      "13:40:39 340/400  |  98.6917     0.7058    97.9860 |   0.281838   0.0000e+00 |   0.2389    11           | 142.4801     0.6950   141.7851 |   0.2432    12             |  3.125e-06   0.000e+00 |\n",
      "13:43:16 341/400  |  98.6763     0.7059    97.9704 |   0.281838   0.0000e+00 |   0.2388    11           | 142.5091     0.6952   141.8139 |   0.2430    12             |  3.125e-06   0.000e+00 |\n",
      "13:45:53 342/400  |  98.6655     0.7059    97.9596 |   0.281838   0.0000e+00 |   0.2387    11           | 142.5107     0.6951   141.8156 |   0.2430    12             |  3.125e-06   0.000e+00 |\n",
      "13:48:31 343/400  |  98.6602     0.7060    97.9542 |   0.281838   0.0000e+00 |   0.2386    11           | 142.5351     0.6953   141.8398 |   0.2428    12             |  3.125e-06   0.000e+00 |\n",
      "13:51:08 344/400  |  98.6494     0.7060    97.9433 |   0.281838   0.0000e+00 |   0.2386    11           | 142.5288     0.6952   141.8335 |   0.2429    12             |  3.125e-06   0.000e+00 |\n",
      "13:53:47 345/400  |  98.6389     0.7062    97.9328 |   0.281838   0.0000e+00 |   0.2385    11           | 142.5728     0.6954   141.8774 |   0.2427    12             |  3.125e-06   0.000e+00 |\n",
      "13:56:26 346/400  |  98.6304     0.7062    97.9242 |   0.281838   0.0000e+00 |   0.2385    11           | 142.5620     0.6954   141.8666 |   0.2427    12             |  3.125e-06   0.000e+00 |\n",
      "13:59:02 347/400  |  98.6207     0.7063    97.9144 |   0.281838   0.0000e+00 |   0.2383    11           | 142.5847     0.6955   141.8891 |   0.2426    12             |  3.125e-06   0.000e+00 |\n",
      "14:01:41 348/400  |  98.6100     0.7064    97.9036 |   0.281838   0.0000e+00 |   0.2383    11           | 142.5799     0.6955   141.8844 |   0.2426    12             |  3.125e-06   0.000e+00 |\n",
      "14:04:19 349/400  |  98.5974     0.7064    97.8910 |   0.281838   0.0000e+00 |   0.2382    11           | 142.5903     0.6956   141.8947 |   0.2425    12             |  3.125e-06   0.000e+00 |\n",
      "14:06:58 350/400  |  98.5899     0.7066    97.8833 |   0.281838   0.0000e+00 |   0.2381    11           | 142.6027     0.6958   141.9069 |   0.2424    12             |  3.125e-06   0.000e+00 |\n",
      "14:09:34 351/400  |  98.5813     0.7066    97.8747 |   0.281838   0.0000e+00 |   0.2380    11           | 142.6122     0.6957   141.9164 |   0.2424    12             |  3.125e-06   0.000e+00 |\n",
      "14:12:12 352/400  |  98.5714     0.7067    97.8647 |   0.281838   0.0000e+00 |   0.2380    11           | 142.6056     0.6960   141.9096 |   0.2422    12             |  3.125e-06   0.000e+00 |\n",
      "14:14:49 353/400  |  96.3607     0.7068    95.6540 |   0.267445   0.0000e+00 |   0.2379    11           | 142.4529     0.6959   141.7570 |   0.2422    12             |  3.125e-06   0.000e+00 |\n",
      "14:17:33 354/400  |  96.3570     0.7068    95.6501 |   0.267445   0.0000e+00 |   0.2378    11           | 142.4460     0.6960   141.7500 |   0.2421    12             |  3.125e-06   0.000e+00 |\n",
      "14:20:17 355/400  |  96.3455     0.7069    95.6386 |   0.267445   0.0000e+00 |   0.2377    11           | 142.4565     0.6961   141.7604 |   0.2421    12             |  3.125e-06   0.000e+00 |\n",
      "14:23:00 356/400  |  96.3303     0.7070    95.6233 |   0.267445   0.0000e+00 |   0.2377    11           | 142.4545     0.6961   141.7584 |   0.2420    12             |  3.125e-06   0.000e+00 |\n",
      "14:25:45 357/400  |  96.3150     0.7070    95.6079 |   0.267445   0.0000e+00 |   0.2376    11           | 142.4967     0.6963   141.8004 |   0.2418    12             |  3.125e-06   0.000e+00 |\n",
      "14:28:28 358/400  |  96.3042     0.7071    95.5970 |   0.267445   0.0000e+00 |   0.2375    11           | 142.4841     0.6962   141.7879 |   0.2418    12             |  3.125e-06   0.000e+00 |\n",
      "14:31:12 359/400  |  96.2939     0.7072    95.5867 |   0.267445   0.0000e+00 |   0.2374    11           | 142.4979     0.6964   141.8015 |   0.2417    12             |  3.125e-06   0.000e+00 |\n",
      "14:33:57 360/400  |  96.2831     0.7073    95.5758 |   0.267445   0.0000e+00 |   0.2374    11           | 142.5196     0.6964   141.8232 |   0.2417    12             |  3.125e-06   0.000e+00 |\n",
      "14:36:35 361/400  |  96.2716     0.7073    95.5643 |   0.267445   0.0000e+00 |   0.2373    11           | 142.5248     0.6966   141.8281 |   0.2415    12             |  3.125e-06   0.000e+00 |\n",
      "14:39:16 362/400  |  96.2605     0.7074    95.5531 |   0.267445   0.0000e+00 |   0.2372    11           | 142.5192     0.6965   141.8227 |   0.2415    12             |  3.125e-06   0.000e+00 |\n",
      "14:41:55 363/400  |  96.2453     0.7075    95.5378 |   0.267445   0.0000e+00 |   0.2371    11           | 142.5502     0.6966   141.8537 |   0.2415    12             |  3.125e-06   0.000e+00 |\n",
      "14:44:30 364/400  |  96.2367     0.7075    95.5292 |   0.267445   0.0000e+00 |   0.2371    11           | 142.5498     0.6967   141.8530 |   0.2414    12             |  3.125e-06   0.000e+00 |\n",
      "14:47:05 365/400  |  96.2294     0.7076    95.5218 |   0.267445   0.0000e+00 |   0.2370    11           | 142.5580     0.6967   141.8613 |   0.2414    12             |  3.125e-06   0.000e+00 |\n",
      "14:49:40 366/400  |  96.2158     0.7077    95.5082 |   0.267445   0.0000e+00 |   0.2370    11           | 142.5619     0.6969   141.8650 |   0.2412    12             |  3.125e-06   0.000e+00 |\n",
      "14:52:15 367/400  |  96.2090     0.7077    95.5013 |   0.267445   0.0000e+00 |   0.2374    11           | 142.5693     0.6967   141.8726 |   0.2412    12             |  1.563e-06   0.000e+00 |\n",
      "14:54:49 368/400  |  96.1612     0.7077    95.4535 |   0.267445   0.0000e+00 |   0.2373    11           | 142.6034     0.6968   141.9066 |   0.2411    12             |  1.563e-06   0.000e+00 |\n",
      "14:57:24 369/400  |  96.1458     0.7078    95.4380 |   0.267445   0.0000e+00 |   0.2372    11           | 142.6235     0.6968   141.9267 |   0.2410    12             |  1.563e-06   0.000e+00 |\n",
      "15:00:00 370/400  |  96.1347     0.7078    95.4269 |   0.267445   0.0000e+00 |   0.2371    11           | 142.6368     0.6969   141.9399 |   0.2409    12             |  1.563e-06   0.000e+00 |\n",
      "15:02:34 371/400  |  96.1262     0.7079    95.4183 |   0.267445   0.0000e+00 |   0.2371    11           | 142.6494     0.6970   141.9525 |   0.2409    12             |  1.563e-06   0.000e+00 |\n",
      "15:05:08 372/400  |  96.1186     0.7079    95.4106 |   0.267445   0.0000e+00 |   0.2370    11           | 142.6644     0.6970   141.9674 |   0.2408    12             |  1.563e-06   0.000e+00 |\n",
      "15:07:42 373/400  |  96.1147     0.7080    95.4067 |   0.267445   0.0000e+00 |   0.2370    11           | 142.6665     0.6971   141.9694 |   0.2408    12             |  1.563e-06   0.000e+00 |\n",
      "15:10:16 374/400  |  96.1129     0.7080    95.4049 |   0.267445   0.0000e+00 |   0.2369    11           | 142.6685     0.6971   141.9714 |   0.2407    12             |  1.563e-06   0.000e+00 |\n",
      "15:12:50 375/400  |  96.1077     0.7081    95.3996 |   0.267445   0.0000e+00 |   0.2369    11           | 142.6891     0.6971   141.9919 |   0.2407    12             |  1.563e-06   0.000e+00 |\n",
      "15:15:24 376/400  |  96.1035     0.7081    95.3954 |   0.267445   0.0000e+00 |   0.2368    11           | 142.6876     0.6972   141.9904 |   0.2406    12             |  1.563e-06   0.000e+00 |\n",
      "15:17:56 377/400  |  96.0957     0.7082    95.3875 |   0.267445   0.0000e+00 |   0.2368    11           | 142.7072     0.6972   142.0100 |   0.2406    12             |  1.563e-06   0.000e+00 |\n",
      "15:20:27 378/400  |  96.0858     0.7082    95.3776 |   0.267445   0.0000e+00 |   0.2367    11           | 142.7006     0.6973   142.0033 |   0.2405    12             |  1.563e-06   0.000e+00 |\n",
      "15:23:01 379/400  |  96.0757     0.7082    95.3674 |   0.267445   0.0000e+00 |   0.2367    11           | 142.7185     0.6973   142.0212 |   0.2405    12             |  1.563e-06   0.000e+00 |\n",
      "15:25:33 380/400  |  96.0677     0.7083    95.3594 |   0.267445   0.0000e+00 |   0.2366    11           | 142.7125     0.6974   142.0150 |   0.2404    12             |  1.563e-06   0.000e+00 |\n",
      "15:28:05 381/400  |  96.0622     0.7083    95.3539 |   0.267445   0.0000e+00 |   0.2366    11           | 142.7359     0.6974   142.0386 |   0.2404    12             |  1.563e-06   0.000e+00 |\n",
      "15:30:37 382/400  |  96.0575     0.7084    95.3491 |   0.267445   0.0000e+00 |   0.2366    11           | 142.7293     0.6975   142.0318 |   0.2403    12             |  1.563e-06   0.000e+00 |\n",
      "15:33:09 383/400  |  96.0519     0.7084    95.3435 |   0.267445   0.0000e+00 |   0.2365    11           | 142.7395     0.6975   142.0421 |   0.2403    12             |  1.563e-06   0.000e+00 |\n",
      "15:35:39 384/400  |  94.0410     0.7085    93.3325 |   0.254947   0.0000e+00 |   0.2364    11           | 142.6566     0.6976   141.9590 |   0.2402    12             |  1.563e-06   0.000e+00 |\n",
      "15:38:10 385/400  |  94.0327     0.7085    93.3241 |   0.254947   0.0000e+00 |   0.2364    11           | 142.6750     0.6976   141.9775 |   0.2402    12             |  1.563e-06   0.000e+00 |\n",
      "15:40:45 386/400  |  94.0231     0.7086    93.3145 |   0.254947   0.0000e+00 |   0.2364    11           | 142.6761     0.6977   141.9784 |   0.2401    12             |  1.563e-06   0.000e+00 |\n",
      "15:43:17 387/400  |  94.0156     0.7086    93.3069 |   0.254947   0.0000e+00 |   0.2363    11           | 142.6920     0.6977   141.9943 |   0.2401    12             |  1.563e-06   0.000e+00 |\n",
      "15:45:51 388/400  |  94.0084     0.7087    93.2998 |   0.254947   0.0000e+00 |   0.2363    11           | 142.6898     0.6978   141.9921 |   0.2400    12             |  1.563e-06   0.000e+00 |\n",
      "15:48:23 389/400  |  93.9999     0.7087    93.2911 |   0.254947   0.0000e+00 |   0.2362    11           | 142.7097     0.6978   142.0120 |   0.2400    12             |  1.563e-06   0.000e+00 |\n",
      "15:50:56 390/400  |  93.9917     0.7088    93.2829 |   0.254947   0.0000e+00 |   0.2362    11           | 142.6990     0.6978   142.0012 |   0.2400    12             |  1.563e-06   0.000e+00 |\n",
      "15:53:29 391/400  |  93.9837     0.7088    93.2749 |   0.254947   0.0000e+00 |   0.2361    11           | 142.7256     0.6978   142.0277 |   0.2399    12             |  1.563e-06   0.000e+00 |\n",
      "15:56:01 392/400  |  93.9751     0.7088    93.2663 |   0.254947   0.0000e+00 |   0.2361    11           | 142.7065     0.6979   142.0085 |   0.2399    12             |  1.563e-06   0.000e+00 |\n",
      "15:58:34 393/400  |  93.9679     0.7089    93.2591 |   0.254947   0.0000e+00 |   0.2360    11           | 142.7349     0.6979   142.0370 |   0.2399    12             |  1.563e-06   0.000e+00 |\n",
      "16:01:09 394/400  |  93.9610     0.7089    93.2521 |   0.254947   0.0000e+00 |   0.2360    11           | 142.7198     0.6980   142.0218 |   0.2398    12             |  1.563e-06   0.000e+00 |\n",
      "16:03:42 395/400  |  93.9536     0.7089    93.2447 |   0.254947   0.0000e+00 |   0.2360    11           | 142.7379     0.6980   142.0399 |   0.2398    12             |  1.563e-06   0.000e+00 |\n",
      "16:06:14 396/400  |  93.9487     0.7090    93.2397 |   0.254947   0.0000e+00 |   0.2359    11           | 142.7295     0.6980   142.0315 |   0.2397    12             |  1.563e-06   0.000e+00 |\n",
      "16:08:46 397/400  |  93.9397     0.7090    93.2307 |   0.254947   0.0000e+00 |   0.2359    11           | 142.7530     0.6980   142.0550 |   0.2397    12             |  1.563e-06   0.000e+00 |\n",
      "16:11:17 398/400  |  93.9309     0.7091    93.2219 |   0.254947   0.0000e+00 |   0.2359    11           | 142.7421     0.6981   142.0440 |   0.2396    12             |  1.563e-06   0.000e+00 |\n",
      "16:13:53 399/400  |  93.9248     0.7091    93.2157 |   0.254947   0.0000e+00 |   0.2358    11           | 142.7557     0.6982   142.0575 |   0.2396    12             |  1.563e-06   0.000e+00 |\n",
      "16:16:29 400/400  |  93.9180     0.7092    93.2088 |   0.254947   0.0000e+00 |   0.2358    11           | 142.7533     0.6982   142.0552 |   0.2396    12             |  1.563e-06   0.000e+00 |\n"
     ]
    }
   ],
   "source": [
    "for epoch in range(last_epoch):\n",
    "    display_epoch_metrics(model, epoch)"
   ]
  },
  {
   "cell_type": "markdown",
   "id": "9d7f6ece-b0e4-4e64-bc35-928a3c3f961d",
   "metadata": {},
   "source": [
    "# Plot losses, weights, biases and gradients"
   ]
  },
  {
   "cell_type": "code",
   "execution_count": 65,
   "id": "2bc8de25-ddde-4d2c-b97f-1da1d375c991",
   "metadata": {
    "execution": {
     "iopub.execute_input": "2024-09-05T16:14:33.253371Z",
     "iopub.status.busy": "2024-09-05T16:14:33.252899Z",
     "iopub.status.idle": "2024-09-05T16:14:34.294014Z",
     "shell.execute_reply": "2024-09-05T16:14:34.293124Z",
     "shell.execute_reply.started": "2024-09-05T16:14:33.253329Z"
    },
    "scrolled": true
   },
   "outputs": [
    {
     "data": {
      "image/png": "[encoded data removed]",
      "text/plain": [
       "<Figure size 2000x400 with 5 Axes>"
      ]
     },
     "metadata": {},
     "output_type": "display_data"
    }
   ],
   "source": [
    "plot_train_history(model, start= 0, n_bins = 25)"
   ]
  },
  {
   "cell_type": "code",
   "execution_count": 66,
   "id": "f992e4e5-ea68-4617-8c16-01dfc22f6b94",
   "metadata": {
    "execution": {
     "iopub.execute_input": "2024-09-05T16:14:55.067215Z",
     "iopub.status.busy": "2024-09-05T16:14:55.066496Z",
     "iopub.status.idle": "2024-09-05T16:14:55.411472Z",
     "shell.execute_reply": "2024-09-05T16:14:55.410934Z",
     "shell.execute_reply.started": "2024-09-05T16:14:55.067175Z"
    },
    "scrolled": true
   },
   "outputs": [
    {
     "data": {
      "image/png": "[encoded data removed]",
      "text/plain": [
       "<Figure size 400x400 with 1 Axes>"
      ]
     },
     "metadata": {},
     "output_type": "display_data"
    }
   ],
   "source": [
    "plot_regression_metrics(model,  n_bins = 25)"
   ]
  },
  {
   "cell_type": "code",
   "execution_count": null,
   "id": "533b465a-6b4a-4696-a014-793b8f7df079",
   "metadata": {
    "scrolled": true
   },
   "outputs": [],
   "source": [
    "# plot_train_history(model, start= 0, n_bins = 25)"
   ]
  },
  {
   "cell_type": "code",
   "execution_count": null,
   "id": "85774d06-9f14-4b02-b0c6-b8c60ba92ffa",
   "metadata": {
    "scrolled": true
   },
   "outputs": [],
   "source": [
    "# plot_train_history(model, start= 0, n_bins = 25)"
   ]
  },
  {
   "cell_type": "code",
   "execution_count": 71,
   "id": "f6b91b33-81bd-47e8-aa8e-bda1bd4d4583",
   "metadata": {
    "execution": {
     "iopub.execute_input": "2024-09-05T15:25:20.796407Z",
     "iopub.status.busy": "2024-09-05T15:25:20.795861Z",
     "iopub.status.idle": "2024-09-05T15:25:20.848440Z",
     "shell.execute_reply": "2024-09-05T15:25:20.847728Z",
     "shell.execute_reply.started": "2024-09-05T15:25:20.796365Z"
    },
    "scrolled": true
   },
   "outputs": [],
   "source": [
    "# plot_train_history(model, start= 100, n_bins = 25)"
   ]
  },
  {
   "cell_type": "code",
   "execution_count": null,
   "id": "fbc084c9-ec20-4090-97d4-752399b3545d",
   "metadata": {},
   "outputs": [],
   "source": []
  }
 ],
 "metadata": {
  "kernelspec": {
   "display_name": "Python [conda env:ptsnnl]",
   "language": "python",
   "name": "conda-env-ptsnnl-py"
  },
  "language_info": {
   "codemirror_mode": {
    "name": "ipython",
    "version": 3
   },
   "file_extension": ".py",
   "mimetype": "text/x-python",
   "name": "python",
   "nbconvert_exporter": "python",
   "pygments_lexer": "ipython3",
   "version": "3.11.0"
  },
  "toc": {
   "base_numbering": 1,
   "nav_menu": {},
   "number_sections": true,
   "sideBar": true,
   "skip_h1_title": false,
   "title_cell": "Table of Contents",
   "title_sidebar": "Contents",
   "toc_cell": false,
   "toc_position": {},
   "toc_section_display": true,
   "toc_window_display": false
  }
 },
 "nbformat": 4,
 "nbformat_minor": 5
}
