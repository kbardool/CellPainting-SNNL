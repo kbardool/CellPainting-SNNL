{
 "cells": [
  {
   "cell_type": "markdown",
   "id": "ca813a76-47b7-458b-a3d2-1e4f49079a08",
   "metadata": {},
   "source": [
    "  # Autoencoder - Baseline mode - Copy 1"
   ]
  },
  {
   "cell_type": "markdown",
   "id": "41638752-2456-4f2e-9e7e-e4039fe926a2",
   "metadata": {},
   "source": [
    "# Setup"
   ]
  },
  {
   "cell_type": "code",
   "execution_count": 1,
   "id": "11ad0ae2",
   "metadata": {
    "ExecuteTime": {
     "end_time": "2023-04-12T10:29:15.566596Z",
     "start_time": "2023-04-12T10:29:15.550232Z"
    },
    "execution": {
     "iopub.execute_input": "2024-06-15T04:56:32.580209Z",
     "iopub.status.busy": "2024-06-15T04:56:32.579683Z",
     "iopub.status.idle": "2024-06-15T04:56:32.606414Z",
     "shell.execute_reply": "2024-06-15T04:56:32.605791Z",
     "shell.execute_reply.started": "2024-06-15T04:56:32.580167Z"
    }
   },
   "outputs": [
    {
     "data": {
      "text/html": [
       "<style>.container { width:98% !important; }</style>"
      ],
      "text/plain": [
       "<IPython.core.display.HTML object>"
      ]
     },
     "metadata": {},
     "output_type": "display_data"
    }
   ],
   "source": [
    "from IPython.display import display, HTML\n",
    "display(HTML(\"<style>.container { width:98% !important; }</style>\"))\n",
    "%load_ext autoreload  \n",
    "%autoreload 2\n",
    "from IPython.core.interactiveshell import InteractiveShell\n",
    "InteractiveShell.ast_node_interactivity = \"all\""
   ]
  },
  {
   "cell_type": "code",
   "execution_count": 10,
   "id": "3843702f-a8f0-4857-ab00-cfd07a48253b",
   "metadata": {
    "ExecuteTime": {
     "end_time": "2023-04-12T10:29:16.111588Z",
     "start_time": "2023-04-12T10:29:15.764305Z"
    },
    "execution": {
     "iopub.execute_input": "2024-06-15T05:00:40.035329Z",
     "iopub.status.busy": "2024-06-15T05:00:40.034841Z",
     "iopub.status.idle": "2024-06-15T05:00:40.083599Z",
     "shell.execute_reply": "2024-06-15T05:00:40.082799Z",
     "shell.execute_reply.started": "2024-06-15T05:00:40.035287Z"
    }
   },
   "outputs": [
    {
     "name": "stdout",
     "output_type": "stream",
     "text": [
      "['../..', './src', '/home/kevin/miniforge3/envs/ptsnnl/lib/python311.zip', '/home/kevin/miniforge3/envs/ptsnnl/lib/python3.11', '/home/kevin/miniforge3/envs/ptsnnl/lib/python3.11/lib-dynload', '', '/home/kevin/miniforge3/envs/ptsnnl/lib/python3.11/site-packages']\n",
      "2.2.1+cu118\n"
     ]
    }
   ],
   "source": [
    "import os\n",
    "import sys\n",
    "import csv\n",
    "import json\n",
    "import time\n",
    "import types, copy, pprint\n",
    "import logging \n",
    "from datetime import datetime\n",
    "for p in ['./src','../..']:\n",
    "    if p not in sys.path:\n",
    "        print(f\"insert {p}\")\n",
    "        sys.path.insert(0, p)\n",
    "print(sys.path)\n",
    "import shutil\n",
    "import getpass\n",
    "import yaml\n",
    "\n",
    "from matplotlib import pyplot as plt\n",
    "from typing import Dict, List, Tuple\n",
    "from scipy.sparse import csr_matrix\n",
    "from tqdm import tqdm\n",
    "\n",
    "import numpy as np\n",
    "import pandas as pd\n",
    "\n",
    "import torch\n",
    "import torch.nn.functional as F\n",
    "from torchinfo import summary\n",
    "\n",
    "torch.set_printoptions(precision=None, threshold=None, edgeitems=None, linewidth=150, profile=None, sci_mode=None)\n",
    "print(torch.__version__)\n",
    "\n",
    "pp = pprint.PrettyPrinter(indent=4)\n",
    "pd.options.display.width = 132\n",
    "torch.set_printoptions(precision=None, threshold=None, edgeitems=None, linewidth=150, profile=None, sci_mode=None)\n",
    "np.set_printoptions(edgeitems=3, infstr='inf', linewidth=150, nanstr='nan')\n",
    "\n",
    "os.environ[\"WANDB_NOTEBOOK_NAME\"] = \"Autoencoder_dev.ipynb\"\n",
    "# os.environ[\"CUDA_LAUNCH_BLOCKING\"] = \"1\"\n",
    "# os.environ[\"CUDA_VISIBLE_DEVICES\"] = \"1\"\n",
    "import wandb\n",
    "from KevinsRoutines.utils.utils_wandb  import  init_wandb, wandb_log_metrics,wandb_watch\n",
    "from KevinsRoutines.utils.utils_general  import  list_namespace \n",
    "from snnl.utils import parse_args, load_configuration, set_global_seed, get_device, set_device\n",
    "from snnl.utils import load_model, save_model, import_results, export_results, save_checkpoint, load_checkpoint \n",
    "from snnl.utils import plot_model_parms, plot_train_history, plot_classification_metrics, plot_regression_metrics\n",
    "from snnl.utils import display_epoch_metrics, display_cellpainting_batch\n",
    "from snnl.utils import CellpaintingDataset, InfiniteDataLoader, custom_collate_fn\n",
    "from snnl.utils import display_model_summary, define_autoencoder_model\n",
    "from snnl.utils import save_checkpoint_v2, load_checkpoint_v2\n",
    "\n",
    "from snnl.models import Model\n",
    "from snnl.models import DNN \n",
    "from snnl.models import Autoencoder\n",
    "from snnl.losses import SNNLoss"
   ]
  },
  {
   "cell_type": "code",
   "execution_count": 11,
   "id": "40373393-9cbf-4448-a3ad-dbd7861fb8ae",
   "metadata": {
    "execution": {
     "iopub.execute_input": "2024-06-15T05:00:47.382174Z",
     "iopub.status.busy": "2024-06-15T05:00:47.381664Z",
     "iopub.status.idle": "2024-06-15T05:00:47.430169Z",
     "shell.execute_reply": "2024-06-15T05:00:47.428823Z",
     "shell.execute_reply.started": "2024-06-15T05:00:47.382133Z"
    }
   },
   "outputs": [
    {
     "name": "stderr",
     "output_type": "stream",
     "text": [
      "2024-06-15 07:00:47,421 - __main__ - INFO: -  Excution started : 2024_06_15_07:00:47 \n",
      "2024-06-15 07:00:47,423 - __main__ - INFO: -  Pytorch version  : 2.2.1+cu118\n"
     ]
    },
    {
     "name": "stdout",
     "output_type": "stream",
     "text": [
      "Timestamp:  2024_06_15_07:00:47\n"
     ]
    }
   ],
   "source": [
    "timestamp = datetime.now().strftime('%Y_%m_%d_%H:%M:%S')\n",
    "print('Timestamp: ',timestamp)\n",
    "\n",
    "logger = logging.getLogger(__name__) \n",
    "logLevel = os.environ.get('LOG_LEVEL', 'INFO').upper()\n",
    "FORMAT = '%(asctime)s - %(name)s - %(levelname)s: - %(message)s'\n",
    "logging.basicConfig(level=\"INFO\", format= FORMAT)\n",
    "\n",
    "logger.info(f\" Excution started : {timestamp} \")\n",
    "logger.info(f\" Pytorch version  : {torch.__version__}\")\n",
    "# logger.info(f\" Search path      : {sys.path}\")\n"
   ]
  },
  {
   "cell_type": "markdown",
   "id": "1be5e789-3446-482f-a3ca-fdd19b2a845e",
   "metadata": {},
   "source": [
    "### main(args)"
   ]
  },
  {
   "cell_type": "code",
   "execution_count": 22,
   "id": "3e7989e9-5b0b-49a0-a10f-b5a48e62d6e0",
   "metadata": {
    "execution": {
     "iopub.execute_input": "2024-06-15T05:08:59.212393Z",
     "iopub.status.busy": "2024-06-15T05:08:59.211830Z",
     "iopub.status.idle": "2024-06-15T05:08:59.258280Z",
     "shell.execute_reply": "2024-06-15T05:08:59.257315Z",
     "shell.execute_reply.started": "2024-06-15T05:08:59.212351Z"
    }
   },
   "outputs": [],
   "source": [
    "LATENT_DIM = 150\n",
    "HIDDEN_1 = '_512'\n",
    "HIDDEN_2 = '_256'"
   ]
  },
  {
   "cell_type": "code",
   "execution_count": 24,
   "id": "8a540f64-c33b-4ced-bf1d-77f7de1785d4",
   "metadata": {
    "execution": {
     "iopub.execute_input": "2024-06-15T05:09:25.301914Z",
     "iopub.status.busy": "2024-06-15T05:09:25.301342Z",
     "iopub.status.idle": "2024-06-15T05:09:25.356250Z",
     "shell.execute_reply": "2024-06-15T05:09:25.355723Z",
     "shell.execute_reply.started": "2024-06-15T05:09:25.301870Z"
    }
   },
   "outputs": [
    {
     "data": {
      "text/plain": [
       "Namespace(random_seed=1234, runmode='baseline', configuration='hyperparameters/ae_cp_150_512_256.yaml', wandb=False, exp_id=None, ckpt='AE_baseline_20240614_snglOpt-150Ltnt_512_256_ep_300.pt', exp_title=None, epochs=1, gpu_id=0)"
      ]
     },
     "execution_count": 24,
     "metadata": {},
     "output_type": "execute_result"
    },
    {
     "name": "stderr",
     "output_type": "stream",
     "text": [
      "2024-06-15 07:09:25,350 - snnl.utils.utils - INFO: -  Current CUDA Device is:  cuda:0 - Quadro GV100\n",
      "2024-06-15 07:09:25,351 - snnl.utils.utils - INFO: -  Switched to: Quadro GV100 - 0\n",
      "2024-06-15 07:09:25,352 - snnl.utils.utils - INFO: -  Current CUDA Device is:  cuda:0 - Quadro GV100\n",
      "2024-06-15 07:09:25,352 - __main__ - INFO: -  Resuming training using checkpoint: AE_baseline_20240614_snglOpt-150Ltnt_512_256_ep_300.pt\n"
     ]
    },
    {
     "name": "stdout",
     "output_type": "stream",
     "text": [
      " command line param [random_seed] passed, value: [1234]\n",
      " command line param [runmode] passed, value: [baseline]\n",
      " command line param [configuration] passed, value: [hyperparameters/ae_cp_150_512_256.yaml]\n",
      " command line param [wandb] passed, value: [False]\n",
      " command line param [exp_id] passed, value: [None]\n",
      " command line param [ckpt] passed, value: [AE_baseline_20240614_snglOpt-150Ltnt_512_256_ep_300.pt]\n",
      " command line param [exp_title] passed, value: [None]\n",
      " command line param [epochs] passed, value: [1]\n",
      " command line param [gpu_id] passed, value: [0]\n"
     ]
    }
   ],
   "source": [
    "# if __name__ == \"__main__\":\n",
    "cli_args = f\" --runmode            baseline\" \\\n",
    "             f\" --configuration      hyperparameters/ae_cp_{LATENT_DIM}{HIDDEN_1}{HIDDEN_2}.yaml\" \\\n",
    "             f\" --gpu_id             0 \" \\\n",
    "             f\" --epochs             1 \" \\\n",
    "             f\" --ckpt               AE_baseline_20240614_snglOpt-{LATENT_DIM}Ltnt{HIDDEN_1}{HIDDEN_2}_ep_300.pt \"  \n",
    "             # f\" --run_id             ynyo0ho9 \" \\\n",
    "             # f\" --runmode            snnl\" \\\n",
    "\n",
    "cli_args = parse_args(cli_args.split())\n",
    "cli_args\n",
    "\n",
    "args = load_configuration(cli_args)\n",
    "set_global_seed(args.random_seed)\n",
    "# args.exp_title\n",
    "# args.ckpt\n",
    "\n",
    "current_device = get_device()\n",
    "if args.gpu_id is not None:\n",
    "    current_device = set_device(args.gpu_id)\n",
    "    _ = get_device()\n",
    "\n",
    "\n",
    "if args.ckpt is not None:\n",
    "    if os.path.exists(os.path.join('ckpts', args.ckpt)):\n",
    "        # logging.info(f\" Checkpoint {args.ckpt} found\")\n",
    "        logger.info(f\" Resuming training using checkpoint: {args.ckpt}\")\n",
    "    else:\n",
    "        logger.error(f\" *** Checkpoint {args.ckpt} not found *** \\n\")\n",
    "        raise ValueError(f\"\\n *** Checkpoint DOESNT EXIST *** \\n\")"
   ]
  },
  {
   "cell_type": "markdown",
   "id": "7e2871b9-ea54-4869-9fa3-5ade2e1416cd",
   "metadata": {},
   "source": [
    "## Define dataset and dataloaders"
   ]
  },
  {
   "cell_type": "code",
   "execution_count": 25,
   "id": "06244afe-95e6-4322-a803-e01ed8babe5f",
   "metadata": {
    "execution": {
     "iopub.execute_input": "2024-06-15T05:09:27.373032Z",
     "iopub.status.busy": "2024-06-15T05:09:27.372531Z",
     "iopub.status.idle": "2024-06-15T05:09:27.414237Z",
     "shell.execute_reply": "2024-06-15T05:09:27.413582Z",
     "shell.execute_reply.started": "2024-06-15T05:09:27.372993Z"
    }
   },
   "outputs": [
    {
     "name": "stderr",
     "output_type": "stream",
     "text": [
      "2024-06-15 07:09:27,409 - root - INFO: -  load cellpainting\n"
     ]
    },
    {
     "name": "stdout",
     "output_type": "stream",
     "text": [
      " Building CellPantingDataset from NOTEBOOK\n",
      "    _init()_    -- filename:          /home/kevin/WSL-shared/Cellpainting/cj-datasets/output_11102023/3_sample_profiles/3sample_profiles_1482_HashOrder.csv\n",
      "    _init()_    -- type :             train\n",
      "    _init()_    -- start :            0\n",
      "    _init()_    -- end :              240000\n",
      "    _init()_    -- numrows :          240000\n",
      " Building CellPantingDataset from NOTEBOOK\n",
      "    _init()_    -- filename:          /home/kevin/WSL-shared/Cellpainting/cj-datasets/output_11102023/3_sample_profiles/3sample_profiles_1482_HashOrder_test.csv\n",
      "    _init()_    -- type :             val\n",
      "    _init()_    -- start :            0\n",
      "    _init()_    -- end :              24000\n",
      "    _init()_    -- numrows :          24000\n"
     ]
    }
   ],
   "source": [
    "#### Load CellPainting Dataset\n",
    "logging.info(f\" load {args.dataset}\")\n",
    "train_dataset = CellpaintingDataset(type='train',    **args.cellpainting_args)\n",
    "train_loader = InfiniteDataLoader(dataset=train_dataset, batch_size = args.batch_size, shuffle = False, num_workers = 0, collate_fn = custom_collate_fn)\n",
    "val_dataset = CellpaintingDataset(type='val',    **args.cellpainting_args)\n",
    "val_loader = InfiniteDataLoader(dataset=val_dataset, batch_size = args.batch_size, shuffle = False, num_workers = 0, collate_fn = custom_collate_fn)"
   ]
  },
  {
   "cell_type": "code",
   "execution_count": 26,
   "id": "e1276600-fb27-47ce-b6d2-1add97110713",
   "metadata": {
    "execution": {
     "iopub.execute_input": "2024-06-15T05:09:28.146087Z",
     "iopub.status.busy": "2024-06-15T05:09:28.145675Z",
     "iopub.status.idle": "2024-06-15T05:09:28.183575Z",
     "shell.execute_reply": "2024-06-15T05:09:28.183001Z",
     "shell.execute_reply.started": "2024-06-15T05:09:28.146049Z"
    }
   },
   "outputs": [
    {
     "data": {
      "text/plain": [
       "'Autoencoder Training in Baseline mode - SnglOpt, 512-256-150 dim latent'"
      ]
     },
     "execution_count": 26,
     "metadata": {},
     "output_type": "execute_result"
    }
   ],
   "source": [
    "args.exp_id\n",
    "args.exp_description"
   ]
  },
  {
   "cell_type": "code",
   "execution_count": 51,
   "id": "0de22f95-3d6e-4038-b62f-f9caa58c847b",
   "metadata": {
    "execution": {
     "iopub.execute_input": "2024-06-14T08:10:05.841607Z",
     "iopub.status.busy": "2024-06-14T08:10:05.841112Z",
     "iopub.status.idle": "2024-06-14T08:10:05.888601Z",
     "shell.execute_reply": "2024-06-14T08:10:05.887890Z",
     "shell.execute_reply.started": "2024-06-14T08:10:05.841567Z"
    }
   },
   "outputs": [
    {
     "name": "stdout",
     "output_type": "stream",
     "text": [
      "CellPainting_Profiles\n",
      "snglOpt-150Ltnt_512\n",
      "Autoencoder Training in Baseline mode - SnglOpt, 150 dim latent, 512 Midlayer\n"
     ]
    }
   ],
   "source": [
    "## --- for restarts\n",
    "# args.exp_id   = '0g8w13h6'\n",
    "# args.exp_name = 'AE_0516_1104'\n",
    "# args.exp_date = '20240516'\n",
    "## --- \n",
    "## WandB initialization \n",
    "WANDB_ACTIVE = args.wandb\n",
    "print(args.project_name)\n",
    "print(args.exp_title)\n",
    "print(args.exp_description)\n"
   ]
  },
  {
   "cell_type": "code",
   "execution_count": 27,
   "id": "25af0a4c-8ff7-4196-be19-7b7a67285f03",
   "metadata": {
    "execution": {
     "iopub.execute_input": "2024-06-15T05:09:30.584981Z",
     "iopub.status.busy": "2024-06-15T05:09:30.584437Z",
     "iopub.status.idle": "2024-06-15T05:09:30.630790Z",
     "shell.execute_reply": "2024-06-15T05:09:30.630248Z",
     "shell.execute_reply.started": "2024-06-15T05:09:30.584939Z"
    }
   },
   "outputs": [
    {
     "name": "stderr",
     "output_type": "stream",
     "text": [
      "2024-06-15 07:09:30,624 - __main__ - INFO: -  WandB tracking started\n",
      "2024-06-15 07:09:30,625 - __main__ - INFO: -  Experiment run id:  None\n",
      "2024-06-15 07:09:30,626 - __main__ - INFO: -  Experiment Name  :  None \n",
      "2024-06-15 07:09:30,627 - __main__ - INFO: -  Experiment Title :  snglOpt-150Ltnt_512_256 \n",
      "2024-06-15 07:09:30,627 - __main__ - INFO: -  Experiment Notes :  Autoencoder Training in Baseline mode - SnglOpt, 512-256-150 dim latent\n"
     ]
    }
   ],
   "source": [
    "logger.info(f\" WandB tracking started\")\n",
    "logger.info(f\" Experiment run id:  {args.exp_id}\")\n",
    "logger.info(f\" Experiment Name  :  {args.exp_name} \")\n",
    "# logger.info(f\" Experiment Date  :  {args.exp_date} \")\n",
    "logger.info(f\" Experiment Title :  {args.exp_title} \")\n",
    "logger.info(f\" Experiment Notes :  {args.exp_description}\")"
   ]
  },
  {
   "cell_type": "markdown",
   "id": "19b32e21-67d2-45af-a45f-841b6dca43ff",
   "metadata": {},
   "source": [
    "# Define autoencoder model"
   ]
  },
  {
   "cell_type": "code",
   "execution_count": 28,
   "id": "5c4a4bba-76ef-4fa9-9ea5-ba3c55aecfe9",
   "metadata": {
    "execution": {
     "iopub.execute_input": "2024-06-15T05:09:36.951137Z",
     "iopub.status.busy": "2024-06-15T05:09:36.950508Z",
     "iopub.status.idle": "2024-06-15T05:09:37.071812Z",
     "shell.execute_reply": "2024-06-15T05:09:37.071283Z",
     "shell.execute_reply.started": "2024-06-15T05:09:36.951098Z"
    }
   },
   "outputs": [
    {
     "name": "stdout",
     "output_type": "stream",
     "text": [
      "Defining model in baseline mode\n",
      "    Model_init()_    -- AE - support for unsupervised in autoencoding mode is True\n",
      "    layer pair:    0  type:linear           input:   1471  output:   1024    weights: [1024, 1471]   \n",
      "    layer pair:    1  type:relu             input:      0  output:      0    weights: [0, 0]   \n",
      "    layer pair:    2  type:linear           input:   1024  output:    512    weights: [512, 1024]   \n",
      "    layer pair:    3  type:relu             input:      0  output:      0    weights: [0, 0]   \n",
      "    layer pair:    4  type:linear           input:    512  output:    256    weights: [256, 512]   \n",
      "    layer pair:    5  type:relu             input:      0  output:      0    weights: [0, 0]   \n",
      "    layer pair:    6  type:linear           input:    256  output:    150    weights: [150, 256]   \n",
      "    layer pair:    7  type:sigmoid          input:      0  output:      0    weights: [0, 0]   \n",
      "    layer pair:    8  type:linear           input:    150  output:    256    weights: [256, 150]   \n",
      "    layer pair:    9  type:relu             input:      0  output:      0    weights: [0, 0]   \n",
      "    layer pair:   10  type:linear           input:    256  output:    512    weights: [512, 256]   \n",
      "    layer pair:   11  type:relu             input:      0  output:      0    weights: [0, 0]   \n",
      "    layer pair:   12  type:linear           input:    512  output:   1024    weights: [1024, 512]   \n",
      "    layer pair:   13  type:relu             input:      0  output:      0    weights: [0, 0]   \n",
      "    layer pair:   14  type:linear           input:   1024  output:   1471    weights: [1471, 1024]   \n"
     ]
    },
    {
     "name": "stderr",
     "output_type": "stream",
     "text": [
      "/home/kevin/miniforge3/envs/ptsnnl/lib/python3.11/site-packages/torch/optim/lr_scheduler.py:28: UserWarning: The verbose parameter is deprecated. Please use get_last_lr() to access the learning rate.\n",
      "  warnings.warn(\"The verbose parameter is deprecated. Please use get_last_lr() \"\n"
     ]
    },
    {
     "data": {
      "text/plain": [
       "'cuda:0'"
      ]
     },
     "execution_count": 28,
     "metadata": {},
     "output_type": "execute_result"
    },
    {
     "data": {
      "text/plain": [
       "6"
      ]
     },
     "execution_count": 28,
     "metadata": {},
     "output_type": "execute_result"
    }
   ],
   "source": [
    "model = define_autoencoder_model(args, embedding_layer = args.embedding_layer, device = current_device)\n",
    "model.device\n",
    "model.embedding_layer"
   ]
  },
  {
   "cell_type": "code",
   "execution_count": 29,
   "id": "acb11365-5fa8-4a94-ba70-bfe9bc16df18",
   "metadata": {
    "execution": {
     "iopub.execute_input": "2024-06-15T05:09:40.044029Z",
     "iopub.status.busy": "2024-06-15T05:09:40.043672Z",
     "iopub.status.idle": "2024-06-15T05:09:40.086313Z",
     "shell.execute_reply": "2024-06-15T05:09:40.085594Z",
     "shell.execute_reply.started": "2024-06-15T05:09:40.043997Z"
    },
    "scrolled": true
   },
   "outputs": [
    {
     "name": "stdout",
     "output_type": "stream",
     "text": [
      "\n",
      "command line parms : \n",
      "-----------------------\n",
      "SGD_weight_decay.........  0\n",
      "adam_weight_decay........  0\n",
      "batch_size...............  1\n",
      "\n",
      "    cellpainting_args   (dict)\n",
      "    ----------------------------\n",
      "    batch_size...............  1\n",
      "    chunksize................  None\n",
      "    compounds_per_batch......  100\n",
      "    conversions..............  None\n",
      "    iterator.................  True\n",
      "    sample_size..............  3\n",
      "    test_end.................  33600\n",
      "    test_path................  /home/kevin/WSL-shared/Cellpainting/cj-datasets/output_11102023/3_sample_profiles/3sample_profiles_1482_HashOrder_test.csv\n",
      "    test_start...............  30000\n",
      "    train_end................  240000\n",
      "    train_start..............  0\n",
      "    training_path............  /home/kevin/WSL-shared/Cellpainting/cj-datasets/output_11102023/3_sample_profiles/3sample_profiles_1482_HashOrder.csv\n",
      "    val_end..................  24000\n",
      "    val_start................  0\n",
      "    validation_path..........  /home/kevin/WSL-shared/Cellpainting/cj-datasets/output_11102023/3_sample_profiles/3sample_profiles_1482_HashOrder_test.csv\n",
      "\n",
      "ckpt.....................  AE_baseline_20240614_snglOpt-150Ltnt_512_256_ep_300.pt\n",
      "code_units...............  150\n",
      "configuration............  hyperparameters/ae_cp_150_512_256.yaml\n",
      "dataset..................  cellpainting\n",
      "embedding_layer..........  6\n",
      "epochs...................  1\n",
      "exp_description..........  Autoencoder Training in Baseline mode - SnglOpt, 512-256-150 dim latent\n",
      "exp_folder...............  None\n",
      "exp_id...................  None\n",
      "exp_name.................  None\n",
      "exp_name_pfx.............  None\n",
      "exp_title................  snglOpt-150Ltnt_512_256\n",
      "folder_sfx...............  None\n",
      "gpu_id...................  0\n",
      "input_shape..............  1471\n",
      "learning_rate............  0.001\n",
      "loss_factor..............  1.0\n",
      "\n",
      "    paths   (dict)\n",
      "    ----------------\n",
      "    checkpoint_dir...........  ./ckpt\n",
      "    log_dir..................  ./logs\n",
      "    result_dir...............  ./results\n",
      "\n",
      "project_name.............  CellPainting_Profiles\n",
      "random_seed..............  1234\n",
      "runmode..................  baseline\n",
      "save_every...............  25\n",
      "show_every...............  1\n",
      "snnl_factor..............  0.0\n",
      "temperature..............  0.0\n",
      "temperatureLR............  0.0\n",
      "units....................  [['linear', 1471, 1024], ['relu', 0, 0], ['linear', 1024, 512], ['relu', 0, 0], ['linear', 512, 256], ['relu', 0, 0], ['linear', 256, 150], ['sigmoid', 0, 0], ['linear', 150, 256], ['relu', 0, 0], ['linear', 256, 512], ['relu', 0, 0], ['linear', 512, 1024], ['relu', 0, 0], ['linear', 1024, 1471]]\n",
      "wandb....................  False\n",
      "\n"
     ]
    }
   ],
   "source": [
    "list_namespace(args)"
   ]
  },
  {
   "cell_type": "markdown",
   "id": "94aeaa82-14c5-465c-ae6e-bb792ba8a973",
   "metadata": {},
   "source": [
    "# Load model checkpoint "
   ]
  },
  {
   "cell_type": "code",
   "execution_count": 30,
   "id": "6378a7ac-77a0-4ae4-a45f-fba57141a8cb",
   "metadata": {
    "execution": {
     "iopub.execute_input": "2024-06-15T05:09:42.961796Z",
     "iopub.status.busy": "2024-06-15T05:09:42.961222Z",
     "iopub.status.idle": "2024-06-15T05:09:43.003219Z",
     "shell.execute_reply": "2024-06-15T05:09:43.002381Z",
     "shell.execute_reply.started": "2024-06-15T05:09:42.961755Z"
    }
   },
   "outputs": [],
   "source": [
    "# ex_mode = 'snnl'\n",
    "ex_name = \"AE\"\n",
    "ex_runmode = 'baseline'\n",
    "ex_date = \"20240614\"\n",
    "ex_title=f\"snglOpt-{LATENT_DIM}Ltnt{HIDDEN_1}{HIDDEN_2}\"\n",
    "ex_epochs = 200\n",
    "# runmode = 'snnl'\n",
    "# ex_date = '20240516'\n",
    "# ex_title = args.exp_title\n",
    "# ex_epoch = 200"
   ]
  },
  {
   "cell_type": "code",
   "execution_count": 31,
   "id": "160dcd8a-2dfb-4dfd-ac4c-06ebeeef0706",
   "metadata": {
    "execution": {
     "iopub.execute_input": "2024-06-15T05:09:43.954442Z",
     "iopub.status.busy": "2024-06-15T05:09:43.954230Z",
     "iopub.status.idle": "2024-06-15T05:09:43.986923Z",
     "shell.execute_reply": "2024-06-15T05:09:43.986219Z",
     "shell.execute_reply.started": "2024-06-15T05:09:43.954424Z"
    }
   },
   "outputs": [
    {
     "name": "stdout",
     "output_type": "stream",
     "text": [
      "AE_baseline_20240614_snglOpt-150Ltnt_512_256_200.pt\n",
      "AE_baseline_20240614_snglOpt-150Ltnt_512_256*.pt\n"
     ]
    }
   ],
   "source": [
    "# filename = f\"{model.name}_{ex_runmode}_{ex_date}_{ex_title}_{epochs:03d}_cpb_{ex_cpb}_factor_{ex_factor:d}.pt\"\n",
    "# file_pattern = f\"{model.name}_{ex_runmode}_{ex_date}_{ex_title}_*_cpb_{ex_cpb}_factor_{ex_factor:d}.pt\"\n",
    "filename = f\"{ex_name}_{ex_runmode}_{ex_date}_{ex_title}_{ex_epochs:03d}.pt\"\n",
    "print(filename)\n",
    "file_pattern = f\"{ex_name}_{ex_runmode}_{ex_date}_{ex_title}*.pt\"\n",
    "print(file_pattern)"
   ]
  },
  {
   "cell_type": "code",
   "execution_count": 34,
   "id": "443a1a56-bb1e-4d71-97d6-f1cc48fe3ef9",
   "metadata": {
    "execution": {
     "iopub.execute_input": "2024-06-15T05:10:56.725100Z",
     "iopub.status.busy": "2024-06-15T05:10:56.724525Z",
     "iopub.status.idle": "2024-06-15T05:10:56.778777Z",
     "shell.execute_reply": "2024-06-15T05:10:56.778182Z",
     "shell.execute_reply.started": "2024-06-15T05:10:56.725057Z"
    }
   },
   "outputs": [
    {
     "data": {
      "text/plain": [
       "['AE_baseline_20240614_snglOpt-150Ltnt_512_256_ep_025.pt',\n",
       " 'AE_baseline_20240614_snglOpt-150Ltnt_512_256_ep_050.pt',\n",
       " 'AE_baseline_20240614_snglOpt-150Ltnt_512_256_ep_075.pt',\n",
       " 'AE_baseline_20240614_snglOpt-150Ltnt_512_256_ep_100.pt',\n",
       " 'AE_baseline_20240614_snglOpt-150Ltnt_512_256_ep_125.pt',\n",
       " 'AE_baseline_20240614_snglOpt-150Ltnt_512_256_ep_150.pt',\n",
       " 'AE_baseline_20240614_snglOpt-150Ltnt_512_256_ep_175.pt',\n",
       " 'AE_baseline_20240614_snglOpt-150Ltnt_512_256_ep_200.pt',\n",
       " 'AE_baseline_20240614_snglOpt-150Ltnt_512_256_ep_225.pt',\n",
       " 'AE_baseline_20240614_snglOpt-150Ltnt_512_256_ep_250.pt',\n",
       " 'AE_baseline_20240614_snglOpt-150Ltnt_512_256_ep_275.pt',\n",
       " 'AE_baseline_20240614_snglOpt-150Ltnt_512_256_ep_300.pt']"
      ]
     },
     "execution_count": 34,
     "metadata": {},
     "output_type": "execute_result"
    },
    {
     "data": {
      "text/plain": [
       "[25, 50, 75, 100, 125, 150, 175, 200, 225, 250, 275, 300]"
      ]
     },
     "execution_count": 34,
     "metadata": {},
     "output_type": "execute_result"
    }
   ],
   "source": [
    "import glob\n",
    "filelist = glob.glob(file_pattern,root_dir = './ckpts')\n",
    "filelist = sorted(filelist)\n",
    "filelist\n",
    "epochlist =sorted([int(x[-6:-3]) for x in filelist])\n",
    "epochlist\n",
    " "
   ]
  },
  {
   "cell_type": "code",
   "execution_count": 67,
   "id": "97bc788d-72ab-4d63-93be-4bfc64695dd8",
   "metadata": {
    "execution": {
     "iopub.execute_input": "2024-06-15T05:30:18.848324Z",
     "iopub.status.busy": "2024-06-15T05:30:18.847981Z",
     "iopub.status.idle": "2024-06-15T05:30:18.892018Z",
     "shell.execute_reply": "2024-06-15T05:30:18.891119Z",
     "shell.execute_reply.started": "2024-06-15T05:30:18.848296Z"
    }
   },
   "outputs": [
    {
     "name": "stdout",
     "output_type": "stream",
     "text": [
      "AE_baseline_20240614_snglOpt-150Ltnt_512_256_ep_300.pt\n",
      "\n",
      " *** Checkpoint EXISTS *** \n",
      "\n"
     ]
    }
   ],
   "source": [
    "# filename = f\"{model.name}_{args.runmode}_{ex_date}_{ex_title}_ep_{ex_epoch:03d}\"   \n",
    "filename = filelist[-1]\n",
    "if filename[-3:] != '.pt':\n",
    "    filename+='.pt'\n",
    "print(filename)\n",
    "\n",
    "if os.path.exists(os.path.join('ckpts', filename)):\n",
    "    print(f\"\\n *** Checkpoint EXISTS *** \\n\")\n",
    "else:\n",
    "    print(f\"\\n *** Checkpoint DOESNT EXIST *** \\n\")"
   ]
  },
  {
   "cell_type": "code",
   "execution_count": 68,
   "id": "8ce87441-c09e-43e3-a982-ba25c7728827",
   "metadata": {
    "execution": {
     "iopub.execute_input": "2024-06-15T05:30:20.229670Z",
     "iopub.status.busy": "2024-06-15T05:30:20.229359Z",
     "iopub.status.idle": "2024-06-15T05:30:20.361099Z",
     "shell.execute_reply": "2024-06-15T05:30:20.360385Z",
     "shell.execute_reply.started": "2024-06-15T05:30:20.229649Z"
    }
   },
   "outputs": [
    {
     "name": "stderr",
     "output_type": "stream",
     "text": [
      "2024-06-15 07:30:20,265 - root - INFO: -  Load model checkpoint from  AE_baseline_20240614_snglOpt-150Ltnt_512_256_ep_300.pt\n",
      "2024-06-15 07:30:20,356 - snnl.utils.utils - INFO: -  ==> Loaded from checkpoint AE_baseline_20240614_snglOpt-150Ltnt_512_256_ep_300.pt successfully. last epoch on checkpoint: 300\n"
     ]
    },
    {
     "name": "stdout",
     "output_type": "stream",
     "text": [
      "\n",
      " last epoch : 300\n"
     ]
    }
   ],
   "source": [
    "mdl , last_epoch = load_checkpoint_v2(model, filename)  \n",
    "print(f\" last epoch : {last_epoch}\")"
   ]
  },
  {
   "cell_type": "code",
   "execution_count": 69,
   "id": "ddc4dd2e-8c68-40ff-88ee-62bdde6fc522",
   "metadata": {
    "execution": {
     "iopub.execute_input": "2024-06-15T05:30:23.655455Z",
     "iopub.status.busy": "2024-06-15T05:30:23.655010Z",
     "iopub.status.idle": "2024-06-15T05:30:23.697372Z",
     "shell.execute_reply": "2024-06-15T05:30:23.696672Z",
     "shell.execute_reply.started": "2024-06-15T05:30:23.655414Z"
    }
   },
   "outputs": [
    {
     "name": "stdout",
     "output_type": "stream",
     "text": [
      "cuda:0\n",
      "cuda:1\n"
     ]
    }
   ],
   "source": [
    "print(current_device)\n",
    "print(model.device)"
   ]
  },
  {
   "cell_type": "code",
   "execution_count": 70,
   "id": "e3295286-fe91-4d21-8ad7-0b9ea68c249e",
   "metadata": {
    "execution": {
     "iopub.execute_input": "2024-06-15T05:30:23.876345Z",
     "iopub.status.busy": "2024-06-15T05:30:23.876135Z",
     "iopub.status.idle": "2024-06-15T05:30:23.907686Z",
     "shell.execute_reply": "2024-06-15T05:30:23.907053Z",
     "shell.execute_reply.started": "2024-06-15T05:30:23.876326Z"
    }
   },
   "outputs": [],
   "source": [
    "model.device = current_device"
   ]
  },
  {
   "cell_type": "code",
   "execution_count": 71,
   "id": "7cd34f37-5124-4192-8746-39f2a2e7719b",
   "metadata": {
    "execution": {
     "iopub.execute_input": "2024-06-15T05:30:25.537399Z",
     "iopub.status.busy": "2024-06-15T05:30:25.537062Z",
     "iopub.status.idle": "2024-06-15T05:30:25.575996Z",
     "shell.execute_reply": "2024-06-15T05:30:25.575031Z",
     "shell.execute_reply.started": "2024-06-15T05:30:25.537368Z"
    }
   },
   "outputs": [
    {
     "name": "stdout",
     "output_type": "stream",
     "text": [
      "cuda:0\n",
      "cuda:0\n"
     ]
    }
   ],
   "source": [
    "print(model.device)\n",
    "print(current_device)"
   ]
  },
  {
   "cell_type": "code",
   "execution_count": 72,
   "id": "4f4bc92d-95ef-4f06-bfae-e6295cc4fe96",
   "metadata": {
    "execution": {
     "iopub.execute_input": "2024-06-15T05:30:30.423937Z",
     "iopub.status.busy": "2024-06-15T05:30:30.423557Z",
     "iopub.status.idle": "2024-06-15T05:30:30.463746Z",
     "shell.execute_reply": "2024-06-15T05:30:30.463067Z",
     "shell.execute_reply.started": "2024-06-15T05:30:30.423907Z"
    }
   },
   "outputs": [
    {
     "data": {
      "text/plain": [
       "Autoencoder(\n",
       "  (primary_criterion): MSELoss()\n",
       "  (layers): ModuleList(\n",
       "    (0): Linear(in_features=1471, out_features=1024, bias=True)\n",
       "    (1): ReLU()\n",
       "    (2): Linear(in_features=1024, out_features=512, bias=True)\n",
       "    (3): ReLU()\n",
       "    (4): Linear(in_features=512, out_features=256, bias=True)\n",
       "    (5): ReLU()\n",
       "    (6): Linear(in_features=256, out_features=150, bias=True)\n",
       "    (7): Sigmoid()\n",
       "    (8): Linear(in_features=150, out_features=256, bias=True)\n",
       "    (9): ReLU()\n",
       "    (10): Linear(in_features=256, out_features=512, bias=True)\n",
       "    (11): ReLU()\n",
       "    (12): Linear(in_features=512, out_features=1024, bias=True)\n",
       "    (13): ReLU()\n",
       "    (14): Linear(in_features=1024, out_features=1471, bias=True)\n",
       "  )\n",
       ")"
      ]
     },
     "execution_count": 72,
     "metadata": {},
     "output_type": "execute_result"
    },
    {
     "name": "stdout",
     "output_type": "stream",
     "text": [
      "cuda:0\n"
     ]
    }
   ],
   "source": [
    "model.train()\n",
    "model = model.cuda(device=current_device)\n",
    "print(model.device)"
   ]
  },
  {
   "cell_type": "code",
   "execution_count": null,
   "id": "5ce3e754-05af-4d61-a66d-f5b3b4c0204c",
   "metadata": {
    "execution": {
     "iopub.execute_input": "2024-06-14T08:12:17.295218Z",
     "iopub.status.busy": "2024-06-14T08:12:17.294618Z",
     "iopub.status.idle": "2024-06-14T08:12:17.342496Z",
     "shell.execute_reply": "2024-06-14T08:12:17.341673Z",
     "shell.execute_reply.started": "2024-06-14T08:12:17.295176Z"
    }
   },
   "outputs": [],
   "source": [
    "# print(f\" last epoch  {last_epoch}\")\n",
    "\n",
    "# starting_epoch = 20\n",
    "# starting_epoch = last_epoch\n",
    "# epochs = last_epoch + 100\n",
    "# starting_epoch = epoch + 1\n",
    "# print(f\" run epochs {starting_epoch+1} to {epochs} \")"
   ]
  },
  {
   "cell_type": "code",
   "execution_count": 73,
   "id": "38415dc7-169e-4663-bd8e-0ee701181935",
   "metadata": {
    "execution": {
     "iopub.execute_input": "2024-06-15T05:31:28.202542Z",
     "iopub.status.busy": "2024-06-15T05:31:28.202112Z",
     "iopub.status.idle": "2024-06-15T05:31:28.248093Z",
     "shell.execute_reply": "2024-06-15T05:31:28.247472Z",
     "shell.execute_reply.started": "2024-06-15T05:31:28.202486Z"
    }
   },
   "outputs": [
    {
     "name": "stdout",
     "output_type": "stream",
     "text": [
      " Define self.training_history['gen'] \n",
      " Best training loss     : 0.160659 - epoch: 289\n",
      " Best training metric   : 0.700939 - epoch: 292\n",
      "\n",
      " Best validation loss   : 0.202701 - epoch: 214\n",
      " Best validation metric : 0.648686 - epoch: 47\n",
      "\n"
     ]
    }
   ],
   "source": [
    "if 'gen' not in model.training_history:\n",
    "    print(f\" Define self.training_history['gen'] \")\n",
    "    model.training_history['gen'] = {'trn_best_metric' : 0, 'trn_best_metric_ep' : 0, 'trn_best_loss': 0, 'trn_best_loss_ep' : 0 ,\n",
    "                                    'val_best_metric' : 0, 'val_best_metric_ep' : 0, 'val_best_loss': 0, 'val_best_loss_ep' : 0 }        \n",
    "\n",
    "    for key in ['trn', 'val']:\n",
    "        tmp = np.argmin(model.training_history[key][f'{key}_ttl_loss'])\n",
    "        model.training_history['gen'][f'{key}_best_loss_ep'] = tmp\n",
    "        model.training_history['gen'][f'{key}_best_loss']    = model.training_history[key][f'{key}_ttl_loss'][tmp]\n",
    "        \n",
    "        tmp1 = np.argmax(model.training_history[key][f'{key}_R2_score'])\n",
    "        model.training_history['gen'][f'{key}_best_metric_ep'] = tmp1\n",
    "        model.training_history['gen'][f'{key}_best_metric'] = model.training_history[key][f'{key}_R2_score'][tmp1]\n",
    " \n",
    "print(f\" Best training loss     : {model.training_history['gen']['trn_best_loss']:6f} - epoch: {model.training_history['gen']['trn_best_loss_ep']}\") \n",
    "print(f\" Best training metric   : {model.training_history['gen']['trn_best_metric']:6f} - epoch: {model.training_history['gen']['trn_best_metric_ep']}\") \n",
    "print() \n",
    "print(f\" Best validation loss   : {model.training_history['gen']['val_best_loss']:6f} - epoch: {model.training_history['gen']['val_best_loss_ep']}\") \n",
    "print(f\" Best validation metric : {model.training_history['gen']['val_best_metric']:6f} - epoch: {model.training_history['gen']['val_best_metric_ep']}\") \n",
    "print()\n"
   ]
  },
  {
   "cell_type": "code",
   "execution_count": null,
   "id": "301de23d-6f76-4e9b-b0ff-d3b16e587630",
   "metadata": {
    "execution": {
     "iopub.execute_input": "2024-06-15T05:24:53.660212Z",
     "iopub.status.busy": "2024-06-15T05:24:53.659647Z",
     "iopub.status.idle": "2024-06-15T05:24:53.704220Z",
     "shell.execute_reply": "2024-06-15T05:24:53.703501Z",
     "shell.execute_reply.started": "2024-06-15T05:24:53.660171Z"
    }
   },
   "outputs": [],
   "source": [
    "# del model.training_history['trn']['trn_R2_scroe']\n",
    "model.training_history['trn'].keys()\n",
    "if 'gen' not in model.training_history:\n",
    "    print(f\" Define self.training_history['gen'] \")\n",
    "    model.training_history['gen'] = {'trn_best_metric' : 0, 'trn_best_metric_ep' : 0, 'trn_best_loss': 0, 'trn_best_loss_ep' : 0 ,\n",
    "                                    'val_best_metric' : 0, 'val_best_metric_ep' : 0, 'val_best_loss': 0, 'val_best_loss_ep' : 0 }        \n",
    "\n",
    "    for key in ['trn', 'val']:\n",
    "        tmp = np.argmin(model.training_history[key][f'{key}_ttl_loss'])\n",
    "        model.training_history['gen'][f'{key}_best_loss_ep'] = tmp\n",
    "        model.training_history['gen'][f'{key}_best_loss']    = model.training_history[key][f'{key}_ttl_loss'][tmp]\n",
    "        \n",
    "        tmp1 = np.argmax(model.training_history[key][f'{key}_R2_score'])\n",
    "        model.training_history['gen'][f'{key}_best_metric_ep'] = tmp1\n",
    "        model.training_history['gen'][f'{key}_best_metric'] = model.training_history[key][f'{key}_R2_score'][tmp1]\n",
    "    \n",
    "        print(f\" Best {key} training loss     : {model.training_history['gen'][f'{key}_best_loss']:6f} - epoch: {model.training_history['gen'][f'{key}_best_loss_ep']}\") \n",
    "        print(f\" Best {key} training metric   : {model.training_history['gen'][f'{key}_best_metric']:6f} - epoch: {model.training_history['gen'][f'{key}_best_metric_ep']}\") "
   ]
  },
  {
   "cell_type": "code",
   "execution_count": 82,
   "id": "56e35de9-9432-4145-a567-671b66a6051a",
   "metadata": {
    "execution": {
     "iopub.execute_input": "2024-06-14T08:16:39.346086Z",
     "iopub.status.busy": "2024-06-14T08:16:39.345503Z",
     "iopub.status.idle": "2024-06-14T08:16:39.393682Z",
     "shell.execute_reply": "2024-06-14T08:16:39.393067Z",
     "shell.execute_reply.started": "2024-06-14T08:16:39.346042Z"
    }
   },
   "outputs": [
    {
     "name": "stdout",
     "output_type": "stream",
     "text": [
      "\n",
      " model device         : cuda:0\n",
      " model temperature    : 0\n",
      "\n",
      " loss_factor          : 1.0\n",
      " monitor_grads_layer  : None\n",
      " Learning rate        : 0.0005\n",
      " snnl_factor          : 0.0\n",
      "\n",
      " Last epoch : 325\n",
      " trn_time             : 09:28:18  \n",
      " trn_ttl_loss         : 0.161830 \n",
      " trn_prim_loss        : 0.161830 \n",
      " trn_snn_loss         : 0.000000 \n",
      " trn_R2_score         : 0.682377 \n",
      " trn_lr               : 0.000500 \n",
      "\n",
      " Last epoch : 325\n",
      " val_time             : 09:28:30  \n",
      " val_ttl_loss         : 0.163242 \n",
      " val_prim_loss        : 0.163242 \n",
      " val_snn_loss         : 0.000000 \n",
      " val_R2_score         : 0.654702 \n",
      "\n"
     ]
    }
   ],
   "source": [
    "print()\n",
    "print(f\" model device         : {model.device}\")\n",
    "print(f\" model temperature    : {model.temperature}\")\n",
    "print() \n",
    "print(f\" loss_factor          : {model.loss_factor}\")\n",
    "print(f\" monitor_grads_layer  : {model.monitor_grads_layer}\")\n",
    "print(f\" Learning rate        : {model.optimizer.param_groups[0]['lr']}\") \n",
    "print(f\" snnl_factor          : {model.snnl_factor}\")\n",
    "if model.use_snnl:\n",
    "    print(f\" temperature          : {model.temperature.item()}\")\n",
    "if model.temp_optimizer is not None:\n",
    "    print(f\" Temperature LR       : {model.temp_optimizer.param_groups[0]['lr']}\") \n",
    "print()\n",
    "\n",
    "for th_key in ['trn', 'val']:\n",
    "    tm = th_key+'_time'\n",
    "    print(f\" Last epoch : {len(model.training_history[th_key][tm])}\")\n",
    "    for k,v in model.training_history[th_key].items():\n",
    "        if isinstance(v[-1],str):\n",
    "            print(f\" {k:20s} : {v[-1]:s}  \")\n",
    "        else:\n",
    "            print(f\" {k:20s} : {v[-1]:6f} \")\n",
    "    print()\n"
   ]
  },
  {
   "cell_type": "code",
   "execution_count": 81,
   "id": "3d735464-59c6-4334-a4d8-87393892aa7f",
   "metadata": {
    "execution": {
     "iopub.execute_input": "2024-06-14T08:16:35.980932Z",
     "iopub.status.busy": "2024-06-14T08:16:35.980368Z",
     "iopub.status.idle": "2024-06-14T08:16:36.028328Z",
     "shell.execute_reply": "2024-06-14T08:16:36.027563Z",
     "shell.execute_reply.started": "2024-06-14T08:16:35.980890Z"
    }
   },
   "outputs": [
    {
     "data": {
      "text/plain": [
       "dict_keys(['val_time', 'val_ttl_loss', 'val_prim_loss', 'val_snn_loss', 'val_R2_score'])"
      ]
     },
     "execution_count": 81,
     "metadata": {},
     "output_type": "execute_result"
    }
   ],
   "source": [
    "model.training_history['val'].keys()\n",
    "# del model.training_history['val']['trn_time']"
   ]
  },
  {
   "cell_type": "code",
   "execution_count": 85,
   "id": "0fdedf1b-984e-4a23-a168-fee3cdfc1b6d",
   "metadata": {
    "execution": {
     "iopub.execute_input": "2024-06-14T08:18:27.642032Z",
     "iopub.status.busy": "2024-06-14T08:18:27.641432Z",
     "iopub.status.idle": "2024-06-14T08:18:27.688536Z",
     "shell.execute_reply": "2024-06-14T08:18:27.687796Z",
     "shell.execute_reply.started": "2024-06-14T08:18:27.641977Z"
    }
   },
   "outputs": [
    {
     "name": "stdout",
     "output_type": "stream",
     "text": [
      "\n",
      " Current device      : cuda:0\n",
      " Model device        : cuda:0\n",
      " SNNL temperature    : 0\n",
      " Learning rate       : 0.0005\n",
      " snnl_factor         : 0.0\n",
      " loss_factor         : 1.0\n",
      " monitor_grads_layer : None\n",
      " Use Scheduler       : True\n",
      " Use snnl            : False\n",
      "\n",
      " Last epoch : 325\n",
      " trn_time             : 09:28:18  \n",
      " trn_ttl_loss         : 0.161830 \n",
      " trn_prim_loss        : 0.161830 \n",
      " trn_snn_loss         : 0.000000 \n",
      " trn_R2_score         : 0.682377 \n",
      " trn_lr               : 0.000500 \n",
      "\n",
      " Last epoch : 325\n",
      " val_time             : 09:28:30  \n",
      " val_ttl_loss         : 0.163242 \n",
      " val_prim_loss        : 0.163242 \n",
      " val_snn_loss         : 0.000000 \n",
      " val_R2_score         : 0.654702 \n",
      "\n"
     ]
    }
   ],
   "source": [
    "print()\n",
    "print(f\" Current device      : {current_device}\")\n",
    "print(f\" Model device        : {model.device}\")\n",
    "print(f\" SNNL temperature    : {model.temperature}\")\n",
    "print(f\" Learning rate       : {model.optimizer.param_groups[0]['lr']}\") \n",
    "print(f\" snnl_factor         : {model.snnl_factor}\")\n",
    "print(f\" loss_factor         : {model.loss_factor}\")\n",
    "print(f\" monitor_grads_layer : {model.monitor_grads_layer}\")\n",
    "print(f\" Use Scheduler       : {model.use_scheduler}\") \n",
    "print(f\" Use snnl            : {model.use_snnl}\") \n",
    "if model.use_snnl:\n",
    "    print(f\" Temperature         : {model.temperature.item()}\")\n",
    "    print(f\" Temperature LR      : {model.temperatureLR}\")     \n",
    "    print(f\" Temperature LR      : {model.optimizer.param_groups[1]['lr']}\") \n",
    "    print(f\" Use Temp Scheduler  : {model.use_temp_scheduler}\") \n",
    "    if model.temp_scheduler:\n",
    "        print(f\" Temp Scheduler      : {model.temp_scheduler}\") \n",
    "    if model.temp_optimizer:\n",
    "        print(f\" Temperature LR      : {model.temp_optimizer.param_groups[0]['lr']}\") \n",
    "print()\n",
    "\n",
    "for th_key in ['trn', 'val']:\n",
    "    tm = th_key+'_time'\n",
    "    print(f\" Last epoch : {len(model.training_history[th_key][tm])}\")\n",
    "    for k,v in model.training_history[th_key].items():\n",
    "        if isinstance(v[-1],str):\n",
    "            print(f\" {k:20s} : {v[-1]:s}  \")\n",
    "        else:\n",
    "            print(f\" {k:20s} : {v[-1]:6f} \")\n",
    "    print()"
   ]
  },
  {
   "cell_type": "code",
   "execution_count": 66,
   "id": "d116ac2b-6dd6-4b5c-b112-48c8dfadbfaf",
   "metadata": {
    "execution": {
     "iopub.execute_input": "2024-06-15T05:29:19.560126Z",
     "iopub.status.busy": "2024-06-15T05:29:19.559685Z",
     "iopub.status.idle": "2024-06-15T05:29:19.607297Z",
     "shell.execute_reply": "2024-06-15T05:29:19.606212Z",
     "shell.execute_reply.started": "2024-06-15T05:29:19.560095Z"
    },
    "scrolled": true
   },
   "outputs": [
    {
     "name": "stdout",
     "output_type": "stream",
     "text": [
      "                     |   Trn_loss    PrimLoss      SNNL   |    temp*        grad     |   R2                     |   Vld_loss    PrimLoss      SNNL   |   R2                     |    LR       temp LR   |\n",
      "---------------------+------------------------------------+--------------------------+--------------------------+------------------------------------+--------------------------|-----------------------|\n",
      "14:56:01 ep   1 /300 |   0.522325    0.522325    0.000000 |   0.000000    0.0000e+00 |   0.2479    292          |   0.435494    0.435494    0.000000 |   0.3753     47          |   0.001000   0.000000 |\n",
      "14:58:13 ep   2 /300 |   0.417154    0.417154    0.000000 |   0.000000    0.0000e+00 |   0.4585    292          |   0.386499    0.386499    0.000000 |   0.4721     47          |   0.001000   0.000000 |\n",
      "15:00:26 ep   3 /300 |   0.365826    0.365826    0.000000 |   0.000000    0.0000e+00 |   0.4993    292          |   0.367264    0.367264    0.000000 |   0.5071     47          |   0.001000   0.000000 |\n",
      "15:02:38 ep   4 /300 |   0.342331    0.342331    0.000000 |   0.000000    0.0000e+00 |   0.5253    292          |   0.348617    0.348617    0.000000 |   0.5033     47          |   0.001000   0.000000 |\n",
      "15:04:49 ep   5 /300 |   0.317639    0.317639    0.000000 |   0.000000    0.0000e+00 |   0.5399    292          |   0.319250    0.319250    0.000000 |   0.5616     47          |   0.001000   0.000000 |\n",
      "15:07:00 ep   6 /300 |   0.309839    0.309839    0.000000 |   0.000000    0.0000e+00 |   0.5487    292          |   0.303146    0.303146    0.000000 |   0.5513     47          |   0.001000   0.000000 |\n",
      "15:09:11 ep   7 /300 |   0.297573    0.297573    0.000000 |   0.000000    0.0000e+00 |   0.5578    292          |   0.307321    0.307321    0.000000 |   0.5604     47          |   0.001000   0.000000 |\n",
      "15:11:23 ep   8 /300 |   0.288876    0.288876    0.000000 |   0.000000    0.0000e+00 |   0.5608    292          |   0.302126    0.302126    0.000000 |   0.5657     47          |   0.001000   0.000000 |\n",
      "15:13:37 ep   9 /300 |   0.285637    0.285637    0.000000 |   0.000000    0.0000e+00 |   0.5628    292          |   0.311783    0.311783    0.000000 |   0.5270     47          |   0.001000   0.000000 |\n",
      "15:15:52 ep  10 /300 |   0.277914    0.277914    0.000000 |   0.000000    0.0000e+00 |   0.5666    292          |   0.305008    0.305008    0.000000 |   0.5734     47          |   0.001000   0.000000 |\n",
      "15:18:04 ep  11 /300 |   0.269805    0.269805    0.000000 |   0.000000    0.0000e+00 |   0.5675    292          |   0.272727    0.272727    0.000000 |   0.5805     47          |   0.001000   0.000000 |\n",
      "15:20:16 ep  12 /300 |   0.264619    0.264619    0.000000 |   0.000000    0.0000e+00 |   0.5680    292          |   0.280094    0.280094    0.000000 |   0.5714     47          |   0.001000   0.000000 |\n",
      "15:22:31 ep  13 /300 |   0.269937    0.269937    0.000000 |   0.000000    0.0000e+00 |   0.5614    292          |   0.291548    0.291548    0.000000 |   0.5480     47          |   0.001000   0.000000 |\n",
      "15:24:45 ep  14 /300 |   0.262095    0.262095    0.000000 |   0.000000    0.0000e+00 |   0.5729    292          |   0.275823    0.275823    0.000000 |   0.5626     47          |   0.001000   0.000000 |\n",
      "15:27:00 ep  15 /300 |   0.262269    0.262269    0.000000 |   0.000000    0.0000e+00 |   0.5750    292          |   0.273995    0.273995    0.000000 |   0.5771     47          |   0.001000   0.000000 |\n",
      "15:29:13 ep  16 /300 |   0.254874    0.254874    0.000000 |   0.000000    0.0000e+00 |   0.5771    292          |   0.268749    0.268749    0.000000 |   0.5806     47          |   0.001000   0.000000 |\n",
      "15:31:27 ep  17 /300 |   0.252137    0.252137    0.000000 |   0.000000    0.0000e+00 |   0.5791    292          |   0.258921    0.258921    0.000000 |   0.6254     47          |   0.001000   0.000000 |\n",
      "15:33:41 ep  18 /300 |   0.251207    0.251207    0.000000 |   0.000000    0.0000e+00 |   0.5850    292          |   0.270929    0.270929    0.000000 |   0.6013     47          |   0.001000   0.000000 |\n",
      "15:35:55 ep  19 /300 |   0.247500    0.247500    0.000000 |   0.000000    0.0000e+00 |   0.5830    292          |   0.258246    0.258246    0.000000 |   0.5793     47          |   0.001000   0.000000 |\n",
      "15:38:10 ep  20 /300 |   0.242319    0.242319    0.000000 |   0.000000    0.0000e+00 |   0.5906    292          |   0.257701    0.257701    0.000000 |   0.5786     47          |   0.001000   0.000000 |\n",
      "15:40:24 ep  21 /300 |   0.243919    0.243919    0.000000 |   0.000000    0.0000e+00 |   0.5882    292          |   0.256863    0.256863    0.000000 |   0.6189     47          |   0.001000   0.000000 |\n",
      "15:42:38 ep  22 /300 |   0.244253    0.244253    0.000000 |   0.000000    0.0000e+00 |   0.5920    292          |   0.256700    0.256700    0.000000 |   0.5852     47          |   0.001000   0.000000 |\n",
      "15:44:50 ep  23 /300 |   0.238342    0.238342    0.000000 |   0.000000    0.0000e+00 |   0.5954    292          |   0.265040    0.265040    0.000000 |   0.6309     47          |   0.001000   0.000000 |\n",
      "15:47:04 ep  24 /300 |   0.238842    0.238842    0.000000 |   0.000000    0.0000e+00 |   0.5968    292          |   0.254665    0.254665    0.000000 |   0.6097     47          |   0.001000   0.000000 |\n",
      "15:49:18 ep  25 /300 |   0.235826    0.235826    0.000000 |   0.000000    0.0000e+00 |   0.5985    292          |   0.251601    0.251601    0.000000 |   0.6131     47          |   0.001000   0.000000 |\n",
      "15:51:31 ep  26 /300 |   0.235472    0.235472    0.000000 |   0.000000    0.0000e+00 |   0.5972    292          |   0.246744    0.246744    0.000000 |   0.5886     47          |   0.001000   0.000000 |\n",
      "15:53:42 ep  27 /300 |   0.230759    0.230759    0.000000 |   0.000000    0.0000e+00 |   0.6009    292          |   0.249527    0.249527    0.000000 |   0.5810     47          |   0.001000   0.000000 |\n",
      "15:55:53 ep  28 /300 |   0.229275    0.229275    0.000000 |   0.000000    0.0000e+00 |   0.6022    292          |   0.243232    0.243232    0.000000 |   0.6132     47          |   0.001000   0.000000 |\n",
      "15:58:02 ep  29 /300 |   0.226473    0.226473    0.000000 |   0.000000    0.0000e+00 |   0.6068    292          |   0.242697    0.242697    0.000000 |   0.6074     47          |   0.001000   0.000000 |\n",
      "16:00:14 ep  30 /300 |   0.230402    0.230402    0.000000 |   0.000000    0.0000e+00 |   0.5994    292          |   0.251463    0.251463    0.000000 |   0.6310     47          |   0.001000   0.000000 |\n",
      "16:02:25 ep  31 /300 |   0.229160    0.229160    0.000000 |   0.000000    0.0000e+00 |   0.5998    292          |   0.265595    0.265595    0.000000 |   0.5849     47          |   0.001000   0.000000 |\n",
      "16:04:35 ep  32 /300 |   0.225885    0.225885    0.000000 |   0.000000    0.0000e+00 |   0.6061    292          |   0.243115    0.243115    0.000000 |   0.5938     47          |   0.001000   0.000000 |\n",
      "16:06:45 ep  33 /300 |   0.226830    0.226830    0.000000 |   0.000000    0.0000e+00 |   0.6051    292          |   0.260329    0.260329    0.000000 |   0.6051     47          |   0.001000   0.000000 |\n",
      "16:08:57 ep  34 /300 |   0.237029    0.237029    0.000000 |   0.000000    0.0000e+00 |   0.6047    292          |   0.247448    0.247448    0.000000 |   0.5875     47          |   0.001000   0.000000 |\n",
      "16:11:10 ep  35 /300 |   0.224385    0.224385    0.000000 |   0.000000    0.0000e+00 |   0.6150    292          |   0.237522    0.237522    0.000000 |   0.5960     47          |   0.001000   0.000000 |\n",
      "16:13:23 ep  36 /300 |   0.223416    0.223416    0.000000 |   0.000000    0.0000e+00 |   0.6146    292          |   0.231313    0.231313    0.000000 |   0.6195     47          |   0.001000   0.000000 |\n",
      "16:15:36 ep  37 /300 |   0.219171    0.219171    0.000000 |   0.000000    0.0000e+00 |   0.6122    292          |   0.231386    0.231386    0.000000 |   0.6174     47          |   0.001000   0.000000 |\n",
      "16:17:48 ep  38 /300 |   0.221329    0.221329    0.000000 |   0.000000    0.0000e+00 |   0.6134    292          |   0.260997    0.260997    0.000000 |   0.5709     47          |   0.001000   0.000000 |\n",
      "16:20:00 ep  39 /300 |   0.225259    0.225259    0.000000 |   0.000000    0.0000e+00 |   0.6098    292          |   0.242921    0.242921    0.000000 |   0.6050     47          |   0.001000   0.000000 |\n",
      "16:22:12 ep  40 /300 |   0.216537    0.216537    0.000000 |   0.000000    0.0000e+00 |   0.6158    292          |   0.238615    0.238615    0.000000 |   0.6274     47          |   0.001000   0.000000 |\n",
      "16:24:28 ep  41 /300 |   0.211733    0.211733    0.000000 |   0.000000    0.0000e+00 |   0.6195    292          |   0.235790    0.235790    0.000000 |   0.6189     47          |   0.001000   0.000000 |\n",
      "16:26:44 ep  42 /300 |   0.213936    0.213936    0.000000 |   0.000000    0.0000e+00 |   0.6178    292          |   0.231707    0.231707    0.000000 |   0.6267     47          |   0.001000   0.000000 |\n",
      "16:28:59 ep  43 /300 |   0.214683    0.214683    0.000000 |   0.000000    0.0000e+00 |   0.6189    292          |   0.237244    0.237244    0.000000 |   0.6256     47          |   0.001000   0.000000 |\n",
      "16:31:14 ep  44 /300 |   0.219431    0.219431    0.000000 |   0.000000    0.0000e+00 |   0.6149    292          |   0.240257    0.240257    0.000000 |   0.6024     47          |   0.001000   0.000000 |\n",
      "16:33:30 ep  45 /300 |   0.213417    0.213417    0.000000 |   0.000000    0.0000e+00 |   0.6255    292          |   0.227344    0.227344    0.000000 |   0.6320     47          |   0.001000   0.000000 |\n",
      "16:35:46 ep  46 /300 |   0.211436    0.211436    0.000000 |   0.000000    0.0000e+00 |   0.6251    292          |   0.239754    0.239754    0.000000 |   0.6189     47          |   0.001000   0.000000 |\n",
      "16:38:00 ep  47 /300 |   0.210829    0.210829    0.000000 |   0.000000    0.0000e+00 |   0.6251    292          |   0.229963    0.229963    0.000000 |   0.5860     47          |   0.001000   0.000000 |\n",
      "16:40:16 ep  48 /300 |   0.207576    0.207576    0.000000 |   0.000000    0.0000e+00 |   0.6267    292          |   0.231450    0.231450    0.000000 |   0.6487     47          |   0.001000   0.000000 |\n",
      "16:42:33 ep  49 /300 |   0.208526    0.208526    0.000000 |   0.000000    0.0000e+00 |   0.6305    292          |   0.235135    0.235135    0.000000 |   0.5818     47          |   0.001000   0.000000 |\n",
      "16:44:47 ep  50 /300 |   0.209315    0.209315    0.000000 |   0.000000    0.0000e+00 |   0.6263    292          |   0.228403    0.228403    0.000000 |   0.6077     47          |   0.001000   0.000000 |\n",
      "16:47:06 ep  51 /300 |   0.209100    0.209100    0.000000 |   0.000000    0.0000e+00 |   0.6295    292          |   0.233703    0.233703    0.000000 |   0.6111     47          |   0.001000   0.000000 |\n",
      "16:49:21 ep  52 /300 |   0.205713    0.205713    0.000000 |   0.000000    0.0000e+00 |   0.6309    292          |   0.228362    0.228362    0.000000 |   0.5870     47          |   0.001000   0.000000 |\n",
      "16:51:39 ep  53 /300 |   0.206278    0.206278    0.000000 |   0.000000    0.0000e+00 |   0.6361    292          |   0.231478    0.231478    0.000000 |   0.6143     47          |   0.001000   0.000000 |\n",
      "16:53:55 ep  54 /300 |   0.209265    0.209265    0.000000 |   0.000000    0.0000e+00 |   0.6282    292          |   0.227715    0.227715    0.000000 |   0.6074     47          |   0.001000   0.000000 |\n",
      "16:56:12 ep  55 /300 |   0.204529    0.204529    0.000000 |   0.000000    0.0000e+00 |   0.6328    292          |   0.228654    0.228654    0.000000 |   0.6219     47          |   0.001000   0.000000 |\n",
      "16:58:32 ep  56 /300 |   0.209221    0.209221    0.000000 |   0.000000    0.0000e+00 |   0.6286    292          |   0.226625    0.226625    0.000000 |   0.5431     47          |   0.001000   0.000000 |\n",
      "17:00:50 ep  57 /300 |   0.204350    0.204350    0.000000 |   0.000000    0.0000e+00 |   0.6341    292          |   0.227490    0.227490    0.000000 |   0.5775     47          |   0.001000   0.000000 |\n",
      "17:03:05 ep  58 /300 |   0.207337    0.207337    0.000000 |   0.000000    0.0000e+00 |   0.6334    292          |   0.225955    0.225955    0.000000 |   0.5902     47          |   0.001000   0.000000 |\n",
      "17:05:19 ep  59 /300 |   0.206903    0.206903    0.000000 |   0.000000    0.0000e+00 |   0.6335    292          |   0.234078    0.234078    0.000000 |   0.5712     47          |   0.001000   0.000000 |\n",
      "17:07:33 ep  60 /300 |   0.206366    0.206366    0.000000 |   0.000000    0.0000e+00 |   0.6340    292          |   0.228897    0.228897    0.000000 |   0.6129     47          |   0.001000   0.000000 |\n",
      "17:09:47 ep  61 /300 |   0.204102    0.204102    0.000000 |   0.000000    0.0000e+00 |   0.6361    292          |   0.223333    0.223333    0.000000 |   0.6275     47          |   0.001000   0.000000 |\n",
      "17:12:02 ep  62 /300 |   0.201717    0.201717    0.000000 |   0.000000    0.0000e+00 |   0.6398    292          |   0.230844    0.230844    0.000000 |   0.6139     47          |   0.001000   0.000000 |\n",
      "17:14:19 ep  63 /300 |   0.199537    0.199537    0.000000 |   0.000000    0.0000e+00 |   0.6385    292          |   0.220911    0.220911    0.000000 |   0.5997     47          |   0.001000   0.000000 |\n",
      "17:16:38 ep  64 /300 |   0.198283    0.198283    0.000000 |   0.000000    0.0000e+00 |   0.6455    292          |   0.226824    0.226824    0.000000 |   0.5927     47          |   0.001000   0.000000 |\n",
      "17:18:52 ep  65 /300 |   0.203212    0.203212    0.000000 |   0.000000    0.0000e+00 |   0.6382    292          |   0.228761    0.228761    0.000000 |   0.5906     47          |   0.001000   0.000000 |\n",
      "17:21:08 ep  66 /300 |   0.203172    0.203172    0.000000 |   0.000000    0.0000e+00 |   0.6403    292          |   0.230117    0.230117    0.000000 |   0.5722     47          |   0.001000   0.000000 |\n",
      "17:23:22 ep  67 /300 |   0.200362    0.200362    0.000000 |   0.000000    0.0000e+00 |   0.6401    292          |   0.221501    0.221501    0.000000 |   0.6058     47          |   0.001000   0.000000 |\n",
      "17:25:39 ep  68 /300 |   0.199954    0.199954    0.000000 |   0.000000    0.0000e+00 |   0.6394    292          |   0.222897    0.222897    0.000000 |   0.5971     47          |   0.001000   0.000000 |\n",
      "17:27:55 ep  69 /300 |   0.197448    0.197448    0.000000 |   0.000000    0.0000e+00 |   0.6450    292          |   0.219055    0.219055    0.000000 |   0.5854     47          |   0.001000   0.000000 |\n",
      "17:30:10 ep  70 /300 |   0.197042    0.197042    0.000000 |   0.000000    0.0000e+00 |   0.6448    292          |   0.226467    0.226467    0.000000 |   0.5567     47          |   0.001000   0.000000 |\n",
      "17:32:27 ep  71 /300 |   0.197934    0.197934    0.000000 |   0.000000    0.0000e+00 |   0.6391    292          |   0.220647    0.220647    0.000000 |   0.5948     47          |   0.001000   0.000000 |\n",
      "17:34:47 ep  72 /300 |   0.198443    0.198443    0.000000 |   0.000000    0.0000e+00 |   0.6473    292          |   0.230289    0.230289    0.000000 |   0.5568     47          |   0.001000   0.000000 |\n",
      "17:37:04 ep  73 /300 |   0.198050    0.198050    0.000000 |   0.000000    0.0000e+00 |   0.6476    292          |   0.225692    0.225692    0.000000 |   0.5634     47          |   0.001000   0.000000 |\n",
      "17:39:21 ep  74 /300 |   0.205760    0.205760    0.000000 |   0.000000    0.0000e+00 |   0.6351    292          |   0.222845    0.222845    0.000000 |   0.5773     47          |   0.001000   0.000000 |\n",
      "17:41:38 ep  75 /300 |   0.201339    0.201339    0.000000 |   0.000000    0.0000e+00 |   0.6399    292          |   0.228354    0.228354    0.000000 |   0.5873     47          |   0.001000   0.000000 |\n",
      "17:43:54 ep  76 /300 |   0.197056    0.197056    0.000000 |   0.000000    0.0000e+00 |   0.6404    292          |   0.240495    0.240495    0.000000 |   0.5962     47          |   0.001000   0.000000 |\n",
      "17:46:09 ep  77 /300 |   0.197033    0.197033    0.000000 |   0.000000    0.0000e+00 |   0.6447    292          |   0.223161    0.223161    0.000000 |   0.5794     47          |   0.001000   0.000000 |\n",
      "17:48:24 ep  78 /300 |   0.194960    0.194960    0.000000 |   0.000000    0.0000e+00 |   0.6460    292          |   0.229222    0.229222    0.000000 |   0.5369     47          |   0.001000   0.000000 |\n",
      "17:50:43 ep  79 /300 |   0.198218    0.198218    0.000000 |   0.000000    0.0000e+00 |   0.6466    292          |   0.227068    0.227068    0.000000 |   0.6286     47          |   0.001000   0.000000 |\n",
      "17:53:02 ep  80 /300 |   0.196537    0.196537    0.000000 |   0.000000    0.0000e+00 |   0.6502    292          |   0.221258    0.221258    0.000000 |   0.5894     47          |   0.001000   0.000000 |\n",
      "17:55:20 ep  81 /300 |   0.194777    0.194777    0.000000 |   0.000000    0.0000e+00 |   0.6461    292          |   0.231135    0.231135    0.000000 |   0.5740     47          |   0.001000   0.000000 |\n",
      "17:57:39 ep  82 /300 |   0.193790    0.193790    0.000000 |   0.000000    0.0000e+00 |   0.6466    292          |   0.218904    0.218904    0.000000 |   0.6096     47          |   0.001000   0.000000 |\n",
      "17:59:59 ep  83 /300 |   0.193534    0.193534    0.000000 |   0.000000    0.0000e+00 |   0.6488    292          |   0.219136    0.219136    0.000000 |   0.5838     47          |   0.001000   0.000000 |\n",
      "18:02:15 ep  84 /300 |   0.193480    0.193480    0.000000 |   0.000000    0.0000e+00 |   0.6508    292          |   0.216849    0.216849    0.000000 |   0.6271     47          |   0.001000   0.000000 |\n",
      "18:04:28 ep  85 /300 |   0.191876    0.191876    0.000000 |   0.000000    0.0000e+00 |   0.6510    292          |   0.214688    0.214688    0.000000 |   0.5831     47          |   0.001000   0.000000 |\n",
      "18:06:41 ep  86 /300 |   0.191554    0.191554    0.000000 |   0.000000    0.0000e+00 |   0.6514    292          |   0.217639    0.217639    0.000000 |   0.5901     47          |   0.001000   0.000000 |\n",
      "18:08:55 ep  87 /300 |   0.195221    0.195221    0.000000 |   0.000000    0.0000e+00 |   0.6470    292          |   0.219128    0.219128    0.000000 |   0.5688     47          |   0.001000   0.000000 |\n",
      "18:11:09 ep  88 /300 |   0.193408    0.193408    0.000000 |   0.000000    0.0000e+00 |   0.6464    292          |   0.215951    0.215951    0.000000 |   0.6241     47          |   0.001000   0.000000 |\n",
      "18:13:23 ep  89 /300 |   0.192180    0.192180    0.000000 |   0.000000    0.0000e+00 |   0.6520    292          |   0.220914    0.220914    0.000000 |   0.5863     47          |   0.001000   0.000000 |\n",
      "18:15:37 ep  90 /300 |   0.189853    0.189853    0.000000 |   0.000000    0.0000e+00 |   0.6518    292          |   0.221068    0.221068    0.000000 |   0.6225     47          |   0.001000   0.000000 |\n",
      "18:17:48 ep  91 /300 |   0.190124    0.190124    0.000000 |   0.000000    0.0000e+00 |   0.6521    292          |   0.217279    0.217279    0.000000 |   0.5819     47          |   0.001000   0.000000 |\n",
      "18:20:03 ep  92 /300 |   0.190894    0.190894    0.000000 |   0.000000    0.0000e+00 |   0.6487    292          |   0.215079    0.215079    0.000000 |   0.5856     47          |   0.001000   0.000000 |\n",
      "18:22:20 ep  93 /300 |   0.192319    0.192319    0.000000 |   0.000000    0.0000e+00 |   0.6519    292          |   0.217991    0.217991    0.000000 |   0.5876     47          |   0.001000   0.000000 |\n",
      "18:24:33 ep  94 /300 |   0.192907    0.192907    0.000000 |   0.000000    0.0000e+00 |   0.6488    292          |   0.221109    0.221109    0.000000 |   0.5481     47          |   0.001000   0.000000 |\n",
      "18:26:46 ep  95 /300 |   0.191341    0.191341    0.000000 |   0.000000    0.0000e+00 |   0.6493    292          |   0.224128    0.224128    0.000000 |   0.5715     47          |   0.001000   0.000000 |\n",
      "18:29:04 ep  96 /300 |   0.190718    0.190718    0.000000 |   0.000000    0.0000e+00 |   0.6562    292          |   0.226576    0.226576    0.000000 |   0.5958     47          |   0.001000   0.000000 |\n",
      "18:31:23 ep  97 /300 |   0.190945    0.190945    0.000000 |   0.000000    0.0000e+00 |   0.6514    292          |   0.219718    0.219718    0.000000 |   0.5311     47          |   0.001000   0.000000 |\n",
      "18:33:42 ep  98 /300 |   0.191499    0.191499    0.000000 |   0.000000    0.0000e+00 |   0.6473    292          |   0.217696    0.217696    0.000000 |   0.5657     47          |   0.001000   0.000000 |\n",
      "18:36:02 ep  99 /300 |   0.188732    0.188732    0.000000 |   0.000000    0.0000e+00 |   0.6544    292          |   0.225228    0.225228    0.000000 |   0.5398     47          |   0.001000   0.000000 |\n",
      "18:38:17 ep 100 /300 |   0.189151    0.189151    0.000000 |   0.000000    0.0000e+00 |   0.6498    292          |   0.218694    0.218694    0.000000 |   0.6054     47          |   0.001000   0.000000 |\n",
      "18:40:34 ep 101 /300 |   0.188535    0.188535    0.000000 |   0.000000    0.0000e+00 |   0.6564    292          |   0.223818    0.223818    0.000000 |   0.6014     47          |   0.001000   0.000000 |\n",
      "18:42:50 ep 102 /300 |   0.189472    0.189472    0.000000 |   0.000000    0.0000e+00 |   0.6494    292          |   0.216554    0.216554    0.000000 |   0.6330     47          |   0.001000   0.000000 |\n",
      "18:45:04 ep 103 /300 |   0.188526    0.188526    0.000000 |   0.000000    0.0000e+00 |   0.6517    292          |   0.215184    0.215184    0.000000 |   0.5718     47          |   0.001000   0.000000 |\n",
      "18:47:19 ep 104 /300 |   0.189862    0.189862    0.000000 |   0.000000    0.0000e+00 |   0.6534    292          |   0.215307    0.215307    0.000000 |   0.5800     47          |   0.001000   0.000000 |\n",
      "18:49:35 ep 105 /300 |   0.190241    0.190241    0.000000 |   0.000000    0.0000e+00 |   0.6523    292          |   0.217858    0.217858    0.000000 |   0.5473     47          |   0.001000   0.000000 |\n",
      "18:51:52 ep 106 /300 |   0.190435    0.190435    0.000000 |   0.000000    0.0000e+00 |   0.6485    292          |   0.214359    0.214359    0.000000 |   0.5904     47          |   0.001000   0.000000 |\n",
      "18:54:08 ep 107 /300 |   0.188418    0.188418    0.000000 |   0.000000    0.0000e+00 |   0.6507    292          |   0.221177    0.221177    0.000000 |   0.5982     47          |   0.001000   0.000000 |\n",
      "18:56:26 ep 108 /300 |   0.188595    0.188595    0.000000 |   0.000000    0.0000e+00 |   0.6552    292          |   0.213126    0.213126    0.000000 |   0.6158     47          |   0.001000   0.000000 |\n",
      "18:58:43 ep 109 /300 |   0.188880    0.188880    0.000000 |   0.000000    0.0000e+00 |   0.6490    292          |   0.217909    0.217909    0.000000 |   0.5512     47          |   0.001000   0.000000 |\n",
      "19:01:01 ep 110 /300 |   0.191240    0.191240    0.000000 |   0.000000    0.0000e+00 |   0.6499    292          |   0.228189    0.228189    0.000000 |   0.5978     47          |   0.001000   0.000000 |\n",
      "19:03:18 ep 111 /300 |   0.189064    0.189064    0.000000 |   0.000000    0.0000e+00 |   0.6523    292          |   0.216826    0.216826    0.000000 |   0.5457     47          |   0.001000   0.000000 |\n",
      "19:05:35 ep 112 /300 |   0.193027    0.193027    0.000000 |   0.000000    0.0000e+00 |   0.6447    292          |   0.258964    0.258964    0.000000 |   0.4679     47          |   0.001000   0.000000 |\n",
      "19:07:50 ep 113 /300 |   0.199795    0.199795    0.000000 |   0.000000    0.0000e+00 |   0.6428    292          |   0.228659    0.228659    0.000000 |   0.5817     47          |   0.001000   0.000000 |\n",
      "19:10:07 ep 114 /300 |   0.188705    0.188705    0.000000 |   0.000000    0.0000e+00 |   0.6538    292          |   0.216549    0.216549    0.000000 |   0.6080     47          |   0.001000   0.000000 |\n",
      "19:12:23 ep 115 /300 |   0.186005    0.186005    0.000000 |   0.000000    0.0000e+00 |   0.6575    292          |   0.216013    0.216013    0.000000 |   0.6029     47          |   0.001000   0.000000 |\n",
      "19:14:39 ep 116 /300 |   0.186492    0.186492    0.000000 |   0.000000    0.0000e+00 |   0.6571    292          |   0.212278    0.212278    0.000000 |   0.5734     47          |   0.001000   0.000000 |\n",
      "19:16:56 ep 117 /300 |   0.185497    0.185497    0.000000 |   0.000000    0.0000e+00 |   0.6593    292          |   0.222863    0.222863    0.000000 |   0.5951     47          |   0.001000   0.000000 |\n",
      "19:19:11 ep 118 /300 |   0.190730    0.190730    0.000000 |   0.000000    0.0000e+00 |   0.6536    292          |   0.219360    0.219360    0.000000 |   0.5650     47          |   0.001000   0.000000 |\n",
      "19:21:29 ep 119 /300 |   0.189046    0.189046    0.000000 |   0.000000    0.0000e+00 |   0.6457    292          |   0.220922    0.220922    0.000000 |   0.5650     47          |   0.001000   0.000000 |\n",
      "19:23:45 ep 120 /300 |   0.191694    0.191694    0.000000 |   0.000000    0.0000e+00 |   0.6506    292          |   0.215267    0.215267    0.000000 |   0.5850     47          |   0.001000   0.000000 |\n",
      "19:26:03 ep 121 /300 |   0.185787    0.185787    0.000000 |   0.000000    0.0000e+00 |   0.6492    292          |   0.214854    0.214854    0.000000 |   0.5106     47          |   0.001000   0.000000 |\n",
      "19:28:19 ep 122 /300 |   0.186130    0.186130    0.000000 |   0.000000    0.0000e+00 |   0.6531    292          |   0.215571    0.215571    0.000000 |   0.5687     47          |   0.001000   0.000000 |\n",
      "19:30:37 ep 123 /300 |   0.187227    0.187227    0.000000 |   0.000000    0.0000e+00 |   0.6533    292          |   0.216469    0.216469    0.000000 |   0.5513     47          |   0.001000   0.000000 |\n",
      "19:32:55 ep 124 /300 |   0.184821    0.184821    0.000000 |   0.000000    0.0000e+00 |   0.6546    292          |   0.213902    0.213902    0.000000 |   0.5771     47          |   0.001000   0.000000 |\n",
      "19:35:13 ep 125 /300 |   0.185397    0.185397    0.000000 |   0.000000    0.0000e+00 |   0.6575    292          |   0.217211    0.217211    0.000000 |   0.5654     47          |   0.001000   0.000000 |\n",
      "19:37:34 ep 126 /300 |   0.185490    0.185490    0.000000 |   0.000000    0.0000e+00 |   0.6539    292          |   0.212738    0.212738    0.000000 |   0.5995     47          |   0.001000   0.000000 |\n",
      "19:39:54 ep 127 /300 |   0.187335    0.187335    0.000000 |   0.000000    0.0000e+00 |   0.6541    292          |   0.227039    0.227039    0.000000 |   0.5811     47          |   0.001000   0.000000 |\n",
      "19:42:11 ep 128 /300 |   0.195905    0.195905    0.000000 |   0.000000    0.0000e+00 |   0.6375    292          |   0.215590    0.215590    0.000000 |   0.5812     47          |   0.001000   0.000000 |\n",
      "19:44:28 ep 129 /300 |   0.185944    0.185944    0.000000 |   0.000000    0.0000e+00 |   0.6555    292          |   0.214150    0.214150    0.000000 |   0.5787     47          |   0.001000   0.000000 |\n",
      "19:46:46 ep 130 /300 |   0.185245    0.185245    0.000000 |   0.000000    0.0000e+00 |   0.6570    292          |   0.214211    0.214211    0.000000 |   0.5730     47          |   0.001000   0.000000 |\n",
      "19:49:03 ep 131 /300 |   0.184902    0.184902    0.000000 |   0.000000    0.0000e+00 |   0.6581    292          |   0.222301    0.222301    0.000000 |   0.6072     47          |   0.001000   0.000000 |\n",
      "19:51:19 ep 132 /300 |   0.186336    0.186336    0.000000 |   0.000000    0.0000e+00 |   0.6552    292          |   0.230196    0.230196    0.000000 |   0.5161     47          |   0.001000   0.000000 |\n",
      "19:53:34 ep 133 /300 |   0.186660    0.186660    0.000000 |   0.000000    0.0000e+00 |   0.6508    292          |   0.214507    0.214507    0.000000 |   0.6032     47          |   0.001000   0.000000 |\n",
      "19:55:48 ep 134 /300 |   0.184357    0.184357    0.000000 |   0.000000    0.0000e+00 |   0.6596    292          |   0.214164    0.214164    0.000000 |   0.6236     47          |   0.001000   0.000000 |\n",
      "19:58:02 ep 135 /300 |   0.182551    0.182551    0.000000 |   0.000000    0.0000e+00 |   0.6605    292          |   0.211777    0.211777    0.000000 |   0.5499     47          |   0.001000   0.000000 |\n",
      "20:00:16 ep 136 /300 |   0.184298    0.184298    0.000000 |   0.000000    0.0000e+00 |   0.6581    292          |   0.212075    0.212075    0.000000 |   0.5553     47          |   0.001000   0.000000 |\n",
      "20:02:33 ep 137 /300 |   0.184096    0.184096    0.000000 |   0.000000    0.0000e+00 |   0.6538    292          |   0.213015    0.213015    0.000000 |   0.5964     47          |   0.001000   0.000000 |\n",
      "20:04:47 ep 138 /300 |   0.183641    0.183641    0.000000 |   0.000000    0.0000e+00 |   0.6621    292          |   0.212627    0.212627    0.000000 |   0.5923     47          |   0.001000   0.000000 |\n",
      "20:07:03 ep 139 /300 |   0.183415    0.183415    0.000000 |   0.000000    0.0000e+00 |   0.6547    292          |   0.218277    0.218277    0.000000 |   0.5739     47          |   0.001000   0.000000 |\n",
      "20:09:15 ep 140 /300 |   0.184038    0.184038    0.000000 |   0.000000    0.0000e+00 |   0.6582    292          |   0.212528    0.212528    0.000000 |   0.5831     47          |   0.001000   0.000000 |\n",
      "20:11:29 ep 141 /300 |   0.185797    0.185797    0.000000 |   0.000000    0.0000e+00 |   0.6561    292          |   0.216847    0.216847    0.000000 |   0.5865     47          |   0.001000   0.000000 |\n",
      "20:13:42 ep 142 /300 |   0.183251    0.183251    0.000000 |   0.000000    0.0000e+00 |   0.6585    292          |   0.212510    0.212510    0.000000 |   0.5525     47          |   0.001000   0.000000 |\n",
      "20:15:57 ep 143 /300 |   0.182840    0.182840    0.000000 |   0.000000    0.0000e+00 |   0.6618    292          |   0.215526    0.215526    0.000000 |   0.5847     47          |   0.001000   0.000000 |\n",
      "20:18:11 ep 144 /300 |   0.182953    0.182953    0.000000 |   0.000000    0.0000e+00 |   0.6566    292          |   0.215206    0.215206    0.000000 |   0.6032     47          |   0.001000   0.000000 |\n",
      "20:20:25 ep 145 /300 |   0.183714    0.183714    0.000000 |   0.000000    0.0000e+00 |   0.6569    292          |   0.213298    0.213298    0.000000 |   0.5931     47          |   0.001000   0.000000 |\n",
      "20:22:37 ep 146 /300 |   0.183894    0.183894    0.000000 |   0.000000    0.0000e+00 |   0.6545    292          |   0.224929    0.224929    0.000000 |   0.4675     47          |   0.001000   0.000000 |\n",
      "20:24:44 ep 147 /300 |   0.184070    0.184070    0.000000 |   0.000000    0.0000e+00 |   0.6559    292          |   0.212325    0.212325    0.000000 |   0.5566     47          |   0.001000   0.000000 |\n",
      "20:26:47 ep 148 /300 |   0.182514    0.182514    0.000000 |   0.000000    0.0000e+00 |   0.6598    292          |   0.221009    0.221009    0.000000 |   0.5779     47          |   0.001000   0.000000 |\n",
      "20:28:51 ep 149 /300 |   0.182766    0.182766    0.000000 |   0.000000    0.0000e+00 |   0.6534    292          |   0.213785    0.213785    0.000000 |   0.5280     47          |   0.001000   0.000000 |\n",
      "20:30:55 ep 150 /300 |   0.183438    0.183438    0.000000 |   0.000000    0.0000e+00 |   0.6597    292          |   0.216378    0.216378    0.000000 |   0.5834     47          |   0.001000   0.000000 |\n",
      "20:32:59 ep 151 /300 |   0.185211    0.185211    0.000000 |   0.000000    0.0000e+00 |   0.6522    292          |   0.218057    0.218057    0.000000 |   0.5238     47          |   0.001000   0.000000 |\n",
      "20:35:03 ep 152 /300 |   0.182885    0.182885    0.000000 |   0.000000    0.0000e+00 |   0.6572    292          |   0.212211    0.212211    0.000000 |   0.6000     47          |   0.001000   0.000000 |\n",
      "20:37:08 ep 153 /300 |   0.183267    0.183267    0.000000 |   0.000000    0.0000e+00 |   0.6563    292          |   0.214216    0.214216    0.000000 |   0.5584     47          |   0.001000   0.000000 |\n",
      "20:39:11 ep 154 /300 |   0.182845    0.182845    0.000000 |   0.000000    0.0000e+00 |   0.6595    292          |   0.212863    0.212863    0.000000 |   0.5800     47          |   0.001000   0.000000 |\n",
      "20:41:17 ep 155 /300 |   0.184635    0.184635    0.000000 |   0.000000    0.0000e+00 |   0.6573    292          |   0.210831    0.210831    0.000000 |   0.5672     47          |   0.001000   0.000000 |\n",
      "20:43:21 ep 156 /300 |   0.182665    0.182665    0.000000 |   0.000000    0.0000e+00 |   0.6525    292          |   0.212262    0.212262    0.000000 |   0.5569     47          |   0.001000   0.000000 |\n",
      "20:45:25 ep 157 /300 |   0.186425    0.186425    0.000000 |   0.000000    0.0000e+00 |   0.6526    292          |   0.215486    0.215486    0.000000 |   0.5757     47          |   0.001000   0.000000 |\n",
      "20:47:30 ep 158 /300 |   0.183446    0.183446    0.000000 |   0.000000    0.0000e+00 |   0.6572    292          |   0.212512    0.212512    0.000000 |   0.5571     47          |   0.001000   0.000000 |\n",
      "20:49:34 ep 159 /300 |   0.181521    0.181521    0.000000 |   0.000000    0.0000e+00 |   0.6546    292          |   0.213557    0.213557    0.000000 |   0.5754     47          |   0.001000   0.000000 |\n",
      "20:51:39 ep 160 /300 |   0.181150    0.181150    0.000000 |   0.000000    0.0000e+00 |   0.6591    292          |   0.209150    0.209150    0.000000 |   0.5819     47          |   0.001000   0.000000 |\n",
      "20:53:44 ep 161 /300 |   0.182156    0.182156    0.000000 |   0.000000    0.0000e+00 |   0.6582    292          |   0.212110    0.212110    0.000000 |   0.5453     47          |   0.001000   0.000000 |\n",
      "20:55:49 ep 162 /300 |   0.182141    0.182141    0.000000 |   0.000000    0.0000e+00 |   0.6572    292          |   0.216736    0.216736    0.000000 |   0.4937     47          |   0.001000   0.000000 |\n",
      "20:57:55 ep 163 /300 |   0.183537    0.183537    0.000000 |   0.000000    0.0000e+00 |   0.6561    292          |   0.215088    0.215088    0.000000 |   0.5917     47          |   0.001000   0.000000 |\n",
      "21:00:00 ep 164 /300 |   0.183734    0.183734    0.000000 |   0.000000    0.0000e+00 |   0.6575    292          |   0.212941    0.212941    0.000000 |   0.5894     47          |   0.001000   0.000000 |\n",
      "21:02:06 ep 165 /300 |   0.180964    0.180964    0.000000 |   0.000000    0.0000e+00 |   0.6573    292          |   0.209861    0.209861    0.000000 |   0.5774     47          |   0.001000   0.000000 |\n",
      "21:04:11 ep 166 /300 |   0.180924    0.180924    0.000000 |   0.000000    0.0000e+00 |   0.6577    292          |   0.210631    0.210631    0.000000 |   0.5402     47          |   0.001000   0.000000 |\n",
      "21:06:15 ep 167 /300 |   0.181352    0.181352    0.000000 |   0.000000    0.0000e+00 |   0.6539    292          |   0.220314    0.220314    0.000000 |   0.5116     47          |   0.001000   0.000000 |\n",
      "21:08:21 ep 168 /300 |   0.182299    0.182299    0.000000 |   0.000000    0.0000e+00 |   0.6579    292          |   0.214676    0.214676    0.000000 |   0.5535     47          |   0.001000   0.000000 |\n",
      "21:10:27 ep 169 /300 |   0.182343    0.182343    0.000000 |   0.000000    0.0000e+00 |   0.6580    292          |   0.210721    0.210721    0.000000 |   0.5985     47          |   0.001000   0.000000 |\n",
      "21:12:32 ep 170 /300 |   0.181188    0.181188    0.000000 |   0.000000    0.0000e+00 |   0.6549    292          |   0.210430    0.210430    0.000000 |   0.5546     47          |   0.001000   0.000000 |\n",
      "21:14:37 ep 171 /300 |   0.180443    0.180443    0.000000 |   0.000000    0.0000e+00 |   0.6598    292          |   0.210889    0.210889    0.000000 |   0.5124     47          |   0.001000   0.000000 |\n",
      "21:16:41 ep 172 /300 |   0.181632    0.181632    0.000000 |   0.000000    0.0000e+00 |   0.6610    292          |   0.209870    0.209870    0.000000 |   0.5888     47          |   0.001000   0.000000 |\n",
      "21:18:45 ep 173 /300 |   0.183334    0.183334    0.000000 |   0.000000    0.0000e+00 |   0.6553    292          |   0.210216    0.210216    0.000000 |   0.5578     47          |   0.001000   0.000000 |\n",
      "21:20:49 ep 174 /300 |   0.181143    0.181143    0.000000 |   0.000000    0.0000e+00 |   0.6560    292          |   0.216709    0.216709    0.000000 |   0.5308     47          |   0.001000   0.000000 |\n",
      "21:22:54 ep 175 /300 |   0.181507    0.181507    0.000000 |   0.000000    0.0000e+00 |   0.6602    292          |   0.222263    0.222263    0.000000 |   0.5391     47          |   0.001000   0.000000 |\n",
      "21:24:59 ep 176 /300 |   0.181591    0.181591    0.000000 |   0.000000    0.0000e+00 |   0.6609    292          |   0.218211    0.218211    0.000000 |   0.5336     47          |   0.001000   0.000000 |\n",
      "21:27:03 ep 177 /300 |   0.182731    0.182731    0.000000 |   0.000000    0.0000e+00 |   0.6592    292          |   0.213775    0.213775    0.000000 |   0.5690     47          |   0.001000   0.000000 |\n",
      "21:29:08 ep 178 /300 |   0.180231    0.180231    0.000000 |   0.000000    0.0000e+00 |   0.6547    292          |   0.214391    0.214391    0.000000 |   0.5517     47          |   0.001000   0.000000 |\n",
      "21:31:19 ep 179 /300 |   0.180307    0.180307    0.000000 |   0.000000    0.0000e+00 |   0.6638    292          |   0.212322    0.212322    0.000000 |   0.5983     47          |   0.001000   0.000000 |\n",
      "21:33:30 ep 180 /300 |   0.182501    0.182501    0.000000 |   0.000000    0.0000e+00 |   0.6567    292          |   0.220281    0.220281    0.000000 |   0.5894     47          |   0.001000   0.000000 |\n",
      "21:35:38 ep 181 /300 |   0.180890    0.180890    0.000000 |   0.000000    0.0000e+00 |   0.6565    292          |   0.213701    0.213701    0.000000 |   0.5764     47          |   0.001000   0.000000 |\n",
      "21:37:47 ep 182 /300 |   0.181545    0.181545    0.000000 |   0.000000    0.0000e+00 |   0.6591    292          |   0.212037    0.212037    0.000000 |   0.5534     47          |   0.001000   0.000000 |\n",
      "21:39:51 ep 183 /300 |   0.180255    0.180255    0.000000 |   0.000000    0.0000e+00 |   0.6622    292          |   0.219125    0.219125    0.000000 |   0.5516     47          |   0.001000   0.000000 |\n",
      "21:42:04 ep 184 /300 |   0.180752    0.180752    0.000000 |   0.000000    0.0000e+00 |   0.6521    292          |   0.214278    0.214278    0.000000 |   0.6256     47          |   0.001000   0.000000 |\n",
      "21:44:17 ep 185 /300 |   0.181117    0.181117    0.000000 |   0.000000    0.0000e+00 |   0.6583    292          |   0.216610    0.216610    0.000000 |   0.5367     47          |   0.001000   0.000000 |\n",
      "21:46:36 ep 186 /300 |   0.180943    0.180943    0.000000 |   0.000000    0.0000e+00 |   0.6604    292          |   0.209732    0.209732    0.000000 |   0.5405     47          |   0.001000   0.000000 |\n",
      "21:48:52 ep 187 /300 |   0.183004    0.183004    0.000000 |   0.000000    0.0000e+00 |   0.6558    292          |   0.219935    0.219935    0.000000 |   0.6013     47          |   0.001000   0.000000 |\n",
      "21:51:11 ep 188 /300 |   0.182531    0.182531    0.000000 |   0.000000    0.0000e+00 |   0.6580    292          |   0.221168    0.221168    0.000000 |   0.5549     47          |   0.001000   0.000000 |\n",
      "21:53:28 ep 189 /300 |   0.184135    0.184135    0.000000 |   0.000000    0.0000e+00 |   0.6495    292          |   0.212176    0.212176    0.000000 |   0.5896     47          |   0.001000   0.000000 |\n",
      "21:55:45 ep 190 /300 |   0.180331    0.180331    0.000000 |   0.000000    0.0000e+00 |   0.6553    292          |   0.213537    0.213537    0.000000 |   0.5952     47          |   0.001000   0.000000 |\n",
      "21:58:01 ep 191 /300 |   0.180663    0.180663    0.000000 |   0.000000    0.0000e+00 |   0.6597    292          |   0.220798    0.220798    0.000000 |   0.5937     47          |   0.001000   0.000000 |\n",
      "22:00:17 ep 192 /300 |   0.181583    0.181583    0.000000 |   0.000000    0.0000e+00 |   0.6601    292          |   0.219039    0.219039    0.000000 |   0.4914     47          |   0.001000   0.000000 |\n",
      "22:02:32 ep 193 /300 |   0.181138    0.181138    0.000000 |   0.000000    0.0000e+00 |   0.6615    292          |   0.212170    0.212170    0.000000 |   0.5699     47          |   0.001000   0.000000 |\n",
      "22:04:48 ep 194 /300 |   0.180651    0.180651    0.000000 |   0.000000    0.0000e+00 |   0.6614    292          |   0.209811    0.209811    0.000000 |   0.5899     47          |   0.001000   0.000000 |\n",
      "22:07:04 ep 195 /300 |   0.180693    0.180693    0.000000 |   0.000000    0.0000e+00 |   0.6625    292          |   0.213731    0.213731    0.000000 |   0.5582     47          |   0.001000   0.000000 |\n",
      "22:09:21 ep 196 /300 |   0.179710    0.179710    0.000000 |   0.000000    0.0000e+00 |   0.6633    292          |   0.211656    0.211656    0.000000 |   0.6066     47          |   0.001000   0.000000 |\n",
      "22:11:36 ep 197 /300 |   0.180768    0.180768    0.000000 |   0.000000    0.0000e+00 |   0.6567    292          |   0.213357    0.213357    0.000000 |   0.6117     47          |   0.001000   0.000000 |\n",
      "22:13:52 ep 198 /300 |   0.180718    0.180718    0.000000 |   0.000000    0.0000e+00 |   0.6574    292          |   0.215919    0.215919    0.000000 |   0.4786     47          |   0.001000   0.000000 |\n",
      "22:16:09 ep 199 /300 |   0.179129    0.179129    0.000000 |   0.000000    0.0000e+00 |   0.6627    292          |   0.212728    0.212728    0.000000 |   0.6067     47          |   0.001000   0.000000 |\n",
      "22:18:26 ep 200 /300 |   0.179007    0.179007    0.000000 |   0.000000    0.0000e+00 |   0.6632    292          |   0.210834    0.210834    0.000000 |   0.5677     47          |   0.001000   0.000000 |\n",
      "22:20:46 ep 201 /300 |   0.179895    0.179895    0.000000 |   0.000000    0.0000e+00 |   0.6585    292          |   0.215991    0.215991    0.000000 |   0.5502     47          |   0.001000   0.000000 |\n",
      "22:23:02 ep 202 /300 |   0.179460    0.179460    0.000000 |   0.000000    0.0000e+00 |   0.6636    292          |   0.211792    0.211792    0.000000 |   0.6128     47          |   0.001000   0.000000 |\n",
      "22:25:23 ep 203 /300 |   0.178325    0.178325    0.000000 |   0.000000    0.0000e+00 |   0.6619    292          |   0.210514    0.210514    0.000000 |   0.5933     47          |   0.001000   0.000000 |\n",
      "22:27:42 ep 204 /300 |   0.179645    0.179645    0.000000 |   0.000000    0.0000e+00 |   0.6607    292          |   0.215779    0.215779    0.000000 |   0.5504     47          |   0.001000   0.000000 |\n",
      "22:30:00 ep 205 /300 |   0.179520    0.179520    0.000000 |   0.000000    0.0000e+00 |   0.6614    292          |   0.213648    0.213648    0.000000 |   0.6112     47          |   0.001000   0.000000 |\n",
      "22:32:17 ep 206 /300 |   0.178915    0.178915    0.000000 |   0.000000    0.0000e+00 |   0.6627    292          |   0.222484    0.222484    0.000000 |   0.4399     47          |   0.001000   0.000000 |\n",
      "22:34:34 ep 207 /300 |   0.179666    0.179666    0.000000 |   0.000000    0.0000e+00 |   0.6628    292          |   0.212539    0.212539    0.000000 |   0.5881     47          |   0.001000   0.000000 |\n",
      "22:36:52 ep 208 /300 |   0.179480    0.179480    0.000000 |   0.000000    0.0000e+00 |   0.6623    292          |   0.216855    0.216855    0.000000 |   0.6253     47          |   0.001000   0.000000 |\n",
      "22:39:09 ep 209 /300 |   0.180358    0.180358    0.000000 |   0.000000    0.0000e+00 |   0.6644    292          |   0.215668    0.215668    0.000000 |   0.6225     47          |   0.001000   0.000000 |\n",
      "22:41:25 ep 210 /300 |   0.179208    0.179208    0.000000 |   0.000000    0.0000e+00 |   0.6632    292          |   0.213406    0.213406    0.000000 |   0.5764     47          |   0.001000   0.000000 |\n",
      "22:43:42 ep 211 /300 |   0.180026    0.180026    0.000000 |   0.000000    0.0000e+00 |   0.6650    292          |   0.214967    0.214967    0.000000 |   0.5891     47          |   0.001000   0.000000 |\n",
      "22:46:03 ep 212 /300 |   0.172917    0.172917    0.000000 |   0.000000    0.0000e+00 |   0.6781    292          |   0.203813    0.203813    0.000000 |   0.5935     47          |   0.000500   0.000000 |\n",
      "22:48:21 ep 213 /300 |   0.168813    0.168813    0.000000 |   0.000000    0.0000e+00 |   0.6849    292          |   0.203497    0.203497    0.000000 |   0.5606     47          |   0.000500   0.000000 |\n",
      "22:50:39 ep 214 /300 |   0.167689    0.167689    0.000000 |   0.000000    0.0000e+00 |   0.6871    292          |   0.203678    0.203678    0.000000 |   0.5861     47          |   0.000500   0.000000 |\n",
      "22:53:00 ep 215 /300 |   0.167160    0.167160    0.000000 |   0.000000    0.0000e+00 |   0.6858    292          |   0.202701    0.202701    0.000000 |   0.5796     47          |   0.000500   0.000000 |\n",
      "22:55:19 ep 216 /300 |   0.167513    0.167513    0.000000 |   0.000000    0.0000e+00 |   0.6875    292          |   0.204484    0.204484    0.000000 |   0.5690     47          |   0.000500   0.000000 |\n",
      "22:57:34 ep 217 /300 |   0.167918    0.167918    0.000000 |   0.000000    0.0000e+00 |   0.6853    292          |   0.203994    0.203994    0.000000 |   0.5844     47          |   0.000500   0.000000 |\n",
      "22:59:52 ep 218 /300 |   0.168406    0.168406    0.000000 |   0.000000    0.0000e+00 |   0.6851    292          |   0.204891    0.204891    0.000000 |   0.5682     47          |   0.000500   0.000000 |\n",
      "23:02:09 ep 219 /300 |   0.168611    0.168611    0.000000 |   0.000000    0.0000e+00 |   0.6849    292          |   0.205315    0.205315    0.000000 |   0.5498     47          |   0.000500   0.000000 |\n",
      "23:04:31 ep 220 /300 |   0.168558    0.168558    0.000000 |   0.000000    0.0000e+00 |   0.6848    292          |   0.204231    0.204231    0.000000 |   0.5982     47          |   0.000500   0.000000 |\n",
      "23:06:48 ep 221 /300 |   0.167824    0.167824    0.000000 |   0.000000    0.0000e+00 |   0.6869    292          |   0.202950    0.202950    0.000000 |   0.5940     47          |   0.000500   0.000000 |\n",
      "23:09:09 ep 222 /300 |   0.167363    0.167363    0.000000 |   0.000000    0.0000e+00 |   0.6873    292          |   0.203505    0.203505    0.000000 |   0.6099     47          |   0.000500   0.000000 |\n",
      "23:11:25 ep 223 /300 |   0.167275    0.167275    0.000000 |   0.000000    0.0000e+00 |   0.6863    292          |   0.203835    0.203835    0.000000 |   0.6079     47          |   0.000500   0.000000 |\n",
      "23:13:43 ep 224 /300 |   0.167141    0.167141    0.000000 |   0.000000    0.0000e+00 |   0.6876    292          |   0.204062    0.204062    0.000000 |   0.6107     47          |   0.000500   0.000000 |\n",
      "23:16:02 ep 225 /300 |   0.166795    0.166795    0.000000 |   0.000000    0.0000e+00 |   0.6873    292          |   0.203724    0.203724    0.000000 |   0.5894     47          |   0.000500   0.000000 |\n",
      "23:18:20 ep 226 /300 |   0.167030    0.167030    0.000000 |   0.000000    0.0000e+00 |   0.6869    292          |   0.203677    0.203677    0.000000 |   0.5957     47          |   0.000500   0.000000 |\n",
      "23:20:41 ep 227 /300 |   0.166694    0.166694    0.000000 |   0.000000    0.0000e+00 |   0.6882    292          |   0.203280    0.203280    0.000000 |   0.6137     47          |   0.000500   0.000000 |\n",
      "23:22:59 ep 228 /300 |   0.166609    0.166609    0.000000 |   0.000000    0.0000e+00 |   0.6888    292          |   0.204007    0.204007    0.000000 |   0.6064     47          |   0.000500   0.000000 |\n",
      "23:25:19 ep 229 /300 |   0.166580    0.166580    0.000000 |   0.000000    0.0000e+00 |   0.6871    292          |   0.204557    0.204557    0.000000 |   0.6134     47          |   0.000500   0.000000 |\n",
      "23:27:38 ep 230 /300 |   0.166354    0.166354    0.000000 |   0.000000    0.0000e+00 |   0.6888    292          |   0.204496    0.204496    0.000000 |   0.6051     47          |   0.000500   0.000000 |\n",
      "23:29:58 ep 231 /300 |   0.166365    0.166365    0.000000 |   0.000000    0.0000e+00 |   0.6879    292          |   0.203907    0.203907    0.000000 |   0.6077     47          |   0.000500   0.000000 |\n",
      "23:32:14 ep 232 /300 |   0.166390    0.166390    0.000000 |   0.000000    0.0000e+00 |   0.6849    292          |   0.205385    0.205385    0.000000 |   0.5931     47          |   0.000500   0.000000 |\n",
      "23:34:31 ep 233 /300 |   0.166633    0.166633    0.000000 |   0.000000    0.0000e+00 |   0.6892    292          |   0.205032    0.205032    0.000000 |   0.5867     47          |   0.000500   0.000000 |\n",
      "23:36:49 ep 234 /300 |   0.166960    0.166960    0.000000 |   0.000000    0.0000e+00 |   0.6863    292          |   0.203896    0.203896    0.000000 |   0.5989     47          |   0.000500   0.000000 |\n",
      "23:39:11 ep 235 /300 |   0.166418    0.166418    0.000000 |   0.000000    0.0000e+00 |   0.6867    292          |   0.203976    0.203976    0.000000 |   0.5846     47          |   0.000500   0.000000 |\n",
      "23:41:36 ep 236 /300 |   0.166178    0.166178    0.000000 |   0.000000    0.0000e+00 |   0.6892    292          |   0.203857    0.203857    0.000000 |   0.5918     47          |   0.000500   0.000000 |\n",
      "23:44:00 ep 237 /300 |   0.166362    0.166362    0.000000 |   0.000000    0.0000e+00 |   0.6867    292          |   0.204926    0.204926    0.000000 |   0.5958     47          |   0.000500   0.000000 |\n",
      "23:46:23 ep 238 /300 |   0.166314    0.166314    0.000000 |   0.000000    0.0000e+00 |   0.6894    292          |   0.204518    0.204518    0.000000 |   0.6071     47          |   0.000500   0.000000 |\n",
      "23:48:47 ep 239 /300 |   0.166499    0.166499    0.000000 |   0.000000    0.0000e+00 |   0.6883    292          |   0.205624    0.205624    0.000000 |   0.5931     47          |   0.000500   0.000000 |\n",
      "23:51:10 ep 240 /300 |   0.166718    0.166718    0.000000 |   0.000000    0.0000e+00 |   0.6849    292          |   0.204337    0.204337    0.000000 |   0.5961     47          |   0.000500   0.000000 |\n",
      "23:53:32 ep 241 /300 |   0.166679    0.166679    0.000000 |   0.000000    0.0000e+00 |   0.6886    292          |   0.204931    0.204931    0.000000 |   0.6054     47          |   0.000500   0.000000 |\n",
      "23:55:56 ep 242 /300 |   0.167062    0.167062    0.000000 |   0.000000    0.0000e+00 |   0.6869    292          |   0.204572    0.204572    0.000000 |   0.6052     47          |   0.000500   0.000000 |\n",
      "23:58:18 ep 243 /300 |   0.166606    0.166606    0.000000 |   0.000000    0.0000e+00 |   0.6871    292          |   0.204539    0.204539    0.000000 |   0.6154     47          |   0.000500   0.000000 |\n",
      "00:00:40 ep 244 /300 |   0.166136    0.166136    0.000000 |   0.000000    0.0000e+00 |   0.6875    292          |   0.204014    0.204014    0.000000 |   0.5921     47          |   0.000500   0.000000 |\n",
      "00:03:02 ep 245 /300 |   0.165934    0.165934    0.000000 |   0.000000    0.0000e+00 |   0.6900    292          |   0.204068    0.204068    0.000000 |   0.6044     47          |   0.000500   0.000000 |\n",
      "00:05:24 ep 246 /300 |   0.165924    0.165924    0.000000 |   0.000000    0.0000e+00 |   0.6895    292          |   0.204615    0.204615    0.000000 |   0.5620     47          |   0.000500   0.000000 |\n",
      "00:07:40 ep 247 /300 |   0.165774    0.165774    0.000000 |   0.000000    0.0000e+00 |   0.6877    292          |   0.204824    0.204824    0.000000 |   0.6268     47          |   0.000500   0.000000 |\n",
      "00:09:57 ep 248 /300 |   0.165773    0.165773    0.000000 |   0.000000    0.0000e+00 |   0.6882    292          |   0.204828    0.204828    0.000000 |   0.5565     47          |   0.000500   0.000000 |\n",
      "00:12:16 ep 249 /300 |   0.165575    0.165575    0.000000 |   0.000000    0.0000e+00 |   0.6896    292          |   0.204164    0.204164    0.000000 |   0.6159     47          |   0.000500   0.000000 |\n",
      "00:14:36 ep 250 /300 |   0.165615    0.165615    0.000000 |   0.000000    0.0000e+00 |   0.6883    292          |   0.204625    0.204625    0.000000 |   0.6009     47          |   0.000500   0.000000 |\n",
      "00:16:53 ep 251 /300 |   0.165393    0.165393    0.000000 |   0.000000    0.0000e+00 |   0.6892    292          |   0.204802    0.204802    0.000000 |   0.5914     47          |   0.000500   0.000000 |\n",
      "00:19:08 ep 252 /300 |   0.165299    0.165299    0.000000 |   0.000000    0.0000e+00 |   0.6883    292          |   0.204382    0.204382    0.000000 |   0.5796     47          |   0.000500   0.000000 |\n",
      "00:21:23 ep 253 /300 |   0.165568    0.165568    0.000000 |   0.000000    0.0000e+00 |   0.6899    292          |   0.204401    0.204401    0.000000 |   0.6164     47          |   0.000500   0.000000 |\n",
      "00:23:41 ep 254 /300 |   0.165433    0.165433    0.000000 |   0.000000    0.0000e+00 |   0.6904    292          |   0.204264    0.204264    0.000000 |   0.5808     47          |   0.000500   0.000000 |\n",
      "00:25:57 ep 255 /300 |   0.165658    0.165658    0.000000 |   0.000000    0.0000e+00 |   0.6894    292          |   0.205300    0.205300    0.000000 |   0.5943     47          |   0.000500   0.000000 |\n",
      "00:28:12 ep 256 /300 |   0.165581    0.165581    0.000000 |   0.000000    0.0000e+00 |   0.6880    292          |   0.205545    0.205545    0.000000 |   0.5969     47          |   0.000500   0.000000 |\n",
      "00:30:28 ep 257 /300 |   0.165371    0.165371    0.000000 |   0.000000    0.0000e+00 |   0.6908    292          |   0.205444    0.205444    0.000000 |   0.5992     47          |   0.000500   0.000000 |\n",
      "00:32:48 ep 258 /300 |   0.165162    0.165162    0.000000 |   0.000000    0.0000e+00 |   0.6903    292          |   0.204039    0.204039    0.000000 |   0.6177     47          |   0.000500   0.000000 |\n",
      "00:35:09 ep 259 /300 |   0.165189    0.165189    0.000000 |   0.000000    0.0000e+00 |   0.6901    292          |   0.204574    0.204574    0.000000 |   0.5640     47          |   0.000500   0.000000 |\n",
      "00:37:30 ep 260 /300 |   0.165248    0.165248    0.000000 |   0.000000    0.0000e+00 |   0.6908    292          |   0.205675    0.205675    0.000000 |   0.5644     47          |   0.000500   0.000000 |\n",
      "00:39:52 ep 261 /300 |   0.165541    0.165541    0.000000 |   0.000000    0.0000e+00 |   0.6868    292          |   0.205242    0.205242    0.000000 |   0.5658     47          |   0.000500   0.000000 |\n",
      "00:42:11 ep 262 /300 |   0.165593    0.165593    0.000000 |   0.000000    0.0000e+00 |   0.6894    292          |   0.205630    0.205630    0.000000 |   0.5759     47          |   0.000500   0.000000 |\n",
      "00:44:30 ep 263 /300 |   0.165359    0.165359    0.000000 |   0.000000    0.0000e+00 |   0.6868    292          |   0.204645    0.204645    0.000000 |   0.6038     47          |   0.000500   0.000000 |\n",
      "00:46:47 ep 264 /300 |   0.165047    0.165047    0.000000 |   0.000000    0.0000e+00 |   0.6898    292          |   0.205071    0.205071    0.000000 |   0.6072     47          |   0.000500   0.000000 |\n",
      "00:49:04 ep 265 /300 |   0.165087    0.165087    0.000000 |   0.000000    0.0000e+00 |   0.6923    292          |   0.204826    0.204826    0.000000 |   0.5799     47          |   0.000500   0.000000 |\n",
      "00:51:22 ep 266 /300 |   0.165348    0.165348    0.000000 |   0.000000    0.0000e+00 |   0.6882    292          |   0.204623    0.204623    0.000000 |   0.6146     47          |   0.000500   0.000000 |\n",
      "00:53:40 ep 267 /300 |   0.165372    0.165372    0.000000 |   0.000000    0.0000e+00 |   0.6899    292          |   0.205556    0.205556    0.000000 |   0.5776     47          |   0.000500   0.000000 |\n",
      "00:55:57 ep 268 /300 |   0.165155    0.165155    0.000000 |   0.000000    0.0000e+00 |   0.6897    292          |   0.204853    0.204853    0.000000 |   0.5794     47          |   0.000500   0.000000 |\n",
      "00:58:16 ep 269 /300 |   0.165266    0.165266    0.000000 |   0.000000    0.0000e+00 |   0.6905    292          |   0.205374    0.205374    0.000000 |   0.6116     47          |   0.000500   0.000000 |\n",
      "01:00:37 ep 270 /300 |   0.165457    0.165457    0.000000 |   0.000000    0.0000e+00 |   0.6877    292          |   0.204830    0.204830    0.000000 |   0.6030     47          |   0.000500   0.000000 |\n",
      "01:02:55 ep 271 /300 |   0.165165    0.165165    0.000000 |   0.000000    0.0000e+00 |   0.6903    292          |   0.204795    0.204795    0.000000 |   0.5992     47          |   0.000500   0.000000 |\n",
      "01:05:12 ep 272 /300 |   0.165184    0.165184    0.000000 |   0.000000    0.0000e+00 |   0.6889    292          |   0.204938    0.204938    0.000000 |   0.5787     47          |   0.000500   0.000000 |\n",
      "01:07:29 ep 273 /300 |   0.163127    0.163127    0.000000 |   0.000000    0.0000e+00 |   0.6953    292          |   0.203313    0.203313    0.000000 |   0.5899     47          |   0.000250   0.000000 |\n",
      "01:09:47 ep 274 /300 |   0.161830    0.161830    0.000000 |   0.000000    0.0000e+00 |   0.6983    292          |   0.203293    0.203293    0.000000 |   0.5966     47          |   0.000250   0.000000 |\n",
      "01:12:08 ep 275 /300 |   0.161435    0.161435    0.000000 |   0.000000    0.0000e+00 |   0.6988    292          |   0.203534    0.203534    0.000000 |   0.5946     47          |   0.000250   0.000000 |\n",
      "01:14:33 ep 276 /300 |   0.161256    0.161256    0.000000 |   0.000000    0.0000e+00 |   0.6991    292          |   0.203728    0.203728    0.000000 |   0.5882     47          |   0.000250   0.000000 |\n",
      "01:16:57 ep 277 /300 |   0.161220    0.161220    0.000000 |   0.000000    0.0000e+00 |   0.6996    292          |   0.204188    0.204188    0.000000 |   0.5783     47          |   0.000250   0.000000 |\n",
      "01:19:22 ep 278 /300 |   0.161305    0.161305    0.000000 |   0.000000    0.0000e+00 |   0.6991    292          |   0.204020    0.204020    0.000000 |   0.5822     47          |   0.000250   0.000000 |\n",
      "01:21:45 ep 279 /300 |   0.161468    0.161468    0.000000 |   0.000000    0.0000e+00 |   0.6994    292          |   0.204050    0.204050    0.000000 |   0.5623     47          |   0.000250   0.000000 |\n",
      "01:24:07 ep 280 /300 |   0.161687    0.161687    0.000000 |   0.000000    0.0000e+00 |   0.6979    292          |   0.203394    0.203394    0.000000 |   0.5746     47          |   0.000250   0.000000 |\n",
      "01:26:31 ep 281 /300 |   0.161699    0.161699    0.000000 |   0.000000    0.0000e+00 |   0.6987    292          |   0.203278    0.203278    0.000000 |   0.5696     47          |   0.000250   0.000000 |\n",
      "01:28:48 ep 282 /300 |   0.161316    0.161316    0.000000 |   0.000000    0.0000e+00 |   0.6984    292          |   0.203350    0.203350    0.000000 |   0.5855     47          |   0.000250   0.000000 |\n",
      "01:31:06 ep 283 /300 |   0.160948    0.160948    0.000000 |   0.000000    0.0000e+00 |   0.6995    292          |   0.203231    0.203231    0.000000 |   0.5835     47          |   0.000250   0.000000 |\n",
      "01:33:24 ep 284 /300 |   0.160826    0.160826    0.000000 |   0.000000    0.0000e+00 |   0.6988    292          |   0.203631    0.203631    0.000000 |   0.5900     47          |   0.000250   0.000000 |\n",
      "01:35:41 ep 285 /300 |   0.160851    0.160851    0.000000 |   0.000000    0.0000e+00 |   0.6997    292          |   0.203519    0.203519    0.000000 |   0.5780     47          |   0.000250   0.000000 |\n",
      "01:37:58 ep 286 /300 |   0.160880    0.160880    0.000000 |   0.000000    0.0000e+00 |   0.6996    292          |   0.203739    0.203739    0.000000 |   0.5670     47          |   0.000250   0.000000 |\n",
      "01:40:15 ep 287 /300 |   0.160968    0.160968    0.000000 |   0.000000    0.0000e+00 |   0.6995    292          |   0.203850    0.203850    0.000000 |   0.5944     47          |   0.000250   0.000000 |\n",
      "01:42:34 ep 288 /300 |   0.160816    0.160816    0.000000 |   0.000000    0.0000e+00 |   0.6986    292          |   0.203902    0.203902    0.000000 |   0.5664     47          |   0.000250   0.000000 |\n",
      "01:44:54 ep 289 /300 |   0.160691    0.160691    0.000000 |   0.000000    0.0000e+00 |   0.6999    292          |   0.204216    0.204216    0.000000 |   0.6015     47          |   0.000250   0.000000 |\n",
      "01:47:11 ep 290 /300 |   0.160659    0.160659    0.000000 |   0.000000    0.0000e+00 |   0.6993    292          |   0.204556    0.204556    0.000000 |   0.5773     47          |   0.000250   0.000000 |\n",
      "01:49:29 ep 291 /300 |   0.160735    0.160735    0.000000 |   0.000000    0.0000e+00 |   0.6991    292          |   0.204169    0.204169    0.000000 |   0.5775     47          |   0.000250   0.000000 |\n",
      "01:51:46 ep 292 /300 |   0.160707    0.160707    0.000000 |   0.000000    0.0000e+00 |   0.7003    292          |   0.204699    0.204699    0.000000 |   0.5913     47          |   0.000250   0.000000 |\n",
      "01:54:03 ep 293 /300 |   0.160680    0.160680    0.000000 |   0.000000    0.0000e+00 |   0.7009    292          |   0.204537    0.204537    0.000000 |   0.5740     47          |   0.000250   0.000000 |\n",
      "01:56:21 ep 294 /300 |   0.160660    0.160660    0.000000 |   0.000000    0.0000e+00 |   0.7001    292          |   0.205115    0.205115    0.000000 |   0.5976     47          |   0.000250   0.000000 |\n",
      "01:58:39 ep 295 /300 |   0.160778    0.160778    0.000000 |   0.000000    0.0000e+00 |   0.6994    292          |   0.204417    0.204417    0.000000 |   0.5774     47          |   0.000250   0.000000 |\n",
      "02:00:57 ep 296 /300 |   0.160894    0.160894    0.000000 |   0.000000    0.0000e+00 |   0.6996    292          |   0.204219    0.204219    0.000000 |   0.5634     47          |   0.000250   0.000000 |\n",
      "02:03:15 ep 297 /300 |   0.160956    0.160956    0.000000 |   0.000000    0.0000e+00 |   0.6989    292          |   0.204398    0.204398    0.000000 |   0.5617     47          |   0.000250   0.000000 |\n",
      "02:05:35 ep 298 /300 |   0.161073    0.161073    0.000000 |   0.000000    0.0000e+00 |   0.6992    292          |   0.204541    0.204541    0.000000 |   0.5592     47          |   0.000250   0.000000 |\n",
      "02:08:00 ep 299 /300 |   0.161068    0.161068    0.000000 |   0.000000    0.0000e+00 |   0.6998    292          |   0.204179    0.204179    0.000000 |   0.5521     47          |   0.000250   0.000000 |\n",
      "02:10:20 ep 300 /300 |   0.160818    0.160818    0.000000 |   0.000000    0.0000e+00 |   0.6993    292          |   0.203645    0.203645    0.000000 |   0.5568     47          |   0.000250   0.000000 |\n"
     ]
    }
   ],
   "source": [
    "for epoch in range(325):\n",
    "    display_epoch_metrics(model, epoch)"
   ]
  },
  {
   "cell_type": "markdown",
   "id": "9d7f6ece-b0e4-4e64-bc35-928a3c3f961d",
   "metadata": {},
   "source": [
    "# Plot losses, weights, biases and gradients"
   ]
  },
  {
   "cell_type": "code",
   "execution_count": null,
   "id": "abc9b289-e042-4243-a2b4-c76751589ac3",
   "metadata": {},
   "outputs": [],
   "source": [
    "# if 0:\n",
    "#     model_attributes = model.__dict__\n",
    "#     model.training_history['train'].keys()\n",
    "#     for key, value in model.training_history['train'].items():\n",
    "#         if isinstance(value, List) or key in [\"test_accuracy\", \"test_f1\"]:\n",
    "#             print(f\"{key:25s} {type(value)}  {len(value):7d}  {value[-5:]}\")\n",
    "#     print()\n",
    "#     for key, value in model.training_history['val'].items():\n",
    "#         if isinstance(value, List) or key in [\"test_accuracy\", \"test_f1\"]:\n",
    "#             print(f\"{key:25s} {type(value)}  {len(value):7d}  {value[-5:]}\")        "
   ]
  },
  {
   "cell_type": "code",
   "execution_count": null,
   "id": "fbb441d8-ba3d-4540-abcc-e40aaaa3dd2e",
   "metadata": {},
   "outputs": [],
   "source": [
    "# tmp = np.array(model.training_history['train']['temp_grads'])\n",
    "# for st in range(0,len(tmp), 1000):\n",
    "#     end = st + 1000\n",
    "#     print(f\" {st:5d} - {end:5d}  min: {tmp[st:end].min():9e}   max: {tmp[st:end].max():9e}    avg: {tmp[st:end].mean():9e}   std: {tmp[st:end].std():9e}\")"
   ]
  },
  {
   "cell_type": "code",
   "execution_count": 91,
   "id": "2bc8de25-ddde-4d2c-b97f-1da1d375c991",
   "metadata": {
    "execution": {
     "iopub.execute_input": "2024-06-14T08:19:24.764949Z",
     "iopub.status.busy": "2024-06-14T08:19:24.764428Z",
     "iopub.status.idle": "2024-06-14T08:19:25.754952Z",
     "shell.execute_reply": "2024-06-14T08:19:25.754178Z",
     "shell.execute_reply.started": "2024-06-14T08:19:24.764908Z"
    },
    "scrolled": true
   },
   "outputs": [
    {
     "data": {
      "image/png": "[encoded data removed]",
      "text/plain": [
       "<Figure size 2000x400 with 5 Axes>"
      ]
     },
     "metadata": {},
     "output_type": "display_data"
    }
   ],
   "source": [
    "plot_train_history(model, start= 0, n_bins = 25)"
   ]
  },
  {
   "cell_type": "code",
   "execution_count": 92,
   "id": "f992e4e5-ea68-4617-8c16-01dfc22f6b94",
   "metadata": {
    "execution": {
     "iopub.execute_input": "2024-06-14T08:19:47.405017Z",
     "iopub.status.busy": "2024-06-14T08:19:47.404531Z",
     "iopub.status.idle": "2024-06-14T08:19:47.761774Z",
     "shell.execute_reply": "2024-06-14T08:19:47.760791Z",
     "shell.execute_reply.started": "2024-06-14T08:19:47.404978Z"
    },
    "scrolled": true
   },
   "outputs": [
    {
     "data": {
      "image/png": "[encoded data removed]",
      "text/plain": [
       "<Figure size 400x400 with 1 Axes>"
      ]
     },
     "metadata": {},
     "output_type": "display_data"
    }
   ],
   "source": [
    "from snnl.utils import plot_regression_metrics\n",
    "plot_regression_metrics(model, n_bins = 25)"
   ]
  },
  {
   "cell_type": "code",
   "execution_count": null,
   "id": "533b465a-6b4a-4696-a014-793b8f7df079",
   "metadata": {
    "scrolled": true
   },
   "outputs": [],
   "source": [
    "plot_train_history(model, start= 0, n_bins = 25)"
   ]
  },
  {
   "cell_type": "code",
   "execution_count": null,
   "id": "85774d06-9f14-4b02-b0c6-b8c60ba92ffa",
   "metadata": {
    "scrolled": true
   },
   "outputs": [],
   "source": [
    "plot_train_history(model, start= 0, n_bins = 25)"
   ]
  },
  {
   "cell_type": "code",
   "execution_count": 95,
   "id": "f6b91b33-81bd-47e8-aa8e-bda1bd4d4583",
   "metadata": {
    "execution": {
     "iopub.execute_input": "2024-06-14T08:25:23.868771Z",
     "iopub.status.busy": "2024-06-14T08:25:23.868070Z",
     "iopub.status.idle": "2024-06-14T08:25:24.840821Z",
     "shell.execute_reply": "2024-06-14T08:25:24.839920Z",
     "shell.execute_reply.started": "2024-06-14T08:25:23.868727Z"
    },
    "scrolled": true
   },
   "outputs": [
    {
     "data": {
      "image/png": "[encoded data removed]",
      "text/plain": [
       "<Figure size 2000x400 with 5 Axes>"
      ]
     },
     "metadata": {},
     "output_type": "display_data"
    }
   ],
   "source": [
    "plot_train_history(model, start= 100, n_bins = 25)"
   ]
  },
  {
   "cell_type": "code",
   "execution_count": null,
   "id": "fbc084c9-ec20-4090-97d4-752399b3545d",
   "metadata": {},
   "outputs": [],
   "source": []
  }
 ],
 "metadata": {
  "kernelspec": {
   "display_name": "Python [conda env:ptsnnl]",
   "language": "python",
   "name": "conda-env-ptsnnl-py"
  },
  "language_info": {
   "codemirror_mode": {
    "name": "ipython",
    "version": 3
   },
   "file_extension": ".py",
   "mimetype": "text/x-python",
   "name": "python",
   "nbconvert_exporter": "python",
   "pygments_lexer": "ipython3",
   "version": "3.11.0"
  },
  "toc": {
   "base_numbering": 1,
   "nav_menu": {},
   "number_sections": true,
   "sideBar": true,
   "skip_h1_title": false,
   "title_cell": "Table of Contents",
   "title_sidebar": "Contents",
   "toc_cell": false,
   "toc_position": {},
   "toc_section_display": true,
   "toc_window_display": false
  }
 },
 "nbformat": 4,
 "nbformat_minor": 5
}
