{
 "cells": [
  {
   "cell_type": "code",
   "execution_count": 4,
   "id": "01168a0e-bc98-4fb9-91b9-1804935e7a09",
   "metadata": {
    "execution": {
     "iopub.execute_input": "2024-08-29T14:54:53.662480Z",
     "iopub.status.busy": "2024-08-29T14:54:53.661918Z",
     "iopub.status.idle": "2024-08-29T14:54:53.667614Z",
     "shell.execute_reply": "2024-08-29T14:54:53.666691Z",
     "shell.execute_reply.started": "2024-08-29T14:54:53.662432Z"
    }
   },
   "outputs": [],
   "source": [
    "import random\n",
    "import torch\n",
    "from scipy import spatial\n",
    "import numpy as np"
   ]
  },
  {
   "cell_type": "code",
   "execution_count": 8,
   "id": "d16beb06-2703-4953-86d5-69b029ff3eca",
   "metadata": {
    "execution": {
     "iopub.execute_input": "2024-08-29T14:55:07.630708Z",
     "iopub.status.busy": "2024-08-29T14:55:07.630140Z",
     "iopub.status.idle": "2024-08-29T14:55:07.638195Z",
     "shell.execute_reply": "2024-08-29T14:55:07.637299Z",
     "shell.execute_reply.started": "2024-08-29T14:55:07.630658Z"
    }
   },
   "outputs": [],
   "source": [
    "def set_global_seed(seed: int) -> None:\n",
    "    \"\"\"\n",
    "    Sets the seed value for random number generators.\n",
    "\n",
    "    Parameter\n",
    "    ---------\n",
    "    seed: int\n",
    "        The seed value to use.\n",
    "    \"\"\"\n",
    "    random.seed(seed)\n",
    "    np.random.seed(seed)\n",
    "    torch.manual_seed(seed)\n",
    "    torch.cuda.manual_seed(seed)\n",
    "    torch.backends.cudnn.deterministic = True\n",
    "    torch.backends.cudnn.benchmark = True\n",
    "\n",
    "set_global_seed(1234)"
   ]
  },
  {
   "cell_type": "code",
   "execution_count": 9,
   "id": "f94a2755-47b7-4814-824a-5a3b36cc791a",
   "metadata": {
    "execution": {
     "iopub.execute_input": "2024-08-29T14:55:08.592410Z",
     "iopub.status.busy": "2024-08-29T14:55:08.591998Z",
     "iopub.status.idle": "2024-08-29T14:55:08.600775Z",
     "shell.execute_reply": "2024-08-29T14:55:08.599755Z",
     "shell.execute_reply.started": "2024-08-29T14:55:08.592382Z"
    }
   },
   "outputs": [
    {
     "name": "stdout",
     "output_type": "stream",
     "text": [
      "tensor([[ 0.5432,  0.9785,  0.9723],\n",
      "        [ 0.8883, -0.1104,  0.3268]])\n"
     ]
    }
   ],
   "source": [
    "a = torch.randn(2, 2)\n",
    "b = torch.randn(3, 2) # different row number, for the fun\n",
    "\n",
    "# Given that cos_sim(u, v) = dot(u, v) / (norm(u) * norm(v))\n",
    "#                          = dot(u / norm(u), v / norm(v))\n",
    "# We fist normalize the rows, before computing their dot products via transposition:\n",
    "a_norm = a / a.norm(dim=1)[:, None]\n",
    "b_norm = b / b.norm(dim=1)[:, None]\n",
    "res = torch.mm(a_norm, b_norm.transpose(0,1))\n",
    "print(res)\n",
    "#  0.9978 -0.9986 -0.9985\n",
    "# -0.8629  0.9172  0.9172"
   ]
  },
  {
   "cell_type": "code",
   "execution_count": 10,
   "id": "393c7e09-2758-49bf-8617-e339611a96eb",
   "metadata": {
    "execution": {
     "iopub.execute_input": "2024-08-29T14:55:10.419898Z",
     "iopub.status.busy": "2024-08-29T14:55:10.419352Z",
     "iopub.status.idle": "2024-08-29T14:55:10.428862Z",
     "shell.execute_reply": "2024-08-29T14:55:10.427870Z",
     "shell.execute_reply.started": "2024-08-29T14:55:10.419857Z"
    }
   },
   "outputs": [
    {
     "name": "stdout",
     "output_type": "stream",
     "text": [
      "[[ 0.54315244  0.97854183  0.97227371]\n",
      " [ 0.88826146 -0.11037233  0.32684979]]\n"
     ]
    }
   ],
   "source": [
    "# -------\n",
    "# Let's verify with numpy/scipy if our computations are correct:\n",
    "a_n = a.numpy()\n",
    "b_n = b.numpy()\n",
    "res_n = np.zeros((2, 3))\n",
    "for i in range(2):\n",
    "    for j in range(3):\n",
    "        # cos_sim(u, v) = 1 - cos_dist(u, v)\n",
    "        res_n[i, j] = 1 - spatial.distance.cosine(a_n[i], b_n[j])\n",
    "print(res_n)\n",
    "# [[ 0.9978022  -0.99855876 -0.99854881]\n",
    "#  [-0.86285472  0.91716063  0.9172349 ]]"
   ]
  },
  {
   "cell_type": "code",
   "execution_count": 11,
   "id": "38532da5-b9ac-42a3-a121-975abd1a0095",
   "metadata": {
    "execution": {
     "iopub.execute_input": "2024-08-29T14:56:27.407970Z",
     "iopub.status.busy": "2024-08-29T14:56:27.407476Z",
     "iopub.status.idle": "2024-08-29T14:56:27.488735Z",
     "shell.execute_reply": "2024-08-29T14:56:27.487807Z",
     "shell.execute_reply.started": "2024-08-29T14:56:27.407931Z"
    }
   },
   "outputs": [
    {
     "data": {
      "text/plain": [
       "(torch.Size([2, 2]), torch.Size([3, 2]))"
      ]
     },
     "execution_count": 11,
     "metadata": {},
     "output_type": "execute_result"
    }
   ],
   "source": [
    "normalized_a = torch.nn.functional.normalize(a, dim=1, p=2)\n",
    "normalized_b = torch.nn.functional.normalize(b, dim=1, p=2)\n",
    "normalized_a.shape, normalized_b.shape"
   ]
  },
  {
   "cell_type": "code",
   "execution_count": 21,
   "id": "a7605964-85b1-4fc2-8f4e-c0d4feabfc10",
   "metadata": {
    "execution": {
     "iopub.execute_input": "2024-08-29T15:03:06.762661Z",
     "iopub.status.busy": "2024-08-29T15:03:06.762114Z",
     "iopub.status.idle": "2024-08-29T15:03:06.770276Z",
     "shell.execute_reply": "2024-08-29T15:03:06.769372Z",
     "shell.execute_reply.started": "2024-08-29T15:03:06.762620Z"
    }
   },
   "outputs": [
    {
     "name": "stdout",
     "output_type": "stream",
     "text": [
      "tensor([[ 0.5432,  0.9785,  0.9723],\n",
      "        [ 0.8883, -0.1104,  0.3268]])\n",
      "tensor([[0.4568, 0.0215, 0.0277],\n",
      "        [0.1117, 1.1104, 0.6732]])\n"
     ]
    }
   ],
   "source": [
    "sim_matrix = torch.matmul(normalized_a, normalized_b.T)\n",
    "print(sim_matrix)\n",
    "dist_matrix = 1.0 - dist_matrix\n",
    "print(dist_matrix)"
   ]
  },
  {
   "cell_type": "code",
   "execution_count": 18,
   "id": "a946ce29-ce24-4380-a743-5d8449304dbb",
   "metadata": {
    "execution": {
     "iopub.execute_input": "2024-08-29T15:02:14.716620Z",
     "iopub.status.busy": "2024-08-29T15:02:14.716156Z",
     "iopub.status.idle": "2024-08-29T15:02:14.724928Z",
     "shell.execute_reply": "2024-08-29T15:02:14.724036Z",
     "shell.execute_reply.started": "2024-08-29T15:02:14.716580Z"
    }
   },
   "outputs": [
    {
     "data": {
      "text/plain": [
       "tensor([[0.4568, 0.0215, 0.0277],\n",
       "        [0.1117, 1.1104, 0.6732]])"
      ]
     },
     "execution_count": 18,
     "metadata": {},
     "output_type": "execute_result"
    }
   ],
   "source": [
    "sim_matrix = torch.matmul(normalized_a, normalized_b.transpose(0,1))\n",
    "dist_matrix= 1.0 - sim_matrix\n",
    "dist_matrix"
   ]
  },
  {
   "cell_type": "code",
   "execution_count": null,
   "id": "0839c804-2f59-4133-8f2f-0cfcd7abcb85",
   "metadata": {},
   "outputs": [],
   "source": []
  }
 ],
 "metadata": {
  "kernelspec": {
   "display_name": "Python [conda env:ptsnnl]",
   "language": "python",
   "name": "conda-env-ptsnnl-py"
  },
  "language_info": {
   "codemirror_mode": {
    "name": "ipython",
    "version": 3
   },
   "file_extension": ".py",
   "mimetype": "text/x-python",
   "name": "python",
   "nbconvert_exporter": "python",
   "pygments_lexer": "ipython3",
   "version": "3.11.0"
  }
 },
 "nbformat": 4,
 "nbformat_minor": 5
}
