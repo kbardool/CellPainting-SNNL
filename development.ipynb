{
 "cells": [
  {
   "cell_type": "code",
   "execution_count": 1,
   "id": "e3585b53-e790-4e79-9d2c-0c2892f43189",
   "metadata": {
    "ExecuteTime": {
     "end_time": "2023-04-12T10:29:16.111588Z",
     "start_time": "2023-04-12T10:29:15.764305Z"
    },
    "execution": {
     "iopub.execute_input": "2024-07-03T18:24:04.333968Z",
     "iopub.status.busy": "2024-07-03T18:24:04.333590Z",
     "iopub.status.idle": "2024-07-03T18:24:04.365155Z",
     "shell.execute_reply": "2024-07-03T18:24:04.364441Z",
     "shell.execute_reply.started": "2024-07-03T18:24:04.333933Z"
    }
   },
   "outputs": [
    {
     "data": {
      "text/html": [
       "<style>.container { width:98% !important; }</style>"
      ],
      "text/plain": [
       "<IPython.core.display.HTML object>"
      ]
     },
     "metadata": {},
     "output_type": "display_data"
    }
   ],
   "source": [
    "from IPython.display import display, HTML, Image\n",
    "display(HTML(\"<style>.container { width:98% !important; }</style>\"))\n",
    "%load_ext autoreload  \n",
    "%autoreload 2\n",
    "from IPython.core.interactiveshell import InteractiveShell\n",
    "InteractiveShell.ast_node_interactivity = \"all\""
   ]
  },
  {
   "cell_type": "code",
   "execution_count": 2,
   "id": "91ecc37c-ce21-4540-aefe-d61e9737879c",
   "metadata": {
    "execution": {
     "iopub.execute_input": "2024-05-10T10:21:30.489603Z",
     "iopub.status.busy": "2024-05-10T10:21:30.489308Z",
     "iopub.status.idle": "2024-05-10T10:21:30.499334Z",
     "shell.execute_reply": "2024-05-10T10:21:30.498658Z",
     "shell.execute_reply.started": "2024-05-10T10:21:30.489580Z"
    }
   },
   "outputs": [],
   "source": [
    "\n",
    "WANDB_ACTIVE = False\n"
   ]
  },
  {
   "cell_type": "code",
   "execution_count": 8,
   "id": "6db89e9b-7ebd-4c13-ad46-5714c5756b6a",
   "metadata": {
    "ExecuteTime": {
     "end_time": "2023-04-12T10:29:16.111588Z",
     "start_time": "2023-04-12T10:29:15.764305Z"
    },
    "execution": {
     "iopub.execute_input": "2024-07-03T18:25:32.762330Z",
     "iopub.status.busy": "2024-07-03T18:25:32.761825Z",
     "iopub.status.idle": "2024-07-03T18:25:32.932801Z",
     "shell.execute_reply": "2024-07-03T18:25:32.932068Z",
     "shell.execute_reply.started": "2024-07-03T18:25:32.762288Z"
    }
   },
   "outputs": [
    {
     "name": "stdout",
     "output_type": "stream",
     "text": [
      "['../..', './src', '/home/kevin/miniforge3/envs/ptsnnl/lib/python311.zip', '/home/kevin/miniforge3/envs/ptsnnl/lib/python3.11', '/home/kevin/miniforge3/envs/ptsnnl/lib/python3.11/lib-dynload', '', '/home/kevin/miniforge3/envs/ptsnnl/lib/python3.11/site-packages', '/home/kevin/miniforge3/envs/ptsnnl/lib/python3.11/site-packages/cytominer_eval-0.1-py3.11.egg']\n",
      "2.2.1+cu118\n"
     ]
    }
   ],
   "source": [
    "import os\n",
    "import sys\n",
    "import csv\n",
    "import json\n",
    "import time\n",
    "import types, copy, pprint\n",
    "import logging \n",
    "from datetime import datetime\n",
    "for p in ['./src','../..']:\n",
    "    if p not in sys.path:\n",
    "        print(f\"insert {p}\")\n",
    "        sys.path.insert(0, p)\n",
    "print(sys.path)\n",
    "# import shutil\n",
    "# import getpass\n",
    "import yaml\n",
    "\n",
    "import hydra \n",
    "from hydra import initialize, initialize_config_module, initialize_config_dir, compose\n",
    "from omegaconf import OmegaConf\n",
    "\n",
    "\n",
    "from matplotlib import pyplot as plt\n",
    "from typing import Dict, List, Tuple\n",
    "from scipy.sparse import csr_matrix\n",
    "from tqdm import tqdm\n",
    "\n",
    "import numpy as np\n",
    "import pandas as pd\n",
    "\n",
    "import torch\n",
    "import torch.nn.functional as F\n",
    "from torchinfo import summary\n",
    "import wandb\n",
    "\n",
    "torch.set_printoptions(precision=None, threshold=None, edgeitems=None, linewidth=150, profile=None, sci_mode=None)\n",
    "print(torch.__version__)\n",
    "\n",
    "pp = pprint.PrettyPrinter(indent=4)\n",
    "pd.options.display.width = 132\n",
    "torch.set_printoptions(precision=None, threshold=None, edgeitems=None, linewidth=150, profile=None, sci_mode=None)\n",
    "np.set_printoptions(edgeitems=3, infstr='inf', linewidth=150, nanstr='nan')\n",
    "\n",
    "os.environ[\"WANDB_NOTEBOOK_NAME\"] = \"development.ipynb\"\n",
    "# os.environ[\"CUDA_LAUNCH_BLOCKING\"] = \"1\"\n",
    "# os.environ[\"CUDA_VISIBLE_DEVICES\"] = \"2\""
   ]
  },
  {
   "cell_type": "code",
   "execution_count": 10,
   "id": "209490ee-15c2-4854-92a7-740eca0617bb",
   "metadata": {
    "execution": {
     "iopub.execute_input": "2024-07-03T18:26:00.500589Z",
     "iopub.status.busy": "2024-07-03T18:26:00.500131Z",
     "iopub.status.idle": "2024-07-03T18:26:00.555035Z",
     "shell.execute_reply": "2024-07-03T18:26:00.554302Z",
     "shell.execute_reply.started": "2024-07-03T18:26:00.500552Z"
    }
   },
   "outputs": [
    {
     "data": {
      "text/plain": [
       "'Sample module for using DNN classifier with SNNL'"
      ]
     },
     "execution_count": 10,
     "metadata": {},
     "output_type": "execute_result"
    }
   ],
   "source": [
    "# Soft Nearest Neighbor Loss\n",
    "# Copyright (C) 2020  Abien Fred Agarap\n",
    "#\n",
    "# This program is free software: you can redistribute it and/or modify\n",
    "# it under the terms of the GNU Affero General Public License as published\n",
    "# by the Free Software Foundation, either version 3 of the License, or\n",
    "# (at your option) any later version.\n",
    "#\n",
    "# This program is distributed in the hope that it will be useful,\n",
    "# but WITHOUT ANY WARRANTY; without even the implied warranty of\n",
    "# MERCHANTABILITY or FITNESS FOR A PARTICULAR PURPOSE.  See the\n",
    "# GNU Affero General Public License for more details.\n",
    "#\n",
    "# You should have received a copy of the GNU Affero General Public License\n",
    "# along with this program.  If not, see <https://www.gnu.org/licenses/>.\n",
    "__author__ = \"Abien Fred Agarap\"\n",
    "__version__ = \"1.0.0\"\n",
    "\"\"\"Sample module for using DNN classifier with SNNL\"\"\"\n",
    "\n",
    "from KevinsRoutines.utils.utils_wandb  import  init_wandb, wandb_log_metrics,wandb_watch\n",
    "from KevinsRoutines.utils.utils_general  import  list_namespace, print_heading, print_underline \n",
    "from snnl.utils import parse_args, load_configuration, set_global_seed, get_device, set_device\n",
    "from snnl.utils import load_model, save_model, import_results, export_results, save_checkpoint, load_checkpoint \n",
    "from snnl.utils import plot_model_parms, plot_train_history, plot_classification_metrics, plot_regression_metrics\n",
    "from snnl.utils import display_epoch_metrics, display_cellpainting_batch, display_model_parameters\n",
    "from snnl.utils import CellpaintingDataset, InfiniteDataLoader, custom_collate_fn\n",
    "from snnl.utils import display_model_summary, define_autoencoder_model\n",
    "from snnl.utils import save_checkpoint_v2, load_checkpoint_v2, save_checkpoint_v3\n",
    "\n",
    "from snnl.models import Model\n",
    "# from dev_dnn  import DNN \n",
    "# from dev_autoencoder import Autoencoder\n",
    "# from dev_snnloss import SNNLoss"
   ]
  },
  {
   "cell_type": "code",
   "execution_count": null,
   "id": "7cb5c8de-35e7-4666-8f7f-ed6781044754",
   "metadata": {
    "execution": {
     "iopub.status.busy": "2024-07-03T18:24:24.504227Z",
     "iopub.status.idle": "2024-07-03T18:24:24.504498Z",
     "shell.execute_reply": "2024-07-03T18:24:24.504371Z",
     "shell.execute_reply.started": "2024-07-03T18:24:24.504358Z"
    }
   },
   "outputs": [],
   "source": [
    "from scipy.spatial.distance import pdist, squareform, euclidean"
   ]
  },
  {
   "cell_type": "code",
   "execution_count": 11,
   "id": "3ffe9e5e-2886-42c6-9962-c5086ed0d4e9",
   "metadata": {
    "execution": {
     "iopub.execute_input": "2024-07-03T18:26:14.490957Z",
     "iopub.status.busy": "2024-07-03T18:26:14.490276Z",
     "iopub.status.idle": "2024-07-03T18:26:15.367179Z",
     "shell.execute_reply": "2024-07-03T18:26:15.366309Z",
     "shell.execute_reply.started": "2024-07-03T18:26:14.490914Z"
    }
   },
   "outputs": [
    {
     "name": "stderr",
     "output_type": "stream",
     "text": [
      "2024-07-03 20:26:15,359 - INFO: -  Current CUDA Device is:  cuda:0 - Quadro GV100\n"
     ]
    },
    {
     "name": "stdout",
     "output_type": "stream",
     "text": [
      "Current device is : cuda:0\n"
     ]
    }
   ],
   "source": [
    "current_device = get_device()\n",
    "print(f\"Current device is : {current_device}\")"
   ]
  },
  {
   "cell_type": "code",
   "execution_count": 6,
   "id": "5e1158f2-880e-4f28-a297-47851d76d816",
   "metadata": {
    "execution": {
     "iopub.execute_input": "2024-05-10T10:21:45.876470Z",
     "iopub.status.busy": "2024-05-10T10:21:45.875820Z",
     "iopub.status.idle": "2024-05-10T10:21:45.926178Z",
     "shell.execute_reply": "2024-05-10T10:21:45.925398Z",
     "shell.execute_reply.started": "2024-05-10T10:21:45.876408Z"
    }
   },
   "outputs": [
    {
     "data": {
      "text/plain": [
       "Namespace(seed=1234, runmode='snnl', configuration='hyperparameters/autoencoder_cellpainting.yaml')"
      ]
     },
     "execution_count": 6,
     "metadata": {},
     "output_type": "execute_result"
    }
   ],
   "source": [
    "# if __name__ == \"__main__\":\n",
    "input_args = f\" --seed               1234 \" \\\n",
    "             f\" --runmode            snnl\" \\\n",
    "             f\" --configuration      hyperparameters/autoencoder_cellpainting.yaml\"\n",
    "             # f\" --configuration    hyperparameters/dnn_mnist.json\"\n",
    "             # f\" --model             baseline\" \\\n",
    "args = parse_args(input_args.split())\n",
    "args\n",
    "\n",
    "with open(args.configuration) as f:\n",
    "    args = types.SimpleNamespace(**yaml.safe_load(f), **(vars(args)))\n",
    "args.batch_size = args.cellpainting_args['batch_size']\n",
    "args.compounds_per_batch = args.cellpainting_args['compounds_per_batch']\n",
    "set_global_seed(args.seed)\n"
   ]
  },
  {
   "cell_type": "code",
   "execution_count": 28,
   "id": "7db96e80-12fd-4bf9-b760-e29842632d8f",
   "metadata": {
    "execution": {
     "iopub.execute_input": "2024-07-03T18:44:34.559833Z",
     "iopub.status.busy": "2024-07-03T18:44:34.559325Z",
     "iopub.status.idle": "2024-07-03T18:44:34.607996Z",
     "shell.execute_reply": "2024-07-03T18:44:34.607415Z",
     "shell.execute_reply.started": "2024-07-03T18:44:34.559793Z"
    }
   },
   "outputs": [],
   "source": [
    "def plot_xy(x,y, title = 'X-Y Plot', start= 0, n_bins = 25):\n",
    "    key1 = 'trn'     \n",
    "    fig, axs = plt.subplots(1, 1, sharey=False, tight_layout=True, figsize=(1*4,4) )\n",
    "    # x_data = np.arange(start,epochs)\n",
    "    labelsize = 6\n",
    "    # We can set the number of bins with the *bins* keyword argument.\n",
    "    _ = axs.plot(x, y, label='Training');\n",
    "    # _ = axs[i].plot(x_data, model.training_history['val']['val_ttl_loss'][start:epochs],label='Validation');\n",
    "    _ = axs.set_title(title, fontsize= 10);\n",
    "    _ = axs.tick_params(axis='both', which='major', labelsize=6, labelrotation=45)\n",
    "    axs.legend()"
   ]
  },
  {
   "cell_type": "code",
   "execution_count": 17,
   "id": "425cfd74-735b-43bf-acc7-b3b48c5d8f49",
   "metadata": {
    "execution": {
     "iopub.execute_input": "2024-07-03T18:41:09.739161Z",
     "iopub.status.busy": "2024-07-03T18:41:09.738651Z",
     "iopub.status.idle": "2024-07-03T18:41:10.260467Z",
     "shell.execute_reply": "2024-07-03T18:41:10.259489Z",
     "shell.execute_reply.started": "2024-07-03T18:41:09.739124Z"
    }
   },
   "outputs": [],
   "source": [
    "x = np.arange(700)\n",
    "y = 1.0 / ((1.0 + x) ** 0.55)"
   ]
  },
  {
   "cell_type": "code",
   "execution_count": 30,
   "id": "1cb00bff-ad8f-4b25-875e-5697381e5128",
   "metadata": {
    "execution": {
     "iopub.execute_input": "2024-07-03T18:45:07.773278Z",
     "iopub.status.busy": "2024-07-03T18:45:07.772778Z",
     "iopub.status.idle": "2024-07-03T18:45:08.096185Z",
     "shell.execute_reply": "2024-07-03T18:45:08.095633Z",
     "shell.execute_reply.started": "2024-07-03T18:45:07.773236Z"
    }
   },
   "outputs": [
    {
     "data": {
      "image/png": "[encoded data removed]",
      "text/plain": [
       "<Figure size 400x400 with 1 Axes>"
      ]
     },
     "metadata": {},
     "output_type": "display_data"
    }
   ],
   "source": [
    "plot_xy(x,y, 'Temperature Annealing')"
   ]
  },
  {
   "cell_type": "code",
   "execution_count": 32,
   "id": "68d4e773-c325-49ac-8ff6-bbf315654e77",
   "metadata": {
    "execution": {
     "iopub.execute_input": "2024-07-03T18:46:45.688952Z",
     "iopub.status.busy": "2024-07-03T18:46:45.688592Z",
     "iopub.status.idle": "2024-07-03T18:46:45.735475Z",
     "shell.execute_reply": "2024-07-03T18:46:45.734798Z",
     "shell.execute_reply.started": "2024-07-03T18:46:45.688922Z"
    }
   },
   "outputs": [
    {
     "name": "stdout",
     "output_type": "stream",
     "text": [
      "    0      1.00000\n",
      "  100      0.07900\n",
      "  200      0.05411\n",
      "  300      0.04333\n",
      "  400      0.03701\n",
      "  500      0.03274\n",
      "  600      0.02962\n",
      "  699      0.02724\n"
     ]
    }
   ],
   "source": [
    "for i, j in zip (x,y):\n",
    "    if i % 100 == 0:\n",
    "        print(f\" {i:4d}      {j:.5f}\")\n",
    "        \n",
    "print(f\" {i:4d}      {j:.5f}\")"
   ]
  },
  {
   "cell_type": "code",
   "execution_count": null,
   "id": "c81a68f4-5ad0-40e7-b5d0-b65a43f6c5ea",
   "metadata": {},
   "outputs": [],
   "source": []
  },
  {
   "cell_type": "code",
   "execution_count": null,
   "id": "40cab694-0de8-4aca-a9fc-1918530820d4",
   "metadata": {},
   "outputs": [],
   "source": []
  },
  {
   "cell_type": "code",
   "execution_count": null,
   "id": "5d4237a5-0c7f-4f57-a285-51982ff6659a",
   "metadata": {},
   "outputs": [],
   "source": []
  },
  {
   "cell_type": "code",
   "execution_count": null,
   "id": "d3af0456-962f-4f44-aee8-872cb15c7625",
   "metadata": {},
   "outputs": [],
   "source": []
  },
  {
   "cell_type": "code",
   "execution_count": null,
   "id": "b50e1254-58e0-43f4-9216-f1126eb78bc7",
   "metadata": {},
   "outputs": [],
   "source": []
  },
  {
   "cell_type": "code",
   "execution_count": null,
   "id": "cbe255d4-3e46-4831-b88c-1e9521af7083",
   "metadata": {},
   "outputs": [],
   "source": []
  },
  {
   "cell_type": "code",
   "execution_count": null,
   "id": "9c9b4d52-9b58-4601-9257-ee642548b221",
   "metadata": {},
   "outputs": [],
   "source": []
  },
  {
   "cell_type": "code",
   "execution_count": null,
   "id": "69d605b4-6cd4-4ac0-a6c6-de9f16645752",
   "metadata": {},
   "outputs": [],
   "source": []
  },
  {
   "cell_type": "code",
   "execution_count": null,
   "id": "18a01cc0-01cb-4449-8626-d382fe00f722",
   "metadata": {},
   "outputs": [],
   "source": []
  },
  {
   "cell_type": "code",
   "execution_count": 7,
   "id": "9356bcd0-dae0-42d7-92b3-ca271219cd2d",
   "metadata": {
    "execution": {
     "iopub.execute_input": "2024-05-10T10:21:52.576503Z",
     "iopub.status.busy": "2024-05-10T10:21:52.575993Z",
     "iopub.status.idle": "2024-05-10T10:21:52.620675Z",
     "shell.execute_reply": "2024-05-10T10:21:52.619935Z",
     "shell.execute_reply.started": "2024-05-10T10:21:52.576460Z"
    },
    "scrolled": true
   },
   "outputs": [
    {
     "name": "stdout",
     "output_type": "stream",
     "text": [
      " - Each mini-batch contains 100.0 compounds with 3 samples per each compound : total 300 rows\n",
      " - Number of 300 row full size batches per epoch: 800\n",
      " - Rows covered by 800 full size batches (300 rows) per epoch:  240000\n",
      " - Last partial batch contains : 0 rows\n",
      "\n",
      " - Each mini-batch contains 100.0 compounds with 3 samples per each compound : total 300 rows\n",
      " - Number of 300 row full size batches per epoch: 80\n",
      " - Rows covered by 80 full size batches (300 rows) per epoch:  24000\n",
      " - Last partial batch contains : 0 rows\n",
      "\n"
     ]
    }
   ],
   "source": [
    "trn_file_sz = args.cellpainting_args['train_end'] - args.cellpainting_args['train_start']\n",
    "val_file_sz = args.cellpainting_args['val_end'] - args.cellpainting_args['val_start']\n",
    "smp_sz = args.cellpainting_args['sample_size']\n",
    "buf_sz = args.cellpainting_args['compounds_per_batch']\n",
    "bth_sz = args.cellpainting_args['batch_size']\n",
    "recs_per_batch = smp_sz * bth_sz * buf_sz\n",
    "\n",
    "for file_sz in [trn_file_sz, val_file_sz]:\n",
    "    bth_per_epoch = file_sz // recs_per_batch\n",
    "    print(f\" - Each mini-batch contains {recs_per_batch/smp_sz} compounds with {smp_sz} samples per each compound : total {recs_per_batch} rows\")\n",
    "    print(f\" - Number of {recs_per_batch} row full size batches per epoch: {bth_per_epoch}\")\n",
    "    print(f\" - Rows covered by {bth_per_epoch} full size batches ({recs_per_batch} rows) per epoch:  {(file_sz // recs_per_batch) * recs_per_batch}\")\n",
    "    print(f\" - Last partial batch contains : {file_sz % recs_per_batch} rows\")\n",
    "    print() "
   ]
  },
  {
   "cell_type": "code",
   "execution_count": 8,
   "id": "cd80cb38-71aa-4c0e-a8cf-c4c13dabf456",
   "metadata": {
    "execution": {
     "iopub.execute_input": "2024-05-10T10:21:55.698195Z",
     "iopub.status.busy": "2024-05-10T10:21:55.697847Z",
     "iopub.status.idle": "2024-05-10T10:21:55.745507Z",
     "shell.execute_reply": "2024-05-10T10:21:55.744644Z",
     "shell.execute_reply.started": "2024-05-10T10:21:55.698168Z"
    }
   },
   "outputs": [
    {
     "name": "stdout",
     "output_type": "stream",
     "text": [
      " Experiment name AE_0510_1221 - description: Autoencoder Training in SNNL mode - secondTry\n"
     ]
    }
   ],
   "source": [
    "args.project_name = 'CellPainting_Profiles'\n",
    "args.exp_id   = None\n",
    "args.exp_name = 'AE_'+datetime.now().strftime('%m%d_%H%M')\n",
    "args.exp_title = 'secondTry'\n",
    "args.exp_desc = 'Autoencoder Training in SNNL mode'+' - '+args.exp_title\n",
    "args.exp_date = datetime.now().strftime('%Y%m%d')\n",
    "print(f\" Experiment name {args.exp_name} - description: {args.exp_desc}\")"
   ]
  },
  {
   "cell_type": "code",
   "execution_count": 9,
   "id": "17b71595-cf36-4b1f-9426-30f4c8ebe058",
   "metadata": {
    "execution": {
     "iopub.execute_input": "2024-05-10T10:21:56.554909Z",
     "iopub.status.busy": "2024-05-10T10:21:56.554400Z",
     "iopub.status.idle": "2024-05-10T10:21:56.595329Z",
     "shell.execute_reply": "2024-05-10T10:21:56.594619Z",
     "shell.execute_reply.started": "2024-05-10T10:21:56.554863Z"
    }
   },
   "outputs": [],
   "source": [
    "if WANDB_ACTIVE:\n",
    "    wandb_run = init_wandb(args)"
   ]
  },
  {
   "cell_type": "markdown",
   "id": "e0a50a75-0f9e-4f97-84c2-75dbbafb714d",
   "metadata": {
    "jp-MarkdownHeadingCollapsed": true
   },
   "source": [
    "# Define autoencoder model"
   ]
  },
  {
   "cell_type": "markdown",
   "id": "16a2b7c8-90b9-4f32-b703-15a57c931cd2",
   "metadata": {},
   "source": [
    "## Override arguments"
   ]
  },
  {
   "cell_type": "code",
   "execution_count": 89,
   "id": "da72f5b7-e241-4364-90a3-253803145b90",
   "metadata": {
    "execution": {
     "iopub.execute_input": "2024-05-09T09:25:43.597046Z",
     "iopub.status.busy": "2024-05-09T09:25:43.596490Z",
     "iopub.status.idle": "2024-05-09T09:25:43.642773Z",
     "shell.execute_reply": "2024-05-09T09:25:43.641919Z",
     "shell.execute_reply.started": "2024-05-09T09:25:43.596994Z"
    }
   },
   "outputs": [
    {
     "name": "stdout",
     "output_type": "stream",
     "text": [
      "   Latent dim        50\n",
      "   loss_factor       2.0\n",
      "   snnl_factor       1.0\n",
      "   temperature       50.0\n",
      "   learning_rate     0.0001\n",
      "   temperatureLR:    0.01\n"
     ]
    }
   ],
   "source": [
    "# args.show_every = 1\n",
    "# args.save_every = 25\n",
    "# args.temperature   = 5.00\n",
    "# args.loss_factor   = 4.0        ## 2.0e+00\n",
    "# args.snnl_factor   = 0.25       ## 1.0e+00\n",
    "# args.learning_rate = 1.0e-02    ## 0.001\n",
    "# args.temperatureLR = 1.0e-03    ## 1e-4\n",
    "print(f\"   Latent dim        {args.code_units}\")\n",
    "print(f\"   loss_factor       {args.loss_factor}\")\n",
    "print(f\"   snnl_factor       {args.snnl_factor}\")\n",
    "print(f\"   temperature       {args.temperature}\")\n",
    "print(f\"   learning_rate     {args.learning_rate}\")\n",
    "print(f\"   temperatureLR:    {args.temperatureLR}\")"
   ]
  },
  {
   "cell_type": "code",
   "execution_count": 90,
   "id": "f600b67a-ec6c-423c-ac7c-a34544a3b4f0",
   "metadata": {
    "execution": {
     "iopub.execute_input": "2024-05-09T09:25:43.644633Z",
     "iopub.status.busy": "2024-05-09T09:25:43.644332Z",
     "iopub.status.idle": "2024-05-09T09:25:43.688817Z",
     "shell.execute_reply": "2024-05-09T09:25:43.687909Z",
     "shell.execute_reply.started": "2024-05-09T09:25:43.644611Z"
    },
    "scrolled": true
   },
   "outputs": [
    {
     "name": "stdout",
     "output_type": "stream",
     "text": [
      "\n",
      "command line parms : \n",
      "-----------------------\n",
      "activations..............  ['relu', 'relu', 'sigmoid', 'relu', 'relu', 'relu']\n",
      "batch_size...............  1\n",
      "\n",
      "    cellpainting_args   (dict)\n",
      "    ----------------------------\n",
      "    batch_size...............  1\n",
      "    chunksize................  None\n",
      "    compounds_per_batch......  100\n",
      "    conversions..............  None\n",
      "    iterator.................  True\n",
      "    sample_size..............  3\n",
      "    test_end.................  33600\n",
      "    test_start...............  30000\n",
      "    train_end................  240000\n",
      "    train_start..............  0\n",
      "    training_path............  /home/kevin/WSL-shared/Cellpainting/cj-datasets/output_11102023/3_sample_profiles/3sample_profiles_1482_HashOrder.csv\n",
      "    val_end..................  24000\n",
      "    val_start................  0\n",
      "    validation_path..........  /home/kevin/WSL-shared/Cellpainting/cj-datasets/output_11102023/3_sample_profiles/3sample_profiles_1482_HashOrder_test.csv\n",
      "\n",
      "code_units...............  50\n",
      "compounds_per_batch......  100\n",
      "config...................  None\n",
      "configuration............  hyperparameters/autoencoder_cellpainting.yaml\n",
      "cpu......................  None\n",
      "dataset..................  cellpainting\n",
      "exp_date.................  20240509\n",
      "exp_desc.................  Autoencoder Training in SNNL mode - secondTry\n",
      "exp_description..........  brief description\n",
      "exp_folder...............  None\n",
      "exp_id...................  None\n",
      "exp_name.................  AE_0509_1100\n",
      "exp_name_pfx.............  None\n",
      "exp_title................  secondTry\n",
      "folder_sfx...............  None\n",
      "gpu_ids..................  None\n",
      "input_shape..............  1471\n",
      "learning_rate............  0.0001\n",
      "loss_factor..............  2.0\n",
      "\n",
      "    paths   (dict)\n",
      "    ----------------\n",
      "    checkpoint_dir...........  ./ckpt\n",
      "    log_dir..................  ./logs\n",
      "    result_dir...............  ./results\n",
      "\n",
      "project_name.............  CellPainting_Profiles\n",
      "random_seed..............  1234\n",
      "runmode..................  snnl\n",
      "seed.....................  1234\n",
      "seed_list................  None\n",
      "snnl_factor..............  1.0\n",
      "temperature..............  50.0\n",
      "temperatureLR............  0.01\n",
      "units....................  [['linear', 1471, 1024], ['relu', 0, 0], ['linear', 1024, 128], ['relu', 0, 0], ['linear', 128, 50], ['linear', 50, 128], ['relu', 0, 0], ['linear', 128, 1024], ['relu', 0, 0], ['linear', 1024, 1471]]\n",
      "\n"
     ]
    }
   ],
   "source": [
    "list_namespace(args)"
   ]
  },
  {
   "cell_type": "markdown",
   "id": "642cd873-f9a3-42f7-b4e6-cc6eadea2041",
   "metadata": {},
   "source": [
    "## Define Model"
   ]
  },
  {
   "cell_type": "code",
   "execution_count": 91,
   "id": "982233e2-219e-48c7-a874-9cd437f3ba8f",
   "metadata": {
    "execution": {
     "iopub.execute_input": "2024-05-09T09:25:43.689973Z",
     "iopub.status.busy": "2024-05-09T09:25:43.689766Z",
     "iopub.status.idle": "2024-05-09T09:25:43.795554Z",
     "shell.execute_reply": "2024-05-09T09:25:43.794783Z",
     "shell.execute_reply.started": "2024-05-09T09:25:43.689951Z"
    },
    "scrolled": true
   },
   "outputs": [
    {
     "name": "stdout",
     "output_type": "stream",
     "text": [
      "Defining model in SNNL mode \n",
      "\n",
      "------------------------------------------------------------\n",
      " Building Base Model from NOTEBOOK\n",
      "------------------------------------------------------------\n",
      "    Model_init()_    -- mode:              latent_code\n",
      "    Model_init()_    -- unsupervised :     None\n",
      "    Model_init()_    -- Criterion:         MSELoss()\n",
      "    Model_init()_    -- use_snnl :         True\n",
      "    Model_init()_    -- temperature :      50.0\n",
      "    Model_init()_    -- temperature LR:    0.01\n",
      "    Model_init()_    -- AE - support for unsupervised in latent_code mode is True\n",
      "\n",
      "------------------------------------------------------------\n",
      " Build SNNLoss from NOTEBOOK\n",
      "------------------------------------------------------------\n",
      "    SNNLoss _init()_    -- mode: latent_code was found in SNNLoss._supported_modes --   is unsupervised: True\n",
      "    SNNLoss _init()_    -- unsupervised :     True\n",
      "    SNNLoss _init()_    -- use_annealing :    False\n",
      "    SNNLoss _init()_    -- sample_size :      3\n",
      "    SNNLoss _init()_    -- temperature :      50.0\n",
      "\n",
      "------------------------------------------------------------\n",
      " Building Autoencoder from NOTEBOOK\n",
      "------------------------------------------------------------\n",
      "    layer pair:    0  type:linear           input:   1471  output:   1024    weights: [1024, 1471]   \n",
      "    layer pair:    1  type:relu             input:      0  output:      0    weights: [0, 0]   \n",
      "    layer pair:    2  type:linear           input:   1024  output:    128    weights: [128, 1024]   \n",
      "    layer pair:    3  type:relu             input:      0  output:      0    weights: [0, 0]   \n",
      "    layer pair:    4  type:linear           input:    128  output:     50    weights: [50, 128]   \n",
      "    layer pair:    5  type:linear           input:     50  output:    128    weights: [128, 50]   \n",
      "    layer pair:    6  type:relu             input:      0  output:      0    weights: [0, 0]   \n",
      "    layer pair:    7  type:linear           input:    128  output:   1024    weights: [1024, 128]   \n",
      "    layer pair:    8  type:relu             input:      0  output:      0    weights: [0, 0]   \n",
      "    layer pair:    9  type:linear           input:   1024  output:   1471    weights: [1471, 1024]   \n",
      "    parameter: temperature  torch.Size([1])\n",
      "    parameter: layers.0.weight  torch.Size([1024, 1471])\n",
      "    parameter: layers.0.bias  torch.Size([1024])\n",
      "    parameter: layers.2.weight  torch.Size([128, 1024])\n",
      "    parameter: layers.2.bias  torch.Size([128])\n",
      "    parameter: layers.4.weight  torch.Size([50, 128])\n",
      "    parameter: layers.4.bias  torch.Size([50])\n",
      "    parameter: layers.5.weight  torch.Size([128, 50])\n",
      "    parameter: layers.5.bias  torch.Size([128])\n",
      "    parameter: layers.7.weight  torch.Size([1024, 128])\n",
      "    parameter: layers.7.bias  torch.Size([1024])\n",
      "    parameter: layers.9.weight  torch.Size([1471, 1024])\n",
      "    parameter: layers.9.bias  torch.Size([1471])\n",
      "    AE init() -- mode               : latent_code\n",
      "    AE init() -- unsupervised       : True\n",
      "    AE init() -- layer_types        : ['linear', 'relu', 'linear', 'relu', 'linear', 'linear', 'relu', 'linear', 'relu', 'linear']\n",
      "    AE init() -- layer_activations  : ['relu', 'relu', 'sigmoid', 'relu', 'relu', 'relu']\n",
      "    AE init() -- Primary Crtierion  : MSELoss()\n",
      "    AE init() -- monitor_grads_layer: None\n",
      "    AE init() -- scheduler          : None\n",
      "    AE init() -- use_snnl           : True\n",
      "    AE init() -- SNNL Crtierion     : SNNLoss()\n",
      "    AE init() -- temperature        : Parameter containing:\n",
      "tensor([50.], device='cuda:0', requires_grad=True)\n",
      "    AE init() -- temperature LR     : 0.01\n",
      "    AE init() -- temp_scheduler     : None\n"
     ]
    },
    {
     "data": {
      "text/plain": [
       "device(type='cuda', index=0)"
      ]
     },
     "execution_count": 91,
     "metadata": {},
     "output_type": "execute_result"
    }
   ],
   "source": [
    "if args.runmode.lower() == \"baseline\":\n",
    "    print(f\"Defining model in baseline mode\")\n",
    "    model = Autoencoder(\n",
    "        units=args.units,\n",
    "        activations = args.activations,\n",
    "        code_units  = args.code_units, \n",
    "        criterion   = torch.nn.MSELoss(reduction='mean'),\n",
    "        input_shape = args.input_shape, \n",
    "        sample_size = args.cellpainting_args['sample_size'],\n",
    "        loss_factor = args.loss_factor,\n",
    "        snnl_factor=args.snnl_factor,\n",
    "        learning_rate=args.learning_rate,\n",
    "        embedding_layer = 4,\n",
    "        use_scheduler = False,\n",
    "        use_temp_scheduler = False,\n",
    "        )\n",
    "elif args.runmode.lower() == \"snnl\":\n",
    "    print(f\"Defining model in SNNL mode \")\n",
    "    model = Autoencoder(\n",
    "        mode=\"latent_code\",\n",
    "        units=args.units,\n",
    "        activations = args.activations,\n",
    "        code_units = args.code_units,\n",
    "        input_shape=args.input_shape,\n",
    "        sample_size = args.cellpainting_args['sample_size'],\n",
    "        criterion = torch.nn.MSELoss(reduction='mean'),\n",
    "        loss_factor = args.loss_factor,\n",
    "        learning_rate=args.learning_rate,\n",
    "        use_snnl=True,\n",
    "        snnl_factor=args.snnl_factor,\n",
    "        temperature=args.temperature,\n",
    "        use_annealing= False,        \n",
    "        use_sum = False,\n",
    "        temperatureLR=args.temperatureLR,\n",
    "        adam_weight_decay = 0,\n",
    "        SGD_weight_decay= 0,\n",
    "        embedding_layer = 4,\n",
    "        use_scheduler = False,\n",
    "        use_temp_scheduler = False,\n",
    "\n",
    "        )\n",
    "else:\n",
    "    raise ValueError(\"Choose runmode between [baseline] and [snnl] only.\")\n",
    "model.device\n",
    "\n",
    "if WANDB_ACTIVE:\n",
    "    wandb_watch(item = model, criterion=None, log = 'all', log_freq = 1000, log_graph = True)"
   ]
  },
  {
   "cell_type": "markdown",
   "id": "b6caa8a3-323e-4075-a2ca-cb912fceef7d",
   "metadata": {},
   "source": [
    "# Distances"
   ]
  },
  {
   "cell_type": "code",
   "execution_count": 10,
   "id": "6a4f22f8-65ec-4c83-82ad-7f99eb4633fb",
   "metadata": {
    "execution": {
     "iopub.execute_input": "2024-05-10T10:22:02.828609Z",
     "iopub.status.busy": "2024-05-10T10:22:02.828122Z",
     "iopub.status.idle": "2024-05-10T10:22:02.873546Z",
     "shell.execute_reply": "2024-05-10T10:22:02.872878Z",
     "shell.execute_reply.started": "2024-05-10T10:22:02.828569Z"
    }
   },
   "outputs": [],
   "source": [
    "def pairwise_cosine_distance(features: torch.Tensor) -> torch.Tensor:\n",
    "    \"\"\"\n",
    "    Returns the pairwise cosine distance between two copies\n",
    "    of the features matrix.\n",
    "\n",
    "    Parameter\n",
    "    ---------\n",
    "    features: torch.Tensor\n",
    "        The input features.\n",
    "\n",
    "    Returns\n",
    "    -------\n",
    "    distance_matrix: torch.Tensor\n",
    "        The pairwise cosine distance matrix.\n",
    "\n",
    "    Example\n",
    "    -------\n",
    "    >>> import torch\n",
    "    >>> from snnl import SNNLoss\n",
    "    >>> _ = torch.manual_seed(42)\n",
    "    >>> a = torch.rand((4, 2))\n",
    "    >>> snnl = SNNLoss(temperature=1.0)\n",
    "    >>> snnl.pairwise_cosine_distance(a)\n",
    "    tensor([[1.1921e-07, 7.4125e-02, 1.8179e-02, 1.0152e-01],\n",
    "            [7.4125e-02, 1.1921e-07, 1.9241e-02, 2.2473e-03],\n",
    "            [1.8179e-02, 1.9241e-02, 1.1921e-07, 3.4526e-02],\n",
    "            [1.0152e-01, 2.2473e-03, 3.4526e-02, 0.0000e+00]])\n",
    "    \"\"\"\n",
    "    normalized_a = torch.nn.functional.normalize(features, dim=1, p=2)\n",
    "    return 1.0 - torch.matmul(normalized_a, normalized_a.T)\n",
    "    \n",
    "    # a, b = features.clone(), features.clone()\n",
    "    # normalized_a = torch.nn.functional.normalize(a, dim=1, p=2)\n",
    "    # normalized_b = torch.nn.functional.normalize(b, dim=1, p=2)\n",
    "    # normalized_b = torch.conj(normalized_b).T\n",
    "    # product = torch.matmul(normalized_a, normalized_b.T)\n",
    "    # distance_matrix = torch.sub(torch.tensor(1.0), product)\n",
    "    # return torch.sub(torch.tensor(1.0), product)\n",
    "    # return distance_matrix    \n",
    "    \n",
    "def pairwise_euclidean_distance(features: torch.Tensor ) -> torch.Tensor:\n",
    "    \"\"\"\n",
    "    Returns the pairwise Euclidean distance between two copies\n",
    "    of the features matrix.\n",
    "\n",
    "    Parameter\n",
    "    ---------\n",
    "    features: torch.Tensor\n",
    "        The input features.\n",
    "\n",
    "    Returns\n",
    "    -------\n",
    "    distance_matrix: torch.Tensor\n",
    "        The pairwise Euclidean distance matrix.\n",
    "\n",
    "    Example\n",
    "    -------\n",
    "    >>> import torch\n",
    "    >>> from snnl import SNNLoss\n",
    "    >>> _ = torch.manual_seed(42)\n",
    "    >>> a = torch.rand((4, 2))\n",
    "    >>> snnl = SNNLoss(temperature=1.0)\n",
    "    >>> snnl.pairwise_euclidean_distance(a)\n",
    "    tensor([[1.1921e-07, 7.4125e-02, 1.8179e-02, 1.0152e-01],\n",
    "            [7.4125e-02, 1.1921e-07, 1.9241e-02, 2.2473e-03],\n",
    "            [1.8179e-02, 1.9241e-02, 1.1921e-07, 3.4526e-02],\n",
    "            [1.0152e-01, 2.2473e-03, 3.4526e-02, 0.0000e+00]])\n",
    "    \"\"\"\n",
    "    \n",
    "    # distance_matrix = torch.Tensor(squareform(pdist(features)))\n",
    "    # a, b = features.clone(), features.clone()\n",
    "    # normalized_a = torch.nn.functional.normalize(a, dim=1, p=2)\n",
    "    # normalized_b = torch.nn.functional.normalize(b, dim=1, p=2)\n",
    "    # # normalized_b = torch.conj(normalized_b).T\n",
    "    # product = torch.matmul(normalized_a, normalized_b.T)\n",
    "    # distance_matrix = torch.sub(torch.tensor(1.0), product)\n",
    "    return torch.sqrt(((features[:, :, None] - features[:, :, None].T) ** 2).sum(1))\n",
    "\n"
   ]
  },
  {
   "cell_type": "code",
   "execution_count": 11,
   "id": "ee96091b-08e9-4561-8b05-341a23bda315",
   "metadata": {
    "execution": {
     "iopub.execute_input": "2024-05-10T10:22:03.992811Z",
     "iopub.status.busy": "2024-05-10T10:22:03.992514Z",
     "iopub.status.idle": "2024-05-10T10:22:04.031662Z",
     "shell.execute_reply": "2024-05-10T10:22:04.030980Z",
     "shell.execute_reply.started": "2024-05-10T10:22:03.992790Z"
    }
   },
   "outputs": [],
   "source": [
    "# def pairwise_euclid_distance(A, B):\n",
    "#     \"\"\"Pairwise Euclidean distance between two matrices.\n",
    "#     :param A: a matrix.\n",
    "#     :param B: a matrix.\n",
    "#     :returns: A tensor for the pairwise Euclidean between A and B.\n",
    "#     \"\"\"\n",
    "#     batchA = A.shape[0]\n",
    "#     batchB = B.shape[0]\n",
    "\n",
    "#     sqr_norm_A = torch.reshape(torch.pow(A, 2).sum(axis=1), [1, batchA])\n",
    "#     sqr_norm_B = torch.reshape(torch.pow(B, 2).sum(axis=1), [batchB, 1])\n",
    "#     inner_prod = torch.matmul(B, A.T)\n",
    "\n",
    "#     tile_1 = torch.tile(sqr_norm_A, [batchB, 1])\n",
    "#     tile_2 = torch.tile(sqr_norm_B, [1, batchA])\n",
    "#     # print(sqr_norm_A)\n",
    "#     # print(sqr_norm_B)\n",
    "#     # print('inner prod matmul(B, A.T)')\n",
    "#     # print(2*inner_prod)\n",
    "#     # print(f'tile_1 sqr_norm_A -> tile [{batchB},1]')\n",
    "#     # print(tile_1)\n",
    "#     # print(f'tile_2 sqr_norm_B -> tile [1, {batchA}]')\n",
    "#     # print(tile_2)\n",
    "#     # print(tile_1+tile_2 - 2*inner_prod)    \n",
    "\n",
    "#     return torch.sqrt(tile_1 + tile_2 - 2 * inner_prod)\n",
    "\n",
    "# def pairwise_cos_distance(A, B):\n",
    "    \n",
    "#     \"\"\"Pairwise cosine distance between two matrices.\n",
    "#     :param A: a matrix.\n",
    "#     :param B: a matrix.\n",
    "#     :returns: A tensor for the pairwise cosine between A and B.\n",
    "#     \"\"\"\n",
    "#     normalized_A = torch.nn.functional.normalize(A, dim=1)\n",
    "#     normalized_B = torch.nn.functional.normalize(B, dim=1)\n",
    "#     prod = torch.matmul(normalized_A, normalized_B.transpose(-2, -1).conj())\n",
    "#     return 1 - prod\n"
   ]
  },
  {
   "cell_type": "code",
   "execution_count": 36,
   "id": "8d893a23-efc9-4d3e-a7a4-562405828125",
   "metadata": {
    "execution": {
     "iopub.execute_input": "2024-05-10T10:55:15.309153Z",
     "iopub.status.busy": "2024-05-10T10:55:15.308648Z",
     "iopub.status.idle": "2024-05-10T10:55:15.483832Z",
     "shell.execute_reply": "2024-05-10T10:55:15.483156Z",
     "shell.execute_reply.started": "2024-05-10T10:55:15.309111Z"
    }
   },
   "outputs": [
    {
     "name": "stdout",
     "output_type": "stream",
     "text": [
      "\n",
      "------------------------------------------------------------\n",
      " Build SNNLoss from NOTEBOOK\n",
      "------------------------------------------------------------\n",
      "    SNNLoss _init()_    -- mode: classifier was found in SNNLoss._supported_modes --   is unsupervised: True\n",
      "    SNNLoss _init()_    -- unsupervised :     True\n",
      "    SNNLoss _init()_    -- use_annealing :    False\n",
      "    SNNLoss _init()_    -- sample_size :      0\n",
      "    SNNLoss _init()_    -- temperature :      None\n"
     ]
    }
   ],
   "source": [
    "snnl = SNNLoss(sample_size = 0)"
   ]
  },
  {
   "cell_type": "code",
   "execution_count": 20,
   "id": "94fa2783-a6d1-4ccd-aa6e-bebed22d35ed",
   "metadata": {
    "execution": {
     "iopub.execute_input": "2024-05-10T10:23:55.941886Z",
     "iopub.status.busy": "2024-05-10T10:23:55.941165Z",
     "iopub.status.idle": "2024-05-10T10:23:55.996680Z",
     "shell.execute_reply": "2024-05-10T10:23:55.996105Z",
     "shell.execute_reply.started": "2024-05-10T10:23:55.941825Z"
    }
   },
   "outputs": [
    {
     "name": "stdout",
     "output_type": "stream",
     "text": [
      "\n",
      " a , b\n"
     ]
    },
    {
     "data": {
      "text/plain": [
       "tensor([[0.8823, 0.9150, 0.3829,  ..., 0.5472, 0.4700, 0.0297],\n",
       "        [0.7294, 0.2729, 0.2407,  ..., 0.7834, 0.1775, 0.4530],\n",
       "        [0.3940, 0.1965, 0.7266,  ..., 0.8451, 0.0134, 0.5785],\n",
       "        [0.8849, 0.8748, 0.6706,  ..., 0.4163, 0.2399, 0.2896]])"
      ]
     },
     "execution_count": 20,
     "metadata": {},
     "output_type": "execute_result"
    },
    {
     "data": {
      "text/plain": [
       "tensor([[0.9967, 0.5843, 0.2266,  ..., 0.7307, 0.3416, 0.5247],\n",
       "        [0.8448, 0.1419, 0.7191,  ..., 0.0367, 0.0820, 0.0012],\n",
       "        [0.2120, 0.3880, 0.9504,  ..., 0.1129, 0.7811, 0.8188],\n",
       "        [0.3490, 0.4533, 0.4759,  ..., 0.5072, 0.3100, 0.3601]])"
      ]
     },
     "execution_count": 20,
     "metadata": {},
     "output_type": "execute_result"
    },
    {
     "name": "stdout",
     "output_type": "stream",
     "text": [
      "\n",
      "T1 - shape torch.Size([4, 1000])\n"
     ]
    },
    {
     "data": {
      "text/plain": [
       "tensor([[0.4309, 0.3986, 0.1907,  ..., 0.4617, 0.2895, 0.5978],\n",
       "        [0.4206, 0.6685, 0.5092,  ..., 0.2181, 0.9120, 0.4111],\n",
       "        [0.7707, 0.0845, 0.1995,  ..., 0.0016, 0.7209, 0.9017],\n",
       "        [0.7994, 0.8247, 0.0984,  ..., 0.8014, 0.2417, 0.7240]], device='cuda:0')"
      ]
     },
     "execution_count": 20,
     "metadata": {},
     "output_type": "execute_result"
    }
   ],
   "source": [
    "_ = torch.manual_seed(42)\n",
    "\n",
    "Num_samples = 4\n",
    "dim = 1000\n",
    "a = torch.rand(Num_samples, dim)\n",
    "b = torch.rand(Num_samples, dim)\n",
    "print('\\n a , b')\n",
    "a\n",
    "b\n",
    "T1 = torch.rand((Num_samples, dim)).to(current_device)\n",
    "print(f'\\nT1 - shape {T1.shape}')\n",
    "T1\n",
    "a1 = torch.Tensor([[0.1, 0.2],\n",
    "                  [0.3, 0.4]])\n",
    "a11 =  torch.Tensor([0.1, 0.2])\n",
    "a12 =  torch.Tensor([0.3, 0.4])"
   ]
  },
  {
   "cell_type": "code",
   "execution_count": 44,
   "id": "4ecc11ef-499b-44ac-bc6a-a9c2b4a1d4c3",
   "metadata": {
    "execution": {
     "iopub.execute_input": "2024-05-10T10:58:04.133907Z",
     "iopub.status.busy": "2024-05-10T10:58:04.133300Z",
     "iopub.status.idle": "2024-05-10T10:58:20.225952Z",
     "shell.execute_reply": "2024-05-10T10:58:20.224284Z",
     "shell.execute_reply.started": "2024-05-10T10:58:04.133839Z"
    }
   },
   "outputs": [
    {
     "name": "stdout",
     "output_type": "stream",
     "text": [
      "199 µs ± 18.1 µs per loop (mean ± std. dev. of 7 runs, 10,000 loops each)\n"
     ]
    }
   ],
   "source": [
    "%%timeit\n",
    "## implementation 1\n",
    "v0_cos_distance = snnl.pairwise_cosine_distance(T1)"
   ]
  },
  {
   "cell_type": "code",
   "execution_count": 45,
   "id": "715ebe53-cc8d-4e42-8bb4-b96e9f070995",
   "metadata": {
    "execution": {
     "iopub.execute_input": "2024-05-10T10:58:20.229679Z",
     "iopub.status.busy": "2024-05-10T10:58:20.229197Z",
     "iopub.status.idle": "2024-05-10T10:58:22.232084Z",
     "shell.execute_reply": "2024-05-10T10:58:22.231319Z",
     "shell.execute_reply.started": "2024-05-10T10:58:20.229637Z"
    }
   },
   "outputs": [
    {
     "name": "stdout",
     "output_type": "stream",
     "text": [
      "242 µs ± 13.6 µs per loop (mean ± std. dev. of 7 runs, 1,000 loops each)\n"
     ]
    }
   ],
   "source": [
    "%%timeit\n",
    "## implementation 1\n",
    "v1_cos_distance = pairwise_cosine_distance(T1)"
   ]
  },
  {
   "cell_type": "code",
   "execution_count": 46,
   "id": "704a30e5-271d-4a7b-9054-9d0cfa68616b",
   "metadata": {
    "execution": {
     "iopub.execute_input": "2024-05-10T10:58:22.233465Z",
     "iopub.status.busy": "2024-05-10T10:58:22.233246Z",
     "iopub.status.idle": "2024-05-10T10:58:25.318772Z",
     "shell.execute_reply": "2024-05-10T10:58:25.317972Z",
     "shell.execute_reply.started": "2024-05-10T10:58:22.233443Z"
    }
   },
   "outputs": [
    {
     "name": "stdout",
     "output_type": "stream",
     "text": [
      "377 µs ± 14.9 µs per loop (mean ± std. dev. of 7 runs, 1,000 loops each)\n"
     ]
    }
   ],
   "source": [
    "%%timeit\n",
    "## implementation 2\n",
    "v2_cos_distance = pairwise_cos_distance(T1,T1)"
   ]
  },
  {
   "cell_type": "code",
   "execution_count": 47,
   "id": "a5477872-2ddf-486f-a230-5fada606ea47",
   "metadata": {
    "execution": {
     "iopub.execute_input": "2024-05-10T10:58:25.320811Z",
     "iopub.status.busy": "2024-05-10T10:58:25.320559Z",
     "iopub.status.idle": "2024-05-10T10:58:38.032640Z",
     "shell.execute_reply": "2024-05-10T10:58:38.031644Z",
     "shell.execute_reply.started": "2024-05-10T10:58:25.320787Z"
    }
   },
   "outputs": [
    {
     "name": "stdout",
     "output_type": "stream",
     "text": [
      "156 µs ± 278 ns per loop (mean ± std. dev. of 7 runs, 10,000 loops each)\n"
     ]
    }
   ],
   "source": [
    "%%timeit\n",
    "## scipy\n",
    "v3_cos_distance = torch.Tensor(squareform(pdist(T1.cpu(), \"cosine\"))).to(current_device)"
   ]
  },
  {
   "cell_type": "code",
   "execution_count": 39,
   "id": "54fc5fff-bc0a-469e-a243-452ce618b776",
   "metadata": {
    "execution": {
     "iopub.execute_input": "2024-05-10T10:56:47.118093Z",
     "iopub.status.busy": "2024-05-10T10:56:47.117688Z",
     "iopub.status.idle": "2024-05-10T10:56:47.193010Z",
     "shell.execute_reply": "2024-05-10T10:56:47.192106Z",
     "shell.execute_reply.started": "2024-05-10T10:56:47.118055Z"
    }
   },
   "outputs": [
    {
     "data": {
      "text/plain": [
       "tensor([[ 5.9605e-08,  2.4492e-01,  2.5560e-01,  2.4614e-01],\n",
       "        [ 2.4492e-01, -1.1921e-07,  2.6654e-01,  2.5026e-01],\n",
       "        [ 2.5560e-01,  2.6654e-01,  0.0000e+00,  2.4393e-01],\n",
       "        [ 2.4614e-01,  2.5026e-01,  2.4393e-01, -1.1921e-07]], device='cuda:0')"
      ]
     },
     "execution_count": 39,
     "metadata": {},
     "output_type": "execute_result"
    },
    {
     "data": {
      "text/plain": [
       "tensor([[ 5.9605e-08,  2.4492e-01,  2.5560e-01,  2.4614e-01],\n",
       "        [ 2.4492e-01, -1.1921e-07,  2.6654e-01,  2.5026e-01],\n",
       "        [ 2.5560e-01,  2.6654e-01,  0.0000e+00,  2.4393e-01],\n",
       "        [ 2.4614e-01,  2.5026e-01,  2.4393e-01, -1.1921e-07]], device='cuda:0')"
      ]
     },
     "execution_count": 39,
     "metadata": {},
     "output_type": "execute_result"
    },
    {
     "data": {
      "text/plain": [
       "tensor([[ 5.9605e-08,  2.4492e-01,  2.5560e-01,  2.4614e-01],\n",
       "        [ 2.4492e-01, -1.1921e-07,  2.6654e-01,  2.5026e-01],\n",
       "        [ 2.5560e-01,  2.6654e-01,  0.0000e+00,  2.4393e-01],\n",
       "        [ 2.4614e-01,  2.5026e-01,  2.4393e-01, -1.1921e-07]], device='cuda:0')"
      ]
     },
     "execution_count": 39,
     "metadata": {},
     "output_type": "execute_result"
    },
    {
     "data": {
      "text/plain": [
       "tensor([[0.0000, 0.2449, 0.2556, 0.2461],\n",
       "        [0.2449, 0.0000, 0.2665, 0.2503],\n",
       "        [0.2556, 0.2665, 0.0000, 0.2439],\n",
       "        [0.2461, 0.2503, 0.2439, 0.0000]], device='cuda:0')"
      ]
     },
     "execution_count": 39,
     "metadata": {},
     "output_type": "execute_result"
    }
   ],
   "source": [
    "v0_cos_distance = snnl.pairwise_cosine_distance(T1)\n",
    "v1_cos_distance = pairwise_cosine_distance(T1)\n",
    "v2_cos_distance = pairwise_cos_distance(T1,T1)\n",
    "v3_cos_distance = torch.Tensor(squareform(pdist(T1.cpu(), \"cosine\"))).to(current_device)\n",
    "v0_cos_distance\n",
    "v1_cos_distance\n",
    "v2_cos_distance\n",
    "v3_cos_distance"
   ]
  },
  {
   "cell_type": "code",
   "execution_count": 50,
   "id": "683ad744-9e4b-4b63-9036-ad794a993781",
   "metadata": {
    "execution": {
     "iopub.execute_input": "2024-05-10T10:59:45.501394Z",
     "iopub.status.busy": "2024-05-10T10:59:45.500876Z",
     "iopub.status.idle": "2024-05-10T10:59:57.632660Z",
     "shell.execute_reply": "2024-05-10T10:59:57.631618Z",
     "shell.execute_reply.started": "2024-05-10T10:59:45.501349Z"
    }
   },
   "outputs": [
    {
     "name": "stdout",
     "output_type": "stream",
     "text": [
      "143 µs ± 16.8 µs per loop (mean ± std. dev. of 7 runs, 10,000 loops each)\n"
     ]
    }
   ],
   "source": [
    "%%timeit\n",
    "v0_euc_distance = snnl.pairwise_euclidean_distance(T1)"
   ]
  },
  {
   "cell_type": "code",
   "execution_count": 54,
   "id": "c2eca7ce-3267-4bb0-bfe4-0f26413c1f3d",
   "metadata": {
    "execution": {
     "iopub.execute_input": "2024-05-10T11:00:08.888189Z",
     "iopub.status.busy": "2024-05-10T11:00:08.887648Z",
     "iopub.status.idle": "2024-05-10T11:00:19.943838Z",
     "shell.execute_reply": "2024-05-10T11:00:19.942634Z",
     "shell.execute_reply.started": "2024-05-10T11:00:08.888147Z"
    }
   },
   "outputs": [
    {
     "name": "stdout",
     "output_type": "stream",
     "text": [
      "136 µs ± 1.1 µs per loop (mean ± std. dev. of 7 runs, 10,000 loops each)\n"
     ]
    }
   ],
   "source": [
    "%%timeit\n",
    "v1_euc_distance = pairwise_euclidean_distance(T1)"
   ]
  },
  {
   "cell_type": "code",
   "execution_count": 55,
   "id": "52528d94-c6e1-4e5c-aa6a-7dcdc89c3426",
   "metadata": {
    "execution": {
     "iopub.execute_input": "2024-05-10T11:00:19.946337Z",
     "iopub.status.busy": "2024-05-10T11:00:19.946061Z",
     "iopub.status.idle": "2024-05-10T11:00:22.897282Z",
     "shell.execute_reply": "2024-05-10T11:00:22.896392Z",
     "shell.execute_reply.started": "2024-05-10T11:00:19.946315Z"
    }
   },
   "outputs": [
    {
     "name": "stdout",
     "output_type": "stream",
     "text": [
      "352 µs ± 1.7 µs per loop (mean ± std. dev. of 7 runs, 1,000 loops each)\n"
     ]
    }
   ],
   "source": [
    "%%timeit\n",
    "v2_euc_distance = pairwise_euclid_distance(T1,T1)"
   ]
  },
  {
   "cell_type": "code",
   "execution_count": 56,
   "id": "2ce943b8-1cc0-49d7-81d3-537790b36887",
   "metadata": {
    "execution": {
     "iopub.execute_input": "2024-05-10T11:00:22.898945Z",
     "iopub.status.busy": "2024-05-10T11:00:22.898661Z",
     "iopub.status.idle": "2024-05-10T11:00:33.231420Z",
     "shell.execute_reply": "2024-05-10T11:00:33.230631Z",
     "shell.execute_reply.started": "2024-05-10T11:00:22.898924Z"
    }
   },
   "outputs": [
    {
     "name": "stdout",
     "output_type": "stream",
     "text": [
      "127 µs ± 1.02 µs per loop (mean ± std. dev. of 7 runs, 10,000 loops each)\n"
     ]
    }
   ],
   "source": [
    "%%timeit\n",
    "v3_euc_distance= torch.Tensor(squareform(pdist(T1.cpu()) )).to(current_device)"
   ]
  },
  {
   "cell_type": "code",
   "execution_count": 57,
   "id": "21b2ea2f-1609-49bb-942e-053e498fc665",
   "metadata": {
    "execution": {
     "iopub.execute_input": "2024-05-10T11:00:46.101069Z",
     "iopub.status.busy": "2024-05-10T11:00:46.100550Z",
     "iopub.status.idle": "2024-05-10T11:00:46.162981Z",
     "shell.execute_reply": "2024-05-10T11:00:46.162182Z",
     "shell.execute_reply.started": "2024-05-10T11:00:46.101026Z"
    }
   },
   "outputs": [
    {
     "data": {
      "text/plain": [
       "tensor([[ 0.0000, 12.9118, 12.9395, 12.8177],\n",
       "        [12.9118,  0.0000, 13.2907, 12.9952],\n",
       "        [12.9395, 13.2907,  0.0000, 12.5772],\n",
       "        [12.8177, 12.9952, 12.5772,  0.0000]], device='cuda:0')"
      ]
     },
     "execution_count": 57,
     "metadata": {},
     "output_type": "execute_result"
    },
    {
     "data": {
      "text/plain": [
       "tensor([[ 0.0000, 12.9118, 12.9395, 12.8177],\n",
       "        [12.9118,  0.0000, 13.2907, 12.9952],\n",
       "        [12.9395, 13.2907,  0.0000, 12.5772],\n",
       "        [12.8177, 12.9952, 12.5772,  0.0000]], device='cuda:0')"
      ]
     },
     "execution_count": 57,
     "metadata": {},
     "output_type": "execute_result"
    },
    {
     "data": {
      "text/plain": [
       "tensor([[    nan, 12.9118, 12.9395, 12.8177],\n",
       "        [12.9118,  0.0000, 13.2906, 12.9952],\n",
       "        [12.9395, 13.2906,  0.0000, 12.5772],\n",
       "        [12.8177, 12.9952, 12.5772,  0.0000]], device='cuda:0')"
      ]
     },
     "execution_count": 57,
     "metadata": {},
     "output_type": "execute_result"
    },
    {
     "data": {
      "text/plain": [
       "tensor([[ 0.0000, 12.9118, 12.9395, 12.8177],\n",
       "        [12.9118,  0.0000, 13.2907, 12.9952],\n",
       "        [12.9395, 13.2907,  0.0000, 12.5772],\n",
       "        [12.8177, 12.9952, 12.5772,  0.0000]], device='cuda:0')"
      ]
     },
     "execution_count": 57,
     "metadata": {},
     "output_type": "execute_result"
    }
   ],
   "source": [
    "v0_euc_distance = snnl.pairwise_euclidean_distance(T1)\n",
    "v1_euc_distance = pairwise_euclidean_distance(T1)\n",
    "v2_euc_distance = pairwise_euclid_distance(T1,T1)\n",
    "v3_euc_distance= torch.Tensor(squareform(pdist(T1.cpu()))).to(current_device)\n",
    "v0_euc_distance\n",
    "v1_euc_distance\n",
    "v2_euc_distance\n",
    "v3_euc_distance"
   ]
  },
  {
   "cell_type": "markdown",
   "id": "e335ac51-07be-4b8f-9a07-29728e1a2341",
   "metadata": {},
   "source": [
    " #### https://stackoverflow.com/questions/1401712/how-can-the-euclidean-distance-be-calculated-with-numpy"
   ]
  },
  {
   "cell_type": "code",
   "execution_count": 30,
   "id": "88699295-d9f6-4a2c-9875-677e64fe650d",
   "metadata": {
    "execution": {
     "iopub.execute_input": "2024-05-10T10:44:51.091604Z",
     "iopub.status.busy": "2024-05-10T10:44:51.091104Z",
     "iopub.status.idle": "2024-05-10T10:46:39.553122Z",
     "shell.execute_reply": "2024-05-10T10:46:39.552411Z",
     "shell.execute_reply.started": "2024-05-10T10:44:51.091561Z"
    }
   },
   "outputs": [
    {
     "data": {
      "text/html": [
       "<pre style=\"white-space:pre;overflow-x:auto;line-height:normal;font-family:Menlo,'DejaVu Sans Mono',consolas,'Courier New',monospace\"></pre>\n"
      ],
      "text/plain": []
     },
     "metadata": {},
     "output_type": "display_data"
    },
    {
     "data": {
      "text/html": [
       "<pre style=\"white-space:pre;overflow-x:auto;line-height:normal;font-family:Menlo,'DejaVu Sans Mono',consolas,'Courier New',monospace\">\n",
       "</pre>\n"
      ],
      "text/plain": [
       "\n"
      ]
     },
     "metadata": {},
     "output_type": "display_data"
    }
   ],
   "source": [
    "import numpy\n",
    "import perfplot\n",
    "from scipy.spatial import distance\n",
    "\n",
    "\n",
    "def linalg_norm(data0,data1):\n",
    "    a, b = data0\n",
    "    return numpy.linalg.norm(a - b, axis=1)\n",
    "\n",
    "\n",
    "def linalg_norm_T(data0,data1):\n",
    "    a, b = data1\n",
    "    return numpy.linalg.norm(a - b, axis=0)\n",
    "\n",
    "\n",
    "def sqrt_sum(data0,data1):\n",
    "    a, b = data0\n",
    "    return numpy.sqrt(numpy.sum((a - b) ** 2, axis=1))\n",
    "\n",
    "\n",
    "def sqrt_sum_T(data0,data1):\n",
    "    a, b = data1\n",
    "    return numpy.sqrt(numpy.sum((a - b) ** 2, axis=0))\n",
    "\n",
    "\n",
    "def scipy_distance(data0,data1):\n",
    "    a, b = data0\n",
    "    return list(map(distance.euclidean, a, b))\n",
    "\n",
    "\n",
    "def sqrt_einsum(data0,data1):\n",
    "    a, b = data0\n",
    "    a_min_b = a - b\n",
    "    return numpy.sqrt(numpy.einsum(\"ij,ij->i\", a_min_b, a_min_b))\n",
    "\n",
    "\n",
    "def sqrt_einsum_T(data0,data1):\n",
    "    a, b = data1\n",
    "    a_min_b = a - b\n",
    "    return numpy.sqrt(numpy.einsum(\"ij,ij->j\", a_min_b, a_min_b))\n",
    "\n",
    "\n",
    "def setup(n):\n",
    "    a = numpy.random.rand(n, 3)\n",
    "    b = numpy.random.rand(n, 3)\n",
    "    out0 = numpy.array([a, b])\n",
    "    out1 = numpy.array([a.T, b.T])\n",
    "    return (out0, out1)\n",
    "\n",
    "\n",
    "b = perfplot.bench(\n",
    "    setup=setup,\n",
    "    n_range=[2 ** k for k in range(22)],\n",
    "    kernels=[\n",
    "        linalg_norm,\n",
    "        linalg_norm_T,\n",
    "        scipy_distance,\n",
    "        sqrt_sum,\n",
    "        sqrt_sum_T,\n",
    "        sqrt_einsum,\n",
    "        sqrt_einsum_T,\n",
    "    ],\n",
    "    xlabel=\"len(x), len(y)\",\n",
    ")\n",
    "b.save(\"norm.png\")"
   ]
  },
  {
   "cell_type": "code",
   "execution_count": 33,
   "id": "b654be74-a522-4577-8435-590ea5ba892c",
   "metadata": {
    "execution": {
     "iopub.execute_input": "2024-05-10T10:49:07.559188Z",
     "iopub.status.busy": "2024-05-10T10:49:07.558641Z",
     "iopub.status.idle": "2024-05-10T10:49:07.607106Z",
     "shell.execute_reply": "2024-05-10T10:49:07.606481Z",
     "shell.execute_reply.started": "2024-05-10T10:49:07.559144Z"
    }
   },
   "outputs": [
    {
     "data": {
      "image/png": "[encoded data removed]",
      "text/plain": [
       "<IPython.core.display.Image object>"
      ]
     },
     "execution_count": 33,
     "metadata": {},
     "output_type": "execute_result"
    }
   ],
   "source": [
    "Image(\"norm.png\")"
   ]
  },
  {
   "cell_type": "code",
   "execution_count": null,
   "id": "31091eaa-fa31-4a69-b051-ceda558edb62",
   "metadata": {},
   "outputs": [],
   "source": []
  },
  {
   "cell_type": "code",
   "execution_count": null,
   "id": "68ff2f33-3e05-4f8c-9b26-98a1157ea560",
   "metadata": {},
   "outputs": [],
   "source": []
  },
  {
   "cell_type": "code",
   "execution_count": null,
   "id": "da511078-8224-4d87-80be-cfd2da052278",
   "metadata": {},
   "outputs": [],
   "source": []
  },
  {
   "cell_type": "code",
   "execution_count": null,
   "id": "eb06e942-ec8e-4bf1-9004-74955816fdde",
   "metadata": {},
   "outputs": [],
   "source": []
  },
  {
   "cell_type": "code",
   "execution_count": null,
   "id": "f68c120e-ab21-4a67-b99b-2e930b747d90",
   "metadata": {},
   "outputs": [],
   "source": []
  },
  {
   "cell_type": "markdown",
   "id": "55d61448-a267-488c-a1c4-f78b884f544c",
   "metadata": {
    "jp-MarkdownHeadingCollapsed": true
   },
   "source": [
    "# Display model before / after values"
   ]
  },
  {
   "cell_type": "markdown",
   "id": "b97ed7c7-7c75-4876-a3c1-4575809cdc3f",
   "metadata": {
    "jp-MarkdownHeadingCollapsed": true
   },
   "source": [
    "#### parms before"
   ]
  },
  {
   "cell_type": "code",
   "execution_count": 68,
   "id": "f4cf2d57-4b99-4c0b-8a39-d19b17db8526",
   "metadata": {
    "execution": {
     "iopub.execute_input": "2024-05-09T09:14:41.356501Z",
     "iopub.status.busy": "2024-05-09T09:14:41.355933Z",
     "iopub.status.idle": "2024-05-09T09:14:41.400675Z",
     "shell.execute_reply": "2024-05-09T09:14:41.400085Z",
     "shell.execute_reply.started": "2024-05-09T09:14:41.356459Z"
    }
   },
   "outputs": [
    {
     "name": "stdout",
     "output_type": "stream",
     "text": [
      "\n",
      " model device        : cuda:0\n",
      " model temperature   : Parameter containing:\n",
      "tensor([50.], device='cuda:0', requires_grad=True)\n",
      " model l             : Parameter containing:\n",
      "tensor([50.], device='cuda:0', requires_grad=True)\n",
      " loss_factor         : 2.0\n",
      " monitor_grads_layer : None\n",
      " Learning rate       : 0.0001\n",
      " snnl_factor         : 1.0\n",
      " temperature         : 50.0\n",
      " Temperature LR      : 0.01\n"
     ]
    }
   ],
   "source": [
    "print()\n",
    "print(f\" model device        : {model.device}\")\n",
    "print(f\" model temperature   : {model.temperature}\")\n",
    "print(f\" model l             : {model.temperature}\")\n",
    "print(f\" loss_factor         : {model.loss_factor}\")\n",
    "print(f\" monitor_grads_layer : {model.monitor_grads_layer}\")\n",
    "print(f\" Learning rate       : {model.optimizer.param_groups[0]['lr']}\") \n",
    "print(f\" snnl_factor         : {model.snnl_factor}\")\n",
    "print(f\" temperature         : {model.temperature.item()}\")\n",
    "print(f\" Temperature LR      : {model.temp_optimizer.param_groups[0]['lr']}\") \n"
   ]
  },
  {
   "cell_type": "markdown",
   "id": "f5144e70-2168-4ac2-b49d-99ff14f2afe6",
   "metadata": {
    "jp-MarkdownHeadingCollapsed": true
   },
   "source": [
    "#### scheudler before"
   ]
  },
  {
   "cell_type": "code",
   "execution_count": 56,
   "id": "cda47cfb-ca73-4c17-b998-17ecb7de74e3",
   "metadata": {
    "execution": {
     "iopub.execute_input": "2024-05-09T09:11:06.404213Z",
     "iopub.status.busy": "2024-05-09T09:11:06.403155Z",
     "iopub.status.idle": "2024-05-09T09:11:06.458290Z",
     "shell.execute_reply": "2024-05-09T09:11:06.457395Z",
     "shell.execute_reply.started": "2024-05-09T09:11:06.404168Z"
    }
   },
   "outputs": [
    {
     "ename": "AttributeError",
     "evalue": "'NoneType' object has no attribute '__dict__'",
     "output_type": "error",
     "traceback": [
      "\u001b[0;31m---------------------------------------------------------------------------\u001b[0m",
      "\u001b[0;31mAttributeError\u001b[0m                            Traceback (most recent call last)",
      "Cell \u001b[0;32mIn[56], line 1\u001b[0m\n\u001b[0;32m----> 1\u001b[0m \u001b[43mmodel\u001b[49m\u001b[38;5;241;43m.\u001b[39;49m\u001b[43mscheduler\u001b[49m\u001b[38;5;241;43m.\u001b[39;49m\u001b[38;5;18;43m__dict__\u001b[39;49m\n",
      "\u001b[0;31mAttributeError\u001b[0m: 'NoneType' object has no attribute '__dict__'"
     ]
    }
   ],
   "source": [
    "model.scheduler.__dict__"
   ]
  },
  {
   "cell_type": "markdown",
   "id": "fb89482b-0d63-4e61-9419-96c371302cde",
   "metadata": {},
   "source": [
    "#### temp_scheudler before"
   ]
  },
  {
   "cell_type": "code",
   "execution_count": 57,
   "id": "0b701269-2f80-49e8-8d5f-0b4191cbb6b5",
   "metadata": {
    "execution": {
     "iopub.execute_input": "2024-05-09T09:11:07.252005Z",
     "iopub.status.busy": "2024-05-09T09:11:07.251489Z",
     "iopub.status.idle": "2024-05-09T09:11:07.307185Z",
     "shell.execute_reply": "2024-05-09T09:11:07.306433Z",
     "shell.execute_reply.started": "2024-05-09T09:11:07.251962Z"
    }
   },
   "outputs": [
    {
     "ename": "AttributeError",
     "evalue": "'NoneType' object has no attribute '__dict__'",
     "output_type": "error",
     "traceback": [
      "\u001b[0;31m---------------------------------------------------------------------------\u001b[0m",
      "\u001b[0;31mAttributeError\u001b[0m                            Traceback (most recent call last)",
      "Cell \u001b[0;32mIn[57], line 1\u001b[0m\n\u001b[0;32m----> 1\u001b[0m \u001b[43mmodel\u001b[49m\u001b[38;5;241;43m.\u001b[39;49m\u001b[43mtemp_scheduler\u001b[49m\u001b[38;5;241;43m.\u001b[39;49m\u001b[38;5;18;43m__dict__\u001b[39;49m\n",
      "\u001b[0;31mAttributeError\u001b[0m: 'NoneType' object has no attribute '__dict__'"
     ]
    }
   ],
   "source": [
    "model.temp_scheduler.__dict__"
   ]
  },
  {
   "cell_type": "markdown",
   "id": "07e4f124-eca7-4847-a96a-85becd9e524c",
   "metadata": {
    "jp-MarkdownHeadingCollapsed": true
   },
   "source": [
    "#### parms After"
   ]
  },
  {
   "cell_type": "code",
   "execution_count": 74,
   "id": "158fb598-9a13-4b7b-99f6-87cd8b9a8fca",
   "metadata": {
    "execution": {
     "iopub.execute_input": "2024-05-09T09:22:38.415977Z",
     "iopub.status.busy": "2024-05-09T09:22:38.415477Z",
     "iopub.status.idle": "2024-05-09T09:22:38.456853Z",
     "shell.execute_reply": "2024-05-09T09:22:38.456221Z",
     "shell.execute_reply.started": "2024-05-09T09:22:38.415934Z"
    }
   },
   "outputs": [
    {
     "name": "stdout",
     "output_type": "stream",
     "text": [
      "\n",
      " model device        : cuda:0\n",
      " model temperature   : Parameter containing:\n",
      "tensor([50.], device='cuda:0', requires_grad=True)\n",
      " model l             : Parameter containing:\n",
      "tensor([50.], device='cuda:0', requires_grad=True)\n",
      " loss_factor         : 2.0\n",
      " monitor_grads_layer : None\n",
      " Learning rate       : 1.5625e-05\n",
      " snnl_factor         : 0.5\n",
      " temperature         : 50.0\n",
      " Temperature LR      : 0.0005\n"
     ]
    }
   ],
   "source": [
    "print()\n",
    "print(f\" model device        : {model.device}\")\n",
    "print(f\" model temperature   : {model.temperature}\")\n",
    "print(f\" model l             : {model.temperature}\")\n",
    "print(f\" loss_factor         : {model.loss_factor}\")\n",
    "print(f\" monitor_grads_layer : {model.monitor_grads_layer}\")\n",
    "print(f\" Learning rate       : {model.optimizer.param_groups[0]['lr']}\") \n",
    "print(f\" snnl_factor         : {model.snnl_factor}\")\n",
    "print(f\" temperature         : {model.temperature.item()}\")\n",
    "print(f\" Temperature LR      : {model.temp_optimizer.param_groups[0]['lr']}\") \n"
   ]
  },
  {
   "cell_type": "markdown",
   "id": "3fbd0031-aa45-450f-b975-c3bd5432afda",
   "metadata": {
    "jp-MarkdownHeadingCollapsed": true
   },
   "source": [
    "#### scheduler after"
   ]
  },
  {
   "cell_type": "code",
   "execution_count": 75,
   "id": "05f5527a-c3de-4c09-8497-555c9ef1bb01",
   "metadata": {
    "execution": {
     "iopub.execute_input": "2024-05-09T09:23:00.408571Z",
     "iopub.status.busy": "2024-05-09T09:23:00.408071Z",
     "iopub.status.idle": "2024-05-09T09:23:00.452738Z",
     "shell.execute_reply": "2024-05-09T09:23:00.452124Z",
     "shell.execute_reply.started": "2024-05-09T09:23:00.408528Z"
    }
   },
   "outputs": [
    {
     "data": {
      "text/plain": [
       "{'factor': 0.5,\n",
       " 'optimizer': Adam (\n",
       " Parameter Group 0\n",
       "     amsgrad: False\n",
       "     betas: (0.9, 0.999)\n",
       "     capturable: False\n",
       "     differentiable: False\n",
       "     eps: 1e-08\n",
       "     foreach: None\n",
       "     fused: None\n",
       "     lr: 1.5625e-05\n",
       "     maximize: False\n",
       "     weight_decay: 0\n",
       " ),\n",
       " 'min_lrs': [0],\n",
       " 'patience': 15,\n",
       " 'verbose': True,\n",
       " 'cooldown': 10,\n",
       " 'cooldown_counter': 0,\n",
       " 'mode': 'min',\n",
       " 'threshold': 1e-05,\n",
       " 'threshold_mode': 'rel',\n",
       " 'best': 0.5949512794613838,\n",
       " 'num_bad_epochs': 14,\n",
       " 'mode_worse': inf,\n",
       " 'eps': 1e-08,\n",
       " 'last_epoch': 350,\n",
       " '_last_lr': [1.5625e-05]}"
      ]
     },
     "execution_count": 75,
     "metadata": {},
     "output_type": "execute_result"
    }
   ],
   "source": [
    "model.scheduler.__dict__"
   ]
  },
  {
   "cell_type": "markdown",
   "id": "d23a56c0-d970-4ded-b28b-1f6d64ed3616",
   "metadata": {
    "jp-MarkdownHeadingCollapsed": true
   },
   "source": [
    "#### temp_scheduler after"
   ]
  },
  {
   "cell_type": "markdown",
   "id": "c15c188d-40e3-4d85-a297-7832b3d05a80",
   "metadata": {},
   "source": [
    "#### optimizer before"
   ]
  },
  {
   "cell_type": "code",
   "execution_count": 92,
   "id": "316cf892-750c-4a7c-87cc-b558f34b710a",
   "metadata": {
    "execution": {
     "iopub.execute_input": "2024-05-09T09:25:58.356440Z",
     "iopub.status.busy": "2024-05-09T09:25:58.355942Z",
     "iopub.status.idle": "2024-05-09T09:25:58.425362Z",
     "shell.execute_reply": "2024-05-09T09:25:58.424653Z",
     "shell.execute_reply.started": "2024-05-09T09:25:58.356397Z"
    }
   },
   "outputs": [
    {
     "name": "stdout",
     "output_type": "stream",
     "text": [
      "\n"
     ]
    },
    {
     "data": {
      "text/plain": [
       "{'defaults': {'lr': 0.0001,\n",
       "  'betas': (0.9, 0.999),\n",
       "  'eps': 1e-08,\n",
       "  'weight_decay': 0,\n",
       "  'amsgrad': False,\n",
       "  'maximize': False,\n",
       "  'foreach': None,\n",
       "  'capturable': False,\n",
       "  'differentiable': False,\n",
       "  'fused': None},\n",
       " '_optimizer_step_pre_hooks': OrderedDict(),\n",
       " '_optimizer_step_post_hooks': OrderedDict(),\n",
       " '_optimizer_state_dict_pre_hooks': OrderedDict(),\n",
       " '_optimizer_state_dict_post_hooks': OrderedDict(),\n",
       " '_optimizer_load_state_dict_pre_hooks': OrderedDict(),\n",
       " '_optimizer_load_state_dict_post_hooks': OrderedDict(),\n",
       " '_zero_grad_profile_name': 'Optimizer.zero_grad#Adam.zero_grad',\n",
       " 'state': defaultdict(dict, {}),\n",
       " 'param_groups': [{'params': [Parameter containing:\n",
       "    tensor([[ 0.0215,  0.0341,  0.0676,  ..., -0.0503,  0.0247, -0.0389],\n",
       "            [ 0.0672, -0.0351, -0.0027,  ...,  0.0202,  0.0175, -0.0390],\n",
       "            [ 0.0114, -0.0345,  0.0345,  ...,  0.0355,  0.0023, -0.0213],\n",
       "            ...,\n",
       "            [-0.0111,  0.0012, -0.0110,  ..., -0.0487, -0.0179,  0.0457],\n",
       "            [-0.0305, -0.0127,  0.0064,  ...,  0.0480,  0.0098, -0.0140],\n",
       "            [ 0.0474, -0.0421,  0.0450,  ..., -0.0597,  0.0139, -0.0012]], device='cuda:0', requires_grad=True),\n",
       "    Parameter containing:\n",
       "    tensor([-1.3459e-03,  2.6065e-02,  7.9464e-03,  ..., -6.7354e-06, -9.0963e-03,  1.6142e-02], device='cuda:0', requires_grad=True),\n",
       "    Parameter containing:\n",
       "    tensor([[ 0.0162,  0.0145,  0.0183,  ..., -0.0142, -0.0398,  0.0239],\n",
       "            [ 0.0248,  0.0691, -0.0307,  ...,  0.0227, -0.0243,  0.0201],\n",
       "            [-0.0314,  0.0051, -0.0225,  ...,  0.0212,  0.0054,  0.0048],\n",
       "            ...,\n",
       "            [-0.0195,  0.0509, -0.0541,  ...,  0.0903,  0.1097, -0.0266],\n",
       "            [-0.0144,  0.0313,  0.0493,  ...,  0.0697, -0.0090,  0.0940],\n",
       "            [ 0.0112, -0.0133, -0.0912,  ..., -0.0131,  0.0387,  0.0551]], device='cuda:0', requires_grad=True),\n",
       "    Parameter containing:\n",
       "    tensor([-0.0238, -0.0139, -0.0177, -0.0001, -0.0125, -0.0198,  0.0277,  0.0130, -0.0068,  0.0161, -0.0030,  0.0286, -0.0263,  0.0161, -0.0053,\n",
       "             0.0104,  0.0107, -0.0241,  0.0062, -0.0283,  0.0069, -0.0222, -0.0312,  0.0210,  0.0241, -0.0055, -0.0057,  0.0070, -0.0010, -0.0034,\n",
       "             0.0174,  0.0020,  0.0257,  0.0093, -0.0155, -0.0187, -0.0076,  0.0290, -0.0041,  0.0077,  0.0210,  0.0051, -0.0045, -0.0047, -0.0240,\n",
       "             0.0192,  0.0240, -0.0161, -0.0097, -0.0138, -0.0027,  0.0231, -0.0081,  0.0075,  0.0188, -0.0022,  0.0093, -0.0118, -0.0221,  0.0278,\n",
       "             0.0242, -0.0253, -0.0250, -0.0238,  0.0159,  0.0050, -0.0023,  0.0225,  0.0228, -0.0182,  0.0089, -0.0038, -0.0015, -0.0125, -0.0166,\n",
       "            -0.0214, -0.0181, -0.0241, -0.0173,  0.0005, -0.0181, -0.0241,  0.0258,  0.0017, -0.0002,  0.0055,  0.0056, -0.0277,  0.0225,  0.0189,\n",
       "             0.0210, -0.0055,  0.0188, -0.0034, -0.0205,  0.0055, -0.0295,  0.0160, -0.0289,  0.0060,  0.0207,  0.0098,  0.0257, -0.0025,  0.0049,\n",
       "             0.0003,  0.0310,  0.0036, -0.0269, -0.0133,  0.0205,  0.0035,  0.0250,  0.0108, -0.0231, -0.0162, -0.0020, -0.0062,  0.0043, -0.0146,\n",
       "             0.0030,  0.0259,  0.0217, -0.0193,  0.0270,  0.0095, -0.0083,  0.0243], device='cuda:0', requires_grad=True),\n",
       "    Parameter containing:\n",
       "    tensor([[ 5.4577e-02,  5.0968e-02,  2.3234e-04,  ...,  1.5874e-01, -1.0216e-01,  2.0393e-01],\n",
       "            [-1.4558e-01,  5.1254e-02, -2.0258e-01,  ..., -2.1596e-01,  5.4025e-02, -1.1197e-02],\n",
       "            [ 6.5180e-02, -1.7549e-02,  1.5479e-01,  ...,  2.4538e-01, -8.2011e-03,  1.6141e-01],\n",
       "            ...,\n",
       "            [-7.1965e-02,  2.2466e-01,  7.5146e-02,  ..., -1.1134e-02, -2.7277e-02,  1.9180e-01],\n",
       "            [ 2.0272e-01, -1.2509e-01,  1.9262e-01,  ...,  1.5342e-01, -1.8861e-01,  1.8593e-01],\n",
       "            [ 1.0275e-01, -3.5386e-02,  1.2233e-01,  ...,  2.3750e-01, -6.1218e-02,  2.2008e-01]], device='cuda:0', requires_grad=True),\n",
       "    Parameter containing:\n",
       "    tensor([ 0.0502, -0.0774, -0.0059,  0.0168, -0.0215, -0.0231, -0.0411,  0.0838,  0.0546,  0.0161,  0.0670,  0.0026, -0.0050,  0.0724, -0.0304,\n",
       "            -0.0075,  0.0214,  0.0872, -0.0079,  0.0744,  0.0004, -0.0545,  0.0307, -0.0502, -0.0572, -0.0379,  0.0360, -0.0705, -0.0371, -0.0463,\n",
       "            -0.0266,  0.0684, -0.0205,  0.0232,  0.0376,  0.0222,  0.0754,  0.0353,  0.0129, -0.0125,  0.0163, -0.0186, -0.0014,  0.0674, -0.0663,\n",
       "            -0.0350,  0.0237,  0.0415, -0.0137, -0.0666], device='cuda:0', requires_grad=True),\n",
       "    Parameter containing:\n",
       "    tensor([[-0.2587, -0.0776, -0.0327,  ...,  0.0996, -0.0838,  0.2955],\n",
       "            [ 0.0704, -0.0955,  0.0737,  ..., -0.4058,  0.3451,  0.0729],\n",
       "            [-0.0089, -0.0335,  0.2888,  ...,  0.0197, -0.2808,  0.2401],\n",
       "            ...,\n",
       "            [ 0.1137, -0.1922,  0.0823,  ...,  0.0174, -0.1487, -0.2708],\n",
       "            [-0.1646, -0.0284, -0.0451,  ..., -0.0336,  0.5060,  0.0248],\n",
       "            [ 0.3127,  0.2242,  0.0168,  ...,  0.0850,  0.3149,  0.1109]], device='cuda:0', requires_grad=True),\n",
       "    Parameter containing:\n",
       "    tensor([-0.1150, -0.0654,  0.0724,  0.0809,  0.1058,  0.0353,  0.0281,  0.0901, -0.0744, -0.1333,  0.0438, -0.0730,  0.1251, -0.1269, -0.0878,\n",
       "            -0.0359,  0.0381, -0.0373,  0.1052,  0.0772, -0.1313,  0.0702,  0.0278, -0.0261,  0.0499,  0.1352,  0.1163, -0.1180,  0.0176,  0.0714,\n",
       "             0.1259, -0.0219,  0.0098,  0.0459, -0.0285,  0.0095, -0.0008,  0.0605, -0.0056, -0.0804, -0.0736,  0.1079,  0.0875, -0.1338,  0.0215,\n",
       "            -0.1067, -0.1248,  0.1236, -0.0925,  0.0259,  0.0451, -0.1296,  0.0946,  0.1358, -0.0923,  0.0811,  0.0558, -0.0339,  0.1368,  0.0546,\n",
       "             0.0545, -0.0021,  0.1047,  0.0356,  0.0469, -0.0024,  0.1049, -0.0702,  0.0835, -0.1142, -0.0096,  0.0018, -0.0454,  0.1413, -0.0943,\n",
       "            -0.1217,  0.1313,  0.0129,  0.0837, -0.0092, -0.0081, -0.1237,  0.0363,  0.0952,  0.0503,  0.0372,  0.0175,  0.0458,  0.1041, -0.0532,\n",
       "            -0.0597,  0.1268,  0.0518, -0.0076,  0.0566,  0.0536,  0.0994,  0.1402,  0.0592, -0.1363,  0.1384,  0.0441,  0.0777,  0.1049, -0.0178,\n",
       "            -0.0411, -0.0513,  0.0824, -0.0519,  0.1058, -0.0843, -0.1108,  0.0792,  0.0599, -0.0159, -0.0800,  0.0134,  0.0911, -0.0854,  0.0428,\n",
       "            -0.0367,  0.1237, -0.1331,  0.1167, -0.1092,  0.0033, -0.0660, -0.0976], device='cuda:0', requires_grad=True),\n",
       "    Parameter containing:\n",
       "    tensor([[-0.0143,  0.0298,  0.0271,  ..., -0.1573, -0.0890,  0.0607],\n",
       "            [-0.0743, -0.2438, -0.0042,  ..., -0.0374,  0.1431, -0.0706],\n",
       "            [ 0.1884, -0.1395, -0.1789,  ..., -0.0081,  0.1260,  0.0684],\n",
       "            ...,\n",
       "            [-0.0685,  0.0360,  0.1240,  ..., -0.1894, -0.0378,  0.0625],\n",
       "            [-0.0247, -0.2493,  0.0671,  ...,  0.2218, -0.2194,  0.1501],\n",
       "            [-0.0568, -0.1728, -0.0760,  ...,  0.1799,  0.0604, -0.1126]], device='cuda:0', requires_grad=True),\n",
       "    Parameter containing:\n",
       "    tensor([ 0.0419,  0.0374, -0.0458,  ..., -0.0552,  0.0441, -0.0256], device='cuda:0', requires_grad=True),\n",
       "    Parameter containing:\n",
       "    tensor([[-0.0090,  0.1151,  0.0060,  ..., -0.0510, -0.0056,  0.0285],\n",
       "            [ 0.0519, -0.1309,  0.0512,  ...,  0.0095,  0.0076,  0.0604],\n",
       "            [-0.0507,  0.0091, -0.0077,  ..., -0.0274,  0.0244,  0.0709],\n",
       "            ...,\n",
       "            [-0.0555, -0.0062,  0.0128,  ...,  0.0253, -0.0779, -0.0320],\n",
       "            [ 0.0254, -0.0416, -0.0689,  ...,  0.1399, -0.0095,  0.0192],\n",
       "            [ 0.0185,  0.0166,  0.0389,  ..., -0.0190,  0.0354, -0.0385]], device='cuda:0', requires_grad=True),\n",
       "    Parameter containing:\n",
       "    tensor([ 0.0047,  0.0015, -0.0056,  ...,  0.0214, -0.0229,  0.0154], device='cuda:0', requires_grad=True)],\n",
       "   'lr': 0.0001,\n",
       "   'betas': (0.9, 0.999),\n",
       "   'eps': 1e-08,\n",
       "   'weight_decay': 0,\n",
       "   'amsgrad': False,\n",
       "   'maximize': False,\n",
       "   'foreach': None,\n",
       "   'capturable': False,\n",
       "   'differentiable': False,\n",
       "   'fused': None}],\n",
       " '_warned_capturable_if_run_uncaptured': True}"
      ]
     },
     "execution_count": 92,
     "metadata": {},
     "output_type": "execute_result"
    }
   ],
   "source": [
    "print()\n",
    "model.optimizer.__dict__"
   ]
  },
  {
   "cell_type": "code",
   "execution_count": 79,
   "id": "aaf7c1a2-2845-4a42-bcb7-395658f1f4f2",
   "metadata": {
    "execution": {
     "iopub.execute_input": "2024-05-09T09:23:58.824229Z",
     "iopub.status.busy": "2024-05-09T09:23:58.823730Z",
     "iopub.status.idle": "2024-05-09T09:23:58.865153Z",
     "shell.execute_reply": "2024-05-09T09:23:58.864455Z",
     "shell.execute_reply.started": "2024-05-09T09:23:58.824187Z"
    }
   },
   "outputs": [
    {
     "data": {
      "text/plain": [
       "{'factor': 0.5,\n",
       " 'optimizer': SGD (\n",
       " Parameter Group 0\n",
       "     dampening: 0\n",
       "     differentiable: False\n",
       "     foreach: None\n",
       "     lr: 0.0005\n",
       "     maximize: False\n",
       "     momentum: 0.9\n",
       "     nesterov: False\n",
       "     weight_decay: 0\n",
       " ),\n",
       " 'min_lrs': [0],\n",
       " 'patience': 35,\n",
       " 'verbose': True,\n",
       " 'cooldown': 15,\n",
       " 'cooldown_counter': 0,\n",
       " 'mode': 'min',\n",
       " 'threshold': 1e-07,\n",
       " 'threshold_mode': 'rel',\n",
       " 'best': 2.462797147035599,\n",
       " 'num_bad_epochs': 0,\n",
       " 'mode_worse': inf,\n",
       " 'eps': 1e-08,\n",
       " 'last_epoch': 50,\n",
       " '_last_lr': [0.0005]}"
      ]
     },
     "execution_count": 79,
     "metadata": {},
     "output_type": "execute_result"
    }
   ],
   "source": [
    "model.temp_scheduler.__dict__"
   ]
  },
  {
   "cell_type": "markdown",
   "id": "1418166e-31aa-4594-bee1-3f7b0c0bd869",
   "metadata": {},
   "source": [
    "#### optimizer after"
   ]
  },
  {
   "cell_type": "code",
   "execution_count": 95,
   "id": "3fefc325-4bad-491d-8caf-d189a551d246",
   "metadata": {
    "execution": {
     "iopub.execute_input": "2024-05-09T09:26:38.420084Z",
     "iopub.status.busy": "2024-05-09T09:26:38.419584Z",
     "iopub.status.idle": "2024-05-09T09:26:38.590427Z",
     "shell.execute_reply": "2024-05-09T09:26:38.589259Z",
     "shell.execute_reply.started": "2024-05-09T09:26:38.420041Z"
    }
   },
   "outputs": [
    {
     "name": "stdout",
     "output_type": "stream",
     "text": [
      "\n"
     ]
    },
    {
     "data": {
      "text/plain": [
       "{'defaults': {'lr': 0.001,\n",
       "  'betas': (0.9, 0.999),\n",
       "  'eps': 1e-08,\n",
       "  'weight_decay': 0,\n",
       "  'amsgrad': False,\n",
       "  'maximize': False,\n",
       "  'foreach': None,\n",
       "  'capturable': False,\n",
       "  'differentiable': False,\n",
       "  'fused': None},\n",
       " 'state': defaultdict(dict,\n",
       "             {Parameter containing:\n",
       "              tensor([[-0.1078,  0.0057, -0.0510,  ...,  0.0594,  0.1069,  0.0640],\n",
       "                      [-0.1145, -0.1986, -0.1407,  ...,  0.1411,  0.3946, -0.0203],\n",
       "                      [-0.0556,  0.0700,  0.0775,  ..., -0.0425,  0.1645,  0.0141],\n",
       "                      ...,\n",
       "                      [ 0.0297,  0.0965,  0.0427,  ...,  0.1891,  0.0252, -0.1212],\n",
       "                      [-0.0689,  0.1369,  0.0458,  ...,  0.0924,  0.0807,  0.0542],\n",
       "                      [-0.0871,  0.0142, -0.0709,  ..., -0.0739, -0.0889, -0.1526]], device='cuda:0', requires_grad=True): {'step': tensor(240000.),\n",
       "               'exp_avg': tensor([[-1.3501e-05, -1.5283e-05, -3.0307e-06,  ...,  6.1780e-06,  6.1375e-06,  1.1497e-05],\n",
       "                       [-6.4877e-06, -6.8586e-06,  7.3484e-07,  ..., -1.4690e-06,  1.3423e-06, -3.1268e-06],\n",
       "                       [ 1.0148e-06, -1.2726e-07, -4.4320e-07,  ..., -1.7136e-06,  3.5418e-06, -1.9978e-06],\n",
       "                       ...,\n",
       "                       [ 7.1106e-06,  7.5623e-06,  1.0363e-06,  ..., -1.3558e-06, -6.6414e-06, -2.8488e-06],\n",
       "                       [ 2.8404e-06,  3.7322e-06,  6.6343e-06,  ...,  1.9025e-07, -2.0393e-07,  1.6097e-06],\n",
       "                       [-2.2063e-06, -1.7113e-06,  1.2839e-06,  ...,  4.2642e-06, -1.0390e-06, -3.8284e-06]], device='cuda:0'),\n",
       "               'exp_avg_sq': tensor([[7.7768e-10, 8.5185e-10, 9.1307e-10,  ..., 4.1239e-10, 3.5421e-10, 4.6772e-10],\n",
       "                       [1.8973e-10, 2.0131e-10, 2.2733e-10,  ..., 1.3006e-10, 1.7858e-10, 1.5722e-10],\n",
       "                       [2.4977e-10, 2.6609e-10, 2.7429e-10,  ..., 3.2993e-10, 4.8119e-10, 3.9199e-10],\n",
       "                       ...,\n",
       "                       [2.4717e-10, 2.6620e-10, 2.6343e-10,  ..., 1.8591e-10, 1.5411e-10, 1.8230e-10],\n",
       "                       [3.0316e-10, 3.1819e-10, 2.8932e-10,  ..., 2.0958e-10, 1.4773e-10, 1.8856e-10],\n",
       "                       [1.8626e-10, 1.8074e-10, 1.7851e-10,  ..., 1.7672e-10, 1.7552e-10, 1.4090e-10]], device='cuda:0')},\n",
       "              Parameter containing:\n",
       "              tensor([-2.6083, -1.6234, -2.3270,  ..., -1.2054, -4.1348, -3.7027], device='cuda:0', requires_grad=True): {'step': tensor(240000.),\n",
       "               'exp_avg': tensor([-1.8387e-06,  2.7556e-06, -4.9758e-07,  ...,  6.7260e-06, -4.8477e-07,  6.9789e-06], device='cuda:0'),\n",
       "               'exp_avg_sq': tensor([1.0151e-09, 3.0659e-10, 3.4517e-10,  ..., 6.3297e-10, 4.0347e-10, 2.4584e-10], device='cuda:0')},\n",
       "              Parameter containing:\n",
       "              tensor([[-0.0585, -0.0499, -0.0490,  ..., -0.0123, -0.0085, -0.0108],\n",
       "                      [-0.0298,  0.0174,  0.0200,  ...,  0.0863, -0.0133, -0.0317],\n",
       "                      [-0.1589,  0.0545,  0.0695,  ...,  0.2163, -0.0639, -0.0336],\n",
       "                      ...,\n",
       "                      [-0.0618,  0.0086, -0.0609,  ..., -0.0209, -0.1041, -0.0116],\n",
       "                      [-0.0516, -0.0895, -0.0351,  ..., -0.0462, -0.0006,  0.0634],\n",
       "                      [-0.0728, -0.0013, -0.0301,  ...,  0.0609, -0.0105,  0.0721]], device='cuda:0', requires_grad=True): {'step': tensor(240000.),\n",
       "               'exp_avg': tensor([[-5.6052e-45, -5.6052e-45,  5.6052e-45,  ..., -5.6052e-45, -5.6052e-45,  5.6052e-45],\n",
       "                       [-5.6052e-45,  5.6052e-45,  5.6052e-45,  ...,  5.6052e-45, -5.6052e-45,  5.6052e-45],\n",
       "                       [ 5.6213e-05,  4.5499e-05,  1.4266e-04,  ..., -4.1169e-05,  1.2174e-04,  6.0293e-05],\n",
       "                       ...,\n",
       "                       [ 5.6052e-45, -5.6052e-45,  5.6052e-45,  ...,  5.6052e-45,  5.6052e-45,  5.6052e-45],\n",
       "                       [ 5.6052e-45,  5.6052e-45,  5.6052e-45,  ...,  5.6052e-45,  5.6052e-45,  5.6052e-45],\n",
       "                       [-5.6052e-45,  5.6052e-45,  5.6052e-45,  ...,  5.6052e-45, -5.6052e-45, -5.6052e-45]], device='cuda:0'),\n",
       "               'exp_avg_sq': tensor([[7.0065e-43, 7.0065e-43, 7.0065e-43,  ..., 7.0065e-43, 7.0065e-43, 7.0065e-43],\n",
       "                       [7.0065e-43, 7.0065e-43, 7.0065e-43,  ..., 7.0065e-43, 7.0065e-43, 7.0065e-43],\n",
       "                       [1.7881e-07, 3.1813e-07, 6.3082e-07,  ..., 6.5320e-07, 1.8788e-07, 4.6450e-07],\n",
       "                       ...,\n",
       "                       [7.0065e-43, 7.0065e-43, 7.0065e-43,  ..., 7.0065e-43, 7.0065e-43, 7.0065e-43],\n",
       "                       [7.0065e-43, 7.0065e-43, 7.0065e-43,  ..., 7.0065e-43, 7.0065e-43, 7.0065e-43],\n",
       "                       [7.0065e-43, 7.0065e-43, 7.0065e-43,  ..., 7.0065e-43, 7.0065e-43, 7.0065e-43]], device='cuda:0')},\n",
       "              Parameter containing:\n",
       "              tensor([-4.1346e-02, -4.6732e-02,  1.3034e-01,  9.5354e-01, -5.1716e-03,  7.4185e-01, -1.4823e-02,  6.7635e-01,  4.2226e-01, -2.6690e-02, -4.6281e-02,\n",
       "                      -6.9546e-02, -3.9666e-02,  1.5906e-03, -4.9037e-02, -2.8808e-03, -2.1215e-02, -5.1279e-02, -4.3551e-02,  9.5043e-01, -6.4192e-02, -4.7493e-02,\n",
       "                      -1.6397e-02, -4.9764e-02, -1.4023e-02,  9.7904e-01,  3.6835e-03, -3.2016e-02, -3.4855e-03, -5.3303e-02, -2.8045e-02,  9.2167e-01, -7.6281e-03,\n",
       "                      -1.2375e-02, -2.5168e-02, -6.1600e-02, -9.6917e-03, -3.2785e-02,  1.6762e-02, -4.1967e-02, -5.7566e-02, -4.8947e-02, -1.9970e-02, -3.0012e-02,\n",
       "                      -2.1113e-02, -1.4303e-02, -5.5396e-02, -3.3511e-02, -3.7957e-02, -5.7972e-02, -1.4470e-02, -5.2667e-02, -5.1940e-02, -6.4320e-02, -5.5680e-02,\n",
       "                      -4.4308e-04, -6.1811e-02, -1.2564e-02,  2.4981e-03, -7.9893e-02, -5.1480e-02, -2.7381e-02, -4.4340e-02, -1.4545e-02, -6.1861e-03, -4.9925e-02,\n",
       "                      -9.1311e-03, -3.0006e-02, -3.7487e-02, -2.2331e-03, -5.3257e-02, -3.9483e-02, -2.5807e-02, -6.1037e-03, -5.7004e-02, -3.2836e-02, -6.4135e-02,\n",
       "                      -4.5986e-02, -4.2333e-02, -4.7635e-02, -3.8774e-02, -1.1191e-02, -8.4366e-02, -7.5790e-02,  6.2013e-01, -4.7983e-02, -1.8562e-02, -3.8863e-02,\n",
       "                      -4.0975e-02, -2.4992e-02, -7.3680e-03,  8.1199e-01, -6.6664e-02, -7.6809e-03, -1.5350e-02, -7.3458e-02, -1.2865e-02, -2.4795e-02, -2.1017e-02,\n",
       "                      -7.6980e-02, -2.9391e-03, -4.9644e-02, -3.8106e-02, -5.4227e-02, -7.7392e-03, -6.9569e-02, -1.0184e-02,  1.1970e+00, -6.4855e-02, -8.8541e-03,\n",
       "                      -3.0597e-02, -3.0563e-02, -3.6944e-02, -2.6592e-02,  9.2349e-01, -3.8804e-02, -3.4231e-02, -8.9438e-02, -7.6441e-02, -2.7899e-02, -1.8159e-02,\n",
       "                      -2.1492e-02, -6.1736e-02, -3.7926e-02, -4.7563e-02, -4.2806e-02, -6.3255e-02, -8.6160e-02], device='cuda:0', requires_grad=True): {'step': tensor(240000.),\n",
       "               'exp_avg': tensor([ 5.6052e-45,  5.6052e-45,  3.0947e-05,  1.8495e-05,  5.6052e-45,  2.7685e-05,  5.6052e-45,  4.8522e-05, -8.9256e-06,  5.6052e-45,  5.6052e-45,\n",
       "                        5.6052e-45,  5.6052e-45,  5.6052e-45,  5.6052e-45,  5.6052e-45,  5.6052e-45,  5.6052e-45,  5.6052e-45, -7.5533e-05,  5.6052e-45,  5.6052e-45,\n",
       "                        5.6052e-45,  5.6052e-45,  5.6052e-45,  3.8766e-07,  5.6052e-45,  5.6052e-45,  5.6052e-45,  5.6052e-45,  5.6052e-45, -5.4324e-07,  5.6052e-45,\n",
       "                        5.6052e-45,  5.6052e-45,  5.6052e-45,  5.6052e-45,  5.6052e-45,  5.6052e-45,  5.6052e-45,  5.6052e-45,  5.6052e-45,  5.6052e-45,  5.6052e-45,\n",
       "                        5.6052e-45,  5.6052e-45,  5.6052e-45,  5.6052e-45,  5.6052e-45,  5.6052e-45,  5.6052e-45,  5.6052e-45,  5.6052e-45,  5.6052e-45,  5.6052e-45,\n",
       "                        5.6052e-45,  5.6052e-45,  5.6052e-45,  5.6052e-45,  5.6052e-45,  5.6052e-45,  5.6052e-45,  5.6052e-45,  5.6052e-45,  5.6052e-45,  5.6052e-45,\n",
       "                        5.6052e-45,  5.6052e-45,  5.6052e-45,  5.6052e-45,  5.6052e-45,  5.6052e-45,  5.6052e-45,  5.6052e-45,  5.6052e-45,  5.6052e-45,  5.6052e-45,\n",
       "                        5.6052e-45,  5.6052e-45,  5.6052e-45,  5.6052e-45,  5.6052e-45,  5.6052e-45,  5.6052e-45, -7.3385e-05,  5.6052e-45,  5.6052e-45,  5.6052e-45,\n",
       "                        5.6052e-45,  5.6052e-45,  5.6052e-45,  1.0125e-04,  5.6052e-45,  5.6052e-45,  5.6052e-45,  5.6052e-45,  5.6052e-45,  5.6052e-45,  5.6052e-45,\n",
       "                        5.6052e-45,  5.6052e-45,  5.6052e-45,  5.6052e-45,  5.6052e-45,  5.6052e-45,  5.6052e-45,  5.6052e-45, -3.3923e-05,  5.6052e-45,  5.6052e-45,\n",
       "                        5.6052e-45,  5.6052e-45,  5.6052e-45,  5.6052e-45,  3.8922e-05,  5.6052e-45,  5.6052e-45,  5.6052e-45,  5.6052e-45,  5.6052e-45,  5.6052e-45,\n",
       "                        5.6052e-45,  5.6052e-45,  5.6052e-45,  5.6052e-45,  5.6052e-45,  5.6052e-45,  5.6052e-45], device='cuda:0'),\n",
       "               'exp_avg_sq': tensor([7.0065e-43, 7.0065e-43, 2.9506e-08, 3.8629e-08, 7.0065e-43, 6.2398e-08, 7.0065e-43, 3.3283e-08, 3.7462e-08, 7.0065e-43, 7.0065e-43,\n",
       "                       7.0065e-43, 7.0065e-43, 7.0065e-43, 7.0065e-43, 7.0065e-43, 7.0065e-43, 7.0065e-43, 7.0065e-43, 3.4277e-08, 7.0065e-43, 7.0065e-43,\n",
       "                       7.0065e-43, 7.0065e-43, 7.0065e-43, 4.3916e-08, 7.0065e-43, 7.0065e-43, 7.0065e-43, 7.0065e-43, 7.0065e-43, 3.4217e-08, 7.0065e-43,\n",
       "                       7.0065e-43, 7.0065e-43, 7.0065e-43, 7.0065e-43, 7.0065e-43, 7.0065e-43, 7.0065e-43, 7.0065e-43, 7.0065e-43, 7.0065e-43, 7.0065e-43,\n",
       "                       7.0065e-43, 7.0065e-43, 7.0065e-43, 7.0065e-43, 7.0065e-43, 7.0065e-43, 7.0065e-43, 7.0065e-43, 7.0065e-43, 7.0065e-43, 7.0065e-43,\n",
       "                       7.0065e-43, 7.0065e-43, 7.0065e-43, 7.0065e-43, 7.0065e-43, 7.0065e-43, 7.0065e-43, 7.0065e-43, 7.0065e-43, 7.0065e-43, 7.0065e-43,\n",
       "                       7.0065e-43, 7.0065e-43, 7.0065e-43, 7.0065e-43, 7.0065e-43, 7.0065e-43, 7.0065e-43, 7.0065e-43, 7.0065e-43, 7.0065e-43, 7.0065e-43,\n",
       "                       7.0065e-43, 7.0065e-43, 7.0065e-43, 7.0065e-43, 7.0065e-43, 7.0065e-43, 7.0065e-43, 3.9355e-08, 7.0065e-43, 7.0065e-43, 7.0065e-43,\n",
       "                       7.0065e-43, 7.0065e-43, 7.0065e-43, 1.0977e-07, 7.0065e-43, 7.0065e-43, 5.3459e-36, 7.0065e-43, 7.0065e-43, 7.0065e-43, 7.0065e-43,\n",
       "                       7.0065e-43, 7.0065e-43, 7.0065e-43, 7.0065e-43, 7.0065e-43, 7.0065e-43, 7.0065e-43, 7.0065e-43, 9.8220e-08, 7.0065e-43, 7.0065e-43,\n",
       "                       7.0065e-43, 7.0065e-43, 7.0065e-43, 7.0065e-43, 6.5313e-08, 7.0065e-43, 7.0065e-43, 7.0065e-43, 7.0065e-43, 7.0065e-43, 7.0065e-43,\n",
       "                       7.0065e-43, 7.0065e-43, 7.0065e-43, 7.0065e-43, 7.0065e-43, 7.0065e-43, 7.0065e-43], device='cuda:0')},\n",
       "              Parameter containing:\n",
       "              tensor([[-5.9284e-02,  1.0086e-01, -1.2783e-03,  ..., -2.8393e-02, -5.0069e-02,  1.8530e-02],\n",
       "                      [ 1.7449e-01,  1.4589e-01, -6.6271e-04,  ..., -1.3368e-01, -1.3010e-01, -7.2853e-02],\n",
       "                      [-1.7176e-02, -5.6075e-02, -1.7613e-02,  ..., -6.6289e-03, -1.4032e-02,  5.0868e-02],\n",
       "                      ...,\n",
       "                      [-2.2762e-01, -2.0553e-02,  2.3444e-02,  ..., -2.7487e-01, -4.1617e-01, -2.4626e-04],\n",
       "                      [ 2.1888e-03, -1.4009e-01, -3.4233e-02,  ...,  1.0153e-04,  1.3162e-02, -1.3309e-02],\n",
       "                      [ 6.9819e-02, -6.5424e-02, -6.7195e-02,  ...,  2.9827e-01,  2.9720e-02,  4.0783e-02]], device='cuda:0', requires_grad=True): {'step': tensor(240000.),\n",
       "               'exp_avg': tensor([[ 5.6052e-45,  5.6052e-45,  1.6430e-03,  ..., -5.6052e-45, -5.6052e-45, -5.6052e-45],\n",
       "                       [-5.6052e-45,  5.6052e-45,  1.0555e-04,  ...,  5.6052e-45, -5.6052e-45,  5.6052e-45],\n",
       "                       [ 5.6052e-45, -5.6052e-45,  3.8077e-03,  ..., -5.6052e-45,  5.6052e-45,  5.6052e-45],\n",
       "                       ...,\n",
       "                       [ 5.6052e-45,  5.6052e-45,  8.7995e-03,  ..., -5.6052e-45, -5.6052e-45, -5.6052e-45],\n",
       "                       [-5.6052e-45, -5.6052e-45, -1.8162e-02,  ...,  5.6052e-45,  5.6052e-45,  5.6052e-45],\n",
       "                       [-5.6052e-45,  5.6052e-45,  1.9143e-02,  ..., -5.6052e-45, -5.6052e-45, -5.6052e-45]], device='cuda:0'),\n",
       "               'exp_avg_sq': tensor([[7.0065e-43, 7.0065e-43, 4.5458e-05,  ..., 7.0065e-43, 7.0065e-43, 7.0065e-43],\n",
       "                       [7.0065e-43, 7.0065e-43, 1.1767e-04,  ..., 7.0065e-43, 7.0065e-43, 7.0065e-43],\n",
       "                       [7.0065e-43, 7.0065e-43, 2.3081e-04,  ..., 7.0065e-43, 7.0065e-43, 7.0065e-43],\n",
       "                       ...,\n",
       "                       [7.0065e-43, 7.0065e-43, 5.7665e-03,  ..., 7.0065e-43, 7.0065e-43, 7.0065e-43],\n",
       "                       [7.0065e-43, 7.0065e-43, 4.6524e-03,  ..., 7.0065e-43, 7.0065e-43, 7.0065e-43],\n",
       "                       [7.0065e-43, 7.0065e-43, 9.3123e-03,  ..., 7.0065e-43, 7.0065e-43, 7.0065e-43]], device='cuda:0')},\n",
       "              Parameter containing:\n",
       "              tensor([ 6.6747e-03,  4.1395e-02,  8.5011e-01,  9.8303e-03,  2.7939e-01, -1.3022e+00,  2.0312e-03,  7.7797e-03, -1.1620e-02,  3.6228e-01, -6.9205e-01,\n",
       "                       2.1267e-03,  7.3984e-02,  8.6386e-03, -8.7413e-03,  5.6880e-01, -9.3038e-03, -1.2129e-02, -6.8503e-01,  1.0068e-02, -5.3690e-01, -4.1892e-01,\n",
       "                       4.9152e-02,  3.4367e-01, -2.5430e-02, -8.1798e-01, -5.4855e-01, -7.2081e-02, -3.1789e-03, -1.1247e+00, -1.6351e-03, -9.6328e-01, -6.7145e-03,\n",
       "                      -8.5623e-01,  1.2722e-02, -3.1084e-01,  2.0093e-02, -1.4566e-01,  1.6808e-02, -3.9503e-01,  1.5052e+00,  8.2579e-03,  8.6099e-01, -8.0212e-01,\n",
       "                       6.8023e-01, -1.3497e-04, -2.5418e-02,  3.2970e-01,  1.0337e+00, -4.7063e-01], device='cuda:0', requires_grad=True): {'step': tensor(240000.),\n",
       "               'exp_avg': tensor([ 3.9300e-06, -9.3894e-06, -2.3931e-06, -3.4259e-05, -1.5644e-04,  1.8256e-04,  1.2901e-05,  5.5904e-05,  2.0878e-05, -8.2190e-05,  1.7279e-04,\n",
       "                       -1.5622e-04,  3.6702e-04, -2.0674e-05, -3.7799e-05, -1.3422e-05, -9.8054e-05, -2.3472e-05,  2.3728e-04, -2.0471e-05,  2.2027e-04, -1.0436e-04,\n",
       "                        2.7323e-05, -1.2268e-04,  2.2694e-05,  7.5648e-05, -1.3100e-04,  9.9439e-05,  1.9076e-05,  7.8674e-05, -7.0899e-06,  6.1616e-04,  4.1405e-05,\n",
       "                       -2.8938e-05, -1.6517e-05,  2.8317e-04, -3.9221e-05, -1.3308e-04, -5.1982e-05, -2.6414e-05, -3.9008e-05, -4.2741e-05, -7.7758e-07,  3.6954e-05,\n",
       "                       -1.1291e-04,  3.2301e-05,  4.0044e-05,  3.8801e-05, -2.1213e-04,  2.8242e-04], device='cuda:0'),\n",
       "               'exp_avg_sq': tensor([5.2071e-09, 1.1280e-08, 2.6572e-08, 6.7720e-09, 5.2826e-07, 5.4782e-07, 3.7211e-09, 6.8135e-09, 6.6250e-09, 4.0355e-07, 1.0564e-06,\n",
       "                       3.8942e-07, 5.8000e-07, 7.5880e-09, 6.6522e-09, 1.8755e-07, 1.6216e-07, 1.1574e-08, 1.0637e-06, 6.5529e-09, 8.9283e-07, 8.6401e-07,\n",
       "                       5.6607e-07, 7.6032e-07, 6.3091e-09, 1.1395e-06, 6.0744e-07, 8.0298e-07, 4.5918e-09, 3.5197e-07, 5.2039e-09, 2.6772e-06, 6.4215e-09,\n",
       "                       3.4910e-07, 7.2087e-09, 2.6947e-06, 5.7161e-09, 1.0334e-06, 6.2773e-09, 1.4718e-06, 2.5704e-07, 6.4422e-09, 1.3500e-06, 1.2896e-07,\n",
       "                       9.7333e-07, 4.1608e-09, 5.4186e-09, 7.3396e-07, 6.3535e-07, 1.1945e-06], device='cuda:0')},\n",
       "              Parameter containing:\n",
       "              tensor([[ 0.0045, -0.0031, -0.0121,  ..., -0.0212,  0.0380,  0.1879],\n",
       "                      [ 0.0041, -0.0343, -0.0101,  ..., -0.0936, -0.0783, -0.1153],\n",
       "                      [-0.0094,  0.0134, -0.0182,  ...,  0.2155,  0.0282, -0.0824],\n",
       "                      ...,\n",
       "                      [-0.0090,  0.0031,  0.0446,  ..., -0.0522,  0.1956,  0.0542],\n",
       "                      [ 0.0101, -0.0076,  0.0441,  ...,  0.0167,  0.0833, -0.0348],\n",
       "                      [ 0.0039, -0.0060, -0.0139,  ..., -0.0423,  0.0299,  0.1766]], device='cuda:0', requires_grad=True): {'step': tensor(240000.),\n",
       "               'exp_avg': tensor([[-2.5344e-05, -1.1905e-05,  4.9677e-04,  ...,  5.3484e-04,  1.0699e-03,  1.3606e-03],\n",
       "                       [-2.7282e-05, -1.4218e-05, -2.2933e-04,  ..., -8.2702e-04, -3.8786e-04, -3.3318e-04],\n",
       "                       [-1.2489e-05,  8.7813e-06, -8.2918e-05,  ...,  2.1483e-05, -3.3166e-04, -1.0821e-04],\n",
       "                       ...,\n",
       "                       [ 1.1285e-05,  1.9351e-05,  3.0307e-04,  ...,  4.0895e-04,  6.6772e-05,  2.3918e-04],\n",
       "                       [ 3.5298e-05, -9.8307e-06, -5.6368e-04,  ..., -3.3385e-04, -4.9813e-04, -1.0439e-03],\n",
       "                       [ 2.1344e-05,  1.2530e-05,  7.5819e-04,  ..., -1.0201e-04,  6.4680e-04,  6.7357e-04]], device='cuda:0'),\n",
       "               'exp_avg_sq': tensor([[6.9184e-08, 9.3849e-08, 8.0786e-06,  ..., 6.5729e-05, 1.3202e-05, 1.8723e-05],\n",
       "                       [8.2836e-09, 1.1220e-08, 1.0357e-06,  ..., 1.1114e-05, 2.3323e-06, 2.7637e-06],\n",
       "                       [2.7279e-09, 4.7745e-09, 5.5382e-07,  ..., 2.7186e-06, 1.0285e-06, 1.0141e-06],\n",
       "                       ...,\n",
       "                       [1.7845e-08, 2.4875e-08, 2.2021e-06,  ..., 1.8323e-05, 4.4001e-06, 2.9323e-06],\n",
       "                       [1.5530e-08, 2.3910e-08, 2.4473e-06,  ..., 1.5519e-05, 4.6455e-06, 5.1445e-06],\n",
       "                       [5.3916e-08, 7.7833e-08, 6.6458e-06,  ..., 5.7504e-05, 9.8875e-06, 1.5621e-05]], device='cuda:0')},\n",
       "              Parameter containing:\n",
       "              tensor([ 3.8146e-01, -2.3371e-01, -2.0675e-01, -1.0077e+00,  5.0010e-01, -2.1973e+00, -5.6404e-01, -1.7853e+00, -1.1300e+00,  4.3959e-01, -4.2680e-02,\n",
       "                       8.2444e-02,  8.7154e-02,  2.9796e-01,  1.5125e-01,  6.6664e-01, -1.7907e-01, -3.5804e-01, -1.6734e-01, -9.1776e-01,  5.0893e-02, -1.8174e+00,\n",
       "                       5.0650e-02, -1.6705e+00, -1.2035e-01, -5.8187e-01, -1.2935e-02, -1.0884e+00,  5.2122e-01,  8.0962e-01, -1.1520e+00, -4.6269e-01,  2.3489e-02,\n",
       "                       8.6249e-01, -1.7418e+00, -1.0097e+00, -2.1910e+00,  1.8542e-01,  8.3749e-01, -1.3757e-01, -5.2327e-01,  1.9650e-01, -7.4970e-01,  4.8057e-01,\n",
       "                      -1.8528e+00, -2.0163e-02,  5.3599e-01, -6.5908e-02, -3.5720e-01, -3.6618e-01, -7.7278e-01,  1.9081e-03,  6.1085e-02,  3.5360e-02,  6.4822e-02,\n",
       "                      -7.7371e-01, -1.3642e-01,  9.7930e-02,  2.5288e-01, -6.5584e-02,  9.1867e-02, -4.1703e-01, -8.4000e-01, -1.0684e+00,  6.8325e-01,  2.8121e-01,\n",
       "                       2.4822e-01,  2.0088e-01, -1.0821e+00, -4.8190e-02, -1.6870e+00, -2.8806e-01, -6.0443e-01, -2.6267e-01, -2.1630e+00,  7.3301e-02, -3.3537e-01,\n",
       "                      -3.9229e-01, -7.6511e-01,  2.7189e-01,  3.5060e-01, -6.2128e-02, -6.6449e-01, -7.1450e-01, -1.1578e+00, -1.0198e+00, -8.2133e-02,  4.0916e-01,\n",
       "                      -9.7280e-04, -1.5163e+00,  2.1871e-01, -5.1417e-01,  4.1912e-01,  3.0151e-01,  1.1269e-01, -4.4577e-01,  6.2556e-01,  2.6087e-01, -7.8712e-01,\n",
       "                      -7.1081e-02, -1.1269e-01,  1.5770e-01, -4.6828e-01, -8.6612e-01, -5.9756e-02, -1.9398e-01, -1.6327e-01,  4.3845e-01,  2.8758e-01, -6.3707e-01,\n",
       "                       6.9976e-01,  1.2046e-01, -8.9317e-01, -9.5010e-01,  9.7873e-01,  2.5462e-01, -2.1288e-01, -2.0446e+00,  4.2078e-01, -4.6216e-01, -1.3395e+00,\n",
       "                      -4.3505e-01, -1.4694e+00,  3.9489e-02,  2.6754e-01, -3.2074e-01,  1.3654e+00,  1.0435e+00], device='cuda:0', requires_grad=True): {'step': tensor(240000.),\n",
       "               'exp_avg': tensor([ 4.8788e-04,  1.9607e-04,  3.7527e-05,  5.5647e-05, -5.0637e-05,  4.6506e-05,  3.2895e-05, -1.5473e-05,  1.0938e-05,  3.6949e-04, -9.1160e-05,\n",
       "                       -3.0350e-05, -2.3903e-04,  5.5762e-06, -8.1615e-05, -4.5220e-05,  3.6062e-05,  4.3288e-05, -7.8175e-05,  1.1863e-05,  4.7499e-06,  7.0464e-06,\n",
       "                        1.2105e-04,  3.7697e-05, -2.9149e-04, -7.6891e-05,  1.5133e-05,  2.3868e-05,  1.9707e-05, -7.1757e-05, -6.4880e-06, -5.2489e-05, -7.1655e-05,\n",
       "                       -2.1540e-06,  3.4965e-05,  2.1841e-05, -1.5283e-05,  1.6336e-04,  3.5263e-04, -2.0044e-04,  4.9110e-05, -4.6002e-05, -1.2496e-04, -2.8560e-04,\n",
       "                        1.7889e-05,  7.4911e-05,  5.5712e-05,  1.3873e-04,  9.2811e-05,  1.7953e-05, -5.8881e-05,  1.2276e-05,  8.6477e-05,  1.1274e-04, -3.7184e-06,\n",
       "                        1.8881e-05, -1.5303e-05,  8.1871e-05,  4.8463e-05, -3.7923e-05,  1.8960e-04, -2.4627e-05,  3.0441e-05,  4.3532e-05,  4.7183e-04,  4.9617e-06,\n",
       "                       -9.2513e-05, -3.0625e-05, -4.4114e-05,  9.4945e-05,  2.0254e-05, -1.7871e-04, -3.2329e-04, -4.6253e-05,  9.9439e-06, -2.6237e-04, -4.0741e-05,\n",
       "                        4.2511e-05, -2.0799e-04,  3.4948e-05,  3.7078e-04,  5.5028e-06,  2.3137e-05, -4.3138e-05,  7.9097e-05, -1.9517e-05,  6.2110e-05, -1.5189e-04,\n",
       "                        5.2339e-05,  4.1896e-05, -3.1765e-05,  2.7025e-05, -1.9259e-04, -2.3677e-05,  1.1655e-05,  3.3126e-05, -9.5568e-05,  1.5177e-05,  8.8545e-05,\n",
       "                        5.3267e-06, -2.3627e-05,  3.8288e-05,  7.3669e-05,  1.5712e-06, -1.6343e-05,  7.3010e-05,  5.5921e-05, -5.7528e-05,  3.2123e-04, -8.7369e-05,\n",
       "                       -7.9601e-04, -1.3140e-04, -5.9518e-05, -1.3073e-06, -5.2834e-04,  1.2034e-04, -4.5243e-05,  2.1521e-06, -2.3638e-04, -4.5929e-05, -7.4796e-05,\n",
       "                        8.5741e-05, -6.6444e-06, -1.5068e-04, -1.4432e-04, -1.5078e-04, -3.2058e-04, -6.8424e-05], device='cuda:0'),\n",
       "               'exp_avg_sq': tensor([1.4185e-06, 1.7701e-07, 9.9824e-08, 5.3934e-08, 7.5465e-07, 1.0165e-08, 4.5156e-08, 5.9717e-08, 2.0941e-08, 1.4158e-06, 9.3082e-08,\n",
       "                       3.0832e-07, 3.4160e-07, 4.5293e-08, 7.1639e-07, 4.3744e-07, 4.6691e-08, 8.7813e-08, 4.6274e-08, 2.4335e-08, 1.7689e-07, 5.9722e-08,\n",
       "                       8.0887e-07, 4.1574e-08, 6.1865e-07, 1.2138e-07, 2.4743e-07, 6.7499e-08, 1.3543e-07, 4.1632e-07, 1.9923e-08, 5.5680e-08, 6.1660e-08,\n",
       "                       2.3352e-07, 1.8632e-08, 4.6583e-08, 1.8905e-08, 1.3245e-06, 1.2590e-06, 8.1800e-07, 3.6032e-08, 2.0190e-07, 7.5543e-08, 1.3332e-06,\n",
       "                       2.4283e-08, 1.0126e-07, 6.0090e-07, 1.9241e-07, 1.4317e-07, 1.4375e-07, 4.5733e-08, 8.5721e-08, 5.3702e-07, 1.1972e-07, 2.1699e-07,\n",
       "                       3.7613e-08, 2.6879e-07, 8.7959e-08, 1.1850e-07, 2.1351e-07, 5.4950e-07, 4.6899e-07, 3.7029e-08, 3.7863e-08, 1.7200e-06, 3.2052e-07,\n",
       "                       2.8900e-07, 1.8421e-07, 9.9436e-08, 2.4268e-07, 4.3381e-08, 2.0405e-07, 1.9512e-07, 1.3363e-07, 2.7860e-08, 5.3838e-07, 2.0286e-07,\n",
       "                       4.2587e-08, 2.5436e-07, 1.4986e-07, 1.3741e-06, 5.1467e-07, 3.8046e-09, 5.7199e-08, 4.1478e-08, 2.7771e-08, 4.9117e-07, 3.4383e-07,\n",
       "                       3.8304e-07, 1.4922e-08, 3.3289e-07, 8.3432e-08, 9.0200e-07, 1.4260e-07, 7.4881e-08, 2.9568e-08, 1.3363e-06, 2.4096e-07, 1.0407e-07,\n",
       "                       5.9253e-08, 1.0628e-07, 6.2328e-07, 3.8037e-08, 1.4890e-08, 1.1961e-07, 2.7389e-08, 2.7591e-07, 4.4994e-07, 6.6675e-07, 1.0537e-07,\n",
       "                       2.9050e-06, 9.0362e-07, 1.0975e-07, 2.6945e-08, 8.0265e-07, 1.4135e-07, 3.5966e-08, 1.6943e-08, 2.4405e-07, 3.4615e-07, 1.5741e-07,\n",
       "                       3.9252e-08, 5.8834e-08, 1.1142e-07, 2.1542e-07, 3.4701e-07, 5.3810e-07, 1.1286e-06], device='cuda:0')},\n",
       "              Parameter containing:\n",
       "              tensor([[ 1.4725e-01,  4.1326e-02,  2.4618e-02,  ..., -3.5317e-02,  1.7548e-01,  4.0134e-02],\n",
       "                      [ 2.0494e-01, -2.3314e-01, -8.0202e-02,  ..., -7.9601e-01, -9.4687e-01, -3.9003e-01],\n",
       "                      [ 1.3205e-01, -7.6291e-01, -4.7037e-01,  ...,  6.0583e-03, -2.3099e-01,  9.9793e-02],\n",
       "                      ...,\n",
       "                      [-3.3485e-02,  6.4864e-02,  6.6421e-02,  ...,  3.7246e-04,  1.1095e-01, -1.6223e-01],\n",
       "                      [-3.9236e-01,  8.4246e-02, -6.6927e-02,  ..., -8.2452e-03, -1.0011e-02, -1.4936e-01],\n",
       "                      [-4.7426e-02, -1.6152e-01,  4.0321e-04,  ..., -1.4924e+00,  2.1943e-01, -2.5815e-01]], device='cuda:0', requires_grad=True): {'step': tensor(240000.),\n",
       "               'exp_avg': tensor([[-2.8535e-04,  2.2001e-05, -6.8095e-06,  ...,  1.3423e-04,  2.6005e-05, -9.5982e-05],\n",
       "                       [ 7.6569e-07,  2.5942e-06,  1.3113e-40,  ..., -5.8862e-10, -7.7430e-30,  1.1046e-07],\n",
       "                       [ 4.5227e-05, -8.2925e-08, -5.6052e-45,  ...,  4.1916e-05, -1.6316e-06, -3.4372e-05],\n",
       "                       ...,\n",
       "                       [ 1.0643e-04,  1.4958e-04, -3.9439e-05,  ..., -2.2456e-05,  1.3373e-04,  1.0028e-04],\n",
       "                       [ 5.6052e-45, -5.6052e-45,  5.6052e-45,  ...,  5.6052e-45,  5.6052e-45,  5.6052e-45],\n",
       "                       [-4.0957e-05, -2.7110e-07, -3.8538e-05,  ...,  2.8984e-12, -6.6077e-05, -1.1354e-05]], device='cuda:0'),\n",
       "               'exp_avg_sq': tensor([[2.5052e-06, 6.0344e-08, 7.7562e-09,  ..., 4.4195e-07, 4.1998e-08, 2.9470e-06],\n",
       "                       [3.8966e-08, 1.0347e-08, 5.8458e-12,  ..., 1.2387e-11, 2.5989e-12, 1.7038e-09],\n",
       "                       [2.9503e-07, 1.1169e-10, 4.5556e-41,  ..., 3.4486e-07, 5.1670e-10, 3.3627e-07],\n",
       "                       ...,\n",
       "                       [9.1540e-07, 1.8827e-07, 5.1725e-08,  ..., 7.0658e-08, 4.2774e-07, 7.5275e-07],\n",
       "                       [7.0065e-43, 7.0065e-43, 7.0065e-43,  ..., 7.0065e-43, 7.0065e-43, 7.0065e-43],\n",
       "                       [1.3964e-08, 1.3449e-09, 2.4558e-09,  ..., 4.5377e-13, 1.4321e-08, 5.0283e-09]], device='cuda:0')},\n",
       "              Parameter containing:\n",
       "              tensor([-0.3635, -0.0572, -0.2695,  ..., -0.0458, -0.1580,  0.1069], device='cuda:0', requires_grad=True): {'step': tensor(240000.),\n",
       "               'exp_avg': tensor([-2.6289e-05,  2.7262e-07,  1.8537e-05,  ...,  5.9019e-05,  5.6052e-45, -3.6487e-05], device='cuda:0'),\n",
       "               'exp_avg_sq': tensor([1.8248e-07, 1.5226e-09, 2.6829e-08,  ..., 1.6539e-07, 7.0065e-43, 5.7209e-09], device='cuda:0')},\n",
       "              Parameter containing:\n",
       "              tensor([[ 0.0123, -0.0019, -0.0905,  ..., -0.0206,  0.0730,  0.0777],\n",
       "                      [-0.0150, -0.0178, -0.0731,  ..., -0.0176, -0.0680,  0.0744],\n",
       "                      [ 0.1383,  0.0921, -0.0056,  ...,  0.0049,  0.0281, -0.0898],\n",
       "                      ...,\n",
       "                      [-0.1342, -0.1131,  0.1539,  ..., -0.1043, -0.0456,  0.0509],\n",
       "                      [-0.0606,  0.0460, -0.1814,  ..., -0.2752, -0.0447,  0.0875],\n",
       "                      [-0.0976, -0.2055,  0.0579,  ..., -0.1687, -0.0236,  0.1601]], device='cuda:0', requires_grad=True): {'step': tensor(240000.),\n",
       "               'exp_avg': tensor([[-2.7383e-05, -4.6516e-08, -4.6988e-06,  ..., -1.7165e-05,  5.6052e-45,  6.2176e-07],\n",
       "                       [-3.1946e-05, -8.1031e-09, -5.1112e-06,  ..., -1.9328e-05, -5.6052e-45,  6.7537e-07],\n",
       "                       [-4.0421e-06, -1.5266e-07, -3.0011e-06,  ..., -3.6071e-05,  5.6052e-45, -9.1564e-07],\n",
       "                       ...,\n",
       "                       [-1.3264e-05, -2.3004e-07, -3.0969e-06,  ..., -4.2228e-06,  5.6052e-45, -1.0766e-07],\n",
       "                       [-7.8310e-06,  1.9044e-09,  4.0653e-06,  ..., -2.6153e-06,  5.6052e-45, -7.8467e-08],\n",
       "                       [ 7.4217e-06, -1.5096e-07, -2.2668e-06,  ..., -2.0796e-06,  5.6052e-45, -2.3378e-08]], device='cuda:0'),\n",
       "               'exp_avg_sq': tensor([[4.1571e-09, 3.0130e-10, 8.9990e-10,  ..., 3.6855e-09, 7.0065e-43, 1.7578e-11],\n",
       "                       [4.6397e-09, 2.8916e-10, 9.8974e-10,  ..., 3.9628e-09, 7.0065e-43, 2.0350e-11],\n",
       "                       [4.2280e-09, 5.2401e-10, 7.7741e-10,  ..., 3.5537e-09, 7.0065e-43, 1.8453e-11],\n",
       "                       ...,\n",
       "                       [2.1665e-09, 4.1425e-10, 4.3024e-10,  ..., 7.2260e-10, 7.0065e-43, 5.4305e-12],\n",
       "                       [2.3323e-09, 4.2705e-10, 6.0749e-10,  ..., 5.1466e-10, 7.0065e-43, 1.6068e-11],\n",
       "                       [1.6943e-09, 1.5646e-10, 5.2867e-10,  ..., 1.0950e-09, 7.0065e-43, 8.0321e-12]], device='cuda:0')},\n",
       "              Parameter containing:\n",
       "              tensor([-0.0021,  0.0113,  0.0086,  ...,  0.0377, -0.0409, -0.0154], device='cuda:0', requires_grad=True): {'step': tensor(240000.),\n",
       "               'exp_avg': tensor([ 1.3203e-05,  1.1749e-05, -1.8198e-06,  ...,  9.0219e-06, -3.9674e-05, -1.0744e-05], device='cuda:0'),\n",
       "               'exp_avg_sq': tensor([2.1634e-08, 2.3318e-08, 2.1632e-08,  ..., 7.1089e-09, 6.3569e-09, 4.1302e-09], device='cuda:0')}}),\n",
       " 'param_groups': [{'params': [Parameter containing:\n",
       "    tensor([[-0.1078,  0.0057, -0.0510,  ...,  0.0594,  0.1069,  0.0640],\n",
       "            [-0.1145, -0.1986, -0.1407,  ...,  0.1411,  0.3946, -0.0203],\n",
       "            [-0.0556,  0.0700,  0.0775,  ..., -0.0425,  0.1645,  0.0141],\n",
       "            ...,\n",
       "            [ 0.0297,  0.0965,  0.0427,  ...,  0.1891,  0.0252, -0.1212],\n",
       "            [-0.0689,  0.1369,  0.0458,  ...,  0.0924,  0.0807,  0.0542],\n",
       "            [-0.0871,  0.0142, -0.0709,  ..., -0.0739, -0.0889, -0.1526]], device='cuda:0', requires_grad=True),\n",
       "    Parameter containing:\n",
       "    tensor([-2.6083, -1.6234, -2.3270,  ..., -1.2054, -4.1348, -3.7027], device='cuda:0', requires_grad=True),\n",
       "    Parameter containing:\n",
       "    tensor([[-0.0585, -0.0499, -0.0490,  ..., -0.0123, -0.0085, -0.0108],\n",
       "            [-0.0298,  0.0174,  0.0200,  ...,  0.0863, -0.0133, -0.0317],\n",
       "            [-0.1589,  0.0545,  0.0695,  ...,  0.2163, -0.0639, -0.0336],\n",
       "            ...,\n",
       "            [-0.0618,  0.0086, -0.0609,  ..., -0.0209, -0.1041, -0.0116],\n",
       "            [-0.0516, -0.0895, -0.0351,  ..., -0.0462, -0.0006,  0.0634],\n",
       "            [-0.0728, -0.0013, -0.0301,  ...,  0.0609, -0.0105,  0.0721]], device='cuda:0', requires_grad=True),\n",
       "    Parameter containing:\n",
       "    tensor([-4.1346e-02, -4.6732e-02,  1.3034e-01,  9.5354e-01, -5.1716e-03,  7.4185e-01, -1.4823e-02,  6.7635e-01,  4.2226e-01, -2.6690e-02, -4.6281e-02,\n",
       "            -6.9546e-02, -3.9666e-02,  1.5906e-03, -4.9037e-02, -2.8808e-03, -2.1215e-02, -5.1279e-02, -4.3551e-02,  9.5043e-01, -6.4192e-02, -4.7493e-02,\n",
       "            -1.6397e-02, -4.9764e-02, -1.4023e-02,  9.7904e-01,  3.6835e-03, -3.2016e-02, -3.4855e-03, -5.3303e-02, -2.8045e-02,  9.2167e-01, -7.6281e-03,\n",
       "            -1.2375e-02, -2.5168e-02, -6.1600e-02, -9.6917e-03, -3.2785e-02,  1.6762e-02, -4.1967e-02, -5.7566e-02, -4.8947e-02, -1.9970e-02, -3.0012e-02,\n",
       "            -2.1113e-02, -1.4303e-02, -5.5396e-02, -3.3511e-02, -3.7957e-02, -5.7972e-02, -1.4470e-02, -5.2667e-02, -5.1940e-02, -6.4320e-02, -5.5680e-02,\n",
       "            -4.4308e-04, -6.1811e-02, -1.2564e-02,  2.4981e-03, -7.9893e-02, -5.1480e-02, -2.7381e-02, -4.4340e-02, -1.4545e-02, -6.1861e-03, -4.9925e-02,\n",
       "            -9.1311e-03, -3.0006e-02, -3.7487e-02, -2.2331e-03, -5.3257e-02, -3.9483e-02, -2.5807e-02, -6.1037e-03, -5.7004e-02, -3.2836e-02, -6.4135e-02,\n",
       "            -4.5986e-02, -4.2333e-02, -4.7635e-02, -3.8774e-02, -1.1191e-02, -8.4366e-02, -7.5790e-02,  6.2013e-01, -4.7983e-02, -1.8562e-02, -3.8863e-02,\n",
       "            -4.0975e-02, -2.4992e-02, -7.3680e-03,  8.1199e-01, -6.6664e-02, -7.6809e-03, -1.5350e-02, -7.3458e-02, -1.2865e-02, -2.4795e-02, -2.1017e-02,\n",
       "            -7.6980e-02, -2.9391e-03, -4.9644e-02, -3.8106e-02, -5.4227e-02, -7.7392e-03, -6.9569e-02, -1.0184e-02,  1.1970e+00, -6.4855e-02, -8.8541e-03,\n",
       "            -3.0597e-02, -3.0563e-02, -3.6944e-02, -2.6592e-02,  9.2349e-01, -3.8804e-02, -3.4231e-02, -8.9438e-02, -7.6441e-02, -2.7899e-02, -1.8159e-02,\n",
       "            -2.1492e-02, -6.1736e-02, -3.7926e-02, -4.7563e-02, -4.2806e-02, -6.3255e-02, -8.6160e-02], device='cuda:0', requires_grad=True),\n",
       "    Parameter containing:\n",
       "    tensor([[-5.9284e-02,  1.0086e-01, -1.2783e-03,  ..., -2.8393e-02, -5.0069e-02,  1.8530e-02],\n",
       "            [ 1.7449e-01,  1.4589e-01, -6.6271e-04,  ..., -1.3368e-01, -1.3010e-01, -7.2853e-02],\n",
       "            [-1.7176e-02, -5.6075e-02, -1.7613e-02,  ..., -6.6289e-03, -1.4032e-02,  5.0868e-02],\n",
       "            ...,\n",
       "            [-2.2762e-01, -2.0553e-02,  2.3444e-02,  ..., -2.7487e-01, -4.1617e-01, -2.4626e-04],\n",
       "            [ 2.1888e-03, -1.4009e-01, -3.4233e-02,  ...,  1.0153e-04,  1.3162e-02, -1.3309e-02],\n",
       "            [ 6.9819e-02, -6.5424e-02, -6.7195e-02,  ...,  2.9827e-01,  2.9720e-02,  4.0783e-02]], device='cuda:0', requires_grad=True),\n",
       "    Parameter containing:\n",
       "    tensor([ 6.6747e-03,  4.1395e-02,  8.5011e-01,  9.8303e-03,  2.7939e-01, -1.3022e+00,  2.0312e-03,  7.7797e-03, -1.1620e-02,  3.6228e-01, -6.9205e-01,\n",
       "             2.1267e-03,  7.3984e-02,  8.6386e-03, -8.7413e-03,  5.6880e-01, -9.3038e-03, -1.2129e-02, -6.8503e-01,  1.0068e-02, -5.3690e-01, -4.1892e-01,\n",
       "             4.9152e-02,  3.4367e-01, -2.5430e-02, -8.1798e-01, -5.4855e-01, -7.2081e-02, -3.1789e-03, -1.1247e+00, -1.6351e-03, -9.6328e-01, -6.7145e-03,\n",
       "            -8.5623e-01,  1.2722e-02, -3.1084e-01,  2.0093e-02, -1.4566e-01,  1.6808e-02, -3.9503e-01,  1.5052e+00,  8.2579e-03,  8.6099e-01, -8.0212e-01,\n",
       "             6.8023e-01, -1.3497e-04, -2.5418e-02,  3.2970e-01,  1.0337e+00, -4.7063e-01], device='cuda:0', requires_grad=True),\n",
       "    Parameter containing:\n",
       "    tensor([[ 0.0045, -0.0031, -0.0121,  ..., -0.0212,  0.0380,  0.1879],\n",
       "            [ 0.0041, -0.0343, -0.0101,  ..., -0.0936, -0.0783, -0.1153],\n",
       "            [-0.0094,  0.0134, -0.0182,  ...,  0.2155,  0.0282, -0.0824],\n",
       "            ...,\n",
       "            [-0.0090,  0.0031,  0.0446,  ..., -0.0522,  0.1956,  0.0542],\n",
       "            [ 0.0101, -0.0076,  0.0441,  ...,  0.0167,  0.0833, -0.0348],\n",
       "            [ 0.0039, -0.0060, -0.0139,  ..., -0.0423,  0.0299,  0.1766]], device='cuda:0', requires_grad=True),\n",
       "    Parameter containing:\n",
       "    tensor([ 3.8146e-01, -2.3371e-01, -2.0675e-01, -1.0077e+00,  5.0010e-01, -2.1973e+00, -5.6404e-01, -1.7853e+00, -1.1300e+00,  4.3959e-01, -4.2680e-02,\n",
       "             8.2444e-02,  8.7154e-02,  2.9796e-01,  1.5125e-01,  6.6664e-01, -1.7907e-01, -3.5804e-01, -1.6734e-01, -9.1776e-01,  5.0893e-02, -1.8174e+00,\n",
       "             5.0650e-02, -1.6705e+00, -1.2035e-01, -5.8187e-01, -1.2935e-02, -1.0884e+00,  5.2122e-01,  8.0962e-01, -1.1520e+00, -4.6269e-01,  2.3489e-02,\n",
       "             8.6249e-01, -1.7418e+00, -1.0097e+00, -2.1910e+00,  1.8542e-01,  8.3749e-01, -1.3757e-01, -5.2327e-01,  1.9650e-01, -7.4970e-01,  4.8057e-01,\n",
       "            -1.8528e+00, -2.0163e-02,  5.3599e-01, -6.5908e-02, -3.5720e-01, -3.6618e-01, -7.7278e-01,  1.9081e-03,  6.1085e-02,  3.5360e-02,  6.4822e-02,\n",
       "            -7.7371e-01, -1.3642e-01,  9.7930e-02,  2.5288e-01, -6.5584e-02,  9.1867e-02, -4.1703e-01, -8.4000e-01, -1.0684e+00,  6.8325e-01,  2.8121e-01,\n",
       "             2.4822e-01,  2.0088e-01, -1.0821e+00, -4.8190e-02, -1.6870e+00, -2.8806e-01, -6.0443e-01, -2.6267e-01, -2.1630e+00,  7.3301e-02, -3.3537e-01,\n",
       "            -3.9229e-01, -7.6511e-01,  2.7189e-01,  3.5060e-01, -6.2128e-02, -6.6449e-01, -7.1450e-01, -1.1578e+00, -1.0198e+00, -8.2133e-02,  4.0916e-01,\n",
       "            -9.7280e-04, -1.5163e+00,  2.1871e-01, -5.1417e-01,  4.1912e-01,  3.0151e-01,  1.1269e-01, -4.4577e-01,  6.2556e-01,  2.6087e-01, -7.8712e-01,\n",
       "            -7.1081e-02, -1.1269e-01,  1.5770e-01, -4.6828e-01, -8.6612e-01, -5.9756e-02, -1.9398e-01, -1.6327e-01,  4.3845e-01,  2.8758e-01, -6.3707e-01,\n",
       "             6.9976e-01,  1.2046e-01, -8.9317e-01, -9.5010e-01,  9.7873e-01,  2.5462e-01, -2.1288e-01, -2.0446e+00,  4.2078e-01, -4.6216e-01, -1.3395e+00,\n",
       "            -4.3505e-01, -1.4694e+00,  3.9489e-02,  2.6754e-01, -3.2074e-01,  1.3654e+00,  1.0435e+00], device='cuda:0', requires_grad=True),\n",
       "    Parameter containing:\n",
       "    tensor([[ 1.4725e-01,  4.1326e-02,  2.4618e-02,  ..., -3.5317e-02,  1.7548e-01,  4.0134e-02],\n",
       "            [ 2.0494e-01, -2.3314e-01, -8.0202e-02,  ..., -7.9601e-01, -9.4687e-01, -3.9003e-01],\n",
       "            [ 1.3205e-01, -7.6291e-01, -4.7037e-01,  ...,  6.0583e-03, -2.3099e-01,  9.9793e-02],\n",
       "            ...,\n",
       "            [-3.3485e-02,  6.4864e-02,  6.6421e-02,  ...,  3.7246e-04,  1.1095e-01, -1.6223e-01],\n",
       "            [-3.9236e-01,  8.4246e-02, -6.6927e-02,  ..., -8.2452e-03, -1.0011e-02, -1.4936e-01],\n",
       "            [-4.7426e-02, -1.6152e-01,  4.0321e-04,  ..., -1.4924e+00,  2.1943e-01, -2.5815e-01]], device='cuda:0', requires_grad=True),\n",
       "    Parameter containing:\n",
       "    tensor([-0.3635, -0.0572, -0.2695,  ..., -0.0458, -0.1580,  0.1069], device='cuda:0', requires_grad=True),\n",
       "    Parameter containing:\n",
       "    tensor([[ 0.0123, -0.0019, -0.0905,  ..., -0.0206,  0.0730,  0.0777],\n",
       "            [-0.0150, -0.0178, -0.0731,  ..., -0.0176, -0.0680,  0.0744],\n",
       "            [ 0.1383,  0.0921, -0.0056,  ...,  0.0049,  0.0281, -0.0898],\n",
       "            ...,\n",
       "            [-0.1342, -0.1131,  0.1539,  ..., -0.1043, -0.0456,  0.0509],\n",
       "            [-0.0606,  0.0460, -0.1814,  ..., -0.2752, -0.0447,  0.0875],\n",
       "            [-0.0976, -0.2055,  0.0579,  ..., -0.1687, -0.0236,  0.1601]], device='cuda:0', requires_grad=True),\n",
       "    Parameter containing:\n",
       "    tensor([-0.0021,  0.0113,  0.0086,  ...,  0.0377, -0.0409, -0.0154], device='cuda:0', requires_grad=True)],\n",
       "   'lr': 1.5625e-05,\n",
       "   'betas': (0.9, 0.999),\n",
       "   'eps': 1e-08,\n",
       "   'weight_decay': 0,\n",
       "   'amsgrad': False,\n",
       "   'maximize': False,\n",
       "   'foreach': None,\n",
       "   'capturable': False,\n",
       "   'differentiable': False,\n",
       "   'fused': None}],\n",
       " '_optimizer_step_pre_hooks': OrderedDict(),\n",
       " '_optimizer_step_post_hooks': OrderedDict(),\n",
       " '_optimizer_state_dict_pre_hooks': OrderedDict(),\n",
       " '_optimizer_state_dict_post_hooks': OrderedDict(),\n",
       " '_optimizer_load_state_dict_pre_hooks': OrderedDict(),\n",
       " '_optimizer_load_state_dict_post_hooks': OrderedDict(),\n",
       " '_zero_grad_profile_name': 'Optimizer.zero_grad#Adam.zero_grad'}"
      ]
     },
     "execution_count": 95,
     "metadata": {},
     "output_type": "execute_result"
    }
   ],
   "source": [
    "print()\n",
    "model.optimizer.__dict__"
   ]
  },
  {
   "cell_type": "markdown",
   "id": "28fea041-4475-4cfd-afd4-3f66dd0eae3f",
   "metadata": {
    "jp-MarkdownHeadingCollapsed": true
   },
   "source": [
    "#### temp_optimizers before"
   ]
  },
  {
   "cell_type": "code",
   "execution_count": 84,
   "id": "ef4cd5bc-3bb2-4450-a457-7a2da7e690c7",
   "metadata": {
    "execution": {
     "iopub.execute_input": "2024-05-09T09:24:47.153472Z",
     "iopub.status.busy": "2024-05-09T09:24:47.152866Z",
     "iopub.status.idle": "2024-05-09T09:24:47.199699Z",
     "shell.execute_reply": "2024-05-09T09:24:47.199043Z",
     "shell.execute_reply.started": "2024-05-09T09:24:47.153427Z"
    }
   },
   "outputs": [
    {
     "name": "stdout",
     "output_type": "stream",
     "text": [
      "\n"
     ]
    },
    {
     "data": {
      "text/plain": [
       "{'defaults': {'lr': 0.01,\n",
       "  'momentum': 0.9,\n",
       "  'dampening': 0,\n",
       "  'weight_decay': 0,\n",
       "  'nesterov': False,\n",
       "  'maximize': False,\n",
       "  'foreach': None,\n",
       "  'differentiable': False},\n",
       " '_optimizer_step_pre_hooks': OrderedDict(),\n",
       " '_optimizer_step_post_hooks': OrderedDict(),\n",
       " '_optimizer_state_dict_pre_hooks': OrderedDict(),\n",
       " '_optimizer_state_dict_post_hooks': OrderedDict(),\n",
       " '_optimizer_load_state_dict_pre_hooks': OrderedDict(),\n",
       " '_optimizer_load_state_dict_post_hooks': OrderedDict(),\n",
       " '_zero_grad_profile_name': 'Optimizer.zero_grad#SGD.zero_grad',\n",
       " 'state': defaultdict(dict, {}),\n",
       " 'param_groups': [{'params': [Parameter containing:\n",
       "    tensor([50.], device='cuda:0', requires_grad=True)],\n",
       "   'lr': 0.01,\n",
       "   'momentum': 0.9,\n",
       "   'dampening': 0,\n",
       "   'weight_decay': 0,\n",
       "   'nesterov': False,\n",
       "   'maximize': False,\n",
       "   'foreach': None,\n",
       "   'differentiable': False}],\n",
       " '_warned_capturable_if_run_uncaptured': True}"
      ]
     },
     "execution_count": 84,
     "metadata": {},
     "output_type": "execute_result"
    }
   ],
   "source": [
    "print()\n",
    "model.temp_optimizer.__dict__"
   ]
  },
  {
   "cell_type": "code",
   "execution_count": 77,
   "id": "7cb583de-83e9-48c9-b298-7decaab41bfd",
   "metadata": {
    "execution": {
     "iopub.execute_input": "2024-05-09T09:23:22.548513Z",
     "iopub.status.busy": "2024-05-09T09:23:22.548010Z",
     "iopub.status.idle": "2024-05-09T09:23:22.884561Z",
     "shell.execute_reply": "2024-05-09T09:23:22.883989Z",
     "shell.execute_reply.started": "2024-05-09T09:23:22.548470Z"
    }
   },
   "outputs": [
    {
     "name": "stdout",
     "output_type": "stream",
     "text": [
      "\n"
     ]
    },
    {
     "data": {
      "text/plain": [
       "{'defaults': {'lr': 0.001,\n",
       "  'betas': (0.9, 0.999),\n",
       "  'eps': 1e-08,\n",
       "  'weight_decay': 0,\n",
       "  'amsgrad': False,\n",
       "  'maximize': False,\n",
       "  'foreach': None,\n",
       "  'capturable': False,\n",
       "  'differentiable': False,\n",
       "  'fused': None},\n",
       " 'state': defaultdict(dict,\n",
       "             {Parameter containing:\n",
       "              tensor([[-0.1078,  0.0057, -0.0510,  ...,  0.0594,  0.1069,  0.0640],\n",
       "                      [-0.1145, -0.1986, -0.1407,  ...,  0.1411,  0.3946, -0.0203],\n",
       "                      [-0.0556,  0.0700,  0.0775,  ..., -0.0425,  0.1645,  0.0141],\n",
       "                      ...,\n",
       "                      [ 0.0297,  0.0965,  0.0427,  ...,  0.1891,  0.0252, -0.1212],\n",
       "                      [-0.0689,  0.1369,  0.0458,  ...,  0.0924,  0.0807,  0.0542],\n",
       "                      [-0.0871,  0.0142, -0.0709,  ..., -0.0739, -0.0889, -0.1526]], device='cuda:0', requires_grad=True): {'step': tensor(240000.),\n",
       "               'exp_avg': tensor([[-1.3501e-05, -1.5283e-05, -3.0307e-06,  ...,  6.1780e-06,  6.1375e-06,  1.1497e-05],\n",
       "                       [-6.4877e-06, -6.8586e-06,  7.3484e-07,  ..., -1.4690e-06,  1.3423e-06, -3.1268e-06],\n",
       "                       [ 1.0148e-06, -1.2726e-07, -4.4320e-07,  ..., -1.7136e-06,  3.5418e-06, -1.9978e-06],\n",
       "                       ...,\n",
       "                       [ 7.1106e-06,  7.5623e-06,  1.0363e-06,  ..., -1.3558e-06, -6.6414e-06, -2.8488e-06],\n",
       "                       [ 2.8404e-06,  3.7322e-06,  6.6343e-06,  ...,  1.9025e-07, -2.0393e-07,  1.6097e-06],\n",
       "                       [-2.2063e-06, -1.7113e-06,  1.2839e-06,  ...,  4.2642e-06, -1.0390e-06, -3.8284e-06]], device='cuda:0'),\n",
       "               'exp_avg_sq': tensor([[7.7768e-10, 8.5185e-10, 9.1307e-10,  ..., 4.1239e-10, 3.5421e-10, 4.6772e-10],\n",
       "                       [1.8973e-10, 2.0131e-10, 2.2733e-10,  ..., 1.3006e-10, 1.7858e-10, 1.5722e-10],\n",
       "                       [2.4977e-10, 2.6609e-10, 2.7429e-10,  ..., 3.2993e-10, 4.8119e-10, 3.9199e-10],\n",
       "                       ...,\n",
       "                       [2.4717e-10, 2.6620e-10, 2.6343e-10,  ..., 1.8591e-10, 1.5411e-10, 1.8230e-10],\n",
       "                       [3.0316e-10, 3.1819e-10, 2.8932e-10,  ..., 2.0958e-10, 1.4773e-10, 1.8856e-10],\n",
       "                       [1.8626e-10, 1.8074e-10, 1.7851e-10,  ..., 1.7672e-10, 1.7552e-10, 1.4090e-10]], device='cuda:0')},\n",
       "              Parameter containing:\n",
       "              tensor([-2.6083, -1.6234, -2.3270,  ..., -1.2054, -4.1348, -3.7027], device='cuda:0', requires_grad=True): {'step': tensor(240000.),\n",
       "               'exp_avg': tensor([-1.8387e-06,  2.7556e-06, -4.9758e-07,  ...,  6.7260e-06, -4.8477e-07,  6.9789e-06], device='cuda:0'),\n",
       "               'exp_avg_sq': tensor([1.0151e-09, 3.0659e-10, 3.4517e-10,  ..., 6.3297e-10, 4.0347e-10, 2.4584e-10], device='cuda:0')},\n",
       "              Parameter containing:\n",
       "              tensor([[-0.0585, -0.0499, -0.0490,  ..., -0.0123, -0.0085, -0.0108],\n",
       "                      [-0.0298,  0.0174,  0.0200,  ...,  0.0863, -0.0133, -0.0317],\n",
       "                      [-0.1589,  0.0545,  0.0695,  ...,  0.2163, -0.0639, -0.0336],\n",
       "                      ...,\n",
       "                      [-0.0618,  0.0086, -0.0609,  ..., -0.0209, -0.1041, -0.0116],\n",
       "                      [-0.0516, -0.0895, -0.0351,  ..., -0.0462, -0.0006,  0.0634],\n",
       "                      [-0.0728, -0.0013, -0.0301,  ...,  0.0609, -0.0105,  0.0721]], device='cuda:0', requires_grad=True): {'step': tensor(240000.),\n",
       "               'exp_avg': tensor([[-5.6052e-45, -5.6052e-45,  5.6052e-45,  ..., -5.6052e-45, -5.6052e-45,  5.6052e-45],\n",
       "                       [-5.6052e-45,  5.6052e-45,  5.6052e-45,  ...,  5.6052e-45, -5.6052e-45,  5.6052e-45],\n",
       "                       [ 5.6213e-05,  4.5499e-05,  1.4266e-04,  ..., -4.1169e-05,  1.2174e-04,  6.0293e-05],\n",
       "                       ...,\n",
       "                       [ 5.6052e-45, -5.6052e-45,  5.6052e-45,  ...,  5.6052e-45,  5.6052e-45,  5.6052e-45],\n",
       "                       [ 5.6052e-45,  5.6052e-45,  5.6052e-45,  ...,  5.6052e-45,  5.6052e-45,  5.6052e-45],\n",
       "                       [-5.6052e-45,  5.6052e-45,  5.6052e-45,  ...,  5.6052e-45, -5.6052e-45, -5.6052e-45]], device='cuda:0'),\n",
       "               'exp_avg_sq': tensor([[7.0065e-43, 7.0065e-43, 7.0065e-43,  ..., 7.0065e-43, 7.0065e-43, 7.0065e-43],\n",
       "                       [7.0065e-43, 7.0065e-43, 7.0065e-43,  ..., 7.0065e-43, 7.0065e-43, 7.0065e-43],\n",
       "                       [1.7881e-07, 3.1813e-07, 6.3082e-07,  ..., 6.5320e-07, 1.8788e-07, 4.6450e-07],\n",
       "                       ...,\n",
       "                       [7.0065e-43, 7.0065e-43, 7.0065e-43,  ..., 7.0065e-43, 7.0065e-43, 7.0065e-43],\n",
       "                       [7.0065e-43, 7.0065e-43, 7.0065e-43,  ..., 7.0065e-43, 7.0065e-43, 7.0065e-43],\n",
       "                       [7.0065e-43, 7.0065e-43, 7.0065e-43,  ..., 7.0065e-43, 7.0065e-43, 7.0065e-43]], device='cuda:0')},\n",
       "              Parameter containing:\n",
       "              tensor([-4.1346e-02, -4.6732e-02,  1.3034e-01,  9.5354e-01, -5.1716e-03,  7.4185e-01, -1.4823e-02,  6.7635e-01,  4.2226e-01, -2.6690e-02, -4.6281e-02,\n",
       "                      -6.9546e-02, -3.9666e-02,  1.5906e-03, -4.9037e-02, -2.8808e-03, -2.1215e-02, -5.1279e-02, -4.3551e-02,  9.5043e-01, -6.4192e-02, -4.7493e-02,\n",
       "                      -1.6397e-02, -4.9764e-02, -1.4023e-02,  9.7904e-01,  3.6835e-03, -3.2016e-02, -3.4855e-03, -5.3303e-02, -2.8045e-02,  9.2167e-01, -7.6281e-03,\n",
       "                      -1.2375e-02, -2.5168e-02, -6.1600e-02, -9.6917e-03, -3.2785e-02,  1.6762e-02, -4.1967e-02, -5.7566e-02, -4.8947e-02, -1.9970e-02, -3.0012e-02,\n",
       "                      -2.1113e-02, -1.4303e-02, -5.5396e-02, -3.3511e-02, -3.7957e-02, -5.7972e-02, -1.4470e-02, -5.2667e-02, -5.1940e-02, -6.4320e-02, -5.5680e-02,\n",
       "                      -4.4308e-04, -6.1811e-02, -1.2564e-02,  2.4981e-03, -7.9893e-02, -5.1480e-02, -2.7381e-02, -4.4340e-02, -1.4545e-02, -6.1861e-03, -4.9925e-02,\n",
       "                      -9.1311e-03, -3.0006e-02, -3.7487e-02, -2.2331e-03, -5.3257e-02, -3.9483e-02, -2.5807e-02, -6.1037e-03, -5.7004e-02, -3.2836e-02, -6.4135e-02,\n",
       "                      -4.5986e-02, -4.2333e-02, -4.7635e-02, -3.8774e-02, -1.1191e-02, -8.4366e-02, -7.5790e-02,  6.2013e-01, -4.7983e-02, -1.8562e-02, -3.8863e-02,\n",
       "                      -4.0975e-02, -2.4992e-02, -7.3680e-03,  8.1199e-01, -6.6664e-02, -7.6809e-03, -1.5350e-02, -7.3458e-02, -1.2865e-02, -2.4795e-02, -2.1017e-02,\n",
       "                      -7.6980e-02, -2.9391e-03, -4.9644e-02, -3.8106e-02, -5.4227e-02, -7.7392e-03, -6.9569e-02, -1.0184e-02,  1.1970e+00, -6.4855e-02, -8.8541e-03,\n",
       "                      -3.0597e-02, -3.0563e-02, -3.6944e-02, -2.6592e-02,  9.2349e-01, -3.8804e-02, -3.4231e-02, -8.9438e-02, -7.6441e-02, -2.7899e-02, -1.8159e-02,\n",
       "                      -2.1492e-02, -6.1736e-02, -3.7926e-02, -4.7563e-02, -4.2806e-02, -6.3255e-02, -8.6160e-02], device='cuda:0', requires_grad=True): {'step': tensor(240000.),\n",
       "               'exp_avg': tensor([ 5.6052e-45,  5.6052e-45,  3.0947e-05,  1.8495e-05,  5.6052e-45,  2.7685e-05,  5.6052e-45,  4.8522e-05, -8.9256e-06,  5.6052e-45,  5.6052e-45,\n",
       "                        5.6052e-45,  5.6052e-45,  5.6052e-45,  5.6052e-45,  5.6052e-45,  5.6052e-45,  5.6052e-45,  5.6052e-45, -7.5533e-05,  5.6052e-45,  5.6052e-45,\n",
       "                        5.6052e-45,  5.6052e-45,  5.6052e-45,  3.8766e-07,  5.6052e-45,  5.6052e-45,  5.6052e-45,  5.6052e-45,  5.6052e-45, -5.4324e-07,  5.6052e-45,\n",
       "                        5.6052e-45,  5.6052e-45,  5.6052e-45,  5.6052e-45,  5.6052e-45,  5.6052e-45,  5.6052e-45,  5.6052e-45,  5.6052e-45,  5.6052e-45,  5.6052e-45,\n",
       "                        5.6052e-45,  5.6052e-45,  5.6052e-45,  5.6052e-45,  5.6052e-45,  5.6052e-45,  5.6052e-45,  5.6052e-45,  5.6052e-45,  5.6052e-45,  5.6052e-45,\n",
       "                        5.6052e-45,  5.6052e-45,  5.6052e-45,  5.6052e-45,  5.6052e-45,  5.6052e-45,  5.6052e-45,  5.6052e-45,  5.6052e-45,  5.6052e-45,  5.6052e-45,\n",
       "                        5.6052e-45,  5.6052e-45,  5.6052e-45,  5.6052e-45,  5.6052e-45,  5.6052e-45,  5.6052e-45,  5.6052e-45,  5.6052e-45,  5.6052e-45,  5.6052e-45,\n",
       "                        5.6052e-45,  5.6052e-45,  5.6052e-45,  5.6052e-45,  5.6052e-45,  5.6052e-45,  5.6052e-45, -7.3385e-05,  5.6052e-45,  5.6052e-45,  5.6052e-45,\n",
       "                        5.6052e-45,  5.6052e-45,  5.6052e-45,  1.0125e-04,  5.6052e-45,  5.6052e-45,  5.6052e-45,  5.6052e-45,  5.6052e-45,  5.6052e-45,  5.6052e-45,\n",
       "                        5.6052e-45,  5.6052e-45,  5.6052e-45,  5.6052e-45,  5.6052e-45,  5.6052e-45,  5.6052e-45,  5.6052e-45, -3.3923e-05,  5.6052e-45,  5.6052e-45,\n",
       "                        5.6052e-45,  5.6052e-45,  5.6052e-45,  5.6052e-45,  3.8922e-05,  5.6052e-45,  5.6052e-45,  5.6052e-45,  5.6052e-45,  5.6052e-45,  5.6052e-45,\n",
       "                        5.6052e-45,  5.6052e-45,  5.6052e-45,  5.6052e-45,  5.6052e-45,  5.6052e-45,  5.6052e-45], device='cuda:0'),\n",
       "               'exp_avg_sq': tensor([7.0065e-43, 7.0065e-43, 2.9506e-08, 3.8629e-08, 7.0065e-43, 6.2398e-08, 7.0065e-43, 3.3283e-08, 3.7462e-08, 7.0065e-43, 7.0065e-43,\n",
       "                       7.0065e-43, 7.0065e-43, 7.0065e-43, 7.0065e-43, 7.0065e-43, 7.0065e-43, 7.0065e-43, 7.0065e-43, 3.4277e-08, 7.0065e-43, 7.0065e-43,\n",
       "                       7.0065e-43, 7.0065e-43, 7.0065e-43, 4.3916e-08, 7.0065e-43, 7.0065e-43, 7.0065e-43, 7.0065e-43, 7.0065e-43, 3.4217e-08, 7.0065e-43,\n",
       "                       7.0065e-43, 7.0065e-43, 7.0065e-43, 7.0065e-43, 7.0065e-43, 7.0065e-43, 7.0065e-43, 7.0065e-43, 7.0065e-43, 7.0065e-43, 7.0065e-43,\n",
       "                       7.0065e-43, 7.0065e-43, 7.0065e-43, 7.0065e-43, 7.0065e-43, 7.0065e-43, 7.0065e-43, 7.0065e-43, 7.0065e-43, 7.0065e-43, 7.0065e-43,\n",
       "                       7.0065e-43, 7.0065e-43, 7.0065e-43, 7.0065e-43, 7.0065e-43, 7.0065e-43, 7.0065e-43, 7.0065e-43, 7.0065e-43, 7.0065e-43, 7.0065e-43,\n",
       "                       7.0065e-43, 7.0065e-43, 7.0065e-43, 7.0065e-43, 7.0065e-43, 7.0065e-43, 7.0065e-43, 7.0065e-43, 7.0065e-43, 7.0065e-43, 7.0065e-43,\n",
       "                       7.0065e-43, 7.0065e-43, 7.0065e-43, 7.0065e-43, 7.0065e-43, 7.0065e-43, 7.0065e-43, 3.9355e-08, 7.0065e-43, 7.0065e-43, 7.0065e-43,\n",
       "                       7.0065e-43, 7.0065e-43, 7.0065e-43, 1.0977e-07, 7.0065e-43, 7.0065e-43, 5.3459e-36, 7.0065e-43, 7.0065e-43, 7.0065e-43, 7.0065e-43,\n",
       "                       7.0065e-43, 7.0065e-43, 7.0065e-43, 7.0065e-43, 7.0065e-43, 7.0065e-43, 7.0065e-43, 7.0065e-43, 9.8220e-08, 7.0065e-43, 7.0065e-43,\n",
       "                       7.0065e-43, 7.0065e-43, 7.0065e-43, 7.0065e-43, 6.5313e-08, 7.0065e-43, 7.0065e-43, 7.0065e-43, 7.0065e-43, 7.0065e-43, 7.0065e-43,\n",
       "                       7.0065e-43, 7.0065e-43, 7.0065e-43, 7.0065e-43, 7.0065e-43, 7.0065e-43, 7.0065e-43], device='cuda:0')},\n",
       "              Parameter containing:\n",
       "              tensor([[-5.9284e-02,  1.0086e-01, -1.2783e-03,  ..., -2.8393e-02, -5.0069e-02,  1.8530e-02],\n",
       "                      [ 1.7449e-01,  1.4589e-01, -6.6271e-04,  ..., -1.3368e-01, -1.3010e-01, -7.2853e-02],\n",
       "                      [-1.7176e-02, -5.6075e-02, -1.7613e-02,  ..., -6.6289e-03, -1.4032e-02,  5.0868e-02],\n",
       "                      ...,\n",
       "                      [-2.2762e-01, -2.0553e-02,  2.3444e-02,  ..., -2.7487e-01, -4.1617e-01, -2.4626e-04],\n",
       "                      [ 2.1888e-03, -1.4009e-01, -3.4233e-02,  ...,  1.0153e-04,  1.3162e-02, -1.3309e-02],\n",
       "                      [ 6.9819e-02, -6.5424e-02, -6.7195e-02,  ...,  2.9827e-01,  2.9720e-02,  4.0783e-02]], device='cuda:0', requires_grad=True): {'step': tensor(240000.),\n",
       "               'exp_avg': tensor([[ 5.6052e-45,  5.6052e-45,  1.6430e-03,  ..., -5.6052e-45, -5.6052e-45, -5.6052e-45],\n",
       "                       [-5.6052e-45,  5.6052e-45,  1.0555e-04,  ...,  5.6052e-45, -5.6052e-45,  5.6052e-45],\n",
       "                       [ 5.6052e-45, -5.6052e-45,  3.8077e-03,  ..., -5.6052e-45,  5.6052e-45,  5.6052e-45],\n",
       "                       ...,\n",
       "                       [ 5.6052e-45,  5.6052e-45,  8.7995e-03,  ..., -5.6052e-45, -5.6052e-45, -5.6052e-45],\n",
       "                       [-5.6052e-45, -5.6052e-45, -1.8162e-02,  ...,  5.6052e-45,  5.6052e-45,  5.6052e-45],\n",
       "                       [-5.6052e-45,  5.6052e-45,  1.9143e-02,  ..., -5.6052e-45, -5.6052e-45, -5.6052e-45]], device='cuda:0'),\n",
       "               'exp_avg_sq': tensor([[7.0065e-43, 7.0065e-43, 4.5458e-05,  ..., 7.0065e-43, 7.0065e-43, 7.0065e-43],\n",
       "                       [7.0065e-43, 7.0065e-43, 1.1767e-04,  ..., 7.0065e-43, 7.0065e-43, 7.0065e-43],\n",
       "                       [7.0065e-43, 7.0065e-43, 2.3081e-04,  ..., 7.0065e-43, 7.0065e-43, 7.0065e-43],\n",
       "                       ...,\n",
       "                       [7.0065e-43, 7.0065e-43, 5.7665e-03,  ..., 7.0065e-43, 7.0065e-43, 7.0065e-43],\n",
       "                       [7.0065e-43, 7.0065e-43, 4.6524e-03,  ..., 7.0065e-43, 7.0065e-43, 7.0065e-43],\n",
       "                       [7.0065e-43, 7.0065e-43, 9.3123e-03,  ..., 7.0065e-43, 7.0065e-43, 7.0065e-43]], device='cuda:0')},\n",
       "              Parameter containing:\n",
       "              tensor([ 6.6747e-03,  4.1395e-02,  8.5011e-01,  9.8303e-03,  2.7939e-01, -1.3022e+00,  2.0312e-03,  7.7797e-03, -1.1620e-02,  3.6228e-01, -6.9205e-01,\n",
       "                       2.1267e-03,  7.3984e-02,  8.6386e-03, -8.7413e-03,  5.6880e-01, -9.3038e-03, -1.2129e-02, -6.8503e-01,  1.0068e-02, -5.3690e-01, -4.1892e-01,\n",
       "                       4.9152e-02,  3.4367e-01, -2.5430e-02, -8.1798e-01, -5.4855e-01, -7.2081e-02, -3.1789e-03, -1.1247e+00, -1.6351e-03, -9.6328e-01, -6.7145e-03,\n",
       "                      -8.5623e-01,  1.2722e-02, -3.1084e-01,  2.0093e-02, -1.4566e-01,  1.6808e-02, -3.9503e-01,  1.5052e+00,  8.2579e-03,  8.6099e-01, -8.0212e-01,\n",
       "                       6.8023e-01, -1.3497e-04, -2.5418e-02,  3.2970e-01,  1.0337e+00, -4.7063e-01], device='cuda:0', requires_grad=True): {'step': tensor(240000.),\n",
       "               'exp_avg': tensor([ 3.9300e-06, -9.3894e-06, -2.3931e-06, -3.4259e-05, -1.5644e-04,  1.8256e-04,  1.2901e-05,  5.5904e-05,  2.0878e-05, -8.2190e-05,  1.7279e-04,\n",
       "                       -1.5622e-04,  3.6702e-04, -2.0674e-05, -3.7799e-05, -1.3422e-05, -9.8054e-05, -2.3472e-05,  2.3728e-04, -2.0471e-05,  2.2027e-04, -1.0436e-04,\n",
       "                        2.7323e-05, -1.2268e-04,  2.2694e-05,  7.5648e-05, -1.3100e-04,  9.9439e-05,  1.9076e-05,  7.8674e-05, -7.0899e-06,  6.1616e-04,  4.1405e-05,\n",
       "                       -2.8938e-05, -1.6517e-05,  2.8317e-04, -3.9221e-05, -1.3308e-04, -5.1982e-05, -2.6414e-05, -3.9008e-05, -4.2741e-05, -7.7758e-07,  3.6954e-05,\n",
       "                       -1.1291e-04,  3.2301e-05,  4.0044e-05,  3.8801e-05, -2.1213e-04,  2.8242e-04], device='cuda:0'),\n",
       "               'exp_avg_sq': tensor([5.2071e-09, 1.1280e-08, 2.6572e-08, 6.7720e-09, 5.2826e-07, 5.4782e-07, 3.7211e-09, 6.8135e-09, 6.6250e-09, 4.0355e-07, 1.0564e-06,\n",
       "                       3.8942e-07, 5.8000e-07, 7.5880e-09, 6.6522e-09, 1.8755e-07, 1.6216e-07, 1.1574e-08, 1.0637e-06, 6.5529e-09, 8.9283e-07, 8.6401e-07,\n",
       "                       5.6607e-07, 7.6032e-07, 6.3091e-09, 1.1395e-06, 6.0744e-07, 8.0298e-07, 4.5918e-09, 3.5197e-07, 5.2039e-09, 2.6772e-06, 6.4215e-09,\n",
       "                       3.4910e-07, 7.2087e-09, 2.6947e-06, 5.7161e-09, 1.0334e-06, 6.2773e-09, 1.4718e-06, 2.5704e-07, 6.4422e-09, 1.3500e-06, 1.2896e-07,\n",
       "                       9.7333e-07, 4.1608e-09, 5.4186e-09, 7.3396e-07, 6.3535e-07, 1.1945e-06], device='cuda:0')},\n",
       "              Parameter containing:\n",
       "              tensor([[ 0.0045, -0.0031, -0.0121,  ..., -0.0212,  0.0380,  0.1879],\n",
       "                      [ 0.0041, -0.0343, -0.0101,  ..., -0.0936, -0.0783, -0.1153],\n",
       "                      [-0.0094,  0.0134, -0.0182,  ...,  0.2155,  0.0282, -0.0824],\n",
       "                      ...,\n",
       "                      [-0.0090,  0.0031,  0.0446,  ..., -0.0522,  0.1956,  0.0542],\n",
       "                      [ 0.0101, -0.0076,  0.0441,  ...,  0.0167,  0.0833, -0.0348],\n",
       "                      [ 0.0039, -0.0060, -0.0139,  ..., -0.0423,  0.0299,  0.1766]], device='cuda:0', requires_grad=True): {'step': tensor(240000.),\n",
       "               'exp_avg': tensor([[-2.5344e-05, -1.1905e-05,  4.9677e-04,  ...,  5.3484e-04,  1.0699e-03,  1.3606e-03],\n",
       "                       [-2.7282e-05, -1.4218e-05, -2.2933e-04,  ..., -8.2702e-04, -3.8786e-04, -3.3318e-04],\n",
       "                       [-1.2489e-05,  8.7813e-06, -8.2918e-05,  ...,  2.1483e-05, -3.3166e-04, -1.0821e-04],\n",
       "                       ...,\n",
       "                       [ 1.1285e-05,  1.9351e-05,  3.0307e-04,  ...,  4.0895e-04,  6.6772e-05,  2.3918e-04],\n",
       "                       [ 3.5298e-05, -9.8307e-06, -5.6368e-04,  ..., -3.3385e-04, -4.9813e-04, -1.0439e-03],\n",
       "                       [ 2.1344e-05,  1.2530e-05,  7.5819e-04,  ..., -1.0201e-04,  6.4680e-04,  6.7357e-04]], device='cuda:0'),\n",
       "               'exp_avg_sq': tensor([[6.9184e-08, 9.3849e-08, 8.0786e-06,  ..., 6.5729e-05, 1.3202e-05, 1.8723e-05],\n",
       "                       [8.2836e-09, 1.1220e-08, 1.0357e-06,  ..., 1.1114e-05, 2.3323e-06, 2.7637e-06],\n",
       "                       [2.7279e-09, 4.7745e-09, 5.5382e-07,  ..., 2.7186e-06, 1.0285e-06, 1.0141e-06],\n",
       "                       ...,\n",
       "                       [1.7845e-08, 2.4875e-08, 2.2021e-06,  ..., 1.8323e-05, 4.4001e-06, 2.9323e-06],\n",
       "                       [1.5530e-08, 2.3910e-08, 2.4473e-06,  ..., 1.5519e-05, 4.6455e-06, 5.1445e-06],\n",
       "                       [5.3916e-08, 7.7833e-08, 6.6458e-06,  ..., 5.7504e-05, 9.8875e-06, 1.5621e-05]], device='cuda:0')},\n",
       "              Parameter containing:\n",
       "              tensor([ 3.8146e-01, -2.3371e-01, -2.0675e-01, -1.0077e+00,  5.0010e-01, -2.1973e+00, -5.6404e-01, -1.7853e+00, -1.1300e+00,  4.3959e-01, -4.2680e-02,\n",
       "                       8.2444e-02,  8.7154e-02,  2.9796e-01,  1.5125e-01,  6.6664e-01, -1.7907e-01, -3.5804e-01, -1.6734e-01, -9.1776e-01,  5.0893e-02, -1.8174e+00,\n",
       "                       5.0650e-02, -1.6705e+00, -1.2035e-01, -5.8187e-01, -1.2935e-02, -1.0884e+00,  5.2122e-01,  8.0962e-01, -1.1520e+00, -4.6269e-01,  2.3489e-02,\n",
       "                       8.6249e-01, -1.7418e+00, -1.0097e+00, -2.1910e+00,  1.8542e-01,  8.3749e-01, -1.3757e-01, -5.2327e-01,  1.9650e-01, -7.4970e-01,  4.8057e-01,\n",
       "                      -1.8528e+00, -2.0163e-02,  5.3599e-01, -6.5908e-02, -3.5720e-01, -3.6618e-01, -7.7278e-01,  1.9081e-03,  6.1085e-02,  3.5360e-02,  6.4822e-02,\n",
       "                      -7.7371e-01, -1.3642e-01,  9.7930e-02,  2.5288e-01, -6.5584e-02,  9.1867e-02, -4.1703e-01, -8.4000e-01, -1.0684e+00,  6.8325e-01,  2.8121e-01,\n",
       "                       2.4822e-01,  2.0088e-01, -1.0821e+00, -4.8190e-02, -1.6870e+00, -2.8806e-01, -6.0443e-01, -2.6267e-01, -2.1630e+00,  7.3301e-02, -3.3537e-01,\n",
       "                      -3.9229e-01, -7.6511e-01,  2.7189e-01,  3.5060e-01, -6.2128e-02, -6.6449e-01, -7.1450e-01, -1.1578e+00, -1.0198e+00, -8.2133e-02,  4.0916e-01,\n",
       "                      -9.7280e-04, -1.5163e+00,  2.1871e-01, -5.1417e-01,  4.1912e-01,  3.0151e-01,  1.1269e-01, -4.4577e-01,  6.2556e-01,  2.6087e-01, -7.8712e-01,\n",
       "                      -7.1081e-02, -1.1269e-01,  1.5770e-01, -4.6828e-01, -8.6612e-01, -5.9756e-02, -1.9398e-01, -1.6327e-01,  4.3845e-01,  2.8758e-01, -6.3707e-01,\n",
       "                       6.9976e-01,  1.2046e-01, -8.9317e-01, -9.5010e-01,  9.7873e-01,  2.5462e-01, -2.1288e-01, -2.0446e+00,  4.2078e-01, -4.6216e-01, -1.3395e+00,\n",
       "                      -4.3505e-01, -1.4694e+00,  3.9489e-02,  2.6754e-01, -3.2074e-01,  1.3654e+00,  1.0435e+00], device='cuda:0', requires_grad=True): {'step': tensor(240000.),\n",
       "               'exp_avg': tensor([ 4.8788e-04,  1.9607e-04,  3.7527e-05,  5.5647e-05, -5.0637e-05,  4.6506e-05,  3.2895e-05, -1.5473e-05,  1.0938e-05,  3.6949e-04, -9.1160e-05,\n",
       "                       -3.0350e-05, -2.3903e-04,  5.5762e-06, -8.1615e-05, -4.5220e-05,  3.6062e-05,  4.3288e-05, -7.8175e-05,  1.1863e-05,  4.7499e-06,  7.0464e-06,\n",
       "                        1.2105e-04,  3.7697e-05, -2.9149e-04, -7.6891e-05,  1.5133e-05,  2.3868e-05,  1.9707e-05, -7.1757e-05, -6.4880e-06, -5.2489e-05, -7.1655e-05,\n",
       "                       -2.1540e-06,  3.4965e-05,  2.1841e-05, -1.5283e-05,  1.6336e-04,  3.5263e-04, -2.0044e-04,  4.9110e-05, -4.6002e-05, -1.2496e-04, -2.8560e-04,\n",
       "                        1.7889e-05,  7.4911e-05,  5.5712e-05,  1.3873e-04,  9.2811e-05,  1.7953e-05, -5.8881e-05,  1.2276e-05,  8.6477e-05,  1.1274e-04, -3.7184e-06,\n",
       "                        1.8881e-05, -1.5303e-05,  8.1871e-05,  4.8463e-05, -3.7923e-05,  1.8960e-04, -2.4627e-05,  3.0441e-05,  4.3532e-05,  4.7183e-04,  4.9617e-06,\n",
       "                       -9.2513e-05, -3.0625e-05, -4.4114e-05,  9.4945e-05,  2.0254e-05, -1.7871e-04, -3.2329e-04, -4.6253e-05,  9.9439e-06, -2.6237e-04, -4.0741e-05,\n",
       "                        4.2511e-05, -2.0799e-04,  3.4948e-05,  3.7078e-04,  5.5028e-06,  2.3137e-05, -4.3138e-05,  7.9097e-05, -1.9517e-05,  6.2110e-05, -1.5189e-04,\n",
       "                        5.2339e-05,  4.1896e-05, -3.1765e-05,  2.7025e-05, -1.9259e-04, -2.3677e-05,  1.1655e-05,  3.3126e-05, -9.5568e-05,  1.5177e-05,  8.8545e-05,\n",
       "                        5.3267e-06, -2.3627e-05,  3.8288e-05,  7.3669e-05,  1.5712e-06, -1.6343e-05,  7.3010e-05,  5.5921e-05, -5.7528e-05,  3.2123e-04, -8.7369e-05,\n",
       "                       -7.9601e-04, -1.3140e-04, -5.9518e-05, -1.3073e-06, -5.2834e-04,  1.2034e-04, -4.5243e-05,  2.1521e-06, -2.3638e-04, -4.5929e-05, -7.4796e-05,\n",
       "                        8.5741e-05, -6.6444e-06, -1.5068e-04, -1.4432e-04, -1.5078e-04, -3.2058e-04, -6.8424e-05], device='cuda:0'),\n",
       "               'exp_avg_sq': tensor([1.4185e-06, 1.7701e-07, 9.9824e-08, 5.3934e-08, 7.5465e-07, 1.0165e-08, 4.5156e-08, 5.9717e-08, 2.0941e-08, 1.4158e-06, 9.3082e-08,\n",
       "                       3.0832e-07, 3.4160e-07, 4.5293e-08, 7.1639e-07, 4.3744e-07, 4.6691e-08, 8.7813e-08, 4.6274e-08, 2.4335e-08, 1.7689e-07, 5.9722e-08,\n",
       "                       8.0887e-07, 4.1574e-08, 6.1865e-07, 1.2138e-07, 2.4743e-07, 6.7499e-08, 1.3543e-07, 4.1632e-07, 1.9923e-08, 5.5680e-08, 6.1660e-08,\n",
       "                       2.3352e-07, 1.8632e-08, 4.6583e-08, 1.8905e-08, 1.3245e-06, 1.2590e-06, 8.1800e-07, 3.6032e-08, 2.0190e-07, 7.5543e-08, 1.3332e-06,\n",
       "                       2.4283e-08, 1.0126e-07, 6.0090e-07, 1.9241e-07, 1.4317e-07, 1.4375e-07, 4.5733e-08, 8.5721e-08, 5.3702e-07, 1.1972e-07, 2.1699e-07,\n",
       "                       3.7613e-08, 2.6879e-07, 8.7959e-08, 1.1850e-07, 2.1351e-07, 5.4950e-07, 4.6899e-07, 3.7029e-08, 3.7863e-08, 1.7200e-06, 3.2052e-07,\n",
       "                       2.8900e-07, 1.8421e-07, 9.9436e-08, 2.4268e-07, 4.3381e-08, 2.0405e-07, 1.9512e-07, 1.3363e-07, 2.7860e-08, 5.3838e-07, 2.0286e-07,\n",
       "                       4.2587e-08, 2.5436e-07, 1.4986e-07, 1.3741e-06, 5.1467e-07, 3.8046e-09, 5.7199e-08, 4.1478e-08, 2.7771e-08, 4.9117e-07, 3.4383e-07,\n",
       "                       3.8304e-07, 1.4922e-08, 3.3289e-07, 8.3432e-08, 9.0200e-07, 1.4260e-07, 7.4881e-08, 2.9568e-08, 1.3363e-06, 2.4096e-07, 1.0407e-07,\n",
       "                       5.9253e-08, 1.0628e-07, 6.2328e-07, 3.8037e-08, 1.4890e-08, 1.1961e-07, 2.7389e-08, 2.7591e-07, 4.4994e-07, 6.6675e-07, 1.0537e-07,\n",
       "                       2.9050e-06, 9.0362e-07, 1.0975e-07, 2.6945e-08, 8.0265e-07, 1.4135e-07, 3.5966e-08, 1.6943e-08, 2.4405e-07, 3.4615e-07, 1.5741e-07,\n",
       "                       3.9252e-08, 5.8834e-08, 1.1142e-07, 2.1542e-07, 3.4701e-07, 5.3810e-07, 1.1286e-06], device='cuda:0')},\n",
       "              Parameter containing:\n",
       "              tensor([[ 1.4725e-01,  4.1326e-02,  2.4618e-02,  ..., -3.5317e-02,  1.7548e-01,  4.0134e-02],\n",
       "                      [ 2.0494e-01, -2.3314e-01, -8.0202e-02,  ..., -7.9601e-01, -9.4687e-01, -3.9003e-01],\n",
       "                      [ 1.3205e-01, -7.6291e-01, -4.7037e-01,  ...,  6.0583e-03, -2.3099e-01,  9.9793e-02],\n",
       "                      ...,\n",
       "                      [-3.3485e-02,  6.4864e-02,  6.6421e-02,  ...,  3.7246e-04,  1.1095e-01, -1.6223e-01],\n",
       "                      [-3.9236e-01,  8.4246e-02, -6.6927e-02,  ..., -8.2452e-03, -1.0011e-02, -1.4936e-01],\n",
       "                      [-4.7426e-02, -1.6152e-01,  4.0321e-04,  ..., -1.4924e+00,  2.1943e-01, -2.5815e-01]], device='cuda:0', requires_grad=True): {'step': tensor(240000.),\n",
       "               'exp_avg': tensor([[-2.8535e-04,  2.2001e-05, -6.8095e-06,  ...,  1.3423e-04,  2.6005e-05, -9.5982e-05],\n",
       "                       [ 7.6569e-07,  2.5942e-06,  1.3113e-40,  ..., -5.8862e-10, -7.7430e-30,  1.1046e-07],\n",
       "                       [ 4.5227e-05, -8.2925e-08, -5.6052e-45,  ...,  4.1916e-05, -1.6316e-06, -3.4372e-05],\n",
       "                       ...,\n",
       "                       [ 1.0643e-04,  1.4958e-04, -3.9439e-05,  ..., -2.2456e-05,  1.3373e-04,  1.0028e-04],\n",
       "                       [ 5.6052e-45, -5.6052e-45,  5.6052e-45,  ...,  5.6052e-45,  5.6052e-45,  5.6052e-45],\n",
       "                       [-4.0957e-05, -2.7110e-07, -3.8538e-05,  ...,  2.8984e-12, -6.6077e-05, -1.1354e-05]], device='cuda:0'),\n",
       "               'exp_avg_sq': tensor([[2.5052e-06, 6.0344e-08, 7.7562e-09,  ..., 4.4195e-07, 4.1998e-08, 2.9470e-06],\n",
       "                       [3.8966e-08, 1.0347e-08, 5.8458e-12,  ..., 1.2387e-11, 2.5989e-12, 1.7038e-09],\n",
       "                       [2.9503e-07, 1.1169e-10, 4.5556e-41,  ..., 3.4486e-07, 5.1670e-10, 3.3627e-07],\n",
       "                       ...,\n",
       "                       [9.1540e-07, 1.8827e-07, 5.1725e-08,  ..., 7.0658e-08, 4.2774e-07, 7.5275e-07],\n",
       "                       [7.0065e-43, 7.0065e-43, 7.0065e-43,  ..., 7.0065e-43, 7.0065e-43, 7.0065e-43],\n",
       "                       [1.3964e-08, 1.3449e-09, 2.4558e-09,  ..., 4.5377e-13, 1.4321e-08, 5.0283e-09]], device='cuda:0')},\n",
       "              Parameter containing:\n",
       "              tensor([-0.3635, -0.0572, -0.2695,  ..., -0.0458, -0.1580,  0.1069], device='cuda:0', requires_grad=True): {'step': tensor(240000.),\n",
       "               'exp_avg': tensor([-2.6289e-05,  2.7262e-07,  1.8537e-05,  ...,  5.9019e-05,  5.6052e-45, -3.6487e-05], device='cuda:0'),\n",
       "               'exp_avg_sq': tensor([1.8248e-07, 1.5226e-09, 2.6829e-08,  ..., 1.6539e-07, 7.0065e-43, 5.7209e-09], device='cuda:0')},\n",
       "              Parameter containing:\n",
       "              tensor([[ 0.0123, -0.0019, -0.0905,  ..., -0.0206,  0.0730,  0.0777],\n",
       "                      [-0.0150, -0.0178, -0.0731,  ..., -0.0176, -0.0680,  0.0744],\n",
       "                      [ 0.1383,  0.0921, -0.0056,  ...,  0.0049,  0.0281, -0.0898],\n",
       "                      ...,\n",
       "                      [-0.1342, -0.1131,  0.1539,  ..., -0.1043, -0.0456,  0.0509],\n",
       "                      [-0.0606,  0.0460, -0.1814,  ..., -0.2752, -0.0447,  0.0875],\n",
       "                      [-0.0976, -0.2055,  0.0579,  ..., -0.1687, -0.0236,  0.1601]], device='cuda:0', requires_grad=True): {'step': tensor(240000.),\n",
       "               'exp_avg': tensor([[-2.7383e-05, -4.6516e-08, -4.6988e-06,  ..., -1.7165e-05,  5.6052e-45,  6.2176e-07],\n",
       "                       [-3.1946e-05, -8.1031e-09, -5.1112e-06,  ..., -1.9328e-05, -5.6052e-45,  6.7537e-07],\n",
       "                       [-4.0421e-06, -1.5266e-07, -3.0011e-06,  ..., -3.6071e-05,  5.6052e-45, -9.1564e-07],\n",
       "                       ...,\n",
       "                       [-1.3264e-05, -2.3004e-07, -3.0969e-06,  ..., -4.2228e-06,  5.6052e-45, -1.0766e-07],\n",
       "                       [-7.8310e-06,  1.9044e-09,  4.0653e-06,  ..., -2.6153e-06,  5.6052e-45, -7.8467e-08],\n",
       "                       [ 7.4217e-06, -1.5096e-07, -2.2668e-06,  ..., -2.0796e-06,  5.6052e-45, -2.3378e-08]], device='cuda:0'),\n",
       "               'exp_avg_sq': tensor([[4.1571e-09, 3.0130e-10, 8.9990e-10,  ..., 3.6855e-09, 7.0065e-43, 1.7578e-11],\n",
       "                       [4.6397e-09, 2.8916e-10, 9.8974e-10,  ..., 3.9628e-09, 7.0065e-43, 2.0350e-11],\n",
       "                       [4.2280e-09, 5.2401e-10, 7.7741e-10,  ..., 3.5537e-09, 7.0065e-43, 1.8453e-11],\n",
       "                       ...,\n",
       "                       [2.1665e-09, 4.1425e-10, 4.3024e-10,  ..., 7.2260e-10, 7.0065e-43, 5.4305e-12],\n",
       "                       [2.3323e-09, 4.2705e-10, 6.0749e-10,  ..., 5.1466e-10, 7.0065e-43, 1.6068e-11],\n",
       "                       [1.6943e-09, 1.5646e-10, 5.2867e-10,  ..., 1.0950e-09, 7.0065e-43, 8.0321e-12]], device='cuda:0')},\n",
       "              Parameter containing:\n",
       "              tensor([-0.0021,  0.0113,  0.0086,  ...,  0.0377, -0.0409, -0.0154], device='cuda:0', requires_grad=True): {'step': tensor(240000.),\n",
       "               'exp_avg': tensor([ 1.3203e-05,  1.1749e-05, -1.8198e-06,  ...,  9.0219e-06, -3.9674e-05, -1.0744e-05], device='cuda:0'),\n",
       "               'exp_avg_sq': tensor([2.1634e-08, 2.3318e-08, 2.1632e-08,  ..., 7.1089e-09, 6.3569e-09, 4.1302e-09], device='cuda:0')}}),\n",
       " 'param_groups': [{'params': [Parameter containing:\n",
       "    tensor([[-0.1078,  0.0057, -0.0510,  ...,  0.0594,  0.1069,  0.0640],\n",
       "            [-0.1145, -0.1986, -0.1407,  ...,  0.1411,  0.3946, -0.0203],\n",
       "            [-0.0556,  0.0700,  0.0775,  ..., -0.0425,  0.1645,  0.0141],\n",
       "            ...,\n",
       "            [ 0.0297,  0.0965,  0.0427,  ...,  0.1891,  0.0252, -0.1212],\n",
       "            [-0.0689,  0.1369,  0.0458,  ...,  0.0924,  0.0807,  0.0542],\n",
       "            [-0.0871,  0.0142, -0.0709,  ..., -0.0739, -0.0889, -0.1526]], device='cuda:0', requires_grad=True),\n",
       "    Parameter containing:\n",
       "    tensor([-2.6083, -1.6234, -2.3270,  ..., -1.2054, -4.1348, -3.7027], device='cuda:0', requires_grad=True),\n",
       "    Parameter containing:\n",
       "    tensor([[-0.0585, -0.0499, -0.0490,  ..., -0.0123, -0.0085, -0.0108],\n",
       "            [-0.0298,  0.0174,  0.0200,  ...,  0.0863, -0.0133, -0.0317],\n",
       "            [-0.1589,  0.0545,  0.0695,  ...,  0.2163, -0.0639, -0.0336],\n",
       "            ...,\n",
       "            [-0.0618,  0.0086, -0.0609,  ..., -0.0209, -0.1041, -0.0116],\n",
       "            [-0.0516, -0.0895, -0.0351,  ..., -0.0462, -0.0006,  0.0634],\n",
       "            [-0.0728, -0.0013, -0.0301,  ...,  0.0609, -0.0105,  0.0721]], device='cuda:0', requires_grad=True),\n",
       "    Parameter containing:\n",
       "    tensor([-4.1346e-02, -4.6732e-02,  1.3034e-01,  9.5354e-01, -5.1716e-03,  7.4185e-01, -1.4823e-02,  6.7635e-01,  4.2226e-01, -2.6690e-02, -4.6281e-02,\n",
       "            -6.9546e-02, -3.9666e-02,  1.5906e-03, -4.9037e-02, -2.8808e-03, -2.1215e-02, -5.1279e-02, -4.3551e-02,  9.5043e-01, -6.4192e-02, -4.7493e-02,\n",
       "            -1.6397e-02, -4.9764e-02, -1.4023e-02,  9.7904e-01,  3.6835e-03, -3.2016e-02, -3.4855e-03, -5.3303e-02, -2.8045e-02,  9.2167e-01, -7.6281e-03,\n",
       "            -1.2375e-02, -2.5168e-02, -6.1600e-02, -9.6917e-03, -3.2785e-02,  1.6762e-02, -4.1967e-02, -5.7566e-02, -4.8947e-02, -1.9970e-02, -3.0012e-02,\n",
       "            -2.1113e-02, -1.4303e-02, -5.5396e-02, -3.3511e-02, -3.7957e-02, -5.7972e-02, -1.4470e-02, -5.2667e-02, -5.1940e-02, -6.4320e-02, -5.5680e-02,\n",
       "            -4.4308e-04, -6.1811e-02, -1.2564e-02,  2.4981e-03, -7.9893e-02, -5.1480e-02, -2.7381e-02, -4.4340e-02, -1.4545e-02, -6.1861e-03, -4.9925e-02,\n",
       "            -9.1311e-03, -3.0006e-02, -3.7487e-02, -2.2331e-03, -5.3257e-02, -3.9483e-02, -2.5807e-02, -6.1037e-03, -5.7004e-02, -3.2836e-02, -6.4135e-02,\n",
       "            -4.5986e-02, -4.2333e-02, -4.7635e-02, -3.8774e-02, -1.1191e-02, -8.4366e-02, -7.5790e-02,  6.2013e-01, -4.7983e-02, -1.8562e-02, -3.8863e-02,\n",
       "            -4.0975e-02, -2.4992e-02, -7.3680e-03,  8.1199e-01, -6.6664e-02, -7.6809e-03, -1.5350e-02, -7.3458e-02, -1.2865e-02, -2.4795e-02, -2.1017e-02,\n",
       "            -7.6980e-02, -2.9391e-03, -4.9644e-02, -3.8106e-02, -5.4227e-02, -7.7392e-03, -6.9569e-02, -1.0184e-02,  1.1970e+00, -6.4855e-02, -8.8541e-03,\n",
       "            -3.0597e-02, -3.0563e-02, -3.6944e-02, -2.6592e-02,  9.2349e-01, -3.8804e-02, -3.4231e-02, -8.9438e-02, -7.6441e-02, -2.7899e-02, -1.8159e-02,\n",
       "            -2.1492e-02, -6.1736e-02, -3.7926e-02, -4.7563e-02, -4.2806e-02, -6.3255e-02, -8.6160e-02], device='cuda:0', requires_grad=True),\n",
       "    Parameter containing:\n",
       "    tensor([[-5.9284e-02,  1.0086e-01, -1.2783e-03,  ..., -2.8393e-02, -5.0069e-02,  1.8530e-02],\n",
       "            [ 1.7449e-01,  1.4589e-01, -6.6271e-04,  ..., -1.3368e-01, -1.3010e-01, -7.2853e-02],\n",
       "            [-1.7176e-02, -5.6075e-02, -1.7613e-02,  ..., -6.6289e-03, -1.4032e-02,  5.0868e-02],\n",
       "            ...,\n",
       "            [-2.2762e-01, -2.0553e-02,  2.3444e-02,  ..., -2.7487e-01, -4.1617e-01, -2.4626e-04],\n",
       "            [ 2.1888e-03, -1.4009e-01, -3.4233e-02,  ...,  1.0153e-04,  1.3162e-02, -1.3309e-02],\n",
       "            [ 6.9819e-02, -6.5424e-02, -6.7195e-02,  ...,  2.9827e-01,  2.9720e-02,  4.0783e-02]], device='cuda:0', requires_grad=True),\n",
       "    Parameter containing:\n",
       "    tensor([ 6.6747e-03,  4.1395e-02,  8.5011e-01,  9.8303e-03,  2.7939e-01, -1.3022e+00,  2.0312e-03,  7.7797e-03, -1.1620e-02,  3.6228e-01, -6.9205e-01,\n",
       "             2.1267e-03,  7.3984e-02,  8.6386e-03, -8.7413e-03,  5.6880e-01, -9.3038e-03, -1.2129e-02, -6.8503e-01,  1.0068e-02, -5.3690e-01, -4.1892e-01,\n",
       "             4.9152e-02,  3.4367e-01, -2.5430e-02, -8.1798e-01, -5.4855e-01, -7.2081e-02, -3.1789e-03, -1.1247e+00, -1.6351e-03, -9.6328e-01, -6.7145e-03,\n",
       "            -8.5623e-01,  1.2722e-02, -3.1084e-01,  2.0093e-02, -1.4566e-01,  1.6808e-02, -3.9503e-01,  1.5052e+00,  8.2579e-03,  8.6099e-01, -8.0212e-01,\n",
       "             6.8023e-01, -1.3497e-04, -2.5418e-02,  3.2970e-01,  1.0337e+00, -4.7063e-01], device='cuda:0', requires_grad=True),\n",
       "    Parameter containing:\n",
       "    tensor([[ 0.0045, -0.0031, -0.0121,  ..., -0.0212,  0.0380,  0.1879],\n",
       "            [ 0.0041, -0.0343, -0.0101,  ..., -0.0936, -0.0783, -0.1153],\n",
       "            [-0.0094,  0.0134, -0.0182,  ...,  0.2155,  0.0282, -0.0824],\n",
       "            ...,\n",
       "            [-0.0090,  0.0031,  0.0446,  ..., -0.0522,  0.1956,  0.0542],\n",
       "            [ 0.0101, -0.0076,  0.0441,  ...,  0.0167,  0.0833, -0.0348],\n",
       "            [ 0.0039, -0.0060, -0.0139,  ..., -0.0423,  0.0299,  0.1766]], device='cuda:0', requires_grad=True),\n",
       "    Parameter containing:\n",
       "    tensor([ 3.8146e-01, -2.3371e-01, -2.0675e-01, -1.0077e+00,  5.0010e-01, -2.1973e+00, -5.6404e-01, -1.7853e+00, -1.1300e+00,  4.3959e-01, -4.2680e-02,\n",
       "             8.2444e-02,  8.7154e-02,  2.9796e-01,  1.5125e-01,  6.6664e-01, -1.7907e-01, -3.5804e-01, -1.6734e-01, -9.1776e-01,  5.0893e-02, -1.8174e+00,\n",
       "             5.0650e-02, -1.6705e+00, -1.2035e-01, -5.8187e-01, -1.2935e-02, -1.0884e+00,  5.2122e-01,  8.0962e-01, -1.1520e+00, -4.6269e-01,  2.3489e-02,\n",
       "             8.6249e-01, -1.7418e+00, -1.0097e+00, -2.1910e+00,  1.8542e-01,  8.3749e-01, -1.3757e-01, -5.2327e-01,  1.9650e-01, -7.4970e-01,  4.8057e-01,\n",
       "            -1.8528e+00, -2.0163e-02,  5.3599e-01, -6.5908e-02, -3.5720e-01, -3.6618e-01, -7.7278e-01,  1.9081e-03,  6.1085e-02,  3.5360e-02,  6.4822e-02,\n",
       "            -7.7371e-01, -1.3642e-01,  9.7930e-02,  2.5288e-01, -6.5584e-02,  9.1867e-02, -4.1703e-01, -8.4000e-01, -1.0684e+00,  6.8325e-01,  2.8121e-01,\n",
       "             2.4822e-01,  2.0088e-01, -1.0821e+00, -4.8190e-02, -1.6870e+00, -2.8806e-01, -6.0443e-01, -2.6267e-01, -2.1630e+00,  7.3301e-02, -3.3537e-01,\n",
       "            -3.9229e-01, -7.6511e-01,  2.7189e-01,  3.5060e-01, -6.2128e-02, -6.6449e-01, -7.1450e-01, -1.1578e+00, -1.0198e+00, -8.2133e-02,  4.0916e-01,\n",
       "            -9.7280e-04, -1.5163e+00,  2.1871e-01, -5.1417e-01,  4.1912e-01,  3.0151e-01,  1.1269e-01, -4.4577e-01,  6.2556e-01,  2.6087e-01, -7.8712e-01,\n",
       "            -7.1081e-02, -1.1269e-01,  1.5770e-01, -4.6828e-01, -8.6612e-01, -5.9756e-02, -1.9398e-01, -1.6327e-01,  4.3845e-01,  2.8758e-01, -6.3707e-01,\n",
       "             6.9976e-01,  1.2046e-01, -8.9317e-01, -9.5010e-01,  9.7873e-01,  2.5462e-01, -2.1288e-01, -2.0446e+00,  4.2078e-01, -4.6216e-01, -1.3395e+00,\n",
       "            -4.3505e-01, -1.4694e+00,  3.9489e-02,  2.6754e-01, -3.2074e-01,  1.3654e+00,  1.0435e+00], device='cuda:0', requires_grad=True),\n",
       "    Parameter containing:\n",
       "    tensor([[ 1.4725e-01,  4.1326e-02,  2.4618e-02,  ..., -3.5317e-02,  1.7548e-01,  4.0134e-02],\n",
       "            [ 2.0494e-01, -2.3314e-01, -8.0202e-02,  ..., -7.9601e-01, -9.4687e-01, -3.9003e-01],\n",
       "            [ 1.3205e-01, -7.6291e-01, -4.7037e-01,  ...,  6.0583e-03, -2.3099e-01,  9.9793e-02],\n",
       "            ...,\n",
       "            [-3.3485e-02,  6.4864e-02,  6.6421e-02,  ...,  3.7246e-04,  1.1095e-01, -1.6223e-01],\n",
       "            [-3.9236e-01,  8.4246e-02, -6.6927e-02,  ..., -8.2452e-03, -1.0011e-02, -1.4936e-01],\n",
       "            [-4.7426e-02, -1.6152e-01,  4.0321e-04,  ..., -1.4924e+00,  2.1943e-01, -2.5815e-01]], device='cuda:0', requires_grad=True),\n",
       "    Parameter containing:\n",
       "    tensor([-0.3635, -0.0572, -0.2695,  ..., -0.0458, -0.1580,  0.1069], device='cuda:0', requires_grad=True),\n",
       "    Parameter containing:\n",
       "    tensor([[ 0.0123, -0.0019, -0.0905,  ..., -0.0206,  0.0730,  0.0777],\n",
       "            [-0.0150, -0.0178, -0.0731,  ..., -0.0176, -0.0680,  0.0744],\n",
       "            [ 0.1383,  0.0921, -0.0056,  ...,  0.0049,  0.0281, -0.0898],\n",
       "            ...,\n",
       "            [-0.1342, -0.1131,  0.1539,  ..., -0.1043, -0.0456,  0.0509],\n",
       "            [-0.0606,  0.0460, -0.1814,  ..., -0.2752, -0.0447,  0.0875],\n",
       "            [-0.0976, -0.2055,  0.0579,  ..., -0.1687, -0.0236,  0.1601]], device='cuda:0', requires_grad=True),\n",
       "    Parameter containing:\n",
       "    tensor([-0.0021,  0.0113,  0.0086,  ...,  0.0377, -0.0409, -0.0154], device='cuda:0', requires_grad=True)],\n",
       "   'lr': 1.5625e-05,\n",
       "   'betas': (0.9, 0.999),\n",
       "   'eps': 1e-08,\n",
       "   'weight_decay': 0,\n",
       "   'amsgrad': False,\n",
       "   'maximize': False,\n",
       "   'foreach': None,\n",
       "   'capturable': False,\n",
       "   'differentiable': False,\n",
       "   'fused': None}],\n",
       " '_optimizer_step_pre_hooks': OrderedDict(),\n",
       " '_optimizer_step_post_hooks': OrderedDict(),\n",
       " '_optimizer_state_dict_pre_hooks': OrderedDict(),\n",
       " '_optimizer_state_dict_post_hooks': OrderedDict(),\n",
       " '_optimizer_load_state_dict_pre_hooks': OrderedDict(),\n",
       " '_optimizer_load_state_dict_post_hooks': OrderedDict(),\n",
       " '_zero_grad_profile_name': 'Optimizer.zero_grad#Adam.zero_grad'}"
      ]
     },
     "execution_count": 77,
     "metadata": {},
     "output_type": "execute_result"
    }
   ],
   "source": [
    "print()\n",
    "model.optimizer.__dict__"
   ]
  },
  {
   "cell_type": "markdown",
   "id": "af46b367-e9fb-4252-95ba-b9b0a99bd2e2",
   "metadata": {
    "jp-MarkdownHeadingCollapsed": true
   },
   "source": [
    "#### temp_optimizer after"
   ]
  },
  {
   "cell_type": "code",
   "execution_count": 87,
   "id": "14ca70d6-4a2d-40cc-bb1b-8ee59d6e4529",
   "metadata": {
    "execution": {
     "iopub.execute_input": "2024-05-09T09:25:01.164350Z",
     "iopub.status.busy": "2024-05-09T09:25:01.163858Z",
     "iopub.status.idle": "2024-05-09T09:25:01.213846Z",
     "shell.execute_reply": "2024-05-09T09:25:01.213154Z",
     "shell.execute_reply.started": "2024-05-09T09:25:01.164306Z"
    }
   },
   "outputs": [
    {
     "name": "stdout",
     "output_type": "stream",
     "text": [
      "\n"
     ]
    },
    {
     "data": {
      "text/plain": [
       "{'defaults': {'lr': 0.001,\n",
       "  'momentum': 0.9,\n",
       "  'dampening': 0,\n",
       "  'weight_decay': 0,\n",
       "  'nesterov': False,\n",
       "  'maximize': False,\n",
       "  'foreach': None,\n",
       "  'differentiable': False},\n",
       " 'state': defaultdict(dict,\n",
       "             {Parameter containing:\n",
       "              tensor([7.4499], device='cuda:0', requires_grad=True): {'momentum_buffer': tensor([0.0517], device='cuda:0')}}),\n",
       " 'param_groups': [{'params': [Parameter containing:\n",
       "    tensor([7.4499], device='cuda:0', requires_grad=True)],\n",
       "   'lr': 0.0005,\n",
       "   'momentum': 0.9,\n",
       "   'dampening': 0,\n",
       "   'weight_decay': 0,\n",
       "   'nesterov': False,\n",
       "   'maximize': False,\n",
       "   'foreach': None,\n",
       "   'differentiable': False}],\n",
       " '_optimizer_step_pre_hooks': OrderedDict(),\n",
       " '_optimizer_step_post_hooks': OrderedDict(),\n",
       " '_optimizer_state_dict_pre_hooks': OrderedDict(),\n",
       " '_optimizer_state_dict_post_hooks': OrderedDict(),\n",
       " '_optimizer_load_state_dict_pre_hooks': OrderedDict(),\n",
       " '_optimizer_load_state_dict_post_hooks': OrderedDict(),\n",
       " '_zero_grad_profile_name': 'Optimizer.zero_grad#SGD.zero_grad'}"
      ]
     },
     "execution_count": 87,
     "metadata": {},
     "output_type": "execute_result"
    }
   ],
   "source": [
    "print()\n",
    "model.temp_optimizer.__dict__"
   ]
  },
  {
   "cell_type": "markdown",
   "id": "f7bad265-440d-4af7-9bac-56070886f313",
   "metadata": {
    "execution": {
     "iopub.execute_input": "2024-05-09T08:53:17.828869Z",
     "iopub.status.busy": "2024-05-09T08:53:17.828104Z",
     "iopub.status.idle": "2024-05-09T08:53:18.015191Z",
     "shell.execute_reply": "2024-05-09T08:53:18.014221Z",
     "shell.execute_reply.started": "2024-05-09T08:53:17.828820Z"
    }
   },
   "source": [
    "# Load_v2"
   ]
  },
  {
   "cell_type": "code",
   "execution_count": 152,
   "id": "381bc37f-082b-4490-a259-dce1515bb46b",
   "metadata": {
    "execution": {
     "iopub.execute_input": "2024-05-09T10:10:30.221035Z",
     "iopub.status.busy": "2024-05-09T10:10:30.220551Z",
     "iopub.status.idle": "2024-05-09T10:10:30.270232Z",
     "shell.execute_reply": "2024-05-09T10:10:30.269438Z",
     "shell.execute_reply.started": "2024-05-09T10:10:30.220991Z"
    }
   },
   "outputs": [],
   "source": [
    "def load_checkpoint_v2(model, filename, dryrun = False):\n",
    "    epoch = 9999999\n",
    "    try:\n",
    "        checkpoints_folder = os.path.join(\"ckpts\")\n",
    "        checkpoint = torch.load(os.path.join(checkpoints_folder, filename+'.pt'))\n",
    "        for key, value in checkpoint.items():\n",
    "            print(f\"{key:40s}, {str(type(value)):60s}  -- model attr set\")\n",
    "            if not dryrun:\n",
    "                model.__dict__[key] = value\n",
    "        \n",
    "        # model.load_state_dict(checkpoint['state_dict'])\n",
    "        # model.optimizer.load_state_dict(checkpoint['optimizer_state_dict'])\n",
    "        # if \"scheduler\" in checkpoint and (hasattr(model, 'scheduler')):\n",
    "        #     model.scheduler = checkpoint['scheduler']\n",
    "        # epoch = checkpoint.get('epoch',0)\n",
    "        print(f\"\\n ==> Loaded from checkpoint {filename} successfully. last epoch on checkpoint: {epoch}\\n\")\n",
    "         \n",
    "    except FileNotFoundError:\n",
    "        Exception(\"Previous state checkpoint not found.\")\n",
    "        print(\"FileNotFound Exception\")\n",
    "    except :\n",
    "        print(\"Other Exception\")\n",
    "        print(sys.exc_info())\n",
    "\n",
    "    return model, epoch\n",
    "\n",
    "def save_checkpoint_v2(epoch, model, filename, update_latest=False, update_best=False, verbose = False):\n",
    "    from types import NoneType\n",
    "    model_checkpoints_folder = os.path.join(\"ckpts\")\n",
    "    if not os.path.exists(model_checkpoints_folder):\n",
    "        print(f\"path {model_checkpoints_folder} doesn't exist\")\n",
    "        \n",
    "    checkpoint = {'epoch'                     : epoch,\n",
    "                  'state_dict'                : model.state_dict(),\n",
    "                  'optimizer_state_dict'      : model.optimizer.state_dict(),\n",
    "                  'temp_optimizer_state_dict' : model.temp_optimizer.state_dict(),\n",
    "                  'scheduler_state_dict'      : model.scheduler.state_dict() if model.use_scheduler else None,\n",
    "                  'temp_scheduler_state_dict' : model.temp_scheduler.state_dict() if model.use_temp_scheduler else None ,\n",
    "                 }\n",
    "    model_attributes = model.__dict__\n",
    "    for key, value in model_attributes.items():\n",
    "        if key not in checkpoint:\n",
    "            if key[0] == '_' :\n",
    "                if verbose:\n",
    "                    print(f\"{key:40s}, {str(type(value)):60s} -- {key} in ignore_attributes - will not be added\")\n",
    "            else:\n",
    "                if verbose:\n",
    "                    print(f\"{key:40s}, {str(type(value)):60s} -- add to checkpoint dict\")\n",
    "                checkpoint['params'][key] = value\n",
    "        else:\n",
    "            if verbose:\n",
    "                print(f\"{key:40s}, {str(type(value)):60s} -- {key} already in checkpoint dict\")\n",
    "    if verbose:\n",
    "        print(checkpoint.keys())    \n",
    "    if update_latest:\n",
    "        s_filename = os.path.join(model_checkpoints_folder, f\"{filename}_model_latest.pt\")\n",
    "    elif update_best:\n",
    "        s_filename = os.path.join(model_checkpoints_folder, f\"{filename}_model_best.pt\")\n",
    "    else:\n",
    "        filename = os.path.join(model_checkpoints_folder, f\"{filename}.pt\")\n",
    "    print(filename)\n",
    "    torch.save(checkpoint, filename) \n",
    "    print(f\"[INFO] Model exported to {filename}.\")\n",
    "\n",
    "\n",
    "def fix_checkpoint_v2 (filename):\n",
    "\n",
    "    checkpoints_folder = os.path.join(\"ckpts\")\n",
    "    orig_ckpt_file = os.path.join(checkpoints_folder, filename+'.pt')\n",
    "    fixed_ckpt_file = os.path.join(checkpoints_folder, filename+'_fixed.pt')\n",
    "    \n",
    "    print(f\" ==> Original checkpoint: {orig_ckpt_file}\")\n",
    "    print(f\" ==> Fixed    checkpoint: {fixed_ckpt_file}\")\n",
    "    \n",
    "    try:\n",
    "        checkpoint = torch.load(orig_ckpt_file)\n",
    "        print(f\"\\n ==> Loaded from checkpoint {filename} successfully. last epoch on checkpoint: {checkpoint['epoch']}\\n\")\n",
    "    except FileNotFoundError:\n",
    "        Exception(\"Original checkpoint not found.\")\n",
    "    except :\n",
    "        print(\"Other Exception\")\n",
    "        print(sys.exc_info())\n",
    "\n",
    "    fixed_checkpoint = dict()\n",
    "    fixed_checkpoint['params'] = dict()\n",
    "    for key, value in checkpoint.items():\n",
    "        if key in ['epoch', 'state_dict', 'optimizer_state_dict', 'temp_optimizer_state_dict', 'scheduler_state_dict', 'temp_scheduler_state_dict' ]:\n",
    "            fixed_checkpoint[key] = value\n",
    "            print(f\"{key:40s}, {str(type(value)):60s}  -- major key set  \")\n",
    "        else:\n",
    "            fixed_checkpoint['params'][key] = value\n",
    "            print(f\"{key:40s}, {str(type(value)):60s}  -- params key set  \")\n",
    "            \n",
    "    try:\n",
    "        torch.save(fixed_checkpoint, fixed_ckpt_file) \n",
    "        print(f\"[INFO] Model exported to { fixed_ckpt_file}.\")\n",
    "    except :\n",
    "        print(\"Other Exception 2\")\n",
    "        print(sys.exc_info())\n",
    "\n",
    "    return  fixed_checkpoint"
   ]
  },
  {
   "cell_type": "code",
   "execution_count": 143,
   "id": "2ef2f35d-a3e4-4da6-8bee-16b14748a36a",
   "metadata": {
    "execution": {
     "iopub.execute_input": "2024-05-09T10:00:28.195760Z",
     "iopub.status.busy": "2024-05-09T10:00:28.195284Z",
     "iopub.status.idle": "2024-05-09T10:00:28.235551Z",
     "shell.execute_reply": "2024-05-09T10:00:28.234807Z",
     "shell.execute_reply.started": "2024-05-09T10:00:28.195717Z"
    }
   },
   "outputs": [
    {
     "name": "stdout",
     "output_type": "stream",
     "text": [
      "AE_snnl_20240507_secondTry_300_copy\n"
     ]
    }
   ],
   "source": [
    "exp_epoch = 300\n",
    "exp_name = 'AE'\n",
    "exp_runmode = 'snnl'\n",
    "exp_date= '20240507'\n",
    "exp_title = 'secondTry'\n",
    "# filename = f\"{model.name}_{args.runmode.lower()}_{args.exp_date}_{args.exp_title}_ep_{epoch:03d}_copy.pt\"\n",
    "filename = f\"{exp_name}_{exp_runmode}_{exp_date}_{exp_title}_{exp_epoch:03d}_copy\"\n",
    "print(filename)"
   ]
  },
  {
   "cell_type": "code",
   "execution_count": 144,
   "id": "5a7e62c6-61de-42ca-8e74-fe2b325c6fc4",
   "metadata": {
    "execution": {
     "iopub.execute_input": "2024-05-09T10:00:42.138261Z",
     "iopub.status.busy": "2024-05-09T10:00:42.137810Z",
     "iopub.status.idle": "2024-05-09T10:00:42.179696Z",
     "shell.execute_reply": "2024-05-09T10:00:42.178977Z",
     "shell.execute_reply.started": "2024-05-09T10:00:42.138219Z"
    }
   },
   "outputs": [
    {
     "name": "stdout",
     "output_type": "stream",
     "text": [
      "AE_snnl_20240507_secondTry_300_copy\n"
     ]
    }
   ],
   "source": [
    "exp_name   = 'AE'\n",
    "exp_epochs = 300\n",
    "exp_mode   = 'snnl'\n",
    "exp_timestamp = \"20240507\"\n",
    "exp_title=\"secondTry\"\n",
    "# exp_cpb = 100\n",
    "# exp_factor = 0\n",
    "# ex_mode = 'baseline'\n",
    "# ex_title=\"dropout04\"\n",
    "# title=\"autoencoder\"\n",
    "# title='Xentropy'\n",
    "filename = f\"{exp_name}_{exp_mode}_{exp_timestamp}_{exp_title}_{exp_epochs:03d}_copy\" ## _cpb_{ex_cpb}_factor_{ex_factor:d}.pt\"\n",
    "print(filename)"
   ]
  },
  {
   "cell_type": "code",
   "execution_count": 145,
   "id": "cf21d888-a196-4e42-a8f6-feea3f7c4b4c",
   "metadata": {
    "execution": {
     "iopub.execute_input": "2024-05-09T10:00:43.569564Z",
     "iopub.status.busy": "2024-05-09T10:00:43.569312Z",
     "iopub.status.idle": "2024-05-09T10:00:43.604810Z",
     "shell.execute_reply": "2024-05-09T10:00:43.604271Z",
     "shell.execute_reply.started": "2024-05-09T10:00:43.569543Z"
    }
   },
   "outputs": [
    {
     "name": "stdout",
     "output_type": "stream",
     "text": [
      "\n",
      " *** Checkpoint EXISTS *** \n",
      "\n"
     ]
    }
   ],
   "source": [
    "if os.path.exists(os.path.join('ckpts', filename+'.pt')):\n",
    "    print(f\"\\n *** Checkpoint EXISTS *** \\n\")\n",
    "else:\n",
    "    print(f\"\\n *** Checkpoint DOESNT EXIST *** \\n\")    "
   ]
  },
  {
   "cell_type": "code",
   "execution_count": 146,
   "id": "6f2434ee-8773-4334-84bb-2de1509f8457",
   "metadata": {
    "execution": {
     "iopub.execute_input": "2024-05-09T10:00:44.501685Z",
     "iopub.status.busy": "2024-05-09T10:00:44.501365Z",
     "iopub.status.idle": "2024-05-09T10:00:44.619830Z",
     "shell.execute_reply": "2024-05-09T10:00:44.619018Z",
     "shell.execute_reply.started": "2024-05-09T10:00:44.501653Z"
    },
    "scrolled": true
   },
   "outputs": [
    {
     "name": "stdout",
     "output_type": "stream",
     "text": [
      " ==> Original checkpoint: ckpts/AE_snnl_20240507_secondTry_300_copy.pt\n",
      " ==> Fixed    checkpoint: ckpts/AE_snnl_20240507_secondTry_300_copy_fixed.pt\n",
      "\n",
      " ==> Loaded from checkpoint AE_snnl_20240507_secondTry_300_copy successfully. last epoch on checkpoint: 300\n",
      "\n",
      "epoch                                   , <class 'int'>                                                 -- major key set  \n",
      "state_dict                              , <class 'collections.OrderedDict'>                             -- major key set  \n",
      "optimizer_state_dict                    , <class 'dict'>                                                -- major key set  \n",
      "temp_optimizer_state_dict               , <class 'dict'>                                                -- major key set  \n",
      "scheduler_state_dict                    , <class 'dict'>                                                -- major key set  \n",
      "temp_scheduler_state_dict               , <class 'dict'>                                                -- major key set  \n",
      "name                                    , <class 'str'>                                                 -- params key set  \n",
      "layer_types                             , <class 'list'>                                                -- params key set  \n",
      "layer_activations                       , <class 'list'>                                                -- params key set  \n",
      "use_scheduler                           , <class 'bool'>                                                -- params key set  \n",
      "use_temp_scheduler                      , <class 'bool'>                                                -- params key set  \n",
      "monitor_grads_layer                     , <class 'NoneType'>                                            -- params key set  \n",
      "training                                , <class 'bool'>                                                -- params key set  \n",
      "mode                                    , <class 'str'>                                                 -- params key set  \n",
      "device                                  , <class 'torch.device'>                                        -- params key set  \n",
      "train_loss                              , <class 'list'>                                                -- params key set  \n",
      "use_snnl                                , <class 'bool'>                                                -- params key set  \n",
      "loss_factor                             , <class 'float'>                                               -- params key set  \n",
      "snnl_factor                             , <class 'float'>                                               -- params key set  \n",
      "code_units                              , <class 'int'>                                                 -- params key set  \n",
      "embedding_layer                         , <class 'int'>                                                 -- params key set  \n",
      "stability_epsilon                       , <class 'float'>                                               -- params key set  \n",
      "verbose                                 , <class 'bool'>                                                -- params key set  \n",
      "sample_size                             , <class 'int'>                                                 -- params key set  \n",
      "temperatureLR                           , <class 'float'>                                               -- params key set  \n",
      "training_history                        , <class 'dict'>                                                -- params key set  \n",
      "unsupervised                            , <class 'bool'>                                                -- params key set  \n",
      "use_annealing                           , <class 'bool'>                                                -- params key set  \n",
      "use_sum                                 , <class 'bool'>                                                -- params key set  \n",
      "optimizer                               , <class 'torch.optim.adam.Adam'>                               -- params key set  \n",
      "scheduler                               , <class 'torch.optim.lr_scheduler.ReduceLROnPlateau'>          -- params key set  \n",
      "temp_optimizer                          , <class 'torch.optim.sgd.SGD'>                                 -- params key set  \n",
      "temp_scheduler                          , <class 'torch.optim.lr_scheduler.ReduceLROnPlateau'>          -- params key set  \n",
      "batch_count                             , <class 'int'>                                                 -- params key set  \n",
      "validation                              , <class 'bool'>                                                -- params key set  \n",
      "[INFO] Model exported to ckpts/AE_snnl_20240507_secondTry_300_copy_fixed.pt.\n"
     ]
    }
   ],
   "source": [
    "new_checkpoint = fix_checkpoint_v2(filename)"
   ]
  },
  {
   "cell_type": "code",
   "execution_count": 149,
   "id": "2cca9c51-8907-4f8c-b116-be42fd8cef31",
   "metadata": {
    "execution": {
     "iopub.execute_input": "2024-05-09T10:01:26.117017Z",
     "iopub.status.busy": "2024-05-09T10:01:26.116745Z",
     "iopub.status.idle": "2024-05-09T10:01:26.154766Z",
     "shell.execute_reply": "2024-05-09T10:01:26.154018Z",
     "shell.execute_reply.started": "2024-05-09T10:01:26.116995Z"
    }
   },
   "outputs": [
    {
     "data": {
      "text/plain": [
       "dict_keys(['params', 'epoch', 'state_dict', 'optimizer_state_dict', 'temp_optimizer_state_dict', 'scheduler_state_dict', 'temp_scheduler_state_dict'])"
      ]
     },
     "execution_count": 149,
     "metadata": {},
     "output_type": "execute_result"
    },
    {
     "data": {
      "text/plain": [
       "dict_keys(['name', 'layer_types', 'layer_activations', 'use_scheduler', 'use_temp_scheduler', 'monitor_grads_layer', 'training', 'mode', 'device', 'train_loss', 'use_snnl', 'loss_factor', 'snnl_factor', 'code_units', 'embedding_layer', 'stability_epsilon', 'verbose', 'sample_size', 'temperatureLR', 'training_history', 'unsupervised', 'use_annealing', 'use_sum', 'optimizer', 'scheduler', 'temp_optimizer', 'temp_scheduler', 'batch_count', 'validation'])"
      ]
     },
     "execution_count": 149,
     "metadata": {},
     "output_type": "execute_result"
    }
   ],
   "source": [
    "new_checkpoint.keys()\n",
    "new_checkpoint['params'].keys()\n"
   ]
  },
  {
   "cell_type": "code",
   "execution_count": 114,
   "id": "5465a3fe-a98f-4e50-934f-8f0952f4e532",
   "metadata": {
    "execution": {
     "iopub.execute_input": "2024-05-09T09:42:09.644132Z",
     "iopub.status.busy": "2024-05-09T09:42:09.643599Z",
     "iopub.status.idle": "2024-05-09T09:42:09.731419Z",
     "shell.execute_reply": "2024-05-09T09:42:09.730666Z",
     "shell.execute_reply.started": "2024-05-09T09:42:09.644092Z"
    },
    "scrolled": true
   },
   "outputs": [
    {
     "name": "stdout",
     "output_type": "stream",
     "text": [
      "epoch                                   , <class 'int'>                                                 -- model attr set\n",
      "state_dict                              , <class 'collections.OrderedDict'>                             -- model attr set\n",
      "optimizer_state_dict                    , <class 'dict'>                                                -- model attr set\n",
      "temp_optimizer_state_dict               , <class 'dict'>                                                -- model attr set\n",
      "scheduler_state_dict                    , <class 'dict'>                                                -- model attr set\n",
      "temp_scheduler_state_dict               , <class 'dict'>                                                -- model attr set\n",
      "name                                    , <class 'str'>                                                 -- model attr set\n",
      "layer_types                             , <class 'list'>                                                -- model attr set\n",
      "layer_activations                       , <class 'list'>                                                -- model attr set\n",
      "use_scheduler                           , <class 'bool'>                                                -- model attr set\n",
      "use_temp_scheduler                      , <class 'bool'>                                                -- model attr set\n",
      "monitor_grads_layer                     , <class 'NoneType'>                                            -- model attr set\n",
      "training                                , <class 'bool'>                                                -- model attr set\n",
      "mode                                    , <class 'str'>                                                 -- model attr set\n",
      "device                                  , <class 'torch.device'>                                        -- model attr set\n",
      "train_loss                              , <class 'list'>                                                -- model attr set\n",
      "use_snnl                                , <class 'bool'>                                                -- model attr set\n",
      "loss_factor                             , <class 'float'>                                               -- model attr set\n",
      "snnl_factor                             , <class 'float'>                                               -- model attr set\n",
      "code_units                              , <class 'int'>                                                 -- model attr set\n",
      "embedding_layer                         , <class 'int'>                                                 -- model attr set\n",
      "stability_epsilon                       , <class 'float'>                                               -- model attr set\n",
      "verbose                                 , <class 'bool'>                                                -- model attr set\n",
      "sample_size                             , <class 'int'>                                                 -- model attr set\n",
      "temperatureLR                           , <class 'float'>                                               -- model attr set\n",
      "training_history                        , <class 'dict'>                                                -- model attr set\n",
      "unsupervised                            , <class 'bool'>                                                -- model attr set\n",
      "use_annealing                           , <class 'bool'>                                                -- model attr set\n",
      "use_sum                                 , <class 'bool'>                                                -- model attr set\n",
      "optimizer                               , <class 'torch.optim.adam.Adam'>                               -- model attr set\n",
      "scheduler                               , <class 'torch.optim.lr_scheduler.ReduceLROnPlateau'>          -- model attr set\n",
      "temp_optimizer                          , <class 'torch.optim.sgd.SGD'>                                 -- model attr set\n",
      "temp_scheduler                          , <class 'torch.optim.lr_scheduler.ReduceLROnPlateau'>          -- model attr set\n",
      "batch_count                             , <class 'int'>                                                 -- model attr set\n",
      "validation                              , <class 'bool'>                                                -- model attr set\n",
      "\n",
      " ==> Loaded from checkpoint AE_snnl_20240507_secondTry_300_copy successfully. last epoch on checkpoint: 9999999\n",
      "\n"
     ]
    }
   ],
   "source": [
    "\n",
    "mdl , epc = load_checkpoint_v2(model, filename)  \n",
    " "
   ]
  },
  {
   "cell_type": "code",
   "execution_count": 98,
   "id": "e0455c8b-6949-4862-9aa5-c1654a62cbbd",
   "metadata": {
    "execution": {
     "iopub.execute_input": "2024-05-09T09:27:40.455225Z",
     "iopub.status.busy": "2024-05-09T09:27:40.454672Z",
     "iopub.status.idle": "2024-05-09T09:27:40.500045Z",
     "shell.execute_reply": "2024-05-09T09:27:40.499140Z",
     "shell.execute_reply.started": "2024-05-09T09:27:40.455182Z"
    }
   },
   "outputs": [
    {
     "data": {
      "text/plain": [
       "9999"
      ]
     },
     "execution_count": 98,
     "metadata": {},
     "output_type": "execute_result"
    }
   ],
   "source": [
    "epc"
   ]
  },
  {
   "cell_type": "code",
   "execution_count": 73,
   "id": "0230c107-ca9f-437c-ac2d-d730a480a9dd",
   "metadata": {
    "execution": {
     "iopub.execute_input": "2024-05-09T09:17:23.338313Z",
     "iopub.status.busy": "2024-05-09T09:17:23.337811Z",
     "iopub.status.idle": "2024-05-09T09:17:23.385452Z",
     "shell.execute_reply": "2024-05-09T09:17:23.384834Z",
     "shell.execute_reply.started": "2024-05-09T09:17:23.338271Z"
    }
   },
   "outputs": [
    {
     "name": "stdout",
     "output_type": "stream",
     "text": [
      "\n",
      " model device        : cuda:0\n",
      " model temperature   : Parameter containing:\n",
      "tensor([50.], device='cuda:0', requires_grad=True)\n",
      " model l             : Parameter containing:\n",
      "tensor([50.], device='cuda:0', requires_grad=True)\n",
      " loss_factor         : 2.0\n",
      " monitor_grads_layer : None\n",
      " Learning rate       : 1.5625e-05\n",
      " snnl_factor         : 0.5\n",
      " temperature         : 50.0\n",
      " Temperature LR      : 0.0005\n"
     ]
    }
   ],
   "source": [
    "print()\n",
    "print(f\" model device        : {model.device}\")\n",
    "print(f\" model temperature   : {model.temperature}\")\n",
    "print(f\" model l             : {model.temperature}\")\n",
    "print(f\" loss_factor         : {model.loss_factor}\")\n",
    "print(f\" monitor_grads_layer : {model.monitor_grads_layer}\")\n",
    "print(f\" Learning rate       : {model.optimizer.param_groups[0]['lr']}\") \n",
    "print(f\" snnl_factor         : {model.snnl_factor}\")\n",
    "print(f\" temperature         : {model.temperature.item()}\")\n",
    "print(f\" Temperature LR      : {model.temp_optimizer.param_groups[0]['lr']}\") "
   ]
  },
  {
   "cell_type": "code",
   "execution_count": 97,
   "id": "a7190514-289b-449c-a5da-34bbfaaeeb85",
   "metadata": {
    "execution": {
     "iopub.execute_input": "2024-05-09T09:27:28.997006Z",
     "iopub.status.busy": "2024-05-09T09:27:28.996501Z",
     "iopub.status.idle": "2024-05-09T09:27:29.042126Z",
     "shell.execute_reply": "2024-05-09T09:27:29.041420Z",
     "shell.execute_reply.started": "2024-05-09T09:27:28.996963Z"
    }
   },
   "outputs": [
    {
     "name": "stdout",
     "output_type": "stream",
     "text": [
      "\n",
      " model device        : cuda:0\n",
      " model temperature   : Parameter containing:\n",
      "tensor([50.], device='cuda:0', requires_grad=True)\n",
      " model l             : Parameter containing:\n",
      "tensor([50.], device='cuda:0', requires_grad=True)\n",
      " loss_factor         : 2.0\n",
      " monitor_grads_layer : None\n",
      " Learning rate       : 1.5625e-05\n",
      " snnl_factor         : 0.5\n",
      " temperature         : 50.0\n",
      " Temperature LR      : 0.0005\n"
     ]
    }
   ],
   "source": [
    "print()\n",
    "print(f\" model device        : {mdl.device}\")\n",
    "print(f\" model temperature   : {mdl.temperature}\")\n",
    "print(f\" model l             : {mdl.temperature}\")\n",
    "print(f\" loss_factor         : {mdl.loss_factor}\")\n",
    "print(f\" monitor_grads_layer : {mdl.monitor_grads_layer}\")\n",
    "print(f\" Learning rate       : {mdl.optimizer.param_groups[0]['lr']}\") \n",
    "print(f\" snnl_factor         : {mdl.snnl_factor}\")\n",
    "print(f\" temperature         : {mdl.temperature.item()}\")\n",
    "print(f\" Temperature LR      : {mdl.temp_optimizer.param_groups[0]['lr']}\") "
   ]
  },
  {
   "cell_type": "code",
   "execution_count": 69,
   "id": "5b6bec81-c316-4d2b-bff7-73bb1fff1230",
   "metadata": {
    "execution": {
     "iopub.execute_input": "2024-05-08T14:46:43.694927Z",
     "iopub.status.busy": "2024-05-08T14:46:43.694283Z",
     "iopub.status.idle": "2024-05-08T14:46:44.215304Z",
     "shell.execute_reply": "2024-05-08T14:46:44.214405Z",
     "shell.execute_reply.started": "2024-05-08T14:46:43.694881Z"
    }
   },
   "outputs": [],
   "source": [
    "def load_model_from_ckpt(model, exmode, timestamp, title, cpb, factor ):\n",
    "# filename = f\"AE_{args.model.lower()}_{date}_{title}_{epochs:03d}_cpb_{args.compounds_per_batch}_factor_{factor}.pt\"    \n",
    "    filename = f\"{model.name}_{exmode}_{timestamp}_{title}_{epochs:03d}_cpb_{cpb}_factor_{factor:d}.pt\"\n",
    "    print(filename)\n",
    "    if os.path.exists(os.path.join('ckpts', filename)):\n",
    "        print(f\"\\n *** Checkpoint EXISTS *** \\n\")\n",
    "        model, last_epoch = load_checkpoint(model, filename)\n",
    "        _ = model.eval()\n",
    "        # model = model.to(current_device)\n",
    "        # model.to('cpu')\n",
    "        print(f\" model device: {model.device}\")\n",
    "        print(f\" model temperature: {model.temperature}\")\n",
    "        print(f\" model l: {model.temperature}\")\n",
    "    else:\n",
    "        print(f\"\\n *** Checkpoint DOESNT EXIST *** \\n\")\n",
    "    return model"
   ]
  },
  {
   "cell_type": "code",
   "execution_count": 49,
   "id": "53069be8-556a-4b1a-8f4b-a80100d821ab",
   "metadata": {
    "execution": {
     "iopub.execute_input": "2024-05-09T09:08:37.561579Z",
     "iopub.status.busy": "2024-05-09T09:08:37.561070Z",
     "iopub.status.idle": "2024-05-09T09:08:37.632150Z",
     "shell.execute_reply": "2024-05-09T09:08:37.631455Z",
     "shell.execute_reply.started": "2024-05-09T09:08:37.561534Z"
    }
   },
   "outputs": [
    {
     "name": "stdout",
     "output_type": "stream",
     "text": [
      "\n"
     ]
    },
    {
     "data": {
      "text/plain": [
       "{'defaults': {'lr': 0.0001,\n",
       "  'betas': (0.9, 0.999),\n",
       "  'eps': 1e-08,\n",
       "  'weight_decay': 0,\n",
       "  'amsgrad': False,\n",
       "  'maximize': False,\n",
       "  'foreach': None,\n",
       "  'capturable': False,\n",
       "  'differentiable': False,\n",
       "  'fused': None},\n",
       " '_optimizer_step_pre_hooks': OrderedDict(),\n",
       " '_optimizer_step_post_hooks': OrderedDict(),\n",
       " '_optimizer_state_dict_pre_hooks': OrderedDict(),\n",
       " '_optimizer_state_dict_post_hooks': OrderedDict(),\n",
       " '_optimizer_load_state_dict_pre_hooks': OrderedDict(),\n",
       " '_optimizer_load_state_dict_post_hooks': OrderedDict(),\n",
       " '_zero_grad_profile_name': 'Optimizer.zero_grad#Adam.zero_grad',\n",
       " 'state': defaultdict(dict, {}),\n",
       " 'param_groups': [{'params': [Parameter containing:\n",
       "    tensor([[ 0.0099,  0.0209,  0.0352,  ..., -0.0118,  0.0566, -0.1130],\n",
       "            [ 0.0362, -0.0060, -0.0494,  ...,  0.0027,  0.0527,  0.0409],\n",
       "            [ 0.0696,  0.0426, -0.0060,  ..., -0.0674, -0.0258, -0.0254],\n",
       "            ...,\n",
       "            [-0.0090,  0.0015, -0.0364,  ...,  0.0122, -0.0073,  0.0517],\n",
       "            [ 0.0539, -0.0594,  0.0606,  ..., -0.0031, -0.0664,  0.0161],\n",
       "            [-0.0316, -0.0568,  0.0032,  ...,  0.0434,  0.0118, -0.0030]], device='cuda:0', requires_grad=True),\n",
       "    Parameter containing:\n",
       "    tensor([-0.0162,  0.0119,  0.0088,  ..., -0.0151,  0.0125,  0.0013], device='cuda:0', requires_grad=True),\n",
       "    Parameter containing:\n",
       "    tensor([[ 0.0208,  0.0545,  0.0535,  ..., -0.0188,  0.0178, -0.0719],\n",
       "            [ 0.0370,  0.0075,  0.0143,  ..., -0.0145, -0.0097, -0.0136],\n",
       "            [-0.0340,  0.0039,  0.0050,  ...,  0.0245,  0.0220, -0.0156],\n",
       "            ...,\n",
       "            [ 0.0254, -0.0131, -0.0027,  ...,  0.0162, -0.0270,  0.0966],\n",
       "            [-0.0660, -0.0146, -0.0620,  ..., -0.0165, -0.0227,  0.0472],\n",
       "            [-0.0954,  0.0585, -0.0088,  ...,  0.0082,  0.0165, -0.0061]], device='cuda:0', requires_grad=True),\n",
       "    Parameter containing:\n",
       "    tensor([ 0.0183,  0.0047, -0.0053,  0.0183,  0.0270,  0.0007,  0.0029, -0.0021, -0.0115,  0.0088, -0.0030,  0.0124, -0.0054, -0.0212,  0.0091,\n",
       "             0.0213, -0.0195, -0.0014,  0.0284, -0.0251, -0.0168, -0.0003,  0.0196,  0.0182, -0.0109,  0.0003, -0.0233,  0.0076,  0.0235,  0.0014,\n",
       "             0.0167,  0.0129,  0.0182, -0.0173,  0.0272, -0.0226,  0.0230,  0.0043, -0.0165, -0.0226, -0.0174, -0.0179, -0.0301,  0.0302, -0.0004,\n",
       "             0.0281, -0.0310, -0.0032,  0.0230, -0.0079, -0.0228,  0.0184,  0.0081,  0.0165,  0.0262,  0.0204,  0.0062, -0.0168,  0.0164, -0.0049,\n",
       "             0.0262,  0.0229, -0.0020, -0.0164,  0.0196, -0.0195,  0.0218,  0.0160,  0.0105,  0.0032,  0.0084, -0.0298,  0.0019, -0.0230,  0.0066,\n",
       "             0.0176, -0.0010,  0.0184,  0.0049,  0.0021, -0.0205, -0.0055, -0.0045,  0.0090, -0.0115,  0.0129, -0.0146,  0.0217,  0.0081,  0.0296,\n",
       "             0.0045, -0.0154,  0.0289,  0.0195, -0.0080, -0.0207,  0.0239,  0.0096, -0.0061, -0.0229,  0.0087, -0.0002, -0.0290, -0.0222, -0.0281,\n",
       "            -0.0098, -0.0210,  0.0157, -0.0177,  0.0296,  0.0141, -0.0231,  0.0020, -0.0204, -0.0120,  0.0256,  0.0260, -0.0114, -0.0115, -0.0138,\n",
       "            -0.0145,  0.0189, -0.0296,  0.0111, -0.0018,  0.0083,  0.0061,  0.0228], device='cuda:0', requires_grad=True),\n",
       "    Parameter containing:\n",
       "    tensor([[-0.1159, -0.1044, -0.0403,  ..., -0.0737,  0.0472,  0.2755],\n",
       "            [ 0.0166,  0.0309,  0.2530,  ...,  0.0480, -0.1982,  0.0826],\n",
       "            [-0.1484,  0.1011, -0.0699,  ..., -0.0790,  0.1276,  0.0713],\n",
       "            ...,\n",
       "            [-0.1476,  0.0324,  0.0105,  ...,  0.2364,  0.0511,  0.0499],\n",
       "            [-0.0804,  0.0437, -0.0549,  ..., -0.1130, -0.0492, -0.2275],\n",
       "            [-0.1833, -0.0351,  0.0729,  ..., -0.1198,  0.1004,  0.0296]], device='cuda:0', requires_grad=True),\n",
       "    Parameter containing:\n",
       "    tensor([ 0.0023, -0.0160, -0.0759,  0.0123, -0.0762,  0.0246,  0.0292,  0.0864, -0.0050,  0.0248, -0.0278, -0.0288,  0.0675, -0.0828,  0.0659,\n",
       "             0.0883, -0.0278, -0.0581,  0.0239,  0.0798,  0.0167,  0.0816, -0.0397, -0.0060, -0.0866,  0.0678,  0.0330,  0.0015,  0.0458, -0.0258,\n",
       "             0.0593, -0.0778,  0.0588,  0.0019, -0.0463,  0.0250, -0.0370,  0.0516, -0.0317,  0.0758,  0.0103,  0.0353,  0.0866, -0.0448, -0.0603,\n",
       "            -0.0369, -0.0668, -0.0811, -0.0394, -0.0757], device='cuda:0', requires_grad=True),\n",
       "    Parameter containing:\n",
       "    tensor([[ 2.1594e-02, -3.6581e-01,  3.3918e-01,  ..., -2.3706e-02,  7.1152e-02,  2.2386e-01],\n",
       "            [-1.1740e-01, -1.4076e-01, -1.7841e-01,  ...,  1.0044e-01, -6.6251e-02, -6.8629e-02],\n",
       "            [ 3.4348e-04,  2.4792e-01, -2.0185e-02,  ...,  1.2442e-01,  3.1881e-01, -1.1711e-01],\n",
       "            ...,\n",
       "            [ 1.1298e-01, -4.1874e-01,  4.7354e-02,  ...,  6.3578e-02,  2.0644e-01, -1.4360e-01],\n",
       "            [ 3.1613e-01,  1.8281e-01,  4.4154e-01,  ...,  2.9046e-01, -1.9217e-01,  3.9445e-01],\n",
       "            [-8.3566e-02,  2.6543e-01,  5.5766e-02,  ...,  2.6638e-01,  1.9343e-01,  2.2721e-02]], device='cuda:0', requires_grad=True),\n",
       "    Parameter containing:\n",
       "    tensor([-0.0244,  0.0704, -0.0469,  0.0732,  0.0167,  0.0407, -0.0945,  0.0023,  0.0247, -0.1249, -0.0813, -0.0221,  0.1128,  0.0087, -0.0392,\n",
       "            -0.0706,  0.1109,  0.0201, -0.1282,  0.0572,  0.0899,  0.0381, -0.0256, -0.0231, -0.0255,  0.0334,  0.0312, -0.0199,  0.0715,  0.0694,\n",
       "            -0.1117,  0.1168, -0.0315,  0.0608,  0.0942, -0.0783,  0.0467,  0.0477, -0.0732, -0.0568,  0.0514,  0.1163,  0.0983,  0.1282,  0.0138,\n",
       "            -0.1342, -0.1261,  0.0117,  0.1315, -0.1393,  0.0118, -0.1167,  0.0680, -0.1199, -0.1056, -0.1133, -0.0465,  0.1208,  0.0670, -0.0114,\n",
       "            -0.0897, -0.0190, -0.0857,  0.0612,  0.0636,  0.0211,  0.1312,  0.0650, -0.0657, -0.0056,  0.0621, -0.0412,  0.0404,  0.1109, -0.1267,\n",
       "             0.1319, -0.0769,  0.0155, -0.0540, -0.1032,  0.0397,  0.0963,  0.0654, -0.0051,  0.1236, -0.0755, -0.0995,  0.1216,  0.0581, -0.1265,\n",
       "             0.0529,  0.0277,  0.0311,  0.1307, -0.0348,  0.1125, -0.0891,  0.1267, -0.1236,  0.0074, -0.0725,  0.1083,  0.0655,  0.1339, -0.0250,\n",
       "             0.1127,  0.0737, -0.0681, -0.1202,  0.0315,  0.0646,  0.0567,  0.0946,  0.1159,  0.0444,  0.0197,  0.0316,  0.1062,  0.0760,  0.0920,\n",
       "            -0.0801,  0.0732, -0.0057, -0.0356,  0.0587,  0.0132,  0.0584,  0.0522], device='cuda:0', requires_grad=True),\n",
       "    Parameter containing:\n",
       "    tensor([[ 0.0737,  0.2081,  0.0010,  ..., -0.1937,  0.1409, -0.0370],\n",
       "            [-0.0687, -0.0796, -0.1857,  ..., -0.1689,  0.1192, -0.0819],\n",
       "            [ 0.0915,  0.1145, -0.0995,  ..., -0.1201, -0.1153, -0.0569],\n",
       "            ...,\n",
       "            [-0.2164,  0.0201, -0.0873,  ..., -0.0055, -0.0046,  0.1833],\n",
       "            [-0.0492, -0.1408, -0.0786,  ..., -0.1402, -0.0051,  0.0965],\n",
       "            [-0.3021,  0.0925, -0.2134,  ..., -0.0246,  0.0084,  0.0265]], device='cuda:0', requires_grad=True),\n",
       "    Parameter containing:\n",
       "    tensor([-0.0193,  0.0855,  0.0832,  ...,  0.0378,  0.0788, -0.0772], device='cuda:0', requires_grad=True),\n",
       "    Parameter containing:\n",
       "    tensor([[ 0.0400,  0.0305, -0.0273,  ..., -0.0208,  0.0348,  0.0388],\n",
       "            [ 0.0294,  0.0798, -0.0099,  ..., -0.0129,  0.0615,  0.0098],\n",
       "            [ 0.0503, -0.0243, -0.0423,  ..., -0.0420, -0.0087,  0.0714],\n",
       "            ...,\n",
       "            [ 0.0171, -0.0740, -0.0143,  ...,  0.0561,  0.0436,  0.0287],\n",
       "            [ 0.0852, -0.0236, -0.1068,  ...,  0.0048, -0.0032, -0.0325],\n",
       "            [ 0.0431, -0.0816, -0.1099,  ...,  0.0176,  0.0483,  0.0209]], device='cuda:0', requires_grad=True),\n",
       "    Parameter containing:\n",
       "    tensor([-0.0100, -0.0266,  0.0163,  ...,  0.0256, -0.0291, -0.0072], device='cuda:0', requires_grad=True)],\n",
       "   'lr': 0.0001,\n",
       "   'betas': (0.9, 0.999),\n",
       "   'eps': 1e-08,\n",
       "   'weight_decay': 0,\n",
       "   'amsgrad': False,\n",
       "   'maximize': False,\n",
       "   'foreach': None,\n",
       "   'capturable': False,\n",
       "   'differentiable': False,\n",
       "   'fused': None}],\n",
       " '_warned_capturable_if_run_uncaptured': True}"
      ]
     },
     "execution_count": 49,
     "metadata": {},
     "output_type": "execute_result"
    }
   ],
   "source": [
    "print()\n",
    "model.optimizer.__dict__"
   ]
  },
  {
   "cell_type": "code",
   "execution_count": 50,
   "id": "a2a131e4-f71f-40d4-9155-706f1e85ba09",
   "metadata": {
    "execution": {
     "iopub.execute_input": "2024-05-09T09:08:38.534959Z",
     "iopub.status.busy": "2024-05-09T09:08:38.534312Z",
     "iopub.status.idle": "2024-05-09T09:08:38.582323Z",
     "shell.execute_reply": "2024-05-09T09:08:38.581751Z",
     "shell.execute_reply.started": "2024-05-09T09:08:38.534897Z"
    }
   },
   "outputs": [
    {
     "name": "stdout",
     "output_type": "stream",
     "text": [
      "\n"
     ]
    },
    {
     "data": {
      "text/plain": [
       "{'defaults': {'lr': 0.01,\n",
       "  'momentum': 0.9,\n",
       "  'dampening': 0,\n",
       "  'weight_decay': 0,\n",
       "  'nesterov': False,\n",
       "  'maximize': False,\n",
       "  'foreach': None,\n",
       "  'differentiable': False},\n",
       " '_optimizer_step_pre_hooks': OrderedDict(),\n",
       " '_optimizer_step_post_hooks': OrderedDict(),\n",
       " '_optimizer_state_dict_pre_hooks': OrderedDict(),\n",
       " '_optimizer_state_dict_post_hooks': OrderedDict(),\n",
       " '_optimizer_load_state_dict_pre_hooks': OrderedDict(),\n",
       " '_optimizer_load_state_dict_post_hooks': OrderedDict(),\n",
       " '_zero_grad_profile_name': 'Optimizer.zero_grad#SGD.zero_grad',\n",
       " 'state': defaultdict(dict, {}),\n",
       " 'param_groups': [{'params': [Parameter containing:\n",
       "    tensor([50.], device='cuda:0', requires_grad=True)],\n",
       "   'lr': 0.01,\n",
       "   'momentum': 0.9,\n",
       "   'dampening': 0,\n",
       "   'weight_decay': 0,\n",
       "   'nesterov': False,\n",
       "   'maximize': False,\n",
       "   'foreach': None,\n",
       "   'differentiable': False}],\n",
       " '_warned_capturable_if_run_uncaptured': True}"
      ]
     },
     "execution_count": 50,
     "metadata": {},
     "output_type": "execute_result"
    }
   ],
   "source": [
    "print()\n",
    "model.temp_optimizer.__dict__"
   ]
  },
  {
   "cell_type": "code",
   "execution_count": null,
   "id": "014bda96-d177-45d1-9170-f4237043afdd",
   "metadata": {},
   "outputs": [],
   "source": []
  },
  {
   "cell_type": "code",
   "execution_count": null,
   "id": "c47209bd-6b2a-4483-a119-a0a238809e58",
   "metadata": {},
   "outputs": [],
   "source": []
  },
  {
   "cell_type": "code",
   "execution_count": null,
   "id": "de18c418-aa94-4651-8086-83119f58707f",
   "metadata": {},
   "outputs": [],
   "source": []
  },
  {
   "cell_type": "markdown",
   "id": "5f4f1300-af9c-47f5-a9a5-ef5a487950ab",
   "metadata": {},
   "source": [
    "# SNNL"
   ]
  },
  {
   "cell_type": "code",
   "execution_count": 5,
   "id": "124633aa-cd20-456f-856e-25524ed9104d",
   "metadata": {
    "execution": {
     "iopub.execute_input": "2024-04-24T12:14:46.162349Z",
     "iopub.status.busy": "2024-04-24T12:14:46.162047Z",
     "iopub.status.idle": "2024-04-24T12:14:46.268697Z",
     "shell.execute_reply": "2024-04-24T12:14:46.267579Z",
     "shell.execute_reply.started": "2024-04-24T12:14:46.162320Z"
    }
   },
   "outputs": [],
   "source": [
    "# from snnl import SNNLoss\n",
    "_ = torch.manual_seed(42)"
   ]
  },
  {
   "cell_type": "code",
   "execution_count": 6,
   "id": "bf5b5c57-7bad-47c8-ae1c-cfaf5d57e12f",
   "metadata": {
    "execution": {
     "iopub.execute_input": "2024-04-24T12:14:46.270699Z",
     "iopub.status.busy": "2024-04-24T12:14:46.270141Z",
     "iopub.status.idle": "2024-04-24T12:14:46.302911Z",
     "shell.execute_reply": "2024-04-24T12:14:46.302042Z",
     "shell.execute_reply.started": "2024-04-24T12:14:46.270660Z"
    }
   },
   "outputs": [
    {
     "name": "stdout",
     "output_type": "stream",
     "text": [
      " Build SNNLoss dfrom NOTEBOOK\n",
      " Building SNNLoss from NOTEBOOK\n",
      "    SNNLoss _init()_    -- mode: classifier was found in SNNLoss._supported_modes --   is unsupervised: False\n",
      "    SNNLoss _init()_    -- primary_criterion: CrossEntropyLoss()\n",
      "    SNNLoss _init()_    -- unsupervised :     False\n",
      "    SNNLoss _init()_    -- use_annealing :    False\n",
      "    SNNLoss _init()_    -- sample_size :      1\n"
     ]
    }
   ],
   "source": [
    "snnl = SNNLoss(temperature=1.0)"
   ]
  },
  {
   "cell_type": "code",
   "execution_count": 7,
   "id": "e3196012-c9b2-4ed8-9501-c3a35fb1c616",
   "metadata": {
    "execution": {
     "iopub.execute_input": "2024-04-24T12:14:46.304075Z",
     "iopub.status.busy": "2024-04-24T12:14:46.303818Z",
     "iopub.status.idle": "2024-04-24T12:14:46.587272Z",
     "shell.execute_reply": "2024-04-24T12:14:46.586156Z",
     "shell.execute_reply.started": "2024-04-24T12:14:46.304040Z"
    }
   },
   "outputs": [],
   "source": [
    "features = torch.rand((4, 2))"
   ]
  },
  {
   "cell_type": "code",
   "execution_count": 312,
   "id": "38d4c51b-7e19-45fb-9bed-5ca14b559507",
   "metadata": {
    "execution": {
     "iopub.execute_input": "2024-04-01T07:45:11.836584Z",
     "iopub.status.busy": "2024-04-01T07:45:11.836154Z",
     "iopub.status.idle": "2024-04-01T07:45:11.877166Z",
     "shell.execute_reply": "2024-04-01T07:45:11.876526Z",
     "shell.execute_reply.started": "2024-04-01T07:45:11.836544Z"
    }
   },
   "outputs": [
    {
     "data": {
      "text/plain": [
       "tensor([[0.0200, 0.0200],\n",
       "        [0.1000, 0.1000],\n",
       "        [1.0200, 1.0200],\n",
       "        [2.0000, 2.0000]])"
      ]
     },
     "execution_count": 312,
     "metadata": {},
     "output_type": "execute_result"
    }
   ],
   "source": [
    "features = torch.Tensor([[1.0, 1.0],\n",
    "                         [2.0, 2.0],\n",
    "                         [-1.0, -1.0],\n",
    "                         [-2.0, -2.0]]\n",
    "                       )\n",
    "features = torch.Tensor([[2.0, 2.0],\n",
    "                         [-2.0, -2.0]])\n",
    "features = torch.Tensor([[0.02, 0.02],\n",
    "                         [0.1, 0.1],\n",
    "                         [1.02, 1.02],\n",
    "                         [2.00, 2.00]])\n",
    "features"
   ]
  },
  {
   "cell_type": "code",
   "execution_count": 313,
   "id": "59b91ce4-a8a7-4ef9-9cc5-ace160f4bfc9",
   "metadata": {
    "execution": {
     "iopub.execute_input": "2024-04-01T07:45:12.990528Z",
     "iopub.status.busy": "2024-04-01T07:45:12.990168Z",
     "iopub.status.idle": "2024-04-01T07:45:13.023897Z",
     "shell.execute_reply": "2024-04-01T07:45:13.023267Z",
     "shell.execute_reply.started": "2024-04-01T07:45:12.990494Z"
    }
   },
   "outputs": [
    {
     "data": {
      "text/plain": [
       "torch.Size([4, 1])"
      ]
     },
     "execution_count": 313,
     "metadata": {},
     "output_type": "execute_result"
    }
   ],
   "source": [
    "labels = torch.Tensor([[0.0],[0.0],[0.0],[0.0]])\n",
    "# labels = torch.Tensor([[0.0],[0.0]])\n",
    "# labels = torch.Tensor([[0.0],[0.0],[0.0]])\n",
    "labels.shape"
   ]
  },
  {
   "cell_type": "code",
   "execution_count": 321,
   "id": "6a648a79-3fe2-423b-97bf-d381229493f5",
   "metadata": {
    "execution": {
     "iopub.execute_input": "2024-04-01T07:45:51.258555Z",
     "iopub.status.busy": "2024-04-01T07:45:51.258081Z",
     "iopub.status.idle": "2024-04-01T07:45:51.295303Z",
     "shell.execute_reply": "2024-04-01T07:45:51.294667Z",
     "shell.execute_reply.started": "2024-04-01T07:45:51.258514Z"
    }
   },
   "outputs": [],
   "source": [
    "snnl.sample_size = 1\n",
    "snnl.temperature = 2.2"
   ]
  },
  {
   "cell_type": "code",
   "execution_count": 322,
   "id": "c8a3245b-f55b-4b67-84dd-1c1a5886ddb8",
   "metadata": {
    "execution": {
     "iopub.execute_input": "2024-04-01T07:45:51.689949Z",
     "iopub.status.busy": "2024-04-01T07:45:51.689616Z",
     "iopub.status.idle": "2024-04-01T07:45:51.725057Z",
     "shell.execute_reply": "2024-04-01T07:45:51.724579Z",
     "shell.execute_reply.started": "2024-04-01T07:45:51.689917Z"
    }
   },
   "outputs": [
    {
     "data": {
      "text/plain": [
       "tensor([[ 5.9605e-08,  5.9605e-08,  0.0000e+00,  5.9605e-08],\n",
       "        [ 5.9605e-08,  5.9605e-08,  0.0000e+00,  5.9605e-08],\n",
       "        [ 0.0000e+00,  0.0000e+00, -1.1921e-07,  0.0000e+00],\n",
       "        [ 5.9605e-08,  5.9605e-08,  0.0000e+00,  5.9605e-08]])"
      ]
     },
     "execution_count": 322,
     "metadata": {},
     "output_type": "execute_result"
    },
    {
     "data": {
      "text/plain": [
       "tensor([[0., 1., 1., 1.],\n",
       "        [1., 0., 1., 1.],\n",
       "        [1., 1., 0., 1.],\n",
       "        [1., 1., 1., 0.]])"
      ]
     },
     "execution_count": 322,
     "metadata": {},
     "output_type": "execute_result"
    }
   ],
   "source": [
    "snnl.distance_matrix = snnl.pairwise_cosine_distance(features)\n",
    "snnl.distance_matrix\n",
    "\n",
    "snnl.pairwise_distance_matrix = snnl.normalize_distance_matrix(features=features, distance_matrix=snnl.distance_matrix, device='cpu')\n",
    "snnl.pairwise_distance_matrix"
   ]
  },
  {
   "cell_type": "code",
   "execution_count": 323,
   "id": "7e1367b6-a8d7-4f4c-b04b-7fbea2d7cac8",
   "metadata": {
    "execution": {
     "iopub.execute_input": "2024-04-01T07:45:52.889886Z",
     "iopub.status.busy": "2024-04-01T07:45:52.889602Z",
     "iopub.status.idle": "2024-04-01T07:45:52.922045Z",
     "shell.execute_reply": "2024-04-01T07:45:52.921422Z",
     "shell.execute_reply.started": "2024-04-01T07:45:52.889860Z"
    }
   },
   "outputs": [
    {
     "data": {
      "text/plain": [
       "tensor([[0.0000, 0.3333, 0.3333, 0.3333],\n",
       "        [0.3333, 0.0000, 0.3333, 0.3333],\n",
       "        [0.3333, 0.3333, 0.0000, 0.3333],\n",
       "        [0.3333, 0.3333, 0.3333, 0.0000]])"
      ]
     },
     "execution_count": 323,
     "metadata": {},
     "output_type": "execute_result"
    }
   ],
   "source": [
    "snnl.pick_probability = snnl.compute_sampling_probability(snnl.pairwise_distance_matrix)\n",
    "snnl.pick_probability"
   ]
  },
  {
   "cell_type": "code",
   "execution_count": 324,
   "id": "d933128f-00c6-4925-a96f-6e50d359414b",
   "metadata": {
    "execution": {
     "iopub.execute_input": "2024-04-01T07:45:54.460327Z",
     "iopub.status.busy": "2024-04-01T07:45:54.459921Z",
     "iopub.status.idle": "2024-04-01T07:45:54.492853Z",
     "shell.execute_reply": "2024-04-01T07:45:54.492363Z",
     "shell.execute_reply.started": "2024-04-01T07:45:54.460286Z"
    }
   },
   "outputs": [],
   "source": [
    "snnl.summed_masked_pick_probability = snnl.mask_sampling_probability(labels, snnl.pick_probability, device='cpu')"
   ]
  },
  {
   "cell_type": "code",
   "execution_count": 325,
   "id": "74797800-6af3-4493-8551-b84f183d800c",
   "metadata": {
    "execution": {
     "iopub.execute_input": "2024-04-01T07:46:03.940165Z",
     "iopub.status.busy": "2024-04-01T07:46:03.939754Z",
     "iopub.status.idle": "2024-04-01T07:46:03.980582Z",
     "shell.execute_reply": "2024-04-01T07:46:03.980095Z",
     "shell.execute_reply.started": "2024-04-01T07:46:03.940128Z"
    }
   },
   "outputs": [
    {
     "data": {
      "text/plain": [
       "tensor([[1., 0., 0., 0.],\n",
       "        [0., 1., 0., 0.],\n",
       "        [0., 0., 1., 0.],\n",
       "        [0., 0., 0., 1.]])"
      ]
     },
     "execution_count": 325,
     "metadata": {},
     "output_type": "execute_result"
    },
    {
     "data": {
      "text/plain": [
       "tensor([[0., 0., 0., 0.],\n",
       "        [0., 0., 0., 0.],\n",
       "        [0., 0., 0., 0.],\n",
       "        [0., 0., 0., 0.]])"
      ]
     },
     "execution_count": 325,
     "metadata": {},
     "output_type": "execute_result"
    },
    {
     "data": {
      "text/plain": [
       "tensor([0., 0., 0., 0.])"
      ]
     },
     "execution_count": 325,
     "metadata": {},
     "output_type": "execute_result"
    },
    {
     "data": {
      "text/plain": [
       "tensor([11.5129, 11.5129, 11.5129, 11.5129])"
      ]
     },
     "execution_count": 325,
     "metadata": {},
     "output_type": "execute_result"
    }
   ],
   "source": [
    "snnl.masking_matrix\n",
    "snnl.masked_pick_probability\n",
    "snnl.summed_masked_pick_probability\n",
    "-torch.log(snnl.stability_epsilon + snnl.summed_masked_pick_probability)"
   ]
  },
  {
   "cell_type": "code",
   "execution_count": 326,
   "id": "9837149a-2a80-457f-984d-e803764ae43b",
   "metadata": {
    "execution": {
     "iopub.execute_input": "2024-04-01T07:46:05.956074Z",
     "iopub.status.busy": "2024-04-01T07:46:05.955664Z",
     "iopub.status.idle": "2024-04-01T07:46:05.988289Z",
     "shell.execute_reply": "2024-04-01T07:46:05.987815Z",
     "shell.execute_reply.started": "2024-04-01T07:46:05.956035Z"
    }
   },
   "outputs": [
    {
     "data": {
      "text/plain": [
       "tensor(11.5129)"
      ]
     },
     "execution_count": 326,
     "metadata": {},
     "output_type": "execute_result"
    }
   ],
   "source": [
    "snnl.final =  torch.mean( -torch.log(snnl.stability_epsilon + snnl.summed_masked_pick_probability))\n",
    "snnl.final"
   ]
  },
  {
   "cell_type": "code",
   "execution_count": 327,
   "id": "536522c7-5561-49ab-99ab-f2d95b5f8cbe",
   "metadata": {
    "execution": {
     "iopub.execute_input": "2024-04-01T07:46:23.286440Z",
     "iopub.status.busy": "2024-04-01T07:46:23.286016Z",
     "iopub.status.idle": "2024-04-01T07:46:23.338368Z",
     "shell.execute_reply": "2024-04-01T07:46:23.337737Z",
     "shell.execute_reply.started": "2024-04-01T07:46:23.286400Z"
    }
   },
   "outputs": [],
   "source": [
    "x = []\n",
    "y = []\n",
    "\n",
    "for t in range(1,+50,+1):\n",
    "    # if t == 0:\n",
    "    #     continue\n",
    "    snnl.temperature = t\n",
    "    snnl.distance_matrix = snnl.pairwise_cosine_distance(features)\n",
    "    snnl.pairwise_distance_matrix = snnl.normalize_distance_matrix(features=features, distance_matrix=snnl.distance_matrix, device='cpu')\n",
    "    snnl.pick_probability = snnl.compute_sampling_probability(snnl.pairwise_distance_matrix)\n",
    "    snnl.summed_masked_pick_probability = snnl.mask_sampling_probability(labels, snnl.pick_probability, device='cpu')\n",
    "    snnl.final =  torch.mean( -torch.log(snnl.stability_epsilon + snnl.summed_masked_pick_probability))\n",
    "    x.append(t)\n",
    "    y.append(snnl.final)"
   ]
  },
  {
   "cell_type": "code",
   "execution_count": 328,
   "id": "3205b24b-ca4e-48d0-8502-81ef6536e649",
   "metadata": {
    "execution": {
     "iopub.execute_input": "2024-04-01T07:46:24.215988Z",
     "iopub.status.busy": "2024-04-01T07:46:24.215655Z",
     "iopub.status.idle": "2024-04-01T07:46:24.368374Z",
     "shell.execute_reply": "2024-04-01T07:46:24.367739Z",
     "shell.execute_reply.started": "2024-04-01T07:46:24.215957Z"
    }
   },
   "outputs": [
    {
     "data": {
      "text/plain": [
       "49"
      ]
     },
     "execution_count": 328,
     "metadata": {},
     "output_type": "execute_result"
    },
    {
     "data": {
      "text/plain": [
       "[<matplotlib.lines.Line2D at 0x7fc3d812d610>]"
      ]
     },
     "execution_count": 328,
     "metadata": {},
     "output_type": "execute_result"
    },
    {
     "data": {
      "image/png": "[encoded data removed]",
      "text/plain": [
       "<Figure size 640x480 with 1 Axes>"
      ]
     },
     "metadata": {},
     "output_type": "display_data"
    }
   ],
   "source": [
    "len(x)\n",
    "plt.plot(x,y)"
   ]
  },
  {
   "cell_type": "code",
   "execution_count": 329,
   "id": "a4fcfcfb-a8e0-492f-b324-e14df2656c27",
   "metadata": {
    "execution": {
     "iopub.execute_input": "2024-04-01T07:46:28.706893Z",
     "iopub.status.busy": "2024-04-01T07:46:28.706458Z",
     "iopub.status.idle": "2024-04-01T07:46:28.875138Z",
     "shell.execute_reply": "2024-04-01T07:46:28.874478Z",
     "shell.execute_reply.started": "2024-04-01T07:46:28.706834Z"
    }
   },
   "outputs": [],
   "source": [
    "x = []\n",
    "y = []\n",
    "\n",
    "\n",
    "for t in np.arange(1.0,+5.0,+0.01):\n",
    "    # if t == 0:\n",
    "    #     continue\n",
    "    snnl.temperature = t\n",
    "    snnl.distance_matrix = snnl.pairwise_cosine_distance(features)\n",
    "    snnl.pairwise_distance_matrix = snnl.normalize_distance_matrix(features=features, distance_matrix=snnl.distance_matrix, device='cpu')\n",
    "    snnl.pick_probability = snnl.compute_sampling_probability(snnl.pairwise_distance_matrix)\n",
    "    snnl.summed_masked_pick_probability = snnl.mask_sampling_probability(labels, snnl.pick_probability, device='cpu')\n",
    "    snnl.final =  torch.mean( -torch.log(snnl.stability_epsilon + snnl.summed_masked_pick_probability))\n",
    "    x.append(t)\n",
    "    y.append(snnl.final)"
   ]
  },
  {
   "cell_type": "code",
   "execution_count": 330,
   "id": "648e9ac2-cdb3-4282-89ac-9781bfce75ab",
   "metadata": {
    "execution": {
     "iopub.execute_input": "2024-04-01T07:46:30.087828Z",
     "iopub.status.busy": "2024-04-01T07:46:30.087618Z",
     "iopub.status.idle": "2024-04-01T07:46:30.252128Z",
     "shell.execute_reply": "2024-04-01T07:46:30.251489Z",
     "shell.execute_reply.started": "2024-04-01T07:46:30.087808Z"
    }
   },
   "outputs": [
    {
     "data": {
      "text/plain": [
       "400"
      ]
     },
     "execution_count": 330,
     "metadata": {},
     "output_type": "execute_result"
    },
    {
     "data": {
      "text/plain": [
       "[<matplotlib.lines.Line2D at 0x7fc3d80ddb50>]"
      ]
     },
     "execution_count": 330,
     "metadata": {},
     "output_type": "execute_result"
    },
    {
     "data": {
      "image/png": "[encoded data removed]",
      "text/plain": [
       "<Figure size 640x480 with 1 Axes>"
      ]
     },
     "metadata": {},
     "output_type": "display_data"
    }
   ],
   "source": [
    "len(x)\n",
    "plt.plot(x,y)"
   ]
  },
  {
   "cell_type": "code",
   "execution_count": 60,
   "id": "511cc912-745a-4f3b-bda4-0d7da4650c04",
   "metadata": {
    "execution": {
     "iopub.execute_input": "2024-04-01T06:46:59.721998Z",
     "iopub.status.busy": "2024-04-01T06:46:59.721506Z",
     "iopub.status.idle": "2024-04-01T06:46:59.755152Z",
     "shell.execute_reply": "2024-04-01T06:46:59.754489Z",
     "shell.execute_reply.started": "2024-04-01T06:46:59.721956Z"
    }
   },
   "outputs": [],
   "source": [
    "# self.distance_matrix = self.pairwise_cosine_distance(features=value)\n",
    "\n",
    "# self.pairwise_distance_matrix = self.normalize_distance_matrix(features=value, \n",
    "#                                                                distance_matrix=self.distance_matrix, \n",
    "#                                                                device=model.device)\n",
    "\n",
    "# self.pick_probability = self.compute_sampling_probability(self.pairwise_distance_matrix)\n",
    "\n",
    "# self.summed_masked_pick_probability = self.mask_sampling_probability(labels, \n",
    "#                                                                      self.pick_probability, \n",
    "#                                                                      device=model.device)\n",
    "\n",
    "# snnl = torch.mean( -torch.log(self.stability_epsilon + self.summed_masked_pick_probability))"
   ]
  },
  {
   "cell_type": "code",
   "execution_count": 18,
   "id": "f08d46d2-5f1c-45e1-8c78-a3122ed12683",
   "metadata": {
    "execution": {
     "iopub.execute_input": "2024-04-05T03:38:48.828266Z",
     "iopub.status.busy": "2024-04-05T03:38:48.827791Z",
     "iopub.status.idle": "2024-04-05T03:38:48.868618Z",
     "shell.execute_reply": "2024-04-05T03:38:48.868095Z",
     "shell.execute_reply.started": "2024-04-05T03:38:48.828226Z"
    }
   },
   "outputs": [
    {
     "data": {
      "text/plain": [
       "10.845986984815617"
      ]
     },
     "execution_count": 18,
     "metadata": {},
     "output_type": "execute_result"
    },
    {
     "data": {
      "text/plain": [
       "0.02"
      ]
     },
     "execution_count": 18,
     "metadata": {},
     "output_type": "execute_result"
    }
   ],
   "source": [
    "1/0.092200\n",
    "1/50."
   ]
  },
  {
   "cell_type": "markdown",
   "id": "e43510aa-e5df-42e9-97d5-ed4e4e363d02",
   "metadata": {},
   "source": [
    "## e**-t"
   ]
  },
  {
   "cell_type": "code",
   "execution_count": 15,
   "id": "4ef0cb9e-7b45-4acd-9fb0-9e9a682ad25f",
   "metadata": {
    "execution": {
     "iopub.execute_input": "2024-04-04T21:54:50.924727Z",
     "iopub.status.busy": "2024-04-04T21:54:50.924240Z",
     "iopub.status.idle": "2024-04-04T21:54:50.962227Z",
     "shell.execute_reply": "2024-04-04T21:54:50.961716Z",
     "shell.execute_reply.started": "2024-04-04T21:54:50.924684Z"
    }
   },
   "outputs": [],
   "source": [
    "import matplotlib.pyplot as plt\n",
    "import seaborn as sb\n",
    "plt.rcParams.update({\n",
    "    \"text.usetex\": True,\n",
    "})\n",
    "plt.rcParams['text.usetex'] = True"
   ]
  },
  {
   "cell_type": "code",
   "execution_count": 16,
   "id": "34e472cd-4bae-471c-8f02-ca3620cb0088",
   "metadata": {
    "execution": {
     "iopub.execute_input": "2024-04-04T21:55:08.475371Z",
     "iopub.status.busy": "2024-04-04T21:55:08.474882Z",
     "iopub.status.idle": "2024-04-04T21:55:09.394004Z",
     "shell.execute_reply": "2024-04-04T21:55:09.392673Z",
     "shell.execute_reply.started": "2024-04-04T21:55:08.475328Z"
    }
   },
   "outputs": [
    {
     "data": {
      "text/plain": [
       "[<matplotlib.lines.Line2D at 0x7f427ce39d50>]"
      ]
     },
     "execution_count": 16,
     "metadata": {},
     "output_type": "execute_result"
    },
    {
     "data": {
      "text/plain": [
       "[<matplotlib.lines.Line2D at 0x7f427ce5e5d0>]"
      ]
     },
     "execution_count": 16,
     "metadata": {},
     "output_type": "execute_result"
    },
    {
     "data": {
      "text/plain": [
       "[<matplotlib.lines.Line2D at 0x7f427ce38d90>]"
      ]
     },
     "execution_count": 16,
     "metadata": {},
     "output_type": "execute_result"
    },
    {
     "data": {
      "text/plain": [
       "[<matplotlib.lines.Line2D at 0x7f427ce38fd0>]"
      ]
     },
     "execution_count": 16,
     "metadata": {},
     "output_type": "execute_result"
    },
    {
     "ename": "NameError",
     "evalue": "name 'ax' is not defined",
     "output_type": "error",
     "traceback": [
      "\u001b[0;31m---------------------------------------------------------------------------\u001b[0m",
      "\u001b[0;31mNameError\u001b[0m                                 Traceback (most recent call last)",
      "Cell \u001b[0;32mIn[16], line 37\u001b[0m\n\u001b[1;32m     35\u001b[0m plt\u001b[38;5;241m.\u001b[39mplot(x,y6,   \u001b[38;5;124m'\u001b[39m\u001b[38;5;124m-c\u001b[39m\u001b[38;5;124m'\u001b[39m)\n\u001b[1;32m     36\u001b[0m \u001b[38;5;66;03m# plt.legend([r'e^{dist}{T}','b','c',\"d\"])\u001b[39;00m\n\u001b[0;32m---> 37\u001b[0m \u001b[43max\u001b[49m\u001b[38;5;241m.\u001b[39mset_title(\u001b[38;5;124mr\u001b[39m\u001b[38;5;124m'\u001b[39m\u001b[38;5;124m\\\u001b[39m\u001b[38;5;124mTeX\u001b[39m\u001b[38;5;124m\\\u001b[39m\u001b[38;5;124m is Number $\u001b[39m\u001b[38;5;124m\\\u001b[39m\u001b[38;5;124mdisplaystyle\u001b[39m\u001b[38;5;124m\\\u001b[39m\u001b[38;5;124msum_\u001b[39m\u001b[38;5;124m{\u001b[39m\u001b[38;5;124mn=1}^\u001b[39m\u001b[38;5;124m\\\u001b[39m\u001b[38;5;124minfty\u001b[39m\u001b[38;5;124m'\u001b[39m\n\u001b[1;32m     38\u001b[0m              \u001b[38;5;124mr\u001b[39m\u001b[38;5;124m'\u001b[39m\u001b[38;5;124m\\\u001b[39m\u001b[38;5;124mfrac\u001b[39m\u001b[38;5;124m{\u001b[39m\u001b[38;5;124m-e^\u001b[39m\u001b[38;5;124m{\u001b[39m\u001b[38;5;124mi\u001b[39m\u001b[38;5;124m\\\u001b[39m\u001b[38;5;124mpi}}\u001b[39m\u001b[38;5;124m{\u001b[39m\u001b[38;5;124m2^n}$!\u001b[39m\u001b[38;5;124m'\u001b[39m, fontsize\u001b[38;5;241m=\u001b[39m\u001b[38;5;241m16\u001b[39m, color\u001b[38;5;241m=\u001b[39m\u001b[38;5;124m'\u001b[39m\u001b[38;5;124mr\u001b[39m\u001b[38;5;124m'\u001b[39m)\n\u001b[1;32m     39\u001b[0m \u001b[38;5;66;03m# df = pd.DataFrame(dict(\u001b[39;00m\n\u001b[1;32m     40\u001b[0m     \u001b[38;5;66;03m# x=x,\u001b[39;00m\n\u001b[1;32m     41\u001b[0m     \u001b[38;5;66;03m# y=y1,\u001b[39;00m\n\u001b[0;32m   (...)\u001b[0m\n\u001b[1;32m     49\u001b[0m \u001b[38;5;66;03m# plt.figure()\u001b[39;00m\n\u001b[1;32m     50\u001b[0m \u001b[38;5;66;03m# sb.lmplot(x,y1, fit_reg=False, palette=\"hls\")\u001b[39;00m\n",
      "\u001b[0;31mNameError\u001b[0m: name 'ax' is not defined"
     ]
    },
    {
     "name": "stdout",
     "output_type": "stream",
     "text": [
      "Error in callback <function _draw_all_if_interactive at 0x7f43748e1760> (for post_execute), with arguments args (),kwargs {}:\n"
     ]
    },
    {
     "ename": "RuntimeError",
     "evalue": "latex was not able to process the following string:\nb'lp'\n\nHere is the full command invocation and its output:\n\nlatex -interaction=nonstopmode --halt-on-error --output-directory=tmpby31fs8g 7047aaa5111e4d8dda9c547b5b45d07c.tex\n\nThis is pdfTeX, Version 3.14159265-2.6-1.40.20 (TeX Live 2019/Debian) (preloaded format=latex)\n restricted \\write18 enabled.\nentering extended mode\n(./7047aaa5111e4d8dda9c547b5b45d07c.tex\nLaTeX2e <2020-02-02> patch level 2\nL3 programming layer <2020-02-14>\n(/usr/share/texlive/texmf-dist/tex/latex/base/article.cls\nDocument Class: article 2019/12/20 v1.4l Standard LaTeX document class\n(/usr/share/texlive/texmf-dist/tex/latex/base/size10.clo))\n(/usr/share/texlive/texmf-dist/tex/latex/psnfss/helvet.sty\n(/usr/share/texlive/texmf-dist/tex/latex/graphics/keyval.sty))\n(/usr/share/texlive/texmf-dist/tex/latex/type1cm/type1cm.sty)\n\n! LaTeX Error: File `type1ec.sty' not found.\n\nType X to quit or <RETURN> to proceed,\nor enter new name. (Default extension: sty)\n\nEnter file name: \n! Emergency stop.\n<read *> \n         \nl.9 \\usepackage\n               [utf8]{inputenc}^^M\nNo pages of output.\nTranscript written on tmpby31fs8g/7047aaa5111e4d8dda9c547b5b45d07c.log.\n\n\n",
     "output_type": "error",
     "traceback": [
      "\u001b[0;31m---------------------------------------------------------------------------\u001b[0m",
      "\u001b[0;31mRuntimeError\u001b[0m                              Traceback (most recent call last)",
      "File \u001b[0;32m~/miniforge3/envs/ptsnnl/lib/python3.11/site-packages/matplotlib/pyplot.py:197\u001b[0m, in \u001b[0;36m_draw_all_if_interactive\u001b[0;34m()\u001b[0m\n\u001b[1;32m    195\u001b[0m \u001b[38;5;28;01mdef\u001b[39;00m \u001b[38;5;21m_draw_all_if_interactive\u001b[39m() \u001b[38;5;241m-\u001b[39m\u001b[38;5;241m>\u001b[39m \u001b[38;5;28;01mNone\u001b[39;00m:\n\u001b[1;32m    196\u001b[0m     \u001b[38;5;28;01mif\u001b[39;00m matplotlib\u001b[38;5;241m.\u001b[39mis_interactive():\n\u001b[0;32m--> 197\u001b[0m         \u001b[43mdraw_all\u001b[49m\u001b[43m(\u001b[49m\u001b[43m)\u001b[49m\n",
      "File \u001b[0;32m~/miniforge3/envs/ptsnnl/lib/python3.11/site-packages/matplotlib/_pylab_helpers.py:132\u001b[0m, in \u001b[0;36mGcf.draw_all\u001b[0;34m(cls, force)\u001b[0m\n\u001b[1;32m    130\u001b[0m \u001b[38;5;28;01mfor\u001b[39;00m manager \u001b[38;5;129;01min\u001b[39;00m \u001b[38;5;28mcls\u001b[39m\u001b[38;5;241m.\u001b[39mget_all_fig_managers():\n\u001b[1;32m    131\u001b[0m     \u001b[38;5;28;01mif\u001b[39;00m force \u001b[38;5;129;01mor\u001b[39;00m manager\u001b[38;5;241m.\u001b[39mcanvas\u001b[38;5;241m.\u001b[39mfigure\u001b[38;5;241m.\u001b[39mstale:\n\u001b[0;32m--> 132\u001b[0m         \u001b[43mmanager\u001b[49m\u001b[38;5;241;43m.\u001b[39;49m\u001b[43mcanvas\u001b[49m\u001b[38;5;241;43m.\u001b[39;49m\u001b[43mdraw_idle\u001b[49m\u001b[43m(\u001b[49m\u001b[43m)\u001b[49m\n",
      "File \u001b[0;32m~/miniforge3/envs/ptsnnl/lib/python3.11/site-packages/matplotlib/backend_bases.py:1893\u001b[0m, in \u001b[0;36mFigureCanvasBase.draw_idle\u001b[0;34m(self, *args, **kwargs)\u001b[0m\n\u001b[1;32m   1891\u001b[0m \u001b[38;5;28;01mif\u001b[39;00m \u001b[38;5;129;01mnot\u001b[39;00m \u001b[38;5;28mself\u001b[39m\u001b[38;5;241m.\u001b[39m_is_idle_drawing:\n\u001b[1;32m   1892\u001b[0m     \u001b[38;5;28;01mwith\u001b[39;00m \u001b[38;5;28mself\u001b[39m\u001b[38;5;241m.\u001b[39m_idle_draw_cntx():\n\u001b[0;32m-> 1893\u001b[0m         \u001b[38;5;28;43mself\u001b[39;49m\u001b[38;5;241;43m.\u001b[39;49m\u001b[43mdraw\u001b[49m\u001b[43m(\u001b[49m\u001b[38;5;241;43m*\u001b[39;49m\u001b[43margs\u001b[49m\u001b[43m,\u001b[49m\u001b[43m \u001b[49m\u001b[38;5;241;43m*\u001b[39;49m\u001b[38;5;241;43m*\u001b[39;49m\u001b[43mkwargs\u001b[49m\u001b[43m)\u001b[49m\n",
      "File \u001b[0;32m~/miniforge3/envs/ptsnnl/lib/python3.11/site-packages/matplotlib/backends/backend_agg.py:388\u001b[0m, in \u001b[0;36mFigureCanvasAgg.draw\u001b[0;34m(self)\u001b[0m\n\u001b[1;32m    385\u001b[0m \u001b[38;5;66;03m# Acquire a lock on the shared font cache.\u001b[39;00m\n\u001b[1;32m    386\u001b[0m \u001b[38;5;28;01mwith\u001b[39;00m (\u001b[38;5;28mself\u001b[39m\u001b[38;5;241m.\u001b[39mtoolbar\u001b[38;5;241m.\u001b[39m_wait_cursor_for_draw_cm() \u001b[38;5;28;01mif\u001b[39;00m \u001b[38;5;28mself\u001b[39m\u001b[38;5;241m.\u001b[39mtoolbar\n\u001b[1;32m    387\u001b[0m       \u001b[38;5;28;01melse\u001b[39;00m nullcontext()):\n\u001b[0;32m--> 388\u001b[0m     \u001b[38;5;28;43mself\u001b[39;49m\u001b[38;5;241;43m.\u001b[39;49m\u001b[43mfigure\u001b[49m\u001b[38;5;241;43m.\u001b[39;49m\u001b[43mdraw\u001b[49m\u001b[43m(\u001b[49m\u001b[38;5;28;43mself\u001b[39;49m\u001b[38;5;241;43m.\u001b[39;49m\u001b[43mrenderer\u001b[49m\u001b[43m)\u001b[49m\n\u001b[1;32m    389\u001b[0m     \u001b[38;5;66;03m# A GUI class may be need to update a window using this draw, so\u001b[39;00m\n\u001b[1;32m    390\u001b[0m     \u001b[38;5;66;03m# don't forget to call the superclass.\u001b[39;00m\n\u001b[1;32m    391\u001b[0m     \u001b[38;5;28msuper\u001b[39m()\u001b[38;5;241m.\u001b[39mdraw()\n",
      "File \u001b[0;32m~/miniforge3/envs/ptsnnl/lib/python3.11/site-packages/matplotlib/artist.py:95\u001b[0m, in \u001b[0;36m_finalize_rasterization.<locals>.draw_wrapper\u001b[0;34m(artist, renderer, *args, **kwargs)\u001b[0m\n\u001b[1;32m     93\u001b[0m \u001b[38;5;129m@wraps\u001b[39m(draw)\n\u001b[1;32m     94\u001b[0m \u001b[38;5;28;01mdef\u001b[39;00m \u001b[38;5;21mdraw_wrapper\u001b[39m(artist, renderer, \u001b[38;5;241m*\u001b[39margs, \u001b[38;5;241m*\u001b[39m\u001b[38;5;241m*\u001b[39mkwargs):\n\u001b[0;32m---> 95\u001b[0m     result \u001b[38;5;241m=\u001b[39m \u001b[43mdraw\u001b[49m\u001b[43m(\u001b[49m\u001b[43martist\u001b[49m\u001b[43m,\u001b[49m\u001b[43m \u001b[49m\u001b[43mrenderer\u001b[49m\u001b[43m,\u001b[49m\u001b[43m \u001b[49m\u001b[38;5;241;43m*\u001b[39;49m\u001b[43margs\u001b[49m\u001b[43m,\u001b[49m\u001b[43m \u001b[49m\u001b[38;5;241;43m*\u001b[39;49m\u001b[38;5;241;43m*\u001b[39;49m\u001b[43mkwargs\u001b[49m\u001b[43m)\u001b[49m\n\u001b[1;32m     96\u001b[0m     \u001b[38;5;28;01mif\u001b[39;00m renderer\u001b[38;5;241m.\u001b[39m_rasterizing:\n\u001b[1;32m     97\u001b[0m         renderer\u001b[38;5;241m.\u001b[39mstop_rasterizing()\n",
      "File \u001b[0;32m~/miniforge3/envs/ptsnnl/lib/python3.11/site-packages/matplotlib/artist.py:72\u001b[0m, in \u001b[0;36mallow_rasterization.<locals>.draw_wrapper\u001b[0;34m(artist, renderer)\u001b[0m\n\u001b[1;32m     69\u001b[0m     \u001b[38;5;28;01mif\u001b[39;00m artist\u001b[38;5;241m.\u001b[39mget_agg_filter() \u001b[38;5;129;01mis\u001b[39;00m \u001b[38;5;129;01mnot\u001b[39;00m \u001b[38;5;28;01mNone\u001b[39;00m:\n\u001b[1;32m     70\u001b[0m         renderer\u001b[38;5;241m.\u001b[39mstart_filter()\n\u001b[0;32m---> 72\u001b[0m     \u001b[38;5;28;01mreturn\u001b[39;00m \u001b[43mdraw\u001b[49m\u001b[43m(\u001b[49m\u001b[43martist\u001b[49m\u001b[43m,\u001b[49m\u001b[43m \u001b[49m\u001b[43mrenderer\u001b[49m\u001b[43m)\u001b[49m\n\u001b[1;32m     73\u001b[0m \u001b[38;5;28;01mfinally\u001b[39;00m:\n\u001b[1;32m     74\u001b[0m     \u001b[38;5;28;01mif\u001b[39;00m artist\u001b[38;5;241m.\u001b[39mget_agg_filter() \u001b[38;5;129;01mis\u001b[39;00m \u001b[38;5;129;01mnot\u001b[39;00m \u001b[38;5;28;01mNone\u001b[39;00m:\n",
      "File \u001b[0;32m~/miniforge3/envs/ptsnnl/lib/python3.11/site-packages/matplotlib/figure.py:3154\u001b[0m, in \u001b[0;36mFigure.draw\u001b[0;34m(self, renderer)\u001b[0m\n\u001b[1;32m   3151\u001b[0m         \u001b[38;5;66;03m# ValueError can occur when resizing a window.\u001b[39;00m\n\u001b[1;32m   3153\u001b[0m \u001b[38;5;28mself\u001b[39m\u001b[38;5;241m.\u001b[39mpatch\u001b[38;5;241m.\u001b[39mdraw(renderer)\n\u001b[0;32m-> 3154\u001b[0m \u001b[43mmimage\u001b[49m\u001b[38;5;241;43m.\u001b[39;49m\u001b[43m_draw_list_compositing_images\u001b[49m\u001b[43m(\u001b[49m\n\u001b[1;32m   3155\u001b[0m \u001b[43m    \u001b[49m\u001b[43mrenderer\u001b[49m\u001b[43m,\u001b[49m\u001b[43m \u001b[49m\u001b[38;5;28;43mself\u001b[39;49m\u001b[43m,\u001b[49m\u001b[43m \u001b[49m\u001b[43martists\u001b[49m\u001b[43m,\u001b[49m\u001b[43m \u001b[49m\u001b[38;5;28;43mself\u001b[39;49m\u001b[38;5;241;43m.\u001b[39;49m\u001b[43msuppressComposite\u001b[49m\u001b[43m)\u001b[49m\n\u001b[1;32m   3157\u001b[0m \u001b[38;5;28;01mfor\u001b[39;00m sfig \u001b[38;5;129;01min\u001b[39;00m \u001b[38;5;28mself\u001b[39m\u001b[38;5;241m.\u001b[39msubfigs:\n\u001b[1;32m   3158\u001b[0m     sfig\u001b[38;5;241m.\u001b[39mdraw(renderer)\n",
      "File \u001b[0;32m~/miniforge3/envs/ptsnnl/lib/python3.11/site-packages/matplotlib/image.py:132\u001b[0m, in \u001b[0;36m_draw_list_compositing_images\u001b[0;34m(renderer, parent, artists, suppress_composite)\u001b[0m\n\u001b[1;32m    130\u001b[0m \u001b[38;5;28;01mif\u001b[39;00m not_composite \u001b[38;5;129;01mor\u001b[39;00m \u001b[38;5;129;01mnot\u001b[39;00m has_images:\n\u001b[1;32m    131\u001b[0m     \u001b[38;5;28;01mfor\u001b[39;00m a \u001b[38;5;129;01min\u001b[39;00m artists:\n\u001b[0;32m--> 132\u001b[0m         \u001b[43ma\u001b[49m\u001b[38;5;241;43m.\u001b[39;49m\u001b[43mdraw\u001b[49m\u001b[43m(\u001b[49m\u001b[43mrenderer\u001b[49m\u001b[43m)\u001b[49m\n\u001b[1;32m    133\u001b[0m \u001b[38;5;28;01melse\u001b[39;00m:\n\u001b[1;32m    134\u001b[0m     \u001b[38;5;66;03m# Composite any adjacent images together\u001b[39;00m\n\u001b[1;32m    135\u001b[0m     image_group \u001b[38;5;241m=\u001b[39m []\n",
      "File \u001b[0;32m~/miniforge3/envs/ptsnnl/lib/python3.11/site-packages/matplotlib/artist.py:72\u001b[0m, in \u001b[0;36mallow_rasterization.<locals>.draw_wrapper\u001b[0;34m(artist, renderer)\u001b[0m\n\u001b[1;32m     69\u001b[0m     \u001b[38;5;28;01mif\u001b[39;00m artist\u001b[38;5;241m.\u001b[39mget_agg_filter() \u001b[38;5;129;01mis\u001b[39;00m \u001b[38;5;129;01mnot\u001b[39;00m \u001b[38;5;28;01mNone\u001b[39;00m:\n\u001b[1;32m     70\u001b[0m         renderer\u001b[38;5;241m.\u001b[39mstart_filter()\n\u001b[0;32m---> 72\u001b[0m     \u001b[38;5;28;01mreturn\u001b[39;00m \u001b[43mdraw\u001b[49m\u001b[43m(\u001b[49m\u001b[43martist\u001b[49m\u001b[43m,\u001b[49m\u001b[43m \u001b[49m\u001b[43mrenderer\u001b[49m\u001b[43m)\u001b[49m\n\u001b[1;32m     73\u001b[0m \u001b[38;5;28;01mfinally\u001b[39;00m:\n\u001b[1;32m     74\u001b[0m     \u001b[38;5;28;01mif\u001b[39;00m artist\u001b[38;5;241m.\u001b[39mget_agg_filter() \u001b[38;5;129;01mis\u001b[39;00m \u001b[38;5;129;01mnot\u001b[39;00m \u001b[38;5;28;01mNone\u001b[39;00m:\n",
      "File \u001b[0;32m~/miniforge3/envs/ptsnnl/lib/python3.11/site-packages/matplotlib/axes/_base.py:3070\u001b[0m, in \u001b[0;36m_AxesBase.draw\u001b[0;34m(self, renderer)\u001b[0m\n\u001b[1;32m   3067\u001b[0m \u001b[38;5;28;01mif\u001b[39;00m artists_rasterized:\n\u001b[1;32m   3068\u001b[0m     _draw_rasterized(\u001b[38;5;28mself\u001b[39m\u001b[38;5;241m.\u001b[39mfigure, artists_rasterized, renderer)\n\u001b[0;32m-> 3070\u001b[0m \u001b[43mmimage\u001b[49m\u001b[38;5;241;43m.\u001b[39;49m\u001b[43m_draw_list_compositing_images\u001b[49m\u001b[43m(\u001b[49m\n\u001b[1;32m   3071\u001b[0m \u001b[43m    \u001b[49m\u001b[43mrenderer\u001b[49m\u001b[43m,\u001b[49m\u001b[43m \u001b[49m\u001b[38;5;28;43mself\u001b[39;49m\u001b[43m,\u001b[49m\u001b[43m \u001b[49m\u001b[43martists\u001b[49m\u001b[43m,\u001b[49m\u001b[43m \u001b[49m\u001b[38;5;28;43mself\u001b[39;49m\u001b[38;5;241;43m.\u001b[39;49m\u001b[43mfigure\u001b[49m\u001b[38;5;241;43m.\u001b[39;49m\u001b[43msuppressComposite\u001b[49m\u001b[43m)\u001b[49m\n\u001b[1;32m   3073\u001b[0m renderer\u001b[38;5;241m.\u001b[39mclose_group(\u001b[38;5;124m'\u001b[39m\u001b[38;5;124maxes\u001b[39m\u001b[38;5;124m'\u001b[39m)\n\u001b[1;32m   3074\u001b[0m \u001b[38;5;28mself\u001b[39m\u001b[38;5;241m.\u001b[39mstale \u001b[38;5;241m=\u001b[39m \u001b[38;5;28;01mFalse\u001b[39;00m\n",
      "File \u001b[0;32m~/miniforge3/envs/ptsnnl/lib/python3.11/site-packages/matplotlib/image.py:132\u001b[0m, in \u001b[0;36m_draw_list_compositing_images\u001b[0;34m(renderer, parent, artists, suppress_composite)\u001b[0m\n\u001b[1;32m    130\u001b[0m \u001b[38;5;28;01mif\u001b[39;00m not_composite \u001b[38;5;129;01mor\u001b[39;00m \u001b[38;5;129;01mnot\u001b[39;00m has_images:\n\u001b[1;32m    131\u001b[0m     \u001b[38;5;28;01mfor\u001b[39;00m a \u001b[38;5;129;01min\u001b[39;00m artists:\n\u001b[0;32m--> 132\u001b[0m         \u001b[43ma\u001b[49m\u001b[38;5;241;43m.\u001b[39;49m\u001b[43mdraw\u001b[49m\u001b[43m(\u001b[49m\u001b[43mrenderer\u001b[49m\u001b[43m)\u001b[49m\n\u001b[1;32m    133\u001b[0m \u001b[38;5;28;01melse\u001b[39;00m:\n\u001b[1;32m    134\u001b[0m     \u001b[38;5;66;03m# Composite any adjacent images together\u001b[39;00m\n\u001b[1;32m    135\u001b[0m     image_group \u001b[38;5;241m=\u001b[39m []\n",
      "File \u001b[0;32m~/miniforge3/envs/ptsnnl/lib/python3.11/site-packages/matplotlib/artist.py:72\u001b[0m, in \u001b[0;36mallow_rasterization.<locals>.draw_wrapper\u001b[0;34m(artist, renderer)\u001b[0m\n\u001b[1;32m     69\u001b[0m     \u001b[38;5;28;01mif\u001b[39;00m artist\u001b[38;5;241m.\u001b[39mget_agg_filter() \u001b[38;5;129;01mis\u001b[39;00m \u001b[38;5;129;01mnot\u001b[39;00m \u001b[38;5;28;01mNone\u001b[39;00m:\n\u001b[1;32m     70\u001b[0m         renderer\u001b[38;5;241m.\u001b[39mstart_filter()\n\u001b[0;32m---> 72\u001b[0m     \u001b[38;5;28;01mreturn\u001b[39;00m \u001b[43mdraw\u001b[49m\u001b[43m(\u001b[49m\u001b[43martist\u001b[49m\u001b[43m,\u001b[49m\u001b[43m \u001b[49m\u001b[43mrenderer\u001b[49m\u001b[43m)\u001b[49m\n\u001b[1;32m     73\u001b[0m \u001b[38;5;28;01mfinally\u001b[39;00m:\n\u001b[1;32m     74\u001b[0m     \u001b[38;5;28;01mif\u001b[39;00m artist\u001b[38;5;241m.\u001b[39mget_agg_filter() \u001b[38;5;129;01mis\u001b[39;00m \u001b[38;5;129;01mnot\u001b[39;00m \u001b[38;5;28;01mNone\u001b[39;00m:\n",
      "File \u001b[0;32m~/miniforge3/envs/ptsnnl/lib/python3.11/site-packages/matplotlib/axis.py:1388\u001b[0m, in \u001b[0;36mAxis.draw\u001b[0;34m(self, renderer, *args, **kwargs)\u001b[0m\n\u001b[1;32m   1385\u001b[0m renderer\u001b[38;5;241m.\u001b[39mopen_group(\u001b[38;5;18m__name__\u001b[39m, gid\u001b[38;5;241m=\u001b[39m\u001b[38;5;28mself\u001b[39m\u001b[38;5;241m.\u001b[39mget_gid())\n\u001b[1;32m   1387\u001b[0m ticks_to_draw \u001b[38;5;241m=\u001b[39m \u001b[38;5;28mself\u001b[39m\u001b[38;5;241m.\u001b[39m_update_ticks()\n\u001b[0;32m-> 1388\u001b[0m tlb1, tlb2 \u001b[38;5;241m=\u001b[39m \u001b[38;5;28;43mself\u001b[39;49m\u001b[38;5;241;43m.\u001b[39;49m\u001b[43m_get_ticklabel_bboxes\u001b[49m\u001b[43m(\u001b[49m\u001b[43mticks_to_draw\u001b[49m\u001b[43m,\u001b[49m\u001b[43m \u001b[49m\u001b[43mrenderer\u001b[49m\u001b[43m)\u001b[49m\n\u001b[1;32m   1390\u001b[0m \u001b[38;5;28;01mfor\u001b[39;00m tick \u001b[38;5;129;01min\u001b[39;00m ticks_to_draw:\n\u001b[1;32m   1391\u001b[0m     tick\u001b[38;5;241m.\u001b[39mdraw(renderer)\n",
      "File \u001b[0;32m~/miniforge3/envs/ptsnnl/lib/python3.11/site-packages/matplotlib/axis.py:1315\u001b[0m, in \u001b[0;36mAxis._get_ticklabel_bboxes\u001b[0;34m(self, ticks, renderer)\u001b[0m\n\u001b[1;32m   1313\u001b[0m \u001b[38;5;28;01mif\u001b[39;00m renderer \u001b[38;5;129;01mis\u001b[39;00m \u001b[38;5;28;01mNone\u001b[39;00m:\n\u001b[1;32m   1314\u001b[0m     renderer \u001b[38;5;241m=\u001b[39m \u001b[38;5;28mself\u001b[39m\u001b[38;5;241m.\u001b[39mfigure\u001b[38;5;241m.\u001b[39m_get_renderer()\n\u001b[0;32m-> 1315\u001b[0m \u001b[38;5;28;01mreturn\u001b[39;00m (\u001b[43m[\u001b[49m\u001b[43mtick\u001b[49m\u001b[38;5;241;43m.\u001b[39;49m\u001b[43mlabel1\u001b[49m\u001b[38;5;241;43m.\u001b[39;49m\u001b[43mget_window_extent\u001b[49m\u001b[43m(\u001b[49m\u001b[43mrenderer\u001b[49m\u001b[43m)\u001b[49m\n\u001b[1;32m   1316\u001b[0m \u001b[43m         \u001b[49m\u001b[38;5;28;43;01mfor\u001b[39;49;00m\u001b[43m \u001b[49m\u001b[43mtick\u001b[49m\u001b[43m \u001b[49m\u001b[38;5;129;43;01min\u001b[39;49;00m\u001b[43m \u001b[49m\u001b[43mticks\u001b[49m\u001b[43m \u001b[49m\u001b[38;5;28;43;01mif\u001b[39;49;00m\u001b[43m \u001b[49m\u001b[43mtick\u001b[49m\u001b[38;5;241;43m.\u001b[39;49m\u001b[43mlabel1\u001b[49m\u001b[38;5;241;43m.\u001b[39;49m\u001b[43mget_visible\u001b[49m\u001b[43m(\u001b[49m\u001b[43m)\u001b[49m\u001b[43m]\u001b[49m,\n\u001b[1;32m   1317\u001b[0m         [tick\u001b[38;5;241m.\u001b[39mlabel2\u001b[38;5;241m.\u001b[39mget_window_extent(renderer)\n\u001b[1;32m   1318\u001b[0m          \u001b[38;5;28;01mfor\u001b[39;00m tick \u001b[38;5;129;01min\u001b[39;00m ticks \u001b[38;5;28;01mif\u001b[39;00m tick\u001b[38;5;241m.\u001b[39mlabel2\u001b[38;5;241m.\u001b[39mget_visible()])\n",
      "File \u001b[0;32m~/miniforge3/envs/ptsnnl/lib/python3.11/site-packages/matplotlib/axis.py:1315\u001b[0m, in \u001b[0;36m<listcomp>\u001b[0;34m(.0)\u001b[0m\n\u001b[1;32m   1313\u001b[0m \u001b[38;5;28;01mif\u001b[39;00m renderer \u001b[38;5;129;01mis\u001b[39;00m \u001b[38;5;28;01mNone\u001b[39;00m:\n\u001b[1;32m   1314\u001b[0m     renderer \u001b[38;5;241m=\u001b[39m \u001b[38;5;28mself\u001b[39m\u001b[38;5;241m.\u001b[39mfigure\u001b[38;5;241m.\u001b[39m_get_renderer()\n\u001b[0;32m-> 1315\u001b[0m \u001b[38;5;28;01mreturn\u001b[39;00m ([\u001b[43mtick\u001b[49m\u001b[38;5;241;43m.\u001b[39;49m\u001b[43mlabel1\u001b[49m\u001b[38;5;241;43m.\u001b[39;49m\u001b[43mget_window_extent\u001b[49m\u001b[43m(\u001b[49m\u001b[43mrenderer\u001b[49m\u001b[43m)\u001b[49m\n\u001b[1;32m   1316\u001b[0m          \u001b[38;5;28;01mfor\u001b[39;00m tick \u001b[38;5;129;01min\u001b[39;00m ticks \u001b[38;5;28;01mif\u001b[39;00m tick\u001b[38;5;241m.\u001b[39mlabel1\u001b[38;5;241m.\u001b[39mget_visible()],\n\u001b[1;32m   1317\u001b[0m         [tick\u001b[38;5;241m.\u001b[39mlabel2\u001b[38;5;241m.\u001b[39mget_window_extent(renderer)\n\u001b[1;32m   1318\u001b[0m          \u001b[38;5;28;01mfor\u001b[39;00m tick \u001b[38;5;129;01min\u001b[39;00m ticks \u001b[38;5;28;01mif\u001b[39;00m tick\u001b[38;5;241m.\u001b[39mlabel2\u001b[38;5;241m.\u001b[39mget_visible()])\n",
      "File \u001b[0;32m~/miniforge3/envs/ptsnnl/lib/python3.11/site-packages/matplotlib/text.py:956\u001b[0m, in \u001b[0;36mText.get_window_extent\u001b[0;34m(self, renderer, dpi)\u001b[0m\n\u001b[1;32m    951\u001b[0m     \u001b[38;5;28;01mraise\u001b[39;00m \u001b[38;5;167;01mRuntimeError\u001b[39;00m(\n\u001b[1;32m    952\u001b[0m         \u001b[38;5;124m\"\u001b[39m\u001b[38;5;124mCannot get window extent of text w/o renderer. You likely \u001b[39m\u001b[38;5;124m\"\u001b[39m\n\u001b[1;32m    953\u001b[0m         \u001b[38;5;124m\"\u001b[39m\u001b[38;5;124mwant to call \u001b[39m\u001b[38;5;124m'\u001b[39m\u001b[38;5;124mfigure.draw_without_rendering()\u001b[39m\u001b[38;5;124m'\u001b[39m\u001b[38;5;124m first.\u001b[39m\u001b[38;5;124m\"\u001b[39m)\n\u001b[1;32m    955\u001b[0m \u001b[38;5;28;01mwith\u001b[39;00m cbook\u001b[38;5;241m.\u001b[39m_setattr_cm(\u001b[38;5;28mself\u001b[39m\u001b[38;5;241m.\u001b[39mfigure, dpi\u001b[38;5;241m=\u001b[39mdpi):\n\u001b[0;32m--> 956\u001b[0m     bbox, info, descent \u001b[38;5;241m=\u001b[39m \u001b[38;5;28;43mself\u001b[39;49m\u001b[38;5;241;43m.\u001b[39;49m\u001b[43m_get_layout\u001b[49m\u001b[43m(\u001b[49m\u001b[38;5;28;43mself\u001b[39;49m\u001b[38;5;241;43m.\u001b[39;49m\u001b[43m_renderer\u001b[49m\u001b[43m)\u001b[49m\n\u001b[1;32m    957\u001b[0m     x, y \u001b[38;5;241m=\u001b[39m \u001b[38;5;28mself\u001b[39m\u001b[38;5;241m.\u001b[39mget_unitless_position()\n\u001b[1;32m    958\u001b[0m     x, y \u001b[38;5;241m=\u001b[39m \u001b[38;5;28mself\u001b[39m\u001b[38;5;241m.\u001b[39mget_transform()\u001b[38;5;241m.\u001b[39mtransform((x, y))\n",
      "File \u001b[0;32m~/miniforge3/envs/ptsnnl/lib/python3.11/site-packages/matplotlib/text.py:373\u001b[0m, in \u001b[0;36mText._get_layout\u001b[0;34m(self, renderer)\u001b[0m\n\u001b[1;32m    370\u001b[0m ys \u001b[38;5;241m=\u001b[39m []\n\u001b[1;32m    372\u001b[0m \u001b[38;5;66;03m# Full vertical extent of font, including ascenders and descenders:\u001b[39;00m\n\u001b[0;32m--> 373\u001b[0m _, lp_h, lp_d \u001b[38;5;241m=\u001b[39m \u001b[43m_get_text_metrics_with_cache\u001b[49m\u001b[43m(\u001b[49m\n\u001b[1;32m    374\u001b[0m \u001b[43m    \u001b[49m\u001b[43mrenderer\u001b[49m\u001b[43m,\u001b[49m\u001b[43m \u001b[49m\u001b[38;5;124;43m\"\u001b[39;49m\u001b[38;5;124;43mlp\u001b[39;49m\u001b[38;5;124;43m\"\u001b[39;49m\u001b[43m,\u001b[49m\u001b[43m \u001b[49m\u001b[38;5;28;43mself\u001b[39;49m\u001b[38;5;241;43m.\u001b[39;49m\u001b[43m_fontproperties\u001b[49m\u001b[43m,\u001b[49m\n\u001b[1;32m    375\u001b[0m \u001b[43m    \u001b[49m\u001b[43mismath\u001b[49m\u001b[38;5;241;43m=\u001b[39;49m\u001b[38;5;124;43m\"\u001b[39;49m\u001b[38;5;124;43mTeX\u001b[39;49m\u001b[38;5;124;43m\"\u001b[39;49m\u001b[43m \u001b[49m\u001b[38;5;28;43;01mif\u001b[39;49;00m\u001b[43m \u001b[49m\u001b[38;5;28;43mself\u001b[39;49m\u001b[38;5;241;43m.\u001b[39;49m\u001b[43mget_usetex\u001b[49m\u001b[43m(\u001b[49m\u001b[43m)\u001b[49m\u001b[43m \u001b[49m\u001b[38;5;28;43;01melse\u001b[39;49;00m\u001b[43m \u001b[49m\u001b[38;5;28;43;01mFalse\u001b[39;49;00m\u001b[43m,\u001b[49m\u001b[43m \u001b[49m\u001b[43mdpi\u001b[49m\u001b[38;5;241;43m=\u001b[39;49m\u001b[38;5;28;43mself\u001b[39;49m\u001b[38;5;241;43m.\u001b[39;49m\u001b[43mfigure\u001b[49m\u001b[38;5;241;43m.\u001b[39;49m\u001b[43mdpi\u001b[49m\u001b[43m)\u001b[49m\n\u001b[1;32m    376\u001b[0m min_dy \u001b[38;5;241m=\u001b[39m (lp_h \u001b[38;5;241m-\u001b[39m lp_d) \u001b[38;5;241m*\u001b[39m \u001b[38;5;28mself\u001b[39m\u001b[38;5;241m.\u001b[39m_linespacing\n\u001b[1;32m    378\u001b[0m \u001b[38;5;28;01mfor\u001b[39;00m i, line \u001b[38;5;129;01min\u001b[39;00m \u001b[38;5;28menumerate\u001b[39m(lines):\n",
      "File \u001b[0;32m~/miniforge3/envs/ptsnnl/lib/python3.11/site-packages/matplotlib/text.py:69\u001b[0m, in \u001b[0;36m_get_text_metrics_with_cache\u001b[0;34m(renderer, text, fontprop, ismath, dpi)\u001b[0m\n\u001b[1;32m     66\u001b[0m \u001b[38;5;250m\u001b[39m\u001b[38;5;124;03m\"\"\"Call ``renderer.get_text_width_height_descent``, caching the results.\"\"\"\u001b[39;00m\n\u001b[1;32m     67\u001b[0m \u001b[38;5;66;03m# Cached based on a copy of fontprop so that later in-place mutations of\u001b[39;00m\n\u001b[1;32m     68\u001b[0m \u001b[38;5;66;03m# the passed-in argument do not mess up the cache.\u001b[39;00m\n\u001b[0;32m---> 69\u001b[0m \u001b[38;5;28;01mreturn\u001b[39;00m \u001b[43m_get_text_metrics_with_cache_impl\u001b[49m\u001b[43m(\u001b[49m\n\u001b[1;32m     70\u001b[0m \u001b[43m    \u001b[49m\u001b[43mweakref\u001b[49m\u001b[38;5;241;43m.\u001b[39;49m\u001b[43mref\u001b[49m\u001b[43m(\u001b[49m\u001b[43mrenderer\u001b[49m\u001b[43m)\u001b[49m\u001b[43m,\u001b[49m\u001b[43m \u001b[49m\u001b[43mtext\u001b[49m\u001b[43m,\u001b[49m\u001b[43m \u001b[49m\u001b[43mfontprop\u001b[49m\u001b[38;5;241;43m.\u001b[39;49m\u001b[43mcopy\u001b[49m\u001b[43m(\u001b[49m\u001b[43m)\u001b[49m\u001b[43m,\u001b[49m\u001b[43m \u001b[49m\u001b[43mismath\u001b[49m\u001b[43m,\u001b[49m\u001b[43m \u001b[49m\u001b[43mdpi\u001b[49m\u001b[43m)\u001b[49m\n",
      "File \u001b[0;32m~/miniforge3/envs/ptsnnl/lib/python3.11/site-packages/matplotlib/text.py:77\u001b[0m, in \u001b[0;36m_get_text_metrics_with_cache_impl\u001b[0;34m(renderer_ref, text, fontprop, ismath, dpi)\u001b[0m\n\u001b[1;32m     73\u001b[0m \u001b[38;5;129m@functools\u001b[39m\u001b[38;5;241m.\u001b[39mlru_cache(\u001b[38;5;241m4096\u001b[39m)\n\u001b[1;32m     74\u001b[0m \u001b[38;5;28;01mdef\u001b[39;00m \u001b[38;5;21m_get_text_metrics_with_cache_impl\u001b[39m(\n\u001b[1;32m     75\u001b[0m         renderer_ref, text, fontprop, ismath, dpi):\n\u001b[1;32m     76\u001b[0m     \u001b[38;5;66;03m# dpi is unused, but participates in cache invalidation (via the renderer).\u001b[39;00m\n\u001b[0;32m---> 77\u001b[0m     \u001b[38;5;28;01mreturn\u001b[39;00m \u001b[43mrenderer_ref\u001b[49m\u001b[43m(\u001b[49m\u001b[43m)\u001b[49m\u001b[38;5;241;43m.\u001b[39;49m\u001b[43mget_text_width_height_descent\u001b[49m\u001b[43m(\u001b[49m\u001b[43mtext\u001b[49m\u001b[43m,\u001b[49m\u001b[43m \u001b[49m\u001b[43mfontprop\u001b[49m\u001b[43m,\u001b[49m\u001b[43m \u001b[49m\u001b[43mismath\u001b[49m\u001b[43m)\u001b[49m\n",
      "File \u001b[0;32m~/miniforge3/envs/ptsnnl/lib/python3.11/site-packages/matplotlib/backends/backend_agg.py:213\u001b[0m, in \u001b[0;36mRendererAgg.get_text_width_height_descent\u001b[0;34m(self, s, prop, ismath)\u001b[0m\n\u001b[1;32m    211\u001b[0m _api\u001b[38;5;241m.\u001b[39mcheck_in_list([\u001b[38;5;124m\"\u001b[39m\u001b[38;5;124mTeX\u001b[39m\u001b[38;5;124m\"\u001b[39m, \u001b[38;5;28;01mTrue\u001b[39;00m, \u001b[38;5;28;01mFalse\u001b[39;00m], ismath\u001b[38;5;241m=\u001b[39mismath)\n\u001b[1;32m    212\u001b[0m \u001b[38;5;28;01mif\u001b[39;00m ismath \u001b[38;5;241m==\u001b[39m \u001b[38;5;124m\"\u001b[39m\u001b[38;5;124mTeX\u001b[39m\u001b[38;5;124m\"\u001b[39m:\n\u001b[0;32m--> 213\u001b[0m     \u001b[38;5;28;01mreturn\u001b[39;00m \u001b[38;5;28;43msuper\u001b[39;49m\u001b[43m(\u001b[49m\u001b[43m)\u001b[49m\u001b[38;5;241;43m.\u001b[39;49m\u001b[43mget_text_width_height_descent\u001b[49m\u001b[43m(\u001b[49m\u001b[43ms\u001b[49m\u001b[43m,\u001b[49m\u001b[43m \u001b[49m\u001b[43mprop\u001b[49m\u001b[43m,\u001b[49m\u001b[43m \u001b[49m\u001b[43mismath\u001b[49m\u001b[43m)\u001b[49m\n\u001b[1;32m    215\u001b[0m \u001b[38;5;28;01mif\u001b[39;00m ismath:\n\u001b[1;32m    216\u001b[0m     ox, oy, width, height, descent, font_image \u001b[38;5;241m=\u001b[39m \\\n\u001b[1;32m    217\u001b[0m         \u001b[38;5;28mself\u001b[39m\u001b[38;5;241m.\u001b[39mmathtext_parser\u001b[38;5;241m.\u001b[39mparse(s, \u001b[38;5;28mself\u001b[39m\u001b[38;5;241m.\u001b[39mdpi, prop)\n",
      "File \u001b[0;32m~/miniforge3/envs/ptsnnl/lib/python3.11/site-packages/matplotlib/backend_bases.py:652\u001b[0m, in \u001b[0;36mRendererBase.get_text_width_height_descent\u001b[0;34m(self, s, prop, ismath)\u001b[0m\n\u001b[1;32m    648\u001b[0m fontsize \u001b[38;5;241m=\u001b[39m prop\u001b[38;5;241m.\u001b[39mget_size_in_points()\n\u001b[1;32m    650\u001b[0m \u001b[38;5;28;01mif\u001b[39;00m ismath \u001b[38;5;241m==\u001b[39m \u001b[38;5;124m'\u001b[39m\u001b[38;5;124mTeX\u001b[39m\u001b[38;5;124m'\u001b[39m:\n\u001b[1;32m    651\u001b[0m     \u001b[38;5;66;03m# todo: handle properties\u001b[39;00m\n\u001b[0;32m--> 652\u001b[0m     \u001b[38;5;28;01mreturn\u001b[39;00m \u001b[38;5;28;43mself\u001b[39;49m\u001b[38;5;241;43m.\u001b[39;49m\u001b[43mget_texmanager\u001b[49m\u001b[43m(\u001b[49m\u001b[43m)\u001b[49m\u001b[38;5;241;43m.\u001b[39;49m\u001b[43mget_text_width_height_descent\u001b[49m\u001b[43m(\u001b[49m\n\u001b[1;32m    653\u001b[0m \u001b[43m        \u001b[49m\u001b[43ms\u001b[49m\u001b[43m,\u001b[49m\u001b[43m \u001b[49m\u001b[43mfontsize\u001b[49m\u001b[43m,\u001b[49m\u001b[43m \u001b[49m\u001b[43mrenderer\u001b[49m\u001b[38;5;241;43m=\u001b[39;49m\u001b[38;5;28;43mself\u001b[39;49m\u001b[43m)\u001b[49m\n\u001b[1;32m    655\u001b[0m dpi \u001b[38;5;241m=\u001b[39m \u001b[38;5;28mself\u001b[39m\u001b[38;5;241m.\u001b[39mpoints_to_pixels(\u001b[38;5;241m72\u001b[39m)\n\u001b[1;32m    656\u001b[0m \u001b[38;5;28;01mif\u001b[39;00m ismath:\n",
      "File \u001b[0;32m~/miniforge3/envs/ptsnnl/lib/python3.11/site-packages/matplotlib/texmanager.py:363\u001b[0m, in \u001b[0;36mTexManager.get_text_width_height_descent\u001b[0;34m(cls, tex, fontsize, renderer)\u001b[0m\n\u001b[1;32m    361\u001b[0m \u001b[38;5;28;01mif\u001b[39;00m tex\u001b[38;5;241m.\u001b[39mstrip() \u001b[38;5;241m==\u001b[39m \u001b[38;5;124m'\u001b[39m\u001b[38;5;124m'\u001b[39m:\n\u001b[1;32m    362\u001b[0m     \u001b[38;5;28;01mreturn\u001b[39;00m \u001b[38;5;241m0\u001b[39m, \u001b[38;5;241m0\u001b[39m, \u001b[38;5;241m0\u001b[39m\n\u001b[0;32m--> 363\u001b[0m dvifile \u001b[38;5;241m=\u001b[39m \u001b[38;5;28;43mcls\u001b[39;49m\u001b[38;5;241;43m.\u001b[39;49m\u001b[43mmake_dvi\u001b[49m\u001b[43m(\u001b[49m\u001b[43mtex\u001b[49m\u001b[43m,\u001b[49m\u001b[43m \u001b[49m\u001b[43mfontsize\u001b[49m\u001b[43m)\u001b[49m\n\u001b[1;32m    364\u001b[0m dpi_fraction \u001b[38;5;241m=\u001b[39m renderer\u001b[38;5;241m.\u001b[39mpoints_to_pixels(\u001b[38;5;241m1.\u001b[39m) \u001b[38;5;28;01mif\u001b[39;00m renderer \u001b[38;5;28;01melse\u001b[39;00m \u001b[38;5;241m1\u001b[39m\n\u001b[1;32m    365\u001b[0m \u001b[38;5;28;01mwith\u001b[39;00m dviread\u001b[38;5;241m.\u001b[39mDvi(dvifile, \u001b[38;5;241m72\u001b[39m \u001b[38;5;241m*\u001b[39m dpi_fraction) \u001b[38;5;28;01mas\u001b[39;00m dvi:\n",
      "File \u001b[0;32m~/miniforge3/envs/ptsnnl/lib/python3.11/site-packages/matplotlib/texmanager.py:295\u001b[0m, in \u001b[0;36mTexManager.make_dvi\u001b[0;34m(cls, tex, fontsize)\u001b[0m\n\u001b[1;32m    293\u001b[0m     \u001b[38;5;28;01mwith\u001b[39;00m TemporaryDirectory(\u001b[38;5;28mdir\u001b[39m\u001b[38;5;241m=\u001b[39mcwd) \u001b[38;5;28;01mas\u001b[39;00m tmpdir:\n\u001b[1;32m    294\u001b[0m         tmppath \u001b[38;5;241m=\u001b[39m Path(tmpdir)\n\u001b[0;32m--> 295\u001b[0m         \u001b[38;5;28;43mcls\u001b[39;49m\u001b[38;5;241;43m.\u001b[39;49m\u001b[43m_run_checked_subprocess\u001b[49m\u001b[43m(\u001b[49m\n\u001b[1;32m    296\u001b[0m \u001b[43m            \u001b[49m\u001b[43m[\u001b[49m\u001b[38;5;124;43m\"\u001b[39;49m\u001b[38;5;124;43mlatex\u001b[39;49m\u001b[38;5;124;43m\"\u001b[39;49m\u001b[43m,\u001b[49m\u001b[43m \u001b[49m\u001b[38;5;124;43m\"\u001b[39;49m\u001b[38;5;124;43m-interaction=nonstopmode\u001b[39;49m\u001b[38;5;124;43m\"\u001b[39;49m\u001b[43m,\u001b[49m\u001b[43m \u001b[49m\u001b[38;5;124;43m\"\u001b[39;49m\u001b[38;5;124;43m--halt-on-error\u001b[39;49m\u001b[38;5;124;43m\"\u001b[39;49m\u001b[43m,\u001b[49m\n\u001b[1;32m    297\u001b[0m \u001b[43m             \u001b[49m\u001b[38;5;124;43mf\u001b[39;49m\u001b[38;5;124;43m\"\u001b[39;49m\u001b[38;5;124;43m--output-directory=\u001b[39;49m\u001b[38;5;132;43;01m{\u001b[39;49;00m\u001b[43mtmppath\u001b[49m\u001b[38;5;241;43m.\u001b[39;49m\u001b[43mname\u001b[49m\u001b[38;5;132;43;01m}\u001b[39;49;00m\u001b[38;5;124;43m\"\u001b[39;49m\u001b[43m,\u001b[49m\n\u001b[1;32m    298\u001b[0m \u001b[43m             \u001b[49m\u001b[38;5;124;43mf\u001b[39;49m\u001b[38;5;124;43m\"\u001b[39;49m\u001b[38;5;132;43;01m{\u001b[39;49;00m\u001b[43mtexfile\u001b[49m\u001b[38;5;241;43m.\u001b[39;49m\u001b[43mname\u001b[49m\u001b[38;5;132;43;01m}\u001b[39;49;00m\u001b[38;5;124;43m\"\u001b[39;49m\u001b[43m]\u001b[49m\u001b[43m,\u001b[49m\u001b[43m \u001b[49m\u001b[43mtex\u001b[49m\u001b[43m,\u001b[49m\u001b[43m \u001b[49m\u001b[43mcwd\u001b[49m\u001b[38;5;241;43m=\u001b[39;49m\u001b[43mcwd\u001b[49m\u001b[43m)\u001b[49m\n\u001b[1;32m    299\u001b[0m         (tmppath \u001b[38;5;241m/\u001b[39m Path(dvifile)\u001b[38;5;241m.\u001b[39mname)\u001b[38;5;241m.\u001b[39mreplace(dvifile)\n\u001b[1;32m    300\u001b[0m \u001b[38;5;28;01mreturn\u001b[39;00m dvifile\n",
      "File \u001b[0;32m~/miniforge3/envs/ptsnnl/lib/python3.11/site-packages/matplotlib/texmanager.py:258\u001b[0m, in \u001b[0;36mTexManager._run_checked_subprocess\u001b[0;34m(cls, command, tex, cwd)\u001b[0m\n\u001b[1;32m    254\u001b[0m     \u001b[38;5;28;01mraise\u001b[39;00m \u001b[38;5;167;01mRuntimeError\u001b[39;00m(\n\u001b[1;32m    255\u001b[0m         \u001b[38;5;124mf\u001b[39m\u001b[38;5;124m'\u001b[39m\u001b[38;5;124mFailed to process string with tex because \u001b[39m\u001b[38;5;132;01m{\u001b[39;00mcommand[\u001b[38;5;241m0\u001b[39m]\u001b[38;5;132;01m}\u001b[39;00m\u001b[38;5;124m \u001b[39m\u001b[38;5;124m'\u001b[39m\n\u001b[1;32m    256\u001b[0m         \u001b[38;5;124m'\u001b[39m\u001b[38;5;124mcould not be found\u001b[39m\u001b[38;5;124m'\u001b[39m) \u001b[38;5;28;01mfrom\u001b[39;00m \u001b[38;5;21;01mexc\u001b[39;00m\n\u001b[1;32m    257\u001b[0m \u001b[38;5;28;01mexcept\u001b[39;00m subprocess\u001b[38;5;241m.\u001b[39mCalledProcessError \u001b[38;5;28;01mas\u001b[39;00m exc:\n\u001b[0;32m--> 258\u001b[0m     \u001b[38;5;28;01mraise\u001b[39;00m \u001b[38;5;167;01mRuntimeError\u001b[39;00m(\n\u001b[1;32m    259\u001b[0m         \u001b[38;5;124m'\u001b[39m\u001b[38;5;132;01m{prog}\u001b[39;00m\u001b[38;5;124m was not able to process the following string:\u001b[39m\u001b[38;5;130;01m\\n\u001b[39;00m\u001b[38;5;124m'\u001b[39m\n\u001b[1;32m    260\u001b[0m         \u001b[38;5;124m'\u001b[39m\u001b[38;5;132;01m{tex!r}\u001b[39;00m\u001b[38;5;130;01m\\n\u001b[39;00m\u001b[38;5;130;01m\\n\u001b[39;00m\u001b[38;5;124m'\u001b[39m\n\u001b[1;32m    261\u001b[0m         \u001b[38;5;124m'\u001b[39m\u001b[38;5;124mHere is the full command invocation and its output:\u001b[39m\u001b[38;5;130;01m\\n\u001b[39;00m\u001b[38;5;130;01m\\n\u001b[39;00m\u001b[38;5;124m'\u001b[39m\n\u001b[1;32m    262\u001b[0m         \u001b[38;5;124m'\u001b[39m\u001b[38;5;132;01m{format_command}\u001b[39;00m\u001b[38;5;130;01m\\n\u001b[39;00m\u001b[38;5;130;01m\\n\u001b[39;00m\u001b[38;5;124m'\u001b[39m\n\u001b[1;32m    263\u001b[0m         \u001b[38;5;124m'\u001b[39m\u001b[38;5;132;01m{exc}\u001b[39;00m\u001b[38;5;130;01m\\n\u001b[39;00m\u001b[38;5;130;01m\\n\u001b[39;00m\u001b[38;5;124m'\u001b[39m\u001b[38;5;241m.\u001b[39mformat(\n\u001b[1;32m    264\u001b[0m             prog\u001b[38;5;241m=\u001b[39mcommand[\u001b[38;5;241m0\u001b[39m],\n\u001b[1;32m    265\u001b[0m             format_command\u001b[38;5;241m=\u001b[39mcbook\u001b[38;5;241m.\u001b[39m_pformat_subprocess(command),\n\u001b[1;32m    266\u001b[0m             tex\u001b[38;5;241m=\u001b[39mtex\u001b[38;5;241m.\u001b[39mencode(\u001b[38;5;124m'\u001b[39m\u001b[38;5;124municode_escape\u001b[39m\u001b[38;5;124m'\u001b[39m),\n\u001b[1;32m    267\u001b[0m             exc\u001b[38;5;241m=\u001b[39mexc\u001b[38;5;241m.\u001b[39moutput\u001b[38;5;241m.\u001b[39mdecode(\u001b[38;5;124m'\u001b[39m\u001b[38;5;124mutf-8\u001b[39m\u001b[38;5;124m'\u001b[39m, \u001b[38;5;124m'\u001b[39m\u001b[38;5;124mbackslashreplace\u001b[39m\u001b[38;5;124m'\u001b[39m))\n\u001b[1;32m    268\u001b[0m         ) \u001b[38;5;28;01mfrom\u001b[39;00m \u001b[38;5;28;01mNone\u001b[39;00m\n\u001b[1;32m    269\u001b[0m _log\u001b[38;5;241m.\u001b[39mdebug(report)\n\u001b[1;32m    270\u001b[0m \u001b[38;5;28;01mreturn\u001b[39;00m report\n",
      "\u001b[0;31mRuntimeError\u001b[0m: latex was not able to process the following string:\nb'lp'\n\nHere is the full command invocation and its output:\n\nlatex -interaction=nonstopmode --halt-on-error --output-directory=tmpby31fs8g 7047aaa5111e4d8dda9c547b5b45d07c.tex\n\nThis is pdfTeX, Version 3.14159265-2.6-1.40.20 (TeX Live 2019/Debian) (preloaded format=latex)\n restricted \\write18 enabled.\nentering extended mode\n(./7047aaa5111e4d8dda9c547b5b45d07c.tex\nLaTeX2e <2020-02-02> patch level 2\nL3 programming layer <2020-02-14>\n(/usr/share/texlive/texmf-dist/tex/latex/base/article.cls\nDocument Class: article 2019/12/20 v1.4l Standard LaTeX document class\n(/usr/share/texlive/texmf-dist/tex/latex/base/size10.clo))\n(/usr/share/texlive/texmf-dist/tex/latex/psnfss/helvet.sty\n(/usr/share/texlive/texmf-dist/tex/latex/graphics/keyval.sty))\n(/usr/share/texlive/texmf-dist/tex/latex/type1cm/type1cm.sty)\n\n! LaTeX Error: File `type1ec.sty' not found.\n\nType X to quit or <RETURN> to proceed,\nor enter new name. (Default extension: sty)\n\nEnter file name: \n! Emergency stop.\n<read *> \n         \nl.9 \\usepackage\n               [utf8]{inputenc}^^M\nNo pages of output.\nTranscript written on tmpby31fs8g/7047aaa5111e4d8dda9c547b5b45d07c.log.\n\n\n"
     ]
    },
    {
     "ename": "RuntimeError",
     "evalue": "latex was not able to process the following string:\nb'lp'\n\nHere is the full command invocation and its output:\n\nlatex -interaction=nonstopmode --halt-on-error --output-directory=tmpu5ivg50f 7047aaa5111e4d8dda9c547b5b45d07c.tex\n\nThis is pdfTeX, Version 3.14159265-2.6-1.40.20 (TeX Live 2019/Debian) (preloaded format=latex)\n restricted \\write18 enabled.\nentering extended mode\n(./7047aaa5111e4d8dda9c547b5b45d07c.tex\nLaTeX2e <2020-02-02> patch level 2\nL3 programming layer <2020-02-14>\n(/usr/share/texlive/texmf-dist/tex/latex/base/article.cls\nDocument Class: article 2019/12/20 v1.4l Standard LaTeX document class\n(/usr/share/texlive/texmf-dist/tex/latex/base/size10.clo))\n(/usr/share/texlive/texmf-dist/tex/latex/psnfss/helvet.sty\n(/usr/share/texlive/texmf-dist/tex/latex/graphics/keyval.sty))\n(/usr/share/texlive/texmf-dist/tex/latex/type1cm/type1cm.sty)\n\n! LaTeX Error: File `type1ec.sty' not found.\n\nType X to quit or <RETURN> to proceed,\nor enter new name. (Default extension: sty)\n\nEnter file name: \n! Emergency stop.\n<read *> \n         \nl.9 \\usepackage\n               [utf8]{inputenc}^^M\nNo pages of output.\nTranscript written on tmpu5ivg50f/7047aaa5111e4d8dda9c547b5b45d07c.log.\n\n\n",
     "output_type": "error",
     "traceback": [
      "\u001b[0;31m---------------------------------------------------------------------------\u001b[0m",
      "\u001b[0;31mRuntimeError\u001b[0m                              Traceback (most recent call last)",
      "File \u001b[0;32m~/miniforge3/envs/ptsnnl/lib/python3.11/site-packages/IPython/core/formatters.py:343\u001b[0m, in \u001b[0;36mBaseFormatter.__call__\u001b[0;34m(self, obj)\u001b[0m\n\u001b[1;32m    341\u001b[0m     \u001b[38;5;28;01mpass\u001b[39;00m\n\u001b[1;32m    342\u001b[0m \u001b[38;5;28;01melse\u001b[39;00m:\n\u001b[0;32m--> 343\u001b[0m     \u001b[38;5;28;01mreturn\u001b[39;00m \u001b[43mprinter\u001b[49m\u001b[43m(\u001b[49m\u001b[43mobj\u001b[49m\u001b[43m)\u001b[49m\n\u001b[1;32m    344\u001b[0m \u001b[38;5;66;03m# Finally look for special method names\u001b[39;00m\n\u001b[1;32m    345\u001b[0m method \u001b[38;5;241m=\u001b[39m get_real_method(obj, \u001b[38;5;28mself\u001b[39m\u001b[38;5;241m.\u001b[39mprint_method)\n",
      "File \u001b[0;32m~/miniforge3/envs/ptsnnl/lib/python3.11/site-packages/IPython/core/pylabtools.py:152\u001b[0m, in \u001b[0;36mprint_figure\u001b[0;34m(fig, fmt, bbox_inches, base64, **kwargs)\u001b[0m\n\u001b[1;32m    149\u001b[0m     \u001b[38;5;28;01mfrom\u001b[39;00m \u001b[38;5;21;01mmatplotlib\u001b[39;00m\u001b[38;5;21;01m.\u001b[39;00m\u001b[38;5;21;01mbackend_bases\u001b[39;00m \u001b[38;5;28;01mimport\u001b[39;00m FigureCanvasBase\n\u001b[1;32m    150\u001b[0m     FigureCanvasBase(fig)\n\u001b[0;32m--> 152\u001b[0m \u001b[43mfig\u001b[49m\u001b[38;5;241;43m.\u001b[39;49m\u001b[43mcanvas\u001b[49m\u001b[38;5;241;43m.\u001b[39;49m\u001b[43mprint_figure\u001b[49m\u001b[43m(\u001b[49m\u001b[43mbytes_io\u001b[49m\u001b[43m,\u001b[49m\u001b[43m \u001b[49m\u001b[38;5;241;43m*\u001b[39;49m\u001b[38;5;241;43m*\u001b[39;49m\u001b[43mkw\u001b[49m\u001b[43m)\u001b[49m\n\u001b[1;32m    153\u001b[0m data \u001b[38;5;241m=\u001b[39m bytes_io\u001b[38;5;241m.\u001b[39mgetvalue()\n\u001b[1;32m    154\u001b[0m \u001b[38;5;28;01mif\u001b[39;00m fmt \u001b[38;5;241m==\u001b[39m \u001b[38;5;124m'\u001b[39m\u001b[38;5;124msvg\u001b[39m\u001b[38;5;124m'\u001b[39m:\n",
      "File \u001b[0;32m~/miniforge3/envs/ptsnnl/lib/python3.11/site-packages/matplotlib/backend_bases.py:2164\u001b[0m, in \u001b[0;36mFigureCanvasBase.print_figure\u001b[0;34m(self, filename, dpi, facecolor, edgecolor, orientation, format, bbox_inches, pad_inches, bbox_extra_artists, backend, **kwargs)\u001b[0m\n\u001b[1;32m   2161\u001b[0m     \u001b[38;5;66;03m# we do this instead of `self.figure.draw_without_rendering`\u001b[39;00m\n\u001b[1;32m   2162\u001b[0m     \u001b[38;5;66;03m# so that we can inject the orientation\u001b[39;00m\n\u001b[1;32m   2163\u001b[0m     \u001b[38;5;28;01mwith\u001b[39;00m \u001b[38;5;28mgetattr\u001b[39m(renderer, \u001b[38;5;124m\"\u001b[39m\u001b[38;5;124m_draw_disabled\u001b[39m\u001b[38;5;124m\"\u001b[39m, nullcontext)():\n\u001b[0;32m-> 2164\u001b[0m         \u001b[38;5;28;43mself\u001b[39;49m\u001b[38;5;241;43m.\u001b[39;49m\u001b[43mfigure\u001b[49m\u001b[38;5;241;43m.\u001b[39;49m\u001b[43mdraw\u001b[49m\u001b[43m(\u001b[49m\u001b[43mrenderer\u001b[49m\u001b[43m)\u001b[49m\n\u001b[1;32m   2165\u001b[0m \u001b[38;5;28;01mif\u001b[39;00m bbox_inches:\n\u001b[1;32m   2166\u001b[0m     \u001b[38;5;28;01mif\u001b[39;00m bbox_inches \u001b[38;5;241m==\u001b[39m \u001b[38;5;124m\"\u001b[39m\u001b[38;5;124mtight\u001b[39m\u001b[38;5;124m\"\u001b[39m:\n",
      "File \u001b[0;32m~/miniforge3/envs/ptsnnl/lib/python3.11/site-packages/matplotlib/artist.py:95\u001b[0m, in \u001b[0;36m_finalize_rasterization.<locals>.draw_wrapper\u001b[0;34m(artist, renderer, *args, **kwargs)\u001b[0m\n\u001b[1;32m     93\u001b[0m \u001b[38;5;129m@wraps\u001b[39m(draw)\n\u001b[1;32m     94\u001b[0m \u001b[38;5;28;01mdef\u001b[39;00m \u001b[38;5;21mdraw_wrapper\u001b[39m(artist, renderer, \u001b[38;5;241m*\u001b[39margs, \u001b[38;5;241m*\u001b[39m\u001b[38;5;241m*\u001b[39mkwargs):\n\u001b[0;32m---> 95\u001b[0m     result \u001b[38;5;241m=\u001b[39m \u001b[43mdraw\u001b[49m\u001b[43m(\u001b[49m\u001b[43martist\u001b[49m\u001b[43m,\u001b[49m\u001b[43m \u001b[49m\u001b[43mrenderer\u001b[49m\u001b[43m,\u001b[49m\u001b[43m \u001b[49m\u001b[38;5;241;43m*\u001b[39;49m\u001b[43margs\u001b[49m\u001b[43m,\u001b[49m\u001b[43m \u001b[49m\u001b[38;5;241;43m*\u001b[39;49m\u001b[38;5;241;43m*\u001b[39;49m\u001b[43mkwargs\u001b[49m\u001b[43m)\u001b[49m\n\u001b[1;32m     96\u001b[0m     \u001b[38;5;28;01mif\u001b[39;00m renderer\u001b[38;5;241m.\u001b[39m_rasterizing:\n\u001b[1;32m     97\u001b[0m         renderer\u001b[38;5;241m.\u001b[39mstop_rasterizing()\n",
      "File \u001b[0;32m~/miniforge3/envs/ptsnnl/lib/python3.11/site-packages/matplotlib/artist.py:72\u001b[0m, in \u001b[0;36mallow_rasterization.<locals>.draw_wrapper\u001b[0;34m(artist, renderer)\u001b[0m\n\u001b[1;32m     69\u001b[0m     \u001b[38;5;28;01mif\u001b[39;00m artist\u001b[38;5;241m.\u001b[39mget_agg_filter() \u001b[38;5;129;01mis\u001b[39;00m \u001b[38;5;129;01mnot\u001b[39;00m \u001b[38;5;28;01mNone\u001b[39;00m:\n\u001b[1;32m     70\u001b[0m         renderer\u001b[38;5;241m.\u001b[39mstart_filter()\n\u001b[0;32m---> 72\u001b[0m     \u001b[38;5;28;01mreturn\u001b[39;00m \u001b[43mdraw\u001b[49m\u001b[43m(\u001b[49m\u001b[43martist\u001b[49m\u001b[43m,\u001b[49m\u001b[43m \u001b[49m\u001b[43mrenderer\u001b[49m\u001b[43m)\u001b[49m\n\u001b[1;32m     73\u001b[0m \u001b[38;5;28;01mfinally\u001b[39;00m:\n\u001b[1;32m     74\u001b[0m     \u001b[38;5;28;01mif\u001b[39;00m artist\u001b[38;5;241m.\u001b[39mget_agg_filter() \u001b[38;5;129;01mis\u001b[39;00m \u001b[38;5;129;01mnot\u001b[39;00m \u001b[38;5;28;01mNone\u001b[39;00m:\n",
      "File \u001b[0;32m~/miniforge3/envs/ptsnnl/lib/python3.11/site-packages/matplotlib/figure.py:3154\u001b[0m, in \u001b[0;36mFigure.draw\u001b[0;34m(self, renderer)\u001b[0m\n\u001b[1;32m   3151\u001b[0m         \u001b[38;5;66;03m# ValueError can occur when resizing a window.\u001b[39;00m\n\u001b[1;32m   3153\u001b[0m \u001b[38;5;28mself\u001b[39m\u001b[38;5;241m.\u001b[39mpatch\u001b[38;5;241m.\u001b[39mdraw(renderer)\n\u001b[0;32m-> 3154\u001b[0m \u001b[43mmimage\u001b[49m\u001b[38;5;241;43m.\u001b[39;49m\u001b[43m_draw_list_compositing_images\u001b[49m\u001b[43m(\u001b[49m\n\u001b[1;32m   3155\u001b[0m \u001b[43m    \u001b[49m\u001b[43mrenderer\u001b[49m\u001b[43m,\u001b[49m\u001b[43m \u001b[49m\u001b[38;5;28;43mself\u001b[39;49m\u001b[43m,\u001b[49m\u001b[43m \u001b[49m\u001b[43martists\u001b[49m\u001b[43m,\u001b[49m\u001b[43m \u001b[49m\u001b[38;5;28;43mself\u001b[39;49m\u001b[38;5;241;43m.\u001b[39;49m\u001b[43msuppressComposite\u001b[49m\u001b[43m)\u001b[49m\n\u001b[1;32m   3157\u001b[0m \u001b[38;5;28;01mfor\u001b[39;00m sfig \u001b[38;5;129;01min\u001b[39;00m \u001b[38;5;28mself\u001b[39m\u001b[38;5;241m.\u001b[39msubfigs:\n\u001b[1;32m   3158\u001b[0m     sfig\u001b[38;5;241m.\u001b[39mdraw(renderer)\n",
      "File \u001b[0;32m~/miniforge3/envs/ptsnnl/lib/python3.11/site-packages/matplotlib/image.py:132\u001b[0m, in \u001b[0;36m_draw_list_compositing_images\u001b[0;34m(renderer, parent, artists, suppress_composite)\u001b[0m\n\u001b[1;32m    130\u001b[0m \u001b[38;5;28;01mif\u001b[39;00m not_composite \u001b[38;5;129;01mor\u001b[39;00m \u001b[38;5;129;01mnot\u001b[39;00m has_images:\n\u001b[1;32m    131\u001b[0m     \u001b[38;5;28;01mfor\u001b[39;00m a \u001b[38;5;129;01min\u001b[39;00m artists:\n\u001b[0;32m--> 132\u001b[0m         \u001b[43ma\u001b[49m\u001b[38;5;241;43m.\u001b[39;49m\u001b[43mdraw\u001b[49m\u001b[43m(\u001b[49m\u001b[43mrenderer\u001b[49m\u001b[43m)\u001b[49m\n\u001b[1;32m    133\u001b[0m \u001b[38;5;28;01melse\u001b[39;00m:\n\u001b[1;32m    134\u001b[0m     \u001b[38;5;66;03m# Composite any adjacent images together\u001b[39;00m\n\u001b[1;32m    135\u001b[0m     image_group \u001b[38;5;241m=\u001b[39m []\n",
      "File \u001b[0;32m~/miniforge3/envs/ptsnnl/lib/python3.11/site-packages/matplotlib/artist.py:72\u001b[0m, in \u001b[0;36mallow_rasterization.<locals>.draw_wrapper\u001b[0;34m(artist, renderer)\u001b[0m\n\u001b[1;32m     69\u001b[0m     \u001b[38;5;28;01mif\u001b[39;00m artist\u001b[38;5;241m.\u001b[39mget_agg_filter() \u001b[38;5;129;01mis\u001b[39;00m \u001b[38;5;129;01mnot\u001b[39;00m \u001b[38;5;28;01mNone\u001b[39;00m:\n\u001b[1;32m     70\u001b[0m         renderer\u001b[38;5;241m.\u001b[39mstart_filter()\n\u001b[0;32m---> 72\u001b[0m     \u001b[38;5;28;01mreturn\u001b[39;00m \u001b[43mdraw\u001b[49m\u001b[43m(\u001b[49m\u001b[43martist\u001b[49m\u001b[43m,\u001b[49m\u001b[43m \u001b[49m\u001b[43mrenderer\u001b[49m\u001b[43m)\u001b[49m\n\u001b[1;32m     73\u001b[0m \u001b[38;5;28;01mfinally\u001b[39;00m:\n\u001b[1;32m     74\u001b[0m     \u001b[38;5;28;01mif\u001b[39;00m artist\u001b[38;5;241m.\u001b[39mget_agg_filter() \u001b[38;5;129;01mis\u001b[39;00m \u001b[38;5;129;01mnot\u001b[39;00m \u001b[38;5;28;01mNone\u001b[39;00m:\n",
      "File \u001b[0;32m~/miniforge3/envs/ptsnnl/lib/python3.11/site-packages/matplotlib/axes/_base.py:3070\u001b[0m, in \u001b[0;36m_AxesBase.draw\u001b[0;34m(self, renderer)\u001b[0m\n\u001b[1;32m   3067\u001b[0m \u001b[38;5;28;01mif\u001b[39;00m artists_rasterized:\n\u001b[1;32m   3068\u001b[0m     _draw_rasterized(\u001b[38;5;28mself\u001b[39m\u001b[38;5;241m.\u001b[39mfigure, artists_rasterized, renderer)\n\u001b[0;32m-> 3070\u001b[0m \u001b[43mmimage\u001b[49m\u001b[38;5;241;43m.\u001b[39;49m\u001b[43m_draw_list_compositing_images\u001b[49m\u001b[43m(\u001b[49m\n\u001b[1;32m   3071\u001b[0m \u001b[43m    \u001b[49m\u001b[43mrenderer\u001b[49m\u001b[43m,\u001b[49m\u001b[43m \u001b[49m\u001b[38;5;28;43mself\u001b[39;49m\u001b[43m,\u001b[49m\u001b[43m \u001b[49m\u001b[43martists\u001b[49m\u001b[43m,\u001b[49m\u001b[43m \u001b[49m\u001b[38;5;28;43mself\u001b[39;49m\u001b[38;5;241;43m.\u001b[39;49m\u001b[43mfigure\u001b[49m\u001b[38;5;241;43m.\u001b[39;49m\u001b[43msuppressComposite\u001b[49m\u001b[43m)\u001b[49m\n\u001b[1;32m   3073\u001b[0m renderer\u001b[38;5;241m.\u001b[39mclose_group(\u001b[38;5;124m'\u001b[39m\u001b[38;5;124maxes\u001b[39m\u001b[38;5;124m'\u001b[39m)\n\u001b[1;32m   3074\u001b[0m \u001b[38;5;28mself\u001b[39m\u001b[38;5;241m.\u001b[39mstale \u001b[38;5;241m=\u001b[39m \u001b[38;5;28;01mFalse\u001b[39;00m\n",
      "File \u001b[0;32m~/miniforge3/envs/ptsnnl/lib/python3.11/site-packages/matplotlib/image.py:132\u001b[0m, in \u001b[0;36m_draw_list_compositing_images\u001b[0;34m(renderer, parent, artists, suppress_composite)\u001b[0m\n\u001b[1;32m    130\u001b[0m \u001b[38;5;28;01mif\u001b[39;00m not_composite \u001b[38;5;129;01mor\u001b[39;00m \u001b[38;5;129;01mnot\u001b[39;00m has_images:\n\u001b[1;32m    131\u001b[0m     \u001b[38;5;28;01mfor\u001b[39;00m a \u001b[38;5;129;01min\u001b[39;00m artists:\n\u001b[0;32m--> 132\u001b[0m         \u001b[43ma\u001b[49m\u001b[38;5;241;43m.\u001b[39;49m\u001b[43mdraw\u001b[49m\u001b[43m(\u001b[49m\u001b[43mrenderer\u001b[49m\u001b[43m)\u001b[49m\n\u001b[1;32m    133\u001b[0m \u001b[38;5;28;01melse\u001b[39;00m:\n\u001b[1;32m    134\u001b[0m     \u001b[38;5;66;03m# Composite any adjacent images together\u001b[39;00m\n\u001b[1;32m    135\u001b[0m     image_group \u001b[38;5;241m=\u001b[39m []\n",
      "File \u001b[0;32m~/miniforge3/envs/ptsnnl/lib/python3.11/site-packages/matplotlib/artist.py:72\u001b[0m, in \u001b[0;36mallow_rasterization.<locals>.draw_wrapper\u001b[0;34m(artist, renderer)\u001b[0m\n\u001b[1;32m     69\u001b[0m     \u001b[38;5;28;01mif\u001b[39;00m artist\u001b[38;5;241m.\u001b[39mget_agg_filter() \u001b[38;5;129;01mis\u001b[39;00m \u001b[38;5;129;01mnot\u001b[39;00m \u001b[38;5;28;01mNone\u001b[39;00m:\n\u001b[1;32m     70\u001b[0m         renderer\u001b[38;5;241m.\u001b[39mstart_filter()\n\u001b[0;32m---> 72\u001b[0m     \u001b[38;5;28;01mreturn\u001b[39;00m \u001b[43mdraw\u001b[49m\u001b[43m(\u001b[49m\u001b[43martist\u001b[49m\u001b[43m,\u001b[49m\u001b[43m \u001b[49m\u001b[43mrenderer\u001b[49m\u001b[43m)\u001b[49m\n\u001b[1;32m     73\u001b[0m \u001b[38;5;28;01mfinally\u001b[39;00m:\n\u001b[1;32m     74\u001b[0m     \u001b[38;5;28;01mif\u001b[39;00m artist\u001b[38;5;241m.\u001b[39mget_agg_filter() \u001b[38;5;129;01mis\u001b[39;00m \u001b[38;5;129;01mnot\u001b[39;00m \u001b[38;5;28;01mNone\u001b[39;00m:\n",
      "File \u001b[0;32m~/miniforge3/envs/ptsnnl/lib/python3.11/site-packages/matplotlib/axis.py:1388\u001b[0m, in \u001b[0;36mAxis.draw\u001b[0;34m(self, renderer, *args, **kwargs)\u001b[0m\n\u001b[1;32m   1385\u001b[0m renderer\u001b[38;5;241m.\u001b[39mopen_group(\u001b[38;5;18m__name__\u001b[39m, gid\u001b[38;5;241m=\u001b[39m\u001b[38;5;28mself\u001b[39m\u001b[38;5;241m.\u001b[39mget_gid())\n\u001b[1;32m   1387\u001b[0m ticks_to_draw \u001b[38;5;241m=\u001b[39m \u001b[38;5;28mself\u001b[39m\u001b[38;5;241m.\u001b[39m_update_ticks()\n\u001b[0;32m-> 1388\u001b[0m tlb1, tlb2 \u001b[38;5;241m=\u001b[39m \u001b[38;5;28;43mself\u001b[39;49m\u001b[38;5;241;43m.\u001b[39;49m\u001b[43m_get_ticklabel_bboxes\u001b[49m\u001b[43m(\u001b[49m\u001b[43mticks_to_draw\u001b[49m\u001b[43m,\u001b[49m\u001b[43m \u001b[49m\u001b[43mrenderer\u001b[49m\u001b[43m)\u001b[49m\n\u001b[1;32m   1390\u001b[0m \u001b[38;5;28;01mfor\u001b[39;00m tick \u001b[38;5;129;01min\u001b[39;00m ticks_to_draw:\n\u001b[1;32m   1391\u001b[0m     tick\u001b[38;5;241m.\u001b[39mdraw(renderer)\n",
      "File \u001b[0;32m~/miniforge3/envs/ptsnnl/lib/python3.11/site-packages/matplotlib/axis.py:1315\u001b[0m, in \u001b[0;36mAxis._get_ticklabel_bboxes\u001b[0;34m(self, ticks, renderer)\u001b[0m\n\u001b[1;32m   1313\u001b[0m \u001b[38;5;28;01mif\u001b[39;00m renderer \u001b[38;5;129;01mis\u001b[39;00m \u001b[38;5;28;01mNone\u001b[39;00m:\n\u001b[1;32m   1314\u001b[0m     renderer \u001b[38;5;241m=\u001b[39m \u001b[38;5;28mself\u001b[39m\u001b[38;5;241m.\u001b[39mfigure\u001b[38;5;241m.\u001b[39m_get_renderer()\n\u001b[0;32m-> 1315\u001b[0m \u001b[38;5;28;01mreturn\u001b[39;00m (\u001b[43m[\u001b[49m\u001b[43mtick\u001b[49m\u001b[38;5;241;43m.\u001b[39;49m\u001b[43mlabel1\u001b[49m\u001b[38;5;241;43m.\u001b[39;49m\u001b[43mget_window_extent\u001b[49m\u001b[43m(\u001b[49m\u001b[43mrenderer\u001b[49m\u001b[43m)\u001b[49m\n\u001b[1;32m   1316\u001b[0m \u001b[43m         \u001b[49m\u001b[38;5;28;43;01mfor\u001b[39;49;00m\u001b[43m \u001b[49m\u001b[43mtick\u001b[49m\u001b[43m \u001b[49m\u001b[38;5;129;43;01min\u001b[39;49;00m\u001b[43m \u001b[49m\u001b[43mticks\u001b[49m\u001b[43m \u001b[49m\u001b[38;5;28;43;01mif\u001b[39;49;00m\u001b[43m \u001b[49m\u001b[43mtick\u001b[49m\u001b[38;5;241;43m.\u001b[39;49m\u001b[43mlabel1\u001b[49m\u001b[38;5;241;43m.\u001b[39;49m\u001b[43mget_visible\u001b[49m\u001b[43m(\u001b[49m\u001b[43m)\u001b[49m\u001b[43m]\u001b[49m,\n\u001b[1;32m   1317\u001b[0m         [tick\u001b[38;5;241m.\u001b[39mlabel2\u001b[38;5;241m.\u001b[39mget_window_extent(renderer)\n\u001b[1;32m   1318\u001b[0m          \u001b[38;5;28;01mfor\u001b[39;00m tick \u001b[38;5;129;01min\u001b[39;00m ticks \u001b[38;5;28;01mif\u001b[39;00m tick\u001b[38;5;241m.\u001b[39mlabel2\u001b[38;5;241m.\u001b[39mget_visible()])\n",
      "File \u001b[0;32m~/miniforge3/envs/ptsnnl/lib/python3.11/site-packages/matplotlib/axis.py:1315\u001b[0m, in \u001b[0;36m<listcomp>\u001b[0;34m(.0)\u001b[0m\n\u001b[1;32m   1313\u001b[0m \u001b[38;5;28;01mif\u001b[39;00m renderer \u001b[38;5;129;01mis\u001b[39;00m \u001b[38;5;28;01mNone\u001b[39;00m:\n\u001b[1;32m   1314\u001b[0m     renderer \u001b[38;5;241m=\u001b[39m \u001b[38;5;28mself\u001b[39m\u001b[38;5;241m.\u001b[39mfigure\u001b[38;5;241m.\u001b[39m_get_renderer()\n\u001b[0;32m-> 1315\u001b[0m \u001b[38;5;28;01mreturn\u001b[39;00m ([\u001b[43mtick\u001b[49m\u001b[38;5;241;43m.\u001b[39;49m\u001b[43mlabel1\u001b[49m\u001b[38;5;241;43m.\u001b[39;49m\u001b[43mget_window_extent\u001b[49m\u001b[43m(\u001b[49m\u001b[43mrenderer\u001b[49m\u001b[43m)\u001b[49m\n\u001b[1;32m   1316\u001b[0m          \u001b[38;5;28;01mfor\u001b[39;00m tick \u001b[38;5;129;01min\u001b[39;00m ticks \u001b[38;5;28;01mif\u001b[39;00m tick\u001b[38;5;241m.\u001b[39mlabel1\u001b[38;5;241m.\u001b[39mget_visible()],\n\u001b[1;32m   1317\u001b[0m         [tick\u001b[38;5;241m.\u001b[39mlabel2\u001b[38;5;241m.\u001b[39mget_window_extent(renderer)\n\u001b[1;32m   1318\u001b[0m          \u001b[38;5;28;01mfor\u001b[39;00m tick \u001b[38;5;129;01min\u001b[39;00m ticks \u001b[38;5;28;01mif\u001b[39;00m tick\u001b[38;5;241m.\u001b[39mlabel2\u001b[38;5;241m.\u001b[39mget_visible()])\n",
      "File \u001b[0;32m~/miniforge3/envs/ptsnnl/lib/python3.11/site-packages/matplotlib/text.py:956\u001b[0m, in \u001b[0;36mText.get_window_extent\u001b[0;34m(self, renderer, dpi)\u001b[0m\n\u001b[1;32m    951\u001b[0m     \u001b[38;5;28;01mraise\u001b[39;00m \u001b[38;5;167;01mRuntimeError\u001b[39;00m(\n\u001b[1;32m    952\u001b[0m         \u001b[38;5;124m\"\u001b[39m\u001b[38;5;124mCannot get window extent of text w/o renderer. You likely \u001b[39m\u001b[38;5;124m\"\u001b[39m\n\u001b[1;32m    953\u001b[0m         \u001b[38;5;124m\"\u001b[39m\u001b[38;5;124mwant to call \u001b[39m\u001b[38;5;124m'\u001b[39m\u001b[38;5;124mfigure.draw_without_rendering()\u001b[39m\u001b[38;5;124m'\u001b[39m\u001b[38;5;124m first.\u001b[39m\u001b[38;5;124m\"\u001b[39m)\n\u001b[1;32m    955\u001b[0m \u001b[38;5;28;01mwith\u001b[39;00m cbook\u001b[38;5;241m.\u001b[39m_setattr_cm(\u001b[38;5;28mself\u001b[39m\u001b[38;5;241m.\u001b[39mfigure, dpi\u001b[38;5;241m=\u001b[39mdpi):\n\u001b[0;32m--> 956\u001b[0m     bbox, info, descent \u001b[38;5;241m=\u001b[39m \u001b[38;5;28;43mself\u001b[39;49m\u001b[38;5;241;43m.\u001b[39;49m\u001b[43m_get_layout\u001b[49m\u001b[43m(\u001b[49m\u001b[38;5;28;43mself\u001b[39;49m\u001b[38;5;241;43m.\u001b[39;49m\u001b[43m_renderer\u001b[49m\u001b[43m)\u001b[49m\n\u001b[1;32m    957\u001b[0m     x, y \u001b[38;5;241m=\u001b[39m \u001b[38;5;28mself\u001b[39m\u001b[38;5;241m.\u001b[39mget_unitless_position()\n\u001b[1;32m    958\u001b[0m     x, y \u001b[38;5;241m=\u001b[39m \u001b[38;5;28mself\u001b[39m\u001b[38;5;241m.\u001b[39mget_transform()\u001b[38;5;241m.\u001b[39mtransform((x, y))\n",
      "File \u001b[0;32m~/miniforge3/envs/ptsnnl/lib/python3.11/site-packages/matplotlib/text.py:373\u001b[0m, in \u001b[0;36mText._get_layout\u001b[0;34m(self, renderer)\u001b[0m\n\u001b[1;32m    370\u001b[0m ys \u001b[38;5;241m=\u001b[39m []\n\u001b[1;32m    372\u001b[0m \u001b[38;5;66;03m# Full vertical extent of font, including ascenders and descenders:\u001b[39;00m\n\u001b[0;32m--> 373\u001b[0m _, lp_h, lp_d \u001b[38;5;241m=\u001b[39m \u001b[43m_get_text_metrics_with_cache\u001b[49m\u001b[43m(\u001b[49m\n\u001b[1;32m    374\u001b[0m \u001b[43m    \u001b[49m\u001b[43mrenderer\u001b[49m\u001b[43m,\u001b[49m\u001b[43m \u001b[49m\u001b[38;5;124;43m\"\u001b[39;49m\u001b[38;5;124;43mlp\u001b[39;49m\u001b[38;5;124;43m\"\u001b[39;49m\u001b[43m,\u001b[49m\u001b[43m \u001b[49m\u001b[38;5;28;43mself\u001b[39;49m\u001b[38;5;241;43m.\u001b[39;49m\u001b[43m_fontproperties\u001b[49m\u001b[43m,\u001b[49m\n\u001b[1;32m    375\u001b[0m \u001b[43m    \u001b[49m\u001b[43mismath\u001b[49m\u001b[38;5;241;43m=\u001b[39;49m\u001b[38;5;124;43m\"\u001b[39;49m\u001b[38;5;124;43mTeX\u001b[39;49m\u001b[38;5;124;43m\"\u001b[39;49m\u001b[43m \u001b[49m\u001b[38;5;28;43;01mif\u001b[39;49;00m\u001b[43m \u001b[49m\u001b[38;5;28;43mself\u001b[39;49m\u001b[38;5;241;43m.\u001b[39;49m\u001b[43mget_usetex\u001b[49m\u001b[43m(\u001b[49m\u001b[43m)\u001b[49m\u001b[43m \u001b[49m\u001b[38;5;28;43;01melse\u001b[39;49;00m\u001b[43m \u001b[49m\u001b[38;5;28;43;01mFalse\u001b[39;49;00m\u001b[43m,\u001b[49m\u001b[43m \u001b[49m\u001b[43mdpi\u001b[49m\u001b[38;5;241;43m=\u001b[39;49m\u001b[38;5;28;43mself\u001b[39;49m\u001b[38;5;241;43m.\u001b[39;49m\u001b[43mfigure\u001b[49m\u001b[38;5;241;43m.\u001b[39;49m\u001b[43mdpi\u001b[49m\u001b[43m)\u001b[49m\n\u001b[1;32m    376\u001b[0m min_dy \u001b[38;5;241m=\u001b[39m (lp_h \u001b[38;5;241m-\u001b[39m lp_d) \u001b[38;5;241m*\u001b[39m \u001b[38;5;28mself\u001b[39m\u001b[38;5;241m.\u001b[39m_linespacing\n\u001b[1;32m    378\u001b[0m \u001b[38;5;28;01mfor\u001b[39;00m i, line \u001b[38;5;129;01min\u001b[39;00m \u001b[38;5;28menumerate\u001b[39m(lines):\n",
      "File \u001b[0;32m~/miniforge3/envs/ptsnnl/lib/python3.11/site-packages/matplotlib/text.py:69\u001b[0m, in \u001b[0;36m_get_text_metrics_with_cache\u001b[0;34m(renderer, text, fontprop, ismath, dpi)\u001b[0m\n\u001b[1;32m     66\u001b[0m \u001b[38;5;250m\u001b[39m\u001b[38;5;124;03m\"\"\"Call ``renderer.get_text_width_height_descent``, caching the results.\"\"\"\u001b[39;00m\n\u001b[1;32m     67\u001b[0m \u001b[38;5;66;03m# Cached based on a copy of fontprop so that later in-place mutations of\u001b[39;00m\n\u001b[1;32m     68\u001b[0m \u001b[38;5;66;03m# the passed-in argument do not mess up the cache.\u001b[39;00m\n\u001b[0;32m---> 69\u001b[0m \u001b[38;5;28;01mreturn\u001b[39;00m \u001b[43m_get_text_metrics_with_cache_impl\u001b[49m\u001b[43m(\u001b[49m\n\u001b[1;32m     70\u001b[0m \u001b[43m    \u001b[49m\u001b[43mweakref\u001b[49m\u001b[38;5;241;43m.\u001b[39;49m\u001b[43mref\u001b[49m\u001b[43m(\u001b[49m\u001b[43mrenderer\u001b[49m\u001b[43m)\u001b[49m\u001b[43m,\u001b[49m\u001b[43m \u001b[49m\u001b[43mtext\u001b[49m\u001b[43m,\u001b[49m\u001b[43m \u001b[49m\u001b[43mfontprop\u001b[49m\u001b[38;5;241;43m.\u001b[39;49m\u001b[43mcopy\u001b[49m\u001b[43m(\u001b[49m\u001b[43m)\u001b[49m\u001b[43m,\u001b[49m\u001b[43m \u001b[49m\u001b[43mismath\u001b[49m\u001b[43m,\u001b[49m\u001b[43m \u001b[49m\u001b[43mdpi\u001b[49m\u001b[43m)\u001b[49m\n",
      "File \u001b[0;32m~/miniforge3/envs/ptsnnl/lib/python3.11/site-packages/matplotlib/text.py:77\u001b[0m, in \u001b[0;36m_get_text_metrics_with_cache_impl\u001b[0;34m(renderer_ref, text, fontprop, ismath, dpi)\u001b[0m\n\u001b[1;32m     73\u001b[0m \u001b[38;5;129m@functools\u001b[39m\u001b[38;5;241m.\u001b[39mlru_cache(\u001b[38;5;241m4096\u001b[39m)\n\u001b[1;32m     74\u001b[0m \u001b[38;5;28;01mdef\u001b[39;00m \u001b[38;5;21m_get_text_metrics_with_cache_impl\u001b[39m(\n\u001b[1;32m     75\u001b[0m         renderer_ref, text, fontprop, ismath, dpi):\n\u001b[1;32m     76\u001b[0m     \u001b[38;5;66;03m# dpi is unused, but participates in cache invalidation (via the renderer).\u001b[39;00m\n\u001b[0;32m---> 77\u001b[0m     \u001b[38;5;28;01mreturn\u001b[39;00m \u001b[43mrenderer_ref\u001b[49m\u001b[43m(\u001b[49m\u001b[43m)\u001b[49m\u001b[38;5;241;43m.\u001b[39;49m\u001b[43mget_text_width_height_descent\u001b[49m\u001b[43m(\u001b[49m\u001b[43mtext\u001b[49m\u001b[43m,\u001b[49m\u001b[43m \u001b[49m\u001b[43mfontprop\u001b[49m\u001b[43m,\u001b[49m\u001b[43m \u001b[49m\u001b[43mismath\u001b[49m\u001b[43m)\u001b[49m\n",
      "File \u001b[0;32m~/miniforge3/envs/ptsnnl/lib/python3.11/site-packages/matplotlib/backends/backend_agg.py:213\u001b[0m, in \u001b[0;36mRendererAgg.get_text_width_height_descent\u001b[0;34m(self, s, prop, ismath)\u001b[0m\n\u001b[1;32m    211\u001b[0m _api\u001b[38;5;241m.\u001b[39mcheck_in_list([\u001b[38;5;124m\"\u001b[39m\u001b[38;5;124mTeX\u001b[39m\u001b[38;5;124m\"\u001b[39m, \u001b[38;5;28;01mTrue\u001b[39;00m, \u001b[38;5;28;01mFalse\u001b[39;00m], ismath\u001b[38;5;241m=\u001b[39mismath)\n\u001b[1;32m    212\u001b[0m \u001b[38;5;28;01mif\u001b[39;00m ismath \u001b[38;5;241m==\u001b[39m \u001b[38;5;124m\"\u001b[39m\u001b[38;5;124mTeX\u001b[39m\u001b[38;5;124m\"\u001b[39m:\n\u001b[0;32m--> 213\u001b[0m     \u001b[38;5;28;01mreturn\u001b[39;00m \u001b[38;5;28;43msuper\u001b[39;49m\u001b[43m(\u001b[49m\u001b[43m)\u001b[49m\u001b[38;5;241;43m.\u001b[39;49m\u001b[43mget_text_width_height_descent\u001b[49m\u001b[43m(\u001b[49m\u001b[43ms\u001b[49m\u001b[43m,\u001b[49m\u001b[43m \u001b[49m\u001b[43mprop\u001b[49m\u001b[43m,\u001b[49m\u001b[43m \u001b[49m\u001b[43mismath\u001b[49m\u001b[43m)\u001b[49m\n\u001b[1;32m    215\u001b[0m \u001b[38;5;28;01mif\u001b[39;00m ismath:\n\u001b[1;32m    216\u001b[0m     ox, oy, width, height, descent, font_image \u001b[38;5;241m=\u001b[39m \\\n\u001b[1;32m    217\u001b[0m         \u001b[38;5;28mself\u001b[39m\u001b[38;5;241m.\u001b[39mmathtext_parser\u001b[38;5;241m.\u001b[39mparse(s, \u001b[38;5;28mself\u001b[39m\u001b[38;5;241m.\u001b[39mdpi, prop)\n",
      "File \u001b[0;32m~/miniforge3/envs/ptsnnl/lib/python3.11/site-packages/matplotlib/backend_bases.py:652\u001b[0m, in \u001b[0;36mRendererBase.get_text_width_height_descent\u001b[0;34m(self, s, prop, ismath)\u001b[0m\n\u001b[1;32m    648\u001b[0m fontsize \u001b[38;5;241m=\u001b[39m prop\u001b[38;5;241m.\u001b[39mget_size_in_points()\n\u001b[1;32m    650\u001b[0m \u001b[38;5;28;01mif\u001b[39;00m ismath \u001b[38;5;241m==\u001b[39m \u001b[38;5;124m'\u001b[39m\u001b[38;5;124mTeX\u001b[39m\u001b[38;5;124m'\u001b[39m:\n\u001b[1;32m    651\u001b[0m     \u001b[38;5;66;03m# todo: handle properties\u001b[39;00m\n\u001b[0;32m--> 652\u001b[0m     \u001b[38;5;28;01mreturn\u001b[39;00m \u001b[38;5;28;43mself\u001b[39;49m\u001b[38;5;241;43m.\u001b[39;49m\u001b[43mget_texmanager\u001b[49m\u001b[43m(\u001b[49m\u001b[43m)\u001b[49m\u001b[38;5;241;43m.\u001b[39;49m\u001b[43mget_text_width_height_descent\u001b[49m\u001b[43m(\u001b[49m\n\u001b[1;32m    653\u001b[0m \u001b[43m        \u001b[49m\u001b[43ms\u001b[49m\u001b[43m,\u001b[49m\u001b[43m \u001b[49m\u001b[43mfontsize\u001b[49m\u001b[43m,\u001b[49m\u001b[43m \u001b[49m\u001b[43mrenderer\u001b[49m\u001b[38;5;241;43m=\u001b[39;49m\u001b[38;5;28;43mself\u001b[39;49m\u001b[43m)\u001b[49m\n\u001b[1;32m    655\u001b[0m dpi \u001b[38;5;241m=\u001b[39m \u001b[38;5;28mself\u001b[39m\u001b[38;5;241m.\u001b[39mpoints_to_pixels(\u001b[38;5;241m72\u001b[39m)\n\u001b[1;32m    656\u001b[0m \u001b[38;5;28;01mif\u001b[39;00m ismath:\n",
      "File \u001b[0;32m~/miniforge3/envs/ptsnnl/lib/python3.11/site-packages/matplotlib/texmanager.py:363\u001b[0m, in \u001b[0;36mTexManager.get_text_width_height_descent\u001b[0;34m(cls, tex, fontsize, renderer)\u001b[0m\n\u001b[1;32m    361\u001b[0m \u001b[38;5;28;01mif\u001b[39;00m tex\u001b[38;5;241m.\u001b[39mstrip() \u001b[38;5;241m==\u001b[39m \u001b[38;5;124m'\u001b[39m\u001b[38;5;124m'\u001b[39m:\n\u001b[1;32m    362\u001b[0m     \u001b[38;5;28;01mreturn\u001b[39;00m \u001b[38;5;241m0\u001b[39m, \u001b[38;5;241m0\u001b[39m, \u001b[38;5;241m0\u001b[39m\n\u001b[0;32m--> 363\u001b[0m dvifile \u001b[38;5;241m=\u001b[39m \u001b[38;5;28;43mcls\u001b[39;49m\u001b[38;5;241;43m.\u001b[39;49m\u001b[43mmake_dvi\u001b[49m\u001b[43m(\u001b[49m\u001b[43mtex\u001b[49m\u001b[43m,\u001b[49m\u001b[43m \u001b[49m\u001b[43mfontsize\u001b[49m\u001b[43m)\u001b[49m\n\u001b[1;32m    364\u001b[0m dpi_fraction \u001b[38;5;241m=\u001b[39m renderer\u001b[38;5;241m.\u001b[39mpoints_to_pixels(\u001b[38;5;241m1.\u001b[39m) \u001b[38;5;28;01mif\u001b[39;00m renderer \u001b[38;5;28;01melse\u001b[39;00m \u001b[38;5;241m1\u001b[39m\n\u001b[1;32m    365\u001b[0m \u001b[38;5;28;01mwith\u001b[39;00m dviread\u001b[38;5;241m.\u001b[39mDvi(dvifile, \u001b[38;5;241m72\u001b[39m \u001b[38;5;241m*\u001b[39m dpi_fraction) \u001b[38;5;28;01mas\u001b[39;00m dvi:\n",
      "File \u001b[0;32m~/miniforge3/envs/ptsnnl/lib/python3.11/site-packages/matplotlib/texmanager.py:295\u001b[0m, in \u001b[0;36mTexManager.make_dvi\u001b[0;34m(cls, tex, fontsize)\u001b[0m\n\u001b[1;32m    293\u001b[0m     \u001b[38;5;28;01mwith\u001b[39;00m TemporaryDirectory(\u001b[38;5;28mdir\u001b[39m\u001b[38;5;241m=\u001b[39mcwd) \u001b[38;5;28;01mas\u001b[39;00m tmpdir:\n\u001b[1;32m    294\u001b[0m         tmppath \u001b[38;5;241m=\u001b[39m Path(tmpdir)\n\u001b[0;32m--> 295\u001b[0m         \u001b[38;5;28;43mcls\u001b[39;49m\u001b[38;5;241;43m.\u001b[39;49m\u001b[43m_run_checked_subprocess\u001b[49m\u001b[43m(\u001b[49m\n\u001b[1;32m    296\u001b[0m \u001b[43m            \u001b[49m\u001b[43m[\u001b[49m\u001b[38;5;124;43m\"\u001b[39;49m\u001b[38;5;124;43mlatex\u001b[39;49m\u001b[38;5;124;43m\"\u001b[39;49m\u001b[43m,\u001b[49m\u001b[43m \u001b[49m\u001b[38;5;124;43m\"\u001b[39;49m\u001b[38;5;124;43m-interaction=nonstopmode\u001b[39;49m\u001b[38;5;124;43m\"\u001b[39;49m\u001b[43m,\u001b[49m\u001b[43m \u001b[49m\u001b[38;5;124;43m\"\u001b[39;49m\u001b[38;5;124;43m--halt-on-error\u001b[39;49m\u001b[38;5;124;43m\"\u001b[39;49m\u001b[43m,\u001b[49m\n\u001b[1;32m    297\u001b[0m \u001b[43m             \u001b[49m\u001b[38;5;124;43mf\u001b[39;49m\u001b[38;5;124;43m\"\u001b[39;49m\u001b[38;5;124;43m--output-directory=\u001b[39;49m\u001b[38;5;132;43;01m{\u001b[39;49;00m\u001b[43mtmppath\u001b[49m\u001b[38;5;241;43m.\u001b[39;49m\u001b[43mname\u001b[49m\u001b[38;5;132;43;01m}\u001b[39;49;00m\u001b[38;5;124;43m\"\u001b[39;49m\u001b[43m,\u001b[49m\n\u001b[1;32m    298\u001b[0m \u001b[43m             \u001b[49m\u001b[38;5;124;43mf\u001b[39;49m\u001b[38;5;124;43m\"\u001b[39;49m\u001b[38;5;132;43;01m{\u001b[39;49;00m\u001b[43mtexfile\u001b[49m\u001b[38;5;241;43m.\u001b[39;49m\u001b[43mname\u001b[49m\u001b[38;5;132;43;01m}\u001b[39;49;00m\u001b[38;5;124;43m\"\u001b[39;49m\u001b[43m]\u001b[49m\u001b[43m,\u001b[49m\u001b[43m \u001b[49m\u001b[43mtex\u001b[49m\u001b[43m,\u001b[49m\u001b[43m \u001b[49m\u001b[43mcwd\u001b[49m\u001b[38;5;241;43m=\u001b[39;49m\u001b[43mcwd\u001b[49m\u001b[43m)\u001b[49m\n\u001b[1;32m    299\u001b[0m         (tmppath \u001b[38;5;241m/\u001b[39m Path(dvifile)\u001b[38;5;241m.\u001b[39mname)\u001b[38;5;241m.\u001b[39mreplace(dvifile)\n\u001b[1;32m    300\u001b[0m \u001b[38;5;28;01mreturn\u001b[39;00m dvifile\n",
      "File \u001b[0;32m~/miniforge3/envs/ptsnnl/lib/python3.11/site-packages/matplotlib/texmanager.py:258\u001b[0m, in \u001b[0;36mTexManager._run_checked_subprocess\u001b[0;34m(cls, command, tex, cwd)\u001b[0m\n\u001b[1;32m    254\u001b[0m     \u001b[38;5;28;01mraise\u001b[39;00m \u001b[38;5;167;01mRuntimeError\u001b[39;00m(\n\u001b[1;32m    255\u001b[0m         \u001b[38;5;124mf\u001b[39m\u001b[38;5;124m'\u001b[39m\u001b[38;5;124mFailed to process string with tex because \u001b[39m\u001b[38;5;132;01m{\u001b[39;00mcommand[\u001b[38;5;241m0\u001b[39m]\u001b[38;5;132;01m}\u001b[39;00m\u001b[38;5;124m \u001b[39m\u001b[38;5;124m'\u001b[39m\n\u001b[1;32m    256\u001b[0m         \u001b[38;5;124m'\u001b[39m\u001b[38;5;124mcould not be found\u001b[39m\u001b[38;5;124m'\u001b[39m) \u001b[38;5;28;01mfrom\u001b[39;00m \u001b[38;5;21;01mexc\u001b[39;00m\n\u001b[1;32m    257\u001b[0m \u001b[38;5;28;01mexcept\u001b[39;00m subprocess\u001b[38;5;241m.\u001b[39mCalledProcessError \u001b[38;5;28;01mas\u001b[39;00m exc:\n\u001b[0;32m--> 258\u001b[0m     \u001b[38;5;28;01mraise\u001b[39;00m \u001b[38;5;167;01mRuntimeError\u001b[39;00m(\n\u001b[1;32m    259\u001b[0m         \u001b[38;5;124m'\u001b[39m\u001b[38;5;132;01m{prog}\u001b[39;00m\u001b[38;5;124m was not able to process the following string:\u001b[39m\u001b[38;5;130;01m\\n\u001b[39;00m\u001b[38;5;124m'\u001b[39m\n\u001b[1;32m    260\u001b[0m         \u001b[38;5;124m'\u001b[39m\u001b[38;5;132;01m{tex!r}\u001b[39;00m\u001b[38;5;130;01m\\n\u001b[39;00m\u001b[38;5;130;01m\\n\u001b[39;00m\u001b[38;5;124m'\u001b[39m\n\u001b[1;32m    261\u001b[0m         \u001b[38;5;124m'\u001b[39m\u001b[38;5;124mHere is the full command invocation and its output:\u001b[39m\u001b[38;5;130;01m\\n\u001b[39;00m\u001b[38;5;130;01m\\n\u001b[39;00m\u001b[38;5;124m'\u001b[39m\n\u001b[1;32m    262\u001b[0m         \u001b[38;5;124m'\u001b[39m\u001b[38;5;132;01m{format_command}\u001b[39;00m\u001b[38;5;130;01m\\n\u001b[39;00m\u001b[38;5;130;01m\\n\u001b[39;00m\u001b[38;5;124m'\u001b[39m\n\u001b[1;32m    263\u001b[0m         \u001b[38;5;124m'\u001b[39m\u001b[38;5;132;01m{exc}\u001b[39;00m\u001b[38;5;130;01m\\n\u001b[39;00m\u001b[38;5;130;01m\\n\u001b[39;00m\u001b[38;5;124m'\u001b[39m\u001b[38;5;241m.\u001b[39mformat(\n\u001b[1;32m    264\u001b[0m             prog\u001b[38;5;241m=\u001b[39mcommand[\u001b[38;5;241m0\u001b[39m],\n\u001b[1;32m    265\u001b[0m             format_command\u001b[38;5;241m=\u001b[39mcbook\u001b[38;5;241m.\u001b[39m_pformat_subprocess(command),\n\u001b[1;32m    266\u001b[0m             tex\u001b[38;5;241m=\u001b[39mtex\u001b[38;5;241m.\u001b[39mencode(\u001b[38;5;124m'\u001b[39m\u001b[38;5;124municode_escape\u001b[39m\u001b[38;5;124m'\u001b[39m),\n\u001b[1;32m    267\u001b[0m             exc\u001b[38;5;241m=\u001b[39mexc\u001b[38;5;241m.\u001b[39moutput\u001b[38;5;241m.\u001b[39mdecode(\u001b[38;5;124m'\u001b[39m\u001b[38;5;124mutf-8\u001b[39m\u001b[38;5;124m'\u001b[39m, \u001b[38;5;124m'\u001b[39m\u001b[38;5;124mbackslashreplace\u001b[39m\u001b[38;5;124m'\u001b[39m))\n\u001b[1;32m    268\u001b[0m         ) \u001b[38;5;28;01mfrom\u001b[39;00m \u001b[38;5;28;01mNone\u001b[39;00m\n\u001b[1;32m    269\u001b[0m _log\u001b[38;5;241m.\u001b[39mdebug(report)\n\u001b[1;32m    270\u001b[0m \u001b[38;5;28;01mreturn\u001b[39;00m report\n",
      "\u001b[0;31mRuntimeError\u001b[0m: latex was not able to process the following string:\nb'lp'\n\nHere is the full command invocation and its output:\n\nlatex -interaction=nonstopmode --halt-on-error --output-directory=tmpu5ivg50f 7047aaa5111e4d8dda9c547b5b45d07c.tex\n\nThis is pdfTeX, Version 3.14159265-2.6-1.40.20 (TeX Live 2019/Debian) (preloaded format=latex)\n restricted \\write18 enabled.\nentering extended mode\n(./7047aaa5111e4d8dda9c547b5b45d07c.tex\nLaTeX2e <2020-02-02> patch level 2\nL3 programming layer <2020-02-14>\n(/usr/share/texlive/texmf-dist/tex/latex/base/article.cls\nDocument Class: article 2019/12/20 v1.4l Standard LaTeX document class\n(/usr/share/texlive/texmf-dist/tex/latex/base/size10.clo))\n(/usr/share/texlive/texmf-dist/tex/latex/psnfss/helvet.sty\n(/usr/share/texlive/texmf-dist/tex/latex/graphics/keyval.sty))\n(/usr/share/texlive/texmf-dist/tex/latex/type1cm/type1cm.sty)\n\n! LaTeX Error: File `type1ec.sty' not found.\n\nType X to quit or <RETURN> to proceed,\nor enter new name. (Default extension: sty)\n\nEnter file name: \n! Emergency stop.\n<read *> \n         \nl.9 \\usepackage\n               [utf8]{inputenc}^^M\nNo pages of output.\nTranscript written on tmpu5ivg50f/7047aaa5111e4d8dda9c547b5b45d07c.log.\n\n\n"
     ]
    },
    {
     "data": {
      "text/plain": [
       "<Figure size 640x480 with 1 Axes>"
      ]
     },
     "metadata": {},
     "output_type": "display_data"
    }
   ],
   "source": [
    "x = []\n",
    "y1 = []\n",
    "y2 = []\n",
    "y3 = []\n",
    "y4 = []\n",
    "y5 = []\n",
    "y6 = []\n",
    "diff = 0.2\n",
    "dist1 = 0.01\n",
    "dist2 = 1.00\n",
    "temp  = 5.0\n",
    "for temp in  np.arange(1,20,0.1):\n",
    "    # temp1 = np.exp(-(dist1))\n",
    "    temp2 = np.exp(-(dist1/temp))\n",
    "    # temp3 = np.exp(-(dist2))\n",
    "    temp4 = np.exp(-(dist2/temp))\n",
    "    temp5 = temp2/temp4\n",
    "    temp6 = -np.log(temp5)\n",
    "    # temp3 = -np.log(np.exp(-ep)/np.exp(-(ep+diff)))\n",
    "    # temp3 = 1.0 / ((1.0 + ep) ** 0.55)\n",
    "    x.append(temp)\n",
    "    # y1.append(temp1)\n",
    "    y2.append(temp2)\n",
    "    # y3.append(temp3)\n",
    "    y4.append(temp4)\n",
    "    y5.append(temp5)\n",
    "    y6.append(temp6)\n",
    "\n",
    "\n",
    "# plt.plot(x,y1,color='b')\n",
    "plt.plot(x,y2,   '--b', )\n",
    "# plt.plot(x,y3,color='r')\n",
    "plt.plot(x,y4,   '--r')\n",
    "plt.plot(x,y5,   '--g')\n",
    "plt.plot(x,y6,   '-c')\n",
    "# plt.legend([r'e^{dist}{T}','b','c',\"d\"])\n",
    "ax.set_title(r'\\TeX\\ is Number $\\displaystyle\\sum_{n=1}^\\infty'\n",
    "             r'\\frac{-e^{i\\pi}}{2^n}$!', fontsize=16, color='r')\n",
    "# df = pd.DataFrame(dict(\n",
    "    # x=x,\n",
    "    # y=y1,\n",
    "    # moa=pd.concat([treated_wells[\"MOA\"], treatments[\"MOA\"]]),\n",
    "    # batch=pd.concat([treated_wells[\"Plate\"].apply(lambda x: x.split(\"_\")[0]), treatments[\"Batch\"]]),\n",
    "    # compound=pd.concat([treated_wells[\"Compound\"], treatments[\"Compound\"]]),\n",
    "    # correct=pd.concat([treated_wells[\"nsc\"],treatments[\"nsc\"]]),\n",
    "    # level=pd.concat([treated_wells[\"level\"],treatments[\"level\"]])\n",
    "# ))\n",
    "\n",
    "# plt.figure()\n",
    "# sb.lmplot(x,y1, fit_reg=False, palette=\"hls\")"
   ]
  },
  {
   "cell_type": "code",
   "execution_count": 52,
   "id": "a39aaa54-9fb7-4376-9769-ae1b2d5e175c",
   "metadata": {
    "execution": {
     "iopub.execute_input": "2024-04-01T21:07:16.437868Z",
     "iopub.status.busy": "2024-04-01T21:07:16.437377Z",
     "iopub.status.idle": "2024-04-01T21:07:16.477207Z",
     "shell.execute_reply": "2024-04-01T21:07:16.476657Z",
     "shell.execute_reply.started": "2024-04-01T21:07:16.437828Z"
    }
   },
   "outputs": [
    {
     "data": {
      "text/plain": [
       "(0.9900498337491681, 0.9900498337491681)"
      ]
     },
     "execution_count": 52,
     "metadata": {},
     "output_type": "execute_result"
    },
    {
     "data": {
      "text/plain": [
       "[0.9900498337491681,\n",
       " 0.9950124791926823,\n",
       " 0.9966722160545233,\n",
       " 0.9975031223974601,\n",
       " 0.9980019986673331,\n",
       " 0.9983347214509387,\n",
       " 0.9985724484938566,\n",
       " 0.9987507809245809,\n",
       " 0.9988895059442793,\n",
       " 0.999000499833375,\n",
       " 0.9990913221888589,\n",
       " 0.9991670137924583,\n",
       " 0.9992310650129109,\n",
       " 0.9992859693270274,\n",
       " 0.9993335555061811,\n",
       " 0.9993751952718163,\n",
       " 0.9994119376823444,\n",
       " 0.9994445987368581,\n",
       " 0.9994738226903856,\n",
       " 0.9995001249791693,\n",
       " 0.9995239228844999,\n",
       " 0.9995455578355891,\n",
       " 0.999565311895566,\n",
       " 0.9995834201268338,\n",
       " 0.9996000799893344,\n",
       " 0.9996154585703999,\n",
       " 0.9996296982082685,\n",
       " 0.9996429209107757,\n",
       " 0.9996552318599922,\n",
       " 0.9996667222160499,\n",
       " 0.9996774713783809,\n",
       " 0.9996875488230391,\n",
       " 0.9996970156060145,\n",
       " 0.9997059256012962,\n",
       " 0.9997143265267252,\n",
       " 0.9997222607988971,\n",
       " 0.9997297662494491,\n",
       " 0.9997368767282647,\n",
       " 0.99974362261389,\n",
       " 0.999750031247396,\n",
       " 0.9997561273027574,\n",
       " 0.9997619331043265,\n",
       " 0.9997674689000131,\n",
       " 0.9997727530972171,\n",
       " 0.999777802467307,\n",
       " 0.9997826323234296,\n",
       " 0.9997872566756243,\n",
       " 0.9997916883665486,\n",
       " 0.9997959391905867]"
      ]
     },
     "execution_count": 52,
     "metadata": {},
     "output_type": "execute_result"
    }
   ],
   "source": [
    "y1[0], y1[-1]\n",
    "y2"
   ]
  },
  {
   "cell_type": "markdown",
   "id": "fb1c985a-5b38-4e6f-8976-772e2e2ba4e2",
   "metadata": {},
   "source": [
    "## annealing"
   ]
  },
  {
   "cell_type": "code",
   "execution_count": 17,
   "id": "a7761404-dff1-47cd-9e67-e7a363286b3e",
   "metadata": {
    "execution": {
     "iopub.execute_input": "2024-04-01T07:58:47.161785Z",
     "iopub.status.busy": "2024-04-01T07:58:47.161341Z",
     "iopub.status.idle": "2024-04-01T07:58:47.326778Z",
     "shell.execute_reply": "2024-04-01T07:58:47.326269Z",
     "shell.execute_reply.started": "2024-04-01T07:58:47.161744Z"
    }
   },
   "outputs": [
    {
     "data": {
      "text/plain": [
       "[<matplotlib.lines.Line2D at 0x7f29d8860150>]"
      ]
     },
     "execution_count": 17,
     "metadata": {},
     "output_type": "execute_result"
    },
    {
     "data": {
      "text/plain": [
       "[<matplotlib.lines.Line2D at 0x7f29d8a3e990>]"
      ]
     },
     "execution_count": 17,
     "metadata": {},
     "output_type": "execute_result"
    },
    {
     "data": {
      "text/plain": [
       "[<matplotlib.lines.Line2D at 0x7f29d8877250>]"
      ]
     },
     "execution_count": 17,
     "metadata": {},
     "output_type": "execute_result"
    },
    {
     "data": {
      "image/png": "[encoded data removed]",
      "text/plain": [
       "<Figure size 640x480 with 1 Axes>"
      ]
     },
     "metadata": {},
     "output_type": "display_data"
    }
   ],
   "source": [
    "x = []\n",
    "y1 = []\n",
    "y2 = []\n",
    "y3 = []\n",
    "\n",
    "for ep in  range(1000):\n",
    "    temp1 = 1.0 / ((1.0 + ep) ** 0.15)\n",
    "    temp2 = 1.0 / ((1.0 + ep) ** 0.35)\n",
    "    temp3 = 1.0 / ((1.0 + ep) ** 0.55)\n",
    "    x.append(ep)\n",
    "    y1.append(temp1)\n",
    "    y2.append(temp2)\n",
    "    y3.append(temp3)\n",
    "\n",
    "plt.plot(x,y1,color='b')\n",
    "plt.plot(x,y2,color='green')\n",
    "plt.plot(x,y3,color='r')"
   ]
  }
 ],
 "metadata": {
  "kernelspec": {
   "display_name": "Python [conda env:ptsnnl]",
   "language": "python",
   "name": "conda-env-ptsnnl-py"
  },
  "language_info": {
   "codemirror_mode": {
    "name": "ipython",
    "version": 3
   },
   "file_extension": ".py",
   "mimetype": "text/x-python",
   "name": "python",
   "nbconvert_exporter": "python",
   "pygments_lexer": "ipython3",
   "version": "3.11.0"
  }
 },
 "nbformat": 4,
 "nbformat_minor": 5
}
