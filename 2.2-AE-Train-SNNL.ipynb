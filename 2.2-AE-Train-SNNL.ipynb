{
 "cells": [
  {
   "cell_type": "markdown",
   "id": "01e25dfa-859b-40a5-9bd7-e23d6e0a0557",
   "metadata": {},
   "source": [
    "  # Autoencoder - SNNL Dev"
   ]
  },
  {
   "cell_type": "markdown",
   "id": "dc83491e-628a-4bc0-806c-5d41b997dd98",
   "metadata": {},
   "source": [
    "# Setup"
   ]
  },
  {
   "cell_type": "code",
   "execution_count": 3,
   "id": "11ad0ae2",
   "metadata": {
    "ExecuteTime": {
     "end_time": "2023-04-12T10:29:15.566596Z",
     "start_time": "2023-04-12T10:29:15.550232Z"
    },
    "execution": {
     "iopub.execute_input": "2024-09-19T18:11:31.923297Z",
     "iopub.status.busy": "2024-09-19T18:11:31.922725Z",
     "iopub.status.idle": "2024-09-19T18:11:31.946080Z",
     "shell.execute_reply": "2024-09-19T18:11:31.945154Z",
     "shell.execute_reply.started": "2024-09-19T18:11:31.923251Z"
    }
   },
   "outputs": [
    {
     "data": {
      "text/html": [
       "<style>.container { width:98% !important; }</style>"
      ],
      "text/plain": [
       "<IPython.core.display.HTML object>"
      ]
     },
     "metadata": {},
     "output_type": "display_data"
    }
   ],
   "source": [
    "from IPython.display import display, HTML\n",
    "display(HTML(\"<style>.container { width:98% !important; }</style>\"))\n",
    "%load_ext autoreload  \n",
    "%autoreload 2\n",
    "from IPython.core.interactiveshell import InteractiveShell\n",
    "InteractiveShell.ast_node_interactivity = \"all\""
   ]
  },
  {
   "cell_type": "code",
   "execution_count": 4,
   "id": "651de463-2e37-42ed-808d-2f16dff6b3d5",
   "metadata": {
    "ExecuteTime": {
     "end_time": "2023-04-12T10:29:16.111588Z",
     "start_time": "2023-04-12T10:29:15.764305Z"
    },
    "execution": {
     "iopub.execute_input": "2024-09-19T18:11:32.828938Z",
     "iopub.status.busy": "2024-09-19T18:11:32.828428Z",
     "iopub.status.idle": "2024-09-19T18:11:35.385077Z",
     "shell.execute_reply": "2024-09-19T18:11:35.384504Z",
     "shell.execute_reply.started": "2024-09-19T18:11:32.828894Z"
    }
   },
   "outputs": [
    {
     "name": "stdout",
     "output_type": "stream",
     "text": [
      "insert ./src\n",
      "insert ../..\n",
      "['../..', './src', '/home/kevin/miniforge3/envs/ptsnnl/lib/python311.zip', '/home/kevin/miniforge3/envs/ptsnnl/lib/python3.11', '/home/kevin/miniforge3/envs/ptsnnl/lib/python3.11/lib-dynload', '', '/home/kevin/miniforge3/envs/ptsnnl/lib/python3.11/site-packages', '/home/kevin/miniforge3/envs/ptsnnl/lib/python3.11/site-packages/cytominer_eval-0.1-py3.11.egg']\n"
     ]
    },
    {
     "data": {
      "text/plain": [
       "4"
      ]
     },
     "execution_count": 4,
     "metadata": {},
     "output_type": "execute_result"
    }
   ],
   "source": [
    "import os\n",
    "import sys\n",
    "import csv\n",
    "import time\n",
    "import types\n",
    "import copy\n",
    "import pprint\n",
    "import logging\n",
    "from datetime import datetime\n",
    "for p in ['./src','../..']:\n",
    "    if p not in sys.path:\n",
    "        print(f\"insert {p}\")\n",
    "        sys.path.insert(0, p)\n",
    "print(sys.path)\n",
    "from typing import Dict, List, Tuple\n",
    "\n",
    "\n",
    "from matplotlib import pyplot as plt\n",
    "import numpy as np\n",
    "import pandas as pd\n",
    "import scipy\n",
    "from scipy.sparse import csr_matrix\n",
    "import torch\n",
    "from tqdm import tqdm\n",
    "import torch.nn.functional as F\n",
    "from torchinfo import summary\n",
    "import wandb\n",
    "\n",
    "pp = pprint.PrettyPrinter(indent=4)\n",
    "pd.options.display.width = 132\n",
    "torch.set_printoptions(precision=None, threshold=None, edgeitems=None, linewidth=150, profile=None, sci_mode=None)\n",
    "np.set_printoptions(edgeitems=3, infstr='inf', linewidth=150, nanstr='nan')\n",
    "\n",
    "os.environ[\"WANDB_NOTEBOOK_NAME\"] = \"AE-SNNL-MAIN.ipynb\"\n",
    "# os.environ[\"CUDA_LAUNCH_BLOCKING\"] = \"1\"\n",
    "# os.environ[\"CUDA_VISIBLE_DEVICES\"] = \"2\"\n",
    "torch.set_num_threads(4)  ## <--- limit to ~ 2 CPUs\n",
    "torch.get_num_threads()"
   ]
  },
  {
   "cell_type": "code",
   "execution_count": 5,
   "id": "61e84582-bc2f-4bdd-8410-33f267519657",
   "metadata": {
    "ExecuteTime": {
     "end_time": "2023-04-12T10:29:16.111588Z",
     "start_time": "2023-04-12T10:29:15.764305Z"
    },
    "execution": {
     "iopub.execute_input": "2024-09-19T18:11:35.386559Z",
     "iopub.status.busy": "2024-09-19T18:11:35.386273Z",
     "iopub.status.idle": "2024-09-19T18:11:37.822541Z",
     "shell.execute_reply": "2024-09-19T18:11:37.821772Z",
     "shell.execute_reply.started": "2024-09-19T18:11:35.386531Z"
    },
    "scrolled": true
   },
   "outputs": [],
   "source": [
    "from KevinsRoutines.utils.utils_wandb import init_wandb, wandb_log_metrics,wandb_watch\n",
    "from KevinsRoutines.utils.utils_general import list_namespace, print_heading, print_underline\n",
    "\n",
    "import snnl.utils as utils\n",
    "from snnl.utils import parse_args, load_configuration, set_global_seed, get_device, set_device\n",
    "from snnl.utils import plot_model_parms, plot_train_history, plot_regression_metrics\n",
    "from snnl.utils import display_model_summary, display_model_hyperparameters, display_model_gradients, display_model_parameters\n",
    "from snnl.utils import display_epoch_metrics, display_cellpainting_batch, display_model_state_dict\n",
    "from snnl.utils import define_autoencoder_model, init_resume_training"
   ]
  },
  {
   "cell_type": "code",
   "execution_count": 6,
   "id": "5e43c4ff-f371-4f9d-8785-1faeebe2330b",
   "metadata": {
    "ExecuteTime": {
     "end_time": "2023-04-12T10:29:16.111588Z",
     "start_time": "2023-04-12T10:29:15.764305Z"
    },
    "execution": {
     "iopub.execute_input": "2024-09-19T18:11:37.824343Z",
     "iopub.status.busy": "2024-09-19T18:11:37.824003Z",
     "iopub.status.idle": "2024-09-19T18:11:37.866782Z",
     "shell.execute_reply": "2024-09-19T18:11:37.866196Z",
     "shell.execute_reply.started": "2024-09-19T18:11:37.824322Z"
    },
    "scrolled": true
   },
   "outputs": [
    {
     "name": "stderr",
     "output_type": "stream",
     "text": [
      "2024-09-19 20:11:37,860 - __main__ - INFO: -  Excution started : 2024_09_19_20:11:37 \n",
      "2024-09-19 20:11:37,861 - __main__ - INFO: -  Pytorch version  : 2.2.2  \t\t Number of threads: 4\n",
      "2024-09-19 20:11:37,862 - __main__ - INFO: -  Scipy version    : 1.12.0  \t\t Numpy version : 1.26.4\n",
      "2024-09-19 20:11:37,863 - __main__ - INFO: -  WandB version    : 0.17.4  \t\t Pandas version: 2.2.1  \n"
     ]
    }
   ],
   "source": [
    "timestamp = datetime.now().strftime('%Y_%m_%d_%H:%M:%S')\n",
    "logger = logging.getLogger(__name__) \n",
    "logLevel = os.environ.get('LOG_LEVEL', 'INFO').upper()\n",
    "FORMAT = '%(asctime)s - %(name)s - %(levelname)s: - %(message)s'\n",
    "logging.basicConfig(level=\"INFO\", format= FORMAT)\n",
    "\n",
    "logger.info(f\" Excution started : {timestamp} \")\n",
    "logger.info(f\" Pytorch version  : {torch.__version__}  \\t\\t Number of threads: {torch.get_num_threads()}\")\n",
    "logger.info(f\" Scipy version    : {scipy.__version__}  \\t\\t Numpy version : {np.__version__}\")\n",
    "logger.info(f\" WandB version    : {wandb.__version__}  \\t\\t Pandas version: {pd.__version__}  \")\n",
    "# logger.info(f\" Search path      : {sys.path}\")"
   ]
  },
  {
   "cell_type": "markdown",
   "id": "44ea8eff-3a7f-41f0-abd3-2ac4d6c33cd9",
   "metadata": {},
   "source": [
    "### main(args)"
   ]
  },
  {
   "cell_type": "code",
   "execution_count": 13,
   "id": "cb592ef6-ef85-4773-a042-69bd43ff89b7",
   "metadata": {
    "execution": {
     "iopub.execute_input": "2024-09-19T18:12:27.113271Z",
     "iopub.status.busy": "2024-09-19T18:12:27.112789Z",
     "iopub.status.idle": "2024-09-19T18:12:27.156916Z",
     "shell.execute_reply": "2024-09-19T18:12:27.156245Z",
     "shell.execute_reply.started": "2024-09-19T18:12:27.113229Z"
    }
   },
   "outputs": [
    {
     "name": "stdout",
     "output_type": "stream",
     "text": [
      "AE_snnl_dcpb600_250Ltnt_512_20240917_2004_LAST_ep_100.pt\n"
     ]
    }
   ],
   "source": [
    "GPU_ID = 0\n",
    "LATENT_DIM    = 250\n",
    "HIDDEN_1      = 512\n",
    "EPOCHS        = 100\n",
    "LEARNING_RATE = 1.00e-03\n",
    "TEMP          = 1.00\n",
    "TEMP_LR       = 0.00   ##1.0e-05\n",
    "\n",
    "SNNL_FACTOR = 3.0\n",
    "COMPOUNDS_PER_BATCH = 600\n",
    "ADAM_WEIGHT_DECAY = 0.001\n",
    "RUN_DATETIME = \"20240917_2004\"\n",
    "\n",
    "LOAD_EPOCH = 100\n",
    "CHECKPT = f\"AE_snnl_dcpb{COMPOUNDS_PER_BATCH}_{LATENT_DIM}Ltnt_{HIDDEN_1}_{RUN_DATETIME}_LAST_ep_{LOAD_EPOCH:03d}.pt\"\n",
    "# CHECKPT = \"AE_snnl_dcpb200_150Ltnt_512_20240709_2235_LAST_ep_700.pt\"\n",
    "RUN_ID        = \"kfzmaqko\"\n",
    "print(CHECKPT)"
   ]
  },
  {
   "cell_type": "code",
   "execution_count": 14,
   "id": "c80ed726-59ba-4038-9d28-f12a4f97d194",
   "metadata": {
    "execution": {
     "iopub.execute_input": "2024-09-19T18:12:27.276394Z",
     "iopub.status.busy": "2024-09-19T18:12:27.276055Z",
     "iopub.status.idle": "2024-09-19T18:12:27.336052Z",
     "shell.execute_reply": "2024-09-19T18:12:27.335419Z",
     "shell.execute_reply.started": "2024-09-19T18:12:27.276362Z"
    }
   },
   "outputs": [
    {
     "data": {
      "text/plain": [
       "Namespace(configuration='./hyperparameters/ae_snglopt_250_512_cpb.yaml', ckpt='AE_snnl_dcpb600_250Ltnt_512_20240917_2004_LAST_ep_100.pt', cpb=600, exp_title=None, epochs=100, gpu_id=0, learning_rate=0.001, exp_id='kfzmaqko', runmode='snnl', random_seed=4321, use_prim_optimizer=True, use_temp_optimizer=False, use_annealing=True, anneal_patience=30, use_single_loss=True, temperature=1.0, adam_weight_decay=0.001, loss_factor=None, snnl_factor=3.0, temperatureLR=0.0, WANDB_ACTIVE=True)"
      ]
     },
     "execution_count": 14,
     "metadata": {},
     "output_type": "execute_result"
    },
    {
     "name": "stderr",
     "output_type": "stream",
     "text": [
      "2024-09-19 20:12:27,319 - snnl.utils.utils_ptsnnl - INFO: -  command line param configuration             : [./hyperparameters/ae_snglopt_250_512_cpb.yaml]\n",
      "2024-09-19 20:12:27,319 - snnl.utils.utils_ptsnnl - INFO: -  command line param ckpt                      : [AE_snnl_dcpb600_250Ltnt_512_20240917_2004_LAST_ep_100.pt]\n",
      "2024-09-19 20:12:27,320 - snnl.utils.utils_ptsnnl - INFO: -  command line param cpb                       : [600]\n",
      "2024-09-19 20:12:27,320 - snnl.utils.utils_ptsnnl - INFO: -  command line param exp_title                 : [None]\n",
      "2024-09-19 20:12:27,321 - snnl.utils.utils_ptsnnl - INFO: -  command line param epochs                    : [100]\n",
      "2024-09-19 20:12:27,321 - snnl.utils.utils_ptsnnl - INFO: -  command line param gpu_id                    : [0]\n",
      "2024-09-19 20:12:27,322 - snnl.utils.utils_ptsnnl - INFO: -  command line param learning_rate             : [0.001]\n",
      "2024-09-19 20:12:27,322 - snnl.utils.utils_ptsnnl - INFO: -  command line param exp_id                    : [kfzmaqko]\n",
      "2024-09-19 20:12:27,323 - snnl.utils.utils_ptsnnl - INFO: -  command line param runmode                   : [snnl]\n",
      "2024-09-19 20:12:27,323 - snnl.utils.utils_ptsnnl - INFO: -  command line param random_seed               : [4321]\n",
      "2024-09-19 20:12:27,324 - snnl.utils.utils_ptsnnl - INFO: -  command line param use_prim_optimizer        : [True]\n",
      "2024-09-19 20:12:27,324 - snnl.utils.utils_ptsnnl - INFO: -  command line param use_temp_optimizer        : [False]\n",
      "2024-09-19 20:12:27,325 - snnl.utils.utils_ptsnnl - INFO: -  command line param use_annealing             : [True]\n",
      "2024-09-19 20:12:27,325 - snnl.utils.utils_ptsnnl - INFO: -  command line param anneal_patience           : [30]\n",
      "2024-09-19 20:12:27,326 - snnl.utils.utils_ptsnnl - INFO: -  command line param use_single_loss           : [True]\n",
      "2024-09-19 20:12:27,326 - snnl.utils.utils_ptsnnl - INFO: -  command line param temperature               : [1.0]\n",
      "2024-09-19 20:12:27,326 - snnl.utils.utils_ptsnnl - INFO: -  command line param adam_weight_decay         : [0.001]\n",
      "2024-09-19 20:12:27,327 - snnl.utils.utils_ptsnnl - INFO: -  command line param loss_factor               : [None]\n",
      "2024-09-19 20:12:27,328 - snnl.utils.utils_ptsnnl - INFO: -  command line param snnl_factor               : [3.0]\n",
      "2024-09-19 20:12:27,328 - snnl.utils.utils_ptsnnl - INFO: -  command line param temperatureLR             : [0.0]\n",
      "2024-09-19 20:12:27,328 - snnl.utils.utils_ptsnnl - INFO: -  command line param WANDB_ACTIVE              : [True]\n",
      "2024-09-19 20:12:27,329 - snnl.utils.utils_ptsnnl - INFO: -  command line param exp_title                 : [dcpb600_250Ltnt_512]\n"
     ]
    },
    {
     "name": "stdout",
     "output_type": "stream",
     "text": [
      "['AE', 'snnl', 'dcpb600', '250Ltnt', '512', '20240917', '2004', 'LAST', 'ep', '100.pt']\n"
     ]
    },
    {
     "data": {
      "text/plain": [
       "'AE_snnl_dcpb600_250Ltnt_512_20240917_2004_LAST_ep_100.pt'"
      ]
     },
     "execution_count": 14,
     "metadata": {},
     "output_type": "execute_result"
    }
   ],
   "source": [
    "# if __name__ == \"__main__\":\n",
    "cli_args = f\" --runmode             snnl \"\\\n",
    "            f\" --configuration      ./hyperparameters/ae_snglopt_{LATENT_DIM}_512_cpb.yaml\" \\\n",
    "            f\" --epochs             {EPOCHS} \" \\\n",
    "            f\" --single_loss        \"\\\n",
    "            f\" --prim_opt           \"\\\n",
    "            f\" --temp_annealing     \"\\\n",
    "            f\" --anneal_patience    30\"\\\n",
    "            f\" --adam_wd            {ADAM_WEIGHT_DECAY}\"\\\n",
    "            f\" --lr                 {LEARNING_RATE} \"\\\n",
    "            f\" --temp               {TEMP} \"\\\n",
    "            f\" --snnl_factor        {SNNL_FACTOR}\"\\\n",
    "            f\" --temp_lr            {TEMP_LR}\"\\\n",
    "            f\" --cpb                {COMPOUNDS_PER_BATCH}\"\\\n",
    "            f\" --seed               4321\"\\\n",
    "            f\" --gpu_id             {GPU_ID} \"  \\\n",
    "            f\" --wandb              \"\\\n",
    "            f\" --run_id             {RUN_ID} \"\\\n",
    "            f\" --ckpt               {CHECKPT} \" \\\n",
    "            f\" \"\n",
    "\n",
    "# f\" --loss_factor        {LOSS_FACTOR}\"\\\n",
    "# f\" --temp_opt \" \\\n",
    "# f\" --configuration      hyperparameters/ae_sn_{LATENT_DIM:03d}{HIDDEN_1}{HIDDEN_2}_cpb.yaml\" \\\n",
    "# f\" --exp_title           snglOpt-050Ltnt_512_sig \"\n",
    "cli_args = utils.parse_args(cli_args.split())\n",
    "cli_args\n",
    "\n",
    "args = utils.load_configuration(cli_args)\n",
    "args.ckpt"
   ]
  },
  {
   "cell_type": "code",
   "execution_count": 16,
   "id": "39d0a0c6-a0e1-44e9-9ff7-a31c4a8b0b39",
   "metadata": {
    "execution": {
     "iopub.execute_input": "2024-09-19T18:12:31.723234Z",
     "iopub.status.busy": "2024-09-19T18:12:31.722754Z",
     "iopub.status.idle": "2024-09-19T18:12:31.764845Z",
     "shell.execute_reply": "2024-09-19T18:12:31.764165Z",
     "shell.execute_reply.started": "2024-09-19T18:12:31.723193Z"
    },
    "scrolled": true
   },
   "outputs": [
    {
     "name": "stdout",
     "output_type": "stream",
     "text": [
      "\n",
      "command line parms : \n",
      "-----------------------\n",
      "SGD_momentum.............  0\n",
      "SGD_weight_decay.........  0.0\n",
      "WANDB_ACTIVE.............  True\n",
      "adam_weight_decay........  0.001\n",
      "anneal_patience..........  30\n",
      "batch_size...............  1\n",
      "\n",
      "    cellpainting_args   (dict)\n",
      "    ----------------------------\n",
      "    batch_size...............  1\n",
      "    chunksize................  None\n",
      "    compounds_per_batch......  600\n",
      "    conversions..............  None\n",
      "    iterator.................  True\n",
      "    sample_size..............  3\n",
      "    test_end.................  33600\n",
      "    test_path................  /home/kevin/WSL-shared/cellpainting/cj-datasets/output_11102023/3_sample_profiles/3sample_profiles_1482_HashOrder_test.csv\n",
      "    test_start...............  30000\n",
      "    train_end................  240000\n",
      "    train_start..............  0\n",
      "    training_path............  /home/kevin/WSL-shared/cellpainting/cj-datasets/output_11102023/3_sample_profiles/3sample_profiles_1482_HashOrder.csv\n",
      "    val_end..................  24000\n",
      "    val_start................  0\n",
      "    validation_path..........  /home/kevin/WSL-shared/cellpainting/cj-datasets/output_11102023/3_sample_profiles/3sample_profiles_1482_HashOrder_test.csv\n",
      "\n",
      "ckpt.....................  AE_snnl_dcpb600_250Ltnt_512_20240917_2004_LAST_ep_100.pt\n",
      "code_units...............  250\n",
      "configuration............  ./hyperparameters/ae_snglopt_250_512_cpb.yaml\n",
      "cpb......................  600\n",
      "dataset..................  cellpainting\n",
      "embedding_layer..........  4\n",
      "epochs...................  100\n",
      "exp_date.................  20240917_2004\n",
      "exp_description..........  AE snnl - DualOpt, 250 dim latent, 512 Midlayer, 600 cpb\n",
      "exp_folder...............  None\n",
      "exp_id...................  kfzmaqko\n",
      "exp_name.................  AE_20240917_2004\n",
      "exp_name_pfx.............  None\n",
      "exp_title................  dcpb600_250Ltnt_512\n",
      "folder_sfx...............  None\n",
      "gpu_id...................  0\n",
      "input_shape..............  1471\n",
      "learning_rate............  0.001\n",
      "loss_factor..............  1.0\n",
      "\n",
      "    paths   (dict)\n",
      "    ----------------\n",
      "    checkpoint_dir...........  ./ckpt\n",
      "    log_dir..................  ./logs\n",
      "    result_dir...............  ./results\n",
      "\n",
      "project_name.............  CellPainting_Profiles\n",
      "random_seed..............  4321\n",
      "runmode..................  snnl\n",
      "save_every...............  100\n",
      "show_every...............  1\n",
      "snnl_factor..............  3.0\n",
      "temperature..............  1.0\n",
      "temperatureLR............  0.0\n",
      "units....................  [['linear', 1471, 1024], ['relu', 0, 0], ['linear', 1024, 512], ['relu', 0, 0], ['linear', 512, 250], ['linear', 250, 512], ['relu', 0, 0], ['linear', 512, 1024], ['relu', 0, 0], ['linear', 1024, 1471]]\n",
      "use_annealing............  True\n",
      "use_prim_optimizer.......  True\n",
      "use_prim_scheduler.......  True\n",
      "use_single_loss..........  True\n",
      "use_sum..................  False\n",
      "use_temp_optimizer.......  False\n",
      "use_temp_scheduler.......  False\n",
      "\n"
     ]
    }
   ],
   "source": [
    "list_namespace(args)"
   ]
  },
  {
   "cell_type": "code",
   "execution_count": 17,
   "id": "4496f46c-7e02-4f11-b92d-1defdf872940",
   "metadata": {
    "execution": {
     "iopub.execute_input": "2024-09-19T18:12:32.941154Z",
     "iopub.status.busy": "2024-09-19T18:12:32.940709Z",
     "iopub.status.idle": "2024-09-19T18:12:33.654200Z",
     "shell.execute_reply": "2024-09-19T18:12:33.653477Z",
     "shell.execute_reply.started": "2024-09-19T18:12:32.941116Z"
    }
   },
   "outputs": [
    {
     "name": "stderr",
     "output_type": "stream",
     "text": [
      "2024-09-19 20:12:32,982 - __main__ - INFO: - Checkpoint AE_snnl_dcpb600_250Ltnt_512_20240917_2004_LAST_ep_100.pt found\n",
      "2024-09-19 20:12:32,983 - __main__ - INFO: - Resuming training using checkpoint: AE_snnl_dcpb600_250Ltnt_512_20240917_2004_LAST_ep_100.pt\n"
     ]
    },
    {
     "name": "stdout",
     "output_type": "stream",
     "text": [
      " device: 0   Quadro GV100                   :  free: 33,423,949,824 B   (31.13 GB)    total: 34,069,872,640 B   (31.73 GB)\n",
      " device: 1   Quadro GV100                   :  free: 33,073,725,440 B   (30.80 GB)    total: 34,069,872,640 B   (31.73 GB)\n"
     ]
    },
    {
     "name": "stderr",
     "output_type": "stream",
     "text": [
      "2024-09-19 20:12:33,648 - snnl.utils.utils_ptsnnl - INFO: -  Current CUDA Device is:  cuda:0 - Quadro GV100\n",
      "2024-09-19 20:12:33,649 - snnl.utils.utils_ptsnnl - INFO: -  Switched to: Quadro GV100 - 0\n"
     ]
    },
    {
     "name": "stdout",
     "output_type": "stream",
     "text": [
      " device: 2   NVIDIA TITAN Xp                :  free: 12,464,029,696 B   (11.61 GB)    total: 12,774,539,264 B   (11.90 GB)\n",
      " args.current_device is : cuda:0\n"
     ]
    }
   ],
   "source": [
    "### Set random seed and gpu device\n",
    "set_global_seed(args.random_seed)\n",
    "if args.ckpt is not None:\n",
    "    if os.path.exists(os.path.join('ckpts', args.ckpt)):\n",
    "        logger.info(f\"Checkpoint {args.ckpt} found\")\n",
    "        logger.info(f\"Resuming training using checkpoint: {args.ckpt}\")\n",
    "    else:\n",
    "        logger.error(f\"*** Checkpoint {args.ckpt} not found *** \\n\")\n",
    "        raise ValueError(f\"\\n *** Checkpoint DOESNT EXIST *** \\n\")\n",
    "\n",
    "if args.gpu_id is not None:\n",
    "    _ = get_device(verbose=True)\n",
    "    args.current_device = set_device(args.gpu_id)\n",
    "    print(f\" args.current_device is : {args.current_device}\")"
   ]
  },
  {
   "cell_type": "markdown",
   "id": "e83710b8-4811-4091-aeb7-54e63a480550",
   "metadata": {},
   "source": [
    "  ### WandB Setup"
   ]
  },
  {
   "cell_type": "code",
   "execution_count": 18,
   "id": "2967d0a2-1ef5-4dbb-926a-3991665c9bc4",
   "metadata": {
    "execution": {
     "iopub.execute_input": "2024-09-19T18:12:36.506441Z",
     "iopub.status.busy": "2024-09-19T18:12:36.506157Z",
     "iopub.status.idle": "2024-09-19T18:12:38.549181Z",
     "shell.execute_reply": "2024-09-19T18:12:38.548448Z",
     "shell.execute_reply.started": "2024-09-19T18:12:36.506421Z"
    }
   },
   "outputs": [
    {
     "name": "stderr",
     "output_type": "stream",
     "text": [
      "2024-09-19 20:12:36,545 - snnl.utils.utils_notebook - INFO: - ***** Resume EXISTING W&B Run *****\n",
      "\u001b[34m\u001b[1mwandb\u001b[0m: \u001b[33mWARNING\u001b[0m WANDB_NOTEBOOK_NAME should be a path to a notebook file, couldn't find AE-SNNL-MAIN.ipynb.\n"
     ]
    },
    {
     "name": "stdout",
     "output_type": "stream",
     "text": [
      "kfzmaqko, AE_20240917_2004, CellPainting_Profiles\n"
     ]
    },
    {
     "name": "stderr",
     "output_type": "stream",
     "text": [
      "\u001b[34m\u001b[1mwandb\u001b[0m: Currently logged in as: \u001b[33mkbardool\u001b[0m. Use \u001b[1m`wandb login --relogin`\u001b[0m to force relogin\n"
     ]
    },
    {
     "data": {
      "text/html": [
       "wandb version 0.18.1 is available!  To upgrade, please run:\n",
       " $ pip install wandb --upgrade"
      ],
      "text/plain": [
       "<IPython.core.display.HTML object>"
      ]
     },
     "metadata": {},
     "output_type": "display_data"
    },
    {
     "data": {
      "text/html": [
       "Tracking run with wandb version 0.17.4"
      ],
      "text/plain": [
       "<IPython.core.display.HTML object>"
      ]
     },
     "metadata": {},
     "output_type": "display_data"
    },
    {
     "data": {
      "text/html": [
       "Run data is saved locally in <code>/home/kevin/WSL-shared/cellpainting/pt-snnl/wandb/run-20240919_201237-kfzmaqko</code>"
      ],
      "text/plain": [
       "<IPython.core.display.HTML object>"
      ]
     },
     "metadata": {},
     "output_type": "display_data"
    },
    {
     "data": {
      "text/html": [
       "Resuming run <strong><a href='https://wandb.ai/kbardool/CellPainting_Profiles/runs/kfzmaqko' target=\"_blank\">AE_20240917_2004</a></strong> to <a href='https://wandb.ai/kbardool/CellPainting_Profiles' target=\"_blank\">Weights & Biases</a> (<a href='https://wandb.me/run' target=\"_blank\">docs</a>)<br/>"
      ],
      "text/plain": [
       "<IPython.core.display.HTML object>"
      ]
     },
     "metadata": {},
     "output_type": "display_data"
    },
    {
     "data": {
      "text/html": [
       " View project at <a href='https://wandb.ai/kbardool/CellPainting_Profiles' target=\"_blank\">https://wandb.ai/kbardool/CellPainting_Profiles</a>"
      ],
      "text/plain": [
       "<IPython.core.display.HTML object>"
      ]
     },
     "metadata": {},
     "output_type": "display_data"
    },
    {
     "data": {
      "text/html": [
       " View run at <a href='https://wandb.ai/kbardool/CellPainting_Profiles/runs/kfzmaqko' target=\"_blank\">https://wandb.ai/kbardool/CellPainting_Profiles/runs/kfzmaqko</a>"
      ],
      "text/plain": [
       "<IPython.core.display.HTML object>"
      ]
     },
     "metadata": {},
     "output_type": "display_data"
    },
    {
     "name": "stderr",
     "output_type": "stream",
     "text": [
      "2024-09-19 20:12:38,535 - snnl.utils.utils_notebook - INFO: -  Experiment Name  : AE_20240917_2004\n",
      "2024-09-19 20:12:38,536 - snnl.utils.utils_notebook - INFO: -  Experiment Date  : 20240917_2004\n",
      "2024-09-19 20:12:38,537 - snnl.utils.utils_notebook - INFO: - ***** Resume EXISTING W&B Run *****\n",
      "2024-09-19 20:12:38,538 - snnl.utils.utils_notebook - INFO: - WANDB_ACTIVE     : True\n",
      "2024-09-19 20:12:38,539 - snnl.utils.utils_notebook - INFO: - Project Name     : CellPainting_Profiles\n",
      "2024-09-19 20:12:38,541 - snnl.utils.utils_notebook - INFO: - Experiment Id    : kfzmaqko\n",
      "2024-09-19 20:12:38,542 - snnl.utils.utils_notebook - INFO: - Experiment Name  : AE_20240917_2004\n",
      "2024-09-19 20:12:38,543 - snnl.utils.utils_notebook - INFO: - Experiment Date  : 20240917_2004\n",
      "2024-09-19 20:12:38,544 - snnl.utils.utils_notebook - INFO: - Experiment Title : dcpb600_250Ltnt_512\n",
      "2024-09-19 20:12:38,544 - snnl.utils.utils_notebook - INFO: - Experiment Notes : AE snnl - DualOpt, 250 dim latent, 512 Midlayer, 600 cpb\n"
     ]
    }
   ],
   "source": [
    "wandb_run = utils.setup_wandb(args)"
   ]
  },
  {
   "cell_type": "code",
   "execution_count": 19,
   "id": "1fd0dea3-280e-48d8-ad0c-404c5e79f857",
   "metadata": {
    "execution": {
     "iopub.execute_input": "2024-09-19T18:12:45.803664Z",
     "iopub.status.busy": "2024-09-19T18:12:45.803151Z",
     "iopub.status.idle": "2024-09-19T18:12:45.846477Z",
     "shell.execute_reply": "2024-09-19T18:12:45.845746Z",
     "shell.execute_reply.started": "2024-09-19T18:12:45.803621Z"
    }
   },
   "outputs": [],
   "source": [
    "# if args.WANDB_ACTIVE:\n",
    "#     wandb_run.finish()\n",
    "#     WANDB_ACTIVE = False"
   ]
  },
  {
   "cell_type": "markdown",
   "id": "7e2871b9-ea54-4869-9fa3-5ade2e1416cd",
   "metadata": {},
   "source": [
    "  ### Define dataset and dataloaders"
   ]
  },
  {
   "cell_type": "code",
   "execution_count": 22,
   "id": "038dbbb7-0221-4f4d-a2d4-b76766259bcf",
   "metadata": {
    "execution": {
     "iopub.execute_input": "2024-09-19T18:13:15.425137Z",
     "iopub.status.busy": "2024-09-19T18:13:15.424644Z",
     "iopub.status.idle": "2024-09-19T18:13:15.466239Z",
     "shell.execute_reply": "2024-09-19T18:13:15.465480Z",
     "shell.execute_reply.started": "2024-09-19T18:13:15.425096Z"
    }
   },
   "outputs": [],
   "source": [
    "## Validation : 24,000\n",
    "## Test: 12,000\n",
    "## Train : 312,000 - (24,000+12,000) = 276,000\n",
    "# cellpainting_args = {'sample_size': 3,\n",
    "#                      'batch_size': 1,\n",
    "#                      'compounds_per_batch': 600,\n",
    "#                      'training_path'  : ALL_INPUT,\n",
    "#                      'validation_path': ALL_INPUT,\n",
    "#                      'test_path'      : ALL_INPUT,\n",
    "#                      'train_start'    : 0,\n",
    "#                      'train_end'      : 276_000,\n",
    "#                      'val_start'      : 276_000,\n",
    "#                      'val_end'        : 300_000,\n",
    "#                      'test_start'     : 300_000,\n",
    "#                      'test_end'       : 312_000,   ## 34_542\n",
    "#                      }\n",
    "# \n",
    "# args.cellpainting_args"
   ]
  },
  {
   "cell_type": "code",
   "execution_count": 23,
   "id": "2cc7cb9a-1d56-4159-8b2e-560562e440fb",
   "metadata": {
    "execution": {
     "iopub.execute_input": "2024-09-19T18:13:16.443232Z",
     "iopub.status.busy": "2024-09-19T18:13:16.442783Z",
     "iopub.status.idle": "2024-09-19T18:13:16.485614Z",
     "shell.execute_reply": "2024-09-19T18:13:16.484696Z",
     "shell.execute_reply.started": "2024-09-19T18:13:16.443193Z"
    }
   },
   "outputs": [],
   "source": [
    "# ## total rows = 346,542\n",
    "# ## Validation :  24,542\n",
    "# ## Train :      312,000 \n",
    "args.cellpainting_args['training_path'] = '/home/kevin/WSL-shared/cellpainting/cj-datasets/output_11102023/3_sample_profiles/3sample_profiles_1482_HashOrder_all.csv'\n",
    "args.cellpainting_args['train_start'] = 0 \n",
    "args.cellpainting_args['train_end'] = 324_000\n",
    "\n",
    "args.cellpainting_args['validation_path'] = '/home/kevin/WSL-shared/cellpainting/cj-datasets/output_11102023/3_sample_profiles/3sample_profiles_1482_HashOrder_all.csv'\n",
    "args.cellpainting_args['val_start'] = 324_000\n",
    "args.cellpainting_args['val_end'] = 346_542"
   ]
  },
  {
   "cell_type": "code",
   "execution_count": 24,
   "id": "c9762337-5b5d-49a3-85b5-16cdda93521a",
   "metadata": {
    "execution": {
     "iopub.execute_input": "2024-09-19T18:13:18.012663Z",
     "iopub.status.busy": "2024-09-19T18:13:18.012240Z",
     "iopub.status.idle": "2024-09-19T18:13:18.088523Z",
     "shell.execute_reply": "2024-09-19T18:13:18.087804Z",
     "shell.execute_reply.started": "2024-09-19T18:13:18.012623Z"
    },
    "scrolled": true
   },
   "outputs": [
    {
     "name": "stderr",
     "output_type": "stream",
     "text": [
      "2024-09-19 20:13:18,049 - root - INFO: -  load cellpainting\n",
      "2024-09-19 20:13:18,051 - snnl.utils.dataloader - INFO: -  Building CellPantingDataset for train\n",
      "2024-09-19 20:13:18,052 - snnl.utils.dataloader - INFO: -  filename:  /home/kevin/WSL-shared/cellpainting/cj-datasets/output_11102023/3_sample_profiles/3sample_profiles_1482_HashOrder_all.csv\n",
      "2024-09-19 20:13:18,053 - snnl.utils.dataloader - INFO: -  type    :  train\n",
      "2024-09-19 20:13:18,054 - snnl.utils.dataloader - INFO: -  start   :  0\n",
      "2024-09-19 20:13:18,055 - snnl.utils.dataloader - INFO: -  end     :  324000\n",
      "2024-09-19 20:13:18,056 - snnl.utils.dataloader - INFO: -  numrows :  324000\n",
      "2024-09-19 20:13:18,057 - snnl.utils.dataloader - INFO: -  names   :  None     usecols :  None\n",
      "2024-09-19 20:13:18,058 - snnl.utils.dataloader - INFO: -  batch_size  :  1\n",
      "2024-09-19 20:13:18,059 - snnl.utils.dataloader - INFO: -  sample_size :  3\n",
      "2024-09-19 20:13:18,060 - snnl.utils.dataloader - INFO: -  compounds_per_batch :  600\n",
      "2024-09-19 20:13:18,061 - snnl.utils.dataloader - INFO: -  chunksize  (rows per minibatch) :  1800\n",
      "2024-09-19 20:13:18,061 - snnl.utils.dataloader - INFO: -  Each mini-batch contains 600.0 compounds with 3 samples per compound : total 1800 rows\n",
      "2024-09-19 20:13:18,063 - snnl.utils.dataloader - INFO: -  Number of 1800 row full size batches per epoch: 180\n",
      "2024-09-19 20:13:18,064 - snnl.utils.dataloader - INFO: -  Rows covered by 180 full size batches (1800 rows) per epoch:  324000\n",
      "2024-09-19 20:13:18,064 - snnl.utils.dataloader - INFO: -  Last partial batch contains : 0 rows\n",
      "2024-09-19 20:13:18,065 - snnl.utils.dataloader - INFO: -  \n",
      "2024-09-19 20:13:18,066 - snnl.utils.dataloader - INFO: -  Building CellPantingDataset for val\n",
      "2024-09-19 20:13:18,067 - snnl.utils.dataloader - INFO: -  filename:  /home/kevin/WSL-shared/cellpainting/cj-datasets/output_11102023/3_sample_profiles/3sample_profiles_1482_HashOrder_all.csv\n",
      "2024-09-19 20:13:18,068 - snnl.utils.dataloader - INFO: -  type    :  val\n",
      "2024-09-19 20:13:18,068 - snnl.utils.dataloader - INFO: -  start   :  324000\n",
      "2024-09-19 20:13:18,069 - snnl.utils.dataloader - INFO: -  end     :  346542\n",
      "2024-09-19 20:13:18,069 - snnl.utils.dataloader - INFO: -  numrows :  22542\n",
      "2024-09-19 20:13:18,070 - snnl.utils.dataloader - INFO: -  names   :  None     usecols :  None\n",
      "2024-09-19 20:13:18,071 - snnl.utils.dataloader - INFO: -  batch_size  :  1\n",
      "2024-09-19 20:13:18,072 - snnl.utils.dataloader - INFO: -  sample_size :  3\n",
      "2024-09-19 20:13:18,072 - snnl.utils.dataloader - INFO: -  compounds_per_batch :  600\n",
      "2024-09-19 20:13:18,073 - snnl.utils.dataloader - INFO: -  chunksize  (rows per minibatch) :  1800\n",
      "2024-09-19 20:13:18,073 - snnl.utils.dataloader - INFO: -  Each mini-batch contains 600.0 compounds with 3 samples per compound : total 1800 rows\n",
      "2024-09-19 20:13:18,074 - snnl.utils.dataloader - INFO: -  Number of 1800 row full size batches per epoch: 12\n",
      "2024-09-19 20:13:18,075 - snnl.utils.dataloader - INFO: -  Rows covered by 12 full size batches (1800 rows) per epoch:  21600\n",
      "2024-09-19 20:13:18,075 - snnl.utils.dataloader - INFO: -  Last partial batch contains : 942 rows\n",
      "2024-09-19 20:13:18,076 - snnl.utils.dataloader - INFO: -  \n"
     ]
    },
    {
     "name": "stdout",
     "output_type": "stream",
     "text": [
      " load cellpainting\n",
      " Dataset size: 324000   rows per batch: 1800\n",
      " Dataset size: 22542   rows per batch: 1800\n"
     ]
    },
    {
     "data": {
      "text/plain": [
       "(324000, 22542)"
      ]
     },
     "execution_count": 24,
     "metadata": {},
     "output_type": "execute_result"
    }
   ],
   "source": [
    "#### Load CellPainting Dataset\n",
    "data_loaders = utils.build_dataloaders(args, data = ['train', 'val'])\n",
    "len(data_loaders['train']),len(data_loaders['val'])"
   ]
  },
  {
   "cell_type": "code",
   "execution_count": 25,
   "id": "7292ec60-c931-4fc8-9518-f8081c23097b",
   "metadata": {
    "execution": {
     "iopub.execute_input": "2024-09-19T18:13:23.172987Z",
     "iopub.status.busy": "2024-09-19T18:13:23.172564Z",
     "iopub.status.idle": "2024-09-19T18:13:23.216229Z",
     "shell.execute_reply": "2024-09-19T18:13:23.215453Z",
     "shell.execute_reply.started": "2024-09-19T18:13:23.172951Z"
    }
   },
   "outputs": [
    {
     "name": "stdout",
     "output_type": "stream",
     "text": [
      " Minibatch size :   1800\n",
      " len of train data loader:  324000   number of batches:  180    last batch:    0\n",
      " len of valid data loader:   22542   number of batches:   12    last batch:  942\n"
     ]
    }
   ],
   "source": [
    "# -----------------------------------------\n",
    "#  Count pos/neg labels in each dataset\n",
    "# -----------------------------------------  \n",
    "MINIBATCH_SIZE = args.cellpainting_args['sample_size'] * args.cellpainting_args['compounds_per_batch']\n",
    "train_minibatches = len(data_loaders['train']) // MINIBATCH_SIZE\n",
    "val_minibatches = len(data_loaders['val']) // MINIBATCH_SIZE\n",
    "# test_minibatches = len(data_loader['test']) // MINIBATCH_SIZE\n",
    "print(f\" Minibatch size : {MINIBATCH_SIZE:6d}\") \n",
    "print(f\" len of train data loader: {len(data_loaders['train']):7d}   number of batches: {train_minibatches:4d}    last batch: {len(data_loaders['train']) % MINIBATCH_SIZE:4d}\")\n",
    "print(f\" len of valid data loader: {len(data_loaders['val']):7d}   number of batches: {val_minibatches:4d}    last batch: {len(data_loaders['val']) % MINIBATCH_SIZE:4d}\")\n",
    "# print(f\" len of test  data loader: {len(data_loader['test'])}   number of batches: {test_minibatches}\")"
   ]
  },
  {
   "cell_type": "code",
   "execution_count": 25,
   "id": "382db971-647a-46d1-82dc-c67177f93c1b",
   "metadata": {
    "execution": {
     "iopub.execute_input": "2024-09-17T18:09:56.824254Z",
     "iopub.status.busy": "2024-09-17T18:09:56.823759Z",
     "iopub.status.idle": "2024-09-17T18:12:58.298986Z",
     "shell.execute_reply": "2024-09-17T18:12:58.298032Z",
     "shell.execute_reply.started": "2024-09-17T18:09:56.824213Z"
    }
   },
   "outputs": [
    {
     "name": "stdout",
     "output_type": "stream",
     "text": [
      "                                                                                                                                                                           \n",
      " Dataset: train\n",
      "------------------------------\n",
      " total rows     : 324000\n",
      " total pos rows :   38586 - 11.91%\n",
      " total neg rows :  285414 - 88.09%\n",
      "                                                                                                                                                                           \n",
      " Dataset: val\n",
      "------------------------------\n",
      " total rows     : 22542\n",
      " total pos rows :    2742 - 12.16%\n",
      " total neg rows :   19800 - 87.84%\n"
     ]
    }
   ],
   "source": [
    "from tqdm import tqdm\n",
    "for datatype in ['train', 'val' ]:\n",
    "    ttl_rows = 0\n",
    "    ttl_pos_labels = 0 \n",
    "    with tqdm(enumerate(data_loaders[datatype]), initial=0, total = train_minibatches, position=0, file=sys.stdout,\n",
    "                   leave= False, desc=f\" Read {datatype} \") as t_warmup:\n",
    "        for batch_count, (batch_features, batch_labels, _, _, _, _) in t_warmup:\n",
    "            ttl_rows += batch_labels.shape[0]\n",
    "            ttl_pos_labels += batch_labels.sum()\n",
    "\n",
    "    ttl_neg_labels = ttl_rows - ttl_pos_labels\n",
    "    print(f\"\\n Dataset: {datatype}\")\n",
    "    print('-'*30)\n",
    "    print(f\" total rows     : {ttl_rows:7d}\")\n",
    "    print(f\" total pos rows : {ttl_pos_labels:7.0f} - {ttl_pos_labels*100.0/ttl_rows:5.2f}%\")\n",
    "    print(f\" total neg rows : {ttl_neg_labels:7.0f} - {ttl_neg_labels*100.0/ttl_rows:5.2f}%\")"
   ]
  },
  {
   "cell_type": "markdown",
   "id": "19b32e21-67d2-45af-a45f-841b6dca43ff",
   "metadata": {},
   "source": [
    "# Define autoencoder model"
   ]
  },
  {
   "cell_type": "markdown",
   "id": "cf383487-ecbf-49da-bb01-5a5f22932278",
   "metadata": {},
   "source": [
    "### Override arguments"
   ]
  },
  {
   "cell_type": "code",
   "execution_count": 28,
   "id": "b8a2f3dc-b7ce-4118-a40a-4b5c67a3dd23",
   "metadata": {
    "execution": {
     "iopub.execute_input": "2024-09-19T18:15:14.229190Z",
     "iopub.status.busy": "2024-09-19T18:15:14.228714Z",
     "iopub.status.idle": "2024-09-19T18:15:14.279280Z",
     "shell.execute_reply": "2024-09-19T18:15:14.278454Z",
     "shell.execute_reply.started": "2024-09-19T18:15:14.229150Z"
    }
   },
   "outputs": [
    {
     "name": "stdout",
     "output_type": "stream",
     "text": [
      "   runmode               : snnl\n",
      "   embedding_layer       : 4\n",
      "   Latent dim            : 250\n",
      "   loss_factor           : 1.0\n",
      "   learning_rate         : 0.001\n",
      "   use Primary Optimizer : True\n",
      "   use Primary Scheduler : True\n",
      "   snnl_factor           : 3.0\n",
      "   temperature           : 1.0\n",
      "   use Temp Optimizer    : False\n",
      "   use Primary Scheduler : False\n",
      "   temperatureLR:        : 0.0\n",
      "   use_annealing:        : True\n",
      "   anneal_patience:      : 30\n"
     ]
    }
   ],
   "source": [
    "# args.temperature   = 1.0\n",
    "# args.loss_factor   = 1.0       ## 1.0e+00\n",
    "# args.learning_rate = 1.0e-03    ## 0.001\n",
    "# args.temperatureLR = 0.0e-04    ## 1e-4\n",
    "print(f\"   runmode               : {args.runmode}\")\n",
    "print(f\"   embedding_layer       : {args.embedding_layer}\")\n",
    "print(f\"   Latent dim            : {args.code_units}\")\n",
    "print(f\"   loss_factor           : {args.loss_factor}\")\n",
    "print(f\"   learning_rate         : {args.learning_rate}\")\n",
    "print(f\"   use Primary Optimizer : {args.use_prim_optimizer}\")\n",
    "print(f\"   use Primary Scheduler : {args.use_prim_scheduler}\")\n",
    "print(f\"   snnl_factor           : {args.snnl_factor}\")\n",
    "print(f\"   temperature           : {args.temperature}\")\n",
    "print(f\"   use Temp Optimizer    : {args.use_temp_optimizer}\")\n",
    "print(f\"   use Primary Scheduler : {args.use_temp_scheduler}\")\n",
    "print(f\"   temperatureLR:        : {args.temperatureLR}\")\n",
    "print(f\"   use_annealing:        : {args.use_annealing}\")\n",
    "print(f\"   anneal_patience:      : {args.anneal_patience}\")\n"
   ]
  },
  {
   "cell_type": "code",
   "execution_count": 29,
   "id": "730975ab-c52f-4268-99d5-e06362cce8d2",
   "metadata": {
    "execution": {
     "iopub.execute_input": "2024-09-19T18:15:16.229699Z",
     "iopub.status.busy": "2024-09-19T18:15:16.229221Z",
     "iopub.status.idle": "2024-09-19T18:15:16.279514Z",
     "shell.execute_reply": "2024-09-19T18:15:16.278767Z",
     "shell.execute_reply.started": "2024-09-19T18:15:16.229660Z"
    }
   },
   "outputs": [
    {
     "name": "stdout",
     "output_type": "stream",
     "text": [
      "\n",
      "command line parms : \n",
      "-----------------------\n",
      "SGD_momentum.............  0\n",
      "SGD_weight_decay.........  0.0\n",
      "WANDB_ACTIVE.............  True\n",
      "adam_weight_decay........  0.001\n",
      "anneal_patience..........  30\n",
      "batch_size...............  1\n",
      "\n",
      "    cellpainting_args   (dict)\n",
      "    ----------------------------\n",
      "    batch_size...............  1\n",
      "    chunksize................  None\n",
      "    compounds_per_batch......  600\n",
      "    conversions..............  None\n",
      "    iterator.................  True\n",
      "    sample_size..............  3\n",
      "    test_end.................  33600\n",
      "    test_path................  /home/kevin/WSL-shared/cellpainting/cj-datasets/output_11102023/3_sample_profiles/3sample_profiles_1482_HashOrder_test.csv\n",
      "    test_start...............  30000\n",
      "    train_end................  324000\n",
      "    train_start..............  0\n",
      "    training_path............  /home/kevin/WSL-shared/cellpainting/cj-datasets/output_11102023/3_sample_profiles/3sample_profiles_1482_HashOrder_all.csv\n",
      "    val_end..................  346542\n",
      "    val_start................  324000\n",
      "    validation_path..........  /home/kevin/WSL-shared/cellpainting/cj-datasets/output_11102023/3_sample_profiles/3sample_profiles_1482_HashOrder_all.csv\n",
      "\n",
      "ckpt.....................  AE_snnl_dcpb600_250Ltnt_512_20240917_2004_LAST_ep_100.pt\n",
      "code_units...............  250\n",
      "configuration............  ./hyperparameters/ae_snglopt_250_512_cpb.yaml\n",
      "cpb......................  600\n",
      "current_device...........  cuda:0\n",
      "dataset..................  cellpainting\n",
      "embedding_layer..........  4\n",
      "epochs...................  100\n",
      "exp_date.................  20240917_2004\n",
      "exp_description..........  AE snnl - DualOpt, 250 dim latent, 512 Midlayer, 600 cpb\n",
      "exp_folder...............  None\n",
      "exp_id...................  kfzmaqko\n",
      "exp_name.................  AE_20240917_2004\n",
      "exp_name_pfx.............  None\n",
      "exp_title................  dcpb600_250Ltnt_512\n",
      "folder_sfx...............  None\n",
      "gpu_id...................  0\n",
      "input_shape..............  1471\n",
      "learning_rate............  0.001\n",
      "loss_factor..............  1.0\n",
      "\n",
      "    paths   (dict)\n",
      "    ----------------\n",
      "    checkpoint_dir...........  ./ckpt\n",
      "    log_dir..................  ./logs\n",
      "    result_dir...............  ./results\n",
      "\n",
      "project_name.............  CellPainting_Profiles\n",
      "random_seed..............  4321\n",
      "runmode..................  snnl\n",
      "save_every...............  100\n",
      "show_every...............  1\n",
      "snnl_factor..............  3.0\n",
      "temperature..............  1.0\n",
      "temperatureLR............  0.0\n",
      "units....................  [['linear', 1471, 1024], ['relu', 0, 0], ['linear', 1024, 512], ['relu', 0, 0], ['linear', 512, 250], ['linear', 250, 512], ['relu', 0, 0], ['linear', 512, 1024], ['relu', 0, 0], ['linear', 1024, 1471]]\n",
      "use_annealing............  True\n",
      "use_prim_optimizer.......  True\n",
      "use_prim_scheduler.......  True\n",
      "use_single_loss..........  True\n",
      "use_sum..................  False\n",
      "use_temp_optimizer.......  False\n",
      "use_temp_scheduler.......  False\n",
      "\n"
     ]
    }
   ],
   "source": [
    "list_namespace(args)"
   ]
  },
  {
   "cell_type": "code",
   "execution_count": 30,
   "id": "73170034-8d3c-466c-a6ed-2b9afdf62f5c",
   "metadata": {
    "execution": {
     "iopub.execute_input": "2024-09-19T18:15:17.416704Z",
     "iopub.status.busy": "2024-09-19T18:15:17.416325Z",
     "iopub.status.idle": "2024-09-19T18:15:17.731551Z",
     "shell.execute_reply": "2024-09-19T18:15:17.730657Z",
     "shell.execute_reply.started": "2024-09-19T18:15:17.416671Z"
    },
    "scrolled": true
   },
   "outputs": [
    {
     "data": {
      "text/plain": [
       "'snnl'"
      ]
     },
     "execution_count": 30,
     "metadata": {},
     "output_type": "execute_result"
    },
    {
     "name": "stderr",
     "output_type": "stream",
     "text": [
      "2024-09-19 20:15:17,453 - snnl.utils.utils_notebook - INFO: - Defining model in SNNL mode \n",
      "2024-09-19 20:15:17,459 - snnl.models.autoencoder - INFO: -     layer pair:    0  type:linear           input:   1471  output:   1024    weights: [1024, 1471]   \n",
      "2024-09-19 20:15:17,474 - snnl.models.autoencoder - INFO: -     layer pair:    1  type:relu             input:      0  output:      0    weights: [0, 0]   \n",
      "2024-09-19 20:15:17,474 - snnl.models.autoencoder - INFO: -     layer pair:    2  type:linear           input:   1024  output:    512    weights: [512, 1024]   \n",
      "2024-09-19 20:15:17,480 - snnl.models.autoencoder - INFO: -     layer pair:    3  type:relu             input:      0  output:      0    weights: [0, 0]   \n",
      "2024-09-19 20:15:17,481 - snnl.models.autoencoder - INFO: -     layer pair:    4  type:linear           input:    512  output:    250    weights: [250, 512]   \n",
      "2024-09-19 20:15:17,483 - snnl.models.autoencoder - INFO: -     layer pair:    5  type:linear           input:    250  output:    512    weights: [512, 250]   \n",
      "2024-09-19 20:15:17,485 - snnl.models.autoencoder - INFO: -     layer pair:    6  type:relu             input:      0  output:      0    weights: [0, 0]   \n",
      "2024-09-19 20:15:17,485 - snnl.models.autoencoder - INFO: -     layer pair:    7  type:linear           input:    512  output:   1024    weights: [1024, 512]   \n",
      "2024-09-19 20:15:17,491 - snnl.models.autoencoder - INFO: -     layer pair:    8  type:relu             input:      0  output:      0    weights: [0, 0]   \n",
      "2024-09-19 20:15:17,492 - snnl.models.autoencoder - INFO: -     layer pair:    9  type:linear           input:   1024  output:   1471    weights: [1471, 1024]   \n"
     ]
    },
    {
     "name": "stdout",
     "output_type": "stream",
     "text": [
      " EMBEDDING LAYER: 4\n",
      " Device cuda:0 will be used\n",
      "\n",
      "------------------------------------------------------------\n",
      " Building Base Model from NOTEBOOK\n",
      "------------------------------------------------------------\n",
      "    Model_init()_    -- mode:              latent_code\n",
      "    Model_init()_    -- Unsupervised :     True\n",
      "    Model_init()_    -- Support for unsupervised training  in 'latent_code' mode is True\n",
      "    Model_init()_    -- Criterion:         MSELoss()\n",
      "    Model_init()_    -- use_snnl :         True\n",
      "    Model_init()_    -- temperature :      Parameter containing:\n",
      "tensor([1.])\n",
      "    Model_init()_    -- temperature LR:    0.0\n",
      "\n",
      "------------------------------------------------------------\n",
      " Building Autoencoder from NOTEBOOK\n",
      "------------------------------------------------------------\n",
      "setup_prim_optimizer()\n",
      "    AE init() -- mode               : latent_code\n",
      "    AE init() -- unsupervised       : True\n",
      "    AE init() -- layer_types        : ['linear', 'relu', 'linear', 'relu', 'linear', 'linear', 'relu', 'linear', 'relu', 'linear']\n",
      "    AE init() -- non linearities    : ['relu', 'relu', 'relu', 'relu']\n",
      "    AE init() -- Primary Crtierion  : MSELoss()\n",
      "    AE init() -- monitor_grads_layer: None\n",
      "    AE init() -- Primary optimizer  : True\n",
      "    AE init() -- Primary scheduler  : True\n",
      "    AE init() -- use_snnl           : True\n",
      "    AE init() -- SNNL Crtierion     : SNNLoss()\n",
      "    AE init() -- temperature        : Parameter containing:\n",
      "tensor([1.], device='cuda:0')\n",
      "    AE init() -- temperature LR     : 0.0\n",
      "    AE init() -- Temperature optmzr : False\n",
      "    AE init() -- Temperature schdlr : False\n"
     ]
    }
   ],
   "source": [
    "### Define Model\n",
    "args.runmode\n",
    "model = define_autoencoder_model(args, verbose = True)"
   ]
  },
  {
   "cell_type": "markdown",
   "id": "789809c5-6d84-497a-b345-9f144f37c4b6",
   "metadata": {},
   "source": [
    "## Resume from model checkpoint (if args.ckpt is not None)"
   ]
  },
  {
   "cell_type": "code",
   "execution_count": 31,
   "id": "412b00f3-f312-49ed-888c-350f4948f33c",
   "metadata": {
    "execution": {
     "iopub.execute_input": "2024-09-19T18:15:21.936943Z",
     "iopub.status.busy": "2024-09-19T18:15:21.936504Z",
     "iopub.status.idle": "2024-09-19T18:15:22.074312Z",
     "shell.execute_reply": "2024-09-19T18:15:22.073552Z",
     "shell.execute_reply.started": "2024-09-19T18:15:21.936904Z"
    }
   },
   "outputs": [
    {
     "name": "stderr",
     "output_type": "stream",
     "text": [
      "2024-09-19 20:15:21,974 - root - INFO: - Load model checkpoint from  AE_snnl_dcpb600_250Ltnt_512_20240917_2004_LAST_ep_100.pt\n",
      "2024-09-19 20:15:22,063 - snnl.utils.utils_ptsnnl - INFO: -  Loaded from checkpoint AE_snnl_dcpb600_250Ltnt_512_20240917_2004_LAST_ep_100.pt successfully. last epoch on checkpoint: 100\n",
      "2024-09-19 20:15:22,065 - snnl.utils.utils_ptsnnl - INFO: -  Model best training metric   : 0.598703 - epoch: 65\n",
      "2024-09-19 20:15:22,065 - snnl.utils.utils_ptsnnl - INFO: -  Model best validation metric : 0.617969 - epoch: 18\n",
      "2024-09-19 20:15:22,067 - root - INFO: -  Loaded Model device cuda:0 -  Last completed epoch : 100\n",
      "2024-09-19 20:15:22,067 - root - INFO: -  RESUME TRAINING - Run 100 epochs: epoch 101 to 200 \n"
     ]
    }
   ],
   "source": [
    "args.load_checkpoint = utils.load_checkpoint_v5\n",
    "args.save_checkpoint = utils.save_checkpoint_v5\n",
    "# print(f\" Checkpoint File :  {args.ckpt}\")\n",
    "\n",
    "model = init_resume_training(model, args)\n",
    "\n",
    "if args.WANDB_ACTIVE:\n",
    "    wandb_watch(item = model, criterion=None, log = 'all', log_freq = 1000, log_graph = False)\n",
    "    wandb.config.update(args)"
   ]
  },
  {
   "cell_type": "code",
   "execution_count": 32,
   "id": "8fcc1ce9-acfe-4ca0-b23f-500124427794",
   "metadata": {
    "execution": {
     "iopub.execute_input": "2024-09-19T18:15:32.473404Z",
     "iopub.status.busy": "2024-09-19T18:15:32.473047Z",
     "iopub.status.idle": "2024-09-19T18:15:32.511777Z",
     "shell.execute_reply": "2024-09-19T18:15:32.511080Z",
     "shell.execute_reply.started": "2024-09-19T18:15:32.473374Z"
    }
   },
   "outputs": [],
   "source": [
    "# display_model_state_dict(model, 'test')\n",
    "# display_model_parameters(model, 'title')\n",
    "# display_model_gradients(model, 'test')\n",
    "# display_model_hyperparameters(model)\n",
    "# for k,v in model.__dict__.items():\n",
    "#     if k == 'training_history':\n",
    "#         print(f\" {k:30}  type: {str(type(v)):25s}   values: {v.keys()} \")\n",
    "#     else:\n",
    "#         print(f\" {k:30}  type: {str(type(v)):25s}   values: {v} \")\n",
    "# model.optimizers['prim'].state_dict()\n",
    "# model.schedulers['prim'].state_dict()\n",
    "# print(f\" Optimizer ParamGroup[0]   : {model.optimizers['prim'].param_groups[0]}\")\n",
    "# for k,v in model.optimizers.items():\n",
    "#     print(k, v)\n",
    "# for k,v in enumerate(model.optimizers['prim'].param_groups[0]['params']):\n",
    "#     print(f\" {k}, {v.shape}\")"
   ]
  },
  {
   "cell_type": "markdown",
   "id": "94aeaa82-14c5-465c-ae6e-bb792ba8a973",
   "metadata": {},
   "source": [
    "# Autoencoder Fit "
   ]
  },
  {
   "cell_type": "code",
   "execution_count": 33,
   "id": "17c1d789-0894-4e9b-8b04-3da76941b691",
   "metadata": {
    "execution": {
     "iopub.execute_input": "2024-09-19T18:15:35.454652Z",
     "iopub.status.busy": "2024-09-19T18:15:35.454137Z",
     "iopub.status.idle": "2024-09-19T18:15:35.501060Z",
     "shell.execute_reply": "2024-09-19T18:15:35.500506Z",
     "shell.execute_reply.started": "2024-09-19T18:15:35.454610Z"
    }
   },
   "outputs": [
    {
     "name": "stderr",
     "output_type": "stream",
     "text": [
      "2024-09-19 20:15:35,493 - __main__ - INFO: -  Experiment run id:  kfzmaqko\n",
      "2024-09-19 20:15:35,494 - __main__ - INFO: -  Experiment Name  :  AE_20240917_2004 \n",
      "2024-09-19 20:15:35,495 - __main__ - INFO: -  Experiment Date  :  20240917_2004 \n",
      "2024-09-19 20:15:35,496 - __main__ - INFO: -  Experiment Title :  dcpb600_250Ltnt_512 \n",
      "2024-09-19 20:15:35,497 - __main__ - INFO: -  Experiment Notes :  AE snnl - DualOpt, 250 dim latent, 512 Midlayer, 600 cpb\n"
     ]
    }
   ],
   "source": [
    "#\n",
    "#  Running Training Loop\n",
    "#\n",
    "logger.info(f\" Experiment run id:  {args.exp_id}\")\n",
    "logger.info(f\" Experiment Name  :  {args.exp_name} \")\n",
    "logger.info(f\" Experiment Date  :  {args.exp_date} \")\n",
    "logger.info(f\" Experiment Title :  {args.exp_title} \")\n",
    "logger.info(f\" Experiment Notes :  {args.exp_description}\")"
   ]
  },
  {
   "cell_type": "code",
   "execution_count": 35,
   "id": "20ae20b9-b471-4a4b-80fd-b47b8f2ee25f",
   "metadata": {
    "execution": {
     "iopub.execute_input": "2024-09-19T18:15:48.537268Z",
     "iopub.status.busy": "2024-09-19T18:15:48.536784Z",
     "iopub.status.idle": "2024-09-19T18:15:48.599672Z",
     "shell.execute_reply": "2024-09-19T18:15:48.598925Z",
     "shell.execute_reply.started": "2024-09-19T18:15:48.537228Z"
    }
   },
   "outputs": [
    {
     "data": {
      "text/plain": [
       "(100, 200)"
      ]
     },
     "execution_count": 35,
     "metadata": {},
     "output_type": "execute_result"
    },
    {
     "name": "stdout",
     "output_type": "stream",
     "text": [
      " 2024-09-19 20:15:48  epoch  101 of  200\n"
     ]
    }
   ],
   "source": [
    "# model.starting_epoch = 0\n",
    "model.ending_epoch = 200\n",
    "# model.starting_epoch, model.ending_epoch = 700, 705\n",
    "model.starting_epoch, model.ending_epoch\n",
    "\n",
    "print(f\" {datetime.now().strftime('%Y-%m-%d %H:%M:%S')}  epoch {model.starting_epoch+1:4d} of {model.ending_epoch:4d}\")"
   ]
  },
  {
   "cell_type": "code",
   "execution_count": 40,
   "id": "05ac335e-26e4-4c1c-898b-43abeb34f383",
   "metadata": {
    "execution": {
     "iopub.execute_input": "2024-09-20T17:46:53.248902Z",
     "iopub.status.busy": "2024-09-20T17:46:53.248538Z",
     "iopub.status.idle": "2024-09-20T22:42:53.517362Z",
     "shell.execute_reply": "2024-09-20T22:42:53.516697Z",
     "shell.execute_reply.started": "2024-09-20T17:46:53.248873Z"
    },
    "scrolled": true
   },
   "outputs": [
    {
     "name": "stdout",
     "output_type": "stream",
     "text": [
      " 2024-09-20 19:46:53  Start: epoch  201 of  300\n",
      "  time   ep / eps |  Trn_loss   Primary      SNNL  |   temp*         grad    |   R2      BestEp         |  Vld_loss   Primary      SNNL  |   R2       BestEp          |   LR        temp LR    |              \n",
      "------------------+--------------------------------+-------------------------+--------------------------+--------------------------------+----------------------------|------------------------|\n",
      "19:49:51 201/300  |  15.6137     0.4387    15.1750 |   0.373265   0.0000e+00 |   0.5218    65           |  17.0011     0.4356    16.5655 |   0.5296    18             |  1.250e-04   0.000e+00 |\n",
      "19:52:50 202/300  |  15.6069     0.4400    15.1669 |   0.373265   0.0000e+00 |   0.5204    65           |  17.0111     0.4373    16.5739 |   0.5282    18             |  1.250e-04   0.000e+00 |              \n",
      "19:55:49 203/300  |  15.6024     0.4413    15.1612 |   0.373265   0.0000e+00 |   0.5195    65           |  17.0018     0.4379    16.5638 |   0.5275    18             |  1.250e-04   0.000e+00 |              \n",
      "19:58:48 204/300  |  15.5983     0.4428    15.1555 |   0.373265   0.0000e+00 |   0.5174    65           |  17.0031     0.4395    16.5636 |   0.5258    18             |  1.250e-04   0.000e+00 |              \n",
      "20:01:48 205/300  |  15.5980     0.4439    15.1541 |   0.373265   0.0000e+00 |   0.5166    65           |  17.0385     0.4418    16.5967 |   0.5235    18             |  1.250e-04   0.000e+00 |              \n",
      "20:04:46 206/300  |  15.6016     0.4449    15.1567 |   0.373265   0.0000e+00 |   0.5156    65           |  17.0329     0.4428    16.5901 |   0.5218    18             |  1.250e-04   0.000e+00 |              \n",
      "20:07:45 207/300  |  15.5959     0.4461    15.1498 |   0.373265   0.0000e+00 |   0.5141    65           |  17.0165     0.4430    16.5736 |   0.5224    18             |  1.250e-04   0.000e+00 |              \n",
      "20:10:44 208/300  |  15.5873     0.4474    15.1399 |   0.373265   0.0000e+00 |   0.5131    65           |  17.0232     0.4445    16.5788 |   0.5210    18             |  1.250e-04   0.000e+00 |              \n",
      "20:13:44 209/300  |  15.5765     0.4488    15.1277 |   0.373265   0.0000e+00 |   0.5116    65           |  17.0359     0.4471    16.5888 |   0.5185    18             |  1.250e-04   0.000e+00 |              \n",
      "20:16:43 210/300  |  15.5719     0.4500    15.1219 |   0.373265   0.0000e+00 |   0.5103    65           |  17.0296     0.4480    16.5816 |   0.5170    18             |  1.250e-04   0.000e+00 |              \n",
      "20:19:41 211/300  |  15.5693     0.4511    15.1182 |   0.373265   0.0000e+00 |   0.5092    65           |  17.0032     0.4485    16.5547 |   0.5170    18             |  1.250e-04   0.000e+00 |              \n",
      "20:22:41 212/300  |  15.5671     0.4521    15.1151 |   0.373265   0.0000e+00 |   0.5080    65           |  16.9818     0.4491    16.5327 |   0.5162    18             |  1.250e-04   0.000e+00 |              \n",
      "20:25:40 213/300  |  15.5571     0.4533    15.1038 |   0.373265   0.0000e+00 |   0.5068    65           |  16.9899     0.4504    16.5395 |   0.5155    18             |  1.250e-04   0.000e+00 |              \n",
      "20:28:38 214/300  |  15.5429     0.4548    15.0882 |   0.373265   0.0000e+00 |   0.5051    65           |  17.0043     0.4519    16.5524 |   0.5136    18             |  1.250e-04   0.000e+00 |              \n",
      "20:31:37 215/300  |  15.5263     0.4560    15.0703 |   0.373265   0.0000e+00 |   0.5042    65           |  17.0232     0.4538    16.5694 |   0.5116    18             |  1.250e-04   0.000e+00 |              \n",
      "20:34:36 216/300  |  15.5173     0.4571    15.0602 |   0.373265   0.0000e+00 |   0.5034    65           |  17.0165     0.4549    16.5617 |   0.5099    18             |  1.250e-04   0.000e+00 |              \n",
      "20:37:37 217/300  |  15.5125     0.4585    15.0539 |   0.373265   0.0000e+00 |   0.5018    65           |  17.0106     0.4551    16.5555 |   0.5097    18             |  1.250e-04   0.000e+00 |              \n",
      "20:40:36 218/300  |  15.5123     0.4595    15.0528 |   0.373265   0.0000e+00 |   0.5007    65           |  17.0088     0.4555    16.5533 |   0.5099    18             |  1.250e-04   0.000e+00 |              \n",
      "20:43:34 219/300  |  15.5147     0.4601    15.0546 |   0.373265   0.0000e+00 |   0.5000    65           |  16.9981     0.4572    16.5409 |   0.5080    18             |  1.250e-04   0.000e+00 |              \n",
      "20:46:33 220/300  |  15.5172     0.4608    15.0564 |   0.373265   0.0000e+00 |   0.4991    65           |  16.9834     0.4589    16.5245 |   0.5065    18             |  1.250e-04   0.000e+00 |              \n",
      "20:49:36 221/300  |  15.5270     0.4615    15.0655 |   0.373265   0.0000e+00 |   0.4990    65           |  16.9886     0.4599    16.5287 |   0.5056    18             |  1.250e-04   0.000e+00 |              \n",
      "20:52:34 222/300  |  15.5158     0.4622    15.0537 |   0.373265   0.0000e+00 |   0.4978    65           |  16.9920     0.4612    16.5308 |   0.5034    18             |  1.250e-04   0.000e+00 |              \n",
      "20:55:33 223/300  |  15.4921     0.4634    15.0287 |   0.373265   0.0000e+00 |   0.4968    65           |  16.9914     0.4612    16.5302 |   0.5034    18             |  1.250e-04   0.000e+00 |              \n",
      "20:58:30 224/300  |  15.4703     0.4648    15.0055 |   0.373265   0.0000e+00 |   0.4954    65           |  17.0106     0.4632    16.5474 |   0.5017    18             |  1.250e-04   0.000e+00 |              \n",
      " 223 - anneal temp  -  counter: 6    before:   0.373265     new_temp:   0.342923 \n",
      "21:01:30 225/300  |  15.1369     0.4666    14.6703 |   0.342923   0.0000e+00 |   0.4937    65           |  16.8573     0.4643    16.3930 |   0.5003    18             |  1.250e-04   0.000e+00 |              \n",
      "21:04:27 226/300  |  15.1105     0.4683    14.6422 |   0.342923   0.0000e+00 |   0.4920    65           |  16.8621     0.4666    16.3955 |   0.4984    18             |  1.250e-04   0.000e+00 |              \n",
      "21:07:26 227/300  |  15.0940     0.4701    14.6240 |   0.342923   0.0000e+00 |   0.4898    65           |  16.8838     0.4692    16.4146 |   0.4960    18             |  1.250e-04   0.000e+00 |              \n",
      "21:10:24 228/300  |  15.0804     0.4718    14.6085 |   0.342923   0.0000e+00 |   0.4886    65           |  16.8758     0.4697    16.4061 |   0.4950    18             |  1.250e-04   0.000e+00 |              \n",
      "21:13:22 229/300  |  15.0795     0.4734    14.6061 |   0.342923   0.0000e+00 |   0.4870    65           |  16.8845     0.4707    16.4139 |   0.4942    18             |  1.250e-04   0.000e+00 |              \n",
      "21:16:19 230/300  |  15.0833     0.4748    14.6085 |   0.342923   0.0000e+00 |   0.4855    65           |  16.8978     0.4728    16.4250 |   0.4916    18             |  1.250e-04   0.000e+00 |              \n",
      "21:19:16 231/300  |  15.0799     0.4759    14.6040 |   0.342923   0.0000e+00 |   0.4844    65           |  16.8989     0.4725    16.4264 |   0.4917    18             |  1.250e-04   0.000e+00 |              \n",
      "21:22:13 232/300  |  15.0851     0.4770    14.6081 |   0.342923   0.0000e+00 |   0.4826    65           |  16.8897     0.4726    16.4171 |   0.4910    18             |  1.250e-04   0.000e+00 |              \n",
      "21:25:07 233/300  |  15.1025     0.4779    14.6246 |   0.342923   0.0000e+00 |   0.4822    65           |  16.8772     0.4723    16.4049 |   0.4907    18             |  1.250e-04   0.000e+00 |              \n",
      "21:28:03 234/300  |  15.1004     0.4785    14.6219 |   0.342923   0.0000e+00 |   0.4815    65           |  16.8681     0.4735    16.3945 |   0.4908    18             |  1.250e-04   0.000e+00 |              \n",
      "21:30:58 235/300  |  15.0851     0.4798    14.6053 |   0.342923   0.0000e+00 |   0.4801    65           |  16.8716     0.4751    16.3965 |   0.4897    18             |  1.250e-04   0.000e+00 |              \n",
      "21:33:54 236/300  |  15.0731     0.4812    14.5919 |   0.342923   0.0000e+00 |   0.4787    65           |  16.8714     0.4776    16.3938 |   0.4869    18             |  1.250e-04   0.000e+00 |              \n",
      "21:36:51 237/300  |  15.0592     0.4826    14.5766 |   0.342923   0.0000e+00 |   0.4774    65           |  16.8585     0.4795    16.3790 |   0.4853    18             |  1.250e-04   0.000e+00 |              \n",
      "21:39:48 238/300  |  15.0422     0.4843    14.5580 |   0.342923   0.0000e+00 |   0.4759    65           |  16.8539     0.4807    16.3733 |   0.4840    18             |  1.250e-04   0.000e+00 |              \n",
      "21:42:47 239/300  |  15.0291     0.4856    14.5435 |   0.342923   0.0000e+00 |   0.4746    65           |  16.8628     0.4822    16.3806 |   0.4825    18             |  1.250e-04   0.000e+00 |              \n",
      "21:45:45 240/300  |  15.0230     0.4867    14.5362 |   0.342923   0.0000e+00 |   0.4735    65           |  16.8605     0.4834    16.3771 |   0.4812    18             |  1.250e-04   0.000e+00 |              \n",
      "21:48:44 241/300  |  15.0278     0.4880    14.5398 |   0.342923   0.0000e+00 |   0.4724    65           |  16.8549     0.4849    16.3700 |   0.4800    18             |  1.250e-04   0.000e+00 |              \n",
      "21:51:42 242/300  |  15.0336     0.4890    14.5446 |   0.342923   0.0000e+00 |   0.4715    65           |  16.8541     0.4853    16.3688 |   0.4795    18             |  1.250e-04   0.000e+00 |              \n",
      "21:54:39 243/300  |  15.0346     0.4901    14.5445 |   0.342923   0.0000e+00 |   0.4706    65           |  16.8712     0.4864    16.3848 |   0.4780    18             |  1.250e-04   0.000e+00 |              \n",
      "21:57:35 244/300  |  15.0389     0.4912    14.5476 |   0.342923   0.0000e+00 |   0.4695    65           |  16.8947     0.4881    16.4066 |   0.4762    18             |  1.250e-04   0.000e+00 |              \n",
      "22:00:34 245/300  |  15.0364     0.4922    14.5442 |   0.342923   0.0000e+00 |   0.4682    65           |  16.8922     0.4886    16.4036 |   0.4756    18             |  1.250e-04   0.000e+00 |              \n",
      "22:03:31 246/300  |  15.0186     0.4935    14.5251 |   0.342923   0.0000e+00 |   0.4668    65           |  16.9055     0.4897    16.4158 |   0.4748    18             |  1.250e-04   0.000e+00 |              \n",
      "                                                                                                                                                                                                              "
     ]
    },
    {
     "name": "stderr",
     "output_type": "stream",
     "text": [
      "2024-09-20 22:06:27,921 - snnl.models.base - INFO: -  Main learning rate reduced to [6.25e-05]\n"
     ]
    },
    {
     "name": "stdout",
     "output_type": "stream",
     "text": [
      "22:06:27 247/300  |  15.0044     0.4951    14.5093 |   0.342923   0.0000e+00 |   0.4652    65           |  16.9171     0.4906    16.4265 |   0.4738    18             |  1.250e-04   0.000e+00 |\n",
      "22:09:26 248/300  |  15.0362     0.4926    14.5435 |   0.342923   0.0000e+00 |   0.4715    65           |  16.8094     0.4888    16.3207 |   0.4738    18             |  6.250e-05   0.000e+00 |              \n",
      "22:12:23 249/300  |  14.9617     0.4940    14.4678 |   0.342923   0.0000e+00 |   0.4703    65           |  16.8349     0.4912    16.3437 |   0.4715    18             |  6.250e-05   0.000e+00 |              \n",
      "22:15:19 250/300  |  14.9132     0.4957    14.4174 |   0.342923   0.0000e+00 |   0.4684    65           |  16.8500     0.4935    16.3565 |   0.4692    18             |  6.250e-05   0.000e+00 |              \n",
      "22:18:16 251/300  |  14.8778     0.4974    14.3804 |   0.342923   0.0000e+00 |   0.4668    65           |  16.8587     0.4951    16.3636 |   0.4675    18             |  6.250e-05   0.000e+00 |              \n",
      "22:21:11 252/300  |  14.8498     0.4989    14.3509 |   0.342923   0.0000e+00 |   0.4652    65           |  16.8705     0.4967    16.3737 |   0.4658    18             |  6.250e-05   0.000e+00 |              \n",
      "22:24:06 253/300  |  14.8250     0.5005    14.3246 |   0.342923   0.0000e+00 |   0.4637    65           |  16.8792     0.4981    16.3811 |   0.4644    18             |  6.250e-05   0.000e+00 |              \n",
      "22:27:05 254/300  |  14.8038     0.5020    14.3019 |   0.342923   0.0000e+00 |   0.4621    65           |  16.8912     0.4995    16.3916 |   0.4630    18             |  6.250e-05   0.000e+00 |              \n",
      "22:30:02 255/300  |  14.7848     0.5035    14.2813 |   0.342923   0.0000e+00 |   0.4607    65           |  16.9009     0.5009    16.4000 |   0.4616    18             |  6.250e-05   0.000e+00 |              \n",
      " 254 - anneal temp  -  counter: 7    before:   0.342923     new_temp:   0.318640 \n",
      "22:32:58 256/300  |  14.4601     0.5049    13.9552 |   0.318640   0.0000e+00 |   0.4593    65           |  16.7635     0.5022    16.2614 |   0.4603    18             |  6.250e-05   0.000e+00 |              \n",
      "22:35:53 257/300  |  14.4428     0.5067    13.9361 |   0.318640   0.0000e+00 |   0.4576    65           |  16.7771     0.5039    16.2733 |   0.4586    18             |  6.250e-05   0.000e+00 |              \n",
      "22:38:50 258/300  |  14.4276     0.5083    13.9192 |   0.318640   0.0000e+00 |   0.4558    65           |  16.7823     0.5054    16.2770 |   0.4569    18             |  6.250e-05   0.000e+00 |              \n",
      "22:41:47 259/300  |  14.4133     0.5100    13.9033 |   0.318640   0.0000e+00 |   0.4543    65           |  16.7905     0.5071    16.2834 |   0.4553    18             |  6.250e-05   0.000e+00 |              \n",
      "22:44:44 260/300  |  14.3985     0.5116    13.8869 |   0.318640   0.0000e+00 |   0.4527    65           |  16.7972     0.5086    16.2886 |   0.4537    18             |  6.250e-05   0.000e+00 |              \n",
      "22:47:41 261/300  |  14.3878     0.5132    13.8746 |   0.318640   0.0000e+00 |   0.4510    65           |  16.8061     0.5102    16.2959 |   0.4518    18             |  6.250e-05   0.000e+00 |              \n",
      "22:50:40 262/300  |  14.3740     0.5147    13.8593 |   0.318640   0.0000e+00 |   0.4495    65           |  16.8053     0.5114    16.2938 |   0.4509    18             |  6.250e-05   0.000e+00 |              \n",
      "22:53:37 263/300  |  14.3611     0.5162    13.8449 |   0.318640   0.0000e+00 |   0.4478    65           |  16.8170     0.5133    16.3037 |   0.4486    18             |  6.250e-05   0.000e+00 |              \n",
      "22:56:33 264/300  |  14.3505     0.5177    13.8328 |   0.318640   0.0000e+00 |   0.4463    65           |  16.8287     0.5145    16.3142 |   0.4476    18             |  6.250e-05   0.000e+00 |              \n",
      "22:59:28 265/300  |  14.3377     0.5193    13.8185 |   0.318640   0.0000e+00 |   0.4448    65           |  16.8232     0.5162    16.3070 |   0.4459    18             |  6.250e-05   0.000e+00 |              \n",
      "23:02:24 266/300  |  14.3291     0.5208    13.8083 |   0.318640   0.0000e+00 |   0.4433    65           |  16.8281     0.5171    16.3110 |   0.4452    18             |  6.250e-05   0.000e+00 |              \n",
      "23:05:22 267/300  |  14.3229     0.5220    13.8009 |   0.318640   0.0000e+00 |   0.4421    65           |  16.8334     0.5184    16.3150 |   0.4437    18             |  6.250e-05   0.000e+00 |              \n",
      "23:08:21 268/300  |  14.3179     0.5233    13.7946 |   0.318640   0.0000e+00 |   0.4409    65           |  16.8442     0.5198    16.3244 |   0.4427    18             |  6.250e-05   0.000e+00 |              \n",
      "23:11:19 269/300  |  14.3143     0.5245    13.7898 |   0.318640   0.0000e+00 |   0.4398    65           |  16.8384     0.5210    16.3174 |   0.4415    18             |  6.250e-05   0.000e+00 |              \n",
      "23:14:17 270/300  |  14.3152     0.5257    13.7895 |   0.318640   0.0000e+00 |   0.4386    65           |  16.8504     0.5222    16.3282 |   0.4398    18             |  6.250e-05   0.000e+00 |              \n",
      "23:17:15 271/300  |  14.3166     0.5265    13.7901 |   0.318640   0.0000e+00 |   0.4376    65           |  16.8504     0.5227    16.3277 |   0.4397    18             |  6.250e-05   0.000e+00 |              \n",
      "23:20:11 272/300  |  14.3211     0.5274    13.7937 |   0.318640   0.0000e+00 |   0.4369    65           |  16.8336     0.5233    16.3103 |   0.4392    18             |  6.250e-05   0.000e+00 |              \n",
      "23:23:06 273/300  |  14.3320     0.5279    13.8041 |   0.318640   0.0000e+00 |   0.4363    65           |  16.8223     0.5240    16.2983 |   0.4385    18             |  6.250e-05   0.000e+00 |              \n",
      "23:26:03 274/300  |  14.3588     0.5283    13.8304 |   0.318640   0.0000e+00 |   0.4359    65           |  16.7813     0.5235    16.2578 |   0.4393    18             |  6.250e-05   0.000e+00 |              \n",
      "23:28:59 275/300  |  14.3660     0.5283    13.8377 |   0.318640   0.0000e+00 |   0.4360    65           |  16.7797     0.5241    16.2555 |   0.4393    18             |  6.250e-05   0.000e+00 |              \n",
      "23:31:58 276/300  |  14.3425     0.5292    13.8134 |   0.318640   0.0000e+00 |   0.4351    65           |  16.7885     0.5263    16.2622 |   0.4370    18             |  6.250e-05   0.000e+00 |              \n",
      "23:34:54 277/300  |  14.3233     0.5303    13.7930 |   0.318640   0.0000e+00 |   0.4339    65           |  16.8025     0.5279    16.2746 |   0.4354    18             |  6.250e-05   0.000e+00 |              \n",
      "23:37:52 278/300  |  14.3073     0.5313    13.7760 |   0.318640   0.0000e+00 |   0.4327    65           |  16.8213     0.5292    16.2920 |   0.4339    18             |  6.250e-05   0.000e+00 |              \n",
      "23:40:49 279/300  |  14.2940     0.5324    13.7616 |   0.318640   0.0000e+00 |   0.4316    65           |  16.8284     0.5294    16.2990 |   0.4335    18             |  6.250e-05   0.000e+00 |              \n",
      "23:43:45 280/300  |  14.2835     0.5334    13.7501 |   0.318640   0.0000e+00 |   0.4307    65           |  16.8399     0.5303    16.3096 |   0.4325    18             |  6.250e-05   0.000e+00 |              \n",
      "23:46:42 281/300  |  14.2743     0.5343    13.7399 |   0.318640   0.0000e+00 |   0.4297    65           |  16.8409     0.5303    16.3105 |   0.4323    18             |  6.250e-05   0.000e+00 |              \n",
      "23:49:40 282/300  |  14.2663     0.5354    13.7309 |   0.318640   0.0000e+00 |   0.4286    65           |  16.8443     0.5315    16.3128 |   0.4308    18             |  6.250e-05   0.000e+00 |              \n",
      "23:52:36 283/300  |  14.2575     0.5363    13.7212 |   0.318640   0.0000e+00 |   0.4277    65           |  16.8494     0.5328    16.3167 |   0.4296    18             |  6.250e-05   0.000e+00 |              \n",
      "23:55:32 284/300  |  14.2497     0.5374    13.7124 |   0.318640   0.0000e+00 |   0.4267    65           |  16.8484     0.5334    16.3150 |   0.4287    18             |  6.250e-05   0.000e+00 |              \n",
      "23:58:28 285/300  |  14.2428     0.5383    13.7044 |   0.318640   0.0000e+00 |   0.4256    65           |  16.8498     0.5348    16.3151 |   0.4274    18             |  6.250e-05   0.000e+00 |              \n",
      "00:01:25 286/300  |  14.2382     0.5392    13.6990 |   0.318640   0.0000e+00 |   0.4247    65           |  16.8619     0.5359    16.3260 |   0.4260    18             |  6.250e-05   0.000e+00 |              \n",
      " 285 - anneal temp  -  counter: 8    before:   0.318640     new_temp:   0.298653 \n",
      "00:04:20 287/300  |  13.9216     0.5402    13.3814 |   0.298653   0.0000e+00 |   0.4237    65           |  16.7452     0.5359    16.2093 |   0.4260    18             |  6.250e-05   0.000e+00 |              \n",
      "00:07:18 288/300  |  13.9133     0.5415    13.3718 |   0.298653   0.0000e+00 |   0.4223    65           |  16.7472     0.5376    16.2097 |   0.4240    18             |  6.250e-05   0.000e+00 |              \n",
      "00:10:15 289/300  |  13.9176     0.5425    13.3750 |   0.298653   0.0000e+00 |   0.4213    65           |  16.7760     0.5380    16.2381 |   0.4238    18             |  6.250e-05   0.000e+00 |              \n",
      "00:13:12 290/300  |  13.9356     0.5431    13.3925 |   0.298653   0.0000e+00 |   0.4208    65           |  16.7558     0.5391    16.2167 |   0.4225    18             |  6.250e-05   0.000e+00 |              \n",
      "00:16:10 291/300  |  13.9494     0.5436    13.4058 |   0.298653   0.0000e+00 |   0.4203    65           |  16.7234     0.5392    16.1842 |   0.4224    18             |  6.250e-05   0.000e+00 |              \n",
      "00:19:10 292/300  |  13.9394     0.5444    13.3950 |   0.298653   0.0000e+00 |   0.4193    65           |  16.7319     0.5405    16.1914 |   0.4210    18             |  6.250e-05   0.000e+00 |              \n",
      "00:22:09 293/300  |  13.9148     0.5455    13.3692 |   0.298653   0.0000e+00 |   0.4183    65           |  16.7386     0.5414    16.1972 |   0.4206    18             |  6.250e-05   0.000e+00 |              \n",
      "00:25:05 294/300  |  13.8977     0.5466    13.3511 |   0.298653   0.0000e+00 |   0.4172    65           |  16.7350     0.5425    16.1926 |   0.4197    18             |  6.250e-05   0.000e+00 |              \n",
      "00:28:03 295/300  |  13.8939     0.5477    13.3462 |   0.298653   0.0000e+00 |   0.4162    65           |  16.7493     0.5425    16.2068 |   0.4193    18             |  6.250e-05   0.000e+00 |              \n",
      "00:31:00 296/300  |  13.8891     0.5484    13.3407 |   0.298653   0.0000e+00 |   0.4153    65           |  16.7639     0.5431    16.2208 |   0.4185    18             |  6.250e-05   0.000e+00 |              \n",
      "00:33:57 297/300  |  13.8757     0.5495    13.3262 |   0.298653   0.0000e+00 |   0.4143    65           |  16.7716     0.5444    16.2272 |   0.4175    18             |  6.250e-05   0.000e+00 |              \n",
      "00:36:58 298/300  |  13.8552     0.5506    13.3046 |   0.298653   0.0000e+00 |   0.4132    65           |  16.7941     0.5457    16.2483 |   0.4160    18             |  6.250e-05   0.000e+00 |              \n",
      "00:39:55 299/300  |  13.8373     0.5519    13.2854 |   0.298653   0.0000e+00 |   0.4118    65           |  16.7929     0.5477    16.2452 |   0.4142    18             |  6.250e-05   0.000e+00 |              \n",
      "                                                                                                                                                                                                              "
     ]
    },
    {
     "name": "stderr",
     "output_type": "stream",
     "text": [
      "2024-09-21 00:42:53,406 - snnl.utils.utils_ptsnnl - INFO: -  Model exported to ckpts/AE_snnl_dcpb600_250Ltnt_512_20240917_2004_ep_300.pt - epoch: 300\n"
     ]
    },
    {
     "name": "stdout",
     "output_type": "stream",
     "text": [
      "00:42:53 300/300  |  13.8253     0.5531    13.2722 |   0.298653   0.0000e+00 |   0.4106    65           |  16.7953     0.5484    16.2469 |   0.4137    18             |  6.250e-05   0.000e+00 |\n",
      "Last Epoch 300\n"
     ]
    },
    {
     "name": "stderr",
     "output_type": "stream",
     "text": [
      "2024-09-21 00:42:53,507 - snnl.utils.utils_ptsnnl - INFO: -  Model exported to ckpts/AE_snnl_dcpb600_250Ltnt_512_20240917_2004_LAST_ep_300.pt - epoch: 300\n"
     ]
    },
    {
     "name": "stdout",
     "output_type": "stream",
     "text": [
      " 2024-09-21 00:42:53  End: epoch  300 of  300\n"
     ]
    }
   ],
   "source": [
    "print(f\" {datetime.now().strftime('%Y-%m-%d %H:%M:%S')}  Start: epoch {model.starting_epoch+1:4d} of {model.ending_epoch:4d}\")\n",
    "model.fit(args, data_loaders)\n",
    "print(f\" {datetime.now().strftime('%Y-%m-%d %H:%M:%S')}  End: epoch {model.epoch + 1:4d} of {model.ending_epoch:4d}\")"
   ]
  },
  {
   "cell_type": "code",
   "execution_count": null,
   "id": "77834949-ec11-4d1e-976e-65f5c47eaf64",
   "metadata": {
    "execution": {
     "iopub.execute_input": "2024-09-21T04:29:18.208964Z",
     "iopub.status.busy": "2024-09-21T04:29:18.208494Z"
    }
   },
   "outputs": [
    {
     "name": "stdout",
     "output_type": "stream",
     "text": [
      " 2024-09-21 06:29:18  Start: epoch  401 of  500\n",
      "  time   ep / eps |  Trn_loss   Primary      SNNL  |   temp*         grad    |   R2      BestEp         |  Vld_loss   Primary      SNNL  |   R2       BestEp          |   LR        temp LR    |              \n",
      "------------------+--------------------------------+-------------------------+--------------------------+--------------------------------+----------------------------|------------------------|\n",
      "06:32:17 401/500  |  12.4378     0.6011    11.8366 |   0.254947   0.0000e+00 |   0.3646    65           |  16.7458     0.5953    16.1504 |   0.3683    18             |  1.563e-05   0.000e+00 |\n",
      "06:35:18 402/500  |  12.4322     0.6014    11.8307 |   0.254947   0.0000e+00 |   0.3643    65           |  16.7537     0.5956    16.1580 |   0.3681    18             |  1.563e-05   0.000e+00 |              \n",
      "06:38:18 403/500  |  12.4266     0.6017    11.8249 |   0.254947   0.0000e+00 |   0.3640    65           |  16.7539     0.5959    16.1581 |   0.3678    18             |  1.563e-05   0.000e+00 |              \n",
      "06:41:18 404/500  |  12.4214     0.6020    11.8194 |   0.254947   0.0000e+00 |   0.3637    65           |  16.7585     0.5961    16.1625 |   0.3676    18             |  1.563e-05   0.000e+00 |              \n",
      "06:44:16 405/500  |  12.4175     0.6023    11.8151 |   0.254947   0.0000e+00 |   0.3634    65           |  16.7596     0.5963    16.1632 |   0.3674    18             |  1.563e-05   0.000e+00 |              \n",
      "06:47:16 406/500  |  12.4145     0.6026    11.8119 |   0.254947   0.0000e+00 |   0.3631    65           |  16.7659     0.5968    16.1691 |   0.3669    18             |  1.563e-05   0.000e+00 |              \n",
      "06:50:09 407/500  |  12.4109     0.6029    11.8080 |   0.254947   0.0000e+00 |   0.3628    65           |  16.7690     0.5969    16.1721 |   0.3668    18             |  1.563e-05   0.000e+00 |              \n",
      "06:53:05 408/500  |  12.4079     0.6031    11.8048 |   0.254947   0.0000e+00 |   0.3626    65           |  16.7735     0.5974    16.1761 |   0.3663    18             |  1.563e-05   0.000e+00 |              \n",
      "06:56:00 409/500  |  12.4052     0.6035    11.8017 |   0.254947   0.0000e+00 |   0.3622    65           |  16.7809     0.5976    16.1833 |   0.3661    18             |  1.563e-05   0.000e+00 |              \n",
      "06:58:56 410/500  |  12.4018     0.6037    11.7980 |   0.254947   0.0000e+00 |   0.3619    65           |  16.7814     0.5978    16.1835 |   0.3659    18             |  1.563e-05   0.000e+00 |              \n",
      " 409 - anneal temp  -  counter: 12    before:   0.254947     new_temp:   0.243967 \n",
      "07:01:55 411/500  |  12.1556     0.6038    11.5518 |   0.243967   0.0000e+00 |   0.3619    65           |  16.7212     0.5978    16.1234 |   0.3659    18             |  1.563e-05   0.000e+00 |              \n",
      "07:04:57 412/500  |  12.1543     0.6041    11.5502 |   0.243967   0.0000e+00 |   0.3616    65           |  16.7217     0.5982    16.1236 |   0.3656    18             |  1.563e-05   0.000e+00 |              \n",
      "07:08:06 413/500  |  12.1507     0.6044    11.5463 |   0.243967   0.0000e+00 |   0.3613    65           |  16.7240     0.5984    16.1256 |   0.3653    18             |  1.563e-05   0.000e+00 |              \n",
      "07:11:11 414/500  |  12.1469     0.6047    11.5423 |   0.243967   0.0000e+00 |   0.3610    65           |  16.7305     0.5987    16.1318 |   0.3650    18             |  1.563e-05   0.000e+00 |              \n",
      "07:14:15 415/500  |  12.1439     0.6050    11.5389 |   0.243967   0.0000e+00 |   0.3607    65           |  16.7387     0.5990    16.1397 |   0.3647    18             |  1.563e-05   0.000e+00 |              \n",
      "07:17:21 416/500  |  12.1401     0.6052    11.5349 |   0.243967   0.0000e+00 |   0.3605    65           |  16.7422     0.5993    16.1430 |   0.3644    18             |  1.563e-05   0.000e+00 |              \n",
      "07:20:28 417/500  |  12.1374     0.6055    11.5319 |   0.243967   0.0000e+00 |   0.3602    65           |  16.7443     0.5995    16.1448 |   0.3641    18             |  1.563e-05   0.000e+00 |              \n",
      "07:23:34 418/500  |  12.1350     0.6057    11.5293 |   0.243967   0.0000e+00 |   0.3600    65           |  16.7514     0.5997    16.1518 |   0.3639    18             |  1.563e-05   0.000e+00 |              \n",
      "07:26:41 419/500  |  12.1320     0.6060    11.5260 |   0.243967   0.0000e+00 |   0.3598    65           |  16.7519     0.5999    16.1519 |   0.3637    18             |  1.563e-05   0.000e+00 |              \n",
      "07:29:48 420/500  |  12.1282     0.6063    11.5220 |   0.243967   0.0000e+00 |   0.3594    65           |  16.7545     0.6000    16.1545 |   0.3636    18             |  1.563e-05   0.000e+00 |              \n",
      "07:32:48 421/500  |  12.1259     0.6065    11.5194 |   0.243967   0.0000e+00 |   0.3592    65           |  16.7625     0.6005    16.1620 |   0.3631    18             |  1.563e-05   0.000e+00 |              \n",
      "07:35:49 422/500  |  12.1235     0.6068    11.5167 |   0.243967   0.0000e+00 |   0.3589    65           |  16.7662     0.6008    16.1654 |   0.3628    18             |  1.563e-05   0.000e+00 |              \n",
      "07:38:47 423/500  |  12.1202     0.6070    11.5132 |   0.243967   0.0000e+00 |   0.3586    65           |  16.7632     0.6012    16.1620 |   0.3624    18             |  1.563e-05   0.000e+00 |              \n",
      "07:41:41 424/500  |  12.1213     0.6073    11.5140 |   0.243967   0.0000e+00 |   0.3583    65           |  16.7691     0.6011    16.1680 |   0.3625    18             |  1.563e-05   0.000e+00 |              \n",
      "07:44:37 425/500  |  12.1167     0.6075    11.5092 |   0.243967   0.0000e+00 |   0.3581    65           |  16.7666     0.6012    16.1654 |   0.3623    18             |  1.563e-05   0.000e+00 |              \n",
      "07:47:33 426/500  |  12.1125     0.6078    11.5048 |   0.243967   0.0000e+00 |   0.3579    65           |  16.7741     0.6018    16.1724 |   0.3618    18             |  1.563e-05   0.000e+00 |              \n",
      "07:50:29 427/500  |  12.1096     0.6080    11.5017 |   0.243967   0.0000e+00 |   0.3576    65           |  16.7756     0.6021    16.1735 |   0.3615    18             |  1.563e-05   0.000e+00 |              \n",
      "07:53:23 428/500  |  12.1084     0.6082    11.5002 |   0.243967   0.0000e+00 |   0.3574    65           |  16.7778     0.6023    16.1755 |   0.3612    18             |  1.563e-05   0.000e+00 |              \n",
      "07:56:19 429/500  |  12.1058     0.6085    11.4973 |   0.243967   0.0000e+00 |   0.3571    65           |  16.7801     0.6025    16.1775 |   0.3610    18             |  1.563e-05   0.000e+00 |              \n",
      "                                                                                                                                                                                                              "
     ]
    },
    {
     "name": "stderr",
     "output_type": "stream",
     "text": [
      "2024-09-21 07:59:13,820 - snnl.models.base - INFO: -  Main learning rate reduced to [7.8125e-06]\n"
     ]
    },
    {
     "name": "stdout",
     "output_type": "stream",
     "text": [
      "07:59:13 430/500  |  12.1035     0.6087    11.4948 |   0.243967   0.0000e+00 |   0.3569    65           |  16.7836     0.6027    16.1809 |   0.3608    18             |  1.563e-05   0.000e+00 |\n",
      "08:02:10 431/500  |  12.1753     0.6082    11.5671 |   0.243967   0.0000e+00 |   0.3579    65           |  16.7436     0.6020    16.1416 |   0.3618    18             |  7.813e-06   0.000e+00 |              \n",
      "08:05:08 432/500  |  12.1683     0.6081    11.5602 |   0.243967   0.0000e+00 |   0.3580    65           |  16.7396     0.6023    16.1373 |   0.3617    18             |  7.813e-06   0.000e+00 |              \n",
      "08:08:02 433/500  |  12.1543     0.6082    11.5461 |   0.243967   0.0000e+00 |   0.3587    65           |  16.7355     0.6022    16.1333 |   0.3626    18             |  7.813e-06   0.000e+00 |              \n",
      "08:10:56 434/500  |  12.1411     0.6083    11.5328 |   0.243967   0.0000e+00 |   0.3592    65           |  16.7351     0.6023    16.1328 |   0.3628    18             |  7.813e-06   0.000e+00 |              \n",
      "08:13:50 435/500  |  12.1302     0.6084    11.5217 |   0.243967   0.0000e+00 |   0.3600    65           |  16.7370     0.6024    16.1346 |   0.3652    18             |  7.813e-06   0.000e+00 |              \n",
      "08:16:45 436/500  |  12.1207     0.6086    11.5121 |   0.243967   0.0000e+00 |   0.3616    65           |  16.7403     0.6025    16.1378 |   0.3657    18             |  7.813e-06   0.000e+00 |              \n",
      "08:19:40 437/500  |  12.1120     0.6088    11.5032 |   0.243967   0.0000e+00 |   0.3624    65           |  16.7435     0.6027    16.1408 |   0.3666    18             |  7.813e-06   0.000e+00 |              \n",
      "08:22:38 438/500  |  12.1044     0.6089    11.4955 |   0.243967   0.0000e+00 |   0.3631    65           |  16.7470     0.6027    16.1443 |   0.3672    18             |  7.813e-06   0.000e+00 |              \n",
      " Trn 439/500:  28%|████████████████████████████████▌                                                                                  | 51/180 [00:39<01:39,  1.30it/s, Losses - Recon=0.60369, SNNL=11.54788]"
     ]
    }
   ],
   "source": [
    "print(f\" {datetime.now().strftime('%Y-%m-%d %H:%M:%S')}  Start: epoch {model.starting_epoch+1:4d} of {model.ending_epoch:4d}\")\n",
    "model.fit(args, data_loaders)\n",
    "print(f\" {datetime.now().strftime('%Y-%m-%d %H:%M:%S')}  End: epoch {model.epoch + 1:4d} of {model.ending_epoch:4d}\")"
   ]
  },
  {
   "cell_type": "code",
   "execution_count": null,
   "id": "71a78e3c-f780-430d-81fe-589bceea900a",
   "metadata": {},
   "outputs": [],
   "source": [
    "# model.use_temp_optimizer\n",
    "# take_checkpoint(model, args, epoch=306, update_best = True)\n",
    "# model.use_temp_optimizer\n",
    "# model.temp_params\n",
    "# model.anneal_patience = 30\n",
    "# model.optimizers['prim'].param_groups[0]\n",
    "# torch.get_num_threads()\n",
    "# torch.set_num_threads(3)"
   ]
  },
  {
   "cell_type": "code",
   "execution_count": 46,
   "id": "0927be49-85f5-4c34-a8e1-717016168df1",
   "metadata": {
    "execution": {
     "iopub.execute_input": "2024-09-21T04:28:50.974592Z",
     "iopub.status.busy": "2024-09-21T04:28:50.974121Z",
     "iopub.status.idle": "2024-09-21T04:28:51.019172Z",
     "shell.execute_reply": "2024-09-21T04:28:51.018313Z",
     "shell.execute_reply.started": "2024-09-21T04:28:50.974551Z"
    }
   },
   "outputs": [
    {
     "data": {
      "text/plain": [
       "(399, 300, 400)"
      ]
     },
     "execution_count": 46,
     "metadata": {},
     "output_type": "execute_result"
    }
   ],
   "source": [
    "model.epoch, model.starting_epoch, model.ending_epoch"
   ]
  },
  {
   "cell_type": "code",
   "execution_count": 50,
   "id": "45810b9a-9d1e-4913-bc64-71c12181b3b6",
   "metadata": {
    "execution": {
     "iopub.execute_input": "2024-09-22T16:46:42.513616Z",
     "iopub.status.busy": "2024-09-22T16:46:42.513082Z",
     "iopub.status.idle": "2024-09-22T16:46:42.617152Z",
     "shell.execute_reply": "2024-09-22T16:46:42.616450Z",
     "shell.execute_reply.started": "2024-09-22T16:46:42.513566Z"
    },
    "scrolled": true
   },
   "outputs": [
    {
     "name": "stdout",
     "output_type": "stream",
     "text": [
      "  time   ep / eps |  Trn_loss   Primary      SNNL  |   temp*         grad    |   R2      BestEp         |  Vld_loss   Primary      SNNL  |   R2       BestEp          |   LR        temp LR    |\n",
      "------------------+--------------------------------+-------------------------+--------------------------+--------------------------------+----------------------------|------------------------|\n",
      "20:16:29  1 /500  |  19.8031     0.6341    19.1690 |   1.000000   0.0000e+00 |  -4.5063    65           |  19.0093     0.4230    18.5863 |   0.3122    18             |  1.000e-03   0.000e+00 |\n",
      "20:19:29  2 /500  |  19.0338     0.3991    18.6346 |   1.000000   0.0000e+00 |   0.3937    65           |  18.8383     0.3705    18.4678 |   0.5538    18             |  1.000e-03   0.000e+00 |\n",
      "20:22:27  3 /500  |  18.9317     0.3717    18.5600 |   1.000000   0.0000e+00 |   0.5097    65           |  18.7954     0.3594    18.4360 |   0.5265    18             |  1.000e-03   0.000e+00 |\n",
      "20:25:30  4 /500  |  18.8822     0.3634    18.5188 |   1.000000   0.0000e+00 |   0.4756    65           |  18.7467     0.3512    18.3956 |   0.5986    18             |  1.000e-03   0.000e+00 |\n",
      "20:28:29  5 /500  |  18.8404     0.3567    18.4837 |   1.000000   0.0000e+00 |   0.5489    65           |  18.7229     0.3480    18.3749 |   0.6092    18             |  1.000e-03   0.000e+00 |\n",
      "20:31:27  6 /500  |  18.8139     0.3558    18.4581 |   1.000000   0.0000e+00 |   0.5363    65           |  18.7056     0.3447    18.3609 |   0.5845    18             |  1.000e-03   0.000e+00 |\n",
      "20:34:27  7 /500  |  18.7888     0.3509    18.4379 |   1.000000   0.0000e+00 |   0.5466    65           |  18.6928     0.3437    18.3491 |   0.5977    18             |  1.000e-03   0.000e+00 |\n",
      "20:37:23  8 /500  |  18.7745     0.3503    18.4243 |   1.000000   0.0000e+00 |   0.5421    65           |  18.6766     0.3408    18.3358 |   0.5978    18             |  1.000e-03   0.000e+00 |\n",
      "20:40:19  9 /500  |  18.7648     0.3499    18.4149 |   1.000000   0.0000e+00 |   0.5319    65           |  18.6647     0.3383    18.3264 |   0.6107    18             |  1.000e-03   0.000e+00 |\n",
      "20:43:17 10 /500  |  18.7517     0.3455    18.4062 |   1.000000   0.0000e+00 |   0.5438    65           |  18.6630     0.3360    18.3270 |   0.5972    18             |  1.000e-03   0.000e+00 |\n",
      "20:46:16 11 /500  |  18.7490     0.3478    18.4011 |   1.000000   0.0000e+00 |   0.5351    65           |  18.6678     0.3366    18.3312 |   0.6168    18             |  1.000e-03   0.000e+00 |\n",
      "20:49:13 12 /500  |  18.7280     0.3424    18.3855 |   1.000000   0.0000e+00 |   0.5501    65           |  18.6527     0.3361    18.3165 |   0.6049    18             |  1.000e-03   0.000e+00 |\n",
      "20:52:09 13 /500  |  18.7137     0.3425    18.3711 |   1.000000   0.0000e+00 |   0.5433    65           |  18.6478     0.3345    18.3133 |   0.6043    18             |  1.000e-03   0.000e+00 |\n",
      "20:55:05 14 /500  |  18.7109     0.3462    18.3648 |   1.000000   0.0000e+00 |   0.5535    65           |  18.6502     0.3377    18.3125 |   0.6031    18             |  1.000e-03   0.000e+00 |\n",
      "20:58:03 15 /500  |  18.7015     0.3437    18.3578 |   1.000000   0.0000e+00 |   0.5473    65           |  18.6563     0.3360    18.3203 |   0.5931    18             |  1.000e-03   0.000e+00 |\n",
      "21:01:01 16 /500  |  18.7046     0.3458    18.3588 |   1.000000   0.0000e+00 |   0.5384    65           |  18.6529     0.3403    18.3127 |   0.6117    18             |  1.000e-03   0.000e+00 |\n",
      "21:03:58 17 /500  |  18.7062     0.3422    18.3641 |   1.000000   0.0000e+00 |   0.5518    65           |  18.6483     0.3382    18.3101 |   0.6042    18             |  1.000e-03   0.000e+00 |\n",
      "21:06:53 18 /500  |  18.7045     0.3433    18.3612 |   1.000000   0.0000e+00 |   0.5484    65           |  18.6398     0.3366    18.3032 |   0.6180    18             |  1.000e-03   0.000e+00 |\n",
      "21:09:49 19 /500  |  18.6905     0.3416    18.3489 |   1.000000   0.0000e+00 |   0.5569    65           |  18.6316     0.3365    18.2951 |   0.6075    18             |  1.000e-03   0.000e+00 |\n",
      "21:12:47 20 /500  |  18.6754     0.3445    18.3309 |   1.000000   0.0000e+00 |   0.5471    65           |  18.6199     0.3365    18.2833 |   0.6098    18             |  1.000e-03   0.000e+00 |\n",
      "21:15:46 21 /500  |  18.6681     0.3424    18.3257 |   1.000000   0.0000e+00 |   0.5587    65           |  18.6166     0.3367    18.2799 |   0.6139    18             |  1.000e-03   0.000e+00 |\n",
      "21:18:43 22 /500  |  18.6669     0.3441    18.3228 |   1.000000   0.0000e+00 |   0.5585    65           |  18.6252     0.3356    18.2896 |   0.6125    18             |  1.000e-03   0.000e+00 |\n",
      "21:21:41 23 /500  |  18.6688     0.3433    18.3255 |   1.000000   0.0000e+00 |   0.5509    65           |  18.6331     0.3362    18.2969 |   0.6112    18             |  1.000e-03   0.000e+00 |\n",
      "21:24:39 24 /500  |  18.6730     0.3429    18.3300 |   1.000000   0.0000e+00 |   0.5402    65           |  18.6334     0.3370    18.2964 |   0.5872    18             |  1.000e-03   0.000e+00 |\n",
      "21:27:35 25 /500  |  18.6710     0.3436    18.3274 |   1.000000   0.0000e+00 |   0.5520    65           |  18.6231     0.3397    18.2834 |   0.5966    18             |  1.000e-03   0.000e+00 |\n",
      "21:30:34 26 /500  |  18.6575     0.3430    18.3145 |   1.000000   0.0000e+00 |   0.5512    65           |  18.6167     0.3371    18.2796 |   0.5848    18             |  1.000e-03   0.000e+00 |\n",
      "21:33:30 27 /500  |  18.6487     0.3443    18.3044 |   1.000000   0.0000e+00 |   0.5470    65           |  18.6200     0.3378    18.2822 |   0.5853    18             |  1.000e-03   0.000e+00 |\n",
      "21:36:28 28 /500  |  18.6452     0.3437    18.3015 |   1.000000   0.0000e+00 |   0.5621    65           |  18.6239     0.3367    18.2872 |   0.6087    18             |  1.000e-03   0.000e+00 |\n",
      "21:39:24 29 /500  |  18.6450     0.3441    18.3009 |   1.000000   0.0000e+00 |   0.5552    65           |  18.6237     0.3395    18.2842 |   0.6040    18             |  1.000e-03   0.000e+00 |\n",
      "21:42:22 30 /500  |  18.6445     0.3451    18.2994 |   1.000000   0.0000e+00 |   0.5580    65           |  18.6314     0.3396    18.2918 |   0.6029    18             |  1.000e-03   0.000e+00 |\n",
      "21:45:18 31 /500  |  18.6496     0.3451    18.3046 |   1.000000   0.0000e+00 |   0.5607    65           |  18.6392     0.3372    18.3020 |   0.6084    18             |  1.000e-03   0.000e+00 |\n",
      "21:48:15 32 /500  |  18.6492     0.3457    18.3035 |   1.000000   0.0000e+00 |   0.5569    65           |  18.6262     0.3366    18.2896 |   0.6019    18             |  1.000e-03   0.000e+00 |\n",
      "21:51:12 33 /500  |  18.6492     0.3444    18.3048 |   1.000000   0.0000e+00 |   0.5571    65           |  18.6181     0.3368    18.2813 |   0.5973    18             |  1.000e-03   0.000e+00 |\n",
      "21:54:09 34 /500  |  18.6568     0.3452    18.3116 |   1.000000   0.0000e+00 |   0.5536    65           |  18.6304     0.3373    18.2931 |   0.6096    18             |  1.000e-03   0.000e+00 |\n",
      "21:57:04 35 /500  |  18.6536     0.3436    18.3100 |   1.000000   0.0000e+00 |   0.5577    65           |  18.6242     0.3367    18.2875 |   0.6092    18             |  1.000e-03   0.000e+00 |\n",
      "22:00:03 36 /500  |  18.6417     0.3443    18.2974 |   1.000000   0.0000e+00 |   0.5629    65           |  18.6248     0.3366    18.2882 |   0.6055    18             |  1.000e-03   0.000e+00 |\n",
      "22:03:00 37 /500  |  18.6279     0.3455    18.2825 |   1.000000   0.0000e+00 |   0.5590    65           |  18.6156     0.3388    18.2769 |   0.6110    18             |  1.000e-03   0.000e+00 |\n",
      "22:05:58 38 /500  |  18.6211     0.3450    18.2761 |   1.000000   0.0000e+00 |   0.5570    65           |  18.6183     0.3396    18.2787 |   0.5944    18             |  1.000e-03   0.000e+00 |\n",
      "22:08:55 39 /500  |  18.6256     0.3455    18.2801 |   1.000000   0.0000e+00 |   0.5643    65           |  18.6238     0.3413    18.2825 |   0.6030    18             |  1.000e-03   0.000e+00 |\n",
      "22:11:51 40 /500  |  18.6260     0.3455    18.2804 |   1.000000   0.0000e+00 |   0.5596    65           |  18.6238     0.3382    18.2855 |   0.6071    18             |  1.000e-03   0.000e+00 |\n",
      "22:14:48 41 /500  |  18.6279     0.3452    18.2827 |   1.000000   0.0000e+00 |   0.5603    65           |  18.6080     0.3374    18.2706 |   0.6097    18             |  1.000e-03   0.000e+00 |\n",
      "22:17:44 42 /500  |  18.6293     0.3467    18.2826 |   1.000000   0.0000e+00 |   0.5635    65           |  18.6161     0.3382    18.2779 |   0.6047    18             |  1.000e-03   0.000e+00 |\n",
      "22:20:42 43 /500  |  18.6293     0.3453    18.2840 |   1.000000   0.0000e+00 |   0.5525    65           |  18.6209     0.3375    18.2834 |   0.5973    18             |  1.000e-03   0.000e+00 |\n",
      "22:23:40 44 /500  |  18.6299     0.3457    18.2842 |   1.000000   0.0000e+00 |   0.5628    65           |  18.6200     0.3394    18.2807 |   0.6079    18             |  1.000e-03   0.000e+00 |\n",
      "22:26:37 45 /500  |  18.6197     0.3443    18.2754 |   1.000000   0.0000e+00 |   0.5626    65           |  18.6150     0.3408    18.2742 |   0.5991    18             |  1.000e-03   0.000e+00 |\n",
      "22:29:33 46 /500  |  18.6150     0.3461    18.2690 |   1.000000   0.0000e+00 |   0.5616    65           |  18.6140     0.3420    18.2720 |   0.6012    18             |  1.000e-03   0.000e+00 |\n",
      "22:32:30 47 /500  |  18.6160     0.3458    18.2703 |   1.000000   0.0000e+00 |   0.5670    65           |  18.6096     0.3386    18.2711 |   0.6042    18             |  1.000e-03   0.000e+00 |\n",
      "22:35:26 48 /500  |  18.6194     0.3469    18.2725 |   1.000000   0.0000e+00 |   0.5620    65           |  18.6187     0.3406    18.2782 |   0.6030    18             |  1.000e-03   0.000e+00 |\n",
      "22:38:22 49 /500  |  18.6192     0.3467    18.2725 |   1.000000   0.0000e+00 |   0.5632    65           |  18.6218     0.3431    18.2787 |   0.6022    18             |  1.000e-03   0.000e+00 |\n",
      "22:41:17 50 /500  |  18.6223     0.3467    18.2756 |   1.000000   0.0000e+00 |   0.5616    65           |  18.6249     0.3403    18.2846 |   0.5940    18             |  1.000e-03   0.000e+00 |\n",
      "22:44:16 51 /500  |  18.6276     0.3449    18.2826 |   1.000000   0.0000e+00 |   0.5586    65           |  18.6197     0.3387    18.2810 |   0.5920    18             |  1.000e-03   0.000e+00 |\n",
      "22:47:14 52 /500  |  18.6242     0.3453    18.2789 |   1.000000   0.0000e+00 |   0.5611    65           |  18.6165     0.3387    18.2777 |   0.6008    18             |  1.000e-03   0.000e+00 |\n",
      "22:50:12 53 /500  |  18.6211     0.3453    18.2758 |   1.000000   0.0000e+00 |   0.5610    65           |  18.6102     0.3375    18.2727 |   0.5986    18             |  1.000e-03   0.000e+00 |\n",
      "22:53:07 54 /500  |  18.6275     0.3455    18.2820 |   1.000000   0.0000e+00 |   0.5597    65           |  18.6291     0.3377    18.2913 |   0.5936    18             |  1.000e-03   0.000e+00 |\n",
      "22:56:05 55 /500  |  18.6232     0.3467    18.2765 |   1.000000   0.0000e+00 |   0.5589    65           |  18.6212     0.3396    18.2816 |   0.5940    18             |  1.000e-03   0.000e+00 |\n",
      "22:59:00 56 /500  |  18.6181     0.3448    18.2732 |   1.000000   0.0000e+00 |   0.5657    65           |  18.6095     0.3387    18.2708 |   0.5998    18             |  1.000e-03   0.000e+00 |\n",
      "23:01:55 57 /500  |  18.6228     0.3461    18.2767 |   1.000000   0.0000e+00 |   0.5602    65           |  18.6126     0.3412    18.2715 |   0.5806    18             |  1.000e-03   0.000e+00 |\n",
      "23:04:52 58 /500  |  18.6238     0.3459    18.2778 |   1.000000   0.0000e+00 |   0.5678    65           |  18.6165     0.3386    18.2779 |   0.6030    18             |  1.000e-03   0.000e+00 |\n",
      "23:07:49 59 /500  |  18.6111     0.3453    18.2658 |   1.000000   0.0000e+00 |   0.5643    65           |  18.6176     0.3396    18.2780 |   0.5936    18             |  1.000e-03   0.000e+00 |\n",
      "23:10:47 60 /500  |  18.6056     0.3463    18.2592 |   1.000000   0.0000e+00 |   0.5645    65           |  18.6031     0.3377    18.2655 |   0.6078    18             |  1.000e-03   0.000e+00 |\n",
      "23:13:45 61 /500  |  18.6017     0.3459    18.2558 |   1.000000   0.0000e+00 |   0.5660    65           |  18.6142     0.3474    18.2668 |   0.5911    18             |  1.000e-03   0.000e+00 |\n",
      "23:16:40 62 /500  |  18.6016     0.3469    18.2547 |   1.000000   0.0000e+00 |   0.5589    65           |  18.6224     0.3415    18.2809 |   0.5972    18             |  1.000e-03   0.000e+00 |\n",
      "23:19:36 63 /500  |  18.6046     0.3468    18.2578 |   1.000000   0.0000e+00 |   0.5627    65           |  18.6117     0.3382    18.2735 |   0.6069    18             |  1.000e-03   0.000e+00 |\n",
      "23:22:31 64 /500  |  18.6111     0.3464    18.2647 |   1.000000   0.0000e+00 |   0.5610    65           |  18.6206     0.3416    18.2790 |   0.6022    18             |  1.000e-03   0.000e+00 |\n",
      "23:25:28 65 /500  |  18.5840     0.3387    18.2453 |   1.000000   0.0000e+00 |   0.5987    65           |  18.5755     0.3338    18.2417 |   0.6154    18             |  5.000e-04   0.000e+00 |\n",
      "23:28:25 66 /500  |  18.5640     0.3389    18.2250 |   1.000000   0.0000e+00 |   0.5934    65           |  18.5745     0.3346    18.2400 |   0.6140    18             |  5.000e-04   0.000e+00 |\n",
      "23:31:21 67 /500  |  18.5537     0.3398    18.2139 |   1.000000   0.0000e+00 |   0.5935    65           |  18.5778     0.3356    18.2422 |   0.6141    18             |  5.000e-04   0.000e+00 |\n",
      "23:34:18 68 /500  |  18.5467     0.3408    18.2059 |   1.000000   0.0000e+00 |   0.5941    65           |  18.5811     0.3367    18.2444 |   0.6143    18             |  5.000e-04   0.000e+00 |\n",
      "23:37:14 69 /500  |  18.5420     0.3419    18.2001 |   1.000000   0.0000e+00 |   0.5935    65           |  18.5841     0.3373    18.2468 |   0.6101    18             |  5.000e-04   0.000e+00 |\n",
      "23:40:10 70 /500  |  17.8182     0.3466    17.4716 |   0.683020   0.0000e+00 |   0.5886    65           |  17.9311     0.3415    17.5895 |   0.6006    18             |  5.000e-04   0.000e+00 |\n",
      "23:43:07 71 /500  |  17.8086     0.3476    17.4609 |   0.683020   0.0000e+00 |   0.5861    65           |  17.9411     0.3420    17.5992 |   0.5941    18             |  5.000e-04   0.000e+00 |\n",
      "23:46:02 72 /500  |  17.8004     0.3482    17.4522 |   0.683020   0.0000e+00 |   0.5881    65           |  17.9445     0.3426    17.6019 |   0.6076    18             |  5.000e-04   0.000e+00 |\n",
      "23:48:58 73 /500  |  17.7989     0.3480    17.4509 |   0.683020   0.0000e+00 |   0.5861    65           |  17.9489     0.3427    17.6062 |   0.6025    18             |  5.000e-04   0.000e+00 |\n",
      "23:51:56 74 /500  |  17.8034     0.3487    17.4546 |   0.683020   0.0000e+00 |   0.5865    65           |  17.9507     0.3448    17.6059 |   0.5900    18             |  5.000e-04   0.000e+00 |\n",
      "23:54:50 75 /500  |  17.7917     0.3492    17.4425 |   0.683020   0.0000e+00 |   0.5876    65           |  17.9373     0.3439    17.5933 |   0.5901    18             |  5.000e-04   0.000e+00 |\n",
      "23:57:46 76 /500  |  17.7795     0.3494    17.4301 |   0.683020   0.0000e+00 |   0.5867    65           |  17.9499     0.3442    17.6056 |   0.5959    18             |  5.000e-04   0.000e+00 |\n",
      "00:00:43 77 /500  |  17.7715     0.3504    17.4210 |   0.683020   0.0000e+00 |   0.5867    65           |  17.9578     0.3455    17.6123 |   0.5874    18             |  5.000e-04   0.000e+00 |\n",
      "00:03:40 78 /500  |  17.7721     0.3515    17.4206 |   0.683020   0.0000e+00 |   0.5855    65           |  17.9516     0.3451    17.6065 |   0.5953    18             |  5.000e-04   0.000e+00 |\n",
      "00:06:36 79 /500  |  17.7663     0.3517    17.4145 |   0.683020   0.0000e+00 |   0.5831    65           |  17.9334     0.3470    17.5864 |   0.5921    18             |  5.000e-04   0.000e+00 |\n",
      "00:09:33 80 /500  |  17.7642     0.3522    17.4120 |   0.683020   0.0000e+00 |   0.5815    65           |  17.9366     0.3474    17.5891 |   0.5991    18             |  5.000e-04   0.000e+00 |\n",
      "00:12:33 81 /500  |  17.7657     0.3528    17.4129 |   0.683020   0.0000e+00 |   0.5824    65           |  17.9341     0.3472    17.5868 |   0.5901    18             |  5.000e-04   0.000e+00 |\n",
      "00:15:27 82 /500  |  17.7641     0.3540    17.4101 |   0.683020   0.0000e+00 |   0.5828    65           |  17.9291     0.3477    17.5814 |   0.6047    18             |  5.000e-04   0.000e+00 |\n",
      "00:18:22 83 /500  |  17.7638     0.3537    17.4102 |   0.683020   0.0000e+00 |   0.5812    65           |  17.9418     0.3491    17.5927 |   0.6003    18             |  5.000e-04   0.000e+00 |\n",
      "00:21:15 84 /500  |  17.7648     0.3542    17.4105 |   0.683020   0.0000e+00 |   0.5797    65           |  17.9450     0.3501    17.5949 |   0.5801    18             |  5.000e-04   0.000e+00 |\n",
      "00:24:10 85 /500  |  17.7729     0.3543    17.4186 |   0.683020   0.0000e+00 |   0.5818    65           |  17.9447     0.3497    17.5950 |   0.5956    18             |  5.000e-04   0.000e+00 |\n",
      "00:27:03 86 /500  |  17.7699     0.3541    17.4157 |   0.683020   0.0000e+00 |   0.5821    65           |  17.9425     0.3499    17.5925 |   0.5973    18             |  5.000e-04   0.000e+00 |\n",
      "00:29:58 87 /500  |  17.7576     0.3547    17.4028 |   0.683020   0.0000e+00 |   0.5803    65           |  17.9364     0.3502    17.5862 |   0.5973    18             |  5.000e-04   0.000e+00 |\n",
      "00:32:53 88 /500  |  17.7428     0.3556    17.3872 |   0.683020   0.0000e+00 |   0.5799    65           |  17.9273     0.3511    17.5762 |   0.5922    18             |  5.000e-04   0.000e+00 |\n",
      "00:35:48 89 /500  |  17.7333     0.3565    17.3768 |   0.683020   0.0000e+00 |   0.5782    65           |  17.9360     0.3508    17.5852 |   0.5775    18             |  5.000e-04   0.000e+00 |\n",
      "00:38:46 90 /500  |  17.7280     0.3573    17.3708 |   0.683020   0.0000e+00 |   0.5795    65           |  17.9413     0.3529    17.5885 |   0.6012    18             |  5.000e-04   0.000e+00 |\n",
      "00:41:43 91 /500  |  17.7202     0.3580    17.3622 |   0.683020   0.0000e+00 |   0.5787    65           |  17.9456     0.3526    17.5930 |   0.5966    18             |  5.000e-04   0.000e+00 |\n",
      "00:44:40 92 /500  |  17.7134     0.3590    17.3544 |   0.683020   0.0000e+00 |   0.5779    65           |  17.9528     0.3540    17.5988 |   0.5874    18             |  5.000e-04   0.000e+00 |\n",
      "00:47:39 93 /500  |  17.7107     0.3602    17.3505 |   0.683020   0.0000e+00 |   0.5760    65           |  17.9496     0.3551    17.5944 |   0.5749    18             |  5.000e-04   0.000e+00 |\n",
      "00:50:37 94 /500  |  17.7066     0.3605    17.3460 |   0.683020   0.0000e+00 |   0.5742    65           |  17.9548     0.3550    17.5997 |   0.5788    18             |  5.000e-04   0.000e+00 |\n",
      "00:53:33 95 /500  |  17.7067     0.3611    17.3456 |   0.683020   0.0000e+00 |   0.5757    65           |  17.9448     0.3549    17.5900 |   0.5830    18             |  5.000e-04   0.000e+00 |\n",
      "00:56:31 96 /500  |  17.7076     0.3617    17.3459 |   0.683020   0.0000e+00 |   0.5744    65           |  17.9598     0.3573    17.6025 |   0.5693    18             |  5.000e-04   0.000e+00 |\n",
      "00:59:32 97 /500  |  17.7119     0.3618    17.3501 |   0.683020   0.0000e+00 |   0.5734    65           |  17.9765     0.3563    17.6201 |   0.5797    18             |  5.000e-04   0.000e+00 |\n",
      "01:02:29 98 /500  |  17.7205     0.3620    17.3585 |   0.683020   0.0000e+00 |   0.5759    65           |  17.9710     0.3597    17.6114 |   0.5812    18             |  5.000e-04   0.000e+00 |\n",
      "01:05:27 99 /500  |  17.7203     0.3617    17.3585 |   0.683020   0.0000e+00 |   0.5727    65           |  17.9637     0.3555    17.6082 |   0.5868    18             |  5.000e-04   0.000e+00 |\n",
      "01:08:23 100/500  |  17.7216     0.3618    17.3598 |   0.683020   0.0000e+00 |   0.5731    65           |  17.9664     0.3559    17.6106 |   0.5852    18             |  5.000e-04   0.000e+00 |\n",
      "20:19:47 101/500  |  17.1981     0.3633    16.8348 |   0.546491   0.0000e+00 |   0.5734    65           |  17.5506     0.3574    17.1932 |   0.5784    18             |  5.000e-04   0.000e+00 |\n",
      "20:22:51 102/500  |  17.1896     0.3642    16.8254 |   0.546491   0.0000e+00 |   0.5704    65           |  17.5572     0.3585    17.1987 |   0.5643    18             |  5.000e-04   0.000e+00 |\n",
      "20:25:54 103/500  |  17.1963     0.3655    16.8308 |   0.546491   0.0000e+00 |   0.5693    65           |  17.5943     0.3594    17.2349 |   0.5887    18             |  5.000e-04   0.000e+00 |\n",
      "20:28:54 104/500  |  17.1964     0.3657    16.8307 |   0.546491   0.0000e+00 |   0.5716    65           |  17.5758     0.3600    17.2159 |   0.5858    18             |  5.000e-04   0.000e+00 |\n",
      "20:31:53 105/500  |  17.2022     0.3655    16.8367 |   0.546491   0.0000e+00 |   0.5708    65           |  17.5506     0.3612    17.1894 |   0.5814    18             |  5.000e-04   0.000e+00 |\n",
      "20:34:54 106/500  |  17.2006     0.3664    16.8342 |   0.546491   0.0000e+00 |   0.5700    65           |  17.5405     0.3618    17.1787 |   0.5716    18             |  5.000e-04   0.000e+00 |\n",
      "20:37:56 107/500  |  17.1948     0.3663    16.8284 |   0.546491   0.0000e+00 |   0.5685    65           |  17.5394     0.3628    17.1766 |   0.5754    18             |  5.000e-04   0.000e+00 |\n",
      "20:40:57 108/500  |  17.1871     0.3667    16.8204 |   0.546491   0.0000e+00 |   0.5689    65           |  17.5530     0.3643    17.1887 |   0.5734    18             |  5.000e-04   0.000e+00 |\n",
      "20:43:57 109/500  |  17.1815     0.3674    16.8141 |   0.546491   0.0000e+00 |   0.5665    65           |  17.5454     0.3631    17.1823 |   0.5724    18             |  5.000e-04   0.000e+00 |\n",
      "20:46:55 110/500  |  17.1883     0.3681    16.8202 |   0.546491   0.0000e+00 |   0.5654    65           |  17.5305     0.3640    17.1665 |   0.5650    18             |  5.000e-04   0.000e+00 |\n",
      "20:49:56 111/500  |  17.1910     0.3678    16.8232 |   0.546491   0.0000e+00 |   0.5673    65           |  17.5240     0.3638    17.1601 |   0.5841    18             |  5.000e-04   0.000e+00 |\n",
      "20:52:55 112/500  |  17.1898     0.3689    16.8209 |   0.546491   0.0000e+00 |   0.5677    65           |  17.5318     0.3637    17.1681 |   0.5832    18             |  5.000e-04   0.000e+00 |\n",
      "20:55:58 113/500  |  17.1705     0.3689    16.8016 |   0.546491   0.0000e+00 |   0.5665    65           |  17.5463     0.3654    17.1809 |   0.5868    18             |  5.000e-04   0.000e+00 |\n",
      "20:59:01 114/500  |  17.1642     0.3698    16.7944 |   0.546491   0.0000e+00 |   0.5676    65           |  17.5479     0.3640    17.1839 |   0.5804    18             |  5.000e-04   0.000e+00 |\n",
      "21:02:01 115/500  |  17.1558     0.3709    16.7849 |   0.546491   0.0000e+00 |   0.5645    65           |  17.5361     0.3666    17.1695 |   0.5594    18             |  5.000e-04   0.000e+00 |\n",
      "21:05:03 116/500  |  17.1480     0.3719    16.7760 |   0.546491   0.0000e+00 |   0.5647    65           |  17.5437     0.3678    17.1759 |   0.5738    18             |  5.000e-04   0.000e+00 |\n",
      "21:08:04 117/500  |  17.1409     0.3730    16.7679 |   0.546491   0.0000e+00 |   0.5652    65           |  17.5567     0.3697    17.1870 |   0.5771    18             |  5.000e-04   0.000e+00 |\n",
      "21:11:03 118/500  |  17.1379     0.3740    16.7639 |   0.546491   0.0000e+00 |   0.5630    65           |  17.5571     0.3693    17.1878 |   0.5733    18             |  5.000e-04   0.000e+00 |\n",
      "21:14:03 119/500  |  17.1381     0.3742    16.7639 |   0.546491   0.0000e+00 |   0.5617    65           |  17.5783     0.3690    17.2093 |   0.5722    18             |  5.000e-04   0.000e+00 |\n",
      "21:17:04 120/500  |  17.1432     0.3741    16.7691 |   0.546491   0.0000e+00 |   0.5622    65           |  17.5769     0.3687    17.2081 |   0.5794    18             |  5.000e-04   0.000e+00 |\n",
      "21:20:04 121/500  |  17.1477     0.3747    16.7730 |   0.546491   0.0000e+00 |   0.5624    65           |  17.5606     0.3684    17.1922 |   0.5743    18             |  5.000e-04   0.000e+00 |\n",
      "21:23:04 122/500  |  17.1567     0.3747    16.7820 |   0.546491   0.0000e+00 |   0.5602    65           |  17.5678     0.3704    17.1974 |   0.5710    18             |  5.000e-04   0.000e+00 |\n",
      "21:26:03 123/500  |  17.1570     0.3750    16.7820 |   0.546491   0.0000e+00 |   0.5565    65           |  17.5449     0.3696    17.1753 |   0.5714    18             |  5.000e-04   0.000e+00 |\n",
      "21:29:03 124/500  |  17.1512     0.3751    16.7760 |   0.546491   0.0000e+00 |   0.5594    65           |  17.5656     0.3735    17.1921 |   0.5718    18             |  5.000e-04   0.000e+00 |\n",
      "21:32:01 125/500  |  17.1481     0.3762    16.7719 |   0.546491   0.0000e+00 |   0.5584    65           |  17.5563     0.3720    17.1843 |   0.5735    18             |  5.000e-04   0.000e+00 |\n",
      "21:35:01 126/500  |  17.1407     0.3702    16.7705 |   0.546491   0.0000e+00 |   0.5825    65           |  17.5358     0.3654    17.1704 |   0.5944    18             |  2.500e-04   0.000e+00 |\n",
      "21:38:01 127/500  |  17.1087     0.3710    16.7377 |   0.546491   0.0000e+00 |   0.5814    65           |  17.5622     0.3671    17.1951 |   0.5902    18             |  2.500e-04   0.000e+00 |\n",
      "21:41:01 128/500  |  17.0880     0.3725    16.7155 |   0.546491   0.0000e+00 |   0.5795    65           |  17.5527     0.3683    17.1844 |   0.5885    18             |  2.500e-04   0.000e+00 |\n",
      "21:43:59 129/500  |  17.0729     0.3740    16.6990 |   0.546491   0.0000e+00 |   0.5780    65           |  17.5512     0.3702    17.1809 |   0.5842    18             |  2.500e-04   0.000e+00 |\n",
      "21:46:58 130/500  |  17.0598     0.3756    16.6842 |   0.546491   0.0000e+00 |   0.5761    65           |  17.5507     0.3719    17.1789 |   0.5813    18             |  2.500e-04   0.000e+00 |\n",
      "21:49:55 131/500  |  17.0495     0.3770    16.6725 |   0.546491   0.0000e+00 |   0.5747    65           |  17.5556     0.3732    17.1823 |   0.5806    18             |  2.500e-04   0.000e+00 |\n",
      "21:52:54 132/500  |  16.6383     0.3780    16.2602 |   0.466516   0.0000e+00 |   0.5733    65           |  17.2507     0.3742    16.8766 |   0.5811    18             |  2.500e-04   0.000e+00 |\n",
      "21:55:54 133/500  |  16.6310     0.3794    16.2516 |   0.466516   0.0000e+00 |   0.5722    65           |  17.2538     0.3760    16.8778 |   0.5764    18             |  2.500e-04   0.000e+00 |\n",
      "21:58:53 134/500  |  16.6266     0.3807    16.2459 |   0.466516   0.0000e+00 |   0.5702    65           |  17.2639     0.3771    16.8868 |   0.5774    18             |  2.500e-04   0.000e+00 |\n",
      "22:01:53 135/500  |  16.6246     0.3819    16.2427 |   0.466516   0.0000e+00 |   0.5695    65           |  17.2688     0.3780    16.8909 |   0.5783    18             |  2.500e-04   0.000e+00 |\n",
      "22:04:50 136/500  |  16.6246     0.3829    16.2416 |   0.466516   0.0000e+00 |   0.5694    65           |  17.2753     0.3802    16.8951 |   0.5802    18             |  2.500e-04   0.000e+00 |\n",
      "22:07:49 137/500  |  16.6317     0.3837    16.2480 |   0.466516   0.0000e+00 |   0.5680    65           |  17.2656     0.3809    16.8847 |   0.5747    18             |  2.500e-04   0.000e+00 |\n",
      "22:10:51 138/500  |  16.6440     0.3845    16.2595 |   0.466516   0.0000e+00 |   0.5668    65           |  17.2833     0.3813    16.9020 |   0.5789    18             |  2.500e-04   0.000e+00 |\n",
      "22:13:50 139/500  |  16.6587     0.3846    16.2741 |   0.466516   0.0000e+00 |   0.5674    65           |  17.2835     0.3803    16.9032 |   0.5754    18             |  2.500e-04   0.000e+00 |\n",
      "22:16:49 140/500  |  16.6570     0.3844    16.2726 |   0.466516   0.0000e+00 |   0.5670    65           |  17.2967     0.3812    16.9155 |   0.5785    18             |  2.500e-04   0.000e+00 |\n",
      "22:19:48 141/500  |  16.6452     0.3857    16.2595 |   0.466516   0.0000e+00 |   0.5660    65           |  17.2887     0.3824    16.9063 |   0.5680    18             |  2.500e-04   0.000e+00 |\n",
      "22:22:48 142/500  |  16.6346     0.3867    16.2479 |   0.466516   0.0000e+00 |   0.5647    65           |  17.2927     0.3825    16.9102 |   0.5727    18             |  2.500e-04   0.000e+00 |\n",
      "22:25:49 143/500  |  16.6262     0.3878    16.2383 |   0.466516   0.0000e+00 |   0.5644    65           |  17.2862     0.3843    16.9019 |   0.5721    18             |  2.500e-04   0.000e+00 |\n",
      "22:28:50 144/500  |  16.6173     0.3889    16.2283 |   0.466516   0.0000e+00 |   0.5631    65           |  17.2803     0.3848    16.8956 |   0.5748    18             |  2.500e-04   0.000e+00 |\n",
      "22:31:51 145/500  |  16.6110     0.3898    16.2212 |   0.466516   0.0000e+00 |   0.5628    65           |  17.2856     0.3861    16.8995 |   0.5734    18             |  2.500e-04   0.000e+00 |\n",
      "22:34:50 146/500  |  16.6086     0.3906    16.2180 |   0.466516   0.0000e+00 |   0.5619    65           |  17.2993     0.3863    16.9130 |   0.5705    18             |  2.500e-04   0.000e+00 |\n",
      "22:37:51 147/500  |  16.6104     0.3918    16.2187 |   0.466516   0.0000e+00 |   0.5606    65           |  17.3072     0.3869    16.9203 |   0.5746    18             |  2.500e-04   0.000e+00 |\n",
      "22:40:53 148/500  |  16.6174     0.3920    16.2255 |   0.466516   0.0000e+00 |   0.5598    65           |  17.3078     0.3870    16.9209 |   0.5710    18             |  2.500e-04   0.000e+00 |\n",
      "22:43:57 149/500  |  16.6152     0.3926    16.2226 |   0.466516   0.0000e+00 |   0.5597    65           |  17.3423     0.3872    16.9550 |   0.5688    18             |  2.500e-04   0.000e+00 |\n",
      "22:46:56 150/500  |  16.6211     0.3929    16.2282 |   0.466516   0.0000e+00 |   0.5592    65           |  17.3319     0.3886    16.9432 |   0.5708    18             |  2.500e-04   0.000e+00 |\n",
      "22:49:55 151/500  |  16.6292     0.3932    16.2360 |   0.466516   0.0000e+00 |   0.5577    65           |  17.3257     0.3881    16.9377 |   0.5726    18             |  2.500e-04   0.000e+00 |\n",
      "22:52:56 152/500  |  16.6241     0.3943    16.2299 |   0.466516   0.0000e+00 |   0.5575    65           |  17.2903     0.3886    16.9017 |   0.5721    18             |  2.500e-04   0.000e+00 |\n",
      "22:55:59 153/500  |  16.6222     0.3943    16.2279 |   0.466516   0.0000e+00 |   0.5564    65           |  17.3167     0.3902    16.9265 |   0.5629    18             |  2.500e-04   0.000e+00 |\n",
      "22:58:58 154/500  |  16.6191     0.3949    16.2243 |   0.466516   0.0000e+00 |   0.5563    65           |  17.3177     0.3901    16.9276 |   0.5698    18             |  2.500e-04   0.000e+00 |\n",
      "23:01:58 155/500  |  16.6129     0.3961    16.2168 |   0.466516   0.0000e+00 |   0.5545    65           |  17.3063     0.3919    16.9144 |   0.5664    18             |  2.500e-04   0.000e+00 |\n",
      "23:04:57 156/500  |  16.6122     0.3966    16.2156 |   0.466516   0.0000e+00 |   0.5547    65           |  17.2882     0.3927    16.8955 |   0.5638    18             |  2.500e-04   0.000e+00 |\n",
      "23:07:56 157/500  |  16.6100     0.3974    16.2126 |   0.466516   0.0000e+00 |   0.5544    65           |  17.3029     0.3938    16.9090 |   0.5653    18             |  2.500e-04   0.000e+00 |\n",
      "23:10:55 158/500  |  16.6076     0.3979    16.2097 |   0.466516   0.0000e+00 |   0.5537    65           |  17.3341     0.3951    16.9391 |   0.5599    18             |  2.500e-04   0.000e+00 |\n",
      "23:13:56 159/500  |  16.6006     0.3991    16.2015 |   0.466516   0.0000e+00 |   0.5523    65           |  17.3334     0.3961    16.9373 |   0.5626    18             |  2.500e-04   0.000e+00 |\n",
      "23:16:54 160/500  |  16.5908     0.4004    16.1904 |   0.466516   0.0000e+00 |   0.5506    65           |  17.3140     0.3978    16.9162 |   0.5636    18             |  2.500e-04   0.000e+00 |\n",
      "23:19:54 161/500  |  16.5757     0.4019    16.1738 |   0.466516   0.0000e+00 |   0.5508    65           |  17.3247     0.3991    16.9256 |   0.5604    18             |  2.500e-04   0.000e+00 |\n",
      "23:22:52 162/500  |  16.5651     0.4033    16.1619 |   0.466516   0.0000e+00 |   0.5488    65           |  17.3177     0.4005    16.9172 |   0.5583    18             |  2.500e-04   0.000e+00 |\n",
      "23:25:50 163/500  |  16.2133     0.4043    15.8090 |   0.412635   0.0000e+00 |   0.5481    65           |  17.0881     0.4020    16.6861 |   0.5570    18             |  2.500e-04   0.000e+00 |\n",
      "23:28:48 164/500  |  16.2001     0.4064    15.7938 |   0.412635   0.0000e+00 |   0.5466    65           |  17.0854     0.4038    16.6817 |   0.5534    18             |  2.500e-04   0.000e+00 |\n",
      "23:31:47 165/500  |  16.1903     0.4073    15.7831 |   0.412635   0.0000e+00 |   0.5453    65           |  17.0776     0.4050    16.6725 |   0.5484    18             |  2.500e-04   0.000e+00 |\n",
      "23:34:45 166/500  |  16.1848     0.4083    15.7765 |   0.412635   0.0000e+00 |   0.5437    65           |  17.0804     0.4067    16.6737 |   0.5532    18             |  2.500e-04   0.000e+00 |\n",
      "23:37:43 167/500  |  16.1801     0.4096    15.7706 |   0.412635   0.0000e+00 |   0.5430    65           |  17.0914     0.4078    16.6836 |   0.5495    18             |  2.500e-04   0.000e+00 |\n",
      "23:40:40 168/500  |  16.1809     0.4106    15.7702 |   0.412635   0.0000e+00 |   0.5420    65           |  17.0976     0.4080    16.6896 |   0.5533    18             |  2.500e-04   0.000e+00 |\n",
      "23:43:39 169/500  |  16.1822     0.4118    15.7704 |   0.412635   0.0000e+00 |   0.5420    65           |  17.1037     0.4093    16.6944 |   0.5495    18             |  2.500e-04   0.000e+00 |\n",
      "23:46:37 170/500  |  16.1931     0.4120    15.7811 |   0.412635   0.0000e+00 |   0.5416    65           |  17.0824     0.4098    16.6726 |   0.5510    18             |  2.500e-04   0.000e+00 |\n",
      "23:49:35 171/500  |  16.1965     0.4127    15.7838 |   0.412635   0.0000e+00 |   0.5404    65           |  17.0703     0.4095    16.6607 |   0.5508    18             |  2.500e-04   0.000e+00 |\n",
      "23:52:33 172/500  |  16.1988     0.4130    15.7858 |   0.412635   0.0000e+00 |   0.5403    65           |  17.0727     0.4115    16.6612 |   0.5466    18             |  2.500e-04   0.000e+00 |\n",
      "23:55:31 173/500  |  16.1968     0.4139    15.7829 |   0.412635   0.0000e+00 |   0.5393    65           |  17.0751     0.4104    16.6647 |   0.5511    18             |  2.500e-04   0.000e+00 |\n",
      "23:58:32 174/500  |  16.1962     0.4142    15.7821 |   0.412635   0.0000e+00 |   0.5388    65           |  17.0814     0.4116    16.6698 |   0.5509    18             |  2.500e-04   0.000e+00 |\n",
      "00:01:31 175/500  |  16.1916     0.4152    15.7764 |   0.412635   0.0000e+00 |   0.5379    65           |  17.0834     0.4114    16.6720 |   0.5497    18             |  2.500e-04   0.000e+00 |\n",
      "00:04:31 176/500  |  16.1906     0.4159    15.7747 |   0.412635   0.0000e+00 |   0.5366    65           |  17.0923     0.4121    16.6802 |   0.5423    18             |  2.500e-04   0.000e+00 |\n",
      "00:07:30 177/500  |  16.1874     0.4161    15.7713 |   0.412635   0.0000e+00 |   0.5361    65           |  17.1017     0.4130    16.6887 |   0.5420    18             |  2.500e-04   0.000e+00 |\n",
      "00:10:29 178/500  |  16.1883     0.4170    15.7713 |   0.412635   0.0000e+00 |   0.5356    65           |  17.1306     0.4145    16.7161 |   0.5401    18             |  2.500e-04   0.000e+00 |\n",
      "00:13:26 179/500  |  16.1859     0.4172    15.7687 |   0.412635   0.0000e+00 |   0.5345    65           |  17.1461     0.4159    16.7302 |   0.5399    18             |  2.500e-04   0.000e+00 |\n",
      "00:16:30 180/500  |  16.1724     0.4187    15.7538 |   0.412635   0.0000e+00 |   0.5345    65           |  17.1578     0.4168    16.7410 |   0.5386    18             |  2.500e-04   0.000e+00 |\n",
      "00:19:28 181/500  |  16.1620     0.4206    15.7414 |   0.412635   0.0000e+00 |   0.5326    65           |  17.1398     0.4174    16.7223 |   0.5402    18             |  2.500e-04   0.000e+00 |\n",
      "00:22:25 182/500  |  16.1440     0.4206    15.7235 |   0.412635   0.0000e+00 |   0.5324    65           |  17.1179     0.4173    16.7005 |   0.5396    18             |  2.500e-04   0.000e+00 |\n",
      "00:25:23 183/500  |  16.1354     0.4215    15.7139 |   0.412635   0.0000e+00 |   0.5318    65           |  17.1235     0.4193    16.7042 |   0.5369    18             |  2.500e-04   0.000e+00 |\n",
      "00:28:21 184/500  |  16.1321     0.4235    15.7086 |   0.412635   0.0000e+00 |   0.5294    65           |  17.1258     0.4203    16.7055 |   0.5373    18             |  2.500e-04   0.000e+00 |\n",
      "00:31:18 185/500  |  16.1181     0.4236    15.6945 |   0.412635   0.0000e+00 |   0.5290    65           |  17.1291     0.4209    16.7082 |   0.5363    18             |  2.500e-04   0.000e+00 |\n",
      "00:34:16 186/500  |  16.1162     0.4245    15.6917 |   0.412635   0.0000e+00 |   0.5281    65           |  17.1069     0.4218    16.6851 |   0.5365    18             |  2.500e-04   0.000e+00 |\n",
      "00:37:17 187/500  |  16.1406     0.4202    15.7204 |   0.412635   0.0000e+00 |   0.5406    65           |  17.0883     0.4160    16.6723 |   0.5482    18             |  1.250e-04   0.000e+00 |\n",
      "00:40:15 188/500  |  16.0999     0.4210    15.6789 |   0.412635   0.0000e+00 |   0.5403    65           |  17.0929     0.4181    16.6748 |   0.5467    18             |  1.250e-04   0.000e+00 |\n",
      "00:43:13 189/500  |  16.0697     0.4225    15.6472 |   0.412635   0.0000e+00 |   0.5385    65           |  17.1057     0.4197    16.6859 |   0.5456    18             |  1.250e-04   0.000e+00 |\n",
      "00:46:10 190/500  |  16.0471     0.4240    15.6232 |   0.412635   0.0000e+00 |   0.5369    65           |  17.1147     0.4213    16.6934 |   0.5443    18             |  1.250e-04   0.000e+00 |\n",
      "00:49:12 191/500  |  16.0282     0.4253    15.6029 |   0.412635   0.0000e+00 |   0.5355    65           |  17.1260     0.4225    16.7035 |   0.5433    18             |  1.250e-04   0.000e+00 |\n",
      "00:52:10 192/500  |  16.0109     0.4266    15.5843 |   0.412635   0.0000e+00 |   0.5341    65           |  17.1299     0.4236    16.7063 |   0.5422    18             |  1.250e-04   0.000e+00 |\n",
      "00:55:07 193/500  |  15.9967     0.4279    15.5688 |   0.412635   0.0000e+00 |   0.5327    65           |  17.1374     0.4254    16.7119 |   0.5403    18             |  1.250e-04   0.000e+00 |\n",
      "00:58:04 194/500  |  15.6777     0.4286    15.2491 |   0.373265   0.0000e+00 |   0.5319    65           |  16.9596     0.4262    16.5335 |   0.5396    18             |  1.250e-04   0.000e+00 |\n",
      "01:01:04 195/500  |  15.6672     0.4302    15.2370 |   0.373265   0.0000e+00 |   0.5304    65           |  16.9705     0.4276    16.5430 |   0.5378    18             |  1.250e-04   0.000e+00 |\n",
      "01:04:01 196/500  |  15.6587     0.4316    15.2271 |   0.373265   0.0000e+00 |   0.5290    65           |  16.9706     0.4284    16.5422 |   0.5372    18             |  1.250e-04   0.000e+00 |\n",
      "01:07:01 197/500  |  15.6482     0.4331    15.2152 |   0.373265   0.0000e+00 |   0.5278    65           |  16.9862     0.4303    16.5558 |   0.5350    18             |  1.250e-04   0.000e+00 |\n",
      "01:10:00 198/500  |  15.6397     0.4344    15.2053 |   0.373265   0.0000e+00 |   0.5261    65           |  16.9934     0.4318    16.5617 |   0.5338    18             |  1.250e-04   0.000e+00 |\n",
      "01:12:58 199/500  |  15.6295     0.4359    15.1936 |   0.373265   0.0000e+00 |   0.5245    65           |  16.9869     0.4328    16.5541 |   0.5324    18             |  1.250e-04   0.000e+00 |\n",
      "01:15:58 200/500  |  15.6209     0.4373    15.1836 |   0.373265   0.0000e+00 |   0.5232    65           |  16.9982     0.4348    16.5635 |   0.5307    18             |  1.250e-04   0.000e+00 |\n",
      "19:49:51 201/500  |  15.6137     0.4387    15.1750 |   0.373265   0.0000e+00 |   0.5218    65           |  17.0011     0.4356    16.5655 |   0.5296    18             |  1.250e-04   0.000e+00 |\n",
      "19:52:50 202/500  |  15.6069     0.4400    15.1669 |   0.373265   0.0000e+00 |   0.5204    65           |  17.0111     0.4373    16.5739 |   0.5282    18             |  1.250e-04   0.000e+00 |\n",
      "19:55:49 203/500  |  15.6024     0.4413    15.1612 |   0.373265   0.0000e+00 |   0.5195    65           |  17.0018     0.4379    16.5638 |   0.5275    18             |  1.250e-04   0.000e+00 |\n",
      "19:58:48 204/500  |  15.5983     0.4428    15.1555 |   0.373265   0.0000e+00 |   0.5174    65           |  17.0031     0.4395    16.5636 |   0.5258    18             |  1.250e-04   0.000e+00 |\n",
      "20:01:48 205/500  |  15.5980     0.4439    15.1541 |   0.373265   0.0000e+00 |   0.5166    65           |  17.0385     0.4418    16.5967 |   0.5235    18             |  1.250e-04   0.000e+00 |\n",
      "20:04:46 206/500  |  15.6016     0.4449    15.1567 |   0.373265   0.0000e+00 |   0.5156    65           |  17.0329     0.4428    16.5901 |   0.5218    18             |  1.250e-04   0.000e+00 |\n",
      "20:07:45 207/500  |  15.5959     0.4461    15.1498 |   0.373265   0.0000e+00 |   0.5141    65           |  17.0165     0.4430    16.5736 |   0.5224    18             |  1.250e-04   0.000e+00 |\n",
      "20:10:44 208/500  |  15.5873     0.4474    15.1399 |   0.373265   0.0000e+00 |   0.5131    65           |  17.0232     0.4445    16.5788 |   0.5210    18             |  1.250e-04   0.000e+00 |\n",
      "20:13:44 209/500  |  15.5765     0.4488    15.1277 |   0.373265   0.0000e+00 |   0.5116    65           |  17.0359     0.4471    16.5888 |   0.5185    18             |  1.250e-04   0.000e+00 |\n",
      "20:16:43 210/500  |  15.5719     0.4500    15.1219 |   0.373265   0.0000e+00 |   0.5103    65           |  17.0296     0.4480    16.5816 |   0.5170    18             |  1.250e-04   0.000e+00 |\n",
      "20:19:41 211/500  |  15.5693     0.4511    15.1182 |   0.373265   0.0000e+00 |   0.5092    65           |  17.0032     0.4485    16.5547 |   0.5170    18             |  1.250e-04   0.000e+00 |\n",
      "20:22:41 212/500  |  15.5671     0.4521    15.1151 |   0.373265   0.0000e+00 |   0.5080    65           |  16.9818     0.4491    16.5327 |   0.5162    18             |  1.250e-04   0.000e+00 |\n",
      "20:25:40 213/500  |  15.5571     0.4533    15.1038 |   0.373265   0.0000e+00 |   0.5068    65           |  16.9899     0.4504    16.5395 |   0.5155    18             |  1.250e-04   0.000e+00 |\n",
      "20:28:38 214/500  |  15.5429     0.4548    15.0882 |   0.373265   0.0000e+00 |   0.5051    65           |  17.0043     0.4519    16.5524 |   0.5136    18             |  1.250e-04   0.000e+00 |\n",
      "20:31:37 215/500  |  15.5263     0.4560    15.0703 |   0.373265   0.0000e+00 |   0.5042    65           |  17.0232     0.4538    16.5694 |   0.5116    18             |  1.250e-04   0.000e+00 |\n",
      "20:34:36 216/500  |  15.5173     0.4571    15.0602 |   0.373265   0.0000e+00 |   0.5034    65           |  17.0165     0.4549    16.5617 |   0.5099    18             |  1.250e-04   0.000e+00 |\n",
      "20:37:37 217/500  |  15.5125     0.4585    15.0539 |   0.373265   0.0000e+00 |   0.5018    65           |  17.0106     0.4551    16.5555 |   0.5097    18             |  1.250e-04   0.000e+00 |\n",
      "20:40:36 218/500  |  15.5123     0.4595    15.0528 |   0.373265   0.0000e+00 |   0.5007    65           |  17.0088     0.4555    16.5533 |   0.5099    18             |  1.250e-04   0.000e+00 |\n",
      "20:43:34 219/500  |  15.5147     0.4601    15.0546 |   0.373265   0.0000e+00 |   0.5000    65           |  16.9981     0.4572    16.5409 |   0.5080    18             |  1.250e-04   0.000e+00 |\n",
      "20:46:33 220/500  |  15.5172     0.4608    15.0564 |   0.373265   0.0000e+00 |   0.4991    65           |  16.9834     0.4589    16.5245 |   0.5065    18             |  1.250e-04   0.000e+00 |\n",
      "20:49:36 221/500  |  15.5270     0.4615    15.0655 |   0.373265   0.0000e+00 |   0.4990    65           |  16.9886     0.4599    16.5287 |   0.5056    18             |  1.250e-04   0.000e+00 |\n",
      "20:52:34 222/500  |  15.5158     0.4622    15.0537 |   0.373265   0.0000e+00 |   0.4978    65           |  16.9920     0.4612    16.5308 |   0.5034    18             |  1.250e-04   0.000e+00 |\n",
      "20:55:33 223/500  |  15.4921     0.4634    15.0287 |   0.373265   0.0000e+00 |   0.4968    65           |  16.9914     0.4612    16.5302 |   0.5034    18             |  1.250e-04   0.000e+00 |\n",
      "20:58:30 224/500  |  15.4703     0.4648    15.0055 |   0.373265   0.0000e+00 |   0.4954    65           |  17.0106     0.4632    16.5474 |   0.5017    18             |  1.250e-04   0.000e+00 |\n",
      "21:01:30 225/500  |  15.1369     0.4666    14.6703 |   0.342923   0.0000e+00 |   0.4937    65           |  16.8573     0.4643    16.3930 |   0.5003    18             |  1.250e-04   0.000e+00 |\n",
      "21:04:27 226/500  |  15.1105     0.4683    14.6422 |   0.342923   0.0000e+00 |   0.4920    65           |  16.8621     0.4666    16.3955 |   0.4984    18             |  1.250e-04   0.000e+00 |\n",
      "21:07:26 227/500  |  15.0940     0.4701    14.6240 |   0.342923   0.0000e+00 |   0.4898    65           |  16.8838     0.4692    16.4146 |   0.4960    18             |  1.250e-04   0.000e+00 |\n",
      "21:10:24 228/500  |  15.0804     0.4718    14.6085 |   0.342923   0.0000e+00 |   0.4886    65           |  16.8758     0.4697    16.4061 |   0.4950    18             |  1.250e-04   0.000e+00 |\n",
      "21:13:22 229/500  |  15.0795     0.4734    14.6061 |   0.342923   0.0000e+00 |   0.4870    65           |  16.8845     0.4707    16.4139 |   0.4942    18             |  1.250e-04   0.000e+00 |\n",
      "21:16:19 230/500  |  15.0833     0.4748    14.6085 |   0.342923   0.0000e+00 |   0.4855    65           |  16.8978     0.4728    16.4250 |   0.4916    18             |  1.250e-04   0.000e+00 |\n",
      "21:19:16 231/500  |  15.0799     0.4759    14.6040 |   0.342923   0.0000e+00 |   0.4844    65           |  16.8989     0.4725    16.4264 |   0.4917    18             |  1.250e-04   0.000e+00 |\n",
      "21:22:13 232/500  |  15.0851     0.4770    14.6081 |   0.342923   0.0000e+00 |   0.4826    65           |  16.8897     0.4726    16.4171 |   0.4910    18             |  1.250e-04   0.000e+00 |\n",
      "21:25:07 233/500  |  15.1025     0.4779    14.6246 |   0.342923   0.0000e+00 |   0.4822    65           |  16.8772     0.4723    16.4049 |   0.4907    18             |  1.250e-04   0.000e+00 |\n",
      "21:28:03 234/500  |  15.1004     0.4785    14.6219 |   0.342923   0.0000e+00 |   0.4815    65           |  16.8681     0.4735    16.3945 |   0.4908    18             |  1.250e-04   0.000e+00 |\n",
      "21:30:58 235/500  |  15.0851     0.4798    14.6053 |   0.342923   0.0000e+00 |   0.4801    65           |  16.8716     0.4751    16.3965 |   0.4897    18             |  1.250e-04   0.000e+00 |\n",
      "21:33:54 236/500  |  15.0731     0.4812    14.5919 |   0.342923   0.0000e+00 |   0.4787    65           |  16.8714     0.4776    16.3938 |   0.4869    18             |  1.250e-04   0.000e+00 |\n",
      "21:36:51 237/500  |  15.0592     0.4826    14.5766 |   0.342923   0.0000e+00 |   0.4774    65           |  16.8585     0.4795    16.3790 |   0.4853    18             |  1.250e-04   0.000e+00 |\n",
      "21:39:48 238/500  |  15.0422     0.4843    14.5580 |   0.342923   0.0000e+00 |   0.4759    65           |  16.8539     0.4807    16.3733 |   0.4840    18             |  1.250e-04   0.000e+00 |\n",
      "21:42:47 239/500  |  15.0291     0.4856    14.5435 |   0.342923   0.0000e+00 |   0.4746    65           |  16.8628     0.4822    16.3806 |   0.4825    18             |  1.250e-04   0.000e+00 |\n",
      "21:45:45 240/500  |  15.0230     0.4867    14.5362 |   0.342923   0.0000e+00 |   0.4735    65           |  16.8605     0.4834    16.3771 |   0.4812    18             |  1.250e-04   0.000e+00 |\n",
      "21:48:44 241/500  |  15.0278     0.4880    14.5398 |   0.342923   0.0000e+00 |   0.4724    65           |  16.8549     0.4849    16.3700 |   0.4800    18             |  1.250e-04   0.000e+00 |\n",
      "21:51:42 242/500  |  15.0336     0.4890    14.5446 |   0.342923   0.0000e+00 |   0.4715    65           |  16.8541     0.4853    16.3688 |   0.4795    18             |  1.250e-04   0.000e+00 |\n",
      "21:54:39 243/500  |  15.0346     0.4901    14.5445 |   0.342923   0.0000e+00 |   0.4706    65           |  16.8712     0.4864    16.3848 |   0.4780    18             |  1.250e-04   0.000e+00 |\n",
      "21:57:35 244/500  |  15.0389     0.4912    14.5476 |   0.342923   0.0000e+00 |   0.4695    65           |  16.8947     0.4881    16.4066 |   0.4762    18             |  1.250e-04   0.000e+00 |\n",
      "22:00:34 245/500  |  15.0364     0.4922    14.5442 |   0.342923   0.0000e+00 |   0.4682    65           |  16.8922     0.4886    16.4036 |   0.4756    18             |  1.250e-04   0.000e+00 |\n",
      "22:03:31 246/500  |  15.0186     0.4935    14.5251 |   0.342923   0.0000e+00 |   0.4668    65           |  16.9055     0.4897    16.4158 |   0.4748    18             |  1.250e-04   0.000e+00 |\n",
      "22:06:27 247/500  |  15.0044     0.4951    14.5093 |   0.342923   0.0000e+00 |   0.4652    65           |  16.9171     0.4906    16.4265 |   0.4738    18             |  1.250e-04   0.000e+00 |\n",
      "22:09:26 248/500  |  15.0362     0.4926    14.5435 |   0.342923   0.0000e+00 |   0.4715    65           |  16.8094     0.4888    16.3207 |   0.4738    18             |  6.250e-05   0.000e+00 |\n",
      "22:12:23 249/500  |  14.9617     0.4940    14.4678 |   0.342923   0.0000e+00 |   0.4703    65           |  16.8349     0.4912    16.3437 |   0.4715    18             |  6.250e-05   0.000e+00 |\n",
      "22:15:19 250/500  |  14.9132     0.4957    14.4174 |   0.342923   0.0000e+00 |   0.4684    65           |  16.8500     0.4935    16.3565 |   0.4692    18             |  6.250e-05   0.000e+00 |\n",
      "22:18:16 251/500  |  14.8778     0.4974    14.3804 |   0.342923   0.0000e+00 |   0.4668    65           |  16.8587     0.4951    16.3636 |   0.4675    18             |  6.250e-05   0.000e+00 |\n",
      "22:21:11 252/500  |  14.8498     0.4989    14.3509 |   0.342923   0.0000e+00 |   0.4652    65           |  16.8705     0.4967    16.3737 |   0.4658    18             |  6.250e-05   0.000e+00 |\n",
      "22:24:06 253/500  |  14.8250     0.5005    14.3246 |   0.342923   0.0000e+00 |   0.4637    65           |  16.8792     0.4981    16.3811 |   0.4644    18             |  6.250e-05   0.000e+00 |\n",
      "22:27:05 254/500  |  14.8038     0.5020    14.3019 |   0.342923   0.0000e+00 |   0.4621    65           |  16.8912     0.4995    16.3916 |   0.4630    18             |  6.250e-05   0.000e+00 |\n",
      "22:30:02 255/500  |  14.7848     0.5035    14.2813 |   0.342923   0.0000e+00 |   0.4607    65           |  16.9009     0.5009    16.4000 |   0.4616    18             |  6.250e-05   0.000e+00 |\n",
      "22:32:58 256/500  |  14.4601     0.5049    13.9552 |   0.318640   0.0000e+00 |   0.4593    65           |  16.7635     0.5022    16.2614 |   0.4603    18             |  6.250e-05   0.000e+00 |\n",
      "22:35:53 257/500  |  14.4428     0.5067    13.9361 |   0.318640   0.0000e+00 |   0.4576    65           |  16.7771     0.5039    16.2733 |   0.4586    18             |  6.250e-05   0.000e+00 |\n",
      "22:38:50 258/500  |  14.4276     0.5083    13.9192 |   0.318640   0.0000e+00 |   0.4558    65           |  16.7823     0.5054    16.2770 |   0.4569    18             |  6.250e-05   0.000e+00 |\n",
      "22:41:47 259/500  |  14.4133     0.5100    13.9033 |   0.318640   0.0000e+00 |   0.4543    65           |  16.7905     0.5071    16.2834 |   0.4553    18             |  6.250e-05   0.000e+00 |\n",
      "22:44:44 260/500  |  14.3985     0.5116    13.8869 |   0.318640   0.0000e+00 |   0.4527    65           |  16.7972     0.5086    16.2886 |   0.4537    18             |  6.250e-05   0.000e+00 |\n",
      "22:47:41 261/500  |  14.3878     0.5132    13.8746 |   0.318640   0.0000e+00 |   0.4510    65           |  16.8061     0.5102    16.2959 |   0.4518    18             |  6.250e-05   0.000e+00 |\n",
      "22:50:40 262/500  |  14.3740     0.5147    13.8593 |   0.318640   0.0000e+00 |   0.4495    65           |  16.8053     0.5114    16.2938 |   0.4509    18             |  6.250e-05   0.000e+00 |\n",
      "22:53:37 263/500  |  14.3611     0.5162    13.8449 |   0.318640   0.0000e+00 |   0.4478    65           |  16.8170     0.5133    16.3037 |   0.4486    18             |  6.250e-05   0.000e+00 |\n",
      "22:56:33 264/500  |  14.3505     0.5177    13.8328 |   0.318640   0.0000e+00 |   0.4463    65           |  16.8287     0.5145    16.3142 |   0.4476    18             |  6.250e-05   0.000e+00 |\n",
      "22:59:28 265/500  |  14.3377     0.5193    13.8185 |   0.318640   0.0000e+00 |   0.4448    65           |  16.8232     0.5162    16.3070 |   0.4459    18             |  6.250e-05   0.000e+00 |\n",
      "23:02:24 266/500  |  14.3291     0.5208    13.8083 |   0.318640   0.0000e+00 |   0.4433    65           |  16.8281     0.5171    16.3110 |   0.4452    18             |  6.250e-05   0.000e+00 |\n",
      "23:05:22 267/500  |  14.3229     0.5220    13.8009 |   0.318640   0.0000e+00 |   0.4421    65           |  16.8334     0.5184    16.3150 |   0.4437    18             |  6.250e-05   0.000e+00 |\n",
      "23:08:21 268/500  |  14.3179     0.5233    13.7946 |   0.318640   0.0000e+00 |   0.4409    65           |  16.8442     0.5198    16.3244 |   0.4427    18             |  6.250e-05   0.000e+00 |\n",
      "23:11:19 269/500  |  14.3143     0.5245    13.7898 |   0.318640   0.0000e+00 |   0.4398    65           |  16.8384     0.5210    16.3174 |   0.4415    18             |  6.250e-05   0.000e+00 |\n",
      "23:14:17 270/500  |  14.3152     0.5257    13.7895 |   0.318640   0.0000e+00 |   0.4386    65           |  16.8504     0.5222    16.3282 |   0.4398    18             |  6.250e-05   0.000e+00 |\n",
      "23:17:15 271/500  |  14.3166     0.5265    13.7901 |   0.318640   0.0000e+00 |   0.4376    65           |  16.8504     0.5227    16.3277 |   0.4397    18             |  6.250e-05   0.000e+00 |\n",
      "23:20:11 272/500  |  14.3211     0.5274    13.7937 |   0.318640   0.0000e+00 |   0.4369    65           |  16.8336     0.5233    16.3103 |   0.4392    18             |  6.250e-05   0.000e+00 |\n",
      "23:23:06 273/500  |  14.3320     0.5279    13.8041 |   0.318640   0.0000e+00 |   0.4363    65           |  16.8223     0.5240    16.2983 |   0.4385    18             |  6.250e-05   0.000e+00 |\n",
      "23:26:03 274/500  |  14.3588     0.5283    13.8304 |   0.318640   0.0000e+00 |   0.4359    65           |  16.7813     0.5235    16.2578 |   0.4393    18             |  6.250e-05   0.000e+00 |\n",
      "23:28:59 275/500  |  14.3660     0.5283    13.8377 |   0.318640   0.0000e+00 |   0.4360    65           |  16.7797     0.5241    16.2555 |   0.4393    18             |  6.250e-05   0.000e+00 |\n",
      "23:31:58 276/500  |  14.3425     0.5292    13.8134 |   0.318640   0.0000e+00 |   0.4351    65           |  16.7885     0.5263    16.2622 |   0.4370    18             |  6.250e-05   0.000e+00 |\n",
      "23:34:54 277/500  |  14.3233     0.5303    13.7930 |   0.318640   0.0000e+00 |   0.4339    65           |  16.8025     0.5279    16.2746 |   0.4354    18             |  6.250e-05   0.000e+00 |\n",
      "23:37:52 278/500  |  14.3073     0.5313    13.7760 |   0.318640   0.0000e+00 |   0.4327    65           |  16.8213     0.5292    16.2920 |   0.4339    18             |  6.250e-05   0.000e+00 |\n",
      "23:40:49 279/500  |  14.2940     0.5324    13.7616 |   0.318640   0.0000e+00 |   0.4316    65           |  16.8284     0.5294    16.2990 |   0.4335    18             |  6.250e-05   0.000e+00 |\n",
      "23:43:45 280/500  |  14.2835     0.5334    13.7501 |   0.318640   0.0000e+00 |   0.4307    65           |  16.8399     0.5303    16.3096 |   0.4325    18             |  6.250e-05   0.000e+00 |\n",
      "23:46:42 281/500  |  14.2743     0.5343    13.7399 |   0.318640   0.0000e+00 |   0.4297    65           |  16.8409     0.5303    16.3105 |   0.4323    18             |  6.250e-05   0.000e+00 |\n",
      "23:49:40 282/500  |  14.2663     0.5354    13.7309 |   0.318640   0.0000e+00 |   0.4286    65           |  16.8443     0.5315    16.3128 |   0.4308    18             |  6.250e-05   0.000e+00 |\n",
      "23:52:36 283/500  |  14.2575     0.5363    13.7212 |   0.318640   0.0000e+00 |   0.4277    65           |  16.8494     0.5328    16.3167 |   0.4296    18             |  6.250e-05   0.000e+00 |\n",
      "23:55:32 284/500  |  14.2497     0.5374    13.7124 |   0.318640   0.0000e+00 |   0.4267    65           |  16.8484     0.5334    16.3150 |   0.4287    18             |  6.250e-05   0.000e+00 |\n",
      "23:58:28 285/500  |  14.2428     0.5383    13.7044 |   0.318640   0.0000e+00 |   0.4256    65           |  16.8498     0.5348    16.3151 |   0.4274    18             |  6.250e-05   0.000e+00 |\n",
      "00:01:25 286/500  |  14.2382     0.5392    13.6990 |   0.318640   0.0000e+00 |   0.4247    65           |  16.8619     0.5359    16.3260 |   0.4260    18             |  6.250e-05   0.000e+00 |\n",
      "00:04:20 287/500  |  13.9216     0.5402    13.3814 |   0.298653   0.0000e+00 |   0.4237    65           |  16.7452     0.5359    16.2093 |   0.4260    18             |  6.250e-05   0.000e+00 |\n",
      "00:07:18 288/500  |  13.9133     0.5415    13.3718 |   0.298653   0.0000e+00 |   0.4223    65           |  16.7472     0.5376    16.2097 |   0.4240    18             |  6.250e-05   0.000e+00 |\n",
      "00:10:15 289/500  |  13.9176     0.5425    13.3750 |   0.298653   0.0000e+00 |   0.4213    65           |  16.7760     0.5380    16.2381 |   0.4238    18             |  6.250e-05   0.000e+00 |\n",
      "00:13:12 290/500  |  13.9356     0.5431    13.3925 |   0.298653   0.0000e+00 |   0.4208    65           |  16.7558     0.5391    16.2167 |   0.4225    18             |  6.250e-05   0.000e+00 |\n",
      "00:16:10 291/500  |  13.9494     0.5436    13.4058 |   0.298653   0.0000e+00 |   0.4203    65           |  16.7234     0.5392    16.1842 |   0.4224    18             |  6.250e-05   0.000e+00 |\n",
      "00:19:10 292/500  |  13.9394     0.5444    13.3950 |   0.298653   0.0000e+00 |   0.4193    65           |  16.7319     0.5405    16.1914 |   0.4210    18             |  6.250e-05   0.000e+00 |\n",
      "00:22:09 293/500  |  13.9148     0.5455    13.3692 |   0.298653   0.0000e+00 |   0.4183    65           |  16.7386     0.5414    16.1972 |   0.4206    18             |  6.250e-05   0.000e+00 |\n",
      "00:25:05 294/500  |  13.8977     0.5466    13.3511 |   0.298653   0.0000e+00 |   0.4172    65           |  16.7350     0.5425    16.1926 |   0.4197    18             |  6.250e-05   0.000e+00 |\n",
      "00:28:03 295/500  |  13.8939     0.5477    13.3462 |   0.298653   0.0000e+00 |   0.4162    65           |  16.7493     0.5425    16.2068 |   0.4193    18             |  6.250e-05   0.000e+00 |\n",
      "00:31:00 296/500  |  13.8891     0.5484    13.3407 |   0.298653   0.0000e+00 |   0.4153    65           |  16.7639     0.5431    16.2208 |   0.4185    18             |  6.250e-05   0.000e+00 |\n",
      "00:33:57 297/500  |  13.8757     0.5495    13.3262 |   0.298653   0.0000e+00 |   0.4143    65           |  16.7716     0.5444    16.2272 |   0.4175    18             |  6.250e-05   0.000e+00 |\n",
      "00:36:58 298/500  |  13.8552     0.5506    13.3046 |   0.298653   0.0000e+00 |   0.4132    65           |  16.7941     0.5457    16.2483 |   0.4160    18             |  6.250e-05   0.000e+00 |\n",
      "00:39:55 299/500  |  13.8373     0.5519    13.2854 |   0.298653   0.0000e+00 |   0.4118    65           |  16.7929     0.5477    16.2452 |   0.4142    18             |  6.250e-05   0.000e+00 |\n",
      "00:42:53 300/500  |  13.8253     0.5531    13.2722 |   0.298653   0.0000e+00 |   0.4106    65           |  16.7953     0.5484    16.2469 |   0.4137    18             |  6.250e-05   0.000e+00 |\n",
      "00:51:31 301/500  |  13.8134     0.5542    13.2592 |   0.298653   0.0000e+00 |   0.4094    65           |  16.8111     0.5505    16.2606 |   0.4112    18             |  6.250e-05   0.000e+00 |\n",
      "00:54:29 302/500  |  13.8007     0.5554    13.2453 |   0.298653   0.0000e+00 |   0.4082    65           |  16.8183     0.5508    16.2676 |   0.4111    18             |  6.250e-05   0.000e+00 |\n",
      "00:57:30 303/500  |  13.7904     0.5565    13.2339 |   0.298653   0.0000e+00 |   0.4070    65           |  16.8319     0.5516    16.2803 |   0.4101    18             |  6.250e-05   0.000e+00 |\n",
      "01:00:31 304/500  |  13.7846     0.5577    13.2269 |   0.298653   0.0000e+00 |   0.4059    65           |  16.8510     0.5516    16.2994 |   0.4102    18             |  6.250e-05   0.000e+00 |\n",
      "01:03:27 305/500  |  13.7818     0.5587    13.2231 |   0.298653   0.0000e+00 |   0.4049    65           |  16.8615     0.5523    16.3092 |   0.4093    18             |  6.250e-05   0.000e+00 |\n",
      "01:06:26 306/500  |  13.7796     0.5597    13.2199 |   0.298653   0.0000e+00 |   0.4038    65           |  16.8715     0.5535    16.3180 |   0.4080    18             |  6.250e-05   0.000e+00 |\n",
      "01:09:25 307/500  |  13.7760     0.5607    13.2154 |   0.298653   0.0000e+00 |   0.4029    65           |  16.8632     0.5537    16.3095 |   0.4078    18             |  6.250e-05   0.000e+00 |\n",
      "01:12:28 308/500  |  13.7783     0.5614    13.2169 |   0.298653   0.0000e+00 |   0.4021    65           |  16.8565     0.5551    16.3014 |   0.4065    18             |  6.250e-05   0.000e+00 |\n",
      "01:15:26 309/500  |  13.8921     0.5595    13.3327 |   0.298653   0.0000e+00 |   0.4059    65           |  16.7173     0.5544    16.1629 |   0.4100    18             |  3.125e-05   0.000e+00 |\n",
      "01:18:23 310/500  |  13.8318     0.5596    13.2722 |   0.298653   0.0000e+00 |   0.4060    65           |  16.7240     0.5547    16.1693 |   0.4095    18             |  3.125e-05   0.000e+00 |\n",
      "01:21:22 311/500  |  13.7831     0.5603    13.2228 |   0.298653   0.0000e+00 |   0.4051    65           |  16.7356     0.5553    16.1803 |   0.4089    18             |  3.125e-05   0.000e+00 |\n",
      "01:24:17 312/500  |  13.7506     0.5613    13.1893 |   0.298653   0.0000e+00 |   0.4042    65           |  16.7473     0.5559    16.1914 |   0.4086    18             |  3.125e-05   0.000e+00 |\n",
      "01:27:11 313/500  |  13.7244     0.5621    13.1622 |   0.298653   0.0000e+00 |   0.4045    65           |  16.7598     0.5567    16.2031 |   0.4087    18             |  3.125e-05   0.000e+00 |\n",
      "01:30:07 314/500  |  13.7039     0.5630    13.1409 |   0.298653   0.0000e+00 |   0.4038    65           |  16.7667     0.5575    16.2092 |   0.4081    18             |  3.125e-05   0.000e+00 |\n",
      "01:33:04 315/500  |  13.6855     0.5638    13.1216 |   0.298653   0.0000e+00 |   0.4035    65           |  16.7777     0.5580    16.2196 |   0.4080    18             |  3.125e-05   0.000e+00 |\n",
      "01:36:03 316/500  |  13.6689     0.5646    13.1043 |   0.298653   0.0000e+00 |   0.4031    65           |  16.7864     0.5588    16.2275 |   0.4072    18             |  3.125e-05   0.000e+00 |\n",
      "01:39:02 317/500  |  13.6551     0.5654    13.0897 |   0.298653   0.0000e+00 |   0.4020    65           |  16.7952     0.5596    16.2356 |   0.4065    18             |  3.125e-05   0.000e+00 |\n",
      "01:41:57 318/500  |  13.3535     0.5661    12.7874 |   0.281838   0.0000e+00 |   0.4013    65           |  16.6958     0.5603    16.1355 |   0.4059    18             |  3.125e-05   0.000e+00 |\n",
      "01:44:53 319/500  |  13.3416     0.5670    12.7745 |   0.281838   0.0000e+00 |   0.4009    65           |  16.7043     0.5612    16.1431 |   0.4050    18             |  3.125e-05   0.000e+00 |\n",
      "01:47:49 320/500  |  13.3319     0.5679    12.7640 |   0.281838   0.0000e+00 |   0.3995    65           |  16.7101     0.5619    16.1482 |   0.4039    18             |  3.125e-05   0.000e+00 |\n",
      "01:50:45 321/500  |  13.3221     0.5687    12.7535 |   0.281838   0.0000e+00 |   0.3984    65           |  16.7144     0.5626    16.1518 |   0.4028    18             |  3.125e-05   0.000e+00 |\n",
      "01:53:42 322/500  |  13.3134     0.5695    12.7438 |   0.281838   0.0000e+00 |   0.3962    65           |  16.7220     0.5637    16.1583 |   0.4004    18             |  3.125e-05   0.000e+00 |\n",
      "01:56:38 323/500  |  13.3043     0.5703    12.7339 |   0.281838   0.0000e+00 |   0.3950    65           |  16.7317     0.5645    16.1673 |   0.3995    18             |  3.125e-05   0.000e+00 |\n",
      "01:59:36 324/500  |  13.2973     0.5711    12.7262 |   0.281838   0.0000e+00 |   0.3942    65           |  16.7368     0.5652    16.1716 |   0.3988    18             |  3.125e-05   0.000e+00 |\n",
      "02:02:34 325/500  |  13.2907     0.5719    12.7188 |   0.281838   0.0000e+00 |   0.3934    65           |  16.7421     0.5661    16.1760 |   0.3979    18             |  3.125e-05   0.000e+00 |\n",
      "02:05:29 326/500  |  13.2835     0.5726    12.7109 |   0.281838   0.0000e+00 |   0.3927    65           |  16.7399     0.5667    16.1732 |   0.3973    18             |  3.125e-05   0.000e+00 |\n",
      "02:08:27 327/500  |  13.2768     0.5734    12.7034 |   0.281838   0.0000e+00 |   0.3918    65           |  16.7418     0.5674    16.1743 |   0.3966    18             |  3.125e-05   0.000e+00 |\n",
      "02:11:22 328/500  |  13.2707     0.5741    12.6966 |   0.281838   0.0000e+00 |   0.3911    65           |  16.7591     0.5683    16.1907 |   0.3956    18             |  3.125e-05   0.000e+00 |\n",
      "02:14:20 329/500  |  13.2657     0.5748    12.6909 |   0.281838   0.0000e+00 |   0.3904    65           |  16.7605     0.5690    16.1914 |   0.3949    18             |  3.125e-05   0.000e+00 |\n",
      "02:17:15 330/500  |  13.2608     0.5755    12.6853 |   0.281838   0.0000e+00 |   0.3897    65           |  16.7691     0.5695    16.1995 |   0.3943    18             |  3.125e-05   0.000e+00 |\n",
      "02:20:12 331/500  |  13.2557     0.5761    12.6796 |   0.281838   0.0000e+00 |   0.3890    65           |  16.7683     0.5702    16.1981 |   0.3937    18             |  3.125e-05   0.000e+00 |\n",
      "02:23:07 332/500  |  13.2528     0.5768    12.6760 |   0.281838   0.0000e+00 |   0.3883    65           |  16.7729     0.5708    16.2021 |   0.3930    18             |  3.125e-05   0.000e+00 |\n",
      "02:26:03 333/500  |  13.2486     0.5774    12.6712 |   0.281838   0.0000e+00 |   0.3877    65           |  16.7759     0.5717    16.2042 |   0.3922    18             |  3.125e-05   0.000e+00 |\n",
      "02:28:59 334/500  |  13.2456     0.5781    12.6675 |   0.281838   0.0000e+00 |   0.3871    65           |  16.7740     0.5720    16.2020 |   0.3918    18             |  3.125e-05   0.000e+00 |\n",
      "02:31:57 335/500  |  13.2459     0.5786    12.6673 |   0.281838   0.0000e+00 |   0.3865    65           |  16.7845     0.5723    16.2122 |   0.3916    18             |  3.125e-05   0.000e+00 |\n",
      "02:34:57 336/500  |  13.2476     0.5792    12.6684 |   0.281838   0.0000e+00 |   0.3859    65           |  16.7875     0.5729    16.2146 |   0.3908    18             |  3.125e-05   0.000e+00 |\n",
      "02:37:53 337/500  |  13.2470     0.5796    12.6674 |   0.281838   0.0000e+00 |   0.3854    65           |  16.7894     0.5735    16.2159 |   0.3903    18             |  3.125e-05   0.000e+00 |\n",
      "02:40:53 338/500  |  13.2511     0.5801    12.6710 |   0.281838   0.0000e+00 |   0.3850    65           |  16.8119     0.5745    16.2375 |   0.3891    18             |  3.125e-05   0.000e+00 |\n",
      "02:43:51 339/500  |  13.2648     0.5803    12.6845 |   0.281838   0.0000e+00 |   0.3848    65           |  16.7985     0.5744    16.2241 |   0.3892    18             |  3.125e-05   0.000e+00 |\n",
      "02:46:53 340/500  |  13.2819     0.5804    12.7014 |   0.281838   0.0000e+00 |   0.3846    65           |  16.7799     0.5741    16.2058 |   0.3895    18             |  3.125e-05   0.000e+00 |\n",
      "02:49:47 341/500  |  13.2882     0.5807    12.7075 |   0.281838   0.0000e+00 |   0.3844    65           |  16.7880     0.5743    16.2137 |   0.3894    18             |  3.125e-05   0.000e+00 |\n",
      "02:52:47 342/500  |  13.2847     0.5810    12.7037 |   0.281838   0.0000e+00 |   0.3840    65           |  16.7943     0.5743    16.2201 |   0.3894    18             |  3.125e-05   0.000e+00 |\n",
      "02:55:45 343/500  |  13.2731     0.5814    12.6917 |   0.281838   0.0000e+00 |   0.3836    65           |  16.7884     0.5747    16.2136 |   0.3890    18             |  3.125e-05   0.000e+00 |\n",
      "02:58:42 344/500  |  13.2536     0.5820    12.6715 |   0.281838   0.0000e+00 |   0.3830    65           |  16.7812     0.5753    16.2059 |   0.3884    18             |  3.125e-05   0.000e+00 |\n",
      "03:01:40 345/500  |  13.2409     0.5827    12.6583 |   0.281838   0.0000e+00 |   0.3823    65           |  16.7836     0.5762    16.2073 |   0.3876    18             |  3.125e-05   0.000e+00 |\n",
      "03:04:39 346/500  |  13.2315     0.5833    12.6483 |   0.281838   0.0000e+00 |   0.3818    65           |  16.7955     0.5766    16.2189 |   0.3871    18             |  3.125e-05   0.000e+00 |\n",
      "03:07:37 347/500  |  13.2236     0.5839    12.6397 |   0.281838   0.0000e+00 |   0.3811    65           |  16.8101     0.5777    16.2324 |   0.3860    18             |  3.125e-05   0.000e+00 |\n",
      "03:10:36 348/500  |  13.2183     0.5844    12.6338 |   0.281838   0.0000e+00 |   0.3806    65           |  16.8101     0.5782    16.2320 |   0.3855    18             |  3.125e-05   0.000e+00 |\n",
      "03:13:34 349/500  |  12.9394     0.5848    12.3546 |   0.267445   0.0000e+00 |   0.3803    65           |  16.7275     0.5787    16.1489 |   0.3851    18             |  3.125e-05   0.000e+00 |\n",
      "03:16:31 350/500  |  12.9388     0.5854    12.3534 |   0.267445   0.0000e+00 |   0.3797    65           |  16.7284     0.5790    16.1494 |   0.3847    18             |  3.125e-05   0.000e+00 |\n",
      "03:19:29 351/500  |  12.9381     0.5859    12.3522 |   0.267445   0.0000e+00 |   0.3791    65           |  16.7301     0.5796    16.1505 |   0.3842    18             |  3.125e-05   0.000e+00 |\n",
      "03:22:27 352/500  |  12.9364     0.5863    12.3501 |   0.267445   0.0000e+00 |   0.3787    65           |  16.7337     0.5800    16.1537 |   0.3838    18             |  3.125e-05   0.000e+00 |\n",
      "03:25:25 353/500  |  12.9343     0.5867    12.3476 |   0.267445   0.0000e+00 |   0.3782    65           |  16.7337     0.5805    16.1531 |   0.3833    18             |  3.125e-05   0.000e+00 |\n",
      "03:28:23 354/500  |  12.9367     0.5872    12.3496 |   0.267445   0.0000e+00 |   0.3778    65           |  16.7375     0.5804    16.1571 |   0.3834    18             |  3.125e-05   0.000e+00 |\n",
      "03:31:20 355/500  |  12.9403     0.5876    12.3527 |   0.267445   0.0000e+00 |   0.3773    65           |  16.7409     0.5810    16.1599 |   0.3827    18             |  3.125e-05   0.000e+00 |\n",
      "03:34:17 356/500  |  12.9473     0.5879    12.3594 |   0.267445   0.0000e+00 |   0.3772    65           |  16.7566     0.5818    16.1748 |   0.3818    18             |  3.125e-05   0.000e+00 |\n",
      "03:37:11 357/500  |  12.9521     0.5881    12.3640 |   0.267445   0.0000e+00 |   0.3769    65           |  16.7522     0.5825    16.1698 |   0.3810    18             |  3.125e-05   0.000e+00 |\n",
      "03:40:11 358/500  |  12.9551     0.5884    12.3668 |   0.267445   0.0000e+00 |   0.3766    65           |  16.7494     0.5827    16.1666 |   0.3808    18             |  3.125e-05   0.000e+00 |\n",
      "03:43:08 359/500  |  12.9612     0.5888    12.3725 |   0.267445   0.0000e+00 |   0.3762    65           |  16.7517     0.5830    16.1688 |   0.3807    18             |  3.125e-05   0.000e+00 |\n",
      "03:46:06 360/500  |  12.9667     0.5889    12.3777 |   0.267445   0.0000e+00 |   0.3759    65           |  16.7638     0.5825    16.1813 |   0.3813    18             |  3.125e-05   0.000e+00 |\n",
      "03:49:05 361/500  |  12.9676     0.5891    12.3785 |   0.267445   0.0000e+00 |   0.3757    65           |  16.7776     0.5829    16.1947 |   0.3811    18             |  3.125e-05   0.000e+00 |\n",
      "03:52:01 362/500  |  12.9679     0.5895    12.3785 |   0.267445   0.0000e+00 |   0.3755    65           |  16.7665     0.5832    16.1834 |   0.3808    18             |  3.125e-05   0.000e+00 |\n",
      "03:55:01 363/500  |  12.9666     0.5898    12.3767 |   0.267445   0.0000e+00 |   0.3750    65           |  16.7377     0.5835    16.1542 |   0.3805    18             |  3.125e-05   0.000e+00 |\n",
      "03:57:57 364/500  |  12.9598     0.5902    12.3696 |   0.267445   0.0000e+00 |   0.3747    65           |  16.7214     0.5841    16.1373 |   0.3800    18             |  3.125e-05   0.000e+00 |\n",
      "04:00:55 365/500  |  12.9486     0.5906    12.3580 |   0.267445   0.0000e+00 |   0.3744    65           |  16.7155     0.5849    16.1306 |   0.3792    18             |  3.125e-05   0.000e+00 |\n",
      "04:03:53 366/500  |  12.9380     0.5910    12.3470 |   0.267445   0.0000e+00 |   0.3739    65           |  16.7202     0.5859    16.1343 |   0.3782    18             |  3.125e-05   0.000e+00 |\n",
      "04:06:52 367/500  |  12.9293     0.5914    12.3378 |   0.267445   0.0000e+00 |   0.3736    65           |  16.7150     0.5866    16.1285 |   0.3776    18             |  3.125e-05   0.000e+00 |\n",
      "04:09:49 368/500  |  12.9210     0.5919    12.3291 |   0.267445   0.0000e+00 |   0.3731    65           |  16.7370     0.5876    16.1495 |   0.3766    18             |  3.125e-05   0.000e+00 |\n",
      "04:12:46 369/500  |  12.9141     0.5923    12.3218 |   0.267445   0.0000e+00 |   0.3726    65           |  16.7311     0.5877    16.1434 |   0.3763    18             |  3.125e-05   0.000e+00 |\n",
      "04:15:45 370/500  |  12.9915     0.5911    12.4004 |   0.267445   0.0000e+00 |   0.3748    65           |  16.6573     0.5850    16.0724 |   0.3790    18             |  1.563e-05   0.000e+00 |\n",
      "04:18:43 371/500  |  12.9388     0.5913    12.3475 |   0.267445   0.0000e+00 |   0.3747    65           |  16.6608     0.5858    16.0750 |   0.3781    18             |  1.563e-05   0.000e+00 |\n",
      "04:21:40 372/500  |  12.9059     0.5917    12.3142 |   0.267445   0.0000e+00 |   0.3742    65           |  16.6691     0.5863    16.0828 |   0.3776    18             |  1.563e-05   0.000e+00 |\n",
      "04:24:39 373/500  |  12.8831     0.5921    12.2910 |   0.267445   0.0000e+00 |   0.3738    65           |  16.6760     0.5868    16.0892 |   0.3771    18             |  1.563e-05   0.000e+00 |\n",
      "04:27:36 374/500  |  12.8657     0.5925    12.2733 |   0.267445   0.0000e+00 |   0.3734    65           |  16.6856     0.5872    16.0984 |   0.3767    18             |  1.563e-05   0.000e+00 |\n",
      "04:30:36 375/500  |  12.8516     0.5928    12.2588 |   0.267445   0.0000e+00 |   0.3736    65           |  16.6929     0.5875    16.1054 |   0.3778    18             |  1.563e-05   0.000e+00 |\n",
      "04:33:33 376/500  |  12.8393     0.5932    12.2461 |   0.267445   0.0000e+00 |   0.3744    65           |  16.6999     0.5878    16.1121 |   0.3781    18             |  1.563e-05   0.000e+00 |\n",
      "04:36:31 377/500  |  12.8285     0.5936    12.2349 |   0.267445   0.0000e+00 |   0.3744    65           |  16.7081     0.5882    16.1199 |   0.3780    18             |  1.563e-05   0.000e+00 |\n",
      "04:39:27 378/500  |  12.8182     0.5939    12.2243 |   0.267445   0.0000e+00 |   0.3743    65           |  16.7135     0.5885    16.1251 |   0.3781    18             |  1.563e-05   0.000e+00 |\n",
      "04:42:25 379/500  |  12.8096     0.5943    12.2154 |   0.267445   0.0000e+00 |   0.3740    65           |  16.7209     0.5888    16.1321 |   0.3771    18             |  1.563e-05   0.000e+00 |\n",
      "04:45:22 380/500  |  12.5441     0.5944    11.9497 |   0.254947   0.0000e+00 |   0.3734    65           |  16.6476     0.5889    16.0587 |   0.3767    18             |  1.563e-05   0.000e+00 |\n",
      "04:48:20 381/500  |  12.5361     0.5948    11.9413 |   0.254947   0.0000e+00 |   0.3725    65           |  16.6555     0.5894    16.0661 |   0.3758    18             |  1.563e-05   0.000e+00 |\n",
      "04:51:19 382/500  |  12.5292     0.5951    11.9341 |   0.254947   0.0000e+00 |   0.3721    65           |  16.6649     0.5896    16.0753 |   0.3756    18             |  1.563e-05   0.000e+00 |\n",
      "04:54:16 383/500  |  12.5225     0.5955    11.9270 |   0.254947   0.0000e+00 |   0.3709    65           |  16.6715     0.5901    16.0814 |   0.3737    18             |  1.563e-05   0.000e+00 |\n",
      "04:57:16 384/500  |  12.5160     0.5958    11.9201 |   0.254947   0.0000e+00 |   0.3700    65           |  16.6755     0.5903    16.0852 |   0.3735    18             |  1.563e-05   0.000e+00 |\n",
      "05:00:14 385/500  |  12.5105     0.5962    11.9143 |   0.254947   0.0000e+00 |   0.3696    65           |  16.6839     0.5906    16.0934 |   0.3732    18             |  1.563e-05   0.000e+00 |\n",
      "05:03:10 386/500  |  12.5043     0.5965    11.9078 |   0.254947   0.0000e+00 |   0.3693    65           |  16.6851     0.5908    16.0942 |   0.3730    18             |  1.563e-05   0.000e+00 |\n",
      "05:06:09 387/500  |  12.4991     0.5969    11.9022 |   0.254947   0.0000e+00 |   0.3689    65           |  16.6943     0.5911    16.1032 |   0.3727    18             |  1.563e-05   0.000e+00 |\n",
      "05:09:06 388/500  |  12.4935     0.5972    11.8964 |   0.254947   0.0000e+00 |   0.3686    65           |  16.6947     0.5915    16.1032 |   0.3723    18             |  1.563e-05   0.000e+00 |\n",
      "05:12:01 389/500  |  12.4878     0.5975    11.8903 |   0.254947   0.0000e+00 |   0.3683    65           |  16.7011     0.5918    16.1093 |   0.3720    18             |  1.563e-05   0.000e+00 |\n",
      "05:15:00 390/500  |  12.4826     0.5978    11.8848 |   0.254947   0.0000e+00 |   0.3680    65           |  16.7042     0.5922    16.1121 |   0.3716    18             |  1.563e-05   0.000e+00 |\n",
      "05:18:00 391/500  |  12.4774     0.5982    11.8792 |   0.254947   0.0000e+00 |   0.3676    65           |  16.7145     0.5925    16.1220 |   0.3713    18             |  1.563e-05   0.000e+00 |\n",
      "05:21:01 392/500  |  12.4728     0.5984    11.8744 |   0.254947   0.0000e+00 |   0.3673    65           |  16.7131     0.5927    16.1204 |   0.3710    18             |  1.563e-05   0.000e+00 |\n",
      "05:24:00 393/500  |  12.4680     0.5988    11.8692 |   0.254947   0.0000e+00 |   0.3670    65           |  16.7227     0.5930    16.1297 |   0.3707    18             |  1.563e-05   0.000e+00 |\n",
      "05:27:01 394/500  |  12.4638     0.5991    11.8648 |   0.254947   0.0000e+00 |   0.3667    65           |  16.7227     0.5933    16.1294 |   0.3704    18             |  1.563e-05   0.000e+00 |\n",
      "05:29:59 395/500  |  12.4601     0.5994    11.8607 |   0.254947   0.0000e+00 |   0.3664    65           |  16.7270     0.5935    16.1336 |   0.3703    18             |  1.563e-05   0.000e+00 |\n",
      "05:32:58 396/500  |  12.4555     0.5997    11.8558 |   0.254947   0.0000e+00 |   0.3661    65           |  16.7290     0.5940    16.1350 |   0.3698    18             |  1.563e-05   0.000e+00 |\n",
      "05:35:57 397/500  |  12.4511     0.6000    11.8511 |   0.254947   0.0000e+00 |   0.3657    65           |  16.7385     0.5943    16.1442 |   0.3695    18             |  1.563e-05   0.000e+00 |\n",
      "05:38:56 398/500  |  12.4469     0.6003    11.8467 |   0.254947   0.0000e+00 |   0.3655    65           |  16.7374     0.5944    16.1430 |   0.3693    18             |  1.563e-05   0.000e+00 |\n",
      "05:41:54 399/500  |  12.4421     0.6005    11.8415 |   0.254947   0.0000e+00 |   0.3652    65           |  16.7408     0.5947    16.1462 |   0.3690    18             |  1.563e-05   0.000e+00 |\n",
      "05:44:52 400/500  |  12.4398     0.6009    11.8389 |   0.254947   0.0000e+00 |   0.3649    65           |  16.7448     0.5950    16.1498 |   0.3686    18             |  1.563e-05   0.000e+00 |\n",
      "06:32:17 401/500  |  12.4378     0.6011    11.8366 |   0.254947   0.0000e+00 |   0.3646    65           |  16.7458     0.5953    16.1504 |   0.3683    18             |  1.563e-05   0.000e+00 |\n",
      "06:35:18 402/500  |  12.4322     0.6014    11.8307 |   0.254947   0.0000e+00 |   0.3643    65           |  16.7537     0.5956    16.1580 |   0.3681    18             |  1.563e-05   0.000e+00 |\n",
      "06:38:18 403/500  |  12.4266     0.6017    11.8249 |   0.254947   0.0000e+00 |   0.3640    65           |  16.7539     0.5959    16.1581 |   0.3678    18             |  1.563e-05   0.000e+00 |\n",
      "06:41:18 404/500  |  12.4214     0.6020    11.8194 |   0.254947   0.0000e+00 |   0.3637    65           |  16.7585     0.5961    16.1625 |   0.3676    18             |  1.563e-05   0.000e+00 |\n",
      "06:44:16 405/500  |  12.4175     0.6023    11.8151 |   0.254947   0.0000e+00 |   0.3634    65           |  16.7596     0.5963    16.1632 |   0.3674    18             |  1.563e-05   0.000e+00 |\n",
      "06:47:16 406/500  |  12.4145     0.6026    11.8119 |   0.254947   0.0000e+00 |   0.3631    65           |  16.7659     0.5968    16.1691 |   0.3669    18             |  1.563e-05   0.000e+00 |\n",
      "06:50:09 407/500  |  12.4109     0.6029    11.8080 |   0.254947   0.0000e+00 |   0.3628    65           |  16.7690     0.5969    16.1721 |   0.3668    18             |  1.563e-05   0.000e+00 |\n",
      "06:53:05 408/500  |  12.4079     0.6031    11.8048 |   0.254947   0.0000e+00 |   0.3626    65           |  16.7735     0.5974    16.1761 |   0.3663    18             |  1.563e-05   0.000e+00 |\n",
      "06:56:00 409/500  |  12.4052     0.6035    11.8017 |   0.254947   0.0000e+00 |   0.3622    65           |  16.7809     0.5976    16.1833 |   0.3661    18             |  1.563e-05   0.000e+00 |\n",
      "06:58:56 410/500  |  12.4018     0.6037    11.7980 |   0.254947   0.0000e+00 |   0.3619    65           |  16.7814     0.5978    16.1835 |   0.3659    18             |  1.563e-05   0.000e+00 |\n",
      "07:01:55 411/500  |  12.1556     0.6038    11.5518 |   0.243967   0.0000e+00 |   0.3619    65           |  16.7212     0.5978    16.1234 |   0.3659    18             |  1.563e-05   0.000e+00 |\n",
      "07:04:57 412/500  |  12.1543     0.6041    11.5502 |   0.243967   0.0000e+00 |   0.3616    65           |  16.7217     0.5982    16.1236 |   0.3656    18             |  1.563e-05   0.000e+00 |\n",
      "07:08:06 413/500  |  12.1507     0.6044    11.5463 |   0.243967   0.0000e+00 |   0.3613    65           |  16.7240     0.5984    16.1256 |   0.3653    18             |  1.563e-05   0.000e+00 |\n",
      "07:11:11 414/500  |  12.1469     0.6047    11.5423 |   0.243967   0.0000e+00 |   0.3610    65           |  16.7305     0.5987    16.1318 |   0.3650    18             |  1.563e-05   0.000e+00 |\n",
      "07:14:15 415/500  |  12.1439     0.6050    11.5389 |   0.243967   0.0000e+00 |   0.3607    65           |  16.7387     0.5990    16.1397 |   0.3647    18             |  1.563e-05   0.000e+00 |\n",
      "07:17:21 416/500  |  12.1401     0.6052    11.5349 |   0.243967   0.0000e+00 |   0.3605    65           |  16.7422     0.5993    16.1430 |   0.3644    18             |  1.563e-05   0.000e+00 |\n",
      "07:20:28 417/500  |  12.1374     0.6055    11.5319 |   0.243967   0.0000e+00 |   0.3602    65           |  16.7443     0.5995    16.1448 |   0.3641    18             |  1.563e-05   0.000e+00 |\n",
      "07:23:34 418/500  |  12.1350     0.6057    11.5293 |   0.243967   0.0000e+00 |   0.3600    65           |  16.7514     0.5997    16.1518 |   0.3639    18             |  1.563e-05   0.000e+00 |\n",
      "07:26:41 419/500  |  12.1320     0.6060    11.5260 |   0.243967   0.0000e+00 |   0.3598    65           |  16.7519     0.5999    16.1519 |   0.3637    18             |  1.563e-05   0.000e+00 |\n",
      "07:29:48 420/500  |  12.1282     0.6063    11.5220 |   0.243967   0.0000e+00 |   0.3594    65           |  16.7545     0.6000    16.1545 |   0.3636    18             |  1.563e-05   0.000e+00 |\n",
      "07:32:48 421/500  |  12.1259     0.6065    11.5194 |   0.243967   0.0000e+00 |   0.3592    65           |  16.7625     0.6005    16.1620 |   0.3631    18             |  1.563e-05   0.000e+00 |\n",
      "07:35:49 422/500  |  12.1235     0.6068    11.5167 |   0.243967   0.0000e+00 |   0.3589    65           |  16.7662     0.6008    16.1654 |   0.3628    18             |  1.563e-05   0.000e+00 |\n",
      "07:38:47 423/500  |  12.1202     0.6070    11.5132 |   0.243967   0.0000e+00 |   0.3586    65           |  16.7632     0.6012    16.1620 |   0.3624    18             |  1.563e-05   0.000e+00 |\n",
      "07:41:41 424/500  |  12.1213     0.6073    11.5140 |   0.243967   0.0000e+00 |   0.3583    65           |  16.7691     0.6011    16.1680 |   0.3625    18             |  1.563e-05   0.000e+00 |\n",
      "07:44:37 425/500  |  12.1167     0.6075    11.5092 |   0.243967   0.0000e+00 |   0.3581    65           |  16.7666     0.6012    16.1654 |   0.3623    18             |  1.563e-05   0.000e+00 |\n",
      "07:47:33 426/500  |  12.1125     0.6078    11.5048 |   0.243967   0.0000e+00 |   0.3579    65           |  16.7741     0.6018    16.1724 |   0.3618    18             |  1.563e-05   0.000e+00 |\n",
      "07:50:29 427/500  |  12.1096     0.6080    11.5017 |   0.243967   0.0000e+00 |   0.3576    65           |  16.7756     0.6021    16.1735 |   0.3615    18             |  1.563e-05   0.000e+00 |\n",
      "07:53:23 428/500  |  12.1084     0.6082    11.5002 |   0.243967   0.0000e+00 |   0.3574    65           |  16.7778     0.6023    16.1755 |   0.3612    18             |  1.563e-05   0.000e+00 |\n",
      "07:56:19 429/500  |  12.1058     0.6085    11.4973 |   0.243967   0.0000e+00 |   0.3571    65           |  16.7801     0.6025    16.1775 |   0.3610    18             |  1.563e-05   0.000e+00 |\n",
      "07:59:13 430/500  |  12.1035     0.6087    11.4948 |   0.243967   0.0000e+00 |   0.3569    65           |  16.7836     0.6027    16.1809 |   0.3608    18             |  1.563e-05   0.000e+00 |\n",
      "08:02:10 431/500  |  12.1753     0.6082    11.5671 |   0.243967   0.0000e+00 |   0.3579    65           |  16.7436     0.6020    16.1416 |   0.3618    18             |  7.813e-06   0.000e+00 |\n",
      "08:05:08 432/500  |  12.1683     0.6081    11.5602 |   0.243967   0.0000e+00 |   0.3580    65           |  16.7396     0.6023    16.1373 |   0.3617    18             |  7.813e-06   0.000e+00 |\n",
      "08:08:02 433/500  |  12.1543     0.6082    11.5461 |   0.243967   0.0000e+00 |   0.3587    65           |  16.7355     0.6022    16.1333 |   0.3626    18             |  7.813e-06   0.000e+00 |\n",
      "08:10:56 434/500  |  12.1411     0.6083    11.5328 |   0.243967   0.0000e+00 |   0.3592    65           |  16.7351     0.6023    16.1328 |   0.3628    18             |  7.813e-06   0.000e+00 |\n",
      "08:13:50 435/500  |  12.1302     0.6084    11.5217 |   0.243967   0.0000e+00 |   0.3600    65           |  16.7370     0.6024    16.1346 |   0.3652    18             |  7.813e-06   0.000e+00 |\n",
      "08:16:45 436/500  |  12.1207     0.6086    11.5121 |   0.243967   0.0000e+00 |   0.3616    65           |  16.7403     0.6025    16.1378 |   0.3657    18             |  7.813e-06   0.000e+00 |\n",
      "08:19:40 437/500  |  12.1120     0.6088    11.5032 |   0.243967   0.0000e+00 |   0.3624    65           |  16.7435     0.6027    16.1408 |   0.3666    18             |  7.813e-06   0.000e+00 |\n",
      "08:22:38 438/500  |  12.1044     0.6089    11.4955 |   0.243967   0.0000e+00 |   0.3631    65           |  16.7470     0.6027    16.1443 |   0.3672    18             |  7.813e-06   0.000e+00 |\n",
      "08:25:31 439/500  |  12.0972     0.6091    11.4881 |   0.243967   0.0000e+00 |   0.3628    65           |  16.7503     0.6030    16.1473 |   0.3663    18             |  7.813e-06   0.000e+00 |\n",
      "08:28:24 440/500  |  12.0911     0.6093    11.4819 |   0.243967   0.0000e+00 |   0.3619    65           |  16.7540     0.6031    16.1509 |   0.3645    18             |  7.813e-06   0.000e+00 |\n",
      "08:31:19 441/500  |  12.0851     0.6094    11.4757 |   0.243967   0.0000e+00 |   0.3600    65           |  16.7578     0.6033    16.1546 |   0.3632    18             |  7.813e-06   0.000e+00 |\n",
      "08:34:14 442/500  |  11.8497     0.6094    11.2403 |   0.234223   0.0000e+00 |   0.3586    65           |  16.7083     0.6033    16.1050 |   0.3619    18             |  7.813e-06   0.000e+00 |\n",
      "08:37:11 443/500  |  11.8445     0.6096    11.2349 |   0.234223   0.0000e+00 |   0.3582    65           |  16.7135     0.6034    16.1100 |   0.3617    18             |  7.813e-06   0.000e+00 |\n",
      "08:40:06 444/500  |  11.8398     0.6098    11.2300 |   0.234223   0.0000e+00 |   0.3576    65           |  16.7167     0.6036    16.1132 |   0.3610    18             |  7.813e-06   0.000e+00 |\n",
      "08:43:00 445/500  |  11.8356     0.6099    11.2256 |   0.234223   0.0000e+00 |   0.3565    65           |  16.7186     0.6037    16.1149 |   0.3601    18             |  7.813e-06   0.000e+00 |\n",
      "08:45:57 446/500  |  11.8310     0.6101    11.2209 |   0.234223   0.0000e+00 |   0.3560    65           |  16.7239     0.6039    16.1200 |   0.3599    18             |  7.813e-06   0.000e+00 |\n",
      "08:48:53 447/500  |  11.8278     0.6103    11.2175 |   0.234223   0.0000e+00 |   0.3563    65           |  16.7267     0.6041    16.1226 |   0.3603    18             |  7.813e-06   0.000e+00 |\n",
      "08:51:51 448/500  |  11.8235     0.6104    11.2131 |   0.234223   0.0000e+00 |   0.3564    65           |  16.7287     0.6042    16.1245 |   0.3603    18             |  7.813e-06   0.000e+00 |\n",
      "08:54:46 449/500  |  11.8197     0.6106    11.2091 |   0.234223   0.0000e+00 |   0.3560    65           |  16.7302     0.6044    16.1258 |   0.3597    18             |  7.813e-06   0.000e+00 |\n",
      "08:57:44 450/500  |  11.8159     0.6108    11.2051 |   0.234223   0.0000e+00 |   0.3554    65           |  16.7344     0.6045    16.1299 |   0.3593    18             |  7.813e-06   0.000e+00 |\n",
      "09:00:40 451/500  |  11.8124     0.6110    11.2014 |   0.234223   0.0000e+00 |   0.3552    65           |  16.7358     0.6048    16.1310 |   0.3590    18             |  7.813e-06   0.000e+00 |\n",
      "09:03:39 452/500  |  11.8090     0.6111    11.1978 |   0.234223   0.0000e+00 |   0.3550    65           |  16.7387     0.6048    16.1339 |   0.3590    18             |  7.813e-06   0.000e+00 |\n",
      "09:06:38 453/500  |  11.8059     0.6113    11.1946 |   0.234223   0.0000e+00 |   0.3548    65           |  16.7395     0.6050    16.1344 |   0.3587    18             |  7.813e-06   0.000e+00 |\n",
      "09:09:33 454/500  |  11.8026     0.6114    11.1912 |   0.234223   0.0000e+00 |   0.3547    65           |  16.7410     0.6051    16.1359 |   0.3587    18             |  7.813e-06   0.000e+00 |\n",
      "09:12:30 455/500  |  11.7997     0.6116    11.1881 |   0.234223   0.0000e+00 |   0.3545    65           |  16.7435     0.6054    16.1381 |   0.3584    18             |  7.813e-06   0.000e+00 |\n",
      "09:15:28 456/500  |  11.7964     0.6118    11.1847 |   0.234223   0.0000e+00 |   0.3543    65           |  16.7472     0.6055    16.1417 |   0.3583    18             |  7.813e-06   0.000e+00 |\n",
      "09:18:23 457/500  |  11.7934     0.6119    11.1814 |   0.234223   0.0000e+00 |   0.3542    65           |  16.7514     0.6057    16.1457 |   0.3581    18             |  7.813e-06   0.000e+00 |\n",
      "09:21:22 458/500  |  11.7903     0.6121    11.1782 |   0.234223   0.0000e+00 |   0.3540    65           |  16.7512     0.6058    16.1454 |   0.3580    18             |  7.813e-06   0.000e+00 |\n",
      "09:24:21 459/500  |  11.7877     0.6122    11.1755 |   0.234223   0.0000e+00 |   0.3538    65           |  16.7552     0.6059    16.1492 |   0.3579    18             |  7.813e-06   0.000e+00 |\n",
      "09:27:15 460/500  |  11.7852     0.6124    11.1728 |   0.234223   0.0000e+00 |   0.3537    65           |  16.7556     0.6061    16.1495 |   0.3577    18             |  7.813e-06   0.000e+00 |\n",
      "09:30:11 461/500  |  11.7824     0.6126    11.1699 |   0.234223   0.0000e+00 |   0.3535    65           |  16.7591     0.6062    16.1529 |   0.3576    18             |  7.813e-06   0.000e+00 |\n",
      "09:33:07 462/500  |  11.7797     0.6128    11.1669 |   0.234223   0.0000e+00 |   0.3533    65           |  16.7602     0.6064    16.1538 |   0.3574    18             |  7.813e-06   0.000e+00 |\n",
      "09:36:02 463/500  |  11.7771     0.6129    11.1642 |   0.234223   0.0000e+00 |   0.3532    65           |  16.7626     0.6066    16.1560 |   0.3572    18             |  7.813e-06   0.000e+00 |\n",
      "09:38:57 464/500  |  11.7746     0.6131    11.1615 |   0.234223   0.0000e+00 |   0.3530    65           |  16.7642     0.6067    16.1575 |   0.3571    18             |  7.813e-06   0.000e+00 |\n",
      "09:41:55 465/500  |  11.7720     0.6132    11.1587 |   0.234223   0.0000e+00 |   0.3529    65           |  16.7675     0.6069    16.1607 |   0.3569    18             |  7.813e-06   0.000e+00 |\n",
      "09:44:53 466/500  |  11.7694     0.6134    11.1560 |   0.234223   0.0000e+00 |   0.3527    65           |  16.7712     0.6071    16.1641 |   0.3567    18             |  7.813e-06   0.000e+00 |\n",
      "09:47:49 467/500  |  11.7662     0.6135    11.1526 |   0.234223   0.0000e+00 |   0.3525    65           |  16.7694     0.6071    16.1623 |   0.3567    18             |  7.813e-06   0.000e+00 |\n",
      "09:50:45 468/500  |  11.7636     0.6137    11.1499 |   0.234223   0.0000e+00 |   0.3524    65           |  16.7748     0.6074    16.1674 |   0.3564    18             |  7.813e-06   0.000e+00 |\n",
      "09:53:39 469/500  |  11.7613     0.6139    11.1475 |   0.234223   0.0000e+00 |   0.3522    65           |  16.7738     0.6075    16.1663 |   0.3563    18             |  7.813e-06   0.000e+00 |\n",
      "09:56:41 470/500  |  11.7600     0.6140    11.1460 |   0.234223   0.0000e+00 |   0.3521    65           |  16.7790     0.6076    16.1714 |   0.3562    18             |  7.813e-06   0.000e+00 |\n",
      "09:59:39 471/500  |  11.7582     0.6141    11.1440 |   0.234223   0.0000e+00 |   0.3520    65           |  16.7755     0.6078    16.1678 |   0.3560    18             |  7.813e-06   0.000e+00 |\n",
      "10:02:34 472/500  |  11.7567     0.6143    11.1424 |   0.234223   0.0000e+00 |   0.3518    65           |  16.7783     0.6078    16.1705 |   0.3560    18             |  7.813e-06   0.000e+00 |\n",
      "10:05:30 473/500  |  11.5386     0.6143    10.9243 |   0.225502   0.0000e+00 |   0.3518    65           |  16.7379     0.6079    16.1300 |   0.3559    18             |  7.813e-06   0.000e+00 |\n",
      "10:08:28 474/500  |  11.5349     0.6144    10.9205 |   0.225502   0.0000e+00 |   0.3517    65           |  16.7424     0.6081    16.1343 |   0.3557    18             |  7.813e-06   0.000e+00 |\n",
      "10:11:31 475/500  |  11.5310     0.6146    10.9164 |   0.225502   0.0000e+00 |   0.3515    65           |  16.7451     0.6082    16.1369 |   0.3556    18             |  7.813e-06   0.000e+00 |\n",
      "10:14:28 476/500  |  11.5282     0.6147    10.9134 |   0.225502   0.0000e+00 |   0.3514    65           |  16.7496     0.6083    16.1413 |   0.3555    18             |  7.813e-06   0.000e+00 |\n",
      "10:17:27 477/500  |  11.5259     0.6149    10.9111 |   0.225502   0.0000e+00 |   0.3512    65           |  16.7505     0.6085    16.1420 |   0.3553    18             |  7.813e-06   0.000e+00 |\n",
      "10:20:26 478/500  |  11.5234     0.6150    10.9084 |   0.225502   0.0000e+00 |   0.3511    65           |  16.7516     0.6086    16.1429 |   0.3552    18             |  7.813e-06   0.000e+00 |\n",
      "10:23:25 479/500  |  11.5209     0.6152    10.9057 |   0.225502   0.0000e+00 |   0.3509    65           |  16.7549     0.6088    16.1462 |   0.3551    18             |  7.813e-06   0.000e+00 |\n",
      "10:26:25 480/500  |  11.5180     0.6153    10.9027 |   0.225502   0.0000e+00 |   0.3508    65           |  16.7558     0.6089    16.1469 |   0.3549    18             |  7.813e-06   0.000e+00 |\n",
      "10:29:26 481/500  |  11.5155     0.6155    10.9000 |   0.225502   0.0000e+00 |   0.3506    65           |  16.7604     0.6090    16.1514 |   0.3548    18             |  7.813e-06   0.000e+00 |\n",
      "10:32:25 482/500  |  11.5140     0.6157    10.8983 |   0.225502   0.0000e+00 |   0.3504    65           |  16.7570     0.6093    16.1477 |   0.3545    18             |  7.813e-06   0.000e+00 |\n",
      "10:35:24 483/500  |  11.5106     0.6158    10.8948 |   0.225502   0.0000e+00 |   0.3503    65           |  16.7632     0.6094    16.1539 |   0.3544    18             |  7.813e-06   0.000e+00 |\n",
      "10:38:23 484/500  |  11.5075     0.6159    10.8916 |   0.225502   0.0000e+00 |   0.3501    65           |  16.7607     0.6095    16.1512 |   0.3543    18             |  7.813e-06   0.000e+00 |\n",
      "10:41:21 485/500  |  11.5048     0.6161    10.8887 |   0.225502   0.0000e+00 |   0.3500    65           |  16.7666     0.6097    16.1569 |   0.3541    18             |  7.813e-06   0.000e+00 |\n",
      "10:44:20 486/500  |  11.5018     0.6163    10.8856 |   0.225502   0.0000e+00 |   0.3498    65           |  16.7674     0.6099    16.1575 |   0.3539    18             |  7.813e-06   0.000e+00 |\n",
      "10:47:20 487/500  |  11.4993     0.6164    10.8829 |   0.225502   0.0000e+00 |   0.3497    65           |  16.7704     0.6099    16.1605 |   0.3539    18             |  7.813e-06   0.000e+00 |\n",
      "10:50:16 488/500  |  11.4967     0.6165    10.8802 |   0.225502   0.0000e+00 |   0.3495    65           |  16.7709     0.6102    16.1607 |   0.3536    18             |  7.813e-06   0.000e+00 |\n",
      "10:53:14 489/500  |  11.4943     0.6167    10.8776 |   0.225502   0.0000e+00 |   0.3494    65           |  16.7726     0.6103    16.1624 |   0.3536    18             |  7.813e-06   0.000e+00 |\n",
      "10:56:11 490/500  |  11.4918     0.6168    10.8750 |   0.225502   0.0000e+00 |   0.3492    65           |  16.7742     0.6104    16.1638 |   0.3534    18             |  7.813e-06   0.000e+00 |\n",
      "10:59:12 491/500  |  11.4898     0.6170    10.8729 |   0.225502   0.0000e+00 |   0.3494    65           |  16.7752     0.6105    16.1648 |   0.3539    18             |  7.813e-06   0.000e+00 |\n",
      "11:02:10 492/500  |  11.5123     0.6170    10.8953 |   0.225502   0.0000e+00 |   0.3500    65           |  16.7697     0.6104    16.1593 |   0.3540    18             |  3.906e-06   0.000e+00 |\n",
      "11:05:11 493/500  |  11.5121     0.6170    10.8951 |   0.225502   0.0000e+00 |   0.3500    65           |  16.7641     0.6104    16.1538 |   0.3540    18             |  3.906e-06   0.000e+00 |\n",
      "11:08:09 494/500  |  11.5112     0.6170    10.8942 |   0.225502   0.0000e+00 |   0.3500    65           |  16.7619     0.6103    16.1516 |   0.3541    18             |  3.906e-06   0.000e+00 |\n",
      "11:11:06 495/500  |  11.5090     0.6171    10.8919 |   0.225502   0.0000e+00 |   0.3503    65           |  16.7619     0.6103    16.1516 |   0.3547    18             |  3.906e-06   0.000e+00 |\n",
      "11:14:05 496/500  |  11.5061     0.6171    10.8890 |   0.225502   0.0000e+00 |   0.3505    65           |  16.7627     0.6104    16.1523 |   0.3547    18             |  3.906e-06   0.000e+00 |\n",
      "11:17:04 497/500  |  11.5033     0.6172    10.8861 |   0.225502   0.0000e+00 |   0.3511    65           |  16.7642     0.6104    16.1537 |   0.3560    18             |  3.906e-06   0.000e+00 |\n",
      "11:20:03 498/500  |  11.5003     0.6172    10.8831 |   0.225502   0.0000e+00 |   0.3518    65           |  16.7652     0.6105    16.1548 |   0.3564    18             |  3.906e-06   0.000e+00 |\n",
      "11:23:02 499/500  |  11.4969     0.6173    10.8796 |   0.225502   0.0000e+00 |   0.3524    65           |  16.7663     0.6106    16.1557 |   0.3570    18             |  3.906e-06   0.000e+00 |\n",
      "11:26:03 500/500  |  11.4937     0.6174    10.8763 |   0.225502   0.0000e+00 |   0.3530    65           |  16.7687     0.6107    16.1580 |   0.3571    18             |  3.906e-06   0.000e+00 |\n"
     ]
    }
   ],
   "source": [
    "for epoch in range(model.ending_epoch):\n",
    "    display_epoch_metrics(model, epoch)"
   ]
  },
  {
   "cell_type": "code",
   "execution_count": 48,
   "id": "03e71f2a-4b3c-4554-8cb8-e4a25d56db61",
   "metadata": {
    "execution": {
     "iopub.execute_input": "2024-09-21T04:29:09.739319Z",
     "iopub.status.busy": "2024-09-21T04:29:09.738847Z",
     "iopub.status.idle": "2024-09-21T04:29:09.783568Z",
     "shell.execute_reply": "2024-09-21T04:29:09.782575Z",
     "shell.execute_reply.started": "2024-09-21T04:29:09.739277Z"
    }
   },
   "outputs": [
    {
     "name": "stdout",
     "output_type": "stream",
     "text": [
      " 20240921_062909  epoch  401 of  500\n"
     ]
    }
   ],
   "source": [
    "# model.starting_epoch = 100\n",
    "# model.ending_epoch = 200\n",
    "# model.starting_epoch = 503\n",
    "model.starting_epoch = model.ending_epoch\n",
    "model.ending_epoch += 100\n",
    "\n",
    "print(f\" {datetime.now().strftime('%Y%m%d_%H%M%S')}  epoch {model.starting_epoch+1:4d} of {model.ending_epoch:4d}\")"
   ]
  },
  {
   "cell_type": "markdown",
   "id": "0db40148-a95e-4895-8868-bd27050a3c9f",
   "metadata": {},
   "source": [
    "### Close WandB Logging"
   ]
  },
  {
   "cell_type": "code",
   "execution_count": 51,
   "id": "1251c457-bbae-4bfc-a786-92fbc8d2ddb6",
   "metadata": {
    "execution": {
     "iopub.execute_input": "2024-09-22T16:51:09.085295Z",
     "iopub.status.busy": "2024-09-22T16:51:09.084809Z",
     "iopub.status.idle": "2024-09-22T16:51:16.646769Z",
     "shell.execute_reply": "2024-09-22T16:51:16.645612Z",
     "shell.execute_reply.started": "2024-09-22T16:51:09.085254Z"
    },
    "scrolled": true
   },
   "outputs": [
    {
     "data": {
      "text/html": [
       "<style>\n",
       "    table.wandb td:nth-child(1) { padding: 0 10px; text-align: left ; width: auto;} td:nth-child(2) {text-align: left ; width: 100%}\n",
       "    .wandb-row { display: flex; flex-direction: row; flex-wrap: wrap; justify-content: flex-start; width: 100% }\n",
       "    .wandb-col { display: flex; flex-direction: column; flex-basis: 100%; flex: 1; padding: 10px; }\n",
       "    </style>\n",
       "<div class=\"wandb-row\"><div class=\"wandb-col\"><h3>Run history:</h3><br/><table class=\"wandb\"><tr><td>temp_grad_hist</td><td>▁▁▁▁▁▁▁▁▁▁▁▁▁▁▁▁▁▁▁▁▁▁▁▁▁▁▁▁▁▁▁▁▁▁▁▁▁▁▁▁</td></tr><tr><td>temp_hist</td><td>███▆▆▆▅▅▅▅▄▄▄▄▄▃▃▃▃▃▃▃▂▂▂▂▂▂▂▂▂▁▁▁▁▁▁▁▁▁</td></tr><tr><td>temp_lr</td><td>▁▁▁▁▁▁▁▁▁▁▁▁▁▁▁▁▁▁▁▁▁▁▁▁▁▁▁▁▁▁▁▁▁▁▁▁▁▁▁▁</td></tr><tr><td>trn_R2_score</td><td>██████▇▇▇▇▆▆▆▅▅▄▄▄▃▃▃▃▂▂▂▂▂▂▂▂▁▁▁▁▁▁▁▁▁▁</td></tr><tr><td>trn_best_loss</td><td>███▇▇▇▇▇▇▇▆▆▆▅▅▅▅▄▄▄▄▄▃▃▃▃▃▃▂▂▂▂▂▂▁▁▁▁▁▁</td></tr><tr><td>trn_best_loss_ep</td><td>▁▁▁▂▂▂▂▂▂▃▃▃▃▃▃▄▄▄▄▄▅▅▅▅▅▆▆▆▆▆▇▇▇▇▇▇████</td></tr><tr><td>trn_best_metric</td><td>▁▁▁▁▁▁▁▁▁▁▁▁▁▁▁▁▁▁▁▁▁▁▁▁▁▁▁▁▁▁▁▁▁▁▁▁▁▁▁▁</td></tr><tr><td>trn_best_metric_ep</td><td>▁▁▁▁▁▁▁▁▁▁▁▁▁▁▁▁▁▁▁▁▁▁▁▁▁▁▁▁▁▁▁▁▁▁▁▁▁▁▁▁</td></tr><tr><td>trn_lr</td><td>███▄▄▄▄▄▄▃▃▃▃▃▃▂▂▂▂▂▂▁▁▁▁▁▁▁▁▁▁▁▁▁▁▁▁▁▁▁</td></tr><tr><td>trn_prim_loss</td><td>▁▁▁▁▂▂▂▂▃▃▃▃▄▄▄▅▅▆▆▆▆▇▇▇▇▇▇▇▇███████████</td></tr><tr><td>trn_snn_loss</td><td>███▇▇▇▇▇▇▇▆▆▆▅▅▅▄▄▄▄▄▄▃▃▃▃▃▃▂▂▂▂▂▂▁▁▁▁▁▁</td></tr><tr><td>trn_ttl_loss</td><td>███▇▇▇▇▇▇▇▆▆▆▅▅▅▅▄▄▄▄▄▃▃▃▃▃▃▂▂▂▂▂▂▁▁▁▁▁▁</td></tr><tr><td>val_R2_score</td><td>██████▇▇▇▇▆▆▅▅▅▄▄▄▃▃▃▃▂▂▂▂▂▂▂▁▁▁▁▁▁▁▁▁▁▁</td></tr><tr><td>val_best_loss</td><td>███▆▆▆▄▄▄▄▃▃▃▃▃▂▂▂▂▂▂▂▁▁▁▁▁▁▁▁▁▁▁▁▁▁▁▁▁▁</td></tr><tr><td>val_best_loss_ep</td><td>▁▁▁▂▂▂▃▃▃▃▃▃▃▄▄▅▅▅▅▆▆▆▆▆▆▆▆█████████████</td></tr><tr><td>val_best_metric</td><td>▁▁▁▁▁▁▁▁▁▁▁▁▁▁▁▁▁▁▁▁▁▁▁▁▁▁▁▁▁▁▁▁▁▁▁▁▁▁▁▁</td></tr><tr><td>val_best_metric_ep</td><td>▁▁▁▁▁▁▁▁▁▁▁▁▁▁▁▁▁▁▁▁▁▁▁▁▁▁▁▁▁▁▁▁▁▁▁▁▁▁▁▁</td></tr><tr><td>val_prim_loss</td><td>▁▁▁▁▂▂▂▂▃▃▃▃▄▄▅▅▅▆▆▆▆▇▇▇▇▇▇▇▇███████████</td></tr><tr><td>val_snn_loss</td><td>███▆▆▆▅▅▅▅▄▄▄▃▃▂▂▂▂▂▂▂▁▂▂▁▁▁▁▁▁▁▁▁▁▁▁▁▁▁</td></tr><tr><td>val_ttl_loss</td><td>███▅▆▆▄▄▄▄▃▃▄▂▃▂▂▂▂▂▂▂▁▂▂▁▁▁▁▁▂▁▂▁▁▁▂▁▂▂</td></tr></table><br/></div><div class=\"wandb-col\"><h3>Run summary:</h3><br/><table class=\"wandb\"><tr><td>temp_grad_hist</td><td>0.0</td></tr><tr><td>temp_hist</td><td>0.2255</td></tr><tr><td>temp_lr</td><td>0.0</td></tr><tr><td>trn_R2_score</td><td>0.35295</td></tr><tr><td>trn_best_loss</td><td>11.48984</td></tr><tr><td>trn_best_loss_ep</td><td>490</td></tr><tr><td>trn_best_metric</td><td>0.5987</td></tr><tr><td>trn_best_metric_ep</td><td>64</td></tr><tr><td>trn_lr</td><td>0.0</td></tr><tr><td>trn_prim_loss</td><td>0.61737</td></tr><tr><td>trn_snn_loss</td><td>10.87633</td></tr><tr><td>trn_time</td><td>11:25:26</td></tr><tr><td>trn_ttl_loss</td><td>11.49369</td></tr><tr><td>val_R2_score</td><td>0.35712</td></tr><tr><td>val_best_loss</td><td>16.64759</td></tr><tr><td>val_best_loss_ep</td><td>379</td></tr><tr><td>val_best_metric</td><td>0.61797</td></tr><tr><td>val_best_metric_ep</td><td>17</td></tr><tr><td>val_prim_loss</td><td>0.61067</td></tr><tr><td>val_snn_loss</td><td>16.15803</td></tr><tr><td>val_time</td><td>11:26:03</td></tr><tr><td>val_ttl_loss</td><td>16.7687</td></tr></table><br/></div></div>"
      ],
      "text/plain": [
       "<IPython.core.display.HTML object>"
      ]
     },
     "metadata": {},
     "output_type": "display_data"
    },
    {
     "data": {
      "text/html": [
       " View run <strong style=\"color:#cdcd00\">AE_20240917_2004</strong> at: <a href='https://wandb.ai/kbardool/CellPainting_Profiles/runs/kfzmaqko' target=\"_blank\">https://wandb.ai/kbardool/CellPainting_Profiles/runs/kfzmaqko</a><br/> View project at: <a href='https://wandb.ai/kbardool/CellPainting_Profiles' target=\"_blank\">https://wandb.ai/kbardool/CellPainting_Profiles</a><br/>Synced 4 W&B file(s), 0 media file(s), 0 artifact file(s) and 0 other file(s)"
      ],
      "text/plain": [
       "<IPython.core.display.HTML object>"
      ]
     },
     "metadata": {},
     "output_type": "display_data"
    },
    {
     "data": {
      "text/html": [
       "Find logs at: <code>./wandb/run-20240919_201237-kfzmaqko/logs</code>"
      ],
      "text/plain": [
       "<IPython.core.display.HTML object>"
      ]
     },
     "metadata": {},
     "output_type": "display_data"
    },
    {
     "data": {
      "text/html": [
       "The new W&B backend becomes opt-out in version 0.18.0; try it out with `wandb.require(\"core\")`! See https://wandb.me/wandb-core for more information."
      ],
      "text/plain": [
       "<IPython.core.display.HTML object>"
      ]
     },
     "metadata": {},
     "output_type": "display_data"
    }
   ],
   "source": [
    "if args.WANDB_ACTIVE:\n",
    "    wandb_run.finish()\n",
    "    args.WANDB_ACTIVE = False"
   ]
  },
  {
   "cell_type": "markdown",
   "id": "d989aa94-f3ce-4ece-8467-75d6028f66cc",
   "metadata": {
    "jp-MarkdownHeadingCollapsed": true
   },
   "source": [
    "## Misc stuff"
   ]
  },
  {
   "cell_type": "code",
   "execution_count": null,
   "id": "04b975cc-ffe8-49c3-adb0-8f5cd7dc9204",
   "metadata": {},
   "outputs": [],
   "source": [
    "# for p in model.layers:\n",
    "#     if hasattr(p, 'weight'):\n",
    "#         p.weight.shape, p.bias.shape\n",
    "# model.training_history['trn'].keys()\n",
    "# # model.training_history['trn']['L04_W_grad']\n",
    "# model.optimizers['prim']\n",
    "# model.state_dict()['layers.0.weight']\n",
    "# model.optimizers['prim'].zero_grad()\n",
    "# layers.0.weight\n",
    "# display_model_gradients(model, 'test')\n",
    "# model.state_dict()['layers.0.weight'].requires_grad\n",
    "# model.temperature.data\n",
    "# model.snnl_criterion.temperature"
   ]
  },
  {
   "cell_type": "code",
   "execution_count": null,
   "id": "7f79f504-b6a9-49c6-96a8-95dedace8b88",
   "metadata": {},
   "outputs": [],
   "source": [
    "# display_epoch_metrics(model, model.epoch, model.ending_epoch, header = True)"
   ]
  },
  {
   "cell_type": "code",
   "execution_count": null,
   "id": "4cb33f46-7cda-4178-b435-9a9bcd9f52f0",
   "metadata": {},
   "outputs": [],
   "source": [
    "# model.starting_epoch, model.ending_epoch = 0, 2\n",
    "# epoch = 1\n",
    "# model.temperature = torch.abs(model.temperature)\n",
    "# model.temperature = torch.nn.Parameter(torch.clip(model.temperature, 0.001, None))\n",
    "# model.snnl_criterion.temperature= torch.nn.Parameter(torch.clip(model.snnl_criterion.temperature, 0.001, None))"
   ]
  },
  {
   "cell_type": "code",
   "execution_count": null,
   "id": "fbe95719-d1e2-46fd-984c-51c47775609c",
   "metadata": {},
   "outputs": [],
   "source": [
    "# model.state_dict().keys()\n",
    "# # for k in ['temperature', 'snnl_criterion.temperature'\n",
    "# for k in ['temperature', 'snnl_criterion.temperature','layers.0.weight', 'layers.0.bias','layers.2.weight','layers.4.weight','layers.4.bias','layers.5.weight','layers.5.bias','layers.7.weight','layers.9.weight','layers.9.bias',]:\n",
    "#     if model.state_dict()[k].ndim > 1:\n",
    "#         print(f\" {k+' - '+str(model.state_dict()[k].shape):45s} - {model.state_dict()[k][:3,:3].reshape((-1)).data}\")\n",
    "#     else:\n",
    "#         print(f\" {k+' - '+str(model.state_dict()[k].shape):45s} - {model.state_dict()[k][:9].data}\")\n"
   ]
  },
  {
   "cell_type": "markdown",
   "id": "9d7f6ece-b0e4-4e64-bc35-928a3c3f961d",
   "metadata": {},
   "source": [
    "# Plot losses, weights, biases and gradients"
   ]
  },
  {
   "cell_type": "code",
   "execution_count": null,
   "id": "1f0299df-2c74-4751-9d64-00bf7670954f",
   "metadata": {},
   "outputs": [],
   "source": [
    "# if 0:\n",
    "#     model_attributes = model.__dict__\n",
    "#     model.training_history['train'].keys()\n",
    "#     for key, value in model.training_history['train'].items():\n",
    "#         if isinstance(value, List) or key in [\"test_accuracy\", \"test_f1\"]:\n",
    "#             print(f\"{key:25s} {type(value)}  {len(value):7d}  {value[-5:]}\")\n",
    "#     print()\n",
    "#     for key, value in model.training_history['val'].items():\n",
    "#         if isinstance(value, List) or key in [\"test_accuracy\", \"test_f1\"]:\n",
    "#             print(f\"{key:25s} {type(value)}  {len(value):7d}  {value[-5:]}\")        \n",
    "\n",
    "# tmp = np.array(model.training_history['train']['temp_grads'])\n",
    "# for st in range(0,len(tmp), 1000):\n",
    "#     end = st + 1000\n",
    "#     print(f\" {st:5d} - {end:5d}  min: {tmp[st:end].min():9e}   max: {tmp[st:end].max():9e}    avg: {tmp[st:end].mean():9e}   std: {tmp[st:end].std():9e}\")"
   ]
  },
  {
   "cell_type": "code",
   "execution_count": 21,
   "id": "035c3999-7bf1-4d09-b91d-fd634d1f85b2",
   "metadata": {
    "execution": {
     "iopub.execute_input": "2024-09-09T15:26:05.265862Z",
     "iopub.status.busy": "2024-09-09T15:26:05.265403Z",
     "iopub.status.idle": "2024-09-09T15:26:06.313484Z",
     "shell.execute_reply": "2024-09-09T15:26:06.312124Z",
     "shell.execute_reply.started": "2024-09-09T15:26:05.265821Z"
    },
    "scrolled": true
   },
   "outputs": [
    {
     "data": {
      "image/png": "[encoded data removed]",
      "text/plain": [
       "<Figure size 2000x400 with 5 Axes>"
      ]
     },
     "metadata": {},
     "output_type": "display_data"
    }
   ],
   "source": [
    "plot_train_history(model, start=0, n_bins = 25)"
   ]
  },
  {
   "cell_type": "code",
   "execution_count": 22,
   "id": "00a3e1ef-861f-4323-86c0-0a07fdb97157",
   "metadata": {
    "execution": {
     "iopub.execute_input": "2024-09-09T15:28:42.262717Z",
     "iopub.status.busy": "2024-09-09T15:28:42.262112Z",
     "iopub.status.idle": "2024-09-09T15:28:42.597126Z",
     "shell.execute_reply": "2024-09-09T15:28:42.596354Z",
     "shell.execute_reply.started": "2024-09-09T15:28:42.262673Z"
    },
    "scrolled": true
   },
   "outputs": [
    {
     "data": {
      "image/png": "[encoded data removed]",
      "text/plain": [
       "<Figure size 400x400 with 1 Axes>"
      ]
     },
     "metadata": {},
     "output_type": "display_data"
    }
   ],
   "source": [
    "plot_regression_metrics(model,start = 4, n_bins = 25)"
   ]
  },
  {
   "cell_type": "code",
   "execution_count": null,
   "id": "f654fd1b-0782-4a14-a92e-8ff68a70523f",
   "metadata": {
    "scrolled": true
   },
   "outputs": [],
   "source": [
    "# plot_train_metrics(model, n_bins = 25)\n",
    "# plot_regression_metrics(model,start = 4, n_bins = 25)"
   ]
  },
  {
   "cell_type": "code",
   "execution_count": null,
   "id": "533b465a-6b4a-4696-a014-793b8f7df079",
   "metadata": {
    "scrolled": true
   },
   "outputs": [],
   "source": [
    "plot_train_history(model, start= 0, n_bins = 25)"
   ]
  },
  {
   "cell_type": "code",
   "execution_count": null,
   "id": "85774d06-9f14-4b02-b0c6-b8c60ba92ffa",
   "metadata": {
    "jupyter": {
     "source_hidden": true
    },
    "scrolled": true
   },
   "outputs": [],
   "source": [
    "plot_train_history(model, start= 0, n_bins = 25)"
   ]
  },
  {
   "cell_type": "code",
   "execution_count": null,
   "id": "f6b91b33-81bd-47e8-aa8e-bda1bd4d4583",
   "metadata": {
    "scrolled": true
   },
   "outputs": [],
   "source": [
    "plot_train_history(model, start= 100, n_bins = 25)"
   ]
  },
  {
   "cell_type": "code",
   "execution_count": null,
   "id": "5d4eae70-3b13-4893-b485-f8ad87b4cd68",
   "metadata": {
    "scrolled": true
   },
   "outputs": [],
   "source": [
    "plot_train_history(model, start= 10, n_bins = 25)"
   ]
  },
  {
   "cell_type": "code",
   "execution_count": null,
   "id": "bc760f53-8449-4d3a-a274-f11108ed4784",
   "metadata": {
    "scrolled": true
   },
   "outputs": [],
   "source": [
    "plot_train_history(model, start= 10, n_bins = 25)"
   ]
  },
  {
   "cell_type": "code",
   "execution_count": null,
   "id": "7f50fdb6-0457-4cd3-b958-65bb44e4216d",
   "metadata": {},
   "outputs": [],
   "source": [
    "plot_model_parms(model, epochs= model.epoch, n_bins = 15)"
   ]
  },
  {
   "cell_type": "code",
   "execution_count": null,
   "id": "5bedbd23-8bc7-4173-9046-5db23a073ca0",
   "metadata": {},
   "outputs": [],
   "source": []
  },
  {
   "cell_type": "markdown",
   "id": "75fb4184-7640-4cc5-bf19-249ebb9fc072",
   "metadata": {
    "execution": {
     "iopub.execute_input": "2024-04-01T00:58:52.961399Z",
     "iopub.status.busy": "2024-04-01T00:58:52.960920Z"
    },
    "jp-MarkdownHeadingCollapsed": true
   },
   "source": [
    "# Load model"
   ]
  },
  {
   "cell_type": "code",
   "execution_count": null,
   "id": "c914b200-c783-4477-9ca7-3370a23ec595",
   "metadata": {},
   "outputs": [],
   "source": [
    "ex_name = 'AE'\n",
    "ex_epoch = 50\n",
    "ex_runmode = 'snnl'\n",
    "ex_date = '20240718'\n",
    "ex_time = '1956'\n",
    "ex_title = args.exp_title\n",
    "compounds_per_batch = args.cpb\n",
    "print(args.exp_title)\n",
    "# runmode = 'snnl'\n",
    "# ex_date = '20240516'\n",
    "# ex_title = args.exp_title\n",
    "# ex_epoch = 200"
   ]
  },
  {
   "cell_type": "code",
   "execution_count": null,
   "id": "4e833db8-a709-4f76-9346-fd582b95ab70",
   "metadata": {},
   "outputs": [],
   "source": [
    "# filename = f\"{model.name}_{args.runmode}_{exp_date}_{exp_title}_ep_{exp_epoch:03d}\"\n",
    "# filename = f\"{model.name}_{ex_runmode}_{ex_date}_{ex_title}_{epochs:03d}_cpb_{ex_cpb}_factor_{ex_factor:d}.pt\"\n",
    "# file_pattern = f\"{model.name}_{ex_runmode}_{ex_date}_{ex_title}_*_cpb_{ex_cpb}_factor_{ex_factor:d}.pt\"\n",
    "filename = f\"{ex_name}_{ex_runmode}_{ex_title}_{ex_date}_{ex_time}_{ex_epoch:03d}.pt\"\n",
    "print(filename)\n",
    "file_pattern = f\"{ex_name}_{ex_runmode}_{ex_title}_{ex_date}_{ex_time}_BEST*.pt\"\n",
    "# file_pattern = f\"{ex_name}_{ex_runmode}_{ex_title}_{ex_date}_{ex_time}_LAST*.pt\"\n",
    "print(file_pattern)"
   ]
  },
  {
   "cell_type": "code",
   "execution_count": null,
   "id": "52e8f566-6c23-496e-a8ec-08d0e2e2a51b",
   "metadata": {},
   "outputs": [],
   "source": [
    "import glob\n",
    "filelist = glob.glob(file_pattern,root_dir = './ckpts')\n",
    "filelist = sorted(filelist)\n",
    "filelist\n",
    "# epochlist =sorted([int(x[-6:-3]) for x in filelist])\n",
    "# epochlist"
   ]
  },
  {
   "cell_type": "code",
   "execution_count": null,
   "id": "d0861ccd-806e-4e62-9139-b4d73d6e3d67",
   "metadata": {},
   "outputs": [],
   "source": [
    "# runmode = 'snnl'\n",
    "# ex_date = '20240516'\n",
    "# ex_title = args.exp_title\n",
    "ex_epoch = 200\n",
    "\n",
    "filename = f\"{model.name}_{args.runmode}_{exp_date}_{exp_title}_ep_{exp_epoch:03d}\"\n",
    "filename = filelist[0]\n",
    "if filename[-3:] != '.pt':\n",
    "    filename += '.pt'\n",
    "print(filename)\n",
    "\n",
    "if os.path.exists(os.path.join('ckpts', filename)):\n",
    "    print(f\"\\n *** Checkpoint EXISTS *** \\n\")\n",
    "else:\n",
    "    print(f\"\\n *** Checkpoint DOESNT EXIST *** \\n\")"
   ]
  },
  {
   "cell_type": "code",
   "execution_count": null,
   "id": "2d6a57df-2a6c-4ca5-8bc0-0672d1c03901",
   "metadata": {
    "scrolled": true
   },
   "outputs": [],
   "source": [
    "# mdl , last_epoch = load_checkpoint_v2(model, filename)\n",
    "mdl, last_epoch, mdl_ckpt = utils.load_checkpoint_v5(model, filename)\n",
    "print(f\" last epoch : {last_epoch}\")"
   ]
  },
  {
   "cell_type": "code",
   "execution_count": null,
   "id": "8990d905-d098-49fe-bee2-f0f449ba3ac2",
   "metadata": {},
   "outputs": [],
   "source": [
    "print(args.current_device)\n",
    "print(mdl.device)\n",
    "# model.device = current_device\n",
    "print(mdl.device)"
   ]
  },
  {
   "cell_type": "code",
   "execution_count": null,
   "id": "00c841d7-6d85-438c-a7da-e8026fb4f644",
   "metadata": {},
   "outputs": [],
   "source": [
    "print(current_device)\n",
    "model.train()\n",
    "model = model.cuda(device=current_device)"
   ]
  },
  {
   "cell_type": "code",
   "execution_count": null,
   "id": "a2ddb4f9-b6fa-4c44-8cef-ccdaa99ce49b",
   "metadata": {},
   "outputs": [],
   "source": [
    "starting_epoch, epochs,"
   ]
  },
  {
   "cell_type": "code",
   "execution_count": null,
   "id": "25b03053-b090-4116-898a-acbfb8add271",
   "metadata": {},
   "outputs": [],
   "source": [
    "print(f\" last epoch  {last_epoch}\")"
   ]
  },
  {
   "cell_type": "code",
   "execution_count": null,
   "id": "eb1241f9-4ad1-425f-8526-43c5cd89859c",
   "metadata": {},
   "outputs": [],
   "source": [
    "# starting_epoch = 20\n",
    "starting_epoch = last_epoch\n",
    "epochs = last_epoch + 100\n",
    "# starting_epoch = epoch + 1\n",
    "print(f\" run epochs {starting_epoch+1} to {epochs} \")"
   ]
  },
  {
   "cell_type": "code",
   "execution_count": null,
   "id": "361a2ba1-0bac-4ff8-aa08-950fe7fe2302",
   "metadata": {},
   "outputs": [],
   "source": [
    "print()\n",
    "print(f\" model device              : {model.device}\")\n",
    "print(f\" model temperature         : {model.temperature}\")\n",
    "print(f\" model use prim_optimizer  : {model.use_prim_optimizer}\")\n",
    "print(f\" model use prim_scheduler  : {model.use_prim_scheduler}\")\n",
    "print() \n",
    "print(f\" loss_factor               : {model.loss_factor}\")\n",
    "print(f\" monitor_grads_layer       : {model.monitor_grads_layer}\")\n",
    "print(f\" Learning rate             : {model.optimizers['prim'].param_groups[0]['lr']}\") \n",
    "print(f\" Optimizer ParamGroup[0]   : {model.optimizers['prim'].param_groups[0]}\") \n",
    "print() \n",
    "print(f\" Optimizer ParamGroup[0]   : {model.optimizers['prim'].state_dict()}\") \n",
    "\n",
    "print(f\" snnl_factor               : {model.snnl_factor}\")\n",
    "# if model.use_snnl:\n",
    "#     print(f\" temperature          : {model.temperature.item()}\")\n",
    "# if model.temp_optimizer is not None:\n",
    "#     print(f\" Temperature LR       : {model.temp_optimizer.param_groups[0]['lr']}\") \n",
    "# print()\n",
    "\n",
    "# for th_key in ['trn', 'val']:\n",
    "#     for k,v in model.training_history[th_key].items():\n",
    "#         if isinstance(v[-1],str):\n",
    "#             print(f\" {k:20s} : {v[-1]:s}  \")\n",
    "#         else:\n",
    "#             print(f\" {k:20s} : {v[-1]:6f} \")\n",
    "#     print()\n"
   ]
  },
  {
   "cell_type": "code",
   "execution_count": null,
   "id": "8ac91959-7226-4ca8-a4fa-fd984ce7cd9d",
   "metadata": {},
   "outputs": [],
   "source": [
    "model.optimizers['prim']['params']\n",
    "# model.use_prim_scheduler"
   ]
  },
  {
   "cell_type": "code",
   "execution_count": null,
   "id": "6a4b320a-e40a-47b2-886f-6130c314afb8",
   "metadata": {
    "scrolled": true
   },
   "outputs": [],
   "source": [
    "model.optimizers \n",
    "print()"
   ]
  },
  {
   "cell_type": "code",
   "execution_count": null,
   "id": "903b5c7a-4271-4659-857d-29ee395daedc",
   "metadata": {},
   "outputs": [],
   "source": [
    "model.scheduler.__dict__"
   ]
  },
  {
   "cell_type": "code",
   "execution_count": null,
   "id": "35c66518-e1f1-4c19-9aa0-27bb21a0c68d",
   "metadata": {
    "scrolled": true
   },
   "outputs": [],
   "source": [
    "model.temp_optimizer.__dict__\n",
    "print()"
   ]
  },
  {
   "cell_type": "code",
   "execution_count": null,
   "id": "5cbf6a8e-28bd-461e-ac24-0f9ba13858b1",
   "metadata": {
    "scrolled": true
   },
   "outputs": [],
   "source": [
    "model.temp_scheduler.__dict__"
   ]
  }
 ],
 "metadata": {
  "kernelspec": {
   "display_name": "Python [conda env:ptsnnl]",
   "language": "python",
   "name": "conda-env-ptsnnl-py"
  },
  "language_info": {
   "codemirror_mode": {
    "name": "ipython",
    "version": 3
   },
   "file_extension": ".py",
   "mimetype": "text/x-python",
   "name": "python",
   "nbconvert_exporter": "python",
   "pygments_lexer": "ipython3",
   "version": "3.11.0"
  },
  "toc": {
   "base_numbering": 1,
   "nav_menu": {},
   "number_sections": true,
   "sideBar": true,
   "skip_h1_title": false,
   "title_cell": "Table of Contents",
   "title_sidebar": "Contents",
   "toc_cell": false,
   "toc_position": {},
   "toc_section_display": true,
   "toc_window_display": false
  }
 },
 "nbformat": 4,
 "nbformat_minor": 5
}
