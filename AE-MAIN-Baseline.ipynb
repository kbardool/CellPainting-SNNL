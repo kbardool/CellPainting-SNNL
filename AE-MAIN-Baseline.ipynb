{
 "cells": [
  {
   "cell_type": "markdown",
   "id": "ca813a76-47b7-458b-a3d2-1e4f49079a08",
   "metadata": {},
   "source": [
    "  # Autoencoder - Baseline mode - Copy 1"
   ]
  },
  {
   "cell_type": "markdown",
   "id": "41638752-2456-4f2e-9e7e-e4039fe926a2",
   "metadata": {},
   "source": [
    "# Setup"
   ]
  },
  {
   "cell_type": "code",
   "execution_count": 1,
   "id": "11ad0ae2",
   "metadata": {
    "ExecuteTime": {
     "end_time": "2023-04-12T10:29:15.566596Z",
     "start_time": "2023-04-12T10:29:15.550232Z"
    },
    "execution": {
     "iopub.execute_input": "2024-06-21T18:14:16.107976Z",
     "iopub.status.busy": "2024-06-21T18:14:16.107714Z",
     "iopub.status.idle": "2024-06-21T18:14:16.130924Z",
     "shell.execute_reply": "2024-06-21T18:14:16.130257Z",
     "shell.execute_reply.started": "2024-06-21T18:14:16.107938Z"
    }
   },
   "outputs": [
    {
     "name": "stdout",
     "output_type": "stream",
     "text": [
      "/home/kevin/WSL-shared/Cellpainting/pt-snnl\n"
     ]
    },
    {
     "data": {
      "text/html": [
       "<style>.container { width:98% !important; }</style>"
      ],
      "text/plain": [
       "<IPython.core.display.HTML object>"
      ]
     },
     "metadata": {},
     "output_type": "display_data"
    }
   ],
   "source": [
    "# %pwd\n",
    "# %cd ~/WSL-shared/Cellpainting/pt-snnl/\n",
    "from IPython.display import display, HTML\n",
    "display(HTML(\"<style>.container { width:98% !important; }</style>\"))\n",
    "%load_ext autoreload  \n",
    "%autoreload 2\n",
    "from IPython.core.interactiveshell import InteractiveShell\n",
    "InteractiveShell.ast_node_interactivity = \"all\""
   ]
  },
  {
   "cell_type": "code",
   "execution_count": 2,
   "id": "58ef1445-5dc0-496d-8627-28c620391492",
   "metadata": {
    "ExecuteTime": {
     "end_time": "2023-04-12T10:29:16.111588Z",
     "start_time": "2023-04-12T10:29:15.764305Z"
    },
    "execution": {
     "iopub.execute_input": "2024-06-21T18:14:16.132012Z",
     "iopub.status.busy": "2024-06-21T18:14:16.131788Z",
     "iopub.status.idle": "2024-06-21T18:14:21.059755Z",
     "shell.execute_reply": "2024-06-21T18:14:21.059068Z",
     "shell.execute_reply.started": "2024-06-21T18:14:16.131992Z"
    }
   },
   "outputs": [
    {
     "name": "stdout",
     "output_type": "stream",
     "text": [
      "['../..', './src', '/home/kevin/miniforge3/envs/ptsnnl/lib/python311.zip', '/home/kevin/miniforge3/envs/ptsnnl/lib/python3.11', '/home/kevin/miniforge3/envs/ptsnnl/lib/python3.11/lib-dynload', '', '/home/kevin/miniforge3/envs/ptsnnl/lib/python3.11/site-packages', '/home/kevin/miniforge3/envs/ptsnnl/lib/python3.11/site-packages/cytominer_eval-0.1-py3.11.egg']\n",
      "2.2.1+cu118\n"
     ]
    }
   ],
   "source": [
    "import os\n",
    "import sys\n",
    "import csv\n",
    "import json\n",
    "import time\n",
    "import pprint\n",
    "import logging \n",
    "from datetime import datetime\n",
    "for p in ['./src','../..']:\n",
    "    if p not in sys.path:\n",
    "        # print(f\"insert {p}\")\n",
    "        sys.path.insert(0, p)\n",
    "print(sys.path)\n",
    "# import shutil, getpass\n",
    "\n",
    "from matplotlib import pyplot as plt\n",
    "from typing import Dict, List, Tuple\n",
    "from scipy.sparse import csr_matrix\n",
    "from tqdm import tqdm\n",
    "\n",
    "import numpy as np\n",
    "import pandas as pd\n",
    "\n",
    "import torch\n",
    "import torch.nn.functional as F\n",
    "from torchinfo import summary\n",
    "\n",
    "torch.set_printoptions(precision=None, threshold=None, edgeitems=None, linewidth=150, profile=None, sci_mode=None)\n",
    "print(torch.__version__)\n",
    "\n",
    "pp = pprint.PrettyPrinter(indent=4)\n",
    "pd.options.display.width = 132\n",
    "torch.set_printoptions(precision=None, threshold=None, edgeitems=None, linewidth=150, profile=None, sci_mode=None)\n",
    "np.set_printoptions(edgeitems=3, infstr='inf', linewidth=150, nanstr='nan')\n",
    "\n",
    "WANDB_ACTIVE = False\n",
    "\n",
    "os.environ[\"WANDB_NOTEBOOK_NAME\"] = \"Autoencoder_dev.ipynb\"\n",
    "# os.environ[\"CUDA_LAUNCH_BLOCKING\"] = \"1\"\n",
    "# os.environ[\"CUDA_VISIBLE_DEVICES\"] = \"1\"\n",
    "import wandb\n",
    "\n",
    "from KevinsRoutines.utils.utils_wandb  import  init_wandb, wandb_log_metrics,wandb_watch\n",
    "from KevinsRoutines.utils.utils_general  import  list_namespace \n",
    "from snnl.utils import parse_args, load_configuration, set_global_seed, get_device, set_device\n",
    "from snnl.utils import load_model, save_model, import_results, export_results, save_checkpoint, load_checkpoint \n",
    "from snnl.utils import plot_model_parms, plot_train_history, plot_classification_metrics, plot_regression_metrics\n",
    "from snnl.utils import display_epoch_metrics, display_cellpainting_batch\n",
    "from snnl.utils import CellpaintingDataset, InfiniteDataLoader, custom_collate_fn\n",
    "from snnl.utils import display_model_summary, define_autoencoder_model\n",
    "from snnl.utils import save_checkpoint_v2, load_checkpoint_v2, save_checkpoint_v3\n",
    "\n",
    "from snnl.models import Model\n",
    "from snnl.models import DNN \n",
    "from snnl.models import Autoencoder\n",
    "from snnl.losses import SNNLoss"
   ]
  },
  {
   "cell_type": "code",
   "execution_count": 3,
   "id": "368ed77e-7d0b-4b4f-95be-1e133d735833",
   "metadata": {
    "execution": {
     "iopub.execute_input": "2024-06-21T18:14:21.061262Z",
     "iopub.status.busy": "2024-06-21T18:14:21.060923Z",
     "iopub.status.idle": "2024-06-21T18:14:21.098334Z",
     "shell.execute_reply": "2024-06-21T18:14:21.097799Z",
     "shell.execute_reply.started": "2024-06-21T18:14:21.061241Z"
    }
   },
   "outputs": [
    {
     "name": "stderr",
     "output_type": "stream",
     "text": [
      "2024-06-21 20:14:21,094 - __main__ - INFO: -  Excution started : 2024_06_21_20:14:21 \n",
      "2024-06-21 20:14:21,095 - __main__ - INFO: -  Pytorch version  : 2.2.1+cu118\n"
     ]
    }
   ],
   "source": [
    "timestamp = datetime.now().strftime('%Y_%m_%d_%H:%M:%S')\n",
    "logger = logging.getLogger(__name__) \n",
    "logLevel = os.environ.get('LOG_LEVEL', 'INFO').upper()\n",
    "FORMAT = '%(asctime)s - %(name)s - %(levelname)s: - %(message)s'\n",
    "logging.basicConfig(level=\"INFO\", format= FORMAT)\n",
    "\n",
    "logger.info(f\" Excution started : {timestamp} \")\n",
    "logger.info(f\" Pytorch version  : {torch.__version__}\")\n",
    "# logger.info(f\" Search path      : {sys.path}\")"
   ]
  },
  {
   "cell_type": "markdown",
   "id": "1be5e789-3446-482f-a3ca-fdd19b2a845e",
   "metadata": {},
   "source": [
    "### main(args)"
   ]
  },
  {
   "cell_type": "code",
   "execution_count": 4,
   "id": "8a7f8563-b6fb-4f00-84a2-5339e5f6b35c",
   "metadata": {
    "execution": {
     "iopub.execute_input": "2024-06-21T18:14:59.789114Z",
     "iopub.status.busy": "2024-06-21T18:14:59.788628Z",
     "iopub.status.idle": "2024-06-21T18:14:59.832496Z",
     "shell.execute_reply": "2024-06-21T18:14:59.831662Z",
     "shell.execute_reply.started": "2024-06-21T18:14:59.789070Z"
    }
   },
   "outputs": [],
   "source": [
    "LATENT_DIM = 150\n",
    "HIDDEN_1   = '_512'\n",
    "# HIDDEN_2   = '_256'\n",
    "HIDDEN_2   = ''\n",
    "DATE       = '20240616'\n",
    "LOAD_EPOCH = '025'\n",
    "EPOCHS     = 10\n",
    "COMPOUNDS_PER_BATCH = 200"
   ]
  },
  {
   "cell_type": "code",
   "execution_count": 5,
   "id": "0760f2f0-f480-45b7-9734-0f7a255e5204",
   "metadata": {
    "execution": {
     "iopub.execute_input": "2024-06-21T18:15:11.389374Z",
     "iopub.status.busy": "2024-06-21T18:15:11.388878Z",
     "iopub.status.idle": "2024-06-21T18:15:11.447220Z",
     "shell.execute_reply": "2024-06-21T18:15:11.446701Z",
     "shell.execute_reply.started": "2024-06-21T18:15:11.389330Z"
    }
   },
   "outputs": [
    {
     "data": {
      "text/plain": [
       "Namespace(random_seed=1234, runmode='baseline', configuration='hyperparameters/ae_cp_150_512_cpb.yaml', wandb=False, exp_id=None, ckpt=None, exp_title=None, epochs=10, gpu_id=0, cpb=200)"
      ]
     },
     "execution_count": 5,
     "metadata": {},
     "output_type": "execute_result"
    },
    {
     "name": "stderr",
     "output_type": "stream",
     "text": [
      "2024-06-21 20:15:11,437 - snnl.utils.utils - INFO: -  command line param random_seed               : [1234]\n",
      "2024-06-21 20:15:11,438 - snnl.utils.utils - INFO: -  command line param runmode                   : [baseline]\n",
      "2024-06-21 20:15:11,439 - snnl.utils.utils - INFO: -  command line param configuration             : [hyperparameters/ae_cp_150_512_cpb.yaml]\n",
      "2024-06-21 20:15:11,440 - snnl.utils.utils - INFO: -  command line param wandb                     : [False]\n",
      "2024-06-21 20:15:11,440 - snnl.utils.utils - INFO: -  command line param exp_id                    : [None]\n",
      "2024-06-21 20:15:11,441 - snnl.utils.utils - INFO: -  command line param ckpt                      : [None]\n",
      "2024-06-21 20:15:11,441 - snnl.utils.utils - INFO: -  command line param exp_title                 : [None]\n",
      "2024-06-21 20:15:11,442 - snnl.utils.utils - INFO: -  command line param epochs                    : [10]\n",
      "2024-06-21 20:15:11,443 - snnl.utils.utils - INFO: -  command line param gpu_id                    : [0]\n",
      "2024-06-21 20:15:11,443 - snnl.utils.utils - INFO: -  command line param cpb                       : [200]\n",
      "2024-06-21 20:15:11,444 - snnl.utils.utils - INFO: -  command line param exp_title                 : [scpb200-150Ltnt_512]\n"
     ]
    }
   ],
   "source": [
    "# if __name__ == \"__main__\":\n",
    "cli_args =   f\" --runmode            baseline\" \\\n",
    "             f\" --configuration      hyperparameters/ae_cp_{LATENT_DIM:03d}{HIDDEN_1}{HIDDEN_2}_cpb.yaml\" \\\n",
    "             f\" --gpu_id             0 \"\\\n",
    "             f\" --epochs             {EPOCHS} \" \\\n",
    "             f\" --cpb                {COMPOUNDS_PER_BATCH}\" \n",
    "\n",
    "            #  f\" --wandb              \" \\\n",
    "            #  f\" --ckpt               AE_baseline_{DATE}_snglOpt-{LATENT_DIM}Ltnt{HIDDEN_1}{HIDDEN_2}_ep_{LOAD_EPOCH}.pt \" \\\n",
    "             # f\" --run_id             jyydyab3 \" \\\n",
    "             # f\" --seed               4321 \" \n",
    "             # f\" --exp_title           snglOpt-050Ltnt_512_sig \"\n",
    "             # f\" --runmode            snnl\" \\\n",
    "cli_args = parse_args(cli_args.split())\n",
    "cli_args\n",
    "\n",
    "args = load_configuration(cli_args)\n",
    "args.ckpt\n"
   ]
  },
  {
   "cell_type": "code",
   "execution_count": 6,
   "id": "7c84f06b-3f6c-46db-a768-aa1b4504c817",
   "metadata": {
    "execution": {
     "iopub.execute_input": "2024-06-21T18:15:13.425215Z",
     "iopub.status.busy": "2024-06-21T18:15:13.424721Z",
     "iopub.status.idle": "2024-06-21T18:15:13.469699Z",
     "shell.execute_reply": "2024-06-21T18:15:13.469150Z",
     "shell.execute_reply.started": "2024-06-21T18:15:13.425169Z"
    }
   },
   "outputs": [
    {
     "data": {
      "text/plain": [
       "namespace(project_name='CellPainting_Profiles',\n",
       "          exp_id=None,\n",
       "          exp_name_pfx=None,\n",
       "          exp_name=None,\n",
       "          exp_title='scpb200-150Ltnt_512',\n",
       "          exp_description='AE Baseline - snglOpt, 150 dim latent, 512 Midlayer, 200 cpb',\n",
       "          exp_folder=None,\n",
       "          folder_sfx=None,\n",
       "          random_seed=1234,\n",
       "          units=[['linear', 1471, 1024],\n",
       "                 ['relu', 0, 0],\n",
       "                 ['linear', 1024, 512],\n",
       "                 ['relu', 0, 0],\n",
       "                 ['linear', 512, 150],\n",
       "                 ['linear', 150, 512],\n",
       "                 ['relu', 0, 0],\n",
       "                 ['linear', 512, 1024],\n",
       "                 ['relu', 0, 0],\n",
       "                 ['linear', 1024, 1471]],\n",
       "          activations=['relu', 'relu', 'sigmoid', 'relu', 'relu', 'relu'],\n",
       "          input_shape=1471,\n",
       "          code_units=150,\n",
       "          embedding_layer=4,\n",
       "          show_every=1,\n",
       "          save_every=25,\n",
       "          learning_rate=0.001,\n",
       "          loss_factor=1.0,\n",
       "          adam_weight_decay=0,\n",
       "          snnl_factor=0.0,\n",
       "          temperature=0.0,\n",
       "          temperatureLR=0.0,\n",
       "          SGD_weight_decay=0,\n",
       "          dataset='cellpainting',\n",
       "          cellpainting_args={'sample_size': 3,\n",
       "                             'batch_size': 1,\n",
       "                             'compounds_per_batch': 200,\n",
       "                             'training_path': '/home/kevin/WSL-shared/Cellpainting/cj-datasets/output_11102023/3_sample_profiles/3sample_profiles_1482_HashOrder.csv',\n",
       "                             'validation_path': '/home/kevin/WSL-shared/Cellpainting/cj-datasets/output_11102023/3_sample_profiles/3sample_profiles_1482_HashOrder_test.csv',\n",
       "                             'test_path': '/home/kevin/WSL-shared/Cellpainting/cj-datasets/output_11102023/3_sample_profiles/3sample_profiles_1482_HashOrder_test.csv',\n",
       "                             'train_start': 0,\n",
       "                             'train_end': 240000,\n",
       "                             'val_start': 0,\n",
       "                             'val_end': 24000,\n",
       "                             'test_start': 30000,\n",
       "                             'test_end': 33600,\n",
       "                             'chunksize': None,\n",
       "                             'conversions': None,\n",
       "                             'iterator': True},\n",
       "          paths={'log_dir': './logs',\n",
       "                 'result_dir': './results',\n",
       "                 'checkpoint_dir': './ckpt'},\n",
       "          runmode='baseline',\n",
       "          configuration='hyperparameters/ae_cp_150_512_cpb.yaml',\n",
       "          wandb=False,\n",
       "          epochs=10,\n",
       "          gpu_id=0,\n",
       "          cpb=200,\n",
       "          ckpt=None,\n",
       "          batch_size=1)"
      ]
     },
     "execution_count": 6,
     "metadata": {},
     "output_type": "execute_result"
    }
   ],
   "source": [
    "args"
   ]
  },
  {
   "cell_type": "code",
   "execution_count": 33,
   "id": "1800e62a",
   "metadata": {
    "execution": {
     "iopub.execute_input": "2024-06-21T17:49:24.143065Z",
     "iopub.status.busy": "2024-06-21T17:49:24.142589Z",
     "iopub.status.idle": "2024-06-21T17:49:24.185564Z",
     "shell.execute_reply": "2024-06-21T17:49:24.184926Z",
     "shell.execute_reply.started": "2024-06-21T17:49:24.143020Z"
    }
   },
   "outputs": [],
   "source": [
    "set_global_seed(args.random_seed)\n",
    "if args.ckpt is not None:\n",
    "    if os.path.exists(os.path.join('ckpts', args.ckpt)):\n",
    "        logger.info(f\" Checkpoint {args.ckpt} found\")\n",
    "        logger.info(f\" Resuming training using checkpoint: {args.ckpt}\")\n",
    "    else:\n",
    "        logger.error(f\" *** Checkpoint {args.ckpt} not found *** \\n\")\n",
    "        raise ValueError(f\"\\n *** Checkpoint DOESNT EXIST *** \\n\")"
   ]
  },
  {
   "cell_type": "code",
   "execution_count": 7,
   "id": "d5f2484a-2610-4e6c-8195-9b89e165ba09",
   "metadata": {
    "execution": {
     "iopub.execute_input": "2024-06-15T07:03:33.438486Z",
     "iopub.status.busy": "2024-06-15T07:03:33.437993Z",
     "iopub.status.idle": "2024-06-15T07:03:33.495382Z",
     "shell.execute_reply": "2024-06-15T07:03:33.494569Z",
     "shell.execute_reply.started": "2024-06-15T07:03:33.438445Z"
    }
   },
   "outputs": [
    {
     "name": "stderr",
     "output_type": "stream",
     "text": [
      "2024-06-16 13:34:31,175 - snnl.utils.utils - INFO: -  Current CUDA Device is:  cuda:0 - Quadro GV100\n",
      "2024-06-16 13:34:31,176 - snnl.utils.utils - INFO: -  Switched to: Quadro GV100 - 0\n",
      "2024-06-16 13:34:31,177 - snnl.utils.utils - INFO: -  Current CUDA Device is:  cuda:0 - Quadro GV100\n"
     ]
    }
   ],
   "source": [
    "if args.gpu_id is not None:\n",
    "    _ = get_device()\n",
    "    # print(f\"Current device is : {current_device}\")    \n",
    "    current_device = set_device(args.gpu_id)\n",
    "    current_device = get_device()\n"
   ]
  },
  {
   "cell_type": "markdown",
   "id": "7e2871b9-ea54-4869-9fa3-5ade2e1416cd",
   "metadata": {},
   "source": [
    "## Define dataset and dataloaders"
   ]
  },
  {
   "cell_type": "code",
   "execution_count": 8,
   "id": "e64445ed-d1da-4ff7-886c-1070c553c4c6",
   "metadata": {
    "execution": {
     "iopub.execute_input": "2024-06-15T07:03:37.612295Z",
     "iopub.status.busy": "2024-06-15T07:03:37.611802Z",
     "iopub.status.idle": "2024-06-15T07:03:37.663559Z",
     "shell.execute_reply": "2024-06-15T07:03:37.662709Z",
     "shell.execute_reply.started": "2024-06-15T07:03:37.612254Z"
    }
   },
   "outputs": [
    {
     "name": "stderr",
     "output_type": "stream",
     "text": [
      "2024-06-16 13:34:32,306 - root - INFO: -  load cellpainting\n",
      "2024-06-16 13:34:32,307 - snnl.utils.dataloader - INFO: -  Building CellPantingDataset for train\n",
      "2024-06-16 13:34:32,308 - snnl.utils.dataloader - INFO: -  filename:  /home/kevin/WSL-shared/Cellpainting/cj-datasets/output_11102023/3_sample_profiles/3sample_profiles_1482_HashOrder.csv\n",
      "2024-06-16 13:34:32,308 - snnl.utils.dataloader - INFO: -  type    :  train\n",
      "2024-06-16 13:34:32,309 - snnl.utils.dataloader - INFO: -  start   :  0\n",
      "2024-06-16 13:34:32,310 - snnl.utils.dataloader - INFO: -  end     :  240000\n",
      "2024-06-16 13:34:32,310 - snnl.utils.dataloader - INFO: -  numrows :  240000\n",
      "2024-06-16 13:34:32,311 - snnl.utils.dataloader - INFO: -  Each mini-batch contains 100.0 compounds with 3 samples per compound : total 300 rows\n",
      "2024-06-16 13:34:32,311 - snnl.utils.dataloader - INFO: -  Number of 300 row full size batches per epoch: 800\n",
      "2024-06-16 13:34:32,312 - snnl.utils.dataloader - INFO: -  Rows covered by 800 full size batches (300 rows) per epoch:  240000\n",
      "2024-06-16 13:34:32,313 - snnl.utils.dataloader - INFO: -  Last partial batch contains : 0 rows\n",
      "2024-06-16 13:34:32,313 - snnl.utils.dataloader - INFO: -  \n",
      "2024-06-16 13:34:32,315 - snnl.utils.dataloader - INFO: -  Building CellPantingDataset for val\n",
      "2024-06-16 13:34:32,315 - snnl.utils.dataloader - INFO: -  filename:  /home/kevin/WSL-shared/Cellpainting/cj-datasets/output_11102023/3_sample_profiles/3sample_profiles_1482_HashOrder_test.csv\n",
      "2024-06-16 13:34:32,316 - snnl.utils.dataloader - INFO: -  type    :  val\n",
      "2024-06-16 13:34:32,317 - snnl.utils.dataloader - INFO: -  start   :  0\n",
      "2024-06-16 13:34:32,317 - snnl.utils.dataloader - INFO: -  end     :  24000\n",
      "2024-06-16 13:34:32,318 - snnl.utils.dataloader - INFO: -  numrows :  24000\n"
     ]
    },
    {
     "name": "stderr",
     "output_type": "stream",
     "text": [
      "2024-06-16 13:34:32,318 - snnl.utils.dataloader - INFO: -  Each mini-batch contains 100.0 compounds with 3 samples per compound : total 300 rows\n",
      "2024-06-16 13:34:32,319 - snnl.utils.dataloader - INFO: -  Number of 300 row full size batches per epoch: 80\n",
      "2024-06-16 13:34:32,320 - snnl.utils.dataloader - INFO: -  Rows covered by 80 full size batches (300 rows) per epoch:  24000\n",
      "2024-06-16 13:34:32,320 - snnl.utils.dataloader - INFO: -  Last partial batch contains : 0 rows\n",
      "2024-06-16 13:34:32,321 - snnl.utils.dataloader - INFO: -  \n"
     ]
    }
   ],
   "source": [
    "#### Load CellPainting Dataset\n",
    "logging.info(f\" load {args.dataset}\")\n",
    "train_dataset = CellpaintingDataset(type='train',    **args.cellpainting_args)\n",
    "train_loader = InfiniteDataLoader(dataset=train_dataset, batch_size = args.batch_size, shuffle = False, num_workers = 0, collate_fn = custom_collate_fn)\n",
    "val_dataset = CellpaintingDataset(type='val',    **args.cellpainting_args)\n",
    "val_loader = InfiniteDataLoader(dataset=val_dataset, batch_size = args.batch_size, shuffle = False, num_workers = 0, collate_fn = custom_collate_fn)"
   ]
  },
  {
   "cell_type": "code",
   "execution_count": 9,
   "id": "11cc9586-9501-46d6-ba49-0f549ee53978",
   "metadata": {
    "execution": {
     "iopub.execute_input": "2024-06-15T07:04:22.962078Z",
     "iopub.status.busy": "2024-06-15T07:04:22.961589Z",
     "iopub.status.idle": "2024-06-15T07:04:23.007898Z",
     "shell.execute_reply": "2024-06-15T07:04:23.007052Z",
     "shell.execute_reply.started": "2024-06-15T07:04:22.962039Z"
    }
   },
   "outputs": [
    {
     "name": "stderr",
     "output_type": "stream",
     "text": [
      "2024-06-16 13:34:34,375 - __main__ - INFO: -  Project Name     : CellPainting_Profiles\n",
      "2024-06-16 13:34:34,376 - __main__ - INFO: -  Experiment Id    : None\n",
      "2024-06-16 13:34:34,378 - __main__ - INFO: -  Experiment Name  : None\n",
      "2024-06-16 13:34:34,379 - __main__ - INFO: -  Experiment Date  : None\n",
      "2024-06-16 13:34:34,380 - __main__ - INFO: -  Experiment Title : snglOpt-025Ltnt_512\n",
      "2024-06-16 13:34:34,382 - __main__ - INFO: -  Experiment Notes : Autoencoder Training in Baseline mode - SnglOpt, 25 dim latent, 512 Midlayer\n"
     ]
    }
   ],
   "source": [
    "# args.exp_id   = None\n",
    "# args.exp_name = 'AE_'+datetime.now().strftime('%m%d_%H%M')\n",
    "# args.exp_date = datetime.now().strftime('%Y%m%d')\n",
    "\n",
    "## --- for restarts\n",
    "# args.exp_id   = '0g8w13h6'\n",
    "# args.exp_name = 'AE_0516_1104'\n",
    "# args.exp_date = '20240516'\n",
    "##-----------------\n",
    " \n",
    "logger.info(f\" Project Name     : {args.project_name}\")\n",
    "logger.info(f\" Experiment Id    : {args.exp_id}\")\n",
    "logger.info(f\" Experiment Name  : {args.exp_name}\")\n",
    "logger.info(f\" Experiment Date  : {args.exp_date}\")\n",
    "logger.info(f\" Experiment Title : {args.exp_title}\")\n",
    "logger.info(f\" Experiment Notes : {args.exp_description}\")\n"
   ]
  },
  {
   "cell_type": "code",
   "execution_count": 10,
   "id": "25af0a4c-8ff7-4196-be19-7b7a67285f03",
   "metadata": {
    "execution": {
     "iopub.execute_input": "2024-06-15T07:04:30.291216Z",
     "iopub.status.busy": "2024-06-15T07:04:30.290676Z",
     "iopub.status.idle": "2024-06-15T07:04:32.500537Z",
     "shell.execute_reply": "2024-06-15T07:04:32.499887Z",
     "shell.execute_reply.started": "2024-06-15T07:04:30.291177Z"
    }
   },
   "outputs": [
    {
     "name": "stderr",
     "output_type": "stream",
     "text": [
      "2024-06-16 13:34:39,735 - __main__ - INFO: -  *** W&&B Logging is INACTIVE *** \n"
     ]
    }
   ],
   "source": [
    "WANDB_ACTIVE = args.wandb\n",
    "if WANDB_ACTIVE:\n",
    "    if args.exp_id is not None:\n",
    "        print(\"Resume\")\n",
    "        resume_wandb = True\n",
    "    else:\n",
    "        print(\"Initialize\")\n",
    "        resume_wandb = False\n",
    "        args.exp_name = 'AE_'+datetime.now().strftime('%m%d_%H%M')\n",
    "    \n",
    "    wandb_run = init_wandb(args)\n",
    "    \n",
    "    args.exp_id = wandb_run.id\n",
    "    args.exp_date = '2024'+args.exp_name[3:7]\n",
    "    \n",
    "    logger.info(f\" WandB tracking started \")\n",
    "    logger.info(f\" Experiment Run id: {args.exp_id}   / {wandb_run.id}\")\n",
    "    logger.info(f\" Experiment Name  : {args.exp_name} / {wandb_run.name} \")\n",
    "    logger.info(f\" Experiment Date  : {args.exp_date}  \")\n",
    "    logger.info(f\" Experiment Notes : {args.exp_description} / {wandb_run.notes} \")\n",
    "else: \n",
    "    logger.info(f\" *** W&&B Logging is INACTIVE *** \")\n",
    "    args.exp_name = 'AE_'+datetime.now().strftime('%m%d_%H%M')\n",
    "    args.exp_date = datetime.now().strftime('%Y%m%d')    "
   ]
  },
  {
   "cell_type": "code",
   "execution_count": 11,
   "id": "4e2a35ed-eca4-48a2-8322-051b646ff23b",
   "metadata": {
    "execution": {
     "iopub.execute_input": "2024-06-15T07:04:38.859967Z",
     "iopub.status.busy": "2024-06-15T07:04:38.859454Z",
     "iopub.status.idle": "2024-06-15T07:04:38.914672Z",
     "shell.execute_reply": "2024-06-15T07:04:38.913979Z",
     "shell.execute_reply.started": "2024-06-15T07:04:38.859927Z"
    }
   },
   "outputs": [
    {
     "name": "stderr",
     "output_type": "stream",
     "text": [
      "2024-06-16 13:34:41,075 - __main__ - INFO: -  Experiment run id:  None\n",
      "2024-06-16 13:34:41,076 - __main__ - INFO: -  Experiment Name  :  AE_0616_1334 \n",
      "2024-06-16 13:34:41,077 - __main__ - INFO: -  Experiment Date  :  20240616 \n",
      "2024-06-16 13:34:41,077 - __main__ - INFO: -  Experiment Title :  snglOpt-025Ltnt_512 \n",
      "2024-06-16 13:34:41,078 - __main__ - INFO: -  Experiment Notes :  Autoencoder Training in Baseline mode - SnglOpt, 25 dim latent, 512 Midlayer\n"
     ]
    }
   ],
   "source": [
    "logger.info(f\" Experiment run id:  {args.exp_id}\")\n",
    "logger.info(f\" Experiment Name  :  {args.exp_name} \")\n",
    "logger.info(f\" Experiment Date  :  {args.exp_date} \")\n",
    "logger.info(f\" Experiment Title :  {args.exp_title} \")\n",
    "logger.info(f\" Experiment Notes :  {args.exp_description}\")"
   ]
  },
  {
   "cell_type": "markdown",
   "id": "19b32e21-67d2-45af-a45f-841b6dca43ff",
   "metadata": {},
   "source": [
    "# Define autoencoder model"
   ]
  },
  {
   "cell_type": "markdown",
   "id": "cf383487-ecbf-49da-bb01-5a5f22932278",
   "metadata": {},
   "source": [
    "## Override arguments"
   ]
  },
  {
   "cell_type": "code",
   "execution_count": 12,
   "id": "2fdc1998-5141-40c0-82d8-b505d4f19ecd",
   "metadata": {
    "execution": {
     "iopub.execute_input": "2024-06-15T07:04:44.138292Z",
     "iopub.status.busy": "2024-06-15T07:04:44.137785Z",
     "iopub.status.idle": "2024-06-15T07:04:44.185068Z",
     "shell.execute_reply": "2024-06-15T07:04:44.184406Z",
     "shell.execute_reply.started": "2024-06-15T07:04:44.138252Z"
    }
   },
   "outputs": [
    {
     "data": {
      "text/plain": [
       "4"
      ]
     },
     "execution_count": 12,
     "metadata": {},
     "output_type": "execute_result"
    }
   ],
   "source": [
    "# args.temperature   = 0.0\n",
    "# args.loss_factor   = 1.0        ## 2.0e+00\n",
    "# args.snnl_factor   = 0.0       ## 1.0e+00\n",
    "# args.learning_rate = 1.0e-03    ## 0.001\n",
    "# args.temperatureLR = 0.0e-04    ## 1e-4\n",
    "# print(f\"   Latent dim        {args.code_units}\")\n",
    "# print(f\"   loss_factor       {args.loss_factor}\")\n",
    "# print(f\"   snnl_factor       {args.snnl_factor}\")\n",
    "# print(f\"   temperature       {args.temperature}\")\n",
    "# print(f\"   learning_rate     {args.learning_rate}\")\n",
    "# print(f\"   temperatureLR:    {args.temperatureLR}\")\n",
    "args.embedding_layer"
   ]
  },
  {
   "cell_type": "markdown",
   "id": "69b97558-4c5d-4a2d-9d1f-78d8923b1eb7",
   "metadata": {},
   "source": [
    "## Define Model"
   ]
  },
  {
   "cell_type": "code",
   "execution_count": 13,
   "id": "5c4a4bba-76ef-4fa9-9ea5-ba3c55aecfe9",
   "metadata": {
    "execution": {
     "iopub.execute_input": "2024-06-14T14:32:04.222550Z",
     "iopub.status.busy": "2024-06-14T14:32:04.222286Z",
     "iopub.status.idle": "2024-06-14T14:32:04.391249Z",
     "shell.execute_reply": "2024-06-14T14:32:04.390474Z",
     "shell.execute_reply.started": "2024-06-14T14:32:04.222505Z"
    }
   },
   "outputs": [
    {
     "name": "stdout",
     "output_type": "stream",
     "text": [
      "Defining model in baseline mode\n",
      "    Model_init()_    -- AE - support for unsupervised in autoencoding mode is True\n",
      "    layer pair:    0  type:linear           input:   1471  output:   1024    weights: [1024, 1471]   \n",
      "    layer pair:    1  type:relu             input:      0  output:      0    weights: [0, 0]   \n",
      "    layer pair:    2  type:linear           input:   1024  output:    512    weights: [512, 1024]   \n",
      "    layer pair:    3  type:relu             input:      0  output:      0    weights: [0, 0]   \n",
      "    layer pair:    4  type:linear           input:    512  output:     25    weights: [25, 512]   \n",
      "    layer pair:    5  type:linear           input:     25  output:    512    weights: [512, 25]   \n",
      "    layer pair:    6  type:relu             input:      0  output:      0    weights: [0, 0]   \n",
      "    layer pair:    7  type:linear           input:    512  output:   1024    weights: [1024, 512]   \n",
      "    layer pair:    8  type:relu             input:      0  output:      0    weights: [0, 0]   \n",
      "    layer pair:    9  type:linear           input:   1024  output:   1471    weights: [1471, 1024]   \n"
     ]
    },
    {
     "name": "stderr",
     "output_type": "stream",
     "text": [
      "/home/kevin/miniforge3/envs/ptsnnl/lib/python3.11/site-packages/torch/optim/lr_scheduler.py:28: UserWarning: The verbose parameter is deprecated. Please use get_last_lr() to access the learning rate.\n",
      "  warnings.warn(\"The verbose parameter is deprecated. Please use get_last_lr() \"\n"
     ]
    },
    {
     "data": {
      "text/plain": [
       "'cuda:0'"
      ]
     },
     "execution_count": 13,
     "metadata": {},
     "output_type": "execute_result"
    },
    {
     "data": {
      "text/plain": [
       "4"
      ]
     },
     "execution_count": 13,
     "metadata": {},
     "output_type": "execute_result"
    }
   ],
   "source": [
    "model = define_autoencoder_model(args, embedding_layer = args.embedding_layer, device = current_device)\n",
    "model.device\n",
    "model.embedding_layer"
   ]
  },
  {
   "cell_type": "code",
   "execution_count": 14,
   "id": "acb11365-5fa8-4a94-ba70-bfe9bc16df18",
   "metadata": {
    "execution": {
     "iopub.execute_input": "2024-06-14T14:32:04.176896Z",
     "iopub.status.busy": "2024-06-14T14:32:04.176632Z",
     "iopub.status.idle": "2024-06-14T14:32:04.221128Z",
     "shell.execute_reply": "2024-06-14T14:32:04.220323Z",
     "shell.execute_reply.started": "2024-06-14T14:32:04.176871Z"
    },
    "scrolled": true
   },
   "outputs": [
    {
     "name": "stdout",
     "output_type": "stream",
     "text": [
      "\n",
      "command line parms : \n",
      "-----------------------\n",
      "SGD_weight_decay.........  0\n",
      "activations..............  ['relu', 'relu', 'sigmoid', 'relu', 'relu', 'relu']\n",
      "adam_weight_decay........  0\n",
      "batch_size...............  1\n",
      "\n",
      "    cellpainting_args   (dict)\n",
      "    ----------------------------\n",
      "    batch_size...............  1\n",
      "    chunksize................  None\n",
      "    compounds_per_batch......  100\n",
      "    conversions..............  None\n",
      "    iterator.................  True\n",
      "    sample_size..............  3\n",
      "    test_end.................  33600\n",
      "    test_path................  /home/kevin/WSL-shared/Cellpainting/cj-datasets/output_11102023/3_sample_profiles/3sample_profiles_1482_HashOrder_test.csv\n",
      "    test_start...............  30000\n",
      "    train_end................  240000\n",
      "    train_start..............  0\n",
      "    training_path............  /home/kevin/WSL-shared/Cellpainting/cj-datasets/output_11102023/3_sample_profiles/3sample_profiles_1482_HashOrder.csv\n",
      "    val_end..................  24000\n",
      "    val_start................  0\n",
      "    validation_path..........  /home/kevin/WSL-shared/Cellpainting/cj-datasets/output_11102023/3_sample_profiles/3sample_profiles_1482_HashOrder_test.csv\n",
      "\n",
      "ckpt.....................  None\n",
      "code_units...............  25\n",
      "configuration............  hyperparameters/ae_cp_025_512.yaml\n",
      "dataset..................  cellpainting\n",
      "embedding_layer..........  4\n",
      "epochs...................  10\n",
      "exp_date.................  20240616\n",
      "exp_description..........  Autoencoder Training in Baseline mode - SnglOpt, 25 dim latent, 512 Midlayer\n",
      "exp_folder...............  None\n",
      "exp_id...................  None\n",
      "exp_name.................  AE_0616_1334\n",
      "exp_name_pfx.............  None\n",
      "exp_title................  snglOpt-025Ltnt_512\n",
      "folder_sfx...............  None\n",
      "gpu_id...................  0\n",
      "input_shape..............  1471\n",
      "learning_rate............  0.001\n",
      "loss_factor..............  1.0\n",
      "\n",
      "    paths   (dict)\n",
      "    ----------------\n",
      "    checkpoint_dir...........  ./ckpt\n",
      "    log_dir..................  ./logs\n",
      "    result_dir...............  ./results\n",
      "\n",
      "project_name.............  CellPainting_Profiles\n",
      "random_seed..............  1234\n",
      "runmode..................  baseline\n",
      "save_every...............  25\n",
      "show_every...............  1\n",
      "snnl_factor..............  0.0\n",
      "temperature..............  0.0\n",
      "temperatureLR............  0.0\n",
      "units....................  [['linear', 1471, 1024], ['relu', 0, 0], ['linear', 1024, 512], ['relu', 0, 0], ['linear', 512, 25], ['linear', 25, 512], ['relu', 0, 0], ['linear', 512, 1024], ['relu', 0, 0], ['linear', 1024, 1471]]\n",
      "wandb....................  False\n",
      "\n"
     ]
    }
   ],
   "source": [
    "list_namespace(args)"
   ]
  },
  {
   "cell_type": "code",
   "execution_count": 15,
   "id": "a980870b-38de-4608-af68-56cba1468eab",
   "metadata": {
    "execution": {
     "iopub.execute_input": "2024-06-14T14:32:04.393015Z",
     "iopub.status.busy": "2024-06-14T14:32:04.392632Z",
     "iopub.status.idle": "2024-06-14T14:32:04.440739Z",
     "shell.execute_reply": "2024-06-14T14:32:04.440085Z",
     "shell.execute_reply.started": "2024-06-14T14:32:04.392976Z"
    },
    "scrolled": true
   },
   "outputs": [],
   "source": [
    "if WANDB_ACTIVE:\n",
    "    wandb_watch(item = model, criterion=None, log = 'all', log_freq = 1000, log_graph = True)"
   ]
  },
  {
   "cell_type": "markdown",
   "id": "096c7200-90a2-40f2-999b-d91fe8d8c489",
   "metadata": {},
   "source": [
    "# Load model checkpoint "
   ]
  },
  {
   "cell_type": "code",
   "execution_count": 16,
   "id": "d2f6f513-5d78-4067-8321-856fdfec9562",
   "metadata": {
    "execution": {
     "iopub.execute_input": "2024-06-14T14:32:04.442476Z",
     "iopub.status.busy": "2024-06-14T14:32:04.442114Z",
     "iopub.status.idle": "2024-06-14T14:32:04.495693Z",
     "shell.execute_reply": "2024-06-14T14:32:04.494800Z",
     "shell.execute_reply.started": "2024-06-14T14:32:04.442440Z"
    }
   },
   "outputs": [
    {
     "name": "stderr",
     "output_type": "stream",
     "text": [
      "2024-06-16 13:34:53,719 - root - INFO: -  INITIALIZE TRAINING - Run epochs 1 to 10 \n"
     ]
    }
   ],
   "source": [
    "if args.ckpt is not None:\n",
    "    resume_training = True\n",
    "    mdl , last_epoch = load_checkpoint_v2(model, args.ckpt)  \n",
    "    model.train()\n",
    "    model.device = current_device\n",
    "    model = model.cuda(device=current_device)\n",
    "    logging.info(f\" Loaded Model device {model.device} -  Last completed epoch : {last_epoch}\")\n",
    "    starting_epoch = last_epoch\n",
    "    epochs = last_epoch + args.epochs\n",
    "    logging.info(f\" RESUME TRAINING - Run epochs {starting_epoch+1} to {epochs} \")\n",
    "    \n",
    "else:\n",
    "    resume_training = False\n",
    "    starting_epoch = 0\n",
    "    epochs = args.epochs\n",
    "    logging.info(f\" INITIALIZE TRAINING - Run epochs {starting_epoch+1} to {epochs} \")"
   ]
  },
  {
   "cell_type": "code",
   "execution_count": 17,
   "id": "fa996582",
   "metadata": {},
   "outputs": [
    {
     "data": {
      "text/plain": [
       "{'gen': {'trn_best_metric': 0,\n",
       "  'trn_best_metric_ep': 0,\n",
       "  'trn_best_loss': inf,\n",
       "  'trn_best_loss_ep': 0,\n",
       "  'val_best_metric': 0,\n",
       "  'val_best_metric_ep': 0,\n",
       "  'val_best_loss': inf,\n",
       "  'val_best_loss_ep': 0},\n",
       " 'trn': defaultdict(list, {}),\n",
       " 'val': defaultdict(list, {})}"
      ]
     },
     "execution_count": 17,
     "metadata": {},
     "output_type": "execute_result"
    }
   ],
   "source": [
    "model.training_history"
   ]
  },
  {
   "cell_type": "code",
   "execution_count": 18,
   "id": "40083915",
   "metadata": {},
   "outputs": [
    {
     "name": "stdout",
     "output_type": "stream",
     "text": [
      "\n",
      " Current device      : cuda:0\n",
      " Model device        : cuda:0\n",
      " SNNL temperature    : 0\n",
      " Learning rate       : 0.001\n",
      " snnl_factor         : 0.0\n",
      " loss_factor         : 1.0\n",
      " monitor_grads_layer : None\n",
      " Use Scheduler       : True\n",
      " Use snnl            : False\n",
      "\n",
      " 20240616_133515  epoch    1 of   10\n"
     ]
    }
   ],
   "source": [
    "print()\n",
    "print(f\" Current device      : {current_device}\")\n",
    "print(f\" Model device        : {model.device}\")\n",
    "print(f\" SNNL temperature    : {model.temperature}\")\n",
    "print(f\" Learning rate       : {model.optimizer.param_groups[0]['lr']}\") \n",
    "print(f\" snnl_factor         : {model.snnl_factor}\")\n",
    "print(f\" loss_factor         : {model.loss_factor}\")\n",
    "print(f\" monitor_grads_layer : {model.monitor_grads_layer}\")\n",
    "print(f\" Use Scheduler       : {model.use_scheduler}\") \n",
    "print(f\" Use snnl            : {model.use_snnl}\") \n",
    "if model.use_snnl:\n",
    "    print(f\" Temperature         : {model.temperature.item()}\")\n",
    "    print(f\" Temperature LR      : {model.optimizer.param_groups[1]['lr']}\") \n",
    "    print(f\" Use Temp Scheduler  : {model.use_temp_scheduler}\") \n",
    "    if model.temp_scheduler:\n",
    "        print(f\" Temp Scheduler      : {model.temp_scheduler}\") \n",
    "    if model.temp_optimizer:\n",
    "        print(f\" Temperature LR      : {model.temp_optimizer.param_groups[0]['lr']}\") \n",
    "print()\n",
    "\n",
    "if resume_training:    \n",
    "    for th_key in ['trn', 'val']:\n",
    "        for k,v in model.training_history[th_key].items():\n",
    "            if isinstance(v[-1],str):\n",
    "                print(f\" {k:20s} : {v[-1]:s}  \")\n",
    "            else:\n",
    "                print(f\" {k:20s} : {v[-1]:6f} \")\n",
    "        print()    \n",
    "print(f\" {datetime.now().strftime('%Y%m%d_%H%M%S')}  epoch {starting_epoch+1:4d} of {epochs:4d}\")"
   ]
  },
  {
   "cell_type": "code",
   "execution_count": 19,
   "id": "db07757e",
   "metadata": {},
   "outputs": [],
   "source": [
    "if 'gen' not in model.training_history:\n",
    "    print(f\" Define self.training_history['gen'] \")\n",
    "    model.training_history['gen'] = {'trn_best_metric' : 0, 'trn_best_metric_ep' : 0, 'trn_best_loss': np.inf, 'trn_best_loss_ep' : 0 ,\n",
    "                                    'val_best_metric' : 0, 'val_best_metric_ep' : 0, 'val_best_loss': np.inf, 'val_best_loss_ep' : 0 }        \n",
    "\n",
    "    for key in ['trn', 'val']:\n",
    "        tmp = np.argmin(model.training_history[key][f'{key}_ttl_loss'])\n",
    "        model.training_history['gen'][f'{key}_best_loss_ep'] = tmp\n",
    "        model.training_history['gen'][f'{key}_best_loss']    = model.training_history[key][f'{key}_ttl_loss'][tmp]\n",
    "        \n",
    "        tmp1 = np.argmax(model.training_history[key][f'{key}_R2_score'])\n",
    "        model.training_history['gen'][f'{key}_best_metric_ep'] = tmp1\n",
    "        model.training_history['gen'][f'{key}_best_metric'] = model.training_history[key][f'{key}_R2_score'][tmp1]\n",
    "\n",
    "model.best_metric = model.training_history['gen'][f'val_best_metric']  \n",
    "model.best_epoch  = model.training_history['gen'][f'val_best_metric_ep']  \n"
   ]
  },
  {
   "cell_type": "code",
   "execution_count": 20,
   "id": "bc6dda5e",
   "metadata": {},
   "outputs": [
    {
     "name": "stderr",
     "output_type": "stream",
     "text": [
      "2024-06-16 13:35:29,851 - __main__ - INFO: -  Best training loss     :    inf - epoch: 0\n",
      "2024-06-16 13:35:29,852 - __main__ - INFO: -  Best training metric   : 0.000000 - epoch: 0\n",
      "2024-06-16 13:35:29,852 - __main__ - INFO: -  \n",
      "2024-06-16 13:35:29,853 - __main__ - INFO: -  Best validation loss   :    inf - epoch: 0\n",
      "2024-06-16 13:35:29,854 - __main__ - INFO: -  Best validation metric : 0.000000 - epoch: 0\n"
     ]
    },
    {
     "name": "stderr",
     "output_type": "stream",
     "text": [
      "2024-06-16 13:35:29,855 - __main__ - INFO: -  \n",
      "2024-06-16 13:35:29,855 - __main__ - INFO: -  Model best metric      : 0.000000 - epoch: 0\n"
     ]
    }
   ],
   "source": [
    "logger.info(f\" Best training loss     : {model.training_history['gen']['trn_best_loss']:6f} - epoch: {model.training_history['gen']['trn_best_loss_ep']}\") \n",
    "logger.info(f\" Best training metric   : {model.training_history['gen']['trn_best_metric']:6f} - epoch: {model.training_history['gen']['trn_best_metric_ep']}\") \n",
    "logger.info(f\" \") \n",
    "logger.info(f\" Best validation loss   : {model.training_history['gen']['val_best_loss']:6f} - epoch: {model.training_history['gen']['val_best_loss_ep']}\") \n",
    "logger.info(f\" Best validation metric : {model.training_history['gen']['val_best_metric']:6f} - epoch: {model.training_history['gen']['val_best_metric_ep']}\") \n",
    "logger.info(f\" \")\n",
    "logger.info(f\" Model best metric      : {model.best_metric:6f} - epoch: {model.best_epoch}\") \n"
   ]
  },
  {
   "cell_type": "markdown",
   "id": "94aeaa82-14c5-465c-ae6e-bb792ba8a973",
   "metadata": {},
   "source": [
    "# Autoencoder `fit(data_loader = train_loader, epochs = epochs)` "
   ]
  },
  {
   "cell_type": "code",
   "execution_count": 21,
   "id": "b1118beb",
   "metadata": {},
   "outputs": [],
   "source": [
    "# model.training_history['trn'][f'trn_ttl_loss']\n",
    "# model.best_loss = np.inf\n",
    "# model.best_loss"
   ]
  },
  {
   "cell_type": "code",
   "execution_count": 22,
   "id": "69a38165-e4cf-48b9-aefc-ed436c34261f",
   "metadata": {
    "execution": {
     "iopub.execute_input": "2024-06-14T14:25:56.599875Z",
     "iopub.status.busy": "2024-06-14T14:25:56.599363Z",
     "iopub.status.idle": "2024-06-14T14:25:56.644424Z",
     "shell.execute_reply": "2024-06-14T14:25:56.643599Z",
     "shell.execute_reply.started": "2024-06-14T14:25:56.599834Z"
    }
   },
   "outputs": [],
   "source": [
    "# model.temperature = 40.0\n",
    "# model.snnl_factor = 0.5\n",
    "# model.loss_factor = 0.1\n",
    "# model.temperatureLR = 1e-4\n",
    "# model.optimizer.param_groups[0]['lr'] = 0.001\n",
    "# model.temp_optimizer.param_groups[0]['lr'] = 0.000005\n",
    "# model.monitor_grads_layer = -2\n",
    "# print()\n",
    "# if model.use_snnl:\n",
    "#     print(f\" Use snnl            : {model.use_snnl}\") \n",
    "#     print(f\" snnl_factor         : {model.snnl_factor}\")\n",
    "#     print(f\" temperature         : {model.temperature.item()}\")\n",
    "#     print(f\" Temperature LR      : {model.optimizer.param_groups[1]['lr']}\") \n",
    "#     # print(f\" Temperature LR      : {model.temp_optimizer.param_groups[0]['lr']}\") \n",
    "#     print(f\" Use Temp Scheduler  : {model.use_temp_scheduler}\") \n",
    "#     print(f\" Temp Scheduler      : {model.temp_scheduler}\") \n",
    "# print(f\"\\n run epochs {starting_epoch+1} to {epochs} \")"
   ]
  },
  {
   "cell_type": "code",
   "execution_count": 23,
   "id": "37b85bf0-7e59-4892-b27c-aa9454919fa7",
   "metadata": {
    "execution": {
     "iopub.execute_input": "2024-06-14T14:32:21.441535Z",
     "iopub.status.busy": "2024-06-14T14:32:21.441039Z",
     "iopub.status.idle": "2024-06-14T14:32:21.487751Z",
     "shell.execute_reply": "2024-06-14T14:32:21.486896Z",
     "shell.execute_reply.started": "2024-06-14T14:32:21.441493Z"
    }
   },
   "outputs": [],
   "source": [
    "if WANDB_ACTIVE:\n",
    "    wandb.config.update(args)"
   ]
  },
  {
   "cell_type": "code",
   "execution_count": 24,
   "id": "55efa948-c9af-46f5-9ce3-c668275bb1a5",
   "metadata": {},
   "outputs": [
    {
     "name": "stderr",
     "output_type": "stream",
     "text": [
      "2024-06-16 13:35:44,708 - __main__ - INFO: -  Experiment run id:  None\n",
      "2024-06-16 13:35:44,709 - __main__ - INFO: -  Experiment Name  :  AE_0616_1334 \n",
      "2024-06-16 13:35:44,710 - __main__ - INFO: -  Experiment Date  :  20240616 \n",
      "2024-06-16 13:35:44,711 - __main__ - INFO: -  Experiment Title :  snglOpt-025Ltnt_512 \n",
      "2024-06-16 13:35:44,712 - __main__ - INFO: -  Experiment Notes :  Autoencoder Training in Baseline mode - SnglOpt, 25 dim latent, 512 Midlayer\n",
      "2024-06-16 13:35:44,713 - __main__ - INFO: -  Run epochs    1 to   10\n"
     ]
    }
   ],
   "source": [
    "#\n",
    "#  Running Training Loop\n",
    "#\n",
    "\n",
    "logger.info(f\" Experiment run id:  {args.exp_id}\")\n",
    "logger.info(f\" Experiment Name  :  {args.exp_name} \")\n",
    "logger.info(f\" Experiment Date  :  {args.exp_date} \")\n",
    "logger.info(f\" Experiment Title :  {args.exp_title} \")\n",
    "logger.info(f\" Experiment Notes :  {args.exp_description}\")\n",
    "logger.info(f\" Run epochs {starting_epoch+1:4d} to {epochs:4d}\")"
   ]
  },
  {
   "cell_type": "code",
   "execution_count": 25,
   "id": "5d979f75-0782-428f-844d-8231f46546d3",
   "metadata": {
    "execution": {
     "iopub.execute_input": "2024-06-14T14:54:15.167611Z",
     "iopub.status.busy": "2024-06-14T14:54:15.167078Z",
     "iopub.status.idle": "2024-06-14T16:54:23.316672Z",
     "shell.execute_reply": "2024-06-14T16:54:23.315978Z",
     "shell.execute_reply.started": "2024-06-14T14:54:15.167571Z"
    },
    "scrolled": true
   },
   "outputs": [
    {
     "name": "stdout",
     "output_type": "stream",
     "text": [
      "                     |   Trn_loss    PrimLoss      SNNL   |    temp*        grad     |   R2                     |   Vld_loss    PrimLoss      SNNL   |   R2                     |    LR       temp LR   |\n",
      "---------------------+------------------------------------+--------------------------+--------------------------+------------------------------------+--------------------------|-----------------------|\n",
      "13:38:13 ep   1 / 10 |   0.489790    0.489790    0.000000 |   0.000000    0.0000e+00 |  -1.7375      1          |   0.366367    0.366367    0.000000 |   0.3698      1          |   0.001000   0.000000 |\n"
     ]
    },
    {
     "name": "stderr",
     "output_type": "stream",
     "text": [
      "2024-06-16 13:40:36,090 - snnl.utils.utils - INFO: -  Model exported to ckpts/AE_baseline_20240616_snglOpt-025Ltnt_512_BEST.pt - epoch: 2\n"
     ]
    },
    {
     "name": "stdout",
     "output_type": "stream",
     "text": [
      "13:40:36 ep   2 / 10 |   0.335099    0.335099    0.000000 |   0.000000    0.0000e+00 |   0.4236      2          |   0.307153    0.307153    0.000000 |   0.4911      2          |   0.001000   0.000000 |\n",
      "13:42:57 ep   3 / 10 |   0.301246    0.301246    0.000000 |   0.000000    0.0000e+00 |   0.5575      3          |   0.290017    0.290017    0.000000 |   0.5582      3          |   0.001000   0.000000 |\n"
     ]
    },
    {
     "name": "stderr",
     "output_type": "stream",
     "text": [
      "2024-06-16 13:42:58,296 - snnl.utils.utils - INFO: -  Model exported to ckpts/AE_baseline_20240616_snglOpt-025Ltnt_512_BEST.pt - epoch: 3\n"
     ]
    },
    {
     "name": "stdout",
     "output_type": "stream",
     "text": [
      "13:45:20 ep   4 / 10 |   0.292795    0.292795    0.000000 |   0.000000    0.0000e+00 |   0.5557      3          |   0.287513    0.287513    0.000000 |   0.5524      3          |   0.001000   0.000000 |\n",
      "13:47:42 ep   5 / 10 |   0.286024    0.286024    0.000000 |   0.000000    0.0000e+00 |   0.5622      5          |   0.283358    0.283358    0.000000 |   0.5651      5          |   0.001000   0.000000 |\n"
     ]
    },
    {
     "name": "stderr",
     "output_type": "stream",
     "text": [
      "2024-06-16 13:47:42,835 - snnl.utils.utils - INFO: -  Model exported to ckpts/AE_baseline_20240616_snglOpt-025Ltnt_512_BEST.pt - epoch: 5\n"
     ]
    },
    {
     "name": "stdout",
     "output_type": "stream",
     "text": [
      "13:50:05 ep   6 / 10 |   0.281846    0.281846    0.000000 |   0.000000    0.0000e+00 |   0.5736      6          |   0.276666    0.276666    0.000000 |   0.5636      5          |   0.001000   0.000000 |\n",
      "13:52:29 ep   7 / 10 |   0.276069    0.276069    0.000000 |   0.000000    0.0000e+00 |   0.5819      7          |   0.274245    0.274245    0.000000 |   0.5648      5          |   0.001000   0.000000 |\n",
      "13:54:52 ep   8 / 10 |   0.281861    0.281861    0.000000 |   0.000000    0.0000e+00 |   0.5734      7          |   0.276532    0.276532    0.000000 |   0.5770      8          |   0.001000   0.000000 |\n"
     ]
    },
    {
     "name": "stderr",
     "output_type": "stream",
     "text": [
      "2024-06-16 13:54:52,536 - snnl.utils.utils - INFO: -  Model exported to ckpts/AE_baseline_20240616_snglOpt-025Ltnt_512_BEST.pt - epoch: 8\n"
     ]
    },
    {
     "name": "stdout",
     "output_type": "stream",
     "text": [
      "13:57:14 ep   9 / 10 |   0.273210    0.273210    0.000000 |   0.000000    0.0000e+00 |   0.5798      7          |   0.271013    0.271013    0.000000 |   0.5718      8          |   0.001000   0.000000 |\n"
     ]
    },
    {
     "name": "stderr",
     "output_type": "stream",
     "text": [
      "2024-06-16 13:59:37,979 - snnl.utils.utils - INFO: -  Model exported to ckpts/AE_baseline_20240616_snglOpt-025Ltnt_512_LAST_ep_010.pt - epoch: 10\n"
     ]
    },
    {
     "name": "stdout",
     "output_type": "stream",
     "text": [
      "13:59:37 ep  10 / 10 |   0.270285    0.270285    0.000000 |   0.000000    0.0000e+00 |   0.5800      7          |   0.271447    0.271447    0.000000 |   0.5625      8          |   0.001000   0.000000 |\n",
      "Last Epoch 10\n"
     ]
    }
   ],
   "source": [
    "header = True\n",
    "\n",
    "for epoch in range(starting_epoch,epochs):\n",
    "    train_loss = model.epoch_train(train_loader, epoch)\n",
    "    val_loss = model.epoch_validate(val_loader, epoch)\n",
    "    \n",
    "    display_epoch_metrics(model, epoch, epochs, header)\n",
    "    header = False\n",
    "    model.scheduling_step(val_loss)\n",
    "    \n",
    "    if WANDB_ACTIVE:\n",
    "        epoch_metrics = {x:y     for x,y in model.training_history['gen'].items()} | \\\n",
    "                        {x:y[-1] for x,y in model.training_history['val'].items()} | \\\n",
    "                        {x:y[-1] for x,y in model.training_history['trn'].items()} \n",
    "        wandb_log_metrics( data = epoch_metrics, step = epoch)\n",
    "    \n",
    "    if model.new_best:\n",
    "        # filename = f\"{model.name}_{args.runmode}_{args.exp_date}_{args.exp_title}_BEST_ep_{epoch+1:03d}\"\n",
    "        save_checkpoint_v3(epoch+1, model, args, update_best=True)        \n",
    "    if (epoch + 1) % args.save_every == 0:\n",
    "        # filename = f\"{model.name}_{args.runmode}_{args.exp_date}_{args.exp_title}_ep_{epoch+1:03d}\"\n",
    "        # save_checkpoint_v2(epoch+1, model, filename, update_latest=False, update_best=False)    \n",
    "        save_checkpoint_v3(epoch+1, model, args)    \n",
    "        \n",
    "print(f\"Last Epoch {epoch+1}\")\n",
    "save_checkpoint_v3(epoch+1, model, args, update_latest=True)            "
   ]
  },
  {
   "cell_type": "markdown",
   "id": "4db1bb40-263b-4c7a-bbc6-79836d37c938",
   "metadata": {},
   "source": [
    "### Close WandB Logging"
   ]
  },
  {
   "cell_type": "code",
   "execution_count": 26,
   "id": "868e46e6-f18d-410b-a376-7f26433447af",
   "metadata": {
    "execution": {
     "iopub.execute_input": "2024-06-15T07:04:53.302477Z",
     "iopub.status.busy": "2024-06-15T07:04:53.301972Z",
     "iopub.status.idle": "2024-06-15T07:04:58.689570Z",
     "shell.execute_reply": "2024-06-15T07:04:58.688417Z",
     "shell.execute_reply.started": "2024-06-15T07:04:53.302434Z"
    }
   },
   "outputs": [],
   "source": [
    "if WANDB_ACTIVE:\n",
    "    wandb_run.finish()\n",
    "    WANDB_ACTIVE = False"
   ]
  },
  {
   "cell_type": "code",
   "execution_count": null,
   "id": "5ee3faf8-36a8-4257-9d90-849b23948273",
   "metadata": {
    "execution": {
     "iopub.execute_input": "2024-06-12T12:08:48.586173Z",
     "iopub.status.busy": "2024-06-12T12:08:48.585878Z",
     "iopub.status.idle": "2024-06-12T12:08:48.628446Z",
     "shell.execute_reply": "2024-06-12T12:08:48.627714Z",
     "shell.execute_reply.started": "2024-06-12T12:08:48.586150Z"
    }
   },
   "outputs": [],
   "source": [
    "starting_epoch, epochs \n",
    "\n",
    "# starting_epoch = 350\n",
    "# epochs = 35\n",
    "# starting_epoch = epochs\n",
    "# epochs += 100\n",
    "print(f\" run epochs {starting_epoch+1} to {epochs} \")"
   ]
  },
  {
   "cell_type": "code",
   "execution_count": 27,
   "id": "d116ac2b-6dd6-4b5c-b112-48c8dfadbfaf",
   "metadata": {
    "execution": {
     "iopub.execute_input": "2024-06-14T12:45:18.946891Z",
     "iopub.status.busy": "2024-06-14T12:45:18.946305Z",
     "iopub.status.idle": "2024-06-14T12:45:19.008039Z",
     "shell.execute_reply": "2024-06-14T12:45:19.006592Z",
     "shell.execute_reply.started": "2024-06-14T12:45:18.946849Z"
    },
    "scrolled": true
   },
   "outputs": [
    {
     "name": "stdout",
     "output_type": "stream",
     "text": [
      "                     |   Trn_loss    PrimLoss      SNNL   |    temp*        grad     |   R2                     |   Vld_loss    PrimLoss      SNNL   |   R2                     |    LR       temp LR   |\n",
      "---------------------+------------------------------------+--------------------------+--------------------------+------------------------------------+--------------------------|-----------------------|\n",
      "13:38:13 ep   1 / 10 |   0.489790    0.489790    0.000000 |   0.000000    0.0000e+00 |  -1.7375      7          |   0.366367    0.366367    0.000000 |   0.3698      8          |   0.001000   0.000000 |\n",
      "13:40:36 ep   2 / 10 |   0.335099    0.335099    0.000000 |   0.000000    0.0000e+00 |   0.4236      7          |   0.307153    0.307153    0.000000 |   0.4911      8          |   0.001000   0.000000 |\n",
      "13:42:57 ep   3 / 10 |   0.301246    0.301246    0.000000 |   0.000000    0.0000e+00 |   0.5575      7          |   0.290017    0.290017    0.000000 |   0.5582      8          |   0.001000   0.000000 |\n",
      "13:45:20 ep   4 / 10 |   0.292795    0.292795    0.000000 |   0.000000    0.0000e+00 |   0.5557      7          |   0.287513    0.287513    0.000000 |   0.5524      8          |   0.001000   0.000000 |\n",
      "13:47:42 ep   5 / 10 |   0.286024    0.286024    0.000000 |   0.000000    0.0000e+00 |   0.5622      7          |   0.283358    0.283358    0.000000 |   0.5651      8          |   0.001000   0.000000 |\n",
      "13:50:05 ep   6 / 10 |   0.281846    0.281846    0.000000 |   0.000000    0.0000e+00 |   0.5736      7          |   0.276666    0.276666    0.000000 |   0.5636      8          |   0.001000   0.000000 |\n",
      "13:52:29 ep   7 / 10 |   0.276069    0.276069    0.000000 |   0.000000    0.0000e+00 |   0.5819      7          |   0.274245    0.274245    0.000000 |   0.5648      8          |   0.001000   0.000000 |\n",
      "13:54:52 ep   8 / 10 |   0.281861    0.281861    0.000000 |   0.000000    0.0000e+00 |   0.5734      7          |   0.276532    0.276532    0.000000 |   0.5770      8          |   0.001000   0.000000 |\n",
      "13:57:14 ep   9 / 10 |   0.273210    0.273210    0.000000 |   0.000000    0.0000e+00 |   0.5798      7          |   0.271013    0.271013    0.000000 |   0.5718      8          |   0.001000   0.000000 |\n",
      "13:59:37 ep  10 / 10 |   0.270285    0.270285    0.000000 |   0.000000    0.0000e+00 |   0.5800      7          |   0.271447    0.271447    0.000000 |   0.5625      8          |   0.001000   0.000000 |\n"
     ]
    }
   ],
   "source": [
    "for epoch in range(epochs):\n",
    "    display_epoch_metrics(model, epoch)"
   ]
  },
  {
   "cell_type": "markdown",
   "id": "9d7f6ece-b0e4-4e64-bc35-928a3c3f961d",
   "metadata": {},
   "source": [
    "# Plot losses, weights, biases and gradients"
   ]
  },
  {
   "cell_type": "code",
   "execution_count": null,
   "id": "abc9b289-e042-4243-a2b4-c76751589ac3",
   "metadata": {},
   "outputs": [],
   "source": [
    "# if 0:\n",
    "#     model_attributes = model.__dict__\n",
    "#     model.training_history['train'].keys()\n",
    "#     for key, value in model.training_history['train'].items():\n",
    "#         if isinstance(value, List) or key in [\"test_accuracy\", \"test_f1\"]:\n",
    "#             print(f\"{key:25s} {type(value)}  {len(value):7d}  {value[-5:]}\")\n",
    "#     print()\n",
    "#     for key, value in model.training_history['val'].items():\n",
    "#         if isinstance(value, List) or key in [\"test_accuracy\", \"test_f1\"]:\n",
    "#             print(f\"{key:25s} {type(value)}  {len(value):7d}  {value[-5:]}\")        "
   ]
  },
  {
   "cell_type": "code",
   "execution_count": null,
   "id": "fbb441d8-ba3d-4540-abcc-e40aaaa3dd2e",
   "metadata": {},
   "outputs": [],
   "source": [
    "# tmp = np.array(model.training_history['train']['temp_grads'])\n",
    "# for st in range(0,len(tmp), 1000):\n",
    "#     end = st + 1000\n",
    "#     print(f\" {st:5d} - {end:5d}  min: {tmp[st:end].min():9e}   max: {tmp[st:end].max():9e}    avg: {tmp[st:end].mean():9e}   std: {tmp[st:end].std():9e}\")"
   ]
  },
  {
   "cell_type": "code",
   "execution_count": 35,
   "id": "2bc8de25-ddde-4d2c-b97f-1da1d375c991",
   "metadata": {
    "execution": {
     "iopub.execute_input": "2024-06-12T15:42:57.098234Z",
     "iopub.status.busy": "2024-06-12T15:42:57.097752Z",
     "iopub.status.idle": "2024-06-12T15:42:57.983613Z",
     "shell.execute_reply": "2024-06-12T15:42:57.982939Z",
     "shell.execute_reply.started": "2024-06-12T15:42:57.098193Z"
    },
    "scrolled": true
   },
   "outputs": [
    {
     "data": {
      "image/png": "[encoded data removed]",
      "text/plain": [
       "<Figure size 2000x400 with 5 Axes>"
      ]
     },
     "metadata": {},
     "output_type": "display_data"
    }
   ],
   "source": [
    "plot_train_history(model, start= 0, n_bins = 25)"
   ]
  },
  {
   "cell_type": "code",
   "execution_count": null,
   "id": "533b465a-6b4a-4696-a014-793b8f7df079",
   "metadata": {
    "scrolled": true
   },
   "outputs": [],
   "source": [
    "plot_train_history(model, start= 0, n_bins = 25)"
   ]
  },
  {
   "cell_type": "code",
   "execution_count": null,
   "id": "85774d06-9f14-4b02-b0c6-b8c60ba92ffa",
   "metadata": {
    "scrolled": true
   },
   "outputs": [],
   "source": [
    "plot_train_history(model, start= 0, n_bins = 25)"
   ]
  },
  {
   "cell_type": "code",
   "execution_count": null,
   "id": "f6b91b33-81bd-47e8-aa8e-bda1bd4d4583",
   "metadata": {
    "scrolled": true
   },
   "outputs": [],
   "source": [
    "plot_train_history(model, start= 100, n_bins = 25)"
   ]
  },
  {
   "cell_type": "code",
   "execution_count": null,
   "id": "5d4eae70-3b13-4893-b485-f8ad87b4cd68",
   "metadata": {
    "scrolled": true
   },
   "outputs": [],
   "source": [
    "plot_train_history(model, start= 10, n_bins = 25)"
   ]
  },
  {
   "cell_type": "code",
   "execution_count": null,
   "id": "7f50fdb6-0457-4cd3-b958-65bb44e4216d",
   "metadata": {},
   "outputs": [],
   "source": [
    "plot_model_parms(model, epochs= epochs, n_bins = 15)"
   ]
  },
  {
   "cell_type": "code",
   "execution_count": 36,
   "id": "f992e4e5-ea68-4617-8c16-01dfc22f6b94",
   "metadata": {
    "execution": {
     "iopub.execute_input": "2024-06-12T15:43:06.294491Z",
     "iopub.status.busy": "2024-06-12T15:43:06.294202Z",
     "iopub.status.idle": "2024-06-12T15:43:06.598770Z",
     "shell.execute_reply": "2024-06-12T15:43:06.598170Z",
     "shell.execute_reply.started": "2024-06-12T15:43:06.294468Z"
    },
    "scrolled": true
   },
   "outputs": [
    {
     "data": {
      "image/png": "[encoded data removed]",
      "text/plain": [
       "<Figure size 400x400 with 1 Axes>"
      ]
     },
     "metadata": {},
     "output_type": "display_data"
    }
   ],
   "source": [
    "from snnl.utils import plot_regression_metrics\n",
    "# plot_train_metrics(model, n_bins = 25)\n",
    "plot_regression_metrics(model, n_bins = 25)"
   ]
  },
  {
   "cell_type": "markdown",
   "id": "21726628-2b16-477a-bfe7-0a0ac53130eb",
   "metadata": {
    "jp-MarkdownHeadingCollapsed": true
   },
   "source": [
    "# Save model results and model"
   ]
  },
  {
   "cell_type": "code",
   "execution_count": null,
   "id": "a4bb9a8d-9d90-40e8-90d1-9e970497568b",
   "metadata": {},
   "outputs": [],
   "source": [
    "# import datetime.timezone\n",
    "# datetime.timetz()\n",
    "compounds_per_batch = cellpainting_args['compounds_per_batch']\n",
    "title=\"autoencoder\"\n",
    "epochs_num = epochs\n",
    "timestamp = datetime.now().strftime('%Y%m%d')\n",
    "filename = f\"AE_{args.model.lower()}_{timestamp}_{title}_{epochs_num:03d}_cpb_{compounds_per_batch}_factor_{int(snnl_factor):d}\"\n",
    "print(f\"saved to {filename}\")"
   ]
  },
  {
   "cell_type": "code",
   "execution_count": null,
   "id": "8364b7ba-8d33-41ac-b30f-0c39759a9772",
   "metadata": {},
   "outputs": [],
   "source": [
    "# save_model(model, filename)\n",
    "# export_results(model=model, filename=filename)\n",
    "# save_checkpoint(epochs, model, filename, update_latest=False, update_best=False)"
   ]
  },
  {
   "cell_type": "code",
   "execution_count": null,
   "id": "5738408d-29ca-46b4-8c79-6f184958acf0",
   "metadata": {},
   "outputs": [],
   "source": [
    "model.name\n",
    "args.runmode\n",
    "ex_timestamp\n",
    "ex_title\n",
    "epoch\n",
    "model.snnl_factor"
   ]
  },
  {
   "cell_type": "code",
   "execution_count": null,
   "id": "393af8c8-cf02-455f-a810-b68a7637c07e",
   "metadata": {},
   "outputs": [],
   "source": [
    "filename = f\"{model.name}_{args.runmode}_{args.exp_date}_{args.exp_title}_ep_{epoch+1:03d}\"\n",
    "print(filename)"
   ]
  },
  {
   "cell_type": "code",
   "execution_count": null,
   "id": "38e9d094-6432-4eb7-9ce7-f07b01a01a87",
   "metadata": {},
   "outputs": [],
   "source": [
    "filename = f\"{model.name}_{args.model.lower()}_{ex_timestamp}_{ex_title}_{epoch+1:03d}_copy\"\n",
    "print(filename)\n",
    "    # export_results(model=model, filename=filename)\n",
    "save_checkpoint_2(epochs, model, filename, update_latest=False, update_best=False)  "
   ]
  },
  {
   "cell_type": "markdown",
   "id": "75fb4184-7640-4cc5-bf19-249ebb9fc072",
   "metadata": {
    "execution": {
     "iopub.execute_input": "2024-04-01T00:58:52.961399Z",
     "iopub.status.busy": "2024-04-01T00:58:52.960920Z"
    },
    "jp-MarkdownHeadingCollapsed": true
   },
   "source": [
    "# Load model"
   ]
  },
  {
   "cell_type": "code",
   "execution_count": 39,
   "id": "c914b200-c783-4477-9ca7-3370a23ec595",
   "metadata": {
    "execution": {
     "iopub.execute_input": "2024-06-12T07:12:26.811594Z",
     "iopub.status.busy": "2024-06-12T07:12:26.811163Z",
     "iopub.status.idle": "2024-06-12T07:12:26.844320Z",
     "shell.execute_reply": "2024-06-12T07:12:26.843804Z",
     "shell.execute_reply.started": "2024-06-12T07:12:26.811554Z"
    }
   },
   "outputs": [],
   "source": [
    "# ex_epochs = 200\n",
    "# ex_mode = 'snnl'\n",
    "ex_runmode = 'baseline'\n",
    "ex_date = \"20240616\"\n",
    "ex_title=\"snglOpt-025Ltnt\"\n",
    "# ex_title=\"secondTry\"\n",
    "# ex_title=\"dropout04\"\n",
    "# title=\"autoencoder\"\n",
    "# title='Xentropy'"
   ]
  },
  {
   "cell_type": "code",
   "execution_count": 40,
   "id": "28725c74-24ac-4b2c-b2fe-4314aaf6a77a",
   "metadata": {
    "execution": {
     "iopub.execute_input": "2024-06-12T07:12:27.365606Z",
     "iopub.status.busy": "2024-06-12T07:12:27.365187Z",
     "iopub.status.idle": "2024-06-12T07:12:27.409172Z",
     "shell.execute_reply": "2024-06-12T07:12:27.408462Z",
     "shell.execute_reply.started": "2024-06-12T07:12:27.365567Z"
    }
   },
   "outputs": [
    {
     "name": "stdout",
     "output_type": "stream",
     "text": [
      "AE_baseline_20240616_snglOpt-025Ltnt_010.pt\n",
      "AE_baseline_20240616_snglOpt-025Ltnt_*.pt\n"
     ]
    }
   ],
   "source": [
    "# filename = f\"{model.name}_{ex_runmode}_{ex_date}_{ex_title}_{epochs:03d}_cpb_{ex_cpb}_factor_{ex_factor:d}.pt\"\n",
    "# file_pattern = f\"{model.name}_{ex_runmode}_{ex_date}_{ex_title}_*_cpb_{ex_cpb}_factor_{ex_factor:d}.pt\"\n",
    "filename = f\"{model.name}_{ex_runmode}_{ex_date}_{ex_title}_{epochs:03d}.pt\"\n",
    "print(filename)\n",
    "file_pattern = f\"{model.name}_{ex_runmode}_{ex_date}_{ex_title}_*.pt\"\n",
    "print(file_pattern)"
   ]
  },
  {
   "cell_type": "code",
   "execution_count": 41,
   "id": "4d96660a-46a2-4d46-bcb8-a3fb2d9a74d9",
   "metadata": {
    "execution": {
     "iopub.execute_input": "2024-06-12T07:12:28.721285Z",
     "iopub.status.busy": "2024-06-12T07:12:28.720854Z",
     "iopub.status.idle": "2024-06-12T07:12:28.764606Z",
     "shell.execute_reply": "2024-06-12T07:12:28.763919Z",
     "shell.execute_reply.started": "2024-06-12T07:12:28.721242Z"
    }
   },
   "outputs": [
    {
     "data": {
      "text/plain": [
       "['AE_baseline_20240616_snglOpt-025Ltnt_512_BEST_ep_008.pt']"
      ]
     },
     "execution_count": 41,
     "metadata": {},
     "output_type": "execute_result"
    },
    {
     "data": {
      "text/plain": [
       "[8]"
      ]
     },
     "execution_count": 41,
     "metadata": {},
     "output_type": "execute_result"
    }
   ],
   "source": [
    "import glob\n",
    "filelist = glob.glob(file_pattern,root_dir = './ckpts')\n",
    "filelist = sorted(filelist)\n",
    "filelist\n",
    "epochlist =sorted([int(x[-6:-3]) for x in filelist])\n",
    "epochlist\n",
    " "
   ]
  },
  {
   "cell_type": "code",
   "execution_count": 44,
   "id": "9e492e3f-f194-4759-b8a6-8a949743d022",
   "metadata": {
    "execution": {
     "iopub.execute_input": "2024-06-12T07:12:29.709121Z",
     "iopub.status.busy": "2024-06-12T07:12:29.708697Z",
     "iopub.status.idle": "2024-06-12T07:12:29.744933Z",
     "shell.execute_reply": "2024-06-12T07:12:29.744439Z",
     "shell.execute_reply.started": "2024-06-12T07:12:29.709081Z"
    }
   },
   "outputs": [],
   "source": [
    "# runmode = 'snnl'\n",
    "# ex_date = '20240516'\n",
    "# ex_title = args.exp_title\n",
    "ex_epoch = 200"
   ]
  },
  {
   "cell_type": "code",
   "execution_count": 45,
   "id": "a71ca7cd-8258-49ca-b2d6-16268bd34dc7",
   "metadata": {
    "execution": {
     "iopub.execute_input": "2024-06-12T07:12:33.798415Z",
     "iopub.status.busy": "2024-06-12T07:12:33.797989Z",
     "iopub.status.idle": "2024-06-12T07:12:33.835425Z",
     "shell.execute_reply": "2024-06-12T07:12:33.834662Z",
     "shell.execute_reply.started": "2024-06-12T07:12:33.798374Z"
    }
   },
   "outputs": [
    {
     "name": "stdout",
     "output_type": "stream",
     "text": [
      "AE_baseline_20240616_snglOpt-025Ltnt_512_BEST_ep_008.pt\n",
      "\n",
      " *** Checkpoint EXISTS *** \n",
      "\n"
     ]
    }
   ],
   "source": [
    "filename = f\"{model.name}_{args.runmode}_{ex_date}_{ex_title}_ep_{ex_epoch:03d}\"   \n",
    "filename = filelist[-1]\n",
    "if filename[-3:] != '.pt':\n",
    "    filename+='.pt'\n",
    "print(filename)\n",
    "\n",
    "if os.path.exists(os.path.join('ckpts', filename)):\n",
    "    print(f\"\\n *** Checkpoint EXISTS *** \\n\")\n",
    "else:\n",
    "    print(f\"\\n *** Checkpoint DOESNT EXIST *** \\n\")"
   ]
  },
  {
   "cell_type": "code",
   "execution_count": 46,
   "id": "2d6a57df-2a6c-4ca5-8bc0-0672d1c03901",
   "metadata": {
    "execution": {
     "iopub.execute_input": "2024-06-12T07:12:34.834981Z",
     "iopub.status.busy": "2024-06-12T07:12:34.834752Z",
     "iopub.status.idle": "2024-06-12T07:12:34.944900Z",
     "shell.execute_reply": "2024-06-12T07:12:34.944229Z",
     "shell.execute_reply.started": "2024-06-12T07:12:34.834962Z"
    }
   },
   "outputs": [
    {
     "name": "stderr",
     "output_type": "stream",
     "text": [
      "2024-06-16 12:20:33,115 - root - INFO: -  Load model checkpoint from  AE_baseline_20240616_snglOpt-025Ltnt_512_BEST_ep_008.pt\n"
     ]
    },
    {
     "name": "stderr",
     "output_type": "stream",
     "text": [
      "2024-06-16 12:20:33,149 - snnl.utils.utils - INFO: -  ==> Loaded from checkpoint AE_baseline_20240616_snglOpt-025Ltnt_512_BEST_ep_008.pt successfully. last epoch on checkpoint: 8\n"
     ]
    },
    {
     "name": "stdout",
     "output_type": "stream",
     "text": [
      "\n",
      " last epoch : 8\n"
     ]
    }
   ],
   "source": [
    "mdl , last_epoch = load_checkpoint_v2(model, filename)  \n",
    "print(f\" last epoch : {last_epoch}\")"
   ]
  },
  {
   "cell_type": "code",
   "execution_count": 87,
   "id": "72568b6c-66b5-458e-8cdb-11fd70a6d161",
   "metadata": {
    "execution": {
     "iopub.execute_input": "2024-06-12T07:13:14.654574Z",
     "iopub.status.busy": "2024-06-12T07:13:14.654131Z",
     "iopub.status.idle": "2024-06-12T07:13:14.691236Z",
     "shell.execute_reply": "2024-06-12T07:13:14.690692Z",
     "shell.execute_reply.started": "2024-06-12T07:13:14.654532Z"
    }
   },
   "outputs": [
    {
     "name": "stdout",
     "output_type": "stream",
     "text": [
      "cuda:1\n",
      "cuda:0\n",
      "cuda:1\n"
     ]
    }
   ],
   "source": [
    "print(current_device)\n",
    "print(model.device)\n",
    "model.device = current_device\n",
    "print(model.device)"
   ]
  },
  {
   "cell_type": "code",
   "execution_count": 88,
   "id": "00c841d7-6d85-438c-a7da-e8026fb4f644",
   "metadata": {
    "execution": {
     "iopub.execute_input": "2024-06-12T07:13:29.929118Z",
     "iopub.status.busy": "2024-06-12T07:13:29.928696Z",
     "iopub.status.idle": "2024-06-12T07:13:29.970587Z",
     "shell.execute_reply": "2024-06-12T07:13:29.970030Z",
     "shell.execute_reply.started": "2024-06-12T07:13:29.929079Z"
    }
   },
   "outputs": [
    {
     "name": "stdout",
     "output_type": "stream",
     "text": [
      "cuda:1\n"
     ]
    },
    {
     "data": {
      "text/plain": [
       "Autoencoder(\n",
       "  (primary_criterion): MSELoss()\n",
       "  (layers): ModuleList(\n",
       "    (0): Linear(in_features=1471, out_features=1024, bias=True)\n",
       "    (1): ReLU()\n",
       "    (2): Linear(in_features=1024, out_features=128, bias=True)\n",
       "    (3): ReLU()\n",
       "    (4): Linear(in_features=128, out_features=50, bias=True)\n",
       "    (5): Linear(in_features=50, out_features=128, bias=True)\n",
       "    (6): ReLU()\n",
       "    (7): Linear(in_features=128, out_features=1024, bias=True)\n",
       "    (8): ReLU()\n",
       "    (9): Linear(in_features=1024, out_features=1471, bias=True)\n",
       "  )\n",
       ")"
      ]
     },
     "execution_count": 88,
     "metadata": {},
     "output_type": "execute_result"
    },
    {
     "name": "stdout",
     "output_type": "stream",
     "text": [
      "cuda:1\n"
     ]
    }
   ],
   "source": [
    "print(current_device)\n",
    "model.train()\n",
    "model = model.cuda(device=current_device)\n",
    "print(model.device)"
   ]
  },
  {
   "cell_type": "code",
   "execution_count": 89,
   "id": "25b03053-b090-4116-898a-acbfb8add271",
   "metadata": {
    "execution": {
     "iopub.execute_input": "2024-06-12T07:13:32.442713Z",
     "iopub.status.busy": "2024-06-12T07:13:32.442266Z",
     "iopub.status.idle": "2024-06-12T07:13:32.478663Z",
     "shell.execute_reply": "2024-06-12T07:13:32.478099Z",
     "shell.execute_reply.started": "2024-06-12T07:13:32.442671Z"
    }
   },
   "outputs": [
    {
     "name": "stdout",
     "output_type": "stream",
     "text": [
      " last epoch  200\n"
     ]
    }
   ],
   "source": [
    "print(f\" last epoch  {last_epoch}\")"
   ]
  },
  {
   "cell_type": "code",
   "execution_count": 90,
   "id": "eb1241f9-4ad1-425f-8526-43c5cd89859c",
   "metadata": {
    "execution": {
     "iopub.execute_input": "2024-06-12T07:13:33.559192Z",
     "iopub.status.busy": "2024-06-12T07:13:33.558761Z",
     "iopub.status.idle": "2024-06-12T07:13:33.595006Z",
     "shell.execute_reply": "2024-06-12T07:13:33.594323Z",
     "shell.execute_reply.started": "2024-06-12T07:13:33.559152Z"
    }
   },
   "outputs": [
    {
     "name": "stdout",
     "output_type": "stream",
     "text": [
      " run epochs 201 to 300 \n"
     ]
    }
   ],
   "source": [
    "# starting_epoch = 20\n",
    "starting_epoch = last_epoch\n",
    "epochs = last_epoch + 100\n",
    "# starting_epoch = epoch + 1\n",
    "print(f\" run epochs {starting_epoch+1} to {epochs} \")"
   ]
  },
  {
   "cell_type": "code",
   "execution_count": 91,
   "id": "361a2ba1-0bac-4ff8-aa08-950fe7fe2302",
   "metadata": {
    "execution": {
     "iopub.execute_input": "2024-06-12T07:13:35.420453Z",
     "iopub.status.busy": "2024-06-12T07:13:35.419955Z",
     "iopub.status.idle": "2024-06-12T07:13:35.457924Z",
     "shell.execute_reply": "2024-06-12T07:13:35.457376Z",
     "shell.execute_reply.started": "2024-06-12T07:13:35.420413Z"
    }
   },
   "outputs": [
    {
     "name": "stdout",
     "output_type": "stream",
     "text": [
      "\n",
      " model device         : cuda:1\n",
      " model temperature    : 0\n",
      "\n",
      " loss_factor          : 1.0\n",
      " monitor_grads_layer  : None\n",
      " Learning rate        : 0.001\n",
      " snnl_factor          : 0.0\n",
      "\n",
      " trn_time             : 17:35:13  \n",
      " trn_ttl_loss         : 0.270604 \n",
      " trn_prim_loss        : 0.270604 \n",
      " trn_snn_loss         : 0.000000 \n",
      " trn_R2_score         : 0.614610 \n",
      " trn_lr               : 0.001000 \n",
      "\n",
      " val_time             : 17:35:24  \n",
      " val_ttl_loss         : 0.314858 \n",
      " val_prim_loss        : 0.314858 \n",
      " val_snn_loss         : 0.000000 \n",
      " val_R2_score         : 0.482821 \n",
      "\n"
     ]
    }
   ],
   "source": [
    "print()\n",
    "print(f\" model device         : {model.device}\")\n",
    "print(f\" model temperature    : {model.temperature}\")\n",
    "print() \n",
    "print(f\" loss_factor          : {model.loss_factor}\")\n",
    "print(f\" monitor_grads_layer  : {model.monitor_grads_layer}\")\n",
    "print(f\" Learning rate        : {model.optimizer.param_groups[0]['lr']}\") \n",
    "print(f\" snnl_factor          : {model.snnl_factor}\")\n",
    "if model.use_snnl:\n",
    "    print(f\" temperature          : {model.temperature.item()}\")\n",
    "if model.temp_optimizer is not None:\n",
    "    print(f\" Temperature LR       : {model.temp_optimizer.param_groups[0]['lr']}\") \n",
    "print()\n",
    "\n",
    "for th_key in ['trn', 'val']:\n",
    "    for k,v in model.training_history[th_key].items():\n",
    "        if isinstance(v[-1],str):\n",
    "            print(f\" {k:20s} : {v[-1]:s}  \")\n",
    "        else:\n",
    "            print(f\" {k:20s} : {v[-1]:6f} \")\n",
    "    print()\n"
   ]
  },
  {
   "cell_type": "code",
   "execution_count": null,
   "id": "6a4b320a-e40a-47b2-886f-6130c314afb8",
   "metadata": {
    "scrolled": true
   },
   "outputs": [],
   "source": [
    "model.optimizer.__dict__\n",
    "print()"
   ]
  },
  {
   "cell_type": "code",
   "execution_count": null,
   "id": "903b5c7a-4271-4659-857d-29ee395daedc",
   "metadata": {},
   "outputs": [],
   "source": [
    "model.scheduler.__dict__"
   ]
  }
 ],
 "metadata": {
  "kernelspec": {
   "display_name": "Python [conda env:ptsnnl]",
   "language": "python",
   "name": "conda-env-ptsnnl-py"
  },
  "language_info": {
   "codemirror_mode": {
    "name": "ipython",
    "version": 3
   },
   "file_extension": ".py",
   "mimetype": "text/x-python",
   "name": "python",
   "nbconvert_exporter": "python",
   "pygments_lexer": "ipython3",
   "version": "3.11.0"
  },
  "toc": {
   "base_numbering": 1,
   "nav_menu": {},
   "number_sections": true,
   "sideBar": true,
   "skip_h1_title": false,
   "title_cell": "Table of Contents",
   "title_sidebar": "Contents",
   "toc_cell": false,
   "toc_position": {},
   "toc_section_display": true,
   "toc_window_display": false
  }
 },
 "nbformat": 4,
 "nbformat_minor": 5
}
