{
 "cells": [
  {
   "cell_type": "markdown",
   "id": "01e25dfa-859b-40a5-9bd7-e23d6e0a0557",
   "metadata": {},
   "source": [
    "  # Autoencoder - SNNL Dev"
   ]
  },
  {
   "cell_type": "markdown",
   "id": "dc83491e-628a-4bc0-806c-5d41b997dd98",
   "metadata": {},
   "source": [
    "# Setup"
   ]
  },
  {
   "cell_type": "code",
   "execution_count": 1,
   "id": "11ad0ae2",
   "metadata": {
    "ExecuteTime": {
     "end_time": "2023-04-12T10:29:15.566596Z",
     "start_time": "2023-04-12T10:29:15.550232Z"
    },
    "execution": {
     "iopub.execute_input": "2024-07-09T20:35:22.990808Z",
     "iopub.status.busy": "2024-07-09T20:35:22.990383Z",
     "iopub.status.idle": "2024-07-09T20:35:23.013457Z",
     "shell.execute_reply": "2024-07-09T20:35:23.012869Z",
     "shell.execute_reply.started": "2024-07-09T20:35:22.990772Z"
    }
   },
   "outputs": [
    {
     "data": {
      "text/html": [
       "<style>.container { width:98% !important; }</style>"
      ],
      "text/plain": [
       "<IPython.core.display.HTML object>"
      ]
     },
     "metadata": {},
     "output_type": "display_data"
    }
   ],
   "source": [
    "# %pwd\n",
    "# %cd ~/WSL-shared/Cellpainting/pt-snnl/\n",
    "from IPython.display import display, HTML\n",
    "display(HTML(\"<style>.container { width:98% !important; }</style>\"))\n",
    "%load_ext autoreload  \n",
    "%autoreload 2\n",
    "from IPython.core.interactiveshell import InteractiveShell\n",
    "InteractiveShell.ast_node_interactivity = \"all\""
   ]
  },
  {
   "cell_type": "code",
   "execution_count": 2,
   "id": "651de463-2e37-42ed-808d-2f16dff6b3d5",
   "metadata": {
    "ExecuteTime": {
     "end_time": "2023-04-12T10:29:16.111588Z",
     "start_time": "2023-04-12T10:29:15.764305Z"
    },
    "execution": {
     "iopub.execute_input": "2024-07-09T20:35:23.014591Z",
     "iopub.status.busy": "2024-07-09T20:35:23.014349Z",
     "iopub.status.idle": "2024-07-09T20:35:26.102155Z",
     "shell.execute_reply": "2024-07-09T20:35:26.101385Z",
     "shell.execute_reply.started": "2024-07-09T20:35:23.014568Z"
    }
   },
   "outputs": [
    {
     "name": "stdout",
     "output_type": "stream",
     "text": [
      "insert ./src\n",
      "insert ../..\n",
      "['../..', './src', '/home/kevin/miniforge3/envs/ptsnnl/lib/python311.zip', '/home/kevin/miniforge3/envs/ptsnnl/lib/python3.11', '/home/kevin/miniforge3/envs/ptsnnl/lib/python3.11/lib-dynload', '', '/home/kevin/miniforge3/envs/ptsnnl/lib/python3.11/site-packages', '/home/kevin/miniforge3/envs/ptsnnl/lib/python3.11/site-packages/cytominer_eval-0.1-py3.11.egg']\n"
     ]
    }
   ],
   "source": [
    "import os\n",
    "import sys\n",
    "import csv\n",
    "import json\n",
    "import time\n",
    "import types, copy, pprint\n",
    "import logging \n",
    "from datetime import datetime\n",
    "for p in ['./src','../..']:\n",
    "    if p not in sys.path:\n",
    "        print(f\"insert {p}\")\n",
    "        sys.path.insert(0, p)\n",
    "print(sys.path)\n",
    "# import shutil\n",
    "# import getpass\n",
    "import yaml\n",
    "\n",
    "import hydra \n",
    "from hydra import initialize, initialize_config_module, initialize_config_dir, compose\n",
    "from omegaconf import OmegaConf\n",
    "\n",
    "\n",
    "from matplotlib import pyplot as plt\n",
    "from typing import Dict, List, Tuple\n",
    "from scipy.sparse import csr_matrix\n",
    "from tqdm import tqdm\n",
    "\n",
    "import numpy as np\n",
    "import pandas as pd\n",
    "import scipy  \n",
    "import torch\n",
    "import torch.nn.functional as F\n",
    "from torchinfo import summary\n",
    "import wandb\n",
    "\n",
    "torch.set_printoptions(precision=None, threshold=None, edgeitems=None, linewidth=150, profile=None, sci_mode=None)\n",
    " \n",
    "\n",
    "pp = pprint.PrettyPrinter(indent=4)\n",
    "pd.options.display.width = 132\n",
    "torch.set_printoptions(precision=None, threshold=None, edgeitems=None, linewidth=150, profile=None, sci_mode=None)\n",
    "np.set_printoptions(edgeitems=3, infstr='inf', linewidth=150, nanstr='nan')\n",
    "\n",
    "os.environ[\"WANDB_NOTEBOOK_NAME\"] = \"AE-MAIN-SNNL.ipynb\"\n",
    "# os.environ[\"CUDA_LAUNCH_BLOCKING\"] = \"1\"\n",
    "# os.environ[\"CUDA_VISIBLE_DEVICES\"] = \"2\""
   ]
  },
  {
   "cell_type": "code",
   "execution_count": 5,
   "id": "61e84582-bc2f-4bdd-8410-33f267519657",
   "metadata": {
    "ExecuteTime": {
     "end_time": "2023-04-12T10:29:16.111588Z",
     "start_time": "2023-04-12T10:29:15.764305Z"
    },
    "execution": {
     "iopub.execute_input": "2024-07-09T20:35:40.443525Z",
     "iopub.status.busy": "2024-07-09T20:35:40.442940Z",
     "iopub.status.idle": "2024-07-09T20:35:40.492518Z",
     "shell.execute_reply": "2024-07-09T20:35:40.491757Z",
     "shell.execute_reply.started": "2024-07-09T20:35:40.443481Z"
    }
   },
   "outputs": [],
   "source": [
    "from KevinsRoutines.utils.utils_wandb  import  init_wandb, wandb_log_metrics,wandb_watch\n",
    "from KevinsRoutines.utils.utils_general  import  list_namespace, print_heading, print_underline \n",
    "from snnl.utils import parse_args, load_configuration, set_global_seed, get_device, set_device\n",
    "from snnl.utils import load_model, save_model, import_results, export_results \n",
    "from snnl.utils import plot_model_parms, plot_train_history, plot_classification_metrics, plot_regression_metrics\n",
    "from snnl.utils import display_epoch_metrics, display_cellpainting_batch, display_model_parameters\n",
    "from snnl.utils import CellpaintingDataset, InfiniteDataLoader, custom_collate_fn\n",
    "from snnl.utils import display_model_summary, define_autoencoder_model\n",
    "from snnl.utils import load_checkpoint_v4,  save_checkpoint_v4"
   ]
  },
  {
   "cell_type": "code",
   "execution_count": 6,
   "id": "5e43c4ff-f371-4f9d-8785-1faeebe2330b",
   "metadata": {
    "ExecuteTime": {
     "end_time": "2023-04-12T10:29:16.111588Z",
     "start_time": "2023-04-12T10:29:15.764305Z"
    },
    "execution": {
     "iopub.execute_input": "2024-07-09T20:35:40.837173Z",
     "iopub.status.busy": "2024-07-09T20:35:40.836775Z",
     "iopub.status.idle": "2024-07-09T20:35:40.889790Z",
     "shell.execute_reply": "2024-07-09T20:35:40.889133Z",
     "shell.execute_reply.started": "2024-07-09T20:35:40.837140Z"
    },
    "scrolled": true
   },
   "outputs": [
    {
     "name": "stderr",
     "output_type": "stream",
     "text": [
      "2024-07-09 22:35:40,882 - __main__ - INFO: -  Excution started : 2024_07_09_22:35:40 \n",
      "2024-07-09 22:35:40,884 - __main__ - INFO: -  Pytorch version  : 2.2.1+cu118\n",
      "2024-07-09 22:35:40,885 - __main__ - INFO: -  Scipy version    : 1.12.0  \t\t Numpy version : 1.26.4\n",
      "2024-07-09 22:35:40,886 - __main__ - INFO: -  WandB version    : 0.17.2  \t\t Pandas version: 2.2.1  \n"
     ]
    }
   ],
   "source": [
    "timestamp = datetime.now().strftime('%Y_%m_%d_%H:%M:%S')\n",
    "logger = logging.getLogger(__name__) \n",
    "logLevel = os.environ.get('LOG_LEVEL', 'INFO').upper()\n",
    "FORMAT = '%(asctime)s - %(name)s - %(levelname)s: - %(message)s'\n",
    "logging.basicConfig(level=\"INFO\", format= FORMAT)\n",
    "\n",
    "logger.info(f\" Excution started : {timestamp} \")\n",
    "logger.info(f\" Pytorch version  : {torch.__version__}\")\n",
    "logger.info(f\" Scipy version    : {scipy.__version__}  \\t\\t Numpy version : {np.__version__}\")\n",
    "logger.info(f\" WandB version    : {wandb.__version__}  \\t\\t Pandas version: {pd.__version__}  \")\n",
    "# logger.info(f\" Search path      : {sys.path}\")"
   ]
  },
  {
   "cell_type": "markdown",
   "id": "789b0fbb-e6b5-4faf-95d0-385819cf246c",
   "metadata": {},
   "source": [
    "### Hydra"
   ]
  },
  {
   "cell_type": "code",
   "execution_count": 7,
   "id": "835f339d-01c8-41f9-be27-ecbd2ca672f8",
   "metadata": {
    "execution": {
     "iopub.execute_input": "2024-07-09T20:35:42.977735Z",
     "iopub.status.busy": "2024-07-09T20:35:42.977222Z",
     "iopub.status.idle": "2024-07-09T20:35:43.025563Z",
     "shell.execute_reply": "2024-07-09T20:35:43.024833Z",
     "shell.execute_reply.started": "2024-07-09T20:35:42.977690Z"
    }
   },
   "outputs": [],
   "source": [
    "# hydra.core.global_hydra.GlobalHydra.instance().clear()\n",
    "\n",
    "# abs_config_dir=os.path.abspath(\"hyperparameters\")\n",
    "# abs_config_dir\n",
    "# # GlobalHydra.instance().clear() \n",
    "# initialize_config_dir(version_base=None, config_dir=abs_config_dir)\n",
    "# # initialize(version_base=None, config_path=\"hyperparameters\")\n",
    "\n",
    "# cfg=compose(config_name=\"AE_Base.yaml\")\n",
    "# type(cfg)\n",
    "# print(cfg)\n",
    "# cfgyaml = OmegaConf.to_yaml(cfg)\n",
    "# type(cfgyaml)\n",
    "# print(cfgyaml)"
   ]
  },
  {
   "cell_type": "markdown",
   "id": "44ea8eff-3a7f-41f0-abd3-2ac4d6c33cd9",
   "metadata": {},
   "source": [
    "### main(args)"
   ]
  },
  {
   "cell_type": "code",
   "execution_count": 8,
   "id": "cb592ef6-ef85-4773-a042-69bd43ff89b7",
   "metadata": {
    "execution": {
     "iopub.execute_input": "2024-07-09T20:35:44.787670Z",
     "iopub.status.busy": "2024-07-09T20:35:44.787143Z",
     "iopub.status.idle": "2024-07-09T20:35:44.839902Z",
     "shell.execute_reply": "2024-07-09T20:35:44.839304Z",
     "shell.execute_reply.started": "2024-07-09T20:35:44.787624Z"
    }
   },
   "outputs": [
    {
     "data": {
      "text/plain": [
       "'AE_snnl_dcpb200_150Ltnt_512_yymmdd-hhmm_LAST_ep_200.pt'"
      ]
     },
     "execution_count": 8,
     "metadata": {},
     "output_type": "execute_result"
    }
   ],
   "source": [
    "WANDB_ACTIVE  = False\n",
    "LATENT_DIM    = 150\n",
    "HIDDEN_1      = 512\n",
    "# HIDDEN_2    = '_256'\n",
    "HIDDEN_2      = ''\n",
    "DATE          = 'yymmdd-hhmm'\n",
    "LOAD_EPOCH    = 200\n",
    "EPOCHS        = 10\n",
    "COMPOUNDS_PER_BATCH = 200\n",
    "LEARNING_RATE = 1.00e-04\n",
    "TEMP          = 0.05\n",
    "TEMP_LR       = 1.00e-05\n",
    "CHECKPT       = f\"AE_snnl_dcpb{COMPOUNDS_PER_BATCH}_{LATENT_DIM}Ltnt_{HIDDEN_1}{HIDDEN_2}_{DATE}_LAST_ep_{LOAD_EPOCH:03d}.pt\"\n",
    "CHECKPT"
   ]
  },
  {
   "cell_type": "code",
   "execution_count": 9,
   "id": "c80ed726-59ba-4038-9d28-f12a4f97d194",
   "metadata": {
    "execution": {
     "iopub.execute_input": "2024-07-09T20:35:46.047513Z",
     "iopub.status.busy": "2024-07-09T20:35:46.047030Z",
     "iopub.status.idle": "2024-07-09T20:35:46.117763Z",
     "shell.execute_reply": "2024-07-09T20:35:46.117201Z",
     "shell.execute_reply.started": "2024-07-09T20:35:46.047473Z"
    }
   },
   "outputs": [
    {
     "data": {
      "text/plain": [
       "Namespace(configuration='./hyperparameters/ae_sn_150_512_cpb.yaml', ckpt=None, cpb=200, exp_title=None, epochs=10, gpu_id=0, learning_rate=0.0001, exp_id=None, runmode='snnl', random_seed=4321, use_prim_optimizer=True, use_temp_optimizer=False, use_annealing=True, use_single_loss=False, temperature=0.05, temperatureLR=1e-05, wandb=True)"
      ]
     },
     "execution_count": 9,
     "metadata": {},
     "output_type": "execute_result"
    },
    {
     "name": "stderr",
     "output_type": "stream",
     "text": [
      "2024-07-09 22:35:46,101 - snnl.utils.utils - INFO: -  command line param configuration             : [./hyperparameters/ae_sn_150_512_cpb.yaml]\n",
      "2024-07-09 22:35:46,102 - snnl.utils.utils - INFO: -  command line param ckpt                      : [None]\n",
      "2024-07-09 22:35:46,103 - snnl.utils.utils - INFO: -  command line param cpb                       : [200]\n",
      "2024-07-09 22:35:46,103 - snnl.utils.utils - INFO: -  command line param exp_title                 : [None]\n",
      "2024-07-09 22:35:46,104 - snnl.utils.utils - INFO: -  command line param epochs                    : [10]\n",
      "2024-07-09 22:35:46,105 - snnl.utils.utils - INFO: -  command line param gpu_id                    : [0]\n",
      "2024-07-09 22:35:46,105 - snnl.utils.utils - INFO: -  command line param learning_rate             : [0.0001]\n",
      "2024-07-09 22:35:46,106 - snnl.utils.utils - INFO: -  command line param exp_id                    : [None]\n",
      "2024-07-09 22:35:46,107 - snnl.utils.utils - INFO: -  command line param runmode                   : [snnl]\n",
      "2024-07-09 22:35:46,107 - snnl.utils.utils - INFO: -  command line param random_seed               : [4321]\n",
      "2024-07-09 22:35:46,108 - snnl.utils.utils - INFO: -  command line param use_prim_optimizer        : [True]\n",
      "2024-07-09 22:35:46,109 - snnl.utils.utils - INFO: -  command line param use_temp_optimizer        : [False]\n",
      "2024-07-09 22:35:46,109 - snnl.utils.utils - INFO: -  command line param use_annealing             : [True]\n",
      "2024-07-09 22:35:46,110 - snnl.utils.utils - INFO: -  command line param use_single_loss           : [False]\n",
      "2024-07-09 22:35:46,110 - snnl.utils.utils - INFO: -  command line param temperature               : [0.05]\n",
      "2024-07-09 22:35:46,111 - snnl.utils.utils - INFO: -  command line param temperatureLR             : [1e-05]\n",
      "2024-07-09 22:35:46,111 - snnl.utils.utils - INFO: -  command line param wandb                     : [True]\n",
      "2024-07-09 22:35:46,112 - snnl.utils.utils - INFO: -  command line param exp_title                 : [dcpb200_150Ltnt_512]\n"
     ]
    }
   ],
   "source": [
    "# if __name__ == \"__main__\":\n",
    "cli_args =   f\" --runmode            snnl \" \\\n",
    "             f\" --configuration      ./hyperparameters/ae_sn_150_512_cpb.yaml\" \\\n",
    "             f\" --epochs             {EPOCHS} \" \\\n",
    "             f\" --prim_opt           \"\\\n",
    "             f\" --lr                 {LEARNING_RATE} \"\\\n",
    "             f\" --temp_lr            {TEMP_LR}\"\\\n",
    "             f\" --temp               {TEMP} \"\\\n",
    "             f\" --temp_annealing     \"\\\n",
    "             f\" --cpb                {COMPOUNDS_PER_BATCH}\" \\\n",
    "\t         f\" --seed               4321\"\\\n",
    "             f\" --wandb              \"\\\n",
    "             f\" --gpu_id             0  \"  \\\n",
    "             f\" \"\n",
    "             # f\" --temp_opt \" \\\n",
    "             # f\" --ckpt               AE_snnl_dcpb200_{LATENT_DIM}Ltnt_{HIDDEN_1}{HIDDEN_2}_{DATE}_LAST_ep_{LOAD_EPOCH:03d}.pt \" \\\n",
    "             # f\" --run_id             soucc8ix \" \\\n",
    "             # f\" --ckpt               AE_baseline_{DATE}_snglOpt-{LATENT_DIM}Ltnt{HIDDEN_1}{HIDDEN_2}_ep_{LOAD_EPOCH}.pt \" \\\n",
    "             # f\" --configuration      hyperparameters/ae_sn_{LATENT_DIM:03d}{HIDDEN_1}{HIDDEN_2}_cpb.yaml\" \\\n",
    "             # f\" --exp_title           snglOpt-050Ltnt_512_sig \"\n",
    "             # f\" --runmode            snnl\" \\\n",
    "cli_args = parse_args(cli_args.split())\n",
    "cli_args\n",
    "\n",
    "args = load_configuration(cli_args)\n",
    "args.ckpt\n"
   ]
  },
  {
   "cell_type": "code",
   "execution_count": 10,
   "id": "973eda2d-5816-4b88-84f8-881c86ac2353",
   "metadata": {
    "execution": {
     "iopub.execute_input": "2024-07-09T20:35:47.447771Z",
     "iopub.status.busy": "2024-07-09T20:35:47.447259Z",
     "iopub.status.idle": "2024-07-09T20:35:47.500301Z",
     "shell.execute_reply": "2024-07-09T20:35:47.499682Z",
     "shell.execute_reply.started": "2024-07-09T20:35:47.447727Z"
    },
    "scrolled": true
   },
   "outputs": [
    {
     "data": {
      "text/plain": [
       "namespace(project_name='CellPainting_Profiles',\n",
       "          exp_id=None,\n",
       "          exp_name_pfx=None,\n",
       "          exp_name=None,\n",
       "          exp_date=None,\n",
       "          exp_title='dcpb200_150Ltnt_512',\n",
       "          exp_description='AE snnl - DualOpt, 150 dim latent, 512 Midlayer, 200 cpb',\n",
       "          exp_folder=None,\n",
       "          folder_sfx=None,\n",
       "          random_seed=4321,\n",
       "          units=[['linear', 1471, 1024],\n",
       "                 ['relu', 0, 0],\n",
       "                 ['linear', 1024, 512],\n",
       "                 ['relu', 0, 0],\n",
       "                 ['linear', 512, 150],\n",
       "                 ['linear', 150, 512],\n",
       "                 ['relu', 0, 0],\n",
       "                 ['linear', 512, 1024],\n",
       "                 ['relu', 0, 0],\n",
       "                 ['linear', 1024, 1471]],\n",
       "          input_shape=1471,\n",
       "          code_units=150,\n",
       "          embedding_layer=4,\n",
       "          show_every=1,\n",
       "          save_every=100,\n",
       "          learning_rate=0.0001,\n",
       "          loss_factor=1.0,\n",
       "          adam_weight_decay=0,\n",
       "          snnl_factor=0.5,\n",
       "          temperature=0.05,\n",
       "          use_temp_optimizer=False,\n",
       "          use_temp_scheduler=False,\n",
       "          temperatureLR=1e-05,\n",
       "          SGD_weight_decay=0,\n",
       "          dataset='cellpainting',\n",
       "          cellpainting_args={'sample_size': 3,\n",
       "                             'batch_size': 1,\n",
       "                             'compounds_per_batch': 200,\n",
       "                             'training_path': '/home/kevin/WSL-shared/Cellpainting/cj-datasets/output_11102023/3_sample_profiles/3sample_profiles_1482_HashOrder.csv',\n",
       "                             'validation_path': '/home/kevin/WSL-shared/Cellpainting/cj-datasets/output_11102023/3_sample_profiles/3sample_profiles_1482_HashOrder_test.csv',\n",
       "                             'test_path': '/home/kevin/WSL-shared/Cellpainting/cj-datasets/output_11102023/3_sample_profiles/3sample_profiles_1482_HashOrder_test.csv',\n",
       "                             'train_start': 0,\n",
       "                             'train_end': 240000,\n",
       "                             'val_start': 0,\n",
       "                             'val_end': 24000,\n",
       "                             'test_start': 30000,\n",
       "                             'test_end': 33600,\n",
       "                             'chunksize': None,\n",
       "                             'conversions': None,\n",
       "                             'iterator': True},\n",
       "          paths={'log_dir': './logs',\n",
       "                 'result_dir': './results',\n",
       "                 'checkpoint_dir': './ckpt'},\n",
       "          configuration='./hyperparameters/ae_sn_150_512_cpb.yaml',\n",
       "          cpb=200,\n",
       "          epochs=10,\n",
       "          gpu_id=0,\n",
       "          runmode='snnl',\n",
       "          use_prim_optimizer=True,\n",
       "          use_annealing=True,\n",
       "          use_single_loss=False,\n",
       "          wandb=True,\n",
       "          ckpt=None,\n",
       "          batch_size=1,\n",
       "          use_prim_scheduler=True,\n",
       "          use_sum=False,\n",
       "          SGD_momentum=0)"
      ]
     },
     "execution_count": 10,
     "metadata": {},
     "output_type": "execute_result"
    }
   ],
   "source": [
    "args"
   ]
  },
  {
   "cell_type": "code",
   "execution_count": 11,
   "id": "94193666-319a-4bfa-8182-1aba148812c1",
   "metadata": {
    "execution": {
     "iopub.execute_input": "2024-07-09T20:35:50.387366Z",
     "iopub.status.busy": "2024-07-09T20:35:50.386825Z",
     "iopub.status.idle": "2024-07-09T20:35:51.204954Z",
     "shell.execute_reply": "2024-07-09T20:35:51.204157Z",
     "shell.execute_reply.started": "2024-07-09T20:35:50.387325Z"
    }
   },
   "outputs": [
    {
     "name": "stderr",
     "output_type": "stream",
     "text": [
      "2024-07-09 22:35:51,196 - snnl.utils.utils - INFO: -  Current CUDA Device is:  cuda:0 - Quadro GV100\n",
      "2024-07-09 22:35:51,198 - snnl.utils.utils - INFO: -  Switched to: Quadro GV100 - 0\n",
      "2024-07-09 22:35:51,199 - snnl.utils.utils - INFO: -  Current CUDA Device is:  cuda:0 - Quadro GV100\n"
     ]
    }
   ],
   "source": [
    "set_global_seed(args.random_seed)\n",
    "if args.ckpt is not None:\n",
    "    if os.path.exists(os.path.join('ckpts', args.ckpt)):\n",
    "        logger.info(f\" Checkpoint {args.ckpt} found\")\n",
    "        logger.info(f\" Resuming training using checkpoint: {args.ckpt}\")\n",
    "    else:\n",
    "        logger.error(f\" *** Checkpoint {args.ckpt} not found *** \\n\")\n",
    "        raise ValueError(f\"\\n *** Checkpoint DOESNT EXIST *** \\n\")\n",
    "\n",
    "if args.gpu_id is not None:\n",
    "    _ = get_device()\n",
    "    # print(f\"Current device is : {current_device}\")    \n",
    "    current_device = set_device(args.gpu_id)\n",
    "    current_device = get_device()\n"
   ]
  },
  {
   "cell_type": "markdown",
   "id": "7e2871b9-ea54-4869-9fa3-5ade2e1416cd",
   "metadata": {},
   "source": [
    "#### Define dataset and dataloaders"
   ]
  },
  {
   "cell_type": "code",
   "execution_count": 12,
   "id": "b37affb2-a82e-49d5-9e58-88e3c98f8fa3",
   "metadata": {
    "execution": {
     "iopub.execute_input": "2024-07-09T20:35:52.573557Z",
     "iopub.status.busy": "2024-07-09T20:35:52.573163Z",
     "iopub.status.idle": "2024-07-09T20:35:52.641573Z",
     "shell.execute_reply": "2024-07-09T20:35:52.640811Z",
     "shell.execute_reply.started": "2024-07-09T20:35:52.573527Z"
    }
   },
   "outputs": [
    {
     "name": "stderr",
     "output_type": "stream",
     "text": [
      "2024-07-09 22:35:52,618 - root - INFO: -  load cellpainting\n",
      "2024-07-09 22:35:52,620 - snnl.utils.dataloader - INFO: -  Building CellPantingDataset for train\n",
      "2024-07-09 22:35:52,621 - snnl.utils.dataloader - INFO: -  filename:  /home/kevin/WSL-shared/Cellpainting/cj-datasets/output_11102023/3_sample_profiles/3sample_profiles_1482_HashOrder.csv\n",
      "2024-07-09 22:35:52,622 - snnl.utils.dataloader - INFO: -  type    :  train\n",
      "2024-07-09 22:35:52,622 - snnl.utils.dataloader - INFO: -  start   :  0\n",
      "2024-07-09 22:35:52,623 - snnl.utils.dataloader - INFO: -  end     :  240000\n",
      "2024-07-09 22:35:52,624 - snnl.utils.dataloader - INFO: -  numrows :  240000\n",
      "2024-07-09 22:35:52,624 - snnl.utils.dataloader - INFO: -  Each mini-batch contains 200.0 compounds with 3 samples per compound : total 600 rows\n",
      "2024-07-09 22:35:52,625 - snnl.utils.dataloader - INFO: -  Number of 600 row full size batches per epoch: 400\n",
      "2024-07-09 22:35:52,626 - snnl.utils.dataloader - INFO: -  Rows covered by 400 full size batches (600 rows) per epoch:  240000\n",
      "2024-07-09 22:35:52,626 - snnl.utils.dataloader - INFO: -  Last partial batch contains : 0 rows\n",
      "2024-07-09 22:35:52,627 - snnl.utils.dataloader - INFO: -  \n",
      "2024-07-09 22:35:52,628 - snnl.utils.dataloader - INFO: -  Building CellPantingDataset for val\n",
      "2024-07-09 22:35:52,629 - snnl.utils.dataloader - INFO: -  filename:  /home/kevin/WSL-shared/Cellpainting/cj-datasets/output_11102023/3_sample_profiles/3sample_profiles_1482_HashOrder_test.csv\n",
      "2024-07-09 22:35:52,630 - snnl.utils.dataloader - INFO: -  type    :  val\n",
      "2024-07-09 22:35:52,630 - snnl.utils.dataloader - INFO: -  start   :  0\n",
      "2024-07-09 22:35:52,631 - snnl.utils.dataloader - INFO: -  end     :  24000\n",
      "2024-07-09 22:35:52,631 - snnl.utils.dataloader - INFO: -  numrows :  24000\n",
      "2024-07-09 22:35:52,632 - snnl.utils.dataloader - INFO: -  Each mini-batch contains 200.0 compounds with 3 samples per compound : total 600 rows\n",
      "2024-07-09 22:35:52,632 - snnl.utils.dataloader - INFO: -  Number of 600 row full size batches per epoch: 40\n",
      "2024-07-09 22:35:52,633 - snnl.utils.dataloader - INFO: -  Rows covered by 40 full size batches (600 rows) per epoch:  24000\n",
      "2024-07-09 22:35:52,635 - snnl.utils.dataloader - INFO: -  Last partial batch contains : 0 rows\n",
      "2024-07-09 22:35:52,635 - snnl.utils.dataloader - INFO: -  \n"
     ]
    }
   ],
   "source": [
    "#### Load CellPainting Dataset\n",
    "logging.info(f\" load {args.dataset}\")\n",
    "train_dataset = CellpaintingDataset(type='train',    **args.cellpainting_args)\n",
    "train_loader = InfiniteDataLoader(dataset=train_dataset, batch_size = args.batch_size, shuffle = False, num_workers = 0, collate_fn = custom_collate_fn)\n",
    "val_dataset = CellpaintingDataset(type='val',    **args.cellpainting_args)\n",
    "val_loader = InfiniteDataLoader(dataset=val_dataset, batch_size = args.batch_size, shuffle = False, num_workers = 0, collate_fn = custom_collate_fn)"
   ]
  },
  {
   "cell_type": "markdown",
   "id": "47e2418f-1b68-43b8-b530-9ffb72141121",
   "metadata": {},
   "source": [
    "#### WandB Setup"
   ]
  },
  {
   "cell_type": "code",
   "execution_count": 13,
   "id": "5dd597f5-f212-4261-b8a9-cd9cf558cb68",
   "metadata": {
    "execution": {
     "iopub.execute_input": "2024-07-09T20:35:55.136020Z",
     "iopub.status.busy": "2024-07-09T20:35:55.135523Z",
     "iopub.status.idle": "2024-07-09T20:35:55.190301Z",
     "shell.execute_reply": "2024-07-09T20:35:55.189761Z",
     "shell.execute_reply.started": "2024-07-09T20:35:55.135977Z"
    }
   },
   "outputs": [
    {
     "name": "stderr",
     "output_type": "stream",
     "text": [
      "2024-07-09 22:35:55,180 - __main__ - INFO: -  args.wandb       : True\n",
      "2024-07-09 22:35:55,182 - __main__ - INFO: -  Project Name     : CellPainting_Profiles\n",
      "2024-07-09 22:35:55,183 - __main__ - INFO: -  Experiment Id    : None\n",
      "2024-07-09 22:35:55,184 - __main__ - INFO: -  Experiment Name  : None\n",
      "2024-07-09 22:35:55,185 - __main__ - INFO: -  Experiment Date  : None\n",
      "2024-07-09 22:35:55,186 - __main__ - INFO: -  Experiment Title : dcpb200_150Ltnt_512\n",
      "2024-07-09 22:35:55,186 - __main__ - INFO: -  Experiment Notes : AE snnl - DualOpt, 150 dim latent, 512 Midlayer, 200 cpb\n"
     ]
    }
   ],
   "source": [
    "# args.exp_id   = None\n",
    "# args.exp_name = 'AE_'+datetime.now().strftime('%m%d_%H%M')\n",
    "# args.exp_date = datetime.now().strftime('%Y%m%d')\n",
    "\n",
    "## --- for restarts\n",
    "# args.exp_id   = None \n",
    "# args.exp_name = 'AE_0516_1104'\n",
    "# args.exp_date = '20240516'\n",
    "##-----------------\n",
    "logger.info(f\" args.wandb       : {args.wandb}\")\n",
    "logger.info(f\" Project Name     : {args.project_name}\")\n",
    "logger.info(f\" Experiment Id    : {args.exp_id}\")\n",
    "logger.info(f\" Experiment Name  : {args.exp_name}\")\n",
    "logger.info(f\" Experiment Date  : {args.exp_date}\")\n",
    "logger.info(f\" Experiment Title : {args.exp_title}\")\n",
    "logger.info(f\" Experiment Notes : {args.exp_description}\")"
   ]
  },
  {
   "cell_type": "code",
   "execution_count": 28,
   "id": "1c2cd59a-dec4-4d6c-b911-d70dc4d4e09e",
   "metadata": {
    "execution": {
     "iopub.execute_input": "2024-07-09T20:49:10.445716Z",
     "iopub.status.busy": "2024-07-09T20:49:10.445186Z",
     "iopub.status.idle": "2024-07-09T20:49:18.055048Z",
     "shell.execute_reply": "2024-07-09T20:49:18.053842Z",
     "shell.execute_reply.started": "2024-07-09T20:49:10.445674Z"
    }
   },
   "outputs": [
    {
     "name": "stderr",
     "output_type": "stream",
     "text": [
      "2024-07-09 22:49:10,495 - __main__ - INFO: -  Experiment Name  : AE_240709_2249\n",
      "2024-07-09 22:49:10,497 - __main__ - INFO: -  Experiment Date  : 240709_2249\n"
     ]
    },
    {
     "name": "stdout",
     "output_type": "stream",
     "text": [
      " *******  Resume W&B Tracking ******* \n"
     ]
    },
    {
     "data": {
      "text/html": [
       "Finishing last run (ID:jzt6ecjz) before initializing another..."
      ],
      "text/plain": [
       "<IPython.core.display.HTML object>"
      ]
     },
     "metadata": {},
     "output_type": "display_data"
    },
    {
     "data": {
      "text/html": [
       "<style>\n",
       "    table.wandb td:nth-child(1) { padding: 0 10px; text-align: left ; width: auto;} td:nth-child(2) {text-align: left ; width: 100%}\n",
       "    .wandb-row { display: flex; flex-direction: row; flex-wrap: wrap; justify-content: flex-start; width: 100% }\n",
       "    .wandb-col { display: flex; flex-direction: column; flex-basis: 100%; flex: 1; padding: 10px; }\n",
       "    </style>\n",
       "<div class=\"wandb-row\"><div class=\"wandb-col\"><h3>Run history:</h3><br/><table class=\"wandb\"><tr><td>temp_grad_hist</td><td>▁</td></tr><tr><td>temp_hist</td><td>▁</td></tr><tr><td>temp_lr</td><td>▁</td></tr><tr><td>trn_R2_score</td><td>▁</td></tr><tr><td>trn_R2_score_tev</td><td>▁</td></tr><tr><td>trn_best_loss</td><td>▁</td></tr><tr><td>trn_best_loss_ep</td><td>▁</td></tr><tr><td>trn_best_metric</td><td>▁</td></tr><tr><td>trn_best_metric_ep</td><td>▁</td></tr><tr><td>trn_lr</td><td>▁</td></tr><tr><td>trn_prim_loss</td><td>▁</td></tr><tr><td>trn_snn_loss</td><td>▁</td></tr><tr><td>trn_ttl_loss</td><td>▁</td></tr><tr><td>val_R2_score</td><td>▁</td></tr><tr><td>val_R2_score_tev</td><td>▁</td></tr><tr><td>val_best_loss</td><td>▁</td></tr><tr><td>val_best_loss_ep</td><td>▁</td></tr><tr><td>val_best_metric</td><td>▁</td></tr><tr><td>val_best_metric_ep</td><td>▁</td></tr><tr><td>val_prim_loss</td><td>▁</td></tr><tr><td>val_snn_loss</td><td>▁</td></tr><tr><td>val_ttl_loss</td><td>▁</td></tr></table><br/></div><div class=\"wandb-col\"><h3>Run summary:</h3><br/><table class=\"wandb\"><tr><td>temp_grad_hist</td><td>0.0</td></tr><tr><td>temp_hist</td><td>1.0</td></tr><tr><td>temp_lr</td><td>0.0</td></tr><tr><td>trn_R2_score</td><td>-11.85333</td></tr><tr><td>trn_R2_score_tev</td><td>0.0</td></tr><tr><td>trn_best_loss</td><td>3.6449</td></tr><tr><td>trn_best_loss_ep</td><td>0</td></tr><tr><td>trn_best_metric</td><td>-11.85333</td></tr><tr><td>trn_best_metric_ep</td><td>0</td></tr><tr><td>trn_lr</td><td>0.0001</td></tr><tr><td>trn_prim_loss</td><td>0.81193</td></tr><tr><td>trn_snn_loss</td><td>2.83297</td></tr><tr><td>trn_time</td><td>22:40:10</td></tr><tr><td>trn_ttl_loss</td><td>3.6449</td></tr><tr><td>val_R2_score</td><td>-4.53717</td></tr><tr><td>val_R2_score_tev</td><td>0.0</td></tr><tr><td>val_best_loss</td><td>3.35354</td></tr><tr><td>val_best_loss_ep</td><td>0</td></tr><tr><td>val_best_metric</td><td>-4.53717</td></tr><tr><td>val_best_metric_ep</td><td>0</td></tr><tr><td>val_prim_loss</td><td>0.51819</td></tr><tr><td>val_snn_loss</td><td>2.83535</td></tr><tr><td>val_time</td><td>22:40:23</td></tr><tr><td>val_ttl_loss</td><td>3.35354</td></tr></table><br/></div></div>"
      ],
      "text/plain": [
       "<IPython.core.display.HTML object>"
      ]
     },
     "metadata": {},
     "output_type": "display_data"
    },
    {
     "data": {
      "text/html": [
       " View run <strong style=\"color:#cdcd00\">AE_240709_2235</strong> at: <a href='https://wandb.ai/kbardool/CellPainting_Profiles/runs/jzt6ecjz' target=\"_blank\">https://wandb.ai/kbardool/CellPainting_Profiles/runs/jzt6ecjz</a><br/> View project at: <a href='https://wandb.ai/kbardool/CellPainting_Profiles' target=\"_blank\">https://wandb.ai/kbardool/CellPainting_Profiles</a><br/>Synced 6 W&B file(s), 0 media file(s), 0 artifact file(s) and 0 other file(s)"
      ],
      "text/plain": [
       "<IPython.core.display.HTML object>"
      ]
     },
     "metadata": {},
     "output_type": "display_data"
    },
    {
     "data": {
      "text/html": [
       "Find logs at: <code>./wandb/run-20240709_223558-jzt6ecjz/logs</code>"
      ],
      "text/plain": [
       "<IPython.core.display.HTML object>"
      ]
     },
     "metadata": {},
     "output_type": "display_data"
    },
    {
     "data": {
      "text/html": [
       "The new W&B backend becomes opt-out in version 0.18.0; try it out with `wandb.require(\"core\")`! See https://wandb.me/wandb-core for more information."
      ],
      "text/plain": [
       "<IPython.core.display.HTML object>"
      ]
     },
     "metadata": {},
     "output_type": "display_data"
    },
    {
     "data": {
      "text/html": [
       "Successfully finished last run (ID:jzt6ecjz). Initializing new run:<br/>"
      ],
      "text/plain": [
       "<IPython.core.display.HTML object>"
      ]
     },
     "metadata": {},
     "output_type": "display_data"
    },
    {
     "data": {
      "text/html": [
       "wandb version 0.17.4 is available!  To upgrade, please run:\n",
       " $ pip install wandb --upgrade"
      ],
      "text/plain": [
       "<IPython.core.display.HTML object>"
      ]
     },
     "metadata": {},
     "output_type": "display_data"
    },
    {
     "data": {
      "text/html": [
       "Tracking run with wandb version 0.17.2"
      ],
      "text/plain": [
       "<IPython.core.display.HTML object>"
      ]
     },
     "metadata": {},
     "output_type": "display_data"
    },
    {
     "data": {
      "text/html": [
       "Run data is saved locally in <code>/home/kevin/WSL-shared/Cellpainting/pt-snnl/wandb/run-20240709_224910-jzt6ecjz</code>"
      ],
      "text/plain": [
       "<IPython.core.display.HTML object>"
      ]
     },
     "metadata": {},
     "output_type": "display_data"
    },
    {
     "data": {
      "text/html": [
       "Resuming run <strong><a href='https://wandb.ai/kbardool/CellPainting_Profiles/runs/jzt6ecjz' target=\"_blank\">AE_240709_2235</a></strong> to <a href='https://wandb.ai/kbardool/CellPainting_Profiles' target=\"_blank\">Weights & Biases</a> (<a href='https://wandb.me/run' target=\"_blank\">docs</a>)<br/>"
      ],
      "text/plain": [
       "<IPython.core.display.HTML object>"
      ]
     },
     "metadata": {},
     "output_type": "display_data"
    },
    {
     "data": {
      "text/html": [
       " View project at <a href='https://wandb.ai/kbardool/CellPainting_Profiles' target=\"_blank\">https://wandb.ai/kbardool/CellPainting_Profiles</a>"
      ],
      "text/plain": [
       "<IPython.core.display.HTML object>"
      ]
     },
     "metadata": {},
     "output_type": "display_data"
    },
    {
     "data": {
      "text/html": [
       " View run at <a href='https://wandb.ai/kbardool/CellPainting_Profiles/runs/jzt6ecjz' target=\"_blank\">https://wandb.ai/kbardool/CellPainting_Profiles/runs/jzt6ecjz</a>"
      ],
      "text/plain": [
       "<IPython.core.display.HTML object>"
      ]
     },
     "metadata": {},
     "output_type": "display_data"
    },
    {
     "name": "stderr",
     "output_type": "stream",
     "text": [
      "2024-07-09 22:49:18,040 - __main__ - INFO: -   ***** W&B Tracking Started ***** \n",
      "2024-07-09 22:49:18,041 - __main__ - INFO: -  Project Name     : CellPainting_Profiles\n",
      "2024-07-09 22:49:18,043 - __main__ - INFO: -  Experiment Id    : jzt6ecjz\n",
      "2024-07-09 22:49:18,044 - __main__ - INFO: -  Experiment Name  : AE_240709_2235\n",
      "2024-07-09 22:49:18,046 - __main__ - INFO: -  Experiment Date  : 240709_2249\n",
      "2024-07-09 22:49:18,048 - __main__ - INFO: -  Experiment Title : dcpb200_150Ltnt_512\n",
      "2024-07-09 22:49:18,048 - __main__ - INFO: -  Experiment Notes : AE snnl - DualOpt, 150 dim latent, 512 Midlayer, 200 cpb\n",
      "\u001b[34m\u001b[1mwandb\u001b[0m: \u001b[33mWARNING\u001b[0m Step only supports monotonically increasing values, use define_metric to set a custom x axis. For details see: https://wandb.me/define-metric\n",
      "\u001b[34m\u001b[1mwandb\u001b[0m: \u001b[33mWARNING\u001b[0m (User provided step: 0 is less than current step: 1. Dropping entry: {'trn_best_metric': -9.792330789134146, 'trn_best_metric_ep': 0, 'trn_best_loss': 3.6231201601028444, 'trn_best_loss_ep': 0, 'val_best_metric': -3.519995998999584, 'val_best_metric_ep': 0, 'val_best_loss': 3.3394455552101134, 'val_best_loss_ep': 0, 'val_time': '22:51:52', 'val_ttl_loss': 3.3394455552101134, 'val_prim_loss': 0.5085294902324676, 'val_snn_loss': 2.830916094779968, 'val_R2_score': -3.519995998999584, 'val_R2_score_tev': 0.0, 'trn_time': '22:51:39', 'trn_ttl_loss': 3.6231201601028444, 'trn_prim_loss': 0.7936199302971363, 'trn_snn_loss': 2.829500226378441, 'trn_R2_score': -9.792330789134146, 'trn_R2_score_tev': 0.0, 'trn_lr': 0.0001, 'temp_hist': 1.0, 'temp_grad_hist': 0.0, 'temp_lr': 0.0, '_timestamp': 1720558312.4000823}).\n"
     ]
    }
   ],
   "source": [
    "WANDB_ACTIVE = args.wandb\n",
    "\n",
    "EXP_DATE = datetime.now().strftime('%y%m%d_%H%M')\n",
    "args.exp_name = f\"AE_{EXP_DATE}\"\n",
    "args.exp_date = EXP_DATE\n",
    "logger.info(f\" Experiment Name  : {args.exp_name}\")\n",
    "logger.info(f\" Experiment Date  : {args.exp_date}\")\n",
    "\n",
    "if WANDB_ACTIVE:\n",
    "    if args.exp_id is not None:\n",
    "        print(\" *******  Resume W&B Tracking ******* \")\n",
    "        resume_wandb = True\n",
    "    else:\n",
    "        print(\" *****  Initialize W&B Tracking ***** \")\n",
    "        resume_wandb = False\n",
    "        args.exp_name = f\"AE_{EXP_DATE}\"\n",
    "        \n",
    "    wandb_run = init_wandb(args)\n",
    "    args.exp_id = wandb_run.id\n",
    "    wandb_status = \" ***** W&B Tracking Started ***** \"\n",
    "else: \n",
    "    wandb_status = \" ***** W&B Logging INACTIVE ***** \"\n",
    "    args.exp_name = 'AE_'+datetime.now().strftime('%y%m%d_%H%M')\n",
    "    args.exp_date = datetime.now().strftime('%y%m%d_%H%M')    \n",
    "\n",
    "\n",
    "logger.info(f\" {wandb_status}\")\n",
    "logger.info(f\" Project Name     : {args.project_name}\")\n",
    "logger.info(f\" Experiment Id    : {args.exp_id}\")\n",
    "logger.info(f\" Experiment Name  : {args.exp_name}\")\n",
    "logger.info(f\" Experiment Date  : {args.exp_date}\")\n",
    "logger.info(f\" Experiment Title : {args.exp_title}\")\n",
    "logger.info(f\" Experiment Notes : {args.exp_description}\")"
   ]
  },
  {
   "cell_type": "markdown",
   "id": "19b32e21-67d2-45af-a45f-841b6dca43ff",
   "metadata": {},
   "source": [
    "# Define autoencoder model"
   ]
  },
  {
   "cell_type": "markdown",
   "id": "cf383487-ecbf-49da-bb01-5a5f22932278",
   "metadata": {},
   "source": [
    "### Override arguments"
   ]
  },
  {
   "cell_type": "code",
   "execution_count": 29,
   "id": "2fdc1998-5141-40c0-82d8-b505d4f19ecd",
   "metadata": {
    "execution": {
     "iopub.execute_input": "2024-07-09T20:49:23.496144Z",
     "iopub.status.busy": "2024-07-09T20:49:23.495628Z",
     "iopub.status.idle": "2024-07-09T20:49:23.540892Z",
     "shell.execute_reply": "2024-07-09T20:49:23.540200Z",
     "shell.execute_reply.started": "2024-07-09T20:49:23.496102Z"
    }
   },
   "outputs": [],
   "source": [
    "# args.temperature   = 0.8\n",
    "# args.loss_factor   = 2.0        ## 2.0e+00\n",
    "# args.snnl_factor   = 0.5       ## 1.0e+00\n",
    "# args.learning_rate = 1.0e-03    ## 0.001\n",
    "# args.temperatureLR = 1.0e-04    ## 1e-4\n",
    "# print(f\"   Latent dim        {args.code_units}  \\t\\t  loss_factor       {args.loss_factor}  \\t\\t   snnl_factor       {args.snnl_factor}\")\n",
    "# print(f\"   temperature       {args.temperature} \\t\\t  learning_rate     {args.learning_rate} \\t\\t   temperatureLR:    {args.temperatureLR}\")"
   ]
  },
  {
   "cell_type": "code",
   "execution_count": 30,
   "id": "acb11365-5fa8-4a94-ba70-bfe9bc16df18",
   "metadata": {
    "execution": {
     "iopub.execute_input": "2024-07-09T20:49:24.585619Z",
     "iopub.status.busy": "2024-07-09T20:49:24.585107Z",
     "iopub.status.idle": "2024-07-09T20:49:24.631878Z",
     "shell.execute_reply": "2024-07-09T20:49:24.631178Z",
     "shell.execute_reply.started": "2024-07-09T20:49:24.585577Z"
    },
    "scrolled": true
   },
   "outputs": [
    {
     "data": {
      "text/plain": [
       "100"
      ]
     },
     "execution_count": 30,
     "metadata": {},
     "output_type": "execute_result"
    }
   ],
   "source": [
    "# list_namespace(args)\n",
    "args.save_every "
   ]
  },
  {
   "cell_type": "markdown",
   "id": "69b97558-4c5d-4a2d-9d1f-78d8923b1eb7",
   "metadata": {},
   "source": [
    "## Define Model"
   ]
  },
  {
   "cell_type": "code",
   "execution_count": 31,
   "id": "d7d429c0-2275-4f1a-ac88-169d8ddcf37a",
   "metadata": {
    "execution": {
     "iopub.execute_input": "2024-07-09T20:49:25.605788Z",
     "iopub.status.busy": "2024-07-09T20:49:25.605263Z",
     "iopub.status.idle": "2024-07-09T20:49:25.755008Z",
     "shell.execute_reply": "2024-07-09T20:49:25.754321Z",
     "shell.execute_reply.started": "2024-07-09T20:49:25.605744Z"
    }
   },
   "outputs": [
    {
     "name": "stderr",
     "output_type": "stream",
     "text": [
      "2024-07-09 22:49:25,650 - snnl.utils.utils - INFO: - Defining model in SNNL mode \n",
      "2024-07-09 22:49:25,652 - snnl.models.autoencoder - INFO: -     layer pair:    0  type:linear           input:   1471  output:   1024    weights: [1024, 1471]   \n",
      "2024-07-09 22:49:25,668 - snnl.models.autoencoder - INFO: -     layer pair:    1  type:relu             input:      0  output:      0    weights: [0, 0]   \n",
      "2024-07-09 22:49:25,669 - snnl.models.autoencoder - INFO: -     layer pair:    2  type:linear           input:   1024  output:    512    weights: [512, 1024]   \n",
      "2024-07-09 22:49:25,675 - snnl.models.autoencoder - INFO: -     layer pair:    3  type:relu             input:      0  output:      0    weights: [0, 0]   \n",
      "2024-07-09 22:49:25,675 - snnl.models.autoencoder - INFO: -     layer pair:    4  type:linear           input:    512  output:    150    weights: [150, 512]   \n",
      "2024-07-09 22:49:25,677 - snnl.models.autoencoder - INFO: -     layer pair:    5  type:linear           input:    150  output:    512    weights: [512, 150]   \n",
      "2024-07-09 22:49:25,679 - snnl.models.autoencoder - INFO: -     layer pair:    6  type:relu             input:      0  output:      0    weights: [0, 0]   \n",
      "2024-07-09 22:49:25,679 - snnl.models.autoencoder - INFO: -     layer pair:    7  type:linear           input:    512  output:   1024    weights: [1024, 512]   \n",
      "2024-07-09 22:49:25,685 - snnl.models.autoencoder - INFO: -     layer pair:    8  type:relu             input:      0  output:      0    weights: [0, 0]   \n",
      "2024-07-09 22:49:25,685 - snnl.models.autoencoder - INFO: -     layer pair:    9  type:linear           input:   1024  output:   1471    weights: [1471, 1024]   \n"
     ]
    },
    {
     "name": "stdout",
     "output_type": "stream",
     "text": [
      " EMBEDDING LAYER: 4\n"
     ]
    }
   ],
   "source": [
    "model = define_autoencoder_model(args,device = current_device)\n",
    "\n",
    "if WANDB_ACTIVE:\n",
    "    wandb_watch(item = model, criterion=None, log = 'all', log_freq = 1000, log_graph = False)"
   ]
  },
  {
   "cell_type": "markdown",
   "id": "789809c5-6d84-497a-b345-9f144f37c4b6",
   "metadata": {},
   "source": [
    "### Load model checkpoint "
   ]
  },
  {
   "cell_type": "code",
   "execution_count": 32,
   "id": "60584bca-6c0a-4770-8e78-7f1b5ef10e0a",
   "metadata": {
    "execution": {
     "iopub.execute_input": "2024-07-09T20:49:27.592507Z",
     "iopub.status.busy": "2024-07-09T20:49:27.591999Z",
     "iopub.status.idle": "2024-07-09T20:49:27.645947Z",
     "shell.execute_reply": "2024-07-09T20:49:27.645367Z",
     "shell.execute_reply.started": "2024-07-09T20:49:27.592466Z"
    }
   },
   "outputs": [
    {
     "name": "stderr",
     "output_type": "stream",
     "text": [
      "2024-07-09 22:49:27,641 - root - INFO: -  INITIALIZE TRAINING - Run 10 epochs: epoch 1 to 10 \n"
     ]
    }
   ],
   "source": [
    "if args.ckpt is not None:\n",
    "    model.resume_training = True\n",
    "    model , last_epoch = load_checkpoint_v4(model, args.ckpt, verbose = True )  \n",
    "    model.train()\n",
    "    model.device = current_device\n",
    "    model = model.cuda(device=current_device)\n",
    "    logging.info(f\" Loaded Model device {model.device} -  Last completed epoch : {last_epoch}\")\n",
    "    model.starting_epoch = last_epoch\n",
    "    model.ending_epoch = last_epoch + args.epochs\n",
    "    logging.info(f\" RESUME TRAINING - Run {args.epochs} epochs: epoch {model.starting_epoch+1} to {model.ending_epoch} \")\n",
    "\n",
    "    if 'gen' not in model.training_history:\n",
    "        print(f\" Define self.training_history['gen'] \")\n",
    "        model.training_history['gen'] = {'trn_best_metric' : 0, 'trn_best_metric_ep' : 0, 'trn_best_loss': np.inf, 'trn_best_loss_ep' : 0 ,\n",
    "                                        'val_best_metric' : 0, 'val_best_metric_ep' : 0, 'val_best_loss': np.inf, 'val_best_loss_ep' : 0 }        \n",
    "    \n",
    "        for key in ['trn', 'val']:\n",
    "            tmp = np.argmin(model.training_history[key][f'{key}_ttl_loss'])\n",
    "            model.training_history['gen'][f'{key}_best_loss_ep'] = tmp\n",
    "            model.training_history['gen'][f'{key}_best_loss']    = model.training_history[key][f'{key}_ttl_loss'][tmp]\n",
    "            \n",
    "            tmp1 = np.argmax(model.training_history[key][f'{key}_R2_score'])\n",
    "            model.training_history['gen'][f'{key}_best_metric_ep'] = tmp1\n",
    "            model.training_history['gen'][f'{key}_best_metric'] = model.training_history[key][f'{key}_R2_score'][tmp1]\n",
    "    \n",
    "else:\n",
    "    model.resume_training = False\n",
    "    model.starting_epoch = 0\n",
    "    model.ending_epoch = args.epochs\n",
    "    logging.info(f\" INITIALIZE TRAINING - Run {args.epochs} epochs: epoch {model.starting_epoch+1} to {model.ending_epoch} \")\n",
    "\n",
    "model.best_metric = model.training_history['gen'][f'val_best_metric']  \n",
    "model.best_epoch  = model.training_history['gen'][f'val_best_metric_ep']  "
   ]
  },
  {
   "cell_type": "code",
   "execution_count": 33,
   "id": "878ad32d-4dc3-44a8-a5b8-483fe86db9e9",
   "metadata": {
    "execution": {
     "iopub.execute_input": "2024-07-09T20:49:28.443770Z",
     "iopub.status.busy": "2024-07-09T20:49:28.443261Z",
     "iopub.status.idle": "2024-07-09T20:49:28.497970Z",
     "shell.execute_reply": "2024-07-09T20:49:28.497068Z",
     "shell.execute_reply.started": "2024-07-09T20:49:28.443728Z"
    }
   },
   "outputs": [
    {
     "name": "stdout",
     "output_type": "stream",
     "text": [
      " Model device           : cuda:0\n",
      " Model embedding_layer  : 4\n",
      " loss_factor            : 1.0\n",
      " monitor_grads_layer    : None\n",
      " Use Single Loss        : False\n",
      " Use Prim Optimizer     : True\n",
      " Use Prim Scheduler     : True\n",
      " Main Optimizer Params  : Adam (\n",
      "Parameter Group 0\n",
      "    amsgrad: False\n",
      "    betas: (0.9, 0.999)\n",
      "    capturable: False\n",
      "    differentiable: False\n",
      "    eps: 1e-08\n",
      "    foreach: None\n",
      "    fused: None\n",
      "    lr: 0.0001\n",
      "    maximize: False\n",
      "    weight_decay: 0\n",
      ")\n",
      " Scheduler              : <torch.optim.lr_scheduler.ReduceLROnPlateau object at 0x7fc191193b90> \n",
      "    factor: 0.5  \n",
      "    min_lrs: [0]  \n",
      "    patience: 50  \n",
      "    verbose: False  \n",
      "    cooldown: 10  \n",
      "    cooldown_counter: 0  \n",
      "    mode: min  \n",
      "    threshold: 1e-06  \n",
      "    threshold_mode: rel  \n",
      "    best: inf  \n",
      "    num_bad_epochs: 0  \n",
      "    mode_worse: inf  \n",
      "    eps: 1e-08  \n",
      "    last_epoch: 0  \n",
      "\n",
      " Use snnl               : True\n",
      " SNNL factor            : 0.5\n",
      " SNNL temperature       : Parameter containing:\n",
      "tensor([1.], device='cuda:0', requires_grad=True)\n",
      " SNNL Temperature       : 1.0\n",
      "\n",
      " Use Temp Optimizer     : False\n",
      " Use Temp Scheduler     : False\n",
      " \n",
      " Best training loss     : inf      - epoch: -1\n",
      " Best training metric   : -inf     - epoch: -1\n",
      " \n",
      " Best validation loss   : inf      - epoch: -1\n",
      " Best validation metric : -inf     - epoch: -1\n",
      " \n",
      " Model best val metric      : -inf     - epoch: 0\n"
     ]
    }
   ],
   "source": [
    "display_model_parameters(model)\n",
    "\n",
    "if WANDB_ACTIVE:\n",
    "    wandb.config.update(args)"
   ]
  },
  {
   "cell_type": "markdown",
   "id": "94aeaa82-14c5-465c-ae6e-bb792ba8a973",
   "metadata": {},
   "source": [
    "# Autoencoder Fit "
   ]
  },
  {
   "cell_type": "code",
   "execution_count": 34,
   "id": "20ae20b9-b471-4a4b-80fd-b47b8f2ee25f",
   "metadata": {
    "execution": {
     "iopub.execute_input": "2024-07-09T20:49:31.005657Z",
     "iopub.status.busy": "2024-07-09T20:49:31.005154Z",
     "iopub.status.idle": "2024-07-09T20:49:31.058319Z",
     "shell.execute_reply": "2024-07-09T20:49:31.057570Z",
     "shell.execute_reply.started": "2024-07-09T20:49:31.005612Z"
    }
   },
   "outputs": [
    {
     "data": {
      "text/plain": [
       "(0, 100)"
      ]
     },
     "execution_count": 34,
     "metadata": {},
     "output_type": "execute_result"
    },
    {
     "name": "stdout",
     "output_type": "stream",
     "text": [
      " 2024-07-09 22:49:31  epoch    1 of  100\n"
     ]
    }
   ],
   "source": [
    "model.starting_epoch, model.ending_epoch = 0, 100\n",
    "model.starting_epoch, model.ending_epoch\n",
    "\n",
    "print(f\" {datetime.now().strftime('%Y-%m-%d %H:%M:%S')}  epoch {model.starting_epoch+1:4d} of {model.ending_epoch:4d}\")"
   ]
  },
  {
   "cell_type": "code",
   "execution_count": null,
   "id": "90c74527-0c16-477c-b53a-9fcbdbb5e68b",
   "metadata": {
    "execution": {
     "iopub.execute_input": "2024-07-09T20:49:31.554619Z",
     "iopub.status.busy": "2024-07-09T20:49:31.554074Z"
    },
    "scrolled": true
   },
   "outputs": [
    {
     "name": "stdout",
     "output_type": "stream",
     "text": [
      " 2024-07-09 22:49:31  epoch    1 of  100\n"
     ]
    },
    {
     "name": "stderr",
     "output_type": "stream",
     "text": [
      "2024-07-09 22:51:52,491 - snnl.utils.utils - INFO: -  Model exported to ckpts/AE_snnl_dcpb200_150Ltnt_512_240709_2249_BEST.pt - epoch: 1\n"
     ]
    },
    {
     "name": "stdout",
     "output_type": "stream",
     "text": [
      "  time   ep / eps |  Trn_loss   Primary      SNNL  |   temp*         grad    |   R2      BestEp         |  Vld_loss   Primary      SNNL  |   R2       BestEp          |   LR        temp LR    |\n",
      "------------------+--------------------------------+-------------------------+--------------------------+--------------------------------+----------------------------|------------------------|\n",
      "22:51:52  1 /100  |   3.6231     0.7936     2.8295 |   1.000000   0.0000e+00 |  -9.7923     1           |   3.3394     0.5085     2.8309 |  -3.5200     1             |  1.000e-04   0.000e+00 |\n",
      "22:54:13  2 /100  |   3.2724     0.4380     2.8345 |   1.000000   0.0000e+00 |  -2.4885     2           |   3.2103     0.3715     2.8387 |  -1.1999     2             |  1.000e-04   0.000e+00 |\n"
     ]
    },
    {
     "name": "stderr",
     "output_type": "stream",
     "text": [
      "2024-07-09 22:54:13,421 - snnl.utils.utils - INFO: -  Model exported to ckpts/AE_snnl_dcpb200_150Ltnt_512_240709_2249_BEST.pt - epoch: 2\n"
     ]
    },
    {
     "name": "stdout",
     "output_type": "stream",
     "text": [
      "22:56:34  3 /100  |   3.1823     0.3420     2.8404 |   1.000000   0.0000e+00 |  -0.8754     3           |   3.1524     0.3104     2.8421 |  -0.5394     3             |  1.000e-04   0.000e+00 |\n"
     ]
    },
    {
     "name": "stderr",
     "output_type": "stream",
     "text": [
      "2024-07-09 22:56:34,401 - snnl.utils.utils - INFO: -  Model exported to ckpts/AE_snnl_dcpb200_150Ltnt_512_240709_2249_BEST.pt - epoch: 3\n"
     ]
    },
    {
     "name": "stdout",
     "output_type": "stream",
     "text": [
      "22:58:55  4 /100  |   3.1368     0.2941     2.8427 |   1.000000   0.0000e+00 |  -0.2859     4           |   3.1176     0.2741     2.8435 |  -0.0260     4             |  1.000e-04   0.000e+00 |\n"
     ]
    },
    {
     "name": "stderr",
     "output_type": "stream",
     "text": [
      "2024-07-09 22:58:55,805 - snnl.utils.utils - INFO: -  Model exported to ckpts/AE_snnl_dcpb200_150Ltnt_512_240709_2249_BEST.pt - epoch: 4\n"
     ]
    },
    {
     "name": "stdout",
     "output_type": "stream",
     "text": [
      "23:01:18  5 /100  |   3.1074     0.2636     2.8438 |   1.000000   0.0000e+00 |  -0.0466     5           |   3.0942     0.2499     2.8443 |   0.0839     5             |  1.000e-04   0.000e+00 |\n"
     ]
    },
    {
     "name": "stderr",
     "output_type": "stream",
     "text": [
      "2024-07-09 23:01:18,725 - snnl.utils.utils - INFO: -  Model exported to ckpts/AE_snnl_dcpb200_150Ltnt_512_240709_2249_BEST.pt - epoch: 5\n"
     ]
    },
    {
     "name": "stdout",
     "output_type": "stream",
     "text": [
      "23:03:38  6 /100  |   3.0871     0.2427     2.8444 |   1.000000   0.0000e+00 |   0.0923     6           |   3.0774     0.2327     2.8447 |   0.2314     6             |  1.000e-04   0.000e+00 |\n"
     ]
    },
    {
     "name": "stderr",
     "output_type": "stream",
     "text": [
      "2024-07-09 23:03:38,709 - snnl.utils.utils - INFO: -  Model exported to ckpts/AE_snnl_dcpb200_150Ltnt_512_240709_2249_BEST.pt - epoch: 6\n"
     ]
    },
    {
     "name": "stdout",
     "output_type": "stream",
     "text": [
      "23:06:00  7 /100  |   3.0724     0.2276     2.8448 |   1.000000   0.0000e+00 |   0.1985     7           |   3.0649     0.2198     2.8451 |   0.2972     7             |  1.000e-04   0.000e+00 |\n"
     ]
    },
    {
     "name": "stderr",
     "output_type": "stream",
     "text": [
      "2024-07-09 23:06:00,996 - snnl.utils.utils - INFO: -  Model exported to ckpts/AE_snnl_dcpb200_150Ltnt_512_240709_2249_BEST.pt - epoch: 7\n"
     ]
    },
    {
     "name": "stdout",
     "output_type": "stream",
     "text": [
      "23:08:22  8 /100  |   3.0613     0.2162     2.8451 |   1.000000   0.0000e+00 |   0.2576     8           |   3.0554     0.2101     2.8453 |   0.2156     7             |  1.000e-04   0.000e+00 |\n",
      "23:10:46  9 /100  |   3.0525     0.2072     2.8453 |   1.000000   0.0000e+00 |   0.3095     9           |   3.0476     0.2021     2.8455 |   0.1844     7             |  1.000e-04   0.000e+00 |\n",
      "23:13:09 10 /100  |   3.0453     0.1999     2.8454 |   1.000000   0.0000e+00 |   0.3522    10           |   3.0414     0.1957     2.8456 |   0.2485     7             |  1.000e-04   0.000e+00 |\n",
      "23:15:33 11 /100  |   3.0394     0.1938     2.8456 |   1.000000   0.0000e+00 |   0.3903    11           |   3.0356     0.1899     2.8457 |   0.2999    11             |  1.000e-04   0.000e+00 |\n"
     ]
    },
    {
     "name": "stderr",
     "output_type": "stream",
     "text": [
      "2024-07-09 23:15:33,965 - snnl.utils.utils - INFO: -  Model exported to ckpts/AE_snnl_dcpb200_150Ltnt_512_240709_2249_BEST.pt - epoch: 11\n"
     ]
    },
    {
     "name": "stdout",
     "output_type": "stream",
     "text": [
      "23:17:59 12 /100  |   3.0341     0.1884     2.8457 |   1.000000   0.0000e+00 |   0.3994    12           |   3.0307     0.1849     2.8458 |   0.2817    11             |  1.000e-04   0.000e+00 |\n",
      "23:20:23 13 /100  |   3.0291     0.1833     2.8458 |   1.000000   0.0000e+00 |   0.4178    13           |   3.0265     0.1806     2.8459 |   0.3652    13             |  1.000e-04   0.000e+00 |\n"
     ]
    },
    {
     "name": "stderr",
     "output_type": "stream",
     "text": [
      "2024-07-09 23:20:23,862 - snnl.utils.utils - INFO: -  Model exported to ckpts/AE_snnl_dcpb200_150Ltnt_512_240709_2249_BEST.pt - epoch: 13\n"
     ]
    },
    {
     "name": "stdout",
     "output_type": "stream",
     "text": [
      "23:22:45 14 /100  |   3.0250     0.1792     2.8459 |   1.000000   0.0000e+00 |   0.4242    14           |   3.0226     0.1766     2.8460 |   0.3856    14             |  1.000e-04   0.000e+00 |\n"
     ]
    },
    {
     "name": "stderr",
     "output_type": "stream",
     "text": [
      "2024-07-09 23:22:45,717 - snnl.utils.utils - INFO: -  Model exported to ckpts/AE_snnl_dcpb200_150Ltnt_512_240709_2249_BEST.pt - epoch: 14\n"
     ]
    },
    {
     "name": "stdout",
     "output_type": "stream",
     "text": [
      "23:25:09 15 /100  |   3.0214     0.1755     2.8459 |   1.000000   0.0000e+00 |   0.4379    15           |   3.0195     0.1734     2.8461 |   0.3870    15             |  1.000e-04   0.000e+00 |\n"
     ]
    },
    {
     "name": "stderr",
     "output_type": "stream",
     "text": [
      "2024-07-09 23:25:10,069 - snnl.utils.utils - INFO: -  Model exported to ckpts/AE_snnl_dcpb200_150Ltnt_512_240709_2249_BEST.pt - epoch: 15\n"
     ]
    },
    {
     "name": "stdout",
     "output_type": "stream",
     "text": [
      "23:27:32 16 /100  |   3.0182     0.1722     2.8460 |   1.000000   0.0000e+00 |   0.4413    16           |   3.0165     0.1704     2.8461 |   0.4344    16             |  1.000e-04   0.000e+00 |\n"
     ]
    },
    {
     "name": "stderr",
     "output_type": "stream",
     "text": [
      "2024-07-09 23:27:33,146 - snnl.utils.utils - INFO: -  Model exported to ckpts/AE_snnl_dcpb200_150Ltnt_512_240709_2249_BEST.pt - epoch: 16\n"
     ]
    },
    {
     "name": "stdout",
     "output_type": "stream",
     "text": [
      "23:29:55 17 /100  |   3.0151     0.1691     2.8460 |   1.000000   0.0000e+00 |   0.4553    17           |   3.0137     0.1676     2.8461 |   0.4314    16             |  1.000e-04   0.000e+00 |\n",
      "23:32:17 18 /100  |   3.0123     0.1662     2.8461 |   1.000000   0.0000e+00 |   0.4712    18           |   3.0111     0.1649     2.8462 |   0.5095    18             |  1.000e-04   0.000e+00 |\n"
     ]
    },
    {
     "name": "stderr",
     "output_type": "stream",
     "text": [
      "2024-07-09 23:32:17,681 - snnl.utils.utils - INFO: -  Model exported to ckpts/AE_snnl_dcpb200_150Ltnt_512_240709_2249_BEST.pt - epoch: 18\n"
     ]
    },
    {
     "name": "stdout",
     "output_type": "stream",
     "text": [
      "23:34:43 19 /100  |   3.0098     0.1637     2.8461 |   1.000000   0.0000e+00 |   0.4863    19           |   3.0091     0.1629     2.8462 |   0.4938    18             |  1.000e-04   0.000e+00 |\n",
      "23:37:08 20 /100  |   3.0078     0.1617     2.8461 |   1.000000   0.0000e+00 |   0.5054    20           |   3.0073     0.1610     2.8463 |   0.5186    20             |  1.000e-04   0.000e+00 |\n"
     ]
    },
    {
     "name": "stderr",
     "output_type": "stream",
     "text": [
      "2024-07-09 23:37:08,774 - snnl.utils.utils - INFO: -  Model exported to ckpts/AE_snnl_dcpb200_150Ltnt_512_240709_2249_BEST.pt - epoch: 20\n"
     ]
    },
    {
     "name": "stdout",
     "output_type": "stream",
     "text": [
      "23:39:32 21 /100  |   3.0058     0.1597     2.8462 |   1.000000   0.0000e+00 |   0.5267    21           |   3.0054     0.1592     2.8463 |   0.5572    21             |  1.000e-04   0.000e+00 |\n"
     ]
    },
    {
     "name": "stderr",
     "output_type": "stream",
     "text": [
      "2024-07-09 23:39:33,298 - snnl.utils.utils - INFO: -  Model exported to ckpts/AE_snnl_dcpb200_150Ltnt_512_240709_2249_BEST.pt - epoch: 21\n"
     ]
    },
    {
     "name": "stdout",
     "output_type": "stream",
     "text": [
      "23:41:56 22 /100  |   3.0039     0.1577     2.8462 |   1.000000   0.0000e+00 |   0.5538    22           |   3.0042     0.1579     2.8463 |   0.5345    21             |  1.000e-04   0.000e+00 |\n",
      "23:44:19 23 /100  |   3.0023     0.1561     2.8462 |   1.000000   0.0000e+00 |   0.5726    23           |   3.0027     0.1564     2.8463 |   0.5901    23             |  1.000e-04   0.000e+00 |\n"
     ]
    },
    {
     "name": "stderr",
     "output_type": "stream",
     "text": [
      "2024-07-09 23:44:19,861 - snnl.utils.utils - INFO: -  Model exported to ckpts/AE_snnl_dcpb200_150Ltnt_512_240709_2249_BEST.pt - epoch: 23\n"
     ]
    },
    {
     "name": "stdout",
     "output_type": "stream",
     "text": [
      "23:46:41 24 /100  |   3.0008     0.1546     2.8462 |   1.000000   0.0000e+00 |   0.5915    24           |   3.0011     0.1547     2.8463 |   0.6197    24             |  1.000e-04   0.000e+00 |\n"
     ]
    },
    {
     "name": "stderr",
     "output_type": "stream",
     "text": [
      "2024-07-09 23:46:42,011 - snnl.utils.utils - INFO: -  Model exported to ckpts/AE_snnl_dcpb200_150Ltnt_512_240709_2249_BEST.pt - epoch: 24\n"
     ]
    },
    {
     "name": "stdout",
     "output_type": "stream",
     "text": [
      "23:49:05 25 /100  |   2.9998     0.1536     2.8462 |   1.000000   0.0000e+00 |   0.6039    25           |   3.0003     0.1540     2.8463 |   0.6277    25             |  1.000e-04   0.000e+00 |\n"
     ]
    },
    {
     "name": "stderr",
     "output_type": "stream",
     "text": [
      "2024-07-09 23:49:05,927 - snnl.utils.utils - INFO: -  Model exported to ckpts/AE_snnl_dcpb200_150Ltnt_512_240709_2249_BEST.pt - epoch: 25\n"
     ]
    }
   ],
   "source": [
    "print(f\" {datetime.now().strftime('%Y-%m-%d %H:%M:%S')}  epoch {model.starting_epoch+1:4d} of {model.ending_epoch:4d}\")\n",
    "header = True\n",
    "\n",
    "for epoch in range(model.starting_epoch, model.ending_epoch):\n",
    "    train_loss = model.epoch_train(train_loader, epoch, DEBUG_COUNT = 3)\n",
    "    val_loss = model.epoch_validate(val_loader, epoch)\n",
    "    \n",
    "    display_epoch_metrics(model, epoch, model.ending_epoch, header)\n",
    "    header = False\n",
    "    model.scheduling_step(val_loss)\n",
    "    \n",
    "    if WANDB_ACTIVE:\n",
    "        epoch_metrics = {x:y     for x,y in model.training_history['gen'].items()} | \\\n",
    "                        {x:y[-1] for x,y in model.training_history['val'].items()} | \\\n",
    "                        {x:y[-1] for x,y in model.training_history['trn'].items()} \n",
    "        wandb_log_metrics( data = epoch_metrics, step = epoch)\n",
    "    \n",
    "    if model.new_val_best:\n",
    "        if WANDB_ACTIVE:\n",
    "            wandb.unwatch(model)\n",
    "            save_checkpoint_v4(epoch+1, model, args, update_best=True)  \n",
    "            wandb_watch(item = model, criterion=None, log = 'all', log_freq = 1000, log_graph = False)\n",
    "        else:\n",
    "            save_checkpoint_v4(epoch+1, model, args, update_best=True)  \n",
    "        \n",
    "    if (epoch + 1) % args.save_every == 0:\n",
    "        if WANDB_ACTIVE:\n",
    "            wandb.unwatch(model)\n",
    "            save_checkpoint_v4(epoch+1, model, args)    \n",
    "            wandb_watch(item = model, criterion=None, log = 'all', log_freq = 1000, log_graph = False)\n",
    "        else:\n",
    "            save_checkpoint_v4(epoch+1, model, args)    \n",
    "            \n",
    "print(f\"Last Epoch {epoch+1}\")\n",
    "if WANDB_ACTIVE:\n",
    "    wandb.unwatch(model)\n",
    "    save_checkpoint_v4(epoch+1, model, args, update_latest=True)          \n",
    "    wandb_watch(item = model, criterion=None, log = 'all', log_freq = 1000, log_graph = False)\n",
    "else:\n",
    "    save_checkpoint_v4(epoch+1, model, args)    \n"
   ]
  },
  {
   "cell_type": "markdown",
   "id": "0db40148-a95e-4895-8868-bd27050a3c9f",
   "metadata": {},
   "source": [
    "### Close WandB Logging"
   ]
  },
  {
   "cell_type": "code",
   "execution_count": 42,
   "id": "1251c457-bbae-4bfc-a786-92fbc8d2ddb6",
   "metadata": {
    "execution": {
     "iopub.execute_input": "2024-07-09T20:34:54.539042Z",
     "iopub.status.busy": "2024-07-09T20:34:54.538425Z",
     "iopub.status.idle": "2024-07-09T20:35:06.120107Z",
     "shell.execute_reply": "2024-07-09T20:35:06.118903Z",
     "shell.execute_reply.started": "2024-07-09T20:34:54.538988Z"
    },
    "scrolled": true
   },
   "outputs": [
    {
     "data": {
      "text/html": [
       "<style>\n",
       "    table.wandb td:nth-child(1) { padding: 0 10px; text-align: left ; width: auto;} td:nth-child(2) {text-align: left ; width: 100%}\n",
       "    .wandb-row { display: flex; flex-direction: row; flex-wrap: wrap; justify-content: flex-start; width: 100% }\n",
       "    .wandb-col { display: flex; flex-direction: column; flex-basis: 100%; flex: 1; padding: 10px; }\n",
       "    </style>\n",
       "<div class=\"wandb-row\"><div class=\"wandb-col\"><h3>Run history:</h3><br/><table class=\"wandb\"><tr><td>temp_grad_hist</td><td>▁▁▁▁▁▁▁▁▁▁▁▁▁▁▁▁▁▁▁▁▁▁▁▁▁▁▁▁▁▁▁▁▁▁▁▁▁▁▁▁</td></tr><tr><td>temp_hist</td><td>███████▅▄▃▃▃▂▂▂▂▂▂▂▂▂▂▂▂▂▁▁▁▁▁▁▁▁▁▁▁▁▁▁▁</td></tr><tr><td>temp_lr</td><td>▁▁▁▁▁▁▁▁▁▁▁▁▁▁▁▁▁▁▁▁▁▁▁▁▁▁▁▁▁▁▁▁▁▁▁▁▁▁▁▁</td></tr><tr><td>trn_R2_score</td><td>▁▆▇▇██▇▇▇▇▇█████████████████████████████</td></tr><tr><td>trn_R2_score_tev</td><td>▁▁▁▁▁▁▁▁▁▁▁▁▁▁▁▁▁▁▁▁▁▁▁▁▁▁▁▁▁▁▁▁▁▁▁▁▁▁▁▁</td></tr><tr><td>trn_best_loss</td><td>█▅▄▄▄▃▃▃▃▃▃▃▃▃▃▃▃▂▂▂▂▂▂▂▂▂▂▂▂▂▂▂▁▁▁▁▁▁▁▁</td></tr><tr><td>trn_best_loss_ep</td><td>▁▁▁▁▂▂▂▂▂▃▃▃▃▃▃▄▄▄▄▄▅▅▅▅▅▅▆▆▆▆▆▇▇▇▇▇▇███</td></tr><tr><td>trn_best_metric</td><td>▁▆▇▇████████████████████████████████████</td></tr><tr><td>trn_best_metric_ep</td><td>▁▁▁▁▂▂▂▂▂▂▂▂▂▃▃▄▄▄▄▄▅▅▅▅▅▅▆▆▆▆▆▆▇▇▇▇▇███</td></tr><tr><td>trn_lr</td><td>▁▁▁▁▁▁▁▁▁▁▁▁▁▁▁▁▁▁▁▁▁▁▁▁▁▁▁▁▁▁▁▁▁▁▁▁▁▁▁▁</td></tr><tr><td>trn_prim_loss</td><td>█▄▃▃▃▃▂▂▂▂▂▂▂▂▂▂▂▂▂▂▂▁▁▁▁▁▁▁▁▁▁▁▁▁▁▁▁▁▁▁</td></tr><tr><td>trn_snn_loss</td><td>▇███████▇▇▇▇▇▇▇▆▆▆▆▆▅▅▅▅▅▄▄▄▄▄▃▃▃▂▂▂▂▂▁▁</td></tr><tr><td>trn_ttl_loss</td><td>█▅▄▄▄▃▃▃▃▃▃▃▃▃▃▃▃▂▂▂▂▂▂▂▂▂▂▂▂▂▂▂▁▁▁▁▁▁▁▁</td></tr><tr><td>val_R2_score</td><td>▁▅▅▆▆▆▆▆▇▇▇▇▇▇▇▇▇▇▇▇▇█▇▇████████████████</td></tr><tr><td>val_R2_score_tev</td><td>▁▁▁▁▁▁▁▁▁▁▁▁▁▁▁▁▁▁▁▁▁▁▁▁▁▁▁▁▁▁▁▁▁▁▁▁▁▁▁▁</td></tr><tr><td>val_best_loss</td><td>█▅▄▄▄▄▃▃▃▃▃▃▃▃▃▃▃▃▂▂▂▂▂▂▂▂▂▂▂▂▂▂▁▁▁▁▁▁▁▁</td></tr><tr><td>val_best_loss_ep</td><td>▁▁▁▁▂▂▂▂▂▃▃▃▃▃▃▄▄▄▄▄▅▅▅▅▅▅▆▆▆▆▆▇▇▇▇▇▇███</td></tr><tr><td>val_best_metric</td><td>▁▅▆▆▆▇▇▇▇▇▇▇▇▇▇▇▇▇▇▇▇███████████████████</td></tr><tr><td>val_best_metric_ep</td><td>▁▁▁▁▂▂▂▂▂▃▃▃▃▃▃▄▄▄▄▄▄▅▅▅▅▅▅▅▅▅▆▆▆▇▇▇▇▇▇█</td></tr><tr><td>val_prim_loss</td><td>█▅▃▃▃▃▂▂▂▂▂▂▂▂▂▂▂▂▂▂▂▁▁▁▁▁▁▁▁▁▁▁▁▁▁▁▁▁▁▁</td></tr><tr><td>val_snn_loss</td><td>████████▇▇▇▇▇▇▇▆▆▆▆▆▅▅▅▅▅▄▄▄▄▃▃▃▃▂▂▂▂▁▁▁</td></tr><tr><td>val_ttl_loss</td><td>█▅▄▄▄▄▃▃▃▃▃▃▃▃▃▃▃▂▂▂▂▂▂▂▂▂▂▂▂▂▂▂▁▁▁▁▁▁▁▁</td></tr></table><br/></div><div class=\"wandb-col\"><h3>Run summary:</h3><br/><table class=\"wandb\"><tr><td>temp_grad_hist</td><td>0.0</td></tr><tr><td>temp_hist</td><td>0.17027</td></tr><tr><td>temp_lr</td><td>0.0</td></tr><tr><td>trn_R2_score</td><td>0.77354</td></tr><tr><td>trn_R2_score_tev</td><td>0.0</td></tr><tr><td>trn_best_loss</td><td>2.89471</td></tr><tr><td>trn_best_loss_ep</td><td>399</td></tr><tr><td>trn_best_metric</td><td>0.77354</td></tr><tr><td>trn_best_metric_ep</td><td>399</td></tr><tr><td>trn_lr</td><td>0.0001</td></tr><tr><td>trn_prim_loss</td><td>0.08697</td></tr><tr><td>trn_snn_loss</td><td>2.80773</td></tr><tr><td>trn_time</td><td>21:44:54</td></tr><tr><td>trn_ttl_loss</td><td>2.89471</td></tr><tr><td>val_R2_score</td><td>0.77556</td></tr><tr><td>val_R2_score_tev</td><td>0.0</td></tr><tr><td>val_best_loss</td><td>2.90336</td></tr><tr><td>val_best_loss_ep</td><td>398</td></tr><tr><td>val_best_metric</td><td>0.77556</td></tr><tr><td>val_best_metric_ep</td><td>399</td></tr><tr><td>val_prim_loss</td><td>0.09533</td></tr><tr><td>val_snn_loss</td><td>2.80871</td></tr><tr><td>val_time</td><td>21:45:07</td></tr><tr><td>val_ttl_loss</td><td>2.90403</td></tr></table><br/></div></div>"
      ],
      "text/plain": [
       "<IPython.core.display.HTML object>"
      ]
     },
     "metadata": {},
     "output_type": "display_data"
    },
    {
     "data": {
      "text/html": [
       " View run <strong style=\"color:#cdcd00\">AE_240707_1728</strong> at: <a href='https://wandb.ai/kbardool/CellPainting_Profiles/runs/140zoe58' target=\"_blank\">https://wandb.ai/kbardool/CellPainting_Profiles/runs/140zoe58</a><br/> View project at: <a href='https://wandb.ai/kbardool/CellPainting_Profiles' target=\"_blank\">https://wandb.ai/kbardool/CellPainting_Profiles</a><br/>Synced 6 W&B file(s), 0 media file(s), 2 artifact file(s) and 0 other file(s)"
      ],
      "text/plain": [
       "<IPython.core.display.HTML object>"
      ]
     },
     "metadata": {},
     "output_type": "display_data"
    },
    {
     "data": {
      "text/html": [
       "Find logs at: <code>./wandb/run-20240707_172805-140zoe58/logs</code>"
      ],
      "text/plain": [
       "<IPython.core.display.HTML object>"
      ]
     },
     "metadata": {},
     "output_type": "display_data"
    },
    {
     "data": {
      "text/html": [
       "The new W&B backend becomes opt-out in version 0.18.0; try it out with `wandb.require(\"core\")`! See https://wandb.me/wandb-core for more information."
      ],
      "text/plain": [
       "<IPython.core.display.HTML object>"
      ]
     },
     "metadata": {},
     "output_type": "display_data"
    }
   ],
   "source": [
    "if WANDB_ACTIVE:\n",
    "    wandb_run.finish()\n",
    "    WANDB_ACTIVE = False"
   ]
  },
  {
   "cell_type": "code",
   "execution_count": 43,
   "id": "0927be49-85f5-4c34-a8e1-717016168df1",
   "metadata": {
    "execution": {
     "iopub.execute_input": "2024-07-09T20:35:06.122365Z",
     "iopub.status.busy": "2024-07-09T20:35:06.121943Z",
     "iopub.status.idle": "2024-07-09T20:35:06.170107Z",
     "shell.execute_reply": "2024-07-09T20:35:06.169518Z",
     "shell.execute_reply.started": "2024-07-09T20:35:06.122325Z"
    }
   },
   "outputs": [
    {
     "data": {
      "text/plain": [
       "(399, 300, 400)"
      ]
     },
     "execution_count": 43,
     "metadata": {},
     "output_type": "execute_result"
    }
   ],
   "source": [
    "epoch, model.starting_epoch, model.ending_epoch"
   ]
  },
  {
   "cell_type": "code",
   "execution_count": null,
   "id": "c990cd60-d495-4961-8ad4-5b14daab3828",
   "metadata": {},
   "outputs": [],
   "source": []
  },
  {
   "cell_type": "code",
   "execution_count": 34,
   "id": "45810b9a-9d1e-4913-bc64-71c12181b3b6",
   "metadata": {
    "execution": {
     "iopub.execute_input": "2024-07-09T15:49:31.524611Z",
     "iopub.status.busy": "2024-07-09T15:49:31.523004Z",
     "iopub.status.idle": "2024-07-09T15:49:31.615232Z",
     "shell.execute_reply": "2024-07-09T15:49:31.614369Z",
     "shell.execute_reply.started": "2024-07-09T15:49:31.524553Z"
    },
    "scrolled": true
   },
   "outputs": [
    {
     "name": "stdout",
     "output_type": "stream",
     "text": [
      "  time   ep / eps |  Trn_loss   Primary      SNNL  |   temp*         grad    |   R2      BestEp         |  Vld_loss   Primary      SNNL  |   R2       BestEp          |   LR        temp LR    |\n",
      "------------------+--------------------------------+-------------------------+--------------------------+--------------------------------+----------------------------|------------------------|\n",
      "17:30:36  1 /300  |   3.6449     0.8119     2.8330 |   1.000000   0.0000e+00 | -11.8533   295           |   3.3535     0.5182     2.8353 |  -4.5372   300             |  1.000e-04   0.000e+00 |\n",
      "17:32:43  2 /300  |   3.2799     0.4421     2.8378 |   1.000000   0.0000e+00 |  -3.1303   295           |   3.2152     0.3743     2.8409 |  -1.8841   300             |  1.000e-04   0.000e+00 |\n",
      "17:34:50  3 /300  |   3.1859     0.3438     2.8421 |   1.000000   0.0000e+00 |  -1.3209   295           |   3.1548     0.3114     2.8434 |  -0.7997   300             |  1.000e-04   0.000e+00 |\n",
      "17:36:58  4 /300  |   3.1386     0.2948     2.8438 |   1.000000   0.0000e+00 |  -0.5227   295           |   3.1196     0.2752     2.8444 |  -0.3165   300             |  1.000e-04   0.000e+00 |\n",
      "17:39:05  5 /300  |   3.1096     0.2650     2.8446 |   1.000000   0.0000e+00 |  -0.1958   295           |   3.0965     0.2516     2.8450 |  -0.2437   300             |  1.000e-04   0.000e+00 |\n",
      "17:41:13  6 /300  |   3.0899     0.2449     2.8451 |   1.000000   0.0000e+00 |  -0.0371   295           |   3.0803     0.2349     2.8454 |  -0.0510   300             |  1.000e-04   0.000e+00 |\n",
      "17:43:19  7 /300  |   3.0754     0.2299     2.8454 |   1.000000   0.0000e+00 |   0.0505   295           |   3.0680     0.2223     2.8457 |   0.0766   300             |  1.000e-04   0.000e+00 |\n",
      "17:45:27  8 /300  |   3.0642     0.2185     2.8457 |   1.000000   0.0000e+00 |   0.1099   295           |   3.0581     0.2123     2.8459 |   0.0986   300             |  1.000e-04   0.000e+00 |\n",
      "17:47:33  9 /300  |   3.0553     0.2093     2.8459 |   1.000000   0.0000e+00 |   0.1707   295           |   3.0504     0.2044     2.8461 |   0.1784   300             |  1.000e-04   0.000e+00 |\n",
      "17:49:42 10 /300  |   3.0483     0.2023     2.8461 |   1.000000   0.0000e+00 |   0.2267   295           |   3.0434     0.1972     2.8462 |   0.2517   300             |  1.000e-04   0.000e+00 |\n",
      "18:43:24 11 /300  |   3.0413     0.1951     2.8462 |   1.000000   0.0000e+00 |   0.2883   295           |   3.0376     0.1913     2.8463 |   0.2665   300             |  1.000e-04   0.000e+00 |\n",
      "18:45:33 12 /300  |   3.0357     0.1893     2.8463 |   1.000000   0.0000e+00 |   0.3389   295           |   3.0326     0.1861     2.8465 |   0.2998   300             |  1.000e-04   0.000e+00 |\n",
      "18:47:41 13 /300  |   3.0307     0.1843     2.8464 |   1.000000   0.0000e+00 |   0.3776   295           |   3.0282     0.1817     2.8466 |   0.3095   300             |  1.000e-04   0.000e+00 |\n",
      "18:49:48 14 /300  |   3.0264     0.1799     2.8465 |   1.000000   0.0000e+00 |   0.4086   295           |   3.0241     0.1774     2.8466 |   0.3397   300             |  1.000e-04   0.000e+00 |\n",
      "18:51:55 15 /300  |   3.0227     0.1761     2.8466 |   1.000000   0.0000e+00 |   0.4284   295           |   3.0204     0.1737     2.8467 |   0.3534   300             |  1.000e-04   0.000e+00 |\n",
      "18:54:02 16 /300  |   3.0191     0.1724     2.8466 |   1.000000   0.0000e+00 |   0.4549   295           |   3.0173     0.1706     2.8467 |   0.4001   300             |  1.000e-04   0.000e+00 |\n",
      "18:56:08 17 /300  |   3.0161     0.1694     2.8467 |   1.000000   0.0000e+00 |   0.4651   295           |   3.0146     0.1678     2.8468 |   0.3302   300             |  1.000e-04   0.000e+00 |\n",
      "18:58:15 18 /300  |   3.0131     0.1663     2.8467 |   1.000000   0.0000e+00 |   0.4795   295           |   3.0120     0.1652     2.8468 |   0.4048   300             |  1.000e-04   0.000e+00 |\n",
      "19:00:23 19 /300  |   3.0104     0.1636     2.8468 |   1.000000   0.0000e+00 |   0.4933   295           |   3.0097     0.1628     2.8469 |   0.3708   300             |  1.000e-04   0.000e+00 |\n",
      "19:02:30 20 /300  |   3.0080     0.1611     2.8468 |   1.000000   0.0000e+00 |   0.5059   295           |   3.0075     0.1606     2.8469 |   0.2926   300             |  1.000e-04   0.000e+00 |\n",
      "19:04:38 21 /300  |   3.0058     0.1590     2.8469 |   1.000000   0.0000e+00 |   0.5075   295           |   3.0058     0.1588     2.8470 |   0.3629   300             |  1.000e-04   0.000e+00 |\n",
      "19:06:44 22 /300  |   3.0040     0.1571     2.8469 |   1.000000   0.0000e+00 |   0.5139   295           |   3.0040     0.1570     2.8470 |   0.3307   300             |  1.000e-04   0.000e+00 |\n",
      "19:08:52 23 /300  |   3.0021     0.1551     2.8469 |   1.000000   0.0000e+00 |   0.5176   295           |   3.0021     0.1550     2.8470 |   0.3737   300             |  1.000e-04   0.000e+00 |\n",
      "19:10:57 24 /300  |   3.0002     0.1533     2.8470 |   1.000000   0.0000e+00 |   0.5133   295           |   3.0003     0.1533     2.8470 |   0.3817   300             |  1.000e-04   0.000e+00 |\n",
      "19:13:04 25 /300  |   2.9986     0.1516     2.8470 |   1.000000   0.0000e+00 |   0.5203   295           |   2.9992     0.1522     2.8471 |   0.3660   300             |  1.000e-04   0.000e+00 |\n",
      "19:15:11 26 /300  |   2.9971     0.1501     2.8470 |   1.000000   0.0000e+00 |   0.5238   295           |   2.9977     0.1506     2.8471 |   0.3675   300             |  1.000e-04   0.000e+00 |\n",
      "19:17:18 27 /300  |   2.9957     0.1487     2.8470 |   1.000000   0.0000e+00 |   0.5316   295           |   2.9966     0.1496     2.8471 |   0.3186   300             |  1.000e-04   0.000e+00 |\n",
      "19:19:25 28 /300  |   2.9944     0.1474     2.8470 |   1.000000   0.0000e+00 |   0.5458   295           |   2.9951     0.1480     2.8471 |   0.4015   300             |  1.000e-04   0.000e+00 |\n",
      "19:21:31 29 /300  |   2.9929     0.1459     2.8471 |   1.000000   0.0000e+00 |   0.5640   295           |   2.9939     0.1468     2.8471 |   0.3617   300             |  1.000e-04   0.000e+00 |\n",
      "19:23:37 30 /300  |   2.9917     0.1447     2.8471 |   1.000000   0.0000e+00 |   0.5807   295           |   2.9930     0.1459     2.8471 |   0.3819   300             |  1.000e-04   0.000e+00 |\n",
      "19:25:43 31 /300  |   2.9908     0.1437     2.8471 |   1.000000   0.0000e+00 |   0.5997   295           |   2.9922     0.1450     2.8471 |   0.4252   300             |  1.000e-04   0.000e+00 |\n",
      "19:27:50 32 /300  |   2.9901     0.1430     2.8471 |   1.000000   0.0000e+00 |   0.6109   295           |   2.9914     0.1443     2.8471 |   0.4332   300             |  1.000e-04   0.000e+00 |\n",
      "19:29:58 33 /300  |   2.9890     0.1419     2.8470 |   1.000000   0.0000e+00 |   0.6236   295           |   2.9903     0.1432     2.8471 |   0.4305   300             |  1.000e-04   0.000e+00 |\n",
      "19:32:05 34 /300  |   2.9879     0.1409     2.8471 |   1.000000   0.0000e+00 |   0.6371   295           |   2.9895     0.1424     2.8471 |   0.4730   300             |  1.000e-04   0.000e+00 |\n",
      "19:34:12 35 /300  |   2.9871     0.1400     2.8471 |   1.000000   0.0000e+00 |   0.6506   295           |   2.9888     0.1416     2.8471 |   0.4833   300             |  1.000e-04   0.000e+00 |\n",
      "19:36:20 36 /300  |   2.9864     0.1393     2.8471 |   1.000000   0.0000e+00 |   0.6546   295           |   2.9883     0.1411     2.8471 |   0.4550   300             |  1.000e-04   0.000e+00 |\n",
      "19:38:27 37 /300  |   2.9857     0.1386     2.8471 |   1.000000   0.0000e+00 |   0.6663   295           |   2.9876     0.1405     2.8471 |   0.5245   300             |  1.000e-04   0.000e+00 |\n",
      "19:40:35 38 /300  |   2.9851     0.1380     2.8471 |   1.000000   0.0000e+00 |   0.6743   295           |   2.9876     0.1405     2.8471 |   0.4989   300             |  1.000e-04   0.000e+00 |\n",
      "19:42:42 39 /300  |   2.9845     0.1374     2.8470 |   1.000000   0.0000e+00 |   0.6756   295           |   2.9866     0.1395     2.8471 |   0.4915   300             |  1.000e-04   0.000e+00 |\n",
      "19:44:49 40 /300  |   2.9839     0.1368     2.8470 |   1.000000   0.0000e+00 |   0.6792   295           |   2.9860     0.1389     2.8471 |   0.5132   300             |  1.000e-04   0.000e+00 |\n",
      "19:46:55 41 /300  |   2.9833     0.1363     2.8470 |   1.000000   0.0000e+00 |   0.6818   295           |   2.9855     0.1384     2.8471 |   0.5231   300             |  1.000e-04   0.000e+00 |\n",
      "19:49:03 42 /300  |   2.9828     0.1357     2.8470 |   1.000000   0.0000e+00 |   0.6865   295           |   2.9851     0.1379     2.8471 |   0.4743   300             |  1.000e-04   0.000e+00 |\n",
      "19:51:09 43 /300  |   2.9821     0.1351     2.8470 |   1.000000   0.0000e+00 |   0.6845   295           |   2.9845     0.1374     2.8471 |   0.5258   300             |  1.000e-04   0.000e+00 |\n",
      "19:53:17 44 /300  |   2.9819     0.1349     2.8470 |   1.000000   0.0000e+00 |   0.6853   295           |   2.9842     0.1371     2.8471 |   0.5201   300             |  1.000e-04   0.000e+00 |\n",
      "19:55:24 45 /300  |   2.9816     0.1346     2.8470 |   1.000000   0.0000e+00 |   0.6882   295           |   2.9839     0.1368     2.8471 |   0.5321   300             |  1.000e-04   0.000e+00 |\n",
      "19:57:31 46 /300  |   2.9810     0.1340     2.8470 |   1.000000   0.0000e+00 |   0.6895   295           |   2.9834     0.1363     2.8471 |   0.5522   300             |  1.000e-04   0.000e+00 |\n",
      "19:59:39 47 /300  |   2.9805     0.1335     2.8470 |   1.000000   0.0000e+00 |   0.6908   295           |   2.9830     0.1359     2.8471 |   0.5272   300             |  1.000e-04   0.000e+00 |\n",
      "20:01:45 48 /300  |   2.9801     0.1331     2.8470 |   1.000000   0.0000e+00 |   0.6895   295           |   2.9828     0.1357     2.8471 |   0.5323   300             |  1.000e-04   0.000e+00 |\n",
      "20:03:52 49 /300  |   2.9798     0.1328     2.8470 |   1.000000   0.0000e+00 |   0.6914   295           |   2.9824     0.1354     2.8471 |   0.5230   300             |  1.000e-04   0.000e+00 |\n",
      "20:05:59 50 /300  |   2.9795     0.1325     2.8470 |   1.000000   0.0000e+00 |   0.6917   295           |   2.9820     0.1349     2.8471 |   0.5371   300             |  1.000e-04   0.000e+00 |\n",
      "05:09:03 51 /300  |   2.9793     0.1323     2.8470 |   1.000000   0.0000e+00 |   0.6901   295           |   2.9821     0.1351     2.8470 |   0.4699   300             |  1.000e-04   0.000e+00 |\n",
      "05:11:11 52 /300  |   2.9790     0.1320     2.8470 |   1.000000   0.0000e+00 |   0.6876   295           |   2.9820     0.1350     2.8470 |   0.5243   300             |  1.000e-04   0.000e+00 |\n",
      "05:13:20 53 /300  |   2.9787     0.1318     2.8470 |   1.000000   0.0000e+00 |   0.6886   295           |   2.9815     0.1344     2.8470 |   0.5046   300             |  1.000e-04   0.000e+00 |\n",
      "05:15:28 54 /300  |   2.9784     0.1314     2.8469 |   1.000000   0.0000e+00 |   0.6852   295           |   2.9813     0.1343     2.8470 |   0.5154   300             |  1.000e-04   0.000e+00 |\n",
      "05:17:35 55 /300  |   2.9782     0.1313     2.8469 |   1.000000   0.0000e+00 |   0.6824   295           |   2.9810     0.1340     2.8470 |   0.5663   300             |  1.000e-04   0.000e+00 |\n",
      "05:19:44 56 /300  |   2.9779     0.1310     2.8469 |   1.000000   0.0000e+00 |   0.6815   295           |   2.9811     0.1341     2.8470 |   0.5273   300             |  1.000e-04   0.000e+00 |\n",
      "05:21:55 57 /300  |   2.9776     0.1307     2.8469 |   1.000000   0.0000e+00 |   0.6816   295           |   2.9808     0.1338     2.8470 |   0.5671   300             |  1.000e-04   0.000e+00 |\n",
      "05:24:08 58 /300  |   2.9772     0.1303     2.8469 |   1.000000   0.0000e+00 |   0.6762   295           |   2.9808     0.1338     2.8470 |   0.5529   300             |  1.000e-04   0.000e+00 |\n",
      "05:26:20 59 /300  |   2.9771     0.1302     2.8469 |   1.000000   0.0000e+00 |   0.6754   295           |   2.9800     0.1330     2.8470 |   0.5109   300             |  1.000e-04   0.000e+00 |\n",
      "05:28:27 60 /300  |   2.9769     0.1300     2.8469 |   1.000000   0.0000e+00 |   0.6729   295           |   2.9805     0.1336     2.8470 |   0.5506   300             |  1.000e-04   0.000e+00 |\n",
      "05:30:38 61 /300  |   2.9767     0.1298     2.8469 |   1.000000   0.0000e+00 |   0.6692   295           |   2.9798     0.1328     2.8470 |   0.4918   300             |  1.000e-04   0.000e+00 |\n",
      "05:32:49 62 /300  |   2.9765     0.1296     2.8469 |   1.000000   0.0000e+00 |   0.6721   295           |   2.9802     0.1332     2.8469 |   0.5395   300             |  1.000e-04   0.000e+00 |\n",
      "05:34:59 63 /300  |   2.9762     0.1294     2.8469 |   1.000000   0.0000e+00 |   0.6674   295           |   2.9795     0.1326     2.8469 |   0.5058   300             |  1.000e-04   0.000e+00 |\n",
      "05:37:06 64 /300  |   2.9760     0.1291     2.8469 |   1.000000   0.0000e+00 |   0.6670   295           |   2.9794     0.1325     2.8469 |   0.4485   300             |  1.000e-04   0.000e+00 |\n",
      "05:39:16 65 /300  |   2.9759     0.1290     2.8468 |   1.000000   0.0000e+00 |   0.6644   295           |   2.9794     0.1325     2.8469 |   0.5231   300             |  1.000e-04   0.000e+00 |\n",
      "05:41:27 66 /300  |   2.9759     0.1291     2.8468 |   1.000000   0.0000e+00 |   0.6666   295           |   2.9795     0.1326     2.8469 |   0.5242   300             |  1.000e-04   0.000e+00 |\n",
      "05:43:39 67 /300  |   2.9756     0.1288     2.8468 |   1.000000   0.0000e+00 |   0.6659   295           |   2.9794     0.1325     2.8469 |   0.5229   300             |  1.000e-04   0.000e+00 |\n",
      "05:45:50 68 /300  |   2.9753     0.1285     2.8468 |   0.683020   0.0000e+00 |   0.6646   295           |   2.9778     0.1322     2.8456 |   0.5333   300             |  1.000e-04   0.000e+00 |\n",
      "05:48:02 69 /300  |   2.9738     0.1283     2.8455 |   0.683020   0.0000e+00 |   0.6657   295           |   2.9777     0.1321     2.8456 |   0.5373   300             |  1.000e-04   0.000e+00 |\n",
      "05:50:13 70 /300  |   2.9737     0.1283     2.8455 |   0.683020   0.0000e+00 |   0.6619   295           |   2.9776     0.1321     2.8456 |   0.4902   300             |  1.000e-04   0.000e+00 |\n",
      "05:52:27 71 /300  |   2.9734     0.1280     2.8455 |   0.683020   0.0000e+00 |   0.6653   295           |   2.9773     0.1318     2.8455 |   0.5262   300             |  1.000e-04   0.000e+00 |\n",
      "05:54:48 72 /300  |   2.9733     0.1278     2.8454 |   0.683020   0.0000e+00 |   0.6610   295           |   2.9770     0.1314     2.8455 |   0.5346   300             |  1.000e-04   0.000e+00 |\n",
      "05:57:07 73 /300  |   2.9731     0.1277     2.8454 |   0.683020   0.0000e+00 |   0.6635   295           |   2.9768     0.1313     2.8455 |   0.5310   300             |  1.000e-04   0.000e+00 |\n",
      "05:59:28 74 /300  |   2.9729     0.1275     2.8454 |   0.683020   0.0000e+00 |   0.6598   295           |   2.9767     0.1313     2.8455 |   0.5283   300             |  1.000e-04   0.000e+00 |\n",
      "06:01:49 75 /300  |   2.9728     0.1275     2.8454 |   0.683020   0.0000e+00 |   0.6574   295           |   2.9766     0.1311     2.8455 |   0.5521   300             |  1.000e-04   0.000e+00 |\n",
      "06:04:10 76 /300  |   2.9725     0.1272     2.8453 |   0.683020   0.0000e+00 |   0.6599   295           |   2.9764     0.1310     2.8454 |   0.5133   300             |  1.000e-04   0.000e+00 |\n",
      "06:06:31 77 /300  |   2.9722     0.1268     2.8453 |   0.683020   0.0000e+00 |   0.6516   295           |   2.9760     0.1305     2.8455 |   0.5382   300             |  1.000e-04   0.000e+00 |\n",
      "06:08:53 78 /300  |   2.9719     0.1266     2.8453 |   0.683020   0.0000e+00 |   0.6457   295           |   2.9760     0.1306     2.8454 |   0.5242   300             |  1.000e-04   0.000e+00 |\n",
      "06:11:16 79 /300  |   2.9719     0.1265     2.8453 |   0.546491   0.0000e+00 |   0.6372   295           |   2.9747     0.1303     2.8444 |   0.5617   300             |  1.000e-04   0.000e+00 |\n",
      "06:13:45 80 /300  |   2.9705     0.1263     2.8442 |   0.546491   0.0000e+00 |   0.6302   295           |   2.9747     0.1303     2.8444 |   0.5202   300             |  1.000e-04   0.000e+00 |\n",
      "06:16:16 81 /300  |   2.9701     0.1259     2.8442 |   0.546491   0.0000e+00 |   0.6222   295           |   2.9741     0.1297     2.8443 |   0.5579   300             |  1.000e-04   0.000e+00 |\n",
      "06:18:48 82 /300  |   2.9697     0.1255     2.8442 |   0.546491   0.0000e+00 |   0.6236   295           |   2.9739     0.1295     2.8444 |   0.5680   300             |  1.000e-04   0.000e+00 |\n",
      "06:21:21 83 /300  |   2.9695     0.1253     2.8442 |   0.546491   0.0000e+00 |   0.6227   295           |   2.9735     0.1292     2.8443 |   0.4907   300             |  1.000e-04   0.000e+00 |\n",
      "06:23:52 84 /300  |   2.9694     0.1252     2.8442 |   0.546491   0.0000e+00 |   0.6232   295           |   2.9735     0.1292     2.8443 |   0.5424   300             |  1.000e-04   0.000e+00 |\n",
      "06:26:22 85 /300  |   2.9690     0.1249     2.8442 |   0.546491   0.0000e+00 |   0.6260   295           |   2.9728     0.1285     2.8443 |   0.5106   300             |  1.000e-04   0.000e+00 |\n",
      "06:28:52 86 /300  |   2.9685     0.1243     2.8442 |   0.546491   0.0000e+00 |   0.6343   295           |   2.9724     0.1281     2.8443 |   0.5329   300             |  1.000e-04   0.000e+00 |\n",
      "06:31:24 87 /300  |   2.9682     0.1241     2.8442 |   0.546491   0.0000e+00 |   0.6356   295           |   2.9723     0.1280     2.8443 |   0.5373   300             |  1.000e-04   0.000e+00 |\n",
      "06:33:55 88 /300  |   2.9680     0.1239     2.8441 |   0.546491   0.0000e+00 |   0.6455   295           |   2.9724     0.1282     2.8443 |   0.5363   300             |  1.000e-04   0.000e+00 |\n",
      "06:36:26 89 /300  |   2.9677     0.1236     2.8441 |   0.546491   0.0000e+00 |   0.6475   295           |   2.9717     0.1274     2.8443 |   0.5160   300             |  1.000e-04   0.000e+00 |\n",
      "06:38:58 90 /300  |   2.9675     0.1234     2.8441 |   0.466516   0.0000e+00 |   0.6558   295           |   2.9710     0.1277     2.8433 |   0.5721   300             |  1.000e-04   0.000e+00 |\n",
      "06:41:29 91 /300  |   2.9662     0.1231     2.8432 |   0.466516   0.0000e+00 |   0.6596   295           |   2.9704     0.1270     2.8434 |   0.5337   300             |  1.000e-04   0.000e+00 |\n",
      "06:43:59 92 /300  |   2.9658     0.1226     2.8432 |   0.466516   0.0000e+00 |   0.6645   295           |   2.9702     0.1268     2.8434 |   0.5484   300             |  1.000e-04   0.000e+00 |\n",
      "06:46:31 93 /300  |   2.9655     0.1224     2.8432 |   0.466516   0.0000e+00 |   0.6692   295           |   2.9700     0.1267     2.8433 |   0.6036   300             |  1.000e-04   0.000e+00 |\n",
      "06:49:05 94 /300  |   2.9653     0.1222     2.8432 |   0.466516   0.0000e+00 |   0.6707   295           |   2.9699     0.1265     2.8433 |   0.5489   300             |  1.000e-04   0.000e+00 |\n",
      "06:51:35 95 /300  |   2.9651     0.1220     2.8432 |   0.466516   0.0000e+00 |   0.6692   295           |   2.9699     0.1266     2.8433 |   0.5547   300             |  1.000e-04   0.000e+00 |\n",
      "06:54:04 96 /300  |   2.9650     0.1219     2.8431 |   0.466516   0.0000e+00 |   0.6734   295           |   2.9692     0.1259     2.8433 |   0.5347   300             |  1.000e-04   0.000e+00 |\n",
      "06:56:35 97 /300  |   2.9647     0.1215     2.8431 |   0.466516   0.0000e+00 |   0.6737   295           |   2.9694     0.1262     2.8433 |   0.5691   300             |  1.000e-04   0.000e+00 |\n",
      "06:59:04 98 /300  |   2.9645     0.1214     2.8431 |   0.466516   0.0000e+00 |   0.6748   295           |   2.9690     0.1257     2.8433 |   0.5296   300             |  1.000e-04   0.000e+00 |\n",
      "07:01:34 99 /300  |   2.9643     0.1212     2.8431 |   0.466516   0.0000e+00 |   0.6769   295           |   2.9689     0.1257     2.8432 |   0.5939   300             |  1.000e-04   0.000e+00 |\n",
      "07:04:03 100/300  |   2.9640     0.1210     2.8430 |   0.466516   0.0000e+00 |   0.6726   295           |   2.9686     0.1254     2.8432 |   0.4830   300             |  1.000e-04   0.000e+00 |\n",
      "19:12:29 101/300  |   2.9638     0.1208     2.8430 |   0.412635   0.0000e+00 |   0.6758   295           |   2.9676     0.1252     2.8424 |   0.6080   300             |  1.000e-04   0.000e+00 |\n",
      "19:14:58 102/300  |   2.9627     0.1205     2.8421 |   0.412635   0.0000e+00 |   0.6765   295           |   2.9673     0.1249     2.8424 |   0.5477   300             |  1.000e-04   0.000e+00 |\n",
      "19:17:30 103/300  |   2.9624     0.1203     2.8421 |   0.412635   0.0000e+00 |   0.6784   295           |   2.9672     0.1249     2.8423 |   0.5916   300             |  1.000e-04   0.000e+00 |\n",
      "19:20:02 104/300  |   2.9622     0.1201     2.8421 |   0.412635   0.0000e+00 |   0.6782   295           |   2.9672     0.1249     2.8423 |   0.5581   300             |  1.000e-04   0.000e+00 |\n",
      "19:22:32 105/300  |   2.9620     0.1199     2.8421 |   0.412635   0.0000e+00 |   0.6770   295           |   2.9670     0.1246     2.8423 |   0.6044   300             |  1.000e-04   0.000e+00 |\n",
      "19:25:02 106/300  |   2.9618     0.1197     2.8421 |   0.412635   0.0000e+00 |   0.6785   295           |   2.9665     0.1242     2.8423 |   0.5797   300             |  1.000e-04   0.000e+00 |\n",
      "19:27:33 107/300  |   2.9616     0.1195     2.8421 |   0.412635   0.0000e+00 |   0.6779   295           |   2.9664     0.1242     2.8423 |   0.6095   300             |  1.000e-04   0.000e+00 |\n",
      "19:30:04 108/300  |   2.9613     0.1193     2.8420 |   0.412635   0.0000e+00 |   0.6805   295           |   2.9662     0.1239     2.8422 |   0.5818   300             |  1.000e-04   0.000e+00 |\n",
      "19:32:32 109/300  |   2.9611     0.1190     2.8420 |   0.412635   0.0000e+00 |   0.6784   295           |   2.9662     0.1240     2.8422 |   0.5994   300             |  1.000e-04   0.000e+00 |\n",
      "19:35:01 110/300  |   2.9609     0.1189     2.8420 |   0.412635   0.0000e+00 |   0.6785   295           |   2.9657     0.1236     2.8422 |   0.5902   300             |  1.000e-04   0.000e+00 |\n",
      "19:37:30 111/300  |   2.9607     0.1187     2.8419 |   0.412635   0.0000e+00 |   0.6821   295           |   2.9657     0.1235     2.8422 |   0.5912   300             |  1.000e-04   0.000e+00 |\n",
      "19:40:01 112/300  |   2.9605     0.1185     2.8419 |   0.373265   0.0000e+00 |   0.6819   295           |   2.9644     0.1230     2.8414 |   0.5886   300             |  1.000e-04   0.000e+00 |\n",
      "19:42:30 113/300  |   2.9594     0.1182     2.8412 |   0.373265   0.0000e+00 |   0.6801   295           |   2.9643     0.1229     2.8414 |   0.6085   300             |  1.000e-04   0.000e+00 |\n",
      "19:45:00 114/300  |   2.9592     0.1180     2.8411 |   0.373265   0.0000e+00 |   0.6838   295           |   2.9645     0.1232     2.8413 |   0.6148   300             |  1.000e-04   0.000e+00 |\n",
      "19:47:32 115/300  |   2.9590     0.1179     2.8411 |   0.373265   0.0000e+00 |   0.6762   295           |   2.9640     0.1227     2.8413 |   0.5833   300             |  1.000e-04   0.000e+00 |\n",
      "19:50:04 116/300  |   2.9587     0.1177     2.8411 |   0.373265   0.0000e+00 |   0.6836   295           |   2.9638     0.1225     2.8413 |   0.6116   300             |  1.000e-04   0.000e+00 |\n",
      "19:52:34 117/300  |   2.9585     0.1174     2.8411 |   0.373265   0.0000e+00 |   0.6787   295           |   2.9635     0.1222     2.8413 |   0.5943   300             |  1.000e-04   0.000e+00 |\n",
      "19:55:05 118/300  |   2.9582     0.1172     2.8411 |   0.373265   0.0000e+00 |   0.6815   295           |   2.9638     0.1225     2.8413 |   0.6019   300             |  1.000e-04   0.000e+00 |\n",
      "19:57:36 119/300  |   2.9580     0.1170     2.8410 |   0.373265   0.0000e+00 |   0.6832   295           |   2.9636     0.1224     2.8413 |   0.5878   300             |  1.000e-04   0.000e+00 |\n",
      "20:00:06 120/300  |   2.9579     0.1169     2.8410 |   0.373265   0.0000e+00 |   0.6769   295           |   2.9634     0.1222     2.8412 |   0.6047   300             |  1.000e-04   0.000e+00 |\n",
      "20:02:36 121/300  |   2.9577     0.1168     2.8409 |   0.373265   0.0000e+00 |   0.6799   295           |   2.9627     0.1216     2.8412 |   0.6130   300             |  1.000e-04   0.000e+00 |\n",
      "20:05:06 122/300  |   2.9573     0.1164     2.8409 |   0.373265   0.0000e+00 |   0.6855   295           |   2.9625     0.1214     2.8411 |   0.6032   300             |  1.000e-04   0.000e+00 |\n",
      "20:07:37 123/300  |   2.9571     0.1162     2.8409 |   0.342923   0.0000e+00 |   0.6808   295           |   2.9617     0.1212     2.8404 |   0.6030   300             |  1.000e-04   0.000e+00 |\n",
      "20:10:09 124/300  |   2.9561     0.1160     2.8402 |   0.342923   0.0000e+00 |   0.6830   295           |   2.9614     0.1209     2.8404 |   0.6272   300             |  1.000e-04   0.000e+00 |\n",
      "20:12:40 125/300  |   2.9558     0.1157     2.8402 |   0.342923   0.0000e+00 |   0.6850   295           |   2.9613     0.1208     2.8404 |   0.5909   300             |  1.000e-04   0.000e+00 |\n",
      "20:15:12 126/300  |   2.9557     0.1156     2.8401 |   0.342923   0.0000e+00 |   0.6838   295           |   2.9608     0.1205     2.8404 |   0.5915   300             |  1.000e-04   0.000e+00 |\n",
      "20:17:43 127/300  |   2.9555     0.1154     2.8401 |   0.342923   0.0000e+00 |   0.6874   295           |   2.9608     0.1205     2.8404 |   0.6389   300             |  1.000e-04   0.000e+00 |\n",
      "20:20:13 128/300  |   2.9553     0.1152     2.8401 |   0.342923   0.0000e+00 |   0.6907   295           |   2.9608     0.1205     2.8403 |   0.5891   300             |  1.000e-04   0.000e+00 |\n",
      "20:22:44 129/300  |   2.9551     0.1150     2.8400 |   0.342923   0.0000e+00 |   0.6864   295           |   2.9605     0.1202     2.8403 |   0.6300   300             |  1.000e-04   0.000e+00 |\n",
      "20:25:14 130/300  |   2.9549     0.1149     2.8400 |   0.342923   0.0000e+00 |   0.6923   295           |   2.9603     0.1200     2.8403 |   0.6319   300             |  1.000e-04   0.000e+00 |\n",
      "20:27:45 131/300  |   2.9546     0.1147     2.8400 |   0.342923   0.0000e+00 |   0.6904   295           |   2.9602     0.1200     2.8402 |   0.5971   300             |  1.000e-04   0.000e+00 |\n",
      "20:30:13 132/300  |   2.9544     0.1145     2.8400 |   0.342923   0.0000e+00 |   0.6949   295           |   2.9600     0.1198     2.8402 |   0.6155   300             |  1.000e-04   0.000e+00 |\n",
      "20:32:42 133/300  |   2.9543     0.1144     2.8399 |   0.342923   0.0000e+00 |   0.6946   295           |   2.9598     0.1196     2.8401 |   0.6346   300             |  1.000e-04   0.000e+00 |\n",
      "20:35:13 134/300  |   2.9544     0.1146     2.8398 |   0.342923   0.0000e+00 |   0.6972   295           |   2.9597     0.1196     2.8401 |   0.6109   300             |  1.000e-04   0.000e+00 |\n",
      "20:37:43 135/300  |   2.9540     0.1143     2.8398 |   0.342923   0.0000e+00 |   0.6942   295           |   2.9593     0.1193     2.8400 |   0.6121   300             |  1.000e-04   0.000e+00 |\n",
      "20:40:13 136/300  |   2.9537     0.1139     2.8398 |   0.342923   0.0000e+00 |   0.6975   295           |   2.9595     0.1194     2.8401 |   0.6317   300             |  1.000e-04   0.000e+00 |\n",
      "20:42:44 137/300  |   2.9536     0.1138     2.8398 |   0.342923   0.0000e+00 |   0.6977   295           |   2.9592     0.1191     2.8400 |   0.6300   300             |  1.000e-04   0.000e+00 |\n",
      "20:45:14 138/300  |   2.9535     0.1137     2.8398 |   0.342923   0.0000e+00 |   0.6967   295           |   2.9593     0.1192     2.8401 |   0.6280   300             |  1.000e-04   0.000e+00 |\n",
      "20:47:44 139/300  |   2.9534     0.1136     2.8397 |   0.342923   0.0000e+00 |   0.6985   295           |   2.9592     0.1192     2.8400 |   0.6379   300             |  1.000e-04   0.000e+00 |\n",
      "20:50:13 140/300  |   2.9533     0.1136     2.8397 |   0.318640   0.0000e+00 |   0.6956   295           |   2.9582     0.1190     2.8392 |   0.6219   300             |  1.000e-04   0.000e+00 |\n",
      "20:52:43 141/300  |   2.9524     0.1135     2.8389 |   0.318640   0.0000e+00 |   0.6976   295           |   2.9581     0.1190     2.8392 |   0.6294   300             |  1.000e-04   0.000e+00 |\n",
      "20:55:13 142/300  |   2.9522     0.1133     2.8388 |   0.318640   0.0000e+00 |   0.6985   295           |   2.9578     0.1188     2.8391 |   0.6077   300             |  1.000e-04   0.000e+00 |\n",
      "20:57:43 143/300  |   2.9519     0.1131     2.8388 |   0.318640   0.0000e+00 |   0.6974   295           |   2.9580     0.1189     2.8391 |   0.6447   300             |  1.000e-04   0.000e+00 |\n",
      "21:00:12 144/300  |   2.9518     0.1130     2.8388 |   0.318640   0.0000e+00 |   0.7000   295           |   2.9579     0.1189     2.8390 |   0.6165   300             |  1.000e-04   0.000e+00 |\n",
      "21:02:43 145/300  |   2.9517     0.1130     2.8387 |   0.318640   0.0000e+00 |   0.6983   295           |   2.9573     0.1182     2.8390 |   0.6534   300             |  1.000e-04   0.000e+00 |\n",
      "21:05:13 146/300  |   2.9515     0.1128     2.8387 |   0.318640   0.0000e+00 |   0.7006   295           |   2.9573     0.1184     2.8389 |   0.6319   300             |  1.000e-04   0.000e+00 |\n",
      "21:07:41 147/300  |   2.9515     0.1129     2.8386 |   0.318640   0.0000e+00 |   0.6997   295           |   2.9571     0.1182     2.8389 |   0.6600   300             |  1.000e-04   0.000e+00 |\n",
      "21:10:11 148/300  |   2.9513     0.1127     2.8386 |   0.318640   0.0000e+00 |   0.7003   295           |   2.9568     0.1180     2.8388 |   0.6099   300             |  1.000e-04   0.000e+00 |\n",
      "21:12:42 149/300  |   2.9510     0.1124     2.8385 |   0.318640   0.0000e+00 |   0.6976   295           |   2.9568     0.1179     2.8389 |   0.6524   300             |  1.000e-04   0.000e+00 |\n",
      "21:15:11 150/300  |   2.9507     0.1122     2.8385 |   0.318640   0.0000e+00 |   0.6996   295           |   2.9565     0.1178     2.8388 |   0.6329   300             |  1.000e-04   0.000e+00 |\n",
      "21:17:41 151/300  |   2.9505     0.1120     2.8385 |   0.318640   0.0000e+00 |   0.6974   295           |   2.9565     0.1178     2.8387 |   0.6384   300             |  1.000e-04   0.000e+00 |\n",
      "21:20:12 152/300  |   2.9504     0.1120     2.8384 |   0.318640   0.0000e+00 |   0.6953   295           |   2.9564     0.1178     2.8386 |   0.6608   300             |  1.000e-04   0.000e+00 |\n",
      "21:22:45 153/300  |   2.9502     0.1119     2.8383 |   0.298653   0.0000e+00 |   0.6966   295           |   2.9552     0.1174     2.8379 |   0.6353   300             |  1.000e-04   0.000e+00 |\n",
      "21:25:13 154/300  |   2.9492     0.1116     2.8375 |   0.298653   0.0000e+00 |   0.6960   295           |   2.9553     0.1175     2.8378 |   0.6436   300             |  1.000e-04   0.000e+00 |\n",
      "21:27:42 155/300  |   2.9490     0.1115     2.8375 |   0.298653   0.0000e+00 |   0.6964   295           |   2.9549     0.1171     2.8378 |   0.6364   300             |  1.000e-04   0.000e+00 |\n",
      "21:30:11 156/300  |   2.9487     0.1112     2.8375 |   0.298653   0.0000e+00 |   0.7001   295           |   2.9548     0.1170     2.8377 |   0.6618   300             |  1.000e-04   0.000e+00 |\n",
      "21:32:42 157/300  |   2.9486     0.1111     2.8374 |   0.298653   0.0000e+00 |   0.6991   295           |   2.9545     0.1168     2.8377 |   0.6398   300             |  1.000e-04   0.000e+00 |\n",
      "21:35:11 158/300  |   2.9484     0.1111     2.8373 |   0.298653   0.0000e+00 |   0.7009   295           |   2.9542     0.1166     2.8376 |   0.6611   300             |  1.000e-04   0.000e+00 |\n",
      "21:37:41 159/300  |   2.9482     0.1109     2.8373 |   0.298653   0.0000e+00 |   0.7031   295           |   2.9546     0.1170     2.8376 |   0.6565   300             |  1.000e-04   0.000e+00 |\n",
      "21:40:02 160/300  |   2.9481     0.1110     2.8371 |   0.298653   0.0000e+00 |   0.7044   295           |   2.9539     0.1166     2.8374 |   0.6720   300             |  1.000e-04   0.000e+00 |\n",
      "21:42:22 161/300  |   2.9478     0.1108     2.8371 |   0.298653   0.0000e+00 |   0.7049   295           |   2.9538     0.1164     2.8374 |   0.6563   300             |  1.000e-04   0.000e+00 |\n",
      "21:44:41 162/300  |   2.9475     0.1104     2.8370 |   0.298653   0.0000e+00 |   0.7077   295           |   2.9537     0.1164     2.8373 |   0.6373   300             |  1.000e-04   0.000e+00 |\n",
      "21:47:04 163/300  |   2.9472     0.1102     2.8370 |   0.298653   0.0000e+00 |   0.7076   295           |   2.9539     0.1165     2.8374 |   0.6631   300             |  1.000e-04   0.000e+00 |\n",
      "21:49:26 164/300  |   2.9471     0.1100     2.8370 |   0.298653   0.0000e+00 |   0.7079   295           |   2.9531     0.1158     2.8373 |   0.6571   300             |  1.000e-04   0.000e+00 |\n",
      "21:51:46 165/300  |   2.9470     0.1100     2.8370 |   0.298653   0.0000e+00 |   0.7057   295           |   2.9531     0.1158     2.8373 |   0.6596   300             |  1.000e-04   0.000e+00 |\n",
      "21:54:07 166/300  |   2.9468     0.1099     2.8369 |   0.298653   0.0000e+00 |   0.7071   295           |   2.9529     0.1157     2.8372 |   0.6560   300             |  1.000e-04   0.000e+00 |\n",
      "21:56:29 167/300  |   2.9466     0.1098     2.8368 |   0.298653   0.0000e+00 |   0.7058   295           |   2.9527     0.1156     2.8371 |   0.6736   300             |  1.000e-04   0.000e+00 |\n",
      "21:58:52 168/300  |   2.9464     0.1096     2.8368 |   0.298653   0.0000e+00 |   0.7066   295           |   2.9524     0.1153     2.8371 |   0.6557   300             |  1.000e-04   0.000e+00 |\n",
      "22:01:13 169/300  |   2.9462     0.1096     2.8367 |   0.298653   0.0000e+00 |   0.7068   295           |   2.9522     0.1153     2.8369 |   0.6340   300             |  1.000e-04   0.000e+00 |\n",
      "22:03:37 170/300  |   2.9459     0.1092     2.8367 |   0.281838   0.0000e+00 |   0.7063   295           |   2.9515     0.1152     2.8363 |   0.6891   300             |  1.000e-04   0.000e+00 |\n",
      "22:06:01 171/300  |   2.9450     0.1091     2.8359 |   0.281838   0.0000e+00 |   0.7115   295           |   2.9511     0.1149     2.8362 |   0.6469   300             |  1.000e-04   0.000e+00 |\n",
      "22:08:28 172/300  |   2.9448     0.1089     2.8359 |   0.281838   0.0000e+00 |   0.7076   295           |   2.9509     0.1147     2.8362 |   0.6542   300             |  1.000e-04   0.000e+00 |\n",
      "22:10:52 173/300  |   2.9446     0.1087     2.8359 |   0.281838   0.0000e+00 |   0.7065   295           |   2.9509     0.1149     2.8360 |   0.6509   300             |  1.000e-04   0.000e+00 |\n",
      "22:13:13 174/300  |   2.9443     0.1084     2.8359 |   0.281838   0.0000e+00 |   0.7109   295           |   2.9507     0.1145     2.8362 |   0.6737   300             |  1.000e-04   0.000e+00 |\n",
      "22:15:36 175/300  |   2.9441     0.1083     2.8358 |   0.281838   0.0000e+00 |   0.7076   295           |   2.9505     0.1144     2.8361 |   0.6529   300             |  1.000e-04   0.000e+00 |\n",
      "22:18:00 176/300  |   2.9440     0.1082     2.8358 |   0.281838   0.0000e+00 |   0.7094   295           |   2.9502     0.1141     2.8360 |   0.6646   300             |  1.000e-04   0.000e+00 |\n",
      "22:20:20 177/300  |   2.9437     0.1080     2.8357 |   0.281838   0.0000e+00 |   0.7071   295           |   2.9497     0.1137     2.8360 |   0.6671   300             |  1.000e-04   0.000e+00 |\n",
      "22:22:42 178/300  |   2.9434     0.1077     2.8357 |   0.281838   0.0000e+00 |   0.7106   295           |   2.9495     0.1135     2.8360 |   0.6760   300             |  1.000e-04   0.000e+00 |\n",
      "22:25:02 179/300  |   2.9432     0.1076     2.8357 |   0.281838   0.0000e+00 |   0.7047   295           |   2.9494     0.1135     2.8359 |   0.6847   300             |  1.000e-04   0.000e+00 |\n",
      "22:27:21 180/300  |   2.9431     0.1076     2.8356 |   0.281838   0.0000e+00 |   0.7056   295           |   2.9496     0.1137     2.8358 |   0.6698   300             |  1.000e-04   0.000e+00 |\n",
      "22:29:39 181/300  |   2.9428     0.1073     2.8355 |   0.281838   0.0000e+00 |   0.7099   295           |   2.9490     0.1131     2.8358 |   0.6686   300             |  1.000e-04   0.000e+00 |\n",
      "22:31:54 182/300  |   2.9425     0.1070     2.8354 |   0.267445   0.0000e+00 |   0.7056   295           |   2.9480     0.1130     2.8350 |   0.6836   300             |  1.000e-04   0.000e+00 |\n",
      "22:34:13 183/300  |   2.9415     0.1068     2.8347 |   0.267445   0.0000e+00 |   0.7117   295           |   2.9479     0.1130     2.8350 |   0.6539   300             |  1.000e-04   0.000e+00 |\n",
      "22:36:29 184/300  |   2.9414     0.1067     2.8347 |   0.267445   0.0000e+00 |   0.7073   295           |   2.9481     0.1131     2.8350 |   0.6881   300             |  1.000e-04   0.000e+00 |\n",
      "22:38:47 185/300  |   2.9413     0.1067     2.8346 |   0.267445   0.0000e+00 |   0.7117   295           |   2.9479     0.1132     2.8347 |   0.6789   300             |  1.000e-04   0.000e+00 |\n",
      "22:41:03 186/300  |   2.9410     0.1066     2.8344 |   0.267445   0.0000e+00 |   0.7080   295           |   2.9475     0.1127     2.8348 |   0.6795   300             |  1.000e-04   0.000e+00 |\n",
      "22:43:22 187/300  |   2.9408     0.1064     2.8344 |   0.267445   0.0000e+00 |   0.7123   295           |   2.9473     0.1127     2.8346 |   0.6798   300             |  1.000e-04   0.000e+00 |\n",
      "22:45:43 188/300  |   2.9405     0.1062     2.8343 |   0.267445   0.0000e+00 |   0.7126   295           |   2.9471     0.1124     2.8347 |   0.6675   300             |  1.000e-04   0.000e+00 |\n",
      "22:48:06 189/300  |   2.9403     0.1060     2.8343 |   0.267445   0.0000e+00 |   0.7137   295           |   2.9468     0.1122     2.8345 |   0.6685   300             |  1.000e-04   0.000e+00 |\n",
      "22:50:39 190/300  |   2.9402     0.1060     2.8342 |   0.267445   0.0000e+00 |   0.7124   295           |   2.9465     0.1120     2.8345 |   0.6614   300             |  1.000e-04   0.000e+00 |\n",
      "22:53:20 191/300  |   2.9400     0.1058     2.8342 |   0.267445   0.0000e+00 |   0.7139   295           |   2.9461     0.1118     2.8343 |   0.6877   300             |  1.000e-04   0.000e+00 |\n",
      "22:56:03 192/300  |   2.9398     0.1058     2.8340 |   0.267445   0.0000e+00 |   0.7111   295           |   2.9462     0.1119     2.8343 |   0.6851   300             |  1.000e-04   0.000e+00 |\n",
      "22:58:45 193/300  |   2.9396     0.1056     2.8339 |   0.267445   0.0000e+00 |   0.7153   295           |   2.9459     0.1117     2.8343 |   0.6826   300             |  1.000e-04   0.000e+00 |\n",
      "23:01:30 194/300  |   2.9393     0.1054     2.8339 |   0.267445   0.0000e+00 |   0.7147   295           |   2.9458     0.1116     2.8342 |   0.6543   300             |  1.000e-04   0.000e+00 |\n",
      "23:04:07 195/300  |   2.9390     0.1051     2.8339 |   0.267445   0.0000e+00 |   0.7107   295           |   2.9455     0.1113     2.8342 |   0.6727   300             |  1.000e-04   0.000e+00 |\n",
      "23:06:39 196/300  |   2.9388     0.1050     2.8338 |   0.267445   0.0000e+00 |   0.7106   295           |   2.9455     0.1115     2.8340 |   0.6505   300             |  1.000e-04   0.000e+00 |\n",
      "23:09:11 197/300  |   2.9385     0.1048     2.8337 |   0.267445   0.0000e+00 |   0.7130   295           |   2.9452     0.1112     2.8339 |   0.6816   300             |  1.000e-04   0.000e+00 |\n",
      "23:11:42 198/300  |   2.9384     0.1048     2.8335 |   0.267445   0.0000e+00 |   0.7099   295           |   2.9448     0.1111     2.8337 |   0.6850   300             |  1.000e-04   0.000e+00 |\n",
      "23:14:14 199/300  |   2.9380     0.1046     2.8334 |   0.254947   0.0000e+00 |   0.7146   295           |   2.9441     0.1112     2.8330 |   0.6886   300             |  1.000e-04   0.000e+00 |\n",
      "23:16:46 200/300  |   2.9368     0.1042     2.8326 |   0.254947   0.0000e+00 |   0.7153   295           |   2.9434     0.1104     2.8329 |   0.6656   300             |  1.000e-04   0.000e+00 |\n",
      "04:51:30 201/300  |   2.9366     0.1039     2.8327 |   0.254947   0.0000e+00 |   0.7139   295           |   2.9432     0.1103     2.8329 |   0.6580   300             |  1.000e-04   0.000e+00 |\n",
      "04:53:58 202/300  |   2.9365     0.1039     2.8326 |   0.254947   0.0000e+00 |   0.7129   295           |   2.9430     0.1101     2.8329 |   0.6819   300             |  1.000e-04   0.000e+00 |\n",
      "04:56:23 203/300  |   2.9363     0.1038     2.8325 |   0.254947   0.0000e+00 |   0.7161   295           |   2.9427     0.1099     2.8328 |   0.6720   300             |  1.000e-04   0.000e+00 |\n",
      "04:58:50 204/300  |   2.9360     0.1036     2.8324 |   0.254947   0.0000e+00 |   0.7129   295           |   2.9424     0.1098     2.8326 |   0.6705   300             |  1.000e-04   0.000e+00 |\n",
      "05:01:16 205/300  |   2.9357     0.1033     2.8324 |   0.254947   0.0000e+00 |   0.7188   295           |   2.9422     0.1094     2.8328 |   0.6902   300             |  1.000e-04   0.000e+00 |\n",
      "05:03:41 206/300  |   2.9355     0.1031     2.8324 |   0.254947   0.0000e+00 |   0.7169   295           |   2.9419     0.1093     2.8326 |   0.6820   300             |  1.000e-04   0.000e+00 |\n",
      "05:06:07 207/300  |   2.9353     0.1029     2.8324 |   0.254947   0.0000e+00 |   0.7197   295           |   2.9419     0.1092     2.8327 |   0.6755   300             |  1.000e-04   0.000e+00 |\n",
      "05:08:32 208/300  |   2.9351     0.1028     2.8323 |   0.254947   0.0000e+00 |   0.7202   295           |   2.9418     0.1091     2.8327 |   0.6990   300             |  1.000e-04   0.000e+00 |\n",
      "05:10:57 209/300  |   2.9349     0.1026     2.8323 |   0.254947   0.0000e+00 |   0.7221   295           |   2.9414     0.1088     2.8326 |   0.6922   300             |  1.000e-04   0.000e+00 |\n",
      "05:13:22 210/300  |   2.9347     0.1025     2.8322 |   0.254947   0.0000e+00 |   0.7174   295           |   2.9412     0.1088     2.8324 |   0.6876   300             |  1.000e-04   0.000e+00 |\n",
      "05:15:49 211/300  |   2.9344     0.1022     2.8322 |   0.254947   0.0000e+00 |   0.7233   295           |   2.9410     0.1085     2.8325 |   0.6860   300             |  1.000e-04   0.000e+00 |\n",
      "05:18:14 212/300  |   2.9342     0.1020     2.8322 |   0.254947   0.0000e+00 |   0.7211   295           |   2.9407     0.1081     2.8326 |   0.6995   300             |  1.000e-04   0.000e+00 |\n",
      "05:20:41 213/300  |   2.9340     0.1018     2.8322 |   0.254947   0.0000e+00 |   0.7224   295           |   2.9406     0.1082     2.8324 |   0.6891   300             |  1.000e-04   0.000e+00 |\n",
      "05:23:06 214/300  |   2.9338     0.1016     2.8322 |   0.254947   0.0000e+00 |   0.7213   295           |   2.9408     0.1082     2.8325 |   0.7040   300             |  1.000e-04   0.000e+00 |\n",
      "05:25:31 215/300  |   2.9336     0.1014     2.8322 |   0.254947   0.0000e+00 |   0.7254   295           |   2.9401     0.1076     2.8325 |   0.6929   300             |  1.000e-04   0.000e+00 |\n",
      "05:27:54 216/300  |   2.9333     0.1012     2.8321 |   0.254947   0.0000e+00 |   0.7232   295           |   2.9399     0.1075     2.8324 |   0.6990   300             |  1.000e-04   0.000e+00 |\n",
      "05:30:20 217/300  |   2.9332     0.1010     2.8321 |   0.243967   0.0000e+00 |   0.7236   295           |   2.9390     0.1074     2.8316 |   0.6993   300             |  1.000e-04   0.000e+00 |\n",
      "05:32:45 218/300  |   2.9320     0.1008     2.8313 |   0.243967   0.0000e+00 |   0.7258   295           |   2.9388     0.1073     2.8315 |   0.7008   300             |  1.000e-04   0.000e+00 |\n",
      "05:35:12 219/300  |   2.9318     0.1006     2.8312 |   0.243967   0.0000e+00 |   0.7274   295           |   2.9385     0.1069     2.8316 |   0.7060   300             |  1.000e-04   0.000e+00 |\n",
      "05:37:38 220/300  |   2.9317     0.1005     2.8312 |   0.243967   0.0000e+00 |   0.7272   295           |   2.9382     0.1067     2.8315 |   0.7153   300             |  1.000e-04   0.000e+00 |\n",
      "05:40:05 221/300  |   2.9314     0.1003     2.8311 |   0.243967   0.0000e+00 |   0.7274   295           |   2.9383     0.1070     2.8314 |   0.6959   300             |  1.000e-04   0.000e+00 |\n",
      "05:42:31 222/300  |   2.9312     0.1001     2.8310 |   0.243967   0.0000e+00 |   0.7272   295           |   2.9381     0.1066     2.8315 |   0.7103   300             |  1.000e-04   0.000e+00 |\n",
      "05:44:55 223/300  |   2.9310     0.1000     2.8310 |   0.243967   0.0000e+00 |   0.7292   295           |   2.9377     0.1063     2.8314 |   0.7266   300             |  1.000e-04   0.000e+00 |\n",
      "05:47:21 224/300  |   2.9309     0.0999     2.8310 |   0.243967   0.0000e+00 |   0.7305   295           |   2.9379     0.1065     2.8313 |   0.6974   300             |  1.000e-04   0.000e+00 |\n",
      "05:49:47 225/300  |   2.9308     0.0999     2.8309 |   0.243967   0.0000e+00 |   0.7291   295           |   2.9379     0.1067     2.8312 |   0.7276   300             |  1.000e-04   0.000e+00 |\n",
      "05:52:13 226/300  |   2.9306     0.0998     2.8308 |   0.243967   0.0000e+00 |   0.7327   295           |   2.9373     0.1062     2.8311 |   0.7027   300             |  1.000e-04   0.000e+00 |\n",
      "05:54:39 227/300  |   2.9304     0.0998     2.8306 |   0.243967   0.0000e+00 |   0.7303   295           |   2.9370     0.1061     2.8309 |   0.7029   300             |  1.000e-04   0.000e+00 |\n",
      "05:57:04 228/300  |   2.9301     0.0996     2.8306 |   0.243967   0.0000e+00 |   0.7302   295           |   2.9367     0.1057     2.8309 |   0.7056   300             |  1.000e-04   0.000e+00 |\n",
      "05:59:29 229/300  |   2.9299     0.0994     2.8305 |   0.243967   0.0000e+00 |   0.7333   295           |   2.9369     0.1060     2.8309 |   0.7342   300             |  1.000e-04   0.000e+00 |\n",
      "06:01:54 230/300  |   2.9298     0.0993     2.8305 |   0.243967   0.0000e+00 |   0.7337   295           |   2.9367     0.1059     2.8308 |   0.6718   300             |  1.000e-04   0.000e+00 |\n",
      "06:04:19 231/300  |   2.9296     0.0991     2.8305 |   0.243967   0.0000e+00 |   0.7295   295           |   2.9366     0.1059     2.8307 |   0.7271   300             |  1.000e-04   0.000e+00 |\n",
      "06:06:44 232/300  |   2.9295     0.0991     2.8304 |   0.243967   0.0000e+00 |   0.7347   295           |   2.9365     0.1057     2.8308 |   0.7181   300             |  1.000e-04   0.000e+00 |\n",
      "06:09:07 233/300  |   2.9294     0.0991     2.8303 |   0.243967   0.0000e+00 |   0.7333   295           |   2.9363     0.1058     2.8305 |   0.7055   300             |  1.000e-04   0.000e+00 |\n",
      "06:11:32 234/300  |   2.9292     0.0990     2.8303 |   0.243967   0.0000e+00 |   0.7356   295           |   2.9362     0.1056     2.8307 |   0.7090   300             |  1.000e-04   0.000e+00 |\n",
      "06:13:59 235/300  |   2.9291     0.0989     2.8302 |   0.243967   0.0000e+00 |   0.7321   295           |   2.9363     0.1058     2.8305 |   0.7285   300             |  1.000e-04   0.000e+00 |\n",
      "06:16:24 236/300  |   2.9289     0.0988     2.8301 |   0.243967   0.0000e+00 |   0.7349   295           |   2.9360     0.1056     2.8304 |   0.6936   300             |  1.000e-04   0.000e+00 |\n",
      "06:18:49 237/300  |   2.9288     0.0988     2.8300 |   0.234223   0.0000e+00 |   0.7346   295           |   2.9351     0.1055     2.8296 |   0.7422   300             |  1.000e-04   0.000e+00 |\n",
      "06:21:13 238/300  |   2.9279     0.0987     2.8292 |   0.234223   0.0000e+00 |   0.7351   295           |   2.9350     0.1055     2.8295 |   0.6988   300             |  1.000e-04   0.000e+00 |\n",
      "06:23:38 239/300  |   2.9278     0.0987     2.8291 |   0.234223   0.0000e+00 |   0.7331   295           |   2.9351     0.1056     2.8295 |   0.7288   300             |  1.000e-04   0.000e+00 |\n",
      "06:26:03 240/300  |   2.9276     0.0986     2.8291 |   0.234223   0.0000e+00 |   0.7354   295           |   2.9344     0.1052     2.8292 |   0.7148   300             |  1.000e-04   0.000e+00 |\n",
      "06:28:27 241/300  |   2.9274     0.0984     2.8290 |   0.234223   0.0000e+00 |   0.7355   295           |   2.9348     0.1053     2.8294 |   0.7064   300             |  1.000e-04   0.000e+00 |\n",
      "06:30:51 242/300  |   2.9273     0.0983     2.8289 |   0.234223   0.0000e+00 |   0.7365   295           |   2.9345     0.1053     2.8292 |   0.7369   300             |  1.000e-04   0.000e+00 |\n",
      "06:33:16 243/300  |   2.9272     0.0983     2.8289 |   0.234223   0.0000e+00 |   0.7364   295           |   2.9347     0.1055     2.8292 |   0.6935   300             |  1.000e-04   0.000e+00 |\n",
      "06:35:40 244/300  |   2.9271     0.0983     2.8288 |   0.234223   0.0000e+00 |   0.7338   295           |   2.9342     0.1051     2.8291 |   0.7296   300             |  1.000e-04   0.000e+00 |\n",
      "06:38:06 245/300  |   2.9269     0.0982     2.8287 |   0.234223   0.0000e+00 |   0.7382   295           |   2.9340     0.1050     2.8291 |   0.7107   300             |  1.000e-04   0.000e+00 |\n",
      "06:40:32 246/300  |   2.9267     0.0981     2.8287 |   0.234223   0.0000e+00 |   0.7355   295           |   2.9338     0.1048     2.8290 |   0.7180   300             |  1.000e-04   0.000e+00 |\n",
      "06:42:57 247/300  |   2.9266     0.0980     2.8286 |   0.234223   0.0000e+00 |   0.7374   295           |   2.9338     0.1049     2.8289 |   0.7065   300             |  1.000e-04   0.000e+00 |\n",
      "06:45:24 248/300  |   2.9265     0.0980     2.8285 |   0.234223   0.0000e+00 |   0.7386   295           |   2.9338     0.1051     2.8287 |   0.7115   300             |  1.000e-04   0.000e+00 |\n",
      "06:47:49 249/300  |   2.9263     0.0980     2.8284 |   0.234223   0.0000e+00 |   0.7364   295           |   2.9335     0.1048     2.8287 |   0.7053   300             |  1.000e-04   0.000e+00 |\n",
      "06:50:15 250/300  |   2.9262     0.0979     2.8283 |   0.234223   0.0000e+00 |   0.7378   295           |   2.9338     0.1053     2.8285 |   0.7241   300             |  1.000e-04   0.000e+00 |\n",
      "06:52:41 251/300  |   2.9261     0.0978     2.8282 |   0.225502   0.0000e+00 |   0.7381   295           |   2.9327     0.1048     2.8279 |   0.7192   300             |  1.000e-04   0.000e+00 |\n",
      "06:55:08 252/300  |   2.9252     0.0979     2.8273 |   0.225502   0.0000e+00 |   0.7397   295           |   2.9324     0.1048     2.8276 |   0.7185   300             |  1.000e-04   0.000e+00 |\n",
      "06:57:33 253/300  |   2.9251     0.0978     2.8273 |   0.225502   0.0000e+00 |   0.7353   295           |   2.9324     0.1048     2.8276 |   0.7084   300             |  1.000e-04   0.000e+00 |\n",
      "06:59:58 254/300  |   2.9248     0.0976     2.8272 |   0.225502   0.0000e+00 |   0.7390   295           |   2.9320     0.1044     2.8275 |   0.7254   300             |  1.000e-04   0.000e+00 |\n",
      "07:02:22 255/300  |   2.9247     0.0975     2.8272 |   0.225502   0.0000e+00 |   0.7378   295           |   2.9319     0.1045     2.8274 |   0.7164   300             |  1.000e-04   0.000e+00 |\n",
      "07:04:46 256/300  |   2.9247     0.0975     2.8272 |   0.225502   0.0000e+00 |   0.7387   295           |   2.9323     0.1048     2.8274 |   0.7119   300             |  1.000e-04   0.000e+00 |\n",
      "07:07:11 257/300  |   2.9245     0.0975     2.8271 |   0.225502   0.0000e+00 |   0.7388   295           |   2.9320     0.1046     2.8274 |   0.7237   300             |  1.000e-04   0.000e+00 |\n",
      "07:09:37 258/300  |   2.9245     0.0974     2.8270 |   0.225502   0.0000e+00 |   0.7387   295           |   2.9317     0.1045     2.8272 |   0.7271   300             |  1.000e-04   0.000e+00 |\n",
      "07:12:03 259/300  |   2.9243     0.0973     2.8269 |   0.225502   0.0000e+00 |   0.7380   295           |   2.9314     0.1042     2.8273 |   0.7042   300             |  1.000e-04   0.000e+00 |\n",
      "07:14:28 260/300  |   2.9242     0.0972     2.8269 |   0.225502   0.0000e+00 |   0.7395   295           |   2.9313     0.1042     2.8271 |   0.7173   300             |  1.000e-04   0.000e+00 |\n",
      "07:16:54 261/300  |   2.9239     0.0971     2.8269 |   0.225502   0.0000e+00 |   0.7393   295           |   2.9312     0.1040     2.8272 |   0.7219   300             |  1.000e-04   0.000e+00 |\n",
      "07:19:19 262/300  |   2.9239     0.0970     2.8269 |   0.225502   0.0000e+00 |   0.7408   295           |   2.9311     0.1041     2.8269 |   0.7189   300             |  1.000e-04   0.000e+00 |\n",
      "07:21:43 263/300  |   2.9238     0.0970     2.8268 |   0.225502   0.0000e+00 |   0.7392   295           |   2.9311     0.1041     2.8270 |   0.7152   300             |  1.000e-04   0.000e+00 |\n",
      "07:24:08 264/300  |   2.9237     0.0969     2.8268 |   0.217638   0.0000e+00 |   0.7404   295           |   2.9303     0.1040     2.8263 |   0.7349   300             |  1.000e-04   0.000e+00 |\n",
      "07:26:34 265/300  |   2.9228     0.0968     2.8259 |   0.217638   0.0000e+00 |   0.7401   295           |   2.9300     0.1039     2.8261 |   0.7038   300             |  1.000e-04   0.000e+00 |\n",
      "07:29:00 266/300  |   2.9226     0.0968     2.8259 |   0.217638   0.0000e+00 |   0.7403   295           |   2.9303     0.1040     2.8263 |   0.7371   300             |  1.000e-04   0.000e+00 |\n",
      "07:31:25 267/300  |   2.9225     0.0967     2.8258 |   0.217638   0.0000e+00 |   0.7417   295           |   2.9297     0.1037     2.8260 |   0.7055   300             |  1.000e-04   0.000e+00 |\n",
      "07:33:51 268/300  |   2.9224     0.0966     2.8257 |   0.217638   0.0000e+00 |   0.7388   295           |   2.9298     0.1038     2.8260 |   0.7107   300             |  1.000e-04   0.000e+00 |\n",
      "07:36:15 269/300  |   2.9222     0.0965     2.8257 |   0.217638   0.0000e+00 |   0.7414   295           |   2.9295     0.1037     2.8258 |   0.7180   300             |  1.000e-04   0.000e+00 |\n",
      "07:38:40 270/300  |   2.9221     0.0964     2.8256 |   0.217638   0.0000e+00 |   0.7421   295           |   2.9294     0.1034     2.8260 |   0.7075   300             |  1.000e-04   0.000e+00 |\n",
      "07:41:04 271/300  |   2.9220     0.0964     2.8256 |   0.217638   0.0000e+00 |   0.7393   295           |   2.9294     0.1035     2.8259 |   0.7206   300             |  1.000e-04   0.000e+00 |\n",
      "07:43:30 272/300  |   2.9219     0.0964     2.8255 |   0.217638   0.0000e+00 |   0.7421   295           |   2.9292     0.1036     2.8257 |   0.7299   300             |  1.000e-04   0.000e+00 |\n",
      "07:45:54 273/300  |   2.9218     0.0964     2.8253 |   0.217638   0.0000e+00 |   0.7406   295           |   2.9290     0.1036     2.8254 |   0.7217   300             |  1.000e-04   0.000e+00 |\n",
      "07:48:20 274/300  |   2.9215     0.0963     2.8252 |   0.217638   0.0000e+00 |   0.7422   295           |   2.9289     0.1034     2.8255 |   0.7095   300             |  1.000e-04   0.000e+00 |\n",
      "07:50:45 275/300  |   2.9213     0.0961     2.8252 |   0.217638   0.0000e+00 |   0.7377   295           |   2.9289     0.1035     2.8254 |   0.7223   300             |  1.000e-04   0.000e+00 |\n",
      "07:53:11 276/300  |   2.9213     0.0961     2.8252 |   0.217638   0.0000e+00 |   0.7426   295           |   2.9288     0.1034     2.8254 |   0.7347   300             |  1.000e-04   0.000e+00 |\n",
      "07:55:36 277/300  |   2.9211     0.0961     2.8250 |   0.217638   0.0000e+00 |   0.7413   295           |   2.9284     0.1033     2.8251 |   0.7096   300             |  1.000e-04   0.000e+00 |\n",
      "07:58:00 278/300  |   2.9210     0.0961     2.8249 |   0.217638   0.0000e+00 |   0.7431   295           |   2.9282     0.1031     2.8250 |   0.7193   300             |  1.000e-04   0.000e+00 |\n",
      "08:00:25 279/300  |   2.9208     0.0959     2.8249 |   0.217638   0.0000e+00 |   0.7433   295           |   2.9281     0.1031     2.8250 |   0.7273   300             |  1.000e-04   0.000e+00 |\n",
      "08:02:48 280/300  |   2.9206     0.0959     2.8248 |   0.217638   0.0000e+00 |   0.7413   295           |   2.9280     0.1030     2.8250 |   0.7165   300             |  1.000e-04   0.000e+00 |\n",
      "08:05:13 281/300  |   2.9206     0.0958     2.8247 |   0.210500   0.0000e+00 |   0.7433   295           |   2.9273     0.1033     2.8241 |   0.7322   300             |  1.000e-04   0.000e+00 |\n",
      "08:07:37 282/300  |   2.9197     0.0958     2.8238 |   0.210500   0.0000e+00 |   0.7421   295           |   2.9272     0.1032     2.8241 |   0.7359   300             |  1.000e-04   0.000e+00 |\n",
      "08:10:02 283/300  |   2.9195     0.0958     2.8237 |   0.210500   0.0000e+00 |   0.7419   295           |   2.9270     0.1032     2.8238 |   0.7204   300             |  1.000e-04   0.000e+00 |\n",
      "08:12:28 284/300  |   2.9194     0.0958     2.8236 |   0.210500   0.0000e+00 |   0.7445   295           |   2.9269     0.1031     2.8238 |   0.7393   300             |  1.000e-04   0.000e+00 |\n",
      "08:14:54 285/300  |   2.9192     0.0957     2.8235 |   0.210500   0.0000e+00 |   0.7462   295           |   2.9266     0.1030     2.8236 |   0.7287   300             |  1.000e-04   0.000e+00 |\n",
      "08:17:20 286/300  |   2.9191     0.0957     2.8234 |   0.210500   0.0000e+00 |   0.7419   295           |   2.9267     0.1030     2.8238 |   0.7186   300             |  1.000e-04   0.000e+00 |\n",
      "08:19:44 287/300  |   2.9189     0.0957     2.8233 |   0.210500   0.0000e+00 |   0.7437   295           |   2.9262     0.1027     2.8235 |   0.7235   300             |  1.000e-04   0.000e+00 |\n",
      "08:22:10 288/300  |   2.9188     0.0956     2.8233 |   0.210500   0.0000e+00 |   0.7452   295           |   2.9267     0.1031     2.8236 |   0.7259   300             |  1.000e-04   0.000e+00 |\n",
      "08:24:35 289/300  |   2.9187     0.0955     2.8232 |   0.210500   0.0000e+00 |   0.7461   295           |   2.9260     0.1028     2.8231 |   0.7154   300             |  1.000e-04   0.000e+00 |\n",
      "08:27:00 290/300  |   2.9184     0.0954     2.8230 |   0.210500   0.0000e+00 |   0.7439   295           |   2.9263     0.1031     2.8232 |   0.7302   300             |  1.000e-04   0.000e+00 |\n",
      "08:29:24 291/300  |   2.9182     0.0953     2.8229 |   0.210500   0.0000e+00 |   0.7453   295           |   2.9257     0.1026     2.8231 |   0.7092   300             |  1.000e-04   0.000e+00 |\n",
      "08:31:49 292/300  |   2.9181     0.0953     2.8228 |   0.210500   0.0000e+00 |   0.7434   295           |   2.9255     0.1024     2.8230 |   0.7259   300             |  1.000e-04   0.000e+00 |\n",
      "08:34:14 293/300  |   2.9179     0.0952     2.8227 |   0.210500   0.0000e+00 |   0.7467   295           |   2.9253     0.1026     2.8227 |   0.7201   300             |  1.000e-04   0.000e+00 |\n",
      "08:36:39 294/300  |   2.9178     0.0952     2.8226 |   0.210500   0.0000e+00 |   0.7450   295           |   2.9253     0.1026     2.8227 |   0.7188   300             |  1.000e-04   0.000e+00 |\n",
      "08:39:05 295/300  |   2.9176     0.0951     2.8225 |   0.210500   0.0000e+00 |   0.7489   295           |   2.9251     0.1024     2.8226 |   0.7246   300             |  1.000e-04   0.000e+00 |\n",
      "08:41:30 296/300  |   2.9175     0.0951     2.8224 |   0.203986   0.0000e+00 |   0.7443   295           |   2.9246     0.1029     2.8217 |   0.7255   300             |  1.000e-04   0.000e+00 |\n",
      "08:43:57 297/300  |   2.9165     0.0950     2.8214 |   0.203986   0.0000e+00 |   0.7483   295           |   2.9239     0.1024     2.8215 |   0.7289   300             |  1.000e-04   0.000e+00 |\n",
      "08:46:23 298/300  |   2.9163     0.0949     2.8214 |   0.203986   0.0000e+00 |   0.7446   295           |   2.9238     0.1023     2.8215 |   0.7244   300             |  1.000e-04   0.000e+00 |\n",
      "08:48:50 299/300  |   2.9161     0.0947     2.8213 |   0.203986   0.0000e+00 |   0.7485   295           |   2.9235     0.1021     2.8215 |   0.7150   300             |  1.000e-04   0.000e+00 |\n",
      "08:51:17 300/300  |   2.9159     0.0947     2.8212 |   0.203986   0.0000e+00 |   0.7457   295           |   2.9235     0.1020     2.8215 |   0.7429   300             |  1.000e-04   0.000e+00 |\n"
     ]
    }
   ],
   "source": [
    "for epoch in range(model.ending_epoch):\n",
    "    display_epoch_metrics(model, epoch)"
   ]
  },
  {
   "cell_type": "code",
   "execution_count": 37,
   "id": "03e71f2a-4b3c-4554-8cb8-e4a25d56db61",
   "metadata": {
    "execution": {
     "iopub.execute_input": "2024-07-09T15:50:15.138015Z",
     "iopub.status.busy": "2024-07-09T15:50:15.137540Z",
     "iopub.status.idle": "2024-07-09T15:50:15.184298Z",
     "shell.execute_reply": "2024-07-09T15:50:15.183392Z",
     "shell.execute_reply.started": "2024-07-09T15:50:15.137974Z"
    }
   },
   "outputs": [
    {
     "name": "stdout",
     "output_type": "stream",
     "text": [
      " 20240709_175015  epoch  301 of  400\n"
     ]
    }
   ],
   "source": [
    "# model.starting_epoch = 59\n",
    "# epochs = 100\n",
    "# model.ending_epoch = 100\n",
    "model.starting_epoch = model.ending_epoch\n",
    "model.ending_epoch += 100\n",
    "\n",
    "print(f\" {datetime.now().strftime('%Y%m%d_%H%M%S')}  epoch {model.starting_epoch+1:4d} of {model.ending_epoch:4d}\")"
   ]
  },
  {
   "cell_type": "markdown",
   "id": "d989aa94-f3ce-4ece-8467-75d6028f66cc",
   "metadata": {
    "jp-MarkdownHeadingCollapsed": true
   },
   "source": [
    "## Misc stuff"
   ]
  },
  {
   "cell_type": "code",
   "execution_count": null,
   "id": "7b508dd5-2754-4906-9e1e-72c755e90592",
   "metadata": {},
   "outputs": [],
   "source": [
    "# save_checkpoint_v3(1, model, args, update_latest=True)  "
   ]
  },
  {
   "cell_type": "code",
   "execution_count": null,
   "id": "7f79f504-b6a9-49c6-96a8-95dedace8b88",
   "metadata": {},
   "outputs": [],
   "source": [
    "# model.temperature.data\n",
    "# model.snnl_criterion.temperature\n",
    "display_epoch_metrics(model, epoch, model.ending_epoch, header = True)"
   ]
  },
  {
   "cell_type": "code",
   "execution_count": null,
   "id": "fec14ff8-91aa-409d-b381-8e6344c7e385",
   "metadata": {},
   "outputs": [],
   "source": [
    "# model.starting_epoch, model.ending_epoch = 0, 2\n",
    "# epoch = 1\n",
    "# model.temperature = torch.abs(model.temperature)\n",
    "# model.temperature = torch.nn.Parameter(torch.clip(model.temperature, 0.001, None))\n",
    "# model.snnl_criterion.temperature= torch.nn.Parameter(torch.clip(model.snnl_criterion.temperature, 0.001, None))"
   ]
  },
  {
   "cell_type": "code",
   "execution_count": null,
   "id": "da9d2e60-6a22-4959-9cd1-c58ec2ac987a",
   "metadata": {},
   "outputs": [],
   "source": [
    "# model.temperature.data\n",
    "# model.snnl_criterion.temperature"
   ]
  },
  {
   "cell_type": "code",
   "execution_count": null,
   "id": "4cb33f46-7cda-4178-b435-9a9bcd9f52f0",
   "metadata": {},
   "outputs": [],
   "source": [
    "# model.starting_epoch, model.ending_epoch = 0, 2\n",
    "# epoch = 1\n",
    "# model.temperature = torch.abs(model.temperature)\n",
    "# model.temperature = torch.nn.Parameter(torch.clip(model.temperature, 0.001, None))\n",
    "# model.snnl_criterion.temperature= torch.nn.Parameter(torch.clip(model.snnl_criterion.temperature, 0.001, None))"
   ]
  },
  {
   "cell_type": "code",
   "execution_count": null,
   "id": "fbe95719-d1e2-46fd-984c-51c47775609c",
   "metadata": {},
   "outputs": [],
   "source": [
    "model.state_dict().keys()\n",
    "# for k in ['temperature', 'snnl_criterion.temperature'\n",
    "for k in ['temperature', 'snnl_criterion.temperature','layers.0.weight', 'layers.0.bias','layers.2.weight','layers.4.weight','layers.4.bias','layers.5.weight','layers.5.bias','layers.7.weight','layers.9.weight','layers.9.bias',]:\n",
    "    if model.state_dict()[k].ndim > 1:\n",
    "        print(f\" {k+' - '+str(model.state_dict()[k].shape):45s} - {model.state_dict()[k][:3,:3].reshape((-1)).data}\")\n",
    "    else:\n",
    "        print(f\" {k+' - '+str(model.state_dict()[k].shape):45s} - {model.state_dict()[k][:9].data}\")\n"
   ]
  },
  {
   "cell_type": "code",
   "execution_count": null,
   "id": "f21452ed-9eb6-42f7-bc00-8e3a3ce7d9b6",
   "metadata": {},
   "outputs": [],
   "source": []
  },
  {
   "cell_type": "code",
   "execution_count": null,
   "id": "8ce2e264-519c-45f5-b5f1-ad8fe822e26e",
   "metadata": {},
   "outputs": [],
   "source": []
  },
  {
   "cell_type": "markdown",
   "id": "9d7f6ece-b0e4-4e64-bc35-928a3c3f961d",
   "metadata": {},
   "source": [
    "# Plot losses, weights, biases and gradients"
   ]
  },
  {
   "cell_type": "code",
   "execution_count": null,
   "id": "abc9b289-e042-4243-a2b4-c76751589ac3",
   "metadata": {},
   "outputs": [],
   "source": [
    "# if 0:\n",
    "#     model_attributes = model.__dict__\n",
    "#     model.training_history['train'].keys()\n",
    "#     for key, value in model.training_history['train'].items():\n",
    "#         if isinstance(value, List) or key in [\"test_accuracy\", \"test_f1\"]:\n",
    "#             print(f\"{key:25s} {type(value)}  {len(value):7d}  {value[-5:]}\")\n",
    "#     print()\n",
    "#     for key, value in model.training_history['val'].items():\n",
    "#         if isinstance(value, List) or key in [\"test_accuracy\", \"test_f1\"]:\n",
    "#             print(f\"{key:25s} {type(value)}  {len(value):7d}  {value[-5:]}\")        "
   ]
  },
  {
   "cell_type": "code",
   "execution_count": null,
   "id": "fbb441d8-ba3d-4540-abcc-e40aaaa3dd2e",
   "metadata": {},
   "outputs": [],
   "source": [
    "# tmp = np.array(model.training_history['train']['temp_grads'])\n",
    "# for st in range(0,len(tmp), 1000):\n",
    "#     end = st + 1000\n",
    "#     print(f\" {st:5d} - {end:5d}  min: {tmp[st:end].min():9e}   max: {tmp[st:end].max():9e}    avg: {tmp[st:end].mean():9e}   std: {tmp[st:end].std():9e}\")"
   ]
  },
  {
   "cell_type": "code",
   "execution_count": 35,
   "id": "2bc8de25-ddde-4d2c-b97f-1da1d375c991",
   "metadata": {
    "execution": {
     "iopub.execute_input": "2024-07-09T15:49:38.335759Z",
     "iopub.status.busy": "2024-07-09T15:49:38.335284Z",
     "iopub.status.idle": "2024-07-09T15:49:39.199960Z",
     "shell.execute_reply": "2024-07-09T15:49:39.198941Z",
     "shell.execute_reply.started": "2024-07-09T15:49:38.335718Z"
    },
    "scrolled": true
   },
   "outputs": [
    {
     "data": {
      "image/png": "[encoded data removed]",
      "text/plain": [
       "<Figure size 2000x400 with 5 Axes>"
      ]
     },
     "metadata": {},
     "output_type": "display_data"
    }
   ],
   "source": [
    "plot_train_history(model, start= 0, n_bins = 25)"
   ]
  },
  {
   "cell_type": "code",
   "execution_count": null,
   "id": "533b465a-6b4a-4696-a014-793b8f7df079",
   "metadata": {
    "scrolled": true
   },
   "outputs": [],
   "source": [
    "plot_train_history(model, start= 0, n_bins = 25)"
   ]
  },
  {
   "cell_type": "code",
   "execution_count": null,
   "id": "85774d06-9f14-4b02-b0c6-b8c60ba92ffa",
   "metadata": {
    "jupyter": {
     "source_hidden": true
    },
    "scrolled": true
   },
   "outputs": [],
   "source": [
    "plot_train_history(model, start= 0, n_bins = 25)"
   ]
  },
  {
   "cell_type": "code",
   "execution_count": null,
   "id": "f6b91b33-81bd-47e8-aa8e-bda1bd4d4583",
   "metadata": {
    "scrolled": true
   },
   "outputs": [],
   "source": [
    "plot_train_history(model, start= 100, n_bins = 25)"
   ]
  },
  {
   "cell_type": "code",
   "execution_count": null,
   "id": "5d4eae70-3b13-4893-b485-f8ad87b4cd68",
   "metadata": {
    "scrolled": true
   },
   "outputs": [],
   "source": [
    "plot_train_history(model, start= 10, n_bins = 25)"
   ]
  },
  {
   "cell_type": "code",
   "execution_count": null,
   "id": "bc760f53-8449-4d3a-a274-f11108ed4784",
   "metadata": {
    "scrolled": true
   },
   "outputs": [],
   "source": [
    "plot_train_history(model, start= 10, n_bins = 25)"
   ]
  },
  {
   "cell_type": "code",
   "execution_count": null,
   "id": "7f50fdb6-0457-4cd3-b958-65bb44e4216d",
   "metadata": {},
   "outputs": [],
   "source": [
    "plot_model_parms(model, epochs= epochs, n_bins = 15)"
   ]
  },
  {
   "cell_type": "code",
   "execution_count": 36,
   "id": "f992e4e5-ea68-4617-8c16-01dfc22f6b94",
   "metadata": {
    "execution": {
     "iopub.execute_input": "2024-07-09T15:50:06.224226Z",
     "iopub.status.busy": "2024-07-09T15:50:06.223752Z",
     "iopub.status.idle": "2024-07-09T15:50:06.498966Z",
     "shell.execute_reply": "2024-07-09T15:50:06.497888Z",
     "shell.execute_reply.started": "2024-07-09T15:50:06.224185Z"
    },
    "scrolled": true
   },
   "outputs": [
    {
     "data": {
      "image/png": "[encoded data removed]",
      "text/plain": [
       "<Figure size 400x400 with 1 Axes>"
      ]
     },
     "metadata": {},
     "output_type": "display_data"
    }
   ],
   "source": [
    "from snnl.utils import plot_regression_metrics\n",
    "# plot_train_metrics(model, n_bins = 25)\n",
    "plot_regression_metrics(model, n_bins = 25)"
   ]
  },
  {
   "cell_type": "markdown",
   "id": "21726628-2b16-477a-bfe7-0a0ac53130eb",
   "metadata": {
    "jp-MarkdownHeadingCollapsed": true
   },
   "source": [
    "# Save model results and model"
   ]
  },
  {
   "cell_type": "code",
   "execution_count": null,
   "id": "a4bb9a8d-9d90-40e8-90d1-9e970497568b",
   "metadata": {},
   "outputs": [],
   "source": [
    "# import datetime.timezone\n",
    "# datetime.timetz()\n",
    "compounds_per_batch = cellpainting_args['compounds_per_batch']\n",
    "title=\"autoencoder\"\n",
    "epochs_num = epochs\n",
    "timestamp = datetime.now().strftime('%Y%m%d')\n",
    "filename = f\"AE_{args.model.lower()}_{timestamp}_{title}_{epochs_num:03d}_cpb_{compounds_per_batch}_factor_{int(snnl_factor):d}\"\n",
    "print(f\"saved to {filename}\")"
   ]
  },
  {
   "cell_type": "code",
   "execution_count": null,
   "id": "8364b7ba-8d33-41ac-b30f-0c39759a9772",
   "metadata": {},
   "outputs": [],
   "source": [
    "# save_model(model, filename)\n",
    "# export_results(model=model, filename=filename)\n",
    "# save_checkpoint(epochs, model, filename, update_latest=False, update_best=False)"
   ]
  },
  {
   "cell_type": "code",
   "execution_count": null,
   "id": "5738408d-29ca-46b4-8c79-6f184958acf0",
   "metadata": {},
   "outputs": [],
   "source": [
    "model.name\n",
    "args.runmode\n",
    "ex_timestamp\n",
    "ex_title\n",
    "epoch\n",
    "args.compounds_per_batch\n",
    "model.snnl_factor"
   ]
  },
  {
   "cell_type": "code",
   "execution_count": null,
   "id": "393af8c8-cf02-455f-a810-b68a7637c07e",
   "metadata": {},
   "outputs": [],
   "source": [
    "filename = f\"{model.name}_{args.runmode}_{args.exp_date}_{args.exp_title}_ep_{epoch+1:03d}\"\n",
    "print(filename)"
   ]
  },
  {
   "cell_type": "code",
   "execution_count": null,
   "id": "38e9d094-6432-4eb7-9ce7-f07b01a01a87",
   "metadata": {},
   "outputs": [],
   "source": [
    "filename = f\"{model.name}_{args.model.lower()}_{ex_timestamp}_{ex_title}_{epoch+1:03d}_cpb_{args.compounds_per_batch}_copy\"\n",
    "print(filename)\n",
    "    # export_results(model=model, filename=filename)\n",
    "save_checkpoint_2(epochs, model, filename, update_latest=False, update_best=False)  "
   ]
  },
  {
   "cell_type": "markdown",
   "id": "75fb4184-7640-4cc5-bf19-249ebb9fc072",
   "metadata": {
    "execution": {
     "iopub.execute_input": "2024-04-01T00:58:52.961399Z",
     "iopub.status.busy": "2024-04-01T00:58:52.960920Z"
    },
    "jp-MarkdownHeadingCollapsed": true
   },
   "source": [
    "# Load model"
   ]
  },
  {
   "cell_type": "code",
   "execution_count": null,
   "id": "c914b200-c783-4477-9ca7-3370a23ec595",
   "metadata": {},
   "outputs": [],
   "source": [
    "ex_epoch = 50\n",
    "ex_runmode = 'snnl'\n",
    "ex_date = '20240509'\n",
    "ex_title = args.exp_title\n",
    "compounds_per_batch = args.compounds_per_batch\n"
   ]
  },
  {
   "cell_type": "code",
   "execution_count": null,
   "id": "4e833db8-a709-4f76-9346-fd582b95ab70",
   "metadata": {},
   "outputs": [],
   "source": [
    "# filename = f\"{model.name}_{ex_runmode}_{ex_date}_{ex_title}_{epochs:03d}_cpb_{ex_cpb}_factor_{ex_factor:d}.pt\"\n",
    "# file_pattern = f\"{model.name}_{ex_runmode}_{ex_date}_{ex_title}_*_cpb_{ex_cpb}_factor_{ex_factor:d}.pt\"\n",
    "filename = f\"{model.name}_{ex_runmode}_{ex_date}_{ex_title}_{epochs:03d}.pt\"\n",
    "print(filename)\n",
    "file_pattern = f\"{model.name}_{ex_runmode}_{ex_date}_{ex_title}_ep_*.pt\"\n",
    "print(file_pattern)"
   ]
  },
  {
   "cell_type": "code",
   "execution_count": null,
   "id": "52e8f566-6c23-496e-a8ec-08d0e2e2a51b",
   "metadata": {},
   "outputs": [],
   "source": [
    "import glob\n",
    "filelist = glob.glob(file_pattern,root_dir = './ckpts')\n",
    "filelist = sorted(filelist)\n",
    "filelist\n",
    "epochlist =sorted([int(x[-6:-3]) for x in filelist])\n",
    "epochlist\n",
    " "
   ]
  },
  {
   "cell_type": "code",
   "execution_count": null,
   "id": "a14169e7-a006-4582-9a6c-586a58b590b4",
   "metadata": {},
   "outputs": [],
   "source": [
    "# runmode = 'snnl'\n",
    "# ex_date = '20240516'\n",
    "# ex_title = args.exp_title\n",
    "ex_epoch = 200"
   ]
  },
  {
   "cell_type": "code",
   "execution_count": null,
   "id": "a71ca7cd-8258-49ca-b2d6-16268bd34dc7",
   "metadata": {},
   "outputs": [],
   "source": [
    "filename = f\"{model.name}_{args.runmode}_{exp_date}_{exp_title}_ep_{exp_epoch:03d}\"   \n",
    "if filename[-3:] != '.pt':\n",
    "    filename+='.pt'\n",
    "print(filename)\n",
    "\n",
    "if os.path.exists(os.path.join('ckpts', filename)):\n",
    "    print(f\"\\n *** Checkpoint EXISTS *** \\n\")\n",
    "else:\n",
    "    print(f\"\\n *** Checkpoint DOESNT EXIST *** \\n\")"
   ]
  },
  {
   "cell_type": "code",
   "execution_count": null,
   "id": "2d6a57df-2a6c-4ca5-8bc0-0672d1c03901",
   "metadata": {
    "scrolled": true
   },
   "outputs": [],
   "source": [
    "mdl , last_epoch = load_checkpoint_v2(model, filename)  \n",
    "print(f\" last epoch : {last_epoch}\")"
   ]
  },
  {
   "cell_type": "code",
   "execution_count": null,
   "id": "e2d9ae15-ccde-43b4-b7ae-75c3c2ffe377",
   "metadata": {},
   "outputs": [],
   "source": [
    "print(current_device)\n",
    "print(model.device)\n",
    "model.device = current_device\n",
    "print(model.device)"
   ]
  },
  {
   "cell_type": "code",
   "execution_count": null,
   "id": "00c841d7-6d85-438c-a7da-e8026fb4f644",
   "metadata": {},
   "outputs": [],
   "source": [
    "print(current_device)\n",
    "model.train()\n",
    "model = model.cuda(device=current_device)"
   ]
  },
  {
   "cell_type": "code",
   "execution_count": null,
   "id": "a2ddb4f9-b6fa-4c44-8cef-ccdaa99ce49b",
   "metadata": {},
   "outputs": [],
   "source": [
    "starting_epoch, epochs, "
   ]
  },
  {
   "cell_type": "code",
   "execution_count": null,
   "id": "25b03053-b090-4116-898a-acbfb8add271",
   "metadata": {},
   "outputs": [],
   "source": [
    "print(f\" last epoch  {last_epoch}\")"
   ]
  },
  {
   "cell_type": "code",
   "execution_count": null,
   "id": "eb1241f9-4ad1-425f-8526-43c5cd89859c",
   "metadata": {},
   "outputs": [],
   "source": [
    "# starting_epoch = 20\n",
    "starting_epoch = last_epoch\n",
    "epochs = last_epoch + 100\n",
    "# starting_epoch = epoch + 1\n",
    "print(f\" run epochs {starting_epoch+1} to {epochs} \")"
   ]
  },
  {
   "cell_type": "code",
   "execution_count": null,
   "id": "361a2ba1-0bac-4ff8-aa08-950fe7fe2302",
   "metadata": {},
   "outputs": [],
   "source": [
    "print()\n",
    "print(f\" model device         : {model.device}\")\n",
    "print(f\" model temperature    : {model.temperature}\")\n",
    "print() \n",
    "print(f\" loss_factor          : {model.loss_factor}\")\n",
    "print(f\" monitor_grads_layer  : {model.monitor_grads_layer}\")\n",
    "print(f\" Learning rate        : {model.optimizer.param_groups[0]['lr']}\") \n",
    "print(f\" snnl_factor          : {model.snnl_factor}\")\n",
    "if model.use_snnl:\n",
    "    print(f\" temperature          : {model.temperature.item()}\")\n",
    "if model.temp_optimizer is not None:\n",
    "    print(f\" Temperature LR       : {model.temp_optimizer.param_groups[0]['lr']}\") \n",
    "print()\n",
    "\n",
    "for th_key in ['trn', 'val']:\n",
    "    for k,v in model.training_history[th_key].items():\n",
    "        if isinstance(v[-1],str):\n",
    "            print(f\" {k:20s} : {v[-1]:s}  \")\n",
    "        else:\n",
    "            print(f\" {k:20s} : {v[-1]:6f} \")\n",
    "    print()\n"
   ]
  },
  {
   "cell_type": "code",
   "execution_count": null,
   "id": "6a4b320a-e40a-47b2-886f-6130c314afb8",
   "metadata": {
    "scrolled": true
   },
   "outputs": [],
   "source": [
    "model.optimizer.__dict__\n",
    "print()"
   ]
  },
  {
   "cell_type": "code",
   "execution_count": null,
   "id": "903b5c7a-4271-4659-857d-29ee395daedc",
   "metadata": {},
   "outputs": [],
   "source": [
    "model.scheduler.__dict__"
   ]
  },
  {
   "cell_type": "code",
   "execution_count": null,
   "id": "35c66518-e1f1-4c19-9aa0-27bb21a0c68d",
   "metadata": {
    "scrolled": true
   },
   "outputs": [],
   "source": [
    "model.temp_optimizer.__dict__\n",
    "print()"
   ]
  },
  {
   "cell_type": "code",
   "execution_count": null,
   "id": "5cbf6a8e-28bd-461e-ac24-0f9ba13858b1",
   "metadata": {
    "scrolled": true
   },
   "outputs": [],
   "source": [
    "model.temp_scheduler.__dict__"
   ]
  },
  {
   "cell_type": "markdown",
   "id": "e3e262c8-1ce5-44b8-9068-35c71d7123ab",
   "metadata": {},
   "source": [
    "# Misc code"
   ]
  },
  {
   "cell_type": "code",
   "execution_count": null,
   "id": "cc884bcb-58de-427c-979a-c6cc15ed0aa2",
   "metadata": {},
   "outputs": [],
   "source": [
    "if # model_attributes = model.__dict__\n",
    "# from collections import defaultdict\n",
    "# output = defaultdict(dict)\n",
    "\n",
    "# for key, value in model_attributes.items():\n",
    "#         if key[0] == \"_\" or type(value) in [torch.device, torch.optim.Adam , torch.optim.SGD]:\n",
    "#             continue\n",
    "#         if key == 'training_history':\n",
    "#             output[key] = value\n",
    "#         else:\n",
    "#             output['params'][key] = value\n",
    "#             print(f\" {key:30s}    {type(value)}   \")\n",
    "\n",
    "# output.keys()\n",
    "# output['params']\n",
    "# output['training_history'].keys()"
   ]
  },
  {
   "cell_type": "code",
   "execution_count": null,
   "id": "41a232e9-2360-4f04-811a-73533f0b5817",
   "metadata": {},
   "outputs": [],
   "source": [
    "# for k in results.keys():\n",
    "#     print(f\" key: {k:30s}  length of - loaded results: {len(results[k])}  existing model: {len(model.__dict__[k])}\" )\n",
    "#     model.__dict__[k] = results[k]"
   ]
  },
  {
   "cell_type": "code",
   "execution_count": null,
   "id": "49bbef6c-e864-4f37-be75-c0a71b40ca6b",
   "metadata": {},
   "outputs": [],
   "source": [
    "# for key in ['trn', 'val']:\n",
    "#     del_keys = []\n",
    "#     for k,v in model.training_history[key].items():\n",
    "#         print(k, len(v))\n",
    "#         if len(v) == 0 :\n",
    "#             del_keys.append(k)\n",
    "#     del_keys\n",
    "#     for k in del_keys:    \n",
    "#         del  model.training_history[key][k]\n",
    "#     print('-----------------------')\n",
    "\n",
    "# model.training_history['val'].keys()\n",
    "# np.argmin(model.training_history['trn']['trn_ttl_loss']), np.min(model.training_history['trn']['trn_ttl_loss'] )\n",
    "# np.argmin(model.training_history['trn']['trn_prim_loss']),np.min(model.training_history['trn']['trn_prim_loss']), np.min(model.training_history['trn']['trn_prim_loss'])  / model.loss_factor\n",
    "# np.argmin(model.training_history['trn']['trn_snn_loss']), np.min(model.training_history['trn']['trn_snn_loss'] ),  np.min(model.training_history['trn']['trn_snn_loss'] ) / model.snnl_factor\n",
    "# print()\n",
    "# np.argmin(model.training_history['val']['val_ttl_loss']) , np.min(model.training_history['val']['val_ttl_loss'] )\n",
    "# np.argmin(model.training_history['val']['val_prim_loss']), np.min(model.training_history['val']['val_prim_loss']), np.min(model.training_history['val']['val_prim_loss']) / model.loss_factor\n",
    "# np.argmin(model.training_history['val']['val_snn_loss']) , np.min(model.training_history['val']['val_snn_loss'] ), np.min(model.training_history['val']['val_snn_loss'] ) / model.snnl_factor\n",
    "\n",
    "# model.optimizer\n",
    "# model.optimizer.state_dict()\n",
    "# model.optimizer.param_groups[0]['lr'], model.optimizer.param_groups[1]['lr']\n",
    "# model.scheduler.__dict__\n",
    "\n",
    "# model.temp_optimizer\n",
    "# model.temp_scheduler.__dict__\n",
    "# model.temp_scheduler = model._ReduceLROnPlateau(model.temp_optimizer, mode='min', factor=0.75, patience=35, \n",
    "                                              # threshold=1.0e-7, threshold_mode='rel', \n",
    "                                              # cooldown=15, min_lr=0, eps=1e-08, verbose =True)  \n",
    "# model.temp_scheduler['patience'] = 35"
   ]
  },
  {
   "cell_type": "code",
   "execution_count": null,
   "id": "73b1ca58-74c2-440b-8482-f7b634cdab4e",
   "metadata": {},
   "outputs": [],
   "source": [
    "# temp_params = [p for name, p in model.named_parameters() if 'temperature' in name]\n",
    "# network_params = [p for name, p in model.named_parameters() if 'temperature' not in name]\n",
    "# for t in temp_params:\n",
    "#     t.requires_grad = False "
   ]
  },
  {
   "cell_type": "code",
   "execution_count": null,
   "id": "47d38f37-c7f0-4be6-a762-202604f167dd",
   "metadata": {},
   "outputs": [],
   "source": [
    "# model.optimizer = torch.optim.Adam(params = network_params, lr=0.001, weight_decay = 0.1)\n",
    "# # if self.use_snnl:\n",
    "# #     self.optimizer.add_param_group({'params': temp_params, 'lr': temperatureLR, 'weight_decay': adam_weight_decay})\n",
    "\n",
    "# if model.use_scheduler:\n",
    "#     model.scheduler = model._ReduceLROnPlateau(model.optimizer, mode='min', factor=0.5, patience=40, threshold=0.000001, \n",
    "#                                              threshold_mode='rel', cooldown=10, min_lr=0, eps=1e-08, verbose =True) "
   ]
  },
  {
   "cell_type": "code",
   "execution_count": null,
   "id": "1e3d29f1-9655-4127-a8ea-b7dad4a0247e",
   "metadata": {},
   "outputs": [],
   "source": [
    "\n",
    "if self.use_annealing andd self.best_metric - self.training_history[key][f\"{key}_R2_score\"][-1] < 1.0e-05:\n",
    "    self.R2_improvment_counter += 1\n",
    "    if self.R2_improvement_counter > 10:\n",
    "        with torch.no_grad():\n",
    "            self.temperature.copy_(1.0 / ((1.0 + self.temp_decay_counter) ** 0.55))\n",
    "        self.temp_decay_counter += 1\n",
    "        self.R2_improvement_counter = 0\n",
    "        # print(f\" {epoch} - anneal temp  -  before: {temp_before:10.6f}     new_temp: {self.temperature.item():10.6f} \")\n",
    " "
   ]
  }
 ],
 "metadata": {
  "kernelspec": {
   "display_name": "Python [conda env:ptsnnl]",
   "language": "python",
   "name": "conda-env-ptsnnl-py"
  },
  "language_info": {
   "codemirror_mode": {
    "name": "ipython",
    "version": 3
   },
   "file_extension": ".py",
   "mimetype": "text/x-python",
   "name": "python",
   "nbconvert_exporter": "python",
   "pygments_lexer": "ipython3",
   "version": "3.11.0"
  },
  "toc": {
   "base_numbering": 1,
   "nav_menu": {},
   "number_sections": true,
   "sideBar": true,
   "skip_h1_title": false,
   "title_cell": "Table of Contents",
   "title_sidebar": "Contents",
   "toc_cell": false,
   "toc_position": {},
   "toc_section_display": true,
   "toc_window_display": false
  }
 },
 "nbformat": 4,
 "nbformat_minor": 5
}
