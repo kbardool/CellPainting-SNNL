{
 "cells": [
  {
   "cell_type": "markdown",
   "id": "01e25dfa-859b-40a5-9bd7-e23d6e0a0557",
   "metadata": {},
   "source": [
    "  # Autoencoder - SNNL Dev"
   ]
  },
  {
   "cell_type": "markdown",
   "id": "dc83491e-628a-4bc0-806c-5d41b997dd98",
   "metadata": {},
   "source": [
    "# Setup"
   ]
  },
  {
   "cell_type": "code",
   "execution_count": 34,
   "id": "11ad0ae2",
   "metadata": {
    "ExecuteTime": {
     "end_time": "2023-04-12T10:29:15.566596Z",
     "start_time": "2023-04-12T10:29:15.550232Z"
    },
    "execution": {
     "iopub.execute_input": "2024-07-03T21:19:31.112734Z",
     "iopub.status.busy": "2024-07-03T21:19:31.112286Z",
     "iopub.status.idle": "2024-07-03T21:19:31.808552Z",
     "shell.execute_reply": "2024-07-03T21:19:31.807692Z",
     "shell.execute_reply.started": "2024-07-03T21:19:31.112710Z"
    }
   },
   "outputs": [
    {
     "data": {
      "text/html": [
       "<style>.container { width:98% !important; }</style>"
      ],
      "text/plain": [
       "<IPython.core.display.HTML object>"
      ]
     },
     "metadata": {},
     "output_type": "display_data"
    },
    {
     "name": "stdout",
     "output_type": "stream",
     "text": [
      "The autoreload extension is already loaded. To reload it, use:\n",
      "  %reload_ext autoreload\n"
     ]
    }
   ],
   "source": [
    "# %pwd\n",
    "# %cd ~/WSL-shared/Cellpainting/pt-snnl/\n",
    "from IPython.display import display, HTML\n",
    "display(HTML(\"<style>.container { width:98% !important; }</style>\"))\n",
    "%load_ext autoreload  \n",
    "%autoreload 2\n",
    "from IPython.core.interactiveshell import InteractiveShell\n",
    "InteractiveShell.ast_node_interactivity = \"all\""
   ]
  },
  {
   "cell_type": "code",
   "execution_count": 35,
   "id": "651de463-2e37-42ed-808d-2f16dff6b3d5",
   "metadata": {
    "ExecuteTime": {
     "end_time": "2023-04-12T10:29:16.111588Z",
     "start_time": "2023-04-12T10:29:15.764305Z"
    },
    "execution": {
     "iopub.execute_input": "2024-07-03T21:19:31.810381Z",
     "iopub.status.busy": "2024-07-03T21:19:31.810050Z",
     "iopub.status.idle": "2024-07-03T21:19:31.857389Z",
     "shell.execute_reply": "2024-07-03T21:19:31.856561Z",
     "shell.execute_reply.started": "2024-07-03T21:19:31.810361Z"
    }
   },
   "outputs": [
    {
     "name": "stdout",
     "output_type": "stream",
     "text": [
      "['../..', './src', '/home/kevin/miniforge3/envs/ptsnnl/lib/python311.zip', '/home/kevin/miniforge3/envs/ptsnnl/lib/python3.11', '/home/kevin/miniforge3/envs/ptsnnl/lib/python3.11/lib-dynload', '', '/home/kevin/miniforge3/envs/ptsnnl/lib/python3.11/site-packages', '/home/kevin/miniforge3/envs/ptsnnl/lib/python3.11/site-packages/cytominer_eval-0.1-py3.11.egg']\n",
      "2.2.1+cu118\n"
     ]
    }
   ],
   "source": [
    "import os\n",
    "import sys\n",
    "import csv\n",
    "import json\n",
    "import time\n",
    "import types, copy, pprint\n",
    "import logging \n",
    "from datetime import datetime\n",
    "for p in ['./src','../..']:\n",
    "    if p not in sys.path:\n",
    "        print(f\"insert {p}\")\n",
    "        sys.path.insert(0, p)\n",
    "print(sys.path)\n",
    "# import shutil\n",
    "# import getpass\n",
    "import yaml\n",
    "\n",
    "import hydra \n",
    "from hydra import initialize, initialize_config_module, initialize_config_dir, compose\n",
    "from omegaconf import OmegaConf\n",
    "\n",
    "\n",
    "from matplotlib import pyplot as plt\n",
    "from typing import Dict, List, Tuple\n",
    "from scipy.sparse import csr_matrix\n",
    "from tqdm import tqdm\n",
    "\n",
    "import numpy as np\n",
    "import pandas as pd\n",
    "\n",
    "import torch\n",
    "import torch.nn.functional as F\n",
    "from torchinfo import summary\n",
    "import wandb\n",
    "\n",
    "torch.set_printoptions(precision=None, threshold=None, edgeitems=None, linewidth=150, profile=None, sci_mode=None)\n",
    "print(torch.__version__)\n",
    "\n",
    "pp = pprint.PrettyPrinter(indent=4)\n",
    "pd.options.display.width = 132\n",
    "torch.set_printoptions(precision=None, threshold=None, edgeitems=None, linewidth=150, profile=None, sci_mode=None)\n",
    "np.set_printoptions(edgeitems=3, infstr='inf', linewidth=150, nanstr='nan')\n",
    "\n",
    "os.environ[\"WANDB_NOTEBOOK_NAME\"] = \"AE-MAIN-SNNL.ipynb\"\n",
    "# os.environ[\"CUDA_LAUNCH_BLOCKING\"] = \"1\"\n",
    "# os.environ[\"CUDA_VISIBLE_DEVICES\"] = \"2\""
   ]
  },
  {
   "cell_type": "code",
   "execution_count": 36,
   "id": "61e84582-bc2f-4bdd-8410-33f267519657",
   "metadata": {
    "ExecuteTime": {
     "end_time": "2023-04-12T10:29:16.111588Z",
     "start_time": "2023-04-12T10:29:15.764305Z"
    },
    "execution": {
     "iopub.execute_input": "2024-07-03T21:19:33.001308Z",
     "iopub.status.busy": "2024-07-03T21:19:33.001018Z",
     "iopub.status.idle": "2024-07-03T21:19:33.044615Z",
     "shell.execute_reply": "2024-07-03T21:19:33.043745Z",
     "shell.execute_reply.started": "2024-07-03T21:19:33.001288Z"
    }
   },
   "outputs": [],
   "source": [
    "from KevinsRoutines.utils.utils_wandb  import  init_wandb, wandb_log_metrics,wandb_watch\n",
    "from KevinsRoutines.utils.utils_general  import  list_namespace, print_heading, print_underline \n",
    "from snnl.utils import parse_args, load_configuration, set_global_seed, get_device, set_device\n",
    "from snnl.utils import load_model, save_model, import_results, export_results, save_checkpoint, load_checkpoint \n",
    "from snnl.utils import plot_model_parms, plot_train_history, plot_classification_metrics, plot_regression_metrics\n",
    "from snnl.utils import display_epoch_metrics, display_cellpainting_batch, display_model_parameters\n",
    "from snnl.utils import CellpaintingDataset, InfiniteDataLoader, custom_collate_fn\n",
    "from snnl.utils import display_model_summary, define_autoencoder_model\n",
    "from snnl.utils import save_checkpoint_v2, load_checkpoint_v2, save_checkpoint_v3"
   ]
  },
  {
   "cell_type": "code",
   "execution_count": 37,
   "id": "5e43c4ff-f371-4f9d-8785-1faeebe2330b",
   "metadata": {
    "ExecuteTime": {
     "end_time": "2023-04-12T10:29:16.111588Z",
     "start_time": "2023-04-12T10:29:15.764305Z"
    },
    "execution": {
     "iopub.execute_input": "2024-07-03T21:19:33.813401Z",
     "iopub.status.busy": "2024-07-03T21:19:33.812899Z",
     "iopub.status.idle": "2024-07-03T21:19:33.860220Z",
     "shell.execute_reply": "2024-07-03T21:19:33.859231Z",
     "shell.execute_reply.started": "2024-07-03T21:19:33.813359Z"
    },
    "scrolled": true
   },
   "outputs": [
    {
     "name": "stderr",
     "output_type": "stream",
     "text": [
      "2024-07-03 23:19:33,855 - __main__ - INFO: -  Excution started : 2024_07_03_23:19:33 \n",
      "2024-07-03 23:19:33,856 - __main__ - INFO: -  Pytorch version  : 2.2.1+cu118\n"
     ]
    }
   ],
   "source": [
    "timestamp = datetime.now().strftime('%Y_%m_%d_%H:%M:%S')\n",
    "logger = logging.getLogger(__name__) \n",
    "logLevel = os.environ.get('LOG_LEVEL', 'INFO').upper()\n",
    "FORMAT = '%(asctime)s - %(name)s - %(levelname)s: - %(message)s'\n",
    "logging.basicConfig(level=\"INFO\", format= FORMAT)\n",
    "\n",
    "logger.info(f\" Excution started : {timestamp} \")\n",
    "logger.info(f\" Pytorch version  : {torch.__version__}\")\n",
    "# logger.info(f\" Search path      : {sys.path}\")"
   ]
  },
  {
   "cell_type": "markdown",
   "id": "789b0fbb-e6b5-4faf-95d0-385819cf246c",
   "metadata": {},
   "source": [
    "### Hydra"
   ]
  },
  {
   "cell_type": "code",
   "execution_count": 38,
   "id": "835f339d-01c8-41f9-be27-ecbd2ca672f8",
   "metadata": {
    "execution": {
     "iopub.execute_input": "2024-07-03T21:19:34.839647Z",
     "iopub.status.busy": "2024-07-03T21:19:34.839158Z",
     "iopub.status.idle": "2024-07-03T21:19:34.885765Z",
     "shell.execute_reply": "2024-07-03T21:19:34.885167Z",
     "shell.execute_reply.started": "2024-07-03T21:19:34.839603Z"
    }
   },
   "outputs": [],
   "source": [
    "# hydra.core.global_hydra.GlobalHydra.instance().clear()\n",
    "\n",
    "# abs_config_dir=os.path.abspath(\"hyperparameters\")\n",
    "# abs_config_dir\n",
    "# # GlobalHydra.instance().clear() \n",
    "# initialize_config_dir(version_base=None, config_dir=abs_config_dir)\n",
    "# # initialize(version_base=None, config_path=\"hyperparameters\")\n",
    "\n",
    "# cfg=compose(config_name=\"AE_Base.yaml\")\n",
    "# type(cfg)\n",
    "# print(cfg)\n",
    "# cfgyaml = OmegaConf.to_yaml(cfg)\n",
    "# type(cfgyaml)\n",
    "# print(cfgyaml)"
   ]
  },
  {
   "cell_type": "markdown",
   "id": "44ea8eff-3a7f-41f0-abd3-2ac4d6c33cd9",
   "metadata": {},
   "source": [
    "### main(args)"
   ]
  },
  {
   "cell_type": "code",
   "execution_count": 39,
   "id": "cb592ef6-ef85-4773-a042-69bd43ff89b7",
   "metadata": {
    "execution": {
     "iopub.execute_input": "2024-07-03T21:19:36.199290Z",
     "iopub.status.busy": "2024-07-03T21:19:36.198785Z",
     "iopub.status.idle": "2024-07-03T21:19:36.249357Z",
     "shell.execute_reply": "2024-07-03T21:19:36.248795Z",
     "shell.execute_reply.started": "2024-07-03T21:19:36.199246Z"
    }
   },
   "outputs": [
    {
     "data": {
      "text/plain": [
       "'AE_snnl_dcpb200_150Ltnt_512_2024062-01_LAST_ep_200.pt'"
      ]
     },
     "execution_count": 39,
     "metadata": {},
     "output_type": "execute_result"
    }
   ],
   "source": [
    "WANDB_ACTIVE  = False\n",
    "LATENT_DIM    = 150\n",
    "HIDDEN_1      = 512\n",
    "# HIDDEN_2    = '_256'\n",
    "HIDDEN_2      = ''\n",
    "DATE          = '2024062-01'\n",
    "LOAD_EPOCH    = 200\n",
    "EPOCHS        = 10\n",
    "COMPOUNDS_PER_BATCH = 200\n",
    "LEARNING_RATE = 1.00e-04\n",
    "TEMP          = 0.05\n",
    "TEMP_LR       = 1.00e-05\n",
    "CHECKPT       = f\"AE_snnl_dcpb{COMPOUNDS_PER_BATCH}_{LATENT_DIM}Ltnt_{HIDDEN_1}{HIDDEN_2}_{DATE}_LAST_ep_{LOAD_EPOCH:03d}.pt\"\n",
    "CHECKPT"
   ]
  },
  {
   "cell_type": "code",
   "execution_count": 40,
   "id": "c80ed726-59ba-4038-9d28-f12a4f97d194",
   "metadata": {
    "execution": {
     "iopub.execute_input": "2024-07-03T21:19:37.091561Z",
     "iopub.status.busy": "2024-07-03T21:19:37.090981Z",
     "iopub.status.idle": "2024-07-03T21:19:37.157563Z",
     "shell.execute_reply": "2024-07-03T21:19:37.157062Z",
     "shell.execute_reply.started": "2024-07-03T21:19:37.091518Z"
    }
   },
   "outputs": [
    {
     "data": {
      "text/plain": [
       "Namespace(configuration='hyperparameters/ae_sn_150_512_cpb.yaml', ckpt=None, cpb=200, exp_title=None, epochs=10, gpu_id=0, learning_rate=0.0001, exp_id=None, runmode='snnl', random_seed=4321, use_prim_optimizer=True, use_temp_optimizer=True, use_annealing=False, use_single_loss=False, temperature=0.05, temperatureLR=1e-05, wandb=False)"
      ]
     },
     "execution_count": 40,
     "metadata": {},
     "output_type": "execute_result"
    },
    {
     "name": "stderr",
     "output_type": "stream",
     "text": [
      "2024-07-03 23:19:37,144 - snnl.utils.utils - INFO: -  command line param configuration             : [hyperparameters/ae_sn_150_512_cpb.yaml]\n",
      "2024-07-03 23:19:37,145 - snnl.utils.utils - INFO: -  command line param ckpt                      : [None]\n",
      "2024-07-03 23:19:37,146 - snnl.utils.utils - INFO: -  command line param cpb                       : [200]\n",
      "2024-07-03 23:19:37,147 - snnl.utils.utils - INFO: -  command line param exp_title                 : [None]\n",
      "2024-07-03 23:19:37,147 - snnl.utils.utils - INFO: -  command line param epochs                    : [10]\n",
      "2024-07-03 23:19:37,148 - snnl.utils.utils - INFO: -  command line param gpu_id                    : [0]\n",
      "2024-07-03 23:19:37,148 - snnl.utils.utils - INFO: -  command line param learning_rate             : [0.0001]\n",
      "2024-07-03 23:19:37,149 - snnl.utils.utils - INFO: -  command line param exp_id                    : [None]\n",
      "2024-07-03 23:19:37,150 - snnl.utils.utils - INFO: -  command line param runmode                   : [snnl]\n",
      "2024-07-03 23:19:37,150 - snnl.utils.utils - INFO: -  command line param random_seed               : [4321]\n",
      "2024-07-03 23:19:37,151 - snnl.utils.utils - INFO: -  command line param use_prim_optimizer        : [True]\n",
      "2024-07-03 23:19:37,151 - snnl.utils.utils - INFO: -  command line param use_temp_optimizer        : [True]\n",
      "2024-07-03 23:19:37,152 - snnl.utils.utils - INFO: -  command line param use_annealing             : [False]\n",
      "2024-07-03 23:19:37,152 - snnl.utils.utils - INFO: -  command line param use_single_loss           : [False]\n",
      "2024-07-03 23:19:37,153 - snnl.utils.utils - INFO: -  command line param temperature               : [0.05]\n",
      "2024-07-03 23:19:37,153 - snnl.utils.utils - INFO: -  command line param temperatureLR             : [1e-05]\n",
      "2024-07-03 23:19:37,154 - snnl.utils.utils - INFO: -  command line param wandb                     : [False]\n",
      "2024-07-03 23:19:37,154 - snnl.utils.utils - INFO: -  command line param exp_title                 : [dcpb200_150Ltnt_512]\n"
     ]
    }
   ],
   "source": [
    "# if __name__ == \"__main__\":\n",
    "cli_args =   f\" --runmode            snnl \" \\\n",
    "             f\" --configuration      hyperparameters/ae_sn_150_512_cpb.yaml\" \\\n",
    "             f\" --lr                 {LEARNING_RATE} \"\\\n",
    "             f\" --prim_opt           --temp_opt \" \\\n",
    "             f\" --temp               {TEMP} \"\\\n",
    "             f\" --temp_lr            {TEMP_LR}\"\\\n",
    "             f\" --epochs             {EPOCHS} \" \\\n",
    "             f\" --cpb                {COMPOUNDS_PER_BATCH}\" \\\n",
    "\t         f\" --seed   4321    --gpu_id  0  \"\\\n",
    "             f\" \"\n",
    "            # f\" --wandb\"\\\n",
    "             # f\" --ckpt               AE_snnl_dcpb200_{LATENT_DIM}Ltnt_{HIDDEN_1}{HIDDEN_2}_{DATE}_LAST_ep_{LOAD_EPOCH:03d}.pt \" \\\n",
    "            #  f\" --ckpt               AE_baseline_{DATE}_snglOpt-{LATENT_DIM}Ltnt{HIDDEN_1}{HIDDEN_2}_ep_{LOAD_EPOCH}.pt \" \\\n",
    "             # f\" --configuration      hyperparameters/ae_sn_{LATENT_DIM:03d}{HIDDEN_1}{HIDDEN_2}_cpb.yaml\" \\\n",
    "             # f\" --run_id              \" \\\n",
    "             # f\" --exp_title           snglOpt-050Ltnt_512_sig \"\n",
    "             # f\" --runmode            snnl\" \\\n",
    "cli_args = parse_args(cli_args.split())\n",
    "cli_args\n",
    "\n",
    "args = load_configuration(cli_args)\n",
    "args.ckpt\n"
   ]
  },
  {
   "cell_type": "code",
   "execution_count": 41,
   "id": "973eda2d-5816-4b88-84f8-881c86ac2353",
   "metadata": {
    "execution": {
     "iopub.execute_input": "2024-07-03T21:19:38.299383Z",
     "iopub.status.busy": "2024-07-03T21:19:38.298812Z",
     "iopub.status.idle": "2024-07-03T21:19:38.347707Z",
     "shell.execute_reply": "2024-07-03T21:19:38.347175Z",
     "shell.execute_reply.started": "2024-07-03T21:19:38.299340Z"
    },
    "scrolled": true
   },
   "outputs": [
    {
     "data": {
      "text/plain": [
       "namespace(project_name='CellPainting_Profiles',\n",
       "          exp_id=None,\n",
       "          exp_name_pfx=None,\n",
       "          exp_name=None,\n",
       "          exp_date=None,\n",
       "          exp_title='dcpb200_150Ltnt_512',\n",
       "          exp_description='AE snnl - DualOpt, 150 dim latent, 512 Midlayer, 200 cpb',\n",
       "          exp_folder=None,\n",
       "          folder_sfx=None,\n",
       "          random_seed=4321,\n",
       "          units=[['linear', 1471, 1024],\n",
       "                 ['relu', 0, 0],\n",
       "                 ['linear', 1024, 512],\n",
       "                 ['relu', 0, 0],\n",
       "                 ['linear', 512, 150],\n",
       "                 ['linear', 150, 512],\n",
       "                 ['relu', 0, 0],\n",
       "                 ['linear', 512, 1024],\n",
       "                 ['relu', 0, 0],\n",
       "                 ['linear', 1024, 1471]],\n",
       "          input_shape=1471,\n",
       "          code_units=150,\n",
       "          embedding_layer=4,\n",
       "          show_every=1,\n",
       "          save_every=25,\n",
       "          learning_rate=0.0001,\n",
       "          loss_factor=1.0,\n",
       "          adam_weight_decay=0,\n",
       "          snnl_factor=0.5,\n",
       "          temperature=0.05,\n",
       "          use_temp_optimizer=True,\n",
       "          use_temp_scheduler=True,\n",
       "          temperatureLR=1e-05,\n",
       "          SGD_weight_decay=0,\n",
       "          dataset='cellpainting',\n",
       "          cellpainting_args={'sample_size': 3,\n",
       "                             'batch_size': 1,\n",
       "                             'compounds_per_batch': 200,\n",
       "                             'training_path': '/home/kevin/WSL-shared/Cellpainting/cj-datasets/output_11102023/3_sample_profiles/3sample_profiles_1482_HashOrder.csv',\n",
       "                             'validation_path': '/home/kevin/WSL-shared/Cellpainting/cj-datasets/output_11102023/3_sample_profiles/3sample_profiles_1482_HashOrder_test.csv',\n",
       "                             'test_path': '/home/kevin/WSL-shared/Cellpainting/cj-datasets/output_11102023/3_sample_profiles/3sample_profiles_1482_HashOrder_test.csv',\n",
       "                             'train_start': 0,\n",
       "                             'train_end': 240000,\n",
       "                             'val_start': 0,\n",
       "                             'val_end': 24000,\n",
       "                             'test_start': 30000,\n",
       "                             'test_end': 33600,\n",
       "                             'chunksize': None,\n",
       "                             'conversions': None,\n",
       "                             'iterator': True},\n",
       "          paths={'log_dir': './logs',\n",
       "                 'result_dir': './results',\n",
       "                 'checkpoint_dir': './ckpt'},\n",
       "          configuration='hyperparameters/ae_sn_150_512_cpb.yaml',\n",
       "          cpb=200,\n",
       "          epochs=10,\n",
       "          gpu_id=0,\n",
       "          runmode='snnl',\n",
       "          use_prim_optimizer=True,\n",
       "          use_annealing=False,\n",
       "          use_single_loss=False,\n",
       "          wandb=False,\n",
       "          ckpt=None,\n",
       "          batch_size=1,\n",
       "          use_prim_scheduler=True,\n",
       "          use_sum=False,\n",
       "          SGD_momentum=0)"
      ]
     },
     "execution_count": 41,
     "metadata": {},
     "output_type": "execute_result"
    }
   ],
   "source": [
    "args"
   ]
  },
  {
   "cell_type": "code",
   "execution_count": 9,
   "id": "94193666-319a-4bfa-8182-1aba148812c1",
   "metadata": {
    "execution": {
     "iopub.execute_input": "2024-07-03T16:17:54.369296Z",
     "iopub.status.busy": "2024-07-03T16:17:54.368920Z",
     "iopub.status.idle": "2024-07-03T16:17:55.168682Z",
     "shell.execute_reply": "2024-07-03T16:17:55.168014Z",
     "shell.execute_reply.started": "2024-07-03T16:17:54.369263Z"
    }
   },
   "outputs": [
    {
     "name": "stderr",
     "output_type": "stream",
     "text": [
      "2024-07-03 18:17:55,160 - snnl.utils.utils - INFO: -  Current CUDA Device is:  cuda:0 - Quadro GV100\n",
      "2024-07-03 18:17:55,162 - snnl.utils.utils - INFO: -  Switched to: Quadro GV100 - 0\n",
      "2024-07-03 18:17:55,163 - snnl.utils.utils - INFO: -  Current CUDA Device is:  cuda:0 - Quadro GV100\n"
     ]
    }
   ],
   "source": [
    "set_global_seed(args.random_seed)\n",
    "if args.ckpt is not None:\n",
    "    if os.path.exists(os.path.join('ckpts', args.ckpt)):\n",
    "        logger.info(f\" Checkpoint {args.ckpt} found\")\n",
    "        logger.info(f\" Resuming training using checkpoint: {args.ckpt}\")\n",
    "    else:\n",
    "        logger.error(f\" *** Checkpoint {args.ckpt} not found *** \\n\")\n",
    "        raise ValueError(f\"\\n *** Checkpoint DOESNT EXIST *** \\n\")\n",
    "\n",
    "if args.gpu_id is not None:\n",
    "    _ = get_device()\n",
    "    # print(f\"Current device is : {current_device}\")    \n",
    "    current_device = set_device(args.gpu_id)\n",
    "    current_device = get_device()\n"
   ]
  },
  {
   "cell_type": "markdown",
   "id": "7e2871b9-ea54-4869-9fa3-5ade2e1416cd",
   "metadata": {},
   "source": [
    "## Define dataset and dataloaders"
   ]
  },
  {
   "cell_type": "code",
   "execution_count": 10,
   "id": "b37affb2-a82e-49d5-9e58-88e3c98f8fa3",
   "metadata": {
    "execution": {
     "iopub.execute_input": "2024-07-03T16:17:56.511141Z",
     "iopub.status.busy": "2024-07-03T16:17:56.510604Z",
     "iopub.status.idle": "2024-07-03T16:17:56.578239Z",
     "shell.execute_reply": "2024-07-03T16:17:56.577735Z",
     "shell.execute_reply.started": "2024-07-03T16:17:56.511099Z"
    }
   },
   "outputs": [
    {
     "name": "stderr",
     "output_type": "stream",
     "text": [
      "2024-07-03 18:17:56,558 - root - INFO: -  load cellpainting\n",
      "2024-07-03 18:17:56,559 - snnl.utils.dataloader - INFO: -  Building CellPantingDataset for train\n",
      "2024-07-03 18:17:56,560 - snnl.utils.dataloader - INFO: -  filename:  /home/kevin/WSL-shared/Cellpainting/cj-datasets/output_11102023/3_sample_profiles/3sample_profiles_1482_HashOrder.csv\n",
      "2024-07-03 18:17:56,561 - snnl.utils.dataloader - INFO: -  type    :  train\n",
      "2024-07-03 18:17:56,561 - snnl.utils.dataloader - INFO: -  start   :  0\n",
      "2024-07-03 18:17:56,562 - snnl.utils.dataloader - INFO: -  end     :  240000\n",
      "2024-07-03 18:17:56,562 - snnl.utils.dataloader - INFO: -  numrows :  240000\n",
      "2024-07-03 18:17:56,563 - snnl.utils.dataloader - INFO: -  Each mini-batch contains 200.0 compounds with 3 samples per compound : total 600 rows\n",
      "2024-07-03 18:17:56,564 - snnl.utils.dataloader - INFO: -  Number of 600 row full size batches per epoch: 400\n",
      "2024-07-03 18:17:56,564 - snnl.utils.dataloader - INFO: -  Rows covered by 400 full size batches (600 rows) per epoch:  240000\n",
      "2024-07-03 18:17:56,565 - snnl.utils.dataloader - INFO: -  Last partial batch contains : 0 rows\n",
      "2024-07-03 18:17:56,566 - snnl.utils.dataloader - INFO: -  \n",
      "2024-07-03 18:17:56,567 - snnl.utils.dataloader - INFO: -  Building CellPantingDataset for val\n",
      "2024-07-03 18:17:56,567 - snnl.utils.dataloader - INFO: -  filename:  /home/kevin/WSL-shared/Cellpainting/cj-datasets/output_11102023/3_sample_profiles/3sample_profiles_1482_HashOrder_test.csv\n",
      "2024-07-03 18:17:56,568 - snnl.utils.dataloader - INFO: -  type    :  val\n",
      "2024-07-03 18:17:56,569 - snnl.utils.dataloader - INFO: -  start   :  0\n",
      "2024-07-03 18:17:56,569 - snnl.utils.dataloader - INFO: -  end     :  24000\n",
      "2024-07-03 18:17:56,570 - snnl.utils.dataloader - INFO: -  numrows :  24000\n",
      "2024-07-03 18:17:56,571 - snnl.utils.dataloader - INFO: -  Each mini-batch contains 200.0 compounds with 3 samples per compound : total 600 rows\n",
      "2024-07-03 18:17:56,571 - snnl.utils.dataloader - INFO: -  Number of 600 row full size batches per epoch: 40\n",
      "2024-07-03 18:17:56,572 - snnl.utils.dataloader - INFO: -  Rows covered by 40 full size batches (600 rows) per epoch:  24000\n",
      "2024-07-03 18:17:56,574 - snnl.utils.dataloader - INFO: -  Last partial batch contains : 0 rows\n",
      "2024-07-03 18:17:56,575 - snnl.utils.dataloader - INFO: -  \n"
     ]
    }
   ],
   "source": [
    "#### Load CellPainting Dataset\n",
    "logging.info(f\" load {args.dataset}\")\n",
    "train_dataset = CellpaintingDataset(type='train',    **args.cellpainting_args)\n",
    "train_loader = InfiniteDataLoader(dataset=train_dataset, batch_size = args.batch_size, shuffle = False, num_workers = 0, collate_fn = custom_collate_fn)\n",
    "val_dataset = CellpaintingDataset(type='val',    **args.cellpainting_args)\n",
    "val_loader = InfiniteDataLoader(dataset=val_dataset, batch_size = args.batch_size, shuffle = False, num_workers = 0, collate_fn = custom_collate_fn)"
   ]
  },
  {
   "cell_type": "markdown",
   "id": "47e2418f-1b68-43b8-b530-9ffb72141121",
   "metadata": {},
   "source": [
    "## WandB Setup"
   ]
  },
  {
   "cell_type": "code",
   "execution_count": 11,
   "id": "5dd597f5-f212-4261-b8a9-cd9cf558cb68",
   "metadata": {
    "execution": {
     "iopub.execute_input": "2024-07-03T16:18:07.734799Z",
     "iopub.status.busy": "2024-07-03T16:18:07.734301Z",
     "iopub.status.idle": "2024-07-03T16:18:07.791061Z",
     "shell.execute_reply": "2024-07-03T16:18:07.790478Z",
     "shell.execute_reply.started": "2024-07-03T16:18:07.734756Z"
    }
   },
   "outputs": [
    {
     "name": "stderr",
     "output_type": "stream",
     "text": [
      "2024-07-03 18:18:07,781 - __main__ - INFO: -  args.wandb       : False\n",
      "2024-07-03 18:18:07,782 - __main__ - INFO: -  Project Name     : CellPainting_Profiles\n",
      "2024-07-03 18:18:07,783 - __main__ - INFO: -  Experiment Id    : None\n",
      "2024-07-03 18:18:07,784 - __main__ - INFO: -  Experiment Name  : None\n",
      "2024-07-03 18:18:07,785 - __main__ - INFO: -  Experiment Date  : None\n",
      "2024-07-03 18:18:07,785 - __main__ - INFO: -  Experiment Title : dcpb200_150Ltnt_512\n",
      "2024-07-03 18:18:07,786 - __main__ - INFO: -  Experiment Notes : AE snnl - DualOpt, 150 dim latent, 512 Midlayer, 200 cpb\n",
      "2024-07-03 18:18:07,787 - __main__ - INFO: -  Experiment Name  : AE_240703_1818\n",
      "2024-07-03 18:18:07,787 - __main__ - INFO: -  Experiment Date  : 240703_1818\n"
     ]
    }
   ],
   "source": [
    "# args.exp_id   = None\n",
    "# args.exp_name = 'AE_'+datetime.now().strftime('%m%d_%H%M')\n",
    "# args.exp_date = datetime.now().strftime('%Y%m%d')\n",
    "\n",
    "## --- for restarts\n",
    "# args.exp_id   = '0g8w13h6'\n",
    "# args.exp_name = 'AE_0516_1104'\n",
    "# args.exp_date = '20240516'\n",
    "##-----------------\n",
    "logger.info(f\" args.wandb       : {args.wandb}\")\n",
    "logger.info(f\" Project Name     : {args.project_name}\")\n",
    "logger.info(f\" Experiment Id    : {args.exp_id}\")\n",
    "logger.info(f\" Experiment Name  : {args.exp_name}\")\n",
    "logger.info(f\" Experiment Date  : {args.exp_date}\")\n",
    "logger.info(f\" Experiment Title : {args.exp_title}\")\n",
    "logger.info(f\" Experiment Notes : {args.exp_description}\")\n",
    "EXP_DATE = datetime.now().strftime('%y%m%d_%H%M')\n",
    "args.exp_name = f\"AE_{EXP_DATE}\"\n",
    "args.exp_date = EXP_DATE\n",
    "logger.info(f\" Experiment Name  : {args.exp_name}\")\n",
    "logger.info(f\" Experiment Date  : {args.exp_date}\")"
   ]
  },
  {
   "cell_type": "code",
   "execution_count": 12,
   "id": "1c2cd59a-dec4-4d6c-b911-d70dc4d4e09e",
   "metadata": {
    "execution": {
     "iopub.execute_input": "2024-07-03T16:18:09.139386Z",
     "iopub.status.busy": "2024-07-03T16:18:09.138888Z",
     "iopub.status.idle": "2024-07-03T16:18:09.197153Z",
     "shell.execute_reply": "2024-07-03T16:18:09.196620Z",
     "shell.execute_reply.started": "2024-07-03T16:18:09.139341Z"
    }
   },
   "outputs": [
    {
     "name": "stderr",
     "output_type": "stream",
     "text": [
      "2024-07-03 18:18:09,189 - __main__ - INFO: -  *** W&&B Logging is INACTIVE *** \n",
      "2024-07-03 18:18:09,190 - __main__ - INFO: -  Experiment run id:  None\n",
      "2024-07-03 18:18:09,191 - __main__ - INFO: -  Experiment Name  :  AE_240703_1818 \n",
      "2024-07-03 18:18:09,192 - __main__ - INFO: -  Experiment Date  :  240703_1818 \n",
      "2024-07-03 18:18:09,193 - __main__ - INFO: -  Experiment Title :  dcpb200_150Ltnt_512 \n",
      "2024-07-03 18:18:09,193 - __main__ - INFO: -  Experiment Notes :  AE snnl - DualOpt, 150 dim latent, 512 Midlayer, 200 cpb\n"
     ]
    }
   ],
   "source": [
    "WANDB_ACTIVE = args.wandb\n",
    "\n",
    "EXP_DATE = datetime.now().strftime('%y%m%d_%H%M')\n",
    "args.exp_name = f\"AE_{EXP_DATE}\"\n",
    "args.exp_date = EXP_DATE\n",
    "\n",
    "if WANDB_ACTIVE:\n",
    "    if args.exp_id is not None:\n",
    "        print(\"Resume\")\n",
    "        resume_wandb = True\n",
    "    else:\n",
    "        print(\"Initialize\")\n",
    "        resume_wandb = False\n",
    "        args.exp_name = f\"AE_{EXP_DATE}\"\n",
    "    \n",
    "    wandb_run = init_wandb(args)\n",
    "    \n",
    "    args.exp_id = wandb_run.id\n",
    "    \n",
    "    logger.info(f\" WandB tracking started \")\n",
    "    logger.info(f\" Project  : {args.project_name}\")    \n",
    "    logger.info(f\" Run id   :  {args.exp_id}   / {wandb_run.id}\")\n",
    "    logger.info(f\" Name     :  {args.exp_name} / {wandb_run.name} \")\n",
    "    logger.info(f\" Title    :  {args.exp_title}\")    \n",
    "    logger.info(f\" Date     :  {args.exp_date}  \")\n",
    "    logger.info(f\" Notes    :  {args.exp_description} / {wandb_run.notes} \")\n",
    "else: \n",
    "    logger.info(f\" *** W&&B Logging is INACTIVE *** \")\n",
    "    args.exp_name = 'AE_'+datetime.now().strftime('%y%m%d_%H%M')\n",
    "    args.exp_date = datetime.now().strftime('%y%m%d_%H%M')    \n",
    "\n",
    "logger.info(f\" Experiment run id:  {args.exp_id}\")\n",
    "logger.info(f\" Experiment Name  :  {args.exp_name} \")\n",
    "logger.info(f\" Experiment Date  :  {args.exp_date} \")\n",
    "logger.info(f\" Experiment Title :  {args.exp_title} \")\n",
    "logger.info(f\" Experiment Notes :  {args.exp_description}\")"
   ]
  },
  {
   "cell_type": "markdown",
   "id": "19b32e21-67d2-45af-a45f-841b6dca43ff",
   "metadata": {},
   "source": [
    "# Define autoencoder model"
   ]
  },
  {
   "cell_type": "markdown",
   "id": "cf383487-ecbf-49da-bb01-5a5f22932278",
   "metadata": {},
   "source": [
    "## Override arguments"
   ]
  },
  {
   "cell_type": "code",
   "execution_count": 13,
   "id": "2fdc1998-5141-40c0-82d8-b505d4f19ecd",
   "metadata": {
    "execution": {
     "iopub.execute_input": "2024-07-03T16:18:11.221355Z",
     "iopub.status.busy": "2024-07-03T16:18:11.220877Z",
     "iopub.status.idle": "2024-07-03T16:18:11.269206Z",
     "shell.execute_reply": "2024-07-03T16:18:11.268519Z",
     "shell.execute_reply.started": "2024-07-03T16:18:11.221312Z"
    }
   },
   "outputs": [],
   "source": [
    "# args.temperature   = 0.8\n",
    "# args.loss_factor   = 2.0        ## 2.0e+00\n",
    "# args.snnl_factor   = 0.5       ## 1.0e+00\n",
    "# args.learning_rate = 1.0e-03    ## 0.001\n",
    "# args.temperatureLR = 1.0e-04    ## 1e-4\n",
    "# print(f\"   Latent dim        {args.code_units}  \\t\\t  loss_factor       {args.loss_factor}  \\t\\t   snnl_factor       {args.snnl_factor}\")\n",
    "# print(f\"   temperature       {args.temperature} \\t\\t  learning_rate     {args.learning_rate} \\t\\t   temperatureLR:    {args.temperatureLR}\")"
   ]
  },
  {
   "cell_type": "code",
   "execution_count": 14,
   "id": "acb11365-5fa8-4a94-ba70-bfe9bc16df18",
   "metadata": {
    "execution": {
     "iopub.execute_input": "2024-07-03T16:18:12.110607Z",
     "iopub.status.busy": "2024-07-03T16:18:12.110150Z",
     "iopub.status.idle": "2024-07-03T16:18:12.155194Z",
     "shell.execute_reply": "2024-07-03T16:18:12.154542Z",
     "shell.execute_reply.started": "2024-07-03T16:18:12.110566Z"
    },
    "scrolled": true
   },
   "outputs": [],
   "source": [
    "# list_namespace(args)"
   ]
  },
  {
   "cell_type": "markdown",
   "id": "69b97558-4c5d-4a2d-9d1f-78d8923b1eb7",
   "metadata": {},
   "source": [
    "## Define Model"
   ]
  },
  {
   "cell_type": "code",
   "execution_count": 15,
   "id": "d7d429c0-2275-4f1a-ac88-169d8ddcf37a",
   "metadata": {
    "execution": {
     "iopub.execute_input": "2024-07-03T16:18:13.851881Z",
     "iopub.status.busy": "2024-07-03T16:18:13.851406Z",
     "iopub.status.idle": "2024-07-03T16:18:14.038533Z",
     "shell.execute_reply": "2024-07-03T16:18:14.037768Z",
     "shell.execute_reply.started": "2024-07-03T16:18:13.851839Z"
    }
   },
   "outputs": [
    {
     "name": "stderr",
     "output_type": "stream",
     "text": [
      "2024-07-03 18:18:13,896 - snnl.utils.utils - INFO: - Defining model in SNNL mode \n",
      "2024-07-03 18:18:13,922 - snnl.models.autoencoder - INFO: -     layer pair:    0  type:linear           input:   1471  output:   1024    weights: [1024, 1471]   \n",
      "2024-07-03 18:18:13,945 - snnl.models.autoencoder - INFO: -     layer pair:    1  type:relu             input:      0  output:      0    weights: [0, 0]   \n",
      "2024-07-03 18:18:13,946 - snnl.models.autoencoder - INFO: -     layer pair:    2  type:linear           input:   1024  output:    512    weights: [512, 1024]   \n",
      "2024-07-03 18:18:13,953 - snnl.models.autoencoder - INFO: -     layer pair:    3  type:relu             input:      0  output:      0    weights: [0, 0]   \n",
      "2024-07-03 18:18:13,954 - snnl.models.autoencoder - INFO: -     layer pair:    4  type:linear           input:    512  output:    150    weights: [150, 512]   \n",
      "2024-07-03 18:18:13,956 - snnl.models.autoencoder - INFO: -     layer pair:    5  type:linear           input:    150  output:    512    weights: [512, 150]   \n",
      "2024-07-03 18:18:13,958 - snnl.models.autoencoder - INFO: -     layer pair:    6  type:relu             input:      0  output:      0    weights: [0, 0]   \n",
      "2024-07-03 18:18:13,959 - snnl.models.autoencoder - INFO: -     layer pair:    7  type:linear           input:    512  output:   1024    weights: [1024, 512]   \n",
      "2024-07-03 18:18:13,965 - snnl.models.autoencoder - INFO: -     layer pair:    8  type:relu             input:      0  output:      0    weights: [0, 0]   \n",
      "2024-07-03 18:18:13,965 - snnl.models.autoencoder - INFO: -     layer pair:    9  type:linear           input:   1024  output:   1471    weights: [1471, 1024]   \n"
     ]
    },
    {
     "name": "stdout",
     "output_type": "stream",
     "text": [
      " EMBEDDING LAYER: 4\n",
      "    Model_init()_    -- AE - support for unsupervised in latent_code mode is True\n",
      "\n",
      "------------------------------------------------------------\n",
      " Build SNNLoss from AE_snnloss\n",
      "------------------------------------------------------------\n",
      "    SNNLoss _init()_    -- mode: latent_code was found in SNNLoss._supported_modes --   is unsupervised: True\n",
      "    SNNLoss _init()_    -- unsupervised :     True\n",
      "    SNNLoss _init()_    -- use_annealing :    False\n",
      "    SNNLoss _init()_    -- sample_size :      3\n",
      "    SNNLoss _init()_    -- temperature :      Parameter containing:\n",
      "tensor([0.0500], requires_grad=True)\n",
      "[Parameter containing:\n",
      "tensor([[-0.0161, -0.0513, -0.0007,  ...,  0.0065, -0.0197,  0.0040],\n",
      "        [-0.0360,  0.0660,  0.0020,  ...,  0.0216, -0.0110, -0.0195],\n",
      "        [ 0.0159,  0.0130,  0.0351,  ..., -0.0203,  0.0426,  0.0003],\n",
      "        ...,\n",
      "        [ 0.0400,  0.0204, -0.0482,  ..., -0.0421, -0.0220,  0.0686],\n",
      "        [-0.0085, -0.0265, -0.0047,  ...,  0.0023, -0.0226,  0.0085],\n",
      "        [ 0.0003, -0.0115, -0.0136,  ..., -0.0170,  0.0204, -0.0143]], requires_grad=True), Parameter containing:\n",
      "tensor([ 0.0189, -0.0178, -0.0111,  ...,  0.0148,  0.0004,  0.0079], requires_grad=True), Parameter containing:\n",
      "tensor([[ 0.0244,  0.0231,  0.0060,  ..., -0.0019, -0.0696,  0.0073],\n",
      "        [-0.0371,  0.0241, -0.0436,  ...,  0.0113, -0.0050,  0.0616],\n",
      "        [-0.0160,  0.0179,  0.1009,  ..., -0.0046, -0.0463, -0.0455],\n",
      "        ...,\n",
      "        [ 0.0216,  0.0832, -0.0666,  ..., -0.0166,  0.0108, -0.0564],\n",
      "        [-0.0441,  0.0031,  0.0226,  ...,  0.0437, -0.0562, -0.0939],\n",
      "        [-0.0443,  0.0261,  0.0134,  ...,  0.0441,  0.0228, -0.0011]], requires_grad=True), Parameter containing:\n",
      "tensor([ 9.7493e-03,  2.9384e-02, -2.7971e-02, -2.3399e-02, -1.0857e-02, -2.7416e-02,  8.8822e-03, -6.6860e-03,  1.7313e-02, -3.0125e-03,  3.3940e-03,\n",
      "        -2.1733e-02, -2.0851e-03, -7.6429e-03, -3.0840e-02, -5.3118e-03,  2.1180e-02, -1.6531e-02,  7.0565e-04,  2.9659e-02, -1.6251e-02, -2.7347e-02,\n",
      "         2.3510e-03,  5.7399e-03, -1.9824e-02,  1.0772e-02, -1.0241e-02, -2.7763e-02, -2.0961e-02, -2.8738e-02,  1.7363e-02,  2.2917e-02, -2.8552e-03,\n",
      "         1.2564e-02, -3.1995e-03,  4.9779e-03, -2.1465e-02, -8.3984e-03,  3.0632e-02,  1.1791e-02,  2.2199e-02,  1.1894e-02,  2.9241e-02,  2.3573e-03,\n",
      "         2.5787e-02, -2.9553e-02, -1.2872e-02,  2.5637e-02, -2.7463e-02, -1.2242e-02, -1.9146e-02,  1.5712e-02, -1.4605e-02, -4.9997e-03, -1.7709e-02,\n",
      "        -1.4507e-02,  2.9117e-02, -2.6836e-02,  4.7678e-03, -9.8308e-03,  2.6400e-02,  1.3700e-02,  1.5312e-02, -1.0381e-02,  1.2857e-02,  3.7254e-04,\n",
      "         2.3396e-02, -5.4325e-03, -2.8763e-03, -3.0251e-02,  1.7876e-02,  2.4396e-02, -7.2806e-03,  1.5231e-02,  3.9717e-03, -6.3603e-03, -3.2847e-03,\n",
      "         1.4684e-02,  2.0753e-02,  2.2044e-02, -4.6700e-03,  2.2100e-02,  2.8100e-05, -2.0731e-03, -3.8596e-03, -6.0077e-03,  2.3094e-02, -2.1104e-03,\n",
      "        -1.0091e-02, -2.0568e-02, -7.2108e-03,  1.2804e-02,  2.4915e-02, -1.8262e-02,  9.8706e-03,  1.2921e-02,  2.0061e-02, -3.1117e-02, -2.8440e-02,\n",
      "        -5.4335e-03,  4.7937e-03, -2.1486e-02,  2.0390e-02, -1.4825e-02,  2.2665e-02,  2.8280e-02, -1.1553e-02, -1.0547e-03, -3.8697e-03,  3.0956e-02,\n",
      "        -3.3590e-03,  3.0894e-02,  5.8473e-03, -2.5022e-02,  7.5323e-03, -1.0576e-03, -1.9915e-02,  2.4509e-03, -1.1653e-02, -1.0727e-02, -2.7703e-02,\n",
      "         8.6627e-03,  3.0799e-03, -2.1207e-02,  1.5225e-02,  1.1630e-02,  1.1121e-02,  1.5923e-02, -1.5687e-02,  1.3381e-02, -1.7446e-02,  5.4898e-03,\n",
      "        -2.5022e-03,  5.0277e-03, -1.3185e-03,  1.1921e-02,  1.1963e-02, -4.2115e-03, -3.1096e-03,  3.5051e-04, -8.9063e-03, -2.7604e-02,  2.0893e-02,\n",
      "         1.1356e-03,  1.8400e-02,  2.0153e-02, -2.3151e-03, -1.1189e-02,  5.2033e-03,  8.2282e-03,  2.3268e-02, -9.5865e-03, -6.1547e-03,  6.5033e-03,\n",
      "         2.2185e-02, -1.1931e-02, -2.5054e-02,  5.6099e-03, -3.4374e-03, -1.7072e-02, -8.5902e-03, -5.7112e-03,  1.8022e-02, -2.1968e-02, -1.9235e-02,\n",
      "         6.1655e-03, -1.6999e-02, -1.0722e-02, -1.9383e-02,  8.8449e-03,  1.3585e-02, -3.0092e-02, -1.1612e-02, -6.9544e-03,  2.6941e-02, -1.0577e-02,\n",
      "         2.9090e-03,  2.6574e-02,  1.3156e-02, -1.2233e-02,  2.9995e-02,  2.6646e-02,  6.9014e-03,  2.4563e-02,  2.1567e-02,  2.8145e-02,  2.9246e-02,\n",
      "        -1.4770e-02,  6.3894e-04, -6.7486e-03,  1.7372e-02,  3.0628e-02,  2.3402e-02, -6.8398e-03, -1.5694e-02,  1.4204e-02,  6.1043e-03, -1.7264e-02,\n",
      "         1.2800e-02, -9.0062e-03, -8.7148e-03,  2.6414e-02,  1.9190e-02, -1.6657e-02, -3.4634e-03,  2.9302e-02, -2.2914e-02, -8.4858e-03,  2.9439e-02,\n",
      "         3.0015e-03, -8.6169e-03,  2.0444e-02,  3.0607e-02,  2.6865e-02, -2.5803e-03, -4.9087e-03, -2.2361e-02,  4.5831e-03,  2.2321e-02,  4.1742e-03,\n",
      "        -2.4270e-02, -3.8126e-04,  1.8093e-02, -1.6528e-03, -1.6340e-02,  9.4111e-04, -2.4697e-02, -8.8589e-03, -3.2050e-03, -1.6291e-02, -2.8353e-03,\n",
      "        -2.9684e-02, -1.6150e-02,  1.8629e-02, -1.7711e-02, -2.6125e-02, -2.3230e-02,  7.1786e-03,  3.5651e-03,  8.7340e-03,  1.7261e-02,  1.3564e-03,\n",
      "         1.4030e-02, -1.4407e-02,  2.3838e-02, -5.3502e-03, -2.5083e-02,  1.1434e-02,  9.3270e-03, -7.0081e-04, -1.3118e-02,  1.8916e-02,  6.9007e-03,\n",
      "        -6.4346e-03, -3.0226e-02, -1.3765e-02,  1.7517e-02,  6.7510e-03, -2.5567e-02,  2.0935e-02,  8.8028e-03,  1.4357e-02,  2.1417e-02,  3.4681e-03,\n",
      "        -1.5613e-02, -5.8217e-03,  1.2655e-03,  5.7664e-03, -8.3147e-03,  2.6001e-02, -2.4141e-02,  1.6091e-02, -1.6238e-02, -1.8900e-02, -1.4801e-02,\n",
      "         9.4148e-03,  9.8505e-03,  2.8720e-02,  2.9995e-03, -6.6032e-03, -2.3304e-02,  9.7148e-03, -1.1018e-02,  1.6680e-02, -1.9189e-02, -3.0537e-02,\n",
      "         2.8352e-02,  1.7943e-03,  9.0080e-03, -6.6666e-03,  5.3292e-03,  1.5405e-02, -2.4906e-02, -1.5931e-02,  8.0209e-03, -2.0978e-02,  5.2274e-03,\n",
      "         3.0244e-02,  6.9071e-03, -2.6704e-02, -2.3324e-02,  8.3888e-03, -8.5939e-03,  2.2779e-02, -1.8201e-02, -1.0230e-02,  2.8027e-02,  4.8532e-03,\n",
      "         3.1051e-03, -1.9530e-02, -1.7375e-02,  2.8242e-02, -8.5904e-03,  2.9895e-02,  2.8826e-02,  8.6483e-03, -2.6208e-02, -2.5199e-02, -3.0739e-02,\n",
      "         2.9307e-02,  1.0748e-02, -1.2596e-02,  1.6185e-02, -2.3361e-03,  1.4389e-02, -4.5182e-03, -4.6306e-03, -4.7718e-03, -2.9185e-03,  4.0404e-03,\n",
      "        -2.5760e-02,  2.7019e-02, -2.9921e-02, -6.7924e-03, -1.7525e-02,  2.9333e-02,  1.1799e-02,  2.4433e-02, -6.7915e-03, -1.6358e-02,  1.3979e-03,\n",
      "         8.2251e-03,  1.2832e-02,  2.3836e-02, -4.9973e-03, -1.6007e-02, -2.0882e-02, -3.0576e-02,  9.4200e-03,  9.0089e-03,  2.9905e-02,  7.6031e-03,\n",
      "        -1.1245e-03, -1.4103e-02,  7.5167e-03, -2.8538e-03, -2.6294e-03, -1.3482e-02,  1.1287e-02,  6.2055e-03,  1.7077e-02,  7.9588e-03,  2.8346e-02,\n",
      "         2.5949e-02, -2.1116e-02, -2.0532e-02, -2.1485e-02,  1.5843e-02, -2.9120e-02, -1.9613e-02,  2.1762e-02, -2.3700e-02, -1.1675e-02,  9.2910e-03,\n",
      "        -1.5562e-02,  2.4693e-02, -2.0754e-02, -6.2876e-04,  1.2369e-02,  2.3126e-02,  2.3731e-02, -1.4218e-02,  1.3558e-02, -1.7376e-02, -2.3102e-02,\n",
      "        -1.5176e-02,  6.1651e-03, -1.5561e-02, -1.4193e-02,  2.6804e-02,  2.2418e-02, -2.5421e-02,  1.3985e-02, -9.5716e-03, -2.2109e-02,  2.6716e-02,\n",
      "        -1.5131e-02,  8.0676e-03, -1.6597e-02, -9.7492e-03,  2.5294e-02, -2.8161e-02, -1.4867e-02, -2.1073e-02, -6.9884e-03, -1.9861e-03,  1.4111e-02,\n",
      "        -1.8880e-02,  2.8857e-02, -2.3289e-02, -2.1465e-02,  2.5886e-03,  1.5585e-02, -1.0243e-02,  1.9135e-02,  1.5273e-02,  2.1824e-02,  2.0566e-02,\n",
      "        -7.9332e-03, -9.9972e-03,  1.5803e-03, -1.3568e-02, -7.3159e-03,  2.5149e-03, -3.7925e-03, -1.2019e-03,  1.7478e-02,  2.8998e-02, -1.9080e-02,\n",
      "         1.8665e-02, -3.1220e-02,  1.0292e-02, -8.0799e-03,  2.4996e-02, -3.4412e-03, -1.8846e-02, -1.3218e-02,  2.4597e-02,  5.2558e-03,  4.4610e-03,\n",
      "         1.1418e-02,  7.6461e-03,  3.3542e-03, -3.0686e-02,  2.1295e-02,  7.8322e-03,  1.3724e-02,  2.7613e-02, -2.8391e-02,  2.3667e-02,  1.5195e-02,\n",
      "        -2.6287e-02, -3.1218e-02,  9.5644e-03, -1.6707e-02,  2.2976e-02,  2.3117e-02, -2.8398e-02,  1.7835e-02, -1.0734e-04, -6.1265e-03,  7.2735e-03,\n",
      "         2.1419e-03,  4.4762e-03,  7.3125e-03, -7.4759e-03, -2.5161e-02,  1.3007e-02, -1.0312e-03, -1.6297e-02, -2.2508e-02,  5.7464e-03, -1.3276e-02,\n",
      "        -1.6044e-02, -2.1570e-02, -1.6699e-02,  1.9666e-02, -7.9610e-03,  5.2974e-03, -2.4064e-02, -1.9468e-02,  3.4542e-03, -1.7408e-02, -2.3505e-02,\n",
      "        -2.7722e-03,  2.3818e-02, -2.7243e-02, -1.0751e-02,  1.8184e-02, -2.3290e-02, -1.5600e-03, -6.7148e-03, -1.4603e-02, -4.6578e-04,  1.1736e-02,\n",
      "         1.6331e-02,  2.5380e-02, -2.7872e-02,  2.8862e-02,  2.1725e-02,  9.0951e-03, -1.5516e-02,  1.3071e-02, -2.4292e-03,  2.1153e-02,  2.5423e-02,\n",
      "        -1.6888e-02,  1.3073e-02, -1.3433e-02,  2.5201e-02, -1.2966e-02, -2.2630e-02], requires_grad=True), Parameter containing:\n",
      "tensor([[-0.0141, -0.0070, -0.0947,  ..., -0.0255,  0.0104, -0.0132],\n",
      "        [-0.0664, -0.0563, -0.0037,  ..., -0.0846, -0.0436, -0.0485],\n",
      "        [-0.0984,  0.0409,  0.0180,  ..., -0.0696, -0.0125, -0.0437],\n",
      "        ...,\n",
      "        [ 0.0689, -0.0159, -0.0517,  ..., -0.0817, -0.0327,  0.0301],\n",
      "        [-0.0050,  0.0114,  0.0232,  ..., -0.1034,  0.0373, -0.0338],\n",
      "        [ 0.0191,  0.0150,  0.0032,  ..., -0.0738,  0.0038,  0.0276]], requires_grad=True), Parameter containing:\n",
      "tensor([-0.0162, -0.0408,  0.0419, -0.0215, -0.0271,  0.0264,  0.0392,  0.0108,  0.0306,  0.0001, -0.0027, -0.0118,  0.0108, -0.0085, -0.0208,\n",
      "        -0.0369, -0.0243, -0.0198,  0.0234, -0.0153,  0.0247, -0.0349, -0.0398,  0.0084,  0.0248, -0.0295, -0.0297, -0.0109,  0.0377,  0.0086,\n",
      "        -0.0016,  0.0222,  0.0393,  0.0364, -0.0382,  0.0171,  0.0023,  0.0411,  0.0350, -0.0247, -0.0230,  0.0147, -0.0305,  0.0153, -0.0268,\n",
      "        -0.0186, -0.0424,  0.0331, -0.0320,  0.0090,  0.0053,  0.0148,  0.0356, -0.0421,  0.0234, -0.0028,  0.0348, -0.0282,  0.0409, -0.0126,\n",
      "        -0.0181,  0.0044, -0.0120, -0.0213,  0.0081,  0.0111,  0.0100, -0.0225, -0.0142,  0.0201, -0.0425, -0.0054,  0.0173,  0.0188,  0.0025,\n",
      "        -0.0137,  0.0123,  0.0074,  0.0278,  0.0067,  0.0189,  0.0032,  0.0264, -0.0360,  0.0052, -0.0189, -0.0378, -0.0376,  0.0390, -0.0071,\n",
      "        -0.0176,  0.0278,  0.0301, -0.0297, -0.0084,  0.0136,  0.0441, -0.0350, -0.0137,  0.0048, -0.0331, -0.0167, -0.0012,  0.0440,  0.0093,\n",
      "        -0.0052, -0.0426,  0.0148, -0.0150, -0.0406,  0.0136,  0.0410, -0.0291, -0.0026, -0.0238,  0.0021,  0.0063, -0.0112,  0.0020,  0.0305,\n",
      "         0.0395, -0.0199,  0.0434, -0.0143,  0.0284, -0.0359, -0.0107,  0.0158,  0.0029, -0.0185, -0.0347,  0.0072,  0.0307, -0.0282,  0.0396,\n",
      "         0.0192, -0.0008, -0.0081, -0.0070, -0.0006, -0.0340, -0.0047,  0.0364, -0.0316,  0.0114,  0.0249,  0.0208,  0.0359,  0.0196,  0.0441],\n",
      "       requires_grad=True), Parameter containing:\n",
      "tensor([[ 0.3270,  0.1444,  0.1754,  ..., -0.0429, -0.1454,  0.0228],\n",
      "        [ 0.0077,  0.1128, -0.0742,  ...,  0.0223, -0.0833,  0.0120],\n",
      "        [-0.0090,  0.1290,  0.0723,  ..., -0.0597, -0.0614, -0.0762],\n",
      "        ...,\n",
      "        [ 0.0874,  0.1777,  0.0608,  ...,  0.2026,  0.0623,  0.0866],\n",
      "        [-0.1436, -0.0033,  0.1554,  ...,  0.0102, -0.0115,  0.0906],\n",
      "        [ 0.0533,  0.0699,  0.1552,  ...,  0.0266, -0.0376, -0.0338]], requires_grad=True), Parameter containing:\n",
      "tensor([-0.0022, -0.0417,  0.0767,  0.0372, -0.0099, -0.0031,  0.0684,  0.0575, -0.0379,  0.0435, -0.0491,  0.0200,  0.0734, -0.0580,  0.0375,\n",
      "        -0.0705, -0.0764, -0.0327,  0.0673,  0.0311, -0.0357,  0.0725, -0.0518,  0.0200, -0.0505, -0.0651,  0.0659, -0.0616, -0.0648,  0.0064,\n",
      "         0.0746,  0.0099, -0.0130,  0.0457,  0.0749,  0.0426, -0.0104, -0.0282,  0.0747, -0.0646,  0.0523,  0.0297, -0.0205,  0.0233, -0.0436,\n",
      "         0.0804,  0.0307, -0.0059, -0.0508, -0.0794, -0.0309,  0.0763, -0.0684, -0.0717,  0.0436,  0.0223, -0.0019,  0.0343, -0.0120,  0.0388,\n",
      "         0.0528, -0.0590, -0.0567, -0.0344, -0.0168, -0.0240, -0.0244, -0.0022, -0.0549,  0.0327, -0.0447,  0.0125,  0.0797,  0.0497,  0.0065,\n",
      "         0.0764,  0.0645, -0.0282,  0.0264, -0.0072, -0.0516, -0.0635, -0.0286, -0.0283, -0.0212, -0.0779,  0.0443, -0.0212, -0.0578,  0.0203,\n",
      "         0.0279, -0.0606, -0.0013, -0.0144, -0.0443,  0.0421,  0.0244, -0.0338,  0.0220,  0.0184, -0.0450,  0.0397, -0.0128, -0.0185, -0.0227,\n",
      "        -0.0196, -0.0497,  0.0498,  0.0223,  0.0618,  0.0678, -0.0511, -0.0763, -0.0558,  0.0559, -0.0789,  0.0309, -0.0378,  0.0464,  0.0272,\n",
      "         0.0532,  0.0131, -0.0037,  0.0308, -0.0569, -0.0777, -0.0776, -0.0076, -0.0658, -0.0388, -0.0554, -0.0750,  0.0275,  0.0181,  0.0043,\n",
      "        -0.0756, -0.0775,  0.0118,  0.0179,  0.0814,  0.0725, -0.0449, -0.0687, -0.0785, -0.0222, -0.0555, -0.0697,  0.0455, -0.0068,  0.0664,\n",
      "        -0.0471,  0.0290,  0.0573, -0.0576, -0.0223,  0.0055, -0.0115, -0.0633,  0.0497,  0.0724,  0.0056, -0.0331,  0.0492,  0.0435,  0.0381,\n",
      "        -0.0008,  0.0600,  0.0087,  0.0285,  0.0717,  0.0450, -0.0371, -0.0543,  0.0204, -0.0654, -0.0051,  0.0240,  0.0628,  0.0312,  0.0595,\n",
      "        -0.0172,  0.0017, -0.0517, -0.0452, -0.0577,  0.0096,  0.0143,  0.0728, -0.0224,  0.0766, -0.0693, -0.0508,  0.0223, -0.0307,  0.0731,\n",
      "        -0.0590,  0.0218, -0.0031,  0.0318,  0.0552, -0.0173, -0.0363,  0.0377, -0.0167,  0.0220, -0.0473,  0.0748,  0.0414, -0.0264, -0.0777,\n",
      "         0.0469, -0.0587, -0.0056, -0.0721,  0.0201, -0.0572, -0.0442, -0.0434,  0.0546,  0.0419, -0.0426, -0.0176,  0.0769,  0.0610,  0.0520,\n",
      "        -0.0252,  0.0074, -0.0051, -0.0049, -0.0565, -0.0294, -0.0386, -0.0405,  0.0205, -0.0244, -0.0041,  0.0453,  0.0284, -0.0187, -0.0413,\n",
      "        -0.0081,  0.0031,  0.0562, -0.0259,  0.0716, -0.0470,  0.0588,  0.0374,  0.0026, -0.0627, -0.0521,  0.0580,  0.0756,  0.0230, -0.0223,\n",
      "         0.0709, -0.0419,  0.0571, -0.0510, -0.0101, -0.0786,  0.0577, -0.0502, -0.0632,  0.0673,  0.0247, -0.0462, -0.0544,  0.0076,  0.0122,\n",
      "         0.0138, -0.0509,  0.0143,  0.0722, -0.0263, -0.0661,  0.0769, -0.0626, -0.0594,  0.0259,  0.0239, -0.0143, -0.0779, -0.0428, -0.0326,\n",
      "         0.0060, -0.0293, -0.0265,  0.0759,  0.0242,  0.0795,  0.0546,  0.0123,  0.0429, -0.0171,  0.0810, -0.0094, -0.0027, -0.0584,  0.0577,\n",
      "        -0.0558, -0.0096, -0.0683, -0.0779,  0.0065, -0.0100,  0.0182, -0.0584,  0.0712, -0.0785,  0.0538,  0.0487,  0.0256,  0.0572, -0.0274,\n",
      "        -0.0068, -0.0286,  0.0622, -0.0118,  0.0255,  0.0060,  0.0038, -0.0806, -0.0153, -0.0112,  0.0811, -0.0259, -0.0542,  0.0652,  0.0159,\n",
      "        -0.0146,  0.0752,  0.0613, -0.0708,  0.0616, -0.0630,  0.0367, -0.0338, -0.0351, -0.0790,  0.0598, -0.0157, -0.0713, -0.0362, -0.0276,\n",
      "        -0.0370,  0.0085,  0.0173,  0.0016, -0.0263, -0.0319, -0.0424, -0.0106, -0.0698, -0.0751, -0.0022,  0.0632,  0.0293,  0.0789,  0.0423,\n",
      "        -0.0355,  0.0532, -0.0044,  0.0004, -0.0394, -0.0353, -0.0281, -0.0815,  0.0557,  0.0028,  0.0136, -0.0696, -0.0669,  0.0087,  0.0543,\n",
      "        -0.0537, -0.0035,  0.0144, -0.0497,  0.0348,  0.0338, -0.0603,  0.0516, -0.0795, -0.0012, -0.0679, -0.0760, -0.0100, -0.0541, -0.0056,\n",
      "         0.0171,  0.0213,  0.0745,  0.0088,  0.0337, -0.0653,  0.0471, -0.0367,  0.0704, -0.0279, -0.0548,  0.0439, -0.0234, -0.0172, -0.0315,\n",
      "        -0.0159, -0.0157,  0.0640, -0.0005, -0.0812,  0.0597, -0.0129,  0.0037, -0.0289, -0.0753,  0.0800,  0.0256,  0.0731,  0.0791,  0.0109,\n",
      "         0.0514,  0.0495, -0.0377,  0.0177,  0.0180,  0.0066, -0.0489, -0.0724,  0.0691, -0.0724,  0.0277, -0.0200, -0.0747,  0.0199,  0.0670,\n",
      "         0.0582, -0.0168, -0.0727, -0.0377, -0.0705, -0.0608, -0.0102,  0.0779, -0.0014, -0.0300,  0.0054,  0.0778,  0.0112,  0.0697,  0.0179,\n",
      "         0.0502, -0.0468,  0.0135, -0.0057, -0.0342, -0.0652,  0.0293,  0.0321,  0.0567, -0.0587, -0.0250,  0.0690,  0.0160, -0.0414, -0.0392,\n",
      "        -0.0174,  0.0100, -0.0784, -0.0263, -0.0040, -0.0311, -0.0012, -0.0792,  0.0770, -0.0449,  0.0447, -0.0185, -0.0380, -0.0357, -0.0796,\n",
      "        -0.0065,  0.0392, -0.0107,  0.0025,  0.0433,  0.0345,  0.0814,  0.0775, -0.0805,  0.0709, -0.0540,  0.0404,  0.0555,  0.0397, -0.0224,\n",
      "        -0.0359,  0.0053,  0.0166, -0.0302, -0.0195,  0.0220,  0.0298,  0.0449, -0.0179, -0.0626,  0.0791,  0.0182,  0.0478, -0.0034,  0.0167,\n",
      "         0.0159,  0.0147], requires_grad=True), Parameter containing:\n",
      "tensor([[-0.0178,  0.0355,  0.0516,  ...,  0.0627,  0.0325,  0.1407],\n",
      "        [-0.0983, -0.0636, -0.0221,  ..., -0.1510, -0.0728,  0.0467],\n",
      "        [ 0.1379, -0.1140,  0.0372,  ...,  0.0018,  0.0724,  0.0014],\n",
      "        ...,\n",
      "        [ 0.1015,  0.0921,  0.0011,  ...,  0.0556, -0.0697,  0.0104],\n",
      "        [-0.0520,  0.0214,  0.0732,  ..., -0.0375,  0.0714, -0.0256],\n",
      "        [-0.0455,  0.0106,  0.0882,  ..., -0.0157, -0.0134,  0.0478]], requires_grad=True), Parameter containing:\n",
      "tensor([-0.0207, -0.0254, -0.0007,  ...,  0.0409, -0.0284,  0.0012], requires_grad=True), Parameter containing:\n",
      "tensor([[-0.0715, -0.0294, -0.0349,  ..., -0.0303,  0.0022,  0.0655],\n",
      "        [ 0.0309,  0.0714,  0.0319,  ..., -0.0031, -0.0092,  0.0495],\n",
      "        [ 0.0167, -0.0488,  0.0142,  ...,  0.0504, -0.0025,  0.0228],\n",
      "        ...,\n",
      "        [ 0.0187, -0.0690,  0.0173,  ..., -0.0051, -0.0090, -0.1633],\n",
      "        [-0.0028,  0.0366, -0.0015,  ...,  0.0196, -0.0098, -0.0330],\n",
      "        [-0.0028, -0.0363,  0.0589,  ...,  0.0517, -0.0331, -0.0692]], requires_grad=True), Parameter containing:\n",
      "tensor([-0.0020, -0.0067,  0.0007,  ...,  0.0081,  0.0115,  0.0254], requires_grad=True)]\n"
     ]
    }
   ],
   "source": [
    "model = define_autoencoder_model(args,device = current_device)\n",
    "\n",
    "if WANDB_ACTIVE:\n",
    "    wandb_watch(item = model, criterion=None, log = 'all', log_freq = 1000, log_graph = True)"
   ]
  },
  {
   "cell_type": "markdown",
   "id": "789809c5-6d84-497a-b345-9f144f37c4b6",
   "metadata": {},
   "source": [
    "# Load model checkpoint "
   ]
  },
  {
   "cell_type": "code",
   "execution_count": 16,
   "id": "60584bca-6c0a-4770-8e78-7f1b5ef10e0a",
   "metadata": {
    "execution": {
     "iopub.execute_input": "2024-07-03T16:18:15.087769Z",
     "iopub.status.busy": "2024-07-03T16:18:15.087271Z",
     "iopub.status.idle": "2024-07-03T16:18:15.150932Z",
     "shell.execute_reply": "2024-07-03T16:18:15.149582Z",
     "shell.execute_reply.started": "2024-07-03T16:18:15.087726Z"
    }
   },
   "outputs": [
    {
     "name": "stderr",
     "output_type": "stream",
     "text": [
      "2024-07-03 18:18:15,145 - root - INFO: -  INITIALIZE TRAINING - Run 10 epochs: epoch 1 to 10 \n"
     ]
    }
   ],
   "source": [
    "if args.ckpt is not None:\n",
    "    model.resume_training = True\n",
    "    model , last_epoch = load_checkpoint_v2(model, args.ckpt, verbose = True )  \n",
    "    model.train()\n",
    "    model.device = current_device\n",
    "    model = model.cuda(device=current_device)\n",
    "    logging.info(f\" Loaded Model device {model.device} -  Last completed epoch : {last_epoch}\")\n",
    "    model.starting_epoch = last_epoch\n",
    "    model.ending_epoch = last_epoch + args.epochs\n",
    "    logging.info(f\" RESUME TRAINING - Run {args.epochs} epochs: epoch {model.starting_epoch+1} to {model.ending_epoch} \")\n",
    "\n",
    "    if 'gen' not in model.training_history:\n",
    "        print(f\" Define self.training_history['gen'] \")\n",
    "        model.training_history['gen'] = {'trn_best_metric' : 0, 'trn_best_metric_ep' : 0, 'trn_best_loss': np.inf, 'trn_best_loss_ep' : 0 ,\n",
    "                                        'val_best_metric' : 0, 'val_best_metric_ep' : 0, 'val_best_loss': np.inf, 'val_best_loss_ep' : 0 }        \n",
    "    \n",
    "        for key in ['trn', 'val']:\n",
    "            tmp = np.argmin(model.training_history[key][f'{key}_ttl_loss'])\n",
    "            model.training_history['gen'][f'{key}_best_loss_ep'] = tmp\n",
    "            model.training_history['gen'][f'{key}_best_loss']    = model.training_history[key][f'{key}_ttl_loss'][tmp]\n",
    "            \n",
    "            tmp1 = np.argmax(model.training_history[key][f'{key}_R2_score'])\n",
    "            model.training_history['gen'][f'{key}_best_metric_ep'] = tmp1\n",
    "            model.training_history['gen'][f'{key}_best_metric'] = model.training_history[key][f'{key}_R2_score'][tmp1]\n",
    "    \n",
    "else:\n",
    "    model.resume_training = False\n",
    "    model.starting_epoch = 0\n",
    "    model.ending_epoch = args.epochs\n",
    "    logging.info(f\" INITIALIZE TRAINING - Run {args.epochs} epochs: epoch {model.starting_epoch+1} to {model.ending_epoch} \")\n",
    "\n",
    "model.best_metric = model.training_history['gen'][f'val_best_metric']  \n",
    "model.best_epoch  = model.training_history['gen'][f'val_best_metric_ep']  "
   ]
  },
  {
   "cell_type": "code",
   "execution_count": 17,
   "id": "8982c961-e05a-45dd-9f8c-c336387b4f6d",
   "metadata": {
    "execution": {
     "iopub.execute_input": "2024-07-03T16:18:15.952776Z",
     "iopub.status.busy": "2024-07-03T16:18:15.952307Z",
     "iopub.status.idle": "2024-07-03T16:18:16.074433Z",
     "shell.execute_reply": "2024-07-03T16:18:16.073826Z",
     "shell.execute_reply.started": "2024-07-03T16:18:15.952735Z"
    }
   },
   "outputs": [
    {
     "name": "stdout",
     "output_type": "stream",
     "text": [
      " Model device           : cuda:0\n",
      " Model embedding_layer  : 4\n",
      " loss_factor            : 1.0\n",
      " monitor_grads_layer    : None\n",
      " Use Single Loss        : False\n",
      " Use Prim Optimizer     : True\n",
      " Use Prim Scheduler     : True\n",
      " Main Optimizer Params  : Adam (\n",
      "Parameter Group 0\n",
      "    amsgrad: False\n",
      "    betas: (0.9, 0.999)\n",
      "    capturable: False\n",
      "    differentiable: False\n",
      "    eps: 1e-08\n",
      "    foreach: None\n",
      "    fused: None\n",
      "    lr: 0.0001\n",
      "    maximize: False\n",
      "    weight_decay: 0\n",
      ")\n",
      " Scheduler              : <torch.optim.lr_scheduler.ReduceLROnPlateau object at 0x7f23bf6aae10> \n",
      "    factor: 0.5  \n",
      "    min_lrs: [0]  \n",
      "    patience: 50  \n",
      "    verbose: False  \n",
      "    cooldown: 10  \n",
      "    cooldown_counter: 0  \n",
      "    mode: min  \n",
      "    threshold: 1e-06  \n",
      "    threshold_mode: rel  \n",
      "    best: inf  \n",
      "    num_bad_epochs: 0  \n",
      "    mode_worse: inf  \n",
      "    eps: 1e-08  \n",
      "    last_epoch: 0  \n",
      "\n",
      " Use snnl               : True\n",
      " SNNL factor            : 0.5\n",
      " SNNL temperature       : Parameter containing:\n",
      "tensor([0.0500], device='cuda:0', requires_grad=True)\n",
      " SNNL Temperature       : 0.05000000074505806\n",
      "\n",
      " Use Temp Optimizer     : True\n",
      " Use Temp Scheduler     : True\n",
      " Temperature Optimizer Params : SGD (\n",
      "Parameter Group 0\n",
      "    dampening: 0\n",
      "    differentiable: False\n",
      "    foreach: None\n",
      "    lr: 1e-05\n",
      "    maximize: False\n",
      "    momentum: 0.9\n",
      "    nesterov: False\n",
      "    weight_decay: 0\n",
      ")\n",
      " Temp Scheduler         : <torch.optim.lr_scheduler.ReduceLROnPlateau object at 0x7f2524a90310> \n",
      "    factor: 0.5  \n",
      "    min_lrs: [0]  \n",
      "    patience: 50  \n",
      "    verbose: False  \n",
      "    cooldown: 10  \n",
      "    cooldown_counter: 0  \n",
      "    mode: min  \n",
      "    threshold: 1e-06  \n",
      "    threshold_mode: rel  \n",
      "    best: inf  \n",
      "    num_bad_epochs: 0  \n",
      "    mode_worse: inf  \n",
      "    eps: 1e-08  \n",
      "    last_epoch: 0  \n",
      " \n",
      " Best training loss     : inf      - epoch: 0\n",
      " Best training metric   : 0.000000 - epoch: 0\n",
      " \n",
      " Best validation loss   : inf      - epoch: 0\n",
      " Best validation metric : 0.000000 - epoch: 0\n",
      " \n",
      " Model best metric      : 0.000000 - epoch: 0\n"
     ]
    }
   ],
   "source": [
    "display_model_parameters(model)\n"
   ]
  },
  {
   "cell_type": "markdown",
   "id": "94aeaa82-14c5-465c-ae6e-bb792ba8a973",
   "metadata": {},
   "source": [
    "# Autoencoder `fit(data_loader = train_loader, epochs = epochs)` "
   ]
  },
  {
   "cell_type": "code",
   "execution_count": 18,
   "id": "3da121c7-2e3f-4ba9-83db-5b7ffcb72f9f",
   "metadata": {
    "execution": {
     "iopub.execute_input": "2024-07-03T16:18:18.274783Z",
     "iopub.status.busy": "2024-07-03T16:18:18.274251Z",
     "iopub.status.idle": "2024-07-03T16:18:18.323889Z",
     "shell.execute_reply": "2024-07-03T16:18:18.323225Z",
     "shell.execute_reply.started": "2024-07-03T16:18:18.274741Z"
    }
   },
   "outputs": [
    {
     "name": "stdout",
     "output_type": "stream",
     "text": [
      " 20240703_181818  epoch    1 of   10\n"
     ]
    }
   ],
   "source": [
    "# print(f\" loss_factor         : {model.loss_factor} \\t\\t snnl_factor   : {model.snnl_factor} \\t\\t model.temperature   : {model.temperature}\")\n",
    "# print(f\" Learning rate : {model.optimizer.param_groups[0]['lr']}     model.TemperatureLR : {model.temperatureLR}\") \n",
    "# model.starting_epoch, model.ending_epoch = 0, 2\n",
    "# model.starting_epoch, model.ending_epoch\n",
    "\n",
    "print(f\" {datetime.now().strftime('%Y%m%d_%H%M%S')}  epoch {model.starting_epoch+1:4d} of {model.ending_epoch:4d}\")\n",
    "\n",
    "if WANDB_ACTIVE:\n",
    "    wandb.config.update(args)"
   ]
  },
  {
   "cell_type": "code",
   "execution_count": 33,
   "id": "90c74527-0c16-477c-b53a-9fcbdbb5e68b",
   "metadata": {
    "execution": {
     "iopub.execute_input": "2024-07-03T19:15:35.238000Z",
     "iopub.status.busy": "2024-07-03T19:15:35.237508Z",
     "iopub.status.idle": "2024-07-03T20:50:53.451870Z",
     "shell.execute_reply": "2024-07-03T20:50:53.450469Z",
     "shell.execute_reply.started": "2024-07-03T19:15:35.237957Z"
    }
   },
   "outputs": [
    {
     "name": "stdout",
     "output_type": "stream",
     "text": [
      " 20240703_211535  epoch   51 of  100\n",
      "  time   ep / eps |  Trn_loss   Primary      SNNL  |   temp*         grad    |   R2      BestEp         |  Vld_loss   Primary      SNNL  |   R2       BestEp          |   LR        temp LR    |\n",
      "------------------+--------------------------------+-------------------------+--------------------------+--------------------------------+----------------------------|------------------------|\n",
      "21:17:40 51 /100  |   1.4381     0.2459     1.1921 |   0.028163   1.0373e+00 |   0.6281    49           |   2.1978     0.2531     1.9447 |   0.6123    39             |  1.000e-04   1.000e-05 |\n"
     ]
    },
    {
     "name": "stderr",
     "output_type": "stream",
     "text": [
      "2024-07-03 21:19:52,444 - snnl.utils.utils - INFO: -  Model exported to ckpts/AE_snnl_dcpb200_150Ltnt_512_240703_1818_BEST.pt - epoch: 52\n"
     ]
    },
    {
     "name": "stdout",
     "output_type": "stream",
     "text": [
      "21:19:52 52 /100  |   1.3605     0.2462     1.1143 |   0.024650   2.5410e+00 |   0.6312    49           |   2.1924     0.2506     1.9418 |   0.6309    52             |  1.000e-04   1.000e-05 |\n",
      "21:22:05 53 /100  |   1.3902     0.2471     1.1431 |   0.029231   1.2958e+00 |   0.6322    49           |   2.1754     0.2505     1.9249 |   0.6249    52             |  1.000e-04   1.000e-05 |\n",
      "21:24:19 54 /100  |   1.3969     0.2470     1.1499 |   0.020678   2.1518e+00 |   0.6265    49           |   2.2037     0.2468     1.9569 |   0.6317    54             |  1.000e-04   1.000e-05 |\n"
     ]
    },
    {
     "name": "stderr",
     "output_type": "stream",
     "text": [
      "2024-07-03 21:24:20,157 - snnl.utils.utils - INFO: -  Model exported to ckpts/AE_snnl_dcpb200_150Ltnt_512_240703_1818_BEST.pt - epoch: 54\n"
     ]
    },
    {
     "name": "stdout",
     "output_type": "stream",
     "text": [
      "21:26:34 55 /100  |   1.6741     0.2614     1.4126 |   0.078648  -5.2147e-01 |   0.6006    49           |   2.9947     0.3133     2.6814 |   0.5159    54             |  1.000e-04   1.000e-05 |\n",
      "21:28:47 56 /100  |   2.7654     0.2795     2.4860 |   0.045268   4.3930e-01 |   0.5780    49           |   2.7046     0.2670     2.4376 |   0.5954    54             |  1.000e-04   1.000e-05 |\n",
      "21:31:00 57 /100  |   2.3431     0.2584     2.0848 |   0.026869  -4.1757e-02 |   0.6130    49           |   2.3964     0.2566     2.1398 |   0.5982    54             |  1.000e-04   1.000e-05 |\n",
      "21:33:14 58 /100  |   1.9937     0.2495     1.7442 |   0.023386   5.0805e-01 |   0.6248    49           |   2.2441     0.2501     1.9940 |   0.6092    54             |  1.000e-04   1.000e-05 |\n",
      "21:35:28 59 /100  |   1.7762     0.2434     1.5328 |   0.020740   4.8725e-01 |   0.6326    49           |   2.1784     0.2451     1.9333 |   0.6159    54             |  1.000e-04   1.000e-05 |\n",
      "21:37:38 60 /100  |   1.6207     0.2390     1.3818 |   0.021168   2.6499e-01 |   0.6373    60           |   2.1524     0.2418     1.9107 |   0.6312    54             |  1.000e-04   1.000e-05 |\n",
      "21:39:50 61 /100  |   1.5370     0.2373     1.2997 |   0.022880   2.5197e-02 |   0.6403    61           |   2.1555     0.2418     1.9138 |   0.6269    54             |  1.000e-04   1.000e-05 |\n",
      "21:42:04 62 /100  |   1.4449     0.2371     1.2078 |   0.023520   6.7770e-01 |   0.6405    62           |   2.1446     0.2401     1.9045 |   0.6420    62             |  1.000e-04   1.000e-05 |\n"
     ]
    },
    {
     "name": "stderr",
     "output_type": "stream",
     "text": [
      "2024-07-03 21:42:04,401 - snnl.utils.utils - INFO: -  Model exported to ckpts/AE_snnl_dcpb200_150Ltnt_512_240703_1818_BEST.pt - epoch: 62\n"
     ]
    },
    {
     "name": "stdout",
     "output_type": "stream",
     "text": [
      "21:44:15 63 /100  |   1.4017     0.2360     1.1656 |   0.025429   2.1812e+00 |   0.6436    63           |   2.1526     0.2417     1.9109 |   0.6456    63             |  1.000e-04   1.000e-05 |\n"
     ]
    },
    {
     "name": "stderr",
     "output_type": "stream",
     "text": [
      "2024-07-03 21:44:15,985 - snnl.utils.utils - INFO: -  Model exported to ckpts/AE_snnl_dcpb200_150Ltnt_512_240703_1818_BEST.pt - epoch: 63\n"
     ]
    },
    {
     "name": "stdout",
     "output_type": "stream",
     "text": [
      "21:46:28 64 /100  |   1.3832     0.2388     1.1444 |   0.029911   1.4820e+00 |   0.6406    63           |   2.1731     0.2485     1.9247 |   0.6348    63             |  1.000e-04   1.000e-05 |\n",
      "21:48:34 65 /100  |   1.3686     0.2399     1.1287 |   0.026864   7.7098e-01 |   0.6394    63           |   2.1515     0.2427     1.9087 |   0.6290    63             |  1.000e-04   1.000e-05 |\n",
      "21:50:45 66 /100  |   1.3152     0.2359     1.0794 |   0.023645   8.2317e-01 |   0.6461    66           |   2.1554     0.2386     1.9168 |   0.6221    63             |  1.000e-04   1.000e-05 |\n",
      "21:52:52 67 /100  |   1.3670     0.2402     1.1268 |   0.032994  -7.0801e-01 |   0.6392    66           |   2.2136     0.2521     1.9615 |   0.6264    63             |  1.000e-04   1.000e-05 |\n",
      "21:55:02 68 /100  |   1.3338     0.2397     1.0941 |   0.025929  -8.8950e-01 |   0.6401    66           |   2.2025     0.2422     1.9603 |   0.6362    63             |  1.000e-04   1.000e-05 |\n",
      "21:57:10 69 /100  |   1.4215     0.2383     1.1832 |   0.019200  -4.7332e+00 |   0.6307    66           |   2.2310     0.2394     1.9916 |   0.6118    63             |  1.000e-04   1.000e-05 |\n",
      "21:59:18 70 /100  |   1.3728     0.2347     1.1381 |   0.022491  -2.3183e+00 |   0.6404    66           |   2.2156     0.2410     1.9746 |   0.6281    63             |  1.000e-04   1.000e-05 |\n",
      "22:01:28 71 /100  |   1.3482     0.2366     1.1116 |   0.024704  -1.7413e+00 |   0.6440    66           |   2.2299     0.2439     1.9860 |   0.6374    63             |  1.000e-04   1.000e-05 |\n"
     ]
    },
    {
     "name": "stderr",
     "output_type": "stream",
     "text": [
      "2024-07-03 22:03:37,721 - snnl.models.base - INFO: -  Temperature optimizer learning rate reduced to [5e-06]\n"
     ]
    },
    {
     "name": "stdout",
     "output_type": "stream",
     "text": [
      "22:03:37 72 /100  |   1.3091     0.2362     1.0730 |   0.028068   5.5576e-01 |   0.6442    66           |   2.1618     0.2417     1.9201 |   0.6311    63             |  1.000e-04   1.000e-05 |\n",
      "22:05:46 73 /100  |   1.2979     0.2390     1.0589 |   0.028547  -3.5420e+00 |   0.6382    66           |   2.2091     0.2423     1.9668 |   0.6272    63             |  1.000e-04   5.000e-06 |\n",
      "22:07:54 74 /100  |   1.2554     0.2361     1.0192 |   0.028879   2.3384e+00 |   0.6430    66           |   2.1561     0.2385     1.9175 |   0.6324    63             |  1.000e-04   5.000e-06 |\n"
     ]
    },
    {
     "name": "stderr",
     "output_type": "stream",
     "text": [
      "2024-07-03 22:10:05,997 - snnl.utils.utils - INFO: -  Model exported to ckpts/AE_snnl_dcpb200_150Ltnt_512_240703_1818_ep_075.pt - epoch: 75\n"
     ]
    },
    {
     "name": "stdout",
     "output_type": "stream",
     "text": [
      "22:10:05 75 /100  |   1.4068     0.2404     1.1664 |   0.020619  -1.2502e+00 |   0.6383    66           |   2.1990     0.2421     1.9569 |   0.6226    63             |  1.000e-04   5.000e-06 |\n",
      "22:12:18 76 /100  |   1.3836     0.2378     1.1458 |   0.028600   1.4040e-01 |   0.6435    66           |   2.2083     0.2454     1.9629 |   0.6342    63             |  1.000e-04   5.000e-06 |\n",
      "22:14:30 77 /100  |   1.3828     0.2365     1.1463 |   0.023089   1.4761e+00 |   0.6448    66           |   2.1687     0.2362     1.9325 |   0.6298    63             |  1.000e-04   5.000e-06 |\n",
      "22:16:42 78 /100  |   1.3881     0.2397     1.1484 |   0.024407  -9.5641e-01 |   0.6312    66           |   2.1964     0.2418     1.9546 |   0.6161    63             |  1.000e-04   5.000e-06 |\n",
      "22:18:49 79 /100  |   1.3425     0.2355     1.1070 |   0.025944  -1.5817e+00 |   0.6431    66           |   2.1789     0.2395     1.9394 |   0.6216    63             |  1.000e-04   5.000e-06 |\n",
      "22:20:58 80 /100  |   1.3285     0.2343     1.0942 |   0.021155  -9.5568e-01 |   0.6411    66           |   2.2004     0.2386     1.9618 |   0.6071    63             |  1.000e-04   5.000e-06 |\n",
      "22:23:08 81 /100  |   1.3443     0.2364     1.1079 |   0.027950  -4.0722e+00 |   0.6375    66           |   2.2019     0.2398     1.9621 |   0.6207    63             |  1.000e-04   5.000e-06 |\n",
      "22:25:18 82 /100  |   1.2741     0.2332     1.0409 |   0.027356  -2.8539e+00 |   0.6459    66           |   2.2223     0.2405     1.9819 |   0.6344    63             |  1.000e-04   5.000e-06 |\n",
      "22:27:26 83 /100  |   1.3549     0.2335     1.1215 |   0.024182  -2.2089e+00 |   0.6438    66           |   2.2051     0.2398     1.9653 |   0.6134    63             |  1.000e-04   5.000e-06 |\n",
      "22:29:37 84 /100  |   1.3922     0.2322     1.1601 |   0.016578   5.4997e-02 |   0.6459    66           |   2.2114     0.2351     1.9762 |   0.5875    63             |  1.000e-04   5.000e-06 |\n",
      "22:31:47 85 /100  |   1.4571     0.2344     1.2228 |   0.018774   1.0755e+00 |   0.6185    66           |   2.1949     0.2352     1.9597 |   0.6263    63             |  1.000e-04   5.000e-06 |\n",
      "22:33:55 86 /100  |   1.5355     0.2599     1.2757 |   0.023767   3.7668e+00 |   0.5946    66           |   2.2554     0.2500     2.0054 |   0.6075    63             |  1.000e-04   5.000e-06 |\n",
      "22:36:05 87 /100  |   1.5471     0.2395     1.3076 |   0.023677  -1.8129e+00 |   0.6334    66           |   2.2378     0.2460     1.9919 |   0.6222    63             |  1.000e-04   5.000e-06 |\n",
      "22:38:12 88 /100  |   1.4060     0.2344     1.1716 |   0.024163  -4.2167e-01 |   0.6426    66           |   2.2031     0.2387     1.9644 |   0.6198    63             |  1.000e-04   5.000e-06 |\n",
      "22:40:17 89 /100  |   1.3227     0.2285     1.0943 |   0.020905  -5.0114e+00 |   0.6501    89           |   2.2144     0.2329     1.9815 |   0.6285    63             |  1.000e-04   5.000e-06 |\n",
      "22:42:25 90 /100  |   1.3070     0.2280     1.0790 |   0.022077  -1.3170e+00 |   0.6505    90           |   2.1744     0.2325     1.9420 |   0.6314    63             |  1.000e-04   5.000e-06 |\n",
      "22:44:40 91 /100  |   1.3081     0.2282     1.0799 |   0.019836   5.5604e-01 |   0.6463    90           |   2.1679     0.2306     1.9373 |   0.6366    63             |  1.000e-04   5.000e-06 |\n",
      "22:46:55 92 /100  |   1.4009     0.2281     1.1728 |   0.023484  -6.0107e-01 |   0.6409    90           |   2.1776     0.2339     1.9437 |   0.6359    63             |  1.000e-04   5.000e-06 |\n",
      "22:49:08 93 /100  |   1.3174     0.2312     1.0862 |   0.021571   8.7455e-01 |   0.6462    90           |   2.1809     0.2337     1.9472 |   0.6458    93             |  1.000e-04   5.000e-06 |\n"
     ]
    },
    {
     "name": "stderr",
     "output_type": "stream",
     "text": [
      "2024-07-03 22:49:08,735 - snnl.utils.utils - INFO: -  Model exported to ckpts/AE_snnl_dcpb200_150Ltnt_512_240703_1818_BEST.pt - epoch: 93\n"
     ]
    },
    {
     "name": "stdout",
     "output_type": "stream",
     "text": [
      "batch 338 - layer 4\n",
      "--- NAN Encountred  ----------------------------------------------------------------------------------------------------\n",
      "93/338 : Temperature              : -0.007194641046226025  \n",
      "93/338 : Pairwise distance matrix : torch.Size([600, 600])  Min: 0.0  argmin: 0   Max: 1.1185470819473267  argmax:  196145  Sum: 195699.5\n",
      "93/338 : -(Distance matrix / Temp): torch.Size([600, 600])  Min: 0.0  argmin: 0   Max: 155.469482421875  argmax:  196145  Sum: 27200732.0\n",
      "93/338 : exp((-Dist mat / Temp))  : torch.Size([600, 600])  Min: 1.0  argmin: 0   Max: inf  argmax:  9  Sum: inf\n",
      "93/338 : Distance matrix exponent : torch.Size([600, 600])  Min: 0.0  argmin: 0   Max: inf  argmax:  196145  Sum: inf\n",
      "93/338 : Pick Probability Matrix  : torch.Size([600, 600])  Min: nan  argmin: 9   Max: nan  argmax:  9  Sum: nan\n",
      "93/338 : Summed pick_probability  :  torch.Size([600])  Min nan  argmin: 0  Max: nan  argmax:  0  Sum: nan\n",
      "93/338 : mean(-log(summed_picked_probabilty)) -  nan\n",
      "------------------------------------------------------------------------------------------------------------------------\n"
     ]
    },
    {
     "ename": "ValueError",
     "evalue": " Nan encountered....",
     "output_type": "error",
     "traceback": [
      "\u001b[0;31m---------------------------------------------------------------------------\u001b[0m",
      "\u001b[0;31mValueError\u001b[0m                                Traceback (most recent call last)",
      "Cell \u001b[0;32mIn[33], line 5\u001b[0m\n\u001b[1;32m      2\u001b[0m header \u001b[38;5;241m=\u001b[39m \u001b[38;5;28;01mTrue\u001b[39;00m\n\u001b[1;32m      4\u001b[0m \u001b[38;5;28;01mfor\u001b[39;00m epoch \u001b[38;5;129;01min\u001b[39;00m \u001b[38;5;28mrange\u001b[39m(model\u001b[38;5;241m.\u001b[39mstarting_epoch, model\u001b[38;5;241m.\u001b[39mending_epoch):\n\u001b[0;32m----> 5\u001b[0m     train_loss \u001b[38;5;241m=\u001b[39m \u001b[43mmodel\u001b[49m\u001b[38;5;241;43m.\u001b[39;49m\u001b[43mepoch_train\u001b[49m\u001b[43m(\u001b[49m\u001b[43mtrain_loader\u001b[49m\u001b[43m,\u001b[49m\u001b[43m \u001b[49m\u001b[43mepoch\u001b[49m\u001b[43m,\u001b[49m\u001b[43m \u001b[49m\u001b[43mDEBUG_COUNT\u001b[49m\u001b[43m \u001b[49m\u001b[38;5;241;43m=\u001b[39;49m\u001b[43m \u001b[49m\u001b[38;5;241;43m3\u001b[39;49m\u001b[43m)\u001b[49m\n\u001b[1;32m      6\u001b[0m     val_loss \u001b[38;5;241m=\u001b[39m model\u001b[38;5;241m.\u001b[39mepoch_validate(val_loader, epoch)\n\u001b[1;32m      8\u001b[0m     display_epoch_metrics(model, epoch, model\u001b[38;5;241m.\u001b[39mending_epoch, header)\n",
      "File \u001b[0;32m~/WSL-shared/Cellpainting/pt-snnl/snnl/models/base.py:239\u001b[0m, in \u001b[0;36mModel.epoch_train\u001b[0;34m(self, data_loader, epoch, loss_factor, snnl_factor, DEBUG_COUNT, verbose)\u001b[0m\n\u001b[1;32m      0\u001b[0m <Error retrieving source code with stack_data see ipython/ipython#13598>\n",
      "File \u001b[0;32m~/WSL-shared/Cellpainting/pt-snnl/snnl/models/base.py:440\u001b[0m, in \u001b[0;36mcompute_snnl_loss\u001b[0;34m(self, labels, outputs, features)\u001b[0m\n\u001b[1;32m    438\u001b[0m \u001b[38;5;28mself\u001b[39m\u001b[38;5;241m.\u001b[39mtraining_history[key][\u001b[38;5;124mf\u001b[39m\u001b[38;5;124m\"\u001b[39m\u001b[38;5;132;01m{\u001b[39;00mkey\u001b[38;5;132;01m}\u001b[39;00m\u001b[38;5;124m_accuracy\u001b[39m\u001b[38;5;124m\"\u001b[39m]\u001b[38;5;241m.\u001b[39mappend(metrics\u001b[38;5;241m.\u001b[39maccuracy)\n\u001b[1;32m    439\u001b[0m \u001b[38;5;28mself\u001b[39m\u001b[38;5;241m.\u001b[39mtraining_history[key][\u001b[38;5;124mf\u001b[39m\u001b[38;5;124m\"\u001b[39m\u001b[38;5;132;01m{\u001b[39;00mkey\u001b[38;5;132;01m}\u001b[39;00m\u001b[38;5;124m_f1\u001b[39m\u001b[38;5;124m\"\u001b[39m]\u001b[38;5;241m.\u001b[39mappend(metrics\u001b[38;5;241m.\u001b[39mf1)\n\u001b[0;32m--> 440\u001b[0m \u001b[38;5;28mself\u001b[39m\u001b[38;5;241m.\u001b[39mtraining_history[key][\u001b[38;5;124mf\u001b[39m\u001b[38;5;124m\"\u001b[39m\u001b[38;5;132;01m{\u001b[39;00mkey\u001b[38;5;132;01m}\u001b[39;00m\u001b[38;5;124m_precision\u001b[39m\u001b[38;5;124m\"\u001b[39m]\u001b[38;5;241m.\u001b[39mappend(metrics\u001b[38;5;241m.\u001b[39mprecision)\n\u001b[1;32m    441\u001b[0m \u001b[38;5;28mself\u001b[39m\u001b[38;5;241m.\u001b[39mtraining_history[key][\u001b[38;5;124mf\u001b[39m\u001b[38;5;124m\"\u001b[39m\u001b[38;5;132;01m{\u001b[39;00mkey\u001b[38;5;132;01m}\u001b[39;00m\u001b[38;5;124m_recall\u001b[39m\u001b[38;5;124m\"\u001b[39m]\u001b[38;5;241m.\u001b[39mappend(metrics\u001b[38;5;241m.\u001b[39mrecall)\n\u001b[1;32m    442\u001b[0m \u001b[38;5;28mself\u001b[39m\u001b[38;5;241m.\u001b[39mtraining_history[key][\u001b[38;5;124mf\u001b[39m\u001b[38;5;124m\"\u001b[39m\u001b[38;5;132;01m{\u001b[39;00mkey\u001b[38;5;132;01m}\u001b[39;00m\u001b[38;5;124m_roc_auc\u001b[39m\u001b[38;5;124m\"\u001b[39m]\u001b[38;5;241m.\u001b[39mappend(metrics\u001b[38;5;241m.\u001b[39mroc_auc)\n",
      "File \u001b[0;32m~/miniforge3/envs/ptsnnl/lib/python3.11/site-packages/torch/nn/modules/module.py:1511\u001b[0m, in \u001b[0;36mModule._wrapped_call_impl\u001b[0;34m(self, *args, **kwargs)\u001b[0m\n\u001b[1;32m   1509\u001b[0m     \u001b[38;5;28;01mreturn\u001b[39;00m \u001b[38;5;28mself\u001b[39m\u001b[38;5;241m.\u001b[39m_compiled_call_impl(\u001b[38;5;241m*\u001b[39margs, \u001b[38;5;241m*\u001b[39m\u001b[38;5;241m*\u001b[39mkwargs)  \u001b[38;5;66;03m# type: ignore[misc]\u001b[39;00m\n\u001b[1;32m   1510\u001b[0m \u001b[38;5;28;01melse\u001b[39;00m:\n\u001b[0;32m-> 1511\u001b[0m     \u001b[38;5;28;01mreturn\u001b[39;00m \u001b[38;5;28;43mself\u001b[39;49m\u001b[38;5;241;43m.\u001b[39;49m\u001b[43m_call_impl\u001b[49m\u001b[43m(\u001b[49m\u001b[38;5;241;43m*\u001b[39;49m\u001b[43margs\u001b[49m\u001b[43m,\u001b[49m\u001b[43m \u001b[49m\u001b[38;5;241;43m*\u001b[39;49m\u001b[38;5;241;43m*\u001b[39;49m\u001b[43mkwargs\u001b[49m\u001b[43m)\u001b[49m\n",
      "File \u001b[0;32m~/miniforge3/envs/ptsnnl/lib/python3.11/site-packages/torch/nn/modules/module.py:1520\u001b[0m, in \u001b[0;36mModule._call_impl\u001b[0;34m(self, *args, **kwargs)\u001b[0m\n\u001b[1;32m   1515\u001b[0m \u001b[38;5;66;03m# If we don't have any hooks, we want to skip the rest of the logic in\u001b[39;00m\n\u001b[1;32m   1516\u001b[0m \u001b[38;5;66;03m# this function, and just call forward.\u001b[39;00m\n\u001b[1;32m   1517\u001b[0m \u001b[38;5;28;01mif\u001b[39;00m \u001b[38;5;129;01mnot\u001b[39;00m (\u001b[38;5;28mself\u001b[39m\u001b[38;5;241m.\u001b[39m_backward_hooks \u001b[38;5;129;01mor\u001b[39;00m \u001b[38;5;28mself\u001b[39m\u001b[38;5;241m.\u001b[39m_backward_pre_hooks \u001b[38;5;129;01mor\u001b[39;00m \u001b[38;5;28mself\u001b[39m\u001b[38;5;241m.\u001b[39m_forward_hooks \u001b[38;5;129;01mor\u001b[39;00m \u001b[38;5;28mself\u001b[39m\u001b[38;5;241m.\u001b[39m_forward_pre_hooks\n\u001b[1;32m   1518\u001b[0m         \u001b[38;5;129;01mor\u001b[39;00m _global_backward_pre_hooks \u001b[38;5;129;01mor\u001b[39;00m _global_backward_hooks\n\u001b[1;32m   1519\u001b[0m         \u001b[38;5;129;01mor\u001b[39;00m _global_forward_hooks \u001b[38;5;129;01mor\u001b[39;00m _global_forward_pre_hooks):\n\u001b[0;32m-> 1520\u001b[0m     \u001b[38;5;28;01mreturn\u001b[39;00m \u001b[43mforward_call\u001b[49m\u001b[43m(\u001b[49m\u001b[38;5;241;43m*\u001b[39;49m\u001b[43margs\u001b[49m\u001b[43m,\u001b[49m\u001b[43m \u001b[49m\u001b[38;5;241;43m*\u001b[39;49m\u001b[38;5;241;43m*\u001b[39;49m\u001b[43mkwargs\u001b[49m\u001b[43m)\u001b[49m\n\u001b[1;32m   1522\u001b[0m \u001b[38;5;28;01mtry\u001b[39;00m:\n\u001b[1;32m   1523\u001b[0m     result \u001b[38;5;241m=\u001b[39m \u001b[38;5;28;01mNone\u001b[39;00m\n",
      "File \u001b[0;32m~/WSL-shared/Cellpainting/pt-snnl/snnl/losses/ae_snnloss.py:178\u001b[0m, in \u001b[0;36mSNNLoss.forward\u001b[0;34m(self, model, outputs, features, labels, epoch, batch)\u001b[0m\n\u001b[1;32m    173\u001b[0m snnl \u001b[38;5;241m=\u001b[39m torch\u001b[38;5;241m.\u001b[39mmean( \u001b[38;5;241m-\u001b[39mtorch\u001b[38;5;241m.\u001b[39mlog(\u001b[38;5;28mself\u001b[39m\u001b[38;5;241m.\u001b[39mstability_epsilon \u001b[38;5;241m+\u001b[39m \u001b[38;5;28mself\u001b[39m\u001b[38;5;241m.\u001b[39msummed_masked_pick_probability))\n\u001b[1;32m    175\u001b[0m \u001b[38;5;66;03m# print(f\" SNNLoss.forward() - key: {key:3d}  val: {value.shape}  {value.ndim}  features sum: {value.sum():.4f}  Temp:{self.temperature.item():.4f}  SNNL: {snnl:.4f}\")\u001b[39;00m\n\u001b[1;32m    176\u001b[0m \u001b[38;5;66;03m# self.display_debug_info_2()\u001b[39;00m\n\u001b[0;32m--> 178\u001b[0m \u001b[38;5;28;01mif\u001b[39;00m torch\u001b[38;5;241m.\u001b[39misnan(snnl):\n\u001b[1;32m    179\u001b[0m     \u001b[38;5;28mprint\u001b[39m(\u001b[38;5;124mf\u001b[39m\u001b[38;5;124m\"\u001b[39m\u001b[38;5;124mbatch \u001b[39m\u001b[38;5;132;01m{\u001b[39;00mmodel\u001b[38;5;241m.\u001b[39mbatch_count\u001b[38;5;132;01m}\u001b[39;00m\u001b[38;5;124m - layer \u001b[39m\u001b[38;5;132;01m{\u001b[39;00mkey\u001b[38;5;132;01m}\u001b[39;00m\u001b[38;5;124m\"\u001b[39m)\n\u001b[1;32m    180\u001b[0m     \u001b[38;5;28mself\u001b[39m\u001b[38;5;241m.\u001b[39mdisplay_debug_info_1()\n",
      "\u001b[0;31mValueError\u001b[0m:  Nan encountered...."
     ]
    }
   ],
   "source": [
    "print(f\" {datetime.now().strftime('%Y%m%d_%H%M%S')}  epoch {model.starting_epoch+1:4d} of {model.ending_epoch:4d}\")\n",
    "header = True\n",
    "\n",
    "for epoch in range(model.starting_epoch, model.ending_epoch):\n",
    "    train_loss = model.epoch_train(train_loader, epoch, DEBUG_COUNT = 3)\n",
    "    val_loss = model.epoch_validate(val_loader, epoch)\n",
    "    \n",
    "    display_epoch_metrics(model, epoch, model.ending_epoch, header)\n",
    "    header = False\n",
    "    model.scheduling_step(val_loss)\n",
    "    \n",
    "    if WANDB_ACTIVE:\n",
    "        epoch_metrics = {x:y     for x,y in model.training_history['gen'].items()} | \\\n",
    "                        {x:y[-1] for x,y in model.training_history['val'].items()} | \\\n",
    "                        {x:y[-1] for x,y in model.training_history['trn'].items()} \n",
    "        wandb_log_metrics( data = epoch_metrics, step = epoch)\n",
    "    \n",
    "    if model.new_best:\n",
    "        save_checkpoint_v3(epoch+1, model, args, update_best=True)        \n",
    "    if (epoch + 1) % args.save_every == 0:\n",
    "        save_checkpoint_v3(epoch+1, model, args)    \n",
    "        \n",
    "print(f\"Last Epoch {epoch+1}\")\n",
    "save_checkpoint_v3(epoch+1, model, args, update_latest=True)       "
   ]
  },
  {
   "cell_type": "code",
   "execution_count": null,
   "id": "756fad25-1b13-4d56-a8f5-a9b5cda65752",
   "metadata": {},
   "outputs": [],
   "source": [
    "model.training_history.keys()\n",
    "model.training_history['gen']\n",
    "# epoch_metrics.keys()"
   ]
  },
  {
   "cell_type": "markdown",
   "id": "0db40148-a95e-4895-8868-bd27050a3c9f",
   "metadata": {},
   "source": [
    "### Close WandB Logging"
   ]
  },
  {
   "cell_type": "code",
   "execution_count": null,
   "id": "1251c457-bbae-4bfc-a786-92fbc8d2ddb6",
   "metadata": {},
   "outputs": [],
   "source": [
    "if WANDB_ACTIVE:\n",
    "    wandb_run.finish()\n",
    "    WANDB_ACTIVE = False"
   ]
  },
  {
   "cell_type": "code",
   "execution_count": 22,
   "id": "0927be49-85f5-4c34-a8e1-717016168df1",
   "metadata": {
    "execution": {
     "iopub.execute_input": "2024-07-03T16:41:03.703038Z",
     "iopub.status.busy": "2024-07-03T16:41:03.702553Z",
     "iopub.status.idle": "2024-07-03T16:41:03.953309Z",
     "shell.execute_reply": "2024-07-03T16:41:03.952622Z",
     "shell.execute_reply.started": "2024-07-03T16:41:03.702996Z"
    }
   },
   "outputs": [
    {
     "data": {
      "text/plain": [
       "(9, 0, 10)"
      ]
     },
     "execution_count": 22,
     "metadata": {},
     "output_type": "execute_result"
    }
   ],
   "source": [
    "epoch, model.starting_epoch, model.ending_epoch"
   ]
  },
  {
   "cell_type": "code",
   "execution_count": 29,
   "id": "45810b9a-9d1e-4913-bc64-71c12181b3b6",
   "metadata": {
    "execution": {
     "iopub.execute_input": "2024-07-03T19:14:39.234810Z",
     "iopub.status.busy": "2024-07-03T19:14:39.233975Z",
     "iopub.status.idle": "2024-07-03T19:14:39.287920Z",
     "shell.execute_reply": "2024-07-03T19:14:39.286759Z",
     "shell.execute_reply.started": "2024-07-03T19:14:39.234755Z"
    },
    "scrolled": true
   },
   "outputs": [
    {
     "name": "stdout",
     "output_type": "stream",
     "text": [
      "  time   ep / eps |  Trn_loss   Primary      SNNL  |   temp*         grad    |   R2      BestEp         |  Vld_loss   Primary      SNNL  |   R2       BestEp          |   LR        temp LR    |\n",
      "------------------+--------------------------------+-------------------------+--------------------------+--------------------------------+----------------------------|------------------------|\n",
      "18:20:45  1 / 50  |   3.2818     0.8579     2.4240 |   0.054961   2.7755e-01 | -13.4074    49           |   2.7949     0.5691     2.2259 |  -4.5259    39             |  1.000e-04   1.000e-05 |\n",
      "18:22:52  2 / 50  |   2.5728     0.4985     2.0743 |   0.044622   9.3485e-02 |  -3.4225    49           |   2.5011     0.4385     2.0626 |  -2.1521    39             |  1.000e-04   1.000e-05 |\n",
      "18:24:58  3 / 50  |   2.3252     0.4178     1.9074 |   0.038977   1.1651e-01 |  -1.6427    49           |   2.3693     0.3909     1.9784 |  -1.1240    39             |  1.000e-04   1.000e-05 |\n",
      "18:27:05  4 / 50  |   2.1669     0.3790     1.7879 |   0.035253   3.0128e-01 |  -0.8763    49           |   2.2946     0.3617     1.9328 |  -0.5733    39             |  1.000e-04   1.000e-05 |\n",
      "18:29:11  5 / 50  |   2.0443     0.3539     1.6904 |   0.033075   6.0876e-01 |  -0.4518    49           |   2.2522     0.3423     1.9099 |  -0.2313    39             |  1.000e-04   1.000e-05 |\n",
      "18:31:19  6 / 50  |   1.9420     0.3372     1.6048 |   0.030053   6.7124e-01 |  -0.1942    49           |   2.2300     0.3289     1.9012 |  -0.0249    39             |  1.000e-04   1.000e-05 |\n",
      "18:33:27  7 / 50  |   1.8535     0.3261     1.5275 |   0.028897   7.3346e-01 |  -0.0245    49           |   2.2231     0.3200     1.9031 |   0.1024    39             |  1.000e-04   1.000e-05 |\n",
      "18:35:33  8 / 50  |   1.7858     0.3188     1.4670 |   0.025975  -3.3982e+00 |   0.0673    49           |   2.2778     0.3170     1.9608 |   0.1444    39             |  1.000e-04   1.000e-05 |\n",
      "18:37:42  9 / 50  |   1.7487     0.3159     1.4329 |   0.026134   1.9455e+00 |   0.1390    49           |   2.2202     0.3079     1.9123 |   0.2387    39             |  1.000e-04   1.000e-05 |\n",
      "18:39:56 10 / 50  |   1.6975     0.3115     1.3860 |   0.026815  -6.2987e-01 |   0.2065    49           |   2.2495     0.3056     1.9440 |   0.2885    39             |  1.000e-04   1.000e-05 |\n",
      "18:44:15 11 / 50  |   1.7008     0.3104     1.3903 |   0.023812  -1.6749e-01 |   0.2509    49           |   2.2527     0.3024     1.9502 |   0.3640    39             |  1.000e-04   1.000e-05 |\n",
      "18:46:24 12 / 50  |   1.6657     0.3021     1.3636 |   0.021471   4.4922e+00 |   0.3104    49           |   2.2861     0.3171     1.9689 |   0.3016    39             |  1.000e-04   1.000e-05 |\n",
      "18:48:32 13 / 50  |   1.7013     0.3012     1.4001 |   0.024372   3.7471e+00 |   0.3276    49           |   2.2410     0.3122     1.9288 |   0.3445    39             |  1.000e-04   1.000e-05 |\n",
      "18:50:38 14 / 50  |   1.6097     0.2958     1.3139 |   0.026388   3.4558e+00 |   0.3925    49           |   2.1863     0.2923     1.8940 |   0.4478    39             |  1.000e-04   1.000e-05 |\n",
      "18:52:46 15 / 50  |   1.6024     0.2936     1.3088 |   0.027111   3.8609e-01 |   0.4130    49           |   2.2205     0.2927     1.9278 |   0.4599    39             |  1.000e-04   1.000e-05 |\n",
      "18:54:54 16 / 50  |   1.6242     0.2913     1.3329 |   0.024519  -1.6170e-01 |   0.4195    49           |   2.2162     0.2868     1.9293 |   0.4723    39             |  1.000e-04   1.000e-05 |\n",
      "18:57:04 17 / 50  |   1.6239     0.2853     1.3386 |   0.021176   5.7516e-01 |   0.4522    49           |   2.1932     0.2799     1.9134 |   0.5077    39             |  1.000e-04   1.000e-05 |\n",
      "18:59:13 18 / 50  |   1.5747     0.2832     1.2914 |   0.022161   5.3512e-01 |   0.4689    49           |   2.2125     0.2824     1.9301 |   0.5003    39             |  1.000e-04   1.000e-05 |\n",
      "19:01:24 19 / 50  |   1.5757     0.2864     1.2893 |   0.023338   4.1838e-01 |   0.4717    49           |   2.2083     0.2805     1.9278 |   0.5243    39             |  1.000e-04   1.000e-05 |\n",
      "19:03:33 20 / 50  |   1.5338     0.2805     1.2534 |   0.022451   5.9805e-01 |   0.5000    49           |   2.2169     0.2779     1.9390 |   0.5325    39             |  1.000e-04   1.000e-05 |\n",
      "19:37:22 21 / 50  |   1.5849     0.2778     1.3072 |   0.020659   6.6344e+00 |   0.5154    49           |   2.1617     0.2724     1.8893 |   0.5381    39             |  1.000e-04   1.000e-05 |\n",
      "19:39:29 22 / 50  |   1.5895     0.2783     1.3112 |   0.022807  -5.4219e+00 |   0.5136    49           |   2.2914     0.2774     2.0140 |   0.5455    39             |  1.000e-04   1.000e-05 |\n",
      "19:41:38 23 / 50  |   1.6770     0.2866     1.3903 |   0.028902   4.3766e-01 |   0.5060    49           |   2.2193     0.2858     1.9336 |   0.5321    39             |  1.000e-04   1.000e-05 |\n",
      "19:43:46 24 / 50  |   1.5866     0.2787     1.3078 |   0.027366  -3.3170e-01 |   0.5377    49           |   2.1959     0.2723     1.9235 |   0.5669    39             |  1.000e-04   1.000e-05 |\n",
      "19:45:56 25 / 50  |   1.5062     0.2763     1.2299 |   0.025369   8.2731e-01 |   0.5536    49           |   2.1963     0.2696     1.9267 |   0.5794    39             |  1.000e-04   1.000e-05 |\n",
      "19:48:04 26 / 50  |   1.5644     0.2756     1.2889 |   0.024053  -9.5657e-01 |   0.5429    49           |   2.2071     0.2737     1.9334 |   0.5742    39             |  1.000e-04   1.000e-05 |\n",
      "19:50:14 27 / 50  |   1.5012     0.2667     1.2344 |   0.018191   2.9616e+00 |   0.5734    49           |   2.1934     0.2662     1.9271 |   0.5852    39             |  1.000e-04   1.000e-05 |\n",
      "19:52:28 28 / 50  |   1.5419     0.2678     1.2741 |   0.025140   1.7704e+00 |   0.5773    49           |   2.2037     0.2723     1.9314 |   0.5890    39             |  1.000e-04   1.000e-05 |\n",
      "19:54:43 29 / 50  |   1.5818     0.2699     1.3119 |   0.026418   3.6074e-01 |   0.5764    49           |   2.1931     0.2688     1.9243 |   0.6029    39             |  1.000e-04   1.000e-05 |\n",
      "19:57:01 30 / 50  |   1.5111     0.2648     1.2463 |   0.020295   9.5475e-02 |   0.5844    49           |   2.2040     0.2617     1.9423 |   0.6012    39             |  1.000e-04   1.000e-05 |\n",
      "19:59:12 31 / 50  |   1.5029     0.2624     1.2405 |   0.023139   1.3979e+00 |   0.5929    49           |   2.1893     0.2619     1.9274 |   0.6106    39             |  1.000e-04   1.000e-05 |\n",
      "20:01:28 32 / 50  |   1.4890     0.2618     1.2272 |   0.026127  -3.0503e-01 |   0.5939    49           |   2.2294     0.2696     1.9598 |   0.5862    39             |  1.000e-04   1.000e-05 |\n",
      "20:03:38 33 / 50  |   1.4915     0.2607     1.2308 |   0.024453  -2.2975e-01 |   0.5966    49           |   2.1975     0.2603     1.9372 |   0.6039    39             |  1.000e-04   1.000e-05 |\n",
      "20:05:49 34 / 50  |   1.4808     0.2619     1.2189 |   0.023471   9.9708e-01 |   0.5973    49           |   2.1954     0.2617     1.9337 |   0.5977    39             |  1.000e-04   1.000e-05 |\n",
      "20:08:00 35 / 50  |   1.4426     0.2602     1.1824 |   0.029666  -1.4998e-01 |   0.6014    49           |   2.2003     0.2620     1.9383 |   0.5998    39             |  1.000e-04   1.000e-05 |\n",
      "20:10:13 36 / 50  |   1.4079     0.2557     1.1522 |   0.018494   1.3049e+00 |   0.6105    49           |   2.2115     0.2575     1.9540 |   0.5649    39             |  1.000e-04   1.000e-05 |\n",
      "20:12:36 37 / 50  |   1.4517     0.2572     1.1945 |   0.027127   3.3174e+00 |   0.6076    49           |   2.1795     0.2580     1.9215 |   0.6136    39             |  1.000e-04   1.000e-05 |\n",
      "20:14:54 38 / 50  |   1.4354     0.2562     1.1792 |   0.022266   9.3761e-01 |   0.6132    49           |   2.1886     0.2554     1.9332 |   0.6124    39             |  1.000e-04   1.000e-05 |\n",
      "20:17:09 39 / 50  |   1.4702     0.2577     1.2125 |   0.025615  -7.3564e-01 |   0.6089    49           |   2.2034     0.2570     1.9463 |   0.6262    39             |  1.000e-04   1.000e-05 |\n",
      "20:19:28 40 / 50  |   1.3682     0.2523     1.1159 |   0.027143   3.2199e+00 |   0.6245    49           |   2.1987     0.2568     1.9420 |   0.6261    39             |  1.000e-04   1.000e-05 |\n",
      "20:21:44 41 / 50  |   1.5594     0.2618     1.2977 |   0.026062   1.5001e+00 |   0.6009    49           |   2.1742     0.2561     1.9181 |   0.6144    39             |  1.000e-04   1.000e-05 |\n",
      "20:24:00 42 / 50  |   1.4482     0.2514     1.1968 |   0.024202   5.8564e-01 |   0.6290    49           |   2.2072     0.2570     1.9502 |   0.6194    39             |  1.000e-04   1.000e-05 |\n",
      "20:26:17 43 / 50  |   1.4043     0.2516     1.1527 |   0.027481   7.2064e-01 |   0.6262    49           |   2.1675     0.2526     1.9149 |   0.6196    39             |  1.000e-04   1.000e-05 |\n",
      "20:28:32 44 / 50  |   1.4269     0.2492     1.1777 |   0.019817   9.8302e-01 |   0.6268    49           |   2.2785     0.2563     2.0222 |   0.5735    39             |  1.000e-04   1.000e-05 |\n",
      "20:30:49 45 / 50  |   1.4987     0.2484     1.2503 |   0.019507   2.8834e+00 |   0.6249    49           |   2.2188     0.2578     1.9611 |   0.5611    39             |  1.000e-04   1.000e-05 |\n",
      "20:33:05 46 / 50  |   1.4341     0.2494     1.1847 |   0.022957   1.3804e+00 |   0.6167    49           |   2.1855     0.2503     1.9352 |   0.6173    39             |  1.000e-04   1.000e-05 |\n",
      "20:35:16 47 / 50  |   1.3773     0.2473     1.1300 |   0.027987   1.5949e+00 |   0.6275    49           |   2.1735     0.2514     1.9222 |   0.6205    39             |  1.000e-04   1.000e-05 |\n",
      "20:37:29 48 / 50  |   1.4540     0.2509     1.2030 |   0.028973   3.8632e-01 |   0.6277    49           |   2.1827     0.2536     1.9291 |   0.6210    39             |  1.000e-04   1.000e-05 |\n",
      "20:39:42 49 / 50  |   1.3722     0.2477     1.1244 |   0.027296  -5.2111e-01 |   0.6349    49           |   2.2105     0.2530     1.9575 |   0.6112    39             |  1.000e-04   1.000e-05 |\n",
      "20:41:57 50 / 50  |   1.3606     0.2446     1.1160 |   0.023188   1.0076e+00 |   0.6323    49           |   2.2497     0.2506     1.9991 |   0.6186    39             |  1.000e-04   1.000e-05 |\n"
     ]
    }
   ],
   "source": [
    "for epoch in range(model.ending_epoch):\n",
    "    display_epoch_metrics(model, epoch)"
   ]
  },
  {
   "cell_type": "code",
   "execution_count": 30,
   "id": "03e71f2a-4b3c-4554-8cb8-e4a25d56db61",
   "metadata": {
    "execution": {
     "iopub.execute_input": "2024-07-03T19:14:57.969764Z",
     "iopub.status.busy": "2024-07-03T19:14:57.969278Z",
     "iopub.status.idle": "2024-07-03T19:14:58.019478Z",
     "shell.execute_reply": "2024-07-03T19:14:58.018847Z",
     "shell.execute_reply.started": "2024-07-03T19:14:57.969721Z"
    }
   },
   "outputs": [
    {
     "name": "stdout",
     "output_type": "stream",
     "text": [
      " 20240703_211458  epoch   51 of  100\n"
     ]
    }
   ],
   "source": [
    "# model.starting_epoch = 59\n",
    "# epochs = 100\n",
    "# model.ending_epoch = 100\n",
    "model.starting_epoch = model.ending_epoch\n",
    "model.ending_epoch += 50\n",
    "print(f\" {datetime.now().strftime('%Y%m%d_%H%M%S')}  epoch {model.starting_epoch+1:4d} of {model.ending_epoch:4d}\")"
   ]
  },
  {
   "cell_type": "markdown",
   "id": "d989aa94-f3ce-4ece-8467-75d6028f66cc",
   "metadata": {},
   "source": [
    "## Misc stuff"
   ]
  },
  {
   "cell_type": "code",
   "execution_count": null,
   "id": "e4aa7124-e692-4ac6-943d-3811dbf93741",
   "metadata": {
    "execution": {
     "iopub.status.busy": "2024-07-03T20:50:53.452779Z",
     "iopub.status.idle": "2024-07-03T20:50:53.453042Z",
     "shell.execute_reply": "2024-07-03T20:50:53.452925Z",
     "shell.execute_reply.started": "2024-07-03T20:50:53.452912Z"
    }
   },
   "outputs": [],
   "source": [
    "def display_epoch_metrics(model, epoch = None, epochs = None, header = False):\n",
    "    # key1, key2 = model.training_history.keys()\n",
    "    key1 = 'trn' ##if key1 == 'trn' else ''\n",
    "    key2 = 'val' ##if key1_p == 'trn' else ''\n",
    "    \n",
    "    history_len = len(model.training_history[key1][f'{key1}_ttl_loss'])\n",
    "    epochs = history_len if epochs is None else epochs\n",
    "    epoch  = 0 if epoch is None else epoch\n",
    "    header = True if epoch == 0 else header\n",
    "    \n",
    "    idx = epoch\n",
    "    if idx>=epochs:\n",
    "        return\n",
    "    if model.use_snnl:\n",
    "        temp_hist = model.training_history[key1]['temp_hist'][idx]\n",
    "        temp_grad_hist = model.training_history[key1]['temp_grad_hist'][idx]\n",
    "        temp_LR = model.training_history[key1][\"temp_lr\"][idx] \n",
    "    else:\n",
    "        temp_hist = 0\n",
    "        temp_grad_hist = 0\n",
    "        temp_LR = 0\n",
    "        \n",
    "    trn_LR = model.training_history[key1][\"trn_lr\"][idx] if model.use_prim_scheduler else 0.0\n",
    " \n",
    "    if model.unsupervised:\n",
    "        if header:\n",
    "            print(f\"  time   ep / eps |  Trn_loss   Primary      SNNL  |   temp*         grad    |   R2      BestEp         |  Vld_loss   Primary      SNNL  |   R2       BestEp          |   LR        temp LR    |\")\n",
    "            print(f\"------------------+--------------------------------+-------------------------+--------------------------+--------------------------------+----------------------------|------------------------|\")\n",
    "                 # \"00:45:46 ep   1 / 10 |   9.909963    4.904229    5.005733 |  14.996347   -2.6287e-10 |                          |   9.833426    4.827625    5.005800 |                          |\"\n",
    "        print(f\"{model.training_history[key2][f'{key2}_time'][idx]} {epoch + 1:^3d}/{epochs:^4d} |\"\n",
    "              f\" {model.training_history[key1][f'{key1}_ttl_loss'][idx]:8.4f}   {   model.training_history[key1][f'{key1}_prim_loss'][idx]:8.4f}   {   model.training_history[key1][f'{key1}_snn_loss'][idx]:8.4f} |\"\n",
    "              f\" {temp_hist:10.6f}  {temp_grad_hist:11.4e} |\"\n",
    "              f\" {model.training_history[key1][f'{key1}_R2_score'][idx]:8.4f}   {model.training_history['gen'].get('trn_best_metric_ep',0)+1:3d}           |\"\n",
    "              f\" {model.training_history[key2][f'{key2}_ttl_loss'][idx]:8.4f}   {   model.training_history[key2][f'{key2}_prim_loss'][idx]:8.4f}   {   model.training_history[key2][f'{key2}_snn_loss'][idx]:8.4f} |\"\n",
    "              f\" {model.training_history[key2][f'{key2}_R2_score'][idx]:8.4f}   {model.training_history['gen'].get('val_best_metric_ep',0)+1:3d}             |\"\n",
    "              f\" {trn_LR :10.3e}  {temp_LR :10.3e} |\")\n",
    "        \n",
    "    else:\n",
    "        pass"
   ]
  },
  {
   "cell_type": "code",
   "execution_count": 31,
   "id": "7b508dd5-2754-4906-9e1e-72c755e90592",
   "metadata": {
    "execution": {
     "iopub.execute_input": "2024-07-03T19:15:06.344079Z",
     "iopub.status.busy": "2024-07-03T19:15:06.343592Z",
     "iopub.status.idle": "2024-07-03T19:15:06.388600Z",
     "shell.execute_reply": "2024-07-03T19:15:06.387945Z",
     "shell.execute_reply.started": "2024-07-03T19:15:06.344037Z"
    }
   },
   "outputs": [],
   "source": [
    "# save_checkpoint_v3(1, model, args, update_latest=True)  "
   ]
  },
  {
   "cell_type": "code",
   "execution_count": null,
   "id": "7f79f504-b6a9-49c6-96a8-95dedace8b88",
   "metadata": {
    "execution": {
     "iopub.status.busy": "2024-07-03T20:50:53.454047Z",
     "iopub.status.idle": "2024-07-03T20:50:53.454290Z",
     "shell.execute_reply": "2024-07-03T20:50:53.454176Z",
     "shell.execute_reply.started": "2024-07-03T20:50:53.454164Z"
    }
   },
   "outputs": [],
   "source": [
    "# model.temperature.data\n",
    "# model.snnl_criterion.temperature\n",
    "display_epoch_metrics(model, epoch, model.ending_epoch, header = True)"
   ]
  },
  {
   "cell_type": "code",
   "execution_count": null,
   "id": "fec14ff8-91aa-409d-b381-8e6344c7e385",
   "metadata": {},
   "outputs": [],
   "source": [
    "# model.starting_epoch, model.ending_epoch = 0, 2\n",
    "# epoch = 1\n",
    "# model.temperature = torch.abs(model.temperature)\n",
    "# model.temperature = torch.nn.Parameter(torch.clip(model.temperature, 0.001, None))\n",
    "# model.snnl_criterion.temperature= torch.nn.Parameter(torch.clip(model.snnl_criterion.temperature, 0.001, None))"
   ]
  },
  {
   "cell_type": "code",
   "execution_count": null,
   "id": "da9d2e60-6a22-4959-9cd1-c58ec2ac987a",
   "metadata": {},
   "outputs": [],
   "source": [
    "# model.temperature.data\n",
    "# model.snnl_criterion.temperature"
   ]
  },
  {
   "cell_type": "code",
   "execution_count": null,
   "id": "4cb33f46-7cda-4178-b435-9a9bcd9f52f0",
   "metadata": {},
   "outputs": [],
   "source": [
    "# model.starting_epoch, model.ending_epoch = 0, 2\n",
    "# epoch = 1\n",
    "# model.temperature = torch.abs(model.temperature)\n",
    "# model.temperature = torch.nn.Parameter(torch.clip(model.temperature, 0.001, None))\n",
    "# model.snnl_criterion.temperature= torch.nn.Parameter(torch.clip(model.snnl_criterion.temperature, 0.001, None))"
   ]
  },
  {
   "cell_type": "code",
   "execution_count": null,
   "id": "fbe95719-d1e2-46fd-984c-51c47775609c",
   "metadata": {},
   "outputs": [],
   "source": [
    "model.state_dict().keys()\n",
    "# for k in ['temperature', 'snnl_criterion.temperature'\n",
    "for k in ['temperature', 'snnl_criterion.temperature','layers.0.weight', 'layers.0.bias','layers.2.weight','layers.4.weight','layers.4.bias','layers.5.weight','layers.5.bias','layers.7.weight','layers.9.weight','layers.9.bias',]:\n",
    "    if model.state_dict()[k].ndim > 1:\n",
    "        print(f\" {k+' - '+str(model.state_dict()[k].shape):45s} - {model.state_dict()[k][:3,:3].reshape((-1)).data}\")\n",
    "    else:\n",
    "        print(f\" {k+' - '+str(model.state_dict()[k].shape):45s} - {model.state_dict()[k][:9].data}\")\n"
   ]
  },
  {
   "cell_type": "code",
   "execution_count": null,
   "id": "f21452ed-9eb6-42f7-bc00-8e3a3ce7d9b6",
   "metadata": {},
   "outputs": [],
   "source": []
  },
  {
   "cell_type": "code",
   "execution_count": null,
   "id": "8ce2e264-519c-45f5-b5f1-ad8fe822e26e",
   "metadata": {},
   "outputs": [],
   "source": []
  },
  {
   "cell_type": "markdown",
   "id": "9d7f6ece-b0e4-4e64-bc35-928a3c3f961d",
   "metadata": {},
   "source": [
    "# Plot losses, weights, biases and gradients"
   ]
  },
  {
   "cell_type": "code",
   "execution_count": null,
   "id": "abc9b289-e042-4243-a2b4-c76751589ac3",
   "metadata": {},
   "outputs": [],
   "source": [
    "# if 0:\n",
    "#     model_attributes = model.__dict__\n",
    "#     model.training_history['train'].keys()\n",
    "#     for key, value in model.training_history['train'].items():\n",
    "#         if isinstance(value, List) or key in [\"test_accuracy\", \"test_f1\"]:\n",
    "#             print(f\"{key:25s} {type(value)}  {len(value):7d}  {value[-5:]}\")\n",
    "#     print()\n",
    "#     for key, value in model.training_history['val'].items():\n",
    "#         if isinstance(value, List) or key in [\"test_accuracy\", \"test_f1\"]:\n",
    "#             print(f\"{key:25s} {type(value)}  {len(value):7d}  {value[-5:]}\")        "
   ]
  },
  {
   "cell_type": "code",
   "execution_count": null,
   "id": "fbb441d8-ba3d-4540-abcc-e40aaaa3dd2e",
   "metadata": {},
   "outputs": [],
   "source": [
    "# tmp = np.array(model.training_history['train']['temp_grads'])\n",
    "# for st in range(0,len(tmp), 1000):\n",
    "#     end = st + 1000\n",
    "#     print(f\" {st:5d} - {end:5d}  min: {tmp[st:end].min():9e}   max: {tmp[st:end].max():9e}    avg: {tmp[st:end].mean():9e}   std: {tmp[st:end].std():9e}\")"
   ]
  },
  {
   "cell_type": "code",
   "execution_count": 28,
   "id": "2bc8de25-ddde-4d2c-b97f-1da1d375c991",
   "metadata": {
    "execution": {
     "iopub.execute_input": "2024-07-03T19:13:34.892452Z",
     "iopub.status.busy": "2024-07-03T19:13:34.891943Z",
     "iopub.status.idle": "2024-07-03T19:13:36.545667Z",
     "shell.execute_reply": "2024-07-03T19:13:36.545066Z",
     "shell.execute_reply.started": "2024-07-03T19:13:34.892414Z"
    },
    "scrolled": true
   },
   "outputs": [
    {
     "data": {
      "image/png": "[encoded data removed]",
      "text/plain": [
       "<Figure size 2000x400 with 5 Axes>"
      ]
     },
     "metadata": {},
     "output_type": "display_data"
    }
   ],
   "source": [
    "plot_train_history(model, start= 0, n_bins = 25)"
   ]
  },
  {
   "cell_type": "code",
   "execution_count": null,
   "id": "533b465a-6b4a-4696-a014-793b8f7df079",
   "metadata": {
    "scrolled": true
   },
   "outputs": [],
   "source": [
    "plot_train_history(model, start= 0, n_bins = 25)"
   ]
  },
  {
   "cell_type": "code",
   "execution_count": null,
   "id": "85774d06-9f14-4b02-b0c6-b8c60ba92ffa",
   "metadata": {
    "jupyter": {
     "source_hidden": true
    },
    "scrolled": true
   },
   "outputs": [],
   "source": [
    "plot_train_history(model, start= 0, n_bins = 25)"
   ]
  },
  {
   "cell_type": "code",
   "execution_count": null,
   "id": "f6b91b33-81bd-47e8-aa8e-bda1bd4d4583",
   "metadata": {
    "scrolled": true
   },
   "outputs": [],
   "source": [
    "plot_train_history(model, start= 100, n_bins = 25)"
   ]
  },
  {
   "cell_type": "code",
   "execution_count": null,
   "id": "5d4eae70-3b13-4893-b485-f8ad87b4cd68",
   "metadata": {
    "scrolled": true
   },
   "outputs": [],
   "source": [
    "plot_train_history(model, start= 10, n_bins = 25)"
   ]
  },
  {
   "cell_type": "code",
   "execution_count": null,
   "id": "bc760f53-8449-4d3a-a274-f11108ed4784",
   "metadata": {
    "scrolled": true
   },
   "outputs": [],
   "source": [
    "plot_train_history(model, start= 10, n_bins = 25)"
   ]
  },
  {
   "cell_type": "code",
   "execution_count": null,
   "id": "7f50fdb6-0457-4cd3-b958-65bb44e4216d",
   "metadata": {},
   "outputs": [],
   "source": [
    "plot_model_parms(model, epochs= epochs, n_bins = 15)"
   ]
  },
  {
   "cell_type": "code",
   "execution_count": null,
   "id": "f992e4e5-ea68-4617-8c16-01dfc22f6b94",
   "metadata": {
    "scrolled": true
   },
   "outputs": [],
   "source": [
    "from snnl.utils import plot_regression_metrics\n",
    "# plot_train_metrics(model, n_bins = 25)\n",
    "plot_regression_metrics(model, n_bins = 25)"
   ]
  },
  {
   "cell_type": "markdown",
   "id": "21726628-2b16-477a-bfe7-0a0ac53130eb",
   "metadata": {
    "jp-MarkdownHeadingCollapsed": true
   },
   "source": [
    "# Save model results and model"
   ]
  },
  {
   "cell_type": "code",
   "execution_count": null,
   "id": "a4bb9a8d-9d90-40e8-90d1-9e970497568b",
   "metadata": {},
   "outputs": [],
   "source": [
    "# import datetime.timezone\n",
    "# datetime.timetz()\n",
    "compounds_per_batch = cellpainting_args['compounds_per_batch']\n",
    "title=\"autoencoder\"\n",
    "epochs_num = epochs\n",
    "timestamp = datetime.now().strftime('%Y%m%d')\n",
    "filename = f\"AE_{args.model.lower()}_{timestamp}_{title}_{epochs_num:03d}_cpb_{compounds_per_batch}_factor_{int(snnl_factor):d}\"\n",
    "print(f\"saved to {filename}\")"
   ]
  },
  {
   "cell_type": "code",
   "execution_count": null,
   "id": "8364b7ba-8d33-41ac-b30f-0c39759a9772",
   "metadata": {},
   "outputs": [],
   "source": [
    "# save_model(model, filename)\n",
    "# export_results(model=model, filename=filename)\n",
    "# save_checkpoint(epochs, model, filename, update_latest=False, update_best=False)"
   ]
  },
  {
   "cell_type": "code",
   "execution_count": null,
   "id": "5738408d-29ca-46b4-8c79-6f184958acf0",
   "metadata": {},
   "outputs": [],
   "source": [
    "model.name\n",
    "args.runmode\n",
    "ex_timestamp\n",
    "ex_title\n",
    "epoch\n",
    "args.compounds_per_batch\n",
    "model.snnl_factor"
   ]
  },
  {
   "cell_type": "code",
   "execution_count": null,
   "id": "393af8c8-cf02-455f-a810-b68a7637c07e",
   "metadata": {},
   "outputs": [],
   "source": [
    "filename = f\"{model.name}_{args.runmode}_{args.exp_date}_{args.exp_title}_ep_{epoch+1:03d}\"\n",
    "print(filename)"
   ]
  },
  {
   "cell_type": "code",
   "execution_count": null,
   "id": "38e9d094-6432-4eb7-9ce7-f07b01a01a87",
   "metadata": {},
   "outputs": [],
   "source": [
    "filename = f\"{model.name}_{args.model.lower()}_{ex_timestamp}_{ex_title}_{epoch+1:03d}_cpb_{args.compounds_per_batch}_copy\"\n",
    "print(filename)\n",
    "    # export_results(model=model, filename=filename)\n",
    "save_checkpoint_2(epochs, model, filename, update_latest=False, update_best=False)  "
   ]
  },
  {
   "cell_type": "markdown",
   "id": "75fb4184-7640-4cc5-bf19-249ebb9fc072",
   "metadata": {
    "execution": {
     "iopub.execute_input": "2024-04-01T00:58:52.961399Z",
     "iopub.status.busy": "2024-04-01T00:58:52.960920Z"
    },
    "jp-MarkdownHeadingCollapsed": true
   },
   "source": [
    "# Load model"
   ]
  },
  {
   "cell_type": "code",
   "execution_count": null,
   "id": "c914b200-c783-4477-9ca7-3370a23ec595",
   "metadata": {},
   "outputs": [],
   "source": [
    "ex_epoch = 50\n",
    "ex_runmode = 'snnl'\n",
    "ex_date = '20240509'\n",
    "ex_title = args.exp_title\n",
    "compounds_per_batch = args.compounds_per_batch\n"
   ]
  },
  {
   "cell_type": "code",
   "execution_count": null,
   "id": "4e833db8-a709-4f76-9346-fd582b95ab70",
   "metadata": {},
   "outputs": [],
   "source": [
    "# filename = f\"{model.name}_{ex_runmode}_{ex_date}_{ex_title}_{epochs:03d}_cpb_{ex_cpb}_factor_{ex_factor:d}.pt\"\n",
    "# file_pattern = f\"{model.name}_{ex_runmode}_{ex_date}_{ex_title}_*_cpb_{ex_cpb}_factor_{ex_factor:d}.pt\"\n",
    "filename = f\"{model.name}_{ex_runmode}_{ex_date}_{ex_title}_{epochs:03d}.pt\"\n",
    "print(filename)\n",
    "file_pattern = f\"{model.name}_{ex_runmode}_{ex_date}_{ex_title}_ep_*.pt\"\n",
    "print(file_pattern)"
   ]
  },
  {
   "cell_type": "code",
   "execution_count": null,
   "id": "52e8f566-6c23-496e-a8ec-08d0e2e2a51b",
   "metadata": {},
   "outputs": [],
   "source": [
    "import glob\n",
    "filelist = glob.glob(file_pattern,root_dir = './ckpts')\n",
    "filelist = sorted(filelist)\n",
    "filelist\n",
    "epochlist =sorted([int(x[-6:-3]) for x in filelist])\n",
    "epochlist\n",
    " "
   ]
  },
  {
   "cell_type": "code",
   "execution_count": null,
   "id": "a14169e7-a006-4582-9a6c-586a58b590b4",
   "metadata": {},
   "outputs": [],
   "source": [
    "# runmode = 'snnl'\n",
    "# ex_date = '20240516'\n",
    "# ex_title = args.exp_title\n",
    "ex_epoch = 200"
   ]
  },
  {
   "cell_type": "code",
   "execution_count": null,
   "id": "a71ca7cd-8258-49ca-b2d6-16268bd34dc7",
   "metadata": {},
   "outputs": [],
   "source": [
    "filename = f\"{model.name}_{args.runmode}_{exp_date}_{exp_title}_ep_{exp_epoch:03d}\"   \n",
    "if filename[-3:] != '.pt':\n",
    "    filename+='.pt'\n",
    "print(filename)\n",
    "\n",
    "if os.path.exists(os.path.join('ckpts', filename)):\n",
    "    print(f\"\\n *** Checkpoint EXISTS *** \\n\")\n",
    "else:\n",
    "    print(f\"\\n *** Checkpoint DOESNT EXIST *** \\n\")"
   ]
  },
  {
   "cell_type": "code",
   "execution_count": null,
   "id": "2d6a57df-2a6c-4ca5-8bc0-0672d1c03901",
   "metadata": {
    "scrolled": true
   },
   "outputs": [],
   "source": [
    "mdl , last_epoch = load_checkpoint_v2(model, filename)  \n",
    "print(f\" last epoch : {last_epoch}\")"
   ]
  },
  {
   "cell_type": "code",
   "execution_count": null,
   "id": "e2d9ae15-ccde-43b4-b7ae-75c3c2ffe377",
   "metadata": {},
   "outputs": [],
   "source": [
    "print(current_device)\n",
    "print(model.device)\n",
    "model.device = current_device\n",
    "print(model.device)"
   ]
  },
  {
   "cell_type": "code",
   "execution_count": null,
   "id": "00c841d7-6d85-438c-a7da-e8026fb4f644",
   "metadata": {},
   "outputs": [],
   "source": [
    "print(current_device)\n",
    "model.train()\n",
    "model = model.cuda(device=current_device)"
   ]
  },
  {
   "cell_type": "code",
   "execution_count": null,
   "id": "a2ddb4f9-b6fa-4c44-8cef-ccdaa99ce49b",
   "metadata": {},
   "outputs": [],
   "source": [
    "starting_epoch, epochs, "
   ]
  },
  {
   "cell_type": "code",
   "execution_count": null,
   "id": "25b03053-b090-4116-898a-acbfb8add271",
   "metadata": {},
   "outputs": [],
   "source": [
    "print(f\" last epoch  {last_epoch}\")"
   ]
  },
  {
   "cell_type": "code",
   "execution_count": null,
   "id": "eb1241f9-4ad1-425f-8526-43c5cd89859c",
   "metadata": {},
   "outputs": [],
   "source": [
    "# starting_epoch = 20\n",
    "starting_epoch = last_epoch\n",
    "epochs = last_epoch + 100\n",
    "# starting_epoch = epoch + 1\n",
    "print(f\" run epochs {starting_epoch+1} to {epochs} \")"
   ]
  },
  {
   "cell_type": "code",
   "execution_count": null,
   "id": "361a2ba1-0bac-4ff8-aa08-950fe7fe2302",
   "metadata": {},
   "outputs": [],
   "source": [
    "print()\n",
    "print(f\" model device         : {model.device}\")\n",
    "print(f\" model temperature    : {model.temperature}\")\n",
    "print() \n",
    "print(f\" loss_factor          : {model.loss_factor}\")\n",
    "print(f\" monitor_grads_layer  : {model.monitor_grads_layer}\")\n",
    "print(f\" Learning rate        : {model.optimizer.param_groups[0]['lr']}\") \n",
    "print(f\" snnl_factor          : {model.snnl_factor}\")\n",
    "if model.use_snnl:\n",
    "    print(f\" temperature          : {model.temperature.item()}\")\n",
    "if model.temp_optimizer is not None:\n",
    "    print(f\" Temperature LR       : {model.temp_optimizer.param_groups[0]['lr']}\") \n",
    "print()\n",
    "\n",
    "for th_key in ['trn', 'val']:\n",
    "    for k,v in model.training_history[th_key].items():\n",
    "        if isinstance(v[-1],str):\n",
    "            print(f\" {k:20s} : {v[-1]:s}  \")\n",
    "        else:\n",
    "            print(f\" {k:20s} : {v[-1]:6f} \")\n",
    "    print()\n"
   ]
  },
  {
   "cell_type": "code",
   "execution_count": null,
   "id": "6a4b320a-e40a-47b2-886f-6130c314afb8",
   "metadata": {
    "scrolled": true
   },
   "outputs": [],
   "source": [
    "model.optimizer.__dict__\n",
    "print()"
   ]
  },
  {
   "cell_type": "code",
   "execution_count": null,
   "id": "903b5c7a-4271-4659-857d-29ee395daedc",
   "metadata": {},
   "outputs": [],
   "source": [
    "model.scheduler.__dict__"
   ]
  },
  {
   "cell_type": "code",
   "execution_count": null,
   "id": "35c66518-e1f1-4c19-9aa0-27bb21a0c68d",
   "metadata": {
    "scrolled": true
   },
   "outputs": [],
   "source": [
    "model.temp_optimizer.__dict__\n",
    "print()"
   ]
  },
  {
   "cell_type": "code",
   "execution_count": null,
   "id": "5cbf6a8e-28bd-461e-ac24-0f9ba13858b1",
   "metadata": {
    "scrolled": true
   },
   "outputs": [],
   "source": [
    "model.temp_scheduler.__dict__"
   ]
  },
  {
   "cell_type": "markdown",
   "id": "e3e262c8-1ce5-44b8-9068-35c71d7123ab",
   "metadata": {
    "jp-MarkdownHeadingCollapsed": true
   },
   "source": [
    "# Misc code"
   ]
  },
  {
   "cell_type": "code",
   "execution_count": null,
   "id": "5a96d9f7-7647-43c4-9a2d-6d3337ff768a",
   "metadata": {},
   "outputs": [],
   "source": [
    "# loaded_data = import_results(filename)\n",
    "\n",
    "# for k in loaded_data.keys():\n",
    "#     print(k, type(loaded_data[k]), len(loaded_data[k]))\n",
    "# print(\"\\nTraining History\")\n",
    "# results = loaded_data['training_history']\n",
    "# for k,v in results.items():\n",
    "#     print(' ',k , len(v))\n",
    "#     for kk,vv in results[k].items():\n",
    "#         print( f\"   {kk:20s} {len(vv)}\")\n",
    "# print(\"\\nModel Parameters\")\n",
    "# model_parameters = loaded_data['params']\n",
    "# for k,v in model_parameters.items():\n",
    "#     print(f\"   {k:25s} {v}\" )\n",
    " "
   ]
  },
  {
   "cell_type": "code",
   "execution_count": null,
   "id": "cc884bcb-58de-427c-979a-c6cc15ed0aa2",
   "metadata": {},
   "outputs": [],
   "source": [
    "# model_attributes = model.__dict__\n",
    "# from collections import defaultdict\n",
    "# output = defaultdict(dict)\n",
    "\n",
    "# for key, value in model_attributes.items():\n",
    "#         if key[0] == \"_\" or type(value) in [torch.device, torch.optim.Adam , torch.optim.SGD]:\n",
    "#             continue\n",
    "#         if key == 'training_history':\n",
    "#             output[key] = value\n",
    "#         else:\n",
    "#             output['params'][key] = value\n",
    "#             print(f\" {key:30s}    {type(value)}   \")\n",
    "\n",
    "# output.keys()\n",
    "# output['params']\n",
    "# output['training_history'].keys()"
   ]
  },
  {
   "cell_type": "code",
   "execution_count": null,
   "id": "41a232e9-2360-4f04-811a-73533f0b5817",
   "metadata": {},
   "outputs": [],
   "source": [
    "# for k in results.keys():\n",
    "#     print(f\" key: {k:30s}  length of - loaded results: {len(results[k])}  existing model: {len(model.__dict__[k])}\" )\n",
    "#     model.__dict__[k] = results[k]"
   ]
  },
  {
   "cell_type": "code",
   "execution_count": null,
   "id": "49bbef6c-e864-4f37-be75-c0a71b40ca6b",
   "metadata": {},
   "outputs": [],
   "source": [
    "# for key in ['trn', 'val']:\n",
    "#     del_keys = []\n",
    "#     for k,v in model.training_history[key].items():\n",
    "#         print(k, len(v))\n",
    "#         if len(v) == 0 :\n",
    "#             del_keys.append(k)\n",
    "#     del_keys\n",
    "#     for k in del_keys:    \n",
    "#         del  model.training_history[key][k]\n",
    "#     print('-----------------------')\n",
    "\n",
    "# model.training_history['val'].keys()\n",
    "# np.argmin(model.training_history['trn']['trn_ttl_loss']), np.min(model.training_history['trn']['trn_ttl_loss'] )\n",
    "# np.argmin(model.training_history['trn']['trn_prim_loss']),np.min(model.training_history['trn']['trn_prim_loss']), np.min(model.training_history['trn']['trn_prim_loss'])  / model.loss_factor\n",
    "# np.argmin(model.training_history['trn']['trn_snn_loss']), np.min(model.training_history['trn']['trn_snn_loss'] ),  np.min(model.training_history['trn']['trn_snn_loss'] ) / model.snnl_factor\n",
    "# print()\n",
    "# np.argmin(model.training_history['val']['val_ttl_loss']) , np.min(model.training_history['val']['val_ttl_loss'] )\n",
    "# np.argmin(model.training_history['val']['val_prim_loss']), np.min(model.training_history['val']['val_prim_loss']), np.min(model.training_history['val']['val_prim_loss']) / model.loss_factor\n",
    "# np.argmin(model.training_history['val']['val_snn_loss']) , np.min(model.training_history['val']['val_snn_loss'] ), np.min(model.training_history['val']['val_snn_loss'] ) / model.snnl_factor\n",
    "\n",
    "# model.optimizer\n",
    "# model.optimizer.state_dict()\n",
    "# model.optimizer.param_groups[0]['lr'], model.optimizer.param_groups[1]['lr']\n",
    "# model.scheduler.__dict__\n",
    "\n",
    "# model.temp_optimizer\n",
    "# model.temp_scheduler.__dict__\n",
    "# model.temp_scheduler = model._ReduceLROnPlateau(model.temp_optimizer, mode='min', factor=0.75, patience=35, \n",
    "                                              # threshold=1.0e-7, threshold_mode='rel', \n",
    "                                              # cooldown=15, min_lr=0, eps=1e-08, verbose =True)  \n",
    "# model.temp_scheduler['patience'] = 35"
   ]
  },
  {
   "cell_type": "code",
   "execution_count": null,
   "id": "73b1ca58-74c2-440b-8482-f7b634cdab4e",
   "metadata": {},
   "outputs": [],
   "source": [
    "# temp_params = [p for name, p in model.named_parameters() if 'temperature' in name]\n",
    "# network_params = [p for name, p in model.named_parameters() if 'temperature' not in name]\n",
    "# for t in temp_params:\n",
    "#     t.requires_grad = False "
   ]
  },
  {
   "cell_type": "code",
   "execution_count": null,
   "id": "47d38f37-c7f0-4be6-a762-202604f167dd",
   "metadata": {},
   "outputs": [],
   "source": [
    "# model.optimizer = torch.optim.Adam(params = network_params, lr=0.001, weight_decay = 0.1)\n",
    "# # if self.use_snnl:\n",
    "# #     self.optimizer.add_param_group({'params': temp_params, 'lr': temperatureLR, 'weight_decay': adam_weight_decay})\n",
    "\n",
    "# if model.use_scheduler:\n",
    "#     model.scheduler = model._ReduceLROnPlateau(model.optimizer, mode='min', factor=0.5, patience=40, threshold=0.000001, \n",
    "#                                              threshold_mode='rel', cooldown=10, min_lr=0, eps=1e-08, verbose =True) "
   ]
  }
 ],
 "metadata": {
  "kernelspec": {
   "display_name": "Python [conda env:ptsnnl]",
   "language": "python",
   "name": "conda-env-ptsnnl-py"
  },
  "language_info": {
   "codemirror_mode": {
    "name": "ipython",
    "version": 3
   },
   "file_extension": ".py",
   "mimetype": "text/x-python",
   "name": "python",
   "nbconvert_exporter": "python",
   "pygments_lexer": "ipython3",
   "version": "3.11.0"
  },
  "toc": {
   "base_numbering": 1,
   "nav_menu": {},
   "number_sections": true,
   "sideBar": true,
   "skip_h1_title": false,
   "title_cell": "Table of Contents",
   "title_sidebar": "Contents",
   "toc_cell": false,
   "toc_position": {},
   "toc_section_display": true,
   "toc_window_display": false
  }
 },
 "nbformat": 4,
 "nbformat_minor": 5
}
