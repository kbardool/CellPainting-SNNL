{
 "cells": [
  {
   "cell_type": "markdown",
   "id": "ca813a76-47b7-458b-a3d2-1e4f49079a08",
   "metadata": {},
   "source": [
    "  # Autoencoder - Baseline mode - Copy 1"
   ]
  },
  {
   "cell_type": "markdown",
   "id": "41638752-2456-4f2e-9e7e-e4039fe926a2",
   "metadata": {},
   "source": [
    "# Setup"
   ]
  },
  {
   "cell_type": "code",
   "execution_count": 94,
   "id": "11ad0ae2",
   "metadata": {
    "ExecuteTime": {
     "end_time": "2023-04-12T10:29:15.566596Z",
     "start_time": "2023-04-12T10:29:15.550232Z"
    },
    "execution": {
     "iopub.execute_input": "2024-06-12T10:42:15.668611Z",
     "iopub.status.busy": "2024-06-12T10:42:15.668340Z",
     "iopub.status.idle": "2024-06-12T10:42:15.723022Z",
     "shell.execute_reply": "2024-06-12T10:42:15.722296Z",
     "shell.execute_reply.started": "2024-06-12T10:42:15.668576Z"
    }
   },
   "outputs": [
    {
     "data": {
      "text/html": [
       "<style>.container { width:98% !important; }</style>"
      ],
      "text/plain": [
       "<IPython.core.display.HTML object>"
      ]
     },
     "metadata": {},
     "output_type": "display_data"
    },
    {
     "name": "stdout",
     "output_type": "stream",
     "text": [
      "The autoreload extension is already loaded. To reload it, use:\n",
      "  %reload_ext autoreload\n"
     ]
    }
   ],
   "source": [
    "from IPython.display import display, HTML\n",
    "display(HTML(\"<style>.container { width:98% !important; }</style>\"))\n",
    "%load_ext autoreload  \n",
    "%autoreload 2\n",
    "from IPython.core.interactiveshell import InteractiveShell\n",
    "InteractiveShell.ast_node_interactivity = \"all\""
   ]
  },
  {
   "cell_type": "code",
   "execution_count": 2,
   "id": "9ba59711",
   "metadata": {
    "ExecuteTime": {
     "end_time": "2023-04-12T10:29:16.111588Z",
     "start_time": "2023-04-12T10:29:15.764305Z"
    },
    "execution": {
     "iopub.execute_input": "2024-06-12T06:46:13.808395Z",
     "iopub.status.busy": "2024-06-12T06:46:13.808003Z",
     "iopub.status.idle": "2024-06-12T06:46:20.168314Z",
     "shell.execute_reply": "2024-06-12T06:46:20.167495Z",
     "shell.execute_reply.started": "2024-06-12T06:46:13.808365Z"
    }
   },
   "outputs": [
    {
     "name": "stdout",
     "output_type": "stream",
     "text": [
      "insert ./src\n",
      "insert ../..\n",
      "['../..', './src', '/home/kevin/miniforge3/envs/ptsnnl/lib/python311.zip', '/home/kevin/miniforge3/envs/ptsnnl/lib/python3.11', '/home/kevin/miniforge3/envs/ptsnnl/lib/python3.11/lib-dynload', '', '/home/kevin/miniforge3/envs/ptsnnl/lib/python3.11/site-packages']\n",
      "2.2.1+cu118\n",
      "Timestamp:  2024_06_12_08:46:20\n"
     ]
    }
   ],
   "source": [
    "import os\n",
    "import sys\n",
    "import csv\n",
    "import json\n",
    "import time\n",
    "import types, copy, pprint\n",
    "import logging \n",
    "from datetime import datetime\n",
    "for p in ['./src','../..']:\n",
    "    if p not in sys.path:\n",
    "        print(f\"insert {p}\")\n",
    "        sys.path.insert(0, p)\n",
    "print(sys.path)\n",
    "import shutil\n",
    "import getpass\n",
    "import yaml\n",
    "\n",
    "from matplotlib import pyplot as plt\n",
    "from typing import Dict, List, Tuple\n",
    "from scipy.sparse import csr_matrix\n",
    "from tqdm import tqdm\n",
    "\n",
    "import numpy as np\n",
    "import pandas as pd\n",
    "\n",
    "import torch\n",
    "import torch.nn.functional as F\n",
    "from torchinfo import summary\n",
    "\n",
    "torch.set_printoptions(precision=None, threshold=None, edgeitems=None, linewidth=150, profile=None, sci_mode=None)\n",
    "print(torch.__version__)\n",
    "\n",
    "pp = pprint.PrettyPrinter(indent=4)\n",
    "pd.options.display.width = 132\n",
    "torch.set_printoptions(precision=None, threshold=None, edgeitems=None, linewidth=150, profile=None, sci_mode=None)\n",
    "np.set_printoptions(edgeitems=3, infstr='inf', linewidth=150, nanstr='nan')\n",
    "\n",
    "WANDB_ACTIVE = False\n",
    "\n",
    "os.environ[\"WANDB_NOTEBOOK_NAME\"] = \"Autoencoder_dev.ipynb\"\n",
    "# os.environ[\"CUDA_LAUNCH_BLOCKING\"] = \"1\"\n",
    "# os.environ[\"CUDA_VISIBLE_DEVICES\"] = \"1\"\n",
    "import wandb\n",
    "from KevinsRoutines.utils.utils_wandb  import  init_wandb, wandb_log_metrics,wandb_watch\n",
    "from KevinsRoutines.utils.utils_general  import  list_namespace \n",
    "\n",
    "timestamp = datetime.now().strftime('%Y_%m_%d_%H:%M:%S')\n",
    "print('Timestamp: ',timestamp)"
   ]
  },
  {
   "cell_type": "code",
   "execution_count": 3,
   "id": "9c3ba93c-cf59-4e11-9229-53a2fe3b3dde",
   "metadata": {
    "execution": {
     "iopub.execute_input": "2024-06-12T06:46:20.170102Z",
     "iopub.status.busy": "2024-06-12T06:46:20.169771Z",
     "iopub.status.idle": "2024-06-12T06:46:23.674428Z",
     "shell.execute_reply": "2024-06-12T06:46:23.673582Z",
     "shell.execute_reply.started": "2024-06-12T06:46:20.170079Z"
    }
   },
   "outputs": [
    {
     "data": {
      "text/plain": [
       "'Sample module for using DNN classifier with SNNL'"
      ]
     },
     "execution_count": 3,
     "metadata": {},
     "output_type": "execute_result"
    }
   ],
   "source": [
    "# Soft Nearest Neighbor Loss\n",
    "# Copyright (C) 2020  Abien Fred Agarap\n",
    "__author__ = \"Abien Fred Agarap\"\n",
    "__version__ = \"1.0.0\"\n",
    "\"\"\"Sample module for using DNN classifier with SNNL\"\"\"\n",
    "\n",
    "from snnl.utils import parse_args, get_hyperparameters, set_global_seed, get_device, set_device\n",
    "from snnl.utils import load_model, save_model, import_results, export_results, save_checkpoint, load_checkpoint \n",
    "from snnl.utils import plot_model_parms, plot_train_history, plot_classification_metrics, plot_regression_metrics\n",
    "from snnl.utils import display_epoch_metrics, display_cellpainting_batch\n",
    "from snnl.utils import CellpaintingDataset, InfiniteDataLoader, custom_collate_fn\n",
    "from snnl.utils import display_model_summary, define_autoencoder_model\n",
    "from snnl.utils import save_checkpoint_v2, load_checkpoint_v2\n",
    "\n",
    "from snnl.models import Model\n",
    "from snnl.models import DNN \n",
    "from snnl.models import Autoencoder\n",
    "from snnl.losses import SNNLoss"
   ]
  },
  {
   "cell_type": "code",
   "execution_count": 62,
   "id": "d855b17f-b7f5-4fed-9146-c4c06154ffff",
   "metadata": {
    "execution": {
     "iopub.execute_input": "2024-06-12T07:10:46.933667Z",
     "iopub.status.busy": "2024-06-12T07:10:46.933230Z",
     "iopub.status.idle": "2024-06-12T07:10:46.989599Z",
     "shell.execute_reply": "2024-06-12T07:10:46.988937Z",
     "shell.execute_reply.started": "2024-06-12T07:10:46.933623Z"
    }
   },
   "outputs": [
    {
     "name": "stdout",
     "output_type": "stream",
     "text": [
      " device: 0   Quadro GV100                   :  free: 25,865,814,016 B   (24.09 GB)    total: 34,069,872,640 B   (31.73 GB)\n",
      " device: 1   Quadro GV100                   :  free: 33,652,539,392 B   (31.34 GB)    total: 34,069,872,640 B   (31.73 GB)\n",
      " device: 2   NVIDIA TITAN Xp                :  free: 11,128,143,872 B   (10.36 GB)    total: 12,774,539,264 B   (11.90 GB)\n",
      " Current CUDA Device is: cuda:1 Quadro GV100 1\n",
      "Current device is : cuda:1\n",
      " Running on: Quadro GV100 1\n",
      " Switch to cuda:1 \n",
      " Running on: Quadro GV100 1\n",
      " device: 0   Quadro GV100                   :  free: 25,888,882,688 B   (24.11 GB)    total: 34,069,872,640 B   (31.73 GB)\n",
      " device: 1   Quadro GV100                   :  free: 33,652,539,392 B   (31.34 GB)    total: 34,069,872,640 B   (31.73 GB)\n",
      " device: 2   NVIDIA TITAN Xp                :  free: 11,128,143,872 B   (10.36 GB)    total: 12,774,539,264 B   (11.90 GB)\n",
      " Current CUDA Device is: cuda:1 Quadro GV100 1\n",
      "Current device is : cuda:1\n"
     ]
    }
   ],
   "source": [
    "current_device = get_device()\n",
    "print(f\"Current device is : {current_device}\")\n",
    "\n",
    "current_device = set_device(1)\n",
    "print(f\"Current device is : {get_device()}\")"
   ]
  },
  {
   "cell_type": "markdown",
   "id": "1be5e789-3446-482f-a3ca-fdd19b2a845e",
   "metadata": {},
   "source": [
    "### main(args)"
   ]
  },
  {
   "cell_type": "code",
   "execution_count": 63,
   "id": "8a540f64-c33b-4ced-bf1d-77f7de1785d4",
   "metadata": {
    "execution": {
     "iopub.execute_input": "2024-06-12T07:10:48.325035Z",
     "iopub.status.busy": "2024-06-12T07:10:48.324608Z",
     "iopub.status.idle": "2024-06-12T07:10:48.374244Z",
     "shell.execute_reply": "2024-06-12T07:10:48.373605Z",
     "shell.execute_reply.started": "2024-06-12T07:10:48.324993Z"
    }
   },
   "outputs": [
    {
     "data": {
      "text/plain": [
       "Namespace(seed=1234, runmode='baseline', configuration='hyperparameters/autoencoder_cellpainting-50.yaml')"
      ]
     },
     "execution_count": 63,
     "metadata": {},
     "output_type": "execute_result"
    }
   ],
   "source": [
    "# if __name__ == \"__main__\":\n",
    "input_args = f\" --seed               1234 \" \\\n",
    "             f\" --runmode            baseline\" \\\n",
    "             f\" --configuration      hyperparameters/autoencoder_cellpainting-50.yaml\"\n",
    "             # f\" --runmode            snnl\" \\\n",
    "             # f\" --configuration    hyperparameters/dnn_mnist.json\"\n",
    "args = parse_args(input_args.split())\n",
    "args\n",
    "\n",
    "with open(args.configuration) as f:\n",
    "    args = types.SimpleNamespace(**yaml.safe_load(f), **(vars(args)))\n",
    "args.batch_size = args.cellpainting_args['batch_size']\n",
    "args.compounds_per_batch = args.cellpainting_args['compounds_per_batch']\n",
    "set_global_seed(args.seed)\n"
   ]
  },
  {
   "cell_type": "markdown",
   "id": "7e2871b9-ea54-4869-9fa3-5ade2e1416cd",
   "metadata": {},
   "source": [
    "## Define dataset and dataloaders"
   ]
  },
  {
   "cell_type": "code",
   "execution_count": 64,
   "id": "e85d6a4d-1603-43ab-b4ff-9c12ae228c51",
   "metadata": {
    "execution": {
     "iopub.execute_input": "2024-06-12T07:10:51.246187Z",
     "iopub.status.busy": "2024-06-12T07:10:51.245714Z",
     "iopub.status.idle": "2024-06-12T07:10:51.288480Z",
     "shell.execute_reply": "2024-06-12T07:10:51.287832Z",
     "shell.execute_reply.started": "2024-06-12T07:10:51.246144Z"
    }
   },
   "outputs": [
    {
     "name": "stdout",
     "output_type": "stream",
     "text": [
      " - Each mini-batch contains 100.0 compounds with 3 samples per each compound : total 300 rows\n",
      " - Number of 300 row full size batches per epoch: 800\n",
      " - Rows covered by 800 full size batches (300 rows) per epoch:  240000\n",
      " - Last partial batch contains : 0 rows\n",
      "\n",
      " - Each mini-batch contains 100.0 compounds with 3 samples per each compound : total 300 rows\n",
      " - Number of 300 row full size batches per epoch: 80\n",
      " - Rows covered by 80 full size batches (300 rows) per epoch:  24000\n",
      " - Last partial batch contains : 0 rows\n",
      "\n"
     ]
    }
   ],
   "source": [
    "trn_file_sz = args.cellpainting_args['train_end'] - args.cellpainting_args['train_start']\n",
    "val_file_sz = args.cellpainting_args['val_end'] - args.cellpainting_args['val_start']\n",
    "smp_sz = args.cellpainting_args['sample_size']\n",
    "buf_sz = args.cellpainting_args['compounds_per_batch']\n",
    "bth_sz = args.cellpainting_args['batch_size']\n",
    "recs_per_batch = smp_sz * bth_sz * buf_sz\n",
    "\n",
    "for file_sz in [trn_file_sz, val_file_sz]:\n",
    "    bth_per_epoch = file_sz // recs_per_batch\n",
    "    print(f\" - Each mini-batch contains {recs_per_batch/smp_sz} compounds with {smp_sz} samples per each compound : total {recs_per_batch} rows\")\n",
    "    print(f\" - Number of {recs_per_batch} row full size batches per epoch: {bth_per_epoch}\")\n",
    "    print(f\" - Rows covered by {bth_per_epoch} full size batches ({recs_per_batch} rows) per epoch:  {(file_sz // recs_per_batch) * recs_per_batch}\")\n",
    "    print(f\" - Last partial batch contains : {file_sz % recs_per_batch} rows\")\n",
    "    print() "
   ]
  },
  {
   "cell_type": "code",
   "execution_count": 65,
   "id": "5dd597f5-f212-4261-b8a9-cd9cf558cb68",
   "metadata": {
    "execution": {
     "iopub.execute_input": "2024-06-12T07:10:52.390050Z",
     "iopub.status.busy": "2024-06-12T07:10:52.389838Z",
     "iopub.status.idle": "2024-06-12T07:10:52.422311Z",
     "shell.execute_reply": "2024-06-12T07:10:52.421797Z",
     "shell.execute_reply.started": "2024-06-12T07:10:52.390030Z"
    }
   },
   "outputs": [
    {
     "name": "stdout",
     "output_type": "stream",
     "text": [
      " load cellpainting\n",
      " Building CellPantingDataset from NOTEBOOK\n",
      "    _init()_    -- filename:          /home/kevin/WSL-shared/Cellpainting/cj-datasets/output_11102023/3_sample_profiles/3sample_profiles_1482_HashOrder.csv\n",
      "    _init()_    -- type :             train\n",
      "    _init()_    -- start :            0\n",
      "    _init()_    -- end :              240000\n",
      "    _init()_    -- numrows :          240000\n",
      " Building CellPantingDataset from NOTEBOOK\n",
      "    _init()_    -- filename:          /home/kevin/WSL-shared/Cellpainting/cj-datasets/output_11102023/3_sample_profiles/3sample_profiles_1482_HashOrder_test.csv\n",
      "    _init()_    -- type :             val\n",
      "    _init()_    -- start :            0\n",
      "    _init()_    -- end :              24000\n",
      "    _init()_    -- numrows :          24000\n"
     ]
    }
   ],
   "source": [
    "#### Load CellPainting Dataset\n",
    "if args.dataset == 'cellpainting':\n",
    "    print(f\" load {args.dataset}\")\n",
    "    train_dataset = CellpaintingDataset(type='train',    **args.cellpainting_args)\n",
    "    train_loader = InfiniteDataLoader(dataset=train_dataset, batch_size = args.batch_size, shuffle = False, num_workers = 0, collate_fn = custom_collate_fn)\n",
    "    val_dataset = CellpaintingDataset(type='val',    **args.cellpainting_args)\n",
    "    val_loader = InfiniteDataLoader(dataset=val_dataset, batch_size = args.batch_size, shuffle = False, num_workers = 0, collate_fn = custom_collate_fn)\n",
    "\n",
    "# for idx, batch in enumerate(train_loader):\n",
    "#     print(f\"{idx:4d}, {batch[0].shape}, {batch[1].shape},{batch[2].shape},{batch[3].shape},{batch[4].shape}, {batch[3][:3]}, {batch[3][-3:]}\")\n",
    "#     display_cellpainting_batch(idx, batch)\n",
    "#     if idx >= 0:\n",
    "#         break"
   ]
  },
  {
   "cell_type": "code",
   "execution_count": 103,
   "id": "11cc9586-9501-46d6-ba49-0f549ee53978",
   "metadata": {
    "execution": {
     "iopub.execute_input": "2024-06-12T12:08:10.591542Z",
     "iopub.status.busy": "2024-06-12T12:08:10.591051Z",
     "iopub.status.idle": "2024-06-12T12:08:10.636059Z",
     "shell.execute_reply": "2024-06-12T12:08:10.635462Z",
     "shell.execute_reply.started": "2024-06-12T12:08:10.591500Z"
    }
   },
   "outputs": [
    {
     "name": "stdout",
     "output_type": "stream",
     "text": [
      " Experiment name AE_0612_1408 - description: Autoencoder Training in Baseline mode - Single Optimizer, 50 dim latent layer - snglOpt-50Ltnt\n"
     ]
    }
   ],
   "source": [
    "args.project_name = 'CellPainting_Profiles'\n",
    "args.exp_title = 'snglOpt-50Ltnt'\n",
    "args.exp_desc = 'Autoencoder Training in Baseline mode - Single Optimizer, 50 dim latent layer'+' - '+args.exp_title\n",
    "\n",
    "args.exp_id   = None\n",
    "args.exp_name = 'AE_'+datetime.now().strftime('%m%d_%H%M')\n",
    "args.exp_date = datetime.now().strftime('%Y%m%d')\n",
    "\n",
    "## --- for restarts\n",
    "# args.exp_id   = '0g8w13h6'\n",
    "# args.exp_name = 'AE_0516_1104'\n",
    "# args.exp_date = '20240516'\n",
    "##-----------------\n",
    "print(f\" Experiment name {args.exp_name} - description: {args.exp_desc}\")"
   ]
  },
  {
   "cell_type": "code",
   "execution_count": 104,
   "id": "25af0a4c-8ff7-4196-be19-7b7a67285f03",
   "metadata": {
    "execution": {
     "iopub.execute_input": "2024-06-12T12:08:38.643507Z",
     "iopub.status.busy": "2024-06-12T12:08:38.643008Z",
     "iopub.status.idle": "2024-06-12T12:08:38.686660Z",
     "shell.execute_reply": "2024-06-12T12:08:38.685918Z",
     "shell.execute_reply.started": "2024-06-12T12:08:38.643465Z"
    }
   },
   "outputs": [],
   "source": [
    "if WANDB_ACTIVE:\n",
    "    wandb_run = init_wandb(args)\n",
    "\n",
    "    args.exp_id = wandb_run.id\n",
    "    print(f\" run id is : {args.exp_id}\")"
   ]
  },
  {
   "cell_type": "markdown",
   "id": "19b32e21-67d2-45af-a45f-841b6dca43ff",
   "metadata": {
    "jp-MarkdownHeadingCollapsed": true
   },
   "source": [
    "# Define autoencoder model"
   ]
  },
  {
   "cell_type": "markdown",
   "id": "cf383487-ecbf-49da-bb01-5a5f22932278",
   "metadata": {},
   "source": [
    "## Override arguments"
   ]
  },
  {
   "cell_type": "code",
   "execution_count": 68,
   "id": "2fdc1998-5141-40c0-82d8-b505d4f19ecd",
   "metadata": {
    "execution": {
     "iopub.execute_input": "2024-06-12T07:10:54.901585Z",
     "iopub.status.busy": "2024-06-12T07:10:54.901032Z",
     "iopub.status.idle": "2024-06-12T07:10:54.942840Z",
     "shell.execute_reply": "2024-06-12T07:10:54.942269Z",
     "shell.execute_reply.started": "2024-06-12T07:10:54.901544Z"
    }
   },
   "outputs": [
    {
     "name": "stdout",
     "output_type": "stream",
     "text": [
      "   Latent dim        50\n",
      "   loss_factor       1.0\n",
      "   snnl_factor       0.0\n",
      "   temperature       0.0\n",
      "   learning_rate     0.001\n",
      "   temperatureLR:    0.0\n"
     ]
    },
    {
     "data": {
      "text/plain": [
       "float"
      ]
     },
     "execution_count": 68,
     "metadata": {},
     "output_type": "execute_result"
    }
   ],
   "source": [
    "args.show_every = 1\n",
    "args.save_every = 25\n",
    "args.temperature   = 0.0\n",
    "args.loss_factor   = 1.0        ## 2.0e+00\n",
    "args.snnl_factor   = 0.0       ## 1.0e+00\n",
    "args.learning_rate = 1.0e-03    ## 0.001\n",
    "args.temperatureLR = 0.0e-04    ## 1e-4\n",
    "print(f\"   Latent dim        {args.code_units}\")\n",
    "print(f\"   loss_factor       {args.loss_factor}\")\n",
    "print(f\"   snnl_factor       {args.snnl_factor}\")\n",
    "print(f\"   temperature       {args.temperature}\")\n",
    "print(f\"   learning_rate     {args.learning_rate}\")\n",
    "print(f\"   temperatureLR:    {args.temperatureLR}\")\n",
    "type(args.learning_rate)"
   ]
  },
  {
   "cell_type": "code",
   "execution_count": 69,
   "id": "acb11365-5fa8-4a94-ba70-bfe9bc16df18",
   "metadata": {
    "execution": {
     "iopub.execute_input": "2024-06-12T07:10:56.158321Z",
     "iopub.status.busy": "2024-06-12T07:10:56.157862Z",
     "iopub.status.idle": "2024-06-12T07:10:56.195074Z",
     "shell.execute_reply": "2024-06-12T07:10:56.194506Z",
     "shell.execute_reply.started": "2024-06-12T07:10:56.158279Z"
    },
    "scrolled": true
   },
   "outputs": [
    {
     "name": "stdout",
     "output_type": "stream",
     "text": [
      "\n",
      "command line parms : \n",
      "-----------------------\n",
      "SGD_weight_decay.........  0\n",
      "activations..............  ['relu', 'relu', 'sigmoid', 'relu', 'relu', 'relu']\n",
      "adam_weight_decay........  0\n",
      "batch_size...............  1\n",
      "\n",
      "    cellpainting_args   (dict)\n",
      "    ----------------------------\n",
      "    batch_size...............  1\n",
      "    chunksize................  None\n",
      "    compounds_per_batch......  100\n",
      "    conversions..............  None\n",
      "    iterator.................  True\n",
      "    sample_size..............  3\n",
      "    test_end.................  33600\n",
      "    test_path................  /home/kevin/WSL-shared/Cellpainting/cj-datasets/output_11102023/3_sample_profiles/3sample_profiles_1482_HashOrder_test.csv\n",
      "    test_start...............  30000\n",
      "    train_end................  240000\n",
      "    train_start..............  0\n",
      "    training_path............  /home/kevin/WSL-shared/Cellpainting/cj-datasets/output_11102023/3_sample_profiles/3sample_profiles_1482_HashOrder.csv\n",
      "    val_end..................  24000\n",
      "    val_start................  0\n",
      "    validation_path..........  /home/kevin/WSL-shared/Cellpainting/cj-datasets/output_11102023/3_sample_profiles/3sample_profiles_1482_HashOrder_test.csv\n",
      "\n",
      "code_units...............  50\n",
      "compounds_per_batch......  100\n",
      "config...................  None\n",
      "configuration............  hyperparameters/autoencoder_cellpainting-50.yaml\n",
      "cpu......................  None\n",
      "dataset..................  cellpainting\n",
      "exp_date.................  20240612\n",
      "exp_desc.................  Autoencoder Training in Baseline mode - Single Optimizer, 50 dim latent layer - snglOpt-50Ltnt\n",
      "exp_description..........  brief description\n",
      "exp_folder...............  None\n",
      "exp_id...................  None\n",
      "exp_name.................  AE_0612_0910\n",
      "exp_name_pfx.............  None\n",
      "exp_title................  snglOpt-50Ltnt\n",
      "folder_sfx...............  None\n",
      "gpu_ids..................  None\n",
      "input_shape..............  1471\n",
      "learning_rate............  0.001\n",
      "loss_factor..............  1.0\n",
      "\n",
      "    paths   (dict)\n",
      "    ----------------\n",
      "    checkpoint_dir...........  ./ckpt\n",
      "    log_dir..................  ./logs\n",
      "    result_dir...............  ./results\n",
      "\n",
      "project_name.............  CellPainting_Profiles\n",
      "random_seed..............  1234\n",
      "runmode..................  baseline\n",
      "save_every...............  25\n",
      "seed.....................  1234\n",
      "seed_list................  None\n",
      "show_every...............  1\n",
      "snnl_factor..............  0.0\n",
      "temperature..............  0.0\n",
      "temperatureLR............  0.0\n",
      "units....................  [['linear', 1471, 1024], ['relu', 0, 0], ['linear', 1024, 128], ['relu', 0, 0], ['linear', 128, 50], ['linear', 50, 128], ['relu', 0, 0], ['linear', 128, 1024], ['relu', 0, 0], ['linear', 1024, 1471]]\n",
      "\n"
     ]
    }
   ],
   "source": [
    "list_namespace(args)"
   ]
  },
  {
   "cell_type": "markdown",
   "id": "69b97558-4c5d-4a2d-9d1f-78d8923b1eb7",
   "metadata": {},
   "source": [
    "## Define Model"
   ]
  },
  {
   "cell_type": "code",
   "execution_count": 70,
   "id": "5c4a4bba-76ef-4fa9-9ea5-ba3c55aecfe9",
   "metadata": {
    "execution": {
     "iopub.execute_input": "2024-06-12T07:10:58.125366Z",
     "iopub.status.busy": "2024-06-12T07:10:58.124946Z",
     "iopub.status.idle": "2024-06-12T07:10:58.222042Z",
     "shell.execute_reply": "2024-06-12T07:10:58.221481Z",
     "shell.execute_reply.started": "2024-06-12T07:10:58.125324Z"
    }
   },
   "outputs": [
    {
     "name": "stdout",
     "output_type": "stream",
     "text": [
      "Defining model in baseline mode\n",
      "    Model_init()_    -- AE - support for unsupervised in autoencoding mode is True\n",
      "    layer pair:    0  type:linear           input:   1471  output:   1024    weights: [1024, 1471]   \n",
      "    layer pair:    1  type:relu             input:      0  output:      0    weights: [0, 0]   \n",
      "    layer pair:    2  type:linear           input:   1024  output:    128    weights: [128, 1024]   \n",
      "    layer pair:    3  type:relu             input:      0  output:      0    weights: [0, 0]   \n",
      "    layer pair:    4  type:linear           input:    128  output:     50    weights: [50, 128]   \n",
      "    layer pair:    5  type:linear           input:     50  output:    128    weights: [128, 50]   \n",
      "    layer pair:    6  type:relu             input:      0  output:      0    weights: [0, 0]   \n",
      "    layer pair:    7  type:linear           input:    128  output:   1024    weights: [1024, 128]   \n",
      "    layer pair:    8  type:relu             input:      0  output:      0    weights: [0, 0]   \n",
      "    layer pair:    9  type:linear           input:   1024  output:   1471    weights: [1471, 1024]   \n"
     ]
    },
    {
     "name": "stderr",
     "output_type": "stream",
     "text": [
      "/home/kevin/miniforge3/envs/ptsnnl/lib/python3.11/site-packages/torch/optim/lr_scheduler.py:28: UserWarning: The verbose parameter is deprecated. Please use get_last_lr() to access the learning rate.\n",
      "  warnings.warn(\"The verbose parameter is deprecated. Please use get_last_lr() \"\n"
     ]
    },
    {
     "data": {
      "text/plain": [
       "'cuda:1'"
      ]
     },
     "execution_count": 70,
     "metadata": {},
     "output_type": "execute_result"
    }
   ],
   "source": [
    "model = define_autoencoder_model(args, embedding_layer = 4, device = current_device)\n",
    "model.device"
   ]
  },
  {
   "cell_type": "code",
   "execution_count": 72,
   "id": "458f30c7-e49a-49df-83e9-19aa3eda5e1b",
   "metadata": {
    "execution": {
     "iopub.execute_input": "2024-06-12T07:11:43.603810Z",
     "iopub.status.busy": "2024-06-12T07:11:43.603383Z",
     "iopub.status.idle": "2024-06-12T07:11:43.640243Z",
     "shell.execute_reply": "2024-06-12T07:11:43.639608Z",
     "shell.execute_reply.started": "2024-06-12T07:11:43.603768Z"
    },
    "scrolled": true
   },
   "outputs": [],
   "source": [
    "# if args.runmode.lower() == \"baseline\":\n",
    "#         mode = \"autoencoding\",\n",
    "#         criterion   = torch.nn.MSELoss(reduction='mean'),\n",
    "#         adam_weight_decay = 0,\n",
    "#         use_scheduler = True,\n",
    "#         use_snnl = False,\n",
    "#         snnl_factor= 0.0,\n",
    "#         use_temp_scheduler = False\n",
    "\n",
    "# elif args.runmode.lower() == \"snnl\":\n",
    "#         mode=\"latent_code\",\n",
    "#         criterion = torch.nn.MSELoss(reduction='mean'),\n",
    "#         adam_weight_decay = 0,\n",
    "#         use_scheduler = True,\n",
    "#         use_snnl=True,\n",
    "#         snnl_factor=args.snnl_factor,\n",
    "#         temperature=args.temperature,\n",
    "#         temperatureLR=args.temperatureLR,\n",
    "#         use_annealing= False,        \n",
    "#         use_sum = False,\n",
    "#         SGD_weight_decay= 0,\n",
    "#         use_temp_scheduler = False\n"
   ]
  },
  {
   "cell_type": "code",
   "execution_count": 73,
   "id": "a980870b-38de-4608-af68-56cba1468eab",
   "metadata": {
    "execution": {
     "iopub.execute_input": "2024-06-12T07:11:44.467724Z",
     "iopub.status.busy": "2024-06-12T07:11:44.467511Z",
     "iopub.status.idle": "2024-06-12T07:11:44.498372Z",
     "shell.execute_reply": "2024-06-12T07:11:44.497752Z",
     "shell.execute_reply.started": "2024-06-12T07:11:44.467704Z"
    },
    "scrolled": true
   },
   "outputs": [],
   "source": [
    "if WANDB_ACTIVE:\n",
    "    wandb_watch(item = model, criterion=None, log = 'all', log_freq = 1000, log_graph = True)"
   ]
  },
  {
   "cell_type": "markdown",
   "id": "94aeaa82-14c5-465c-ae6e-bb792ba8a973",
   "metadata": {},
   "source": [
    "# Autoencoder `fit(data_loader = train_loader, epochs = epochs)` "
   ]
  },
  {
   "cell_type": "code",
   "execution_count": 33,
   "id": "716a0094-cc80-42fb-9d29-9a08861f911b",
   "metadata": {
    "execution": {
     "iopub.execute_input": "2024-06-12T06:54:17.728366Z",
     "iopub.status.busy": "2024-06-12T06:54:17.727940Z",
     "iopub.status.idle": "2024-06-12T06:54:17.767203Z",
     "shell.execute_reply": "2024-06-12T06:54:17.766555Z",
     "shell.execute_reply.started": "2024-06-12T06:54:17.728326Z"
    }
   },
   "outputs": [],
   "source": [
    "# epoch = -1\n",
    "# filename = f\"{model.name}_{args.runmode}_{args.exp_date}_{args.exp_title}_ep_{epoch+1:03d}\"\n",
    "# print(filename)\n",
    "# save_checkpoint_v2(epoch, model, filename) "
   ]
  },
  {
   "cell_type": "code",
   "execution_count": 25,
   "id": "c75918dd-1b7a-4d96-8539-16b035528ec7",
   "metadata": {
    "execution": {
     "iopub.execute_input": "2024-06-05T07:50:15.449199Z",
     "iopub.status.busy": "2024-06-05T07:50:15.448911Z",
     "iopub.status.idle": "2024-06-05T07:50:15.486593Z",
     "shell.execute_reply": "2024-06-05T07:50:15.486021Z",
     "shell.execute_reply.started": "2024-06-05T07:50:15.449180Z"
    }
   },
   "outputs": [
    {
     "data": {
      "text/plain": [
       "(0, 10)"
      ]
     },
     "execution_count": 25,
     "metadata": {},
     "output_type": "execute_result"
    },
    {
     "name": "stdout",
     "output_type": "stream",
     "text": [
      " run epochs 1 to 10 \n"
     ]
    }
   ],
   "source": [
    "starting_epoch, epochs = 0, 10\n",
    "starting_epoch, epochs\n",
    "\n",
    "print(f\" run epochs {starting_epoch+1} to {epochs} \")"
   ]
  },
  {
   "cell_type": "code",
   "execution_count": 105,
   "id": "3da121c7-2e3f-4ba9-83db-5b7ffcb72f9f",
   "metadata": {
    "execution": {
     "iopub.execute_input": "2024-06-12T12:08:43.239245Z",
     "iopub.status.busy": "2024-06-12T12:08:43.238831Z",
     "iopub.status.idle": "2024-06-12T12:08:43.282544Z",
     "shell.execute_reply": "2024-06-12T12:08:43.281816Z",
     "shell.execute_reply.started": "2024-06-12T12:08:43.239216Z"
    }
   },
   "outputs": [
    {
     "name": "stdout",
     "output_type": "stream",
     "text": [
      "\n",
      " loss_factor         : 1.0\n",
      " monitor_grads_layer : None\n",
      " Learning rate       : 0.00025\n",
      " Use Scheduler       : True\n",
      "\n",
      "\n",
      " run epochs 201 to 300 \n"
     ]
    }
   ],
   "source": [
    "# snnl_factor = 10.0\n",
    "# print(f\" loss_factor         : {model.loss_factor}\")\n",
    "# print(f\" snnl_factor         : {model.snnl_factor}\")\n",
    "# print(f\" model.monitor_grads_layer: {model.monitor_grads_layer}\")\n",
    "# print(f\" model.temperature : {model.temperature}\")\n",
    "# print(f\" Learning rate     : {model.optimizer.param_groups[0]['lr']}\") \n",
    "# print(f\" Temperature LR    : {model.temperatureLR}\") \n",
    "# model.temperature = 40.0\n",
    "# model.snnl_factor = 0.5\n",
    "# model.loss_factor = 0.1\n",
    "# model.temperatureLR = 1e-4\n",
    "# model.optimizer.param_groups[0]['lr'] = 0.001\n",
    "# model.temp_optimizer.param_groups[0]['lr'] = 0.000005\n",
    "# model.monitor_grads_layer = -2\n",
    "print()\n",
    "print(f\" loss_factor         : {model.loss_factor}\")\n",
    "print(f\" monitor_grads_layer : {model.monitor_grads_layer}\")\n",
    "print(f\" Learning rate       : {model.optimizer.param_groups[0]['lr']}\") \n",
    "print(f\" Use Scheduler       : {model.use_scheduler}\") \n",
    "print()\n",
    "if model.use_snnl:\n",
    "    print(f\" Use snnl            : {model.use_snnl}\") \n",
    "    print(f\" snnl_factor         : {model.snnl_factor}\")\n",
    "    print(f\" temperature         : {model.temperature.item()}\")\n",
    "    print(f\" Temperature LR      : {model.optimizer.param_groups[1]['lr']}\") \n",
    "    # print(f\" Temperature LR      : {model.temp_optimizer.param_groups[0]['lr']}\") \n",
    "    print(f\" Use Temp Scheduler  : {model.use_temp_scheduler}\") \n",
    "    print(f\" Temp Scheduler      : {model.temp_scheduler}\") \n",
    "print(f\"\\n run epochs {starting_epoch+1} to {epochs} \")\n",
    "if WANDB_ACTIVE:\n",
    "    wandb.config.update(args)"
   ]
  },
  {
   "cell_type": "code",
   "execution_count": 107,
   "id": "5d979f75-0782-428f-844d-8231f46546d3",
   "metadata": {
    "execution": {
     "iopub.execute_input": "2024-06-12T12:08:53.343204Z",
     "iopub.status.busy": "2024-06-12T12:08:53.342812Z",
     "iopub.status.idle": "2024-06-12T15:39:17.462135Z",
     "shell.execute_reply": "2024-06-12T15:39:17.461411Z",
     "shell.execute_reply.started": "2024-06-12T12:08:53.343174Z"
    },
    "scrolled": true
   },
   "outputs": [
    {
     "name": "stdout",
     "output_type": "stream",
     "text": [
      "20240612_140853  epoch  301 of  400\n",
      "                     |   Trn_loss    PrimLoss      SNNL   |    temp*        grad     |   R2                     |   Vld_loss    PrimLoss      SNNL   |   R2                     |    LR       temp LR   |\n",
      "---------------------+------------------------------------+--------------------------+--------------------------+------------------------------------+--------------------------|-----------------------|\n",
      "14:11:00 ep 301 /400 |   0.247399    0.247399    0.000000 |   0.000000    0.0000e+00 |   0.6659                 |   0.309207    0.309207    0.000000 |   0.5207                 |   0.000250   0.000000 |\n",
      "14:13:04 ep 302 /400 |   0.247319    0.247319    0.000000 |   0.000000    0.0000e+00 |   0.6658                 |   0.308628    0.308628    0.000000 |   0.5204                 |   0.000250   0.000000 |\n",
      "14:15:09 ep 303 /400 |   0.247254    0.247254    0.000000 |   0.000000    0.0000e+00 |   0.6659                 |   0.309400    0.309400    0.000000 |   0.5131                 |   0.000250   0.000000 |\n",
      "14:17:16 ep 304 /400 |   0.247243    0.247243    0.000000 |   0.000000    0.0000e+00 |   0.6662                 |   0.309104    0.309104    0.000000 |   0.5318                 |   0.000250   0.000000 |\n",
      "14:19:25 ep 305 /400 |   0.247292    0.247292    0.000000 |   0.000000    0.0000e+00 |   0.6666                 |   0.309366    0.309366    0.000000 |   0.5288                 |   0.000250   0.000000 |\n",
      "14:21:31 ep 306 /400 |   0.247220    0.247220    0.000000 |   0.000000    0.0000e+00 |   0.6662                 |   0.309327    0.309327    0.000000 |   0.5238                 |   0.000250   0.000000 |\n",
      "14:23:32 ep 307 /400 |   0.247198    0.247198    0.000000 |   0.000000    0.0000e+00 |   0.6655                 |   0.309562    0.309562    0.000000 |   0.5219                 |   0.000250   0.000000 |\n",
      "14:25:34 ep 308 /400 |   0.247095    0.247095    0.000000 |   0.000000    0.0000e+00 |   0.6668                 |   0.309696    0.309696    0.000000 |   0.5038                 |   0.000250   0.000000 |\n",
      "14:27:38 ep 309 /400 |   0.247065    0.247065    0.000000 |   0.000000    0.0000e+00 |   0.6663                 |   0.309297    0.309297    0.000000 |   0.5273                 |   0.000250   0.000000 |\n",
      "14:29:44 ep 310 /400 |   0.247099    0.247099    0.000000 |   0.000000    0.0000e+00 |   0.6672                 |   0.309625    0.309625    0.000000 |   0.5170                 |   0.000250   0.000000 |\n",
      "14:31:44 ep 311 /400 |   0.247102    0.247102    0.000000 |   0.000000    0.0000e+00 |   0.6674                 |   0.309806    0.309806    0.000000 |   0.5230                 |   0.000250   0.000000 |\n",
      "14:33:50 ep 312 /400 |   0.246962    0.246962    0.000000 |   0.000000    0.0000e+00 |   0.6679                 |   0.309900    0.309900    0.000000 |   0.5014                 |   0.000250   0.000000 |\n",
      "14:35:51 ep 313 /400 |   0.247019    0.247019    0.000000 |   0.000000    0.0000e+00 |   0.6664                 |   0.309737    0.309737    0.000000 |   0.5252                 |   0.000250   0.000000 |\n",
      "14:37:54 ep 314 /400 |   0.247075    0.247075    0.000000 |   0.000000    0.0000e+00 |   0.6678                 |   0.310162    0.310162    0.000000 |   0.5226                 |   0.000250   0.000000 |\n",
      "14:40:00 ep 315 /400 |   0.247059    0.247059    0.000000 |   0.000000    0.0000e+00 |   0.6666                 |   0.309650    0.309650    0.000000 |   0.5220                 |   0.000250   0.000000 |\n",
      "14:42:07 ep 316 /400 |   0.247095    0.247095    0.000000 |   0.000000    0.0000e+00 |   0.6668                 |   0.310168    0.310168    0.000000 |   0.5044                 |   0.000250   0.000000 |\n",
      "14:44:12 ep 317 /400 |   0.247128    0.247128    0.000000 |   0.000000    0.0000e+00 |   0.6654                 |   0.310075    0.310075    0.000000 |   0.5052                 |   0.000250   0.000000 |\n",
      "14:46:17 ep 318 /400 |   0.247226    0.247226    0.000000 |   0.000000    0.0000e+00 |   0.6662                 |   0.310285    0.310285    0.000000 |   0.5373                 |   0.000250   0.000000 |\n",
      "14:48:17 ep 319 /400 |   0.247291    0.247291    0.000000 |   0.000000    0.0000e+00 |   0.6655                 |   0.309892    0.309892    0.000000 |   0.5041                 |   0.000250   0.000000 |\n",
      "14:50:22 ep 320 /400 |   0.247189    0.247189    0.000000 |   0.000000    0.0000e+00 |   0.6665                 |   0.310188    0.310188    0.000000 |   0.5508                 |   0.000250   0.000000 |\n",
      "14:52:27 ep 321 /400 |   0.247121    0.247121    0.000000 |   0.000000    0.0000e+00 |   0.6659                 |   0.310084    0.310084    0.000000 |   0.5373                 |   0.000250   0.000000 |\n",
      "14:54:32 ep 322 /400 |   0.246985    0.246985    0.000000 |   0.000000    0.0000e+00 |   0.6681                 |   0.309761    0.309761    0.000000 |   0.5103                 |   0.000250   0.000000 |\n",
      "14:56:38 ep 323 /400 |   0.246853    0.246853    0.000000 |   0.000000    0.0000e+00 |   0.6667                 |   0.309919    0.309919    0.000000 |   0.5576                 |   0.000250   0.000000 |\n",
      "14:58:44 ep 324 /400 |   0.246744    0.246744    0.000000 |   0.000000    0.0000e+00 |   0.6685                 |   0.310152    0.310152    0.000000 |   0.5271                 |   0.000250   0.000000 |\n",
      "15:00:51 ep 325 /400 |   0.246700    0.246700    0.000000 |   0.000000    0.0000e+00 |   0.6680                 |   0.309678    0.309678    0.000000 |   0.5369                 |   0.000250   0.000000 |\n",
      "ckpts/AE_baseline_20240612_snglOpt-50Ltnt_ep_325.pt\n",
      "[INFO] Model exported to ckpts/AE_baseline_20240612_snglOpt-50Ltnt_ep_325.pt.\n",
      "15:02:57 ep 326 /400 |   0.246625    0.246625    0.000000 |   0.000000    0.0000e+00 |   0.6688                 |   0.310341    0.310341    0.000000 |   0.5437                 |   0.000250   0.000000 |\n",
      "15:04:59 ep 327 /400 |   0.246581    0.246581    0.000000 |   0.000000    0.0000e+00 |   0.6694                 |   0.310052    0.310052    0.000000 |   0.5328                 |   0.000250   0.000000 |\n",
      "15:07:05 ep 328 /400 |   0.246519    0.246519    0.000000 |   0.000000    0.0000e+00 |   0.6690                 |   0.310183    0.310183    0.000000 |   0.5350                 |   0.000250   0.000000 |\n",
      "15:09:12 ep 329 /400 |   0.246421    0.246421    0.000000 |   0.000000    0.0000e+00 |   0.6690                 |   0.310440    0.310440    0.000000 |   0.5380                 |   0.000250   0.000000 |\n",
      "15:11:17 ep 330 /400 |   0.246483    0.246483    0.000000 |   0.000000    0.0000e+00 |   0.6691                 |   0.310028    0.310028    0.000000 |   0.5271                 |   0.000250   0.000000 |\n",
      "15:13:23 ep 331 /400 |   0.246433    0.246433    0.000000 |   0.000000    0.0000e+00 |   0.6705                 |   0.310182    0.310182    0.000000 |   0.5374                 |   0.000250   0.000000 |\n",
      "15:15:29 ep 332 /400 |   0.246371    0.246371    0.000000 |   0.000000    0.0000e+00 |   0.6695                 |   0.310226    0.310226    0.000000 |   0.5253                 |   0.000250   0.000000 |\n",
      "15:17:36 ep 333 /400 |   0.246380    0.246380    0.000000 |   0.000000    0.0000e+00 |   0.6684                 |   0.310580    0.310580    0.000000 |   0.5511                 |   0.000250   0.000000 |\n",
      "15:19:42 ep 334 /400 |   0.246286    0.246286    0.000000 |   0.000000    0.0000e+00 |   0.6696                 |   0.310201    0.310201    0.000000 |   0.5314                 |   0.000250   0.000000 |\n",
      "15:21:50 ep 335 /400 |   0.246264    0.246264    0.000000 |   0.000000    0.0000e+00 |   0.6693                 |   0.310429    0.310429    0.000000 |   0.5528                 |   0.000250   0.000000 |\n",
      "15:23:54 ep 336 /400 |   0.246248    0.246248    0.000000 |   0.000000    0.0000e+00 |   0.6697                 |   0.310201    0.310201    0.000000 |   0.5236                 |   0.000250   0.000000 |\n",
      "15:25:59 ep 337 /400 |   0.246172    0.246172    0.000000 |   0.000000    0.0000e+00 |   0.6703                 |   0.310147    0.310147    0.000000 |   0.5289                 |   0.000250   0.000000 |\n",
      "15:28:04 ep 338 /400 |   0.246188    0.246188    0.000000 |   0.000000    0.0000e+00 |   0.6691                 |   0.310385    0.310385    0.000000 |   0.5521                 |   0.000250   0.000000 |\n",
      "15:30:10 ep 339 /400 |   0.246133    0.246133    0.000000 |   0.000000    0.0000e+00 |   0.6704                 |   0.310798    0.310798    0.000000 |   0.5436                 |   0.000250   0.000000 |\n",
      "15:32:15 ep 340 /400 |   0.246084    0.246084    0.000000 |   0.000000    0.0000e+00 |   0.6701                 |   0.310308    0.310308    0.000000 |   0.5435                 |   0.000250   0.000000 |\n",
      "15:34:21 ep 341 /400 |   0.246022    0.246022    0.000000 |   0.000000    0.0000e+00 |   0.6712                 |   0.310393    0.310393    0.000000 |   0.5448                 |   0.000250   0.000000 |\n",
      "15:36:26 ep 342 /400 |   0.246001    0.246001    0.000000 |   0.000000    0.0000e+00 |   0.6715                 |   0.310464    0.310464    0.000000 |   0.5446                 |   0.000250   0.000000 |\n",
      "15:38:31 ep 343 /400 |   0.245942    0.245942    0.000000 |   0.000000    0.0000e+00 |   0.6708                 |   0.310833    0.310833    0.000000 |   0.5364                 |   0.000250   0.000000 |\n",
      "15:40:36 ep 344 /400 |   0.246185    0.246185    0.000000 |   0.000000    0.0000e+00 |   0.6697                 |   0.310807    0.310807    0.000000 |   0.5374                 |   0.000250   0.000000 |\n",
      " Optimizer learning rate reduced to 0.000125\n",
      "15:42:37 ep 345 /400 |   0.245885    0.245885    0.000000 |   0.000000    0.0000e+00 |   0.6725                 |   0.309937    0.309937    0.000000 |   0.5285                 |   0.000125   0.000000 |\n",
      "15:44:43 ep 346 /400 |   0.245034    0.245034    0.000000 |   0.000000    0.0000e+00 |   0.6744                 |   0.309922    0.309922    0.000000 |   0.5368                 |   0.000125   0.000000 |\n",
      "15:46:48 ep 347 /400 |   0.244646    0.244646    0.000000 |   0.000000    0.0000e+00 |   0.6749                 |   0.310073    0.310073    0.000000 |   0.5332                 |   0.000125   0.000000 |\n",
      "15:48:54 ep 348 /400 |   0.244446    0.244446    0.000000 |   0.000000    0.0000e+00 |   0.6752                 |   0.310162    0.310162    0.000000 |   0.5309                 |   0.000125   0.000000 |\n",
      "15:51:01 ep 349 /400 |   0.244324    0.244324    0.000000 |   0.000000    0.0000e+00 |   0.6753                 |   0.310303    0.310303    0.000000 |   0.5284                 |   0.000125   0.000000 |\n",
      "15:53:09 ep 350 /400 |   0.244267    0.244267    0.000000 |   0.000000    0.0000e+00 |   0.6756                 |   0.310352    0.310352    0.000000 |   0.5320                 |   0.000125   0.000000 |\n",
      "ckpts/AE_baseline_20240612_snglOpt-50Ltnt_ep_350.pt\n",
      "[INFO] Model exported to ckpts/AE_baseline_20240612_snglOpt-50Ltnt_ep_350.pt.\n",
      "15:55:18 ep 351 /400 |   0.244257    0.244257    0.000000 |   0.000000    0.0000e+00 |   0.6750                 |   0.310538    0.310538    0.000000 |   0.5186                 |   0.000125   0.000000 |\n",
      "15:57:24 ep 352 /400 |   0.244248    0.244248    0.000000 |   0.000000    0.0000e+00 |   0.6755                 |   0.310324    0.310324    0.000000 |   0.5310                 |   0.000125   0.000000 |\n",
      "15:59:31 ep 353 /400 |   0.244190    0.244190    0.000000 |   0.000000    0.0000e+00 |   0.6752                 |   0.310555    0.310555    0.000000 |   0.5309                 |   0.000125   0.000000 |\n",
      "16:01:38 ep 354 /400 |   0.244158    0.244158    0.000000 |   0.000000    0.0000e+00 |   0.6750                 |   0.310612    0.310612    0.000000 |   0.5213                 |   0.000125   0.000000 |\n",
      "16:03:44 ep 355 /400 |   0.244130    0.244130    0.000000 |   0.000000    0.0000e+00 |   0.6761                 |   0.310651    0.310651    0.000000 |   0.5251                 |   0.000125   0.000000 |\n",
      "16:05:49 ep 356 /400 |   0.244078    0.244078    0.000000 |   0.000000    0.0000e+00 |   0.6755                 |   0.310820    0.310820    0.000000 |   0.5273                 |   0.000125   0.000000 |\n",
      "16:07:55 ep 357 /400 |   0.244038    0.244038    0.000000 |   0.000000    0.0000e+00 |   0.6761                 |   0.310702    0.310702    0.000000 |   0.5259                 |   0.000125   0.000000 |\n",
      "16:10:04 ep 358 /400 |   0.243986    0.243986    0.000000 |   0.000000    0.0000e+00 |   0.6761                 |   0.310772    0.310772    0.000000 |   0.5211                 |   0.000125   0.000000 |\n",
      "16:12:05 ep 359 /400 |   0.243959    0.243959    0.000000 |   0.000000    0.0000e+00 |   0.6761                 |   0.310805    0.310805    0.000000 |   0.5321                 |   0.000125   0.000000 |\n",
      "16:14:06 ep 360 /400 |   0.243905    0.243905    0.000000 |   0.000000    0.0000e+00 |   0.6758                 |   0.310897    0.310897    0.000000 |   0.5149                 |   0.000125   0.000000 |\n",
      "16:16:13 ep 361 /400 |   0.243867    0.243867    0.000000 |   0.000000    0.0000e+00 |   0.6762                 |   0.310866    0.310866    0.000000 |   0.5201                 |   0.000125   0.000000 |\n",
      "16:18:19 ep 362 /400 |   0.243829    0.243829    0.000000 |   0.000000    0.0000e+00 |   0.6766                 |   0.311052    0.311052    0.000000 |   0.5301                 |   0.000125   0.000000 |\n",
      "16:20:26 ep 363 /400 |   0.243804    0.243804    0.000000 |   0.000000    0.0000e+00 |   0.6763                 |   0.310896    0.310896    0.000000 |   0.5150                 |   0.000125   0.000000 |\n",
      "16:22:34 ep 364 /400 |   0.243838    0.243838    0.000000 |   0.000000    0.0000e+00 |   0.6760                 |   0.311219    0.311219    0.000000 |   0.5281                 |   0.000125   0.000000 |\n",
      "16:24:40 ep 365 /400 |   0.243813    0.243813    0.000000 |   0.000000    0.0000e+00 |   0.6763                 |   0.311110    0.311110    0.000000 |   0.5151                 |   0.000125   0.000000 |\n",
      "16:26:47 ep 366 /400 |   0.243747    0.243747    0.000000 |   0.000000    0.0000e+00 |   0.6760                 |   0.311184    0.311184    0.000000 |   0.5234                 |   0.000125   0.000000 |\n",
      "16:28:52 ep 367 /400 |   0.243710    0.243710    0.000000 |   0.000000    0.0000e+00 |   0.6772                 |   0.311232    0.311232    0.000000 |   0.5141                 |   0.000125   0.000000 |\n",
      "16:30:53 ep 368 /400 |   0.243678    0.243678    0.000000 |   0.000000    0.0000e+00 |   0.6761                 |   0.311356    0.311356    0.000000 |   0.5206                 |   0.000125   0.000000 |\n",
      "16:32:58 ep 369 /400 |   0.243665    0.243665    0.000000 |   0.000000    0.0000e+00 |   0.6766                 |   0.311300    0.311300    0.000000 |   0.5264                 |   0.000125   0.000000 |\n",
      "16:35:04 ep 370 /400 |   0.243642    0.243642    0.000000 |   0.000000    0.0000e+00 |   0.6767                 |   0.311386    0.311386    0.000000 |   0.5062                 |   0.000125   0.000000 |\n",
      "16:37:11 ep 371 /400 |   0.243613    0.243613    0.000000 |   0.000000    0.0000e+00 |   0.6770                 |   0.311370    0.311370    0.000000 |   0.5318                 |   0.000125   0.000000 |\n",
      "16:39:17 ep 372 /400 |   0.243594    0.243594    0.000000 |   0.000000    0.0000e+00 |   0.6766                 |   0.311394    0.311394    0.000000 |   0.5254                 |   0.000125   0.000000 |\n",
      "16:41:23 ep 373 /400 |   0.243574    0.243574    0.000000 |   0.000000    0.0000e+00 |   0.6768                 |   0.311650    0.311650    0.000000 |   0.5064                 |   0.000125   0.000000 |\n",
      "16:43:29 ep 374 /400 |   0.243545    0.243545    0.000000 |   0.000000    0.0000e+00 |   0.6758                 |   0.311559    0.311559    0.000000 |   0.5239                 |   0.000125   0.000000 |\n",
      "16:45:34 ep 375 /400 |   0.243514    0.243514    0.000000 |   0.000000    0.0000e+00 |   0.6768                 |   0.311649    0.311649    0.000000 |   0.5116                 |   0.000125   0.000000 |\n",
      "ckpts/AE_baseline_20240612_snglOpt-50Ltnt_ep_375.pt\n",
      "[INFO] Model exported to ckpts/AE_baseline_20240612_snglOpt-50Ltnt_ep_375.pt.\n",
      "16:47:41 ep 376 /400 |   0.243520    0.243520    0.000000 |   0.000000    0.0000e+00 |   0.6769                 |   0.311570    0.311570    0.000000 |   0.5233                 |   0.000125   0.000000 |\n",
      "16:49:48 ep 377 /400 |   0.243512    0.243512    0.000000 |   0.000000    0.0000e+00 |   0.6768                 |   0.311677    0.311677    0.000000 |   0.5232                 |   0.000125   0.000000 |\n",
      "16:51:53 ep 378 /400 |   0.243488    0.243488    0.000000 |   0.000000    0.0000e+00 |   0.6773                 |   0.311770    0.311770    0.000000 |   0.5191                 |   0.000125   0.000000 |\n",
      "16:53:59 ep 379 /400 |   0.243440    0.243440    0.000000 |   0.000000    0.0000e+00 |   0.6774                 |   0.311819    0.311819    0.000000 |   0.5148                 |   0.000125   0.000000 |\n",
      "16:56:06 ep 380 /400 |   0.243433    0.243433    0.000000 |   0.000000    0.0000e+00 |   0.6772                 |   0.311873    0.311873    0.000000 |   0.5251                 |   0.000125   0.000000 |\n",
      "16:58:09 ep 381 /400 |   0.243416    0.243416    0.000000 |   0.000000    0.0000e+00 |   0.6775                 |   0.311920    0.311920    0.000000 |   0.5050                 |   0.000125   0.000000 |\n",
      "17:00:17 ep 382 /400 |   0.243409    0.243409    0.000000 |   0.000000    0.0000e+00 |   0.6766                 |   0.311887    0.311887    0.000000 |   0.5077                 |   0.000125   0.000000 |\n",
      "17:02:27 ep 383 /400 |   0.243427    0.243427    0.000000 |   0.000000    0.0000e+00 |   0.6771                 |   0.311990    0.311990    0.000000 |   0.5239                 |   0.000125   0.000000 |\n",
      "17:04:38 ep 384 /400 |   0.243402    0.243402    0.000000 |   0.000000    0.0000e+00 |   0.6771                 |   0.312069    0.312069    0.000000 |   0.5009                 |   0.000125   0.000000 |\n",
      "17:06:47 ep 385 /400 |   0.243342    0.243342    0.000000 |   0.000000    0.0000e+00 |   0.6775                 |   0.312207    0.312207    0.000000 |   0.5192                 |   0.000125   0.000000 |\n",
      "17:09:02 ep 386 /400 |   0.243296    0.243296    0.000000 |   0.000000    0.0000e+00 |   0.6775                 |   0.312084    0.312084    0.000000 |   0.5024                 |   0.000125   0.000000 |\n",
      "17:11:11 ep 387 /400 |   0.243312    0.243312    0.000000 |   0.000000    0.0000e+00 |   0.6774                 |   0.312240    0.312240    0.000000 |   0.5153                 |   0.000125   0.000000 |\n",
      "17:13:18 ep 388 /400 |   0.243310    0.243310    0.000000 |   0.000000    0.0000e+00 |   0.6778                 |   0.312199    0.312199    0.000000 |   0.5196                 |   0.000125   0.000000 |\n",
      "17:15:22 ep 389 /400 |   0.243316    0.243316    0.000000 |   0.000000    0.0000e+00 |   0.6774                 |   0.312405    0.312405    0.000000 |   0.4973                 |   0.000125   0.000000 |\n",
      "17:17:26 ep 390 /400 |   0.243276    0.243276    0.000000 |   0.000000    0.0000e+00 |   0.6776                 |   0.312401    0.312401    0.000000 |   0.5061                 |   0.000125   0.000000 |\n",
      "17:19:35 ep 391 /400 |   0.243232    0.243232    0.000000 |   0.000000    0.0000e+00 |   0.6781                 |   0.312213    0.312213    0.000000 |   0.4979                 |   0.000125   0.000000 |\n",
      "17:21:42 ep 392 /400 |   0.243231    0.243231    0.000000 |   0.000000    0.0000e+00 |   0.6771                 |   0.312462    0.312462    0.000000 |   0.5093                 |   0.000125   0.000000 |\n",
      "17:23:54 ep 393 /400 |   0.243218    0.243218    0.000000 |   0.000000    0.0000e+00 |   0.6777                 |   0.312596    0.312596    0.000000 |   0.5028                 |   0.000125   0.000000 |\n",
      "17:26:02 ep 394 /400 |   0.243210    0.243210    0.000000 |   0.000000    0.0000e+00 |   0.6773                 |   0.312561    0.312561    0.000000 |   0.5046                 |   0.000125   0.000000 |\n",
      "17:28:14 ep 395 /400 |   0.243218    0.243218    0.000000 |   0.000000    0.0000e+00 |   0.6778                 |   0.312559    0.312559    0.000000 |   0.5013                 |   0.000125   0.000000 |\n",
      "17:30:30 ep 396 /400 |   0.243171    0.243171    0.000000 |   0.000000    0.0000e+00 |   0.6785                 |   0.312674    0.312674    0.000000 |   0.5104                 |   0.000125   0.000000 |\n",
      "17:32:45 ep 397 /400 |   0.243149    0.243149    0.000000 |   0.000000    0.0000e+00 |   0.6776                 |   0.312753    0.312753    0.000000 |   0.5039                 |   0.000125   0.000000 |\n",
      "17:35:00 ep 398 /400 |   0.243138    0.243138    0.000000 |   0.000000    0.0000e+00 |   0.6780                 |   0.312760    0.312760    0.000000 |   0.5095                 |   0.000125   0.000000 |\n",
      "17:37:10 ep 399 /400 |   0.243112    0.243112    0.000000 |   0.000000    0.0000e+00 |   0.6778                 |   0.312725    0.312725    0.000000 |   0.4960                 |   0.000125   0.000000 |\n",
      "17:39:17 ep 400 /400 |   0.243144    0.243144    0.000000 |   0.000000    0.0000e+00 |   0.6784                 |   0.312803    0.312803    0.000000 |   0.5145                 |   0.000125   0.000000 |\n",
      "ckpts/AE_baseline_20240612_snglOpt-50Ltnt_ep_400.pt\n",
      "[INFO] Model exported to ckpts/AE_baseline_20240612_snglOpt-50Ltnt_ep_400.pt.\n"
     ]
    }
   ],
   "source": [
    "print(f\"{datetime.now().strftime('%Y%m%d_%H%M%S')}  epoch {starting_epoch+1:4d} of {epochs:4d}\")\n",
    "header = True\n",
    "\n",
    "for epoch in range(starting_epoch,epochs):\n",
    "    train_loss = model.epoch_train(train_loader, epoch)\n",
    "    val_loss = model.epoch_validate(val_loader, epoch)\n",
    "    \n",
    "    display_epoch_metrics(model, epoch, epochs, header)\n",
    "    header = False\n",
    "    model.scheduling_step(val_loss)\n",
    "    \n",
    "    if WANDB_ACTIVE:\n",
    "        epoch_metrics = {x:y[-1] for x,y in model.training_history['val'].items()} | \\\n",
    "                        {x:y[-1] for x,y in model.training_history['trn'].items()} \n",
    "        wandb_log_metrics( data = epoch_metrics, step = epoch)\n",
    "    \n",
    "    if (epoch + 1) % args.save_every == 0:\n",
    "        filename = f\"{model.name}_{args.runmode}_{args.exp_date}_{args.exp_title}_ep_{epoch+1:03d}\"\n",
    "        save_checkpoint_v2(epochs, model, filename, update_latest=False, update_best=False)    "
   ]
  },
  {
   "cell_type": "code",
   "execution_count": 108,
   "id": "d4ce526a-5381-4c3e-97f8-45b547e22b19",
   "metadata": {
    "execution": {
     "iopub.execute_input": "2024-06-12T15:42:51.124784Z",
     "iopub.status.busy": "2024-06-12T15:42:51.124277Z",
     "iopub.status.idle": "2024-06-12T15:42:51.185729Z",
     "shell.execute_reply": "2024-06-12T15:42:51.185048Z",
     "shell.execute_reply.started": "2024-06-12T15:42:51.124741Z"
    }
   },
   "outputs": [
    {
     "data": {
      "text/plain": [
       "(300, 400)"
      ]
     },
     "execution_count": 108,
     "metadata": {},
     "output_type": "execute_result"
    }
   ],
   "source": [
    "starting_epoch, epochs "
   ]
  },
  {
   "cell_type": "code",
   "execution_count": 106,
   "id": "5f576bea-1aa7-4e6b-903d-397d2a10d496",
   "metadata": {
    "execution": {
     "iopub.execute_input": "2024-06-12T12:08:48.586173Z",
     "iopub.status.busy": "2024-06-12T12:08:48.585878Z",
     "iopub.status.idle": "2024-06-12T12:08:48.628446Z",
     "shell.execute_reply": "2024-06-12T12:08:48.627714Z",
     "shell.execute_reply.started": "2024-06-12T12:08:48.586150Z"
    }
   },
   "outputs": [
    {
     "name": "stdout",
     "output_type": "stream",
     "text": [
      " run epochs 301 to 400 \n"
     ]
    }
   ],
   "source": [
    "# starting_epoch = 350\n",
    "# epochs = 35\n",
    "starting_epoch = epochs\n",
    "epochs += 100\n",
    "print(f\" run epochs {starting_epoch+1} to {epochs} \")"
   ]
  },
  {
   "cell_type": "code",
   "execution_count": 109,
   "id": "d116ac2b-6dd6-4b5c-b112-48c8dfadbfaf",
   "metadata": {
    "execution": {
     "iopub.execute_input": "2024-06-12T15:42:53.308963Z",
     "iopub.status.busy": "2024-06-12T15:42:53.308476Z",
     "iopub.status.idle": "2024-06-12T15:42:53.358937Z",
     "shell.execute_reply": "2024-06-12T15:42:53.358264Z",
     "shell.execute_reply.started": "2024-06-12T15:42:53.308921Z"
    },
    "scrolled": true
   },
   "outputs": [
    {
     "name": "stdout",
     "output_type": "stream",
     "text": [
      "                     |   Trn_loss    PrimLoss      SNNL   |    temp*        grad     |   R2                     |   Vld_loss    PrimLoss      SNNL   |   R2                     |    LR       temp LR   |\n",
      "---------------------+------------------------------------+--------------------------+--------------------------+------------------------------------+--------------------------|-----------------------|\n",
      "09:52:27 ep   1 /400 |   0.572297    0.572297    0.000000 |   0.000000    0.0000e+00 |  -0.9068                 |   0.465613    0.465613    0.000000 |   0.0996                 |   0.001000   0.000000 |\n",
      "09:54:29 ep   2 /400 |   0.445743    0.445743    0.000000 |   0.000000    0.0000e+00 |   0.2265                 |   0.425720    0.425720    0.000000 |   0.2934                 |   0.001000   0.000000 |\n",
      "09:56:31 ep   3 /400 |   0.417483    0.417483    0.000000 |   0.000000    0.0000e+00 |   0.2603                 |   0.393651    0.393651    0.000000 |   0.3504                 |   0.001000   0.000000 |\n",
      "09:58:34 ep   4 /400 |   0.379841    0.379841    0.000000 |   0.000000    0.0000e+00 |   0.3890                 |   0.370498    0.370498    0.000000 |   0.4307                 |   0.001000   0.000000 |\n",
      "10:00:37 ep   5 /400 |   0.366516    0.366516    0.000000 |   0.000000    0.0000e+00 |   0.4346                 |   0.366512    0.366512    0.000000 |   0.4653                 |   0.001000   0.000000 |\n",
      "10:02:41 ep   6 /400 |   0.357127    0.357127    0.000000 |   0.000000    0.0000e+00 |   0.4646                 |   0.357937    0.357937    0.000000 |   0.4850                 |   0.001000   0.000000 |\n",
      "10:04:39 ep   7 /400 |   0.352136    0.352136    0.000000 |   0.000000    0.0000e+00 |   0.4687                 |   0.353755    0.353755    0.000000 |   0.5144                 |   0.001000   0.000000 |\n",
      "10:06:42 ep   8 /400 |   0.353510    0.353510    0.000000 |   0.000000    0.0000e+00 |   0.4599                 |   0.346893    0.346893    0.000000 |   0.5213                 |   0.001000   0.000000 |\n",
      "10:08:45 ep   9 /400 |   0.344960    0.344960    0.000000 |   0.000000    0.0000e+00 |   0.4736                 |   0.350197    0.350197    0.000000 |   0.4965                 |   0.001000   0.000000 |\n",
      "10:10:47 ep  10 /400 |   0.340667    0.340667    0.000000 |   0.000000    0.0000e+00 |   0.4734                 |   0.345740    0.345740    0.000000 |   0.5208                 |   0.001000   0.000000 |\n",
      "10:13:12 ep  11 /400 |   0.340041    0.340041    0.000000 |   0.000000    0.0000e+00 |   0.4688                 |   0.340573    0.340573    0.000000 |   0.5021                 |   0.001000   0.000000 |\n",
      "10:15:14 ep  12 /400 |   0.337317    0.337317    0.000000 |   0.000000    0.0000e+00 |   0.4756                 |   0.347356    0.347356    0.000000 |   0.4994                 |   0.001000   0.000000 |\n",
      "10:17:17 ep  13 /400 |   0.333541    0.333541    0.000000 |   0.000000    0.0000e+00 |   0.4835                 |   0.343420    0.343420    0.000000 |   0.5035                 |   0.001000   0.000000 |\n",
      "10:19:20 ep  14 /400 |   0.331333    0.331333    0.000000 |   0.000000    0.0000e+00 |   0.4868                 |   0.344978    0.344978    0.000000 |   0.4770                 |   0.001000   0.000000 |\n",
      "10:21:24 ep  15 /400 |   0.330287    0.330287    0.000000 |   0.000000    0.0000e+00 |   0.4877                 |   0.337568    0.337568    0.000000 |   0.5416                 |   0.001000   0.000000 |\n",
      "10:23:27 ep  16 /400 |   0.327923    0.327923    0.000000 |   0.000000    0.0000e+00 |   0.4931                 |   0.335848    0.335848    0.000000 |   0.5321                 |   0.001000   0.000000 |\n",
      "10:25:30 ep  17 /400 |   0.328084    0.328084    0.000000 |   0.000000    0.0000e+00 |   0.4838                 |   0.340004    0.340004    0.000000 |   0.5140                 |   0.001000   0.000000 |\n",
      "10:27:33 ep  18 /400 |   0.324530    0.324530    0.000000 |   0.000000    0.0000e+00 |   0.4933                 |   0.338435    0.338435    0.000000 |   0.4855                 |   0.001000   0.000000 |\n",
      "10:29:39 ep  19 /400 |   0.325077    0.325077    0.000000 |   0.000000    0.0000e+00 |   0.4911                 |   0.340690    0.340690    0.000000 |   0.5161                 |   0.001000   0.000000 |\n",
      "10:31:43 ep  20 /400 |   0.324804    0.324804    0.000000 |   0.000000    0.0000e+00 |   0.4978                 |   0.335592    0.335592    0.000000 |   0.5047                 |   0.001000   0.000000 |\n",
      "10:33:47 ep  21 /400 |   0.322712    0.322712    0.000000 |   0.000000    0.0000e+00 |   0.4979                 |   0.340661    0.340661    0.000000 |   0.5025                 |   0.001000   0.000000 |\n",
      "10:35:51 ep  22 /400 |   0.320082    0.320082    0.000000 |   0.000000    0.0000e+00 |   0.5033                 |   0.336504    0.336504    0.000000 |   0.5213                 |   0.001000   0.000000 |\n",
      "10:37:54 ep  23 /400 |   0.319301    0.319301    0.000000 |   0.000000    0.0000e+00 |   0.5105                 |   0.338539    0.338539    0.000000 |   0.4960                 |   0.001000   0.000000 |\n",
      "10:39:58 ep  24 /400 |   0.318310    0.318310    0.000000 |   0.000000    0.0000e+00 |   0.5075                 |   0.335233    0.335233    0.000000 |   0.5177                 |   0.001000   0.000000 |\n",
      "10:42:01 ep  25 /400 |   0.317272    0.317272    0.000000 |   0.000000    0.0000e+00 |   0.5164                 |   0.333453    0.333453    0.000000 |   0.4989                 |   0.001000   0.000000 |\n",
      "10:44:05 ep  26 /400 |   0.317315    0.317315    0.000000 |   0.000000    0.0000e+00 |   0.5110                 |   0.333270    0.333270    0.000000 |   0.4894                 |   0.001000   0.000000 |\n",
      "10:46:09 ep  27 /400 |   0.316320    0.316320    0.000000 |   0.000000    0.0000e+00 |   0.5145                 |   0.333160    0.333160    0.000000 |   0.5092                 |   0.001000   0.000000 |\n",
      "10:48:13 ep  28 /400 |   0.316395    0.316395    0.000000 |   0.000000    0.0000e+00 |   0.5117                 |   0.333377    0.333377    0.000000 |   0.5085                 |   0.001000   0.000000 |\n",
      "10:50:16 ep  29 /400 |   0.312897    0.312897    0.000000 |   0.000000    0.0000e+00 |   0.5169                 |   0.329214    0.329214    0.000000 |   0.5280                 |   0.001000   0.000000 |\n",
      "10:52:19 ep  30 /400 |   0.312591    0.312591    0.000000 |   0.000000    0.0000e+00 |   0.5264                 |   0.330320    0.330320    0.000000 |   0.5052                 |   0.001000   0.000000 |\n",
      "10:54:24 ep  31 /400 |   0.313728    0.313728    0.000000 |   0.000000    0.0000e+00 |   0.5270                 |   0.333941    0.333941    0.000000 |   0.4602                 |   0.001000   0.000000 |\n",
      "10:56:27 ep  32 /400 |   0.314283    0.314283    0.000000 |   0.000000    0.0000e+00 |   0.5205                 |   0.328401    0.328401    0.000000 |   0.5413                 |   0.001000   0.000000 |\n",
      "10:58:31 ep  33 /400 |   0.312379    0.312379    0.000000 |   0.000000    0.0000e+00 |   0.5352                 |   0.327176    0.327176    0.000000 |   0.5363                 |   0.001000   0.000000 |\n",
      "11:00:35 ep  34 /400 |   0.310344    0.310344    0.000000 |   0.000000    0.0000e+00 |   0.5308                 |   0.325668    0.325668    0.000000 |   0.5079                 |   0.001000   0.000000 |\n",
      "11:02:39 ep  35 /400 |   0.307713    0.307713    0.000000 |   0.000000    0.0000e+00 |   0.5307                 |   0.328023    0.328023    0.000000 |   0.5363                 |   0.001000   0.000000 |\n",
      "11:04:44 ep  36 /400 |   0.309939    0.309939    0.000000 |   0.000000    0.0000e+00 |   0.5333                 |   0.328430    0.328430    0.000000 |   0.4999                 |   0.001000   0.000000 |\n",
      "11:06:47 ep  37 /400 |   0.309110    0.309110    0.000000 |   0.000000    0.0000e+00 |   0.5373                 |   0.327699    0.327699    0.000000 |   0.5455                 |   0.001000   0.000000 |\n",
      "11:08:52 ep  38 /400 |   0.307077    0.307077    0.000000 |   0.000000    0.0000e+00 |   0.5275                 |   0.324715    0.324715    0.000000 |   0.5107                 |   0.001000   0.000000 |\n",
      "11:10:56 ep  39 /400 |   0.306536    0.306536    0.000000 |   0.000000    0.0000e+00 |   0.5322                 |   0.327688    0.327688    0.000000 |   0.5310                 |   0.001000   0.000000 |\n",
      "11:13:00 ep  40 /400 |   0.307061    0.307061    0.000000 |   0.000000    0.0000e+00 |   0.5353                 |   0.329945    0.329945    0.000000 |   0.4627                 |   0.001000   0.000000 |\n",
      "11:15:05 ep  41 /400 |   0.305070    0.305070    0.000000 |   0.000000    0.0000e+00 |   0.5426                 |   0.327096    0.327096    0.000000 |   0.5522                 |   0.001000   0.000000 |\n",
      "11:17:09 ep  42 /400 |   0.305764    0.305764    0.000000 |   0.000000    0.0000e+00 |   0.5360                 |   0.324205    0.324205    0.000000 |   0.5366                 |   0.001000   0.000000 |\n",
      "11:19:13 ep  43 /400 |   0.304262    0.304262    0.000000 |   0.000000    0.0000e+00 |   0.5353                 |   0.327473    0.327473    0.000000 |   0.5067                 |   0.001000   0.000000 |\n",
      "11:21:18 ep  44 /400 |   0.303727    0.303727    0.000000 |   0.000000    0.0000e+00 |   0.5351                 |   0.326812    0.326812    0.000000 |   0.4854                 |   0.001000   0.000000 |\n",
      "11:23:22 ep  45 /400 |   0.304930    0.304930    0.000000 |   0.000000    0.0000e+00 |   0.5433                 |   0.325962    0.325962    0.000000 |   0.5056                 |   0.001000   0.000000 |\n",
      "11:25:27 ep  46 /400 |   0.302945    0.302945    0.000000 |   0.000000    0.0000e+00 |   0.5382                 |   0.329678    0.329678    0.000000 |   0.5118                 |   0.001000   0.000000 |\n",
      "11:27:31 ep  47 /400 |   0.303075    0.303075    0.000000 |   0.000000    0.0000e+00 |   0.5354                 |   0.323908    0.323908    0.000000 |   0.5371                 |   0.001000   0.000000 |\n",
      "11:29:36 ep  48 /400 |   0.301344    0.301344    0.000000 |   0.000000    0.0000e+00 |   0.5437                 |   0.322105    0.322105    0.000000 |   0.5098                 |   0.001000   0.000000 |\n",
      "11:31:46 ep  49 /400 |   0.299737    0.299737    0.000000 |   0.000000    0.0000e+00 |   0.5467                 |   0.323286    0.323286    0.000000 |   0.5152                 |   0.001000   0.000000 |\n",
      "11:33:56 ep  50 /400 |   0.301407    0.301407    0.000000 |   0.000000    0.0000e+00 |   0.5357                 |   0.327250    0.327250    0.000000 |   0.5001                 |   0.001000   0.000000 |\n",
      "11:44:55 ep  51 /400 |   0.301732    0.301732    0.000000 |   0.000000    0.0000e+00 |   0.5472                 |   0.335364    0.335364    0.000000 |   0.4933                 |   0.001000   0.000000 |\n",
      "11:47:09 ep  52 /400 |   0.299522    0.299522    0.000000 |   0.000000    0.0000e+00 |   0.5449                 |   0.323677    0.323677    0.000000 |   0.5365                 |   0.001000   0.000000 |\n",
      "11:49:22 ep  53 /400 |   0.297976    0.297976    0.000000 |   0.000000    0.0000e+00 |   0.5445                 |   0.325533    0.325533    0.000000 |   0.5101                 |   0.001000   0.000000 |\n",
      "11:51:34 ep  54 /400 |   0.298526    0.298526    0.000000 |   0.000000    0.0000e+00 |   0.5447                 |   0.319181    0.319181    0.000000 |   0.5249                 |   0.001000   0.000000 |\n",
      "11:53:41 ep  55 /400 |   0.297878    0.297878    0.000000 |   0.000000    0.0000e+00 |   0.5480                 |   0.322317    0.322317    0.000000 |   0.5031                 |   0.001000   0.000000 |\n",
      "11:55:47 ep  56 /400 |   0.296819    0.296819    0.000000 |   0.000000    0.0000e+00 |   0.5551                 |   0.319578    0.319578    0.000000 |   0.5316                 |   0.001000   0.000000 |\n",
      "11:57:53 ep  57 /400 |   0.298521    0.298521    0.000000 |   0.000000    0.0000e+00 |   0.5523                 |   0.321833    0.321833    0.000000 |   0.5013                 |   0.001000   0.000000 |\n",
      "11:59:59 ep  58 /400 |   0.296707    0.296707    0.000000 |   0.000000    0.0000e+00 |   0.5498                 |   0.322120    0.322120    0.000000 |   0.5322                 |   0.001000   0.000000 |\n",
      "12:02:05 ep  59 /400 |   0.296280    0.296280    0.000000 |   0.000000    0.0000e+00 |   0.5467                 |   0.327545    0.327545    0.000000 |   0.5309                 |   0.001000   0.000000 |\n",
      "12:04:12 ep  60 /400 |   0.296206    0.296206    0.000000 |   0.000000    0.0000e+00 |   0.5552                 |   0.322558    0.322558    0.000000 |   0.5284                 |   0.001000   0.000000 |\n",
      "12:06:15 ep  61 /400 |   0.295943    0.295943    0.000000 |   0.000000    0.0000e+00 |   0.5539                 |   0.321192    0.321192    0.000000 |   0.5110                 |   0.001000   0.000000 |\n",
      "12:08:28 ep  62 /400 |   0.294677    0.294677    0.000000 |   0.000000    0.0000e+00 |   0.5509                 |   0.319731    0.319731    0.000000 |   0.5564                 |   0.001000   0.000000 |\n",
      "12:10:48 ep  63 /400 |   0.292617    0.292617    0.000000 |   0.000000    0.0000e+00 |   0.5539                 |   0.318971    0.318971    0.000000 |   0.5525                 |   0.001000   0.000000 |\n",
      "12:12:56 ep  64 /400 |   0.292333    0.292333    0.000000 |   0.000000    0.0000e+00 |   0.5617                 |   0.320109    0.320109    0.000000 |   0.5302                 |   0.001000   0.000000 |\n",
      "12:15:14 ep  65 /400 |   0.293957    0.293957    0.000000 |   0.000000    0.0000e+00 |   0.5454                 |   0.321192    0.321192    0.000000 |   0.5575                 |   0.001000   0.000000 |\n",
      "12:17:25 ep  66 /400 |   0.293682    0.293682    0.000000 |   0.000000    0.0000e+00 |   0.5638                 |   0.320440    0.320440    0.000000 |   0.5360                 |   0.001000   0.000000 |\n",
      "12:19:31 ep  67 /400 |   0.293702    0.293702    0.000000 |   0.000000    0.0000e+00 |   0.5628                 |   0.321750    0.321750    0.000000 |   0.4671                 |   0.001000   0.000000 |\n",
      "12:21:35 ep  68 /400 |   0.294720    0.294720    0.000000 |   0.000000    0.0000e+00 |   0.5553                 |   0.323670    0.323670    0.000000 |   0.5197                 |   0.001000   0.000000 |\n",
      "12:23:45 ep  69 /400 |   0.293595    0.293595    0.000000 |   0.000000    0.0000e+00 |   0.5652                 |   0.319872    0.319872    0.000000 |   0.5303                 |   0.001000   0.000000 |\n",
      "12:25:49 ep  70 /400 |   0.291551    0.291551    0.000000 |   0.000000    0.0000e+00 |   0.5652                 |   0.317795    0.317795    0.000000 |   0.5309                 |   0.001000   0.000000 |\n",
      "12:27:53 ep  71 /400 |   0.290821    0.290821    0.000000 |   0.000000    0.0000e+00 |   0.5627                 |   0.320864    0.320864    0.000000 |   0.5333                 |   0.001000   0.000000 |\n",
      "12:29:56 ep  72 /400 |   0.290861    0.290861    0.000000 |   0.000000    0.0000e+00 |   0.5693                 |   0.317885    0.317885    0.000000 |   0.5404                 |   0.001000   0.000000 |\n",
      "12:32:02 ep  73 /400 |   0.290554    0.290554    0.000000 |   0.000000    0.0000e+00 |   0.5581                 |   0.326180    0.326180    0.000000 |   0.5028                 |   0.001000   0.000000 |\n",
      "12:34:09 ep  74 /400 |   0.293927    0.293927    0.000000 |   0.000000    0.0000e+00 |   0.5548                 |   0.319161    0.319161    0.000000 |   0.5397                 |   0.001000   0.000000 |\n",
      "12:36:14 ep  75 /400 |   0.289515    0.289515    0.000000 |   0.000000    0.0000e+00 |   0.5680                 |   0.319306    0.319306    0.000000 |   0.5235                 |   0.001000   0.000000 |\n",
      "12:38:21 ep  76 /400 |   0.288532    0.288532    0.000000 |   0.000000    0.0000e+00 |   0.5647                 |   0.319554    0.319554    0.000000 |   0.5415                 |   0.001000   0.000000 |\n",
      "12:40:30 ep  77 /400 |   0.289991    0.289991    0.000000 |   0.000000    0.0000e+00 |   0.5702                 |   0.319633    0.319633    0.000000 |   0.5437                 |   0.001000   0.000000 |\n",
      "12:42:39 ep  78 /400 |   0.290955    0.290955    0.000000 |   0.000000    0.0000e+00 |   0.5636                 |   0.320057    0.320057    0.000000 |   0.5148                 |   0.001000   0.000000 |\n",
      "12:44:44 ep  79 /400 |   0.289249    0.289249    0.000000 |   0.000000    0.0000e+00 |   0.5692                 |   0.320503    0.320503    0.000000 |   0.5391                 |   0.001000   0.000000 |\n",
      "12:46:51 ep  80 /400 |   0.289027    0.289027    0.000000 |   0.000000    0.0000e+00 |   0.5759                 |   0.316233    0.316233    0.000000 |   0.5368                 |   0.001000   0.000000 |\n",
      "12:48:57 ep  81 /400 |   0.288762    0.288762    0.000000 |   0.000000    0.0000e+00 |   0.5687                 |   0.317751    0.317751    0.000000 |   0.5594                 |   0.001000   0.000000 |\n",
      "12:51:03 ep  82 /400 |   0.287963    0.287963    0.000000 |   0.000000    0.0000e+00 |   0.5743                 |   0.318797    0.318797    0.000000 |   0.5468                 |   0.001000   0.000000 |\n",
      "12:53:12 ep  83 /400 |   0.287414    0.287414    0.000000 |   0.000000    0.0000e+00 |   0.5764                 |   0.318173    0.318173    0.000000 |   0.5162                 |   0.001000   0.000000 |\n",
      "12:55:20 ep  84 /400 |   0.286734    0.286734    0.000000 |   0.000000    0.0000e+00 |   0.5714                 |   0.317545    0.317545    0.000000 |   0.5309                 |   0.001000   0.000000 |\n",
      "12:57:27 ep  85 /400 |   0.287331    0.287331    0.000000 |   0.000000    0.0000e+00 |   0.5710                 |   0.315099    0.315099    0.000000 |   0.5363                 |   0.001000   0.000000 |\n",
      "12:59:35 ep  86 /400 |   0.286638    0.286638    0.000000 |   0.000000    0.0000e+00 |   0.5710                 |   0.316046    0.316046    0.000000 |   0.4972                 |   0.001000   0.000000 |\n",
      "13:01:42 ep  87 /400 |   0.287752    0.287752    0.000000 |   0.000000    0.0000e+00 |   0.5744                 |   0.318344    0.318344    0.000000 |   0.5218                 |   0.001000   0.000000 |\n",
      "13:03:48 ep  88 /400 |   0.287883    0.287883    0.000000 |   0.000000    0.0000e+00 |   0.5750                 |   0.318757    0.318757    0.000000 |   0.5614                 |   0.001000   0.000000 |\n",
      "13:05:54 ep  89 /400 |   0.286192    0.286192    0.000000 |   0.000000    0.0000e+00 |   0.5798                 |   0.318261    0.318261    0.000000 |   0.5130                 |   0.001000   0.000000 |\n",
      "13:08:00 ep  90 /400 |   0.286697    0.286697    0.000000 |   0.000000    0.0000e+00 |   0.5805                 |   0.318636    0.318636    0.000000 |   0.5547                 |   0.001000   0.000000 |\n",
      "13:10:06 ep  91 /400 |   0.286360    0.286360    0.000000 |   0.000000    0.0000e+00 |   0.5799                 |   0.315895    0.315895    0.000000 |   0.5027                 |   0.001000   0.000000 |\n",
      "13:12:16 ep  92 /400 |   0.285791    0.285791    0.000000 |   0.000000    0.0000e+00 |   0.5799                 |   0.316572    0.316572    0.000000 |   0.5537                 |   0.001000   0.000000 |\n",
      "13:14:21 ep  93 /400 |   0.285268    0.285268    0.000000 |   0.000000    0.0000e+00 |   0.5814                 |   0.315898    0.315898    0.000000 |   0.5597                 |   0.001000   0.000000 |\n",
      "13:16:26 ep  94 /400 |   0.284173    0.284173    0.000000 |   0.000000    0.0000e+00 |   0.5788                 |   0.319244    0.319244    0.000000 |   0.4729                 |   0.001000   0.000000 |\n",
      "13:18:34 ep  95 /400 |   0.284542    0.284542    0.000000 |   0.000000    0.0000e+00 |   0.5824                 |   0.317295    0.317295    0.000000 |   0.5350                 |   0.001000   0.000000 |\n",
      "13:20:40 ep  96 /400 |   0.283741    0.283741    0.000000 |   0.000000    0.0000e+00 |   0.5888                 |   0.317397    0.317397    0.000000 |   0.5547                 |   0.001000   0.000000 |\n",
      "13:22:46 ep  97 /400 |   0.283158    0.283158    0.000000 |   0.000000    0.0000e+00 |   0.5850                 |   0.314201    0.314201    0.000000 |   0.5495                 |   0.001000   0.000000 |\n",
      "13:24:52 ep  98 /400 |   0.284156    0.284156    0.000000 |   0.000000    0.0000e+00 |   0.5908                 |   0.314780    0.314780    0.000000 |   0.5185                 |   0.001000   0.000000 |\n",
      "13:26:59 ep  99 /400 |   0.284725    0.284725    0.000000 |   0.000000    0.0000e+00 |   0.5801                 |   0.317865    0.317865    0.000000 |   0.5307                 |   0.001000   0.000000 |\n",
      "13:29:05 ep 100 /400 |   0.283015    0.283015    0.000000 |   0.000000    0.0000e+00 |   0.5865                 |   0.316920    0.316920    0.000000 |   0.5344                 |   0.001000   0.000000 |\n",
      "14:06:30 ep 101 /400 |   0.283235    0.283235    0.000000 |   0.000000    0.0000e+00 |   0.5859                 |   0.315874    0.315874    0.000000 |   0.5687                 |   0.001000   0.000000 |\n",
      "14:08:36 ep 102 /400 |   0.280705    0.280705    0.000000 |   0.000000    0.0000e+00 |   0.5907                 |   0.312816    0.312816    0.000000 |   0.5410                 |   0.001000   0.000000 |\n",
      "14:10:42 ep 103 /400 |   0.281601    0.281601    0.000000 |   0.000000    0.0000e+00 |   0.5880                 |   0.315396    0.315396    0.000000 |   0.5128                 |   0.001000   0.000000 |\n",
      "14:12:49 ep 104 /400 |   0.283459    0.283459    0.000000 |   0.000000    0.0000e+00 |   0.5867                 |   0.316168    0.316168    0.000000 |   0.5336                 |   0.001000   0.000000 |\n",
      "14:14:55 ep 105 /400 |   0.283274    0.283274    0.000000 |   0.000000    0.0000e+00 |   0.5824                 |   0.312261    0.312261    0.000000 |   0.5420                 |   0.001000   0.000000 |\n",
      "14:17:00 ep 106 /400 |   0.283109    0.283109    0.000000 |   0.000000    0.0000e+00 |   0.5892                 |   0.317488    0.317488    0.000000 |   0.5392                 |   0.001000   0.000000 |\n",
      "14:19:06 ep 107 /400 |   0.282560    0.282560    0.000000 |   0.000000    0.0000e+00 |   0.5829                 |   0.316767    0.316767    0.000000 |   0.5432                 |   0.001000   0.000000 |\n",
      "14:21:15 ep 108 /400 |   0.280109    0.280109    0.000000 |   0.000000    0.0000e+00 |   0.5947                 |   0.312873    0.312873    0.000000 |   0.4751                 |   0.001000   0.000000 |\n",
      "14:23:23 ep 109 /400 |   0.279097    0.279097    0.000000 |   0.000000    0.0000e+00 |   0.5919                 |   0.313701    0.313701    0.000000 |   0.5497                 |   0.001000   0.000000 |\n",
      "14:25:32 ep 110 /400 |   0.280167    0.280167    0.000000 |   0.000000    0.0000e+00 |   0.5910                 |   0.316229    0.316229    0.000000 |   0.5435                 |   0.001000   0.000000 |\n",
      "14:27:41 ep 111 /400 |   0.280625    0.280625    0.000000 |   0.000000    0.0000e+00 |   0.5938                 |   0.315443    0.315443    0.000000 |   0.5508                 |   0.001000   0.000000 |\n",
      "14:29:49 ep 112 /400 |   0.281277    0.281277    0.000000 |   0.000000    0.0000e+00 |   0.5897                 |   0.314739    0.314739    0.000000 |   0.5741                 |   0.001000   0.000000 |\n",
      "14:31:58 ep 113 /400 |   0.282439    0.282439    0.000000 |   0.000000    0.0000e+00 |   0.5887                 |   0.312947    0.312947    0.000000 |   0.5068                 |   0.001000   0.000000 |\n",
      "14:34:07 ep 114 /400 |   0.279724    0.279724    0.000000 |   0.000000    0.0000e+00 |   0.5937                 |   0.312503    0.312503    0.000000 |   0.5253                 |   0.001000   0.000000 |\n",
      "14:36:16 ep 115 /400 |   0.277590    0.277590    0.000000 |   0.000000    0.0000e+00 |   0.5931                 |   0.313150    0.313150    0.000000 |   0.5155                 |   0.001000   0.000000 |\n",
      "14:38:24 ep 116 /400 |   0.278795    0.278795    0.000000 |   0.000000    0.0000e+00 |   0.5951                 |   0.314088    0.314088    0.000000 |   0.5142                 |   0.001000   0.000000 |\n",
      "14:40:33 ep 117 /400 |   0.279622    0.279622    0.000000 |   0.000000    0.0000e+00 |   0.5906                 |   0.313023    0.313023    0.000000 |   0.5399                 |   0.001000   0.000000 |\n",
      "14:42:42 ep 118 /400 |   0.280079    0.280079    0.000000 |   0.000000    0.0000e+00 |   0.5892                 |   0.315906    0.315906    0.000000 |   0.5385                 |   0.001000   0.000000 |\n",
      "14:44:51 ep 119 /400 |   0.280841    0.280841    0.000000 |   0.000000    0.0000e+00 |   0.5956                 |   0.315613    0.315613    0.000000 |   0.5771                 |   0.001000   0.000000 |\n",
      "14:46:59 ep 120 /400 |   0.280397    0.280397    0.000000 |   0.000000    0.0000e+00 |   0.5925                 |   0.315958    0.315958    0.000000 |   0.5046                 |   0.001000   0.000000 |\n",
      "14:49:08 ep 121 /400 |   0.279663    0.279663    0.000000 |   0.000000    0.0000e+00 |   0.5909                 |   0.312503    0.312503    0.000000 |   0.5492                 |   0.001000   0.000000 |\n",
      "14:51:18 ep 122 /400 |   0.277080    0.277080    0.000000 |   0.000000    0.0000e+00 |   0.5984                 |   0.313938    0.313938    0.000000 |   0.5409                 |   0.001000   0.000000 |\n",
      "14:53:30 ep 123 /400 |   0.277836    0.277836    0.000000 |   0.000000    0.0000e+00 |   0.5986                 |   0.313526    0.313526    0.000000 |   0.5674                 |   0.001000   0.000000 |\n",
      "14:55:38 ep 124 /400 |   0.277623    0.277623    0.000000 |   0.000000    0.0000e+00 |   0.5979                 |   0.313844    0.313844    0.000000 |   0.5413                 |   0.001000   0.000000 |\n",
      "14:57:47 ep 125 /400 |   0.277548    0.277548    0.000000 |   0.000000    0.0000e+00 |   0.5880                 |   0.311082    0.311082    0.000000 |   0.5321                 |   0.001000   0.000000 |\n",
      "14:59:56 ep 126 /400 |   0.277838    0.277838    0.000000 |   0.000000    0.0000e+00 |   0.5995                 |   0.314158    0.314158    0.000000 |   0.5155                 |   0.001000   0.000000 |\n",
      "15:02:05 ep 127 /400 |   0.277572    0.277572    0.000000 |   0.000000    0.0000e+00 |   0.5966                 |   0.312468    0.312468    0.000000 |   0.5594                 |   0.001000   0.000000 |\n",
      "15:04:13 ep 128 /400 |   0.277002    0.277002    0.000000 |   0.000000    0.0000e+00 |   0.5932                 |   0.313970    0.313970    0.000000 |   0.5704                 |   0.001000   0.000000 |\n",
      "15:06:22 ep 129 /400 |   0.277762    0.277762    0.000000 |   0.000000    0.0000e+00 |   0.5993                 |   0.314194    0.314194    0.000000 |   0.5677                 |   0.001000   0.000000 |\n",
      "15:08:28 ep 130 /400 |   0.278353    0.278353    0.000000 |   0.000000    0.0000e+00 |   0.5922                 |   0.317352    0.317352    0.000000 |   0.5153                 |   0.001000   0.000000 |\n",
      "15:10:36 ep 131 /400 |   0.277893    0.277893    0.000000 |   0.000000    0.0000e+00 |   0.5984                 |   0.313184    0.313184    0.000000 |   0.5685                 |   0.001000   0.000000 |\n",
      "15:12:41 ep 132 /400 |   0.276182    0.276182    0.000000 |   0.000000    0.0000e+00 |   0.6005                 |   0.312150    0.312150    0.000000 |   0.5713                 |   0.001000   0.000000 |\n",
      "15:14:50 ep 133 /400 |   0.278035    0.278035    0.000000 |   0.000000    0.0000e+00 |   0.5940                 |   0.312520    0.312520    0.000000 |   0.5362                 |   0.001000   0.000000 |\n",
      "15:16:53 ep 134 /400 |   0.276679    0.276679    0.000000 |   0.000000    0.0000e+00 |   0.6004                 |   0.313473    0.313473    0.000000 |   0.5803                 |   0.001000   0.000000 |\n",
      "15:18:57 ep 135 /400 |   0.276906    0.276906    0.000000 |   0.000000    0.0000e+00 |   0.5939                 |   0.310794    0.310794    0.000000 |   0.5187                 |   0.001000   0.000000 |\n",
      "15:21:03 ep 136 /400 |   0.275567    0.275567    0.000000 |   0.000000    0.0000e+00 |   0.5991                 |   0.312322    0.312322    0.000000 |   0.5537                 |   0.001000   0.000000 |\n",
      "15:23:05 ep 137 /400 |   0.274871    0.274871    0.000000 |   0.000000    0.0000e+00 |   0.5996                 |   0.311524    0.311524    0.000000 |   0.5240                 |   0.001000   0.000000 |\n",
      "15:25:08 ep 138 /400 |   0.276617    0.276617    0.000000 |   0.000000    0.0000e+00 |   0.5993                 |   0.315707    0.315707    0.000000 |   0.5819                 |   0.001000   0.000000 |\n",
      "15:27:10 ep 139 /400 |   0.277081    0.277081    0.000000 |   0.000000    0.0000e+00 |   0.5964                 |   0.313475    0.313475    0.000000 |   0.5267                 |   0.001000   0.000000 |\n",
      "15:29:13 ep 140 /400 |   0.274848    0.274848    0.000000 |   0.000000    0.0000e+00 |   0.6046                 |   0.312705    0.312705    0.000000 |   0.5080                 |   0.001000   0.000000 |\n",
      "15:31:23 ep 141 /400 |   0.273597    0.273597    0.000000 |   0.000000    0.0000e+00 |   0.6037                 |   0.311574    0.311574    0.000000 |   0.5528                 |   0.001000   0.000000 |\n",
      "15:33:33 ep 142 /400 |   0.274928    0.274928    0.000000 |   0.000000    0.0000e+00 |   0.6016                 |   0.310791    0.310791    0.000000 |   0.5011                 |   0.001000   0.000000 |\n",
      "15:35:40 ep 143 /400 |   0.275953    0.275953    0.000000 |   0.000000    0.0000e+00 |   0.5969                 |   0.312509    0.312509    0.000000 |   0.5571                 |   0.001000   0.000000 |\n",
      "15:37:54 ep 144 /400 |   0.275594    0.275594    0.000000 |   0.000000    0.0000e+00 |   0.6028                 |   0.311566    0.311566    0.000000 |   0.5370                 |   0.001000   0.000000 |\n",
      "15:39:57 ep 145 /400 |   0.274160    0.274160    0.000000 |   0.000000    0.0000e+00 |   0.6019                 |   0.314105    0.314105    0.000000 |   0.5329                 |   0.001000   0.000000 |\n",
      "15:42:00 ep 146 /400 |   0.273403    0.273403    0.000000 |   0.000000    0.0000e+00 |   0.6037                 |   0.312938    0.312938    0.000000 |   0.5502                 |   0.001000   0.000000 |\n",
      "15:44:05 ep 147 /400 |   0.275425    0.275425    0.000000 |   0.000000    0.0000e+00 |   0.5978                 |   0.311906    0.311906    0.000000 |   0.5590                 |   0.001000   0.000000 |\n",
      "15:46:09 ep 148 /400 |   0.275206    0.275206    0.000000 |   0.000000    0.0000e+00 |   0.6057                 |   0.310873    0.310873    0.000000 |   0.5657                 |   0.001000   0.000000 |\n",
      "15:48:16 ep 149 /400 |   0.272967    0.272967    0.000000 |   0.000000    0.0000e+00 |   0.6059                 |   0.312971    0.312971    0.000000 |   0.5264                 |   0.001000   0.000000 |\n",
      "15:50:23 ep 150 /400 |   0.273904    0.273904    0.000000 |   0.000000    0.0000e+00 |   0.6028                 |   0.314525    0.314525    0.000000 |   0.5687                 |   0.001000   0.000000 |\n",
      "15:52:30 ep 151 /400 |   0.273922    0.273922    0.000000 |   0.000000    0.0000e+00 |   0.6039                 |   0.312257    0.312257    0.000000 |   0.5095                 |   0.001000   0.000000 |\n",
      "15:54:36 ep 152 /400 |   0.272931    0.272931    0.000000 |   0.000000    0.0000e+00 |   0.5995                 |   0.311396    0.311396    0.000000 |   0.5589                 |   0.001000   0.000000 |\n",
      "15:56:42 ep 153 /400 |   0.273904    0.273904    0.000000 |   0.000000    0.0000e+00 |   0.6021                 |   0.312636    0.312636    0.000000 |   0.5581                 |   0.001000   0.000000 |\n",
      "15:58:49 ep 154 /400 |   0.276490    0.276490    0.000000 |   0.000000    0.0000e+00 |   0.6002                 |   0.313131    0.313131    0.000000 |   0.5585                 |   0.001000   0.000000 |\n",
      "16:00:55 ep 155 /400 |   0.273119    0.273119    0.000000 |   0.000000    0.0000e+00 |   0.6069                 |   0.312234    0.312234    0.000000 |   0.5571                 |   0.001000   0.000000 |\n",
      "16:03:01 ep 156 /400 |   0.272623    0.272623    0.000000 |   0.000000    0.0000e+00 |   0.6041                 |   0.311072    0.311072    0.000000 |   0.5694                 |   0.001000   0.000000 |\n",
      "16:05:07 ep 157 /400 |   0.272103    0.272103    0.000000 |   0.000000    0.0000e+00 |   0.6071                 |   0.312381    0.312381    0.000000 |   0.5583                 |   0.001000   0.000000 |\n",
      "16:07:13 ep 158 /400 |   0.273604    0.273604    0.000000 |   0.000000    0.0000e+00 |   0.6058                 |   0.312354    0.312354    0.000000 |   0.5413                 |   0.001000   0.000000 |\n",
      "16:09:19 ep 159 /400 |   0.273905    0.273905    0.000000 |   0.000000    0.0000e+00 |   0.5994                 |   0.310356    0.310356    0.000000 |   0.5415                 |   0.001000   0.000000 |\n",
      "16:11:20 ep 160 /400 |   0.273731    0.273731    0.000000 |   0.000000    0.0000e+00 |   0.6040                 |   0.311585    0.311585    0.000000 |   0.5535                 |   0.001000   0.000000 |\n",
      "16:13:25 ep 161 /400 |   0.271831    0.271831    0.000000 |   0.000000    0.0000e+00 |   0.6107                 |   0.309549    0.309549    0.000000 |   0.5190                 |   0.001000   0.000000 |\n",
      "16:15:31 ep 162 /400 |   0.273694    0.273694    0.000000 |   0.000000    0.0000e+00 |   0.6044                 |   0.311216    0.311216    0.000000 |   0.5467                 |   0.001000   0.000000 |\n",
      "16:17:36 ep 163 /400 |   0.273606    0.273606    0.000000 |   0.000000    0.0000e+00 |   0.6086                 |   0.312213    0.312213    0.000000 |   0.5327                 |   0.001000   0.000000 |\n",
      "16:19:40 ep 164 /400 |   0.272600    0.272600    0.000000 |   0.000000    0.0000e+00 |   0.5993                 |   0.312189    0.312189    0.000000 |   0.5764                 |   0.001000   0.000000 |\n",
      "16:21:46 ep 165 /400 |   0.271723    0.271723    0.000000 |   0.000000    0.0000e+00 |   0.6074                 |   0.312176    0.312176    0.000000 |   0.5508                 |   0.001000   0.000000 |\n",
      "16:23:52 ep 166 /400 |   0.271188    0.271188    0.000000 |   0.000000    0.0000e+00 |   0.6120                 |   0.315073    0.315073    0.000000 |   0.5157                 |   0.001000   0.000000 |\n",
      "16:25:57 ep 167 /400 |   0.275321    0.275321    0.000000 |   0.000000    0.0000e+00 |   0.6108                 |   0.313964    0.313964    0.000000 |   0.5749                 |   0.001000   0.000000 |\n",
      "16:28:02 ep 168 /400 |   0.272913    0.272913    0.000000 |   0.000000    0.0000e+00 |   0.6066                 |   0.313860    0.313860    0.000000 |   0.5606                 |   0.001000   0.000000 |\n",
      "16:30:08 ep 169 /400 |   0.272086    0.272086    0.000000 |   0.000000    0.0000e+00 |   0.6103                 |   0.310980    0.310980    0.000000 |   0.5053                 |   0.001000   0.000000 |\n",
      "16:32:14 ep 170 /400 |   0.271478    0.271478    0.000000 |   0.000000    0.0000e+00 |   0.6062                 |   0.310922    0.310922    0.000000 |   0.5733                 |   0.001000   0.000000 |\n",
      "16:34:21 ep 171 /400 |   0.270788    0.270788    0.000000 |   0.000000    0.0000e+00 |   0.6140                 |   0.308662    0.308662    0.000000 |   0.5612                 |   0.001000   0.000000 |\n",
      "16:36:27 ep 172 /400 |   0.270959    0.270959    0.000000 |   0.000000    0.0000e+00 |   0.6065                 |   0.310299    0.310299    0.000000 |   0.5435                 |   0.001000   0.000000 |\n",
      "16:38:30 ep 173 /400 |   0.271189    0.271189    0.000000 |   0.000000    0.0000e+00 |   0.6124                 |   0.311369    0.311369    0.000000 |   0.5175                 |   0.001000   0.000000 |\n",
      "16:40:37 ep 174 /400 |   0.271864    0.271864    0.000000 |   0.000000    0.0000e+00 |   0.6103                 |   0.313211    0.313211    0.000000 |   0.5711                 |   0.001000   0.000000 |\n",
      "16:42:43 ep 175 /400 |   0.273365    0.273365    0.000000 |   0.000000    0.0000e+00 |   0.6109                 |   0.313328    0.313328    0.000000 |   0.5047                 |   0.001000   0.000000 |\n",
      "16:44:49 ep 176 /400 |   0.270052    0.270052    0.000000 |   0.000000    0.0000e+00 |   0.6150                 |   0.310681    0.310681    0.000000 |   0.5321                 |   0.001000   0.000000 |\n",
      "16:46:55 ep 177 /400 |   0.271096    0.271096    0.000000 |   0.000000    0.0000e+00 |   0.6100                 |   0.316130    0.316130    0.000000 |   0.5501                 |   0.001000   0.000000 |\n",
      "16:49:01 ep 178 /400 |   0.271188    0.271188    0.000000 |   0.000000    0.0000e+00 |   0.6059                 |   0.312727    0.312727    0.000000 |   0.5562                 |   0.001000   0.000000 |\n",
      "16:51:07 ep 179 /400 |   0.272825    0.272825    0.000000 |   0.000000    0.0000e+00 |   0.6111                 |   0.315720    0.315720    0.000000 |   0.5302                 |   0.001000   0.000000 |\n",
      "16:53:14 ep 180 /400 |   0.272589    0.272589    0.000000 |   0.000000    0.0000e+00 |   0.6077                 |   0.314922    0.314922    0.000000 |   0.5388                 |   0.001000   0.000000 |\n",
      "16:55:20 ep 181 /400 |   0.270834    0.270834    0.000000 |   0.000000    0.0000e+00 |   0.6070                 |   0.308909    0.308909    0.000000 |   0.5281                 |   0.001000   0.000000 |\n",
      "16:57:27 ep 182 /400 |   0.268515    0.268515    0.000000 |   0.000000    0.0000e+00 |   0.6130                 |   0.311605    0.311605    0.000000 |   0.5643                 |   0.001000   0.000000 |\n",
      "16:59:33 ep 183 /400 |   0.269351    0.269351    0.000000 |   0.000000    0.0000e+00 |   0.6130                 |   0.310550    0.310550    0.000000 |   0.5675                 |   0.001000   0.000000 |\n",
      "17:01:40 ep 184 /400 |   0.270441    0.270441    0.000000 |   0.000000    0.0000e+00 |   0.6109                 |   0.313653    0.313653    0.000000 |   0.5490                 |   0.001000   0.000000 |\n",
      "17:03:46 ep 185 /400 |   0.272313    0.272313    0.000000 |   0.000000    0.0000e+00 |   0.6069                 |   0.312622    0.312622    0.000000 |   0.5596                 |   0.001000   0.000000 |\n",
      "17:05:52 ep 186 /400 |   0.271255    0.271255    0.000000 |   0.000000    0.0000e+00 |   0.6074                 |   0.313185    0.313185    0.000000 |   0.5591                 |   0.001000   0.000000 |\n",
      "17:07:58 ep 187 /400 |   0.270561    0.270561    0.000000 |   0.000000    0.0000e+00 |   0.6149                 |   0.311777    0.311777    0.000000 |   0.5907                 |   0.001000   0.000000 |\n",
      "17:10:04 ep 188 /400 |   0.269087    0.269087    0.000000 |   0.000000    0.0000e+00 |   0.6105                 |   0.309830    0.309830    0.000000 |   0.5224                 |   0.001000   0.000000 |\n",
      "17:12:11 ep 189 /400 |   0.270161    0.270161    0.000000 |   0.000000    0.0000e+00 |   0.6121                 |   0.311695    0.311695    0.000000 |   0.5525                 |   0.001000   0.000000 |\n",
      "17:14:18 ep 190 /400 |   0.272229    0.272229    0.000000 |   0.000000    0.0000e+00 |   0.5944                 |   0.311927    0.311927    0.000000 |   0.5850                 |   0.001000   0.000000 |\n",
      "17:16:26 ep 191 /400 |   0.271409    0.271409    0.000000 |   0.000000    0.0000e+00 |   0.6121                 |   0.311823    0.311823    0.000000 |   0.5429                 |   0.001000   0.000000 |\n",
      "17:18:32 ep 192 /400 |   0.269111    0.269111    0.000000 |   0.000000    0.0000e+00 |   0.6113                 |   0.312540    0.312540    0.000000 |   0.5752                 |   0.001000   0.000000 |\n",
      "17:20:37 ep 193 /400 |   0.270200    0.270200    0.000000 |   0.000000    0.0000e+00 |   0.6138                 |   0.310785    0.310785    0.000000 |   0.5777                 |   0.001000   0.000000 |\n",
      "17:22:43 ep 194 /400 |   0.269954    0.269954    0.000000 |   0.000000    0.0000e+00 |   0.6101                 |   0.311109    0.311109    0.000000 |   0.5552                 |   0.001000   0.000000 |\n",
      "17:24:51 ep 195 /400 |   0.270759    0.270759    0.000000 |   0.000000    0.0000e+00 |   0.6125                 |   0.309530    0.309530    0.000000 |   0.5536                 |   0.001000   0.000000 |\n",
      "17:26:58 ep 196 /400 |   0.269758    0.269758    0.000000 |   0.000000    0.0000e+00 |   0.6051                 |   0.312119    0.312119    0.000000 |   0.5464                 |   0.001000   0.000000 |\n",
      "17:29:05 ep 197 /400 |   0.271054    0.271054    0.000000 |   0.000000    0.0000e+00 |   0.6154                 |   0.311474    0.311474    0.000000 |   0.5540                 |   0.001000   0.000000 |\n",
      "17:31:12 ep 198 /400 |   0.269408    0.269408    0.000000 |   0.000000    0.0000e+00 |   0.6175                 |   0.310436    0.310436    0.000000 |   0.5336                 |   0.001000   0.000000 |\n",
      "17:33:19 ep 199 /400 |   0.271321    0.271321    0.000000 |   0.000000    0.0000e+00 |   0.6090                 |   0.313259    0.313259    0.000000 |   0.5368                 |   0.001000   0.000000 |\n",
      "17:35:24 ep 200 /400 |   0.270604    0.270604    0.000000 |   0.000000    0.0000e+00 |   0.6146                 |   0.314858    0.314858    0.000000 |   0.4828                 |   0.001000   0.000000 |\n",
      "09:16:27 ep 201 /400 |   0.269779    0.269779    0.000000 |   0.000000    0.0000e+00 |   0.6084                 |   0.311735    0.311735    0.000000 |   0.5894                 |   0.001000   0.000000 |\n",
      "09:18:29 ep 202 /400 |   0.269525    0.269525    0.000000 |   0.000000    0.0000e+00 |   0.6125                 |   0.310845    0.310845    0.000000 |   0.5279                 |   0.001000   0.000000 |\n",
      "09:20:31 ep 203 /400 |   0.269851    0.269851    0.000000 |   0.000000    0.0000e+00 |   0.6137                 |   0.313927    0.313927    0.000000 |   0.5434                 |   0.001000   0.000000 |\n",
      "09:22:33 ep 204 /400 |   0.268955    0.268955    0.000000 |   0.000000    0.0000e+00 |   0.6177                 |   0.310633    0.310633    0.000000 |   0.5435                 |   0.001000   0.000000 |\n",
      "09:24:36 ep 205 /400 |   0.268332    0.268332    0.000000 |   0.000000    0.0000e+00 |   0.6136                 |   0.311730    0.311730    0.000000 |   0.5478                 |   0.001000   0.000000 |\n",
      "09:26:39 ep 206 /400 |   0.269412    0.269412    0.000000 |   0.000000    0.0000e+00 |   0.6129                 |   0.310636    0.310636    0.000000 |   0.4602                 |   0.001000   0.000000 |\n",
      "09:28:41 ep 207 /400 |   0.269033    0.269033    0.000000 |   0.000000    0.0000e+00 |   0.6102                 |   0.312460    0.312460    0.000000 |   0.5634                 |   0.001000   0.000000 |\n",
      "09:30:44 ep 208 /400 |   0.268403    0.268403    0.000000 |   0.000000    0.0000e+00 |   0.6153                 |   0.310341    0.310341    0.000000 |   0.5354                 |   0.001000   0.000000 |\n",
      "09:32:46 ep 209 /400 |   0.268261    0.268261    0.000000 |   0.000000    0.0000e+00 |   0.6168                 |   0.314956    0.314956    0.000000 |   0.5171                 |   0.001000   0.000000 |\n",
      "09:34:50 ep 210 /400 |   0.268830    0.268830    0.000000 |   0.000000    0.0000e+00 |   0.6176                 |   0.310107    0.310107    0.000000 |   0.5446                 |   0.001000   0.000000 |\n",
      "09:36:53 ep 211 /400 |   0.267728    0.267728    0.000000 |   0.000000    0.0000e+00 |   0.6206                 |   0.309624    0.309624    0.000000 |   0.5049                 |   0.001000   0.000000 |\n",
      "09:38:56 ep 212 /400 |   0.267139    0.267139    0.000000 |   0.000000    0.0000e+00 |   0.6156                 |   0.311719    0.311719    0.000000 |   0.5602                 |   0.001000   0.000000 |\n",
      "09:40:59 ep 213 /400 |   0.267907    0.267907    0.000000 |   0.000000    0.0000e+00 |   0.6169                 |   0.311481    0.311481    0.000000 |   0.5424                 |   0.001000   0.000000 |\n",
      "09:43:02 ep 214 /400 |   0.266991    0.266991    0.000000 |   0.000000    0.0000e+00 |   0.6038                 |   0.311925    0.311925    0.000000 |   0.5648                 |   0.001000   0.000000 |\n",
      "09:45:06 ep 215 /400 |   0.271151    0.271151    0.000000 |   0.000000    0.0000e+00 |   0.6163                 |   0.312288    0.312288    0.000000 |   0.5626                 |   0.001000   0.000000 |\n",
      "09:47:09 ep 216 /400 |   0.269070    0.269070    0.000000 |   0.000000    0.0000e+00 |   0.6216                 |   0.312079    0.312079    0.000000 |   0.5128                 |   0.001000   0.000000 |\n",
      "09:49:13 ep 217 /400 |   0.267117    0.267117    0.000000 |   0.000000    0.0000e+00 |   0.6156                 |   0.310989    0.310989    0.000000 |   0.5591                 |   0.001000   0.000000 |\n",
      "09:51:17 ep 218 /400 |   0.266595    0.266595    0.000000 |   0.000000    0.0000e+00 |   0.6202                 |   0.313497    0.313497    0.000000 |   0.5410                 |   0.001000   0.000000 |\n",
      "09:53:20 ep 219 /400 |   0.268623    0.268623    0.000000 |   0.000000    0.0000e+00 |   0.6151                 |   0.310039    0.310039    0.000000 |   0.5741                 |   0.001000   0.000000 |\n",
      "09:55:24 ep 220 /400 |   0.268484    0.268484    0.000000 |   0.000000    0.0000e+00 |   0.6167                 |   0.314290    0.314290    0.000000 |   0.5301                 |   0.001000   0.000000 |\n",
      "09:57:29 ep 221 /400 |   0.269237    0.269237    0.000000 |   0.000000    0.0000e+00 |   0.6159                 |   0.310338    0.310338    0.000000 |   0.5830                 |   0.001000   0.000000 |\n",
      "09:59:33 ep 222 /400 |   0.266289    0.266289    0.000000 |   0.000000    0.0000e+00 |   0.6196                 |   0.310593    0.310593    0.000000 |   0.5447                 |   0.001000   0.000000 |\n",
      "10:01:38 ep 223 /400 |   0.260135    0.260135    0.000000 |   0.000000    0.0000e+00 |   0.6356                 |   0.304314    0.304314    0.000000 |   0.5445                 |   0.000500   0.000000 |\n",
      "10:03:43 ep 224 /400 |   0.257051    0.257051    0.000000 |   0.000000    0.0000e+00 |   0.6406                 |   0.304134    0.304134    0.000000 |   0.5336                 |   0.000500   0.000000 |\n",
      "10:05:48 ep 225 /400 |   0.256149    0.256149    0.000000 |   0.000000    0.0000e+00 |   0.6459                 |   0.304544    0.304544    0.000000 |   0.5490                 |   0.000500   0.000000 |\n",
      "10:07:52 ep 226 /400 |   0.255941    0.255941    0.000000 |   0.000000    0.0000e+00 |   0.6445                 |   0.305080    0.305080    0.000000 |   0.5385                 |   0.000500   0.000000 |\n",
      "10:09:56 ep 227 /400 |   0.256279    0.256279    0.000000 |   0.000000    0.0000e+00 |   0.6427                 |   0.305636    0.305636    0.000000 |   0.5471                 |   0.000500   0.000000 |\n",
      "10:12:01 ep 228 /400 |   0.256783    0.256783    0.000000 |   0.000000    0.0000e+00 |   0.6419                 |   0.305877    0.305877    0.000000 |   0.5328                 |   0.000500   0.000000 |\n",
      "10:14:06 ep 229 /400 |   0.256731    0.256731    0.000000 |   0.000000    0.0000e+00 |   0.6412                 |   0.305841    0.305841    0.000000 |   0.5506                 |   0.000500   0.000000 |\n",
      "10:16:09 ep 230 /400 |   0.256224    0.256224    0.000000 |   0.000000    0.0000e+00 |   0.6402                 |   0.307116    0.307116    0.000000 |   0.5538                 |   0.000500   0.000000 |\n",
      "10:18:14 ep 231 /400 |   0.255911    0.255911    0.000000 |   0.000000    0.0000e+00 |   0.6446                 |   0.306583    0.306583    0.000000 |   0.5403                 |   0.000500   0.000000 |\n",
      "10:20:17 ep 232 /400 |   0.255889    0.255889    0.000000 |   0.000000    0.0000e+00 |   0.6452                 |   0.306626    0.306626    0.000000 |   0.5349                 |   0.000500   0.000000 |\n",
      "10:22:21 ep 233 /400 |   0.255459    0.255459    0.000000 |   0.000000    0.0000e+00 |   0.6441                 |   0.306428    0.306428    0.000000 |   0.5205                 |   0.000500   0.000000 |\n",
      "10:24:24 ep 234 /400 |   0.255365    0.255365    0.000000 |   0.000000    0.0000e+00 |   0.6463                 |   0.306518    0.306518    0.000000 |   0.5510                 |   0.000500   0.000000 |\n",
      "10:26:28 ep 235 /400 |   0.255122    0.255122    0.000000 |   0.000000    0.0000e+00 |   0.6458                 |   0.306714    0.306714    0.000000 |   0.5281                 |   0.000500   0.000000 |\n",
      "10:28:31 ep 236 /400 |   0.254895    0.254895    0.000000 |   0.000000    0.0000e+00 |   0.6454                 |   0.306516    0.306516    0.000000 |   0.5284                 |   0.000500   0.000000 |\n",
      "10:30:35 ep 237 /400 |   0.254894    0.254894    0.000000 |   0.000000    0.0000e+00 |   0.6445                 |   0.306464    0.306464    0.000000 |   0.5518                 |   0.000500   0.000000 |\n",
      "10:32:38 ep 238 /400 |   0.255087    0.255087    0.000000 |   0.000000    0.0000e+00 |   0.6457                 |   0.307702    0.307702    0.000000 |   0.5401                 |   0.000500   0.000000 |\n",
      "10:34:44 ep 239 /400 |   0.255188    0.255188    0.000000 |   0.000000    0.0000e+00 |   0.6444                 |   0.307636    0.307636    0.000000 |   0.5225                 |   0.000500   0.000000 |\n",
      "10:36:48 ep 240 /400 |   0.254819    0.254819    0.000000 |   0.000000    0.0000e+00 |   0.6460                 |   0.306448    0.306448    0.000000 |   0.5387                 |   0.000500   0.000000 |\n",
      "10:38:53 ep 241 /400 |   0.254565    0.254565    0.000000 |   0.000000    0.0000e+00 |   0.6466                 |   0.307006    0.307006    0.000000 |   0.5419                 |   0.000500   0.000000 |\n",
      "10:40:58 ep 242 /400 |   0.254902    0.254902    0.000000 |   0.000000    0.0000e+00 |   0.6444                 |   0.307922    0.307922    0.000000 |   0.5164                 |   0.000500   0.000000 |\n",
      "10:43:02 ep 243 /400 |   0.254773    0.254773    0.000000 |   0.000000    0.0000e+00 |   0.6465                 |   0.307601    0.307601    0.000000 |   0.5453                 |   0.000500   0.000000 |\n",
      "10:45:07 ep 244 /400 |   0.254890    0.254890    0.000000 |   0.000000    0.0000e+00 |   0.6459                 |   0.307869    0.307869    0.000000 |   0.5332                 |   0.000500   0.000000 |\n",
      "10:47:13 ep 245 /400 |   0.254737    0.254737    0.000000 |   0.000000    0.0000e+00 |   0.6460                 |   0.308426    0.308426    0.000000 |   0.5278                 |   0.000500   0.000000 |\n",
      "10:49:18 ep 246 /400 |   0.254887    0.254887    0.000000 |   0.000000    0.0000e+00 |   0.6476                 |   0.308965    0.308965    0.000000 |   0.5409                 |   0.000500   0.000000 |\n",
      "10:51:24 ep 247 /400 |   0.254800    0.254800    0.000000 |   0.000000    0.0000e+00 |   0.6473                 |   0.309043    0.309043    0.000000 |   0.5180                 |   0.000500   0.000000 |\n",
      "10:53:30 ep 248 /400 |   0.254503    0.254503    0.000000 |   0.000000    0.0000e+00 |   0.6479                 |   0.308364    0.308364    0.000000 |   0.5485                 |   0.000500   0.000000 |\n",
      "10:55:36 ep 249 /400 |   0.254163    0.254163    0.000000 |   0.000000    0.0000e+00 |   0.6490                 |   0.309620    0.309620    0.000000 |   0.5375                 |   0.000500   0.000000 |\n",
      "10:57:42 ep 250 /400 |   0.254060    0.254060    0.000000 |   0.000000    0.0000e+00 |   0.6477                 |   0.308742    0.308742    0.000000 |   0.5283                 |   0.000500   0.000000 |\n",
      "10:59:46 ep 251 /400 |   0.253986    0.253986    0.000000 |   0.000000    0.0000e+00 |   0.6475                 |   0.308356    0.308356    0.000000 |   0.5515                 |   0.000500   0.000000 |\n",
      "11:01:52 ep 252 /400 |   0.254216    0.254216    0.000000 |   0.000000    0.0000e+00 |   0.6490                 |   0.308101    0.308101    0.000000 |   0.5191                 |   0.000500   0.000000 |\n",
      "11:03:58 ep 253 /400 |   0.254111    0.254111    0.000000 |   0.000000    0.0000e+00 |   0.6503                 |   0.308798    0.308798    0.000000 |   0.5252                 |   0.000500   0.000000 |\n",
      "11:06:04 ep 254 /400 |   0.253810    0.253810    0.000000 |   0.000000    0.0000e+00 |   0.6513                 |   0.307812    0.307812    0.000000 |   0.5516                 |   0.000500   0.000000 |\n",
      "11:08:10 ep 255 /400 |   0.253626    0.253626    0.000000 |   0.000000    0.0000e+00 |   0.6479                 |   0.309462    0.309462    0.000000 |   0.5400                 |   0.000500   0.000000 |\n",
      "11:10:17 ep 256 /400 |   0.253877    0.253877    0.000000 |   0.000000    0.0000e+00 |   0.6499                 |   0.309728    0.309728    0.000000 |   0.5258                 |   0.000500   0.000000 |\n",
      "11:12:21 ep 257 /400 |   0.253594    0.253594    0.000000 |   0.000000    0.0000e+00 |   0.6498                 |   0.307854    0.307854    0.000000 |   0.5635                 |   0.000500   0.000000 |\n",
      "11:14:27 ep 258 /400 |   0.253388    0.253388    0.000000 |   0.000000    0.0000e+00 |   0.6528                 |   0.308958    0.308958    0.000000 |   0.5437                 |   0.000500   0.000000 |\n",
      "11:16:31 ep 259 /400 |   0.253521    0.253521    0.000000 |   0.000000    0.0000e+00 |   0.6483                 |   0.308463    0.308463    0.000000 |   0.5611                 |   0.000500   0.000000 |\n",
      "11:18:35 ep 260 /400 |   0.253548    0.253548    0.000000 |   0.000000    0.0000e+00 |   0.6514                 |   0.309039    0.309039    0.000000 |   0.5232                 |   0.000500   0.000000 |\n",
      "11:20:39 ep 261 /400 |   0.253451    0.253451    0.000000 |   0.000000    0.0000e+00 |   0.6519                 |   0.309119    0.309119    0.000000 |   0.5312                 |   0.000500   0.000000 |\n",
      "11:22:43 ep 262 /400 |   0.253518    0.253518    0.000000 |   0.000000    0.0000e+00 |   0.6502                 |   0.308704    0.308704    0.000000 |   0.5528                 |   0.000500   0.000000 |\n",
      "11:24:48 ep 263 /400 |   0.253158    0.253158    0.000000 |   0.000000    0.0000e+00 |   0.6501                 |   0.308277    0.308277    0.000000 |   0.5608                 |   0.000500   0.000000 |\n",
      "11:26:52 ep 264 /400 |   0.253004    0.253004    0.000000 |   0.000000    0.0000e+00 |   0.6530                 |   0.308750    0.308750    0.000000 |   0.5418                 |   0.000500   0.000000 |\n",
      "11:28:56 ep 265 /400 |   0.253187    0.253187    0.000000 |   0.000000    0.0000e+00 |   0.6494                 |   0.308774    0.308774    0.000000 |   0.5589                 |   0.000500   0.000000 |\n",
      "11:31:00 ep 266 /400 |   0.253231    0.253231    0.000000 |   0.000000    0.0000e+00 |   0.6520                 |   0.309171    0.309171    0.000000 |   0.5526                 |   0.000500   0.000000 |\n",
      "11:33:04 ep 267 /400 |   0.253146    0.253146    0.000000 |   0.000000    0.0000e+00 |   0.6515                 |   0.308860    0.308860    0.000000 |   0.5526                 |   0.000500   0.000000 |\n",
      "11:35:07 ep 268 /400 |   0.253054    0.253054    0.000000 |   0.000000    0.0000e+00 |   0.6554                 |   0.309517    0.309517    0.000000 |   0.5421                 |   0.000500   0.000000 |\n",
      "11:37:13 ep 269 /400 |   0.253108    0.253108    0.000000 |   0.000000    0.0000e+00 |   0.6512                 |   0.309172    0.309172    0.000000 |   0.5446                 |   0.000500   0.000000 |\n",
      "11:39:18 ep 270 /400 |   0.253259    0.253259    0.000000 |   0.000000    0.0000e+00 |   0.6523                 |   0.308503    0.308503    0.000000 |   0.5402                 |   0.000500   0.000000 |\n",
      "11:41:23 ep 271 /400 |   0.252952    0.252952    0.000000 |   0.000000    0.0000e+00 |   0.6529                 |   0.308836    0.308836    0.000000 |   0.5491                 |   0.000500   0.000000 |\n",
      "11:43:28 ep 272 /400 |   0.253039    0.253039    0.000000 |   0.000000    0.0000e+00 |   0.6530                 |   0.309505    0.309505    0.000000 |   0.5477                 |   0.000500   0.000000 |\n",
      "11:45:34 ep 273 /400 |   0.253296    0.253296    0.000000 |   0.000000    0.0000e+00 |   0.6522                 |   0.309061    0.309061    0.000000 |   0.5612                 |   0.000500   0.000000 |\n",
      "11:47:39 ep 274 /400 |   0.253466    0.253466    0.000000 |   0.000000    0.0000e+00 |   0.6541                 |   0.309672    0.309672    0.000000 |   0.5566                 |   0.000500   0.000000 |\n",
      "11:49:44 ep 275 /400 |   0.253446    0.253446    0.000000 |   0.000000    0.0000e+00 |   0.6518                 |   0.310108    0.310108    0.000000 |   0.5413                 |   0.000500   0.000000 |\n",
      "11:51:49 ep 276 /400 |   0.252746    0.252746    0.000000 |   0.000000    0.0000e+00 |   0.6520                 |   0.309884    0.309884    0.000000 |   0.5323                 |   0.000500   0.000000 |\n",
      "11:53:54 ep 277 /400 |   0.252500    0.252500    0.000000 |   0.000000    0.0000e+00 |   0.6544                 |   0.310813    0.310813    0.000000 |   0.5206                 |   0.000500   0.000000 |\n",
      "11:55:58 ep 278 /400 |   0.252603    0.252603    0.000000 |   0.000000    0.0000e+00 |   0.6512                 |   0.309292    0.309292    0.000000 |   0.5512                 |   0.000500   0.000000 |\n",
      "11:58:03 ep 279 /400 |   0.253099    0.253099    0.000000 |   0.000000    0.0000e+00 |   0.6527                 |   0.310060    0.310060    0.000000 |   0.5398                 |   0.000500   0.000000 |\n",
      "12:00:08 ep 280 /400 |   0.252718    0.252718    0.000000 |   0.000000    0.0000e+00 |   0.6534                 |   0.311366    0.311366    0.000000 |   0.5076                 |   0.000500   0.000000 |\n",
      "12:02:14 ep 281 /400 |   0.252470    0.252470    0.000000 |   0.000000    0.0000e+00 |   0.6565                 |   0.310687    0.310687    0.000000 |   0.4992                 |   0.000500   0.000000 |\n",
      "12:04:19 ep 282 /400 |   0.252343    0.252343    0.000000 |   0.000000    0.0000e+00 |   0.6516                 |   0.309898    0.309898    0.000000 |   0.5338                 |   0.000500   0.000000 |\n",
      "12:06:25 ep 283 /400 |   0.252641    0.252641    0.000000 |   0.000000    0.0000e+00 |   0.6548                 |   0.310909    0.310909    0.000000 |   0.5293                 |   0.000500   0.000000 |\n",
      "12:08:30 ep 284 /400 |   0.250933    0.250933    0.000000 |   0.000000    0.0000e+00 |   0.6606                 |   0.307059    0.307059    0.000000 |   0.5528                 |   0.000250   0.000000 |\n",
      "12:10:36 ep 285 /400 |   0.249130    0.249130    0.000000 |   0.000000    0.0000e+00 |   0.6632                 |   0.307266    0.307266    0.000000 |   0.5484                 |   0.000250   0.000000 |\n",
      "12:12:41 ep 286 /400 |   0.248526    0.248526    0.000000 |   0.000000    0.0000e+00 |   0.6645                 |   0.307500    0.307500    0.000000 |   0.5485                 |   0.000250   0.000000 |\n",
      "12:14:47 ep 287 /400 |   0.248219    0.248219    0.000000 |   0.000000    0.0000e+00 |   0.6645                 |   0.308061    0.308061    0.000000 |   0.5529                 |   0.000250   0.000000 |\n",
      "12:16:53 ep 288 /400 |   0.248085    0.248085    0.000000 |   0.000000    0.0000e+00 |   0.6651                 |   0.308305    0.308305    0.000000 |   0.5489                 |   0.000250   0.000000 |\n",
      "12:19:01 ep 289 /400 |   0.248114    0.248114    0.000000 |   0.000000    0.0000e+00 |   0.6651                 |   0.308360    0.308360    0.000000 |   0.5395                 |   0.000250   0.000000 |\n",
      "12:21:08 ep 290 /400 |   0.248227    0.248227    0.000000 |   0.000000    0.0000e+00 |   0.6645                 |   0.308297    0.308297    0.000000 |   0.5545                 |   0.000250   0.000000 |\n",
      "12:23:14 ep 291 /400 |   0.248234    0.248234    0.000000 |   0.000000    0.0000e+00 |   0.6641                 |   0.308812    0.308812    0.000000 |   0.5470                 |   0.000250   0.000000 |\n",
      "12:25:21 ep 292 /400 |   0.248093    0.248093    0.000000 |   0.000000    0.0000e+00 |   0.6652                 |   0.308481    0.308481    0.000000 |   0.5396                 |   0.000250   0.000000 |\n",
      "12:27:28 ep 293 /400 |   0.247857    0.247857    0.000000 |   0.000000    0.0000e+00 |   0.6644                 |   0.308193    0.308193    0.000000 |   0.5462                 |   0.000250   0.000000 |\n",
      "12:29:37 ep 294 /400 |   0.247793    0.247793    0.000000 |   0.000000    0.0000e+00 |   0.6651                 |   0.308418    0.308418    0.000000 |   0.5352                 |   0.000250   0.000000 |\n",
      "12:31:43 ep 295 /400 |   0.247686    0.247686    0.000000 |   0.000000    0.0000e+00 |   0.6649                 |   0.308567    0.308567    0.000000 |   0.5416                 |   0.000250   0.000000 |\n",
      "12:33:50 ep 296 /400 |   0.247628    0.247628    0.000000 |   0.000000    0.0000e+00 |   0.6650                 |   0.308223    0.308223    0.000000 |   0.5391                 |   0.000250   0.000000 |\n",
      "12:35:57 ep 297 /400 |   0.247585    0.247585    0.000000 |   0.000000    0.0000e+00 |   0.6650                 |   0.308534    0.308534    0.000000 |   0.5515                 |   0.000250   0.000000 |\n",
      "12:38:03 ep 298 /400 |   0.247499    0.247499    0.000000 |   0.000000    0.0000e+00 |   0.6665                 |   0.308922    0.308922    0.000000 |   0.5251                 |   0.000250   0.000000 |\n",
      "12:40:09 ep 299 /400 |   0.247520    0.247520    0.000000 |   0.000000    0.0000e+00 |   0.6654                 |   0.308903    0.308903    0.000000 |   0.5303                 |   0.000250   0.000000 |\n",
      "12:42:15 ep 300 /400 |   0.247469    0.247469    0.000000 |   0.000000    0.0000e+00 |   0.6655                 |   0.308750    0.308750    0.000000 |   0.5420                 |   0.000250   0.000000 |\n",
      "14:11:00 ep 301 /400 |   0.247399    0.247399    0.000000 |   0.000000    0.0000e+00 |   0.6659                 |   0.309207    0.309207    0.000000 |   0.5207                 |   0.000250   0.000000 |\n",
      "14:13:04 ep 302 /400 |   0.247319    0.247319    0.000000 |   0.000000    0.0000e+00 |   0.6658                 |   0.308628    0.308628    0.000000 |   0.5204                 |   0.000250   0.000000 |\n",
      "14:15:09 ep 303 /400 |   0.247254    0.247254    0.000000 |   0.000000    0.0000e+00 |   0.6659                 |   0.309400    0.309400    0.000000 |   0.5131                 |   0.000250   0.000000 |\n",
      "14:17:16 ep 304 /400 |   0.247243    0.247243    0.000000 |   0.000000    0.0000e+00 |   0.6662                 |   0.309104    0.309104    0.000000 |   0.5318                 |   0.000250   0.000000 |\n",
      "14:19:25 ep 305 /400 |   0.247292    0.247292    0.000000 |   0.000000    0.0000e+00 |   0.6666                 |   0.309366    0.309366    0.000000 |   0.5288                 |   0.000250   0.000000 |\n",
      "14:21:31 ep 306 /400 |   0.247220    0.247220    0.000000 |   0.000000    0.0000e+00 |   0.6662                 |   0.309327    0.309327    0.000000 |   0.5238                 |   0.000250   0.000000 |\n",
      "14:23:32 ep 307 /400 |   0.247198    0.247198    0.000000 |   0.000000    0.0000e+00 |   0.6655                 |   0.309562    0.309562    0.000000 |   0.5219                 |   0.000250   0.000000 |\n",
      "14:25:34 ep 308 /400 |   0.247095    0.247095    0.000000 |   0.000000    0.0000e+00 |   0.6668                 |   0.309696    0.309696    0.000000 |   0.5038                 |   0.000250   0.000000 |\n",
      "14:27:38 ep 309 /400 |   0.247065    0.247065    0.000000 |   0.000000    0.0000e+00 |   0.6663                 |   0.309297    0.309297    0.000000 |   0.5273                 |   0.000250   0.000000 |\n",
      "14:29:44 ep 310 /400 |   0.247099    0.247099    0.000000 |   0.000000    0.0000e+00 |   0.6672                 |   0.309625    0.309625    0.000000 |   0.5170                 |   0.000250   0.000000 |\n",
      "14:31:44 ep 311 /400 |   0.247102    0.247102    0.000000 |   0.000000    0.0000e+00 |   0.6674                 |   0.309806    0.309806    0.000000 |   0.5230                 |   0.000250   0.000000 |\n",
      "14:33:50 ep 312 /400 |   0.246962    0.246962    0.000000 |   0.000000    0.0000e+00 |   0.6679                 |   0.309900    0.309900    0.000000 |   0.5014                 |   0.000250   0.000000 |\n",
      "14:35:51 ep 313 /400 |   0.247019    0.247019    0.000000 |   0.000000    0.0000e+00 |   0.6664                 |   0.309737    0.309737    0.000000 |   0.5252                 |   0.000250   0.000000 |\n",
      "14:37:54 ep 314 /400 |   0.247075    0.247075    0.000000 |   0.000000    0.0000e+00 |   0.6678                 |   0.310162    0.310162    0.000000 |   0.5226                 |   0.000250   0.000000 |\n",
      "14:40:00 ep 315 /400 |   0.247059    0.247059    0.000000 |   0.000000    0.0000e+00 |   0.6666                 |   0.309650    0.309650    0.000000 |   0.5220                 |   0.000250   0.000000 |\n",
      "14:42:07 ep 316 /400 |   0.247095    0.247095    0.000000 |   0.000000    0.0000e+00 |   0.6668                 |   0.310168    0.310168    0.000000 |   0.5044                 |   0.000250   0.000000 |\n",
      "14:44:12 ep 317 /400 |   0.247128    0.247128    0.000000 |   0.000000    0.0000e+00 |   0.6654                 |   0.310075    0.310075    0.000000 |   0.5052                 |   0.000250   0.000000 |\n",
      "14:46:17 ep 318 /400 |   0.247226    0.247226    0.000000 |   0.000000    0.0000e+00 |   0.6662                 |   0.310285    0.310285    0.000000 |   0.5373                 |   0.000250   0.000000 |\n",
      "14:48:17 ep 319 /400 |   0.247291    0.247291    0.000000 |   0.000000    0.0000e+00 |   0.6655                 |   0.309892    0.309892    0.000000 |   0.5041                 |   0.000250   0.000000 |\n",
      "14:50:22 ep 320 /400 |   0.247189    0.247189    0.000000 |   0.000000    0.0000e+00 |   0.6665                 |   0.310188    0.310188    0.000000 |   0.5508                 |   0.000250   0.000000 |\n",
      "14:52:27 ep 321 /400 |   0.247121    0.247121    0.000000 |   0.000000    0.0000e+00 |   0.6659                 |   0.310084    0.310084    0.000000 |   0.5373                 |   0.000250   0.000000 |\n",
      "14:54:32 ep 322 /400 |   0.246985    0.246985    0.000000 |   0.000000    0.0000e+00 |   0.6681                 |   0.309761    0.309761    0.000000 |   0.5103                 |   0.000250   0.000000 |\n",
      "14:56:38 ep 323 /400 |   0.246853    0.246853    0.000000 |   0.000000    0.0000e+00 |   0.6667                 |   0.309919    0.309919    0.000000 |   0.5576                 |   0.000250   0.000000 |\n",
      "14:58:44 ep 324 /400 |   0.246744    0.246744    0.000000 |   0.000000    0.0000e+00 |   0.6685                 |   0.310152    0.310152    0.000000 |   0.5271                 |   0.000250   0.000000 |\n",
      "15:00:51 ep 325 /400 |   0.246700    0.246700    0.000000 |   0.000000    0.0000e+00 |   0.6680                 |   0.309678    0.309678    0.000000 |   0.5369                 |   0.000250   0.000000 |\n",
      "15:02:57 ep 326 /400 |   0.246625    0.246625    0.000000 |   0.000000    0.0000e+00 |   0.6688                 |   0.310341    0.310341    0.000000 |   0.5437                 |   0.000250   0.000000 |\n",
      "15:04:59 ep 327 /400 |   0.246581    0.246581    0.000000 |   0.000000    0.0000e+00 |   0.6694                 |   0.310052    0.310052    0.000000 |   0.5328                 |   0.000250   0.000000 |\n",
      "15:07:05 ep 328 /400 |   0.246519    0.246519    0.000000 |   0.000000    0.0000e+00 |   0.6690                 |   0.310183    0.310183    0.000000 |   0.5350                 |   0.000250   0.000000 |\n",
      "15:09:12 ep 329 /400 |   0.246421    0.246421    0.000000 |   0.000000    0.0000e+00 |   0.6690                 |   0.310440    0.310440    0.000000 |   0.5380                 |   0.000250   0.000000 |\n",
      "15:11:17 ep 330 /400 |   0.246483    0.246483    0.000000 |   0.000000    0.0000e+00 |   0.6691                 |   0.310028    0.310028    0.000000 |   0.5271                 |   0.000250   0.000000 |\n",
      "15:13:23 ep 331 /400 |   0.246433    0.246433    0.000000 |   0.000000    0.0000e+00 |   0.6705                 |   0.310182    0.310182    0.000000 |   0.5374                 |   0.000250   0.000000 |\n",
      "15:15:29 ep 332 /400 |   0.246371    0.246371    0.000000 |   0.000000    0.0000e+00 |   0.6695                 |   0.310226    0.310226    0.000000 |   0.5253                 |   0.000250   0.000000 |\n",
      "15:17:36 ep 333 /400 |   0.246380    0.246380    0.000000 |   0.000000    0.0000e+00 |   0.6684                 |   0.310580    0.310580    0.000000 |   0.5511                 |   0.000250   0.000000 |\n",
      "15:19:42 ep 334 /400 |   0.246286    0.246286    0.000000 |   0.000000    0.0000e+00 |   0.6696                 |   0.310201    0.310201    0.000000 |   0.5314                 |   0.000250   0.000000 |\n",
      "15:21:50 ep 335 /400 |   0.246264    0.246264    0.000000 |   0.000000    0.0000e+00 |   0.6693                 |   0.310429    0.310429    0.000000 |   0.5528                 |   0.000250   0.000000 |\n",
      "15:23:54 ep 336 /400 |   0.246248    0.246248    0.000000 |   0.000000    0.0000e+00 |   0.6697                 |   0.310201    0.310201    0.000000 |   0.5236                 |   0.000250   0.000000 |\n",
      "15:25:59 ep 337 /400 |   0.246172    0.246172    0.000000 |   0.000000    0.0000e+00 |   0.6703                 |   0.310147    0.310147    0.000000 |   0.5289                 |   0.000250   0.000000 |\n",
      "15:28:04 ep 338 /400 |   0.246188    0.246188    0.000000 |   0.000000    0.0000e+00 |   0.6691                 |   0.310385    0.310385    0.000000 |   0.5521                 |   0.000250   0.000000 |\n",
      "15:30:10 ep 339 /400 |   0.246133    0.246133    0.000000 |   0.000000    0.0000e+00 |   0.6704                 |   0.310798    0.310798    0.000000 |   0.5436                 |   0.000250   0.000000 |\n",
      "15:32:15 ep 340 /400 |   0.246084    0.246084    0.000000 |   0.000000    0.0000e+00 |   0.6701                 |   0.310308    0.310308    0.000000 |   0.5435                 |   0.000250   0.000000 |\n",
      "15:34:21 ep 341 /400 |   0.246022    0.246022    0.000000 |   0.000000    0.0000e+00 |   0.6712                 |   0.310393    0.310393    0.000000 |   0.5448                 |   0.000250   0.000000 |\n",
      "15:36:26 ep 342 /400 |   0.246001    0.246001    0.000000 |   0.000000    0.0000e+00 |   0.6715                 |   0.310464    0.310464    0.000000 |   0.5446                 |   0.000250   0.000000 |\n",
      "15:38:31 ep 343 /400 |   0.245942    0.245942    0.000000 |   0.000000    0.0000e+00 |   0.6708                 |   0.310833    0.310833    0.000000 |   0.5364                 |   0.000250   0.000000 |\n",
      "15:40:36 ep 344 /400 |   0.246185    0.246185    0.000000 |   0.000000    0.0000e+00 |   0.6697                 |   0.310807    0.310807    0.000000 |   0.5374                 |   0.000250   0.000000 |\n",
      "15:42:37 ep 345 /400 |   0.245885    0.245885    0.000000 |   0.000000    0.0000e+00 |   0.6725                 |   0.309937    0.309937    0.000000 |   0.5285                 |   0.000125   0.000000 |\n",
      "15:44:43 ep 346 /400 |   0.245034    0.245034    0.000000 |   0.000000    0.0000e+00 |   0.6744                 |   0.309922    0.309922    0.000000 |   0.5368                 |   0.000125   0.000000 |\n",
      "15:46:48 ep 347 /400 |   0.244646    0.244646    0.000000 |   0.000000    0.0000e+00 |   0.6749                 |   0.310073    0.310073    0.000000 |   0.5332                 |   0.000125   0.000000 |\n",
      "15:48:54 ep 348 /400 |   0.244446    0.244446    0.000000 |   0.000000    0.0000e+00 |   0.6752                 |   0.310162    0.310162    0.000000 |   0.5309                 |   0.000125   0.000000 |\n",
      "15:51:01 ep 349 /400 |   0.244324    0.244324    0.000000 |   0.000000    0.0000e+00 |   0.6753                 |   0.310303    0.310303    0.000000 |   0.5284                 |   0.000125   0.000000 |\n",
      "15:53:09 ep 350 /400 |   0.244267    0.244267    0.000000 |   0.000000    0.0000e+00 |   0.6756                 |   0.310352    0.310352    0.000000 |   0.5320                 |   0.000125   0.000000 |\n",
      "15:55:18 ep 351 /400 |   0.244257    0.244257    0.000000 |   0.000000    0.0000e+00 |   0.6750                 |   0.310538    0.310538    0.000000 |   0.5186                 |   0.000125   0.000000 |\n",
      "15:57:24 ep 352 /400 |   0.244248    0.244248    0.000000 |   0.000000    0.0000e+00 |   0.6755                 |   0.310324    0.310324    0.000000 |   0.5310                 |   0.000125   0.000000 |\n",
      "15:59:31 ep 353 /400 |   0.244190    0.244190    0.000000 |   0.000000    0.0000e+00 |   0.6752                 |   0.310555    0.310555    0.000000 |   0.5309                 |   0.000125   0.000000 |\n",
      "16:01:38 ep 354 /400 |   0.244158    0.244158    0.000000 |   0.000000    0.0000e+00 |   0.6750                 |   0.310612    0.310612    0.000000 |   0.5213                 |   0.000125   0.000000 |\n",
      "16:03:44 ep 355 /400 |   0.244130    0.244130    0.000000 |   0.000000    0.0000e+00 |   0.6761                 |   0.310651    0.310651    0.000000 |   0.5251                 |   0.000125   0.000000 |\n",
      "16:05:49 ep 356 /400 |   0.244078    0.244078    0.000000 |   0.000000    0.0000e+00 |   0.6755                 |   0.310820    0.310820    0.000000 |   0.5273                 |   0.000125   0.000000 |\n",
      "16:07:55 ep 357 /400 |   0.244038    0.244038    0.000000 |   0.000000    0.0000e+00 |   0.6761                 |   0.310702    0.310702    0.000000 |   0.5259                 |   0.000125   0.000000 |\n",
      "16:10:04 ep 358 /400 |   0.243986    0.243986    0.000000 |   0.000000    0.0000e+00 |   0.6761                 |   0.310772    0.310772    0.000000 |   0.5211                 |   0.000125   0.000000 |\n",
      "16:12:05 ep 359 /400 |   0.243959    0.243959    0.000000 |   0.000000    0.0000e+00 |   0.6761                 |   0.310805    0.310805    0.000000 |   0.5321                 |   0.000125   0.000000 |\n",
      "16:14:06 ep 360 /400 |   0.243905    0.243905    0.000000 |   0.000000    0.0000e+00 |   0.6758                 |   0.310897    0.310897    0.000000 |   0.5149                 |   0.000125   0.000000 |\n",
      "16:16:13 ep 361 /400 |   0.243867    0.243867    0.000000 |   0.000000    0.0000e+00 |   0.6762                 |   0.310866    0.310866    0.000000 |   0.5201                 |   0.000125   0.000000 |\n",
      "16:18:19 ep 362 /400 |   0.243829    0.243829    0.000000 |   0.000000    0.0000e+00 |   0.6766                 |   0.311052    0.311052    0.000000 |   0.5301                 |   0.000125   0.000000 |\n",
      "16:20:26 ep 363 /400 |   0.243804    0.243804    0.000000 |   0.000000    0.0000e+00 |   0.6763                 |   0.310896    0.310896    0.000000 |   0.5150                 |   0.000125   0.000000 |\n",
      "16:22:34 ep 364 /400 |   0.243838    0.243838    0.000000 |   0.000000    0.0000e+00 |   0.6760                 |   0.311219    0.311219    0.000000 |   0.5281                 |   0.000125   0.000000 |\n",
      "16:24:40 ep 365 /400 |   0.243813    0.243813    0.000000 |   0.000000    0.0000e+00 |   0.6763                 |   0.311110    0.311110    0.000000 |   0.5151                 |   0.000125   0.000000 |\n",
      "16:26:47 ep 366 /400 |   0.243747    0.243747    0.000000 |   0.000000    0.0000e+00 |   0.6760                 |   0.311184    0.311184    0.000000 |   0.5234                 |   0.000125   0.000000 |\n",
      "16:28:52 ep 367 /400 |   0.243710    0.243710    0.000000 |   0.000000    0.0000e+00 |   0.6772                 |   0.311232    0.311232    0.000000 |   0.5141                 |   0.000125   0.000000 |\n",
      "16:30:53 ep 368 /400 |   0.243678    0.243678    0.000000 |   0.000000    0.0000e+00 |   0.6761                 |   0.311356    0.311356    0.000000 |   0.5206                 |   0.000125   0.000000 |\n",
      "16:32:58 ep 369 /400 |   0.243665    0.243665    0.000000 |   0.000000    0.0000e+00 |   0.6766                 |   0.311300    0.311300    0.000000 |   0.5264                 |   0.000125   0.000000 |\n",
      "16:35:04 ep 370 /400 |   0.243642    0.243642    0.000000 |   0.000000    0.0000e+00 |   0.6767                 |   0.311386    0.311386    0.000000 |   0.5062                 |   0.000125   0.000000 |\n",
      "16:37:11 ep 371 /400 |   0.243613    0.243613    0.000000 |   0.000000    0.0000e+00 |   0.6770                 |   0.311370    0.311370    0.000000 |   0.5318                 |   0.000125   0.000000 |\n",
      "16:39:17 ep 372 /400 |   0.243594    0.243594    0.000000 |   0.000000    0.0000e+00 |   0.6766                 |   0.311394    0.311394    0.000000 |   0.5254                 |   0.000125   0.000000 |\n",
      "16:41:23 ep 373 /400 |   0.243574    0.243574    0.000000 |   0.000000    0.0000e+00 |   0.6768                 |   0.311650    0.311650    0.000000 |   0.5064                 |   0.000125   0.000000 |\n",
      "16:43:29 ep 374 /400 |   0.243545    0.243545    0.000000 |   0.000000    0.0000e+00 |   0.6758                 |   0.311559    0.311559    0.000000 |   0.5239                 |   0.000125   0.000000 |\n",
      "16:45:34 ep 375 /400 |   0.243514    0.243514    0.000000 |   0.000000    0.0000e+00 |   0.6768                 |   0.311649    0.311649    0.000000 |   0.5116                 |   0.000125   0.000000 |\n",
      "16:47:41 ep 376 /400 |   0.243520    0.243520    0.000000 |   0.000000    0.0000e+00 |   0.6769                 |   0.311570    0.311570    0.000000 |   0.5233                 |   0.000125   0.000000 |\n",
      "16:49:48 ep 377 /400 |   0.243512    0.243512    0.000000 |   0.000000    0.0000e+00 |   0.6768                 |   0.311677    0.311677    0.000000 |   0.5232                 |   0.000125   0.000000 |\n",
      "16:51:53 ep 378 /400 |   0.243488    0.243488    0.000000 |   0.000000    0.0000e+00 |   0.6773                 |   0.311770    0.311770    0.000000 |   0.5191                 |   0.000125   0.000000 |\n",
      "16:53:59 ep 379 /400 |   0.243440    0.243440    0.000000 |   0.000000    0.0000e+00 |   0.6774                 |   0.311819    0.311819    0.000000 |   0.5148                 |   0.000125   0.000000 |\n",
      "16:56:06 ep 380 /400 |   0.243433    0.243433    0.000000 |   0.000000    0.0000e+00 |   0.6772                 |   0.311873    0.311873    0.000000 |   0.5251                 |   0.000125   0.000000 |\n",
      "16:58:09 ep 381 /400 |   0.243416    0.243416    0.000000 |   0.000000    0.0000e+00 |   0.6775                 |   0.311920    0.311920    0.000000 |   0.5050                 |   0.000125   0.000000 |\n",
      "17:00:17 ep 382 /400 |   0.243409    0.243409    0.000000 |   0.000000    0.0000e+00 |   0.6766                 |   0.311887    0.311887    0.000000 |   0.5077                 |   0.000125   0.000000 |\n",
      "17:02:27 ep 383 /400 |   0.243427    0.243427    0.000000 |   0.000000    0.0000e+00 |   0.6771                 |   0.311990    0.311990    0.000000 |   0.5239                 |   0.000125   0.000000 |\n",
      "17:04:38 ep 384 /400 |   0.243402    0.243402    0.000000 |   0.000000    0.0000e+00 |   0.6771                 |   0.312069    0.312069    0.000000 |   0.5009                 |   0.000125   0.000000 |\n",
      "17:06:47 ep 385 /400 |   0.243342    0.243342    0.000000 |   0.000000    0.0000e+00 |   0.6775                 |   0.312207    0.312207    0.000000 |   0.5192                 |   0.000125   0.000000 |\n",
      "17:09:02 ep 386 /400 |   0.243296    0.243296    0.000000 |   0.000000    0.0000e+00 |   0.6775                 |   0.312084    0.312084    0.000000 |   0.5024                 |   0.000125   0.000000 |\n",
      "17:11:11 ep 387 /400 |   0.243312    0.243312    0.000000 |   0.000000    0.0000e+00 |   0.6774                 |   0.312240    0.312240    0.000000 |   0.5153                 |   0.000125   0.000000 |\n",
      "17:13:18 ep 388 /400 |   0.243310    0.243310    0.000000 |   0.000000    0.0000e+00 |   0.6778                 |   0.312199    0.312199    0.000000 |   0.5196                 |   0.000125   0.000000 |\n",
      "17:15:22 ep 389 /400 |   0.243316    0.243316    0.000000 |   0.000000    0.0000e+00 |   0.6774                 |   0.312405    0.312405    0.000000 |   0.4973                 |   0.000125   0.000000 |\n",
      "17:17:26 ep 390 /400 |   0.243276    0.243276    0.000000 |   0.000000    0.0000e+00 |   0.6776                 |   0.312401    0.312401    0.000000 |   0.5061                 |   0.000125   0.000000 |\n",
      "17:19:35 ep 391 /400 |   0.243232    0.243232    0.000000 |   0.000000    0.0000e+00 |   0.6781                 |   0.312213    0.312213    0.000000 |   0.4979                 |   0.000125   0.000000 |\n",
      "17:21:42 ep 392 /400 |   0.243231    0.243231    0.000000 |   0.000000    0.0000e+00 |   0.6771                 |   0.312462    0.312462    0.000000 |   0.5093                 |   0.000125   0.000000 |\n",
      "17:23:54 ep 393 /400 |   0.243218    0.243218    0.000000 |   0.000000    0.0000e+00 |   0.6777                 |   0.312596    0.312596    0.000000 |   0.5028                 |   0.000125   0.000000 |\n",
      "17:26:02 ep 394 /400 |   0.243210    0.243210    0.000000 |   0.000000    0.0000e+00 |   0.6773                 |   0.312561    0.312561    0.000000 |   0.5046                 |   0.000125   0.000000 |\n",
      "17:28:14 ep 395 /400 |   0.243218    0.243218    0.000000 |   0.000000    0.0000e+00 |   0.6778                 |   0.312559    0.312559    0.000000 |   0.5013                 |   0.000125   0.000000 |\n",
      "17:30:30 ep 396 /400 |   0.243171    0.243171    0.000000 |   0.000000    0.0000e+00 |   0.6785                 |   0.312674    0.312674    0.000000 |   0.5104                 |   0.000125   0.000000 |\n",
      "17:32:45 ep 397 /400 |   0.243149    0.243149    0.000000 |   0.000000    0.0000e+00 |   0.6776                 |   0.312753    0.312753    0.000000 |   0.5039                 |   0.000125   0.000000 |\n",
      "17:35:00 ep 398 /400 |   0.243138    0.243138    0.000000 |   0.000000    0.0000e+00 |   0.6780                 |   0.312760    0.312760    0.000000 |   0.5095                 |   0.000125   0.000000 |\n",
      "17:37:10 ep 399 /400 |   0.243112    0.243112    0.000000 |   0.000000    0.0000e+00 |   0.6778                 |   0.312725    0.312725    0.000000 |   0.4960                 |   0.000125   0.000000 |\n",
      "17:39:17 ep 400 /400 |   0.243144    0.243144    0.000000 |   0.000000    0.0000e+00 |   0.6784                 |   0.312803    0.312803    0.000000 |   0.5145                 |   0.000125   0.000000 |\n"
     ]
    }
   ],
   "source": [
    "for epoch in range(epochs):\n",
    "    display_epoch_metrics(model, epoch)"
   ]
  },
  {
   "cell_type": "code",
   "execution_count": null,
   "id": "868e46e6-f18d-410b-a376-7f26433447af",
   "metadata": {},
   "outputs": [],
   "source": [
    "if WANDB_ACTIVE:\n",
    "    wandb_run.finish()\n",
    "    WANDB_ACTIVE = False"
   ]
  },
  {
   "cell_type": "markdown",
   "id": "9d7f6ece-b0e4-4e64-bc35-928a3c3f961d",
   "metadata": {},
   "source": [
    "# Plot losses, weights, biases and gradients"
   ]
  },
  {
   "cell_type": "code",
   "execution_count": null,
   "id": "abc9b289-e042-4243-a2b4-c76751589ac3",
   "metadata": {},
   "outputs": [],
   "source": [
    "# if 0:\n",
    "#     model_attributes = model.__dict__\n",
    "#     model.training_history['train'].keys()\n",
    "#     for key, value in model.training_history['train'].items():\n",
    "#         if isinstance(value, List) or key in [\"test_accuracy\", \"test_f1\"]:\n",
    "#             print(f\"{key:25s} {type(value)}  {len(value):7d}  {value[-5:]}\")\n",
    "#     print()\n",
    "#     for key, value in model.training_history['val'].items():\n",
    "#         if isinstance(value, List) or key in [\"test_accuracy\", \"test_f1\"]:\n",
    "#             print(f\"{key:25s} {type(value)}  {len(value):7d}  {value[-5:]}\")        "
   ]
  },
  {
   "cell_type": "code",
   "execution_count": null,
   "id": "fbb441d8-ba3d-4540-abcc-e40aaaa3dd2e",
   "metadata": {},
   "outputs": [],
   "source": [
    "# tmp = np.array(model.training_history['train']['temp_grads'])\n",
    "# for st in range(0,len(tmp), 1000):\n",
    "#     end = st + 1000\n",
    "#     print(f\" {st:5d} - {end:5d}  min: {tmp[st:end].min():9e}   max: {tmp[st:end].max():9e}    avg: {tmp[st:end].mean():9e}   std: {tmp[st:end].std():9e}\")"
   ]
  },
  {
   "cell_type": "code",
   "execution_count": 110,
   "id": "2bc8de25-ddde-4d2c-b97f-1da1d375c991",
   "metadata": {
    "execution": {
     "iopub.execute_input": "2024-06-12T15:42:57.098234Z",
     "iopub.status.busy": "2024-06-12T15:42:57.097752Z",
     "iopub.status.idle": "2024-06-12T15:42:57.983613Z",
     "shell.execute_reply": "2024-06-12T15:42:57.982939Z",
     "shell.execute_reply.started": "2024-06-12T15:42:57.098193Z"
    },
    "scrolled": true
   },
   "outputs": [
    {
     "data": {
      "image/png": "[encoded data removed]",
      "text/plain": [
       "<Figure size 2000x400 with 5 Axes>"
      ]
     },
     "metadata": {},
     "output_type": "display_data"
    }
   ],
   "source": [
    "plot_train_history(model, start= 0, n_bins = 25)"
   ]
  },
  {
   "cell_type": "code",
   "execution_count": null,
   "id": "533b465a-6b4a-4696-a014-793b8f7df079",
   "metadata": {
    "scrolled": true
   },
   "outputs": [],
   "source": [
    "plot_train_history(model, start= 0, n_bins = 25)"
   ]
  },
  {
   "cell_type": "code",
   "execution_count": null,
   "id": "85774d06-9f14-4b02-b0c6-b8c60ba92ffa",
   "metadata": {
    "scrolled": true
   },
   "outputs": [],
   "source": [
    "plot_train_history(model, start= 0, n_bins = 25)"
   ]
  },
  {
   "cell_type": "code",
   "execution_count": null,
   "id": "f6b91b33-81bd-47e8-aa8e-bda1bd4d4583",
   "metadata": {
    "scrolled": true
   },
   "outputs": [],
   "source": [
    "plot_train_history(model, start= 100, n_bins = 25)"
   ]
  },
  {
   "cell_type": "code",
   "execution_count": null,
   "id": "5d4eae70-3b13-4893-b485-f8ad87b4cd68",
   "metadata": {
    "scrolled": true
   },
   "outputs": [],
   "source": [
    "plot_train_history(model, start= 10, n_bins = 25)"
   ]
  },
  {
   "cell_type": "code",
   "execution_count": null,
   "id": "7f50fdb6-0457-4cd3-b958-65bb44e4216d",
   "metadata": {},
   "outputs": [],
   "source": [
    "plot_model_parms(model, epochs= epochs, n_bins = 15)"
   ]
  },
  {
   "cell_type": "code",
   "execution_count": 111,
   "id": "f992e4e5-ea68-4617-8c16-01dfc22f6b94",
   "metadata": {
    "execution": {
     "iopub.execute_input": "2024-06-12T15:43:06.294491Z",
     "iopub.status.busy": "2024-06-12T15:43:06.294202Z",
     "iopub.status.idle": "2024-06-12T15:43:06.598770Z",
     "shell.execute_reply": "2024-06-12T15:43:06.598170Z",
     "shell.execute_reply.started": "2024-06-12T15:43:06.294468Z"
    },
    "scrolled": true
   },
   "outputs": [
    {
     "data": {
      "image/png": "[encoded data removed]",
      "text/plain": [
       "<Figure size 400x400 with 1 Axes>"
      ]
     },
     "metadata": {},
     "output_type": "display_data"
    }
   ],
   "source": [
    "from snnl.utils import plot_regression_metrics\n",
    "# plot_train_metrics(model, n_bins = 25)\n",
    "plot_regression_metrics(model, n_bins = 25)"
   ]
  },
  {
   "cell_type": "markdown",
   "id": "21726628-2b16-477a-bfe7-0a0ac53130eb",
   "metadata": {},
   "source": [
    "# Save model results and model"
   ]
  },
  {
   "cell_type": "code",
   "execution_count": null,
   "id": "a4bb9a8d-9d90-40e8-90d1-9e970497568b",
   "metadata": {},
   "outputs": [],
   "source": [
    "# import datetime.timezone\n",
    "# datetime.timetz()\n",
    "compounds_per_batch = cellpainting_args['compounds_per_batch']\n",
    "title=\"autoencoder\"\n",
    "epochs_num = epochs\n",
    "timestamp = datetime.now().strftime('%Y%m%d')\n",
    "filename = f\"AE_{args.model.lower()}_{timestamp}_{title}_{epochs_num:03d}_cpb_{compounds_per_batch}_factor_{int(snnl_factor):d}\"\n",
    "print(f\"saved to {filename}\")"
   ]
  },
  {
   "cell_type": "code",
   "execution_count": null,
   "id": "8364b7ba-8d33-41ac-b30f-0c39759a9772",
   "metadata": {},
   "outputs": [],
   "source": [
    "# save_model(model, filename)\n",
    "# export_results(model=model, filename=filename)\n",
    "# save_checkpoint(epochs, model, filename, update_latest=False, update_best=False)"
   ]
  },
  {
   "cell_type": "code",
   "execution_count": null,
   "id": "5738408d-29ca-46b4-8c79-6f184958acf0",
   "metadata": {},
   "outputs": [],
   "source": [
    "model.name\n",
    "args.runmode\n",
    "ex_timestamp\n",
    "ex_title\n",
    "epoch\n",
    "args.compounds_per_batch\n",
    "model.snnl_factor"
   ]
  },
  {
   "cell_type": "code",
   "execution_count": null,
   "id": "393af8c8-cf02-455f-a810-b68a7637c07e",
   "metadata": {},
   "outputs": [],
   "source": [
    "filename = f\"{model.name}_{args.runmode}_{args.exp_date}_{args.exp_title}_ep_{epoch+1:03d}\"\n",
    "print(filename)"
   ]
  },
  {
   "cell_type": "code",
   "execution_count": null,
   "id": "38e9d094-6432-4eb7-9ce7-f07b01a01a87",
   "metadata": {},
   "outputs": [],
   "source": [
    "filename = f\"{model.name}_{args.model.lower()}_{ex_timestamp}_{ex_title}_{epoch+1:03d}_cpb_{args.compounds_per_batch}_copy\"\n",
    "print(filename)\n",
    "    # export_results(model=model, filename=filename)\n",
    "save_checkpoint_2(epochs, model, filename, update_latest=False, update_best=False)  "
   ]
  },
  {
   "cell_type": "markdown",
   "id": "75fb4184-7640-4cc5-bf19-249ebb9fc072",
   "metadata": {
    "execution": {
     "iopub.execute_input": "2024-04-01T00:58:52.961399Z",
     "iopub.status.busy": "2024-04-01T00:58:52.960920Z"
    }
   },
   "source": [
    "# Load model"
   ]
  },
  {
   "cell_type": "code",
   "execution_count": 79,
   "id": "c914b200-c783-4477-9ca7-3370a23ec595",
   "metadata": {
    "execution": {
     "iopub.execute_input": "2024-06-12T07:12:26.811594Z",
     "iopub.status.busy": "2024-06-12T07:12:26.811163Z",
     "iopub.status.idle": "2024-06-12T07:12:26.844320Z",
     "shell.execute_reply": "2024-06-12T07:12:26.843804Z",
     "shell.execute_reply.started": "2024-06-12T07:12:26.811554Z"
    }
   },
   "outputs": [],
   "source": [
    "# ex_epochs = 200\n",
    "# ex_mode = 'snnl'\n",
    "ex_runmode = 'baseline'\n",
    "ex_date = \"20240605\"\n",
    "ex_title=\"snglOpt-50Ltnt\"\n",
    "# ex_title=\"secondTry\"\n",
    "# ex_title=\"dropout04\"\n",
    "# title=\"autoencoder\"\n",
    "# title='Xentropy'"
   ]
  },
  {
   "cell_type": "code",
   "execution_count": 80,
   "id": "28725c74-24ac-4b2c-b2fe-4314aaf6a77a",
   "metadata": {
    "execution": {
     "iopub.execute_input": "2024-06-12T07:12:27.365606Z",
     "iopub.status.busy": "2024-06-12T07:12:27.365187Z",
     "iopub.status.idle": "2024-06-12T07:12:27.409172Z",
     "shell.execute_reply": "2024-06-12T07:12:27.408462Z",
     "shell.execute_reply.started": "2024-06-12T07:12:27.365567Z"
    }
   },
   "outputs": [
    {
     "name": "stdout",
     "output_type": "stream",
     "text": [
      "AE_baseline_20240605_snglOpt-50Ltnt_300.pt\n",
      "AE_baseline_20240605_snglOpt-50Ltnt_ep_*.pt\n"
     ]
    }
   ],
   "source": [
    "# filename = f\"{model.name}_{ex_runmode}_{ex_date}_{ex_title}_{epochs:03d}_cpb_{ex_cpb}_factor_{ex_factor:d}.pt\"\n",
    "# file_pattern = f\"{model.name}_{ex_runmode}_{ex_date}_{ex_title}_*_cpb_{ex_cpb}_factor_{ex_factor:d}.pt\"\n",
    "filename = f\"{model.name}_{ex_runmode}_{ex_date}_{ex_title}_{epochs:03d}.pt\"\n",
    "print(filename)\n",
    "file_pattern = f\"{model.name}_{ex_runmode}_{ex_date}_{ex_title}_ep_*.pt\"\n",
    "print(file_pattern)"
   ]
  },
  {
   "cell_type": "code",
   "execution_count": 81,
   "id": "4d96660a-46a2-4d46-bcb8-a3fb2d9a74d9",
   "metadata": {
    "execution": {
     "iopub.execute_input": "2024-06-12T07:12:28.721285Z",
     "iopub.status.busy": "2024-06-12T07:12:28.720854Z",
     "iopub.status.idle": "2024-06-12T07:12:28.764606Z",
     "shell.execute_reply": "2024-06-12T07:12:28.763919Z",
     "shell.execute_reply.started": "2024-06-12T07:12:28.721242Z"
    }
   },
   "outputs": [
    {
     "data": {
      "text/plain": [
       "['AE_baseline_20240605_snglOpt-50Ltnt_ep_025.pt',\n",
       " 'AE_baseline_20240605_snglOpt-50Ltnt_ep_050.pt',\n",
       " 'AE_baseline_20240605_snglOpt-50Ltnt_ep_075.pt',\n",
       " 'AE_baseline_20240605_snglOpt-50Ltnt_ep_100.pt',\n",
       " 'AE_baseline_20240605_snglOpt-50Ltnt_ep_125.pt',\n",
       " 'AE_baseline_20240605_snglOpt-50Ltnt_ep_150.pt',\n",
       " 'AE_baseline_20240605_snglOpt-50Ltnt_ep_175.pt',\n",
       " 'AE_baseline_20240605_snglOpt-50Ltnt_ep_200.pt']"
      ]
     },
     "execution_count": 81,
     "metadata": {},
     "output_type": "execute_result"
    },
    {
     "data": {
      "text/plain": [
       "[25, 50, 75, 100, 125, 150, 175, 200]"
      ]
     },
     "execution_count": 81,
     "metadata": {},
     "output_type": "execute_result"
    }
   ],
   "source": [
    "import glob\n",
    "filelist = glob.glob(file_pattern,root_dir = './ckpts')\n",
    "filelist = sorted(filelist)\n",
    "filelist\n",
    "epochlist =sorted([int(x[-6:-3]) for x in filelist])\n",
    "epochlist\n",
    " "
   ]
  },
  {
   "cell_type": "code",
   "execution_count": 82,
   "id": "9e492e3f-f194-4759-b8a6-8a949743d022",
   "metadata": {
    "execution": {
     "iopub.execute_input": "2024-06-12T07:12:29.709121Z",
     "iopub.status.busy": "2024-06-12T07:12:29.708697Z",
     "iopub.status.idle": "2024-06-12T07:12:29.744933Z",
     "shell.execute_reply": "2024-06-12T07:12:29.744439Z",
     "shell.execute_reply.started": "2024-06-12T07:12:29.709081Z"
    }
   },
   "outputs": [],
   "source": [
    "# runmode = 'snnl'\n",
    "# ex_date = '20240516'\n",
    "# ex_title = args.exp_title\n",
    "ex_epoch = 200"
   ]
  },
  {
   "cell_type": "code",
   "execution_count": 83,
   "id": "a71ca7cd-8258-49ca-b2d6-16268bd34dc7",
   "metadata": {
    "execution": {
     "iopub.execute_input": "2024-06-12T07:12:33.798415Z",
     "iopub.status.busy": "2024-06-12T07:12:33.797989Z",
     "iopub.status.idle": "2024-06-12T07:12:33.835425Z",
     "shell.execute_reply": "2024-06-12T07:12:33.834662Z",
     "shell.execute_reply.started": "2024-06-12T07:12:33.798374Z"
    }
   },
   "outputs": [
    {
     "name": "stdout",
     "output_type": "stream",
     "text": [
      "AE_baseline_20240605_snglOpt-50Ltnt_ep_200.pt\n",
      "\n",
      " *** Checkpoint EXISTS *** \n",
      "\n"
     ]
    }
   ],
   "source": [
    "filename = f\"{model.name}_{args.runmode}_{ex_date}_{ex_title}_ep_{ex_epoch:03d}\"   \n",
    "if filename[-3:] != '.pt':\n",
    "    filename+='.pt'\n",
    "print(filename)\n",
    "\n",
    "if os.path.exists(os.path.join('ckpts', filename)):\n",
    "    print(f\"\\n *** Checkpoint EXISTS *** \\n\")\n",
    "else:\n",
    "    print(f\"\\n *** Checkpoint DOESNT EXIST *** \\n\")"
   ]
  },
  {
   "cell_type": "code",
   "execution_count": 84,
   "id": "2d6a57df-2a6c-4ca5-8bc0-0672d1c03901",
   "metadata": {
    "execution": {
     "iopub.execute_input": "2024-06-12T07:12:34.834981Z",
     "iopub.status.busy": "2024-06-12T07:12:34.834752Z",
     "iopub.status.idle": "2024-06-12T07:12:34.944900Z",
     "shell.execute_reply": "2024-06-12T07:12:34.944229Z",
     "shell.execute_reply.started": "2024-06-12T07:12:34.834962Z"
    }
   },
   "outputs": [
    {
     "name": "stdout",
     "output_type": "stream",
     "text": [
      "--> AE_baseline_20240605_snglOpt-50Ltnt_ep_200.pt\n",
      "epoch                                   , <class 'int'>                                                 -- model attr set\n",
      "state_dict                              , <class 'collections.OrderedDict'>                             -- model attr set\n",
      "optimizer                               , <class 'torch.optim.adam.Adam'>                               -- model attr set\n",
      "temp_optimizer                          , <class 'NoneType'>                                            -- model attr set\n",
      "optimizer_state_dict                    , <class 'dict'>                                                -- model attr set\n",
      "temp_optimizer_state_dict               , <class 'NoneType'>                                            -- model attr set\n",
      "scheduler                               , <class 'torch.optim.lr_scheduler.ReduceLROnPlateau'>          -- model attr set\n",
      "temp_scheduler                          , <class 'NoneType'>                                            -- model attr set\n",
      "scheduler_state_dict                    , <class 'dict'>                                                -- model attr set\n",
      "temp_scheduler_state_dict               , <class 'NoneType'>                                            -- model attr set\n",
      "params                                  , <class 'dict'>                                                -- model attr set\n",
      "\n",
      "name                                    , <class 'str'>                                                 -- model attr set\n",
      "layer_types                             , <class 'list'>                                                -- model attr set\n",
      "layer_activations                       , <class 'list'>                                                -- model attr set\n",
      "use_scheduler                           , <class 'bool'>                                                -- model attr set\n",
      "use_temp_scheduler                      , <class 'bool'>                                                -- model attr set\n",
      "monitor_grads_layer                     , <class 'NoneType'>                                            -- model attr set\n",
      "learning_rate                           , <class 'float'>                                               -- model attr set\n",
      "adam_weight_decay                       , <class 'int'>                                                 -- model attr set\n",
      "training                                , <class 'bool'>                                                -- model attr set\n",
      "mode                                    , <class 'str'>                                                 -- model attr set\n",
      "device                                  , <class 'torch.device'>                                        -- model attr set\n",
      "train_loss                              , <class 'list'>                                                -- model attr set\n",
      "use_snnl                                , <class 'bool'>                                                -- model attr set\n",
      "loss_factor                             , <class 'float'>                                               -- model attr set\n",
      "snnl_factor                             , <class 'float'>                                               -- model attr set\n",
      "code_units                              , <class 'int'>                                                 -- model attr set\n",
      "embedding_layer                         , <class 'int'>                                                 -- model attr set\n",
      "stability_epsilon                       , <class 'float'>                                               -- model attr set\n",
      "verbose                                 , <class 'bool'>                                                -- model attr set\n",
      "sample_size                             , <class 'int'>                                                 -- model attr set\n",
      "temperatureLR                           , <class 'float'>                                               -- model attr set\n",
      "training_history                        , <class 'dict'>                                                -- model attr set\n",
      "unsupervised                            , <class 'bool'>                                                -- model attr set\n",
      "snnl_criterion                          , <class 'NoneType'>                                            -- model attr set\n",
      "temperature                             , <class 'int'>                                                 -- model attr set\n",
      "batch_count                             , <class 'int'>                                                 -- model attr set\n",
      "name                                    , <class 'str'>                                                 -- model attr set\n",
      "layer_types                             , <class 'list'>                                                -- model attr set\n",
      "layer_activations                       , <class 'list'>                                                -- model attr set\n",
      "use_scheduler                           , <class 'bool'>                                                -- model attr set\n",
      "use_temp_scheduler                      , <class 'bool'>                                                -- model attr set\n",
      "monitor_grads_layer                     , <class 'NoneType'>                                            -- model attr set\n",
      "learning_rate                           , <class 'float'>                                               -- model attr set\n",
      "adam_weight_decay                       , <class 'int'>                                                 -- model attr set\n",
      "training                                , <class 'bool'>                                                -- model attr set\n",
      "mode                                    , <class 'str'>                                                 -- model attr set\n",
      "device                                  , <class 'torch.device'>                                        -- model attr set\n",
      "train_loss                              , <class 'list'>                                                -- model attr set\n",
      "use_snnl                                , <class 'bool'>                                                -- model attr set\n",
      "loss_factor                             , <class 'float'>                                               -- model attr set\n",
      "snnl_factor                             , <class 'float'>                                               -- model attr set\n",
      "code_units                              , <class 'int'>                                                 -- model attr set\n",
      "embedding_layer                         , <class 'int'>                                                 -- model attr set\n",
      "stability_epsilon                       , <class 'float'>                                               -- model attr set\n",
      "verbose                                 , <class 'bool'>                                                -- model attr set\n",
      "sample_size                             , <class 'int'>                                                 -- model attr set\n",
      "temperatureLR                           , <class 'float'>                                               -- model attr set\n",
      "training_history                        , <class 'dict'>                                                -- model attr set\n",
      "unsupervised                            , <class 'bool'>                                                -- model attr set\n",
      "snnl_criterion                          , <class 'NoneType'>                                            -- model attr set\n",
      "temperature                             , <class 'int'>                                                 -- model attr set\n",
      "batch_count                             , <class 'int'>                                                 -- model attr set\n",
      "\n",
      " ==> Loaded from checkpoint AE_baseline_20240605_snglOpt-50Ltnt_ep_200.pt successfully. last epoch on checkpoint: 200\n",
      "\n",
      " last epoch : 200\n"
     ]
    }
   ],
   "source": [
    "mdl , last_epoch = load_checkpoint_v2(model, filename)  \n",
    "print(f\" last epoch : {last_epoch}\")"
   ]
  },
  {
   "cell_type": "code",
   "execution_count": 87,
   "id": "72568b6c-66b5-458e-8cdb-11fd70a6d161",
   "metadata": {
    "execution": {
     "iopub.execute_input": "2024-06-12T07:13:14.654574Z",
     "iopub.status.busy": "2024-06-12T07:13:14.654131Z",
     "iopub.status.idle": "2024-06-12T07:13:14.691236Z",
     "shell.execute_reply": "2024-06-12T07:13:14.690692Z",
     "shell.execute_reply.started": "2024-06-12T07:13:14.654532Z"
    }
   },
   "outputs": [
    {
     "name": "stdout",
     "output_type": "stream",
     "text": [
      "cuda:1\n",
      "cuda:0\n",
      "cuda:1\n"
     ]
    }
   ],
   "source": [
    "print(current_device)\n",
    "print(model.device)\n",
    "model.device = current_device\n",
    "print(model.device)"
   ]
  },
  {
   "cell_type": "code",
   "execution_count": 88,
   "id": "00c841d7-6d85-438c-a7da-e8026fb4f644",
   "metadata": {
    "execution": {
     "iopub.execute_input": "2024-06-12T07:13:29.929118Z",
     "iopub.status.busy": "2024-06-12T07:13:29.928696Z",
     "iopub.status.idle": "2024-06-12T07:13:29.970587Z",
     "shell.execute_reply": "2024-06-12T07:13:29.970030Z",
     "shell.execute_reply.started": "2024-06-12T07:13:29.929079Z"
    }
   },
   "outputs": [
    {
     "name": "stdout",
     "output_type": "stream",
     "text": [
      "cuda:1\n"
     ]
    },
    {
     "data": {
      "text/plain": [
       "Autoencoder(\n",
       "  (primary_criterion): MSELoss()\n",
       "  (layers): ModuleList(\n",
       "    (0): Linear(in_features=1471, out_features=1024, bias=True)\n",
       "    (1): ReLU()\n",
       "    (2): Linear(in_features=1024, out_features=128, bias=True)\n",
       "    (3): ReLU()\n",
       "    (4): Linear(in_features=128, out_features=50, bias=True)\n",
       "    (5): Linear(in_features=50, out_features=128, bias=True)\n",
       "    (6): ReLU()\n",
       "    (7): Linear(in_features=128, out_features=1024, bias=True)\n",
       "    (8): ReLU()\n",
       "    (9): Linear(in_features=1024, out_features=1471, bias=True)\n",
       "  )\n",
       ")"
      ]
     },
     "execution_count": 88,
     "metadata": {},
     "output_type": "execute_result"
    },
    {
     "name": "stdout",
     "output_type": "stream",
     "text": [
      "cuda:1\n"
     ]
    }
   ],
   "source": [
    "print(current_device)\n",
    "model.train()\n",
    "model = model.cuda(device=current_device)\n",
    "print(model.device)"
   ]
  },
  {
   "cell_type": "code",
   "execution_count": 89,
   "id": "25b03053-b090-4116-898a-acbfb8add271",
   "metadata": {
    "execution": {
     "iopub.execute_input": "2024-06-12T07:13:32.442713Z",
     "iopub.status.busy": "2024-06-12T07:13:32.442266Z",
     "iopub.status.idle": "2024-06-12T07:13:32.478663Z",
     "shell.execute_reply": "2024-06-12T07:13:32.478099Z",
     "shell.execute_reply.started": "2024-06-12T07:13:32.442671Z"
    }
   },
   "outputs": [
    {
     "name": "stdout",
     "output_type": "stream",
     "text": [
      " last epoch  200\n"
     ]
    }
   ],
   "source": [
    "print(f\" last epoch  {last_epoch}\")"
   ]
  },
  {
   "cell_type": "code",
   "execution_count": 90,
   "id": "eb1241f9-4ad1-425f-8526-43c5cd89859c",
   "metadata": {
    "execution": {
     "iopub.execute_input": "2024-06-12T07:13:33.559192Z",
     "iopub.status.busy": "2024-06-12T07:13:33.558761Z",
     "iopub.status.idle": "2024-06-12T07:13:33.595006Z",
     "shell.execute_reply": "2024-06-12T07:13:33.594323Z",
     "shell.execute_reply.started": "2024-06-12T07:13:33.559152Z"
    }
   },
   "outputs": [
    {
     "name": "stdout",
     "output_type": "stream",
     "text": [
      " run epochs 201 to 300 \n"
     ]
    }
   ],
   "source": [
    "# starting_epoch = 20\n",
    "starting_epoch = last_epoch\n",
    "epochs = last_epoch + 100\n",
    "# starting_epoch = epoch + 1\n",
    "print(f\" run epochs {starting_epoch+1} to {epochs} \")"
   ]
  },
  {
   "cell_type": "code",
   "execution_count": 91,
   "id": "361a2ba1-0bac-4ff8-aa08-950fe7fe2302",
   "metadata": {
    "execution": {
     "iopub.execute_input": "2024-06-12T07:13:35.420453Z",
     "iopub.status.busy": "2024-06-12T07:13:35.419955Z",
     "iopub.status.idle": "2024-06-12T07:13:35.457924Z",
     "shell.execute_reply": "2024-06-12T07:13:35.457376Z",
     "shell.execute_reply.started": "2024-06-12T07:13:35.420413Z"
    }
   },
   "outputs": [
    {
     "name": "stdout",
     "output_type": "stream",
     "text": [
      "\n",
      " model device         : cuda:1\n",
      " model temperature    : 0\n",
      "\n",
      " loss_factor          : 1.0\n",
      " monitor_grads_layer  : None\n",
      " Learning rate        : 0.001\n",
      " snnl_factor          : 0.0\n",
      "\n",
      " trn_time             : 17:35:13  \n",
      " trn_ttl_loss         : 0.270604 \n",
      " trn_prim_loss        : 0.270604 \n",
      " trn_snn_loss         : 0.000000 \n",
      " trn_R2_score         : 0.614610 \n",
      " trn_lr               : 0.001000 \n",
      "\n",
      " val_time             : 17:35:24  \n",
      " val_ttl_loss         : 0.314858 \n",
      " val_prim_loss        : 0.314858 \n",
      " val_snn_loss         : 0.000000 \n",
      " val_R2_score         : 0.482821 \n",
      "\n"
     ]
    }
   ],
   "source": [
    "print()\n",
    "print(f\" model device         : {model.device}\")\n",
    "print(f\" model temperature    : {model.temperature}\")\n",
    "print() \n",
    "print(f\" loss_factor          : {model.loss_factor}\")\n",
    "print(f\" monitor_grads_layer  : {model.monitor_grads_layer}\")\n",
    "print(f\" Learning rate        : {model.optimizer.param_groups[0]['lr']}\") \n",
    "print(f\" snnl_factor          : {model.snnl_factor}\")\n",
    "if model.use_snnl:\n",
    "    print(f\" temperature          : {model.temperature.item()}\")\n",
    "if model.temp_optimizer is not None:\n",
    "    print(f\" Temperature LR       : {model.temp_optimizer.param_groups[0]['lr']}\") \n",
    "print()\n",
    "\n",
    "for th_key in ['trn', 'val']:\n",
    "    for k,v in model.training_history[th_key].items():\n",
    "        if isinstance(v[-1],str):\n",
    "            print(f\" {k:20s} : {v[-1]:s}  \")\n",
    "        else:\n",
    "            print(f\" {k:20s} : {v[-1]:6f} \")\n",
    "    print()\n"
   ]
  },
  {
   "cell_type": "code",
   "execution_count": null,
   "id": "6a4b320a-e40a-47b2-886f-6130c314afb8",
   "metadata": {
    "scrolled": true
   },
   "outputs": [],
   "source": [
    "model.optimizer.__dict__\n",
    "print()"
   ]
  },
  {
   "cell_type": "code",
   "execution_count": null,
   "id": "903b5c7a-4271-4659-857d-29ee395daedc",
   "metadata": {},
   "outputs": [],
   "source": [
    "model.scheduler.__dict__"
   ]
  },
  {
   "cell_type": "markdown",
   "id": "551fbd83-4eb8-48e4-8914-51603639f0f8",
   "metadata": {},
   "source": [
    "# Misc code"
   ]
  },
  {
   "cell_type": "code",
   "execution_count": null,
   "id": "5a96d9f7-7647-43c4-9a2d-6d3337ff768a",
   "metadata": {},
   "outputs": [],
   "source": [
    "# loaded_data = import_results(filename)\n",
    "\n",
    "# for k in loaded_data.keys():\n",
    "#     print(k, type(loaded_data[k]), len(loaded_data[k]))\n",
    "# print(\"\\nTraining History\")\n",
    "# results = loaded_data['training_history']\n",
    "# for k,v in results.items():\n",
    "#     print(' ',k , len(v))\n",
    "#     for kk,vv in results[k].items():\n",
    "#         print( f\"   {kk:20s} {len(vv)}\")\n",
    "# print(\"\\nModel Parameters\")\n",
    "# model_parameters = loaded_data['params']\n",
    "# for k,v in model_parameters.items():\n",
    "#     print(f\"   {k:25s} {v}\" )\n",
    " "
   ]
  },
  {
   "cell_type": "code",
   "execution_count": null,
   "id": "cc884bcb-58de-427c-979a-c6cc15ed0aa2",
   "metadata": {},
   "outputs": [],
   "source": [
    "# model_attributes = model.__dict__\n",
    "# from collections import defaultdict\n",
    "# output = defaultdict(dict)\n",
    "\n",
    "# for key, value in model_attributes.items():\n",
    "#         if key[0] == \"_\" or type(value) in [torch.device, torch.optim.Adam , torch.optim.SGD]:\n",
    "#             continue\n",
    "#         if key == 'training_history':\n",
    "#             output[key] = value\n",
    "#         else:\n",
    "#             output['params'][key] = value\n",
    "#             print(f\" {key:30s}    {type(value)}   \")\n",
    "\n",
    "# output.keys()\n",
    "# output['params']\n",
    "# output['training_history'].keys()"
   ]
  },
  {
   "cell_type": "code",
   "execution_count": null,
   "id": "41a232e9-2360-4f04-811a-73533f0b5817",
   "metadata": {},
   "outputs": [],
   "source": [
    "# for k in results.keys():\n",
    "#     print(f\" key: {k:30s}  length of - loaded results: {len(results[k])}  existing model: {len(model.__dict__[k])}\" )\n",
    "#     model.__dict__[k] = results[k]"
   ]
  },
  {
   "cell_type": "code",
   "execution_count": 37,
   "id": "45bd5440-ade0-4ada-b00d-98e7f6f47dd0",
   "metadata": {
    "execution": {
     "iopub.execute_input": "2024-06-04T13:23:38.806204Z",
     "iopub.status.busy": "2024-06-04T13:23:38.805696Z",
     "iopub.status.idle": "2024-06-04T13:23:39.162355Z",
     "shell.execute_reply": "2024-06-04T13:23:39.161596Z",
     "shell.execute_reply.started": "2024-06-04T13:23:38.806162Z"
    }
   },
   "outputs": [],
   "source": [
    "# for key in ['trn', 'val']:\n",
    "#     del_keys = []\n",
    "#     for k,v in model.training_history[key].items():\n",
    "#         print(k, len(v))\n",
    "#         if len(v) == 0 :\n",
    "#             del_keys.append(k)\n",
    "#     del_keys\n",
    "#     for k in del_keys:    \n",
    "#         del  model.training_history[key][k]\n",
    "#     print('-----------------------')\n",
    "\n",
    "# model.training_history['val'].keys()\n",
    "# np.argmin(model.training_history['trn']['trn_ttl_loss']), np.min(model.training_history['trn']['trn_ttl_loss'] )\n",
    "# np.argmin(model.training_history['trn']['trn_prim_loss']),np.min(model.training_history['trn']['trn_prim_loss']), np.min(model.training_history['trn']['trn_prim_loss'])  / model.loss_factor\n",
    "# np.argmin(model.training_history['trn']['trn_snn_loss']), np.min(model.training_history['trn']['trn_snn_loss'] ),  np.min(model.training_history['trn']['trn_snn_loss'] ) / model.snnl_factor\n",
    "# print()\n",
    "# np.argmin(model.training_history['val']['val_ttl_loss']) , np.min(model.training_history['val']['val_ttl_loss'] )\n",
    "# np.argmin(model.training_history['val']['val_prim_loss']), np.min(model.training_history['val']['val_prim_loss']), np.min(model.training_history['val']['val_prim_loss']) / model.loss_factor\n",
    "# np.argmin(model.training_history['val']['val_snn_loss']) , np.min(model.training_history['val']['val_snn_loss'] ), np.min(model.training_history['val']['val_snn_loss'] ) / model.snnl_factor\n",
    "\n",
    "# model.optimizer\n",
    "# model.optimizer.state_dict()\n",
    "# model.optimizer.param_groups[0]['lr'], model.optimizer.param_groups[1]['lr']\n",
    "# model.scheduler.__dict__\n",
    "\n",
    "# model.optimizer = torch.optim.Adam(params = network_params, lr=0.001, weight_decay = 0.1)\n",
    "# # if self.use_snnl:\n",
    "# #     self.optimizer.add_param_group({'params': temp_params, 'lr': temperatureLR, 'weight_decay': adam_weight_decay})\n",
    "\n",
    "# if model.use_scheduler:\n",
    "#     model.scheduler = model._ReduceLROnPlateau(model.optimizer, mode='min', factor=0.5, patience=40, threshold=0.000001, \n",
    "#                                              threshold_mode='rel', cooldown=10, min_lr=0, eps=1e-08, verbose =True) "
   ]
  }
 ],
 "metadata": {
  "kernelspec": {
   "display_name": "Python [conda env:ptsnnl]",
   "language": "python",
   "name": "conda-env-ptsnnl-py"
  },
  "language_info": {
   "codemirror_mode": {
    "name": "ipython",
    "version": 3
   },
   "file_extension": ".py",
   "mimetype": "text/x-python",
   "name": "python",
   "nbconvert_exporter": "python",
   "pygments_lexer": "ipython3",
   "version": "3.11.0"
  },
  "toc": {
   "base_numbering": 1,
   "nav_menu": {},
   "number_sections": true,
   "sideBar": true,
   "skip_h1_title": false,
   "title_cell": "Table of Contents",
   "title_sidebar": "Contents",
   "toc_cell": false,
   "toc_position": {},
   "toc_section_display": true,
   "toc_window_display": false
  }
 },
 "nbformat": 4,
 "nbformat_minor": 5
}
