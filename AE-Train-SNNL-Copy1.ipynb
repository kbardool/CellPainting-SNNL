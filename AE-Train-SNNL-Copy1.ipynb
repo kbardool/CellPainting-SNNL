{
 "cells": [
  {
   "cell_type": "markdown",
   "id": "01e25dfa-859b-40a5-9bd7-e23d6e0a0557",
   "metadata": {},
   "source": [
    "  # Autoencoder - SNNL Dev"
   ]
  },
  {
   "cell_type": "markdown",
   "id": "dc83491e-628a-4bc0-806c-5d41b997dd98",
   "metadata": {},
   "source": [
    "# Setup"
   ]
  },
  {
   "cell_type": "code",
   "execution_count": 1,
   "id": "11ad0ae2",
   "metadata": {
    "ExecuteTime": {
     "end_time": "2023-04-12T10:29:15.566596Z",
     "start_time": "2023-04-12T10:29:15.550232Z"
    },
    "execution": {
     "iopub.execute_input": "2024-09-23T23:45:00.928148Z",
     "iopub.status.busy": "2024-09-23T23:45:00.927562Z",
     "iopub.status.idle": "2024-09-23T23:45:00.954373Z",
     "shell.execute_reply": "2024-09-23T23:45:00.953808Z",
     "shell.execute_reply.started": "2024-09-23T23:45:00.928101Z"
    }
   },
   "outputs": [
    {
     "data": {
      "text/html": [
       "<style>.container { width:98% !important; }</style>"
      ],
      "text/plain": [
       "<IPython.core.display.HTML object>"
      ]
     },
     "metadata": {},
     "output_type": "display_data"
    }
   ],
   "source": [
    "from IPython.display import display, HTML\n",
    "display(HTML(\"<style>.container { width:98% !important; }</style>\"))\n",
    "%load_ext autoreload  \n",
    "%autoreload 2\n",
    "from IPython.core.interactiveshell import InteractiveShell\n",
    "InteractiveShell.ast_node_interactivity = \"all\""
   ]
  },
  {
   "cell_type": "code",
   "execution_count": 2,
   "id": "651de463-2e37-42ed-808d-2f16dff6b3d5",
   "metadata": {
    "ExecuteTime": {
     "end_time": "2023-04-12T10:29:16.111588Z",
     "start_time": "2023-04-12T10:29:15.764305Z"
    },
    "execution": {
     "iopub.execute_input": "2024-09-23T23:45:01.909607Z",
     "iopub.status.busy": "2024-09-23T23:45:01.909296Z",
     "iopub.status.idle": "2024-09-23T23:45:04.606917Z",
     "shell.execute_reply": "2024-09-23T23:45:04.606251Z",
     "shell.execute_reply.started": "2024-09-23T23:45:01.909584Z"
    }
   },
   "outputs": [
    {
     "name": "stdout",
     "output_type": "stream",
     "text": [
      "insert ./src\n",
      "insert ../..\n",
      "['../..', './src', '/home/kevin/miniforge3/envs/ptsnnl/lib/python311.zip', '/home/kevin/miniforge3/envs/ptsnnl/lib/python3.11', '/home/kevin/miniforge3/envs/ptsnnl/lib/python3.11/lib-dynload', '', '/home/kevin/miniforge3/envs/ptsnnl/lib/python3.11/site-packages', '/home/kevin/miniforge3/envs/ptsnnl/lib/python3.11/site-packages/cytominer_eval-0.1-py3.11.egg']\n"
     ]
    },
    {
     "data": {
      "text/plain": [
       "4"
      ]
     },
     "execution_count": 2,
     "metadata": {},
     "output_type": "execute_result"
    }
   ],
   "source": [
    "import os\n",
    "import sys\n",
    "import csv\n",
    "import time\n",
    "import types\n",
    "import copy\n",
    "import pprint\n",
    "import logging\n",
    "from datetime import datetime\n",
    "for p in ['./src','../..']:\n",
    "    if p not in sys.path:\n",
    "        print(f\"insert {p}\")\n",
    "        sys.path.insert(0, p)\n",
    "print(sys.path)\n",
    "from typing import Dict, List, Tuple\n",
    "\n",
    "\n",
    "from matplotlib import pyplot as plt\n",
    "import numpy as np\n",
    "import pandas as pd\n",
    "import scipy\n",
    "from scipy.sparse import csr_matrix\n",
    "import torch\n",
    "from tqdm import tqdm\n",
    "import torch.nn.functional as F\n",
    "from torchinfo import summary\n",
    "import wandb\n",
    "\n",
    "pp = pprint.PrettyPrinter(indent=4)\n",
    "pd.options.display.width = 132\n",
    "torch.set_printoptions(precision=None, threshold=None, edgeitems=None, linewidth=150, profile=None, sci_mode=None)\n",
    "np.set_printoptions(edgeitems=3, infstr='inf', linewidth=150, nanstr='nan')\n",
    "\n",
    "os.environ[\"WANDB_NOTEBOOK_NAME\"] = \"AE-SNNL-MAIN.ipynb\"\n",
    "# os.environ[\"CUDA_LAUNCH_BLOCKING\"] = \"1\"\n",
    "# os.environ[\"CUDA_VISIBLE_DEVICES\"] = \"2\"\n",
    "torch.set_num_threads(4)  ## <--- limit to ~ 2 CPUs\n",
    "torch.get_num_threads()"
   ]
  },
  {
   "cell_type": "code",
   "execution_count": 3,
   "id": "61e84582-bc2f-4bdd-8410-33f267519657",
   "metadata": {
    "ExecuteTime": {
     "end_time": "2023-04-12T10:29:16.111588Z",
     "start_time": "2023-04-12T10:29:15.764305Z"
    },
    "execution": {
     "iopub.execute_input": "2024-09-23T23:45:04.608953Z",
     "iopub.status.busy": "2024-09-23T23:45:04.608599Z",
     "iopub.status.idle": "2024-09-23T23:45:07.120798Z",
     "shell.execute_reply": "2024-09-23T23:45:07.120053Z",
     "shell.execute_reply.started": "2024-09-23T23:45:04.608916Z"
    },
    "scrolled": true
   },
   "outputs": [],
   "source": [
    "from KevinsRoutines.utils.utils_wandb import init_wandb, wandb_log_metrics,wandb_watch\n",
    "from KevinsRoutines.utils.utils_general import list_namespace, print_heading, print_underline\n",
    "\n",
    "import snnl.utils as utils\n",
    "from snnl.utils import parse_args, load_configuration, set_global_seed, get_device, set_device\n",
    "from snnl.utils import plot_model_parms, plot_train_history, plot_regression_metrics\n",
    "from snnl.utils import display_model_summary, display_model_hyperparameters, display_model_gradients, display_model_parameters\n",
    "from snnl.utils import display_epoch_metrics, display_cellpainting_batch, display_model_state_dict\n",
    "from snnl.utils import define_autoencoder_model, init_resume_training"
   ]
  },
  {
   "cell_type": "code",
   "execution_count": 4,
   "id": "5e43c4ff-f371-4f9d-8785-1faeebe2330b",
   "metadata": {
    "ExecuteTime": {
     "end_time": "2023-04-12T10:29:16.111588Z",
     "start_time": "2023-04-12T10:29:15.764305Z"
    },
    "execution": {
     "iopub.execute_input": "2024-09-23T23:45:07.123395Z",
     "iopub.status.busy": "2024-09-23T23:45:07.122751Z",
     "iopub.status.idle": "2024-09-23T23:45:07.172847Z",
     "shell.execute_reply": "2024-09-23T23:45:07.172334Z",
     "shell.execute_reply.started": "2024-09-23T23:45:07.123360Z"
    },
    "scrolled": true
   },
   "outputs": [
    {
     "name": "stderr",
     "output_type": "stream",
     "text": [
      "2024-09-24 01:45:07,165 - __main__ - INFO: -  Excution started : 2024_09_24_01:45:07 \n",
      "2024-09-24 01:45:07,166 - __main__ - INFO: -  Pytorch version  : 2.2.2  \t\t Number of threads: 4\n",
      "2024-09-24 01:45:07,168 - __main__ - INFO: -  Scipy version    : 1.12.0  \t\t Numpy version : 1.26.4\n",
      "2024-09-24 01:45:07,169 - __main__ - INFO: -  WandB version    : 0.17.4  \t\t Pandas version: 2.2.1  \n"
     ]
    }
   ],
   "source": [
    "timestamp = datetime.now().strftime('%Y_%m_%d_%H:%M:%S')\n",
    "logger = logging.getLogger(__name__) \n",
    "logLevel = os.environ.get('LOG_LEVEL', 'INFO').upper()\n",
    "FORMAT = '%(asctime)s - %(name)s - %(levelname)s: - %(message)s'\n",
    "logging.basicConfig(level=\"INFO\", format= FORMAT)\n",
    "\n",
    "logger.info(f\" Excution started : {timestamp} \")\n",
    "logger.info(f\" Pytorch version  : {torch.__version__}  \\t\\t Number of threads: {torch.get_num_threads()}\")\n",
    "logger.info(f\" Scipy version    : {scipy.__version__}  \\t\\t Numpy version : {np.__version__}\")\n",
    "logger.info(f\" WandB version    : {wandb.__version__}  \\t\\t Pandas version: {pd.__version__}  \")\n",
    "# logger.info(f\" Search path      : {sys.path}\")"
   ]
  },
  {
   "cell_type": "markdown",
   "id": "44ea8eff-3a7f-41f0-abd3-2ac4d6c33cd9",
   "metadata": {},
   "source": [
    "### main(args)"
   ]
  },
  {
   "cell_type": "code",
   "execution_count": 5,
   "id": "cb592ef6-ef85-4773-a042-69bd43ff89b7",
   "metadata": {
    "execution": {
     "iopub.execute_input": "2024-09-23T23:45:08.722978Z",
     "iopub.status.busy": "2024-09-23T23:45:08.722610Z",
     "iopub.status.idle": "2024-09-23T23:45:08.761043Z",
     "shell.execute_reply": "2024-09-23T23:45:08.760470Z",
     "shell.execute_reply.started": "2024-09-23T23:45:08.722954Z"
    }
   },
   "outputs": [],
   "source": [
    "GPU_ID = 1\n",
    "LATENT_DIM    = 250\n",
    "HIDDEN_1      = 512\n",
    "EPOCHS        = 100\n",
    "\n",
    "COMPOUNDS_PER_BATCH = 600\n",
    "ADAM_WEIGHT_DECAY = 0.001\n",
    "SNNL_FACTOR = 30.0\n",
    "\n",
    "LEARNING_RATE = 1.00e-03\n",
    "TEMP          = 1.00\n",
    "TEMP_LR       = 0.00   ##1.0e-05\n",
    "\n",
    "\n",
    "# LOAD_EPOCH = 100\n",
    "# RUN_DATETIME = \"20240917_2004\"\n",
    "# RUN_ID        = \"kfzmaqko\"\n",
    "# CHECKPT = f\"AE_snnl_dcpb{COMPOUNDS_PER_BATCH}_{LATENT_DIM}Ltnt_{HIDDEN_1}_{RUN_DATETIME}_LAST_ep_{LOAD_EPOCH:03d}.pt\"\n",
    "# CHECKPT = \"AE_snnl_dcpb200_150Ltnt_512_20240709_2235_LAST_ep_700.pt\"\n",
    "# print(CHECKPT)"
   ]
  },
  {
   "cell_type": "code",
   "execution_count": 7,
   "id": "c80ed726-59ba-4038-9d28-f12a4f97d194",
   "metadata": {
    "execution": {
     "iopub.execute_input": "2024-09-23T23:46:37.369813Z",
     "iopub.status.busy": "2024-09-23T23:46:37.369291Z",
     "iopub.status.idle": "2024-09-23T23:46:37.440511Z",
     "shell.execute_reply": "2024-09-23T23:46:37.439857Z",
     "shell.execute_reply.started": "2024-09-23T23:46:37.369767Z"
    }
   },
   "outputs": [
    {
     "data": {
      "text/plain": [
       "Namespace(configuration='hyperparameters/ae_snnl_250_512_cpb.yaml', ckpt=None, cpb=600, exp_title=None, epochs=100, gpu_id=1, learning_rate=0.001, exp_id=None, runmode='snnl', random_seed=4321, use_prim_optimizer=True, use_temp_optimizer=False, use_annealing=True, anneal_patience=30, use_single_loss=True, temperature=1.0, adam_weight_decay=0.001, loss_factor=None, snnl_factor=30.0, temperatureLR=0.0, WANDB_ACTIVE=True)"
      ]
     },
     "execution_count": 7,
     "metadata": {},
     "output_type": "execute_result"
    },
    {
     "name": "stderr",
     "output_type": "stream",
     "text": [
      "2024-09-24 01:46:37,420 - snnl.utils.utils_ptsnnl - INFO: -  command line param configuration             : [hyperparameters/ae_snnl_250_512_cpb.yaml]\n",
      "2024-09-24 01:46:37,420 - snnl.utils.utils_ptsnnl - INFO: -  command line param ckpt                      : [None]\n",
      "2024-09-24 01:46:37,421 - snnl.utils.utils_ptsnnl - INFO: -  command line param cpb                       : [600]\n",
      "2024-09-24 01:46:37,422 - snnl.utils.utils_ptsnnl - INFO: -  command line param exp_title                 : [None]\n",
      "2024-09-24 01:46:37,423 - snnl.utils.utils_ptsnnl - INFO: -  command line param epochs                    : [100]\n",
      "2024-09-24 01:46:37,424 - snnl.utils.utils_ptsnnl - INFO: -  command line param gpu_id                    : [1]\n",
      "2024-09-24 01:46:37,424 - snnl.utils.utils_ptsnnl - INFO: -  command line param learning_rate             : [0.001]\n",
      "2024-09-24 01:46:37,426 - snnl.utils.utils_ptsnnl - INFO: -  command line param exp_id                    : [None]\n",
      "2024-09-24 01:46:37,427 - snnl.utils.utils_ptsnnl - INFO: -  command line param runmode                   : [snnl]\n",
      "2024-09-24 01:46:37,428 - snnl.utils.utils_ptsnnl - INFO: -  command line param random_seed               : [4321]\n",
      "2024-09-24 01:46:37,429 - snnl.utils.utils_ptsnnl - INFO: -  command line param use_prim_optimizer        : [True]\n",
      "2024-09-24 01:46:37,430 - snnl.utils.utils_ptsnnl - INFO: -  command line param use_temp_optimizer        : [False]\n",
      "2024-09-24 01:46:37,431 - snnl.utils.utils_ptsnnl - INFO: -  command line param use_annealing             : [True]\n",
      "2024-09-24 01:46:37,432 - snnl.utils.utils_ptsnnl - INFO: -  command line param anneal_patience           : [30]\n",
      "2024-09-24 01:46:37,432 - snnl.utils.utils_ptsnnl - INFO: -  command line param use_single_loss           : [True]\n",
      "2024-09-24 01:46:37,433 - snnl.utils.utils_ptsnnl - INFO: -  command line param temperature               : [1.0]\n",
      "2024-09-24 01:46:37,433 - snnl.utils.utils_ptsnnl - INFO: -  command line param adam_weight_decay         : [0.001]\n",
      "2024-09-24 01:46:37,433 - snnl.utils.utils_ptsnnl - INFO: -  command line param loss_factor               : [None]\n",
      "2024-09-24 01:46:37,434 - snnl.utils.utils_ptsnnl - INFO: -  command line param snnl_factor               : [30.0]\n",
      "2024-09-24 01:46:37,434 - snnl.utils.utils_ptsnnl - INFO: -  command line param temperatureLR             : [0.0]\n",
      "2024-09-24 01:46:37,435 - snnl.utils.utils_ptsnnl - INFO: -  command line param WANDB_ACTIVE              : [True]\n",
      "2024-09-24 01:46:37,435 - snnl.utils.utils_ptsnnl - INFO: -  command line param exp_title                 : [dcpb600_250Ltnt_512]\n",
      "2024-09-24 01:46:37,436 - snnl.utils.utils_ptsnnl - INFO: -  command line param exp_description           : [AE snnl - SnglOpt, latent: 250, hidden_1: 512, cpb: 600]\n"
     ]
    }
   ],
   "source": [
    "# if __name__ == \"__main__\":\n",
    "cli_args = f\" --runmode             snnl \"\\\n",
    "            f\" --configuration      hyperparameters/ae_snnl_{LATENT_DIM:03d}_{HIDDEN_1}_cpb.yaml\" \\\n",
    "            f\" --epochs             {EPOCHS} \" \\\n",
    "            f\" --single_loss        \"\\\n",
    "            f\" --prim_opt           \"\\\n",
    "            f\" --temp_annealing     \"\\\n",
    "            f\" --anneal_patience    30\"\\\n",
    "            f\" --adam_wd            {ADAM_WEIGHT_DECAY}\"\\\n",
    "            f\" --lr                 {LEARNING_RATE} \"\\\n",
    "            f\" --temp               {TEMP} \"\\\n",
    "            f\" --snnl_factor        {SNNL_FACTOR}\"\\\n",
    "            f\" --temp_lr            {TEMP_LR}\"\\\n",
    "            f\" --cpb                {COMPOUNDS_PER_BATCH}\"\\\n",
    "            f\" --seed               4321\"\\\n",
    "            f\" --gpu_id             {GPU_ID} \"  \\\n",
    "            f\" --wandb              \"\\\n",
    "            f\" \"\n",
    "\n",
    "# f\" --run_id             {RUN_ID} \"\\\n",
    "# f\" --ckpt               {CHECKPT} \" \\\n",
    "# f\" --loss_factor        {LOSS_FACTOR}\"\\\n",
    "# f\" --temp_opt \" \\\n",
    "# f\" --configuration      hyperparameters/ae_sn_{LATENT_DIM:03d}{HIDDEN_1}{HIDDEN_2}_cpb.yaml\" \\\n",
    "# f\" --exp_title           snglOpt-050Ltnt_512_sig \"\n",
    "cli_args = utils.parse_args(cli_args.split())\n",
    "cli_args\n",
    "\n",
    "args = utils.load_configuration(cli_args)\n",
    "args.ckpt"
   ]
  },
  {
   "cell_type": "code",
   "execution_count": 8,
   "id": "39d0a0c6-a0e1-44e9-9ff7-a31c4a8b0b39",
   "metadata": {
    "execution": {
     "iopub.execute_input": "2024-09-23T23:46:49.532296Z",
     "iopub.status.busy": "2024-09-23T23:46:49.531678Z",
     "iopub.status.idle": "2024-09-23T23:46:49.574057Z",
     "shell.execute_reply": "2024-09-23T23:46:49.573477Z",
     "shell.execute_reply.started": "2024-09-23T23:46:49.532239Z"
    },
    "scrolled": true
   },
   "outputs": [
    {
     "name": "stdout",
     "output_type": "stream",
     "text": [
      "\n",
      "command line parms : \n",
      "-----------------------\n",
      "SGD_momentum.............  0\n",
      "SGD_weight_decay.........  0.0\n",
      "WANDB_ACTIVE.............  True\n",
      "adam_weight_decay........  0.001\n",
      "anneal_patience..........  30\n",
      "batch_size...............  1\n",
      "\n",
      "    cellpainting_args   (dict)\n",
      "    ----------------------------\n",
      "    batch_size...............  1\n",
      "    chunksize................  None\n",
      "    compounds_per_batch......  600\n",
      "    conversions..............  None\n",
      "    iterator.................  True\n",
      "    sample_size..............  3\n",
      "    test_end.................  33600\n",
      "    test_path................  /home/kevin/WSL-shared/cellpainting/cj-datasets/output_11102023/3_sample_profiles/3sample_profiles_1482_HashOrder_test.csv\n",
      "    test_start...............  30000\n",
      "    train_end................  240000\n",
      "    train_start..............  0\n",
      "    training_path............  /home/kevin/WSL-shared/cellpainting/cj-datasets/output_11102023/3_sample_profiles/3sample_profiles_1482_HashOrder.csv\n",
      "    val_end..................  24000\n",
      "    val_start................  0\n",
      "    validation_path..........  /home/kevin/WSL-shared/cellpainting/cj-datasets/output_11102023/3_sample_profiles/3sample_profiles_1482_HashOrder_test.csv\n",
      "\n",
      "ckpt.....................  None\n",
      "code_units...............  250\n",
      "configuration............  hyperparameters/ae_snnl_250_512_cpb.yaml\n",
      "cpb......................  600\n",
      "dataset..................  cellpainting\n",
      "embedding_layer..........  4\n",
      "epochs...................  100\n",
      "exp_date.................  20240924_0146\n",
      "exp_description..........  AE snnl - SnglOpt, latent: 250, hidden_1: 512, cpb: 600\n",
      "exp_folder...............  None\n",
      "exp_id...................  None\n",
      "exp_name.................  AE_20240924_0146\n",
      "exp_name_pfx.............  None\n",
      "exp_title................  dcpb600_250Ltnt_512\n",
      "folder_sfx...............  None\n",
      "gpu_id...................  1\n",
      "hidden_1.................  512\n",
      "input_shape..............  1471\n",
      "learning_rate............  0.001\n",
      "loss_factor..............  1.0\n",
      "\n",
      "    paths   (dict)\n",
      "    ----------------\n",
      "    checkpoint_dir...........  ./ckpt\n",
      "    log_dir..................  ./logs\n",
      "    result_dir...............  ./results\n",
      "\n",
      "project_name.............  CellPainting_Profiles\n",
      "random_seed..............  4321\n",
      "runmode..................  snnl\n",
      "save_every...............  50\n",
      "show_every...............  1\n",
      "snnl_factor..............  30.0\n",
      "temperature..............  1.0\n",
      "temperatureLR............  0.0\n",
      "units....................  [['linear', 1471, 1024], ['relu', 0, 0], ['linear', 1024, 512], ['relu', 0, 0], ['linear', 512, 250], ['linear', 250, 512], ['relu', 0, 0], ['linear', 512, 1024], ['relu', 0, 0], ['linear', 1024, 1471]]\n",
      "use_annealing............  True\n",
      "use_prim_optimizer.......  True\n",
      "use_prim_scheduler.......  True\n",
      "use_single_loss..........  True\n",
      "use_sum..................  False\n",
      "use_temp_optimizer.......  False\n",
      "use_temp_scheduler.......  False\n",
      "\n"
     ]
    }
   ],
   "source": [
    "list_namespace(args)"
   ]
  },
  {
   "cell_type": "code",
   "execution_count": 9,
   "id": "4496f46c-7e02-4f11-b92d-1defdf872940",
   "metadata": {
    "execution": {
     "iopub.execute_input": "2024-09-23T23:46:52.222023Z",
     "iopub.status.busy": "2024-09-23T23:46:52.221533Z",
     "iopub.status.idle": "2024-09-23T23:46:52.985780Z",
     "shell.execute_reply": "2024-09-23T23:46:52.985073Z",
     "shell.execute_reply.started": "2024-09-23T23:46:52.221983Z"
    }
   },
   "outputs": [
    {
     "name": "stdout",
     "output_type": "stream",
     "text": [
      " device: 0   Quadro GV100                   :  free: 33,423,949,824 B   (31.13 GB)    total: 34,069,872,640 B   (31.73 GB)\n",
      " device: 1   Quadro GV100                   :  free: 32,599,769,088 B   (30.36 GB)    total: 34,069,872,640 B   (31.73 GB)\n"
     ]
    },
    {
     "name": "stderr",
     "output_type": "stream",
     "text": [
      "2024-09-24 01:46:52,978 - snnl.utils.utils_ptsnnl - INFO: -  Current CUDA Device is:  cuda:0 - Quadro GV100\n",
      "2024-09-24 01:46:52,980 - snnl.utils.utils_ptsnnl - INFO: -  Switched to: Quadro GV100 - 1\n"
     ]
    },
    {
     "name": "stdout",
     "output_type": "stream",
     "text": [
      " device: 2   NVIDIA TITAN Xp                :  free: 12,464,029,696 B   (11.61 GB)    total: 12,774,539,264 B   (11.90 GB)\n",
      " args.current_device is : cuda:1\n"
     ]
    }
   ],
   "source": [
    "### Set random seed and gpu device\n",
    "set_global_seed(args.random_seed)\n",
    "if args.ckpt is not None:\n",
    "    if os.path.exists(os.path.join('ckpts', args.ckpt)):\n",
    "        logger.info(f\"Checkpoint {args.ckpt} found\")\n",
    "        logger.info(f\"Resuming training using checkpoint: {args.ckpt}\")\n",
    "    else:\n",
    "        logger.error(f\"*** Checkpoint {args.ckpt} not found *** \\n\")\n",
    "        raise ValueError(f\"\\n *** Checkpoint DOESNT EXIST *** \\n\")\n",
    "\n",
    "if args.gpu_id is not None:\n",
    "    _ = get_device(verbose=True)\n",
    "    args.current_device = set_device(args.gpu_id)\n",
    "    print(f\" args.current_device is : {args.current_device}\")"
   ]
  },
  {
   "cell_type": "markdown",
   "id": "e83710b8-4811-4091-aeb7-54e63a480550",
   "metadata": {},
   "source": [
    "  ### WandB Setup"
   ]
  },
  {
   "cell_type": "code",
   "execution_count": 10,
   "id": "2967d0a2-1ef5-4dbb-926a-3991665c9bc4",
   "metadata": {
    "execution": {
     "iopub.execute_input": "2024-09-23T23:46:55.506115Z",
     "iopub.status.busy": "2024-09-23T23:46:55.505589Z",
     "iopub.status.idle": "2024-09-23T23:47:01.540594Z",
     "shell.execute_reply": "2024-09-23T23:47:01.539668Z",
     "shell.execute_reply.started": "2024-09-23T23:46:55.506073Z"
    }
   },
   "outputs": [
    {
     "name": "stderr",
     "output_type": "stream",
     "text": [
      "2024-09-24 01:46:55,549 - snnl.utils.utils_notebook - INFO: - ***** Initialize NEW  W&B Run *****\n",
      "\u001b[34m\u001b[1mwandb\u001b[0m: \u001b[33mWARNING\u001b[0m WANDB_NOTEBOOK_NAME should be a path to a notebook file, couldn't find AE-SNNL-MAIN.ipynb.\n"
     ]
    },
    {
     "name": "stdout",
     "output_type": "stream",
     "text": [
      "None, AE_20240924_0146, CellPainting_Profiles\n"
     ]
    },
    {
     "name": "stderr",
     "output_type": "stream",
     "text": [
      "\u001b[34m\u001b[1mwandb\u001b[0m: Currently logged in as: \u001b[33mkbardool\u001b[0m. Use \u001b[1m`wandb login --relogin`\u001b[0m to force relogin\n"
     ]
    },
    {
     "data": {
      "text/html": [
       "wandb version 0.18.1 is available!  To upgrade, please run:\n",
       " $ pip install wandb --upgrade"
      ],
      "text/plain": [
       "<IPython.core.display.HTML object>"
      ]
     },
     "metadata": {},
     "output_type": "display_data"
    },
    {
     "data": {
      "text/html": [
       "Tracking run with wandb version 0.17.4"
      ],
      "text/plain": [
       "<IPython.core.display.HTML object>"
      ]
     },
     "metadata": {},
     "output_type": "display_data"
    },
    {
     "data": {
      "text/html": [
       "Run data is saved locally in <code>/home/kevin/WSL-shared/cellpainting/pt-snnl/wandb/run-20240924_014656-xhrj4rpq</code>"
      ],
      "text/plain": [
       "<IPython.core.display.HTML object>"
      ]
     },
     "metadata": {},
     "output_type": "display_data"
    },
    {
     "data": {
      "text/html": [
       "Syncing run <strong><a href='https://wandb.ai/kbardool/CellPainting_Profiles/runs/xhrj4rpq' target=\"_blank\">AE_20240924_0146</a></strong> to <a href='https://wandb.ai/kbardool/CellPainting_Profiles' target=\"_blank\">Weights & Biases</a> (<a href='https://wandb.me/run' target=\"_blank\">docs</a>)<br/>"
      ],
      "text/plain": [
       "<IPython.core.display.HTML object>"
      ]
     },
     "metadata": {},
     "output_type": "display_data"
    },
    {
     "data": {
      "text/html": [
       " View project at <a href='https://wandb.ai/kbardool/CellPainting_Profiles' target=\"_blank\">https://wandb.ai/kbardool/CellPainting_Profiles</a>"
      ],
      "text/plain": [
       "<IPython.core.display.HTML object>"
      ]
     },
     "metadata": {},
     "output_type": "display_data"
    },
    {
     "data": {
      "text/html": [
       " View run at <a href='https://wandb.ai/kbardool/CellPainting_Profiles/runs/xhrj4rpq' target=\"_blank\">https://wandb.ai/kbardool/CellPainting_Profiles/runs/xhrj4rpq</a>"
      ],
      "text/plain": [
       "<IPython.core.display.HTML object>"
      ]
     },
     "metadata": {},
     "output_type": "display_data"
    },
    {
     "name": "stderr",
     "output_type": "stream",
     "text": [
      "2024-09-24 01:47:01,525 - snnl.utils.utils_notebook - INFO: -  Experiment Name  : AE_20240924_0146\n",
      "2024-09-24 01:47:01,526 - snnl.utils.utils_notebook - INFO: -  Experiment Date  : 20240924_0146\n",
      "2024-09-24 01:47:01,528 - snnl.utils.utils_notebook - INFO: - ***** Initialize NEW  W&B Run *****\n",
      "2024-09-24 01:47:01,529 - snnl.utils.utils_notebook - INFO: - WANDB_ACTIVE     : True\n",
      "2024-09-24 01:47:01,530 - snnl.utils.utils_notebook - INFO: - Project Name     : CellPainting_Profiles\n",
      "2024-09-24 01:47:01,531 - snnl.utils.utils_notebook - INFO: - Experiment Id    : xhrj4rpq\n",
      "2024-09-24 01:47:01,532 - snnl.utils.utils_notebook - INFO: - Experiment Name  : AE_20240924_0146\n",
      "2024-09-24 01:47:01,533 - snnl.utils.utils_notebook - INFO: - Experiment Date  : 20240924_0146\n",
      "2024-09-24 01:47:01,534 - snnl.utils.utils_notebook - INFO: - Experiment Title : dcpb600_250Ltnt_512\n",
      "2024-09-24 01:47:01,535 - snnl.utils.utils_notebook - INFO: - Experiment Notes : AE snnl - SnglOpt, latent: 250, hidden_1: 512, cpb: 600\n"
     ]
    }
   ],
   "source": [
    "wandb_run = utils.setup_wandb(args)"
   ]
  },
  {
   "cell_type": "code",
   "execution_count": 11,
   "id": "1fd0dea3-280e-48d8-ad0c-404c5e79f857",
   "metadata": {
    "execution": {
     "iopub.execute_input": "2024-09-23T23:47:01.542181Z",
     "iopub.status.busy": "2024-09-23T23:47:01.541928Z",
     "iopub.status.idle": "2024-09-23T23:47:01.580323Z",
     "shell.execute_reply": "2024-09-23T23:47:01.579786Z",
     "shell.execute_reply.started": "2024-09-23T23:47:01.542157Z"
    }
   },
   "outputs": [],
   "source": [
    "# if args.WANDB_ACTIVE:\n",
    "#     wandb_run.finish()\n",
    "#     WANDB_ACTIVE = False"
   ]
  },
  {
   "cell_type": "markdown",
   "id": "7e2871b9-ea54-4869-9fa3-5ade2e1416cd",
   "metadata": {},
   "source": [
    "  ### Define dataset and dataloaders"
   ]
  },
  {
   "cell_type": "code",
   "execution_count": 12,
   "id": "038dbbb7-0221-4f4d-a2d4-b76766259bcf",
   "metadata": {
    "execution": {
     "iopub.execute_input": "2024-09-23T23:47:01.581350Z",
     "iopub.status.busy": "2024-09-23T23:47:01.581117Z",
     "iopub.status.idle": "2024-09-23T23:47:01.619687Z",
     "shell.execute_reply": "2024-09-23T23:47:01.619023Z",
     "shell.execute_reply.started": "2024-09-23T23:47:01.581327Z"
    }
   },
   "outputs": [],
   "source": [
    "## Validation : 24,000\n",
    "## Test: 12,000\n",
    "## Train : 312,000 - (24,000+12,000) = 276,000\n",
    "# cellpainting_args = {'sample_size': 3,\n",
    "#                      'batch_size': 1,\n",
    "#                      'compounds_per_batch': 600,\n",
    "#                      'training_path'  : ALL_INPUT,\n",
    "#                      'validation_path': ALL_INPUT,\n",
    "#                      'test_path'      : ALL_INPUT,\n",
    "#                      'train_start'    : 0,\n",
    "#                      'train_end'      : 276_000,\n",
    "#                      'val_start'      : 276_000,\n",
    "#                      'val_end'        : 300_000,\n",
    "#                      'test_start'     : 300_000,\n",
    "#                      'test_end'       : 312_000,   ## 34_542\n",
    "#                      }\n",
    "# \n",
    "# args.cellpainting_args"
   ]
  },
  {
   "cell_type": "code",
   "execution_count": 13,
   "id": "2cc7cb9a-1d56-4159-8b2e-560562e440fb",
   "metadata": {
    "execution": {
     "iopub.execute_input": "2024-09-23T23:47:31.077921Z",
     "iopub.status.busy": "2024-09-23T23:47:31.077409Z",
     "iopub.status.idle": "2024-09-23T23:47:31.124013Z",
     "shell.execute_reply": "2024-09-23T23:47:31.123046Z",
     "shell.execute_reply.started": "2024-09-23T23:47:31.077877Z"
    }
   },
   "outputs": [],
   "source": [
    "# ## total rows = 346,542\n",
    "# ## Validation :  24,542\n",
    "# ## Train :      312,000 \n",
    "args.cellpainting_args['training_path'] = '/home/kevin/WSL-shared/cellpainting/cj-datasets/output_11102023/3_sample_profiles/3sample_profiles_1482_HashOrder_all.csv'\n",
    "args.cellpainting_args['train_start'] = 0 \n",
    "args.cellpainting_args['train_end'] = 324_000\n",
    "\n",
    "args.cellpainting_args['validation_path'] = '/home/kevin/WSL-shared/cellpainting/cj-datasets/output_11102023/3_sample_profiles/3sample_profiles_1482_HashOrder_all.csv'\n",
    "args.cellpainting_args['val_start'] = 324_000\n",
    "args.cellpainting_args['val_end'] = 346_542"
   ]
  },
  {
   "cell_type": "code",
   "execution_count": 14,
   "id": "c9762337-5b5d-49a3-85b5-16cdda93521a",
   "metadata": {
    "execution": {
     "iopub.execute_input": "2024-09-23T23:47:40.757558Z",
     "iopub.status.busy": "2024-09-23T23:47:40.757067Z",
     "iopub.status.idle": "2024-09-23T23:47:40.827247Z",
     "shell.execute_reply": "2024-09-23T23:47:40.826675Z",
     "shell.execute_reply.started": "2024-09-23T23:47:40.757517Z"
    },
    "scrolled": true
   },
   "outputs": [
    {
     "name": "stderr",
     "output_type": "stream",
     "text": [
      "2024-09-24 01:47:40,798 - root - INFO: -  load cellpainting\n",
      "2024-09-24 01:47:40,800 - snnl.utils.dataloader - INFO: -  Building CellPantingDataset for train\n",
      "2024-09-24 01:47:40,801 - snnl.utils.dataloader - INFO: -  filename:  /home/kevin/WSL-shared/cellpainting/cj-datasets/output_11102023/3_sample_profiles/3sample_profiles_1482_HashOrder_all.csv\n",
      "2024-09-24 01:47:40,802 - snnl.utils.dataloader - INFO: -  type    :  train\n",
      "2024-09-24 01:47:40,802 - snnl.utils.dataloader - INFO: -  start   :  0\n",
      "2024-09-24 01:47:40,803 - snnl.utils.dataloader - INFO: -  end     :  324000\n",
      "2024-09-24 01:47:40,804 - snnl.utils.dataloader - INFO: -  numrows :  324000\n",
      "2024-09-24 01:47:40,805 - snnl.utils.dataloader - INFO: -  names   :  None     usecols :  None\n",
      "2024-09-24 01:47:40,805 - snnl.utils.dataloader - INFO: -  batch_size  :  1\n",
      "2024-09-24 01:47:40,806 - snnl.utils.dataloader - INFO: -  sample_size :  3\n",
      "2024-09-24 01:47:40,807 - snnl.utils.dataloader - INFO: -  compounds_per_batch :  600\n",
      "2024-09-24 01:47:40,807 - snnl.utils.dataloader - INFO: -  chunksize  (rows per minibatch) :  1800\n",
      "2024-09-24 01:47:40,808 - snnl.utils.dataloader - INFO: -  Each mini-batch contains 600.0 compounds with 3 samples per compound : total 1800 rows\n",
      "2024-09-24 01:47:40,809 - snnl.utils.dataloader - INFO: -  Number of 1800 row full size batches per epoch: 180\n",
      "2024-09-24 01:47:40,810 - snnl.utils.dataloader - INFO: -  Rows covered by 180 full size batches (1800 rows) per epoch:  324000\n",
      "2024-09-24 01:47:40,810 - snnl.utils.dataloader - INFO: -  Last partial batch contains : 0 rows\n",
      "2024-09-24 01:47:40,812 - snnl.utils.dataloader - INFO: -  \n",
      "2024-09-24 01:47:40,813 - snnl.utils.dataloader - INFO: -  Building CellPantingDataset for val\n",
      "2024-09-24 01:47:40,813 - snnl.utils.dataloader - INFO: -  filename:  /home/kevin/WSL-shared/cellpainting/cj-datasets/output_11102023/3_sample_profiles/3sample_profiles_1482_HashOrder_all.csv\n",
      "2024-09-24 01:47:40,814 - snnl.utils.dataloader - INFO: -  type    :  val\n",
      "2024-09-24 01:47:40,814 - snnl.utils.dataloader - INFO: -  start   :  324000\n",
      "2024-09-24 01:47:40,815 - snnl.utils.dataloader - INFO: -  end     :  346542\n",
      "2024-09-24 01:47:40,815 - snnl.utils.dataloader - INFO: -  numrows :  22542\n",
      "2024-09-24 01:47:40,816 - snnl.utils.dataloader - INFO: -  names   :  None     usecols :  None\n",
      "2024-09-24 01:47:40,816 - snnl.utils.dataloader - INFO: -  batch_size  :  1\n",
      "2024-09-24 01:47:40,817 - snnl.utils.dataloader - INFO: -  sample_size :  3\n",
      "2024-09-24 01:47:40,818 - snnl.utils.dataloader - INFO: -  compounds_per_batch :  600\n",
      "2024-09-24 01:47:40,818 - snnl.utils.dataloader - INFO: -  chunksize  (rows per minibatch) :  1800\n",
      "2024-09-24 01:47:40,819 - snnl.utils.dataloader - INFO: -  Each mini-batch contains 600.0 compounds with 3 samples per compound : total 1800 rows\n",
      "2024-09-24 01:47:40,819 - snnl.utils.dataloader - INFO: -  Number of 1800 row full size batches per epoch: 12\n",
      "2024-09-24 01:47:40,819 - snnl.utils.dataloader - INFO: -  Rows covered by 12 full size batches (1800 rows) per epoch:  21600\n",
      "2024-09-24 01:47:40,820 - snnl.utils.dataloader - INFO: -  Last partial batch contains : 942 rows\n",
      "2024-09-24 01:47:40,820 - snnl.utils.dataloader - INFO: -  \n"
     ]
    },
    {
     "name": "stdout",
     "output_type": "stream",
     "text": [
      " load cellpainting\n",
      " Dataset size: 324000   rows per batch: 1800\n",
      " Dataset size: 22542   rows per batch: 1800\n"
     ]
    },
    {
     "data": {
      "text/plain": [
       "(324000, 22542)"
      ]
     },
     "execution_count": 14,
     "metadata": {},
     "output_type": "execute_result"
    }
   ],
   "source": [
    "#### Load CellPainting Dataset\n",
    "data_loaders = utils.build_dataloaders(args, data = ['train', 'val'])\n",
    "len(data_loaders['train']),len(data_loaders['val'])"
   ]
  },
  {
   "cell_type": "code",
   "execution_count": 15,
   "id": "7292ec60-c931-4fc8-9518-f8081c23097b",
   "metadata": {
    "execution": {
     "iopub.execute_input": "2024-09-23T23:47:42.554200Z",
     "iopub.status.busy": "2024-09-23T23:47:42.553700Z",
     "iopub.status.idle": "2024-09-23T23:47:42.598605Z",
     "shell.execute_reply": "2024-09-23T23:47:42.597859Z",
     "shell.execute_reply.started": "2024-09-23T23:47:42.554157Z"
    }
   },
   "outputs": [
    {
     "name": "stdout",
     "output_type": "stream",
     "text": [
      " Minibatch size :   1800\n",
      " len of train data loader:  324000   number of batches:  180    last batch:    0\n",
      " len of valid data loader:   22542   number of batches:   12    last batch:  942\n"
     ]
    }
   ],
   "source": [
    "# -----------------------------------------\n",
    "#  Count pos/neg labels in each dataset\n",
    "# -----------------------------------------  \n",
    "MINIBATCH_SIZE = args.cellpainting_args['sample_size'] * args.cellpainting_args['compounds_per_batch']\n",
    "train_minibatches = len(data_loaders['train']) // MINIBATCH_SIZE\n",
    "val_minibatches = len(data_loaders['val']) // MINIBATCH_SIZE\n",
    "# test_minibatches = len(data_loader['test']) // MINIBATCH_SIZE\n",
    "print(f\" Minibatch size : {MINIBATCH_SIZE:6d}\") \n",
    "print(f\" len of train data loader: {len(data_loaders['train']):7d}   number of batches: {train_minibatches:4d}    last batch: {len(data_loaders['train']) % MINIBATCH_SIZE:4d}\")\n",
    "print(f\" len of valid data loader: {len(data_loaders['val']):7d}   number of batches: {val_minibatches:4d}    last batch: {len(data_loaders['val']) % MINIBATCH_SIZE:4d}\")\n",
    "# print(f\" len of test  data loader: {len(data_loader['test'])}   number of batches: {test_minibatches}\")"
   ]
  },
  {
   "cell_type": "code",
   "execution_count": 16,
   "id": "382db971-647a-46d1-82dc-c67177f93c1b",
   "metadata": {
    "execution": {
     "iopub.execute_input": "2024-09-23T23:47:49.088615Z",
     "iopub.status.busy": "2024-09-23T23:47:49.088105Z",
     "iopub.status.idle": "2024-09-23T23:50:50.690332Z",
     "shell.execute_reply": "2024-09-23T23:50:50.689567Z",
     "shell.execute_reply.started": "2024-09-23T23:47:49.088573Z"
    }
   },
   "outputs": [
    {
     "name": "stdout",
     "output_type": "stream",
     "text": [
      "                                                                                                                                                                                                              \n",
      " Dataset: train\n",
      "------------------------------\n",
      " total rows     :  324000\n",
      " total pos rows :   38586 - 11.91%\n",
      " total neg rows :  285414 - 88.09%\n",
      "                                                                                                                                                                                                              \n",
      " Dataset: val\n",
      "------------------------------\n",
      " total rows     :   22542\n",
      " total pos rows :    2742 - 12.16%\n",
      " total neg rows :   19800 - 87.84%\n"
     ]
    }
   ],
   "source": [
    "from tqdm import tqdm\n",
    "for datatype in ['train', 'val' ]:\n",
    "    ttl_rows = 0\n",
    "    ttl_pos_labels = 0 \n",
    "    with tqdm(enumerate(data_loaders[datatype]), initial=0, total = train_minibatches, position=0, file=sys.stdout,\n",
    "                   leave= False, desc=f\" Read {datatype} \") as t_warmup:\n",
    "        for batch_count, (batch_features, batch_labels, _, _, _, _) in t_warmup:\n",
    "            ttl_rows += batch_labels.shape[0]\n",
    "            ttl_pos_labels += batch_labels.sum()\n",
    "\n",
    "    ttl_neg_labels = ttl_rows - ttl_pos_labels\n",
    "    print(f\"\\n Dataset: {datatype}\")\n",
    "    print('-'*30)\n",
    "    print(f\" total rows     : {ttl_rows:7d}\")\n",
    "    print(f\" total pos rows : {ttl_pos_labels:7.0f} - {ttl_pos_labels*100.0/ttl_rows:5.2f}%\")\n",
    "    print(f\" total neg rows : {ttl_neg_labels:7.0f} - {ttl_neg_labels*100.0/ttl_rows:5.2f}%\")"
   ]
  },
  {
   "cell_type": "markdown",
   "id": "19b32e21-67d2-45af-a45f-841b6dca43ff",
   "metadata": {},
   "source": [
    "# Define autoencoder model"
   ]
  },
  {
   "cell_type": "markdown",
   "id": "cf383487-ecbf-49da-bb01-5a5f22932278",
   "metadata": {},
   "source": [
    "### Override arguments"
   ]
  },
  {
   "cell_type": "code",
   "execution_count": 17,
   "id": "b8a2f3dc-b7ce-4118-a40a-4b5c67a3dd23",
   "metadata": {
    "execution": {
     "iopub.execute_input": "2024-09-23T23:51:12.214649Z",
     "iopub.status.busy": "2024-09-23T23:51:12.214060Z",
     "iopub.status.idle": "2024-09-23T23:51:12.271098Z",
     "shell.execute_reply": "2024-09-23T23:51:12.270534Z",
     "shell.execute_reply.started": "2024-09-23T23:51:12.214594Z"
    }
   },
   "outputs": [
    {
     "name": "stdout",
     "output_type": "stream",
     "text": [
      "   runmode               : snnl\n",
      "   embedding_layer       : 4\n",
      "   Latent dim            : 250\n",
      "   loss_factor           : 1.0\n",
      "   learning_rate         : 0.001\n",
      "   use Primary Optimizer : True\n",
      "   use Primary Scheduler : True\n",
      "   snnl_factor           : 30.0\n",
      "   temperature           : 1.0\n",
      "   use Temp Optimizer    : False\n",
      "   use Primary Scheduler : False\n",
      "   temperatureLR:        : 0.0\n",
      "   use_annealing:        : True\n",
      "   anneal_patience:      : 30\n"
     ]
    }
   ],
   "source": [
    "# args.temperature   = 1.0\n",
    "# args.loss_factor   = 1.0       ## 1.0e+00\n",
    "# args.learning_rate = 1.0e-03    ## 0.001\n",
    "# args.temperatureLR = 0.0e-04    ## 1e-4\n",
    "print(f\"   runmode               : {args.runmode}\")\n",
    "print(f\"   embedding_layer       : {args.embedding_layer}\")\n",
    "print(f\"   Latent dim            : {args.code_units}\")\n",
    "print(f\"   loss_factor           : {args.loss_factor}\")\n",
    "print(f\"   learning_rate         : {args.learning_rate}\")\n",
    "print(f\"   use Primary Optimizer : {args.use_prim_optimizer}\")\n",
    "print(f\"   use Primary Scheduler : {args.use_prim_scheduler}\")\n",
    "print(f\"   snnl_factor           : {args.snnl_factor}\")\n",
    "print(f\"   temperature           : {args.temperature}\")\n",
    "print(f\"   use Temp Optimizer    : {args.use_temp_optimizer}\")\n",
    "print(f\"   use Primary Scheduler : {args.use_temp_scheduler}\")\n",
    "print(f\"   temperatureLR:        : {args.temperatureLR}\")\n",
    "print(f\"   use_annealing:        : {args.use_annealing}\")\n",
    "print(f\"   anneal_patience:      : {args.anneal_patience}\")\n"
   ]
  },
  {
   "cell_type": "code",
   "execution_count": 18,
   "id": "730975ab-c52f-4268-99d5-e06362cce8d2",
   "metadata": {
    "execution": {
     "iopub.execute_input": "2024-09-23T23:51:14.311796Z",
     "iopub.status.busy": "2024-09-23T23:51:14.311322Z",
     "iopub.status.idle": "2024-09-23T23:51:14.362722Z",
     "shell.execute_reply": "2024-09-23T23:51:14.361978Z",
     "shell.execute_reply.started": "2024-09-23T23:51:14.311756Z"
    }
   },
   "outputs": [
    {
     "name": "stdout",
     "output_type": "stream",
     "text": [
      "\n",
      "command line parms : \n",
      "-----------------------\n",
      "SGD_momentum.............  0\n",
      "SGD_weight_decay.........  0.0\n",
      "WANDB_ACTIVE.............  True\n",
      "adam_weight_decay........  0.001\n",
      "anneal_patience..........  30\n",
      "batch_size...............  1\n",
      "\n",
      "    cellpainting_args   (dict)\n",
      "    ----------------------------\n",
      "    batch_size...............  1\n",
      "    chunksize................  None\n",
      "    compounds_per_batch......  600\n",
      "    conversions..............  None\n",
      "    iterator.................  True\n",
      "    sample_size..............  3\n",
      "    test_end.................  33600\n",
      "    test_path................  /home/kevin/WSL-shared/cellpainting/cj-datasets/output_11102023/3_sample_profiles/3sample_profiles_1482_HashOrder_test.csv\n",
      "    test_start...............  30000\n",
      "    train_end................  324000\n",
      "    train_start..............  0\n",
      "    training_path............  /home/kevin/WSL-shared/cellpainting/cj-datasets/output_11102023/3_sample_profiles/3sample_profiles_1482_HashOrder_all.csv\n",
      "    val_end..................  346542\n",
      "    val_start................  324000\n",
      "    validation_path..........  /home/kevin/WSL-shared/cellpainting/cj-datasets/output_11102023/3_sample_profiles/3sample_profiles_1482_HashOrder_all.csv\n",
      "\n",
      "ckpt.....................  None\n",
      "code_units...............  250\n",
      "configuration............  hyperparameters/ae_snnl_250_512_cpb.yaml\n",
      "cpb......................  600\n",
      "current_device...........  cuda:1\n",
      "dataset..................  cellpainting\n",
      "embedding_layer..........  4\n",
      "epochs...................  100\n",
      "exp_date.................  20240924_0146\n",
      "exp_description..........  AE snnl - SnglOpt, latent: 250, hidden_1: 512, cpb: 600\n",
      "exp_folder...............  None\n",
      "exp_id...................  xhrj4rpq\n",
      "exp_name.................  AE_20240924_0146\n",
      "exp_name_pfx.............  None\n",
      "exp_title................  dcpb600_250Ltnt_512\n",
      "folder_sfx...............  None\n",
      "gpu_id...................  1\n",
      "hidden_1.................  512\n",
      "input_shape..............  1471\n",
      "learning_rate............  0.001\n",
      "loss_factor..............  1.0\n",
      "\n",
      "    paths   (dict)\n",
      "    ----------------\n",
      "    checkpoint_dir...........  ./ckpt\n",
      "    log_dir..................  ./logs\n",
      "    result_dir...............  ./results\n",
      "\n",
      "project_name.............  CellPainting_Profiles\n",
      "random_seed..............  4321\n",
      "runmode..................  snnl\n",
      "save_every...............  50\n",
      "show_every...............  1\n",
      "snnl_factor..............  30.0\n",
      "temperature..............  1.0\n",
      "temperatureLR............  0.0\n",
      "units....................  [['linear', 1471, 1024], ['relu', 0, 0], ['linear', 1024, 512], ['relu', 0, 0], ['linear', 512, 250], ['linear', 250, 512], ['relu', 0, 0], ['linear', 512, 1024], ['relu', 0, 0], ['linear', 1024, 1471]]\n",
      "use_annealing............  True\n",
      "use_prim_optimizer.......  True\n",
      "use_prim_scheduler.......  True\n",
      "use_single_loss..........  True\n",
      "use_sum..................  False\n",
      "use_temp_optimizer.......  False\n",
      "use_temp_scheduler.......  False\n",
      "\n"
     ]
    }
   ],
   "source": [
    "list_namespace(args)"
   ]
  },
  {
   "cell_type": "code",
   "execution_count": 19,
   "id": "73170034-8d3c-466c-a6ed-2b9afdf62f5c",
   "metadata": {
    "execution": {
     "iopub.execute_input": "2024-09-23T23:51:15.358917Z",
     "iopub.status.busy": "2024-09-23T23:51:15.358281Z",
     "iopub.status.idle": "2024-09-23T23:51:15.766920Z",
     "shell.execute_reply": "2024-09-23T23:51:15.766154Z",
     "shell.execute_reply.started": "2024-09-23T23:51:15.358871Z"
    },
    "scrolled": true
   },
   "outputs": [
    {
     "data": {
      "text/plain": [
       "'snnl'"
      ]
     },
     "execution_count": 19,
     "metadata": {},
     "output_type": "execute_result"
    },
    {
     "name": "stderr",
     "output_type": "stream",
     "text": [
      "2024-09-24 01:51:15,399 - snnl.utils.utils_notebook - INFO: - Defining model in SNNL mode \n",
      "2024-09-24 01:51:15,404 - snnl.models.autoencoder - INFO: -     layer pair:    0  type:linear           input:   1471  output:   1024    weights: [1024, 1471]   \n",
      "2024-09-24 01:51:15,418 - snnl.models.autoencoder - INFO: -     layer pair:    1  type:relu             input:      0  output:      0    weights: [0, 0]   \n",
      "2024-09-24 01:51:15,419 - snnl.models.autoencoder - INFO: -     layer pair:    2  type:linear           input:   1024  output:    512    weights: [512, 1024]   \n",
      "2024-09-24 01:51:15,425 - snnl.models.autoencoder - INFO: -     layer pair:    3  type:relu             input:      0  output:      0    weights: [0, 0]   \n",
      "2024-09-24 01:51:15,426 - snnl.models.autoencoder - INFO: -     layer pair:    4  type:linear           input:    512  output:    250    weights: [250, 512]   \n",
      "2024-09-24 01:51:15,429 - snnl.models.autoencoder - INFO: -     layer pair:    5  type:linear           input:    250  output:    512    weights: [512, 250]   \n",
      "2024-09-24 01:51:15,431 - snnl.models.autoencoder - INFO: -     layer pair:    6  type:relu             input:      0  output:      0    weights: [0, 0]   \n",
      "2024-09-24 01:51:15,432 - snnl.models.autoencoder - INFO: -     layer pair:    7  type:linear           input:    512  output:   1024    weights: [1024, 512]   \n",
      "2024-09-24 01:51:15,438 - snnl.models.autoencoder - INFO: -     layer pair:    8  type:relu             input:      0  output:      0    weights: [0, 0]   \n",
      "2024-09-24 01:51:15,440 - snnl.models.autoencoder - INFO: -     layer pair:    9  type:linear           input:   1024  output:   1471    weights: [1471, 1024]   \n"
     ]
    },
    {
     "name": "stdout",
     "output_type": "stream",
     "text": [
      " EMBEDDING LAYER: 4\n",
      " Device cuda:1 will be used\n",
      "\n",
      "------------------------------------------------------------\n",
      " Building Base Model from NOTEBOOK\n",
      "------------------------------------------------------------\n",
      "    Model_init()_    -- mode:              latent_code\n",
      "    Model_init()_    -- Unsupervised :     True\n",
      "    Model_init()_    -- Support for unsupervised training  in 'latent_code' mode is True\n",
      "    Model_init()_    -- Criterion:         MSELoss()\n",
      "    Model_init()_    -- use_snnl :         True\n",
      "    Model_init()_    -- temperature :      Parameter containing:\n",
      "tensor([1.])\n",
      "    Model_init()_    -- temperature LR:    0.0\n",
      "\n",
      "------------------------------------------------------------\n",
      " Building Autoencoder from NOTEBOOK\n",
      "------------------------------------------------------------\n",
      "setup_prim_optimizer()\n",
      "    AE init() -- mode               : latent_code\n",
      "    AE init() -- unsupervised       : True\n",
      "    AE init() -- layer_types        : ['linear', 'relu', 'linear', 'relu', 'linear', 'linear', 'relu', 'linear', 'relu', 'linear']\n",
      "    AE init() -- non linearities    : ['relu', 'relu', 'relu', 'relu']\n",
      "    AE init() -- Primary Crtierion  : MSELoss()\n",
      "    AE init() -- monitor_grads_layer: None\n",
      "    AE init() -- Primary optimizer  : True\n",
      "    AE init() -- Primary scheduler  : True\n",
      "    AE init() -- use_snnl           : True\n",
      "    AE init() -- SNNL Crtierion     : SNNLoss()\n",
      "    AE init() -- temperature        : Parameter containing:\n",
      "tensor([1.], device='cuda:1')\n",
      "    AE init() -- temperature LR     : 0.0\n",
      "    AE init() -- Temperature optmzr : False\n",
      "    AE init() -- Temperature schdlr : False\n"
     ]
    }
   ],
   "source": [
    "### Define Model\n",
    "args.runmode\n",
    "model = define_autoencoder_model(args, verbose = True)"
   ]
  },
  {
   "cell_type": "markdown",
   "id": "789809c5-6d84-497a-b345-9f144f37c4b6",
   "metadata": {},
   "source": [
    "## Resume from model checkpoint (if args.ckpt is not None)"
   ]
  },
  {
   "cell_type": "code",
   "execution_count": 20,
   "id": "412b00f3-f312-49ed-888c-350f4948f33c",
   "metadata": {
    "execution": {
     "iopub.execute_input": "2024-09-23T23:51:19.912872Z",
     "iopub.status.busy": "2024-09-23T23:51:19.912383Z",
     "iopub.status.idle": "2024-09-23T23:51:19.968448Z",
     "shell.execute_reply": "2024-09-23T23:51:19.967565Z",
     "shell.execute_reply.started": "2024-09-23T23:51:19.912832Z"
    }
   },
   "outputs": [
    {
     "name": "stderr",
     "output_type": "stream",
     "text": [
      "2024-09-24 01:51:19,960 - root - INFO: -  INITIALIZE TRAINING - Run 100 epochs: epoch 1 to 100 \n"
     ]
    }
   ],
   "source": [
    "args.load_checkpoint = utils.load_checkpoint_v5\n",
    "args.save_checkpoint = utils.save_checkpoint_v5\n",
    "# print(f\" Checkpoint File :  {args.ckpt}\")\n",
    "\n",
    "model = init_resume_training(model, args)\n",
    "\n",
    "if args.WANDB_ACTIVE:\n",
    "    wandb_watch(item = model, criterion=None, log = 'all', log_freq = 1000, log_graph = False)\n",
    "    wandb.config.update(args)"
   ]
  },
  {
   "cell_type": "code",
   "execution_count": 21,
   "id": "8fcc1ce9-acfe-4ca0-b23f-500124427794",
   "metadata": {
    "execution": {
     "iopub.execute_input": "2024-09-23T23:51:20.955828Z",
     "iopub.status.busy": "2024-09-23T23:51:20.955450Z",
     "iopub.status.idle": "2024-09-23T23:51:20.996975Z",
     "shell.execute_reply": "2024-09-23T23:51:20.996447Z",
     "shell.execute_reply.started": "2024-09-23T23:51:20.955799Z"
    }
   },
   "outputs": [],
   "source": [
    "# display_model_state_dict(model, 'test')\n",
    "# display_model_parameters(model, 'title')\n",
    "# display_model_gradients(model, 'test')\n",
    "# display_model_hyperparameters(model)\n",
    "# for k,v in model.__dict__.items():\n",
    "#     if k == 'training_history':\n",
    "#         print(f\" {k:30}  type: {str(type(v)):25s}   values: {v.keys()} \")\n",
    "#     else:\n",
    "#         print(f\" {k:30}  type: {str(type(v)):25s}   values: {v} \")\n",
    "# model.optimizers['prim'].state_dict()\n",
    "# model.schedulers['prim'].state_dict()\n",
    "# print(f\" Optimizer ParamGroup[0]   : {model.optimizers['prim'].param_groups[0]}\")\n",
    "# for k,v in model.optimizers.items():\n",
    "#     print(k, v)\n",
    "# for k,v in enumerate(model.optimizers['prim'].param_groups[0]['params']):\n",
    "#     print(f\" {k}, {v.shape}\")"
   ]
  },
  {
   "cell_type": "markdown",
   "id": "94aeaa82-14c5-465c-ae6e-bb792ba8a973",
   "metadata": {},
   "source": [
    "# Autoencoder Fit "
   ]
  },
  {
   "cell_type": "code",
   "execution_count": 22,
   "id": "17c1d789-0894-4e9b-8b04-3da76941b691",
   "metadata": {
    "execution": {
     "iopub.execute_input": "2024-09-23T23:51:26.119034Z",
     "iopub.status.busy": "2024-09-23T23:51:26.118390Z",
     "iopub.status.idle": "2024-09-23T23:51:26.165909Z",
     "shell.execute_reply": "2024-09-23T23:51:26.165414Z",
     "shell.execute_reply.started": "2024-09-23T23:51:26.118981Z"
    }
   },
   "outputs": [
    {
     "name": "stderr",
     "output_type": "stream",
     "text": [
      "2024-09-24 01:51:26,158 - __main__ - INFO: -  Experiment run id:  xhrj4rpq\n",
      "2024-09-24 01:51:26,159 - __main__ - INFO: -  Experiment Name  :  AE_20240924_0146 \n",
      "2024-09-24 01:51:26,160 - __main__ - INFO: -  Experiment Date  :  20240924_0146 \n",
      "2024-09-24 01:51:26,161 - __main__ - INFO: -  Experiment Title :  dcpb600_250Ltnt_512 \n",
      "2024-09-24 01:51:26,162 - __main__ - INFO: -  Experiment Notes :  AE snnl - SnglOpt, latent: 250, hidden_1: 512, cpb: 600\n"
     ]
    }
   ],
   "source": [
    "#\n",
    "#  Running Training Loop\n",
    "#\n",
    "logger.info(f\" Experiment run id:  {args.exp_id}\")\n",
    "logger.info(f\" Experiment Name  :  {args.exp_name} \")\n",
    "logger.info(f\" Experiment Date  :  {args.exp_date} \")\n",
    "logger.info(f\" Experiment Title :  {args.exp_title} \")\n",
    "logger.info(f\" Experiment Notes :  {args.exp_description}\")"
   ]
  },
  {
   "cell_type": "code",
   "execution_count": 23,
   "id": "20ae20b9-b471-4a4b-80fd-b47b8f2ee25f",
   "metadata": {
    "execution": {
     "iopub.execute_input": "2024-09-23T23:51:27.606140Z",
     "iopub.status.busy": "2024-09-23T23:51:27.605628Z",
     "iopub.status.idle": "2024-09-23T23:51:27.652200Z",
     "shell.execute_reply": "2024-09-23T23:51:27.651418Z",
     "shell.execute_reply.started": "2024-09-23T23:51:27.606099Z"
    }
   },
   "outputs": [
    {
     "data": {
      "text/plain": [
       "(0, 200)"
      ]
     },
     "execution_count": 23,
     "metadata": {},
     "output_type": "execute_result"
    },
    {
     "name": "stdout",
     "output_type": "stream",
     "text": [
      " 2024-09-24 01:51:27  epoch    1 of  200\n"
     ]
    }
   ],
   "source": [
    "# model.starting_epoch = 0\n",
    "model.ending_epoch = 200\n",
    "# model.starting_epoch, model.ending_epoch = 700, 705\n",
    "model.starting_epoch, model.ending_epoch\n",
    "\n",
    "print(f\" {datetime.now().strftime('%Y-%m-%d %H:%M:%S')}  epoch {model.starting_epoch+1:4d} of {model.ending_epoch:4d}\")"
   ]
  },
  {
   "cell_type": "code",
   "execution_count": 31,
   "id": "05ac335e-26e4-4c1c-898b-43abeb34f383",
   "metadata": {
    "execution": {
     "iopub.execute_input": "2024-09-24T17:11:44.871383Z",
     "iopub.status.busy": "2024-09-24T17:11:44.870847Z",
     "iopub.status.idle": "2024-09-25T03:09:32.907003Z",
     "shell.execute_reply": "2024-09-25T03:09:32.905060Z",
     "shell.execute_reply.started": "2024-09-24T17:11:44.871339Z"
    },
    "scrolled": true
   },
   "outputs": [
    {
     "name": "stdout",
     "output_type": "stream",
     "text": [
      " 2024-09-24 19:11:44  Start: epoch  201 of  400\n",
      "  time   ep / eps |  Trn_loss   Primary      SNNL  |   temp*         grad    |   R2      BestEp         |  Vld_loss   Primary      SNNL  |   R2       BestEp          |   LR        temp LR    |              \n",
      "------------------+--------------------------------+-------------------------+--------------------------+--------------------------------+----------------------------|------------------------|\n",
      "19:14:42 201/400  | 147.9186     0.6545   147.2641 |   0.373265   0.0000e+00 |   0.3055     5           | 169.7756     0.6503   169.1252 |   0.3102     5             |  1.250e-04   0.000e+00 |\n",
      "19:17:38 202/400  | 147.9019     0.6556   147.2463 |   0.373265   0.0000e+00 |   0.3042     5           | 169.8174     0.6508   169.1666 |   0.3106     5             |  1.250e-04   0.000e+00 |              \n",
      "19:20:35 203/400  | 147.7571     0.6569   147.1002 |   0.373265   0.0000e+00 |   0.3032     5           | 169.9903     0.6510   169.3393 |   0.3107     5             |  1.250e-04   0.000e+00 |              \n",
      "19:23:33 204/400  | 147.7215     0.6572   147.0644 |   0.373265   0.0000e+00 |   0.3029     5           | 169.9619     0.6512   169.3107 |   0.3093     5             |  1.250e-04   0.000e+00 |              \n",
      "19:26:33 205/400  | 147.6888     0.6582   147.0306 |   0.373265   0.0000e+00 |   0.3021     5           | 169.7769     0.6515   169.1255 |   0.3091     5             |  1.250e-04   0.000e+00 |              \n",
      "19:29:33 206/400  | 147.7238     0.6579   147.0660 |   0.373265   0.0000e+00 |   0.3023     5           | 169.9076     0.6538   169.2539 |   0.3072     5             |  1.250e-04   0.000e+00 |              \n",
      "19:32:34 207/400  | 147.6219     0.6584   146.9634 |   0.373265   0.0000e+00 |   0.3018     5           | 169.9195     0.6545   169.2650 |   0.3064     5             |  1.250e-04   0.000e+00 |              \n",
      "19:35:28 208/400  | 147.6259     0.6595   146.9665 |   0.373265   0.0000e+00 |   0.3007     5           | 170.0439     0.6537   169.3902 |   0.3078     5             |  1.250e-04   0.000e+00 |              \n",
      "19:38:28 209/400  | 147.5075     0.6587   146.8487 |   0.373265   0.0000e+00 |   0.3012     5           | 170.2519     0.6519   169.6000 |   0.3093     5             |  1.250e-04   0.000e+00 |              \n",
      "19:41:25 210/400  | 147.3931     0.6601   146.7331 |   0.373265   0.0000e+00 |   0.2999     5           | 170.4306     0.6576   169.7730 |   0.3039     5             |  1.250e-04   0.000e+00 |              \n",
      "19:44:21 211/400  | 147.8119     0.6610   147.1509 |   0.373265   0.0000e+00 |   0.2982     5           | 170.0246     0.6512   169.3734 |   0.3099     5             |  1.250e-04   0.000e+00 |              \n",
      "19:47:16 212/400  | 147.4516     0.6591   146.7925 |   0.373265   0.0000e+00 |   0.3006     5           | 170.1911     0.6518   169.5393 |   0.3096     5             |  1.250e-04   0.000e+00 |              \n",
      "19:50:20 213/400  | 147.4901     0.6593   146.8308 |   0.373265   0.0000e+00 |   0.3014     5           | 170.0084     0.6514   169.3570 |   0.3098     5             |  1.250e-04   0.000e+00 |              \n",
      "19:53:29 214/400  | 147.4085     0.6596   146.7489 |   0.373265   0.0000e+00 |   0.3008     5           | 170.1351     0.6511   169.4840 |   0.3102     5             |  1.250e-04   0.000e+00 |              \n",
      "19:56:36 215/400  | 147.1206     0.6604   146.4602 |   0.373265   0.0000e+00 |   0.2997     5           | 170.3096     0.6538   169.6557 |   0.3079     5             |  1.250e-04   0.000e+00 |              \n",
      "19:59:46 216/400  | 146.9849     0.6609   146.3241 |   0.373265   0.0000e+00 |   0.3001     5           | 170.5340     0.6536   169.8804 |   0.3080     5             |  1.250e-04   0.000e+00 |              \n",
      "20:02:55 217/400  | 146.8401     0.6619   146.1782 |   0.373265   0.0000e+00 |   0.2989     5           | 170.7125     0.6535   170.0590 |   0.3076     5             |  1.250e-04   0.000e+00 |              \n",
      "20:06:04 218/400  | 146.7289     0.6619   146.0670 |   0.373265   0.0000e+00 |   0.2983     5           | 170.9066     0.6539   170.2527 |   0.3072     5             |  1.250e-04   0.000e+00 |              \n",
      "20:09:12 219/400  | 146.6521     0.6632   145.9889 |   0.373265   0.0000e+00 |   0.2971     5           | 171.0022     0.6557   170.3465 |   0.3056     5             |  1.250e-04   0.000e+00 |              \n",
      "20:12:20 220/400  | 146.6010     0.6636   145.9375 |   0.373265   0.0000e+00 |   0.2969     5           | 171.2555     0.6550   170.6005 |   0.3064     5             |  1.250e-04   0.000e+00 |              \n",
      "20:15:27 221/400  | 146.7375     0.6638   146.0737 |   0.373265   0.0000e+00 |   0.2967     5           | 170.9471     0.6561   170.2910 |   0.3052     5             |  1.250e-04   0.000e+00 |              \n",
      "20:18:36 222/400  | 146.6118     0.6645   145.9473 |   0.373265   0.0000e+00 |   0.2961     5           | 171.1837     0.6570   170.5267 |   0.3041     5             |  1.250e-04   0.000e+00 |              \n",
      " 221 - anneal temp  -  counter: 6    before:   0.373265     new_temp:   0.342923 \n",
      "20:21:42 223/400  | 143.3351     0.6650   142.6701 |   0.342923   0.0000e+00 |   0.2959     5           | 170.2943     0.6555   169.6388 |   0.3062     5             |  1.250e-04   0.000e+00 |              \n",
      "20:24:50 224/400  | 143.1828     0.6656   142.5172 |   0.342923   0.0000e+00 |   0.2951     5           | 170.2437     0.6571   169.5866 |   0.3044     5             |  1.250e-04   0.000e+00 |              \n",
      "20:27:59 225/400  | 143.1296     0.6661   142.4635 |   0.342923   0.0000e+00 |   0.2949     5           | 170.4094     0.6574   169.7520 |   0.3038     5             |  1.250e-04   0.000e+00 |              \n",
      "20:31:04 226/400  | 143.0370     0.6669   142.3702 |   0.342923   0.0000e+00 |   0.2941     5           | 170.4801     0.6575   169.8226 |   0.3041     5             |  1.250e-04   0.000e+00 |              \n",
      "20:34:11 227/400  | 142.9903     0.6667   142.3236 |   0.342923   0.0000e+00 |   0.2934     5           | 170.6813     0.6591   170.0222 |   0.3020     5             |  1.250e-04   0.000e+00 |              \n",
      "20:37:18 228/400  | 142.8993     0.6670   142.2322 |   0.342923   0.0000e+00 |   0.2933     5           | 170.5829     0.6606   169.9224 |   0.3008     5             |  1.250e-04   0.000e+00 |              \n",
      "20:40:26 229/400  | 142.9248     0.6684   142.2565 |   0.342923   0.0000e+00 |   0.2918     5           | 170.7466     0.6619   170.0846 |   0.3004     5             |  1.250e-04   0.000e+00 |              \n",
      "20:43:33 230/400  | 143.0543     0.6683   142.3860 |   0.342923   0.0000e+00 |   0.2915     5           | 170.7417     0.6608   170.0808 |   0.3011     5             |  1.250e-04   0.000e+00 |              \n",
      "20:46:34 231/400  | 142.8102     0.6684   142.1417 |   0.342923   0.0000e+00 |   0.2918     5           | 170.9243     0.6618   170.2625 |   0.2998     5             |  1.250e-04   0.000e+00 |              \n",
      "20:49:31 232/400  | 142.7787     0.6689   142.1098 |   0.342923   0.0000e+00 |   0.2917     5           | 170.8620     0.6620   170.2001 |   0.2998     5             |  1.250e-04   0.000e+00 |              \n",
      "20:52:28 233/400  | 142.6692     0.6698   141.9995 |   0.342923   0.0000e+00 |   0.2905     5           | 171.0645     0.6635   170.4009 |   0.2980     5             |  1.250e-04   0.000e+00 |              \n",
      "20:55:25 234/400  | 142.6895     0.6700   142.0195 |   0.342923   0.0000e+00 |   0.2909     5           | 170.9414     0.6625   170.2789 |   0.2993     5             |  1.250e-04   0.000e+00 |              \n",
      "20:58:21 235/400  | 142.5069     0.6703   141.8365 |   0.342923   0.0000e+00 |   0.2902     5           | 171.1537     0.6640   170.4897 |   0.2972     5             |  1.250e-04   0.000e+00 |              \n",
      "21:01:18 236/400  | 142.3703     0.6715   141.6988 |   0.342923   0.0000e+00 |   0.2887     5           | 170.8093     0.6631   170.1462 |   0.2981     5             |  1.250e-04   0.000e+00 |              \n",
      "21:04:14 237/400  | 142.4718     0.6719   141.7998 |   0.342923   0.0000e+00 |   0.2884     5           | 170.9389     0.6644   170.2745 |   0.2970     5             |  1.250e-04   0.000e+00 |              \n",
      "                                                                                                                                                                                                              "
     ]
    },
    {
     "name": "stderr",
     "output_type": "stream",
     "text": [
      "2024-09-24 21:07:11,068 - snnl.models.base - INFO: -  Main learning rate reduced to [6.25e-05]\n"
     ]
    },
    {
     "name": "stdout",
     "output_type": "stream",
     "text": [
      "21:07:11 238/400  | 142.2456     0.6725   141.5730 |   0.342923   0.0000e+00 |   0.2879     5           | 171.1377     0.6635   170.4742 |   0.2966     5             |  1.250e-04   0.000e+00 |\n",
      "21:10:08 239/400  | 142.2690     0.6715   141.5974 |   0.342923   0.0000e+00 |   0.2909     5           | 170.9202     0.6632   170.2571 |   0.2971     5             |  6.250e-05   0.000e+00 |              \n",
      "21:13:05 240/400  | 141.8581     0.6714   141.1867 |   0.342923   0.0000e+00 |   0.2915     5           | 171.0690     0.6635   170.4055 |   0.2973     5             |  6.250e-05   0.000e+00 |              \n",
      "21:16:00 241/400  | 141.5855     0.6723   140.9132 |   0.342923   0.0000e+00 |   0.2907     5           | 171.6797     0.6643   171.0155 |   0.2969     5             |  6.250e-05   0.000e+00 |              \n",
      "21:18:58 242/400  | 141.5643     0.6727   140.8917 |   0.342923   0.0000e+00 |   0.2904     5           | 171.4768     0.6642   170.8127 |   0.2966     5             |  6.250e-05   0.000e+00 |              \n",
      "21:21:53 243/400  | 141.3005     0.6735   140.6270 |   0.342923   0.0000e+00 |   0.2895     5           | 171.6268     0.6656   170.9612 |   0.2954     5             |  6.250e-05   0.000e+00 |              \n",
      "21:24:50 244/400  | 141.1972     0.6745   140.5226 |   0.342923   0.0000e+00 |   0.2884     5           | 171.8548     0.6660   171.1889 |   0.2954     5             |  6.250e-05   0.000e+00 |              \n",
      "21:27:45 245/400  | 141.0979     0.6750   140.4229 |   0.342923   0.0000e+00 |   0.2880     5           | 171.8754     0.6658   171.2095 |   0.2953     5             |  6.250e-05   0.000e+00 |              \n",
      "21:30:42 246/400  | 141.1165     0.6764   140.4401 |   0.342923   0.0000e+00 |   0.2866     5           | 172.0514     0.6684   171.3830 |   0.2936     5             |  6.250e-05   0.000e+00 |              \n",
      "21:33:41 247/400  | 141.0976     0.6760   140.4216 |   0.342923   0.0000e+00 |   0.2869     5           | 171.9216     0.6672   171.2543 |   0.2935     5             |  6.250e-05   0.000e+00 |              \n",
      "21:36:38 248/400  | 140.9643     0.6767   140.2876 |   0.342923   0.0000e+00 |   0.2862     5           | 172.1190     0.6681   171.4509 |   0.2930     5             |  6.250e-05   0.000e+00 |              \n",
      "21:39:36 249/400  | 140.8285     0.6774   140.1512 |   0.342923   0.0000e+00 |   0.2855     5           | 172.1875     0.6691   171.5184 |   0.2919     5             |  6.250e-05   0.000e+00 |              \n",
      "                                                                                                                                                                                                              "
     ]
    },
    {
     "name": "stderr",
     "output_type": "stream",
     "text": [
      "2024-09-24 21:42:32,852 - snnl.utils.utils_ptsnnl - INFO: -  Model exported to ckpts/AE_snnl_dcpb600_250Ltnt_512_20240924_0146_ep_250.pt - epoch: 250\n"
     ]
    },
    {
     "name": "stdout",
     "output_type": "stream",
     "text": [
      "21:42:32 250/400  | 140.8279     0.6783   140.1496 |   0.342923   0.0000e+00 |   0.2845     5           | 172.2891     0.6694   171.6197 |   0.2915     5             |  6.250e-05   0.000e+00 |\n",
      "21:45:31 251/400  | 140.7373     0.6786   140.0587 |   0.342923   0.0000e+00 |   0.2839     5           | 172.3108     0.6702   171.6406 |   0.2908     5             |  6.250e-05   0.000e+00 |              \n",
      "21:48:30 252/400  | 140.6962     0.6795   140.0167 |   0.342923   0.0000e+00 |   0.2834     5           | 172.3062     0.6707   171.6355 |   0.2903     5             |  6.250e-05   0.000e+00 |              \n",
      "21:51:30 253/400  | 140.6544     0.6796   139.9748 |   0.342923   0.0000e+00 |   0.2829     5           | 172.3430     0.6706   171.6724 |   0.2903     5             |  6.250e-05   0.000e+00 |              \n",
      " 252 - anneal temp  -  counter: 7    before:   0.342923     new_temp:   0.318640 \n",
      "21:54:30 254/400  | 137.6718     0.6800   136.9918 |   0.318640   0.0000e+00 |   0.2827     5           | 171.6389     0.6712   170.9677 |   0.2899     5             |  6.250e-05   0.000e+00 |              \n",
      "21:57:28 255/400  | 137.6809     0.6805   137.0004 |   0.318640   0.0000e+00 |   0.2822     5           | 171.6621     0.6716   170.9905 |   0.2894     5             |  6.250e-05   0.000e+00 |              \n",
      "22:00:26 256/400  | 137.6224     0.6811   136.9413 |   0.318640   0.0000e+00 |   0.2821     5           | 171.7307     0.6728   171.0579 |   0.2887     5             |  6.250e-05   0.000e+00 |              \n",
      "22:03:24 257/400  | 137.5323     0.6815   136.8508 |   0.318640   0.0000e+00 |   0.2815     5           | 171.8393     0.6723   171.1670 |   0.2882     5             |  6.250e-05   0.000e+00 |              \n",
      "22:06:24 258/400  | 137.5539     0.6820   136.8719 |   0.318640   0.0000e+00 |   0.2807     5           | 171.6038     0.6735   170.9303 |   0.2877     5             |  6.250e-05   0.000e+00 |              \n",
      "22:09:21 259/400  | 137.4477     0.6822   136.7655 |   0.318640   0.0000e+00 |   0.2806     5           | 171.7671     0.6730   171.0941 |   0.2876     5             |  6.250e-05   0.000e+00 |              \n",
      "22:12:19 260/400  | 137.3371     0.6832   136.6539 |   0.318640   0.0000e+00 |   0.2799     5           | 172.0000     0.6743   171.3257 |   0.2868     5             |  6.250e-05   0.000e+00 |              \n",
      "22:15:20 261/400  | 137.3083     0.6836   136.6248 |   0.318640   0.0000e+00 |   0.2793     5           | 171.9841     0.6751   171.3090 |   0.2858     5             |  6.250e-05   0.000e+00 |              \n",
      "22:18:20 262/400  | 137.2740     0.6843   136.5897 |   0.318640   0.0000e+00 |   0.2785     5           | 172.0937     0.6752   171.4186 |   0.2852     5             |  6.250e-05   0.000e+00 |              \n",
      "22:21:18 263/400  | 137.2438     0.6848   136.5589 |   0.318640   0.0000e+00 |   0.2779     5           | 172.1514     0.6758   171.4756 |   0.2852     5             |  6.250e-05   0.000e+00 |              \n",
      "22:24:13 264/400  | 137.5719     0.6885   136.8834 |   0.318640   0.0000e+00 |   0.2746     5           | 172.0586     0.6768   171.3818 |   0.2836     5             |  6.250e-05   0.000e+00 |              \n",
      "22:27:12 265/400  | 137.3716     0.6866   136.6850 |   0.318640   0.0000e+00 |   0.2765     5           | 172.0865     0.6764   171.4101 |   0.2843     5             |  6.250e-05   0.000e+00 |              \n",
      "22:30:12 266/400  | 137.1738     0.6869   136.4869 |   0.318640   0.0000e+00 |   0.2760     5           | 172.2077     0.6773   171.5305 |   0.2840     5             |  6.250e-05   0.000e+00 |              \n",
      "22:33:11 267/400  | 137.0812     0.6871   136.3940 |   0.318640   0.0000e+00 |   0.2757     5           | 172.1157     0.6780   171.4377 |   0.2832     5             |  6.250e-05   0.000e+00 |              \n",
      "22:36:07 268/400  | 137.0765     0.6877   136.3888 |   0.318640   0.0000e+00 |   0.2752     5           | 172.2680     0.6786   171.5894 |   0.2828     5             |  6.250e-05   0.000e+00 |              \n",
      "22:39:04 269/400  | 137.0333     0.6882   136.3452 |   0.318640   0.0000e+00 |   0.2745     5           | 172.3076     0.6783   171.6293 |   0.2824     5             |  6.250e-05   0.000e+00 |              \n",
      "22:42:03 270/400  | 137.0287     0.6887   136.3400 |   0.318640   0.0000e+00 |   0.2741     5           | 172.3521     0.6784   171.6738 |   0.2823     5             |  6.250e-05   0.000e+00 |              \n",
      "22:45:01 271/400  | 136.9768     0.6891   136.2877 |   0.318640   0.0000e+00 |   0.2738     5           | 172.4097     0.6795   171.7302 |   0.2815     5             |  6.250e-05   0.000e+00 |              \n",
      "22:47:58 272/400  | 137.1389     0.6893   136.4496 |   0.318640   0.0000e+00 |   0.2734     5           | 172.3377     0.6792   171.6585 |   0.2811     5             |  6.250e-05   0.000e+00 |              \n",
      "22:50:55 273/400  | 137.2111     0.6896   136.5215 |   0.318640   0.0000e+00 |   0.2731     5           | 172.4729     0.6799   171.7930 |   0.2801     5             |  6.250e-05   0.000e+00 |              \n",
      "22:53:52 274/400  | 137.0322     0.6899   136.3424 |   0.318640   0.0000e+00 |   0.2730     5           | 172.5039     0.6799   171.8240 |   0.2806     5             |  6.250e-05   0.000e+00 |              \n",
      "22:56:52 275/400  | 136.8776     0.6903   136.1873 |   0.318640   0.0000e+00 |   0.2723     5           | 172.6954     0.6806   172.0148 |   0.2798     5             |  6.250e-05   0.000e+00 |              \n",
      "22:59:50 276/400  | 136.8611     0.6910   136.1702 |   0.318640   0.0000e+00 |   0.2716     5           | 172.5895     0.6816   171.9079 |   0.2789     5             |  6.250e-05   0.000e+00 |              \n",
      "23:02:48 277/400  | 136.7999     0.6916   136.1083 |   0.318640   0.0000e+00 |   0.2710     5           | 172.6843     0.6810   172.0033 |   0.2794     5             |  6.250e-05   0.000e+00 |              \n",
      "23:05:50 278/400  | 136.7811     0.6920   136.0891 |   0.318640   0.0000e+00 |   0.2707     5           | 172.6376     0.6825   171.9551 |   0.2781     5             |  6.250e-05   0.000e+00 |              \n",
      "23:08:50 279/400  | 136.8322     0.6927   136.1395 |   0.318640   0.0000e+00 |   0.2699     5           | 172.6701     0.6828   171.9873 |   0.2778     5             |  6.250e-05   0.000e+00 |              \n",
      "23:11:52 280/400  | 136.9592     0.6933   136.2658 |   0.318640   0.0000e+00 |   0.2694     5           | 172.6114     0.6827   171.9287 |   0.2783     5             |  6.250e-05   0.000e+00 |              \n",
      "23:14:50 281/400  | 136.8065     0.6936   136.1129 |   0.318640   0.0000e+00 |   0.2679     5           | 172.7353     0.6838   172.0515 |   0.2767     5             |  6.250e-05   0.000e+00 |              \n",
      "23:17:52 282/400  | 136.7496     0.6938   136.0559 |   0.318640   0.0000e+00 |   0.2677     5           | 172.7981     0.6832   172.1149 |   0.2764     5             |  6.250e-05   0.000e+00 |              \n",
      "23:20:51 283/400  | 136.7747     0.6948   136.0800 |   0.318640   0.0000e+00 |   0.2670     5           | 172.8105     0.6849   172.1256 |   0.2749     5             |  6.250e-05   0.000e+00 |              \n",
      "23:23:50 284/400  | 136.7353     0.6949   136.0405 |   0.318640   0.0000e+00 |   0.2668     5           | 172.8690     0.6861   172.1829 |   0.2742     5             |  6.250e-05   0.000e+00 |              \n",
      " 283 - anneal temp  -  counter: 8    before:   0.318640     new_temp:   0.298653 \n",
      "23:26:49 285/400  | 133.9852     0.6947   133.2905 |   0.298653   0.0000e+00 |   0.2674     5           | 172.3593     0.6853   171.6740 |   0.2752     5             |  6.250e-05   0.000e+00 |              \n",
      "23:29:48 286/400  | 133.9990     0.6951   133.3039 |   0.298653   0.0000e+00 |   0.2674     5           | 172.2514     0.6853   171.5661 |   0.2753     5             |  6.250e-05   0.000e+00 |              \n",
      "23:32:48 287/400  | 133.9521     0.6952   133.2569 |   0.298653   0.0000e+00 |   0.2672     5           | 172.3362     0.6860   171.6502 |   0.2749     5             |  6.250e-05   0.000e+00 |              \n",
      "23:35:49 288/400  | 133.9841     0.6956   133.2885 |   0.298653   0.0000e+00 |   0.2669     5           | 172.2459     0.6864   171.5596 |   0.2747     5             |  6.250e-05   0.000e+00 |              \n",
      "23:38:48 289/400  | 134.1410     0.6958   133.4452 |   0.298653   0.0000e+00 |   0.2668     5           | 172.1745     0.6867   171.4879 |   0.2753     5             |  6.250e-05   0.000e+00 |              \n",
      "23:41:47 290/400  | 134.0854     0.6954   133.3900 |   0.298653   0.0000e+00 |   0.2672     5           | 172.1818     0.6869   171.4948 |   0.2740     5             |  6.250e-05   0.000e+00 |              \n",
      "23:44:46 291/400  | 133.9051     0.6961   133.2090 |   0.298653   0.0000e+00 |   0.2661     5           | 172.1812     0.6866   171.4946 |   0.2740     5             |  6.250e-05   0.000e+00 |              \n",
      "23:47:45 292/400  | 133.7834     0.6968   133.0866 |   0.298653   0.0000e+00 |   0.2655     5           | 172.2123     0.6870   171.5253 |   0.2736     5             |  6.250e-05   0.000e+00 |              \n",
      "23:50:44 293/400  | 133.8169     0.6971   133.1199 |   0.298653   0.0000e+00 |   0.2651     5           | 172.3840     0.6874   171.6966 |   0.2732     5             |  6.250e-05   0.000e+00 |              \n",
      "23:53:43 294/400  | 133.7924     0.6978   133.0945 |   0.298653   0.0000e+00 |   0.2648     5           | 172.4359     0.6875   171.7484 |   0.2730     5             |  6.250e-05   0.000e+00 |              \n",
      "23:56:40 295/400  | 133.6604     0.6980   132.9624 |   0.298653   0.0000e+00 |   0.2646     5           | 172.5914     0.6881   171.9033 |   0.2727     5             |  6.250e-05   0.000e+00 |              \n",
      "23:59:39 296/400  | 133.7164     0.6990   133.0173 |   0.298653   0.0000e+00 |   0.2639     5           | 172.6187     0.6897   171.9290 |   0.2715     5             |  6.250e-05   0.000e+00 |              \n",
      "00:02:37 297/400  | 133.7368     0.6990   133.0378 |   0.298653   0.0000e+00 |   0.2638     5           | 172.5934     0.6885   171.9048 |   0.2721     5             |  6.250e-05   0.000e+00 |              \n",
      "00:05:35 298/400  | 133.5745     0.6992   132.8753 |   0.298653   0.0000e+00 |   0.2632     5           | 172.5438     0.6896   171.8543 |   0.2711     5             |  6.250e-05   0.000e+00 |              \n",
      "                                                                                                                                                                                                              "
     ]
    },
    {
     "name": "stderr",
     "output_type": "stream",
     "text": [
      "2024-09-25 00:08:34,528 - snnl.models.base - INFO: -  Main learning rate reduced to [3.125e-05]\n"
     ]
    },
    {
     "name": "stdout",
     "output_type": "stream",
     "text": [
      "00:08:34 299/400  | 133.4686     0.6999   132.7688 |   0.298653   0.0000e+00 |   0.2627     5           | 172.5526     0.6901   171.8625 |   0.2708     5             |  6.250e-05   0.000e+00 |\n",
      "                                                                                                                                                                                                              "
     ]
    },
    {
     "name": "stderr",
     "output_type": "stream",
     "text": [
      "2024-09-25 00:11:36,356 - snnl.utils.utils_ptsnnl - INFO: -  Model exported to ckpts/AE_snnl_dcpb600_250Ltnt_512_20240924_0146_ep_300.pt - epoch: 300\n"
     ]
    },
    {
     "name": "stdout",
     "output_type": "stream",
     "text": [
      "00:11:36 300/400  | 133.7037     0.6994   133.0043 |   0.298653   0.0000e+00 |   0.2643     5           | 172.4996     0.6885   171.8111 |   0.2737     5             |  3.125e-05   0.000e+00 |\n",
      "00:14:36 301/400  | 133.5024     0.6994   132.8031 |   0.298653   0.0000e+00 |   0.2645     5           | 172.6467     0.6887   171.9580 |   0.2736     5             |  3.125e-05   0.000e+00 |              \n",
      "00:17:36 302/400  | 133.3353     0.6998   132.6355 |   0.298653   0.0000e+00 |   0.2641     5           | 172.7937     0.6888   172.1048 |   0.2733     5             |  3.125e-05   0.000e+00 |              \n",
      "00:20:36 303/400  | 133.2401     0.7002   132.5399 |   0.298653   0.0000e+00 |   0.2636     5           | 172.9362     0.6893   172.2469 |   0.2730     5             |  3.125e-05   0.000e+00 |              \n",
      "00:23:33 304/400  | 133.1107     0.7004   132.4103 |   0.298653   0.0000e+00 |   0.2635     5           | 173.0439     0.6895   172.3544 |   0.2727     5             |  3.125e-05   0.000e+00 |              \n",
      "00:26:31 305/400  | 133.0062     0.7012   132.3050 |   0.298653   0.0000e+00 |   0.2626     5           | 173.1352     0.6901   172.4452 |   0.2723     5             |  3.125e-05   0.000e+00 |              \n",
      "00:29:28 306/400  | 132.9297     0.7016   132.2281 |   0.298653   0.0000e+00 |   0.2623     5           | 173.2656     0.6905   172.5751 |   0.2717     5             |  3.125e-05   0.000e+00 |              \n",
      "00:32:26 307/400  | 132.8988     0.7020   132.1967 |   0.298653   0.0000e+00 |   0.2618     5           | 173.2464     0.6909   172.5555 |   0.2714     5             |  3.125e-05   0.000e+00 |              \n",
      "00:35:26 308/400  | 132.8500     0.7024   132.1475 |   0.298653   0.0000e+00 |   0.2614     5           | 173.4188     0.6910   172.7277 |   0.2711     5             |  3.125e-05   0.000e+00 |              \n",
      "00:38:24 309/400  | 132.8127     0.7028   132.1098 |   0.298653   0.0000e+00 |   0.2610     5           | 173.3220     0.6916   172.6305 |   0.2706     5             |  3.125e-05   0.000e+00 |              \n",
      "00:41:22 310/400  | 132.7756     0.7032   132.0725 |   0.298653   0.0000e+00 |   0.2607     5           | 173.4581     0.6920   172.7661 |   0.2703     5             |  3.125e-05   0.000e+00 |              \n",
      "00:44:21 311/400  | 132.7511     0.7036   132.0475 |   0.298653   0.0000e+00 |   0.2603     5           | 173.3789     0.6924   172.6865 |   0.2697     5             |  3.125e-05   0.000e+00 |              \n",
      "00:47:20 312/400  | 132.7095     0.7038   132.0057 |   0.298653   0.0000e+00 |   0.2601     5           | 173.5168     0.6927   172.8241 |   0.2694     5             |  3.125e-05   0.000e+00 |              \n",
      "00:50:18 313/400  | 132.6521     0.7041   131.9481 |   0.298653   0.0000e+00 |   0.2597     5           | 173.5120     0.6932   172.8189 |   0.2689     5             |  3.125e-05   0.000e+00 |              \n",
      "00:53:17 314/400  | 132.6342     0.7046   131.9296 |   0.298653   0.0000e+00 |   0.2593     5           | 173.4831     0.6935   172.7896 |   0.2687     5             |  3.125e-05   0.000e+00 |              \n",
      "00:56:17 315/400  | 132.5942     0.7049   131.8893 |   0.298653   0.0000e+00 |   0.2589     5           | 173.5291     0.6940   172.8351 |   0.2680     5             |  3.125e-05   0.000e+00 |              \n",
      " 314 - anneal temp  -  counter: 9    before:   0.298653     new_temp:   0.281838 \n",
      "00:59:18 316/400  | 130.0841     0.7053   129.3788 |   0.281838   0.0000e+00 |   0.2586     5           | 173.2190     0.6941   172.5249 |   0.2682     5             |  3.125e-05   0.000e+00 |              \n",
      "01:02:18 317/400  | 130.1664     0.7073   129.4591 |   0.281838   0.0000e+00 |   0.2569     5           | 173.2333     0.6960   172.5373 |   0.2663     5             |  3.125e-05   0.000e+00 |              \n",
      "01:05:19 318/400  | 130.1054     0.7063   129.3991 |   0.281838   0.0000e+00 |   0.2576     5           | 173.3781     0.6947   172.6834 |   0.2674     5             |  3.125e-05   0.000e+00 |              \n",
      "01:08:18 319/400  | 130.0090     0.7064   129.3026 |   0.281838   0.0000e+00 |   0.2575     5           | 173.2421     0.6960   172.5461 |   0.2662     5             |  3.125e-05   0.000e+00 |              \n",
      "01:11:17 320/400  | 129.9714     0.7065   129.2649 |   0.281838   0.0000e+00 |   0.2574     5           | 173.4354     0.6961   172.7393 |   0.2662     5             |  3.125e-05   0.000e+00 |              \n",
      "01:14:17 321/400  | 129.9101     0.7068   129.2033 |   0.281838   0.0000e+00 |   0.2572     5           | 173.3652     0.6963   172.6690 |   0.2661     5             |  3.125e-05   0.000e+00 |              \n",
      "01:17:13 322/400  | 129.8524     0.7070   129.1453 |   0.281838   0.0000e+00 |   0.2569     5           | 173.5530     0.6965   172.8565 |   0.2658     5             |  3.125e-05   0.000e+00 |              \n",
      "01:20:11 323/400  | 129.8753     0.7073   129.1680 |   0.281838   0.0000e+00 |   0.2566     5           | 173.4114     0.6971   172.7143 |   0.2650     5             |  3.125e-05   0.000e+00 |              \n",
      "01:23:09 324/400  | 129.7882     0.7077   129.0806 |   0.281838   0.0000e+00 |   0.2562     5           | 173.4321     0.6973   172.7348 |   0.2649     5             |  3.125e-05   0.000e+00 |              \n",
      "01:26:10 325/400  | 129.7121     0.7078   129.0043 |   0.281838   0.0000e+00 |   0.2561     5           | 173.5000     0.6974   172.8027 |   0.2648     5             |  3.125e-05   0.000e+00 |              \n",
      "01:29:08 326/400  | 129.7549     0.7079   129.0470 |   0.281838   0.0000e+00 |   0.2559     5           | 173.4483     0.6977   172.7506 |   0.2645     5             |  3.125e-05   0.000e+00 |              \n",
      "01:32:08 327/400  | 129.6996     0.7083   128.9913 |   0.281838   0.0000e+00 |   0.2556     5           | 173.4328     0.6981   172.7348 |   0.2640     5             |  3.125e-05   0.000e+00 |              \n",
      "01:35:06 328/400  | 129.6043     0.7085   128.8958 |   0.281838   0.0000e+00 |   0.2554     5           | 173.6147     0.6985   172.9162 |   0.2638     5             |  3.125e-05   0.000e+00 |              \n",
      "01:38:04 329/400  | 129.5770     0.7088   128.8682 |   0.281838   0.0000e+00 |   0.2552     5           | 173.5833     0.6991   172.8842 |   0.2631     5             |  3.125e-05   0.000e+00 |              \n",
      "01:41:02 330/400  | 129.4974     0.7092   128.7882 |   0.281838   0.0000e+00 |   0.2548     5           | 173.5596     0.6993   172.8602 |   0.2630     5             |  3.125e-05   0.000e+00 |              \n",
      "01:43:59 331/400  | 129.4385     0.7094   128.7291 |   0.281838   0.0000e+00 |   0.2546     5           | 173.6232     0.6994   172.9238 |   0.2629     5             |  3.125e-05   0.000e+00 |              \n",
      "01:46:58 332/400  | 129.4476     0.7096   128.7380 |   0.281838   0.0000e+00 |   0.2545     5           | 173.5658     0.7003   172.8655 |   0.2619     5             |  3.125e-05   0.000e+00 |              \n",
      "01:49:56 333/400  | 129.6658     0.7100   128.9558 |   0.281838   0.0000e+00 |   0.2540     5           | 173.3234     0.7001   172.6234 |   0.2624     5             |  3.125e-05   0.000e+00 |              \n",
      "01:52:57 334/400  | 129.6361     0.7103   128.9258 |   0.281838   0.0000e+00 |   0.2539     5           | 173.4497     0.7013   172.7485 |   0.2609     5             |  3.125e-05   0.000e+00 |              \n",
      "01:55:56 335/400  | 129.3067     0.7106   128.5961 |   0.281838   0.0000e+00 |   0.2533     5           | 173.7782     0.7016   173.0766 |   0.2607     5             |  3.125e-05   0.000e+00 |              \n",
      "01:58:55 336/400  | 129.1803     0.7111   128.4692 |   0.281838   0.0000e+00 |   0.2528     5           | 173.7798     0.7024   173.0774 |   0.2600     5             |  3.125e-05   0.000e+00 |              \n",
      "02:01:55 337/400  | 129.0928     0.7114   128.3815 |   0.281838   0.0000e+00 |   0.2526     5           | 174.0433     0.7022   173.3411 |   0.2601     5             |  3.125e-05   0.000e+00 |              \n",
      "02:04:52 338/400  | 129.0421     0.7115   128.3306 |   0.281838   0.0000e+00 |   0.2525     5           | 174.0747     0.7029   173.3718 |   0.2594     5             |  3.125e-05   0.000e+00 |              \n",
      "02:07:52 339/400  | 128.9972     0.7118   128.2854 |   0.281838   0.0000e+00 |   0.2522     5           | 174.0780     0.7029   173.3751 |   0.2594     5             |  3.125e-05   0.000e+00 |              \n",
      "02:10:51 340/400  | 128.9612     0.7119   128.2493 |   0.281838   0.0000e+00 |   0.2521     5           | 174.2450     0.7032   173.5418 |   0.2593     5             |  3.125e-05   0.000e+00 |              \n",
      "02:13:49 341/400  | 128.8949     0.7121   128.1828 |   0.281838   0.0000e+00 |   0.2519     5           | 174.2530     0.7038   173.5492 |   0.2586     5             |  3.125e-05   0.000e+00 |              \n",
      "02:16:49 342/400  | 128.8473     0.7124   128.1349 |   0.281838   0.0000e+00 |   0.2516     5           | 174.2415     0.7038   173.5377 |   0.2587     5             |  3.125e-05   0.000e+00 |              \n",
      "02:19:46 343/400  | 129.3686     0.7146   128.6541 |   0.281838   0.0000e+00 |   0.2491     5           | 173.8962     0.7062   173.1899 |   0.2526     5             |  3.125e-05   0.000e+00 |              \n",
      "02:22:44 344/400  | 129.1402     0.7145   128.4257 |   0.281838   0.0000e+00 |   0.2487     5           | 174.1028     0.7051   173.3976 |   0.2568     5             |  3.125e-05   0.000e+00 |              \n",
      "02:25:42 345/400  | 128.8269     0.7139   128.1130 |   0.281838   0.0000e+00 |   0.2496     5           | 174.2953     0.7069   173.5883 |   0.2555     5             |  3.125e-05   0.000e+00 |              \n",
      "02:28:40 346/400  | 128.6984     0.7137   127.9847 |   0.281838   0.0000e+00 |   0.2497     5           | 174.3425     0.7051   173.6373 |   0.2572     5             |  3.125e-05   0.000e+00 |              \n",
      " 345 - anneal temp  -  counter: 10    before:   0.281838     new_temp:   0.267445 \n",
      "02:31:37 347/400  | 126.2542     0.7132   125.5411 |   0.267445   0.0000e+00 |   0.2504     5           | 174.2470     0.7048   173.5421 |   0.2576     5             |  3.125e-05   0.000e+00 |              \n",
      "02:34:35 348/400  | 126.2209     0.7133   125.5075 |   0.267445   0.0000e+00 |   0.2503     5           | 174.3417     0.7049   173.6368 |   0.2576     5             |  3.125e-05   0.000e+00 |              \n",
      "02:37:32 349/400  | 126.2256     0.7132   125.5124 |   0.267445   0.0000e+00 |   0.2505     5           | 174.3339     0.7047   173.6292 |   0.2577     5             |  3.125e-05   0.000e+00 |              \n",
      "                                                                                                                                                                                                              "
     ]
    },
    {
     "name": "stderr",
     "output_type": "stream",
     "text": [
      "2024-09-25 02:40:29,206 - snnl.utils.utils_ptsnnl - INFO: -  Model exported to ckpts/AE_snnl_dcpb600_250Ltnt_512_20240924_0146_ep_350.pt - epoch: 350\n"
     ]
    },
    {
     "name": "stdout",
     "output_type": "stream",
     "text": [
      "02:40:29 350/400  | 126.1494     0.7134   125.4360 |   0.267445   0.0000e+00 |   0.2505     5           | 174.3716     0.7046   173.6670 |   0.2577     5             |  3.125e-05   0.000e+00 |\n",
      "02:43:28 351/400  | 126.1435     0.7135   125.4299 |   0.267445   0.0000e+00 |   0.2503     5           | 174.4343     0.7051   173.7293 |   0.2576     5             |  3.125e-05   0.000e+00 |              \n",
      "02:46:28 352/400  | 126.0036     0.7138   125.2898 |   0.267445   0.0000e+00 |   0.2501     5           | 174.4090     0.7051   173.7039 |   0.2573     5             |  3.125e-05   0.000e+00 |              \n",
      "02:49:26 353/400  | 125.9176     0.7139   125.2037 |   0.267445   0.0000e+00 |   0.2501     5           | 174.4340     0.7055   173.7286 |   0.2570     5             |  3.125e-05   0.000e+00 |              \n",
      "02:52:24 354/400  | 125.8899     0.7141   125.1758 |   0.267445   0.0000e+00 |   0.2498     5           | 174.4992     0.7053   173.7939 |   0.2571     5             |  3.125e-05   0.000e+00 |              \n",
      "02:55:20 355/400  | 125.8726     0.7142   125.1584 |   0.267445   0.0000e+00 |   0.2498     5           | 174.5883     0.7048   173.8835 |   0.2576     5             |  3.125e-05   0.000e+00 |              \n",
      "02:58:17 356/400  | 125.8308     0.7143   125.1166 |   0.267445   0.0000e+00 |   0.2497     5           | 174.5922     0.7053   173.8869 |   0.2571     5             |  3.125e-05   0.000e+00 |              \n",
      "03:01:16 357/400  | 125.8098     0.7144   125.0954 |   0.267445   0.0000e+00 |   0.2497     5           | 174.6633     0.7053   173.9580 |   0.2571     5             |  3.125e-05   0.000e+00 |              \n",
      "03:04:13 358/400  | 125.7525     0.7144   125.0381 |   0.267445   0.0000e+00 |   0.2496     5           | 174.5787     0.7054   173.8733 |   0.2571     5             |  3.125e-05   0.000e+00 |              \n",
      "03:07:10 359/400  | 125.6793     0.7145   124.9649 |   0.267445   0.0000e+00 |   0.2495     5           | 174.5758     0.7057   173.8701 |   0.2568     5             |  3.125e-05   0.000e+00 |              \n",
      "                                                                                                                                                                                                              "
     ]
    },
    {
     "name": "stderr",
     "output_type": "stream",
     "text": [
      "2024-09-25 03:10:07,718 - snnl.models.base - INFO: -  Main learning rate reduced to [1.5625e-05]\n"
     ]
    },
    {
     "name": "stdout",
     "output_type": "stream",
     "text": [
      "03:10:07 360/400  | 125.6545     0.7147   124.9398 |   0.267445   0.0000e+00 |   0.2494     5           | 174.6907     0.7054   173.9853 |   0.2571     5             |  3.125e-05   0.000e+00 |\n",
      "03:13:07 361/400  | 125.9868     0.7145   125.2723 |   0.267445   0.0000e+00 |   0.2501     5           | 174.5317     0.7043   173.8274 |   0.2582     5             |  1.563e-05   0.000e+00 |              \n",
      "03:16:06 362/400  | 125.7462     0.7144   125.0318 |   0.267445   0.0000e+00 |   0.2502     5           | 174.6453     0.7043   173.9409 |   0.2581     5             |  1.563e-05   0.000e+00 |              \n",
      "03:19:04 363/400  | 125.5476     0.7146   124.8330 |   0.267445   0.0000e+00 |   0.2499     5           | 174.7882     0.7047   174.0835 |   0.2578     5             |  1.563e-05   0.000e+00 |              \n",
      "03:22:03 364/400  | 125.4048     0.7147   124.6901 |   0.267445   0.0000e+00 |   0.2498     5           | 174.8627     0.7049   174.1578 |   0.2575     5             |  1.563e-05   0.000e+00 |              \n",
      "03:25:03 365/400  | 125.2916     0.7148   124.5767 |   0.267445   0.0000e+00 |   0.2497     5           | 174.9543     0.7052   174.2492 |   0.2572     5             |  1.563e-05   0.000e+00 |              \n",
      "03:28:01 366/400  | 125.2051     0.7150   124.4901 |   0.267445   0.0000e+00 |   0.2495     5           | 174.9891     0.7055   174.2836 |   0.2569     5             |  1.563e-05   0.000e+00 |              \n",
      "03:30:58 367/400  | 125.1583     0.7151   124.4432 |   0.267445   0.0000e+00 |   0.2494     5           | 175.0677     0.7057   174.3621 |   0.2567     5             |  1.563e-05   0.000e+00 |              \n",
      "03:33:57 368/400  | 125.0851     0.7152   124.3699 |   0.267445   0.0000e+00 |   0.2493     5           | 175.0817     0.7058   174.3759 |   0.2566     5             |  1.563e-05   0.000e+00 |              \n",
      "03:36:56 369/400  | 125.0269     0.7154   124.3115 |   0.267445   0.0000e+00 |   0.2492     5           | 175.2039     0.7059   174.4980 |   0.2566     5             |  1.563e-05   0.000e+00 |              \n",
      "03:39:55 370/400  | 124.9675     0.7154   124.2521 |   0.267445   0.0000e+00 |   0.2491     5           | 175.2392     0.7058   174.5334 |   0.2566     5             |  1.563e-05   0.000e+00 |              \n",
      "03:42:57 371/400  | 124.9217     0.7155   124.2061 |   0.267445   0.0000e+00 |   0.2490     5           | 175.2411     0.7060   174.5351 |   0.2564     5             |  1.563e-05   0.000e+00 |              \n",
      "03:45:57 372/400  | 124.8727     0.7156   124.1571 |   0.267445   0.0000e+00 |   0.2489     5           | 175.3192     0.7064   174.6128 |   0.2560     5             |  1.563e-05   0.000e+00 |              \n",
      "03:48:55 373/400  | 124.8345     0.7158   124.1187 |   0.267445   0.0000e+00 |   0.2488     5           | 175.3247     0.7064   174.6183 |   0.2559     5             |  1.563e-05   0.000e+00 |              \n",
      "03:51:54 374/400  | 124.8142     0.7160   124.0982 |   0.267445   0.0000e+00 |   0.2486     5           | 175.3656     0.7064   174.6593 |   0.2560     5             |  1.563e-05   0.000e+00 |              \n",
      "03:54:54 375/400  | 124.8585     0.7161   124.1423 |   0.267445   0.0000e+00 |   0.2485     5           | 175.3548     0.7066   174.6482 |   0.2560     5             |  1.563e-05   0.000e+00 |              \n",
      "03:57:51 376/400  | 124.7508     0.7161   124.0347 |   0.267445   0.0000e+00 |   0.2485     5           | 175.4007     0.7066   174.6941 |   0.2558     5             |  1.563e-05   0.000e+00 |              \n",
      "04:00:48 377/400  | 124.6719     0.7162   123.9557 |   0.267445   0.0000e+00 |   0.2484     5           | 175.5026     0.7069   174.7957 |   0.2555     5             |  1.563e-05   0.000e+00 |              \n",
      " 376 - anneal temp  -  counter: 11    before:   0.267445     new_temp:   0.254947 \n",
      "04:03:47 378/400  | 122.4153     0.7164   121.6989 |   0.254947   0.0000e+00 |   0.2482     5           | 175.5115     0.7070   174.8045 |   0.2553     5             |  1.563e-05   0.000e+00 |              \n",
      "04:06:46 379/400  | 122.3824     0.7164   121.6660 |   0.254947   0.0000e+00 |   0.2480     5           | 175.5305     0.7070   174.8235 |   0.2554     5             |  1.563e-05   0.000e+00 |              \n",
      "04:09:45 380/400  | 122.3613     0.7164   121.6449 |   0.254947   0.0000e+00 |   0.2481     5           | 175.5678     0.7071   174.8607 |   0.2552     5             |  1.563e-05   0.000e+00 |              \n",
      "04:12:44 381/400  | 122.3183     0.7165   121.6018 |   0.254947   0.0000e+00 |   0.2480     5           | 175.5921     0.7073   174.8848 |   0.2551     5             |  1.563e-05   0.000e+00 |              \n",
      "04:15:44 382/400  | 122.2811     0.7166   121.5645 |   0.254947   0.0000e+00 |   0.2479     5           | 175.6727     0.7071   174.9656 |   0.2552     5             |  1.563e-05   0.000e+00 |              \n",
      "04:18:42 383/400  | 122.2402     0.7166   121.5237 |   0.254947   0.0000e+00 |   0.2480     5           | 175.6703     0.7073   174.9630 |   0.2550     5             |  1.563e-05   0.000e+00 |              \n",
      "04:21:43 384/400  | 122.2169     0.7168   121.5001 |   0.254947   0.0000e+00 |   0.2478     5           | 175.7455     0.7077   175.0378 |   0.2548     5             |  1.563e-05   0.000e+00 |              \n",
      "04:24:44 385/400  | 122.1590     0.7168   121.4422 |   0.254947   0.0000e+00 |   0.2478     5           | 175.7100     0.7077   175.0023 |   0.2546     5             |  1.563e-05   0.000e+00 |              \n",
      "04:27:42 386/400  | 122.1230     0.7168   121.4062 |   0.254947   0.0000e+00 |   0.2477     5           | 175.7569     0.7077   175.0492 |   0.2547     5             |  1.563e-05   0.000e+00 |              \n",
      "04:30:39 387/400  | 122.0922     0.7171   121.3751 |   0.254947   0.0000e+00 |   0.2475     5           | 175.7873     0.7077   175.0796 |   0.2547     5             |  1.563e-05   0.000e+00 |              \n",
      "04:33:37 388/400  | 122.0626     0.7170   121.3456 |   0.254947   0.0000e+00 |   0.2475     5           | 175.8425     0.7079   175.1346 |   0.2544     5             |  1.563e-05   0.000e+00 |              \n",
      "04:36:36 389/400  | 122.0332     0.7172   121.3161 |   0.254947   0.0000e+00 |   0.2474     5           | 175.9144     0.7081   175.2063 |   0.2543     5             |  1.563e-05   0.000e+00 |              \n",
      "04:39:35 390/400  | 122.0106     0.7171   121.2934 |   0.254947   0.0000e+00 |   0.2474     5           | 175.8809     0.7081   175.1729 |   0.2544     5             |  1.563e-05   0.000e+00 |              \n",
      "04:42:33 391/400  | 121.9676     0.7172   121.2504 |   0.254947   0.0000e+00 |   0.2474     5           | 175.9266     0.7080   175.2185 |   0.2543     5             |  1.563e-05   0.000e+00 |              \n",
      "04:45:34 392/400  | 121.9276     0.7174   121.2103 |   0.254947   0.0000e+00 |   0.2472     5           | 175.9033     0.7080   175.1953 |   0.2544     5             |  1.563e-05   0.000e+00 |              \n",
      "04:48:32 393/400  | 121.8904     0.7174   121.1730 |   0.254947   0.0000e+00 |   0.2472     5           | 175.9775     0.7084   175.2691 |   0.2540     5             |  1.563e-05   0.000e+00 |              \n",
      "04:51:34 394/400  | 121.8639     0.7176   121.1464 |   0.254947   0.0000e+00 |   0.2470     5           | 176.0477     0.7085   175.3392 |   0.2540     5             |  1.563e-05   0.000e+00 |              \n",
      "04:54:33 395/400  | 121.8426     0.7176   121.1251 |   0.254947   0.0000e+00 |   0.2470     5           | 176.0075     0.7087   175.2988 |   0.2538     5             |  1.563e-05   0.000e+00 |              \n",
      "04:57:32 396/400  | 121.8369     0.7176   121.1193 |   0.254947   0.0000e+00 |   0.2470     5           | 176.0193     0.7082   175.3110 |   0.2543     5             |  1.563e-05   0.000e+00 |              \n",
      "05:00:32 397/400  | 121.9051     0.7177   121.1875 |   0.254947   0.0000e+00 |   0.2470     5           | 176.0560     0.7088   175.3472 |   0.2536     5             |  1.563e-05   0.000e+00 |              \n",
      "05:03:32 398/400  | 121.8209     0.7177   121.1032 |   0.254947   0.0000e+00 |   0.2468     5           | 176.0670     0.7087   175.3583 |   0.2538     5             |  1.563e-05   0.000e+00 |              \n",
      "05:06:32 399/400  | 121.7349     0.7179   121.0170 |   0.254947   0.0000e+00 |   0.2467     5           | 176.1708     0.7089   175.4620 |   0.2535     5             |  1.563e-05   0.000e+00 |              \n",
      "                                                                                                                                                                                                              "
     ]
    },
    {
     "name": "stderr",
     "output_type": "stream",
     "text": [
      "2024-09-25 05:09:32,799 - snnl.utils.utils_ptsnnl - INFO: -  Model exported to ckpts/AE_snnl_dcpb600_250Ltnt_512_20240924_0146_ep_400.pt - epoch: 400\n"
     ]
    },
    {
     "name": "stdout",
     "output_type": "stream",
     "text": [
      "05:09:32 400/400  | 121.6985     0.7181   120.9804 |   0.254947   0.0000e+00 |   0.2465     5           | 176.1800     0.7088   175.4712 |   0.2537     5             |  1.563e-05   0.000e+00 |\n",
      "Last Epoch 400\n"
     ]
    },
    {
     "name": "stderr",
     "output_type": "stream",
     "text": [
      "2024-09-25 05:09:32,894 - snnl.utils.utils_ptsnnl - INFO: -  Model exported to ckpts/AE_snnl_dcpb600_250Ltnt_512_20240924_0146_LAST_ep_400.pt - epoch: 400\n"
     ]
    },
    {
     "name": "stdout",
     "output_type": "stream",
     "text": [
      " 2024-09-25 05:09:32  End: epoch  400 of  400\n"
     ]
    }
   ],
   "source": [
    "print(f\" {datetime.now().strftime('%Y-%m-%d %H:%M:%S')}  Start: epoch {model.starting_epoch+1:4d} of {model.ending_epoch:4d}\")\n",
    "model.fit(args, data_loaders)\n",
    "print(f\" {datetime.now().strftime('%Y-%m-%d %H:%M:%S')}  End: epoch {model.epoch + 1:4d} of {model.ending_epoch:4d}\")"
   ]
  },
  {
   "cell_type": "code",
   "execution_count": 36,
   "id": "77834949-ec11-4d1e-976e-65f5c47eaf64",
   "metadata": {
    "execution": {
     "iopub.execute_input": "2024-09-25T17:57:19.416057Z",
     "iopub.status.busy": "2024-09-25T17:57:19.415474Z",
     "iopub.status.idle": "2024-09-26T03:51:35.699047Z",
     "shell.execute_reply": "2024-09-26T03:51:35.697949Z",
     "shell.execute_reply.started": "2024-09-25T17:57:19.416013Z"
    }
   },
   "outputs": [
    {
     "name": "stdout",
     "output_type": "stream",
     "text": [
      " 2024-09-25 19:57:19  Start: epoch  401 of  600\n",
      "  time   ep / eps |  Trn_loss   Primary      SNNL  |   temp*         grad    |   R2      BestEp         |  Vld_loss   Primary      SNNL  |   R2       BestEp          |   LR        temp LR    |              \n",
      "------------------+--------------------------------+-------------------------+--------------------------+--------------------------------+----------------------------|------------------------|\n",
      "20:00:19 401/600  | 121.6740     0.7180   120.9560 |   0.254947   0.0000e+00 |   0.2466     5           | 176.1916     0.7088   175.4828 |   0.2537     5             |  1.563e-05   0.000e+00 |\n",
      "20:03:17 402/600  | 121.6372     0.7182   120.9191 |   0.254947   0.0000e+00 |   0.2464     5           | 176.2649     0.7086   175.5563 |   0.2538     5             |  1.563e-05   0.000e+00 |              \n",
      "20:06:15 403/600  | 121.6087     0.7182   120.8905 |   0.254947   0.0000e+00 |   0.2464     5           | 176.2988     0.7092   175.5896 |   0.2532     5             |  1.563e-05   0.000e+00 |              \n",
      "20:09:11 404/600  | 121.5821     0.7182   120.8639 |   0.254947   0.0000e+00 |   0.2464     5           | 176.2720     0.7091   175.5628 |   0.2534     5             |  1.563e-05   0.000e+00 |              \n",
      "20:12:09 405/600  | 121.5649     0.7183   120.8466 |   0.254947   0.0000e+00 |   0.2463     5           | 176.3139     0.7089   175.6049 |   0.2534     5             |  1.563e-05   0.000e+00 |              \n",
      "20:15:06 406/600  | 121.5784     0.7184   120.8600 |   0.254947   0.0000e+00 |   0.2462     5           | 176.2001     0.7092   175.4909 |   0.2532     5             |  1.563e-05   0.000e+00 |              \n",
      "20:18:04 407/600  | 121.6002     0.7184   120.8818 |   0.254947   0.0000e+00 |   0.2462     5           | 176.3057     0.7088   175.5969 |   0.2536     5             |  1.563e-05   0.000e+00 |              \n",
      "20:20:59 408/600  | 121.5238     0.7185   120.8054 |   0.254947   0.0000e+00 |   0.2461     5           | 176.3644     0.7094   175.6550 |   0.2531     5             |  1.563e-05   0.000e+00 |              \n",
      " 407 - anneal temp  -  counter: 12    before:   0.254947     new_temp:   0.243967 \n",
      "20:23:56 409/600  | 119.4303     0.7187   118.7117 |   0.243967   0.0000e+00 |   0.2459     5           | 176.5412     0.7092   175.8321 |   0.2533     5             |  1.563e-05   0.000e+00 |              \n",
      "20:26:55 410/600  | 119.3984     0.7186   118.6798 |   0.243967   0.0000e+00 |   0.2460     5           | 176.4674     0.7089   175.7585 |   0.2536     5             |  1.563e-05   0.000e+00 |              \n",
      "20:29:52 411/600  | 119.4072     0.7191   118.6881 |   0.243967   0.0000e+00 |   0.2458     5           | 176.5722     0.7103   175.8619 |   0.2530     5             |  1.563e-05   0.000e+00 |              \n",
      "20:32:49 412/600  | 119.3716     0.7191   118.6525 |   0.243967   0.0000e+00 |   0.2455     5           | 176.6509     0.7095   175.9414 |   0.2530     5             |  1.563e-05   0.000e+00 |              \n",
      "20:35:46 413/600  | 119.3861     0.7190   118.6671 |   0.243967   0.0000e+00 |   0.2455     5           | 176.5461     0.7095   175.8366 |   0.2529     5             |  1.563e-05   0.000e+00 |              \n",
      "20:38:40 414/600  | 119.3520     0.7189   118.6330 |   0.243967   0.0000e+00 |   0.2456     5           | 176.6509     0.7091   175.9418 |   0.2533     5             |  1.563e-05   0.000e+00 |              \n",
      "20:41:40 415/600  | 119.2717     0.7189   118.5528 |   0.243967   0.0000e+00 |   0.2456     5           | 176.7242     0.7094   176.0149 |   0.2531     5             |  1.563e-05   0.000e+00 |              \n",
      "20:44:37 416/600  | 119.2689     0.7190   118.5499 |   0.243967   0.0000e+00 |   0.2456     5           | 176.7870     0.7094   176.0777 |   0.2530     5             |  1.563e-05   0.000e+00 |              \n",
      "20:47:35 417/600  | 119.2166     0.7192   118.4974 |   0.243967   0.0000e+00 |   0.2454     5           | 176.7222     0.7095   176.0127 |   0.2529     5             |  1.563e-05   0.000e+00 |              \n",
      "20:50:31 418/600  | 119.1928     0.7192   118.4736 |   0.243967   0.0000e+00 |   0.2454     5           | 176.8067     0.7095   176.0971 |   0.2529     5             |  1.563e-05   0.000e+00 |              \n",
      "20:53:28 419/600  | 119.1689     0.7193   118.4496 |   0.243967   0.0000e+00 |   0.2453     5           | 176.8846     0.7095   176.1751 |   0.2529     5             |  1.563e-05   0.000e+00 |              \n",
      "20:56:25 420/600  | 119.1531     0.7193   118.4338 |   0.243967   0.0000e+00 |   0.2453     5           | 176.9364     0.7098   176.2266 |   0.2527     5             |  1.563e-05   0.000e+00 |              \n",
      "                                                                                                                                                                                                              "
     ]
    },
    {
     "name": "stderr",
     "output_type": "stream",
     "text": [
      "2024-09-25 20:59:23,642 - snnl.models.base - INFO: -  Main learning rate reduced to [7.8125e-06]\n"
     ]
    },
    {
     "name": "stdout",
     "output_type": "stream",
     "text": [
      "20:59:23 421/600  | 119.1240     0.7194   118.4046 |   0.243967   0.0000e+00 |   0.2452     5           | 176.8340     0.7097   176.1243 |   0.2527     5             |  1.563e-05   0.000e+00 |\n",
      "21:02:21 422/600  | 119.1699     0.7193   118.4506 |   0.243967   0.0000e+00 |   0.2456     5           | 176.9051     0.7092   176.1959 |   0.2534     5             |  7.813e-06   0.000e+00 |              \n",
      "21:05:19 423/600  | 119.0497     0.7194   118.3303 |   0.243967   0.0000e+00 |   0.2455     5           | 177.0129     0.7092   176.3037 |   0.2534     5             |  7.813e-06   0.000e+00 |              \n",
      "21:08:18 424/600  | 118.9845     0.7194   118.2651 |   0.243967   0.0000e+00 |   0.2454     5           | 177.0986     0.7091   176.3895 |   0.2534     5             |  7.813e-06   0.000e+00 |              \n",
      "21:11:17 425/600  | 118.9490     0.7195   118.2296 |   0.243967   0.0000e+00 |   0.2454     5           | 177.1369     0.7092   176.4277 |   0.2533     5             |  7.813e-06   0.000e+00 |              \n",
      "21:14:16 426/600  | 118.9283     0.7195   118.2088 |   0.243967   0.0000e+00 |   0.2453     5           | 177.2077     0.7093   176.4985 |   0.2533     5             |  7.813e-06   0.000e+00 |              \n",
      "21:17:16 427/600  | 118.9099     0.7196   118.1904 |   0.243967   0.0000e+00 |   0.2453     5           | 177.1740     0.7093   176.4647 |   0.2532     5             |  7.813e-06   0.000e+00 |              \n",
      "21:20:13 428/600  | 118.8964     0.7196   118.1768 |   0.243967   0.0000e+00 |   0.2452     5           | 177.2548     0.7093   176.5455 |   0.2532     5             |  7.813e-06   0.000e+00 |              \n",
      "21:23:10 429/600  | 118.8841     0.7196   118.1645 |   0.243967   0.0000e+00 |   0.2453     5           | 177.2429     0.7094   176.5335 |   0.2531     5             |  7.813e-06   0.000e+00 |              \n",
      "21:26:05 430/600  | 118.8702     0.7197   118.1505 |   0.243967   0.0000e+00 |   0.2452     5           | 177.2858     0.7092   176.5766 |   0.2533     5             |  7.813e-06   0.000e+00 |              \n",
      "21:29:06 431/600  | 118.8563     0.7197   118.1366 |   0.243967   0.0000e+00 |   0.2453     5           | 177.2803     0.7094   176.5709 |   0.2531     5             |  7.813e-06   0.000e+00 |              \n",
      "21:32:02 432/600  | 118.8390     0.7197   118.1193 |   0.243967   0.0000e+00 |   0.2452     5           | 177.3259     0.7094   176.6165 |   0.2532     5             |  7.813e-06   0.000e+00 |              \n",
      "21:35:00 433/600  | 118.8220     0.7198   118.1022 |   0.243967   0.0000e+00 |   0.2451     5           | 177.3371     0.7095   176.6276 |   0.2530     5             |  7.813e-06   0.000e+00 |              \n",
      "21:37:57 434/600  | 118.8073     0.7198   118.0875 |   0.243967   0.0000e+00 |   0.2451     5           | 177.3943     0.7095   176.6849 |   0.2531     5             |  7.813e-06   0.000e+00 |              \n",
      "21:40:56 435/600  | 118.8067     0.7198   118.0869 |   0.243967   0.0000e+00 |   0.2451     5           | 177.3348     0.7096   176.6252 |   0.2530     5             |  7.813e-06   0.000e+00 |              \n",
      "21:43:53 436/600  | 118.7851     0.7199   118.0652 |   0.243967   0.0000e+00 |   0.2450     5           | 177.4526     0.7096   176.7431 |   0.2530     5             |  7.813e-06   0.000e+00 |              \n",
      "21:46:52 437/600  | 118.7581     0.7199   118.0382 |   0.243967   0.0000e+00 |   0.2450     5           | 177.4147     0.7096   176.7051 |   0.2529     5             |  7.813e-06   0.000e+00 |              \n",
      "21:49:49 438/600  | 118.7302     0.7199   118.0103 |   0.243967   0.0000e+00 |   0.2450     5           | 177.5134     0.7096   176.8038 |   0.2530     5             |  7.813e-06   0.000e+00 |              \n",
      "21:52:46 439/600  | 118.7050     0.7200   117.9850 |   0.243967   0.0000e+00 |   0.2450     5           | 177.4630     0.7095   176.7535 |   0.2530     5             |  7.813e-06   0.000e+00 |              \n",
      " 438 - anneal temp  -  counter: 13    before:   0.243967     new_temp:   0.234223 \n",
      "21:55:43 440/600  | 116.7979     0.7200   116.0779 |   0.234223   0.0000e+00 |   0.2449     5           | 177.7359     0.7096   177.0263 |   0.2529     5             |  7.813e-06   0.000e+00 |              \n",
      "21:58:41 441/600  | 116.7999     0.7200   116.0799 |   0.234223   0.0000e+00 |   0.2449     5           | 177.7182     0.7095   177.0087 |   0.2530     5             |  7.813e-06   0.000e+00 |              \n",
      "22:01:37 442/600  | 116.8384     0.7200   116.1184 |   0.234223   0.0000e+00 |   0.2449     5           | 177.7921     0.7096   177.0825 |   0.2528     5             |  7.813e-06   0.000e+00 |              \n",
      "22:04:37 443/600  | 116.7694     0.7201   116.0493 |   0.234223   0.0000e+00 |   0.2448     5           | 177.8037     0.7097   177.0940 |   0.2528     5             |  7.813e-06   0.000e+00 |              \n",
      "22:07:35 444/600  | 116.7277     0.7200   116.0076 |   0.234223   0.0000e+00 |   0.2449     5           | 177.8775     0.7096   177.1679 |   0.2529     5             |  7.813e-06   0.000e+00 |              \n",
      "22:10:34 445/600  | 116.7109     0.7201   115.9908 |   0.234223   0.0000e+00 |   0.2448     5           | 177.8687     0.7098   177.1589 |   0.2528     5             |  7.813e-06   0.000e+00 |              \n",
      "22:13:32 446/600  | 116.6976     0.7201   115.9775 |   0.234223   0.0000e+00 |   0.2448     5           | 177.9117     0.7097   177.2020 |   0.2529     5             |  7.813e-06   0.000e+00 |              \n",
      "22:16:29 447/600  | 116.6778     0.7202   115.9577 |   0.234223   0.0000e+00 |   0.2448     5           | 177.9074     0.7097   177.1976 |   0.2528     5             |  7.813e-06   0.000e+00 |              \n",
      "22:19:27 448/600  | 116.6651     0.7201   115.9450 |   0.234223   0.0000e+00 |   0.2448     5           | 177.9970     0.7098   177.2872 |   0.2528     5             |  7.813e-06   0.000e+00 |              \n",
      "22:22:23 449/600  | 116.6682     0.7202   115.9480 |   0.234223   0.0000e+00 |   0.2447     5           | 177.9225     0.7098   177.2127 |   0.2528     5             |  7.813e-06   0.000e+00 |              \n",
      "                                                                                                                                                                                                              "
     ]
    },
    {
     "name": "stderr",
     "output_type": "stream",
     "text": [
      "2024-09-25 22:25:19,621 - snnl.utils.utils_ptsnnl - INFO: -  Model exported to ckpts/AE_snnl_dcpb600_250Ltnt_512_20240924_0146_ep_450.pt - epoch: 450\n"
     ]
    },
    {
     "name": "stdout",
     "output_type": "stream",
     "text": [
      "22:25:19 450/600  | 116.6450     0.7201   115.9248 |   0.234223   0.0000e+00 |   0.2448     5           | 177.9752     0.7098   177.2654 |   0.2528     5             |  7.813e-06   0.000e+00 |\n",
      "22:28:18 451/600  | 116.6055     0.7203   115.8852 |   0.234223   0.0000e+00 |   0.2447     5           | 177.9951     0.7098   177.2853 |   0.2528     5             |  7.813e-06   0.000e+00 |              \n",
      "22:31:17 452/600  | 116.5768     0.7203   115.8566 |   0.234223   0.0000e+00 |   0.2447     5           | 178.0726     0.7098   177.3628 |   0.2528     5             |  7.813e-06   0.000e+00 |              \n",
      "22:34:15 453/600  | 116.5585     0.7203   115.8382 |   0.234223   0.0000e+00 |   0.2447     5           | 178.0606     0.7099   177.3507 |   0.2527     5             |  7.813e-06   0.000e+00 |              \n",
      "22:37:13 454/600  | 116.5434     0.7203   115.8231 |   0.234223   0.0000e+00 |   0.2447     5           | 178.0546     0.7098   177.3448 |   0.2528     5             |  7.813e-06   0.000e+00 |              \n",
      "22:40:09 455/600  | 116.5292     0.7204   115.8089 |   0.234223   0.0000e+00 |   0.2446     5           | 178.0579     0.7101   177.3478 |   0.2525     5             |  7.813e-06   0.000e+00 |              \n",
      "22:43:06 456/600  | 116.5158     0.7204   115.7953 |   0.234223   0.0000e+00 |   0.2446     5           | 178.1292     0.7099   177.4193 |   0.2527     5             |  7.813e-06   0.000e+00 |              \n",
      "22:46:04 457/600  | 116.4963     0.7205   115.7758 |   0.234223   0.0000e+00 |   0.2445     5           | 178.1456     0.7101   177.4354 |   0.2525     5             |  7.813e-06   0.000e+00 |              \n",
      "22:49:00 458/600  | 116.4830     0.7204   115.7626 |   0.234223   0.0000e+00 |   0.2446     5           | 178.1425     0.7099   177.4326 |   0.2528     5             |  7.813e-06   0.000e+00 |              \n",
      "22:51:59 459/600  | 116.4650     0.7205   115.7445 |   0.234223   0.0000e+00 |   0.2445     5           | 178.1626     0.7102   177.4524 |   0.2525     5             |  7.813e-06   0.000e+00 |              \n",
      "22:54:59 460/600  | 116.4444     0.7205   115.7239 |   0.234223   0.0000e+00 |   0.2445     5           | 178.1647     0.7101   177.4547 |   0.2526     5             |  7.813e-06   0.000e+00 |              \n",
      "22:58:00 461/600  | 116.4256     0.7205   115.7051 |   0.234223   0.0000e+00 |   0.2445     5           | 178.1786     0.7101   177.4685 |   0.2526     5             |  7.813e-06   0.000e+00 |              \n",
      "23:00:56 462/600  | 116.4167     0.7205   115.6962 |   0.234223   0.0000e+00 |   0.2445     5           | 178.1973     0.7100   177.4873 |   0.2527     5             |  7.813e-06   0.000e+00 |              \n",
      "23:03:54 463/600  | 116.3990     0.7206   115.6784 |   0.234223   0.0000e+00 |   0.2444     5           | 178.2845     0.7101   177.5744 |   0.2526     5             |  7.813e-06   0.000e+00 |              \n",
      "23:06:51 464/600  | 116.3782     0.7207   115.6575 |   0.234223   0.0000e+00 |   0.2444     5           | 178.2508     0.7102   177.5406 |   0.2525     5             |  7.813e-06   0.000e+00 |              \n",
      "23:09:49 465/600  | 116.3622     0.7206   115.6415 |   0.234223   0.0000e+00 |   0.2444     5           | 178.2910     0.7101   177.5808 |   0.2526     5             |  7.813e-06   0.000e+00 |              \n",
      "23:12:47 466/600  | 116.3457     0.7207   115.6250 |   0.234223   0.0000e+00 |   0.2444     5           | 178.2729     0.7103   177.5626 |   0.2524     5             |  7.813e-06   0.000e+00 |              \n",
      "23:15:44 467/600  | 116.3450     0.7207   115.6243 |   0.234223   0.0000e+00 |   0.2443     5           | 178.2704     0.7104   177.5600 |   0.2524     5             |  7.813e-06   0.000e+00 |              \n",
      "23:18:42 468/600  | 116.3301     0.7208   115.6093 |   0.234223   0.0000e+00 |   0.2443     5           | 178.2843     0.7102   177.5740 |   0.2525     5             |  7.813e-06   0.000e+00 |              \n",
      "23:21:41 469/600  | 116.2959     0.7208   115.5751 |   0.234223   0.0000e+00 |   0.2443     5           | 178.3424     0.7103   177.6321 |   0.2524     5             |  7.813e-06   0.000e+00 |              \n",
      "23:24:38 470/600  | 116.2791     0.7209   115.5583 |   0.234223   0.0000e+00 |   0.2442     5           | 178.3138     0.7107   177.6031 |   0.2521     5             |  7.813e-06   0.000e+00 |              \n",
      " 469 - anneal temp  -  counter: 14    before:   0.234223     new_temp:   0.225502 \n",
      "23:27:35 471/600  | 114.5208     0.7209   113.7999 |   0.225502   0.0000e+00 |   0.2442     5           | 178.6190     0.7105   177.9086 |   0.2523     5             |  7.813e-06   0.000e+00 |              \n",
      "23:30:34 472/600  | 114.5251     0.7209   113.8042 |   0.225502   0.0000e+00 |   0.2442     5           | 178.6343     0.7104   177.9239 |   0.2524     5             |  7.813e-06   0.000e+00 |              \n",
      "23:33:32 473/600  | 114.4941     0.7209   113.7732 |   0.225502   0.0000e+00 |   0.2442     5           | 178.6620     0.7106   177.9514 |   0.2521     5             |  7.813e-06   0.000e+00 |              \n",
      "23:36:31 474/600  | 114.4716     0.7210   113.7507 |   0.225502   0.0000e+00 |   0.2441     5           | 178.6709     0.7105   177.9605 |   0.2523     5             |  7.813e-06   0.000e+00 |              \n",
      "23:39:28 475/600  | 114.4517     0.7210   113.7307 |   0.225502   0.0000e+00 |   0.2441     5           | 178.7426     0.7107   178.0319 |   0.2521     5             |  7.813e-06   0.000e+00 |              \n",
      "23:42:25 476/600  | 114.4366     0.7211   113.7155 |   0.225502   0.0000e+00 |   0.2440     5           | 178.6195     0.7107   177.9088 |   0.2521     5             |  7.813e-06   0.000e+00 |              \n",
      "23:45:22 477/600  | 114.4193     0.7210   113.6983 |   0.225502   0.0000e+00 |   0.2441     5           | 178.6828     0.7106   177.9722 |   0.2522     5             |  7.813e-06   0.000e+00 |              \n",
      "23:48:18 478/600  | 114.4053     0.7211   113.6842 |   0.225502   0.0000e+00 |   0.2440     5           | 178.7081     0.7105   177.9976 |   0.2522     5             |  7.813e-06   0.000e+00 |              \n",
      "23:51:16 479/600  | 114.3873     0.7210   113.6663 |   0.225502   0.0000e+00 |   0.2441     5           | 178.7211     0.7108   178.0103 |   0.2520     5             |  7.813e-06   0.000e+00 |              \n",
      "23:54:14 480/600  | 114.3593     0.7211   113.6382 |   0.225502   0.0000e+00 |   0.2440     5           | 178.7008     0.7105   177.9903 |   0.2523     5             |  7.813e-06   0.000e+00 |              \n",
      "23:57:12 481/600  | 114.3406     0.7211   113.6196 |   0.225502   0.0000e+00 |   0.2441     5           | 178.7728     0.7107   178.0621 |   0.2521     5             |  7.813e-06   0.000e+00 |              \n",
      "                                                                                                                                                                                                              "
     ]
    },
    {
     "name": "stderr",
     "output_type": "stream",
     "text": [
      "2024-09-26 00:00:10,020 - snnl.models.base - INFO: -  Main learning rate reduced to [3.90625e-06]\n"
     ]
    },
    {
     "name": "stdout",
     "output_type": "stream",
     "text": [
      "00:00:10 482/600  | 114.3241     0.7211   113.6031 |   0.225502   0.0000e+00 |   0.2440     5           | 178.7552     0.7107   178.0445 |   0.2521     5             |  7.813e-06   0.000e+00 |\n",
      "00:03:07 483/600  | 114.3376     0.7211   113.6165 |   0.225502   0.0000e+00 |   0.2441     5           | 178.8315     0.7104   178.1211 |   0.2524     5             |  3.906e-06   0.000e+00 |              \n",
      "00:06:06 484/600  | 114.2521     0.7211   113.5310 |   0.225502   0.0000e+00 |   0.2441     5           | 178.8821     0.7103   178.1717 |   0.2524     5             |  3.906e-06   0.000e+00 |              \n",
      "00:09:02 485/600  | 114.2231     0.7212   113.5020 |   0.225502   0.0000e+00 |   0.2441     5           | 178.9133     0.7104   178.2029 |   0.2523     5             |  3.906e-06   0.000e+00 |              \n",
      "00:12:00 486/600  | 114.2044     0.7212   113.4833 |   0.225502   0.0000e+00 |   0.2440     5           | 178.9287     0.7105   178.2182 |   0.2523     5             |  3.906e-06   0.000e+00 |              \n",
      "00:14:59 487/600  | 114.1907     0.7212   113.4695 |   0.225502   0.0000e+00 |   0.2440     5           | 178.9422     0.7105   178.2317 |   0.2523     5             |  3.906e-06   0.000e+00 |              \n",
      "00:17:58 488/600  | 114.1810     0.7212   113.4598 |   0.225502   0.0000e+00 |   0.2440     5           | 178.9569     0.7105   178.2464 |   0.2523     5             |  3.906e-06   0.000e+00 |              \n",
      "00:20:57 489/600  | 114.1725     0.7212   113.4513 |   0.225502   0.0000e+00 |   0.2440     5           | 178.9652     0.7105   178.2547 |   0.2523     5             |  3.906e-06   0.000e+00 |              \n",
      "00:23:55 490/600  | 114.1629     0.7212   113.4417 |   0.225502   0.0000e+00 |   0.2440     5           | 178.9704     0.7105   178.2599 |   0.2523     5             |  3.906e-06   0.000e+00 |              \n",
      "00:26:52 491/600  | 114.1536     0.7212   113.4323 |   0.225502   0.0000e+00 |   0.2440     5           | 178.9728     0.7105   178.2622 |   0.2522     5             |  3.906e-06   0.000e+00 |              \n",
      "00:29:48 492/600  | 114.1439     0.7213   113.4226 |   0.225502   0.0000e+00 |   0.2440     5           | 178.9877     0.7106   178.2771 |   0.2522     5             |  3.906e-06   0.000e+00 |              \n",
      "00:32:46 493/600  | 114.1355     0.7213   113.4142 |   0.225502   0.0000e+00 |   0.2439     5           | 178.9788     0.7106   178.2682 |   0.2522     5             |  3.906e-06   0.000e+00 |              \n",
      "00:35:46 494/600  | 114.1271     0.7213   113.4059 |   0.225502   0.0000e+00 |   0.2440     5           | 178.9867     0.7106   178.2761 |   0.2522     5             |  3.906e-06   0.000e+00 |              \n",
      "00:38:43 495/600  | 114.1128     0.7213   113.3915 |   0.225502   0.0000e+00 |   0.2439     5           | 178.9929     0.7106   178.2823 |   0.2521     5             |  3.906e-06   0.000e+00 |              \n",
      "00:41:40 496/600  | 114.0976     0.7213   113.3764 |   0.225502   0.0000e+00 |   0.2439     5           | 179.0244     0.7106   178.3138 |   0.2522     5             |  3.906e-06   0.000e+00 |              \n",
      "00:44:37 497/600  | 114.0832     0.7213   113.3619 |   0.225502   0.0000e+00 |   0.2439     5           | 179.0217     0.7106   178.3110 |   0.2522     5             |  3.906e-06   0.000e+00 |              \n",
      "00:47:36 498/600  | 114.0733     0.7213   113.3520 |   0.225502   0.0000e+00 |   0.2439     5           | 179.0314     0.7107   178.3207 |   0.2521     5             |  3.906e-06   0.000e+00 |              \n",
      "00:50:37 499/600  | 114.0611     0.7214   113.3397 |   0.225502   0.0000e+00 |   0.2438     5           | 179.0332     0.7106   178.3225 |   0.2521     5             |  3.906e-06   0.000e+00 |              \n",
      "                                                                                                                                                                                                              "
     ]
    },
    {
     "name": "stderr",
     "output_type": "stream",
     "text": [
      "2024-09-26 00:53:37,464 - snnl.utils.utils_ptsnnl - INFO: -  Model exported to ckpts/AE_snnl_dcpb600_250Ltnt_512_20240924_0146_ep_500.pt - epoch: 500\n"
     ]
    },
    {
     "name": "stdout",
     "output_type": "stream",
     "text": [
      "00:53:37 500/600  | 114.0445     0.7213   113.3232 |   0.225502   0.0000e+00 |   0.2439     5           | 179.0461     0.7107   178.3353 |   0.2521     5             |  3.906e-06   0.000e+00 |\n",
      "00:56:35 501/600  | 114.0304     0.7214   113.3090 |   0.225502   0.0000e+00 |   0.2438     5           | 179.0528     0.7107   178.3420 |   0.2521     5             |  3.906e-06   0.000e+00 |              \n",
      " 500 - anneal temp  -  counter: 15    before:   0.225502     new_temp:   0.217638 \n",
      "00:59:33 502/600  | 112.3988     0.7214   111.6774 |   0.217638   0.0000e+00 |   0.2438     5           | 179.4062     0.7108   178.6954 |   0.2520     5             |  3.906e-06   0.000e+00 |              \n",
      "01:02:31 503/600  | 112.3900     0.7215   111.6685 |   0.217638   0.0000e+00 |   0.2438     5           | 179.4354     0.7108   178.7245 |   0.2520     5             |  3.906e-06   0.000e+00 |              \n",
      "01:05:32 504/600  | 112.3789     0.7214   111.6575 |   0.217638   0.0000e+00 |   0.2438     5           | 179.4361     0.7108   178.7252 |   0.2520     5             |  3.906e-06   0.000e+00 |              \n",
      "01:08:29 505/600  | 112.3634     0.7215   111.6419 |   0.217638   0.0000e+00 |   0.2437     5           | 179.4454     0.7109   178.7345 |   0.2519     5             |  3.906e-06   0.000e+00 |              \n",
      "01:11:29 506/600  | 112.3506     0.7214   111.6291 |   0.217638   0.0000e+00 |   0.2438     5           | 179.4439     0.7108   178.7330 |   0.2520     5             |  3.906e-06   0.000e+00 |              \n",
      "01:14:27 507/600  | 112.3329     0.7215   111.6114 |   0.217638   0.0000e+00 |   0.2437     5           | 179.4798     0.7109   178.7689 |   0.2520     5             |  3.906e-06   0.000e+00 |              \n",
      "01:17:26 508/600  | 112.3163     0.7215   111.5948 |   0.217638   0.0000e+00 |   0.2438     5           | 179.4624     0.7109   178.7515 |   0.2520     5             |  3.906e-06   0.000e+00 |              \n",
      "01:20:27 509/600  | 112.3020     0.7216   111.5805 |   0.217638   0.0000e+00 |   0.2437     5           | 179.4895     0.7109   178.7786 |   0.2519     5             |  3.906e-06   0.000e+00 |              \n",
      "01:23:28 510/600  | 112.2896     0.7215   111.5682 |   0.217638   0.0000e+00 |   0.2438     5           | 179.4663     0.7109   178.7554 |   0.2520     5             |  3.906e-06   0.000e+00 |              \n",
      "01:26:25 511/600  | 112.2732     0.7216   111.5516 |   0.217638   0.0000e+00 |   0.2437     5           | 179.4871     0.7110   178.7761 |   0.2519     5             |  3.906e-06   0.000e+00 |              \n",
      "01:29:25 512/600  | 112.2619     0.7215   111.5404 |   0.217638   0.0000e+00 |   0.2437     5           | 179.4907     0.7109   178.7798 |   0.2520     5             |  3.906e-06   0.000e+00 |              \n",
      "01:32:23 513/600  | 112.2489     0.7216   111.5273 |   0.217638   0.0000e+00 |   0.2437     5           | 179.4986     0.7110   178.7877 |   0.2519     5             |  3.906e-06   0.000e+00 |              \n",
      "01:35:25 514/600  | 112.2334     0.7216   111.5118 |   0.217638   0.0000e+00 |   0.2437     5           | 179.4951     0.7109   178.7842 |   0.2519     5             |  3.906e-06   0.000e+00 |              \n",
      "01:38:22 515/600  | 112.2205     0.7216   111.4990 |   0.217638   0.0000e+00 |   0.2437     5           | 179.4918     0.7110   178.7808 |   0.2519     5             |  3.906e-06   0.000e+00 |              \n",
      "01:41:23 516/600  | 112.2105     0.7216   111.4889 |   0.217638   0.0000e+00 |   0.2437     5           | 179.5204     0.7110   178.8094 |   0.2519     5             |  3.906e-06   0.000e+00 |              \n",
      "01:44:23 517/600  | 112.1980     0.7217   111.4764 |   0.217638   0.0000e+00 |   0.2436     5           | 179.5244     0.7110   178.8134 |   0.2518     5             |  3.906e-06   0.000e+00 |              \n",
      "01:47:22 518/600  | 112.1841     0.7217   111.4624 |   0.217638   0.0000e+00 |   0.2436     5           | 179.5256     0.7111   178.8146 |   0.2518     5             |  3.906e-06   0.000e+00 |              \n",
      "01:50:18 519/600  | 112.1659     0.7217   111.4443 |   0.217638   0.0000e+00 |   0.2436     5           | 179.5396     0.7111   178.8285 |   0.2518     5             |  3.906e-06   0.000e+00 |              \n",
      "01:53:18 520/600  | 112.1548     0.7216   111.4332 |   0.217638   0.0000e+00 |   0.2437     5           | 179.5600     0.7111   178.8490 |   0.2518     5             |  3.906e-06   0.000e+00 |              \n",
      "01:56:14 521/600  | 112.1402     0.7217   111.4186 |   0.217638   0.0000e+00 |   0.2436     5           | 179.5264     0.7111   178.8153 |   0.2518     5             |  3.906e-06   0.000e+00 |              \n",
      "01:59:12 522/600  | 112.1334     0.7217   111.4117 |   0.217638   0.0000e+00 |   0.2436     5           | 179.5463     0.7110   178.8353 |   0.2519     5             |  3.906e-06   0.000e+00 |              \n",
      "02:02:11 523/600  | 112.1160     0.7217   111.3943 |   0.217638   0.0000e+00 |   0.2436     5           | 179.5481     0.7111   178.8370 |   0.2518     5             |  3.906e-06   0.000e+00 |              \n",
      "02:05:11 524/600  | 112.1022     0.7217   111.3805 |   0.217638   0.0000e+00 |   0.2436     5           | 179.5694     0.7111   178.8582 |   0.2518     5             |  3.906e-06   0.000e+00 |              \n",
      "02:08:10 525/600  | 112.0874     0.7217   111.3657 |   0.217638   0.0000e+00 |   0.2436     5           | 179.5756     0.7112   178.8644 |   0.2517     5             |  3.906e-06   0.000e+00 |              \n",
      "02:11:06 526/600  | 112.0790     0.7218   111.3572 |   0.217638   0.0000e+00 |   0.2435     5           | 179.5480     0.7112   178.8368 |   0.2518     5             |  3.906e-06   0.000e+00 |              \n",
      "02:14:05 527/600  | 112.0651     0.7218   111.3433 |   0.217638   0.0000e+00 |   0.2435     5           | 179.5866     0.7113   178.8753 |   0.2517     5             |  3.906e-06   0.000e+00 |              \n",
      "02:17:04 528/600  | 112.0534     0.7217   111.3317 |   0.217638   0.0000e+00 |   0.2436     5           | 179.5678     0.7112   178.8566 |   0.2517     5             |  3.906e-06   0.000e+00 |              \n",
      "02:20:02 529/600  | 112.0372     0.7218   111.3153 |   0.217638   0.0000e+00 |   0.2435     5           | 179.5984     0.7113   178.8871 |   0.2517     5             |  3.906e-06   0.000e+00 |              \n",
      "02:23:02 530/600  | 112.0621     0.7218   111.3402 |   0.217638   0.0000e+00 |   0.2435     5           | 179.5730     0.7112   178.8618 |   0.2518     5             |  3.906e-06   0.000e+00 |              \n",
      "02:26:01 531/600  | 112.0184     0.7219   111.2965 |   0.217638   0.0000e+00 |   0.2435     5           | 179.5910     0.7113   178.8797 |   0.2517     5             |  3.906e-06   0.000e+00 |              \n",
      "02:29:00 532/600  | 111.9947     0.7219   111.2728 |   0.217638   0.0000e+00 |   0.2435     5           | 179.5888     0.7112   178.8775 |   0.2517     5             |  3.906e-06   0.000e+00 |              \n",
      " 531 - anneal temp  -  counter: 16    before:   0.217638     new_temp:   0.210500 \n",
      "02:32:00 533/600  | 110.4706     0.7219   109.7487 |   0.210500   0.0000e+00 |   0.2434     5           | 180.0270     0.7113   179.3157 |   0.2517     5             |  3.906e-06   0.000e+00 |              \n",
      "02:34:56 534/600  | 110.4627     0.7218   109.7409 |   0.210500   0.0000e+00 |   0.2435     5           | 180.0455     0.7113   179.3343 |   0.2517     5             |  3.906e-06   0.000e+00 |              \n",
      "02:37:53 535/600  | 110.4498     0.7219   109.7280 |   0.210500   0.0000e+00 |   0.2435     5           | 180.0287     0.7113   179.3174 |   0.2517     5             |  3.906e-06   0.000e+00 |              \n",
      "02:40:54 536/600  | 110.4390     0.7219   109.7171 |   0.210500   0.0000e+00 |   0.2435     5           | 180.0801     0.7112   179.3688 |   0.2517     5             |  3.906e-06   0.000e+00 |              \n",
      "02:43:52 537/600  | 110.4232     0.7219   109.7013 |   0.210500   0.0000e+00 |   0.2434     5           | 180.0570     0.7114   179.3457 |   0.2516     5             |  3.906e-06   0.000e+00 |              \n",
      "02:46:49 538/600  | 110.4078     0.7219   109.6859 |   0.210500   0.0000e+00 |   0.2435     5           | 180.0661     0.7112   179.3549 |   0.2517     5             |  3.906e-06   0.000e+00 |              \n",
      "02:49:48 539/600  | 110.3877     0.7219   109.6657 |   0.210500   0.0000e+00 |   0.2434     5           | 180.0857     0.7114   179.3744 |   0.2516     5             |  3.906e-06   0.000e+00 |              \n",
      "02:52:46 540/600  | 110.3741     0.7219   109.6522 |   0.210500   0.0000e+00 |   0.2435     5           | 180.0943     0.7113   179.3830 |   0.2517     5             |  3.906e-06   0.000e+00 |              \n",
      "02:55:46 541/600  | 110.3703     0.7220   109.6484 |   0.210500   0.0000e+00 |   0.2434     5           | 180.1060     0.7114   179.3946 |   0.2517     5             |  3.906e-06   0.000e+00 |              \n",
      "02:58:46 542/600  | 110.3492     0.7219   109.6273 |   0.210500   0.0000e+00 |   0.2434     5           | 180.1285     0.7113   179.4172 |   0.2517     5             |  3.906e-06   0.000e+00 |              \n",
      "                                                                                                                                                                                                              "
     ]
    },
    {
     "name": "stderr",
     "output_type": "stream",
     "text": [
      "2024-09-26 03:01:43,436 - snnl.models.base - INFO: -  Main learning rate reduced to [1.953125e-06]\n"
     ]
    },
    {
     "name": "stdout",
     "output_type": "stream",
     "text": [
      "03:01:43 543/600  | 110.3286     0.7220   109.6066 |   0.210500   0.0000e+00 |   0.2434     5           | 180.0986     0.7114   179.3872 |   0.2516     5             |  3.906e-06   0.000e+00 |\n",
      "03:04:41 544/600  | 110.3529     0.7220   109.6309 |   0.210500   0.0000e+00 |   0.2435     5           | 180.1369     0.7112   179.4257 |   0.2517     5             |  1.953e-06   0.000e+00 |              \n",
      "03:07:40 545/600  | 110.3064     0.7219   109.5844 |   0.210500   0.0000e+00 |   0.2435     5           | 180.1533     0.7112   179.4421 |   0.2517     5             |  1.953e-06   0.000e+00 |              \n",
      "03:10:39 546/600  | 110.2905     0.7219   109.5686 |   0.210500   0.0000e+00 |   0.2435     5           | 180.1811     0.7113   179.4698 |   0.2517     5             |  1.953e-06   0.000e+00 |              \n",
      "03:13:38 547/600  | 110.2800     0.7220   109.5580 |   0.210500   0.0000e+00 |   0.2435     5           | 180.1767     0.7113   179.4654 |   0.2517     5             |  1.953e-06   0.000e+00 |              \n",
      "03:16:37 548/600  | 110.2687     0.7220   109.5467 |   0.210500   0.0000e+00 |   0.2434     5           | 180.2169     0.7113   179.5056 |   0.2517     5             |  1.953e-06   0.000e+00 |              \n",
      "03:19:35 549/600  | 110.2586     0.7220   109.5367 |   0.210500   0.0000e+00 |   0.2435     5           | 180.2158     0.7113   179.5046 |   0.2518     5             |  1.953e-06   0.000e+00 |              \n",
      "                                                                                                                                                                                                              "
     ]
    },
    {
     "name": "stderr",
     "output_type": "stream",
     "text": [
      "2024-09-26 03:22:33,905 - snnl.utils.utils_ptsnnl - INFO: -  Model exported to ckpts/AE_snnl_dcpb600_250Ltnt_512_20240924_0146_ep_550.pt - epoch: 550\n"
     ]
    },
    {
     "name": "stdout",
     "output_type": "stream",
     "text": [
      "03:22:33 550/600  | 110.2483     0.7220   109.5263 |   0.210500   0.0000e+00 |   0.2440     5           | 180.2188     0.7113   179.5075 |   0.2523     5             |  1.953e-06   0.000e+00 |\n",
      "03:25:34 551/600  | 110.2385     0.7219   109.5166 |   0.210500   0.0000e+00 |   0.2442     5           | 180.2283     0.7113   179.5171 |   0.2524     5             |  1.953e-06   0.000e+00 |              \n",
      "03:28:34 552/600  | 110.2307     0.7220   109.5087 |   0.210500   0.0000e+00 |   0.2441     5           | 180.2500     0.7113   179.5387 |   0.2523     5             |  1.953e-06   0.000e+00 |              \n",
      "03:31:34 553/600  | 110.2219     0.7220   109.4999 |   0.210500   0.0000e+00 |   0.2441     5           | 180.2296     0.7113   179.5183 |   0.2524     5             |  1.953e-06   0.000e+00 |              \n",
      "03:34:33 554/600  | 110.2139     0.7220   109.4919 |   0.210500   0.0000e+00 |   0.2443     5           | 180.2633     0.7113   179.5520 |   0.2530     5             |  1.953e-06   0.000e+00 |              \n",
      "03:37:34 555/600  | 110.2020     0.7220   109.4800 |   0.210500   0.0000e+00 |   0.2448     5           | 180.2536     0.7113   179.5423 |   0.2530     5             |  1.953e-06   0.000e+00 |              \n",
      "03:40:33 556/600  | 110.1928     0.7220   109.4707 |   0.210500   0.0000e+00 |   0.2449     5           | 180.2786     0.7113   179.5673 |   0.2533     5             |  1.953e-06   0.000e+00 |              \n",
      "03:43:32 557/600  | 110.1819     0.7220   109.4599 |   0.210500   0.0000e+00 |   0.2448     5           | 180.2635     0.7113   179.5521 |   0.2530     5             |  1.953e-06   0.000e+00 |              \n",
      "03:46:30 558/600  | 110.1728     0.7220   109.4508 |   0.210500   0.0000e+00 |   0.2448     5           | 180.2571     0.7113   179.5458 |   0.2530     5             |  1.953e-06   0.000e+00 |              \n",
      "03:49:29 559/600  | 110.1623     0.7220   109.4402 |   0.210500   0.0000e+00 |   0.2448     5           | 180.2709     0.7113   179.5596 |   0.2531     5             |  1.953e-06   0.000e+00 |              \n",
      "03:52:27 560/600  | 110.1504     0.7221   109.4283 |   0.210500   0.0000e+00 |   0.2450     5           | 180.3008     0.7113   179.5895 |   0.2530     5             |  1.953e-06   0.000e+00 |              \n",
      "03:55:26 561/600  | 110.1387     0.7220   109.4166 |   0.210500   0.0000e+00 |   0.2444     5           | 180.2798     0.7113   179.5685 |   0.2523     5             |  1.953e-06   0.000e+00 |              \n",
      "03:58:25 562/600  | 110.1273     0.7221   109.4052 |   0.210500   0.0000e+00 |   0.2440     5           | 180.3106     0.7113   179.5993 |   0.2523     5             |  1.953e-06   0.000e+00 |              \n",
      "04:01:23 563/600  | 110.1175     0.7220   109.3955 |   0.210500   0.0000e+00 |   0.2437     5           | 180.3000     0.7114   179.5887 |   0.2516     5             |  1.953e-06   0.000e+00 |              \n",
      " 562 - anneal temp  -  counter: 17    before:   0.210500     new_temp:   0.203986 \n",
      "04:04:22 564/600  | 108.7078     0.7221   107.9857 |   0.203986   0.0000e+00 |   0.2434     5           | 180.7581     0.7113   180.0468 |   0.2516     5             |  1.953e-06   0.000e+00 |              \n",
      "04:07:20 565/600  | 108.6980     0.7221   107.9759 |   0.203986   0.0000e+00 |   0.2433     5           | 180.7808     0.7114   180.0694 |   0.2516     5             |  1.953e-06   0.000e+00 |              \n",
      "04:10:17 566/600  | 108.6848     0.7221   107.9627 |   0.203986   0.0000e+00 |   0.2433     5           | 180.7998     0.7113   180.0885 |   0.2517     5             |  1.953e-06   0.000e+00 |              \n",
      "04:13:14 567/600  | 108.6719     0.7221   107.9499 |   0.203986   0.0000e+00 |   0.2434     5           | 180.7824     0.7115   180.0709 |   0.2515     5             |  1.953e-06   0.000e+00 |              \n",
      "04:16:13 568/600  | 108.6627     0.7221   107.9406 |   0.203986   0.0000e+00 |   0.2434     5           | 180.8160     0.7114   180.1046 |   0.2516     5             |  1.953e-06   0.000e+00 |              \n",
      "04:19:12 569/600  | 108.6490     0.7221   107.9269 |   0.203986   0.0000e+00 |   0.2433     5           | 180.8050     0.7114   180.0936 |   0.2516     5             |  1.953e-06   0.000e+00 |              \n",
      "04:22:10 570/600  | 108.6362     0.7221   107.9141 |   0.203986   0.0000e+00 |   0.2433     5           | 180.8287     0.7114   180.1173 |   0.2516     5             |  1.953e-06   0.000e+00 |              \n",
      "04:25:11 571/600  | 108.6257     0.7221   107.9036 |   0.203986   0.0000e+00 |   0.2433     5           | 180.8173     0.7114   180.1059 |   0.2516     5             |  1.953e-06   0.000e+00 |              \n",
      "04:28:09 572/600  | 108.6159     0.7221   107.8938 |   0.203986   0.0000e+00 |   0.2433     5           | 180.8433     0.7114   180.1320 |   0.2516     5             |  1.953e-06   0.000e+00 |              \n",
      "04:31:09 573/600  | 108.6051     0.7221   107.8830 |   0.203986   0.0000e+00 |   0.2434     5           | 180.8218     0.7114   180.1104 |   0.2516     5             |  1.953e-06   0.000e+00 |              \n",
      "04:34:08 574/600  | 108.5941     0.7221   107.8720 |   0.203986   0.0000e+00 |   0.2433     5           | 180.8488     0.7114   180.1374 |   0.2516     5             |  1.953e-06   0.000e+00 |              \n",
      "04:37:07 575/600  | 108.5841     0.7221   107.8620 |   0.203986   0.0000e+00 |   0.2433     5           | 180.8060     0.7114   180.0946 |   0.2516     5             |  1.953e-06   0.000e+00 |              \n",
      "04:40:08 576/600  | 108.5714     0.7221   107.8493 |   0.203986   0.0000e+00 |   0.2433     5           | 180.8551     0.7114   180.1438 |   0.2516     5             |  1.953e-06   0.000e+00 |              \n",
      "04:43:06 577/600  | 108.5618     0.7221   107.8396 |   0.203986   0.0000e+00 |   0.2433     5           | 180.8512     0.7114   180.1398 |   0.2516     5             |  1.953e-06   0.000e+00 |              \n",
      "04:46:08 578/600  | 108.5521     0.7221   107.8299 |   0.203986   0.0000e+00 |   0.2433     5           | 180.8702     0.7114   180.1588 |   0.2516     5             |  1.953e-06   0.000e+00 |              \n",
      "04:49:07 579/600  | 108.5393     0.7221   107.8171 |   0.203986   0.0000e+00 |   0.2433     5           | 180.8524     0.7114   180.1409 |   0.2516     5             |  1.953e-06   0.000e+00 |              \n",
      "04:52:06 580/600  | 108.5296     0.7222   107.8074 |   0.203986   0.0000e+00 |   0.2433     5           | 180.8703     0.7114   180.1589 |   0.2516     5             |  1.953e-06   0.000e+00 |              \n",
      "04:55:02 581/600  | 108.5196     0.7221   107.7975 |   0.203986   0.0000e+00 |   0.2433     5           | 180.8662     0.7114   180.1547 |   0.2516     5             |  1.953e-06   0.000e+00 |              \n",
      "04:58:02 582/600  | 108.5097     0.7222   107.7875 |   0.203986   0.0000e+00 |   0.2433     5           | 180.8912     0.7114   180.1798 |   0.2516     5             |  1.953e-06   0.000e+00 |              \n",
      "05:01:00 583/600  | 108.5002     0.7222   107.7780 |   0.203986   0.0000e+00 |   0.2433     5           | 180.8816     0.7115   180.1702 |   0.2516     5             |  1.953e-06   0.000e+00 |              \n",
      "05:04:00 584/600  | 108.4895     0.7221   107.7674 |   0.203986   0.0000e+00 |   0.2434     5           | 180.8902     0.7114   180.1788 |   0.2516     5             |  1.953e-06   0.000e+00 |              \n",
      "05:06:58 585/600  | 108.4788     0.7222   107.7566 |   0.203986   0.0000e+00 |   0.2433     5           | 180.8762     0.7114   180.1648 |   0.2516     5             |  1.953e-06   0.000e+00 |              \n",
      "05:09:54 586/600  | 108.4692     0.7222   107.7470 |   0.203986   0.0000e+00 |   0.2433     5           | 180.9088     0.7115   180.1974 |   0.2516     5             |  1.953e-06   0.000e+00 |              \n",
      "05:12:51 587/600  | 108.4596     0.7222   107.7374 |   0.203986   0.0000e+00 |   0.2433     5           | 180.8499     0.7114   180.1385 |   0.2516     5             |  1.953e-06   0.000e+00 |              \n",
      "05:15:49 588/600  | 108.4494     0.7222   107.7272 |   0.203986   0.0000e+00 |   0.2433     5           | 180.9187     0.7115   180.2072 |   0.2515     5             |  1.953e-06   0.000e+00 |              \n",
      "05:18:49 589/600  | 108.4386     0.7222   107.7165 |   0.203986   0.0000e+00 |   0.2433     5           | 180.8934     0.7114   180.1819 |   0.2516     5             |  1.953e-06   0.000e+00 |              \n",
      "05:21:48 590/600  | 108.4264     0.7222   107.7042 |   0.203986   0.0000e+00 |   0.2433     5           | 180.9249     0.7114   180.2135 |   0.2516     5             |  1.953e-06   0.000e+00 |              \n",
      "05:24:45 591/600  | 108.4153     0.7222   107.6931 |   0.203986   0.0000e+00 |   0.2433     5           | 180.9168     0.7115   180.2053 |   0.2516     5             |  1.953e-06   0.000e+00 |              \n",
      "05:27:44 592/600  | 108.4063     0.7222   107.6841 |   0.203986   0.0000e+00 |   0.2433     5           | 180.9340     0.7115   180.2225 |   0.2516     5             |  1.953e-06   0.000e+00 |              \n",
      "05:30:42 593/600  | 108.3982     0.7222   107.6760 |   0.203986   0.0000e+00 |   0.2433     5           | 180.9214     0.7115   180.2099 |   0.2515     5             |  1.953e-06   0.000e+00 |              \n",
      "05:33:40 594/600  | 108.3888     0.7222   107.6666 |   0.203986   0.0000e+00 |   0.2433     5           | 180.9397     0.7115   180.2282 |   0.2516     5             |  1.953e-06   0.000e+00 |              \n",
      " 593 - anneal temp  -  counter: 18    before:   0.203986     new_temp:   0.198009 \n",
      "05:36:37 595/600  | 107.0715     0.7222   106.3493 |   0.198009   0.0000e+00 |   0.2433     5           | 181.4331     0.7115   180.7216 |   0.2515     5             |  1.953e-06   0.000e+00 |              \n",
      "05:39:35 596/600  | 107.0648     0.7223   106.3426 |   0.198009   0.0000e+00 |   0.2432     5           | 181.4420     0.7115   180.7306 |   0.2516     5             |  1.953e-06   0.000e+00 |              \n",
      "05:42:34 597/600  | 107.0519     0.7223   106.3297 |   0.198009   0.0000e+00 |   0.2432     5           | 181.4497     0.7115   180.7382 |   0.2515     5             |  1.953e-06   0.000e+00 |              \n",
      "05:45:33 598/600  | 107.0393     0.7222   106.3170 |   0.198009   0.0000e+00 |   0.2432     5           | 181.4550     0.7115   180.7435 |   0.2516     5             |  1.953e-06   0.000e+00 |              \n",
      "05:48:33 599/600  | 107.0310     0.7223   106.3087 |   0.198009   0.0000e+00 |   0.2432     5           | 181.4651     0.7116   180.7535 |   0.2514     5             |  1.953e-06   0.000e+00 |              \n",
      "                                                                                                                                                                                                              "
     ]
    },
    {
     "name": "stderr",
     "output_type": "stream",
     "text": [
      "2024-09-26 05:51:35,598 - snnl.utils.utils_ptsnnl - INFO: -  Model exported to ckpts/AE_snnl_dcpb600_250Ltnt_512_20240924_0146_ep_600.pt - epoch: 600\n",
      "2024-09-26 05:51:35,687 - snnl.utils.utils_ptsnnl - INFO: -  Model exported to ckpts/AE_snnl_dcpb600_250Ltnt_512_20240924_0146_LAST_ep_600.pt - epoch: 600\n"
     ]
    },
    {
     "name": "stdout",
     "output_type": "stream",
     "text": [
      "05:51:35 600/600  | 107.0172     0.7223   106.2950 |   0.198009   0.0000e+00 |   0.2432     5           | 181.4682     0.7115   180.7566 |   0.2515     5             |  1.953e-06   0.000e+00 |\n",
      "Last Epoch 600\n",
      " 2024-09-26 05:51:35  End: epoch  600 of  600\n"
     ]
    }
   ],
   "source": [
    "print(f\" {datetime.now().strftime('%Y-%m-%d %H:%M:%S')}  Start: epoch {model.starting_epoch+1:4d} of {model.ending_epoch:4d}\")\n",
    "model.fit(args, data_loaders)\n",
    "print(f\" {datetime.now().strftime('%Y-%m-%d %H:%M:%S')}  End: epoch {model.epoch + 1:4d} of {model.ending_epoch:4d}\")"
   ]
  },
  {
   "cell_type": "code",
   "execution_count": null,
   "id": "71a78e3c-f780-430d-81fe-589bceea900a",
   "metadata": {},
   "outputs": [],
   "source": [
    "# model.use_temp_optimizer\n",
    "# take_checkpoint(model, args, epoch=306, update_best = True)\n",
    "# model.use_temp_optimizer\n",
    "# model.temp_params\n",
    "# model.anneal_patience = 30\n",
    "# model.optimizers['prim'].param_groups[0]\n",
    "# torch.get_num_threads()\n",
    "# torch.set_num_threads(3)"
   ]
  },
  {
   "cell_type": "code",
   "execution_count": 26,
   "id": "0927be49-85f5-4c34-a8e1-717016168df1",
   "metadata": {
    "execution": {
     "iopub.execute_input": "2024-09-24T17:08:45.460927Z",
     "iopub.status.busy": "2024-09-24T17:08:45.460441Z",
     "iopub.status.idle": "2024-09-24T17:08:45.522910Z",
     "shell.execute_reply": "2024-09-24T17:08:45.522337Z",
     "shell.execute_reply.started": "2024-09-24T17:08:45.460881Z"
    }
   },
   "outputs": [
    {
     "data": {
      "text/plain": [
       "(199, 0, 200)"
      ]
     },
     "execution_count": 26,
     "metadata": {},
     "output_type": "execute_result"
    }
   ],
   "source": [
    "model.epoch, model.starting_epoch, model.ending_epoch"
   ]
  },
  {
   "cell_type": "code",
   "execution_count": 37,
   "id": "45810b9a-9d1e-4913-bc64-71c12181b3b6",
   "metadata": {
    "execution": {
     "iopub.execute_input": "2024-09-26T13:25:57.715145Z",
     "iopub.status.busy": "2024-09-26T13:25:57.714474Z",
     "iopub.status.idle": "2024-09-26T13:25:57.834670Z",
     "shell.execute_reply": "2024-09-26T13:25:57.833989Z",
     "shell.execute_reply.started": "2024-09-26T13:25:57.715092Z"
    },
    "scrolled": true
   },
   "outputs": [
    {
     "name": "stdout",
     "output_type": "stream",
     "text": [
      "  time   ep / eps |  Trn_loss   Primary      SNNL  |   temp*         grad    |   R2      BestEp         |  Vld_loss   Primary      SNNL  |   R2       BestEp          |   LR        temp LR    |\n",
      "------------------+--------------------------------+-------------------------+--------------------------+--------------------------------+----------------------------|------------------------|\n",
      "01:54:38  1 /600  | 190.4737     0.7279   189.7458 |   1.000000   0.0000e+00 |  -6.4057     5           | 185.4568     0.5541   184.9027 |   0.2557     5             |  1.000e-03   0.000e+00 |\n",
      "01:57:36  2 /600  | 186.0184     0.5256   185.4929 |   1.000000   0.0000e+00 |   0.3096     5           | 184.3893     0.4875   183.9019 |   0.2975     5             |  1.000e-03   0.000e+00 |\n",
      "02:00:35  3 /600  | 185.1595     0.4897   184.6698 |   1.000000   0.0000e+00 |   0.3986     5           | 183.9005     0.4737   183.4268 |   0.4636     5             |  1.000e-03   0.000e+00 |\n",
      "02:03:31  4 /600  | 184.5206     0.4768   184.0438 |   1.000000   0.0000e+00 |   0.4275     5           | 183.6161     0.4605   183.1556 |   0.4728     5             |  1.000e-03   0.000e+00 |\n",
      "02:06:29  5 /600  | 184.0156     0.4713   183.5443 |   1.000000   0.0000e+00 |   0.4445     5           | 183.3915     0.4624   182.9291 |   0.4839     5             |  1.000e-03   0.000e+00 |\n",
      "02:09:29  6 /600  | 183.6983     0.4701   183.2282 |   1.000000   0.0000e+00 |   0.4375     5           | 183.4249     0.4703   182.9547 |   0.4751     5             |  1.000e-03   0.000e+00 |\n",
      "02:12:26  7 /600  | 183.5024     0.4774   183.0250 |   1.000000   0.0000e+00 |   0.4358     5           | 183.2856     0.4664   182.8191 |   0.4626     5             |  1.000e-03   0.000e+00 |\n",
      "02:15:22  8 /600  | 183.2650     0.4730   182.7920 |   1.000000   0.0000e+00 |   0.4306     5           | 183.0919     0.4644   182.6275 |   0.3984     5             |  1.000e-03   0.000e+00 |\n",
      "02:18:18  9 /600  | 183.0943     0.4749   182.6194 |   1.000000   0.0000e+00 |   0.4371     5           | 183.1276     0.4615   182.6661 |   0.4442     5             |  1.000e-03   0.000e+00 |\n",
      "02:21:15 10 /600  | 182.9699     0.4763   182.4936 |   1.000000   0.0000e+00 |   0.4363     5           | 183.1129     0.4678   182.6451 |   0.4551     5             |  1.000e-03   0.000e+00 |\n",
      "02:24:10 11 /600  | 182.8220     0.4832   182.3388 |   1.000000   0.0000e+00 |   0.4283     5           | 183.0666     0.4725   182.5941 |   0.4597     5             |  1.000e-03   0.000e+00 |\n",
      "02:27:05 12 /600  | 182.6814     0.4829   182.1985 |   1.000000   0.0000e+00 |   0.4373     5           | 183.1848     0.4778   182.7069 |   0.4702     5             |  1.000e-03   0.000e+00 |\n",
      "02:30:03 13 /600  | 182.5757     0.4881   182.0876 |   1.000000   0.0000e+00 |   0.4311     5           | 183.0677     0.4756   182.5920 |   0.4794     5             |  1.000e-03   0.000e+00 |\n",
      "02:32:58 14 /600  | 182.4918     0.4883   182.0036 |   1.000000   0.0000e+00 |   0.4177     5           | 183.1036     0.4776   182.6259 |   0.4437     5             |  1.000e-03   0.000e+00 |\n",
      "02:35:54 15 /600  | 182.4360     0.4930   181.9430 |   1.000000   0.0000e+00 |   0.3984     5           | 183.2227     0.4847   182.7380 |   0.4171     5             |  1.000e-03   0.000e+00 |\n",
      "02:38:49 16 /600  | 182.3398     0.4921   181.8477 |   1.000000   0.0000e+00 |   0.4002     5           | 183.1956     0.4814   182.7141 |   0.4327     5             |  1.000e-03   0.000e+00 |\n",
      "02:41:46 17 /600  | 182.2044     0.4956   181.7088 |   1.000000   0.0000e+00 |   0.4095     5           | 183.3182     0.4920   182.8262 |   0.3846     5             |  1.000e-03   0.000e+00 |\n",
      "02:44:44 18 /600  | 182.1264     0.4952   181.6312 |   1.000000   0.0000e+00 |   0.4190     5           | 183.1167     0.4862   182.6305 |   0.4660     5             |  1.000e-03   0.000e+00 |\n",
      "02:47:41 19 /600  | 182.1615     0.4961   181.6654 |   1.000000   0.0000e+00 |   0.4212     5           | 183.0790     0.4872   182.5918 |   0.4172     5             |  1.000e-03   0.000e+00 |\n",
      "02:50:38 20 /600  | 182.0960     0.4992   181.5968 |   1.000000   0.0000e+00 |   0.4083     5           | 183.0730     0.4915   182.5815 |   0.4198     5             |  1.000e-03   0.000e+00 |\n",
      "02:53:33 21 /600  | 181.9855     0.4997   181.4858 |   1.000000   0.0000e+00 |   0.4044     5           | 183.1871     0.4968   182.6903 |   0.4022     5             |  1.000e-03   0.000e+00 |\n",
      "02:56:28 22 /600  | 181.9001     0.5071   181.3931 |   1.000000   0.0000e+00 |   0.4076     5           | 183.1570     0.4955   182.6614 |   0.4512     5             |  1.000e-03   0.000e+00 |\n",
      "02:59:24 23 /600  | 181.7955     0.5039   181.2916 |   1.000000   0.0000e+00 |   0.4144     5           | 183.2948     0.4961   182.7987 |   0.4559     5             |  1.000e-03   0.000e+00 |\n",
      "03:02:21 24 /600  | 181.7570     0.5078   181.2491 |   1.000000   0.0000e+00 |   0.4057     5           | 183.2820     0.5027   182.7793 |   0.4321     5             |  1.000e-03   0.000e+00 |\n",
      "03:05:22 25 /600  | 181.7383     0.5084   181.2299 |   1.000000   0.0000e+00 |   0.4119     5           | 183.1839     0.5009   182.6830 |   0.4314     5             |  1.000e-03   0.000e+00 |\n",
      "03:08:17 26 /600  | 181.7462     0.5096   181.2366 |   1.000000   0.0000e+00 |   0.4123     5           | 183.2485     0.4992   182.7493 |   0.4508     5             |  1.000e-03   0.000e+00 |\n",
      "03:11:11 27 /600  | 181.6728     0.5084   181.1644 |   1.000000   0.0000e+00 |   0.4117     5           | 183.4398     0.5076   182.9322 |   0.4030     5             |  1.000e-03   0.000e+00 |\n",
      "03:14:07 28 /600  | 181.6006     0.5099   181.0907 |   1.000000   0.0000e+00 |   0.3982     5           | 183.3473     0.5024   182.8449 |   0.4296     5             |  1.000e-03   0.000e+00 |\n",
      "03:17:01 29 /600  | 181.5792     0.5145   181.0647 |   1.000000   0.0000e+00 |   0.4022     5           | 183.2856     0.5143   182.7713 |   0.4318     5             |  1.000e-03   0.000e+00 |\n",
      "03:19:54 30 /600  | 181.5456     0.5121   181.0335 |   1.000000   0.0000e+00 |   0.4027     5           | 183.2961     0.5105   182.7856 |   0.4081     5             |  1.000e-03   0.000e+00 |\n",
      "03:22:50 31 /600  | 181.5315     0.5168   181.0147 |   1.000000   0.0000e+00 |   0.3969     5           | 183.3787     0.5132   182.8655 |   0.4107     5             |  1.000e-03   0.000e+00 |\n",
      "03:25:44 32 /600  | 181.5358     0.5143   181.0216 |   1.000000   0.0000e+00 |   0.4055     5           | 183.4787     0.5148   182.9639 |   0.4365     5             |  1.000e-03   0.000e+00 |\n",
      "03:28:39 33 /600  | 181.5505     0.5148   181.0357 |   1.000000   0.0000e+00 |   0.3961     5           | 183.5013     0.5148   182.9865 |   0.4271     5             |  1.000e-03   0.000e+00 |\n",
      "03:31:34 34 /600  | 181.5046     0.5168   180.9878 |   1.000000   0.0000e+00 |   0.3963     5           | 183.5662     0.5135   183.0527 |   0.4345     5             |  1.000e-03   0.000e+00 |\n",
      "03:34:28 35 /600  | 181.5215     0.5191   181.0023 |   1.000000   0.0000e+00 |   0.3972     5           | 183.5717     0.5153   183.0563 |   0.4288     5             |  1.000e-03   0.000e+00 |\n",
      "03:37:24 36 /600  | 181.4307     0.5198   180.9109 |   1.000000   0.0000e+00 |   0.3993     5           | 183.3982     0.5171   182.8811 |   0.4305     5             |  1.000e-03   0.000e+00 |\n",
      "03:40:20 37 /600  | 181.4033     0.5215   180.8818 |   1.000000   0.0000e+00 |   0.3951     5           | 183.4011     0.5184   182.8827 |   0.4046     5             |  1.000e-03   0.000e+00 |\n",
      "03:43:14 38 /600  | 181.3727     0.5216   180.8511 |   1.000000   0.0000e+00 |   0.3971     5           | 183.3600     0.5261   182.8340 |   0.4100     5             |  1.000e-03   0.000e+00 |\n",
      "03:46:08 39 /600  | 181.3736     0.5230   180.8506 |   1.000000   0.0000e+00 |   0.3957     5           | 183.5074     0.5239   182.9835 |   0.4185     5             |  1.000e-03   0.000e+00 |\n",
      "03:49:04 40 /600  | 181.3491     0.5231   180.8260 |   1.000000   0.0000e+00 |   0.3860     5           | 183.4624     0.5249   182.9375 |   0.3531     5             |  1.000e-03   0.000e+00 |\n",
      "03:51:58 41 /600  | 181.3183     0.5214   180.7969 |   1.000000   0.0000e+00 |   0.3899     5           | 183.3880     0.5186   182.8694 |   0.4179     5             |  1.000e-03   0.000e+00 |\n",
      "03:54:55 42 /600  | 181.3518     0.5273   180.8245 |   1.000000   0.0000e+00 |   0.3884     5           | 183.4281     0.5234   182.9047 |   0.3932     5             |  1.000e-03   0.000e+00 |\n",
      "03:57:51 43 /600  | 181.2773     0.5268   180.7505 |   1.000000   0.0000e+00 |   0.3876     5           | 183.4125     0.5155   182.8970 |   0.4133     5             |  1.000e-03   0.000e+00 |\n",
      "04:00:47 44 /600  | 181.2211     0.5268   180.6943 |   1.000000   0.0000e+00 |   0.3910     5           | 183.4897     0.5223   182.9674 |   0.4203     5             |  1.000e-03   0.000e+00 |\n",
      "04:03:43 45 /600  | 181.1968     0.5289   180.6679 |   1.000000   0.0000e+00 |   0.3919     5           | 183.5846     0.5238   183.0608 |   0.4143     5             |  1.000e-03   0.000e+00 |\n",
      "04:06:40 46 /600  | 181.1562     0.5271   180.6290 |   1.000000   0.0000e+00 |   0.3889     5           | 183.4437     0.5205   182.9232 |   0.4186     5             |  1.000e-03   0.000e+00 |\n",
      "04:09:36 47 /600  | 181.0985     0.5285   180.5700 |   1.000000   0.0000e+00 |   0.3902     5           | 183.5896     0.5280   183.0616 |   0.4109     5             |  1.000e-03   0.000e+00 |\n",
      "04:12:32 48 /600  | 181.1330     0.5293   180.6037 |   1.000000   0.0000e+00 |   0.3842     5           | 183.5458     0.5259   183.0199 |   0.4160     5             |  1.000e-03   0.000e+00 |\n",
      "04:15:26 49 /600  | 181.0790     0.5304   180.5485 |   1.000000   0.0000e+00 |   0.3834     5           | 183.7045     0.5373   183.1672 |   0.3801     5             |  1.000e-03   0.000e+00 |\n",
      "04:18:23 50 /600  | 181.0844     0.5324   180.5520 |   1.000000   0.0000e+00 |   0.3706     5           | 183.6123     0.5238   183.0885 |   0.3942     5             |  1.000e-03   0.000e+00 |\n",
      "04:21:20 51 /600  | 181.0953     0.5352   180.5600 |   1.000000   0.0000e+00 |   0.3818     5           | 183.6560     0.5323   183.1237 |   0.4055     5             |  1.000e-03   0.000e+00 |\n",
      "04:24:14 52 /600  | 181.1087     0.5330   180.5757 |   1.000000   0.0000e+00 |   0.3860     5           | 183.6452     0.5382   183.1070 |   0.4017     5             |  1.000e-03   0.000e+00 |\n",
      "04:27:09 53 /600  | 181.1112     0.5345   180.5767 |   1.000000   0.0000e+00 |   0.3884     5           | 183.5647     0.5321   183.0326 |   0.4058     5             |  1.000e-03   0.000e+00 |\n",
      "04:30:03 54 /600  | 181.0790     0.5314   180.5476 |   1.000000   0.0000e+00 |   0.3942     5           | 183.5328     0.5259   183.0069 |   0.4104     5             |  1.000e-03   0.000e+00 |\n",
      "04:32:59 55 /600  | 181.0451     0.5350   180.5101 |   1.000000   0.0000e+00 |   0.3797     5           | 183.4705     0.5282   182.9423 |   0.4029     5             |  1.000e-03   0.000e+00 |\n",
      "04:35:54 56 /600  | 180.7063     0.5217   180.1846 |   1.000000   0.0000e+00 |   0.4158     5           | 183.2299     0.5124   182.7175 |   0.4353     5             |  5.000e-04   0.000e+00 |\n",
      "04:38:49 57 /600  | 180.3995     0.5237   179.8757 |   1.000000   0.0000e+00 |   0.4150     5           | 183.3266     0.5171   182.8095 |   0.4301     5             |  5.000e-04   0.000e+00 |\n",
      "04:41:46 58 /600  | 180.2455     0.5260   179.7195 |   1.000000   0.0000e+00 |   0.4131     5           | 183.4425     0.5187   182.9238 |   0.4228     5             |  5.000e-04   0.000e+00 |\n",
      "04:44:42 59 /600  | 180.1776     0.5305   179.6471 |   1.000000   0.0000e+00 |   0.4104     5           | 183.4921     0.5259   182.9662 |   0.4177     5             |  5.000e-04   0.000e+00 |\n",
      "04:47:38 60 /600  | 180.1572     0.5307   179.6265 |   1.000000   0.0000e+00 |   0.4078     5           | 183.3890     0.5283   182.8607 |   0.4117     5             |  5.000e-04   0.000e+00 |\n",
      "04:50:33 61 /600  | 180.1880     0.5342   179.6538 |   1.000000   0.0000e+00 |   0.4034     5           | 183.4953     0.5244   182.9709 |   0.4126     5             |  5.000e-04   0.000e+00 |\n",
      "04:53:27 62 /600  | 180.1746     0.5359   179.6386 |   1.000000   0.0000e+00 |   0.4053     5           | 183.4314     0.5297   182.9018 |   0.4066     5             |  5.000e-04   0.000e+00 |\n",
      "04:56:23 63 /600  | 180.1677     0.5374   179.6303 |   1.000000   0.0000e+00 |   0.4016     5           | 183.5531     0.5293   183.0238 |   0.4107     5             |  5.000e-04   0.000e+00 |\n",
      "04:59:16 64 /600  | 180.1803     0.5395   179.6409 |   1.000000   0.0000e+00 |   0.4020     5           | 183.5886     0.5329   183.0558 |   0.4159     5             |  5.000e-04   0.000e+00 |\n",
      "05:02:10 65 /600  | 180.1339     0.5404   179.5935 |   1.000000   0.0000e+00 |   0.4004     5           | 183.5092     0.5307   182.9784 |   0.4080     5             |  5.000e-04   0.000e+00 |\n",
      "05:05:07 66 /600  | 180.1305     0.5420   179.5884 |   1.000000   0.0000e+00 |   0.4001     5           | 183.6262     0.5348   183.0915 |   0.4049     5             |  5.000e-04   0.000e+00 |\n",
      "05:08:02 67 /600  | 180.0923     0.5432   179.5491 |   1.000000   0.0000e+00 |   0.3960     5           | 183.6336     0.5366   183.0970 |   0.4055     5             |  5.000e-04   0.000e+00 |\n",
      "05:10:57 68 /600  | 171.6519     0.5456   171.1064 |   0.683020   0.0000e+00 |   0.3949     5           | 177.0557     0.5413   176.5143 |   0.3875     5             |  5.000e-04   0.000e+00 |\n",
      "05:13:52 69 /600  | 171.7323     0.5471   171.1852 |   0.683020   0.0000e+00 |   0.3888     5           | 176.9839     0.5500   176.4338 |   0.3798     5             |  5.000e-04   0.000e+00 |\n",
      "05:16:48 70 /600  | 171.5181     0.5500   170.9682 |   0.683020   0.0000e+00 |   0.3934     5           | 176.9281     0.5449   176.3832 |   0.4000     5             |  5.000e-04   0.000e+00 |\n",
      "05:19:44 71 /600  | 171.3680     0.5501   170.8179 |   0.683020   0.0000e+00 |   0.3940     5           | 177.0595     0.5455   176.5140 |   0.4000     5             |  5.000e-04   0.000e+00 |\n",
      "05:22:41 72 /600  | 171.3694     0.5524   170.8169 |   0.683020   0.0000e+00 |   0.3890     5           | 177.1424     0.5470   176.5954 |   0.3789     5             |  5.000e-04   0.000e+00 |\n",
      "05:25:38 73 /600  | 171.2626     0.5545   170.7081 |   0.683020   0.0000e+00 |   0.3856     5           | 177.1317     0.5446   176.5872 |   0.3981     5             |  5.000e-04   0.000e+00 |\n",
      "05:28:36 74 /600  | 171.1718     0.5568   170.6150 |   0.683020   0.0000e+00 |   0.3854     5           | 177.2253     0.5466   176.6787 |   0.3939     5             |  5.000e-04   0.000e+00 |\n",
      "05:31:38 75 /600  | 171.1497     0.5563   170.5934 |   0.683020   0.0000e+00 |   0.3843     5           | 177.2222     0.5483   176.6739 |   0.3869     5             |  5.000e-04   0.000e+00 |\n",
      "05:34:40 76 /600  | 171.1440     0.5578   170.5861 |   0.683020   0.0000e+00 |   0.3823     5           | 177.0562     0.5525   176.5037 |   0.3900     5             |  5.000e-04   0.000e+00 |\n",
      "05:37:39 77 /600  | 171.0955     0.5608   170.5347 |   0.683020   0.0000e+00 |   0.3808     5           | 177.2669     0.5459   176.7210 |   0.3851     5             |  5.000e-04   0.000e+00 |\n",
      "05:40:39 78 /600  | 171.1530     0.5611   170.5919 |   0.683020   0.0000e+00 |   0.3847     5           | 177.0741     0.5523   176.5217 |   0.3919     5             |  5.000e-04   0.000e+00 |\n",
      "05:43:36 79 /600  | 171.0884     0.5640   170.5243 |   0.683020   0.0000e+00 |   0.3792     5           | 177.2277     0.5521   176.6756 |   0.3942     5             |  5.000e-04   0.000e+00 |\n",
      "05:46:39 80 /600  | 171.0604     0.5649   170.4955 |   0.683020   0.0000e+00 |   0.3772     5           | 177.2005     0.5600   176.6405 |   0.3865     5             |  5.000e-04   0.000e+00 |\n",
      "05:49:38 81 /600  | 171.0991     0.5644   170.5347 |   0.683020   0.0000e+00 |   0.3774     5           | 177.3260     0.5582   176.7679 |   0.3917     5             |  5.000e-04   0.000e+00 |\n",
      "05:52:36 82 /600  | 171.0106     0.5640   170.4467 |   0.683020   0.0000e+00 |   0.3780     5           | 177.1195     0.5512   176.5683 |   0.3862     5             |  5.000e-04   0.000e+00 |\n",
      "05:55:33 83 /600  | 170.9891     0.5664   170.4226 |   0.683020   0.0000e+00 |   0.3707     5           | 177.4292     0.5527   176.8765 |   0.3797     5             |  5.000e-04   0.000e+00 |\n",
      "05:58:32 84 /600  | 170.9685     0.5667   170.4018 |   0.683020   0.0000e+00 |   0.3763     5           | 177.3742     0.5572   176.8169 |   0.3950     5             |  5.000e-04   0.000e+00 |\n",
      "06:01:30 85 /600  | 170.8858     0.5686   170.3172 |   0.683020   0.0000e+00 |   0.3718     5           | 177.5778     0.5610   177.0168 |   0.3792     5             |  5.000e-04   0.000e+00 |\n",
      "06:04:28 86 /600  | 171.0160     0.5693   170.4466 |   0.683020   0.0000e+00 |   0.3719     5           | 177.4452     0.5547   176.8905 |   0.3922     5             |  5.000e-04   0.000e+00 |\n",
      "06:07:26 87 /600  | 170.9252     0.5685   170.3567 |   0.683020   0.0000e+00 |   0.3747     5           | 177.4135     0.5586   176.8549 |   0.3851     5             |  5.000e-04   0.000e+00 |\n",
      "06:10:23 88 /600  | 170.8559     0.5691   170.2868 |   0.683020   0.0000e+00 |   0.3721     5           | 177.4512     0.5594   176.8918 |   0.3826     5             |  5.000e-04   0.000e+00 |\n",
      "06:13:21 89 /600  | 170.8817     0.5717   170.3101 |   0.683020   0.0000e+00 |   0.3678     5           | 177.5885     0.5623   177.0261 |   0.3472     5             |  5.000e-04   0.000e+00 |\n",
      "06:16:20 90 /600  | 170.8622     0.5724   170.2898 |   0.683020   0.0000e+00 |   0.3652     5           | 177.8343     0.5710   177.2633 |   0.3649     5             |  5.000e-04   0.000e+00 |\n",
      "06:19:19 91 /600  | 170.8655     0.5743   170.2912 |   0.683020   0.0000e+00 |   0.3689     5           | 177.6234     0.5632   177.0602 |   0.3844     5             |  5.000e-04   0.000e+00 |\n",
      "06:22:19 92 /600  | 170.8947     0.5759   170.3188 |   0.683020   0.0000e+00 |   0.3699     5           | 177.6800     0.5743   177.1057 |   0.3776     5             |  5.000e-04   0.000e+00 |\n",
      "06:25:17 93 /600  | 170.8379     0.5769   170.2610 |   0.683020   0.0000e+00 |   0.3630     5           | 177.7625     0.5708   177.1917 |   0.3528     5             |  5.000e-04   0.000e+00 |\n",
      "06:28:13 94 /600  | 170.8389     0.5765   170.2624 |   0.683020   0.0000e+00 |   0.3634     5           | 177.7658     0.5704   177.1954 |   0.3823     5             |  5.000e-04   0.000e+00 |\n",
      "06:31:13 95 /600  | 170.8653     0.5764   170.2889 |   0.683020   0.0000e+00 |   0.3626     5           | 177.5665     0.5687   176.9978 |   0.3534     5             |  5.000e-04   0.000e+00 |\n",
      "06:34:11 96 /600  | 170.8144     0.5783   170.2361 |   0.683020   0.0000e+00 |   0.3625     5           | 177.6736     0.5690   177.1047 |   0.3773     5             |  5.000e-04   0.000e+00 |\n",
      "06:37:10 97 /600  | 170.8546     0.5776   170.2769 |   0.683020   0.0000e+00 |   0.3613     5           | 177.6668     0.5696   177.0972 |   0.3525     5             |  5.000e-04   0.000e+00 |\n",
      "06:40:08 98 /600  | 170.8566     0.5785   170.2781 |   0.683020   0.0000e+00 |   0.3619     5           | 177.6533     0.5685   177.0848 |   0.3773     5             |  5.000e-04   0.000e+00 |\n",
      "06:43:07 99 /600  | 165.0121     0.5767   164.4354 |   0.546491   0.0000e+00 |   0.3650     5           | 173.4083     0.5686   172.8397 |   0.3844     5             |  5.000e-04   0.000e+00 |\n",
      "06:46:08 100/600  | 164.8266     0.5785   164.2481 |   0.546491   0.0000e+00 |   0.3627     5           | 173.5477     0.5722   172.9755 |   0.3677     5             |  5.000e-04   0.000e+00 |\n",
      "06:49:06 101/600  | 164.7809     0.5817   164.1991 |   0.546491   0.0000e+00 |   0.3615     5           | 173.6554     0.5778   173.0776 |   0.3658     5             |  5.000e-04   0.000e+00 |\n",
      "06:52:03 102/600  | 164.7450     0.5797   164.1653 |   0.546491   0.0000e+00 |   0.3616     5           | 173.5614     0.5740   172.9873 |   0.3815     5             |  5.000e-04   0.000e+00 |\n",
      "06:55:02 103/600  | 164.7328     0.5814   164.1513 |   0.546491   0.0000e+00 |   0.3617     5           | 173.7283     0.5708   173.1575 |   0.3780     5             |  5.000e-04   0.000e+00 |\n",
      "06:57:59 104/600  | 164.7765     0.5815   164.1950 |   0.546491   0.0000e+00 |   0.3609     5           | 173.6709     0.5799   173.0910 |   0.3530     5             |  5.000e-04   0.000e+00 |\n",
      "07:00:57 105/600  | 164.6446     0.5843   164.0603 |   0.546491   0.0000e+00 |   0.3564     5           | 173.6029     0.5764   173.0265 |   0.3550     5             |  5.000e-04   0.000e+00 |\n",
      "07:03:56 106/600  | 164.7254     0.5852   164.1402 |   0.546491   0.0000e+00 |   0.3584     5           | 173.6321     0.5791   173.0530 |   0.3734     5             |  5.000e-04   0.000e+00 |\n",
      "07:06:55 107/600  | 164.6121     0.5842   164.0279 |   0.546491   0.0000e+00 |   0.3596     5           | 173.6175     0.5775   173.0400 |   0.3648     5             |  5.000e-04   0.000e+00 |\n",
      "07:09:52 108/600  | 164.7020     0.5857   164.1162 |   0.546491   0.0000e+00 |   0.3552     5           | 173.7865     0.5782   173.2082 |   0.3632     5             |  5.000e-04   0.000e+00 |\n",
      "07:12:51 109/600  | 164.8155     0.5874   164.2281 |   0.546491   0.0000e+00 |   0.3533     5           | 173.5925     0.5814   173.0111 |   0.3595     5             |  5.000e-04   0.000e+00 |\n",
      "07:15:48 110/600  | 164.6545     0.5870   164.0675 |   0.546491   0.0000e+00 |   0.3554     5           | 173.5292     0.5795   172.9498 |   0.3728     5             |  5.000e-04   0.000e+00 |\n",
      "07:18:46 111/600  | 164.5254     0.5884   163.9371 |   0.546491   0.0000e+00 |   0.3555     5           | 173.5082     0.5825   172.9257 |   0.3461     5             |  5.000e-04   0.000e+00 |\n",
      "07:21:46 112/600  | 164.5322     0.5907   163.9414 |   0.546491   0.0000e+00 |   0.3505     5           | 173.8102     0.5857   173.2245 |   0.3604     5             |  5.000e-04   0.000e+00 |\n",
      "07:24:45 113/600  | 164.5547     0.5903   163.9643 |   0.546491   0.0000e+00 |   0.3509     5           | 173.6597     0.5807   173.0791 |   0.3747     5             |  5.000e-04   0.000e+00 |\n",
      "07:27:42 114/600  | 164.5401     0.5906   163.9495 |   0.546491   0.0000e+00 |   0.3486     5           | 173.6137     0.5824   173.0313 |   0.3672     5             |  5.000e-04   0.000e+00 |\n",
      "07:30:42 115/600  | 164.4739     0.5910   163.8829 |   0.546491   0.0000e+00 |   0.3479     5           | 173.7332     0.5836   173.1496 |   0.3728     5             |  5.000e-04   0.000e+00 |\n",
      "07:33:40 116/600  | 164.3344     0.5935   163.7409 |   0.546491   0.0000e+00 |   0.3467     5           | 173.7421     0.5833   173.1588 |   0.3717     5             |  5.000e-04   0.000e+00 |\n",
      "07:36:37 117/600  | 164.2721     0.5878   163.6844 |   0.546491   0.0000e+00 |   0.3676     5           | 173.2944     0.5787   172.7157 |   0.3788     5             |  2.500e-04   0.000e+00 |\n",
      "07:39:37 118/600  | 163.9054     0.5878   163.3176 |   0.546491   0.0000e+00 |   0.3671     5           | 173.2696     0.5768   172.6928 |   0.3802     5             |  2.500e-04   0.000e+00 |\n",
      "07:42:34 119/600  | 163.7149     0.5878   163.1271 |   0.546491   0.0000e+00 |   0.3671     5           | 173.3322     0.5782   172.7541 |   0.3784     5             |  2.500e-04   0.000e+00 |\n",
      "07:45:32 120/600  | 163.5574     0.5893   162.9681 |   0.546491   0.0000e+00 |   0.3658     5           | 173.4534     0.5800   172.8735 |   0.3765     5             |  2.500e-04   0.000e+00 |\n",
      "07:48:31 121/600  | 163.4949     0.5914   162.9035 |   0.546491   0.0000e+00 |   0.3628     5           | 173.4996     0.5811   172.9184 |   0.3753     5             |  2.500e-04   0.000e+00 |\n",
      "07:51:30 122/600  | 163.4237     0.5920   162.8317 |   0.546491   0.0000e+00 |   0.3622     5           | 173.5196     0.5824   172.9372 |   0.3736     5             |  2.500e-04   0.000e+00 |\n",
      "07:54:28 123/600  | 163.4473     0.5936   162.8537 |   0.546491   0.0000e+00 |   0.3615     5           | 173.5528     0.5846   172.9683 |   0.3735     5             |  2.500e-04   0.000e+00 |\n",
      "07:57:27 124/600  | 163.4244     0.5938   162.8306 |   0.546491   0.0000e+00 |   0.3615     5           | 173.6304     0.5845   173.0458 |   0.3728     5             |  2.500e-04   0.000e+00 |\n",
      "08:00:26 125/600  | 163.3417     0.5956   162.7461 |   0.546491   0.0000e+00 |   0.3596     5           | 173.7781     0.5838   173.1943 |   0.3734     5             |  2.500e-04   0.000e+00 |\n",
      "08:03:25 126/600  | 163.3469     0.5962   162.7507 |   0.546491   0.0000e+00 |   0.3578     5           | 173.9087     0.5865   173.3222 |   0.3723     5             |  2.500e-04   0.000e+00 |\n",
      "08:06:24 127/600  | 163.3662     0.5976   162.7686 |   0.546491   0.0000e+00 |   0.3566     5           | 173.8085     0.5890   173.2195 |   0.3705     5             |  2.500e-04   0.000e+00 |\n",
      "08:09:22 128/600  | 163.3507     0.5978   162.7529 |   0.546491   0.0000e+00 |   0.3567     5           | 173.7796     0.5902   173.1894 |   0.3682     5             |  2.500e-04   0.000e+00 |\n",
      "08:12:20 129/600  | 163.3080     0.6002   162.7078 |   0.546491   0.0000e+00 |   0.3547     5           | 173.8707     0.5895   173.2812 |   0.3680     5             |  2.500e-04   0.000e+00 |\n",
      "08:15:18 130/600  | 158.7138     0.6003   158.1135 |   0.466516   0.0000e+00 |   0.3548     5           | 170.8977     0.5901   170.3076 |   0.3676     5             |  2.500e-04   0.000e+00 |\n",
      "08:18:15 131/600  | 158.6764     0.6009   158.0755 |   0.466516   0.0000e+00 |   0.3530     5           | 171.1517     0.5918   170.5599 |   0.3664     5             |  2.500e-04   0.000e+00 |\n",
      "08:21:13 132/600  | 158.8523     0.6019   158.2504 |   0.466516   0.0000e+00 |   0.3527     5           | 171.1101     0.5936   170.5165 |   0.3642     5             |  2.500e-04   0.000e+00 |\n",
      "08:24:10 133/600  | 158.6706     0.6038   158.0668 |   0.466516   0.0000e+00 |   0.3507     5           | 171.1886     0.5941   170.5945 |   0.3650     5             |  2.500e-04   0.000e+00 |\n",
      "08:27:06 134/600  | 158.6590     0.6037   158.0553 |   0.466516   0.0000e+00 |   0.3503     5           | 171.0372     0.5927   170.4446 |   0.3656     5             |  2.500e-04   0.000e+00 |\n",
      "08:30:06 135/600  | 158.6531     0.6059   158.0472 |   0.466516   0.0000e+00 |   0.3479     5           | 171.3083     0.5950   170.7133 |   0.3635     5             |  2.500e-04   0.000e+00 |\n",
      "08:33:03 136/600  | 158.5858     0.6062   157.9796 |   0.466516   0.0000e+00 |   0.3468     5           | 171.0950     0.5967   170.4982 |   0.3616     5             |  2.500e-04   0.000e+00 |\n",
      "08:36:04 137/600  | 158.5987     0.6073   157.9913 |   0.466516   0.0000e+00 |   0.3467     5           | 171.0636     0.5963   170.4673 |   0.3603     5             |  2.500e-04   0.000e+00 |\n",
      "08:39:03 138/600  | 158.7268     0.6078   158.1190 |   0.466516   0.0000e+00 |   0.3463     5           | 171.0717     0.5968   170.4749 |   0.3611     5             |  2.500e-04   0.000e+00 |\n",
      "08:42:01 139/600  | 158.7700     0.6093   158.1607 |   0.466516   0.0000e+00 |   0.3450     5           | 170.7194     0.6001   170.1194 |   0.3576     5             |  2.500e-04   0.000e+00 |\n",
      "08:45:00 140/600  | 158.7538     0.6110   158.1428 |   0.466516   0.0000e+00 |   0.3424     5           | 170.5375     0.6003   169.9372 |   0.3569     5             |  2.500e-04   0.000e+00 |\n",
      "08:47:59 141/600  | 158.5782     0.6128   157.9654 |   0.466516   0.0000e+00 |   0.3409     5           | 170.7243     0.6019   170.1224 |   0.3564     5             |  2.500e-04   0.000e+00 |\n",
      "08:50:57 142/600  | 158.5207     0.6128   157.9078 |   0.466516   0.0000e+00 |   0.3402     5           | 170.7415     0.6045   170.1370 |   0.3534     5             |  2.500e-04   0.000e+00 |\n",
      "08:53:57 143/600  | 158.3648     0.6145   157.7503 |   0.466516   0.0000e+00 |   0.3392     5           | 170.7181     0.6036   170.1146 |   0.3557     5             |  2.500e-04   0.000e+00 |\n",
      "08:56:57 144/600  | 158.2528     0.6152   157.6375 |   0.466516   0.0000e+00 |   0.3386     5           | 171.0446     0.6066   170.4379 |   0.3515     5             |  2.500e-04   0.000e+00 |\n",
      "08:59:56 145/600  | 158.2481     0.6165   157.6316 |   0.466516   0.0000e+00 |   0.3368     5           | 170.9433     0.6048   170.3384 |   0.3513     5             |  2.500e-04   0.000e+00 |\n",
      "09:02:56 146/600  | 158.3604     0.6185   157.7418 |   0.466516   0.0000e+00 |   0.3355     5           | 171.1582     0.6076   170.5506 |   0.3507     5             |  2.500e-04   0.000e+00 |\n",
      "09:05:56 147/600  | 158.3352     0.6186   157.7166 |   0.466516   0.0000e+00 |   0.3339     5           | 170.9945     0.6056   170.3888 |   0.3518     5             |  2.500e-04   0.000e+00 |\n",
      "09:08:53 148/600  | 158.2977     0.6199   157.6779 |   0.466516   0.0000e+00 |   0.3335     5           | 171.4079     0.6119   170.7959 |   0.3451     5             |  2.500e-04   0.000e+00 |\n",
      "09:11:53 149/600  | 158.2575     0.6225   157.6349 |   0.466516   0.0000e+00 |   0.3309     5           | 171.4035     0.6128   170.7906 |   0.3416     5             |  2.500e-04   0.000e+00 |\n",
      "09:14:50 150/600  | 158.2958     0.6227   157.6731 |   0.466516   0.0000e+00 |   0.3297     5           | 171.1287     0.6139   170.5148 |   0.3441     5             |  2.500e-04   0.000e+00 |\n",
      "09:17:48 151/600  | 158.0880     0.6238   157.4642 |   0.466516   0.0000e+00 |   0.3301     5           | 171.3964     0.6116   170.7848 |   0.3460     5             |  2.500e-04   0.000e+00 |\n",
      "09:20:47 152/600  | 158.1290     0.6243   157.5047 |   0.466516   0.0000e+00 |   0.3280     5           | 171.4851     0.6156   170.8695 |   0.3403     5             |  2.500e-04   0.000e+00 |\n",
      "09:23:43 153/600  | 158.2681     0.6269   157.6412 |   0.466516   0.0000e+00 |   0.3261     5           | 171.2377     0.6140   170.6237 |   0.3397     5             |  2.500e-04   0.000e+00 |\n",
      "09:26:40 154/600  | 158.3824     0.6271   157.7553 |   0.466516   0.0000e+00 |   0.3256     5           | 171.2419     0.6159   170.6261 |   0.3389     5             |  2.500e-04   0.000e+00 |\n",
      "09:29:39 155/600  | 158.2467     0.6276   157.6191 |   0.466516   0.0000e+00 |   0.3258     5           | 171.3121     0.6126   170.6996 |   0.3450     5             |  2.500e-04   0.000e+00 |\n",
      "09:32:35 156/600  | 158.1431     0.6287   157.5144 |   0.466516   0.0000e+00 |   0.3247     5           | 171.3027     0.6152   170.6875 |   0.3411     5             |  2.500e-04   0.000e+00 |\n",
      "09:35:31 157/600  | 158.0252     0.6295   157.3957 |   0.466516   0.0000e+00 |   0.3233     5           | 171.1939     0.6164   170.5774 |   0.3400     5             |  2.500e-04   0.000e+00 |\n",
      "09:38:28 158/600  | 157.8483     0.6299   157.2184 |   0.466516   0.0000e+00 |   0.3239     5           | 171.3891     0.6152   170.7739 |   0.3417     5             |  2.500e-04   0.000e+00 |\n",
      "09:41:26 159/600  | 157.7168     0.6322   157.0845 |   0.466516   0.0000e+00 |   0.3221     5           | 171.6585     0.6161   171.0425 |   0.3393     5             |  2.500e-04   0.000e+00 |\n",
      "09:44:26 160/600  | 157.9337     0.6322   157.3015 |   0.466516   0.0000e+00 |   0.3202     5           | 171.5309     0.6179   170.9129 |   0.3381     5             |  2.500e-04   0.000e+00 |\n",
      "09:47:26 161/600  | 154.0376     0.6331   153.4045 |   0.412635   0.0000e+00 |   0.3211     5           | 169.3906     0.6172   168.7734 |   0.3394     5             |  2.500e-04   0.000e+00 |\n",
      "09:50:25 162/600  | 153.8325     0.6326   153.1999 |   0.412635   0.0000e+00 |   0.3215     5           | 169.4439     0.6213   168.8226 |   0.3317     5             |  2.500e-04   0.000e+00 |\n",
      "09:53:20 163/600  | 153.7076     0.6345   153.0731 |   0.412635   0.0000e+00 |   0.3181     5           | 169.4659     0.6198   168.8461 |   0.3353     5             |  2.500e-04   0.000e+00 |\n",
      "09:56:17 164/600  | 153.5144     0.6338   152.8806 |   0.412635   0.0000e+00 |   0.3195     5           | 169.7517     0.6218   169.1299 |   0.3361     5             |  2.500e-04   0.000e+00 |\n",
      "09:59:15 165/600  | 153.6056     0.6355   152.9701 |   0.412635   0.0000e+00 |   0.3196     5           | 169.6109     0.6220   168.9889 |   0.3321     5             |  2.500e-04   0.000e+00 |\n",
      "10:02:15 166/600  | 153.8459     0.6371   153.2087 |   0.412635   0.0000e+00 |   0.3150     5           | 169.5286     0.6237   168.9049 |   0.3312     5             |  2.500e-04   0.000e+00 |\n",
      "10:05:13 167/600  | 153.3611     0.6365   152.7247 |   0.412635   0.0000e+00 |   0.3169     5           | 169.6756     0.6237   169.0519 |   0.3277     5             |  2.500e-04   0.000e+00 |\n",
      "10:08:08 168/600  | 153.3425     0.6370   152.7055 |   0.412635   0.0000e+00 |   0.3165     5           | 169.8867     0.6257   169.2611 |   0.3282     5             |  2.500e-04   0.000e+00 |\n",
      "10:11:07 169/600  | 153.4229     0.6387   152.7842 |   0.412635   0.0000e+00 |   0.3156     5           | 169.9712     0.6287   169.3425 |   0.3247     5             |  2.500e-04   0.000e+00 |\n",
      "10:14:07 170/600  | 153.2385     0.6396   152.5989 |   0.412635   0.0000e+00 |   0.3144     5           | 169.9697     0.6285   169.3412 |   0.3251     5             |  2.500e-04   0.000e+00 |\n",
      "10:17:08 171/600  | 153.2396     0.6389   152.6007 |   0.412635   0.0000e+00 |   0.3143     5           | 170.2424     0.6295   169.6129 |   0.3269     5             |  2.500e-04   0.000e+00 |\n",
      "10:20:07 172/600  | 153.5015     0.6424   152.8591 |   0.412635   0.0000e+00 |   0.3086     5           | 170.0404     0.6342   169.4061 |   0.3204     5             |  2.500e-04   0.000e+00 |\n",
      "10:23:07 173/600  | 153.6223     0.6416   152.9807 |   0.412635   0.0000e+00 |   0.3109     5           | 169.8559     0.6318   169.2241 |   0.3255     5             |  2.500e-04   0.000e+00 |\n",
      "10:26:06 174/600  | 153.3399     0.6415   152.6983 |   0.412635   0.0000e+00 |   0.3123     5           | 169.8620     0.6321   169.2299 |   0.3244     5             |  2.500e-04   0.000e+00 |\n",
      "10:29:04 175/600  | 153.4254     0.6420   152.7835 |   0.412635   0.0000e+00 |   0.3110     5           | 170.0728     0.6347   169.4382 |   0.3211     5             |  2.500e-04   0.000e+00 |\n",
      "10:32:02 176/600  | 153.6916     0.6423   153.0493 |   0.412635   0.0000e+00 |   0.3087     5           | 169.4632     0.6323   168.8310 |   0.3215     5             |  2.500e-04   0.000e+00 |\n",
      "10:34:58 177/600  | 153.8341     0.6424   153.1917 |   0.412635   0.0000e+00 |   0.3104     5           | 169.2266     0.6345   168.5921 |   0.3212     5             |  2.500e-04   0.000e+00 |\n",
      "10:37:55 178/600  | 153.2295     0.6387   152.5908 |   0.412635   0.0000e+00 |   0.3206     5           | 169.3591     0.6350   168.7241 |   0.3251     5             |  1.250e-04   0.000e+00 |\n",
      "10:40:52 179/600  | 152.7188     0.6397   152.0791 |   0.412635   0.0000e+00 |   0.3195     5           | 169.6532     0.6357   169.0175 |   0.3250     5             |  1.250e-04   0.000e+00 |\n",
      "10:43:50 180/600  | 152.5019     0.6410   151.8609 |   0.412635   0.0000e+00 |   0.3183     5           | 169.8263     0.6348   169.1914 |   0.3257     5             |  1.250e-04   0.000e+00 |\n",
      "10:46:45 181/600  | 152.2783     0.6417   151.6366 |   0.412635   0.0000e+00 |   0.3177     5           | 169.9893     0.6348   169.3545 |   0.3254     5             |  1.250e-04   0.000e+00 |\n",
      "10:49:45 182/600  | 152.1153     0.6430   151.4723 |   0.412635   0.0000e+00 |   0.3165     5           | 170.1630     0.6360   169.5270 |   0.3237     5             |  1.250e-04   0.000e+00 |\n",
      "10:52:46 183/600  | 152.0367     0.6442   151.3925 |   0.412635   0.0000e+00 |   0.3153     5           | 170.3829     0.6378   169.7451 |   0.3223     5             |  1.250e-04   0.000e+00 |\n",
      "10:55:43 184/600  | 151.9658     0.6454   151.3204 |   0.412635   0.0000e+00 |   0.3145     5           | 170.4205     0.6397   169.7809 |   0.3199     5             |  1.250e-04   0.000e+00 |\n",
      "10:58:37 185/600  | 152.0832     0.6457   151.4375 |   0.412635   0.0000e+00 |   0.3142     5           | 170.3832     0.6394   169.7438 |   0.3204     5             |  1.250e-04   0.000e+00 |\n",
      "11:01:36 186/600  | 151.9931     0.6456   151.3475 |   0.412635   0.0000e+00 |   0.3142     5           | 170.3672     0.6394   169.7278 |   0.3204     5             |  1.250e-04   0.000e+00 |\n",
      "11:04:34 187/600  | 151.8662     0.6461   151.2202 |   0.412635   0.0000e+00 |   0.3137     5           | 170.6094     0.6418   169.9675 |   0.3186     5             |  1.250e-04   0.000e+00 |\n",
      "11:07:34 188/600  | 151.7780     0.6473   151.1307 |   0.412635   0.0000e+00 |   0.3126     5           | 170.6828     0.6386   170.0442 |   0.3196     5             |  1.250e-04   0.000e+00 |\n",
      "11:10:36 189/600  | 151.8014     0.6478   151.1535 |   0.412635   0.0000e+00 |   0.3122     5           | 170.7674     0.6420   170.1254 |   0.3170     5             |  1.250e-04   0.000e+00 |\n",
      "11:13:36 190/600  | 151.8848     0.6484   151.2364 |   0.412635   0.0000e+00 |   0.3117     5           | 170.8105     0.6420   170.1684 |   0.3188     5             |  1.250e-04   0.000e+00 |\n",
      "11:16:32 191/600  | 151.8645     0.6495   151.2150 |   0.412635   0.0000e+00 |   0.3108     5           | 170.9912     0.6430   170.3482 |   0.3172     5             |  1.250e-04   0.000e+00 |\n",
      "11:19:29 192/600  | 148.3388     0.6492   147.6896 |   0.373265   0.0000e+00 |   0.3112     5           | 169.3879     0.6436   168.7443 |   0.3164     5             |  1.250e-04   0.000e+00 |\n",
      "11:22:28 193/600  | 148.3221     0.6501   147.6719 |   0.373265   0.0000e+00 |   0.3099     5           | 169.3371     0.6428   168.6943 |   0.3176     5             |  1.250e-04   0.000e+00 |\n",
      "11:25:28 194/600  | 148.1837     0.6504   147.5334 |   0.373265   0.0000e+00 |   0.3100     5           | 169.5844     0.6441   168.9403 |   0.3161     5             |  1.250e-04   0.000e+00 |\n",
      "11:28:40 195/600  | 148.0968     0.6512   147.4456 |   0.373265   0.0000e+00 |   0.3091     5           | 169.5466     0.6433   168.9033 |   0.3178     5             |  1.250e-04   0.000e+00 |\n",
      "11:31:39 196/600  | 148.2097     0.6519   147.5578 |   0.373265   0.0000e+00 |   0.3078     5           | 169.7391     0.6468   169.0923 |   0.3142     5             |  1.250e-04   0.000e+00 |\n",
      "11:34:44 197/600  | 148.1995     0.6524   147.5471 |   0.373265   0.0000e+00 |   0.3076     5           | 169.7431     0.6457   169.0974 |   0.3158     5             |  1.250e-04   0.000e+00 |\n",
      "11:37:42 198/600  | 148.0055     0.6529   147.3526 |   0.373265   0.0000e+00 |   0.3073     5           | 169.6444     0.6459   168.9985 |   0.3155     5             |  1.250e-04   0.000e+00 |\n",
      "11:40:42 199/600  | 147.9084     0.6535   147.2549 |   0.373265   0.0000e+00 |   0.3064     5           | 169.8431     0.6492   169.1939 |   0.3122     5             |  1.250e-04   0.000e+00 |\n",
      "11:43:40 200/600  | 147.8904     0.6543   147.2362 |   0.373265   0.0000e+00 |   0.3057     5           | 169.8056     0.6471   169.1585 |   0.3132     5             |  1.250e-04   0.000e+00 |\n",
      "19:14:42 201/600  | 147.9186     0.6545   147.2641 |   0.373265   0.0000e+00 |   0.3055     5           | 169.7756     0.6503   169.1252 |   0.3102     5             |  1.250e-04   0.000e+00 |\n",
      "19:17:38 202/600  | 147.9019     0.6556   147.2463 |   0.373265   0.0000e+00 |   0.3042     5           | 169.8174     0.6508   169.1666 |   0.3106     5             |  1.250e-04   0.000e+00 |\n",
      "19:20:35 203/600  | 147.7571     0.6569   147.1002 |   0.373265   0.0000e+00 |   0.3032     5           | 169.9903     0.6510   169.3393 |   0.3107     5             |  1.250e-04   0.000e+00 |\n",
      "19:23:33 204/600  | 147.7215     0.6572   147.0644 |   0.373265   0.0000e+00 |   0.3029     5           | 169.9619     0.6512   169.3107 |   0.3093     5             |  1.250e-04   0.000e+00 |\n",
      "19:26:33 205/600  | 147.6888     0.6582   147.0306 |   0.373265   0.0000e+00 |   0.3021     5           | 169.7769     0.6515   169.1255 |   0.3091     5             |  1.250e-04   0.000e+00 |\n",
      "19:29:33 206/600  | 147.7238     0.6579   147.0660 |   0.373265   0.0000e+00 |   0.3023     5           | 169.9076     0.6538   169.2539 |   0.3072     5             |  1.250e-04   0.000e+00 |\n",
      "19:32:34 207/600  | 147.6219     0.6584   146.9634 |   0.373265   0.0000e+00 |   0.3018     5           | 169.9195     0.6545   169.2650 |   0.3064     5             |  1.250e-04   0.000e+00 |\n",
      "19:35:28 208/600  | 147.6259     0.6595   146.9665 |   0.373265   0.0000e+00 |   0.3007     5           | 170.0439     0.6537   169.3902 |   0.3078     5             |  1.250e-04   0.000e+00 |\n",
      "19:38:28 209/600  | 147.5075     0.6587   146.8487 |   0.373265   0.0000e+00 |   0.3012     5           | 170.2519     0.6519   169.6000 |   0.3093     5             |  1.250e-04   0.000e+00 |\n",
      "19:41:25 210/600  | 147.3931     0.6601   146.7331 |   0.373265   0.0000e+00 |   0.2999     5           | 170.4306     0.6576   169.7730 |   0.3039     5             |  1.250e-04   0.000e+00 |\n",
      "19:44:21 211/600  | 147.8119     0.6610   147.1509 |   0.373265   0.0000e+00 |   0.2982     5           | 170.0246     0.6512   169.3734 |   0.3099     5             |  1.250e-04   0.000e+00 |\n",
      "19:47:16 212/600  | 147.4516     0.6591   146.7925 |   0.373265   0.0000e+00 |   0.3006     5           | 170.1911     0.6518   169.5393 |   0.3096     5             |  1.250e-04   0.000e+00 |\n",
      "19:50:20 213/600  | 147.4901     0.6593   146.8308 |   0.373265   0.0000e+00 |   0.3014     5           | 170.0084     0.6514   169.3570 |   0.3098     5             |  1.250e-04   0.000e+00 |\n",
      "19:53:29 214/600  | 147.4085     0.6596   146.7489 |   0.373265   0.0000e+00 |   0.3008     5           | 170.1351     0.6511   169.4840 |   0.3102     5             |  1.250e-04   0.000e+00 |\n",
      "19:56:36 215/600  | 147.1206     0.6604   146.4602 |   0.373265   0.0000e+00 |   0.2997     5           | 170.3096     0.6538   169.6557 |   0.3079     5             |  1.250e-04   0.000e+00 |\n",
      "19:59:46 216/600  | 146.9849     0.6609   146.3241 |   0.373265   0.0000e+00 |   0.3001     5           | 170.5340     0.6536   169.8804 |   0.3080     5             |  1.250e-04   0.000e+00 |\n",
      "20:02:55 217/600  | 146.8401     0.6619   146.1782 |   0.373265   0.0000e+00 |   0.2989     5           | 170.7125     0.6535   170.0590 |   0.3076     5             |  1.250e-04   0.000e+00 |\n",
      "20:06:04 218/600  | 146.7289     0.6619   146.0670 |   0.373265   0.0000e+00 |   0.2983     5           | 170.9066     0.6539   170.2527 |   0.3072     5             |  1.250e-04   0.000e+00 |\n",
      "20:09:12 219/600  | 146.6521     0.6632   145.9889 |   0.373265   0.0000e+00 |   0.2971     5           | 171.0022     0.6557   170.3465 |   0.3056     5             |  1.250e-04   0.000e+00 |\n",
      "20:12:20 220/600  | 146.6010     0.6636   145.9375 |   0.373265   0.0000e+00 |   0.2969     5           | 171.2555     0.6550   170.6005 |   0.3064     5             |  1.250e-04   0.000e+00 |\n",
      "20:15:27 221/600  | 146.7375     0.6638   146.0737 |   0.373265   0.0000e+00 |   0.2967     5           | 170.9471     0.6561   170.2910 |   0.3052     5             |  1.250e-04   0.000e+00 |\n",
      "20:18:36 222/600  | 146.6118     0.6645   145.9473 |   0.373265   0.0000e+00 |   0.2961     5           | 171.1837     0.6570   170.5267 |   0.3041     5             |  1.250e-04   0.000e+00 |\n",
      "20:21:42 223/600  | 143.3351     0.6650   142.6701 |   0.342923   0.0000e+00 |   0.2959     5           | 170.2943     0.6555   169.6388 |   0.3062     5             |  1.250e-04   0.000e+00 |\n",
      "20:24:50 224/600  | 143.1828     0.6656   142.5172 |   0.342923   0.0000e+00 |   0.2951     5           | 170.2437     0.6571   169.5866 |   0.3044     5             |  1.250e-04   0.000e+00 |\n",
      "20:27:59 225/600  | 143.1296     0.6661   142.4635 |   0.342923   0.0000e+00 |   0.2949     5           | 170.4094     0.6574   169.7520 |   0.3038     5             |  1.250e-04   0.000e+00 |\n",
      "20:31:04 226/600  | 143.0370     0.6669   142.3702 |   0.342923   0.0000e+00 |   0.2941     5           | 170.4801     0.6575   169.8226 |   0.3041     5             |  1.250e-04   0.000e+00 |\n",
      "20:34:11 227/600  | 142.9903     0.6667   142.3236 |   0.342923   0.0000e+00 |   0.2934     5           | 170.6813     0.6591   170.0222 |   0.3020     5             |  1.250e-04   0.000e+00 |\n",
      "20:37:18 228/600  | 142.8993     0.6670   142.2322 |   0.342923   0.0000e+00 |   0.2933     5           | 170.5829     0.6606   169.9224 |   0.3008     5             |  1.250e-04   0.000e+00 |\n",
      "20:40:26 229/600  | 142.9248     0.6684   142.2565 |   0.342923   0.0000e+00 |   0.2918     5           | 170.7466     0.6619   170.0846 |   0.3004     5             |  1.250e-04   0.000e+00 |\n",
      "20:43:33 230/600  | 143.0543     0.6683   142.3860 |   0.342923   0.0000e+00 |   0.2915     5           | 170.7417     0.6608   170.0808 |   0.3011     5             |  1.250e-04   0.000e+00 |\n",
      "20:46:34 231/600  | 142.8102     0.6684   142.1417 |   0.342923   0.0000e+00 |   0.2918     5           | 170.9243     0.6618   170.2625 |   0.2998     5             |  1.250e-04   0.000e+00 |\n",
      "20:49:31 232/600  | 142.7787     0.6689   142.1098 |   0.342923   0.0000e+00 |   0.2917     5           | 170.8620     0.6620   170.2001 |   0.2998     5             |  1.250e-04   0.000e+00 |\n",
      "20:52:28 233/600  | 142.6692     0.6698   141.9995 |   0.342923   0.0000e+00 |   0.2905     5           | 171.0645     0.6635   170.4009 |   0.2980     5             |  1.250e-04   0.000e+00 |\n",
      "20:55:25 234/600  | 142.6895     0.6700   142.0195 |   0.342923   0.0000e+00 |   0.2909     5           | 170.9414     0.6625   170.2789 |   0.2993     5             |  1.250e-04   0.000e+00 |\n",
      "20:58:21 235/600  | 142.5069     0.6703   141.8365 |   0.342923   0.0000e+00 |   0.2902     5           | 171.1537     0.6640   170.4897 |   0.2972     5             |  1.250e-04   0.000e+00 |\n",
      "21:01:18 236/600  | 142.3703     0.6715   141.6988 |   0.342923   0.0000e+00 |   0.2887     5           | 170.8093     0.6631   170.1462 |   0.2981     5             |  1.250e-04   0.000e+00 |\n",
      "21:04:14 237/600  | 142.4718     0.6719   141.7998 |   0.342923   0.0000e+00 |   0.2884     5           | 170.9389     0.6644   170.2745 |   0.2970     5             |  1.250e-04   0.000e+00 |\n",
      "21:07:11 238/600  | 142.2456     0.6725   141.5730 |   0.342923   0.0000e+00 |   0.2879     5           | 171.1377     0.6635   170.4742 |   0.2966     5             |  1.250e-04   0.000e+00 |\n",
      "21:10:08 239/600  | 142.2690     0.6715   141.5974 |   0.342923   0.0000e+00 |   0.2909     5           | 170.9202     0.6632   170.2571 |   0.2971     5             |  6.250e-05   0.000e+00 |\n",
      "21:13:05 240/600  | 141.8581     0.6714   141.1867 |   0.342923   0.0000e+00 |   0.2915     5           | 171.0690     0.6635   170.4055 |   0.2973     5             |  6.250e-05   0.000e+00 |\n",
      "21:16:00 241/600  | 141.5855     0.6723   140.9132 |   0.342923   0.0000e+00 |   0.2907     5           | 171.6797     0.6643   171.0155 |   0.2969     5             |  6.250e-05   0.000e+00 |\n",
      "21:18:58 242/600  | 141.5643     0.6727   140.8917 |   0.342923   0.0000e+00 |   0.2904     5           | 171.4768     0.6642   170.8127 |   0.2966     5             |  6.250e-05   0.000e+00 |\n",
      "21:21:53 243/600  | 141.3005     0.6735   140.6270 |   0.342923   0.0000e+00 |   0.2895     5           | 171.6268     0.6656   170.9612 |   0.2954     5             |  6.250e-05   0.000e+00 |\n",
      "21:24:50 244/600  | 141.1972     0.6745   140.5226 |   0.342923   0.0000e+00 |   0.2884     5           | 171.8548     0.6660   171.1889 |   0.2954     5             |  6.250e-05   0.000e+00 |\n",
      "21:27:45 245/600  | 141.0979     0.6750   140.4229 |   0.342923   0.0000e+00 |   0.2880     5           | 171.8754     0.6658   171.2095 |   0.2953     5             |  6.250e-05   0.000e+00 |\n",
      "21:30:42 246/600  | 141.1165     0.6764   140.4401 |   0.342923   0.0000e+00 |   0.2866     5           | 172.0514     0.6684   171.3830 |   0.2936     5             |  6.250e-05   0.000e+00 |\n",
      "21:33:41 247/600  | 141.0976     0.6760   140.4216 |   0.342923   0.0000e+00 |   0.2869     5           | 171.9216     0.6672   171.2543 |   0.2935     5             |  6.250e-05   0.000e+00 |\n",
      "21:36:38 248/600  | 140.9643     0.6767   140.2876 |   0.342923   0.0000e+00 |   0.2862     5           | 172.1190     0.6681   171.4509 |   0.2930     5             |  6.250e-05   0.000e+00 |\n",
      "21:39:36 249/600  | 140.8285     0.6774   140.1512 |   0.342923   0.0000e+00 |   0.2855     5           | 172.1875     0.6691   171.5184 |   0.2919     5             |  6.250e-05   0.000e+00 |\n",
      "21:42:32 250/600  | 140.8279     0.6783   140.1496 |   0.342923   0.0000e+00 |   0.2845     5           | 172.2891     0.6694   171.6197 |   0.2915     5             |  6.250e-05   0.000e+00 |\n",
      "21:45:31 251/600  | 140.7373     0.6786   140.0587 |   0.342923   0.0000e+00 |   0.2839     5           | 172.3108     0.6702   171.6406 |   0.2908     5             |  6.250e-05   0.000e+00 |\n",
      "21:48:30 252/600  | 140.6962     0.6795   140.0167 |   0.342923   0.0000e+00 |   0.2834     5           | 172.3062     0.6707   171.6355 |   0.2903     5             |  6.250e-05   0.000e+00 |\n",
      "21:51:30 253/600  | 140.6544     0.6796   139.9748 |   0.342923   0.0000e+00 |   0.2829     5           | 172.3430     0.6706   171.6724 |   0.2903     5             |  6.250e-05   0.000e+00 |\n",
      "21:54:30 254/600  | 137.6718     0.6800   136.9918 |   0.318640   0.0000e+00 |   0.2827     5           | 171.6389     0.6712   170.9677 |   0.2899     5             |  6.250e-05   0.000e+00 |\n",
      "21:57:28 255/600  | 137.6809     0.6805   137.0004 |   0.318640   0.0000e+00 |   0.2822     5           | 171.6621     0.6716   170.9905 |   0.2894     5             |  6.250e-05   0.000e+00 |\n",
      "22:00:26 256/600  | 137.6224     0.6811   136.9413 |   0.318640   0.0000e+00 |   0.2821     5           | 171.7307     0.6728   171.0579 |   0.2887     5             |  6.250e-05   0.000e+00 |\n",
      "22:03:24 257/600  | 137.5323     0.6815   136.8508 |   0.318640   0.0000e+00 |   0.2815     5           | 171.8393     0.6723   171.1670 |   0.2882     5             |  6.250e-05   0.000e+00 |\n",
      "22:06:24 258/600  | 137.5539     0.6820   136.8719 |   0.318640   0.0000e+00 |   0.2807     5           | 171.6038     0.6735   170.9303 |   0.2877     5             |  6.250e-05   0.000e+00 |\n",
      "22:09:21 259/600  | 137.4477     0.6822   136.7655 |   0.318640   0.0000e+00 |   0.2806     5           | 171.7671     0.6730   171.0941 |   0.2876     5             |  6.250e-05   0.000e+00 |\n",
      "22:12:19 260/600  | 137.3371     0.6832   136.6539 |   0.318640   0.0000e+00 |   0.2799     5           | 172.0000     0.6743   171.3257 |   0.2868     5             |  6.250e-05   0.000e+00 |\n",
      "22:15:20 261/600  | 137.3083     0.6836   136.6248 |   0.318640   0.0000e+00 |   0.2793     5           | 171.9841     0.6751   171.3090 |   0.2858     5             |  6.250e-05   0.000e+00 |\n",
      "22:18:20 262/600  | 137.2740     0.6843   136.5897 |   0.318640   0.0000e+00 |   0.2785     5           | 172.0937     0.6752   171.4186 |   0.2852     5             |  6.250e-05   0.000e+00 |\n",
      "22:21:18 263/600  | 137.2438     0.6848   136.5589 |   0.318640   0.0000e+00 |   0.2779     5           | 172.1514     0.6758   171.4756 |   0.2852     5             |  6.250e-05   0.000e+00 |\n",
      "22:24:13 264/600  | 137.5719     0.6885   136.8834 |   0.318640   0.0000e+00 |   0.2746     5           | 172.0586     0.6768   171.3818 |   0.2836     5             |  6.250e-05   0.000e+00 |\n",
      "22:27:12 265/600  | 137.3716     0.6866   136.6850 |   0.318640   0.0000e+00 |   0.2765     5           | 172.0865     0.6764   171.4101 |   0.2843     5             |  6.250e-05   0.000e+00 |\n",
      "22:30:12 266/600  | 137.1738     0.6869   136.4869 |   0.318640   0.0000e+00 |   0.2760     5           | 172.2077     0.6773   171.5305 |   0.2840     5             |  6.250e-05   0.000e+00 |\n",
      "22:33:11 267/600  | 137.0812     0.6871   136.3940 |   0.318640   0.0000e+00 |   0.2757     5           | 172.1157     0.6780   171.4377 |   0.2832     5             |  6.250e-05   0.000e+00 |\n",
      "22:36:07 268/600  | 137.0765     0.6877   136.3888 |   0.318640   0.0000e+00 |   0.2752     5           | 172.2680     0.6786   171.5894 |   0.2828     5             |  6.250e-05   0.000e+00 |\n",
      "22:39:04 269/600  | 137.0333     0.6882   136.3452 |   0.318640   0.0000e+00 |   0.2745     5           | 172.3076     0.6783   171.6293 |   0.2824     5             |  6.250e-05   0.000e+00 |\n",
      "22:42:03 270/600  | 137.0287     0.6887   136.3400 |   0.318640   0.0000e+00 |   0.2741     5           | 172.3521     0.6784   171.6738 |   0.2823     5             |  6.250e-05   0.000e+00 |\n",
      "22:45:01 271/600  | 136.9768     0.6891   136.2877 |   0.318640   0.0000e+00 |   0.2738     5           | 172.4097     0.6795   171.7302 |   0.2815     5             |  6.250e-05   0.000e+00 |\n",
      "22:47:58 272/600  | 137.1389     0.6893   136.4496 |   0.318640   0.0000e+00 |   0.2734     5           | 172.3377     0.6792   171.6585 |   0.2811     5             |  6.250e-05   0.000e+00 |\n",
      "22:50:55 273/600  | 137.2111     0.6896   136.5215 |   0.318640   0.0000e+00 |   0.2731     5           | 172.4729     0.6799   171.7930 |   0.2801     5             |  6.250e-05   0.000e+00 |\n",
      "22:53:52 274/600  | 137.0322     0.6899   136.3424 |   0.318640   0.0000e+00 |   0.2730     5           | 172.5039     0.6799   171.8240 |   0.2806     5             |  6.250e-05   0.000e+00 |\n",
      "22:56:52 275/600  | 136.8776     0.6903   136.1873 |   0.318640   0.0000e+00 |   0.2723     5           | 172.6954     0.6806   172.0148 |   0.2798     5             |  6.250e-05   0.000e+00 |\n",
      "22:59:50 276/600  | 136.8611     0.6910   136.1702 |   0.318640   0.0000e+00 |   0.2716     5           | 172.5895     0.6816   171.9079 |   0.2789     5             |  6.250e-05   0.000e+00 |\n",
      "23:02:48 277/600  | 136.7999     0.6916   136.1083 |   0.318640   0.0000e+00 |   0.2710     5           | 172.6843     0.6810   172.0033 |   0.2794     5             |  6.250e-05   0.000e+00 |\n",
      "23:05:50 278/600  | 136.7811     0.6920   136.0891 |   0.318640   0.0000e+00 |   0.2707     5           | 172.6376     0.6825   171.9551 |   0.2781     5             |  6.250e-05   0.000e+00 |\n",
      "23:08:50 279/600  | 136.8322     0.6927   136.1395 |   0.318640   0.0000e+00 |   0.2699     5           | 172.6701     0.6828   171.9873 |   0.2778     5             |  6.250e-05   0.000e+00 |\n",
      "23:11:52 280/600  | 136.9592     0.6933   136.2658 |   0.318640   0.0000e+00 |   0.2694     5           | 172.6114     0.6827   171.9287 |   0.2783     5             |  6.250e-05   0.000e+00 |\n",
      "23:14:50 281/600  | 136.8065     0.6936   136.1129 |   0.318640   0.0000e+00 |   0.2679     5           | 172.7353     0.6838   172.0515 |   0.2767     5             |  6.250e-05   0.000e+00 |\n",
      "23:17:52 282/600  | 136.7496     0.6938   136.0559 |   0.318640   0.0000e+00 |   0.2677     5           | 172.7981     0.6832   172.1149 |   0.2764     5             |  6.250e-05   0.000e+00 |\n",
      "23:20:51 283/600  | 136.7747     0.6948   136.0800 |   0.318640   0.0000e+00 |   0.2670     5           | 172.8105     0.6849   172.1256 |   0.2749     5             |  6.250e-05   0.000e+00 |\n",
      "23:23:50 284/600  | 136.7353     0.6949   136.0405 |   0.318640   0.0000e+00 |   0.2668     5           | 172.8690     0.6861   172.1829 |   0.2742     5             |  6.250e-05   0.000e+00 |\n",
      "23:26:49 285/600  | 133.9852     0.6947   133.2905 |   0.298653   0.0000e+00 |   0.2674     5           | 172.3593     0.6853   171.6740 |   0.2752     5             |  6.250e-05   0.000e+00 |\n",
      "23:29:48 286/600  | 133.9990     0.6951   133.3039 |   0.298653   0.0000e+00 |   0.2674     5           | 172.2514     0.6853   171.5661 |   0.2753     5             |  6.250e-05   0.000e+00 |\n",
      "23:32:48 287/600  | 133.9521     0.6952   133.2569 |   0.298653   0.0000e+00 |   0.2672     5           | 172.3362     0.6860   171.6502 |   0.2749     5             |  6.250e-05   0.000e+00 |\n",
      "23:35:49 288/600  | 133.9841     0.6956   133.2885 |   0.298653   0.0000e+00 |   0.2669     5           | 172.2459     0.6864   171.5596 |   0.2747     5             |  6.250e-05   0.000e+00 |\n",
      "23:38:48 289/600  | 134.1410     0.6958   133.4452 |   0.298653   0.0000e+00 |   0.2668     5           | 172.1745     0.6867   171.4879 |   0.2753     5             |  6.250e-05   0.000e+00 |\n",
      "23:41:47 290/600  | 134.0854     0.6954   133.3900 |   0.298653   0.0000e+00 |   0.2672     5           | 172.1818     0.6869   171.4948 |   0.2740     5             |  6.250e-05   0.000e+00 |\n",
      "23:44:46 291/600  | 133.9051     0.6961   133.2090 |   0.298653   0.0000e+00 |   0.2661     5           | 172.1812     0.6866   171.4946 |   0.2740     5             |  6.250e-05   0.000e+00 |\n",
      "23:47:45 292/600  | 133.7834     0.6968   133.0866 |   0.298653   0.0000e+00 |   0.2655     5           | 172.2123     0.6870   171.5253 |   0.2736     5             |  6.250e-05   0.000e+00 |\n",
      "23:50:44 293/600  | 133.8169     0.6971   133.1199 |   0.298653   0.0000e+00 |   0.2651     5           | 172.3840     0.6874   171.6966 |   0.2732     5             |  6.250e-05   0.000e+00 |\n",
      "23:53:43 294/600  | 133.7924     0.6978   133.0945 |   0.298653   0.0000e+00 |   0.2648     5           | 172.4359     0.6875   171.7484 |   0.2730     5             |  6.250e-05   0.000e+00 |\n",
      "23:56:40 295/600  | 133.6604     0.6980   132.9624 |   0.298653   0.0000e+00 |   0.2646     5           | 172.5914     0.6881   171.9033 |   0.2727     5             |  6.250e-05   0.000e+00 |\n",
      "23:59:39 296/600  | 133.7164     0.6990   133.0173 |   0.298653   0.0000e+00 |   0.2639     5           | 172.6187     0.6897   171.9290 |   0.2715     5             |  6.250e-05   0.000e+00 |\n",
      "00:02:37 297/600  | 133.7368     0.6990   133.0378 |   0.298653   0.0000e+00 |   0.2638     5           | 172.5934     0.6885   171.9048 |   0.2721     5             |  6.250e-05   0.000e+00 |\n",
      "00:05:35 298/600  | 133.5745     0.6992   132.8753 |   0.298653   0.0000e+00 |   0.2632     5           | 172.5438     0.6896   171.8543 |   0.2711     5             |  6.250e-05   0.000e+00 |\n",
      "00:08:34 299/600  | 133.4686     0.6999   132.7688 |   0.298653   0.0000e+00 |   0.2627     5           | 172.5526     0.6901   171.8625 |   0.2708     5             |  6.250e-05   0.000e+00 |\n",
      "00:11:36 300/600  | 133.7037     0.6994   133.0043 |   0.298653   0.0000e+00 |   0.2643     5           | 172.4996     0.6885   171.8111 |   0.2737     5             |  3.125e-05   0.000e+00 |\n",
      "00:14:36 301/600  | 133.5024     0.6994   132.8031 |   0.298653   0.0000e+00 |   0.2645     5           | 172.6467     0.6887   171.9580 |   0.2736     5             |  3.125e-05   0.000e+00 |\n",
      "00:17:36 302/600  | 133.3353     0.6998   132.6355 |   0.298653   0.0000e+00 |   0.2641     5           | 172.7937     0.6888   172.1048 |   0.2733     5             |  3.125e-05   0.000e+00 |\n",
      "00:20:36 303/600  | 133.2401     0.7002   132.5399 |   0.298653   0.0000e+00 |   0.2636     5           | 172.9362     0.6893   172.2469 |   0.2730     5             |  3.125e-05   0.000e+00 |\n",
      "00:23:33 304/600  | 133.1107     0.7004   132.4103 |   0.298653   0.0000e+00 |   0.2635     5           | 173.0439     0.6895   172.3544 |   0.2727     5             |  3.125e-05   0.000e+00 |\n",
      "00:26:31 305/600  | 133.0062     0.7012   132.3050 |   0.298653   0.0000e+00 |   0.2626     5           | 173.1352     0.6901   172.4452 |   0.2723     5             |  3.125e-05   0.000e+00 |\n",
      "00:29:28 306/600  | 132.9297     0.7016   132.2281 |   0.298653   0.0000e+00 |   0.2623     5           | 173.2656     0.6905   172.5751 |   0.2717     5             |  3.125e-05   0.000e+00 |\n",
      "00:32:26 307/600  | 132.8988     0.7020   132.1967 |   0.298653   0.0000e+00 |   0.2618     5           | 173.2464     0.6909   172.5555 |   0.2714     5             |  3.125e-05   0.000e+00 |\n",
      "00:35:26 308/600  | 132.8500     0.7024   132.1475 |   0.298653   0.0000e+00 |   0.2614     5           | 173.4188     0.6910   172.7277 |   0.2711     5             |  3.125e-05   0.000e+00 |\n",
      "00:38:24 309/600  | 132.8127     0.7028   132.1098 |   0.298653   0.0000e+00 |   0.2610     5           | 173.3220     0.6916   172.6305 |   0.2706     5             |  3.125e-05   0.000e+00 |\n",
      "00:41:22 310/600  | 132.7756     0.7032   132.0725 |   0.298653   0.0000e+00 |   0.2607     5           | 173.4581     0.6920   172.7661 |   0.2703     5             |  3.125e-05   0.000e+00 |\n",
      "00:44:21 311/600  | 132.7511     0.7036   132.0475 |   0.298653   0.0000e+00 |   0.2603     5           | 173.3789     0.6924   172.6865 |   0.2697     5             |  3.125e-05   0.000e+00 |\n",
      "00:47:20 312/600  | 132.7095     0.7038   132.0057 |   0.298653   0.0000e+00 |   0.2601     5           | 173.5168     0.6927   172.8241 |   0.2694     5             |  3.125e-05   0.000e+00 |\n",
      "00:50:18 313/600  | 132.6521     0.7041   131.9481 |   0.298653   0.0000e+00 |   0.2597     5           | 173.5120     0.6932   172.8189 |   0.2689     5             |  3.125e-05   0.000e+00 |\n",
      "00:53:17 314/600  | 132.6342     0.7046   131.9296 |   0.298653   0.0000e+00 |   0.2593     5           | 173.4831     0.6935   172.7896 |   0.2687     5             |  3.125e-05   0.000e+00 |\n",
      "00:56:17 315/600  | 132.5942     0.7049   131.8893 |   0.298653   0.0000e+00 |   0.2589     5           | 173.5291     0.6940   172.8351 |   0.2680     5             |  3.125e-05   0.000e+00 |\n",
      "00:59:18 316/600  | 130.0841     0.7053   129.3788 |   0.281838   0.0000e+00 |   0.2586     5           | 173.2190     0.6941   172.5249 |   0.2682     5             |  3.125e-05   0.000e+00 |\n",
      "01:02:18 317/600  | 130.1664     0.7073   129.4591 |   0.281838   0.0000e+00 |   0.2569     5           | 173.2333     0.6960   172.5373 |   0.2663     5             |  3.125e-05   0.000e+00 |\n",
      "01:05:19 318/600  | 130.1054     0.7063   129.3991 |   0.281838   0.0000e+00 |   0.2576     5           | 173.3781     0.6947   172.6834 |   0.2674     5             |  3.125e-05   0.000e+00 |\n",
      "01:08:18 319/600  | 130.0090     0.7064   129.3026 |   0.281838   0.0000e+00 |   0.2575     5           | 173.2421     0.6960   172.5461 |   0.2662     5             |  3.125e-05   0.000e+00 |\n",
      "01:11:17 320/600  | 129.9714     0.7065   129.2649 |   0.281838   0.0000e+00 |   0.2574     5           | 173.4354     0.6961   172.7393 |   0.2662     5             |  3.125e-05   0.000e+00 |\n",
      "01:14:17 321/600  | 129.9101     0.7068   129.2033 |   0.281838   0.0000e+00 |   0.2572     5           | 173.3652     0.6963   172.6690 |   0.2661     5             |  3.125e-05   0.000e+00 |\n",
      "01:17:13 322/600  | 129.8524     0.7070   129.1453 |   0.281838   0.0000e+00 |   0.2569     5           | 173.5530     0.6965   172.8565 |   0.2658     5             |  3.125e-05   0.000e+00 |\n",
      "01:20:11 323/600  | 129.8753     0.7073   129.1680 |   0.281838   0.0000e+00 |   0.2566     5           | 173.4114     0.6971   172.7143 |   0.2650     5             |  3.125e-05   0.000e+00 |\n",
      "01:23:09 324/600  | 129.7882     0.7077   129.0806 |   0.281838   0.0000e+00 |   0.2562     5           | 173.4321     0.6973   172.7348 |   0.2649     5             |  3.125e-05   0.000e+00 |\n",
      "01:26:10 325/600  | 129.7121     0.7078   129.0043 |   0.281838   0.0000e+00 |   0.2561     5           | 173.5000     0.6974   172.8027 |   0.2648     5             |  3.125e-05   0.000e+00 |\n",
      "01:29:08 326/600  | 129.7549     0.7079   129.0470 |   0.281838   0.0000e+00 |   0.2559     5           | 173.4483     0.6977   172.7506 |   0.2645     5             |  3.125e-05   0.000e+00 |\n",
      "01:32:08 327/600  | 129.6996     0.7083   128.9913 |   0.281838   0.0000e+00 |   0.2556     5           | 173.4328     0.6981   172.7348 |   0.2640     5             |  3.125e-05   0.000e+00 |\n",
      "01:35:06 328/600  | 129.6043     0.7085   128.8958 |   0.281838   0.0000e+00 |   0.2554     5           | 173.6147     0.6985   172.9162 |   0.2638     5             |  3.125e-05   0.000e+00 |\n",
      "01:38:04 329/600  | 129.5770     0.7088   128.8682 |   0.281838   0.0000e+00 |   0.2552     5           | 173.5833     0.6991   172.8842 |   0.2631     5             |  3.125e-05   0.000e+00 |\n",
      "01:41:02 330/600  | 129.4974     0.7092   128.7882 |   0.281838   0.0000e+00 |   0.2548     5           | 173.5596     0.6993   172.8602 |   0.2630     5             |  3.125e-05   0.000e+00 |\n",
      "01:43:59 331/600  | 129.4385     0.7094   128.7291 |   0.281838   0.0000e+00 |   0.2546     5           | 173.6232     0.6994   172.9238 |   0.2629     5             |  3.125e-05   0.000e+00 |\n",
      "01:46:58 332/600  | 129.4476     0.7096   128.7380 |   0.281838   0.0000e+00 |   0.2545     5           | 173.5658     0.7003   172.8655 |   0.2619     5             |  3.125e-05   0.000e+00 |\n",
      "01:49:56 333/600  | 129.6658     0.7100   128.9558 |   0.281838   0.0000e+00 |   0.2540     5           | 173.3234     0.7001   172.6234 |   0.2624     5             |  3.125e-05   0.000e+00 |\n",
      "01:52:57 334/600  | 129.6361     0.7103   128.9258 |   0.281838   0.0000e+00 |   0.2539     5           | 173.4497     0.7013   172.7485 |   0.2609     5             |  3.125e-05   0.000e+00 |\n",
      "01:55:56 335/600  | 129.3067     0.7106   128.5961 |   0.281838   0.0000e+00 |   0.2533     5           | 173.7782     0.7016   173.0766 |   0.2607     5             |  3.125e-05   0.000e+00 |\n",
      "01:58:55 336/600  | 129.1803     0.7111   128.4692 |   0.281838   0.0000e+00 |   0.2528     5           | 173.7798     0.7024   173.0774 |   0.2600     5             |  3.125e-05   0.000e+00 |\n",
      "02:01:55 337/600  | 129.0928     0.7114   128.3815 |   0.281838   0.0000e+00 |   0.2526     5           | 174.0433     0.7022   173.3411 |   0.2601     5             |  3.125e-05   0.000e+00 |\n",
      "02:04:52 338/600  | 129.0421     0.7115   128.3306 |   0.281838   0.0000e+00 |   0.2525     5           | 174.0747     0.7029   173.3718 |   0.2594     5             |  3.125e-05   0.000e+00 |\n",
      "02:07:52 339/600  | 128.9972     0.7118   128.2854 |   0.281838   0.0000e+00 |   0.2522     5           | 174.0780     0.7029   173.3751 |   0.2594     5             |  3.125e-05   0.000e+00 |\n",
      "02:10:51 340/600  | 128.9612     0.7119   128.2493 |   0.281838   0.0000e+00 |   0.2521     5           | 174.2450     0.7032   173.5418 |   0.2593     5             |  3.125e-05   0.000e+00 |\n",
      "02:13:49 341/600  | 128.8949     0.7121   128.1828 |   0.281838   0.0000e+00 |   0.2519     5           | 174.2530     0.7038   173.5492 |   0.2586     5             |  3.125e-05   0.000e+00 |\n",
      "02:16:49 342/600  | 128.8473     0.7124   128.1349 |   0.281838   0.0000e+00 |   0.2516     5           | 174.2415     0.7038   173.5377 |   0.2587     5             |  3.125e-05   0.000e+00 |\n",
      "02:19:46 343/600  | 129.3686     0.7146   128.6541 |   0.281838   0.0000e+00 |   0.2491     5           | 173.8962     0.7062   173.1899 |   0.2526     5             |  3.125e-05   0.000e+00 |\n",
      "02:22:44 344/600  | 129.1402     0.7145   128.4257 |   0.281838   0.0000e+00 |   0.2487     5           | 174.1028     0.7051   173.3976 |   0.2568     5             |  3.125e-05   0.000e+00 |\n",
      "02:25:42 345/600  | 128.8269     0.7139   128.1130 |   0.281838   0.0000e+00 |   0.2496     5           | 174.2953     0.7069   173.5883 |   0.2555     5             |  3.125e-05   0.000e+00 |\n",
      "02:28:40 346/600  | 128.6984     0.7137   127.9847 |   0.281838   0.0000e+00 |   0.2497     5           | 174.3425     0.7051   173.6373 |   0.2572     5             |  3.125e-05   0.000e+00 |\n",
      "02:31:37 347/600  | 126.2542     0.7132   125.5411 |   0.267445   0.0000e+00 |   0.2504     5           | 174.2470     0.7048   173.5421 |   0.2576     5             |  3.125e-05   0.000e+00 |\n",
      "02:34:35 348/600  | 126.2209     0.7133   125.5075 |   0.267445   0.0000e+00 |   0.2503     5           | 174.3417     0.7049   173.6368 |   0.2576     5             |  3.125e-05   0.000e+00 |\n",
      "02:37:32 349/600  | 126.2256     0.7132   125.5124 |   0.267445   0.0000e+00 |   0.2505     5           | 174.3339     0.7047   173.6292 |   0.2577     5             |  3.125e-05   0.000e+00 |\n",
      "02:40:29 350/600  | 126.1494     0.7134   125.4360 |   0.267445   0.0000e+00 |   0.2505     5           | 174.3716     0.7046   173.6670 |   0.2577     5             |  3.125e-05   0.000e+00 |\n",
      "02:43:28 351/600  | 126.1435     0.7135   125.4299 |   0.267445   0.0000e+00 |   0.2503     5           | 174.4343     0.7051   173.7293 |   0.2576     5             |  3.125e-05   0.000e+00 |\n",
      "02:46:28 352/600  | 126.0036     0.7138   125.2898 |   0.267445   0.0000e+00 |   0.2501     5           | 174.4090     0.7051   173.7039 |   0.2573     5             |  3.125e-05   0.000e+00 |\n",
      "02:49:26 353/600  | 125.9176     0.7139   125.2037 |   0.267445   0.0000e+00 |   0.2501     5           | 174.4340     0.7055   173.7286 |   0.2570     5             |  3.125e-05   0.000e+00 |\n",
      "02:52:24 354/600  | 125.8899     0.7141   125.1758 |   0.267445   0.0000e+00 |   0.2498     5           | 174.4992     0.7053   173.7939 |   0.2571     5             |  3.125e-05   0.000e+00 |\n",
      "02:55:20 355/600  | 125.8726     0.7142   125.1584 |   0.267445   0.0000e+00 |   0.2498     5           | 174.5883     0.7048   173.8835 |   0.2576     5             |  3.125e-05   0.000e+00 |\n",
      "02:58:17 356/600  | 125.8308     0.7143   125.1166 |   0.267445   0.0000e+00 |   0.2497     5           | 174.5922     0.7053   173.8869 |   0.2571     5             |  3.125e-05   0.000e+00 |\n",
      "03:01:16 357/600  | 125.8098     0.7144   125.0954 |   0.267445   0.0000e+00 |   0.2497     5           | 174.6633     0.7053   173.9580 |   0.2571     5             |  3.125e-05   0.000e+00 |\n",
      "03:04:13 358/600  | 125.7525     0.7144   125.0381 |   0.267445   0.0000e+00 |   0.2496     5           | 174.5787     0.7054   173.8733 |   0.2571     5             |  3.125e-05   0.000e+00 |\n",
      "03:07:10 359/600  | 125.6793     0.7145   124.9649 |   0.267445   0.0000e+00 |   0.2495     5           | 174.5758     0.7057   173.8701 |   0.2568     5             |  3.125e-05   0.000e+00 |\n",
      "03:10:07 360/600  | 125.6545     0.7147   124.9398 |   0.267445   0.0000e+00 |   0.2494     5           | 174.6907     0.7054   173.9853 |   0.2571     5             |  3.125e-05   0.000e+00 |\n",
      "03:13:07 361/600  | 125.9868     0.7145   125.2723 |   0.267445   0.0000e+00 |   0.2501     5           | 174.5317     0.7043   173.8274 |   0.2582     5             |  1.563e-05   0.000e+00 |\n",
      "03:16:06 362/600  | 125.7462     0.7144   125.0318 |   0.267445   0.0000e+00 |   0.2502     5           | 174.6453     0.7043   173.9409 |   0.2581     5             |  1.563e-05   0.000e+00 |\n",
      "03:19:04 363/600  | 125.5476     0.7146   124.8330 |   0.267445   0.0000e+00 |   0.2499     5           | 174.7882     0.7047   174.0835 |   0.2578     5             |  1.563e-05   0.000e+00 |\n",
      "03:22:03 364/600  | 125.4048     0.7147   124.6901 |   0.267445   0.0000e+00 |   0.2498     5           | 174.8627     0.7049   174.1578 |   0.2575     5             |  1.563e-05   0.000e+00 |\n",
      "03:25:03 365/600  | 125.2916     0.7148   124.5767 |   0.267445   0.0000e+00 |   0.2497     5           | 174.9543     0.7052   174.2492 |   0.2572     5             |  1.563e-05   0.000e+00 |\n",
      "03:28:01 366/600  | 125.2051     0.7150   124.4901 |   0.267445   0.0000e+00 |   0.2495     5           | 174.9891     0.7055   174.2836 |   0.2569     5             |  1.563e-05   0.000e+00 |\n",
      "03:30:58 367/600  | 125.1583     0.7151   124.4432 |   0.267445   0.0000e+00 |   0.2494     5           | 175.0677     0.7057   174.3621 |   0.2567     5             |  1.563e-05   0.000e+00 |\n",
      "03:33:57 368/600  | 125.0851     0.7152   124.3699 |   0.267445   0.0000e+00 |   0.2493     5           | 175.0817     0.7058   174.3759 |   0.2566     5             |  1.563e-05   0.000e+00 |\n",
      "03:36:56 369/600  | 125.0269     0.7154   124.3115 |   0.267445   0.0000e+00 |   0.2492     5           | 175.2039     0.7059   174.4980 |   0.2566     5             |  1.563e-05   0.000e+00 |\n",
      "03:39:55 370/600  | 124.9675     0.7154   124.2521 |   0.267445   0.0000e+00 |   0.2491     5           | 175.2392     0.7058   174.5334 |   0.2566     5             |  1.563e-05   0.000e+00 |\n",
      "03:42:57 371/600  | 124.9217     0.7155   124.2061 |   0.267445   0.0000e+00 |   0.2490     5           | 175.2411     0.7060   174.5351 |   0.2564     5             |  1.563e-05   0.000e+00 |\n",
      "03:45:57 372/600  | 124.8727     0.7156   124.1571 |   0.267445   0.0000e+00 |   0.2489     5           | 175.3192     0.7064   174.6128 |   0.2560     5             |  1.563e-05   0.000e+00 |\n",
      "03:48:55 373/600  | 124.8345     0.7158   124.1187 |   0.267445   0.0000e+00 |   0.2488     5           | 175.3247     0.7064   174.6183 |   0.2559     5             |  1.563e-05   0.000e+00 |\n",
      "03:51:54 374/600  | 124.8142     0.7160   124.0982 |   0.267445   0.0000e+00 |   0.2486     5           | 175.3656     0.7064   174.6593 |   0.2560     5             |  1.563e-05   0.000e+00 |\n",
      "03:54:54 375/600  | 124.8585     0.7161   124.1423 |   0.267445   0.0000e+00 |   0.2485     5           | 175.3548     0.7066   174.6482 |   0.2560     5             |  1.563e-05   0.000e+00 |\n",
      "03:57:51 376/600  | 124.7508     0.7161   124.0347 |   0.267445   0.0000e+00 |   0.2485     5           | 175.4007     0.7066   174.6941 |   0.2558     5             |  1.563e-05   0.000e+00 |\n",
      "04:00:48 377/600  | 124.6719     0.7162   123.9557 |   0.267445   0.0000e+00 |   0.2484     5           | 175.5026     0.7069   174.7957 |   0.2555     5             |  1.563e-05   0.000e+00 |\n",
      "04:03:47 378/600  | 122.4153     0.7164   121.6989 |   0.254947   0.0000e+00 |   0.2482     5           | 175.5115     0.7070   174.8045 |   0.2553     5             |  1.563e-05   0.000e+00 |\n",
      "04:06:46 379/600  | 122.3824     0.7164   121.6660 |   0.254947   0.0000e+00 |   0.2480     5           | 175.5305     0.7070   174.8235 |   0.2554     5             |  1.563e-05   0.000e+00 |\n",
      "04:09:45 380/600  | 122.3613     0.7164   121.6449 |   0.254947   0.0000e+00 |   0.2481     5           | 175.5678     0.7071   174.8607 |   0.2552     5             |  1.563e-05   0.000e+00 |\n",
      "04:12:44 381/600  | 122.3183     0.7165   121.6018 |   0.254947   0.0000e+00 |   0.2480     5           | 175.5921     0.7073   174.8848 |   0.2551     5             |  1.563e-05   0.000e+00 |\n",
      "04:15:44 382/600  | 122.2811     0.7166   121.5645 |   0.254947   0.0000e+00 |   0.2479     5           | 175.6727     0.7071   174.9656 |   0.2552     5             |  1.563e-05   0.000e+00 |\n",
      "04:18:42 383/600  | 122.2402     0.7166   121.5237 |   0.254947   0.0000e+00 |   0.2480     5           | 175.6703     0.7073   174.9630 |   0.2550     5             |  1.563e-05   0.000e+00 |\n",
      "04:21:43 384/600  | 122.2169     0.7168   121.5001 |   0.254947   0.0000e+00 |   0.2478     5           | 175.7455     0.7077   175.0378 |   0.2548     5             |  1.563e-05   0.000e+00 |\n",
      "04:24:44 385/600  | 122.1590     0.7168   121.4422 |   0.254947   0.0000e+00 |   0.2478     5           | 175.7100     0.7077   175.0023 |   0.2546     5             |  1.563e-05   0.000e+00 |\n",
      "04:27:42 386/600  | 122.1230     0.7168   121.4062 |   0.254947   0.0000e+00 |   0.2477     5           | 175.7569     0.7077   175.0492 |   0.2547     5             |  1.563e-05   0.000e+00 |\n",
      "04:30:39 387/600  | 122.0922     0.7171   121.3751 |   0.254947   0.0000e+00 |   0.2475     5           | 175.7873     0.7077   175.0796 |   0.2547     5             |  1.563e-05   0.000e+00 |\n",
      "04:33:37 388/600  | 122.0626     0.7170   121.3456 |   0.254947   0.0000e+00 |   0.2475     5           | 175.8425     0.7079   175.1346 |   0.2544     5             |  1.563e-05   0.000e+00 |\n",
      "04:36:36 389/600  | 122.0332     0.7172   121.3161 |   0.254947   0.0000e+00 |   0.2474     5           | 175.9144     0.7081   175.2063 |   0.2543     5             |  1.563e-05   0.000e+00 |\n",
      "04:39:35 390/600  | 122.0106     0.7171   121.2934 |   0.254947   0.0000e+00 |   0.2474     5           | 175.8809     0.7081   175.1729 |   0.2544     5             |  1.563e-05   0.000e+00 |\n",
      "04:42:33 391/600  | 121.9676     0.7172   121.2504 |   0.254947   0.0000e+00 |   0.2474     5           | 175.9266     0.7080   175.2185 |   0.2543     5             |  1.563e-05   0.000e+00 |\n",
      "04:45:34 392/600  | 121.9276     0.7174   121.2103 |   0.254947   0.0000e+00 |   0.2472     5           | 175.9033     0.7080   175.1953 |   0.2544     5             |  1.563e-05   0.000e+00 |\n",
      "04:48:32 393/600  | 121.8904     0.7174   121.1730 |   0.254947   0.0000e+00 |   0.2472     5           | 175.9775     0.7084   175.2691 |   0.2540     5             |  1.563e-05   0.000e+00 |\n",
      "04:51:34 394/600  | 121.8639     0.7176   121.1464 |   0.254947   0.0000e+00 |   0.2470     5           | 176.0477     0.7085   175.3392 |   0.2540     5             |  1.563e-05   0.000e+00 |\n",
      "04:54:33 395/600  | 121.8426     0.7176   121.1251 |   0.254947   0.0000e+00 |   0.2470     5           | 176.0075     0.7087   175.2988 |   0.2538     5             |  1.563e-05   0.000e+00 |\n",
      "04:57:32 396/600  | 121.8369     0.7176   121.1193 |   0.254947   0.0000e+00 |   0.2470     5           | 176.0193     0.7082   175.3110 |   0.2543     5             |  1.563e-05   0.000e+00 |\n",
      "05:00:32 397/600  | 121.9051     0.7177   121.1875 |   0.254947   0.0000e+00 |   0.2470     5           | 176.0560     0.7088   175.3472 |   0.2536     5             |  1.563e-05   0.000e+00 |\n",
      "05:03:32 398/600  | 121.8209     0.7177   121.1032 |   0.254947   0.0000e+00 |   0.2468     5           | 176.0670     0.7087   175.3583 |   0.2538     5             |  1.563e-05   0.000e+00 |\n",
      "05:06:32 399/600  | 121.7349     0.7179   121.0170 |   0.254947   0.0000e+00 |   0.2467     5           | 176.1708     0.7089   175.4620 |   0.2535     5             |  1.563e-05   0.000e+00 |\n",
      "05:09:32 400/600  | 121.6985     0.7181   120.9804 |   0.254947   0.0000e+00 |   0.2465     5           | 176.1800     0.7088   175.4712 |   0.2537     5             |  1.563e-05   0.000e+00 |\n",
      "20:00:19 401/600  | 121.6740     0.7180   120.9560 |   0.254947   0.0000e+00 |   0.2466     5           | 176.1916     0.7088   175.4828 |   0.2537     5             |  1.563e-05   0.000e+00 |\n",
      "20:03:17 402/600  | 121.6372     0.7182   120.9191 |   0.254947   0.0000e+00 |   0.2464     5           | 176.2649     0.7086   175.5563 |   0.2538     5             |  1.563e-05   0.000e+00 |\n",
      "20:06:15 403/600  | 121.6087     0.7182   120.8905 |   0.254947   0.0000e+00 |   0.2464     5           | 176.2988     0.7092   175.5896 |   0.2532     5             |  1.563e-05   0.000e+00 |\n",
      "20:09:11 404/600  | 121.5821     0.7182   120.8639 |   0.254947   0.0000e+00 |   0.2464     5           | 176.2720     0.7091   175.5628 |   0.2534     5             |  1.563e-05   0.000e+00 |\n",
      "20:12:09 405/600  | 121.5649     0.7183   120.8466 |   0.254947   0.0000e+00 |   0.2463     5           | 176.3139     0.7089   175.6049 |   0.2534     5             |  1.563e-05   0.000e+00 |\n",
      "20:15:06 406/600  | 121.5784     0.7184   120.8600 |   0.254947   0.0000e+00 |   0.2462     5           | 176.2001     0.7092   175.4909 |   0.2532     5             |  1.563e-05   0.000e+00 |\n",
      "20:18:04 407/600  | 121.6002     0.7184   120.8818 |   0.254947   0.0000e+00 |   0.2462     5           | 176.3057     0.7088   175.5969 |   0.2536     5             |  1.563e-05   0.000e+00 |\n",
      "20:20:59 408/600  | 121.5238     0.7185   120.8054 |   0.254947   0.0000e+00 |   0.2461     5           | 176.3644     0.7094   175.6550 |   0.2531     5             |  1.563e-05   0.000e+00 |\n",
      "20:23:56 409/600  | 119.4303     0.7187   118.7117 |   0.243967   0.0000e+00 |   0.2459     5           | 176.5412     0.7092   175.8321 |   0.2533     5             |  1.563e-05   0.000e+00 |\n",
      "20:26:55 410/600  | 119.3984     0.7186   118.6798 |   0.243967   0.0000e+00 |   0.2460     5           | 176.4674     0.7089   175.7585 |   0.2536     5             |  1.563e-05   0.000e+00 |\n",
      "20:29:52 411/600  | 119.4072     0.7191   118.6881 |   0.243967   0.0000e+00 |   0.2458     5           | 176.5722     0.7103   175.8619 |   0.2530     5             |  1.563e-05   0.000e+00 |\n",
      "20:32:49 412/600  | 119.3716     0.7191   118.6525 |   0.243967   0.0000e+00 |   0.2455     5           | 176.6509     0.7095   175.9414 |   0.2530     5             |  1.563e-05   0.000e+00 |\n",
      "20:35:46 413/600  | 119.3861     0.7190   118.6671 |   0.243967   0.0000e+00 |   0.2455     5           | 176.5461     0.7095   175.8366 |   0.2529     5             |  1.563e-05   0.000e+00 |\n",
      "20:38:40 414/600  | 119.3520     0.7189   118.6330 |   0.243967   0.0000e+00 |   0.2456     5           | 176.6509     0.7091   175.9418 |   0.2533     5             |  1.563e-05   0.000e+00 |\n",
      "20:41:40 415/600  | 119.2717     0.7189   118.5528 |   0.243967   0.0000e+00 |   0.2456     5           | 176.7242     0.7094   176.0149 |   0.2531     5             |  1.563e-05   0.000e+00 |\n",
      "20:44:37 416/600  | 119.2689     0.7190   118.5499 |   0.243967   0.0000e+00 |   0.2456     5           | 176.7870     0.7094   176.0777 |   0.2530     5             |  1.563e-05   0.000e+00 |\n",
      "20:47:35 417/600  | 119.2166     0.7192   118.4974 |   0.243967   0.0000e+00 |   0.2454     5           | 176.7222     0.7095   176.0127 |   0.2529     5             |  1.563e-05   0.000e+00 |\n",
      "20:50:31 418/600  | 119.1928     0.7192   118.4736 |   0.243967   0.0000e+00 |   0.2454     5           | 176.8067     0.7095   176.0971 |   0.2529     5             |  1.563e-05   0.000e+00 |\n",
      "20:53:28 419/600  | 119.1689     0.7193   118.4496 |   0.243967   0.0000e+00 |   0.2453     5           | 176.8846     0.7095   176.1751 |   0.2529     5             |  1.563e-05   0.000e+00 |\n",
      "20:56:25 420/600  | 119.1531     0.7193   118.4338 |   0.243967   0.0000e+00 |   0.2453     5           | 176.9364     0.7098   176.2266 |   0.2527     5             |  1.563e-05   0.000e+00 |\n",
      "20:59:23 421/600  | 119.1240     0.7194   118.4046 |   0.243967   0.0000e+00 |   0.2452     5           | 176.8340     0.7097   176.1243 |   0.2527     5             |  1.563e-05   0.000e+00 |\n",
      "21:02:21 422/600  | 119.1699     0.7193   118.4506 |   0.243967   0.0000e+00 |   0.2456     5           | 176.9051     0.7092   176.1959 |   0.2534     5             |  7.813e-06   0.000e+00 |\n",
      "21:05:19 423/600  | 119.0497     0.7194   118.3303 |   0.243967   0.0000e+00 |   0.2455     5           | 177.0129     0.7092   176.3037 |   0.2534     5             |  7.813e-06   0.000e+00 |\n",
      "21:08:18 424/600  | 118.9845     0.7194   118.2651 |   0.243967   0.0000e+00 |   0.2454     5           | 177.0986     0.7091   176.3895 |   0.2534     5             |  7.813e-06   0.000e+00 |\n",
      "21:11:17 425/600  | 118.9490     0.7195   118.2296 |   0.243967   0.0000e+00 |   0.2454     5           | 177.1369     0.7092   176.4277 |   0.2533     5             |  7.813e-06   0.000e+00 |\n",
      "21:14:16 426/600  | 118.9283     0.7195   118.2088 |   0.243967   0.0000e+00 |   0.2453     5           | 177.2077     0.7093   176.4985 |   0.2533     5             |  7.813e-06   0.000e+00 |\n",
      "21:17:16 427/600  | 118.9099     0.7196   118.1904 |   0.243967   0.0000e+00 |   0.2453     5           | 177.1740     0.7093   176.4647 |   0.2532     5             |  7.813e-06   0.000e+00 |\n",
      "21:20:13 428/600  | 118.8964     0.7196   118.1768 |   0.243967   0.0000e+00 |   0.2452     5           | 177.2548     0.7093   176.5455 |   0.2532     5             |  7.813e-06   0.000e+00 |\n",
      "21:23:10 429/600  | 118.8841     0.7196   118.1645 |   0.243967   0.0000e+00 |   0.2453     5           | 177.2429     0.7094   176.5335 |   0.2531     5             |  7.813e-06   0.000e+00 |\n",
      "21:26:05 430/600  | 118.8702     0.7197   118.1505 |   0.243967   0.0000e+00 |   0.2452     5           | 177.2858     0.7092   176.5766 |   0.2533     5             |  7.813e-06   0.000e+00 |\n",
      "21:29:06 431/600  | 118.8563     0.7197   118.1366 |   0.243967   0.0000e+00 |   0.2453     5           | 177.2803     0.7094   176.5709 |   0.2531     5             |  7.813e-06   0.000e+00 |\n",
      "21:32:02 432/600  | 118.8390     0.7197   118.1193 |   0.243967   0.0000e+00 |   0.2452     5           | 177.3259     0.7094   176.6165 |   0.2532     5             |  7.813e-06   0.000e+00 |\n",
      "21:35:00 433/600  | 118.8220     0.7198   118.1022 |   0.243967   0.0000e+00 |   0.2451     5           | 177.3371     0.7095   176.6276 |   0.2530     5             |  7.813e-06   0.000e+00 |\n",
      "21:37:57 434/600  | 118.8073     0.7198   118.0875 |   0.243967   0.0000e+00 |   0.2451     5           | 177.3943     0.7095   176.6849 |   0.2531     5             |  7.813e-06   0.000e+00 |\n",
      "21:40:56 435/600  | 118.8067     0.7198   118.0869 |   0.243967   0.0000e+00 |   0.2451     5           | 177.3348     0.7096   176.6252 |   0.2530     5             |  7.813e-06   0.000e+00 |\n",
      "21:43:53 436/600  | 118.7851     0.7199   118.0652 |   0.243967   0.0000e+00 |   0.2450     5           | 177.4526     0.7096   176.7431 |   0.2530     5             |  7.813e-06   0.000e+00 |\n",
      "21:46:52 437/600  | 118.7581     0.7199   118.0382 |   0.243967   0.0000e+00 |   0.2450     5           | 177.4147     0.7096   176.7051 |   0.2529     5             |  7.813e-06   0.000e+00 |\n",
      "21:49:49 438/600  | 118.7302     0.7199   118.0103 |   0.243967   0.0000e+00 |   0.2450     5           | 177.5134     0.7096   176.8038 |   0.2530     5             |  7.813e-06   0.000e+00 |\n",
      "21:52:46 439/600  | 118.7050     0.7200   117.9850 |   0.243967   0.0000e+00 |   0.2450     5           | 177.4630     0.7095   176.7535 |   0.2530     5             |  7.813e-06   0.000e+00 |\n",
      "21:55:43 440/600  | 116.7979     0.7200   116.0779 |   0.234223   0.0000e+00 |   0.2449     5           | 177.7359     0.7096   177.0263 |   0.2529     5             |  7.813e-06   0.000e+00 |\n",
      "21:58:41 441/600  | 116.7999     0.7200   116.0799 |   0.234223   0.0000e+00 |   0.2449     5           | 177.7182     0.7095   177.0087 |   0.2530     5             |  7.813e-06   0.000e+00 |\n",
      "22:01:37 442/600  | 116.8384     0.7200   116.1184 |   0.234223   0.0000e+00 |   0.2449     5           | 177.7921     0.7096   177.0825 |   0.2528     5             |  7.813e-06   0.000e+00 |\n",
      "22:04:37 443/600  | 116.7694     0.7201   116.0493 |   0.234223   0.0000e+00 |   0.2448     5           | 177.8037     0.7097   177.0940 |   0.2528     5             |  7.813e-06   0.000e+00 |\n",
      "22:07:35 444/600  | 116.7277     0.7200   116.0076 |   0.234223   0.0000e+00 |   0.2449     5           | 177.8775     0.7096   177.1679 |   0.2529     5             |  7.813e-06   0.000e+00 |\n",
      "22:10:34 445/600  | 116.7109     0.7201   115.9908 |   0.234223   0.0000e+00 |   0.2448     5           | 177.8687     0.7098   177.1589 |   0.2528     5             |  7.813e-06   0.000e+00 |\n",
      "22:13:32 446/600  | 116.6976     0.7201   115.9775 |   0.234223   0.0000e+00 |   0.2448     5           | 177.9117     0.7097   177.2020 |   0.2529     5             |  7.813e-06   0.000e+00 |\n",
      "22:16:29 447/600  | 116.6778     0.7202   115.9577 |   0.234223   0.0000e+00 |   0.2448     5           | 177.9074     0.7097   177.1976 |   0.2528     5             |  7.813e-06   0.000e+00 |\n",
      "22:19:27 448/600  | 116.6651     0.7201   115.9450 |   0.234223   0.0000e+00 |   0.2448     5           | 177.9970     0.7098   177.2872 |   0.2528     5             |  7.813e-06   0.000e+00 |\n",
      "22:22:23 449/600  | 116.6682     0.7202   115.9480 |   0.234223   0.0000e+00 |   0.2447     5           | 177.9225     0.7098   177.2127 |   0.2528     5             |  7.813e-06   0.000e+00 |\n",
      "22:25:19 450/600  | 116.6450     0.7201   115.9248 |   0.234223   0.0000e+00 |   0.2448     5           | 177.9752     0.7098   177.2654 |   0.2528     5             |  7.813e-06   0.000e+00 |\n",
      "22:28:18 451/600  | 116.6055     0.7203   115.8852 |   0.234223   0.0000e+00 |   0.2447     5           | 177.9951     0.7098   177.2853 |   0.2528     5             |  7.813e-06   0.000e+00 |\n",
      "22:31:17 452/600  | 116.5768     0.7203   115.8566 |   0.234223   0.0000e+00 |   0.2447     5           | 178.0726     0.7098   177.3628 |   0.2528     5             |  7.813e-06   0.000e+00 |\n",
      "22:34:15 453/600  | 116.5585     0.7203   115.8382 |   0.234223   0.0000e+00 |   0.2447     5           | 178.0606     0.7099   177.3507 |   0.2527     5             |  7.813e-06   0.000e+00 |\n",
      "22:37:13 454/600  | 116.5434     0.7203   115.8231 |   0.234223   0.0000e+00 |   0.2447     5           | 178.0546     0.7098   177.3448 |   0.2528     5             |  7.813e-06   0.000e+00 |\n",
      "22:40:09 455/600  | 116.5292     0.7204   115.8089 |   0.234223   0.0000e+00 |   0.2446     5           | 178.0579     0.7101   177.3478 |   0.2525     5             |  7.813e-06   0.000e+00 |\n",
      "22:43:06 456/600  | 116.5158     0.7204   115.7953 |   0.234223   0.0000e+00 |   0.2446     5           | 178.1292     0.7099   177.4193 |   0.2527     5             |  7.813e-06   0.000e+00 |\n",
      "22:46:04 457/600  | 116.4963     0.7205   115.7758 |   0.234223   0.0000e+00 |   0.2445     5           | 178.1456     0.7101   177.4354 |   0.2525     5             |  7.813e-06   0.000e+00 |\n",
      "22:49:00 458/600  | 116.4830     0.7204   115.7626 |   0.234223   0.0000e+00 |   0.2446     5           | 178.1425     0.7099   177.4326 |   0.2528     5             |  7.813e-06   0.000e+00 |\n",
      "22:51:59 459/600  | 116.4650     0.7205   115.7445 |   0.234223   0.0000e+00 |   0.2445     5           | 178.1626     0.7102   177.4524 |   0.2525     5             |  7.813e-06   0.000e+00 |\n",
      "22:54:59 460/600  | 116.4444     0.7205   115.7239 |   0.234223   0.0000e+00 |   0.2445     5           | 178.1647     0.7101   177.4547 |   0.2526     5             |  7.813e-06   0.000e+00 |\n",
      "22:58:00 461/600  | 116.4256     0.7205   115.7051 |   0.234223   0.0000e+00 |   0.2445     5           | 178.1786     0.7101   177.4685 |   0.2526     5             |  7.813e-06   0.000e+00 |\n",
      "23:00:56 462/600  | 116.4167     0.7205   115.6962 |   0.234223   0.0000e+00 |   0.2445     5           | 178.1973     0.7100   177.4873 |   0.2527     5             |  7.813e-06   0.000e+00 |\n",
      "23:03:54 463/600  | 116.3990     0.7206   115.6784 |   0.234223   0.0000e+00 |   0.2444     5           | 178.2845     0.7101   177.5744 |   0.2526     5             |  7.813e-06   0.000e+00 |\n",
      "23:06:51 464/600  | 116.3782     0.7207   115.6575 |   0.234223   0.0000e+00 |   0.2444     5           | 178.2508     0.7102   177.5406 |   0.2525     5             |  7.813e-06   0.000e+00 |\n",
      "23:09:49 465/600  | 116.3622     0.7206   115.6415 |   0.234223   0.0000e+00 |   0.2444     5           | 178.2910     0.7101   177.5808 |   0.2526     5             |  7.813e-06   0.000e+00 |\n",
      "23:12:47 466/600  | 116.3457     0.7207   115.6250 |   0.234223   0.0000e+00 |   0.2444     5           | 178.2729     0.7103   177.5626 |   0.2524     5             |  7.813e-06   0.000e+00 |\n",
      "23:15:44 467/600  | 116.3450     0.7207   115.6243 |   0.234223   0.0000e+00 |   0.2443     5           | 178.2704     0.7104   177.5600 |   0.2524     5             |  7.813e-06   0.000e+00 |\n",
      "23:18:42 468/600  | 116.3301     0.7208   115.6093 |   0.234223   0.0000e+00 |   0.2443     5           | 178.2843     0.7102   177.5740 |   0.2525     5             |  7.813e-06   0.000e+00 |\n",
      "23:21:41 469/600  | 116.2959     0.7208   115.5751 |   0.234223   0.0000e+00 |   0.2443     5           | 178.3424     0.7103   177.6321 |   0.2524     5             |  7.813e-06   0.000e+00 |\n",
      "23:24:38 470/600  | 116.2791     0.7209   115.5583 |   0.234223   0.0000e+00 |   0.2442     5           | 178.3138     0.7107   177.6031 |   0.2521     5             |  7.813e-06   0.000e+00 |\n",
      "23:27:35 471/600  | 114.5208     0.7209   113.7999 |   0.225502   0.0000e+00 |   0.2442     5           | 178.6190     0.7105   177.9086 |   0.2523     5             |  7.813e-06   0.000e+00 |\n",
      "23:30:34 472/600  | 114.5251     0.7209   113.8042 |   0.225502   0.0000e+00 |   0.2442     5           | 178.6343     0.7104   177.9239 |   0.2524     5             |  7.813e-06   0.000e+00 |\n",
      "23:33:32 473/600  | 114.4941     0.7209   113.7732 |   0.225502   0.0000e+00 |   0.2442     5           | 178.6620     0.7106   177.9514 |   0.2521     5             |  7.813e-06   0.000e+00 |\n",
      "23:36:31 474/600  | 114.4716     0.7210   113.7507 |   0.225502   0.0000e+00 |   0.2441     5           | 178.6709     0.7105   177.9605 |   0.2523     5             |  7.813e-06   0.000e+00 |\n",
      "23:39:28 475/600  | 114.4517     0.7210   113.7307 |   0.225502   0.0000e+00 |   0.2441     5           | 178.7426     0.7107   178.0319 |   0.2521     5             |  7.813e-06   0.000e+00 |\n",
      "23:42:25 476/600  | 114.4366     0.7211   113.7155 |   0.225502   0.0000e+00 |   0.2440     5           | 178.6195     0.7107   177.9088 |   0.2521     5             |  7.813e-06   0.000e+00 |\n",
      "23:45:22 477/600  | 114.4193     0.7210   113.6983 |   0.225502   0.0000e+00 |   0.2441     5           | 178.6828     0.7106   177.9722 |   0.2522     5             |  7.813e-06   0.000e+00 |\n",
      "23:48:18 478/600  | 114.4053     0.7211   113.6842 |   0.225502   0.0000e+00 |   0.2440     5           | 178.7081     0.7105   177.9976 |   0.2522     5             |  7.813e-06   0.000e+00 |\n",
      "23:51:16 479/600  | 114.3873     0.7210   113.6663 |   0.225502   0.0000e+00 |   0.2441     5           | 178.7211     0.7108   178.0103 |   0.2520     5             |  7.813e-06   0.000e+00 |\n",
      "23:54:14 480/600  | 114.3593     0.7211   113.6382 |   0.225502   0.0000e+00 |   0.2440     5           | 178.7008     0.7105   177.9903 |   0.2523     5             |  7.813e-06   0.000e+00 |\n",
      "23:57:12 481/600  | 114.3406     0.7211   113.6196 |   0.225502   0.0000e+00 |   0.2441     5           | 178.7728     0.7107   178.0621 |   0.2521     5             |  7.813e-06   0.000e+00 |\n",
      "00:00:10 482/600  | 114.3241     0.7211   113.6031 |   0.225502   0.0000e+00 |   0.2440     5           | 178.7552     0.7107   178.0445 |   0.2521     5             |  7.813e-06   0.000e+00 |\n",
      "00:03:07 483/600  | 114.3376     0.7211   113.6165 |   0.225502   0.0000e+00 |   0.2441     5           | 178.8315     0.7104   178.1211 |   0.2524     5             |  3.906e-06   0.000e+00 |\n",
      "00:06:06 484/600  | 114.2521     0.7211   113.5310 |   0.225502   0.0000e+00 |   0.2441     5           | 178.8821     0.7103   178.1717 |   0.2524     5             |  3.906e-06   0.000e+00 |\n",
      "00:09:02 485/600  | 114.2231     0.7212   113.5020 |   0.225502   0.0000e+00 |   0.2441     5           | 178.9133     0.7104   178.2029 |   0.2523     5             |  3.906e-06   0.000e+00 |\n",
      "00:12:00 486/600  | 114.2044     0.7212   113.4833 |   0.225502   0.0000e+00 |   0.2440     5           | 178.9287     0.7105   178.2182 |   0.2523     5             |  3.906e-06   0.000e+00 |\n",
      "00:14:59 487/600  | 114.1907     0.7212   113.4695 |   0.225502   0.0000e+00 |   0.2440     5           | 178.9422     0.7105   178.2317 |   0.2523     5             |  3.906e-06   0.000e+00 |\n",
      "00:17:58 488/600  | 114.1810     0.7212   113.4598 |   0.225502   0.0000e+00 |   0.2440     5           | 178.9569     0.7105   178.2464 |   0.2523     5             |  3.906e-06   0.000e+00 |\n",
      "00:20:57 489/600  | 114.1725     0.7212   113.4513 |   0.225502   0.0000e+00 |   0.2440     5           | 178.9652     0.7105   178.2547 |   0.2523     5             |  3.906e-06   0.000e+00 |\n",
      "00:23:55 490/600  | 114.1629     0.7212   113.4417 |   0.225502   0.0000e+00 |   0.2440     5           | 178.9704     0.7105   178.2599 |   0.2523     5             |  3.906e-06   0.000e+00 |\n",
      "00:26:52 491/600  | 114.1536     0.7212   113.4323 |   0.225502   0.0000e+00 |   0.2440     5           | 178.9728     0.7105   178.2622 |   0.2522     5             |  3.906e-06   0.000e+00 |\n",
      "00:29:48 492/600  | 114.1439     0.7213   113.4226 |   0.225502   0.0000e+00 |   0.2440     5           | 178.9877     0.7106   178.2771 |   0.2522     5             |  3.906e-06   0.000e+00 |\n",
      "00:32:46 493/600  | 114.1355     0.7213   113.4142 |   0.225502   0.0000e+00 |   0.2439     5           | 178.9788     0.7106   178.2682 |   0.2522     5             |  3.906e-06   0.000e+00 |\n",
      "00:35:46 494/600  | 114.1271     0.7213   113.4059 |   0.225502   0.0000e+00 |   0.2440     5           | 178.9867     0.7106   178.2761 |   0.2522     5             |  3.906e-06   0.000e+00 |\n",
      "00:38:43 495/600  | 114.1128     0.7213   113.3915 |   0.225502   0.0000e+00 |   0.2439     5           | 178.9929     0.7106   178.2823 |   0.2521     5             |  3.906e-06   0.000e+00 |\n",
      "00:41:40 496/600  | 114.0976     0.7213   113.3764 |   0.225502   0.0000e+00 |   0.2439     5           | 179.0244     0.7106   178.3138 |   0.2522     5             |  3.906e-06   0.000e+00 |\n",
      "00:44:37 497/600  | 114.0832     0.7213   113.3619 |   0.225502   0.0000e+00 |   0.2439     5           | 179.0217     0.7106   178.3110 |   0.2522     5             |  3.906e-06   0.000e+00 |\n",
      "00:47:36 498/600  | 114.0733     0.7213   113.3520 |   0.225502   0.0000e+00 |   0.2439     5           | 179.0314     0.7107   178.3207 |   0.2521     5             |  3.906e-06   0.000e+00 |\n",
      "00:50:37 499/600  | 114.0611     0.7214   113.3397 |   0.225502   0.0000e+00 |   0.2438     5           | 179.0332     0.7106   178.3225 |   0.2521     5             |  3.906e-06   0.000e+00 |\n",
      "00:53:37 500/600  | 114.0445     0.7213   113.3232 |   0.225502   0.0000e+00 |   0.2439     5           | 179.0461     0.7107   178.3353 |   0.2521     5             |  3.906e-06   0.000e+00 |\n",
      "00:56:35 501/600  | 114.0304     0.7214   113.3090 |   0.225502   0.0000e+00 |   0.2438     5           | 179.0528     0.7107   178.3420 |   0.2521     5             |  3.906e-06   0.000e+00 |\n",
      "00:59:33 502/600  | 112.3988     0.7214   111.6774 |   0.217638   0.0000e+00 |   0.2438     5           | 179.4062     0.7108   178.6954 |   0.2520     5             |  3.906e-06   0.000e+00 |\n",
      "01:02:31 503/600  | 112.3900     0.7215   111.6685 |   0.217638   0.0000e+00 |   0.2438     5           | 179.4354     0.7108   178.7245 |   0.2520     5             |  3.906e-06   0.000e+00 |\n",
      "01:05:32 504/600  | 112.3789     0.7214   111.6575 |   0.217638   0.0000e+00 |   0.2438     5           | 179.4361     0.7108   178.7252 |   0.2520     5             |  3.906e-06   0.000e+00 |\n",
      "01:08:29 505/600  | 112.3634     0.7215   111.6419 |   0.217638   0.0000e+00 |   0.2437     5           | 179.4454     0.7109   178.7345 |   0.2519     5             |  3.906e-06   0.000e+00 |\n",
      "01:11:29 506/600  | 112.3506     0.7214   111.6291 |   0.217638   0.0000e+00 |   0.2438     5           | 179.4439     0.7108   178.7330 |   0.2520     5             |  3.906e-06   0.000e+00 |\n",
      "01:14:27 507/600  | 112.3329     0.7215   111.6114 |   0.217638   0.0000e+00 |   0.2437     5           | 179.4798     0.7109   178.7689 |   0.2520     5             |  3.906e-06   0.000e+00 |\n",
      "01:17:26 508/600  | 112.3163     0.7215   111.5948 |   0.217638   0.0000e+00 |   0.2438     5           | 179.4624     0.7109   178.7515 |   0.2520     5             |  3.906e-06   0.000e+00 |\n",
      "01:20:27 509/600  | 112.3020     0.7216   111.5805 |   0.217638   0.0000e+00 |   0.2437     5           | 179.4895     0.7109   178.7786 |   0.2519     5             |  3.906e-06   0.000e+00 |\n",
      "01:23:28 510/600  | 112.2896     0.7215   111.5682 |   0.217638   0.0000e+00 |   0.2438     5           | 179.4663     0.7109   178.7554 |   0.2520     5             |  3.906e-06   0.000e+00 |\n",
      "01:26:25 511/600  | 112.2732     0.7216   111.5516 |   0.217638   0.0000e+00 |   0.2437     5           | 179.4871     0.7110   178.7761 |   0.2519     5             |  3.906e-06   0.000e+00 |\n",
      "01:29:25 512/600  | 112.2619     0.7215   111.5404 |   0.217638   0.0000e+00 |   0.2437     5           | 179.4907     0.7109   178.7798 |   0.2520     5             |  3.906e-06   0.000e+00 |\n",
      "01:32:23 513/600  | 112.2489     0.7216   111.5273 |   0.217638   0.0000e+00 |   0.2437     5           | 179.4986     0.7110   178.7877 |   0.2519     5             |  3.906e-06   0.000e+00 |\n",
      "01:35:25 514/600  | 112.2334     0.7216   111.5118 |   0.217638   0.0000e+00 |   0.2437     5           | 179.4951     0.7109   178.7842 |   0.2519     5             |  3.906e-06   0.000e+00 |\n",
      "01:38:22 515/600  | 112.2205     0.7216   111.4990 |   0.217638   0.0000e+00 |   0.2437     5           | 179.4918     0.7110   178.7808 |   0.2519     5             |  3.906e-06   0.000e+00 |\n",
      "01:41:23 516/600  | 112.2105     0.7216   111.4889 |   0.217638   0.0000e+00 |   0.2437     5           | 179.5204     0.7110   178.8094 |   0.2519     5             |  3.906e-06   0.000e+00 |\n",
      "01:44:23 517/600  | 112.1980     0.7217   111.4764 |   0.217638   0.0000e+00 |   0.2436     5           | 179.5244     0.7110   178.8134 |   0.2518     5             |  3.906e-06   0.000e+00 |\n",
      "01:47:22 518/600  | 112.1841     0.7217   111.4624 |   0.217638   0.0000e+00 |   0.2436     5           | 179.5256     0.7111   178.8146 |   0.2518     5             |  3.906e-06   0.000e+00 |\n",
      "01:50:18 519/600  | 112.1659     0.7217   111.4443 |   0.217638   0.0000e+00 |   0.2436     5           | 179.5396     0.7111   178.8285 |   0.2518     5             |  3.906e-06   0.000e+00 |\n",
      "01:53:18 520/600  | 112.1548     0.7216   111.4332 |   0.217638   0.0000e+00 |   0.2437     5           | 179.5600     0.7111   178.8490 |   0.2518     5             |  3.906e-06   0.000e+00 |\n",
      "01:56:14 521/600  | 112.1402     0.7217   111.4186 |   0.217638   0.0000e+00 |   0.2436     5           | 179.5264     0.7111   178.8153 |   0.2518     5             |  3.906e-06   0.000e+00 |\n",
      "01:59:12 522/600  | 112.1334     0.7217   111.4117 |   0.217638   0.0000e+00 |   0.2436     5           | 179.5463     0.7110   178.8353 |   0.2519     5             |  3.906e-06   0.000e+00 |\n",
      "02:02:11 523/600  | 112.1160     0.7217   111.3943 |   0.217638   0.0000e+00 |   0.2436     5           | 179.5481     0.7111   178.8370 |   0.2518     5             |  3.906e-06   0.000e+00 |\n",
      "02:05:11 524/600  | 112.1022     0.7217   111.3805 |   0.217638   0.0000e+00 |   0.2436     5           | 179.5694     0.7111   178.8582 |   0.2518     5             |  3.906e-06   0.000e+00 |\n",
      "02:08:10 525/600  | 112.0874     0.7217   111.3657 |   0.217638   0.0000e+00 |   0.2436     5           | 179.5756     0.7112   178.8644 |   0.2517     5             |  3.906e-06   0.000e+00 |\n",
      "02:11:06 526/600  | 112.0790     0.7218   111.3572 |   0.217638   0.0000e+00 |   0.2435     5           | 179.5480     0.7112   178.8368 |   0.2518     5             |  3.906e-06   0.000e+00 |\n",
      "02:14:05 527/600  | 112.0651     0.7218   111.3433 |   0.217638   0.0000e+00 |   0.2435     5           | 179.5866     0.7113   178.8753 |   0.2517     5             |  3.906e-06   0.000e+00 |\n",
      "02:17:04 528/600  | 112.0534     0.7217   111.3317 |   0.217638   0.0000e+00 |   0.2436     5           | 179.5678     0.7112   178.8566 |   0.2517     5             |  3.906e-06   0.000e+00 |\n",
      "02:20:02 529/600  | 112.0372     0.7218   111.3153 |   0.217638   0.0000e+00 |   0.2435     5           | 179.5984     0.7113   178.8871 |   0.2517     5             |  3.906e-06   0.000e+00 |\n",
      "02:23:02 530/600  | 112.0621     0.7218   111.3402 |   0.217638   0.0000e+00 |   0.2435     5           | 179.5730     0.7112   178.8618 |   0.2518     5             |  3.906e-06   0.000e+00 |\n",
      "02:26:01 531/600  | 112.0184     0.7219   111.2965 |   0.217638   0.0000e+00 |   0.2435     5           | 179.5910     0.7113   178.8797 |   0.2517     5             |  3.906e-06   0.000e+00 |\n",
      "02:29:00 532/600  | 111.9947     0.7219   111.2728 |   0.217638   0.0000e+00 |   0.2435     5           | 179.5888     0.7112   178.8775 |   0.2517     5             |  3.906e-06   0.000e+00 |\n",
      "02:32:00 533/600  | 110.4706     0.7219   109.7487 |   0.210500   0.0000e+00 |   0.2434     5           | 180.0270     0.7113   179.3157 |   0.2517     5             |  3.906e-06   0.000e+00 |\n",
      "02:34:56 534/600  | 110.4627     0.7218   109.7409 |   0.210500   0.0000e+00 |   0.2435     5           | 180.0455     0.7113   179.3343 |   0.2517     5             |  3.906e-06   0.000e+00 |\n",
      "02:37:53 535/600  | 110.4498     0.7219   109.7280 |   0.210500   0.0000e+00 |   0.2435     5           | 180.0287     0.7113   179.3174 |   0.2517     5             |  3.906e-06   0.000e+00 |\n",
      "02:40:54 536/600  | 110.4390     0.7219   109.7171 |   0.210500   0.0000e+00 |   0.2435     5           | 180.0801     0.7112   179.3688 |   0.2517     5             |  3.906e-06   0.000e+00 |\n",
      "02:43:52 537/600  | 110.4232     0.7219   109.7013 |   0.210500   0.0000e+00 |   0.2434     5           | 180.0570     0.7114   179.3457 |   0.2516     5             |  3.906e-06   0.000e+00 |\n",
      "02:46:49 538/600  | 110.4078     0.7219   109.6859 |   0.210500   0.0000e+00 |   0.2435     5           | 180.0661     0.7112   179.3549 |   0.2517     5             |  3.906e-06   0.000e+00 |\n",
      "02:49:48 539/600  | 110.3877     0.7219   109.6657 |   0.210500   0.0000e+00 |   0.2434     5           | 180.0857     0.7114   179.3744 |   0.2516     5             |  3.906e-06   0.000e+00 |\n",
      "02:52:46 540/600  | 110.3741     0.7219   109.6522 |   0.210500   0.0000e+00 |   0.2435     5           | 180.0943     0.7113   179.3830 |   0.2517     5             |  3.906e-06   0.000e+00 |\n",
      "02:55:46 541/600  | 110.3703     0.7220   109.6484 |   0.210500   0.0000e+00 |   0.2434     5           | 180.1060     0.7114   179.3946 |   0.2517     5             |  3.906e-06   0.000e+00 |\n",
      "02:58:46 542/600  | 110.3492     0.7219   109.6273 |   0.210500   0.0000e+00 |   0.2434     5           | 180.1285     0.7113   179.4172 |   0.2517     5             |  3.906e-06   0.000e+00 |\n",
      "03:01:43 543/600  | 110.3286     0.7220   109.6066 |   0.210500   0.0000e+00 |   0.2434     5           | 180.0986     0.7114   179.3872 |   0.2516     5             |  3.906e-06   0.000e+00 |\n",
      "03:04:41 544/600  | 110.3529     0.7220   109.6309 |   0.210500   0.0000e+00 |   0.2435     5           | 180.1369     0.7112   179.4257 |   0.2517     5             |  1.953e-06   0.000e+00 |\n",
      "03:07:40 545/600  | 110.3064     0.7219   109.5844 |   0.210500   0.0000e+00 |   0.2435     5           | 180.1533     0.7112   179.4421 |   0.2517     5             |  1.953e-06   0.000e+00 |\n",
      "03:10:39 546/600  | 110.2905     0.7219   109.5686 |   0.210500   0.0000e+00 |   0.2435     5           | 180.1811     0.7113   179.4698 |   0.2517     5             |  1.953e-06   0.000e+00 |\n",
      "03:13:38 547/600  | 110.2800     0.7220   109.5580 |   0.210500   0.0000e+00 |   0.2435     5           | 180.1767     0.7113   179.4654 |   0.2517     5             |  1.953e-06   0.000e+00 |\n",
      "03:16:37 548/600  | 110.2687     0.7220   109.5467 |   0.210500   0.0000e+00 |   0.2434     5           | 180.2169     0.7113   179.5056 |   0.2517     5             |  1.953e-06   0.000e+00 |\n",
      "03:19:35 549/600  | 110.2586     0.7220   109.5367 |   0.210500   0.0000e+00 |   0.2435     5           | 180.2158     0.7113   179.5046 |   0.2518     5             |  1.953e-06   0.000e+00 |\n",
      "03:22:33 550/600  | 110.2483     0.7220   109.5263 |   0.210500   0.0000e+00 |   0.2440     5           | 180.2188     0.7113   179.5075 |   0.2523     5             |  1.953e-06   0.000e+00 |\n",
      "03:25:34 551/600  | 110.2385     0.7219   109.5166 |   0.210500   0.0000e+00 |   0.2442     5           | 180.2283     0.7113   179.5171 |   0.2524     5             |  1.953e-06   0.000e+00 |\n",
      "03:28:34 552/600  | 110.2307     0.7220   109.5087 |   0.210500   0.0000e+00 |   0.2441     5           | 180.2500     0.7113   179.5387 |   0.2523     5             |  1.953e-06   0.000e+00 |\n",
      "03:31:34 553/600  | 110.2219     0.7220   109.4999 |   0.210500   0.0000e+00 |   0.2441     5           | 180.2296     0.7113   179.5183 |   0.2524     5             |  1.953e-06   0.000e+00 |\n",
      "03:34:33 554/600  | 110.2139     0.7220   109.4919 |   0.210500   0.0000e+00 |   0.2443     5           | 180.2633     0.7113   179.5520 |   0.2530     5             |  1.953e-06   0.000e+00 |\n",
      "03:37:34 555/600  | 110.2020     0.7220   109.4800 |   0.210500   0.0000e+00 |   0.2448     5           | 180.2536     0.7113   179.5423 |   0.2530     5             |  1.953e-06   0.000e+00 |\n",
      "03:40:33 556/600  | 110.1928     0.7220   109.4707 |   0.210500   0.0000e+00 |   0.2449     5           | 180.2786     0.7113   179.5673 |   0.2533     5             |  1.953e-06   0.000e+00 |\n",
      "03:43:32 557/600  | 110.1819     0.7220   109.4599 |   0.210500   0.0000e+00 |   0.2448     5           | 180.2635     0.7113   179.5521 |   0.2530     5             |  1.953e-06   0.000e+00 |\n",
      "03:46:30 558/600  | 110.1728     0.7220   109.4508 |   0.210500   0.0000e+00 |   0.2448     5           | 180.2571     0.7113   179.5458 |   0.2530     5             |  1.953e-06   0.000e+00 |\n",
      "03:49:29 559/600  | 110.1623     0.7220   109.4402 |   0.210500   0.0000e+00 |   0.2448     5           | 180.2709     0.7113   179.5596 |   0.2531     5             |  1.953e-06   0.000e+00 |\n",
      "03:52:27 560/600  | 110.1504     0.7221   109.4283 |   0.210500   0.0000e+00 |   0.2450     5           | 180.3008     0.7113   179.5895 |   0.2530     5             |  1.953e-06   0.000e+00 |\n",
      "03:55:26 561/600  | 110.1387     0.7220   109.4166 |   0.210500   0.0000e+00 |   0.2444     5           | 180.2798     0.7113   179.5685 |   0.2523     5             |  1.953e-06   0.000e+00 |\n",
      "03:58:25 562/600  | 110.1273     0.7221   109.4052 |   0.210500   0.0000e+00 |   0.2440     5           | 180.3106     0.7113   179.5993 |   0.2523     5             |  1.953e-06   0.000e+00 |\n",
      "04:01:23 563/600  | 110.1175     0.7220   109.3955 |   0.210500   0.0000e+00 |   0.2437     5           | 180.3000     0.7114   179.5887 |   0.2516     5             |  1.953e-06   0.000e+00 |\n",
      "04:04:22 564/600  | 108.7078     0.7221   107.9857 |   0.203986   0.0000e+00 |   0.2434     5           | 180.7581     0.7113   180.0468 |   0.2516     5             |  1.953e-06   0.000e+00 |\n",
      "04:07:20 565/600  | 108.6980     0.7221   107.9759 |   0.203986   0.0000e+00 |   0.2433     5           | 180.7808     0.7114   180.0694 |   0.2516     5             |  1.953e-06   0.000e+00 |\n",
      "04:10:17 566/600  | 108.6848     0.7221   107.9627 |   0.203986   0.0000e+00 |   0.2433     5           | 180.7998     0.7113   180.0885 |   0.2517     5             |  1.953e-06   0.000e+00 |\n",
      "04:13:14 567/600  | 108.6719     0.7221   107.9499 |   0.203986   0.0000e+00 |   0.2434     5           | 180.7824     0.7115   180.0709 |   0.2515     5             |  1.953e-06   0.000e+00 |\n",
      "04:16:13 568/600  | 108.6627     0.7221   107.9406 |   0.203986   0.0000e+00 |   0.2434     5           | 180.8160     0.7114   180.1046 |   0.2516     5             |  1.953e-06   0.000e+00 |\n",
      "04:19:12 569/600  | 108.6490     0.7221   107.9269 |   0.203986   0.0000e+00 |   0.2433     5           | 180.8050     0.7114   180.0936 |   0.2516     5             |  1.953e-06   0.000e+00 |\n",
      "04:22:10 570/600  | 108.6362     0.7221   107.9141 |   0.203986   0.0000e+00 |   0.2433     5           | 180.8287     0.7114   180.1173 |   0.2516     5             |  1.953e-06   0.000e+00 |\n",
      "04:25:11 571/600  | 108.6257     0.7221   107.9036 |   0.203986   0.0000e+00 |   0.2433     5           | 180.8173     0.7114   180.1059 |   0.2516     5             |  1.953e-06   0.000e+00 |\n",
      "04:28:09 572/600  | 108.6159     0.7221   107.8938 |   0.203986   0.0000e+00 |   0.2433     5           | 180.8433     0.7114   180.1320 |   0.2516     5             |  1.953e-06   0.000e+00 |\n",
      "04:31:09 573/600  | 108.6051     0.7221   107.8830 |   0.203986   0.0000e+00 |   0.2434     5           | 180.8218     0.7114   180.1104 |   0.2516     5             |  1.953e-06   0.000e+00 |\n",
      "04:34:08 574/600  | 108.5941     0.7221   107.8720 |   0.203986   0.0000e+00 |   0.2433     5           | 180.8488     0.7114   180.1374 |   0.2516     5             |  1.953e-06   0.000e+00 |\n",
      "04:37:07 575/600  | 108.5841     0.7221   107.8620 |   0.203986   0.0000e+00 |   0.2433     5           | 180.8060     0.7114   180.0946 |   0.2516     5             |  1.953e-06   0.000e+00 |\n",
      "04:40:08 576/600  | 108.5714     0.7221   107.8493 |   0.203986   0.0000e+00 |   0.2433     5           | 180.8551     0.7114   180.1438 |   0.2516     5             |  1.953e-06   0.000e+00 |\n",
      "04:43:06 577/600  | 108.5618     0.7221   107.8396 |   0.203986   0.0000e+00 |   0.2433     5           | 180.8512     0.7114   180.1398 |   0.2516     5             |  1.953e-06   0.000e+00 |\n",
      "04:46:08 578/600  | 108.5521     0.7221   107.8299 |   0.203986   0.0000e+00 |   0.2433     5           | 180.8702     0.7114   180.1588 |   0.2516     5             |  1.953e-06   0.000e+00 |\n",
      "04:49:07 579/600  | 108.5393     0.7221   107.8171 |   0.203986   0.0000e+00 |   0.2433     5           | 180.8524     0.7114   180.1409 |   0.2516     5             |  1.953e-06   0.000e+00 |\n",
      "04:52:06 580/600  | 108.5296     0.7222   107.8074 |   0.203986   0.0000e+00 |   0.2433     5           | 180.8703     0.7114   180.1589 |   0.2516     5             |  1.953e-06   0.000e+00 |\n",
      "04:55:02 581/600  | 108.5196     0.7221   107.7975 |   0.203986   0.0000e+00 |   0.2433     5           | 180.8662     0.7114   180.1547 |   0.2516     5             |  1.953e-06   0.000e+00 |\n",
      "04:58:02 582/600  | 108.5097     0.7222   107.7875 |   0.203986   0.0000e+00 |   0.2433     5           | 180.8912     0.7114   180.1798 |   0.2516     5             |  1.953e-06   0.000e+00 |\n",
      "05:01:00 583/600  | 108.5002     0.7222   107.7780 |   0.203986   0.0000e+00 |   0.2433     5           | 180.8816     0.7115   180.1702 |   0.2516     5             |  1.953e-06   0.000e+00 |\n",
      "05:04:00 584/600  | 108.4895     0.7221   107.7674 |   0.203986   0.0000e+00 |   0.2434     5           | 180.8902     0.7114   180.1788 |   0.2516     5             |  1.953e-06   0.000e+00 |\n",
      "05:06:58 585/600  | 108.4788     0.7222   107.7566 |   0.203986   0.0000e+00 |   0.2433     5           | 180.8762     0.7114   180.1648 |   0.2516     5             |  1.953e-06   0.000e+00 |\n",
      "05:09:54 586/600  | 108.4692     0.7222   107.7470 |   0.203986   0.0000e+00 |   0.2433     5           | 180.9088     0.7115   180.1974 |   0.2516     5             |  1.953e-06   0.000e+00 |\n",
      "05:12:51 587/600  | 108.4596     0.7222   107.7374 |   0.203986   0.0000e+00 |   0.2433     5           | 180.8499     0.7114   180.1385 |   0.2516     5             |  1.953e-06   0.000e+00 |\n",
      "05:15:49 588/600  | 108.4494     0.7222   107.7272 |   0.203986   0.0000e+00 |   0.2433     5           | 180.9187     0.7115   180.2072 |   0.2515     5             |  1.953e-06   0.000e+00 |\n",
      "05:18:49 589/600  | 108.4386     0.7222   107.7165 |   0.203986   0.0000e+00 |   0.2433     5           | 180.8934     0.7114   180.1819 |   0.2516     5             |  1.953e-06   0.000e+00 |\n",
      "05:21:48 590/600  | 108.4264     0.7222   107.7042 |   0.203986   0.0000e+00 |   0.2433     5           | 180.9249     0.7114   180.2135 |   0.2516     5             |  1.953e-06   0.000e+00 |\n",
      "05:24:45 591/600  | 108.4153     0.7222   107.6931 |   0.203986   0.0000e+00 |   0.2433     5           | 180.9168     0.7115   180.2053 |   0.2516     5             |  1.953e-06   0.000e+00 |\n",
      "05:27:44 592/600  | 108.4063     0.7222   107.6841 |   0.203986   0.0000e+00 |   0.2433     5           | 180.9340     0.7115   180.2225 |   0.2516     5             |  1.953e-06   0.000e+00 |\n",
      "05:30:42 593/600  | 108.3982     0.7222   107.6760 |   0.203986   0.0000e+00 |   0.2433     5           | 180.9214     0.7115   180.2099 |   0.2515     5             |  1.953e-06   0.000e+00 |\n",
      "05:33:40 594/600  | 108.3888     0.7222   107.6666 |   0.203986   0.0000e+00 |   0.2433     5           | 180.9397     0.7115   180.2282 |   0.2516     5             |  1.953e-06   0.000e+00 |\n",
      "05:36:37 595/600  | 107.0715     0.7222   106.3493 |   0.198009   0.0000e+00 |   0.2433     5           | 181.4331     0.7115   180.7216 |   0.2515     5             |  1.953e-06   0.000e+00 |\n",
      "05:39:35 596/600  | 107.0648     0.7223   106.3426 |   0.198009   0.0000e+00 |   0.2432     5           | 181.4420     0.7115   180.7306 |   0.2516     5             |  1.953e-06   0.000e+00 |\n",
      "05:42:34 597/600  | 107.0519     0.7223   106.3297 |   0.198009   0.0000e+00 |   0.2432     5           | 181.4497     0.7115   180.7382 |   0.2515     5             |  1.953e-06   0.000e+00 |\n",
      "05:45:33 598/600  | 107.0393     0.7222   106.3170 |   0.198009   0.0000e+00 |   0.2432     5           | 181.4550     0.7115   180.7435 |   0.2516     5             |  1.953e-06   0.000e+00 |\n",
      "05:48:33 599/600  | 107.0310     0.7223   106.3087 |   0.198009   0.0000e+00 |   0.2432     5           | 181.4651     0.7116   180.7535 |   0.2514     5             |  1.953e-06   0.000e+00 |\n",
      "05:51:35 600/600  | 107.0172     0.7223   106.2950 |   0.198009   0.0000e+00 |   0.2432     5           | 181.4682     0.7115   180.7566 |   0.2515     5             |  1.953e-06   0.000e+00 |\n"
     ]
    }
   ],
   "source": [
    "for epoch in range(model.ending_epoch):\n",
    "    display_epoch_metrics(model, epoch)"
   ]
  },
  {
   "cell_type": "code",
   "execution_count": 35,
   "id": "03e71f2a-4b3c-4554-8cb8-e4a25d56db61",
   "metadata": {
    "execution": {
     "iopub.execute_input": "2024-09-25T17:57:09.160232Z",
     "iopub.status.busy": "2024-09-25T17:57:09.159159Z",
     "iopub.status.idle": "2024-09-25T17:57:09.205855Z",
     "shell.execute_reply": "2024-09-25T17:57:09.204982Z",
     "shell.execute_reply.started": "2024-09-25T17:57:09.160186Z"
    }
   },
   "outputs": [
    {
     "name": "stdout",
     "output_type": "stream",
     "text": [
      " 20240925_195709  epoch  401 of  600\n"
     ]
    }
   ],
   "source": [
    "# model.starting_epoch = 100\n",
    "# model.ending_epoch = 200\n",
    "# model.starting_epoch = 503\n",
    "model.starting_epoch = model.ending_epoch\n",
    "model.ending_epoch += 200\n",
    "\n",
    "print(f\" {datetime.now().strftime('%Y%m%d_%H%M%S')}  epoch {model.starting_epoch+1:4d} of {model.ending_epoch:4d}\")"
   ]
  },
  {
   "cell_type": "markdown",
   "id": "0db40148-a95e-4895-8868-bd27050a3c9f",
   "metadata": {},
   "source": [
    "### Close WandB Logging"
   ]
  },
  {
   "cell_type": "code",
   "execution_count": 40,
   "id": "1251c457-bbae-4bfc-a786-92fbc8d2ddb6",
   "metadata": {
    "execution": {
     "iopub.execute_input": "2024-09-26T13:30:17.074226Z",
     "iopub.status.busy": "2024-09-26T13:30:17.073684Z",
     "iopub.status.idle": "2024-09-26T13:30:24.404156Z",
     "shell.execute_reply": "2024-09-26T13:30:24.403013Z",
     "shell.execute_reply.started": "2024-09-26T13:30:17.074181Z"
    },
    "scrolled": true
   },
   "outputs": [
    {
     "data": {
      "text/html": [
       "<style>\n",
       "    table.wandb td:nth-child(1) { padding: 0 10px; text-align: left ; width: auto;} td:nth-child(2) {text-align: left ; width: 100%}\n",
       "    .wandb-row { display: flex; flex-direction: row; flex-wrap: wrap; justify-content: flex-start; width: 100% }\n",
       "    .wandb-col { display: flex; flex-direction: column; flex-basis: 100%; flex: 1; padding: 10px; }\n",
       "    </style>\n",
       "<div class=\"wandb-row\"><div class=\"wandb-col\"><h3>Run history:</h3><br/><table class=\"wandb\"><tr><td>temp_grad_hist</td><td>▁▁▁▁▁▁▁▁▁▁▁▁▁▁▁▁▁▁▁▁▁▁▁▁▁▁▁▁▁▁▁▁▁▁▁▁▁▁▁▁</td></tr><tr><td>temp_hist</td><td>█████▅▅▄▄▃▃▃▃▃▃▂▂▂▂▂▂▂▂▂▂▁▁▁▁▁▁▁▁▁▁▁▁▁▁▁</td></tr><tr><td>temp_lr</td><td>▁▁▁▁▁▁▁▁▁▁▁▁▁▁▁▁▁▁▁▁▁▁▁▁▁▁▁▁▁▁▁▁▁▁▁▁▁▁▁▁</td></tr><tr><td>trn_R2_score</td><td>█▇▇▆▇▆▅▅▅▅▄▄▄▃▃▃▃▂▂▂▂▂▁▁▁▁▁▁▁▁▁▁▁▁▁▁▁▁▁▁</td></tr><tr><td>trn_best_loss</td><td>█████▇▇▆▆▆▆▅▅▅▅▄▄▄▄▃▃▃▃▃▃▂▂▂▂▂▂▂▂▁▁▁▁▁▁▁</td></tr><tr><td>trn_best_loss_ep</td><td>▁▁▁▁▂▂▂▂▂▃▃▃▃▃▃▄▄▄▄▄▅▅▅▅▅▅▆▆▆▆▆▆▇▇▇▇▇███</td></tr><tr><td>trn_best_metric</td><td>▁▁▁▁▁▁▁▁▁▁▁▁▁▁▁▁▁▁▁▁▁▁▁▁▁▁▁▁▁▁▁▁▁▁▁▁▁▁▁▁</td></tr><tr><td>trn_best_metric_ep</td><td>▁▁▁▁▁▁▁▁▁▁▁▁▁▁▁▁▁▁▁▁▁▁▁▁▁▁▁▁▁▁▁▁▁▁▁▁▁▁▁▁</td></tr><tr><td>trn_lr</td><td>████▄▄▄▄▃▃▃▃▂▂▂▂▁▁▁▁▁▁▁▁▁▁▁▁▁▁▁▁▁▁▁▁▁▁▁▁</td></tr><tr><td>trn_prim_loss</td><td>▁▂▂▃▃▄▄▄▅▅▅▆▆▆▆▇▇▇▇▇▇███████████████████</td></tr><tr><td>trn_snn_loss</td><td>█████▇▇▆▆▆▆▅▅▅▅▄▄▄▄▃▃▃▃▃▃▂▂▂▂▂▂▂▂▁▁▁▁▁▁▁</td></tr><tr><td>trn_ttl_loss</td><td>█████▇▇▆▆▆▆▅▅▅▅▄▄▄▄▃▃▃▃▃▃▂▂▂▂▂▂▂▂▁▁▁▁▁▁▁</td></tr><tr><td>val_R2_score</td><td>▇██▇▇▆▆▅▅▅▄▄▄▃▃▃▃▂▂▂▂▂▁▁▁▁▁▁▁▁▁▁▁▁▁▁▁▁▁▁</td></tr><tr><td>val_best_loss</td><td>█████▅▅▃▃▂▂▁▁▁▁▁▁▁▁▁▁▁▁▁▁▁▁▁▁▁▁▁▁▁▁▁▁▁▁▁</td></tr><tr><td>val_best_loss_ep</td><td>▁▁▁▁▁▄▄▅▆▆▆▇████████████████████████████</td></tr><tr><td>val_best_metric</td><td>▁▁▁▁▁▁▁▁▁▁▁▁▁▁▁▁▁▁▁▁▁▁▁▁▁▁▁▁▁▁▁▁▁▁▁▁▁▁▁▁</td></tr><tr><td>val_best_metric_ep</td><td>▁▁▁▁▁▁▁▁▁▁▁▁▁▁▁▁▁▁▁▁▁▁▁▁▁▁▁▁▁▁▁▁▁▁▁▁▁▁▁▁</td></tr><tr><td>val_prim_loss</td><td>▁▁▂▃▃▄▄▄▅▅▅▆▆▆▆▇▇▇▇▇▇███████████████████</td></tr><tr><td>val_snn_loss</td><td>█████▅▅▃▃▂▂▁▁▁▁▂▂▂▂▂▃▃▃▃▄▄▄▄▅▅▅▅▆▆▆▆▆▇▇▇</td></tr><tr><td>val_ttl_loss</td><td>█████▅▅▃▃▂▂▁▁▁▁▂▂▂▂▂▃▃▃▃▄▄▄▅▅▅▅▅▆▆▆▆▆▇▇▇</td></tr></table><br/></div><div class=\"wandb-col\"><h3>Run summary:</h3><br/><table class=\"wandb\"><tr><td>temp_grad_hist</td><td>0.0</td></tr><tr><td>temp_hist</td><td>0.19801</td></tr><tr><td>temp_lr</td><td>0.0</td></tr><tr><td>trn_R2_score</td><td>0.24322</td></tr><tr><td>trn_best_loss</td><td>107.01722</td></tr><tr><td>trn_best_loss_ep</td><td>599</td></tr><tr><td>trn_best_metric</td><td>0.44452</td></tr><tr><td>trn_best_metric_ep</td><td>4</td></tr><tr><td>trn_lr</td><td>0.0</td></tr><tr><td>trn_prim_loss</td><td>0.72226</td></tr><tr><td>trn_snn_loss</td><td>106.29496</td></tr><tr><td>trn_time</td><td>05:50:58</td></tr><tr><td>trn_ttl_loss</td><td>107.01722</td></tr><tr><td>val_R2_score</td><td>0.2515</td></tr><tr><td>val_best_loss</td><td>169.22655</td></tr><tr><td>val_best_loss_ep</td><td>176</td></tr><tr><td>val_best_metric</td><td>0.48388</td></tr><tr><td>val_best_metric_ep</td><td>4</td></tr><tr><td>val_prim_loss</td><td>0.71154</td></tr><tr><td>val_snn_loss</td><td>180.75664</td></tr><tr><td>val_time</td><td>05:51:35</td></tr><tr><td>val_ttl_loss</td><td>181.46819</td></tr></table><br/></div></div>"
      ],
      "text/plain": [
       "<IPython.core.display.HTML object>"
      ]
     },
     "metadata": {},
     "output_type": "display_data"
    },
    {
     "data": {
      "text/html": [
       " View run <strong style=\"color:#cdcd00\">AE_20240924_0146</strong> at: <a href='https://wandb.ai/kbardool/CellPainting_Profiles/runs/xhrj4rpq' target=\"_blank\">https://wandb.ai/kbardool/CellPainting_Profiles/runs/xhrj4rpq</a><br/> View project at: <a href='https://wandb.ai/kbardool/CellPainting_Profiles' target=\"_blank\">https://wandb.ai/kbardool/CellPainting_Profiles</a><br/>Synced 6 W&B file(s), 0 media file(s), 0 artifact file(s) and 0 other file(s)"
      ],
      "text/plain": [
       "<IPython.core.display.HTML object>"
      ]
     },
     "metadata": {},
     "output_type": "display_data"
    },
    {
     "data": {
      "text/html": [
       "Find logs at: <code>./wandb/run-20240924_014656-xhrj4rpq/logs</code>"
      ],
      "text/plain": [
       "<IPython.core.display.HTML object>"
      ]
     },
     "metadata": {},
     "output_type": "display_data"
    },
    {
     "data": {
      "text/html": [
       "The new W&B backend becomes opt-out in version 0.18.0; try it out with `wandb.require(\"core\")`! See https://wandb.me/wandb-core for more information."
      ],
      "text/plain": [
       "<IPython.core.display.HTML object>"
      ]
     },
     "metadata": {},
     "output_type": "display_data"
    }
   ],
   "source": [
    "if args.WANDB_ACTIVE:\n",
    "    wandb_run.finish()\n",
    "    args.WANDB_ACTIVE = False"
   ]
  },
  {
   "cell_type": "markdown",
   "id": "d989aa94-f3ce-4ece-8467-75d6028f66cc",
   "metadata": {},
   "source": [
    "## Misc stuff"
   ]
  },
  {
   "cell_type": "markdown",
   "id": "9d7f6ece-b0e4-4e64-bc35-928a3c3f961d",
   "metadata": {},
   "source": [
    "# Plot losses, weights, biases and gradients"
   ]
  },
  {
   "cell_type": "code",
   "execution_count": null,
   "id": "1f0299df-2c74-4751-9d64-00bf7670954f",
   "metadata": {},
   "outputs": [],
   "source": [
    "# if 0:\n",
    "#     model_attributes = model.__dict__\n",
    "#     model.training_history['train'].keys()\n",
    "#     for key, value in model.training_history['train'].items():\n",
    "#         if isinstance(value, List) or key in [\"test_accuracy\", \"test_f1\"]:\n",
    "#             print(f\"{key:25s} {type(value)}  {len(value):7d}  {value[-5:]}\")\n",
    "#     print()\n",
    "#     for key, value in model.training_history['val'].items():\n",
    "#         if isinstance(value, List) or key in [\"test_accuracy\", \"test_f1\"]:\n",
    "#             print(f\"{key:25s} {type(value)}  {len(value):7d}  {value[-5:]}\")        \n",
    "\n",
    "# tmp = np.array(model.training_history['train']['temp_grads'])\n",
    "# for st in range(0,len(tmp), 1000):\n",
    "#     end = st + 1000\n",
    "#     print(f\" {st:5d} - {end:5d}  min: {tmp[st:end].min():9e}   max: {tmp[st:end].max():9e}    avg: {tmp[st:end].mean():9e}   std: {tmp[st:end].std():9e}\")"
   ]
  },
  {
   "cell_type": "code",
   "execution_count": 38,
   "id": "035c3999-7bf1-4d09-b91d-fd634d1f85b2",
   "metadata": {
    "execution": {
     "iopub.execute_input": "2024-09-26T13:26:08.809857Z",
     "iopub.status.busy": "2024-09-26T13:26:08.809311Z",
     "iopub.status.idle": "2024-09-26T13:26:09.663330Z",
     "shell.execute_reply": "2024-09-26T13:26:09.662446Z",
     "shell.execute_reply.started": "2024-09-26T13:26:08.809813Z"
    },
    "scrolled": true
   },
   "outputs": [
    {
     "data": {
      "image/png": "[encoded data removed]",
      "text/plain": [
       "<Figure size 2000x400 with 5 Axes>"
      ]
     },
     "metadata": {},
     "output_type": "display_data"
    }
   ],
   "source": [
    "plot_train_history(model, start=0, n_bins = 25)"
   ]
  },
  {
   "cell_type": "code",
   "execution_count": 39,
   "id": "00a3e1ef-861f-4323-86c0-0a07fdb97157",
   "metadata": {
    "execution": {
     "iopub.execute_input": "2024-09-26T13:28:33.394764Z",
     "iopub.status.busy": "2024-09-26T13:28:33.394180Z",
     "iopub.status.idle": "2024-09-26T13:28:33.689106Z",
     "shell.execute_reply": "2024-09-26T13:28:33.688363Z",
     "shell.execute_reply.started": "2024-09-26T13:28:33.394720Z"
    },
    "scrolled": true
   },
   "outputs": [
    {
     "data": {
      "image/png": "[encoded data removed]",
      "text/plain": [
       "<Figure size 400x400 with 1 Axes>"
      ]
     },
     "metadata": {},
     "output_type": "display_data"
    }
   ],
   "source": [
    "plot_regression_metrics(model,start = 4, n_bins = 25)"
   ]
  },
  {
   "cell_type": "code",
   "execution_count": null,
   "id": "f654fd1b-0782-4a14-a92e-8ff68a70523f",
   "metadata": {
    "scrolled": true
   },
   "outputs": [],
   "source": [
    "# plot_train_metrics(model, n_bins = 25)\n",
    "# plot_regression_metrics(model,start = 4, n_bins = 25)"
   ]
  },
  {
   "cell_type": "code",
   "execution_count": null,
   "id": "533b465a-6b4a-4696-a014-793b8f7df079",
   "metadata": {
    "scrolled": true
   },
   "outputs": [],
   "source": [
    "plot_train_history(model, start= 0, n_bins = 25)"
   ]
  },
  {
   "cell_type": "code",
   "execution_count": null,
   "id": "85774d06-9f14-4b02-b0c6-b8c60ba92ffa",
   "metadata": {
    "jupyter": {
     "source_hidden": true
    },
    "scrolled": true
   },
   "outputs": [],
   "source": [
    "plot_train_history(model, start= 0, n_bins = 25)"
   ]
  },
  {
   "cell_type": "code",
   "execution_count": null,
   "id": "f6b91b33-81bd-47e8-aa8e-bda1bd4d4583",
   "metadata": {
    "scrolled": true
   },
   "outputs": [],
   "source": [
    "plot_train_history(model, start= 100, n_bins = 25)"
   ]
  },
  {
   "cell_type": "code",
   "execution_count": null,
   "id": "5d4eae70-3b13-4893-b485-f8ad87b4cd68",
   "metadata": {
    "scrolled": true
   },
   "outputs": [],
   "source": [
    "plot_train_history(model, start= 10, n_bins = 25)"
   ]
  },
  {
   "cell_type": "code",
   "execution_count": null,
   "id": "bc760f53-8449-4d3a-a274-f11108ed4784",
   "metadata": {
    "scrolled": true
   },
   "outputs": [],
   "source": [
    "plot_train_history(model, start= 10, n_bins = 25)"
   ]
  },
  {
   "cell_type": "code",
   "execution_count": 29,
   "id": "7f50fdb6-0457-4cd3-b958-65bb44e4216d",
   "metadata": {
    "execution": {
     "iopub.execute_input": "2024-09-24T17:11:17.615532Z",
     "iopub.status.busy": "2024-09-24T17:11:17.615012Z",
     "iopub.status.idle": "2024-09-24T17:11:21.032888Z",
     "shell.execute_reply": "2024-09-24T17:11:21.032382Z",
     "shell.execute_reply.started": "2024-09-24T17:11:17.615491Z"
    }
   },
   "outputs": [
    {
     "name": "stdout",
     "output_type": "stream",
     "text": [
      " +------+-------------------------------------------------------+----------------------------------------------+---------------------------------------+\n",
      " |      | Weights:                                              |  Biases:                                     |   Gradients:                          |\n",
      " | layr |                      min           max         stdev  |             min          max          stdev  |      min          max          stdev  |\n",
      " +------+-------------------------------------------------------+----------------------------------------------+---------------------------------------+\n",
      " |    0 | (1024, 1471)      -0.367781     0.320250     0.040307 |   1024   -0.874020     0.053638     0.140187 |   -0.862002     0.863193     0.036358 |\n",
      " |    1 | (512, 1024)       -0.731864     0.485091     0.034051 |    512   -0.672829     0.262521     0.096428 |   -2.257747     2.261386     0.040499 |\n",
      " |    2 | (250, 512)        -0.645375     0.713739     0.030737 |    250   -0.004955     0.005860     0.000999 |   -0.534640     0.343738     0.011098 |\n",
      " |    3 | (512, 250)        -0.566296     0.729802     0.019119 |    512   -0.157064     0.550561     0.065611 |   -0.016077     0.012721     0.000409 |\n",
      " |    4 | (1024, 512)       -0.335363     0.387784     0.009630 |   1024   -0.037461     0.305170     0.024736 |   -0.011139     0.010693     0.000108 |\n",
      " |    5 | (1471, 1024)      -0.111231     0.088250     0.005770 |   1471   -0.031184     0.034302     0.010273 |   -0.004280     0.002819     0.000050 |\n",
      " +------+-------------------------------------------------------+----------------------------------------------+---------------------------------------+\n",
      "\n",
      "\n",
      "\n"
     ]
    },
    {
     "data": {
      "image/png": "[encoded data removed]",
      "text/plain": [
       "<Figure size 2400x1300 with 18 Axes>"
      ]
     },
     "metadata": {},
     "output_type": "display_data"
    }
   ],
   "source": [
    "plot_model_parms(model, epochs= model.epoch, n_bins = 15)"
   ]
  },
  {
   "cell_type": "code",
   "execution_count": null,
   "id": "5bedbd23-8bc7-4173-9046-5db23a073ca0",
   "metadata": {},
   "outputs": [],
   "source": []
  },
  {
   "cell_type": "markdown",
   "id": "75fb4184-7640-4cc5-bf19-249ebb9fc072",
   "metadata": {
    "execution": {
     "iopub.execute_input": "2024-04-01T00:58:52.961399Z",
     "iopub.status.busy": "2024-04-01T00:58:52.960920Z"
    },
    "jp-MarkdownHeadingCollapsed": true
   },
   "source": [
    "# Load model"
   ]
  },
  {
   "cell_type": "code",
   "execution_count": null,
   "id": "c914b200-c783-4477-9ca7-3370a23ec595",
   "metadata": {},
   "outputs": [],
   "source": [
    "ex_name = 'AE'\n",
    "ex_epoch = 50\n",
    "ex_runmode = 'snnl'\n",
    "ex_date = '20240718'\n",
    "ex_time = '1956'\n",
    "ex_title = args.exp_title\n",
    "compounds_per_batch = args.cpb\n",
    "print(args.exp_title)\n",
    "# runmode = 'snnl'\n",
    "# ex_date = '20240516'\n",
    "# ex_title = args.exp_title\n",
    "# ex_epoch = 200"
   ]
  },
  {
   "cell_type": "code",
   "execution_count": null,
   "id": "4e833db8-a709-4f76-9346-fd582b95ab70",
   "metadata": {},
   "outputs": [],
   "source": [
    "# filename = f\"{model.name}_{args.runmode}_{exp_date}_{exp_title}_ep_{exp_epoch:03d}\"\n",
    "# filename = f\"{model.name}_{ex_runmode}_{ex_date}_{ex_title}_{epochs:03d}_cpb_{ex_cpb}_factor_{ex_factor:d}.pt\"\n",
    "# file_pattern = f\"{model.name}_{ex_runmode}_{ex_date}_{ex_title}_*_cpb_{ex_cpb}_factor_{ex_factor:d}.pt\"\n",
    "filename = f\"{ex_name}_{ex_runmode}_{ex_title}_{ex_date}_{ex_time}_{ex_epoch:03d}.pt\"\n",
    "print(filename)\n",
    "file_pattern = f\"{ex_name}_{ex_runmode}_{ex_title}_{ex_date}_{ex_time}_BEST*.pt\"\n",
    "# file_pattern = f\"{ex_name}_{ex_runmode}_{ex_title}_{ex_date}_{ex_time}_LAST*.pt\"\n",
    "print(file_pattern)"
   ]
  },
  {
   "cell_type": "code",
   "execution_count": null,
   "id": "52e8f566-6c23-496e-a8ec-08d0e2e2a51b",
   "metadata": {},
   "outputs": [],
   "source": [
    "import glob\n",
    "filelist = glob.glob(file_pattern,root_dir = './ckpts')\n",
    "filelist = sorted(filelist)\n",
    "filelist\n",
    "# epochlist =sorted([int(x[-6:-3]) for x in filelist])\n",
    "# epochlist"
   ]
  },
  {
   "cell_type": "code",
   "execution_count": null,
   "id": "d0861ccd-806e-4e62-9139-b4d73d6e3d67",
   "metadata": {},
   "outputs": [],
   "source": [
    "# runmode = 'snnl'\n",
    "# ex_date = '20240516'\n",
    "# ex_title = args.exp_title\n",
    "ex_epoch = 200\n",
    "\n",
    "filename = f\"{model.name}_{args.runmode}_{exp_date}_{exp_title}_ep_{exp_epoch:03d}\"\n",
    "filename = filelist[0]\n",
    "if filename[-3:] != '.pt':\n",
    "    filename += '.pt'\n",
    "print(filename)\n",
    "\n",
    "if os.path.exists(os.path.join('ckpts', filename)):\n",
    "    print(f\"\\n *** Checkpoint EXISTS *** \\n\")\n",
    "else:\n",
    "    print(f\"\\n *** Checkpoint DOESNT EXIST *** \\n\")"
   ]
  },
  {
   "cell_type": "code",
   "execution_count": null,
   "id": "2d6a57df-2a6c-4ca5-8bc0-0672d1c03901",
   "metadata": {
    "scrolled": true
   },
   "outputs": [],
   "source": [
    "# mdl , last_epoch = load_checkpoint_v2(model, filename)\n",
    "mdl, last_epoch, mdl_ckpt = utils.load_checkpoint_v5(model, filename)\n",
    "print(f\" last epoch : {last_epoch}\")"
   ]
  },
  {
   "cell_type": "code",
   "execution_count": null,
   "id": "8990d905-d098-49fe-bee2-f0f449ba3ac2",
   "metadata": {},
   "outputs": [],
   "source": [
    "print(args.current_device)\n",
    "print(mdl.device)\n",
    "# model.device = current_device\n",
    "print(mdl.device)"
   ]
  },
  {
   "cell_type": "code",
   "execution_count": null,
   "id": "00c841d7-6d85-438c-a7da-e8026fb4f644",
   "metadata": {},
   "outputs": [],
   "source": [
    "print(current_device)\n",
    "model.train()\n",
    "model = model.cuda(device=current_device)"
   ]
  },
  {
   "cell_type": "code",
   "execution_count": null,
   "id": "a2ddb4f9-b6fa-4c44-8cef-ccdaa99ce49b",
   "metadata": {},
   "outputs": [],
   "source": [
    "starting_epoch, epochs,"
   ]
  },
  {
   "cell_type": "code",
   "execution_count": null,
   "id": "25b03053-b090-4116-898a-acbfb8add271",
   "metadata": {},
   "outputs": [],
   "source": [
    "print(f\" last epoch  {last_epoch}\")"
   ]
  },
  {
   "cell_type": "code",
   "execution_count": null,
   "id": "eb1241f9-4ad1-425f-8526-43c5cd89859c",
   "metadata": {},
   "outputs": [],
   "source": [
    "# starting_epoch = 20\n",
    "starting_epoch = last_epoch\n",
    "epochs = last_epoch + 100\n",
    "# starting_epoch = epoch + 1\n",
    "print(f\" run epochs {starting_epoch+1} to {epochs} \")"
   ]
  },
  {
   "cell_type": "code",
   "execution_count": null,
   "id": "361a2ba1-0bac-4ff8-aa08-950fe7fe2302",
   "metadata": {},
   "outputs": [],
   "source": [
    "print()\n",
    "print(f\" model device              : {model.device}\")\n",
    "print(f\" model temperature         : {model.temperature}\")\n",
    "print(f\" model use prim_optimizer  : {model.use_prim_optimizer}\")\n",
    "print(f\" model use prim_scheduler  : {model.use_prim_scheduler}\")\n",
    "print() \n",
    "print(f\" loss_factor               : {model.loss_factor}\")\n",
    "print(f\" monitor_grads_layer       : {model.monitor_grads_layer}\")\n",
    "print(f\" Learning rate             : {model.optimizers['prim'].param_groups[0]['lr']}\") \n",
    "print(f\" Optimizer ParamGroup[0]   : {model.optimizers['prim'].param_groups[0]}\") \n",
    "print() \n",
    "print(f\" Optimizer ParamGroup[0]   : {model.optimizers['prim'].state_dict()}\") \n",
    "\n",
    "print(f\" snnl_factor               : {model.snnl_factor}\")\n",
    "# if model.use_snnl:\n",
    "#     print(f\" temperature          : {model.temperature.item()}\")\n",
    "# if model.temp_optimizer is not None:\n",
    "#     print(f\" Temperature LR       : {model.temp_optimizer.param_groups[0]['lr']}\") \n",
    "# print()\n",
    "\n",
    "# for th_key in ['trn', 'val']:\n",
    "#     for k,v in model.training_history[th_key].items():\n",
    "#         if isinstance(v[-1],str):\n",
    "#             print(f\" {k:20s} : {v[-1]:s}  \")\n",
    "#         else:\n",
    "#             print(f\" {k:20s} : {v[-1]:6f} \")\n",
    "#     print()\n"
   ]
  },
  {
   "cell_type": "code",
   "execution_count": null,
   "id": "8ac91959-7226-4ca8-a4fa-fd984ce7cd9d",
   "metadata": {},
   "outputs": [],
   "source": [
    "model.optimizers['prim']['params']\n",
    "# model.use_prim_scheduler"
   ]
  },
  {
   "cell_type": "code",
   "execution_count": null,
   "id": "6a4b320a-e40a-47b2-886f-6130c314afb8",
   "metadata": {
    "scrolled": true
   },
   "outputs": [],
   "source": [
    "model.optimizers \n",
    "print()"
   ]
  },
  {
   "cell_type": "code",
   "execution_count": null,
   "id": "903b5c7a-4271-4659-857d-29ee395daedc",
   "metadata": {},
   "outputs": [],
   "source": [
    "model.scheduler.__dict__"
   ]
  },
  {
   "cell_type": "code",
   "execution_count": null,
   "id": "35c66518-e1f1-4c19-9aa0-27bb21a0c68d",
   "metadata": {
    "scrolled": true
   },
   "outputs": [],
   "source": [
    "model.temp_optimizer.__dict__\n",
    "print()"
   ]
  },
  {
   "cell_type": "code",
   "execution_count": null,
   "id": "5cbf6a8e-28bd-461e-ac24-0f9ba13858b1",
   "metadata": {
    "scrolled": true
   },
   "outputs": [],
   "source": [
    "model.temp_scheduler.__dict__"
   ]
  }
 ],
 "metadata": {
  "kernelspec": {
   "display_name": "Python [conda env:ptsnnl]",
   "language": "python",
   "name": "conda-env-ptsnnl-py"
  },
  "language_info": {
   "codemirror_mode": {
    "name": "ipython",
    "version": 3
   },
   "file_extension": ".py",
   "mimetype": "text/x-python",
   "name": "python",
   "nbconvert_exporter": "python",
   "pygments_lexer": "ipython3",
   "version": "3.11.0"
  },
  "toc": {
   "base_numbering": 1,
   "nav_menu": {},
   "number_sections": true,
   "sideBar": true,
   "skip_h1_title": false,
   "title_cell": "Table of Contents",
   "title_sidebar": "Contents",
   "toc_cell": false,
   "toc_position": {},
   "toc_section_display": true,
   "toc_window_display": false
  }
 },
 "nbformat": 4,
 "nbformat_minor": 5
}
