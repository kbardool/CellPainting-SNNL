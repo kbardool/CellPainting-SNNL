{
 "cells": [
  {
   "cell_type": "markdown",
   "id": "470bf6d5-02a9-4b96-9ece-1ba20577b6ba",
   "metadata": {},
   "source": [
    "  # Apply encoder to morphological profiles to get latent space representations :"
   ]
  },
  {
   "cell_type": "markdown",
   "id": "0bc26bb1-4911-4f93-a23b-9b3a87a064b9",
   "metadata": {},
   "source": [
    "# Setup"
   ]
  },
  {
   "cell_type": "code",
   "execution_count": 3,
   "id": "c207aab7-fadf-41ea-a900-3662978c3a18",
   "metadata": {
    "ExecuteTime": {
     "end_time": "2023-04-12T10:29:16.111588Z",
     "start_time": "2023-04-12T10:29:15.764305Z"
    },
    "execution": {
     "iopub.execute_input": "2024-08-28T15:38:04.880386Z",
     "iopub.status.busy": "2024-08-28T15:38:04.879894Z",
     "iopub.status.idle": "2024-08-28T15:38:04.908269Z",
     "shell.execute_reply": "2024-08-28T15:38:04.907487Z",
     "shell.execute_reply.started": "2024-08-28T15:38:04.880350Z"
    }
   },
   "outputs": [
    {
     "data": {
      "text/html": [
       "<style>.container { width:98% !important; }</style>"
      ],
      "text/plain": [
       "<IPython.core.display.HTML object>"
      ]
     },
     "metadata": {},
     "output_type": "display_data"
    }
   ],
   "source": [
    "from IPython.display import display, HTML, Image\n",
    "display(HTML(\"<style>.container { width:98% !important; }</style>\"))\n",
    "%load_ext autoreload  \n",
    "%autoreload 2\n",
    "from IPython.core.interactiveshell import InteractiveShell\n",
    "InteractiveShell.ast_node_interactivity = \"all\""
   ]
  },
  {
   "cell_type": "code",
   "execution_count": 4,
   "id": "802423f8-62ce-4199-b810-7ad2a9158cc4",
   "metadata": {
    "ExecuteTime": {
     "end_time": "2023-04-12T10:29:16.111588Z",
     "start_time": "2023-04-12T10:29:15.764305Z"
    },
    "execution": {
     "iopub.execute_input": "2024-08-28T15:38:04.910468Z",
     "iopub.status.busy": "2024-08-28T15:38:04.910135Z",
     "iopub.status.idle": "2024-08-28T15:38:08.619276Z",
     "shell.execute_reply": "2024-08-28T15:38:08.618415Z",
     "shell.execute_reply.started": "2024-08-28T15:38:04.910432Z"
    }
   },
   "outputs": [
    {
     "name": "stdout",
     "output_type": "stream",
     "text": [
      "insert ./src\n",
      "insert ../..\n",
      "['../..', './src', '/home/kevin/miniforge3/envs/ptsnnl/lib/python311.zip', '/home/kevin/miniforge3/envs/ptsnnl/lib/python3.11', '/home/kevin/miniforge3/envs/ptsnnl/lib/python3.11/lib-dynload', '', '/home/kevin/miniforge3/envs/ptsnnl/lib/python3.11/site-packages', '/home/kevin/miniforge3/envs/ptsnnl/lib/python3.11/site-packages/cytominer_eval-0.1-py3.11.egg']\n"
     ]
    }
   ],
   "source": [
    "import os\n",
    "import sys\n",
    "import csv\n",
    "import json\n",
    "import time\n",
    "import types, copy, pprint\n",
    "import logging \n",
    "from datetime import datetime\n",
    "for p in ['./src','../..']:\n",
    "    if p not in sys.path:\n",
    "        print(f\"insert {p}\")\n",
    "        sys.path.insert(0, p)\n",
    "print(sys.path)\n",
    "# import shutil\n",
    "# import getpass\n",
    "import yaml\n",
    "\n",
    "import hydra \n",
    "from hydra import initialize, initialize_config_module, initialize_config_dir, compose\n",
    "from omegaconf import OmegaConf\n",
    "\n",
    "\n",
    "from matplotlib import pyplot as plt\n",
    "from typing import Dict, List, Tuple\n",
    "from scipy.sparse import csr_matrix\n",
    "from tqdm import tqdm\n",
    "\n",
    "import numpy as np\n",
    "import pandas as pd\n",
    "import scipy  \n",
    "import torch\n",
    "import torch.nn.functional as F\n",
    "from torchinfo import summary\n",
    "import wandb\n",
    "\n",
    "torch.set_printoptions(precision=None, threshold=None, edgeitems=None, linewidth=150, profile=None, sci_mode=None)\n",
    " \n",
    "\n",
    "pp = pprint.PrettyPrinter(indent=4)\n",
    "pd.options.display.width = 132\n",
    "torch.set_printoptions(precision=None, threshold=None, edgeitems=None, linewidth=150, profile=None, sci_mode=None)\n",
    "np.set_printoptions(edgeitems=3, infstr='inf', linewidth=150, nanstr='nan')\n",
    "\n",
    "os.environ[\"WANDB_NOTEBOOK_NAME\"] = \"AE-MAIN-SNNL.ipynb\"\n",
    "# os.environ[\"CUDA_LAUNCH_BLOCKING\"] = \"1\"\n",
    "# os.environ[\"CUDA_VISIBLE_DEVICES\"] = \"2\""
   ]
  },
  {
   "cell_type": "code",
   "execution_count": 5,
   "id": "f9d47f03-bd93-4dad-ac1f-d4dd182c9f89",
   "metadata": {
    "execution": {
     "iopub.execute_input": "2024-08-28T15:38:08.620744Z",
     "iopub.status.busy": "2024-08-28T15:38:08.620461Z",
     "iopub.status.idle": "2024-08-28T15:38:11.673671Z",
     "shell.execute_reply": "2024-08-28T15:38:11.673024Z",
     "shell.execute_reply.started": "2024-08-28T15:38:08.620717Z"
    }
   },
   "outputs": [],
   "source": [
    "import snnl.utils as utils\n",
    "from snnl.utils import parse_args, load_configuration, set_global_seed, get_device, set_device\n",
    "from snnl.utils import display_model_summary, define_autoencoder_model\n",
    "from KevinsRoutines.utils.utils_general  import  list_namespace\n"
   ]
  },
  {
   "cell_type": "code",
   "execution_count": 6,
   "id": "dc2a9f2c-ae1b-495e-bdbb-254740c4941c",
   "metadata": {
    "execution": {
     "iopub.execute_input": "2024-08-28T15:38:11.675944Z",
     "iopub.status.busy": "2024-08-28T15:38:11.675463Z",
     "iopub.status.idle": "2024-08-28T15:38:11.721188Z",
     "shell.execute_reply": "2024-08-28T15:38:11.720438Z",
     "shell.execute_reply.started": "2024-08-28T15:38:11.675921Z"
    }
   },
   "outputs": [],
   "source": [
    "import sklearn.metrics as skm \n",
    "import scipy.stats as sps \n",
    "from sklearn.decomposition import PCA\n",
    "from sklearn.manifold import TSNE\n",
    "from scipy.spatial.distance import pdist, squareform, euclidean\n",
    "import matplotlib.pyplot as plt\n",
    "import seaborn as sb\n",
    "\n",
    "# from sklearn.metrics import accuracy_score, f1_score, roc_curve, roc_auc_score, classification_report, precision_recall_fscore_support\n",
    "# from sklearn.metrics import precision_recall_curve, PrecisionRecallDisplay, roc_curve, RocCurveDisplay\n",
    "# from sklearn.metrics import confusion_matrix, ConfusionMatrixDisplay"
   ]
  },
  {
   "cell_type": "code",
   "execution_count": 7,
   "id": "42b84f4f-aef8-4a8d-ad13-5f26bf07b501",
   "metadata": {
    "execution": {
     "iopub.execute_input": "2024-08-28T15:38:11.722597Z",
     "iopub.status.busy": "2024-08-28T15:38:11.722312Z",
     "iopub.status.idle": "2024-08-28T15:38:11.837589Z",
     "shell.execute_reply": "2024-08-28T15:38:11.837047Z",
     "shell.execute_reply.started": "2024-08-28T15:38:11.722571Z"
    },
    "scrolled": true
   },
   "outputs": [
    {
     "name": "stderr",
     "output_type": "stream",
     "text": [
      "2024-08-28 17:38:11,831 - __main__ - INFO: -  Excution started : 2024_08_28_17:38:11 \n",
      "2024-08-28 17:38:11,832 - __main__ - INFO: -  Pytorch version  : 2.2.2\n",
      "2024-08-28 17:38:11,833 - __main__ - INFO: -  Scipy version    : 1.12.0  \t\t Numpy version : 1.26.4\n",
      "2024-08-28 17:38:11,834 - __main__ - INFO: -  WandB version    : 0.17.4  \t\t Pandas version: 2.2.1  \n"
     ]
    }
   ],
   "source": [
    "timestamp = datetime.now().strftime('%Y_%m_%d_%H:%M:%S')\n",
    "logger = logging.getLogger(__name__) \n",
    "logLevel = os.environ.get('LOG_LEVEL', 'INFO').upper()\n",
    "FORMAT = '%(asctime)s - %(name)s - %(levelname)s: - %(message)s'\n",
    "logging.basicConfig(level=\"INFO\", format= FORMAT)\n",
    "\n",
    "logger.info(f\" Excution started : {timestamp} \")\n",
    "logger.info(f\" Pytorch version  : {torch.__version__}\")\n",
    "logger.info(f\" Scipy version    : {scipy.__version__}  \\t\\t Numpy version : {np.__version__}\")\n",
    "logger.info(f\" WandB version    : {wandb.__version__}  \\t\\t Pandas version: {pd.__version__}  \")\n"
   ]
  },
  {
   "cell_type": "markdown",
   "id": "67400122-8437-4384-b567-56ed309062cf",
   "metadata": {},
   "source": [
    "### main(args)"
   ]
  },
  {
   "cell_type": "code",
   "execution_count": 10,
   "id": "80897adc-6f75-4617-9c41-46a8590d6ab9",
   "metadata": {
    "execution": {
     "iopub.execute_input": "2024-08-28T15:39:24.035865Z",
     "iopub.status.busy": "2024-08-28T15:39:24.035558Z",
     "iopub.status.idle": "2024-08-28T15:39:24.086469Z",
     "shell.execute_reply": "2024-08-28T15:39:24.085803Z",
     "shell.execute_reply.started": "2024-08-28T15:39:24.035841Z"
    }
   },
   "outputs": [],
   "source": [
    "RUNMODE       = \"baseline\" \n",
    "# RUNMODE       = \"snnl\"\n",
    "WANDB_ACTIVE  = False\n",
    "LATENT_DIM    = 150\n",
    "HIDDEN_1      = 512\n",
    "EPOCHS        = 5\n",
    "GPU_ID        = 1\n",
    "COMPOUNDS_PER_BATCH = 200\n",
    "# LEARNING_RATE = 1.00e-04\n",
    "# TEMP          = 0.05\n",
    "# TEMP_LR       = 1.00e-05\n",
    "CONFIGURATION = \"./hyperparameters/ae_baseline_150_512_cpb.yaml\"\n",
    "# CONFIGURATION   = \"./hyperparameters/ae_sn_150_512_cpb.yaml\"\n",
    "OUTPUT_PATH = f\"/home/kevin/WSL-shared/cellpainting/cj-datasets/output_11102023/3_sample_embeddings/\" "
   ]
  },
  {
   "cell_type": "code",
   "execution_count": 12,
   "id": "04e13f2c-6c8e-4bfb-aece-3fa073decc10",
   "metadata": {
    "execution": {
     "iopub.execute_input": "2024-08-28T15:40:07.908706Z",
     "iopub.status.busy": "2024-08-28T15:40:07.908215Z",
     "iopub.status.idle": "2024-08-28T15:40:07.986954Z",
     "shell.execute_reply": "2024-08-28T15:40:07.986147Z",
     "shell.execute_reply.started": "2024-08-28T15:40:07.908663Z"
    },
    "scrolled": true
   },
   "outputs": [
    {
     "data": {
      "text/plain": [
       "Namespace(configuration='./hyperparameters/ae_baseline_150_512_cpb.yaml', ckpt=None, cpb=200, exp_title=None, epochs=5, gpu_id=1, learning_rate=None, exp_id=None, runmode='baseline', random_seed=4321, use_prim_optimizer=True, use_temp_optimizer=False, use_annealing=False, use_single_loss=False, temperature=None, temperatureLR=None, wandb=False)"
      ]
     },
     "execution_count": 12,
     "metadata": {},
     "output_type": "execute_result"
    },
    {
     "name": "stderr",
     "output_type": "stream",
     "text": [
      "2024-08-28 17:40:07,967 - snnl.utils.utils_ptsnnl - INFO: -  command line param configuration             : [./hyperparameters/ae_baseline_150_512_cpb.yaml]\n",
      "2024-08-28 17:40:07,967 - snnl.utils.utils_ptsnnl - INFO: -  command line param ckpt                      : [None]\n",
      "2024-08-28 17:40:07,968 - snnl.utils.utils_ptsnnl - INFO: -  command line param cpb                       : [200]\n",
      "2024-08-28 17:40:07,968 - snnl.utils.utils_ptsnnl - INFO: -  command line param exp_title                 : [None]\n",
      "2024-08-28 17:40:07,969 - snnl.utils.utils_ptsnnl - INFO: -  command line param epochs                    : [5]\n",
      "2024-08-28 17:40:07,970 - snnl.utils.utils_ptsnnl - INFO: -  command line param gpu_id                    : [1]\n",
      "2024-08-28 17:40:07,970 - snnl.utils.utils_ptsnnl - INFO: -  command line param learning_rate             : [None]\n",
      "2024-08-28 17:40:07,972 - snnl.utils.utils_ptsnnl - INFO: -  command line param exp_id                    : [None]\n",
      "2024-08-28 17:40:07,973 - snnl.utils.utils_ptsnnl - INFO: -  command line param runmode                   : [baseline]\n",
      "2024-08-28 17:40:07,973 - snnl.utils.utils_ptsnnl - INFO: -  command line param random_seed               : [4321]\n",
      "2024-08-28 17:40:07,974 - snnl.utils.utils_ptsnnl - INFO: -  command line param use_prim_optimizer        : [True]\n",
      "2024-08-28 17:40:07,975 - snnl.utils.utils_ptsnnl - INFO: -  command line param use_temp_optimizer        : [False]\n",
      "2024-08-28 17:40:07,976 - snnl.utils.utils_ptsnnl - INFO: -  command line param use_annealing             : [False]\n",
      "2024-08-28 17:40:07,976 - snnl.utils.utils_ptsnnl - INFO: -  command line param use_single_loss           : [False]\n",
      "2024-08-28 17:40:07,977 - snnl.utils.utils_ptsnnl - INFO: -  command line param temperature               : [None]\n",
      "2024-08-28 17:40:07,977 - snnl.utils.utils_ptsnnl - INFO: -  command line param temperatureLR             : [None]\n",
      "2024-08-28 17:40:07,978 - snnl.utils.utils_ptsnnl - INFO: -  command line param wandb                     : [False]\n",
      "2024-08-28 17:40:07,979 - snnl.utils.utils_ptsnnl - INFO: -  command line param exp_title                 : [scpb200_150Ltnt_512]\n"
     ]
    },
    {
     "data": {
      "text/plain": [
       "namespace(project_name='CellPainting_Profiles',\n",
       "          exp_id=None,\n",
       "          exp_name_pfx=None,\n",
       "          exp_name='AE_20240828_1740',\n",
       "          exp_date='20240828_1740',\n",
       "          exp_title='scpb200_150Ltnt_512',\n",
       "          exp_description='AE baseline - snglOpt, 150 dim latent, 512 Midlayer, 200 cpb',\n",
       "          exp_folder=None,\n",
       "          folder_sfx=None,\n",
       "          random_seed=4321,\n",
       "          units=[['linear', 1471, 1024],\n",
       "                 ['relu', 0, 0],\n",
       "                 ['linear', 1024, 512],\n",
       "                 ['relu', 0, 0],\n",
       "                 ['linear', 512, 150],\n",
       "                 ['linear', 150, 512],\n",
       "                 ['relu', 0, 0],\n",
       "                 ['linear', 512, 1024],\n",
       "                 ['relu', 0, 0],\n",
       "                 ['linear', 1024, 1471]],\n",
       "          input_shape=1471,\n",
       "          code_units=150,\n",
       "          embedding_layer=4,\n",
       "          show_every=1,\n",
       "          save_every=100,\n",
       "          use_prim_optimizer=True,\n",
       "          use_prim_scheduler=True,\n",
       "          learning_rate=0.001,\n",
       "          loss_factor=1.0,\n",
       "          adam_weight_decay=0.01,\n",
       "          snnl_factor=0.0,\n",
       "          temperature=0.0,\n",
       "          use_temp_optimizer=False,\n",
       "          use_temp_scheduler=False,\n",
       "          temperatureLR=0.0,\n",
       "          SGD_weight_decay=0,\n",
       "          dataset='cellpainting',\n",
       "          cellpainting_args={'sample_size': 3,\n",
       "                             'batch_size': 1,\n",
       "                             'compounds_per_batch': 200,\n",
       "                             'training_path': '/home/kevin/WSL-shared/cellpainting/cj-datasets/output_11102023/3_sample_profiles/3sample_profiles_1482_HashOrder.csv',\n",
       "                             'validation_path': '/home/kevin/WSL-shared/cellpainting/cj-datasets/output_11102023/3_sample_profiles/3sample_profiles_1482_HashOrder_test.csv',\n",
       "                             'test_path': '/home/kevin/WSL-shared/cellpainting/cj-datasets/output_11102023/3_sample_profiles/3sample_profiles_1482_HashOrder_test.csv',\n",
       "                             'train_start': 0,\n",
       "                             'train_end': 240000,\n",
       "                             'val_start': 0,\n",
       "                             'val_end': 24000,\n",
       "                             'test_start': 30000,\n",
       "                             'test_end': 33600,\n",
       "                             'chunksize': None,\n",
       "                             'conversions': None,\n",
       "                             'iterator': True},\n",
       "          paths={'log_dir': './logs',\n",
       "                 'result_dir': './results',\n",
       "                 'checkpoint_dir': './ckpt'},\n",
       "          configuration='./hyperparameters/ae_baseline_150_512_cpb.yaml',\n",
       "          cpb=200,\n",
       "          epochs=5,\n",
       "          gpu_id=1,\n",
       "          runmode='baseline',\n",
       "          use_annealing=False,\n",
       "          use_single_loss=True,\n",
       "          wandb=False,\n",
       "          ckpt=None,\n",
       "          batch_size=1,\n",
       "          use_sum=False,\n",
       "          SGD_momentum=0)"
      ]
     },
     "execution_count": 12,
     "metadata": {},
     "output_type": "execute_result"
    }
   ],
   "source": [
    "cli_args = f\" --runmode            {RUNMODE} \" \\\n",
    "            f\" --configuration      {CONFIGURATION}\" \\\n",
    "            f\" --cpb                {COMPOUNDS_PER_BATCH}\" \\\n",
    "            f\" --epochs             {EPOCHS} \" \\\n",
    "            f\" --seed               4321\" \\\n",
    "            f\" --gpu_id             {GPU_ID}  \"  \\\n",
    "            f\" \"\n",
    "cli_args = utils.parse_args(cli_args.split())\n",
    "cli_args\n",
    "\n",
    "args = utils.load_configuration(cli_args)\n",
    "args.ckpt\n",
    "args\n"
   ]
  },
  {
   "cell_type": "code",
   "execution_count": 13,
   "id": "10a020ed-41ea-4a6a-b0ae-5ab140dfd2a5",
   "metadata": {
    "execution": {
     "iopub.execute_input": "2024-08-28T15:40:12.842087Z",
     "iopub.status.busy": "2024-08-28T15:40:12.841698Z",
     "iopub.status.idle": "2024-08-28T15:40:13.689494Z",
     "shell.execute_reply": "2024-08-28T15:40:13.688899Z",
     "shell.execute_reply.started": "2024-08-28T15:40:12.842055Z"
    }
   },
   "outputs": [
    {
     "name": "stdout",
     "output_type": "stream",
     "text": [
      " device: 0   Quadro GV100                   :  free: 32,536,854,528 B   (30.30 GB)    total: 34,069,872,640 B   (31.73 GB)\n",
      " device: 1   Quadro GV100                   :  free: 33,191,165,952 B   (30.91 GB)    total: 34,069,872,640 B   (31.73 GB)\n"
     ]
    },
    {
     "name": "stderr",
     "output_type": "stream",
     "text": [
      "2024-08-28 17:40:13,683 - snnl.utils.utils_ptsnnl - INFO: -  Current CUDA Device is:  cuda:0 - Quadro GV100\n",
      "2024-08-28 17:40:13,684 - snnl.utils.utils_ptsnnl - INFO: -  Switched to: Quadro GV100 - 1\n"
     ]
    },
    {
     "name": "stdout",
     "output_type": "stream",
     "text": [
      " device: 2   NVIDIA TITAN Xp                :  free: 11,996,364,800 B   (11.17 GB)    total: 12,774,539,264 B   (11.90 GB)\n"
     ]
    }
   ],
   "source": [
    "set_global_seed(args.random_seed)\n",
    "if args.ckpt is not None:\n",
    "    if os.path.exists(os.path.join('ckpts', args.ckpt)):\n",
    "        logger.info(f\"Checkpoint {args.ckpt} found\")\n",
    "        logger.info(f\"Resuming training using checkpoint: {args.ckpt}\")\n",
    "    else:\n",
    "        logger.error(f\"*** Checkpoint {args.ckpt} not found *** \\n\")\n",
    "        raise ValueError(f\"\\n *** Checkpoint DOESNT EXIST *** \\n\")\n",
    "\n",
    "if args.gpu_id is not None:\n",
    "    _ = get_device(verbose=True)\n",
    "    # print(f\"Current device is : {current_device}\")    \n",
    "    args.current_device = set_device(args.gpu_id)\n",
    "    "
   ]
  },
  {
   "cell_type": "markdown",
   "id": "642b9623-4e44-4252-aa32-8e6214a14559",
   "metadata": {},
   "source": [
    "## Define dataset and dataloaders"
   ]
  },
  {
   "cell_type": "markdown",
   "id": "5a924e37-9cb0-4c69-bb3f-2a4ea09a63ef",
   "metadata": {},
   "source": [
    "### Load Cell Painting Dataset (All training & test samples)"
   ]
  },
  {
   "cell_type": "code",
   "execution_count": 34,
   "id": "0ba3cb1a-dcb4-447d-a1d9-c1882f25fbc8",
   "metadata": {
    "execution": {
     "iopub.execute_input": "2024-08-28T15:53:24.686689Z",
     "iopub.status.busy": "2024-08-28T15:53:24.686098Z",
     "iopub.status.idle": "2024-08-28T15:53:24.738680Z",
     "shell.execute_reply": "2024-08-28T15:53:24.737986Z",
     "shell.execute_reply.started": "2024-08-28T15:53:24.686649Z"
    }
   },
   "outputs": [
    {
     "data": {
      "text/plain": [
       "{'sample_size': 3,\n",
       " 'batch_size': 1,\n",
       " 'compounds_per_batch': 200,\n",
       " 'training_path': '/home/kevin/WSL-shared/cellpainting/cj-datasets/output_11102023/3_sample_profiles/3sample_profiles_1482_HashOrder_training.csv',\n",
       " 'validation_path': '/home/kevin/WSL-shared/cellpainting/cj-datasets/output_11102023/3_sample_profiles/3sample_profiles_1482_HashOrder_test.csv',\n",
       " 'test_path': '/home/kevin/WSL-shared/cellpainting/cj-datasets/output_11102023/3_sample_profiles/3sample_profiles_1482_HashOrder_test.csv',\n",
       " 'train_start': 0,\n",
       " 'train_end': 312000,\n",
       " 'val_start': 0,\n",
       " 'val_end': 24000,\n",
       " 'test_start': 0,\n",
       " 'test_end': 34542,\n",
       " 'chunksize': None,\n",
       " 'conversions': None,\n",
       " 'iterator': True}"
      ]
     },
     "execution_count": 34,
     "metadata": {},
     "output_type": "execute_result"
    }
   ],
   "source": [
    "# args.cellpainting_args['validation_path']\n",
    "\n",
    "args.cellpainting_args['training_path'] = '/home/kevin/WSL-shared/cellpainting/cj-datasets/output_11102023/3_sample_profiles/3sample_profiles_1482_HashOrder_training.csv'\n",
    "args.cellpainting_args['train_start'] = 0\n",
    "args.cellpainting_args['train_end'] = 312_000  ## 312_000\n",
    "\n",
    "# # args.cellpainting_args['validation_path'] = '/home/kevin/WSL-shared/cellpainting/cj-datasets/output_11102023/3_sample_profiles/3sample_profiles_1482_HashOrder_test.csv'\n",
    "# # args.cellpainting_args['val_start'] = 0\n",
    "# # args.cellpainting_args['val_end'] = 312_000\n",
    "\n",
    "args.cellpainting_args['test_path'] = '/home/kevin/WSL-shared/cellpainting/cj-datasets/output_11102023/3_sample_profiles/3sample_profiles_1482_HashOrder_test.csv'\n",
    "args.cellpainting_args['test_start'] = 0 \n",
    "args.cellpainting_args['test_end'] = 34_542\n",
    "\n",
    "args.cellpainting_args"
   ]
  },
  {
   "cell_type": "markdown",
   "id": "5f09684c-e777-4a30-b84a-aaf8d3a6b16e",
   "metadata": {},
   "source": [
    "### Load Cell Painting Dataset"
   ]
  },
  {
   "cell_type": "code",
   "execution_count": 35,
   "id": "86105dca-05a8-4519-8095-94efe15f163e",
   "metadata": {
    "execution": {
     "iopub.execute_input": "2024-08-28T15:53:32.160784Z",
     "iopub.status.busy": "2024-08-28T15:53:32.160374Z",
     "iopub.status.idle": "2024-08-28T15:53:32.237099Z",
     "shell.execute_reply": "2024-08-28T15:53:32.236339Z",
     "shell.execute_reply.started": "2024-08-28T15:53:32.160751Z"
    },
    "scrolled": true
   },
   "outputs": [
    {
     "name": "stderr",
     "output_type": "stream",
     "text": [
      "2024-08-28 17:53:32,209 - root - INFO: -  load cellpainting\n",
      "2024-08-28 17:53:32,210 - snnl.utils.dataloader - INFO: -  Building CellPantingDataset for train\n",
      "2024-08-28 17:53:32,211 - snnl.utils.dataloader - INFO: -  filename:  /home/kevin/WSL-shared/cellpainting/cj-datasets/output_11102023/3_sample_profiles/3sample_profiles_1482_HashOrder_training.csv\n",
      "2024-08-28 17:53:32,211 - snnl.utils.dataloader - INFO: -  type    :  train\n",
      "2024-08-28 17:53:32,212 - snnl.utils.dataloader - INFO: -  start   :  0\n",
      "2024-08-28 17:53:32,212 - snnl.utils.dataloader - INFO: -  end     :  312000\n",
      "2024-08-28 17:53:32,213 - snnl.utils.dataloader - INFO: -  numrows :  312000\n",
      "2024-08-28 17:53:32,213 - snnl.utils.dataloader - INFO: -  names   :  None     usecols :  None\n",
      "2024-08-28 17:53:32,214 - snnl.utils.dataloader - INFO: -  batch_size  :  1\n",
      "2024-08-28 17:53:32,215 - snnl.utils.dataloader - INFO: -  sample_size :  3\n",
      "2024-08-28 17:53:32,215 - snnl.utils.dataloader - INFO: -  compounds_per_batch :  200\n",
      "2024-08-28 17:53:32,215 - snnl.utils.dataloader - INFO: -  chunksize  (rows per minibatch) :  600\n",
      "2024-08-28 17:53:32,216 - snnl.utils.dataloader - INFO: -  Each mini-batch contains 200.0 compounds with 3 samples per compound : total 600 rows\n",
      "2024-08-28 17:53:32,217 - snnl.utils.dataloader - INFO: -  Number of 600 row full size batches per epoch: 520\n",
      "2024-08-28 17:53:32,218 - snnl.utils.dataloader - INFO: -  Rows covered by 520 full size batches (600 rows) per epoch:  312000\n",
      "2024-08-28 17:53:32,218 - snnl.utils.dataloader - INFO: -  Last partial batch contains : 0 rows\n",
      "2024-08-28 17:53:32,219 - snnl.utils.dataloader - INFO: -  \n",
      "2024-08-28 17:53:32,219 - snnl.utils.dataloader - INFO: -  Building CellPantingDataset for test\n",
      "2024-08-28 17:53:32,220 - snnl.utils.dataloader - INFO: -  filename:  /home/kevin/WSL-shared/cellpainting/cj-datasets/output_11102023/3_sample_profiles/3sample_profiles_1482_HashOrder_test.csv\n",
      "2024-08-28 17:53:32,220 - snnl.utils.dataloader - INFO: -  type    :  test\n",
      "2024-08-28 17:53:32,221 - snnl.utils.dataloader - INFO: -  start   :  0\n",
      "2024-08-28 17:53:32,221 - snnl.utils.dataloader - INFO: -  end     :  34542\n",
      "2024-08-28 17:53:32,222 - snnl.utils.dataloader - INFO: -  numrows :  34542\n",
      "2024-08-28 17:53:32,222 - snnl.utils.dataloader - INFO: -  names   :  None     usecols :  None\n",
      "2024-08-28 17:53:32,223 - snnl.utils.dataloader - INFO: -  batch_size  :  1\n",
      "2024-08-28 17:53:32,223 - snnl.utils.dataloader - INFO: -  sample_size :  3\n",
      "2024-08-28 17:53:32,224 - snnl.utils.dataloader - INFO: -  compounds_per_batch :  200\n",
      "2024-08-28 17:53:32,225 - snnl.utils.dataloader - INFO: -  chunksize  (rows per minibatch) :  600\n",
      "2024-08-28 17:53:32,225 - snnl.utils.dataloader - INFO: -  Each mini-batch contains 200.0 compounds with 3 samples per compound : total 600 rows\n",
      "2024-08-28 17:53:32,226 - snnl.utils.dataloader - INFO: -  Number of 600 row full size batches per epoch: 57\n",
      "2024-08-28 17:53:32,229 - snnl.utils.dataloader - INFO: -  Rows covered by 57 full size batches (600 rows) per epoch:  34200\n",
      "2024-08-28 17:53:32,230 - snnl.utils.dataloader - INFO: -  Last partial batch contains : 342 rows\n",
      "2024-08-28 17:53:32,231 - snnl.utils.dataloader - INFO: -  \n"
     ]
    },
    {
     "name": "stdout",
     "output_type": "stream",
     "text": [
      " load cellpainting\n",
      " Dataset size: 312000   rows per batch: 600\n",
      " Dataset size: 34542   rows per batch: 600\n"
     ]
    },
    {
     "data": {
      "text/plain": [
       "dict_keys(['train', 'test'])"
      ]
     },
     "execution_count": 35,
     "metadata": {},
     "output_type": "execute_result"
    }
   ],
   "source": [
    "data_loader = utils.build_dataloaders(args, data = ['train',  'test'])\n",
    "data_loader.keys()"
   ]
  },
  {
   "cell_type": "code",
   "execution_count": 54,
   "id": "f6b34615-8522-4c30-aa80-07c5ecbc2225",
   "metadata": {
    "execution": {
     "iopub.execute_input": "2024-08-19T17:25:31.379855Z",
     "iopub.status.busy": "2024-08-19T17:25:31.379279Z",
     "iopub.status.idle": "2024-08-19T17:25:31.422863Z",
     "shell.execute_reply": "2024-08-19T17:25:31.422162Z",
     "shell.execute_reply.started": "2024-08-19T17:25:31.379814Z"
    }
   },
   "outputs": [],
   "source": [
    "# idx = 0 \n",
    "# data_loader_iterator = iter(data_loader['test'])"
   ]
  },
  {
   "cell_type": "markdown",
   "id": "e24271f0-06fa-4514-ba1a-f19e8ad362eb",
   "metadata": {},
   "source": [
    "# Define Autoencoder Model"
   ]
  },
  {
   "cell_type": "code",
   "execution_count": 17,
   "id": "927ce759-3f8f-479f-bc6e-d1803406b964",
   "metadata": {
    "execution": {
     "iopub.execute_input": "2024-08-28T15:42:39.334320Z",
     "iopub.status.busy": "2024-08-28T15:42:39.333815Z",
     "iopub.status.idle": "2024-08-28T15:42:39.387089Z",
     "shell.execute_reply": "2024-08-28T15:42:39.385879Z",
     "shell.execute_reply.started": "2024-08-28T15:42:39.334279Z"
    }
   },
   "outputs": [
    {
     "name": "stdout",
     "output_type": "stream",
     "text": [
      "   Units             [['linear', 1471, 1024], ['relu', 0, 0], ['linear', 1024, 512], ['relu', 0, 0], ['linear', 512, 150], ['linear', 150, 512], ['relu', 0, 0], ['linear', 512, 1024], ['relu', 0, 0], ['linear', 1024, 1471]]\n",
      "   Latent dim        150\n",
      "   loss_factor       1.0\n",
      "   snnl_factor       0.0\n",
      "   temperature       0.0\n",
      "   learning_rate     0.001\n",
      "   temperatureLR:    0.0\n",
      "\n",
      "command line parms : \n",
      "-----------------------\n",
      "SGD_momentum.............  0\n",
      "SGD_weight_decay.........  0\n",
      "adam_weight_decay........  0.01\n",
      "batch_size...............  1\n",
      "\n",
      "    cellpainting_args   (dict)\n",
      "    ----------------------------\n",
      "    batch_size...............  1\n",
      "    chunksize................  None\n",
      "    compounds_per_batch......  200\n",
      "    conversions..............  None\n",
      "    iterator.................  True\n",
      "    sample_size..............  3\n",
      "    test_end.................  33600\n",
      "    test_path................  /home/kevin/WSL-shared/cellpainting/cj-datasets/output_11102023/3_sample_profiles/3sample_profiles_1482_HashOrder_test.csv\n",
      "    test_start...............  30000\n",
      "    train_end................  240000\n",
      "    train_start..............  0\n",
      "    training_path............  /home/kevin/WSL-shared/cellpainting/cj-datasets/output_11102023/3_sample_profiles/3sample_profiles_1482_HashOrder.csv\n",
      "    val_end..................  24000\n",
      "    val_start................  0\n",
      "    validation_path..........  /home/kevin/WSL-shared/cellpainting/cj-datasets/output_11102023/3_sample_profiles/3sample_profiles_1482_HashOrder_test.csv\n",
      "\n",
      "ckpt.....................  None\n",
      "code_units...............  150\n",
      "configuration............  ./hyperparameters/ae_baseline_150_512_cpb.yaml\n",
      "cpb......................  200\n",
      "current_device...........  cuda:1\n",
      "dataset..................  cellpainting\n",
      "embedding_layer..........  4\n",
      "epochs...................  5\n",
      "exp_date.................  20240828_1740\n",
      "exp_description..........  AE baseline - snglOpt, 150 dim latent, 512 Midlayer, 200 cpb\n",
      "exp_folder...............  None\n",
      "exp_id...................  None\n",
      "exp_name.................  AE_20240828_1740\n",
      "exp_name_pfx.............  None\n",
      "exp_title................  scpb200_150Ltnt_512\n",
      "folder_sfx...............  None\n",
      "gpu_id...................  1\n",
      "input_shape..............  1471\n",
      "learning_rate............  0.001\n",
      "loss_factor..............  1.0\n",
      "\n",
      "    paths   (dict)\n",
      "    ----------------\n",
      "    checkpoint_dir...........  ./ckpt\n",
      "    log_dir..................  ./logs\n",
      "    result_dir...............  ./results\n",
      "\n",
      "project_name.............  CellPainting_Profiles\n",
      "random_seed..............  4321\n",
      "runmode..................  baseline\n",
      "save_every...............  100\n",
      "show_every...............  1\n",
      "snnl_factor..............  0.0\n",
      "temperature..............  0.0\n",
      "temperatureLR............  0.0\n",
      "units....................  [['linear', 1471, 1024], ['relu', 0, 0], ['linear', 1024, 512], ['relu', 0, 0], ['linear', 512, 150], ['linear', 150, 512], ['relu', 0, 0], ['linear', 512, 1024], ['relu', 0, 0], ['linear', 1024, 1471]]\n",
      "use_annealing............  False\n",
      "use_prim_optimizer.......  True\n",
      "use_prim_scheduler.......  True\n",
      "use_single_loss..........  True\n",
      "use_sum..................  False\n",
      "use_temp_optimizer.......  False\n",
      "use_temp_scheduler.......  False\n",
      "wandb....................  False\n",
      "\n"
     ]
    }
   ],
   "source": [
    "print(f\"   Units             {args.units}\")\n",
    "print(f\"   Latent dim        {args.code_units}\")\n",
    "print(f\"   loss_factor       {args.loss_factor}\")\n",
    "print(f\"   snnl_factor       {args.snnl_factor}\")\n",
    "print(f\"   temperature       {args.temperature}\")\n",
    "print(f\"   learning_rate     {args.learning_rate}\")\n",
    "print(f\"   temperatureLR:    {args.temperatureLR}\")\n",
    "\n",
    "list_namespace(args)"
   ]
  },
  {
   "cell_type": "code",
   "execution_count": 18,
   "id": "479f09de-e7df-45ea-a720-a0396adc76f5",
   "metadata": {
    "execution": {
     "iopub.execute_input": "2024-08-28T15:42:50.092258Z",
     "iopub.status.busy": "2024-08-28T15:42:50.091760Z",
     "iopub.status.idle": "2024-08-28T15:42:50.300584Z",
     "shell.execute_reply": "2024-08-28T15:42:50.299516Z",
     "shell.execute_reply.started": "2024-08-28T15:42:50.092226Z"
    }
   },
   "outputs": [
    {
     "data": {
      "text/plain": [
       "'baseline'"
      ]
     },
     "execution_count": 18,
     "metadata": {},
     "output_type": "execute_result"
    },
    {
     "name": "stderr",
     "output_type": "stream",
     "text": [
      "2024-08-28 17:42:50,156 - snnl.utils.utils_notebook - INFO: - Defining model in baseline mode\n",
      "2024-08-28 17:42:50,157 - snnl.models.autoencoder - INFO: -     layer pair:    0  type:linear           input:   1471  output:   1024    weights: [1024, 1471]   \n",
      "2024-08-28 17:42:50,204 - snnl.models.autoencoder - INFO: -     layer pair:    1  type:relu             input:      0  output:      0    weights: [0, 0]   \n",
      "2024-08-28 17:42:50,205 - snnl.models.autoencoder - INFO: -     layer pair:    2  type:linear           input:   1024  output:    512    weights: [512, 1024]   \n",
      "2024-08-28 17:42:50,214 - snnl.models.autoencoder - INFO: -     layer pair:    3  type:relu             input:      0  output:      0    weights: [0, 0]   \n",
      "2024-08-28 17:42:50,215 - snnl.models.autoencoder - INFO: -     layer pair:    4  type:linear           input:    512  output:    150    weights: [150, 512]   \n",
      "2024-08-28 17:42:50,217 - snnl.models.autoencoder - INFO: -     layer pair:    5  type:linear           input:    150  output:    512    weights: [512, 150]   \n",
      "2024-08-28 17:42:50,218 - snnl.models.autoencoder - INFO: -     layer pair:    6  type:relu             input:      0  output:      0    weights: [0, 0]   \n",
      "2024-08-28 17:42:50,219 - snnl.models.autoencoder - INFO: -     layer pair:    7  type:linear           input:    512  output:   1024    weights: [1024, 512]   \n",
      "2024-08-28 17:42:50,226 - snnl.models.autoencoder - INFO: -     layer pair:    8  type:relu             input:      0  output:      0    weights: [0, 0]   \n",
      "2024-08-28 17:42:50,227 - snnl.models.autoencoder - INFO: -     layer pair:    9  type:linear           input:   1024  output:   1471    weights: [1471, 1024]   \n"
     ]
    },
    {
     "name": "stdout",
     "output_type": "stream",
     "text": [
      " EMBEDDING LAYER: 4\n",
      " Device cuda:1 will be used\n",
      "\n",
      "------------------------------------------------------------\n",
      " Building Base Model from NOTEBOOK\n",
      "------------------------------------------------------------\n",
      "    Model_init()_    -- mode:              autoencoding\n",
      "    Model_init()_    -- Unsupervised :     True\n",
      "    Model_init()_    -- Support for unsupervised training  in 'autoencoding' mode is True\n",
      "    Model_init()_    -- Criterion:         MSELoss()\n",
      "    Model_init()_    -- use_snnl :         False\n",
      "    Model_init()_    -- temperature :      0\n",
      "    Model_init()_    -- temperature LR:    0.0\n",
      "\n",
      "------------------------------------------------------------\n",
      " Building Autoencoder from NOTEBOOK\n",
      "------------------------------------------------------------\n",
      "setup_prim_optimizer()\n",
      "    AE init() -- mode               : autoencoding\n",
      "    AE init() -- unsupervised       : True\n",
      "    AE init() -- layer_types        : ['linear', 'relu', 'linear', 'relu', 'linear', 'linear', 'relu', 'linear', 'relu', 'linear']\n",
      "    AE init() -- non linearities    : ['relu', 'relu', 'relu', 'relu']\n",
      "    AE init() -- Primary Crtierion  : MSELoss()\n",
      "    AE init() -- monitor_grads_layer: None\n",
      "    AE init() -- Primary optimizer  : True\n",
      "    AE init() -- Primary scheduler  : True\n",
      "    AE init() -- use_snnl           : False\n",
      "    AE init() -- SNNL Crtierion     : None\n",
      "    AE init() -- temperature        : 0\n",
      "    AE init() -- temperature LR     : 0.0\n",
      "    AE init() -- Temperature optmzr : False\n",
      "    AE init() -- Temperature schdlr : False\n",
      "cuda:1 cuda:1\n"
     ]
    }
   ],
   "source": [
    "args.runmode\n",
    "model = define_autoencoder_model(args, verbose=True)\n",
    "print(args.current_device, model.device)"
   ]
  },
  {
   "cell_type": "code",
   "execution_count": 57,
   "id": "bf1e4da3-2a35-4151-81b4-a555d073e09f",
   "metadata": {
    "execution": {
     "iopub.execute_input": "2024-08-19T17:25:35.011954Z",
     "iopub.status.busy": "2024-08-19T17:25:35.011430Z",
     "iopub.status.idle": "2024-08-19T17:25:35.054246Z",
     "shell.execute_reply": "2024-08-19T17:25:35.053686Z",
     "shell.execute_reply.started": "2024-08-19T17:25:35.011913Z"
    }
   },
   "outputs": [],
   "source": [
    "# display_model_summary(model)"
   ]
  },
  {
   "cell_type": "code",
   "execution_count": 58,
   "id": "4d65ad98-e035-4a27-b579-d2a2527d2850",
   "metadata": {
    "execution": {
     "iopub.execute_input": "2024-08-19T17:25:36.538080Z",
     "iopub.status.busy": "2024-08-19T17:25:36.537560Z",
     "iopub.status.idle": "2024-08-19T17:25:36.582712Z",
     "shell.execute_reply": "2024-08-19T17:25:36.581964Z",
     "shell.execute_reply.started": "2024-08-19T17:25:36.538037Z"
    }
   },
   "outputs": [],
   "source": [
    "# list_namespace(args)"
   ]
  },
  {
   "cell_type": "markdown",
   "id": "f284c33e-8448-4c0a-a403-8dc1d8cc536d",
   "metadata": {},
   "source": [
    "# Load Model from saved checkpoint "
   ]
  },
  {
   "cell_type": "code",
   "execution_count": 19,
   "id": "dd120116-4993-4134-9d5a-6ac4a3347ab3",
   "metadata": {
    "execution": {
     "iopub.execute_input": "2024-08-28T15:43:00.480422Z",
     "iopub.status.busy": "2024-08-28T15:43:00.479919Z",
     "iopub.status.idle": "2024-08-28T15:43:00.548153Z",
     "shell.execute_reply": "2024-08-28T15:43:00.547316Z",
     "shell.execute_reply.started": "2024-08-28T15:43:00.480379Z"
    }
   },
   "outputs": [
    {
     "data": {
      "text/plain": [
       "<function snnl.utils.utils_ptsnnl.load_checkpoint_v5(model, filename, dryrun=False, verbose=False, quiet=False)>"
      ]
     },
     "execution_count": 19,
     "metadata": {},
     "output_type": "execute_result"
    },
    {
     "data": {
      "text/plain": [
       "<function snnl.utils.utils_ptsnnl.save_checkpoint_v5(epoch, model, args, filename=None, update_latest=False, update_best=False, verbose=False)>"
      ]
     },
     "execution_count": 19,
     "metadata": {},
     "output_type": "execute_result"
    }
   ],
   "source": [
    "args.load_checkpoint = utils.load_checkpoint_v5\n",
    "args.save_checkpoint = utils.save_checkpoint_v5\n",
    "args.load_checkpoint\n",
    "args.save_checkpoint\n",
    "args.ckpt"
   ]
  },
  {
   "cell_type": "code",
   "execution_count": 21,
   "id": "f43a6227-7763-4326-ae86-41dc4d99eecb",
   "metadata": {
    "execution": {
     "iopub.execute_input": "2024-08-28T15:47:12.142808Z",
     "iopub.status.busy": "2024-08-28T15:47:12.142274Z",
     "iopub.status.idle": "2024-08-28T15:47:12.192745Z",
     "shell.execute_reply": "2024-08-28T15:47:12.192097Z",
     "shell.execute_reply.started": "2024-08-28T15:47:12.142770Z"
    }
   },
   "outputs": [],
   "source": [
    "# epochs = 50\n",
    "# ex_runmode = 'baseline'\n",
    "# ex_runmode = 'base'\n",
    "# ex_date = \"20240709\"\n",
    "# ex_time = \"1950\"\n",
    "# indicator = 's'\n",
    "##\n",
    "ex_runmode = 'snnl'\n",
    "ex_datetime = \"20240709_2235\"\n",
    "indicator = 'd'\n",
    "##--------------------------------------\n",
    "ex_runmode = 'base'\n",
    "ex_datetime = \"20240827_1938\"\n",
    "indicator = 's'\n",
    "\n",
    "suffix = '*'"
   ]
  },
  {
   "cell_type": "code",
   "execution_count": 22,
   "id": "53cc2fd5-6315-4bd1-ab3f-834ab981768f",
   "metadata": {
    "execution": {
     "iopub.execute_input": "2024-08-28T15:47:13.756895Z",
     "iopub.status.busy": "2024-08-28T15:47:13.756400Z",
     "iopub.status.idle": "2024-08-28T15:47:13.808403Z",
     "shell.execute_reply": "2024-08-28T15:47:13.807592Z",
     "shell.execute_reply.started": "2024-08-28T15:47:13.756853Z"
    }
   },
   "outputs": [
    {
     "name": "stdout",
     "output_type": "stream",
     "text": [
      "AE_base_scpb200_150Ltnt_512_20240827_1938.pt\n",
      "AE_base_scpb200_150Ltnt_512_20240827_1938*.pt\n",
      "None\n"
     ]
    }
   ],
   "source": [
    "# filename = f\"{model.name}_{ex_runmode}_{ex_date}_{ex_title}_{epochs:03d}_cpb_{ex_cpb}_factor_{ex_factor:d}.pt\"\n",
    "# file_pattern = f\"{model.name}_{ex_runmode}_{ex_date}_{ex_title}_*_cpb_{ex_cpb}_factor_{ex_factor:d}.pt\"\n",
    "# filename = f\"{model.name}_{ex_runmode}_{ex_date}_{ex_title}_{epochs:03d}_cpb_{ex_cpb}_factor_{ex_factor:d}.pt\"\n",
    "# file_pattern = f\"{model.name}_{ex_runmode}_{ex_date}_{ex_title}_ep_*.pt\"\n",
    "# print(filename)\n",
    "# print(file_pattern)\n",
    "\n",
    "filename = f\"{model.name}_{ex_runmode}_{indicator}cpb{COMPOUNDS_PER_BATCH}_{LATENT_DIM}Ltnt_{HIDDEN_1}_{ex_datetime}.pt\"\n",
    "file_pattern = f\"{model.name}_{ex_runmode}_{indicator}cpb{COMPOUNDS_PER_BATCH}_{LATENT_DIM}Ltnt_{HIDDEN_1}_{ex_datetime}{suffix}.pt\"\n",
    "print(filename)\n",
    "print(file_pattern)\n",
    "print(args.ckpt)"
   ]
  },
  {
   "cell_type": "code",
   "execution_count": 24,
   "id": "777cf896-1fda-4e8f-8eb3-581f98132d2a",
   "metadata": {
    "execution": {
     "iopub.execute_input": "2024-08-28T15:47:40.096112Z",
     "iopub.status.busy": "2024-08-28T15:47:40.095531Z",
     "iopub.status.idle": "2024-08-28T15:47:40.149132Z",
     "shell.execute_reply": "2024-08-28T15:47:40.148391Z",
     "shell.execute_reply.started": "2024-08-28T15:47:40.096057Z"
    }
   },
   "outputs": [
    {
     "name": "stdout",
     "output_type": "stream",
     "text": [
      "   0 :  AE_base_scpb200_150Ltnt_512_20240827_1938_BEST.pt\n",
      "   1 :  AE_base_scpb200_150Ltnt_512_20240827_1938_LAST_ep_100.pt\n",
      "   2 :  AE_base_scpb200_150Ltnt_512_20240827_1938_LAST_ep_200.pt\n",
      "   3 :  AE_base_scpb200_150Ltnt_512_20240827_1938_LAST_ep_400.pt\n",
      "   4 :  AE_base_scpb200_150Ltnt_512_20240827_1938_ep_100.pt\n",
      "   5 :  AE_base_scpb200_150Ltnt_512_20240827_1938_ep_200.pt\n",
      "   6 :  AE_base_scpb200_150Ltnt_512_20240827_1938_ep_300.pt\n",
      "   7 :  AE_base_scpb200_150Ltnt_512_20240827_1938_ep_400.pt\n"
     ]
    }
   ],
   "source": [
    "import glob\n",
    "# filelist = glob.glob(os.path.join('ckpts',file_pattern))\n",
    "filelist = glob.glob(file_pattern,root_dir = './ckpts')\n",
    "filelist = sorted(filelist)\n",
    "for i , f in enumerate(filelist):\n",
    "    print(f\" {i:3d} :  {f}\")\n",
    "# epochlist =sorted([int(x[-6:-3]) for x in filelist])\n",
    "# epochlist\n",
    "# epochlist =[int(x[31:34]) for x in filelist]\n",
    "# epochlist =[int(x[26:29]) for x in filelist]\n",
    "# epochlist = [200]\n",
    "# epochlist = [350]"
   ]
  },
  {
   "cell_type": "markdown",
   "id": "90e7b0c3-82ca-4d41-98fb-85e88f14cba0",
   "metadata": {},
   "source": [
    "### Test model loading"
   ]
  },
  {
   "cell_type": "code",
   "execution_count": 25,
   "id": "e300e61b-0421-4b42-99c8-86d0772498f8",
   "metadata": {
    "execution": {
     "iopub.execute_input": "2024-08-28T15:48:19.768266Z",
     "iopub.status.busy": "2024-08-28T15:48:19.767854Z",
     "iopub.status.idle": "2024-08-28T15:48:19.942616Z",
     "shell.execute_reply": "2024-08-28T15:48:19.941896Z",
     "shell.execute_reply.started": "2024-08-28T15:48:19.768232Z"
    }
   },
   "outputs": [
    {
     "name": "stderr",
     "output_type": "stream",
     "text": [
      "2024-08-28 17:48:19,831 - root - INFO: -  Load model checkpoint from  AE_base_scpb200_150Ltnt_512_20240827_1938_BEST.pt\n",
      "2024-08-28 17:48:19,919 - snnl.utils.utils_ptsnnl - INFO: -  Loaded from checkpoint AE_base_scpb200_150Ltnt_512_20240827_1938_BEST.pt successfully. last epoch on checkpoint: 302\n",
      "2024-08-28 17:48:19,920 - snnl.utils.utils_ptsnnl - INFO: -  Model best training metric   : 0.470116 - epoch: 5\n",
      "2024-08-28 17:48:19,921 - snnl.utils.utils_ptsnnl - INFO: -  Model best validation metric : 0.470615 - epoch: 302\n"
     ]
    },
    {
     "data": {
      "text/plain": [
       "Autoencoder(\n",
       "  (primary_criterion): MSELoss()\n",
       "  (layers): ModuleList(\n",
       "    (0): Linear(in_features=1471, out_features=1024, bias=True)\n",
       "    (1): ReLU()\n",
       "    (2): Linear(in_features=1024, out_features=512, bias=True)\n",
       "    (3): ReLU()\n",
       "    (4): Linear(in_features=512, out_features=150, bias=True)\n",
       "    (5): Linear(in_features=150, out_features=512, bias=True)\n",
       "    (6): ReLU()\n",
       "    (7): Linear(in_features=512, out_features=1024, bias=True)\n",
       "    (8): ReLU()\n",
       "    (9): Linear(in_features=1024, out_features=1471, bias=True)\n",
       "  )\n",
       ")"
      ]
     },
     "execution_count": 25,
     "metadata": {},
     "output_type": "execute_result"
    },
    {
     "name": "stderr",
     "output_type": "stream",
     "text": [
      "2024-08-28 17:48:19,936 - root - INFO: -  Loaded Model device cuda:1 -  Last completed epoch : 302\n"
     ]
    },
    {
     "data": {
      "text/plain": [
       "('cuda:1', 'cuda:1', 'cuda:1')"
      ]
     },
     "execution_count": 25,
     "metadata": {},
     "output_type": "execute_result"
    }
   ],
   "source": [
    "args.ckpt = 'AE_snnl_dcpb200_150Ltnt_512_20240709_2235_ep_500.pt'\n",
    "args.ckpt = filelist[0]\n",
    "\n",
    "if args.ckpt is not None:\n",
    "    resume_training = True\n",
    "    model_copy, last_epoch = args.load_checkpoint(model, args.ckpt, verbose = False)\n",
    "    model_copy.train()\n",
    "    model_copy.device = args.current_device\n",
    "    model_copy = model_copy .cuda(device=args.current_device)\n",
    "    logging.info(f\" Loaded Model device {model_copy.device} -  Last completed epoch : {last_epoch}\")\n",
    "else:\n",
    "    logging.info(f\" ERROR - Checkpoint not found  \")\n",
    "\n",
    "args.current_device, model.device, model_copy.device\n",
    "del model_copy"
   ]
  },
  {
   "cell_type": "markdown",
   "id": "26467ab0-e2b1-46fa-b8d4-731fcdc4c301",
   "metadata": {},
   "source": [
    "# Run data through model and get latent representation"
   ]
  },
  {
   "cell_type": "code",
   "execution_count": 26,
   "id": "1c50f545-9952-40e4-998e-a2922af86e86",
   "metadata": {
    "execution": {
     "iopub.execute_input": "2024-08-28T15:49:02.399022Z",
     "iopub.status.busy": "2024-08-28T15:49:02.398363Z",
     "iopub.status.idle": "2024-08-28T15:49:02.452689Z",
     "shell.execute_reply": "2024-08-28T15:49:02.451914Z",
     "shell.execute_reply.started": "2024-08-28T15:49:02.398978Z"
    }
   },
   "outputs": [
    {
     "name": "stdout",
     "output_type": "stream",
     "text": [
      "161\n"
     ]
    }
   ],
   "source": [
    "# = utils.load_model_from_ckpt(model, ex_mode, ex_timestamp, ex_title, epochs, ex_cpb, ex_factor )\n",
    "output_file_cols =  ['Metadata_Source', 'Metadata_Batch', 'Metadata_Plate', 'Metadata_Well', 'Metadata_JCP2022','Metadata_Hash','Metadata_Bin', 'Metadata_TPSA', 'Metadata_lnTPSA', 'Metadata_log10TPSA' ,'Metadata_Permiation']\n",
    "output_file_cols += [f'Feature_{x:03d}' for x in range(LATENT_DIM)]\n",
    "\n",
    "print(len(output_file_cols))\n",
    "epoch = \"ep_500\"\n",
    "# epoch = \"BEST\" ## \"LAST\""
   ]
  },
  {
   "cell_type": "code",
   "execution_count": 36,
   "id": "992a7832-4416-4029-a277-040b6fd38a4d",
   "metadata": {
    "execution": {
     "iopub.execute_input": "2024-08-28T15:53:55.053962Z",
     "iopub.status.busy": "2024-08-28T15:53:55.053607Z",
     "iopub.status.idle": "2024-08-28T15:53:55.107461Z",
     "shell.execute_reply": "2024-08-28T15:53:55.106688Z",
     "shell.execute_reply.started": "2024-08-28T15:53:55.053938Z"
    }
   },
   "outputs": [
    {
     "name": "stdout",
     "output_type": "stream",
     "text": [
      "3smpl_prfl_embedding_161_HashOrder_BASELINE_20240827_1938_BEST_{datatype}.csv\n",
      "3smpl_prfl_embedding_161_HashOrder_BASELINE_20240827_1938_LAST_{datatype}.csv\n",
      "3smpl_prfl_embedding_161_HashOrder_BASELINE_20240827_1938_ep_500_{datatype}.csv\n",
      "3smpl_prfl_embedding_161_HashOrder_SNNL_20240827_1938_BEST_{datatype}.csv\n",
      "3smpl_prfl_embedding_161_HashOrder_SNNL_20240827_1938_LAST_{datatype}.csv\n",
      "3smpl_prfl_embedding_161_HashOrder_SNNL_20240827_1938_ep_500_{datatype}.csv\n"
     ]
    }
   ],
   "source": [
    " \n",
    "BASELINE_BEST_OUTPUT_FILE  = f\"3smpl_prfl_embedding_{len(output_file_cols)}_HashOrder_BASELINE_{ex_datetime}_BEST_{{datatype}}.csv\"\n",
    "BASELINE_LAST_OUTPUT_FILE  = f\"3smpl_prfl_embedding_{len(output_file_cols)}_HashOrder_BASELINE_{ex_datetime}_LAST_{{datatype}}.csv\"\n",
    "BASELINE_OTHER_OUTPUT_FILE = f\"3smpl_prfl_embedding_{len(output_file_cols)}_HashOrder_BASELINE_{ex_datetime}_{epoch}_{{datatype}}.csv\"\n",
    "\n",
    "SNNL_BEST_OUTPUT_FILE  = f\"3smpl_prfl_embedding_{len(output_file_cols)}_HashOrder_SNNL_{ex_datetime}_BEST_{{datatype}}.csv\"\n",
    "SNNL_LAST_OUTPUT_FILE  = f\"3smpl_prfl_embedding_{len(output_file_cols)}_HashOrder_SNNL_{ex_datetime}_LAST_{{datatype}}.csv\"\n",
    "SNNL_OTHER_OUTPUT_FILE = f\"3smpl_prfl_embedding_{len(output_file_cols)}_HashOrder_SNNL_{ex_datetime}_{epoch}_{{datatype}}.csv\"\n",
    "\n",
    "print(BASELINE_BEST_OUTPUT_FILE)\n",
    "print(BASELINE_LAST_OUTPUT_FILE)\n",
    "print(BASELINE_OTHER_OUTPUT_FILE)\n",
    "print(SNNL_BEST_OUTPUT_FILE)\n",
    "print(SNNL_LAST_OUTPUT_FILE)\n",
    "print(SNNL_OTHER_OUTPUT_FILE)"
   ]
  },
  {
   "cell_type": "code",
   "execution_count": 37,
   "id": "178c0789-31f3-4571-9483-0b075c3c184d",
   "metadata": {
    "execution": {
     "iopub.execute_input": "2024-08-28T15:53:59.372174Z",
     "iopub.status.busy": "2024-08-28T15:53:59.371659Z",
     "iopub.status.idle": "2024-08-28T15:53:59.424841Z",
     "shell.execute_reply": "2024-08-28T15:53:59.424012Z",
     "shell.execute_reply.started": "2024-08-28T15:53:59.372137Z"
    }
   },
   "outputs": [
    {
     "name": "stdout",
     "output_type": "stream",
     "text": [
      "/home/kevin/WSL-shared/cellpainting/cj-datasets/output_11102023/3_sample_embeddings/3smpl_prfl_embedding_161_HashOrder_BASELINE_20240827_1938_BEST_train.csv\n",
      "/home/kevin/WSL-shared/cellpainting/cj-datasets/output_11102023/3_sample_embeddings/3smpl_prfl_embedding_161_HashOrder_BASELINE_20240827_1938_BEST_test.csv\n"
     ]
    }
   ],
   "source": [
    "OUTPUT_FILE = BASELINE_BEST_OUTPUT_FILE\n",
    "# OUTPUT_FILE = SNNL_LAST_OUTPUT_FILE\n",
    "# OUTPUT_FILE = SNNL_BEST_OUTPUT_FILE\n",
    "# OUTPUT_FILE = SNNL_OTHER_OUTPUT_FILE\n",
    "\n",
    "for datatype in ['train', 'test']:\n",
    "    print(os.path.join(OUTPUT_PATH, OUTPUT_FILE.format(datatype=datatype)))\n"
   ]
  },
  {
   "cell_type": "code",
   "execution_count": 38,
   "id": "8b58d706-4c87-4aa5-84b9-19141d4fe3fc",
   "metadata": {
    "execution": {
     "iopub.execute_input": "2024-08-28T15:54:10.120076Z",
     "iopub.status.busy": "2024-08-28T15:54:10.119600Z",
     "iopub.status.idle": "2024-08-28T15:54:10.192019Z",
     "shell.execute_reply": "2024-08-28T15:54:10.190798Z",
     "shell.execute_reply.started": "2024-08-28T15:54:10.120040Z"
    },
    "scrolled": true
   },
   "outputs": [
    {
     "name": "stdout",
     "output_type": "stream",
     "text": [
      "AE_base_scpb200_150Ltnt_512_20240827_1938_BEST.pt\n"
     ]
    }
   ],
   "source": [
    "filename = filelist[0]\n",
    "# filename = 'AE_snnl_dcpb200_150Ltnt_512_20240709_2235_ep_500.pt'\n",
    "print(filename)"
   ]
  },
  {
   "cell_type": "code",
   "execution_count": 39,
   "id": "fc303497-4c55-4d39-9ada-bff3cb5fe476",
   "metadata": {
    "execution": {
     "iopub.execute_input": "2024-08-28T15:54:17.928674Z",
     "iopub.status.busy": "2024-08-28T15:54:17.928299Z",
     "iopub.status.idle": "2024-08-28T15:54:18.058843Z",
     "shell.execute_reply": "2024-08-28T15:54:18.057730Z",
     "shell.execute_reply.started": "2024-08-28T15:54:17.928649Z"
    },
    "scrolled": true
   },
   "outputs": [
    {
     "name": "stderr",
     "output_type": "stream",
     "text": [
      "2024-08-28 17:54:17,972 - root - INFO: -  Load model checkpoint from  AE_base_scpb200_150Ltnt_512_20240827_1938_BEST.pt\n",
      "2024-08-28 17:54:18,048 - snnl.utils.utils_ptsnnl - INFO: -  Loaded from checkpoint AE_base_scpb200_150Ltnt_512_20240827_1938_BEST.pt successfully. last epoch on checkpoint: 302\n",
      "2024-08-28 17:54:18,049 - snnl.utils.utils_ptsnnl - INFO: -  Model best training metric   : 0.470116 - epoch: 5\n",
      "2024-08-28 17:54:18,050 - snnl.utils.utils_ptsnnl - INFO: -  Model best validation metric : 0.470615 - epoch: 302\n",
      "2024-08-28 17:54:18,053 - snnl.utils.utils_ptsnnl - INFO: -  Loaded model device     : cuda:1\n"
     ]
    },
    {
     "name": "stdout",
     "output_type": "stream",
     "text": [
      "model loaded - last epoch is 302\n"
     ]
    }
   ],
   "source": [
    "model, last_epoch = utils.load_model_from_ckpt(model, args, filename = filename, cuda_device = model.device, verbose = False)\n",
    "if model is None:\n",
    "    print(f\"model is none\")\n",
    "else:\n",
    "    print(f\"model loaded - last epoch is {last_epoch}\")"
   ]
  },
  {
   "cell_type": "markdown",
   "id": "0716ef50-5581-4b06-9860-e70a57a7853d",
   "metadata": {},
   "source": [
    "# Get latent representations of Training and Test data"
   ]
  },
  {
   "cell_type": "code",
   "execution_count": 40,
   "id": "4b4d403a-7a6d-421f-90b9-1ef3635892b0",
   "metadata": {
    "execution": {
     "iopub.execute_input": "2024-08-28T15:55:18.150603Z",
     "iopub.status.busy": "2024-08-28T15:55:18.150037Z",
     "iopub.status.idle": "2024-08-28T16:05:48.771955Z",
     "shell.execute_reply": "2024-08-28T16:05:48.770566Z",
     "shell.execute_reply.started": "2024-08-28T15:55:18.150550Z"
    },
    "scrolled": true
   },
   "outputs": [
    {
     "name": "stdout",
     "output_type": "stream",
     "text": [
      "****************  train - get latent representation ***************\n",
      " embedding layer: 4 - model.layer: in: 512 out: 150\n",
      "(600, 161) (600, 161)\n",
      "(600, 161) (1200, 161)\n",
      "(600, 161) (1800, 161)\n",
      "(600, 161) (2400, 161)\n",
      "(600, 161) (3000, 161)\n",
      "(600, 161) (3600, 161)\n",
      "(600, 161) (4200, 161)\n",
      "(600, 161) (4800, 161)\n",
      "(600, 161) (5400, 161)\n",
      "(600, 161) (6000, 161)\n",
      "(600, 161) (6600, 161)\n",
      "(600, 161) (7200, 161)\n",
      "(600, 161) (7800, 161)\n",
      "(600, 161) (8400, 161)\n",
      "(600, 161) (9000, 161)\n",
      "(600, 161) (9600, 161)\n",
      "(600, 161) (10200, 161)\n",
      "(600, 161) (10800, 161)\n",
      "(600, 161) (11400, 161)\n",
      "(600, 161) (12000, 161)\n",
      "(600, 161) (12600, 161)\n",
      "(600, 161) (13200, 161)\n",
      "(600, 161) (13800, 161)\n",
      "(600, 161) (14400, 161)\n",
      "(600, 161) (15000, 161)\n",
      "(600, 161) (15600, 161)\n",
      "(600, 161) (16200, 161)\n",
      "(600, 161) (16800, 161)\n",
      "(600, 161) (17400, 161)\n",
      "(600, 161) (18000, 161)\n",
      "(600, 161) (18600, 161)\n",
      "(600, 161) (19200, 161)\n",
      "(600, 161) (19800, 161)\n",
      "(600, 161) (20400, 161)\n",
      "(600, 161) (21000, 161)\n",
      "(600, 161) (21600, 161)\n",
      "(600, 161) (22200, 161)\n",
      "(600, 161) (22800, 161)\n",
      "(600, 161) (23400, 161)\n",
      "(600, 161) (24000, 161)\n",
      "(600, 161) (24600, 161)\n",
      "(600, 161) (25200, 161)\n",
      "(600, 161) (25800, 161)\n",
      "(600, 161) (26400, 161)\n",
      "(600, 161) (27000, 161)\n",
      "(600, 161) (27600, 161)\n",
      "(600, 161) (28200, 161)\n",
      "(600, 161) (28800, 161)\n",
      "(600, 161) (29400, 161)\n",
      "(600, 161) (30000, 161)\n",
      "(600, 161) (30600, 161)\n",
      "(600, 161) (31200, 161)\n",
      "(600, 161) (31800, 161)\n",
      "(600, 161) (32400, 161)\n",
      "(600, 161) (33000, 161)\n",
      "(600, 161) (33600, 161)\n",
      "(600, 161) (34200, 161)\n",
      "(600, 161) (34800, 161)\n",
      "(600, 161) (35400, 161)\n",
      "(600, 161) (36000, 161)\n",
      "(600, 161) (36600, 161)\n",
      "(600, 161) (37200, 161)\n",
      "(600, 161) (37800, 161)\n",
      "(600, 161) (38400, 161)\n",
      "(600, 161) (39000, 161)\n",
      "(600, 161) (39600, 161)\n",
      "(600, 161) (40200, 161)\n",
      "(600, 161) (40800, 161)\n",
      "(600, 161) (41400, 161)\n",
      "(600, 161) (42000, 161)\n",
      "(600, 161) (42600, 161)\n",
      "(600, 161) (43200, 161)\n",
      "(600, 161) (43800, 161)\n",
      "(600, 161) (44400, 161)\n",
      "(600, 161) (45000, 161)\n",
      "(600, 161) (45600, 161)\n",
      "(600, 161) (46200, 161)\n",
      "(600, 161) (46800, 161)\n",
      "(600, 161) (47400, 161)\n",
      "(600, 161) (48000, 161)\n",
      "(600, 161) (48600, 161)\n",
      "(600, 161) (49200, 161)\n",
      "(600, 161) (49800, 161)\n",
      "(600, 161) (50400, 161)\n",
      "(600, 161) (51000, 161)\n",
      "(600, 161) (51600, 161)\n",
      "(600, 161) (52200, 161)\n",
      "(600, 161) (52800, 161)\n",
      "(600, 161) (53400, 161)\n",
      "(600, 161) (54000, 161)\n",
      "(600, 161) (54600, 161)\n",
      "(600, 161) (55200, 161)\n",
      "(600, 161) (55800, 161)\n",
      "(600, 161) (56400, 161)\n",
      "(600, 161) (57000, 161)\n",
      "(600, 161) (57600, 161)\n",
      "(600, 161) (58200, 161)\n",
      "(600, 161) (58800, 161)\n",
      "(600, 161) (59400, 161)\n",
      "(600, 161) (60000, 161)\n",
      "(600, 161) (60600, 161)\n",
      "(600, 161) (61200, 161)\n",
      "(600, 161) (61800, 161)\n",
      "(600, 161) (62400, 161)\n",
      "(600, 161) (63000, 161)\n",
      "(600, 161) (63600, 161)\n",
      "(600, 161) (64200, 161)\n",
      "(600, 161) (64800, 161)\n",
      "(600, 161) (65400, 161)\n",
      "(600, 161) (66000, 161)\n",
      "(600, 161) (66600, 161)\n",
      "(600, 161) (67200, 161)\n",
      "(600, 161) (67800, 161)\n",
      "(600, 161) (68400, 161)\n",
      "(600, 161) (69000, 161)\n",
      "(600, 161) (69600, 161)\n",
      "(600, 161) (70200, 161)\n",
      "(600, 161) (70800, 161)\n",
      "(600, 161) (71400, 161)\n",
      "(600, 161) (72000, 161)\n",
      "(600, 161) (72600, 161)\n",
      "(600, 161) (73200, 161)\n",
      "(600, 161) (73800, 161)\n",
      "(600, 161) (74400, 161)\n",
      "(600, 161) (75000, 161)\n",
      "(600, 161) (75600, 161)\n",
      "(600, 161) (76200, 161)\n",
      "(600, 161) (76800, 161)\n",
      "(600, 161) (77400, 161)\n",
      "(600, 161) (78000, 161)\n",
      "(600, 161) (78600, 161)\n",
      "(600, 161) (79200, 161)\n",
      "(600, 161) (79800, 161)\n",
      "(600, 161) (80400, 161)\n",
      "(600, 161) (81000, 161)\n",
      "(600, 161) (81600, 161)\n",
      "(600, 161) (82200, 161)\n",
      "(600, 161) (82800, 161)\n",
      "(600, 161) (83400, 161)\n",
      "(600, 161) (84000, 161)\n",
      "(600, 161) (84600, 161)\n",
      "(600, 161) (85200, 161)\n",
      "(600, 161) (85800, 161)\n",
      "(600, 161) (86400, 161)\n",
      "(600, 161) (87000, 161)\n",
      "(600, 161) (87600, 161)\n",
      "(600, 161) (88200, 161)\n",
      "(600, 161) (88800, 161)\n",
      "(600, 161) (89400, 161)\n",
      "(600, 161) (90000, 161)\n",
      "(600, 161) (90600, 161)\n",
      "(600, 161) (91200, 161)\n",
      "(600, 161) (91800, 161)\n",
      "(600, 161) (92400, 161)\n",
      "(600, 161) (93000, 161)\n",
      "(600, 161) (93600, 161)\n",
      "(600, 161) (94200, 161)\n",
      "(600, 161) (94800, 161)\n",
      "(600, 161) (95400, 161)\n",
      "(600, 161) (96000, 161)\n",
      "(600, 161) (96600, 161)\n",
      "(600, 161) (97200, 161)\n",
      "(600, 161) (97800, 161)\n",
      "(600, 161) (98400, 161)\n",
      "(600, 161) (99000, 161)\n",
      "(600, 161) (99600, 161)\n",
      "(600, 161) (100200, 161)\n",
      "(600, 161) (100800, 161)\n",
      "(600, 161) (101400, 161)\n",
      "(600, 161) (102000, 161)\n",
      "(600, 161) (102600, 161)\n",
      "(600, 161) (103200, 161)\n",
      "(600, 161) (103800, 161)\n",
      "(600, 161) (104400, 161)\n",
      "(600, 161) (105000, 161)\n",
      "(600, 161) (105600, 161)\n",
      "(600, 161) (106200, 161)\n",
      "(600, 161) (106800, 161)\n",
      "(600, 161) (107400, 161)\n",
      "(600, 161) (108000, 161)\n",
      "(600, 161) (108600, 161)\n",
      "(600, 161) (109200, 161)\n",
      "(600, 161) (109800, 161)\n",
      "(600, 161) (110400, 161)\n",
      "(600, 161) (111000, 161)\n",
      "(600, 161) (111600, 161)\n",
      "(600, 161) (112200, 161)\n",
      "(600, 161) (112800, 161)\n",
      "(600, 161) (113400, 161)\n",
      "(600, 161) (114000, 161)\n",
      "(600, 161) (114600, 161)\n",
      "(600, 161) (115200, 161)\n",
      "(600, 161) (115800, 161)\n",
      "(600, 161) (116400, 161)\n",
      "(600, 161) (117000, 161)\n",
      "(600, 161) (117600, 161)\n",
      "(600, 161) (118200, 161)\n",
      "(600, 161) (118800, 161)\n",
      "(600, 161) (119400, 161)\n",
      "(600, 161) (120000, 161)\n",
      "(600, 161) (120600, 161)\n",
      "(600, 161) (121200, 161)\n",
      "(600, 161) (121800, 161)\n",
      "(600, 161) (122400, 161)\n",
      "(600, 161) (123000, 161)\n",
      "(600, 161) (123600, 161)\n",
      "(600, 161) (124200, 161)\n",
      "(600, 161) (124800, 161)\n",
      "(600, 161) (125400, 161)\n",
      "(600, 161) (126000, 161)\n",
      "(600, 161) (126600, 161)\n",
      "(600, 161) (127200, 161)\n",
      "(600, 161) (127800, 161)\n",
      "(600, 161) (128400, 161)\n",
      "(600, 161) (129000, 161)\n",
      "(600, 161) (129600, 161)\n",
      "(600, 161) (130200, 161)\n",
      "(600, 161) (130800, 161)\n",
      "(600, 161) (131400, 161)\n",
      "(600, 161) (132000, 161)\n",
      "(600, 161) (132600, 161)\n",
      "(600, 161) (133200, 161)\n",
      "(600, 161) (133800, 161)\n",
      "(600, 161) (134400, 161)\n",
      "(600, 161) (135000, 161)\n",
      "(600, 161) (135600, 161)\n",
      "(600, 161) (136200, 161)\n",
      "(600, 161) (136800, 161)\n",
      "(600, 161) (137400, 161)\n",
      "(600, 161) (138000, 161)\n",
      "(600, 161) (138600, 161)\n",
      "(600, 161) (139200, 161)\n",
      "(600, 161) (139800, 161)\n",
      "(600, 161) (140400, 161)\n",
      "(600, 161) (141000, 161)\n",
      "(600, 161) (141600, 161)\n",
      "(600, 161) (142200, 161)\n",
      "(600, 161) (142800, 161)\n",
      "(600, 161) (143400, 161)\n",
      "(600, 161) (144000, 161)\n",
      "(600, 161) (144600, 161)\n",
      "(600, 161) (145200, 161)\n",
      "(600, 161) (145800, 161)\n",
      "(600, 161) (146400, 161)\n",
      "(600, 161) (147000, 161)\n",
      "(600, 161) (147600, 161)\n",
      "(600, 161) (148200, 161)\n",
      "(600, 161) (148800, 161)\n",
      "(600, 161) (149400, 161)\n",
      "(600, 161) (150000, 161)\n",
      "(600, 161) (150600, 161)\n",
      "(600, 161) (151200, 161)\n",
      "(600, 161) (151800, 161)\n",
      "(600, 161) (152400, 161)\n",
      "(600, 161) (153000, 161)\n",
      "(600, 161) (153600, 161)\n",
      "(600, 161) (154200, 161)\n",
      "(600, 161) (154800, 161)\n",
      "(600, 161) (155400, 161)\n",
      "(600, 161) (156000, 161)\n",
      "(600, 161) (156600, 161)\n",
      "(600, 161) (157200, 161)\n",
      "(600, 161) (157800, 161)\n",
      "(600, 161) (158400, 161)\n",
      "(600, 161) (159000, 161)\n",
      "(600, 161) (159600, 161)\n",
      "(600, 161) (160200, 161)\n",
      "(600, 161) (160800, 161)\n",
      "(600, 161) (161400, 161)\n",
      "(600, 161) (162000, 161)\n",
      "(600, 161) (162600, 161)\n",
      "(600, 161) (163200, 161)\n",
      "(600, 161) (163800, 161)\n",
      "(600, 161) (164400, 161)\n",
      "(600, 161) (165000, 161)\n",
      "(600, 161) (165600, 161)\n",
      "(600, 161) (166200, 161)\n",
      "(600, 161) (166800, 161)\n",
      "(600, 161) (167400, 161)\n",
      "(600, 161) (168000, 161)\n",
      "(600, 161) (168600, 161)\n",
      "(600, 161) (169200, 161)\n",
      "(600, 161) (169800, 161)\n",
      "(600, 161) (170400, 161)\n",
      "(600, 161) (171000, 161)\n",
      "(600, 161) (171600, 161)\n",
      "(600, 161) (172200, 161)\n",
      "(600, 161) (172800, 161)\n",
      "(600, 161) (173400, 161)\n",
      "(600, 161) (174000, 161)\n",
      "(600, 161) (174600, 161)\n",
      "(600, 161) (175200, 161)\n",
      "(600, 161) (175800, 161)\n",
      "(600, 161) (176400, 161)\n",
      "(600, 161) (177000, 161)\n",
      "(600, 161) (177600, 161)\n",
      "(600, 161) (178200, 161)\n",
      "(600, 161) (178800, 161)\n",
      "(600, 161) (179400, 161)\n",
      "(600, 161) (180000, 161)\n",
      "(600, 161) (180600, 161)\n",
      "(600, 161) (181200, 161)\n",
      "(600, 161) (181800, 161)\n",
      "(600, 161) (182400, 161)\n",
      "(600, 161) (183000, 161)\n",
      "(600, 161) (183600, 161)\n",
      "(600, 161) (184200, 161)\n",
      "(600, 161) (184800, 161)\n",
      "(600, 161) (185400, 161)\n",
      "(600, 161) (186000, 161)\n",
      "(600, 161) (186600, 161)\n",
      "(600, 161) (187200, 161)\n",
      "(600, 161) (187800, 161)\n",
      "(600, 161) (188400, 161)\n",
      "(600, 161) (189000, 161)\n",
      "(600, 161) (189600, 161)\n",
      "(600, 161) (190200, 161)\n",
      "(600, 161) (190800, 161)\n",
      "(600, 161) (191400, 161)\n",
      "(600, 161) (192000, 161)\n",
      "(600, 161) (192600, 161)\n",
      "(600, 161) (193200, 161)\n",
      "(600, 161) (193800, 161)\n",
      "(600, 161) (194400, 161)\n",
      "(600, 161) (195000, 161)\n",
      "(600, 161) (195600, 161)\n",
      "(600, 161) (196200, 161)\n",
      "(600, 161) (196800, 161)\n",
      "(600, 161) (197400, 161)\n",
      "(600, 161) (198000, 161)\n",
      "(600, 161) (198600, 161)\n",
      "(600, 161) (199200, 161)\n",
      "(600, 161) (199800, 161)\n",
      "(600, 161) (200400, 161)\n",
      "(600, 161) (201000, 161)\n",
      "(600, 161) (201600, 161)\n",
      "(600, 161) (202200, 161)\n",
      "(600, 161) (202800, 161)\n",
      "(600, 161) (203400, 161)\n",
      "(600, 161) (204000, 161)\n",
      "(600, 161) (204600, 161)\n",
      "(600, 161) (205200, 161)\n",
      "(600, 161) (205800, 161)\n",
      "(600, 161) (206400, 161)\n",
      "(600, 161) (207000, 161)\n",
      "(600, 161) (207600, 161)\n",
      "(600, 161) (208200, 161)\n",
      "(600, 161) (208800, 161)\n",
      "(600, 161) (209400, 161)\n",
      "(600, 161) (210000, 161)\n",
      "(600, 161) (210600, 161)\n",
      "(600, 161) (211200, 161)\n",
      "(600, 161) (211800, 161)\n",
      "(600, 161) (212400, 161)\n",
      "(600, 161) (213000, 161)\n",
      "(600, 161) (213600, 161)\n",
      "(600, 161) (214200, 161)\n",
      "(600, 161) (214800, 161)\n",
      "(600, 161) (215400, 161)\n",
      "(600, 161) (216000, 161)\n",
      "(600, 161) (216600, 161)\n",
      "(600, 161) (217200, 161)\n",
      "(600, 161) (217800, 161)\n",
      "(600, 161) (218400, 161)\n",
      "(600, 161) (219000, 161)\n",
      "(600, 161) (219600, 161)\n",
      "(600, 161) (220200, 161)\n",
      "(600, 161) (220800, 161)\n",
      "(600, 161) (221400, 161)\n",
      "(600, 161) (222000, 161)\n",
      "(600, 161) (222600, 161)\n",
      "(600, 161) (223200, 161)\n",
      "(600, 161) (223800, 161)\n",
      "(600, 161) (224400, 161)\n",
      "(600, 161) (225000, 161)\n",
      "(600, 161) (225600, 161)\n",
      "(600, 161) (226200, 161)\n",
      "(600, 161) (226800, 161)\n",
      "(600, 161) (227400, 161)\n",
      "(600, 161) (228000, 161)\n",
      "(600, 161) (228600, 161)\n",
      "(600, 161) (229200, 161)\n",
      "(600, 161) (229800, 161)\n",
      "(600, 161) (230400, 161)\n",
      "(600, 161) (231000, 161)\n",
      "(600, 161) (231600, 161)\n",
      "(600, 161) (232200, 161)\n",
      "(600, 161) (232800, 161)\n",
      "(600, 161) (233400, 161)\n",
      "(600, 161) (234000, 161)\n",
      "(600, 161) (234600, 161)\n",
      "(600, 161) (235200, 161)\n",
      "(600, 161) (235800, 161)\n",
      "(600, 161) (236400, 161)\n",
      "(600, 161) (237000, 161)\n",
      "(600, 161) (237600, 161)\n",
      "(600, 161) (238200, 161)\n",
      "(600, 161) (238800, 161)\n",
      "(600, 161) (239400, 161)\n",
      "(600, 161) (240000, 161)\n",
      "(600, 161) (240600, 161)\n",
      "(600, 161) (241200, 161)\n",
      "(600, 161) (241800, 161)\n",
      "(600, 161) (242400, 161)\n",
      "(600, 161) (243000, 161)\n",
      "(600, 161) (243600, 161)\n",
      "(600, 161) (244200, 161)\n",
      "(600, 161) (244800, 161)\n",
      "(600, 161) (245400, 161)\n",
      "(600, 161) (246000, 161)\n",
      "(600, 161) (246600, 161)\n",
      "(600, 161) (247200, 161)\n",
      "(600, 161) (247800, 161)\n",
      "(600, 161) (248400, 161)\n",
      "(600, 161) (249000, 161)\n",
      "(600, 161) (249600, 161)\n",
      "(600, 161) (250200, 161)\n",
      "(600, 161) (250800, 161)\n",
      "(600, 161) (251400, 161)\n",
      "(600, 161) (252000, 161)\n",
      "(600, 161) (252600, 161)\n",
      "(600, 161) (253200, 161)\n",
      "(600, 161) (253800, 161)\n",
      "(600, 161) (254400, 161)\n",
      "(600, 161) (255000, 161)\n",
      "(600, 161) (255600, 161)\n",
      "(600, 161) (256200, 161)\n",
      "(600, 161) (256800, 161)\n",
      "(600, 161) (257400, 161)\n",
      "(600, 161) (258000, 161)\n",
      "(600, 161) (258600, 161)\n",
      "(600, 161) (259200, 161)\n",
      "(600, 161) (259800, 161)\n",
      "(600, 161) (260400, 161)\n",
      "(600, 161) (261000, 161)\n",
      "(600, 161) (261600, 161)\n",
      "(600, 161) (262200, 161)\n",
      "(600, 161) (262800, 161)\n",
      "(600, 161) (263400, 161)\n",
      "(600, 161) (264000, 161)\n",
      "(600, 161) (264600, 161)\n",
      "(600, 161) (265200, 161)\n",
      "(600, 161) (265800, 161)\n",
      "(600, 161) (266400, 161)\n",
      "(600, 161) (267000, 161)\n",
      "(600, 161) (267600, 161)\n",
      "(600, 161) (268200, 161)\n",
      "(600, 161) (268800, 161)\n",
      "(600, 161) (269400, 161)\n",
      "(600, 161) (270000, 161)\n",
      "(600, 161) (270600, 161)\n",
      "(600, 161) (271200, 161)\n",
      "(600, 161) (271800, 161)\n",
      "(600, 161) (272400, 161)\n",
      "(600, 161) (273000, 161)\n",
      "(600, 161) (273600, 161)\n",
      "(600, 161) (274200, 161)\n",
      "(600, 161) (274800, 161)\n",
      "(600, 161) (275400, 161)\n",
      "(600, 161) (276000, 161)\n",
      "(600, 161) (276600, 161)\n",
      "(600, 161) (277200, 161)\n",
      "(600, 161) (277800, 161)\n",
      "(600, 161) (278400, 161)\n",
      "(600, 161) (279000, 161)\n",
      "(600, 161) (279600, 161)\n",
      "(600, 161) (280200, 161)\n",
      "(600, 161) (280800, 161)\n",
      "(600, 161) (281400, 161)\n",
      "(600, 161) (282000, 161)\n",
      "(600, 161) (282600, 161)\n",
      "(600, 161) (283200, 161)\n",
      "(600, 161) (283800, 161)\n",
      "(600, 161) (284400, 161)\n",
      "(600, 161) (285000, 161)\n",
      "(600, 161) (285600, 161)\n",
      "(600, 161) (286200, 161)\n",
      "(600, 161) (286800, 161)\n",
      "(600, 161) (287400, 161)\n",
      "(600, 161) (288000, 161)\n",
      "(600, 161) (288600, 161)\n",
      "(600, 161) (289200, 161)\n",
      "(600, 161) (289800, 161)\n",
      "(600, 161) (290400, 161)\n",
      "(600, 161) (291000, 161)\n",
      "(600, 161) (291600, 161)\n",
      "(600, 161) (292200, 161)\n",
      "(600, 161) (292800, 161)\n",
      "(600, 161) (293400, 161)\n",
      "(600, 161) (294000, 161)\n",
      "(600, 161) (294600, 161)\n",
      "(600, 161) (295200, 161)\n",
      "(600, 161) (295800, 161)\n",
      "(600, 161) (296400, 161)\n",
      "(600, 161) (297000, 161)\n",
      "(600, 161) (297600, 161)\n",
      "(600, 161) (298200, 161)\n",
      "(600, 161) (298800, 161)\n",
      "(600, 161) (299400, 161)\n",
      "(600, 161) (300000, 161)\n",
      "(600, 161) (300600, 161)\n",
      "(600, 161) (301200, 161)\n",
      "(600, 161) (301800, 161)\n",
      "(600, 161) (302400, 161)\n",
      "(600, 161) (303000, 161)\n",
      "(600, 161) (303600, 161)\n",
      "(600, 161) (304200, 161)\n",
      "(600, 161) (304800, 161)\n",
      "(600, 161) (305400, 161)\n",
      "(600, 161) (306000, 161)\n",
      "(600, 161) (306600, 161)\n",
      "(600, 161) (307200, 161)\n",
      "(600, 161) (307800, 161)\n",
      "(600, 161) (308400, 161)\n",
      "(600, 161) (309000, 161)\n",
      "(600, 161) (309600, 161)\n",
      "(600, 161) (310200, 161)\n",
      "(600, 161) (310800, 161)\n",
      "(600, 161) (311400, 161)\n",
      "(600, 161) (312000, 161)\n",
      "****************  train - convert to dataframe  ***************\n",
      "****************  train - write to csv file : 3smpl_prfl_embedding_161_HashOrder_BASELINE_20240827_1938_BEST_train.csv ***************\n",
      "****************  test - get latent representation ***************\n",
      " embedding layer: 4 - model.layer: in: 512 out: 150\n",
      "(600, 161) (600, 161)\n",
      "(600, 161) (1200, 161)\n",
      "(600, 161) (1800, 161)\n",
      "(600, 161) (2400, 161)\n",
      "(600, 161) (3000, 161)\n",
      "(600, 161) (3600, 161)\n",
      "(600, 161) (4200, 161)\n",
      "(600, 161) (4800, 161)\n",
      "(600, 161) (5400, 161)\n",
      "(600, 161) (6000, 161)\n",
      "(600, 161) (6600, 161)\n",
      "(600, 161) (7200, 161)\n",
      "(600, 161) (7800, 161)\n",
      "(600, 161) (8400, 161)\n",
      "(600, 161) (9000, 161)\n",
      "(600, 161) (9600, 161)\n",
      "(600, 161) (10200, 161)\n",
      "(600, 161) (10800, 161)\n",
      "(600, 161) (11400, 161)\n",
      "(600, 161) (12000, 161)\n",
      "(600, 161) (12600, 161)\n",
      "(600, 161) (13200, 161)\n",
      "(600, 161) (13800, 161)\n",
      "(600, 161) (14400, 161)\n",
      "(600, 161) (15000, 161)\n",
      "(600, 161) (15600, 161)\n",
      "(600, 161) (16200, 161)\n",
      "(600, 161) (16800, 161)\n",
      "(600, 161) (17400, 161)\n",
      "(600, 161) (18000, 161)\n",
      "(600, 161) (18600, 161)\n",
      "(600, 161) (19200, 161)\n",
      "(600, 161) (19800, 161)\n",
      "(600, 161) (20400, 161)\n",
      "(600, 161) (21000, 161)\n",
      "(600, 161) (21600, 161)\n",
      "(600, 161) (22200, 161)\n",
      "(600, 161) (22800, 161)\n",
      "(600, 161) (23400, 161)\n",
      "(600, 161) (24000, 161)\n",
      "(600, 161) (24600, 161)\n",
      "(600, 161) (25200, 161)\n",
      "(600, 161) (25800, 161)\n",
      "(600, 161) (26400, 161)\n",
      "(600, 161) (27000, 161)\n",
      "(600, 161) (27600, 161)\n",
      "(600, 161) (28200, 161)\n",
      "(600, 161) (28800, 161)\n",
      "(600, 161) (29400, 161)\n",
      "(600, 161) (30000, 161)\n",
      "(600, 161) (30600, 161)\n",
      "(600, 161) (31200, 161)\n",
      "(600, 161) (31800, 161)\n",
      "(600, 161) (32400, 161)\n",
      "(600, 161) (33000, 161)\n",
      "(600, 161) (33600, 161)\n",
      "(600, 161) (34200, 161)\n",
      "(342, 161) (34542, 161)\n",
      "****************  test - convert to dataframe  ***************\n",
      "****************  test - write to csv file : 3smpl_prfl_embedding_161_HashOrder_BASELINE_20240827_1938_BEST_test.csv ***************\n"
     ]
    }
   ],
   "source": [
    "\n",
    "for datatype in ['train', 'test']:\n",
    "    print(f\"****************  {datatype} - get latent representation ***************\")\n",
    "    write_header = True\n",
    "    mdl_outputs = utils.get_latent_representation(model, data_loader[datatype], embedding_layer = 4, verbose = False)\n",
    "\n",
    "    print(f\"****************  {datatype} - convert to dataframe  ***************\")\n",
    "    df_output = pd.DataFrame.from_records(mdl_outputs, columns = output_file_cols)\n",
    "\n",
    "    print(f\"****************  {datatype} - write to csv file : {OUTPUT_FILE.format(datatype=datatype)} ***************\")\n",
    "    df_output.to_csv(os.path.join(OUTPUT_PATH, OUTPUT_FILE.format(datatype=datatype)), mode = 'a', index = False, header = write_header)\n",
    "    write_header = False\n"
   ]
  },
  {
   "cell_type": "markdown",
   "id": "e0df219c-9310-4688-9063-c95521b2a12b",
   "metadata": {},
   "source": [
    "# Read Embedded Features CSV file"
   ]
  },
  {
   "cell_type": "code",
   "execution_count": 41,
   "id": "d71630ca-5703-495e-9635-3f2fbb05e737",
   "metadata": {
    "execution": {
     "iopub.execute_input": "2024-08-28T16:14:04.665550Z",
     "iopub.status.busy": "2024-08-28T16:14:04.664931Z",
     "iopub.status.idle": "2024-08-28T16:14:04.979583Z",
     "shell.execute_reply": "2024-08-28T16:14:04.978687Z",
     "shell.execute_reply.started": "2024-08-28T16:14:04.665494Z"
    }
   },
   "outputs": [
    {
     "data": {
      "text/plain": [
       "'/home/kevin/WSL-shared/cellpainting/cj-datasets/output_11102023/3_sample_embeddings/3smpl_prfl_embedding_161_HashOrder_BASELINE_20240827_1938_BEST_test.csv'"
      ]
     },
     "execution_count": 41,
     "metadata": {},
     "output_type": "execute_result"
    }
   ],
   "source": [
    "INPUT_FILE = os.path.join(OUTPUT_PATH, OUTPUT_FILE.format(datatype='test'))\n",
    "INPUT_FILE"
   ]
  },
  {
   "cell_type": "code",
   "execution_count": 46,
   "id": "02343b54-7a92-4c3d-9a4a-414560e20708",
   "metadata": {
    "execution": {
     "iopub.execute_input": "2024-08-28T16:15:35.197003Z",
     "iopub.status.busy": "2024-08-28T16:15:35.196515Z",
     "iopub.status.idle": "2024-08-28T16:15:35.965373Z",
     "shell.execute_reply": "2024-08-28T16:15:35.964608Z",
     "shell.execute_reply.started": "2024-08-28T16:15:35.196960Z"
    }
   },
   "outputs": [],
   "source": [
    "metadata_cols = ['Metadata_Source', 'Metadata_Batch', 'Metadata_Plate', 'Metadata_Well', 'Metadata_JCP2022','Metadata_Hash','Metadata_Bin', 'Metadata_TPSA', 'Metadata_lnTPSA', 'Metadata_log10TPSA', 'Metadata_Permiation']\n",
    "# df_input = pd.read_csv(INPUT_FILE,usecols=['Metadata_Source'])\n",
    "df_input = pd.read_csv(INPUT_FILE,usecols=metadata_cols)\n",
    "# df_input = pd.read_csv(INPUT_FILE,num)"
   ]
  },
  {
   "cell_type": "code",
   "execution_count": 47,
   "id": "a25e923d-faa8-445d-958b-3168c3543f2f",
   "metadata": {
    "execution": {
     "iopub.execute_input": "2024-08-28T16:15:37.229042Z",
     "iopub.status.busy": "2024-08-28T16:15:37.228632Z",
     "iopub.status.idle": "2024-08-28T16:15:37.292361Z",
     "shell.execute_reply": "2024-08-28T16:15:37.291758Z",
     "shell.execute_reply.started": "2024-08-28T16:15:37.229009Z"
    }
   },
   "outputs": [
    {
     "name": "stdout",
     "output_type": "stream",
     "text": [
      "<class 'pandas.core.frame.DataFrame'>\n",
      "RangeIndex: 34542 entries, 0 to 34541\n",
      "Data columns (total 11 columns):\n",
      " #   Column               Non-Null Count  Dtype  \n",
      "---  ------               --------------  -----  \n",
      " 0   Metadata_Source      34542 non-null  object \n",
      " 1   Metadata_Batch       34542 non-null  object \n",
      " 2   Metadata_Plate       34542 non-null  object \n",
      " 3   Metadata_Well        34542 non-null  object \n",
      " 4   Metadata_JCP2022     34542 non-null  object \n",
      " 5   Metadata_Hash        34542 non-null  int64  \n",
      " 6   Metadata_Bin         34542 non-null  int64  \n",
      " 7   Metadata_TPSA        34542 non-null  float64\n",
      " 8   Metadata_lnTPSA      34542 non-null  float64\n",
      " 9   Metadata_log10TPSA   34542 non-null  float64\n",
      " 10  Metadata_Permiation  34542 non-null  float64\n",
      "dtypes: float64(4), int64(2), object(5)\n",
      "memory usage: 2.9+ MB\n"
     ]
    },
    {
     "data": {
      "text/plain": [
       "(34542, 11)"
      ]
     },
     "execution_count": 47,
     "metadata": {},
     "output_type": "execute_result"
    }
   ],
   "source": [
    "df_input.info()\n",
    "df_input.shape"
   ]
  },
  {
   "cell_type": "code",
   "execution_count": 48,
   "id": "91ed5ded-7d21-40d5-beaa-8d594c1781be",
   "metadata": {
    "execution": {
     "iopub.execute_input": "2024-08-28T16:15:38.901450Z",
     "iopub.status.busy": "2024-08-28T16:15:38.900952Z",
     "iopub.status.idle": "2024-08-28T16:15:38.988461Z",
     "shell.execute_reply": "2024-08-28T16:15:38.987863Z",
     "shell.execute_reply.started": "2024-08-28T16:15:38.901408Z"
    }
   },
   "outputs": [
    {
     "data": {
      "text/html": [
       "<div>\n",
       "<style scoped>\n",
       "    .dataframe tbody tr th:only-of-type {\n",
       "        vertical-align: middle;\n",
       "    }\n",
       "\n",
       "    .dataframe tbody tr th {\n",
       "        vertical-align: top;\n",
       "    }\n",
       "\n",
       "    .dataframe thead th {\n",
       "        text-align: right;\n",
       "    }\n",
       "</style>\n",
       "<table border=\"1\" class=\"dataframe\">\n",
       "  <thead>\n",
       "    <tr style=\"text-align: right;\">\n",
       "      <th></th>\n",
       "      <th>Metadata_Source</th>\n",
       "      <th>Metadata_Batch</th>\n",
       "      <th>Metadata_Plate</th>\n",
       "      <th>Metadata_Well</th>\n",
       "      <th>Metadata_JCP2022</th>\n",
       "      <th>Metadata_Hash</th>\n",
       "      <th>Metadata_Bin</th>\n",
       "      <th>Metadata_TPSA</th>\n",
       "      <th>Metadata_lnTPSA</th>\n",
       "      <th>Metadata_log10TPSA</th>\n",
       "      <th>Metadata_Permiation</th>\n",
       "    </tr>\n",
       "  </thead>\n",
       "  <tbody>\n",
       "    <tr>\n",
       "      <th>0</th>\n",
       "      <td>source_11</td>\n",
       "      <td>Batch2</td>\n",
       "      <td>EC000046</td>\n",
       "      <td>K04</td>\n",
       "      <td>JCP2022_009278</td>\n",
       "      <td>7406361908543180200</td>\n",
       "      <td>8</td>\n",
       "      <td>62.78</td>\n",
       "      <td>4.139637</td>\n",
       "      <td>1.797821</td>\n",
       "      <td>0.0</td>\n",
       "    </tr>\n",
       "    <tr>\n",
       "      <th>1</th>\n",
       "      <td>source_11</td>\n",
       "      <td>Batch2</td>\n",
       "      <td>EC000063</td>\n",
       "      <td>K04</td>\n",
       "      <td>JCP2022_009278</td>\n",
       "      <td>7406361908543180200</td>\n",
       "      <td>8</td>\n",
       "      <td>62.78</td>\n",
       "      <td>4.139637</td>\n",
       "      <td>1.797821</td>\n",
       "      <td>0.0</td>\n",
       "    </tr>\n",
       "    <tr>\n",
       "      <th>2</th>\n",
       "      <td>source_9</td>\n",
       "      <td>20211013-Run14</td>\n",
       "      <td>GR00003281</td>\n",
       "      <td>J15</td>\n",
       "      <td>JCP2022_009278</td>\n",
       "      <td>7406361908543180200</td>\n",
       "      <td>8</td>\n",
       "      <td>62.78</td>\n",
       "      <td>4.139637</td>\n",
       "      <td>1.797821</td>\n",
       "      <td>0.0</td>\n",
       "    </tr>\n",
       "    <tr>\n",
       "      <th>3</th>\n",
       "      <td>source_5</td>\n",
       "      <td>JUMPCPE-20210908-Run28_20210909_072022</td>\n",
       "      <td>AETJUM107</td>\n",
       "      <td>J10</td>\n",
       "      <td>JCP2022_045457</td>\n",
       "      <td>7406621140030190348</td>\n",
       "      <td>12</td>\n",
       "      <td>33.20</td>\n",
       "      <td>3.502550</td>\n",
       "      <td>1.521138</td>\n",
       "      <td>0.0</td>\n",
       "    </tr>\n",
       "    <tr>\n",
       "      <th>4</th>\n",
       "      <td>source_11</td>\n",
       "      <td>Batch3</td>\n",
       "      <td>EC000139</td>\n",
       "      <td>G04</td>\n",
       "      <td>JCP2022_045457</td>\n",
       "      <td>7406621140030190348</td>\n",
       "      <td>12</td>\n",
       "      <td>33.20</td>\n",
       "      <td>3.502550</td>\n",
       "      <td>1.521138</td>\n",
       "      <td>0.0</td>\n",
       "    </tr>\n",
       "    <tr>\n",
       "      <th>...</th>\n",
       "      <td>...</td>\n",
       "      <td>...</td>\n",
       "      <td>...</td>\n",
       "      <td>...</td>\n",
       "      <td>...</td>\n",
       "      <td>...</td>\n",
       "      <td>...</td>\n",
       "      <td>...</td>\n",
       "      <td>...</td>\n",
       "      <td>...</td>\n",
       "      <td>...</td>\n",
       "    </tr>\n",
       "    <tr>\n",
       "      <th>34537</th>\n",
       "      <td>source_9</td>\n",
       "      <td>20211103-Run16</td>\n",
       "      <td>GR00004412</td>\n",
       "      <td>B19</td>\n",
       "      <td>JCP2022_040466</td>\n",
       "      <td>9222528730267146426</td>\n",
       "      <td>10</td>\n",
       "      <td>98.00</td>\n",
       "      <td>4.584967</td>\n",
       "      <td>1.991226</td>\n",
       "      <td>0.0</td>\n",
       "    </tr>\n",
       "    <tr>\n",
       "      <th>34538</th>\n",
       "      <td>source_9</td>\n",
       "      <td>20211103-Run16</td>\n",
       "      <td>GR00004410</td>\n",
       "      <td>R43</td>\n",
       "      <td>JCP2022_040466</td>\n",
       "      <td>9222528730267146426</td>\n",
       "      <td>10</td>\n",
       "      <td>98.00</td>\n",
       "      <td>4.584967</td>\n",
       "      <td>1.991226</td>\n",
       "      <td>0.0</td>\n",
       "    </tr>\n",
       "    <tr>\n",
       "      <th>34539</th>\n",
       "      <td>source_6</td>\n",
       "      <td>p211109CPU2OS48hw384exp035JUMP</td>\n",
       "      <td>110000296165</td>\n",
       "      <td>N13</td>\n",
       "      <td>JCP2022_102583</td>\n",
       "      <td>9223213570900537648</td>\n",
       "      <td>0</td>\n",
       "      <td>56.14</td>\n",
       "      <td>4.027849</td>\n",
       "      <td>1.749272</td>\n",
       "      <td>0.0</td>\n",
       "    </tr>\n",
       "    <tr>\n",
       "      <th>34540</th>\n",
       "      <td>source_1</td>\n",
       "      <td>Batch4_20221012</td>\n",
       "      <td>UL000093</td>\n",
       "      <td>AB26</td>\n",
       "      <td>JCP2022_102583</td>\n",
       "      <td>9223213570900537648</td>\n",
       "      <td>0</td>\n",
       "      <td>56.14</td>\n",
       "      <td>4.027849</td>\n",
       "      <td>1.749272</td>\n",
       "      <td>0.0</td>\n",
       "    </tr>\n",
       "    <tr>\n",
       "      <th>34541</th>\n",
       "      <td>source_2</td>\n",
       "      <td>20210712_Batch_5</td>\n",
       "      <td>1053597950</td>\n",
       "      <td>L04</td>\n",
       "      <td>JCP2022_102583</td>\n",
       "      <td>9223213570900537648</td>\n",
       "      <td>0</td>\n",
       "      <td>56.14</td>\n",
       "      <td>4.027849</td>\n",
       "      <td>1.749272</td>\n",
       "      <td>0.0</td>\n",
       "    </tr>\n",
       "  </tbody>\n",
       "</table>\n",
       "<p>34542 rows × 11 columns</p>\n",
       "</div>"
      ],
      "text/plain": [
       "      Metadata_Source                          Metadata_Batch Metadata_Plate Metadata_Well Metadata_JCP2022        Metadata_Hash  \\\n",
       "0           source_11                                  Batch2       EC000046           K04   JCP2022_009278  7406361908543180200   \n",
       "1           source_11                                  Batch2       EC000063           K04   JCP2022_009278  7406361908543180200   \n",
       "2            source_9                          20211013-Run14     GR00003281           J15   JCP2022_009278  7406361908543180200   \n",
       "3            source_5  JUMPCPE-20210908-Run28_20210909_072022      AETJUM107           J10   JCP2022_045457  7406621140030190348   \n",
       "4           source_11                                  Batch3       EC000139           G04   JCP2022_045457  7406621140030190348   \n",
       "...               ...                                     ...            ...           ...              ...                  ...   \n",
       "34537        source_9                          20211103-Run16     GR00004412           B19   JCP2022_040466  9222528730267146426   \n",
       "34538        source_9                          20211103-Run16     GR00004410           R43   JCP2022_040466  9222528730267146426   \n",
       "34539        source_6          p211109CPU2OS48hw384exp035JUMP   110000296165           N13   JCP2022_102583  9223213570900537648   \n",
       "34540        source_1                         Batch4_20221012       UL000093          AB26   JCP2022_102583  9223213570900537648   \n",
       "34541        source_2                        20210712_Batch_5     1053597950           L04   JCP2022_102583  9223213570900537648   \n",
       "\n",
       "       Metadata_Bin  Metadata_TPSA  Metadata_lnTPSA  Metadata_log10TPSA  Metadata_Permiation  \n",
       "0                 8          62.78         4.139637            1.797821                  0.0  \n",
       "1                 8          62.78         4.139637            1.797821                  0.0  \n",
       "2                 8          62.78         4.139637            1.797821                  0.0  \n",
       "3                12          33.20         3.502550            1.521138                  0.0  \n",
       "4                12          33.20         3.502550            1.521138                  0.0  \n",
       "...             ...            ...              ...                 ...                  ...  \n",
       "34537            10          98.00         4.584967            1.991226                  0.0  \n",
       "34538            10          98.00         4.584967            1.991226                  0.0  \n",
       "34539             0          56.14         4.027849            1.749272                  0.0  \n",
       "34540             0          56.14         4.027849            1.749272                  0.0  \n",
       "34541             0          56.14         4.027849            1.749272                  0.0  \n",
       "\n",
       "[34542 rows x 11 columns]"
      ]
     },
     "execution_count": 48,
     "metadata": {},
     "output_type": "execute_result"
    }
   ],
   "source": [
    "df_input"
   ]
  },
  {
   "cell_type": "code",
   "execution_count": 52,
   "id": "5a52ddfd-ccab-48dd-b025-2ba142ecf122",
   "metadata": {
    "execution": {
     "iopub.execute_input": "2024-08-28T16:17:14.587650Z",
     "iopub.status.busy": "2024-08-28T16:17:14.587155Z",
     "iopub.status.idle": "2024-08-28T16:17:14.645100Z",
     "shell.execute_reply": "2024-08-28T16:17:14.644297Z",
     "shell.execute_reply.started": "2024-08-28T16:17:14.587610Z"
    }
   },
   "outputs": [
    {
     "data": {
      "text/plain": [
       "array([30378,  4164])"
      ]
     },
     "execution_count": 52,
     "metadata": {},
     "output_type": "execute_result"
    }
   ],
   "source": [
    "y_label = df_input.Metadata_Permiation.astype(np.int8)\n",
    "bin_cnt = np.bincount(y_label)\n",
    "bin_cnt"
   ]
  },
  {
   "cell_type": "code",
   "execution_count": 53,
   "id": "2e426b6b-e992-435e-b4c1-a279e53d2912",
   "metadata": {
    "execution": {
     "iopub.execute_input": "2024-08-28T16:17:46.901345Z",
     "iopub.status.busy": "2024-08-28T16:17:46.900770Z",
     "iopub.status.idle": "2024-08-28T16:17:46.953101Z",
     "shell.execute_reply": "2024-08-28T16:17:46.952401Z",
     "shell.execute_reply.started": "2024-08-28T16:17:46.901298Z"
    }
   },
   "outputs": [
    {
     "data": {
      "text/plain": [
       "'/home/kevin/WSL-shared/cellpainting/cj-datasets/output_11102023/3_sample_embeddings/3smpl_prfl_embedding_161_HashOrder_BASELINE_20240827_1938_BEST_train.csv'"
      ]
     },
     "execution_count": 53,
     "metadata": {},
     "output_type": "execute_result"
    }
   ],
   "source": [
    "INPUT_FILE = os.path.join(OUTPUT_PATH, OUTPUT_FILE.format(datatype='train'))\n",
    "INPUT_FILE"
   ]
  },
  {
   "cell_type": "code",
   "execution_count": 54,
   "id": "02cb1f14-2dd2-4d6e-a685-3b2e54b22c26",
   "metadata": {
    "execution": {
     "iopub.execute_input": "2024-08-28T16:18:21.568758Z",
     "iopub.status.busy": "2024-08-28T16:18:21.568371Z",
     "iopub.status.idle": "2024-08-28T16:18:27.622700Z",
     "shell.execute_reply": "2024-08-28T16:18:27.621418Z",
     "shell.execute_reply.started": "2024-08-28T16:18:21.568731Z"
    }
   },
   "outputs": [],
   "source": [
    "metadata_cols = ['Metadata_Source', 'Metadata_Batch', 'Metadata_Plate', 'Metadata_Well', 'Metadata_JCP2022','Metadata_Hash','Metadata_Bin', 'Metadata_TPSA', 'Metadata_lnTPSA', 'Metadata_log10TPSA', 'Metadata_Permiation']\n",
    "# df_input = pd.read_csv(INPUT_FILE,usecols=['Metadata_Source'])\n",
    "df_train = pd.read_csv(INPUT_FILE,usecols=metadata_cols)"
   ]
  },
  {
   "cell_type": "code",
   "execution_count": 56,
   "id": "8d54a60c-f375-4898-b677-5a29efa2f7ae",
   "metadata": {
    "execution": {
     "iopub.execute_input": "2024-08-28T16:32:34.524338Z",
     "iopub.status.busy": "2024-08-28T16:32:34.523917Z",
     "iopub.status.idle": "2024-08-28T16:32:34.676583Z",
     "shell.execute_reply": "2024-08-28T16:32:34.675751Z",
     "shell.execute_reply.started": "2024-08-28T16:32:34.524305Z"
    }
   },
   "outputs": [
    {
     "data": {
      "text/plain": [
       "(312000, 11)"
      ]
     },
     "execution_count": 56,
     "metadata": {},
     "output_type": "execute_result"
    },
    {
     "name": "stdout",
     "output_type": "stream",
     "text": [
      "<class 'pandas.core.frame.DataFrame'>\n",
      "RangeIndex: 312000 entries, 0 to 311999\n",
      "Data columns (total 11 columns):\n",
      " #   Column               Non-Null Count   Dtype  \n",
      "---  ------               --------------   -----  \n",
      " 0   Metadata_Source      312000 non-null  object \n",
      " 1   Metadata_Batch       312000 non-null  object \n",
      " 2   Metadata_Plate       312000 non-null  object \n",
      " 3   Metadata_Well        312000 non-null  object \n",
      " 4   Metadata_JCP2022     312000 non-null  object \n",
      " 5   Metadata_Hash        312000 non-null  int64  \n",
      " 6   Metadata_Bin         312000 non-null  int64  \n",
      " 7   Metadata_TPSA        312000 non-null  float64\n",
      " 8   Metadata_lnTPSA      312000 non-null  float64\n",
      " 9   Metadata_log10TPSA   312000 non-null  float64\n",
      " 10  Metadata_Permiation  312000 non-null  float64\n",
      "dtypes: float64(4), int64(2), object(5)\n",
      "memory usage: 26.2+ MB\n"
     ]
    }
   ],
   "source": [
    "df_train.shape\n",
    "df_train.info()"
   ]
  },
  {
   "cell_type": "code",
   "execution_count": 57,
   "id": "eb3d18b2-259c-411c-94f7-a2a6b15febf0",
   "metadata": {
    "execution": {
     "iopub.execute_input": "2024-08-28T16:32:40.826993Z",
     "iopub.status.busy": "2024-08-28T16:32:40.826355Z",
     "iopub.status.idle": "2024-08-28T16:32:40.910009Z",
     "shell.execute_reply": "2024-08-28T16:32:40.909267Z",
     "shell.execute_reply.started": "2024-08-28T16:32:40.826903Z"
    }
   },
   "outputs": [
    {
     "data": {
      "text/html": [
       "<div>\n",
       "<style scoped>\n",
       "    .dataframe tbody tr th:only-of-type {\n",
       "        vertical-align: middle;\n",
       "    }\n",
       "\n",
       "    .dataframe tbody tr th {\n",
       "        vertical-align: top;\n",
       "    }\n",
       "\n",
       "    .dataframe thead th {\n",
       "        text-align: right;\n",
       "    }\n",
       "</style>\n",
       "<table border=\"1\" class=\"dataframe\">\n",
       "  <thead>\n",
       "    <tr style=\"text-align: right;\">\n",
       "      <th></th>\n",
       "      <th>Metadata_Source</th>\n",
       "      <th>Metadata_Batch</th>\n",
       "      <th>Metadata_Plate</th>\n",
       "      <th>Metadata_Well</th>\n",
       "      <th>Metadata_JCP2022</th>\n",
       "      <th>Metadata_Hash</th>\n",
       "      <th>Metadata_Bin</th>\n",
       "      <th>Metadata_TPSA</th>\n",
       "      <th>Metadata_lnTPSA</th>\n",
       "      <th>Metadata_log10TPSA</th>\n",
       "      <th>Metadata_Permiation</th>\n",
       "    </tr>\n",
       "  </thead>\n",
       "  <tbody>\n",
       "    <tr>\n",
       "      <th>0</th>\n",
       "      <td>source_1</td>\n",
       "      <td>Batch5_20221030</td>\n",
       "      <td>UL001793</td>\n",
       "      <td>M26</td>\n",
       "      <td>JCP2022_006020</td>\n",
       "      <td>-9223347314827979542</td>\n",
       "      <td>10</td>\n",
       "      <td>71.18</td>\n",
       "      <td>4.265212</td>\n",
       "      <td>1.852358</td>\n",
       "      <td>0.0</td>\n",
       "    </tr>\n",
       "    <tr>\n",
       "      <th>1</th>\n",
       "      <td>source_10</td>\n",
       "      <td>2021_06_22_U2OS_48_hr_run8</td>\n",
       "      <td>Dest210622-143628</td>\n",
       "      <td>M04</td>\n",
       "      <td>JCP2022_006020</td>\n",
       "      <td>-9223347314827979542</td>\n",
       "      <td>10</td>\n",
       "      <td>71.18</td>\n",
       "      <td>4.265212</td>\n",
       "      <td>1.852358</td>\n",
       "      <td>0.0</td>\n",
       "    </tr>\n",
       "    <tr>\n",
       "      <th>2</th>\n",
       "      <td>source_3</td>\n",
       "      <td>CP_31_all_Phenix1</td>\n",
       "      <td>B040603b</td>\n",
       "      <td>G13</td>\n",
       "      <td>JCP2022_006020</td>\n",
       "      <td>-9223347314827979542</td>\n",
       "      <td>10</td>\n",
       "      <td>71.18</td>\n",
       "      <td>4.265212</td>\n",
       "      <td>1.852358</td>\n",
       "      <td>0.0</td>\n",
       "    </tr>\n",
       "    <tr>\n",
       "      <th>3</th>\n",
       "      <td>source_6</td>\n",
       "      <td>p211004CPU2OS48hw384exp031JUMP</td>\n",
       "      <td>110000295562</td>\n",
       "      <td>M08</td>\n",
       "      <td>JCP2022_058905</td>\n",
       "      <td>-9223229703754907651</td>\n",
       "      <td>13</td>\n",
       "      <td>58.65</td>\n",
       "      <td>4.071588</td>\n",
       "      <td>1.768268</td>\n",
       "      <td>0.0</td>\n",
       "    </tr>\n",
       "    <tr>\n",
       "      <th>4</th>\n",
       "      <td>source_3</td>\n",
       "      <td>CP_32_all_Phenix1</td>\n",
       "      <td>B40003aW</td>\n",
       "      <td>M08</td>\n",
       "      <td>JCP2022_058905</td>\n",
       "      <td>-9223229703754907651</td>\n",
       "      <td>13</td>\n",
       "      <td>58.65</td>\n",
       "      <td>4.071588</td>\n",
       "      <td>1.768268</td>\n",
       "      <td>0.0</td>\n",
       "    </tr>\n",
       "    <tr>\n",
       "      <th>...</th>\n",
       "      <td>...</td>\n",
       "      <td>...</td>\n",
       "      <td>...</td>\n",
       "      <td>...</td>\n",
       "      <td>...</td>\n",
       "      <td>...</td>\n",
       "      <td>...</td>\n",
       "      <td>...</td>\n",
       "      <td>...</td>\n",
       "      <td>...</td>\n",
       "      <td>...</td>\n",
       "    </tr>\n",
       "    <tr>\n",
       "      <th>311995</th>\n",
       "      <td>source_6</td>\n",
       "      <td>p211004CPU2OS48hw384exp031JUMP</td>\n",
       "      <td>110000296294</td>\n",
       "      <td>N12</td>\n",
       "      <td>JCP2022_105575</td>\n",
       "      <td>7406061371488308302</td>\n",
       "      <td>14</td>\n",
       "      <td>50.19</td>\n",
       "      <td>3.915816</td>\n",
       "      <td>1.700617</td>\n",
       "      <td>0.0</td>\n",
       "    </tr>\n",
       "    <tr>\n",
       "      <th>311996</th>\n",
       "      <td>source_2</td>\n",
       "      <td>20210823_Batch_10</td>\n",
       "      <td>1086292051</td>\n",
       "      <td>L21</td>\n",
       "      <td>JCP2022_105575</td>\n",
       "      <td>7406061371488308302</td>\n",
       "      <td>14</td>\n",
       "      <td>50.19</td>\n",
       "      <td>3.915816</td>\n",
       "      <td>1.700617</td>\n",
       "      <td>0.0</td>\n",
       "    </tr>\n",
       "    <tr>\n",
       "      <th>311997</th>\n",
       "      <td>source_10</td>\n",
       "      <td>2021_06_22_U2OS_48_hr_run8</td>\n",
       "      <td>Dest210622-143006</td>\n",
       "      <td>A07</td>\n",
       "      <td>JCP2022_095379</td>\n",
       "      <td>7406311667471038063</td>\n",
       "      <td>15</td>\n",
       "      <td>45.98</td>\n",
       "      <td>3.828207</td>\n",
       "      <td>1.662569</td>\n",
       "      <td>0.0</td>\n",
       "    </tr>\n",
       "    <tr>\n",
       "      <th>311998</th>\n",
       "      <td>source_6</td>\n",
       "      <td>p210928CPU2OS48hw384exp030JUMP</td>\n",
       "      <td>110000296370</td>\n",
       "      <td>A15</td>\n",
       "      <td>JCP2022_095379</td>\n",
       "      <td>7406311667471038063</td>\n",
       "      <td>15</td>\n",
       "      <td>45.98</td>\n",
       "      <td>3.828207</td>\n",
       "      <td>1.662569</td>\n",
       "      <td>0.0</td>\n",
       "    </tr>\n",
       "    <tr>\n",
       "      <th>311999</th>\n",
       "      <td>source_3</td>\n",
       "      <td>CP_32_all_Phenix1</td>\n",
       "      <td>B40503aW</td>\n",
       "      <td>A15</td>\n",
       "      <td>JCP2022_095379</td>\n",
       "      <td>7406311667471038063</td>\n",
       "      <td>15</td>\n",
       "      <td>45.98</td>\n",
       "      <td>3.828207</td>\n",
       "      <td>1.662569</td>\n",
       "      <td>0.0</td>\n",
       "    </tr>\n",
       "  </tbody>\n",
       "</table>\n",
       "<p>312000 rows × 11 columns</p>\n",
       "</div>"
      ],
      "text/plain": [
       "       Metadata_Source                  Metadata_Batch     Metadata_Plate Metadata_Well Metadata_JCP2022        Metadata_Hash  \\\n",
       "0             source_1                 Batch5_20221030           UL001793           M26   JCP2022_006020 -9223347314827979542   \n",
       "1            source_10      2021_06_22_U2OS_48_hr_run8  Dest210622-143628           M04   JCP2022_006020 -9223347314827979542   \n",
       "2             source_3               CP_31_all_Phenix1           B040603b           G13   JCP2022_006020 -9223347314827979542   \n",
       "3             source_6  p211004CPU2OS48hw384exp031JUMP       110000295562           M08   JCP2022_058905 -9223229703754907651   \n",
       "4             source_3               CP_32_all_Phenix1           B40003aW           M08   JCP2022_058905 -9223229703754907651   \n",
       "...                ...                             ...                ...           ...              ...                  ...   \n",
       "311995        source_6  p211004CPU2OS48hw384exp031JUMP       110000296294           N12   JCP2022_105575  7406061371488308302   \n",
       "311996        source_2               20210823_Batch_10         1086292051           L21   JCP2022_105575  7406061371488308302   \n",
       "311997       source_10      2021_06_22_U2OS_48_hr_run8  Dest210622-143006           A07   JCP2022_095379  7406311667471038063   \n",
       "311998        source_6  p210928CPU2OS48hw384exp030JUMP       110000296370           A15   JCP2022_095379  7406311667471038063   \n",
       "311999        source_3               CP_32_all_Phenix1           B40503aW           A15   JCP2022_095379  7406311667471038063   \n",
       "\n",
       "        Metadata_Bin  Metadata_TPSA  Metadata_lnTPSA  Metadata_log10TPSA  Metadata_Permiation  \n",
       "0                 10          71.18         4.265212            1.852358                  0.0  \n",
       "1                 10          71.18         4.265212            1.852358                  0.0  \n",
       "2                 10          71.18         4.265212            1.852358                  0.0  \n",
       "3                 13          58.65         4.071588            1.768268                  0.0  \n",
       "4                 13          58.65         4.071588            1.768268                  0.0  \n",
       "...              ...            ...              ...                 ...                  ...  \n",
       "311995            14          50.19         3.915816            1.700617                  0.0  \n",
       "311996            14          50.19         3.915816            1.700617                  0.0  \n",
       "311997            15          45.98         3.828207            1.662569                  0.0  \n",
       "311998            15          45.98         3.828207            1.662569                  0.0  \n",
       "311999            15          45.98         3.828207            1.662569                  0.0  \n",
       "\n",
       "[312000 rows x 11 columns]"
      ]
     },
     "execution_count": 57,
     "metadata": {},
     "output_type": "execute_result"
    }
   ],
   "source": [
    "df_train"
   ]
  },
  {
   "cell_type": "code",
   "execution_count": 59,
   "id": "d589cb14-c940-439c-b9bf-18c5655d5718",
   "metadata": {
    "execution": {
     "iopub.execute_input": "2024-08-28T16:33:10.332706Z",
     "iopub.status.busy": "2024-08-28T16:33:10.332270Z",
     "iopub.status.idle": "2024-08-28T16:33:10.390959Z",
     "shell.execute_reply": "2024-08-28T16:33:10.390190Z",
     "shell.execute_reply.started": "2024-08-28T16:33:10.332674Z"
    }
   },
   "outputs": [
    {
     "data": {
      "text/plain": [
       "array([274836,  37164])"
      ]
     },
     "execution_count": 59,
     "metadata": {},
     "output_type": "execute_result"
    }
   ],
   "source": [
    "y_label = df_train.Metadata_Permiation.astype(np.int8)\n",
    "bin_cnt = np.bincount(y_label)\n",
    "bin_cnt"
   ]
  },
  {
   "cell_type": "code",
   "execution_count": 54,
   "id": "07123fda-d6ed-4329-a84b-6308367e3bb9",
   "metadata": {
    "execution": {
     "iopub.execute_input": "2024-07-19T20:27:06.357594Z",
     "iopub.status.busy": "2024-07-19T20:27:06.357087Z",
     "iopub.status.idle": "2024-07-19T20:27:06.405893Z",
     "shell.execute_reply": "2024-07-19T20:27:06.405122Z",
     "shell.execute_reply.started": "2024-07-19T20:27:06.357552Z"
    }
   },
   "outputs": [
    {
     "data": {
      "text/plain": [
       "346542"
      ]
     },
     "execution_count": 54,
     "metadata": {},
     "output_type": "execute_result"
    }
   ],
   "source": [
    "312000+34542"
   ]
  },
  {
   "cell_type": "code",
   "execution_count": 58,
   "id": "8c673c02-e1a6-4598-9626-7c9fab8dcc24",
   "metadata": {
    "execution": {
     "iopub.execute_input": "2024-07-19T20:27:51.009373Z",
     "iopub.status.busy": "2024-07-19T20:27:51.008866Z",
     "iopub.status.idle": "2024-07-19T20:27:51.053679Z",
     "shell.execute_reply": "2024-07-19T20:27:51.052960Z",
     "shell.execute_reply.started": "2024-07-19T20:27:51.009333Z"
    }
   },
   "outputs": [],
   "source": [
    "del df_tmp, df_input"
   ]
  },
  {
   "cell_type": "markdown",
   "id": "57854493-3a4e-4c33-bcc1-021c9dd95c4e",
   "metadata": {
    "jp-MarkdownHeadingCollapsed": true
   },
   "source": [
    "# Load checkpoint"
   ]
  },
  {
   "cell_type": "code",
   "execution_count": 78,
   "id": "5cf0f3dd-1dad-4502-b408-fcfd6c0537bb",
   "metadata": {
    "execution": {
     "iopub.execute_input": "2024-07-18T18:58:05.984838Z",
     "iopub.status.busy": "2024-07-18T18:58:05.984017Z",
     "iopub.status.idle": "2024-07-18T18:58:05.989033Z",
     "shell.execute_reply": "2024-07-18T18:58:05.988163Z",
     "shell.execute_reply.started": "2024-07-18T18:58:05.984785Z"
    }
   },
   "outputs": [],
   "source": [
    "# filename = \"AE_snnl_dcpb200_150Ltnt_512_20240709_2235_BEST_404.pt\"\n",
    "# filename = \"AE_snnl_dcpb200_150Ltnt_512_20240709_2235_BEST_1.pt\"\n",
    "# filename = \"AE_snnl_dcpb200_150Ltnt_512_20240709_2235_LAST_ep_700.pt\"\n",
    "# filename = \"AE_snnl_dcpb200_150Ltnt_512_240709_2235_LAST_ep_705.pt\"\n",
    "# filename = args.ckpt"
   ]
  },
  {
   "cell_type": "code",
   "execution_count": 96,
   "id": "cc06a20e-380f-4207-a214-edb91cbe18a8",
   "metadata": {
    "execution": {
     "iopub.execute_input": "2024-07-18T19:14:52.759348Z",
     "iopub.status.busy": "2024-07-18T19:14:52.758740Z",
     "iopub.status.idle": "2024-07-18T19:14:52.813797Z",
     "shell.execute_reply": "2024-07-18T19:14:52.813073Z",
     "shell.execute_reply.started": "2024-07-18T19:14:52.759305Z"
    }
   },
   "outputs": [
    {
     "name": "stdout",
     "output_type": "stream",
     "text": [
      "AE_snnl_dcpb200_150Ltnt_512_20240709_2235_LAST_ep_700.pt\n",
      "  0 AE_snnl_dcpb200_150Ltnt_512_20240709_2235_LAST_ep_700.pt     -   epoch:  700          dict_keys(['epoch', 'state_dict', 'optimizers', 'optimizers_state_dict', 'schedulers', 'schedulers_state_dict', 'params'])\n"
     ]
    }
   ],
   "source": [
    "idxs = [3]\n",
    "filenames = [filelist[idx] for idx in idxs]\n",
    "for idx, filename in enumerate(filenames):\n",
    "    print(filename)\n",
    "    epoch = -1\n",
    "    if filename[-3:] != '.pt':\n",
    "        filename+='.pt'\n",
    "    ckpt_file = os.path.join(\"ckpts\", filename)\n",
    "    # print(f\" Checkpoint file : {ckpt_file}\")\n",
    "    \n",
    "    try:\n",
    "        checkpoint = torch.load(ckpt_file)\n",
    "    except FileNotFoundError:\n",
    "        Exception(\"Previous state checkpoint not found.\")\n",
    "        print(\"FileNotFound Exception\")\n",
    "    except :\n",
    "        print(\"Other Exception\")\n",
    "        print(sys.exc_info())\n",
    "    \n",
    "    # checkpoint.keys()\n",
    "    \n",
    "    print(f\"{idx:3d} {filename:60s} -   epoch: {checkpoint['epoch']:4d}          {checkpoint.keys()}\")"
   ]
  },
  {
   "cell_type": "code",
   "execution_count": 97,
   "id": "d1f87516-93c6-4d99-8026-16b86ebd7977",
   "metadata": {
    "execution": {
     "iopub.execute_input": "2024-07-18T19:15:01.850691Z",
     "iopub.status.busy": "2024-07-18T19:15:01.850144Z",
     "iopub.status.idle": "2024-07-18T19:15:01.858364Z",
     "shell.execute_reply": "2024-07-18T19:15:01.857087Z",
     "shell.execute_reply.started": "2024-07-18T19:15:01.850648Z"
    }
   },
   "outputs": [
    {
     "name": "stdout",
     "output_type": "stream",
     "text": [
      " epoch                           tpye: <class 'int'>\n",
      " state_dict                      tpye: <class 'collections.OrderedDict'>\n",
      " optimizers                      tpye: <class 'dict'>\n",
      " optimizers_state_dict           tpye: <class 'dict'>\n",
      " schedulers                      tpye: <class 'dict'>\n",
      " schedulers_state_dict           tpye: <class 'dict'>\n",
      " params                          tpye: <class 'dict'>\n"
     ]
    }
   ],
   "source": [
    "for k,v in checkpoint.items():\n",
    "    print(f\" {k:30}  tpye: {type(v)}\")"
   ]
  },
  {
   "cell_type": "code",
   "execution_count": 109,
   "id": "5019489c-7148-4f7a-a820-6686cb4fcd3d",
   "metadata": {
    "execution": {
     "iopub.execute_input": "2024-07-18T19:21:09.231235Z",
     "iopub.status.busy": "2024-07-18T19:21:09.230637Z",
     "iopub.status.idle": "2024-07-18T19:21:09.348328Z",
     "shell.execute_reply": "2024-07-18T19:21:09.347629Z",
     "shell.execute_reply.started": "2024-07-18T19:21:09.231196Z"
    },
    "scrolled": true
   },
   "outputs": [
    {
     "name": "stdout",
     "output_type": "stream",
     "text": [
      " prim                            tpye: <class 'dict'>\n",
      "{'state': {0: {'step': tensor(280000.), 'exp_avg': tensor([[ 7.2271e-07,  1.2926e-06, -1.2854e-06,  ..., -4.4894e-07,  1.0065e-06, -7.0389e-08],\n",
      "        [-3.6944e-07,  1.1674e-07,  3.3869e-07,  ...,  5.4228e-07, -2.2068e-06, -1.6183e-07],\n",
      "        [ 1.8231e-06,  2.4441e-06,  2.0402e-06,  ..., -2.4858e-06, -2.6043e-06, -1.5995e-06],\n",
      "        ...,\n",
      "        [-4.1211e-06, -1.0590e-06, -1.9245e-06,  ...,  3.0483e-06,  1.2641e-06,  3.2228e-06],\n",
      "        [-5.2276e-07, -6.2790e-08,  1.6012e-06,  ...,  4.3297e-06, -1.5604e-06,  4.5590e-06],\n",
      "        [-1.8927e-06, -2.1949e-06, -1.5110e-06,  ..., -6.5841e-07,  2.0136e-06, -1.1450e-06]], device='cuda:0'), 'exp_avg_sq': tensor([[4.3622e-11, 1.8160e-11, 1.8048e-11,  ..., 8.8139e-11, 1.0911e-10, 9.8168e-11],\n",
      "        [1.0076e-10, 2.9558e-11, 2.5882e-11,  ..., 1.3456e-10, 1.6557e-10, 1.2977e-10],\n",
      "        [6.8379e-11, 3.5418e-11, 3.9468e-11,  ..., 1.8371e-10, 2.4346e-10, 1.9584e-10],\n",
      "        ...,\n",
      "        [7.4538e-10, 1.3125e-10, 1.1912e-10,  ..., 7.4693e-10, 8.5444e-10, 6.4574e-10],\n",
      "        [2.9871e-11, 2.3937e-11, 2.4062e-11,  ..., 3.8268e-11, 1.0419e-10, 4.0213e-11],\n",
      "        [8.9929e-11, 9.5449e-11, 8.7214e-11,  ..., 1.3393e-10, 1.0810e-10, 1.4567e-10]], device='cuda:0')}, 1: {'step': tensor(280000.), 'exp_avg': tensor([-2.2539e-07, -2.8150e-07, -6.1202e-07,  ..., -6.6491e-07,  1.4320e-06, -3.5600e-06], device='cuda:0'), 'exp_avg_sq': tensor([1.2374e-11, 6.4715e-11, 2.9727e-11,  ..., 4.6389e-10, 1.3108e-10, 5.2638e-10], device='cuda:0')}, 2: {'step': tensor(280000.), 'exp_avg': tensor([[ 5.6052e-45,  5.6052e-45,  5.6052e-45,  ...,  5.6052e-45,  5.6052e-45,  5.6052e-45],\n",
      "        [ 2.1853e-06,  1.8914e-05,  6.3262e-06,  ..., -1.6561e-05,  6.6220e-07, -2.2861e-06],\n",
      "        [ 5.6052e-45,  5.6052e-45,  5.6052e-45,  ...,  5.6052e-45,  5.6052e-45,  5.6052e-45],\n",
      "        ...,\n",
      "        [ 5.6052e-45,  5.6052e-45,  5.6052e-45,  ...,  5.6052e-45,  5.6052e-45,  5.6052e-45],\n",
      "        [ 5.6052e-45,  5.6052e-45,  5.6052e-45,  ...,  5.6052e-45,  5.6052e-45,  5.6052e-45],\n",
      "        [-5.6052e-45,  5.6052e-45, -5.6052e-45,  ...,  5.6052e-45,  5.6052e-45,  5.6052e-45]], device='cuda:0'), 'exp_avg_sq': tensor([[7.0065e-43, 7.0065e-43, 7.0065e-43,  ..., 7.0065e-43, 7.0065e-43, 7.0065e-43],\n",
      "        [7.8260e-09, 2.3602e-08, 4.5768e-09,  ..., 1.7227e-07, 1.0686e-08, 1.8533e-08],\n",
      "        [7.0065e-43, 7.0065e-43, 7.0065e-43,  ..., 7.0065e-43, 7.0065e-43, 7.0065e-43],\n",
      "        ...,\n",
      "        [7.0065e-43, 7.0065e-43, 7.0065e-43,  ..., 7.0065e-43, 7.0065e-43, 7.0065e-43],\n",
      "        [7.0065e-43, 7.0065e-43, 7.0065e-43,  ..., 7.0065e-43, 7.0065e-43, 7.0065e-43],\n",
      "        [7.0065e-43, 7.0065e-43, 7.0065e-43,  ..., 7.0065e-43, 7.0065e-43, 7.0065e-43]], device='cuda:0')}, 3: {'step': tensor(280000.), 'exp_avg': tensor([ 5.6052e-45,  1.8078e-07,  5.6052e-45,  5.6052e-45, -9.2787e-06,  5.6052e-45,  5.6052e-45,  5.6052e-45,  5.6052e-45,  5.6052e-45, -4.6471e-16,\n",
      "         5.6052e-45,  5.7327e-06,  5.6052e-45,  5.6052e-45,  1.1076e-06,  1.6011e-06,  5.6052e-45,  5.6052e-45,  2.0589e-06,  5.6052e-45,  5.6052e-45,\n",
      "         5.6052e-45,  5.6052e-45,  5.6052e-45,  3.7389e-06,  5.6052e-45,  5.6052e-45,  5.6052e-45,  5.6052e-45,  5.6052e-45,  5.6052e-45,  5.6052e-45,\n",
      "         5.6052e-45, -9.4069e-08,  5.6052e-45,  5.6052e-45,  5.6052e-45,  5.6052e-45,  4.6184e-06,  5.6052e-45,  5.6052e-45,  5.6052e-45,  5.6052e-45,\n",
      "         5.6052e-45,  5.6052e-45,  5.6052e-45,  5.6052e-45,  5.6052e-45, -1.2619e-05,  5.6052e-45, -7.3954e-07,  5.6052e-45,  5.6052e-45,  5.6052e-45,\n",
      "         5.6052e-45, -2.6633e-07,  7.2858e-07,  3.8746e-06, -8.1386e-06,  5.6052e-45,  5.6052e-45,  5.6052e-45,  1.3608e-05, -6.7914e-06,  5.6052e-45,\n",
      "         1.6383e-05,  5.6052e-45, -5.7323e-07, -2.2819e-05,  5.6052e-45,  5.6052e-45,  5.6052e-45,  5.6052e-45,  5.6052e-45,  5.6052e-45,  5.6052e-45,\n",
      "        -2.3593e-06,  5.6052e-45, -1.0414e-05,  5.6052e-45,  1.2538e-05,  5.6052e-45,  5.6052e-45,  5.6052e-45,  5.6052e-45,  5.6052e-45,  5.6052e-45,\n",
      "         5.6052e-45, -1.8071e-06,  5.6052e-45,  5.6052e-45, -3.2036e-06,  5.6052e-45,  5.6052e-45,  5.6052e-45,  5.6052e-45,  5.6052e-45,  5.4669e-06,\n",
      "         1.5568e-05,  5.6052e-45,  5.6052e-45,  5.6052e-45,  1.6753e-05,  1.8864e-05,  5.6052e-45,  5.6052e-45,  5.6052e-45,  5.6052e-45,  5.6052e-45,\n",
      "         5.6052e-45,  5.6052e-45, -5.1918e-06,  5.6052e-45,  5.6052e-45,  5.6052e-45,  5.6052e-45,  5.6052e-45,  5.6052e-45,  5.6052e-45,  5.6052e-45,\n",
      "         5.6052e-45,  5.6052e-45,  5.6052e-45,  5.6052e-45,  5.6052e-45,  5.6052e-45,  5.6052e-45,  5.6052e-45,  3.9711e-06,  5.6052e-45,  5.6052e-45,\n",
      "         5.6052e-45,  5.6052e-45,  5.6052e-45,  1.2694e-05,  5.6052e-45,  5.6052e-45,  5.6052e-45,  5.6052e-45, -5.8876e-06,  5.6052e-45,  5.6052e-45,\n",
      "         5.6052e-45,  7.6982e-06,  5.6052e-45,  2.7350e-06, -1.4445e-05, -1.3585e-11,  8.6568e-06,  5.6052e-45,  5.6052e-45,  5.6052e-45,  5.6052e-45,\n",
      "         6.7352e-06,  5.6052e-45,  5.6052e-45,  5.6052e-45,  5.6052e-45, -4.3340e-08,  5.6052e-45,  5.6052e-45,  5.6052e-45,  5.6052e-45,  2.7237e-06,\n",
      "         2.6230e-07,  5.6052e-45, -3.5385e-06, -1.1763e-05, -6.8146e-06,  5.6052e-45,  5.6052e-45,  5.6052e-45,  5.6052e-45,  5.6052e-45,  5.6052e-45,\n",
      "         3.5589e-06,  5.6052e-45,  5.6052e-45,  5.6052e-45, -7.1748e-06,  3.9818e-08,  5.6052e-45,  5.6052e-45,  5.6052e-45, -1.1103e-06, -5.8616e-07,\n",
      "         5.6052e-45,  5.6052e-45,  5.6052e-45,  5.6052e-45, -5.3072e-06,  5.6052e-45,  5.6052e-45,  5.6052e-45,  5.6052e-45,  5.6052e-45,  5.6052e-45,\n",
      "         5.6052e-45,  5.6052e-45,  5.6052e-45,  5.6052e-45,  5.6052e-45,  5.6052e-45,  5.6052e-45, -1.5428e-05, -1.3024e-05,  5.6052e-45,  5.6052e-45,\n",
      "        -1.1513e-05,  5.6052e-45,  5.6052e-45,  5.6052e-45,  5.6052e-45,  5.6052e-45, -8.7330e-08,  8.6763e-07,  5.6052e-45,  5.6052e-45,  5.6052e-45,\n",
      "         5.6052e-45,  1.7147e-06,  5.6052e-45, -3.3905e-06,  4.0906e-06, -1.7670e-06,  5.6052e-45,  2.5517e-06,  5.6052e-45,  5.6052e-45,  5.6052e-45,\n",
      "         5.6052e-45,  5.6052e-45,  5.6052e-45,  5.6052e-45,  5.6052e-45,  5.6052e-45,  5.6052e-45,  2.4778e-05,  1.5960e-06,  5.6052e-45,  5.6052e-45,\n",
      "         1.3247e-05,  5.6052e-45,  5.6052e-45,  5.6052e-45,  5.6052e-45, -1.9942e-05,  5.6052e-45,  5.6052e-45,  9.4702e-06,  5.6052e-45,  5.6052e-45,\n",
      "        -3.0486e-06, -2.7901e-06,  5.6052e-45,  5.6052e-45,  5.6052e-45,  5.6052e-45,  5.6052e-45,  5.6052e-45, -7.5175e-06,  5.6052e-45,  3.9192e-07,\n",
      "         5.6052e-45, -1.9331e-07, -1.3373e-07,  6.8831e-06,  4.3712e-06,  4.0126e-06,  5.6052e-45,  5.6052e-45, -1.3159e-08,  5.6052e-45,  5.6052e-45,\n",
      "         5.7126e-10,  5.6052e-45,  5.6052e-45,  5.6052e-45,  5.6052e-45,  5.6052e-45,  5.6052e-45,  5.6052e-45,  5.6052e-45, -1.7273e-05,  5.6052e-45,\n",
      "        -3.6643e-06,  5.6052e-45,  5.6052e-45, -6.5021e-06,  5.6052e-45,  5.6052e-45,  5.6052e-45,  5.6052e-45, -3.6336e-06,  4.1485e-06,  5.6052e-45,\n",
      "         5.6052e-45, -1.0397e-05,  5.6052e-45,  5.6052e-45,  5.6052e-45,  5.6052e-45,  5.6052e-45,  5.6052e-45,  5.6052e-45,  5.6052e-45,  5.6052e-45,\n",
      "        -1.7522e-06,  5.6052e-45, -2.3421e-06,  5.6052e-45,  5.6052e-45,  5.6052e-45,  5.6052e-45,  7.6324e-06,  5.6052e-45,  5.6052e-45,  5.6052e-45,\n",
      "         5.6052e-45,  5.6052e-45, -2.5917e-06,  5.6052e-45,  5.6052e-45,  5.6052e-45,  5.6052e-45,  5.6052e-45, -8.1170e-06,  5.6052e-45,  5.6052e-45,\n",
      "         5.6052e-45,  5.6052e-45,  3.5227e-06,  1.3058e-05,  5.3784e-07,  5.6052e-45,  5.6052e-45,  5.6052e-45,  5.6052e-45,  5.6052e-45,  5.6052e-45,\n",
      "         5.6052e-45,  5.6432e-06,  5.6052e-45, -1.1350e-05,  9.2654e-06,  5.6052e-45, -1.0805e-05,  5.6052e-45,  5.6052e-45,  5.6052e-45,  5.6052e-45,\n",
      "         5.6052e-45,  5.6052e-45,  5.6052e-45,  5.6052e-45, -7.6097e-07,  5.6052e-45, -1.1615e-05,  5.6052e-45,  5.6052e-45,  5.6052e-45,  1.4058e-05,\n",
      "         5.6052e-45,  2.3325e-06,  5.6052e-45,  5.6052e-45,  5.6052e-45,  5.6052e-45,  5.6052e-45,  5.6052e-45,  5.6052e-45,  5.6052e-45,  5.2798e-06,\n",
      "         5.6052e-45,  5.6052e-45,  1.6626e-05,  5.6052e-45,  5.6052e-45,  5.6052e-45,  5.6052e-45,  5.6052e-45,  2.7340e-05,  5.6052e-45, -1.0712e-05,\n",
      "         5.6052e-45, -1.3432e-06, -3.2947e-06,  5.6052e-45,  5.6052e-45,  5.4352e-06,  5.6052e-45,  3.1776e-06,  5.6052e-45,  5.6052e-45, -4.7426e-06,\n",
      "         5.6052e-45,  5.6052e-45,  5.6052e-45,  5.6052e-45,  5.6052e-45,  5.6052e-45, -2.9604e-06,  5.6052e-45,  5.6052e-45,  5.6052e-45,  5.6052e-45,\n",
      "        -2.0468e-06,  5.6052e-45,  5.6052e-45,  5.6052e-45,  5.6052e-45,  5.6052e-45,  5.6052e-45,  5.6052e-45,  5.6052e-45,  5.6052e-45, -1.0072e-05,\n",
      "         5.6052e-45,  5.6052e-45, -2.1079e-06,  4.8686e-06,  5.6052e-45,  5.6052e-45,  5.6052e-45,  5.6052e-45,  5.6052e-45,  5.6052e-45,  3.3719e-06,\n",
      "        -1.3669e-06,  5.6052e-45,  8.2843e-06,  5.6052e-45,  5.6052e-45,  7.1654e-06,  5.6052e-45,  5.6052e-45,  3.0417e-06,  5.6052e-45, -1.6808e-06,\n",
      "         5.6052e-45,  5.6052e-45,  3.6664e-07,  5.6052e-45,  3.5469e-07,  5.6052e-45,  5.6052e-45, -1.4464e-05,  5.6052e-45, -4.2275e-06, -4.9733e-06,\n",
      "         5.6052e-45, -6.9679e-06,  5.6052e-45,  5.6052e-45, -7.8386e-06,  5.6052e-45, -1.4423e-06,  5.6052e-45,  5.6052e-45,  5.6052e-45,  1.9938e-06,\n",
      "         5.6052e-45,  5.6052e-45,  5.6052e-45,  5.6052e-45,  5.6052e-45,  5.6052e-45,  5.6052e-45,  5.6052e-45,  5.6052e-45,  5.6052e-45, -4.8381e-06,\n",
      "         5.6052e-45,  5.6052e-45, -4.5798e-07,  5.6052e-45,  5.6052e-45,  5.6052e-45,  5.6052e-45,  5.6052e-45,  5.6052e-45,  5.6052e-45,  5.6052e-45,\n",
      "         5.6052e-45,  5.6052e-45,  5.6052e-45,  5.6052e-45,  4.7801e-06,  5.6052e-45,  5.6052e-45,  5.6052e-45,  5.6052e-45,  1.2920e-05, -4.0283e-06,\n",
      "         5.6052e-45,  5.6052e-45,  5.6052e-45,  5.6052e-45,  1.8273e-06,  5.6052e-45,  5.6052e-45, -2.9358e-06, -1.0781e-07,  5.6052e-45,  5.6052e-45,\n",
      "        -3.3018e-06,  5.6052e-45, -1.4330e-05,  5.6052e-45,  5.6052e-45,  5.6052e-45], device='cuda:0'), 'exp_avg_sq': tensor([7.0065e-43, 1.1521e-08, 7.0065e-43, 7.0065e-43, 1.3364e-09, 7.0065e-43, 7.0065e-43, 7.0065e-43, 7.0065e-43, 7.0065e-43, 3.3648e-13,\n",
      "        7.0065e-43, 1.7109e-08, 7.0065e-43, 7.0065e-43, 1.5685e-08, 5.2599e-09, 7.0065e-43, 7.0065e-43, 6.6489e-09, 7.0065e-43, 7.0065e-43,\n",
      "        7.0065e-43, 7.0065e-43, 7.0065e-43, 5.3172e-10, 7.0065e-43, 7.0065e-43, 7.0065e-43, 7.0065e-43, 7.0065e-43, 7.0065e-43, 7.0065e-43,\n",
      "        7.0065e-43, 1.2546e-09, 7.0065e-43, 7.0065e-43, 7.0065e-43, 7.0065e-43, 1.7658e-08, 7.0065e-43, 7.0065e-43, 8.3016e-28, 7.0065e-43,\n",
      "        7.0065e-43, 7.0065e-43, 7.0065e-43, 7.0065e-43, 7.0065e-43, 2.7397e-08, 7.0065e-43, 1.5424e-09, 7.0065e-43, 7.0065e-43, 7.0065e-43,\n",
      "        7.0065e-43, 1.5749e-09, 4.2292e-10, 9.6844e-10, 6.4779e-09, 7.0065e-43, 7.0065e-43, 7.0065e-43, 8.5811e-09, 8.7122e-09, 7.0065e-43,\n",
      "        2.6018e-08, 7.0065e-43, 1.7279e-08, 1.4699e-08, 7.0065e-43, 7.0065e-43, 7.0065e-43, 7.0065e-43, 7.0065e-43, 7.0065e-43, 5.2268e-42,\n",
      "        2.9792e-08, 7.0065e-43, 2.0632e-08, 7.0065e-43, 4.8130e-09, 7.0065e-43, 7.0065e-43, 7.0065e-43, 7.0065e-43, 7.0065e-43, 7.0065e-43,\n",
      "        7.0065e-43, 3.0978e-10, 7.0065e-43, 7.0065e-43, 2.8506e-08, 7.0065e-43, 7.0065e-43, 7.0065e-43, 7.0065e-43, 7.0065e-43, 9.1452e-09,\n",
      "        1.9347e-08, 7.0065e-43, 7.0065e-43, 7.0065e-43, 9.1139e-09, 1.0087e-08, 7.0065e-43, 7.0065e-43, 7.0065e-43, 7.0065e-43, 7.0065e-43,\n",
      "        7.0065e-43, 7.0065e-43, 8.0750e-09, 7.0065e-43, 7.0065e-43, 7.0065e-43, 7.0065e-43, 7.0065e-43, 3.1645e-18, 7.0065e-43, 7.0065e-43,\n",
      "        7.0065e-43, 7.0065e-43, 7.0065e-43, 7.0065e-43, 4.8660e-31, 7.0065e-43, 7.0065e-43, 7.0065e-43, 1.6175e-08, 7.0065e-43, 7.0065e-43,\n",
      "        7.0065e-43, 7.0065e-43, 7.0065e-43, 8.4113e-09, 7.0065e-43, 7.0065e-43, 7.0065e-43, 8.6079e-16, 6.6990e-09, 7.0065e-43, 7.0065e-43,\n",
      "        7.0065e-43, 1.8564e-08, 7.0065e-43, 7.6206e-10, 7.7333e-09, 1.1103e-13, 1.1687e-09, 7.0065e-43, 7.0065e-43, 7.0065e-43, 7.0065e-43,\n",
      "        1.3414e-09, 7.0065e-43, 7.0065e-43, 7.0065e-43, 7.0065e-43, 1.2482e-09, 7.0065e-43, 7.0065e-43, 7.0065e-43, 7.0065e-43, 9.1951e-10,\n",
      "        3.7428e-12, 7.0065e-43, 1.2649e-08, 1.5558e-08, 1.1193e-08, 7.0065e-43, 7.0065e-43, 7.0065e-43, 4.2918e-30, 7.0065e-43, 7.0065e-43,\n",
      "        1.0308e-09, 7.0065e-43, 7.0065e-43, 7.0065e-43, 8.8315e-09, 8.8763e-10, 7.0065e-43, 7.0065e-43, 7.0065e-43, 6.7481e-10, 1.7528e-12,\n",
      "        7.0065e-43, 7.0065e-43, 7.0065e-43, 7.0065e-43, 1.1800e-08, 7.0065e-43, 7.0065e-43, 7.0065e-43, 3.4546e-31, 7.0065e-43, 7.0065e-43,\n",
      "        7.0065e-43, 7.0065e-43, 1.2937e-28, 7.0065e-43, 7.0065e-43, 7.0065e-43, 7.0065e-43, 9.7291e-09, 6.8672e-09, 7.0065e-43, 7.0065e-43,\n",
      "        1.7907e-09, 7.0065e-43, 7.0065e-43, 7.0065e-43, 7.0065e-43, 7.0065e-43, 5.7874e-13, 8.7552e-09, 7.0065e-43, 7.0065e-43, 7.0065e-43,\n",
      "        7.0065e-43, 1.0490e-09, 7.0065e-43, 1.8884e-09, 1.5702e-08, 9.0848e-10, 7.0065e-43, 1.6789e-08, 7.0065e-43, 7.0065e-43, 1.1151e-19,\n",
      "        7.0065e-43, 8.4512e-33, 7.0065e-43, 4.8079e-40, 1.6675e-18, 7.0065e-43, 7.0065e-43, 1.0936e-08, 6.8420e-09, 7.0065e-43, 7.0065e-43,\n",
      "        1.4983e-08, 7.0065e-43, 7.0065e-43, 7.0065e-43, 7.0065e-43, 2.5361e-08, 7.0065e-43, 7.0065e-43, 2.3027e-08, 7.0065e-43, 7.0065e-43,\n",
      "        4.8223e-09, 1.7465e-09, 7.0065e-43, 7.0065e-43, 7.0065e-43, 7.0065e-43, 7.0065e-43, 7.0065e-43, 2.1318e-09, 7.0065e-43, 1.4087e-09,\n",
      "        7.0065e-43, 3.3533e-09, 5.1657e-12, 1.3986e-09, 2.0144e-09, 1.2770e-09, 7.0065e-43, 7.0065e-43, 1.5710e-12, 7.0065e-43, 7.0065e-43,\n",
      "        3.1950e-12, 7.0065e-43, 7.0065e-43, 7.0065e-43, 7.0065e-43, 7.0065e-43, 7.0065e-43, 7.0065e-43, 7.0065e-43, 1.8345e-08, 7.0065e-43,\n",
      "        2.1904e-09, 7.0065e-43, 7.0065e-43, 1.3666e-09, 7.0065e-43, 7.0065e-43, 7.0065e-43, 7.0065e-43, 1.1494e-09, 8.2457e-09, 7.0065e-43,\n",
      "        7.0065e-43, 1.0897e-08, 7.0065e-43, 5.1078e-37, 7.0065e-43, 7.0065e-43, 7.0065e-43, 7.0065e-43, 7.0065e-43, 7.0065e-43, 7.0065e-43,\n",
      "        1.1038e-08, 7.0065e-43, 1.9146e-08, 7.0065e-43, 7.0065e-43, 7.0065e-43, 7.0065e-43, 8.6142e-10, 7.0065e-43, 7.0065e-43, 7.0065e-43,\n",
      "        7.0065e-43, 7.0065e-43, 8.3755e-10, 7.0065e-43, 7.0065e-43, 7.0065e-43, 7.0065e-43, 7.0065e-43, 1.4921e-08, 7.0065e-43, 7.0065e-43,\n",
      "        7.0065e-43, 7.0065e-43, 1.1846e-09, 1.9065e-08, 1.5871e-08, 7.0065e-43, 7.0065e-43, 7.0065e-43, 7.0065e-43, 7.0065e-43, 7.0065e-43,\n",
      "        7.0065e-43, 6.7894e-09, 7.0065e-43, 1.7253e-08, 9.8103e-09, 7.0065e-43, 2.0712e-08, 7.0065e-43, 3.4763e-23, 3.0912e-33, 7.0065e-43,\n",
      "        7.0065e-43, 7.0065e-43, 7.0065e-43, 7.0065e-43, 1.7762e-09, 7.0065e-43, 2.5078e-08, 7.0065e-43, 9.1887e-23, 7.0065e-43, 7.9039e-09,\n",
      "        7.0065e-43, 1.3076e-08, 7.0065e-43, 7.0065e-43, 7.0065e-43, 7.0065e-43, 7.0065e-43, 7.0065e-43, 7.0065e-43, 7.0065e-43, 1.1340e-08,\n",
      "        7.0065e-43, 7.0065e-43, 7.7323e-09, 7.0065e-43, 7.0065e-43, 7.0065e-43, 7.0065e-43, 7.0065e-43, 1.4424e-08, 7.0065e-43, 1.1787e-08,\n",
      "        7.0065e-43, 9.5031e-10, 1.3347e-08, 7.0065e-43, 7.0065e-43, 1.7676e-08, 7.0065e-43, 1.0629e-09, 7.0065e-43, 7.0065e-43, 1.8780e-08,\n",
      "        7.0065e-43, 7.0065e-43, 7.0065e-43, 7.0065e-43, 7.0065e-43, 7.0065e-43, 1.3348e-09, 7.0065e-43, 7.0065e-43, 7.0065e-43, 7.0065e-43,\n",
      "        9.4389e-09, 7.0065e-43, 7.0065e-43, 7.0065e-43, 7.0065e-43, 7.0065e-43, 7.0065e-43, 7.0065e-43, 7.0065e-43, 7.0065e-43, 1.9054e-08,\n",
      "        7.0065e-43, 7.0065e-43, 1.6949e-09, 9.8035e-09, 7.0065e-43, 7.0065e-43, 7.0065e-43, 7.0065e-43, 7.0065e-43, 7.0065e-43, 1.4894e-08,\n",
      "        1.1495e-08, 7.0065e-43, 6.8422e-09, 7.0065e-43, 7.0065e-43, 6.0241e-09, 7.0065e-43, 7.0065e-43, 1.8513e-08, 7.0065e-43, 1.6400e-09,\n",
      "        7.0065e-43, 7.0065e-43, 5.1562e-10, 3.0473e-18, 1.0156e-08, 7.0065e-43, 1.2844e-36, 1.4335e-08, 7.0065e-43, 1.1930e-08, 1.1368e-09,\n",
      "        7.0065e-43, 1.1677e-09, 7.0065e-43, 6.3720e-27, 2.8127e-09, 7.0065e-43, 1.3316e-08, 7.0065e-43, 7.0065e-43, 7.0065e-43, 3.9392e-09,\n",
      "        7.0065e-43, 7.0065e-43, 7.0065e-43, 7.0065e-43, 7.0065e-43, 7.0065e-43, 7.0065e-43, 7.0065e-43, 7.0065e-43, 7.0065e-43, 1.0402e-09,\n",
      "        7.0065e-43, 7.0065e-43, 8.1340e-09, 7.0065e-43, 7.0065e-43, 7.0065e-43, 7.0065e-43, 7.0065e-43, 2.4032e-24, 7.0065e-43, 7.0065e-43,\n",
      "        7.0065e-43, 7.0065e-43, 7.0065e-43, 7.0065e-43, 1.3152e-08, 7.0065e-43, 7.0065e-43, 7.0065e-43, 7.0065e-43, 1.6856e-08, 8.1383e-09,\n",
      "        7.0065e-43, 7.0065e-43, 7.0065e-43, 7.0065e-43, 7.8637e-09, 7.0065e-43, 7.0065e-43, 1.1993e-09, 1.6997e-12, 5.0346e-25, 7.0065e-43,\n",
      "        1.5883e-09, 7.0065e-43, 1.4803e-08, 7.0065e-43, 7.0065e-43, 7.0065e-43], device='cuda:0')}, 4: {'step': tensor(280000.), 'exp_avg': tensor([[ 5.6052e-45,  2.1895e-05, -5.6052e-45,  ..., -5.6052e-45, -5.6052e-45, -5.6052e-45],\n",
      "        [-5.6052e-45, -6.1966e-05, -5.6052e-45,  ..., -5.6052e-45,  5.6052e-45,  5.6052e-45],\n",
      "        [ 5.6052e-45,  2.5325e-04,  5.6052e-45,  ..., -5.6052e-45,  5.6052e-45,  5.6052e-45],\n",
      "        ...,\n",
      "        [ 5.6052e-45, -8.1688e-06,  5.6052e-45,  ..., -5.6052e-45, -5.6052e-45, -5.6052e-45],\n",
      "        [-5.6052e-45, -7.5495e-05, -5.6052e-45,  ...,  5.6052e-45, -5.6052e-45,  5.6052e-45],\n",
      "        [-5.6052e-45, -2.4676e-05,  5.6052e-45,  ...,  5.6052e-45, -5.6052e-45, -5.6052e-45]], device='cuda:0'), 'exp_avg_sq': tensor([[7.0065e-43, 4.5050e-06, 7.0065e-43,  ..., 7.0065e-43, 7.0065e-43, 7.0065e-43],\n",
      "        [7.0065e-43, 3.0256e-06, 7.0065e-43,  ..., 7.0065e-43, 7.0065e-43, 7.0065e-43],\n",
      "        [7.0065e-43, 4.5488e-06, 7.0065e-43,  ..., 7.0065e-43, 7.0065e-43, 7.0065e-43],\n",
      "        ...,\n",
      "        [7.0065e-43, 3.0014e-06, 7.0065e-43,  ..., 7.0065e-43, 7.0065e-43, 7.0065e-43],\n",
      "        [7.0065e-43, 4.2014e-06, 7.0065e-43,  ..., 7.0065e-43, 7.0065e-43, 7.0065e-43],\n",
      "        [7.0065e-43, 1.8481e-06, 7.0065e-43,  ..., 7.0065e-43, 7.0065e-43, 7.0065e-43]], device='cuda:0')}, 5: {'step': tensor(280000.), 'exp_avg': tensor([ 5.4308e-06, -1.3102e-05,  2.8361e-05,  1.1744e-05, -4.5033e-06,  1.3304e-06,  4.4678e-06,  5.8658e-06, -2.6462e-05, -8.7483e-06,  2.3044e-05,\n",
      "        -2.6765e-05,  2.8900e-05,  1.3698e-05, -1.4594e-05, -1.1666e-05,  2.1104e-05,  4.4276e-06,  1.9413e-05,  2.6607e-05,  1.8757e-05, -1.2788e-05,\n",
      "        -4.2668e-06, -9.8317e-06,  1.8985e-05,  1.3065e-06, -4.5609e-05, -1.7740e-05, -2.5693e-05, -5.3914e-06,  6.5413e-06,  8.0783e-06,  2.4906e-05,\n",
      "        -1.5541e-06, -1.2088e-06,  6.6931e-06,  2.4433e-05, -3.0743e-05, -2.4533e-05,  7.1275e-06, -4.6000e-06, -1.0642e-05,  1.7059e-05,  1.8578e-05,\n",
      "        -2.6589e-05, -8.5010e-06,  5.7593e-06,  4.7592e-05, -2.3148e-05, -1.8015e-05, -2.7962e-05,  1.9704e-05, -1.2801e-05, -1.0845e-06,  2.5693e-06,\n",
      "        -9.8215e-06, -3.0533e-05,  1.4304e-05,  9.6310e-06,  2.0685e-05,  2.3195e-05,  2.0029e-05, -4.8119e-06,  6.8917e-06, -1.3885e-05, -2.7318e-05,\n",
      "        -2.2325e-05, -3.6887e-05, -9.5565e-06,  2.4800e-05, -2.9537e-06, -1.0145e-05,  2.4232e-05,  1.3822e-05,  9.9039e-07,  3.0804e-05, -2.0306e-05,\n",
      "         1.6273e-05, -1.6766e-05,  2.0938e-06,  1.7934e-06,  7.3280e-06, -3.4959e-06,  2.3722e-05, -1.0406e-05,  1.3034e-05, -2.7895e-05,  7.1984e-06,\n",
      "        -8.3224e-06,  2.2362e-05,  2.4353e-05, -3.1794e-05, -9.4771e-06, -6.7440e-06,  3.1912e-06, -2.0956e-05, -5.6193e-06,  5.2005e-05, -4.1236e-06,\n",
      "         1.1100e-05,  5.4239e-05, -1.7208e-05,  4.3733e-05,  1.0664e-05,  3.1342e-06, -4.9120e-06,  2.1350e-05, -1.6862e-06,  5.2140e-06, -4.4749e-05,\n",
      "         6.7407e-06, -1.6744e-05,  1.0659e-06,  2.6198e-05,  3.5797e-05, -9.8303e-06, -1.5362e-05, -5.7931e-06, -7.0298e-06, -1.4233e-05, -1.9455e-05,\n",
      "         8.4884e-06,  1.1754e-05, -1.2291e-06, -8.2348e-06,  1.3510e-07, -5.0656e-07,  2.1144e-05,  2.1069e-05, -1.5436e-06,  3.0675e-05, -9.9534e-06,\n",
      "        -1.3695e-05, -7.6439e-06,  5.4244e-06, -1.6040e-05,  2.7760e-05,  8.4634e-06,  5.0531e-06, -3.4538e-05,  7.8732e-07, -2.0793e-05, -6.9456e-06,\n",
      "        -3.0619e-05, -1.9130e-05,  3.6872e-05,  1.7625e-05, -3.7307e-06,  1.3759e-06, -4.9903e-07], device='cuda:0'), 'exp_avg_sq': tensor([5.2980e-08, 3.5340e-08, 5.3162e-08, 4.6692e-08, 4.0451e-08, 2.2112e-08, 2.3898e-08, 2.9243e-08, 3.4472e-08, 2.9705e-08, 7.9767e-08,\n",
      "        3.5573e-08, 2.4950e-08, 6.0299e-08, 1.1435e-07, 4.7746e-08, 3.0782e-08, 2.7474e-08, 3.4703e-08, 3.6948e-08, 3.9635e-08, 2.9590e-08,\n",
      "        2.8967e-08, 3.9293e-08, 4.0957e-08, 2.7212e-08, 5.0661e-08, 3.5323e-08, 3.0110e-08, 3.7743e-08, 3.4479e-08, 2.1999e-08, 3.6831e-08,\n",
      "        2.4458e-08, 2.5130e-08, 2.9385e-08, 3.1341e-08, 4.6922e-08, 2.5887e-08, 4.9542e-08, 7.4261e-08, 2.7602e-08, 3.0407e-08, 4.1557e-08,\n",
      "        2.5817e-08, 2.7511e-08, 4.0888e-08, 3.9957e-08, 4.4086e-08, 4.2341e-08, 1.3477e-07, 7.8020e-08, 1.9613e-08, 1.7933e-08, 6.2792e-08,\n",
      "        2.8807e-08, 3.8168e-08, 3.6113e-08, 4.5862e-08, 4.9271e-08, 5.0315e-08, 4.1017e-08, 9.4651e-08, 2.4802e-08, 2.4730e-08, 3.2019e-08,\n",
      "        2.8316e-08, 4.1044e-08, 4.9884e-08, 3.0492e-08, 3.3353e-08, 3.6611e-08, 5.6585e-08, 5.8480e-08, 3.5543e-08, 6.1545e-08, 3.3339e-08,\n",
      "        4.2000e-08, 3.2098e-08, 5.2941e-08, 2.7593e-08, 4.0021e-08, 3.0641e-08, 3.0578e-08, 4.2242e-08, 2.7202e-08, 3.6501e-08, 2.8775e-08,\n",
      "        3.2884e-08, 3.9697e-08, 4.0142e-08, 2.5233e-08, 6.4298e-08, 4.9270e-08, 4.7696e-08, 2.2789e-08, 3.4367e-08, 1.0441e-07, 5.5066e-08,\n",
      "        5.7893e-08, 4.8279e-08, 5.9310e-08, 5.2852e-08, 4.7148e-08, 2.5643e-08, 7.0721e-08, 1.2291e-07, 4.5589e-08, 4.6933e-08, 3.6482e-08,\n",
      "        4.2104e-08, 3.5399e-08, 2.7905e-08, 5.8891e-08, 3.7352e-08, 4.5510e-08, 4.0164e-08, 4.0302e-08, 2.2490e-08, 4.4307e-08, 4.6272e-08,\n",
      "        2.4616e-08, 6.0393e-08, 5.1654e-08, 6.4819e-08, 4.7805e-08, 4.9520e-08, 2.4184e-08, 6.7013e-08, 4.2784e-08, 2.4188e-08, 3.1418e-08,\n",
      "        2.3817e-08, 4.5741e-08, 2.5468e-08, 3.8548e-08, 5.0752e-08, 3.8824e-08, 1.8461e-08, 4.1082e-08, 4.3565e-08, 3.2974e-08, 5.1548e-08,\n",
      "        4.1067e-08, 2.2651e-08, 3.2025e-08, 2.0046e-08, 3.5564e-08, 4.7870e-08, 2.1567e-08], device='cuda:0')}, 6: {'step': tensor(280000.), 'exp_avg': tensor([[ 8.6872e-05,  2.2641e-05, -6.9405e-05,  ..., -2.1136e-06,  3.6520e-05,  1.4298e-05],\n",
      "        [ 5.1873e-06,  7.1215e-06, -2.9397e-06,  ...,  7.6402e-07, -1.9922e-06,  2.5776e-06],\n",
      "        [-9.6996e-05, -4.5468e-05, -9.6406e-06,  ...,  6.1080e-06, -4.6716e-05,  2.2733e-05],\n",
      "        ...,\n",
      "        [-5.4787e-06,  2.8610e-06,  2.4998e-06,  ..., -2.9211e-06, -2.8829e-06, -2.6791e-06],\n",
      "        [-6.2204e-06, -6.2670e-07,  6.4970e-07,  ...,  1.1730e-06,  4.4893e-07,  3.4813e-07],\n",
      "        [ 3.9974e-07, -1.0382e-06,  2.8232e-06,  ..., -1.4850e-05, -1.4193e-06, -4.6229e-06]], device='cuda:0'), 'exp_avg_sq': tensor([[4.9651e-07, 2.1113e-08, 9.8316e-08,  ..., 1.1152e-08, 1.2830e-07, 1.0131e-08],\n",
      "        [1.6533e-09, 3.3976e-10, 2.9802e-10,  ..., 2.3603e-10, 2.8840e-10, 1.8300e-10],\n",
      "        [4.3667e-07, 1.9070e-08, 8.3618e-08,  ..., 1.0073e-08, 1.0793e-07, 8.9537e-09],\n",
      "        ...,\n",
      "        [8.1420e-09, 1.5608e-09, 2.6228e-09,  ..., 1.5237e-09, 1.4161e-09, 1.4412e-09],\n",
      "        [7.4068e-10, 1.4694e-10, 2.8083e-10,  ..., 2.1109e-10, 2.8233e-10, 8.5078e-11],\n",
      "        [1.0164e-09, 1.4104e-09, 1.0238e-09,  ..., 1.1793e-09, 5.1420e-10, 8.6261e-10]], device='cuda:0')}, 7: {'step': tensor(280000.), 'exp_avg': tensor([-4.3722e-05, -1.7594e-06,  2.1868e-05,  2.9056e-07,  5.2190e-07, -6.9406e-06,  9.9824e-06, -4.6252e-07,  4.5564e-07,  8.7771e-07,  2.2431e-05,\n",
      "         1.6325e-07,  6.9277e-06,  7.1577e-06,  5.6052e-45,  2.2439e-07, -6.3110e-07,  7.3422e-07,  9.0521e-06,  2.5707e-07, -2.1110e-07,  1.6697e-06,\n",
      "        -7.6642e-06,  5.3628e-08, -2.7076e-07,  4.4119e-07,  2.3035e-06, -1.1132e-06,  5.6466e-06,  3.6911e-07, -2.4438e-06,  1.9171e-07,  5.9965e-07,\n",
      "         2.1517e-05, -4.2311e-06,  1.0949e-06, -1.1808e-06, -3.5922e-06, -2.2638e-06, -3.4601e-07, -3.2235e-07,  8.0498e-07,  1.4232e-05,  3.1248e-07,\n",
      "         2.0077e-08,  3.0539e-07,  8.7636e-07,  8.1351e-06,  1.6393e-05,  3.1851e-07, -5.4604e-07, -1.6030e-05, -1.3586e-07, -1.0696e-05,  3.7754e-06,\n",
      "        -9.7162e-06, -2.3092e-08, -9.2300e-07,  1.2640e-07,  8.9650e-06,  1.3389e-06, -1.0412e-05,  6.9207e-08,  1.2474e-06,  3.0040e-07, -1.8151e-05,\n",
      "        -1.1118e-05, -1.0921e-07, -4.7999e-07,  6.6618e-06, -1.2260e-06,  7.8619e-07, -2.0573e-06, -3.9681e-07,  1.0062e-06, -8.8176e-07, -5.8272e-06,\n",
      "        -7.2770e-07,  9.6949e-07,  7.5842e-06, -1.0775e-05,  7.2644e-07,  1.0393e-06,  2.5495e-05,  1.9379e-05,  8.5316e-06, -1.0231e-07, -1.8298e-07,\n",
      "        -8.6325e-07,  1.5031e-06,  5.6630e-07,  4.2999e-08, -9.1521e-06,  8.3497e-06,  1.2296e-07, -1.8184e-07,  6.7199e-07,  2.0342e-06,  1.4585e-08,\n",
      "         9.2713e-08,  1.1902e-05, -1.7152e-07, -3.0181e-08, -1.1715e-06, -1.6191e-07,  1.4653e-06,  2.3167e-09,  3.1499e-08,  4.3060e-07,  2.2699e-05,\n",
      "        -7.8940e-07,  5.9611e-06,  4.2738e-08, -1.9517e-06, -1.7674e-05,  1.4216e-05,  8.8348e-07, -3.2454e-06, -1.9442e-06,  9.3435e-07, -5.4000e-08,\n",
      "         2.0842e-07,  1.7506e-06, -9.4596e-07, -1.9578e-05, -1.4291e-06,  1.0294e-07, -7.1670e-08,  7.9439e-06,  1.8609e-06,  4.8758e-07, -3.1866e-07,\n",
      "         3.3772e-07,  5.4579e-06,  3.7807e-08,  1.0827e-06, -1.3302e-05,  3.3620e-07,  5.5715e-08,  4.3332e-07,  4.8470e-07,  6.3436e-06, -1.3860e-06,\n",
      "         5.4651e-06,  4.5770e-06, -8.2138e-07, -2.5994e-05, -7.4001e-07, -3.4491e-06, -5.3370e-07, -2.0439e-07,  1.9365e-05, -1.7711e-05,  6.5936e-06,\n",
      "        -1.7530e-08, -2.4416e-06, -1.2318e-06,  6.8320e-06, -3.6919e-07, -1.1827e-06, -9.7324e-07,  1.3195e-05, -2.7505e-05, -3.6951e-08,  1.1780e-07,\n",
      "         1.7966e-05, -9.3803e-06,  4.9570e-08,  1.9179e-06, -4.5047e-07, -1.5685e-08,  2.7198e-05, -1.3673e-06, -3.7005e-06,  9.1939e-07, -1.7045e-05,\n",
      "        -1.3604e-06, -8.0356e-07,  2.7818e-06, -8.5330e-07,  7.8756e-07, -1.2957e-06, -4.0887e-06, -6.9100e-07, -1.7069e-06,  4.7322e-06,  2.3036e-06,\n",
      "        -1.9936e-07, -1.5584e-06,  5.5841e-06,  4.5158e-06,  8.0726e-08,  5.0803e-11, -1.9258e-07,  3.4883e-07,  1.0019e-06, -6.0827e-05, -1.0417e-08,\n",
      "         4.9909e-06, -6.7425e-07,  5.2897e-07, -6.5798e-06, -2.1437e-08,  2.6905e-05,  1.1100e-07,  4.2112e-07,  3.4573e-07, -7.3108e-06, -1.5813e-05,\n",
      "         1.9856e-05,  8.2161e-07, -1.2087e-05,  3.9794e-07, -1.5323e-06, -2.7465e-07,  3.0796e-06, -3.3793e-05,  1.4706e-05, -4.6573e-06, -2.9477e-07,\n",
      "        -6.3833e-07,  4.5763e-08,  3.4413e-06,  3.2246e-05, -6.5388e-07,  2.6612e-07,  1.3702e-07,  1.5136e-05, -4.0401e-07,  6.5645e-07, -1.9042e-07,\n",
      "         1.5791e-06,  6.1694e-07, -1.1247e-07,  3.1030e-05,  1.5726e-06,  2.2143e-05, -2.2246e-05,  1.1130e-08,  1.0836e-06, -1.8289e-07, -2.9071e-05,\n",
      "        -2.1681e-05,  4.0317e-05, -2.2917e-07,  1.0427e-05,  5.5787e-08,  2.6163e-05,  5.1738e-06,  5.9854e-08,  1.5048e-07,  1.1337e-05,  3.2924e-08,\n",
      "        -2.1472e-07,  4.1162e-08, -1.9169e-05,  5.6096e-06,  1.1880e-06,  3.0553e-07,  7.2562e-06,  2.2128e-07, -3.2113e-05,  2.7619e-06,  2.4766e-06,\n",
      "         5.6249e-06,  9.4069e-07, -4.9035e-09,  2.2561e-05,  6.4694e-07,  1.3527e-06, -3.0063e-05,  9.4397e-08,  2.0927e-05, -3.6124e-06, -1.7868e-05,\n",
      "         6.8081e-09,  7.9796e-08,  1.4652e-06, -1.2900e-05,  2.9252e-07, -2.0385e-09,  3.6936e-07, -3.6467e-05, -5.8025e-06,  2.9909e-06, -2.8391e-05,\n",
      "        -1.2415e-06, -4.0341e-07, -2.3132e-06, -1.6898e-07, -4.2756e-06, -1.4191e-06, -1.1057e-05,  9.7001e-06, -3.6059e-06,  1.2137e-07,  7.9217e-06,\n",
      "        -1.1371e-05,  4.0878e-07, -5.7945e-07, -7.6045e-06, -1.6501e-06,  1.7112e-07,  2.5749e-05,  9.5410e-07,  3.2357e-05,  4.5075e-07, -3.9518e-07,\n",
      "         2.2408e-06,  4.3506e-07, -2.1500e-07, -3.0709e-07, -8.9465e-06, -2.6053e-06, -2.4679e-10,  3.8502e-07, -2.1916e-05, -1.5269e-07, -9.8537e-06,\n",
      "        -1.8236e-06,  7.2432e-09,  7.5403e-08,  1.5267e-06, -5.7166e-07, -4.1961e-08, -1.0398e-06, -2.9047e-06, -2.3707e-06,  2.8587e-05, -1.7079e-09,\n",
      "        -6.3061e-07, -1.2775e-05,  1.5650e-07,  1.0319e-07, -2.0665e-05, -4.8831e-08, -1.0547e-06, -7.7870e-07,  6.6479e-06, -2.6548e-05, -7.8011e-07,\n",
      "        -1.6691e-06, -1.5513e-06,  5.6052e-45, -2.5411e-08,  7.1916e-06,  2.1129e-05,  2.1750e-05, -1.3657e-07,  4.5182e-08, -4.5916e-07, -4.2019e-06,\n",
      "        -5.4088e-07,  5.8073e-07,  1.5264e-05, -1.8229e-05,  5.2155e-08, -1.0230e-06, -1.0899e-05, -1.8974e-07, -4.9265e-08,  2.8682e-07,  8.6092e-06,\n",
      "        -1.2707e-06,  1.3069e-07,  5.6007e-07,  1.2485e-06,  6.8507e-07,  4.1287e-08, -4.9192e-07,  2.6354e-05,  4.9833e-08,  6.0768e-08, -2.4680e-07,\n",
      "         1.0767e-05,  2.1713e-06, -3.0766e-05, -7.7114e-07,  1.6662e-05, -1.0782e-05,  1.6608e-07,  2.5956e-05, -6.6747e-07,  1.4191e-05,  1.4274e-05,\n",
      "         9.1780e-07,  1.2949e-08,  7.9791e-06,  5.8237e-06, -2.0548e-07,  2.0326e-06, -2.7285e-05, -4.6535e-06, -1.3207e-05, -3.1414e-06, -4.0024e-06,\n",
      "        -4.8869e-06,  1.2842e-06,  1.1638e-06,  2.0316e-05,  1.2839e-05, -7.1779e-06, -1.6193e-06, -9.0494e-08,  5.8272e-07, -2.3381e-06,  2.2788e-07,\n",
      "        -5.8521e-06,  4.9599e-07, -1.0477e-07, -9.6413e-08,  9.7241e-08,  3.9089e-07, -7.9062e-08, -7.6233e-06, -5.3856e-07,  2.2475e-05, -1.9338e-06,\n",
      "        -4.3308e-07,  1.0497e-05, -2.6980e-07,  8.1110e-06, -1.0989e-05,  2.1614e-07, -2.6446e-10, -4.0188e-07,  2.2466e-06,  6.8057e-07,  5.1183e-07,\n",
      "         5.0051e-06,  1.0454e-05, -7.4726e-06,  2.1367e-06,  1.3781e-06,  1.2580e-05,  5.6052e-45, -1.3646e-05, -5.0226e-07,  1.2394e-07,  1.2766e-05,\n",
      "        -7.8057e-07,  3.6569e-06, -1.8028e-05, -1.1814e-05,  2.7429e-07, -9.9687e-06, -1.1547e-05, -2.7526e-05, -2.1748e-07,  7.6105e-08, -1.6968e-06,\n",
      "        -1.3484e-05,  1.1994e-07, -1.4439e-06, -1.1620e-06, -1.6305e-07,  1.5306e-06,  3.2372e-07, -4.0189e-07, -6.8711e-06,  3.3688e-06, -3.8470e-06,\n",
      "        -9.2996e-06,  1.8915e-06,  1.2491e-06, -1.7680e-05,  7.0345e-09, -3.4085e-07, -1.0577e-06,  5.6052e-45, -1.2545e-05,  2.3221e-06,  4.5818e-07,\n",
      "         1.8581e-05, -9.2696e-07, -3.3617e-07, -7.6130e-07,  3.3923e-06,  4.9111e-07,  5.2048e-07, -2.2308e-05, -8.3656e-07,  5.9389e-08, -1.4771e-05,\n",
      "         1.0977e-05,  3.2713e-06, -9.3849e-06, -1.7562e-06,  8.4399e-08, -8.2991e-07,  1.8016e-05,  8.3468e-06,  1.5960e-06,  6.4783e-06,  7.2185e-07,\n",
      "        -1.5871e-05,  5.4029e-08,  1.0545e-06,  7.9517e-06, -1.3098e-06,  1.0851e-06,  1.9050e-06, -3.7588e-09,  1.7874e-06,  1.2628e-07, -5.1989e-07,\n",
      "        -1.3286e-07,  5.0516e-07, -4.1170e-08,  1.1856e-07,  6.2489e-07,  6.8967e-07], device='cuda:0'), 'exp_avg_sq': tensor([5.8430e-08, 3.3075e-11, 5.0130e-08, 1.7330e-11, 4.0590e-12, 2.4907e-08, 6.2285e-10, 6.6176e-12, 4.9014e-12, 3.5971e-11, 4.4421e-08,\n",
      "        5.0137e-12, 3.0124e-08, 3.2311e-08, 4.4377e-18, 3.5142e-08, 2.7858e-11, 9.7917e-12, 2.5750e-08, 9.6338e-11, 6.3603e-12, 1.0135e-11,\n",
      "        4.7730e-08, 6.3527e-12, 3.9585e-11, 2.1773e-11, 1.2234e-11, 1.3672e-10, 1.8710e-08, 6.9766e-11, 9.8720e-11, 2.3424e-12, 1.4194e-10,\n",
      "        3.9021e-08, 5.7680e-11, 2.1338e-11, 9.0502e-11, 1.7609e-10, 4.0744e-11, 3.7276e-11, 7.8593e-10, 4.2938e-08, 1.9991e-08, 2.2589e-11,\n",
      "        1.2605e-12, 4.0558e-11, 9.6231e-11, 1.0890e-09, 2.9670e-08, 5.5570e-12, 7.2900e-12, 2.6606e-08, 7.0617e-12, 4.0079e-08, 2.0675e-08,\n",
      "        3.5731e-08, 1.1382e-11, 3.1556e-11, 8.0965e-12, 1.7280e-08, 1.2905e-10, 2.1981e-08, 1.8456e-11, 2.9935e-11, 4.8961e-11, 4.4160e-08,\n",
      "        1.0775e-09, 1.2258e-11, 1.9418e-11, 2.3255e-08, 2.3476e-11, 2.8818e-11, 3.1199e-11, 5.0686e-11, 4.5048e-11, 3.0421e-11, 2.3964e-08,\n",
      "        1.5916e-11, 3.5893e-10, 2.5689e-08, 2.5262e-08, 1.4370e-12, 2.6805e-12, 3.8574e-08, 3.7460e-08, 2.4393e-08, 4.8318e-11, 4.6884e-11,\n",
      "        3.4821e-11, 3.0538e-11, 9.5567e-12, 8.3397e-12, 1.2022e-09, 1.8326e-08, 2.1112e-11, 1.1103e-11, 1.5593e-11, 2.1246e-11, 2.8294e-12,\n",
      "        1.6552e-11, 1.0754e-10, 1.3821e-11, 8.5019e-12, 1.3126e-10, 1.0222e-11, 3.9880e-11, 1.3109e-11, 9.0193e-12, 1.1085e-11, 1.6989e-08,\n",
      "        1.1202e-11, 3.8673e-08, 7.8679e-12, 3.8237e-08, 1.9789e-08, 1.7953e-08, 2.5541e-08, 3.5997e-08, 1.7940e-10, 1.6304e-10, 1.4396e-12,\n",
      "        5.1071e-13, 1.2796e-10, 4.0380e-11, 5.2893e-08, 2.0270e-11, 1.9913e-11, 9.0508e-12, 1.1548e-09, 2.1053e-11, 7.7003e-12, 4.3315e-12,\n",
      "        1.5687e-11, 8.5239e-10, 1.9583e-11, 1.2702e-10, 3.0201e-08, 1.8162e-08, 4.7184e-12, 1.6470e-11, 1.4400e-10, 1.3972e-08, 1.1898e-11,\n",
      "        2.1921e-08, 2.8699e-08, 1.3840e-11, 6.9596e-08, 1.2023e-11, 2.2509e-08, 1.2990e-11, 6.0769e-12, 3.5108e-08, 3.8299e-08, 2.2742e-08,\n",
      "        1.0590e-11, 3.8601e-12, 1.1766e-10, 8.8215e-08, 5.2806e-12, 8.0779e-11, 7.2689e-12, 1.9933e-08, 2.1100e-08, 3.4830e-12, 4.9748e-12,\n",
      "        2.4235e-08, 2.2389e-08, 3.2907e-12, 1.4971e-08, 9.4603e-12, 1.3846e-11, 2.9394e-08, 3.8361e-11, 6.0615e-11, 1.9344e-11, 2.4274e-08,\n",
      "        8.2725e-11, 7.0984e-12, 6.2591e-11, 3.4671e-11, 2.0422e-11, 1.4219e-09, 2.8335e-10, 1.2975e-11, 2.7228e-11, 5.1621e-08, 4.1494e-10,\n",
      "        1.0430e-11, 3.2891e-11, 2.1134e-08, 4.7959e-10, 1.9165e-10, 4.6626e-12, 4.8498e-12, 7.0552e-12, 8.1686e-11, 6.4264e-08, 1.6610e-11,\n",
      "        4.7011e-08, 4.9525e-11, 1.1281e-11, 3.0427e-08, 4.2626e-12, 9.5304e-09, 3.1735e-08, 1.1791e-10, 1.8355e-11, 1.1713e-08, 4.2400e-08,\n",
      "        3.9599e-08, 3.2704e-10, 2.0052e-08, 2.8891e-08, 6.1821e-11, 7.5317e-11, 7.9110e-11, 2.9927e-08, 4.2290e-08, 9.7313e-11, 3.0900e-12,\n",
      "        1.7499e-11, 4.7802e-12, 3.4128e-11, 2.7244e-08, 2.3899e-11, 8.5185e-11, 9.5800e-12, 9.7092e-08, 2.0348e-11, 3.3963e-08, 1.5058e-10,\n",
      "        3.3081e-11, 3.6965e-11, 1.5168e-11, 4.3403e-08, 2.8798e-08, 3.9565e-08, 2.5507e-08, 5.5057e-12, 3.1072e-11, 1.2920e-11, 2.0175e-08,\n",
      "        2.2886e-08, 4.3068e-08, 1.1150e-11, 3.5213e-08, 6.0039e-12, 5.3853e-08, 3.7304e-08, 2.7630e-12, 6.9861e-12, 2.4663e-08, 2.6081e-12,\n",
      "        5.6883e-12, 7.8210e-12, 2.9591e-08, 1.4304e-08, 3.9894e-11, 6.5460e-12, 4.3594e-08, 5.4762e-11, 4.7099e-08, 3.2726e-11, 9.7649e-11,\n",
      "        4.2931e-08, 3.4347e-11, 3.5963e-12, 3.4009e-08, 3.8844e-11, 4.2216e-12, 3.4299e-08, 4.0700e-12, 1.8917e-08, 1.8896e-08, 1.5626e-09,\n",
      "        8.5026e-12, 1.4482e-10, 6.1257e-12, 4.0727e-08, 3.2593e-11, 4.0403e-12, 5.5238e-12, 3.6205e-08, 5.9022e-08, 1.4039e-11, 3.3679e-08,\n",
      "        2.8518e-10, 1.0456e-11, 1.2920e-10, 1.7596e-11, 2.1831e-10, 3.9011e-11, 5.2812e-08, 1.6207e-08, 6.3092e-08, 9.9733e-12, 1.6659e-08,\n",
      "        1.9168e-08, 1.6052e-11, 1.2470e-11, 2.3117e-08, 1.7831e-08, 7.3784e-12, 5.4274e-08, 1.5269e-11, 4.5926e-08, 8.4955e-12, 8.9091e-12,\n",
      "        4.8538e-11, 4.9875e-11, 3.8944e-11, 1.5007e-11, 4.2868e-08, 9.4081e-10, 2.9579e-11, 6.8038e-12, 8.1410e-08, 8.3477e-12, 1.9614e-08,\n",
      "        6.1970e-12, 1.0139e-11, 2.5928e-11, 1.0531e-10, 1.7843e-11, 1.5367e-11, 2.8233e-11, 4.7510e-08, 1.1160e-10, 4.7982e-08, 2.8800e-13,\n",
      "        8.5974e-12, 4.6630e-08, 1.3534e-11, 5.1793e-11, 2.9811e-08, 2.7996e-12, 6.3788e-11, 2.4433e-11, 2.5217e-10, 2.6065e-08, 9.4995e-11,\n",
      "        1.4160e-09, 2.6186e-10, 1.9198e-19, 1.9942e-11, 2.7828e-08, 3.4981e-08, 5.1848e-08, 6.5179e-12, 2.0095e-11, 3.3198e-11, 1.0675e-10,\n",
      "        3.6298e-12, 4.1932e-11, 4.7861e-10, 1.9370e-08, 5.2423e-12, 8.4076e-12, 2.7591e-08, 3.3344e-12, 9.8541e-13, 5.2014e-11, 9.4120e-10,\n",
      "        2.4601e-11, 2.4782e-11, 6.0140e-11, 1.0598e-11, 1.2858e-11, 1.1263e-11, 7.1273e-12, 6.1539e-08, 7.3873e-12, 2.5149e-11, 3.6426e-12,\n",
      "        2.8783e-08, 1.2094e-10, 3.6666e-08, 1.4534e-11, 1.1905e-08, 3.8594e-08, 1.8156e-11, 2.2348e-08, 2.1711e-11, 1.6140e-08, 2.2724e-08,\n",
      "        5.5180e-11, 7.6846e-12, 2.9254e-08, 1.4590e-08, 4.0185e-11, 3.2342e-12, 5.5010e-08, 1.3088e-09, 3.4379e-08, 3.2425e-08, 1.9495e-08,\n",
      "        2.6824e-10, 7.0820e-11, 1.8609e-10, 6.7542e-08, 2.9330e-08, 2.7269e-08, 1.1401e-11, 6.2993e-12, 4.5749e-12, 8.7144e-11, 1.5574e-11,\n",
      "        1.6874e-08, 2.3484e-11, 1.2170e-10, 2.7335e-10, 8.3849e-12, 1.6229e-11, 1.4210e-12, 5.1123e-08, 1.3067e-10, 2.1909e-08, 1.9396e-08,\n",
      "        1.5347e-11, 2.2056e-08, 1.2471e-11, 5.0660e-08, 1.7021e-09, 4.7754e-11, 6.7570e-11, 1.9553e-11, 1.6251e-11, 1.5461e-11, 6.9556e-11,\n",
      "        1.7743e-08, 4.6041e-08, 3.7448e-08, 1.0906e-10, 9.3000e-08, 7.4319e-08, 4.4920e-34, 1.0710e-07, 5.8304e-12, 1.0940e-11, 3.8638e-08,\n",
      "        1.8650e-11, 1.6817e-10, 2.7556e-08, 4.0450e-08, 1.1149e-10, 2.7454e-08, 3.2579e-08, 3.8450e-08, 1.3449e-11, 1.1462e-11, 1.9123e-11,\n",
      "        1.5765e-08, 1.0266e-11, 3.8075e-11, 6.2386e-12, 1.3101e-11, 9.6336e-12, 6.0885e-12, 4.0275e-11, 1.0004e-10, 1.9258e-10, 6.5482e-08,\n",
      "        3.9372e-08, 5.7659e-11, 1.5039e-11, 1.8995e-08, 4.9865e-12, 8.4913e-12, 3.4657e-10, 2.0703e-16, 7.1496e-08, 1.6623e-09, 3.4902e-10,\n",
      "        5.4318e-08, 1.2516e-11, 1.1914e-11, 1.6406e-11, 8.6882e-11, 6.3314e-12, 8.1529e-11, 6.1176e-08, 1.4302e-11, 1.3094e-11, 2.6730e-08,\n",
      "        5.2775e-08, 6.5906e-10, 2.1984e-08, 7.5904e-11, 1.2764e-11, 2.0373e-11, 2.5989e-08, 1.8676e-08, 5.0605e-11, 2.4155e-08, 1.0122e-10,\n",
      "        3.1813e-08, 3.8886e-12, 3.1066e-08, 1.8066e-08, 9.1394e-12, 2.8095e-11, 1.0160e-11, 7.6278e-12, 3.3876e-11, 2.1669e-11, 3.7483e-12,\n",
      "        1.8555e-12, 7.9493e-12, 2.7120e-12, 6.8684e-11, 1.1588e-11, 1.3549e-10], device='cuda:0')}, 8: {'step': tensor(280000.), 'exp_avg': tensor([[ 5.6052e-45,  5.6052e-45,  5.6052e-45,  ...,  5.6052e-45,  5.6052e-45, -5.6052e-45],\n",
      "        [ 1.5473e-05,  1.1628e-06,  3.5337e-06,  ...,  5.3773e-06,  1.1609e-06,  6.0169e-06],\n",
      "        [ 7.8470e-05, -1.0194e-06,  6.7899e-05,  ...,  2.4340e-06,  1.3992e-06, -2.1585e-05],\n",
      "        ...,\n",
      "        [ 2.6823e-05, -6.3601e-07,  2.3206e-05,  ...,  1.0379e-05, -1.1236e-06, -7.2883e-06],\n",
      "        [-9.2609e-06,  6.8247e-10, -1.2225e-05,  ...,  2.9783e-06,  5.6052e-45, -2.7333e-22],\n",
      "        [-5.6052e-45, -5.6052e-45, -5.6052e-45,  ..., -5.6052e-45,  5.6052e-45,  5.6052e-45]], device='cuda:0'), 'exp_avg_sq': tensor([[7.0065e-43, 7.0065e-43, 7.0065e-43,  ..., 7.0065e-43, 7.0065e-43, 7.0065e-43],\n",
      "        [2.6258e-07, 1.9480e-10, 2.1663e-07,  ..., 2.4029e-09, 1.0110e-10, 2.8651e-09],\n",
      "        [3.7629e-07, 1.6734e-10, 3.0758e-07,  ..., 3.3172e-09, 1.1691e-10, 3.8060e-09],\n",
      "        ...,\n",
      "        [2.1942e-07, 1.7019e-10, 1.7878e-07,  ..., 3.0716e-09, 5.3773e-11, 3.7638e-09],\n",
      "        [2.2468e-09, 2.4421e-11, 7.7363e-10,  ..., 1.3830e-09, 2.2613e-22, 1.1860e-12],\n",
      "        [7.0065e-43, 7.0065e-43, 7.0065e-43,  ..., 7.0065e-43, 7.0065e-43, 7.0065e-43]], device='cuda:0')}, 9: {'step': tensor(280000.), 'exp_avg': tensor([ 5.6052e-45,  5.5312e-06,  4.2928e-06,  ...,  1.1459e-05, -1.0950e-06, -5.6052e-45], device='cuda:0'), 'exp_avg_sq': tensor([7.0065e-43, 1.6390e-08, 2.3322e-08,  ..., 1.3068e-08, 2.0448e-11, 7.0065e-43], device='cuda:0')}, 10: {'step': tensor(280000.), 'exp_avg': tensor([[-5.6052e-45, -5.4278e-06,  2.9134e-07,  ..., -2.1727e-06,  1.8228e-07, -5.6052e-45],\n",
      "        [-5.6052e-45,  1.2185e-06,  3.6577e-06,  ...,  4.3584e-06, -4.3674e-08, -5.6052e-45],\n",
      "        [-5.6052e-45, -1.7691e-06, -4.2020e-07,  ..., -1.8418e-07,  8.8451e-08,  5.6052e-45],\n",
      "        ...,\n",
      "        [-5.6052e-45, -4.8917e-06, -1.3128e-05,  ..., -6.9230e-06, -2.1405e-07,  5.6052e-45],\n",
      "        [ 5.6052e-45,  4.1541e-06,  2.3482e-05,  ...,  5.0844e-07, -4.1000e-07, -5.6052e-45],\n",
      "        [ 5.6052e-45, -1.9266e-05, -1.3164e-05,  ..., -1.9171e-05, -5.5548e-07,  5.6052e-45]], device='cuda:0'), 'exp_avg_sq': tensor([[7.0065e-43, 3.6019e-09, 2.6224e-09,  ..., 2.6315e-09, 2.6800e-11, 7.0065e-43],\n",
      "        [7.0065e-43, 3.5621e-09, 2.6071e-09,  ..., 2.5812e-09, 1.7972e-11, 7.0065e-43],\n",
      "        [7.0065e-43, 3.5358e-09, 2.6852e-09,  ..., 2.5800e-09, 2.0109e-11, 7.0065e-43],\n",
      "        ...,\n",
      "        [7.0065e-43, 9.2473e-09, 6.8283e-09,  ..., 6.3052e-09, 3.4778e-11, 7.0065e-43],\n",
      "        [7.0065e-43, 7.6810e-09, 5.2398e-09,  ..., 4.9706e-09, 3.7212e-11, 7.0065e-43],\n",
      "        [7.0065e-43, 8.2299e-09, 5.6367e-09,  ..., 5.1894e-09, 4.4733e-11, 7.0065e-43]], device='cuda:0')}, 11: {'step': tensor(280000.), 'exp_avg': tensor([-2.4744e-06,  2.0175e-06,  1.7436e-07,  ..., -3.9693e-06,  5.2728e-06, -1.2998e-05], device='cuda:0'), 'exp_avg_sq': tensor([9.1095e-10, 9.2455e-10, 9.5947e-10,  ..., 1.6798e-09, 1.2975e-09, 1.1758e-09], device='cuda:0')}}, 'param_groups': [{'lr': 0.0001, 'betas': (0.9, 0.999), 'eps': 1e-08, 'weight_decay': 0, 'amsgrad': False, 'maximize': False, 'foreach': None, 'capturable': False, 'differentiable': False, 'fused': None, 'params': [0, 1, 2, 3, 4, 5, 6, 7, 8, 9, 10, 11]}]}\n"
     ]
    }
   ],
   "source": [
    "# for k,v in checkpoint['optimizers'].items():\n",
    "    # print(f\" {k:30}  tpye: {type(v)}\")\n",
    "checkpoint['optimizers']['prim']\n",
    "for k,v in checkpoint['optimizers_state_dict'].items():\n",
    "    print(f\" {k:30}  tpye: {type(v)}\")\n",
    "    print(v)\n"
   ]
  },
  {
   "cell_type": "code",
   "execution_count": 114,
   "id": "4e211777-5a66-46ff-b6b2-37b7cf72f498",
   "metadata": {
    "execution": {
     "iopub.execute_input": "2024-07-18T19:22:30.766785Z",
     "iopub.status.busy": "2024-07-18T19:22:30.766258Z",
     "iopub.status.idle": "2024-07-18T19:22:30.774860Z",
     "shell.execute_reply": "2024-07-18T19:22:30.773916Z",
     "shell.execute_reply.started": "2024-07-18T19:22:30.766744Z"
    }
   },
   "outputs": [
    {
     "name": "stdout",
     "output_type": "stream",
     "text": [
      "{'factor': 0.5, 'optimizer': Adam (\n",
      "Parameter Group 0\n",
      "    amsgrad: False\n",
      "    betas: (0.9, 0.999)\n",
      "    capturable: False\n",
      "    differentiable: False\n",
      "    eps: 1e-08\n",
      "    foreach: None\n",
      "    fused: None\n",
      "    lr: 0.0001\n",
      "    maximize: False\n",
      "    weight_decay: 0\n",
      "), 'min_lrs': [0], 'patience': 50, 'verbose': False, 'cooldown': 10, 'cooldown_counter': 0, 'mode': 'min', 'threshold': 1e-06, 'threshold_mode': 'rel', 'best': 0.0886982049793005, 'num_bad_epochs': 0, 'mode_worse': inf, 'eps': 1e-08, 'last_epoch': 700, '_last_lr': [0.0001]}\n"
     ]
    },
    {
     "data": {
      "text/plain": [
       "{'factor': 0.5,\n",
       " 'min_lrs': [0],\n",
       " 'patience': 50,\n",
       " 'verbose': False,\n",
       " 'cooldown': 10,\n",
       " 'cooldown_counter': 0,\n",
       " 'mode': 'min',\n",
       " 'threshold': 1e-06,\n",
       " 'threshold_mode': 'rel',\n",
       " 'best': 0.0886982049793005,\n",
       " 'num_bad_epochs': 0,\n",
       " 'mode_worse': inf,\n",
       " 'eps': 1e-08,\n",
       " 'last_epoch': 700,\n",
       " '_last_lr': [0.0001]}"
      ]
     },
     "execution_count": 114,
     "metadata": {},
     "output_type": "execute_result"
    }
   ],
   "source": [
    "# for k,v in checkpoint['schedulers'].items():\n",
    "    # print(f\" {k:30}  tpye: {type(v)}\")    \n",
    "print(checkpoint['schedulers']['prim'].__dict__)\n",
    "checkpoint['schedulers_state_dict']['prim'] \n"
   ]
  },
  {
   "cell_type": "code",
   "execution_count": 101,
   "id": "4aa14b14-4a32-4c87-b1ab-08febc0573f9",
   "metadata": {
    "execution": {
     "iopub.execute_input": "2024-07-18T19:16:47.983669Z",
     "iopub.status.busy": "2024-07-18T19:16:47.982604Z",
     "iopub.status.idle": "2024-07-18T19:16:48.046038Z",
     "shell.execute_reply": "2024-07-18T19:16:48.045294Z",
     "shell.execute_reply.started": "2024-07-18T19:16:47.983626Z"
    }
   },
   "outputs": [
    {
     "name": "stdout",
     "output_type": "stream",
     "text": [
      " name                            tpye: <class 'str'>               values: AE \n",
      " layer_types                     tpye: <class 'list'>              values: ['linear', 'relu', 'linear', 'relu', 'linear', 'linear', 'relu', 'linear', 'relu', 'linear'] \n",
      " non_linearities                 tpye: <class 'list'>              values: ['relu', 'relu', 'relu', 'relu'] \n",
      " monitor_grads_layer             tpye: <class 'NoneType'>          values: None \n",
      " use_single_loss                 tpye: <class 'bool'>              values: False \n",
      " optimizer                       tpye: <class 'NoneType'>          values: None \n",
      " scheduler                       tpye: <class 'NoneType'>          values: None \n",
      " learning_rate                   tpye: <class 'float'>             values: 0.0001 \n",
      " use_prim_optimizer              tpye: <class 'bool'>              values: True \n",
      " use_prim_scheduler              tpye: <class 'bool'>              values: True \n",
      " use_annealing                   tpye: <class 'bool'>              values: True \n",
      " temp_optimizer                  tpye: <class 'NoneType'>          values: None \n",
      " temp_scheduler                  tpye: <class 'NoneType'>          values: None \n",
      " temperatureLR                   tpye: <class 'float'>             values: 1e-05 \n",
      " use_temp_optimizer              tpye: <class 'bool'>              values: False \n",
      " use_temp_scheduler              tpye: <class 'bool'>              values: False \n",
      " adam_weight_decay               tpye: <class 'int'>               values: 0 \n",
      " SGD_weight_decay                tpye: <class 'int'>               values: 0 \n",
      " SGD_momentum                    tpye: <class 'int'>               values: 0 \n",
      " training                        tpye: <class 'bool'>              values: False \n",
      " mode                            tpye: <class 'str'>               values: latent_code \n",
      " device                          tpye: <class 'str'>               values: cuda:0 \n",
      " train_loss                      tpye: <class 'list'>              values: [] \n",
      " use_snnl                        tpye: <class 'bool'>              values: True \n",
      " loss_factor                     tpye: <class 'float'>             values: 1.0 \n",
      " snnl_factor                     tpye: <class 'float'>             values: 0.5 \n",
      " code_units                      tpye: <class 'int'>               values: 150 \n",
      " embedding_layer                 tpye: <class 'int'>               values: 4 \n",
      " stability_epsilon               tpye: <class 'float'>             values: 1e-05 \n",
      " verbose                         tpye: <class 'bool'>              values: False \n",
      " sample_size                     tpye: <class 'int'>               values: 3 \n",
      " R2_improvement_counter          tpye: <class 'int'>               values: 0 \n",
      " temp_decay_counter              tpye: <class 'int'>               values: 39 \n",
      " trn_best_metric                 tpye: <class 'float'>             values: 0.8384970561541901 \n",
      " trn_best_epoch                  tpye: <class 'int'>               values: 570 \n",
      " val_best_metric                 tpye: <class 'float'>             values: 0.8390806248904866 \n",
      " val_best_epoch                  tpye: <class 'int'>               values: 699 \n",
      " last_metric                     tpye: <class 'float'>             values: 0.0 \n",
      " training_history                tpye: <class 'dict'>              values: -- \n",
      " unsupervised                    tpye: <class 'bool'>              values: True \n",
      " calculate_metrics               tpye: <class 'method'>            values: <bound method Model.regression_metrics of Autoencoder(\n",
      "  (primary_criterion): MSELoss()\n",
      "  (snnl_criterion): SNNLoss()\n",
      "  (layers): ModuleList(\n",
      "    (0): Linear(in_features=1471, out_features=1024, bias=True)\n",
      "    (1): ReLU()\n",
      "    (2): Linear(in_features=1024, out_features=512, bias=True)\n",
      "    (3): ReLU()\n",
      "    (4): Linear(in_features=512, out_features=150, bias=True)\n",
      "    (5): Linear(in_features=150, out_features=512, bias=True)\n",
      "    (6): ReLU()\n",
      "    (7): Linear(in_features=512, out_features=1024, bias=True)\n",
      "    (8): ReLU()\n",
      "    (9): Linear(in_features=1024, out_features=1471, bias=True)\n",
      "  )\n",
      ")> \n",
      " anneal_patience                 tpye: <class 'int'>               values: 15 \n",
      " use_sum                         tpye: <class 'bool'>              values: False \n",
      " temp_params                     tpye: <class 'list'>              values: [Parameter containing:\n",
      "tensor([0.1333], device='cuda:0', requires_grad=True)] \n",
      " network_params                  tpye: <class 'list'>              values: [Parameter containing:\n",
      "tensor([[-0.0057, -0.0100,  0.0155,  ..., -0.0097,  0.0010,  0.0115],\n",
      "        [-0.0007, -0.0018,  0.0405,  ..., -0.0351, -0.0062,  0.0895],\n",
      "        [ 0.0032, -0.0045, -0.0037,  ..., -0.0136,  0.0082,  0.0505],\n",
      "        ...,\n",
      "        [-0.2202, -0.2297,  0.1214,  ..., -0.0196,  0.0194,  0.0487],\n",
      "        [-0.0163, -0.0192,  0.0127,  ...,  0.0491,  0.0212,  0.0642],\n",
      "        [-0.0604,  0.0534,  0.0018,  ...,  0.0483, -0.0497,  0.0191]], device='cuda:0', requires_grad=True), Parameter containing:\n",
      "tensor([-0.3477,  1.0831, -0.2105,  ...,  0.0710,  0.7058,  1.1716], device='cuda:0', requires_grad=True), Parameter containing:\n",
      "tensor([[-0.0721, -0.0441, -0.0764,  ...,  0.0542,  0.0689,  0.0008],\n",
      "        [-0.0086,  0.0229,  0.0131,  ..., -0.0129, -0.0131,  0.0017],\n",
      "        [-0.0089,  0.0066, -0.0752,  ...,  0.0320,  0.0079,  0.0196],\n",
      "        ...,\n",
      "        [-0.0127, -0.0338, -0.0427,  ..., -0.0215, -0.0121,  0.0089],\n",
      "        [ 0.0534, -0.0071,  0.0110,  ..., -0.0731, -0.0695,  0.0201],\n",
      "        [ 0.0435, -0.0196, -0.0975,  ...,  0.0317, -0.0496, -0.1014]], device='cuda:0', requires_grad=True), Parameter containing:\n",
      "tensor([-2.8986e-02,  6.3776e-02, -9.0050e-03, -1.9298e-02,  1.0689e-01, -1.5738e-03, -1.8595e-02, -2.2920e-02,  1.4211e-02, -5.1551e-03,  2.0210e-02,\n",
      "        -3.3711e-02, -1.5559e-04, -2.1343e-02, -3.5174e-02,  1.1779e-02,  5.1148e-02, -1.2982e-02, -2.1692e-02,  7.8271e-02, -3.5381e-02, -3.8448e-02,\n",
      "         9.6016e-03, -6.7255e-03,  5.8114e-03, -5.6279e-02,  2.6168e-04, -4.0788e-02, -4.2958e-02, -9.1996e-03, -5.0643e-02, -4.1005e-02, -2.5153e-02,\n",
      "        -1.2127e-02,  7.8798e-02, -4.6826e-02, -1.5862e-02, -9.6544e-03, -3.1825e-02,  6.4968e-02, -3.1436e-02, -1.7000e-02, -1.6648e-02, -1.4757e-02,\n",
      "        -1.5805e-02,  9.0810e-03,  9.4040e-03, -3.3753e-02,  6.3452e-04,  7.3392e-02, -5.0645e-02, -4.2544e-02,  9.7208e-03, -9.9735e-03,  5.5915e-03,\n",
      "        -5.7959e-03,  1.6448e-01,  2.0108e-02,  6.3646e-02,  1.6370e-02, -3.3218e-02, -2.6304e-02, -1.9958e-02, -6.3815e-02,  7.5356e-03,  4.5663e-03,\n",
      "         1.3136e-03, -1.0402e-02,  3.8053e-02,  7.0196e-04,  9.4483e-04,  1.3913e-02, -2.6980e-02, -2.3522e-02,  4.9622e-03, -1.1494e-02,  1.4401e-02,\n",
      "        -4.9755e-03, -8.6587e-03,  7.1142e-02, -4.5387e-02,  1.4136e-02, -1.7006e-02, -3.4212e-02, -1.8553e-02, -2.4275e-02, -2.8822e-02,  1.5572e-02,\n",
      "        -2.3782e-02,  5.2901e-02,  1.6651e-02, -4.2115e-02,  6.9821e-02,  6.3377e-03,  9.0779e-03,  5.1999e-03, -2.3365e-02,  4.2752e-03,  3.4921e-02,\n",
      "        -3.1258e-02, -3.0833e-02,  5.4267e-03, -7.3081e-03,  1.2640e-01, -9.6734e-03, -3.0745e-02,  7.7391e-04,  2.4741e-03, -4.4391e-02, -1.7485e-02,\n",
      "        -8.3873e-03, -2.6635e-02,  5.6104e-02, -2.1106e-02, -1.8000e-04,  1.2029e-02,  5.6751e-03, -3.4722e-02,  7.2248e-04, -1.5109e-02, -1.1134e-03,\n",
      "        -4.8961e-02, -2.9153e-04,  7.4858e-04, -9.6687e-04, -1.4501e-02, -4.3331e-03, -4.2104e-03, -3.3967e-03, -2.9223e-02, -3.8721e-02, -6.2114e-03,\n",
      "        -2.9403e-02, -8.0047e-03, -3.0913e-02, -3.1304e-02, -1.6648e-02, -4.1614e-02, -1.4488e-02, -3.4928e-02,  3.9130e-02,  5.7898e-04,  1.8926e-03,\n",
      "        -3.7104e-02,  2.7346e-02, -3.8859e-02,  2.2176e-02,  1.7208e-02, -9.5902e-03,  9.5996e-02, -3.7762e-02,  9.8961e-03,  5.1386e-03, -3.2295e-02,\n",
      "         1.0903e-01, -4.2052e-02,  4.5620e-03, -3.0773e-02, -6.8575e-03,  1.6865e-01, -9.7075e-03, -3.5676e-02,  1.2951e-02,  5.7255e-03,  1.4383e-01,\n",
      "        -3.0977e-02, -8.6057e-03,  4.0851e-02,  2.3793e-02, -1.9031e-02, -2.7648e-02,  5.9928e-03, -3.6858e-02,  8.8400e-03, -4.0726e-02, -2.8242e-02,\n",
      "         4.4956e-02, -1.9128e-02, -3.6800e-03, -1.7506e-03,  3.4088e-02,  2.1414e-02,  3.1057e-03, -3.5703e-02, -1.0599e-02,  1.2028e-02, -4.1208e-02,\n",
      "         7.4910e-03,  1.5938e-02,  9.6048e-03, -1.2993e-03,  6.6570e-03,  6.2191e-03, -2.1287e-02, -1.3006e-02, -4.1152e-02, -6.5390e-03, -3.9864e-02,\n",
      "        -2.6360e-02, -4.9868e-02, -7.8919e-03, -4.6411e-02, -1.9829e-02, -3.1221e-02, -9.6051e-03, -4.0117e-02,  1.1281e-01, -1.9844e-02, -2.5001e-02,\n",
      "        -3.0303e-02, -4.0074e-02,  4.7911e-03,  1.1902e-02, -2.8395e-02,  2.4985e-04, -4.0868e-03, -1.5135e-02,  1.3019e-02, -4.1745e-02, -2.8163e-02,\n",
      "        -3.8225e-02,  5.9828e-02, -2.4813e-02, -5.4144e-03,  1.6031e-02,  2.7482e-02, -6.4449e-03,  5.9671e-02, -3.3039e-04, -4.4740e-02, -4.2124e-02,\n",
      "         1.2320e-02, -4.3033e-02, -8.7056e-03, -1.0111e-02, -1.6174e-02, -6.3197e-03, -1.1087e-02,  5.1475e-02,  6.2392e-02, -3.5978e-02,  5.2880e-03,\n",
      "         1.5052e-03, -1.2434e-02, -3.1050e-02, -1.9285e-02,  1.6289e-02,  2.5831e-02, -3.3520e-02, -2.1953e-02,  1.6939e-02, -3.6764e-02, -2.1626e-02,\n",
      "         5.5402e-02,  6.5594e-02, -3.4184e-02, -3.3728e-02, -2.5132e-02, -2.2437e-02, -1.3955e-02, -7.3775e-03,  2.5528e-02,  1.7481e-02, -6.9460e-03,\n",
      "         8.8765e-03,  1.4737e-02, -5.5137e-02,  1.0032e-01,  1.2401e-01, -4.9040e-03, -3.8716e-02,  1.3454e-04, -1.8578e-02, -1.6949e-02, -1.9672e-02,\n",
      "         1.6487e-02, -4.1009e-02, -2.0397e-02,  1.1251e-02, -1.7503e-03, -3.7941e-02, -3.7706e-02, -1.1120e-02, -2.4876e-02, -3.0408e-02, -4.3618e-02,\n",
      "         3.0038e-02, -2.8531e-02, -1.7998e-02,  2.0577e-01, -1.7170e-02, -4.3036e-02, -3.9357e-02, -3.7636e-02,  5.2591e-02, -2.6262e-02,  1.2352e-02,\n",
      "         7.5426e-03,  3.1431e-02, -4.6501e-02, -2.0360e-02, -1.0778e-03, -1.8395e-02, -3.4067e-02, -4.2863e-02, -9.4156e-03, -3.7105e-02, -1.9979e-02,\n",
      "         6.5394e-02, -3.4673e-02,  3.9803e-02,  4.5055e-03,  7.4146e-03, -1.3618e-02,  1.4106e-02, -3.8407e-02, -2.3233e-02, -4.0038e-02, -2.1549e-02,\n",
      "         1.5175e-02,  5.3688e-03,  5.0253e-02, -3.3722e-02,  1.0655e-02, -4.2227e-02, -3.6116e-02,  3.7204e-03, -2.6791e-02, -2.2552e-02, -5.6071e-03,\n",
      "        -2.0107e-02, -1.3844e-02, -7.3679e-03,  2.7012e-02,  4.7547e-02, -6.9500e-03, -3.8595e-03,  1.0985e-02,  5.2603e-03,  1.4783e-02, -3.7647e-02,\n",
      "         7.7151e-03,  4.8589e-02, -1.7047e-02,  2.7939e-02, -2.2746e-04, -2.4418e-02,  1.4106e-02, -1.9177e-02, -4.3016e-02, -9.1441e-03,  7.0549e-03,\n",
      "        -3.9409e-02, -4.2561e-02, -1.8416e-03, -3.7190e-02,  1.0258e-01,  5.1159e-03,  4.5450e-02, -1.9032e-02, -3.8088e-02, -3.5339e-02,  9.8537e-02,\n",
      "         2.0607e-03,  5.5216e-02, -9.4070e-04,  1.1772e-02, -3.9204e-02, -4.6490e-03, -1.9289e-02, -4.8754e-02, -4.3913e-02,  2.8969e-04,  2.8972e-02,\n",
      "        -3.9004e-02, -4.2455e-02,  4.3872e-02, -2.8244e-02, -3.7907e-02, -1.3529e-03, -2.2120e-02, -1.3400e-02,  3.6946e-02, -9.0772e-03, -1.6639e-02,\n",
      "        -3.1201e-02, -3.6255e-02, -4.7184e-02, -1.6045e-02, -3.5559e-02, -6.6108e-03, -9.4101e-03, -2.5036e-02, -4.0131e-02,  1.8029e-02,  4.9223e-02,\n",
      "        -4.1989e-03, -3.5294e-02, -2.3758e-02,  1.0504e-02,  4.0035e-03, -3.0744e-02,  4.6402e-02, -4.3234e-02, -1.7869e-03, -3.5002e-02, -7.7038e-03,\n",
      "         7.3142e-02, -1.5539e-02, -3.1800e-02, -2.3832e-02, -1.7470e-02, -2.6300e-02, -3.2353e-02, -2.8317e-02, -3.7396e-02, -9.5270e-05,  2.0507e-02,\n",
      "        -2.6591e-02, -2.0516e-02,  9.1767e-02,  2.7889e-02, -4.2240e-02,  3.1150e-04, -6.4172e-03, -1.0126e-02, -4.5017e-02,  1.1854e-02,  3.6414e-02,\n",
      "         2.1550e-02, -3.0959e-02,  7.9444e-03, -3.3790e-02, -3.7865e-02,  1.9425e-02,  3.8599e-03, -1.7026e-02,  1.4553e-02, -1.6263e-02,  5.6924e-02,\n",
      "         6.9905e-03, -1.8092e-02, -1.2853e-02,  1.5524e-02,  7.9630e-03,  1.3185e-02,  1.0744e-02,  2.2462e-02,  7.0290e-03,  4.1560e-02,  3.9818e-02,\n",
      "         1.9356e-02,  2.5513e-02, -9.4197e-03, -1.5130e-02,  4.0422e-02,  8.9797e-03,  2.9863e-02, -9.3367e-04, -1.2921e-02, -2.9329e-02,  5.7821e-02,\n",
      "        -7.9330e-03, -7.3657e-03, -1.2795e-02, -2.1536e-02, -1.9502e-02, -3.8758e-02, -3.6834e-02,  1.5972e-02, -2.7422e-02, -3.2030e-02,  1.2554e-01,\n",
      "         5.6402e-03,  1.7970e-03,  3.5665e-02,  3.4738e-03, -1.0996e-02, -4.3083e-02, -1.1274e-02, -4.7112e-02,  1.3241e-02, -2.8735e-02, -4.6953e-02,\n",
      "        -4.2092e-02, -6.3115e-03,  4.0276e-03,  1.2589e-02,  1.6610e-02,  1.4116e-02, -9.8048e-03, -3.1900e-02, -1.1936e-02,  8.2707e-02,  3.0368e-02,\n",
      "         3.1753e-03, -9.0501e-04, -3.3780e-02, -4.1129e-02,  3.7208e-02, -4.2306e-02, -2.4539e-02,  5.7137e-02, -5.4103e-02, -3.4644e-02,  1.1912e-02,\n",
      "        -2.6621e-02,  6.4183e-03,  6.9413e-03, -3.5032e-02,  4.8939e-03, -5.7120e-03], device='cuda:0', requires_grad=True), Parameter containing:\n",
      "tensor([[ 0.0811,  0.0131,  0.0193,  ..., -0.0802,  0.0530,  0.0338],\n",
      "        [ 0.0202,  0.0128,  0.0426,  ...,  0.0575, -0.0115,  0.1325],\n",
      "        [ 0.0340,  0.0013,  0.0369,  ..., -0.0365, -0.0652, -0.0824],\n",
      "        ...,\n",
      "        [-0.0170, -0.0787, -0.0204,  ...,  0.0212, -0.0634, -0.0794],\n",
      "        [ 0.0922,  0.0426, -0.0130,  ...,  0.0598, -0.0245, -0.0089],\n",
      "        [-0.0906, -0.0722,  0.0129,  ..., -0.0585, -0.0311, -0.0281]], device='cuda:0', requires_grad=True), Parameter containing:\n",
      "tensor([ 0.0115,  0.0167, -0.0043,  0.0541,  0.0257, -0.0704, -0.0106, -0.0703, -0.0095,  0.0921,  0.0578,  0.0229,  0.0057,  0.0164, -0.0079,\n",
      "         0.0277,  0.0375, -0.0403,  0.0003, -0.0460, -0.0712, -0.0469,  0.0324,  0.0169,  0.0238, -0.0378, -0.0641,  0.0017,  0.0878,  0.0666,\n",
      "        -0.0262,  0.0136, -0.0365,  0.0456, -0.0446, -0.0341,  0.0349, -0.0111,  0.0073, -0.0139, -0.0192, -0.0452,  0.0955, -0.0072,  0.0242,\n",
      "         0.0174, -0.0236,  0.0280,  0.0125,  0.0736,  0.0020,  0.0235, -0.0113,  0.0545, -0.0195, -0.0820,  0.0106,  0.0048, -0.0355,  0.0509,\n",
      "         0.0096, -0.0137,  0.0281, -0.0085, -0.0187,  0.0035,  0.0480, -0.0341,  0.0509, -0.0294,  0.0590, -0.0579, -0.0021,  0.0148,  0.0397,\n",
      "        -0.0335,  0.0147,  0.0009, -0.0901, -0.0577,  0.0224,  0.0090,  0.0185,  0.0147, -0.0533,  0.0439, -0.0344, -0.0190, -0.0514,  0.0086,\n",
      "        -0.0082, -0.0612, -0.0258,  0.0332,  0.0187, -0.0182, -0.0440, -0.0196, -0.0367, -0.0120,  0.0194,  0.0048, -0.0235,  0.0356,  0.0381,\n",
      "         0.0145,  0.0194, -0.0349, -0.0031, -0.0035,  0.0485, -0.1471, -0.0131, -0.0462, -0.0419, -0.0027, -0.0073,  0.0413, -0.0280, -0.0623,\n",
      "         0.0150, -0.0483,  0.0150,  0.0121,  0.0556, -0.0404, -0.0194,  0.0061,  0.0570, -0.0292, -0.0090, -0.0014,  0.0363, -0.0932,  0.0123,\n",
      "         0.0266,  0.0199, -0.0139, -0.0337,  0.0783,  0.1077,  0.0285,  0.0180,  0.0365,  0.0007, -0.0614,  0.0766, -0.0323, -0.0024, -0.0061],\n",
      "       device='cuda:0', requires_grad=True), Parameter containing:\n",
      "tensor([[-0.0887,  0.0185,  0.0666,  ...,  0.0862,  0.2148, -0.0568],\n",
      "        [ 0.0817, -0.1674, -0.0011,  ...,  0.0109,  0.0713, -0.0479],\n",
      "        [-0.0974,  0.0154, -0.0080,  ...,  0.0670,  0.0789, -0.0526],\n",
      "        ...,\n",
      "        [-0.0196,  0.0508, -0.1466,  ..., -0.0856,  0.0726,  0.0614],\n",
      "        [ 0.0180, -0.0219, -0.0112,  ...,  0.0435,  0.1596,  0.1169],\n",
      "        [ 0.1353,  0.0036, -0.0505,  ...,  0.0704, -0.0289,  0.2012]], device='cuda:0', requires_grad=True), Parameter containing:\n",
      "tensor([ 4.9289e-02,  1.2644e-01,  3.1985e-03, -4.0337e-02, -1.7271e-02,  6.6858e-02,  6.7183e-01, -2.5351e-01, -2.0374e-01, -5.5713e-02,  1.9572e-01,\n",
      "        -6.1475e-02, -2.6310e-02, -1.5228e-02, -6.2559e-02, -4.4826e-02, -1.4373e-01, -2.5959e-01,  1.4760e-02, -4.2597e-01, -3.3941e-01, -3.9466e-01,\n",
      "         6.1798e-02, -2.9050e-01,  4.0570e-02, -3.9314e-01, -2.6945e-01,  6.5867e-01, -1.5529e-02,  5.8729e-02, -1.8818e-01, -3.2208e-02,  3.1199e-01,\n",
      "        -6.2414e-02,  1.1524e-01, -3.4147e-01,  1.6837e-03,  1.5559e-01, -1.5097e-01, -6.8084e-01,  4.0800e-01,  3.8798e-02, -2.7962e-02, -3.6459e-01,\n",
      "        -4.2432e-02, -5.9430e-01,  4.6425e-01,  2.6826e-01, -3.6268e-02, -2.9346e-02, -1.3596e-01, -9.8297e-02, -1.6459e-01,  5.5463e-02,  4.4911e-02,\n",
      "        -3.0265e-02, -2.2209e-01, -3.3868e-01, -6.0909e-02,  2.8011e-02,  2.8433e-01, -2.3540e-02,  5.5104e-02, -2.0925e-01,  1.5338e-01,  2.7602e-02,\n",
      "        -4.3041e-02, -1.9827e-01,  6.4720e-02, -1.2047e-01,  3.8774e-02,  1.5566e-01, -8.7699e-02, -4.0433e-01, -4.3007e-01,  1.4668e-01, -2.3151e-02,\n",
      "        -3.3728e-01, -1.0982e-01, -2.4218e-02,  1.8390e-03, -7.9102e-02, -2.8563e-01,  3.1726e-02,  6.8458e-02,  7.4283e-03, -5.1563e-02, -1.3825e-01,\n",
      "        -8.0022e-02,  2.8197e-01, -4.1793e-02, -2.4552e-01,  1.4527e-01,  6.1403e-02, -1.2890e-01, -3.3875e-01,  2.0078e-02, -4.4931e-01, -2.1912e-01,\n",
      "        -2.7923e-01, -3.2770e-01, -3.5000e-01, -2.4132e-01, -2.0076e-02, -6.1403e-02, -3.8259e-01, -4.3984e-01, -1.4396e-01, -3.1443e-02,  3.3508e-02,\n",
      "         1.1581e-01,  5.6836e-02, -1.7673e-01,  4.7217e-02,  1.4314e-01,  2.0263e-01, -4.9382e-02, -2.2173e-02, -1.2828e-01,  6.3786e-01,  5.1901e-02,\n",
      "         1.0651e-02, -1.1605e-01, -4.0611e-01, -5.1001e-02,  7.7350e-02, -9.1798e-02, -2.1669e-01, -2.5519e-01,  1.5345e-01, -8.6226e-02, -7.5382e-02,\n",
      "        -1.8561e-01,  2.7959e-01, -2.8110e-01,  2.1306e-01, -3.1911e-03, -2.9285e-02, -2.5331e-01, -4.3642e-01,  6.0604e-01, -3.7835e-02, -3.0561e-01,\n",
      "         9.1712e-02,  8.1875e-03, -9.4033e-05, -3.5478e-02, -2.6714e-01,  1.0888e-01, -1.1847e-01, -1.7954e-01,  2.5447e-02,  2.0304e-02, -4.0212e-03,\n",
      "        -3.0852e-01,  2.9823e-02, -1.8336e-01, -3.7765e-03,  2.2411e-02, -1.9765e-01, -3.0026e-01,  1.0392e-01, -4.1594e-02, -1.2328e-01, -1.9564e-01,\n",
      "         4.5662e-02, -1.1854e-01, -4.8884e-03,  6.6991e-03, -2.1679e-01, -5.6343e-02, -4.6830e-03,  1.1857e-01,  2.8720e-01, -3.0079e-01,  6.5094e-02,\n",
      "         2.0655e-01, -3.3736e-01, -2.0085e-01,  2.9386e-01, -4.3524e-01,  4.0441e-01, -5.4336e-02, -2.8579e-01,  4.5559e-01,  2.4776e-02,  4.3851e-01,\n",
      "         1.8265e-01, -4.9562e-02, -7.9293e-02,  5.2184e-02,  3.2793e-01, -1.0414e-01,  1.6972e-02, -2.9662e-01,  3.6561e-01,  1.2586e-02, -7.8389e-02,\n",
      "         5.8489e-02, -5.9329e-02, -1.3797e-02,  3.2293e-02, -3.2859e-01, -2.5054e-02, -2.9110e-02, -1.4455e-01, -2.3294e-01,  1.8364e-01, -3.7314e-02,\n",
      "         6.2763e-02,  1.0245e-01,  4.0606e-02, -1.3165e-02,  7.7409e-01, -3.8345e-01, -1.4454e-01,  6.6711e-02, -6.9793e-02, -1.4901e-01, -6.8137e-02,\n",
      "        -4.3173e-01, -2.6154e-01, -4.0968e-01, -5.0323e-02, -3.7529e-01, -5.5291e-02, -2.2016e-01, -7.2039e-02,  6.8162e-02,  5.4292e-02,  4.9440e-01,\n",
      "        -4.4584e-01, -3.6218e-01, -3.5483e-01,  6.0904e-02,  3.5877e-02,  2.2632e-02,  9.0121e-03, -6.0708e-02, -2.7267e-01, -2.8562e-01,  5.0695e-02,\n",
      "         1.1748e-02,  7.9901e-02, -1.9339e-01,  9.8474e-02, -7.1593e-02,  2.7066e-02, -3.9130e-02, -7.7965e-03, -1.6293e-01,  1.2525e-01, -6.6903e-02,\n",
      "         1.3165e-03, -1.7904e-01, -4.0040e-02,  6.1961e-02, -4.4705e-01, -6.8216e-02,  8.7847e-02, -4.7962e-01, -2.8251e-02, -6.0115e-01,  5.1868e-01,\n",
      "         9.0210e-03, -1.9212e-01, -1.3933e-01, -3.9949e-03, -2.4321e-01, -7.1082e-02,  2.7246e-02, -3.0189e-01,  4.6893e-02,  1.0007e-01, -2.6449e-01,\n",
      "        -1.5329e-01,  8.5057e-01, -5.7902e-02, -7.5870e-02, -5.4380e-01, -1.9629e-01, -2.6418e-01,  5.1321e-02, -9.3453e-02, -2.0064e-01, -1.2147e-02,\n",
      "        -3.8313e-01, -1.3773e-01,  7.9485e-01, -2.5987e-01, -3.3181e-03, -8.9632e-02, -6.7174e-02,  1.6350e-01, -4.5345e-02, -1.6883e-01, -1.3525e-02,\n",
      "         1.4906e-01, -1.9336e-01, -2.0322e-01,  3.5727e-02,  1.4322e-01, -7.5908e-02,  9.3230e-02, -1.1750e-01, -1.3491e-02, -1.5816e-01, -7.4985e-02,\n",
      "        -2.6068e-01, -3.0953e-01, -2.0439e-02, -3.4670e-02, -9.5918e-02,  3.9848e-01, -6.0422e-01, -5.7330e-03,  5.9691e-02, -4.0426e-01,  2.0045e-03,\n",
      "        -1.1683e-01, -5.1311e-01, -1.8392e-01, -5.8197e-01, -2.5282e-01, -3.3056e-01, -1.9637e-01, -5.9631e-02,  7.6214e-01, -2.3478e-02,  1.5858e-02,\n",
      "        -1.9770e-01,  6.8829e-02, -1.4612e-01, -1.3834e-01,  1.0770e-01, -1.0984e-01, -4.2551e-01,  4.5874e-02, -4.3962e-02,  1.2784e-01,  3.8928e-01,\n",
      "         1.0343e-01,  1.6479e-01,  7.9567e-03, -2.7529e-01, -6.0142e-03,  7.6083e-02, -7.3371e-03, -1.7296e-01, -4.1365e-01,  9.5494e-02, -1.7726e-01,\n",
      "        -7.9740e-02, -5.2020e-01,  3.3911e-01,  4.0289e-02, -2.9697e-01, -2.0372e-01, -1.1415e-02, -1.4221e-01, -1.0251e-01, -2.4424e-02,  4.8123e-01,\n",
      "        -3.3131e-02, -1.4955e-01, -3.3070e-01, -1.7682e-01,  1.6463e-03, -2.3555e-01, -3.1875e-01,  2.5030e-02, -6.1918e-02, -3.3997e-01, -1.2592e-01,\n",
      "         1.2432e-03, -5.1281e-01,  4.9594e-02,  2.4532e-01, -1.1402e-01, -6.3970e-02, -4.1019e-01, -1.1641e-01, -3.7312e-01,  3.5142e-02,  1.3639e-02,\n",
      "        -1.2008e+00, -1.6545e-01, -2.1217e-03,  1.2744e-02,  6.0251e-03, -4.3234e-02, -1.3272e-02,  2.0037e-01, -1.2302e-01, -6.0479e-02,  4.7001e-02,\n",
      "        -3.3575e-01,  5.0212e-01,  4.9732e-01, -7.5208e-02,  3.6274e-02,  8.7949e-02,  1.0706e-01, -8.8359e-02, -4.3943e-02,  4.4893e-01, -2.7653e-01,\n",
      "        -1.1643e-01, -4.4225e-01,  5.4102e-02,  3.1666e-01, -2.9011e-01, -3.7511e-01,  3.3782e-03, -3.3107e-02,  2.0658e-01,  6.5118e-02,  5.3022e-02,\n",
      "         1.5909e-02,  1.3403e-01, -2.3519e-01, -6.7307e-02,  1.2297e-01, -3.4670e-01,  4.3539e-03, -3.4290e-02,  3.1885e-02, -2.3911e-01, -1.1086e-01,\n",
      "         2.2924e-02, -2.2930e-02,  9.0104e-02, -1.5773e-01,  5.9464e-02,  8.0878e-02, -4.4526e-02,  4.8640e-02, -1.2164e-01, -3.8724e-01,  8.8031e-02,\n",
      "         1.2080e-01,  6.7636e-01,  1.6001e-01,  3.1595e-02,  4.2983e-02,  1.6757e-01,  8.8720e-02,  1.7614e-02, -3.0379e-01, -3.4054e-01, -2.5438e-01,\n",
      "         2.2175e-02, -2.7333e-01, -2.4033e-01, -1.4781e-01,  3.1782e-02, -1.6097e-01, -1.2094e-01,  3.1345e-01, -1.5597e-01, -7.8158e-03,  1.0044e-01,\n",
      "         6.7735e-02, -2.0993e-01, -5.2717e-01,  3.3862e-02,  5.8056e-03, -2.4461e-01, -1.1719e-02, -1.3793e-02, -1.0813e-01, -2.5896e-01, -1.3497e-01,\n",
      "         6.0193e-02, -1.7781e-01, -2.2694e-01,  2.0404e-01,  3.9334e-01, -2.1275e-01, -6.8224e-01,  4.2162e-02,  3.4735e-01, -2.5185e-01, -3.2407e-02,\n",
      "         1.3093e-01, -7.9694e-02,  1.6456e-01, -7.8626e-01, -4.0287e-02, -1.1566e-02, -3.9957e-02, -6.9909e-02,  6.3535e-02,  8.9738e-02, -6.2992e-01,\n",
      "        -5.5480e-02, -2.9312e-02,  4.1180e-02,  7.9211e-02, -2.4888e-01, -1.8194e-01, -1.9829e-01, -2.9754e-01, -5.1762e-01, -5.8974e-02, -1.8554e-02,\n",
      "        -1.2063e-01, -9.2654e-02, -2.0078e-02,  1.1111e-01, -8.8063e-02,  2.0207e-01], device='cuda:0', requires_grad=True), Parameter containing:\n",
      "tensor([[-0.0635,  0.0322,  0.0940,  ...,  0.0747,  0.0403, -0.1253],\n",
      "        [-0.0539, -0.0837,  0.1119,  ..., -0.0057,  0.0912,  0.0343],\n",
      "        [ 0.0316,  0.0161, -0.0290,  ..., -0.0178, -0.0450,  0.0593],\n",
      "        ...,\n",
      "        [-0.1040, -0.0048,  0.1054,  ...,  0.0433, -0.0020,  0.0619],\n",
      "        [ 0.1187,  0.0608, -0.1801,  ...,  0.0619,  0.0745, -0.3151],\n",
      "        [ 0.0996,  0.0055, -0.0552,  ...,  0.1079,  0.0360,  0.0549]], device='cuda:0', requires_grad=True), Parameter containing:\n",
      "tensor([ 0.0147,  0.1497,  0.0556,  ...,  0.0209, -0.2883, -0.0480], device='cuda:0', requires_grad=True), Parameter containing:\n",
      "tensor([[-0.0077, -0.0761, -0.0570,  ..., -0.0483, -0.0377,  0.0366],\n",
      "        [ 0.0091, -0.1053, -0.0541,  ..., -0.0037,  0.0187, -0.0318],\n",
      "        [ 0.0710, -0.0699,  0.0038,  ..., -0.0569, -0.0058, -0.0241],\n",
      "        ...,\n",
      "        [-0.0068, -0.0061, -0.0831,  ...,  0.0210, -0.0137,  0.0143],\n",
      "        [-0.0022,  0.0196, -0.0143,  ...,  0.0428,  0.0260,  0.0461],\n",
      "        [ 0.0543,  0.0473, -0.0398,  ..., -0.0043,  0.0590,  0.0344]], device='cuda:0', requires_grad=True), Parameter containing:\n",
      "tensor([-0.0238, -0.0241,  0.0601,  ..., -0.0549,  0.0922, -0.0486], device='cuda:0', requires_grad=True)] \n",
      " resume_training                 tpye: <class 'bool'>              values: False \n",
      " starting_epoch                  tpye: <class 'int'>               values: 400 \n",
      " ending_epoch                    tpye: <class 'int'>               values: 700 \n",
      " best_metric                     tpye: <class 'float'>             values: -inf \n",
      " best_epoch                      tpye: <class 'int'>               values: -1 \n",
      " new_trn_best                    tpye: <class 'bool'>              values: False \n",
      " batch_count                     tpye: <class 'int'>               values: 39 \n",
      " new_val_best                    tpye: <class 'bool'>              values: True \n"
     ]
    }
   ],
   "source": [
    "# model_attributes = checkpoint['model'].__dict__\n",
    "model_attributes = checkpoint['params']\n",
    "\n",
    "for k,v in model_attributes.items():\n",
    "    if type(v) in [dict]\n",
    "    print(f\" {k:30}  tpye: {str(type(v)):25s}   values: {v if type(v) is not dict else '--'} \")"
   ]
  },
  {
   "cell_type": "code",
   "execution_count": 68,
   "id": "fa393442-87f3-4989-b49e-c63328a599f4",
   "metadata": {
    "execution": {
     "iopub.execute_input": "2024-07-18T18:53:49.920728Z",
     "iopub.status.busy": "2024-07-18T18:53:49.920309Z",
     "iopub.status.idle": "2024-07-18T18:53:49.955656Z",
     "shell.execute_reply": "2024-07-18T18:53:49.954317Z",
     "shell.execute_reply.started": "2024-07-18T18:53:49.920695Z"
    }
   },
   "outputs": [
    {
     "ename": "KeyError",
     "evalue": "'state_dict'",
     "output_type": "error",
     "traceback": [
      "\u001b[0;31m---------------------------------------------------------------------------\u001b[0m",
      "\u001b[0;31mKeyError\u001b[0m                                  Traceback (most recent call last)",
      "Cell \u001b[0;32mIn[68], line 1\u001b[0m\n\u001b[0;32m----> 1\u001b[0m \u001b[43mcheckpoint\u001b[49m\u001b[43m[\u001b[49m\u001b[38;5;124;43m'\u001b[39;49m\u001b[38;5;124;43mstate_dict\u001b[39;49m\u001b[38;5;124;43m'\u001b[39;49m\u001b[43m]\u001b[49m\u001b[38;5;241m.\u001b[39mkeys()\n",
      "\u001b[0;31mKeyError\u001b[0m: 'state_dict'"
     ]
    }
   ],
   "source": [
    "checkpoint['state_dict'].keys()"
   ]
  },
  {
   "cell_type": "code",
   "execution_count": null,
   "id": "75c7c220-c00c-41ef-8b24-9004b6a8c8f7",
   "metadata": {},
   "outputs": [],
   "source": [
    "for key, value in checkpoint.items():\n",
    "    logging.debug(f\"{key:40s}, {str(type(value)):60s}  -- model attr set\")\n",
    "\n",
    "if dryrun:\n",
    "    for key, value in checkpoint['params'].items():\n",
    "        logging.debug(f\"{key:40s}, {str(type(value)):60s}  -- model attr set\")\n",
    "else:\n",
    "    model.load_state_dict(checkpoint['state_dict'])\n",
    "    # model = checkpoint['state_dict']\n",
    "    model.optimizers = {k:v for k,v in checkpoint['optimizers'].items()}\n",
    "    model.schedulers = {k:v for k,v in checkpoint['schedulers'].items()}\n",
    "\n",
    "    for key, value in checkpoint['params'].items():\n",
    "        logging.debug(f\"{key:40s}, {str(type(value)):60s}  -- model attr set\")\n",
    "        model.__dict__[key] = value     \n",
    "    "
   ]
  },
  {
   "cell_type": "code",
   "execution_count": null,
   "id": "72a05777-f1d5-47ae-9211-1612495575ab",
   "metadata": {},
   "outputs": [],
   "source": [
    "    epoch = -1\n",
    "    if filename[-3:] != '.pt':\n",
    "        filename+='.pt'\n",
    "    logging.info(f\" Load model checkpoint from  {filename}\")    \n",
    "    ckpt_file = os.path.join(\"ckpts\", filename)\n",
    "    \n",
    "    try:\n",
    "        checkpoint = torch.load(ckpt_file)\n",
    "    except FileNotFoundError:\n",
    "        Exception(\"Previous state checkpoint not found.\")\n",
    "        print(\"FileNotFound Exception\")\n",
    "    except :\n",
    "        print(\"Other Exception\")\n",
    "        print(sys.exc_info())\n",
    "\n",
    "    for key, value in checkpoint.items():\n",
    "        logging.debug(f\"{key:40s}, {str(type(value)):60s}  -- model attr set\")\n",
    "    \n",
    "    if dryrun:\n",
    "        for key, value in checkpoint['params'].items():\n",
    "            logging.debug(f\"{key:40s}, {str(type(value)):60s}  -- model attr set\")\n",
    "    else:\n",
    "        model.load_state_dict(checkpoint['state_dict'])\n",
    "        # model = checkpoint['state_dict']\n",
    "        model.optimizers = {k:v for k,v in checkpoint['optimizers'].items()}\n",
    "        model.schedulers = {k:v for k,v in checkpoint['schedulers'].items()}\n",
    "\n",
    "        for key, value in checkpoint['params'].items():\n",
    "            logging.debug(f\"{key:40s}, {str(type(value)):60s}  -- model attr set\")\n",
    "            model.__dict__[key] = value     \n",
    "        "
   ]
  },
  {
   "cell_type": "code",
   "execution_count": 42,
   "id": "a5cc1d6d-ebab-45df-8022-97f5b96a47d1",
   "metadata": {
    "execution": {
     "iopub.execute_input": "2024-07-16T15:29:45.676048Z",
     "iopub.status.busy": "2024-07-16T15:29:45.675540Z",
     "iopub.status.idle": "2024-07-16T15:29:45.726031Z",
     "shell.execute_reply": "2024-07-16T15:29:45.725351Z",
     "shell.execute_reply.started": "2024-07-16T15:29:45.676007Z"
    }
   },
   "outputs": [],
   "source": [
    "\n",
    "def init_resume_training(model, args):\n",
    "    if args.ckpt is not None:\n",
    "        model.resume_training = True\n",
    "        model , last_epoch = args.load_checkpoint(model, args.ckpt, verbose = True )  \n",
    "        print(last_epoch, type(model))\n",
    "        print(model)\n",
    "        model.train()\n",
    "        model.device = args.current_device\n",
    "        model = model.to(args.current_device)\n",
    "        # model = model.cuda(device=current_device)\n",
    "        logging.info(f\" Loaded Model device {model.device} -  Last completed epoch : {last_epoch}\")\n",
    "        model.starting_epoch = last_epoch\n",
    "        model.ending_epoch = last_epoch + args.epochs\n",
    "        logging.info(f\" RESUME TRAINING - Run {args.epochs} epochs: epoch {model.starting_epoch+1} to {model.ending_epoch} \")\n",
    "\n",
    "        if 'gen' not in model.training_history:\n",
    "            print('*' * 60)\n",
    "            print(f\" Define self.training_history['gen'] \")\n",
    "            print('*' * 60)\n",
    "            model.training_history['gen'] = {'trn_best_metric' : 0, 'trn_best_metric_ep' : 0, 'trn_best_loss': np.inf, 'trn_best_loss_ep' : 0 ,\n",
    "                                            'val_best_metric' : 0, 'val_best_metric_ep' : 0, 'val_best_loss': np.inf, 'val_best_loss_ep' : 0 }        \n",
    "        \n",
    "            for key in ['trn', 'val']:\n",
    "                tmp = np.argmin(model.training_history[key][f'{key}_ttl_loss'])\n",
    "                model.training_history['gen'][f'{key}_best_loss_ep'] = tmp\n",
    "                model.training_history['gen'][f'{key}_best_loss']    = model.training_history[key][f'{key}_ttl_loss'][tmp]\n",
    "                \n",
    "                tmp1 = np.argmax(model.training_history[key][f'{key}_R2_score'])\n",
    "                model.training_history['gen'][f'{key}_best_metric_ep'] = tmp1\n",
    "                model.training_history['gen'][f'{key}_best_metric'] = model.training_history[key][f'{key}_R2_score'][tmp1]\n",
    "        \n",
    "    else:\n",
    "        model.resume_training = False\n",
    "        model.starting_epoch = 0\n",
    "        model.ending_epoch = args.epochs\n",
    "        logging.info(f\" INITIALIZE TRAINING - Run {args.epochs} epochs: epoch {model.starting_epoch+1} to {model.ending_epoch} \")\n",
    "\n",
    "    model.best_metric = model.training_history['gen'][f'val_best_metric']  \n",
    "    model.best_epoch  = model.training_history['gen'][f'val_best_metric_ep']  \n",
    "    return model"
   ]
  }
 ],
 "metadata": {
  "kernelspec": {
   "display_name": "Python [conda env:ptsnnl]",
   "language": "python",
   "name": "conda-env-ptsnnl-py"
  },
  "language_info": {
   "codemirror_mode": {
    "name": "ipython",
    "version": 3
   },
   "file_extension": ".py",
   "mimetype": "text/x-python",
   "name": "python",
   "nbconvert_exporter": "python",
   "pygments_lexer": "ipython3",
   "version": "3.11.0"
  },
  "toc": {
   "base_numbering": 1,
   "nav_menu": {},
   "number_sections": true,
   "sideBar": true,
   "skip_h1_title": false,
   "title_cell": "Table of Contents",
   "title_sidebar": "Contents",
   "toc_cell": false,
   "toc_position": {},
   "toc_section_display": true,
   "toc_window_display": false
  }
 },
 "nbformat": 4,
 "nbformat_minor": 5
}
